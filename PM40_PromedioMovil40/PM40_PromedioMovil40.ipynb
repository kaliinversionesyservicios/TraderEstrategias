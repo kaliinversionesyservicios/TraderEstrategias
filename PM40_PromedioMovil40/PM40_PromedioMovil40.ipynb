{
 "cells": [
  {
   "cell_type": "markdown",
   "id": "b35c8a88-6a78-4301-9093-219c00c77439",
   "metadata": {
    "papermill": {
     "duration": 0.004898,
     "end_time": "2025-06-11T15:14:21.357075",
     "exception": false,
     "start_time": "2025-06-11T15:14:21.352177",
     "status": "completed"
    },
    "tags": []
   },
   "source": [
    "## Estrategia de Promedio Movil de 40"
   ]
  },
  {
   "cell_type": "markdown",
   "id": "b7d718db-91d1-4aeb-890e-19c6cd8147d5",
   "metadata": {
    "papermill": {
     "duration": 0.00389,
     "end_time": "2025-06-11T15:14:21.365115",
     "exception": false,
     "start_time": "2025-06-11T15:14:21.361225",
     "status": "completed"
    },
    "tags": []
   },
   "source": [
    "###### 1. PM20 debe estar por encima del PM40 en HORA\n",
    "###### 2. Estar en una tendencia Alcista: el PM de 20 sobre el PM de 40 y el de 40 por encima del PM de 100 y este ultimo por encima del PM de 200, (mandatorio debe de ser 20 sobre 40) El PM de 20 y de 40 deben verse paralelos como lineas de ferrocarril.\n",
    "###### 3. Necesito una caida debemos estar cerca o tocar el PM de 40 en hora \n",
    "Que los precios toquen o se acerquen al PM de 4 \n",
    "Trazo una linea bajista siquiendo la cai a\n",
    "Cuando una vela verde Alcista, vela final rompe la linea baji ta\n",
    "despues de las 11:00am se compra un call for 1, 2 days, buy 10 cont y ponle el l mit\n",
    "Cuando los precios estan lejos del PM40 es zona cara, y cerca del PM de 40 es zona b rata\n",
    "La mayoria de las veces el mercado sube 1, 2 dias maximo y despues cae nuevamente"
   ]
  },
  {
   "cell_type": "code",
   "execution_count": 1,
   "id": "c1419602-f4c4-4654-b46a-a2880e633d3d",
   "metadata": {
    "execution": {
     "iopub.execute_input": "2025-06-11T15:14:21.374423Z",
     "iopub.status.busy": "2025-06-11T15:14:21.373887Z",
     "iopub.status.idle": "2025-06-11T15:14:22.747703Z",
     "shell.execute_reply": "2025-06-11T15:14:22.747161Z"
    },
    "papermill": {
     "duration": 1.379699,
     "end_time": "2025-06-11T15:14:22.748685",
     "exception": false,
     "start_time": "2025-06-11T15:14:21.368986",
     "status": "completed"
    },
    "tags": []
   },
   "outputs": [
    {
     "name": "stderr",
     "output_type": "stream",
     "text": [
      "/usr/share/miniconda/envs/test/lib/python3.10/site-packages/tqdm/auto.py:21: TqdmWarning: IProgress not found. Please update jupyter and ipywidgets. See https://ipywidgets.readthedocs.io/en/stable/user_install.html\n",
      "  from .autonotebook import tqdm as notebook_tqdm\n",
      "/usr/share/miniconda/envs/test/lib/python3.10/site-packages/backtesting/_plotting.py:55: UserWarning: Jupyter Notebook detected. Setting Bokeh output to notebook. This may not work in Jupyter clients without JavaScript support, such as old IDEs. Reset with `backtesting.set_bokeh_output(notebook=False)`.\n",
      "  warnings.warn('Jupyter Notebook detected. '\n"
     ]
    },
    {
     "data": {
      "text/html": [
       "    <style>\n",
       "        .bk-notebook-logo {\n",
       "            display: block;\n",
       "            width: 20px;\n",
       "            height: 20px;\n",
       "            background-image: url(data:image/png;base64,iVBORw0KGgoAAAANSUhEUgAAABQAAAAUCAYAAACNiR0NAAAABHNCSVQICAgIfAhkiAAAAAlwSFlzAAALEgAACxIB0t1+/AAAABx0RVh0U29mdHdhcmUAQWRvYmUgRmlyZXdvcmtzIENTNui8sowAAAOkSURBVDiNjZRtaJVlGMd/1/08zzln5zjP1LWcU9N0NkN8m2CYjpgQYQXqSs0I84OLIC0hkEKoPtiH3gmKoiJDU7QpLgoLjLIQCpEsNJ1vqUOdO7ppbuec5+V+rj4ctwzd8IIbbi6u+8f1539dt3A78eXC7QizUF7gyV1fD1Yqg4JWz84yffhm0qkFqBogB9rM8tZdtwVsPUhWhGcFJngGeWrPzHm5oaMmkfEg1usvLFyc8jLRqDOMru7AyC8saQr7GG7f5fvDeH7Ej8CM66nIF+8yngt6HWaKh7k49Soy9nXurCi1o3qUbS3zWfrYeQDTB/Qj6kX6Ybhw4B+bOYoLKCC9H3Nu/leUTZ1JdRWkkn2ldcCamzrcf47KKXdAJllSlxAOkRgyHsGC/zRday5Qld9DyoM4/q/rUoy/CXh3jzOu3bHUVZeU+DEn8FInkPBFlu3+nW3Nw0mk6vCDiWg8CeJaxEwuHS3+z5RgY+YBR6V1Z1nxSOfoaPa4LASWxxdNp+VWTk7+4vzaou8v8PN+xo+KY2xsw6une2frhw05CTYOmQvsEhjhWjn0bmXPjpE1+kplmmkP3suftwTubK9Vq22qKmrBhpY4jvd5afdRA3wGjFAgcnTK2s4hY0/GPNIb0nErGMCRxWOOX64Z8RAC4oCXdklmEvcL8o0BfkNK4lUg9HTl+oPlQxdNo3Mg4Nv175e/1LDGzZen30MEjRUtmXSfiTVu1kK8W4txyV6BMKlbgk3lMwYCiusNy9fVfvvwMxv8Ynl6vxoByANLTWplvuj/nF9m2+PDtt1eiHPBr1oIfhCChQMBw6Aw0UulqTKZdfVvfG7VcfIqLG9bcldL/+pdWTLxLUy8Qq38heUIjh4XlzZxzQm19lLFlr8vdQ97rjZVOLf8nclzckbcD4wxXMidpX30sFd37Fv/GtwwhzhxGVAprjbg0gCAEeIgwCZyTV2Z1REEW8O4py0wsjeloKoMr6iCY6dP92H6Vw/oTyICIthibxjm/DfN9lVz8IqtqKYLUXfoKVMVQVVJOElGjrnnUt9T9wbgp8AyYKaGlqingHZU/uG2NTZSVqwHQTWkx9hxjkpWDaCg6Ckj5qebgBVbT3V3NNXMSiWSDdGV3hrtzla7J+duwPOToIg42ChPQOQjspnSlp1V+Gjdged7+8UN5CRAV7a5EdFNwCjEaBR27b3W890TE7g24NAP/mMDXRWrGoFPQI9ls/MWO2dWFAar/xcOIImbbpA3zgAAAABJRU5ErkJggg==);\n",
       "        }\n",
       "    </style>\n",
       "    <div>\n",
       "        <a href=\"https://bokeh.org\" target=\"_blank\" class=\"bk-notebook-logo\"></a>\n",
       "        <span id=\"d09c3a0f-692e-4987-a471-20b9c6e692da\">Loading BokehJS ...</span>\n",
       "    </div>\n"
      ]
     },
     "metadata": {},
     "output_type": "display_data"
    },
    {
     "data": {
      "application/javascript": [
       "'use strict';\n",
       "(function(root) {\n",
       "  function now() {\n",
       "    return new Date();\n",
       "  }\n",
       "\n",
       "  const force = true;\n",
       "\n",
       "  if (typeof root._bokeh_onload_callbacks === \"undefined\" || force === true) {\n",
       "    root._bokeh_onload_callbacks = [];\n",
       "    root._bokeh_is_loading = undefined;\n",
       "  }\n",
       "\n",
       "const JS_MIME_TYPE = 'application/javascript';\n",
       "  const HTML_MIME_TYPE = 'text/html';\n",
       "  const EXEC_MIME_TYPE = 'application/vnd.bokehjs_exec.v0+json';\n",
       "  const CLASS_NAME = 'output_bokeh rendered_html';\n",
       "\n",
       "  /**\n",
       "   * Render data to the DOM node\n",
       "   */\n",
       "  function render(props, node) {\n",
       "    const script = document.createElement(\"script\");\n",
       "    node.appendChild(script);\n",
       "  }\n",
       "\n",
       "  /**\n",
       "   * Handle when an output is cleared or removed\n",
       "   */\n",
       "  function handleClearOutput(event, handle) {\n",
       "    function drop(id) {\n",
       "      const view = Bokeh.index.get_by_id(id)\n",
       "      if (view != null) {\n",
       "        view.model.document.clear()\n",
       "        Bokeh.index.delete(view)\n",
       "      }\n",
       "    }\n",
       "\n",
       "    const cell = handle.cell;\n",
       "\n",
       "    const id = cell.output_area._bokeh_element_id;\n",
       "    const server_id = cell.output_area._bokeh_server_id;\n",
       "\n",
       "    // Clean up Bokeh references\n",
       "    if (id != null) {\n",
       "      drop(id)\n",
       "    }\n",
       "\n",
       "    if (server_id !== undefined) {\n",
       "      // Clean up Bokeh references\n",
       "      const cmd_clean = \"from bokeh.io.state import curstate; print(curstate().uuid_to_server['\" + server_id + \"'].get_sessions()[0].document.roots[0]._id)\";\n",
       "      cell.notebook.kernel.execute(cmd_clean, {\n",
       "        iopub: {\n",
       "          output: function(msg) {\n",
       "            const id = msg.content.text.trim()\n",
       "            drop(id)\n",
       "          }\n",
       "        }\n",
       "      });\n",
       "      // Destroy server and session\n",
       "      const cmd_destroy = \"import bokeh.io.notebook as ion; ion.destroy_server('\" + server_id + \"')\";\n",
       "      cell.notebook.kernel.execute(cmd_destroy);\n",
       "    }\n",
       "  }\n",
       "\n",
       "  /**\n",
       "   * Handle when a new output is added\n",
       "   */\n",
       "  function handleAddOutput(event, handle) {\n",
       "    const output_area = handle.output_area;\n",
       "    const output = handle.output;\n",
       "\n",
       "    // limit handleAddOutput to display_data with EXEC_MIME_TYPE content only\n",
       "    if ((output.output_type != \"display_data\") || (!Object.prototype.hasOwnProperty.call(output.data, EXEC_MIME_TYPE))) {\n",
       "      return\n",
       "    }\n",
       "\n",
       "    const toinsert = output_area.element.find(\".\" + CLASS_NAME.split(' ')[0]);\n",
       "\n",
       "    if (output.metadata[EXEC_MIME_TYPE][\"id\"] !== undefined) {\n",
       "      toinsert[toinsert.length - 1].firstChild.textContent = output.data[JS_MIME_TYPE];\n",
       "      // store reference to embed id on output_area\n",
       "      output_area._bokeh_element_id = output.metadata[EXEC_MIME_TYPE][\"id\"];\n",
       "    }\n",
       "    if (output.metadata[EXEC_MIME_TYPE][\"server_id\"] !== undefined) {\n",
       "      const bk_div = document.createElement(\"div\");\n",
       "      bk_div.innerHTML = output.data[HTML_MIME_TYPE];\n",
       "      const script_attrs = bk_div.children[0].attributes;\n",
       "      for (let i = 0; i < script_attrs.length; i++) {\n",
       "        toinsert[toinsert.length - 1].firstChild.setAttribute(script_attrs[i].name, script_attrs[i].value);\n",
       "        toinsert[toinsert.length - 1].firstChild.textContent = bk_div.children[0].textContent\n",
       "      }\n",
       "      // store reference to server id on output_area\n",
       "      output_area._bokeh_server_id = output.metadata[EXEC_MIME_TYPE][\"server_id\"];\n",
       "    }\n",
       "  }\n",
       "\n",
       "  function register_renderer(events, OutputArea) {\n",
       "\n",
       "    function append_mime(data, metadata, element) {\n",
       "      // create a DOM node to render to\n",
       "      const toinsert = this.create_output_subarea(\n",
       "        metadata,\n",
       "        CLASS_NAME,\n",
       "        EXEC_MIME_TYPE\n",
       "      );\n",
       "      this.keyboard_manager.register_events(toinsert);\n",
       "      // Render to node\n",
       "      const props = {data: data, metadata: metadata[EXEC_MIME_TYPE]};\n",
       "      render(props, toinsert[toinsert.length - 1]);\n",
       "      element.append(toinsert);\n",
       "      return toinsert\n",
       "    }\n",
       "\n",
       "    /* Handle when an output is cleared or removed */\n",
       "    events.on('clear_output.CodeCell', handleClearOutput);\n",
       "    events.on('delete.Cell', handleClearOutput);\n",
       "\n",
       "    /* Handle when a new output is added */\n",
       "    events.on('output_added.OutputArea', handleAddOutput);\n",
       "\n",
       "    /**\n",
       "     * Register the mime type and append_mime function with output_area\n",
       "     */\n",
       "    OutputArea.prototype.register_mime_type(EXEC_MIME_TYPE, append_mime, {\n",
       "      /* Is output safe? */\n",
       "      safe: true,\n",
       "      /* Index of renderer in `output_area.display_order` */\n",
       "      index: 0\n",
       "    });\n",
       "  }\n",
       "\n",
       "  // register the mime type if in Jupyter Notebook environment and previously unregistered\n",
       "  if (root.Jupyter !== undefined) {\n",
       "    const events = require('base/js/events');\n",
       "    const OutputArea = require('notebook/js/outputarea').OutputArea;\n",
       "\n",
       "    if (OutputArea.prototype.mime_types().indexOf(EXEC_MIME_TYPE) == -1) {\n",
       "      register_renderer(events, OutputArea);\n",
       "    }\n",
       "  }\n",
       "  if (typeof (root._bokeh_timeout) === \"undefined\" || force === true) {\n",
       "    root._bokeh_timeout = Date.now() + 5000;\n",
       "    root._bokeh_failed_load = false;\n",
       "  }\n",
       "\n",
       "  const NB_LOAD_WARNING = {'data': {'text/html':\n",
       "     \"<div style='background-color: #fdd'>\\n\"+\n",
       "     \"<p>\\n\"+\n",
       "     \"BokehJS does not appear to have successfully loaded. If loading BokehJS from CDN, this \\n\"+\n",
       "     \"may be due to a slow or bad network connection. Possible fixes:\\n\"+\n",
       "     \"</p>\\n\"+\n",
       "     \"<ul>\\n\"+\n",
       "     \"<li>re-rerun `output_notebook()` to attempt to load from CDN again, or</li>\\n\"+\n",
       "     \"<li>use INLINE resources instead, as so:</li>\\n\"+\n",
       "     \"</ul>\\n\"+\n",
       "     \"<code>\\n\"+\n",
       "     \"from bokeh.resources import INLINE\\n\"+\n",
       "     \"output_notebook(resources=INLINE)\\n\"+\n",
       "     \"</code>\\n\"+\n",
       "     \"</div>\"}};\n",
       "\n",
       "  function display_loaded(error = null) {\n",
       "    const el = document.getElementById(\"d09c3a0f-692e-4987-a471-20b9c6e692da\");\n",
       "    if (el != null) {\n",
       "      const html = (() => {\n",
       "        if (typeof root.Bokeh === \"undefined\") {\n",
       "          if (error == null) {\n",
       "            return \"BokehJS is loading ...\";\n",
       "          } else {\n",
       "            return \"BokehJS failed to load.\";\n",
       "          }\n",
       "        } else {\n",
       "          const prefix = `BokehJS ${root.Bokeh.version}`;\n",
       "          if (error == null) {\n",
       "            return `${prefix} successfully loaded.`;\n",
       "          } else {\n",
       "            return `${prefix} <b>encountered errors</b> while loading and may not function as expected.`;\n",
       "          }\n",
       "        }\n",
       "      })();\n",
       "      el.innerHTML = html;\n",
       "\n",
       "      if (error != null) {\n",
       "        const wrapper = document.createElement(\"div\");\n",
       "        wrapper.style.overflow = \"auto\";\n",
       "        wrapper.style.height = \"5em\";\n",
       "        wrapper.style.resize = \"vertical\";\n",
       "        const content = document.createElement(\"div\");\n",
       "        content.style.fontFamily = \"monospace\";\n",
       "        content.style.whiteSpace = \"pre-wrap\";\n",
       "        content.style.backgroundColor = \"rgb(255, 221, 221)\";\n",
       "        content.textContent = error.stack ?? error.toString();\n",
       "        wrapper.append(content);\n",
       "        el.append(wrapper);\n",
       "      }\n",
       "    } else if (Date.now() < root._bokeh_timeout) {\n",
       "      setTimeout(() => display_loaded(error), 100);\n",
       "    }\n",
       "  }\n",
       "\n",
       "  function run_callbacks() {\n",
       "    try {\n",
       "      root._bokeh_onload_callbacks.forEach(function(callback) {\n",
       "        if (callback != null)\n",
       "          callback();\n",
       "      });\n",
       "    } finally {\n",
       "      delete root._bokeh_onload_callbacks\n",
       "    }\n",
       "    console.debug(\"Bokeh: all callbacks have finished\");\n",
       "  }\n",
       "\n",
       "  function load_libs(css_urls, js_urls, callback) {\n",
       "    if (css_urls == null) css_urls = [];\n",
       "    if (js_urls == null) js_urls = [];\n",
       "\n",
       "    root._bokeh_onload_callbacks.push(callback);\n",
       "    if (root._bokeh_is_loading > 0) {\n",
       "      console.debug(\"Bokeh: BokehJS is being loaded, scheduling callback at\", now());\n",
       "      return null;\n",
       "    }\n",
       "    if (js_urls == null || js_urls.length === 0) {\n",
       "      run_callbacks();\n",
       "      return null;\n",
       "    }\n",
       "    console.debug(\"Bokeh: BokehJS not loaded, scheduling load and callback at\", now());\n",
       "    root._bokeh_is_loading = css_urls.length + js_urls.length;\n",
       "\n",
       "    function on_load() {\n",
       "      root._bokeh_is_loading--;\n",
       "      if (root._bokeh_is_loading === 0) {\n",
       "        console.debug(\"Bokeh: all BokehJS libraries/stylesheets loaded\");\n",
       "        run_callbacks()\n",
       "      }\n",
       "    }\n",
       "\n",
       "    function on_error(url) {\n",
       "      console.error(\"failed to load \" + url);\n",
       "    }\n",
       "\n",
       "    for (let i = 0; i < css_urls.length; i++) {\n",
       "      const url = css_urls[i];\n",
       "      const element = document.createElement(\"link\");\n",
       "      element.onload = on_load;\n",
       "      element.onerror = on_error.bind(null, url);\n",
       "      element.rel = \"stylesheet\";\n",
       "      element.type = \"text/css\";\n",
       "      element.href = url;\n",
       "      console.debug(\"Bokeh: injecting link tag for BokehJS stylesheet: \", url);\n",
       "      document.body.appendChild(element);\n",
       "    }\n",
       "\n",
       "    for (let i = 0; i < js_urls.length; i++) {\n",
       "      const url = js_urls[i];\n",
       "      const element = document.createElement('script');\n",
       "      element.onload = on_load;\n",
       "      element.onerror = on_error.bind(null, url);\n",
       "      element.async = false;\n",
       "      element.src = url;\n",
       "      console.debug(\"Bokeh: injecting script tag for BokehJS library: \", url);\n",
       "      document.head.appendChild(element);\n",
       "    }\n",
       "  };\n",
       "\n",
       "  function inject_raw_css(css) {\n",
       "    const element = document.createElement(\"style\");\n",
       "    element.appendChild(document.createTextNode(css));\n",
       "    document.body.appendChild(element);\n",
       "  }\n",
       "\n",
       "  const js_urls = [\"https://cdn.bokeh.org/bokeh/release/bokeh-3.7.3.min.js\", \"https://cdn.bokeh.org/bokeh/release/bokeh-gl-3.7.3.min.js\", \"https://cdn.bokeh.org/bokeh/release/bokeh-widgets-3.7.3.min.js\", \"https://cdn.bokeh.org/bokeh/release/bokeh-tables-3.7.3.min.js\", \"https://cdn.bokeh.org/bokeh/release/bokeh-mathjax-3.7.3.min.js\"];\n",
       "  const css_urls = [];\n",
       "\n",
       "  const inline_js = [    function(Bokeh) {\n",
       "      Bokeh.set_log_level(\"info\");\n",
       "    },\n",
       "function(Bokeh) {\n",
       "    }\n",
       "  ];\n",
       "\n",
       "  function run_inline_js() {\n",
       "    if (root.Bokeh !== undefined || force === true) {\n",
       "      try {\n",
       "            for (let i = 0; i < inline_js.length; i++) {\n",
       "      inline_js[i].call(root, root.Bokeh);\n",
       "    }\n",
       "\n",
       "      } catch (error) {display_loaded(error);throw error;\n",
       "      }if (force === true) {\n",
       "        display_loaded();\n",
       "      }} else if (Date.now() < root._bokeh_timeout) {\n",
       "      setTimeout(run_inline_js, 100);\n",
       "    } else if (!root._bokeh_failed_load) {\n",
       "      console.log(\"Bokeh: BokehJS failed to load within specified timeout.\");\n",
       "      root._bokeh_failed_load = true;\n",
       "    } else if (force !== true) {\n",
       "      const cell = $(document.getElementById(\"d09c3a0f-692e-4987-a471-20b9c6e692da\")).parents('.cell').data().cell;\n",
       "      cell.output_area.append_execute_result(NB_LOAD_WARNING)\n",
       "    }\n",
       "  }\n",
       "\n",
       "  if (root._bokeh_is_loading === 0) {\n",
       "    console.debug(\"Bokeh: BokehJS loaded, going straight to plotting\");\n",
       "    run_inline_js();\n",
       "  } else {\n",
       "    load_libs(css_urls, js_urls, function() {\n",
       "      console.debug(\"Bokeh: BokehJS plotting callback run at\", now());\n",
       "      run_inline_js();\n",
       "    });\n",
       "  }\n",
       "}(window));"
      ],
      "application/vnd.bokehjs_load.v0+json": "'use strict';\n(function(root) {\n  function now() {\n    return new Date();\n  }\n\n  const force = true;\n\n  if (typeof root._bokeh_onload_callbacks === \"undefined\" || force === true) {\n    root._bokeh_onload_callbacks = [];\n    root._bokeh_is_loading = undefined;\n  }\n\n\n  if (typeof (root._bokeh_timeout) === \"undefined\" || force === true) {\n    root._bokeh_timeout = Date.now() + 5000;\n    root._bokeh_failed_load = false;\n  }\n\n  const NB_LOAD_WARNING = {'data': {'text/html':\n     \"<div style='background-color: #fdd'>\\n\"+\n     \"<p>\\n\"+\n     \"BokehJS does not appear to have successfully loaded. If loading BokehJS from CDN, this \\n\"+\n     \"may be due to a slow or bad network connection. Possible fixes:\\n\"+\n     \"</p>\\n\"+\n     \"<ul>\\n\"+\n     \"<li>re-rerun `output_notebook()` to attempt to load from CDN again, or</li>\\n\"+\n     \"<li>use INLINE resources instead, as so:</li>\\n\"+\n     \"</ul>\\n\"+\n     \"<code>\\n\"+\n     \"from bokeh.resources import INLINE\\n\"+\n     \"output_notebook(resources=INLINE)\\n\"+\n     \"</code>\\n\"+\n     \"</div>\"}};\n\n  function display_loaded(error = null) {\n    const el = document.getElementById(\"d09c3a0f-692e-4987-a471-20b9c6e692da\");\n    if (el != null) {\n      const html = (() => {\n        if (typeof root.Bokeh === \"undefined\") {\n          if (error == null) {\n            return \"BokehJS is loading ...\";\n          } else {\n            return \"BokehJS failed to load.\";\n          }\n        } else {\n          const prefix = `BokehJS ${root.Bokeh.version}`;\n          if (error == null) {\n            return `${prefix} successfully loaded.`;\n          } else {\n            return `${prefix} <b>encountered errors</b> while loading and may not function as expected.`;\n          }\n        }\n      })();\n      el.innerHTML = html;\n\n      if (error != null) {\n        const wrapper = document.createElement(\"div\");\n        wrapper.style.overflow = \"auto\";\n        wrapper.style.height = \"5em\";\n        wrapper.style.resize = \"vertical\";\n        const content = document.createElement(\"div\");\n        content.style.fontFamily = \"monospace\";\n        content.style.whiteSpace = \"pre-wrap\";\n        content.style.backgroundColor = \"rgb(255, 221, 221)\";\n        content.textContent = error.stack ?? error.toString();\n        wrapper.append(content);\n        el.append(wrapper);\n      }\n    } else if (Date.now() < root._bokeh_timeout) {\n      setTimeout(() => display_loaded(error), 100);\n    }\n  }\n\n  function run_callbacks() {\n    try {\n      root._bokeh_onload_callbacks.forEach(function(callback) {\n        if (callback != null)\n          callback();\n      });\n    } finally {\n      delete root._bokeh_onload_callbacks\n    }\n    console.debug(\"Bokeh: all callbacks have finished\");\n  }\n\n  function load_libs(css_urls, js_urls, callback) {\n    if (css_urls == null) css_urls = [];\n    if (js_urls == null) js_urls = [];\n\n    root._bokeh_onload_callbacks.push(callback);\n    if (root._bokeh_is_loading > 0) {\n      console.debug(\"Bokeh: BokehJS is being loaded, scheduling callback at\", now());\n      return null;\n    }\n    if (js_urls == null || js_urls.length === 0) {\n      run_callbacks();\n      return null;\n    }\n    console.debug(\"Bokeh: BokehJS not loaded, scheduling load and callback at\", now());\n    root._bokeh_is_loading = css_urls.length + js_urls.length;\n\n    function on_load() {\n      root._bokeh_is_loading--;\n      if (root._bokeh_is_loading === 0) {\n        console.debug(\"Bokeh: all BokehJS libraries/stylesheets loaded\");\n        run_callbacks()\n      }\n    }\n\n    function on_error(url) {\n      console.error(\"failed to load \" + url);\n    }\n\n    for (let i = 0; i < css_urls.length; i++) {\n      const url = css_urls[i];\n      const element = document.createElement(\"link\");\n      element.onload = on_load;\n      element.onerror = on_error.bind(null, url);\n      element.rel = \"stylesheet\";\n      element.type = \"text/css\";\n      element.href = url;\n      console.debug(\"Bokeh: injecting link tag for BokehJS stylesheet: \", url);\n      document.body.appendChild(element);\n    }\n\n    for (let i = 0; i < js_urls.length; i++) {\n      const url = js_urls[i];\n      const element = document.createElement('script');\n      element.onload = on_load;\n      element.onerror = on_error.bind(null, url);\n      element.async = false;\n      element.src = url;\n      console.debug(\"Bokeh: injecting script tag for BokehJS library: \", url);\n      document.head.appendChild(element);\n    }\n  };\n\n  function inject_raw_css(css) {\n    const element = document.createElement(\"style\");\n    element.appendChild(document.createTextNode(css));\n    document.body.appendChild(element);\n  }\n\n  const js_urls = [\"https://cdn.bokeh.org/bokeh/release/bokeh-3.7.3.min.js\", \"https://cdn.bokeh.org/bokeh/release/bokeh-gl-3.7.3.min.js\", \"https://cdn.bokeh.org/bokeh/release/bokeh-widgets-3.7.3.min.js\", \"https://cdn.bokeh.org/bokeh/release/bokeh-tables-3.7.3.min.js\", \"https://cdn.bokeh.org/bokeh/release/bokeh-mathjax-3.7.3.min.js\"];\n  const css_urls = [];\n\n  const inline_js = [    function(Bokeh) {\n      Bokeh.set_log_level(\"info\");\n    },\nfunction(Bokeh) {\n    }\n  ];\n\n  function run_inline_js() {\n    if (root.Bokeh !== undefined || force === true) {\n      try {\n            for (let i = 0; i < inline_js.length; i++) {\n      inline_js[i].call(root, root.Bokeh);\n    }\n\n      } catch (error) {display_loaded(error);throw error;\n      }if (force === true) {\n        display_loaded();\n      }} else if (Date.now() < root._bokeh_timeout) {\n      setTimeout(run_inline_js, 100);\n    } else if (!root._bokeh_failed_load) {\n      console.log(\"Bokeh: BokehJS failed to load within specified timeout.\");\n      root._bokeh_failed_load = true;\n    } else if (force !== true) {\n      const cell = $(document.getElementById(\"d09c3a0f-692e-4987-a471-20b9c6e692da\")).parents('.cell').data().cell;\n      cell.output_area.append_execute_result(NB_LOAD_WARNING)\n    }\n  }\n\n  if (root._bokeh_is_loading === 0) {\n    console.debug(\"Bokeh: BokehJS loaded, going straight to plotting\");\n    run_inline_js();\n  } else {\n    load_libs(css_urls, js_urls, function() {\n      console.debug(\"Bokeh: BokehJS plotting callback run at\", now());\n      run_inline_js();\n    });\n  }\n}(window));"
     },
     "metadata": {},
     "output_type": "display_data"
    }
   ],
   "source": [
    "import pandas as pd\n",
    "import numpy as np\n",
    "#import plotly.graph_objects as go\n",
    "import yfinance as yf\n",
    "import talib as ta\n",
    "#import matplotlib.pyplot as plt\n",
    "#import math\n",
    "import os\n",
    "from datetime import date, timedelta\n",
    "from scipy import stats\n",
    "from scipy.signal import argrelextrema\n",
    "from bokeh.plotting import figure, show, column\n",
    "from sklearn.linear_model import LinearRegression\n",
    "from backtesting import Backtest, Strategy"
   ]
  },
  {
   "cell_type": "code",
   "execution_count": 2,
   "id": "4a0033ba-0def-4ec6-9598-f0db6074bc3e",
   "metadata": {
    "execution": {
     "iopub.execute_input": "2025-06-11T15:14:22.759461Z",
     "iopub.status.busy": "2025-06-11T15:14:22.758895Z",
     "iopub.status.idle": "2025-06-11T15:14:22.855990Z",
     "shell.execute_reply": "2025-06-11T15:14:22.855320Z"
    },
    "papermill": {
     "duration": 0.103646,
     "end_time": "2025-06-11T15:14:22.857224",
     "exception": false,
     "start_time": "2025-06-11T15:14:22.753578",
     "status": "completed"
    },
    "tags": []
   },
   "outputs": [],
   "source": [
    "df_h=pd.read_csv('data/dataxh.txt',sep='\\t')\n",
    "tickers = [\n",
    "    'SPY',\n",
    "    'META',\n",
    "    'AAPL',\n",
    "    'AMZN',\n",
    "    'NFLX',\n",
    "    'MRNA',\n",
    "    'TSLA',\n",
    "    'TNA',\n",
    "    'GLD',\n",
    "    'SLV',\n",
    "    'USO',\n",
    "    'BAC',\n",
    "    'CVX',\n",
    "    'XOM',\n",
    "    'QQQ',\n",
    "    'MSFT',\n",
    "    'NVDA',\n",
    "    'WMT',\n",
    "    'BA',\n",
    "    'DIS',\n",
    "    'CAT',\n",
    "    'IBM',\n",
    "    'WFC',\n",
    "    'PLTR',\n",
    "    'AMD',\n",
    "    'AVGO',\n",
    "    'HOOD',\n",
    "    'CRWV',\n",
    "    'MSTR',\n",
    "    'UNH',\n",
    "    'GOOG',\n",
    "    'APP',\n",
    "    'UBER'\n",
    "]\n",
    "\n",
    "#    'SPY',\n",
    "#    'META',\n",
    "#    'AAPL',\n",
    "#    'AMZN',\n",
    "#    'NFLX',\n",
    "#    'MRNA',\n",
    "#    'TSLA',\n",
    "#    'TNA',\n",
    "#    'GLD',\n",
    "#    'SLV',\n",
    "#    'USO',\n",
    "#    'BAC',\n",
    "#    'CVX',\n",
    "#    'XOM',\n",
    "#    'QQQ'"
   ]
  },
  {
   "cell_type": "code",
   "execution_count": 3,
   "id": "525e2503-1752-4bd8-98e1-df265b6fc5f5",
   "metadata": {
    "execution": {
     "iopub.execute_input": "2025-06-11T15:14:22.867915Z",
     "iopub.status.busy": "2025-06-11T15:14:22.867462Z",
     "iopub.status.idle": "2025-06-11T15:14:23.295863Z",
     "shell.execute_reply": "2025-06-11T15:14:23.295100Z"
    },
    "papermill": {
     "duration": 0.435181,
     "end_time": "2025-06-11T15:14:23.297340",
     "exception": false,
     "start_time": "2025-06-11T15:14:22.862159",
     "status": "completed"
    },
    "tags": []
   },
   "outputs": [],
   "source": [
    "df_h['datetime'] = pd.to_datetime(df_h['datetime'])\n",
    "df = pd.DataFrame()\n",
    "for ticker in tickers:\n",
    "    company = df_h.query(\"companyName==@ticker\").copy()\n",
    "    company.sort_values(by=['datetime'])\n",
    "    #company = yf.download(ticker, start = ini2_str, end = today_str, interval='60m')\n",
    "    #company.columns = [company.columns[0][0], company.columns[1][0], company.columns[2][0], company.columns[3][0], company.columns[4][0]]\n",
    "    #company.rename(columns={'Datetime':'Gmt time'}, inplace = True)\n",
    "    #company['datetime'] = pd.to_datetime (company.index)\n",
    "    #company['companyName'] = ticker\n",
    "    company['SMA20'] = company['Close'].rolling(20).mean()\n",
    "    company.dropna(inplace=False)\n",
    "    company['SMA40'] = company['Close'].rolling(40).mean()\n",
    "    company.dropna(inplace=False)\n",
    "    company['SMA100'] = company['Close'].rolling(100).mean()\n",
    "    company.dropna(inplace=False)\n",
    "    company['SMA200'] = company['Close'].rolling(200).mean()\n",
    "    company.dropna(inplace=False)\n",
    "    \n",
    "    df = pd.concat([df, company],ignore_index=True)"
   ]
  },
  {
   "cell_type": "markdown",
   "id": "8d807db8-4ff5-47fd-9eb3-66ef8ef38eb3",
   "metadata": {
    "papermill": {
     "duration": 0.006717,
     "end_time": "2025-06-11T15:14:23.311241",
     "exception": false,
     "start_time": "2025-06-11T15:14:23.304524",
     "status": "completed"
    },
    "tags": []
   },
   "source": [
    "### Detect Pivots/Fractals"
   ]
  },
  {
   "cell_type": "code",
   "execution_count": 4,
   "id": "553a48af-971c-4caf-94de-4b1bd4cc40d8",
   "metadata": {
    "execution": {
     "iopub.execute_input": "2025-06-11T15:14:23.321958Z",
     "iopub.status.busy": "2025-06-11T15:14:23.321406Z",
     "iopub.status.idle": "2025-06-11T15:14:23.350407Z",
     "shell.execute_reply": "2025-06-11T15:14:23.349866Z"
    },
    "papermill": {
     "duration": 0.03562,
     "end_time": "2025-06-11T15:14:23.351590",
     "exception": false,
     "start_time": "2025-06-11T15:14:23.315970",
     "status": "completed"
    },
    "tags": []
   },
   "outputs": [],
   "source": [
    "ord=10\n",
    "#for ticker in tickers:\n",
    "#print(\"====\", ticker)\n",
    "#dfpl = df[(df.companyName==ticker)] #df.query(\"companyName=='AAPL'\")\n",
    "max_idx = argrelextrema(df['Close'].values, np.greater, order=ord)[0]\n",
    "min_idx = argrelextrema(df['Close'].values, np.less, order=ord)[0]\n",
    "#print(max_idx)\n",
    "#print(min_idx)\n",
    "#df['pivotHigh'] = np.nan\n",
    "#df['pivotLow'] = np.nan\n",
    "#df['isPivot'] = np.nan\n",
    "#df['isPivot'] = np.nan\n",
    "# Aplicar el cálculo solo a los índices en la lista\n",
    "df.loc[max_idx, 'pivotHigh'] = df['High']+1e-3\n",
    "df.loc[min_idx, 'pivotLow'] = df['Low']-(1e-3)\n",
    "df.loc[max_idx, 'isPivot'] = 1\n",
    "df.loc[min_idx, 'isPivot'] = 2"
   ]
  },
  {
   "cell_type": "code",
   "execution_count": 5,
   "id": "ca565f31-ebd3-42d1-bb7e-5dbcbdb5cbae",
   "metadata": {
    "execution": {
     "iopub.execute_input": "2025-06-11T15:14:23.362451Z",
     "iopub.status.busy": "2025-06-11T15:14:23.361997Z",
     "iopub.status.idle": "2025-06-11T15:14:23.524452Z",
     "shell.execute_reply": "2025-06-11T15:14:23.523835Z"
    },
    "papermill": {
     "duration": 0.16901,
     "end_time": "2025-06-11T15:14:23.525433",
     "exception": false,
     "start_time": "2025-06-11T15:14:23.356423",
     "status": "completed"
    },
    "tags": []
   },
   "outputs": [
    {
     "data": {
      "text/html": [
       "\n",
       "  <div id=\"e2ca5ebd-700c-4e0c-b400-3f25704f4510\" data-root-id=\"p1003\" style=\"display: contents;\"></div>\n"
      ]
     },
     "metadata": {},
     "output_type": "display_data"
    },
    {
     "data": {
      "application/javascript": [
       "(function(root) {\n",
       "  function embed_document(root) {\n",
       "  const docs_json = {\"6cf8449f-b5cb-49fc-8105-e950dbff7782\":{\"version\":\"3.7.3\",\"title\":\"Bokeh Application\",\"roots\":[{\"type\":\"object\",\"name\":\"Figure\",\"id\":\"p1003\",\"attributes\":{\"width\":2500,\"height\":500,\"x_range\":{\"type\":\"object\",\"name\":\"DataRange1d\",\"id\":\"p1004\",\"attributes\":{\"range_padding\":0.05}},\"y_range\":{\"type\":\"object\",\"name\":\"DataRange1d\",\"id\":\"p1005\"},\"x_scale\":{\"type\":\"object\",\"name\":\"LinearScale\",\"id\":\"p1013\"},\"y_scale\":{\"type\":\"object\",\"name\":\"LinearScale\",\"id\":\"p1014\"},\"title\":{\"type\":\"object\",\"name\":\"Title\",\"id\":\"p1006\",\"attributes\":{\"text\":\"RCB\"}},\"renderers\":[{\"type\":\"object\",\"name\":\"GlyphRenderer\",\"id\":\"p1048\",\"attributes\":{\"data_source\":{\"type\":\"object\",\"name\":\"ColumnDataSource\",\"id\":\"p1039\",\"attributes\":{\"selected\":{\"type\":\"object\",\"name\":\"Selection\",\"id\":\"p1040\",\"attributes\":{\"indices\":[],\"line_indices\":[]}},\"selection_policy\":{\"type\":\"object\",\"name\":\"UnionRenderers\",\"id\":\"p1041\"},\"data\":{\"type\":\"map\",\"entries\":[[\"index\",{\"type\":\"ndarray\",\"array\":{\"type\":\"bytes\",\"data\":\"AAAAAAEAAAACAAAAAwAAAAQAAAAFAAAABgAAAAcAAAAIAAAACQAAAAoAAAALAAAADAAAAA0AAAAOAAAADwAAABAAAAARAAAAEgAAABMAAAAUAAAAFQAAABYAAAAXAAAAGAAAABkAAAAaAAAAGwAAABwAAAAdAAAAHgAAAB8AAAAgAAAAIQAAACIAAAAjAAAAJAAAACUAAAAmAAAAJwAAACgAAAApAAAAKgAAACsAAAAsAAAALQAAAC4AAAAvAAAAMAAAADEAAAAyAAAAMwAAADQAAAA1AAAANgAAADcAAAA4AAAAOQAAADoAAAA7AAAAPAAAAD0AAAA+AAAAPwAAAEAAAABBAAAAQgAAAEMAAABEAAAARQAAAEYAAABHAAAASAAAAEkAAABKAAAASwAAAEwAAABNAAAATgAAAE8AAABQAAAAUQAAAFIAAABTAAAAVAAAAFUAAABWAAAAVwAAAFgAAABZAAAAWgAAAFsAAABcAAAAXQAAAF4AAABfAAAAYAAAAGEAAABiAAAAYwAAAGQAAABlAAAAZgAAAGcAAABoAAAAaQAAAGoAAABrAAAAbAAAAG0AAABuAAAAbwAAAHAAAABxAAAAcgAAAHMAAAB0AAAAdQAAAHYAAAB3AAAAeAAAAHkAAAB6AAAAewAAAHwAAAB9AAAAfgAAAH8AAACAAAAAgQAAAIIAAACDAAAAhAAAAIUAAACGAAAAhwAAAIgAAACJAAAAigAAAIsAAACMAAAAjQAAAI4AAACPAAAAkAAAAJEAAACSAAAAkwAAAJQAAACVAAAAlgAAAJcAAACYAAAAmQAAAJoAAACbAAAAnAAAAJ0AAACeAAAAnwAAAKAAAAChAAAAogAAAKMAAACkAAAApQAAAKYAAACnAAAAqAAAAKkAAACqAAAAqwAAAKwAAACtAAAArgAAAK8AAACwAAAAsQAAALIAAACzAAAAtAAAALUAAAC2AAAAtwAAALgAAAC5AAAAugAAALsAAAC8AAAAvQAAAL4AAAC/AAAAwAAAAMEAAADCAAAAwwAAAMQAAADFAAAAxgAAAMcAAAA=\"},\"shape\":[200],\"dtype\":\"int32\",\"order\":\"little\"}],[\"Close\",{\"type\":\"ndarray\",\"array\":{\"type\":\"bytes\",\"data\":\"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\"},\"shape\":[200],\"dtype\":\"float64\",\"order\":\"little\"}],[\"High\",{\"type\":\"ndarray\",\"array\":{\"type\":\"bytes\",\"data\":\"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\"},\"shape\":[200],\"dtype\":\"float64\",\"order\":\"little\"}],[\"Low\",{\"type\":\"ndarray\",\"array\":{\"type\":\"bytes\",\"data\":\"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\"},\"shape\":[200],\"dtype\":\"float64\",\"order\":\"little\"}],[\"Open\",{\"type\":\"ndarray\",\"array\":{\"type\":\"bytes\",\"data\":\"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\"},\"shape\":[200],\"dtype\":\"float64\",\"order\":\"little\"}],[\"Volume\",{\"type\":\"ndarray\",\"array\":{\"type\":\"bytes\",\"data\":\"5gMjAQsWsADdm4gAiUmdAJtDwwAKjKwA5JqnADSdqQB5oosAtRp4AJVrSgD4mh8B43FcAe6tzQDjZTgBZ2qvAPwFnwCM12EAN7iBAP7YFAFAxTsBWJtXActQWQEYa4sA6yJ3AGjCZgALzb0AHKPdAGbm8gAMbJoAJ+hgAF2JsAD3AE8Axc9bAKn4wABTTsAAxHKdAACHbgBlQG0A0Z9lAI/8mwAjsuoAzDnfANwUiQAjyVMAfllhAM6jVgB/MngAl82rAP/L7gARXIIA1AKGAJaNYAA03GgAp3XEAOKXAgH0rKEAcpSWAMZ+bQBm4lEAABtPANcXXgC0zAEB+S6zAGpfhQD+el0AX+djAFY9cwAmScAAznS1AFZnvgB4/pIAZyVlANaGlACYuFAAJ/BxAHPgygDHsccAZTaGAIJqaACp8V4AueR3AOUATgCiz7EA+zEuAVPaswCtY3oAjnSAAA/KdQD0wI0A2/MjAXu/owBwIWgAbUNjAJO4mAAYuXoAMsNrAAuxdQC+dlcAY5BXAAltZwCFcEYBlQiUAMLOjAAEWIMAulRbAFe/WwDpOpsAH/upAO83UgBdz2UADOOgACeDYACZvXoAul0+AZWtqQBT35EAVn5iALAMTACVP04A/b49ACW9twCEE6IAAPhkAAlscwCdgUYAzO89AJM5awAZ6OYAiJU2ATZEeAAAAAAA16LZAlgWUwCednIA7AATAcDOwQCDzowAhpZnACXhYgDgGFQAjO93AF8I0QA7aNEAna2nAHstdQCd9F0AV4hMAJbHeADWyZ4AAlGdAKaRTgCNZ1AA1Ic2ANI8QQC8nWMAoZqaAHhYoADDJl0Ajz2DABP+VQCLtmQAzaCFAEwFFwEnuM0AsKqZAPZmeABXcVwAI4NbAAIYXQAER4YAK+nCAC7oiABqSW0A2BhfAPpyYgDzH5EA+uypAGxBzADK9l8AYfVvAALAUgBkCmQAcLtnALqwyQD2aLEAxZpmAKcZSABZ9y0AOy9gANKRXgDqGY8Apdx9AG7zVAAGH2QAVBVEAD4rWQClwWIAuYmgAFTPbQA=\"},\"shape\":[200],\"dtype\":\"int32\",\"order\":\"little\"}],[\"datetime\",{\"type\":\"ndarray\",\"array\":{\"type\":\"bytes\",\"data\":\"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\"},\"shape\":[200],\"dtype\":\"float64\",\"order\":\"little\"}],[\"companyName\",{\"type\":\"ndarray\",\"array\":[\"SPY\",\"SPY\",\"SPY\",\"SPY\",\"SPY\",\"SPY\",\"SPY\",\"SPY\",\"SPY\",\"SPY\",\"SPY\",\"SPY\",\"SPY\",\"SPY\",\"SPY\",\"SPY\",\"SPY\",\"SPY\",\"SPY\",\"SPY\",\"SPY\",\"SPY\",\"SPY\",\"SPY\",\"SPY\",\"SPY\",\"SPY\",\"SPY\",\"SPY\",\"SPY\",\"SPY\",\"SPY\",\"SPY\",\"SPY\",\"SPY\",\"SPY\",\"SPY\",\"SPY\",\"SPY\",\"SPY\",\"SPY\",\"SPY\",\"SPY\",\"SPY\",\"SPY\",\"SPY\",\"SPY\",\"SPY\",\"SPY\",\"SPY\",\"SPY\",\"SPY\",\"SPY\",\"SPY\",\"SPY\",\"SPY\",\"SPY\",\"SPY\",\"SPY\",\"SPY\",\"SPY\",\"SPY\",\"SPY\",\"SPY\",\"SPY\",\"SPY\",\"SPY\",\"SPY\",\"SPY\",\"SPY\",\"SPY\",\"SPY\",\"SPY\",\"SPY\",\"SPY\",\"SPY\",\"SPY\",\"SPY\",\"SPY\",\"SPY\",\"SPY\",\"SPY\",\"SPY\",\"SPY\",\"SPY\",\"SPY\",\"SPY\",\"SPY\",\"SPY\",\"SPY\",\"SPY\",\"SPY\",\"SPY\",\"SPY\",\"SPY\",\"SPY\",\"SPY\",\"SPY\",\"SPY\",\"SPY\",\"SPY\",\"SPY\",\"SPY\",\"SPY\",\"SPY\",\"SPY\",\"SPY\",\"SPY\",\"SPY\",\"SPY\",\"SPY\",\"SPY\",\"SPY\",\"SPY\",\"SPY\",\"SPY\",\"SPY\",\"SPY\",\"SPY\",\"SPY\",\"SPY\",\"SPY\",\"SPY\",\"SPY\",\"SPY\",\"SPY\",\"SPY\",\"SPY\",\"SPY\",\"SPY\",\"SPY\",\"SPY\",\"SPY\",\"SPY\",\"SPY\",\"SPY\",\"SPY\",\"SPY\",\"SPY\",\"SPY\",\"SPY\",\"SPY\",\"SPY\",\"SPY\",\"SPY\",\"SPY\",\"SPY\",\"SPY\",\"SPY\",\"SPY\",\"SPY\",\"SPY\",\"SPY\",\"SPY\",\"SPY\",\"SPY\",\"SPY\",\"SPY\",\"SPY\",\"SPY\",\"SPY\",\"SPY\",\"SPY\",\"SPY\",\"SPY\",\"SPY\",\"SPY\",\"SPY\",\"SPY\",\"SPY\",\"SPY\",\"SPY\",\"SPY\",\"SPY\",\"SPY\",\"SPY\",\"SPY\",\"SPY\",\"SPY\",\"SPY\",\"SPY\",\"SPY\",\"SPY\",\"SPY\",\"SPY\",\"SPY\",\"SPY\",\"SPY\",\"SPY\",\"SPY\",\"SPY\",\"SPY\",\"SPY\",\"SPY\",\"SPY\",\"SPY\",\"SPY\",\"SPY\",\"SPY\",\"SPY\"],\"shape\":[200],\"dtype\":\"object\",\"order\":\"little\"}],[\"SMA20\",{\"type\":\"ndarray\",\"array\":{\"type\":\"bytes\",\"data\":\"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\"},\"shape\":[200],\"dtype\":\"float64\",\"order\":\"little\"}],[\"SMA40\",{\"type\":\"ndarray\",\"array\":{\"type\":\"bytes\",\"data\":\"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\"},\"shape\":[200],\"dtype\":\"float64\",\"order\":\"little\"}],[\"SMA100\",{\"type\":\"ndarray\",\"array\":{\"type\":\"bytes\",\"data\":\"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\"},\"shape\":[200],\"dtype\":\"float64\",\"order\":\"little\"}],[\"SMA200\",{\"type\":\"ndarray\",\"array\":{\"type\":\"bytes\",\"data\":\"AAAAAAAA+H8AAAAAAAD4fwAAAAAAAPh/AAAAAAAA+H8AAAAAAAD4fwAAAAAAAPh/AAAAAAAA+H8AAAAAAAD4fwAAAAAAAPh/AAAAAAAA+H8AAAAAAAD4fwAAAAAAAPh/AAAAAAAA+H8AAAAAAAD4fwAAAAAAAPh/AAAAAAAA+H8AAAAAAAD4fwAAAAAAAPh/AAAAAAAA+H8AAAAAAAD4fwAAAAAAAPh/AAAAAAAA+H8AAAAAAAD4fwAAAAAAAPh/AAAAAAAA+H8AAAAAAAD4fwAAAAAAAPh/AAAAAAAA+H8AAAAAAAD4fwAAAAAAAPh/AAAAAAAA+H8AAAAAAAD4fwAAAAAAAPh/AAAAAAAA+H8AAAAAAAD4fwAAAAAAAPh/AAAAAAAA+H8AAAAAAAD4fwAAAAAAAPh/AAAAAAAA+H8AAAAAAAD4fwAAAAAAAPh/AAAAAAAA+H8AAAAAAAD4fwAAAAAAAPh/AAAAAAAA+H8AAAAAAAD4fwAAAAAAAPh/AAAAAAAA+H8AAAAAAAD4fwAAAAAAAPh/AAAAAAAA+H8AAAAAAAD4fwAAAAAAAPh/AAAAAAAA+H8AAAAAAAD4fwAAAAAAAPh/AAAAAAAA+H8AAAAAAAD4fwAAAAAAAPh/AAAAAAAA+H8AAAAAAAD4fwAAAAAAAPh/AAAAAAAA+H8AAAAAAAD4fwAAAAAAAPh/AAAAAAAA+H8AAAAAAAD4fwAAAAAAAPh/AAAAAAAA+H8AAAAAAAD4fwAAAAAAAPh/AAAAAAAA+H8AAAAAAAD4fwAAAAAAAPh/AAAAAAAA+H8AAAAAAAD4fwAAAAAAAPh/AAAAAAAA+H8AAAAAAAD4fwAAAAAAAPh/AAAAAAAA+H8AAAAAAAD4fwAAAAAAAPh/AAAAAAAA+H8AAAAAAAD4fwAAAAAAAPh/AAAAAAAA+H8AAAAAAAD4fwAAAAAAAPh/AAAAAAAA+H8AAAAAAAD4fwAAAAAAAPh/AAAAAAAA+H8AAAAAAAD4fwAAAAAAAPh/AAAAAAAA+H8AAAAAAAD4fwAAAAAAAPh/AAAAAAAA+H8AAAAAAAD4fwAAAAAAAPh/AAAAAAAA+H8AAAAAAAD4fwAAAAAAAPh/AAAAAAAA+H8AAAAAAAD4fwAAAAAAAPh/AAAAAAAA+H8AAAAAAAD4fwAAAAAAAPh/AAAAAAAA+H8AAAAAAAD4fwAAAAAAAPh/AAAAAAAA+H8AAAAAAAD4fwAAAAAAAPh/AAAAAAAA+H8AAAAAAAD4fwAAAAAAAPh/AAAAAAAA+H8AAAAAAAD4fwAAAAAAAPh/AAAAAAAA+H8AAAAAAAD4fwAAAAAAAPh/AAAAAAAA+H8AAAAAAAD4fwAAAAAAAPh/AAAAAAAA+H8AAAAAAAD4fwAAAAAAAPh/AAAAAAAA+H8AAAAAAAD4fwAAAAAAAPh/AAAAAAAA+H8AAAAAAAD4fwAAAAAAAPh/AAAAAAAA+H8AAAAAAAD4fwAAAAAAAPh/AAAAAAAA+H8AAAAAAAD4fwAAAAAAAPh/AAAAAAAA+H8AAAAAAAD4fwAAAAAAAPh/AAAAAAAA+H8AAAAAAAD4fwAAAAAAAPh/AAAAAAAA+H8AAAAAAAD4fwAAAAAAAPh/AAAAAAAA+H8AAAAAAAD4fwAAAAAAAPh/AAAAAAAA+H8AAAAAAAD4fwAAAAAAAPh/AAAAAAAA+H8AAAAAAAD4fwAAAAAAAPh/AAAAAAAA+H8AAAAAAAD4fwAAAAAAAPh/AAAAAAAA+H8AAAAAAAD4fwAAAAAAAPh/AAAAAAAA+H8AAAAAAAD4fwAAAAAAAPh/AAAAAAAA+H8AAAAAAAD4fwAAAAAAAPh/AAAAAAAA+H8AAAAAAAD4fwAAAAAAAPh/AAAAAAAA+H8AAAAAAAD4fwAAAAAAAPh/AAAAAAAA+H8AAAAAAAD4fwAAAAAAAPh/AAAAAAAA+H8AAAAAAAD4fwAAAAAAAPh/AAAAAAAA+H8AAAAAAAD4fwAAAAAAAPh/AAAAAAAA+H8AAAAAAAD4fwAAAAAAAPh/AAAAAAAA+H8AAAAAAAD4fwAAAAAAAPh/AAAAAAAA+H8AAAAAAAD4fwAAAAAAAPh/AAAAAAAA+H/hehR6oLF7QA==\"},\"shape\":[200],\"dtype\":\"float64\",\"order\":\"little\"}],[\"pivotHigh\",{\"type\":\"ndarray\",\"array\":{\"type\":\"bytes\",\"data\":\"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\"},\"shape\":[200],\"dtype\":\"float64\",\"order\":\"little\"}],[\"pivotLow\",{\"type\":\"ndarray\",\"array\":{\"type\":\"bytes\",\"data\":\"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\"},\"shape\":[200],\"dtype\":\"float64\",\"order\":\"little\"}],[\"isPivot\",{\"type\":\"ndarray\",\"array\":{\"type\":\"bytes\",\"data\":\"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\"},\"shape\":[200],\"dtype\":\"float64\",\"order\":\"little\"}]]}}},\"view\":{\"type\":\"object\",\"name\":\"CDSView\",\"id\":\"p1049\",\"attributes\":{\"filter\":{\"type\":\"object\",\"name\":\"AllIndices\",\"id\":\"p1050\"}}},\"glyph\":{\"type\":\"object\",\"name\":\"Segment\",\"id\":\"p1045\",\"attributes\":{\"x0\":{\"type\":\"field\",\"field\":\"index\"},\"y0\":{\"type\":\"field\",\"field\":\"High\"},\"x1\":{\"type\":\"field\",\"field\":\"index\"},\"y1\":{\"type\":\"field\",\"field\":\"Low\"}}},\"nonselection_glyph\":{\"type\":\"object\",\"name\":\"Segment\",\"id\":\"p1046\",\"attributes\":{\"x0\":{\"type\":\"field\",\"field\":\"index\"},\"y0\":{\"type\":\"field\",\"field\":\"High\"},\"x1\":{\"type\":\"field\",\"field\":\"index\"},\"y1\":{\"type\":\"field\",\"field\":\"Low\"},\"line_alpha\":{\"type\":\"value\",\"value\":0.1}}},\"muted_glyph\":{\"type\":\"object\",\"name\":\"Segment\",\"id\":\"p1047\",\"attributes\":{\"x0\":{\"type\":\"field\",\"field\":\"index\"},\"y0\":{\"type\":\"field\",\"field\":\"High\"},\"x1\":{\"type\":\"field\",\"field\":\"index\"},\"y1\":{\"type\":\"field\",\"field\":\"Low\"},\"line_alpha\":{\"type\":\"value\",\"value\":0.2}}}}},{\"type\":\"object\",\"name\":\"GlyphRenderer\",\"id\":\"p1060\",\"attributes\":{\"data_source\":{\"type\":\"object\",\"name\":\"ColumnDataSource\",\"id\":\"p1051\",\"attributes\":{\"selected\":{\"type\":\"object\",\"name\":\"Selection\",\"id\":\"p1052\",\"attributes\":{\"indices\":[],\"line_indices\":[]}},\"selection_policy\":{\"type\":\"object\",\"name\":\"UnionRenderers\",\"id\":\"p1053\"},\"data\":{\"type\":\"map\",\"entries\":[[\"index\",{\"type\":\"ndarray\",\"array\":{\"type\":\"bytes\",\"data\":\"AgAAAAQAAAAJAAAACgAAAAsAAAARAAAAFAAAABUAAAAWAAAAGAAAABkAAAAaAAAAGwAAABwAAAAgAAAAIQAAACIAAAAjAAAAJAAAACYAAAAoAAAAKQAAACsAAAAtAAAALwAAADIAAAA1AAAANgAAADkAAAA6AAAAPAAAAD4AAABFAAAASQAAAEsAAABQAAAAUQAAAFUAAABZAAAAWgAAAGAAAABhAAAAYgAAAGQAAABlAAAAZgAAAGsAAABwAAAAcQAAAHIAAAB0AAAAdQAAAHgAAAB6AAAAfgAAAIIAAACDAAAAhgAAAIgAAACOAAAAkAAAAJEAAACSAAAAkwAAAJQAAACYAAAAnAAAAKMAAAClAAAApgAAAKcAAACoAAAAqgAAAKsAAACuAAAArwAAALAAAACyAAAAtAAAALYAAAC3AAAAuAAAALwAAAC+AAAAxQAAAMYAAAA=\"},\"shape\":[86],\"dtype\":\"int32\",\"order\":\"little\"}],[\"Close\",{\"type\":\"ndarray\",\"array\":{\"type\":\"bytes\",\"data\":\"AAAAANdJe0AAAACAwj17QAAAAMCPYntAAAAA4HxUe0AAAAAA1yd7QAAAAIAUjntAAAAAoJmpe0AAAABgZqZ7QAAAAGCPjHtAAQAAQDOXe0AAAADgepB7QAEAAMAeeXtAAQAAQAp3e0AAAADgejR7QAAAAIDCX3tAAQAAQDNXe0AAAAAA11N7QAAAAABxNXtAAQAAwB41e0AAAACAwjF7QAAAACCFO3tAAAAAYLgue0AAAACAwi17QAAAAAApMHtAAAAAYEI5e0AAAABguBJ7QAAAAIDrH3tAAAAAAAASe0AAAACA1wd7QAAAAKCZBXtAAAAAANcBe0ABAABA4fZ6QAAAAGBmQntAAAAA4Ho8e0AAAACgcDV7QAAAACCFW3tAAAAAIIVTe0ABAABACqt7QAAAAOBRwHtAAAAAANeze0AAAAAA17N7QAAAAOC3sntAAAAAIIWre0AAAACAFLJ7QAAAACCFW3tAAAAAoJlVe0AAAABguHp7QAAAAOB6nHtAAAAAYI+Ee0ABAADAzGh7QAAAACCFa3tAAAAAgD1me0AAAADgUXB7QAAAAOBRhHtAAAAAAF+Le0AAAACA6+l7QAAAAKCZ1XtAAAAAgD3ae0AAAACAFP57QAAAAOCjGHxAAAAAIFwmfEAAAACAFBx8QAAAAAAAHHxAAAAAoHAZfEAAAACA6xF8QAAAAADXI3xAAAAAIK4tfEABAABACmN8QAAAAAAAfHxAAAAAYBB2fEAAAABgZnJ8QAAAAKAza3xAAAAAgOtxfEAAAACAwld8QAAAAACRWnxAAAAAoHBBfEAAAACAUTh8QAAAAADnRHxAAAAAAMNRfEAAAACgR1V8QAAAAGC4SnxAAQAAQOFCfEAAAAAgXGd8QAAAAADXV3xAAAAAIK5/fEABAABA4XZ8QA==\"},\"shape\":[86],\"dtype\":\"float64\",\"order\":\"little\"}],[\"High\",{\"type\":\"ndarray\",\"array\":{\"type\":\"bytes\",\"data\":\"AAAAoHBNe0AAAACgR1N7QAAAAIDCa3tAAAAA4Alje0AAAAAAKVh7QAEAAEDhkntAAAAAIFy3e0ABAABA4bJ7QAAAAGBmpntAAAAAgBSme0AAAADgeph7QAAAAOCjkHtAAAAAoJmFe0AAAABguGJ7QAAAAIDCY3tAAAAAYGZge0AAAAAAAGB7QAAAAOB6RHtAAAAAQNg6e0AAAABguEJ7QAAAAADXT3tAAAAAoBo9e0AAAACgmT17QAAAAGC4OntAAAAAoEdHe0AAAAAA1yN7QAAAAMD1MHtAAAAAYI8ge0AAAACAFCB7QAEAAEB5FHtAAAAAoHALe0AAAACgmQ17QAAAAMD1THtAAQAAwMxIe0AAAAAgXD97QAAAAOB6ZHtAAAAAgFFce0AAAACAwrV7QAAAAIA9wntAAQAAwMzEe0AAAADA9bx7QAAAAIA9tntAAAAAIK65e0AAAACAKLx7QAAAAIDreXtAAAAAoJlde0AAAAAA1397QAAAAIA9qntAAAAAIK6de0AAAABgj4h7QAAAAIA9dntAAAAAoEdxe0AAAADA9XZ7QAAAAODAkHtAAQAAwECSe0AAAACgrfd7QAEAAEAK63tAAAAAAADse0AAAAAAKQh8QAAAAIAUJnxAAAAAoJkrfEABAABACi18QAAAAIDgIXxAAAAAACkkfEAAAADA9Rx8QAAAAADXK3xAAAAAYI84fEAAAACAwm18QAAAAGC4gnxAAQAAQOGGfEAAAABgj3Z8QAAAAIDCdXxAAQAAQAp9fEAAAACgmXF8QAAAACBcX3xAAQAAQOFcfEAAAADgUUx8QAEAAMAeYXxAAQAAQKZgfEAAAADgo2J8QAAAAAApXHxAAAAAAABMfEAAAAAAKWp8QAAAAIDCaXxAAAAAgMKLfEAAAACAwoF8QA==\"},\"shape\":[86],\"dtype\":\"float64\",\"order\":\"little\"}],[\"Low\",{\"type\":\"ndarray\",\"array\":{\"type\":\"bytes\",\"data\":\"AAAAIIU7e0AAAADg6zl7QAEAAMAeWXtAAQAAwMxQe0AAAACgcBl7QAAAAIDCgXtAAAAAwPWge0AAAADgUYx7QAAAACBchXtAAAAAoJmVe0AAAADgeox7QAAAAKCZdXtAAAAAIIVve0AAAACAAjF7QAEAAMDMVHtAAAAAYLhSe0AAAACgmVF7QAAAAIAUJntAAAAAoEcle0AAAACA6y17QAAAACBcO3tAAAAAAAAqe0AAAADgeiB7QAAAAOCjJntAAAAA4KM4e0AAAACgcA17QAAAAAA9HntAAAAAIIUHe0AAAABgZgR7QAAAAKBw/XpAAAAAAAD8ekABAABACvN6QAAAAKBHQXtAAAAAwPUoe0AAAACgcCl7QAEAAEDhTntAAAAAgD1Ge0AAAADgo6B7QAAAAKBwuXtAAQAAQOGye0AAAADgUbB7QAAAACCuq3tAAAAAwPWke0AAAACAFLJ7QAEAAEAzV3tAAAAAwPVQe0AAAAAghXd7QAAAAAAAmHtAAAAAIFyDe0ABAADAzGR7QAAAAAApYHtAAAAAIFxZe0AAAACAFGx7QAEAAEAKd3tAAAAA4FGEe0ABAADAzOh7QAAAAGCPzntAAAAAYGbSe0ABAABAM/d7QAAAAOB6GHxAAAAA4FEYfEAAAACgcBt8QAEAAEAKE3xAAAAA4KMYfEAAAACAFAp8QAEAAEAzI3xAAAAAoJkpfEAAAACgcGF8QAAAAKCZaXxAAAAAIIVzfEAAAABgZmp8QAAAAIDrZXxAAAAA4HpwfEAAAAAgrlN8QAEAAEAKU3xAAAAAAG1BfEABAABACjd8QAAAACBcQ3xAAAAAoEdRfEAAAACgmVF8QAEAAMAeRXxAAAAAYLhCfEAAAACA6198QAEAAEDhVnxAAAAAACl8fEABAADAHnV8QA==\"},\"shape\":[86],\"dtype\":\"float64\",\"order\":\"little\"}],[\"Open\",{\"type\":\"ndarray\",\"array\":{\"type\":\"bytes\",\"data\":\"AAAAgHxLe0AAAADgo1B7QAAAAABmantAAAAAYI9ie0AAAADgo1R7QAEAAMDMjntAAAAAgD2ye0AAAADgUbB7QAAAAGBmpntAAAAAAACce0ABAABAM5d7QAAAAOB6kHtAAQAAwB55e0AAAADgo1R7QAAAAGDlYHtAAAAAgOtfe0AAAAAgXFd7QAAAAGCPQntAAAAAgBQ4e0AAAACAPT57QAAAAGC4SntAAAAAIIU7e0AAAACgcDl7QAAAAAApNHtAAQAAQDM/e0ABAADAzBp7QAEAAMAeLXtAAAAAANcfe0AAAAAA1x97QAAAACCuB3tAAAAAoJkJe0AAAACAPQp7QAAAAADXS3tAAAAA4HpIe0AAAACgcD17QAAAAIBRYXtAAAAAIIVbe0AAAAAAALB7QAAAAMD1wHtAAAAA4FHAe0ABAADAHrl7QAAAAMAFtHtAAAAAYLiye0AAAAAgXLt7QAAAAGC4dntAAAAAIK5be0AAAAAAAHx7QAAAAIDCqXtAAAAA4Hqce0AAAADgeoR7QAAAAIBRdHtAAAAAwFtre0AAAACAPXZ7QAEAAEAzh3tAAAAAgD2Oe0AAAAAghfN7QAAAAIDr6XtAAQAAQOHqe0AAAABgZv57QAAAAOCjHHxAAQAAQOEmfEAAAAAgXCZ8QAAAAAApHHxAAAAAAAAcfEAAAACgcBl8QAAAAIAUJnxAAAAA4Ho4fEAAAAAgrmd8QAEAAMDMfHxAAAAAgBR8fEAAAAAA13V8QAAAAIA9cnxAAAAA4FF4fEAAAAAgQ2V8QAAAAIAUXnxAAAAAYI9afEAAAAAA10F8QAAAACBcX3xAAAAAoJldfEAAAADgelx8QAAAAKBHVXxAAQAAQOFKfEAAAAAAKWh8QAAAAIDCaXxAAAAAACmGfEAAAAAgrn98QA==\"},\"shape\":[86],\"dtype\":\"float64\",\"order\":\"little\"}],[\"Volume\",{\"type\":\"ndarray\",\"array\":{\"type\":\"bytes\",\"data\":\"3ZuIAJtDwwC1GngAlWtKAPiaHwGM12EAQMU7AVibVwHLUFkB6yJ3AGjCZgALzb0AHKPdAGbm8gD3AE8Axc9bAKn4wABTTsAAxHKdAGVAbQCP/JsAI7LqANwUiQB+WWEAfzJ4ABFcggA03GgAp3XEAHKUlgDGfm0AABtPALTMAQHOdLUA1oaUACfwcQCp8V4AueR3AFPaswD0wI0A2/MjATLDawALsXUAvnZXAAltZwCFcEYBlQiUAOk6mwAng2AAmb16ALpdPgFT35EAVn5iAP2+PQCEE6IAzO89ADZEeAAAAAAAnnZyAMDOwQBfCNEAna2nAHstdQCd9F0AV4hMAJbHeACNZ1AAoZqaAEwFFwGwqpkA9mZ4AFdxXAAjg1sABEeGACvpwgDYGF8A+nJiAPMfkQBsQcwAYfVvAGQKZABwu2cAurDJAFn3LQDSkV4ApcFiALmJoAA=\"},\"shape\":[86],\"dtype\":\"int32\",\"order\":\"little\"}],[\"datetime\",{\"type\":\"ndarray\",\"array\":{\"type\":\"bytes\",\"data\":\"AADMDFaLeEIAAJzqXIt4QgAAjHKoi3hCAAB04auLeEIAAFxQr4t4QgAANEf+i3hCAADskwiMeEIAADxgRox4QgAAJM9JjHhCAAD0rFCMeEIAANwbVIx4QgAAxIpXjHhCAACs+VqMeEIAADz3j414QgAA3LKdjXhCAADEIaGNeEIAAKyQpI14QgAA/FzijXhCAADky+WNeEIAALSp7I14QgAAhIfzjXhCAABs9vaNeEIAAKQxOI54QgAAdA8/jnhCAABE7UWOeEIAAGSXio54QgAAHOSUjnhCAAAEU5iOeEIAAKTIgY94QgAAjDeFj3hCAABcFYyPeEIAACzzko94QgAA7Fjlj3hCAAD0cS2QeEIAAMRPNJB4QgAAtNd/kHhCAACcRoOQeEIAAKRfy5B4QgAARBvZkHhCAAAsityQeEIAAEzLapJ4QgAANDpuknhCAAAcqXGSeEIAAOyGeJJ4QgAAPFO2knhCAAAkwrmSeEIAAKzsypJ4QgAAnHQWk3hCAACE4xmTeEIAAGxSHZN4QgAAJFkDlHhCAAAMyAaUeEIAAMQUEZR4QgAA/E9SlHhCAACcC2CUeEIAAKQkqJR4QgAAjJOrlHhCAABE4LWUeEIAAHwb95R4QgAA7LQLlXhCAAAk8EyVeEIAAAxfUJV4QgAA9M1TlXhCAADcPFeVeEIAAMSrWpV4QgAATJBHlnhCAADsS1WWeEIAAKyxp5Z4QgAA5OzolnhCAADMW+yWeEIAALTK75Z4QgAAnDnzlnhCAABsF/qWeEIAALzjN5d4QgAAdDBCl3hCAABcn0WXeEIAAEQOSZd4QgAAfEmKl3hCAABMJ5GXeEIAABwFmJd4QgAABHSbl3hCAADs4p6XeEIAAHTHi5h4QgAARKWSmHhCAAAEC+WYeEIAAOx56Jh4Qg==\"},\"shape\":[86],\"dtype\":\"float64\",\"order\":\"little\"}],[\"companyName\",{\"type\":\"ndarray\",\"array\":[\"SPY\",\"SPY\",\"SPY\",\"SPY\",\"SPY\",\"SPY\",\"SPY\",\"SPY\",\"SPY\",\"SPY\",\"SPY\",\"SPY\",\"SPY\",\"SPY\",\"SPY\",\"SPY\",\"SPY\",\"SPY\",\"SPY\",\"SPY\",\"SPY\",\"SPY\",\"SPY\",\"SPY\",\"SPY\",\"SPY\",\"SPY\",\"SPY\",\"SPY\",\"SPY\",\"SPY\",\"SPY\",\"SPY\",\"SPY\",\"SPY\",\"SPY\",\"SPY\",\"SPY\",\"SPY\",\"SPY\",\"SPY\",\"SPY\",\"SPY\",\"SPY\",\"SPY\",\"SPY\",\"SPY\",\"SPY\",\"SPY\",\"SPY\",\"SPY\",\"SPY\",\"SPY\",\"SPY\",\"SPY\",\"SPY\",\"SPY\",\"SPY\",\"SPY\",\"SPY\",\"SPY\",\"SPY\",\"SPY\",\"SPY\",\"SPY\",\"SPY\",\"SPY\",\"SPY\",\"SPY\",\"SPY\",\"SPY\",\"SPY\",\"SPY\",\"SPY\",\"SPY\",\"SPY\",\"SPY\",\"SPY\",\"SPY\",\"SPY\",\"SPY\",\"SPY\",\"SPY\",\"SPY\",\"SPY\",\"SPY\"],\"shape\":[86],\"dtype\":\"object\",\"order\":\"little\"}],[\"SMA20\",{\"type\":\"ndarray\",\"array\":{\"type\":\"bytes\",\"data\":\"AAAAAAAA+H8AAAAAAAD4fwAAAAAAAPh/AAAAAAAA+H8AAAAAAAD4fwAAAAAAAPh/ZmZm9iNne0CamZk5r2t7QGZmZj4Fb3tAzczMvER3e0AAAABABXt7QAAAADhZfXtAZmZmhrt+e0CamZlZCXx7QAAAABAYfntAAAAAUE1+e0BmZmaOgnx7QDMzM7MyeHtAmpmZ0bdze0BmZmZ2U2p7QAAAAGinX3tAmpmZgatZe0CamZlx/k97QAAAAFA2RntAZmZmHjlAe0BmZmb+Pjx7QDMzMwsfNHtAMzMzS9Qwe0BmZmZGUyt7QAAAAAgeKXtAmpmZ+fcie0AAAADo0h17QGZmZk5HHXtAAgAAwC8je0DOzMwMEid7QGhmZn5zOXtAaGZmrh09e0DNzMyEJ1R7QJqZmVHza3tAAAAAYCBye0DNzMysVpZ7QGZmZs6Hm3tAzczMPJqfe0AzMzM7b6h7QJqZmaHVqHtAmpmZgZSoe0AzMzM7tZ17QM3MzPTnkntAZmZmpgWQe0AAAAAIFox7QM3MzKwHhXtAmpmZwTSBe0DNzMz8lHd7QAAAAFB4e3tAAAAAqCqAe0DNzMw8W457QM3MzGSMkHtAMzMzE9Oee0AzMzNri6t7QJqZmWGz2XtAMzMzizrpe0DNzMwkVPB7QM3MzGSP93tAMzMzAwD+e0CamZnhTwN8QAAAABjZDnxAzczM9PwcfECamZlJSjR8QAAAAJhsPXxAmpmZae1BfECamZkZYEZ8QAAAAOjWSnxAMzMzi0dUfECamZlxw1Z8QDMzM0tlXnxAZmZm7tVefECamZkZXl98QGZmZubJX3xAMzMzq2pgfEBmZmaOEF98QDMzM0PZXXxAmpmZye9afEAAAAAQC1h8QM3MzCTGVXxAAAAAMHdjfEBmZmbm9mV8QA==\"},\"shape\":[86],\"dtype\":\"float64\",\"order\":\"little\"}],[\"SMA40\",{\"type\":\"ndarray\",\"array\":{\"type\":\"bytes\",\"data\":\"AAAAAAAA+H8AAAAAAAD4fwAAAAAAAPh/AAAAAAAA+H8AAAAAAAD4fwAAAAAAAPh/AAAAAAAA+H8AAAAAAAD4fwAAAAAAAPh/AAAAAAAA+H8AAAAAAAD4fwAAAAAAAPh/AAAAAAAA+H8AAAAAAAD4fwAAAAAAAPh/AAAAAAAA+H8AAAAAAAD4fwAAAAAAAPh/AAAAAAAA+H8AAAAAAAD4fzMzM69lY3tAmpmZXa1ie0AAAAAsZWF7QAAAAMidYHtAZmZmUnpfe0AAAACYMlt7QJqZmS02WXtAzczMbKtWe0AAAACMhU17QDMzM7+4SXtAzczMsE9Be0BmZmY2qjl7QGZmZtJfLntAmpmZZacre0DNzMwAFyt7QAAAALw1LntAzczMQCEve0CamZm1czd7QAAAAFCdRHtAZmZmeqRIe0CamZklq197QJqZmcHwY3tAzczMpBZoe0DNzMxc8XB7QAAAAKj5cntAmpmZ3Vd1e0CamZnRwH57QGZmZlJKiHtAZmZmoheKe0CamZkpLot7QM3MzCyvjXtAAAAASF6Oe0AAAAAcApB7QM3MzGgGkntAmpmZMXqQe0AzMzNvr5F7QJqZmelukntAmpmZjXSVe0AAAACMSZh7QM3MzNiVqntAZmZmbq6ze0BmZmYG3bd7QGZmZgbdu3tAzczM1NS/e0AAAADMsMN7QAAAADhx0XtAAAAAMETke0DNzMzA8Ap8QGZmZl7gFnxAMzMzZ74cfEBmZmYOMCJ8QM3MzGQTJ3xAMzMza+ktfEDNzMxwKjF8QGZmZjZKOnxAmpmZzbg8fEAzMzOHLT58QJqZme1NQXxAZmZmAhFFfEAzMzOnLEh8QGZmZsYRSXxAmpmZTchJfEAAAAD8cFF8QAAAANgGVXxAAgAA8KFhfEBoZmZm4GJ8QA==\"},\"shape\":[86],\"dtype\":\"float64\",\"order\":\"little\"}],[\"SMA100\",{\"type\":\"ndarray\",\"array\":{\"type\":\"bytes\",\"data\":\"AAAAAAAA+H8AAAAAAAD4fwAAAAAAAPh/AAAAAAAA+H8AAAAAAAD4fwAAAAAAAPh/AAAAAAAA+H8AAAAAAAD4fwAAAAAAAPh/AAAAAAAA+H8AAAAAAAD4fwAAAAAAAPh/AAAAAAAA+H8AAAAAAAD4fwAAAAAAAPh/AAAAAAAA+H8AAAAAAAD4fwAAAAAAAPh/AAAAAAAA+H8AAAAAAAD4fwAAAAAAAPh/AAAAAAAA+H8AAAAAAAD4fwAAAAAAAPh/AAAAAAAA+H8AAAAAAAD4fwAAAAAAAPh/AAAAAAAA+H8AAAAAAAD4fwAAAAAAAPh/AAAAAAAA+H8AAAAAAAD4fwAAAAAAAPh/AAAAAAAA+H8AAAAAAAD4fwAAAAAAAPh/AAAAAAAA+H8AAAAAAAD4fwAAAAAAAPh/AAAAAAAA+H8AAAAAAAD4fwAAAAAAAPh/AAAAAAAA+H+4HoUD7lt7QBSuR/kWXHtASOF6FDVce0AK16MoUl57QMP1KLR2YXtAmpmZefVhe0CamZlhz2F7QGZmZnY5YXtAj8L1eNNge0CamZnRN197QGZmZn6yXntAH4XrKZJee0BSuB5dYWN7QIXrUSCMZHtAj8L1SKxoe0CF61HIY2x7QFyPwt0ieXtAPQrXcw1+e0CF61FoaYB7QMP1KNyegntAMzMzw9yEe0AUrkeh34Z7QD0K13MLkXtAmpmZES6ce0AfheuRprN7QKRwPfKLuntA4XoU9ri9e0CuR+F6tcB7QIXrUSCVw3tA9ihcN93Je0ApXI9ap8x7QKRwPSon1XtA7FG4PtXXe0BxPQr3QNp7QNejcP0U33tAmpmZsRDke0BSuB5NOOl7QDMzM3OL63tAZmZmdgPte0DhehRuD/R7QFK4HsVk93tA16NwhbgEfED2KFwfwQZ8QA==\"},\"shape\":[86],\"dtype\":\"float64\",\"order\":\"little\"}],[\"SMA200\",{\"type\":\"ndarray\",\"array\":{\"type\":\"bytes\",\"data\":\"AAAAAAAA+H8AAAAAAAD4fwAAAAAAAPh/AAAAAAAA+H8AAAAAAAD4fwAAAAAAAPh/AAAAAAAA+H8AAAAAAAD4fwAAAAAAAPh/AAAAAAAA+H8AAAAAAAD4fwAAAAAAAPh/AAAAAAAA+H8AAAAAAAD4fwAAAAAAAPh/AAAAAAAA+H8AAAAAAAD4fwAAAAAAAPh/AAAAAAAA+H8AAAAAAAD4fwAAAAAAAPh/AAAAAAAA+H8AAAAAAAD4fwAAAAAAAPh/AAAAAAAA+H8AAAAAAAD4fwAAAAAAAPh/AAAAAAAA+H8AAAAAAAD4fwAAAAAAAPh/AAAAAAAA+H8AAAAAAAD4fwAAAAAAAPh/AAAAAAAA+H8AAAAAAAD4fwAAAAAAAPh/AAAAAAAA+H8AAAAAAAD4fwAAAAAAAPh/AAAAAAAA+H8AAAAAAAD4fwAAAAAAAPh/AAAAAAAA+H8AAAAAAAD4fwAAAAAAAPh/AAAAAAAA+H8AAAAAAAD4fwAAAAAAAPh/AAAAAAAA+H8AAAAAAAD4fwAAAAAAAPh/AAAAAAAA+H8AAAAAAAD4fwAAAAAAAPh/AAAAAAAA+H8AAAAAAAD4fwAAAAAAAPh/AAAAAAAA+H8AAAAAAAD4fwAAAAAAAPh/AAAAAAAA+H8AAAAAAAD4fwAAAAAAAPh/AAAAAAAA+H8AAAAAAAD4fwAAAAAAAPh/AAAAAAAA+H8AAAAAAAD4fwAAAAAAAPh/AAAAAAAA+H8AAAAAAAD4fwAAAAAAAPh/AAAAAAAA+H8AAAAAAAD4fwAAAAAAAPh/AAAAAAAA+H8AAAAAAAD4fwAAAAAAAPh/AAAAAAAA+H8AAAAAAAD4fwAAAAAAAPh/AAAAAAAA+H8AAAAAAAD4fwAAAAAAAPh/AAAAAAAA+H8AAAAAAAD4fw==\"},\"shape\":[86],\"dtype\":\"float64\",\"order\":\"little\"}],[\"pivotHigh\",{\"type\":\"ndarray\",\"array\":{\"type\":\"bytes\",\"data\":\"AAAAAAAA+H8AAAAAAAD4fwAAAAAAAPh/AAAAAAAA+H8AAAAAAAD4fwAAAAAAAPh/AAAAAAAA+H8AAAAAAAD4fwAAAAAAAPh/AAAAAAAA+H8AAAAAAAD4fwAAAAAAAPh/AAAAAAAA+H8AAAAAAAD4fwAAAAAAAPh/AAAAAAAA+H8AAAAAAAD4fwAAAAAAAPh/AAAAAAAA+H8AAAAAAAD4fwAAAAAAAPh/AAAAAAAA+H8AAAAAAAD4fwAAAAAAAPh/AAAAAAAA+H8AAAAAAAD4fwAAAAAAAPh/AAAAAAAA+H8AAAAAAAD4fwAAAAAAAPh/AAAAAAAA+H8AAAAAAAD4fwAAAAAAAPh/AAAAAAAA+H8AAAAAAAD4fwAAAAAAAPh/AAAAAAAA+H8AAAAAAAD4fwAAAAAAAPh/AAAAAAAA+H8AAAAAAAD4fwAAAAAAAPh/AAAAAAAA+H8AAAAAAAD4fwAAAAAAAPh/AAAAAAAA+H8AAAAAAAD4fwAAAAAAAPh/AAAAAAAA+H8AAAAAAAD4fwAAAAAAAPh/AAAAAAAA+H8AAAAAAAD4fwAAAAAAAPh/AAAAAAAA+H8AAAAAAAD4fwAAAAAAAPh/AAAAAAAA+H8AAAAAAAD4fwAAAAAAAPh/AAAAAAAA+H8AAAAAAAD4fwAAAAAAAPh/AAAAAAAA+H8AAAAAAAD4fwAAAAAAAPh/AAAAAAAA+H8AAAAAAAD4fwAAAAAAAPh/AAAAAAAA+H8AAAAAAAD4fwAAAAAAAPh/AAAAAAAA+H8AAAAAAAD4fwAAAAAAAPh/AAAAAAAA+H8AAAAAAAD4fwAAAAAAAPh/AAAAAAAA+H8AAAAAAAD4fwAAAAAAAPh/AAAAAAAA+H8AAAAAAAD4fwAAAAAAAPh/AAAAAAAA+H8AAAAAAAD4fw==\"},\"shape\":[86],\"dtype\":\"float64\",\"order\":\"little\"}],[\"pivotLow\",{\"type\":\"ndarray\",\"array\":{\"type\":\"bytes\",\"data\":\"AAAAAAAA+H8AAAAAAAD4fwAAAAAAAPh/AAAAAAAA+H9Ei2yHbBl7QAAAAAAAAPh/AAAAAAAA+H8AAAAAAAD4fwAAAAAAAPh/AAAAAAAA+H8AAAAAAAD4fwAAAAAAAPh/AAAAAAAA+H8AAAAAAAD4fwAAAAAAAPh/AAAAAAAA+H8AAAAAAAD4fwAAAAAAAPh/AAAAAAAA+H8AAAAAAAD4fwAAAAAAAPh/AAAAAAAA+H8AAAAAAAD4fwAAAAAAAPh/AAAAAAAA+H8AAAAAAAD4fwAAAAAAAPh/AAAAAAAA+H8AAAAAAAD4fwAAAAAAAPh/AAAAAAAA+H9Fi2wnBvN6QAAAAAAAAPh/AAAAAAAA+H8AAAAAAAD4fwAAAAAAAPh/AAAAAAAA+H8AAAAAAAD4fwAAAAAAAPh/AAAAAAAA+H8AAAAAAAD4fwAAAAAAAPh/AAAAAAAA+H8AAAAAAAD4fwAAAAAAAPh/RItsp/FQe0AAAAAAAAD4fwAAAAAAAPh/AAAAAAAA+H8AAAAAAAD4fwAAAAAAAPh/RItsB1hZe0AAAAAAAAD4fwAAAAAAAPh/AAAAAAAA+H8AAAAAAAD4fwAAAAAAAPh/AAAAAAAA+H8AAAAAAAD4fwAAAAAAAPh/AAAAAAAA+H8AAAAAAAD4fwAAAAAAAPh/AAAAAAAA+H8AAAAAAAD4fwAAAAAAAPh/AAAAAAAA+H8AAAAAAAD4fwAAAAAAAPh/AAAAAAAA+H8AAAAAAAD4fwAAAAAAAPh/AAAAAAAA+H8AAAAAAAD4fwAAAAAAAPh/AAAAAAAA+H9Fi2wnBjd8QAAAAAAAAPh/AAAAAAAA+H8AAAAAAAD4fwAAAAAAAPh/AAAAAAAA+H8AAAAAAAD4fwAAAAAAAPh/AAAAAAAA+H8AAAAAAAD4fw==\"},\"shape\":[86],\"dtype\":\"float64\",\"order\":\"little\"}],[\"isPivot\",{\"type\":\"ndarray\",\"array\":{\"type\":\"bytes\",\"data\":\"AAAAAAAA+H8AAAAAAAD4fwAAAAAAAPh/AAAAAAAA+H8AAAAAAAAAQAAAAAAAAPh/AAAAAAAA+H8AAAAAAAD4fwAAAAAAAPh/AAAAAAAA+H8AAAAAAAD4fwAAAAAAAPh/AAAAAAAA+H8AAAAAAAD4fwAAAAAAAPh/AAAAAAAA+H8AAAAAAAD4fwAAAAAAAPh/AAAAAAAA+H8AAAAAAAD4fwAAAAAAAPh/AAAAAAAA+H8AAAAAAAD4fwAAAAAAAPh/AAAAAAAA+H8AAAAAAAD4fwAAAAAAAPh/AAAAAAAA+H8AAAAAAAD4fwAAAAAAAPh/AAAAAAAA+H8AAAAAAAAAQAAAAAAAAPh/AAAAAAAA+H8AAAAAAAD4fwAAAAAAAPh/AAAAAAAA+H8AAAAAAAD4fwAAAAAAAPh/AAAAAAAA+H8AAAAAAAD4fwAAAAAAAPh/AAAAAAAA+H8AAAAAAAD4fwAAAAAAAPh/AAAAAAAAAEAAAAAAAAD4fwAAAAAAAPh/AAAAAAAA+H8AAAAAAAD4fwAAAAAAAPh/AAAAAAAAAEAAAAAAAAD4fwAAAAAAAPh/AAAAAAAA+H8AAAAAAAD4fwAAAAAAAPh/AAAAAAAA+H8AAAAAAAD4fwAAAAAAAPh/AAAAAAAA+H8AAAAAAAD4fwAAAAAAAPh/AAAAAAAA+H8AAAAAAAD4fwAAAAAAAPh/AAAAAAAA+H8AAAAAAAD4fwAAAAAAAPh/AAAAAAAA+H8AAAAAAAD4fwAAAAAAAPh/AAAAAAAA+H8AAAAAAAD4fwAAAAAAAPh/AAAAAAAA+H8AAAAAAAAAQAAAAAAAAPh/AAAAAAAA+H8AAAAAAAD4fwAAAAAAAPh/AAAAAAAA+H8AAAAAAAD4fwAAAAAAAPh/AAAAAAAA+H8AAAAAAAD4fw==\"},\"shape\":[86],\"dtype\":\"float64\",\"order\":\"little\"}]]}}},\"view\":{\"type\":\"object\",\"name\":\"CDSView\",\"id\":\"p1061\",\"attributes\":{\"filter\":{\"type\":\"object\",\"name\":\"AllIndices\",\"id\":\"p1062\"}}},\"glyph\":{\"type\":\"object\",\"name\":\"VBar\",\"id\":\"p1057\",\"attributes\":{\"x\":{\"type\":\"field\",\"field\":\"index\"},\"width\":{\"type\":\"value\",\"value\":0.6},\"bottom\":{\"type\":\"field\",\"field\":\"Open\"},\"top\":{\"type\":\"field\",\"field\":\"Close\"},\"line_color\":{\"type\":\"value\",\"value\":\"red\"},\"fill_color\":{\"type\":\"value\",\"value\":\"red\"}}},\"nonselection_glyph\":{\"type\":\"object\",\"name\":\"VBar\",\"id\":\"p1058\",\"attributes\":{\"x\":{\"type\":\"field\",\"field\":\"index\"},\"width\":{\"type\":\"value\",\"value\":0.6},\"bottom\":{\"type\":\"field\",\"field\":\"Open\"},\"top\":{\"type\":\"field\",\"field\":\"Close\"},\"line_color\":{\"type\":\"value\",\"value\":\"red\"},\"line_alpha\":{\"type\":\"value\",\"value\":0.1},\"fill_color\":{\"type\":\"value\",\"value\":\"red\"},\"fill_alpha\":{\"type\":\"value\",\"value\":0.1},\"hatch_alpha\":{\"type\":\"value\",\"value\":0.1}}},\"muted_glyph\":{\"type\":\"object\",\"name\":\"VBar\",\"id\":\"p1059\",\"attributes\":{\"x\":{\"type\":\"field\",\"field\":\"index\"},\"width\":{\"type\":\"value\",\"value\":0.6},\"bottom\":{\"type\":\"field\",\"field\":\"Open\"},\"top\":{\"type\":\"field\",\"field\":\"Close\"},\"line_color\":{\"type\":\"value\",\"value\":\"red\"},\"line_alpha\":{\"type\":\"value\",\"value\":0.2},\"fill_color\":{\"type\":\"value\",\"value\":\"red\"},\"fill_alpha\":{\"type\":\"value\",\"value\":0.2},\"hatch_alpha\":{\"type\":\"value\",\"value\":0.2}}}}},{\"type\":\"object\",\"name\":\"GlyphRenderer\",\"id\":\"p1072\",\"attributes\":{\"data_source\":{\"type\":\"object\",\"name\":\"ColumnDataSource\",\"id\":\"p1063\",\"attributes\":{\"selected\":{\"type\":\"object\",\"name\":\"Selection\",\"id\":\"p1064\",\"attributes\":{\"indices\":[],\"line_indices\":[]}},\"selection_policy\":{\"type\":\"object\",\"name\":\"UnionRenderers\",\"id\":\"p1065\"},\"data\":{\"type\":\"map\",\"entries\":[[\"index\",{\"type\":\"ndarray\",\"array\":{\"type\":\"bytes\",\"data\":\"AAAAAAEAAAADAAAABQAAAAYAAAAHAAAACAAAAAwAAAANAAAADgAAAA8AAAAQAAAAEgAAABMAAAAXAAAAHQAAAB4AAAAfAAAAJQAAACcAAAAqAAAALAAAAC4AAAAwAAAAMQAAADMAAAA0AAAANwAAADgAAAA7AAAAPQAAAD8AAABAAAAAQQAAAEIAAABDAAAARAAAAEYAAABHAAAASAAAAEoAAABMAAAATQAAAE4AAABPAAAAUgAAAFMAAABUAAAAVgAAAFcAAABYAAAAWwAAAFwAAABdAAAAXgAAAF8AAABjAAAAZwAAAGgAAABpAAAAagAAAGwAAABtAAAAbgAAAG8AAABzAAAAdgAAAHcAAAB5AAAAewAAAHwAAAB/AAAAgAAAAIEAAACEAAAAhQAAAIcAAACJAAAAigAAAIsAAACMAAAAjQAAAI8AAACVAAAAlgAAAJcAAACZAAAAmgAAAJsAAACdAAAAngAAAJ8AAACgAAAAoQAAAKIAAACkAAAAqQAAAKwAAACtAAAAsQAAALMAAAC1AAAAuQAAALoAAAC7AAAAvQAAAL8AAADAAAAAwQAAAMIAAADDAAAAxAAAAMcAAAA=\"},\"shape\":[113],\"dtype\":\"int32\",\"order\":\"little\"}],[\"Close\",{\"type\":\"ndarray\",\"array\":{\"type\":\"bytes\",\"data\":\"AQAAQAo7e0AAAAAghUt7QAAAAOB6UHtAAAAAoHBFe0AAAABgj0p7QAAAACBcW3tAAAAAYGZqe0AAAACA60l7QAEAAEAKU3tAAAAAIK53e0AAAAAgrot7QAAAAGC4jntAAAAAoJmde0AAAACAPbJ7QAAAAAAAnHtAAQAAQBo+e0ABAABAM1N7QAAAAGDlYHtAAAAAgBQ+e0AAAADg4Ep7QAAAAKBHOXtAAAAAgOIze0ABAADAHj97QAEAAMDMSHtAAQAAwLgae0AAAADgUSh7QAEAAMAeLXtAAQAAQAoTe0AAAAAgrh97QAAAAOCVCXtAAAAAYDkKe0ABAADAzAx7QAAAAKBHHXtAAAAAgD0qe0AAAADgejh7QAAAAIDCR3tAAAAAANdLe0AAAADgUTh7QAEAAMDMQHtAAAAA4KNIe0AAAACgRz17QAAAAIA9RntAAQAAQOFKe0AAAACAFFp7QAAAAKBwYXtAAAAAILBae0AAAACAPWJ7QAAAAAAAsHtAAQAAwMywe0AAAABgUrh7QAAAAMD1wHtAAAAAgK63e0AAAABguLh7QAAAAIA9vntAAAAAIIW3e0ABAADAHrl7QAAAACCFu3tAAAAAwPVse0AAAACAenR7QAEAAMDMdHtAAAAAAAB8e0AAAADgjHd7QAAAAADlfntAAQAAwMyQe0AAAACAwql7QAAAAIBRdHtAAAAAgBRye0AAAAAAPXZ7QAAAAGCPentAAQAAwB6Je0AAAACgmY17QAAAAECkmHtAAAAAIK6ne0ABAADAhPN7QAAAAOA94ntAAQAAQOHqe0AAAAAAKeB7QAAAAKBHAXxAAAAAoHAJfEAAAABgjwp8QAAAAIA9DnxAAAAAYLgcfEAAAACA6yZ8QAAAAOCjFHxAAAAAoHAdfEAAAACAFCZ8QAAAACCuJ3xAAAAAYCkwfEAAAADgozh8QAAAAIA9OnxAAQAAwB5FfEAAAAAA1098QAAAAMDhUnxAAAAAwPVkfEAAAACAwmd8QAEAAMAefXxAAAAAwPV8fEAAAAAA11t8QAAAAIDrXXxAAQAAQOFCfEAAAAAghV18QAAAAGBmXHxAAAAAgOthfEAAAADgemR8QAAAAGAJaHxAAAAA4KdpfEABAABAM2N8QAEAAEATbHxAAAAAIK5vfEAAAAAAAHZ8QAAAAADXf3xAAAAAgBSGfEAAAAAghWt8QA==\"},\"shape\":[113],\"dtype\":\"float64\",\"order\":\"little\"}],[\"High\",{\"type\":\"ndarray\",\"array\":{\"type\":\"bytes\",\"data\":\"AQAAQOFSe0AAAADgUVR7QAAAAKBHVXtAAAAAgMJLe0AAAABgj0x7QAAAAAAAZHtAAAAAoPpwe0AAAABgZmJ7QAEAAEAKU3tAAAAAYI96e0AAAACA64t7QAAAAOAUkntAAAAAgD2ge0AAAABgZr57QAAAAOCjnHtAAAAAgOtFe0AAAACAwlV7QAAAAIDrZXtAAAAAIFxDe0ABAABAM0t7QAAAAOBRQHtAAAAAoEc9e0AAAABg0z97QAAAAIDrSXtAAAAAANcfe0ABAADAHil7QAAAAGBmLntAAAAAIK4fe0AAAACAwil7QAEAAEDhCntAAAAAYLgOe0ABAADAzBR7QAEAAEDhHntAAAAAIIUre0ABAABACjt7QAAAAKBwSXtAAAAA4E1Me0ABAADAzDp7QAAAACCFR3tAAQAAQApXe0AAAADgo0B7QAEAAEDhRntAAAAAgOtVe0ABAABAClt7QAEAAMAeY3tAAQAAwMxce0AAAABguGJ7QAEAAMAetXtAAAAAgPKwe0AAAACAwrl7QAAAAIAUwntAAQAAQOG6e0AAAACAwrl7QAEAAEAzv3tAAAAAAAC6e0AAAABgOb57QAAAAAApvHtAAQAAQDNte0ABAADAzHh7QAAAAAApfHtAAAAAoJmBe0AAAAAAAIR7QAAAAIA9gntAAQAAwB6Re0AAAACAPap7QAAAAKBwfXtAAAAAoBxye0AAAABguHZ7QAAAAGC4entAAAAAIIWPe0ABAABAM5t7QAAAAADXmXtAAAAAIIWve0AAAACgcPV7QAAAAADX43tAAAAAQNjre0ABAABAM+N7QAAAAAApCHxAAAAAANcLfEAAAABgjw58QAAAAOBRFHxAAAAAYGYefEAAAACAwjV8QAAAAKCZFXxAAAAAIFwhfEAAAAAgXCd8QAEAAEAKK3xAAAAAgBQyfEABAABA4T58QAAAACBcPXxAAQAAQApLfEAAAADgDVZ8QAAAAGBmVnxAAQAAwB5lfEAAAAAghW18QAAAAKBwhXxAAQAAwB6BfEAAAABguGJ8QAAAAOB6bHxAAAAAYI9GfEAAAACAFF58QAAAAOCjXHxAAQAAQDNnfEAAAACgR2l8QAAAAKBHa3xAAAAA4KNwfEAAAAAA12N8QAAAAIAUcnxAAAAAoHBxfEAAAACgm3l8QAAAAIDrgXxAAAAAoHCHfEAAAABgj3J8QA==\"},\"shape\":[113],\"dtype\":\"float64\",\"order\":\"little\"}],[\"Low\",{\"type\":\"ndarray\",\"array\":{\"type\":\"bytes\",\"data\":\"AAAAgBQqe0AAAACAwjF7QAEAAEDhRntAAAAAIK41e0AAAAAAnEF7QAAAAAApSHtAAAAAYI9ae0AAAAAgXB97QAAAAIAUMntAAAAAIK5De0AAAACA62V7QAAAAMD1gHtAAAAA4FGMe0AAAACgmZ17QAAAAGC4hntAAAAA4Howe0AAAACgmT17QAAAAMD1UHtAAQAAwMwwe0AAAAAAKTB7QAAAAKCZGXtAAAAAANcre0AAAADA9Sx7QAAAACBcNXtAAAAAIGMLe0AAAACAFBB7QAEAAEAzI3tAAAAAIFwPe0AAAACgmQl7QAAAAGBm+npAAAAAQKQAe0AAAACAFP56QAAAAOCjCHtAAAAAwDcce0AAAACA6yd7QAAAAOCjOHtAAAAAoHBBe0AAAABgjyZ7QAAAAIA9NntAAAAAIK4/e0AAAADgozB7QAAAAGCPMntAAAAA4KM4e0AAAABgjz57QAAAACBcU3tAAAAAgMJNe0AAAADgUVJ7QAAAAIDCkXtAAAAAACmge0AAAAAA1697QAEAAMAet3tAAAAAgBSqe0AAAADgUbB7QAAAAOD7tntAAAAAYGaee0AAAADgPbJ7QAAAAKBwq3tAAAAAoEdVe0AAAADA9Wp7QAAAAIDrb3tAAAAAYGZ0e0AAAAAghWd7QAEAAMAebXtAAQAAwEJ+e0AAAADA9ZB7QAEAAMDMYHtAAAAA4FFke0AAAACAemh7QAAAAIDCaXtAAAAA4FGAe0AAAAAAAIZ7QAAAAIDChXtAAQAAQAqTe0AAAAAAT917QAAAAAAA1HtAAAAAAADge0ABAADAHtl7QAAAAADX/XtAAAAAIB3+e0AAAABgjwJ8QAAAAIDrCXxAAAAAAAAMfEABAABA4SJ8QAAAAADXB3xAAAAAoEcRfEAAAABgjxp8QAAAAOCjIHxAAAAAYLgmfEAAAABgjyp8QAEAAEDGIHxAAAAAAHE1fEABAADAzEB8QAAAAGBmTHxAAAAAgBRSfEAAAAAAKVx8QAAAAAApcHxAAAAAwPVqfEAAAADA9Ux8QAAAACBcW3xAAAAAgD04fEAAAADgo0R8QAAAAIDCSXxAAAAAAABMfEAAAAAA11t8QAAAAAAAXHxAAAAAIIVjfEABAABAM1d8QAAAAGCPXnxAAAAAYI9mfEAAAAAgXG98QAAAAOBRdHxAAQAAQDN7fEAAAABguGZ8QA==\"},\"shape\":[113],\"dtype\":\"float64\",\"order\":\"little\"}],[\"Open\",{\"type\":\"ndarray\",\"array\":{\"type\":\"bytes\",\"data\":\"AQAAwB41e0ABAABAMzt7QAAAAIA9SntAAAAAgMI9e0AAAAAgXEV7QAAAAAApUHtAAAAAoHBbe0AAAACA6yd7QAAAAGCPSntAAAAAoEdFe0AAAAAgrnd7QAAAACCFi3tAAAAAgD2Oe0AAAACgvZ17QAAAAOBRjHtAAQAAwMw0e0AAAABgZj57QAEAAEAzU3tAAAAAoEc1e0AAAAAgrjF7QAEAAEAzH3tAAAAAoHAte0AAAADgUTB7QAAAAKBHOXtAAQAAQOEOe0AAAABguBJ7QAAAAOB6KHtAAAAAgBQSe0AAAACA6wl7QAAAAKCZBXtAAAAAgMIBe0AAAACA6wl7QAAAAMD1DHtAAAAAgOsde0AAAACAPSp7QAAAAOCjOHtAAAAAANdHe0ABAADAzDB7QAAAAOB6OHtAAQAAwMxAe0AAAADgejx7QAAAAKBHNXtAAAAAIFw/e0ABAABACkt7QAAAAOAtWntAAAAAIK5Te0AAAABgj1p7QAEAAEAKl3tAAQAAwB6re0ABAABAzbB7QAAAAOB6uHtAAAAAYLiue0AAAAAA17d7QAEAAMDMuHtAAAAAYI+ee0AAAAAgrrd7QAAAACCFq3tAAAAAoEdVe0AAAADA9Wx7QAAAAOBRdHtAAAAA4KN0e0AAAACAFGp7QAAAAKCZd3tAAAAAIFx/e0AAAADA9ZB7QAEAAEDhYntAAAAAgD1me0AAAAAAPXJ7QAAAAAApcHtAAAAAACmEe0ABAADAHol7QAAAACCFi3tAAAAAQKSYe0AAAACAPeZ7QAAAAKCZ1XtAAAAAYI/ie0AAAABgZtp7QAAAAIAU/ntAAAAAoHABfEAAAACgRwl8QAAAAGC4CnxAAAAAgD0OfEAAAADgUSZ8QAAAAIAUEnxAAAAAgBQSfEAAAACgmR18QAAAAADXI3xAAAAAoHAnfEAAAABApDB8QAAAAAAAKHxAAAAAYGY6fEAAAACgR0V8QAAAACCuT3xAAQAAQApTfEABAABACmV8QAAAAAApcHxAAAAAIFxrfEAAAAAA11d8QAAAAADXW3xAAAAA4FE4fEABAADAzER8QAAAAIDCUXxAAAAAgOtVfEAAAACAFGJ8QAAAAOB6ZHxAAAAAoHBnfEAAAAAA11d8QAAAAMD1XnxAAAAAgOtrfEAAAAAAAHB8QAAAAIDrdXxAAAAAgOt/fEAAAAAghWd8QA==\"},\"shape\":[113],\"dtype\":\"float64\",\"order\":\"little\"}],[\"Volume\",{\"type\":\"ndarray\",\"array\":{\"type\":\"bytes\",\"data\":\"5gMjAQsWsACJSZ0ACoysAOSapwA0nakAeaKLAONxXAHurc0A42U4AWdqrwD8BZ8AN7iBAP7YFAEYa4sADGyaACfoYABdibAAAIduANGfZQDMOd8AI8lTAM6jVgCXzasA/8vuANQChgCWjWAA4pcCAfSsoQBm4lEA1xdeAPkuswBqX4UA/npdAF/nYwBWPXMAJknAAFZnvgB4/pIAZyVlAJi4UABz4MoAx7HHAGU2hgCCamgA5QBOAKLPsQD7MS4BrWN6AI50gAAPynUAe7+jAHAhaABtQ2MAk7iYABi5egBjkFcAws6MAARYgwC6VFsAV79bAB/7qQDvN1IAXc9lAAzjoACVrakAsAxMAJU/TgAlvbcAAPhkAAlscwCTOWsAGejmAIiVNgHXotkCWBZTAOwAEwGDzowAhpZnACXhYgDgGFQAjO93ADto0QDWyZ4AAlGdAKaRTgDUhzYA0jxBALydYwB4WKAAwyZdAI89gwAT/lUAi7ZkAM2ghQAnuM0AAhhdAC7oiABqSW0A+uypAMr2XwACwFIA9mixAMWaZgCnGUgAOy9gAOoZjwCl3H0AbvNUAAYfZABUFUQAPitZAFTPbQA=\"},\"shape\":[113],\"dtype\":\"int32\",\"order\":\"little\"}],[\"datetime\",{\"type\":\"ndarray\",\"array\":{\"type\":\"bytes\",\"data\":\"AAD8Lk+LeEIAAOSdUot4QgAAtHtZi3hCAACEWWCLeEIAAGzIY4t4QgAAvJShi3hCAACkA6WLeEIAAES/sot4QgAALC62i3hCAAB8+vOLeEIAAGRp94t4QgAATNj6i3hCAAActgGMeEIAAAQlBYx4QgAADD5NjHhCAAAkZpONeEIAAAzVlo14QgAA9EOajXhCAADMOumNeEIAAJwY8I14QgAAvMI0jnhCAACMoDuOeEIAAFx+Qo54QgAALFxJjnhCAAB8KIeOeEIAAEwGjo54QgAANHWRjnhCAADswZuOeEIAALxZfo94QgAAdKaIj3hCAABEhI+PeEIAAHy/0I94QgAAZC7Uj3hCAABMndePeEIAADQM2494QgAAHHvej3hCAAAE6uGPeEIAADwlI5B4QgAAJJQmkHhCAAAMAyqQeEIAANzgMJB4QgAArL43kHhCAAD8inWQeEIAAOT5eJB4QgAAzGh8kHhCAACEtYaQeEIAAGwkipB4QgAAvPDHkHhCAACMzs6QeEIAAHQ90pB4QgAAXKzVkHhCAAD8Ib+ReEIAAOSQwpF4QgAAzP/FkXhCAAB87WOSeEIAAGRcZ5J4QgAABBh1knhCAAAMMb2SeEIAAPSfwJJ4QgAA3A7EknhCAADEfceSeEIAAPy4CJN4QgAA5CcMk3hCAADMlg+TeEIAALQFE5N4QgAAPOr/k3hCAAD0NgqUeEIAANylDZR4QgAArIMUlHhCAADkvlWUeEIAAMwtWZR4QgAAhHpjlHhCAABs6WaUeEIAALy1pJR4QgAAdAKvlHhCAABccbKUeEIAACxPuZR4QgAAZIr6lHhCAABM+f2UeEIAADRoAZV4QgAAHNcElXhCAAAERgiVeEIAADyBSZV4QgAArBpelXhCAAB8skCWeEIAAGQhRJZ4QgAANP9KlnhCAAAcbk6WeEIAAATdUZZ4QgAAPBiTlnhCAAAkh5aWeEIAAAz2mZZ4QgAA9GSdlnhCAADc06CWeEIAAMRCpJZ4QgAA/H3llnhCAACEqPaWeEIAAKRSO5d4QgAAjME+l3hCAAAsfUyXeEIAAGS4jZd4QgAANJaUl3hCAAC8eoGYeEIAAKTphJh4QgAAjFiImHhCAABcNo+YeEIAACwUlph4QgAAfODTmHhCAABkT9eYeEIAAEy+2ph4QgAANC3emHhCAAAcnOGYeEIAADxGJpl4Qg==\"},\"shape\":[113],\"dtype\":\"float64\",\"order\":\"little\"}],[\"companyName\",{\"type\":\"ndarray\",\"array\":[\"SPY\",\"SPY\",\"SPY\",\"SPY\",\"SPY\",\"SPY\",\"SPY\",\"SPY\",\"SPY\",\"SPY\",\"SPY\",\"SPY\",\"SPY\",\"SPY\",\"SPY\",\"SPY\",\"SPY\",\"SPY\",\"SPY\",\"SPY\",\"SPY\",\"SPY\",\"SPY\",\"SPY\",\"SPY\",\"SPY\",\"SPY\",\"SPY\",\"SPY\",\"SPY\",\"SPY\",\"SPY\",\"SPY\",\"SPY\",\"SPY\",\"SPY\",\"SPY\",\"SPY\",\"SPY\",\"SPY\",\"SPY\",\"SPY\",\"SPY\",\"SPY\",\"SPY\",\"SPY\",\"SPY\",\"SPY\",\"SPY\",\"SPY\",\"SPY\",\"SPY\",\"SPY\",\"SPY\",\"SPY\",\"SPY\",\"SPY\",\"SPY\",\"SPY\",\"SPY\",\"SPY\",\"SPY\",\"SPY\",\"SPY\",\"SPY\",\"SPY\",\"SPY\",\"SPY\",\"SPY\",\"SPY\",\"SPY\",\"SPY\",\"SPY\",\"SPY\",\"SPY\",\"SPY\",\"SPY\",\"SPY\",\"SPY\",\"SPY\",\"SPY\",\"SPY\",\"SPY\",\"SPY\",\"SPY\",\"SPY\",\"SPY\",\"SPY\",\"SPY\",\"SPY\",\"SPY\",\"SPY\",\"SPY\",\"SPY\",\"SPY\",\"SPY\",\"SPY\",\"SPY\",\"SPY\",\"SPY\",\"SPY\",\"SPY\",\"SPY\",\"SPY\",\"SPY\",\"SPY\",\"SPY\",\"SPY\",\"SPY\",\"SPY\",\"SPY\",\"SPY\",\"SPY\"],\"shape\":[113],\"dtype\":\"object\",\"order\":\"little\"}],[\"SMA20\",{\"type\":\"ndarray\",\"array\":{\"type\":\"bytes\",\"data\":\"AAAAAAAA+H8AAAAAAAD4fwAAAAAAAPh/AAAAAAAA+H8AAAAAAAD4fwAAAAAAAPh/AAAAAAAA+H8AAAAAAAD4fwAAAAAAAPh/AAAAAAAA+H8AAAAAAAD4fwAAAAAAAPh/AAAAAAAA+H8zMzPLnGF7QGZmZubLcntAzczMrDZ6e0CamZkxJnp7QDMzM4MAfXtAmpmZ0bdve0BmZmZuKGV7QM3MzISBVXtAzczMNAdLe0CamZnpT0N7QGZmZjY9QXtAZmZmVng/e0CamZnRajl7QJqZmaHiNntAzczM9Bsve0BmZmaGCS57QAAAAEjaJXtAMzMz0yQhe0DNzMwELRx7QM3MzKwLG3tAZmZm5r8ae0AAAADoahp7QDMzM4MkG3tAzczMbEsbe0DNzMyUKB97QM7MzOxhIHtAaGZmLsIhe0A1MzO7WSV7QGhmZp7/KHtAzszMtFkse0DOzMwMkzB7QGhmZpb3NHtAm5mZORtCe0DNzMzcYEZ7QJqZmeG2TXtAzczMnCtae0AAAABozF97QDMzM4unZXtAAAAAEBJ4e0AAAACwrH17QGZmZp4phHtAMzMzS0aKe0DNzMzM25B7QDMzM0MbpHtAAAAAuB2pe0AAAADYI6Z7QJqZmZFto3tAMzMzu8mge0BmZmaWCZp7QM3MzCTElntAmpmZoQOVe0BmZmZuUZR7QGZmZl6liHtAZmZmhlV+e0AAAAC43np7QM3MzEwieXtAMzMzw+B8e0CamZlRIn57QGZmZqapgXtAZmZmthGEe0AAAACA5ol7QAAAAFgJlHtAmpmZCSeZe0AzMzNzN6R7QM3MzOxLs3tAzczMVN26e0CamZnZR8J7QDMzMzstyntAmpmZ4UjSe0AAAAA4l+F7QGZmZtb3BHxAMzMzS4sHfEAAAABwkQt8QGZmZlbjEXxAmpmZIS8WfEDNzMysmxp8QM3MzAzWH3xAzczM9NEifEDNzMy8SCZ8QJqZmVm3KXxAzczMBFQtfEAAAADASDF8QJqZmdGgOHxAMzMzMw5QfEBmZmY+kFl8QDMzM4NGXHxAAAAAsMxffECamZkBeWB8QJqZmRn9X3xAZmZm9qFZfEAzMzPjwFh8QM3MzDw8WHxAAAAA+BNXfEDNzMyUWFZ8QM3MzGQoV3xAmpmZuQtYfEAAAADgall8QAAAAJiJXHxAmpmZ8WxgfECamZkZqmZ8QA==\"},\"shape\":[113],\"dtype\":\"float64\",\"order\":\"little\"}],[\"SMA40\",{\"type\":\"ndarray\",\"array\":{\"type\":\"bytes\",\"data\":\"AAAAAAAA+H8AAAAAAAD4fwAAAAAAAPh/AAAAAAAA+H8AAAAAAAD4fwAAAAAAAPh/AAAAAAAA+H8AAAAAAAD4fwAAAAAAAPh/AAAAAAAA+H8AAAAAAAD4fwAAAAAAAPh/AAAAAAAA+H8AAAAAAAD4fwAAAAAAAPh/AAAAAAAA+H8AAAAAAAD4fwAAAAAAAPh/AAAAAAAA+H/NzMycYmN7QJqZmWFDYntAzczM+CVhe0DNzMyQVGB7QAAAAEijXntAmpmZgddce0BmZmaqNVt7QM3MzFh9WntAAAAAVKdTe0AAAACs4FB7QDMzM1uBRXtAZmZmKmg9e0AzMzO7FTZ7QM3MzHAJM3tAMzMzG3swe0DNzMxo3S57QM3MzNCuLXtAmpmZUUQue0CamZnJsy17QDMzM1/mLHtAAAAAaFIse0AzMzMDFyt7QGZmZpKEK3tAmpmZfdYre0BmZmaK2Cx7QDMzM+9oLXtAzczMEPcve0DNzMzwRjF7QDMzM0dhNHtAZmZmQks6e0CamZl1eD17QAAAAHx5QHtAZmZm/jlMe0AzMzNvt097QDMzM6+sU3tAMzMzA9BXe0DNzMzs9lt7QM3MzGyJbHtAZmZmSr93e0DNzMxc7Xl7QDMzM4vKe3tAAAAArHp9e0DNzMyQ2H97QDMzM7tbgXtAzczMAJKDe0AzMzO/MYZ7QJqZmZXAjHtAmpmZ4feOe0CamZn9fI97QDMzM/f7kHtAmpmZPf+Se0DNzMwUI5J7QM3MzHCvj3tAZmZmpg2Pe0BmZmZSVZB7QGZmZqZ4k3tAAAAAWJaUe0DNzMxobpZ7QDMzM1dAmntAmpmZbZmce0DNzMxIk557QAAAABzhoHtAMzMzl7Wle0CamZn9O697QDMzMytvx3tAAAAARPPKe0BmZmbqDs57QAAAADCF1XtAZmZmGoHae0AAAACQad97QM3MzPyQ6XtAzczMpNfue0AzMzNLSPR7QGZmZkry+XtAMzMzc87/e0DNzMwQfgV8QGZmZq7tEHxAzczMBIMqfEAzMzOrNDR8QM3MzOwUN3xAZmZmXtE/fEAzMzPfYEN8QDMzM4+oRnxAMzMzR4dLfEBmZmYmV018QDMzMytOT3xAmpmZFZFTfEA1MzMDjlZ8QJuZmVFcWHxAaGZmHilafECbmZkV6Ft8QDUzM8OvXXxAm5mZheVffECbmZmNkWN8QA==\"},\"shape\":[113],\"dtype\":\"float64\",\"order\":\"little\"}],[\"SMA100\",{\"type\":\"ndarray\",\"array\":{\"type\":\"bytes\",\"data\":\"AAAAAAAA+H8AAAAAAAD4fwAAAAAAAPh/AAAAAAAA+H8AAAAAAAD4fwAAAAAAAPh/AAAAAAAA+H8AAAAAAAD4fwAAAAAAAPh/AAAAAAAA+H8AAAAAAAD4fwAAAAAAAPh/AAAAAAAA+H8AAAAAAAD4fwAAAAAAAPh/AAAAAAAA+H8AAAAAAAD4fwAAAAAAAPh/AAAAAAAA+H8AAAAAAAD4fwAAAAAAAPh/AAAAAAAA+H8AAAAAAAD4fwAAAAAAAPh/AAAAAAAA+H8AAAAAAAD4fwAAAAAAAPh/AAAAAAAA+H8AAAAAAAD4fwAAAAAAAPh/AAAAAAAA+H8AAAAAAAD4fwAAAAAAAPh/AAAAAAAA+H8AAAAAAAD4fwAAAAAAAPh/AAAAAAAA+H8AAAAAAAD4fwAAAAAAAPh/AAAAAAAA+H8AAAAAAAD4fwAAAAAAAPh/AAAAAAAA+H8AAAAAAAD4fwAAAAAAAPh/AAAAAAAA+H8AAAAAAAD4fwAAAAAAAPh/AAAAAAAA+H8AAAAAAAD4fwAAAAAAAPh/AAAAAAAA+H8AAAAAAAD4fwAAAAAAAPh/AAAAAAAA+H8AAAAAAAD4f9ejcEW9WntAUrge/X1ce0CamZkRCl17QPYoXE+DXXtAhetR4AFee0CuR+HSc157QDMzM1u8XntAFK5HwVZfe0CamZlZo2B7QDMzM5OTYXtAexSuD2Rge0DNzMx0yl97QOxRuJbHXntAFK5HKYJee0Bcj8KVaV57QHE9Ci/oXntACtejGA9ge0DXo3CF32F7QI/C9SjaZXtAhetROFRne0AzMzNTYWp7QGZmZn5XbntAKVyPon9we0BxPQpXanJ7QArXo8iFdHtAhetREOd2e0D2KFy3oHt7QD0K12tfiXtAFK5HOQqMe0CamZnZk457QFyPwq2uk3tACtejQIuWe0BmZmbeepl7QK5H4XI+n3tAuB6Fa3Cie0CamZmhs6V7QNejcHUSqXtApHA9Goqse0D2KFxvOrB7QAAAAEgrt3tAZmZmZrrGe0DXo3DdZ897QM3MzNRM0ntAhetR2Lvce0AK16NQmuF7QBSuR8m25ntAKVyPotfue0Bcj8Kdo/B7QKRwPXJl8ntA4XoU7sD1e0C4HoXbG/l7QJqZmQHn+ntACtejQK38e0CamZnhlP57QClcj5qRAHxAmpmZ0asCfEDsUbiugwh8QA==\"},\"shape\":[113],\"dtype\":\"float64\",\"order\":\"little\"}],[\"SMA200\",{\"type\":\"ndarray\",\"array\":{\"type\":\"bytes\",\"data\":\"AAAAAAAA+H8AAAAAAAD4fwAAAAAAAPh/AAAAAAAA+H8AAAAAAAD4fwAAAAAAAPh/AAAAAAAA+H8AAAAAAAD4fwAAAAAAAPh/AAAAAAAA+H8AAAAAAAD4fwAAAAAAAPh/AAAAAAAA+H8AAAAAAAD4fwAAAAAAAPh/AAAAAAAA+H8AAAAAAAD4fwAAAAAAAPh/AAAAAAAA+H8AAAAAAAD4fwAAAAAAAPh/AAAAAAAA+H8AAAAAAAD4fwAAAAAAAPh/AAAAAAAA+H8AAAAAAAD4fwAAAAAAAPh/AAAAAAAA+H8AAAAAAAD4fwAAAAAAAPh/AAAAAAAA+H8AAAAAAAD4fwAAAAAAAPh/AAAAAAAA+H8AAAAAAAD4fwAAAAAAAPh/AAAAAAAA+H8AAAAAAAD4fwAAAAAAAPh/AAAAAAAA+H8AAAAAAAD4fwAAAAAAAPh/AAAAAAAA+H8AAAAAAAD4fwAAAAAAAPh/AAAAAAAA+H8AAAAAAAD4fwAAAAAAAPh/AAAAAAAA+H8AAAAAAAD4fwAAAAAAAPh/AAAAAAAA+H8AAAAAAAD4fwAAAAAAAPh/AAAAAAAA+H8AAAAAAAD4fwAAAAAAAPh/AAAAAAAA+H8AAAAAAAD4fwAAAAAAAPh/AAAAAAAA+H8AAAAAAAD4fwAAAAAAAPh/AAAAAAAA+H8AAAAAAAD4fwAAAAAAAPh/AAAAAAAA+H8AAAAAAAD4fwAAAAAAAPh/AAAAAAAA+H8AAAAAAAD4fwAAAAAAAPh/AAAAAAAA+H8AAAAAAAD4fwAAAAAAAPh/AAAAAAAA+H8AAAAAAAD4fwAAAAAAAPh/AAAAAAAA+H8AAAAAAAD4fwAAAAAAAPh/AAAAAAAA+H8AAAAAAAD4fwAAAAAAAPh/AAAAAAAA+H8AAAAAAAD4fwAAAAAAAPh/AAAAAAAA+H8AAAAAAAD4fwAAAAAAAPh/AAAAAAAA+H8AAAAAAAD4fwAAAAAAAPh/AAAAAAAA+H8AAAAAAAD4fwAAAAAAAPh/AAAAAAAA+H8AAAAAAAD4fwAAAAAAAPh/AAAAAAAA+H8AAAAAAAD4fwAAAAAAAPh/AAAAAAAA+H8AAAAAAAD4fwAAAAAAAPh/AAAAAAAA+H8AAAAAAAD4fwAAAAAAAPh/AAAAAAAA+H8AAAAAAAD4fwAAAAAAAPh/AAAAAAAA+H/hehR6oLF7QA==\"},\"shape\":[113],\"dtype\":\"float64\",\"order\":\"little\"}],[\"pivotHigh\",{\"type\":\"ndarray\",\"array\":{\"type\":\"bytes\",\"data\":\"AAAAAAAA+H8AAAAAAAD4fwAAAAAAAPh/AAAAAAAA+H8AAAAAAAD4fwAAAAAAAPh/AAAAAAAA+H8AAAAAAAD4fwAAAAAAAPh/AAAAAAAA+H8AAAAAAAD4fwAAAAAAAPh/AAAAAAAA+H+8dJN4ar57QAAAAAAAAPh/AAAAAAAA+H8AAAAAAAD4fwAAAAAAAPh/AAAAAAAA+H8AAAAAAAD4fwAAAAAAAPh/AAAAAAAA+H8AAAAAAAD4fwAAAAAAAPh/AAAAAAAA+H8AAAAAAAD4fwAAAAAAAPh/AAAAAAAA+H8AAAAAAAD4fwAAAAAAAPh/AAAAAAAA+H8AAAAAAAD4fwAAAAAAAPh/AAAAAAAA+H8AAAAAAAD4fwAAAAAAAPh/AAAAAAAA+H8AAAAAAAD4fwAAAAAAAPh/AAAAAAAA+H8AAAAAAAD4fwAAAAAAAPh/AAAAAAAA+H8AAAAAAAD4fwAAAAAAAPh/AAAAAAAA+H8AAAAAAAD4fwAAAAAAAPh/AAAAAAAA+H8AAAAAAAD4f7x0k5gYwntAAAAAAAAA+H8AAAAAAAD4fwAAAAAAAPh/AAAAAAAA+H8AAAAAAAD4fwAAAAAAAPh/AAAAAAAA+H8AAAAAAAD4fwAAAAAAAPh/AAAAAAAA+H8AAAAAAAD4fwAAAAAAAPh/AAAAAAAA+H+8dJOYQap7QAAAAAAAAPh/AAAAAAAA+H8AAAAAAAD4fwAAAAAAAPh/AAAAAAAA+H8AAAAAAAD4fwAAAAAAAPh/AAAAAAAA+H8AAAAAAAD4fwAAAAAAAPh/AAAAAAAA+H8AAAAAAAD4fwAAAAAAAPh/AAAAAAAA+H8AAAAAAAD4fwAAAAAAAPh/AAAAAAAA+H8AAAAAAAD4fwAAAAAAAPh/AAAAAAAA+H8AAAAAAAD4fwAAAAAAAPh/AAAAAAAA+H8AAAAAAAD4fwAAAAAAAPh/AAAAAAAA+H8AAAAAAAD4fwAAAAAAAPh/AAAAAAAA+H8AAAAAAAD4f7x0k7h0hXxAAAAAAAAA+H8AAAAAAAD4fwAAAAAAAPh/AAAAAAAA+H8AAAAAAAD4fwAAAAAAAPh/AAAAAAAA+H8AAAAAAAD4fwAAAAAAAPh/AAAAAAAA+H8AAAAAAAD4fwAAAAAAAPh/AAAAAAAA+H8AAAAAAAD4fwAAAAAAAPh/AAAAAAAA+H8AAAAAAAD4fw==\"},\"shape\":[113],\"dtype\":\"float64\",\"order\":\"little\"}],[\"pivotLow\",{\"type\":\"ndarray\",\"array\":{\"type\":\"bytes\",\"data\":\"AAAAAAAA+H8AAAAAAAD4fwAAAAAAAPh/AAAAAAAA+H8AAAAAAAD4fwAAAAAAAPh/AAAAAAAA+H8AAAAAAAD4fwAAAAAAAPh/AAAAAAAA+H8AAAAAAAD4fwAAAAAAAPh/AAAAAAAA+H8AAAAAAAD4fwAAAAAAAPh/AAAAAAAA+H8AAAAAAAD4fwAAAAAAAPh/AAAAAAAA+H8AAAAAAAD4fwAAAAAAAPh/AAAAAAAA+H8AAAAAAAD4fwAAAAAAAPh/AAAAAAAA+H8AAAAAAAD4fwAAAAAAAPh/AAAAAAAA+H8AAAAAAAD4fwAAAAAAAPh/AAAAAAAA+H8AAAAAAAD4fwAAAAAAAPh/AAAAAAAA+H8AAAAAAAD4fwAAAAAAAPh/AAAAAAAA+H8AAAAAAAD4fwAAAAAAAPh/AAAAAAAA+H8AAAAAAAD4fwAAAAAAAPh/AAAAAAAA+H8AAAAAAAD4fwAAAAAAAPh/AAAAAAAA+H8AAAAAAAD4fwAAAAAAAPh/AAAAAAAA+H8AAAAAAAD4fwAAAAAAAPh/AAAAAAAA+H8AAAAAAAD4fwAAAAAAAPh/AAAAAAAA+H8AAAAAAAD4fwAAAAAAAPh/AAAAAAAA+H8AAAAAAAD4fwAAAAAAAPh/AAAAAAAA+H8AAAAAAAD4fwAAAAAAAPh/AAAAAAAA+H8AAAAAAAD4fwAAAAAAAPh/AAAAAAAA+H8AAAAAAAD4fwAAAAAAAPh/AAAAAAAA+H8AAAAAAAD4fwAAAAAAAPh/AAAAAAAA+H8AAAAAAAD4fwAAAAAAAPh/AAAAAAAA+H8AAAAAAAD4fwAAAAAAAPh/AAAAAAAA+H8AAAAAAAD4fwAAAAAAAPh/AAAAAAAA+H8AAAAAAAD4fwAAAAAAAPh/AAAAAAAA+H8AAAAAAAD4fwAAAAAAAPh/AAAAAAAA+H8AAAAAAAD4fwAAAAAAAPh/AAAAAAAA+H8AAAAAAAD4fwAAAAAAAPh/AAAAAAAA+H8AAAAAAAD4fwAAAAAAAPh/AAAAAAAA+H8AAAAAAAD4fwAAAAAAAPh/AAAAAAAA+H8AAAAAAAD4fwAAAAAAAPh/AAAAAAAA+H8AAAAAAAD4fwAAAAAAAPh/AAAAAAAA+H8AAAAAAAD4fwAAAAAAAPh/AAAAAAAA+H8AAAAAAAD4fwAAAAAAAPh/AAAAAAAA+H8AAAAAAAD4fw==\"},\"shape\":[113],\"dtype\":\"float64\",\"order\":\"little\"}],[\"isPivot\",{\"type\":\"ndarray\",\"array\":{\"type\":\"bytes\",\"data\":\"AAAAAAAA+H8AAAAAAAD4fwAAAAAAAPh/AAAAAAAA+H8AAAAAAAD4fwAAAAAAAPh/AAAAAAAA+H8AAAAAAAD4fwAAAAAAAPh/AAAAAAAA+H8AAAAAAAD4fwAAAAAAAPh/AAAAAAAA+H8AAAAAAADwPwAAAAAAAPh/AAAAAAAA+H8AAAAAAAD4fwAAAAAAAPh/AAAAAAAA+H8AAAAAAAD4fwAAAAAAAPh/AAAAAAAA+H8AAAAAAAD4fwAAAAAAAPh/AAAAAAAA+H8AAAAAAAD4fwAAAAAAAPh/AAAAAAAA+H8AAAAAAAD4fwAAAAAAAPh/AAAAAAAA+H8AAAAAAAD4fwAAAAAAAPh/AAAAAAAA+H8AAAAAAAD4fwAAAAAAAPh/AAAAAAAA+H8AAAAAAAD4fwAAAAAAAPh/AAAAAAAA+H8AAAAAAAD4fwAAAAAAAPh/AAAAAAAA+H8AAAAAAAD4fwAAAAAAAPh/AAAAAAAA+H8AAAAAAAD4fwAAAAAAAPh/AAAAAAAA+H8AAAAAAAD4fwAAAAAAAPA/AAAAAAAA+H8AAAAAAAD4fwAAAAAAAPh/AAAAAAAA+H8AAAAAAAD4fwAAAAAAAPh/AAAAAAAA+H8AAAAAAAD4fwAAAAAAAPh/AAAAAAAA+H8AAAAAAAD4fwAAAAAAAPh/AAAAAAAA+H8AAAAAAADwPwAAAAAAAPh/AAAAAAAA+H8AAAAAAAD4fwAAAAAAAPh/AAAAAAAA+H8AAAAAAAD4fwAAAAAAAPh/AAAAAAAA+H8AAAAAAAD4fwAAAAAAAPh/AAAAAAAA+H8AAAAAAAD4fwAAAAAAAPh/AAAAAAAA+H8AAAAAAAD4fwAAAAAAAPh/AAAAAAAA+H8AAAAAAAD4fwAAAAAAAPh/AAAAAAAA+H8AAAAAAAD4fwAAAAAAAPh/AAAAAAAA+H8AAAAAAAD4fwAAAAAAAPh/AAAAAAAA+H8AAAAAAAD4fwAAAAAAAPh/AAAAAAAA+H8AAAAAAAD4fwAAAAAAAPA/AAAAAAAA+H8AAAAAAAD4fwAAAAAAAPh/AAAAAAAA+H8AAAAAAAD4fwAAAAAAAPh/AAAAAAAA+H8AAAAAAAD4fwAAAAAAAPh/AAAAAAAA+H8AAAAAAAD4fwAAAAAAAPh/AAAAAAAA+H8AAAAAAAD4fwAAAAAAAPh/AAAAAAAA+H8AAAAAAAD4fw==\"},\"shape\":[113],\"dtype\":\"float64\",\"order\":\"little\"}]]}}},\"view\":{\"type\":\"object\",\"name\":\"CDSView\",\"id\":\"p1073\",\"attributes\":{\"filter\":{\"type\":\"object\",\"name\":\"AllIndices\",\"id\":\"p1074\"}}},\"glyph\":{\"type\":\"object\",\"name\":\"VBar\",\"id\":\"p1069\",\"attributes\":{\"x\":{\"type\":\"field\",\"field\":\"index\"},\"width\":{\"type\":\"value\",\"value\":0.6},\"bottom\":{\"type\":\"field\",\"field\":\"Open\"},\"top\":{\"type\":\"field\",\"field\":\"Close\"},\"line_color\":{\"type\":\"value\",\"value\":\"green\"},\"fill_color\":{\"type\":\"value\",\"value\":\"green\"}}},\"nonselection_glyph\":{\"type\":\"object\",\"name\":\"VBar\",\"id\":\"p1070\",\"attributes\":{\"x\":{\"type\":\"field\",\"field\":\"index\"},\"width\":{\"type\":\"value\",\"value\":0.6},\"bottom\":{\"type\":\"field\",\"field\":\"Open\"},\"top\":{\"type\":\"field\",\"field\":\"Close\"},\"line_color\":{\"type\":\"value\",\"value\":\"green\"},\"line_alpha\":{\"type\":\"value\",\"value\":0.1},\"fill_color\":{\"type\":\"value\",\"value\":\"green\"},\"fill_alpha\":{\"type\":\"value\",\"value\":0.1},\"hatch_alpha\":{\"type\":\"value\",\"value\":0.1}}},\"muted_glyph\":{\"type\":\"object\",\"name\":\"VBar\",\"id\":\"p1071\",\"attributes\":{\"x\":{\"type\":\"field\",\"field\":\"index\"},\"width\":{\"type\":\"value\",\"value\":0.6},\"bottom\":{\"type\":\"field\",\"field\":\"Open\"},\"top\":{\"type\":\"field\",\"field\":\"Close\"},\"line_color\":{\"type\":\"value\",\"value\":\"green\"},\"line_alpha\":{\"type\":\"value\",\"value\":0.2},\"fill_color\":{\"type\":\"value\",\"value\":\"green\"},\"fill_alpha\":{\"type\":\"value\",\"value\":0.2},\"hatch_alpha\":{\"type\":\"value\",\"value\":0.2}}}}},{\"type\":\"object\",\"name\":\"GlyphRenderer\",\"id\":\"p1084\",\"attributes\":{\"data_source\":{\"type\":\"object\",\"name\":\"ColumnDataSource\",\"id\":\"p1075\",\"attributes\":{\"selected\":{\"type\":\"object\",\"name\":\"Selection\",\"id\":\"p1076\",\"attributes\":{\"indices\":[],\"line_indices\":[]}},\"selection_policy\":{\"type\":\"object\",\"name\":\"UnionRenderers\",\"id\":\"p1077\"},\"data\":{\"type\":\"map\",\"entries\":[[\"index\",{\"type\":\"ndarray\",\"array\":{\"type\":\"bytes\",\"data\":\"EwAAAFgAAABvAAAApAAAAA==\"},\"shape\":[4],\"dtype\":\"int32\",\"order\":\"little\"}],[\"Close\",{\"type\":\"ndarray\",\"array\":{\"type\":\"bytes\",\"data\":\"AAAAgD2ye0AAAADA9cB7QAAAAIDCqXtAAQAAwB59fEA=\"},\"shape\":[4],\"dtype\":\"float64\",\"order\":\"little\"}],[\"High\",{\"type\":\"ndarray\",\"array\":{\"type\":\"bytes\",\"data\":\"AAAAYGa+e0AAAACAFMJ7QAAAAIA9qntAAAAAoHCFfEA=\"},\"shape\":[4],\"dtype\":\"float64\",\"order\":\"little\"}],[\"Low\",{\"type\":\"ndarray\",\"array\":{\"type\":\"bytes\",\"data\":\"AAAAoJmde0ABAADAHrd7QAAAAMD1kHtAAAAAAClwfEA=\"},\"shape\":[4],\"dtype\":\"float64\",\"order\":\"little\"}],[\"Open\",{\"type\":\"ndarray\",\"array\":{\"type\":\"bytes\",\"data\":\"AAAAoL2de0AAAADgerh7QAAAAMD1kHtAAAAAAClwfEA=\"},\"shape\":[4],\"dtype\":\"float64\",\"order\":\"little\"}],[\"Volume\",{\"type\":\"ndarray\",\"array\":{\"type\":\"bytes\",\"data\":\"/tgUAQ/KdQAM46AAJ7jNAA==\"},\"shape\":[4],\"dtype\":\"int32\",\"order\":\"little\"}],[\"datetime\",{\"type\":\"ndarray\",\"array\":{\"type\":\"bytes\",\"data\":\"AAAEJQWMeEIAAFys1ZB4QgAAtAUTk3hCAAD8feWWeEI=\"},\"shape\":[4],\"dtype\":\"float64\",\"order\":\"little\"}],[\"companyName\",{\"type\":\"ndarray\",\"array\":[\"SPY\",\"SPY\",\"SPY\",\"SPY\"],\"shape\":[4],\"dtype\":\"object\",\"order\":\"little\"}],[\"SMA20\",{\"type\":\"ndarray\",\"array\":{\"type\":\"bytes\",\"data\":\"MzMzy5xhe0AzMzOLp2V7QGZmZm5RlHtAmpmZ0aA4fEA=\"},\"shape\":[4],\"dtype\":\"float64\",\"order\":\"little\"}],[\"SMA40\",{\"type\":\"ndarray\",\"array\":{\"type\":\"bytes\",\"data\":\"AAAAAAAA+H8AAAB8eUB7QDMzM78xhntAZmZmru0QfEA=\"},\"shape\":[4],\"dtype\":\"float64\",\"order\":\"little\"}],[\"SMA100\",{\"type\":\"ndarray\",\"array\":{\"type\":\"bytes\",\"data\":\"AAAAAAAA+H8AAAAAAAD4f5qZmVmjYHtAAAAASCu3e0A=\"},\"shape\":[4],\"dtype\":\"float64\",\"order\":\"little\"}],[\"SMA200\",{\"type\":\"ndarray\",\"array\":{\"type\":\"bytes\",\"data\":\"AAAAAAAA+H8AAAAAAAD4fwAAAAAAAPh/AAAAAAAA+H8=\"},\"shape\":[4],\"dtype\":\"float64\",\"order\":\"little\"}],[\"pivotHigh\",{\"type\":\"ndarray\",\"array\":{\"type\":\"bytes\",\"data\":\"vHSTeGq+e0C8dJOYGMJ7QLx0k5hBqntAvHSTuHSFfEA=\"},\"shape\":[4],\"dtype\":\"float64\",\"order\":\"little\"}],[\"pivotLow\",{\"type\":\"ndarray\",\"array\":{\"type\":\"bytes\",\"data\":\"AAAAAAAA+H8AAAAAAAD4fwAAAAAAAPh/AAAAAAAA+H8=\"},\"shape\":[4],\"dtype\":\"float64\",\"order\":\"little\"}],[\"isPivot\",{\"type\":\"ndarray\",\"array\":{\"type\":\"bytes\",\"data\":\"AAAAAAAA8D8AAAAAAADwPwAAAAAAAPA/AAAAAAAA8D8=\"},\"shape\":[4],\"dtype\":\"float64\",\"order\":\"little\"}]]}}},\"view\":{\"type\":\"object\",\"name\":\"CDSView\",\"id\":\"p1085\",\"attributes\":{\"filter\":{\"type\":\"object\",\"name\":\"AllIndices\",\"id\":\"p1086\"}}},\"glyph\":{\"type\":\"object\",\"name\":\"Scatter\",\"id\":\"p1081\",\"attributes\":{\"x\":{\"type\":\"field\",\"field\":\"index\"},\"y\":{\"type\":\"field\",\"field\":\"pivotHigh\"},\"size\":{\"type\":\"value\",\"value\":10},\"line_color\":{\"type\":\"value\",\"value\":\"navy\"},\"line_alpha\":{\"type\":\"value\",\"value\":0.5},\"fill_color\":{\"type\":\"value\",\"value\":\"blue\"},\"fill_alpha\":{\"type\":\"value\",\"value\":0.5},\"hatch_alpha\":{\"type\":\"value\",\"value\":0.5}}},\"nonselection_glyph\":{\"type\":\"object\",\"name\":\"Scatter\",\"id\":\"p1082\",\"attributes\":{\"x\":{\"type\":\"field\",\"field\":\"index\"},\"y\":{\"type\":\"field\",\"field\":\"pivotHigh\"},\"size\":{\"type\":\"value\",\"value\":10},\"line_color\":{\"type\":\"value\",\"value\":\"navy\"},\"line_alpha\":{\"type\":\"value\",\"value\":0.1},\"fill_color\":{\"type\":\"value\",\"value\":\"blue\"},\"fill_alpha\":{\"type\":\"value\",\"value\":0.1},\"hatch_alpha\":{\"type\":\"value\",\"value\":0.1}}},\"muted_glyph\":{\"type\":\"object\",\"name\":\"Scatter\",\"id\":\"p1083\",\"attributes\":{\"x\":{\"type\":\"field\",\"field\":\"index\"},\"y\":{\"type\":\"field\",\"field\":\"pivotHigh\"},\"size\":{\"type\":\"value\",\"value\":10},\"line_color\":{\"type\":\"value\",\"value\":\"navy\"},\"line_alpha\":{\"type\":\"value\",\"value\":0.2},\"fill_color\":{\"type\":\"value\",\"value\":\"blue\"},\"fill_alpha\":{\"type\":\"value\",\"value\":0.2},\"hatch_alpha\":{\"type\":\"value\",\"value\":0.2}}}}},{\"type\":\"object\",\"name\":\"GlyphRenderer\",\"id\":\"p1098\",\"attributes\":{\"data_source\":{\"type\":\"object\",\"name\":\"ColumnDataSource\",\"id\":\"p1089\",\"attributes\":{\"selected\":{\"type\":\"object\",\"name\":\"Selection\",\"id\":\"p1090\",\"attributes\":{\"indices\":[],\"line_indices\":[]}},\"selection_policy\":{\"type\":\"object\",\"name\":\"UnionRenderers\",\"id\":\"p1091\"},\"data\":{\"type\":\"map\",\"entries\":[[\"index\",{\"type\":\"ndarray\",\"array\":{\"type\":\"bytes\",\"data\":\"CwAAAD4AAABmAAAAdQAAALAAAAA=\"},\"shape\":[5],\"dtype\":\"int32\",\"order\":\"little\"}],[\"Close\",{\"type\":\"ndarray\",\"array\":{\"type\":\"bytes\",\"data\":\"AAAAANcne0ABAABA4fZ6QAAAAKCZVXtAAAAAgD1me0AAAACAUTh8QA==\"},\"shape\":[5],\"dtype\":\"float64\",\"order\":\"little\"}],[\"High\",{\"type\":\"ndarray\",\"array\":{\"type\":\"bytes\",\"data\":\"AAAAAClYe0AAAACgmQ17QAAAAKCZXXtAAAAAoEdxe0AAAADgUUx8QA==\"},\"shape\":[5],\"dtype\":\"float64\",\"order\":\"little\"}],[\"Low\",{\"type\":\"ndarray\",\"array\":{\"type\":\"bytes\",\"data\":\"AAAAoHAZe0ABAABACvN6QAAAAMD1UHtAAAAAIFxZe0ABAABACjd8QA==\"},\"shape\":[5],\"dtype\":\"float64\",\"order\":\"little\"}],[\"Open\",{\"type\":\"ndarray\",\"array\":{\"type\":\"bytes\",\"data\":\"AAAA4KNUe0AAAACAPQp7QAAAACCuW3tAAAAAwFtre0AAAAAA10F8QA==\"},\"shape\":[5],\"dtype\":\"float64\",\"order\":\"little\"}],[\"Volume\",{\"type\":\"ndarray\",\"array\":{\"type\":\"bytes\",\"data\":\"+JofAbTMAQGVCJQAVn5iAPMfkQA=\"},\"shape\":[5],\"dtype\":\"int32\",\"order\":\"little\"}],[\"datetime\",{\"type\":\"ndarray\",\"array\":{\"type\":\"bytes\",\"data\":\"AABcUK+LeEIAACzzko94QgAAJMK5knhCAAAMyAaUeEIAAEQOSZd4Qg==\"},\"shape\":[5],\"dtype\":\"float64\",\"order\":\"little\"}],[\"companyName\",{\"type\":\"ndarray\",\"array\":[\"SPY\",\"SPY\",\"SPY\",\"SPY\",\"SPY\"],\"shape\":[5],\"dtype\":\"object\",\"order\":\"little\"}],[\"SMA20\",{\"type\":\"ndarray\",\"array\":{\"type\":\"bytes\",\"data\":\"AAAAAAAA+H8AAADo0h17QJqZmYGUqHtAmpmZwTSBe0CamZkZXl98QA==\"},\"shape\":[5],\"dtype\":\"float64\",\"order\":\"little\"}],[\"SMA40\",{\"type\":\"ndarray\",\"array\":{\"type\":\"bytes\",\"data\":\"AAAAAAAA+H9mZmY2qjl7QJqZmd1XdXtAAAAASF6Oe0AzMzOHLT58QA==\"},\"shape\":[5],\"dtype\":\"float64\",\"order\":\"little\"}],[\"SMA100\",{\"type\":\"ndarray\",\"array\":{\"type\":\"bytes\",\"data\":\"AAAAAAAA+H8AAAAAAAD4f0jhehQ1XHtAj8L1eNNge0BxPQr3QNp7QA==\"},\"shape\":[5],\"dtype\":\"float64\",\"order\":\"little\"}],[\"SMA200\",{\"type\":\"ndarray\",\"array\":{\"type\":\"bytes\",\"data\":\"AAAAAAAA+H8AAAAAAAD4fwAAAAAAAPh/AAAAAAAA+H8AAAAAAAD4fw==\"},\"shape\":[5],\"dtype\":\"float64\",\"order\":\"little\"}],[\"pivotHigh\",{\"type\":\"ndarray\",\"array\":{\"type\":\"bytes\",\"data\":\"AAAAAAAA+H8AAAAAAAD4fwAAAAAAAPh/AAAAAAAA+H8AAAAAAAD4fw==\"},\"shape\":[5],\"dtype\":\"float64\",\"order\":\"little\"}],[\"pivotLow\",{\"type\":\"ndarray\",\"array\":{\"type\":\"bytes\",\"data\":\"RItsh2wZe0BFi2wnBvN6QESLbKfxUHtARItsB1hZe0BFi2wnBjd8QA==\"},\"shape\":[5],\"dtype\":\"float64\",\"order\":\"little\"}],[\"isPivot\",{\"type\":\"ndarray\",\"array\":{\"type\":\"bytes\",\"data\":\"AAAAAAAAAEAAAAAAAAAAQAAAAAAAAABAAAAAAAAAAEAAAAAAAAAAQA==\"},\"shape\":[5],\"dtype\":\"float64\",\"order\":\"little\"}]]}}},\"view\":{\"type\":\"object\",\"name\":\"CDSView\",\"id\":\"p1099\",\"attributes\":{\"filter\":{\"type\":\"object\",\"name\":\"AllIndices\",\"id\":\"p1100\"}}},\"glyph\":{\"type\":\"object\",\"name\":\"Scatter\",\"id\":\"p1095\",\"attributes\":{\"x\":{\"type\":\"field\",\"field\":\"index\"},\"y\":{\"type\":\"field\",\"field\":\"pivotLow\"},\"size\":{\"type\":\"value\",\"value\":10},\"line_color\":{\"type\":\"value\",\"value\":\"navy\"},\"line_alpha\":{\"type\":\"value\",\"value\":0.5},\"fill_color\":{\"type\":\"value\",\"value\":\"green\"},\"fill_alpha\":{\"type\":\"value\",\"value\":0.5},\"hatch_alpha\":{\"type\":\"value\",\"value\":0.5}}},\"nonselection_glyph\":{\"type\":\"object\",\"name\":\"Scatter\",\"id\":\"p1096\",\"attributes\":{\"x\":{\"type\":\"field\",\"field\":\"index\"},\"y\":{\"type\":\"field\",\"field\":\"pivotLow\"},\"size\":{\"type\":\"value\",\"value\":10},\"line_color\":{\"type\":\"value\",\"value\":\"navy\"},\"line_alpha\":{\"type\":\"value\",\"value\":0.1},\"fill_color\":{\"type\":\"value\",\"value\":\"green\"},\"fill_alpha\":{\"type\":\"value\",\"value\":0.1},\"hatch_alpha\":{\"type\":\"value\",\"value\":0.1}}},\"muted_glyph\":{\"type\":\"object\",\"name\":\"Scatter\",\"id\":\"p1097\",\"attributes\":{\"x\":{\"type\":\"field\",\"field\":\"index\"},\"y\":{\"type\":\"field\",\"field\":\"pivotLow\"},\"size\":{\"type\":\"value\",\"value\":10},\"line_color\":{\"type\":\"value\",\"value\":\"navy\"},\"line_alpha\":{\"type\":\"value\",\"value\":0.2},\"fill_color\":{\"type\":\"value\",\"value\":\"green\"},\"fill_alpha\":{\"type\":\"value\",\"value\":0.2},\"hatch_alpha\":{\"type\":\"value\",\"value\":0.2}}}}}],\"toolbar\":{\"type\":\"object\",\"name\":\"Toolbar\",\"id\":\"p1012\",\"attributes\":{\"tools\":[{\"type\":\"object\",\"name\":\"PanTool\",\"id\":\"p1025\"},{\"type\":\"object\",\"name\":\"WheelZoomTool\",\"id\":\"p1026\",\"attributes\":{\"renderers\":\"auto\"}},{\"type\":\"object\",\"name\":\"BoxZoomTool\",\"id\":\"p1027\",\"attributes\":{\"dimensions\":\"both\",\"overlay\":{\"type\":\"object\",\"name\":\"BoxAnnotation\",\"id\":\"p1028\",\"attributes\":{\"syncable\":false,\"line_color\":\"black\",\"line_alpha\":1.0,\"line_width\":2,\"line_dash\":[4,4],\"fill_color\":\"lightgrey\",\"fill_alpha\":0.5,\"level\":\"overlay\",\"visible\":false,\"left\":{\"type\":\"number\",\"value\":\"nan\"},\"right\":{\"type\":\"number\",\"value\":\"nan\"},\"top\":{\"type\":\"number\",\"value\":\"nan\"},\"bottom\":{\"type\":\"number\",\"value\":\"nan\"},\"left_units\":\"canvas\",\"right_units\":\"canvas\",\"top_units\":\"canvas\",\"bottom_units\":\"canvas\",\"handles\":{\"type\":\"object\",\"name\":\"BoxInteractionHandles\",\"id\":\"p1034\",\"attributes\":{\"all\":{\"type\":\"object\",\"name\":\"AreaVisuals\",\"id\":\"p1033\",\"attributes\":{\"fill_color\":\"white\",\"hover_fill_color\":\"lightgray\"}}}}}}}},{\"type\":\"object\",\"name\":\"SaveTool\",\"id\":\"p1035\"},{\"type\":\"object\",\"name\":\"ResetTool\",\"id\":\"p1036\"},{\"type\":\"object\",\"name\":\"HelpTool\",\"id\":\"p1037\"},{\"type\":\"object\",\"name\":\"HoverTool\",\"id\":\"p1038\",\"attributes\":{\"renderers\":\"auto\",\"tooltips\":[[\"Index\",\"@index\"],[\"Open\",\"@Open\"],[\"High\",\"@High\"],[\"Low\",\"@Low\"],[\"Close\",\"@Close\"]]}}]}},\"left\":[{\"type\":\"object\",\"name\":\"LinearAxis\",\"id\":\"p1020\",\"attributes\":{\"ticker\":{\"type\":\"object\",\"name\":\"BasicTicker\",\"id\":\"p1021\",\"attributes\":{\"mantissas\":[1,2,5]}},\"formatter\":{\"type\":\"object\",\"name\":\"BasicTickFormatter\",\"id\":\"p1022\"},\"major_label_policy\":{\"type\":\"object\",\"name\":\"AllLabels\",\"id\":\"p1023\"}}}],\"below\":[{\"type\":\"object\",\"name\":\"LinearAxis\",\"id\":\"p1015\",\"attributes\":{\"ticker\":{\"type\":\"object\",\"name\":\"BasicTicker\",\"id\":\"p1016\",\"attributes\":{\"mantissas\":[1,2,5]}},\"formatter\":{\"type\":\"object\",\"name\":\"BasicTickFormatter\",\"id\":\"p1017\"},\"major_label_orientation\":0.8,\"major_label_policy\":{\"type\":\"object\",\"name\":\"AllLabels\",\"id\":\"p1018\"},\"axis_line_width\":2}}],\"center\":[{\"type\":\"object\",\"name\":\"Grid\",\"id\":\"p1019\",\"attributes\":{\"axis\":{\"id\":\"p1015\"}}},{\"type\":\"object\",\"name\":\"Grid\",\"id\":\"p1024\",\"attributes\":{\"dimension\":1,\"axis\":{\"id\":\"p1020\"}}},{\"type\":\"object\",\"name\":\"Legend\",\"id\":\"p1087\",\"attributes\":{\"items\":[{\"type\":\"object\",\"name\":\"LegendItem\",\"id\":\"p1088\",\"attributes\":{\"label\":{\"type\":\"value\",\"value\":\"Cambio Tendencia Bajista\"},\"renderers\":[{\"id\":\"p1084\"}]}},{\"type\":\"object\",\"name\":\"LegendItem\",\"id\":\"p1101\",\"attributes\":{\"label\":{\"type\":\"value\",\"value\":\"Cambio Tendencia Alcista\"},\"renderers\":[{\"id\":\"p1098\"}]}}]}}],\"background_fill_color\":\"#efefef\"}}]}};\n",
       "  const render_items = [{\"docid\":\"6cf8449f-b5cb-49fc-8105-e950dbff7782\",\"roots\":{\"p1003\":\"e2ca5ebd-700c-4e0c-b400-3f25704f4510\"},\"root_ids\":[\"p1003\"]}];\n",
       "  void root.Bokeh.embed.embed_items_notebook(docs_json, render_items);\n",
       "  }\n",
       "  if (root.Bokeh !== undefined) {\n",
       "    embed_document(root);\n",
       "  } else {\n",
       "    let attempts = 0;\n",
       "    const timer = setInterval(function(root) {\n",
       "      if (root.Bokeh !== undefined) {\n",
       "        clearInterval(timer);\n",
       "        embed_document(root);\n",
       "      } else {\n",
       "        attempts++;\n",
       "        if (attempts > 100) {\n",
       "          clearInterval(timer);\n",
       "          console.log(\"Bokeh: ERROR: Unable to run BokehJS code because BokehJS library is missing\");\n",
       "        }\n",
       "      }\n",
       "    }, 10, root)\n",
       "  }\n",
       "})(window);"
      ],
      "application/vnd.bokehjs_exec.v0+json": ""
     },
     "metadata": {
      "application/vnd.bokehjs_exec.v0+json": {
       "id": "p1003"
      }
     },
     "output_type": "display_data"
    }
   ],
   "source": [
    "#CODIGO DE REVISION CARLOS\n",
    "#dfpl = df.iloc[500:970]\n",
    "dfpl = df.iloc[0:200]\n",
    "\n",
    "p = figure(width=2500, height=500,\n",
    "        title=\"RCB\",\n",
    "        background_fill_color=\"#efefef\",\n",
    "        tooltips=[(\"Index\", \"@index\"), (\"Open\", \"@Open\"), (\"High\",\"@High\"), (\"Low\",\"@Low\"), (\"Close\",\"@Close\")]\n",
    "        )\n",
    "p.xaxis.major_label_orientation = 0.8 # radians\n",
    "p.x_range.range_padding = 0.05\n",
    "#p.xaxis.axis_line_join = \"bevel\" # radians\n",
    "p.xaxis.axis_line_width = 2\n",
    "\n",
    "p.segment(\"index\", \"High\", \"index\",\"Low\",  color=\"black\", line_width=1, source=dfpl)\n",
    "\n",
    "inc = dfpl.query(\"Close>Open\")\n",
    "dec = dfpl.query(\"Open>Close\")\n",
    "\n",
    "p.vbar(    \n",
    "    x=\"index\",\n",
    "    width=0.6,\n",
    "    bottom=\"Open\",\n",
    "    top=\"Close\",\n",
    "    fill_color=\"red\",\n",
    "    line_color=\"red\",    \n",
    "    source=dec   \n",
    ")\n",
    "\n",
    "\n",
    "p.vbar(    \n",
    "    x=\"index\",\n",
    "    width=0.6,\n",
    "    bottom=\"Open\",\n",
    "    top=\"Close\",\n",
    "    fill_color=\"green\",\n",
    "    line_color=\"green\", \n",
    "    source=inc   \n",
    ")\n",
    "\n",
    "p.scatter(x=\"index\", y=\"pivotHigh\", marker=\"circle\", size=10,\n",
    "           line_color=\"navy\", fill_color=\"blue\", alpha=0.5, legend_label=\"Cambio Tendencia Bajista\", source=dfpl[(dfpl.isPivot==1)])\n",
    "\n",
    "p.scatter(x=\"index\", y=\"pivotLow\", marker=\"circle\", size=10,\n",
    "           line_color=\"navy\", fill_color=\"green\", alpha=0.5, legend_label=\"Cambio Tendencia Alcista\", source=dfpl[(dfpl.isPivot==2)])\n",
    "\n",
    "show(p)"
   ]
  },
  {
   "cell_type": "markdown",
   "id": "ca9f2430-623c-4a54-b577-a8bfc7f6269c",
   "metadata": {
    "papermill": {
     "duration": 0.005172,
     "end_time": "2025-06-11T15:14:23.536295",
     "exception": false,
     "start_time": "2025-06-11T15:14:23.531123",
     "status": "completed"
    },
    "tags": []
   },
   "source": [
    "### Detectando casos"
   ]
  },
  {
   "cell_type": "code",
   "execution_count": 6,
   "id": "1828d278-ae5e-4e36-9444-ff4d13eeb17c",
   "metadata": {
    "execution": {
     "iopub.execute_input": "2025-06-11T15:14:23.548010Z",
     "iopub.status.busy": "2025-06-11T15:14:23.547511Z",
     "iopub.status.idle": "2025-06-11T15:14:24.567011Z",
     "shell.execute_reply": "2025-06-11T15:14:24.566446Z"
    },
    "papermill": {
     "duration": 1.026854,
     "end_time": "2025-06-11T15:14:24.568217",
     "exception": false,
     "start_time": "2025-06-11T15:14:23.541363",
     "status": "completed"
    },
    "tags": []
   },
   "outputs": [],
   "source": [
    "#punto de cambio a tendencia alcista\n",
    "def pm01(df):\n",
    "    #if ((df['pivotLow']>0) & ((df['Low']-df['SMA40'])<=1)):\n",
    "    if ((df['isPivot']==2) & ((df['Low']-df['SMA40'])<=1)):\n",
    "        return 1\n",
    "    else:\n",
    "        return 0\n",
    "df['pm40_01'] = df.apply(pm01, axis=1)"
   ]
  },
  {
   "cell_type": "code",
   "execution_count": 7,
   "id": "47ab9f28-5871-4c68-ada3-386c2876bf5c",
   "metadata": {
    "execution": {
     "iopub.execute_input": "2025-06-11T15:14:24.580961Z",
     "iopub.status.busy": "2025-06-11T15:14:24.580241Z",
     "iopub.status.idle": "2025-06-11T15:14:26.969915Z",
     "shell.execute_reply": "2025-06-11T15:14:26.969313Z"
    },
    "papermill": {
     "duration": 2.397242,
     "end_time": "2025-06-11T15:14:26.971179",
     "exception": false,
     "start_time": "2025-06-11T15:14:24.573937",
     "status": "completed"
    },
    "tags": []
   },
   "outputs": [],
   "source": [
    "#el PM20 sobre el PM40, el PM40 por encima del PM100 y este ultimo por encima del PM200\n",
    "def pm02(df):\n",
    "    if ((df['SMA20'] >= df['SMA40']) & (df['SMA40'] >= df['SMA100']) & (df['SMA100'] >= df['SMA200'])):\n",
    "    #if ((df['SMA20'] >= df['SMA40']) & (df['SMA40'] >= df['SMA100'])):\n",
    "        return 1\n",
    "    else:\n",
    "        return 0\n",
    "df['ind_SMA'] = df.apply(pm02, axis=1)\n",
    "\n",
    "def pm03(df):\n",
    "    if ((df['pm40_01'] >= 1) & (df['ind_SMA'] >= 1)):\n",
    "        return 1\n",
    "    else:\n",
    "        return 0\n",
    "\n",
    "#numeracion de casos donde se dio el cambio de tendencia\n",
    "#df['id_posiblepm40'] = df.query(\"pm40_01==1 and ind_SMA==1\").groupby([\"companyName\"]).cumcount()+1\n",
    "df['id_posiblepm40'] = df.apply(pm03, axis=1)"
   ]
  },
  {
   "cell_type": "code",
   "execution_count": 8,
   "id": "77788c46-9386-4bb5-b470-33cacb8cc645",
   "metadata": {
    "execution": {
     "iopub.execute_input": "2025-06-11T15:14:26.983032Z",
     "iopub.status.busy": "2025-06-11T15:14:26.982520Z",
     "iopub.status.idle": "2025-06-11T15:14:26.985520Z",
     "shell.execute_reply": "2025-06-11T15:14:26.984965Z"
    },
    "papermill": {
     "duration": 0.009666,
     "end_time": "2025-06-11T15:14:26.986413",
     "exception": false,
     "start_time": "2025-06-11T15:14:26.976747",
     "status": "completed"
    },
    "tags": []
   },
   "outputs": [],
   "source": [
    "#df[df[\"id_posiblepm40\"]>0].shape[0]"
   ]
  },
  {
   "cell_type": "markdown",
   "id": "56e80dd2-318b-4aed-9d06-a7674835a1f3",
   "metadata": {
    "papermill": {
     "duration": 0.00515,
     "end_time": "2025-06-11T15:14:26.996839",
     "exception": false,
     "start_time": "2025-06-11T15:14:26.991689",
     "status": "completed"
    },
    "tags": []
   },
   "source": [
    "### Detect Price Channel"
   ]
  },
  {
   "cell_type": "code",
   "execution_count": 9,
   "id": "2e072437-f29c-4514-aeac-e07eec14a769",
   "metadata": {
    "execution": {
     "iopub.execute_input": "2025-06-11T15:14:27.008169Z",
     "iopub.status.busy": "2025-06-11T15:14:27.007912Z",
     "iopub.status.idle": "2025-06-11T15:14:27.012810Z",
     "shell.execute_reply": "2025-06-11T15:14:27.012273Z"
    },
    "papermill": {
     "duration": 0.011906,
     "end_time": "2025-06-11T15:14:27.013825",
     "exception": false,
     "start_time": "2025-06-11T15:14:27.001919",
     "status": "completed"
    },
    "tags": []
   },
   "outputs": [],
   "source": [
    "def collect_channel(candle, backevalTrend, trendH):\n",
    "    #localdf = df[candle-backcandles-window:candle-window]\n",
    "    localdf = dfpl.loc[candle-backevalTrend:candle] #tomar en cuenta el backcandles\n",
    "    #localdf['isPivot'] = localdf.apply(lambda x: isPivot(x.name,window), axis=1)\n",
    "    \n",
    "    #highs = localdf.High.values\n",
    "    #idxhighs = localdf.High.index\n",
    "    #lows = localdf.Low.values\n",
    "    #idxlows = localdf.Low.index\n",
    "\n",
    "    highs = localdf.loc[localdf.index.isin(trendH)].High.values\n",
    "    idxhighs = localdf.loc[localdf.index.isin(trendH)].High.index\n",
    "    #lows = localdf.loc[localdf.index.isin(trendL)].Low.values\n",
    "    #idxlows = localdf.loc[localdf.index.isin(trendL)].Low.index\n",
    "\n",
    "    #highs = localdf.loc[localdf.index.isin([candle]) | (localdf['isPivot'] == 1)].High.values\n",
    "    #idxhighs = localdf.loc[localdf.index.isin([candle]) | (localdf['isPivot'] == 1)].High.index\n",
    "    #lows = localdf.loc[localdf.index.isin([candle]) | (localdf['isPivot'] == 2)].Low.values\n",
    "    #idxlows = localdf.loc[localdf.index.isin([candle]) | (localdf['isPivot'] == 2)].Low.index\n",
    "\n",
    "    #lows = localdf.loc[localdf.index.isin(trendL)].Low.values\n",
    "    #idxlows = localdf.loc[localdf.index.isin(trendL)].Low.index\n",
    "\n",
    "    #print(\"highs:\",highs)\n",
    "    #print(\"idxhighs:\",idxhighs)\n",
    "    #print(\"lows:\",lows)\n",
    "    #print(\"idxlows:\",idxlows)\n",
    "    #print (\"tamanio:\",localdf.shape[0])\n",
    "    \n",
    "    #if len(lows)>=2 and len(highs)>=2:\n",
    "    if len(highs)>=2:\n",
    "        #sl_lows, interc_lows, r_value_l, _, _ = stats.linregress(idxlows,lows)\n",
    "        sl_highs, interc_highs, r_value_h, _, _ = stats.linregress(idxhighs,highs)    \n",
    "        #return(sl_lows, interc_lows, sl_highs, interc_highs, r_value_l**2, r_value_h**2)\n",
    "        return(sl_highs, interc_highs, r_value_h**2)\n",
    "    else:\n",
    "        return(0,0,0)\n",
    "    "
   ]
  },
  {
   "cell_type": "code",
   "execution_count": 10,
   "id": "f0d8fd48-c9e5-412c-970d-9e32e8e3f665",
   "metadata": {
    "execution": {
     "iopub.execute_input": "2025-06-11T15:14:27.025691Z",
     "iopub.status.busy": "2025-06-11T15:14:27.025315Z",
     "iopub.status.idle": "2025-06-11T15:14:27.031470Z",
     "shell.execute_reply": "2025-06-11T15:14:27.030885Z"
    },
    "papermill": {
     "duration": 0.013045,
     "end_time": "2025-06-11T15:14:27.032442",
     "exception": false,
     "start_time": "2025-06-11T15:14:27.019397",
     "status": "completed"
    },
    "tags": []
   },
   "outputs": [],
   "source": [
    "def backcandle(candle):\n",
    "    \n",
    "    trendH = []\n",
    "    backeval = 0\n",
    "    val = 0\n",
    "    \n",
    "    #dfpl['PM40_PM20'] = dfpl['SMA40']-dfpl['SMA20']\n",
    "\n",
    "    # Tomar los valores hacia atrás desde el índice actual (sin incluirlo)\n",
    "    prev_vals = dfpl.loc[:candle - 1, 'ind_SMA']\n",
    "\n",
    "    # Buscar el último índice donde fue 0 (de atrás hacia adelante)\n",
    "    for i in reversed(prev_vals.index):\n",
    "        if dfpl.loc[i, 'ind_SMA'] == 0:\n",
    "            backeval = i - 4\n",
    "            break\n",
    "\n",
    "    val = candle - backeval\n",
    "\n",
    "    \n",
    "    \n",
    "    if val>75:\n",
    "        backeval=candle-75\n",
    "        \n",
    "    if (dfpl.loc[backeval,\"ind_SMA\"]>0):\n",
    "        idx_negativo = dfpl.loc[:backeval, 'ind_SMA'][::-1].lt(0).idxmax()\n",
    "        backeval = idx_negativo - 4\n",
    "\n",
    "    if val>75:\n",
    "        backeval=candle-75\n",
    "\n",
    "    #ini = candle - backeval\n",
    "    ini = backeval\n",
    "    trendprev=dfpl.loc[ini:candle]\n",
    "    trend = trendprev.reset_index(drop=False)\n",
    "\n",
    "    idxhighs = trend.index.to_numpy().reshape(-1,1) # Convertir X a una matriz 2D\n",
    "    highs = trend.High.values\n",
    "    modelo1 = LinearRegression()\n",
    "    modelo1.fit(idxhighs, highs)\n",
    "    # Obtener la predicción de la línea de regresión\n",
    "    Y_pred = modelo1.predict(idxhighs)\n",
    "    # Calcular la distancia solo de los puntos que están POR ENCIMA de la línea\n",
    "    trend['Distancia'] = trend[\"High\"] - Y_pred  # Diferencia entre el valor real y la predicción\n",
    "    # Filtrar los puntos que están por encima (donde Y > Y_pred, es decir, Distancia > 0)\n",
    "    df_encima = trend[trend['Distancia'] > 0]\n",
    "    puntos_mas_lejanos = df_encima.nlargest(2, 'Distancia')   #2 puntos mas lejanos\n",
    "    trendH = puntos_mas_lejanos[\"index\"].tolist()\n",
    "    trendH.append(candle)   \n",
    "    \n",
    "    return trendH, backeval"
   ]
  },
  {
   "cell_type": "markdown",
   "id": "0c5225ae-6d09-4f96-bd2f-f21b6dd0b4ca",
   "metadata": {
    "papermill": {
     "duration": 0.00535,
     "end_time": "2025-06-11T15:14:27.043320",
     "exception": false,
     "start_time": "2025-06-11T15:14:27.037970",
     "status": "completed"
    },
    "tags": []
   },
   "source": [
    "### Detect Break Out"
   ]
  },
  {
   "cell_type": "code",
   "execution_count": 11,
   "id": "0ed21e2c-13e6-4d1a-81ed-c5aaac56f50a",
   "metadata": {
    "execution": {
     "iopub.execute_input": "2025-06-11T15:14:27.055222Z",
     "iopub.status.busy": "2025-06-11T15:14:27.054746Z",
     "iopub.status.idle": "2025-06-11T15:14:27.058592Z",
     "shell.execute_reply": "2025-06-11T15:14:27.058088Z"
    },
    "papermill": {
     "duration": 0.011059,
     "end_time": "2025-06-11T15:14:27.059588",
     "exception": false,
     "start_time": "2025-06-11T15:14:27.048529",
     "status": "completed"
    },
    "tags": []
   },
   "outputs": [],
   "source": [
    "def trendChannel(row,candle, backeval, window, sl_highs, interc_highs):\n",
    "\n",
    "    if (candle-backeval-window)<0:\n",
    "        return np.nan\n",
    "    ini=candle-backeval\n",
    "    fin=candle+window\n",
    "    trendcurrhigh = np.where(np.logical_or((row.index > fin),  (row.index <  ini)), np.nan, (sl_highs*row.index + interc_highs))\n",
    "    return trendcurrhigh"
   ]
  },
  {
   "cell_type": "code",
   "execution_count": 12,
   "id": "af6d12d5-433c-43a2-9067-34bf3c26130e",
   "metadata": {
    "execution": {
     "iopub.execute_input": "2025-06-11T15:14:27.071554Z",
     "iopub.status.busy": "2025-06-11T15:14:27.070840Z",
     "iopub.status.idle": "2025-06-11T15:14:27.076211Z",
     "shell.execute_reply": "2025-06-11T15:14:27.075735Z"
    },
    "papermill": {
     "duration": 0.012227,
     "end_time": "2025-06-11T15:14:27.077171",
     "exception": false,
     "start_time": "2025-06-11T15:14:27.064944",
     "status": "completed"
    },
    "tags": []
   },
   "outputs": [],
   "source": [
    "def isBreakOut(candleEval,backcandles, window, start, candle):\n",
    "    if (candleEval-backcandles-window)<0:\n",
    "        return 0\n",
    "\n",
    "    if candleEval==start:\n",
    "        prev_idx = candleEval\n",
    "    else:\n",
    "        prev_idx = candleEval-1\n",
    "        \n",
    "    prev_high = dfpl.loc[prev_idx].High\n",
    "    prev_low = dfpl.loc[prev_idx].Low\n",
    "    prev_close = df.loc[prev_idx].Close\n",
    "    \n",
    "    curr_idx = candleEval\n",
    "    curr_high = dfpl.loc[candleEval].High\n",
    "    curr_low = dfpl.loc[candleEval].Low\n",
    "    curr_close = dfpl.loc[candleEval].Close\n",
    "    curr_open = dfpl.loc[candleEval].Open\n",
    "\n",
    "    #trend_prevlow=dfpl.loc[prev_idx].trendcurrlow\n",
    "    trend_prevhigh=dfpl.loc[prev_idx].trendcurrhigh\n",
    "\n",
    "    #trend_currlow=dfpl.loc[candleEval].trendcurrlow\n",
    "    trend_currhigh=dfpl.loc[candleEval].trendcurrhigh\n",
    "\n",
    "    #codigo para tendencia LOW, nos importa breaks en tendencia HIGH\n",
    "    #if ( prev_high > trend_prevlow and\n",
    "    #    prev_close < trend_prevlow and\n",
    "    #    curr_open < trend_currlow and\n",
    "    #    curr_close < trend_currlow and candleEval>candle): #and r_sq_l > 0.9\n",
    "    #    return 1\n",
    "    \n",
    "    if ( prev_low < trend_prevhigh and\n",
    "        prev_close > trend_prevhigh and\n",
    "        curr_open > trend_currhigh and\n",
    "        curr_close > trend_currhigh and\n",
    "        candleEval>candle): #and r_sq_h > 0.9\n",
    "        return 2\n",
    "\n",
    "    elif (curr_open > trend_currhigh and\n",
    "        curr_close > trend_currhigh and candleEval>candle):\n",
    "        return 3\n",
    "    \n",
    "    else:\n",
    "        return np.nan"
   ]
  },
  {
   "cell_type": "code",
   "execution_count": 13,
   "id": "9a6f7cd4-6144-46bb-8732-caab1da7e201",
   "metadata": {
    "execution": {
     "iopub.execute_input": "2025-06-11T15:14:27.091223Z",
     "iopub.status.busy": "2025-06-11T15:14:27.090722Z",
     "iopub.status.idle": "2025-06-11T15:14:27.094296Z",
     "shell.execute_reply": "2025-06-11T15:14:27.093759Z"
    },
    "papermill": {
     "duration": 0.011972,
     "end_time": "2025-06-11T15:14:27.095257",
     "exception": false,
     "start_time": "2025-06-11T15:14:27.083285",
     "status": "completed"
    },
    "tags": []
   },
   "outputs": [],
   "source": [
    "def breakpointpos(x):\n",
    "    if x['isBreakOutIni'] in (2,3):\n",
    "        return x['Low']+3e-3\n",
    "    elif x['isBreakOutIni']==1:\n",
    "        return x['High']-3e-3\n",
    "    else:\n",
    "        return np.nan"
   ]
  },
  {
   "cell_type": "markdown",
   "id": "7b688bb9-64d4-474f-bd98-149ea3bf8908",
   "metadata": {
    "papermill": {
     "duration": 0.006009,
     "end_time": "2025-06-11T15:14:27.107298",
     "exception": false,
     "start_time": "2025-06-11T15:14:27.101289",
     "status": "completed"
    },
    "tags": []
   },
   "source": [
    "### Hallando casos de Ruptura techo"
   ]
  },
  {
   "cell_type": "code",
   "execution_count": 14,
   "id": "010106c7-0626-4c5b-ad49-ca9c023fdeae",
   "metadata": {
    "execution": {
     "iopub.execute_input": "2025-06-11T15:14:27.120924Z",
     "iopub.status.busy": "2025-06-11T15:14:27.120439Z",
     "iopub.status.idle": "2025-06-11T15:14:27.132804Z",
     "shell.execute_reply": "2025-06-11T15:14:27.131988Z"
    },
    "papermill": {
     "duration": 0.020976,
     "end_time": "2025-06-11T15:14:27.134222",
     "exception": false,
     "start_time": "2025-06-11T15:14:27.113246",
     "status": "completed"
    },
    "tags": []
   },
   "outputs": [],
   "source": [
    "def revisionVelas(dfpl, backeval,window, candle):\n",
    "    #Revision de Velas\n",
    "    #Promedio del volumen de 50 velas antes del posible caso\n",
    "    promVol = dfpl.loc[i-backeval:i][\"Volume\"].mean()\n",
    "    #puede darse cualquiera de estas condiciones: \n",
    "    # - que la vela sea verde, que tenga volumen, este por encima de la linea trend y que tenga cuerpo (cierra por encima de su tercera parte)\n",
    "    # - que la vela sea envolvente, alcista y que este por encima de la linea trend\n",
    "    j=candle+1\n",
    "    k=candle+window\n",
    "    ind_vela=0\n",
    "    \n",
    "    #k no puede pasrse del rango\n",
    "    maxindex = dfpl.index[-1]\n",
    "    if (k>maxindex):\n",
    "        k=maxindex\n",
    "    \n",
    "    #print(\"candle:\",candle)\n",
    "    #print(\"window:\",window)\n",
    "    #print(\"j:\",j, \",k:\",k)\n",
    "    \n",
    "    #Evaluacion de velas ALCISTAS\n",
    "    dfpl[\"cdlengulfing\"] = ta.CDLENGULFING(dfpl['Open'], dfpl['High'], dfpl['Low'], dfpl['Close'])\n",
    "    dfpl[\"cdlhammer\"] = ta.CDLHAMMER(dfpl['Open'], dfpl['High'], dfpl['Low'], dfpl['Close'])\n",
    "    dfpl[\"cdlmorningstar\"] = ta.CDLMORNINGSTAR(dfpl['Open'], dfpl['High'], dfpl['Low'], dfpl['Close'])\n",
    "    dfpl[\"cdlpiercing\"] = ta.CDLPIERCING(dfpl['Open'], dfpl['High'], dfpl['Low'], dfpl['Close'])\n",
    "    dfpl[\"cdlclosingmarubozu\"] = ta.CDLCLOSINGMARUBOZU(dfpl['Open'], dfpl['High'], dfpl['Low'], dfpl['Close'])\n",
    "    dfpl[\"cdlmarubozu\"] = ta.CDLMARUBOZU(dfpl['Open'], dfpl['High'], dfpl['Low'], dfpl['Close'])\n",
    "    dfpl[\"cdl3whitesoldiers\"] = ta.CDL3WHITESOLDIERS(dfpl['Open'], dfpl['High'], dfpl['Low'], dfpl['Close'])\n",
    "    dfpl[\"cdlharami\"] = ta.CDLHARAMI(dfpl['Open'], dfpl['High'], dfpl['Low'], dfpl['Close'])\n",
    "    dfpl[\"cdlharamicross\"] = ta.CDLHARAMICROSS(dfpl['Open'], dfpl['High'], dfpl['Low'], dfpl['Close'])\n",
    "    dfpl[\"cdlinvertdhammer\"] = ta.CDLINVERTEDHAMMER(dfpl['Open'], dfpl['High'], dfpl['Low'], dfpl['Close'])\n",
    "    dfpl[\"cdlladderbottom\"] = ta.CDLLADDERBOTTOM(dfpl['Open'], dfpl['High'], dfpl['Low'], dfpl['Close'])\n",
    "\n",
    "    dfpl['Vela_Verde'] = dfpl['Close'] > dfpl['Open']\n",
    "    # Calcular el nivel de la tercera parte\n",
    "    #dfpl['Third_Level'] = dfpl['Low'] + (dfpl['High'] - dfpl['Low']) / 3\n",
    "    dfpl['Third_Level'] = dfpl['Open'] + (dfpl['High'] - dfpl['Low']) / 3\n",
    "    # Verificar si la vela cierra por encima de su tercera parte, vela con cuerpo\n",
    "    dfpl['Above_Third'] = dfpl['Close'] > dfpl['Third_Level']\n",
    "\n",
    "    while j<=k:            \n",
    "        \n",
    "        vol = dfpl.loc[j,\"Volume\"]\n",
    "        above_Third = dfpl.loc[j,\"Above_Third\"]\n",
    "        vela_Verde = dfpl.loc[j,\"Vela_Verde\"]\n",
    "        lineTrend = dfpl.loc[j,'trendcurrhigh']\n",
    "        high = dfpl.loc[j,'High']\n",
    "        close = dfpl.loc[j,'Close']\n",
    "\n",
    "        cdlengulfing = dfpl.loc[j,\"cdlengulfing\"]\n",
    "        cdlhammer = dfpl.loc[j,\"cdlhammer\"]\n",
    "        cdlmorningstar = dfpl.loc[j,\"cdlmorningstar\"]\n",
    "        cdlpiercing = dfpl.loc[j,\"cdlpiercing\"]\n",
    "        cdlclosingmarubozu = dfpl.loc[j,\"cdlclosingmarubozu\"]\n",
    "        cdlmarubozu = dfpl.loc[j,\"cdlmarubozu\"]\n",
    "        cdl3whitesoldiers = dfpl.loc[j,\"cdl3whitesoldiers\"]\n",
    "        cdlharami = dfpl.loc[j,\"cdlharami\"]\n",
    "        cdlharamicross = dfpl.loc[j,\"cdlharamicross\"]\n",
    "        cdlinvertdhammer = dfpl.loc[j,\"cdlinvertdhammer\"]\n",
    "        cdlladderbottom = dfpl.loc[j,\"cdlladderbottom\"]\n",
    "\n",
    "        #vela consecutiva alcista\n",
    "        candle_up = (#dfpl.loc[j,\"Vela_Verde\"]==True \n",
    "                     #and dfpl.loc[j-1,\"Vela_Verde\"]==True \n",
    "                     dfpl.loc[j,\"High\"]> dfpl.loc[j-1,\"High\"]\n",
    "                     and dfpl.loc[j-1,\"High\"]> dfpl.loc[j,\"Low\"]\n",
    "                     and dfpl.loc[j,\"Low\"]> dfpl.loc[j-2,\"High\"]\n",
    "                     and dfpl.loc[j-2,\"High\"]> dfpl.loc[j-1,\"Low\"]\n",
    "                     and dfpl.loc[j-1,\"Low\"]> dfpl.loc[j-3,\"High\"]\n",
    "                     and dfpl.loc[j-3,\"High\"]> dfpl.loc[j-2,\"Low\"]\n",
    "                     and dfpl.loc[j-2,\"Low\"]> dfpl.loc[j-3,\"Low\"]\n",
    "                     #and dfpl.loc[j,\"Close\"]> dfpl.loc[j-1,\"High\"] \n",
    "                     #and dfpl.loc[j-1,\"Close\"]>dfpl.loc[j-2,\"High\"]\n",
    "                     #and dfpl.loc[j-1,\"Close\"]>dfpl.loc[j-3,\"High\"] \n",
    "                    )\n",
    "\n",
    "        if (candle_up==True and close>lineTrend):\n",
    "            ind_vela=ind_vela+1\n",
    "        #vela sea verde, que tenga volumen, que tenga cuerpo y que este por encima de la linea trend\n",
    "        #if (vela_Verde==True and promVol<=vol and above_Third==True and close>=lineTrend):\n",
    "        #    ind_vela=ind_vela+1\n",
    "        \n",
    "        #vela sea envolvente, alcista y que este por encima de la linea trend\n",
    "        #if (\n",
    "        #    (cdlhammer>0 or\n",
    "        #     cdlmorningstar>0 or\n",
    "        #     cdlpiercing>0 or\n",
    "        #     cdl3whitesoldiers>0 or\n",
    "        #     cdlharami>0 or\n",
    "        #     cdlharamicross>0 or\n",
    "        #     cdlinvertdhammer>0 or\n",
    "        #     cdlladderbottom>0\n",
    "        #    )\n",
    "        #    and promVol<=vol\n",
    "        #    and close>=lineTrend):\n",
    "        #    ind_vela=ind_vela+1\n",
    "\n",
    "        #vela sea envolvente, alcista y que este por encima de la linea trend\n",
    "        #if (\n",
    "        #    (cdlclosingmarubozu>0 or\n",
    "        #     cdlmarubozu>0 or\n",
    "        #     cdlengulfing>0 or\n",
    "        #     cdlhammer>0\n",
    "        #    )\n",
    "        #    #and promVol<=vol\n",
    "        #    and close>=lineTrend):\n",
    "        #    ind_vela=ind_vela+1 \n",
    "            \n",
    "        j=j+1\n",
    "    \n",
    "    return 1 #1 para mostrar todo ind_vela para que funcione el filtro"
   ]
  },
  {
   "cell_type": "code",
   "execution_count": 15,
   "id": "4f455fe2-6ea0-41c9-9fab-e231b8030440",
   "metadata": {
    "execution": {
     "iopub.execute_input": "2025-06-11T15:14:27.148856Z",
     "iopub.status.busy": "2025-06-11T15:14:27.148141Z",
     "iopub.status.idle": "2025-06-11T15:15:50.796322Z",
     "shell.execute_reply": "2025-06-11T15:15:50.795627Z"
    },
    "papermill": {
     "duration": 83.656637,
     "end_time": "2025-06-11T15:15:50.797307",
     "exception": false,
     "start_time": "2025-06-11T15:14:27.140670",
     "status": "completed"
    },
    "tags": []
   },
   "outputs": [
    {
     "name": "stdout",
     "output_type": "stream",
     "text": [
      "212 SPY\n"
     ]
    },
    {
     "name": "stdout",
     "output_type": "stream",
     "text": [
      "852 SPY\n",
      "922 SPY\n"
     ]
    },
    {
     "name": "stdout",
     "output_type": "stream",
     "text": [
      "1038 SPY\n",
      "1111 SPY\n"
     ]
    },
    {
     "name": "stdout",
     "output_type": "stream",
     "text": [
      "1173 SPY\n",
      "1208 SPY\n"
     ]
    },
    {
     "name": "stdout",
     "output_type": "stream",
     "text": [
      "1271 SPY\n",
      "1294 SPY\n"
     ]
    },
    {
     "name": "stdout",
     "output_type": "stream",
     "text": [
      "1324 SPY\n",
      "1377 SPY\n"
     ]
    },
    {
     "name": "stdout",
     "output_type": "stream",
     "text": [
      "1399 SPY\n",
      "1663 SPY\n"
     ]
    },
    {
     "name": "stdout",
     "output_type": "stream",
     "text": [
      "2120 SPY\n"
     ]
    },
    {
     "name": "stdout",
     "output_type": "stream",
     "text": [
      "2352 SPY\n"
     ]
    },
    {
     "name": "stdout",
     "output_type": "stream",
     "text": [
      "2621 SPY\n",
      "2857 SPY\n"
     ]
    },
    {
     "name": "stdout",
     "output_type": "stream",
     "text": [
      "3317 SPY\n",
      "3513 SPY\n"
     ]
    },
    {
     "name": "stdout",
     "output_type": "stream",
     "text": [
      "3772 META\n",
      "4130 META\n"
     ]
    },
    {
     "name": "stdout",
     "output_type": "stream",
     "text": [
      "4571 META\n",
      "4647 META\n"
     ]
    },
    {
     "name": "stdout",
     "output_type": "stream",
     "text": [
      "4709 META\n",
      "4739 META\n"
     ]
    },
    {
     "name": "stdout",
     "output_type": "stream",
     "text": [
      "4807 META\n"
     ]
    },
    {
     "name": "stdout",
     "output_type": "stream",
     "text": [
      "5369 META\n",
      "5605 META\n"
     ]
    },
    {
     "name": "stdout",
     "output_type": "stream",
     "text": [
      "5868 META\n",
      "6150 META\n"
     ]
    },
    {
     "name": "stdout",
     "output_type": "stream",
     "text": [
      "6866 META\n",
      "6898 META\n"
     ]
    },
    {
     "name": "stdout",
     "output_type": "stream",
     "text": [
      "7010 META\n"
     ]
    },
    {
     "name": "stdout",
     "output_type": "stream",
     "text": [
      "7935 AAPL\n",
      "7970 AAPL\n"
     ]
    },
    {
     "name": "stdout",
     "output_type": "stream",
     "text": [
      "8665 AAPL\n",
      "8731 AAPL\n"
     ]
    },
    {
     "name": "stdout",
     "output_type": "stream",
     "text": [
      "8762 AAPL\n",
      "8807 AAPL\n"
     ]
    },
    {
     "name": "stdout",
     "output_type": "stream",
     "text": [
      "8899 AAPL\n"
     ]
    },
    {
     "name": "stdout",
     "output_type": "stream",
     "text": [
      "9423 AAPL\n"
     ]
    },
    {
     "name": "stdout",
     "output_type": "stream",
     "text": [
      "9675 AAPL\n",
      "9731 AAPL\n"
     ]
    },
    {
     "name": "stdout",
     "output_type": "stream",
     "text": [
      "10435 AAPL\n",
      "11329 AMZN\n"
     ]
    },
    {
     "name": "stdout",
     "output_type": "stream",
     "text": [
      "11358 AMZN\n",
      "11419 AMZN\n"
     ]
    },
    {
     "name": "stdout",
     "output_type": "stream",
     "text": [
      "11465 AMZN\n",
      "11636 AMZN\n"
     ]
    },
    {
     "name": "stdout",
     "output_type": "stream",
     "text": [
      "11663 AMZN\n",
      "11679 AMZN\n"
     ]
    },
    {
     "name": "stdout",
     "output_type": "stream",
     "text": [
      "11709 AMZN\n",
      "11771 AMZN\n"
     ]
    },
    {
     "name": "stdout",
     "output_type": "stream",
     "text": [
      "11869 AMZN\n",
      "11977 AMZN\n"
     ]
    },
    {
     "name": "stdout",
     "output_type": "stream",
     "text": [
      "12039 AMZN\n",
      "12402 AMZN\n"
     ]
    },
    {
     "name": "stdout",
     "output_type": "stream",
     "text": [
      "12459 AMZN\n",
      "12818 AMZN\n"
     ]
    },
    {
     "name": "stdout",
     "output_type": "stream",
     "text": [
      "13033 AMZN\n",
      "13110 AMZN\n"
     ]
    },
    {
     "name": "stdout",
     "output_type": "stream",
     "text": [
      "13236 AMZN\n",
      "13262 AMZN\n"
     ]
    },
    {
     "name": "stdout",
     "output_type": "stream",
     "text": [
      "13442 AMZN\n",
      "13470 AMZN\n"
     ]
    },
    {
     "name": "stdout",
     "output_type": "stream",
     "text": [
      "14072 AMZN\n"
     ]
    },
    {
     "name": "stdout",
     "output_type": "stream",
     "text": [
      "15337 NFLX\n",
      "15400 NFLX\n"
     ]
    },
    {
     "name": "stdout",
     "output_type": "stream",
     "text": [
      "15457 NFLX\n",
      "15791 NFLX\n"
     ]
    },
    {
     "name": "stdout",
     "output_type": "stream",
     "text": [
      "15962 NFLX\n",
      "16226 NFLX\n"
     ]
    },
    {
     "name": "stdout",
     "output_type": "stream",
     "text": [
      "16349 NFLX\n",
      "16393 NFLX\n"
     ]
    },
    {
     "name": "stdout",
     "output_type": "stream",
     "text": [
      "16439 NFLX\n",
      "16580 NFLX\n"
     ]
    },
    {
     "name": "stdout",
     "output_type": "stream",
     "text": [
      "16739 NFLX\n",
      "16767 NFLX\n"
     ]
    },
    {
     "name": "stdout",
     "output_type": "stream",
     "text": [
      "16986 NFLX\n"
     ]
    },
    {
     "name": "stdout",
     "output_type": "stream",
     "text": [
      "17550 NFLX\n",
      "17614 NFLX\n"
     ]
    },
    {
     "name": "stdout",
     "output_type": "stream",
     "text": [
      "18513 MRNA\n",
      "18582 MRNA\n"
     ]
    },
    {
     "name": "stdout",
     "output_type": "stream",
     "text": [
      "19209 MRNA\n"
     ]
    },
    {
     "name": "stdout",
     "output_type": "stream",
     "text": [
      "22016 TSLA\n",
      "22113 TSLA\n"
     ]
    },
    {
     "name": "stdout",
     "output_type": "stream",
     "text": [
      "22150 TSLA\n",
      "22853 TSLA\n"
     ]
    },
    {
     "name": "stdout",
     "output_type": "stream",
     "text": [
      "22978 TSLA\n",
      "23074 TSLA\n"
     ]
    },
    {
     "name": "stdout",
     "output_type": "stream",
     "text": [
      "23411 TSLA\n",
      "23698 TSLA\n"
     ]
    },
    {
     "name": "stdout",
     "output_type": "stream",
     "text": [
      "24623 TSLA\n",
      "24963 TNA\n"
     ]
    },
    {
     "name": "stdout",
     "output_type": "stream",
     "text": [
      "25508 TNA\n",
      "25529 TNA\n"
     ]
    },
    {
     "name": "stdout",
     "output_type": "stream",
     "text": [
      "25606 TNA\n",
      "25644 TNA\n"
     ]
    },
    {
     "name": "stdout",
     "output_type": "stream",
     "text": [
      "25930 TNA\n",
      "25966 TNA\n"
     ]
    },
    {
     "name": "stdout",
     "output_type": "stream",
     "text": [
      "25993 TNA\n",
      "26026 TNA\n"
     ]
    },
    {
     "name": "stdout",
     "output_type": "stream",
     "text": [
      "26124 TNA\n",
      "26356 TNA\n"
     ]
    },
    {
     "name": "stdout",
     "output_type": "stream",
     "text": [
      "26643 TNA\n"
     ]
    },
    {
     "name": "stdout",
     "output_type": "stream",
     "text": [
      "27002 TNA\n",
      "27582 TNA\n"
     ]
    },
    {
     "name": "stdout",
     "output_type": "stream",
     "text": [
      "28076 TNA\n",
      "28091 TNA\n"
     ]
    },
    {
     "name": "stdout",
     "output_type": "stream",
     "text": [
      "29050 GLD\n",
      "29097 GLD\n"
     ]
    },
    {
     "name": "stdout",
     "output_type": "stream",
     "text": [
      "29563 GLD\n",
      "29719 GLD\n"
     ]
    },
    {
     "name": "stdout",
     "output_type": "stream",
     "text": [
      "29738 GLD\n",
      "30262 GLD\n"
     ]
    },
    {
     "name": "stdout",
     "output_type": "stream",
     "text": [
      "30305 GLD\n",
      "30477 GLD\n"
     ]
    },
    {
     "name": "stdout",
     "output_type": "stream",
     "text": [
      "30531 GLD\n"
     ]
    },
    {
     "name": "stdout",
     "output_type": "stream",
     "text": [
      "31050 GLD\n",
      "31081 GLD\n"
     ]
    },
    {
     "name": "stdout",
     "output_type": "stream",
     "text": [
      "31182 GLD\n"
     ]
    },
    {
     "name": "stdout",
     "output_type": "stream",
     "text": [
      "31356 GLD\n",
      "31499 GLD\n"
     ]
    },
    {
     "name": "stdout",
     "output_type": "stream",
     "text": [
      "32477 SLV\n",
      "32572 SLV\n"
     ]
    },
    {
     "name": "stdout",
     "output_type": "stream",
     "text": [
      "33099 SLV\n",
      "33129 SLV\n"
     ]
    },
    {
     "name": "stdout",
     "output_type": "stream",
     "text": [
      "33240 SLV\n",
      "33262 SLV\n"
     ]
    },
    {
     "name": "stdout",
     "output_type": "stream",
     "text": [
      "34013 SLV\n",
      "34034 SLV\n"
     ]
    },
    {
     "name": "stdout",
     "output_type": "stream",
     "text": [
      "34067 SLV\n",
      "34106 SLV\n"
     ]
    },
    {
     "name": "stdout",
     "output_type": "stream",
     "text": [
      "34683 SLV\n",
      "34822 SLV\n"
     ]
    },
    {
     "name": "stdout",
     "output_type": "stream",
     "text": [
      "34932 SLV\n",
      "35242 SLV\n"
     ]
    },
    {
     "name": "stdout",
     "output_type": "stream",
     "text": [
      "35565 USO\n",
      "35591 USO\n"
     ]
    },
    {
     "name": "stdout",
     "output_type": "stream",
     "text": [
      "36549 USO\n"
     ]
    },
    {
     "name": "stdout",
     "output_type": "stream",
     "text": [
      "37648 USO\n",
      "37677 USO\n"
     ]
    },
    {
     "name": "stdout",
     "output_type": "stream",
     "text": [
      "39717 BAC\n",
      "39774 BAC\n"
     ]
    },
    {
     "name": "stdout",
     "output_type": "stream",
     "text": [
      "39787 BAC\n"
     ]
    },
    {
     "name": "stdout",
     "output_type": "stream",
     "text": [
      "40160 BAC\n",
      "40193 BAC\n"
     ]
    },
    {
     "name": "stdout",
     "output_type": "stream",
     "text": [
      "40237 BAC\n",
      "40473 BAC\n"
     ]
    },
    {
     "name": "stdout",
     "output_type": "stream",
     "text": [
      "40717 BAC\n"
     ]
    },
    {
     "name": "stdout",
     "output_type": "stream",
     "text": [
      "41396 BAC\n",
      "42176 BAC\n"
     ]
    },
    {
     "name": "stdout",
     "output_type": "stream",
     "text": [
      "42824 CVX\n",
      "42865 CVX\n"
     ]
    },
    {
     "name": "stdout",
     "output_type": "stream",
     "text": [
      "43321 CVX\n",
      "43598 CVX\n"
     ]
    },
    {
     "name": "stdout",
     "output_type": "stream",
     "text": [
      "43615 CVX\n",
      "44012 CVX\n"
     ]
    },
    {
     "name": "stdout",
     "output_type": "stream",
     "text": [
      "44749 CVX\n",
      "44889 CVX\n"
     ]
    },
    {
     "name": "stdout",
     "output_type": "stream",
     "text": [
      "44921 CVX\n",
      "44952 CVX\n"
     ]
    },
    {
     "name": "stdout",
     "output_type": "stream",
     "text": [
      "45521 CVX\n",
      "46189 XOM\n"
     ]
    },
    {
     "name": "stdout",
     "output_type": "stream",
     "text": [
      "46354 XOM\n"
     ]
    },
    {
     "name": "stdout",
     "output_type": "stream",
     "text": [
      "47144 XOM\n",
      "47188 XOM\n"
     ]
    },
    {
     "name": "stdout",
     "output_type": "stream",
     "text": [
      "47891 XOM\n"
     ]
    },
    {
     "name": "stdout",
     "output_type": "stream",
     "text": [
      "48246 XOM\n",
      "49053 XOM\n"
     ]
    },
    {
     "name": "stdout",
     "output_type": "stream",
     "text": [
      "49281 XOM\n",
      "50262 QQQ\n"
     ]
    },
    {
     "name": "stdout",
     "output_type": "stream",
     "text": [
      "50380 QQQ\n",
      "50493 QQQ\n"
     ]
    },
    {
     "name": "stdout",
     "output_type": "stream",
     "text": [
      "50595 QQQ\n",
      "50631 QQQ\n"
     ]
    },
    {
     "name": "stdout",
     "output_type": "stream",
     "text": [
      "50729 QQQ\n",
      "50752 QQQ\n"
     ]
    },
    {
     "name": "stdout",
     "output_type": "stream",
     "text": [
      "50837 QQQ\n",
      "51121 QQQ\n"
     ]
    },
    {
     "name": "stdout",
     "output_type": "stream",
     "text": [
      "51768 QQQ\n",
      "51810 QQQ\n"
     ]
    },
    {
     "name": "stdout",
     "output_type": "stream",
     "text": [
      "51851 QQQ\n",
      "52079 QQQ\n"
     ]
    },
    {
     "name": "stdout",
     "output_type": "stream",
     "text": [
      "52315 QQQ\n",
      "52348 QQQ\n"
     ]
    },
    {
     "name": "stdout",
     "output_type": "stream",
     "text": [
      "52365 QQQ\n",
      "52774 QQQ\n"
     ]
    },
    {
     "name": "stdout",
     "output_type": "stream",
     "text": [
      "52885 QQQ\n",
      "52932 QQQ\n"
     ]
    },
    {
     "name": "stdout",
     "output_type": "stream",
     "text": [
      "53425 MSFT\n"
     ]
    },
    {
     "name": "stdout",
     "output_type": "stream",
     "text": [
      "53772 MSFT\n",
      "54100 MSFT\n"
     ]
    },
    {
     "name": "stdout",
     "output_type": "stream",
     "text": [
      "54652 MSFT\n",
      "54793 MSFT\n"
     ]
    },
    {
     "name": "stdout",
     "output_type": "stream",
     "text": [
      "55610 MSFT\n"
     ]
    },
    {
     "name": "stdout",
     "output_type": "stream",
     "text": [
      "56486 MSFT\n",
      "56505 MSFT\n"
     ]
    },
    {
     "name": "stdout",
     "output_type": "stream",
     "text": [
      "57608 NVDA\n"
     ]
    },
    {
     "name": "stdout",
     "output_type": "stream",
     "text": [
      "57819 NVDA\n",
      "57899 NVDA\n"
     ]
    },
    {
     "name": "stdout",
     "output_type": "stream",
     "text": [
      "58154 NVDA\n",
      "58175 NVDA\n"
     ]
    },
    {
     "name": "stdout",
     "output_type": "stream",
     "text": [
      "58215 NVDA\n",
      "58404 NVDA\n"
     ]
    },
    {
     "name": "stdout",
     "output_type": "stream",
     "text": [
      "58869 NVDA\n",
      "58912 NVDA\n"
     ]
    },
    {
     "name": "stdout",
     "output_type": "stream",
     "text": [
      "59004 NVDA\n"
     ]
    },
    {
     "name": "stdout",
     "output_type": "stream",
     "text": [
      "59946 NVDA\n",
      "59994 NVDA\n"
     ]
    },
    {
     "name": "stdout",
     "output_type": "stream",
     "text": [
      "60330 WMT\n",
      "60753 WMT\n"
     ]
    },
    {
     "name": "stdout",
     "output_type": "stream",
     "text": [
      "61039 WMT\n"
     ]
    },
    {
     "name": "stdout",
     "output_type": "stream",
     "text": [
      "61127 WMT\n"
     ]
    },
    {
     "name": "stdout",
     "output_type": "stream",
     "text": [
      "61259 WMT\n"
     ]
    },
    {
     "name": "stdout",
     "output_type": "stream",
     "text": [
      "61345 WMT\n",
      "61381 WMT\n"
     ]
    },
    {
     "name": "stdout",
     "output_type": "stream",
     "text": [
      "61419 WMT\n"
     ]
    },
    {
     "name": "stdout",
     "output_type": "stream",
     "text": [
      "61783 WMT\n",
      "61860 WMT\n"
     ]
    },
    {
     "name": "stdout",
     "output_type": "stream",
     "text": [
      "61987 WMT\n",
      "62148 WMT\n"
     ]
    },
    {
     "name": "stdout",
     "output_type": "stream",
     "text": [
      "62309 WMT\n",
      "62537 WMT\n"
     ]
    },
    {
     "name": "stdout",
     "output_type": "stream",
     "text": [
      "62906 WMT\n",
      "62942 WMT\n"
     ]
    },
    {
     "name": "stdout",
     "output_type": "stream",
     "text": [
      "63270 WMT\n",
      "63317 WMT\n"
     ]
    },
    {
     "name": "stdout",
     "output_type": "stream",
     "text": [
      "65226 BA\n"
     ]
    },
    {
     "name": "stdout",
     "output_type": "stream",
     "text": [
      "66285 BA\n",
      "66481 BA\n"
     ]
    },
    {
     "name": "stdout",
     "output_type": "stream",
     "text": [
      "66951 BA\n"
     ]
    },
    {
     "name": "stdout",
     "output_type": "stream",
     "text": [
      "68021 DIS\n",
      "68226 DIS\n"
     ]
    },
    {
     "name": "stdout",
     "output_type": "stream",
     "text": [
      "68429 DIS\n",
      "68476 DIS\n"
     ]
    },
    {
     "name": "stdout",
     "output_type": "stream",
     "text": [
      "68512 DIS\n",
      "69355 DIS\n"
     ]
    },
    {
     "name": "stdout",
     "output_type": "stream",
     "text": [
      "69393 DIS\n"
     ]
    },
    {
     "name": "stdout",
     "output_type": "stream",
     "text": [
      "70897 CAT\n"
     ]
    },
    {
     "name": "stdout",
     "output_type": "stream",
     "text": [
      "71842 CAT\n",
      "71915 CAT\n"
     ]
    },
    {
     "name": "stdout",
     "output_type": "stream",
     "text": [
      "72013 CAT\n",
      "72046 CAT\n"
     ]
    },
    {
     "name": "stdout",
     "output_type": "stream",
     "text": [
      "72079 CAT\n",
      "72573 CAT\n"
     ]
    },
    {
     "name": "stdout",
     "output_type": "stream",
     "text": [
      "72764 CAT\n"
     ]
    },
    {
     "name": "stdout",
     "output_type": "stream",
     "text": [
      "72997 CAT\n",
      "73474 CAT\n"
     ]
    },
    {
     "name": "stdout",
     "output_type": "stream",
     "text": [
      "74076 CAT\n",
      "74402 IBM\n"
     ]
    },
    {
     "name": "stdout",
     "output_type": "stream",
     "text": [
      "74449 IBM\n",
      "74589 IBM\n"
     ]
    },
    {
     "name": "stdout",
     "output_type": "stream",
     "text": [
      "74902 IBM\n",
      "75023 IBM\n"
     ]
    },
    {
     "name": "stdout",
     "output_type": "stream",
     "text": [
      "75062 IBM\n",
      "75285 IBM\n"
     ]
    },
    {
     "name": "stdout",
     "output_type": "stream",
     "text": [
      "75986 IBM\n",
      "76024 IBM\n"
     ]
    },
    {
     "name": "stdout",
     "output_type": "stream",
     "text": [
      "76146 IBM\n"
     ]
    },
    {
     "name": "stdout",
     "output_type": "stream",
     "text": [
      "76396 IBM\n",
      "76529 IBM\n"
     ]
    },
    {
     "name": "stdout",
     "output_type": "stream",
     "text": [
      "77503 IBM\n",
      "77671 IBM\n"
     ]
    },
    {
     "name": "stdout",
     "output_type": "stream",
     "text": [
      "78465 WFC\n"
     ]
    },
    {
     "name": "stdout",
     "output_type": "stream",
     "text": [
      "78998 WFC\n",
      "79276 WFC\n"
     ]
    },
    {
     "name": "stdout",
     "output_type": "stream",
     "text": [
      "79312 WFC\n",
      "79564 WFC\n"
     ]
    },
    {
     "name": "stdout",
     "output_type": "stream",
     "text": [
      "80111 WFC\n"
     ]
    },
    {
     "name": "stdout",
     "output_type": "stream",
     "text": [
      "80208 WFC\n",
      "80235 WFC\n"
     ]
    },
    {
     "name": "stdout",
     "output_type": "stream",
     "text": [
      "80529 WFC\n",
      "80564 WFC\n"
     ]
    },
    {
     "name": "stdout",
     "output_type": "stream",
     "text": [
      "80598 WFC\n",
      "81060 WFC\n"
     ]
    },
    {
     "name": "stdout",
     "output_type": "stream",
     "text": [
      "81205 WFC\n"
     ]
    },
    {
     "name": "stdout",
     "output_type": "stream",
     "text": [
      "81469 PLTR\n",
      "81993 PLTR\n"
     ]
    },
    {
     "name": "stdout",
     "output_type": "stream",
     "text": [
      "82406 PLTR\n"
     ]
    },
    {
     "name": "stdout",
     "output_type": "stream",
     "text": [
      "82537 PLTR\n",
      "82991 PLTR\n"
     ]
    },
    {
     "name": "stdout",
     "output_type": "stream",
     "text": [
      "83031 PLTR\n"
     ]
    },
    {
     "name": "stdout",
     "output_type": "stream",
     "text": [
      "83308 PLTR\n",
      "83461 PLTR\n"
     ]
    },
    {
     "name": "stdout",
     "output_type": "stream",
     "text": [
      "83483 PLTR\n",
      "83544 PLTR\n"
     ]
    },
    {
     "name": "stdout",
     "output_type": "stream",
     "text": [
      "83626 PLTR\n"
     ]
    },
    {
     "name": "stdout",
     "output_type": "stream",
     "text": [
      "83736 PLTR\n"
     ]
    },
    {
     "name": "stdout",
     "output_type": "stream",
     "text": [
      "83897 PLTR\n",
      "84175 PLTR\n"
     ]
    },
    {
     "name": "stdout",
     "output_type": "stream",
     "text": [
      "85521 AMD\n"
     ]
    },
    {
     "name": "stdout",
     "output_type": "stream",
     "text": [
      "85686 AMD\n",
      "85736 AMD\n"
     ]
    },
    {
     "name": "stdout",
     "output_type": "stream",
     "text": [
      "85899 AMD\n",
      "86002 AMD\n"
     ]
    },
    {
     "name": "stdout",
     "output_type": "stream",
     "text": [
      "86447 AMD\n",
      "86459 AMD\n"
     ]
    },
    {
     "name": "stdout",
     "output_type": "stream",
     "text": [
      "87044 AMD\n",
      "87095 AMD\n"
     ]
    },
    {
     "name": "stdout",
     "output_type": "stream",
     "text": [
      "88506 AVGO\n"
     ]
    },
    {
     "name": "stdout",
     "output_type": "stream",
     "text": [
      "89383 AVGO\n",
      "89468 AVGO\n"
     ]
    },
    {
     "name": "stdout",
     "output_type": "stream",
     "text": [
      "89533 AVGO\n",
      "89566 AVGO\n"
     ]
    },
    {
     "name": "stdout",
     "output_type": "stream",
     "text": [
      "89929 AVGO\n",
      "90177 AVGO\n"
     ]
    },
    {
     "name": "stdout",
     "output_type": "stream",
     "text": [
      "90628 AVGO\n",
      "90643 AVGO\n"
     ]
    },
    {
     "name": "stdout",
     "output_type": "stream",
     "text": [
      "90966 AVGO\n",
      "90998 AVGO\n"
     ]
    },
    {
     "name": "stdout",
     "output_type": "stream",
     "text": [
      "91600 AVGO\n",
      "91697 AVGO\n"
     ]
    },
    {
     "name": "stdout",
     "output_type": "stream",
     "text": [
      "92709 HOOD\n",
      "92728 HOOD\n"
     ]
    },
    {
     "name": "stdout",
     "output_type": "stream",
     "text": [
      "92748 HOOD\n",
      "93033 HOOD\n"
     ]
    },
    {
     "name": "stdout",
     "output_type": "stream",
     "text": [
      "93130 HOOD\n"
     ]
    },
    {
     "name": "stdout",
     "output_type": "stream",
     "text": [
      "93488 HOOD\n",
      "93521 HOOD\n"
     ]
    },
    {
     "name": "stdout",
     "output_type": "stream",
     "text": [
      "93560 HOOD\n",
      "93744 HOOD\n"
     ]
    },
    {
     "name": "stdout",
     "output_type": "stream",
     "text": [
      "94055 HOOD\n",
      "94068 HOOD\n"
     ]
    },
    {
     "name": "stdout",
     "output_type": "stream",
     "text": [
      "94106 HOOD\n",
      "94337 HOOD\n"
     ]
    },
    {
     "name": "stdout",
     "output_type": "stream",
     "text": [
      "94368 HOOD\n"
     ]
    },
    {
     "name": "stdout",
     "output_type": "stream",
     "text": [
      "94493 HOOD\n",
      "94651 HOOD\n"
     ]
    },
    {
     "name": "stdout",
     "output_type": "stream",
     "text": [
      "94683 HOOD\n",
      "94731 HOOD\n"
     ]
    },
    {
     "name": "stdout",
     "output_type": "stream",
     "text": [
      "95180 HOOD\n",
      "95224 HOOD\n"
     ]
    },
    {
     "name": "stdout",
     "output_type": "stream",
     "text": [
      "95253 HOOD\n",
      "95300 HOOD\n"
     ]
    },
    {
     "name": "stdout",
     "output_type": "stream",
     "text": [
      "95705 CRWV\n",
      "96427 MSTR\n"
     ]
    },
    {
     "name": "stdout",
     "output_type": "stream",
     "text": [
      "96511 MSTR\n",
      "96565 MSTR\n"
     ]
    },
    {
     "name": "stdout",
     "output_type": "stream",
     "text": [
      "96665 MSTR\n",
      "96722 MSTR\n"
     ]
    },
    {
     "name": "stdout",
     "output_type": "stream",
     "text": [
      "96740 MSTR\n",
      "97034 MSTR\n"
     ]
    },
    {
     "name": "stdout",
     "output_type": "stream",
     "text": [
      "97425 MSTR\n",
      "98042 MSTR\n"
     ]
    },
    {
     "name": "stdout",
     "output_type": "stream",
     "text": [
      "98092 MSTR\n",
      "98123 MSTR\n"
     ]
    },
    {
     "name": "stdout",
     "output_type": "stream",
     "text": [
      "98155 MSTR\n"
     ]
    },
    {
     "name": "stdout",
     "output_type": "stream",
     "text": [
      "99060 MSTR\n"
     ]
    },
    {
     "name": "stdout",
     "output_type": "stream",
     "text": [
      "99839 UNH\n",
      "99874 UNH\n"
     ]
    },
    {
     "name": "stdout",
     "output_type": "stream",
     "text": [
      "100127 UNH\n",
      "100147 UNH\n"
     ]
    },
    {
     "name": "stdout",
     "output_type": "stream",
     "text": [
      "100936 UNH\n"
     ]
    },
    {
     "name": "stdout",
     "output_type": "stream",
     "text": [
      "101382 UNH\n",
      "101413 UNH\n"
     ]
    },
    {
     "name": "stdout",
     "output_type": "stream",
     "text": [
      "101426 UNH\n",
      "101446 UNH\n"
     ]
    },
    {
     "name": "stdout",
     "output_type": "stream",
     "text": [
      "102133 UNH\n",
      "102149 UNH\n"
     ]
    },
    {
     "name": "stdout",
     "output_type": "stream",
     "text": [
      "102459 UNH\n"
     ]
    },
    {
     "name": "stdout",
     "output_type": "stream",
     "text": [
      "103259 GOOG\n",
      "103451 GOOG\n"
     ]
    },
    {
     "name": "stdout",
     "output_type": "stream",
     "text": [
      "103859 GOOG\n"
     ]
    },
    {
     "name": "stdout",
     "output_type": "stream",
     "text": [
      "104243 GOOG\n",
      "104293 GOOG\n"
     ]
    },
    {
     "name": "stdout",
     "output_type": "stream",
     "text": [
      "104342 GOOG\n",
      "104369 GOOG\n"
     ]
    },
    {
     "name": "stdout",
     "output_type": "stream",
     "text": [
      "104426 GOOG\n",
      "104487 GOOG\n"
     ]
    },
    {
     "name": "stdout",
     "output_type": "stream",
     "text": [
      "105115 GOOG\n",
      "105271 GOOG\n"
     ]
    },
    {
     "name": "stdout",
     "output_type": "stream",
     "text": [
      "106204 GOOG\n",
      "106226 GOOG\n"
     ]
    },
    {
     "name": "stdout",
     "output_type": "stream",
     "text": [
      "106251 GOOG\n",
      "106591 APP\n"
     ]
    },
    {
     "name": "stdout",
     "output_type": "stream",
     "text": [
      "106708 APP\n",
      "107390 APP\n"
     ]
    },
    {
     "name": "stdout",
     "output_type": "stream",
     "text": [
      "107410 APP\n",
      "107431 APP\n"
     ]
    },
    {
     "name": "stdout",
     "output_type": "stream",
     "text": [
      "107511 APP\n",
      "107599 APP\n"
     ]
    },
    {
     "name": "stdout",
     "output_type": "stream",
     "text": [
      "107626 APP\n",
      "107655 APP\n"
     ]
    },
    {
     "name": "stdout",
     "output_type": "stream",
     "text": [
      "107803 APP\n",
      "107966 APP\n"
     ]
    },
    {
     "name": "stdout",
     "output_type": "stream",
     "text": [
      "108472 APP\n",
      "108499 APP\n"
     ]
    },
    {
     "name": "stdout",
     "output_type": "stream",
     "text": [
      "108898 APP\n",
      "108920 APP\n"
     ]
    },
    {
     "name": "stdout",
     "output_type": "stream",
     "text": [
      "109180 APP\n",
      "109212 APP\n"
     ]
    },
    {
     "name": "stdout",
     "output_type": "stream",
     "text": [
      "109232 APP\n",
      "109256 APP\n"
     ]
    },
    {
     "name": "stdout",
     "output_type": "stream",
     "text": [
      "109782 APP\n",
      "110097 UBER\n"
     ]
    },
    {
     "name": "stdout",
     "output_type": "stream",
     "text": [
      "110122 UBER\n"
     ]
    },
    {
     "name": "stdout",
     "output_type": "stream",
     "text": [
      "110707 UBER\n",
      "110992 UBER\n"
     ]
    },
    {
     "name": "stdout",
     "output_type": "stream",
     "text": [
      "111085 UBER\n"
     ]
    },
    {
     "name": "stdout",
     "output_type": "stream",
     "text": [
      "112680 UBER\n",
      "113211 UBER\n"
     ]
    }
   ],
   "source": [
    "df_casos = pd.DataFrame()\n",
    "caso = 0\n",
    "ticker2 = \"\"\n",
    "window=5\n",
    "backeval=75\n",
    "backevalTrend=0\n",
    "dfpl = pd.DataFrame\n",
    "trendH = []\n",
    "trendL = []\n",
    "cant = 0\n",
    "for i, row in df.iterrows():\n",
    "    #if (i<=200):\n",
    "    if(df['id_posiblepm40'][i]==1): #posibles casos \n",
    "        #print(\"posible caso:\",i, df['companyName'][i])\n",
    "        cant = 0\n",
    "        candle = i\n",
    "        cnt = 0\n",
    "        valiniHigh = df.loc[candle,\"High\"]\n",
    "        #valiniLow = df.loc[candle,\"Low\"]\n",
    "        ticker = df['companyName'][i]\n",
    "        #Reinicio de casos por company\n",
    "        if ticker2 != ticker:\n",
    "            ticker2 = ticker\n",
    "            caso = 0\n",
    "        dfpl = df[(df.companyName==ticker)].loc[i-backeval:i+backeval]       \n",
    "\n",
    "        #print(\"rowMin:\", dfpl.index[0],\", rowMax:\", dfpl.index[-1])\n",
    "                    \n",
    "        h=1\n",
    "        l=1\n",
    "\n",
    "        cant = cant +1\n",
    "        cantHorasTrend=0\n",
    "        #print(\"opcionH:\",h,\"opcionL:\",l)\n",
    "        trendH, backevalTrend = backcandle(candle)\n",
    "        #print (\"-->trendH:\",trendH)\n",
    "        #print (\"-->backevalTrend:\",backevalTrend)    \n",
    "        \n",
    "        cantHorasTrend = (dfpl.loc[candle,\"datetime\"] - dfpl.loc[backevalTrend,\"datetime\"]).total_seconds() / 3600\n",
    "\n",
    "        if (cantHorasTrend>48): #Verificacion de caida por lo menos 2 dias\n",
    "            backevalTrend2 = candle - backevalTrend\n",
    "            #print (\"backevalTrend2\", backevalTrend2)\n",
    "                        \n",
    "            #revision de trend negativo indica que esta cayendo, solo me quedo con estos casos\n",
    "            sl_highs, interc_highs, r_sq_h = collect_channel(candle, backevalTrend2, trendH)\n",
    "                    \n",
    "    \n",
    "            #print(\"======:\", candle)\n",
    "            #print(\"===trendH===\")\n",
    "            #print(trendH)\n",
    "            #print(\"===trendL===\")\n",
    "            #print(trendL)\n",
    "            dfpl.loc[trendH, \"trendH\"] = 1\n",
    "        \n",
    "            \n",
    "            #print(\"sl_highs:\", sl_highs, \", sl_lows:\", sl_lows, \", r_sq_h:\", r_sq_h)\n",
    "            if (sl_highs<=0): #solo tendencias a la baja and ind_vela>0 sl_lows<0 and r_sq_h>=0.7  and sl_highs<=-0.1 and ind_vela>0\n",
    "                \n",
    "                #crear linea de tendencia high y low\n",
    "                dfpl['trendcurrhigh']  = trendChannel(dfpl,candle,backevalTrend2,window,sl_highs,interc_highs)\n",
    "                \n",
    "                ind_vela = revisionVelas(dfpl, backeval,window, candle)\n",
    "                promVol = dfpl.loc[i-backeval:i][\"Volume\"].mean()\n",
    "    \n",
    "                #print(\"ind_vela:\",ind_vela)\n",
    "                if (ind_vela>0):\n",
    "                    dfpl[\"bearishSlope\"] = np.nan #pendiente bajista en vacio\n",
    "                    dfpl.loc[i, \"bearishSlope\"] = 1 #pendiente bajista solo al punto evaluado            \n",
    "                    dfpl[\"ind_posicion\"] = 0\n",
    "                    dfpl.loc[(dfpl.index < i), 'ind_posicion'] = -1\n",
    "                    dfpl.loc[(dfpl.index > i), 'ind_posicion'] = 1\n",
    "                    dfpl[\"promVol\"] = promVol\n",
    "                    dfpl[\"sl_highs\"] = sl_highs\n",
    "                    dfpl[\"r_sq_h\"] = r_sq_h\n",
    "            \n",
    "                    start = dfpl.index[0]\n",
    "                    dfpl[\"isBreakOut\"] = [isBreakOut(candleEval, backevalTrend2, window, start, candle) for candleEval in dfpl.index]\n",
    "                    # Solo me quedo con el primer BREAK OUT\n",
    "                    cnt = dfpl.query(\"isBreakOut in (2,3) and Close>Open\").shape[0] \n",
    "                    id=0\n",
    "                    id2=0\n",
    "                    if cnt>0:\n",
    "                        id = dfpl.query(\"isBreakOut in (2,3) and Close>Open\").index[0]                        \n",
    "                        #dfpl['isBreakOutIni'] = np.where(id!=dfpl.index, np.nan, dfpl['isBreakOut'])                        \n",
    "                        dfpl.loc[id,'isBreakOutIni'] = 1\n",
    "                        dfpl['breakpointpos'] = dfpl.apply(lambda row: breakpointpos(row), axis=1)\n",
    "                        cnt2 = dfpl.query(\"index>@id and isPivot==1\").shape[0]\n",
    "                        \n",
    "                        if cnt2>0:\n",
    "                            id2 = dfpl.query(\"index>@id and isPivot==1\").index[0]\n",
    "                            dfpl.loc[id2,'isBreakOutFinal'] = 1\n",
    "                        else:\n",
    "                            dfpl['isBreakOutFinal'] = np.nan                      \n",
    "                        \n",
    "                    else:\n",
    "                        dfpl['isBreakOutIni'] = np.nan                        \n",
    "                        dfpl['breakpointpos'] = np.nan\n",
    "            \n",
    "                    if cnt>0:\n",
    "                        #INSERT CASO\n",
    "                        caso=caso+1                            \n",
    "                        dfpl[\"caso\"] = caso\n",
    "                        print(i, df['companyName'][i])\n",
    "                        if len(df_casos)<1:\n",
    "                            df_casos = dfpl\n",
    "                        else:\n",
    "                            df_casos = pd.concat([df_casos, dfpl],ignore_index=False)\n"
   ]
  },
  {
   "cell_type": "code",
   "execution_count": 16,
   "id": "e1480ae2-fe16-4eb0-81ab-ef4ce196e7a8",
   "metadata": {
    "execution": {
     "iopub.execute_input": "2025-06-11T15:15:50.825037Z",
     "iopub.status.busy": "2025-06-11T15:15:50.824393Z",
     "iopub.status.idle": "2025-06-11T15:15:52.281848Z",
     "shell.execute_reply": "2025-06-11T15:15:52.281202Z"
    },
    "papermill": {
     "duration": 1.472298,
     "end_time": "2025-06-11T15:15:52.283010",
     "exception": false,
     "start_time": "2025-06-11T15:15:50.810712",
     "status": "completed"
    },
    "tags": []
   },
   "outputs": [],
   "source": [
    "#descarga de informacion, estrategia: RUPTURA DEL CANAL BAJISTA\n",
    "path='data/pm40_h.txt'\n",
    "\n",
    "# check whether the file exists\n",
    "if os.path.exists(path):\n",
    "    # delete the file\n",
    "    os.remove(path)\n",
    "else:\n",
    "    # if the file does not exist.\n",
    "    print(\"File does not exists. File needs to be created.\")\n",
    "\n",
    "#export DataFrame to text file\n",
    "with open(path, 'a') as f:\n",
    "    #df_string = appl_hor3.to_string(header=True, index=False, sep ='\\t')\n",
    "    df_casos.to_csv(path, header=True, index=None, sep='\\t', mode='w')\n",
    "    #f.write(df_string)"
   ]
  },
  {
   "cell_type": "markdown",
   "id": "58155aa8-89e2-495b-9bb7-2fedc5593ba0",
   "metadata": {
    "papermill": {
     "duration": 0.013312,
     "end_time": "2025-06-11T15:15:52.310826",
     "exception": false,
     "start_time": "2025-06-11T15:15:52.297514",
     "status": "completed"
    },
    "tags": []
   },
   "source": [
    "##### BACKTESTING\n",
    "###### Usando paquete backtesting.py"
   ]
  },
  {
   "cell_type": "code",
   "execution_count": 17,
   "id": "81b56407-c411-4a45-9307-d2c4bc98f27c",
   "metadata": {
    "execution": {
     "iopub.execute_input": "2025-06-11T15:15:52.339214Z",
     "iopub.status.busy": "2025-06-11T15:15:52.338938Z",
     "iopub.status.idle": "2025-06-11T15:15:52.350644Z",
     "shell.execute_reply": "2025-06-11T15:15:52.350102Z"
    },
    "papermill": {
     "duration": 0.027481,
     "end_time": "2025-06-11T15:15:52.351690",
     "exception": false,
     "start_time": "2025-06-11T15:15:52.324209",
     "status": "completed"
    },
    "tags": []
   },
   "outputs": [],
   "source": [
    "df_casos2 = df_casos.query(\"isBreakOutIni==1 or isBreakOutFinal==1\").copy()"
   ]
  },
  {
   "cell_type": "code",
   "execution_count": 18,
   "id": "fa84fdfd-5009-4938-aae8-e0f3c24b9aef",
   "metadata": {
    "execution": {
     "iopub.execute_input": "2025-06-11T15:15:52.379320Z",
     "iopub.status.busy": "2025-06-11T15:15:52.379017Z",
     "iopub.status.idle": "2025-06-11T15:15:52.420387Z",
     "shell.execute_reply": "2025-06-11T15:15:52.419806Z"
    },
    "papermill": {
     "duration": 0.05656,
     "end_time": "2025-06-11T15:15:52.421589",
     "exception": false,
     "start_time": "2025-06-11T15:15:52.365029",
     "status": "completed"
    },
    "tags": []
   },
   "outputs": [],
   "source": [
    "# =============== BACKTESTING ================= #\n",
    "# obteniendo dataframe backtesting\n",
    "df_backTesting = pd.merge(df, df_casos2[['datetime','companyName', 'isBreakOutIni','isBreakOutFinal','caso']], on = ['companyName','datetime'], how='left')\n",
    "# datos de trade se asigna una vela anterior debido a que backtesting.py toma entra como la siguiente vela\n",
    "df_backTesting['isBreakOutIni'] = df_backTesting['isBreakOutIni'].shift(-1)\n",
    "df_backTesting['isBreakOutFinal'] = df_backTesting['isBreakOutFinal'].shift(-1)\n",
    "#modificamos indice con el compo datetime\n",
    "df_backTesting.set_index('datetime', inplace=True)"
   ]
  },
  {
   "cell_type": "code",
   "execution_count": 19,
   "id": "2eda5186-b89d-4f72-8ebe-aff0d72c8de2",
   "metadata": {
    "execution": {
     "iopub.execute_input": "2025-06-11T15:15:52.453680Z",
     "iopub.status.busy": "2025-06-11T15:15:52.453137Z",
     "iopub.status.idle": "2025-06-11T15:15:52.457449Z",
     "shell.execute_reply": "2025-06-11T15:15:52.456963Z"
    },
    "papermill": {
     "duration": 0.01882,
     "end_time": "2025-06-11T15:15:52.458281",
     "exception": false,
     "start_time": "2025-06-11T15:15:52.439461",
     "status": "completed"
    },
    "tags": []
   },
   "outputs": [],
   "source": [
    "#Strategia\n",
    "class strategyRupturaCanal(Strategy):    \n",
    "    def init(self):        \n",
    "        self.breakout_entry = self.I(lambda x: x, self.data.isBreakOutIni) #Indica la señal entrada al backtesting\n",
    "        self.breakout_exit = self.I(lambda x: x, self.data.isBreakOutFinal) #Indica la señal salida al backtesting\n",
    "\n",
    "    def next(self):       \n",
    "        #print(self.data)        \n",
    "        if self.breakout_entry[-1] == 1:\n",
    "            self.buy()  #COMPRA\n",
    "        elif self.breakout_exit[-1] == 1 and self.position:\n",
    "            self.position.close() #CIERRE"
   ]
  },
  {
   "cell_type": "code",
   "execution_count": 20,
   "id": "c9cf99c1-36d3-4cc2-b330-cc91e9b264c9",
   "metadata": {
    "execution": {
     "iopub.execute_input": "2025-06-11T15:15:52.485393Z",
     "iopub.status.busy": "2025-06-11T15:15:52.485134Z",
     "iopub.status.idle": "2025-06-11T15:15:54.475031Z",
     "shell.execute_reply": "2025-06-11T15:15:54.474420Z"
    },
    "papermill": {
     "duration": 2.004798,
     "end_time": "2025-06-11T15:15:54.476085",
     "exception": false,
     "start_time": "2025-06-11T15:15:52.471287",
     "status": "completed"
    },
    "tags": []
   },
   "outputs": [
    {
     "name": "stderr",
     "output_type": "stream",
     "text": [
      "\r",
      "Backtest.run:   0%|          | 0/3310 [00:00<?, ?bar/s]"
     ]
    },
    {
     "name": "stderr",
     "output_type": "stream",
     "text": [
      "\r",
      "                                                       "
     ]
    },
    {
     "name": "stderr",
     "output_type": "stream",
     "text": [
      "\r"
     ]
    },
    {
     "name": "stderr",
     "output_type": "stream",
     "text": [
      "\r",
      "Backtest.run:   0%|          | 0/3281 [00:00<?, ?bar/s]"
     ]
    },
    {
     "name": "stderr",
     "output_type": "stream",
     "text": [
      "\r",
      "                                                       "
     ]
    },
    {
     "name": "stderr",
     "output_type": "stream",
     "text": [
      "\r"
     ]
    },
    {
     "name": "stderr",
     "output_type": "stream",
     "text": [
      "\r",
      "Backtest.run:   0%|          | 0/2644 [00:00<?, ?bar/s]"
     ]
    },
    {
     "name": "stderr",
     "output_type": "stream",
     "text": [
      "/usr/share/miniconda/envs/test/lib/python3.10/site-packages/backtesting/backtesting.py:954: UserWarning: time=1698: Broker canceled the relative-sized order due to insufficient margin.\n",
      "  warnings.warn(\n",
      "\r",
      "                                                       "
     ]
    },
    {
     "name": "stderr",
     "output_type": "stream",
     "text": [
      "\r"
     ]
    },
    {
     "name": "stderr",
     "output_type": "stream",
     "text": [
      "\r",
      "Backtest.run:   0%|          | 0/2786 [00:00<?, ?bar/s]"
     ]
    },
    {
     "name": "stderr",
     "output_type": "stream",
     "text": [
      "\r",
      "                                                       "
     ]
    },
    {
     "name": "stderr",
     "output_type": "stream",
     "text": [
      "\r"
     ]
    },
    {
     "name": "stderr",
     "output_type": "stream",
     "text": [
      "\r",
      "Backtest.run:   0%|          | 0/2317 [00:00<?, ?bar/s]"
     ]
    },
    {
     "name": "stderr",
     "output_type": "stream",
     "text": [
      "/usr/share/miniconda/envs/test/lib/python3.10/site-packages/backtesting/backtesting.py:954: UserWarning: time=2612: Broker canceled the relative-sized order due to insufficient margin.\n",
      "  warnings.warn(\n",
      "\r",
      "                                                       "
     ]
    },
    {
     "name": "stderr",
     "output_type": "stream",
     "text": [
      "\r"
     ]
    },
    {
     "name": "stderr",
     "output_type": "stream",
     "text": [
      "\r",
      "Backtest.run:   0%|          | 0/2660 [00:00<?, ?bar/s]"
     ]
    },
    {
     "name": "stderr",
     "output_type": "stream",
     "text": [
      "\r",
      "                                                       "
     ]
    },
    {
     "name": "stderr",
     "output_type": "stream",
     "text": [
      "\r"
     ]
    },
    {
     "name": "stderr",
     "output_type": "stream",
     "text": [
      "\r",
      "Backtest.run:   0%|          | 0/2684 [00:00<?, ?bar/s]"
     ]
    },
    {
     "name": "stderr",
     "output_type": "stream",
     "text": [
      "/usr/share/miniconda/envs/test/lib/python3.10/site-packages/backtesting/backtesting.py:954: UserWarning: time=1886: Broker canceled the relative-sized order due to insufficient margin.\n",
      "  warnings.warn(\n",
      "\r",
      "                                                       "
     ]
    },
    {
     "name": "stderr",
     "output_type": "stream",
     "text": [
      "\r"
     ]
    },
    {
     "name": "stderr",
     "output_type": "stream",
     "text": [
      "\r",
      "Backtest.run:   0%|          | 0/3287 [00:00<?, ?bar/s]"
     ]
    },
    {
     "name": "stderr",
     "output_type": "stream",
     "text": [
      "/usr/share/miniconda/envs/test/lib/python3.10/site-packages/backtesting/backtesting.py:954: UserWarning: time=1248: Broker canceled the relative-sized order due to insufficient margin.\n",
      "  warnings.warn(\n",
      "\r",
      "                                                       "
     ]
    },
    {
     "name": "stderr",
     "output_type": "stream",
     "text": [
      "\r"
     ]
    },
    {
     "name": "stderr",
     "output_type": "stream",
     "text": [
      "\r",
      "Backtest.run:   0%|          | 0/2705 [00:00<?, ?bar/s]"
     ]
    },
    {
     "name": "stderr",
     "output_type": "stream",
     "text": [
      "\r",
      "                                                       "
     ]
    },
    {
     "name": "stderr",
     "output_type": "stream",
     "text": [
      "\r"
     ]
    },
    {
     "name": "stderr",
     "output_type": "stream",
     "text": [
      "\r",
      "Backtest.run:   0%|          | 0/2836 [00:00<?, ?bar/s]"
     ]
    },
    {
     "name": "stderr",
     "output_type": "stream",
     "text": [
      "/usr/share/miniconda/envs/test/lib/python3.10/site-packages/backtesting/backtesting.py:954: UserWarning: time=3451: Broker canceled the relative-sized order due to insufficient margin.\n",
      "  warnings.warn(\n",
      "\r",
      "                                                       "
     ]
    },
    {
     "name": "stderr",
     "output_type": "stream",
     "text": [
      "\r"
     ]
    },
    {
     "name": "stderr",
     "output_type": "stream",
     "text": [
      "\r",
      "Backtest.run:   0%|          | 0/3285 [00:00<?, ?bar/s]"
     ]
    },
    {
     "name": "stderr",
     "output_type": "stream",
     "text": [
      "\r",
      "                                                       "
     ]
    },
    {
     "name": "stderr",
     "output_type": "stream",
     "text": [
      "\r"
     ]
    },
    {
     "name": "stderr",
     "output_type": "stream",
     "text": [
      "\r",
      "Backtest.run:   0%|          | 0/2671 [00:00<?, ?bar/s]"
     ]
    },
    {
     "name": "stderr",
     "output_type": "stream",
     "text": [
      "\r",
      "                                                       "
     ]
    },
    {
     "name": "stderr",
     "output_type": "stream",
     "text": [
      "\r"
     ]
    },
    {
     "name": "stderr",
     "output_type": "stream",
     "text": [
      "\r",
      "Backtest.run:   0%|          | 0/3098 [00:00<?, ?bar/s]"
     ]
    },
    {
     "name": "stderr",
     "output_type": "stream",
     "text": [
      "\r",
      "                                                       "
     ]
    },
    {
     "name": "stderr",
     "output_type": "stream",
     "text": [
      "\r"
     ]
    },
    {
     "name": "stderr",
     "output_type": "stream",
     "text": [
      "\r",
      "Backtest.run:   0%|          | 0/3247 [00:00<?, ?bar/s]"
     ]
    },
    {
     "name": "stderr",
     "output_type": "stream",
     "text": [
      "/usr/share/miniconda/envs/test/lib/python3.10/site-packages/backtesting/backtesting.py:954: UserWarning: time=1965: Broker canceled the relative-sized order due to insufficient margin.\n",
      "  warnings.warn(\n",
      "\r",
      "                                                       "
     ]
    },
    {
     "name": "stderr",
     "output_type": "stream",
     "text": [
      "\r"
     ]
    },
    {
     "name": "stderr",
     "output_type": "stream",
     "text": [
      "\r",
      "Backtest.run:   0%|          | 0/2721 [00:00<?, ?bar/s]"
     ]
    },
    {
     "name": "stderr",
     "output_type": "stream",
     "text": [
      "/usr/share/miniconda/envs/test/lib/python3.10/site-packages/backtesting/backtesting.py:954: UserWarning: time=2892: Broker canceled the relative-sized order due to insufficient margin.\n",
      "  warnings.warn(\n",
      "\r",
      "                                                       "
     ]
    },
    {
     "name": "stderr",
     "output_type": "stream",
     "text": [
      "\r"
     ]
    },
    {
     "name": "stderr",
     "output_type": "stream",
     "text": [
      "\r",
      "Backtest.run:   0%|          | 0/3085 [00:00<?, ?bar/s]"
     ]
    },
    {
     "name": "stderr",
     "output_type": "stream",
     "text": [
      "/usr/share/miniconda/envs/test/lib/python3.10/site-packages/backtesting/backtesting.py:954: UserWarning: time=1806: Broker canceled the relative-sized order due to insufficient margin.\n",
      "  warnings.warn(\n"
     ]
    },
    {
     "name": "stderr",
     "output_type": "stream",
     "text": [
      "\r",
      "                                                       "
     ]
    },
    {
     "name": "stderr",
     "output_type": "stream",
     "text": [
      "\r"
     ]
    },
    {
     "name": "stderr",
     "output_type": "stream",
     "text": [
      "\r",
      "Backtest.run:   0%|          | 0/2434 [00:00<?, ?bar/s]"
     ]
    },
    {
     "name": "stderr",
     "output_type": "stream",
     "text": [
      "/usr/share/miniconda/envs/test/lib/python3.10/site-packages/backtesting/backtesting.py:954: UserWarning: time=1658: Broker canceled the relative-sized order due to insufficient margin.\n",
      "  warnings.warn(\n"
     ]
    },
    {
     "name": "stderr",
     "output_type": "stream",
     "text": [
      "\r",
      "                                                       "
     ]
    },
    {
     "name": "stderr",
     "output_type": "stream",
     "text": [
      "\r"
     ]
    },
    {
     "name": "stderr",
     "output_type": "stream",
     "text": [
      "\r",
      "Backtest.run:   0%|          | 0/3246 [00:00<?, ?bar/s]"
     ]
    },
    {
     "name": "stderr",
     "output_type": "stream",
     "text": [
      "/usr/share/miniconda/envs/test/lib/python3.10/site-packages/backtesting/backtesting.py:954: UserWarning: time=1369: Broker canceled the relative-sized order due to insufficient margin.\n",
      "  warnings.warn(\n",
      "\r",
      "                                                       "
     ]
    },
    {
     "name": "stderr",
     "output_type": "stream",
     "text": [
      "\r"
     ]
    },
    {
     "name": "stderr",
     "output_type": "stream",
     "text": [
      "\r",
      "Backtest.run:   0%|          | 0/1874 [00:00<?, ?bar/s]"
     ]
    },
    {
     "name": "stderr",
     "output_type": "stream",
     "text": [
      "\r",
      "                                                       "
     ]
    },
    {
     "name": "stderr",
     "output_type": "stream",
     "text": [
      "\r"
     ]
    },
    {
     "name": "stderr",
     "output_type": "stream",
     "text": [
      "\r",
      "Backtest.run:   0%|          | 0/2616 [00:00<?, ?bar/s]"
     ]
    },
    {
     "name": "stderr",
     "output_type": "stream",
     "text": [
      "/usr/share/miniconda/envs/test/lib/python3.10/site-packages/backtesting/backtesting.py:954: UserWarning: time=1364: Broker canceled the relative-sized order due to insufficient margin.\n",
      "  warnings.warn(\n",
      "\r",
      "                                                       "
     ]
    },
    {
     "name": "stderr",
     "output_type": "stream",
     "text": [
      "\r"
     ]
    },
    {
     "name": "stderr",
     "output_type": "stream",
     "text": [
      "\r",
      "Backtest.run:   0%|          | 0/3256 [00:00<?, ?bar/s]"
     ]
    },
    {
     "name": "stderr",
     "output_type": "stream",
     "text": [
      "\r",
      "                                                       "
     ]
    },
    {
     "name": "stderr",
     "output_type": "stream",
     "text": [
      "\r"
     ]
    },
    {
     "name": "stderr",
     "output_type": "stream",
     "text": [
      "\r",
      "Backtest.run:   0%|          | 0/3273 [00:00<?, ?bar/s]"
     ]
    },
    {
     "name": "stderr",
     "output_type": "stream",
     "text": [
      "/usr/share/miniconda/envs/test/lib/python3.10/site-packages/backtesting/backtesting.py:954: UserWarning: time=852: Broker canceled the relative-sized order due to insufficient margin.\n",
      "  warnings.warn(\n",
      "\r",
      "                                                       "
     ]
    },
    {
     "name": "stderr",
     "output_type": "stream",
     "text": [
      "\r"
     ]
    },
    {
     "name": "stderr",
     "output_type": "stream",
     "text": [
      "\r",
      "Backtest.run:   0%|          | 0/2757 [00:00<?, ?bar/s]"
     ]
    },
    {
     "name": "stderr",
     "output_type": "stream",
     "text": [
      "\r",
      "                                                       "
     ]
    },
    {
     "name": "stderr",
     "output_type": "stream",
     "text": [
      "\r"
     ]
    },
    {
     "name": "stderr",
     "output_type": "stream",
     "text": [
      "\r",
      "Backtest.run:   0%|          | 0/3235 [00:00<?, ?bar/s]"
     ]
    },
    {
     "name": "stderr",
     "output_type": "stream",
     "text": [
      "\r",
      "                                                       "
     ]
    },
    {
     "name": "stderr",
     "output_type": "stream",
     "text": [
      "\r"
     ]
    },
    {
     "name": "stderr",
     "output_type": "stream",
     "text": [
      "\r",
      "Backtest.run:   0%|          | 0/2742 [00:00<?, ?bar/s]"
     ]
    },
    {
     "name": "stderr",
     "output_type": "stream",
     "text": [
      "\r",
      "                                                       "
     ]
    },
    {
     "name": "stderr",
     "output_type": "stream",
     "text": [
      "\r"
     ]
    },
    {
     "name": "stderr",
     "output_type": "stream",
     "text": [
      "\r",
      "Backtest.run:   0%|          | 0/3299 [00:00<?, ?bar/s]"
     ]
    },
    {
     "name": "stderr",
     "output_type": "stream",
     "text": [
      "/usr/share/miniconda/envs/test/lib/python3.10/site-packages/backtesting/backtesting.py:954: UserWarning: time=2350: Broker canceled the relative-sized order due to insufficient margin.\n",
      "  warnings.warn(\n",
      "\r",
      "                                                       "
     ]
    },
    {
     "name": "stderr",
     "output_type": "stream",
     "text": [
      "\r"
     ]
    },
    {
     "name": "stderr",
     "output_type": "stream",
     "text": [
      "\r",
      "Backtest.run:   0%|          | 0/2643 [00:00<?, ?bar/s]"
     ]
    },
    {
     "name": "stderr",
     "output_type": "stream",
     "text": [
      "/usr/share/miniconda/envs/test/lib/python3.10/site-packages/backtesting/backtesting.py:954: UserWarning: time=1737: Broker canceled the relative-sized order due to insufficient margin.\n",
      "  warnings.warn(\n",
      "/usr/share/miniconda/envs/test/lib/python3.10/site-packages/backtesting/backtesting.py:954: UserWarning: time=3430: Broker canceled the relative-sized order due to insufficient margin.\n",
      "  warnings.warn(\n",
      "\r",
      "                                                       "
     ]
    },
    {
     "name": "stderr",
     "output_type": "stream",
     "text": [
      "\r"
     ]
    },
    {
     "name": "stderr",
     "output_type": "stream",
     "text": [
      "\r",
      "Backtest.run:   0%|          | 0/49 [00:00<?, ?bar/s]"
     ]
    },
    {
     "name": "stderr",
     "output_type": "stream",
     "text": [
      "\r",
      "                                                     "
     ]
    },
    {
     "name": "stderr",
     "output_type": "stream",
     "text": [
      "\r"
     ]
    },
    {
     "name": "stderr",
     "output_type": "stream",
     "text": [
      "/tmp/ipykernel_2183/2801041912.py:34: FutureWarning: The behavior of DataFrame concatenation with empty or all-NA entries is deprecated. In a future version, this will no longer exclude empty or all-NA columns when determining the result dtypes. To retain the old behavior, exclude the relevant entries before the concat operation.\n",
      "  tradesprev = pd.concat([tradesprev, tradesdf],ignore_index=True)\n",
      "/tmp/ipykernel_2183/2801041912.py:35: FutureWarning: The behavior of DataFrame concatenation with empty or all-NA entries is deprecated. In a future version, this will no longer exclude empty or all-NA columns when determining the result dtypes. To retain the old behavior, exclude the relevant entries before the concat operation.\n",
      "  estadisticas=pd.concat([estadisticas, stat],ignore_index=True)\n"
     ]
    },
    {
     "name": "stderr",
     "output_type": "stream",
     "text": [
      "\r",
      "Backtest.run:   0%|          | 0/2829 [00:00<?, ?bar/s]"
     ]
    },
    {
     "name": "stderr",
     "output_type": "stream",
     "text": [
      "/usr/share/miniconda/envs/test/lib/python3.10/site-packages/backtesting/backtesting.py:954: UserWarning: time=2396: Broker canceled the relative-sized order due to insufficient margin.\n",
      "  warnings.warn(\n",
      "\r",
      "                                                       "
     ]
    },
    {
     "name": "stderr",
     "output_type": "stream",
     "text": [
      "\r"
     ]
    },
    {
     "name": "stderr",
     "output_type": "stream",
     "text": [
      "\r",
      "Backtest.run:   0%|          | 0/2963 [00:00<?, ?bar/s]"
     ]
    },
    {
     "name": "stderr",
     "output_type": "stream",
     "text": [
      "/usr/share/miniconda/envs/test/lib/python3.10/site-packages/backtesting/backtesting.py:954: UserWarning: time=2122: Broker canceled the relative-sized order due to insufficient margin.\n",
      "  warnings.warn(\n",
      "/usr/share/miniconda/envs/test/lib/python3.10/site-packages/backtesting/backtesting.py:954: UserWarning: time=2859: Broker canceled the relative-sized order due to insufficient margin.\n",
      "  warnings.warn(\n",
      "\r",
      "                                                       "
     ]
    },
    {
     "name": "stderr",
     "output_type": "stream",
     "text": [
      "\r"
     ]
    },
    {
     "name": "stderr",
     "output_type": "stream",
     "text": [
      "\r",
      "Backtest.run:   0%|          | 0/3084 [00:00<?, ?bar/s]"
     ]
    },
    {
     "name": "stderr",
     "output_type": "stream",
     "text": [
      "\r",
      "                                                       "
     ]
    },
    {
     "name": "stderr",
     "output_type": "stream",
     "text": [
      "\r"
     ]
    },
    {
     "name": "stderr",
     "output_type": "stream",
     "text": [
      "\r",
      "Backtest.run:   0%|          | 0/3283 [00:00<?, ?bar/s]"
     ]
    },
    {
     "name": "stderr",
     "output_type": "stream",
     "text": [
      "/usr/share/miniconda/envs/test/lib/python3.10/site-packages/backtesting/backtesting.py:954: UserWarning: time=1057: Broker canceled the relative-sized order due to insufficient margin.\n",
      "  warnings.warn(\n"
     ]
    },
    {
     "name": "stderr",
     "output_type": "stream",
     "text": [
      "/usr/share/miniconda/envs/test/lib/python3.10/site-packages/backtesting/backtesting.py:954: UserWarning: time=2545: Broker canceled the relative-sized order due to insufficient margin.\n",
      "  warnings.warn(\n"
     ]
    },
    {
     "name": "stderr",
     "output_type": "stream",
     "text": [
      "\r",
      "                                                       "
     ]
    },
    {
     "name": "stderr",
     "output_type": "stream",
     "text": [
      "\r"
     ]
    },
    {
     "name": "stderr",
     "output_type": "stream",
     "text": [
      "\r",
      "Backtest.run:   0%|          | 0/3305 [00:00<?, ?bar/s]"
     ]
    },
    {
     "name": "stderr",
     "output_type": "stream",
     "text": [
      "\r",
      "                                                       "
     ]
    },
    {
     "name": "stderr",
     "output_type": "stream",
     "text": [
      "\r"
     ]
    }
   ],
   "source": [
    "# Por cada TIcket\n",
    "my_stats = {}\n",
    "estadisticas = pd.DataFrame()          # lista para ticker\n",
    "tradesprev = pd.DataFrame()     # lista para cada caso por ticker\n",
    "for ticker in df_backTesting['companyName'].unique():\n",
    "    ticker_data = df_backTesting[df_backTesting['companyName'] == ticker].copy() #Filtro por cada ticker\n",
    "    bt = Backtest(ticker_data, strategyRupturaCanal, cash=10_000)\n",
    "    my_stats = bt.run()\n",
    "    listTrades = my_stats['_trades']\n",
    "    tradesdf = pd.DataFrame(listTrades) #trades\n",
    "    tradesdf['Ticker'] = ticker\n",
    "    stats_filter={\n",
    "        'Ticker':ticker,\n",
    "        'EntryTime':my_stats['Start'],\n",
    "        'ExitTime':my_stats['End'],\n",
    "        'Return [%]': my_stats['Return [%]'],\n",
    "        'CAGR [%]': my_stats['Return (Ann.) [%]'],\n",
    "        'Sharpe Ratio': my_stats['Sharpe Ratio'],\n",
    "        'Max. Drawdown [%]': my_stats['Max. Drawdown [%]'],\n",
    "        'Win Rate [%]': my_stats['Win Rate [%]'],\n",
    "        '# Trades': my_stats['# Trades'],\n",
    "        'Expectancy [%]': my_stats['Expectancy [%]'],\n",
    "        'Profit Factor': my_stats['Profit Factor'],\n",
    "        'Duration': my_stats['Duration'],\n",
    "        'Avg. Trade [%]':my_stats['Avg. Trade [%]'],\n",
    "        'Max. Trade Duration':my_stats['Max. Trade Duration'],\n",
    "        'Avg. Trade Duration':my_stats['Avg. Trade Duration']\n",
    "    }\n",
    "    stat=pd.DataFrame([stats_filter])\n",
    "    if tradesprev.shape[0]==0:\n",
    "        tradesprev = tradesdf.copy()\n",
    "        estadisticas=stat.copy()\n",
    "    else:\n",
    "        tradesprev = pd.concat([tradesprev, tradesdf],ignore_index=True)\n",
    "        estadisticas=pd.concat([estadisticas, stat],ignore_index=True)\n",
    "    # Mostramos\n",
    "    #bt.plot(resample=False, filename=f\"plot_BreakOUT_{ticker}\")"
   ]
  },
  {
   "cell_type": "code",
   "execution_count": 21,
   "id": "290fee23-3c70-41ab-ad27-082629e59911",
   "metadata": {
    "execution": {
     "iopub.execute_input": "2025-06-11T15:15:54.513587Z",
     "iopub.status.busy": "2025-06-11T15:15:54.513128Z",
     "iopub.status.idle": "2025-06-11T15:15:54.520265Z",
     "shell.execute_reply": "2025-06-11T15:15:54.519644Z"
    },
    "papermill": {
     "duration": 0.028071,
     "end_time": "2025-06-11T15:15:54.521315",
     "exception": false,
     "start_time": "2025-06-11T15:15:54.493244",
     "status": "completed"
    },
    "tags": []
   },
   "outputs": [],
   "source": [
    "ini = df_casos2[(df_casos2['isBreakOutIni']==1)].copy()\n",
    "df_casos3_ini=ini.rename(columns={'Open': 'EntryPrice', 'datetime': 'EntryTime', 'companyName': 'Ticker'})[['EntryPrice','Ticker','caso','EntryTime']]\n",
    "final = df_casos2[(df_casos2['isBreakOutFinal']==1)].copy()\n",
    "df_casos3_final=final.rename(columns={'Open': 'ExitPrice', 'datetime': 'ExitTime', 'companyName': 'Ticker'})[['ExitPrice','Ticker','caso','ExitTime']]"
   ]
  },
  {
   "cell_type": "code",
   "execution_count": 22,
   "id": "a176db0e-ecd5-468a-b7a1-d35b36c0deed",
   "metadata": {
    "execution": {
     "iopub.execute_input": "2025-06-11T15:15:54.556083Z",
     "iopub.status.busy": "2025-06-11T15:15:54.555711Z",
     "iopub.status.idle": "2025-06-11T15:15:54.561734Z",
     "shell.execute_reply": "2025-06-11T15:15:54.561118Z"
    },
    "papermill": {
     "duration": 0.024514,
     "end_time": "2025-06-11T15:15:54.562705",
     "exception": false,
     "start_time": "2025-06-11T15:15:54.538191",
     "status": "completed"
    },
    "tags": []
   },
   "outputs": [],
   "source": [
    "df_casos3=df_casos3_ini.merge(df_casos3_final,on=['Ticker','caso'],how='outer')"
   ]
  },
  {
   "cell_type": "code",
   "execution_count": 23,
   "id": "2909fd9c-cd77-43e5-b70e-72b8bab78f6f",
   "metadata": {
    "execution": {
     "iopub.execute_input": "2025-06-11T15:15:54.598055Z",
     "iopub.status.busy": "2025-06-11T15:15:54.597573Z",
     "iopub.status.idle": "2025-06-11T15:15:54.604273Z",
     "shell.execute_reply": "2025-06-11T15:15:54.603634Z"
    },
    "papermill": {
     "duration": 0.025414,
     "end_time": "2025-06-11T15:15:54.605295",
     "exception": false,
     "start_time": "2025-06-11T15:15:54.579881",
     "status": "completed"
    },
    "tags": []
   },
   "outputs": [],
   "source": [
    "trades = pd.merge(df_casos3, tradesprev, on = ['EntryTime','Ticker'], how='left')"
   ]
  },
  {
   "cell_type": "code",
   "execution_count": 24,
   "id": "587b12b4-260f-475f-8e14-e68966b00d54",
   "metadata": {
    "execution": {
     "iopub.execute_input": "2025-06-11T15:15:54.661698Z",
     "iopub.status.busy": "2025-06-11T15:15:54.661191Z",
     "iopub.status.idle": "2025-06-11T15:15:54.669600Z",
     "shell.execute_reply": "2025-06-11T15:15:54.668973Z"
    },
    "papermill": {
     "duration": 0.027128,
     "end_time": "2025-06-11T15:15:54.670505",
     "exception": false,
     "start_time": "2025-06-11T15:15:54.643377",
     "status": "completed"
    },
    "tags": []
   },
   "outputs": [],
   "source": [
    "def exitPrice(x):\n",
    "    if pd.isna(x['ExitPrice_x']):\n",
    "        return x['ExitPrice_y']\n",
    "    else:\n",
    "        return x['ExitPrice_x']\n",
    "trades['ExitPrice'] = trades.apply(lambda row: exitPrice(row), axis=1)"
   ]
  },
  {
   "cell_type": "code",
   "execution_count": 25,
   "id": "708c3cf0-ae04-427d-8d3f-2b58ce9b9408",
   "metadata": {
    "execution": {
     "iopub.execute_input": "2025-06-11T15:15:54.705969Z",
     "iopub.status.busy": "2025-06-11T15:15:54.705465Z",
     "iopub.status.idle": "2025-06-11T15:15:54.710081Z",
     "shell.execute_reply": "2025-06-11T15:15:54.709551Z"
    },
    "papermill": {
     "duration": 0.023233,
     "end_time": "2025-06-11T15:15:54.710911",
     "exception": false,
     "start_time": "2025-06-11T15:15:54.687678",
     "status": "completed"
    },
    "tags": []
   },
   "outputs": [],
   "source": [
    "trades = trades.rename(columns={'EntryPrice_x': 'EntryPrice'})\n",
    "trades = trades.drop(['EntryPrice_y','ExitPrice_x', 'ExitPrice_y'], axis=1)"
   ]
  },
  {
   "cell_type": "code",
   "execution_count": 26,
   "id": "d9d4432e-f546-45ce-9b6d-ffbff432b376",
   "metadata": {
    "execution": {
     "iopub.execute_input": "2025-06-11T15:15:54.746358Z",
     "iopub.status.busy": "2025-06-11T15:15:54.745949Z",
     "iopub.status.idle": "2025-06-11T15:15:54.754508Z",
     "shell.execute_reply": "2025-06-11T15:15:54.753864Z"
    },
    "papermill": {
     "duration": 0.027387,
     "end_time": "2025-06-11T15:15:54.755421",
     "exception": false,
     "start_time": "2025-06-11T15:15:54.728034",
     "status": "completed"
    },
    "tags": []
   },
   "outputs": [],
   "source": [
    "def exitTime(x):\n",
    "    if pd.isna(x['ExitTime_x']):\n",
    "        return x['ExitTime_y']\n",
    "    else:\n",
    "        return x['ExitTime_x']\n",
    "trades['ExitTime'] = trades.apply(lambda row: exitTime(row), axis=1)"
   ]
  },
  {
   "cell_type": "code",
   "execution_count": 27,
   "id": "7bf05b22-2894-43da-ad56-7238bf881028",
   "metadata": {
    "execution": {
     "iopub.execute_input": "2025-06-11T15:15:54.791092Z",
     "iopub.status.busy": "2025-06-11T15:15:54.790587Z",
     "iopub.status.idle": "2025-06-11T15:15:54.800531Z",
     "shell.execute_reply": "2025-06-11T15:15:54.800002Z"
    },
    "papermill": {
     "duration": 0.028666,
     "end_time": "2025-06-11T15:15:54.801386",
     "exception": false,
     "start_time": "2025-06-11T15:15:54.772720",
     "status": "completed"
    },
    "tags": []
   },
   "outputs": [],
   "source": [
    "def duration(x):\n",
    "    if pd.isna(x['Duration']):\n",
    "        if pd.isna(x['ExitTime']):\n",
    "            return pd.NaT\n",
    "        else:\n",
    "            return x['ExitTime']-x['EntryTime']\n",
    "    else:\n",
    "        return x['Duration']\n",
    "trades['Duration'] = trades.apply(lambda row: duration(row), axis=1)"
   ]
  },
  {
   "cell_type": "code",
   "execution_count": 28,
   "id": "da7d1e97-a697-4049-af25-fb322feeec58",
   "metadata": {
    "execution": {
     "iopub.execute_input": "2025-06-11T15:15:54.836595Z",
     "iopub.status.busy": "2025-06-11T15:15:54.836184Z",
     "iopub.status.idle": "2025-06-11T15:15:54.840192Z",
     "shell.execute_reply": "2025-06-11T15:15:54.839625Z"
    },
    "papermill": {
     "duration": 0.022648,
     "end_time": "2025-06-11T15:15:54.841138",
     "exception": false,
     "start_time": "2025-06-11T15:15:54.818490",
     "status": "completed"
    },
    "tags": []
   },
   "outputs": [],
   "source": [
    "trades = trades.drop(['ExitTime_x', 'ExitTime_y'], axis=1)"
   ]
  },
  {
   "cell_type": "code",
   "execution_count": 29,
   "id": "a2c889c1-350b-4af1-954c-eaf4d0461630",
   "metadata": {
    "execution": {
     "iopub.execute_input": "2025-06-11T15:15:54.876267Z",
     "iopub.status.busy": "2025-06-11T15:15:54.875844Z",
     "iopub.status.idle": "2025-06-11T15:15:54.880002Z",
     "shell.execute_reply": "2025-06-11T15:15:54.879404Z"
    },
    "papermill": {
     "duration": 0.022561,
     "end_time": "2025-06-11T15:15:54.880839",
     "exception": false,
     "start_time": "2025-06-11T15:15:54.858278",
     "status": "completed"
    },
    "tags": []
   },
   "outputs": [],
   "source": [
    "trades=trades[['Ticker','EntryTime','ExitTime','EntryPrice','ExitPrice','Duration','Size','EntryBar','ExitBar','ReturnPct','caso']]"
   ]
  },
  {
   "cell_type": "code",
   "execution_count": 30,
   "id": "65c25b96",
   "metadata": {
    "execution": {
     "iopub.execute_input": "2025-06-11T15:15:54.916205Z",
     "iopub.status.busy": "2025-06-11T15:15:54.915706Z",
     "iopub.status.idle": "2025-06-11T15:15:54.943101Z",
     "shell.execute_reply": "2025-06-11T15:15:54.942558Z"
    },
    "papermill": {
     "duration": 0.046033,
     "end_time": "2025-06-11T15:15:54.944061",
     "exception": false,
     "start_time": "2025-06-11T15:15:54.898028",
     "status": "completed"
    },
    "tags": []
   },
   "outputs": [],
   "source": [
    "for item in estadisticas['Ticker'].unique():\n",
    "    count = trades[trades[\"Ticker\"] == item].shape[0]\n",
    "    estadisticas.loc[estadisticas['Ticker'] == item, '# Trades'] = count"
   ]
  },
  {
   "cell_type": "code",
   "execution_count": 31,
   "id": "7e849e85-fc02-48fe-b87c-13930032930b",
   "metadata": {
    "execution": {
     "iopub.execute_input": "2025-06-11T15:15:54.979465Z",
     "iopub.status.busy": "2025-06-11T15:15:54.979001Z",
     "iopub.status.idle": "2025-06-11T15:15:54.994510Z",
     "shell.execute_reply": "2025-06-11T15:15:54.994003Z"
    },
    "papermill": {
     "duration": 0.034238,
     "end_time": "2025-06-11T15:15:54.995533",
     "exception": false,
     "start_time": "2025-06-11T15:15:54.961295",
     "status": "completed"
    },
    "tags": []
   },
   "outputs": [],
   "source": [
    "path = 'data/backtesting'\n",
    "\n",
    "os.makedirs(path,exist_ok=True)\n",
    "\n",
    "path_trades = os.path.join(path, 'trades_pm40.txt')\n",
    "path_estadisticas = os.path.join(path, 'estadisticas_pm40.txt')\n",
    "\n",
    "for file_path in [path_trades, path_estadisticas]:\n",
    "    if os.path.exists(file_path):\n",
    "        os.remove(file_path)\n",
    "    else:\n",
    "        print(f\"File does not exist: {file_path}. It will be created.\")\n",
    "\n",
    "trades.to_csv(path_trades, header=True, index=False, sep='\\t', mode='w')\n",
    "estadisticas.to_csv(path_estadisticas, header=True, index=False, sep='\\t', mode='w')"
   ]
  },
  {
   "cell_type": "code",
   "execution_count": null,
   "id": "9224c94a-a32c-4378-a570-c4e5d1e8e05a",
   "metadata": {
    "papermill": {
     "duration": 0.017018,
     "end_time": "2025-06-11T15:15:55.029922",
     "exception": false,
     "start_time": "2025-06-11T15:15:55.012904",
     "status": "completed"
    },
    "tags": []
   },
   "outputs": [],
   "source": []
  }
 ],
 "metadata": {
  "kernelspec": {
   "display_name": "Python [conda env:base] *",
   "language": "python",
   "name": "conda-base-py"
  },
  "language_info": {
   "codemirror_mode": {
    "name": "ipython",
    "version": 3
   },
   "file_extension": ".py",
   "mimetype": "text/x-python",
   "name": "python",
   "nbconvert_exporter": "python",
   "pygments_lexer": "ipython3",
   "version": "3.10.18"
  },
  "papermill": {
   "default_parameters": {},
   "duration": 95.268126,
   "end_time": "2025-06-11T15:15:55.664005",
   "environment_variables": {},
   "exception": null,
   "input_path": "PM40_PromedioMovil40.ipynb",
   "output_path": "output/PM40_PromedioMovil40.ipynb",
   "parameters": {},
   "start_time": "2025-06-11T15:14:20.395879",
   "version": "2.6.0"
  }
 },
 "nbformat": 4,
 "nbformat_minor": 5
}