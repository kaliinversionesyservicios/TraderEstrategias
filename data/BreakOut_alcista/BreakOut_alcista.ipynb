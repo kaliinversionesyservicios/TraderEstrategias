{
 "cells": [
  {
   "cell_type": "markdown",
   "id": "add7e209-9b3e-4a88-9f6c-e4036fd41ac1",
   "metadata": {
    "papermill": {
     "duration": 0.004206,
     "end_time": "2025-06-11T18:51:01.041080",
     "exception": false,
     "start_time": "2025-06-11T18:51:01.036874",
     "status": "completed"
    },
    "tags": []
   },
   "source": [
    "# Channel Break Out Detection Alcista"
   ]
  },
  {
   "cell_type": "code",
   "execution_count": 1,
   "id": "d9112859-5bd6-42a9-bde4-b8ff8d2aa4b3",
   "metadata": {
    "execution": {
     "iopub.execute_input": "2025-06-11T18:51:01.048986Z",
     "iopub.status.busy": "2025-06-11T18:51:01.048797Z",
     "iopub.status.idle": "2025-06-11T18:51:02.239713Z",
     "shell.execute_reply": "2025-06-11T18:51:02.239207Z"
    },
    "papermill": {
     "duration": 1.196017,
     "end_time": "2025-06-11T18:51:02.240725",
     "exception": false,
     "start_time": "2025-06-11T18:51:01.044708",
     "status": "completed"
    },
    "tags": []
   },
   "outputs": [
    {
     "name": "stderr",
     "output_type": "stream",
     "text": [
      "/usr/share/miniconda/envs/test/lib/python3.10/site-packages/tqdm/auto.py:21: TqdmWarning: IProgress not found. Please update jupyter and ipywidgets. See https://ipywidgets.readthedocs.io/en/stable/user_install.html\n",
      "  from .autonotebook import tqdm as notebook_tqdm\n",
      "/usr/share/miniconda/envs/test/lib/python3.10/site-packages/backtesting/_plotting.py:55: UserWarning: Jupyter Notebook detected. Setting Bokeh output to notebook. This may not work in Jupyter clients without JavaScript support, such as old IDEs. Reset with `backtesting.set_bokeh_output(notebook=False)`.\n",
      "  warnings.warn('Jupyter Notebook detected. '\n"
     ]
    },
    {
     "data": {
      "text/html": [
       "    <style>\n",
       "        .bk-notebook-logo {\n",
       "            display: block;\n",
       "            width: 20px;\n",
       "            height: 20px;\n",
       "            background-image: url(data:image/png;base64,iVBORw0KGgoAAAANSUhEUgAAABQAAAAUCAYAAACNiR0NAAAABHNCSVQICAgIfAhkiAAAAAlwSFlzAAALEgAACxIB0t1+/AAAABx0RVh0U29mdHdhcmUAQWRvYmUgRmlyZXdvcmtzIENTNui8sowAAAOkSURBVDiNjZRtaJVlGMd/1/08zzln5zjP1LWcU9N0NkN8m2CYjpgQYQXqSs0I84OLIC0hkEKoPtiH3gmKoiJDU7QpLgoLjLIQCpEsNJ1vqUOdO7ppbuec5+V+rj4ctwzd8IIbbi6u+8f1539dt3A78eXC7QizUF7gyV1fD1Yqg4JWz84yffhm0qkFqBogB9rM8tZdtwVsPUhWhGcFJngGeWrPzHm5oaMmkfEg1usvLFyc8jLRqDOMru7AyC8saQr7GG7f5fvDeH7Ej8CM66nIF+8yngt6HWaKh7k49Soy9nXurCi1o3qUbS3zWfrYeQDTB/Qj6kX6Ybhw4B+bOYoLKCC9H3Nu/leUTZ1JdRWkkn2ldcCamzrcf47KKXdAJllSlxAOkRgyHsGC/zRday5Qld9DyoM4/q/rUoy/CXh3jzOu3bHUVZeU+DEn8FInkPBFlu3+nW3Nw0mk6vCDiWg8CeJaxEwuHS3+z5RgY+YBR6V1Z1nxSOfoaPa4LASWxxdNp+VWTk7+4vzaou8v8PN+xo+KY2xsw6une2frhw05CTYOmQvsEhjhWjn0bmXPjpE1+kplmmkP3suftwTubK9Vq22qKmrBhpY4jvd5afdRA3wGjFAgcnTK2s4hY0/GPNIb0nErGMCRxWOOX64Z8RAC4oCXdklmEvcL8o0BfkNK4lUg9HTl+oPlQxdNo3Mg4Nv175e/1LDGzZen30MEjRUtmXSfiTVu1kK8W4txyV6BMKlbgk3lMwYCiusNy9fVfvvwMxv8Ynl6vxoByANLTWplvuj/nF9m2+PDtt1eiHPBr1oIfhCChQMBw6Aw0UulqTKZdfVvfG7VcfIqLG9bcldL/+pdWTLxLUy8Qq38heUIjh4XlzZxzQm19lLFlr8vdQ97rjZVOLf8nclzckbcD4wxXMidpX30sFd37Fv/GtwwhzhxGVAprjbg0gCAEeIgwCZyTV2Z1REEW8O4py0wsjeloKoMr6iCY6dP92H6Vw/oTyICIthibxjm/DfN9lVz8IqtqKYLUXfoKVMVQVVJOElGjrnnUt9T9wbgp8AyYKaGlqingHZU/uG2NTZSVqwHQTWkx9hxjkpWDaCg6Ckj5qebgBVbT3V3NNXMSiWSDdGV3hrtzla7J+duwPOToIg42ChPQOQjspnSlp1V+Gjdged7+8UN5CRAV7a5EdFNwCjEaBR27b3W890TE7g24NAP/mMDXRWrGoFPQI9ls/MWO2dWFAar/xcOIImbbpA3zgAAAABJRU5ErkJggg==);\n",
       "        }\n",
       "    </style>\n",
       "    <div>\n",
       "        <a href=\"https://bokeh.org\" target=\"_blank\" class=\"bk-notebook-logo\"></a>\n",
       "        <span id=\"b67782b9-4df9-4443-b2f8-4d5664a00410\">Loading BokehJS ...</span>\n",
       "    </div>\n"
      ]
     },
     "metadata": {},
     "output_type": "display_data"
    },
    {
     "data": {
      "application/javascript": [
       "'use strict';\n",
       "(function(root) {\n",
       "  function now() {\n",
       "    return new Date();\n",
       "  }\n",
       "\n",
       "  const force = true;\n",
       "\n",
       "  if (typeof root._bokeh_onload_callbacks === \"undefined\" || force === true) {\n",
       "    root._bokeh_onload_callbacks = [];\n",
       "    root._bokeh_is_loading = undefined;\n",
       "  }\n",
       "\n",
       "const JS_MIME_TYPE = 'application/javascript';\n",
       "  const HTML_MIME_TYPE = 'text/html';\n",
       "  const EXEC_MIME_TYPE = 'application/vnd.bokehjs_exec.v0+json';\n",
       "  const CLASS_NAME = 'output_bokeh rendered_html';\n",
       "\n",
       "  /**\n",
       "   * Render data to the DOM node\n",
       "   */\n",
       "  function render(props, node) {\n",
       "    const script = document.createElement(\"script\");\n",
       "    node.appendChild(script);\n",
       "  }\n",
       "\n",
       "  /**\n",
       "   * Handle when an output is cleared or removed\n",
       "   */\n",
       "  function handleClearOutput(event, handle) {\n",
       "    function drop(id) {\n",
       "      const view = Bokeh.index.get_by_id(id)\n",
       "      if (view != null) {\n",
       "        view.model.document.clear()\n",
       "        Bokeh.index.delete(view)\n",
       "      }\n",
       "    }\n",
       "\n",
       "    const cell = handle.cell;\n",
       "\n",
       "    const id = cell.output_area._bokeh_element_id;\n",
       "    const server_id = cell.output_area._bokeh_server_id;\n",
       "\n",
       "    // Clean up Bokeh references\n",
       "    if (id != null) {\n",
       "      drop(id)\n",
       "    }\n",
       "\n",
       "    if (server_id !== undefined) {\n",
       "      // Clean up Bokeh references\n",
       "      const cmd_clean = \"from bokeh.io.state import curstate; print(curstate().uuid_to_server['\" + server_id + \"'].get_sessions()[0].document.roots[0]._id)\";\n",
       "      cell.notebook.kernel.execute(cmd_clean, {\n",
       "        iopub: {\n",
       "          output: function(msg) {\n",
       "            const id = msg.content.text.trim()\n",
       "            drop(id)\n",
       "          }\n",
       "        }\n",
       "      });\n",
       "      // Destroy server and session\n",
       "      const cmd_destroy = \"import bokeh.io.notebook as ion; ion.destroy_server('\" + server_id + \"')\";\n",
       "      cell.notebook.kernel.execute(cmd_destroy);\n",
       "    }\n",
       "  }\n",
       "\n",
       "  /**\n",
       "   * Handle when a new output is added\n",
       "   */\n",
       "  function handleAddOutput(event, handle) {\n",
       "    const output_area = handle.output_area;\n",
       "    const output = handle.output;\n",
       "\n",
       "    // limit handleAddOutput to display_data with EXEC_MIME_TYPE content only\n",
       "    if ((output.output_type != \"display_data\") || (!Object.prototype.hasOwnProperty.call(output.data, EXEC_MIME_TYPE))) {\n",
       "      return\n",
       "    }\n",
       "\n",
       "    const toinsert = output_area.element.find(\".\" + CLASS_NAME.split(' ')[0]);\n",
       "\n",
       "    if (output.metadata[EXEC_MIME_TYPE][\"id\"] !== undefined) {\n",
       "      toinsert[toinsert.length - 1].firstChild.textContent = output.data[JS_MIME_TYPE];\n",
       "      // store reference to embed id on output_area\n",
       "      output_area._bokeh_element_id = output.metadata[EXEC_MIME_TYPE][\"id\"];\n",
       "    }\n",
       "    if (output.metadata[EXEC_MIME_TYPE][\"server_id\"] !== undefined) {\n",
       "      const bk_div = document.createElement(\"div\");\n",
       "      bk_div.innerHTML = output.data[HTML_MIME_TYPE];\n",
       "      const script_attrs = bk_div.children[0].attributes;\n",
       "      for (let i = 0; i < script_attrs.length; i++) {\n",
       "        toinsert[toinsert.length - 1].firstChild.setAttribute(script_attrs[i].name, script_attrs[i].value);\n",
       "        toinsert[toinsert.length - 1].firstChild.textContent = bk_div.children[0].textContent\n",
       "      }\n",
       "      // store reference to server id on output_area\n",
       "      output_area._bokeh_server_id = output.metadata[EXEC_MIME_TYPE][\"server_id\"];\n",
       "    }\n",
       "  }\n",
       "\n",
       "  function register_renderer(events, OutputArea) {\n",
       "\n",
       "    function append_mime(data, metadata, element) {\n",
       "      // create a DOM node to render to\n",
       "      const toinsert = this.create_output_subarea(\n",
       "        metadata,\n",
       "        CLASS_NAME,\n",
       "        EXEC_MIME_TYPE\n",
       "      );\n",
       "      this.keyboard_manager.register_events(toinsert);\n",
       "      // Render to node\n",
       "      const props = {data: data, metadata: metadata[EXEC_MIME_TYPE]};\n",
       "      render(props, toinsert[toinsert.length - 1]);\n",
       "      element.append(toinsert);\n",
       "      return toinsert\n",
       "    }\n",
       "\n",
       "    /* Handle when an output is cleared or removed */\n",
       "    events.on('clear_output.CodeCell', handleClearOutput);\n",
       "    events.on('delete.Cell', handleClearOutput);\n",
       "\n",
       "    /* Handle when a new output is added */\n",
       "    events.on('output_added.OutputArea', handleAddOutput);\n",
       "\n",
       "    /**\n",
       "     * Register the mime type and append_mime function with output_area\n",
       "     */\n",
       "    OutputArea.prototype.register_mime_type(EXEC_MIME_TYPE, append_mime, {\n",
       "      /* Is output safe? */\n",
       "      safe: true,\n",
       "      /* Index of renderer in `output_area.display_order` */\n",
       "      index: 0\n",
       "    });\n",
       "  }\n",
       "\n",
       "  // register the mime type if in Jupyter Notebook environment and previously unregistered\n",
       "  if (root.Jupyter !== undefined) {\n",
       "    const events = require('base/js/events');\n",
       "    const OutputArea = require('notebook/js/outputarea').OutputArea;\n",
       "\n",
       "    if (OutputArea.prototype.mime_types().indexOf(EXEC_MIME_TYPE) == -1) {\n",
       "      register_renderer(events, OutputArea);\n",
       "    }\n",
       "  }\n",
       "  if (typeof (root._bokeh_timeout) === \"undefined\" || force === true) {\n",
       "    root._bokeh_timeout = Date.now() + 5000;\n",
       "    root._bokeh_failed_load = false;\n",
       "  }\n",
       "\n",
       "  const NB_LOAD_WARNING = {'data': {'text/html':\n",
       "     \"<div style='background-color: #fdd'>\\n\"+\n",
       "     \"<p>\\n\"+\n",
       "     \"BokehJS does not appear to have successfully loaded. If loading BokehJS from CDN, this \\n\"+\n",
       "     \"may be due to a slow or bad network connection. Possible fixes:\\n\"+\n",
       "     \"</p>\\n\"+\n",
       "     \"<ul>\\n\"+\n",
       "     \"<li>re-rerun `output_notebook()` to attempt to load from CDN again, or</li>\\n\"+\n",
       "     \"<li>use INLINE resources instead, as so:</li>\\n\"+\n",
       "     \"</ul>\\n\"+\n",
       "     \"<code>\\n\"+\n",
       "     \"from bokeh.resources import INLINE\\n\"+\n",
       "     \"output_notebook(resources=INLINE)\\n\"+\n",
       "     \"</code>\\n\"+\n",
       "     \"</div>\"}};\n",
       "\n",
       "  function display_loaded(error = null) {\n",
       "    const el = document.getElementById(\"b67782b9-4df9-4443-b2f8-4d5664a00410\");\n",
       "    if (el != null) {\n",
       "      const html = (() => {\n",
       "        if (typeof root.Bokeh === \"undefined\") {\n",
       "          if (error == null) {\n",
       "            return \"BokehJS is loading ...\";\n",
       "          } else {\n",
       "            return \"BokehJS failed to load.\";\n",
       "          }\n",
       "        } else {\n",
       "          const prefix = `BokehJS ${root.Bokeh.version}`;\n",
       "          if (error == null) {\n",
       "            return `${prefix} successfully loaded.`;\n",
       "          } else {\n",
       "            return `${prefix} <b>encountered errors</b> while loading and may not function as expected.`;\n",
       "          }\n",
       "        }\n",
       "      })();\n",
       "      el.innerHTML = html;\n",
       "\n",
       "      if (error != null) {\n",
       "        const wrapper = document.createElement(\"div\");\n",
       "        wrapper.style.overflow = \"auto\";\n",
       "        wrapper.style.height = \"5em\";\n",
       "        wrapper.style.resize = \"vertical\";\n",
       "        const content = document.createElement(\"div\");\n",
       "        content.style.fontFamily = \"monospace\";\n",
       "        content.style.whiteSpace = \"pre-wrap\";\n",
       "        content.style.backgroundColor = \"rgb(255, 221, 221)\";\n",
       "        content.textContent = error.stack ?? error.toString();\n",
       "        wrapper.append(content);\n",
       "        el.append(wrapper);\n",
       "      }\n",
       "    } else if (Date.now() < root._bokeh_timeout) {\n",
       "      setTimeout(() => display_loaded(error), 100);\n",
       "    }\n",
       "  }\n",
       "\n",
       "  function run_callbacks() {\n",
       "    try {\n",
       "      root._bokeh_onload_callbacks.forEach(function(callback) {\n",
       "        if (callback != null)\n",
       "          callback();\n",
       "      });\n",
       "    } finally {\n",
       "      delete root._bokeh_onload_callbacks\n",
       "    }\n",
       "    console.debug(\"Bokeh: all callbacks have finished\");\n",
       "  }\n",
       "\n",
       "  function load_libs(css_urls, js_urls, callback) {\n",
       "    if (css_urls == null) css_urls = [];\n",
       "    if (js_urls == null) js_urls = [];\n",
       "\n",
       "    root._bokeh_onload_callbacks.push(callback);\n",
       "    if (root._bokeh_is_loading > 0) {\n",
       "      console.debug(\"Bokeh: BokehJS is being loaded, scheduling callback at\", now());\n",
       "      return null;\n",
       "    }\n",
       "    if (js_urls == null || js_urls.length === 0) {\n",
       "      run_callbacks();\n",
       "      return null;\n",
       "    }\n",
       "    console.debug(\"Bokeh: BokehJS not loaded, scheduling load and callback at\", now());\n",
       "    root._bokeh_is_loading = css_urls.length + js_urls.length;\n",
       "\n",
       "    function on_load() {\n",
       "      root._bokeh_is_loading--;\n",
       "      if (root._bokeh_is_loading === 0) {\n",
       "        console.debug(\"Bokeh: all BokehJS libraries/stylesheets loaded\");\n",
       "        run_callbacks()\n",
       "      }\n",
       "    }\n",
       "\n",
       "    function on_error(url) {\n",
       "      console.error(\"failed to load \" + url);\n",
       "    }\n",
       "\n",
       "    for (let i = 0; i < css_urls.length; i++) {\n",
       "      const url = css_urls[i];\n",
       "      const element = document.createElement(\"link\");\n",
       "      element.onload = on_load;\n",
       "      element.onerror = on_error.bind(null, url);\n",
       "      element.rel = \"stylesheet\";\n",
       "      element.type = \"text/css\";\n",
       "      element.href = url;\n",
       "      console.debug(\"Bokeh: injecting link tag for BokehJS stylesheet: \", url);\n",
       "      document.body.appendChild(element);\n",
       "    }\n",
       "\n",
       "    for (let i = 0; i < js_urls.length; i++) {\n",
       "      const url = js_urls[i];\n",
       "      const element = document.createElement('script');\n",
       "      element.onload = on_load;\n",
       "      element.onerror = on_error.bind(null, url);\n",
       "      element.async = false;\n",
       "      element.src = url;\n",
       "      console.debug(\"Bokeh: injecting script tag for BokehJS library: \", url);\n",
       "      document.head.appendChild(element);\n",
       "    }\n",
       "  };\n",
       "\n",
       "  function inject_raw_css(css) {\n",
       "    const element = document.createElement(\"style\");\n",
       "    element.appendChild(document.createTextNode(css));\n",
       "    document.body.appendChild(element);\n",
       "  }\n",
       "\n",
       "  const js_urls = [\"https://cdn.bokeh.org/bokeh/release/bokeh-3.7.3.min.js\", \"https://cdn.bokeh.org/bokeh/release/bokeh-gl-3.7.3.min.js\", \"https://cdn.bokeh.org/bokeh/release/bokeh-widgets-3.7.3.min.js\", \"https://cdn.bokeh.org/bokeh/release/bokeh-tables-3.7.3.min.js\", \"https://cdn.bokeh.org/bokeh/release/bokeh-mathjax-3.7.3.min.js\"];\n",
       "  const css_urls = [];\n",
       "\n",
       "  const inline_js = [    function(Bokeh) {\n",
       "      Bokeh.set_log_level(\"info\");\n",
       "    },\n",
       "function(Bokeh) {\n",
       "    }\n",
       "  ];\n",
       "\n",
       "  function run_inline_js() {\n",
       "    if (root.Bokeh !== undefined || force === true) {\n",
       "      try {\n",
       "            for (let i = 0; i < inline_js.length; i++) {\n",
       "      inline_js[i].call(root, root.Bokeh);\n",
       "    }\n",
       "\n",
       "      } catch (error) {display_loaded(error);throw error;\n",
       "      }if (force === true) {\n",
       "        display_loaded();\n",
       "      }} else if (Date.now() < root._bokeh_timeout) {\n",
       "      setTimeout(run_inline_js, 100);\n",
       "    } else if (!root._bokeh_failed_load) {\n",
       "      console.log(\"Bokeh: BokehJS failed to load within specified timeout.\");\n",
       "      root._bokeh_failed_load = true;\n",
       "    } else if (force !== true) {\n",
       "      const cell = $(document.getElementById(\"b67782b9-4df9-4443-b2f8-4d5664a00410\")).parents('.cell').data().cell;\n",
       "      cell.output_area.append_execute_result(NB_LOAD_WARNING)\n",
       "    }\n",
       "  }\n",
       "\n",
       "  if (root._bokeh_is_loading === 0) {\n",
       "    console.debug(\"Bokeh: BokehJS loaded, going straight to plotting\");\n",
       "    run_inline_js();\n",
       "  } else {\n",
       "    load_libs(css_urls, js_urls, function() {\n",
       "      console.debug(\"Bokeh: BokehJS plotting callback run at\", now());\n",
       "      run_inline_js();\n",
       "    });\n",
       "  }\n",
       "}(window));"
      ],
      "application/vnd.bokehjs_load.v0+json": "'use strict';\n(function(root) {\n  function now() {\n    return new Date();\n  }\n\n  const force = true;\n\n  if (typeof root._bokeh_onload_callbacks === \"undefined\" || force === true) {\n    root._bokeh_onload_callbacks = [];\n    root._bokeh_is_loading = undefined;\n  }\n\n\n  if (typeof (root._bokeh_timeout) === \"undefined\" || force === true) {\n    root._bokeh_timeout = Date.now() + 5000;\n    root._bokeh_failed_load = false;\n  }\n\n  const NB_LOAD_WARNING = {'data': {'text/html':\n     \"<div style='background-color: #fdd'>\\n\"+\n     \"<p>\\n\"+\n     \"BokehJS does not appear to have successfully loaded. If loading BokehJS from CDN, this \\n\"+\n     \"may be due to a slow or bad network connection. Possible fixes:\\n\"+\n     \"</p>\\n\"+\n     \"<ul>\\n\"+\n     \"<li>re-rerun `output_notebook()` to attempt to load from CDN again, or</li>\\n\"+\n     \"<li>use INLINE resources instead, as so:</li>\\n\"+\n     \"</ul>\\n\"+\n     \"<code>\\n\"+\n     \"from bokeh.resources import INLINE\\n\"+\n     \"output_notebook(resources=INLINE)\\n\"+\n     \"</code>\\n\"+\n     \"</div>\"}};\n\n  function display_loaded(error = null) {\n    const el = document.getElementById(\"b67782b9-4df9-4443-b2f8-4d5664a00410\");\n    if (el != null) {\n      const html = (() => {\n        if (typeof root.Bokeh === \"undefined\") {\n          if (error == null) {\n            return \"BokehJS is loading ...\";\n          } else {\n            return \"BokehJS failed to load.\";\n          }\n        } else {\n          const prefix = `BokehJS ${root.Bokeh.version}`;\n          if (error == null) {\n            return `${prefix} successfully loaded.`;\n          } else {\n            return `${prefix} <b>encountered errors</b> while loading and may not function as expected.`;\n          }\n        }\n      })();\n      el.innerHTML = html;\n\n      if (error != null) {\n        const wrapper = document.createElement(\"div\");\n        wrapper.style.overflow = \"auto\";\n        wrapper.style.height = \"5em\";\n        wrapper.style.resize = \"vertical\";\n        const content = document.createElement(\"div\");\n        content.style.fontFamily = \"monospace\";\n        content.style.whiteSpace = \"pre-wrap\";\n        content.style.backgroundColor = \"rgb(255, 221, 221)\";\n        content.textContent = error.stack ?? error.toString();\n        wrapper.append(content);\n        el.append(wrapper);\n      }\n    } else if (Date.now() < root._bokeh_timeout) {\n      setTimeout(() => display_loaded(error), 100);\n    }\n  }\n\n  function run_callbacks() {\n    try {\n      root._bokeh_onload_callbacks.forEach(function(callback) {\n        if (callback != null)\n          callback();\n      });\n    } finally {\n      delete root._bokeh_onload_callbacks\n    }\n    console.debug(\"Bokeh: all callbacks have finished\");\n  }\n\n  function load_libs(css_urls, js_urls, callback) {\n    if (css_urls == null) css_urls = [];\n    if (js_urls == null) js_urls = [];\n\n    root._bokeh_onload_callbacks.push(callback);\n    if (root._bokeh_is_loading > 0) {\n      console.debug(\"Bokeh: BokehJS is being loaded, scheduling callback at\", now());\n      return null;\n    }\n    if (js_urls == null || js_urls.length === 0) {\n      run_callbacks();\n      return null;\n    }\n    console.debug(\"Bokeh: BokehJS not loaded, scheduling load and callback at\", now());\n    root._bokeh_is_loading = css_urls.length + js_urls.length;\n\n    function on_load() {\n      root._bokeh_is_loading--;\n      if (root._bokeh_is_loading === 0) {\n        console.debug(\"Bokeh: all BokehJS libraries/stylesheets loaded\");\n        run_callbacks()\n      }\n    }\n\n    function on_error(url) {\n      console.error(\"failed to load \" + url);\n    }\n\n    for (let i = 0; i < css_urls.length; i++) {\n      const url = css_urls[i];\n      const element = document.createElement(\"link\");\n      element.onload = on_load;\n      element.onerror = on_error.bind(null, url);\n      element.rel = \"stylesheet\";\n      element.type = \"text/css\";\n      element.href = url;\n      console.debug(\"Bokeh: injecting link tag for BokehJS stylesheet: \", url);\n      document.body.appendChild(element);\n    }\n\n    for (let i = 0; i < js_urls.length; i++) {\n      const url = js_urls[i];\n      const element = document.createElement('script');\n      element.onload = on_load;\n      element.onerror = on_error.bind(null, url);\n      element.async = false;\n      element.src = url;\n      console.debug(\"Bokeh: injecting script tag for BokehJS library: \", url);\n      document.head.appendChild(element);\n    }\n  };\n\n  function inject_raw_css(css) {\n    const element = document.createElement(\"style\");\n    element.appendChild(document.createTextNode(css));\n    document.body.appendChild(element);\n  }\n\n  const js_urls = [\"https://cdn.bokeh.org/bokeh/release/bokeh-3.7.3.min.js\", \"https://cdn.bokeh.org/bokeh/release/bokeh-gl-3.7.3.min.js\", \"https://cdn.bokeh.org/bokeh/release/bokeh-widgets-3.7.3.min.js\", \"https://cdn.bokeh.org/bokeh/release/bokeh-tables-3.7.3.min.js\", \"https://cdn.bokeh.org/bokeh/release/bokeh-mathjax-3.7.3.min.js\"];\n  const css_urls = [];\n\n  const inline_js = [    function(Bokeh) {\n      Bokeh.set_log_level(\"info\");\n    },\nfunction(Bokeh) {\n    }\n  ];\n\n  function run_inline_js() {\n    if (root.Bokeh !== undefined || force === true) {\n      try {\n            for (let i = 0; i < inline_js.length; i++) {\n      inline_js[i].call(root, root.Bokeh);\n    }\n\n      } catch (error) {display_loaded(error);throw error;\n      }if (force === true) {\n        display_loaded();\n      }} else if (Date.now() < root._bokeh_timeout) {\n      setTimeout(run_inline_js, 100);\n    } else if (!root._bokeh_failed_load) {\n      console.log(\"Bokeh: BokehJS failed to load within specified timeout.\");\n      root._bokeh_failed_load = true;\n    } else if (force !== true) {\n      const cell = $(document.getElementById(\"b67782b9-4df9-4443-b2f8-4d5664a00410\")).parents('.cell').data().cell;\n      cell.output_area.append_execute_result(NB_LOAD_WARNING)\n    }\n  }\n\n  if (root._bokeh_is_loading === 0) {\n    console.debug(\"Bokeh: BokehJS loaded, going straight to plotting\");\n    run_inline_js();\n  } else {\n    load_libs(css_urls, js_urls, function() {\n      console.debug(\"Bokeh: BokehJS plotting callback run at\", now());\n      run_inline_js();\n    });\n  }\n}(window));"
     },
     "metadata": {},
     "output_type": "display_data"
    }
   ],
   "source": [
    "import pandas as pd\n",
    "import numpy as np\n",
    "#import plotly.graph_objects as go\n",
    "import yfinance as yf\n",
    "import talib as ta\n",
    "#import matplotlib.pyplot as plt\n",
    "#import math\n",
    "from datetime import date, timedelta\n",
    "from scipy import stats\n",
    "from scipy.signal import argrelextrema\n",
    "#from bokeh.plotting import figure, show, column\n",
    "from sklearn.linear_model import LinearRegression\n",
    "import os\n",
    "from backtesting import Backtest, Strategy"
   ]
  },
  {
   "cell_type": "code",
   "execution_count": 2,
   "id": "99fab280-84ca-4c2f-9784-f79dadcb26ed",
   "metadata": {
    "execution": {
     "iopub.execute_input": "2025-06-11T18:51:02.250113Z",
     "iopub.status.busy": "2025-06-11T18:51:02.249864Z",
     "iopub.status.idle": "2025-06-11T18:51:02.346551Z",
     "shell.execute_reply": "2025-06-11T18:51:02.345965Z"
    },
    "papermill": {
     "duration": 0.102526,
     "end_time": "2025-06-11T18:51:02.347729",
     "exception": false,
     "start_time": "2025-06-11T18:51:02.245203",
     "status": "completed"
    },
    "tags": []
   },
   "outputs": [],
   "source": [
    "df_h=pd.read_csv('data/dataxh.txt',sep='\\t')\n",
    "\n",
    "tickers = [\n",
    "    'SPY',\n",
    "    'META',\n",
    "    'AAPL',\n",
    "    'AMZN',\n",
    "    'NFLX',\n",
    "    'MRNA',\n",
    "    'TSLA',\n",
    "    'TNA',\n",
    "    'GLD',\n",
    "    'SLV',\n",
    "    'USO',\n",
    "    'BAC',\n",
    "    'CVX',\n",
    "    'XOM',\n",
    "    'QQQ',\n",
    "    'MSFT',\n",
    "    'NVDA',\n",
    "    'WMT',\n",
    "    'BA',\n",
    "    'DIS',\n",
    "    'CAT',\n",
    "    'IBM',\n",
    "    'WFC',\n",
    "    'PLTR',\n",
    "    'AMD',\n",
    "    'AVGO',\n",
    "    'HOOD',\n",
    "    'CRWV',\n",
    "    'MSTR',\n",
    "    'UNH',\n",
    "    'GOOG',\n",
    "    'APP',\n",
    "    'UBER'\n",
    "]\n",
    "\n",
    "#    'SPY',\n",
    "#    'META',\n",
    "#    'AAPL',\n",
    "#    'AMZN',\n",
    "#    'NFLX',\n",
    "#    'MRNA',\n",
    "#    'TSLA',\n",
    "#    'TNA',\n",
    "#    'GLD',\n",
    "#    'SLV',\n",
    "#    'USO',\n",
    "#    'BAC',\n",
    "#    'CVX',\n",
    "#    'XOM',\n",
    "#    'QQQ'"
   ]
  },
  {
   "cell_type": "code",
   "execution_count": 3,
   "id": "36d035ad-94d3-427b-9d99-5efff5449692",
   "metadata": {
    "execution": {
     "iopub.execute_input": "2025-06-11T18:51:02.357114Z",
     "iopub.status.busy": "2025-06-11T18:51:02.356934Z",
     "iopub.status.idle": "2025-06-11T18:51:02.711323Z",
     "shell.execute_reply": "2025-06-11T18:51:02.710722Z"
    },
    "papermill": {
     "duration": 0.360196,
     "end_time": "2025-06-11T18:51:02.712434",
     "exception": false,
     "start_time": "2025-06-11T18:51:02.352238",
     "status": "completed"
    },
    "tags": []
   },
   "outputs": [],
   "source": [
    "df_h['datetime'] = pd.to_datetime(df_h['datetime'])\n",
    "df = pd.DataFrame()\n",
    "for ticker in tickers:\n",
    "    company = df_h.query(\"companyName==@ticker\").copy()\n",
    "    company.sort_values(by=['datetime'])\n",
    "    #company = yf.download(ticker, start = ini2_str, end = today_str, interval='60m')\n",
    "    #company.columns = [company.columns[0][0], company.columns[1][0], company.columns[2][0], company.columns[3][0], company.columns[4][0]]\n",
    "    #company.rename(columns={'Datetime':'Gmt time'}, inplace = True)\n",
    "    #company['datetime'] = pd.to_datetime (company.index)\n",
    "    #company['companyName'] = ticker\n",
    "    company['SMA20'] = company['Close'].rolling(20).mean()\n",
    "    company.dropna(inplace=False)\n",
    "    company['SMA40'] = company['Close'].rolling(40).mean()\n",
    "    company.dropna(inplace=False)\n",
    "    company['SMA100'] = company['Close'].rolling(100).mean()\n",
    "    company.dropna(inplace=False)\n",
    "    company['SMA200'] = company['Close'].rolling(200).mean()\n",
    "    company.dropna(inplace=False)\n",
    "    df = pd.concat([df, company],ignore_index=True)"
   ]
  },
  {
   "cell_type": "markdown",
   "id": "ab939271-1e70-4ea6-bc39-df024b86f50e",
   "metadata": {
    "papermill": {
     "duration": 0.004107,
     "end_time": "2025-06-11T18:51:02.720900",
     "exception": false,
     "start_time": "2025-06-11T18:51:02.716793",
     "status": "completed"
    },
    "tags": []
   },
   "source": [
    "### Detect Pivots/Fractals"
   ]
  },
  {
   "cell_type": "code",
   "execution_count": 4,
   "id": "755f2f1c-3bb8-47b9-bf49-b89e7437100d",
   "metadata": {
    "execution": {
     "iopub.execute_input": "2025-06-11T18:51:02.729922Z",
     "iopub.status.busy": "2025-06-11T18:51:02.729371Z",
     "iopub.status.idle": "2025-06-11T18:51:02.764088Z",
     "shell.execute_reply": "2025-06-11T18:51:02.763585Z"
    },
    "papermill": {
     "duration": 0.040139,
     "end_time": "2025-06-11T18:51:02.764947",
     "exception": false,
     "start_time": "2025-06-11T18:51:02.724808",
     "status": "completed"
    },
    "tags": []
   },
   "outputs": [],
   "source": [
    "ord=15\n",
    "#for ticker in tickers:\n",
    "#print(\"====\", ticker)\n",
    "#dfpl = df[(df.companyName==ticker)] #df.query(\"companyName=='AAPL'\")\n",
    "max_idx = argrelextrema(df['Close'].values, np.greater, order=ord)[0]\n",
    "min_idx = argrelextrema(df['Close'].values, np.less, order=ord)[0]\n",
    "#print(max_idx)\n",
    "#print(min_idx)\n",
    "#df['pivotHigh'] = np.nan\n",
    "#df['pivotLow'] = np.nan\n",
    "#df['isPivot'] = np.nan\n",
    "#df['isPivot'] = np.nan\n",
    "# Aplicar el cálculo solo a los índices en la lista\n",
    "df.loc[max_idx, 'pivotHigh'] = df['High']+1e-3\n",
    "df.loc[min_idx, 'pivotLow'] = df['Low']-(1e-3)\n",
    "df.loc[max_idx, 'isPivot'] = 1\n",
    "df.loc[min_idx, 'isPivot'] = 2"
   ]
  },
  {
   "cell_type": "markdown",
   "id": "f44f04bb-ed9f-4732-9d38-7f8cb2869c36",
   "metadata": {
    "papermill": {
     "duration": 0.003999,
     "end_time": "2025-06-11T18:51:02.772963",
     "exception": false,
     "start_time": "2025-06-11T18:51:02.768964",
     "status": "completed"
    },
    "tags": []
   },
   "source": [
    "##### Canales alcista, cuando PM40 esta por encima o cerca del precio"
   ]
  },
  {
   "cell_type": "code",
   "execution_count": 5,
   "id": "b7d94196-30b6-4e27-b8a2-97263f24b34f",
   "metadata": {
    "execution": {
     "iopub.execute_input": "2025-06-11T18:51:02.782034Z",
     "iopub.status.busy": "2025-06-11T18:51:02.781490Z",
     "iopub.status.idle": "2025-06-11T18:51:04.508307Z",
     "shell.execute_reply": "2025-06-11T18:51:04.507691Z"
    },
    "papermill": {
     "duration": 1.732407,
     "end_time": "2025-06-11T18:51:04.509354",
     "exception": false,
     "start_time": "2025-06-11T18:51:02.776947",
     "status": "completed"
    },
    "tags": []
   },
   "outputs": [],
   "source": [
    "def rcb01(df):\n",
    "    if ((df['isPivot']==1) & ((df['SMA40']>df['Close']) | (df['SMA40']>df['Open']) | (df['SMA20']>df['SMA40']))):\n",
    "        return 1\n",
    "    else:\n",
    "        return 0\n",
    "df['rcb01_01'] = df.apply(rcb01, axis=1)"
   ]
  },
  {
   "cell_type": "markdown",
   "id": "1301febb-db5f-4a68-b162-9ae2e19ec678",
   "metadata": {
    "papermill": {
     "duration": 0.003911,
     "end_time": "2025-06-11T18:51:04.517782",
     "exception": false,
     "start_time": "2025-06-11T18:51:04.513871",
     "status": "completed"
    },
    "tags": []
   },
   "source": [
    "#### Detect Price Channel"
   ]
  },
  {
   "cell_type": "code",
   "execution_count": 6,
   "id": "1873740d-7344-4670-8cb0-9dea7df49305",
   "metadata": {
    "execution": {
     "iopub.execute_input": "2025-06-11T18:51:04.526424Z",
     "iopub.status.busy": "2025-06-11T18:51:04.526249Z",
     "iopub.status.idle": "2025-06-11T18:51:04.530420Z",
     "shell.execute_reply": "2025-06-11T18:51:04.529979Z"
    },
    "papermill": {
     "duration": 0.009493,
     "end_time": "2025-06-11T18:51:04.531257",
     "exception": false,
     "start_time": "2025-06-11T18:51:04.521764",
     "status": "completed"
    },
    "tags": []
   },
   "outputs": [],
   "source": [
    "def collect_channel(candle, backevalTrend, trendL):\n",
    "    #localdf = df[candle-backcandles-window:candle-window]\n",
    "    localdf = dfpl.loc[candle-backevalTrend:candle] #tomar en cuenta el backcandles\n",
    "    #localdf['isPivot'] = localdf.apply(lambda x: isPivot(x.name,window), axis=1)\n",
    "    \n",
    "    #highs = localdf.High.values\n",
    "    #idxhighs = localdf.High.index\n",
    "    #lows = localdf.Low.values\n",
    "    #idxlows = localdf.Low.index\n",
    "\n",
    "    #highs = localdf.loc[localdf.index.isin(trendH)].High.values\n",
    "    #idxhighs = localdf.loc[localdf.index.isin(trendH)].High.index\n",
    "    lows = localdf.loc[localdf.index.isin(trendL)].Low.values\n",
    "    idxlows = localdf.loc[localdf.index.isin(trendL)].Low.index\n",
    "\n",
    "    #highs = localdf.loc[localdf.index.isin([candle]) | (localdf['isPivot'] == 1)].High.values\n",
    "    #idxhighs = localdf.loc[localdf.index.isin([candle]) | (localdf['isPivot'] == 1)].High.index\n",
    "    #lows = localdf.loc[localdf.index.isin([candle]) | (localdf['isPivot'] == 2)].Low.values\n",
    "    #idxlows = localdf.loc[localdf.index.isin([candle]) | (localdf['isPivot'] == 2)].Low.index\n",
    "\n",
    "    #lows = localdf.loc[localdf.index.isin(trendL)].Low.values\n",
    "    #idxlows = localdf.loc[localdf.index.isin(trendL)].Low.index\n",
    "\n",
    "    #print(\"highs:\",highs)\n",
    "    #print(\"idxhighs:\",idxhighs)\n",
    "    #print(\"lows:\",lows)\n",
    "    #print(\"idxlows:\",idxlows)\n",
    "    #print (\"tamanio:\",localdf.shape[0])\n",
    "    \n",
    "    #if len(lows)>=2 and len(highs)>=2:\n",
    "    if len(lows)>=2:\n",
    "        sl_lows, interc_lows, r_value_l, _, _ = stats.linregress(idxlows,lows)\n",
    "        #sl_highs, interc_highs, r_value_h, _, _ = stats.linregress(idxhighs,highs)    \n",
    "        #return(sl_lows, interc_lows, sl_highs, interc_highs, r_value_l**2, r_value_h**2)\n",
    "        return(sl_lows, interc_lows, r_value_l**2)\n",
    "    else:\n",
    "        return(0,0,0)\n",
    "    "
   ]
  },
  {
   "cell_type": "code",
   "execution_count": 7,
   "id": "0ea43d11-bb56-4a09-8d54-0bfd0dfc987a",
   "metadata": {
    "execution": {
     "iopub.execute_input": "2025-06-11T18:51:04.540396Z",
     "iopub.status.busy": "2025-06-11T18:51:04.540063Z",
     "iopub.status.idle": "2025-06-11T18:51:04.546048Z",
     "shell.execute_reply": "2025-06-11T18:51:04.545565Z"
    },
    "papermill": {
     "duration": 0.011642,
     "end_time": "2025-06-11T18:51:04.546920",
     "exception": false,
     "start_time": "2025-06-11T18:51:04.535278",
     "status": "completed"
    },
    "tags": []
   },
   "outputs": [],
   "source": [
    "def backcandle(candle):\n",
    "    \n",
    "    trendH = []\n",
    "    backeval = 0\n",
    "    val = 0\n",
    "\n",
    "    #print(\"candle:\", candle)\n",
    "    dfpl['PM20_PM40'] = dfpl['SMA20']-dfpl['SMA40']\n",
    "    idinicial = dfpl.index[0]\n",
    "    velas = candle - idinicial\n",
    "\n",
    "    #print(\"idinicial:\", idinicial)\n",
    "    if (dfpl.loc[candle,\"PM20_PM40\"]>0):\n",
    "        idx_negativo = dfpl.loc[:candle, 'PM20_PM40'][::-1].lt(0).idxmax()\n",
    "        if (idx_negativo==candle):\n",
    "            backeval = candle - velas\n",
    "            \n",
    "        else:\n",
    "            backeval = idx_negativo - 4\n",
    "        \n",
    "    val = candle - backeval\n",
    "    \n",
    "    #print(\"backeval1:\",backeval)\n",
    "    \n",
    "    if val>velas:\n",
    "        backeval=candle-velas\n",
    "\n",
    "    #print(\"backeval2:\",backeval)\n",
    "    if ((dfpl.loc[backeval,\"PM20_PM40\"]>0) & (val<velas)):\n",
    "        idx_negativo = dfpl.loc[:backeval, 'PM20_PM40'][::-1].lt(0).idxmax()\n",
    "        backeval = idx_negativo - 4\n",
    "    #print(\"backeval3:\",backeval)\n",
    "\n",
    "    val = candle - backeval\n",
    "    if val>velas:\n",
    "        backeval=candle-velas\n",
    "        \n",
    "    #print(\"backeval4:\",backeval)\n",
    "    #ini = candle - backeval\n",
    "    ini = backeval\n",
    "    trendprev=dfpl.loc[ini:candle]\n",
    "    trend = trendprev.reset_index(drop=False)\n",
    "\n",
    "    idxlows = trend.index.to_numpy().reshape(-1,1) # Convertir X a una matriz 2D\n",
    "    lows = trend.Low.values\n",
    "    modelo1 = LinearRegression()\n",
    "    modelo1.fit(idxlows, lows)\n",
    "    # Obtener la predicción de la línea de regresión\n",
    "    Y_pred = modelo1.predict(idxlows)\n",
    "    # Calcular la distancia solo de los puntos que están POR ENCIMA de la línea\n",
    "    trend['Distancia'] = Y_pred - trend[\"Low\"]  # Diferencia entre el valor real y la predicción\n",
    "    # Filtrar los puntos que están por debajo (donde Y > Y_pred, es decir, Distancia > 0)\n",
    "    df_encima = trend[trend['Distancia'] > 0]\n",
    "    puntos_mas_lejanos = df_encima.nlargest(2, 'Distancia')   #2 puntos mas lejanos\n",
    "    trendL = puntos_mas_lejanos[\"index\"].tolist()\n",
    "    trendL.append(candle)   \n",
    "    \n",
    "    return trendL, backeval"
   ]
  },
  {
   "cell_type": "markdown",
   "id": "7746c605-eeaf-4691-b332-3c5afe45243a",
   "metadata": {
    "papermill": {
     "duration": 0.004034,
     "end_time": "2025-06-11T18:51:04.555060",
     "exception": false,
     "start_time": "2025-06-11T18:51:04.551026",
     "status": "completed"
    },
    "tags": []
   },
   "source": [
    "### Detect Break Out"
   ]
  },
  {
   "cell_type": "code",
   "execution_count": 8,
   "id": "9eb0e6d2-7707-4624-bee3-0465d77901ea",
   "metadata": {
    "execution": {
     "iopub.execute_input": "2025-06-11T18:51:04.564269Z",
     "iopub.status.busy": "2025-06-11T18:51:04.563795Z",
     "iopub.status.idle": "2025-06-11T18:51:04.567541Z",
     "shell.execute_reply": "2025-06-11T18:51:04.566994Z"
    },
    "papermill": {
     "duration": 0.009243,
     "end_time": "2025-06-11T18:51:04.568466",
     "exception": false,
     "start_time": "2025-06-11T18:51:04.559223",
     "status": "completed"
    },
    "tags": []
   },
   "outputs": [],
   "source": [
    "def trendChannel(row,candle, backeval, window, sl_highs, interc_lows):\n",
    "\n",
    "    if (candle-backeval-window)<0:\n",
    "        return np.nan\n",
    "\n",
    "    #print(\"=== DATOS ===\")\n",
    "    #print(\"candle:\",candle)\n",
    "    #print(\"backcandles:\",backcandles)\n",
    "    #print(\"window:\",window)\n",
    "    #trendprevlow = (sl_lows*row['id'].shift(1).fillna(0) + interc_lows)\n",
    "    #trendprevhigh = (sl_highs*row['id'].shift(1).fillna(0) + interc_highs)\n",
    "    ini=candle-backeval\n",
    "    fin=candle+window\n",
    "    #x = np.array(range(candle-backcandles-window, candle+window))\n",
    "    trendcurrlow = np.where(np.logical_or((row.index > fin),  (row.index <  ini)), np.nan, (sl_lows*row.index + interc_lows))\n",
    "    #trendcurrhigh = (sl_highs*row['id'] + interc_highs)\n",
    "    \n",
    "    #print(\"candle:\",candle,\",backeval\", backeval, \", ini:\", ini, \", fin:\", fin,   \", rowMin:\", row.index[0],\", rowMax:\", row.index[-1])\n",
    "    #trendcurrhigh = np.where(np.logical_or((row.index > fin),  (row.index <  ini)), np.nan, (sl_highs*row.index + interc_highs))\n",
    "    return trendcurrlow"
   ]
  },
  {
   "cell_type": "code",
   "execution_count": 9,
   "id": "8e480264-0fde-4a97-af4e-a86b58a4b611",
   "metadata": {
    "execution": {
     "iopub.execute_input": "2025-06-11T18:51:04.577635Z",
     "iopub.status.busy": "2025-06-11T18:51:04.577272Z",
     "iopub.status.idle": "2025-06-11T18:51:04.581742Z",
     "shell.execute_reply": "2025-06-11T18:51:04.581207Z"
    },
    "papermill": {
     "duration": 0.009997,
     "end_time": "2025-06-11T18:51:04.582579",
     "exception": false,
     "start_time": "2025-06-11T18:51:04.572582",
     "status": "completed"
    },
    "tags": []
   },
   "outputs": [],
   "source": [
    "def isBreakOut(candleEval,backcandles, window, start, candle):\n",
    "    if (candleEval-backcandles-window)<0:\n",
    "        return 0\n",
    "\n",
    "    if candleEval==start:\n",
    "        prev_idx = candleEval\n",
    "    else:\n",
    "        prev_idx = candleEval-1\n",
    "        \n",
    "    prev_high = dfpl.loc[prev_idx].High\n",
    "    prev_low = dfpl.loc[prev_idx].Low\n",
    "    prev_close = dfpl.loc[prev_idx].Close\n",
    "    \n",
    "    curr_idx = candleEval\n",
    "    curr_high = dfpl.loc[candleEval].High\n",
    "    curr_low = dfpl.loc[candleEval].Low\n",
    "    curr_close = dfpl.loc[candleEval].Close\n",
    "    curr_open = dfpl.loc[candleEval].Open\n",
    "\n",
    "    trend_prevlow=dfpl.loc[prev_idx].trendcurrlow\n",
    "    #trend_prevhigh=dfpl.loc[prev_idx].trendcurrhigh\n",
    "\n",
    "    trend_currlow=dfpl.loc[candleEval].trendcurrlow\n",
    "    #trend_currhigh=dfpl.loc[candleEval].trendcurrhigh\n",
    "\n",
    "    #codigo para tendencia LOW, nos importa breaks en tendencia HIGH\n",
    "    if ( prev_high > trend_prevlow and\n",
    "        prev_close < trend_prevlow and\n",
    "        curr_open < trend_currlow and\n",
    "        curr_close < trend_currlow and \n",
    "        candleEval>candle): #and r_sq_l > 0.9\n",
    "        return 1\n",
    "    \n",
    "   # #if ( prev_low < trend_prevhigh and\n",
    "   #     prev_close > trend_prevhigh and\n",
    "   #     curr_open > trend_currhigh and\n",
    "   #     curr_close > trend_currhigh and\n",
    "   #     candleEval>candle): #and r_sq_h > 0.9\n",
    "   #     return 2\n",
    "\n",
    "   # elif (curr_open > trend_currhigh and\n",
    "   #     curr_close > trend_currhigh and candleEval>candle):\n",
    "   #     return 3\n",
    "    \n",
    "    else:\n",
    "        return np.nan"
   ]
  },
  {
   "cell_type": "code",
   "execution_count": 10,
   "id": "04c0d310-0135-4029-83d4-834b5b402c7a",
   "metadata": {
    "execution": {
     "iopub.execute_input": "2025-06-11T18:51:04.591835Z",
     "iopub.status.busy": "2025-06-11T18:51:04.591268Z",
     "iopub.status.idle": "2025-06-11T18:51:04.594431Z",
     "shell.execute_reply": "2025-06-11T18:51:04.593976Z"
    },
    "papermill": {
     "duration": 0.008592,
     "end_time": "2025-06-11T18:51:04.595278",
     "exception": false,
     "start_time": "2025-06-11T18:51:04.586686",
     "status": "completed"
    },
    "tags": []
   },
   "outputs": [],
   "source": [
    "def breakpointpos(x):\n",
    "    if x['isBreakOutIni'] in (2,3):\n",
    "        return x['Low']+3e-3\n",
    "    elif x['isBreakOutIni']==1:\n",
    "        return x['High']-3e-3\n",
    "    else:\n",
    "        return np.nan"
   ]
  },
  {
   "cell_type": "markdown",
   "id": "78dfc3a9-1c1a-4615-88b4-fe7061f871b4",
   "metadata": {
    "papermill": {
     "duration": 0.004033,
     "end_time": "2025-06-11T18:51:04.603527",
     "exception": false,
     "start_time": "2025-06-11T18:51:04.599494",
     "status": "completed"
    },
    "tags": []
   },
   "source": [
    "###### Hallando casos de Ruptura del Canal Alcista"
   ]
  },
  {
   "cell_type": "code",
   "execution_count": 11,
   "id": "80471e6b-41e2-424d-962d-72757b94aaf4",
   "metadata": {
    "execution": {
     "iopub.execute_input": "2025-06-11T18:51:04.612394Z",
     "iopub.status.busy": "2025-06-11T18:51:04.612219Z",
     "iopub.status.idle": "2025-06-11T18:51:04.622443Z",
     "shell.execute_reply": "2025-06-11T18:51:04.622005Z"
    },
    "papermill": {
     "duration": 0.015708,
     "end_time": "2025-06-11T18:51:04.623295",
     "exception": false,
     "start_time": "2025-06-11T18:51:04.607587",
     "status": "completed"
    },
    "tags": []
   },
   "outputs": [],
   "source": [
    "def revisionVelas(dfpl, backeval,window, candle):\n",
    "    #Revision de Velas\n",
    "    #Promedio del volumen de 50 velas antes del posible caso\n",
    "    promVol = dfpl.loc[i-backeval:i][\"Volume\"].mean()\n",
    "    #puede darse cualquiera de estas condiciones: \n",
    "    # - que la vela sea verde, que tenga volumen, este por encima de la linea trend y que tenga cuerpo (cierra por encima de su tercera parte)\n",
    "    # - que la vela sea envolvente, alcista y que este por encima de la linea trend\n",
    "    j=candle+1\n",
    "    k=candle+window\n",
    "    ind_vela=0\n",
    "    \n",
    "    #k no puede pasrse del rango\n",
    "    maxindex = dfpl.index[-1]\n",
    "    if (k>maxindex):\n",
    "        k=maxindex\n",
    "    \n",
    "    #print(\"candle:\",candle)\n",
    "    #print(\"window:\",window)\n",
    "    #print(\"j:\",j, \",k:\",k)\n",
    "    \n",
    "    #Evaluacion de velas ALCISTAS\n",
    "    dfpl[\"cdlengulfing\"] = ta.CDLENGULFING(dfpl['Open'], dfpl['High'], dfpl['Low'], dfpl['Close'])\n",
    "    dfpl[\"cdlhammer\"] = ta.CDLHAMMER(dfpl['Open'], dfpl['High'], dfpl['Low'], dfpl['Close'])\n",
    "    dfpl[\"cdlmorningstar\"] = ta.CDLMORNINGSTAR(dfpl['Open'], dfpl['High'], dfpl['Low'], dfpl['Close'])\n",
    "    dfpl[\"cdlpiercing\"] = ta.CDLPIERCING(dfpl['Open'], dfpl['High'], dfpl['Low'], dfpl['Close'])\n",
    "    dfpl[\"cdlclosingmarubozu\"] = ta.CDLCLOSINGMARUBOZU(dfpl['Open'], dfpl['High'], dfpl['Low'], dfpl['Close'])\n",
    "    dfpl[\"cdlmarubozu\"] = ta.CDLMARUBOZU(dfpl['Open'], dfpl['High'], dfpl['Low'], dfpl['Close'])\n",
    "    dfpl[\"cdl3whitesoldiers\"] = ta.CDL3WHITESOLDIERS(dfpl['Open'], dfpl['High'], dfpl['Low'], dfpl['Close'])\n",
    "    dfpl[\"cdlharami\"] = ta.CDLHARAMI(dfpl['Open'], dfpl['High'], dfpl['Low'], dfpl['Close'])\n",
    "    dfpl[\"cdlharamicross\"] = ta.CDLHARAMICROSS(dfpl['Open'], dfpl['High'], dfpl['Low'], dfpl['Close'])\n",
    "    dfpl[\"cdlinvertdhammer\"] = ta.CDLINVERTEDHAMMER(dfpl['Open'], dfpl['High'], dfpl['Low'], dfpl['Close'])\n",
    "    dfpl[\"cdlladderbottom\"] = ta.CDLLADDERBOTTOM(dfpl['Open'], dfpl['High'], dfpl['Low'], dfpl['Close'])\n",
    "\n",
    "    dfpl['Vela_Roja'] = dfpl['Close'] < dfpl['Open']\n",
    "    # Calcular el nivel de la tercera parte\n",
    "    #dfpl['Third_Level'] = dfpl['Low'] + (dfpl['High'] - dfpl['Low']) / 3\n",
    "    dfpl['Third_Level'] = dfpl['Open'] + (dfpl['High'] - dfpl['Low']) / 3\n",
    "    # Verificar si la vela cierra por encima de su tercera parte, vela con cuerpo\n",
    "    dfpl['Above_Third'] = dfpl['Close'] > dfpl['Third_Level']\n",
    "\n",
    "    while j<=k:            \n",
    "        \n",
    "        vol = dfpl.loc[j,\"Volume\"]\n",
    "        above_Third = dfpl.loc[j,\"Above_Third\"]\n",
    "        vela_Roja = dfpl.loc[j,\"Vela_Roja\"]\n",
    "        lineTrend = dfpl.loc[j,'trendcurrlow']\n",
    "        high = dfpl.loc[j,'High']\n",
    "        close = dfpl.loc[j,'Close']\n",
    "\n",
    "        cdlengulfing = dfpl.loc[j,\"cdlengulfing\"]\n",
    "        cdlhammer = dfpl.loc[j,\"cdlhammer\"]\n",
    "        cdlmorningstar = dfpl.loc[j,\"cdlmorningstar\"]\n",
    "        cdlpiercing = dfpl.loc[j,\"cdlpiercing\"]\n",
    "        cdlclosingmarubozu = dfpl.loc[j,\"cdlclosingmarubozu\"]\n",
    "        cdlmarubozu = dfpl.loc[j,\"cdlmarubozu\"]\n",
    "        cdl3whitesoldiers = dfpl.loc[j,\"cdl3whitesoldiers\"]\n",
    "        cdlharami = dfpl.loc[j,\"cdlharami\"]\n",
    "        cdlharamicross = dfpl.loc[j,\"cdlharamicross\"]\n",
    "        cdlinvertdhammer = dfpl.loc[j,\"cdlinvertdhammer\"]\n",
    "        cdlladderbottom = dfpl.loc[j,\"cdlladderbottom\"]\n",
    "\n",
    "        #vela consecutiva alcista\n",
    "        candle_up = (#dfpl.loc[j,\"Vela_Verde\"]==True \n",
    "                     #and dfpl.loc[j-1,\"Vela_Verde\"]==True \n",
    "                     dfpl.loc[j,\"High\"]> dfpl.loc[j-1,\"High\"]\n",
    "                     and dfpl.loc[j-1,\"High\"]> dfpl.loc[j,\"Low\"]\n",
    "                     and dfpl.loc[j,\"Low\"]> dfpl.loc[j-2,\"High\"]\n",
    "                     and dfpl.loc[j-2,\"High\"]> dfpl.loc[j-1,\"Low\"]\n",
    "                     and dfpl.loc[j-1,\"Low\"]> dfpl.loc[j-3,\"High\"]\n",
    "                     and dfpl.loc[j-3,\"High\"]> dfpl.loc[j-2,\"Low\"]\n",
    "                     and dfpl.loc[j-2,\"Low\"]> dfpl.loc[j-3,\"Low\"]\n",
    "                     #and dfpl.loc[j,\"Close\"]> dfpl.loc[j-1,\"High\"] \n",
    "                     #and dfpl.loc[j-1,\"Close\"]>dfpl.loc[j-2,\"High\"]\n",
    "                     #and dfpl.loc[j-1,\"Close\"]>dfpl.loc[j-3,\"High\"] \n",
    "                    )\n",
    "\n",
    "        if (candle_up==True and close>lineTrend):\n",
    "            ind_vela=ind_vela+1\n",
    "        #vela sea verde, que tenga volumen, que tenga cuerpo y que este por encima de la linea trend\n",
    "        #if (vela_Verde==True and promVol<=vol and above_Third==True and close>=lineTrend):\n",
    "        #    ind_vela=ind_vela+1\n",
    "        \n",
    "        #vela sea envolvente, alcista y que este por encima de la linea trend\n",
    "        #if (\n",
    "        #    (cdlhammer>0 or\n",
    "        #     cdlmorningstar>0 or\n",
    "        #     cdlpiercing>0 or\n",
    "        #     cdl3whitesoldiers>0 or\n",
    "        #     cdlharami>0 or\n",
    "        #     cdlharamicross>0 or\n",
    "        #     cdlinvertdhammer>0 or\n",
    "        #     cdlladderbottom>0\n",
    "        #    )\n",
    "        #    and promVol<=vol\n",
    "        #    and close>=lineTrend):\n",
    "        #    ind_vela=ind_vela+1\n",
    "\n",
    "        #vela sea envolvente, alcista y que este por encima de la linea trend\n",
    "        #if (\n",
    "        #    (cdlclosingmarubozu>0 or\n",
    "        #     cdlmarubozu>0 or\n",
    "        #     cdlengulfing>0 or\n",
    "        #     cdlhammer>0\n",
    "        #    )\n",
    "        #    #and promVol<=vol\n",
    "        #    and close>=lineTrend):\n",
    "        #    ind_vela=ind_vela+1 \n",
    "            \n",
    "        j=j+1\n",
    "    \n",
    "    return 1 #1 para mostrar todo ind_vela para que funcione el filtro"
   ]
  },
  {
   "cell_type": "code",
   "execution_count": 12,
   "id": "d994f943-5fc5-43c7-9604-84976d99a911",
   "metadata": {
    "execution": {
     "iopub.execute_input": "2025-06-11T18:51:04.632544Z",
     "iopub.status.busy": "2025-06-11T18:51:04.632338Z",
     "iopub.status.idle": "2025-06-11T18:54:26.795501Z",
     "shell.execute_reply": "2025-06-11T18:54:26.794909Z"
    },
    "papermill": {
     "duration": 202.168863,
     "end_time": "2025-06-11T18:54:26.796421",
     "exception": false,
     "start_time": "2025-06-11T18:51:04.627558",
     "status": "completed"
    },
    "tags": []
   },
   "outputs": [
    {
     "name": "stdout",
     "output_type": "stream",
     "text": [
      "===posible caso: 88 SPY\n",
      "===posible caso: 164 SPY\n"
     ]
    },
    {
     "name": "stdout",
     "output_type": "stream",
     "text": [
      "h1\n",
      "164 SPY\n",
      "===posible caso: 208 SPY\n",
      "h1\n",
      "208 SPY\n",
      "===posible caso: 226 SPY\n"
     ]
    },
    {
     "name": "stdout",
     "output_type": "stream",
     "text": [
      "h2\n",
      "h4\n",
      "h1\n",
      "226 SPY\n",
      "===posible caso: 250 SPY\n",
      "===posible caso: 276 SPY\n",
      "===posible caso: 296 SPY\n",
      "===posible caso: 388 SPY\n"
     ]
    },
    {
     "name": "stdout",
     "output_type": "stream",
     "text": [
      "h1\n",
      "388 SPY\n",
      "===posible caso: 450 SPY\n",
      "===posible caso: 586 SPY\n"
     ]
    },
    {
     "name": "stdout",
     "output_type": "stream",
     "text": [
      "h1\n",
      "586 SPY\n",
      "===posible caso: 753 SPY\n",
      "===posible caso: 830 SPY\n"
     ]
    },
    {
     "name": "stdout",
     "output_type": "stream",
     "text": [
      "===posible caso: 890 SPY\n",
      "===posible caso: 919 SPY\n"
     ]
    },
    {
     "name": "stdout",
     "output_type": "stream",
     "text": [
      "h1\n",
      "919 SPY\n",
      "===posible caso: 955 SPY\n",
      "h1\n",
      "955 SPY\n",
      "===posible caso: 1025 SPY\n"
     ]
    },
    {
     "name": "stdout",
     "output_type": "stream",
     "text": [
      "===posible caso: 1103 SPY\n",
      "h1\n",
      "1103 SPY\n",
      "===posible caso: 1163 SPY\n"
     ]
    },
    {
     "name": "stdout",
     "output_type": "stream",
     "text": [
      "h1\n",
      "1163 SPY\n",
      "===posible caso: 1193 SPY\n",
      "===posible caso: 1217 SPY\n",
      "===posible caso: 1264 SPY\n",
      "h1\n",
      "1264 SPY\n",
      "===posible caso: 1287 SPY\n"
     ]
    },
    {
     "name": "stdout",
     "output_type": "stream",
     "text": [
      "h1\n",
      "1287 SPY\n",
      "===posible caso: 1311 SPY\n",
      "===posible caso: 1352 SPY\n",
      "===posible caso: 1535 SPY\n"
     ]
    },
    {
     "name": "stdout",
     "output_type": "stream",
     "text": [
      "h1\n",
      "1535 SPY\n",
      "===posible caso: 1638 SPY\n",
      "h1\n",
      "1638 SPY\n",
      "===posible caso: 1749 SPY\n"
     ]
    },
    {
     "name": "stdout",
     "output_type": "stream",
     "text": [
      "h1\n",
      "1749 SPY\n",
      "===posible caso: 1784 SPY\n",
      "===posible caso: 1826 SPY\n",
      "===posible caso: 1905 SPY\n"
     ]
    },
    {
     "name": "stdout",
     "output_type": "stream",
     "text": [
      "===posible caso: 1935 SPY\n",
      "===posible caso: 1958 SPY\n",
      "===posible caso: 2095 SPY\n"
     ]
    },
    {
     "name": "stdout",
     "output_type": "stream",
     "text": [
      "===posible caso: 2225 SPY\n",
      "h1\n",
      "2225 SPY\n",
      "===posible caso: 2276 SPY\n"
     ]
    },
    {
     "name": "stdout",
     "output_type": "stream",
     "text": [
      "===posible caso: 2345 SPY\n",
      "h1\n",
      "2345 SPY\n",
      "===posible caso: 2372 SPY\n"
     ]
    },
    {
     "name": "stdout",
     "output_type": "stream",
     "text": [
      "h1\n",
      "2372 SPY\n",
      "===posible caso: 2403 SPY\n",
      "===posible caso: 2425 SPY\n",
      "===posible caso: 2477 SPY\n"
     ]
    },
    {
     "name": "stdout",
     "output_type": "stream",
     "text": [
      "h1\n",
      "2477 SPY\n",
      "===posible caso: 2602 SPY\n",
      "h1\n",
      "2602 SPY\n",
      "===posible caso: 2647 SPY\n"
     ]
    },
    {
     "name": "stdout",
     "output_type": "stream",
     "text": [
      "===posible caso: 2694 SPY\n",
      "===posible caso: 2816 SPY\n",
      "h1\n",
      "2816 SPY\n",
      "===posible caso: 2852 SPY\n",
      "===posible caso: 2884 SPY\n",
      "===posible caso: 2940 SPY\n"
     ]
    },
    {
     "name": "stdout",
     "output_type": "stream",
     "text": [
      "===posible caso: 3065 SPY\n",
      "===posible caso: 3102 SPY\n",
      "===posible caso: 3296 SPY\n"
     ]
    },
    {
     "name": "stdout",
     "output_type": "stream",
     "text": [
      "===posible caso: 3371 SPY\n",
      "h1\n",
      "3371 SPY\n",
      "===posible caso: 3536 SPY\n"
     ]
    },
    {
     "name": "stdout",
     "output_type": "stream",
     "text": [
      "h3\n",
      "h4\n",
      "h3\n",
      "h4\n",
      "h3\n",
      "h4\n",
      "h3\n",
      "h4\n",
      "3536 SPY\n",
      "===posible caso: 3608 META\n",
      "===posible caso: 3635 META\n"
     ]
    },
    {
     "name": "stdout",
     "output_type": "stream",
     "text": [
      "===posible caso: 3680 META\n",
      "===posible caso: 3706 META\n"
     ]
    },
    {
     "name": "stdout",
     "output_type": "stream",
     "text": [
      "===posible caso: 3760 META\n",
      "===posible caso: 3802 META\n"
     ]
    },
    {
     "name": "stdout",
     "output_type": "stream",
     "text": [
      "h1\n",
      "3802 META\n",
      "===posible caso: 3837 META\n",
      "===posible caso: 3922 META\n",
      "===posible caso: 3969 META\n",
      "h1\n",
      "3969 META\n",
      "===posible caso: 3991 META\n"
     ]
    },
    {
     "name": "stdout",
     "output_type": "stream",
     "text": [
      "h1\n",
      "3991 META\n",
      "===posible caso: 4062 META\n",
      "===posible caso: 4127 META\n",
      "h1\n",
      "4127 META\n",
      "===posible caso: 4152 META\n"
     ]
    },
    {
     "name": "stdout",
     "output_type": "stream",
     "text": [
      "h1\n",
      "4152 META\n",
      "===posible caso: 4181 META\n",
      "===posible caso: 4291 META\n",
      "===posible caso: 4331 META\n"
     ]
    },
    {
     "name": "stdout",
     "output_type": "stream",
     "text": [
      "===posible caso: 4495 META\n",
      "h1\n",
      "4495 META\n",
      "===posible caso: 4563 META\n"
     ]
    },
    {
     "name": "stdout",
     "output_type": "stream",
     "text": [
      "===posible caso: 4639 META\n",
      "===posible caso: 4662 META\n"
     ]
    },
    {
     "name": "stdout",
     "output_type": "stream",
     "text": [
      "h1\n",
      "4662 META\n",
      "===posible caso: 4703 META\n",
      "h1\n",
      "4703 META\n",
      "===posible caso: 4726 META\n",
      "===posible caso: 4802 META\n"
     ]
    },
    {
     "name": "stdout",
     "output_type": "stream",
     "text": [
      "h1\n",
      "4802 META\n",
      "===posible caso: 4828 META\n",
      "h1\n",
      "4828 META\n",
      "===posible caso: 4893 META\n",
      "===posible caso: 4963 META\n"
     ]
    },
    {
     "name": "stdout",
     "output_type": "stream",
     "text": [
      "===posible caso: 5025 META\n",
      "h1\n",
      "5025 META\n",
      "===posible caso: 5142 META\n"
     ]
    },
    {
     "name": "stdout",
     "output_type": "stream",
     "text": [
      "===posible caso: 5219 META\n",
      "h1\n",
      "5219 META\n",
      "===posible caso: 5262 META\n",
      "===posible caso: 5293 META\n"
     ]
    },
    {
     "name": "stdout",
     "output_type": "stream",
     "text": [
      "h1\n",
      "5293 META\n",
      "===posible caso: 5315 META\n",
      "h1\n",
      "5315 META\n",
      "===posible caso: 5360 META\n",
      "===posible caso: 5397 META\n",
      "===posible caso: 5416 META\n"
     ]
    },
    {
     "name": "stdout",
     "output_type": "stream",
     "text": [
      "h1\n",
      "5416 META\n",
      "===posible caso: 5476 META\n",
      "===posible caso: 5524 META\n",
      "===posible caso: 5596 META\n",
      "h1\n",
      "5596 META\n",
      "===posible caso: 5666 META\n"
     ]
    },
    {
     "name": "stdout",
     "output_type": "stream",
     "text": [
      "h1\n",
      "5666 META\n",
      "===posible caso: 5794 META\n",
      "h2\n",
      "h4\n",
      "h2\n",
      "h4\n",
      "h1\n",
      "5794 META\n",
      "===posible caso: 5846 META\n"
     ]
    },
    {
     "name": "stdout",
     "output_type": "stream",
     "text": [
      "===posible caso: 5967 META\n",
      "===posible caso: 6012 META\n",
      "===posible caso: 6146 META\n"
     ]
    },
    {
     "name": "stdout",
     "output_type": "stream",
     "text": [
      "h1\n",
      "6146 META\n",
      "===posible caso: 6166 META\n",
      "===posible caso: 6228 META\n",
      "===posible caso: 6278 META\n"
     ]
    },
    {
     "name": "stdout",
     "output_type": "stream",
     "text": [
      "===posible caso: 6296 META\n",
      "===posible caso: 6384 META\n"
     ]
    },
    {
     "name": "stdout",
     "output_type": "stream",
     "text": [
      "===posible caso: 6429 META\n",
      "h1\n",
      "6429 META\n",
      "===posible caso: 6466 META\n"
     ]
    },
    {
     "name": "stdout",
     "output_type": "stream",
     "text": [
      "h1\n",
      "6466 META\n",
      "===posible caso: 6512 META\n",
      "===posible caso: 6644 META\n"
     ]
    },
    {
     "name": "stdout",
     "output_type": "stream",
     "text": [
      "===posible caso: 6688 META\n",
      "===posible caso: 6836 META\n"
     ]
    },
    {
     "name": "stdout",
     "output_type": "stream",
     "text": [
      "h1\n",
      "6836 META\n",
      "===posible caso: 6882 META\n",
      "===posible caso: 6924 META\n"
     ]
    },
    {
     "name": "stdout",
     "output_type": "stream",
     "text": [
      "===posible caso: 7002 META\n",
      "h1\n",
      "7002 META\n",
      "===posible caso: 7023 META\n"
     ]
    },
    {
     "name": "stdout",
     "output_type": "stream",
     "text": [
      "h1\n",
      "7023 META\n",
      "===posible caso: 7070 META\n",
      "===posible caso: 7167 AAPL\n"
     ]
    },
    {
     "name": "stdout",
     "output_type": "stream",
     "text": [
      "h1\n",
      "7167 AAPL\n",
      "===posible caso: 7188 AAPL\n",
      "h1\n",
      "7188 AAPL\n",
      "===posible caso: 7246 AAPL\n"
     ]
    },
    {
     "name": "stdout",
     "output_type": "stream",
     "text": [
      "h1\n",
      "7246 AAPL\n",
      "===posible caso: 7303 AAPL\n",
      "===posible caso: 7353 AAPL\n"
     ]
    },
    {
     "name": "stdout",
     "output_type": "stream",
     "text": [
      "h1\n",
      "7353 AAPL\n",
      "===posible caso: 7421 AAPL\n",
      "===posible caso: 7476 AAPL\n",
      "h1\n",
      "7476 AAPL\n",
      "===posible caso: 7546 AAPL\n",
      "===posible caso: 7572 AAPL\n"
     ]
    },
    {
     "name": "stdout",
     "output_type": "stream",
     "text": [
      "h1\n",
      "7572 AAPL\n",
      "===posible caso: 7663 AAPL\n",
      "h1\n",
      "7663 AAPL\n",
      "===posible caso: 7722 AAPL\n",
      "===posible caso: 7867 AAPL\n"
     ]
    },
    {
     "name": "stdout",
     "output_type": "stream",
     "text": [
      "h1\n",
      "7867 AAPL\n",
      "===posible caso: 7942 AAPL\n",
      "===posible caso: 7965 AAPL\n"
     ]
    },
    {
     "name": "stdout",
     "output_type": "stream",
     "text": [
      "===posible caso: 8028 AAPL\n",
      "===posible caso: 8090 AAPL\n",
      "===posible caso: 8147 AAPL\n"
     ]
    },
    {
     "name": "stdout",
     "output_type": "stream",
     "text": [
      "===posible caso: 8217 AAPL\n",
      "===posible caso: 8383 AAPL\n",
      "===posible caso: 8426 AAPL\n",
      "===posible caso: 8532 AAPL\n",
      "===posible caso: 8612 AAPL\n"
     ]
    },
    {
     "name": "stdout",
     "output_type": "stream",
     "text": [
      "h1\n",
      "8612 AAPL\n",
      "===posible caso: 8641 AAPL\n",
      "===posible caso: 8728 AAPL\n"
     ]
    },
    {
     "name": "stdout",
     "output_type": "stream",
     "text": [
      "h1\n",
      "8728 AAPL\n",
      "===posible caso: 8830 AAPL\n",
      "h1\n",
      "8830 AAPL\n",
      "===posible caso: 8851 AAPL\n"
     ]
    },
    {
     "name": "stdout",
     "output_type": "stream",
     "text": [
      "h1\n",
      "8851 AAPL\n",
      "===posible caso: 8970 AAPL\n",
      "===posible caso: 9070 AAPL\n"
     ]
    },
    {
     "name": "stdout",
     "output_type": "stream",
     "text": [
      "h1\n",
      "9070 AAPL\n",
      "===posible caso: 9273 AAPL\n",
      "===posible caso: 9310 AAPL\n",
      "===posible caso: 9353 AAPL\n",
      "===posible caso: 9400 AAPL\n",
      "===posible caso: 9424 AAPL\n"
     ]
    },
    {
     "name": "stdout",
     "output_type": "stream",
     "text": [
      "===posible caso: 9458 AAPL\n",
      "===posible caso: 9549 AAPL\n",
      "===posible caso: 9601 AAPL\n"
     ]
    },
    {
     "name": "stdout",
     "output_type": "stream",
     "text": [
      "h1\n",
      "9601 AAPL\n",
      "===posible caso: 9701 AAPL\n",
      "h1\n",
      "9701 AAPL\n",
      "===posible caso: 9771 AAPL\n"
     ]
    },
    {
     "name": "stdout",
     "output_type": "stream",
     "text": [
      "===posible caso: 9809 AAPL\n",
      "===posible caso: 9850 AAPL\n",
      "===posible caso: 9927 AAPL\n",
      "===posible caso: 10041 AAPL\n"
     ]
    },
    {
     "name": "stdout",
     "output_type": "stream",
     "text": [
      "h1\n",
      "10041 AAPL\n",
      "===posible caso: 10069 AAPL\n",
      "===posible caso: 10151 AAPL\n",
      "===posible caso: 10198 AAPL\n"
     ]
    },
    {
     "name": "stdout",
     "output_type": "stream",
     "text": [
      "h1\n",
      "10198 AAPL\n",
      "===posible caso: 10281 AAPL\n",
      "===posible caso: 10366 AAPL\n"
     ]
    },
    {
     "name": "stdout",
     "output_type": "stream",
     "text": [
      "===posible caso: 10424 AAPL\n",
      "h1\n",
      "10424 AAPL\n",
      "===posible caso: 10527 AAPL\n"
     ]
    },
    {
     "name": "stdout",
     "output_type": "stream",
     "text": [
      "===posible caso: 10669 AMZN\n",
      "h1\n",
      "10669 AMZN\n",
      "===posible caso: 10724 AMZN\n"
     ]
    },
    {
     "name": "stdout",
     "output_type": "stream",
     "text": [
      "===posible caso: 10757 AMZN\n",
      "===posible caso: 10782 AMZN\n",
      "===posible caso: 10839 AMZN\n"
     ]
    },
    {
     "name": "stdout",
     "output_type": "stream",
     "text": [
      "===posible caso: 11001 AMZN\n",
      "h1\n",
      "11001 AMZN\n",
      "===posible caso: 11061 AMZN\n"
     ]
    },
    {
     "name": "stdout",
     "output_type": "stream",
     "text": [
      "===posible caso: 11108 AMZN\n",
      "===posible caso: 11199 AMZN\n",
      "h1\n",
      "11199 AMZN\n",
      "===posible caso: 11216 AMZN\n"
     ]
    },
    {
     "name": "stdout",
     "output_type": "stream",
     "text": [
      "===posible caso: 11327 AMZN\n",
      "===posible caso: 11358 AMZN\n"
     ]
    },
    {
     "name": "stdout",
     "output_type": "stream",
     "text": [
      "===posible caso: 11413 AMZN\n",
      "===posible caso: 11452 AMZN\n"
     ]
    },
    {
     "name": "stdout",
     "output_type": "stream",
     "text": [
      "===posible caso: 11478 AMZN\n",
      "===posible caso: 11529 AMZN\n"
     ]
    },
    {
     "name": "stdout",
     "output_type": "stream",
     "text": [
      "===posible caso: 11631 AMZN\n",
      "===posible caso: 11710 AMZN\n"
     ]
    },
    {
     "name": "stdout",
     "output_type": "stream",
     "text": [
      "h1\n",
      "11710 AMZN\n",
      "===posible caso: 11734 AMZN\n",
      "===posible caso: 11771 AMZN\n",
      "===posible caso: 11837 AMZN\n"
     ]
    },
    {
     "name": "stdout",
     "output_type": "stream",
     "text": [
      "h1\n",
      "11837 AMZN\n",
      "===posible caso: 11872 AMZN\n",
      "h1\n",
      "11872 AMZN\n",
      "===posible caso: 11932 AMZN\n",
      "===posible caso: 11977 AMZN\n"
     ]
    },
    {
     "name": "stdout",
     "output_type": "stream",
     "text": [
      "===posible caso: 11999 AMZN\n",
      "===posible caso: 12040 AMZN\n"
     ]
    },
    {
     "name": "stdout",
     "output_type": "stream",
     "text": [
      "===posible caso: 12066 AMZN\n",
      "===posible caso: 12204 AMZN\n"
     ]
    },
    {
     "name": "stdout",
     "output_type": "stream",
     "text": [
      "h1\n",
      "12204 AMZN\n",
      "===posible caso: 12292 AMZN\n",
      "===posible caso: 12363 AMZN\n",
      "===posible caso: 12435 AMZN\n"
     ]
    },
    {
     "name": "stdout",
     "output_type": "stream",
     "text": [
      "h1\n",
      "12435 AMZN\n",
      "===posible caso: 12465 AMZN\n",
      "h1\n",
      "12465 AMZN\n",
      "===posible caso: 12481 AMZN\n"
     ]
    },
    {
     "name": "stdout",
     "output_type": "stream",
     "text": [
      "===posible caso: 12596 AMZN\n",
      "===posible caso: 12694 AMZN\n",
      "h1\n",
      "12694 AMZN\n",
      "===posible caso: 12764 AMZN\n"
     ]
    },
    {
     "name": "stdout",
     "output_type": "stream",
     "text": [
      "===posible caso: 12861 AMZN\n",
      "h1\n",
      "12861 AMZN\n",
      "===posible caso: 12946 AMZN\n",
      "===posible caso: 12999 AMZN\n"
     ]
    },
    {
     "name": "stdout",
     "output_type": "stream",
     "text": [
      "===posible caso: 13016 AMZN\n",
      "===posible caso: 13052 AMZN\n"
     ]
    },
    {
     "name": "stdout",
     "output_type": "stream",
     "text": [
      "===posible caso: 13080 AMZN\n",
      "===posible caso: 13113 AMZN\n"
     ]
    },
    {
     "name": "stdout",
     "output_type": "stream",
     "text": [
      "h1\n",
      "13113 AMZN\n",
      "===posible caso: 13141 AMZN\n",
      "===posible caso: 13238 AMZN\n"
     ]
    },
    {
     "name": "stdout",
     "output_type": "stream",
     "text": [
      "===posible caso: 13263 AMZN\n",
      "===posible caso: 13444 AMZN\n"
     ]
    },
    {
     "name": "stdout",
     "output_type": "stream",
     "text": [
      "===posible caso: 13478 AMZN\n",
      "===posible caso: 13584 AMZN\n"
     ]
    },
    {
     "name": "stdout",
     "output_type": "stream",
     "text": [
      "===posible caso: 13622 AMZN\n",
      "===posible caso: 13654 AMZN\n",
      "===posible caso: 13721 AMZN\n"
     ]
    },
    {
     "name": "stdout",
     "output_type": "stream",
     "text": [
      "===posible caso: 13874 AMZN\n",
      "h1\n",
      "13874 AMZN\n",
      "===posible caso: 13953 AMZN\n"
     ]
    },
    {
     "name": "stdout",
     "output_type": "stream",
     "text": [
      "h1\n",
      "13953 AMZN\n",
      "===posible caso: 13984 AMZN\n",
      "===posible caso: 14030 AMZN\n",
      "===posible caso: 14051 AMZN\n"
     ]
    },
    {
     "name": "stdout",
     "output_type": "stream",
     "text": [
      "===posible caso: 14116 AMZN\n",
      "===posible caso: 14248 NFLX\n"
     ]
    },
    {
     "name": "stdout",
     "output_type": "stream",
     "text": [
      "===posible caso: 14318 NFLX\n",
      "h1\n",
      "14318 NFLX\n",
      "===posible caso: 14345 NFLX\n",
      "===posible caso: 14377 NFLX\n"
     ]
    },
    {
     "name": "stdout",
     "output_type": "stream",
     "text": [
      "h1\n",
      "14377 NFLX\n",
      "===posible caso: 14548 NFLX\n",
      "h1\n",
      "14548 NFLX\n",
      "===posible caso: 14648 NFLX\n",
      "===posible caso: 14720 NFLX\n",
      "===posible caso: 14752 NFLX\n"
     ]
    },
    {
     "name": "stdout",
     "output_type": "stream",
     "text": [
      "h1\n",
      "14752 NFLX\n",
      "===posible caso: 14796 NFLX\n",
      "===posible caso: 14936 NFLX\n"
     ]
    },
    {
     "name": "stdout",
     "output_type": "stream",
     "text": [
      "h1\n",
      "14936 NFLX\n",
      "===posible caso: 14963 NFLX\n",
      "h1\n",
      "14963 NFLX\n",
      "===posible caso: 15068 NFLX\n"
     ]
    },
    {
     "name": "stdout",
     "output_type": "stream",
     "text": [
      "h1\n",
      "15068 NFLX\n",
      "===posible caso: 15097 NFLX\n",
      "===posible caso: 15171 NFLX\n"
     ]
    },
    {
     "name": "stdout",
     "output_type": "stream",
     "text": [
      "===posible caso: 15235 NFLX\n",
      "===posible caso: 15290 NFLX\n"
     ]
    },
    {
     "name": "stdout",
     "output_type": "stream",
     "text": [
      "h1\n",
      "15290 NFLX\n",
      "===posible caso: 15337 NFLX\n",
      "===posible caso: 15385 NFLX\n"
     ]
    },
    {
     "name": "stdout",
     "output_type": "stream",
     "text": [
      "h1\n",
      "15385 NFLX\n",
      "===posible caso: 15408 NFLX\n",
      "h1\n",
      "15408 NFLX\n",
      "===posible caso: 15454 NFLX\n",
      "===posible caso: 15479 NFLX\n"
     ]
    },
    {
     "name": "stdout",
     "output_type": "stream",
     "text": [
      "===posible caso: 15524 NFLX\n",
      "h1\n",
      "15524 NFLX\n",
      "===posible caso: 15565 NFLX\n",
      "===posible caso: 15658 NFLX\n"
     ]
    },
    {
     "name": "stdout",
     "output_type": "stream",
     "text": [
      "h1\n",
      "15658 NFLX\n",
      "===posible caso: 15732 NFLX\n",
      "===posible caso: 15799 NFLX\n"
     ]
    },
    {
     "name": "stdout",
     "output_type": "stream",
     "text": [
      "===posible caso: 15830 NFLX\n",
      "===posible caso: 15946 NFLX\n"
     ]
    },
    {
     "name": "stdout",
     "output_type": "stream",
     "text": [
      "===posible caso: 16042 NFLX\n",
      "===posible caso: 16132 NFLX\n"
     ]
    },
    {
     "name": "stdout",
     "output_type": "stream",
     "text": [
      "h1\n",
      "16132 NFLX\n",
      "===posible caso: 16223 NFLX\n",
      "===posible caso: 16371 NFLX\n"
     ]
    },
    {
     "name": "stdout",
     "output_type": "stream",
     "text": [
      "===posible caso: 16400 NFLX\n",
      "===posible caso: 16478 NFLX\n"
     ]
    },
    {
     "name": "stdout",
     "output_type": "stream",
     "text": [
      "h1\n",
      "16478 NFLX\n",
      "===posible caso: 16530 NFLX\n",
      "===posible caso: 16552 NFLX\n"
     ]
    },
    {
     "name": "stdout",
     "output_type": "stream",
     "text": [
      "===posible caso: 16571 NFLX\n",
      "===posible caso: 16687 NFLX\n",
      "h1\n",
      "16687 NFLX\n",
      "===posible caso: 16775 NFLX\n"
     ]
    },
    {
     "name": "stdout",
     "output_type": "stream",
     "text": [
      "===posible caso: 16801 NFLX\n",
      "===posible caso: 16963 NFLX\n"
     ]
    },
    {
     "name": "stdout",
     "output_type": "stream",
     "text": [
      "h1\n",
      "16963 NFLX\n",
      "===posible caso: 17046 NFLX\n",
      "h1\n",
      "17046 NFLX\n",
      "===posible caso: 17074 NFLX\n"
     ]
    },
    {
     "name": "stdout",
     "output_type": "stream",
     "text": [
      "h1\n",
      "17074 NFLX\n",
      "===posible caso: 17213 NFLX\n",
      "h1\n",
      "17213 NFLX\n",
      "===posible caso: 17230 NFLX\n"
     ]
    },
    {
     "name": "stdout",
     "output_type": "stream",
     "text": [
      "===posible caso: 17257 NFLX\n",
      "===posible caso: 17358 NFLX\n"
     ]
    },
    {
     "name": "stdout",
     "output_type": "stream",
     "text": [
      "h2\n",
      "h4\n",
      "h2\n",
      "h4\n",
      "h1\n",
      "17358 NFLX\n",
      "===posible caso: 17445 NFLX\n",
      "===posible caso: 17461 NFLX\n"
     ]
    },
    {
     "name": "stdout",
     "output_type": "stream",
     "text": [
      "===posible caso: 17515 NFLX\n",
      "===posible caso: 17532 NFLX\n"
     ]
    },
    {
     "name": "stdout",
     "output_type": "stream",
     "text": [
      "===posible caso: 17561 NFLX\n",
      "===posible caso: 17616 NFLX\n"
     ]
    },
    {
     "name": "stdout",
     "output_type": "stream",
     "text": [
      "===posible caso: 17743 MRNA\n",
      "===posible caso: 17779 MRNA\n",
      "===posible caso: 17821 MRNA\n",
      "===posible caso: 17858 MRNA\n",
      "===posible caso: 17961 MRNA\n"
     ]
    },
    {
     "name": "stdout",
     "output_type": "stream",
     "text": [
      "h1\n",
      "17961 MRNA\n",
      "===posible caso: 18022 MRNA\n",
      "h1\n",
      "18022 MRNA\n",
      "===posible caso: 18045 MRNA\n"
     ]
    },
    {
     "name": "stdout",
     "output_type": "stream",
     "text": [
      "h1\n",
      "18045 MRNA\n",
      "===posible caso: 18064 MRNA\n",
      "===posible caso: 18139 MRNA\n",
      "===posible caso: 18209 MRNA\n",
      "===posible caso: 18258 MRNA\n",
      "===posible caso: 18386 MRNA\n",
      "===posible caso: 18437 MRNA\n",
      "===posible caso: 18462 MRNA\n"
     ]
    },
    {
     "name": "stdout",
     "output_type": "stream",
     "text": [
      "===posible caso: 18479 MRNA\n",
      "h1\n",
      "18479 MRNA\n",
      "===posible caso: 18496 MRNA\n"
     ]
    },
    {
     "name": "stdout",
     "output_type": "stream",
     "text": [
      "===posible caso: 18532 MRNA\n",
      "h1\n",
      "18532 MRNA\n",
      "===posible caso: 18556 MRNA\n"
     ]
    },
    {
     "name": "stdout",
     "output_type": "stream",
     "text": [
      "===posible caso: 18652 MRNA\n",
      "h1\n",
      "18652 MRNA\n",
      "===posible caso: 18682 MRNA\n"
     ]
    },
    {
     "name": "stdout",
     "output_type": "stream",
     "text": [
      "===posible caso: 18779 MRNA\n",
      "===posible caso: 18899 MRNA\n"
     ]
    },
    {
     "name": "stdout",
     "output_type": "stream",
     "text": [
      "===posible caso: 18923 MRNA\n",
      "===posible caso: 18979 MRNA\n"
     ]
    },
    {
     "name": "stdout",
     "output_type": "stream",
     "text": [
      "===posible caso: 19014 MRNA\n",
      "===posible caso: 19065 MRNA\n"
     ]
    },
    {
     "name": "stdout",
     "output_type": "stream",
     "text": [
      "===posible caso: 19101 MRNA\n",
      "===posible caso: 19119 MRNA\n",
      "===posible caso: 19196 MRNA\n",
      "===posible caso: 19243 MRNA\n"
     ]
    },
    {
     "name": "stdout",
     "output_type": "stream",
     "text": [
      "===posible caso: 19352 MRNA\n",
      "===posible caso: 19408 MRNA\n",
      "===posible caso: 19438 MRNA\n"
     ]
    },
    {
     "name": "stdout",
     "output_type": "stream",
     "text": [
      "===posible caso: 19541 MRNA\n",
      "===posible caso: 19570 MRNA\n",
      "h1\n",
      "19570 MRNA\n",
      "===posible caso: 19588 MRNA\n"
     ]
    },
    {
     "name": "stdout",
     "output_type": "stream",
     "text": [
      "===posible caso: 19653 MRNA\n",
      "h1\n",
      "19653 MRNA\n",
      "===posible caso: 19753 MRNA\n"
     ]
    },
    {
     "name": "stdout",
     "output_type": "stream",
     "text": [
      "===posible caso: 19862 MRNA\n",
      "===posible caso: 19893 MRNA\n",
      "===posible caso: 19955 MRNA\n",
      "===posible caso: 20076 MRNA\n",
      "===posible caso: 20102 MRNA\n"
     ]
    },
    {
     "name": "stdout",
     "output_type": "stream",
     "text": [
      "===posible caso: 20236 MRNA\n",
      "===posible caso: 20264 MRNA\n"
     ]
    },
    {
     "name": "stdout",
     "output_type": "stream",
     "text": [
      "===posible caso: 20294 MRNA\n",
      "===posible caso: 20336 MRNA\n",
      "===posible caso: 20427 MRNA\n",
      "h1\n",
      "20427 MRNA\n",
      "===posible caso: 20462 MRNA\n"
     ]
    },
    {
     "name": "stdout",
     "output_type": "stream",
     "text": [
      "h1\n",
      "20462 MRNA\n",
      "===posible caso: 20520 MRNA\n",
      "h1\n",
      "20520 MRNA\n",
      "===posible caso: 20619 MRNA\n"
     ]
    },
    {
     "name": "stdout",
     "output_type": "stream",
     "text": [
      "===posible caso: 20710 MRNA\n",
      "===posible caso: 20968 MRNA\n"
     ]
    },
    {
     "name": "stdout",
     "output_type": "stream",
     "text": [
      "===posible caso: 21061 MRNA\n",
      "===posible caso: 21125 MRNA\n",
      "===posible caso: 21183 MRNA\n"
     ]
    },
    {
     "name": "stdout",
     "output_type": "stream",
     "text": [
      "===posible caso: 21321 TSLA\n",
      "===posible caso: 21386 TSLA\n"
     ]
    },
    {
     "name": "stdout",
     "output_type": "stream",
     "text": [
      "h1\n",
      "21386 TSLA\n",
      "===posible caso: 21417 TSLA\n",
      "h1\n",
      "21417 TSLA\n",
      "===posible caso: 21471 TSLA\n"
     ]
    },
    {
     "name": "stdout",
     "output_type": "stream",
     "text": [
      "h1\n",
      "21471 TSLA\n",
      "===posible caso: 21597 TSLA\n",
      "===posible caso: 21649 TSLA\n"
     ]
    },
    {
     "name": "stdout",
     "output_type": "stream",
     "text": [
      "===posible caso: 21671 TSLA\n",
      "h1\n",
      "21671 TSLA\n",
      "===posible caso: 21774 TSLA\n"
     ]
    },
    {
     "name": "stdout",
     "output_type": "stream",
     "text": [
      "===posible caso: 21792 TSLA\n",
      "===posible caso: 21828 TSLA\n"
     ]
    },
    {
     "name": "stdout",
     "output_type": "stream",
     "text": [
      "===posible caso: 21861 TSLA\n",
      "===posible caso: 21917 TSLA\n",
      "===posible caso: 21936 TSLA\n",
      "===posible caso: 21974 TSLA\n",
      "===posible caso: 22032 TSLA\n"
     ]
    },
    {
     "name": "stdout",
     "output_type": "stream",
     "text": [
      "===posible caso: 22137 TSLA\n",
      "h1\n",
      "22137 TSLA\n",
      "===posible caso: 22168 TSLA\n",
      "===posible caso: 22219 TSLA\n",
      "===posible caso: 22293 TSLA\n",
      "===posible caso: 22319 TSLA\n"
     ]
    },
    {
     "name": "stdout",
     "output_type": "stream",
     "text": [
      "===posible caso: 22381 TSLA\n",
      "h1\n",
      "22381 TSLA\n",
      "===posible caso: 22411 TSLA\n",
      "===posible caso: 22460 TSLA\n"
     ]
    },
    {
     "name": "stdout",
     "output_type": "stream",
     "text": [
      "h1\n",
      "22460 TSLA\n",
      "===posible caso: 22476 TSLA\n",
      "h1\n",
      "22476 TSLA\n",
      "===posible caso: 22515 TSLA\n",
      "===posible caso: 22570 TSLA\n",
      "===posible caso: 22655 TSLA\n"
     ]
    },
    {
     "name": "stdout",
     "output_type": "stream",
     "text": [
      "===posible caso: 22755 TSLA\n",
      "h1\n",
      "22755 TSLA\n",
      "===posible caso: 22871 TSLA\n"
     ]
    },
    {
     "name": "stdout",
     "output_type": "stream",
     "text": [
      "===posible caso: 22996 TSLA\n",
      "h1\n",
      "22996 TSLA\n",
      "===posible caso: 23099 TSLA\n"
     ]
    },
    {
     "name": "stdout",
     "output_type": "stream",
     "text": [
      "h1\n",
      "23099 TSLA\n",
      "===posible caso: 23183 TSLA\n",
      "===posible caso: 23306 TSLA\n"
     ]
    },
    {
     "name": "stdout",
     "output_type": "stream",
     "text": [
      "h1\n",
      "23306 TSLA\n",
      "===posible caso: 23372 TSLA\n",
      "===posible caso: 23497 TSLA\n"
     ]
    },
    {
     "name": "stdout",
     "output_type": "stream",
     "text": [
      "===posible caso: 23525 TSLA\n",
      "h1\n",
      "23525 TSLA\n",
      "===posible caso: 23590 TSLA\n"
     ]
    },
    {
     "name": "stdout",
     "output_type": "stream",
     "text": [
      "===posible caso: 23632 TSLA\n",
      "===posible caso: 23702 TSLA\n"
     ]
    },
    {
     "name": "stdout",
     "output_type": "stream",
     "text": [
      "h1\n",
      "23702 TSLA\n",
      "===posible caso: 23765 TSLA\n",
      "===posible caso: 23880 TSLA\n"
     ]
    },
    {
     "name": "stdout",
     "output_type": "stream",
     "text": [
      "h1\n",
      "23880 TSLA\n",
      "===posible caso: 24012 TSLA\n",
      "h1\n",
      "24012 TSLA\n",
      "===posible caso: 24157 TSLA\n"
     ]
    },
    {
     "name": "stdout",
     "output_type": "stream",
     "text": [
      "===posible caso: 24211 TSLA\n",
      "===posible caso: 24263 TSLA\n",
      "===posible caso: 24280 TSLA\n",
      "===posible caso: 24329 TSLA\n"
     ]
    },
    {
     "name": "stdout",
     "output_type": "stream",
     "text": [
      "===posible caso: 24480 TSLA\n",
      "===posible caso: 24497 TSLA\n",
      "===posible caso: 24516 TSLA\n"
     ]
    },
    {
     "name": "stdout",
     "output_type": "stream",
     "text": [
      "h1\n",
      "24516 TSLA\n",
      "===posible caso: 24599 TSLA\n",
      "h1\n",
      "24599 TSLA\n",
      "===posible caso: 24639 TSLA\n"
     ]
    },
    {
     "name": "stdout",
     "output_type": "stream",
     "text": [
      "h1\n",
      "24639 TSLA\n",
      "===posible caso: 24662 TSLA\n",
      "===posible caso: 24750 TSLA\n",
      "===posible caso: 24848 TNA\n",
      "===posible caso: 24921 TNA\n"
     ]
    },
    {
     "name": "stdout",
     "output_type": "stream",
     "text": [
      "h1\n",
      "24921 TNA\n",
      "===posible caso: 24983 TNA\n",
      "===posible caso: 25007 TNA\n"
     ]
    },
    {
     "name": "stdout",
     "output_type": "stream",
     "text": [
      "h2\n",
      "h4\n",
      "h1\n",
      "25007 TNA\n",
      "===posible caso: 25145 TNA\n",
      "===posible caso: 25329 TNA\n",
      "===posible caso: 25457 TNA\n"
     ]
    },
    {
     "name": "stdout",
     "output_type": "stream",
     "text": [
      "===posible caso: 25509 TNA\n",
      "===posible caso: 25533 TNA\n",
      "===posible caso: 25551 TNA\n"
     ]
    },
    {
     "name": "stdout",
     "output_type": "stream",
     "text": [
      "===posible caso: 25595 TNA\n",
      "===posible caso: 25647 TNA\n"
     ]
    },
    {
     "name": "stdout",
     "output_type": "stream",
     "text": [
      "===posible caso: 25675 TNA\n",
      "h1\n",
      "25675 TNA\n",
      "===posible caso: 25708 TNA\n"
     ]
    },
    {
     "name": "stdout",
     "output_type": "stream",
     "text": [
      "===posible caso: 25756 TNA\n",
      "===posible caso: 25820 TNA\n",
      "===posible caso: 25854 TNA\n"
     ]
    },
    {
     "name": "stdout",
     "output_type": "stream",
     "text": [
      "===posible caso: 25921 TNA\n",
      "===posible caso: 26018 TNA\n"
     ]
    },
    {
     "name": "stdout",
     "output_type": "stream",
     "text": [
      "h1\n",
      "26018 TNA\n",
      "===posible caso: 26044 TNA\n",
      "===posible caso: 26112 TNA\n",
      "===posible caso: 26144 TNA\n"
     ]
    },
    {
     "name": "stdout",
     "output_type": "stream",
     "text": [
      "h1\n",
      "26144 TNA\n",
      "===posible caso: 26265 TNA\n",
      "===posible caso: 26292 TNA\n",
      "h1\n",
      "26292 TNA\n",
      "===posible caso: 26333 TNA\n"
     ]
    },
    {
     "name": "stdout",
     "output_type": "stream",
     "text": [
      "h1\n",
      "26333 TNA\n",
      "===posible caso: 26379 TNA\n",
      "===posible caso: 26395 TNA\n"
     ]
    },
    {
     "name": "stdout",
     "output_type": "stream",
     "text": [
      "===posible caso: 26430 TNA\n",
      "h1\n",
      "26430 TNA\n",
      "===posible caso: 26456 TNA\n"
     ]
    },
    {
     "name": "stdout",
     "output_type": "stream",
     "text": [
      "h1\n",
      "26456 TNA\n",
      "===posible caso: 26536 TNA\n",
      "h1\n",
      "26536 TNA\n",
      "===posible caso: 26556 TNA\n"
     ]
    },
    {
     "name": "stdout",
     "output_type": "stream",
     "text": [
      "===posible caso: 26662 TNA\n",
      "h1\n",
      "26662 TNA\n",
      "===posible caso: 26718 TNA\n"
     ]
    },
    {
     "name": "stdout",
     "output_type": "stream",
     "text": [
      "h1\n",
      "26718 TNA\n",
      "===posible caso: 26738 TNA\n"
     ]
    },
    {
     "name": "stdout",
     "output_type": "stream",
     "text": [
      "h1\n",
      "26738 TNA\n",
      "===posible caso: 26859 TNA\n",
      "===posible caso: 26883 TNA\n"
     ]
    },
    {
     "name": "stdout",
     "output_type": "stream",
     "text": [
      "===posible caso: 26984 TNA\n",
      "===posible caso: 27113 TNA\n"
     ]
    },
    {
     "name": "stdout",
     "output_type": "stream",
     "text": [
      "h1\n",
      "27113 TNA\n",
      "===posible caso: 27181 TNA\n",
      "===posible caso: 27307 TNA\n",
      "===posible caso: 27336 TNA\n"
     ]
    },
    {
     "name": "stdout",
     "output_type": "stream",
     "text": [
      "h2\n",
      "h4\n",
      "h1\n",
      "27336 TNA\n",
      "===posible caso: 27383 TNA\n",
      "===posible caso: 27489 TNA\n",
      "===posible caso: 27557 TNA\n"
     ]
    },
    {
     "name": "stdout",
     "output_type": "stream",
     "text": [
      "h1\n",
      "27557 TNA\n",
      "===posible caso: 27574 TNA\n",
      "h1\n",
      "27574 TNA\n",
      "===posible caso: 27609 TNA\n",
      "===posible caso: 27690 TNA\n"
     ]
    },
    {
     "name": "stdout",
     "output_type": "stream",
     "text": [
      "===posible caso: 27858 TNA\n",
      "===posible caso: 27904 TNA\n",
      "===posible caso: 27940 TNA\n"
     ]
    },
    {
     "name": "stdout",
     "output_type": "stream",
     "text": [
      "h1\n",
      "27940 TNA\n",
      "===posible caso: 27966 TNA\n",
      "h1\n",
      "27966 TNA\n",
      "===posible caso: 28052 TNA\n"
     ]
    },
    {
     "name": "stdout",
     "output_type": "stream",
     "text": [
      "h1\n",
      "28052 TNA\n",
      "===posible caso: 28102 TNA\n",
      "h1\n",
      "28102 TNA\n",
      "===posible caso: 28123 TNA\n"
     ]
    },
    {
     "name": "stdout",
     "output_type": "stream",
     "text": [
      "===posible caso: 28202 TNA\n",
      "===posible caso: 28435 GLD\n",
      "===posible caso: 28456 GLD\n"
     ]
    },
    {
     "name": "stdout",
     "output_type": "stream",
     "text": [
      "===posible caso: 28548 GLD\n",
      "===posible caso: 28671 GLD\n",
      "h1\n",
      "28671 GLD\n",
      "===posible caso: 28713 GLD\n"
     ]
    },
    {
     "name": "stdout",
     "output_type": "stream",
     "text": [
      "h1\n",
      "28713 GLD\n",
      "===posible caso: 28772 GLD\n",
      "h1\n",
      "28772 GLD\n",
      "===posible caso: 28892 GLD\n"
     ]
    },
    {
     "name": "stdout",
     "output_type": "stream",
     "text": [
      "===posible caso: 28924 GLD\n",
      "h1\n",
      "28924 GLD\n",
      "===posible caso: 28962 GLD\n"
     ]
    },
    {
     "name": "stdout",
     "output_type": "stream",
     "text": [
      "===posible caso: 29056 GLD\n",
      "===posible caso: 29077 GLD\n",
      "===posible caso: 29128 GLD\n"
     ]
    },
    {
     "name": "stdout",
     "output_type": "stream",
     "text": [
      "===posible caso: 29153 GLD\n",
      "===posible caso: 29207 GLD\n"
     ]
    },
    {
     "name": "stdout",
     "output_type": "stream",
     "text": [
      "===posible caso: 29244 GLD\n",
      "===posible caso: 29283 GLD\n"
     ]
    },
    {
     "name": "stdout",
     "output_type": "stream",
     "text": [
      "===posible caso: 29365 GLD\n",
      "===posible caso: 29411 GLD\n",
      "===posible caso: 29438 GLD\n"
     ]
    },
    {
     "name": "stdout",
     "output_type": "stream",
     "text": [
      "===posible caso: 29517 GLD\n",
      "h2\n",
      "h4\n",
      "h1\n",
      "29517 GLD\n",
      "===posible caso: 29586 GLD\n"
     ]
    },
    {
     "name": "stdout",
     "output_type": "stream",
     "text": [
      "===posible caso: 29731 GLD\n",
      "h1\n",
      "29731 GLD\n",
      "===posible caso: 29752 GLD\n"
     ]
    },
    {
     "name": "stdout",
     "output_type": "stream",
     "text": [
      "h1\n",
      "29752 GLD\n",
      "===posible caso: 29771 GLD\n",
      "===posible caso: 29790 GLD\n"
     ]
    },
    {
     "name": "stdout",
     "output_type": "stream",
     "text": [
      "===posible caso: 29832 GLD\n",
      "===posible caso: 29896 GLD\n"
     ]
    },
    {
     "name": "stdout",
     "output_type": "stream",
     "text": [
      "===posible caso: 29938 GLD\n",
      "h1\n",
      "29938 GLD\n",
      "===posible caso: 29970 GLD\n"
     ]
    },
    {
     "name": "stdout",
     "output_type": "stream",
     "text": [
      "===posible caso: 30019 GLD\n",
      "===posible caso: 30085 GLD\n",
      "===posible caso: 30152 GLD\n"
     ]
    },
    {
     "name": "stdout",
     "output_type": "stream",
     "text": [
      "===posible caso: 30203 GLD\n",
      "===posible caso: 30287 GLD\n"
     ]
    },
    {
     "name": "stdout",
     "output_type": "stream",
     "text": [
      "===posible caso: 30335 GLD\n",
      "h1\n",
      "30335 GLD\n",
      "===posible caso: 30371 GLD\n"
     ]
    },
    {
     "name": "stdout",
     "output_type": "stream",
     "text": [
      "h1\n",
      "30371 GLD\n",
      "===posible caso: 30423 GLD\n",
      "h1\n",
      "30423 GLD\n",
      "===posible caso: 30494 GLD\n"
     ]
    },
    {
     "name": "stdout",
     "output_type": "stream",
     "text": [
      "===posible caso: 30558 GLD\n",
      "===posible caso: 30685 GLD\n"
     ]
    },
    {
     "name": "stdout",
     "output_type": "stream",
     "text": [
      "===posible caso: 30724 GLD\n",
      "===posible caso: 30755 GLD\n"
     ]
    },
    {
     "name": "stdout",
     "output_type": "stream",
     "text": [
      "===posible caso: 30844 GLD\n",
      "h1\n",
      "30844 GLD\n",
      "===posible caso: 30869 GLD\n"
     ]
    },
    {
     "name": "stdout",
     "output_type": "stream",
     "text": [
      "===posible caso: 30886 GLD\n",
      "===posible caso: 30923 GLD\n",
      "===posible caso: 31019 GLD\n",
      "===posible caso: 31049 GLD\n"
     ]
    },
    {
     "name": "stdout",
     "output_type": "stream",
     "text": [
      "===posible caso: 31112 GLD\n",
      "===posible caso: 31189 GLD\n"
     ]
    },
    {
     "name": "stdout",
     "output_type": "stream",
     "text": [
      "===posible caso: 31258 GLD\n",
      "===posible caso: 31302 GLD\n",
      "===posible caso: 31377 GLD\n"
     ]
    },
    {
     "name": "stdout",
     "output_type": "stream",
     "text": [
      "===posible caso: 31443 GLD\n",
      "h1\n",
      "31443 GLD\n",
      "===posible caso: 31491 GLD\n",
      "===posible caso: 31532 GLD\n"
     ]
    },
    {
     "name": "stdout",
     "output_type": "stream",
     "text": [
      "===posible caso: 31608 GLD\n",
      "===posible caso: 31696 GLD\n",
      "===posible caso: 31734 GLD\n",
      "===posible caso: 31761 GLD\n"
     ]
    },
    {
     "name": "stdout",
     "output_type": "stream",
     "text": [
      "h1\n",
      "31761 GLD\n",
      "===posible caso: 31827 GLD\n",
      "===posible caso: 32008 SLV\n",
      "h1\n",
      "32008 SLV\n",
      "===posible caso: 32116 SLV\n",
      "===posible caso: 32212 SLV\n"
     ]
    },
    {
     "name": "stdout",
     "output_type": "stream",
     "text": [
      "===posible caso: 32270 SLV\n",
      "===posible caso: 32324 SLV\n",
      "h1\n",
      "32324 SLV\n",
      "===posible caso: 32465 SLV\n"
     ]
    },
    {
     "name": "stdout",
     "output_type": "stream",
     "text": [
      "h1\n",
      "32465 SLV\n",
      "===posible caso: 32597 SLV\n",
      "===posible caso: 32668 SLV\n",
      "===posible caso: 32768 SLV\n"
     ]
    },
    {
     "name": "stdout",
     "output_type": "stream",
     "text": [
      "===posible caso: 32943 SLV\n",
      "h1\n",
      "32943 SLV\n",
      "===posible caso: 33003 SLV\n"
     ]
    },
    {
     "name": "stdout",
     "output_type": "stream",
     "text": [
      "===posible caso: 33031 SLV\n",
      "===posible caso: 33059 SLV\n",
      "===posible caso: 33127 SLV\n"
     ]
    },
    {
     "name": "stdout",
     "output_type": "stream",
     "text": [
      "===posible caso: 33162 SLV\n",
      "===posible caso: 33186 SLV\n"
     ]
    },
    {
     "name": "stdout",
     "output_type": "stream",
     "text": [
      "h1\n",
      "33186 SLV\n",
      "===posible caso: 33293 SLV\n",
      "h1\n",
      "33293 SLV\n",
      "===posible caso: 33333 SLV\n",
      "===posible caso: 33361 SLV\n",
      "===posible caso: 33478 SLV\n"
     ]
    },
    {
     "name": "stdout",
     "output_type": "stream",
     "text": [
      "h1\n",
      "33478 SLV\n",
      "===posible caso: 33626 SLV\n",
      "===posible caso: 33691 SLV\n"
     ]
    },
    {
     "name": "stdout",
     "output_type": "stream",
     "text": [
      "===posible caso: 33717 SLV\n",
      "===posible caso: 33780 SLV\n",
      "===posible caso: 33820 SLV\n",
      "===posible caso: 33875 SLV\n"
     ]
    },
    {
     "name": "stdout",
     "output_type": "stream",
     "text": [
      "h1\n",
      "33875 SLV\n",
      "===posible caso: 33951 SLV\n",
      "h1\n",
      "33951 SLV\n",
      "===posible caso: 34085 SLV\n"
     ]
    },
    {
     "name": "stdout",
     "output_type": "stream",
     "text": [
      "h1\n",
      "34085 SLV\n",
      "===posible caso: 34137 SLV\n",
      "===posible caso: 34226 SLV\n",
      "===posible caso: 34365 SLV\n",
      "===posible caso: 34385 SLV\n"
     ]
    },
    {
     "name": "stdout",
     "output_type": "stream",
     "text": [
      "h1\n",
      "34385 SLV\n",
      "===posible caso: 34427 SLV\n",
      "===posible caso: 34447 SLV\n",
      "===posible caso: 34590 SLV\n"
     ]
    },
    {
     "name": "stdout",
     "output_type": "stream",
     "text": [
      "h1\n",
      "34590 SLV\n",
      "===posible caso: 34620 SLV\n",
      "===posible caso: 34642 SLV\n",
      "h1\n",
      "34642 SLV\n",
      "===posible caso: 34723 SLV\n"
     ]
    },
    {
     "name": "stdout",
     "output_type": "stream",
     "text": [
      "h2\n",
      "h4\n",
      "h1\n",
      "34723 SLV\n",
      "===posible caso: 34780 SLV\n",
      "h1\n",
      "34780 SLV\n",
      "===posible caso: 34851 SLV\n",
      "===posible caso: 34886 SLV\n"
     ]
    },
    {
     "name": "stdout",
     "output_type": "stream",
     "text": [
      "===posible caso: 34907 SLV\n",
      "h1\n",
      "34907 SLV\n",
      "===posible caso: 34959 SLV\n",
      "===posible caso: 35055 SLV\n"
     ]
    },
    {
     "name": "stdout",
     "output_type": "stream",
     "text": [
      "h1\n",
      "35055 SLV\n",
      "===posible caso: 35085 SLV\n",
      "===posible caso: 35183 SLV\n",
      "===posible caso: 35226 SLV\n",
      "===posible caso: 35275 SLV\n"
     ]
    },
    {
     "name": "stdout",
     "output_type": "stream",
     "text": [
      "===posible caso: 35317 SLV\n",
      "===posible caso: 35344 SLV\n"
     ]
    },
    {
     "name": "stdout",
     "output_type": "stream",
     "text": [
      "===posible caso: 35438 USO\n",
      "===posible caso: 35521 USO\n"
     ]
    },
    {
     "name": "stdout",
     "output_type": "stream",
     "text": [
      "===posible caso: 35604 USO\n",
      "===posible caso: 35652 USO\n"
     ]
    },
    {
     "name": "stdout",
     "output_type": "stream",
     "text": [
      "h1\n",
      "35652 USO\n",
      "===posible caso: 35845 USO\n",
      "===posible caso: 35945 USO\n",
      "===posible caso: 35974 USO\n"
     ]
    },
    {
     "name": "stdout",
     "output_type": "stream",
     "text": [
      "===posible caso: 36004 USO\n",
      "===posible caso: 36044 USO\n"
     ]
    },
    {
     "name": "stdout",
     "output_type": "stream",
     "text": [
      "h1\n",
      "36044 USO\n",
      "===posible caso: 36249 USO\n",
      "===posible caso: 36296 USO\n"
     ]
    },
    {
     "name": "stdout",
     "output_type": "stream",
     "text": [
      "h1\n",
      "36296 USO\n",
      "===posible caso: 36318 USO\n",
      "h1\n",
      "36318 USO\n",
      "===posible caso: 36400 USO\n",
      "===posible caso: 36469 USO\n"
     ]
    },
    {
     "name": "stdout",
     "output_type": "stream",
     "text": [
      "===posible caso: 36554 USO\n",
      "h1\n",
      "36554 USO\n",
      "===posible caso: 36572 USO\n"
     ]
    },
    {
     "name": "stdout",
     "output_type": "stream",
     "text": [
      "h1\n",
      "36572 USO\n",
      "===posible caso: 36592 USO\n",
      "h1\n",
      "36592 USO\n",
      "===posible caso: 36632 USO\n"
     ]
    },
    {
     "name": "stdout",
     "output_type": "stream",
     "text": [
      "===posible caso: 36653 USO\n",
      "h1\n",
      "36653 USO\n",
      "===posible caso: 36718 USO\n"
     ]
    },
    {
     "name": "stdout",
     "output_type": "stream",
     "text": [
      "===posible caso: 36802 USO\n",
      "h1\n",
      "36802 USO\n",
      "===posible caso: 36905 USO\n"
     ]
    },
    {
     "name": "stdout",
     "output_type": "stream",
     "text": [
      "h2\n",
      "h4\n",
      "h1\n",
      "36905 USO\n",
      "===posible caso: 36973 USO\n",
      "===posible caso: 37016 USO\n",
      "===posible caso: 37128 USO\n"
     ]
    },
    {
     "name": "stdout",
     "output_type": "stream",
     "text": [
      "===posible caso: 37230 USO\n",
      "h1\n",
      "37230 USO\n",
      "===posible caso: 37332 USO\n"
     ]
    },
    {
     "name": "stdout",
     "output_type": "stream",
     "text": [
      "h1\n",
      "37332 USO\n",
      "===posible caso: 37415 USO\n",
      "===posible caso: 37433 USO\n"
     ]
    },
    {
     "name": "stdout",
     "output_type": "stream",
     "text": [
      "h1\n",
      "37433 USO\n",
      "===posible caso: 37485 USO\n",
      "===posible caso: 37621 USO\n"
     ]
    },
    {
     "name": "stdout",
     "output_type": "stream",
     "text": [
      "===posible caso: 37690 USO\n",
      "===posible caso: 37787 USO\n"
     ]
    },
    {
     "name": "stdout",
     "output_type": "stream",
     "text": [
      "===posible caso: 37832 USO\n",
      "h1\n",
      "37832 USO\n",
      "===posible caso: 37848 USO\n"
     ]
    },
    {
     "name": "stdout",
     "output_type": "stream",
     "text": [
      "h1\n",
      "37848 USO\n",
      "===posible caso: 37925 USO\n",
      "===posible caso: 38019 USO\n"
     ]
    },
    {
     "name": "stdout",
     "output_type": "stream",
     "text": [
      "h1\n",
      "38019 USO\n",
      "===posible caso: 38038 USO\n",
      "h1\n",
      "38038 USO\n",
      "===posible caso: 38110 USO\n"
     ]
    },
    {
     "name": "stdout",
     "output_type": "stream",
     "text": [
      "h1\n",
      "38110 USO\n",
      "===posible caso: 38158 USO\n",
      "===posible caso: 38243 USO\n",
      "===posible caso: 38281 USO\n",
      "===posible caso: 38322 USO\n",
      "===posible caso: 38359 USO\n",
      "===posible caso: 38420 USO\n",
      "===posible caso: 38488 USO\n"
     ]
    },
    {
     "name": "stdout",
     "output_type": "stream",
     "text": [
      "h1\n",
      "38488 USO\n",
      "===posible caso: 38529 USO\n",
      "===posible caso: 38563 USO\n",
      "===posible caso: 38616 USO\n"
     ]
    },
    {
     "name": "stdout",
     "output_type": "stream",
     "text": [
      "h1\n",
      "38616 USO\n",
      "===posible caso: 38721 USO\n",
      "===posible caso: 38818 USO\n",
      "===posible caso: 38846 USO\n"
     ]
    },
    {
     "name": "stdout",
     "output_type": "stream",
     "text": [
      "h3\n",
      "h4\n",
      "h3\n",
      "h4\n",
      "h3\n",
      "h4\n",
      "h3\n",
      "h4\n",
      "38846 USO\n",
      "===posible caso: 38919 USO\n",
      "===posible caso: 39013 BAC\n"
     ]
    },
    {
     "name": "stdout",
     "output_type": "stream",
     "text": [
      "===posible caso: 39056 BAC\n",
      "===posible caso: 39107 BAC\n",
      "===posible caso: 39181 BAC\n",
      "===posible caso: 39290 BAC\n",
      "===posible caso: 39492 BAC\n",
      "===posible caso: 39532 BAC\n"
     ]
    },
    {
     "name": "stdout",
     "output_type": "stream",
     "text": [
      "h1\n",
      "39532 BAC\n",
      "===posible caso: 39578 BAC\n",
      "===posible caso: 39620 BAC\n",
      "===posible caso: 39698 BAC\n"
     ]
    },
    {
     "name": "stdout",
     "output_type": "stream",
     "text": [
      "h1\n",
      "39698 BAC\n",
      "===posible caso: 39766 BAC\n",
      "h2\n",
      "h4\n",
      "h1\n",
      "39766 BAC\n",
      "===posible caso: 39810 BAC\n",
      "===posible caso: 39906 BAC\n",
      "===posible caso: 40025 BAC\n"
     ]
    },
    {
     "name": "stdout",
     "output_type": "stream",
     "text": [
      "===posible caso: 40085 BAC\n",
      "===posible caso: 40113 BAC\n"
     ]
    },
    {
     "name": "stdout",
     "output_type": "stream",
     "text": [
      "===posible caso: 40228 BAC\n",
      "===posible caso: 40276 BAC\n"
     ]
    },
    {
     "name": "stdout",
     "output_type": "stream",
     "text": [
      "===posible caso: 40310 BAC\n",
      "===posible caso: 40431 BAC\n"
     ]
    },
    {
     "name": "stdout",
     "output_type": "stream",
     "text": [
      "===posible caso: 40494 BAC\n",
      "===posible caso: 40577 BAC\n",
      "h1\n",
      "40577 BAC\n",
      "===posible caso: 40640 BAC\n"
     ]
    },
    {
     "name": "stdout",
     "output_type": "stream",
     "text": [
      "h1\n",
      "40640 BAC\n",
      "===posible caso: 40719 BAC\n",
      "===posible caso: 40767 BAC\n",
      "===posible caso: 40823 BAC\n"
     ]
    },
    {
     "name": "stdout",
     "output_type": "stream",
     "text": [
      "h1\n",
      "40823 BAC\n",
      "===posible caso: 40991 BAC\n",
      "h1\n",
      "40991 BAC\n",
      "===posible caso: 41064 BAC\n"
     ]
    },
    {
     "name": "stdout",
     "output_type": "stream",
     "text": [
      "h1\n",
      "41064 BAC\n",
      "===posible caso: 41146 BAC\n",
      "h1\n",
      "41146 BAC\n",
      "===posible caso: 41184 BAC\n"
     ]
    },
    {
     "name": "stdout",
     "output_type": "stream",
     "text": [
      "===posible caso: 41225 BAC\n",
      "===posible caso: 41278 BAC\n"
     ]
    },
    {
     "name": "stdout",
     "output_type": "stream",
     "text": [
      "h1\n",
      "41278 BAC\n",
      "===posible caso: 41344 BAC\n",
      "===posible caso: 41382 BAC\n",
      "===posible caso: 41402 BAC\n",
      "===posible caso: 41436 BAC\n"
     ]
    },
    {
     "name": "stdout",
     "output_type": "stream",
     "text": [
      "h1\n",
      "41436 BAC\n",
      "===posible caso: 41484 BAC\n",
      "===posible caso: 41516 BAC\n"
     ]
    },
    {
     "name": "stdout",
     "output_type": "stream",
     "text": [
      "===posible caso: 41552 BAC\n",
      "h1\n",
      "41552 BAC\n",
      "===posible caso: 41659 BAC\n"
     ]
    },
    {
     "name": "stdout",
     "output_type": "stream",
     "text": [
      "===posible caso: 41698 BAC\n",
      "===posible caso: 41715 BAC\n",
      "h1\n",
      "41715 BAC\n",
      "===posible caso: 41756 BAC\n"
     ]
    },
    {
     "name": "stdout",
     "output_type": "stream",
     "text": [
      "===posible caso: 41910 BAC\n",
      "===posible caso: 42029 BAC\n"
     ]
    },
    {
     "name": "stdout",
     "output_type": "stream",
     "text": [
      "h1\n",
      "42029 BAC\n",
      "===posible caso: 42103 BAC\n",
      "h1\n",
      "42103 BAC\n",
      "===posible caso: 42130 BAC\n"
     ]
    },
    {
     "name": "stdout",
     "output_type": "stream",
     "text": [
      "===posible caso: 42269 BAC\n",
      "h1\n",
      "42269 BAC\n",
      "===posible caso: 42288 BAC\n"
     ]
    },
    {
     "name": "stdout",
     "output_type": "stream",
     "text": [
      "===posible caso: 42377 BAC\n",
      "===posible caso: 42418 BAC\n"
     ]
    },
    {
     "name": "stdout",
     "output_type": "stream",
     "text": [
      "h1\n",
      "42418 BAC\n",
      "===posible caso: 42544 CVX\n",
      "===posible caso: 42591 CVX\n",
      "===posible caso: 42642 CVX\n"
     ]
    },
    {
     "name": "stdout",
     "output_type": "stream",
     "text": [
      "===posible caso: 42745 CVX\n",
      "===posible caso: 42769 CVX\n",
      "h1\n",
      "42769 CVX\n",
      "===posible caso: 42816 CVX\n"
     ]
    },
    {
     "name": "stdout",
     "output_type": "stream",
     "text": [
      "===posible caso: 42921 CVX\n",
      "h1\n",
      "42921 CVX\n",
      "===posible caso: 42971 CVX\n"
     ]
    },
    {
     "name": "stdout",
     "output_type": "stream",
     "text": [
      "h1\n",
      "42971 CVX\n",
      "===posible caso: 43078 CVX\n",
      "h1\n",
      "43078 CVX\n",
      "===posible caso: 43159 CVX\n"
     ]
    },
    {
     "name": "stdout",
     "output_type": "stream",
     "text": [
      "h1\n",
      "43159 CVX\n",
      "===posible caso: 43208 CVX\n",
      "===posible caso: 43282 CVX\n",
      "===posible caso: 43374 CVX\n"
     ]
    },
    {
     "name": "stdout",
     "output_type": "stream",
     "text": [
      "h1\n",
      "43374 CVX\n",
      "===posible caso: 43395 CVX\n",
      "===posible caso: 43559 CVX\n"
     ]
    },
    {
     "name": "stdout",
     "output_type": "stream",
     "text": [
      "h1\n",
      "43559 CVX\n",
      "===posible caso: 43580 CVX\n",
      "===posible caso: 43609 CVX\n"
     ]
    },
    {
     "name": "stdout",
     "output_type": "stream",
     "text": [
      "h1\n",
      "43609 CVX\n",
      "===posible caso: 43649 CVX\n",
      "===posible caso: 43670 CVX\n",
      "===posible caso: 43709 CVX\n"
     ]
    },
    {
     "name": "stdout",
     "output_type": "stream",
     "text": [
      "h1\n",
      "43709 CVX\n",
      "===posible caso: 43730 CVX\n",
      "h1\n",
      "43730 CVX\n",
      "===posible caso: 43796 CVX\n"
     ]
    },
    {
     "name": "stdout",
     "output_type": "stream",
     "text": [
      "===posible caso: 43878 CVX\n",
      "===posible caso: 43911 CVX\n"
     ]
    },
    {
     "name": "stdout",
     "output_type": "stream",
     "text": [
      "h1\n",
      "43911 CVX\n",
      "===posible caso: 43990 CVX\n",
      "===posible caso: 44058 CVX\n"
     ]
    },
    {
     "name": "stdout",
     "output_type": "stream",
     "text": [
      "===posible caso: 44129 CVX\n",
      "===posible caso: 44155 CVX\n",
      "h1\n",
      "44155 CVX\n",
      "===posible caso: 44260 CVX\n"
     ]
    },
    {
     "name": "stdout",
     "output_type": "stream",
     "text": [
      "h1\n",
      "44260 CVX\n",
      "===posible caso: 44371 CVX\n",
      "===posible caso: 44432 CVX\n"
     ]
    },
    {
     "name": "stdout",
     "output_type": "stream",
     "text": [
      "h1\n",
      "44432 CVX\n",
      "===posible caso: 44511 CVX\n",
      "h1\n",
      "44511 CVX\n",
      "===posible caso: 44558 CVX\n"
     ]
    },
    {
     "name": "stdout",
     "output_type": "stream",
     "text": [
      "h1\n",
      "44558 CVX\n",
      "===posible caso: 44623 CVX\n",
      "===posible caso: 44698 CVX\n",
      "===posible caso: 44747 CVX\n"
     ]
    },
    {
     "name": "stdout",
     "output_type": "stream",
     "text": [
      "===posible caso: 44793 CVX\n",
      "===posible caso: 44920 CVX\n",
      "===posible caso: 44964 CVX\n",
      "===posible caso: 45020 CVX\n"
     ]
    },
    {
     "name": "stdout",
     "output_type": "stream",
     "text": [
      "h1\n",
      "45020 CVX\n",
      "===posible caso: 45248 CVX\n",
      "===posible caso: 45283 CVX\n"
     ]
    },
    {
     "name": "stdout",
     "output_type": "stream",
     "text": [
      "h1\n",
      "45283 CVX\n",
      "===posible caso: 45357 CVX\n",
      "h1\n",
      "45357 CVX\n",
      "===posible caso: 45399 CVX\n",
      "===posible caso: 45482 CVX\n"
     ]
    },
    {
     "name": "stdout",
     "output_type": "stream",
     "text": [
      "===posible caso: 45565 CVX\n",
      "===posible caso: 45599 CVX\n"
     ]
    },
    {
     "name": "stdout",
     "output_type": "stream",
     "text": [
      "===posible caso: 45640 CVX\n",
      "===posible caso: 45724 CVX\n",
      "===posible caso: 45749 CVX\n"
     ]
    },
    {
     "name": "stdout",
     "output_type": "stream",
     "text": [
      "===posible caso: 45799 CVX\n",
      "===posible caso: 45895 CVX\n"
     ]
    },
    {
     "name": "stdout",
     "output_type": "stream",
     "text": [
      "h1\n",
      "45895 CVX\n",
      "===posible caso: 46084 XOM\n",
      "h1\n",
      "46084 XOM\n",
      "===posible caso: 46178 XOM\n"
     ]
    },
    {
     "name": "stdout",
     "output_type": "stream",
     "text": [
      "h1\n",
      "46178 XOM\n",
      "===posible caso: 46242 XOM\n",
      "===posible caso: 46288 XOM\n"
     ]
    },
    {
     "name": "stdout",
     "output_type": "stream",
     "text": [
      "===posible caso: 46389 XOM\n",
      "h1\n",
      "46389 XOM\n",
      "===posible caso: 46439 XOM\n"
     ]
    },
    {
     "name": "stdout",
     "output_type": "stream",
     "text": [
      "===posible caso: 46505 XOM\n",
      "===posible caso: 46556 XOM\n",
      "===posible caso: 46614 XOM\n"
     ]
    },
    {
     "name": "stdout",
     "output_type": "stream",
     "text": [
      "===posible caso: 46687 XOM\n",
      "===posible caso: 46787 XOM\n",
      "===posible caso: 46864 XOM\n"
     ]
    },
    {
     "name": "stdout",
     "output_type": "stream",
     "text": [
      "===posible caso: 46909 XOM\n",
      "===posible caso: 47019 XOM\n"
     ]
    },
    {
     "name": "stdout",
     "output_type": "stream",
     "text": [
      "===posible caso: 47096 XOM\n",
      "h1\n",
      "47096 XOM\n",
      "===posible caso: 47144 XOM\n",
      "===posible caso: 47206 XOM\n"
     ]
    },
    {
     "name": "stdout",
     "output_type": "stream",
     "text": [
      "h1\n",
      "47206 XOM\n",
      "===posible caso: 47245 XOM\n",
      "===posible caso: 47358 XOM\n"
     ]
    },
    {
     "name": "stdout",
     "output_type": "stream",
     "text": [
      "h2\n",
      "h4\n",
      "h2\n",
      "h4\n",
      "h1\n",
      "47358 XOM\n",
      "===posible caso: 47414 XOM\n",
      "h1\n",
      "47414 XOM\n",
      "===posible caso: 47447 XOM\n"
     ]
    },
    {
     "name": "stdout",
     "output_type": "stream",
     "text": [
      "h1\n",
      "47447 XOM\n",
      "===posible caso: 47493 XOM\n",
      "===posible caso: 47515 XOM\n"
     ]
    },
    {
     "name": "stdout",
     "output_type": "stream",
     "text": [
      "===posible caso: 47561 XOM\n",
      "===posible caso: 47586 XOM\n",
      "===posible caso: 47627 XOM\n"
     ]
    },
    {
     "name": "stdout",
     "output_type": "stream",
     "text": [
      "h1\n",
      "47627 XOM\n",
      "===posible caso: 47691 XOM\n",
      "===posible caso: 47720 XOM\n",
      "===posible caso: 47820 XOM\n"
     ]
    },
    {
     "name": "stdout",
     "output_type": "stream",
     "text": [
      "h1\n",
      "47820 XOM\n",
      "===posible caso: 47907 XOM\n",
      "h1\n",
      "47907 XOM\n",
      "===posible caso: 47968 XOM\n"
     ]
    },
    {
     "name": "stdout",
     "output_type": "stream",
     "text": [
      "===posible caso: 48020 XOM\n",
      "===posible caso: 48060 XOM\n",
      "h1\n",
      "48060 XOM\n",
      "===posible caso: 48100 XOM\n",
      "===posible caso: 48120 XOM\n"
     ]
    },
    {
     "name": "stdout",
     "output_type": "stream",
     "text": [
      "===posible caso: 48234 XOM\n",
      "===posible caso: 48299 XOM\n"
     ]
    },
    {
     "name": "stdout",
     "output_type": "stream",
     "text": [
      "===posible caso: 48338 XOM\n",
      "===posible caso: 48376 XOM\n",
      "===posible caso: 48455 XOM\n",
      "===posible caso: 48730 XOM\n"
     ]
    },
    {
     "name": "stdout",
     "output_type": "stream",
     "text": [
      "===posible caso: 48781 XOM\n",
      "===posible caso: 48819 XOM\n"
     ]
    },
    {
     "name": "stdout",
     "output_type": "stream",
     "text": [
      "h1\n",
      "48819 XOM\n",
      "===posible caso: 48893 XOM\n",
      "===posible caso: 48938 XOM\n",
      "===posible caso: 49023 XOM\n"
     ]
    },
    {
     "name": "stdout",
     "output_type": "stream",
     "text": [
      "h1\n",
      "49023 XOM\n",
      "===posible caso: 49101 XOM\n",
      "===posible caso: 49124 XOM\n"
     ]
    },
    {
     "name": "stdout",
     "output_type": "stream",
     "text": [
      "h1\n",
      "49124 XOM\n",
      "===posible caso: 49176 XOM\n",
      "===posible caso: 49229 XOM\n"
     ]
    },
    {
     "name": "stdout",
     "output_type": "stream",
     "text": [
      "===posible caso: 49255 XOM\n",
      "===posible caso: 49335 XOM\n"
     ]
    },
    {
     "name": "stdout",
     "output_type": "stream",
     "text": [
      "===posible caso: 49401 XOM\n",
      "h1\n",
      "49401 XOM\n",
      "===posible caso: 49442 XOM\n",
      "===posible caso: 49622 QQQ\n"
     ]
    },
    {
     "name": "stdout",
     "output_type": "stream",
     "text": [
      "===posible caso: 49693 QQQ\n",
      "h1\n",
      "49693 QQQ\n",
      "===posible caso: 49743 QQQ\n",
      "===posible caso: 49778 QQQ\n"
     ]
    },
    {
     "name": "stdout",
     "output_type": "stream",
     "text": [
      "h1\n",
      "49778 QQQ\n",
      "===posible caso: 49824 QQQ\n",
      "===posible caso: 49872 QQQ\n",
      "===posible caso: 49909 QQQ\n",
      "===posible caso: 49975 QQQ\n"
     ]
    },
    {
     "name": "stdout",
     "output_type": "stream",
     "text": [
      "===posible caso: 50057 QQQ\n",
      "===posible caso: 50114 QQQ\n"
     ]
    },
    {
     "name": "stdout",
     "output_type": "stream",
     "text": [
      "h1\n",
      "50114 QQQ\n",
      "===posible caso: 50131 QQQ\n",
      "===posible caso: 50173 QQQ\n",
      "===posible caso: 50281 QQQ\n"
     ]
    },
    {
     "name": "stdout",
     "output_type": "stream",
     "text": [
      "h1\n",
      "50281 QQQ\n",
      "===posible caso: 50318 QQQ\n",
      "===posible caso: 50339 QQQ\n"
     ]
    },
    {
     "name": "stdout",
     "output_type": "stream",
     "text": [
      "===posible caso: 50447 QQQ\n",
      "h1\n",
      "50447 QQQ\n",
      "===posible caso: 50479 QQQ\n"
     ]
    },
    {
     "name": "stdout",
     "output_type": "stream",
     "text": [
      "===posible caso: 50600 QQQ\n",
      "h1\n",
      "50600 QQQ\n",
      "===posible caso: 50625 QQQ\n"
     ]
    },
    {
     "name": "stdout",
     "output_type": "stream",
     "text": [
      "===posible caso: 50690 QQQ\n",
      "h1\n",
      "50690 QQQ\n",
      "===posible caso: 50784 QQQ\n",
      "===posible caso: 50857 QQQ\n"
     ]
    },
    {
     "name": "stdout",
     "output_type": "stream",
     "text": [
      "===posible caso: 50880 QQQ\n",
      "===posible caso: 50920 QQQ\n",
      "===posible caso: 51063 QQQ\n"
     ]
    },
    {
     "name": "stdout",
     "output_type": "stream",
     "text": [
      "h1\n",
      "51063 QQQ\n",
      "===posible caso: 51104 QQQ\n",
      "h1\n",
      "51104 QQQ\n",
      "===posible caso: 51206 QQQ\n"
     ]
    },
    {
     "name": "stdout",
     "output_type": "stream",
     "text": [
      "===posible caso: 51303 QQQ\n",
      "h1\n",
      "51303 QQQ\n",
      "===posible caso: 51354 QQQ\n",
      "===posible caso: 51405 QQQ\n"
     ]
    },
    {
     "name": "stdout",
     "output_type": "stream",
     "text": [
      "h1\n",
      "51405 QQQ\n",
      "===posible caso: 51463 QQQ\n",
      "===posible caso: 51510 QQQ\n",
      "===posible caso: 51613 QQQ\n"
     ]
    },
    {
     "name": "stdout",
     "output_type": "stream",
     "text": [
      "h1\n",
      "51613 QQQ\n",
      "===posible caso: 51653 QQQ\n",
      "h1\n",
      "51653 QQQ\n",
      "===posible caso: 51752 QQQ\n"
     ]
    },
    {
     "name": "stdout",
     "output_type": "stream",
     "text": [
      "h1\n",
      "51752 QQQ\n",
      "===posible caso: 51784 QQQ\n",
      "===posible caso: 51868 QQQ\n"
     ]
    },
    {
     "name": "stdout",
     "output_type": "stream",
     "text": [
      "===posible caso: 51914 QQQ\n",
      "===posible caso: 51950 QQQ\n"
     ]
    },
    {
     "name": "stdout",
     "output_type": "stream",
     "text": [
      "===posible caso: 52005 QQQ\n",
      "===posible caso: 52025 QQQ\n"
     ]
    },
    {
     "name": "stdout",
     "output_type": "stream",
     "text": [
      "===posible caso: 52177 QQQ\n",
      "===posible caso: 52331 QQQ\n"
     ]
    },
    {
     "name": "stdout",
     "output_type": "stream",
     "text": [
      "===posible caso: 52380 QQQ\n",
      "===posible caso: 52424 QQQ\n",
      "===posible caso: 52466 QQQ\n"
     ]
    },
    {
     "name": "stdout",
     "output_type": "stream",
     "text": [
      "===posible caso: 52570 QQQ\n",
      "===posible caso: 52592 QQQ\n",
      "h1\n",
      "52592 QQQ\n",
      "===posible caso: 52636 QQQ\n"
     ]
    },
    {
     "name": "stdout",
     "output_type": "stream",
     "text": [
      "===posible caso: 52823 QQQ\n",
      "h1\n",
      "52823 QQQ\n",
      "===posible caso: 52912 QQQ\n"
     ]
    },
    {
     "name": "stdout",
     "output_type": "stream",
     "text": [
      "===posible caso: 52946 QQQ\n",
      "===posible caso: 52996 QQQ\n",
      "===posible caso: 53059 QQQ\n"
     ]
    },
    {
     "name": "stdout",
     "output_type": "stream",
     "text": [
      "h3\n",
      "h4\n",
      "h3\n",
      "h4\n",
      "h3\n",
      "h4\n",
      "h3\n",
      "h4\n",
      "53059 QQQ\n",
      "===posible caso: 53112 MSFT\n",
      "===posible caso: 53148 MSFT\n",
      "===posible caso: 53168 MSFT\n"
     ]
    },
    {
     "name": "stdout",
     "output_type": "stream",
     "text": [
      "h1\n",
      "53168 MSFT\n",
      "===posible caso: 53207 MSFT\n",
      "===posible caso: 53225 MSFT\n",
      "===posible caso: 53279 MSFT\n",
      "===posible caso: 53314 MSFT\n"
     ]
    },
    {
     "name": "stdout",
     "output_type": "stream",
     "text": [
      "h1\n",
      "53314 MSFT\n",
      "===posible caso: 53406 MSFT\n",
      "===posible caso: 53463 MSFT\n",
      "===posible caso: 53491 MSFT\n"
     ]
    },
    {
     "name": "stdout",
     "output_type": "stream",
     "text": [
      "===posible caso: 53510 MSFT\n",
      "h1\n",
      "53510 MSFT\n",
      "===posible caso: 53598 MSFT\n"
     ]
    },
    {
     "name": "stdout",
     "output_type": "stream",
     "text": [
      "h1\n",
      "53598 MSFT\n",
      "===posible caso: 53662 MSFT\n",
      "===posible caso: 53686 MSFT\n"
     ]
    },
    {
     "name": "stdout",
     "output_type": "stream",
     "text": [
      "h1\n",
      "53686 MSFT\n",
      "===posible caso: 53716 MSFT\n",
      "===posible caso: 53874 MSFT\n",
      "h1\n",
      "53874 MSFT\n",
      "===posible caso: 53945 MSFT\n"
     ]
    },
    {
     "name": "stdout",
     "output_type": "stream",
     "text": [
      "===posible caso: 53982 MSFT\n",
      "===posible caso: 54001 MSFT\n",
      "h1\n",
      "54001 MSFT\n",
      "===posible caso: 54022 MSFT\n"
     ]
    },
    {
     "name": "stdout",
     "output_type": "stream",
     "text": [
      "===posible caso: 54044 MSFT\n",
      "h1\n",
      "54044 MSFT\n",
      "===posible caso: 54162 MSFT\n"
     ]
    },
    {
     "name": "stdout",
     "output_type": "stream",
     "text": [
      "===posible caso: 54224 MSFT\n",
      "===posible caso: 54325 MSFT\n"
     ]
    },
    {
     "name": "stdout",
     "output_type": "stream",
     "text": [
      "===posible caso: 54380 MSFT\n",
      "===posible caso: 54416 MSFT\n"
     ]
    },
    {
     "name": "stdout",
     "output_type": "stream",
     "text": [
      "h1\n",
      "54416 MSFT\n",
      "===posible caso: 54480 MSFT\n",
      "===posible caso: 54589 MSFT\n",
      "===posible caso: 54637 MSFT\n",
      "===posible caso: 54724 MSFT\n"
     ]
    },
    {
     "name": "stdout",
     "output_type": "stream",
     "text": [
      "h1\n",
      "54724 MSFT\n",
      "===posible caso: 54839 MSFT\n",
      "h1\n",
      "54839 MSFT\n",
      "===posible caso: 54883 MSFT\n"
     ]
    },
    {
     "name": "stdout",
     "output_type": "stream",
     "text": [
      "h1\n",
      "54883 MSFT\n",
      "===posible caso: 54917 MSFT\n",
      "===posible caso: 54941 MSFT\n"
     ]
    },
    {
     "name": "stdout",
     "output_type": "stream",
     "text": [
      "h1\n",
      "54941 MSFT\n",
      "===posible caso: 55142 MSFT\n",
      "h1\n",
      "55142 MSFT\n",
      "===posible caso: 55187 MSFT\n",
      "===posible caso: 55285 MSFT\n"
     ]
    },
    {
     "name": "stdout",
     "output_type": "stream",
     "text": [
      "===posible caso: 55404 MSFT\n",
      "===posible caso: 55450 MSFT\n",
      "===posible caso: 55467 MSFT\n"
     ]
    },
    {
     "name": "stdout",
     "output_type": "stream",
     "text": [
      "===posible caso: 55488 MSFT\n",
      "===posible caso: 55535 MSFT\n",
      "===posible caso: 55592 MSFT\n"
     ]
    },
    {
     "name": "stdout",
     "output_type": "stream",
     "text": [
      "===posible caso: 55695 MSFT\n",
      "h1\n",
      "55695 MSFT\n",
      "===posible caso: 55721 MSFT\n"
     ]
    },
    {
     "name": "stdout",
     "output_type": "stream",
     "text": [
      "===posible caso: 55758 MSFT\n",
      "===posible caso: 55878 MSFT\n",
      "===posible caso: 56006 MSFT\n",
      "===posible caso: 56128 MSFT\n"
     ]
    },
    {
     "name": "stdout",
     "output_type": "stream",
     "text": [
      "===posible caso: 56167 MSFT\n",
      "===posible caso: 56264 MSFT\n"
     ]
    },
    {
     "name": "stdout",
     "output_type": "stream",
     "text": [
      "h1\n",
      "56264 MSFT\n",
      "===posible caso: 56364 MSFT\n",
      "h1\n",
      "56364 MSFT\n",
      "===posible caso: 56438 MSFT\n"
     ]
    },
    {
     "name": "stdout",
     "output_type": "stream",
     "text": [
      "===posible caso: 56514 MSFT\n",
      "===posible caso: 56546 MSFT\n"
     ]
    },
    {
     "name": "stdout",
     "output_type": "stream",
     "text": [
      "===posible caso: 56567 MSFT\n",
      "===posible caso: 56694 NVDA\n"
     ]
    },
    {
     "name": "stdout",
     "output_type": "stream",
     "text": [
      "===posible caso: 56711 NVDA\n",
      "===posible caso: 56743 NVDA\n"
     ]
    },
    {
     "name": "stdout",
     "output_type": "stream",
     "text": [
      "h1\n",
      "56743 NVDA\n",
      "===posible caso: 56762 NVDA\n",
      "h1\n",
      "56762 NVDA\n",
      "===posible caso: 56808 NVDA\n",
      "===posible caso: 56861 NVDA\n"
     ]
    },
    {
     "name": "stdout",
     "output_type": "stream",
     "text": [
      "===posible caso: 56950 NVDA\n",
      "h1\n",
      "56950 NVDA\n",
      "===posible caso: 56977 NVDA\n"
     ]
    },
    {
     "name": "stdout",
     "output_type": "stream",
     "text": [
      "===posible caso: 57040 NVDA\n",
      "===posible caso: 57095 NVDA\n",
      "===posible caso: 57129 NVDA\n",
      "===posible caso: 57186 NVDA\n"
     ]
    },
    {
     "name": "stdout",
     "output_type": "stream",
     "text": [
      "h1\n",
      "57186 NVDA\n",
      "===posible caso: 57350 NVDA\n",
      "===posible caso: 57377 NVDA\n"
     ]
    },
    {
     "name": "stdout",
     "output_type": "stream",
     "text": [
      "===posible caso: 57464 NVDA\n",
      "===posible caso: 57507 NVDA\n",
      "===posible caso: 57558 NVDA\n"
     ]
    },
    {
     "name": "stdout",
     "output_type": "stream",
     "text": [
      "===posible caso: 57673 NVDA\n",
      "h1\n",
      "57673 NVDA\n",
      "===posible caso: 57698 NVDA\n"
     ]
    },
    {
     "name": "stdout",
     "output_type": "stream",
     "text": [
      "===posible caso: 57775 NVDA\n",
      "===posible caso: 57791 NVDA\n"
     ]
    },
    {
     "name": "stdout",
     "output_type": "stream",
     "text": [
      "h1\n",
      "57791 NVDA\n",
      "===posible caso: 57826 NVDA\n",
      "h1\n",
      "57826 NVDA\n",
      "===posible caso: 57887 NVDA\n"
     ]
    },
    {
     "name": "stdout",
     "output_type": "stream",
     "text": [
      "h1\n",
      "57887 NVDA\n",
      "===posible caso: 57964 NVDA\n",
      "===posible caso: 58128 NVDA\n",
      "===posible caso: 58173 NVDA\n"
     ]
    },
    {
     "name": "stdout",
     "output_type": "stream",
     "text": [
      "===posible caso: 58224 NVDA\n",
      "h1\n",
      "58224 NVDA\n",
      "===posible caso: 58284 NVDA\n"
     ]
    },
    {
     "name": "stdout",
     "output_type": "stream",
     "text": [
      "===posible caso: 58320 NVDA\n",
      "===posible caso: 58385 NVDA\n",
      "h1\n",
      "58385 NVDA\n",
      "===posible caso: 58426 NVDA\n"
     ]
    },
    {
     "name": "stdout",
     "output_type": "stream",
     "text": [
      "h1\n",
      "58426 NVDA\n",
      "===posible caso: 58477 NVDA\n",
      "h1\n",
      "58477 NVDA\n",
      "===posible caso: 58673 NVDA\n"
     ]
    },
    {
     "name": "stdout",
     "output_type": "stream",
     "text": [
      "h1\n",
      "58673 NVDA\n",
      "===posible caso: 58695 NVDA\n",
      "===posible caso: 58790 NVDA\n",
      "===posible caso: 58856 NVDA\n"
     ]
    },
    {
     "name": "stdout",
     "output_type": "stream",
     "text": [
      "===posible caso: 58940 NVDA\n",
      "===posible caso: 58987 NVDA\n"
     ]
    },
    {
     "name": "stdout",
     "output_type": "stream",
     "text": [
      "===posible caso: 59004 NVDA\n",
      "===posible caso: 59022 NVDA\n",
      "===posible caso: 59087 NVDA\n"
     ]
    },
    {
     "name": "stdout",
     "output_type": "stream",
     "text": [
      "===posible caso: 59141 NVDA\n",
      "===posible caso: 59197 NVDA\n",
      "h1\n",
      "59197 NVDA\n",
      "===posible caso: 59228 NVDA\n"
     ]
    },
    {
     "name": "stdout",
     "output_type": "stream",
     "text": [
      "===posible caso: 59287 NVDA\n",
      "h1\n",
      "59287 NVDA\n",
      "===posible caso: 59332 NVDA\n"
     ]
    },
    {
     "name": "stdout",
     "output_type": "stream",
     "text": [
      "===posible caso: 59405 NVDA\n",
      "===posible caso: 59451 NVDA\n"
     ]
    },
    {
     "name": "stdout",
     "output_type": "stream",
     "text": [
      "h1\n",
      "59451 NVDA\n",
      "===posible caso: 59497 NVDA\n",
      "===posible caso: 59528 NVDA\n"
     ]
    },
    {
     "name": "stdout",
     "output_type": "stream",
     "text": [
      "h1\n",
      "59528 NVDA\n",
      "===posible caso: 59659 NVDA\n",
      "h1\n",
      "59659 NVDA\n",
      "===posible caso: 59809 NVDA\n"
     ]
    },
    {
     "name": "stdout",
     "output_type": "stream",
     "text": [
      "===posible caso: 59859 NVDA\n",
      "===posible caso: 59895 NVDA\n",
      "h2\n",
      "h4\n",
      "h2\n",
      "h4\n",
      "h1\n",
      "59895 NVDA\n",
      "===posible caso: 59957 NVDA\n"
     ]
    },
    {
     "name": "stdout",
     "output_type": "stream",
     "text": [
      "h1\n",
      "59957 NVDA\n",
      "===posible caso: 59984 NVDA\n",
      "h1\n",
      "59984 NVDA\n",
      "===posible caso: 60018 NVDA\n",
      "===posible caso: 60046 NVDA\n"
     ]
    },
    {
     "name": "stdout",
     "output_type": "stream",
     "text": [
      "===posible caso: 60068 NVDA\n",
      "===posible caso: 60099 NVDA\n",
      "h3\n",
      "h4\n",
      "h3\n",
      "h4\n",
      "h3\n",
      "h4\n",
      "h3\n",
      "h4\n",
      "60099 NVDA\n",
      "===posible caso: 60129 NVDA\n"
     ]
    },
    {
     "name": "stdout",
     "output_type": "stream",
     "text": [
      "h3\n",
      "h4\n",
      "h3\n",
      "h4\n",
      "h3\n",
      "h4\n",
      "h3\n",
      "h4\n",
      "60129 NVDA\n",
      "===posible caso: 60182 WMT\n",
      "h1\n",
      "60182 WMT\n",
      "===posible caso: 60235 WMT\n"
     ]
    },
    {
     "name": "stdout",
     "output_type": "stream",
     "text": [
      "h1\n",
      "60235 WMT\n",
      "===posible caso: 60265 WMT\n",
      "h1\n",
      "60265 WMT\n",
      "===posible caso: 60350 WMT\n"
     ]
    },
    {
     "name": "stdout",
     "output_type": "stream",
     "text": [
      "h1\n",
      "60350 WMT\n",
      "===posible caso: 60405 WMT\n",
      "===posible caso: 60422 WMT\n"
     ]
    },
    {
     "name": "stdout",
     "output_type": "stream",
     "text": [
      "===posible caso: 60521 WMT\n",
      "h1\n",
      "60521 WMT\n",
      "===posible caso: 60585 WMT\n"
     ]
    },
    {
     "name": "stdout",
     "output_type": "stream",
     "text": [
      "h1\n",
      "60585 WMT\n",
      "===posible caso: 60752 WMT\n",
      "h1\n",
      "60752 WMT\n",
      "===posible caso: 60784 WMT\n",
      "===posible caso: 60829 WMT\n",
      "===posible caso: 60849 WMT\n"
     ]
    },
    {
     "name": "stdout",
     "output_type": "stream",
     "text": [
      "h1\n",
      "60849 WMT\n",
      "===posible caso: 60894 WMT\n",
      "===posible caso: 60943 WMT\n"
     ]
    },
    {
     "name": "stdout",
     "output_type": "stream",
     "text": [
      "===posible caso: 61110 WMT\n",
      "===posible caso: 61183 WMT\n"
     ]
    },
    {
     "name": "stdout",
     "output_type": "stream",
     "text": [
      "===posible caso: 61259 WMT\n",
      "===posible caso: 61283 WMT\n"
     ]
    },
    {
     "name": "stdout",
     "output_type": "stream",
     "text": [
      "===posible caso: 61303 WMT\n",
      "h1\n",
      "61303 WMT\n",
      "===posible caso: 61332 WMT\n"
     ]
    },
    {
     "name": "stdout",
     "output_type": "stream",
     "text": [
      "===posible caso: 61362 WMT\n",
      "h1\n",
      "61362 WMT\n",
      "===posible caso: 61419 WMT\n"
     ]
    },
    {
     "name": "stdout",
     "output_type": "stream",
     "text": [
      "h1\n",
      "61419 WMT\n",
      "===posible caso: 61442 WMT\n",
      "h1\n",
      "61442 WMT\n",
      "===posible caso: 61557 WMT\n"
     ]
    },
    {
     "name": "stdout",
     "output_type": "stream",
     "text": [
      "===posible caso: 61657 WMT\n",
      "===posible caso: 61717 WMT\n",
      "h1\n",
      "61717 WMT\n",
      "===posible caso: 61738 WMT\n"
     ]
    },
    {
     "name": "stdout",
     "output_type": "stream",
     "text": [
      "h1\n",
      "61738 WMT\n",
      "===posible caso: 61801 WMT\n",
      "===posible caso: 61860 WMT\n"
     ]
    },
    {
     "name": "stdout",
     "output_type": "stream",
     "text": [
      "h1\n",
      "61860 WMT\n",
      "===posible caso: 61935 WMT\n",
      "===posible caso: 62013 WMT\n"
     ]
    },
    {
     "name": "stdout",
     "output_type": "stream",
     "text": [
      "===posible caso: 62057 WMT\n",
      "===posible caso: 62143 WMT\n",
      "===posible caso: 62172 WMT\n"
     ]
    },
    {
     "name": "stdout",
     "output_type": "stream",
     "text": [
      "===posible caso: 62274 WMT\n",
      "===posible caso: 62390 WMT\n"
     ]
    },
    {
     "name": "stdout",
     "output_type": "stream",
     "text": [
      "===posible caso: 62437 WMT\n",
      "h1\n",
      "62437 WMT\n",
      "===posible caso: 62531 WMT\n",
      "===posible caso: 62610 WMT\n"
     ]
    },
    {
     "name": "stdout",
     "output_type": "stream",
     "text": [
      "===posible caso: 62635 WMT\n",
      "===posible caso: 62738 WMT\n"
     ]
    },
    {
     "name": "stdout",
     "output_type": "stream",
     "text": [
      "===posible caso: 62782 WMT\n",
      "h1\n",
      "62782 WMT\n",
      "===posible caso: 62831 WMT\n"
     ]
    },
    {
     "name": "stdout",
     "output_type": "stream",
     "text": [
      "===posible caso: 62892 WMT\n",
      "h1\n",
      "62892 WMT\n",
      "===posible caso: 62931 WMT\n"
     ]
    },
    {
     "name": "stdout",
     "output_type": "stream",
     "text": [
      "h2\n",
      "h4\n",
      "h1\n",
      "62931 WMT\n",
      "===posible caso: 63055 WMT\n",
      "h1\n",
      "63055 WMT\n",
      "===posible caso: 63105 WMT\n"
     ]
    },
    {
     "name": "stdout",
     "output_type": "stream",
     "text": [
      "h2\n",
      "h4\n",
      "h1\n",
      "63105 WMT\n",
      "===posible caso: 63126 WMT\n",
      "===posible caso: 63283 WMT\n"
     ]
    },
    {
     "name": "stdout",
     "output_type": "stream",
     "text": [
      "===posible caso: 63343 WMT\n",
      "h1\n",
      "63343 WMT\n",
      "===posible caso: 63378 WMT\n",
      "===posible caso: 63436 WMT\n"
     ]
    },
    {
     "name": "stdout",
     "output_type": "stream",
     "text": [
      "===posible caso: 63583 WMT\n",
      "h1\n",
      "63583 WMT\n",
      "===posible caso: 63618 WMT\n"
     ]
    },
    {
     "name": "stdout",
     "output_type": "stream",
     "text": [
      "h1\n",
      "63618 WMT\n",
      "===posible caso: 63751 BA\n",
      "===posible caso: 63780 BA\n",
      "===posible caso: 63800 BA\n"
     ]
    },
    {
     "name": "stdout",
     "output_type": "stream",
     "text": [
      "===posible caso: 63901 BA\n",
      "h1\n",
      "63901 BA\n",
      "===posible caso: 63948 BA\n"
     ]
    },
    {
     "name": "stdout",
     "output_type": "stream",
     "text": [
      "h1\n",
      "63948 BA\n",
      "===posible caso: 64047 BA\n",
      "===posible caso: 64249 BA\n",
      "===posible caso: 64285 BA\n",
      "h1\n",
      "64285 BA\n",
      "===posible caso: 64320 BA\n",
      "===posible caso: 64368 BA\n"
     ]
    },
    {
     "name": "stdout",
     "output_type": "stream",
     "text": [
      "===posible caso: 64424 BA\n",
      "===posible caso: 64500 BA\n"
     ]
    },
    {
     "name": "stdout",
     "output_type": "stream",
     "text": [
      "===posible caso: 64569 BA\n",
      "===posible caso: 64592 BA\n"
     ]
    },
    {
     "name": "stdout",
     "output_type": "stream",
     "text": [
      "h1\n",
      "64592 BA\n",
      "===posible caso: 64662 BA\n",
      "===posible caso: 64746 BA\n"
     ]
    },
    {
     "name": "stdout",
     "output_type": "stream",
     "text": [
      "h1\n",
      "64746 BA\n",
      "===posible caso: 64859 BA\n",
      "h1\n",
      "64859 BA\n",
      "===posible caso: 64998 BA\n",
      "===posible caso: 65038 BA\n"
     ]
    },
    {
     "name": "stdout",
     "output_type": "stream",
     "text": [
      "===posible caso: 65062 BA\n",
      "===posible caso: 65162 BA\n",
      "===posible caso: 65243 BA\n"
     ]
    },
    {
     "name": "stdout",
     "output_type": "stream",
     "text": [
      "===posible caso: 65311 BA\n",
      "===posible caso: 65399 BA\n"
     ]
    },
    {
     "name": "stdout",
     "output_type": "stream",
     "text": [
      "h1\n",
      "65399 BA\n",
      "===posible caso: 65507 BA\n",
      "===posible caso: 65529 BA\n"
     ]
    },
    {
     "name": "stdout",
     "output_type": "stream",
     "text": [
      "h1\n",
      "65529 BA\n",
      "===posible caso: 65551 BA\n",
      "h1\n",
      "65551 BA\n",
      "===posible caso: 65585 BA\n",
      "===posible caso: 65629 BA\n"
     ]
    },
    {
     "name": "stdout",
     "output_type": "stream",
     "text": [
      "===posible caso: 65651 BA\n",
      "h1\n",
      "65651 BA\n",
      "===posible caso: 65737 BA\n"
     ]
    },
    {
     "name": "stdout",
     "output_type": "stream",
     "text": [
      "===posible caso: 65837 BA\n",
      "===posible caso: 65911 BA\n",
      "===posible caso: 65936 BA\n",
      "===posible caso: 66047 BA\n"
     ]
    },
    {
     "name": "stdout",
     "output_type": "stream",
     "text": [
      "===posible caso: 66149 BA\n",
      "h1\n",
      "66149 BA\n",
      "===posible caso: 66247 BA\n"
     ]
    },
    {
     "name": "stdout",
     "output_type": "stream",
     "text": [
      "h1\n",
      "66247 BA\n",
      "===posible caso: 66362 BA\n",
      "===posible caso: 66414 BA\n",
      "===posible caso: 66501 BA\n"
     ]
    },
    {
     "name": "stdout",
     "output_type": "stream",
     "text": [
      "h1\n",
      "66501 BA\n",
      "===posible caso: 66557 BA\n",
      "h1\n",
      "66557 BA\n",
      "===posible caso: 66599 BA\n"
     ]
    },
    {
     "name": "stdout",
     "output_type": "stream",
     "text": [
      "===posible caso: 66631 BA\n",
      "h1\n",
      "66631 BA\n",
      "===posible caso: 66872 BA\n"
     ]
    },
    {
     "name": "stdout",
     "output_type": "stream",
     "text": [
      "h1\n",
      "66872 BA\n",
      "===posible caso: 66897 BA\n",
      "h2\n",
      "h4\n",
      "h1\n",
      "66897 BA\n",
      "===posible caso: 66935 BA\n"
     ]
    },
    {
     "name": "stdout",
     "output_type": "stream",
     "text": [
      "h1\n",
      "66935 BA\n",
      "===posible caso: 66966 BA\n",
      "===posible caso: 67028 BA\n"
     ]
    },
    {
     "name": "stdout",
     "output_type": "stream",
     "text": [
      "===posible caso: 67048 BA\n",
      "===posible caso: 67089 BA\n"
     ]
    },
    {
     "name": "stdout",
     "output_type": "stream",
     "text": [
      "===posible caso: 67113 BA\n",
      "h1\n",
      "67113 BA\n",
      "===posible caso: 67185 BA\n",
      "===posible caso: 67301 DIS\n"
     ]
    },
    {
     "name": "stdout",
     "output_type": "stream",
     "text": [
      "===posible caso: 67349 DIS\n",
      "===posible caso: 67394 DIS\n",
      "===posible caso: 67436 DIS\n"
     ]
    },
    {
     "name": "stdout",
     "output_type": "stream",
     "text": [
      "===posible caso: 67488 DIS\n",
      "===posible caso: 67659 DIS\n"
     ]
    },
    {
     "name": "stdout",
     "output_type": "stream",
     "text": [
      "===posible caso: 67690 DIS\n",
      "h1\n",
      "67690 DIS\n",
      "===posible caso: 67742 DIS\n"
     ]
    },
    {
     "name": "stdout",
     "output_type": "stream",
     "text": [
      "h1\n",
      "67742 DIS\n",
      "===posible caso: 67783 DIS\n",
      "h1\n",
      "67783 DIS\n",
      "===posible caso: 67815 DIS\n",
      "===posible caso: 67908 DIS\n"
     ]
    },
    {
     "name": "stdout",
     "output_type": "stream",
     "text": [
      "===posible caso: 67934 DIS\n",
      "h2\n",
      "h4\n",
      "h1\n",
      "67934 DIS\n",
      "===posible caso: 68002 DIS\n"
     ]
    },
    {
     "name": "stdout",
     "output_type": "stream",
     "text": [
      "===posible caso: 68124 DIS\n",
      "h1\n",
      "68124 DIS\n",
      "===posible caso: 68184 DIS\n",
      "===posible caso: 68206 DIS\n"
     ]
    },
    {
     "name": "stdout",
     "output_type": "stream",
     "text": [
      "===posible caso: 68242 DIS\n",
      "===posible caso: 68269 DIS\n",
      "h1\n",
      "68269 DIS\n",
      "===posible caso: 68305 DIS\n"
     ]
    },
    {
     "name": "stdout",
     "output_type": "stream",
     "text": [
      "===posible caso: 68358 DIS\n",
      "===posible caso: 68396 DIS\n"
     ]
    },
    {
     "name": "stdout",
     "output_type": "stream",
     "text": [
      "===posible caso: 68477 DIS\n",
      "===posible caso: 68516 DIS\n",
      "===posible caso: 68594 DIS\n"
     ]
    },
    {
     "name": "stdout",
     "output_type": "stream",
     "text": [
      "h1\n",
      "68594 DIS\n",
      "===posible caso: 68612 DIS\n",
      "h1\n",
      "68612 DIS\n",
      "===posible caso: 68779 DIS\n"
     ]
    },
    {
     "name": "stdout",
     "output_type": "stream",
     "text": [
      "h1\n",
      "68779 DIS\n",
      "===posible caso: 68882 DIS\n",
      "===posible caso: 68907 DIS\n",
      "===posible caso: 69007 DIS\n"
     ]
    },
    {
     "name": "stdout",
     "output_type": "stream",
     "text": [
      "h1\n",
      "69007 DIS\n",
      "===posible caso: 69057 DIS\n",
      "===posible caso: 69112 DIS\n"
     ]
    },
    {
     "name": "stdout",
     "output_type": "stream",
     "text": [
      "===posible caso: 69185 DIS\n",
      "===posible caso: 69217 DIS\n",
      "===posible caso: 69239 DIS\n",
      "===posible caso: 69280 DIS\n"
     ]
    },
    {
     "name": "stdout",
     "output_type": "stream",
     "text": [
      "h1\n",
      "69280 DIS\n",
      "===posible caso: 69316 DIS\n",
      "h1\n",
      "69316 DIS\n",
      "===posible caso: 69429 DIS\n"
     ]
    },
    {
     "name": "stdout",
     "output_type": "stream",
     "text": [
      "h1\n",
      "69429 DIS\n",
      "===posible caso: 69472 DIS\n",
      "===posible caso: 69579 DIS\n",
      "===posible caso: 69722 DIS\n"
     ]
    },
    {
     "name": "stdout",
     "output_type": "stream",
     "text": [
      "===posible caso: 69775 DIS\n",
      "===posible caso: 69811 DIS\n"
     ]
    },
    {
     "name": "stdout",
     "output_type": "stream",
     "text": [
      "===posible caso: 69844 DIS\n",
      "===posible caso: 69866 DIS\n",
      "===posible caso: 69941 DIS\n",
      "h1\n",
      "69941 DIS\n",
      "===posible caso: 69981 DIS\n",
      "===posible caso: 70046 DIS\n"
     ]
    },
    {
     "name": "stdout",
     "output_type": "stream",
     "text": [
      "===posible caso: 70143 DIS\n",
      "===posible caso: 70198 DIS\n"
     ]
    },
    {
     "name": "stdout",
     "output_type": "stream",
     "text": [
      "===posible caso: 70283 DIS\n",
      "===posible caso: 70316 DIS\n",
      "===posible caso: 70482 DIS\n",
      "h1\n",
      "70482 DIS\n",
      "===posible caso: 70503 DIS\n"
     ]
    },
    {
     "name": "stdout",
     "output_type": "stream",
     "text": [
      "===posible caso: 70575 DIS\n",
      "===posible caso: 70648 DIS\n"
     ]
    },
    {
     "name": "stdout",
     "output_type": "stream",
     "text": [
      "h1\n",
      "70648 DIS\n",
      "===posible caso: 70675 DIS\n",
      "===posible caso: 70725 DIS\n"
     ]
    },
    {
     "name": "stdout",
     "output_type": "stream",
     "text": [
      "===posible caso: 70837 CAT\n",
      "===posible caso: 70873 CAT\n",
      "===posible caso: 70906 CAT\n"
     ]
    },
    {
     "name": "stdout",
     "output_type": "stream",
     "text": [
      "h1\n",
      "70906 CAT\n",
      "===posible caso: 70978 CAT\n",
      "===posible caso: 71138 CAT\n"
     ]
    },
    {
     "name": "stdout",
     "output_type": "stream",
     "text": [
      "===posible caso: 71174 CAT\n",
      "===posible caso: 71216 CAT\n",
      "===posible caso: 71316 CAT\n",
      "===posible caso: 71515 CAT\n"
     ]
    },
    {
     "name": "stdout",
     "output_type": "stream",
     "text": [
      "===posible caso: 71574 CAT\n",
      "===posible caso: 71662 CAT\n"
     ]
    },
    {
     "name": "stdout",
     "output_type": "stream",
     "text": [
      "h1\n",
      "71662 CAT\n",
      "===posible caso: 71688 CAT\n",
      "===posible caso: 71757 CAT\n"
     ]
    },
    {
     "name": "stdout",
     "output_type": "stream",
     "text": [
      "h1\n",
      "71757 CAT\n",
      "===posible caso: 71884 CAT\n",
      "===posible caso: 72006 CAT\n"
     ]
    },
    {
     "name": "stdout",
     "output_type": "stream",
     "text": [
      "h1\n",
      "72006 CAT\n",
      "===posible caso: 72031 CAT\n",
      "===posible caso: 72100 CAT\n"
     ]
    },
    {
     "name": "stdout",
     "output_type": "stream",
     "text": [
      "===posible caso: 72134 CAT\n",
      "===posible caso: 72159 CAT\n",
      "h2\n",
      "h4\n",
      "h1\n",
      "72159 CAT\n",
      "===posible caso: 72228 CAT\n",
      "===posible caso: 72255 CAT\n"
     ]
    },
    {
     "name": "stdout",
     "output_type": "stream",
     "text": [
      "===posible caso: 72279 CAT\n",
      "===posible caso: 72362 CAT\n"
     ]
    },
    {
     "name": "stdout",
     "output_type": "stream",
     "text": [
      "===posible caso: 72472 CAT\n",
      "===posible caso: 72493 CAT\n",
      "===posible caso: 72543 CAT\n"
     ]
    },
    {
     "name": "stdout",
     "output_type": "stream",
     "text": [
      "===posible caso: 72576 CAT\n",
      "===posible caso: 72593 CAT\n",
      "===posible caso: 72657 CAT\n"
     ]
    },
    {
     "name": "stdout",
     "output_type": "stream",
     "text": [
      "h1\n",
      "72657 CAT\n",
      "===posible caso: 72722 CAT\n",
      "===posible caso: 72799 CAT\n"
     ]
    },
    {
     "name": "stdout",
     "output_type": "stream",
     "text": [
      "===posible caso: 72846 CAT\n",
      "h1\n",
      "72846 CAT\n",
      "===posible caso: 72880 CAT\n"
     ]
    },
    {
     "name": "stdout",
     "output_type": "stream",
     "text": [
      "===posible caso: 72912 CAT\n",
      "===posible caso: 72968 CAT\n",
      "===posible caso: 73008 CAT\n"
     ]
    },
    {
     "name": "stdout",
     "output_type": "stream",
     "text": [
      "h1\n",
      "73008 CAT\n",
      "===posible caso: 73025 CAT\n",
      "===posible caso: 73050 CAT\n"
     ]
    },
    {
     "name": "stdout",
     "output_type": "stream",
     "text": [
      "===posible caso: 73108 CAT\n",
      "===posible caso: 73206 CAT\n",
      "===posible caso: 73316 CAT\n"
     ]
    },
    {
     "name": "stdout",
     "output_type": "stream",
     "text": [
      "===posible caso: 73439 CAT\n",
      "===posible caso: 73561 CAT\n"
     ]
    },
    {
     "name": "stdout",
     "output_type": "stream",
     "text": [
      "h1\n",
      "73561 CAT\n",
      "===posible caso: 73713 CAT\n",
      "===posible caso: 73767 CAT\n",
      "===posible caso: 73853 CAT\n",
      "===posible caso: 73891 CAT\n",
      "===posible caso: 73944 CAT\n"
     ]
    },
    {
     "name": "stdout",
     "output_type": "stream",
     "text": [
      "h1\n",
      "73944 CAT\n",
      "===posible caso: 74007 CAT\n",
      "===posible caso: 74044 CAT\n"
     ]
    },
    {
     "name": "stdout",
     "output_type": "stream",
     "text": [
      "h1\n",
      "74044 CAT\n",
      "===posible caso: 74086 CAT\n",
      "h1\n",
      "74086 CAT\n",
      "===posible caso: 74110 CAT\n"
     ]
    },
    {
     "name": "stdout",
     "output_type": "stream",
     "text": [
      "===posible caso: 74169 CAT\n",
      "===posible caso: 74226 CAT\n",
      "===posible caso: 74252 CAT\n"
     ]
    },
    {
     "name": "stdout",
     "output_type": "stream",
     "text": [
      "===posible caso: 74274 CAT\n",
      "===posible caso: 74379 IBM\n"
     ]
    },
    {
     "name": "stdout",
     "output_type": "stream",
     "text": [
      "===posible caso: 74417 IBM\n",
      "===posible caso: 74537 IBM\n",
      "===posible caso: 74590 IBM\n",
      "===posible caso: 74676 IBM\n"
     ]
    },
    {
     "name": "stdout",
     "output_type": "stream",
     "text": [
      "h1\n",
      "74676 IBM\n",
      "===posible caso: 74696 IBM\n",
      "===posible caso: 74850 IBM\n"
     ]
    },
    {
     "name": "stdout",
     "output_type": "stream",
     "text": [
      "h1\n",
      "74850 IBM\n",
      "===posible caso: 74886 IBM\n",
      "===posible caso: 74938 IBM\n",
      "===posible caso: 74982 IBM\n"
     ]
    },
    {
     "name": "stdout",
     "output_type": "stream",
     "text": [
      "===posible caso: 75111 IBM\n",
      "===posible caso: 75154 IBM\n"
     ]
    },
    {
     "name": "stdout",
     "output_type": "stream",
     "text": [
      "===posible caso: 75235 IBM\n",
      "h1\n",
      "75235 IBM\n",
      "===posible caso: 75357 IBM\n"
     ]
    },
    {
     "name": "stdout",
     "output_type": "stream",
     "text": [
      "===posible caso: 75383 IBM\n",
      "===posible caso: 75555 IBM\n"
     ]
    },
    {
     "name": "stdout",
     "output_type": "stream",
     "text": [
      "===posible caso: 75753 IBM\n",
      "===posible caso: 75865 IBM\n",
      "===posible caso: 75932 IBM\n"
     ]
    },
    {
     "name": "stdout",
     "output_type": "stream",
     "text": [
      "===posible caso: 76010 IBM\n",
      "h1\n",
      "76010 IBM\n",
      "===posible caso: 76077 IBM\n"
     ]
    },
    {
     "name": "stdout",
     "output_type": "stream",
     "text": [
      "===posible caso: 76123 IBM\n",
      "===posible caso: 76192 IBM\n",
      "===posible caso: 76230 IBM\n",
      "===posible caso: 76257 IBM\n"
     ]
    },
    {
     "name": "stdout",
     "output_type": "stream",
     "text": [
      "h1\n",
      "76257 IBM\n",
      "===posible caso: 76303 IBM\n",
      "===posible caso: 76429 IBM\n",
      "===posible caso: 76481 IBM\n"
     ]
    },
    {
     "name": "stdout",
     "output_type": "stream",
     "text": [
      "===posible caso: 76542 IBM\n",
      "h1\n",
      "76542 IBM\n",
      "===posible caso: 76603 IBM\n"
     ]
    },
    {
     "name": "stdout",
     "output_type": "stream",
     "text": [
      "h1\n",
      "76603 IBM\n",
      "===posible caso: 76626 IBM\n",
      "h1\n",
      "76626 IBM\n",
      "===posible caso: 76668 IBM\n"
     ]
    },
    {
     "name": "stdout",
     "output_type": "stream",
     "text": [
      "===posible caso: 76720 IBM\n",
      "===posible caso: 76753 IBM\n",
      "h1\n",
      "76753 IBM\n",
      "===posible caso: 76842 IBM\n"
     ]
    },
    {
     "name": "stdout",
     "output_type": "stream",
     "text": [
      "h1\n",
      "76842 IBM\n",
      "===posible caso: 76883 IBM\n",
      "===posible caso: 76912 IBM\n"
     ]
    },
    {
     "name": "stdout",
     "output_type": "stream",
     "text": [
      "h1\n",
      "76912 IBM\n",
      "===posible caso: 76953 IBM\n",
      "===posible caso: 77018 IBM\n",
      "h1\n",
      "77018 IBM\n",
      "===posible caso: 77073 IBM\n"
     ]
    },
    {
     "name": "stdout",
     "output_type": "stream",
     "text": [
      "===posible caso: 77094 IBM\n",
      "h1\n",
      "77094 IBM\n",
      "===posible caso: 77122 IBM\n"
     ]
    },
    {
     "name": "stdout",
     "output_type": "stream",
     "text": [
      "===posible caso: 77149 IBM\n",
      "h1\n",
      "77149 IBM\n",
      "===posible caso: 77225 IBM\n"
     ]
    },
    {
     "name": "stdout",
     "output_type": "stream",
     "text": [
      "===posible caso: 77281 IBM\n",
      "h1\n",
      "77281 IBM\n",
      "===posible caso: 77304 IBM\n"
     ]
    },
    {
     "name": "stdout",
     "output_type": "stream",
     "text": [
      "h1\n",
      "77304 IBM\n",
      "===posible caso: 77388 IBM\n",
      "===posible caso: 77494 IBM\n",
      "===posible caso: 77601 IBM\n"
     ]
    },
    {
     "name": "stdout",
     "output_type": "stream",
     "text": [
      "h1\n",
      "77601 IBM\n",
      "===posible caso: 77650 IBM\n",
      "===posible caso: 77729 IBM\n",
      "===posible caso: 77761 IBM\n"
     ]
    },
    {
     "name": "stdout",
     "output_type": "stream",
     "text": [
      "===posible caso: 77813 IBM\n",
      "===posible caso: 77913 WFC\n"
     ]
    },
    {
     "name": "stdout",
     "output_type": "stream",
     "text": [
      "h1\n",
      "77913 WFC\n",
      "===posible caso: 77991 WFC\n",
      "h1\n",
      "77991 WFC\n",
      "===posible caso: 78287 WFC\n"
     ]
    },
    {
     "name": "stdout",
     "output_type": "stream",
     "text": [
      "h1\n",
      "78287 WFC\n",
      "===posible caso: 78336 WFC\n",
      "===posible caso: 78384 WFC\n",
      "h2\n",
      "h4\n",
      "h1\n",
      "78384 WFC\n",
      "===posible caso: 78421 WFC\n"
     ]
    },
    {
     "name": "stdout",
     "output_type": "stream",
     "text": [
      "h1\n",
      "78421 WFC\n",
      "===posible caso: 78472 WFC\n",
      "===posible caso: 78514 WFC\n",
      "h1\n",
      "78514 WFC\n",
      "===posible caso: 78586 WFC\n"
     ]
    },
    {
     "name": "stdout",
     "output_type": "stream",
     "text": [
      "===posible caso: 78649 WFC\n",
      "h1\n",
      "78649 WFC\n",
      "===posible caso: 78711 WFC\n"
     ]
    },
    {
     "name": "stdout",
     "output_type": "stream",
     "text": [
      "===posible caso: 79001 WFC\n",
      "===posible caso: 79094 WFC\n"
     ]
    },
    {
     "name": "stdout",
     "output_type": "stream",
     "text": [
      "===posible caso: 79122 WFC\n",
      "===posible caso: 79227 WFC\n",
      "===posible caso: 79319 WFC\n"
     ]
    },
    {
     "name": "stdout",
     "output_type": "stream",
     "text": [
      "h1\n",
      "79319 WFC\n",
      "===posible caso: 79436 WFC\n",
      "h1\n",
      "79436 WFC\n",
      "===posible caso: 79513 WFC\n"
     ]
    },
    {
     "name": "stdout",
     "output_type": "stream",
     "text": [
      "===posible caso: 79612 WFC\n",
      "===posible caso: 79660 WFC\n"
     ]
    },
    {
     "name": "stdout",
     "output_type": "stream",
     "text": [
      "h1\n",
      "79660 WFC\n",
      "===posible caso: 79696 WFC\n",
      "===posible caso: 79725 WFC\n",
      "===posible caso: 79762 WFC\n",
      "===posible caso: 79783 WFC\n"
     ]
    },
    {
     "name": "stdout",
     "output_type": "stream",
     "text": [
      "===posible caso: 79832 WFC\n",
      "===posible caso: 79888 WFC\n"
     ]
    },
    {
     "name": "stdout",
     "output_type": "stream",
     "text": [
      "===posible caso: 79910 WFC\n",
      "===posible caso: 79954 WFC\n"
     ]
    },
    {
     "name": "stdout",
     "output_type": "stream",
     "text": [
      "===posible caso: 80048 WFC\n",
      "h1\n",
      "80048 WFC\n",
      "===posible caso: 80090 WFC\n"
     ]
    },
    {
     "name": "stdout",
     "output_type": "stream",
     "text": [
      "===posible caso: 80178 WFC\n",
      "===posible caso: 80238 WFC\n"
     ]
    },
    {
     "name": "stdout",
     "output_type": "stream",
     "text": [
      "===posible caso: 80309 WFC\n",
      "h1\n",
      "80309 WFC\n",
      "===posible caso: 80331 WFC\n"
     ]
    },
    {
     "name": "stdout",
     "output_type": "stream",
     "text": [
      "h1\n",
      "80331 WFC\n",
      "===posible caso: 80375 WFC\n",
      "h1\n",
      "80375 WFC\n",
      "===posible caso: 80463 WFC\n",
      "===posible caso: 80509 WFC\n"
     ]
    },
    {
     "name": "stdout",
     "output_type": "stream",
     "text": [
      "===posible caso: 80547 WFC\n",
      "===posible caso: 80609 WFC\n"
     ]
    },
    {
     "name": "stdout",
     "output_type": "stream",
     "text": [
      "===posible caso: 80698 WFC\n",
      "===posible caso: 80746 WFC\n"
     ]
    },
    {
     "name": "stdout",
     "output_type": "stream",
     "text": [
      "===posible caso: 80804 WFC\n",
      "===posible caso: 80923 WFC\n"
     ]
    },
    {
     "name": "stdout",
     "output_type": "stream",
     "text": [
      "h1\n",
      "80923 WFC\n",
      "===posible caso: 80997 WFC\n",
      "h1\n",
      "80997 WFC\n",
      "===posible caso: 81114 WFC\n"
     ]
    },
    {
     "name": "stdout",
     "output_type": "stream",
     "text": [
      "h1\n",
      "81114 WFC\n",
      "===posible caso: 81259 WFC\n",
      "===posible caso: 81447 PLTR\n"
     ]
    },
    {
     "name": "stdout",
     "output_type": "stream",
     "text": [
      "===posible caso: 81512 PLTR\n",
      "===posible caso: 81579 PLTR\n"
     ]
    },
    {
     "name": "stdout",
     "output_type": "stream",
     "text": [
      "===posible caso: 81644 PLTR\n",
      "===posible caso: 81728 PLTR\n",
      "===posible caso: 81747 PLTR\n"
     ]
    },
    {
     "name": "stdout",
     "output_type": "stream",
     "text": [
      "h1\n",
      "81747 PLTR\n",
      "===posible caso: 81772 PLTR\n",
      "===posible caso: 81798 PLTR\n"
     ]
    },
    {
     "name": "stdout",
     "output_type": "stream",
     "text": [
      "h1\n",
      "81798 PLTR\n",
      "===posible caso: 81871 PLTR\n",
      "===posible caso: 81918 PLTR\n",
      "h1\n",
      "81918 PLTR\n",
      "===posible caso: 81934 PLTR\n"
     ]
    },
    {
     "name": "stdout",
     "output_type": "stream",
     "text": [
      "===posible caso: 82058 PLTR\n",
      "h1\n",
      "82058 PLTR\n",
      "===posible caso: 82125 PLTR\n"
     ]
    },
    {
     "name": "stdout",
     "output_type": "stream",
     "text": [
      "h1\n",
      "82125 PLTR\n",
      "===posible caso: 82179 PLTR\n",
      "===posible caso: 82243 PLTR\n"
     ]
    },
    {
     "name": "stdout",
     "output_type": "stream",
     "text": [
      "h1\n",
      "82243 PLTR\n",
      "===posible caso: 82359 PLTR\n",
      "===posible caso: 82510 PLTR\n",
      "===posible caso: 82536 PLTR\n"
     ]
    },
    {
     "name": "stdout",
     "output_type": "stream",
     "text": [
      "===posible caso: 82599 PLTR\n",
      "===posible caso: 82635 PLTR\n",
      "===posible caso: 82721 PLTR\n"
     ]
    },
    {
     "name": "stdout",
     "output_type": "stream",
     "text": [
      "h1\n",
      "82721 PLTR\n",
      "===posible caso: 82803 PLTR\n",
      "===posible caso: 82852 PLTR\n",
      "===posible caso: 82880 PLTR\n"
     ]
    },
    {
     "name": "stdout",
     "output_type": "stream",
     "text": [
      "===posible caso: 82921 PLTR\n",
      "===posible caso: 82979 PLTR\n"
     ]
    },
    {
     "name": "stdout",
     "output_type": "stream",
     "text": [
      "h1\n",
      "82979 PLTR\n",
      "===posible caso: 83037 PLTR\n",
      "===posible caso: 83098 PLTR\n",
      "h1\n",
      "83098 PLTR\n",
      "===posible caso: 83132 PLTR\n"
     ]
    },
    {
     "name": "stdout",
     "output_type": "stream",
     "text": [
      "h1\n",
      "83132 PLTR\n",
      "===posible caso: 83241 PLTR\n",
      "===posible caso: 83261 PLTR\n"
     ]
    },
    {
     "name": "stdout",
     "output_type": "stream",
     "text": [
      "===posible caso: 83310 PLTR\n",
      "===posible caso: 83410 PLTR\n"
     ]
    },
    {
     "name": "stdout",
     "output_type": "stream",
     "text": [
      "===posible caso: 83436 PLTR\n",
      "h1\n",
      "83436 PLTR\n",
      "===posible caso: 83587 PLTR\n"
     ]
    },
    {
     "name": "stdout",
     "output_type": "stream",
     "text": [
      "h1\n",
      "83587 PLTR\n",
      "===posible caso: 83605 PLTR\n",
      "===posible caso: 83688 PLTR\n"
     ]
    },
    {
     "name": "stdout",
     "output_type": "stream",
     "text": [
      "===posible caso: 83751 PLTR\n",
      "===posible caso: 83862 PLTR\n"
     ]
    },
    {
     "name": "stdout",
     "output_type": "stream",
     "text": [
      "===posible caso: 83954 PLTR\n",
      "h1\n",
      "83954 PLTR\n",
      "===posible caso: 84034 PLTR\n"
     ]
    },
    {
     "name": "stdout",
     "output_type": "stream",
     "text": [
      "===posible caso: 84163 PLTR\n",
      "h1\n",
      "84163 PLTR\n",
      "===posible caso: 84283 PLTR\n"
     ]
    },
    {
     "name": "stdout",
     "output_type": "stream",
     "text": [
      "h1\n",
      "84283 PLTR\n",
      "===posible caso: 84413 PLTR\n",
      "===posible caso: 84449 PLTR\n"
     ]
    },
    {
     "name": "stdout",
     "output_type": "stream",
     "text": [
      "===posible caso: 84494 PLTR\n",
      "===posible caso: 84560 PLTR\n"
     ]
    },
    {
     "name": "stdout",
     "output_type": "stream",
     "text": [
      "===posible caso: 84648 PLTR\n",
      "h1\n",
      "84648 PLTR\n",
      "===posible caso: 84691 PLTR\n"
     ]
    },
    {
     "name": "stdout",
     "output_type": "stream",
     "text": [
      "===posible caso: 84791 PLTR\n",
      "===posible caso: 84815 PLTR\n"
     ]
    },
    {
     "name": "stdout",
     "output_type": "stream",
     "text": [
      "h1\n",
      "84815 PLTR\n",
      "===posible caso: 84879 PLTR\n",
      "===posible caso: 84978 AMD\n"
     ]
    },
    {
     "name": "stdout",
     "output_type": "stream",
     "text": [
      "===posible caso: 84995 AMD\n",
      "h1\n",
      "84995 AMD\n",
      "===posible caso: 85027 AMD\n",
      "===posible caso: 85116 AMD\n"
     ]
    },
    {
     "name": "stdout",
     "output_type": "stream",
     "text": [
      "h1\n",
      "85116 AMD\n",
      "===posible caso: 85228 AMD\n",
      "===posible caso: 85283 AMD\n",
      "===posible caso: 85400 AMD\n",
      "===posible caso: 85469 AMD\n"
     ]
    },
    {
     "name": "stdout",
     "output_type": "stream",
     "text": [
      "h1\n",
      "85469 AMD\n",
      "===posible caso: 85630 AMD\n",
      "h1\n",
      "85630 AMD\n",
      "===posible caso: 85673 AMD\n"
     ]
    },
    {
     "name": "stdout",
     "output_type": "stream",
     "text": [
      "===posible caso: 85695 AMD\n",
      "h1\n",
      "85695 AMD\n",
      "===posible caso: 85772 AMD\n"
     ]
    },
    {
     "name": "stdout",
     "output_type": "stream",
     "text": [
      "h1\n",
      "85772 AMD\n",
      "===posible caso: 85793 AMD\n",
      "===posible caso: 85842 AMD\n"
     ]
    },
    {
     "name": "stdout",
     "output_type": "stream",
     "text": [
      "h1\n",
      "85842 AMD\n",
      "===posible caso: 85890 AMD\n",
      "===posible caso: 85961 AMD\n",
      "h1\n",
      "85961 AMD\n",
      "===posible caso: 86065 AMD\n"
     ]
    },
    {
     "name": "stdout",
     "output_type": "stream",
     "text": [
      "h1\n",
      "86065 AMD\n",
      "===posible caso: 86171 AMD\n",
      "h1\n",
      "86171 AMD\n",
      "===posible caso: 86280 AMD\n"
     ]
    },
    {
     "name": "stdout",
     "output_type": "stream",
     "text": [
      "h1\n",
      "86280 AMD\n",
      "===posible caso: 86324 AMD\n",
      "===posible caso: 86354 AMD\n",
      "===posible caso: 86419 AMD\n"
     ]
    },
    {
     "name": "stdout",
     "output_type": "stream",
     "text": [
      "===posible caso: 86515 AMD\n",
      "===posible caso: 86536 AMD\n"
     ]
    },
    {
     "name": "stdout",
     "output_type": "stream",
     "text": [
      "h1\n",
      "86536 AMD\n",
      "===posible caso: 86559 AMD\n",
      "h1\n",
      "86559 AMD\n",
      "===posible caso: 86615 AMD\n",
      "===posible caso: 86755 AMD\n"
     ]
    },
    {
     "name": "stdout",
     "output_type": "stream",
     "text": [
      "===posible caso: 86773 AMD\n",
      "h1\n",
      "86773 AMD\n",
      "===posible caso: 86819 AMD\n",
      "===posible caso: 86883 AMD\n",
      "===posible caso: 86958 AMD\n"
     ]
    },
    {
     "name": "stdout",
     "output_type": "stream",
     "text": [
      "===posible caso: 87020 AMD\n",
      "===posible caso: 87108 AMD\n",
      "===posible caso: 87145 AMD\n"
     ]
    },
    {
     "name": "stdout",
     "output_type": "stream",
     "text": [
      "h1\n",
      "87145 AMD\n",
      "===posible caso: 87201 AMD\n",
      "h1\n",
      "87201 AMD\n",
      "===posible caso: 87248 AMD\n",
      "===posible caso: 87265 AMD\n"
     ]
    },
    {
     "name": "stdout",
     "output_type": "stream",
     "text": [
      "===posible caso: 87306 AMD\n",
      "===posible caso: 87357 AMD\n",
      "===posible caso: 87402 AMD\n"
     ]
    },
    {
     "name": "stdout",
     "output_type": "stream",
     "text": [
      "===posible caso: 87478 AMD\n",
      "===posible caso: 87544 AMD\n",
      "===posible caso: 87618 AMD\n"
     ]
    },
    {
     "name": "stdout",
     "output_type": "stream",
     "text": [
      "===posible caso: 87686 AMD\n",
      "===posible caso: 87819 AMD\n"
     ]
    },
    {
     "name": "stdout",
     "output_type": "stream",
     "text": [
      "===posible caso: 87886 AMD\n",
      "===posible caso: 87992 AMD\n",
      "h1\n",
      "87992 AMD\n",
      "===posible caso: 88030 AMD\n",
      "===posible caso: 88093 AMD\n"
     ]
    },
    {
     "name": "stdout",
     "output_type": "stream",
     "text": [
      "h1\n",
      "88093 AMD\n",
      "===posible caso: 88143 AMD\n",
      "===posible caso: 88186 AMD\n",
      "h1\n",
      "88186 AMD\n",
      "===posible caso: 88231 AMD\n"
     ]
    },
    {
     "name": "stdout",
     "output_type": "stream",
     "text": [
      "===posible caso: 88267 AMD\n",
      "===posible caso: 88345 AMD\n",
      "===posible caso: 88413 AMD\n"
     ]
    },
    {
     "name": "stdout",
     "output_type": "stream",
     "text": [
      "h3\n",
      "h4\n",
      "h3\n",
      "h4\n",
      "h3\n",
      "h4\n",
      "h3\n",
      "h4\n",
      "88413 AMD\n",
      "===posible caso: 88514 AVGO\n",
      "h1\n",
      "88514 AVGO\n",
      "===posible caso: 88575 AVGO\n"
     ]
    },
    {
     "name": "stdout",
     "output_type": "stream",
     "text": [
      "h1\n",
      "88575 AVGO\n",
      "===posible caso: 88616 AVGO\n",
      "===posible caso: 88653 AVGO\n",
      "===posible caso: 88681 AVGO\n",
      "===posible caso: 88716 AVGO\n",
      "h1\n",
      "88716 AVGO\n",
      "===posible caso: 88764 AVGO\n",
      "===posible caso: 88807 AVGO\n"
     ]
    },
    {
     "name": "stdout",
     "output_type": "stream",
     "text": [
      "===posible caso: 88915 AVGO\n",
      "h1\n",
      "88915 AVGO\n",
      "===posible caso: 89006 AVGO\n"
     ]
    },
    {
     "name": "stdout",
     "output_type": "stream",
     "text": [
      "===posible caso: 89173 AVGO\n",
      "h1\n",
      "89173 AVGO\n",
      "===posible caso: 89198 AVGO\n"
     ]
    },
    {
     "name": "stdout",
     "output_type": "stream",
     "text": [
      "===posible caso: 89316 AVGO\n",
      "===posible caso: 89493 AVGO\n"
     ]
    },
    {
     "name": "stdout",
     "output_type": "stream",
     "text": [
      "h1\n",
      "89493 AVGO\n",
      "===posible caso: 89569 AVGO\n",
      "===posible caso: 89606 AVGO\n"
     ]
    },
    {
     "name": "stdout",
     "output_type": "stream",
     "text": [
      "h1\n",
      "89606 AVGO\n",
      "===posible caso: 89646 AVGO\n",
      "h1\n",
      "89646 AVGO\n",
      "===posible caso: 89679 AVGO\n"
     ]
    },
    {
     "name": "stdout",
     "output_type": "stream",
     "text": [
      "===posible caso: 89772 AVGO\n",
      "===posible caso: 89833 AVGO\n",
      "===posible caso: 89948 AVGO\n",
      "===posible caso: 90044 AVGO\n",
      "h1\n",
      "90044 AVGO\n",
      "===posible caso: 90098 AVGO\n",
      "===posible caso: 90195 AVGO\n"
     ]
    },
    {
     "name": "stdout",
     "output_type": "stream",
     "text": [
      "===posible caso: 90296 AVGO\n",
      "h1\n",
      "90296 AVGO\n",
      "===posible caso: 90313 AVGO\n"
     ]
    },
    {
     "name": "stdout",
     "output_type": "stream",
     "text": [
      "h1\n",
      "90313 AVGO\n",
      "===posible caso: 90508 AVGO\n",
      "===posible caso: 90619 AVGO\n"
     ]
    },
    {
     "name": "stdout",
     "output_type": "stream",
     "text": [
      "===posible caso: 90676 AVGO\n",
      "h1\n",
      "90676 AVGO\n",
      "===posible caso: 90743 AVGO\n"
     ]
    },
    {
     "name": "stdout",
     "output_type": "stream",
     "text": [
      "===posible caso: 90897 AVGO\n",
      "===posible caso: 90957 AVGO\n",
      "===posible caso: 91025 AVGO\n"
     ]
    },
    {
     "name": "stdout",
     "output_type": "stream",
     "text": [
      "===posible caso: 91068 AVGO\n",
      "===posible caso: 91111 AVGO\n"
     ]
    },
    {
     "name": "stdout",
     "output_type": "stream",
     "text": [
      "===posible caso: 91223 AVGO\n",
      "h1\n",
      "91223 AVGO\n",
      "===posible caso: 91294 AVGO\n"
     ]
    },
    {
     "name": "stdout",
     "output_type": "stream",
     "text": [
      "===posible caso: 91323 AVGO\n",
      "h1\n",
      "91323 AVGO\n",
      "===posible caso: 91461 AVGO\n",
      "===posible caso: 91485 AVGO\n"
     ]
    },
    {
     "name": "stdout",
     "output_type": "stream",
     "text": [
      "h1\n",
      "91485 AVGO\n",
      "===posible caso: 91605 AVGO\n",
      "===posible caso: 91679 AVGO\n",
      "===posible caso: 91715 AVGO\n",
      "h1\n",
      "91715 AVGO\n",
      "===posible caso: 91777 AVGO\n"
     ]
    },
    {
     "name": "stdout",
     "output_type": "stream",
     "text": [
      "===posible caso: 91883 AVGO\n",
      "h1\n",
      "91883 AVGO\n",
      "===posible caso: 91954 AVGO\n",
      "===posible caso: 92026 HOOD\n",
      "===posible caso: 92121 HOOD\n"
     ]
    },
    {
     "name": "stdout",
     "output_type": "stream",
     "text": [
      "===posible caso: 92344 HOOD\n",
      "===posible caso: 92389 HOOD\n",
      "===posible caso: 92472 HOOD\n",
      "===posible caso: 92526 HOOD\n"
     ]
    },
    {
     "name": "stdout",
     "output_type": "stream",
     "text": [
      "===posible caso: 92667 HOOD\n",
      "===posible caso: 92702 HOOD\n",
      "===posible caso: 92732 HOOD\n"
     ]
    },
    {
     "name": "stdout",
     "output_type": "stream",
     "text": [
      "h2\n",
      "h4\n",
      "h2\n",
      "h4\n",
      "h1\n",
      "92732 HOOD\n",
      "===posible caso: 92822 HOOD\n",
      "===posible caso: 92846 HOOD\n"
     ]
    },
    {
     "name": "stdout",
     "output_type": "stream",
     "text": [
      "===posible caso: 92874 HOOD\n",
      "===posible caso: 92902 HOOD\n"
     ]
    },
    {
     "name": "stdout",
     "output_type": "stream",
     "text": [
      "h1\n",
      "92902 HOOD\n",
      "===posible caso: 93146 HOOD\n",
      "===posible caso: 93215 HOOD\n"
     ]
    },
    {
     "name": "stdout",
     "output_type": "stream",
     "text": [
      "===posible caso: 93272 HOOD\n",
      "h1\n",
      "93272 HOOD\n",
      "===posible caso: 93341 HOOD\n"
     ]
    },
    {
     "name": "stdout",
     "output_type": "stream",
     "text": [
      "===posible caso: 93488 HOOD\n",
      "===posible caso: 93523 HOOD\n",
      "===posible caso: 93602 HOOD\n"
     ]
    },
    {
     "name": "stdout",
     "output_type": "stream",
     "text": [
      "h1\n",
      "93602 HOOD\n",
      "===posible caso: 93647 HOOD\n",
      "===posible caso: 93709 HOOD\n",
      "h1\n",
      "93709 HOOD\n",
      "===posible caso: 93793 HOOD\n"
     ]
    },
    {
     "name": "stdout",
     "output_type": "stream",
     "text": [
      "===posible caso: 93861 HOOD\n",
      "h1\n",
      "93861 HOOD\n",
      "===posible caso: 94029 HOOD\n"
     ]
    },
    {
     "name": "stdout",
     "output_type": "stream",
     "text": [
      "h1\n",
      "94029 HOOD\n",
      "===posible caso: 94069 HOOD\n",
      "h1\n",
      "94069 HOOD\n",
      "===posible caso: 94177 HOOD\n"
     ]
    },
    {
     "name": "stdout",
     "output_type": "stream",
     "text": [
      "===posible caso: 94225 HOOD\n",
      "===posible caso: 94312 HOOD\n",
      "h1\n",
      "94312 HOOD\n",
      "===posible caso: 94343 HOOD\n",
      "===posible caso: 94385 HOOD\n"
     ]
    },
    {
     "name": "stdout",
     "output_type": "stream",
     "text": [
      "h1\n",
      "94385 HOOD\n",
      "===posible caso: 94436 HOOD\n",
      "===posible caso: 94485 HOOD\n",
      "===posible caso: 94506 HOOD\n"
     ]
    },
    {
     "name": "stdout",
     "output_type": "stream",
     "text": [
      "h1\n",
      "94506 HOOD\n",
      "===posible caso: 94564 HOOD\n",
      "h1\n",
      "94564 HOOD\n",
      "===posible caso: 94605 HOOD\n"
     ]
    },
    {
     "name": "stdout",
     "output_type": "stream",
     "text": [
      "===posible caso: 94651 HOOD\n",
      "===posible caso: 94690 HOOD\n",
      "h1\n",
      "94690 HOOD\n",
      "===posible caso: 94773 HOOD\n"
     ]
    },
    {
     "name": "stdout",
     "output_type": "stream",
     "text": [
      "h1\n",
      "94773 HOOD\n",
      "===posible caso: 94882 HOOD\n",
      "===posible caso: 94933 HOOD\n",
      "===posible caso: 94967 HOOD\n"
     ]
    },
    {
     "name": "stdout",
     "output_type": "stream",
     "text": [
      "h1\n",
      "94967 HOOD\n",
      "===posible caso: 94998 HOOD\n",
      "===posible caso: 95020 HOOD\n",
      "===posible caso: 95051 HOOD\n"
     ]
    },
    {
     "name": "stdout",
     "output_type": "stream",
     "text": [
      "===posible caso: 95165 HOOD\n",
      "===posible caso: 95215 HOOD\n"
     ]
    },
    {
     "name": "stdout",
     "output_type": "stream",
     "text": [
      "h1\n",
      "95215 HOOD\n",
      "===posible caso: 95247 HOOD\n",
      "===posible caso: 95301 HOOD\n"
     ]
    },
    {
     "name": "stdout",
     "output_type": "stream",
     "text": [
      "===posible caso: 95340 HOOD\n",
      "===posible caso: 95359 HOOD\n"
     ]
    },
    {
     "name": "stdout",
     "output_type": "stream",
     "text": [
      "===posible caso: 95405 HOOD\n",
      "===posible caso: 95423 HOOD\n",
      "h1\n",
      "95423 HOOD\n",
      "===posible caso: 95443 HOOD\n"
     ]
    },
    {
     "name": "stdout",
     "output_type": "stream",
     "text": [
      "h1\n",
      "95443 HOOD\n",
      "===posible caso: 95488 HOOD\n",
      "===posible caso: 95775 CRWV\n",
      "h1\n",
      "95775 CRWV\n",
      "===posible caso: 95821 CRWV\n",
      "===posible caso: 95848 CRWV\n"
     ]
    },
    {
     "name": "stdout",
     "output_type": "stream",
     "text": [
      "===posible caso: 95870 CRWV\n",
      "===posible caso: 95895 CRWV\n",
      "h3\n",
      "h4\n",
      "h3\n",
      "h4\n",
      "h3\n",
      "h4\n",
      "h3\n",
      "h4\n",
      "95895 CRWV\n",
      "===posible caso: 96046 MSTR\n"
     ]
    },
    {
     "name": "stdout",
     "output_type": "stream",
     "text": [
      "h1\n",
      "96046 MSTR\n",
      "===posible caso: 96124 MSTR\n",
      "h1\n",
      "96124 MSTR\n",
      "===posible caso: 96168 MSTR\n",
      "===posible caso: 96194 MSTR\n"
     ]
    },
    {
     "name": "stdout",
     "output_type": "stream",
     "text": [
      "===posible caso: 96273 MSTR\n",
      "h1\n",
      "96273 MSTR\n",
      "===posible caso: 96401 MSTR\n",
      "===posible caso: 96431 MSTR\n"
     ]
    },
    {
     "name": "stdout",
     "output_type": "stream",
     "text": [
      "===posible caso: 96472 MSTR\n",
      "===posible caso: 96550 MSTR\n"
     ]
    },
    {
     "name": "stdout",
     "output_type": "stream",
     "text": [
      "h1\n",
      "96550 MSTR\n",
      "===posible caso: 96626 MSTR\n",
      "h1\n",
      "96626 MSTR\n",
      "===posible caso: 96680 MSTR\n"
     ]
    },
    {
     "name": "stdout",
     "output_type": "stream",
     "text": [
      "h1\n",
      "96680 MSTR\n",
      "===posible caso: 96697 MSTR\n",
      "===posible caso: 96744 MSTR\n"
     ]
    },
    {
     "name": "stdout",
     "output_type": "stream",
     "text": [
      "===posible caso: 96768 MSTR\n",
      "===posible caso: 96868 MSTR\n"
     ]
    },
    {
     "name": "stdout",
     "output_type": "stream",
     "text": [
      "h2\n",
      "h4\n",
      "h2\n",
      "h4\n",
      "h1\n",
      "96868 MSTR\n",
      "===posible caso: 96944 MSTR\n",
      "===posible caso: 97000 MSTR\n",
      "===posible caso: 97084 MSTR\n"
     ]
    },
    {
     "name": "stdout",
     "output_type": "stream",
     "text": [
      "===posible caso: 97166 MSTR\n",
      "h1\n",
      "97166 MSTR\n",
      "===posible caso: 97229 MSTR\n"
     ]
    },
    {
     "name": "stdout",
     "output_type": "stream",
     "text": [
      "h1\n",
      "97229 MSTR\n",
      "===posible caso: 97283 MSTR\n",
      "h1\n",
      "97283 MSTR\n",
      "===posible caso: 97315 MSTR\n"
     ]
    },
    {
     "name": "stdout",
     "output_type": "stream",
     "text": [
      "===posible caso: 97406 MSTR\n",
      "===posible caso: 97437 MSTR\n",
      "===posible caso: 97545 MSTR\n"
     ]
    },
    {
     "name": "stdout",
     "output_type": "stream",
     "text": [
      "===posible caso: 97588 MSTR\n",
      "===posible caso: 97624 MSTR\n",
      "===posible caso: 97651 MSTR\n",
      "===posible caso: 97676 MSTR\n",
      "===posible caso: 97724 MSTR\n",
      "===posible caso: 97806 MSTR\n"
     ]
    },
    {
     "name": "stdout",
     "output_type": "stream",
     "text": [
      "===posible caso: 97833 MSTR\n",
      "===posible caso: 97945 MSTR\n"
     ]
    },
    {
     "name": "stdout",
     "output_type": "stream",
     "text": [
      "h1\n",
      "97945 MSTR\n",
      "===posible caso: 98002 MSTR\n",
      "===posible caso: 98100 MSTR\n"
     ]
    },
    {
     "name": "stdout",
     "output_type": "stream",
     "text": [
      "===posible caso: 98166 MSTR\n",
      "h1\n",
      "98166 MSTR\n",
      "===posible caso: 98218 MSTR\n"
     ]
    },
    {
     "name": "stdout",
     "output_type": "stream",
     "text": [
      "===posible caso: 98243 MSTR\n",
      "h1\n",
      "98243 MSTR\n",
      "===posible caso: 98321 MSTR\n"
     ]
    },
    {
     "name": "stdout",
     "output_type": "stream",
     "text": [
      "h1\n",
      "98321 MSTR\n",
      "===posible caso: 98396 MSTR\n",
      "h1\n",
      "98396 MSTR\n",
      "===posible caso: 98433 MSTR\n"
     ]
    },
    {
     "name": "stdout",
     "output_type": "stream",
     "text": [
      "===posible caso: 98473 MSTR\n",
      "h1\n",
      "98473 MSTR\n",
      "===posible caso: 98549 MSTR\n"
     ]
    },
    {
     "name": "stdout",
     "output_type": "stream",
     "text": [
      "h1\n",
      "98549 MSTR\n",
      "===posible caso: 98580 MSTR\n",
      "===posible caso: 98639 MSTR\n"
     ]
    },
    {
     "name": "stdout",
     "output_type": "stream",
     "text": [
      "===posible caso: 98700 MSTR\n",
      "===posible caso: 98754 MSTR\n",
      "===posible caso: 98770 MSTR\n"
     ]
    },
    {
     "name": "stdout",
     "output_type": "stream",
     "text": [
      "===posible caso: 98913 MSTR\n",
      "h1\n",
      "98913 MSTR\n",
      "===posible caso: 98961 MSTR\n",
      "===posible caso: 99010 MSTR\n"
     ]
    },
    {
     "name": "stdout",
     "output_type": "stream",
     "text": [
      "===posible caso: 99047 MSTR\n",
      "===posible caso: 99187 MSTR\n"
     ]
    },
    {
     "name": "stdout",
     "output_type": "stream",
     "text": [
      "h1\n",
      "99187 MSTR\n",
      "===posible caso: 99224 MSTR\n",
      "===posible caso: 99248 MSTR\n",
      "===posible caso: 99285 MSTR\n",
      "===posible caso: 99343 MSTR\n",
      "===posible caso: 99410 MSTR\n"
     ]
    },
    {
     "name": "stdout",
     "output_type": "stream",
     "text": [
      "===posible caso: 99482 UNH\n",
      "===posible caso: 99507 UNH\n",
      "===posible caso: 99602 UNH\n"
     ]
    },
    {
     "name": "stdout",
     "output_type": "stream",
     "text": [
      "===posible caso: 99639 UNH\n",
      "===posible caso: 99674 UNH\n"
     ]
    },
    {
     "name": "stdout",
     "output_type": "stream",
     "text": [
      "===posible caso: 99696 UNH\n",
      "===posible caso: 99732 UNH\n"
     ]
    },
    {
     "name": "stdout",
     "output_type": "stream",
     "text": [
      "===posible caso: 99814 UNH\n",
      "===posible caso: 99894 UNH\n",
      "===posible caso: 99952 UNH\n",
      "===posible caso: 100008 UNH\n"
     ]
    },
    {
     "name": "stdout",
     "output_type": "stream",
     "text": [
      "===posible caso: 100037 UNH\n",
      "===posible caso: 100086 UNH\n"
     ]
    },
    {
     "name": "stdout",
     "output_type": "stream",
     "text": [
      "===posible caso: 100133 UNH\n",
      "h1\n",
      "100133 UNH\n",
      "===posible caso: 100178 UNH\n"
     ]
    },
    {
     "name": "stdout",
     "output_type": "stream",
     "text": [
      "===posible caso: 100235 UNH\n",
      "h1\n",
      "100235 UNH\n",
      "===posible caso: 100280 UNH\n"
     ]
    },
    {
     "name": "stdout",
     "output_type": "stream",
     "text": [
      "h1\n",
      "100280 UNH\n",
      "===posible caso: 100418 UNH\n",
      "===posible caso: 100476 UNH\n"
     ]
    },
    {
     "name": "stdout",
     "output_type": "stream",
     "text": [
      "h1\n",
      "100476 UNH\n",
      "===posible caso: 100547 UNH\n",
      "===posible caso: 100585 UNH\n",
      "===posible caso: 100607 UNH\n",
      "h1\n",
      "100607 UNH\n",
      "===posible caso: 100634 UNH\n"
     ]
    },
    {
     "name": "stdout",
     "output_type": "stream",
     "text": [
      "h1\n",
      "100634 UNH\n",
      "===posible caso: 100662 UNH\n",
      "h1\n",
      "100662 UNH\n",
      "===posible caso: 100746 UNH\n"
     ]
    },
    {
     "name": "stdout",
     "output_type": "stream",
     "text": [
      "h1\n",
      "100746 UNH\n",
      "===posible caso: 100787 UNH\n",
      "===posible caso: 100829 UNH\n",
      "===posible caso: 100931 UNH\n",
      "===posible caso: 101062 UNH\n"
     ]
    },
    {
     "name": "stdout",
     "output_type": "stream",
     "text": [
      "===posible caso: 101089 UNH\n",
      "h1\n",
      "101089 UNH\n",
      "===posible caso: 101149 UNH\n",
      "===posible caso: 101205 UNH\n",
      "===posible caso: 101270 UNH\n"
     ]
    },
    {
     "name": "stdout",
     "output_type": "stream",
     "text": [
      "===posible caso: 101351 UNH\n",
      "h1\n",
      "101351 UNH\n",
      "===posible caso: 101434 UNH\n"
     ]
    },
    {
     "name": "stdout",
     "output_type": "stream",
     "text": [
      "h1\n",
      "101434 UNH\n",
      "===posible caso: 101485 UNH\n",
      "===posible caso: 101512 UNH\n",
      "===posible caso: 101582 UNH\n"
     ]
    },
    {
     "name": "stdout",
     "output_type": "stream",
     "text": [
      "===posible caso: 101736 UNH\n",
      "===posible caso: 101783 UNH\n"
     ]
    },
    {
     "name": "stdout",
     "output_type": "stream",
     "text": [
      "===posible caso: 101814 UNH\n",
      "h1\n",
      "101814 UNH\n",
      "===posible caso: 101878 UNH\n",
      "===posible caso: 101919 UNH\n"
     ]
    },
    {
     "name": "stdout",
     "output_type": "stream",
     "text": [
      "h1\n",
      "101919 UNH\n",
      "===posible caso: 102002 UNH\n",
      "h1\n",
      "102002 UNH\n",
      "===posible caso: 102027 UNH\n"
     ]
    },
    {
     "name": "stdout",
     "output_type": "stream",
     "text": [
      "===posible caso: 102059 UNH\n",
      "===posible caso: 102101 UNH\n",
      "===posible caso: 102133 UNH\n",
      "===posible caso: 102200 UNH\n"
     ]
    },
    {
     "name": "stdout",
     "output_type": "stream",
     "text": [
      "===posible caso: 102216 UNH\n",
      "h1\n",
      "102216 UNH\n",
      "===posible caso: 102262 UNH\n"
     ]
    },
    {
     "name": "stdout",
     "output_type": "stream",
     "text": [
      "h1\n",
      "102262 UNH\n",
      "===posible caso: 102297 UNH\n",
      "===posible caso: 102460 UNH\n"
     ]
    },
    {
     "name": "stdout",
     "output_type": "stream",
     "text": [
      "h1\n",
      "102460 UNH\n",
      "===posible caso: 102528 UNH\n",
      "===posible caso: 102573 UNH\n"
     ]
    },
    {
     "name": "stdout",
     "output_type": "stream",
     "text": [
      "h1\n",
      "102573 UNH\n",
      "===posible caso: 102593 UNH\n",
      "===posible caso: 102635 UNH\n"
     ]
    },
    {
     "name": "stdout",
     "output_type": "stream",
     "text": [
      "===posible caso: 102740 UNH\n",
      "===posible caso: 102817 UNH\n",
      "===posible caso: 102869 UNH\n",
      "h1\n",
      "102869 UNH\n",
      "===posible caso: 102935 UNH\n"
     ]
    },
    {
     "name": "stdout",
     "output_type": "stream",
     "text": [
      "h1\n",
      "102935 UNH\n",
      "===posible caso: 102952 UNH\n",
      "h3\n",
      "h4\n",
      "h3\n",
      "h4\n",
      "h3\n",
      "h4\n",
      "h3\n",
      "h4\n",
      "102952 UNH\n",
      "===posible caso: 102969 UNH\n"
     ]
    },
    {
     "name": "stdout",
     "output_type": "stream",
     "text": [
      "===posible caso: 103068 GOOG\n",
      "===posible caso: 103117 GOOG\n",
      "===posible caso: 103189 GOOG\n",
      "===posible caso: 103318 GOOG\n",
      "===posible caso: 103359 GOOG\n"
     ]
    },
    {
     "name": "stdout",
     "output_type": "stream",
     "text": [
      "===posible caso: 103401 GOOG\n",
      "h1\n",
      "103401 GOOG\n",
      "===posible caso: 103432 GOOG\n"
     ]
    },
    {
     "name": "stdout",
     "output_type": "stream",
     "text": [
      "===posible caso: 103560 GOOG\n",
      "h1\n",
      "103560 GOOG\n",
      "===posible caso: 103739 GOOG\n"
     ]
    },
    {
     "name": "stdout",
     "output_type": "stream",
     "text": [
      "===posible caso: 103762 GOOG\n",
      "h1\n",
      "103762 GOOG\n",
      "===posible caso: 103784 GOOG\n"
     ]
    },
    {
     "name": "stdout",
     "output_type": "stream",
     "text": [
      "h1\n",
      "103784 GOOG\n",
      "===posible caso: 103890 GOOG\n",
      "h1\n",
      "103890 GOOG\n",
      "===posible caso: 103911 GOOG\n"
     ]
    },
    {
     "name": "stdout",
     "output_type": "stream",
     "text": [
      "h1\n",
      "103911 GOOG\n",
      "===posible caso: 104052 GOOG\n",
      "h1\n",
      "104052 GOOG\n",
      "===posible caso: 104070 GOOG\n"
     ]
    },
    {
     "name": "stdout",
     "output_type": "stream",
     "text": [
      "h1\n",
      "104070 GOOG\n",
      "===posible caso: 104131 GOOG\n",
      "===posible caso: 104304 GOOG\n"
     ]
    },
    {
     "name": "stdout",
     "output_type": "stream",
     "text": [
      "h2\n",
      "h4\n",
      "h1\n",
      "104304 GOOG\n",
      "===posible caso: 104348 GOOG\n",
      "===posible caso: 104366 GOOG\n"
     ]
    },
    {
     "name": "stdout",
     "output_type": "stream",
     "text": [
      "===posible caso: 104428 GOOG\n",
      "h1\n",
      "104428 GOOG\n",
      "===posible caso: 104501 GOOG\n"
     ]
    },
    {
     "name": "stdout",
     "output_type": "stream",
     "text": [
      "===posible caso: 104550 GOOG\n",
      "h1\n",
      "104550 GOOG\n",
      "===posible caso: 104624 GOOG\n"
     ]
    },
    {
     "name": "stdout",
     "output_type": "stream",
     "text": [
      "===posible caso: 104700 GOOG\n",
      "===posible caso: 104748 GOOG\n",
      "h1\n",
      "104748 GOOG\n",
      "===posible caso: 104793 GOOG\n"
     ]
    },
    {
     "name": "stdout",
     "output_type": "stream",
     "text": [
      "===posible caso: 104828 GOOG\n",
      "===posible caso: 104957 GOOG\n",
      "===posible caso: 105016 GOOG\n"
     ]
    },
    {
     "name": "stdout",
     "output_type": "stream",
     "text": [
      "h1\n",
      "105016 GOOG\n",
      "===posible caso: 105052 GOOG\n",
      "h1\n",
      "105052 GOOG\n",
      "===posible caso: 105210 GOOG\n"
     ]
    },
    {
     "name": "stdout",
     "output_type": "stream",
     "text": [
      "h1\n",
      "105210 GOOG\n",
      "===posible caso: 105255 GOOG\n",
      "h1\n",
      "105255 GOOG\n",
      "===posible caso: 105278 GOOG\n"
     ]
    },
    {
     "name": "stdout",
     "output_type": "stream",
     "text": [
      "h1\n",
      "105278 GOOG\n",
      "===posible caso: 105321 GOOG\n",
      "===posible caso: 105356 GOOG\n",
      "===posible caso: 105398 GOOG\n"
     ]
    },
    {
     "name": "stdout",
     "output_type": "stream",
     "text": [
      "h1\n",
      "105398 GOOG\n",
      "===posible caso: 105445 GOOG\n",
      "===posible caso: 105466 GOOG\n"
     ]
    },
    {
     "name": "stdout",
     "output_type": "stream",
     "text": [
      "h1\n",
      "105466 GOOG\n",
      "===posible caso: 105603 GOOG\n",
      "===posible caso: 105621 GOOG\n"
     ]
    },
    {
     "name": "stdout",
     "output_type": "stream",
     "text": [
      "===posible caso: 105668 GOOG\n",
      "h1\n",
      "105668 GOOG\n",
      "===posible caso: 105712 GOOG\n"
     ]
    },
    {
     "name": "stdout",
     "output_type": "stream",
     "text": [
      "===posible caso: 105793 GOOG\n",
      "===posible caso: 105844 GOOG\n"
     ]
    },
    {
     "name": "stdout",
     "output_type": "stream",
     "text": [
      "===posible caso: 105893 GOOG\n",
      "===posible caso: 105914 GOOG\n",
      "===posible caso: 105996 GOOG\n",
      "===posible caso: 106018 GOOG\n"
     ]
    },
    {
     "name": "stdout",
     "output_type": "stream",
     "text": [
      "h1\n",
      "106018 GOOG\n",
      "===posible caso: 106082 GOOG\n",
      "===posible caso: 106121 GOOG\n"
     ]
    },
    {
     "name": "stdout",
     "output_type": "stream",
     "text": [
      "===posible caso: 106174 GOOG\n",
      "h1\n",
      "106174 GOOG\n",
      "===posible caso: 106231 GOOG\n",
      "===posible caso: 106276 GOOG\n"
     ]
    },
    {
     "name": "stdout",
     "output_type": "stream",
     "text": [
      "===posible caso: 106335 GOOG\n",
      "===posible caso: 106363 GOOG\n"
     ]
    },
    {
     "name": "stdout",
     "output_type": "stream",
     "text": [
      "===posible caso: 106385 GOOG\n",
      "h1\n",
      "106385 GOOG\n",
      "===posible caso: 106491 GOOG\n"
     ]
    },
    {
     "name": "stdout",
     "output_type": "stream",
     "text": [
      "===posible caso: 106582 APP\n",
      "===posible caso: 106609 APP\n"
     ]
    },
    {
     "name": "stdout",
     "output_type": "stream",
     "text": [
      "===posible caso: 106649 APP\n",
      "===posible caso: 106730 APP\n"
     ]
    },
    {
     "name": "stdout",
     "output_type": "stream",
     "text": [
      "h1\n",
      "106730 APP\n",
      "===posible caso: 106803 APP\n",
      "===posible caso: 106855 APP\n",
      "===posible caso: 106898 APP\n"
     ]
    },
    {
     "name": "stdout",
     "output_type": "stream",
     "text": [
      "===posible caso: 106933 APP\n",
      "===posible caso: 106972 APP\n"
     ]
    },
    {
     "name": "stdout",
     "output_type": "stream",
     "text": [
      "h1\n",
      "106972 APP\n",
      "===posible caso: 107039 APP\n",
      "===posible caso: 107080 APP\n"
     ]
    },
    {
     "name": "stdout",
     "output_type": "stream",
     "text": [
      "h1\n",
      "107080 APP\n",
      "===posible caso: 107156 APP\n",
      "h1\n",
      "107156 APP\n",
      "===posible caso: 107183 APP\n"
     ]
    },
    {
     "name": "stdout",
     "output_type": "stream",
     "text": [
      "h1\n",
      "107183 APP\n",
      "===posible caso: 107246 APP\n",
      "h1\n",
      "107246 APP\n",
      "===posible caso: 107286 APP\n"
     ]
    },
    {
     "name": "stdout",
     "output_type": "stream",
     "text": [
      "===posible caso: 107370 APP\n",
      "===posible caso: 107427 APP\n",
      "===posible caso: 107465 APP\n"
     ]
    },
    {
     "name": "stdout",
     "output_type": "stream",
     "text": [
      "h1\n",
      "107465 APP\n",
      "===posible caso: 107535 APP\n",
      "===posible caso: 107579 APP\n"
     ]
    },
    {
     "name": "stdout",
     "output_type": "stream",
     "text": [
      "h1\n",
      "107579 APP\n",
      "===posible caso: 107607 APP\n",
      "===posible caso: 107671 APP\n"
     ]
    },
    {
     "name": "stdout",
     "output_type": "stream",
     "text": [
      "===posible caso: 107701 APP\n",
      "===posible caso: 107741 APP\n",
      "===posible caso: 107769 APP\n"
     ]
    },
    {
     "name": "stdout",
     "output_type": "stream",
     "text": [
      "===posible caso: 107797 APP\n",
      "h1\n",
      "107797 APP\n",
      "===posible caso: 107860 APP\n"
     ]
    },
    {
     "name": "stdout",
     "output_type": "stream",
     "text": [
      "===posible caso: 107885 APP\n",
      "h1\n",
      "107885 APP\n",
      "===posible caso: 107943 APP\n"
     ]
    },
    {
     "name": "stdout",
     "output_type": "stream",
     "text": [
      "h1\n",
      "107943 APP\n",
      "===posible caso: 107964 APP\n",
      "h1\n",
      "107964 APP\n",
      "===posible caso: 108014 APP\n",
      "===posible caso: 108037 APP\n"
     ]
    },
    {
     "name": "stdout",
     "output_type": "stream",
     "text": [
      "===posible caso: 108099 APP\n",
      "===posible caso: 108134 APP\n"
     ]
    },
    {
     "name": "stdout",
     "output_type": "stream",
     "text": [
      "h1\n",
      "108134 APP\n",
      "===posible caso: 108293 APP\n",
      "===posible caso: 108360 APP\n",
      "===posible caso: 108408 APP\n",
      "===posible caso: 108598 APP\n"
     ]
    },
    {
     "name": "stdout",
     "output_type": "stream",
     "text": [
      "h1\n",
      "108598 APP\n",
      "===posible caso: 108645 APP\n",
      "===posible caso: 108761 APP\n",
      "===posible caso: 108850 APP\n"
     ]
    },
    {
     "name": "stdout",
     "output_type": "stream",
     "text": [
      "===posible caso: 108899 APP\n",
      "h1\n",
      "108899 APP\n",
      "===posible caso: 108935 APP\n"
     ]
    },
    {
     "name": "stdout",
     "output_type": "stream",
     "text": [
      "h1\n",
      "108935 APP\n",
      "===posible caso: 108989 APP\n",
      "===posible caso: 109041 APP\n"
     ]
    },
    {
     "name": "stdout",
     "output_type": "stream",
     "text": [
      "===posible caso: 109058 APP\n",
      "===posible caso: 109115 APP\n"
     ]
    },
    {
     "name": "stdout",
     "output_type": "stream",
     "text": [
      "h1\n",
      "109115 APP\n",
      "===posible caso: 109197 APP\n",
      "===posible caso: 109242 APP\n",
      "===posible caso: 109326 APP\n"
     ]
    },
    {
     "name": "stdout",
     "output_type": "stream",
     "text": [
      "h1\n",
      "109326 APP\n",
      "===posible caso: 109374 APP\n",
      "===posible caso: 109407 APP\n"
     ]
    },
    {
     "name": "stdout",
     "output_type": "stream",
     "text": [
      "===posible caso: 109436 APP\n",
      "===posible caso: 109502 APP\n",
      "===posible caso: 109575 APP\n"
     ]
    },
    {
     "name": "stdout",
     "output_type": "stream",
     "text": [
      "===posible caso: 109617 APP\n",
      "h1\n",
      "109617 APP\n",
      "===posible caso: 109807 APP\n"
     ]
    },
    {
     "name": "stdout",
     "output_type": "stream",
     "text": [
      "===posible caso: 109852 APP\n",
      "===posible caso: 109881 APP\n"
     ]
    },
    {
     "name": "stdout",
     "output_type": "stream",
     "text": [
      "h1\n",
      "109881 APP\n",
      "===posible caso: 109977 APP\n",
      "h1\n",
      "109977 APP\n",
      "===posible caso: 110116 UBER\n"
     ]
    },
    {
     "name": "stdout",
     "output_type": "stream",
     "text": [
      "===posible caso: 110145 UBER\n",
      "===posible caso: 110187 UBER\n"
     ]
    },
    {
     "name": "stdout",
     "output_type": "stream",
     "text": [
      "h1\n",
      "110187 UBER\n",
      "===posible caso: 110211 UBER\n",
      "===posible caso: 110272 UBER\n"
     ]
    },
    {
     "name": "stdout",
     "output_type": "stream",
     "text": [
      "h1\n",
      "110272 UBER\n",
      "===posible caso: 110396 UBER\n",
      "h1\n",
      "110396 UBER\n",
      "===posible caso: 110432 UBER\n"
     ]
    },
    {
     "name": "stdout",
     "output_type": "stream",
     "text": [
      "h1\n",
      "110432 UBER\n",
      "===posible caso: 110479 UBER\n",
      "h1\n",
      "110479 UBER\n",
      "===posible caso: 110517 UBER\n"
     ]
    },
    {
     "name": "stdout",
     "output_type": "stream",
     "text": [
      "===posible caso: 110562 UBER\n",
      "===posible caso: 110617 UBER\n",
      "===posible caso: 110880 UBER\n",
      "h1\n",
      "110880 UBER\n",
      "===posible caso: 110914 UBER\n"
     ]
    },
    {
     "name": "stdout",
     "output_type": "stream",
     "text": [
      "h1\n",
      "110914 UBER\n",
      "===posible caso: 111001 UBER\n",
      "===posible caso: 111067 UBER\n",
      "===posible caso: 111099 UBER\n"
     ]
    },
    {
     "name": "stdout",
     "output_type": "stream",
     "text": [
      "===posible caso: 111144 UBER\n",
      "===posible caso: 111193 UBER\n"
     ]
    },
    {
     "name": "stdout",
     "output_type": "stream",
     "text": [
      "===posible caso: 111233 UBER\n",
      "===posible caso: 111256 UBER\n",
      "h1\n",
      "111256 UBER\n",
      "===posible caso: 111277 UBER\n"
     ]
    },
    {
     "name": "stdout",
     "output_type": "stream",
     "text": [
      "h1\n",
      "111277 UBER\n",
      "===posible caso: 111308 UBER\n",
      "h1\n",
      "111308 UBER\n",
      "===posible caso: 111354 UBER\n"
     ]
    },
    {
     "name": "stdout",
     "output_type": "stream",
     "text": [
      "===posible caso: 111398 UBER\n",
      "===posible caso: 111495 UBER\n",
      "===posible caso: 111552 UBER\n",
      "===posible caso: 111614 UBER\n",
      "===posible caso: 111699 UBER\n"
     ]
    },
    {
     "name": "stdout",
     "output_type": "stream",
     "text": [
      "h1\n",
      "111699 UBER\n",
      "===posible caso: 111778 UBER\n",
      "===posible caso: 111800 UBER\n"
     ]
    },
    {
     "name": "stdout",
     "output_type": "stream",
     "text": [
      "h1\n",
      "111800 UBER\n",
      "===posible caso: 111828 UBER\n",
      "===posible caso: 111851 UBER\n"
     ]
    },
    {
     "name": "stdout",
     "output_type": "stream",
     "text": [
      "h1\n",
      "111851 UBER\n",
      "===posible caso: 111873 UBER\n",
      "===posible caso: 111949 UBER\n"
     ]
    },
    {
     "name": "stdout",
     "output_type": "stream",
     "text": [
      "h1\n",
      "111949 UBER\n",
      "===posible caso: 111980 UBER\n",
      "===posible caso: 112023 UBER\n",
      "===posible caso: 112119 UBER\n",
      "===posible caso: 112147 UBER\n"
     ]
    },
    {
     "name": "stdout",
     "output_type": "stream",
     "text": [
      "h1\n",
      "112147 UBER\n",
      "===posible caso: 112267 UBER\n",
      "h1\n",
      "112267 UBER\n",
      "===posible caso: 112297 UBER\n"
     ]
    },
    {
     "name": "stdout",
     "output_type": "stream",
     "text": [
      "===posible caso: 112385 UBER\n",
      "===posible caso: 112428 UBER\n"
     ]
    },
    {
     "name": "stdout",
     "output_type": "stream",
     "text": [
      "===posible caso: 112560 UBER\n",
      "===posible caso: 112602 UBER\n",
      "===posible caso: 112622 UBER\n"
     ]
    },
    {
     "name": "stdout",
     "output_type": "stream",
     "text": [
      "===posible caso: 112704 UBER\n",
      "===posible caso: 112784 UBER\n",
      "===posible caso: 112829 UBER\n",
      "===posible caso: 112870 UBER\n"
     ]
    },
    {
     "name": "stdout",
     "output_type": "stream",
     "text": [
      "===posible caso: 112914 UBER\n",
      "===posible caso: 112979 UBER\n",
      "===posible caso: 113024 UBER\n"
     ]
    },
    {
     "name": "stdout",
     "output_type": "stream",
     "text": [
      "h1\n",
      "113024 UBER\n",
      "===posible caso: 113057 UBER\n",
      "===posible caso: 113141 UBER\n"
     ]
    },
    {
     "name": "stdout",
     "output_type": "stream",
     "text": [
      "h1\n",
      "113141 UBER\n",
      "===posible caso: 113271 UBER\n",
      "h1\n",
      "113271 UBER\n",
      "===posible caso: 113302 UBER\n",
      "===posible caso: 113356 UBER\n"
     ]
    },
    {
     "name": "stdout",
     "output_type": "stream",
     "text": [
      "===posible caso: 113391 UBER\n",
      "===posible caso: 113421 UBER\n",
      "h1\n",
      "113421 UBER\n",
      "===posible caso: 113456 UBER\n"
     ]
    },
    {
     "name": "stdout",
     "output_type": "stream",
     "text": [
      "h1\n",
      "113456 UBER\n",
      "===posible caso: 113496 UBER\n",
      "===posible caso: 113557 UBER\n",
      "h3\n",
      "h4\n",
      "h3\n",
      "h4\n",
      "h3\n",
      "h4\n",
      "h3\n",
      "h4\n",
      "113557 UBER\n"
     ]
    }
   ],
   "source": [
    "df_casos = pd.DataFrame()\n",
    "caso = 0\n",
    "ticker2 = \"\"\n",
    "window=5\n",
    "backeval=75\n",
    "backevalTrend=0\n",
    "dfpl = pd.DataFrame\n",
    "trendH = []\n",
    "trendL = []\n",
    "cant = 0\n",
    "for i, row in df.iterrows():\n",
    "    #if (i==3560):\n",
    "    if(df['rcb01_01'][i]==1): #posibles casos \n",
    "        print(\"===posible caso:\",i, df['companyName'][i])\n",
    "        cant = 0\n",
    "        candle = i\n",
    "        cnt = 0\n",
    "        #valiniHigh = df.loc[candle,\"High\"]\n",
    "        #valiniLow = df.loc[candle,\"Low\"]\n",
    "        ticker = df['companyName'][i]\n",
    "        #Reinicio de casos por company\n",
    "        if ticker2 != ticker:\n",
    "            ticker2 = ticker\n",
    "            caso = 0\n",
    "        dfpl = df[(df.companyName==ticker)].loc[i-backeval:i+backeval]       \n",
    "\n",
    "        #print(\"rowMin:\", dfpl.index[0],\", rowMax:\", dfpl.index[-1])\n",
    "                    \n",
    "        h=1\n",
    "        l=1\n",
    "\n",
    "        cant = cant +1\n",
    "        cantHorasTrend=0\n",
    "        #print(\"opcionH:\",h,\"opcionL:\",l)\n",
    "        trendL, backevalTrend = backcandle(candle)\n",
    "        #print (\"-->trendH:\",trendH)\n",
    "        #print (\"-->backevalTrend:\",backevalTrend)    \n",
    "        \n",
    "        cantHorasTrend = (dfpl.loc[candle,\"datetime\"] - dfpl.loc[backevalTrend,\"datetime\"]).total_seconds() / 3600\n",
    "\n",
    "        if (cantHorasTrend>48): #Verificacion de caida por lo menos 2 dias\n",
    "            backevalTrend2 = candle - backevalTrend\n",
    "            #print (\"backevalTrend2\", backevalTrend2)\n",
    "                        \n",
    "            #revision de trend negativo indica que esta cayendo, solo me quedo con estos casos\n",
    "            sl_lows, interc_lows, r_sq_l = collect_channel(candle, backevalTrend2, trendL)\n",
    "                    \n",
    "    \n",
    "            #print(\"======:\", candle)\n",
    "            #print(\"===trendH===\")\n",
    "            #print(trendH)\n",
    "            #print(\"===trendL===\")\n",
    "            #print(trendL)\n",
    "            dfpl.loc[trendL, \"trendL\"] = 1\n",
    "                                \n",
    "            #print(\"sl_lows:\", sl_lows, \", interc_lows:\", interc_lows, \", r_sq_l:\", r_sq_l)\n",
    "            if (sl_lows>=0): #solo tendencias a la alza and ind_vela>0 sl_lows<0 and r_sq_h>=0.7  and sl_highs<=-0.1 and ind_vela>0\n",
    "                \n",
    "                #crear linea de tendencia high y low\n",
    "                dfpl['trendcurrlow']  = trendChannel(dfpl,candle,backevalTrend2,window,sl_lows,interc_lows)\n",
    "                \n",
    "                ind_vela = revisionVelas(dfpl, backeval,window, candle)\n",
    "                promVol = dfpl.loc[i-backeval:i][\"Volume\"].mean()\n",
    "    \n",
    "                #print(\"ind_vela:\",ind_vela)\n",
    "                if (ind_vela>0):\n",
    "                    dfpl[\"bearishSlope\"] = np.nan #pendiente bajista en vacio\n",
    "                    dfpl.loc[i, \"bearishSlope\"] = 1 #pendiente bajista solo al punto evaluado            \n",
    "                    dfpl[\"ind_posicion\"] = 0\n",
    "                    dfpl.loc[(dfpl.index < i), 'ind_posicion'] = -1\n",
    "                    dfpl.loc[(dfpl.index > i), 'ind_posicion'] = 1\n",
    "                    dfpl[\"promVol\"] = promVol\n",
    "                    dfpl[\"sl_lows\"] = sl_lows\n",
    "                    dfpl[\"r_sq_l\"] = r_sq_l\n",
    "            \n",
    "                    start = dfpl.index[0]\n",
    "                    dfpl[\"isBreakOut\"] = [isBreakOut(candleEval, backevalTrend2, window, start, candle) for candleEval in dfpl.index]\n",
    "                    # Solo me quedo con el primer BREAK OUT\n",
    "                    cnt = dfpl.query(\"isBreakOut==1 and Close<Open\").shape[0] \n",
    "                    id=0\n",
    "                    id2=0\n",
    "                    if cnt>0:\n",
    "                        id = dfpl.query(\"isBreakOut==1 and Close<Open\").index[0]                        \n",
    "                        #dfpl['isBreakOutIni'] = np.where(id!=dfpl.index, np.nan, dfpl['isBreakOut'])                        \n",
    "                        dfpl.loc[id,'isBreakOutIni'] = 1\n",
    "\n",
    "                        k=0\n",
    "                        while (k<=3):\n",
    "                            dfpl['breakpointpos'] = dfpl.apply(lambda row: breakpointpos(row), axis=1)\n",
    "                            cnt2 = dfpl.query(\"index>@id and isPivot==2\").shape[0]\n",
    "                            \n",
    "                            if cnt2>0:\n",
    "                                id2 = dfpl.query(\"index>@id and isPivot==2\").index[0]\n",
    "                                dfpl.loc[id2,'isBreakOutFinal'] = 1\n",
    "                                k=4\n",
    "                                print(\"h1\")\n",
    "                            else:\n",
    "                                #revisar 25 velas mas\n",
    "                                #print(\"paso8\")\n",
    "                                idfinal = dfpl.index[-1] \n",
    "                                idfinal2 = idfinal+25\n",
    "                                if idfinal2 in df[df['companyName']==ticker].index:\n",
    "                                    dfpl2 = df[(df.companyName==ticker)].loc[idfinal+1:idfinal2].copy()\n",
    "                                    dfpl = pd.concat([dfpl, dfpl2],ignore_index=False)    \n",
    "                                    print(\"h2\")\n",
    "                                else:                  \n",
    "                                    dfpl['isBreakOutFinal'] = np.nan\n",
    "                                    print(\"h3\")\n",
    "\n",
    "                                k=k+1\n",
    "                                print(\"h4\")\n",
    "                                \n",
    "                        \n",
    "                    else:\n",
    "                        dfpl['isBreakOutIni'] = np.nan                  \n",
    "                        dfpl['breakpointpos'] = np.nan\n",
    "            \n",
    "                    if cnt>0:\n",
    "                        #INSERT CASO\n",
    "                        caso=caso+1                            \n",
    "                        dfpl[\"caso\"] = caso\n",
    "                        print(i, df['companyName'][i])\n",
    "                        if len(df_casos)<1:\n",
    "                            df_casos = dfpl\n",
    "                        else:\n",
    "                            df_casos = pd.concat([df_casos, dfpl],ignore_index=False)\n"
   ]
  },
  {
   "cell_type": "code",
   "execution_count": 13,
   "id": "ee8cbb39-d190-488e-9acb-32cb2094acbb",
   "metadata": {
    "execution": {
     "iopub.execute_input": "2025-06-11T18:54:26.852942Z",
     "iopub.status.busy": "2025-06-11T18:54:26.852719Z",
     "iopub.status.idle": "2025-06-11T18:54:29.141143Z",
     "shell.execute_reply": "2025-06-11T18:54:29.140481Z"
    },
    "papermill": {
     "duration": 2.317257,
     "end_time": "2025-06-11T18:54:29.142261",
     "exception": false,
     "start_time": "2025-06-11T18:54:26.825004",
     "status": "completed"
    },
    "tags": []
   },
   "outputs": [],
   "source": [
    "#descarga de informacion, estrategia: RUPTURA DEL CANAL BAJISTA\n",
    "#path = r'C:\\Users\\carlo\\OneDrive\\Documentos\\TRADER\\traderapp\\data\\rcb_h.txt'\n",
    "path='data/rca_h.txt'\n",
    "\n",
    "# check whether the file exists\n",
    "if os.path.exists(path):\n",
    "    # delete the file\n",
    "    os.remove(path)\n",
    "else:\n",
    "    # if the file does not exist.\n",
    "    print(\"File does not exists. File needs to be created.\")\n",
    "\n",
    "#export DataFrame to text file\n",
    "with open(path, 'a') as f:\n",
    "    #df_string = appl_hor3.to_string(header=True, index=False, sep ='\\t')\n",
    "    df_casos.to_csv(path, header=True, index=None, sep='\\t', mode='w')\n",
    "    #f.write(df_string)"
   ]
  },
  {
   "cell_type": "markdown",
   "id": "2f3b1b22-7ae9-4f2e-b42e-a9064f2cbf09",
   "metadata": {
    "papermill": {
     "duration": 0.027082,
     "end_time": "2025-06-11T18:54:29.201556",
     "exception": false,
     "start_time": "2025-06-11T18:54:29.174474",
     "status": "completed"
    },
    "tags": []
   },
   "source": [
    "### BACKTESTING\n",
    "### Usando paquete backtesting.py"
   ]
  },
  {
   "cell_type": "code",
   "execution_count": 14,
   "id": "fb317fbb-f021-461f-a8c0-40463b42ed3e",
   "metadata": {
    "execution": {
     "iopub.execute_input": "2025-06-11T18:54:29.273375Z",
     "iopub.status.busy": "2025-06-11T18:54:29.272843Z",
     "iopub.status.idle": "2025-06-11T18:54:29.283796Z",
     "shell.execute_reply": "2025-06-11T18:54:29.283321Z"
    },
    "papermill": {
     "duration": 0.055504,
     "end_time": "2025-06-11T18:54:29.284654",
     "exception": false,
     "start_time": "2025-06-11T18:54:29.229150",
     "status": "completed"
    },
    "tags": []
   },
   "outputs": [],
   "source": [
    "df_casos2 = df_casos.query(\"isBreakOutIni==1 or isBreakOutFinal==1\").copy()"
   ]
  },
  {
   "cell_type": "code",
   "execution_count": 15,
   "id": "b8ad35c1-1c5e-438c-9fd9-20bf3feeee2c",
   "metadata": {
    "execution": {
     "iopub.execute_input": "2025-06-11T18:54:29.341196Z",
     "iopub.status.busy": "2025-06-11T18:54:29.340818Z",
     "iopub.status.idle": "2025-06-11T18:54:29.368243Z",
     "shell.execute_reply": "2025-06-11T18:54:29.367667Z"
    },
    "papermill": {
     "duration": 0.056692,
     "end_time": "2025-06-11T18:54:29.369335",
     "exception": false,
     "start_time": "2025-06-11T18:54:29.312643",
     "status": "completed"
    },
    "tags": []
   },
   "outputs": [],
   "source": [
    "# =============== BACKTESTING ================= #\n",
    "# obteniendo dataframe backtesting\n",
    "df_backTesting = pd.merge(df, df_casos2[['datetime','companyName', 'isBreakOutIni','isBreakOutFinal','caso']], on = ['companyName','datetime'], how='left')\n",
    "# datos de trade se asigna una vela anterior debido a que backtesting.py toma entra como la siguiente vela\n",
    "df_backTesting['isBreakOutIni'] = df_backTesting['isBreakOutIni'].shift(-1)\n",
    "df_backTesting['isBreakOutFinal'] = df_backTesting['isBreakOutFinal'].shift(-1)\n",
    "#modificamos indice con el compo datetime\n",
    "df_backTesting.set_index('datetime', inplace=True)"
   ]
  },
  {
   "cell_type": "code",
   "execution_count": 16,
   "id": "843cce1a-a09b-471c-a83c-3ba51e7a8658",
   "metadata": {
    "execution": {
     "iopub.execute_input": "2025-06-11T18:54:29.426941Z",
     "iopub.status.busy": "2025-06-11T18:54:29.426733Z",
     "iopub.status.idle": "2025-06-11T18:54:29.430322Z",
     "shell.execute_reply": "2025-06-11T18:54:29.429872Z"
    },
    "papermill": {
     "duration": 0.03292,
     "end_time": "2025-06-11T18:54:29.431138",
     "exception": false,
     "start_time": "2025-06-11T18:54:29.398218",
     "status": "completed"
    },
    "tags": []
   },
   "outputs": [],
   "source": [
    "#Strategia\n",
    "class strategyRupturaCanal(Strategy):    \n",
    "    def init(self):        \n",
    "        self.breakout_entry = self.I(lambda x: x, self.data.isBreakOutIni) #Indica la señal entrada al backtesting\n",
    "        self.breakout_exit = self.I(lambda x: x, self.data.isBreakOutFinal) #Indica la señal salida al backtesting\n",
    "\n",
    "    def next(self):       \n",
    "        #print(self.data)        \n",
    "        if self.breakout_entry[-1] == 1:\n",
    "            self.sell()  #COMPRA\n",
    "        elif self.breakout_exit[-1] == 1 and self.position:\n",
    "            self.position.close() #CIERRE"
   ]
  },
  {
   "cell_type": "code",
   "execution_count": 17,
   "id": "f6fd5f99-505d-4813-ad34-fb872cc5def8",
   "metadata": {
    "execution": {
     "iopub.execute_input": "2025-06-11T18:54:29.487620Z",
     "iopub.status.busy": "2025-06-11T18:54:29.487453Z",
     "iopub.status.idle": "2025-06-11T18:54:31.428541Z",
     "shell.execute_reply": "2025-06-11T18:54:31.428058Z"
    },
    "papermill": {
     "duration": 1.97002,
     "end_time": "2025-06-11T18:54:31.429366",
     "exception": false,
     "start_time": "2025-06-11T18:54:29.459346",
     "status": "completed"
    },
    "tags": []
   },
   "outputs": [
    {
     "name": "stderr",
     "output_type": "stream",
     "text": [
      "\r",
      "Backtest.run:   0%|          | 0/3365 [00:00<?, ?bar/s]"
     ]
    },
    {
     "name": "stderr",
     "output_type": "stream",
     "text": [
      "\r",
      "                                                       "
     ]
    },
    {
     "name": "stderr",
     "output_type": "stream",
     "text": [
      "\r"
     ]
    },
    {
     "name": "stderr",
     "output_type": "stream",
     "text": [
      "\r",
      "Backtest.run:   0%|          | 0/3221 [00:00<?, ?bar/s]"
     ]
    },
    {
     "name": "stderr",
     "output_type": "stream",
     "text": [
      "/usr/share/miniconda/envs/test/lib/python3.10/site-packages/backtesting/backtesting.py:954: UserWarning: time=452: Broker canceled the relative-sized order due to insufficient margin.\n",
      "  warnings.warn(\n",
      "/usr/share/miniconda/envs/test/lib/python3.10/site-packages/backtesting/backtesting.py:954: UserWarning: time=1778: Broker canceled the relative-sized order due to insufficient margin.\n",
      "  warnings.warn(\n",
      "/usr/share/miniconda/envs/test/lib/python3.10/site-packages/backtesting/backtesting.py:954: UserWarning: time=2929: Broker canceled the relative-sized order due to insufficient margin.\n",
      "  warnings.warn(\n",
      "\r",
      "                                                       "
     ]
    },
    {
     "name": "stderr",
     "output_type": "stream",
     "text": [
      "\r"
     ]
    },
    {
     "name": "stderr",
     "output_type": "stream",
     "text": [
      "\r",
      "Backtest.run:   0%|          | 0/3411 [00:00<?, ?bar/s]"
     ]
    },
    {
     "name": "stderr",
     "output_type": "stream",
     "text": [
      "\r",
      "                                                       "
     ]
    },
    {
     "name": "stderr",
     "output_type": "stream",
     "text": [
      "\r"
     ]
    },
    {
     "name": "stderr",
     "output_type": "stream",
     "text": [
      "\r",
      "Backtest.run:   0%|          | 0/3474 [00:00<?, ?bar/s]"
     ]
    },
    {
     "name": "stderr",
     "output_type": "stream",
     "text": [
      "\r",
      "                                                       "
     ]
    },
    {
     "name": "stderr",
     "output_type": "stream",
     "text": [
      "\r"
     ]
    },
    {
     "name": "stderr",
     "output_type": "stream",
     "text": [
      "\r",
      "Backtest.run:   0%|          | 0/3358 [00:00<?, ?bar/s]"
     ]
    },
    {
     "name": "stderr",
     "output_type": "stream",
     "text": [
      "/usr/share/miniconda/envs/test/lib/python3.10/site-packages/backtesting/backtesting.py:954: UserWarning: time=816: Broker canceled the relative-sized order due to insufficient margin.\n",
      "  warnings.warn(\n",
      "/usr/share/miniconda/envs/test/lib/python3.10/site-packages/backtesting/backtesting.py:954: UserWarning: time=1263: Broker canceled the relative-sized order due to insufficient margin.\n",
      "  warnings.warn(\n",
      "\r",
      "                                                       "
     ]
    },
    {
     "name": "stderr",
     "output_type": "stream",
     "text": [
      "\r"
     ]
    },
    {
     "name": "stderr",
     "output_type": "stream",
     "text": [
      "\r",
      "Backtest.run:   0%|          | 0/3232 [00:00<?, ?bar/s]"
     ]
    },
    {
     "name": "stderr",
     "output_type": "stream",
     "text": [
      "\r",
      "                                                       "
     ]
    },
    {
     "name": "stderr",
     "output_type": "stream",
     "text": [
      "\r"
     ]
    },
    {
     "name": "stderr",
     "output_type": "stream",
     "text": [
      "\r",
      "Backtest.run:   0%|          | 0/3359 [00:00<?, ?bar/s]"
     ]
    },
    {
     "name": "stderr",
     "output_type": "stream",
     "text": [
      "\r",
      "                                                       "
     ]
    },
    {
     "name": "stderr",
     "output_type": "stream",
     "text": [
      "\r"
     ]
    },
    {
     "name": "stderr",
     "output_type": "stream",
     "text": [
      "\r",
      "Backtest.run:   0%|          | 0/3360 [00:00<?, ?bar/s]"
     ]
    },
    {
     "name": "stderr",
     "output_type": "stream",
     "text": [
      "/usr/share/miniconda/envs/test/lib/python3.10/site-packages/backtesting/backtesting.py:954: UserWarning: time=3213: Broker canceled the relative-sized order due to insufficient margin.\n",
      "  warnings.warn(\n",
      "\r",
      "                                                       "
     ]
    },
    {
     "name": "stderr",
     "output_type": "stream",
     "text": [
      "\r"
     ]
    },
    {
     "name": "stderr",
     "output_type": "stream",
     "text": [
      "\r",
      "Backtest.run:   0%|          | 0/3139 [00:00<?, ?bar/s]"
     ]
    },
    {
     "name": "stderr",
     "output_type": "stream",
     "text": [
      "/usr/share/miniconda/envs/test/lib/python3.10/site-packages/backtesting/backtesting.py:954: UserWarning: time=2128: Broker canceled the relative-sized order due to insufficient margin.\n",
      "  warnings.warn(\n",
      "\r",
      "                                                       "
     ]
    },
    {
     "name": "stderr",
     "output_type": "stream",
     "text": [
      "\r"
     ]
    },
    {
     "name": "stderr",
     "output_type": "stream",
     "text": [
      "\r",
      "Backtest.run:   0%|          | 0/3357 [00:00<?, ?bar/s]"
     ]
    },
    {
     "name": "stderr",
     "output_type": "stream",
     "text": [
      "/usr/share/miniconda/envs/test/lib/python3.10/site-packages/backtesting/backtesting.py:954: UserWarning: time=2946: Broker canceled the relative-sized order due to insufficient margin.\n",
      "  warnings.warn(\n",
      "\r",
      "                                                       "
     ]
    },
    {
     "name": "stderr",
     "output_type": "stream",
     "text": [
      "\r"
     ]
    },
    {
     "name": "stderr",
     "output_type": "stream",
     "text": [
      "\r",
      "Backtest.run:   0%|          | 0/3233 [00:00<?, ?bar/s]"
     ]
    },
    {
     "name": "stderr",
     "output_type": "stream",
     "text": [
      "/usr/share/miniconda/envs/test/lib/python3.10/site-packages/backtesting/backtesting.py:954: UserWarning: time=1215: Broker canceled the relative-sized order due to insufficient margin.\n",
      "  warnings.warn(\n",
      "\r",
      "                                                       "
     ]
    },
    {
     "name": "stderr",
     "output_type": "stream",
     "text": [
      "\r"
     ]
    },
    {
     "name": "stderr",
     "output_type": "stream",
     "text": [
      "\r",
      "Backtest.run:   0%|          | 0/2889 [00:00<?, ?bar/s]"
     ]
    },
    {
     "name": "stderr",
     "output_type": "stream",
     "text": [
      "\r",
      "                                                       "
     ]
    },
    {
     "name": "stderr",
     "output_type": "stream",
     "text": [
      "\r"
     ]
    },
    {
     "name": "stderr",
     "output_type": "stream",
     "text": [
      "\r",
      "Backtest.run:   0%|          | 0/3184 [00:00<?, ?bar/s]"
     ]
    },
    {
     "name": "stderr",
     "output_type": "stream",
     "text": [
      "\r",
      "                                                       "
     ]
    },
    {
     "name": "stderr",
     "output_type": "stream",
     "text": [
      "\r"
     ]
    },
    {
     "name": "stderr",
     "output_type": "stream",
     "text": [
      "\r",
      "Backtest.run:   0%|          | 0/3435 [00:00<?, ?bar/s]"
     ]
    },
    {
     "name": "stderr",
     "output_type": "stream",
     "text": [
      "/usr/share/miniconda/envs/test/lib/python3.10/site-packages/backtesting/backtesting.py:954: UserWarning: time=1427: Broker canceled the relative-sized order due to insufficient margin.\n",
      "  warnings.warn(\n",
      "/usr/share/miniconda/envs/test/lib/python3.10/site-packages/backtesting/backtesting.py:954: UserWarning: time=1457: Broker canceled the relative-sized order due to insufficient margin.\n",
      "  warnings.warn(\n",
      "\r",
      "                                                       "
     ]
    },
    {
     "name": "stderr",
     "output_type": "stream",
     "text": [
      "\r"
     ]
    },
    {
     "name": "stderr",
     "output_type": "stream",
     "text": [
      "\r",
      "Backtest.run:   0%|          | 0/3346 [00:00<?, ?bar/s]"
     ]
    },
    {
     "name": "stderr",
     "output_type": "stream",
     "text": [
      "\r",
      "                                                       "
     ]
    },
    {
     "name": "stderr",
     "output_type": "stream",
     "text": [
      "\r"
     ]
    },
    {
     "name": "stderr",
     "output_type": "stream",
     "text": [
      "\r",
      "Backtest.run:   0%|          | 0/3415 [00:00<?, ?bar/s]"
     ]
    },
    {
     "name": "stderr",
     "output_type": "stream",
     "text": [
      "/usr/share/miniconda/envs/test/lib/python3.10/site-packages/backtesting/backtesting.py:954: UserWarning: time=1824: Broker canceled the relative-sized order due to insufficient margin.\n",
      "  warnings.warn(\n",
      "\r",
      "                                                       "
     ]
    },
    {
     "name": "stderr",
     "output_type": "stream",
     "text": [
      "\r"
     ]
    },
    {
     "name": "stderr",
     "output_type": "stream",
     "text": [
      "\r",
      "Backtest.run:   0%|          | 0/3355 [00:00<?, ?bar/s]"
     ]
    },
    {
     "name": "stderr",
     "output_type": "stream",
     "text": [
      "/usr/share/miniconda/envs/test/lib/python3.10/site-packages/backtesting/backtesting.py:954: UserWarning: time=3360: Broker canceled the relative-sized order due to insufficient margin.\n",
      "  warnings.warn(\n",
      "/usr/share/miniconda/envs/test/lib/python3.10/site-packages/backtesting/backtesting.py:954: UserWarning: time=3387: Broker canceled the relative-sized order due to insufficient margin.\n",
      "  warnings.warn(\n",
      "/usr/share/miniconda/envs/test/lib/python3.10/site-packages/backtesting/backtesting.py:954: UserWarning: time=3536: Broker canceled the relative-sized order due to insufficient margin.\n",
      "  warnings.warn(\n",
      "\r",
      "                                                       "
     ]
    },
    {
     "name": "stderr",
     "output_type": "stream",
     "text": [
      "\r"
     ]
    },
    {
     "name": "stderr",
     "output_type": "stream",
     "text": [
      "\r",
      "Backtest.run:   0%|          | 0/3457 [00:00<?, ?bar/s]"
     ]
    },
    {
     "name": "stderr",
     "output_type": "stream",
     "text": [
      "\r",
      "                                                       "
     ]
    },
    {
     "name": "stderr",
     "output_type": "stream",
     "text": [
      "\r"
     ]
    },
    {
     "name": "stderr",
     "output_type": "stream",
     "text": [
      "\r",
      "Backtest.run:   0%|          | 0/3299 [00:00<?, ?bar/s]"
     ]
    },
    {
     "name": "stderr",
     "output_type": "stream",
     "text": [
      "/usr/share/miniconda/envs/test/lib/python3.10/site-packages/backtesting/backtesting.py:954: UserWarning: time=3267: Broker canceled the relative-sized order due to insufficient margin.\n",
      "  warnings.warn(\n",
      "\r",
      "                                                       "
     ]
    },
    {
     "name": "stderr",
     "output_type": "stream",
     "text": [
      "\r"
     ]
    },
    {
     "name": "stderr",
     "output_type": "stream",
     "text": [
      "\r",
      "Backtest.run:   0%|          | 0/3028 [00:00<?, ?bar/s]"
     ]
    },
    {
     "name": "stderr",
     "output_type": "stream",
     "text": [
      "/usr/share/miniconda/envs/test/lib/python3.10/site-packages/backtesting/backtesting.py:954: UserWarning: time=2111: Broker canceled the relative-sized order due to insufficient margin.\n",
      "  warnings.warn(\n",
      "\r",
      "                                                       "
     ]
    },
    {
     "name": "stderr",
     "output_type": "stream",
     "text": [
      "\r"
     ]
    },
    {
     "name": "stderr",
     "output_type": "stream",
     "text": [
      "\r",
      "Backtest.run:   0%|          | 0/3351 [00:00<?, ?bar/s]"
     ]
    },
    {
     "name": "stderr",
     "output_type": "stream",
     "text": [
      "\r",
      "                                                       "
     ]
    },
    {
     "name": "stderr",
     "output_type": "stream",
     "text": [
      "\r"
     ]
    },
    {
     "name": "stderr",
     "output_type": "stream",
     "text": [
      "\r",
      "Backtest.run:   0%|          | 0/3101 [00:00<?, ?bar/s]"
     ]
    },
    {
     "name": "stderr",
     "output_type": "stream",
     "text": [
      "\r",
      "                                                       "
     ]
    },
    {
     "name": "stderr",
     "output_type": "stream",
     "text": [
      "\r"
     ]
    },
    {
     "name": "stderr",
     "output_type": "stream",
     "text": [
      "\r",
      "Backtest.run:   0%|          | 0/3433 [00:00<?, ?bar/s]"
     ]
    },
    {
     "name": "stderr",
     "output_type": "stream",
     "text": [
      "/usr/share/miniconda/envs/test/lib/python3.10/site-packages/backtesting/backtesting.py:954: UserWarning: time=609: Broker canceled the relative-sized order due to insufficient margin.\n",
      "  warnings.warn(\n",
      "/usr/share/miniconda/envs/test/lib/python3.10/site-packages/backtesting/backtesting.py:954: UserWarning: time=2519: Broker canceled the relative-sized order due to insufficient margin.\n",
      "  warnings.warn(\n",
      "\r",
      "                                                       "
     ]
    },
    {
     "name": "stderr",
     "output_type": "stream",
     "text": [
      "\r"
     ]
    },
    {
     "name": "stderr",
     "output_type": "stream",
     "text": [
      "\r",
      "Backtest.run:   0%|          | 0/3127 [00:00<?, ?bar/s]"
     ]
    },
    {
     "name": "stderr",
     "output_type": "stream",
     "text": [
      "\r",
      "                                                       "
     ]
    },
    {
     "name": "stderr",
     "output_type": "stream",
     "text": [
      "\r"
     ]
    },
    {
     "name": "stderr",
     "output_type": "stream",
     "text": [
      "\r",
      "Backtest.run:   0%|          | 0/3413 [00:00<?, ?bar/s]"
     ]
    },
    {
     "name": "stderr",
     "output_type": "stream",
     "text": [
      "\r",
      "                                                       "
     ]
    },
    {
     "name": "stderr",
     "output_type": "stream",
     "text": [
      "\r"
     ]
    },
    {
     "name": "stderr",
     "output_type": "stream",
     "text": [
      "\r",
      "Backtest.run:   0%|          | 0/3434 [00:00<?, ?bar/s]"
     ]
    },
    {
     "name": "stderr",
     "output_type": "stream",
     "text": [
      "\r",
      "                                                       "
     ]
    },
    {
     "name": "stderr",
     "output_type": "stream",
     "text": [
      "\r"
     ]
    },
    {
     "name": "stderr",
     "output_type": "stream",
     "text": [
      "\r",
      "Backtest.run:   0%|          | 0/2654 [00:00<?, ?bar/s]"
     ]
    },
    {
     "name": "stderr",
     "output_type": "stream",
     "text": [
      "/usr/share/miniconda/envs/test/lib/python3.10/site-packages/backtesting/backtesting.py:954: UserWarning: time=2610: Broker canceled the relative-sized order due to insufficient margin.\n",
      "  warnings.warn(\n",
      "\r",
      "                                                       "
     ]
    },
    {
     "name": "stderr",
     "output_type": "stream",
     "text": [
      "\r"
     ]
    },
    {
     "name": "stderr",
     "output_type": "stream",
     "text": [
      "\r",
      "Backtest.run:   0%|          | 0/113 [00:00<?, ?bar/s]"
     ]
    },
    {
     "name": "stderr",
     "output_type": "stream",
     "text": [
      "\r",
      "                                                      "
     ]
    },
    {
     "name": "stderr",
     "output_type": "stream",
     "text": [
      "\r",
      "/tmp/ipykernel_2168/2801041912.py:34: FutureWarning: The behavior of DataFrame concatenation with empty or all-NA entries is deprecated. In a future version, this will no longer exclude empty or all-NA columns when determining the result dtypes. To retain the old behavior, exclude the relevant entries before the concat operation.\n",
      "  tradesprev = pd.concat([tradesprev, tradesdf],ignore_index=True)\n",
      "/tmp/ipykernel_2168/2801041912.py:35: FutureWarning: The behavior of DataFrame concatenation with empty or all-NA entries is deprecated. In a future version, this will no longer exclude empty or all-NA columns when determining the result dtypes. To retain the old behavior, exclude the relevant entries before the concat operation.\n",
      "  estadisticas=pd.concat([estadisticas, stat],ignore_index=True)\n"
     ]
    },
    {
     "name": "stderr",
     "output_type": "stream",
     "text": [
      "\r",
      "Backtest.run:   0%|          | 0/3352 [00:00<?, ?bar/s]"
     ]
    },
    {
     "name": "stderr",
     "output_type": "stream",
     "text": [
      "/usr/share/miniconda/envs/test/lib/python3.10/site-packages/backtesting/backtesting.py:954: UserWarning: time=1330: Broker canceled the relative-sized order due to insufficient margin.\n",
      "  warnings.warn(\n"
     ]
    },
    {
     "name": "stderr",
     "output_type": "stream",
     "text": [
      "\r",
      "                                                       "
     ]
    },
    {
     "name": "stderr",
     "output_type": "stream",
     "text": [
      "\r"
     ]
    },
    {
     "name": "stderr",
     "output_type": "stream",
     "text": [
      "\r",
      "Backtest.run:   0%|          | 0/2836 [00:00<?, ?bar/s]"
     ]
    },
    {
     "name": "stderr",
     "output_type": "stream",
     "text": [
      "/usr/share/miniconda/envs/test/lib/python3.10/site-packages/backtesting/backtesting.py:954: UserWarning: time=1198: Broker canceled the relative-sized order due to insufficient margin.\n",
      "  warnings.warn(\n"
     ]
    },
    {
     "name": "stderr",
     "output_type": "stream",
     "text": [
      "\r",
      "                                                       "
     ]
    },
    {
     "name": "stderr",
     "output_type": "stream",
     "text": [
      "\r"
     ]
    },
    {
     "name": "stderr",
     "output_type": "stream",
     "text": [
      "\r",
      "Backtest.run:   0%|          | 0/3104 [00:00<?, ?bar/s]"
     ]
    },
    {
     "name": "stderr",
     "output_type": "stream",
     "text": [
      "/usr/share/miniconda/envs/test/lib/python3.10/site-packages/backtesting/backtesting.py:954: UserWarning: time=940: Broker canceled the relative-sized order due to insufficient margin.\n",
      "  warnings.warn(\n",
      "/usr/share/miniconda/envs/test/lib/python3.10/site-packages/backtesting/backtesting.py:954: UserWarning: time=1101: Broker canceled the relative-sized order due to insufficient margin.\n",
      "  warnings.warn(\n"
     ]
    },
    {
     "name": "stderr",
     "output_type": "stream",
     "text": [
      "\r",
      "                                                       "
     ]
    },
    {
     "name": "stderr",
     "output_type": "stream",
     "text": [
      "\r"
     ]
    },
    {
     "name": "stderr",
     "output_type": "stream",
     "text": [
      "\r",
      "Backtest.run:   0%|          | 0/3302 [00:00<?, ?bar/s]"
     ]
    },
    {
     "name": "stderr",
     "output_type": "stream",
     "text": [
      "/usr/share/miniconda/envs/test/lib/python3.10/site-packages/backtesting/backtesting.py:954: UserWarning: time=1456: Broker canceled the relative-sized order due to insufficient margin.\n",
      "  warnings.warn(\n",
      "/usr/share/miniconda/envs/test/lib/python3.10/site-packages/backtesting/backtesting.py:954: UserWarning: time=2428: Broker canceled the relative-sized order due to insufficient margin.\n",
      "  warnings.warn(\n",
      "\r",
      "                                                       "
     ]
    },
    {
     "name": "stderr",
     "output_type": "stream",
     "text": [
      "\r"
     ]
    },
    {
     "name": "stderr",
     "output_type": "stream",
     "text": [
      "\r",
      "Backtest.run:   0%|          | 0/3360 [00:00<?, ?bar/s]"
     ]
    },
    {
     "name": "stderr",
     "output_type": "stream",
     "text": [
      "/usr/share/miniconda/envs/test/lib/python3.10/site-packages/backtesting/backtesting.py:954: UserWarning: time=872: Broker canceled the relative-sized order due to insufficient margin.\n",
      "  warnings.warn(\n",
      "/usr/share/miniconda/envs/test/lib/python3.10/site-packages/backtesting/backtesting.py:954: UserWarning: time=1235: Broker canceled the relative-sized order due to insufficient margin.\n",
      "  warnings.warn(\n",
      "\r",
      "                                                       "
     ]
    },
    {
     "name": "stderr",
     "output_type": "stream",
     "text": [
      "\r"
     ]
    }
   ],
   "source": [
    "# Por cada TIcket\n",
    "my_stats = {}\n",
    "estadisticas = pd.DataFrame()          # lista para ticker\n",
    "tradesprev = pd.DataFrame()     # lista para cada caso por ticker\n",
    "for ticker in df_backTesting['companyName'].unique():\n",
    "    ticker_data = df_backTesting[df_backTesting['companyName'] == ticker].copy() #Filtro por cada ticker\n",
    "    bt = Backtest(ticker_data, strategyRupturaCanal, cash=10_000)\n",
    "    my_stats = bt.run()\n",
    "    listTrades = my_stats['_trades']\n",
    "    tradesdf = pd.DataFrame(listTrades) #trades\n",
    "    tradesdf['Ticker'] = ticker\n",
    "    stats_filter={\n",
    "        'Ticker':ticker,\n",
    "        'EntryTime':my_stats['Start'],\n",
    "        'ExitTime':my_stats['End'],\n",
    "        'Return [%]': my_stats['Return [%]'],\n",
    "        'CAGR [%]': my_stats['Return (Ann.) [%]'],\n",
    "        'Sharpe Ratio': my_stats['Sharpe Ratio'],\n",
    "        'Max. Drawdown [%]': my_stats['Max. Drawdown [%]'],\n",
    "        'Win Rate [%]': my_stats['Win Rate [%]'],\n",
    "        '# Trades': my_stats['# Trades'],\n",
    "        'Expectancy [%]': my_stats['Expectancy [%]'],\n",
    "        'Profit Factor': my_stats['Profit Factor'],\n",
    "        'Duration': my_stats['Duration'],\n",
    "        'Avg. Trade [%]':my_stats['Avg. Trade [%]'],\n",
    "        'Max. Trade Duration':my_stats['Max. Trade Duration'],\n",
    "        'Avg. Trade Duration':my_stats['Avg. Trade Duration']\n",
    "    }\n",
    "    stat=pd.DataFrame([stats_filter])\n",
    "    if tradesprev.shape[0]==0:\n",
    "        tradesprev = tradesdf.copy()\n",
    "        estadisticas=stat.copy()\n",
    "    else:\n",
    "        tradesprev = pd.concat([tradesprev, tradesdf],ignore_index=True)\n",
    "        estadisticas=pd.concat([estadisticas, stat],ignore_index=True)\n",
    "    # Mostramos\n",
    "    #bt.plot(resample=False, filename=f\"plot_BreakOUT_{ticker}\")"
   ]
  },
  {
   "cell_type": "code",
   "execution_count": 18,
   "id": "ebdac24e-07d0-4923-b11b-c35831321046",
   "metadata": {
    "execution": {
     "iopub.execute_input": "2025-06-11T18:54:31.493566Z",
     "iopub.status.busy": "2025-06-11T18:54:31.493089Z",
     "iopub.status.idle": "2025-06-11T18:54:31.499493Z",
     "shell.execute_reply": "2025-06-11T18:54:31.498924Z"
    },
    "papermill": {
     "duration": 0.038951,
     "end_time": "2025-06-11T18:54:31.500386",
     "exception": false,
     "start_time": "2025-06-11T18:54:31.461435",
     "status": "completed"
    },
    "tags": []
   },
   "outputs": [],
   "source": [
    "ini = df_casos2[(df_casos2['isBreakOutIni']==1)].copy()\n",
    "df_casos3_ini=ini.rename(columns={'Open': 'EntryPrice', 'datetime': 'EntryTime', 'companyName': 'Ticker'})[['EntryPrice','Ticker','caso','EntryTime']]\n",
    "final = df_casos2[(df_casos2['isBreakOutFinal']==1)].copy()\n",
    "df_casos3_final=final.rename(columns={'Open': 'ExitPrice', 'datetime': 'ExitTime', 'companyName': 'Ticker'})[['ExitPrice','Ticker','caso','ExitTime']]"
   ]
  },
  {
   "cell_type": "code",
   "execution_count": 19,
   "id": "8fbb81d3",
   "metadata": {
    "execution": {
     "iopub.execute_input": "2025-06-11T18:54:31.563585Z",
     "iopub.status.busy": "2025-06-11T18:54:31.563195Z",
     "iopub.status.idle": "2025-06-11T18:54:31.568350Z",
     "shell.execute_reply": "2025-06-11T18:54:31.567804Z"
    },
    "papermill": {
     "duration": 0.037701,
     "end_time": "2025-06-11T18:54:31.569276",
     "exception": false,
     "start_time": "2025-06-11T18:54:31.531575",
     "status": "completed"
    },
    "tags": []
   },
   "outputs": [],
   "source": [
    "df_casos3=df_casos3_ini.merge(df_casos3_final,on=['Ticker','caso'],how='outer')"
   ]
  },
  {
   "cell_type": "code",
   "execution_count": 20,
   "id": "3b0668a0",
   "metadata": {
    "execution": {
     "iopub.execute_input": "2025-06-11T18:54:31.632420Z",
     "iopub.status.busy": "2025-06-11T18:54:31.632064Z",
     "iopub.status.idle": "2025-06-11T18:54:31.637302Z",
     "shell.execute_reply": "2025-06-11T18:54:31.636846Z"
    },
    "papermill": {
     "duration": 0.037585,
     "end_time": "2025-06-11T18:54:31.638076",
     "exception": false,
     "start_time": "2025-06-11T18:54:31.600491",
     "status": "completed"
    },
    "tags": []
   },
   "outputs": [],
   "source": [
    "trades = pd.merge(df_casos3, tradesprev, on = ['EntryTime','Ticker'], how='left')"
   ]
  },
  {
   "cell_type": "code",
   "execution_count": 21,
   "id": "15ac2ccd",
   "metadata": {
    "execution": {
     "iopub.execute_input": "2025-06-11T18:54:31.701316Z",
     "iopub.status.busy": "2025-06-11T18:54:31.701103Z",
     "iopub.status.idle": "2025-06-11T18:54:31.710428Z",
     "shell.execute_reply": "2025-06-11T18:54:31.709966Z"
    },
    "papermill": {
     "duration": 0.041517,
     "end_time": "2025-06-11T18:54:31.711223",
     "exception": false,
     "start_time": "2025-06-11T18:54:31.669706",
     "status": "completed"
    },
    "tags": []
   },
   "outputs": [],
   "source": [
    "def exitPrice(x):\n",
    "    if pd.isna(x['ExitPrice_x']):\n",
    "        return x['ExitPrice_y']\n",
    "    else:\n",
    "        return x['ExitPrice_x']\n",
    "trades['ExitPrice'] = trades.apply(lambda row: exitPrice(row), axis=1)"
   ]
  },
  {
   "cell_type": "code",
   "execution_count": 22,
   "id": "6a76fb26",
   "metadata": {
    "execution": {
     "iopub.execute_input": "2025-06-11T18:54:31.774964Z",
     "iopub.status.busy": "2025-06-11T18:54:31.774344Z",
     "iopub.status.idle": "2025-06-11T18:54:31.778673Z",
     "shell.execute_reply": "2025-06-11T18:54:31.778100Z"
    },
    "papermill": {
     "duration": 0.036814,
     "end_time": "2025-06-11T18:54:31.779589",
     "exception": false,
     "start_time": "2025-06-11T18:54:31.742775",
     "status": "completed"
    },
    "tags": []
   },
   "outputs": [],
   "source": [
    "trades = trades.rename(columns={'EntryPrice_x': 'EntryPrice'})\n",
    "trades = trades.drop(['EntryPrice_y','ExitPrice_x', 'ExitPrice_y'], axis=1)"
   ]
  },
  {
   "cell_type": "code",
   "execution_count": 23,
   "id": "b2ae9041",
   "metadata": {
    "execution": {
     "iopub.execute_input": "2025-06-11T18:54:31.843059Z",
     "iopub.status.busy": "2025-06-11T18:54:31.842882Z",
     "iopub.status.idle": "2025-06-11T18:54:31.852154Z",
     "shell.execute_reply": "2025-06-11T18:54:31.851583Z"
    },
    "papermill": {
     "duration": 0.041863,
     "end_time": "2025-06-11T18:54:31.853054",
     "exception": false,
     "start_time": "2025-06-11T18:54:31.811191",
     "status": "completed"
    },
    "tags": []
   },
   "outputs": [],
   "source": [
    "def exitTime(x):\n",
    "    if pd.isna(x['ExitTime_x']):\n",
    "        return x['ExitTime_y']\n",
    "    else:\n",
    "        return x['ExitTime_x']\n",
    "trades['ExitTime'] = trades.apply(lambda row: exitTime(row), axis=1)"
   ]
  },
  {
   "cell_type": "code",
   "execution_count": 24,
   "id": "193cdbfe",
   "metadata": {
    "execution": {
     "iopub.execute_input": "2025-06-11T18:54:31.916375Z",
     "iopub.status.busy": "2025-06-11T18:54:31.916179Z",
     "iopub.status.idle": "2025-06-11T18:54:31.926966Z",
     "shell.execute_reply": "2025-06-11T18:54:31.926478Z"
    },
    "papermill": {
     "duration": 0.043241,
     "end_time": "2025-06-11T18:54:31.927711",
     "exception": false,
     "start_time": "2025-06-11T18:54:31.884470",
     "status": "completed"
    },
    "tags": []
   },
   "outputs": [],
   "source": [
    "def duration(x):\n",
    "    if pd.isna(x['Duration']):\n",
    "        if pd.isna(x['ExitTime']):\n",
    "            return pd.NaT\n",
    "        else:\n",
    "            return x['ExitTime']-x['EntryTime']\n",
    "    else:\n",
    "        return x['Duration']\n",
    "trades['Duration'] = trades.apply(lambda row: duration(row), axis=1)"
   ]
  },
  {
   "cell_type": "code",
   "execution_count": 25,
   "id": "c032ed19",
   "metadata": {
    "execution": {
     "iopub.execute_input": "2025-06-11T18:54:31.991089Z",
     "iopub.status.busy": "2025-06-11T18:54:31.990873Z",
     "iopub.status.idle": "2025-06-11T18:54:31.994235Z",
     "shell.execute_reply": "2025-06-11T18:54:31.993773Z"
    },
    "papermill": {
     "duration": 0.036039,
     "end_time": "2025-06-11T18:54:31.995067",
     "exception": false,
     "start_time": "2025-06-11T18:54:31.959028",
     "status": "completed"
    },
    "tags": []
   },
   "outputs": [],
   "source": [
    "trades = trades.drop(['ExitTime_x', 'ExitTime_y'], axis=1)"
   ]
  },
  {
   "cell_type": "code",
   "execution_count": 26,
   "id": "881ca541",
   "metadata": {
    "execution": {
     "iopub.execute_input": "2025-06-11T18:54:32.057989Z",
     "iopub.status.busy": "2025-06-11T18:54:32.057810Z",
     "iopub.status.idle": "2025-06-11T18:54:32.061082Z",
     "shell.execute_reply": "2025-06-11T18:54:32.060601Z"
    },
    "papermill": {
     "duration": 0.035529,
     "end_time": "2025-06-11T18:54:32.061932",
     "exception": false,
     "start_time": "2025-06-11T18:54:32.026403",
     "status": "completed"
    },
    "tags": []
   },
   "outputs": [],
   "source": [
    "trades=trades[['Ticker','EntryTime','ExitTime','EntryPrice','ExitPrice','Duration','Size','EntryBar','ExitBar','ReturnPct','PnL','caso']]"
   ]
  },
  {
   "cell_type": "code",
   "execution_count": 27,
   "id": "a72c8a0d",
   "metadata": {
    "execution": {
     "iopub.execute_input": "2025-06-11T18:54:32.125573Z",
     "iopub.status.busy": "2025-06-11T18:54:32.125357Z",
     "iopub.status.idle": "2025-06-11T18:54:32.153104Z",
     "shell.execute_reply": "2025-06-11T18:54:32.152519Z"
    },
    "papermill": {
     "duration": 0.060447,
     "end_time": "2025-06-11T18:54:32.154101",
     "exception": false,
     "start_time": "2025-06-11T18:54:32.093654",
     "status": "completed"
    },
    "tags": []
   },
   "outputs": [],
   "source": [
    "for item in estadisticas['Ticker'].unique():\n",
    "    count = trades[trades[\"Ticker\"] == item].shape[0]\n",
    "    estadisticas.loc[estadisticas['Ticker'] == item, '# Trades'] = count"
   ]
  },
  {
   "cell_type": "code",
   "execution_count": 28,
   "id": "eda2a7ba",
   "metadata": {
    "execution": {
     "iopub.execute_input": "2025-06-11T18:54:32.223214Z",
     "iopub.status.busy": "2025-06-11T18:54:32.222854Z",
     "iopub.status.idle": "2025-06-11T18:54:32.242421Z",
     "shell.execute_reply": "2025-06-11T18:54:32.241877Z"
    },
    "papermill": {
     "duration": 0.057694,
     "end_time": "2025-06-11T18:54:32.243299",
     "exception": false,
     "start_time": "2025-06-11T18:54:32.185605",
     "status": "completed"
    },
    "tags": []
   },
   "outputs": [],
   "source": [
    "#EXPORTACION DE DATAFRAME\n",
    "path = 'data/backtesting'\n",
    "\n",
    "# Asegurarse de que el directorio existe\n",
    "os.makedirs(path, exist_ok=True)\n",
    "\n",
    "path_trades = os.path.join(path, 'trades_rca_h.csv')\n",
    "path_estadisticas = os.path.join(path, 'estadisticas_rca_h.csv')\n",
    "\n",
    "for file_path in [path_trades, path_estadisticas]:\n",
    "    if os.path.exists(file_path):\n",
    "        os.remove(file_path)\n",
    "    else:\n",
    "        print(f\"File does not exist: {file_path}. It will be created.\")\n",
    "\n",
    "trades.to_csv(path_trades, header=True, index=False, sep='\\t', mode='w')\n",
    "estadisticas.to_csv(path_estadisticas, header=True, index=False, sep='\\t', mode='w')\n"
   ]
  }
 ],
 "metadata": {
  "kernelspec": {
   "display_name": "Python [conda env:base] *",
   "language": "python",
   "name": "conda-base-py"
  },
  "language_info": {
   "codemirror_mode": {
    "name": "ipython",
    "version": 3
   },
   "file_extension": ".py",
   "mimetype": "text/x-python",
   "name": "python",
   "nbconvert_exporter": "python",
   "pygments_lexer": "ipython3",
   "version": "3.10.18"
  },
  "papermill": {
   "default_parameters": {},
   "duration": 212.376878,
   "end_time": "2025-06-11T18:54:32.690189",
   "environment_variables": {},
   "exception": null,
   "input_path": "BreakOut_alcista.ipynb",
   "output_path": "output/BreakOut_alcista.ipynb",
   "parameters": {},
   "start_time": "2025-06-11T18:51:00.313311",
   "version": "2.6.0"
  }
 },
 "nbformat": 4,
 "nbformat_minor": 5
}