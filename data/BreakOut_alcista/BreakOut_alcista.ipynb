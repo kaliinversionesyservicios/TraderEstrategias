{
 "cells": [
  {
   "cell_type": "markdown",
   "id": "add7e209-9b3e-4a88-9f6c-e4036fd41ac1",
   "metadata": {
    "papermill": {
     "duration": 0.004309,
     "end_time": "2025-06-11T19:53:21.293902",
     "exception": false,
     "start_time": "2025-06-11T19:53:21.289593",
     "status": "completed"
    },
    "tags": []
   },
   "source": [
    "# Channel Break Out Detection Alcista"
   ]
  },
  {
   "cell_type": "code",
   "execution_count": 1,
   "id": "d9112859-5bd6-42a9-bde4-b8ff8d2aa4b3",
   "metadata": {
    "execution": {
     "iopub.execute_input": "2025-06-11T19:53:21.302446Z",
     "iopub.status.busy": "2025-06-11T19:53:21.302019Z",
     "iopub.status.idle": "2025-06-11T19:53:22.499591Z",
     "shell.execute_reply": "2025-06-11T19:53:22.498955Z"
    },
    "papermill": {
     "duration": 1.202919,
     "end_time": "2025-06-11T19:53:22.500564",
     "exception": false,
     "start_time": "2025-06-11T19:53:21.297645",
     "status": "completed"
    },
    "tags": []
   },
   "outputs": [
    {
     "name": "stderr",
     "output_type": "stream",
     "text": [
      "/usr/share/miniconda/envs/test/lib/python3.10/site-packages/tqdm/auto.py:21: TqdmWarning: IProgress not found. Please update jupyter and ipywidgets. See https://ipywidgets.readthedocs.io/en/stable/user_install.html\n",
      "  from .autonotebook import tqdm as notebook_tqdm\n",
      "/usr/share/miniconda/envs/test/lib/python3.10/site-packages/backtesting/_plotting.py:55: UserWarning: Jupyter Notebook detected. Setting Bokeh output to notebook. This may not work in Jupyter clients without JavaScript support, such as old IDEs. Reset with `backtesting.set_bokeh_output(notebook=False)`.\n",
      "  warnings.warn('Jupyter Notebook detected. '\n"
     ]
    },
    {
     "data": {
      "text/html": [
       "    <style>\n",
       "        .bk-notebook-logo {\n",
       "            display: block;\n",
       "            width: 20px;\n",
       "            height: 20px;\n",
       "            background-image: url(data:image/png;base64,iVBORw0KGgoAAAANSUhEUgAAABQAAAAUCAYAAACNiR0NAAAABHNCSVQICAgIfAhkiAAAAAlwSFlzAAALEgAACxIB0t1+/AAAABx0RVh0U29mdHdhcmUAQWRvYmUgRmlyZXdvcmtzIENTNui8sowAAAOkSURBVDiNjZRtaJVlGMd/1/08zzln5zjP1LWcU9N0NkN8m2CYjpgQYQXqSs0I84OLIC0hkEKoPtiH3gmKoiJDU7QpLgoLjLIQCpEsNJ1vqUOdO7ppbuec5+V+rj4ctwzd8IIbbi6u+8f1539dt3A78eXC7QizUF7gyV1fD1Yqg4JWz84yffhm0qkFqBogB9rM8tZdtwVsPUhWhGcFJngGeWrPzHm5oaMmkfEg1usvLFyc8jLRqDOMru7AyC8saQr7GG7f5fvDeH7Ej8CM66nIF+8yngt6HWaKh7k49Soy9nXurCi1o3qUbS3zWfrYeQDTB/Qj6kX6Ybhw4B+bOYoLKCC9H3Nu/leUTZ1JdRWkkn2ldcCamzrcf47KKXdAJllSlxAOkRgyHsGC/zRday5Qld9DyoM4/q/rUoy/CXh3jzOu3bHUVZeU+DEn8FInkPBFlu3+nW3Nw0mk6vCDiWg8CeJaxEwuHS3+z5RgY+YBR6V1Z1nxSOfoaPa4LASWxxdNp+VWTk7+4vzaou8v8PN+xo+KY2xsw6une2frhw05CTYOmQvsEhjhWjn0bmXPjpE1+kplmmkP3suftwTubK9Vq22qKmrBhpY4jvd5afdRA3wGjFAgcnTK2s4hY0/GPNIb0nErGMCRxWOOX64Z8RAC4oCXdklmEvcL8o0BfkNK4lUg9HTl+oPlQxdNo3Mg4Nv175e/1LDGzZen30MEjRUtmXSfiTVu1kK8W4txyV6BMKlbgk3lMwYCiusNy9fVfvvwMxv8Ynl6vxoByANLTWplvuj/nF9m2+PDtt1eiHPBr1oIfhCChQMBw6Aw0UulqTKZdfVvfG7VcfIqLG9bcldL/+pdWTLxLUy8Qq38heUIjh4XlzZxzQm19lLFlr8vdQ97rjZVOLf8nclzckbcD4wxXMidpX30sFd37Fv/GtwwhzhxGVAprjbg0gCAEeIgwCZyTV2Z1REEW8O4py0wsjeloKoMr6iCY6dP92H6Vw/oTyICIthibxjm/DfN9lVz8IqtqKYLUXfoKVMVQVVJOElGjrnnUt9T9wbgp8AyYKaGlqingHZU/uG2NTZSVqwHQTWkx9hxjkpWDaCg6Ckj5qebgBVbT3V3NNXMSiWSDdGV3hrtzla7J+duwPOToIg42ChPQOQjspnSlp1V+Gjdged7+8UN5CRAV7a5EdFNwCjEaBR27b3W890TE7g24NAP/mMDXRWrGoFPQI9ls/MWO2dWFAar/xcOIImbbpA3zgAAAABJRU5ErkJggg==);\n",
       "        }\n",
       "    </style>\n",
       "    <div>\n",
       "        <a href=\"https://bokeh.org\" target=\"_blank\" class=\"bk-notebook-logo\"></a>\n",
       "        <span id=\"bdb33e8d-a830-43ee-b694-e50ac60192da\">Loading BokehJS ...</span>\n",
       "    </div>\n"
      ]
     },
     "metadata": {},
     "output_type": "display_data"
    },
    {
     "data": {
      "application/javascript": [
       "'use strict';\n",
       "(function(root) {\n",
       "  function now() {\n",
       "    return new Date();\n",
       "  }\n",
       "\n",
       "  const force = true;\n",
       "\n",
       "  if (typeof root._bokeh_onload_callbacks === \"undefined\" || force === true) {\n",
       "    root._bokeh_onload_callbacks = [];\n",
       "    root._bokeh_is_loading = undefined;\n",
       "  }\n",
       "\n",
       "const JS_MIME_TYPE = 'application/javascript';\n",
       "  const HTML_MIME_TYPE = 'text/html';\n",
       "  const EXEC_MIME_TYPE = 'application/vnd.bokehjs_exec.v0+json';\n",
       "  const CLASS_NAME = 'output_bokeh rendered_html';\n",
       "\n",
       "  /**\n",
       "   * Render data to the DOM node\n",
       "   */\n",
       "  function render(props, node) {\n",
       "    const script = document.createElement(\"script\");\n",
       "    node.appendChild(script);\n",
       "  }\n",
       "\n",
       "  /**\n",
       "   * Handle when an output is cleared or removed\n",
       "   */\n",
       "  function handleClearOutput(event, handle) {\n",
       "    function drop(id) {\n",
       "      const view = Bokeh.index.get_by_id(id)\n",
       "      if (view != null) {\n",
       "        view.model.document.clear()\n",
       "        Bokeh.index.delete(view)\n",
       "      }\n",
       "    }\n",
       "\n",
       "    const cell = handle.cell;\n",
       "\n",
       "    const id = cell.output_area._bokeh_element_id;\n",
       "    const server_id = cell.output_area._bokeh_server_id;\n",
       "\n",
       "    // Clean up Bokeh references\n",
       "    if (id != null) {\n",
       "      drop(id)\n",
       "    }\n",
       "\n",
       "    if (server_id !== undefined) {\n",
       "      // Clean up Bokeh references\n",
       "      const cmd_clean = \"from bokeh.io.state import curstate; print(curstate().uuid_to_server['\" + server_id + \"'].get_sessions()[0].document.roots[0]._id)\";\n",
       "      cell.notebook.kernel.execute(cmd_clean, {\n",
       "        iopub: {\n",
       "          output: function(msg) {\n",
       "            const id = msg.content.text.trim()\n",
       "            drop(id)\n",
       "          }\n",
       "        }\n",
       "      });\n",
       "      // Destroy server and session\n",
       "      const cmd_destroy = \"import bokeh.io.notebook as ion; ion.destroy_server('\" + server_id + \"')\";\n",
       "      cell.notebook.kernel.execute(cmd_destroy);\n",
       "    }\n",
       "  }\n",
       "\n",
       "  /**\n",
       "   * Handle when a new output is added\n",
       "   */\n",
       "  function handleAddOutput(event, handle) {\n",
       "    const output_area = handle.output_area;\n",
       "    const output = handle.output;\n",
       "\n",
       "    // limit handleAddOutput to display_data with EXEC_MIME_TYPE content only\n",
       "    if ((output.output_type != \"display_data\") || (!Object.prototype.hasOwnProperty.call(output.data, EXEC_MIME_TYPE))) {\n",
       "      return\n",
       "    }\n",
       "\n",
       "    const toinsert = output_area.element.find(\".\" + CLASS_NAME.split(' ')[0]);\n",
       "\n",
       "    if (output.metadata[EXEC_MIME_TYPE][\"id\"] !== undefined) {\n",
       "      toinsert[toinsert.length - 1].firstChild.textContent = output.data[JS_MIME_TYPE];\n",
       "      // store reference to embed id on output_area\n",
       "      output_area._bokeh_element_id = output.metadata[EXEC_MIME_TYPE][\"id\"];\n",
       "    }\n",
       "    if (output.metadata[EXEC_MIME_TYPE][\"server_id\"] !== undefined) {\n",
       "      const bk_div = document.createElement(\"div\");\n",
       "      bk_div.innerHTML = output.data[HTML_MIME_TYPE];\n",
       "      const script_attrs = bk_div.children[0].attributes;\n",
       "      for (let i = 0; i < script_attrs.length; i++) {\n",
       "        toinsert[toinsert.length - 1].firstChild.setAttribute(script_attrs[i].name, script_attrs[i].value);\n",
       "        toinsert[toinsert.length - 1].firstChild.textContent = bk_div.children[0].textContent\n",
       "      }\n",
       "      // store reference to server id on output_area\n",
       "      output_area._bokeh_server_id = output.metadata[EXEC_MIME_TYPE][\"server_id\"];\n",
       "    }\n",
       "  }\n",
       "\n",
       "  function register_renderer(events, OutputArea) {\n",
       "\n",
       "    function append_mime(data, metadata, element) {\n",
       "      // create a DOM node to render to\n",
       "      const toinsert = this.create_output_subarea(\n",
       "        metadata,\n",
       "        CLASS_NAME,\n",
       "        EXEC_MIME_TYPE\n",
       "      );\n",
       "      this.keyboard_manager.register_events(toinsert);\n",
       "      // Render to node\n",
       "      const props = {data: data, metadata: metadata[EXEC_MIME_TYPE]};\n",
       "      render(props, toinsert[toinsert.length - 1]);\n",
       "      element.append(toinsert);\n",
       "      return toinsert\n",
       "    }\n",
       "\n",
       "    /* Handle when an output is cleared or removed */\n",
       "    events.on('clear_output.CodeCell', handleClearOutput);\n",
       "    events.on('delete.Cell', handleClearOutput);\n",
       "\n",
       "    /* Handle when a new output is added */\n",
       "    events.on('output_added.OutputArea', handleAddOutput);\n",
       "\n",
       "    /**\n",
       "     * Register the mime type and append_mime function with output_area\n",
       "     */\n",
       "    OutputArea.prototype.register_mime_type(EXEC_MIME_TYPE, append_mime, {\n",
       "      /* Is output safe? */\n",
       "      safe: true,\n",
       "      /* Index of renderer in `output_area.display_order` */\n",
       "      index: 0\n",
       "    });\n",
       "  }\n",
       "\n",
       "  // register the mime type if in Jupyter Notebook environment and previously unregistered\n",
       "  if (root.Jupyter !== undefined) {\n",
       "    const events = require('base/js/events');\n",
       "    const OutputArea = require('notebook/js/outputarea').OutputArea;\n",
       "\n",
       "    if (OutputArea.prototype.mime_types().indexOf(EXEC_MIME_TYPE) == -1) {\n",
       "      register_renderer(events, OutputArea);\n",
       "    }\n",
       "  }\n",
       "  if (typeof (root._bokeh_timeout) === \"undefined\" || force === true) {\n",
       "    root._bokeh_timeout = Date.now() + 5000;\n",
       "    root._bokeh_failed_load = false;\n",
       "  }\n",
       "\n",
       "  const NB_LOAD_WARNING = {'data': {'text/html':\n",
       "     \"<div style='background-color: #fdd'>\\n\"+\n",
       "     \"<p>\\n\"+\n",
       "     \"BokehJS does not appear to have successfully loaded. If loading BokehJS from CDN, this \\n\"+\n",
       "     \"may be due to a slow or bad network connection. Possible fixes:\\n\"+\n",
       "     \"</p>\\n\"+\n",
       "     \"<ul>\\n\"+\n",
       "     \"<li>re-rerun `output_notebook()` to attempt to load from CDN again, or</li>\\n\"+\n",
       "     \"<li>use INLINE resources instead, as so:</li>\\n\"+\n",
       "     \"</ul>\\n\"+\n",
       "     \"<code>\\n\"+\n",
       "     \"from bokeh.resources import INLINE\\n\"+\n",
       "     \"output_notebook(resources=INLINE)\\n\"+\n",
       "     \"</code>\\n\"+\n",
       "     \"</div>\"}};\n",
       "\n",
       "  function display_loaded(error = null) {\n",
       "    const el = document.getElementById(\"bdb33e8d-a830-43ee-b694-e50ac60192da\");\n",
       "    if (el != null) {\n",
       "      const html = (() => {\n",
       "        if (typeof root.Bokeh === \"undefined\") {\n",
       "          if (error == null) {\n",
       "            return \"BokehJS is loading ...\";\n",
       "          } else {\n",
       "            return \"BokehJS failed to load.\";\n",
       "          }\n",
       "        } else {\n",
       "          const prefix = `BokehJS ${root.Bokeh.version}`;\n",
       "          if (error == null) {\n",
       "            return `${prefix} successfully loaded.`;\n",
       "          } else {\n",
       "            return `${prefix} <b>encountered errors</b> while loading and may not function as expected.`;\n",
       "          }\n",
       "        }\n",
       "      })();\n",
       "      el.innerHTML = html;\n",
       "\n",
       "      if (error != null) {\n",
       "        const wrapper = document.createElement(\"div\");\n",
       "        wrapper.style.overflow = \"auto\";\n",
       "        wrapper.style.height = \"5em\";\n",
       "        wrapper.style.resize = \"vertical\";\n",
       "        const content = document.createElement(\"div\");\n",
       "        content.style.fontFamily = \"monospace\";\n",
       "        content.style.whiteSpace = \"pre-wrap\";\n",
       "        content.style.backgroundColor = \"rgb(255, 221, 221)\";\n",
       "        content.textContent = error.stack ?? error.toString();\n",
       "        wrapper.append(content);\n",
       "        el.append(wrapper);\n",
       "      }\n",
       "    } else if (Date.now() < root._bokeh_timeout) {\n",
       "      setTimeout(() => display_loaded(error), 100);\n",
       "    }\n",
       "  }\n",
       "\n",
       "  function run_callbacks() {\n",
       "    try {\n",
       "      root._bokeh_onload_callbacks.forEach(function(callback) {\n",
       "        if (callback != null)\n",
       "          callback();\n",
       "      });\n",
       "    } finally {\n",
       "      delete root._bokeh_onload_callbacks\n",
       "    }\n",
       "    console.debug(\"Bokeh: all callbacks have finished\");\n",
       "  }\n",
       "\n",
       "  function load_libs(css_urls, js_urls, callback) {\n",
       "    if (css_urls == null) css_urls = [];\n",
       "    if (js_urls == null) js_urls = [];\n",
       "\n",
       "    root._bokeh_onload_callbacks.push(callback);\n",
       "    if (root._bokeh_is_loading > 0) {\n",
       "      console.debug(\"Bokeh: BokehJS is being loaded, scheduling callback at\", now());\n",
       "      return null;\n",
       "    }\n",
       "    if (js_urls == null || js_urls.length === 0) {\n",
       "      run_callbacks();\n",
       "      return null;\n",
       "    }\n",
       "    console.debug(\"Bokeh: BokehJS not loaded, scheduling load and callback at\", now());\n",
       "    root._bokeh_is_loading = css_urls.length + js_urls.length;\n",
       "\n",
       "    function on_load() {\n",
       "      root._bokeh_is_loading--;\n",
       "      if (root._bokeh_is_loading === 0) {\n",
       "        console.debug(\"Bokeh: all BokehJS libraries/stylesheets loaded\");\n",
       "        run_callbacks()\n",
       "      }\n",
       "    }\n",
       "\n",
       "    function on_error(url) {\n",
       "      console.error(\"failed to load \" + url);\n",
       "    }\n",
       "\n",
       "    for (let i = 0; i < css_urls.length; i++) {\n",
       "      const url = css_urls[i];\n",
       "      const element = document.createElement(\"link\");\n",
       "      element.onload = on_load;\n",
       "      element.onerror = on_error.bind(null, url);\n",
       "      element.rel = \"stylesheet\";\n",
       "      element.type = \"text/css\";\n",
       "      element.href = url;\n",
       "      console.debug(\"Bokeh: injecting link tag for BokehJS stylesheet: \", url);\n",
       "      document.body.appendChild(element);\n",
       "    }\n",
       "\n",
       "    for (let i = 0; i < js_urls.length; i++) {\n",
       "      const url = js_urls[i];\n",
       "      const element = document.createElement('script');\n",
       "      element.onload = on_load;\n",
       "      element.onerror = on_error.bind(null, url);\n",
       "      element.async = false;\n",
       "      element.src = url;\n",
       "      console.debug(\"Bokeh: injecting script tag for BokehJS library: \", url);\n",
       "      document.head.appendChild(element);\n",
       "    }\n",
       "  };\n",
       "\n",
       "  function inject_raw_css(css) {\n",
       "    const element = document.createElement(\"style\");\n",
       "    element.appendChild(document.createTextNode(css));\n",
       "    document.body.appendChild(element);\n",
       "  }\n",
       "\n",
       "  const js_urls = [\"https://cdn.bokeh.org/bokeh/release/bokeh-3.7.3.min.js\", \"https://cdn.bokeh.org/bokeh/release/bokeh-gl-3.7.3.min.js\", \"https://cdn.bokeh.org/bokeh/release/bokeh-widgets-3.7.3.min.js\", \"https://cdn.bokeh.org/bokeh/release/bokeh-tables-3.7.3.min.js\", \"https://cdn.bokeh.org/bokeh/release/bokeh-mathjax-3.7.3.min.js\"];\n",
       "  const css_urls = [];\n",
       "\n",
       "  const inline_js = [    function(Bokeh) {\n",
       "      Bokeh.set_log_level(\"info\");\n",
       "    },\n",
       "function(Bokeh) {\n",
       "    }\n",
       "  ];\n",
       "\n",
       "  function run_inline_js() {\n",
       "    if (root.Bokeh !== undefined || force === true) {\n",
       "      try {\n",
       "            for (let i = 0; i < inline_js.length; i++) {\n",
       "      inline_js[i].call(root, root.Bokeh);\n",
       "    }\n",
       "\n",
       "      } catch (error) {display_loaded(error);throw error;\n",
       "      }if (force === true) {\n",
       "        display_loaded();\n",
       "      }} else if (Date.now() < root._bokeh_timeout) {\n",
       "      setTimeout(run_inline_js, 100);\n",
       "    } else if (!root._bokeh_failed_load) {\n",
       "      console.log(\"Bokeh: BokehJS failed to load within specified timeout.\");\n",
       "      root._bokeh_failed_load = true;\n",
       "    } else if (force !== true) {\n",
       "      const cell = $(document.getElementById(\"bdb33e8d-a830-43ee-b694-e50ac60192da\")).parents('.cell').data().cell;\n",
       "      cell.output_area.append_execute_result(NB_LOAD_WARNING)\n",
       "    }\n",
       "  }\n",
       "\n",
       "  if (root._bokeh_is_loading === 0) {\n",
       "    console.debug(\"Bokeh: BokehJS loaded, going straight to plotting\");\n",
       "    run_inline_js();\n",
       "  } else {\n",
       "    load_libs(css_urls, js_urls, function() {\n",
       "      console.debug(\"Bokeh: BokehJS plotting callback run at\", now());\n",
       "      run_inline_js();\n",
       "    });\n",
       "  }\n",
       "}(window));"
      ],
      "application/vnd.bokehjs_load.v0+json": "'use strict';\n(function(root) {\n  function now() {\n    return new Date();\n  }\n\n  const force = true;\n\n  if (typeof root._bokeh_onload_callbacks === \"undefined\" || force === true) {\n    root._bokeh_onload_callbacks = [];\n    root._bokeh_is_loading = undefined;\n  }\n\n\n  if (typeof (root._bokeh_timeout) === \"undefined\" || force === true) {\n    root._bokeh_timeout = Date.now() + 5000;\n    root._bokeh_failed_load = false;\n  }\n\n  const NB_LOAD_WARNING = {'data': {'text/html':\n     \"<div style='background-color: #fdd'>\\n\"+\n     \"<p>\\n\"+\n     \"BokehJS does not appear to have successfully loaded. If loading BokehJS from CDN, this \\n\"+\n     \"may be due to a slow or bad network connection. Possible fixes:\\n\"+\n     \"</p>\\n\"+\n     \"<ul>\\n\"+\n     \"<li>re-rerun `output_notebook()` to attempt to load from CDN again, or</li>\\n\"+\n     \"<li>use INLINE resources instead, as so:</li>\\n\"+\n     \"</ul>\\n\"+\n     \"<code>\\n\"+\n     \"from bokeh.resources import INLINE\\n\"+\n     \"output_notebook(resources=INLINE)\\n\"+\n     \"</code>\\n\"+\n     \"</div>\"}};\n\n  function display_loaded(error = null) {\n    const el = document.getElementById(\"bdb33e8d-a830-43ee-b694-e50ac60192da\");\n    if (el != null) {\n      const html = (() => {\n        if (typeof root.Bokeh === \"undefined\") {\n          if (error == null) {\n            return \"BokehJS is loading ...\";\n          } else {\n            return \"BokehJS failed to load.\";\n          }\n        } else {\n          const prefix = `BokehJS ${root.Bokeh.version}`;\n          if (error == null) {\n            return `${prefix} successfully loaded.`;\n          } else {\n            return `${prefix} <b>encountered errors</b> while loading and may not function as expected.`;\n          }\n        }\n      })();\n      el.innerHTML = html;\n\n      if (error != null) {\n        const wrapper = document.createElement(\"div\");\n        wrapper.style.overflow = \"auto\";\n        wrapper.style.height = \"5em\";\n        wrapper.style.resize = \"vertical\";\n        const content = document.createElement(\"div\");\n        content.style.fontFamily = \"monospace\";\n        content.style.whiteSpace = \"pre-wrap\";\n        content.style.backgroundColor = \"rgb(255, 221, 221)\";\n        content.textContent = error.stack ?? error.toString();\n        wrapper.append(content);\n        el.append(wrapper);\n      }\n    } else if (Date.now() < root._bokeh_timeout) {\n      setTimeout(() => display_loaded(error), 100);\n    }\n  }\n\n  function run_callbacks() {\n    try {\n      root._bokeh_onload_callbacks.forEach(function(callback) {\n        if (callback != null)\n          callback();\n      });\n    } finally {\n      delete root._bokeh_onload_callbacks\n    }\n    console.debug(\"Bokeh: all callbacks have finished\");\n  }\n\n  function load_libs(css_urls, js_urls, callback) {\n    if (css_urls == null) css_urls = [];\n    if (js_urls == null) js_urls = [];\n\n    root._bokeh_onload_callbacks.push(callback);\n    if (root._bokeh_is_loading > 0) {\n      console.debug(\"Bokeh: BokehJS is being loaded, scheduling callback at\", now());\n      return null;\n    }\n    if (js_urls == null || js_urls.length === 0) {\n      run_callbacks();\n      return null;\n    }\n    console.debug(\"Bokeh: BokehJS not loaded, scheduling load and callback at\", now());\n    root._bokeh_is_loading = css_urls.length + js_urls.length;\n\n    function on_load() {\n      root._bokeh_is_loading--;\n      if (root._bokeh_is_loading === 0) {\n        console.debug(\"Bokeh: all BokehJS libraries/stylesheets loaded\");\n        run_callbacks()\n      }\n    }\n\n    function on_error(url) {\n      console.error(\"failed to load \" + url);\n    }\n\n    for (let i = 0; i < css_urls.length; i++) {\n      const url = css_urls[i];\n      const element = document.createElement(\"link\");\n      element.onload = on_load;\n      element.onerror = on_error.bind(null, url);\n      element.rel = \"stylesheet\";\n      element.type = \"text/css\";\n      element.href = url;\n      console.debug(\"Bokeh: injecting link tag for BokehJS stylesheet: \", url);\n      document.body.appendChild(element);\n    }\n\n    for (let i = 0; i < js_urls.length; i++) {\n      const url = js_urls[i];\n      const element = document.createElement('script');\n      element.onload = on_load;\n      element.onerror = on_error.bind(null, url);\n      element.async = false;\n      element.src = url;\n      console.debug(\"Bokeh: injecting script tag for BokehJS library: \", url);\n      document.head.appendChild(element);\n    }\n  };\n\n  function inject_raw_css(css) {\n    const element = document.createElement(\"style\");\n    element.appendChild(document.createTextNode(css));\n    document.body.appendChild(element);\n  }\n\n  const js_urls = [\"https://cdn.bokeh.org/bokeh/release/bokeh-3.7.3.min.js\", \"https://cdn.bokeh.org/bokeh/release/bokeh-gl-3.7.3.min.js\", \"https://cdn.bokeh.org/bokeh/release/bokeh-widgets-3.7.3.min.js\", \"https://cdn.bokeh.org/bokeh/release/bokeh-tables-3.7.3.min.js\", \"https://cdn.bokeh.org/bokeh/release/bokeh-mathjax-3.7.3.min.js\"];\n  const css_urls = [];\n\n  const inline_js = [    function(Bokeh) {\n      Bokeh.set_log_level(\"info\");\n    },\nfunction(Bokeh) {\n    }\n  ];\n\n  function run_inline_js() {\n    if (root.Bokeh !== undefined || force === true) {\n      try {\n            for (let i = 0; i < inline_js.length; i++) {\n      inline_js[i].call(root, root.Bokeh);\n    }\n\n      } catch (error) {display_loaded(error);throw error;\n      }if (force === true) {\n        display_loaded();\n      }} else if (Date.now() < root._bokeh_timeout) {\n      setTimeout(run_inline_js, 100);\n    } else if (!root._bokeh_failed_load) {\n      console.log(\"Bokeh: BokehJS failed to load within specified timeout.\");\n      root._bokeh_failed_load = true;\n    } else if (force !== true) {\n      const cell = $(document.getElementById(\"bdb33e8d-a830-43ee-b694-e50ac60192da\")).parents('.cell').data().cell;\n      cell.output_area.append_execute_result(NB_LOAD_WARNING)\n    }\n  }\n\n  if (root._bokeh_is_loading === 0) {\n    console.debug(\"Bokeh: BokehJS loaded, going straight to plotting\");\n    run_inline_js();\n  } else {\n    load_libs(css_urls, js_urls, function() {\n      console.debug(\"Bokeh: BokehJS plotting callback run at\", now());\n      run_inline_js();\n    });\n  }\n}(window));"
     },
     "metadata": {},
     "output_type": "display_data"
    }
   ],
   "source": [
    "import pandas as pd\n",
    "import numpy as np\n",
    "#import plotly.graph_objects as go\n",
    "import yfinance as yf\n",
    "import talib as ta\n",
    "#import matplotlib.pyplot as plt\n",
    "#import math\n",
    "from datetime import date, timedelta\n",
    "from scipy import stats\n",
    "from scipy.signal import argrelextrema\n",
    "#from bokeh.plotting import figure, show, column\n",
    "from sklearn.linear_model import LinearRegression\n",
    "import os\n",
    "from backtesting import Backtest, Strategy"
   ]
  },
  {
   "cell_type": "code",
   "execution_count": 2,
   "id": "99fab280-84ca-4c2f-9784-f79dadcb26ed",
   "metadata": {
    "execution": {
     "iopub.execute_input": "2025-06-11T19:53:22.509737Z",
     "iopub.status.busy": "2025-06-11T19:53:22.509443Z",
     "iopub.status.idle": "2025-06-11T19:53:22.596151Z",
     "shell.execute_reply": "2025-06-11T19:53:22.595528Z"
    },
    "papermill": {
     "duration": 0.092435,
     "end_time": "2025-06-11T19:53:22.597277",
     "exception": false,
     "start_time": "2025-06-11T19:53:22.504842",
     "status": "completed"
    },
    "tags": []
   },
   "outputs": [],
   "source": [
    "df_h=pd.read_csv('data/dataxh.txt',sep='\\t')\n",
    "\n",
    "tickers = [\n",
    "    'SPY',\n",
    "    'META',\n",
    "    'AAPL',\n",
    "    'AMZN',\n",
    "    'NFLX',\n",
    "    'MRNA',\n",
    "    'TSLA',\n",
    "    'TNA',\n",
    "    'GLD',\n",
    "    'SLV',\n",
    "    'USO',\n",
    "    'BAC',\n",
    "    'CVX',\n",
    "    'XOM',\n",
    "    'QQQ',\n",
    "    'MSFT',\n",
    "    'NVDA',\n",
    "    'WMT',\n",
    "    'BA',\n",
    "    'DIS',\n",
    "    'CAT',\n",
    "    'IBM',\n",
    "    'WFC',\n",
    "    'PLTR',\n",
    "    'AMD',\n",
    "    'AVGO',\n",
    "    'HOOD',\n",
    "    'CRWV',\n",
    "    'MSTR',\n",
    "    'UNH',\n",
    "    'GOOG',\n",
    "    'APP',\n",
    "    'UBER'\n",
    "]\n",
    "\n",
    "#    'SPY',\n",
    "#    'META',\n",
    "#    'AAPL',\n",
    "#    'AMZN',\n",
    "#    'NFLX',\n",
    "#    'MRNA',\n",
    "#    'TSLA',\n",
    "#    'TNA',\n",
    "#    'GLD',\n",
    "#    'SLV',\n",
    "#    'USO',\n",
    "#    'BAC',\n",
    "#    'CVX',\n",
    "#    'XOM',\n",
    "#    'QQQ'"
   ]
  },
  {
   "cell_type": "code",
   "execution_count": 3,
   "id": "36d035ad-94d3-427b-9d99-5efff5449692",
   "metadata": {
    "execution": {
     "iopub.execute_input": "2025-06-11T19:53:22.606314Z",
     "iopub.status.busy": "2025-06-11T19:53:22.605897Z",
     "iopub.status.idle": "2025-06-11T19:53:22.956569Z",
     "shell.execute_reply": "2025-06-11T19:53:22.955955Z"
    },
    "papermill": {
     "duration": 0.356315,
     "end_time": "2025-06-11T19:53:22.957728",
     "exception": false,
     "start_time": "2025-06-11T19:53:22.601413",
     "status": "completed"
    },
    "tags": []
   },
   "outputs": [],
   "source": [
    "df_h['datetime'] = pd.to_datetime(df_h['datetime'])\n",
    "df = pd.DataFrame()\n",
    "for ticker in tickers:\n",
    "    company = df_h.query(\"companyName==@ticker\").copy()\n",
    "    company.sort_values(by=['datetime'])\n",
    "    #company = yf.download(ticker, start = ini2_str, end = today_str, interval='60m')\n",
    "    #company.columns = [company.columns[0][0], company.columns[1][0], company.columns[2][0], company.columns[3][0], company.columns[4][0]]\n",
    "    #company.rename(columns={'Datetime':'Gmt time'}, inplace = True)\n",
    "    #company['datetime'] = pd.to_datetime (company.index)\n",
    "    #company['companyName'] = ticker\n",
    "    company['SMA20'] = company['Close'].rolling(20).mean()\n",
    "    company.dropna(inplace=False)\n",
    "    company['SMA40'] = company['Close'].rolling(40).mean()\n",
    "    company.dropna(inplace=False)\n",
    "    company['SMA100'] = company['Close'].rolling(100).mean()\n",
    "    company.dropna(inplace=False)\n",
    "    company['SMA200'] = company['Close'].rolling(200).mean()\n",
    "    company.dropna(inplace=False)\n",
    "    df = pd.concat([df, company],ignore_index=True)"
   ]
  },
  {
   "cell_type": "markdown",
   "id": "ab939271-1e70-4ea6-bc39-df024b86f50e",
   "metadata": {
    "papermill": {
     "duration": 0.003983,
     "end_time": "2025-06-11T19:53:22.965992",
     "exception": false,
     "start_time": "2025-06-11T19:53:22.962009",
     "status": "completed"
    },
    "tags": []
   },
   "source": [
    "### Detect Pivots/Fractals"
   ]
  },
  {
   "cell_type": "code",
   "execution_count": 4,
   "id": "755f2f1c-3bb8-47b9-bf49-b89e7437100d",
   "metadata": {
    "execution": {
     "iopub.execute_input": "2025-06-11T19:53:22.974554Z",
     "iopub.status.busy": "2025-06-11T19:53:22.974328Z",
     "iopub.status.idle": "2025-06-11T19:53:23.009366Z",
     "shell.execute_reply": "2025-06-11T19:53:23.008907Z"
    },
    "papermill": {
     "duration": 0.040458,
     "end_time": "2025-06-11T19:53:23.010274",
     "exception": false,
     "start_time": "2025-06-11T19:53:22.969816",
     "status": "completed"
    },
    "tags": []
   },
   "outputs": [],
   "source": [
    "ord=15\n",
    "#for ticker in tickers:\n",
    "#print(\"====\", ticker)\n",
    "#dfpl = df[(df.companyName==ticker)] #df.query(\"companyName=='AAPL'\")\n",
    "max_idx = argrelextrema(df['Close'].values, np.greater, order=ord)[0]\n",
    "min_idx = argrelextrema(df['Close'].values, np.less, order=ord)[0]\n",
    "#print(max_idx)\n",
    "#print(min_idx)\n",
    "#df['pivotHigh'] = np.nan\n",
    "#df['pivotLow'] = np.nan\n",
    "#df['isPivot'] = np.nan\n",
    "#df['isPivot'] = np.nan\n",
    "# Aplicar el cálculo solo a los índices en la lista\n",
    "df.loc[max_idx, 'pivotHigh'] = df['High']+1e-3\n",
    "df.loc[min_idx, 'pivotLow'] = df['Low']-(1e-3)\n",
    "df.loc[max_idx, 'isPivot'] = 1\n",
    "df.loc[min_idx, 'isPivot'] = 2"
   ]
  },
  {
   "cell_type": "markdown",
   "id": "f44f04bb-ed9f-4732-9d38-7f8cb2869c36",
   "metadata": {
    "papermill": {
     "duration": 0.003876,
     "end_time": "2025-06-11T19:53:23.018088",
     "exception": false,
     "start_time": "2025-06-11T19:53:23.014212",
     "status": "completed"
    },
    "tags": []
   },
   "source": [
    "##### Canales alcista, cuando PM40 esta por encima o cerca del precio"
   ]
  },
  {
   "cell_type": "code",
   "execution_count": 5,
   "id": "b7d94196-30b6-4e27-b8a2-97263f24b34f",
   "metadata": {
    "execution": {
     "iopub.execute_input": "2025-06-11T19:53:23.026933Z",
     "iopub.status.busy": "2025-06-11T19:53:23.026489Z",
     "iopub.status.idle": "2025-06-11T19:53:24.696308Z",
     "shell.execute_reply": "2025-06-11T19:53:24.695726Z"
    },
    "papermill": {
     "duration": 1.675511,
     "end_time": "2025-06-11T19:53:24.697504",
     "exception": false,
     "start_time": "2025-06-11T19:53:23.021993",
     "status": "completed"
    },
    "tags": []
   },
   "outputs": [],
   "source": [
    "def rcb01(df):\n",
    "    if ((df['isPivot']==1) & ((df['SMA40']>df['Close']) | (df['SMA40']>df['Open']) | (df['SMA20']>df['SMA40']))):\n",
    "        return 1\n",
    "    else:\n",
    "        return 0\n",
    "df['rcb01_01'] = df.apply(rcb01, axis=1)"
   ]
  },
  {
   "cell_type": "markdown",
   "id": "1301febb-db5f-4a68-b162-9ae2e19ec678",
   "metadata": {
    "papermill": {
     "duration": 0.00392,
     "end_time": "2025-06-11T19:53:24.705738",
     "exception": false,
     "start_time": "2025-06-11T19:53:24.701818",
     "status": "completed"
    },
    "tags": []
   },
   "source": [
    "#### Detect Price Channel"
   ]
  },
  {
   "cell_type": "code",
   "execution_count": 6,
   "id": "1873740d-7344-4670-8cb0-9dea7df49305",
   "metadata": {
    "execution": {
     "iopub.execute_input": "2025-06-11T19:53:24.714957Z",
     "iopub.status.busy": "2025-06-11T19:53:24.714637Z",
     "iopub.status.idle": "2025-06-11T19:53:24.719116Z",
     "shell.execute_reply": "2025-06-11T19:53:24.718535Z"
    },
    "papermill": {
     "duration": 0.010302,
     "end_time": "2025-06-11T19:53:24.720029",
     "exception": false,
     "start_time": "2025-06-11T19:53:24.709727",
     "status": "completed"
    },
    "tags": []
   },
   "outputs": [],
   "source": [
    "def collect_channel(candle, backevalTrend, trendL):\n",
    "    #localdf = df[candle-backcandles-window:candle-window]\n",
    "    localdf = dfpl.loc[candle-backevalTrend:candle] #tomar en cuenta el backcandles\n",
    "    #localdf['isPivot'] = localdf.apply(lambda x: isPivot(x.name,window), axis=1)\n",
    "    \n",
    "    #highs = localdf.High.values\n",
    "    #idxhighs = localdf.High.index\n",
    "    #lows = localdf.Low.values\n",
    "    #idxlows = localdf.Low.index\n",
    "\n",
    "    #highs = localdf.loc[localdf.index.isin(trendH)].High.values\n",
    "    #idxhighs = localdf.loc[localdf.index.isin(trendH)].High.index\n",
    "    lows = localdf.loc[localdf.index.isin(trendL)].Low.values\n",
    "    idxlows = localdf.loc[localdf.index.isin(trendL)].Low.index\n",
    "\n",
    "    #highs = localdf.loc[localdf.index.isin([candle]) | (localdf['isPivot'] == 1)].High.values\n",
    "    #idxhighs = localdf.loc[localdf.index.isin([candle]) | (localdf['isPivot'] == 1)].High.index\n",
    "    #lows = localdf.loc[localdf.index.isin([candle]) | (localdf['isPivot'] == 2)].Low.values\n",
    "    #idxlows = localdf.loc[localdf.index.isin([candle]) | (localdf['isPivot'] == 2)].Low.index\n",
    "\n",
    "    #lows = localdf.loc[localdf.index.isin(trendL)].Low.values\n",
    "    #idxlows = localdf.loc[localdf.index.isin(trendL)].Low.index\n",
    "\n",
    "    #print(\"highs:\",highs)\n",
    "    #print(\"idxhighs:\",idxhighs)\n",
    "    #print(\"lows:\",lows)\n",
    "    #print(\"idxlows:\",idxlows)\n",
    "    #print (\"tamanio:\",localdf.shape[0])\n",
    "    \n",
    "    #if len(lows)>=2 and len(highs)>=2:\n",
    "    if len(lows)>=2:\n",
    "        sl_lows, interc_lows, r_value_l, _, _ = stats.linregress(idxlows,lows)\n",
    "        #sl_highs, interc_highs, r_value_h, _, _ = stats.linregress(idxhighs,highs)    \n",
    "        #return(sl_lows, interc_lows, sl_highs, interc_highs, r_value_l**2, r_value_h**2)\n",
    "        return(sl_lows, interc_lows, r_value_l**2)\n",
    "    else:\n",
    "        return(0,0,0)\n",
    "    "
   ]
  },
  {
   "cell_type": "code",
   "execution_count": 7,
   "id": "0ea43d11-bb56-4a09-8d54-0bfd0dfc987a",
   "metadata": {
    "execution": {
     "iopub.execute_input": "2025-06-11T19:53:24.729131Z",
     "iopub.status.busy": "2025-06-11T19:53:24.728954Z",
     "iopub.status.idle": "2025-06-11T19:53:24.735059Z",
     "shell.execute_reply": "2025-06-11T19:53:24.734582Z"
    },
    "papermill": {
     "duration": 0.011792,
     "end_time": "2025-06-11T19:53:24.735922",
     "exception": false,
     "start_time": "2025-06-11T19:53:24.724130",
     "status": "completed"
    },
    "tags": []
   },
   "outputs": [],
   "source": [
    "def backcandle(candle):\n",
    "    \n",
    "    trendH = []\n",
    "    backeval = 0\n",
    "    val = 0\n",
    "\n",
    "    #print(\"candle:\", candle)\n",
    "    dfpl['PM20_PM40'] = dfpl['SMA20']-dfpl['SMA40']\n",
    "    idinicial = dfpl.index[0]\n",
    "    velas = candle - idinicial\n",
    "\n",
    "    #print(\"idinicial:\", idinicial)\n",
    "    if (dfpl.loc[candle,\"PM20_PM40\"]>0):\n",
    "        idx_negativo = dfpl.loc[:candle, 'PM20_PM40'][::-1].lt(0).idxmax()\n",
    "        if (idx_negativo==candle):\n",
    "            backeval = candle - velas\n",
    "            \n",
    "        else:\n",
    "            backeval = idx_negativo - 4\n",
    "        \n",
    "    val = candle - backeval\n",
    "    \n",
    "    #print(\"backeval1:\",backeval)\n",
    "    \n",
    "    if val>velas:\n",
    "        backeval=candle-velas\n",
    "\n",
    "    #print(\"backeval2:\",backeval)\n",
    "    if ((dfpl.loc[backeval,\"PM20_PM40\"]>0) & (val<velas)):\n",
    "        idx_negativo = dfpl.loc[:backeval, 'PM20_PM40'][::-1].lt(0).idxmax()\n",
    "        backeval = idx_negativo - 4\n",
    "    #print(\"backeval3:\",backeval)\n",
    "\n",
    "    val = candle - backeval\n",
    "    if val>velas:\n",
    "        backeval=candle-velas\n",
    "        \n",
    "    #print(\"backeval4:\",backeval)\n",
    "    #ini = candle - backeval\n",
    "    ini = backeval\n",
    "    trendprev=dfpl.loc[ini:candle]\n",
    "    trend = trendprev.reset_index(drop=False)\n",
    "\n",
    "    idxlows = trend.index.to_numpy().reshape(-1,1) # Convertir X a una matriz 2D\n",
    "    lows = trend.Low.values\n",
    "    modelo1 = LinearRegression()\n",
    "    modelo1.fit(idxlows, lows)\n",
    "    # Obtener la predicción de la línea de regresión\n",
    "    Y_pred = modelo1.predict(idxlows)\n",
    "    # Calcular la distancia solo de los puntos que están POR ENCIMA de la línea\n",
    "    trend['Distancia'] = Y_pred - trend[\"Low\"]  # Diferencia entre el valor real y la predicción\n",
    "    # Filtrar los puntos que están por debajo (donde Y > Y_pred, es decir, Distancia > 0)\n",
    "    df_encima = trend[trend['Distancia'] > 0]\n",
    "    puntos_mas_lejanos = df_encima.nlargest(2, 'Distancia')   #2 puntos mas lejanos\n",
    "    trendL = puntos_mas_lejanos[\"index\"].tolist()\n",
    "    trendL.append(candle)   \n",
    "    \n",
    "    return trendL, backeval"
   ]
  },
  {
   "cell_type": "markdown",
   "id": "7746c605-eeaf-4691-b332-3c5afe45243a",
   "metadata": {
    "papermill": {
     "duration": 0.003908,
     "end_time": "2025-06-11T19:53:24.743859",
     "exception": false,
     "start_time": "2025-06-11T19:53:24.739951",
     "status": "completed"
    },
    "tags": []
   },
   "source": [
    "### Detect Break Out"
   ]
  },
  {
   "cell_type": "code",
   "execution_count": 8,
   "id": "9eb0e6d2-7707-4624-bee3-0465d77901ea",
   "metadata": {
    "execution": {
     "iopub.execute_input": "2025-06-11T19:53:24.752753Z",
     "iopub.status.busy": "2025-06-11T19:53:24.752573Z",
     "iopub.status.idle": "2025-06-11T19:53:24.756089Z",
     "shell.execute_reply": "2025-06-11T19:53:24.755610Z"
    },
    "papermill": {
     "duration": 0.008888,
     "end_time": "2025-06-11T19:53:24.756935",
     "exception": false,
     "start_time": "2025-06-11T19:53:24.748047",
     "status": "completed"
    },
    "tags": []
   },
   "outputs": [],
   "source": [
    "def trendChannel(row,candle, backeval, window, sl_highs, interc_lows):\n",
    "\n",
    "    if (candle-backeval-window)<0:\n",
    "        return np.nan\n",
    "\n",
    "    #print(\"=== DATOS ===\")\n",
    "    #print(\"candle:\",candle)\n",
    "    #print(\"backcandles:\",backcandles)\n",
    "    #print(\"window:\",window)\n",
    "    #trendprevlow = (sl_lows*row['id'].shift(1).fillna(0) + interc_lows)\n",
    "    #trendprevhigh = (sl_highs*row['id'].shift(1).fillna(0) + interc_highs)\n",
    "    ini=candle-backeval\n",
    "    fin=candle+window\n",
    "    #x = np.array(range(candle-backcandles-window, candle+window))\n",
    "    trendcurrlow = np.where(np.logical_or((row.index > fin),  (row.index <  ini)), np.nan, (sl_lows*row.index + interc_lows))\n",
    "    #trendcurrhigh = (sl_highs*row['id'] + interc_highs)\n",
    "    \n",
    "    #print(\"candle:\",candle,\",backeval\", backeval, \", ini:\", ini, \", fin:\", fin,   \", rowMin:\", row.index[0],\", rowMax:\", row.index[-1])\n",
    "    #trendcurrhigh = np.where(np.logical_or((row.index > fin),  (row.index <  ini)), np.nan, (sl_highs*row.index + interc_highs))\n",
    "    return trendcurrlow"
   ]
  },
  {
   "cell_type": "code",
   "execution_count": 9,
   "id": "8e480264-0fde-4a97-af4e-a86b58a4b611",
   "metadata": {
    "execution": {
     "iopub.execute_input": "2025-06-11T19:53:24.765734Z",
     "iopub.status.busy": "2025-06-11T19:53:24.765557Z",
     "iopub.status.idle": "2025-06-11T19:53:24.769985Z",
     "shell.execute_reply": "2025-06-11T19:53:24.769528Z"
    },
    "papermill": {
     "duration": 0.009784,
     "end_time": "2025-06-11T19:53:24.770790",
     "exception": false,
     "start_time": "2025-06-11T19:53:24.761006",
     "status": "completed"
    },
    "tags": []
   },
   "outputs": [],
   "source": [
    "def isBreakOut(candleEval,backcandles, window, start, candle):\n",
    "    if (candleEval-backcandles-window)<0:\n",
    "        return 0\n",
    "\n",
    "    if candleEval==start:\n",
    "        prev_idx = candleEval\n",
    "    else:\n",
    "        prev_idx = candleEval-1\n",
    "        \n",
    "    prev_high = dfpl.loc[prev_idx].High\n",
    "    prev_low = dfpl.loc[prev_idx].Low\n",
    "    prev_close = dfpl.loc[prev_idx].Close\n",
    "    \n",
    "    curr_idx = candleEval\n",
    "    curr_high = dfpl.loc[candleEval].High\n",
    "    curr_low = dfpl.loc[candleEval].Low\n",
    "    curr_close = dfpl.loc[candleEval].Close\n",
    "    curr_open = dfpl.loc[candleEval].Open\n",
    "\n",
    "    trend_prevlow=dfpl.loc[prev_idx].trendcurrlow\n",
    "    #trend_prevhigh=dfpl.loc[prev_idx].trendcurrhigh\n",
    "\n",
    "    trend_currlow=dfpl.loc[candleEval].trendcurrlow\n",
    "    #trend_currhigh=dfpl.loc[candleEval].trendcurrhigh\n",
    "\n",
    "    #codigo para tendencia LOW, nos importa breaks en tendencia HIGH\n",
    "    if ( prev_high > trend_prevlow and\n",
    "        prev_close < trend_prevlow and\n",
    "        curr_open < trend_currlow and\n",
    "        curr_close < trend_currlow and \n",
    "        candleEval>candle): #and r_sq_l > 0.9\n",
    "        return 1\n",
    "    \n",
    "   # #if ( prev_low < trend_prevhigh and\n",
    "   #     prev_close > trend_prevhigh and\n",
    "   #     curr_open > trend_currhigh and\n",
    "   #     curr_close > trend_currhigh and\n",
    "   #     candleEval>candle): #and r_sq_h > 0.9\n",
    "   #     return 2\n",
    "\n",
    "   # elif (curr_open > trend_currhigh and\n",
    "   #     curr_close > trend_currhigh and candleEval>candle):\n",
    "   #     return 3\n",
    "    \n",
    "    else:\n",
    "        return np.nan"
   ]
  },
  {
   "cell_type": "code",
   "execution_count": 10,
   "id": "04c0d310-0135-4029-83d4-834b5b402c7a",
   "metadata": {
    "execution": {
     "iopub.execute_input": "2025-06-11T19:53:24.779964Z",
     "iopub.status.busy": "2025-06-11T19:53:24.779459Z",
     "iopub.status.idle": "2025-06-11T19:53:24.782722Z",
     "shell.execute_reply": "2025-06-11T19:53:24.782158Z"
    },
    "papermill": {
     "duration": 0.00866,
     "end_time": "2025-06-11T19:53:24.783567",
     "exception": false,
     "start_time": "2025-06-11T19:53:24.774907",
     "status": "completed"
    },
    "tags": []
   },
   "outputs": [],
   "source": [
    "def breakpointpos(x):\n",
    "    if x['isBreakOutIni'] in (2,3):\n",
    "        return x['Low']+3e-3\n",
    "    elif x['isBreakOutIni']==1:\n",
    "        return x['High']-3e-3\n",
    "    else:\n",
    "        return np.nan"
   ]
  },
  {
   "cell_type": "markdown",
   "id": "78dfc3a9-1c1a-4615-88b4-fe7061f871b4",
   "metadata": {
    "papermill": {
     "duration": 0.00396,
     "end_time": "2025-06-11T19:53:24.791679",
     "exception": false,
     "start_time": "2025-06-11T19:53:24.787719",
     "status": "completed"
    },
    "tags": []
   },
   "source": [
    "###### Hallando casos de Ruptura del Canal Alcista"
   ]
  },
  {
   "cell_type": "code",
   "execution_count": 11,
   "id": "80471e6b-41e2-424d-962d-72757b94aaf4",
   "metadata": {
    "execution": {
     "iopub.execute_input": "2025-06-11T19:53:24.800699Z",
     "iopub.status.busy": "2025-06-11T19:53:24.800306Z",
     "iopub.status.idle": "2025-06-11T19:53:24.810943Z",
     "shell.execute_reply": "2025-06-11T19:53:24.810464Z"
    },
    "papermill": {
     "duration": 0.016135,
     "end_time": "2025-06-11T19:53:24.811825",
     "exception": false,
     "start_time": "2025-06-11T19:53:24.795690",
     "status": "completed"
    },
    "tags": []
   },
   "outputs": [],
   "source": [
    "def revisionVelas(dfpl, backeval,window, candle):\n",
    "    #Revision de Velas\n",
    "    #Promedio del volumen de 50 velas antes del posible caso\n",
    "    promVol = dfpl.loc[i-backeval:i][\"Volume\"].mean()\n",
    "    #puede darse cualquiera de estas condiciones: \n",
    "    # - que la vela sea verde, que tenga volumen, este por encima de la linea trend y que tenga cuerpo (cierra por encima de su tercera parte)\n",
    "    # - que la vela sea envolvente, alcista y que este por encima de la linea trend\n",
    "    j=candle+1\n",
    "    k=candle+window\n",
    "    ind_vela=0\n",
    "    \n",
    "    #k no puede pasrse del rango\n",
    "    maxindex = dfpl.index[-1]\n",
    "    if (k>maxindex):\n",
    "        k=maxindex\n",
    "    \n",
    "    #print(\"candle:\",candle)\n",
    "    #print(\"window:\",window)\n",
    "    #print(\"j:\",j, \",k:\",k)\n",
    "    \n",
    "    #Evaluacion de velas ALCISTAS\n",
    "    dfpl[\"cdlengulfing\"] = ta.CDLENGULFING(dfpl['Open'], dfpl['High'], dfpl['Low'], dfpl['Close'])\n",
    "    dfpl[\"cdlhammer\"] = ta.CDLHAMMER(dfpl['Open'], dfpl['High'], dfpl['Low'], dfpl['Close'])\n",
    "    dfpl[\"cdlmorningstar\"] = ta.CDLMORNINGSTAR(dfpl['Open'], dfpl['High'], dfpl['Low'], dfpl['Close'])\n",
    "    dfpl[\"cdlpiercing\"] = ta.CDLPIERCING(dfpl['Open'], dfpl['High'], dfpl['Low'], dfpl['Close'])\n",
    "    dfpl[\"cdlclosingmarubozu\"] = ta.CDLCLOSINGMARUBOZU(dfpl['Open'], dfpl['High'], dfpl['Low'], dfpl['Close'])\n",
    "    dfpl[\"cdlmarubozu\"] = ta.CDLMARUBOZU(dfpl['Open'], dfpl['High'], dfpl['Low'], dfpl['Close'])\n",
    "    dfpl[\"cdl3whitesoldiers\"] = ta.CDL3WHITESOLDIERS(dfpl['Open'], dfpl['High'], dfpl['Low'], dfpl['Close'])\n",
    "    dfpl[\"cdlharami\"] = ta.CDLHARAMI(dfpl['Open'], dfpl['High'], dfpl['Low'], dfpl['Close'])\n",
    "    dfpl[\"cdlharamicross\"] = ta.CDLHARAMICROSS(dfpl['Open'], dfpl['High'], dfpl['Low'], dfpl['Close'])\n",
    "    dfpl[\"cdlinvertdhammer\"] = ta.CDLINVERTEDHAMMER(dfpl['Open'], dfpl['High'], dfpl['Low'], dfpl['Close'])\n",
    "    dfpl[\"cdlladderbottom\"] = ta.CDLLADDERBOTTOM(dfpl['Open'], dfpl['High'], dfpl['Low'], dfpl['Close'])\n",
    "\n",
    "    dfpl['Vela_Roja'] = dfpl['Close'] < dfpl['Open']\n",
    "    # Calcular el nivel de la tercera parte\n",
    "    #dfpl['Third_Level'] = dfpl['Low'] + (dfpl['High'] - dfpl['Low']) / 3\n",
    "    dfpl['Third_Level'] = dfpl['Open'] + (dfpl['High'] - dfpl['Low']) / 3\n",
    "    # Verificar si la vela cierra por encima de su tercera parte, vela con cuerpo\n",
    "    dfpl['Above_Third'] = dfpl['Close'] > dfpl['Third_Level']\n",
    "\n",
    "    while j<=k:            \n",
    "        \n",
    "        vol = dfpl.loc[j,\"Volume\"]\n",
    "        above_Third = dfpl.loc[j,\"Above_Third\"]\n",
    "        vela_Roja = dfpl.loc[j,\"Vela_Roja\"]\n",
    "        lineTrend = dfpl.loc[j,'trendcurrlow']\n",
    "        high = dfpl.loc[j,'High']\n",
    "        close = dfpl.loc[j,'Close']\n",
    "\n",
    "        cdlengulfing = dfpl.loc[j,\"cdlengulfing\"]\n",
    "        cdlhammer = dfpl.loc[j,\"cdlhammer\"]\n",
    "        cdlmorningstar = dfpl.loc[j,\"cdlmorningstar\"]\n",
    "        cdlpiercing = dfpl.loc[j,\"cdlpiercing\"]\n",
    "        cdlclosingmarubozu = dfpl.loc[j,\"cdlclosingmarubozu\"]\n",
    "        cdlmarubozu = dfpl.loc[j,\"cdlmarubozu\"]\n",
    "        cdl3whitesoldiers = dfpl.loc[j,\"cdl3whitesoldiers\"]\n",
    "        cdlharami = dfpl.loc[j,\"cdlharami\"]\n",
    "        cdlharamicross = dfpl.loc[j,\"cdlharamicross\"]\n",
    "        cdlinvertdhammer = dfpl.loc[j,\"cdlinvertdhammer\"]\n",
    "        cdlladderbottom = dfpl.loc[j,\"cdlladderbottom\"]\n",
    "\n",
    "        #vela consecutiva alcista\n",
    "        candle_up = (#dfpl.loc[j,\"Vela_Verde\"]==True \n",
    "                     #and dfpl.loc[j-1,\"Vela_Verde\"]==True \n",
    "                     dfpl.loc[j,\"High\"]> dfpl.loc[j-1,\"High\"]\n",
    "                     and dfpl.loc[j-1,\"High\"]> dfpl.loc[j,\"Low\"]\n",
    "                     and dfpl.loc[j,\"Low\"]> dfpl.loc[j-2,\"High\"]\n",
    "                     and dfpl.loc[j-2,\"High\"]> dfpl.loc[j-1,\"Low\"]\n",
    "                     and dfpl.loc[j-1,\"Low\"]> dfpl.loc[j-3,\"High\"]\n",
    "                     and dfpl.loc[j-3,\"High\"]> dfpl.loc[j-2,\"Low\"]\n",
    "                     and dfpl.loc[j-2,\"Low\"]> dfpl.loc[j-3,\"Low\"]\n",
    "                     #and dfpl.loc[j,\"Close\"]> dfpl.loc[j-1,\"High\"] \n",
    "                     #and dfpl.loc[j-1,\"Close\"]>dfpl.loc[j-2,\"High\"]\n",
    "                     #and dfpl.loc[j-1,\"Close\"]>dfpl.loc[j-3,\"High\"] \n",
    "                    )\n",
    "\n",
    "        if (candle_up==True and close>lineTrend):\n",
    "            ind_vela=ind_vela+1\n",
    "        #vela sea verde, que tenga volumen, que tenga cuerpo y que este por encima de la linea trend\n",
    "        #if (vela_Verde==True and promVol<=vol and above_Third==True and close>=lineTrend):\n",
    "        #    ind_vela=ind_vela+1\n",
    "        \n",
    "        #vela sea envolvente, alcista y que este por encima de la linea trend\n",
    "        #if (\n",
    "        #    (cdlhammer>0 or\n",
    "        #     cdlmorningstar>0 or\n",
    "        #     cdlpiercing>0 or\n",
    "        #     cdl3whitesoldiers>0 or\n",
    "        #     cdlharami>0 or\n",
    "        #     cdlharamicross>0 or\n",
    "        #     cdlinvertdhammer>0 or\n",
    "        #     cdlladderbottom>0\n",
    "        #    )\n",
    "        #    and promVol<=vol\n",
    "        #    and close>=lineTrend):\n",
    "        #    ind_vela=ind_vela+1\n",
    "\n",
    "        #vela sea envolvente, alcista y que este por encima de la linea trend\n",
    "        #if (\n",
    "        #    (cdlclosingmarubozu>0 or\n",
    "        #     cdlmarubozu>0 or\n",
    "        #     cdlengulfing>0 or\n",
    "        #     cdlhammer>0\n",
    "        #    )\n",
    "        #    #and promVol<=vol\n",
    "        #    and close>=lineTrend):\n",
    "        #    ind_vela=ind_vela+1 \n",
    "            \n",
    "        j=j+1\n",
    "    \n",
    "    return 1 #1 para mostrar todo ind_vela para que funcione el filtro"
   ]
  },
  {
   "cell_type": "code",
   "execution_count": 12,
   "id": "d994f943-5fc5-43c7-9604-84976d99a911",
   "metadata": {
    "execution": {
     "iopub.execute_input": "2025-06-11T19:53:24.820842Z",
     "iopub.status.busy": "2025-06-11T19:53:24.820672Z",
     "iopub.status.idle": "2025-06-11T19:56:45.507219Z",
     "shell.execute_reply": "2025-06-11T19:56:45.506592Z"
    },
    "papermill": {
     "duration": 200.692076,
     "end_time": "2025-06-11T19:56:45.508124",
     "exception": false,
     "start_time": "2025-06-11T19:53:24.816048",
     "status": "completed"
    },
    "tags": []
   },
   "outputs": [
    {
     "name": "stdout",
     "output_type": "stream",
     "text": [
      "===posible caso: 88 SPY\n",
      "===posible caso: 164 SPY\n"
     ]
    },
    {
     "name": "stdout",
     "output_type": "stream",
     "text": [
      "h1\n",
      "164 SPY\n",
      "===posible caso: 208 SPY\n",
      "h1\n",
      "208 SPY\n",
      "===posible caso: 226 SPY\n"
     ]
    },
    {
     "name": "stdout",
     "output_type": "stream",
     "text": [
      "h2\n",
      "h4\n",
      "h1\n",
      "226 SPY\n",
      "===posible caso: 250 SPY\n",
      "===posible caso: 276 SPY\n",
      "===posible caso: 296 SPY\n",
      "===posible caso: 388 SPY\n"
     ]
    },
    {
     "name": "stdout",
     "output_type": "stream",
     "text": [
      "h1\n",
      "388 SPY\n",
      "===posible caso: 450 SPY\n",
      "===posible caso: 586 SPY\n"
     ]
    },
    {
     "name": "stdout",
     "output_type": "stream",
     "text": [
      "h1\n",
      "586 SPY\n",
      "===posible caso: 753 SPY\n",
      "===posible caso: 830 SPY\n"
     ]
    },
    {
     "name": "stdout",
     "output_type": "stream",
     "text": [
      "===posible caso: 890 SPY\n",
      "===posible caso: 919 SPY\n"
     ]
    },
    {
     "name": "stdout",
     "output_type": "stream",
     "text": [
      "h1\n",
      "919 SPY\n",
      "===posible caso: 955 SPY\n",
      "h1\n",
      "955 SPY\n",
      "===posible caso: 1025 SPY\n"
     ]
    },
    {
     "name": "stdout",
     "output_type": "stream",
     "text": [
      "===posible caso: 1103 SPY\n",
      "h1\n",
      "1103 SPY\n",
      "===posible caso: 1163 SPY\n"
     ]
    },
    {
     "name": "stdout",
     "output_type": "stream",
     "text": [
      "h1\n",
      "1163 SPY\n",
      "===posible caso: 1193 SPY\n",
      "===posible caso: 1217 SPY\n",
      "===posible caso: 1264 SPY\n",
      "h1\n",
      "1264 SPY\n",
      "===posible caso: 1287 SPY\n"
     ]
    },
    {
     "name": "stdout",
     "output_type": "stream",
     "text": [
      "h1\n",
      "1287 SPY\n",
      "===posible caso: 1311 SPY\n",
      "===posible caso: 1352 SPY\n",
      "===posible caso: 1535 SPY\n"
     ]
    },
    {
     "name": "stdout",
     "output_type": "stream",
     "text": [
      "h1\n",
      "1535 SPY\n",
      "===posible caso: 1638 SPY\n",
      "h1\n",
      "1638 SPY\n",
      "===posible caso: 1749 SPY\n"
     ]
    },
    {
     "name": "stdout",
     "output_type": "stream",
     "text": [
      "h1\n",
      "1749 SPY\n",
      "===posible caso: 1784 SPY\n",
      "===posible caso: 1826 SPY\n",
      "===posible caso: 1905 SPY\n"
     ]
    },
    {
     "name": "stdout",
     "output_type": "stream",
     "text": [
      "===posible caso: 1935 SPY\n",
      "===posible caso: 1958 SPY\n",
      "===posible caso: 2095 SPY\n"
     ]
    },
    {
     "name": "stdout",
     "output_type": "stream",
     "text": [
      "===posible caso: 2225 SPY\n",
      "h1\n",
      "2225 SPY\n",
      "===posible caso: 2276 SPY\n"
     ]
    },
    {
     "name": "stdout",
     "output_type": "stream",
     "text": [
      "===posible caso: 2345 SPY\n",
      "h1\n",
      "2345 SPY\n",
      "===posible caso: 2372 SPY\n"
     ]
    },
    {
     "name": "stdout",
     "output_type": "stream",
     "text": [
      "h1\n",
      "2372 SPY\n",
      "===posible caso: 2403 SPY\n",
      "===posible caso: 2425 SPY\n",
      "===posible caso: 2477 SPY\n"
     ]
    },
    {
     "name": "stdout",
     "output_type": "stream",
     "text": [
      "h1\n",
      "2477 SPY\n",
      "===posible caso: 2602 SPY\n",
      "h1\n",
      "2602 SPY\n",
      "===posible caso: 2647 SPY\n"
     ]
    },
    {
     "name": "stdout",
     "output_type": "stream",
     "text": [
      "===posible caso: 2694 SPY\n",
      "===posible caso: 2816 SPY\n",
      "h1\n",
      "2816 SPY\n",
      "===posible caso: 2852 SPY\n",
      "===posible caso: 2884 SPY\n",
      "===posible caso: 2940 SPY\n"
     ]
    },
    {
     "name": "stdout",
     "output_type": "stream",
     "text": [
      "===posible caso: 3065 SPY\n",
      "===posible caso: 3102 SPY\n",
      "===posible caso: 3296 SPY\n"
     ]
    },
    {
     "name": "stdout",
     "output_type": "stream",
     "text": [
      "===posible caso: 3371 SPY\n",
      "h1\n",
      "3371 SPY\n",
      "===posible caso: 3536 SPY\n"
     ]
    },
    {
     "name": "stdout",
     "output_type": "stream",
     "text": [
      "h3\n",
      "h4\n",
      "h3\n",
      "h4\n",
      "h3\n",
      "h4\n",
      "h3\n",
      "h4\n",
      "3536 SPY\n",
      "===posible caso: 3609 META\n",
      "===posible caso: 3636 META\n"
     ]
    },
    {
     "name": "stdout",
     "output_type": "stream",
     "text": [
      "===posible caso: 3681 META\n",
      "===posible caso: 3707 META\n"
     ]
    },
    {
     "name": "stdout",
     "output_type": "stream",
     "text": [
      "===posible caso: 3761 META\n",
      "===posible caso: 3803 META\n"
     ]
    },
    {
     "name": "stdout",
     "output_type": "stream",
     "text": [
      "h1\n",
      "3803 META\n",
      "===posible caso: 3838 META\n",
      "===posible caso: 3923 META\n",
      "===posible caso: 3970 META\n",
      "h1\n",
      "3970 META\n",
      "===posible caso: 3992 META\n"
     ]
    },
    {
     "name": "stdout",
     "output_type": "stream",
     "text": [
      "h1\n",
      "3992 META\n",
      "===posible caso: 4063 META\n",
      "===posible caso: 4128 META\n",
      "h1\n",
      "4128 META\n",
      "===posible caso: 4153 META\n"
     ]
    },
    {
     "name": "stdout",
     "output_type": "stream",
     "text": [
      "h1\n",
      "4153 META\n",
      "===posible caso: 4182 META\n",
      "===posible caso: 4292 META\n",
      "===posible caso: 4332 META\n"
     ]
    },
    {
     "name": "stdout",
     "output_type": "stream",
     "text": [
      "===posible caso: 4496 META\n",
      "h1\n",
      "4496 META\n",
      "===posible caso: 4564 META\n"
     ]
    },
    {
     "name": "stdout",
     "output_type": "stream",
     "text": [
      "===posible caso: 4640 META\n",
      "===posible caso: 4663 META\n"
     ]
    },
    {
     "name": "stdout",
     "output_type": "stream",
     "text": [
      "h1\n",
      "4663 META\n",
      "===posible caso: 4704 META\n",
      "h1\n",
      "4704 META\n",
      "===posible caso: 4727 META\n",
      "===posible caso: 4803 META\n"
     ]
    },
    {
     "name": "stdout",
     "output_type": "stream",
     "text": [
      "h1\n",
      "4803 META\n",
      "===posible caso: 4829 META\n",
      "h1\n",
      "4829 META\n",
      "===posible caso: 4894 META\n",
      "===posible caso: 4964 META\n"
     ]
    },
    {
     "name": "stdout",
     "output_type": "stream",
     "text": [
      "===posible caso: 5026 META\n",
      "h1\n",
      "5026 META\n",
      "===posible caso: 5143 META\n"
     ]
    },
    {
     "name": "stdout",
     "output_type": "stream",
     "text": [
      "===posible caso: 5220 META\n",
      "h1\n",
      "5220 META\n",
      "===posible caso: 5263 META\n",
      "===posible caso: 5294 META\n"
     ]
    },
    {
     "name": "stdout",
     "output_type": "stream",
     "text": [
      "h1\n",
      "5294 META\n",
      "===posible caso: 5316 META\n",
      "h1\n",
      "5316 META\n",
      "===posible caso: 5361 META\n",
      "===posible caso: 5398 META\n",
      "===posible caso: 5417 META\n"
     ]
    },
    {
     "name": "stdout",
     "output_type": "stream",
     "text": [
      "h1\n",
      "5417 META\n",
      "===posible caso: 5477 META\n",
      "===posible caso: 5525 META\n",
      "===posible caso: 5597 META\n",
      "h1\n",
      "5597 META\n",
      "===posible caso: 5667 META\n"
     ]
    },
    {
     "name": "stdout",
     "output_type": "stream",
     "text": [
      "h1\n",
      "5667 META\n",
      "===posible caso: 5795 META\n",
      "h2\n",
      "h4\n",
      "h2\n",
      "h4\n",
      "h1\n",
      "5795 META\n",
      "===posible caso: 5847 META\n"
     ]
    },
    {
     "name": "stdout",
     "output_type": "stream",
     "text": [
      "===posible caso: 5968 META\n",
      "===posible caso: 6013 META\n",
      "===posible caso: 6147 META\n"
     ]
    },
    {
     "name": "stdout",
     "output_type": "stream",
     "text": [
      "h1\n",
      "6147 META\n",
      "===posible caso: 6167 META\n",
      "===posible caso: 6229 META\n",
      "===posible caso: 6279 META\n"
     ]
    },
    {
     "name": "stdout",
     "output_type": "stream",
     "text": [
      "===posible caso: 6297 META\n",
      "===posible caso: 6385 META\n"
     ]
    },
    {
     "name": "stdout",
     "output_type": "stream",
     "text": [
      "===posible caso: 6430 META\n",
      "h1\n",
      "6430 META\n",
      "===posible caso: 6467 META\n"
     ]
    },
    {
     "name": "stdout",
     "output_type": "stream",
     "text": [
      "h1\n",
      "6467 META\n",
      "===posible caso: 6513 META\n",
      "===posible caso: 6645 META\n"
     ]
    },
    {
     "name": "stdout",
     "output_type": "stream",
     "text": [
      "===posible caso: 6689 META\n",
      "===posible caso: 6837 META\n"
     ]
    },
    {
     "name": "stdout",
     "output_type": "stream",
     "text": [
      "h1\n",
      "6837 META\n",
      "===posible caso: 6883 META\n",
      "===posible caso: 6925 META\n"
     ]
    },
    {
     "name": "stdout",
     "output_type": "stream",
     "text": [
      "===posible caso: 7003 META\n",
      "h1\n",
      "7003 META\n",
      "===posible caso: 7024 META\n"
     ]
    },
    {
     "name": "stdout",
     "output_type": "stream",
     "text": [
      "h1\n",
      "7024 META\n",
      "===posible caso: 7071 META\n",
      "===posible caso: 7169 AAPL\n"
     ]
    },
    {
     "name": "stdout",
     "output_type": "stream",
     "text": [
      "h1\n",
      "7169 AAPL\n",
      "===posible caso: 7190 AAPL\n",
      "h1\n",
      "7190 AAPL\n",
      "===posible caso: 7248 AAPL\n"
     ]
    },
    {
     "name": "stdout",
     "output_type": "stream",
     "text": [
      "h1\n",
      "7248 AAPL\n",
      "===posible caso: 7305 AAPL\n",
      "===posible caso: 7355 AAPL\n"
     ]
    },
    {
     "name": "stdout",
     "output_type": "stream",
     "text": [
      "h1\n",
      "7355 AAPL\n",
      "===posible caso: 7423 AAPL\n",
      "===posible caso: 7478 AAPL\n",
      "h1\n",
      "7478 AAPL\n",
      "===posible caso: 7548 AAPL\n",
      "===posible caso: 7574 AAPL\n"
     ]
    },
    {
     "name": "stdout",
     "output_type": "stream",
     "text": [
      "h1\n",
      "7574 AAPL\n",
      "===posible caso: 7665 AAPL\n",
      "h1\n",
      "7665 AAPL\n",
      "===posible caso: 7724 AAPL\n",
      "===posible caso: 7869 AAPL\n"
     ]
    },
    {
     "name": "stdout",
     "output_type": "stream",
     "text": [
      "h1\n",
      "7869 AAPL\n",
      "===posible caso: 7944 AAPL\n",
      "===posible caso: 7967 AAPL\n"
     ]
    },
    {
     "name": "stdout",
     "output_type": "stream",
     "text": [
      "===posible caso: 8030 AAPL\n",
      "===posible caso: 8092 AAPL\n",
      "===posible caso: 8149 AAPL\n"
     ]
    },
    {
     "name": "stdout",
     "output_type": "stream",
     "text": [
      "===posible caso: 8219 AAPL\n",
      "===posible caso: 8385 AAPL\n",
      "===posible caso: 8428 AAPL\n",
      "===posible caso: 8534 AAPL\n",
      "===posible caso: 8614 AAPL\n"
     ]
    },
    {
     "name": "stdout",
     "output_type": "stream",
     "text": [
      "h1\n",
      "8614 AAPL\n",
      "===posible caso: 8643 AAPL\n",
      "===posible caso: 8730 AAPL\n"
     ]
    },
    {
     "name": "stdout",
     "output_type": "stream",
     "text": [
      "h1\n",
      "8730 AAPL\n",
      "===posible caso: 8832 AAPL\n",
      "h1\n",
      "8832 AAPL\n",
      "===posible caso: 8853 AAPL\n"
     ]
    },
    {
     "name": "stdout",
     "output_type": "stream",
     "text": [
      "h1\n",
      "8853 AAPL\n",
      "===posible caso: 8972 AAPL\n",
      "===posible caso: 9072 AAPL\n"
     ]
    },
    {
     "name": "stdout",
     "output_type": "stream",
     "text": [
      "h1\n",
      "9072 AAPL\n",
      "===posible caso: 9275 AAPL\n",
      "===posible caso: 9312 AAPL\n",
      "===posible caso: 9355 AAPL\n",
      "===posible caso: 9402 AAPL\n",
      "===posible caso: 9426 AAPL\n"
     ]
    },
    {
     "name": "stdout",
     "output_type": "stream",
     "text": [
      "===posible caso: 9460 AAPL\n",
      "===posible caso: 9551 AAPL\n",
      "===posible caso: 9603 AAPL\n"
     ]
    },
    {
     "name": "stdout",
     "output_type": "stream",
     "text": [
      "h1\n",
      "9603 AAPL\n",
      "===posible caso: 9703 AAPL\n",
      "h1\n",
      "9703 AAPL\n",
      "===posible caso: 9773 AAPL\n"
     ]
    },
    {
     "name": "stdout",
     "output_type": "stream",
     "text": [
      "===posible caso: 9811 AAPL\n",
      "===posible caso: 9852 AAPL\n",
      "===posible caso: 9929 AAPL\n",
      "===posible caso: 10043 AAPL\n"
     ]
    },
    {
     "name": "stdout",
     "output_type": "stream",
     "text": [
      "h1\n",
      "10043 AAPL\n",
      "===posible caso: 10071 AAPL\n",
      "===posible caso: 10153 AAPL\n",
      "===posible caso: 10200 AAPL\n"
     ]
    },
    {
     "name": "stdout",
     "output_type": "stream",
     "text": [
      "h1\n",
      "10200 AAPL\n",
      "===posible caso: 10283 AAPL\n",
      "===posible caso: 10368 AAPL\n"
     ]
    },
    {
     "name": "stdout",
     "output_type": "stream",
     "text": [
      "===posible caso: 10426 AAPL\n",
      "h1\n",
      "10426 AAPL\n",
      "===posible caso: 10529 AAPL\n"
     ]
    },
    {
     "name": "stdout",
     "output_type": "stream",
     "text": [
      "===posible caso: 10672 AMZN\n",
      "h1\n",
      "10672 AMZN\n",
      "===posible caso: 10727 AMZN\n"
     ]
    },
    {
     "name": "stdout",
     "output_type": "stream",
     "text": [
      "===posible caso: 10760 AMZN\n",
      "===posible caso: 10785 AMZN\n",
      "===posible caso: 10842 AMZN\n"
     ]
    },
    {
     "name": "stdout",
     "output_type": "stream",
     "text": [
      "===posible caso: 11004 AMZN\n",
      "h1\n",
      "11004 AMZN\n",
      "===posible caso: 11064 AMZN\n"
     ]
    },
    {
     "name": "stdout",
     "output_type": "stream",
     "text": [
      "===posible caso: 11111 AMZN\n",
      "===posible caso: 11202 AMZN\n",
      "h1\n",
      "11202 AMZN\n",
      "===posible caso: 11219 AMZN\n"
     ]
    },
    {
     "name": "stdout",
     "output_type": "stream",
     "text": [
      "===posible caso: 11330 AMZN\n",
      "===posible caso: 11361 AMZN\n"
     ]
    },
    {
     "name": "stdout",
     "output_type": "stream",
     "text": [
      "===posible caso: 11416 AMZN\n",
      "===posible caso: 11455 AMZN\n"
     ]
    },
    {
     "name": "stdout",
     "output_type": "stream",
     "text": [
      "===posible caso: 11481 AMZN\n",
      "===posible caso: 11532 AMZN\n"
     ]
    },
    {
     "name": "stdout",
     "output_type": "stream",
     "text": [
      "===posible caso: 11634 AMZN\n",
      "===posible caso: 11713 AMZN\n"
     ]
    },
    {
     "name": "stdout",
     "output_type": "stream",
     "text": [
      "h1\n",
      "11713 AMZN\n",
      "===posible caso: 11737 AMZN\n",
      "===posible caso: 11774 AMZN\n",
      "===posible caso: 11840 AMZN\n"
     ]
    },
    {
     "name": "stdout",
     "output_type": "stream",
     "text": [
      "h1\n",
      "11840 AMZN\n",
      "===posible caso: 11875 AMZN\n",
      "h1\n",
      "11875 AMZN\n",
      "===posible caso: 11935 AMZN\n",
      "===posible caso: 11980 AMZN\n"
     ]
    },
    {
     "name": "stdout",
     "output_type": "stream",
     "text": [
      "===posible caso: 12002 AMZN\n",
      "===posible caso: 12043 AMZN\n"
     ]
    },
    {
     "name": "stdout",
     "output_type": "stream",
     "text": [
      "===posible caso: 12069 AMZN\n",
      "===posible caso: 12207 AMZN\n"
     ]
    },
    {
     "name": "stdout",
     "output_type": "stream",
     "text": [
      "h1\n",
      "12207 AMZN\n",
      "===posible caso: 12295 AMZN\n",
      "===posible caso: 12366 AMZN\n",
      "===posible caso: 12438 AMZN\n"
     ]
    },
    {
     "name": "stdout",
     "output_type": "stream",
     "text": [
      "h1\n",
      "12438 AMZN\n",
      "===posible caso: 12468 AMZN\n",
      "h1\n",
      "12468 AMZN\n",
      "===posible caso: 12484 AMZN\n"
     ]
    },
    {
     "name": "stdout",
     "output_type": "stream",
     "text": [
      "===posible caso: 12599 AMZN\n",
      "===posible caso: 12697 AMZN\n",
      "h1\n",
      "12697 AMZN\n",
      "===posible caso: 12767 AMZN\n"
     ]
    },
    {
     "name": "stdout",
     "output_type": "stream",
     "text": [
      "===posible caso: 12864 AMZN\n",
      "h1\n",
      "12864 AMZN\n",
      "===posible caso: 12949 AMZN\n",
      "===posible caso: 13002 AMZN\n"
     ]
    },
    {
     "name": "stdout",
     "output_type": "stream",
     "text": [
      "===posible caso: 13019 AMZN\n",
      "===posible caso: 13055 AMZN\n"
     ]
    },
    {
     "name": "stdout",
     "output_type": "stream",
     "text": [
      "===posible caso: 13083 AMZN\n",
      "===posible caso: 13116 AMZN\n"
     ]
    },
    {
     "name": "stdout",
     "output_type": "stream",
     "text": [
      "h1\n",
      "13116 AMZN\n",
      "===posible caso: 13144 AMZN\n",
      "===posible caso: 13241 AMZN\n"
     ]
    },
    {
     "name": "stdout",
     "output_type": "stream",
     "text": [
      "===posible caso: 13266 AMZN\n",
      "===posible caso: 13447 AMZN\n"
     ]
    },
    {
     "name": "stdout",
     "output_type": "stream",
     "text": [
      "===posible caso: 13481 AMZN\n",
      "===posible caso: 13587 AMZN\n"
     ]
    },
    {
     "name": "stdout",
     "output_type": "stream",
     "text": [
      "===posible caso: 13625 AMZN\n",
      "===posible caso: 13657 AMZN\n",
      "===posible caso: 13724 AMZN\n"
     ]
    },
    {
     "name": "stdout",
     "output_type": "stream",
     "text": [
      "===posible caso: 13877 AMZN\n",
      "h1\n",
      "13877 AMZN\n",
      "===posible caso: 13956 AMZN\n"
     ]
    },
    {
     "name": "stdout",
     "output_type": "stream",
     "text": [
      "h1\n",
      "13956 AMZN\n",
      "===posible caso: 13987 AMZN\n",
      "===posible caso: 14033 AMZN\n",
      "===posible caso: 14054 AMZN\n"
     ]
    },
    {
     "name": "stdout",
     "output_type": "stream",
     "text": [
      "===posible caso: 14119 AMZN\n",
      "===posible caso: 14252 NFLX\n"
     ]
    },
    {
     "name": "stdout",
     "output_type": "stream",
     "text": [
      "===posible caso: 14322 NFLX\n",
      "h1\n",
      "14322 NFLX\n",
      "===posible caso: 14349 NFLX\n",
      "===posible caso: 14381 NFLX\n"
     ]
    },
    {
     "name": "stdout",
     "output_type": "stream",
     "text": [
      "h1\n",
      "14381 NFLX\n",
      "===posible caso: 14552 NFLX\n",
      "h1\n",
      "14552 NFLX\n",
      "===posible caso: 14652 NFLX\n",
      "===posible caso: 14724 NFLX\n",
      "===posible caso: 14756 NFLX\n"
     ]
    },
    {
     "name": "stdout",
     "output_type": "stream",
     "text": [
      "h1\n",
      "14756 NFLX\n",
      "===posible caso: 14800 NFLX\n",
      "===posible caso: 14940 NFLX\n"
     ]
    },
    {
     "name": "stdout",
     "output_type": "stream",
     "text": [
      "h1\n",
      "14940 NFLX\n",
      "===posible caso: 14967 NFLX\n",
      "h1\n",
      "14967 NFLX\n",
      "===posible caso: 15072 NFLX\n"
     ]
    },
    {
     "name": "stdout",
     "output_type": "stream",
     "text": [
      "h1\n",
      "15072 NFLX\n",
      "===posible caso: 15101 NFLX\n",
      "===posible caso: 15175 NFLX\n"
     ]
    },
    {
     "name": "stdout",
     "output_type": "stream",
     "text": [
      "===posible caso: 15239 NFLX\n",
      "===posible caso: 15294 NFLX\n"
     ]
    },
    {
     "name": "stdout",
     "output_type": "stream",
     "text": [
      "h1\n",
      "15294 NFLX\n",
      "===posible caso: 15341 NFLX\n",
      "===posible caso: 15389 NFLX\n"
     ]
    },
    {
     "name": "stdout",
     "output_type": "stream",
     "text": [
      "h1\n",
      "15389 NFLX\n",
      "===posible caso: 15412 NFLX\n",
      "h1\n",
      "15412 NFLX\n",
      "===posible caso: 15458 NFLX\n",
      "===posible caso: 15483 NFLX\n"
     ]
    },
    {
     "name": "stdout",
     "output_type": "stream",
     "text": [
      "===posible caso: 15528 NFLX\n",
      "h1\n",
      "15528 NFLX\n",
      "===posible caso: 15569 NFLX\n",
      "===posible caso: 15662 NFLX\n"
     ]
    },
    {
     "name": "stdout",
     "output_type": "stream",
     "text": [
      "h1\n",
      "15662 NFLX\n",
      "===posible caso: 15736 NFLX\n",
      "===posible caso: 15803 NFLX\n"
     ]
    },
    {
     "name": "stdout",
     "output_type": "stream",
     "text": [
      "===posible caso: 15834 NFLX\n",
      "===posible caso: 15950 NFLX\n"
     ]
    },
    {
     "name": "stdout",
     "output_type": "stream",
     "text": [
      "===posible caso: 16046 NFLX\n",
      "===posible caso: 16136 NFLX\n"
     ]
    },
    {
     "name": "stdout",
     "output_type": "stream",
     "text": [
      "h1\n",
      "16136 NFLX\n",
      "===posible caso: 16227 NFLX\n",
      "===posible caso: 16375 NFLX\n"
     ]
    },
    {
     "name": "stdout",
     "output_type": "stream",
     "text": [
      "===posible caso: 16404 NFLX\n",
      "===posible caso: 16482 NFLX\n"
     ]
    },
    {
     "name": "stdout",
     "output_type": "stream",
     "text": [
      "h1\n",
      "16482 NFLX\n",
      "===posible caso: 16534 NFLX\n",
      "===posible caso: 16556 NFLX\n"
     ]
    },
    {
     "name": "stdout",
     "output_type": "stream",
     "text": [
      "===posible caso: 16575 NFLX\n",
      "===posible caso: 16691 NFLX\n",
      "h1\n",
      "16691 NFLX\n",
      "===posible caso: 16779 NFLX\n"
     ]
    },
    {
     "name": "stdout",
     "output_type": "stream",
     "text": [
      "===posible caso: 16805 NFLX\n",
      "===posible caso: 16967 NFLX\n"
     ]
    },
    {
     "name": "stdout",
     "output_type": "stream",
     "text": [
      "h1\n",
      "16967 NFLX\n",
      "===posible caso: 17050 NFLX\n",
      "h1\n",
      "17050 NFLX\n",
      "===posible caso: 17078 NFLX\n"
     ]
    },
    {
     "name": "stdout",
     "output_type": "stream",
     "text": [
      "h1\n",
      "17078 NFLX\n",
      "===posible caso: 17217 NFLX\n",
      "h1\n",
      "17217 NFLX\n",
      "===posible caso: 17234 NFLX\n"
     ]
    },
    {
     "name": "stdout",
     "output_type": "stream",
     "text": [
      "===posible caso: 17261 NFLX\n",
      "===posible caso: 17362 NFLX\n"
     ]
    },
    {
     "name": "stdout",
     "output_type": "stream",
     "text": [
      "h2\n",
      "h4\n",
      "h2\n",
      "h4\n",
      "h1\n",
      "17362 NFLX\n",
      "===posible caso: 17449 NFLX\n",
      "===posible caso: 17465 NFLX\n"
     ]
    },
    {
     "name": "stdout",
     "output_type": "stream",
     "text": [
      "===posible caso: 17519 NFLX\n",
      "===posible caso: 17536 NFLX\n"
     ]
    },
    {
     "name": "stdout",
     "output_type": "stream",
     "text": [
      "===posible caso: 17565 NFLX\n",
      "===posible caso: 17620 NFLX\n"
     ]
    },
    {
     "name": "stdout",
     "output_type": "stream",
     "text": [
      "===posible caso: 17748 MRNA\n",
      "===posible caso: 17784 MRNA\n",
      "===posible caso: 17826 MRNA\n",
      "===posible caso: 17863 MRNA\n",
      "===posible caso: 17966 MRNA\n"
     ]
    },
    {
     "name": "stdout",
     "output_type": "stream",
     "text": [
      "h1\n",
      "17966 MRNA\n",
      "===posible caso: 18027 MRNA\n",
      "h1\n",
      "18027 MRNA\n",
      "===posible caso: 18050 MRNA\n"
     ]
    },
    {
     "name": "stdout",
     "output_type": "stream",
     "text": [
      "h1\n",
      "18050 MRNA\n",
      "===posible caso: 18069 MRNA\n",
      "===posible caso: 18144 MRNA\n",
      "===posible caso: 18214 MRNA\n",
      "===posible caso: 18263 MRNA\n",
      "===posible caso: 18391 MRNA\n",
      "===posible caso: 18442 MRNA\n",
      "===posible caso: 18467 MRNA\n"
     ]
    },
    {
     "name": "stdout",
     "output_type": "stream",
     "text": [
      "===posible caso: 18484 MRNA\n",
      "h1\n",
      "18484 MRNA\n",
      "===posible caso: 18501 MRNA\n"
     ]
    },
    {
     "name": "stdout",
     "output_type": "stream",
     "text": [
      "===posible caso: 18537 MRNA\n",
      "h1\n",
      "18537 MRNA\n",
      "===posible caso: 18561 MRNA\n"
     ]
    },
    {
     "name": "stdout",
     "output_type": "stream",
     "text": [
      "===posible caso: 18657 MRNA\n",
      "h1\n",
      "18657 MRNA\n",
      "===posible caso: 18687 MRNA\n"
     ]
    },
    {
     "name": "stdout",
     "output_type": "stream",
     "text": [
      "===posible caso: 18784 MRNA\n",
      "===posible caso: 18904 MRNA\n"
     ]
    },
    {
     "name": "stdout",
     "output_type": "stream",
     "text": [
      "===posible caso: 18928 MRNA\n",
      "===posible caso: 18984 MRNA\n"
     ]
    },
    {
     "name": "stdout",
     "output_type": "stream",
     "text": [
      "===posible caso: 19019 MRNA\n",
      "===posible caso: 19070 MRNA\n"
     ]
    },
    {
     "name": "stdout",
     "output_type": "stream",
     "text": [
      "===posible caso: 19106 MRNA\n",
      "===posible caso: 19124 MRNA\n",
      "===posible caso: 19201 MRNA\n",
      "===posible caso: 19248 MRNA\n"
     ]
    },
    {
     "name": "stdout",
     "output_type": "stream",
     "text": [
      "===posible caso: 19357 MRNA\n",
      "===posible caso: 19413 MRNA\n",
      "===posible caso: 19443 MRNA\n"
     ]
    },
    {
     "name": "stdout",
     "output_type": "stream",
     "text": [
      "===posible caso: 19546 MRNA\n",
      "===posible caso: 19575 MRNA\n",
      "h1\n",
      "19575 MRNA\n",
      "===posible caso: 19593 MRNA\n"
     ]
    },
    {
     "name": "stdout",
     "output_type": "stream",
     "text": [
      "===posible caso: 19658 MRNA\n",
      "h1\n",
      "19658 MRNA\n",
      "===posible caso: 19758 MRNA\n"
     ]
    },
    {
     "name": "stdout",
     "output_type": "stream",
     "text": [
      "===posible caso: 19867 MRNA\n",
      "===posible caso: 19898 MRNA\n",
      "===posible caso: 19960 MRNA\n",
      "===posible caso: 20081 MRNA\n",
      "===posible caso: 20107 MRNA\n"
     ]
    },
    {
     "name": "stdout",
     "output_type": "stream",
     "text": [
      "===posible caso: 20241 MRNA\n",
      "===posible caso: 20269 MRNA\n"
     ]
    },
    {
     "name": "stdout",
     "output_type": "stream",
     "text": [
      "===posible caso: 20299 MRNA\n",
      "===posible caso: 20341 MRNA\n",
      "===posible caso: 20432 MRNA\n",
      "h1\n",
      "20432 MRNA\n",
      "===posible caso: 20467 MRNA\n"
     ]
    },
    {
     "name": "stdout",
     "output_type": "stream",
     "text": [
      "h1\n",
      "20467 MRNA\n",
      "===posible caso: 20525 MRNA\n",
      "h1\n",
      "20525 MRNA\n",
      "===posible caso: 20624 MRNA\n"
     ]
    },
    {
     "name": "stdout",
     "output_type": "stream",
     "text": [
      "===posible caso: 20715 MRNA\n",
      "===posible caso: 20973 MRNA\n"
     ]
    },
    {
     "name": "stdout",
     "output_type": "stream",
     "text": [
      "===posible caso: 21066 MRNA\n",
      "===posible caso: 21130 MRNA\n",
      "===posible caso: 21188 MRNA\n"
     ]
    },
    {
     "name": "stdout",
     "output_type": "stream",
     "text": [
      "===posible caso: 21327 TSLA\n",
      "===posible caso: 21392 TSLA\n"
     ]
    },
    {
     "name": "stdout",
     "output_type": "stream",
     "text": [
      "h1\n",
      "21392 TSLA\n",
      "===posible caso: 21423 TSLA\n",
      "h1\n",
      "21423 TSLA\n",
      "===posible caso: 21477 TSLA\n"
     ]
    },
    {
     "name": "stdout",
     "output_type": "stream",
     "text": [
      "h1\n",
      "21477 TSLA\n",
      "===posible caso: 21603 TSLA\n",
      "===posible caso: 21655 TSLA\n"
     ]
    },
    {
     "name": "stdout",
     "output_type": "stream",
     "text": [
      "===posible caso: 21677 TSLA\n",
      "h1\n",
      "21677 TSLA\n",
      "===posible caso: 21780 TSLA\n"
     ]
    },
    {
     "name": "stdout",
     "output_type": "stream",
     "text": [
      "===posible caso: 21798 TSLA\n",
      "===posible caso: 21834 TSLA\n"
     ]
    },
    {
     "name": "stdout",
     "output_type": "stream",
     "text": [
      "===posible caso: 21867 TSLA\n",
      "===posible caso: 21923 TSLA\n",
      "===posible caso: 21942 TSLA\n",
      "===posible caso: 21980 TSLA\n",
      "===posible caso: 22038 TSLA\n"
     ]
    },
    {
     "name": "stdout",
     "output_type": "stream",
     "text": [
      "===posible caso: 22143 TSLA\n",
      "h1\n",
      "22143 TSLA\n",
      "===posible caso: 22174 TSLA\n",
      "===posible caso: 22225 TSLA\n",
      "===posible caso: 22299 TSLA\n",
      "===posible caso: 22325 TSLA\n"
     ]
    },
    {
     "name": "stdout",
     "output_type": "stream",
     "text": [
      "===posible caso: 22387 TSLA\n",
      "h1\n",
      "22387 TSLA\n",
      "===posible caso: 22417 TSLA\n",
      "===posible caso: 22466 TSLA\n"
     ]
    },
    {
     "name": "stdout",
     "output_type": "stream",
     "text": [
      "h1\n",
      "22466 TSLA\n",
      "===posible caso: 22482 TSLA\n",
      "h1\n",
      "22482 TSLA\n",
      "===posible caso: 22521 TSLA\n",
      "===posible caso: 22576 TSLA\n",
      "===posible caso: 22661 TSLA\n"
     ]
    },
    {
     "name": "stdout",
     "output_type": "stream",
     "text": [
      "===posible caso: 22761 TSLA\n",
      "h1\n",
      "22761 TSLA\n",
      "===posible caso: 22877 TSLA\n"
     ]
    },
    {
     "name": "stdout",
     "output_type": "stream",
     "text": [
      "===posible caso: 23002 TSLA\n",
      "h1\n",
      "23002 TSLA\n",
      "===posible caso: 23105 TSLA\n"
     ]
    },
    {
     "name": "stdout",
     "output_type": "stream",
     "text": [
      "h1\n",
      "23105 TSLA\n",
      "===posible caso: 23189 TSLA\n",
      "===posible caso: 23312 TSLA\n"
     ]
    },
    {
     "name": "stdout",
     "output_type": "stream",
     "text": [
      "h1\n",
      "23312 TSLA\n",
      "===posible caso: 23378 TSLA\n",
      "===posible caso: 23503 TSLA\n"
     ]
    },
    {
     "name": "stdout",
     "output_type": "stream",
     "text": [
      "===posible caso: 23531 TSLA\n",
      "h1\n",
      "23531 TSLA\n",
      "===posible caso: 23596 TSLA\n"
     ]
    },
    {
     "name": "stdout",
     "output_type": "stream",
     "text": [
      "===posible caso: 23638 TSLA\n",
      "===posible caso: 23708 TSLA\n"
     ]
    },
    {
     "name": "stdout",
     "output_type": "stream",
     "text": [
      "h1\n",
      "23708 TSLA\n",
      "===posible caso: 23771 TSLA\n",
      "===posible caso: 23886 TSLA\n"
     ]
    },
    {
     "name": "stdout",
     "output_type": "stream",
     "text": [
      "h1\n",
      "23886 TSLA\n",
      "===posible caso: 24018 TSLA\n",
      "h1\n",
      "24018 TSLA\n",
      "===posible caso: 24163 TSLA\n"
     ]
    },
    {
     "name": "stdout",
     "output_type": "stream",
     "text": [
      "===posible caso: 24217 TSLA\n",
      "===posible caso: 24269 TSLA\n",
      "===posible caso: 24286 TSLA\n",
      "===posible caso: 24335 TSLA\n"
     ]
    },
    {
     "name": "stdout",
     "output_type": "stream",
     "text": [
      "===posible caso: 24486 TSLA\n",
      "===posible caso: 24503 TSLA\n",
      "===posible caso: 24522 TSLA\n"
     ]
    },
    {
     "name": "stdout",
     "output_type": "stream",
     "text": [
      "h1\n",
      "24522 TSLA\n",
      "===posible caso: 24605 TSLA\n",
      "h1\n",
      "24605 TSLA\n",
      "===posible caso: 24645 TSLA\n"
     ]
    },
    {
     "name": "stdout",
     "output_type": "stream",
     "text": [
      "h1\n",
      "24645 TSLA\n",
      "===posible caso: 24668 TSLA\n",
      "===posible caso: 24756 TSLA\n",
      "===posible caso: 24855 TNA\n",
      "===posible caso: 24928 TNA\n"
     ]
    },
    {
     "name": "stdout",
     "output_type": "stream",
     "text": [
      "h1\n",
      "24928 TNA\n",
      "===posible caso: 24990 TNA\n",
      "===posible caso: 25014 TNA\n"
     ]
    },
    {
     "name": "stdout",
     "output_type": "stream",
     "text": [
      "h2\n",
      "h4\n",
      "h1\n",
      "25014 TNA\n",
      "===posible caso: 25152 TNA\n",
      "===posible caso: 25336 TNA\n",
      "===posible caso: 25464 TNA\n"
     ]
    },
    {
     "name": "stdout",
     "output_type": "stream",
     "text": [
      "===posible caso: 25516 TNA\n",
      "===posible caso: 25540 TNA\n",
      "===posible caso: 25558 TNA\n"
     ]
    },
    {
     "name": "stdout",
     "output_type": "stream",
     "text": [
      "===posible caso: 25602 TNA\n",
      "===posible caso: 25654 TNA\n"
     ]
    },
    {
     "name": "stdout",
     "output_type": "stream",
     "text": [
      "===posible caso: 25682 TNA\n",
      "h1\n",
      "25682 TNA\n",
      "===posible caso: 25715 TNA\n"
     ]
    },
    {
     "name": "stdout",
     "output_type": "stream",
     "text": [
      "===posible caso: 25763 TNA\n",
      "===posible caso: 25827 TNA\n",
      "===posible caso: 25861 TNA\n"
     ]
    },
    {
     "name": "stdout",
     "output_type": "stream",
     "text": [
      "===posible caso: 25928 TNA\n",
      "===posible caso: 26025 TNA\n"
     ]
    },
    {
     "name": "stdout",
     "output_type": "stream",
     "text": [
      "h1\n",
      "26025 TNA\n",
      "===posible caso: 26051 TNA\n",
      "===posible caso: 26119 TNA\n",
      "===posible caso: 26151 TNA\n"
     ]
    },
    {
     "name": "stdout",
     "output_type": "stream",
     "text": [
      "h1\n",
      "26151 TNA\n",
      "===posible caso: 26272 TNA\n",
      "===posible caso: 26299 TNA\n",
      "h1\n",
      "26299 TNA\n",
      "===posible caso: 26340 TNA\n"
     ]
    },
    {
     "name": "stdout",
     "output_type": "stream",
     "text": [
      "h1\n",
      "26340 TNA\n",
      "===posible caso: 26386 TNA\n",
      "===posible caso: 26402 TNA\n"
     ]
    },
    {
     "name": "stdout",
     "output_type": "stream",
     "text": [
      "===posible caso: 26437 TNA\n",
      "h1\n",
      "26437 TNA\n",
      "===posible caso: 26463 TNA\n"
     ]
    },
    {
     "name": "stdout",
     "output_type": "stream",
     "text": [
      "h1\n",
      "26463 TNA\n",
      "===posible caso: 26543 TNA\n",
      "h1\n",
      "26543 TNA\n",
      "===posible caso: 26563 TNA\n"
     ]
    },
    {
     "name": "stdout",
     "output_type": "stream",
     "text": [
      "===posible caso: 26669 TNA\n",
      "h1\n",
      "26669 TNA\n",
      "===posible caso: 26725 TNA\n"
     ]
    },
    {
     "name": "stdout",
     "output_type": "stream",
     "text": [
      "h1\n",
      "26725 TNA\n",
      "===posible caso: 26745 TNA\n"
     ]
    },
    {
     "name": "stdout",
     "output_type": "stream",
     "text": [
      "h1\n",
      "26745 TNA\n",
      "===posible caso: 26866 TNA\n",
      "===posible caso: 26890 TNA\n"
     ]
    },
    {
     "name": "stdout",
     "output_type": "stream",
     "text": [
      "===posible caso: 26991 TNA\n",
      "===posible caso: 27120 TNA\n"
     ]
    },
    {
     "name": "stdout",
     "output_type": "stream",
     "text": [
      "h1\n",
      "27120 TNA\n",
      "===posible caso: 27188 TNA\n",
      "===posible caso: 27314 TNA\n",
      "===posible caso: 27343 TNA\n"
     ]
    },
    {
     "name": "stdout",
     "output_type": "stream",
     "text": [
      "h2\n",
      "h4\n",
      "h1\n",
      "27343 TNA\n",
      "===posible caso: 27390 TNA\n",
      "===posible caso: 27496 TNA\n",
      "===posible caso: 27564 TNA\n"
     ]
    },
    {
     "name": "stdout",
     "output_type": "stream",
     "text": [
      "h1\n",
      "27564 TNA\n",
      "===posible caso: 27581 TNA\n",
      "h1\n",
      "27581 TNA\n",
      "===posible caso: 27616 TNA\n",
      "===posible caso: 27697 TNA\n"
     ]
    },
    {
     "name": "stdout",
     "output_type": "stream",
     "text": [
      "===posible caso: 27865 TNA\n",
      "===posible caso: 27911 TNA\n",
      "===posible caso: 27947 TNA\n"
     ]
    },
    {
     "name": "stdout",
     "output_type": "stream",
     "text": [
      "h1\n",
      "27947 TNA\n",
      "===posible caso: 27973 TNA\n",
      "h1\n",
      "27973 TNA\n",
      "===posible caso: 28059 TNA\n"
     ]
    },
    {
     "name": "stdout",
     "output_type": "stream",
     "text": [
      "h1\n",
      "28059 TNA\n",
      "===posible caso: 28109 TNA\n",
      "h1\n",
      "28109 TNA\n",
      "===posible caso: 28130 TNA\n"
     ]
    },
    {
     "name": "stdout",
     "output_type": "stream",
     "text": [
      "===posible caso: 28209 TNA\n",
      "===posible caso: 28443 GLD\n",
      "===posible caso: 28464 GLD\n"
     ]
    },
    {
     "name": "stdout",
     "output_type": "stream",
     "text": [
      "===posible caso: 28556 GLD\n",
      "===posible caso: 28679 GLD\n",
      "h1\n",
      "28679 GLD\n",
      "===posible caso: 28721 GLD\n"
     ]
    },
    {
     "name": "stdout",
     "output_type": "stream",
     "text": [
      "h1\n",
      "28721 GLD\n",
      "===posible caso: 28780 GLD\n",
      "h1\n",
      "28780 GLD\n",
      "===posible caso: 28900 GLD\n"
     ]
    },
    {
     "name": "stdout",
     "output_type": "stream",
     "text": [
      "===posible caso: 28932 GLD\n",
      "h1\n",
      "28932 GLD\n",
      "===posible caso: 28970 GLD\n"
     ]
    },
    {
     "name": "stdout",
     "output_type": "stream",
     "text": [
      "===posible caso: 29064 GLD\n",
      "===posible caso: 29085 GLD\n",
      "===posible caso: 29136 GLD\n"
     ]
    },
    {
     "name": "stdout",
     "output_type": "stream",
     "text": [
      "===posible caso: 29161 GLD\n",
      "===posible caso: 29215 GLD\n"
     ]
    },
    {
     "name": "stdout",
     "output_type": "stream",
     "text": [
      "===posible caso: 29252 GLD\n",
      "===posible caso: 29291 GLD\n"
     ]
    },
    {
     "name": "stdout",
     "output_type": "stream",
     "text": [
      "===posible caso: 29373 GLD\n",
      "===posible caso: 29419 GLD\n",
      "===posible caso: 29446 GLD\n"
     ]
    },
    {
     "name": "stdout",
     "output_type": "stream",
     "text": [
      "===posible caso: 29525 GLD\n",
      "h2\n",
      "h4\n",
      "h1\n",
      "29525 GLD\n",
      "===posible caso: 29594 GLD\n"
     ]
    },
    {
     "name": "stdout",
     "output_type": "stream",
     "text": [
      "===posible caso: 29739 GLD\n",
      "h1\n",
      "29739 GLD\n",
      "===posible caso: 29760 GLD\n"
     ]
    },
    {
     "name": "stdout",
     "output_type": "stream",
     "text": [
      "h1\n",
      "29760 GLD\n",
      "===posible caso: 29779 GLD\n",
      "===posible caso: 29798 GLD\n"
     ]
    },
    {
     "name": "stdout",
     "output_type": "stream",
     "text": [
      "===posible caso: 29840 GLD\n",
      "===posible caso: 29904 GLD\n"
     ]
    },
    {
     "name": "stdout",
     "output_type": "stream",
     "text": [
      "===posible caso: 29946 GLD\n",
      "h1\n",
      "29946 GLD\n",
      "===posible caso: 29978 GLD\n"
     ]
    },
    {
     "name": "stdout",
     "output_type": "stream",
     "text": [
      "===posible caso: 30027 GLD\n",
      "===posible caso: 30093 GLD\n",
      "===posible caso: 30160 GLD\n"
     ]
    },
    {
     "name": "stdout",
     "output_type": "stream",
     "text": [
      "===posible caso: 30211 GLD\n",
      "===posible caso: 30295 GLD\n"
     ]
    },
    {
     "name": "stdout",
     "output_type": "stream",
     "text": [
      "===posible caso: 30343 GLD\n",
      "h1\n",
      "30343 GLD\n",
      "===posible caso: 30379 GLD\n"
     ]
    },
    {
     "name": "stdout",
     "output_type": "stream",
     "text": [
      "h1\n",
      "30379 GLD\n",
      "===posible caso: 30431 GLD\n",
      "h1\n",
      "30431 GLD\n",
      "===posible caso: 30502 GLD\n"
     ]
    },
    {
     "name": "stdout",
     "output_type": "stream",
     "text": [
      "===posible caso: 30566 GLD\n",
      "===posible caso: 30693 GLD\n"
     ]
    },
    {
     "name": "stdout",
     "output_type": "stream",
     "text": [
      "===posible caso: 30732 GLD\n",
      "===posible caso: 30763 GLD\n"
     ]
    },
    {
     "name": "stdout",
     "output_type": "stream",
     "text": [
      "===posible caso: 30852 GLD\n",
      "h1\n",
      "30852 GLD\n",
      "===posible caso: 30877 GLD\n"
     ]
    },
    {
     "name": "stdout",
     "output_type": "stream",
     "text": [
      "===posible caso: 30894 GLD\n",
      "===posible caso: 30931 GLD\n",
      "===posible caso: 31027 GLD\n",
      "===posible caso: 31057 GLD\n"
     ]
    },
    {
     "name": "stdout",
     "output_type": "stream",
     "text": [
      "===posible caso: 31120 GLD\n",
      "===posible caso: 31197 GLD\n"
     ]
    },
    {
     "name": "stdout",
     "output_type": "stream",
     "text": [
      "===posible caso: 31266 GLD\n",
      "===posible caso: 31310 GLD\n",
      "===posible caso: 31385 GLD\n"
     ]
    },
    {
     "name": "stdout",
     "output_type": "stream",
     "text": [
      "===posible caso: 31451 GLD\n",
      "h1\n",
      "31451 GLD\n",
      "===posible caso: 31499 GLD\n",
      "===posible caso: 31540 GLD\n"
     ]
    },
    {
     "name": "stdout",
     "output_type": "stream",
     "text": [
      "===posible caso: 31616 GLD\n",
      "===posible caso: 31704 GLD\n",
      "===posible caso: 31742 GLD\n",
      "===posible caso: 31769 GLD\n"
     ]
    },
    {
     "name": "stdout",
     "output_type": "stream",
     "text": [
      "h1\n",
      "31769 GLD\n",
      "===posible caso: 31835 GLD\n",
      "===posible caso: 32017 SLV\n",
      "h1\n",
      "32017 SLV\n",
      "===posible caso: 32125 SLV\n",
      "===posible caso: 32221 SLV\n"
     ]
    },
    {
     "name": "stdout",
     "output_type": "stream",
     "text": [
      "===posible caso: 32279 SLV\n",
      "===posible caso: 32333 SLV\n",
      "h1\n",
      "32333 SLV\n",
      "===posible caso: 32474 SLV\n"
     ]
    },
    {
     "name": "stdout",
     "output_type": "stream",
     "text": [
      "h1\n",
      "32474 SLV\n",
      "===posible caso: 32606 SLV\n",
      "===posible caso: 32677 SLV\n",
      "===posible caso: 32777 SLV\n"
     ]
    },
    {
     "name": "stdout",
     "output_type": "stream",
     "text": [
      "===posible caso: 32952 SLV\n",
      "h1\n",
      "32952 SLV\n",
      "===posible caso: 33012 SLV\n"
     ]
    },
    {
     "name": "stdout",
     "output_type": "stream",
     "text": [
      "===posible caso: 33040 SLV\n",
      "===posible caso: 33068 SLV\n",
      "===posible caso: 33136 SLV\n"
     ]
    },
    {
     "name": "stdout",
     "output_type": "stream",
     "text": [
      "===posible caso: 33171 SLV\n",
      "===posible caso: 33195 SLV\n"
     ]
    },
    {
     "name": "stdout",
     "output_type": "stream",
     "text": [
      "h1\n",
      "33195 SLV\n",
      "===posible caso: 33302 SLV\n",
      "h1\n",
      "33302 SLV\n",
      "===posible caso: 33342 SLV\n",
      "===posible caso: 33370 SLV\n",
      "===posible caso: 33487 SLV\n"
     ]
    },
    {
     "name": "stdout",
     "output_type": "stream",
     "text": [
      "h1\n",
      "33487 SLV\n",
      "===posible caso: 33635 SLV\n",
      "===posible caso: 33700 SLV\n"
     ]
    },
    {
     "name": "stdout",
     "output_type": "stream",
     "text": [
      "===posible caso: 33726 SLV\n",
      "===posible caso: 33789 SLV\n",
      "===posible caso: 33829 SLV\n",
      "===posible caso: 33884 SLV\n"
     ]
    },
    {
     "name": "stdout",
     "output_type": "stream",
     "text": [
      "h1\n",
      "33884 SLV\n",
      "===posible caso: 33960 SLV\n",
      "h1\n",
      "33960 SLV\n",
      "===posible caso: 34094 SLV\n"
     ]
    },
    {
     "name": "stdout",
     "output_type": "stream",
     "text": [
      "h1\n",
      "34094 SLV\n",
      "===posible caso: 34146 SLV\n",
      "===posible caso: 34235 SLV\n",
      "===posible caso: 34374 SLV\n",
      "===posible caso: 34394 SLV\n"
     ]
    },
    {
     "name": "stdout",
     "output_type": "stream",
     "text": [
      "h1\n",
      "34394 SLV\n",
      "===posible caso: 34436 SLV\n",
      "===posible caso: 34456 SLV\n",
      "===posible caso: 34599 SLV\n"
     ]
    },
    {
     "name": "stdout",
     "output_type": "stream",
     "text": [
      "h1\n",
      "34599 SLV\n",
      "===posible caso: 34629 SLV\n",
      "===posible caso: 34651 SLV\n",
      "h1\n",
      "34651 SLV\n",
      "===posible caso: 34732 SLV\n"
     ]
    },
    {
     "name": "stdout",
     "output_type": "stream",
     "text": [
      "h2\n",
      "h4\n",
      "h1\n",
      "34732 SLV\n",
      "===posible caso: 34789 SLV\n",
      "h1\n",
      "34789 SLV\n",
      "===posible caso: 34860 SLV\n",
      "===posible caso: 34895 SLV\n"
     ]
    },
    {
     "name": "stdout",
     "output_type": "stream",
     "text": [
      "===posible caso: 34916 SLV\n",
      "h1\n",
      "34916 SLV\n",
      "===posible caso: 34968 SLV\n",
      "===posible caso: 35064 SLV\n"
     ]
    },
    {
     "name": "stdout",
     "output_type": "stream",
     "text": [
      "h1\n",
      "35064 SLV\n",
      "===posible caso: 35094 SLV\n",
      "===posible caso: 35192 SLV\n",
      "===posible caso: 35235 SLV\n",
      "===posible caso: 35284 SLV\n"
     ]
    },
    {
     "name": "stdout",
     "output_type": "stream",
     "text": [
      "===posible caso: 35326 SLV\n",
      "===posible caso: 35353 SLV\n"
     ]
    },
    {
     "name": "stdout",
     "output_type": "stream",
     "text": [
      "===posible caso: 35448 USO\n",
      "===posible caso: 35531 USO\n"
     ]
    },
    {
     "name": "stdout",
     "output_type": "stream",
     "text": [
      "===posible caso: 35614 USO\n",
      "===posible caso: 35662 USO\n"
     ]
    },
    {
     "name": "stdout",
     "output_type": "stream",
     "text": [
      "h1\n",
      "35662 USO\n",
      "===posible caso: 35855 USO\n",
      "===posible caso: 35955 USO\n",
      "===posible caso: 35984 USO\n"
     ]
    },
    {
     "name": "stdout",
     "output_type": "stream",
     "text": [
      "===posible caso: 36014 USO\n",
      "===posible caso: 36054 USO\n"
     ]
    },
    {
     "name": "stdout",
     "output_type": "stream",
     "text": [
      "h1\n",
      "36054 USO\n",
      "===posible caso: 36259 USO\n",
      "===posible caso: 36306 USO\n"
     ]
    },
    {
     "name": "stdout",
     "output_type": "stream",
     "text": [
      "h1\n",
      "36306 USO\n",
      "===posible caso: 36328 USO\n",
      "h1\n",
      "36328 USO\n",
      "===posible caso: 36410 USO\n",
      "===posible caso: 36479 USO\n"
     ]
    },
    {
     "name": "stdout",
     "output_type": "stream",
     "text": [
      "===posible caso: 36564 USO\n",
      "h1\n",
      "36564 USO\n",
      "===posible caso: 36582 USO\n"
     ]
    },
    {
     "name": "stdout",
     "output_type": "stream",
     "text": [
      "h1\n",
      "36582 USO\n",
      "===posible caso: 36602 USO\n",
      "h1\n",
      "36602 USO\n",
      "===posible caso: 36642 USO\n"
     ]
    },
    {
     "name": "stdout",
     "output_type": "stream",
     "text": [
      "===posible caso: 36663 USO\n",
      "h1\n",
      "36663 USO\n",
      "===posible caso: 36728 USO\n"
     ]
    },
    {
     "name": "stdout",
     "output_type": "stream",
     "text": [
      "===posible caso: 36812 USO\n",
      "h1\n",
      "36812 USO\n",
      "===posible caso: 36915 USO\n"
     ]
    },
    {
     "name": "stdout",
     "output_type": "stream",
     "text": [
      "h2\n",
      "h4\n",
      "h1\n",
      "36915 USO\n",
      "===posible caso: 36983 USO\n",
      "===posible caso: 37026 USO\n",
      "===posible caso: 37138 USO\n"
     ]
    },
    {
     "name": "stdout",
     "output_type": "stream",
     "text": [
      "===posible caso: 37240 USO\n",
      "h1\n",
      "37240 USO\n",
      "===posible caso: 37342 USO\n"
     ]
    },
    {
     "name": "stdout",
     "output_type": "stream",
     "text": [
      "h1\n",
      "37342 USO\n",
      "===posible caso: 37425 USO\n",
      "===posible caso: 37443 USO\n"
     ]
    },
    {
     "name": "stdout",
     "output_type": "stream",
     "text": [
      "h1\n",
      "37443 USO\n",
      "===posible caso: 37495 USO\n",
      "===posible caso: 37631 USO\n"
     ]
    },
    {
     "name": "stdout",
     "output_type": "stream",
     "text": [
      "===posible caso: 37700 USO\n",
      "===posible caso: 37797 USO\n"
     ]
    },
    {
     "name": "stdout",
     "output_type": "stream",
     "text": [
      "===posible caso: 37842 USO\n",
      "h1\n",
      "37842 USO\n",
      "===posible caso: 37858 USO\n"
     ]
    },
    {
     "name": "stdout",
     "output_type": "stream",
     "text": [
      "h1\n",
      "37858 USO\n",
      "===posible caso: 37935 USO\n",
      "===posible caso: 38029 USO\n"
     ]
    },
    {
     "name": "stdout",
     "output_type": "stream",
     "text": [
      "h1\n",
      "38029 USO\n",
      "===posible caso: 38048 USO\n",
      "h1\n",
      "38048 USO\n",
      "===posible caso: 38120 USO\n"
     ]
    },
    {
     "name": "stdout",
     "output_type": "stream",
     "text": [
      "h1\n",
      "38120 USO\n",
      "===posible caso: 38168 USO\n",
      "===posible caso: 38253 USO\n",
      "===posible caso: 38291 USO\n",
      "===posible caso: 38332 USO\n",
      "===posible caso: 38369 USO\n",
      "===posible caso: 38430 USO\n",
      "===posible caso: 38498 USO\n"
     ]
    },
    {
     "name": "stdout",
     "output_type": "stream",
     "text": [
      "h1\n",
      "38498 USO\n",
      "===posible caso: 38539 USO\n",
      "===posible caso: 38573 USO\n",
      "===posible caso: 38626 USO\n"
     ]
    },
    {
     "name": "stdout",
     "output_type": "stream",
     "text": [
      "h1\n",
      "38626 USO\n",
      "===posible caso: 38731 USO\n",
      "===posible caso: 38828 USO\n",
      "===posible caso: 38856 USO\n"
     ]
    },
    {
     "name": "stdout",
     "output_type": "stream",
     "text": [
      "h1\n",
      "38856 USO\n",
      "===posible caso: 38929 USO\n",
      "===posible caso: 39024 BAC\n"
     ]
    },
    {
     "name": "stdout",
     "output_type": "stream",
     "text": [
      "===posible caso: 39067 BAC\n",
      "===posible caso: 39118 BAC\n",
      "===posible caso: 39192 BAC\n",
      "===posible caso: 39301 BAC\n",
      "===posible caso: 39503 BAC\n",
      "===posible caso: 39543 BAC\n"
     ]
    },
    {
     "name": "stdout",
     "output_type": "stream",
     "text": [
      "h1\n",
      "39543 BAC\n",
      "===posible caso: 39589 BAC\n",
      "===posible caso: 39631 BAC\n",
      "===posible caso: 39709 BAC\n"
     ]
    },
    {
     "name": "stdout",
     "output_type": "stream",
     "text": [
      "h1\n",
      "39709 BAC\n",
      "===posible caso: 39777 BAC\n",
      "h2\n",
      "h4\n",
      "h1\n",
      "39777 BAC\n",
      "===posible caso: 39821 BAC\n",
      "===posible caso: 39917 BAC\n",
      "===posible caso: 40036 BAC\n"
     ]
    },
    {
     "name": "stdout",
     "output_type": "stream",
     "text": [
      "===posible caso: 40096 BAC\n",
      "===posible caso: 40124 BAC\n"
     ]
    },
    {
     "name": "stdout",
     "output_type": "stream",
     "text": [
      "===posible caso: 40239 BAC\n",
      "===posible caso: 40287 BAC\n"
     ]
    },
    {
     "name": "stdout",
     "output_type": "stream",
     "text": [
      "===posible caso: 40321 BAC\n",
      "===posible caso: 40442 BAC\n"
     ]
    },
    {
     "name": "stdout",
     "output_type": "stream",
     "text": [
      "===posible caso: 40505 BAC\n",
      "===posible caso: 40588 BAC\n",
      "h1\n",
      "40588 BAC\n",
      "===posible caso: 40651 BAC\n"
     ]
    },
    {
     "name": "stdout",
     "output_type": "stream",
     "text": [
      "h1\n",
      "40651 BAC\n",
      "===posible caso: 40730 BAC\n",
      "===posible caso: 40778 BAC\n",
      "===posible caso: 40834 BAC\n"
     ]
    },
    {
     "name": "stdout",
     "output_type": "stream",
     "text": [
      "h1\n",
      "40834 BAC\n",
      "===posible caso: 41002 BAC\n",
      "h1\n",
      "41002 BAC\n",
      "===posible caso: 41075 BAC\n"
     ]
    },
    {
     "name": "stdout",
     "output_type": "stream",
     "text": [
      "h1\n",
      "41075 BAC\n",
      "===posible caso: 41157 BAC\n",
      "h1\n",
      "41157 BAC\n",
      "===posible caso: 41195 BAC\n"
     ]
    },
    {
     "name": "stdout",
     "output_type": "stream",
     "text": [
      "===posible caso: 41236 BAC\n",
      "===posible caso: 41289 BAC\n"
     ]
    },
    {
     "name": "stdout",
     "output_type": "stream",
     "text": [
      "h1\n",
      "41289 BAC\n",
      "===posible caso: 41355 BAC\n",
      "===posible caso: 41393 BAC\n",
      "===posible caso: 41413 BAC\n",
      "===posible caso: 41447 BAC\n"
     ]
    },
    {
     "name": "stdout",
     "output_type": "stream",
     "text": [
      "h1\n",
      "41447 BAC\n",
      "===posible caso: 41495 BAC\n",
      "===posible caso: 41527 BAC\n"
     ]
    },
    {
     "name": "stdout",
     "output_type": "stream",
     "text": [
      "===posible caso: 41563 BAC\n",
      "h1\n",
      "41563 BAC\n",
      "===posible caso: 41670 BAC\n"
     ]
    },
    {
     "name": "stdout",
     "output_type": "stream",
     "text": [
      "===posible caso: 41709 BAC\n",
      "===posible caso: 41726 BAC\n",
      "h1\n",
      "41726 BAC\n",
      "===posible caso: 41767 BAC\n"
     ]
    },
    {
     "name": "stdout",
     "output_type": "stream",
     "text": [
      "===posible caso: 41921 BAC\n",
      "===posible caso: 42040 BAC\n"
     ]
    },
    {
     "name": "stdout",
     "output_type": "stream",
     "text": [
      "h1\n",
      "42040 BAC\n",
      "===posible caso: 42114 BAC\n",
      "h1\n",
      "42114 BAC\n",
      "===posible caso: 42141 BAC\n"
     ]
    },
    {
     "name": "stdout",
     "output_type": "stream",
     "text": [
      "===posible caso: 42280 BAC\n",
      "h1\n",
      "42280 BAC\n",
      "===posible caso: 42299 BAC\n"
     ]
    },
    {
     "name": "stdout",
     "output_type": "stream",
     "text": [
      "===posible caso: 42388 BAC\n",
      "===posible caso: 42429 BAC\n"
     ]
    },
    {
     "name": "stdout",
     "output_type": "stream",
     "text": [
      "h1\n",
      "42429 BAC\n",
      "===posible caso: 42556 CVX\n",
      "===posible caso: 42603 CVX\n",
      "===posible caso: 42654 CVX\n"
     ]
    },
    {
     "name": "stdout",
     "output_type": "stream",
     "text": [
      "===posible caso: 42757 CVX\n",
      "===posible caso: 42781 CVX\n",
      "h1\n",
      "42781 CVX\n",
      "===posible caso: 42828 CVX\n"
     ]
    },
    {
     "name": "stdout",
     "output_type": "stream",
     "text": [
      "===posible caso: 42933 CVX\n",
      "h1\n",
      "42933 CVX\n",
      "===posible caso: 42983 CVX\n"
     ]
    },
    {
     "name": "stdout",
     "output_type": "stream",
     "text": [
      "h1\n",
      "42983 CVX\n",
      "===posible caso: 43090 CVX\n",
      "h1\n",
      "43090 CVX\n",
      "===posible caso: 43171 CVX\n"
     ]
    },
    {
     "name": "stdout",
     "output_type": "stream",
     "text": [
      "h1\n",
      "43171 CVX\n",
      "===posible caso: 43220 CVX\n",
      "===posible caso: 43294 CVX\n",
      "===posible caso: 43386 CVX\n"
     ]
    },
    {
     "name": "stdout",
     "output_type": "stream",
     "text": [
      "h1\n",
      "43386 CVX\n",
      "===posible caso: 43407 CVX\n",
      "===posible caso: 43571 CVX\n"
     ]
    },
    {
     "name": "stdout",
     "output_type": "stream",
     "text": [
      "h1\n",
      "43571 CVX\n",
      "===posible caso: 43592 CVX\n",
      "===posible caso: 43621 CVX\n"
     ]
    },
    {
     "name": "stdout",
     "output_type": "stream",
     "text": [
      "h1\n",
      "43621 CVX\n",
      "===posible caso: 43661 CVX\n",
      "===posible caso: 43682 CVX\n",
      "===posible caso: 43721 CVX\n"
     ]
    },
    {
     "name": "stdout",
     "output_type": "stream",
     "text": [
      "h1\n",
      "43721 CVX\n",
      "===posible caso: 43742 CVX\n",
      "h1\n",
      "43742 CVX\n",
      "===posible caso: 43808 CVX\n"
     ]
    },
    {
     "name": "stdout",
     "output_type": "stream",
     "text": [
      "===posible caso: 43890 CVX\n",
      "===posible caso: 43923 CVX\n"
     ]
    },
    {
     "name": "stdout",
     "output_type": "stream",
     "text": [
      "h1\n",
      "43923 CVX\n",
      "===posible caso: 44002 CVX\n",
      "===posible caso: 44070 CVX\n"
     ]
    },
    {
     "name": "stdout",
     "output_type": "stream",
     "text": [
      "===posible caso: 44141 CVX\n",
      "===posible caso: 44167 CVX\n",
      "h1\n",
      "44167 CVX\n",
      "===posible caso: 44272 CVX\n"
     ]
    },
    {
     "name": "stdout",
     "output_type": "stream",
     "text": [
      "h1\n",
      "44272 CVX\n",
      "===posible caso: 44383 CVX\n",
      "===posible caso: 44444 CVX\n"
     ]
    },
    {
     "name": "stdout",
     "output_type": "stream",
     "text": [
      "h1\n",
      "44444 CVX\n",
      "===posible caso: 44523 CVX\n",
      "h1\n",
      "44523 CVX\n",
      "===posible caso: 44570 CVX\n"
     ]
    },
    {
     "name": "stdout",
     "output_type": "stream",
     "text": [
      "h1\n",
      "44570 CVX\n",
      "===posible caso: 44635 CVX\n",
      "===posible caso: 44710 CVX\n",
      "===posible caso: 44759 CVX\n"
     ]
    },
    {
     "name": "stdout",
     "output_type": "stream",
     "text": [
      "===posible caso: 44805 CVX\n",
      "===posible caso: 44932 CVX\n",
      "===posible caso: 44976 CVX\n",
      "===posible caso: 45032 CVX\n"
     ]
    },
    {
     "name": "stdout",
     "output_type": "stream",
     "text": [
      "h1\n",
      "45032 CVX\n",
      "===posible caso: 45260 CVX\n",
      "===posible caso: 45295 CVX\n"
     ]
    },
    {
     "name": "stdout",
     "output_type": "stream",
     "text": [
      "h1\n",
      "45295 CVX\n",
      "===posible caso: 45369 CVX\n",
      "h1\n",
      "45369 CVX\n",
      "===posible caso: 45411 CVX\n",
      "===posible caso: 45494 CVX\n"
     ]
    },
    {
     "name": "stdout",
     "output_type": "stream",
     "text": [
      "===posible caso: 45577 CVX\n",
      "===posible caso: 45611 CVX\n"
     ]
    },
    {
     "name": "stdout",
     "output_type": "stream",
     "text": [
      "===posible caso: 45652 CVX\n",
      "===posible caso: 45736 CVX\n",
      "===posible caso: 45761 CVX\n"
     ]
    },
    {
     "name": "stdout",
     "output_type": "stream",
     "text": [
      "===posible caso: 45811 CVX\n",
      "===posible caso: 45907 CVX\n"
     ]
    },
    {
     "name": "stdout",
     "output_type": "stream",
     "text": [
      "h1\n",
      "45907 CVX\n",
      "===posible caso: 46097 XOM\n",
      "h1\n",
      "46097 XOM\n",
      "===posible caso: 46191 XOM\n"
     ]
    },
    {
     "name": "stdout",
     "output_type": "stream",
     "text": [
      "h1\n",
      "46191 XOM\n",
      "===posible caso: 46255 XOM\n",
      "===posible caso: 46301 XOM\n"
     ]
    },
    {
     "name": "stdout",
     "output_type": "stream",
     "text": [
      "===posible caso: 46402 XOM\n",
      "h1\n",
      "46402 XOM\n",
      "===posible caso: 46452 XOM\n"
     ]
    },
    {
     "name": "stdout",
     "output_type": "stream",
     "text": [
      "===posible caso: 46518 XOM\n",
      "===posible caso: 46569 XOM\n",
      "===posible caso: 46627 XOM\n"
     ]
    },
    {
     "name": "stdout",
     "output_type": "stream",
     "text": [
      "===posible caso: 46700 XOM\n",
      "===posible caso: 46800 XOM\n",
      "===posible caso: 46877 XOM\n"
     ]
    },
    {
     "name": "stdout",
     "output_type": "stream",
     "text": [
      "===posible caso: 46922 XOM\n",
      "===posible caso: 47032 XOM\n"
     ]
    },
    {
     "name": "stdout",
     "output_type": "stream",
     "text": [
      "===posible caso: 47109 XOM\n",
      "h1\n",
      "47109 XOM\n",
      "===posible caso: 47157 XOM\n",
      "===posible caso: 47219 XOM\n"
     ]
    },
    {
     "name": "stdout",
     "output_type": "stream",
     "text": [
      "h1\n",
      "47219 XOM\n",
      "===posible caso: 47258 XOM\n",
      "===posible caso: 47371 XOM\n"
     ]
    },
    {
     "name": "stdout",
     "output_type": "stream",
     "text": [
      "h2\n",
      "h4\n",
      "h2\n",
      "h4\n",
      "h1\n",
      "47371 XOM\n",
      "===posible caso: 47427 XOM\n",
      "h1\n",
      "47427 XOM\n",
      "===posible caso: 47460 XOM\n"
     ]
    },
    {
     "name": "stdout",
     "output_type": "stream",
     "text": [
      "h1\n",
      "47460 XOM\n",
      "===posible caso: 47506 XOM\n",
      "===posible caso: 47528 XOM\n"
     ]
    },
    {
     "name": "stdout",
     "output_type": "stream",
     "text": [
      "===posible caso: 47574 XOM\n",
      "===posible caso: 47599 XOM\n",
      "===posible caso: 47640 XOM\n"
     ]
    },
    {
     "name": "stdout",
     "output_type": "stream",
     "text": [
      "h1\n",
      "47640 XOM\n",
      "===posible caso: 47704 XOM\n",
      "===posible caso: 47733 XOM\n",
      "===posible caso: 47833 XOM\n"
     ]
    },
    {
     "name": "stdout",
     "output_type": "stream",
     "text": [
      "h1\n",
      "47833 XOM\n",
      "===posible caso: 47920 XOM\n",
      "h1\n",
      "47920 XOM\n",
      "===posible caso: 47981 XOM\n"
     ]
    },
    {
     "name": "stdout",
     "output_type": "stream",
     "text": [
      "===posible caso: 48033 XOM\n",
      "===posible caso: 48073 XOM\n",
      "h1\n",
      "48073 XOM\n",
      "===posible caso: 48113 XOM\n",
      "===posible caso: 48133 XOM\n"
     ]
    },
    {
     "name": "stdout",
     "output_type": "stream",
     "text": [
      "===posible caso: 48247 XOM\n",
      "===posible caso: 48312 XOM\n"
     ]
    },
    {
     "name": "stdout",
     "output_type": "stream",
     "text": [
      "===posible caso: 48351 XOM\n",
      "===posible caso: 48389 XOM\n",
      "===posible caso: 48468 XOM\n",
      "===posible caso: 48743 XOM\n"
     ]
    },
    {
     "name": "stdout",
     "output_type": "stream",
     "text": [
      "===posible caso: 48794 XOM\n",
      "===posible caso: 48832 XOM\n"
     ]
    },
    {
     "name": "stdout",
     "output_type": "stream",
     "text": [
      "h1\n",
      "48832 XOM\n",
      "===posible caso: 48906 XOM\n",
      "===posible caso: 48951 XOM\n",
      "===posible caso: 49036 XOM\n"
     ]
    },
    {
     "name": "stdout",
     "output_type": "stream",
     "text": [
      "h1\n",
      "49036 XOM\n",
      "===posible caso: 49114 XOM\n",
      "===posible caso: 49137 XOM\n"
     ]
    },
    {
     "name": "stdout",
     "output_type": "stream",
     "text": [
      "h1\n",
      "49137 XOM\n",
      "===posible caso: 49189 XOM\n",
      "===posible caso: 49242 XOM\n"
     ]
    },
    {
     "name": "stdout",
     "output_type": "stream",
     "text": [
      "===posible caso: 49268 XOM\n",
      "===posible caso: 49348 XOM\n"
     ]
    },
    {
     "name": "stdout",
     "output_type": "stream",
     "text": [
      "===posible caso: 49414 XOM\n",
      "h1\n",
      "49414 XOM\n",
      "===posible caso: 49455 XOM\n",
      "===posible caso: 49636 QQQ\n"
     ]
    },
    {
     "name": "stdout",
     "output_type": "stream",
     "text": [
      "===posible caso: 49707 QQQ\n",
      "h1\n",
      "49707 QQQ\n",
      "===posible caso: 49757 QQQ\n",
      "===posible caso: 49792 QQQ\n"
     ]
    },
    {
     "name": "stdout",
     "output_type": "stream",
     "text": [
      "h1\n",
      "49792 QQQ\n",
      "===posible caso: 49838 QQQ\n",
      "===posible caso: 49886 QQQ\n",
      "===posible caso: 49923 QQQ\n",
      "===posible caso: 49989 QQQ\n"
     ]
    },
    {
     "name": "stdout",
     "output_type": "stream",
     "text": [
      "===posible caso: 50071 QQQ\n",
      "===posible caso: 50128 QQQ\n"
     ]
    },
    {
     "name": "stdout",
     "output_type": "stream",
     "text": [
      "h1\n",
      "50128 QQQ\n",
      "===posible caso: 50145 QQQ\n",
      "===posible caso: 50187 QQQ\n",
      "===posible caso: 50295 QQQ\n"
     ]
    },
    {
     "name": "stdout",
     "output_type": "stream",
     "text": [
      "h1\n",
      "50295 QQQ\n",
      "===posible caso: 50332 QQQ\n",
      "===posible caso: 50353 QQQ\n"
     ]
    },
    {
     "name": "stdout",
     "output_type": "stream",
     "text": [
      "===posible caso: 50461 QQQ\n",
      "h1\n",
      "50461 QQQ\n",
      "===posible caso: 50493 QQQ\n"
     ]
    },
    {
     "name": "stdout",
     "output_type": "stream",
     "text": [
      "===posible caso: 50614 QQQ\n",
      "h1\n",
      "50614 QQQ\n",
      "===posible caso: 50639 QQQ\n"
     ]
    },
    {
     "name": "stdout",
     "output_type": "stream",
     "text": [
      "===posible caso: 50704 QQQ\n",
      "h1\n",
      "50704 QQQ\n",
      "===posible caso: 50798 QQQ\n",
      "===posible caso: 50871 QQQ\n"
     ]
    },
    {
     "name": "stdout",
     "output_type": "stream",
     "text": [
      "===posible caso: 50894 QQQ\n",
      "===posible caso: 50934 QQQ\n",
      "===posible caso: 51077 QQQ\n"
     ]
    },
    {
     "name": "stdout",
     "output_type": "stream",
     "text": [
      "h1\n",
      "51077 QQQ\n",
      "===posible caso: 51118 QQQ\n",
      "h1\n",
      "51118 QQQ\n",
      "===posible caso: 51220 QQQ\n"
     ]
    },
    {
     "name": "stdout",
     "output_type": "stream",
     "text": [
      "===posible caso: 51317 QQQ\n",
      "h1\n",
      "51317 QQQ\n",
      "===posible caso: 51368 QQQ\n",
      "===posible caso: 51419 QQQ\n"
     ]
    },
    {
     "name": "stdout",
     "output_type": "stream",
     "text": [
      "h1\n",
      "51419 QQQ\n",
      "===posible caso: 51477 QQQ\n",
      "===posible caso: 51524 QQQ\n",
      "===posible caso: 51627 QQQ\n"
     ]
    },
    {
     "name": "stdout",
     "output_type": "stream",
     "text": [
      "h1\n",
      "51627 QQQ\n",
      "===posible caso: 51667 QQQ\n",
      "h1\n",
      "51667 QQQ\n",
      "===posible caso: 51766 QQQ\n"
     ]
    },
    {
     "name": "stdout",
     "output_type": "stream",
     "text": [
      "h1\n",
      "51766 QQQ\n",
      "===posible caso: 51798 QQQ\n",
      "===posible caso: 51882 QQQ\n"
     ]
    },
    {
     "name": "stdout",
     "output_type": "stream",
     "text": [
      "===posible caso: 51928 QQQ\n",
      "===posible caso: 51964 QQQ\n"
     ]
    },
    {
     "name": "stdout",
     "output_type": "stream",
     "text": [
      "===posible caso: 52019 QQQ\n",
      "===posible caso: 52039 QQQ\n"
     ]
    },
    {
     "name": "stdout",
     "output_type": "stream",
     "text": [
      "===posible caso: 52191 QQQ\n",
      "===posible caso: 52345 QQQ\n"
     ]
    },
    {
     "name": "stdout",
     "output_type": "stream",
     "text": [
      "===posible caso: 52394 QQQ\n",
      "===posible caso: 52438 QQQ\n",
      "===posible caso: 52480 QQQ\n"
     ]
    },
    {
     "name": "stdout",
     "output_type": "stream",
     "text": [
      "===posible caso: 52584 QQQ\n",
      "===posible caso: 52606 QQQ\n",
      "h1\n",
      "52606 QQQ\n",
      "===posible caso: 52650 QQQ\n"
     ]
    },
    {
     "name": "stdout",
     "output_type": "stream",
     "text": [
      "===posible caso: 52837 QQQ\n",
      "h1\n",
      "52837 QQQ\n",
      "===posible caso: 52926 QQQ\n"
     ]
    },
    {
     "name": "stdout",
     "output_type": "stream",
     "text": [
      "===posible caso: 52960 QQQ\n",
      "===posible caso: 53010 QQQ\n",
      "===posible caso: 53073 QQQ\n"
     ]
    },
    {
     "name": "stdout",
     "output_type": "stream",
     "text": [
      "h3\n",
      "h4\n",
      "h3\n",
      "h4\n",
      "h3\n",
      "h4\n",
      "h3\n",
      "h4\n",
      "53073 QQQ\n",
      "===posible caso: 53127 MSFT\n",
      "===posible caso: 53163 MSFT\n",
      "===posible caso: 53183 MSFT\n"
     ]
    },
    {
     "name": "stdout",
     "output_type": "stream",
     "text": [
      "h1\n",
      "53183 MSFT\n",
      "===posible caso: 53222 MSFT\n",
      "===posible caso: 53240 MSFT\n",
      "===posible caso: 53294 MSFT\n",
      "===posible caso: 53329 MSFT\n"
     ]
    },
    {
     "name": "stdout",
     "output_type": "stream",
     "text": [
      "h1\n",
      "53329 MSFT\n",
      "===posible caso: 53421 MSFT\n",
      "===posible caso: 53478 MSFT\n",
      "===posible caso: 53506 MSFT\n"
     ]
    },
    {
     "name": "stdout",
     "output_type": "stream",
     "text": [
      "===posible caso: 53525 MSFT\n",
      "h1\n",
      "53525 MSFT\n",
      "===posible caso: 53613 MSFT\n"
     ]
    },
    {
     "name": "stdout",
     "output_type": "stream",
     "text": [
      "h1\n",
      "53613 MSFT\n",
      "===posible caso: 53677 MSFT\n",
      "===posible caso: 53701 MSFT\n"
     ]
    },
    {
     "name": "stdout",
     "output_type": "stream",
     "text": [
      "h1\n",
      "53701 MSFT\n",
      "===posible caso: 53731 MSFT\n",
      "===posible caso: 53889 MSFT\n",
      "h1\n",
      "53889 MSFT\n",
      "===posible caso: 53960 MSFT\n"
     ]
    },
    {
     "name": "stdout",
     "output_type": "stream",
     "text": [
      "===posible caso: 53997 MSFT\n",
      "===posible caso: 54016 MSFT\n",
      "h1\n",
      "54016 MSFT\n",
      "===posible caso: 54037 MSFT\n"
     ]
    },
    {
     "name": "stdout",
     "output_type": "stream",
     "text": [
      "===posible caso: 54059 MSFT\n",
      "h1\n",
      "54059 MSFT\n",
      "===posible caso: 54177 MSFT\n"
     ]
    },
    {
     "name": "stdout",
     "output_type": "stream",
     "text": [
      "===posible caso: 54239 MSFT\n",
      "===posible caso: 54340 MSFT\n"
     ]
    },
    {
     "name": "stdout",
     "output_type": "stream",
     "text": [
      "===posible caso: 54395 MSFT\n",
      "===posible caso: 54431 MSFT\n"
     ]
    },
    {
     "name": "stdout",
     "output_type": "stream",
     "text": [
      "h1\n",
      "54431 MSFT\n",
      "===posible caso: 54495 MSFT\n",
      "===posible caso: 54604 MSFT\n",
      "===posible caso: 54652 MSFT\n",
      "===posible caso: 54739 MSFT\n"
     ]
    },
    {
     "name": "stdout",
     "output_type": "stream",
     "text": [
      "h1\n",
      "54739 MSFT\n",
      "===posible caso: 54854 MSFT\n",
      "h1\n",
      "54854 MSFT\n",
      "===posible caso: 54898 MSFT\n"
     ]
    },
    {
     "name": "stdout",
     "output_type": "stream",
     "text": [
      "h1\n",
      "54898 MSFT\n",
      "===posible caso: 54932 MSFT\n",
      "===posible caso: 54956 MSFT\n"
     ]
    },
    {
     "name": "stdout",
     "output_type": "stream",
     "text": [
      "h1\n",
      "54956 MSFT\n",
      "===posible caso: 55157 MSFT\n",
      "h1\n",
      "55157 MSFT\n",
      "===posible caso: 55202 MSFT\n",
      "===posible caso: 55300 MSFT\n"
     ]
    },
    {
     "name": "stdout",
     "output_type": "stream",
     "text": [
      "===posible caso: 55419 MSFT\n",
      "===posible caso: 55465 MSFT\n",
      "===posible caso: 55482 MSFT\n"
     ]
    },
    {
     "name": "stdout",
     "output_type": "stream",
     "text": [
      "===posible caso: 55503 MSFT\n",
      "===posible caso: 55550 MSFT\n",
      "===posible caso: 55607 MSFT\n"
     ]
    },
    {
     "name": "stdout",
     "output_type": "stream",
     "text": [
      "===posible caso: 55710 MSFT\n",
      "h1\n",
      "55710 MSFT\n",
      "===posible caso: 55736 MSFT\n"
     ]
    },
    {
     "name": "stdout",
     "output_type": "stream",
     "text": [
      "===posible caso: 55773 MSFT\n",
      "===posible caso: 55893 MSFT\n",
      "===posible caso: 56021 MSFT\n",
      "===posible caso: 56143 MSFT\n"
     ]
    },
    {
     "name": "stdout",
     "output_type": "stream",
     "text": [
      "===posible caso: 56182 MSFT\n",
      "===posible caso: 56279 MSFT\n"
     ]
    },
    {
     "name": "stdout",
     "output_type": "stream",
     "text": [
      "h1\n",
      "56279 MSFT\n",
      "===posible caso: 56379 MSFT\n",
      "h1\n",
      "56379 MSFT\n",
      "===posible caso: 56453 MSFT\n"
     ]
    },
    {
     "name": "stdout",
     "output_type": "stream",
     "text": [
      "===posible caso: 56529 MSFT\n",
      "===posible caso: 56561 MSFT\n"
     ]
    },
    {
     "name": "stdout",
     "output_type": "stream",
     "text": [
      "===posible caso: 56582 MSFT\n",
      "===posible caso: 56710 NVDA\n"
     ]
    },
    {
     "name": "stdout",
     "output_type": "stream",
     "text": [
      "===posible caso: 56727 NVDA\n",
      "===posible caso: 56759 NVDA\n"
     ]
    },
    {
     "name": "stdout",
     "output_type": "stream",
     "text": [
      "h1\n",
      "56759 NVDA\n",
      "===posible caso: 56778 NVDA\n",
      "h1\n",
      "56778 NVDA\n",
      "===posible caso: 56824 NVDA\n",
      "===posible caso: 56877 NVDA\n"
     ]
    },
    {
     "name": "stdout",
     "output_type": "stream",
     "text": [
      "===posible caso: 56966 NVDA\n",
      "h1\n",
      "56966 NVDA\n",
      "===posible caso: 56993 NVDA\n"
     ]
    },
    {
     "name": "stdout",
     "output_type": "stream",
     "text": [
      "===posible caso: 57056 NVDA\n",
      "===posible caso: 57111 NVDA\n",
      "===posible caso: 57145 NVDA\n",
      "===posible caso: 57202 NVDA\n"
     ]
    },
    {
     "name": "stdout",
     "output_type": "stream",
     "text": [
      "h1\n",
      "57202 NVDA\n",
      "===posible caso: 57366 NVDA\n",
      "===posible caso: 57393 NVDA\n"
     ]
    },
    {
     "name": "stdout",
     "output_type": "stream",
     "text": [
      "===posible caso: 57480 NVDA\n",
      "===posible caso: 57523 NVDA\n",
      "===posible caso: 57574 NVDA\n"
     ]
    },
    {
     "name": "stdout",
     "output_type": "stream",
     "text": [
      "===posible caso: 57689 NVDA\n",
      "h1\n",
      "57689 NVDA\n",
      "===posible caso: 57714 NVDA\n"
     ]
    },
    {
     "name": "stdout",
     "output_type": "stream",
     "text": [
      "===posible caso: 57791 NVDA\n",
      "===posible caso: 57807 NVDA\n"
     ]
    },
    {
     "name": "stdout",
     "output_type": "stream",
     "text": [
      "h1\n",
      "57807 NVDA\n",
      "===posible caso: 57842 NVDA\n",
      "h1\n",
      "57842 NVDA\n",
      "===posible caso: 57903 NVDA\n"
     ]
    },
    {
     "name": "stdout",
     "output_type": "stream",
     "text": [
      "h1\n",
      "57903 NVDA\n",
      "===posible caso: 57980 NVDA\n",
      "===posible caso: 58144 NVDA\n",
      "===posible caso: 58189 NVDA\n"
     ]
    },
    {
     "name": "stdout",
     "output_type": "stream",
     "text": [
      "===posible caso: 58240 NVDA\n",
      "h1\n",
      "58240 NVDA\n",
      "===posible caso: 58300 NVDA\n"
     ]
    },
    {
     "name": "stdout",
     "output_type": "stream",
     "text": [
      "===posible caso: 58336 NVDA\n",
      "===posible caso: 58401 NVDA\n",
      "h1\n",
      "58401 NVDA\n",
      "===posible caso: 58442 NVDA\n"
     ]
    },
    {
     "name": "stdout",
     "output_type": "stream",
     "text": [
      "h1\n",
      "58442 NVDA\n",
      "===posible caso: 58493 NVDA\n",
      "h1\n",
      "58493 NVDA\n",
      "===posible caso: 58689 NVDA\n"
     ]
    },
    {
     "name": "stdout",
     "output_type": "stream",
     "text": [
      "h1\n",
      "58689 NVDA\n",
      "===posible caso: 58711 NVDA\n",
      "===posible caso: 58806 NVDA\n",
      "===posible caso: 58872 NVDA\n"
     ]
    },
    {
     "name": "stdout",
     "output_type": "stream",
     "text": [
      "===posible caso: 58956 NVDA\n",
      "===posible caso: 59003 NVDA\n"
     ]
    },
    {
     "name": "stdout",
     "output_type": "stream",
     "text": [
      "===posible caso: 59020 NVDA\n",
      "===posible caso: 59038 NVDA\n",
      "===posible caso: 59103 NVDA\n"
     ]
    },
    {
     "name": "stdout",
     "output_type": "stream",
     "text": [
      "===posible caso: 59157 NVDA\n",
      "===posible caso: 59213 NVDA\n",
      "h1\n",
      "59213 NVDA\n",
      "===posible caso: 59244 NVDA\n"
     ]
    },
    {
     "name": "stdout",
     "output_type": "stream",
     "text": [
      "===posible caso: 59303 NVDA\n",
      "h1\n",
      "59303 NVDA\n",
      "===posible caso: 59348 NVDA\n"
     ]
    },
    {
     "name": "stdout",
     "output_type": "stream",
     "text": [
      "===posible caso: 59421 NVDA\n",
      "===posible caso: 59467 NVDA\n"
     ]
    },
    {
     "name": "stdout",
     "output_type": "stream",
     "text": [
      "h1\n",
      "59467 NVDA\n",
      "===posible caso: 59513 NVDA\n",
      "===posible caso: 59544 NVDA\n"
     ]
    },
    {
     "name": "stdout",
     "output_type": "stream",
     "text": [
      "h1\n",
      "59544 NVDA\n",
      "===posible caso: 59675 NVDA\n",
      "h1\n",
      "59675 NVDA\n",
      "===posible caso: 59825 NVDA\n"
     ]
    },
    {
     "name": "stdout",
     "output_type": "stream",
     "text": [
      "===posible caso: 59875 NVDA\n",
      "===posible caso: 59911 NVDA\n",
      "h2\n",
      "h4\n",
      "h2\n",
      "h4\n",
      "h1\n",
      "59911 NVDA\n",
      "===posible caso: 59973 NVDA\n"
     ]
    },
    {
     "name": "stdout",
     "output_type": "stream",
     "text": [
      "h1\n",
      "59973 NVDA\n",
      "===posible caso: 60000 NVDA\n",
      "h1\n",
      "60000 NVDA\n",
      "===posible caso: 60034 NVDA\n",
      "===posible caso: 60062 NVDA\n"
     ]
    },
    {
     "name": "stdout",
     "output_type": "stream",
     "text": [
      "===posible caso: 60084 NVDA\n",
      "===posible caso: 60115 NVDA\n",
      "h3\n",
      "h4\n",
      "h3\n",
      "h4\n",
      "h3\n",
      "h4\n",
      "h3\n",
      "h4\n",
      "60115 NVDA\n",
      "===posible caso: 60145 NVDA\n"
     ]
    },
    {
     "name": "stdout",
     "output_type": "stream",
     "text": [
      "h3\n",
      "h4\n",
      "h3\n",
      "h4\n",
      "h3\n",
      "h4\n",
      "h3\n",
      "h4\n",
      "60145 NVDA\n",
      "===posible caso: 60199 WMT\n",
      "h1\n",
      "60199 WMT\n",
      "===posible caso: 60252 WMT\n"
     ]
    },
    {
     "name": "stdout",
     "output_type": "stream",
     "text": [
      "h1\n",
      "60252 WMT\n",
      "===posible caso: 60282 WMT\n",
      "h1\n",
      "60282 WMT\n",
      "===posible caso: 60367 WMT\n"
     ]
    },
    {
     "name": "stdout",
     "output_type": "stream",
     "text": [
      "h1\n",
      "60367 WMT\n",
      "===posible caso: 60422 WMT\n",
      "===posible caso: 60439 WMT\n"
     ]
    },
    {
     "name": "stdout",
     "output_type": "stream",
     "text": [
      "===posible caso: 60538 WMT\n",
      "h1\n",
      "60538 WMT\n",
      "===posible caso: 60602 WMT\n"
     ]
    },
    {
     "name": "stdout",
     "output_type": "stream",
     "text": [
      "h1\n",
      "60602 WMT\n",
      "===posible caso: 60769 WMT\n",
      "h1\n",
      "60769 WMT\n",
      "===posible caso: 60801 WMT\n",
      "===posible caso: 60846 WMT\n",
      "===posible caso: 60866 WMT\n"
     ]
    },
    {
     "name": "stdout",
     "output_type": "stream",
     "text": [
      "h1\n",
      "60866 WMT\n",
      "===posible caso: 60911 WMT\n",
      "===posible caso: 60960 WMT\n"
     ]
    },
    {
     "name": "stdout",
     "output_type": "stream",
     "text": [
      "===posible caso: 61127 WMT\n",
      "===posible caso: 61200 WMT\n"
     ]
    },
    {
     "name": "stdout",
     "output_type": "stream",
     "text": [
      "===posible caso: 61276 WMT\n",
      "===posible caso: 61300 WMT\n"
     ]
    },
    {
     "name": "stdout",
     "output_type": "stream",
     "text": [
      "===posible caso: 61320 WMT\n",
      "h1\n",
      "61320 WMT\n",
      "===posible caso: 61349 WMT\n"
     ]
    },
    {
     "name": "stdout",
     "output_type": "stream",
     "text": [
      "===posible caso: 61379 WMT\n",
      "h1\n",
      "61379 WMT\n",
      "===posible caso: 61436 WMT\n"
     ]
    },
    {
     "name": "stdout",
     "output_type": "stream",
     "text": [
      "h1\n",
      "61436 WMT\n",
      "===posible caso: 61459 WMT\n",
      "h1\n",
      "61459 WMT\n",
      "===posible caso: 61574 WMT\n"
     ]
    },
    {
     "name": "stdout",
     "output_type": "stream",
     "text": [
      "===posible caso: 61674 WMT\n",
      "===posible caso: 61734 WMT\n",
      "h1\n",
      "61734 WMT\n",
      "===posible caso: 61755 WMT\n"
     ]
    },
    {
     "name": "stdout",
     "output_type": "stream",
     "text": [
      "h1\n",
      "61755 WMT\n",
      "===posible caso: 61818 WMT\n",
      "===posible caso: 61877 WMT\n"
     ]
    },
    {
     "name": "stdout",
     "output_type": "stream",
     "text": [
      "h1\n",
      "61877 WMT\n",
      "===posible caso: 61952 WMT\n",
      "===posible caso: 62030 WMT\n"
     ]
    },
    {
     "name": "stdout",
     "output_type": "stream",
     "text": [
      "===posible caso: 62074 WMT\n",
      "===posible caso: 62160 WMT\n",
      "===posible caso: 62189 WMT\n"
     ]
    },
    {
     "name": "stdout",
     "output_type": "stream",
     "text": [
      "===posible caso: 62291 WMT\n",
      "===posible caso: 62407 WMT\n"
     ]
    },
    {
     "name": "stdout",
     "output_type": "stream",
     "text": [
      "===posible caso: 62454 WMT\n",
      "h1\n",
      "62454 WMT\n",
      "===posible caso: 62548 WMT\n",
      "===posible caso: 62627 WMT\n"
     ]
    },
    {
     "name": "stdout",
     "output_type": "stream",
     "text": [
      "===posible caso: 62652 WMT\n",
      "===posible caso: 62755 WMT\n"
     ]
    },
    {
     "name": "stdout",
     "output_type": "stream",
     "text": [
      "===posible caso: 62799 WMT\n",
      "h1\n",
      "62799 WMT\n",
      "===posible caso: 62848 WMT\n"
     ]
    },
    {
     "name": "stdout",
     "output_type": "stream",
     "text": [
      "===posible caso: 62909 WMT\n",
      "h1\n",
      "62909 WMT\n",
      "===posible caso: 62948 WMT\n"
     ]
    },
    {
     "name": "stdout",
     "output_type": "stream",
     "text": [
      "h2\n",
      "h4\n",
      "h1\n",
      "62948 WMT\n",
      "===posible caso: 63072 WMT\n",
      "h1\n",
      "63072 WMT\n",
      "===posible caso: 63122 WMT\n"
     ]
    },
    {
     "name": "stdout",
     "output_type": "stream",
     "text": [
      "h2\n",
      "h4\n",
      "h1\n",
      "63122 WMT\n",
      "===posible caso: 63143 WMT\n",
      "===posible caso: 63300 WMT\n"
     ]
    },
    {
     "name": "stdout",
     "output_type": "stream",
     "text": [
      "===posible caso: 63360 WMT\n",
      "h1\n",
      "63360 WMT\n",
      "===posible caso: 63395 WMT\n",
      "===posible caso: 63453 WMT\n"
     ]
    },
    {
     "name": "stdout",
     "output_type": "stream",
     "text": [
      "===posible caso: 63600 WMT\n",
      "h1\n",
      "63600 WMT\n",
      "===posible caso: 63635 WMT\n"
     ]
    },
    {
     "name": "stdout",
     "output_type": "stream",
     "text": [
      "h1\n",
      "63635 WMT\n",
      "===posible caso: 63769 BA\n",
      "===posible caso: 63798 BA\n",
      "===posible caso: 63818 BA\n"
     ]
    },
    {
     "name": "stdout",
     "output_type": "stream",
     "text": [
      "===posible caso: 63919 BA\n",
      "h1\n",
      "63919 BA\n",
      "===posible caso: 63966 BA\n"
     ]
    },
    {
     "name": "stdout",
     "output_type": "stream",
     "text": [
      "h1\n",
      "63966 BA\n",
      "===posible caso: 64065 BA\n",
      "===posible caso: 64267 BA\n",
      "===posible caso: 64303 BA\n",
      "h1\n",
      "64303 BA\n",
      "===posible caso: 64338 BA\n",
      "===posible caso: 64386 BA\n"
     ]
    },
    {
     "name": "stdout",
     "output_type": "stream",
     "text": [
      "===posible caso: 64442 BA\n",
      "===posible caso: 64518 BA\n"
     ]
    },
    {
     "name": "stdout",
     "output_type": "stream",
     "text": [
      "===posible caso: 64587 BA\n",
      "===posible caso: 64610 BA\n"
     ]
    },
    {
     "name": "stdout",
     "output_type": "stream",
     "text": [
      "h1\n",
      "64610 BA\n",
      "===posible caso: 64680 BA\n",
      "===posible caso: 64764 BA\n"
     ]
    },
    {
     "name": "stdout",
     "output_type": "stream",
     "text": [
      "h1\n",
      "64764 BA\n",
      "===posible caso: 64877 BA\n",
      "h1\n",
      "64877 BA\n",
      "===posible caso: 65016 BA\n",
      "===posible caso: 65056 BA\n"
     ]
    },
    {
     "name": "stdout",
     "output_type": "stream",
     "text": [
      "===posible caso: 65080 BA\n",
      "===posible caso: 65180 BA\n",
      "===posible caso: 65261 BA\n"
     ]
    },
    {
     "name": "stdout",
     "output_type": "stream",
     "text": [
      "===posible caso: 65329 BA\n",
      "===posible caso: 65417 BA\n"
     ]
    },
    {
     "name": "stdout",
     "output_type": "stream",
     "text": [
      "h1\n",
      "65417 BA\n",
      "===posible caso: 65525 BA\n",
      "===posible caso: 65547 BA\n"
     ]
    },
    {
     "name": "stdout",
     "output_type": "stream",
     "text": [
      "h1\n",
      "65547 BA\n",
      "===posible caso: 65569 BA\n",
      "h1\n",
      "65569 BA\n",
      "===posible caso: 65603 BA\n",
      "===posible caso: 65647 BA\n"
     ]
    },
    {
     "name": "stdout",
     "output_type": "stream",
     "text": [
      "===posible caso: 65669 BA\n",
      "h1\n",
      "65669 BA\n",
      "===posible caso: 65755 BA\n"
     ]
    },
    {
     "name": "stdout",
     "output_type": "stream",
     "text": [
      "===posible caso: 65855 BA\n",
      "===posible caso: 65929 BA\n",
      "===posible caso: 65954 BA\n",
      "===posible caso: 66065 BA\n"
     ]
    },
    {
     "name": "stdout",
     "output_type": "stream",
     "text": [
      "===posible caso: 66167 BA\n",
      "h1\n",
      "66167 BA\n",
      "===posible caso: 66265 BA\n"
     ]
    },
    {
     "name": "stdout",
     "output_type": "stream",
     "text": [
      "h1\n",
      "66265 BA\n",
      "===posible caso: 66380 BA\n",
      "===posible caso: 66432 BA\n",
      "===posible caso: 66519 BA\n"
     ]
    },
    {
     "name": "stdout",
     "output_type": "stream",
     "text": [
      "h1\n",
      "66519 BA\n",
      "===posible caso: 66575 BA\n",
      "h1\n",
      "66575 BA\n",
      "===posible caso: 66617 BA\n"
     ]
    },
    {
     "name": "stdout",
     "output_type": "stream",
     "text": [
      "===posible caso: 66649 BA\n",
      "h1\n",
      "66649 BA\n",
      "===posible caso: 66890 BA\n"
     ]
    },
    {
     "name": "stdout",
     "output_type": "stream",
     "text": [
      "h1\n",
      "66890 BA\n",
      "===posible caso: 66915 BA\n",
      "h2\n",
      "h4\n",
      "h1\n",
      "66915 BA\n",
      "===posible caso: 66953 BA\n"
     ]
    },
    {
     "name": "stdout",
     "output_type": "stream",
     "text": [
      "h1\n",
      "66953 BA\n",
      "===posible caso: 66984 BA\n",
      "===posible caso: 67046 BA\n"
     ]
    },
    {
     "name": "stdout",
     "output_type": "stream",
     "text": [
      "===posible caso: 67066 BA\n",
      "===posible caso: 67107 BA\n"
     ]
    },
    {
     "name": "stdout",
     "output_type": "stream",
     "text": [
      "===posible caso: 67131 BA\n",
      "h1\n",
      "67131 BA\n",
      "===posible caso: 67203 BA\n",
      "===posible caso: 67320 DIS\n"
     ]
    },
    {
     "name": "stdout",
     "output_type": "stream",
     "text": [
      "===posible caso: 67368 DIS\n",
      "===posible caso: 67413 DIS\n",
      "===posible caso: 67455 DIS\n"
     ]
    },
    {
     "name": "stdout",
     "output_type": "stream",
     "text": [
      "===posible caso: 67507 DIS\n",
      "===posible caso: 67678 DIS\n"
     ]
    },
    {
     "name": "stdout",
     "output_type": "stream",
     "text": [
      "===posible caso: 67709 DIS\n",
      "h1\n",
      "67709 DIS\n",
      "===posible caso: 67761 DIS\n"
     ]
    },
    {
     "name": "stdout",
     "output_type": "stream",
     "text": [
      "h1\n",
      "67761 DIS\n",
      "===posible caso: 67802 DIS\n",
      "h1\n",
      "67802 DIS\n",
      "===posible caso: 67834 DIS\n",
      "===posible caso: 67927 DIS\n"
     ]
    },
    {
     "name": "stdout",
     "output_type": "stream",
     "text": [
      "===posible caso: 67953 DIS\n",
      "h2\n",
      "h4\n",
      "h1\n",
      "67953 DIS\n",
      "===posible caso: 68021 DIS\n"
     ]
    },
    {
     "name": "stdout",
     "output_type": "stream",
     "text": [
      "===posible caso: 68143 DIS\n",
      "h1\n",
      "68143 DIS\n",
      "===posible caso: 68203 DIS\n",
      "===posible caso: 68225 DIS\n"
     ]
    },
    {
     "name": "stdout",
     "output_type": "stream",
     "text": [
      "===posible caso: 68261 DIS\n",
      "===posible caso: 68288 DIS\n",
      "h1\n",
      "68288 DIS\n",
      "===posible caso: 68324 DIS\n"
     ]
    },
    {
     "name": "stdout",
     "output_type": "stream",
     "text": [
      "===posible caso: 68377 DIS\n",
      "===posible caso: 68415 DIS\n"
     ]
    },
    {
     "name": "stdout",
     "output_type": "stream",
     "text": [
      "===posible caso: 68496 DIS\n",
      "===posible caso: 68535 DIS\n",
      "===posible caso: 68613 DIS\n"
     ]
    },
    {
     "name": "stdout",
     "output_type": "stream",
     "text": [
      "h1\n",
      "68613 DIS\n",
      "===posible caso: 68631 DIS\n",
      "h1\n",
      "68631 DIS\n",
      "===posible caso: 68798 DIS\n"
     ]
    },
    {
     "name": "stdout",
     "output_type": "stream",
     "text": [
      "h1\n",
      "68798 DIS\n",
      "===posible caso: 68901 DIS\n",
      "===posible caso: 68926 DIS\n",
      "===posible caso: 69026 DIS\n"
     ]
    },
    {
     "name": "stdout",
     "output_type": "stream",
     "text": [
      "h1\n",
      "69026 DIS\n",
      "===posible caso: 69076 DIS\n",
      "===posible caso: 69131 DIS\n"
     ]
    },
    {
     "name": "stdout",
     "output_type": "stream",
     "text": [
      "===posible caso: 69204 DIS\n",
      "===posible caso: 69236 DIS\n",
      "===posible caso: 69258 DIS\n",
      "===posible caso: 69299 DIS\n"
     ]
    },
    {
     "name": "stdout",
     "output_type": "stream",
     "text": [
      "h1\n",
      "69299 DIS\n",
      "===posible caso: 69335 DIS\n",
      "h1\n",
      "69335 DIS\n",
      "===posible caso: 69448 DIS\n"
     ]
    },
    {
     "name": "stdout",
     "output_type": "stream",
     "text": [
      "h1\n",
      "69448 DIS\n",
      "===posible caso: 69491 DIS\n",
      "===posible caso: 69598 DIS\n",
      "===posible caso: 69741 DIS\n"
     ]
    },
    {
     "name": "stdout",
     "output_type": "stream",
     "text": [
      "===posible caso: 69794 DIS\n",
      "===posible caso: 69830 DIS\n"
     ]
    },
    {
     "name": "stdout",
     "output_type": "stream",
     "text": [
      "===posible caso: 69863 DIS\n",
      "===posible caso: 69885 DIS\n",
      "===posible caso: 69960 DIS\n",
      "h1\n",
      "69960 DIS\n",
      "===posible caso: 70000 DIS\n",
      "===posible caso: 70065 DIS\n"
     ]
    },
    {
     "name": "stdout",
     "output_type": "stream",
     "text": [
      "===posible caso: 70162 DIS\n",
      "===posible caso: 70217 DIS\n"
     ]
    },
    {
     "name": "stdout",
     "output_type": "stream",
     "text": [
      "===posible caso: 70302 DIS\n",
      "===posible caso: 70335 DIS\n",
      "===posible caso: 70501 DIS\n",
      "h1\n",
      "70501 DIS\n",
      "===posible caso: 70522 DIS\n"
     ]
    },
    {
     "name": "stdout",
     "output_type": "stream",
     "text": [
      "===posible caso: 70594 DIS\n",
      "===posible caso: 70667 DIS\n"
     ]
    },
    {
     "name": "stdout",
     "output_type": "stream",
     "text": [
      "h1\n",
      "70667 DIS\n",
      "===posible caso: 70694 DIS\n",
      "===posible caso: 70744 DIS\n"
     ]
    },
    {
     "name": "stdout",
     "output_type": "stream",
     "text": [
      "===posible caso: 70857 CAT\n",
      "===posible caso: 70893 CAT\n",
      "===posible caso: 70926 CAT\n"
     ]
    },
    {
     "name": "stdout",
     "output_type": "stream",
     "text": [
      "h1\n",
      "70926 CAT\n",
      "===posible caso: 70998 CAT\n",
      "===posible caso: 71158 CAT\n"
     ]
    },
    {
     "name": "stdout",
     "output_type": "stream",
     "text": [
      "===posible caso: 71194 CAT\n",
      "===posible caso: 71236 CAT\n",
      "===posible caso: 71336 CAT\n",
      "===posible caso: 71535 CAT\n"
     ]
    },
    {
     "name": "stdout",
     "output_type": "stream",
     "text": [
      "===posible caso: 71594 CAT\n",
      "===posible caso: 71682 CAT\n"
     ]
    },
    {
     "name": "stdout",
     "output_type": "stream",
     "text": [
      "h1\n",
      "71682 CAT\n",
      "===posible caso: 71708 CAT\n",
      "===posible caso: 71777 CAT\n"
     ]
    },
    {
     "name": "stdout",
     "output_type": "stream",
     "text": [
      "h1\n",
      "71777 CAT\n",
      "===posible caso: 71904 CAT\n",
      "===posible caso: 72026 CAT\n"
     ]
    },
    {
     "name": "stdout",
     "output_type": "stream",
     "text": [
      "h1\n",
      "72026 CAT\n",
      "===posible caso: 72051 CAT\n",
      "===posible caso: 72120 CAT\n"
     ]
    },
    {
     "name": "stdout",
     "output_type": "stream",
     "text": [
      "===posible caso: 72154 CAT\n",
      "===posible caso: 72179 CAT\n",
      "h2\n",
      "h4\n",
      "h1\n",
      "72179 CAT\n",
      "===posible caso: 72248 CAT\n",
      "===posible caso: 72275 CAT\n",
      "===posible caso: 72299 CAT\n"
     ]
    },
    {
     "name": "stdout",
     "output_type": "stream",
     "text": [
      "===posible caso: 72382 CAT\n",
      "===posible caso: 72492 CAT\n",
      "===posible caso: 72513 CAT\n"
     ]
    },
    {
     "name": "stdout",
     "output_type": "stream",
     "text": [
      "===posible caso: 72563 CAT\n",
      "===posible caso: 72596 CAT\n",
      "===posible caso: 72613 CAT\n"
     ]
    },
    {
     "name": "stdout",
     "output_type": "stream",
     "text": [
      "===posible caso: 72677 CAT\n",
      "h1\n",
      "72677 CAT\n",
      "===posible caso: 72742 CAT\n"
     ]
    },
    {
     "name": "stdout",
     "output_type": "stream",
     "text": [
      "===posible caso: 72819 CAT\n",
      "===posible caso: 72866 CAT\n"
     ]
    },
    {
     "name": "stdout",
     "output_type": "stream",
     "text": [
      "h1\n",
      "72866 CAT\n",
      "===posible caso: 72900 CAT\n",
      "===posible caso: 72932 CAT\n",
      "===posible caso: 72988 CAT\n"
     ]
    },
    {
     "name": "stdout",
     "output_type": "stream",
     "text": [
      "===posible caso: 73028 CAT\n",
      "h1\n",
      "73028 CAT\n",
      "===posible caso: 73045 CAT\n"
     ]
    },
    {
     "name": "stdout",
     "output_type": "stream",
     "text": [
      "===posible caso: 73070 CAT\n",
      "===posible caso: 73128 CAT\n"
     ]
    },
    {
     "name": "stdout",
     "output_type": "stream",
     "text": [
      "===posible caso: 73226 CAT\n",
      "===posible caso: 73336 CAT\n",
      "===posible caso: 73459 CAT\n"
     ]
    },
    {
     "name": "stdout",
     "output_type": "stream",
     "text": [
      "===posible caso: 73581 CAT\n",
      "h1\n",
      "73581 CAT\n",
      "===posible caso: 73733 CAT\n",
      "===posible caso: 73787 CAT\n",
      "===posible caso: 73873 CAT\n",
      "===posible caso: 73911 CAT\n"
     ]
    },
    {
     "name": "stdout",
     "output_type": "stream",
     "text": [
      "===posible caso: 73964 CAT\n",
      "h1\n",
      "73964 CAT\n",
      "===posible caso: 74027 CAT\n"
     ]
    },
    {
     "name": "stdout",
     "output_type": "stream",
     "text": [
      "===posible caso: 74064 CAT\n",
      "h1\n",
      "74064 CAT\n",
      "===posible caso: 74106 CAT\n"
     ]
    },
    {
     "name": "stdout",
     "output_type": "stream",
     "text": [
      "h1\n",
      "74106 CAT\n",
      "===posible caso: 74130 CAT\n",
      "===posible caso: 74189 CAT\n"
     ]
    },
    {
     "name": "stdout",
     "output_type": "stream",
     "text": [
      "===posible caso: 74246 CAT\n",
      "===posible caso: 74272 CAT\n",
      "===posible caso: 74294 CAT\n",
      "===posible caso: 74400 IBM\n"
     ]
    },
    {
     "name": "stdout",
     "output_type": "stream",
     "text": [
      "===posible caso: 74438 IBM\n",
      "===posible caso: 74558 IBM\n",
      "===posible caso: 74611 IBM\n",
      "===posible caso: 74697 IBM\n"
     ]
    },
    {
     "name": "stdout",
     "output_type": "stream",
     "text": [
      "h1\n",
      "74697 IBM\n",
      "===posible caso: 74717 IBM\n",
      "===posible caso: 74871 IBM\n"
     ]
    },
    {
     "name": "stdout",
     "output_type": "stream",
     "text": [
      "h1\n",
      "74871 IBM\n",
      "===posible caso: 74907 IBM\n",
      "===posible caso: 74959 IBM\n",
      "===posible caso: 75003 IBM\n"
     ]
    },
    {
     "name": "stdout",
     "output_type": "stream",
     "text": [
      "===posible caso: 75132 IBM\n",
      "===posible caso: 75175 IBM\n"
     ]
    },
    {
     "name": "stdout",
     "output_type": "stream",
     "text": [
      "===posible caso: 75256 IBM\n",
      "h1\n",
      "75256 IBM\n",
      "===posible caso: 75378 IBM\n"
     ]
    },
    {
     "name": "stdout",
     "output_type": "stream",
     "text": [
      "===posible caso: 75404 IBM\n",
      "===posible caso: 75576 IBM\n"
     ]
    },
    {
     "name": "stdout",
     "output_type": "stream",
     "text": [
      "===posible caso: 75774 IBM\n",
      "===posible caso: 75886 IBM\n",
      "===posible caso: 75953 IBM\n"
     ]
    },
    {
     "name": "stdout",
     "output_type": "stream",
     "text": [
      "===posible caso: 76031 IBM\n",
      "h1\n",
      "76031 IBM\n",
      "===posible caso: 76098 IBM\n"
     ]
    },
    {
     "name": "stdout",
     "output_type": "stream",
     "text": [
      "===posible caso: 76144 IBM\n",
      "===posible caso: 76213 IBM\n",
      "===posible caso: 76251 IBM\n",
      "===posible caso: 76278 IBM\n"
     ]
    },
    {
     "name": "stdout",
     "output_type": "stream",
     "text": [
      "h1\n",
      "76278 IBM\n",
      "===posible caso: 76324 IBM\n",
      "===posible caso: 76450 IBM\n",
      "===posible caso: 76502 IBM\n"
     ]
    },
    {
     "name": "stdout",
     "output_type": "stream",
     "text": [
      "===posible caso: 76563 IBM\n",
      "h1\n",
      "76563 IBM\n",
      "===posible caso: 76624 IBM\n"
     ]
    },
    {
     "name": "stdout",
     "output_type": "stream",
     "text": [
      "h1\n",
      "76624 IBM\n",
      "===posible caso: 76647 IBM\n",
      "h1\n",
      "76647 IBM\n",
      "===posible caso: 76689 IBM\n"
     ]
    },
    {
     "name": "stdout",
     "output_type": "stream",
     "text": [
      "===posible caso: 76741 IBM\n",
      "===posible caso: 76774 IBM\n",
      "h1\n",
      "76774 IBM\n",
      "===posible caso: 76863 IBM\n"
     ]
    },
    {
     "name": "stdout",
     "output_type": "stream",
     "text": [
      "h1\n",
      "76863 IBM\n",
      "===posible caso: 76904 IBM\n",
      "===posible caso: 76933 IBM\n"
     ]
    },
    {
     "name": "stdout",
     "output_type": "stream",
     "text": [
      "h1\n",
      "76933 IBM\n",
      "===posible caso: 76974 IBM\n",
      "===posible caso: 77039 IBM\n",
      "h1\n",
      "77039 IBM\n",
      "===posible caso: 77094 IBM\n"
     ]
    },
    {
     "name": "stdout",
     "output_type": "stream",
     "text": [
      "===posible caso: 77115 IBM\n",
      "h1\n",
      "77115 IBM\n",
      "===posible caso: 77143 IBM\n"
     ]
    },
    {
     "name": "stdout",
     "output_type": "stream",
     "text": [
      "===posible caso: 77170 IBM\n",
      "h1\n",
      "77170 IBM\n",
      "===posible caso: 77246 IBM\n"
     ]
    },
    {
     "name": "stdout",
     "output_type": "stream",
     "text": [
      "===posible caso: 77302 IBM\n",
      "h1\n",
      "77302 IBM\n",
      "===posible caso: 77325 IBM\n"
     ]
    },
    {
     "name": "stdout",
     "output_type": "stream",
     "text": [
      "h1\n",
      "77325 IBM\n",
      "===posible caso: 77409 IBM\n",
      "===posible caso: 77515 IBM\n",
      "===posible caso: 77622 IBM\n"
     ]
    },
    {
     "name": "stdout",
     "output_type": "stream",
     "text": [
      "h1\n",
      "77622 IBM\n",
      "===posible caso: 77671 IBM\n",
      "===posible caso: 77750 IBM\n",
      "===posible caso: 77782 IBM\n"
     ]
    },
    {
     "name": "stdout",
     "output_type": "stream",
     "text": [
      "===posible caso: 77834 IBM\n",
      "===posible caso: 77935 WFC\n"
     ]
    },
    {
     "name": "stdout",
     "output_type": "stream",
     "text": [
      "h1\n",
      "77935 WFC\n",
      "===posible caso: 78013 WFC\n",
      "h1\n",
      "78013 WFC\n",
      "===posible caso: 78309 WFC\n"
     ]
    },
    {
     "name": "stdout",
     "output_type": "stream",
     "text": [
      "h1\n",
      "78309 WFC\n",
      "===posible caso: 78358 WFC\n",
      "===posible caso: 78406 WFC\n",
      "h2\n",
      "h4\n",
      "h1\n",
      "78406 WFC\n",
      "===posible caso: 78443 WFC\n"
     ]
    },
    {
     "name": "stdout",
     "output_type": "stream",
     "text": [
      "h1\n",
      "78443 WFC\n",
      "===posible caso: 78494 WFC\n",
      "===posible caso: 78536 WFC\n",
      "h1\n",
      "78536 WFC\n",
      "===posible caso: 78608 WFC\n"
     ]
    },
    {
     "name": "stdout",
     "output_type": "stream",
     "text": [
      "===posible caso: 78671 WFC\n",
      "h1\n",
      "78671 WFC\n",
      "===posible caso: 78733 WFC\n"
     ]
    },
    {
     "name": "stdout",
     "output_type": "stream",
     "text": [
      "===posible caso: 79023 WFC\n",
      "===posible caso: 79116 WFC\n"
     ]
    },
    {
     "name": "stdout",
     "output_type": "stream",
     "text": [
      "===posible caso: 79144 WFC\n",
      "===posible caso: 79249 WFC\n",
      "===posible caso: 79341 WFC\n"
     ]
    },
    {
     "name": "stdout",
     "output_type": "stream",
     "text": [
      "h1\n",
      "79341 WFC\n",
      "===posible caso: 79458 WFC\n",
      "h1\n",
      "79458 WFC\n",
      "===posible caso: 79535 WFC\n"
     ]
    },
    {
     "name": "stdout",
     "output_type": "stream",
     "text": [
      "===posible caso: 79634 WFC\n",
      "===posible caso: 79682 WFC\n"
     ]
    },
    {
     "name": "stdout",
     "output_type": "stream",
     "text": [
      "h1\n",
      "79682 WFC\n",
      "===posible caso: 79718 WFC\n",
      "===posible caso: 79747 WFC\n",
      "===posible caso: 79784 WFC\n",
      "===posible caso: 79805 WFC\n"
     ]
    },
    {
     "name": "stdout",
     "output_type": "stream",
     "text": [
      "===posible caso: 79854 WFC\n",
      "===posible caso: 79910 WFC\n"
     ]
    },
    {
     "name": "stdout",
     "output_type": "stream",
     "text": [
      "===posible caso: 79932 WFC\n",
      "===posible caso: 79976 WFC\n"
     ]
    },
    {
     "name": "stdout",
     "output_type": "stream",
     "text": [
      "===posible caso: 80070 WFC\n",
      "h1\n",
      "80070 WFC\n",
      "===posible caso: 80112 WFC\n"
     ]
    },
    {
     "name": "stdout",
     "output_type": "stream",
     "text": [
      "===posible caso: 80200 WFC\n",
      "===posible caso: 80260 WFC\n"
     ]
    },
    {
     "name": "stdout",
     "output_type": "stream",
     "text": [
      "===posible caso: 80331 WFC\n",
      "h1\n",
      "80331 WFC\n",
      "===posible caso: 80353 WFC\n"
     ]
    },
    {
     "name": "stdout",
     "output_type": "stream",
     "text": [
      "h1\n",
      "80353 WFC\n",
      "===posible caso: 80397 WFC\n",
      "h1\n",
      "80397 WFC\n",
      "===posible caso: 80485 WFC\n",
      "===posible caso: 80531 WFC\n"
     ]
    },
    {
     "name": "stdout",
     "output_type": "stream",
     "text": [
      "===posible caso: 80569 WFC\n",
      "===posible caso: 80631 WFC\n"
     ]
    },
    {
     "name": "stdout",
     "output_type": "stream",
     "text": [
      "===posible caso: 80720 WFC\n",
      "===posible caso: 80768 WFC\n"
     ]
    },
    {
     "name": "stdout",
     "output_type": "stream",
     "text": [
      "===posible caso: 80826 WFC\n",
      "===posible caso: 80945 WFC\n"
     ]
    },
    {
     "name": "stdout",
     "output_type": "stream",
     "text": [
      "h1\n",
      "80945 WFC\n",
      "===posible caso: 81019 WFC\n",
      "h1\n",
      "81019 WFC\n",
      "===posible caso: 81136 WFC\n"
     ]
    },
    {
     "name": "stdout",
     "output_type": "stream",
     "text": [
      "h1\n",
      "81136 WFC\n",
      "===posible caso: 81281 WFC\n",
      "===posible caso: 81470 PLTR\n"
     ]
    },
    {
     "name": "stdout",
     "output_type": "stream",
     "text": [
      "===posible caso: 81535 PLTR\n",
      "===posible caso: 81602 PLTR\n"
     ]
    },
    {
     "name": "stdout",
     "output_type": "stream",
     "text": [
      "===posible caso: 81667 PLTR\n",
      "===posible caso: 81751 PLTR\n",
      "===posible caso: 81770 PLTR\n"
     ]
    },
    {
     "name": "stdout",
     "output_type": "stream",
     "text": [
      "h1\n",
      "81770 PLTR\n",
      "===posible caso: 81795 PLTR\n",
      "===posible caso: 81821 PLTR\n"
     ]
    },
    {
     "name": "stdout",
     "output_type": "stream",
     "text": [
      "h1\n",
      "81821 PLTR\n",
      "===posible caso: 81894 PLTR\n",
      "===posible caso: 81941 PLTR\n",
      "h1\n",
      "81941 PLTR\n",
      "===posible caso: 81957 PLTR\n"
     ]
    },
    {
     "name": "stdout",
     "output_type": "stream",
     "text": [
      "===posible caso: 82081 PLTR\n",
      "h1\n",
      "82081 PLTR\n",
      "===posible caso: 82148 PLTR\n"
     ]
    },
    {
     "name": "stdout",
     "output_type": "stream",
     "text": [
      "h1\n",
      "82148 PLTR\n",
      "===posible caso: 82202 PLTR\n",
      "===posible caso: 82266 PLTR\n"
     ]
    },
    {
     "name": "stdout",
     "output_type": "stream",
     "text": [
      "h1\n",
      "82266 PLTR\n",
      "===posible caso: 82382 PLTR\n",
      "===posible caso: 82533 PLTR\n",
      "===posible caso: 82559 PLTR\n"
     ]
    },
    {
     "name": "stdout",
     "output_type": "stream",
     "text": [
      "===posible caso: 82622 PLTR\n",
      "===posible caso: 82658 PLTR\n",
      "===posible caso: 82744 PLTR\n"
     ]
    },
    {
     "name": "stdout",
     "output_type": "stream",
     "text": [
      "h1\n",
      "82744 PLTR\n",
      "===posible caso: 82826 PLTR\n",
      "===posible caso: 82875 PLTR\n",
      "===posible caso: 82903 PLTR\n"
     ]
    },
    {
     "name": "stdout",
     "output_type": "stream",
     "text": [
      "===posible caso: 82944 PLTR\n",
      "===posible caso: 83002 PLTR\n"
     ]
    },
    {
     "name": "stdout",
     "output_type": "stream",
     "text": [
      "h1\n",
      "83002 PLTR\n",
      "===posible caso: 83060 PLTR\n",
      "===posible caso: 83121 PLTR\n",
      "h1\n",
      "83121 PLTR\n",
      "===posible caso: 83155 PLTR\n"
     ]
    },
    {
     "name": "stdout",
     "output_type": "stream",
     "text": [
      "h1\n",
      "83155 PLTR\n",
      "===posible caso: 83264 PLTR\n",
      "===posible caso: 83284 PLTR\n"
     ]
    },
    {
     "name": "stdout",
     "output_type": "stream",
     "text": [
      "===posible caso: 83333 PLTR\n",
      "===posible caso: 83433 PLTR\n"
     ]
    },
    {
     "name": "stdout",
     "output_type": "stream",
     "text": [
      "===posible caso: 83459 PLTR\n",
      "h1\n",
      "83459 PLTR\n",
      "===posible caso: 83610 PLTR\n"
     ]
    },
    {
     "name": "stdout",
     "output_type": "stream",
     "text": [
      "h1\n",
      "83610 PLTR\n",
      "===posible caso: 83628 PLTR\n",
      "===posible caso: 83711 PLTR\n"
     ]
    },
    {
     "name": "stdout",
     "output_type": "stream",
     "text": [
      "===posible caso: 83774 PLTR\n",
      "===posible caso: 83885 PLTR\n"
     ]
    },
    {
     "name": "stdout",
     "output_type": "stream",
     "text": [
      "===posible caso: 83977 PLTR\n",
      "h1\n",
      "83977 PLTR\n",
      "===posible caso: 84057 PLTR\n"
     ]
    },
    {
     "name": "stdout",
     "output_type": "stream",
     "text": [
      "===posible caso: 84186 PLTR\n",
      "h1\n",
      "84186 PLTR\n",
      "===posible caso: 84306 PLTR\n"
     ]
    },
    {
     "name": "stdout",
     "output_type": "stream",
     "text": [
      "h1\n",
      "84306 PLTR\n",
      "===posible caso: 84436 PLTR\n",
      "===posible caso: 84472 PLTR\n"
     ]
    },
    {
     "name": "stdout",
     "output_type": "stream",
     "text": [
      "===posible caso: 84517 PLTR\n",
      "===posible caso: 84583 PLTR\n"
     ]
    },
    {
     "name": "stdout",
     "output_type": "stream",
     "text": [
      "===posible caso: 84671 PLTR\n",
      "h1\n",
      "84671 PLTR\n",
      "===posible caso: 84714 PLTR\n"
     ]
    },
    {
     "name": "stdout",
     "output_type": "stream",
     "text": [
      "===posible caso: 84814 PLTR\n",
      "===posible caso: 84838 PLTR\n"
     ]
    },
    {
     "name": "stdout",
     "output_type": "stream",
     "text": [
      "h1\n",
      "84838 PLTR\n",
      "===posible caso: 84902 PLTR\n",
      "===posible caso: 85002 AMD\n"
     ]
    },
    {
     "name": "stdout",
     "output_type": "stream",
     "text": [
      "===posible caso: 85019 AMD\n",
      "h1\n",
      "85019 AMD\n",
      "===posible caso: 85051 AMD\n",
      "===posible caso: 85140 AMD\n"
     ]
    },
    {
     "name": "stdout",
     "output_type": "stream",
     "text": [
      "h1\n",
      "85140 AMD\n",
      "===posible caso: 85252 AMD\n",
      "===posible caso: 85307 AMD\n",
      "===posible caso: 85424 AMD\n",
      "===posible caso: 85493 AMD\n"
     ]
    },
    {
     "name": "stdout",
     "output_type": "stream",
     "text": [
      "h1\n",
      "85493 AMD\n",
      "===posible caso: 85654 AMD\n",
      "h1\n",
      "85654 AMD\n",
      "===posible caso: 85697 AMD\n"
     ]
    },
    {
     "name": "stdout",
     "output_type": "stream",
     "text": [
      "===posible caso: 85719 AMD\n",
      "h1\n",
      "85719 AMD\n",
      "===posible caso: 85796 AMD\n"
     ]
    },
    {
     "name": "stdout",
     "output_type": "stream",
     "text": [
      "h1\n",
      "85796 AMD\n",
      "===posible caso: 85817 AMD\n",
      "===posible caso: 85866 AMD\n"
     ]
    },
    {
     "name": "stdout",
     "output_type": "stream",
     "text": [
      "h1\n",
      "85866 AMD\n",
      "===posible caso: 85914 AMD\n",
      "===posible caso: 85985 AMD\n",
      "h1\n",
      "85985 AMD\n",
      "===posible caso: 86089 AMD\n"
     ]
    },
    {
     "name": "stdout",
     "output_type": "stream",
     "text": [
      "h1\n",
      "86089 AMD\n",
      "===posible caso: 86195 AMD\n",
      "h1\n",
      "86195 AMD\n",
      "===posible caso: 86304 AMD\n"
     ]
    },
    {
     "name": "stdout",
     "output_type": "stream",
     "text": [
      "h1\n",
      "86304 AMD\n",
      "===posible caso: 86348 AMD\n",
      "===posible caso: 86378 AMD\n",
      "===posible caso: 86443 AMD\n"
     ]
    },
    {
     "name": "stdout",
     "output_type": "stream",
     "text": [
      "===posible caso: 86539 AMD\n",
      "===posible caso: 86560 AMD\n"
     ]
    },
    {
     "name": "stdout",
     "output_type": "stream",
     "text": [
      "h1\n",
      "86560 AMD\n",
      "===posible caso: 86583 AMD\n",
      "h1\n",
      "86583 AMD\n",
      "===posible caso: 86639 AMD\n",
      "===posible caso: 86779 AMD\n"
     ]
    },
    {
     "name": "stdout",
     "output_type": "stream",
     "text": [
      "===posible caso: 86797 AMD\n",
      "h1\n",
      "86797 AMD\n",
      "===posible caso: 86843 AMD\n",
      "===posible caso: 86907 AMD\n",
      "===posible caso: 86982 AMD\n"
     ]
    },
    {
     "name": "stdout",
     "output_type": "stream",
     "text": [
      "===posible caso: 87044 AMD\n",
      "===posible caso: 87132 AMD\n",
      "===posible caso: 87169 AMD\n"
     ]
    },
    {
     "name": "stdout",
     "output_type": "stream",
     "text": [
      "h1\n",
      "87169 AMD\n",
      "===posible caso: 87225 AMD\n",
      "h1\n",
      "87225 AMD\n",
      "===posible caso: 87272 AMD\n",
      "===posible caso: 87289 AMD\n"
     ]
    },
    {
     "name": "stdout",
     "output_type": "stream",
     "text": [
      "===posible caso: 87330 AMD\n",
      "===posible caso: 87381 AMD\n",
      "===posible caso: 87426 AMD\n"
     ]
    },
    {
     "name": "stdout",
     "output_type": "stream",
     "text": [
      "===posible caso: 87502 AMD\n",
      "===posible caso: 87568 AMD\n",
      "===posible caso: 87642 AMD\n"
     ]
    },
    {
     "name": "stdout",
     "output_type": "stream",
     "text": [
      "===posible caso: 87710 AMD\n",
      "===posible caso: 87843 AMD\n"
     ]
    },
    {
     "name": "stdout",
     "output_type": "stream",
     "text": [
      "===posible caso: 87910 AMD\n",
      "===posible caso: 88016 AMD\n",
      "h1\n",
      "88016 AMD\n",
      "===posible caso: 88054 AMD\n",
      "===posible caso: 88117 AMD\n"
     ]
    },
    {
     "name": "stdout",
     "output_type": "stream",
     "text": [
      "h1\n",
      "88117 AMD\n",
      "===posible caso: 88167 AMD\n",
      "===posible caso: 88210 AMD\n",
      "h1\n",
      "88210 AMD\n",
      "===posible caso: 88255 AMD\n"
     ]
    },
    {
     "name": "stdout",
     "output_type": "stream",
     "text": [
      "===posible caso: 88291 AMD\n",
      "===posible caso: 88369 AMD\n",
      "===posible caso: 88437 AMD\n"
     ]
    },
    {
     "name": "stdout",
     "output_type": "stream",
     "text": [
      "h3\n",
      "h4\n",
      "h3\n",
      "h4\n",
      "h3\n",
      "h4\n",
      "h3\n",
      "h4\n",
      "88437 AMD\n",
      "===posible caso: 88539 AVGO\n",
      "h1\n",
      "88539 AVGO\n",
      "===posible caso: 88600 AVGO\n"
     ]
    },
    {
     "name": "stdout",
     "output_type": "stream",
     "text": [
      "h1\n",
      "88600 AVGO\n",
      "===posible caso: 88641 AVGO\n",
      "===posible caso: 88678 AVGO\n",
      "===posible caso: 88706 AVGO\n",
      "===posible caso: 88741 AVGO\n",
      "h1\n",
      "88741 AVGO\n",
      "===posible caso: 88789 AVGO\n"
     ]
    },
    {
     "name": "stdout",
     "output_type": "stream",
     "text": [
      "===posible caso: 88832 AVGO\n",
      "===posible caso: 88940 AVGO\n"
     ]
    },
    {
     "name": "stdout",
     "output_type": "stream",
     "text": [
      "h1\n",
      "88940 AVGO\n",
      "===posible caso: 89031 AVGO\n",
      "===posible caso: 89198 AVGO\n"
     ]
    },
    {
     "name": "stdout",
     "output_type": "stream",
     "text": [
      "h1\n",
      "89198 AVGO\n",
      "===posible caso: 89223 AVGO\n",
      "===posible caso: 89341 AVGO\n"
     ]
    },
    {
     "name": "stdout",
     "output_type": "stream",
     "text": [
      "===posible caso: 89518 AVGO\n",
      "h1\n",
      "89518 AVGO\n",
      "===posible caso: 89594 AVGO\n"
     ]
    },
    {
     "name": "stdout",
     "output_type": "stream",
     "text": [
      "===posible caso: 89631 AVGO\n",
      "h1\n",
      "89631 AVGO\n",
      "===posible caso: 89671 AVGO\n"
     ]
    },
    {
     "name": "stdout",
     "output_type": "stream",
     "text": [
      "h1\n",
      "89671 AVGO\n",
      "===posible caso: 89704 AVGO\n",
      "===posible caso: 89797 AVGO\n",
      "===posible caso: 89858 AVGO\n",
      "===posible caso: 89973 AVGO\n",
      "===posible caso: 90069 AVGO\n"
     ]
    },
    {
     "name": "stdout",
     "output_type": "stream",
     "text": [
      "h1\n",
      "90069 AVGO\n",
      "===posible caso: 90123 AVGO\n",
      "===posible caso: 90220 AVGO\n",
      "===posible caso: 90321 AVGO\n"
     ]
    },
    {
     "name": "stdout",
     "output_type": "stream",
     "text": [
      "h1\n",
      "90321 AVGO\n",
      "===posible caso: 90338 AVGO\n",
      "h1\n",
      "90338 AVGO\n",
      "===posible caso: 90533 AVGO\n"
     ]
    },
    {
     "name": "stdout",
     "output_type": "stream",
     "text": [
      "===posible caso: 90644 AVGO\n",
      "===posible caso: 90701 AVGO\n"
     ]
    },
    {
     "name": "stdout",
     "output_type": "stream",
     "text": [
      "h1\n",
      "90701 AVGO\n",
      "===posible caso: 90768 AVGO\n",
      "===posible caso: 90922 AVGO\n"
     ]
    },
    {
     "name": "stdout",
     "output_type": "stream",
     "text": [
      "===posible caso: 90982 AVGO\n",
      "===posible caso: 91050 AVGO\n",
      "===posible caso: 91093 AVGO\n"
     ]
    },
    {
     "name": "stdout",
     "output_type": "stream",
     "text": [
      "===posible caso: 91136 AVGO\n",
      "===posible caso: 91248 AVGO\n"
     ]
    },
    {
     "name": "stdout",
     "output_type": "stream",
     "text": [
      "h1\n",
      "91248 AVGO\n",
      "===posible caso: 91319 AVGO\n",
      "===posible caso: 91348 AVGO\n"
     ]
    },
    {
     "name": "stdout",
     "output_type": "stream",
     "text": [
      "h1\n",
      "91348 AVGO\n",
      "===posible caso: 91486 AVGO\n",
      "===posible caso: 91510 AVGO\n",
      "h1\n",
      "91510 AVGO\n",
      "===posible caso: 91630 AVGO\n",
      "===posible caso: 91704 AVGO\n",
      "===posible caso: 91740 AVGO\n"
     ]
    },
    {
     "name": "stdout",
     "output_type": "stream",
     "text": [
      "h1\n",
      "91740 AVGO\n",
      "===posible caso: 91802 AVGO\n",
      "===posible caso: 91908 AVGO\n"
     ]
    },
    {
     "name": "stdout",
     "output_type": "stream",
     "text": [
      "h1\n",
      "91908 AVGO\n",
      "===posible caso: 91981 AVGO\n",
      "===posible caso: 92052 HOOD\n",
      "===posible caso: 92147 HOOD\n",
      "===posible caso: 92370 HOOD\n"
     ]
    },
    {
     "name": "stdout",
     "output_type": "stream",
     "text": [
      "===posible caso: 92415 HOOD\n",
      "===posible caso: 92498 HOOD\n",
      "===posible caso: 92552 HOOD\n",
      "===posible caso: 92693 HOOD\n"
     ]
    },
    {
     "name": "stdout",
     "output_type": "stream",
     "text": [
      "===posible caso: 92728 HOOD\n",
      "===posible caso: 92758 HOOD\n",
      "h2\n",
      "h4\n",
      "h2\n",
      "h4\n",
      "h1\n",
      "92758 HOOD\n",
      "===posible caso: 92848 HOOD\n"
     ]
    },
    {
     "name": "stdout",
     "output_type": "stream",
     "text": [
      "===posible caso: 92872 HOOD\n",
      "===posible caso: 92900 HOOD\n"
     ]
    },
    {
     "name": "stdout",
     "output_type": "stream",
     "text": [
      "===posible caso: 92928 HOOD\n",
      "h1\n",
      "92928 HOOD\n",
      "===posible caso: 93172 HOOD\n"
     ]
    },
    {
     "name": "stdout",
     "output_type": "stream",
     "text": [
      "===posible caso: 93241 HOOD\n",
      "===posible caso: 93298 HOOD\n"
     ]
    },
    {
     "name": "stdout",
     "output_type": "stream",
     "text": [
      "h1\n",
      "93298 HOOD\n",
      "===posible caso: 93367 HOOD\n",
      "===posible caso: 93514 HOOD\n"
     ]
    },
    {
     "name": "stdout",
     "output_type": "stream",
     "text": [
      "===posible caso: 93549 HOOD\n",
      "===posible caso: 93628 HOOD\n",
      "h1\n",
      "93628 HOOD\n",
      "===posible caso: 93673 HOOD\n",
      "===posible caso: 93735 HOOD\n"
     ]
    },
    {
     "name": "stdout",
     "output_type": "stream",
     "text": [
      "h1\n",
      "93735 HOOD\n",
      "===posible caso: 93819 HOOD\n",
      "===posible caso: 93887 HOOD\n"
     ]
    },
    {
     "name": "stdout",
     "output_type": "stream",
     "text": [
      "h1\n",
      "93887 HOOD\n",
      "===posible caso: 94055 HOOD\n",
      "h1\n",
      "94055 HOOD\n",
      "===posible caso: 94095 HOOD\n"
     ]
    },
    {
     "name": "stdout",
     "output_type": "stream",
     "text": [
      "h1\n",
      "94095 HOOD\n",
      "===posible caso: 94203 HOOD\n",
      "===posible caso: 94251 HOOD\n",
      "===posible caso: 94338 HOOD\n"
     ]
    },
    {
     "name": "stdout",
     "output_type": "stream",
     "text": [
      "h1\n",
      "94338 HOOD\n",
      "===posible caso: 94369 HOOD\n",
      "===posible caso: 94411 HOOD\n",
      "h1\n",
      "94411 HOOD\n",
      "===posible caso: 94462 HOOD\n"
     ]
    },
    {
     "name": "stdout",
     "output_type": "stream",
     "text": [
      "===posible caso: 94511 HOOD\n",
      "===posible caso: 94532 HOOD\n",
      "h1\n",
      "94532 HOOD\n",
      "===posible caso: 94590 HOOD\n"
     ]
    },
    {
     "name": "stdout",
     "output_type": "stream",
     "text": [
      "h1\n",
      "94590 HOOD\n",
      "===posible caso: 94631 HOOD\n",
      "===posible caso: 94677 HOOD\n",
      "===posible caso: 94716 HOOD\n"
     ]
    },
    {
     "name": "stdout",
     "output_type": "stream",
     "text": [
      "h1\n",
      "94716 HOOD\n",
      "===posible caso: 94799 HOOD\n",
      "h1\n",
      "94799 HOOD\n",
      "===posible caso: 94908 HOOD\n"
     ]
    },
    {
     "name": "stdout",
     "output_type": "stream",
     "text": [
      "===posible caso: 94959 HOOD\n",
      "===posible caso: 94993 HOOD\n",
      "h1\n",
      "94993 HOOD\n",
      "===posible caso: 95024 HOOD\n",
      "===posible caso: 95046 HOOD\n"
     ]
    },
    {
     "name": "stdout",
     "output_type": "stream",
     "text": [
      "===posible caso: 95077 HOOD\n",
      "===posible caso: 95191 HOOD\n"
     ]
    },
    {
     "name": "stdout",
     "output_type": "stream",
     "text": [
      "===posible caso: 95241 HOOD\n",
      "h1\n",
      "95241 HOOD\n",
      "===posible caso: 95273 HOOD\n"
     ]
    },
    {
     "name": "stdout",
     "output_type": "stream",
     "text": [
      "===posible caso: 95327 HOOD\n",
      "===posible caso: 95366 HOOD\n"
     ]
    },
    {
     "name": "stdout",
     "output_type": "stream",
     "text": [
      "===posible caso: 95385 HOOD\n",
      "===posible caso: 95431 HOOD\n",
      "===posible caso: 95449 HOOD\n"
     ]
    },
    {
     "name": "stdout",
     "output_type": "stream",
     "text": [
      "h1\n",
      "95449 HOOD\n",
      "===posible caso: 95469 HOOD\n",
      "h1\n",
      "95469 HOOD\n",
      "===posible caso: 95514 HOOD\n",
      "===posible caso: 95802 CRWV\n"
     ]
    },
    {
     "name": "stdout",
     "output_type": "stream",
     "text": [
      "h1\n",
      "95802 CRWV\n",
      "===posible caso: 95848 CRWV\n",
      "===posible caso: 95875 CRWV\n",
      "===posible caso: 95897 CRWV\n",
      "===posible caso: 95922 CRWV\n"
     ]
    },
    {
     "name": "stdout",
     "output_type": "stream",
     "text": [
      "h3\n",
      "h4\n",
      "h3\n",
      "h4\n",
      "h3\n",
      "h4\n",
      "h3\n",
      "h4\n",
      "95922 CRWV\n",
      "===posible caso: 96074 MSTR\n",
      "h1\n",
      "96074 MSTR\n",
      "===posible caso: 96152 MSTR\n"
     ]
    },
    {
     "name": "stdout",
     "output_type": "stream",
     "text": [
      "h1\n",
      "96152 MSTR\n",
      "===posible caso: 96196 MSTR\n",
      "===posible caso: 96222 MSTR\n",
      "===posible caso: 96301 MSTR\n"
     ]
    },
    {
     "name": "stdout",
     "output_type": "stream",
     "text": [
      "h1\n",
      "96301 MSTR\n",
      "===posible caso: 96429 MSTR\n",
      "===posible caso: 96459 MSTR\n",
      "===posible caso: 96500 MSTR\n"
     ]
    },
    {
     "name": "stdout",
     "output_type": "stream",
     "text": [
      "===posible caso: 96578 MSTR\n",
      "h1\n",
      "96578 MSTR\n",
      "===posible caso: 96654 MSTR\n"
     ]
    },
    {
     "name": "stdout",
     "output_type": "stream",
     "text": [
      "h1\n",
      "96654 MSTR\n",
      "===posible caso: 96708 MSTR\n",
      "h1\n",
      "96708 MSTR\n",
      "===posible caso: 96725 MSTR\n"
     ]
    },
    {
     "name": "stdout",
     "output_type": "stream",
     "text": [
      "===posible caso: 96772 MSTR\n",
      "===posible caso: 96796 MSTR\n"
     ]
    },
    {
     "name": "stdout",
     "output_type": "stream",
     "text": [
      "===posible caso: 96896 MSTR\n",
      "h2\n",
      "h4\n",
      "h2\n",
      "h4\n",
      "h1\n",
      "96896 MSTR\n",
      "===posible caso: 96972 MSTR\n"
     ]
    },
    {
     "name": "stdout",
     "output_type": "stream",
     "text": [
      "===posible caso: 97028 MSTR\n",
      "===posible caso: 97112 MSTR\n"
     ]
    },
    {
     "name": "stdout",
     "output_type": "stream",
     "text": [
      "===posible caso: 97194 MSTR\n",
      "h1\n",
      "97194 MSTR\n",
      "===posible caso: 97257 MSTR\n"
     ]
    },
    {
     "name": "stdout",
     "output_type": "stream",
     "text": [
      "h1\n",
      "97257 MSTR\n",
      "===posible caso: 97311 MSTR\n",
      "h1\n",
      "97311 MSTR\n",
      "===posible caso: 97343 MSTR\n"
     ]
    },
    {
     "name": "stdout",
     "output_type": "stream",
     "text": [
      "===posible caso: 97434 MSTR\n",
      "===posible caso: 97465 MSTR\n",
      "===posible caso: 97573 MSTR\n"
     ]
    },
    {
     "name": "stdout",
     "output_type": "stream",
     "text": [
      "===posible caso: 97616 MSTR\n",
      "===posible caso: 97652 MSTR\n",
      "===posible caso: 97679 MSTR\n",
      "===posible caso: 97704 MSTR\n",
      "===posible caso: 97752 MSTR\n",
      "===posible caso: 97834 MSTR\n"
     ]
    },
    {
     "name": "stdout",
     "output_type": "stream",
     "text": [
      "===posible caso: 97861 MSTR\n",
      "===posible caso: 97973 MSTR\n"
     ]
    },
    {
     "name": "stdout",
     "output_type": "stream",
     "text": [
      "h1\n",
      "97973 MSTR\n",
      "===posible caso: 98030 MSTR\n",
      "===posible caso: 98128 MSTR\n"
     ]
    },
    {
     "name": "stdout",
     "output_type": "stream",
     "text": [
      "===posible caso: 98194 MSTR\n",
      "h1\n",
      "98194 MSTR\n",
      "===posible caso: 98246 MSTR\n"
     ]
    },
    {
     "name": "stdout",
     "output_type": "stream",
     "text": [
      "===posible caso: 98271 MSTR\n",
      "h1\n",
      "98271 MSTR\n",
      "===posible caso: 98349 MSTR\n"
     ]
    },
    {
     "name": "stdout",
     "output_type": "stream",
     "text": [
      "h1\n",
      "98349 MSTR\n",
      "===posible caso: 98424 MSTR\n",
      "h1\n",
      "98424 MSTR\n",
      "===posible caso: 98461 MSTR\n"
     ]
    },
    {
     "name": "stdout",
     "output_type": "stream",
     "text": [
      "===posible caso: 98501 MSTR\n",
      "h1\n",
      "98501 MSTR\n",
      "===posible caso: 98577 MSTR\n"
     ]
    },
    {
     "name": "stdout",
     "output_type": "stream",
     "text": [
      "h1\n",
      "98577 MSTR\n",
      "===posible caso: 98608 MSTR\n",
      "===posible caso: 98667 MSTR\n"
     ]
    },
    {
     "name": "stdout",
     "output_type": "stream",
     "text": [
      "===posible caso: 98728 MSTR\n",
      "===posible caso: 98782 MSTR\n",
      "===posible caso: 98798 MSTR\n"
     ]
    },
    {
     "name": "stdout",
     "output_type": "stream",
     "text": [
      "===posible caso: 98941 MSTR\n",
      "h1\n",
      "98941 MSTR\n",
      "===posible caso: 98989 MSTR\n",
      "===posible caso: 99038 MSTR\n"
     ]
    },
    {
     "name": "stdout",
     "output_type": "stream",
     "text": [
      "===posible caso: 99075 MSTR\n",
      "===posible caso: 99215 MSTR\n"
     ]
    },
    {
     "name": "stdout",
     "output_type": "stream",
     "text": [
      "h1\n",
      "99215 MSTR\n",
      "===posible caso: 99252 MSTR\n",
      "===posible caso: 99276 MSTR\n",
      "===posible caso: 99313 MSTR\n",
      "===posible caso: 99371 MSTR\n",
      "===posible caso: 99438 MSTR\n"
     ]
    },
    {
     "name": "stdout",
     "output_type": "stream",
     "text": [
      "===posible caso: 99511 UNH\n",
      "===posible caso: 99536 UNH\n",
      "===posible caso: 99631 UNH\n"
     ]
    },
    {
     "name": "stdout",
     "output_type": "stream",
     "text": [
      "===posible caso: 99668 UNH\n",
      "===posible caso: 99703 UNH\n"
     ]
    },
    {
     "name": "stdout",
     "output_type": "stream",
     "text": [
      "===posible caso: 99725 UNH\n",
      "===posible caso: 99761 UNH\n"
     ]
    },
    {
     "name": "stdout",
     "output_type": "stream",
     "text": [
      "===posible caso: 99843 UNH\n",
      "===posible caso: 99923 UNH\n",
      "===posible caso: 99981 UNH\n",
      "===posible caso: 100037 UNH\n"
     ]
    },
    {
     "name": "stdout",
     "output_type": "stream",
     "text": [
      "===posible caso: 100066 UNH\n",
      "===posible caso: 100115 UNH\n"
     ]
    },
    {
     "name": "stdout",
     "output_type": "stream",
     "text": [
      "===posible caso: 100162 UNH\n",
      "h1\n",
      "100162 UNH\n",
      "===posible caso: 100207 UNH\n"
     ]
    },
    {
     "name": "stdout",
     "output_type": "stream",
     "text": [
      "===posible caso: 100264 UNH\n",
      "h1\n",
      "100264 UNH\n",
      "===posible caso: 100309 UNH\n"
     ]
    },
    {
     "name": "stdout",
     "output_type": "stream",
     "text": [
      "h1\n",
      "100309 UNH\n",
      "===posible caso: 100447 UNH\n",
      "===posible caso: 100505 UNH\n"
     ]
    },
    {
     "name": "stdout",
     "output_type": "stream",
     "text": [
      "h1\n",
      "100505 UNH\n",
      "===posible caso: 100576 UNH\n",
      "===posible caso: 100614 UNH\n",
      "===posible caso: 100636 UNH\n",
      "h1\n",
      "100636 UNH\n",
      "===posible caso: 100663 UNH\n"
     ]
    },
    {
     "name": "stdout",
     "output_type": "stream",
     "text": [
      "h1\n",
      "100663 UNH\n",
      "===posible caso: 100691 UNH\n",
      "h1\n",
      "100691 UNH\n",
      "===posible caso: 100775 UNH\n"
     ]
    },
    {
     "name": "stdout",
     "output_type": "stream",
     "text": [
      "h1\n",
      "100775 UNH\n",
      "===posible caso: 100816 UNH\n",
      "===posible caso: 100858 UNH\n",
      "===posible caso: 100960 UNH\n",
      "===posible caso: 101091 UNH\n"
     ]
    },
    {
     "name": "stdout",
     "output_type": "stream",
     "text": [
      "===posible caso: 101118 UNH\n",
      "h1\n",
      "101118 UNH\n",
      "===posible caso: 101178 UNH\n",
      "===posible caso: 101234 UNH\n",
      "===posible caso: 101299 UNH\n"
     ]
    },
    {
     "name": "stdout",
     "output_type": "stream",
     "text": [
      "===posible caso: 101380 UNH\n",
      "h1\n",
      "101380 UNH\n",
      "===posible caso: 101463 UNH\n"
     ]
    },
    {
     "name": "stdout",
     "output_type": "stream",
     "text": [
      "h1\n",
      "101463 UNH\n",
      "===posible caso: 101514 UNH\n",
      "===posible caso: 101541 UNH\n",
      "===posible caso: 101611 UNH\n"
     ]
    },
    {
     "name": "stdout",
     "output_type": "stream",
     "text": [
      "===posible caso: 101765 UNH\n",
      "===posible caso: 101812 UNH\n"
     ]
    },
    {
     "name": "stdout",
     "output_type": "stream",
     "text": [
      "===posible caso: 101843 UNH\n",
      "h1\n",
      "101843 UNH\n",
      "===posible caso: 101907 UNH\n",
      "===posible caso: 101948 UNH\n"
     ]
    },
    {
     "name": "stdout",
     "output_type": "stream",
     "text": [
      "h1\n",
      "101948 UNH\n",
      "===posible caso: 102031 UNH\n",
      "h1\n",
      "102031 UNH\n",
      "===posible caso: 102056 UNH\n"
     ]
    },
    {
     "name": "stdout",
     "output_type": "stream",
     "text": [
      "===posible caso: 102088 UNH\n",
      "===posible caso: 102130 UNH\n",
      "===posible caso: 102162 UNH\n",
      "===posible caso: 102229 UNH\n"
     ]
    },
    {
     "name": "stdout",
     "output_type": "stream",
     "text": [
      "===posible caso: 102245 UNH\n",
      "h1\n",
      "102245 UNH\n",
      "===posible caso: 102291 UNH\n"
     ]
    },
    {
     "name": "stdout",
     "output_type": "stream",
     "text": [
      "h1\n",
      "102291 UNH\n",
      "===posible caso: 102326 UNH\n",
      "===posible caso: 102489 UNH\n"
     ]
    },
    {
     "name": "stdout",
     "output_type": "stream",
     "text": [
      "h1\n",
      "102489 UNH\n",
      "===posible caso: 102557 UNH\n",
      "===posible caso: 102602 UNH\n"
     ]
    },
    {
     "name": "stdout",
     "output_type": "stream",
     "text": [
      "h1\n",
      "102602 UNH\n",
      "===posible caso: 102622 UNH\n",
      "===posible caso: 102664 UNH\n"
     ]
    },
    {
     "name": "stdout",
     "output_type": "stream",
     "text": [
      "===posible caso: 102769 UNH\n",
      "===posible caso: 102846 UNH\n",
      "===posible caso: 102898 UNH\n",
      "h1\n",
      "102898 UNH\n",
      "===posible caso: 102964 UNH\n"
     ]
    },
    {
     "name": "stdout",
     "output_type": "stream",
     "text": [
      "h1\n",
      "102964 UNH\n",
      "===posible caso: 102981 UNH\n",
      "h3\n",
      "h4\n",
      "h3\n",
      "h4\n",
      "h3\n",
      "h4\n",
      "h3\n",
      "h4\n",
      "102981 UNH\n",
      "===posible caso: 102998 UNH\n"
     ]
    },
    {
     "name": "stdout",
     "output_type": "stream",
     "text": [
      "===posible caso: 103098 GOOG\n",
      "===posible caso: 103147 GOOG\n",
      "===posible caso: 103219 GOOG\n",
      "===posible caso: 103348 GOOG\n",
      "===posible caso: 103389 GOOG\n"
     ]
    },
    {
     "name": "stdout",
     "output_type": "stream",
     "text": [
      "===posible caso: 103431 GOOG\n",
      "h1\n",
      "103431 GOOG\n",
      "===posible caso: 103462 GOOG\n"
     ]
    },
    {
     "name": "stdout",
     "output_type": "stream",
     "text": [
      "===posible caso: 103590 GOOG\n",
      "h1\n",
      "103590 GOOG\n",
      "===posible caso: 103769 GOOG\n"
     ]
    },
    {
     "name": "stdout",
     "output_type": "stream",
     "text": [
      "===posible caso: 103792 GOOG\n",
      "h1\n",
      "103792 GOOG\n",
      "===posible caso: 103814 GOOG\n"
     ]
    },
    {
     "name": "stdout",
     "output_type": "stream",
     "text": [
      "h1\n",
      "103814 GOOG\n",
      "===posible caso: 103920 GOOG\n",
      "h1\n",
      "103920 GOOG\n",
      "===posible caso: 103941 GOOG\n"
     ]
    },
    {
     "name": "stdout",
     "output_type": "stream",
     "text": [
      "h1\n",
      "103941 GOOG\n",
      "===posible caso: 104082 GOOG\n",
      "h1\n",
      "104082 GOOG\n",
      "===posible caso: 104100 GOOG\n"
     ]
    },
    {
     "name": "stdout",
     "output_type": "stream",
     "text": [
      "h1\n",
      "104100 GOOG\n",
      "===posible caso: 104161 GOOG\n",
      "===posible caso: 104334 GOOG\n"
     ]
    },
    {
     "name": "stdout",
     "output_type": "stream",
     "text": [
      "h2\n",
      "h4\n",
      "h1\n",
      "104334 GOOG\n",
      "===posible caso: 104378 GOOG\n",
      "===posible caso: 104396 GOOG\n"
     ]
    },
    {
     "name": "stdout",
     "output_type": "stream",
     "text": [
      "===posible caso: 104458 GOOG\n",
      "h1\n",
      "104458 GOOG\n",
      "===posible caso: 104531 GOOG\n"
     ]
    },
    {
     "name": "stdout",
     "output_type": "stream",
     "text": [
      "===posible caso: 104580 GOOG\n",
      "h1\n",
      "104580 GOOG\n",
      "===posible caso: 104654 GOOG\n"
     ]
    },
    {
     "name": "stdout",
     "output_type": "stream",
     "text": [
      "===posible caso: 104730 GOOG\n",
      "===posible caso: 104778 GOOG\n"
     ]
    },
    {
     "name": "stdout",
     "output_type": "stream",
     "text": [
      "h1\n",
      "104778 GOOG\n",
      "===posible caso: 104823 GOOG\n",
      "===posible caso: 104858 GOOG\n"
     ]
    },
    {
     "name": "stdout",
     "output_type": "stream",
     "text": [
      "===posible caso: 104987 GOOG\n",
      "===posible caso: 105046 GOOG\n",
      "h1\n",
      "105046 GOOG\n",
      "===posible caso: 105082 GOOG\n"
     ]
    },
    {
     "name": "stdout",
     "output_type": "stream",
     "text": [
      "h1\n",
      "105082 GOOG\n",
      "===posible caso: 105240 GOOG\n",
      "h1\n",
      "105240 GOOG\n",
      "===posible caso: 105285 GOOG\n"
     ]
    },
    {
     "name": "stdout",
     "output_type": "stream",
     "text": [
      "h1\n",
      "105285 GOOG\n",
      "===posible caso: 105308 GOOG\n",
      "h1\n",
      "105308 GOOG\n",
      "===posible caso: 105351 GOOG\n",
      "===posible caso: 105386 GOOG\n"
     ]
    },
    {
     "name": "stdout",
     "output_type": "stream",
     "text": [
      "===posible caso: 105428 GOOG\n",
      "h1\n",
      "105428 GOOG\n",
      "===posible caso: 105475 GOOG\n",
      "===posible caso: 105496 GOOG\n"
     ]
    },
    {
     "name": "stdout",
     "output_type": "stream",
     "text": [
      "h1\n",
      "105496 GOOG\n",
      "===posible caso: 105633 GOOG\n",
      "===posible caso: 105651 GOOG\n"
     ]
    },
    {
     "name": "stdout",
     "output_type": "stream",
     "text": [
      "===posible caso: 105698 GOOG\n",
      "h1\n",
      "105698 GOOG\n",
      "===posible caso: 105742 GOOG\n"
     ]
    },
    {
     "name": "stdout",
     "output_type": "stream",
     "text": [
      "===posible caso: 105823 GOOG\n",
      "===posible caso: 105874 GOOG\n"
     ]
    },
    {
     "name": "stdout",
     "output_type": "stream",
     "text": [
      "===posible caso: 105923 GOOG\n",
      "===posible caso: 105944 GOOG\n",
      "===posible caso: 106026 GOOG\n",
      "===posible caso: 106048 GOOG\n"
     ]
    },
    {
     "name": "stdout",
     "output_type": "stream",
     "text": [
      "h1\n",
      "106048 GOOG\n",
      "===posible caso: 106112 GOOG\n",
      "===posible caso: 106151 GOOG\n"
     ]
    },
    {
     "name": "stdout",
     "output_type": "stream",
     "text": [
      "===posible caso: 106204 GOOG\n",
      "h1\n",
      "106204 GOOG\n",
      "===posible caso: 106261 GOOG\n",
      "===posible caso: 106306 GOOG\n"
     ]
    },
    {
     "name": "stdout",
     "output_type": "stream",
     "text": [
      "===posible caso: 106365 GOOG\n",
      "===posible caso: 106393 GOOG\n"
     ]
    },
    {
     "name": "stdout",
     "output_type": "stream",
     "text": [
      "===posible caso: 106415 GOOG\n",
      "h1\n",
      "106415 GOOG\n",
      "===posible caso: 106521 GOOG\n"
     ]
    },
    {
     "name": "stdout",
     "output_type": "stream",
     "text": [
      "===posible caso: 106613 APP\n",
      "===posible caso: 106640 APP\n"
     ]
    },
    {
     "name": "stdout",
     "output_type": "stream",
     "text": [
      "===posible caso: 106680 APP\n",
      "===posible caso: 106761 APP\n"
     ]
    },
    {
     "name": "stdout",
     "output_type": "stream",
     "text": [
      "h1\n",
      "106761 APP\n",
      "===posible caso: 106834 APP\n",
      "===posible caso: 106886 APP\n",
      "===posible caso: 106929 APP\n"
     ]
    },
    {
     "name": "stdout",
     "output_type": "stream",
     "text": [
      "===posible caso: 106964 APP\n",
      "===posible caso: 107003 APP\n"
     ]
    },
    {
     "name": "stdout",
     "output_type": "stream",
     "text": [
      "h1\n",
      "107003 APP\n",
      "===posible caso: 107070 APP\n",
      "===posible caso: 107111 APP\n"
     ]
    },
    {
     "name": "stdout",
     "output_type": "stream",
     "text": [
      "h1\n",
      "107111 APP\n",
      "===posible caso: 107187 APP\n",
      "h1\n",
      "107187 APP\n",
      "===posible caso: 107214 APP\n"
     ]
    },
    {
     "name": "stdout",
     "output_type": "stream",
     "text": [
      "h1\n",
      "107214 APP\n",
      "===posible caso: 107277 APP\n",
      "h1\n",
      "107277 APP\n",
      "===posible caso: 107317 APP\n"
     ]
    },
    {
     "name": "stdout",
     "output_type": "stream",
     "text": [
      "===posible caso: 107401 APP\n",
      "===posible caso: 107458 APP\n",
      "===posible caso: 107496 APP\n"
     ]
    },
    {
     "name": "stdout",
     "output_type": "stream",
     "text": [
      "h1\n",
      "107496 APP\n",
      "===posible caso: 107566 APP\n",
      "===posible caso: 107610 APP\n"
     ]
    },
    {
     "name": "stdout",
     "output_type": "stream",
     "text": [
      "h1\n",
      "107610 APP\n",
      "===posible caso: 107638 APP\n",
      "===posible caso: 107702 APP\n"
     ]
    },
    {
     "name": "stdout",
     "output_type": "stream",
     "text": [
      "===posible caso: 107732 APP\n",
      "===posible caso: 107772 APP\n",
      "===posible caso: 107800 APP\n"
     ]
    },
    {
     "name": "stdout",
     "output_type": "stream",
     "text": [
      "===posible caso: 107828 APP\n",
      "h1\n",
      "107828 APP\n",
      "===posible caso: 107891 APP\n"
     ]
    },
    {
     "name": "stdout",
     "output_type": "stream",
     "text": [
      "===posible caso: 107916 APP\n",
      "h1\n",
      "107916 APP\n",
      "===posible caso: 107974 APP\n"
     ]
    },
    {
     "name": "stdout",
     "output_type": "stream",
     "text": [
      "h1\n",
      "107974 APP\n",
      "===posible caso: 107995 APP\n",
      "h1\n",
      "107995 APP\n",
      "===posible caso: 108045 APP\n",
      "===posible caso: 108068 APP\n"
     ]
    },
    {
     "name": "stdout",
     "output_type": "stream",
     "text": [
      "===posible caso: 108130 APP\n",
      "===posible caso: 108165 APP\n"
     ]
    },
    {
     "name": "stdout",
     "output_type": "stream",
     "text": [
      "h1\n",
      "108165 APP\n",
      "===posible caso: 108324 APP\n",
      "===posible caso: 108391 APP\n",
      "===posible caso: 108439 APP\n",
      "===posible caso: 108629 APP\n"
     ]
    },
    {
     "name": "stdout",
     "output_type": "stream",
     "text": [
      "h1\n",
      "108629 APP\n",
      "===posible caso: 108676 APP\n",
      "===posible caso: 108792 APP\n",
      "===posible caso: 108881 APP\n"
     ]
    },
    {
     "name": "stdout",
     "output_type": "stream",
     "text": [
      "===posible caso: 108930 APP\n",
      "h1\n",
      "108930 APP\n",
      "===posible caso: 108966 APP\n"
     ]
    },
    {
     "name": "stdout",
     "output_type": "stream",
     "text": [
      "h1\n",
      "108966 APP\n",
      "===posible caso: 109020 APP\n",
      "===posible caso: 109072 APP\n"
     ]
    },
    {
     "name": "stdout",
     "output_type": "stream",
     "text": [
      "===posible caso: 109089 APP\n",
      "===posible caso: 109146 APP\n"
     ]
    },
    {
     "name": "stdout",
     "output_type": "stream",
     "text": [
      "h1\n",
      "109146 APP\n",
      "===posible caso: 109228 APP\n",
      "===posible caso: 109273 APP\n",
      "===posible caso: 109357 APP\n"
     ]
    },
    {
     "name": "stdout",
     "output_type": "stream",
     "text": [
      "h1\n",
      "109357 APP\n",
      "===posible caso: 109405 APP\n",
      "===posible caso: 109438 APP\n"
     ]
    },
    {
     "name": "stdout",
     "output_type": "stream",
     "text": [
      "===posible caso: 109467 APP\n",
      "===posible caso: 109533 APP\n",
      "===posible caso: 109606 APP\n"
     ]
    },
    {
     "name": "stdout",
     "output_type": "stream",
     "text": [
      "===posible caso: 109648 APP\n",
      "h1\n",
      "109648 APP\n",
      "===posible caso: 109838 APP\n"
     ]
    },
    {
     "name": "stdout",
     "output_type": "stream",
     "text": [
      "===posible caso: 109883 APP\n",
      "===posible caso: 109912 APP\n"
     ]
    },
    {
     "name": "stdout",
     "output_type": "stream",
     "text": [
      "h1\n",
      "109912 APP\n",
      "===posible caso: 110008 APP\n",
      "h1\n",
      "110008 APP\n",
      "===posible caso: 110148 UBER\n"
     ]
    },
    {
     "name": "stdout",
     "output_type": "stream",
     "text": [
      "===posible caso: 110177 UBER\n",
      "===posible caso: 110219 UBER\n"
     ]
    },
    {
     "name": "stdout",
     "output_type": "stream",
     "text": [
      "h1\n",
      "110219 UBER\n",
      "===posible caso: 110243 UBER\n",
      "===posible caso: 110304 UBER\n"
     ]
    },
    {
     "name": "stdout",
     "output_type": "stream",
     "text": [
      "h1\n",
      "110304 UBER\n",
      "===posible caso: 110428 UBER\n",
      "h1\n",
      "110428 UBER\n",
      "===posible caso: 110464 UBER\n"
     ]
    },
    {
     "name": "stdout",
     "output_type": "stream",
     "text": [
      "h1\n",
      "110464 UBER\n",
      "===posible caso: 110511 UBER\n",
      "h1\n",
      "110511 UBER\n",
      "===posible caso: 110549 UBER\n"
     ]
    },
    {
     "name": "stdout",
     "output_type": "stream",
     "text": [
      "===posible caso: 110594 UBER\n",
      "===posible caso: 110649 UBER\n",
      "===posible caso: 110912 UBER\n",
      "h1\n",
      "110912 UBER\n",
      "===posible caso: 110946 UBER\n"
     ]
    },
    {
     "name": "stdout",
     "output_type": "stream",
     "text": [
      "h1\n",
      "110946 UBER\n",
      "===posible caso: 111033 UBER\n",
      "===posible caso: 111099 UBER\n",
      "===posible caso: 111131 UBER\n"
     ]
    },
    {
     "name": "stdout",
     "output_type": "stream",
     "text": [
      "===posible caso: 111176 UBER\n",
      "===posible caso: 111225 UBER\n"
     ]
    },
    {
     "name": "stdout",
     "output_type": "stream",
     "text": [
      "===posible caso: 111265 UBER\n",
      "===posible caso: 111288 UBER\n",
      "h1\n",
      "111288 UBER\n",
      "===posible caso: 111309 UBER\n"
     ]
    },
    {
     "name": "stdout",
     "output_type": "stream",
     "text": [
      "h1\n",
      "111309 UBER\n",
      "===posible caso: 111340 UBER\n",
      "h1\n",
      "111340 UBER\n",
      "===posible caso: 111386 UBER\n"
     ]
    },
    {
     "name": "stdout",
     "output_type": "stream",
     "text": [
      "===posible caso: 111430 UBER\n",
      "===posible caso: 111527 UBER\n",
      "===posible caso: 111584 UBER\n",
      "===posible caso: 111646 UBER\n",
      "===posible caso: 111731 UBER\n"
     ]
    },
    {
     "name": "stdout",
     "output_type": "stream",
     "text": [
      "h1\n",
      "111731 UBER\n",
      "===posible caso: 111810 UBER\n",
      "===posible caso: 111832 UBER\n"
     ]
    },
    {
     "name": "stdout",
     "output_type": "stream",
     "text": [
      "h1\n",
      "111832 UBER\n",
      "===posible caso: 111860 UBER\n",
      "===posible caso: 111883 UBER\n"
     ]
    },
    {
     "name": "stdout",
     "output_type": "stream",
     "text": [
      "h1\n",
      "111883 UBER\n",
      "===posible caso: 111905 UBER\n",
      "===posible caso: 111981 UBER\n"
     ]
    },
    {
     "name": "stdout",
     "output_type": "stream",
     "text": [
      "h1\n",
      "111981 UBER\n",
      "===posible caso: 112012 UBER\n",
      "===posible caso: 112055 UBER\n",
      "===posible caso: 112151 UBER\n",
      "===posible caso: 112179 UBER\n"
     ]
    },
    {
     "name": "stdout",
     "output_type": "stream",
     "text": [
      "h1\n",
      "112179 UBER\n",
      "===posible caso: 112299 UBER\n",
      "h1\n",
      "112299 UBER\n",
      "===posible caso: 112329 UBER\n"
     ]
    },
    {
     "name": "stdout",
     "output_type": "stream",
     "text": [
      "===posible caso: 112417 UBER\n",
      "===posible caso: 112460 UBER\n"
     ]
    },
    {
     "name": "stdout",
     "output_type": "stream",
     "text": [
      "===posible caso: 112592 UBER\n",
      "===posible caso: 112634 UBER\n",
      "===posible caso: 112654 UBER\n"
     ]
    },
    {
     "name": "stdout",
     "output_type": "stream",
     "text": [
      "===posible caso: 112736 UBER\n",
      "===posible caso: 112816 UBER\n",
      "===posible caso: 112861 UBER\n",
      "===posible caso: 112902 UBER\n"
     ]
    },
    {
     "name": "stdout",
     "output_type": "stream",
     "text": [
      "===posible caso: 112946 UBER\n",
      "===posible caso: 113011 UBER\n",
      "===posible caso: 113056 UBER\n"
     ]
    },
    {
     "name": "stdout",
     "output_type": "stream",
     "text": [
      "h1\n",
      "113056 UBER\n",
      "===posible caso: 113089 UBER\n",
      "===posible caso: 113173 UBER\n"
     ]
    },
    {
     "name": "stdout",
     "output_type": "stream",
     "text": [
      "h1\n",
      "113173 UBER\n",
      "===posible caso: 113303 UBER\n",
      "h1\n",
      "113303 UBER\n",
      "===posible caso: 113334 UBER\n",
      "===posible caso: 113388 UBER\n"
     ]
    },
    {
     "name": "stdout",
     "output_type": "stream",
     "text": [
      "===posible caso: 113423 UBER\n",
      "===posible caso: 113453 UBER\n",
      "h1\n",
      "113453 UBER\n",
      "===posible caso: 113488 UBER\n"
     ]
    },
    {
     "name": "stdout",
     "output_type": "stream",
     "text": [
      "h1\n",
      "113488 UBER\n",
      "===posible caso: 113528 UBER\n",
      "===posible caso: 113589 UBER\n",
      "h3\n",
      "h4\n",
      "h3\n",
      "h4\n",
      "h3\n",
      "h4\n",
      "h3\n",
      "h4\n",
      "113589 UBER\n"
     ]
    }
   ],
   "source": [
    "df_casos = pd.DataFrame()\n",
    "caso = 0\n",
    "ticker2 = \"\"\n",
    "window=5\n",
    "backeval=75\n",
    "backevalTrend=0\n",
    "dfpl = pd.DataFrame\n",
    "trendH = []\n",
    "trendL = []\n",
    "cant = 0\n",
    "for i, row in df.iterrows():\n",
    "    #if (i==3560):\n",
    "    if(df['rcb01_01'][i]==1): #posibles casos \n",
    "        print(\"===posible caso:\",i, df['companyName'][i])\n",
    "        cant = 0\n",
    "        candle = i\n",
    "        cnt = 0\n",
    "        #valiniHigh = df.loc[candle,\"High\"]\n",
    "        #valiniLow = df.loc[candle,\"Low\"]\n",
    "        ticker = df['companyName'][i]\n",
    "        #Reinicio de casos por company\n",
    "        if ticker2 != ticker:\n",
    "            ticker2 = ticker\n",
    "            caso = 0\n",
    "        dfpl = df[(df.companyName==ticker)].loc[i-backeval:i+backeval]       \n",
    "\n",
    "        #print(\"rowMin:\", dfpl.index[0],\", rowMax:\", dfpl.index[-1])\n",
    "                    \n",
    "        h=1\n",
    "        l=1\n",
    "\n",
    "        cant = cant +1\n",
    "        cantHorasTrend=0\n",
    "        #print(\"opcionH:\",h,\"opcionL:\",l)\n",
    "        trendL, backevalTrend = backcandle(candle)\n",
    "        #print (\"-->trendH:\",trendH)\n",
    "        #print (\"-->backevalTrend:\",backevalTrend)    \n",
    "        \n",
    "        cantHorasTrend = (dfpl.loc[candle,\"datetime\"] - dfpl.loc[backevalTrend,\"datetime\"]).total_seconds() / 3600\n",
    "\n",
    "        if (cantHorasTrend>48): #Verificacion de caida por lo menos 2 dias\n",
    "            backevalTrend2 = candle - backevalTrend\n",
    "            #print (\"backevalTrend2\", backevalTrend2)\n",
    "                        \n",
    "            #revision de trend negativo indica que esta cayendo, solo me quedo con estos casos\n",
    "            sl_lows, interc_lows, r_sq_l = collect_channel(candle, backevalTrend2, trendL)\n",
    "                    \n",
    "    \n",
    "            #print(\"======:\", candle)\n",
    "            #print(\"===trendH===\")\n",
    "            #print(trendH)\n",
    "            #print(\"===trendL===\")\n",
    "            #print(trendL)\n",
    "            dfpl.loc[trendL, \"trendL\"] = 1\n",
    "                                \n",
    "            #print(\"sl_lows:\", sl_lows, \", interc_lows:\", interc_lows, \", r_sq_l:\", r_sq_l)\n",
    "            if (sl_lows>=0): #solo tendencias a la alza and ind_vela>0 sl_lows<0 and r_sq_h>=0.7  and sl_highs<=-0.1 and ind_vela>0\n",
    "                \n",
    "                #crear linea de tendencia high y low\n",
    "                dfpl['trendcurrlow']  = trendChannel(dfpl,candle,backevalTrend2,window,sl_lows,interc_lows)\n",
    "                \n",
    "                ind_vela = revisionVelas(dfpl, backeval,window, candle)\n",
    "                promVol = dfpl.loc[i-backeval:i][\"Volume\"].mean()\n",
    "    \n",
    "                #print(\"ind_vela:\",ind_vela)\n",
    "                if (ind_vela>0):\n",
    "                    dfpl[\"bearishSlope\"] = np.nan #pendiente bajista en vacio\n",
    "                    dfpl.loc[i, \"bearishSlope\"] = 1 #pendiente bajista solo al punto evaluado            \n",
    "                    dfpl[\"ind_posicion\"] = 0\n",
    "                    dfpl.loc[(dfpl.index < i), 'ind_posicion'] = -1\n",
    "                    dfpl.loc[(dfpl.index > i), 'ind_posicion'] = 1\n",
    "                    dfpl[\"promVol\"] = promVol\n",
    "                    dfpl[\"sl_lows\"] = sl_lows\n",
    "                    dfpl[\"r_sq_l\"] = r_sq_l\n",
    "            \n",
    "                    start = dfpl.index[0]\n",
    "                    dfpl[\"isBreakOut\"] = [isBreakOut(candleEval, backevalTrend2, window, start, candle) for candleEval in dfpl.index]\n",
    "                    # Solo me quedo con el primer BREAK OUT\n",
    "                    cnt = dfpl.query(\"isBreakOut==1 and Close<Open\").shape[0] \n",
    "                    id=0\n",
    "                    id2=0\n",
    "                    if cnt>0:\n",
    "                        id = dfpl.query(\"isBreakOut==1 and Close<Open\").index[0]                        \n",
    "                        #dfpl['isBreakOutIni'] = np.where(id!=dfpl.index, np.nan, dfpl['isBreakOut'])                        \n",
    "                        dfpl.loc[id,'isBreakOutIni'] = 1\n",
    "\n",
    "                        k=0\n",
    "                        while (k<=3):\n",
    "                            dfpl['breakpointpos'] = dfpl.apply(lambda row: breakpointpos(row), axis=1)\n",
    "                            cnt2 = dfpl.query(\"index>@id and isPivot==2\").shape[0]\n",
    "                            \n",
    "                            if cnt2>0:\n",
    "                                id2 = dfpl.query(\"index>@id and isPivot==2\").index[0]\n",
    "                                dfpl.loc[id2,'isBreakOutFinal'] = 1\n",
    "                                k=4\n",
    "                                print(\"h1\")\n",
    "                            else:\n",
    "                                #revisar 25 velas mas\n",
    "                                #print(\"paso8\")\n",
    "                                idfinal = dfpl.index[-1] \n",
    "                                idfinal2 = idfinal+25\n",
    "                                if idfinal2 in df[df['companyName']==ticker].index:\n",
    "                                    dfpl2 = df[(df.companyName==ticker)].loc[idfinal+1:idfinal2].copy()\n",
    "                                    dfpl = pd.concat([dfpl, dfpl2],ignore_index=False)    \n",
    "                                    print(\"h2\")\n",
    "                                else:                  \n",
    "                                    dfpl['isBreakOutFinal'] = np.nan\n",
    "                                    print(\"h3\")\n",
    "\n",
    "                                k=k+1\n",
    "                                print(\"h4\")\n",
    "                                \n",
    "                        \n",
    "                    else:\n",
    "                        dfpl['isBreakOutIni'] = np.nan                  \n",
    "                        dfpl['breakpointpos'] = np.nan\n",
    "            \n",
    "                    if cnt>0:\n",
    "                        #INSERT CASO\n",
    "                        caso=caso+1                            \n",
    "                        dfpl[\"caso\"] = caso\n",
    "                        print(i, df['companyName'][i])\n",
    "                        if len(df_casos)<1:\n",
    "                            df_casos = dfpl\n",
    "                        else:\n",
    "                            df_casos = pd.concat([df_casos, dfpl],ignore_index=False)\n"
   ]
  },
  {
   "cell_type": "code",
   "execution_count": 13,
   "id": "ee8cbb39-d190-488e-9acb-32cb2094acbb",
   "metadata": {
    "execution": {
     "iopub.execute_input": "2025-06-11T19:56:45.563771Z",
     "iopub.status.busy": "2025-06-11T19:56:45.563075Z",
     "iopub.status.idle": "2025-06-11T19:56:47.875019Z",
     "shell.execute_reply": "2025-06-11T19:56:47.874485Z"
    },
    "papermill": {
     "duration": 2.340514,
     "end_time": "2025-06-11T19:56:47.876156",
     "exception": false,
     "start_time": "2025-06-11T19:56:45.535642",
     "status": "completed"
    },
    "tags": []
   },
   "outputs": [],
   "source": [
    "#descarga de informacion, estrategia: RUPTURA DEL CANAL BAJISTA\n",
    "#path = r'C:\\Users\\carlo\\OneDrive\\Documentos\\TRADER\\traderapp\\data\\rcb_h.txt'\n",
    "path='data/rca_h.txt'\n",
    "\n",
    "# check whether the file exists\n",
    "if os.path.exists(path):\n",
    "    # delete the file\n",
    "    os.remove(path)\n",
    "else:\n",
    "    # if the file does not exist.\n",
    "    print(\"File does not exists. File needs to be created.\")\n",
    "\n",
    "#export DataFrame to text file\n",
    "with open(path, 'a') as f:\n",
    "    #df_string = appl_hor3.to_string(header=True, index=False, sep ='\\t')\n",
    "    df_casos.to_csv(path, header=True, index=None, sep='\\t', mode='w')\n",
    "    #f.write(df_string)"
   ]
  },
  {
   "cell_type": "markdown",
   "id": "2f3b1b22-7ae9-4f2e-b42e-a9064f2cbf09",
   "metadata": {
    "papermill": {
     "duration": 0.026881,
     "end_time": "2025-06-11T19:56:47.931026",
     "exception": false,
     "start_time": "2025-06-11T19:56:47.904145",
     "status": "completed"
    },
    "tags": []
   },
   "source": [
    "### BACKTESTING\n",
    "### Usando paquete backtesting.py"
   ]
  },
  {
   "cell_type": "code",
   "execution_count": 14,
   "id": "fb317fbb-f021-461f-a8c0-40463b42ed3e",
   "metadata": {
    "execution": {
     "iopub.execute_input": "2025-06-11T19:56:48.002257Z",
     "iopub.status.busy": "2025-06-11T19:56:48.001753Z",
     "iopub.status.idle": "2025-06-11T19:56:48.013010Z",
     "shell.execute_reply": "2025-06-11T19:56:48.012433Z"
    },
    "papermill": {
     "duration": 0.055703,
     "end_time": "2025-06-11T19:56:48.013846",
     "exception": false,
     "start_time": "2025-06-11T19:56:47.958143",
     "status": "completed"
    },
    "tags": []
   },
   "outputs": [],
   "source": [
    "df_casos2 = df_casos.query(\"isBreakOutIni==1 or isBreakOutFinal==1\").copy()"
   ]
  },
  {
   "cell_type": "code",
   "execution_count": 15,
   "id": "b8ad35c1-1c5e-438c-9fd9-20bf3feeee2c",
   "metadata": {
    "execution": {
     "iopub.execute_input": "2025-06-11T19:56:48.069379Z",
     "iopub.status.busy": "2025-06-11T19:56:48.069169Z",
     "iopub.status.idle": "2025-06-11T19:56:48.097837Z",
     "shell.execute_reply": "2025-06-11T19:56:48.097209Z"
    },
    "papermill": {
     "duration": 0.057619,
     "end_time": "2025-06-11T19:56:48.099078",
     "exception": false,
     "start_time": "2025-06-11T19:56:48.041459",
     "status": "completed"
    },
    "tags": []
   },
   "outputs": [],
   "source": [
    "# =============== BACKTESTING ================= #\n",
    "# obteniendo dataframe backtesting\n",
    "df_backTesting = pd.merge(df, df_casos2[['datetime','companyName', 'isBreakOutIni','isBreakOutFinal','caso']], on = ['companyName','datetime'], how='left')\n",
    "# datos de trade se asigna una vela anterior debido a que backtesting.py toma entra como la siguiente vela\n",
    "df_backTesting['isBreakOutIni'] = df_backTesting['isBreakOutIni'].shift(-1)\n",
    "df_backTesting['isBreakOutFinal'] = df_backTesting['isBreakOutFinal'].shift(-1)\n",
    "#modificamos indice con el compo datetime\n",
    "df_backTesting.set_index('datetime', inplace=True)"
   ]
  },
  {
   "cell_type": "code",
   "execution_count": 16,
   "id": "843cce1a-a09b-471c-a83c-3ba51e7a8658",
   "metadata": {
    "execution": {
     "iopub.execute_input": "2025-06-11T19:56:48.154760Z",
     "iopub.status.busy": "2025-06-11T19:56:48.154413Z",
     "iopub.status.idle": "2025-06-11T19:56:48.158326Z",
     "shell.execute_reply": "2025-06-11T19:56:48.157784Z"
    },
    "papermill": {
     "duration": 0.032337,
     "end_time": "2025-06-11T19:56:48.159252",
     "exception": false,
     "start_time": "2025-06-11T19:56:48.126915",
     "status": "completed"
    },
    "tags": []
   },
   "outputs": [],
   "source": [
    "#Strategia\n",
    "class strategyRupturaCanal(Strategy):    \n",
    "    def init(self):        \n",
    "        self.breakout_entry = self.I(lambda x: x, self.data.isBreakOutIni) #Indica la señal entrada al backtesting\n",
    "        self.breakout_exit = self.I(lambda x: x, self.data.isBreakOutFinal) #Indica la señal salida al backtesting\n",
    "\n",
    "    def next(self):       \n",
    "        #print(self.data)        \n",
    "        if self.breakout_entry[-1] == 1:\n",
    "            self.sell()  #COMPRA\n",
    "        elif self.breakout_exit[-1] == 1 and self.position:\n",
    "            self.position.close() #CIERRE"
   ]
  },
  {
   "cell_type": "code",
   "execution_count": 17,
   "id": "f6fd5f99-505d-4813-ad34-fb872cc5def8",
   "metadata": {
    "execution": {
     "iopub.execute_input": "2025-06-11T19:56:48.214012Z",
     "iopub.status.busy": "2025-06-11T19:56:48.213829Z",
     "iopub.status.idle": "2025-06-11T19:56:50.160660Z",
     "shell.execute_reply": "2025-06-11T19:56:50.160172Z"
    },
    "papermill": {
     "duration": 1.975,
     "end_time": "2025-06-11T19:56:50.161566",
     "exception": false,
     "start_time": "2025-06-11T19:56:48.186566",
     "status": "completed"
    },
    "tags": []
   },
   "outputs": [
    {
     "name": "stderr",
     "output_type": "stream",
     "text": [
      "\r",
      "Backtest.run:   0%|          | 0/3366 [00:00<?, ?bar/s]"
     ]
    },
    {
     "name": "stderr",
     "output_type": "stream",
     "text": [
      "\r",
      "                                                       "
     ]
    },
    {
     "name": "stderr",
     "output_type": "stream",
     "text": [
      "\r"
     ]
    },
    {
     "name": "stderr",
     "output_type": "stream",
     "text": [
      "\r",
      "Backtest.run:   0%|          | 0/3222 [00:00<?, ?bar/s]"
     ]
    },
    {
     "name": "stderr",
     "output_type": "stream",
     "text": [
      "/usr/share/miniconda/envs/test/lib/python3.10/site-packages/backtesting/backtesting.py:954: UserWarning: time=452: Broker canceled the relative-sized order due to insufficient margin.\n",
      "  warnings.warn(\n",
      "/usr/share/miniconda/envs/test/lib/python3.10/site-packages/backtesting/backtesting.py:954: UserWarning: time=1778: Broker canceled the relative-sized order due to insufficient margin.\n",
      "  warnings.warn(\n",
      "/usr/share/miniconda/envs/test/lib/python3.10/site-packages/backtesting/backtesting.py:954: UserWarning: time=2929: Broker canceled the relative-sized order due to insufficient margin.\n",
      "  warnings.warn(\n",
      "\r",
      "                                                       "
     ]
    },
    {
     "name": "stderr",
     "output_type": "stream",
     "text": [
      "\r"
     ]
    },
    {
     "name": "stderr",
     "output_type": "stream",
     "text": [
      "\r",
      "Backtest.run:   0%|          | 0/3412 [00:00<?, ?bar/s]"
     ]
    },
    {
     "name": "stderr",
     "output_type": "stream",
     "text": [
      "\r",
      "                                                       "
     ]
    },
    {
     "name": "stderr",
     "output_type": "stream",
     "text": [
      "\r"
     ]
    },
    {
     "name": "stderr",
     "output_type": "stream",
     "text": [
      "\r",
      "Backtest.run:   0%|          | 0/3475 [00:00<?, ?bar/s]"
     ]
    },
    {
     "name": "stderr",
     "output_type": "stream",
     "text": [
      "\r",
      "                                                       "
     ]
    },
    {
     "name": "stderr",
     "output_type": "stream",
     "text": [
      "\r"
     ]
    },
    {
     "name": "stderr",
     "output_type": "stream",
     "text": [
      "\r",
      "Backtest.run:   0%|          | 0/3359 [00:00<?, ?bar/s]"
     ]
    },
    {
     "name": "stderr",
     "output_type": "stream",
     "text": [
      "/usr/share/miniconda/envs/test/lib/python3.10/site-packages/backtesting/backtesting.py:954: UserWarning: time=816: Broker canceled the relative-sized order due to insufficient margin.\n",
      "  warnings.warn(\n",
      "/usr/share/miniconda/envs/test/lib/python3.10/site-packages/backtesting/backtesting.py:954: UserWarning: time=1263: Broker canceled the relative-sized order due to insufficient margin.\n",
      "  warnings.warn(\n",
      "\r",
      "                                                       "
     ]
    },
    {
     "name": "stderr",
     "output_type": "stream",
     "text": [
      "\r"
     ]
    },
    {
     "name": "stderr",
     "output_type": "stream",
     "text": [
      "\r",
      "Backtest.run:   0%|          | 0/3233 [00:00<?, ?bar/s]"
     ]
    },
    {
     "name": "stderr",
     "output_type": "stream",
     "text": [
      "\r",
      "                                                       "
     ]
    },
    {
     "name": "stderr",
     "output_type": "stream",
     "text": [
      "\r"
     ]
    },
    {
     "name": "stderr",
     "output_type": "stream",
     "text": [
      "\r",
      "Backtest.run:   0%|          | 0/3360 [00:00<?, ?bar/s]"
     ]
    },
    {
     "name": "stderr",
     "output_type": "stream",
     "text": [
      "\r",
      "                                                       "
     ]
    },
    {
     "name": "stderr",
     "output_type": "stream",
     "text": [
      "\r"
     ]
    },
    {
     "name": "stderr",
     "output_type": "stream",
     "text": [
      "\r",
      "Backtest.run:   0%|          | 0/3361 [00:00<?, ?bar/s]"
     ]
    },
    {
     "name": "stderr",
     "output_type": "stream",
     "text": [
      "/usr/share/miniconda/envs/test/lib/python3.10/site-packages/backtesting/backtesting.py:954: UserWarning: time=3213: Broker canceled the relative-sized order due to insufficient margin.\n",
      "  warnings.warn(\n",
      "\r",
      "                                                       "
     ]
    },
    {
     "name": "stderr",
     "output_type": "stream",
     "text": [
      "\r"
     ]
    },
    {
     "name": "stderr",
     "output_type": "stream",
     "text": [
      "\r",
      "Backtest.run:   0%|          | 0/3140 [00:00<?, ?bar/s]"
     ]
    },
    {
     "name": "stderr",
     "output_type": "stream",
     "text": [
      "/usr/share/miniconda/envs/test/lib/python3.10/site-packages/backtesting/backtesting.py:954: UserWarning: time=2128: Broker canceled the relative-sized order due to insufficient margin.\n",
      "  warnings.warn(\n",
      "\r",
      "                                                       "
     ]
    },
    {
     "name": "stderr",
     "output_type": "stream",
     "text": [
      "\r"
     ]
    },
    {
     "name": "stderr",
     "output_type": "stream",
     "text": [
      "\r",
      "Backtest.run:   0%|          | 0/3358 [00:00<?, ?bar/s]"
     ]
    },
    {
     "name": "stderr",
     "output_type": "stream",
     "text": [
      "/usr/share/miniconda/envs/test/lib/python3.10/site-packages/backtesting/backtesting.py:954: UserWarning: time=2946: Broker canceled the relative-sized order due to insufficient margin.\n",
      "  warnings.warn(\n",
      "\r",
      "                                                       "
     ]
    },
    {
     "name": "stderr",
     "output_type": "stream",
     "text": [
      "\r"
     ]
    },
    {
     "name": "stderr",
     "output_type": "stream",
     "text": [
      "\r",
      "Backtest.run:   0%|          | 0/3234 [00:00<?, ?bar/s]"
     ]
    },
    {
     "name": "stderr",
     "output_type": "stream",
     "text": [
      "/usr/share/miniconda/envs/test/lib/python3.10/site-packages/backtesting/backtesting.py:954: UserWarning: time=1215: Broker canceled the relative-sized order due to insufficient margin.\n",
      "  warnings.warn(\n",
      "\r",
      "                                                       "
     ]
    },
    {
     "name": "stderr",
     "output_type": "stream",
     "text": [
      "\r"
     ]
    },
    {
     "name": "stderr",
     "output_type": "stream",
     "text": [
      "\r",
      "Backtest.run:   0%|          | 0/2890 [00:00<?, ?bar/s]"
     ]
    },
    {
     "name": "stderr",
     "output_type": "stream",
     "text": [
      "\r",
      "                                                       "
     ]
    },
    {
     "name": "stderr",
     "output_type": "stream",
     "text": [
      "\r"
     ]
    },
    {
     "name": "stderr",
     "output_type": "stream",
     "text": [
      "\r",
      "Backtest.run:   0%|          | 0/3185 [00:00<?, ?bar/s]"
     ]
    },
    {
     "name": "stderr",
     "output_type": "stream",
     "text": [
      "\r",
      "                                                       "
     ]
    },
    {
     "name": "stderr",
     "output_type": "stream",
     "text": [
      "\r"
     ]
    },
    {
     "name": "stderr",
     "output_type": "stream",
     "text": [
      "\r",
      "Backtest.run:   0%|          | 0/3436 [00:00<?, ?bar/s]"
     ]
    },
    {
     "name": "stderr",
     "output_type": "stream",
     "text": [
      "/usr/share/miniconda/envs/test/lib/python3.10/site-packages/backtesting/backtesting.py:954: UserWarning: time=1427: Broker canceled the relative-sized order due to insufficient margin.\n",
      "  warnings.warn(\n",
      "/usr/share/miniconda/envs/test/lib/python3.10/site-packages/backtesting/backtesting.py:954: UserWarning: time=1457: Broker canceled the relative-sized order due to insufficient margin.\n",
      "  warnings.warn(\n",
      "\r",
      "                                                       "
     ]
    },
    {
     "name": "stderr",
     "output_type": "stream",
     "text": [
      "\r"
     ]
    },
    {
     "name": "stderr",
     "output_type": "stream",
     "text": [
      "\r",
      "Backtest.run:   0%|          | 0/3347 [00:00<?, ?bar/s]"
     ]
    },
    {
     "name": "stderr",
     "output_type": "stream",
     "text": [
      "\r",
      "                                                       "
     ]
    },
    {
     "name": "stderr",
     "output_type": "stream",
     "text": [
      "\r"
     ]
    },
    {
     "name": "stderr",
     "output_type": "stream",
     "text": [
      "\r",
      "Backtest.run:   0%|          | 0/3416 [00:00<?, ?bar/s]"
     ]
    },
    {
     "name": "stderr",
     "output_type": "stream",
     "text": [
      "/usr/share/miniconda/envs/test/lib/python3.10/site-packages/backtesting/backtesting.py:954: UserWarning: time=1824: Broker canceled the relative-sized order due to insufficient margin.\n",
      "  warnings.warn(\n",
      "\r",
      "                                                       "
     ]
    },
    {
     "name": "stderr",
     "output_type": "stream",
     "text": [
      "\r"
     ]
    },
    {
     "name": "stderr",
     "output_type": "stream",
     "text": [
      "\r",
      "Backtest.run:   0%|          | 0/3356 [00:00<?, ?bar/s]"
     ]
    },
    {
     "name": "stderr",
     "output_type": "stream",
     "text": [
      "/usr/share/miniconda/envs/test/lib/python3.10/site-packages/backtesting/backtesting.py:954: UserWarning: time=3360: Broker canceled the relative-sized order due to insufficient margin.\n",
      "  warnings.warn(\n",
      "/usr/share/miniconda/envs/test/lib/python3.10/site-packages/backtesting/backtesting.py:954: UserWarning: time=3387: Broker canceled the relative-sized order due to insufficient margin.\n",
      "  warnings.warn(\n",
      "/usr/share/miniconda/envs/test/lib/python3.10/site-packages/backtesting/backtesting.py:954: UserWarning: time=3536: Broker canceled the relative-sized order due to insufficient margin.\n",
      "  warnings.warn(\n",
      "\r",
      "                                                       "
     ]
    },
    {
     "name": "stderr",
     "output_type": "stream",
     "text": [
      "\r"
     ]
    },
    {
     "name": "stderr",
     "output_type": "stream",
     "text": [
      "\r",
      "Backtest.run:   0%|          | 0/3458 [00:00<?, ?bar/s]"
     ]
    },
    {
     "name": "stderr",
     "output_type": "stream",
     "text": [
      "\r",
      "                                                       "
     ]
    },
    {
     "name": "stderr",
     "output_type": "stream",
     "text": [
      "\r"
     ]
    },
    {
     "name": "stderr",
     "output_type": "stream",
     "text": [
      "\r",
      "Backtest.run:   0%|          | 0/3300 [00:00<?, ?bar/s]"
     ]
    },
    {
     "name": "stderr",
     "output_type": "stream",
     "text": [
      "/usr/share/miniconda/envs/test/lib/python3.10/site-packages/backtesting/backtesting.py:954: UserWarning: time=3267: Broker canceled the relative-sized order due to insufficient margin.\n",
      "  warnings.warn(\n",
      "\r",
      "                                                       "
     ]
    },
    {
     "name": "stderr",
     "output_type": "stream",
     "text": [
      "\r"
     ]
    },
    {
     "name": "stderr",
     "output_type": "stream",
     "text": [
      "\r",
      "Backtest.run:   0%|          | 0/3029 [00:00<?, ?bar/s]"
     ]
    },
    {
     "name": "stderr",
     "output_type": "stream",
     "text": [
      "/usr/share/miniconda/envs/test/lib/python3.10/site-packages/backtesting/backtesting.py:954: UserWarning: time=2111: Broker canceled the relative-sized order due to insufficient margin.\n",
      "  warnings.warn(\n"
     ]
    },
    {
     "name": "stderr",
     "output_type": "stream",
     "text": [
      "\r",
      "                                                       "
     ]
    },
    {
     "name": "stderr",
     "output_type": "stream",
     "text": [
      "\r"
     ]
    },
    {
     "name": "stderr",
     "output_type": "stream",
     "text": [
      "\r",
      "Backtest.run:   0%|          | 0/3352 [00:00<?, ?bar/s]"
     ]
    },
    {
     "name": "stderr",
     "output_type": "stream",
     "text": [
      "\r",
      "                                                       "
     ]
    },
    {
     "name": "stderr",
     "output_type": "stream",
     "text": [
      "\r"
     ]
    },
    {
     "name": "stderr",
     "output_type": "stream",
     "text": [
      "\r",
      "Backtest.run:   0%|          | 0/3102 [00:00<?, ?bar/s]"
     ]
    },
    {
     "name": "stderr",
     "output_type": "stream",
     "text": [
      "\r",
      "                                                       "
     ]
    },
    {
     "name": "stderr",
     "output_type": "stream",
     "text": [
      "\r"
     ]
    },
    {
     "name": "stderr",
     "output_type": "stream",
     "text": [
      "\r",
      "Backtest.run:   0%|          | 0/3434 [00:00<?, ?bar/s]"
     ]
    },
    {
     "name": "stderr",
     "output_type": "stream",
     "text": [
      "/usr/share/miniconda/envs/test/lib/python3.10/site-packages/backtesting/backtesting.py:954: UserWarning: time=609: Broker canceled the relative-sized order due to insufficient margin.\n",
      "  warnings.warn(\n",
      "/usr/share/miniconda/envs/test/lib/python3.10/site-packages/backtesting/backtesting.py:954: UserWarning: time=2519: Broker canceled the relative-sized order due to insufficient margin.\n",
      "  warnings.warn(\n",
      "\r",
      "                                                       "
     ]
    },
    {
     "name": "stderr",
     "output_type": "stream",
     "text": [
      "\r"
     ]
    },
    {
     "name": "stderr",
     "output_type": "stream",
     "text": [
      "\r",
      "Backtest.run:   0%|          | 0/3128 [00:00<?, ?bar/s]"
     ]
    },
    {
     "name": "stderr",
     "output_type": "stream",
     "text": [
      "\r",
      "                                                       "
     ]
    },
    {
     "name": "stderr",
     "output_type": "stream",
     "text": [
      "\r"
     ]
    },
    {
     "name": "stderr",
     "output_type": "stream",
     "text": [
      "\r",
      "Backtest.run:   0%|          | 0/3414 [00:00<?, ?bar/s]"
     ]
    },
    {
     "name": "stderr",
     "output_type": "stream",
     "text": [
      "\r",
      "                                                       "
     ]
    },
    {
     "name": "stderr",
     "output_type": "stream",
     "text": [
      "\r"
     ]
    },
    {
     "name": "stderr",
     "output_type": "stream",
     "text": [
      "\r",
      "Backtest.run:   0%|          | 0/3435 [00:00<?, ?bar/s]"
     ]
    },
    {
     "name": "stderr",
     "output_type": "stream",
     "text": [
      "\r",
      "                                                       "
     ]
    },
    {
     "name": "stderr",
     "output_type": "stream",
     "text": [
      "\r"
     ]
    },
    {
     "name": "stderr",
     "output_type": "stream",
     "text": [
      "\r",
      "Backtest.run:   0%|          | 0/2655 [00:00<?, ?bar/s]"
     ]
    },
    {
     "name": "stderr",
     "output_type": "stream",
     "text": [
      "/usr/share/miniconda/envs/test/lib/python3.10/site-packages/backtesting/backtesting.py:954: UserWarning: time=2610: Broker canceled the relative-sized order due to insufficient margin.\n",
      "  warnings.warn(\n",
      "\r",
      "                                                       "
     ]
    },
    {
     "name": "stderr",
     "output_type": "stream",
     "text": [
      "\r"
     ]
    },
    {
     "name": "stderr",
     "output_type": "stream",
     "text": [
      "\r",
      "Backtest.run:   0%|          | 0/114 [00:00<?, ?bar/s]"
     ]
    },
    {
     "name": "stderr",
     "output_type": "stream",
     "text": [
      "\r",
      "                                                      "
     ]
    },
    {
     "name": "stderr",
     "output_type": "stream",
     "text": [
      "\r",
      "/tmp/ipykernel_2153/2801041912.py:34: FutureWarning: The behavior of DataFrame concatenation with empty or all-NA entries is deprecated. In a future version, this will no longer exclude empty or all-NA columns when determining the result dtypes. To retain the old behavior, exclude the relevant entries before the concat operation.\n",
      "  tradesprev = pd.concat([tradesprev, tradesdf],ignore_index=True)\n",
      "/tmp/ipykernel_2153/2801041912.py:35: FutureWarning: The behavior of DataFrame concatenation with empty or all-NA entries is deprecated. In a future version, this will no longer exclude empty or all-NA columns when determining the result dtypes. To retain the old behavior, exclude the relevant entries before the concat operation.\n",
      "  estadisticas=pd.concat([estadisticas, stat],ignore_index=True)\n"
     ]
    },
    {
     "name": "stderr",
     "output_type": "stream",
     "text": [
      "\r",
      "Backtest.run:   0%|          | 0/3353 [00:00<?, ?bar/s]"
     ]
    },
    {
     "name": "stderr",
     "output_type": "stream",
     "text": [
      "/usr/share/miniconda/envs/test/lib/python3.10/site-packages/backtesting/backtesting.py:954: UserWarning: time=1330: Broker canceled the relative-sized order due to insufficient margin.\n",
      "  warnings.warn(\n"
     ]
    },
    {
     "name": "stderr",
     "output_type": "stream",
     "text": [
      "\r",
      "                                                       "
     ]
    },
    {
     "name": "stderr",
     "output_type": "stream",
     "text": [
      "\r"
     ]
    },
    {
     "name": "stderr",
     "output_type": "stream",
     "text": [
      "\r",
      "Backtest.run:   0%|          | 0/2837 [00:00<?, ?bar/s]"
     ]
    },
    {
     "name": "stderr",
     "output_type": "stream",
     "text": [
      "/usr/share/miniconda/envs/test/lib/python3.10/site-packages/backtesting/backtesting.py:954: UserWarning: time=1198: Broker canceled the relative-sized order due to insufficient margin.\n",
      "  warnings.warn(\n"
     ]
    },
    {
     "name": "stderr",
     "output_type": "stream",
     "text": [
      "\r",
      "                                                       "
     ]
    },
    {
     "name": "stderr",
     "output_type": "stream",
     "text": [
      "\r"
     ]
    },
    {
     "name": "stderr",
     "output_type": "stream",
     "text": [
      "\r",
      "Backtest.run:   0%|          | 0/3105 [00:00<?, ?bar/s]"
     ]
    },
    {
     "name": "stderr",
     "output_type": "stream",
     "text": [
      "/usr/share/miniconda/envs/test/lib/python3.10/site-packages/backtesting/backtesting.py:954: UserWarning: time=940: Broker canceled the relative-sized order due to insufficient margin.\n",
      "  warnings.warn(\n",
      "/usr/share/miniconda/envs/test/lib/python3.10/site-packages/backtesting/backtesting.py:954: UserWarning: time=1101: Broker canceled the relative-sized order due to insufficient margin.\n",
      "  warnings.warn(\n"
     ]
    },
    {
     "name": "stderr",
     "output_type": "stream",
     "text": [
      "\r",
      "                                                       "
     ]
    },
    {
     "name": "stderr",
     "output_type": "stream",
     "text": [
      "\r"
     ]
    },
    {
     "name": "stderr",
     "output_type": "stream",
     "text": [
      "\r",
      "Backtest.run:   0%|          | 0/3303 [00:00<?, ?bar/s]"
     ]
    },
    {
     "name": "stderr",
     "output_type": "stream",
     "text": [
      "/usr/share/miniconda/envs/test/lib/python3.10/site-packages/backtesting/backtesting.py:954: UserWarning: time=1456: Broker canceled the relative-sized order due to insufficient margin.\n",
      "  warnings.warn(\n",
      "/usr/share/miniconda/envs/test/lib/python3.10/site-packages/backtesting/backtesting.py:954: UserWarning: time=2428: Broker canceled the relative-sized order due to insufficient margin.\n",
      "  warnings.warn(\n",
      "\r",
      "                                                       "
     ]
    },
    {
     "name": "stderr",
     "output_type": "stream",
     "text": [
      "\r"
     ]
    },
    {
     "name": "stderr",
     "output_type": "stream",
     "text": [
      "\r",
      "Backtest.run:   0%|          | 0/3361 [00:00<?, ?bar/s]"
     ]
    },
    {
     "name": "stderr",
     "output_type": "stream",
     "text": [
      "/usr/share/miniconda/envs/test/lib/python3.10/site-packages/backtesting/backtesting.py:954: UserWarning: time=872: Broker canceled the relative-sized order due to insufficient margin.\n",
      "  warnings.warn(\n",
      "/usr/share/miniconda/envs/test/lib/python3.10/site-packages/backtesting/backtesting.py:954: UserWarning: time=1235: Broker canceled the relative-sized order due to insufficient margin.\n",
      "  warnings.warn(\n",
      "\r",
      "                                                       "
     ]
    },
    {
     "name": "stderr",
     "output_type": "stream",
     "text": [
      "\r"
     ]
    }
   ],
   "source": [
    "# Por cada TIcket\n",
    "my_stats = {}\n",
    "estadisticas = pd.DataFrame()          # lista para ticker\n",
    "tradesprev = pd.DataFrame()     # lista para cada caso por ticker\n",
    "for ticker in df_backTesting['companyName'].unique():\n",
    "    ticker_data = df_backTesting[df_backTesting['companyName'] == ticker].copy() #Filtro por cada ticker\n",
    "    bt = Backtest(ticker_data, strategyRupturaCanal, cash=10_000)\n",
    "    my_stats = bt.run()\n",
    "    listTrades = my_stats['_trades']\n",
    "    tradesdf = pd.DataFrame(listTrades) #trades\n",
    "    tradesdf['Ticker'] = ticker\n",
    "    stats_filter={\n",
    "        'Ticker':ticker,\n",
    "        'EntryTime':my_stats['Start'],\n",
    "        'ExitTime':my_stats['End'],\n",
    "        'Return [%]': my_stats['Return [%]'],\n",
    "        'CAGR [%]': my_stats['Return (Ann.) [%]'],\n",
    "        'Sharpe Ratio': my_stats['Sharpe Ratio'],\n",
    "        'Max. Drawdown [%]': my_stats['Max. Drawdown [%]'],\n",
    "        'Win Rate [%]': my_stats['Win Rate [%]'],\n",
    "        '# Trades': my_stats['# Trades'],\n",
    "        'Expectancy [%]': my_stats['Expectancy [%]'],\n",
    "        'Profit Factor': my_stats['Profit Factor'],\n",
    "        'Duration': my_stats['Duration'],\n",
    "        'Avg. Trade [%]':my_stats['Avg. Trade [%]'],\n",
    "        'Max. Trade Duration':my_stats['Max. Trade Duration'],\n",
    "        'Avg. Trade Duration':my_stats['Avg. Trade Duration']\n",
    "    }\n",
    "    stat=pd.DataFrame([stats_filter])\n",
    "    if tradesprev.shape[0]==0:\n",
    "        tradesprev = tradesdf.copy()\n",
    "        estadisticas=stat.copy()\n",
    "    else:\n",
    "        tradesprev = pd.concat([tradesprev, tradesdf],ignore_index=True)\n",
    "        estadisticas=pd.concat([estadisticas, stat],ignore_index=True)\n",
    "    # Mostramos\n",
    "    #bt.plot(resample=False, filename=f\"plot_BreakOUT_{ticker}\")"
   ]
  },
  {
   "cell_type": "code",
   "execution_count": 18,
   "id": "ebdac24e-07d0-4923-b11b-c35831321046",
   "metadata": {
    "execution": {
     "iopub.execute_input": "2025-06-11T19:56:50.223952Z",
     "iopub.status.busy": "2025-06-11T19:56:50.223536Z",
     "iopub.status.idle": "2025-06-11T19:56:50.229520Z",
     "shell.execute_reply": "2025-06-11T19:56:50.229050Z"
    },
    "papermill": {
     "duration": 0.037606,
     "end_time": "2025-06-11T19:56:50.230410",
     "exception": false,
     "start_time": "2025-06-11T19:56:50.192804",
     "status": "completed"
    },
    "tags": []
   },
   "outputs": [],
   "source": [
    "ini = df_casos2[(df_casos2['isBreakOutIni']==1)].copy()\n",
    "df_casos3_ini=ini.rename(columns={'Open': 'EntryPrice', 'datetime': 'EntryTime', 'companyName': 'Ticker'})[['EntryPrice','Ticker','caso','EntryTime']]\n",
    "final = df_casos2[(df_casos2['isBreakOutFinal']==1)].copy()\n",
    "df_casos3_final=final.rename(columns={'Open': 'ExitPrice', 'datetime': 'ExitTime', 'companyName': 'Ticker'})[['ExitPrice','Ticker','caso','ExitTime']]"
   ]
  },
  {
   "cell_type": "code",
   "execution_count": 19,
   "id": "8fbb81d3",
   "metadata": {
    "execution": {
     "iopub.execute_input": "2025-06-11T19:56:50.292235Z",
     "iopub.status.busy": "2025-06-11T19:56:50.291855Z",
     "iopub.status.idle": "2025-06-11T19:56:50.297675Z",
     "shell.execute_reply": "2025-06-11T19:56:50.297091Z"
    },
    "papermill": {
     "duration": 0.037644,
     "end_time": "2025-06-11T19:56:50.298626",
     "exception": false,
     "start_time": "2025-06-11T19:56:50.260982",
     "status": "completed"
    },
    "tags": []
   },
   "outputs": [],
   "source": [
    "df_casos3=df_casos3_ini.merge(df_casos3_final,on=['Ticker','caso'],how='outer')"
   ]
  },
  {
   "cell_type": "code",
   "execution_count": 20,
   "id": "3b0668a0",
   "metadata": {
    "execution": {
     "iopub.execute_input": "2025-06-11T19:56:50.363747Z",
     "iopub.status.busy": "2025-06-11T19:56:50.363265Z",
     "iopub.status.idle": "2025-06-11T19:56:50.368997Z",
     "shell.execute_reply": "2025-06-11T19:56:50.368549Z"
    },
    "papermill": {
     "duration": 0.040689,
     "end_time": "2025-06-11T19:56:50.369813",
     "exception": false,
     "start_time": "2025-06-11T19:56:50.329124",
     "status": "completed"
    },
    "tags": []
   },
   "outputs": [],
   "source": [
    "trades = pd.merge(df_casos3, tradesprev, on = ['EntryTime','Ticker'], how='left')"
   ]
  },
  {
   "cell_type": "code",
   "execution_count": 21,
   "id": "15ac2ccd",
   "metadata": {
    "execution": {
     "iopub.execute_input": "2025-06-11T19:56:50.431926Z",
     "iopub.status.busy": "2025-06-11T19:56:50.431704Z",
     "iopub.status.idle": "2025-06-11T19:56:50.441012Z",
     "shell.execute_reply": "2025-06-11T19:56:50.440554Z"
    },
    "papermill": {
     "duration": 0.041039,
     "end_time": "2025-06-11T19:56:50.441788",
     "exception": false,
     "start_time": "2025-06-11T19:56:50.400749",
     "status": "completed"
    },
    "tags": []
   },
   "outputs": [],
   "source": [
    "def exitPrice(x):\n",
    "    if pd.isna(x['ExitPrice_x']):\n",
    "        return x['ExitPrice_y']\n",
    "    else:\n",
    "        return x['ExitPrice_x']\n",
    "trades['ExitPrice'] = trades.apply(lambda row: exitPrice(row), axis=1)"
   ]
  },
  {
   "cell_type": "code",
   "execution_count": 22,
   "id": "6a76fb26",
   "metadata": {
    "execution": {
     "iopub.execute_input": "2025-06-11T19:56:50.504221Z",
     "iopub.status.busy": "2025-06-11T19:56:50.503902Z",
     "iopub.status.idle": "2025-06-11T19:56:50.508270Z",
     "shell.execute_reply": "2025-06-11T19:56:50.507696Z"
    },
    "papermill": {
     "duration": 0.036222,
     "end_time": "2025-06-11T19:56:50.509108",
     "exception": false,
     "start_time": "2025-06-11T19:56:50.472886",
     "status": "completed"
    },
    "tags": []
   },
   "outputs": [],
   "source": [
    "trades = trades.rename(columns={'EntryPrice_x': 'EntryPrice'})\n",
    "trades = trades.drop(['EntryPrice_y','ExitPrice_x', 'ExitPrice_y'], axis=1)"
   ]
  },
  {
   "cell_type": "code",
   "execution_count": 23,
   "id": "b2ae9041",
   "metadata": {
    "execution": {
     "iopub.execute_input": "2025-06-11T19:56:50.571603Z",
     "iopub.status.busy": "2025-06-11T19:56:50.571129Z",
     "iopub.status.idle": "2025-06-11T19:56:50.580578Z",
     "shell.execute_reply": "2025-06-11T19:56:50.579994Z"
    },
    "papermill": {
     "duration": 0.041507,
     "end_time": "2025-06-11T19:56:50.581521",
     "exception": false,
     "start_time": "2025-06-11T19:56:50.540014",
     "status": "completed"
    },
    "tags": []
   },
   "outputs": [],
   "source": [
    "def exitTime(x):\n",
    "    if pd.isna(x['ExitTime_x']):\n",
    "        return x['ExitTime_y']\n",
    "    else:\n",
    "        return x['ExitTime_x']\n",
    "trades['ExitTime'] = trades.apply(lambda row: exitTime(row), axis=1)"
   ]
  },
  {
   "cell_type": "code",
   "execution_count": 24,
   "id": "193cdbfe",
   "metadata": {
    "execution": {
     "iopub.execute_input": "2025-06-11T19:56:50.643802Z",
     "iopub.status.busy": "2025-06-11T19:56:50.643335Z",
     "iopub.status.idle": "2025-06-11T19:56:50.654208Z",
     "shell.execute_reply": "2025-06-11T19:56:50.653751Z"
    },
    "papermill": {
     "duration": 0.042493,
     "end_time": "2025-06-11T19:56:50.655084",
     "exception": false,
     "start_time": "2025-06-11T19:56:50.612591",
     "status": "completed"
    },
    "tags": []
   },
   "outputs": [],
   "source": [
    "def duration(x):\n",
    "    if pd.isna(x['Duration']):\n",
    "        if pd.isna(x['ExitTime']):\n",
    "            return pd.NaT\n",
    "        else:\n",
    "            return x['ExitTime']-x['EntryTime']\n",
    "    else:\n",
    "        return x['Duration']\n",
    "trades['Duration'] = trades.apply(lambda row: duration(row), axis=1)"
   ]
  },
  {
   "cell_type": "code",
   "execution_count": 25,
   "id": "c032ed19",
   "metadata": {
    "execution": {
     "iopub.execute_input": "2025-06-11T19:56:50.717282Z",
     "iopub.status.busy": "2025-06-11T19:56:50.716874Z",
     "iopub.status.idle": "2025-06-11T19:56:50.720263Z",
     "shell.execute_reply": "2025-06-11T19:56:50.719796Z"
    },
    "papermill": {
     "duration": 0.035058,
     "end_time": "2025-06-11T19:56:50.721069",
     "exception": false,
     "start_time": "2025-06-11T19:56:50.686011",
     "status": "completed"
    },
    "tags": []
   },
   "outputs": [],
   "source": [
    "trades = trades.drop(['ExitTime_x', 'ExitTime_y'], axis=1)"
   ]
  },
  {
   "cell_type": "code",
   "execution_count": 26,
   "id": "881ca541",
   "metadata": {
    "execution": {
     "iopub.execute_input": "2025-06-11T19:56:50.782846Z",
     "iopub.status.busy": "2025-06-11T19:56:50.782630Z",
     "iopub.status.idle": "2025-06-11T19:56:50.786147Z",
     "shell.execute_reply": "2025-06-11T19:56:50.785683Z"
    },
    "papermill": {
     "duration": 0.0352,
     "end_time": "2025-06-11T19:56:50.786933",
     "exception": false,
     "start_time": "2025-06-11T19:56:50.751733",
     "status": "completed"
    },
    "tags": []
   },
   "outputs": [],
   "source": [
    "trades=trades[['Ticker','EntryTime','ExitTime','EntryPrice','ExitPrice','Duration','Size','EntryBar','ExitBar','ReturnPct','PnL','caso']]"
   ]
  },
  {
   "cell_type": "code",
   "execution_count": 27,
   "id": "a72c8a0d",
   "metadata": {
    "execution": {
     "iopub.execute_input": "2025-06-11T19:56:50.849743Z",
     "iopub.status.busy": "2025-06-11T19:56:50.849280Z",
     "iopub.status.idle": "2025-06-11T19:56:50.877316Z",
     "shell.execute_reply": "2025-06-11T19:56:50.876753Z"
    },
    "papermill": {
     "duration": 0.060134,
     "end_time": "2025-06-11T19:56:50.878257",
     "exception": false,
     "start_time": "2025-06-11T19:56:50.818123",
     "status": "completed"
    },
    "tags": []
   },
   "outputs": [],
   "source": [
    "for item in estadisticas['Ticker'].unique():\n",
    "    count = trades[trades[\"Ticker\"] == item].shape[0]\n",
    "    estadisticas.loc[estadisticas['Ticker'] == item, '# Trades'] = count"
   ]
  },
  {
   "cell_type": "code",
   "execution_count": 28,
   "id": "eda2a7ba",
   "metadata": {
    "execution": {
     "iopub.execute_input": "2025-06-11T19:56:50.940595Z",
     "iopub.status.busy": "2025-06-11T19:56:50.940391Z",
     "iopub.status.idle": "2025-06-11T19:56:50.959544Z",
     "shell.execute_reply": "2025-06-11T19:56:50.959084Z"
    },
    "papermill": {
     "duration": 0.050994,
     "end_time": "2025-06-11T19:56:50.960331",
     "exception": false,
     "start_time": "2025-06-11T19:56:50.909337",
     "status": "completed"
    },
    "tags": []
   },
   "outputs": [],
   "source": [
    "#EXPORTACION DE DATAFRAME\n",
    "path = 'data/backtesting'\n",
    "\n",
    "# Asegurarse de que el directorio existe\n",
    "os.makedirs(path, exist_ok=True)\n",
    "\n",
    "path_trades = os.path.join(path, 'trades_rca_h.csv')\n",
    "path_estadisticas = os.path.join(path, 'estadisticas_rca_h.csv')\n",
    "\n",
    "for file_path in [path_trades, path_estadisticas]:\n",
    "    if os.path.exists(file_path):\n",
    "        os.remove(file_path)\n",
    "    else:\n",
    "        print(f\"File does not exist: {file_path}. It will be created.\")\n",
    "\n",
    "trades.to_csv(path_trades, header=True, index=False, sep='\\t', mode='w')\n",
    "estadisticas.to_csv(path_estadisticas, header=True, index=False, sep='\\t', mode='w')\n"
   ]
  }
 ],
 "metadata": {
  "kernelspec": {
   "display_name": "Python [conda env:base] *",
   "language": "python",
   "name": "conda-base-py"
  },
  "language_info": {
   "codemirror_mode": {
    "name": "ipython",
    "version": 3
   },
   "file_extension": ".py",
   "mimetype": "text/x-python",
   "name": "python",
   "nbconvert_exporter": "python",
   "pygments_lexer": "ipython3",
   "version": "3.10.18"
  },
  "papermill": {
   "default_parameters": {},
   "duration": 210.8443,
   "end_time": "2025-06-11T19:56:51.408377",
   "environment_variables": {},
   "exception": null,
   "input_path": "BreakOut_alcista.ipynb",
   "output_path": "output/BreakOut_alcista.ipynb",
   "parameters": {},
   "start_time": "2025-06-11T19:53:20.564077",
   "version": "2.6.0"
  }
 },
 "nbformat": 4,
 "nbformat_minor": 5
}