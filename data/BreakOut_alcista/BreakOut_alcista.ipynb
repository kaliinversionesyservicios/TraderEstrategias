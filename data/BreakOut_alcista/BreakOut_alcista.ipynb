{
 "cells": [
  {
   "cell_type": "markdown",
   "id": "add7e209-9b3e-4a88-9f6c-e4036fd41ac1",
   "metadata": {
    "papermill": {
     "duration": 0.004318,
     "end_time": "2025-06-11T18:02:50.861084",
     "exception": false,
     "start_time": "2025-06-11T18:02:50.856766",
     "status": "completed"
    },
    "tags": []
   },
   "source": [
    "# Channel Break Out Detection Alcista"
   ]
  },
  {
   "cell_type": "code",
   "execution_count": 1,
   "id": "d9112859-5bd6-42a9-bde4-b8ff8d2aa4b3",
   "metadata": {
    "execution": {
     "iopub.execute_input": "2025-06-11T18:02:50.869311Z",
     "iopub.status.busy": "2025-06-11T18:02:50.869086Z",
     "iopub.status.idle": "2025-06-11T18:02:52.074529Z",
     "shell.execute_reply": "2025-06-11T18:02:52.074050Z"
    },
    "papermill": {
     "duration": 1.210722,
     "end_time": "2025-06-11T18:02:52.075469",
     "exception": false,
     "start_time": "2025-06-11T18:02:50.864747",
     "status": "completed"
    },
    "tags": []
   },
   "outputs": [
    {
     "name": "stderr",
     "output_type": "stream",
     "text": [
      "/usr/share/miniconda/envs/test/lib/python3.10/site-packages/tqdm/auto.py:21: TqdmWarning: IProgress not found. Please update jupyter and ipywidgets. See https://ipywidgets.readthedocs.io/en/stable/user_install.html\n",
      "  from .autonotebook import tqdm as notebook_tqdm\n",
      "/usr/share/miniconda/envs/test/lib/python3.10/site-packages/backtesting/_plotting.py:55: UserWarning: Jupyter Notebook detected. Setting Bokeh output to notebook. This may not work in Jupyter clients without JavaScript support, such as old IDEs. Reset with `backtesting.set_bokeh_output(notebook=False)`.\n",
      "  warnings.warn('Jupyter Notebook detected. '\n"
     ]
    },
    {
     "data": {
      "text/html": [
       "    <style>\n",
       "        .bk-notebook-logo {\n",
       "            display: block;\n",
       "            width: 20px;\n",
       "            height: 20px;\n",
       "            background-image: url(data:image/png;base64,iVBORw0KGgoAAAANSUhEUgAAABQAAAAUCAYAAACNiR0NAAAABHNCSVQICAgIfAhkiAAAAAlwSFlzAAALEgAACxIB0t1+/AAAABx0RVh0U29mdHdhcmUAQWRvYmUgRmlyZXdvcmtzIENTNui8sowAAAOkSURBVDiNjZRtaJVlGMd/1/08zzln5zjP1LWcU9N0NkN8m2CYjpgQYQXqSs0I84OLIC0hkEKoPtiH3gmKoiJDU7QpLgoLjLIQCpEsNJ1vqUOdO7ppbuec5+V+rj4ctwzd8IIbbi6u+8f1539dt3A78eXC7QizUF7gyV1fD1Yqg4JWz84yffhm0qkFqBogB9rM8tZdtwVsPUhWhGcFJngGeWrPzHm5oaMmkfEg1usvLFyc8jLRqDOMru7AyC8saQr7GG7f5fvDeH7Ej8CM66nIF+8yngt6HWaKh7k49Soy9nXurCi1o3qUbS3zWfrYeQDTB/Qj6kX6Ybhw4B+bOYoLKCC9H3Nu/leUTZ1JdRWkkn2ldcCamzrcf47KKXdAJllSlxAOkRgyHsGC/zRday5Qld9DyoM4/q/rUoy/CXh3jzOu3bHUVZeU+DEn8FInkPBFlu3+nW3Nw0mk6vCDiWg8CeJaxEwuHS3+z5RgY+YBR6V1Z1nxSOfoaPa4LASWxxdNp+VWTk7+4vzaou8v8PN+xo+KY2xsw6une2frhw05CTYOmQvsEhjhWjn0bmXPjpE1+kplmmkP3suftwTubK9Vq22qKmrBhpY4jvd5afdRA3wGjFAgcnTK2s4hY0/GPNIb0nErGMCRxWOOX64Z8RAC4oCXdklmEvcL8o0BfkNK4lUg9HTl+oPlQxdNo3Mg4Nv175e/1LDGzZen30MEjRUtmXSfiTVu1kK8W4txyV6BMKlbgk3lMwYCiusNy9fVfvvwMxv8Ynl6vxoByANLTWplvuj/nF9m2+PDtt1eiHPBr1oIfhCChQMBw6Aw0UulqTKZdfVvfG7VcfIqLG9bcldL/+pdWTLxLUy8Qq38heUIjh4XlzZxzQm19lLFlr8vdQ97rjZVOLf8nclzckbcD4wxXMidpX30sFd37Fv/GtwwhzhxGVAprjbg0gCAEeIgwCZyTV2Z1REEW8O4py0wsjeloKoMr6iCY6dP92H6Vw/oTyICIthibxjm/DfN9lVz8IqtqKYLUXfoKVMVQVVJOElGjrnnUt9T9wbgp8AyYKaGlqingHZU/uG2NTZSVqwHQTWkx9hxjkpWDaCg6Ckj5qebgBVbT3V3NNXMSiWSDdGV3hrtzla7J+duwPOToIg42ChPQOQjspnSlp1V+Gjdged7+8UN5CRAV7a5EdFNwCjEaBR27b3W890TE7g24NAP/mMDXRWrGoFPQI9ls/MWO2dWFAar/xcOIImbbpA3zgAAAABJRU5ErkJggg==);\n",
       "        }\n",
       "    </style>\n",
       "    <div>\n",
       "        <a href=\"https://bokeh.org\" target=\"_blank\" class=\"bk-notebook-logo\"></a>\n",
       "        <span id=\"a9305477-06ba-49b7-a57f-245d8ddb52d1\">Loading BokehJS ...</span>\n",
       "    </div>\n"
      ]
     },
     "metadata": {},
     "output_type": "display_data"
    },
    {
     "data": {
      "application/javascript": [
       "'use strict';\n",
       "(function(root) {\n",
       "  function now() {\n",
       "    return new Date();\n",
       "  }\n",
       "\n",
       "  const force = true;\n",
       "\n",
       "  if (typeof root._bokeh_onload_callbacks === \"undefined\" || force === true) {\n",
       "    root._bokeh_onload_callbacks = [];\n",
       "    root._bokeh_is_loading = undefined;\n",
       "  }\n",
       "\n",
       "const JS_MIME_TYPE = 'application/javascript';\n",
       "  const HTML_MIME_TYPE = 'text/html';\n",
       "  const EXEC_MIME_TYPE = 'application/vnd.bokehjs_exec.v0+json';\n",
       "  const CLASS_NAME = 'output_bokeh rendered_html';\n",
       "\n",
       "  /**\n",
       "   * Render data to the DOM node\n",
       "   */\n",
       "  function render(props, node) {\n",
       "    const script = document.createElement(\"script\");\n",
       "    node.appendChild(script);\n",
       "  }\n",
       "\n",
       "  /**\n",
       "   * Handle when an output is cleared or removed\n",
       "   */\n",
       "  function handleClearOutput(event, handle) {\n",
       "    function drop(id) {\n",
       "      const view = Bokeh.index.get_by_id(id)\n",
       "      if (view != null) {\n",
       "        view.model.document.clear()\n",
       "        Bokeh.index.delete(view)\n",
       "      }\n",
       "    }\n",
       "\n",
       "    const cell = handle.cell;\n",
       "\n",
       "    const id = cell.output_area._bokeh_element_id;\n",
       "    const server_id = cell.output_area._bokeh_server_id;\n",
       "\n",
       "    // Clean up Bokeh references\n",
       "    if (id != null) {\n",
       "      drop(id)\n",
       "    }\n",
       "\n",
       "    if (server_id !== undefined) {\n",
       "      // Clean up Bokeh references\n",
       "      const cmd_clean = \"from bokeh.io.state import curstate; print(curstate().uuid_to_server['\" + server_id + \"'].get_sessions()[0].document.roots[0]._id)\";\n",
       "      cell.notebook.kernel.execute(cmd_clean, {\n",
       "        iopub: {\n",
       "          output: function(msg) {\n",
       "            const id = msg.content.text.trim()\n",
       "            drop(id)\n",
       "          }\n",
       "        }\n",
       "      });\n",
       "      // Destroy server and session\n",
       "      const cmd_destroy = \"import bokeh.io.notebook as ion; ion.destroy_server('\" + server_id + \"')\";\n",
       "      cell.notebook.kernel.execute(cmd_destroy);\n",
       "    }\n",
       "  }\n",
       "\n",
       "  /**\n",
       "   * Handle when a new output is added\n",
       "   */\n",
       "  function handleAddOutput(event, handle) {\n",
       "    const output_area = handle.output_area;\n",
       "    const output = handle.output;\n",
       "\n",
       "    // limit handleAddOutput to display_data with EXEC_MIME_TYPE content only\n",
       "    if ((output.output_type != \"display_data\") || (!Object.prototype.hasOwnProperty.call(output.data, EXEC_MIME_TYPE))) {\n",
       "      return\n",
       "    }\n",
       "\n",
       "    const toinsert = output_area.element.find(\".\" + CLASS_NAME.split(' ')[0]);\n",
       "\n",
       "    if (output.metadata[EXEC_MIME_TYPE][\"id\"] !== undefined) {\n",
       "      toinsert[toinsert.length - 1].firstChild.textContent = output.data[JS_MIME_TYPE];\n",
       "      // store reference to embed id on output_area\n",
       "      output_area._bokeh_element_id = output.metadata[EXEC_MIME_TYPE][\"id\"];\n",
       "    }\n",
       "    if (output.metadata[EXEC_MIME_TYPE][\"server_id\"] !== undefined) {\n",
       "      const bk_div = document.createElement(\"div\");\n",
       "      bk_div.innerHTML = output.data[HTML_MIME_TYPE];\n",
       "      const script_attrs = bk_div.children[0].attributes;\n",
       "      for (let i = 0; i < script_attrs.length; i++) {\n",
       "        toinsert[toinsert.length - 1].firstChild.setAttribute(script_attrs[i].name, script_attrs[i].value);\n",
       "        toinsert[toinsert.length - 1].firstChild.textContent = bk_div.children[0].textContent\n",
       "      }\n",
       "      // store reference to server id on output_area\n",
       "      output_area._bokeh_server_id = output.metadata[EXEC_MIME_TYPE][\"server_id\"];\n",
       "    }\n",
       "  }\n",
       "\n",
       "  function register_renderer(events, OutputArea) {\n",
       "\n",
       "    function append_mime(data, metadata, element) {\n",
       "      // create a DOM node to render to\n",
       "      const toinsert = this.create_output_subarea(\n",
       "        metadata,\n",
       "        CLASS_NAME,\n",
       "        EXEC_MIME_TYPE\n",
       "      );\n",
       "      this.keyboard_manager.register_events(toinsert);\n",
       "      // Render to node\n",
       "      const props = {data: data, metadata: metadata[EXEC_MIME_TYPE]};\n",
       "      render(props, toinsert[toinsert.length - 1]);\n",
       "      element.append(toinsert);\n",
       "      return toinsert\n",
       "    }\n",
       "\n",
       "    /* Handle when an output is cleared or removed */\n",
       "    events.on('clear_output.CodeCell', handleClearOutput);\n",
       "    events.on('delete.Cell', handleClearOutput);\n",
       "\n",
       "    /* Handle when a new output is added */\n",
       "    events.on('output_added.OutputArea', handleAddOutput);\n",
       "\n",
       "    /**\n",
       "     * Register the mime type and append_mime function with output_area\n",
       "     */\n",
       "    OutputArea.prototype.register_mime_type(EXEC_MIME_TYPE, append_mime, {\n",
       "      /* Is output safe? */\n",
       "      safe: true,\n",
       "      /* Index of renderer in `output_area.display_order` */\n",
       "      index: 0\n",
       "    });\n",
       "  }\n",
       "\n",
       "  // register the mime type if in Jupyter Notebook environment and previously unregistered\n",
       "  if (root.Jupyter !== undefined) {\n",
       "    const events = require('base/js/events');\n",
       "    const OutputArea = require('notebook/js/outputarea').OutputArea;\n",
       "\n",
       "    if (OutputArea.prototype.mime_types().indexOf(EXEC_MIME_TYPE) == -1) {\n",
       "      register_renderer(events, OutputArea);\n",
       "    }\n",
       "  }\n",
       "  if (typeof (root._bokeh_timeout) === \"undefined\" || force === true) {\n",
       "    root._bokeh_timeout = Date.now() + 5000;\n",
       "    root._bokeh_failed_load = false;\n",
       "  }\n",
       "\n",
       "  const NB_LOAD_WARNING = {'data': {'text/html':\n",
       "     \"<div style='background-color: #fdd'>\\n\"+\n",
       "     \"<p>\\n\"+\n",
       "     \"BokehJS does not appear to have successfully loaded. If loading BokehJS from CDN, this \\n\"+\n",
       "     \"may be due to a slow or bad network connection. Possible fixes:\\n\"+\n",
       "     \"</p>\\n\"+\n",
       "     \"<ul>\\n\"+\n",
       "     \"<li>re-rerun `output_notebook()` to attempt to load from CDN again, or</li>\\n\"+\n",
       "     \"<li>use INLINE resources instead, as so:</li>\\n\"+\n",
       "     \"</ul>\\n\"+\n",
       "     \"<code>\\n\"+\n",
       "     \"from bokeh.resources import INLINE\\n\"+\n",
       "     \"output_notebook(resources=INLINE)\\n\"+\n",
       "     \"</code>\\n\"+\n",
       "     \"</div>\"}};\n",
       "\n",
       "  function display_loaded(error = null) {\n",
       "    const el = document.getElementById(\"a9305477-06ba-49b7-a57f-245d8ddb52d1\");\n",
       "    if (el != null) {\n",
       "      const html = (() => {\n",
       "        if (typeof root.Bokeh === \"undefined\") {\n",
       "          if (error == null) {\n",
       "            return \"BokehJS is loading ...\";\n",
       "          } else {\n",
       "            return \"BokehJS failed to load.\";\n",
       "          }\n",
       "        } else {\n",
       "          const prefix = `BokehJS ${root.Bokeh.version}`;\n",
       "          if (error == null) {\n",
       "            return `${prefix} successfully loaded.`;\n",
       "          } else {\n",
       "            return `${prefix} <b>encountered errors</b> while loading and may not function as expected.`;\n",
       "          }\n",
       "        }\n",
       "      })();\n",
       "      el.innerHTML = html;\n",
       "\n",
       "      if (error != null) {\n",
       "        const wrapper = document.createElement(\"div\");\n",
       "        wrapper.style.overflow = \"auto\";\n",
       "        wrapper.style.height = \"5em\";\n",
       "        wrapper.style.resize = \"vertical\";\n",
       "        const content = document.createElement(\"div\");\n",
       "        content.style.fontFamily = \"monospace\";\n",
       "        content.style.whiteSpace = \"pre-wrap\";\n",
       "        content.style.backgroundColor = \"rgb(255, 221, 221)\";\n",
       "        content.textContent = error.stack ?? error.toString();\n",
       "        wrapper.append(content);\n",
       "        el.append(wrapper);\n",
       "      }\n",
       "    } else if (Date.now() < root._bokeh_timeout) {\n",
       "      setTimeout(() => display_loaded(error), 100);\n",
       "    }\n",
       "  }\n",
       "\n",
       "  function run_callbacks() {\n",
       "    try {\n",
       "      root._bokeh_onload_callbacks.forEach(function(callback) {\n",
       "        if (callback != null)\n",
       "          callback();\n",
       "      });\n",
       "    } finally {\n",
       "      delete root._bokeh_onload_callbacks\n",
       "    }\n",
       "    console.debug(\"Bokeh: all callbacks have finished\");\n",
       "  }\n",
       "\n",
       "  function load_libs(css_urls, js_urls, callback) {\n",
       "    if (css_urls == null) css_urls = [];\n",
       "    if (js_urls == null) js_urls = [];\n",
       "\n",
       "    root._bokeh_onload_callbacks.push(callback);\n",
       "    if (root._bokeh_is_loading > 0) {\n",
       "      console.debug(\"Bokeh: BokehJS is being loaded, scheduling callback at\", now());\n",
       "      return null;\n",
       "    }\n",
       "    if (js_urls == null || js_urls.length === 0) {\n",
       "      run_callbacks();\n",
       "      return null;\n",
       "    }\n",
       "    console.debug(\"Bokeh: BokehJS not loaded, scheduling load and callback at\", now());\n",
       "    root._bokeh_is_loading = css_urls.length + js_urls.length;\n",
       "\n",
       "    function on_load() {\n",
       "      root._bokeh_is_loading--;\n",
       "      if (root._bokeh_is_loading === 0) {\n",
       "        console.debug(\"Bokeh: all BokehJS libraries/stylesheets loaded\");\n",
       "        run_callbacks()\n",
       "      }\n",
       "    }\n",
       "\n",
       "    function on_error(url) {\n",
       "      console.error(\"failed to load \" + url);\n",
       "    }\n",
       "\n",
       "    for (let i = 0; i < css_urls.length; i++) {\n",
       "      const url = css_urls[i];\n",
       "      const element = document.createElement(\"link\");\n",
       "      element.onload = on_load;\n",
       "      element.onerror = on_error.bind(null, url);\n",
       "      element.rel = \"stylesheet\";\n",
       "      element.type = \"text/css\";\n",
       "      element.href = url;\n",
       "      console.debug(\"Bokeh: injecting link tag for BokehJS stylesheet: \", url);\n",
       "      document.body.appendChild(element);\n",
       "    }\n",
       "\n",
       "    for (let i = 0; i < js_urls.length; i++) {\n",
       "      const url = js_urls[i];\n",
       "      const element = document.createElement('script');\n",
       "      element.onload = on_load;\n",
       "      element.onerror = on_error.bind(null, url);\n",
       "      element.async = false;\n",
       "      element.src = url;\n",
       "      console.debug(\"Bokeh: injecting script tag for BokehJS library: \", url);\n",
       "      document.head.appendChild(element);\n",
       "    }\n",
       "  };\n",
       "\n",
       "  function inject_raw_css(css) {\n",
       "    const element = document.createElement(\"style\");\n",
       "    element.appendChild(document.createTextNode(css));\n",
       "    document.body.appendChild(element);\n",
       "  }\n",
       "\n",
       "  const js_urls = [\"https://cdn.bokeh.org/bokeh/release/bokeh-3.7.3.min.js\", \"https://cdn.bokeh.org/bokeh/release/bokeh-gl-3.7.3.min.js\", \"https://cdn.bokeh.org/bokeh/release/bokeh-widgets-3.7.3.min.js\", \"https://cdn.bokeh.org/bokeh/release/bokeh-tables-3.7.3.min.js\", \"https://cdn.bokeh.org/bokeh/release/bokeh-mathjax-3.7.3.min.js\"];\n",
       "  const css_urls = [];\n",
       "\n",
       "  const inline_js = [    function(Bokeh) {\n",
       "      Bokeh.set_log_level(\"info\");\n",
       "    },\n",
       "function(Bokeh) {\n",
       "    }\n",
       "  ];\n",
       "\n",
       "  function run_inline_js() {\n",
       "    if (root.Bokeh !== undefined || force === true) {\n",
       "      try {\n",
       "            for (let i = 0; i < inline_js.length; i++) {\n",
       "      inline_js[i].call(root, root.Bokeh);\n",
       "    }\n",
       "\n",
       "      } catch (error) {display_loaded(error);throw error;\n",
       "      }if (force === true) {\n",
       "        display_loaded();\n",
       "      }} else if (Date.now() < root._bokeh_timeout) {\n",
       "      setTimeout(run_inline_js, 100);\n",
       "    } else if (!root._bokeh_failed_load) {\n",
       "      console.log(\"Bokeh: BokehJS failed to load within specified timeout.\");\n",
       "      root._bokeh_failed_load = true;\n",
       "    } else if (force !== true) {\n",
       "      const cell = $(document.getElementById(\"a9305477-06ba-49b7-a57f-245d8ddb52d1\")).parents('.cell').data().cell;\n",
       "      cell.output_area.append_execute_result(NB_LOAD_WARNING)\n",
       "    }\n",
       "  }\n",
       "\n",
       "  if (root._bokeh_is_loading === 0) {\n",
       "    console.debug(\"Bokeh: BokehJS loaded, going straight to plotting\");\n",
       "    run_inline_js();\n",
       "  } else {\n",
       "    load_libs(css_urls, js_urls, function() {\n",
       "      console.debug(\"Bokeh: BokehJS plotting callback run at\", now());\n",
       "      run_inline_js();\n",
       "    });\n",
       "  }\n",
       "}(window));"
      ],
      "application/vnd.bokehjs_load.v0+json": "'use strict';\n(function(root) {\n  function now() {\n    return new Date();\n  }\n\n  const force = true;\n\n  if (typeof root._bokeh_onload_callbacks === \"undefined\" || force === true) {\n    root._bokeh_onload_callbacks = [];\n    root._bokeh_is_loading = undefined;\n  }\n\n\n  if (typeof (root._bokeh_timeout) === \"undefined\" || force === true) {\n    root._bokeh_timeout = Date.now() + 5000;\n    root._bokeh_failed_load = false;\n  }\n\n  const NB_LOAD_WARNING = {'data': {'text/html':\n     \"<div style='background-color: #fdd'>\\n\"+\n     \"<p>\\n\"+\n     \"BokehJS does not appear to have successfully loaded. If loading BokehJS from CDN, this \\n\"+\n     \"may be due to a slow or bad network connection. Possible fixes:\\n\"+\n     \"</p>\\n\"+\n     \"<ul>\\n\"+\n     \"<li>re-rerun `output_notebook()` to attempt to load from CDN again, or</li>\\n\"+\n     \"<li>use INLINE resources instead, as so:</li>\\n\"+\n     \"</ul>\\n\"+\n     \"<code>\\n\"+\n     \"from bokeh.resources import INLINE\\n\"+\n     \"output_notebook(resources=INLINE)\\n\"+\n     \"</code>\\n\"+\n     \"</div>\"}};\n\n  function display_loaded(error = null) {\n    const el = document.getElementById(\"a9305477-06ba-49b7-a57f-245d8ddb52d1\");\n    if (el != null) {\n      const html = (() => {\n        if (typeof root.Bokeh === \"undefined\") {\n          if (error == null) {\n            return \"BokehJS is loading ...\";\n          } else {\n            return \"BokehJS failed to load.\";\n          }\n        } else {\n          const prefix = `BokehJS ${root.Bokeh.version}`;\n          if (error == null) {\n            return `${prefix} successfully loaded.`;\n          } else {\n            return `${prefix} <b>encountered errors</b> while loading and may not function as expected.`;\n          }\n        }\n      })();\n      el.innerHTML = html;\n\n      if (error != null) {\n        const wrapper = document.createElement(\"div\");\n        wrapper.style.overflow = \"auto\";\n        wrapper.style.height = \"5em\";\n        wrapper.style.resize = \"vertical\";\n        const content = document.createElement(\"div\");\n        content.style.fontFamily = \"monospace\";\n        content.style.whiteSpace = \"pre-wrap\";\n        content.style.backgroundColor = \"rgb(255, 221, 221)\";\n        content.textContent = error.stack ?? error.toString();\n        wrapper.append(content);\n        el.append(wrapper);\n      }\n    } else if (Date.now() < root._bokeh_timeout) {\n      setTimeout(() => display_loaded(error), 100);\n    }\n  }\n\n  function run_callbacks() {\n    try {\n      root._bokeh_onload_callbacks.forEach(function(callback) {\n        if (callback != null)\n          callback();\n      });\n    } finally {\n      delete root._bokeh_onload_callbacks\n    }\n    console.debug(\"Bokeh: all callbacks have finished\");\n  }\n\n  function load_libs(css_urls, js_urls, callback) {\n    if (css_urls == null) css_urls = [];\n    if (js_urls == null) js_urls = [];\n\n    root._bokeh_onload_callbacks.push(callback);\n    if (root._bokeh_is_loading > 0) {\n      console.debug(\"Bokeh: BokehJS is being loaded, scheduling callback at\", now());\n      return null;\n    }\n    if (js_urls == null || js_urls.length === 0) {\n      run_callbacks();\n      return null;\n    }\n    console.debug(\"Bokeh: BokehJS not loaded, scheduling load and callback at\", now());\n    root._bokeh_is_loading = css_urls.length + js_urls.length;\n\n    function on_load() {\n      root._bokeh_is_loading--;\n      if (root._bokeh_is_loading === 0) {\n        console.debug(\"Bokeh: all BokehJS libraries/stylesheets loaded\");\n        run_callbacks()\n      }\n    }\n\n    function on_error(url) {\n      console.error(\"failed to load \" + url);\n    }\n\n    for (let i = 0; i < css_urls.length; i++) {\n      const url = css_urls[i];\n      const element = document.createElement(\"link\");\n      element.onload = on_load;\n      element.onerror = on_error.bind(null, url);\n      element.rel = \"stylesheet\";\n      element.type = \"text/css\";\n      element.href = url;\n      console.debug(\"Bokeh: injecting link tag for BokehJS stylesheet: \", url);\n      document.body.appendChild(element);\n    }\n\n    for (let i = 0; i < js_urls.length; i++) {\n      const url = js_urls[i];\n      const element = document.createElement('script');\n      element.onload = on_load;\n      element.onerror = on_error.bind(null, url);\n      element.async = false;\n      element.src = url;\n      console.debug(\"Bokeh: injecting script tag for BokehJS library: \", url);\n      document.head.appendChild(element);\n    }\n  };\n\n  function inject_raw_css(css) {\n    const element = document.createElement(\"style\");\n    element.appendChild(document.createTextNode(css));\n    document.body.appendChild(element);\n  }\n\n  const js_urls = [\"https://cdn.bokeh.org/bokeh/release/bokeh-3.7.3.min.js\", \"https://cdn.bokeh.org/bokeh/release/bokeh-gl-3.7.3.min.js\", \"https://cdn.bokeh.org/bokeh/release/bokeh-widgets-3.7.3.min.js\", \"https://cdn.bokeh.org/bokeh/release/bokeh-tables-3.7.3.min.js\", \"https://cdn.bokeh.org/bokeh/release/bokeh-mathjax-3.7.3.min.js\"];\n  const css_urls = [];\n\n  const inline_js = [    function(Bokeh) {\n      Bokeh.set_log_level(\"info\");\n    },\nfunction(Bokeh) {\n    }\n  ];\n\n  function run_inline_js() {\n    if (root.Bokeh !== undefined || force === true) {\n      try {\n            for (let i = 0; i < inline_js.length; i++) {\n      inline_js[i].call(root, root.Bokeh);\n    }\n\n      } catch (error) {display_loaded(error);throw error;\n      }if (force === true) {\n        display_loaded();\n      }} else if (Date.now() < root._bokeh_timeout) {\n      setTimeout(run_inline_js, 100);\n    } else if (!root._bokeh_failed_load) {\n      console.log(\"Bokeh: BokehJS failed to load within specified timeout.\");\n      root._bokeh_failed_load = true;\n    } else if (force !== true) {\n      const cell = $(document.getElementById(\"a9305477-06ba-49b7-a57f-245d8ddb52d1\")).parents('.cell').data().cell;\n      cell.output_area.append_execute_result(NB_LOAD_WARNING)\n    }\n  }\n\n  if (root._bokeh_is_loading === 0) {\n    console.debug(\"Bokeh: BokehJS loaded, going straight to plotting\");\n    run_inline_js();\n  } else {\n    load_libs(css_urls, js_urls, function() {\n      console.debug(\"Bokeh: BokehJS plotting callback run at\", now());\n      run_inline_js();\n    });\n  }\n}(window));"
     },
     "metadata": {},
     "output_type": "display_data"
    }
   ],
   "source": [
    "import pandas as pd\n",
    "import numpy as np\n",
    "#import plotly.graph_objects as go\n",
    "import yfinance as yf\n",
    "import talib as ta\n",
    "#import matplotlib.pyplot as plt\n",
    "#import math\n",
    "from datetime import date, timedelta\n",
    "from scipy import stats\n",
    "from scipy.signal import argrelextrema\n",
    "#from bokeh.plotting import figure, show, column\n",
    "from sklearn.linear_model import LinearRegression\n",
    "import os\n",
    "from backtesting import Backtest, Strategy"
   ]
  },
  {
   "cell_type": "code",
   "execution_count": 2,
   "id": "99fab280-84ca-4c2f-9784-f79dadcb26ed",
   "metadata": {
    "execution": {
     "iopub.execute_input": "2025-06-11T18:02:52.085341Z",
     "iopub.status.busy": "2025-06-11T18:02:52.084814Z",
     "iopub.status.idle": "2025-06-11T18:02:52.193681Z",
     "shell.execute_reply": "2025-06-11T18:02:52.193042Z"
    },
    "papermill": {
     "duration": 0.114841,
     "end_time": "2025-06-11T18:02:52.194920",
     "exception": false,
     "start_time": "2025-06-11T18:02:52.080079",
     "status": "completed"
    },
    "tags": []
   },
   "outputs": [],
   "source": [
    "df_h=pd.read_csv('data/dataxh.txt',sep='\\t')\n",
    "\n",
    "tickers = [\n",
    "    'SPY',\n",
    "    'META',\n",
    "    'AAPL',\n",
    "    'AMZN',\n",
    "    'NFLX',\n",
    "    'MRNA',\n",
    "    'TSLA',\n",
    "    'TNA',\n",
    "    'GLD',\n",
    "    'SLV',\n",
    "    'USO',\n",
    "    'BAC',\n",
    "    'CVX',\n",
    "    'XOM',\n",
    "    'QQQ',\n",
    "    'MSFT',\n",
    "    'NVDA',\n",
    "    'WMT',\n",
    "    'BA',\n",
    "    'DIS',\n",
    "    'CAT',\n",
    "    'IBM',\n",
    "    'WFC',\n",
    "    'PLTR',\n",
    "    'AMD',\n",
    "    'AVGO',\n",
    "    'HOOD',\n",
    "    'CRWV',\n",
    "    'MSTR',\n",
    "    'UNH',\n",
    "    'GOOG',\n",
    "    'APP',\n",
    "    'UBER'\n",
    "]\n",
    "\n",
    "#    'SPY',\n",
    "#    'META',\n",
    "#    'AAPL',\n",
    "#    'AMZN',\n",
    "#    'NFLX',\n",
    "#    'MRNA',\n",
    "#    'TSLA',\n",
    "#    'TNA',\n",
    "#    'GLD',\n",
    "#    'SLV',\n",
    "#    'USO',\n",
    "#    'BAC',\n",
    "#    'CVX',\n",
    "#    'XOM',\n",
    "#    'QQQ'"
   ]
  },
  {
   "cell_type": "code",
   "execution_count": 3,
   "id": "36d035ad-94d3-427b-9d99-5efff5449692",
   "metadata": {
    "execution": {
     "iopub.execute_input": "2025-06-11T18:02:52.204284Z",
     "iopub.status.busy": "2025-06-11T18:02:52.204092Z",
     "iopub.status.idle": "2025-06-11T18:02:52.557993Z",
     "shell.execute_reply": "2025-06-11T18:02:52.557363Z"
    },
    "papermill": {
     "duration": 0.359847,
     "end_time": "2025-06-11T18:02:52.559230",
     "exception": false,
     "start_time": "2025-06-11T18:02:52.199383",
     "status": "completed"
    },
    "tags": []
   },
   "outputs": [],
   "source": [
    "df_h['datetime'] = pd.to_datetime(df_h['datetime'])\n",
    "df = pd.DataFrame()\n",
    "for ticker in tickers:\n",
    "    company = df_h.query(\"companyName==@ticker\").copy()\n",
    "    company.sort_values(by=['datetime'])\n",
    "    #company = yf.download(ticker, start = ini2_str, end = today_str, interval='60m')\n",
    "    #company.columns = [company.columns[0][0], company.columns[1][0], company.columns[2][0], company.columns[3][0], company.columns[4][0]]\n",
    "    #company.rename(columns={'Datetime':'Gmt time'}, inplace = True)\n",
    "    #company['datetime'] = pd.to_datetime (company.index)\n",
    "    #company['companyName'] = ticker\n",
    "    company['SMA20'] = company['Close'].rolling(20).mean()\n",
    "    company.dropna(inplace=False)\n",
    "    company['SMA40'] = company['Close'].rolling(40).mean()\n",
    "    company.dropna(inplace=False)\n",
    "    company['SMA100'] = company['Close'].rolling(100).mean()\n",
    "    company.dropna(inplace=False)\n",
    "    company['SMA200'] = company['Close'].rolling(200).mean()\n",
    "    company.dropna(inplace=False)\n",
    "    df = pd.concat([df, company],ignore_index=True)"
   ]
  },
  {
   "cell_type": "markdown",
   "id": "ab939271-1e70-4ea6-bc39-df024b86f50e",
   "metadata": {
    "papermill": {
     "duration": 0.004078,
     "end_time": "2025-06-11T18:02:52.567689",
     "exception": false,
     "start_time": "2025-06-11T18:02:52.563611",
     "status": "completed"
    },
    "tags": []
   },
   "source": [
    "### Detect Pivots/Fractals"
   ]
  },
  {
   "cell_type": "code",
   "execution_count": 4,
   "id": "755f2f1c-3bb8-47b9-bf49-b89e7437100d",
   "metadata": {
    "execution": {
     "iopub.execute_input": "2025-06-11T18:02:52.576627Z",
     "iopub.status.busy": "2025-06-11T18:02:52.576180Z",
     "iopub.status.idle": "2025-06-11T18:02:52.611495Z",
     "shell.execute_reply": "2025-06-11T18:02:52.610899Z"
    },
    "papermill": {
     "duration": 0.040954,
     "end_time": "2025-06-11T18:02:52.612524",
     "exception": false,
     "start_time": "2025-06-11T18:02:52.571570",
     "status": "completed"
    },
    "tags": []
   },
   "outputs": [],
   "source": [
    "ord=15\n",
    "#for ticker in tickers:\n",
    "#print(\"====\", ticker)\n",
    "#dfpl = df[(df.companyName==ticker)] #df.query(\"companyName=='AAPL'\")\n",
    "max_idx = argrelextrema(df['Close'].values, np.greater, order=ord)[0]\n",
    "min_idx = argrelextrema(df['Close'].values, np.less, order=ord)[0]\n",
    "#print(max_idx)\n",
    "#print(min_idx)\n",
    "#df['pivotHigh'] = np.nan\n",
    "#df['pivotLow'] = np.nan\n",
    "#df['isPivot'] = np.nan\n",
    "#df['isPivot'] = np.nan\n",
    "# Aplicar el cálculo solo a los índices en la lista\n",
    "df.loc[max_idx, 'pivotHigh'] = df['High']+1e-3\n",
    "df.loc[min_idx, 'pivotLow'] = df['Low']-(1e-3)\n",
    "df.loc[max_idx, 'isPivot'] = 1\n",
    "df.loc[min_idx, 'isPivot'] = 2"
   ]
  },
  {
   "cell_type": "markdown",
   "id": "f44f04bb-ed9f-4732-9d38-7f8cb2869c36",
   "metadata": {
    "papermill": {
     "duration": 0.004168,
     "end_time": "2025-06-11T18:02:52.620788",
     "exception": false,
     "start_time": "2025-06-11T18:02:52.616620",
     "status": "completed"
    },
    "tags": []
   },
   "source": [
    "##### Canales alcista, cuando PM40 esta por encima o cerca del precio"
   ]
  },
  {
   "cell_type": "code",
   "execution_count": 5,
   "id": "b7d94196-30b6-4e27-b8a2-97263f24b34f",
   "metadata": {
    "execution": {
     "iopub.execute_input": "2025-06-11T18:02:52.633495Z",
     "iopub.status.busy": "2025-06-11T18:02:52.633107Z",
     "iopub.status.idle": "2025-06-11T18:02:54.306368Z",
     "shell.execute_reply": "2025-06-11T18:02:54.305744Z"
    },
    "papermill": {
     "duration": 1.681091,
     "end_time": "2025-06-11T18:02:54.307680",
     "exception": false,
     "start_time": "2025-06-11T18:02:52.626589",
     "status": "completed"
    },
    "tags": []
   },
   "outputs": [],
   "source": [
    "def rcb01(df):\n",
    "    if ((df['isPivot']==1) & ((df['SMA40']>df['Close']) | (df['SMA40']>df['Open']) | (df['SMA20']>df['SMA40']))):\n",
    "        return 1\n",
    "    else:\n",
    "        return 0\n",
    "df['rcb01_01'] = df.apply(rcb01, axis=1)"
   ]
  },
  {
   "cell_type": "markdown",
   "id": "1301febb-db5f-4a68-b162-9ae2e19ec678",
   "metadata": {
    "papermill": {
     "duration": 0.004025,
     "end_time": "2025-06-11T18:02:54.316219",
     "exception": false,
     "start_time": "2025-06-11T18:02:54.312194",
     "status": "completed"
    },
    "tags": []
   },
   "source": [
    "#### Detect Price Channel"
   ]
  },
  {
   "cell_type": "code",
   "execution_count": 6,
   "id": "1873740d-7344-4670-8cb0-9dea7df49305",
   "metadata": {
    "execution": {
     "iopub.execute_input": "2025-06-11T18:02:54.325338Z",
     "iopub.status.busy": "2025-06-11T18:02:54.324780Z",
     "iopub.status.idle": "2025-06-11T18:02:54.329107Z",
     "shell.execute_reply": "2025-06-11T18:02:54.328677Z"
    },
    "papermill": {
     "duration": 0.009797,
     "end_time": "2025-06-11T18:02:54.329983",
     "exception": false,
     "start_time": "2025-06-11T18:02:54.320186",
     "status": "completed"
    },
    "tags": []
   },
   "outputs": [],
   "source": [
    "def collect_channel(candle, backevalTrend, trendL):\n",
    "    #localdf = df[candle-backcandles-window:candle-window]\n",
    "    localdf = dfpl.loc[candle-backevalTrend:candle] #tomar en cuenta el backcandles\n",
    "    #localdf['isPivot'] = localdf.apply(lambda x: isPivot(x.name,window), axis=1)\n",
    "    \n",
    "    #highs = localdf.High.values\n",
    "    #idxhighs = localdf.High.index\n",
    "    #lows = localdf.Low.values\n",
    "    #idxlows = localdf.Low.index\n",
    "\n",
    "    #highs = localdf.loc[localdf.index.isin(trendH)].High.values\n",
    "    #idxhighs = localdf.loc[localdf.index.isin(trendH)].High.index\n",
    "    lows = localdf.loc[localdf.index.isin(trendL)].Low.values\n",
    "    idxlows = localdf.loc[localdf.index.isin(trendL)].Low.index\n",
    "\n",
    "    #highs = localdf.loc[localdf.index.isin([candle]) | (localdf['isPivot'] == 1)].High.values\n",
    "    #idxhighs = localdf.loc[localdf.index.isin([candle]) | (localdf['isPivot'] == 1)].High.index\n",
    "    #lows = localdf.loc[localdf.index.isin([candle]) | (localdf['isPivot'] == 2)].Low.values\n",
    "    #idxlows = localdf.loc[localdf.index.isin([candle]) | (localdf['isPivot'] == 2)].Low.index\n",
    "\n",
    "    #lows = localdf.loc[localdf.index.isin(trendL)].Low.values\n",
    "    #idxlows = localdf.loc[localdf.index.isin(trendL)].Low.index\n",
    "\n",
    "    #print(\"highs:\",highs)\n",
    "    #print(\"idxhighs:\",idxhighs)\n",
    "    #print(\"lows:\",lows)\n",
    "    #print(\"idxlows:\",idxlows)\n",
    "    #print (\"tamanio:\",localdf.shape[0])\n",
    "    \n",
    "    #if len(lows)>=2 and len(highs)>=2:\n",
    "    if len(lows)>=2:\n",
    "        sl_lows, interc_lows, r_value_l, _, _ = stats.linregress(idxlows,lows)\n",
    "        #sl_highs, interc_highs, r_value_h, _, _ = stats.linregress(idxhighs,highs)    \n",
    "        #return(sl_lows, interc_lows, sl_highs, interc_highs, r_value_l**2, r_value_h**2)\n",
    "        return(sl_lows, interc_lows, r_value_l**2)\n",
    "    else:\n",
    "        return(0,0,0)\n",
    "    "
   ]
  },
  {
   "cell_type": "code",
   "execution_count": 7,
   "id": "0ea43d11-bb56-4a09-8d54-0bfd0dfc987a",
   "metadata": {
    "execution": {
     "iopub.execute_input": "2025-06-11T18:02:54.339279Z",
     "iopub.status.busy": "2025-06-11T18:02:54.338948Z",
     "iopub.status.idle": "2025-06-11T18:02:54.345277Z",
     "shell.execute_reply": "2025-06-11T18:02:54.344719Z"
    },
    "papermill": {
     "duration": 0.012147,
     "end_time": "2025-06-11T18:02:54.346154",
     "exception": false,
     "start_time": "2025-06-11T18:02:54.334007",
     "status": "completed"
    },
    "tags": []
   },
   "outputs": [],
   "source": [
    "def backcandle(candle):\n",
    "    \n",
    "    trendH = []\n",
    "    backeval = 0\n",
    "    val = 0\n",
    "\n",
    "    #print(\"candle:\", candle)\n",
    "    dfpl['PM20_PM40'] = dfpl['SMA20']-dfpl['SMA40']\n",
    "    idinicial = dfpl.index[0]\n",
    "    velas = candle - idinicial\n",
    "\n",
    "    #print(\"idinicial:\", idinicial)\n",
    "    if (dfpl.loc[candle,\"PM20_PM40\"]>0):\n",
    "        idx_negativo = dfpl.loc[:candle, 'PM20_PM40'][::-1].lt(0).idxmax()\n",
    "        if (idx_negativo==candle):\n",
    "            backeval = candle - velas\n",
    "            \n",
    "        else:\n",
    "            backeval = idx_negativo - 4\n",
    "        \n",
    "    val = candle - backeval\n",
    "    \n",
    "    #print(\"backeval1:\",backeval)\n",
    "    \n",
    "    if val>velas:\n",
    "        backeval=candle-velas\n",
    "\n",
    "    #print(\"backeval2:\",backeval)\n",
    "    if ((dfpl.loc[backeval,\"PM20_PM40\"]>0) & (val<velas)):\n",
    "        idx_negativo = dfpl.loc[:backeval, 'PM20_PM40'][::-1].lt(0).idxmax()\n",
    "        backeval = idx_negativo - 4\n",
    "    #print(\"backeval3:\",backeval)\n",
    "\n",
    "    val = candle - backeval\n",
    "    if val>velas:\n",
    "        backeval=candle-velas\n",
    "        \n",
    "    #print(\"backeval4:\",backeval)\n",
    "    #ini = candle - backeval\n",
    "    ini = backeval\n",
    "    trendprev=dfpl.loc[ini:candle]\n",
    "    trend = trendprev.reset_index(drop=False)\n",
    "\n",
    "    idxlows = trend.index.to_numpy().reshape(-1,1) # Convertir X a una matriz 2D\n",
    "    lows = trend.Low.values\n",
    "    modelo1 = LinearRegression()\n",
    "    modelo1.fit(idxlows, lows)\n",
    "    # Obtener la predicción de la línea de regresión\n",
    "    Y_pred = modelo1.predict(idxlows)\n",
    "    # Calcular la distancia solo de los puntos que están POR ENCIMA de la línea\n",
    "    trend['Distancia'] = Y_pred - trend[\"Low\"]  # Diferencia entre el valor real y la predicción\n",
    "    # Filtrar los puntos que están por debajo (donde Y > Y_pred, es decir, Distancia > 0)\n",
    "    df_encima = trend[trend['Distancia'] > 0]\n",
    "    puntos_mas_lejanos = df_encima.nlargest(2, 'Distancia')   #2 puntos mas lejanos\n",
    "    trendL = puntos_mas_lejanos[\"index\"].tolist()\n",
    "    trendL.append(candle)   \n",
    "    \n",
    "    return trendL, backeval"
   ]
  },
  {
   "cell_type": "markdown",
   "id": "7746c605-eeaf-4691-b332-3c5afe45243a",
   "metadata": {
    "papermill": {
     "duration": 0.003997,
     "end_time": "2025-06-11T18:02:54.354276",
     "exception": false,
     "start_time": "2025-06-11T18:02:54.350279",
     "status": "completed"
    },
    "tags": []
   },
   "source": [
    "### Detect Break Out"
   ]
  },
  {
   "cell_type": "code",
   "execution_count": 8,
   "id": "9eb0e6d2-7707-4624-bee3-0465d77901ea",
   "metadata": {
    "execution": {
     "iopub.execute_input": "2025-06-11T18:02:54.363342Z",
     "iopub.status.busy": "2025-06-11T18:02:54.362936Z",
     "iopub.status.idle": "2025-06-11T18:02:54.366837Z",
     "shell.execute_reply": "2025-06-11T18:02:54.366251Z"
    },
    "papermill": {
     "duration": 0.009352,
     "end_time": "2025-06-11T18:02:54.367719",
     "exception": false,
     "start_time": "2025-06-11T18:02:54.358367",
     "status": "completed"
    },
    "tags": []
   },
   "outputs": [],
   "source": [
    "def trendChannel(row,candle, backeval, window, sl_highs, interc_lows):\n",
    "\n",
    "    if (candle-backeval-window)<0:\n",
    "        return np.nan\n",
    "\n",
    "    #print(\"=== DATOS ===\")\n",
    "    #print(\"candle:\",candle)\n",
    "    #print(\"backcandles:\",backcandles)\n",
    "    #print(\"window:\",window)\n",
    "    #trendprevlow = (sl_lows*row['id'].shift(1).fillna(0) + interc_lows)\n",
    "    #trendprevhigh = (sl_highs*row['id'].shift(1).fillna(0) + interc_highs)\n",
    "    ini=candle-backeval\n",
    "    fin=candle+window\n",
    "    #x = np.array(range(candle-backcandles-window, candle+window))\n",
    "    trendcurrlow = np.where(np.logical_or((row.index > fin),  (row.index <  ini)), np.nan, (sl_lows*row.index + interc_lows))\n",
    "    #trendcurrhigh = (sl_highs*row['id'] + interc_highs)\n",
    "    \n",
    "    #print(\"candle:\",candle,\",backeval\", backeval, \", ini:\", ini, \", fin:\", fin,   \", rowMin:\", row.index[0],\", rowMax:\", row.index[-1])\n",
    "    #trendcurrhigh = np.where(np.logical_or((row.index > fin),  (row.index <  ini)), np.nan, (sl_highs*row.index + interc_highs))\n",
    "    return trendcurrlow"
   ]
  },
  {
   "cell_type": "code",
   "execution_count": 9,
   "id": "8e480264-0fde-4a97-af4e-a86b58a4b611",
   "metadata": {
    "execution": {
     "iopub.execute_input": "2025-06-11T18:02:54.376541Z",
     "iopub.status.busy": "2025-06-11T18:02:54.376377Z",
     "iopub.status.idle": "2025-06-11T18:02:54.381024Z",
     "shell.execute_reply": "2025-06-11T18:02:54.380450Z"
    },
    "papermill": {
     "duration": 0.010025,
     "end_time": "2025-06-11T18:02:54.381853",
     "exception": false,
     "start_time": "2025-06-11T18:02:54.371828",
     "status": "completed"
    },
    "tags": []
   },
   "outputs": [],
   "source": [
    "def isBreakOut(candleEval,backcandles, window, start, candle):\n",
    "    if (candleEval-backcandles-window)<0:\n",
    "        return 0\n",
    "\n",
    "    if candleEval==start:\n",
    "        prev_idx = candleEval\n",
    "    else:\n",
    "        prev_idx = candleEval-1\n",
    "        \n",
    "    prev_high = dfpl.loc[prev_idx].High\n",
    "    prev_low = dfpl.loc[prev_idx].Low\n",
    "    prev_close = dfpl.loc[prev_idx].Close\n",
    "    \n",
    "    curr_idx = candleEval\n",
    "    curr_high = dfpl.loc[candleEval].High\n",
    "    curr_low = dfpl.loc[candleEval].Low\n",
    "    curr_close = dfpl.loc[candleEval].Close\n",
    "    curr_open = dfpl.loc[candleEval].Open\n",
    "\n",
    "    trend_prevlow=dfpl.loc[prev_idx].trendcurrlow\n",
    "    #trend_prevhigh=dfpl.loc[prev_idx].trendcurrhigh\n",
    "\n",
    "    trend_currlow=dfpl.loc[candleEval].trendcurrlow\n",
    "    #trend_currhigh=dfpl.loc[candleEval].trendcurrhigh\n",
    "\n",
    "    #codigo para tendencia LOW, nos importa breaks en tendencia HIGH\n",
    "    if ( prev_high > trend_prevlow and\n",
    "        prev_close < trend_prevlow and\n",
    "        curr_open < trend_currlow and\n",
    "        curr_close < trend_currlow and \n",
    "        candleEval>candle): #and r_sq_l > 0.9\n",
    "        return 1\n",
    "    \n",
    "   # #if ( prev_low < trend_prevhigh and\n",
    "   #     prev_close > trend_prevhigh and\n",
    "   #     curr_open > trend_currhigh and\n",
    "   #     curr_close > trend_currhigh and\n",
    "   #     candleEval>candle): #and r_sq_h > 0.9\n",
    "   #     return 2\n",
    "\n",
    "   # elif (curr_open > trend_currhigh and\n",
    "   #     curr_close > trend_currhigh and candleEval>candle):\n",
    "   #     return 3\n",
    "    \n",
    "    else:\n",
    "        return np.nan"
   ]
  },
  {
   "cell_type": "code",
   "execution_count": 10,
   "id": "04c0d310-0135-4029-83d4-834b5b402c7a",
   "metadata": {
    "execution": {
     "iopub.execute_input": "2025-06-11T18:02:54.390782Z",
     "iopub.status.busy": "2025-06-11T18:02:54.390588Z",
     "iopub.status.idle": "2025-06-11T18:02:54.393451Z",
     "shell.execute_reply": "2025-06-11T18:02:54.393029Z"
    },
    "papermill": {
     "duration": 0.008272,
     "end_time": "2025-06-11T18:02:54.394266",
     "exception": false,
     "start_time": "2025-06-11T18:02:54.385994",
     "status": "completed"
    },
    "tags": []
   },
   "outputs": [],
   "source": [
    "def breakpointpos(x):\n",
    "    if x['isBreakOutIni'] in (2,3):\n",
    "        return x['Low']+3e-3\n",
    "    elif x['isBreakOutIni']==1:\n",
    "        return x['High']-3e-3\n",
    "    else:\n",
    "        return np.nan"
   ]
  },
  {
   "cell_type": "markdown",
   "id": "78dfc3a9-1c1a-4615-88b4-fe7061f871b4",
   "metadata": {
    "papermill": {
     "duration": 0.004041,
     "end_time": "2025-06-11T18:02:54.402488",
     "exception": false,
     "start_time": "2025-06-11T18:02:54.398447",
     "status": "completed"
    },
    "tags": []
   },
   "source": [
    "###### Hallando casos de Ruptura del Canal Alcista"
   ]
  },
  {
   "cell_type": "code",
   "execution_count": 11,
   "id": "80471e6b-41e2-424d-962d-72757b94aaf4",
   "metadata": {
    "execution": {
     "iopub.execute_input": "2025-06-11T18:02:54.411783Z",
     "iopub.status.busy": "2025-06-11T18:02:54.411376Z",
     "iopub.status.idle": "2025-06-11T18:02:54.421589Z",
     "shell.execute_reply": "2025-06-11T18:02:54.421143Z"
    },
    "papermill": {
     "duration": 0.01585,
     "end_time": "2025-06-11T18:02:54.422433",
     "exception": false,
     "start_time": "2025-06-11T18:02:54.406583",
     "status": "completed"
    },
    "tags": []
   },
   "outputs": [],
   "source": [
    "def revisionVelas(dfpl, backeval,window, candle):\n",
    "    #Revision de Velas\n",
    "    #Promedio del volumen de 50 velas antes del posible caso\n",
    "    promVol = dfpl.loc[i-backeval:i][\"Volume\"].mean()\n",
    "    #puede darse cualquiera de estas condiciones: \n",
    "    # - que la vela sea verde, que tenga volumen, este por encima de la linea trend y que tenga cuerpo (cierra por encima de su tercera parte)\n",
    "    # - que la vela sea envolvente, alcista y que este por encima de la linea trend\n",
    "    j=candle+1\n",
    "    k=candle+window\n",
    "    ind_vela=0\n",
    "    \n",
    "    #k no puede pasrse del rango\n",
    "    maxindex = dfpl.index[-1]\n",
    "    if (k>maxindex):\n",
    "        k=maxindex\n",
    "    \n",
    "    #print(\"candle:\",candle)\n",
    "    #print(\"window:\",window)\n",
    "    #print(\"j:\",j, \",k:\",k)\n",
    "    \n",
    "    #Evaluacion de velas ALCISTAS\n",
    "    dfpl[\"cdlengulfing\"] = ta.CDLENGULFING(dfpl['Open'], dfpl['High'], dfpl['Low'], dfpl['Close'])\n",
    "    dfpl[\"cdlhammer\"] = ta.CDLHAMMER(dfpl['Open'], dfpl['High'], dfpl['Low'], dfpl['Close'])\n",
    "    dfpl[\"cdlmorningstar\"] = ta.CDLMORNINGSTAR(dfpl['Open'], dfpl['High'], dfpl['Low'], dfpl['Close'])\n",
    "    dfpl[\"cdlpiercing\"] = ta.CDLPIERCING(dfpl['Open'], dfpl['High'], dfpl['Low'], dfpl['Close'])\n",
    "    dfpl[\"cdlclosingmarubozu\"] = ta.CDLCLOSINGMARUBOZU(dfpl['Open'], dfpl['High'], dfpl['Low'], dfpl['Close'])\n",
    "    dfpl[\"cdlmarubozu\"] = ta.CDLMARUBOZU(dfpl['Open'], dfpl['High'], dfpl['Low'], dfpl['Close'])\n",
    "    dfpl[\"cdl3whitesoldiers\"] = ta.CDL3WHITESOLDIERS(dfpl['Open'], dfpl['High'], dfpl['Low'], dfpl['Close'])\n",
    "    dfpl[\"cdlharami\"] = ta.CDLHARAMI(dfpl['Open'], dfpl['High'], dfpl['Low'], dfpl['Close'])\n",
    "    dfpl[\"cdlharamicross\"] = ta.CDLHARAMICROSS(dfpl['Open'], dfpl['High'], dfpl['Low'], dfpl['Close'])\n",
    "    dfpl[\"cdlinvertdhammer\"] = ta.CDLINVERTEDHAMMER(dfpl['Open'], dfpl['High'], dfpl['Low'], dfpl['Close'])\n",
    "    dfpl[\"cdlladderbottom\"] = ta.CDLLADDERBOTTOM(dfpl['Open'], dfpl['High'], dfpl['Low'], dfpl['Close'])\n",
    "\n",
    "    dfpl['Vela_Roja'] = dfpl['Close'] < dfpl['Open']\n",
    "    # Calcular el nivel de la tercera parte\n",
    "    #dfpl['Third_Level'] = dfpl['Low'] + (dfpl['High'] - dfpl['Low']) / 3\n",
    "    dfpl['Third_Level'] = dfpl['Open'] + (dfpl['High'] - dfpl['Low']) / 3\n",
    "    # Verificar si la vela cierra por encima de su tercera parte, vela con cuerpo\n",
    "    dfpl['Above_Third'] = dfpl['Close'] > dfpl['Third_Level']\n",
    "\n",
    "    while j<=k:            \n",
    "        \n",
    "        vol = dfpl.loc[j,\"Volume\"]\n",
    "        above_Third = dfpl.loc[j,\"Above_Third\"]\n",
    "        vela_Roja = dfpl.loc[j,\"Vela_Roja\"]\n",
    "        lineTrend = dfpl.loc[j,'trendcurrlow']\n",
    "        high = dfpl.loc[j,'High']\n",
    "        close = dfpl.loc[j,'Close']\n",
    "\n",
    "        cdlengulfing = dfpl.loc[j,\"cdlengulfing\"]\n",
    "        cdlhammer = dfpl.loc[j,\"cdlhammer\"]\n",
    "        cdlmorningstar = dfpl.loc[j,\"cdlmorningstar\"]\n",
    "        cdlpiercing = dfpl.loc[j,\"cdlpiercing\"]\n",
    "        cdlclosingmarubozu = dfpl.loc[j,\"cdlclosingmarubozu\"]\n",
    "        cdlmarubozu = dfpl.loc[j,\"cdlmarubozu\"]\n",
    "        cdl3whitesoldiers = dfpl.loc[j,\"cdl3whitesoldiers\"]\n",
    "        cdlharami = dfpl.loc[j,\"cdlharami\"]\n",
    "        cdlharamicross = dfpl.loc[j,\"cdlharamicross\"]\n",
    "        cdlinvertdhammer = dfpl.loc[j,\"cdlinvertdhammer\"]\n",
    "        cdlladderbottom = dfpl.loc[j,\"cdlladderbottom\"]\n",
    "\n",
    "        #vela consecutiva alcista\n",
    "        candle_up = (#dfpl.loc[j,\"Vela_Verde\"]==True \n",
    "                     #and dfpl.loc[j-1,\"Vela_Verde\"]==True \n",
    "                     dfpl.loc[j,\"High\"]> dfpl.loc[j-1,\"High\"]\n",
    "                     and dfpl.loc[j-1,\"High\"]> dfpl.loc[j,\"Low\"]\n",
    "                     and dfpl.loc[j,\"Low\"]> dfpl.loc[j-2,\"High\"]\n",
    "                     and dfpl.loc[j-2,\"High\"]> dfpl.loc[j-1,\"Low\"]\n",
    "                     and dfpl.loc[j-1,\"Low\"]> dfpl.loc[j-3,\"High\"]\n",
    "                     and dfpl.loc[j-3,\"High\"]> dfpl.loc[j-2,\"Low\"]\n",
    "                     and dfpl.loc[j-2,\"Low\"]> dfpl.loc[j-3,\"Low\"]\n",
    "                     #and dfpl.loc[j,\"Close\"]> dfpl.loc[j-1,\"High\"] \n",
    "                     #and dfpl.loc[j-1,\"Close\"]>dfpl.loc[j-2,\"High\"]\n",
    "                     #and dfpl.loc[j-1,\"Close\"]>dfpl.loc[j-3,\"High\"] \n",
    "                    )\n",
    "\n",
    "        if (candle_up==True and close>lineTrend):\n",
    "            ind_vela=ind_vela+1\n",
    "        #vela sea verde, que tenga volumen, que tenga cuerpo y que este por encima de la linea trend\n",
    "        #if (vela_Verde==True and promVol<=vol and above_Third==True and close>=lineTrend):\n",
    "        #    ind_vela=ind_vela+1\n",
    "        \n",
    "        #vela sea envolvente, alcista y que este por encima de la linea trend\n",
    "        #if (\n",
    "        #    (cdlhammer>0 or\n",
    "        #     cdlmorningstar>0 or\n",
    "        #     cdlpiercing>0 or\n",
    "        #     cdl3whitesoldiers>0 or\n",
    "        #     cdlharami>0 or\n",
    "        #     cdlharamicross>0 or\n",
    "        #     cdlinvertdhammer>0 or\n",
    "        #     cdlladderbottom>0\n",
    "        #    )\n",
    "        #    and promVol<=vol\n",
    "        #    and close>=lineTrend):\n",
    "        #    ind_vela=ind_vela+1\n",
    "\n",
    "        #vela sea envolvente, alcista y que este por encima de la linea trend\n",
    "        #if (\n",
    "        #    (cdlclosingmarubozu>0 or\n",
    "        #     cdlmarubozu>0 or\n",
    "        #     cdlengulfing>0 or\n",
    "        #     cdlhammer>0\n",
    "        #    )\n",
    "        #    #and promVol<=vol\n",
    "        #    and close>=lineTrend):\n",
    "        #    ind_vela=ind_vela+1 \n",
    "            \n",
    "        j=j+1\n",
    "    \n",
    "    return 1 #1 para mostrar todo ind_vela para que funcione el filtro"
   ]
  },
  {
   "cell_type": "code",
   "execution_count": 12,
   "id": "d994f943-5fc5-43c7-9604-84976d99a911",
   "metadata": {
    "execution": {
     "iopub.execute_input": "2025-06-11T18:02:54.431783Z",
     "iopub.status.busy": "2025-06-11T18:02:54.431352Z",
     "iopub.status.idle": "2025-06-11T18:06:19.133509Z",
     "shell.execute_reply": "2025-06-11T18:06:19.132958Z"
    },
    "papermill": {
     "duration": 204.707782,
     "end_time": "2025-06-11T18:06:19.134393",
     "exception": false,
     "start_time": "2025-06-11T18:02:54.426611",
     "status": "completed"
    },
    "tags": []
   },
   "outputs": [
    {
     "name": "stdout",
     "output_type": "stream",
     "text": [
      "===posible caso: 88 SPY\n",
      "===posible caso: 164 SPY\n"
     ]
    },
    {
     "name": "stdout",
     "output_type": "stream",
     "text": [
      "h1\n",
      "164 SPY\n",
      "===posible caso: 208 SPY\n",
      "h1\n",
      "208 SPY\n",
      "===posible caso: 226 SPY\n"
     ]
    },
    {
     "name": "stdout",
     "output_type": "stream",
     "text": [
      "h2\n",
      "h4\n",
      "h1\n",
      "226 SPY\n",
      "===posible caso: 250 SPY\n",
      "===posible caso: 276 SPY\n",
      "===posible caso: 296 SPY\n",
      "===posible caso: 388 SPY\n"
     ]
    },
    {
     "name": "stdout",
     "output_type": "stream",
     "text": [
      "h1\n",
      "388 SPY\n",
      "===posible caso: 450 SPY\n",
      "===posible caso: 586 SPY\n"
     ]
    },
    {
     "name": "stdout",
     "output_type": "stream",
     "text": [
      "h1\n",
      "586 SPY\n",
      "===posible caso: 753 SPY\n",
      "===posible caso: 830 SPY\n"
     ]
    },
    {
     "name": "stdout",
     "output_type": "stream",
     "text": [
      "===posible caso: 890 SPY\n",
      "===posible caso: 919 SPY\n"
     ]
    },
    {
     "name": "stdout",
     "output_type": "stream",
     "text": [
      "h1\n",
      "919 SPY\n",
      "===posible caso: 955 SPY\n",
      "h1\n",
      "955 SPY\n",
      "===posible caso: 1025 SPY\n"
     ]
    },
    {
     "name": "stdout",
     "output_type": "stream",
     "text": [
      "===posible caso: 1103 SPY\n",
      "h1\n",
      "1103 SPY\n",
      "===posible caso: 1163 SPY\n"
     ]
    },
    {
     "name": "stdout",
     "output_type": "stream",
     "text": [
      "h1\n",
      "1163 SPY\n",
      "===posible caso: 1193 SPY\n",
      "===posible caso: 1217 SPY\n",
      "===posible caso: 1264 SPY\n",
      "h1\n",
      "1264 SPY\n",
      "===posible caso: 1287 SPY\n"
     ]
    },
    {
     "name": "stdout",
     "output_type": "stream",
     "text": [
      "h1\n",
      "1287 SPY\n",
      "===posible caso: 1311 SPY\n",
      "===posible caso: 1352 SPY\n",
      "===posible caso: 1535 SPY\n"
     ]
    },
    {
     "name": "stdout",
     "output_type": "stream",
     "text": [
      "h1\n",
      "1535 SPY\n",
      "===posible caso: 1638 SPY\n",
      "h1\n",
      "1638 SPY\n",
      "===posible caso: 1749 SPY\n"
     ]
    },
    {
     "name": "stdout",
     "output_type": "stream",
     "text": [
      "h1\n",
      "1749 SPY\n",
      "===posible caso: 1784 SPY\n",
      "===posible caso: 1826 SPY\n",
      "===posible caso: 1905 SPY\n"
     ]
    },
    {
     "name": "stdout",
     "output_type": "stream",
     "text": [
      "===posible caso: 1935 SPY\n",
      "===posible caso: 1958 SPY\n",
      "===posible caso: 2095 SPY\n"
     ]
    },
    {
     "name": "stdout",
     "output_type": "stream",
     "text": [
      "===posible caso: 2225 SPY\n",
      "h1\n",
      "2225 SPY\n",
      "===posible caso: 2276 SPY\n"
     ]
    },
    {
     "name": "stdout",
     "output_type": "stream",
     "text": [
      "===posible caso: 2345 SPY\n",
      "h1\n",
      "2345 SPY\n",
      "===posible caso: 2372 SPY\n"
     ]
    },
    {
     "name": "stdout",
     "output_type": "stream",
     "text": [
      "h1\n",
      "2372 SPY\n",
      "===posible caso: 2403 SPY\n",
      "===posible caso: 2425 SPY\n",
      "===posible caso: 2477 SPY\n"
     ]
    },
    {
     "name": "stdout",
     "output_type": "stream",
     "text": [
      "h1\n",
      "2477 SPY\n",
      "===posible caso: 2602 SPY\n",
      "h1\n",
      "2602 SPY\n",
      "===posible caso: 2647 SPY\n"
     ]
    },
    {
     "name": "stdout",
     "output_type": "stream",
     "text": [
      "===posible caso: 2694 SPY\n",
      "===posible caso: 2816 SPY\n",
      "h1\n",
      "2816 SPY\n",
      "===posible caso: 2852 SPY\n",
      "===posible caso: 2884 SPY\n",
      "===posible caso: 2940 SPY\n"
     ]
    },
    {
     "name": "stdout",
     "output_type": "stream",
     "text": [
      "===posible caso: 3065 SPY\n",
      "===posible caso: 3102 SPY\n",
      "===posible caso: 3296 SPY\n"
     ]
    },
    {
     "name": "stdout",
     "output_type": "stream",
     "text": [
      "===posible caso: 3371 SPY\n",
      "h1\n",
      "3371 SPY\n",
      "===posible caso: 3536 SPY\n"
     ]
    },
    {
     "name": "stdout",
     "output_type": "stream",
     "text": [
      "===posible caso: 3607 META\n",
      "===posible caso: 3634 META\n"
     ]
    },
    {
     "name": "stdout",
     "output_type": "stream",
     "text": [
      "===posible caso: 3679 META\n",
      "===posible caso: 3705 META\n"
     ]
    },
    {
     "name": "stdout",
     "output_type": "stream",
     "text": [
      "===posible caso: 3759 META\n",
      "===posible caso: 3801 META\n"
     ]
    },
    {
     "name": "stdout",
     "output_type": "stream",
     "text": [
      "h1\n",
      "3801 META\n",
      "===posible caso: 3836 META\n",
      "===posible caso: 3921 META\n",
      "===posible caso: 3968 META\n",
      "h1\n",
      "3968 META\n",
      "===posible caso: 3990 META\n"
     ]
    },
    {
     "name": "stdout",
     "output_type": "stream",
     "text": [
      "h1\n",
      "3990 META\n",
      "===posible caso: 4061 META\n",
      "===posible caso: 4126 META\n",
      "h1\n",
      "4126 META\n",
      "===posible caso: 4151 META\n"
     ]
    },
    {
     "name": "stdout",
     "output_type": "stream",
     "text": [
      "h1\n",
      "4151 META\n",
      "===posible caso: 4180 META\n",
      "===posible caso: 4290 META\n",
      "===posible caso: 4330 META\n"
     ]
    },
    {
     "name": "stdout",
     "output_type": "stream",
     "text": [
      "===posible caso: 4494 META\n",
      "h1\n",
      "4494 META\n",
      "===posible caso: 4562 META\n"
     ]
    },
    {
     "name": "stdout",
     "output_type": "stream",
     "text": [
      "===posible caso: 4638 META\n",
      "===posible caso: 4661 META\n"
     ]
    },
    {
     "name": "stdout",
     "output_type": "stream",
     "text": [
      "h1\n",
      "4661 META\n",
      "===posible caso: 4702 META\n",
      "h1\n",
      "4702 META\n",
      "===posible caso: 4725 META\n",
      "===posible caso: 4801 META\n"
     ]
    },
    {
     "name": "stdout",
     "output_type": "stream",
     "text": [
      "h1\n",
      "4801 META\n",
      "===posible caso: 4827 META\n",
      "h1\n",
      "4827 META\n",
      "===posible caso: 4892 META\n",
      "===posible caso: 4962 META\n"
     ]
    },
    {
     "name": "stdout",
     "output_type": "stream",
     "text": [
      "===posible caso: 5024 META\n",
      "h1\n",
      "5024 META\n",
      "===posible caso: 5141 META\n"
     ]
    },
    {
     "name": "stdout",
     "output_type": "stream",
     "text": [
      "===posible caso: 5218 META\n",
      "h1\n",
      "5218 META\n",
      "===posible caso: 5261 META\n",
      "===posible caso: 5292 META\n"
     ]
    },
    {
     "name": "stdout",
     "output_type": "stream",
     "text": [
      "h1\n",
      "5292 META\n",
      "===posible caso: 5314 META\n",
      "h1\n",
      "5314 META\n",
      "===posible caso: 5359 META\n",
      "===posible caso: 5396 META\n",
      "===posible caso: 5415 META\n"
     ]
    },
    {
     "name": "stdout",
     "output_type": "stream",
     "text": [
      "h1\n",
      "5415 META\n",
      "===posible caso: 5475 META\n",
      "===posible caso: 5523 META\n",
      "===posible caso: 5595 META\n",
      "h1\n",
      "5595 META\n",
      "===posible caso: 5665 META\n"
     ]
    },
    {
     "name": "stdout",
     "output_type": "stream",
     "text": [
      "h1\n",
      "5665 META\n",
      "===posible caso: 5793 META\n",
      "h2\n",
      "h4\n",
      "h2\n",
      "h4\n",
      "h1\n",
      "5793 META\n",
      "===posible caso: 5845 META\n"
     ]
    },
    {
     "name": "stdout",
     "output_type": "stream",
     "text": [
      "===posible caso: 5966 META\n",
      "===posible caso: 6011 META\n",
      "===posible caso: 6145 META\n"
     ]
    },
    {
     "name": "stdout",
     "output_type": "stream",
     "text": [
      "h1\n",
      "6145 META\n",
      "===posible caso: 6165 META\n",
      "===posible caso: 6227 META\n",
      "===posible caso: 6277 META\n"
     ]
    },
    {
     "name": "stdout",
     "output_type": "stream",
     "text": [
      "===posible caso: 6295 META\n",
      "===posible caso: 6383 META\n"
     ]
    },
    {
     "name": "stdout",
     "output_type": "stream",
     "text": [
      "===posible caso: 6428 META\n",
      "h1\n",
      "6428 META\n",
      "===posible caso: 6465 META\n"
     ]
    },
    {
     "name": "stdout",
     "output_type": "stream",
     "text": [
      "h1\n",
      "6465 META\n",
      "===posible caso: 6511 META\n",
      "===posible caso: 6643 META\n"
     ]
    },
    {
     "name": "stdout",
     "output_type": "stream",
     "text": [
      "===posible caso: 6687 META\n",
      "===posible caso: 6835 META\n"
     ]
    },
    {
     "name": "stdout",
     "output_type": "stream",
     "text": [
      "h1\n",
      "6835 META\n",
      "===posible caso: 6881 META\n",
      "===posible caso: 6923 META\n"
     ]
    },
    {
     "name": "stdout",
     "output_type": "stream",
     "text": [
      "===posible caso: 7001 META\n",
      "h1\n",
      "7001 META\n",
      "===posible caso: 7022 META\n"
     ]
    },
    {
     "name": "stdout",
     "output_type": "stream",
     "text": [
      "h1\n",
      "7022 META\n",
      "===posible caso: 7069 META\n",
      "===posible caso: 7165 AAPL\n"
     ]
    },
    {
     "name": "stdout",
     "output_type": "stream",
     "text": [
      "h1\n",
      "7165 AAPL\n",
      "===posible caso: 7186 AAPL\n",
      "h1\n",
      "7186 AAPL\n",
      "===posible caso: 7244 AAPL\n"
     ]
    },
    {
     "name": "stdout",
     "output_type": "stream",
     "text": [
      "h1\n",
      "7244 AAPL\n",
      "===posible caso: 7301 AAPL\n",
      "===posible caso: 7351 AAPL\n"
     ]
    },
    {
     "name": "stdout",
     "output_type": "stream",
     "text": [
      "h1\n",
      "7351 AAPL\n",
      "===posible caso: 7419 AAPL\n",
      "===posible caso: 7474 AAPL\n",
      "h1\n",
      "7474 AAPL\n",
      "===posible caso: 7544 AAPL\n",
      "===posible caso: 7570 AAPL\n"
     ]
    },
    {
     "name": "stdout",
     "output_type": "stream",
     "text": [
      "h1\n",
      "7570 AAPL\n",
      "===posible caso: 7661 AAPL\n",
      "h1\n",
      "7661 AAPL\n",
      "===posible caso: 7720 AAPL\n",
      "===posible caso: 7865 AAPL\n"
     ]
    },
    {
     "name": "stdout",
     "output_type": "stream",
     "text": [
      "h1\n",
      "7865 AAPL\n",
      "===posible caso: 7940 AAPL\n",
      "===posible caso: 7963 AAPL\n"
     ]
    },
    {
     "name": "stdout",
     "output_type": "stream",
     "text": [
      "===posible caso: 8026 AAPL\n",
      "===posible caso: 8088 AAPL\n",
      "===posible caso: 8145 AAPL\n"
     ]
    },
    {
     "name": "stdout",
     "output_type": "stream",
     "text": [
      "===posible caso: 8215 AAPL\n",
      "===posible caso: 8381 AAPL\n",
      "===posible caso: 8424 AAPL\n",
      "===posible caso: 8530 AAPL\n",
      "===posible caso: 8610 AAPL\n"
     ]
    },
    {
     "name": "stdout",
     "output_type": "stream",
     "text": [
      "h1\n",
      "8610 AAPL\n",
      "===posible caso: 8639 AAPL\n",
      "===posible caso: 8726 AAPL\n"
     ]
    },
    {
     "name": "stdout",
     "output_type": "stream",
     "text": [
      "h1\n",
      "8726 AAPL\n",
      "===posible caso: 8828 AAPL\n",
      "h1\n",
      "8828 AAPL\n",
      "===posible caso: 8849 AAPL\n"
     ]
    },
    {
     "name": "stdout",
     "output_type": "stream",
     "text": [
      "h1\n",
      "8849 AAPL\n",
      "===posible caso: 8968 AAPL\n",
      "===posible caso: 9068 AAPL\n"
     ]
    },
    {
     "name": "stdout",
     "output_type": "stream",
     "text": [
      "h1\n",
      "9068 AAPL\n",
      "===posible caso: 9271 AAPL\n",
      "===posible caso: 9308 AAPL\n",
      "===posible caso: 9351 AAPL\n",
      "===posible caso: 9398 AAPL\n",
      "===posible caso: 9422 AAPL\n"
     ]
    },
    {
     "name": "stdout",
     "output_type": "stream",
     "text": [
      "===posible caso: 9456 AAPL\n",
      "===posible caso: 9547 AAPL\n",
      "===posible caso: 9599 AAPL\n"
     ]
    },
    {
     "name": "stdout",
     "output_type": "stream",
     "text": [
      "h1\n",
      "9599 AAPL\n",
      "===posible caso: 9699 AAPL\n",
      "h1\n",
      "9699 AAPL\n",
      "===posible caso: 9769 AAPL\n"
     ]
    },
    {
     "name": "stdout",
     "output_type": "stream",
     "text": [
      "===posible caso: 9807 AAPL\n",
      "===posible caso: 9848 AAPL\n",
      "===posible caso: 9925 AAPL\n",
      "===posible caso: 10039 AAPL\n"
     ]
    },
    {
     "name": "stdout",
     "output_type": "stream",
     "text": [
      "h1\n",
      "10039 AAPL\n",
      "===posible caso: 10067 AAPL\n",
      "===posible caso: 10149 AAPL\n",
      "===posible caso: 10196 AAPL\n"
     ]
    },
    {
     "name": "stdout",
     "output_type": "stream",
     "text": [
      "h1\n",
      "10196 AAPL\n",
      "===posible caso: 10279 AAPL\n",
      "===posible caso: 10364 AAPL\n"
     ]
    },
    {
     "name": "stdout",
     "output_type": "stream",
     "text": [
      "===posible caso: 10422 AAPL\n",
      "h1\n",
      "10422 AAPL\n",
      "===posible caso: 10525 AAPL\n"
     ]
    },
    {
     "name": "stdout",
     "output_type": "stream",
     "text": [
      "===posible caso: 10666 AMZN\n",
      "h1\n",
      "10666 AMZN\n",
      "===posible caso: 10721 AMZN\n"
     ]
    },
    {
     "name": "stdout",
     "output_type": "stream",
     "text": [
      "===posible caso: 10754 AMZN\n",
      "===posible caso: 10779 AMZN\n",
      "===posible caso: 10836 AMZN\n"
     ]
    },
    {
     "name": "stdout",
     "output_type": "stream",
     "text": [
      "===posible caso: 10998 AMZN\n",
      "h1\n",
      "10998 AMZN\n",
      "===posible caso: 11058 AMZN\n"
     ]
    },
    {
     "name": "stdout",
     "output_type": "stream",
     "text": [
      "===posible caso: 11105 AMZN\n",
      "===posible caso: 11196 AMZN\n",
      "h1\n",
      "11196 AMZN\n",
      "===posible caso: 11213 AMZN\n"
     ]
    },
    {
     "name": "stdout",
     "output_type": "stream",
     "text": [
      "===posible caso: 11324 AMZN\n",
      "===posible caso: 11355 AMZN\n"
     ]
    },
    {
     "name": "stdout",
     "output_type": "stream",
     "text": [
      "===posible caso: 11410 AMZN\n",
      "===posible caso: 11449 AMZN\n"
     ]
    },
    {
     "name": "stdout",
     "output_type": "stream",
     "text": [
      "===posible caso: 11475 AMZN\n",
      "===posible caso: 11526 AMZN\n"
     ]
    },
    {
     "name": "stdout",
     "output_type": "stream",
     "text": [
      "===posible caso: 11628 AMZN\n",
      "===posible caso: 11707 AMZN\n"
     ]
    },
    {
     "name": "stdout",
     "output_type": "stream",
     "text": [
      "h1\n",
      "11707 AMZN\n",
      "===posible caso: 11731 AMZN\n",
      "===posible caso: 11768 AMZN\n",
      "===posible caso: 11834 AMZN\n"
     ]
    },
    {
     "name": "stdout",
     "output_type": "stream",
     "text": [
      "h1\n",
      "11834 AMZN\n",
      "===posible caso: 11869 AMZN\n",
      "h1\n",
      "11869 AMZN\n",
      "===posible caso: 11929 AMZN\n",
      "===posible caso: 11974 AMZN\n"
     ]
    },
    {
     "name": "stdout",
     "output_type": "stream",
     "text": [
      "===posible caso: 11996 AMZN\n",
      "===posible caso: 12037 AMZN\n"
     ]
    },
    {
     "name": "stdout",
     "output_type": "stream",
     "text": [
      "===posible caso: 12063 AMZN\n",
      "===posible caso: 12201 AMZN\n"
     ]
    },
    {
     "name": "stdout",
     "output_type": "stream",
     "text": [
      "h1\n",
      "12201 AMZN\n",
      "===posible caso: 12289 AMZN\n",
      "===posible caso: 12360 AMZN\n",
      "===posible caso: 12432 AMZN\n"
     ]
    },
    {
     "name": "stdout",
     "output_type": "stream",
     "text": [
      "h1\n",
      "12432 AMZN\n",
      "===posible caso: 12462 AMZN\n",
      "h1\n",
      "12462 AMZN\n",
      "===posible caso: 12478 AMZN\n"
     ]
    },
    {
     "name": "stdout",
     "output_type": "stream",
     "text": [
      "===posible caso: 12593 AMZN\n",
      "===posible caso: 12691 AMZN\n",
      "h1\n",
      "12691 AMZN\n",
      "===posible caso: 12761 AMZN\n"
     ]
    },
    {
     "name": "stdout",
     "output_type": "stream",
     "text": [
      "===posible caso: 12858 AMZN\n",
      "h1\n",
      "12858 AMZN\n",
      "===posible caso: 12943 AMZN\n",
      "===posible caso: 12996 AMZN\n"
     ]
    },
    {
     "name": "stdout",
     "output_type": "stream",
     "text": [
      "===posible caso: 13013 AMZN\n",
      "===posible caso: 13049 AMZN\n"
     ]
    },
    {
     "name": "stdout",
     "output_type": "stream",
     "text": [
      "===posible caso: 13077 AMZN\n",
      "===posible caso: 13110 AMZN\n"
     ]
    },
    {
     "name": "stdout",
     "output_type": "stream",
     "text": [
      "h1\n",
      "13110 AMZN\n",
      "===posible caso: 13138 AMZN\n",
      "===posible caso: 13235 AMZN\n"
     ]
    },
    {
     "name": "stdout",
     "output_type": "stream",
     "text": [
      "===posible caso: 13260 AMZN\n",
      "===posible caso: 13441 AMZN\n"
     ]
    },
    {
     "name": "stdout",
     "output_type": "stream",
     "text": [
      "===posible caso: 13475 AMZN\n",
      "===posible caso: 13581 AMZN\n"
     ]
    },
    {
     "name": "stdout",
     "output_type": "stream",
     "text": [
      "===posible caso: 13619 AMZN\n",
      "===posible caso: 13651 AMZN\n",
      "===posible caso: 13718 AMZN\n"
     ]
    },
    {
     "name": "stdout",
     "output_type": "stream",
     "text": [
      "===posible caso: 13871 AMZN\n",
      "h1\n",
      "13871 AMZN\n",
      "===posible caso: 13950 AMZN\n"
     ]
    },
    {
     "name": "stdout",
     "output_type": "stream",
     "text": [
      "h1\n",
      "13950 AMZN\n",
      "===posible caso: 13981 AMZN\n",
      "===posible caso: 14027 AMZN\n",
      "===posible caso: 14048 AMZN\n"
     ]
    },
    {
     "name": "stdout",
     "output_type": "stream",
     "text": [
      "===posible caso: 14113 AMZN\n",
      "===posible caso: 14244 NFLX\n"
     ]
    },
    {
     "name": "stdout",
     "output_type": "stream",
     "text": [
      "===posible caso: 14314 NFLX\n",
      "h1\n",
      "14314 NFLX\n",
      "===posible caso: 14341 NFLX\n",
      "===posible caso: 14373 NFLX\n"
     ]
    },
    {
     "name": "stdout",
     "output_type": "stream",
     "text": [
      "h1\n",
      "14373 NFLX\n",
      "===posible caso: 14544 NFLX\n",
      "h1\n",
      "14544 NFLX\n",
      "===posible caso: 14644 NFLX\n",
      "===posible caso: 14716 NFLX\n",
      "===posible caso: 14748 NFLX\n"
     ]
    },
    {
     "name": "stdout",
     "output_type": "stream",
     "text": [
      "h1\n",
      "14748 NFLX\n",
      "===posible caso: 14792 NFLX\n",
      "===posible caso: 14932 NFLX\n"
     ]
    },
    {
     "name": "stdout",
     "output_type": "stream",
     "text": [
      "h1\n",
      "14932 NFLX\n",
      "===posible caso: 14959 NFLX\n",
      "h1\n",
      "14959 NFLX\n",
      "===posible caso: 15064 NFLX\n"
     ]
    },
    {
     "name": "stdout",
     "output_type": "stream",
     "text": [
      "h1\n",
      "15064 NFLX\n",
      "===posible caso: 15093 NFLX\n",
      "===posible caso: 15167 NFLX\n"
     ]
    },
    {
     "name": "stdout",
     "output_type": "stream",
     "text": [
      "===posible caso: 15231 NFLX\n",
      "===posible caso: 15286 NFLX\n"
     ]
    },
    {
     "name": "stdout",
     "output_type": "stream",
     "text": [
      "h1\n",
      "15286 NFLX\n",
      "===posible caso: 15333 NFLX\n",
      "===posible caso: 15381 NFLX\n"
     ]
    },
    {
     "name": "stdout",
     "output_type": "stream",
     "text": [
      "h1\n",
      "15381 NFLX\n",
      "===posible caso: 15404 NFLX\n",
      "h1\n",
      "15404 NFLX\n",
      "===posible caso: 15450 NFLX\n",
      "===posible caso: 15475 NFLX\n"
     ]
    },
    {
     "name": "stdout",
     "output_type": "stream",
     "text": [
      "===posible caso: 15520 NFLX\n",
      "h1\n",
      "15520 NFLX\n",
      "===posible caso: 15561 NFLX\n",
      "===posible caso: 15654 NFLX\n"
     ]
    },
    {
     "name": "stdout",
     "output_type": "stream",
     "text": [
      "h1\n",
      "15654 NFLX\n",
      "===posible caso: 15728 NFLX\n",
      "===posible caso: 15795 NFLX\n"
     ]
    },
    {
     "name": "stdout",
     "output_type": "stream",
     "text": [
      "===posible caso: 15826 NFLX\n",
      "===posible caso: 15942 NFLX\n"
     ]
    },
    {
     "name": "stdout",
     "output_type": "stream",
     "text": [
      "===posible caso: 16038 NFLX\n",
      "===posible caso: 16128 NFLX\n"
     ]
    },
    {
     "name": "stdout",
     "output_type": "stream",
     "text": [
      "h1\n",
      "16128 NFLX\n",
      "===posible caso: 16219 NFLX\n",
      "===posible caso: 16367 NFLX\n"
     ]
    },
    {
     "name": "stdout",
     "output_type": "stream",
     "text": [
      "===posible caso: 16396 NFLX\n",
      "===posible caso: 16474 NFLX\n"
     ]
    },
    {
     "name": "stdout",
     "output_type": "stream",
     "text": [
      "h1\n",
      "16474 NFLX\n",
      "===posible caso: 16526 NFLX\n",
      "===posible caso: 16548 NFLX\n"
     ]
    },
    {
     "name": "stdout",
     "output_type": "stream",
     "text": [
      "===posible caso: 16567 NFLX\n",
      "===posible caso: 16683 NFLX\n",
      "h1\n",
      "16683 NFLX\n",
      "===posible caso: 16771 NFLX\n"
     ]
    },
    {
     "name": "stdout",
     "output_type": "stream",
     "text": [
      "===posible caso: 16797 NFLX\n",
      "===posible caso: 16959 NFLX\n"
     ]
    },
    {
     "name": "stdout",
     "output_type": "stream",
     "text": [
      "h1\n",
      "16959 NFLX\n",
      "===posible caso: 17042 NFLX\n",
      "h1\n",
      "17042 NFLX\n",
      "===posible caso: 17070 NFLX\n"
     ]
    },
    {
     "name": "stdout",
     "output_type": "stream",
     "text": [
      "h1\n",
      "17070 NFLX\n",
      "===posible caso: 17209 NFLX\n",
      "h1\n",
      "17209 NFLX\n",
      "===posible caso: 17226 NFLX\n"
     ]
    },
    {
     "name": "stdout",
     "output_type": "stream",
     "text": [
      "===posible caso: 17253 NFLX\n",
      "===posible caso: 17354 NFLX\n"
     ]
    },
    {
     "name": "stdout",
     "output_type": "stream",
     "text": [
      "h2\n",
      "h4\n",
      "h2\n",
      "h4\n",
      "h1\n",
      "17354 NFLX\n",
      "===posible caso: 17441 NFLX\n",
      "===posible caso: 17457 NFLX\n"
     ]
    },
    {
     "name": "stdout",
     "output_type": "stream",
     "text": [
      "===posible caso: 17511 NFLX\n",
      "===posible caso: 17528 NFLX\n"
     ]
    },
    {
     "name": "stdout",
     "output_type": "stream",
     "text": [
      "===posible caso: 17557 NFLX\n",
      "===posible caso: 17612 NFLX\n"
     ]
    },
    {
     "name": "stdout",
     "output_type": "stream",
     "text": [
      "===posible caso: 17738 MRNA\n",
      "===posible caso: 17774 MRNA\n",
      "===posible caso: 17816 MRNA\n",
      "===posible caso: 17853 MRNA\n",
      "===posible caso: 17956 MRNA\n"
     ]
    },
    {
     "name": "stdout",
     "output_type": "stream",
     "text": [
      "h1\n",
      "17956 MRNA\n",
      "===posible caso: 18017 MRNA\n",
      "h1\n",
      "18017 MRNA\n",
      "===posible caso: 18040 MRNA\n"
     ]
    },
    {
     "name": "stdout",
     "output_type": "stream",
     "text": [
      "h1\n",
      "18040 MRNA\n",
      "===posible caso: 18059 MRNA\n",
      "===posible caso: 18134 MRNA\n",
      "===posible caso: 18204 MRNA\n",
      "===posible caso: 18253 MRNA\n",
      "===posible caso: 18381 MRNA\n",
      "===posible caso: 18432 MRNA\n",
      "===posible caso: 18457 MRNA\n"
     ]
    },
    {
     "name": "stdout",
     "output_type": "stream",
     "text": [
      "===posible caso: 18474 MRNA\n",
      "h1\n",
      "18474 MRNA\n",
      "===posible caso: 18491 MRNA\n"
     ]
    },
    {
     "name": "stdout",
     "output_type": "stream",
     "text": [
      "===posible caso: 18527 MRNA\n",
      "h1\n",
      "18527 MRNA\n",
      "===posible caso: 18551 MRNA\n"
     ]
    },
    {
     "name": "stdout",
     "output_type": "stream",
     "text": [
      "===posible caso: 18647 MRNA\n",
      "h1\n",
      "18647 MRNA\n",
      "===posible caso: 18677 MRNA\n"
     ]
    },
    {
     "name": "stdout",
     "output_type": "stream",
     "text": [
      "===posible caso: 18774 MRNA\n",
      "===posible caso: 18894 MRNA\n"
     ]
    },
    {
     "name": "stdout",
     "output_type": "stream",
     "text": [
      "===posible caso: 18918 MRNA\n",
      "===posible caso: 18974 MRNA\n"
     ]
    },
    {
     "name": "stdout",
     "output_type": "stream",
     "text": [
      "===posible caso: 19009 MRNA\n",
      "===posible caso: 19060 MRNA\n"
     ]
    },
    {
     "name": "stdout",
     "output_type": "stream",
     "text": [
      "===posible caso: 19096 MRNA\n",
      "===posible caso: 19114 MRNA\n",
      "===posible caso: 19191 MRNA\n",
      "===posible caso: 19238 MRNA\n"
     ]
    },
    {
     "name": "stdout",
     "output_type": "stream",
     "text": [
      "===posible caso: 19347 MRNA\n",
      "===posible caso: 19403 MRNA\n",
      "===posible caso: 19433 MRNA\n"
     ]
    },
    {
     "name": "stdout",
     "output_type": "stream",
     "text": [
      "===posible caso: 19536 MRNA\n",
      "===posible caso: 19565 MRNA\n",
      "h1\n",
      "19565 MRNA\n",
      "===posible caso: 19583 MRNA\n"
     ]
    },
    {
     "name": "stdout",
     "output_type": "stream",
     "text": [
      "===posible caso: 19648 MRNA\n",
      "h1\n",
      "19648 MRNA\n",
      "===posible caso: 19748 MRNA\n"
     ]
    },
    {
     "name": "stdout",
     "output_type": "stream",
     "text": [
      "===posible caso: 19857 MRNA\n",
      "===posible caso: 19888 MRNA\n",
      "===posible caso: 19950 MRNA\n",
      "===posible caso: 20071 MRNA\n",
      "===posible caso: 20097 MRNA\n"
     ]
    },
    {
     "name": "stdout",
     "output_type": "stream",
     "text": [
      "===posible caso: 20231 MRNA\n",
      "===posible caso: 20259 MRNA\n"
     ]
    },
    {
     "name": "stdout",
     "output_type": "stream",
     "text": [
      "===posible caso: 20289 MRNA\n",
      "===posible caso: 20331 MRNA\n",
      "===posible caso: 20422 MRNA\n",
      "h1\n",
      "20422 MRNA\n",
      "===posible caso: 20457 MRNA\n"
     ]
    },
    {
     "name": "stdout",
     "output_type": "stream",
     "text": [
      "h1\n",
      "20457 MRNA\n",
      "===posible caso: 20515 MRNA\n",
      "h1\n",
      "20515 MRNA\n",
      "===posible caso: 20614 MRNA\n"
     ]
    },
    {
     "name": "stdout",
     "output_type": "stream",
     "text": [
      "===posible caso: 20705 MRNA\n",
      "===posible caso: 20963 MRNA\n"
     ]
    },
    {
     "name": "stdout",
     "output_type": "stream",
     "text": [
      "===posible caso: 21056 MRNA\n",
      "===posible caso: 21120 MRNA\n",
      "===posible caso: 21178 MRNA\n"
     ]
    },
    {
     "name": "stdout",
     "output_type": "stream",
     "text": [
      "===posible caso: 21315 TSLA\n",
      "===posible caso: 21380 TSLA\n"
     ]
    },
    {
     "name": "stdout",
     "output_type": "stream",
     "text": [
      "h1\n",
      "21380 TSLA\n",
      "===posible caso: 21411 TSLA\n",
      "h1\n",
      "21411 TSLA\n",
      "===posible caso: 21465 TSLA\n"
     ]
    },
    {
     "name": "stdout",
     "output_type": "stream",
     "text": [
      "h1\n",
      "21465 TSLA\n",
      "===posible caso: 21591 TSLA\n",
      "===posible caso: 21643 TSLA\n"
     ]
    },
    {
     "name": "stdout",
     "output_type": "stream",
     "text": [
      "===posible caso: 21665 TSLA\n",
      "h1\n",
      "21665 TSLA\n",
      "===posible caso: 21768 TSLA\n"
     ]
    },
    {
     "name": "stdout",
     "output_type": "stream",
     "text": [
      "===posible caso: 21786 TSLA\n",
      "===posible caso: 21822 TSLA\n"
     ]
    },
    {
     "name": "stdout",
     "output_type": "stream",
     "text": [
      "===posible caso: 21855 TSLA\n",
      "===posible caso: 21911 TSLA\n",
      "===posible caso: 21930 TSLA\n",
      "===posible caso: 21968 TSLA\n",
      "===posible caso: 22026 TSLA\n"
     ]
    },
    {
     "name": "stdout",
     "output_type": "stream",
     "text": [
      "===posible caso: 22131 TSLA\n",
      "h1\n",
      "22131 TSLA\n",
      "===posible caso: 22162 TSLA\n",
      "===posible caso: 22213 TSLA\n",
      "===posible caso: 22287 TSLA\n",
      "===posible caso: 22313 TSLA\n"
     ]
    },
    {
     "name": "stdout",
     "output_type": "stream",
     "text": [
      "===posible caso: 22375 TSLA\n",
      "h1\n",
      "22375 TSLA\n",
      "===posible caso: 22405 TSLA\n",
      "===posible caso: 22454 TSLA\n"
     ]
    },
    {
     "name": "stdout",
     "output_type": "stream",
     "text": [
      "h1\n",
      "22454 TSLA\n",
      "===posible caso: 22470 TSLA\n",
      "h1\n",
      "22470 TSLA\n",
      "===posible caso: 22509 TSLA\n",
      "===posible caso: 22564 TSLA\n",
      "===posible caso: 22649 TSLA\n"
     ]
    },
    {
     "name": "stdout",
     "output_type": "stream",
     "text": [
      "===posible caso: 22749 TSLA\n",
      "h1\n",
      "22749 TSLA\n",
      "===posible caso: 22865 TSLA\n"
     ]
    },
    {
     "name": "stdout",
     "output_type": "stream",
     "text": [
      "===posible caso: 22990 TSLA\n",
      "h1\n",
      "22990 TSLA\n",
      "===posible caso: 23093 TSLA\n"
     ]
    },
    {
     "name": "stdout",
     "output_type": "stream",
     "text": [
      "h1\n",
      "23093 TSLA\n",
      "===posible caso: 23177 TSLA\n",
      "===posible caso: 23300 TSLA\n"
     ]
    },
    {
     "name": "stdout",
     "output_type": "stream",
     "text": [
      "h1\n",
      "23300 TSLA\n",
      "===posible caso: 23366 TSLA\n",
      "===posible caso: 23491 TSLA\n"
     ]
    },
    {
     "name": "stdout",
     "output_type": "stream",
     "text": [
      "===posible caso: 23519 TSLA\n",
      "h1\n",
      "23519 TSLA\n",
      "===posible caso: 23584 TSLA\n"
     ]
    },
    {
     "name": "stdout",
     "output_type": "stream",
     "text": [
      "===posible caso: 23626 TSLA\n",
      "===posible caso: 23696 TSLA\n"
     ]
    },
    {
     "name": "stdout",
     "output_type": "stream",
     "text": [
      "h1\n",
      "23696 TSLA\n",
      "===posible caso: 23759 TSLA\n",
      "===posible caso: 23874 TSLA\n"
     ]
    },
    {
     "name": "stdout",
     "output_type": "stream",
     "text": [
      "h1\n",
      "23874 TSLA\n",
      "===posible caso: 24006 TSLA\n",
      "h1\n",
      "24006 TSLA\n",
      "===posible caso: 24151 TSLA\n"
     ]
    },
    {
     "name": "stdout",
     "output_type": "stream",
     "text": [
      "===posible caso: 24205 TSLA\n",
      "===posible caso: 24257 TSLA\n",
      "===posible caso: 24274 TSLA\n",
      "===posible caso: 24323 TSLA\n"
     ]
    },
    {
     "name": "stdout",
     "output_type": "stream",
     "text": [
      "===posible caso: 24474 TSLA\n",
      "===posible caso: 24491 TSLA\n",
      "===posible caso: 24510 TSLA\n"
     ]
    },
    {
     "name": "stdout",
     "output_type": "stream",
     "text": [
      "h1\n",
      "24510 TSLA\n",
      "===posible caso: 24593 TSLA\n",
      "h1\n",
      "24593 TSLA\n",
      "===posible caso: 24633 TSLA\n"
     ]
    },
    {
     "name": "stdout",
     "output_type": "stream",
     "text": [
      "h1\n",
      "24633 TSLA\n",
      "===posible caso: 24656 TSLA\n",
      "===posible caso: 24744 TSLA\n",
      "===posible caso: 24841 TNA\n",
      "===posible caso: 24914 TNA\n"
     ]
    },
    {
     "name": "stdout",
     "output_type": "stream",
     "text": [
      "h1\n",
      "24914 TNA\n",
      "===posible caso: 24976 TNA\n",
      "===posible caso: 25000 TNA\n"
     ]
    },
    {
     "name": "stdout",
     "output_type": "stream",
     "text": [
      "h2\n",
      "h4\n",
      "h1\n",
      "25000 TNA\n",
      "===posible caso: 25138 TNA\n",
      "===posible caso: 25322 TNA\n",
      "===posible caso: 25450 TNA\n"
     ]
    },
    {
     "name": "stdout",
     "output_type": "stream",
     "text": [
      "===posible caso: 25502 TNA\n",
      "===posible caso: 25526 TNA\n",
      "===posible caso: 25544 TNA\n"
     ]
    },
    {
     "name": "stdout",
     "output_type": "stream",
     "text": [
      "===posible caso: 25588 TNA\n",
      "===posible caso: 25640 TNA\n"
     ]
    },
    {
     "name": "stdout",
     "output_type": "stream",
     "text": [
      "===posible caso: 25668 TNA\n",
      "h1\n",
      "25668 TNA\n",
      "===posible caso: 25701 TNA\n"
     ]
    },
    {
     "name": "stdout",
     "output_type": "stream",
     "text": [
      "===posible caso: 25749 TNA\n",
      "===posible caso: 25813 TNA\n",
      "===posible caso: 25847 TNA\n"
     ]
    },
    {
     "name": "stdout",
     "output_type": "stream",
     "text": [
      "===posible caso: 25914 TNA\n",
      "===posible caso: 26011 TNA\n"
     ]
    },
    {
     "name": "stdout",
     "output_type": "stream",
     "text": [
      "h1\n",
      "26011 TNA\n",
      "===posible caso: 26037 TNA\n",
      "===posible caso: 26105 TNA\n",
      "===posible caso: 26137 TNA\n"
     ]
    },
    {
     "name": "stdout",
     "output_type": "stream",
     "text": [
      "h1\n",
      "26137 TNA\n",
      "===posible caso: 26258 TNA\n",
      "===posible caso: 26285 TNA\n",
      "h1\n",
      "26285 TNA\n",
      "===posible caso: 26326 TNA\n"
     ]
    },
    {
     "name": "stdout",
     "output_type": "stream",
     "text": [
      "h1\n",
      "26326 TNA\n",
      "===posible caso: 26372 TNA\n",
      "===posible caso: 26388 TNA\n"
     ]
    },
    {
     "name": "stdout",
     "output_type": "stream",
     "text": [
      "===posible caso: 26423 TNA\n",
      "h1\n",
      "26423 TNA\n",
      "===posible caso: 26449 TNA\n"
     ]
    },
    {
     "name": "stdout",
     "output_type": "stream",
     "text": [
      "h1\n",
      "26449 TNA\n",
      "===posible caso: 26529 TNA\n",
      "h1\n",
      "26529 TNA\n",
      "===posible caso: 26549 TNA\n"
     ]
    },
    {
     "name": "stdout",
     "output_type": "stream",
     "text": [
      "===posible caso: 26655 TNA\n",
      "h1\n",
      "26655 TNA\n",
      "===posible caso: 26711 TNA\n"
     ]
    },
    {
     "name": "stdout",
     "output_type": "stream",
     "text": [
      "h1\n",
      "26711 TNA\n",
      "===posible caso: 26731 TNA\n",
      "h1\n",
      "26731 TNA\n",
      "===posible caso: 26852 TNA\n"
     ]
    },
    {
     "name": "stdout",
     "output_type": "stream",
     "text": [
      "===posible caso: 26876 TNA\n",
      "===posible caso: 26977 TNA\n"
     ]
    },
    {
     "name": "stdout",
     "output_type": "stream",
     "text": [
      "===posible caso: 27106 TNA\n",
      "h1\n",
      "27106 TNA\n",
      "===posible caso: 27174 TNA\n",
      "===posible caso: 27300 TNA\n"
     ]
    },
    {
     "name": "stdout",
     "output_type": "stream",
     "text": [
      "===posible caso: 27329 TNA\n",
      "h2\n",
      "h4\n",
      "h1\n",
      "27329 TNA\n",
      "===posible caso: 27376 TNA\n",
      "===posible caso: 27482 TNA\n"
     ]
    },
    {
     "name": "stdout",
     "output_type": "stream",
     "text": [
      "===posible caso: 27550 TNA\n",
      "h1\n",
      "27550 TNA\n",
      "===posible caso: 27567 TNA\n"
     ]
    },
    {
     "name": "stdout",
     "output_type": "stream",
     "text": [
      "h1\n",
      "27567 TNA\n",
      "===posible caso: 27602 TNA\n",
      "===posible caso: 27683 TNA\n",
      "===posible caso: 27851 TNA\n"
     ]
    },
    {
     "name": "stdout",
     "output_type": "stream",
     "text": [
      "===posible caso: 27897 TNA\n",
      "===posible caso: 27933 TNA\n",
      "h1\n",
      "27933 TNA\n",
      "===posible caso: 27959 TNA\n"
     ]
    },
    {
     "name": "stdout",
     "output_type": "stream",
     "text": [
      "h1\n",
      "27959 TNA\n",
      "===posible caso: 28045 TNA\n",
      "h1\n",
      "28045 TNA\n",
      "===posible caso: 28095 TNA\n"
     ]
    },
    {
     "name": "stdout",
     "output_type": "stream",
     "text": [
      "h1\n",
      "28095 TNA\n",
      "===posible caso: 28116 TNA\n",
      "===posible caso: 28195 TNA\n",
      "===posible caso: 28427 GLD\n"
     ]
    },
    {
     "name": "stdout",
     "output_type": "stream",
     "text": [
      "===posible caso: 28448 GLD\n",
      "===posible caso: 28540 GLD\n",
      "===posible caso: 28663 GLD\n"
     ]
    },
    {
     "name": "stdout",
     "output_type": "stream",
     "text": [
      "h1\n",
      "28663 GLD\n",
      "===posible caso: 28705 GLD\n",
      "h1\n",
      "28705 GLD\n",
      "===posible caso: 28764 GLD\n"
     ]
    },
    {
     "name": "stdout",
     "output_type": "stream",
     "text": [
      "h1\n",
      "28764 GLD\n",
      "===posible caso: 28884 GLD\n",
      "===posible caso: 28916 GLD\n"
     ]
    },
    {
     "name": "stdout",
     "output_type": "stream",
     "text": [
      "h1\n",
      "28916 GLD\n",
      "===posible caso: 28954 GLD\n",
      "===posible caso: 29048 GLD\n",
      "===posible caso: 29069 GLD\n"
     ]
    },
    {
     "name": "stdout",
     "output_type": "stream",
     "text": [
      "===posible caso: 29120 GLD\n",
      "===posible caso: 29145 GLD\n"
     ]
    },
    {
     "name": "stdout",
     "output_type": "stream",
     "text": [
      "===posible caso: 29199 GLD\n",
      "===posible caso: 29236 GLD\n"
     ]
    },
    {
     "name": "stdout",
     "output_type": "stream",
     "text": [
      "===posible caso: 29275 GLD\n",
      "===posible caso: 29357 GLD\n",
      "===posible caso: 29403 GLD\n"
     ]
    },
    {
     "name": "stdout",
     "output_type": "stream",
     "text": [
      "===posible caso: 29430 GLD\n",
      "===posible caso: 29509 GLD\n"
     ]
    },
    {
     "name": "stdout",
     "output_type": "stream",
     "text": [
      "h2\n",
      "h4\n",
      "h1\n",
      "29509 GLD\n",
      "===posible caso: 29578 GLD\n",
      "===posible caso: 29723 GLD\n"
     ]
    },
    {
     "name": "stdout",
     "output_type": "stream",
     "text": [
      "h1\n",
      "29723 GLD\n",
      "===posible caso: 29744 GLD\n",
      "h1\n",
      "29744 GLD\n",
      "===posible caso: 29763 GLD\n"
     ]
    },
    {
     "name": "stdout",
     "output_type": "stream",
     "text": [
      "===posible caso: 29782 GLD\n",
      "===posible caso: 29824 GLD\n"
     ]
    },
    {
     "name": "stdout",
     "output_type": "stream",
     "text": [
      "===posible caso: 29888 GLD\n",
      "===posible caso: 29930 GLD\n"
     ]
    },
    {
     "name": "stdout",
     "output_type": "stream",
     "text": [
      "h1\n",
      "29930 GLD\n",
      "===posible caso: 29962 GLD\n",
      "===posible caso: 30011 GLD\n",
      "===posible caso: 30077 GLD\n"
     ]
    },
    {
     "name": "stdout",
     "output_type": "stream",
     "text": [
      "===posible caso: 30144 GLD\n",
      "===posible caso: 30195 GLD\n"
     ]
    },
    {
     "name": "stdout",
     "output_type": "stream",
     "text": [
      "===posible caso: 30279 GLD\n",
      "===posible caso: 30327 GLD\n"
     ]
    },
    {
     "name": "stdout",
     "output_type": "stream",
     "text": [
      "h1\n",
      "30327 GLD\n",
      "===posible caso: 30363 GLD\n",
      "h1\n",
      "30363 GLD\n",
      "===posible caso: 30415 GLD\n"
     ]
    },
    {
     "name": "stdout",
     "output_type": "stream",
     "text": [
      "h1\n",
      "30415 GLD\n",
      "===posible caso: 30486 GLD\n",
      "===posible caso: 30550 GLD\n"
     ]
    },
    {
     "name": "stdout",
     "output_type": "stream",
     "text": [
      "===posible caso: 30677 GLD\n",
      "===posible caso: 30716 GLD\n"
     ]
    },
    {
     "name": "stdout",
     "output_type": "stream",
     "text": [
      "===posible caso: 30747 GLD\n",
      "===posible caso: 30836 GLD\n"
     ]
    },
    {
     "name": "stdout",
     "output_type": "stream",
     "text": [
      "h1\n",
      "30836 GLD\n",
      "===posible caso: 30861 GLD\n",
      "===posible caso: 30878 GLD\n",
      "===posible caso: 30915 GLD\n"
     ]
    },
    {
     "name": "stdout",
     "output_type": "stream",
     "text": [
      "===posible caso: 31011 GLD\n",
      "===posible caso: 31041 GLD\n",
      "===posible caso: 31104 GLD\n"
     ]
    },
    {
     "name": "stdout",
     "output_type": "stream",
     "text": [
      "===posible caso: 31181 GLD\n",
      "===posible caso: 31250 GLD\n"
     ]
    },
    {
     "name": "stdout",
     "output_type": "stream",
     "text": [
      "===posible caso: 31294 GLD\n",
      "===posible caso: 31369 GLD\n",
      "===posible caso: 31435 GLD\n"
     ]
    },
    {
     "name": "stdout",
     "output_type": "stream",
     "text": [
      "h1\n",
      "31435 GLD\n",
      "===posible caso: 31483 GLD\n",
      "===posible caso: 31524 GLD\n",
      "===posible caso: 31600 GLD\n",
      "===posible caso: 31688 GLD\n"
     ]
    },
    {
     "name": "stdout",
     "output_type": "stream",
     "text": [
      "===posible caso: 31726 GLD\n",
      "===posible caso: 31753 GLD\n",
      "h1\n",
      "31753 GLD\n",
      "===posible caso: 31819 GLD\n",
      "===posible caso: 31999 SLV\n"
     ]
    },
    {
     "name": "stdout",
     "output_type": "stream",
     "text": [
      "h1\n",
      "31999 SLV\n",
      "===posible caso: 32107 SLV\n",
      "===posible caso: 32203 SLV\n",
      "===posible caso: 32261 SLV\n",
      "===posible caso: 32315 SLV\n"
     ]
    },
    {
     "name": "stdout",
     "output_type": "stream",
     "text": [
      "h1\n",
      "32315 SLV\n",
      "===posible caso: 32456 SLV\n",
      "h1\n",
      "32456 SLV\n",
      "===posible caso: 32588 SLV\n",
      "===posible caso: 32659 SLV\n"
     ]
    },
    {
     "name": "stdout",
     "output_type": "stream",
     "text": [
      "===posible caso: 32759 SLV\n",
      "===posible caso: 32934 SLV\n"
     ]
    },
    {
     "name": "stdout",
     "output_type": "stream",
     "text": [
      "h1\n",
      "32934 SLV\n",
      "===posible caso: 32994 SLV\n",
      "===posible caso: 33022 SLV\n",
      "===posible caso: 33050 SLV\n"
     ]
    },
    {
     "name": "stdout",
     "output_type": "stream",
     "text": [
      "===posible caso: 33118 SLV\n",
      "===posible caso: 33153 SLV\n"
     ]
    },
    {
     "name": "stdout",
     "output_type": "stream",
     "text": [
      "===posible caso: 33177 SLV\n",
      "h1\n",
      "33177 SLV\n",
      "===posible caso: 33284 SLV\n"
     ]
    },
    {
     "name": "stdout",
     "output_type": "stream",
     "text": [
      "h1\n",
      "33284 SLV\n",
      "===posible caso: 33324 SLV\n",
      "===posible caso: 33352 SLV\n",
      "===posible caso: 33469 SLV\n",
      "h1\n",
      "33469 SLV\n",
      "===posible caso: 33617 SLV\n"
     ]
    },
    {
     "name": "stdout",
     "output_type": "stream",
     "text": [
      "===posible caso: 33682 SLV\n",
      "===posible caso: 33708 SLV\n"
     ]
    },
    {
     "name": "stdout",
     "output_type": "stream",
     "text": [
      "===posible caso: 33771 SLV\n",
      "===posible caso: 33811 SLV\n",
      "===posible caso: 33866 SLV\n",
      "h1\n",
      "33866 SLV\n",
      "===posible caso: 33942 SLV\n"
     ]
    },
    {
     "name": "stdout",
     "output_type": "stream",
     "text": [
      "h1\n",
      "33942 SLV\n",
      "===posible caso: 34076 SLV\n",
      "h1\n",
      "34076 SLV\n",
      "===posible caso: 34128 SLV\n",
      "===posible caso: 34217 SLV\n"
     ]
    },
    {
     "name": "stdout",
     "output_type": "stream",
     "text": [
      "===posible caso: 34356 SLV\n",
      "===posible caso: 34376 SLV\n",
      "h1\n",
      "34376 SLV\n",
      "===posible caso: 34418 SLV\n",
      "===posible caso: 34438 SLV\n"
     ]
    },
    {
     "name": "stdout",
     "output_type": "stream",
     "text": [
      "===posible caso: 34581 SLV\n",
      "h1\n",
      "34581 SLV\n",
      "===posible caso: 34611 SLV\n",
      "===posible caso: 34633 SLV\n"
     ]
    },
    {
     "name": "stdout",
     "output_type": "stream",
     "text": [
      "h1\n",
      "34633 SLV\n",
      "===posible caso: 34714 SLV\n",
      "h2\n",
      "h4\n",
      "h1\n",
      "34714 SLV\n",
      "===posible caso: 34771 SLV\n"
     ]
    },
    {
     "name": "stdout",
     "output_type": "stream",
     "text": [
      "h1\n",
      "34771 SLV\n",
      "===posible caso: 34842 SLV\n",
      "===posible caso: 34877 SLV\n",
      "===posible caso: 34898 SLV\n"
     ]
    },
    {
     "name": "stdout",
     "output_type": "stream",
     "text": [
      "h1\n",
      "34898 SLV\n",
      "===posible caso: 34950 SLV\n",
      "===posible caso: 35046 SLV\n",
      "h1\n",
      "35046 SLV\n",
      "===posible caso: 35076 SLV\n"
     ]
    },
    {
     "name": "stdout",
     "output_type": "stream",
     "text": [
      "===posible caso: 35174 SLV\n",
      "===posible caso: 35217 SLV\n",
      "===posible caso: 35266 SLV\n",
      "===posible caso: 35308 SLV\n"
     ]
    },
    {
     "name": "stdout",
     "output_type": "stream",
     "text": [
      "===posible caso: 35335 SLV\n",
      "===posible caso: 35428 USO\n"
     ]
    },
    {
     "name": "stdout",
     "output_type": "stream",
     "text": [
      "===posible caso: 35511 USO\n",
      "===posible caso: 35594 USO\n"
     ]
    },
    {
     "name": "stdout",
     "output_type": "stream",
     "text": [
      "===posible caso: 35642 USO\n",
      "h1\n",
      "35642 USO\n",
      "===posible caso: 35835 USO\n"
     ]
    },
    {
     "name": "stdout",
     "output_type": "stream",
     "text": [
      "===posible caso: 35935 USO\n",
      "===posible caso: 35964 USO\n",
      "===posible caso: 35994 USO\n"
     ]
    },
    {
     "name": "stdout",
     "output_type": "stream",
     "text": [
      "===posible caso: 36034 USO\n",
      "h1\n",
      "36034 USO\n",
      "===posible caso: 36239 USO\n"
     ]
    },
    {
     "name": "stdout",
     "output_type": "stream",
     "text": [
      "===posible caso: 36286 USO\n",
      "h1\n",
      "36286 USO\n",
      "===posible caso: 36308 USO\n"
     ]
    },
    {
     "name": "stdout",
     "output_type": "stream",
     "text": [
      "h1\n",
      "36308 USO\n",
      "===posible caso: 36390 USO\n",
      "===posible caso: 36459 USO\n",
      "===posible caso: 36544 USO\n"
     ]
    },
    {
     "name": "stdout",
     "output_type": "stream",
     "text": [
      "h1\n",
      "36544 USO\n",
      "===posible caso: 36562 USO\n",
      "h1\n",
      "36562 USO\n",
      "===posible caso: 36582 USO\n"
     ]
    },
    {
     "name": "stdout",
     "output_type": "stream",
     "text": [
      "h1\n",
      "36582 USO\n",
      "===posible caso: 36622 USO\n",
      "===posible caso: 36643 USO\n"
     ]
    },
    {
     "name": "stdout",
     "output_type": "stream",
     "text": [
      "h1\n",
      "36643 USO\n",
      "===posible caso: 36708 USO\n",
      "===posible caso: 36792 USO\n"
     ]
    },
    {
     "name": "stdout",
     "output_type": "stream",
     "text": [
      "h1\n",
      "36792 USO\n",
      "===posible caso: 36895 USO\n",
      "h2\n",
      "h4\n",
      "h1\n",
      "36895 USO\n",
      "===posible caso: 36963 USO\n",
      "===posible caso: 37006 USO\n"
     ]
    },
    {
     "name": "stdout",
     "output_type": "stream",
     "text": [
      "===posible caso: 37118 USO\n",
      "===posible caso: 37220 USO\n"
     ]
    },
    {
     "name": "stdout",
     "output_type": "stream",
     "text": [
      "h1\n",
      "37220 USO\n",
      "===posible caso: 37322 USO\n",
      "h1\n",
      "37322 USO\n",
      "===posible caso: 37405 USO\n"
     ]
    },
    {
     "name": "stdout",
     "output_type": "stream",
     "text": [
      "===posible caso: 37423 USO\n",
      "h1\n",
      "37423 USO\n",
      "===posible caso: 37475 USO\n"
     ]
    },
    {
     "name": "stdout",
     "output_type": "stream",
     "text": [
      "===posible caso: 37611 USO\n",
      "===posible caso: 37680 USO\n"
     ]
    },
    {
     "name": "stdout",
     "output_type": "stream",
     "text": [
      "===posible caso: 37777 USO\n",
      "===posible caso: 37822 USO\n"
     ]
    },
    {
     "name": "stdout",
     "output_type": "stream",
     "text": [
      "h1\n",
      "37822 USO\n",
      "===posible caso: 37838 USO\n",
      "h1\n",
      "37838 USO\n",
      "===posible caso: 37915 USO\n"
     ]
    },
    {
     "name": "stdout",
     "output_type": "stream",
     "text": [
      "===posible caso: 38009 USO\n",
      "h1\n",
      "38009 USO\n",
      "===posible caso: 38028 USO\n"
     ]
    },
    {
     "name": "stdout",
     "output_type": "stream",
     "text": [
      "h1\n",
      "38028 USO\n",
      "===posible caso: 38100 USO\n",
      "h1\n",
      "38100 USO\n",
      "===posible caso: 38148 USO\n"
     ]
    },
    {
     "name": "stdout",
     "output_type": "stream",
     "text": [
      "===posible caso: 38233 USO\n",
      "===posible caso: 38271 USO\n",
      "===posible caso: 38312 USO\n",
      "===posible caso: 38349 USO\n",
      "===posible caso: 38410 USO\n",
      "===posible caso: 38478 USO\n"
     ]
    },
    {
     "name": "stdout",
     "output_type": "stream",
     "text": [
      "h1\n",
      "38478 USO\n",
      "===posible caso: 38519 USO\n",
      "===posible caso: 38553 USO\n",
      "===posible caso: 38606 USO\n"
     ]
    },
    {
     "name": "stdout",
     "output_type": "stream",
     "text": [
      "h1\n",
      "38606 USO\n",
      "===posible caso: 38711 USO\n",
      "===posible caso: 38808 USO\n",
      "===posible caso: 38836 USO\n"
     ]
    },
    {
     "name": "stdout",
     "output_type": "stream",
     "text": [
      "h3\n",
      "h4\n",
      "h3\n",
      "h4\n",
      "h3\n",
      "h4\n",
      "h3\n",
      "h4\n",
      "38836 USO\n",
      "===posible caso: 38908 USO\n",
      "===posible caso: 39002 BAC\n"
     ]
    },
    {
     "name": "stdout",
     "output_type": "stream",
     "text": [
      "===posible caso: 39045 BAC\n",
      "===posible caso: 39096 BAC\n",
      "===posible caso: 39170 BAC\n",
      "===posible caso: 39279 BAC\n",
      "===posible caso: 39481 BAC\n",
      "===posible caso: 39521 BAC\n"
     ]
    },
    {
     "name": "stdout",
     "output_type": "stream",
     "text": [
      "h1\n",
      "39521 BAC\n",
      "===posible caso: 39567 BAC\n",
      "===posible caso: 39609 BAC\n",
      "===posible caso: 39687 BAC\n"
     ]
    },
    {
     "name": "stdout",
     "output_type": "stream",
     "text": [
      "h1\n",
      "39687 BAC\n",
      "===posible caso: 39755 BAC\n",
      "h2\n",
      "h4\n",
      "h1\n",
      "39755 BAC\n",
      "===posible caso: 39799 BAC\n",
      "===posible caso: 39895 BAC\n",
      "===posible caso: 40014 BAC\n"
     ]
    },
    {
     "name": "stdout",
     "output_type": "stream",
     "text": [
      "===posible caso: 40074 BAC\n",
      "===posible caso: 40102 BAC\n"
     ]
    },
    {
     "name": "stdout",
     "output_type": "stream",
     "text": [
      "===posible caso: 40217 BAC\n",
      "===posible caso: 40265 BAC\n"
     ]
    },
    {
     "name": "stdout",
     "output_type": "stream",
     "text": [
      "===posible caso: 40299 BAC\n",
      "===posible caso: 40420 BAC\n"
     ]
    },
    {
     "name": "stdout",
     "output_type": "stream",
     "text": [
      "===posible caso: 40483 BAC\n",
      "===posible caso: 40566 BAC\n",
      "h1\n",
      "40566 BAC\n",
      "===posible caso: 40629 BAC\n"
     ]
    },
    {
     "name": "stdout",
     "output_type": "stream",
     "text": [
      "h1\n",
      "40629 BAC\n",
      "===posible caso: 40708 BAC\n",
      "===posible caso: 40756 BAC\n",
      "===posible caso: 40812 BAC\n"
     ]
    },
    {
     "name": "stdout",
     "output_type": "stream",
     "text": [
      "h1\n",
      "40812 BAC\n",
      "===posible caso: 40980 BAC\n",
      "h1\n",
      "40980 BAC\n",
      "===posible caso: 41053 BAC\n"
     ]
    },
    {
     "name": "stdout",
     "output_type": "stream",
     "text": [
      "h1\n",
      "41053 BAC\n",
      "===posible caso: 41135 BAC\n",
      "h1\n",
      "41135 BAC\n",
      "===posible caso: 41173 BAC\n"
     ]
    },
    {
     "name": "stdout",
     "output_type": "stream",
     "text": [
      "===posible caso: 41214 BAC\n",
      "===posible caso: 41267 BAC\n"
     ]
    },
    {
     "name": "stdout",
     "output_type": "stream",
     "text": [
      "h1\n",
      "41267 BAC\n",
      "===posible caso: 41333 BAC\n",
      "===posible caso: 41371 BAC\n",
      "===posible caso: 41391 BAC\n",
      "===posible caso: 41425 BAC\n"
     ]
    },
    {
     "name": "stdout",
     "output_type": "stream",
     "text": [
      "h1\n",
      "41425 BAC\n",
      "===posible caso: 41473 BAC\n",
      "===posible caso: 41505 BAC\n"
     ]
    },
    {
     "name": "stdout",
     "output_type": "stream",
     "text": [
      "===posible caso: 41541 BAC\n",
      "h1\n",
      "41541 BAC\n",
      "===posible caso: 41648 BAC\n"
     ]
    },
    {
     "name": "stdout",
     "output_type": "stream",
     "text": [
      "===posible caso: 41687 BAC\n",
      "===posible caso: 41704 BAC\n",
      "h1\n",
      "41704 BAC\n",
      "===posible caso: 41745 BAC\n"
     ]
    },
    {
     "name": "stdout",
     "output_type": "stream",
     "text": [
      "===posible caso: 41899 BAC\n",
      "===posible caso: 42018 BAC\n"
     ]
    },
    {
     "name": "stdout",
     "output_type": "stream",
     "text": [
      "h1\n",
      "42018 BAC\n",
      "===posible caso: 42092 BAC\n",
      "h1\n",
      "42092 BAC\n",
      "===posible caso: 42119 BAC\n"
     ]
    },
    {
     "name": "stdout",
     "output_type": "stream",
     "text": [
      "===posible caso: 42258 BAC\n",
      "h1\n",
      "42258 BAC\n",
      "===posible caso: 42277 BAC\n"
     ]
    },
    {
     "name": "stdout",
     "output_type": "stream",
     "text": [
      "===posible caso: 42366 BAC\n",
      "===posible caso: 42407 BAC\n"
     ]
    },
    {
     "name": "stdout",
     "output_type": "stream",
     "text": [
      "h1\n",
      "42407 BAC\n",
      "===posible caso: 42532 CVX\n",
      "===posible caso: 42579 CVX\n",
      "===posible caso: 42630 CVX\n"
     ]
    },
    {
     "name": "stdout",
     "output_type": "stream",
     "text": [
      "===posible caso: 42733 CVX\n",
      "===posible caso: 42757 CVX\n",
      "h1\n",
      "42757 CVX\n",
      "===posible caso: 42804 CVX\n"
     ]
    },
    {
     "name": "stdout",
     "output_type": "stream",
     "text": [
      "===posible caso: 42909 CVX\n",
      "h1\n",
      "42909 CVX\n",
      "===posible caso: 42959 CVX\n"
     ]
    },
    {
     "name": "stdout",
     "output_type": "stream",
     "text": [
      "h1\n",
      "42959 CVX\n",
      "===posible caso: 43066 CVX\n",
      "h1\n",
      "43066 CVX\n",
      "===posible caso: 43147 CVX\n"
     ]
    },
    {
     "name": "stdout",
     "output_type": "stream",
     "text": [
      "h1\n",
      "43147 CVX\n",
      "===posible caso: 43196 CVX\n",
      "===posible caso: 43270 CVX\n",
      "===posible caso: 43362 CVX\n"
     ]
    },
    {
     "name": "stdout",
     "output_type": "stream",
     "text": [
      "h1\n",
      "43362 CVX\n",
      "===posible caso: 43383 CVX\n",
      "===posible caso: 43547 CVX\n"
     ]
    },
    {
     "name": "stdout",
     "output_type": "stream",
     "text": [
      "h1\n",
      "43547 CVX\n",
      "===posible caso: 43568 CVX\n",
      "===posible caso: 43597 CVX\n"
     ]
    },
    {
     "name": "stdout",
     "output_type": "stream",
     "text": [
      "h1\n",
      "43597 CVX\n",
      "===posible caso: 43637 CVX\n",
      "===posible caso: 43658 CVX\n",
      "===posible caso: 43697 CVX\n"
     ]
    },
    {
     "name": "stdout",
     "output_type": "stream",
     "text": [
      "h1\n",
      "43697 CVX\n",
      "===posible caso: 43718 CVX\n",
      "h1\n",
      "43718 CVX\n",
      "===posible caso: 43784 CVX\n"
     ]
    },
    {
     "name": "stdout",
     "output_type": "stream",
     "text": [
      "===posible caso: 43866 CVX\n",
      "===posible caso: 43899 CVX\n"
     ]
    },
    {
     "name": "stdout",
     "output_type": "stream",
     "text": [
      "h1\n",
      "43899 CVX\n",
      "===posible caso: 43978 CVX\n",
      "===posible caso: 44046 CVX\n"
     ]
    },
    {
     "name": "stdout",
     "output_type": "stream",
     "text": [
      "===posible caso: 44117 CVX\n",
      "===posible caso: 44143 CVX\n",
      "h1\n",
      "44143 CVX\n",
      "===posible caso: 44248 CVX\n"
     ]
    },
    {
     "name": "stdout",
     "output_type": "stream",
     "text": [
      "h1\n",
      "44248 CVX\n",
      "===posible caso: 44359 CVX\n",
      "===posible caso: 44420 CVX\n"
     ]
    },
    {
     "name": "stdout",
     "output_type": "stream",
     "text": [
      "h1\n",
      "44420 CVX\n",
      "===posible caso: 44499 CVX\n",
      "h1\n",
      "44499 CVX\n",
      "===posible caso: 44546 CVX\n"
     ]
    },
    {
     "name": "stdout",
     "output_type": "stream",
     "text": [
      "h1\n",
      "44546 CVX\n",
      "===posible caso: 44611 CVX\n",
      "===posible caso: 44686 CVX\n",
      "===posible caso: 44735 CVX\n"
     ]
    },
    {
     "name": "stdout",
     "output_type": "stream",
     "text": [
      "===posible caso: 44781 CVX\n",
      "===posible caso: 44908 CVX\n",
      "===posible caso: 44952 CVX\n",
      "===posible caso: 45008 CVX\n"
     ]
    },
    {
     "name": "stdout",
     "output_type": "stream",
     "text": [
      "h1\n",
      "45008 CVX\n",
      "===posible caso: 45236 CVX\n",
      "===posible caso: 45271 CVX\n"
     ]
    },
    {
     "name": "stdout",
     "output_type": "stream",
     "text": [
      "h1\n",
      "45271 CVX\n",
      "===posible caso: 45345 CVX\n",
      "h1\n",
      "45345 CVX\n",
      "===posible caso: 45387 CVX\n",
      "===posible caso: 45470 CVX\n"
     ]
    },
    {
     "name": "stdout",
     "output_type": "stream",
     "text": [
      "===posible caso: 45553 CVX\n",
      "===posible caso: 45587 CVX\n"
     ]
    },
    {
     "name": "stdout",
     "output_type": "stream",
     "text": [
      "===posible caso: 45628 CVX\n",
      "===posible caso: 45712 CVX\n",
      "===posible caso: 45737 CVX\n"
     ]
    },
    {
     "name": "stdout",
     "output_type": "stream",
     "text": [
      "===posible caso: 45787 CVX\n",
      "===posible caso: 45883 CVX\n"
     ]
    },
    {
     "name": "stdout",
     "output_type": "stream",
     "text": [
      "h1\n",
      "45883 CVX\n",
      "===posible caso: 46071 XOM\n",
      "h1\n",
      "46071 XOM\n",
      "===posible caso: 46165 XOM\n"
     ]
    },
    {
     "name": "stdout",
     "output_type": "stream",
     "text": [
      "h1\n",
      "46165 XOM\n",
      "===posible caso: 46229 XOM\n",
      "===posible caso: 46275 XOM\n"
     ]
    },
    {
     "name": "stdout",
     "output_type": "stream",
     "text": [
      "===posible caso: 46376 XOM\n",
      "h1\n",
      "46376 XOM\n",
      "===posible caso: 46426 XOM\n"
     ]
    },
    {
     "name": "stdout",
     "output_type": "stream",
     "text": [
      "===posible caso: 46492 XOM\n",
      "===posible caso: 46543 XOM\n",
      "===posible caso: 46601 XOM\n"
     ]
    },
    {
     "name": "stdout",
     "output_type": "stream",
     "text": [
      "===posible caso: 46674 XOM\n",
      "===posible caso: 46774 XOM\n",
      "===posible caso: 46851 XOM\n"
     ]
    },
    {
     "name": "stdout",
     "output_type": "stream",
     "text": [
      "===posible caso: 46896 XOM\n",
      "===posible caso: 47006 XOM\n"
     ]
    },
    {
     "name": "stdout",
     "output_type": "stream",
     "text": [
      "===posible caso: 47083 XOM\n",
      "h1\n",
      "47083 XOM\n",
      "===posible caso: 47131 XOM\n",
      "===posible caso: 47193 XOM\n"
     ]
    },
    {
     "name": "stdout",
     "output_type": "stream",
     "text": [
      "h1\n",
      "47193 XOM\n",
      "===posible caso: 47232 XOM\n",
      "===posible caso: 47345 XOM\n"
     ]
    },
    {
     "name": "stdout",
     "output_type": "stream",
     "text": [
      "h2\n",
      "h4\n",
      "h2\n",
      "h4\n",
      "h1\n",
      "47345 XOM\n",
      "===posible caso: 47401 XOM\n",
      "h1\n",
      "47401 XOM\n",
      "===posible caso: 47434 XOM\n"
     ]
    },
    {
     "name": "stdout",
     "output_type": "stream",
     "text": [
      "h1\n",
      "47434 XOM\n",
      "===posible caso: 47480 XOM\n",
      "===posible caso: 47502 XOM\n"
     ]
    },
    {
     "name": "stdout",
     "output_type": "stream",
     "text": [
      "===posible caso: 47548 XOM\n",
      "===posible caso: 47573 XOM\n",
      "===posible caso: 47614 XOM\n"
     ]
    },
    {
     "name": "stdout",
     "output_type": "stream",
     "text": [
      "h1\n",
      "47614 XOM\n",
      "===posible caso: 47678 XOM\n",
      "===posible caso: 47707 XOM\n",
      "===posible caso: 47807 XOM\n"
     ]
    },
    {
     "name": "stdout",
     "output_type": "stream",
     "text": [
      "h1\n",
      "47807 XOM\n",
      "===posible caso: 47894 XOM\n",
      "h1\n",
      "47894 XOM\n",
      "===posible caso: 47955 XOM\n"
     ]
    },
    {
     "name": "stdout",
     "output_type": "stream",
     "text": [
      "===posible caso: 48007 XOM\n",
      "===posible caso: 48047 XOM\n",
      "h1\n",
      "48047 XOM\n",
      "===posible caso: 48087 XOM\n",
      "===posible caso: 48107 XOM\n"
     ]
    },
    {
     "name": "stdout",
     "output_type": "stream",
     "text": [
      "===posible caso: 48221 XOM\n",
      "===posible caso: 48286 XOM\n"
     ]
    },
    {
     "name": "stdout",
     "output_type": "stream",
     "text": [
      "===posible caso: 48325 XOM\n",
      "===posible caso: 48363 XOM\n",
      "===posible caso: 48442 XOM\n",
      "===posible caso: 48717 XOM\n"
     ]
    },
    {
     "name": "stdout",
     "output_type": "stream",
     "text": [
      "===posible caso: 48768 XOM\n",
      "===posible caso: 48806 XOM\n"
     ]
    },
    {
     "name": "stdout",
     "output_type": "stream",
     "text": [
      "h1\n",
      "48806 XOM\n",
      "===posible caso: 48880 XOM\n",
      "===posible caso: 48925 XOM\n",
      "===posible caso: 49010 XOM\n"
     ]
    },
    {
     "name": "stdout",
     "output_type": "stream",
     "text": [
      "h1\n",
      "49010 XOM\n",
      "===posible caso: 49088 XOM\n",
      "===posible caso: 49111 XOM\n"
     ]
    },
    {
     "name": "stdout",
     "output_type": "stream",
     "text": [
      "h1\n",
      "49111 XOM\n",
      "===posible caso: 49163 XOM\n",
      "===posible caso: 49216 XOM\n"
     ]
    },
    {
     "name": "stdout",
     "output_type": "stream",
     "text": [
      "===posible caso: 49242 XOM\n",
      "===posible caso: 49322 XOM\n"
     ]
    },
    {
     "name": "stdout",
     "output_type": "stream",
     "text": [
      "===posible caso: 49388 XOM\n",
      "h1\n",
      "49388 XOM\n",
      "===posible caso: 49429 XOM\n",
      "===posible caso: 49608 QQQ\n"
     ]
    },
    {
     "name": "stdout",
     "output_type": "stream",
     "text": [
      "===posible caso: 49679 QQQ\n",
      "h1\n",
      "49679 QQQ\n",
      "===posible caso: 49729 QQQ\n",
      "===posible caso: 49764 QQQ\n"
     ]
    },
    {
     "name": "stdout",
     "output_type": "stream",
     "text": [
      "h1\n",
      "49764 QQQ\n",
      "===posible caso: 49810 QQQ\n",
      "===posible caso: 49858 QQQ\n",
      "===posible caso: 49895 QQQ\n",
      "===posible caso: 49961 QQQ\n"
     ]
    },
    {
     "name": "stdout",
     "output_type": "stream",
     "text": [
      "===posible caso: 50043 QQQ\n",
      "===posible caso: 50100 QQQ\n"
     ]
    },
    {
     "name": "stdout",
     "output_type": "stream",
     "text": [
      "h1\n",
      "50100 QQQ\n",
      "===posible caso: 50117 QQQ\n",
      "===posible caso: 50159 QQQ\n",
      "===posible caso: 50267 QQQ\n"
     ]
    },
    {
     "name": "stdout",
     "output_type": "stream",
     "text": [
      "h1\n",
      "50267 QQQ\n",
      "===posible caso: 50304 QQQ\n",
      "===posible caso: 50325 QQQ\n"
     ]
    },
    {
     "name": "stdout",
     "output_type": "stream",
     "text": [
      "===posible caso: 50433 QQQ\n",
      "h1\n",
      "50433 QQQ\n",
      "===posible caso: 50465 QQQ\n"
     ]
    },
    {
     "name": "stdout",
     "output_type": "stream",
     "text": [
      "===posible caso: 50586 QQQ\n",
      "h1\n",
      "50586 QQQ\n",
      "===posible caso: 50611 QQQ\n"
     ]
    },
    {
     "name": "stdout",
     "output_type": "stream",
     "text": [
      "===posible caso: 50676 QQQ\n",
      "h1\n",
      "50676 QQQ\n",
      "===posible caso: 50770 QQQ\n",
      "===posible caso: 50843 QQQ\n"
     ]
    },
    {
     "name": "stdout",
     "output_type": "stream",
     "text": [
      "===posible caso: 50866 QQQ\n",
      "===posible caso: 50906 QQQ\n",
      "===posible caso: 51049 QQQ\n"
     ]
    },
    {
     "name": "stdout",
     "output_type": "stream",
     "text": [
      "h1\n",
      "51049 QQQ\n",
      "===posible caso: 51090 QQQ\n",
      "h1\n",
      "51090 QQQ\n",
      "===posible caso: 51192 QQQ\n"
     ]
    },
    {
     "name": "stdout",
     "output_type": "stream",
     "text": [
      "===posible caso: 51289 QQQ\n",
      "h1\n",
      "51289 QQQ\n",
      "===posible caso: 51340 QQQ\n",
      "===posible caso: 51391 QQQ\n"
     ]
    },
    {
     "name": "stdout",
     "output_type": "stream",
     "text": [
      "h1\n",
      "51391 QQQ\n",
      "===posible caso: 51449 QQQ\n",
      "===posible caso: 51496 QQQ\n",
      "===posible caso: 51599 QQQ\n"
     ]
    },
    {
     "name": "stdout",
     "output_type": "stream",
     "text": [
      "h1\n",
      "51599 QQQ\n",
      "===posible caso: 51639 QQQ\n",
      "h1\n",
      "51639 QQQ\n",
      "===posible caso: 51738 QQQ\n"
     ]
    },
    {
     "name": "stdout",
     "output_type": "stream",
     "text": [
      "h1\n",
      "51738 QQQ\n",
      "===posible caso: 51770 QQQ\n",
      "===posible caso: 51854 QQQ\n"
     ]
    },
    {
     "name": "stdout",
     "output_type": "stream",
     "text": [
      "===posible caso: 51900 QQQ\n",
      "===posible caso: 51936 QQQ\n"
     ]
    },
    {
     "name": "stdout",
     "output_type": "stream",
     "text": [
      "===posible caso: 51991 QQQ\n",
      "===posible caso: 52011 QQQ\n"
     ]
    },
    {
     "name": "stdout",
     "output_type": "stream",
     "text": [
      "===posible caso: 52163 QQQ\n",
      "===posible caso: 52317 QQQ\n"
     ]
    },
    {
     "name": "stdout",
     "output_type": "stream",
     "text": [
      "===posible caso: 52366 QQQ\n",
      "===posible caso: 52410 QQQ\n",
      "===posible caso: 52452 QQQ\n"
     ]
    },
    {
     "name": "stdout",
     "output_type": "stream",
     "text": [
      "===posible caso: 52556 QQQ\n",
      "===posible caso: 52578 QQQ\n",
      "h1\n",
      "52578 QQQ\n",
      "===posible caso: 52622 QQQ\n"
     ]
    },
    {
     "name": "stdout",
     "output_type": "stream",
     "text": [
      "===posible caso: 52809 QQQ\n",
      "h1\n",
      "52809 QQQ\n",
      "===posible caso: 52898 QQQ\n"
     ]
    },
    {
     "name": "stdout",
     "output_type": "stream",
     "text": [
      "===posible caso: 52932 QQQ\n",
      "===posible caso: 52982 QQQ\n",
      "===posible caso: 53045 QQQ\n"
     ]
    },
    {
     "name": "stdout",
     "output_type": "stream",
     "text": [
      "===posible caso: 53097 MSFT\n",
      "===posible caso: 53133 MSFT\n",
      "===posible caso: 53153 MSFT\n"
     ]
    },
    {
     "name": "stdout",
     "output_type": "stream",
     "text": [
      "h1\n",
      "53153 MSFT\n",
      "===posible caso: 53192 MSFT\n",
      "===posible caso: 53210 MSFT\n",
      "===posible caso: 53264 MSFT\n",
      "===posible caso: 53299 MSFT\n"
     ]
    },
    {
     "name": "stdout",
     "output_type": "stream",
     "text": [
      "h1\n",
      "53299 MSFT\n",
      "===posible caso: 53391 MSFT\n",
      "===posible caso: 53448 MSFT\n",
      "===posible caso: 53476 MSFT\n"
     ]
    },
    {
     "name": "stdout",
     "output_type": "stream",
     "text": [
      "===posible caso: 53495 MSFT\n",
      "h1\n",
      "53495 MSFT\n",
      "===posible caso: 53583 MSFT\n"
     ]
    },
    {
     "name": "stdout",
     "output_type": "stream",
     "text": [
      "h1\n",
      "53583 MSFT\n",
      "===posible caso: 53647 MSFT\n",
      "===posible caso: 53671 MSFT\n"
     ]
    },
    {
     "name": "stdout",
     "output_type": "stream",
     "text": [
      "h1\n",
      "53671 MSFT\n",
      "===posible caso: 53701 MSFT\n",
      "===posible caso: 53859 MSFT\n",
      "h1\n",
      "53859 MSFT\n",
      "===posible caso: 53930 MSFT\n"
     ]
    },
    {
     "name": "stdout",
     "output_type": "stream",
     "text": [
      "===posible caso: 53967 MSFT\n",
      "===posible caso: 53986 MSFT\n",
      "h1\n",
      "53986 MSFT\n",
      "===posible caso: 54007 MSFT\n"
     ]
    },
    {
     "name": "stdout",
     "output_type": "stream",
     "text": [
      "===posible caso: 54029 MSFT\n",
      "h1\n",
      "54029 MSFT\n",
      "===posible caso: 54147 MSFT\n"
     ]
    },
    {
     "name": "stdout",
     "output_type": "stream",
     "text": [
      "===posible caso: 54209 MSFT\n",
      "===posible caso: 54310 MSFT\n"
     ]
    },
    {
     "name": "stdout",
     "output_type": "stream",
     "text": [
      "===posible caso: 54365 MSFT\n",
      "===posible caso: 54401 MSFT\n"
     ]
    },
    {
     "name": "stdout",
     "output_type": "stream",
     "text": [
      "h1\n",
      "54401 MSFT\n",
      "===posible caso: 54465 MSFT\n",
      "===posible caso: 54574 MSFT\n",
      "===posible caso: 54622 MSFT\n",
      "===posible caso: 54709 MSFT\n"
     ]
    },
    {
     "name": "stdout",
     "output_type": "stream",
     "text": [
      "h1\n",
      "54709 MSFT\n",
      "===posible caso: 54824 MSFT\n",
      "h1\n",
      "54824 MSFT\n",
      "===posible caso: 54868 MSFT\n"
     ]
    },
    {
     "name": "stdout",
     "output_type": "stream",
     "text": [
      "h1\n",
      "54868 MSFT\n",
      "===posible caso: 54902 MSFT\n",
      "===posible caso: 54926 MSFT\n"
     ]
    },
    {
     "name": "stdout",
     "output_type": "stream",
     "text": [
      "h1\n",
      "54926 MSFT\n",
      "===posible caso: 55127 MSFT\n",
      "h1\n",
      "55127 MSFT\n",
      "===posible caso: 55172 MSFT\n",
      "===posible caso: 55270 MSFT\n"
     ]
    },
    {
     "name": "stdout",
     "output_type": "stream",
     "text": [
      "===posible caso: 55389 MSFT\n",
      "===posible caso: 55435 MSFT\n",
      "===posible caso: 55452 MSFT\n"
     ]
    },
    {
     "name": "stdout",
     "output_type": "stream",
     "text": [
      "===posible caso: 55473 MSFT\n",
      "===posible caso: 55520 MSFT\n",
      "===posible caso: 55577 MSFT\n"
     ]
    },
    {
     "name": "stdout",
     "output_type": "stream",
     "text": [
      "===posible caso: 55680 MSFT\n",
      "h1\n",
      "55680 MSFT\n",
      "===posible caso: 55706 MSFT\n"
     ]
    },
    {
     "name": "stdout",
     "output_type": "stream",
     "text": [
      "===posible caso: 55743 MSFT\n",
      "===posible caso: 55863 MSFT\n",
      "===posible caso: 55991 MSFT\n",
      "===posible caso: 56113 MSFT\n"
     ]
    },
    {
     "name": "stdout",
     "output_type": "stream",
     "text": [
      "===posible caso: 56152 MSFT\n",
      "===posible caso: 56249 MSFT\n"
     ]
    },
    {
     "name": "stdout",
     "output_type": "stream",
     "text": [
      "h1\n",
      "56249 MSFT\n",
      "===posible caso: 56349 MSFT\n",
      "h1\n",
      "56349 MSFT\n",
      "===posible caso: 56423 MSFT\n"
     ]
    },
    {
     "name": "stdout",
     "output_type": "stream",
     "text": [
      "===posible caso: 56499 MSFT\n",
      "===posible caso: 56531 MSFT\n"
     ]
    },
    {
     "name": "stdout",
     "output_type": "stream",
     "text": [
      "===posible caso: 56552 MSFT\n",
      "===posible caso: 56678 NVDA\n"
     ]
    },
    {
     "name": "stdout",
     "output_type": "stream",
     "text": [
      "===posible caso: 56695 NVDA\n",
      "===posible caso: 56727 NVDA\n"
     ]
    },
    {
     "name": "stdout",
     "output_type": "stream",
     "text": [
      "h1\n",
      "56727 NVDA\n",
      "===posible caso: 56746 NVDA\n",
      "h1\n",
      "56746 NVDA\n",
      "===posible caso: 56792 NVDA\n",
      "===posible caso: 56845 NVDA\n"
     ]
    },
    {
     "name": "stdout",
     "output_type": "stream",
     "text": [
      "===posible caso: 56934 NVDA\n",
      "h1\n",
      "56934 NVDA\n",
      "===posible caso: 56961 NVDA\n"
     ]
    },
    {
     "name": "stdout",
     "output_type": "stream",
     "text": [
      "===posible caso: 57024 NVDA\n",
      "===posible caso: 57079 NVDA\n",
      "===posible caso: 57113 NVDA\n",
      "===posible caso: 57170 NVDA\n"
     ]
    },
    {
     "name": "stdout",
     "output_type": "stream",
     "text": [
      "h1\n",
      "57170 NVDA\n",
      "===posible caso: 57334 NVDA\n",
      "===posible caso: 57361 NVDA\n"
     ]
    },
    {
     "name": "stdout",
     "output_type": "stream",
     "text": [
      "===posible caso: 57448 NVDA\n",
      "===posible caso: 57491 NVDA\n",
      "===posible caso: 57542 NVDA\n"
     ]
    },
    {
     "name": "stdout",
     "output_type": "stream",
     "text": [
      "===posible caso: 57657 NVDA\n",
      "h1\n",
      "57657 NVDA\n",
      "===posible caso: 57682 NVDA\n"
     ]
    },
    {
     "name": "stdout",
     "output_type": "stream",
     "text": [
      "===posible caso: 57759 NVDA\n",
      "===posible caso: 57775 NVDA\n"
     ]
    },
    {
     "name": "stdout",
     "output_type": "stream",
     "text": [
      "h1\n",
      "57775 NVDA\n",
      "===posible caso: 57810 NVDA\n",
      "h1\n",
      "57810 NVDA\n",
      "===posible caso: 57871 NVDA\n"
     ]
    },
    {
     "name": "stdout",
     "output_type": "stream",
     "text": [
      "h1\n",
      "57871 NVDA\n",
      "===posible caso: 57948 NVDA\n",
      "===posible caso: 58112 NVDA\n",
      "===posible caso: 58157 NVDA\n"
     ]
    },
    {
     "name": "stdout",
     "output_type": "stream",
     "text": [
      "===posible caso: 58208 NVDA\n",
      "h1\n",
      "58208 NVDA\n",
      "===posible caso: 58268 NVDA\n"
     ]
    },
    {
     "name": "stdout",
     "output_type": "stream",
     "text": [
      "===posible caso: 58304 NVDA\n",
      "===posible caso: 58369 NVDA\n",
      "h1\n",
      "58369 NVDA\n",
      "===posible caso: 58410 NVDA\n"
     ]
    },
    {
     "name": "stdout",
     "output_type": "stream",
     "text": [
      "h1\n",
      "58410 NVDA\n",
      "===posible caso: 58461 NVDA\n",
      "h1\n",
      "58461 NVDA\n",
      "===posible caso: 58657 NVDA\n"
     ]
    },
    {
     "name": "stdout",
     "output_type": "stream",
     "text": [
      "h1\n",
      "58657 NVDA\n",
      "===posible caso: 58679 NVDA\n",
      "===posible caso: 58774 NVDA\n",
      "===posible caso: 58840 NVDA\n"
     ]
    },
    {
     "name": "stdout",
     "output_type": "stream",
     "text": [
      "===posible caso: 58924 NVDA\n",
      "===posible caso: 58971 NVDA\n"
     ]
    },
    {
     "name": "stdout",
     "output_type": "stream",
     "text": [
      "===posible caso: 58988 NVDA\n",
      "===posible caso: 59006 NVDA\n",
      "===posible caso: 59071 NVDA\n"
     ]
    },
    {
     "name": "stdout",
     "output_type": "stream",
     "text": [
      "===posible caso: 59125 NVDA\n",
      "===posible caso: 59181 NVDA\n",
      "h1\n",
      "59181 NVDA\n",
      "===posible caso: 59212 NVDA\n"
     ]
    },
    {
     "name": "stdout",
     "output_type": "stream",
     "text": [
      "===posible caso: 59271 NVDA\n",
      "h1\n",
      "59271 NVDA\n",
      "===posible caso: 59316 NVDA\n"
     ]
    },
    {
     "name": "stdout",
     "output_type": "stream",
     "text": [
      "===posible caso: 59389 NVDA\n",
      "===posible caso: 59435 NVDA\n"
     ]
    },
    {
     "name": "stdout",
     "output_type": "stream",
     "text": [
      "h1\n",
      "59435 NVDA\n",
      "===posible caso: 59481 NVDA\n",
      "===posible caso: 59512 NVDA\n"
     ]
    },
    {
     "name": "stdout",
     "output_type": "stream",
     "text": [
      "h1\n",
      "59512 NVDA\n",
      "===posible caso: 59643 NVDA\n",
      "h1\n",
      "59643 NVDA\n",
      "===posible caso: 59793 NVDA\n"
     ]
    },
    {
     "name": "stdout",
     "output_type": "stream",
     "text": [
      "===posible caso: 59843 NVDA\n",
      "===posible caso: 59879 NVDA\n",
      "h2\n",
      "h4\n",
      "h2\n",
      "h4\n",
      "h1\n",
      "59879 NVDA\n",
      "===posible caso: 59941 NVDA\n"
     ]
    },
    {
     "name": "stdout",
     "output_type": "stream",
     "text": [
      "h1\n",
      "59941 NVDA\n",
      "===posible caso: 59968 NVDA\n",
      "h1\n",
      "59968 NVDA\n",
      "===posible caso: 60002 NVDA\n",
      "===posible caso: 60030 NVDA\n"
     ]
    },
    {
     "name": "stdout",
     "output_type": "stream",
     "text": [
      "===posible caso: 60052 NVDA\n",
      "===posible caso: 60083 NVDA\n",
      "h3\n",
      "h4\n",
      "h3\n",
      "h4\n",
      "h3\n",
      "h4\n",
      "h3\n",
      "h4\n",
      "60083 NVDA\n",
      "===posible caso: 60113 NVDA\n"
     ]
    },
    {
     "name": "stdout",
     "output_type": "stream",
     "text": [
      "h3\n",
      "h4\n",
      "h3\n",
      "h4\n",
      "h3\n",
      "h4\n",
      "h3\n",
      "h4\n",
      "60113 NVDA\n",
      "===posible caso: 60165 WMT\n",
      "h1\n",
      "60165 WMT\n",
      "===posible caso: 60218 WMT\n"
     ]
    },
    {
     "name": "stdout",
     "output_type": "stream",
     "text": [
      "h1\n",
      "60218 WMT\n",
      "===posible caso: 60248 WMT\n",
      "h1\n",
      "60248 WMT\n",
      "===posible caso: 60333 WMT\n"
     ]
    },
    {
     "name": "stdout",
     "output_type": "stream",
     "text": [
      "h1\n",
      "60333 WMT\n",
      "===posible caso: 60388 WMT\n",
      "===posible caso: 60405 WMT\n"
     ]
    },
    {
     "name": "stdout",
     "output_type": "stream",
     "text": [
      "===posible caso: 60504 WMT\n",
      "h1\n",
      "60504 WMT\n",
      "===posible caso: 60568 WMT\n"
     ]
    },
    {
     "name": "stdout",
     "output_type": "stream",
     "text": [
      "h1\n",
      "60568 WMT\n",
      "===posible caso: 60735 WMT\n",
      "h1\n",
      "60735 WMT\n",
      "===posible caso: 60767 WMT\n",
      "===posible caso: 60812 WMT\n",
      "===posible caso: 60832 WMT\n"
     ]
    },
    {
     "name": "stdout",
     "output_type": "stream",
     "text": [
      "h1\n",
      "60832 WMT\n",
      "===posible caso: 60877 WMT\n",
      "===posible caso: 60926 WMT\n"
     ]
    },
    {
     "name": "stdout",
     "output_type": "stream",
     "text": [
      "===posible caso: 61093 WMT\n",
      "===posible caso: 61166 WMT\n"
     ]
    },
    {
     "name": "stdout",
     "output_type": "stream",
     "text": [
      "===posible caso: 61242 WMT\n",
      "===posible caso: 61266 WMT\n"
     ]
    },
    {
     "name": "stdout",
     "output_type": "stream",
     "text": [
      "===posible caso: 61286 WMT\n",
      "h1\n",
      "61286 WMT\n",
      "===posible caso: 61315 WMT\n"
     ]
    },
    {
     "name": "stdout",
     "output_type": "stream",
     "text": [
      "===posible caso: 61345 WMT\n",
      "h1\n",
      "61345 WMT\n",
      "===posible caso: 61402 WMT\n"
     ]
    },
    {
     "name": "stdout",
     "output_type": "stream",
     "text": [
      "h1\n",
      "61402 WMT\n",
      "===posible caso: 61425 WMT\n",
      "h1\n",
      "61425 WMT\n",
      "===posible caso: 61540 WMT\n"
     ]
    },
    {
     "name": "stdout",
     "output_type": "stream",
     "text": [
      "===posible caso: 61640 WMT\n",
      "===posible caso: 61700 WMT\n",
      "h1\n",
      "61700 WMT\n",
      "===posible caso: 61721 WMT\n"
     ]
    },
    {
     "name": "stdout",
     "output_type": "stream",
     "text": [
      "h1\n",
      "61721 WMT\n",
      "===posible caso: 61784 WMT\n",
      "===posible caso: 61843 WMT\n"
     ]
    },
    {
     "name": "stdout",
     "output_type": "stream",
     "text": [
      "h1\n",
      "61843 WMT\n",
      "===posible caso: 61918 WMT\n",
      "===posible caso: 61996 WMT\n"
     ]
    },
    {
     "name": "stdout",
     "output_type": "stream",
     "text": [
      "===posible caso: 62040 WMT\n",
      "===posible caso: 62126 WMT\n",
      "===posible caso: 62155 WMT\n"
     ]
    },
    {
     "name": "stdout",
     "output_type": "stream",
     "text": [
      "===posible caso: 62257 WMT\n",
      "===posible caso: 62373 WMT\n"
     ]
    },
    {
     "name": "stdout",
     "output_type": "stream",
     "text": [
      "===posible caso: 62420 WMT\n",
      "h1\n",
      "62420 WMT\n",
      "===posible caso: 62514 WMT\n",
      "===posible caso: 62593 WMT\n"
     ]
    },
    {
     "name": "stdout",
     "output_type": "stream",
     "text": [
      "===posible caso: 62618 WMT\n",
      "===posible caso: 62721 WMT\n"
     ]
    },
    {
     "name": "stdout",
     "output_type": "stream",
     "text": [
      "===posible caso: 62765 WMT\n",
      "h1\n",
      "62765 WMT\n",
      "===posible caso: 62814 WMT\n"
     ]
    },
    {
     "name": "stdout",
     "output_type": "stream",
     "text": [
      "===posible caso: 62875 WMT\n",
      "h1\n",
      "62875 WMT\n",
      "===posible caso: 62914 WMT\n"
     ]
    },
    {
     "name": "stdout",
     "output_type": "stream",
     "text": [
      "h2\n",
      "h4\n",
      "h1\n",
      "62914 WMT\n",
      "===posible caso: 63038 WMT\n",
      "h1\n",
      "63038 WMT\n",
      "===posible caso: 63088 WMT\n"
     ]
    },
    {
     "name": "stdout",
     "output_type": "stream",
     "text": [
      "h2\n",
      "h4\n",
      "h1\n",
      "63088 WMT\n",
      "===posible caso: 63109 WMT\n",
      "===posible caso: 63266 WMT\n"
     ]
    },
    {
     "name": "stdout",
     "output_type": "stream",
     "text": [
      "===posible caso: 63326 WMT\n",
      "h1\n",
      "63326 WMT\n",
      "===posible caso: 63361 WMT\n",
      "===posible caso: 63419 WMT\n"
     ]
    },
    {
     "name": "stdout",
     "output_type": "stream",
     "text": [
      "===posible caso: 63566 WMT\n",
      "h1\n",
      "63566 WMT\n",
      "===posible caso: 63601 WMT\n"
     ]
    },
    {
     "name": "stdout",
     "output_type": "stream",
     "text": [
      "h1\n",
      "63601 WMT\n",
      "===posible caso: 63733 BA\n",
      "===posible caso: 63762 BA\n",
      "===posible caso: 63782 BA\n"
     ]
    },
    {
     "name": "stdout",
     "output_type": "stream",
     "text": [
      "===posible caso: 63883 BA\n",
      "h1\n",
      "63883 BA\n",
      "===posible caso: 63930 BA\n"
     ]
    },
    {
     "name": "stdout",
     "output_type": "stream",
     "text": [
      "h1\n",
      "63930 BA\n",
      "===posible caso: 64029 BA\n",
      "===posible caso: 64231 BA\n",
      "===posible caso: 64267 BA\n",
      "h1\n",
      "64267 BA\n",
      "===posible caso: 64302 BA\n",
      "===posible caso: 64350 BA\n"
     ]
    },
    {
     "name": "stdout",
     "output_type": "stream",
     "text": [
      "===posible caso: 64406 BA\n",
      "===posible caso: 64482 BA\n"
     ]
    },
    {
     "name": "stdout",
     "output_type": "stream",
     "text": [
      "===posible caso: 64551 BA\n",
      "===posible caso: 64574 BA\n"
     ]
    },
    {
     "name": "stdout",
     "output_type": "stream",
     "text": [
      "h1\n",
      "64574 BA\n",
      "===posible caso: 64644 BA\n",
      "===posible caso: 64728 BA\n"
     ]
    },
    {
     "name": "stdout",
     "output_type": "stream",
     "text": [
      "h1\n",
      "64728 BA\n",
      "===posible caso: 64841 BA\n",
      "h1\n",
      "64841 BA\n",
      "===posible caso: 64980 BA\n",
      "===posible caso: 65020 BA\n"
     ]
    },
    {
     "name": "stdout",
     "output_type": "stream",
     "text": [
      "===posible caso: 65044 BA\n",
      "===posible caso: 65144 BA\n",
      "===posible caso: 65225 BA\n"
     ]
    },
    {
     "name": "stdout",
     "output_type": "stream",
     "text": [
      "===posible caso: 65293 BA\n",
      "===posible caso: 65381 BA\n"
     ]
    },
    {
     "name": "stdout",
     "output_type": "stream",
     "text": [
      "h1\n",
      "65381 BA\n",
      "===posible caso: 65489 BA\n",
      "===posible caso: 65511 BA\n"
     ]
    },
    {
     "name": "stdout",
     "output_type": "stream",
     "text": [
      "h1\n",
      "65511 BA\n",
      "===posible caso: 65533 BA\n",
      "h1\n",
      "65533 BA\n",
      "===posible caso: 65567 BA\n",
      "===posible caso: 65611 BA\n"
     ]
    },
    {
     "name": "stdout",
     "output_type": "stream",
     "text": [
      "===posible caso: 65633 BA\n",
      "h1\n",
      "65633 BA\n",
      "===posible caso: 65719 BA\n"
     ]
    },
    {
     "name": "stdout",
     "output_type": "stream",
     "text": [
      "===posible caso: 65819 BA\n",
      "===posible caso: 65893 BA\n",
      "===posible caso: 65918 BA\n",
      "===posible caso: 66029 BA\n"
     ]
    },
    {
     "name": "stdout",
     "output_type": "stream",
     "text": [
      "===posible caso: 66131 BA\n",
      "h1\n",
      "66131 BA\n",
      "===posible caso: 66229 BA\n"
     ]
    },
    {
     "name": "stdout",
     "output_type": "stream",
     "text": [
      "h1\n",
      "66229 BA\n",
      "===posible caso: 66344 BA\n",
      "===posible caso: 66396 BA\n",
      "===posible caso: 66483 BA\n"
     ]
    },
    {
     "name": "stdout",
     "output_type": "stream",
     "text": [
      "h1\n",
      "66483 BA\n",
      "===posible caso: 66539 BA\n",
      "h1\n",
      "66539 BA\n",
      "===posible caso: 66581 BA\n"
     ]
    },
    {
     "name": "stdout",
     "output_type": "stream",
     "text": [
      "===posible caso: 66613 BA\n",
      "h1\n",
      "66613 BA\n",
      "===posible caso: 66854 BA\n"
     ]
    },
    {
     "name": "stdout",
     "output_type": "stream",
     "text": [
      "h1\n",
      "66854 BA\n",
      "===posible caso: 66879 BA\n",
      "h2\n",
      "h4\n",
      "h1\n",
      "66879 BA\n",
      "===posible caso: 66917 BA\n"
     ]
    },
    {
     "name": "stdout",
     "output_type": "stream",
     "text": [
      "h1\n",
      "66917 BA\n",
      "===posible caso: 66948 BA\n",
      "===posible caso: 67010 BA\n"
     ]
    },
    {
     "name": "stdout",
     "output_type": "stream",
     "text": [
      "===posible caso: 67030 BA\n",
      "===posible caso: 67071 BA\n"
     ]
    },
    {
     "name": "stdout",
     "output_type": "stream",
     "text": [
      "===posible caso: 67095 BA\n",
      "h1\n",
      "67095 BA\n",
      "===posible caso: 67167 BA\n",
      "===posible caso: 67282 DIS\n"
     ]
    },
    {
     "name": "stdout",
     "output_type": "stream",
     "text": [
      "===posible caso: 67330 DIS\n",
      "===posible caso: 67375 DIS\n",
      "===posible caso: 67417 DIS\n"
     ]
    },
    {
     "name": "stdout",
     "output_type": "stream",
     "text": [
      "===posible caso: 67469 DIS\n",
      "===posible caso: 67640 DIS\n"
     ]
    },
    {
     "name": "stdout",
     "output_type": "stream",
     "text": [
      "===posible caso: 67671 DIS\n",
      "h1\n",
      "67671 DIS\n",
      "===posible caso: 67723 DIS\n"
     ]
    },
    {
     "name": "stdout",
     "output_type": "stream",
     "text": [
      "h1\n",
      "67723 DIS\n",
      "===posible caso: 67764 DIS\n",
      "h1\n",
      "67764 DIS\n",
      "===posible caso: 67796 DIS\n",
      "===posible caso: 67889 DIS\n"
     ]
    },
    {
     "name": "stdout",
     "output_type": "stream",
     "text": [
      "===posible caso: 67915 DIS\n",
      "h2\n",
      "h4\n",
      "h1\n",
      "67915 DIS\n",
      "===posible caso: 67983 DIS\n"
     ]
    },
    {
     "name": "stdout",
     "output_type": "stream",
     "text": [
      "===posible caso: 68105 DIS\n",
      "h1\n",
      "68105 DIS\n",
      "===posible caso: 68165 DIS\n",
      "===posible caso: 68187 DIS\n"
     ]
    },
    {
     "name": "stdout",
     "output_type": "stream",
     "text": [
      "===posible caso: 68223 DIS\n",
      "===posible caso: 68250 DIS\n",
      "h1\n",
      "68250 DIS\n",
      "===posible caso: 68286 DIS\n"
     ]
    },
    {
     "name": "stdout",
     "output_type": "stream",
     "text": [
      "===posible caso: 68339 DIS\n",
      "===posible caso: 68377 DIS\n"
     ]
    },
    {
     "name": "stdout",
     "output_type": "stream",
     "text": [
      "===posible caso: 68458 DIS\n",
      "===posible caso: 68497 DIS\n",
      "===posible caso: 68575 DIS\n"
     ]
    },
    {
     "name": "stdout",
     "output_type": "stream",
     "text": [
      "h1\n",
      "68575 DIS\n",
      "===posible caso: 68593 DIS\n",
      "h1\n",
      "68593 DIS\n",
      "===posible caso: 68760 DIS\n"
     ]
    },
    {
     "name": "stdout",
     "output_type": "stream",
     "text": [
      "h1\n",
      "68760 DIS\n",
      "===posible caso: 68863 DIS\n",
      "===posible caso: 68888 DIS\n",
      "===posible caso: 68988 DIS\n"
     ]
    },
    {
     "name": "stdout",
     "output_type": "stream",
     "text": [
      "h1\n",
      "68988 DIS\n",
      "===posible caso: 69038 DIS\n",
      "===posible caso: 69093 DIS\n"
     ]
    },
    {
     "name": "stdout",
     "output_type": "stream",
     "text": [
      "===posible caso: 69166 DIS\n",
      "===posible caso: 69198 DIS\n",
      "===posible caso: 69220 DIS\n",
      "===posible caso: 69261 DIS\n"
     ]
    },
    {
     "name": "stdout",
     "output_type": "stream",
     "text": [
      "h1\n",
      "69261 DIS\n",
      "===posible caso: 69297 DIS\n",
      "h1\n",
      "69297 DIS\n",
      "===posible caso: 69410 DIS\n"
     ]
    },
    {
     "name": "stdout",
     "output_type": "stream",
     "text": [
      "h1\n",
      "69410 DIS\n",
      "===posible caso: 69453 DIS\n",
      "===posible caso: 69560 DIS\n",
      "===posible caso: 69703 DIS\n"
     ]
    },
    {
     "name": "stdout",
     "output_type": "stream",
     "text": [
      "===posible caso: 69756 DIS\n",
      "===posible caso: 69792 DIS\n"
     ]
    },
    {
     "name": "stdout",
     "output_type": "stream",
     "text": [
      "===posible caso: 69825 DIS\n",
      "===posible caso: 69847 DIS\n",
      "===posible caso: 69922 DIS\n",
      "h1\n",
      "69922 DIS\n",
      "===posible caso: 69962 DIS\n",
      "===posible caso: 70027 DIS\n"
     ]
    },
    {
     "name": "stdout",
     "output_type": "stream",
     "text": [
      "===posible caso: 70124 DIS\n",
      "===posible caso: 70179 DIS\n"
     ]
    },
    {
     "name": "stdout",
     "output_type": "stream",
     "text": [
      "===posible caso: 70264 DIS\n",
      "===posible caso: 70297 DIS\n",
      "===posible caso: 70463 DIS\n",
      "h1\n",
      "70463 DIS\n",
      "===posible caso: 70484 DIS\n"
     ]
    },
    {
     "name": "stdout",
     "output_type": "stream",
     "text": [
      "===posible caso: 70556 DIS\n",
      "===posible caso: 70629 DIS\n"
     ]
    },
    {
     "name": "stdout",
     "output_type": "stream",
     "text": [
      "h1\n",
      "70629 DIS\n",
      "===posible caso: 70656 DIS\n",
      "===posible caso: 70706 DIS\n"
     ]
    },
    {
     "name": "stdout",
     "output_type": "stream",
     "text": [
      "===posible caso: 70817 CAT\n",
      "===posible caso: 70853 CAT\n",
      "===posible caso: 70886 CAT\n"
     ]
    },
    {
     "name": "stdout",
     "output_type": "stream",
     "text": [
      "h1\n",
      "70886 CAT\n",
      "===posible caso: 70958 CAT\n",
      "===posible caso: 71118 CAT\n"
     ]
    },
    {
     "name": "stdout",
     "output_type": "stream",
     "text": [
      "===posible caso: 71154 CAT\n",
      "===posible caso: 71196 CAT\n",
      "===posible caso: 71296 CAT\n",
      "===posible caso: 71495 CAT\n"
     ]
    },
    {
     "name": "stdout",
     "output_type": "stream",
     "text": [
      "===posible caso: 71554 CAT\n",
      "===posible caso: 71642 CAT\n"
     ]
    },
    {
     "name": "stdout",
     "output_type": "stream",
     "text": [
      "h1\n",
      "71642 CAT\n",
      "===posible caso: 71668 CAT\n",
      "===posible caso: 71737 CAT\n"
     ]
    },
    {
     "name": "stdout",
     "output_type": "stream",
     "text": [
      "h1\n",
      "71737 CAT\n",
      "===posible caso: 71864 CAT\n",
      "===posible caso: 71986 CAT\n"
     ]
    },
    {
     "name": "stdout",
     "output_type": "stream",
     "text": [
      "h1\n",
      "71986 CAT\n",
      "===posible caso: 72011 CAT\n",
      "===posible caso: 72080 CAT\n"
     ]
    },
    {
     "name": "stdout",
     "output_type": "stream",
     "text": [
      "===posible caso: 72114 CAT\n",
      "===posible caso: 72139 CAT\n",
      "h2\n",
      "h4\n",
      "h1\n",
      "72139 CAT\n",
      "===posible caso: 72208 CAT\n",
      "===posible caso: 72235 CAT\n",
      "===posible caso: 72259 CAT\n"
     ]
    },
    {
     "name": "stdout",
     "output_type": "stream",
     "text": [
      "===posible caso: 72342 CAT\n",
      "===posible caso: 72452 CAT\n",
      "===posible caso: 72473 CAT\n"
     ]
    },
    {
     "name": "stdout",
     "output_type": "stream",
     "text": [
      "===posible caso: 72523 CAT\n",
      "===posible caso: 72556 CAT\n",
      "===posible caso: 72573 CAT\n"
     ]
    },
    {
     "name": "stdout",
     "output_type": "stream",
     "text": [
      "===posible caso: 72637 CAT\n",
      "h1\n",
      "72637 CAT\n",
      "===posible caso: 72702 CAT\n"
     ]
    },
    {
     "name": "stdout",
     "output_type": "stream",
     "text": [
      "===posible caso: 72779 CAT\n",
      "===posible caso: 72826 CAT\n"
     ]
    },
    {
     "name": "stdout",
     "output_type": "stream",
     "text": [
      "h1\n",
      "72826 CAT\n",
      "===posible caso: 72860 CAT\n",
      "===posible caso: 72892 CAT\n",
      "===posible caso: 72948 CAT\n"
     ]
    },
    {
     "name": "stdout",
     "output_type": "stream",
     "text": [
      "===posible caso: 72988 CAT\n",
      "h1\n",
      "72988 CAT\n",
      "===posible caso: 73005 CAT\n"
     ]
    },
    {
     "name": "stdout",
     "output_type": "stream",
     "text": [
      "===posible caso: 73030 CAT\n",
      "===posible caso: 73088 CAT\n"
     ]
    },
    {
     "name": "stdout",
     "output_type": "stream",
     "text": [
      "===posible caso: 73186 CAT\n",
      "===posible caso: 73296 CAT\n",
      "===posible caso: 73419 CAT\n"
     ]
    },
    {
     "name": "stdout",
     "output_type": "stream",
     "text": [
      "===posible caso: 73541 CAT\n",
      "h1\n",
      "73541 CAT\n",
      "===posible caso: 73693 CAT\n",
      "===posible caso: 73747 CAT\n",
      "===posible caso: 73833 CAT\n",
      "===posible caso: 73871 CAT\n"
     ]
    },
    {
     "name": "stdout",
     "output_type": "stream",
     "text": [
      "===posible caso: 73924 CAT\n",
      "h1\n",
      "73924 CAT\n",
      "===posible caso: 73987 CAT\n"
     ]
    },
    {
     "name": "stdout",
     "output_type": "stream",
     "text": [
      "===posible caso: 74024 CAT\n",
      "h1\n",
      "74024 CAT\n",
      "===posible caso: 74066 CAT\n"
     ]
    },
    {
     "name": "stdout",
     "output_type": "stream",
     "text": [
      "h1\n",
      "74066 CAT\n",
      "===posible caso: 74090 CAT\n",
      "===posible caso: 74149 CAT\n"
     ]
    },
    {
     "name": "stdout",
     "output_type": "stream",
     "text": [
      "===posible caso: 74206 CAT\n",
      "===posible caso: 74232 CAT\n",
      "===posible caso: 74257 CAT\n",
      "===posible caso: 74358 IBM\n"
     ]
    },
    {
     "name": "stdout",
     "output_type": "stream",
     "text": [
      "===posible caso: 74396 IBM\n",
      "===posible caso: 74516 IBM\n",
      "===posible caso: 74569 IBM\n",
      "===posible caso: 74655 IBM\n"
     ]
    },
    {
     "name": "stdout",
     "output_type": "stream",
     "text": [
      "h1\n",
      "74655 IBM\n",
      "===posible caso: 74675 IBM\n",
      "===posible caso: 74829 IBM\n"
     ]
    },
    {
     "name": "stdout",
     "output_type": "stream",
     "text": [
      "h1\n",
      "74829 IBM\n",
      "===posible caso: 74865 IBM\n",
      "===posible caso: 74917 IBM\n",
      "===posible caso: 74961 IBM\n"
     ]
    },
    {
     "name": "stdout",
     "output_type": "stream",
     "text": [
      "===posible caso: 75090 IBM\n",
      "===posible caso: 75133 IBM\n"
     ]
    },
    {
     "name": "stdout",
     "output_type": "stream",
     "text": [
      "===posible caso: 75214 IBM\n",
      "h1\n",
      "75214 IBM\n",
      "===posible caso: 75336 IBM\n"
     ]
    },
    {
     "name": "stdout",
     "output_type": "stream",
     "text": [
      "===posible caso: 75362 IBM\n",
      "===posible caso: 75534 IBM\n"
     ]
    },
    {
     "name": "stdout",
     "output_type": "stream",
     "text": [
      "===posible caso: 75732 IBM\n",
      "===posible caso: 75844 IBM\n",
      "===posible caso: 75911 IBM\n"
     ]
    },
    {
     "name": "stdout",
     "output_type": "stream",
     "text": [
      "===posible caso: 75989 IBM\n",
      "h1\n",
      "75989 IBM\n",
      "===posible caso: 76056 IBM\n"
     ]
    },
    {
     "name": "stdout",
     "output_type": "stream",
     "text": [
      "===posible caso: 76102 IBM\n",
      "===posible caso: 76171 IBM\n",
      "===posible caso: 76209 IBM\n",
      "===posible caso: 76236 IBM\n"
     ]
    },
    {
     "name": "stdout",
     "output_type": "stream",
     "text": [
      "h1\n",
      "76236 IBM\n",
      "===posible caso: 76282 IBM\n",
      "===posible caso: 76408 IBM\n",
      "===posible caso: 76460 IBM\n"
     ]
    },
    {
     "name": "stdout",
     "output_type": "stream",
     "text": [
      "===posible caso: 76521 IBM\n",
      "h1\n",
      "76521 IBM\n",
      "===posible caso: 76582 IBM\n"
     ]
    },
    {
     "name": "stdout",
     "output_type": "stream",
     "text": [
      "h1\n",
      "76582 IBM\n",
      "===posible caso: 76605 IBM\n",
      "h1\n",
      "76605 IBM\n",
      "===posible caso: 76647 IBM\n"
     ]
    },
    {
     "name": "stdout",
     "output_type": "stream",
     "text": [
      "===posible caso: 76699 IBM\n",
      "===posible caso: 76732 IBM\n",
      "h1\n",
      "76732 IBM\n",
      "===posible caso: 76821 IBM\n"
     ]
    },
    {
     "name": "stdout",
     "output_type": "stream",
     "text": [
      "h1\n",
      "76821 IBM\n",
      "===posible caso: 76862 IBM\n",
      "===posible caso: 76891 IBM\n"
     ]
    },
    {
     "name": "stdout",
     "output_type": "stream",
     "text": [
      "h1\n",
      "76891 IBM\n",
      "===posible caso: 76932 IBM\n",
      "===posible caso: 76997 IBM\n",
      "h1\n",
      "76997 IBM\n",
      "===posible caso: 77052 IBM\n"
     ]
    },
    {
     "name": "stdout",
     "output_type": "stream",
     "text": [
      "===posible caso: 77073 IBM\n",
      "h1\n",
      "77073 IBM\n",
      "===posible caso: 77101 IBM\n"
     ]
    },
    {
     "name": "stdout",
     "output_type": "stream",
     "text": [
      "===posible caso: 77128 IBM\n",
      "h1\n",
      "77128 IBM\n",
      "===posible caso: 77204 IBM\n"
     ]
    },
    {
     "name": "stdout",
     "output_type": "stream",
     "text": [
      "===posible caso: 77260 IBM\n",
      "h1\n",
      "77260 IBM\n",
      "===posible caso: 77283 IBM\n"
     ]
    },
    {
     "name": "stdout",
     "output_type": "stream",
     "text": [
      "h1\n",
      "77283 IBM\n",
      "===posible caso: 77367 IBM\n",
      "===posible caso: 77473 IBM\n",
      "===posible caso: 77580 IBM\n"
     ]
    },
    {
     "name": "stdout",
     "output_type": "stream",
     "text": [
      "h1\n",
      "77580 IBM\n",
      "===posible caso: 77629 IBM\n",
      "===posible caso: 77708 IBM\n",
      "===posible caso: 77740 IBM\n"
     ]
    },
    {
     "name": "stdout",
     "output_type": "stream",
     "text": [
      "===posible caso: 77792 IBM\n",
      "===posible caso: 77891 WFC\n"
     ]
    },
    {
     "name": "stdout",
     "output_type": "stream",
     "text": [
      "h1\n",
      "77891 WFC\n",
      "===posible caso: 77969 WFC\n",
      "h1\n",
      "77969 WFC\n",
      "===posible caso: 78265 WFC\n"
     ]
    },
    {
     "name": "stdout",
     "output_type": "stream",
     "text": [
      "h1\n",
      "78265 WFC\n",
      "===posible caso: 78314 WFC\n",
      "===posible caso: 78362 WFC\n",
      "h2\n",
      "h4\n",
      "h1\n",
      "78362 WFC\n"
     ]
    },
    {
     "name": "stdout",
     "output_type": "stream",
     "text": [
      "===posible caso: 78399 WFC\n",
      "h1\n",
      "78399 WFC\n",
      "===posible caso: 78450 WFC\n",
      "===posible caso: 78492 WFC\n"
     ]
    },
    {
     "name": "stdout",
     "output_type": "stream",
     "text": [
      "h1\n",
      "78492 WFC\n",
      "===posible caso: 78564 WFC\n",
      "===posible caso: 78627 WFC\n"
     ]
    },
    {
     "name": "stdout",
     "output_type": "stream",
     "text": [
      "h1\n",
      "78627 WFC\n",
      "===posible caso: 78689 WFC\n",
      "===posible caso: 78979 WFC\n"
     ]
    },
    {
     "name": "stdout",
     "output_type": "stream",
     "text": [
      "===posible caso: 79072 WFC\n",
      "===posible caso: 79100 WFC\n"
     ]
    },
    {
     "name": "stdout",
     "output_type": "stream",
     "text": [
      "===posible caso: 79205 WFC\n",
      "===posible caso: 79297 WFC\n",
      "h1\n",
      "79297 WFC\n",
      "===posible caso: 79414 WFC\n"
     ]
    },
    {
     "name": "stdout",
     "output_type": "stream",
     "text": [
      "h1\n",
      "79414 WFC\n",
      "===posible caso: 79491 WFC\n",
      "===posible caso: 79590 WFC\n"
     ]
    },
    {
     "name": "stdout",
     "output_type": "stream",
     "text": [
      "===posible caso: 79638 WFC\n",
      "h1\n",
      "79638 WFC\n",
      "===posible caso: 79674 WFC\n",
      "===posible caso: 79703 WFC\n",
      "===posible caso: 79740 WFC\n"
     ]
    },
    {
     "name": "stdout",
     "output_type": "stream",
     "text": [
      "===posible caso: 79761 WFC\n",
      "===posible caso: 79810 WFC\n"
     ]
    },
    {
     "name": "stdout",
     "output_type": "stream",
     "text": [
      "===posible caso: 79866 WFC\n",
      "===posible caso: 79888 WFC\n"
     ]
    },
    {
     "name": "stdout",
     "output_type": "stream",
     "text": [
      "===posible caso: 79932 WFC\n",
      "===posible caso: 80026 WFC\n"
     ]
    },
    {
     "name": "stdout",
     "output_type": "stream",
     "text": [
      "h1\n",
      "80026 WFC\n",
      "===posible caso: 80068 WFC\n",
      "===posible caso: 80156 WFC\n"
     ]
    },
    {
     "name": "stdout",
     "output_type": "stream",
     "text": [
      "===posible caso: 80216 WFC\n",
      "===posible caso: 80287 WFC\n"
     ]
    },
    {
     "name": "stdout",
     "output_type": "stream",
     "text": [
      "h1\n",
      "80287 WFC\n",
      "===posible caso: 80309 WFC\n",
      "h1\n",
      "80309 WFC\n",
      "===posible caso: 80353 WFC\n"
     ]
    },
    {
     "name": "stdout",
     "output_type": "stream",
     "text": [
      "h1\n",
      "80353 WFC\n",
      "===posible caso: 80441 WFC\n",
      "===posible caso: 80487 WFC\n",
      "===posible caso: 80525 WFC\n"
     ]
    },
    {
     "name": "stdout",
     "output_type": "stream",
     "text": [
      "===posible caso: 80587 WFC\n",
      "===posible caso: 80676 WFC\n"
     ]
    },
    {
     "name": "stdout",
     "output_type": "stream",
     "text": [
      "===posible caso: 80724 WFC\n",
      "===posible caso: 80782 WFC\n"
     ]
    },
    {
     "name": "stdout",
     "output_type": "stream",
     "text": [
      "===posible caso: 80901 WFC\n",
      "h1\n",
      "80901 WFC\n",
      "===posible caso: 80975 WFC\n"
     ]
    },
    {
     "name": "stdout",
     "output_type": "stream",
     "text": [
      "h1\n",
      "80975 WFC\n",
      "===posible caso: 81092 WFC\n",
      "h1\n",
      "81092 WFC\n",
      "===posible caso: 81237 WFC\n"
     ]
    },
    {
     "name": "stdout",
     "output_type": "stream",
     "text": [
      "===posible caso: 81424 PLTR\n",
      "===posible caso: 81489 PLTR\n"
     ]
    },
    {
     "name": "stdout",
     "output_type": "stream",
     "text": [
      "===posible caso: 81556 PLTR\n",
      "===posible caso: 81621 PLTR\n"
     ]
    },
    {
     "name": "stdout",
     "output_type": "stream",
     "text": [
      "===posible caso: 81705 PLTR\n",
      "===posible caso: 81724 PLTR\n",
      "h1\n",
      "81724 PLTR\n",
      "===posible caso: 81749 PLTR\n"
     ]
    },
    {
     "name": "stdout",
     "output_type": "stream",
     "text": [
      "===posible caso: 81775 PLTR\n",
      "h1\n",
      "81775 PLTR\n",
      "===posible caso: 81848 PLTR\n",
      "===posible caso: 81895 PLTR\n"
     ]
    },
    {
     "name": "stdout",
     "output_type": "stream",
     "text": [
      "h1\n",
      "81895 PLTR\n",
      "===posible caso: 81911 PLTR\n",
      "===posible caso: 82035 PLTR\n"
     ]
    },
    {
     "name": "stdout",
     "output_type": "stream",
     "text": [
      "h1\n",
      "82035 PLTR\n",
      "===posible caso: 82102 PLTR\n",
      "h1\n",
      "82102 PLTR\n",
      "===posible caso: 82156 PLTR\n"
     ]
    },
    {
     "name": "stdout",
     "output_type": "stream",
     "text": [
      "===posible caso: 82220 PLTR\n",
      "h1\n",
      "82220 PLTR\n",
      "===posible caso: 82336 PLTR\n",
      "===posible caso: 82487 PLTR\n"
     ]
    },
    {
     "name": "stdout",
     "output_type": "stream",
     "text": [
      "===posible caso: 82513 PLTR\n",
      "===posible caso: 82576 PLTR\n"
     ]
    },
    {
     "name": "stdout",
     "output_type": "stream",
     "text": [
      "===posible caso: 82612 PLTR\n",
      "===posible caso: 82698 PLTR\n",
      "h1\n",
      "82698 PLTR\n",
      "===posible caso: 82780 PLTR\n"
     ]
    },
    {
     "name": "stdout",
     "output_type": "stream",
     "text": [
      "===posible caso: 82829 PLTR\n",
      "===posible caso: 82857 PLTR\n",
      "===posible caso: 82898 PLTR\n"
     ]
    },
    {
     "name": "stdout",
     "output_type": "stream",
     "text": [
      "===posible caso: 82956 PLTR\n",
      "h1\n",
      "82956 PLTR\n",
      "===posible caso: 83014 PLTR\n",
      "===posible caso: 83075 PLTR\n"
     ]
    },
    {
     "name": "stdout",
     "output_type": "stream",
     "text": [
      "h1\n",
      "83075 PLTR\n",
      "===posible caso: 83109 PLTR\n",
      "h1\n",
      "83109 PLTR\n",
      "===posible caso: 83218 PLTR\n"
     ]
    },
    {
     "name": "stdout",
     "output_type": "stream",
     "text": [
      "===posible caso: 83238 PLTR\n",
      "===posible caso: 83287 PLTR\n"
     ]
    },
    {
     "name": "stdout",
     "output_type": "stream",
     "text": [
      "===posible caso: 83387 PLTR\n",
      "===posible caso: 83413 PLTR\n"
     ]
    },
    {
     "name": "stdout",
     "output_type": "stream",
     "text": [
      "h1\n",
      "83413 PLTR\n",
      "===posible caso: 83564 PLTR\n",
      "h1\n",
      "83564 PLTR\n",
      "===posible caso: 83582 PLTR\n"
     ]
    },
    {
     "name": "stdout",
     "output_type": "stream",
     "text": [
      "===posible caso: 83665 PLTR\n",
      "===posible caso: 83728 PLTR\n"
     ]
    },
    {
     "name": "stdout",
     "output_type": "stream",
     "text": [
      "===posible caso: 83839 PLTR\n",
      "===posible caso: 83931 PLTR\n"
     ]
    },
    {
     "name": "stdout",
     "output_type": "stream",
     "text": [
      "h1\n",
      "83931 PLTR\n",
      "===posible caso: 84011 PLTR\n",
      "===posible caso: 84140 PLTR\n"
     ]
    },
    {
     "name": "stdout",
     "output_type": "stream",
     "text": [
      "h1\n",
      "84140 PLTR\n",
      "===posible caso: 84260 PLTR\n",
      "h1\n",
      "84260 PLTR\n",
      "===posible caso: 84390 PLTR\n"
     ]
    },
    {
     "name": "stdout",
     "output_type": "stream",
     "text": [
      "===posible caso: 84426 PLTR\n",
      "===posible caso: 84471 PLTR\n"
     ]
    },
    {
     "name": "stdout",
     "output_type": "stream",
     "text": [
      "===posible caso: 84537 PLTR\n",
      "===posible caso: 84625 PLTR\n"
     ]
    },
    {
     "name": "stdout",
     "output_type": "stream",
     "text": [
      "h1\n",
      "84625 PLTR\n",
      "===posible caso: 84668 PLTR\n",
      "===posible caso: 84768 PLTR\n"
     ]
    },
    {
     "name": "stdout",
     "output_type": "stream",
     "text": [
      "===posible caso: 84792 PLTR\n",
      "h1\n",
      "84792 PLTR\n",
      "===posible caso: 84856 PLTR\n"
     ]
    },
    {
     "name": "stdout",
     "output_type": "stream",
     "text": [
      "===posible caso: 84954 AMD\n",
      "===posible caso: 84971 AMD\n"
     ]
    },
    {
     "name": "stdout",
     "output_type": "stream",
     "text": [
      "h1\n",
      "84971 AMD\n",
      "===posible caso: 85003 AMD\n",
      "===posible caso: 85092 AMD\n",
      "h1\n",
      "85092 AMD\n",
      "===posible caso: 85204 AMD\n",
      "===posible caso: 85259 AMD\n"
     ]
    },
    {
     "name": "stdout",
     "output_type": "stream",
     "text": [
      "===posible caso: 85376 AMD\n",
      "===posible caso: 85445 AMD\n",
      "h1\n",
      "85445 AMD\n",
      "===posible caso: 85606 AMD\n"
     ]
    },
    {
     "name": "stdout",
     "output_type": "stream",
     "text": [
      "h1\n",
      "85606 AMD\n",
      "===posible caso: 85649 AMD\n",
      "===posible caso: 85671 AMD\n"
     ]
    },
    {
     "name": "stdout",
     "output_type": "stream",
     "text": [
      "h1\n",
      "85671 AMD\n",
      "===posible caso: 85748 AMD\n",
      "h1\n",
      "85748 AMD\n",
      "===posible caso: 85769 AMD\n"
     ]
    },
    {
     "name": "stdout",
     "output_type": "stream",
     "text": [
      "===posible caso: 85818 AMD\n",
      "h1\n",
      "85818 AMD\n",
      "===posible caso: 85866 AMD\n",
      "===posible caso: 85937 AMD\n"
     ]
    },
    {
     "name": "stdout",
     "output_type": "stream",
     "text": [
      "h1\n",
      "85937 AMD\n",
      "===posible caso: 86041 AMD\n",
      "h1\n",
      "86041 AMD\n",
      "===posible caso: 86147 AMD\n"
     ]
    },
    {
     "name": "stdout",
     "output_type": "stream",
     "text": [
      "h1\n",
      "86147 AMD\n",
      "===posible caso: 86256 AMD\n",
      "h1\n",
      "86256 AMD\n",
      "===posible caso: 86300 AMD\n"
     ]
    },
    {
     "name": "stdout",
     "output_type": "stream",
     "text": [
      "===posible caso: 86330 AMD\n",
      "===posible caso: 86395 AMD\n",
      "===posible caso: 86491 AMD\n"
     ]
    },
    {
     "name": "stdout",
     "output_type": "stream",
     "text": [
      "===posible caso: 86512 AMD\n",
      "h1\n",
      "86512 AMD\n",
      "===posible caso: 86535 AMD\n"
     ]
    },
    {
     "name": "stdout",
     "output_type": "stream",
     "text": [
      "h1\n",
      "86535 AMD\n",
      "===posible caso: 86591 AMD\n",
      "===posible caso: 86731 AMD\n",
      "===posible caso: 86749 AMD\n"
     ]
    },
    {
     "name": "stdout",
     "output_type": "stream",
     "text": [
      "h1\n",
      "86749 AMD\n",
      "===posible caso: 86795 AMD\n",
      "===posible caso: 86859 AMD\n",
      "===posible caso: 86934 AMD\n",
      "===posible caso: 86996 AMD\n",
      "===posible caso: 87084 AMD\n"
     ]
    },
    {
     "name": "stdout",
     "output_type": "stream",
     "text": [
      "===posible caso: 87121 AMD\n",
      "h1\n",
      "87121 AMD\n",
      "===posible caso: 87177 AMD\n"
     ]
    },
    {
     "name": "stdout",
     "output_type": "stream",
     "text": [
      "h1\n",
      "87177 AMD\n",
      "===posible caso: 87224 AMD\n",
      "===posible caso: 87241 AMD\n",
      "===posible caso: 87282 AMD\n"
     ]
    },
    {
     "name": "stdout",
     "output_type": "stream",
     "text": [
      "===posible caso: 87333 AMD\n",
      "===posible caso: 87378 AMD\n",
      "===posible caso: 87454 AMD\n"
     ]
    },
    {
     "name": "stdout",
     "output_type": "stream",
     "text": [
      "===posible caso: 87520 AMD\n",
      "===posible caso: 87594 AMD\n",
      "===posible caso: 87662 AMD\n"
     ]
    },
    {
     "name": "stdout",
     "output_type": "stream",
     "text": [
      "===posible caso: 87795 AMD\n",
      "===posible caso: 87862 AMD\n",
      "===posible caso: 87968 AMD\n"
     ]
    },
    {
     "name": "stdout",
     "output_type": "stream",
     "text": [
      "h1\n",
      "87968 AMD\n",
      "===posible caso: 88006 AMD\n",
      "===posible caso: 88069 AMD\n",
      "h1\n",
      "88069 AMD\n",
      "===posible caso: 88119 AMD\n",
      "===posible caso: 88162 AMD\n"
     ]
    },
    {
     "name": "stdout",
     "output_type": "stream",
     "text": [
      "h1\n",
      "88162 AMD\n",
      "===posible caso: 88207 AMD\n",
      "===posible caso: 88243 AMD\n"
     ]
    },
    {
     "name": "stdout",
     "output_type": "stream",
     "text": [
      "===posible caso: 88321 AMD\n",
      "===posible caso: 88389 AMD\n",
      "h3\n",
      "h4\n",
      "h3\n",
      "h4\n",
      "h3\n",
      "h4\n",
      "h3\n",
      "h4\n",
      "88389 AMD\n",
      "===posible caso: 88489 AVGO\n"
     ]
    },
    {
     "name": "stdout",
     "output_type": "stream",
     "text": [
      "h1\n",
      "88489 AVGO\n",
      "===posible caso: 88550 AVGO\n",
      "h1\n",
      "88550 AVGO\n",
      "===posible caso: 88591 AVGO\n",
      "===posible caso: 88628 AVGO\n",
      "===posible caso: 88656 AVGO\n",
      "===posible caso: 88691 AVGO\n"
     ]
    },
    {
     "name": "stdout",
     "output_type": "stream",
     "text": [
      "h1\n",
      "88691 AVGO\n",
      "===posible caso: 88739 AVGO\n",
      "===posible caso: 88782 AVGO\n",
      "===posible caso: 88890 AVGO\n"
     ]
    },
    {
     "name": "stdout",
     "output_type": "stream",
     "text": [
      "h1\n",
      "88890 AVGO\n",
      "===posible caso: 88981 AVGO\n",
      "===posible caso: 89148 AVGO\n"
     ]
    },
    {
     "name": "stdout",
     "output_type": "stream",
     "text": [
      "h1\n",
      "89148 AVGO\n",
      "===posible caso: 89173 AVGO\n",
      "===posible caso: 89291 AVGO\n"
     ]
    },
    {
     "name": "stdout",
     "output_type": "stream",
     "text": [
      "===posible caso: 89468 AVGO\n",
      "h1\n",
      "89468 AVGO\n",
      "===posible caso: 89544 AVGO\n"
     ]
    },
    {
     "name": "stdout",
     "output_type": "stream",
     "text": [
      "===posible caso: 89581 AVGO\n",
      "h1\n",
      "89581 AVGO\n",
      "===posible caso: 89621 AVGO\n"
     ]
    },
    {
     "name": "stdout",
     "output_type": "stream",
     "text": [
      "h1\n",
      "89621 AVGO\n",
      "===posible caso: 89654 AVGO\n",
      "===posible caso: 89747 AVGO\n",
      "===posible caso: 89808 AVGO\n",
      "===posible caso: 89923 AVGO\n",
      "===posible caso: 90019 AVGO\n"
     ]
    },
    {
     "name": "stdout",
     "output_type": "stream",
     "text": [
      "h1\n",
      "90019 AVGO\n",
      "===posible caso: 90073 AVGO\n",
      "===posible caso: 90170 AVGO\n",
      "===posible caso: 90271 AVGO\n"
     ]
    },
    {
     "name": "stdout",
     "output_type": "stream",
     "text": [
      "h1\n",
      "90271 AVGO\n",
      "===posible caso: 90288 AVGO\n",
      "h1\n",
      "90288 AVGO\n",
      "===posible caso: 90483 AVGO\n"
     ]
    },
    {
     "name": "stdout",
     "output_type": "stream",
     "text": [
      "===posible caso: 90594 AVGO\n",
      "===posible caso: 90651 AVGO\n"
     ]
    },
    {
     "name": "stdout",
     "output_type": "stream",
     "text": [
      "h1\n",
      "90651 AVGO\n",
      "===posible caso: 90718 AVGO\n",
      "===posible caso: 90872 AVGO\n"
     ]
    },
    {
     "name": "stdout",
     "output_type": "stream",
     "text": [
      "===posible caso: 90932 AVGO\n",
      "===posible caso: 91000 AVGO\n",
      "===posible caso: 91043 AVGO\n"
     ]
    },
    {
     "name": "stdout",
     "output_type": "stream",
     "text": [
      "===posible caso: 91086 AVGO\n",
      "===posible caso: 91198 AVGO\n"
     ]
    },
    {
     "name": "stdout",
     "output_type": "stream",
     "text": [
      "h1\n",
      "91198 AVGO\n",
      "===posible caso: 91269 AVGO\n",
      "===posible caso: 91298 AVGO\n"
     ]
    },
    {
     "name": "stdout",
     "output_type": "stream",
     "text": [
      "h1\n",
      "91298 AVGO\n",
      "===posible caso: 91436 AVGO\n",
      "===posible caso: 91460 AVGO\n",
      "h1\n",
      "91460 AVGO\n",
      "===posible caso: 91580 AVGO\n",
      "===posible caso: 91654 AVGO\n",
      "===posible caso: 91690 AVGO\n"
     ]
    },
    {
     "name": "stdout",
     "output_type": "stream",
     "text": [
      "h1\n",
      "91690 AVGO\n",
      "===posible caso: 91752 AVGO\n",
      "===posible caso: 91858 AVGO\n"
     ]
    },
    {
     "name": "stdout",
     "output_type": "stream",
     "text": [
      "h1\n",
      "91858 AVGO\n",
      "===posible caso: 91929 AVGO\n",
      "===posible caso: 92000 HOOD\n",
      "===posible caso: 92095 HOOD\n",
      "===posible caso: 92318 HOOD\n"
     ]
    },
    {
     "name": "stdout",
     "output_type": "stream",
     "text": [
      "===posible caso: 92363 HOOD\n",
      "===posible caso: 92446 HOOD\n",
      "===posible caso: 92500 HOOD\n",
      "===posible caso: 92641 HOOD\n"
     ]
    },
    {
     "name": "stdout",
     "output_type": "stream",
     "text": [
      "===posible caso: 92676 HOOD\n",
      "===posible caso: 92706 HOOD\n",
      "h2\n",
      "h4\n",
      "h2\n",
      "h4\n",
      "h1\n",
      "92706 HOOD\n",
      "===posible caso: 92796 HOOD\n"
     ]
    },
    {
     "name": "stdout",
     "output_type": "stream",
     "text": [
      "===posible caso: 92820 HOOD\n",
      "===posible caso: 92848 HOOD\n"
     ]
    },
    {
     "name": "stdout",
     "output_type": "stream",
     "text": [
      "===posible caso: 92876 HOOD\n",
      "h1\n",
      "92876 HOOD\n",
      "===posible caso: 93120 HOOD\n"
     ]
    },
    {
     "name": "stdout",
     "output_type": "stream",
     "text": [
      "===posible caso: 93189 HOOD\n",
      "===posible caso: 93246 HOOD\n"
     ]
    },
    {
     "name": "stdout",
     "output_type": "stream",
     "text": [
      "h1\n",
      "93246 HOOD\n",
      "===posible caso: 93315 HOOD\n",
      "===posible caso: 93462 HOOD\n"
     ]
    },
    {
     "name": "stdout",
     "output_type": "stream",
     "text": [
      "===posible caso: 93497 HOOD\n",
      "===posible caso: 93576 HOOD\n",
      "h1\n",
      "93576 HOOD\n",
      "===posible caso: 93621 HOOD\n",
      "===posible caso: 93683 HOOD\n"
     ]
    },
    {
     "name": "stdout",
     "output_type": "stream",
     "text": [
      "h1\n",
      "93683 HOOD\n",
      "===posible caso: 93767 HOOD\n",
      "===posible caso: 93835 HOOD\n"
     ]
    },
    {
     "name": "stdout",
     "output_type": "stream",
     "text": [
      "h1\n",
      "93835 HOOD\n",
      "===posible caso: 94003 HOOD\n",
      "h1\n",
      "94003 HOOD\n",
      "===posible caso: 94043 HOOD\n"
     ]
    },
    {
     "name": "stdout",
     "output_type": "stream",
     "text": [
      "h1\n",
      "94043 HOOD\n",
      "===posible caso: 94151 HOOD\n",
      "===posible caso: 94199 HOOD\n",
      "===posible caso: 94286 HOOD\n"
     ]
    },
    {
     "name": "stdout",
     "output_type": "stream",
     "text": [
      "h1\n",
      "94286 HOOD\n",
      "===posible caso: 94317 HOOD\n",
      "===posible caso: 94359 HOOD\n",
      "h1\n",
      "94359 HOOD\n",
      "===posible caso: 94410 HOOD\n"
     ]
    },
    {
     "name": "stdout",
     "output_type": "stream",
     "text": [
      "===posible caso: 94459 HOOD\n",
      "===posible caso: 94480 HOOD\n",
      "h1\n",
      "94480 HOOD\n",
      "===posible caso: 94538 HOOD\n"
     ]
    },
    {
     "name": "stdout",
     "output_type": "stream",
     "text": [
      "h1\n",
      "94538 HOOD\n",
      "===posible caso: 94579 HOOD\n",
      "===posible caso: 94625 HOOD\n",
      "===posible caso: 94664 HOOD\n"
     ]
    },
    {
     "name": "stdout",
     "output_type": "stream",
     "text": [
      "h1\n",
      "94664 HOOD\n",
      "===posible caso: 94747 HOOD\n",
      "h1\n",
      "94747 HOOD\n",
      "===posible caso: 94856 HOOD\n"
     ]
    },
    {
     "name": "stdout",
     "output_type": "stream",
     "text": [
      "===posible caso: 94907 HOOD\n",
      "===posible caso: 94941 HOOD\n",
      "h1\n",
      "94941 HOOD\n",
      "===posible caso: 94972 HOOD\n",
      "===posible caso: 94994 HOOD\n"
     ]
    },
    {
     "name": "stdout",
     "output_type": "stream",
     "text": [
      "===posible caso: 95025 HOOD\n",
      "===posible caso: 95139 HOOD\n"
     ]
    },
    {
     "name": "stdout",
     "output_type": "stream",
     "text": [
      "===posible caso: 95189 HOOD\n",
      "h1\n",
      "95189 HOOD\n",
      "===posible caso: 95221 HOOD\n"
     ]
    },
    {
     "name": "stdout",
     "output_type": "stream",
     "text": [
      "===posible caso: 95275 HOOD\n",
      "===posible caso: 95314 HOOD\n"
     ]
    },
    {
     "name": "stdout",
     "output_type": "stream",
     "text": [
      "===posible caso: 95333 HOOD\n",
      "===posible caso: 95379 HOOD\n",
      "===posible caso: 95397 HOOD\n"
     ]
    },
    {
     "name": "stdout",
     "output_type": "stream",
     "text": [
      "h1\n",
      "95397 HOOD\n",
      "===posible caso: 95417 HOOD\n",
      "h1\n",
      "95417 HOOD\n",
      "===posible caso: 95462 HOOD\n",
      "===posible caso: 95748 CRWV\n"
     ]
    },
    {
     "name": "stdout",
     "output_type": "stream",
     "text": [
      "h1\n",
      "95748 CRWV\n",
      "===posible caso: 95794 CRWV\n",
      "===posible caso: 95821 CRWV\n",
      "===posible caso: 95843 CRWV\n",
      "===posible caso: 95868 CRWV\n"
     ]
    },
    {
     "name": "stdout",
     "output_type": "stream",
     "text": [
      "h3\n",
      "h4\n",
      "h3\n",
      "h4\n",
      "h3\n",
      "h4\n",
      "h3\n",
      "h4\n",
      "95868 CRWV\n",
      "===posible caso: 96018 MSTR\n",
      "h1\n",
      "96018 MSTR\n",
      "===posible caso: 96096 MSTR\n"
     ]
    },
    {
     "name": "stdout",
     "output_type": "stream",
     "text": [
      "h1\n",
      "96096 MSTR\n",
      "===posible caso: 96140 MSTR\n",
      "===posible caso: 96166 MSTR\n",
      "===posible caso: 96245 MSTR\n"
     ]
    },
    {
     "name": "stdout",
     "output_type": "stream",
     "text": [
      "h1\n",
      "96245 MSTR\n",
      "===posible caso: 96373 MSTR\n",
      "===posible caso: 96403 MSTR\n",
      "===posible caso: 96444 MSTR\n"
     ]
    },
    {
     "name": "stdout",
     "output_type": "stream",
     "text": [
      "===posible caso: 96522 MSTR\n",
      "h1\n",
      "96522 MSTR\n",
      "===posible caso: 96598 MSTR\n"
     ]
    },
    {
     "name": "stdout",
     "output_type": "stream",
     "text": [
      "h1\n",
      "96598 MSTR\n",
      "===posible caso: 96652 MSTR\n",
      "h1\n",
      "96652 MSTR\n",
      "===posible caso: 96669 MSTR\n"
     ]
    },
    {
     "name": "stdout",
     "output_type": "stream",
     "text": [
      "===posible caso: 96716 MSTR\n",
      "===posible caso: 96740 MSTR\n"
     ]
    },
    {
     "name": "stdout",
     "output_type": "stream",
     "text": [
      "===posible caso: 96840 MSTR\n",
      "h2\n",
      "h4\n",
      "h2\n",
      "h4\n",
      "h1\n",
      "96840 MSTR\n",
      "===posible caso: 96916 MSTR\n",
      "===posible caso: 96972 MSTR\n"
     ]
    },
    {
     "name": "stdout",
     "output_type": "stream",
     "text": [
      "===posible caso: 97056 MSTR\n",
      "===posible caso: 97138 MSTR\n"
     ]
    },
    {
     "name": "stdout",
     "output_type": "stream",
     "text": [
      "h1\n",
      "97138 MSTR\n",
      "===posible caso: 97201 MSTR\n",
      "h1\n",
      "97201 MSTR\n",
      "===posible caso: 97255 MSTR\n"
     ]
    },
    {
     "name": "stdout",
     "output_type": "stream",
     "text": [
      "h1\n",
      "97255 MSTR\n",
      "===posible caso: 97287 MSTR\n",
      "===posible caso: 97378 MSTR\n",
      "===posible caso: 97409 MSTR\n"
     ]
    },
    {
     "name": "stdout",
     "output_type": "stream",
     "text": [
      "===posible caso: 97517 MSTR\n",
      "===posible caso: 97560 MSTR\n",
      "===posible caso: 97596 MSTR\n",
      "===posible caso: 97623 MSTR\n"
     ]
    },
    {
     "name": "stdout",
     "output_type": "stream",
     "text": [
      "===posible caso: 97648 MSTR\n",
      "===posible caso: 97696 MSTR\n",
      "===posible caso: 97778 MSTR\n",
      "===posible caso: 97805 MSTR\n"
     ]
    },
    {
     "name": "stdout",
     "output_type": "stream",
     "text": [
      "===posible caso: 97917 MSTR\n",
      "h1\n",
      "97917 MSTR\n",
      "===posible caso: 97974 MSTR\n"
     ]
    },
    {
     "name": "stdout",
     "output_type": "stream",
     "text": [
      "===posible caso: 98072 MSTR\n",
      "===posible caso: 98138 MSTR\n"
     ]
    },
    {
     "name": "stdout",
     "output_type": "stream",
     "text": [
      "h1\n",
      "98138 MSTR\n",
      "===posible caso: 98190 MSTR\n",
      "===posible caso: 98215 MSTR\n"
     ]
    },
    {
     "name": "stdout",
     "output_type": "stream",
     "text": [
      "h1\n",
      "98215 MSTR\n",
      "===posible caso: 98293 MSTR\n",
      "h1\n",
      "98293 MSTR\n",
      "===posible caso: 98368 MSTR\n"
     ]
    },
    {
     "name": "stdout",
     "output_type": "stream",
     "text": [
      "h1\n",
      "98368 MSTR\n",
      "===posible caso: 98405 MSTR\n",
      "===posible caso: 98445 MSTR\n"
     ]
    },
    {
     "name": "stdout",
     "output_type": "stream",
     "text": [
      "h1\n",
      "98445 MSTR\n",
      "===posible caso: 98521 MSTR\n",
      "h1\n",
      "98521 MSTR\n",
      "===posible caso: 98552 MSTR\n"
     ]
    },
    {
     "name": "stdout",
     "output_type": "stream",
     "text": [
      "===posible caso: 98611 MSTR\n",
      "===posible caso: 98672 MSTR\n"
     ]
    },
    {
     "name": "stdout",
     "output_type": "stream",
     "text": [
      "===posible caso: 98726 MSTR\n",
      "===posible caso: 98742 MSTR\n",
      "===posible caso: 98885 MSTR\n"
     ]
    },
    {
     "name": "stdout",
     "output_type": "stream",
     "text": [
      "h1\n",
      "98885 MSTR\n",
      "===posible caso: 98933 MSTR\n",
      "===posible caso: 98982 MSTR\n",
      "===posible caso: 99019 MSTR\n"
     ]
    },
    {
     "name": "stdout",
     "output_type": "stream",
     "text": [
      "===posible caso: 99159 MSTR\n",
      "h1\n",
      "99159 MSTR\n",
      "===posible caso: 99196 MSTR\n",
      "===posible caso: 99220 MSTR\n"
     ]
    },
    {
     "name": "stdout",
     "output_type": "stream",
     "text": [
      "===posible caso: 99257 MSTR\n",
      "===posible caso: 99315 MSTR\n",
      "===posible caso: 99382 MSTR\n",
      "===posible caso: 99453 UNH\n",
      "===posible caso: 99478 UNH\n"
     ]
    },
    {
     "name": "stdout",
     "output_type": "stream",
     "text": [
      "===posible caso: 99573 UNH\n",
      "===posible caso: 99610 UNH\n"
     ]
    },
    {
     "name": "stdout",
     "output_type": "stream",
     "text": [
      "===posible caso: 99645 UNH\n",
      "===posible caso: 99667 UNH\n"
     ]
    },
    {
     "name": "stdout",
     "output_type": "stream",
     "text": [
      "===posible caso: 99703 UNH\n",
      "===posible caso: 99785 UNH\n",
      "===posible caso: 99865 UNH\n",
      "===posible caso: 99923 UNH\n"
     ]
    },
    {
     "name": "stdout",
     "output_type": "stream",
     "text": [
      "===posible caso: 99979 UNH\n",
      "===posible caso: 100008 UNH\n"
     ]
    },
    {
     "name": "stdout",
     "output_type": "stream",
     "text": [
      "===posible caso: 100057 UNH\n",
      "===posible caso: 100104 UNH\n"
     ]
    },
    {
     "name": "stdout",
     "output_type": "stream",
     "text": [
      "h1\n",
      "100104 UNH\n",
      "===posible caso: 100149 UNH\n",
      "===posible caso: 100206 UNH\n"
     ]
    },
    {
     "name": "stdout",
     "output_type": "stream",
     "text": [
      "h1\n",
      "100206 UNH\n",
      "===posible caso: 100251 UNH\n",
      "h1\n",
      "100251 UNH\n",
      "===posible caso: 100389 UNH\n"
     ]
    },
    {
     "name": "stdout",
     "output_type": "stream",
     "text": [
      "===posible caso: 100447 UNH\n",
      "h1\n",
      "100447 UNH\n",
      "===posible caso: 100518 UNH\n",
      "===posible caso: 100556 UNH\n",
      "===posible caso: 100578 UNH\n"
     ]
    },
    {
     "name": "stdout",
     "output_type": "stream",
     "text": [
      "h1\n",
      "100578 UNH\n",
      "===posible caso: 100605 UNH\n",
      "h1\n",
      "100605 UNH\n",
      "===posible caso: 100633 UNH\n"
     ]
    },
    {
     "name": "stdout",
     "output_type": "stream",
     "text": [
      "h1\n",
      "100633 UNH\n",
      "===posible caso: 100717 UNH\n",
      "h1\n",
      "100717 UNH\n",
      "===posible caso: 100758 UNH\n",
      "===posible caso: 100800 UNH\n",
      "===posible caso: 100902 UNH\n"
     ]
    },
    {
     "name": "stdout",
     "output_type": "stream",
     "text": [
      "===posible caso: 101033 UNH\n",
      "===posible caso: 101060 UNH\n"
     ]
    },
    {
     "name": "stdout",
     "output_type": "stream",
     "text": [
      "h1\n",
      "101060 UNH\n",
      "===posible caso: 101120 UNH\n",
      "===posible caso: 101176 UNH\n",
      "===posible caso: 101241 UNH\n",
      "===posible caso: 101322 UNH\n"
     ]
    },
    {
     "name": "stdout",
     "output_type": "stream",
     "text": [
      "h1\n",
      "101322 UNH\n",
      "===posible caso: 101405 UNH\n",
      "h1\n",
      "101405 UNH\n",
      "===posible caso: 101456 UNH\n",
      "===posible caso: 101483 UNH\n"
     ]
    },
    {
     "name": "stdout",
     "output_type": "stream",
     "text": [
      "===posible caso: 101553 UNH\n",
      "===posible caso: 101707 UNH\n"
     ]
    },
    {
     "name": "stdout",
     "output_type": "stream",
     "text": [
      "===posible caso: 101754 UNH\n",
      "===posible caso: 101785 UNH\n"
     ]
    },
    {
     "name": "stdout",
     "output_type": "stream",
     "text": [
      "h1\n",
      "101785 UNH\n",
      "===posible caso: 101849 UNH\n",
      "===posible caso: 101890 UNH\n",
      "h1\n",
      "101890 UNH\n",
      "===posible caso: 101973 UNH\n"
     ]
    },
    {
     "name": "stdout",
     "output_type": "stream",
     "text": [
      "h1\n",
      "101973 UNH\n",
      "===posible caso: 101998 UNH\n",
      "===posible caso: 102030 UNH\n",
      "===posible caso: 102072 UNH\n",
      "===posible caso: 102104 UNH\n"
     ]
    },
    {
     "name": "stdout",
     "output_type": "stream",
     "text": [
      "===posible caso: 102171 UNH\n",
      "===posible caso: 102187 UNH\n"
     ]
    },
    {
     "name": "stdout",
     "output_type": "stream",
     "text": [
      "h1\n",
      "102187 UNH\n",
      "===posible caso: 102233 UNH\n",
      "h1\n",
      "102233 UNH\n",
      "===posible caso: 102268 UNH\n"
     ]
    },
    {
     "name": "stdout",
     "output_type": "stream",
     "text": [
      "===posible caso: 102431 UNH\n",
      "h1\n",
      "102431 UNH\n",
      "===posible caso: 102499 UNH\n"
     ]
    },
    {
     "name": "stdout",
     "output_type": "stream",
     "text": [
      "===posible caso: 102544 UNH\n",
      "h1\n",
      "102544 UNH\n",
      "===posible caso: 102564 UNH\n"
     ]
    },
    {
     "name": "stdout",
     "output_type": "stream",
     "text": [
      "===posible caso: 102606 UNH\n",
      "===posible caso: 102711 UNH\n",
      "===posible caso: 102788 UNH\n",
      "===posible caso: 102840 UNH\n"
     ]
    },
    {
     "name": "stdout",
     "output_type": "stream",
     "text": [
      "h1\n",
      "102840 UNH\n",
      "===posible caso: 102906 UNH\n",
      "h1\n",
      "102906 UNH\n",
      "===posible caso: 102923 UNH\n"
     ]
    },
    {
     "name": "stdout",
     "output_type": "stream",
     "text": [
      "h3\n",
      "h4\n",
      "h3\n",
      "h4\n",
      "h3\n",
      "h4\n",
      "h3\n",
      "h4\n",
      "102923 UNH\n",
      "===posible caso: 102943 UNH\n",
      "===posible caso: 103038 GOOG\n",
      "===posible caso: 103087 GOOG\n",
      "===posible caso: 103159 GOOG\n"
     ]
    },
    {
     "name": "stdout",
     "output_type": "stream",
     "text": [
      "===posible caso: 103288 GOOG\n",
      "===posible caso: 103329 GOOG\n",
      "===posible caso: 103371 GOOG\n"
     ]
    },
    {
     "name": "stdout",
     "output_type": "stream",
     "text": [
      "h1\n",
      "103371 GOOG\n",
      "===posible caso: 103402 GOOG\n",
      "===posible caso: 103530 GOOG\n"
     ]
    },
    {
     "name": "stdout",
     "output_type": "stream",
     "text": [
      "h1\n",
      "103530 GOOG\n",
      "===posible caso: 103709 GOOG\n",
      "===posible caso: 103732 GOOG\n"
     ]
    },
    {
     "name": "stdout",
     "output_type": "stream",
     "text": [
      "h1\n",
      "103732 GOOG\n",
      "===posible caso: 103754 GOOG\n",
      "h1\n",
      "103754 GOOG\n",
      "===posible caso: 103860 GOOG\n"
     ]
    },
    {
     "name": "stdout",
     "output_type": "stream",
     "text": [
      "h1\n",
      "103860 GOOG\n",
      "===posible caso: 103881 GOOG\n",
      "h1\n",
      "103881 GOOG\n",
      "===posible caso: 104022 GOOG\n"
     ]
    },
    {
     "name": "stdout",
     "output_type": "stream",
     "text": [
      "h1\n",
      "104022 GOOG\n",
      "===posible caso: 104040 GOOG\n",
      "h1\n",
      "104040 GOOG\n",
      "===posible caso: 104101 GOOG\n"
     ]
    },
    {
     "name": "stdout",
     "output_type": "stream",
     "text": [
      "===posible caso: 104274 GOOG\n",
      "h2\n",
      "h4\n",
      "h1\n",
      "104274 GOOG\n",
      "===posible caso: 104318 GOOG\n"
     ]
    },
    {
     "name": "stdout",
     "output_type": "stream",
     "text": [
      "===posible caso: 104336 GOOG\n",
      "===posible caso: 104398 GOOG\n"
     ]
    },
    {
     "name": "stdout",
     "output_type": "stream",
     "text": [
      "h1\n",
      "104398 GOOG\n",
      "===posible caso: 104471 GOOG\n",
      "===posible caso: 104520 GOOG\n"
     ]
    },
    {
     "name": "stdout",
     "output_type": "stream",
     "text": [
      "h1\n",
      "104520 GOOG\n",
      "===posible caso: 104594 GOOG\n",
      "===posible caso: 104670 GOOG\n",
      "===posible caso: 104718 GOOG\n"
     ]
    },
    {
     "name": "stdout",
     "output_type": "stream",
     "text": [
      "h1\n",
      "104718 GOOG\n",
      "===posible caso: 104763 GOOG\n",
      "===posible caso: 104798 GOOG\n"
     ]
    },
    {
     "name": "stdout",
     "output_type": "stream",
     "text": [
      "===posible caso: 104927 GOOG\n",
      "===posible caso: 104986 GOOG\n",
      "h1\n",
      "104986 GOOG\n",
      "===posible caso: 105022 GOOG\n"
     ]
    },
    {
     "name": "stdout",
     "output_type": "stream",
     "text": [
      "h1\n",
      "105022 GOOG\n",
      "===posible caso: 105180 GOOG\n",
      "h1\n",
      "105180 GOOG\n",
      "===posible caso: 105225 GOOG\n"
     ]
    },
    {
     "name": "stdout",
     "output_type": "stream",
     "text": [
      "h1\n",
      "105225 GOOG\n",
      "===posible caso: 105248 GOOG\n",
      "h1\n",
      "105248 GOOG\n",
      "===posible caso: 105291 GOOG\n",
      "===posible caso: 105326 GOOG\n"
     ]
    },
    {
     "name": "stdout",
     "output_type": "stream",
     "text": [
      "===posible caso: 105368 GOOG\n",
      "h1\n",
      "105368 GOOG\n",
      "===posible caso: 105415 GOOG\n",
      "===posible caso: 105436 GOOG\n"
     ]
    },
    {
     "name": "stdout",
     "output_type": "stream",
     "text": [
      "h1\n",
      "105436 GOOG\n",
      "===posible caso: 105573 GOOG\n",
      "===posible caso: 105591 GOOG\n"
     ]
    },
    {
     "name": "stdout",
     "output_type": "stream",
     "text": [
      "===posible caso: 105638 GOOG\n",
      "h1\n",
      "105638 GOOG\n",
      "===posible caso: 105682 GOOG\n"
     ]
    },
    {
     "name": "stdout",
     "output_type": "stream",
     "text": [
      "===posible caso: 105763 GOOG\n",
      "===posible caso: 105814 GOOG\n"
     ]
    },
    {
     "name": "stdout",
     "output_type": "stream",
     "text": [
      "===posible caso: 105863 GOOG\n",
      "===posible caso: 105884 GOOG\n",
      "===posible caso: 105966 GOOG\n",
      "===posible caso: 105988 GOOG\n"
     ]
    },
    {
     "name": "stdout",
     "output_type": "stream",
     "text": [
      "h1\n",
      "105988 GOOG\n",
      "===posible caso: 106052 GOOG\n",
      "===posible caso: 106091 GOOG\n"
     ]
    },
    {
     "name": "stdout",
     "output_type": "stream",
     "text": [
      "===posible caso: 106144 GOOG\n",
      "h1\n",
      "106144 GOOG\n",
      "===posible caso: 106201 GOOG\n",
      "===posible caso: 106246 GOOG\n"
     ]
    },
    {
     "name": "stdout",
     "output_type": "stream",
     "text": [
      "===posible caso: 106305 GOOG\n",
      "===posible caso: 106333 GOOG\n"
     ]
    },
    {
     "name": "stdout",
     "output_type": "stream",
     "text": [
      "===posible caso: 106355 GOOG\n",
      "h1\n",
      "106355 GOOG\n",
      "===posible caso: 106461 GOOG\n"
     ]
    },
    {
     "name": "stdout",
     "output_type": "stream",
     "text": [
      "===posible caso: 106551 APP\n",
      "===posible caso: 106578 APP\n"
     ]
    },
    {
     "name": "stdout",
     "output_type": "stream",
     "text": [
      "===posible caso: 106618 APP\n",
      "===posible caso: 106699 APP\n"
     ]
    },
    {
     "name": "stdout",
     "output_type": "stream",
     "text": [
      "h1\n",
      "106699 APP\n",
      "===posible caso: 106772 APP\n",
      "===posible caso: 106824 APP\n",
      "===posible caso: 106867 APP\n"
     ]
    },
    {
     "name": "stdout",
     "output_type": "stream",
     "text": [
      "===posible caso: 106902 APP\n",
      "===posible caso: 106941 APP\n"
     ]
    },
    {
     "name": "stdout",
     "output_type": "stream",
     "text": [
      "h1\n",
      "106941 APP\n",
      "===posible caso: 107008 APP\n",
      "===posible caso: 107049 APP\n"
     ]
    },
    {
     "name": "stdout",
     "output_type": "stream",
     "text": [
      "h1\n",
      "107049 APP\n",
      "===posible caso: 107125 APP\n",
      "h1\n",
      "107125 APP\n",
      "===posible caso: 107152 APP\n"
     ]
    },
    {
     "name": "stdout",
     "output_type": "stream",
     "text": [
      "h1\n",
      "107152 APP\n",
      "===posible caso: 107215 APP\n",
      "h1\n",
      "107215 APP\n",
      "===posible caso: 107255 APP\n"
     ]
    },
    {
     "name": "stdout",
     "output_type": "stream",
     "text": [
      "===posible caso: 107339 APP\n",
      "===posible caso: 107396 APP\n",
      "===posible caso: 107434 APP\n"
     ]
    },
    {
     "name": "stdout",
     "output_type": "stream",
     "text": [
      "h1\n",
      "107434 APP\n",
      "===posible caso: 107504 APP\n",
      "===posible caso: 107548 APP\n"
     ]
    },
    {
     "name": "stdout",
     "output_type": "stream",
     "text": [
      "h1\n",
      "107548 APP\n",
      "===posible caso: 107576 APP\n",
      "===posible caso: 107640 APP\n"
     ]
    },
    {
     "name": "stdout",
     "output_type": "stream",
     "text": [
      "===posible caso: 107670 APP\n",
      "===posible caso: 107710 APP\n",
      "===posible caso: 107738 APP\n"
     ]
    },
    {
     "name": "stdout",
     "output_type": "stream",
     "text": [
      "===posible caso: 107766 APP\n",
      "h1\n",
      "107766 APP\n",
      "===posible caso: 107829 APP\n"
     ]
    },
    {
     "name": "stdout",
     "output_type": "stream",
     "text": [
      "===posible caso: 107854 APP\n",
      "h1\n",
      "107854 APP\n",
      "===posible caso: 107912 APP\n"
     ]
    },
    {
     "name": "stdout",
     "output_type": "stream",
     "text": [
      "h1\n",
      "107912 APP\n",
      "===posible caso: 107933 APP\n",
      "h1\n",
      "107933 APP\n",
      "===posible caso: 107983 APP\n",
      "===posible caso: 108006 APP\n"
     ]
    },
    {
     "name": "stdout",
     "output_type": "stream",
     "text": [
      "===posible caso: 108068 APP\n",
      "===posible caso: 108103 APP\n"
     ]
    },
    {
     "name": "stdout",
     "output_type": "stream",
     "text": [
      "h1\n",
      "108103 APP\n",
      "===posible caso: 108262 APP\n",
      "===posible caso: 108329 APP\n",
      "===posible caso: 108377 APP\n",
      "===posible caso: 108567 APP\n"
     ]
    },
    {
     "name": "stdout",
     "output_type": "stream",
     "text": [
      "h1\n",
      "108567 APP\n",
      "===posible caso: 108614 APP\n",
      "===posible caso: 108730 APP\n",
      "===posible caso: 108819 APP\n"
     ]
    },
    {
     "name": "stdout",
     "output_type": "stream",
     "text": [
      "===posible caso: 108868 APP\n",
      "h1\n",
      "108868 APP\n",
      "===posible caso: 108904 APP\n"
     ]
    },
    {
     "name": "stdout",
     "output_type": "stream",
     "text": [
      "h1\n",
      "108904 APP\n",
      "===posible caso: 108958 APP\n",
      "===posible caso: 109010 APP\n"
     ]
    },
    {
     "name": "stdout",
     "output_type": "stream",
     "text": [
      "===posible caso: 109027 APP\n",
      "===posible caso: 109084 APP\n"
     ]
    },
    {
     "name": "stdout",
     "output_type": "stream",
     "text": [
      "h1\n",
      "109084 APP\n",
      "===posible caso: 109166 APP\n",
      "===posible caso: 109211 APP\n",
      "===posible caso: 109295 APP\n"
     ]
    },
    {
     "name": "stdout",
     "output_type": "stream",
     "text": [
      "h1\n",
      "109295 APP\n",
      "===posible caso: 109343 APP\n",
      "===posible caso: 109376 APP\n"
     ]
    },
    {
     "name": "stdout",
     "output_type": "stream",
     "text": [
      "===posible caso: 109405 APP\n",
      "===posible caso: 109471 APP\n",
      "===posible caso: 109544 APP\n"
     ]
    },
    {
     "name": "stdout",
     "output_type": "stream",
     "text": [
      "===posible caso: 109586 APP\n",
      "h1\n",
      "109586 APP\n",
      "===posible caso: 109776 APP\n"
     ]
    },
    {
     "name": "stdout",
     "output_type": "stream",
     "text": [
      "===posible caso: 109821 APP\n",
      "===posible caso: 109850 APP\n"
     ]
    },
    {
     "name": "stdout",
     "output_type": "stream",
     "text": [
      "h1\n",
      "109850 APP\n",
      "===posible caso: 109946 APP\n",
      "h1\n",
      "109946 APP\n",
      "===posible caso: 110084 UBER\n"
     ]
    },
    {
     "name": "stdout",
     "output_type": "stream",
     "text": [
      "===posible caso: 110113 UBER\n",
      "===posible caso: 110155 UBER\n"
     ]
    },
    {
     "name": "stdout",
     "output_type": "stream",
     "text": [
      "h1\n",
      "110155 UBER\n",
      "===posible caso: 110179 UBER\n",
      "===posible caso: 110240 UBER\n"
     ]
    },
    {
     "name": "stdout",
     "output_type": "stream",
     "text": [
      "h1\n",
      "110240 UBER\n",
      "===posible caso: 110364 UBER\n",
      "h1\n",
      "110364 UBER\n",
      "===posible caso: 110400 UBER\n"
     ]
    },
    {
     "name": "stdout",
     "output_type": "stream",
     "text": [
      "h1\n",
      "110400 UBER\n",
      "===posible caso: 110447 UBER\n",
      "h1\n",
      "110447 UBER\n",
      "===posible caso: 110485 UBER\n"
     ]
    },
    {
     "name": "stdout",
     "output_type": "stream",
     "text": [
      "===posible caso: 110530 UBER\n",
      "===posible caso: 110585 UBER\n",
      "===posible caso: 110848 UBER\n",
      "h1\n",
      "110848 UBER\n",
      "===posible caso: 110882 UBER\n"
     ]
    },
    {
     "name": "stdout",
     "output_type": "stream",
     "text": [
      "h1\n",
      "110882 UBER\n",
      "===posible caso: 110969 UBER\n",
      "===posible caso: 111035 UBER\n",
      "===posible caso: 111067 UBER\n"
     ]
    },
    {
     "name": "stdout",
     "output_type": "stream",
     "text": [
      "===posible caso: 111112 UBER\n",
      "===posible caso: 111161 UBER\n"
     ]
    },
    {
     "name": "stdout",
     "output_type": "stream",
     "text": [
      "===posible caso: 111201 UBER\n",
      "===posible caso: 111224 UBER\n",
      "h1\n",
      "111224 UBER\n",
      "===posible caso: 111245 UBER\n"
     ]
    },
    {
     "name": "stdout",
     "output_type": "stream",
     "text": [
      "h1\n",
      "111245 UBER\n",
      "===posible caso: 111276 UBER\n",
      "h1\n",
      "111276 UBER\n",
      "===posible caso: 111322 UBER\n"
     ]
    },
    {
     "name": "stdout",
     "output_type": "stream",
     "text": [
      "===posible caso: 111366 UBER\n",
      "===posible caso: 111463 UBER\n",
      "===posible caso: 111520 UBER\n",
      "===posible caso: 111582 UBER\n",
      "===posible caso: 111667 UBER\n"
     ]
    },
    {
     "name": "stdout",
     "output_type": "stream",
     "text": [
      "h1\n",
      "111667 UBER\n",
      "===posible caso: 111746 UBER\n",
      "===posible caso: 111768 UBER\n"
     ]
    },
    {
     "name": "stdout",
     "output_type": "stream",
     "text": [
      "h1\n",
      "111768 UBER\n",
      "===posible caso: 111796 UBER\n",
      "===posible caso: 111819 UBER\n"
     ]
    },
    {
     "name": "stdout",
     "output_type": "stream",
     "text": [
      "h1\n",
      "111819 UBER\n",
      "===posible caso: 111841 UBER\n",
      "===posible caso: 111917 UBER\n"
     ]
    },
    {
     "name": "stdout",
     "output_type": "stream",
     "text": [
      "h1\n",
      "111917 UBER\n",
      "===posible caso: 111948 UBER\n",
      "===posible caso: 111991 UBER\n",
      "===posible caso: 112087 UBER\n",
      "===posible caso: 112115 UBER\n"
     ]
    },
    {
     "name": "stdout",
     "output_type": "stream",
     "text": [
      "h1\n",
      "112115 UBER\n",
      "===posible caso: 112235 UBER\n",
      "h1\n",
      "112235 UBER\n",
      "===posible caso: 112265 UBER\n"
     ]
    },
    {
     "name": "stdout",
     "output_type": "stream",
     "text": [
      "===posible caso: 112353 UBER\n",
      "===posible caso: 112396 UBER\n"
     ]
    },
    {
     "name": "stdout",
     "output_type": "stream",
     "text": [
      "===posible caso: 112528 UBER\n",
      "===posible caso: 112570 UBER\n",
      "===posible caso: 112590 UBER\n"
     ]
    },
    {
     "name": "stdout",
     "output_type": "stream",
     "text": [
      "===posible caso: 112672 UBER\n",
      "===posible caso: 112752 UBER\n",
      "===posible caso: 112797 UBER\n",
      "===posible caso: 112838 UBER\n"
     ]
    },
    {
     "name": "stdout",
     "output_type": "stream",
     "text": [
      "===posible caso: 112882 UBER\n",
      "===posible caso: 112947 UBER\n",
      "===posible caso: 112992 UBER\n"
     ]
    },
    {
     "name": "stdout",
     "output_type": "stream",
     "text": [
      "h1\n",
      "112992 UBER\n",
      "===posible caso: 113025 UBER\n",
      "===posible caso: 113109 UBER\n"
     ]
    },
    {
     "name": "stdout",
     "output_type": "stream",
     "text": [
      "h1\n",
      "113109 UBER\n",
      "===posible caso: 113239 UBER\n",
      "h1\n",
      "113239 UBER\n",
      "===posible caso: 113270 UBER\n",
      "===posible caso: 113324 UBER\n"
     ]
    },
    {
     "name": "stdout",
     "output_type": "stream",
     "text": [
      "===posible caso: 113359 UBER\n",
      "===posible caso: 113389 UBER\n",
      "h1\n",
      "113389 UBER\n",
      "===posible caso: 113424 UBER\n"
     ]
    },
    {
     "name": "stdout",
     "output_type": "stream",
     "text": [
      "h1\n",
      "113424 UBER\n",
      "===posible caso: 113464 UBER\n",
      "===posible caso: 113525 UBER\n",
      "h3\n",
      "h4\n",
      "h3\n",
      "h4\n",
      "h3\n",
      "h4\n",
      "h3\n",
      "h4\n",
      "113525 UBER\n"
     ]
    }
   ],
   "source": [
    "df_casos = pd.DataFrame()\n",
    "caso = 0\n",
    "ticker2 = \"\"\n",
    "window=5\n",
    "backeval=75\n",
    "backevalTrend=0\n",
    "dfpl = pd.DataFrame\n",
    "trendH = []\n",
    "trendL = []\n",
    "cant = 0\n",
    "for i, row in df.iterrows():\n",
    "    #if (i==3560):\n",
    "    if(df['rcb01_01'][i]==1): #posibles casos \n",
    "        print(\"===posible caso:\",i, df['companyName'][i])\n",
    "        cant = 0\n",
    "        candle = i\n",
    "        cnt = 0\n",
    "        #valiniHigh = df.loc[candle,\"High\"]\n",
    "        #valiniLow = df.loc[candle,\"Low\"]\n",
    "        ticker = df['companyName'][i]\n",
    "        #Reinicio de casos por company\n",
    "        if ticker2 != ticker:\n",
    "            ticker2 = ticker\n",
    "            caso = 0\n",
    "        dfpl = df[(df.companyName==ticker)].loc[i-backeval:i+backeval]       \n",
    "\n",
    "        #print(\"rowMin:\", dfpl.index[0],\", rowMax:\", dfpl.index[-1])\n",
    "                    \n",
    "        h=1\n",
    "        l=1\n",
    "\n",
    "        cant = cant +1\n",
    "        cantHorasTrend=0\n",
    "        #print(\"opcionH:\",h,\"opcionL:\",l)\n",
    "        trendL, backevalTrend = backcandle(candle)\n",
    "        #print (\"-->trendH:\",trendH)\n",
    "        #print (\"-->backevalTrend:\",backevalTrend)    \n",
    "        \n",
    "        cantHorasTrend = (dfpl.loc[candle,\"datetime\"] - dfpl.loc[backevalTrend,\"datetime\"]).total_seconds() / 3600\n",
    "\n",
    "        if (cantHorasTrend>48): #Verificacion de caida por lo menos 2 dias\n",
    "            backevalTrend2 = candle - backevalTrend\n",
    "            #print (\"backevalTrend2\", backevalTrend2)\n",
    "                        \n",
    "            #revision de trend negativo indica que esta cayendo, solo me quedo con estos casos\n",
    "            sl_lows, interc_lows, r_sq_l = collect_channel(candle, backevalTrend2, trendL)\n",
    "                    \n",
    "    \n",
    "            #print(\"======:\", candle)\n",
    "            #print(\"===trendH===\")\n",
    "            #print(trendH)\n",
    "            #print(\"===trendL===\")\n",
    "            #print(trendL)\n",
    "            dfpl.loc[trendL, \"trendL\"] = 1\n",
    "                                \n",
    "            #print(\"sl_lows:\", sl_lows, \", interc_lows:\", interc_lows, \", r_sq_l:\", r_sq_l)\n",
    "            if (sl_lows>=0): #solo tendencias a la alza and ind_vela>0 sl_lows<0 and r_sq_h>=0.7  and sl_highs<=-0.1 and ind_vela>0\n",
    "                \n",
    "                #crear linea de tendencia high y low\n",
    "                dfpl['trendcurrlow']  = trendChannel(dfpl,candle,backevalTrend2,window,sl_lows,interc_lows)\n",
    "                \n",
    "                ind_vela = revisionVelas(dfpl, backeval,window, candle)\n",
    "                promVol = dfpl.loc[i-backeval:i][\"Volume\"].mean()\n",
    "    \n",
    "                #print(\"ind_vela:\",ind_vela)\n",
    "                if (ind_vela>0):\n",
    "                    dfpl[\"bearishSlope\"] = np.nan #pendiente bajista en vacio\n",
    "                    dfpl.loc[i, \"bearishSlope\"] = 1 #pendiente bajista solo al punto evaluado            \n",
    "                    dfpl[\"ind_posicion\"] = 0\n",
    "                    dfpl.loc[(dfpl.index < i), 'ind_posicion'] = -1\n",
    "                    dfpl.loc[(dfpl.index > i), 'ind_posicion'] = 1\n",
    "                    dfpl[\"promVol\"] = promVol\n",
    "                    dfpl[\"sl_lows\"] = sl_lows\n",
    "                    dfpl[\"r_sq_l\"] = r_sq_l\n",
    "            \n",
    "                    start = dfpl.index[0]\n",
    "                    dfpl[\"isBreakOut\"] = [isBreakOut(candleEval, backevalTrend2, window, start, candle) for candleEval in dfpl.index]\n",
    "                    # Solo me quedo con el primer BREAK OUT\n",
    "                    cnt = dfpl.query(\"isBreakOut==1 and Close<Open\").shape[0] \n",
    "                    id=0\n",
    "                    id2=0\n",
    "                    if cnt>0:\n",
    "                        id = dfpl.query(\"isBreakOut==1 and Close<Open\").index[0]                        \n",
    "                        #dfpl['isBreakOutIni'] = np.where(id!=dfpl.index, np.nan, dfpl['isBreakOut'])                        \n",
    "                        dfpl.loc[id,'isBreakOutIni'] = 1\n",
    "\n",
    "                        k=0\n",
    "                        while (k<=3):\n",
    "                            dfpl['breakpointpos'] = dfpl.apply(lambda row: breakpointpos(row), axis=1)\n",
    "                            cnt2 = dfpl.query(\"index>@id and isPivot==2\").shape[0]\n",
    "                            \n",
    "                            if cnt2>0:\n",
    "                                id2 = dfpl.query(\"index>@id and isPivot==2\").index[0]\n",
    "                                dfpl.loc[id2,'isBreakOutFinal'] = 1\n",
    "                                k=4\n",
    "                                print(\"h1\")\n",
    "                            else:\n",
    "                                #revisar 25 velas mas\n",
    "                                #print(\"paso8\")\n",
    "                                idfinal = dfpl.index[-1] \n",
    "                                idfinal2 = idfinal+25\n",
    "                                if idfinal2 in df[df['companyName']==ticker].index:\n",
    "                                    dfpl2 = df[(df.companyName==ticker)].loc[idfinal+1:idfinal2].copy()\n",
    "                                    dfpl = pd.concat([dfpl, dfpl2],ignore_index=False)    \n",
    "                                    print(\"h2\")\n",
    "                                else:                  \n",
    "                                    dfpl['isBreakOutFinal'] = np.nan\n",
    "                                    print(\"h3\")\n",
    "\n",
    "                                k=k+1\n",
    "                                print(\"h4\")\n",
    "                                \n",
    "                        \n",
    "                    else:\n",
    "                        dfpl['isBreakOutIni'] = np.nan                  \n",
    "                        dfpl['breakpointpos'] = np.nan\n",
    "            \n",
    "                    if cnt>0:\n",
    "                        #INSERT CASO\n",
    "                        caso=caso+1                            \n",
    "                        dfpl[\"caso\"] = caso\n",
    "                        print(i, df['companyName'][i])\n",
    "                        if len(df_casos)<1:\n",
    "                            df_casos = dfpl\n",
    "                        else:\n",
    "                            df_casos = pd.concat([df_casos, dfpl],ignore_index=False)\n"
   ]
  },
  {
   "cell_type": "code",
   "execution_count": 13,
   "id": "ee8cbb39-d190-488e-9acb-32cb2094acbb",
   "metadata": {
    "execution": {
     "iopub.execute_input": "2025-06-11T18:06:19.190411Z",
     "iopub.status.busy": "2025-06-11T18:06:19.190118Z",
     "iopub.status.idle": "2025-06-11T18:06:21.619580Z",
     "shell.execute_reply": "2025-06-11T18:06:21.619048Z"
    },
    "papermill": {
     "duration": 2.458746,
     "end_time": "2025-06-11T18:06:21.620722",
     "exception": false,
     "start_time": "2025-06-11T18:06:19.161976",
     "status": "completed"
    },
    "tags": []
   },
   "outputs": [],
   "source": [
    "#descarga de informacion, estrategia: RUPTURA DEL CANAL BAJISTA\n",
    "#path = r'C:\\Users\\carlo\\OneDrive\\Documentos\\TRADER\\traderapp\\data\\rcb_h.txt'\n",
    "path='data/rca_h.txt'\n",
    "\n",
    "# check whether the file exists\n",
    "if os.path.exists(path):\n",
    "    # delete the file\n",
    "    os.remove(path)\n",
    "else:\n",
    "    # if the file does not exist.\n",
    "    print(\"File does not exists. File needs to be created.\")\n",
    "\n",
    "#export DataFrame to text file\n",
    "with open(path, 'a') as f:\n",
    "    #df_string = appl_hor3.to_string(header=True, index=False, sep ='\\t')\n",
    "    df_casos.to_csv(path, header=True, index=None, sep='\\t', mode='w')\n",
    "    #f.write(df_string)"
   ]
  },
  {
   "cell_type": "markdown",
   "id": "2f3b1b22-7ae9-4f2e-b42e-a9064f2cbf09",
   "metadata": {
    "papermill": {
     "duration": 0.026853,
     "end_time": "2025-06-11T18:06:21.675674",
     "exception": false,
     "start_time": "2025-06-11T18:06:21.648821",
     "status": "completed"
    },
    "tags": []
   },
   "source": [
    "### BACKTESTING\n",
    "### Usando paquete backtesting.py"
   ]
  },
  {
   "cell_type": "code",
   "execution_count": 14,
   "id": "fb317fbb-f021-461f-a8c0-40463b42ed3e",
   "metadata": {
    "execution": {
     "iopub.execute_input": "2025-06-11T18:06:21.746226Z",
     "iopub.status.busy": "2025-06-11T18:06:21.745969Z",
     "iopub.status.idle": "2025-06-11T18:06:21.756943Z",
     "shell.execute_reply": "2025-06-11T18:06:21.756443Z"
    },
    "papermill": {
     "duration": 0.055293,
     "end_time": "2025-06-11T18:06:21.757834",
     "exception": false,
     "start_time": "2025-06-11T18:06:21.702541",
     "status": "completed"
    },
    "tags": []
   },
   "outputs": [],
   "source": [
    "df_casos2 = df_casos.query(\"isBreakOutIni==1 or isBreakOutFinal==1\").copy()"
   ]
  },
  {
   "cell_type": "code",
   "execution_count": 15,
   "id": "b8ad35c1-1c5e-438c-9fd9-20bf3feeee2c",
   "metadata": {
    "execution": {
     "iopub.execute_input": "2025-06-11T18:06:21.813757Z",
     "iopub.status.busy": "2025-06-11T18:06:21.813227Z",
     "iopub.status.idle": "2025-06-11T18:06:21.842329Z",
     "shell.execute_reply": "2025-06-11T18:06:21.841804Z"
    },
    "papermill": {
     "duration": 0.058127,
     "end_time": "2025-06-11T18:06:21.843471",
     "exception": false,
     "start_time": "2025-06-11T18:06:21.785344",
     "status": "completed"
    },
    "tags": []
   },
   "outputs": [],
   "source": [
    "# =============== BACKTESTING ================= #\n",
    "# obteniendo dataframe backtesting\n",
    "df_backTesting = pd.merge(df, df_casos2[['datetime','companyName', 'isBreakOutIni','isBreakOutFinal','caso']], on = ['companyName','datetime'], how='left')\n",
    "# datos de trade se asigna una vela anterior debido a que backtesting.py toma entra como la siguiente vela\n",
    "df_backTesting['isBreakOutIni'] = df_backTesting['isBreakOutIni'].shift(-1)\n",
    "df_backTesting['isBreakOutFinal'] = df_backTesting['isBreakOutFinal'].shift(-1)\n",
    "#modificamos indice con el compo datetime\n",
    "df_backTesting.set_index('datetime', inplace=True)"
   ]
  },
  {
   "cell_type": "code",
   "execution_count": 16,
   "id": "843cce1a-a09b-471c-a83c-3ba51e7a8658",
   "metadata": {
    "execution": {
     "iopub.execute_input": "2025-06-11T18:06:21.899834Z",
     "iopub.status.busy": "2025-06-11T18:06:21.899568Z",
     "iopub.status.idle": "2025-06-11T18:06:21.903713Z",
     "shell.execute_reply": "2025-06-11T18:06:21.903205Z"
    },
    "papermill": {
     "duration": 0.032924,
     "end_time": "2025-06-11T18:06:21.904538",
     "exception": false,
     "start_time": "2025-06-11T18:06:21.871614",
     "status": "completed"
    },
    "tags": []
   },
   "outputs": [],
   "source": [
    "#Strategia\n",
    "class strategyRupturaCanal(Strategy):    \n",
    "    def init(self):        \n",
    "        self.breakout_entry = self.I(lambda x: x, self.data.isBreakOutIni) #Indica la señal entrada al backtesting\n",
    "        self.breakout_exit = self.I(lambda x: x, self.data.isBreakOutFinal) #Indica la señal salida al backtesting\n",
    "\n",
    "    def next(self):       \n",
    "        #print(self.data)        \n",
    "        if self.breakout_entry[-1] == 1:\n",
    "            self.sell()  #COMPRA\n",
    "        elif self.breakout_exit[-1] == 1 and self.position:\n",
    "            self.position.close() #CIERRE"
   ]
  },
  {
   "cell_type": "code",
   "execution_count": 17,
   "id": "f6fd5f99-505d-4813-ad34-fb872cc5def8",
   "metadata": {
    "execution": {
     "iopub.execute_input": "2025-06-11T18:06:21.959881Z",
     "iopub.status.busy": "2025-06-11T18:06:21.959465Z",
     "iopub.status.idle": "2025-06-11T18:06:23.937592Z",
     "shell.execute_reply": "2025-06-11T18:06:23.937073Z"
    },
    "papermill": {
     "duration": 2.006699,
     "end_time": "2025-06-11T18:06:23.938773",
     "exception": false,
     "start_time": "2025-06-11T18:06:21.932074",
     "status": "completed"
    },
    "tags": []
   },
   "outputs": [
    {
     "name": "stderr",
     "output_type": "stream",
     "text": [
      "\r",
      "Backtest.run:   0%|          | 0/3364 [00:00<?, ?bar/s]"
     ]
    },
    {
     "name": "stderr",
     "output_type": "stream",
     "text": [
      "\r",
      "                                                       "
     ]
    },
    {
     "name": "stderr",
     "output_type": "stream",
     "text": [
      "\r"
     ]
    },
    {
     "name": "stderr",
     "output_type": "stream",
     "text": [
      "\r",
      "Backtest.run:   0%|          | 0/3220 [00:00<?, ?bar/s]"
     ]
    },
    {
     "name": "stderr",
     "output_type": "stream",
     "text": [
      "/usr/share/miniconda/envs/test/lib/python3.10/site-packages/backtesting/backtesting.py:954: UserWarning: time=452: Broker canceled the relative-sized order due to insufficient margin.\n",
      "  warnings.warn(\n",
      "/usr/share/miniconda/envs/test/lib/python3.10/site-packages/backtesting/backtesting.py:954: UserWarning: time=1778: Broker canceled the relative-sized order due to insufficient margin.\n",
      "  warnings.warn(\n",
      "/usr/share/miniconda/envs/test/lib/python3.10/site-packages/backtesting/backtesting.py:954: UserWarning: time=2929: Broker canceled the relative-sized order due to insufficient margin.\n",
      "  warnings.warn(\n",
      "\r",
      "                                                       "
     ]
    },
    {
     "name": "stderr",
     "output_type": "stream",
     "text": [
      "\r"
     ]
    },
    {
     "name": "stderr",
     "output_type": "stream",
     "text": [
      "\r",
      "Backtest.run:   0%|          | 0/3410 [00:00<?, ?bar/s]"
     ]
    },
    {
     "name": "stderr",
     "output_type": "stream",
     "text": [
      "\r",
      "                                                       "
     ]
    },
    {
     "name": "stderr",
     "output_type": "stream",
     "text": [
      "\r"
     ]
    },
    {
     "name": "stderr",
     "output_type": "stream",
     "text": [
      "\r",
      "Backtest.run:   0%|          | 0/3473 [00:00<?, ?bar/s]"
     ]
    },
    {
     "name": "stderr",
     "output_type": "stream",
     "text": [
      "\r",
      "                                                       "
     ]
    },
    {
     "name": "stderr",
     "output_type": "stream",
     "text": [
      "\r"
     ]
    },
    {
     "name": "stderr",
     "output_type": "stream",
     "text": [
      "\r",
      "Backtest.run:   0%|          | 0/3357 [00:00<?, ?bar/s]"
     ]
    },
    {
     "name": "stderr",
     "output_type": "stream",
     "text": [
      "/usr/share/miniconda/envs/test/lib/python3.10/site-packages/backtesting/backtesting.py:954: UserWarning: time=816: Broker canceled the relative-sized order due to insufficient margin.\n",
      "  warnings.warn(\n",
      "/usr/share/miniconda/envs/test/lib/python3.10/site-packages/backtesting/backtesting.py:954: UserWarning: time=1263: Broker canceled the relative-sized order due to insufficient margin.\n",
      "  warnings.warn(\n",
      "\r",
      "                                                       "
     ]
    },
    {
     "name": "stderr",
     "output_type": "stream",
     "text": [
      "\r"
     ]
    },
    {
     "name": "stderr",
     "output_type": "stream",
     "text": [
      "\r",
      "Backtest.run:   0%|          | 0/3231 [00:00<?, ?bar/s]"
     ]
    },
    {
     "name": "stderr",
     "output_type": "stream",
     "text": [
      "\r",
      "                                                       "
     ]
    },
    {
     "name": "stderr",
     "output_type": "stream",
     "text": [
      "\r"
     ]
    },
    {
     "name": "stderr",
     "output_type": "stream",
     "text": [
      "\r",
      "Backtest.run:   0%|          | 0/3358 [00:00<?, ?bar/s]"
     ]
    },
    {
     "name": "stderr",
     "output_type": "stream",
     "text": [
      "\r",
      "                                                       "
     ]
    },
    {
     "name": "stderr",
     "output_type": "stream",
     "text": [
      "\r"
     ]
    },
    {
     "name": "stderr",
     "output_type": "stream",
     "text": [
      "\r",
      "Backtest.run:   0%|          | 0/3359 [00:00<?, ?bar/s]"
     ]
    },
    {
     "name": "stderr",
     "output_type": "stream",
     "text": [
      "/usr/share/miniconda/envs/test/lib/python3.10/site-packages/backtesting/backtesting.py:954: UserWarning: time=3213: Broker canceled the relative-sized order due to insufficient margin.\n",
      "  warnings.warn(\n",
      "\r",
      "                                                       "
     ]
    },
    {
     "name": "stderr",
     "output_type": "stream",
     "text": [
      "\r"
     ]
    },
    {
     "name": "stderr",
     "output_type": "stream",
     "text": [
      "\r",
      "Backtest.run:   0%|          | 0/3138 [00:00<?, ?bar/s]"
     ]
    },
    {
     "name": "stderr",
     "output_type": "stream",
     "text": [
      "/usr/share/miniconda/envs/test/lib/python3.10/site-packages/backtesting/backtesting.py:954: UserWarning: time=2128: Broker canceled the relative-sized order due to insufficient margin.\n",
      "  warnings.warn(\n",
      "\r",
      "                                                       "
     ]
    },
    {
     "name": "stderr",
     "output_type": "stream",
     "text": [
      "\r"
     ]
    },
    {
     "name": "stderr",
     "output_type": "stream",
     "text": [
      "\r",
      "Backtest.run:   0%|          | 0/3356 [00:00<?, ?bar/s]"
     ]
    },
    {
     "name": "stderr",
     "output_type": "stream",
     "text": [
      "/usr/share/miniconda/envs/test/lib/python3.10/site-packages/backtesting/backtesting.py:954: UserWarning: time=2946: Broker canceled the relative-sized order due to insufficient margin.\n",
      "  warnings.warn(\n",
      "\r",
      "                                                       "
     ]
    },
    {
     "name": "stderr",
     "output_type": "stream",
     "text": [
      "\r"
     ]
    },
    {
     "name": "stderr",
     "output_type": "stream",
     "text": [
      "\r",
      "Backtest.run:   0%|          | 0/3232 [00:00<?, ?bar/s]"
     ]
    },
    {
     "name": "stderr",
     "output_type": "stream",
     "text": [
      "/usr/share/miniconda/envs/test/lib/python3.10/site-packages/backtesting/backtesting.py:954: UserWarning: time=1215: Broker canceled the relative-sized order due to insufficient margin.\n",
      "  warnings.warn(\n",
      "\r",
      "                                                       "
     ]
    },
    {
     "name": "stderr",
     "output_type": "stream",
     "text": [
      "\r"
     ]
    },
    {
     "name": "stderr",
     "output_type": "stream",
     "text": [
      "\r",
      "Backtest.run:   0%|          | 0/2888 [00:00<?, ?bar/s]"
     ]
    },
    {
     "name": "stderr",
     "output_type": "stream",
     "text": [
      "\r",
      "                                                       "
     ]
    },
    {
     "name": "stderr",
     "output_type": "stream",
     "text": [
      "\r"
     ]
    },
    {
     "name": "stderr",
     "output_type": "stream",
     "text": [
      "\r",
      "Backtest.run:   0%|          | 0/3183 [00:00<?, ?bar/s]"
     ]
    },
    {
     "name": "stderr",
     "output_type": "stream",
     "text": [
      "\r",
      "                                                       "
     ]
    },
    {
     "name": "stderr",
     "output_type": "stream",
     "text": [
      "\r"
     ]
    },
    {
     "name": "stderr",
     "output_type": "stream",
     "text": [
      "\r",
      "Backtest.run:   0%|          | 0/3434 [00:00<?, ?bar/s]"
     ]
    },
    {
     "name": "stderr",
     "output_type": "stream",
     "text": [
      "/usr/share/miniconda/envs/test/lib/python3.10/site-packages/backtesting/backtesting.py:954: UserWarning: time=1427: Broker canceled the relative-sized order due to insufficient margin.\n",
      "  warnings.warn(\n",
      "/usr/share/miniconda/envs/test/lib/python3.10/site-packages/backtesting/backtesting.py:954: UserWarning: time=1457: Broker canceled the relative-sized order due to insufficient margin.\n",
      "  warnings.warn(\n",
      "\r",
      "                                                       "
     ]
    },
    {
     "name": "stderr",
     "output_type": "stream",
     "text": [
      "\r"
     ]
    },
    {
     "name": "stderr",
     "output_type": "stream",
     "text": [
      "\r",
      "Backtest.run:   0%|          | 0/3345 [00:00<?, ?bar/s]"
     ]
    },
    {
     "name": "stderr",
     "output_type": "stream",
     "text": [
      "\r",
      "                                                       "
     ]
    },
    {
     "name": "stderr",
     "output_type": "stream",
     "text": [
      "\r"
     ]
    },
    {
     "name": "stderr",
     "output_type": "stream",
     "text": [
      "\r",
      "Backtest.run:   0%|          | 0/3414 [00:00<?, ?bar/s]"
     ]
    },
    {
     "name": "stderr",
     "output_type": "stream",
     "text": [
      "/usr/share/miniconda/envs/test/lib/python3.10/site-packages/backtesting/backtesting.py:954: UserWarning: time=1824: Broker canceled the relative-sized order due to insufficient margin.\n",
      "  warnings.warn(\n",
      "\r",
      "                                                       "
     ]
    },
    {
     "name": "stderr",
     "output_type": "stream",
     "text": [
      "\r"
     ]
    },
    {
     "name": "stderr",
     "output_type": "stream",
     "text": [
      "\r",
      "Backtest.run:   0%|          | 0/3354 [00:00<?, ?bar/s]"
     ]
    },
    {
     "name": "stderr",
     "output_type": "stream",
     "text": [
      "/usr/share/miniconda/envs/test/lib/python3.10/site-packages/backtesting/backtesting.py:954: UserWarning: time=3360: Broker canceled the relative-sized order due to insufficient margin.\n",
      "  warnings.warn(\n",
      "/usr/share/miniconda/envs/test/lib/python3.10/site-packages/backtesting/backtesting.py:954: UserWarning: time=3387: Broker canceled the relative-sized order due to insufficient margin.\n",
      "  warnings.warn(\n",
      "/usr/share/miniconda/envs/test/lib/python3.10/site-packages/backtesting/backtesting.py:954: UserWarning: time=3536: Broker canceled the relative-sized order due to insufficient margin.\n",
      "  warnings.warn(\n",
      "\r",
      "                                                       "
     ]
    },
    {
     "name": "stderr",
     "output_type": "stream",
     "text": [
      "\r"
     ]
    },
    {
     "name": "stderr",
     "output_type": "stream",
     "text": [
      "\r",
      "Backtest.run:   0%|          | 0/3456 [00:00<?, ?bar/s]"
     ]
    },
    {
     "name": "stderr",
     "output_type": "stream",
     "text": [
      "\r",
      "                                                       "
     ]
    },
    {
     "name": "stderr",
     "output_type": "stream",
     "text": [
      "\r"
     ]
    },
    {
     "name": "stderr",
     "output_type": "stream",
     "text": [
      "\r",
      "Backtest.run:   0%|          | 0/3298 [00:00<?, ?bar/s]"
     ]
    },
    {
     "name": "stderr",
     "output_type": "stream",
     "text": [
      "/usr/share/miniconda/envs/test/lib/python3.10/site-packages/backtesting/backtesting.py:954: UserWarning: time=3267: Broker canceled the relative-sized order due to insufficient margin.\n",
      "  warnings.warn(\n",
      "\r",
      "                                                       "
     ]
    },
    {
     "name": "stderr",
     "output_type": "stream",
     "text": [
      "\r"
     ]
    },
    {
     "name": "stderr",
     "output_type": "stream",
     "text": [
      "\r",
      "Backtest.run:   0%|          | 0/3027 [00:00<?, ?bar/s]"
     ]
    },
    {
     "name": "stderr",
     "output_type": "stream",
     "text": [
      "/usr/share/miniconda/envs/test/lib/python3.10/site-packages/backtesting/backtesting.py:954: UserWarning: time=2111: Broker canceled the relative-sized order due to insufficient margin.\n",
      "  warnings.warn(\n"
     ]
    },
    {
     "name": "stderr",
     "output_type": "stream",
     "text": [
      "\r",
      "                                                       "
     ]
    },
    {
     "name": "stderr",
     "output_type": "stream",
     "text": [
      "\r"
     ]
    },
    {
     "name": "stderr",
     "output_type": "stream",
     "text": [
      "\r",
      "Backtest.run:   0%|          | 0/3350 [00:00<?, ?bar/s]"
     ]
    },
    {
     "name": "stderr",
     "output_type": "stream",
     "text": [
      "\r",
      "                                                       "
     ]
    },
    {
     "name": "stderr",
     "output_type": "stream",
     "text": [
      "\r"
     ]
    },
    {
     "name": "stderr",
     "output_type": "stream",
     "text": [
      "\r",
      "Backtest.run:   0%|          | 0/3100 [00:00<?, ?bar/s]"
     ]
    },
    {
     "name": "stderr",
     "output_type": "stream",
     "text": [
      "\r",
      "                                                       "
     ]
    },
    {
     "name": "stderr",
     "output_type": "stream",
     "text": [
      "\r"
     ]
    },
    {
     "name": "stderr",
     "output_type": "stream",
     "text": [
      "\r",
      "Backtest.run:   0%|          | 0/3432 [00:00<?, ?bar/s]"
     ]
    },
    {
     "name": "stderr",
     "output_type": "stream",
     "text": [
      "/usr/share/miniconda/envs/test/lib/python3.10/site-packages/backtesting/backtesting.py:954: UserWarning: time=609: Broker canceled the relative-sized order due to insufficient margin.\n",
      "  warnings.warn(\n",
      "/usr/share/miniconda/envs/test/lib/python3.10/site-packages/backtesting/backtesting.py:954: UserWarning: time=2519: Broker canceled the relative-sized order due to insufficient margin.\n",
      "  warnings.warn(\n",
      "\r",
      "                                                       "
     ]
    },
    {
     "name": "stderr",
     "output_type": "stream",
     "text": [
      "\r"
     ]
    },
    {
     "name": "stderr",
     "output_type": "stream",
     "text": [
      "\r",
      "Backtest.run:   0%|          | 0/3126 [00:00<?, ?bar/s]"
     ]
    },
    {
     "name": "stderr",
     "output_type": "stream",
     "text": [
      "\r",
      "                                                       "
     ]
    },
    {
     "name": "stderr",
     "output_type": "stream",
     "text": [
      "\r"
     ]
    },
    {
     "name": "stderr",
     "output_type": "stream",
     "text": [
      "\r",
      "Backtest.run:   0%|          | 0/3412 [00:00<?, ?bar/s]"
     ]
    },
    {
     "name": "stderr",
     "output_type": "stream",
     "text": [
      "\r",
      "                                                       "
     ]
    },
    {
     "name": "stderr",
     "output_type": "stream",
     "text": [
      "\r"
     ]
    },
    {
     "name": "stderr",
     "output_type": "stream",
     "text": [
      "\r",
      "Backtest.run:   0%|          | 0/3433 [00:00<?, ?bar/s]"
     ]
    },
    {
     "name": "stderr",
     "output_type": "stream",
     "text": [
      "\r",
      "                                                       "
     ]
    },
    {
     "name": "stderr",
     "output_type": "stream",
     "text": [
      "\r"
     ]
    },
    {
     "name": "stderr",
     "output_type": "stream",
     "text": [
      "\r",
      "Backtest.run:   0%|          | 0/2653 [00:00<?, ?bar/s]"
     ]
    },
    {
     "name": "stderr",
     "output_type": "stream",
     "text": [
      "/usr/share/miniconda/envs/test/lib/python3.10/site-packages/backtesting/backtesting.py:954: UserWarning: time=2610: Broker canceled the relative-sized order due to insufficient margin.\n",
      "  warnings.warn(\n"
     ]
    },
    {
     "name": "stderr",
     "output_type": "stream",
     "text": [
      "\r",
      "                                                       "
     ]
    },
    {
     "name": "stderr",
     "output_type": "stream",
     "text": [
      "\r"
     ]
    },
    {
     "name": "stderr",
     "output_type": "stream",
     "text": [
      "\r",
      "Backtest.run:   0%|          | 0/112 [00:00<?, ?bar/s]"
     ]
    },
    {
     "name": "stderr",
     "output_type": "stream",
     "text": [
      "\r",
      "                                                      "
     ]
    },
    {
     "name": "stderr",
     "output_type": "stream",
     "text": [
      "\r"
     ]
    },
    {
     "name": "stderr",
     "output_type": "stream",
     "text": [
      "/tmp/ipykernel_2171/2801041912.py:34: FutureWarning: The behavior of DataFrame concatenation with empty or all-NA entries is deprecated. In a future version, this will no longer exclude empty or all-NA columns when determining the result dtypes. To retain the old behavior, exclude the relevant entries before the concat operation.\n",
      "  tradesprev = pd.concat([tradesprev, tradesdf],ignore_index=True)\n",
      "/tmp/ipykernel_2171/2801041912.py:35: FutureWarning: The behavior of DataFrame concatenation with empty or all-NA entries is deprecated. In a future version, this will no longer exclude empty or all-NA columns when determining the result dtypes. To retain the old behavior, exclude the relevant entries before the concat operation.\n",
      "  estadisticas=pd.concat([estadisticas, stat],ignore_index=True)\n"
     ]
    },
    {
     "name": "stderr",
     "output_type": "stream",
     "text": [
      "\r",
      "Backtest.run:   0%|          | 0/3351 [00:00<?, ?bar/s]"
     ]
    },
    {
     "name": "stderr",
     "output_type": "stream",
     "text": [
      "/usr/share/miniconda/envs/test/lib/python3.10/site-packages/backtesting/backtesting.py:954: UserWarning: time=1330: Broker canceled the relative-sized order due to insufficient margin.\n",
      "  warnings.warn(\n"
     ]
    },
    {
     "name": "stderr",
     "output_type": "stream",
     "text": [
      "\r",
      "                                                       "
     ]
    },
    {
     "name": "stderr",
     "output_type": "stream",
     "text": [
      "\r"
     ]
    },
    {
     "name": "stderr",
     "output_type": "stream",
     "text": [
      "\r",
      "Backtest.run:   0%|          | 0/2835 [00:00<?, ?bar/s]"
     ]
    },
    {
     "name": "stderr",
     "output_type": "stream",
     "text": [
      "/usr/share/miniconda/envs/test/lib/python3.10/site-packages/backtesting/backtesting.py:954: UserWarning: time=1198: Broker canceled the relative-sized order due to insufficient margin.\n",
      "  warnings.warn(\n"
     ]
    },
    {
     "name": "stderr",
     "output_type": "stream",
     "text": [
      "\r",
      "                                                       "
     ]
    },
    {
     "name": "stderr",
     "output_type": "stream",
     "text": [
      "\r"
     ]
    },
    {
     "name": "stderr",
     "output_type": "stream",
     "text": [
      "\r",
      "Backtest.run:   0%|          | 0/3103 [00:00<?, ?bar/s]"
     ]
    },
    {
     "name": "stderr",
     "output_type": "stream",
     "text": [
      "/usr/share/miniconda/envs/test/lib/python3.10/site-packages/backtesting/backtesting.py:954: UserWarning: time=940: Broker canceled the relative-sized order due to insufficient margin.\n",
      "  warnings.warn(\n",
      "/usr/share/miniconda/envs/test/lib/python3.10/site-packages/backtesting/backtesting.py:954: UserWarning: time=1101: Broker canceled the relative-sized order due to insufficient margin.\n",
      "  warnings.warn(\n"
     ]
    },
    {
     "name": "stderr",
     "output_type": "stream",
     "text": [
      "\r",
      "                                                       "
     ]
    },
    {
     "name": "stderr",
     "output_type": "stream",
     "text": [
      "\r"
     ]
    },
    {
     "name": "stderr",
     "output_type": "stream",
     "text": [
      "\r",
      "Backtest.run:   0%|          | 0/3301 [00:00<?, ?bar/s]"
     ]
    },
    {
     "name": "stderr",
     "output_type": "stream",
     "text": [
      "/usr/share/miniconda/envs/test/lib/python3.10/site-packages/backtesting/backtesting.py:954: UserWarning: time=1456: Broker canceled the relative-sized order due to insufficient margin.\n",
      "  warnings.warn(\n"
     ]
    },
    {
     "name": "stderr",
     "output_type": "stream",
     "text": [
      "/usr/share/miniconda/envs/test/lib/python3.10/site-packages/backtesting/backtesting.py:954: UserWarning: time=2428: Broker canceled the relative-sized order due to insufficient margin.\n",
      "  warnings.warn(\n"
     ]
    },
    {
     "name": "stderr",
     "output_type": "stream",
     "text": [
      "\r",
      "                                                       "
     ]
    },
    {
     "name": "stderr",
     "output_type": "stream",
     "text": [
      "\r"
     ]
    },
    {
     "name": "stderr",
     "output_type": "stream",
     "text": [
      "\r",
      "Backtest.run:   0%|          | 0/3349 [00:00<?, ?bar/s]"
     ]
    },
    {
     "name": "stderr",
     "output_type": "stream",
     "text": [
      "/usr/share/miniconda/envs/test/lib/python3.10/site-packages/backtesting/backtesting.py:954: UserWarning: time=872: Broker canceled the relative-sized order due to insufficient margin.\n",
      "  warnings.warn(\n",
      "/usr/share/miniconda/envs/test/lib/python3.10/site-packages/backtesting/backtesting.py:954: UserWarning: time=1235: Broker canceled the relative-sized order due to insufficient margin.\n",
      "  warnings.warn(\n"
     ]
    },
    {
     "name": "stderr",
     "output_type": "stream",
     "text": [
      "\r",
      "                                                       "
     ]
    },
    {
     "name": "stderr",
     "output_type": "stream",
     "text": [
      "\r"
     ]
    }
   ],
   "source": [
    "# Por cada TIcket\n",
    "my_stats = {}\n",
    "estadisticas = pd.DataFrame()          # lista para ticker\n",
    "tradesprev = pd.DataFrame()     # lista para cada caso por ticker\n",
    "for ticker in df_backTesting['companyName'].unique():\n",
    "    ticker_data = df_backTesting[df_backTesting['companyName'] == ticker].copy() #Filtro por cada ticker\n",
    "    bt = Backtest(ticker_data, strategyRupturaCanal, cash=10_000)\n",
    "    my_stats = bt.run()\n",
    "    listTrades = my_stats['_trades']\n",
    "    tradesdf = pd.DataFrame(listTrades) #trades\n",
    "    tradesdf['Ticker'] = ticker\n",
    "    stats_filter={\n",
    "        'Ticker':ticker,\n",
    "        'EntryTime':my_stats['Start'],\n",
    "        'ExitTime':my_stats['End'],\n",
    "        'Return [%]': my_stats['Return [%]'],\n",
    "        'CAGR [%]': my_stats['Return (Ann.) [%]'],\n",
    "        'Sharpe Ratio': my_stats['Sharpe Ratio'],\n",
    "        'Max. Drawdown [%]': my_stats['Max. Drawdown [%]'],\n",
    "        'Win Rate [%]': my_stats['Win Rate [%]'],\n",
    "        '# Trades': my_stats['# Trades'],\n",
    "        'Expectancy [%]': my_stats['Expectancy [%]'],\n",
    "        'Profit Factor': my_stats['Profit Factor'],\n",
    "        'Duration': my_stats['Duration'],\n",
    "        'Avg. Trade [%]':my_stats['Avg. Trade [%]'],\n",
    "        'Max. Trade Duration':my_stats['Max. Trade Duration'],\n",
    "        'Avg. Trade Duration':my_stats['Avg. Trade Duration']\n",
    "    }\n",
    "    stat=pd.DataFrame([stats_filter])\n",
    "    if tradesprev.shape[0]==0:\n",
    "        tradesprev = tradesdf.copy()\n",
    "        estadisticas=stat.copy()\n",
    "    else:\n",
    "        tradesprev = pd.concat([tradesprev, tradesdf],ignore_index=True)\n",
    "        estadisticas=pd.concat([estadisticas, stat],ignore_index=True)\n",
    "    # Mostramos\n",
    "    #bt.plot(resample=False, filename=f\"plot_BreakOUT_{ticker}\")"
   ]
  },
  {
   "cell_type": "code",
   "execution_count": 18,
   "id": "ebdac24e-07d0-4923-b11b-c35831321046",
   "metadata": {
    "execution": {
     "iopub.execute_input": "2025-06-11T18:06:24.003753Z",
     "iopub.status.busy": "2025-06-11T18:06:24.003246Z",
     "iopub.status.idle": "2025-06-11T18:06:24.009759Z",
     "shell.execute_reply": "2025-06-11T18:06:24.009263Z"
    },
    "papermill": {
     "duration": 0.039605,
     "end_time": "2025-06-11T18:06:24.010601",
     "exception": false,
     "start_time": "2025-06-11T18:06:23.970996",
     "status": "completed"
    },
    "tags": []
   },
   "outputs": [],
   "source": [
    "ini = df_casos2[(df_casos2['isBreakOutIni']==1)].copy()\n",
    "df_casos3_ini=ini.rename(columns={'Open': 'EntryPrice', 'datetime': 'EntryTime', 'companyName': 'Ticker'})[['EntryPrice','Ticker','caso','EntryTime']]\n",
    "final = df_casos2[(df_casos2['isBreakOutFinal']==1)].copy()\n",
    "df_casos3_final=final.rename(columns={'Open': 'ExitPrice', 'datetime': 'ExitTime', 'companyName': 'Ticker'})[['ExitPrice','Ticker','caso','ExitTime']]"
   ]
  },
  {
   "cell_type": "code",
   "execution_count": 19,
   "id": "8fbb81d3",
   "metadata": {
    "execution": {
     "iopub.execute_input": "2025-06-11T18:06:24.076054Z",
     "iopub.status.busy": "2025-06-11T18:06:24.075576Z",
     "iopub.status.idle": "2025-06-11T18:06:24.081353Z",
     "shell.execute_reply": "2025-06-11T18:06:24.080874Z"
    },
    "papermill": {
     "duration": 0.039258,
     "end_time": "2025-06-11T18:06:24.082216",
     "exception": false,
     "start_time": "2025-06-11T18:06:24.042958",
     "status": "completed"
    },
    "tags": []
   },
   "outputs": [],
   "source": [
    "df_casos3=df_casos3_ini.merge(df_casos3_final,on=['Ticker','caso'],how='outer')"
   ]
  },
  {
   "cell_type": "code",
   "execution_count": 20,
   "id": "3b0668a0",
   "metadata": {
    "execution": {
     "iopub.execute_input": "2025-06-11T18:06:24.146913Z",
     "iopub.status.busy": "2025-06-11T18:06:24.146418Z",
     "iopub.status.idle": "2025-06-11T18:06:24.152942Z",
     "shell.execute_reply": "2025-06-11T18:06:24.152449Z"
    },
    "papermill": {
     "duration": 0.039968,
     "end_time": "2025-06-11T18:06:24.153856",
     "exception": false,
     "start_time": "2025-06-11T18:06:24.113888",
     "status": "completed"
    },
    "tags": []
   },
   "outputs": [],
   "source": [
    "trades = pd.merge(df_casos3, tradesprev, on = ['EntryTime','Ticker'], how='left')"
   ]
  },
  {
   "cell_type": "code",
   "execution_count": 21,
   "id": "15ac2ccd",
   "metadata": {
    "execution": {
     "iopub.execute_input": "2025-06-11T18:06:24.218923Z",
     "iopub.status.busy": "2025-06-11T18:06:24.218411Z",
     "iopub.status.idle": "2025-06-11T18:06:24.228528Z",
     "shell.execute_reply": "2025-06-11T18:06:24.227938Z"
    },
    "papermill": {
     "duration": 0.043625,
     "end_time": "2025-06-11T18:06:24.229441",
     "exception": false,
     "start_time": "2025-06-11T18:06:24.185816",
     "status": "completed"
    },
    "tags": []
   },
   "outputs": [],
   "source": [
    "def exitPrice(x):\n",
    "    if pd.isna(x['ExitPrice_x']):\n",
    "        return x['ExitPrice_y']\n",
    "    else:\n",
    "        return x['ExitPrice_x']\n",
    "trades['ExitPrice'] = trades.apply(lambda row: exitPrice(row), axis=1)"
   ]
  },
  {
   "cell_type": "code",
   "execution_count": 22,
   "id": "6a76fb26",
   "metadata": {
    "execution": {
     "iopub.execute_input": "2025-06-11T18:06:24.294771Z",
     "iopub.status.busy": "2025-06-11T18:06:24.294449Z",
     "iopub.status.idle": "2025-06-11T18:06:24.299226Z",
     "shell.execute_reply": "2025-06-11T18:06:24.298763Z"
    },
    "papermill": {
     "duration": 0.038399,
     "end_time": "2025-06-11T18:06:24.300121",
     "exception": false,
     "start_time": "2025-06-11T18:06:24.261722",
     "status": "completed"
    },
    "tags": []
   },
   "outputs": [],
   "source": [
    "trades = trades.rename(columns={'EntryPrice_x': 'EntryPrice'})\n",
    "trades = trades.drop(['EntryPrice_y','ExitPrice_x', 'ExitPrice_y'], axis=1)"
   ]
  },
  {
   "cell_type": "code",
   "execution_count": 23,
   "id": "b2ae9041",
   "metadata": {
    "execution": {
     "iopub.execute_input": "2025-06-11T18:06:24.363620Z",
     "iopub.status.busy": "2025-06-11T18:06:24.363368Z",
     "iopub.status.idle": "2025-06-11T18:06:24.373301Z",
     "shell.execute_reply": "2025-06-11T18:06:24.372823Z"
    },
    "papermill": {
     "duration": 0.042162,
     "end_time": "2025-06-11T18:06:24.374108",
     "exception": false,
     "start_time": "2025-06-11T18:06:24.331946",
     "status": "completed"
    },
    "tags": []
   },
   "outputs": [],
   "source": [
    "def exitTime(x):\n",
    "    if pd.isna(x['ExitTime_x']):\n",
    "        return x['ExitTime_y']\n",
    "    else:\n",
    "        return x['ExitTime_x']\n",
    "trades['ExitTime'] = trades.apply(lambda row: exitTime(row), axis=1)"
   ]
  },
  {
   "cell_type": "code",
   "execution_count": 24,
   "id": "193cdbfe",
   "metadata": {
    "execution": {
     "iopub.execute_input": "2025-06-11T18:06:24.437197Z",
     "iopub.status.busy": "2025-06-11T18:06:24.436665Z",
     "iopub.status.idle": "2025-06-11T18:06:24.447582Z",
     "shell.execute_reply": "2025-06-11T18:06:24.447023Z"
    },
    "papermill": {
     "duration": 0.04329,
     "end_time": "2025-06-11T18:06:24.448479",
     "exception": false,
     "start_time": "2025-06-11T18:06:24.405189",
     "status": "completed"
    },
    "tags": []
   },
   "outputs": [],
   "source": [
    "def duration(x):\n",
    "    if pd.isna(x['Duration']):\n",
    "        if pd.isna(x['ExitTime']):\n",
    "            return pd.NaT\n",
    "        else:\n",
    "            return x['ExitTime']-x['EntryTime']\n",
    "    else:\n",
    "        return x['Duration']\n",
    "trades['Duration'] = trades.apply(lambda row: duration(row), axis=1)"
   ]
  },
  {
   "cell_type": "code",
   "execution_count": 25,
   "id": "c032ed19",
   "metadata": {
    "execution": {
     "iopub.execute_input": "2025-06-11T18:06:24.512358Z",
     "iopub.status.busy": "2025-06-11T18:06:24.511914Z",
     "iopub.status.idle": "2025-06-11T18:06:24.515531Z",
     "shell.execute_reply": "2025-06-11T18:06:24.515064Z"
    },
    "papermill": {
     "duration": 0.036371,
     "end_time": "2025-06-11T18:06:24.516378",
     "exception": false,
     "start_time": "2025-06-11T18:06:24.480007",
     "status": "completed"
    },
    "tags": []
   },
   "outputs": [],
   "source": [
    "trades = trades.drop(['ExitTime_x', 'ExitTime_y'], axis=1)"
   ]
  },
  {
   "cell_type": "code",
   "execution_count": 26,
   "id": "881ca541",
   "metadata": {
    "execution": {
     "iopub.execute_input": "2025-06-11T18:06:24.578996Z",
     "iopub.status.busy": "2025-06-11T18:06:24.578754Z",
     "iopub.status.idle": "2025-06-11T18:06:24.582524Z",
     "shell.execute_reply": "2025-06-11T18:06:24.582086Z"
    },
    "papermill": {
     "duration": 0.036023,
     "end_time": "2025-06-11T18:06:24.583356",
     "exception": false,
     "start_time": "2025-06-11T18:06:24.547333",
     "status": "completed"
    },
    "tags": []
   },
   "outputs": [],
   "source": [
    "trades=trades[['Ticker','EntryTime','ExitTime','EntryPrice','ExitPrice','Duration','Size','EntryBar','ExitBar','ReturnPct','PnL','caso']]"
   ]
  },
  {
   "cell_type": "code",
   "execution_count": 27,
   "id": "a72c8a0d",
   "metadata": {
    "execution": {
     "iopub.execute_input": "2025-06-11T18:06:24.646141Z",
     "iopub.status.busy": "2025-06-11T18:06:24.645931Z",
     "iopub.status.idle": "2025-06-11T18:06:24.671541Z",
     "shell.execute_reply": "2025-06-11T18:06:24.671076Z"
    },
    "papermill": {
     "duration": 0.05772,
     "end_time": "2025-06-11T18:06:24.672328",
     "exception": false,
     "start_time": "2025-06-11T18:06:24.614608",
     "status": "completed"
    },
    "tags": []
   },
   "outputs": [],
   "source": [
    "for item in estadisticas['Ticker'].unique():\n",
    "    count = trades[trades[\"Ticker\"] == item].shape[0]\n",
    "    estadisticas.loc[estadisticas['Ticker'] == item, '# Trades'] = count"
   ]
  },
  {
   "cell_type": "code",
   "execution_count": 28,
   "id": "eda2a7ba",
   "metadata": {
    "execution": {
     "iopub.execute_input": "2025-06-11T18:06:24.735986Z",
     "iopub.status.busy": "2025-06-11T18:06:24.735708Z",
     "iopub.status.idle": "2025-06-11T18:06:24.755014Z",
     "shell.execute_reply": "2025-06-11T18:06:24.754486Z"
    },
    "papermill": {
     "duration": 0.052074,
     "end_time": "2025-06-11T18:06:24.755905",
     "exception": false,
     "start_time": "2025-06-11T18:06:24.703831",
     "status": "completed"
    },
    "tags": []
   },
   "outputs": [],
   "source": [
    "#EXPORTACION DE DATAFRAME\n",
    "path = 'data/backtesting'\n",
    "\n",
    "# Asegurarse de que el directorio existe\n",
    "os.makedirs(path, exist_ok=True)\n",
    "\n",
    "path_trades = os.path.join(path, 'trades_rca_h.csv')\n",
    "path_estadisticas = os.path.join(path, 'estadisticas_rca_h.csv')\n",
    "\n",
    "for file_path in [path_trades, path_estadisticas]:\n",
    "    if os.path.exists(file_path):\n",
    "        os.remove(file_path)\n",
    "    else:\n",
    "        print(f\"File does not exist: {file_path}. It will be created.\")\n",
    "\n",
    "trades.to_csv(path_trades, header=True, index=False, sep='\\t', mode='w')\n",
    "estadisticas.to_csv(path_estadisticas, header=True, index=False, sep='\\t', mode='w')\n"
   ]
  }
 ],
 "metadata": {
  "kernelspec": {
   "display_name": "Python [conda env:base] *",
   "language": "python",
   "name": "conda-base-py"
  },
  "language_info": {
   "codemirror_mode": {
    "name": "ipython",
    "version": 3
   },
   "file_extension": ".py",
   "mimetype": "text/x-python",
   "name": "python",
   "nbconvert_exporter": "python",
   "pygments_lexer": "ipython3",
   "version": "3.10.18"
  },
  "papermill": {
   "default_parameters": {},
   "duration": 215.176701,
   "end_time": "2025-06-11T18:06:25.303811",
   "environment_variables": {},
   "exception": null,
   "input_path": "BreakOut_alcista.ipynb",
   "output_path": "output/BreakOut_alcista.ipynb",
   "parameters": {},
   "start_time": "2025-06-11T18:02:50.127110",
   "version": "2.6.0"
  }
 },
 "nbformat": 4,
 "nbformat_minor": 5
}