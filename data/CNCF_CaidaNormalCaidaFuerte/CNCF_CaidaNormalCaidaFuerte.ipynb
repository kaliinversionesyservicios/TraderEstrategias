{
 "cells": [
  {
   "cell_type": "markdown",
   "id": "89c8e47f-638d-42e1-aa43-54e0ee85bf01",
   "metadata": {
    "papermill": {
     "duration": 0.004927,
     "end_time": "2025-06-11T19:33:51.103674",
     "exception": false,
     "start_time": "2025-06-11T19:33:51.098747",
     "status": "completed"
    },
    "tags": []
   },
   "source": [
    "## Caida Normal Caida Fuerte (CNCF)\n",
    "##### Los precios caigan y toquen PM40, antes deben de haber caido 3 - 5 puntos (Caida Normal)\n",
    "##### si los precios caen mas de 5 puntos (Caida fuerte)\n",
    "##### Vela martillo indica que esta parando la caida\n",
    "##### Trazo una linea de tendencia siguiendo la caida, entra cuando rompe la tendencia"
   ]
  },
  {
   "cell_type": "code",
   "execution_count": 1,
   "id": "235b90e9-7695-4a4d-99b1-11825274b64c",
   "metadata": {
    "execution": {
     "iopub.execute_input": "2025-06-11T19:33:51.113427Z",
     "iopub.status.busy": "2025-06-11T19:33:51.112901Z",
     "iopub.status.idle": "2025-06-11T19:33:52.228487Z",
     "shell.execute_reply": "2025-06-11T19:33:52.227974Z"
    },
    "papermill": {
     "duration": 1.121563,
     "end_time": "2025-06-11T19:33:52.229493",
     "exception": false,
     "start_time": "2025-06-11T19:33:51.107930",
     "status": "completed"
    },
    "tags": []
   },
   "outputs": [
    {
     "name": "stderr",
     "output_type": "stream",
     "text": [
      "/usr/share/miniconda/envs/test/lib/python3.10/site-packages/tqdm/auto.py:21: TqdmWarning: IProgress not found. Please update jupyter and ipywidgets. See https://ipywidgets.readthedocs.io/en/stable/user_install.html\n",
      "  from .autonotebook import tqdm as notebook_tqdm\n",
      "/usr/share/miniconda/envs/test/lib/python3.10/site-packages/backtesting/_plotting.py:55: UserWarning: Jupyter Notebook detected. Setting Bokeh output to notebook. This may not work in Jupyter clients without JavaScript support, such as old IDEs. Reset with `backtesting.set_bokeh_output(notebook=False)`.\n",
      "  warnings.warn('Jupyter Notebook detected. '\n"
     ]
    },
    {
     "data": {
      "text/html": [
       "    <style>\n",
       "        .bk-notebook-logo {\n",
       "            display: block;\n",
       "            width: 20px;\n",
       "            height: 20px;\n",
       "            background-image: url(data:image/png;base64,iVBORw0KGgoAAAANSUhEUgAAABQAAAAUCAYAAACNiR0NAAAABHNCSVQICAgIfAhkiAAAAAlwSFlzAAALEgAACxIB0t1+/AAAABx0RVh0U29mdHdhcmUAQWRvYmUgRmlyZXdvcmtzIENTNui8sowAAAOkSURBVDiNjZRtaJVlGMd/1/08zzln5zjP1LWcU9N0NkN8m2CYjpgQYQXqSs0I84OLIC0hkEKoPtiH3gmKoiJDU7QpLgoLjLIQCpEsNJ1vqUOdO7ppbuec5+V+rj4ctwzd8IIbbi6u+8f1539dt3A78eXC7QizUF7gyV1fD1Yqg4JWz84yffhm0qkFqBogB9rM8tZdtwVsPUhWhGcFJngGeWrPzHm5oaMmkfEg1usvLFyc8jLRqDOMru7AyC8saQr7GG7f5fvDeH7Ej8CM66nIF+8yngt6HWaKh7k49Soy9nXurCi1o3qUbS3zWfrYeQDTB/Qj6kX6Ybhw4B+bOYoLKCC9H3Nu/leUTZ1JdRWkkn2ldcCamzrcf47KKXdAJllSlxAOkRgyHsGC/zRday5Qld9DyoM4/q/rUoy/CXh3jzOu3bHUVZeU+DEn8FInkPBFlu3+nW3Nw0mk6vCDiWg8CeJaxEwuHS3+z5RgY+YBR6V1Z1nxSOfoaPa4LASWxxdNp+VWTk7+4vzaou8v8PN+xo+KY2xsw6une2frhw05CTYOmQvsEhjhWjn0bmXPjpE1+kplmmkP3suftwTubK9Vq22qKmrBhpY4jvd5afdRA3wGjFAgcnTK2s4hY0/GPNIb0nErGMCRxWOOX64Z8RAC4oCXdklmEvcL8o0BfkNK4lUg9HTl+oPlQxdNo3Mg4Nv175e/1LDGzZen30MEjRUtmXSfiTVu1kK8W4txyV6BMKlbgk3lMwYCiusNy9fVfvvwMxv8Ynl6vxoByANLTWplvuj/nF9m2+PDtt1eiHPBr1oIfhCChQMBw6Aw0UulqTKZdfVvfG7VcfIqLG9bcldL/+pdWTLxLUy8Qq38heUIjh4XlzZxzQm19lLFlr8vdQ97rjZVOLf8nclzckbcD4wxXMidpX30sFd37Fv/GtwwhzhxGVAprjbg0gCAEeIgwCZyTV2Z1REEW8O4py0wsjeloKoMr6iCY6dP92H6Vw/oTyICIthibxjm/DfN9lVz8IqtqKYLUXfoKVMVQVVJOElGjrnnUt9T9wbgp8AyYKaGlqingHZU/uG2NTZSVqwHQTWkx9hxjkpWDaCg6Ckj5qebgBVbT3V3NNXMSiWSDdGV3hrtzla7J+duwPOToIg42ChPQOQjspnSlp1V+Gjdged7+8UN5CRAV7a5EdFNwCjEaBR27b3W890TE7g24NAP/mMDXRWrGoFPQI9ls/MWO2dWFAar/xcOIImbbpA3zgAAAABJRU5ErkJggg==);\n",
       "        }\n",
       "    </style>\n",
       "    <div>\n",
       "        <a href=\"https://bokeh.org\" target=\"_blank\" class=\"bk-notebook-logo\"></a>\n",
       "        <span id=\"f590a1da-09ea-463e-871c-0e186031322a\">Loading BokehJS ...</span>\n",
       "    </div>\n"
      ]
     },
     "metadata": {},
     "output_type": "display_data"
    },
    {
     "data": {
      "application/javascript": [
       "'use strict';\n",
       "(function(root) {\n",
       "  function now() {\n",
       "    return new Date();\n",
       "  }\n",
       "\n",
       "  const force = true;\n",
       "\n",
       "  if (typeof root._bokeh_onload_callbacks === \"undefined\" || force === true) {\n",
       "    root._bokeh_onload_callbacks = [];\n",
       "    root._bokeh_is_loading = undefined;\n",
       "  }\n",
       "\n",
       "const JS_MIME_TYPE = 'application/javascript';\n",
       "  const HTML_MIME_TYPE = 'text/html';\n",
       "  const EXEC_MIME_TYPE = 'application/vnd.bokehjs_exec.v0+json';\n",
       "  const CLASS_NAME = 'output_bokeh rendered_html';\n",
       "\n",
       "  /**\n",
       "   * Render data to the DOM node\n",
       "   */\n",
       "  function render(props, node) {\n",
       "    const script = document.createElement(\"script\");\n",
       "    node.appendChild(script);\n",
       "  }\n",
       "\n",
       "  /**\n",
       "   * Handle when an output is cleared or removed\n",
       "   */\n",
       "  function handleClearOutput(event, handle) {\n",
       "    function drop(id) {\n",
       "      const view = Bokeh.index.get_by_id(id)\n",
       "      if (view != null) {\n",
       "        view.model.document.clear()\n",
       "        Bokeh.index.delete(view)\n",
       "      }\n",
       "    }\n",
       "\n",
       "    const cell = handle.cell;\n",
       "\n",
       "    const id = cell.output_area._bokeh_element_id;\n",
       "    const server_id = cell.output_area._bokeh_server_id;\n",
       "\n",
       "    // Clean up Bokeh references\n",
       "    if (id != null) {\n",
       "      drop(id)\n",
       "    }\n",
       "\n",
       "    if (server_id !== undefined) {\n",
       "      // Clean up Bokeh references\n",
       "      const cmd_clean = \"from bokeh.io.state import curstate; print(curstate().uuid_to_server['\" + server_id + \"'].get_sessions()[0].document.roots[0]._id)\";\n",
       "      cell.notebook.kernel.execute(cmd_clean, {\n",
       "        iopub: {\n",
       "          output: function(msg) {\n",
       "            const id = msg.content.text.trim()\n",
       "            drop(id)\n",
       "          }\n",
       "        }\n",
       "      });\n",
       "      // Destroy server and session\n",
       "      const cmd_destroy = \"import bokeh.io.notebook as ion; ion.destroy_server('\" + server_id + \"')\";\n",
       "      cell.notebook.kernel.execute(cmd_destroy);\n",
       "    }\n",
       "  }\n",
       "\n",
       "  /**\n",
       "   * Handle when a new output is added\n",
       "   */\n",
       "  function handleAddOutput(event, handle) {\n",
       "    const output_area = handle.output_area;\n",
       "    const output = handle.output;\n",
       "\n",
       "    // limit handleAddOutput to display_data with EXEC_MIME_TYPE content only\n",
       "    if ((output.output_type != \"display_data\") || (!Object.prototype.hasOwnProperty.call(output.data, EXEC_MIME_TYPE))) {\n",
       "      return\n",
       "    }\n",
       "\n",
       "    const toinsert = output_area.element.find(\".\" + CLASS_NAME.split(' ')[0]);\n",
       "\n",
       "    if (output.metadata[EXEC_MIME_TYPE][\"id\"] !== undefined) {\n",
       "      toinsert[toinsert.length - 1].firstChild.textContent = output.data[JS_MIME_TYPE];\n",
       "      // store reference to embed id on output_area\n",
       "      output_area._bokeh_element_id = output.metadata[EXEC_MIME_TYPE][\"id\"];\n",
       "    }\n",
       "    if (output.metadata[EXEC_MIME_TYPE][\"server_id\"] !== undefined) {\n",
       "      const bk_div = document.createElement(\"div\");\n",
       "      bk_div.innerHTML = output.data[HTML_MIME_TYPE];\n",
       "      const script_attrs = bk_div.children[0].attributes;\n",
       "      for (let i = 0; i < script_attrs.length; i++) {\n",
       "        toinsert[toinsert.length - 1].firstChild.setAttribute(script_attrs[i].name, script_attrs[i].value);\n",
       "        toinsert[toinsert.length - 1].firstChild.textContent = bk_div.children[0].textContent\n",
       "      }\n",
       "      // store reference to server id on output_area\n",
       "      output_area._bokeh_server_id = output.metadata[EXEC_MIME_TYPE][\"server_id\"];\n",
       "    }\n",
       "  }\n",
       "\n",
       "  function register_renderer(events, OutputArea) {\n",
       "\n",
       "    function append_mime(data, metadata, element) {\n",
       "      // create a DOM node to render to\n",
       "      const toinsert = this.create_output_subarea(\n",
       "        metadata,\n",
       "        CLASS_NAME,\n",
       "        EXEC_MIME_TYPE\n",
       "      );\n",
       "      this.keyboard_manager.register_events(toinsert);\n",
       "      // Render to node\n",
       "      const props = {data: data, metadata: metadata[EXEC_MIME_TYPE]};\n",
       "      render(props, toinsert[toinsert.length - 1]);\n",
       "      element.append(toinsert);\n",
       "      return toinsert\n",
       "    }\n",
       "\n",
       "    /* Handle when an output is cleared or removed */\n",
       "    events.on('clear_output.CodeCell', handleClearOutput);\n",
       "    events.on('delete.Cell', handleClearOutput);\n",
       "\n",
       "    /* Handle when a new output is added */\n",
       "    events.on('output_added.OutputArea', handleAddOutput);\n",
       "\n",
       "    /**\n",
       "     * Register the mime type and append_mime function with output_area\n",
       "     */\n",
       "    OutputArea.prototype.register_mime_type(EXEC_MIME_TYPE, append_mime, {\n",
       "      /* Is output safe? */\n",
       "      safe: true,\n",
       "      /* Index of renderer in `output_area.display_order` */\n",
       "      index: 0\n",
       "    });\n",
       "  }\n",
       "\n",
       "  // register the mime type if in Jupyter Notebook environment and previously unregistered\n",
       "  if (root.Jupyter !== undefined) {\n",
       "    const events = require('base/js/events');\n",
       "    const OutputArea = require('notebook/js/outputarea').OutputArea;\n",
       "\n",
       "    if (OutputArea.prototype.mime_types().indexOf(EXEC_MIME_TYPE) == -1) {\n",
       "      register_renderer(events, OutputArea);\n",
       "    }\n",
       "  }\n",
       "  if (typeof (root._bokeh_timeout) === \"undefined\" || force === true) {\n",
       "    root._bokeh_timeout = Date.now() + 5000;\n",
       "    root._bokeh_failed_load = false;\n",
       "  }\n",
       "\n",
       "  const NB_LOAD_WARNING = {'data': {'text/html':\n",
       "     \"<div style='background-color: #fdd'>\\n\"+\n",
       "     \"<p>\\n\"+\n",
       "     \"BokehJS does not appear to have successfully loaded. If loading BokehJS from CDN, this \\n\"+\n",
       "     \"may be due to a slow or bad network connection. Possible fixes:\\n\"+\n",
       "     \"</p>\\n\"+\n",
       "     \"<ul>\\n\"+\n",
       "     \"<li>re-rerun `output_notebook()` to attempt to load from CDN again, or</li>\\n\"+\n",
       "     \"<li>use INLINE resources instead, as so:</li>\\n\"+\n",
       "     \"</ul>\\n\"+\n",
       "     \"<code>\\n\"+\n",
       "     \"from bokeh.resources import INLINE\\n\"+\n",
       "     \"output_notebook(resources=INLINE)\\n\"+\n",
       "     \"</code>\\n\"+\n",
       "     \"</div>\"}};\n",
       "\n",
       "  function display_loaded(error = null) {\n",
       "    const el = document.getElementById(\"f590a1da-09ea-463e-871c-0e186031322a\");\n",
       "    if (el != null) {\n",
       "      const html = (() => {\n",
       "        if (typeof root.Bokeh === \"undefined\") {\n",
       "          if (error == null) {\n",
       "            return \"BokehJS is loading ...\";\n",
       "          } else {\n",
       "            return \"BokehJS failed to load.\";\n",
       "          }\n",
       "        } else {\n",
       "          const prefix = `BokehJS ${root.Bokeh.version}`;\n",
       "          if (error == null) {\n",
       "            return `${prefix} successfully loaded.`;\n",
       "          } else {\n",
       "            return `${prefix} <b>encountered errors</b> while loading and may not function as expected.`;\n",
       "          }\n",
       "        }\n",
       "      })();\n",
       "      el.innerHTML = html;\n",
       "\n",
       "      if (error != null) {\n",
       "        const wrapper = document.createElement(\"div\");\n",
       "        wrapper.style.overflow = \"auto\";\n",
       "        wrapper.style.height = \"5em\";\n",
       "        wrapper.style.resize = \"vertical\";\n",
       "        const content = document.createElement(\"div\");\n",
       "        content.style.fontFamily = \"monospace\";\n",
       "        content.style.whiteSpace = \"pre-wrap\";\n",
       "        content.style.backgroundColor = \"rgb(255, 221, 221)\";\n",
       "        content.textContent = error.stack ?? error.toString();\n",
       "        wrapper.append(content);\n",
       "        el.append(wrapper);\n",
       "      }\n",
       "    } else if (Date.now() < root._bokeh_timeout) {\n",
       "      setTimeout(() => display_loaded(error), 100);\n",
       "    }\n",
       "  }\n",
       "\n",
       "  function run_callbacks() {\n",
       "    try {\n",
       "      root._bokeh_onload_callbacks.forEach(function(callback) {\n",
       "        if (callback != null)\n",
       "          callback();\n",
       "      });\n",
       "    } finally {\n",
       "      delete root._bokeh_onload_callbacks\n",
       "    }\n",
       "    console.debug(\"Bokeh: all callbacks have finished\");\n",
       "  }\n",
       "\n",
       "  function load_libs(css_urls, js_urls, callback) {\n",
       "    if (css_urls == null) css_urls = [];\n",
       "    if (js_urls == null) js_urls = [];\n",
       "\n",
       "    root._bokeh_onload_callbacks.push(callback);\n",
       "    if (root._bokeh_is_loading > 0) {\n",
       "      console.debug(\"Bokeh: BokehJS is being loaded, scheduling callback at\", now());\n",
       "      return null;\n",
       "    }\n",
       "    if (js_urls == null || js_urls.length === 0) {\n",
       "      run_callbacks();\n",
       "      return null;\n",
       "    }\n",
       "    console.debug(\"Bokeh: BokehJS not loaded, scheduling load and callback at\", now());\n",
       "    root._bokeh_is_loading = css_urls.length + js_urls.length;\n",
       "\n",
       "    function on_load() {\n",
       "      root._bokeh_is_loading--;\n",
       "      if (root._bokeh_is_loading === 0) {\n",
       "        console.debug(\"Bokeh: all BokehJS libraries/stylesheets loaded\");\n",
       "        run_callbacks()\n",
       "      }\n",
       "    }\n",
       "\n",
       "    function on_error(url) {\n",
       "      console.error(\"failed to load \" + url);\n",
       "    }\n",
       "\n",
       "    for (let i = 0; i < css_urls.length; i++) {\n",
       "      const url = css_urls[i];\n",
       "      const element = document.createElement(\"link\");\n",
       "      element.onload = on_load;\n",
       "      element.onerror = on_error.bind(null, url);\n",
       "      element.rel = \"stylesheet\";\n",
       "      element.type = \"text/css\";\n",
       "      element.href = url;\n",
       "      console.debug(\"Bokeh: injecting link tag for BokehJS stylesheet: \", url);\n",
       "      document.body.appendChild(element);\n",
       "    }\n",
       "\n",
       "    for (let i = 0; i < js_urls.length; i++) {\n",
       "      const url = js_urls[i];\n",
       "      const element = document.createElement('script');\n",
       "      element.onload = on_load;\n",
       "      element.onerror = on_error.bind(null, url);\n",
       "      element.async = false;\n",
       "      element.src = url;\n",
       "      console.debug(\"Bokeh: injecting script tag for BokehJS library: \", url);\n",
       "      document.head.appendChild(element);\n",
       "    }\n",
       "  };\n",
       "\n",
       "  function inject_raw_css(css) {\n",
       "    const element = document.createElement(\"style\");\n",
       "    element.appendChild(document.createTextNode(css));\n",
       "    document.body.appendChild(element);\n",
       "  }\n",
       "\n",
       "  const js_urls = [\"https://cdn.bokeh.org/bokeh/release/bokeh-3.7.3.min.js\", \"https://cdn.bokeh.org/bokeh/release/bokeh-gl-3.7.3.min.js\", \"https://cdn.bokeh.org/bokeh/release/bokeh-widgets-3.7.3.min.js\", \"https://cdn.bokeh.org/bokeh/release/bokeh-tables-3.7.3.min.js\", \"https://cdn.bokeh.org/bokeh/release/bokeh-mathjax-3.7.3.min.js\"];\n",
       "  const css_urls = [];\n",
       "\n",
       "  const inline_js = [    function(Bokeh) {\n",
       "      Bokeh.set_log_level(\"info\");\n",
       "    },\n",
       "function(Bokeh) {\n",
       "    }\n",
       "  ];\n",
       "\n",
       "  function run_inline_js() {\n",
       "    if (root.Bokeh !== undefined || force === true) {\n",
       "      try {\n",
       "            for (let i = 0; i < inline_js.length; i++) {\n",
       "      inline_js[i].call(root, root.Bokeh);\n",
       "    }\n",
       "\n",
       "      } catch (error) {display_loaded(error);throw error;\n",
       "      }if (force === true) {\n",
       "        display_loaded();\n",
       "      }} else if (Date.now() < root._bokeh_timeout) {\n",
       "      setTimeout(run_inline_js, 100);\n",
       "    } else if (!root._bokeh_failed_load) {\n",
       "      console.log(\"Bokeh: BokehJS failed to load within specified timeout.\");\n",
       "      root._bokeh_failed_load = true;\n",
       "    } else if (force !== true) {\n",
       "      const cell = $(document.getElementById(\"f590a1da-09ea-463e-871c-0e186031322a\")).parents('.cell').data().cell;\n",
       "      cell.output_area.append_execute_result(NB_LOAD_WARNING)\n",
       "    }\n",
       "  }\n",
       "\n",
       "  if (root._bokeh_is_loading === 0) {\n",
       "    console.debug(\"Bokeh: BokehJS loaded, going straight to plotting\");\n",
       "    run_inline_js();\n",
       "  } else {\n",
       "    load_libs(css_urls, js_urls, function() {\n",
       "      console.debug(\"Bokeh: BokehJS plotting callback run at\", now());\n",
       "      run_inline_js();\n",
       "    });\n",
       "  }\n",
       "}(window));"
      ],
      "application/vnd.bokehjs_load.v0+json": "'use strict';\n(function(root) {\n  function now() {\n    return new Date();\n  }\n\n  const force = true;\n\n  if (typeof root._bokeh_onload_callbacks === \"undefined\" || force === true) {\n    root._bokeh_onload_callbacks = [];\n    root._bokeh_is_loading = undefined;\n  }\n\n\n  if (typeof (root._bokeh_timeout) === \"undefined\" || force === true) {\n    root._bokeh_timeout = Date.now() + 5000;\n    root._bokeh_failed_load = false;\n  }\n\n  const NB_LOAD_WARNING = {'data': {'text/html':\n     \"<div style='background-color: #fdd'>\\n\"+\n     \"<p>\\n\"+\n     \"BokehJS does not appear to have successfully loaded. If loading BokehJS from CDN, this \\n\"+\n     \"may be due to a slow or bad network connection. Possible fixes:\\n\"+\n     \"</p>\\n\"+\n     \"<ul>\\n\"+\n     \"<li>re-rerun `output_notebook()` to attempt to load from CDN again, or</li>\\n\"+\n     \"<li>use INLINE resources instead, as so:</li>\\n\"+\n     \"</ul>\\n\"+\n     \"<code>\\n\"+\n     \"from bokeh.resources import INLINE\\n\"+\n     \"output_notebook(resources=INLINE)\\n\"+\n     \"</code>\\n\"+\n     \"</div>\"}};\n\n  function display_loaded(error = null) {\n    const el = document.getElementById(\"f590a1da-09ea-463e-871c-0e186031322a\");\n    if (el != null) {\n      const html = (() => {\n        if (typeof root.Bokeh === \"undefined\") {\n          if (error == null) {\n            return \"BokehJS is loading ...\";\n          } else {\n            return \"BokehJS failed to load.\";\n          }\n        } else {\n          const prefix = `BokehJS ${root.Bokeh.version}`;\n          if (error == null) {\n            return `${prefix} successfully loaded.`;\n          } else {\n            return `${prefix} <b>encountered errors</b> while loading and may not function as expected.`;\n          }\n        }\n      })();\n      el.innerHTML = html;\n\n      if (error != null) {\n        const wrapper = document.createElement(\"div\");\n        wrapper.style.overflow = \"auto\";\n        wrapper.style.height = \"5em\";\n        wrapper.style.resize = \"vertical\";\n        const content = document.createElement(\"div\");\n        content.style.fontFamily = \"monospace\";\n        content.style.whiteSpace = \"pre-wrap\";\n        content.style.backgroundColor = \"rgb(255, 221, 221)\";\n        content.textContent = error.stack ?? error.toString();\n        wrapper.append(content);\n        el.append(wrapper);\n      }\n    } else if (Date.now() < root._bokeh_timeout) {\n      setTimeout(() => display_loaded(error), 100);\n    }\n  }\n\n  function run_callbacks() {\n    try {\n      root._bokeh_onload_callbacks.forEach(function(callback) {\n        if (callback != null)\n          callback();\n      });\n    } finally {\n      delete root._bokeh_onload_callbacks\n    }\n    console.debug(\"Bokeh: all callbacks have finished\");\n  }\n\n  function load_libs(css_urls, js_urls, callback) {\n    if (css_urls == null) css_urls = [];\n    if (js_urls == null) js_urls = [];\n\n    root._bokeh_onload_callbacks.push(callback);\n    if (root._bokeh_is_loading > 0) {\n      console.debug(\"Bokeh: BokehJS is being loaded, scheduling callback at\", now());\n      return null;\n    }\n    if (js_urls == null || js_urls.length === 0) {\n      run_callbacks();\n      return null;\n    }\n    console.debug(\"Bokeh: BokehJS not loaded, scheduling load and callback at\", now());\n    root._bokeh_is_loading = css_urls.length + js_urls.length;\n\n    function on_load() {\n      root._bokeh_is_loading--;\n      if (root._bokeh_is_loading === 0) {\n        console.debug(\"Bokeh: all BokehJS libraries/stylesheets loaded\");\n        run_callbacks()\n      }\n    }\n\n    function on_error(url) {\n      console.error(\"failed to load \" + url);\n    }\n\n    for (let i = 0; i < css_urls.length; i++) {\n      const url = css_urls[i];\n      const element = document.createElement(\"link\");\n      element.onload = on_load;\n      element.onerror = on_error.bind(null, url);\n      element.rel = \"stylesheet\";\n      element.type = \"text/css\";\n      element.href = url;\n      console.debug(\"Bokeh: injecting link tag for BokehJS stylesheet: \", url);\n      document.body.appendChild(element);\n    }\n\n    for (let i = 0; i < js_urls.length; i++) {\n      const url = js_urls[i];\n      const element = document.createElement('script');\n      element.onload = on_load;\n      element.onerror = on_error.bind(null, url);\n      element.async = false;\n      element.src = url;\n      console.debug(\"Bokeh: injecting script tag for BokehJS library: \", url);\n      document.head.appendChild(element);\n    }\n  };\n\n  function inject_raw_css(css) {\n    const element = document.createElement(\"style\");\n    element.appendChild(document.createTextNode(css));\n    document.body.appendChild(element);\n  }\n\n  const js_urls = [\"https://cdn.bokeh.org/bokeh/release/bokeh-3.7.3.min.js\", \"https://cdn.bokeh.org/bokeh/release/bokeh-gl-3.7.3.min.js\", \"https://cdn.bokeh.org/bokeh/release/bokeh-widgets-3.7.3.min.js\", \"https://cdn.bokeh.org/bokeh/release/bokeh-tables-3.7.3.min.js\", \"https://cdn.bokeh.org/bokeh/release/bokeh-mathjax-3.7.3.min.js\"];\n  const css_urls = [];\n\n  const inline_js = [    function(Bokeh) {\n      Bokeh.set_log_level(\"info\");\n    },\nfunction(Bokeh) {\n    }\n  ];\n\n  function run_inline_js() {\n    if (root.Bokeh !== undefined || force === true) {\n      try {\n            for (let i = 0; i < inline_js.length; i++) {\n      inline_js[i].call(root, root.Bokeh);\n    }\n\n      } catch (error) {display_loaded(error);throw error;\n      }if (force === true) {\n        display_loaded();\n      }} else if (Date.now() < root._bokeh_timeout) {\n      setTimeout(run_inline_js, 100);\n    } else if (!root._bokeh_failed_load) {\n      console.log(\"Bokeh: BokehJS failed to load within specified timeout.\");\n      root._bokeh_failed_load = true;\n    } else if (force !== true) {\n      const cell = $(document.getElementById(\"f590a1da-09ea-463e-871c-0e186031322a\")).parents('.cell').data().cell;\n      cell.output_area.append_execute_result(NB_LOAD_WARNING)\n    }\n  }\n\n  if (root._bokeh_is_loading === 0) {\n    console.debug(\"Bokeh: BokehJS loaded, going straight to plotting\");\n    run_inline_js();\n  } else {\n    load_libs(css_urls, js_urls, function() {\n      console.debug(\"Bokeh: BokehJS plotting callback run at\", now());\n      run_inline_js();\n    });\n  }\n}(window));"
     },
     "metadata": {},
     "output_type": "display_data"
    }
   ],
   "source": [
    "import pandas as pd\n",
    "import numpy as np\n",
    "#import time\n",
    "#import matplotlib.pyplot as plt\n",
    "import os\n",
    "import talib as ta\n",
    "from scipy import stats\n",
    "from scipy.signal import argrelextrema\n",
    "from datetime import date, datetime\n",
    "#from dateutil.relativedelta import relativedelta\n",
    "from bokeh.plotting import figure, show, column\n",
    "from sklearn.linear_model import LinearRegression\n",
    "from backtesting import Backtest, Strategy"
   ]
  },
  {
   "cell_type": "code",
   "execution_count": 2,
   "id": "544d1366-df31-4a6a-a7a6-23352958e636",
   "metadata": {
    "execution": {
     "iopub.execute_input": "2025-06-11T19:33:52.240762Z",
     "iopub.status.busy": "2025-06-11T19:33:52.240205Z",
     "iopub.status.idle": "2025-06-11T19:33:52.332849Z",
     "shell.execute_reply": "2025-06-11T19:33:52.332213Z"
    },
    "papermill": {
     "duration": 0.099718,
     "end_time": "2025-06-11T19:33:52.334223",
     "exception": false,
     "start_time": "2025-06-11T19:33:52.234505",
     "status": "completed"
    },
    "tags": []
   },
   "outputs": [],
   "source": [
    "df_h=pd.read_csv('data/dataxh.txt',sep='\\t')\n",
    "tickers = [\n",
    "    'SPY',\n",
    "    'META',\n",
    "    'AAPL',\n",
    "    'AMZN',\n",
    "    'NFLX',\n",
    "    'MRNA',\n",
    "    'TSLA',\n",
    "    'TNA',\n",
    "    'GLD',\n",
    "    'SLV',\n",
    "    'USO',\n",
    "    'BAC',\n",
    "    'CVX',\n",
    "    'XOM',\n",
    "    'QQQ',\n",
    "    'MSFT',\n",
    "    'NVDA',\n",
    "    'WMT',\n",
    "    'BA',\n",
    "    'DIS',\n",
    "    'CAT',\n",
    "    'IBM',\n",
    "    'WFC',\n",
    "    'PLTR',\n",
    "    'AMD',\n",
    "    'AVGO',\n",
    "    'HOOD',\n",
    "    'CRWV',\n",
    "    'MSTR',\n",
    "    'UNH',\n",
    "    'GOOG',\n",
    "    'APP',\n",
    "    'UBER',\n",
    "]\n",
    "\n",
    "#    'SPY',\n",
    "#    'META',\n",
    "#    'AAPL',\n",
    "#    'AMZN',\n",
    "#    'NFLX',\n",
    "#    'MRNA',\n",
    "#    'TSLA',\n",
    "#    'TNA',\n",
    "#    'GLD',\n",
    "#    'SLV',\n",
    "#    'USO',\n",
    "#    'BAC',\n",
    "#    'CVX',\n",
    "#    'XOM',\n",
    "#    'QQQ'"
   ]
  },
  {
   "cell_type": "code",
   "execution_count": 3,
   "id": "b21f4295-e663-4502-85f7-ebfb487ccb13",
   "metadata": {
    "execution": {
     "iopub.execute_input": "2025-06-11T19:33:52.346098Z",
     "iopub.status.busy": "2025-06-11T19:33:52.345473Z",
     "iopub.status.idle": "2025-06-11T19:33:52.754020Z",
     "shell.execute_reply": "2025-06-11T19:33:52.753326Z"
    },
    "papermill": {
     "duration": 0.415745,
     "end_time": "2025-06-11T19:33:52.755334",
     "exception": false,
     "start_time": "2025-06-11T19:33:52.339589",
     "status": "completed"
    },
    "tags": []
   },
   "outputs": [],
   "source": [
    "df = pd.DataFrame()\n",
    "for ticker in tickers:\n",
    "    company = df_h.query(\"companyName==@ticker\").copy()\n",
    "    company.sort_values(by=['datetime'])\n",
    "    #company = yf.download(ticker, start = ini2_str, end = today_str, interval='60m')\n",
    "    #company.columns = [company.columns[0][0], company.columns[1][0], company.columns[2][0], company.columns[3][0], company.columns[4][0]]\n",
    "    #company.rename(columns={'Datetime':'Gmt time'}, inplace = True)\n",
    "    #company['datetime'] = pd.to_datetime (company.index)\n",
    "    #company['companyName'] = ticker\n",
    "    company['SMA20'] = company['Close'].rolling(20).mean()\n",
    "    company.dropna(inplace=False)\n",
    "    company['SMA40'] = company['Close'].rolling(40).mean()\n",
    "    company.dropna(inplace=False)\n",
    "\n",
    "    #EVALUACION DE VELAS ALCISTAS\n",
    "    company[\"CDLHAMMER\"] = ta.CDLHAMMER(company['Open'], company['High'], company['Low'], company['Close'])\n",
    "    company[\"CDLINVERTEDHAMMER\"] = ta.CDLINVERTEDHAMMER(company['Open'], company['High'], company['Low'], company['Close']) \n",
    "    company[\"CDLMORNINGSTAR\"] = ta.CDLMORNINGSTAR(company['Open'], company['High'], company['Low'], company['Close'])\n",
    "    \n",
    "    company[\"CDLHARAMI\"] = ta.CDLHARAMI(company['Open'], company['High'], company['Low'], company['Close'])   \n",
    "    company[\"CDLENGULFING\"] = ta.CDLENGULFING(company['Open'], company['High'], company['Low'], company['Close']) \n",
    "\n",
    "    company[\"CDLMORNINGDOJISTAR\"] = ta.CDLMORNINGDOJISTAR(company['Open'], company['High'], company['Low'], company['Close']) \n",
    "    company[\"CDLTAKURI\"] = ta.CDLTAKURI(company['Open'], company['High'], company['Low'], company['Close']) \n",
    "    company[\"CDLDRAGONFLYDOJI\"] = ta.CDLDRAGONFLYDOJI(company['Open'], company['High'], company['Low'], company['Close']) \n",
    "    company[\"CDLMARUBOZU\"] = ta.CDLMARUBOZU(company['Open'], company['High'], company['Low'], company['Close'])     \n",
    "\n",
    "    company[\"CDL3BLACKCROWS\"] = ta.CDL3BLACKCROWS(company['Open'], company['High'], company['Low'], company['Close'])\n",
    "    company[\"CDL2CROWS\"] = ta.CDL2CROWS(company['Open'], company['High'], company['Low'], company['Close'])\n",
    "    company[\"CDLIDENTICAL3CROWS\"] = ta.CDLIDENTICAL3CROWS(company['Open'], company['High'], company['Low'], company['Close'])\n",
    "\n",
    "    company[\"CDL3WHITESOLDIERS\"] = ta.CDL3WHITESOLDIERS(company['Open'], company['High'], company['Low'], company['Close'])\n",
    "\n",
    "\n",
    "\n",
    "    #df[\"cdlpiercing\"] = ta.CDLPIERCING(dfpl['Open'], dfpl['High'], dfpl['Low'], dfpl['Close'])\n",
    "    #df[\"cdlclosingmarubozu\"] = ta.CDLCLOSINGMARUBOZU(dfpl['Open'], dfpl['High'], dfpl['Low'], dfpl['Close'])\n",
    "    #df[\"cdlmarubozu\"] = ta.CDLMARUBOZU(dfpl['Open'], dfpl['High'], dfpl['Low'], dfpl['Close'])\n",
    "    #df[\"cdl3whitesoldiers\"] = ta.CDL3WHITESOLDIERS(dfpl['Open'], dfpl['High'], dfpl['Low'], dfpl['Close'])\n",
    "    #df[\"cdlharami\"] = ta.CDLHARAMI(dfpl['Open'], dfpl['High'], dfpl['Low'], dfpl['Close'])\n",
    "    #df[\"cdlharamicross\"] = ta.CDLHARAMICROSS(dfpl['Open'], dfpl['High'], dfpl['Low'], dfpl['Close'])    \n",
    "    #df[\"cdlladderbottom\"] = ta.CDLLADDERBOTTOM(dfpl['Open'], dfpl['High'], dfpl['Low'], dfpl['Close'])\n",
    "\n",
    "     \n",
    "    \n",
    "    df = pd.concat([df, company],ignore_index=True)"
   ]
  },
  {
   "cell_type": "code",
   "execution_count": 4,
   "id": "d0a3da6a-9c59-44f3-a82f-543299f68051",
   "metadata": {
    "execution": {
     "iopub.execute_input": "2025-06-11T19:33:52.766464Z",
     "iopub.status.busy": "2025-06-11T19:33:52.765961Z",
     "iopub.status.idle": "2025-06-11T19:33:52.855660Z",
     "shell.execute_reply": "2025-06-11T19:33:52.855034Z"
    },
    "papermill": {
     "duration": 0.096237,
     "end_time": "2025-06-11T19:33:52.856603",
     "exception": false,
     "start_time": "2025-06-11T19:33:52.760366",
     "status": "completed"
    },
    "tags": []
   },
   "outputs": [],
   "source": [
    "df['datetime'] = pd.to_datetime(df['datetime'])"
   ]
  },
  {
   "cell_type": "code",
   "execution_count": 5,
   "id": "1adc62e0-7af6-4c89-a448-936f91e95e7a",
   "metadata": {
    "execution": {
     "iopub.execute_input": "2025-06-11T19:33:52.867845Z",
     "iopub.status.busy": "2025-06-11T19:33:52.867312Z",
     "iopub.status.idle": "2025-06-11T19:33:55.329174Z",
     "shell.execute_reply": "2025-06-11T19:33:55.328525Z"
    },
    "papermill": {
     "duration": 2.468707,
     "end_time": "2025-06-11T19:33:55.330389",
     "exception": false,
     "start_time": "2025-06-11T19:33:52.861682",
     "status": "completed"
    },
    "tags": []
   },
   "outputs": [],
   "source": [
    "def tipo_vela(df):\n",
    "    if (df['CDLHAMMER']>0):\n",
    "        return 'Hammer'\n",
    "    elif (df['CDLINVERTEDHAMMER']>0):\n",
    "        return 'InvHammer'\n",
    "    elif (df['CDLMORNINGSTAR']>0):\n",
    "        return 'MorningStar'    \n",
    "    elif (df['CDLHARAMI']>0):\n",
    "        return 'Harami'\n",
    "    elif (df['CDLENGULFING']>0):\n",
    "        return 'Engulfing'        \n",
    "    elif (df['CDLMORNINGDOJISTAR']>0):\n",
    "        return 'MorningDojiStar'\n",
    "    elif (df['CDLTAKURI']>0):\n",
    "        return 'Takuri '\n",
    "    elif (df['CDLDRAGONFLYDOJI']>0):\n",
    "        return 'DragonflyDoji'\n",
    "    elif (df['CDLMARUBOZU']>0):\n",
    "        return 'Marubozu'\n",
    "    elif (df['CDL3BLACKCROWS']>0):\n",
    "        return '3BlackCrows'\n",
    "    elif (df['CDL2CROWS']>0):\n",
    "        return '2Crows'\n",
    "    elif (df['CDLIDENTICAL3CROWS']>0):\n",
    "        return 'Identical3Crows'\n",
    "    elif (df['CDL3WHITESOLDIERS']>0):\n",
    "        return '3WhiteSoldiers'\n",
    "df['tipo_vela'] = df.apply(tipo_vela, axis=1)\n"
   ]
  },
  {
   "cell_type": "code",
   "execution_count": 6,
   "id": "3cf292c5-61dc-4c29-b94b-2014313f4176",
   "metadata": {
    "execution": {
     "iopub.execute_input": "2025-06-11T19:33:55.341647Z",
     "iopub.status.busy": "2025-06-11T19:33:55.341227Z",
     "iopub.status.idle": "2025-06-11T19:33:55.347875Z",
     "shell.execute_reply": "2025-06-11T19:33:55.347351Z"
    },
    "papermill": {
     "duration": 0.013007,
     "end_time": "2025-06-11T19:33:55.348842",
     "exception": false,
     "start_time": "2025-06-11T19:33:55.335835",
     "status": "completed"
    },
    "tags": []
   },
   "outputs": [],
   "source": [
    "df = df.drop(['CDLHAMMER', 'CDLINVERTEDHAMMER','CDLMORNINGSTAR','CDLHARAMI','CDLENGULFING',\n",
    "              'CDLMORNINGDOJISTAR','CDLTAKURI','CDLDRAGONFLYDOJI','CDLMARUBOZU','CDL3BLACKCROWS',\n",
    "              'CDL2CROWS','CDLIDENTICAL3CROWS','CDL3WHITESOLDIERS'], axis=1)"
   ]
  },
  {
   "cell_type": "code",
   "execution_count": 7,
   "id": "674e87d8-2bff-4825-8d1b-f7bf22095133",
   "metadata": {
    "execution": {
     "iopub.execute_input": "2025-06-11T19:33:55.359960Z",
     "iopub.status.busy": "2025-06-11T19:33:55.359407Z",
     "iopub.status.idle": "2025-06-11T19:33:55.377272Z",
     "shell.execute_reply": "2025-06-11T19:33:55.376639Z"
    },
    "papermill": {
     "duration": 0.024297,
     "end_time": "2025-06-11T19:33:55.378232",
     "exception": false,
     "start_time": "2025-06-11T19:33:55.353935",
     "status": "completed"
    },
    "tags": []
   },
   "outputs": [
    {
     "data": {
      "text/html": [
       "<div>\n",
       "<style scoped>\n",
       "    .dataframe tbody tr th:only-of-type {\n",
       "        vertical-align: middle;\n",
       "    }\n",
       "\n",
       "    .dataframe tbody tr th {\n",
       "        vertical-align: top;\n",
       "    }\n",
       "\n",
       "    .dataframe thead th {\n",
       "        text-align: right;\n",
       "    }\n",
       "</style>\n",
       "<table border=\"1\" class=\"dataframe\">\n",
       "  <thead>\n",
       "    <tr style=\"text-align: right;\">\n",
       "      <th></th>\n",
       "      <th>Close</th>\n",
       "      <th>High</th>\n",
       "      <th>Low</th>\n",
       "      <th>Open</th>\n",
       "      <th>Volume</th>\n",
       "      <th>datetime</th>\n",
       "      <th>companyName</th>\n",
       "      <th>SMA20</th>\n",
       "      <th>SMA40</th>\n",
       "      <th>tipo_vela</th>\n",
       "    </tr>\n",
       "  </thead>\n",
       "  <tbody>\n",
       "    <tr>\n",
       "      <th>14</th>\n",
       "      <td>439.480011</td>\n",
       "      <td>439.660004</td>\n",
       "      <td>436.230011</td>\n",
       "      <td>436.329987</td>\n",
       "      <td>20473315</td>\n",
       "      <td>2023-06-15 13:30:00+00:00</td>\n",
       "      <td>SPY</td>\n",
       "      <td>NaN</td>\n",
       "      <td>NaN</td>\n",
       "      <td>Marubozu</td>\n",
       "    </tr>\n",
       "    <tr>\n",
       "      <th>16</th>\n",
       "      <td>440.920013</td>\n",
       "      <td>441.130096</td>\n",
       "      <td>440.059998</td>\n",
       "      <td>440.720001</td>\n",
       "      <td>10421756</td>\n",
       "      <td>2023-06-15 15:30:00+00:00</td>\n",
       "      <td>SPY</td>\n",
       "      <td>NaN</td>\n",
       "      <td>NaN</td>\n",
       "      <td>Takuri</td>\n",
       "    </tr>\n",
       "    <tr>\n",
       "      <th>29</th>\n",
       "      <td>435.881409</td>\n",
       "      <td>436.369995</td>\n",
       "      <td>435.029999</td>\n",
       "      <td>435.299988</td>\n",
       "      <td>10120204</td>\n",
       "      <td>2023-06-20 14:30:00+00:00</td>\n",
       "      <td>SPY</td>\n",
       "      <td>439.638348</td>\n",
       "      <td>NaN</td>\n",
       "      <td>Harami</td>\n",
       "    </tr>\n",
       "    <tr>\n",
       "      <th>30</th>\n",
       "      <td>437.200012</td>\n",
       "      <td>437.359985</td>\n",
       "      <td>435.850006</td>\n",
       "      <td>435.899994</td>\n",
       "      <td>6350887</td>\n",
       "      <td>2023-06-20 15:30:00+00:00</td>\n",
       "      <td>SPY</td>\n",
       "      <td>439.634325</td>\n",
       "      <td>NaN</td>\n",
       "      <td>Marubozu</td>\n",
       "    </tr>\n",
       "    <tr>\n",
       "      <th>39</th>\n",
       "      <td>436.679901</td>\n",
       "      <td>436.700012</td>\n",
       "      <td>435.010010</td>\n",
       "      <td>435.105011</td>\n",
       "      <td>6660049</td>\n",
       "      <td>2023-06-21 17:30:00+00:00</td>\n",
       "      <td>SPY</td>\n",
       "      <td>438.322371</td>\n",
       "      <td>438.211575</td>\n",
       "      <td>Engulfing</td>\n",
       "    </tr>\n",
       "    <tr>\n",
       "      <th>...</th>\n",
       "      <td>...</td>\n",
       "      <td>...</td>\n",
       "      <td>...</td>\n",
       "      <td>...</td>\n",
       "      <td>...</td>\n",
       "      <td>...</td>\n",
       "      <td>...</td>\n",
       "      <td>...</td>\n",
       "      <td>...</td>\n",
       "      <td>...</td>\n",
       "    </tr>\n",
       "    <tr>\n",
       "      <th>113552</th>\n",
       "      <td>87.310000</td>\n",
       "      <td>87.330000</td>\n",
       "      <td>87.090001</td>\n",
       "      <td>87.300000</td>\n",
       "      <td>8839</td>\n",
       "      <td>2025-06-09 17:00:00+00:00</td>\n",
       "      <td>UBER</td>\n",
       "      <td>86.493510</td>\n",
       "      <td>85.655830</td>\n",
       "      <td>Takuri</td>\n",
       "    </tr>\n",
       "    <tr>\n",
       "      <th>113569</th>\n",
       "      <td>86.590000</td>\n",
       "      <td>86.650000</td>\n",
       "      <td>86.390000</td>\n",
       "      <td>86.620000</td>\n",
       "      <td>2866491</td>\n",
       "      <td>2025-06-10 18:00:00+00:00</td>\n",
       "      <td>UBER</td>\n",
       "      <td>87.121690</td>\n",
       "      <td>86.691100</td>\n",
       "      <td>Takuri</td>\n",
       "    </tr>\n",
       "    <tr>\n",
       "      <th>113571</th>\n",
       "      <td>86.900000</td>\n",
       "      <td>87.200000</td>\n",
       "      <td>86.050000</td>\n",
       "      <td>86.050000</td>\n",
       "      <td>10259</td>\n",
       "      <td>2025-06-11 04:00:00+00:00</td>\n",
       "      <td>UBER</td>\n",
       "      <td>87.065940</td>\n",
       "      <td>86.741350</td>\n",
       "      <td>Engulfing</td>\n",
       "    </tr>\n",
       "    <tr>\n",
       "      <th>113575</th>\n",
       "      <td>86.900000</td>\n",
       "      <td>87.290000</td>\n",
       "      <td>86.001200</td>\n",
       "      <td>86.146200</td>\n",
       "      <td>45759</td>\n",
       "      <td>2025-06-11 08:00:00+00:00</td>\n",
       "      <td>UBER</td>\n",
       "      <td>86.945995</td>\n",
       "      <td>86.849350</td>\n",
       "      <td>Engulfing</td>\n",
       "    </tr>\n",
       "    <tr>\n",
       "      <th>113581</th>\n",
       "      <td>86.327300</td>\n",
       "      <td>86.385000</td>\n",
       "      <td>85.950000</td>\n",
       "      <td>86.320000</td>\n",
       "      <td>562645</td>\n",
       "      <td>2025-06-11 14:00:00+00:00</td>\n",
       "      <td>UBER</td>\n",
       "      <td>86.723375</td>\n",
       "      <td>86.997290</td>\n",
       "      <td>Hammer</td>\n",
       "    </tr>\n",
       "  </tbody>\n",
       "</table>\n",
       "<p>16239 rows × 10 columns</p>\n",
       "</div>"
      ],
      "text/plain": [
       "             Close        High         Low        Open    Volume  \\\n",
       "14      439.480011  439.660004  436.230011  436.329987  20473315   \n",
       "16      440.920013  441.130096  440.059998  440.720001  10421756   \n",
       "29      435.881409  436.369995  435.029999  435.299988  10120204   \n",
       "30      437.200012  437.359985  435.850006  435.899994   6350887   \n",
       "39      436.679901  436.700012  435.010010  435.105011   6660049   \n",
       "...            ...         ...         ...         ...       ...   \n",
       "113552   87.310000   87.330000   87.090001   87.300000      8839   \n",
       "113569   86.590000   86.650000   86.390000   86.620000   2866491   \n",
       "113571   86.900000   87.200000   86.050000   86.050000     10259   \n",
       "113575   86.900000   87.290000   86.001200   86.146200     45759   \n",
       "113581   86.327300   86.385000   85.950000   86.320000    562645   \n",
       "\n",
       "                        datetime companyName       SMA20       SMA40  \\\n",
       "14     2023-06-15 13:30:00+00:00         SPY         NaN         NaN   \n",
       "16     2023-06-15 15:30:00+00:00         SPY         NaN         NaN   \n",
       "29     2023-06-20 14:30:00+00:00         SPY  439.638348         NaN   \n",
       "30     2023-06-20 15:30:00+00:00         SPY  439.634325         NaN   \n",
       "39     2023-06-21 17:30:00+00:00         SPY  438.322371  438.211575   \n",
       "...                          ...         ...         ...         ...   \n",
       "113552 2025-06-09 17:00:00+00:00        UBER   86.493510   85.655830   \n",
       "113569 2025-06-10 18:00:00+00:00        UBER   87.121690   86.691100   \n",
       "113571 2025-06-11 04:00:00+00:00        UBER   87.065940   86.741350   \n",
       "113575 2025-06-11 08:00:00+00:00        UBER   86.945995   86.849350   \n",
       "113581 2025-06-11 14:00:00+00:00        UBER   86.723375   86.997290   \n",
       "\n",
       "        tipo_vela  \n",
       "14       Marubozu  \n",
       "16        Takuri   \n",
       "29         Harami  \n",
       "30       Marubozu  \n",
       "39      Engulfing  \n",
       "...           ...  \n",
       "113552    Takuri   \n",
       "113569    Takuri   \n",
       "113571  Engulfing  \n",
       "113575  Engulfing  \n",
       "113581     Hammer  \n",
       "\n",
       "[16239 rows x 10 columns]"
      ]
     },
     "execution_count": 7,
     "metadata": {},
     "output_type": "execute_result"
    }
   ],
   "source": [
    "df[df['tipo_vela'].isna()!=True]"
   ]
  },
  {
   "cell_type": "markdown",
   "id": "3cdb3534-e020-44f5-9c4e-9d6ab2ce9c93",
   "metadata": {
    "papermill": {
     "duration": 0.006419,
     "end_time": "2025-06-11T19:33:55.391311",
     "exception": false,
     "start_time": "2025-06-11T19:33:55.384892",
     "status": "completed"
    },
    "tags": []
   },
   "source": [
    "## Detect Pivots/Fractals"
   ]
  },
  {
   "cell_type": "code",
   "execution_count": 8,
   "id": "87578bb5-4991-4adb-88d8-5ffaf2994a5f",
   "metadata": {
    "execution": {
     "iopub.execute_input": "2025-06-11T19:33:55.407148Z",
     "iopub.status.busy": "2025-06-11T19:33:55.406481Z",
     "iopub.status.idle": "2025-06-11T19:33:55.441594Z",
     "shell.execute_reply": "2025-06-11T19:33:55.440949Z"
    },
    "papermill": {
     "duration": 0.045437,
     "end_time": "2025-06-11T19:33:55.442921",
     "exception": false,
     "start_time": "2025-06-11T19:33:55.397484",
     "status": "completed"
    },
    "tags": []
   },
   "outputs": [],
   "source": [
    "ord=10\n",
    "#for ticker in tickers:\n",
    "#print(\"====\", ticker)\n",
    "#dfpl = df[(df.companyName==ticker)] #df.query(\"companyName=='AAPL'\")\n",
    "max_idx = argrelextrema(df['Close'].values, np.greater, order=ord)[0]\n",
    "min_idx = argrelextrema(df['Close'].values, np.less, order=ord)[0]\n",
    "#print(max_idx)\n",
    "#print(min_idx)\n",
    "#df['pivotHigh'] = np.nan\n",
    "#df['pivotLow'] = np.nan\n",
    "#df['isPivot'] = np.nan\n",
    "#df['isPivot'] = np.nan\n",
    "# Aplicar el cálculo solo a los índices en la lista\n",
    "df.loc[max_idx, 'pivotHigh'] = df['High']+1e-3\n",
    "df.loc[min_idx, 'pivotLow'] = df['Low']-(1e-3)\n",
    "df.loc[max_idx, 'isPivot'] = 1\n",
    "df.loc[min_idx, 'isPivot'] = 2"
   ]
  },
  {
   "cell_type": "code",
   "execution_count": 9,
   "id": "84397263-1a3d-4304-ae43-27e297317097",
   "metadata": {
    "execution": {
     "iopub.execute_input": "2025-06-11T19:33:55.466418Z",
     "iopub.status.busy": "2025-06-11T19:33:55.466116Z",
     "iopub.status.idle": "2025-06-11T19:33:55.739630Z",
     "shell.execute_reply": "2025-06-11T19:33:55.739007Z"
    },
    "papermill": {
     "duration": 0.289826,
     "end_time": "2025-06-11T19:33:55.740523",
     "exception": false,
     "start_time": "2025-06-11T19:33:55.450697",
     "status": "completed"
    },
    "tags": []
   },
   "outputs": [
    {
     "data": {
      "text/html": [
       "\n",
       "  <div id=\"d497775d-0744-4904-83aa-37398e8ce26f\" data-root-id=\"p1003\" style=\"display: contents;\"></div>\n"
      ]
     },
     "metadata": {},
     "output_type": "display_data"
    },
    {
     "data": {
      "application/javascript": [
       "(function(root) {\n",
       "  function embed_document(root) {\n",
       "  const docs_json = {\"c34d9a71-ccdf-4548-a465-5cb7beeb86b1\":{\"version\":\"3.7.3\",\"title\":\"Bokeh Application\",\"roots\":[{\"type\":\"object\",\"name\":\"Figure\",\"id\":\"p1003\",\"attributes\":{\"width\":2500,\"height\":500,\"x_range\":{\"type\":\"object\",\"name\":\"DataRange1d\",\"id\":\"p1004\",\"attributes\":{\"range_padding\":0.05}},\"y_range\":{\"type\":\"object\",\"name\":\"DataRange1d\",\"id\":\"p1005\"},\"x_scale\":{\"type\":\"object\",\"name\":\"LinearScale\",\"id\":\"p1013\"},\"y_scale\":{\"type\":\"object\",\"name\":\"LinearScale\",\"id\":\"p1014\"},\"title\":{\"type\":\"object\",\"name\":\"Title\",\"id\":\"p1006\",\"attributes\":{\"text\":\"CNCF\"}},\"renderers\":[{\"type\":\"object\",\"name\":\"GlyphRenderer\",\"id\":\"p1048\",\"attributes\":{\"data_source\":{\"type\":\"object\",\"name\":\"ColumnDataSource\",\"id\":\"p1039\",\"attributes\":{\"selected\":{\"type\":\"object\",\"name\":\"Selection\",\"id\":\"p1040\",\"attributes\":{\"indices\":[],\"line_indices\":[]}},\"selection_policy\":{\"type\":\"object\",\"name\":\"UnionRenderers\",\"id\":\"p1041\"},\"data\":{\"type\":\"map\",\"entries\":[[\"index\",{\"type\":\"ndarray\",\"array\":{\"type\":\"bytes\",\"data\":\"lAEAAJUBAACWAQAAlwEAAJgBAACZAQAAmgEAAJsBAACcAQAAnQEAAJ4BAACfAQAAoAEAAKEBAACiAQAAowEAAKQBAAClAQAApgEAAKcBAACoAQAAqQEAAKoBAACrAQAArAEAAK0BAACuAQAArwEAALABAACxAQAAsgEAALMBAAC0AQAAtQEAALYBAAC3AQAAuAEAALkBAAC6AQAAuwEAALwBAAC9AQAAvgEAAL8BAADAAQAAwQEAAMIBAADDAQAAxAEAAMUBAADGAQAAxwEAAMgBAADJAQAAygEAAMsBAADMAQAAzQEAAM4BAADPAQAA0AEAANEBAADSAQAA0wEAANQBAADVAQAA1gEAANcBAADYAQAA2QEAANoBAADbAQAA3AEAAN0BAADeAQAA3wEAAOABAADhAQAA4gEAAOMBAADkAQAA5QEAAOYBAADnAQAA6AEAAOkBAADqAQAA6wEAAOwBAADtAQAA7gEAAO8BAADwAQAA8QEAAPIBAADzAQAA9AEAAPUBAAD2AQAA9wEAAPgBAAD5AQAA+gEAAPsBAAD8AQAA/QEAAP4BAAD/AQAAAAIAAAECAAACAgAAAwIAAAQCAAAFAgAABgIAAAcCAAAIAgAACQIAAAoCAAALAgAADAIAAA0CAAAOAgAADwIAABACAAARAgAAEgIAABMCAAAUAgAAFQIAABYCAAAXAgAAGAIAABkCAAAaAgAAGwIAABwCAAAdAgAAHgIAAB8CAAAgAgAAIQIAACICAAAjAgAAJAIAACUCAAAmAgAAJwIAACgCAAApAgAA\"},\"shape\":[150],\"dtype\":\"int32\",\"order\":\"little\"}],[\"Close\",{\"type\":\"ndarray\",\"array\":{\"type\":\"bytes\",\"data\":\"AAAAYLjOe0AAAAAgws17QAAAAIBh23tAAQAAQDPde0ABAABAM+N7QAAAACCus3tAAAAAANfDe0AAAABguNB7QAAAACBc0XtAAQAAwMzGe0AAAADA9c57QAAAACBczXtAAAAAoJnte0AAAAAAIul7QAAAAIDC43tAAAAAoCXce0AAAAAgSNV7QAEAAMDMyntAAAAAACnYe0ABAADAzPx7QAAAAAAp9HtAAAAAIFz7e0AAAAAAkQJ8QAAAAODgBnxAAAAAoHAJfEAAAAAA1wd8QAAAAAAA6ntAAAAAALXre0AAAAAAAPR7QAAAACBcA3xAAAAA4Ovte0AAAACAFNp7QAAAACCu33tAAAAAgMLhe0AAAACgmfd7QAAAAIDr9XtAAAAAoFz0e0AAAADgx/F7QAAAAKCZ33tAAAAAACnoe0AAAADgUQh8QAAAAIDrF3xAAQAAQDMhfEAAAACAwiV8QAAAAOB6IHxAAQAAwB4lfEAAAABgZiZ8QAAAACCu33tAAAAAAADQe0AAAACABs97QAEAAMAet3tAAAAA4KO0e0AAAAAghbt7QAEAAMDMtHtAAAAAgOu1e0ABAABACsF7QAAAAGBmyntAAAAAoFzHe0AAAACAfMF7QAAAAOCjuHtAAAAAgD26e0AAAACA65l7QAAAAIA9jntAAAAAwPWIe0AAAADgtZF7QAEAAMDMoHtAAAAAAACoe0AAAAAAAKx7QAAAAEDEvHtAAAAA4KO0e0ABAADAdL17QAAAAAAAuntAAAAAoJmpe0AAAAAA1417QAAAAKBwaXtAAAAAIAQre0ABAADAzBx7QAAAAKAKHHtAAAAAIIUpe0AAAAAgXBV7QAAAAIDCAXtAAAAAYI/2ekAAAACAFAx7QAAAAIDrHXtAAAAAANcTe0AAAACAPQJ7QAAAAAAA8HpAAAAAoHAJe0AAAACAFOZ6QAAAAOB62HpAAAAAIK7vekAAAACAPf56QAAAACCu73pAAAAAgOvvekAAAACA9PB6QAAAACCFA3tAAQAAQOG+ekAAAADgeqx6QAAAAIA9unpAAAAAIK6vekAAAAAAeJ56QAAAAADXk3pAAAAAoHCdekAAAACgR616QAAAACBcn3pAAQAAwDKDekABAABA82x6QAAAAIAUhnpAAAAAAACoekAAAADgeqB6QAAAAIA9pnpAAQAAQOHEekAAAACAFOJ6QAAAACCFx3pAAAAAoJnNekABAABACtt6QAAAAOB6yHpAAAAAoHDlekAAAAAA1996QAAAAGCP1npAAAAAAAC4ekAAAAAAKaR6QAAAAKBHuXpAAAAAYI+2ekAAAABgj6x6QAAAAKBwxXpAAQAAwMyYekAAAACAFJp6QAAAAACzjnpAAAAAYHicekAAAABgmrV6QAAAAOBRaHpAAAAAwPVYekABAABA4WZ6QAEAAMAeXXpAAAAA4FFIekAAAACA60l6QAAAAGC4WnpAAAAA4OlJekAAAADgUWx6QAAAAADXf3pAAQAAQOppekAAAAAghWd6QAAAAGC4hnpAAQAAQDOLekABAADAzHZ6QAAAAADXX3pAAAAAYLhyekAAAADgo256QAAAAOB6hHpA\"},\"shape\":[150],\"dtype\":\"float64\",\"order\":\"little\"}],[\"High\",{\"type\":\"ndarray\",\"array\":{\"type\":\"bytes\",\"data\":\"AAAAACnge0ABAABACtN7QAEAAMAe3XtAAQAAQDPje0AAAABgZuZ7QAAAAGBmxntAAAAAIIXLe0AAAADA4dJ7QAAAAADX03tAAAAAoJnVe0AAAACA69F7QAEAAMDM2HtAAAAAYI/ue0AAAACAwvF7QAEAAEBi7ntAAAAAgD3me0AAAAAgheN7QAAAAIDr13tAAAAAgMLZe0AAAADgUQx8QAAAAKBH/XtAAAAA4Hr8e0ABAABAMwN8QAAAAADXB3xAAQAAQDMLfEAAAACAFAp8QAEAAMAe/XtAAQAAwB7ve0AAAACAPfh7QAAAAOB6CHxAAQAAwB4HfEAAAAAgru97QAAAACBc43tAAAAAACn0e0AAAACgR/l7QAAAAKCZ+XtAAQAAwB75e0AAAAAgXPt7QAAAAOB68ntAAAAA4Hrse0AAAACgmRF8QAAAAOB6IHxAAAAAANcnfEABAABA4Sp8QAAAAGCPKnxAAAAAoEcxfEAAAABgZip8QAAAAKBH9XtAAAAAoNbje0ABAADAHtV7QAAAAIAU1ntAAQAAQN/Ce0AAAABgj757QAAAAADXv3tAAAAAACm8e0AAAACgR8F7QAAAAOCjzHtAAAAAIIXPe0AAAADgo8x7QAAAAKBwxXtAAAAAIK67e0AAAAAAALR7QAAAAAAAmntAAAAA4KOQe0ABAADAzJR7QAEAAEAzp3tAAAAA4KO0e0ABAABA4bJ7QAAAAMD1xntAAAAAANe/e0AAAACAwr17QAAAAAApwHtAAAAAIFy7e0AAAAAAALx7QAEAAEDhjntAAAAAIIU/e0ABAABACjd7QAAAAOBRKHtAAQAAQAote0AAAABgZi57QAAAAOBRHHtAAAAAYGYGe0AAAADAwxF7QAAAAGBmHntAAAAAoJkhe0AAAAAAKRx7QAEAAEAKA3tAAAAAIFwTe0AAAADgowx7QAAAAAAp7HpAAAAAIK73ekAAAADgUQB7QAAAAKBH/3pAAAAAIK77ekAAAADA4fp6QAAAAOBRBHtAAQAAwB7dekAAAAAgXMt6QAAAAOBRvHpAAAAAIK6/ekABAABAM7N6QAEAAEDhonpAAAAA4KOgekAAAABguLp6QAEAAEDhrnpAAAAAgOuhekAAAACAFI56QAAAAOAJh3pAAAAAwJ+4ekAAAACAwql6QAAAAIAotHpAAAAAwPXEekAAAAAgruN6QAAAAKD/43pAAAAAIK7RekAAAACAPdx6QAAAAAAp3HpAAAAAoJn9ekAAAACAwvV6QAAAACBa43pAAAAAIIXZekABAABA4bp6QAAAACCFx3pAAAAAAADOekAAAACAjsF6QAAAACCFx3pAAAAAoJnJekABAADAzJx6QAAAAOB6rHpAAAAAYGaiekAAAACA67V6QAAAAGBmqnpAAAAAgD1yekAAAADA9Wh6QAAAAKBHbXpAAAAAAI9eekABAADAzFh6QAAAAADXW3pAAAAAgOt1ekABAADAzHB6QAAAAGCPgnpAAAAAgMKFekAAAACA6216QAAAAADXi3pAAAAA4OCWekAAAAAAKZR6QAAAAAAAeHpAAAAAANdzekABAABAM3d6QAAAAKBHiXpA\"},\"shape\":[150],\"dtype\":\"float64\",\"order\":\"little\"}],[\"Low\",{\"type\":\"ndarray\",\"array\":{\"type\":\"bytes\",\"data\":\"AAAAoHDNe0AAAADA9bx7QAAAAKABzXtAAAAAoEfVe0AAAAAgXNt7QAEAAEDhrHtAAAAAAACse0AAAACAwr17QAEAAEDhxHtAAAAAYLjGe0AAAACgmcF7QAEAAEAKyXtAAQAAwMzMe0AAAADgUdx7QAAAAOBN3ntAAAAA4FHYe0ABAADAHtF7QAAAAOB6yHtAAQAAwMzIe0AAAAAgXOt7QAEAAMCE53tAAAAAIIXre0AAAACA6/V7QAAAAAAAAHxAAAAAYLgCfEAAAADgUQB8QAEAAEAK53tAAAAAIIXhe0AAAAAgrut7QAAAACBc73tAAQAAwB7pe0AAAACAPdZ7QAAAAIDr2XtAAAAA4ETRe0AAAADA9eB7QAAAAGBm6HtAAAAA4Hrse0AAAADgo+x7QAEAAMAe1XtAAAAAoJnfe0AAAACgcPt7QAAAAIDCB3xAAAAA4HoQfEAAAAAghR98QAAAACCuH3xAAQAAwMwefEAAAACAziF8QAEAAMAe2XtAAAAA4HrEe0AAAACgmcl7QAAAAMBLtXtAAAAA4FGwe0ABAABAM7N7QAAAAGC4rntAAAAAwPWoe0AAAADgerB7QAAAAOCjwHtAAAAA4HrCe0AAAAAAKcB7QAEAAMDMsntAAQAAwMyye0AAAACgcJF7QAAAAIDrh3tAAAAAILKDe0ABAABACn97QAAAAOCVkXtAAAAAgBSee0AAAAAAKaR7QAAAAGBmtntAAAAAAAC0e0AAAABgj7J7QAAAAKBHuXtAAAAA4HqYe0AAAAAA14N7QAEAAEDhZntAAAAAACkge0AAAABgZhp7QAEAAEDhFntAAAAAANcXe0ABAADAHhV7QAAAAAApAHtAAAAAIK7zekAAAABguPp6QAAAAAAADHtAAAAA4HoKe0AAAAAgXP96QAEAAMDM6HpAAQAAQOHoekAAAAAA1996QAAAACCFy3pAAAAAgD3SekAAAACA6+16QAAAAIDC6XpAAAAAgOvpekAAAAAgrt96QAEAAMAe7XpAAAAAAN6vekAAAAAAKax6QAAAAIAUqnpAAAAAIIWvekABAADAzJx6QAAAAOBRkHpAAAAAoEeRekAAAAAAmp16QAAAAAApkHpAAAAAACl8ekAAAAAAKWx6QAAAAOCjZHpAAAAAgOuFekAAAAAgro16QAAAAIDrjXpAAQAAwB6VekAAAADgesR6QAAAAOCjxHpAAAAAYI+6ekAAAAAghbd6QAAAACCFv3pAAAAA4KPgekABAABA4d56QAAAAAApynpAAAAAAACoekAAAAAAKaB6QAAAAGCPnnpAAAAAgBSuekABAADAHqN6QAAAAGCPnnpAAAAAIFyPekAAAAAgXId6QAAAAIAUjnpAAAAAgD2IekAAAAAg0pl6QAAAAIA9ZnpAAAAAANdTekAAAAAAKUx6QAAAAIDCWXpAAQAAQOFCekABAABA4UZ6QAAAAOCjRHpAAAAAwPVIekAAAACgR0l6QAAAAMD1ZHpAAQAAQAppekAAAACAPVp6QAAAAKCZYXpAAQAAQAqDekAAAABguGp6QAEAAMC4UnpAAQAAwMxYekAAAACA6116QAAAACBcZ3pA\"},\"shape\":[150],\"dtype\":\"float64\",\"order\":\"little\"}],[\"Open\",{\"type\":\"ndarray\",\"array\":{\"type\":\"bytes\",\"data\":\"AQAAQArde0ABAABA4c57QAAAAKCZzXtAAAAAIFzbe0AAAAAgXN17QAAAAIDCsXtAAAAAgOuze0ABAABACsN7QAAAAMD10HtAAAAAoHDRe0ABAADAzMZ7QAEAAMAez3tAAAAAYGbOe0AAAACAwu17QAAAAKBH6XtAAQAAQOHie0AAAAAAKdx7QAAAAKBw1XtAAQAAwMzKe0ABAABAMwd8QAEAAMDM/HtAAAAAYCn0e0AAAACgcPt7QAAAAOCjBHxAAQAAQOEGfEAAAACgcAl8QAEAAEAz73tAAAAAYGboe0AAAACAwut7QAAAAAAp9HtAAAAAIFwDfEAAAACAwu17QAAAAIAU2ntAAAAAIIXje0AAAAAA1+F7QAAAACCu93tAAAAAAAD2e0AAAADgevR7QAAAAIDr8XtAAAAAIK7fe0AAAADgCQt8QAAAAOB6CHxAAAAAAAAYfEABAADAHiF8QAAAAIDrJXxAAAAA4HogfEAAAADA9SR8QAAAAAAp9HtAAAAAAADge0AAAACA6897QAEAAEDhzntAAQAAQOG2e0AAAADgerR7QAAAACCFu3tAAQAAwMywe0AAAACA67V7QAEAAEAKwXtAAAAAYGbKe0AAAACgXMd7QAAAACCFwXtAAAAA4KO4e0ABAABA4ap7QAAAAAAAmntAAAAAANeNe0AAAADA9Yh7QAAAACCukXtAAAAA4KOge0AAAAAAAKh7QAAAAAApwHtAAQAAwMy8e0AAAABgZrR7QAAAAKCZvXtAAAAAgBS6e0ABAADAHql7QAAAAIAUjntAAAAAIIU/e0ABAABACit7QAEAAMDMHHtAAAAA4Hoce0AAAAAA1yt7QAAAAKBHFXtAAAAAgMIBe0ABAABAMwd7QAAAAIA9DHtAAAAAAAAee0AAAABgZhJ7QAAAAIA9AntAAAAAAADwekAAAACgmQl7QAAAAGC40npAAAAA4FHYekAAAAAA1+96QAAAAGBm/npAAAAAANfvekAAAACgxu96QAEAAMDM8HpAAAAAoHDRekABAABA4b56QAAAAOB6rHpAAAAAgOu5ekAAAAAgha96QAAAAGBmnnpAAAAAANeTekAAAACgcLF6QAEAAMAerXpAAAAAIIWfekABAABAM4N6QAEAAMDMbHpAAAAAACmGekAAAADgUah6QAAAACCHk3pAAAAAgBSmekAAAADA9cR6QAAAAIAU4npAAAAAIIXHekAAAACA6816QAEAAMAe23pAAQAAQDPzekAAAACgmeV6QAAAAAAA4HpAAQAAQOHWekAAAACA67d6QAAAAOBRpHpAAAAAoHC5ekAAAACA66l6QAAAAOCjrHpAAAAAQEDFekAAAAAghZd6QAAAAIA9mnpAAAAAYLiOekAAAABgj5x6QAAAAMD1kHpAAAAA4FFoekAAAADgUVh6QAEAAEAzZ3pAAAAAoJldekAAAADgUUh6QAAAAIDCSXpAAQAAwB5hekAAAAAA10l6QAAAAOBRbHpAAAAAgMJ/ekAAAACA62l6QAAAACBcZ3pAAAAAYLiGekAAAACAwoV6QAAAAGC4dnpAAAAAAABgekAAAADgo3J6QAAAAOCjbnpA\"},\"shape\":[150],\"dtype\":\"float64\",\"order\":\"little\"}],[\"Volume\",{\"type\":\"ndarray\",\"array\":{\"type\":\"bytes\",\"data\":\"TWhvAPiwfACVK18AUw16AGr6jADsmcQAHyqAANljXwDbzVQAK51iAD/YgwCn/sMA5n+aADpGegCkGlMAQpxQABvHVwAUG3MAUAubANZbyAD+XWYADzFcAGBtTwA5kmMARTFkAJHOaACbgMoAxjVqAPqkWgDlME4Aa5lyAGjqiwAhx64A4nS+APBQdwB5P2EAOWtDAGA5SgBTbZkALLCNAD6y0wD74LEA7/WPACTuYABloG4AziKLAKSX5wA5czsBcVs7AZKxeQCPUH0AsPyjAEcYlADWdioBcLyWAKiPcwDVEWQATddEAKL3QwCQvXwAiROUANdvtQDJUH4A1DxdAFCxUgCzPXYAZqx6ANAmggAWg4gATaBDAG4PRgA89S8ABCS3ANDX8QApwhMBe4w2AdaPlAC80H4AruRyAFi2eQDi3d4AezF2AUfF7wDn4qsAGt5pAJoRYgDU/qsA5kOoAJEEPAFRA9IAMumUAB0scABlxVIAayNdAFAInQBGN4IAt+APAfn1ngBalIoAltxiAKc+nQCgt6UAb4kJATsJ1wAiPbYASdekAEJttwClksEAkDAlAUz50ADa0/4ABvi6ACvB2ABqMJ8AUPWPAFY9gABVYdIAlhM7AXPFmACYbZIADsHCAOeBvgA0N/gAezQyAQgn+AAjqqEAvMKqAIHnhACfpIoA9s+mAES3wgDq4F4B9x/jALFqtwDHnoQAGOegAFbTpADuhuUARRsEAYVoswCMk44AibZxAC8okQAvCZkApYfeAGYizgCQAZcAc8J7AKzzYgDPg4wA\"},\"shape\":[150],\"dtype\":\"int32\",\"order\":\"little\"}],[\"datetime\",{\"type\":\"ndarray\",\"array\":{\"type\":\"bytes\",\"data\":\"AACM1bGmeEIAAHREtaZ4QgAAXLO4pnhCAABEIrymeEIAACyRv6Z4QgAAfF39pnhCAABkzACneEIAAEw7BKd4QgAANKoHp3hCAAAcGQuneEIAAASIDqd4QgAA7PYRp3hCAAA8w0+neEIAACQyU6d4QgAADKFWp3hCAAD0D1qneEIAANx+Xad4QgAAxO1gp3hCAACsXGSneEIAAHz0Rqh4QgAAZGNKqHhCAABM0k2oeEIAADRBUah4QgAAHLBUqHhCAAAEH1ioeEIAAOyNW6h4QgAAPFqZqHhCAAAkyZyoeEIAAAw4oKh4QgAA9KajqHhCAADcFaeoeEIAAMSEqqh4QgAArPOtqHhCAAD8v+uoeEIAAOQu76h4QgAAzJ3yqHhCAAC0DPaoeEIAAJx7+ah4QgAAhOr8qHhCAABsWQCpeEIAALwlPql4QgAApJRBqXhCAACMA0WpeEIAAHRySKl4QgAAXOFLqXhCAABEUE+peEIAACy/Uql4QgAAfIuQqXhCAABk+pOpeEIAAExpl6l4QgAANNiaqXhCAAAcR56peEIAAAS2oal4QgAA7CSlqXhCAAC8vIeqeEIAAKQri6p4QgAAjJqOqnhCAAB0CZKqeEIAAFx4lap4QgAAROeYqnhCAAAsVpyqeEIAAHwi2qp4QgAAZJHdqnhCAABMAOGqeEIAADRv5Kp4QgAAHN7nqnhCAAAETeuqeEIAAOy77qp4QgAAPIgsq3hCAAAk9y+reEIAAAxmM6t4QgAA9NQ2q3hCAADcQzqreEIAAMSyPat4QgAArCFBq3hCAAD87X6reEIAAORcgqt4QgAAzMuFq3hCAAC0OomreEIAAJypjKt4QgAAhBiQq3hCAABsh5OreEIAALxT0at4QgAApMLUq3hCAACMMdireEIAAHSg26t4QgAAXA/fq3hCAABEfuKreEIAACzt5at4QgAA/ITIrHhCAADk88useEIAAMxiz6x4QgAAtNHSrHhCAACcQNaseEIAAISv2ax4QgAAbB7drHhCAAC86hqteEIAAKRZHq14QgAAjMghrXhCAAB0NyWteEIAAFymKK14QgAARBUsrXhCAAAshC+teEIAAHxQba14QgAAZL9wrXhCAABMLnSteEIAADSdd614QgAAHAx7rXhCAAAEe36teEIAAOzpga14QgAAPLa/rXhCAAAkJcOteEIAAAyUxq14QgAA9ALKrXhCAADccc2teEIAAMTg0K14QgAArE/UrXhCAAD8GxKueEIAAOSKFa54QgAAzPkYrnhCAAC0aByueEIAAJzXH654QgAAhEYjrnhCAABstSaueEIAADxNCa94QgAAJLwMr3hCAAAMKxCveEIAAPSZE694QgAA3AgXr3hCAADEdxqveEIAAKzmHa94QgAA/LJbr3hCAADkIV+veEIAAMyQYq94QgAAtP9lr3hCAACcbmmveEIAAITdbK94QgAAbExwr3hCAAC8GK6veEIAAKSHsa94QgAAjPa0r3hCAAB0ZbiveEIAAFzUu694QgAAREO/r3hCAAAsssKveEIAAHx+ALB4QgAAZO0DsHhCAABMXAeweEIAADTLCrB4QgAAHDoOsHhC\"},\"shape\":[150],\"dtype\":\"float64\",\"order\":\"little\"}],[\"companyName\",{\"type\":\"ndarray\",\"array\":[\"SPY\",\"SPY\",\"SPY\",\"SPY\",\"SPY\",\"SPY\",\"SPY\",\"SPY\",\"SPY\",\"SPY\",\"SPY\",\"SPY\",\"SPY\",\"SPY\",\"SPY\",\"SPY\",\"SPY\",\"SPY\",\"SPY\",\"SPY\",\"SPY\",\"SPY\",\"SPY\",\"SPY\",\"SPY\",\"SPY\",\"SPY\",\"SPY\",\"SPY\",\"SPY\",\"SPY\",\"SPY\",\"SPY\",\"SPY\",\"SPY\",\"SPY\",\"SPY\",\"SPY\",\"SPY\",\"SPY\",\"SPY\",\"SPY\",\"SPY\",\"SPY\",\"SPY\",\"SPY\",\"SPY\",\"SPY\",\"SPY\",\"SPY\",\"SPY\",\"SPY\",\"SPY\",\"SPY\",\"SPY\",\"SPY\",\"SPY\",\"SPY\",\"SPY\",\"SPY\",\"SPY\",\"SPY\",\"SPY\",\"SPY\",\"SPY\",\"SPY\",\"SPY\",\"SPY\",\"SPY\",\"SPY\",\"SPY\",\"SPY\",\"SPY\",\"SPY\",\"SPY\",\"SPY\",\"SPY\",\"SPY\",\"SPY\",\"SPY\",\"SPY\",\"SPY\",\"SPY\",\"SPY\",\"SPY\",\"SPY\",\"SPY\",\"SPY\",\"SPY\",\"SPY\",\"SPY\",\"SPY\",\"SPY\",\"SPY\",\"SPY\",\"SPY\",\"SPY\",\"SPY\",\"SPY\",\"SPY\",\"SPY\",\"SPY\",\"SPY\",\"SPY\",\"SPY\",\"SPY\",\"SPY\",\"SPY\",\"SPY\",\"SPY\",\"SPY\",\"SPY\",\"SPY\",\"SPY\",\"SPY\",\"SPY\",\"SPY\",\"SPY\",\"SPY\",\"SPY\",\"SPY\",\"SPY\",\"SPY\",\"SPY\",\"SPY\",\"SPY\",\"SPY\",\"SPY\",\"SPY\",\"SPY\",\"SPY\",\"SPY\",\"SPY\",\"SPY\",\"SPY\",\"SPY\",\"SPY\",\"SPY\",\"SPY\",\"SPY\",\"SPY\",\"SPY\",\"SPY\",\"SPY\",\"SPY\",\"SPY\",\"SPY\",\"SPY\",\"SPY\",\"SPY\"],\"shape\":[150],\"dtype\":\"object\",\"order\":\"little\"}],[\"SMA20\",{\"type\":\"ndarray\",\"array\":{\"type\":\"bytes\",\"data\":\"AAAAiFkdfEBmZmZuqxd8QAAAAKhUE3xAZmZmRsQPfEBmZmb+igp8QM3MzIR2BHxAZmZmFmT/e0AAAACgJft7QM3MzFQY93tAzczMxNXxe0CamZmZzux7QGZmZl7H6HtAAAAA6Ajme0AAAACw+OJ7QAAAAHBD4HtAzczMJJPce0BmZmYG9th7QAAAABBN1XtAZmZmTtfUe0AzMzPbbtZ7QGZmZhZO2HtAmpmZyZXae0DNzMxci9x7QAAAANig3ntAAAAAUIrge0BmZmaOv+R7QJqZmQGo5ntAAAAAcAHoe0DNzMzUvOl7QAAAAADE7HtAZmZmTlDue0AAAAAg8+57QDMzM/NA7ntAMzMzk+Lte0AAAACI4O57QM3MzGwq8HtAAAAAQLjxe0DNzMw0q/N7QAAAAHAK9HtAAAAAQALze0AzMzNLBPR7QM3MzNxx9XtAmpmZ+fn2e0CamZlBhfh7QDMzMyus+XtAzczM9CL7e0AzMzMTKP57QJqZmSGO/XtAzczMVMH7e0AzMzNzI/l7QGZmZv5l9ntAMzMzw4b0e0CamZnpt/J7QM3MzGx48HtAAAAAuC/te0AzMzPbiup7QGZmZr5x6HtAAAAAyFLme0AzMzNT0eR7QJqZmRFx4ntAZmZmponee0CamZnZPNh7QDMzM8Pj0HtAmpmZuQzJe0BmZmZG6cF7QDMzM5NLu3tAAAAAqPm0e0BmZmYmZLJ7QGZmZvZtsXtAMzMzOxywe0DNzMxUbbB7QAAAAPCxsHtAAAAAkMyve0AAAADg2a17QGZmZu4GqntAAAAAoIaie0A1MzOL2Jl7QM7MzKRHkXtAm5mZea6Je0DOzMx8hIF7QDUzMyNLeHtAm5mZISBwe0DOzMwUnml7QAIAAPhDZHtANTMz0/hde0A1MzNDC1Z7QAIAABDYTHtANTMzS7dEe0BoZmZO+zl7QJuZmUH5LntAMzMzU68ke0AAAAAATBt7QJqZmTkAEntAmpmZ2RoKe0DNzMykFAR7QAAAABgbAntAMzMz62j9ekBmZmbu1Pd6QM3MzIxE8npAzczMDC/tekAAAAAgOOh6QJqZmYFI43pAAAAAUMDdekDNzMyEHth6QDMzM5NL0npAAAAAcPHLekAAAAAAZMV6QAAAAJjSvnpAAAAA+Le7ekAzMzMr67h6QDMzMyM/tXpAzczM7GCyekAAAADYsrF6QJqZmbmtr3pAZmZmLumtekCamZkJ46t6QDMzM+tdrHpAmpmZATevekAAAABIGLF6QJqZmfEJs3pAZmZmvlC0ekDNzMykIbV6QGZmZv6FtnpAAAAAyPy2ekBmZma+pbd6QDMzM6P1unpAmpmZ6Sa9ekCamZnpJr56QAAAABDjvHpAzczMvK+8ekCamZlhdL16QM3MzJzTuHpAmpmZefixekAzMzN7I616QM3MzLyDp3pAAAAAuC2gekAAAADA2Zl6QDMzMyPqknpAzczMFGuLekDNzMw0G4Z6QDMzM1tMg3pAmpmZ0WKAekAzMzNLTHx6QJqZmfHneXpAAAAA8Dx4ekAAAABYTnR6QJqZmUF1cXpAMzMzc31vekAAAAAY4216QM3MzASwbHpA\"},\"shape\":[150],\"dtype\":\"float64\",\"order\":\"little\"}],[\"SMA40\",{\"type\":\"ndarray\",\"array\":{\"type\":\"bytes\",\"data\":\"mpmZma0XfEDNzMz05xh8QAAAAEQaGnxAMzMzdw0afEDNzMxkyhl8QGZmZqrAF3xAZmZm/iMWfECamZl9zhR8QAAAANwrE3xAZmZm/kYRfEDNzMwQig98QAAAAARIDXxAmpmZPXwLfEAAAADcvQl8QM3MzAQvCHxAMzMznyEGfEBmZmYG3QN8QAAAAFyrAHxAAAAAmAr+e0DNzMwYoPx7QDMzM8/T+ntAAAAAnCD5e0BmZmYC8Pd7QDMzM48y93tAMzMzp4r1e0CamZkJm/R7QAAAAAwG83tAAAAAiJPxe0DNzMyUavB7QGZmZuJM73tAAAAAdI/te0AzMzM/3et7QJqZme0k6ntAmpmZoW3oe0AAAAD8ked7QM3MzMhe5ntAMzMzI1fle0BmZmYifOR7QDMzM99w5HtAmpmZjbjke0DNzMwwKeZ7QDMzM9MD6HtAMzMzq8Lpe0DNzMwMk+t7QJqZmT0b7XtAmpmZQfHve0BmZmYKaPJ7QM3MzMjH8ntAzczMFL/ye0CamZm58/J7QGZmZiZb8ntAmpmZ8bzxe0BmZmZufPB7QAAAAIAt73tAAAAAIAjue0AAAACkWu17QDMzM/8U7XtAZmZm/v7se0CamZnhbex7QM3MzKi56ntAzczM+Ebpe0AzMzNb1+Z7QGZmZt7u43tAmpmZ/cjge0DNzMy4yt17QAAAAEQ323tAmpmZ3ZDZe0AAAAAk+dd7QJqZmaWX1ntAMzMz15/Ue0CamZmpadN7QJqZmVmc0ntAzczMPELRe0BmZmYmKc97QDMzM1Oby3tAmpmZvYjGe0DNzMwkJcF7QGZmZjbNu3tAZmZm5j+3e0AzMzPH+rF7QM3MzGRqq3tAmpmZfS6ke0AAAADsQJ17QM3MzFiolntAzczMDPGPe0AzMzNrq4h7QAAAANzogHtAzczMuI17e0BmZmaitHV7QGZmZr6Kb3tAAAAAVI5qe0AAAAD4/mV7QM3MzGTmYHtAzczMXPpbe0CamZnJDVd7QAAAANxQUntAMzMzu6BLe0CamZlJjkR7QDMzM4P5PXtAzczMxFk3e0CamZmhQTB7QJqZmVG0KXtAZmZmMq8je0BmZmY+MR57QDMzMzMiGHtAmpmZWf4Qe0AAAAAIHgl7QJqZmfHEAXtAMzMzo9n6ekBmZmY28vN6QDMzMzv37HpAZmZmdtbmekDNzMyI2eF6QJqZmUnk3HpAmpmZ6f7YekDNzMwQ/9Z6QDMzM2vj1HpAAAAA+IXTekBmZmZqrtF6QDMzM38c0HpAMzMzb0TOekAzMzMTNcx6QDMzMycjynpAZmZmpo3HekDNzMyo+MR6QJqZmYlzw3pAzczMdEXBekDNzMzAfL56QAAAAIRNvHpAAAAAdM26ekBmZmbCWbl6QM3MzESatXpAzczMqNWxekBmZmaaaK56QJqZmXW2qnpAzczMYAimekCamZnVG6N6QGZmZpIQoXpAZmZmrkGeekAzMzOTkpx6QM3MzIzOm3pAMzMzO8KaekDNzMwkaZl6QM3MzFxymHpAMzMzV/GXekCamZn9oZd6QJqZmRVOl3pAZmZmLtKWekAAAAAUY5V6QM3MzOCvlHpA\"},\"shape\":[150],\"dtype\":\"float64\",\"order\":\"little\"}],[\"tipo_vela\",{\"type\":\"ndarray\",\"array\":[null,null,\"Engulfing\",null,null,null,null,null,null,null,null,null,\"Marubozu\",null,null,null,null,null,null,null,null,null,null,null,null,\"Takuri \",null,null,null,null,null,null,null,null,\"Marubozu\",\"Takuri \",null,null,null,\"Harami\",null,null,null,null,null,null,null,null,null,null,null,null,\"Engulfing\",null,null,null,null,null,null,null,\"Takuri \",null,null,null,null,null,null,null,null,null,\"Engulfing\",null,null,null,null,null,null,null,null,null,null,null,null,\"Marubozu\",null,null,null,null,null,null,null,null,null,null,null,null,null,null,null,null,null,null,null,null,null,null,null,\"Engulfing\",null,null,null,null,\"Marubozu\",null,null,null,null,null,null,null,null,null,null,null,null,null,null,\"Takuri \",null,null,\"Marubozu\",null,null,null,null,null,null,null,null,\"Engulfing\",null,null,null,\"Engulfing\",null,null,null,\"Harami\",null,null],\"shape\":[150],\"dtype\":\"object\",\"order\":\"little\"}],[\"pivotHigh\",{\"type\":\"ndarray\",\"array\":{\"type\":\"bytes\",\"data\":\"AAAAAAAA+H8AAAAAAAD4fwAAAAAAAPh/AAAAAAAA+H8AAAAAAAD4fwAAAAAAAPh/AAAAAAAA+H8AAAAAAAD4fwAAAAAAAPh/AAAAAAAA+H8AAAAAAAD4fwAAAAAAAPh/AAAAAAAA+H8AAAAAAAD4fwAAAAAAAPh/AAAAAAAA+H8AAAAAAAD4fwAAAAAAAPh/AAAAAAAA+H8AAAAAAAD4fwAAAAAAAPh/AAAAAAAA+H8AAAAAAAD4fwAAAAAAAPh/vXSTWDcLfEAAAAAAAAD4fwAAAAAAAPh/AAAAAAAA+H8AAAAAAAD4fwAAAAAAAPh/AAAAAAAA+H8AAAAAAAD4fwAAAAAAAPh/AAAAAAAA+H8AAAAAAAD4fwAAAAAAAPh/AAAAAAAA+H8AAAAAAAD4fwAAAAAAAPh/AAAAAAAA+H8AAAAAAAD4fwAAAAAAAPh/AAAAAAAA+H8AAAAAAAD4fwAAAAAAAPh/AAAAAAAA+H+8dJN4aip8QAAAAAAAAPh/AAAAAAAA+H8AAAAAAAD4fwAAAAAAAPh/AAAAAAAA+H8AAAAAAAD4fwAAAAAAAPh/AAAAAAAA+H8AAAAAAAD4fwAAAAAAAPh/AAAAAAAA+H8AAAAAAAD4fwAAAAAAAPh/AAAAAAAA+H8AAAAAAAD4fwAAAAAAAPh/AAAAAAAA+H8AAAAAAAD4fwAAAAAAAPh/AAAAAAAA+H8AAAAAAAD4fwAAAAAAAPh/AAAAAAAA+H+8dJOYxr17QAAAAAAAAPh/AAAAAAAA+H8AAAAAAAD4fwAAAAAAAPh/AAAAAAAA+H8AAAAAAAD4fwAAAAAAAPh/AAAAAAAA+H8AAAAAAAD4fwAAAAAAAPh/AAAAAAAA+H8AAAAAAAD4fwAAAAAAAPh/AAAAAAAA+H8AAAAAAAD4fwAAAAAAAPh/AAAAAAAA+H8AAAAAAAD4fwAAAAAAAPh/AAAAAAAA+H8AAAAAAAD4fwAAAAAAAPh/AAAAAAAA+H8AAAAAAAD4fwAAAAAAAPh/AAAAAAAA+H8AAAAAAAD4fwAAAAAAAPh/AAAAAAAA+H8AAAAAAAD4fwAAAAAAAPh/AAAAAAAA+H8AAAAAAAD4fwAAAAAAAPh/AAAAAAAA+H8AAAAAAAD4fwAAAAAAAPh/AAAAAAAA+H8AAAAAAAD4fwAAAAAAAPh/AAAAAAAA+H8AAAAAAAD4fwAAAAAAAPh/AAAAAAAA+H8AAAAAAAD4fwAAAAAAAPh/vHSTuJ39ekAAAAAAAAD4fwAAAAAAAPh/AAAAAAAA+H8AAAAAAAD4fwAAAAAAAPh/AAAAAAAA+H8AAAAAAAD4fwAAAAAAAPh/AAAAAAAA+H8AAAAAAAD4fwAAAAAAAPh/AAAAAAAA+H8AAAAAAAD4fwAAAAAAAPh/AAAAAAAA+H8AAAAAAAD4fwAAAAAAAPh/AAAAAAAA+H8AAAAAAAD4fwAAAAAAAPh/AAAAAAAA+H8AAAAAAAD4fwAAAAAAAPh/AAAAAAAA+H8AAAAAAAD4fwAAAAAAAPh/AAAAAAAA+H8AAAAAAAD4fwAAAAAAAPh/AAAAAAAA+H8AAAAAAAD4fwAAAAAAAPh/\"},\"shape\":[150],\"dtype\":\"float64\",\"order\":\"little\"}],[\"pivotLow\",{\"type\":\"ndarray\",\"array\":{\"type\":\"bytes\",\"data\":\"AAAAAAAA+H8AAAAAAAD4fwAAAAAAAPh/AAAAAAAA+H8AAAAAAAD4f0WLbCfdrHtAAAAAAAAA+H8AAAAAAAD4fwAAAAAAAPh/AAAAAAAA+H8AAAAAAAD4fwAAAAAAAPh/AAAAAAAA+H8AAAAAAAD4fwAAAAAAAPh/AAAAAAAA+H8AAAAAAAD4fwAAAAAAAPh/AAAAAAAA+H8AAAAAAAD4fwAAAAAAAPh/AAAAAAAA+H8AAAAAAAD4fwAAAAAAAPh/AAAAAAAA+H8AAAAAAAD4fwAAAAAAAPh/AAAAAAAA+H8AAAAAAAD4fwAAAAAAAPh/AAAAAAAA+H9Ei2xnOdZ7QAAAAAAAAPh/AAAAAAAA+H8AAAAAAAD4fwAAAAAAAPh/AAAAAAAA+H8AAAAAAAD4fwAAAAAAAPh/AAAAAAAA+H8AAAAAAAD4fwAAAAAAAPh/AAAAAAAA+H8AAAAAAAD4fwAAAAAAAPh/AAAAAAAA+H8AAAAAAAD4fwAAAAAAAPh/AAAAAAAA+H8AAAAAAAD4fwAAAAAAAPh/AAAAAAAA+H8AAAAAAAD4fwAAAAAAAPh/AAAAAAAA+H8AAAAAAAD4fwAAAAAAAPh/AAAAAAAA+H8AAAAAAAD4fwAAAAAAAPh/AAAAAAAA+H8AAAAAAAD4fwAAAAAAAPh/RItsB66De0AAAAAAAAD4fwAAAAAAAPh/AAAAAAAA+H8AAAAAAAD4fwAAAAAAAPh/AAAAAAAA+H8AAAAAAAD4fwAAAAAAAPh/AAAAAAAA+H8AAAAAAAD4fwAAAAAAAPh/AAAAAAAA+H8AAAAAAAD4fwAAAAAAAPh/AAAAAAAA+H8AAAAAAAD4fwAAAAAAAPh/AAAAAAAA+H8AAAAAAAD4fwAAAAAAAPh/AAAAAAAA+H8AAAAAAAD4fwAAAAAAAPh/AAAAAAAA+H8AAAAAAAD4fwAAAAAAAPh/AAAAAAAA+H8AAAAAAAD4fwAAAAAAAPh/AAAAAAAA+H8AAAAAAAD4fwAAAAAAAPh/AAAAAAAA+H8AAAAAAAD4fwAAAAAAAPh/AAAAAAAA+H8AAAAAAAD4fwAAAAAAAPh/AAAAAAAA+H8AAAAAAAD4fwAAAAAAAPh/AAAAAAAA+H9Ei2znJGx6QAAAAAAAAPh/AAAAAAAA+H8AAAAAAAD4fwAAAAAAAPh/AAAAAAAA+H8AAAAAAAD4fwAAAAAAAPh/AAAAAAAA+H8AAAAAAAD4fwAAAAAAAPh/AAAAAAAA+H8AAAAAAAD4fwAAAAAAAPh/AAAAAAAA+H8AAAAAAAD4fwAAAAAAAPh/AAAAAAAA+H8AAAAAAAD4fwAAAAAAAPh/AAAAAAAA+H8AAAAAAAD4fwAAAAAAAPh/AAAAAAAA+H8AAAAAAAD4fwAAAAAAAPh/AAAAAAAA+H8AAAAAAAD4fwAAAAAAAPh/RYtsJ91CekAAAAAAAAD4fwAAAAAAAPh/AAAAAAAA+H8AAAAAAAD4fwAAAAAAAPh/AAAAAAAA+H8AAAAAAAD4fwAAAAAAAPh/AAAAAAAA+H8AAAAAAAD4fwAAAAAAAPh/AAAAAAAA+H8AAAAAAAD4fwAAAAAAAPh/\"},\"shape\":[150],\"dtype\":\"float64\",\"order\":\"little\"}],[\"isPivot\",{\"type\":\"ndarray\",\"array\":{\"type\":\"bytes\",\"data\":\"AAAAAAAA+H8AAAAAAAD4fwAAAAAAAPh/AAAAAAAA+H8AAAAAAAD4fwAAAAAAAABAAAAAAAAA+H8AAAAAAAD4fwAAAAAAAPh/AAAAAAAA+H8AAAAAAAD4fwAAAAAAAPh/AAAAAAAA+H8AAAAAAAD4fwAAAAAAAPh/AAAAAAAA+H8AAAAAAAD4fwAAAAAAAPh/AAAAAAAA+H8AAAAAAAD4fwAAAAAAAPh/AAAAAAAA+H8AAAAAAAD4fwAAAAAAAPh/AAAAAAAA8D8AAAAAAAD4fwAAAAAAAPh/AAAAAAAA+H8AAAAAAAD4fwAAAAAAAPh/AAAAAAAA+H8AAAAAAAAAQAAAAAAAAPh/AAAAAAAA+H8AAAAAAAD4fwAAAAAAAPh/AAAAAAAA+H8AAAAAAAD4fwAAAAAAAPh/AAAAAAAA+H8AAAAAAAD4fwAAAAAAAPh/AAAAAAAA+H8AAAAAAAD4fwAAAAAAAPh/AAAAAAAA+H8AAAAAAADwPwAAAAAAAPh/AAAAAAAA+H8AAAAAAAD4fwAAAAAAAPh/AAAAAAAA+H8AAAAAAAD4fwAAAAAAAPh/AAAAAAAA+H8AAAAAAAD4fwAAAAAAAPh/AAAAAAAA+H8AAAAAAAD4fwAAAAAAAPh/AAAAAAAA+H8AAAAAAAD4fwAAAAAAAPh/AAAAAAAAAEAAAAAAAAD4fwAAAAAAAPh/AAAAAAAA+H8AAAAAAAD4fwAAAAAAAPh/AAAAAAAA+H8AAAAAAADwPwAAAAAAAPh/AAAAAAAA+H8AAAAAAAD4fwAAAAAAAPh/AAAAAAAA+H8AAAAAAAD4fwAAAAAAAPh/AAAAAAAA+H8AAAAAAAD4fwAAAAAAAPh/AAAAAAAA+H8AAAAAAAD4fwAAAAAAAPh/AAAAAAAA+H8AAAAAAAD4fwAAAAAAAPh/AAAAAAAA+H8AAAAAAAD4fwAAAAAAAPh/AAAAAAAA+H8AAAAAAAD4fwAAAAAAAPh/AAAAAAAA+H8AAAAAAAD4fwAAAAAAAPh/AAAAAAAA+H8AAAAAAAD4fwAAAAAAAPh/AAAAAAAA+H8AAAAAAAD4fwAAAAAAAPh/AAAAAAAA+H8AAAAAAAD4fwAAAAAAAPh/AAAAAAAA+H8AAAAAAAAAQAAAAAAAAPh/AAAAAAAA+H8AAAAAAAD4fwAAAAAAAPh/AAAAAAAA+H8AAAAAAAD4fwAAAAAAAPh/AAAAAAAA+H8AAAAAAAD4fwAAAAAAAPh/AAAAAAAA8D8AAAAAAAD4fwAAAAAAAPh/AAAAAAAA+H8AAAAAAAD4fwAAAAAAAPh/AAAAAAAA+H8AAAAAAAD4fwAAAAAAAPh/AAAAAAAA+H8AAAAAAAD4fwAAAAAAAPh/AAAAAAAA+H8AAAAAAAD4fwAAAAAAAPh/AAAAAAAA+H8AAAAAAAD4fwAAAAAAAPh/AAAAAAAAAEAAAAAAAAD4fwAAAAAAAPh/AAAAAAAA+H8AAAAAAAD4fwAAAAAAAPh/AAAAAAAA+H8AAAAAAAD4fwAAAAAAAPh/AAAAAAAA+H8AAAAAAAD4fwAAAAAAAPh/AAAAAAAA+H8AAAAAAAD4fwAAAAAAAPh/\"},\"shape\":[150],\"dtype\":\"float64\",\"order\":\"little\"}]]}}},\"view\":{\"type\":\"object\",\"name\":\"CDSView\",\"id\":\"p1049\",\"attributes\":{\"filter\":{\"type\":\"object\",\"name\":\"AllIndices\",\"id\":\"p1050\"}}},\"glyph\":{\"type\":\"object\",\"name\":\"Segment\",\"id\":\"p1045\",\"attributes\":{\"x0\":{\"type\":\"field\",\"field\":\"index\"},\"y0\":{\"type\":\"field\",\"field\":\"High\"},\"x1\":{\"type\":\"field\",\"field\":\"index\"},\"y1\":{\"type\":\"field\",\"field\":\"Low\"}}},\"nonselection_glyph\":{\"type\":\"object\",\"name\":\"Segment\",\"id\":\"p1046\",\"attributes\":{\"x0\":{\"type\":\"field\",\"field\":\"index\"},\"y0\":{\"type\":\"field\",\"field\":\"High\"},\"x1\":{\"type\":\"field\",\"field\":\"index\"},\"y1\":{\"type\":\"field\",\"field\":\"Low\"},\"line_alpha\":{\"type\":\"value\",\"value\":0.1}}},\"muted_glyph\":{\"type\":\"object\",\"name\":\"Segment\",\"id\":\"p1047\",\"attributes\":{\"x0\":{\"type\":\"field\",\"field\":\"index\"},\"y0\":{\"type\":\"field\",\"field\":\"High\"},\"x1\":{\"type\":\"field\",\"field\":\"index\"},\"y1\":{\"type\":\"field\",\"field\":\"Low\"},\"line_alpha\":{\"type\":\"value\",\"value\":0.2}}}}},{\"type\":\"object\",\"name\":\"GlyphRenderer\",\"id\":\"p1060\",\"attributes\":{\"data_source\":{\"type\":\"object\",\"name\":\"ColumnDataSource\",\"id\":\"p1051\",\"attributes\":{\"selected\":{\"type\":\"object\",\"name\":\"Selection\",\"id\":\"p1052\",\"attributes\":{\"indices\":[],\"line_indices\":[]}},\"selection_policy\":{\"type\":\"object\",\"name\":\"UnionRenderers\",\"id\":\"p1053\"},\"data\":{\"type\":\"map\",\"entries\":[[\"index\",{\"type\":\"ndarray\",\"array\":{\"type\":\"bytes\",\"data\":\"lAEAAJUBAACdAQAAnwEAAKEBAACiAQAAowEAAKQBAAClAQAApwEAAKgBAACtAQAArgEAALIBAACzAQAAtQEAALcBAAC4AQAAuQEAALoBAAC8AQAAwAEAAMMBAADEAQAAxQEAAMYBAADHAQAAyQEAAM0BAADOAQAAzwEAANEBAADSAQAA0wEAANgBAADZAQAA2wEAANwBAADdAQAA3gEAAN8BAADgAQAA4QEAAOMBAADkAQAA5QEAAOgBAADpAQAA6gEAAOwBAADwAQAA9AEAAPUBAAD3AQAA+AEAAPkBAAD7AQAA/AEAAP0BAAD+AQAAAQIAAAUCAAAIAgAACQIAAAoCAAALAgAADAIAAA0CAAAPAgAAEgIAABQCAAAXAgAAGAIAABoCAAAbAgAAHgIAACECAAAiAgAAJQIAACYCAAAoAgAA\"},\"shape\":[81],\"dtype\":\"int32\",\"order\":\"little\"}],[\"Close\",{\"type\":\"ndarray\",\"array\":{\"type\":\"bytes\",\"data\":\"AAAAYLjOe0AAAAAgws17QAEAAMDMxntAAAAAIFzNe0AAAAAAIul7QAAAAIDC43tAAAAAoCXce0AAAAAgSNV7QAEAAMDMyntAAQAAwMz8e0AAAAAAKfR7QAAAAADXB3xAAAAAAADqe0AAAADg6+17QAAAAIAU2ntAAAAAgMLhe0AAAACA6/V7QAAAAKBc9HtAAAAA4Mfxe0AAAACgmd97QAAAAOBRCHxAAAAA4HogfEAAAAAgrt97QAAAAAAA0HtAAAAAgAbPe0ABAADAHrd7QAAAAOCjtHtAAQAAwMy0e0AAAACgXMd7QAAAAIB8wXtAAAAA4KO4e0AAAACA65l7QAAAAIA9jntAAAAAwPWIe0AAAABAxLx7QAAAAOCjtHtAAAAAAAC6e0AAAACgmal7QAAAAADXjXtAAAAAoHBpe0AAAAAgBCt7QAEAAMDMHHtAAAAAoAoce0AAAAAgXBV7QAAAAIDCAXtAAAAAYI/2ekAAAAAA1xN7QAAAAIA9AntAAAAAAADwekAAAACAFOZ6QAAAACCu73pAAQAAQOG+ekAAAADgeqx6QAAAACCur3pAAAAAAHieekAAAAAA15N6QAAAAKBHrXpAAAAAIFyfekABAADAMoN6QAEAAEDzbHpAAAAA4HqgekAAAAAghcd6QAAAAOB6yHpAAAAAoHDlekAAAAAA1996QAAAAGCP1npAAAAAAAC4ekAAAAAAKaR6QAAAAGCPtnpAAQAAwMyYekAAAAAAs456QAAAAOBRaHpAAAAAwPVYekABAADAHl16QAAAAOBRSHpAAAAA4OlJekABAABA6ml6QAAAACCFZ3pAAQAAwMx2ekAAAAAA1196QAAAAOCjbnpA\"},\"shape\":[81],\"dtype\":\"float64\",\"order\":\"little\"}],[\"High\",{\"type\":\"ndarray\",\"array\":{\"type\":\"bytes\",\"data\":\"AAAAACnge0ABAABACtN7QAAAAKCZ1XtAAQAAwMzYe0AAAACAwvF7QAEAAEBi7ntAAAAAgD3me0AAAAAgheN7QAAAAIDr13tAAAAA4FEMfEAAAACgR/17QAAAAIAUCnxAAQAAwB79e0ABAADAHgd8QAAAACCu73tAAAAAACn0e0AAAACgmfl7QAEAAMAe+XtAAAAAIFz7e0AAAADgevJ7QAAAAKCZEXxAAAAAYI8qfEAAAACgR/V7QAAAAKDW43tAAQAAwB7Ve0AAAACAFNZ7QAEAAEDfwntAAAAAANe/e0AAAAAghc97QAAAAOCjzHtAAAAAoHDFe0AAAAAAALR7QAAAAAAAmntAAAAA4KOQe0AAAADA9cZ7QAAAAADXv3tAAAAAACnAe0AAAAAgXLt7QAAAAAAAvHtAAQAAQOGOe0AAAAAghT97QAEAAEAKN3tAAAAA4FEoe0AAAABgZi57QAAAAOBRHHtAAAAAYGYGe0AAAACgmSF7QAAAAAApHHtAAQAAQAoDe0AAAADgowx7QAAAAKBH/3pAAQAAwB7dekAAAAAgXMt6QAAAACCuv3pAAQAAQDOzekABAABA4aJ6QAAAAGC4unpAAQAAQOGuekAAAACA66F6QAAAAIAUjnpAAAAAgMKpekAAAACg/+N6QAAAAAAp3HpAAAAAoJn9ekAAAACAwvV6QAAAACBa43pAAAAAIIXZekABAABA4bp6QAAAAAAAznpAAAAAoJnJekAAAADgeqx6QAAAAGBmqnpAAAAAgD1yekAAAACgR216QAAAAACPXnpAAAAAgOt1ekAAAACAwoV6QAAAAIDrbXpAAAAAACmUekAAAAAAAHh6QAEAAEAzd3pA\"},\"shape\":[81],\"dtype\":\"float64\",\"order\":\"little\"}],[\"Low\",{\"type\":\"ndarray\",\"array\":{\"type\":\"bytes\",\"data\":\"AAAAoHDNe0AAAADA9bx7QAAAAGC4xntAAQAAQArJe0AAAADgUdx7QAAAAOBN3ntAAAAA4FHYe0ABAADAHtF7QAAAAOB6yHtAAAAAIFzre0ABAADAhOd7QAAAAOBRAHxAAQAAQArne0ABAADAHul7QAAAAIA91ntAAAAA4ETRe0AAAABgZuh7QAAAAOB67HtAAAAA4KPse0ABAADAHtV7QAAAAKBw+3tAAAAAIK4ffEABAADAHtl7QAAAAOB6xHtAAAAAoJnJe0AAAADAS7V7QAAAAOBRsHtAAAAAYLiue0AAAADgesJ7QAAAAAApwHtAAQAAwMyye0AAAACgcJF7QAAAAIDrh3tAAAAAILKDe0AAAABgZrZ7QAAAAAAAtHtAAAAAoEe5e0AAAADgeph7QAAAAADXg3tAAQAAQOFme0AAAAAAKSB7QAAAAGBmGntAAQAAQOEWe0ABAADAHhV7QAAAAAApAHtAAAAAIK7zekAAAADgegp7QAAAACBc/3pAAQAAwMzoekAAAAAA1996QAAAAIDC6XpAAAAAAN6vekAAAAAAKax6QAAAACCFr3pAAQAAwMycekAAAADgUZB6QAAAAACanXpAAAAAACmQekAAAAAAKXx6QAAAAAApbHpAAAAAIK6NekAAAADgo8R6QAAAACCFv3pAAAAA4KPgekABAABA4d56QAAAAAApynpAAAAAAACoekAAAAAAKaB6QAAAAIAUrnpAAAAAIFyPekAAAACAFI56QAAAAIA9ZnpAAAAAANdTekAAAACAwll6QAEAAEDhQnpAAAAAwPVIekABAABACml6QAAAAIA9WnpAAAAAYLhqekABAADAuFJ6QAAAAIDrXXpA\"},\"shape\":[81],\"dtype\":\"float64\",\"order\":\"little\"}],[\"Open\",{\"type\":\"ndarray\",\"array\":{\"type\":\"bytes\",\"data\":\"AQAAQArde0ABAABA4c57QAAAAKBw0XtAAQAAwB7Pe0AAAACAwu17QAAAAKBH6XtAAQAAQOHie0AAAAAAKdx7QAAAAKBw1XtAAQAAQDMHfEABAADAzPx7QAAAAKBwCXxAAQAAQDPve0AAAAAgXAN8QAAAAIDC7XtAAAAAIIXje0AAAAAgrvd7QAAAAAAA9ntAAAAA4Hr0e0AAAACA6/F7QAAAAOAJC3xAAAAAgOslfEAAAAAAKfR7QAAAAAAA4HtAAAAAgOvPe0ABAABA4c57QAEAAEDhtntAAAAAIIW7e0AAAABgZsp7QAAAAKBcx3tAAAAAIIXBe0ABAABA4ap7QAAAAAAAmntAAAAAANeNe0AAAAAAKcB7QAEAAMDMvHtAAAAAoJm9e0AAAACAFLp7QAEAAMAeqXtAAAAAgBSOe0AAAAAghT97QAEAAEAKK3tAAQAAwMwce0AAAAAA1yt7QAAAAKBHFXtAAAAAgMIBe0AAAAAAAB57QAAAAGBmEntAAAAAgD0Ce0AAAACgmQl7QAAAAGBm/npAAAAAoHDRekABAABA4b56QAAAAIDruXpAAAAAIIWvekAAAABgZp56QAAAAKBwsXpAAQAAwB6tekAAAAAghZ96QAEAAEAzg3pAAAAA4FGoekAAAACAFOJ6QAEAAMAe23pAAQAAQDPzekAAAACgmeV6QAAAAAAA4HpAAQAAQOHWekAAAACA67d6QAAAAKBwuXpAAAAAQEDFekAAAACAPZp6QAAAAMD1kHpAAAAA4FFoekABAABAM2d6QAAAAKCZXXpAAQAAwB5hekAAAACAwn96QAAAAIDraXpAAAAAgMKFekAAAABguHZ6QAAAAOCjcnpA\"},\"shape\":[81],\"dtype\":\"float64\",\"order\":\"little\"}],[\"Volume\",{\"type\":\"ndarray\",\"array\":{\"type\":\"bytes\",\"data\":\"TWhvAPiwfAArnWIAp/7DADpGegCkGlMAQpxQABvHVwAUG3MA1lvIAP5dZgCRzmgAm4DKAGuZcgBo6osA4nS+AHk/YQA5a0MAYDlKAFNtmQA+stMAZaBuADlzOwFxWzsBkrF5AI9QfQCw/KMA1nYqAU3XRACi90MAkL18ANdvtQDJUH4A1DxdABaDiABNoEMAPPUvAAQktwDQ1/EAKcITAXuMNgHWj5QAvNB+AFi2eQDi3d4AezF2ARreaQCaEWIA1P6rAJEEPAFlxVIAt+APAfn1ngCW3GIApz6dAKC3pQA7CdcAIj22AEnXpABCbbcATPnQAGownwBVYdIAlhM7AXPFmACYbZIADsHCAOeBvgB7NDIBvMKqAJ+kigDq4F4B9x/jAMeehAAY56AARRsEAYm2cQAvKJEAZiLOAJABlwCs82IA\"},\"shape\":[81],\"dtype\":\"int32\",\"order\":\"little\"}],[\"datetime\",{\"type\":\"ndarray\",\"array\":{\"type\":\"bytes\",\"data\":\"AACM1bGmeEIAAHREtaZ4QgAAHBkLp3hCAADs9hGneEIAACQyU6d4QgAADKFWp3hCAAD0D1qneEIAANx+Xad4QgAAxO1gp3hCAAB89EaoeEIAAGRjSqh4QgAA7I1bqHhCAAA8WpmoeEIAANwVp6h4QgAAxISqqHhCAAD8v+uoeEIAAMyd8qh4QgAAtAz2qHhCAACce/moeEIAAITq/Kh4QgAAvCU+qXhCAABc4UupeEIAAHyLkKl4QgAAZPqTqXhCAABMaZepeEIAADTYmql4QgAAHEeeqXhCAADsJKWpeEIAAHQJkqp4QgAAXHiVqnhCAABE55iqeEIAAHwi2qp4QgAAZJHdqnhCAABMAOGqeEIAADyILKt4QgAAJPcvq3hCAAD01DareEIAANxDOqt4QgAAxLI9q3hCAACsIUGreEIAAPztfqt4QgAA5FyCq3hCAADMy4WreEIAAJypjKt4QgAAhBiQq3hCAABsh5OreEIAAIwx2Kt4QgAAdKDbq3hCAABcD9+reEIAACzt5at4QgAAtNHSrHhCAAC86hqteEIAAKRZHq14QgAAdDclrXhCAABcpiiteEIAAEQVLK14QgAAfFBtrXhCAABkv3CteEIAAEwudK14QgAANJ13rXhCAADs6YGteEIAAPQCyq14QgAArE/UrXhCAAD8GxKueEIAAOSKFa54QgAAzPkYrnhCAAC0aByueEIAAJzXH654QgAAbLUmrnhCAAAMKxCveEIAANwIF694QgAA/LJbr3hCAADkIV+veEIAALT/Za94QgAAnG5pr3hCAAC8GK6veEIAAHRluK94QgAAXNS7r3hCAAB8fgCweEIAAGTtA7B4QgAANMsKsHhC\"},\"shape\":[81],\"dtype\":\"float64\",\"order\":\"little\"}],[\"companyName\",{\"type\":\"ndarray\",\"array\":[\"SPY\",\"SPY\",\"SPY\",\"SPY\",\"SPY\",\"SPY\",\"SPY\",\"SPY\",\"SPY\",\"SPY\",\"SPY\",\"SPY\",\"SPY\",\"SPY\",\"SPY\",\"SPY\",\"SPY\",\"SPY\",\"SPY\",\"SPY\",\"SPY\",\"SPY\",\"SPY\",\"SPY\",\"SPY\",\"SPY\",\"SPY\",\"SPY\",\"SPY\",\"SPY\",\"SPY\",\"SPY\",\"SPY\",\"SPY\",\"SPY\",\"SPY\",\"SPY\",\"SPY\",\"SPY\",\"SPY\",\"SPY\",\"SPY\",\"SPY\",\"SPY\",\"SPY\",\"SPY\",\"SPY\",\"SPY\",\"SPY\",\"SPY\",\"SPY\",\"SPY\",\"SPY\",\"SPY\",\"SPY\",\"SPY\",\"SPY\",\"SPY\",\"SPY\",\"SPY\",\"SPY\",\"SPY\",\"SPY\",\"SPY\",\"SPY\",\"SPY\",\"SPY\",\"SPY\",\"SPY\",\"SPY\",\"SPY\",\"SPY\",\"SPY\",\"SPY\",\"SPY\",\"SPY\",\"SPY\",\"SPY\",\"SPY\",\"SPY\",\"SPY\"],\"shape\":[81],\"dtype\":\"object\",\"order\":\"little\"}],[\"SMA20\",{\"type\":\"ndarray\",\"array\":{\"type\":\"bytes\",\"data\":\"AAAAiFkdfEBmZmZuqxd8QM3MzMTV8XtAZmZmXsfoe0AAAACw+OJ7QAAAAHBD4HtAzczMJJPce0BmZmYG9th7QAAAABBN1XtAMzMz227We0BmZmYWTth7QGZmZo6/5HtAmpmZAajme0BmZmZOUO57QAAAACDz7ntAMzMzk+Lte0DNzMxsKvB7QAAAAEC48XtAzczMNKvze0AAAABwCvR7QDMzM0sE9HtAMzMzK6z5e0CamZkhjv17QM3MzFTB+3tAMzMzcyP5e0BmZmb+ZfZ7QDMzM8OG9HtAzczMbHjwe0AAAADIUuZ7QDMzM1PR5HtAmpmZEXHie0CamZnZPNh7QDMzM8Pj0HtAmpmZuQzJe0BmZmb2bbF7QDMzMzscsHtAAAAA8LGwe0AAAACQzK97QAAAAODZrXtAZmZm7gaqe0AAAACghqJ7QDUzM4vYmXtAzszMpEeRe0DOzMx8hIF7QDUzMyNLeHtAm5mZISBwe0A1MzPT+F17QDUzM0MLVntAAgAAENhMe0BoZmZO+zl7QJqZmTkAEntAMzMz62j9ekBmZmbu1Pd6QM3MzAwv7XpAAAAAIDjoekCamZmBSON6QM3MzIQe2HpAMzMzk0vSekAAAABw8ct6QAAAAABkxXpAMzMzK+u4ekCamZm5ra96QDMzM+tdrHpAmpmZATevekAAAABIGLF6QJqZmfEJs3pAZmZmvlC0ekDNzMykIbV6QAAAAMj8tnpAmpmZ6Sa9ekAAAAAQ47x6QM3MzJzTuHpAmpmZefixekDNzMy8g6d6QAAAALgtoHpAzczMFGuLekCamZnRYoB6QDMzM0tMfHpAAAAAWE50ekCamZlBdXF6QAAAABjjbXpA\"},\"shape\":[81],\"dtype\":\"float64\",\"order\":\"little\"}],[\"SMA40\",{\"type\":\"ndarray\",\"array\":{\"type\":\"bytes\",\"data\":\"mpmZma0XfEDNzMz05xh8QGZmZv5GEXxAAAAABEgNfEAAAADcvQl8QM3MzAQvCHxAMzMznyEGfEBmZmYG3QN8QAAAAFyrAHxAzczMGKD8e0AzMzPP0/p7QJqZmQmb9HtAAAAADAbze0AAAAB0j+17QDMzMz/d63tAmpmZoW3oe0DNzMzIXuZ7QDMzMyNX5XtAZmZmInzke0AzMzPfcOR7QM3MzDAp5ntAmpmZPRvte0DNzMzIx/J7QM3MzBS/8ntAmpmZufPye0BmZmYmW/J7QJqZmfG88XtAAAAAgC3ve0BmZmb+/ux7QJqZmeFt7HtAzczMqLnqe0AzMzNb1+Z7QGZmZt7u43tAmpmZ/cjge0CamZmll9Z7QDMzM9ef1HtAmpmZWZzSe0DNzMw8QtF7QGZmZiYpz3tAMzMzU5vLe0CamZm9iMZ7QM3MzCQlwXtAZmZmNs27e0AzMzPH+rF7QM3MzGRqq3tAmpmZfS6ke0DNzMwM8Y97QDMzM2uriHtAAAAA3OiAe0BmZmaitHV7QM3MzGTmYHtAMzMzu6BLe0CamZlJjkR7QM3MzMRZN3tAmpmZoUEwe0CamZlRtCl7QGZmZj4xHntAMzMzMyIYe0CamZlZ/hB7QAAAAAgeCXtAZmZmNvLzekCamZlJ5Nx6QDMzM2vj1HpAAAAA+IXTekBmZmZqrtF6QDMzM38c0HpAMzMzb0TOekAzMzMTNcx6QGZmZqaNx3pAzczMdEXBekAAAACETbx6QM3MzESatXpAzczMqNWxekCamZl1tqp6QM3MzGAIpnpAZmZmrkGeekAzMzM7wpp6QM3MzCRpmXpAmpmZ/aGXekCamZkVTpd6QAAAABRjlXpA\"},\"shape\":[81],\"dtype\":\"float64\",\"order\":\"little\"}],[\"tipo_vela\",{\"type\":\"ndarray\",\"array\":[null,null,null,null,null,null,null,null,null,null,null,\"Takuri \",null,null,null,null,\"Takuri \",null,null,null,null,null,null,null,null,null,null,null,null,null,null,null,null,null,null,null,null,null,null,null,null,null,null,null,null,null,null,null,null,null,null,null,null,null,null,null,null,null,null,null,null,null,null,null,null,null,null,null,null,null,null,null,null,null,null,null,null,null,null,null,null],\"shape\":[81],\"dtype\":\"object\",\"order\":\"little\"}],[\"pivotHigh\",{\"type\":\"ndarray\",\"array\":{\"type\":\"bytes\",\"data\":\"AAAAAAAA+H8AAAAAAAD4fwAAAAAAAPh/AAAAAAAA+H8AAAAAAAD4fwAAAAAAAPh/AAAAAAAA+H8AAAAAAAD4fwAAAAAAAPh/AAAAAAAA+H8AAAAAAAD4fwAAAAAAAPh/AAAAAAAA+H8AAAAAAAD4fwAAAAAAAPh/AAAAAAAA+H8AAAAAAAD4fwAAAAAAAPh/AAAAAAAA+H8AAAAAAAD4fwAAAAAAAPh/AAAAAAAA+H8AAAAAAAD4fwAAAAAAAPh/AAAAAAAA+H8AAAAAAAD4fwAAAAAAAPh/AAAAAAAA+H8AAAAAAAD4fwAAAAAAAPh/AAAAAAAA+H8AAAAAAAD4fwAAAAAAAPh/AAAAAAAA+H8AAAAAAAD4fwAAAAAAAPh/AAAAAAAA+H8AAAAAAAD4fwAAAAAAAPh/AAAAAAAA+H8AAAAAAAD4fwAAAAAAAPh/AAAAAAAA+H8AAAAAAAD4fwAAAAAAAPh/AAAAAAAA+H8AAAAAAAD4fwAAAAAAAPh/AAAAAAAA+H8AAAAAAAD4fwAAAAAAAPh/AAAAAAAA+H8AAAAAAAD4fwAAAAAAAPh/AAAAAAAA+H8AAAAAAAD4fwAAAAAAAPh/AAAAAAAA+H8AAAAAAAD4fwAAAAAAAPh/AAAAAAAA+H8AAAAAAAD4fwAAAAAAAPh/vHSTuJ39ekAAAAAAAAD4fwAAAAAAAPh/AAAAAAAA+H8AAAAAAAD4fwAAAAAAAPh/AAAAAAAA+H8AAAAAAAD4fwAAAAAAAPh/AAAAAAAA+H8AAAAAAAD4fwAAAAAAAPh/AAAAAAAA+H8AAAAAAAD4fwAAAAAAAPh/AAAAAAAA+H8AAAAAAAD4fwAAAAAAAPh/\"},\"shape\":[81],\"dtype\":\"float64\",\"order\":\"little\"}],[\"pivotLow\",{\"type\":\"ndarray\",\"array\":{\"type\":\"bytes\",\"data\":\"AAAAAAAA+H8AAAAAAAD4fwAAAAAAAPh/AAAAAAAA+H8AAAAAAAD4fwAAAAAAAPh/AAAAAAAA+H8AAAAAAAD4fwAAAAAAAPh/AAAAAAAA+H8AAAAAAAD4fwAAAAAAAPh/AAAAAAAA+H8AAAAAAAD4f0SLbGc51ntAAAAAAAAA+H8AAAAAAAD4fwAAAAAAAPh/AAAAAAAA+H8AAAAAAAD4fwAAAAAAAPh/AAAAAAAA+H8AAAAAAAD4fwAAAAAAAPh/AAAAAAAA+H8AAAAAAAD4fwAAAAAAAPh/AAAAAAAA+H8AAAAAAAD4fwAAAAAAAPh/AAAAAAAA+H8AAAAAAAD4fwAAAAAAAPh/RItsB66De0AAAAAAAAD4fwAAAAAAAPh/AAAAAAAA+H8AAAAAAAD4fwAAAAAAAPh/AAAAAAAA+H8AAAAAAAD4fwAAAAAAAPh/AAAAAAAA+H8AAAAAAAD4fwAAAAAAAPh/AAAAAAAA+H8AAAAAAAD4fwAAAAAAAPh/AAAAAAAA+H8AAAAAAAD4fwAAAAAAAPh/AAAAAAAA+H8AAAAAAAD4fwAAAAAAAPh/AAAAAAAA+H8AAAAAAAD4fwAAAAAAAPh/AAAAAAAA+H8AAAAAAAD4f0SLbOckbHpAAAAAAAAA+H8AAAAAAAD4fwAAAAAAAPh/AAAAAAAA+H8AAAAAAAD4fwAAAAAAAPh/AAAAAAAA+H8AAAAAAAD4fwAAAAAAAPh/AAAAAAAA+H8AAAAAAAD4fwAAAAAAAPh/AAAAAAAA+H8AAAAAAAD4f0WLbCfdQnpAAAAAAAAA+H8AAAAAAAD4fwAAAAAAAPh/AAAAAAAA+H8AAAAAAAD4fwAAAAAAAPh/\"},\"shape\":[81],\"dtype\":\"float64\",\"order\":\"little\"}],[\"isPivot\",{\"type\":\"ndarray\",\"array\":{\"type\":\"bytes\",\"data\":\"AAAAAAAA+H8AAAAAAAD4fwAAAAAAAPh/AAAAAAAA+H8AAAAAAAD4fwAAAAAAAPh/AAAAAAAA+H8AAAAAAAD4fwAAAAAAAPh/AAAAAAAA+H8AAAAAAAD4fwAAAAAAAPh/AAAAAAAA+H8AAAAAAAD4fwAAAAAAAABAAAAAAAAA+H8AAAAAAAD4fwAAAAAAAPh/AAAAAAAA+H8AAAAAAAD4fwAAAAAAAPh/AAAAAAAA+H8AAAAAAAD4fwAAAAAAAPh/AAAAAAAA+H8AAAAAAAD4fwAAAAAAAPh/AAAAAAAA+H8AAAAAAAD4fwAAAAAAAPh/AAAAAAAA+H8AAAAAAAD4fwAAAAAAAPh/AAAAAAAAAEAAAAAAAAD4fwAAAAAAAPh/AAAAAAAA+H8AAAAAAAD4fwAAAAAAAPh/AAAAAAAA+H8AAAAAAAD4fwAAAAAAAPh/AAAAAAAA+H8AAAAAAAD4fwAAAAAAAPh/AAAAAAAA+H8AAAAAAAD4fwAAAAAAAPh/AAAAAAAA+H8AAAAAAAD4fwAAAAAAAPh/AAAAAAAA+H8AAAAAAAD4fwAAAAAAAPh/AAAAAAAA+H8AAAAAAAD4fwAAAAAAAPh/AAAAAAAA+H8AAAAAAAD4fwAAAAAAAABAAAAAAAAA+H8AAAAAAAD4fwAAAAAAAPh/AAAAAAAA8D8AAAAAAAD4fwAAAAAAAPh/AAAAAAAA+H8AAAAAAAD4fwAAAAAAAPh/AAAAAAAA+H8AAAAAAAD4fwAAAAAAAPh/AAAAAAAA+H8AAAAAAAD4fwAAAAAAAABAAAAAAAAA+H8AAAAAAAD4fwAAAAAAAPh/AAAAAAAA+H8AAAAAAAD4fwAAAAAAAPh/\"},\"shape\":[81],\"dtype\":\"float64\",\"order\":\"little\"}]]}}},\"view\":{\"type\":\"object\",\"name\":\"CDSView\",\"id\":\"p1061\",\"attributes\":{\"filter\":{\"type\":\"object\",\"name\":\"AllIndices\",\"id\":\"p1062\"}}},\"glyph\":{\"type\":\"object\",\"name\":\"VBar\",\"id\":\"p1057\",\"attributes\":{\"x\":{\"type\":\"field\",\"field\":\"index\"},\"width\":{\"type\":\"value\",\"value\":0.6},\"bottom\":{\"type\":\"field\",\"field\":\"Open\"},\"top\":{\"type\":\"field\",\"field\":\"Close\"},\"line_color\":{\"type\":\"value\",\"value\":\"red\"},\"fill_color\":{\"type\":\"value\",\"value\":\"red\"}}},\"nonselection_glyph\":{\"type\":\"object\",\"name\":\"VBar\",\"id\":\"p1058\",\"attributes\":{\"x\":{\"type\":\"field\",\"field\":\"index\"},\"width\":{\"type\":\"value\",\"value\":0.6},\"bottom\":{\"type\":\"field\",\"field\":\"Open\"},\"top\":{\"type\":\"field\",\"field\":\"Close\"},\"line_color\":{\"type\":\"value\",\"value\":\"red\"},\"line_alpha\":{\"type\":\"value\",\"value\":0.1},\"fill_color\":{\"type\":\"value\",\"value\":\"red\"},\"fill_alpha\":{\"type\":\"value\",\"value\":0.1},\"hatch_alpha\":{\"type\":\"value\",\"value\":0.1}}},\"muted_glyph\":{\"type\":\"object\",\"name\":\"VBar\",\"id\":\"p1059\",\"attributes\":{\"x\":{\"type\":\"field\",\"field\":\"index\"},\"width\":{\"type\":\"value\",\"value\":0.6},\"bottom\":{\"type\":\"field\",\"field\":\"Open\"},\"top\":{\"type\":\"field\",\"field\":\"Close\"},\"line_color\":{\"type\":\"value\",\"value\":\"red\"},\"line_alpha\":{\"type\":\"value\",\"value\":0.2},\"fill_color\":{\"type\":\"value\",\"value\":\"red\"},\"fill_alpha\":{\"type\":\"value\",\"value\":0.2},\"hatch_alpha\":{\"type\":\"value\",\"value\":0.2}}}}},{\"type\":\"object\",\"name\":\"GlyphRenderer\",\"id\":\"p1072\",\"attributes\":{\"data_source\":{\"type\":\"object\",\"name\":\"ColumnDataSource\",\"id\":\"p1063\",\"attributes\":{\"selected\":{\"type\":\"object\",\"name\":\"Selection\",\"id\":\"p1064\",\"attributes\":{\"indices\":[],\"line_indices\":[]}},\"selection_policy\":{\"type\":\"object\",\"name\":\"UnionRenderers\",\"id\":\"p1065\"},\"data\":{\"type\":\"map\",\"entries\":[[\"index\",{\"type\":\"ndarray\",\"array\":{\"type\":\"bytes\",\"data\":\"lgEAAJcBAACYAQAAmQEAAJoBAACbAQAAnAEAAJ4BAACgAQAApgEAAKkBAACqAQAAqwEAAKwBAACvAQAAsAEAALEBAAC0AQAAtgEAALsBAAC9AQAAvgEAAL8BAADBAQAAwgEAAMgBAADKAQAAywEAAMwBAADQAQAA1AEAANUBAADWAQAA1wEAANoBAADiAQAA5gEAAOcBAADrAQAA7QEAAO4BAADvAQAA8QEAAPIBAADzAQAA9gEAAPoBAAD/AQAAAAIAAAICAAADAgAABAIAAAYCAAAHAgAADgIAABACAAARAgAAEwIAABUCAAAWAgAAGQIAABwCAAAdAgAAHwIAACACAAAjAgAAJAIAACcCAAApAgAA\"},\"shape\":[69],\"dtype\":\"int32\",\"order\":\"little\"}],[\"Close\",{\"type\":\"ndarray\",\"array\":{\"type\":\"bytes\",\"data\":\"AAAAgGHbe0ABAABAM917QAEAAEAz43tAAAAAIK6ze0AAAAAA18N7QAAAAGC40HtAAAAAIFzRe0AAAADA9c57QAAAAKCZ7XtAAAAAACnYe0AAAAAgXPt7QAAAAACRAnxAAAAA4OAGfEAAAACgcAl8QAAAAAC163tAAAAAAAD0e0AAAAAgXAN8QAAAACCu33tAAAAAoJn3e0AAAAAAKeh7QAAAAIDrF3xAAQAAQDMhfEAAAACAwiV8QAEAAMAeJXxAAAAAYGYmfEAAAAAghbt7QAAAAIDrtXtAAQAAQArBe0AAAABgZsp7QAAAAIA9untAAAAA4LWRe0ABAADAzKB7QAAAAAAAqHtAAAAAAACse0ABAADAdL17QAAAACCFKXtAAAAAgBQMe0AAAACA6x17QAAAAKBwCXtAAAAA4HrYekAAAAAgru96QAAAAIA9/npAAAAAgOvvekAAAACA9PB6QAAAACCFA3tAAAAAgD26ekAAAACgcJ16QAAAAIAUhnpAAAAAAACoekAAAACAPaZ6QAEAAEDhxHpAAAAAgBTiekAAAACgmc16QAEAAEAK23pAAAAAoEe5ekAAAABgj6x6QAAAAKBwxXpAAAAAgBSaekAAAABgeJx6QAAAAGCatXpAAQAAQOFmekAAAACA60l6QAAAAGC4WnpAAAAA4FFsekAAAAAA1396QAAAAGC4hnpAAQAAQDOLekAAAABguHJ6QAAAAOB6hHpA\"},\"shape\":[69],\"dtype\":\"float64\",\"order\":\"little\"}],[\"High\",{\"type\":\"ndarray\",\"array\":{\"type\":\"bytes\",\"data\":\"AQAAwB7de0ABAABAM+N7QAAAAGBm5ntAAAAAYGbGe0AAAAAghct7QAAAAMDh0ntAAAAAANfTe0AAAACA69F7QAAAAGCP7ntAAAAAgMLZe0AAAADgevx7QAEAAEAzA3xAAAAAANcHfEABAABAMwt8QAEAAMAe73tAAAAAgD34e0AAAADgegh8QAAAACBc43tAAAAAoEf5e0AAAADgeux7QAAAAOB6IHxAAAAAANcnfEABAABA4Sp8QAAAAKBHMXxAAAAAYGYqfEAAAABgj757QAAAAAApvHtAAAAAoEfBe0AAAADgo8x7QAAAACCuu3tAAQAAwMyUe0ABAABAM6d7QAAAAOCjtHtAAQAAQOGye0AAAACAwr17QAEAAEAKLXtAAAAAwMMRe0AAAABgZh57QAAAACBcE3tAAAAAACnsekAAAAAgrvd6QAAAAOBRAHtAAAAAIK77ekAAAADA4fp6QAAAAOBRBHtAAAAA4FG8ekAAAADgo6B6QAAAAOAJh3pAAAAAwJ+4ekAAAACAKLR6QAAAAMD1xHpAAAAAIK7jekAAAAAgrtF6QAAAAIA93HpAAAAAIIXHekAAAACAjsF6QAAAACCFx3pAAQAAwMycekAAAABgZqJ6QAAAAIDrtXpAAAAAwPVoekABAADAzFh6QAAAAADXW3pAAQAAwMxwekAAAABgj4J6QAAAAADXi3pAAAAA4OCWekAAAAAA13N6QAAAAKBHiXpA\"},\"shape\":[69],\"dtype\":\"float64\",\"order\":\"little\"}],[\"Low\",{\"type\":\"ndarray\",\"array\":{\"type\":\"bytes\",\"data\":\"AAAAoAHNe0AAAACgR9V7QAAAACBc23tAAQAAQOGse0AAAAAAAKx7QAAAAIDCvXtAAQAAQOHEe0AAAACgmcF7QAEAAMDMzHtAAQAAwMzIe0AAAAAghet7QAAAAIDr9XtAAAAAAAAAfEAAAABguAJ8QAAAACCF4XtAAAAAIK7re0AAAAAgXO97QAAAAIDr2XtAAAAAwPXge0AAAACgmd97QAAAAIDCB3xAAAAA4HoQfEAAAAAghR98QAEAAMDMHnxAAAAAgM4hfEABAABAM7N7QAAAAMD1qHtAAAAA4Hqwe0AAAADgo8B7QAEAAMDMsntAAQAAQAp/e0AAAADglZF7QAAAAIAUnntAAAAAACmke0AAAABgj7J7QAAAAADXF3tAAAAAYLj6ekAAAAAAAAx7QAEAAEDh6HpAAAAAIIXLekAAAACAPdJ6QAAAAIDr7XpAAAAAgOvpekAAAAAgrt96QAEAAMAe7XpAAAAAgBSqekAAAACgR5F6QAAAAOCjZHpAAAAAgOuFekAAAACA6416QAEAAMAelXpAAAAA4HrEekAAAABgj7p6QAAAACCFt3pAAAAAYI+eekABAADAHqN6QAAAAGCPnnpAAAAAIFyHekAAAACAPYh6QAAAACDSmXpAAAAAAClMekABAABA4UZ6QAAAAOCjRHpAAAAAoEdJekAAAADA9WR6QAAAAKCZYXpAAQAAQAqDekABAADAzFh6QAAAACBcZ3pA\"},\"shape\":[69],\"dtype\":\"float64\",\"order\":\"little\"}],[\"Open\",{\"type\":\"ndarray\",\"array\":{\"type\":\"bytes\",\"data\":\"AAAAoJnNe0AAAAAgXNt7QAAAACBc3XtAAAAAgMKxe0AAAACA67N7QAEAAEAKw3tAAAAAwPXQe0ABAADAzMZ7QAAAAGBmzntAAQAAwMzKe0AAAABgKfR7QAAAAKBw+3tAAAAA4KMEfEABAABA4QZ8QAAAAGBm6HtAAAAAgMLre0AAAAAAKfR7QAAAAIAU2ntAAAAAANfhe0AAAAAgrt97QAAAAOB6CHxAAAAAAAAYfEABAADAHiF8QAAAAOB6IHxAAAAAwPUkfEAAAADgerR7QAEAAMDMsHtAAAAAgOu1e0ABAABACsF7QAAAAOCjuHtAAAAAwPWIe0AAAAAgrpF7QAAAAOCjoHtAAAAAAACoe0AAAABgZrR7QAAAAOB6HHtAAQAAQDMHe0AAAACAPQx7QAAAAAAA8HpAAAAAYLjSekAAAADgUdh6QAAAAADX73pAAAAAANfvekAAAACgxu96QAEAAMDM8HpAAAAA4HqsekAAAAAA15N6QAEAAMDMbHpAAAAAACmGekAAAAAgh5N6QAAAAIAUpnpAAAAAwPXEekAAAAAghcd6QAAAAIDrzXpAAAAA4FGkekAAAACA66l6QAAAAOCjrHpAAAAAIIWXekAAAABguI56QAAAAGCPnHpAAAAA4FFYekAAAADgUUh6QAAAAIDCSXpAAAAAANdJekAAAADgUWx6QAAAACBcZ3pAAAAAYLiGekAAAAAAAGB6QAAAAOCjbnpA\"},\"shape\":[69],\"dtype\":\"float64\",\"order\":\"little\"}],[\"Volume\",{\"type\":\"ndarray\",\"array\":{\"type\":\"bytes\",\"data\":\"lStfAFMNegBq+owA7JnEAB8qgADZY18A281UAD/YgwDmf5oAUAubAA8xXABgbU8AOZJjAEUxZADGNWoA+qRaAOUwTgAhx64A8FB3ACywjQD74LEA7/WPACTuYADOIosApJfnAEcYlABwvJYAqI9zANURZACJE5QAULFSALM9dgBmrHoA0CaCAG4PRgCu5HIAR8XvAOfiqwDmQ6gAUQPSADLplAAdLHAAayNdAFAInQBGN4IAWpSKAG+JCQGlksEAkDAlAdrT/gAG+LoAK8HYAFD1jwBWPYAANDf4AAgn+AAjqqEAgeeEAPbPpgBEt8IAsWq3AFbTpADuhuUAhWizAIyTjgAvCZkApYfeAHPCewDPg4wA\"},\"shape\":[69],\"dtype\":\"int32\",\"order\":\"little\"}],[\"datetime\",{\"type\":\"ndarray\",\"array\":{\"type\":\"bytes\",\"data\":\"AABcs7imeEIAAEQivKZ4QgAALJG/pnhCAAB8Xf2meEIAAGTMAKd4QgAATDsEp3hCAAA0qgeneEIAAASIDqd4QgAAPMNPp3hCAACsXGSneEIAAEzSTah4QgAANEFRqHhCAAAcsFSoeEIAAAQfWKh4QgAAJMmcqHhCAAAMOKCoeEIAAPSmo6h4QgAArPOtqHhCAADkLu+oeEIAAGxZAKl4QgAApJRBqXhCAACMA0WpeEIAAHRySKl4QgAARFBPqXhCAAAsv1KpeEIAAAS2oal4QgAAvLyHqnhCAACkK4uqeEIAAIyajqp4QgAALFacqnhCAAA0b+SqeEIAABze56p4QgAABE3rqnhCAADsu+6qeEIAAAxmM6t4QgAAtDqJq3hCAAC8U9GreEIAAKTC1Kt4QgAARH7iq3hCAAD8hMiseEIAAOTzy6x4QgAAzGLPrHhCAACcQNaseEIAAISv2ax4QgAAbB7drHhCAACMyCGteEIAACyEL614QgAAHAx7rXhCAAAEe36teEIAADy2v614QgAAJCXDrXhCAAAMlMateEIAANxxza14QgAAxODQrXhCAACERiOueEIAADxNCa94QgAAJLwMr3hCAAD0mROveEIAAMR3Gq94QgAArOYdr3hCAADMkGKveEIAAITdbK94QgAAbExwr3hCAACkh7GveEIAAIz2tK94QgAAREO/r3hCAAAsssKveEIAAExcB7B4QgAAHDoOsHhC\"},\"shape\":[69],\"dtype\":\"float64\",\"order\":\"little\"}],[\"companyName\",{\"type\":\"ndarray\",\"array\":[\"SPY\",\"SPY\",\"SPY\",\"SPY\",\"SPY\",\"SPY\",\"SPY\",\"SPY\",\"SPY\",\"SPY\",\"SPY\",\"SPY\",\"SPY\",\"SPY\",\"SPY\",\"SPY\",\"SPY\",\"SPY\",\"SPY\",\"SPY\",\"SPY\",\"SPY\",\"SPY\",\"SPY\",\"SPY\",\"SPY\",\"SPY\",\"SPY\",\"SPY\",\"SPY\",\"SPY\",\"SPY\",\"SPY\",\"SPY\",\"SPY\",\"SPY\",\"SPY\",\"SPY\",\"SPY\",\"SPY\",\"SPY\",\"SPY\",\"SPY\",\"SPY\",\"SPY\",\"SPY\",\"SPY\",\"SPY\",\"SPY\",\"SPY\",\"SPY\",\"SPY\",\"SPY\",\"SPY\",\"SPY\",\"SPY\",\"SPY\",\"SPY\",\"SPY\",\"SPY\",\"SPY\",\"SPY\",\"SPY\",\"SPY\",\"SPY\",\"SPY\",\"SPY\",\"SPY\",\"SPY\"],\"shape\":[69],\"dtype\":\"object\",\"order\":\"little\"}],[\"SMA20\",{\"type\":\"ndarray\",\"array\":{\"type\":\"bytes\",\"data\":\"AAAAqFQTfEBmZmZGxA98QGZmZv6KCnxAzczMhHYEfEBmZmYWZP97QAAAAKAl+3tAzczMVBj3e0CamZmZzux7QAAAAOgI5ntAZmZmTtfUe0CamZnJldp7QM3MzFyL3HtAAAAA2KDee0AAAABQiuB7QAAAAHAB6HtAzczM1Lzpe0AAAAAAxOx7QDMzM/NA7ntAAAAAiODue0AAAABAAvN7QM3MzNxx9XtAmpmZ+fn2e0CamZlBhfh7QM3MzPQi+3tAMzMzEyj+e0CamZnpt/J7QAAAALgv7XtAMzMz24rqe0BmZma+ceh7QGZmZqaJ3ntAZmZmRunBe0AzMzOTS7t7QAAAAKj5tHtAZmZmJmSye0DNzMxUbbB7QJuZmXmuiXtAzszMFJ5pe0ACAAD4Q2R7QDUzM0u3RHtAm5mZQfkue0AzMzNTryR7QAAAAABMG3tAmpmZ2RoKe0DNzMykFAR7QAAAABgbAntAzczMjETyekAAAABQwN16QAAAAJjSvnpAAAAA+Le7ekAzMzMjP7V6QM3MzOxgsnpAAAAA2LKxekBmZmYu6a16QJqZmQnjq3pAZmZm/oW2ekBmZma+pbd6QDMzM6P1unpAmpmZ6Sa+ekDNzMy8r7x6QJqZmWF0vXpAMzMzeyOtekAAAADA2Zl6QDMzMyPqknpAzczMNBuGekAzMzNbTIN6QJqZmfHneXpAAAAA8Dx4ekAzMzNzfW96QM3MzASwbHpA\"},\"shape\":[69],\"dtype\":\"float64\",\"order\":\"little\"}],[\"SMA40\",{\"type\":\"ndarray\",\"array\":{\"type\":\"bytes\",\"data\":\"AAAARBoafEAzMzN3DRp8QM3MzGTKGXxAZmZmqsAXfEBmZmb+IxZ8QJqZmX3OFHxAAAAA3CsTfEDNzMwQig98QJqZmT18C3xAAAAAmAr+e0AAAACcIPl7QGZmZgLw93tAMzMzjzL3e0AzMzOnivV7QAAAAIiT8XtAzczMlGrwe0BmZmbiTO97QJqZme0k6ntAAAAA/JHne0CamZmNuOR7QDMzM9MD6HtAMzMzq8Lpe0DNzMwMk+t7QJqZmUHx73tAZmZmCmjye0BmZmZufPB7QAAAACAI7ntAAAAApFrte0AzMzP/FO17QM3MzPhG6XtAzczMuMrde0AAAABEN9t7QJqZmd2Q2XtAAAAAJPnXe0CamZmpadN7QGZmZuY/t3tAAAAA7ECde0DNzMxYqJZ7QM3MzLiNe3tAZmZmvopve0AAAABUjmp7QAAAAPj+ZXtAzczMXPpbe0CamZnJDVd7QAAAANxQUntAMzMzg/k9e0BmZmYyryN7QJqZmfHEAXtAMzMzo9n6ekAzMzM79+x6QGZmZnbW5npAzczMiNnhekCamZnp/th6QM3MzBD/1npAMzMzJyPKekDNzMyo+MR6QJqZmYlzw3pAzczMwHy+ekAAAAB0zbp6QGZmZsJZuXpAZmZmmmiuekCamZnVG6N6QGZmZpIQoXpAMzMzk5KcekDNzMyMzpt6QM3MzFxymHpAMzMzV/GXekBmZmYu0pZ6QM3MzOCvlHpA\"},\"shape\":[69],\"dtype\":\"float64\",\"order\":\"little\"}],[\"tipo_vela\",{\"type\":\"ndarray\",\"array\":[\"Engulfing\",null,null,null,null,null,null,null,\"Marubozu\",null,null,null,null,null,null,null,null,null,\"Marubozu\",\"Harami\",null,null,null,null,null,\"Engulfing\",null,null,null,\"Takuri \",null,null,null,null,\"Engulfing\",null,null,\"Marubozu\",null,null,null,null,null,null,null,null,null,\"Engulfing\",null,null,null,\"Marubozu\",null,null,null,null,null,\"Takuri \",null,\"Marubozu\",null,null,null,\"Engulfing\",null,\"Engulfing\",null,\"Harami\",null],\"shape\":[69],\"dtype\":\"object\",\"order\":\"little\"}],[\"pivotHigh\",{\"type\":\"ndarray\",\"array\":{\"type\":\"bytes\",\"data\":\"AAAAAAAA+H8AAAAAAAD4fwAAAAAAAPh/AAAAAAAA+H8AAAAAAAD4fwAAAAAAAPh/AAAAAAAA+H8AAAAAAAD4fwAAAAAAAPh/AAAAAAAA+H8AAAAAAAD4fwAAAAAAAPh/AAAAAAAA+H+9dJNYNwt8QAAAAAAAAPh/AAAAAAAA+H8AAAAAAAD4fwAAAAAAAPh/AAAAAAAA+H8AAAAAAAD4fwAAAAAAAPh/AAAAAAAA+H8AAAAAAAD4fwAAAAAAAPh/vHSTeGoqfEAAAAAAAAD4fwAAAAAAAPh/AAAAAAAA+H8AAAAAAAD4fwAAAAAAAPh/AAAAAAAA+H8AAAAAAAD4fwAAAAAAAPh/AAAAAAAA+H+8dJOYxr17QAAAAAAAAPh/AAAAAAAA+H8AAAAAAAD4fwAAAAAAAPh/AAAAAAAA+H8AAAAAAAD4fwAAAAAAAPh/AAAAAAAA+H8AAAAAAAD4fwAAAAAAAPh/AAAAAAAA+H8AAAAAAAD4fwAAAAAAAPh/AAAAAAAA+H8AAAAAAAD4fwAAAAAAAPh/AAAAAAAA+H8AAAAAAAD4fwAAAAAAAPh/AAAAAAAA+H8AAAAAAAD4fwAAAAAAAPh/AAAAAAAA+H8AAAAAAAD4fwAAAAAAAPh/AAAAAAAA+H8AAAAAAAD4fwAAAAAAAPh/AAAAAAAA+H8AAAAAAAD4fwAAAAAAAPh/AAAAAAAA+H8AAAAAAAD4fwAAAAAAAPh/\"},\"shape\":[69],\"dtype\":\"float64\",\"order\":\"little\"}],[\"pivotLow\",{\"type\":\"ndarray\",\"array\":{\"type\":\"bytes\",\"data\":\"AAAAAAAA+H8AAAAAAAD4fwAAAAAAAPh/RYtsJ92se0AAAAAAAAD4fwAAAAAAAPh/AAAAAAAA+H8AAAAAAAD4fwAAAAAAAPh/AAAAAAAA+H8AAAAAAAD4fwAAAAAAAPh/AAAAAAAA+H8AAAAAAAD4fwAAAAAAAPh/AAAAAAAA+H8AAAAAAAD4fwAAAAAAAPh/AAAAAAAA+H8AAAAAAAD4fwAAAAAAAPh/AAAAAAAA+H8AAAAAAAD4fwAAAAAAAPh/AAAAAAAA+H8AAAAAAAD4fwAAAAAAAPh/AAAAAAAA+H8AAAAAAAD4fwAAAAAAAPh/AAAAAAAA+H8AAAAAAAD4fwAAAAAAAPh/AAAAAAAA+H8AAAAAAAD4fwAAAAAAAPh/AAAAAAAA+H8AAAAAAAD4fwAAAAAAAPh/AAAAAAAA+H8AAAAAAAD4fwAAAAAAAPh/AAAAAAAA+H8AAAAAAAD4fwAAAAAAAPh/AAAAAAAA+H8AAAAAAAD4fwAAAAAAAPh/AAAAAAAA+H8AAAAAAAD4fwAAAAAAAPh/AAAAAAAA+H8AAAAAAAD4fwAAAAAAAPh/AAAAAAAA+H8AAAAAAAD4fwAAAAAAAPh/AAAAAAAA+H8AAAAAAAD4fwAAAAAAAPh/AAAAAAAA+H8AAAAAAAD4fwAAAAAAAPh/AAAAAAAA+H8AAAAAAAD4fwAAAAAAAPh/AAAAAAAA+H8AAAAAAAD4fwAAAAAAAPh/\"},\"shape\":[69],\"dtype\":\"float64\",\"order\":\"little\"}],[\"isPivot\",{\"type\":\"ndarray\",\"array\":{\"type\":\"bytes\",\"data\":\"AAAAAAAA+H8AAAAAAAD4fwAAAAAAAPh/AAAAAAAAAEAAAAAAAAD4fwAAAAAAAPh/AAAAAAAA+H8AAAAAAAD4fwAAAAAAAPh/AAAAAAAA+H8AAAAAAAD4fwAAAAAAAPh/AAAAAAAA+H8AAAAAAADwPwAAAAAAAPh/AAAAAAAA+H8AAAAAAAD4fwAAAAAAAPh/AAAAAAAA+H8AAAAAAAD4fwAAAAAAAPh/AAAAAAAA+H8AAAAAAAD4fwAAAAAAAPh/AAAAAAAA8D8AAAAAAAD4fwAAAAAAAPh/AAAAAAAA+H8AAAAAAAD4fwAAAAAAAPh/AAAAAAAA+H8AAAAAAAD4fwAAAAAAAPh/AAAAAAAA+H8AAAAAAADwPwAAAAAAAPh/AAAAAAAA+H8AAAAAAAD4fwAAAAAAAPh/AAAAAAAA+H8AAAAAAAD4fwAAAAAAAPh/AAAAAAAA+H8AAAAAAAD4fwAAAAAAAPh/AAAAAAAA+H8AAAAAAAD4fwAAAAAAAPh/AAAAAAAA+H8AAAAAAAD4fwAAAAAAAPh/AAAAAAAA+H8AAAAAAAD4fwAAAAAAAPh/AAAAAAAA+H8AAAAAAAD4fwAAAAAAAPh/AAAAAAAA+H8AAAAAAAD4fwAAAAAAAPh/AAAAAAAA+H8AAAAAAAD4fwAAAAAAAPh/AAAAAAAA+H8AAAAAAAD4fwAAAAAAAPh/AAAAAAAA+H8AAAAAAAD4fwAAAAAAAPh/\"},\"shape\":[69],\"dtype\":\"float64\",\"order\":\"little\"}]]}}},\"view\":{\"type\":\"object\",\"name\":\"CDSView\",\"id\":\"p1073\",\"attributes\":{\"filter\":{\"type\":\"object\",\"name\":\"AllIndices\",\"id\":\"p1074\"}}},\"glyph\":{\"type\":\"object\",\"name\":\"VBar\",\"id\":\"p1069\",\"attributes\":{\"x\":{\"type\":\"field\",\"field\":\"index\"},\"width\":{\"type\":\"value\",\"value\":0.6},\"bottom\":{\"type\":\"field\",\"field\":\"Open\"},\"top\":{\"type\":\"field\",\"field\":\"Close\"},\"line_color\":{\"type\":\"value\",\"value\":\"green\"},\"fill_color\":{\"type\":\"value\",\"value\":\"green\"}}},\"nonselection_glyph\":{\"type\":\"object\",\"name\":\"VBar\",\"id\":\"p1070\",\"attributes\":{\"x\":{\"type\":\"field\",\"field\":\"index\"},\"width\":{\"type\":\"value\",\"value\":0.6},\"bottom\":{\"type\":\"field\",\"field\":\"Open\"},\"top\":{\"type\":\"field\",\"field\":\"Close\"},\"line_color\":{\"type\":\"value\",\"value\":\"green\"},\"line_alpha\":{\"type\":\"value\",\"value\":0.1},\"fill_color\":{\"type\":\"value\",\"value\":\"green\"},\"fill_alpha\":{\"type\":\"value\",\"value\":0.1},\"hatch_alpha\":{\"type\":\"value\",\"value\":0.1}}},\"muted_glyph\":{\"type\":\"object\",\"name\":\"VBar\",\"id\":\"p1071\",\"attributes\":{\"x\":{\"type\":\"field\",\"field\":\"index\"},\"width\":{\"type\":\"value\",\"value\":0.6},\"bottom\":{\"type\":\"field\",\"field\":\"Open\"},\"top\":{\"type\":\"field\",\"field\":\"Close\"},\"line_color\":{\"type\":\"value\",\"value\":\"green\"},\"line_alpha\":{\"type\":\"value\",\"value\":0.2},\"fill_color\":{\"type\":\"value\",\"value\":\"green\"},\"fill_alpha\":{\"type\":\"value\",\"value\":0.2},\"hatch_alpha\":{\"type\":\"value\",\"value\":0.2}}}}},{\"type\":\"object\",\"name\":\"GlyphRenderer\",\"id\":\"p1084\",\"attributes\":{\"data_source\":{\"type\":\"object\",\"name\":\"ColumnDataSource\",\"id\":\"p1075\",\"attributes\":{\"selected\":{\"type\":\"object\",\"name\":\"Selection\",\"id\":\"p1076\",\"attributes\":{\"indices\":[],\"line_indices\":[]}},\"selection_policy\":{\"type\":\"object\",\"name\":\"UnionRenderers\",\"id\":\"p1077\"},\"data\":{\"type\":\"map\",\"entries\":[[\"index\",{\"type\":\"ndarray\",\"array\":{\"type\":\"bytes\",\"data\":\"lAEAAJUBAACWAQAAlwEAAJgBAACZAQAAmgEAAJsBAACcAQAAnQEAAJ4BAACfAQAAoAEAAKEBAACiAQAAowEAAKQBAAClAQAApgEAAKcBAACoAQAAqQEAAKoBAACrAQAArAEAAK0BAACuAQAArwEAALABAACxAQAAsgEAALMBAAC0AQAAtQEAALYBAAC3AQAAuAEAALkBAAC6AQAAuwEAALwBAAC9AQAAvgEAAL8BAADAAQAAwQEAAMIBAADDAQAAxAEAAMUBAADGAQAAxwEAAMgBAADJAQAAygEAAMsBAADMAQAAzQEAAM4BAADPAQAA0AEAANEBAADSAQAA0wEAANQBAADVAQAA1gEAANcBAADYAQAA2QEAANoBAADbAQAA3AEAAN0BAADeAQAA3wEAAOABAADhAQAA4gEAAOMBAADkAQAA5QEAAOYBAADnAQAA6AEAAOkBAADqAQAA6wEAAOwBAADtAQAA7gEAAO8BAADwAQAA8QEAAPIBAADzAQAA9AEAAPUBAAD2AQAA9wEAAPgBAAD5AQAA+gEAAPsBAAD8AQAA/QEAAP4BAAD/AQAAAAIAAAECAAACAgAAAwIAAAQCAAAFAgAABgIAAAcCAAAIAgAACQIAAAoCAAALAgAADAIAAA0CAAAOAgAADwIAABACAAARAgAAEgIAABMCAAAUAgAAFQIAABYCAAAXAgAAGAIAABkCAAAaAgAAGwIAABwCAAAdAgAAHgIAAB8CAAAgAgAAIQIAACICAAAjAgAAJAIAACUCAAAmAgAAJwIAACgCAAApAgAA\"},\"shape\":[150],\"dtype\":\"int32\",\"order\":\"little\"}],[\"Close\",{\"type\":\"ndarray\",\"array\":{\"type\":\"bytes\",\"data\":\"AAAAYLjOe0AAAAAgws17QAAAAIBh23tAAQAAQDPde0ABAABAM+N7QAAAACCus3tAAAAAANfDe0AAAABguNB7QAAAACBc0XtAAQAAwMzGe0AAAADA9c57QAAAACBczXtAAAAAoJnte0AAAAAAIul7QAAAAIDC43tAAAAAoCXce0AAAAAgSNV7QAEAAMDMyntAAAAAACnYe0ABAADAzPx7QAAAAAAp9HtAAAAAIFz7e0AAAAAAkQJ8QAAAAODgBnxAAAAAoHAJfEAAAAAA1wd8QAAAAAAA6ntAAAAAALXre0AAAAAAAPR7QAAAACBcA3xAAAAA4Ovte0AAAACAFNp7QAAAACCu33tAAAAAgMLhe0AAAACgmfd7QAAAAIDr9XtAAAAAoFz0e0AAAADgx/F7QAAAAKCZ33tAAAAAACnoe0AAAADgUQh8QAAAAIDrF3xAAQAAQDMhfEAAAACAwiV8QAAAAOB6IHxAAQAAwB4lfEAAAABgZiZ8QAAAACCu33tAAAAAAADQe0AAAACABs97QAEAAMAet3tAAAAA4KO0e0AAAAAghbt7QAEAAMDMtHtAAAAAgOu1e0ABAABACsF7QAAAAGBmyntAAAAAoFzHe0AAAACAfMF7QAAAAOCjuHtAAAAAgD26e0AAAACA65l7QAAAAIA9jntAAAAAwPWIe0AAAADgtZF7QAEAAMDMoHtAAAAAAACoe0AAAAAAAKx7QAAAAEDEvHtAAAAA4KO0e0ABAADAdL17QAAAAAAAuntAAAAAoJmpe0AAAAAA1417QAAAAKBwaXtAAAAAIAQre0ABAADAzBx7QAAAAKAKHHtAAAAAIIUpe0AAAAAgXBV7QAAAAIDCAXtAAAAAYI/2ekAAAACAFAx7QAAAAIDrHXtAAAAAANcTe0AAAACAPQJ7QAAAAAAA8HpAAAAAoHAJe0AAAACAFOZ6QAAAAOB62HpAAAAAIK7vekAAAACAPf56QAAAACCu73pAAAAAgOvvekAAAACA9PB6QAAAACCFA3tAAQAAQOG+ekAAAADgeqx6QAAAAIA9unpAAAAAIK6vekAAAAAAeJ56QAAAAADXk3pAAAAAoHCdekAAAACgR616QAAAACBcn3pAAQAAwDKDekABAABA82x6QAAAAIAUhnpAAAAAAACoekAAAADgeqB6QAAAAIA9pnpAAQAAQOHEekAAAACAFOJ6QAAAACCFx3pAAAAAoJnNekABAABACtt6QAAAAOB6yHpAAAAAoHDlekAAAAAA1996QAAAAGCP1npAAAAAAAC4ekAAAAAAKaR6QAAAAKBHuXpAAAAAYI+2ekAAAABgj6x6QAAAAKBwxXpAAQAAwMyYekAAAACAFJp6QAAAAACzjnpAAAAAYHicekAAAABgmrV6QAAAAOBRaHpAAAAAwPVYekABAABA4WZ6QAEAAMAeXXpAAAAA4FFIekAAAACA60l6QAAAAGC4WnpAAAAA4OlJekAAAADgUWx6QAAAAADXf3pAAQAAQOppekAAAAAghWd6QAAAAGC4hnpAAQAAQDOLekABAADAzHZ6QAAAAADXX3pAAAAAYLhyekAAAADgo256QAAAAOB6hHpA\"},\"shape\":[150],\"dtype\":\"float64\",\"order\":\"little\"}],[\"High\",{\"type\":\"ndarray\",\"array\":{\"type\":\"bytes\",\"data\":\"AAAAACnge0ABAABACtN7QAEAAMAe3XtAAQAAQDPje0AAAABgZuZ7QAAAAGBmxntAAAAAIIXLe0AAAADA4dJ7QAAAAADX03tAAAAAoJnVe0AAAACA69F7QAEAAMDM2HtAAAAAYI/ue0AAAACAwvF7QAEAAEBi7ntAAAAAgD3me0AAAAAgheN7QAAAAIDr13tAAAAAgMLZe0AAAADgUQx8QAAAAKBH/XtAAAAA4Hr8e0ABAABAMwN8QAAAAADXB3xAAQAAQDMLfEAAAACAFAp8QAEAAMAe/XtAAQAAwB7ve0AAAACAPfh7QAAAAOB6CHxAAQAAwB4HfEAAAAAgru97QAAAACBc43tAAAAAACn0e0AAAACgR/l7QAAAAKCZ+XtAAQAAwB75e0AAAAAgXPt7QAAAAOB68ntAAAAA4Hrse0AAAACgmRF8QAAAAOB6IHxAAAAAANcnfEABAABA4Sp8QAAAAGCPKnxAAAAAoEcxfEAAAABgZip8QAAAAKBH9XtAAAAAoNbje0ABAADAHtV7QAAAAIAU1ntAAQAAQN/Ce0AAAABgj757QAAAAADXv3tAAAAAACm8e0AAAACgR8F7QAAAAOCjzHtAAAAAIIXPe0AAAADgo8x7QAAAAKBwxXtAAAAAIK67e0AAAAAAALR7QAAAAAAAmntAAAAA4KOQe0ABAADAzJR7QAEAAEAzp3tAAAAA4KO0e0ABAABA4bJ7QAAAAMD1xntAAAAAANe/e0AAAACAwr17QAAAAAApwHtAAAAAIFy7e0AAAAAAALx7QAEAAEDhjntAAAAAIIU/e0ABAABACjd7QAAAAOBRKHtAAQAAQAote0AAAABgZi57QAAAAOBRHHtAAAAAYGYGe0AAAADAwxF7QAAAAGBmHntAAAAAoJkhe0AAAAAAKRx7QAEAAEAKA3tAAAAAIFwTe0AAAADgowx7QAAAAAAp7HpAAAAAIK73ekAAAADgUQB7QAAAAKBH/3pAAAAAIK77ekAAAADA4fp6QAAAAOBRBHtAAQAAwB7dekAAAAAgXMt6QAAAAOBRvHpAAAAAIK6/ekABAABAM7N6QAEAAEDhonpAAAAA4KOgekAAAABguLp6QAEAAEDhrnpAAAAAgOuhekAAAACAFI56QAAAAOAJh3pAAAAAwJ+4ekAAAACAwql6QAAAAIAotHpAAAAAwPXEekAAAAAgruN6QAAAAKD/43pAAAAAIK7RekAAAACAPdx6QAAAAAAp3HpAAAAAoJn9ekAAAACAwvV6QAAAACBa43pAAAAAIIXZekABAABA4bp6QAAAACCFx3pAAAAAAADOekAAAACAjsF6QAAAACCFx3pAAAAAoJnJekABAADAzJx6QAAAAOB6rHpAAAAAYGaiekAAAACA67V6QAAAAGBmqnpAAAAAgD1yekAAAADA9Wh6QAAAAKBHbXpAAAAAAI9eekABAADAzFh6QAAAAADXW3pAAAAAgOt1ekABAADAzHB6QAAAAGCPgnpAAAAAgMKFekAAAACA6216QAAAAADXi3pAAAAA4OCWekAAAAAAKZR6QAAAAAAAeHpAAAAAANdzekABAABAM3d6QAAAAKBHiXpA\"},\"shape\":[150],\"dtype\":\"float64\",\"order\":\"little\"}],[\"Low\",{\"type\":\"ndarray\",\"array\":{\"type\":\"bytes\",\"data\":\"AAAAoHDNe0AAAADA9bx7QAAAAKABzXtAAAAAoEfVe0AAAAAgXNt7QAEAAEDhrHtAAAAAAACse0AAAACAwr17QAEAAEDhxHtAAAAAYLjGe0AAAACgmcF7QAEAAEAKyXtAAQAAwMzMe0AAAADgUdx7QAAAAOBN3ntAAAAA4FHYe0ABAADAHtF7QAAAAOB6yHtAAQAAwMzIe0AAAAAgXOt7QAEAAMCE53tAAAAAIIXre0AAAACA6/V7QAAAAAAAAHxAAAAAYLgCfEAAAADgUQB8QAEAAEAK53tAAAAAIIXhe0AAAAAgrut7QAAAACBc73tAAQAAwB7pe0AAAACAPdZ7QAAAAIDr2XtAAAAA4ETRe0AAAADA9eB7QAAAAGBm6HtAAAAA4Hrse0AAAADgo+x7QAEAAMAe1XtAAAAAoJnfe0AAAACgcPt7QAAAAIDCB3xAAAAA4HoQfEAAAAAghR98QAAAACCuH3xAAQAAwMwefEAAAACAziF8QAEAAMAe2XtAAAAA4HrEe0AAAACgmcl7QAAAAMBLtXtAAAAA4FGwe0ABAABAM7N7QAAAAGC4rntAAAAAwPWoe0AAAADgerB7QAAAAOCjwHtAAAAA4HrCe0AAAAAAKcB7QAEAAMDMsntAAQAAwMyye0AAAACgcJF7QAAAAIDrh3tAAAAAILKDe0ABAABACn97QAAAAOCVkXtAAAAAgBSee0AAAAAAKaR7QAAAAGBmtntAAAAAAAC0e0AAAABgj7J7QAAAAKBHuXtAAAAA4HqYe0AAAAAA14N7QAEAAEDhZntAAAAAACkge0AAAABgZhp7QAEAAEDhFntAAAAAANcXe0ABAADAHhV7QAAAAAApAHtAAAAAIK7zekAAAABguPp6QAAAAAAADHtAAAAA4HoKe0AAAAAgXP96QAEAAMDM6HpAAQAAQOHoekAAAAAA1996QAAAACCFy3pAAAAAgD3SekAAAACA6+16QAAAAIDC6XpAAAAAgOvpekAAAAAgrt96QAEAAMAe7XpAAAAAAN6vekAAAAAAKax6QAAAAIAUqnpAAAAAIIWvekABAADAzJx6QAAAAOBRkHpAAAAAoEeRekAAAAAAmp16QAAAAAApkHpAAAAAACl8ekAAAAAAKWx6QAAAAOCjZHpAAAAAgOuFekAAAAAgro16QAAAAIDrjXpAAQAAwB6VekAAAADgesR6QAAAAOCjxHpAAAAAYI+6ekAAAAAghbd6QAAAACCFv3pAAAAA4KPgekABAABA4d56QAAAAAApynpAAAAAAACoekAAAAAAKaB6QAAAAGCPnnpAAAAAgBSuekABAADAHqN6QAAAAGCPnnpAAAAAIFyPekAAAAAgXId6QAAAAIAUjnpAAAAAgD2IekAAAAAg0pl6QAAAAIA9ZnpAAAAAANdTekAAAAAAKUx6QAAAAIDCWXpAAQAAQOFCekABAABA4UZ6QAAAAOCjRHpAAAAAwPVIekAAAACgR0l6QAAAAMD1ZHpAAQAAQAppekAAAACAPVp6QAAAAKCZYXpAAQAAQAqDekAAAABguGp6QAEAAMC4UnpAAQAAwMxYekAAAACA6116QAAAACBcZ3pA\"},\"shape\":[150],\"dtype\":\"float64\",\"order\":\"little\"}],[\"Open\",{\"type\":\"ndarray\",\"array\":{\"type\":\"bytes\",\"data\":\"AQAAQArde0ABAABA4c57QAAAAKCZzXtAAAAAIFzbe0AAAAAgXN17QAAAAIDCsXtAAAAAgOuze0ABAABACsN7QAAAAMD10HtAAAAAoHDRe0ABAADAzMZ7QAEAAMAez3tAAAAAYGbOe0AAAACAwu17QAAAAKBH6XtAAQAAQOHie0AAAAAAKdx7QAAAAKBw1XtAAQAAwMzKe0ABAABAMwd8QAEAAMDM/HtAAAAAYCn0e0AAAACgcPt7QAAAAOCjBHxAAQAAQOEGfEAAAACgcAl8QAEAAEAz73tAAAAAYGboe0AAAACAwut7QAAAAAAp9HtAAAAAIFwDfEAAAACAwu17QAAAAIAU2ntAAAAAIIXje0AAAAAA1+F7QAAAACCu93tAAAAAAAD2e0AAAADgevR7QAAAAIDr8XtAAAAAIK7fe0AAAADgCQt8QAAAAOB6CHxAAAAAAAAYfEABAADAHiF8QAAAAIDrJXxAAAAA4HogfEAAAADA9SR8QAAAAAAp9HtAAAAAAADge0AAAACA6897QAEAAEDhzntAAQAAQOG2e0AAAADgerR7QAAAACCFu3tAAQAAwMywe0AAAACA67V7QAEAAEAKwXtAAAAAYGbKe0AAAACgXMd7QAAAACCFwXtAAAAA4KO4e0ABAABA4ap7QAAAAAAAmntAAAAAANeNe0AAAADA9Yh7QAAAACCukXtAAAAA4KOge0AAAAAAAKh7QAAAAAApwHtAAQAAwMy8e0AAAABgZrR7QAAAAKCZvXtAAAAAgBS6e0ABAADAHql7QAAAAIAUjntAAAAAIIU/e0ABAABACit7QAEAAMDMHHtAAAAA4Hoce0AAAAAA1yt7QAAAAKBHFXtAAAAAgMIBe0ABAABAMwd7QAAAAIA9DHtAAAAAAAAee0AAAABgZhJ7QAAAAIA9AntAAAAAAADwekAAAACgmQl7QAAAAGC40npAAAAA4FHYekAAAAAA1+96QAAAAGBm/npAAAAAANfvekAAAACgxu96QAEAAMDM8HpAAAAAoHDRekABAABA4b56QAAAAOB6rHpAAAAAgOu5ekAAAAAgha96QAAAAGBmnnpAAAAAANeTekAAAACgcLF6QAEAAMAerXpAAAAAIIWfekABAABAM4N6QAEAAMDMbHpAAAAAACmGekAAAADgUah6QAAAACCHk3pAAAAAgBSmekAAAADA9cR6QAAAAIAU4npAAAAAIIXHekAAAACA6816QAEAAMAe23pAAQAAQDPzekAAAACgmeV6QAAAAAAA4HpAAQAAQOHWekAAAACA67d6QAAAAOBRpHpAAAAAoHC5ekAAAACA66l6QAAAAOCjrHpAAAAAQEDFekAAAAAghZd6QAAAAIA9mnpAAAAAYLiOekAAAABgj5x6QAAAAMD1kHpAAAAA4FFoekAAAADgUVh6QAEAAEAzZ3pAAAAAoJldekAAAADgUUh6QAAAAIDCSXpAAQAAwB5hekAAAAAA10l6QAAAAOBRbHpAAAAAgMJ/ekAAAACA62l6QAAAACBcZ3pAAAAAYLiGekAAAACAwoV6QAAAAGC4dnpAAAAAAABgekAAAADgo3J6QAAAAOCjbnpA\"},\"shape\":[150],\"dtype\":\"float64\",\"order\":\"little\"}],[\"Volume\",{\"type\":\"ndarray\",\"array\":{\"type\":\"bytes\",\"data\":\"TWhvAPiwfACVK18AUw16AGr6jADsmcQAHyqAANljXwDbzVQAK51iAD/YgwCn/sMA5n+aADpGegCkGlMAQpxQABvHVwAUG3MAUAubANZbyAD+XWYADzFcAGBtTwA5kmMARTFkAJHOaACbgMoAxjVqAPqkWgDlME4Aa5lyAGjqiwAhx64A4nS+APBQdwB5P2EAOWtDAGA5SgBTbZkALLCNAD6y0wD74LEA7/WPACTuYABloG4AziKLAKSX5wA5czsBcVs7AZKxeQCPUH0AsPyjAEcYlADWdioBcLyWAKiPcwDVEWQATddEAKL3QwCQvXwAiROUANdvtQDJUH4A1DxdAFCxUgCzPXYAZqx6ANAmggAWg4gATaBDAG4PRgA89S8ABCS3ANDX8QApwhMBe4w2AdaPlAC80H4AruRyAFi2eQDi3d4AezF2AUfF7wDn4qsAGt5pAJoRYgDU/qsA5kOoAJEEPAFRA9IAMumUAB0scABlxVIAayNdAFAInQBGN4IAt+APAfn1ngBalIoAltxiAKc+nQCgt6UAb4kJATsJ1wAiPbYASdekAEJttwClksEAkDAlAUz50ADa0/4ABvi6ACvB2ABqMJ8AUPWPAFY9gABVYdIAlhM7AXPFmACYbZIADsHCAOeBvgA0N/gAezQyAQgn+AAjqqEAvMKqAIHnhACfpIoA9s+mAES3wgDq4F4B9x/jALFqtwDHnoQAGOegAFbTpADuhuUARRsEAYVoswCMk44AibZxAC8okQAvCZkApYfeAGYizgCQAZcAc8J7AKzzYgDPg4wA\"},\"shape\":[150],\"dtype\":\"int32\",\"order\":\"little\"}],[\"datetime\",{\"type\":\"ndarray\",\"array\":{\"type\":\"bytes\",\"data\":\"AACM1bGmeEIAAHREtaZ4QgAAXLO4pnhCAABEIrymeEIAACyRv6Z4QgAAfF39pnhCAABkzACneEIAAEw7BKd4QgAANKoHp3hCAAAcGQuneEIAAASIDqd4QgAA7PYRp3hCAAA8w0+neEIAACQyU6d4QgAADKFWp3hCAAD0D1qneEIAANx+Xad4QgAAxO1gp3hCAACsXGSneEIAAHz0Rqh4QgAAZGNKqHhCAABM0k2oeEIAADRBUah4QgAAHLBUqHhCAAAEH1ioeEIAAOyNW6h4QgAAPFqZqHhCAAAkyZyoeEIAAAw4oKh4QgAA9KajqHhCAADcFaeoeEIAAMSEqqh4QgAArPOtqHhCAAD8v+uoeEIAAOQu76h4QgAAzJ3yqHhCAAC0DPaoeEIAAJx7+ah4QgAAhOr8qHhCAABsWQCpeEIAALwlPql4QgAApJRBqXhCAACMA0WpeEIAAHRySKl4QgAAXOFLqXhCAABEUE+peEIAACy/Uql4QgAAfIuQqXhCAABk+pOpeEIAAExpl6l4QgAANNiaqXhCAAAcR56peEIAAAS2oal4QgAA7CSlqXhCAAC8vIeqeEIAAKQri6p4QgAAjJqOqnhCAAB0CZKqeEIAAFx4lap4QgAAROeYqnhCAAAsVpyqeEIAAHwi2qp4QgAAZJHdqnhCAABMAOGqeEIAADRv5Kp4QgAAHN7nqnhCAAAETeuqeEIAAOy77qp4QgAAPIgsq3hCAAAk9y+reEIAAAxmM6t4QgAA9NQ2q3hCAADcQzqreEIAAMSyPat4QgAArCFBq3hCAAD87X6reEIAAORcgqt4QgAAzMuFq3hCAAC0OomreEIAAJypjKt4QgAAhBiQq3hCAABsh5OreEIAALxT0at4QgAApMLUq3hCAACMMdireEIAAHSg26t4QgAAXA/fq3hCAABEfuKreEIAACzt5at4QgAA/ITIrHhCAADk88useEIAAMxiz6x4QgAAtNHSrHhCAACcQNaseEIAAISv2ax4QgAAbB7drHhCAAC86hqteEIAAKRZHq14QgAAjMghrXhCAAB0NyWteEIAAFymKK14QgAARBUsrXhCAAAshC+teEIAAHxQba14QgAAZL9wrXhCAABMLnSteEIAADSdd614QgAAHAx7rXhCAAAEe36teEIAAOzpga14QgAAPLa/rXhCAAAkJcOteEIAAAyUxq14QgAA9ALKrXhCAADccc2teEIAAMTg0K14QgAArE/UrXhCAAD8GxKueEIAAOSKFa54QgAAzPkYrnhCAAC0aByueEIAAJzXH654QgAAhEYjrnhCAABstSaueEIAADxNCa94QgAAJLwMr3hCAAAMKxCveEIAAPSZE694QgAA3AgXr3hCAADEdxqveEIAAKzmHa94QgAA/LJbr3hCAADkIV+veEIAAMyQYq94QgAAtP9lr3hCAACcbmmveEIAAITdbK94QgAAbExwr3hCAAC8GK6veEIAAKSHsa94QgAAjPa0r3hCAAB0ZbiveEIAAFzUu694QgAAREO/r3hCAAAsssKveEIAAHx+ALB4QgAAZO0DsHhCAABMXAeweEIAADTLCrB4QgAAHDoOsHhC\"},\"shape\":[150],\"dtype\":\"float64\",\"order\":\"little\"}],[\"companyName\",{\"type\":\"ndarray\",\"array\":[\"SPY\",\"SPY\",\"SPY\",\"SPY\",\"SPY\",\"SPY\",\"SPY\",\"SPY\",\"SPY\",\"SPY\",\"SPY\",\"SPY\",\"SPY\",\"SPY\",\"SPY\",\"SPY\",\"SPY\",\"SPY\",\"SPY\",\"SPY\",\"SPY\",\"SPY\",\"SPY\",\"SPY\",\"SPY\",\"SPY\",\"SPY\",\"SPY\",\"SPY\",\"SPY\",\"SPY\",\"SPY\",\"SPY\",\"SPY\",\"SPY\",\"SPY\",\"SPY\",\"SPY\",\"SPY\",\"SPY\",\"SPY\",\"SPY\",\"SPY\",\"SPY\",\"SPY\",\"SPY\",\"SPY\",\"SPY\",\"SPY\",\"SPY\",\"SPY\",\"SPY\",\"SPY\",\"SPY\",\"SPY\",\"SPY\",\"SPY\",\"SPY\",\"SPY\",\"SPY\",\"SPY\",\"SPY\",\"SPY\",\"SPY\",\"SPY\",\"SPY\",\"SPY\",\"SPY\",\"SPY\",\"SPY\",\"SPY\",\"SPY\",\"SPY\",\"SPY\",\"SPY\",\"SPY\",\"SPY\",\"SPY\",\"SPY\",\"SPY\",\"SPY\",\"SPY\",\"SPY\",\"SPY\",\"SPY\",\"SPY\",\"SPY\",\"SPY\",\"SPY\",\"SPY\",\"SPY\",\"SPY\",\"SPY\",\"SPY\",\"SPY\",\"SPY\",\"SPY\",\"SPY\",\"SPY\",\"SPY\",\"SPY\",\"SPY\",\"SPY\",\"SPY\",\"SPY\",\"SPY\",\"SPY\",\"SPY\",\"SPY\",\"SPY\",\"SPY\",\"SPY\",\"SPY\",\"SPY\",\"SPY\",\"SPY\",\"SPY\",\"SPY\",\"SPY\",\"SPY\",\"SPY\",\"SPY\",\"SPY\",\"SPY\",\"SPY\",\"SPY\",\"SPY\",\"SPY\",\"SPY\",\"SPY\",\"SPY\",\"SPY\",\"SPY\",\"SPY\",\"SPY\",\"SPY\",\"SPY\",\"SPY\",\"SPY\",\"SPY\",\"SPY\",\"SPY\",\"SPY\",\"SPY\",\"SPY\",\"SPY\",\"SPY\",\"SPY\",\"SPY\",\"SPY\"],\"shape\":[150],\"dtype\":\"object\",\"order\":\"little\"}],[\"SMA20\",{\"type\":\"ndarray\",\"array\":{\"type\":\"bytes\",\"data\":\"AAAAiFkdfEBmZmZuqxd8QAAAAKhUE3xAZmZmRsQPfEBmZmb+igp8QM3MzIR2BHxAZmZmFmT/e0AAAACgJft7QM3MzFQY93tAzczMxNXxe0CamZmZzux7QGZmZl7H6HtAAAAA6Ajme0AAAACw+OJ7QAAAAHBD4HtAzczMJJPce0BmZmYG9th7QAAAABBN1XtAZmZmTtfUe0AzMzPbbtZ7QGZmZhZO2HtAmpmZyZXae0DNzMxci9x7QAAAANig3ntAAAAAUIrge0BmZmaOv+R7QJqZmQGo5ntAAAAAcAHoe0DNzMzUvOl7QAAAAADE7HtAZmZmTlDue0AAAAAg8+57QDMzM/NA7ntAMzMzk+Lte0AAAACI4O57QM3MzGwq8HtAAAAAQLjxe0DNzMw0q/N7QAAAAHAK9HtAAAAAQALze0AzMzNLBPR7QM3MzNxx9XtAmpmZ+fn2e0CamZlBhfh7QDMzMyus+XtAzczM9CL7e0AzMzMTKP57QJqZmSGO/XtAzczMVMH7e0AzMzNzI/l7QGZmZv5l9ntAMzMzw4b0e0CamZnpt/J7QM3MzGx48HtAAAAAuC/te0AzMzPbiup7QGZmZr5x6HtAAAAAyFLme0AzMzNT0eR7QJqZmRFx4ntAZmZmponee0CamZnZPNh7QDMzM8Pj0HtAmpmZuQzJe0BmZmZG6cF7QDMzM5NLu3tAAAAAqPm0e0BmZmYmZLJ7QGZmZvZtsXtAMzMzOxywe0DNzMxUbbB7QAAAAPCxsHtAAAAAkMyve0AAAADg2a17QGZmZu4GqntAAAAAoIaie0A1MzOL2Jl7QM7MzKRHkXtAm5mZea6Je0DOzMx8hIF7QDUzMyNLeHtAm5mZISBwe0DOzMwUnml7QAIAAPhDZHtANTMz0/hde0A1MzNDC1Z7QAIAABDYTHtANTMzS7dEe0BoZmZO+zl7QJuZmUH5LntAMzMzU68ke0AAAAAATBt7QJqZmTkAEntAmpmZ2RoKe0DNzMykFAR7QAAAABgbAntAMzMz62j9ekBmZmbu1Pd6QM3MzIxE8npAzczMDC/tekAAAAAgOOh6QJqZmYFI43pAAAAAUMDdekDNzMyEHth6QDMzM5NL0npAAAAAcPHLekAAAAAAZMV6QAAAAJjSvnpAAAAA+Le7ekAzMzMr67h6QDMzMyM/tXpAzczM7GCyekAAAADYsrF6QJqZmbmtr3pAZmZmLumtekCamZkJ46t6QDMzM+tdrHpAmpmZATevekAAAABIGLF6QJqZmfEJs3pAZmZmvlC0ekDNzMykIbV6QGZmZv6FtnpAAAAAyPy2ekBmZma+pbd6QDMzM6P1unpAmpmZ6Sa9ekCamZnpJr56QAAAABDjvHpAzczMvK+8ekCamZlhdL16QM3MzJzTuHpAmpmZefixekAzMzN7I616QM3MzLyDp3pAAAAAuC2gekAAAADA2Zl6QDMzMyPqknpAzczMFGuLekDNzMw0G4Z6QDMzM1tMg3pAmpmZ0WKAekAzMzNLTHx6QJqZmfHneXpAAAAA8Dx4ekAAAABYTnR6QJqZmUF1cXpAMzMzc31vekAAAAAY4216QM3MzASwbHpA\"},\"shape\":[150],\"dtype\":\"float64\",\"order\":\"little\"}],[\"SMA40\",{\"type\":\"ndarray\",\"array\":{\"type\":\"bytes\",\"data\":\"mpmZma0XfEDNzMz05xh8QAAAAEQaGnxAMzMzdw0afEDNzMxkyhl8QGZmZqrAF3xAZmZm/iMWfECamZl9zhR8QAAAANwrE3xAZmZm/kYRfEDNzMwQig98QAAAAARIDXxAmpmZPXwLfEAAAADcvQl8QM3MzAQvCHxAMzMznyEGfEBmZmYG3QN8QAAAAFyrAHxAAAAAmAr+e0DNzMwYoPx7QDMzM8/T+ntAAAAAnCD5e0BmZmYC8Pd7QDMzM48y93tAMzMzp4r1e0CamZkJm/R7QAAAAAwG83tAAAAAiJPxe0DNzMyUavB7QGZmZuJM73tAAAAAdI/te0AzMzM/3et7QJqZme0k6ntAmpmZoW3oe0AAAAD8ked7QM3MzMhe5ntAMzMzI1fle0BmZmYifOR7QDMzM99w5HtAmpmZjbjke0DNzMwwKeZ7QDMzM9MD6HtAMzMzq8Lpe0DNzMwMk+t7QJqZmT0b7XtAmpmZQfHve0BmZmYKaPJ7QM3MzMjH8ntAzczMFL/ye0CamZm58/J7QGZmZiZb8ntAmpmZ8bzxe0BmZmZufPB7QAAAAIAt73tAAAAAIAjue0AAAACkWu17QDMzM/8U7XtAZmZm/v7se0CamZnhbex7QM3MzKi56ntAzczM+Ebpe0AzMzNb1+Z7QGZmZt7u43tAmpmZ/cjge0DNzMy4yt17QAAAAEQ323tAmpmZ3ZDZe0AAAAAk+dd7QJqZmaWX1ntAMzMz15/Ue0CamZmpadN7QJqZmVmc0ntAzczMPELRe0BmZmYmKc97QDMzM1Oby3tAmpmZvYjGe0DNzMwkJcF7QGZmZjbNu3tAZmZm5j+3e0AzMzPH+rF7QM3MzGRqq3tAmpmZfS6ke0AAAADsQJ17QM3MzFiolntAzczMDPGPe0AzMzNrq4h7QAAAANzogHtAzczMuI17e0BmZmaitHV7QGZmZr6Kb3tAAAAAVI5qe0AAAAD4/mV7QM3MzGTmYHtAzczMXPpbe0CamZnJDVd7QAAAANxQUntAMzMzu6BLe0CamZlJjkR7QDMzM4P5PXtAzczMxFk3e0CamZmhQTB7QJqZmVG0KXtAZmZmMq8je0BmZmY+MR57QDMzMzMiGHtAmpmZWf4Qe0AAAAAIHgl7QJqZmfHEAXtAMzMzo9n6ekBmZmY28vN6QDMzMzv37HpAZmZmdtbmekDNzMyI2eF6QJqZmUnk3HpAmpmZ6f7YekDNzMwQ/9Z6QDMzM2vj1HpAAAAA+IXTekBmZmZqrtF6QDMzM38c0HpAMzMzb0TOekAzMzMTNcx6QDMzMycjynpAZmZmpo3HekDNzMyo+MR6QJqZmYlzw3pAzczMdEXBekDNzMzAfL56QAAAAIRNvHpAAAAAdM26ekBmZmbCWbl6QM3MzESatXpAzczMqNWxekBmZmaaaK56QJqZmXW2qnpAzczMYAimekCamZnVG6N6QGZmZpIQoXpAZmZmrkGeekAzMzOTkpx6QM3MzIzOm3pAMzMzO8KaekDNzMwkaZl6QM3MzFxymHpAMzMzV/GXekCamZn9oZd6QJqZmRVOl3pAZmZmLtKWekAAAAAUY5V6QM3MzOCvlHpA\"},\"shape\":[150],\"dtype\":\"float64\",\"order\":\"little\"}],[\"tipo_vela\",{\"type\":\"ndarray\",\"array\":[null,null,\"Engulfing\",null,null,null,null,null,null,null,null,null,\"Marubozu\",null,null,null,null,null,null,null,null,null,null,null,null,\"Takuri \",null,null,null,null,null,null,null,null,\"Marubozu\",\"Takuri \",null,null,null,\"Harami\",null,null,null,null,null,null,null,null,null,null,null,null,\"Engulfing\",null,null,null,null,null,null,null,\"Takuri \",null,null,null,null,null,null,null,null,null,\"Engulfing\",null,null,null,null,null,null,null,null,null,null,null,null,\"Marubozu\",null,null,null,null,null,null,null,null,null,null,null,null,null,null,null,null,null,null,null,null,null,null,null,\"Engulfing\",null,null,null,null,\"Marubozu\",null,null,null,null,null,null,null,null,null,null,null,null,null,null,\"Takuri \",null,null,\"Marubozu\",null,null,null,null,null,null,null,null,\"Engulfing\",null,null,null,\"Engulfing\",null,null,null,\"Harami\",null,null],\"shape\":[150],\"dtype\":\"object\",\"order\":\"little\"}],[\"pivotHigh\",{\"type\":\"ndarray\",\"array\":{\"type\":\"bytes\",\"data\":\"AAAAAAAA+H8AAAAAAAD4fwAAAAAAAPh/AAAAAAAA+H8AAAAAAAD4fwAAAAAAAPh/AAAAAAAA+H8AAAAAAAD4fwAAAAAAAPh/AAAAAAAA+H8AAAAAAAD4fwAAAAAAAPh/AAAAAAAA+H8AAAAAAAD4fwAAAAAAAPh/AAAAAAAA+H8AAAAAAAD4fwAAAAAAAPh/AAAAAAAA+H8AAAAAAAD4fwAAAAAAAPh/AAAAAAAA+H8AAAAAAAD4fwAAAAAAAPh/vXSTWDcLfEAAAAAAAAD4fwAAAAAAAPh/AAAAAAAA+H8AAAAAAAD4fwAAAAAAAPh/AAAAAAAA+H8AAAAAAAD4fwAAAAAAAPh/AAAAAAAA+H8AAAAAAAD4fwAAAAAAAPh/AAAAAAAA+H8AAAAAAAD4fwAAAAAAAPh/AAAAAAAA+H8AAAAAAAD4fwAAAAAAAPh/AAAAAAAA+H8AAAAAAAD4fwAAAAAAAPh/AAAAAAAA+H+8dJN4aip8QAAAAAAAAPh/AAAAAAAA+H8AAAAAAAD4fwAAAAAAAPh/AAAAAAAA+H8AAAAAAAD4fwAAAAAAAPh/AAAAAAAA+H8AAAAAAAD4fwAAAAAAAPh/AAAAAAAA+H8AAAAAAAD4fwAAAAAAAPh/AAAAAAAA+H8AAAAAAAD4fwAAAAAAAPh/AAAAAAAA+H8AAAAAAAD4fwAAAAAAAPh/AAAAAAAA+H8AAAAAAAD4fwAAAAAAAPh/AAAAAAAA+H+8dJOYxr17QAAAAAAAAPh/AAAAAAAA+H8AAAAAAAD4fwAAAAAAAPh/AAAAAAAA+H8AAAAAAAD4fwAAAAAAAPh/AAAAAAAA+H8AAAAAAAD4fwAAAAAAAPh/AAAAAAAA+H8AAAAAAAD4fwAAAAAAAPh/AAAAAAAA+H8AAAAAAAD4fwAAAAAAAPh/AAAAAAAA+H8AAAAAAAD4fwAAAAAAAPh/AAAAAAAA+H8AAAAAAAD4fwAAAAAAAPh/AAAAAAAA+H8AAAAAAAD4fwAAAAAAAPh/AAAAAAAA+H8AAAAAAAD4fwAAAAAAAPh/AAAAAAAA+H8AAAAAAAD4fwAAAAAAAPh/AAAAAAAA+H8AAAAAAAD4fwAAAAAAAPh/AAAAAAAA+H8AAAAAAAD4fwAAAAAAAPh/AAAAAAAA+H8AAAAAAAD4fwAAAAAAAPh/AAAAAAAA+H8AAAAAAAD4fwAAAAAAAPh/AAAAAAAA+H8AAAAAAAD4fwAAAAAAAPh/vHSTuJ39ekAAAAAAAAD4fwAAAAAAAPh/AAAAAAAA+H8AAAAAAAD4fwAAAAAAAPh/AAAAAAAA+H8AAAAAAAD4fwAAAAAAAPh/AAAAAAAA+H8AAAAAAAD4fwAAAAAAAPh/AAAAAAAA+H8AAAAAAAD4fwAAAAAAAPh/AAAAAAAA+H8AAAAAAAD4fwAAAAAAAPh/AAAAAAAA+H8AAAAAAAD4fwAAAAAAAPh/AAAAAAAA+H8AAAAAAAD4fwAAAAAAAPh/AAAAAAAA+H8AAAAAAAD4fwAAAAAAAPh/AAAAAAAA+H8AAAAAAAD4fwAAAAAAAPh/AAAAAAAA+H8AAAAAAAD4fwAAAAAAAPh/\"},\"shape\":[150],\"dtype\":\"float64\",\"order\":\"little\"}],[\"pivotLow\",{\"type\":\"ndarray\",\"array\":{\"type\":\"bytes\",\"data\":\"AAAAAAAA+H8AAAAAAAD4fwAAAAAAAPh/AAAAAAAA+H8AAAAAAAD4f0WLbCfdrHtAAAAAAAAA+H8AAAAAAAD4fwAAAAAAAPh/AAAAAAAA+H8AAAAAAAD4fwAAAAAAAPh/AAAAAAAA+H8AAAAAAAD4fwAAAAAAAPh/AAAAAAAA+H8AAAAAAAD4fwAAAAAAAPh/AAAAAAAA+H8AAAAAAAD4fwAAAAAAAPh/AAAAAAAA+H8AAAAAAAD4fwAAAAAAAPh/AAAAAAAA+H8AAAAAAAD4fwAAAAAAAPh/AAAAAAAA+H8AAAAAAAD4fwAAAAAAAPh/AAAAAAAA+H9Ei2xnOdZ7QAAAAAAAAPh/AAAAAAAA+H8AAAAAAAD4fwAAAAAAAPh/AAAAAAAA+H8AAAAAAAD4fwAAAAAAAPh/AAAAAAAA+H8AAAAAAAD4fwAAAAAAAPh/AAAAAAAA+H8AAAAAAAD4fwAAAAAAAPh/AAAAAAAA+H8AAAAAAAD4fwAAAAAAAPh/AAAAAAAA+H8AAAAAAAD4fwAAAAAAAPh/AAAAAAAA+H8AAAAAAAD4fwAAAAAAAPh/AAAAAAAA+H8AAAAAAAD4fwAAAAAAAPh/AAAAAAAA+H8AAAAAAAD4fwAAAAAAAPh/AAAAAAAA+H8AAAAAAAD4fwAAAAAAAPh/RItsB66De0AAAAAAAAD4fwAAAAAAAPh/AAAAAAAA+H8AAAAAAAD4fwAAAAAAAPh/AAAAAAAA+H8AAAAAAAD4fwAAAAAAAPh/AAAAAAAA+H8AAAAAAAD4fwAAAAAAAPh/AAAAAAAA+H8AAAAAAAD4fwAAAAAAAPh/AAAAAAAA+H8AAAAAAAD4fwAAAAAAAPh/AAAAAAAA+H8AAAAAAAD4fwAAAAAAAPh/AAAAAAAA+H8AAAAAAAD4fwAAAAAAAPh/AAAAAAAA+H8AAAAAAAD4fwAAAAAAAPh/AAAAAAAA+H8AAAAAAAD4fwAAAAAAAPh/AAAAAAAA+H8AAAAAAAD4fwAAAAAAAPh/AAAAAAAA+H8AAAAAAAD4fwAAAAAAAPh/AAAAAAAA+H8AAAAAAAD4fwAAAAAAAPh/AAAAAAAA+H8AAAAAAAD4fwAAAAAAAPh/AAAAAAAA+H9Ei2znJGx6QAAAAAAAAPh/AAAAAAAA+H8AAAAAAAD4fwAAAAAAAPh/AAAAAAAA+H8AAAAAAAD4fwAAAAAAAPh/AAAAAAAA+H8AAAAAAAD4fwAAAAAAAPh/AAAAAAAA+H8AAAAAAAD4fwAAAAAAAPh/AAAAAAAA+H8AAAAAAAD4fwAAAAAAAPh/AAAAAAAA+H8AAAAAAAD4fwAAAAAAAPh/AAAAAAAA+H8AAAAAAAD4fwAAAAAAAPh/AAAAAAAA+H8AAAAAAAD4fwAAAAAAAPh/AAAAAAAA+H8AAAAAAAD4fwAAAAAAAPh/RYtsJ91CekAAAAAAAAD4fwAAAAAAAPh/AAAAAAAA+H8AAAAAAAD4fwAAAAAAAPh/AAAAAAAA+H8AAAAAAAD4fwAAAAAAAPh/AAAAAAAA+H8AAAAAAAD4fwAAAAAAAPh/AAAAAAAA+H8AAAAAAAD4fwAAAAAAAPh/\"},\"shape\":[150],\"dtype\":\"float64\",\"order\":\"little\"}],[\"isPivot\",{\"type\":\"ndarray\",\"array\":{\"type\":\"bytes\",\"data\":\"AAAAAAAA+H8AAAAAAAD4fwAAAAAAAPh/AAAAAAAA+H8AAAAAAAD4fwAAAAAAAABAAAAAAAAA+H8AAAAAAAD4fwAAAAAAAPh/AAAAAAAA+H8AAAAAAAD4fwAAAAAAAPh/AAAAAAAA+H8AAAAAAAD4fwAAAAAAAPh/AAAAAAAA+H8AAAAAAAD4fwAAAAAAAPh/AAAAAAAA+H8AAAAAAAD4fwAAAAAAAPh/AAAAAAAA+H8AAAAAAAD4fwAAAAAAAPh/AAAAAAAA8D8AAAAAAAD4fwAAAAAAAPh/AAAAAAAA+H8AAAAAAAD4fwAAAAAAAPh/AAAAAAAA+H8AAAAAAAAAQAAAAAAAAPh/AAAAAAAA+H8AAAAAAAD4fwAAAAAAAPh/AAAAAAAA+H8AAAAAAAD4fwAAAAAAAPh/AAAAAAAA+H8AAAAAAAD4fwAAAAAAAPh/AAAAAAAA+H8AAAAAAAD4fwAAAAAAAPh/AAAAAAAA+H8AAAAAAADwPwAAAAAAAPh/AAAAAAAA+H8AAAAAAAD4fwAAAAAAAPh/AAAAAAAA+H8AAAAAAAD4fwAAAAAAAPh/AAAAAAAA+H8AAAAAAAD4fwAAAAAAAPh/AAAAAAAA+H8AAAAAAAD4fwAAAAAAAPh/AAAAAAAA+H8AAAAAAAD4fwAAAAAAAPh/AAAAAAAAAEAAAAAAAAD4fwAAAAAAAPh/AAAAAAAA+H8AAAAAAAD4fwAAAAAAAPh/AAAAAAAA+H8AAAAAAADwPwAAAAAAAPh/AAAAAAAA+H8AAAAAAAD4fwAAAAAAAPh/AAAAAAAA+H8AAAAAAAD4fwAAAAAAAPh/AAAAAAAA+H8AAAAAAAD4fwAAAAAAAPh/AAAAAAAA+H8AAAAAAAD4fwAAAAAAAPh/AAAAAAAA+H8AAAAAAAD4fwAAAAAAAPh/AAAAAAAA+H8AAAAAAAD4fwAAAAAAAPh/AAAAAAAA+H8AAAAAAAD4fwAAAAAAAPh/AAAAAAAA+H8AAAAAAAD4fwAAAAAAAPh/AAAAAAAA+H8AAAAAAAD4fwAAAAAAAPh/AAAAAAAA+H8AAAAAAAD4fwAAAAAAAPh/AAAAAAAA+H8AAAAAAAD4fwAAAAAAAPh/AAAAAAAA+H8AAAAAAAAAQAAAAAAAAPh/AAAAAAAA+H8AAAAAAAD4fwAAAAAAAPh/AAAAAAAA+H8AAAAAAAD4fwAAAAAAAPh/AAAAAAAA+H8AAAAAAAD4fwAAAAAAAPh/AAAAAAAA8D8AAAAAAAD4fwAAAAAAAPh/AAAAAAAA+H8AAAAAAAD4fwAAAAAAAPh/AAAAAAAA+H8AAAAAAAD4fwAAAAAAAPh/AAAAAAAA+H8AAAAAAAD4fwAAAAAAAPh/AAAAAAAA+H8AAAAAAAD4fwAAAAAAAPh/AAAAAAAA+H8AAAAAAAD4fwAAAAAAAPh/AAAAAAAAAEAAAAAAAAD4fwAAAAAAAPh/AAAAAAAA+H8AAAAAAAD4fwAAAAAAAPh/AAAAAAAA+H8AAAAAAAD4fwAAAAAAAPh/AAAAAAAA+H8AAAAAAAD4fwAAAAAAAPh/AAAAAAAA+H8AAAAAAAD4fwAAAAAAAPh/\"},\"shape\":[150],\"dtype\":\"float64\",\"order\":\"little\"}]]}}},\"view\":{\"type\":\"object\",\"name\":\"CDSView\",\"id\":\"p1085\",\"attributes\":{\"filter\":{\"type\":\"object\",\"name\":\"AllIndices\",\"id\":\"p1086\"}}},\"glyph\":{\"type\":\"object\",\"name\":\"Line\",\"id\":\"p1081\",\"attributes\":{\"x\":{\"type\":\"field\",\"field\":\"index\"},\"y\":{\"type\":\"field\",\"field\":\"SMA20\"},\"line_color\":\"#ffb81c\"}},\"nonselection_glyph\":{\"type\":\"object\",\"name\":\"Line\",\"id\":\"p1082\",\"attributes\":{\"x\":{\"type\":\"field\",\"field\":\"index\"},\"y\":{\"type\":\"field\",\"field\":\"SMA20\"},\"line_color\":\"#ffb81c\",\"line_alpha\":0.1}},\"muted_glyph\":{\"type\":\"object\",\"name\":\"Line\",\"id\":\"p1083\",\"attributes\":{\"x\":{\"type\":\"field\",\"field\":\"index\"},\"y\":{\"type\":\"field\",\"field\":\"SMA20\"},\"line_color\":\"#ffb81c\",\"line_alpha\":0.2}}}},{\"type\":\"object\",\"name\":\"GlyphRenderer\",\"id\":\"p1098\",\"attributes\":{\"data_source\":{\"type\":\"object\",\"name\":\"ColumnDataSource\",\"id\":\"p1089\",\"attributes\":{\"selected\":{\"type\":\"object\",\"name\":\"Selection\",\"id\":\"p1090\",\"attributes\":{\"indices\":[],\"line_indices\":[]}},\"selection_policy\":{\"type\":\"object\",\"name\":\"UnionRenderers\",\"id\":\"p1091\"},\"data\":{\"type\":\"map\",\"entries\":[[\"index\",{\"type\":\"ndarray\",\"array\":{\"type\":\"bytes\",\"data\":\"lAEAAJUBAACWAQAAlwEAAJgBAACZAQAAmgEAAJsBAACcAQAAnQEAAJ4BAACfAQAAoAEAAKEBAACiAQAAowEAAKQBAAClAQAApgEAAKcBAACoAQAAqQEAAKoBAACrAQAArAEAAK0BAACuAQAArwEAALABAACxAQAAsgEAALMBAAC0AQAAtQEAALYBAAC3AQAAuAEAALkBAAC6AQAAuwEAALwBAAC9AQAAvgEAAL8BAADAAQAAwQEAAMIBAADDAQAAxAEAAMUBAADGAQAAxwEAAMgBAADJAQAAygEAAMsBAADMAQAAzQEAAM4BAADPAQAA0AEAANEBAADSAQAA0wEAANQBAADVAQAA1gEAANcBAADYAQAA2QEAANoBAADbAQAA3AEAAN0BAADeAQAA3wEAAOABAADhAQAA4gEAAOMBAADkAQAA5QEAAOYBAADnAQAA6AEAAOkBAADqAQAA6wEAAOwBAADtAQAA7gEAAO8BAADwAQAA8QEAAPIBAADzAQAA9AEAAPUBAAD2AQAA9wEAAPgBAAD5AQAA+gEAAPsBAAD8AQAA/QEAAP4BAAD/AQAAAAIAAAECAAACAgAAAwIAAAQCAAAFAgAABgIAAAcCAAAIAgAACQIAAAoCAAALAgAADAIAAA0CAAAOAgAADwIAABACAAARAgAAEgIAABMCAAAUAgAAFQIAABYCAAAXAgAAGAIAABkCAAAaAgAAGwIAABwCAAAdAgAAHgIAAB8CAAAgAgAAIQIAACICAAAjAgAAJAIAACUCAAAmAgAAJwIAACgCAAApAgAA\"},\"shape\":[150],\"dtype\":\"int32\",\"order\":\"little\"}],[\"Close\",{\"type\":\"ndarray\",\"array\":{\"type\":\"bytes\",\"data\":\"AAAAYLjOe0AAAAAgws17QAAAAIBh23tAAQAAQDPde0ABAABAM+N7QAAAACCus3tAAAAAANfDe0AAAABguNB7QAAAACBc0XtAAQAAwMzGe0AAAADA9c57QAAAACBczXtAAAAAoJnte0AAAAAAIul7QAAAAIDC43tAAAAAoCXce0AAAAAgSNV7QAEAAMDMyntAAAAAACnYe0ABAADAzPx7QAAAAAAp9HtAAAAAIFz7e0AAAAAAkQJ8QAAAAODgBnxAAAAAoHAJfEAAAAAA1wd8QAAAAAAA6ntAAAAAALXre0AAAAAAAPR7QAAAACBcA3xAAAAA4Ovte0AAAACAFNp7QAAAACCu33tAAAAAgMLhe0AAAACgmfd7QAAAAIDr9XtAAAAAoFz0e0AAAADgx/F7QAAAAKCZ33tAAAAAACnoe0AAAADgUQh8QAAAAIDrF3xAAQAAQDMhfEAAAACAwiV8QAAAAOB6IHxAAQAAwB4lfEAAAABgZiZ8QAAAACCu33tAAAAAAADQe0AAAACABs97QAEAAMAet3tAAAAA4KO0e0AAAAAghbt7QAEAAMDMtHtAAAAAgOu1e0ABAABACsF7QAAAAGBmyntAAAAAoFzHe0AAAACAfMF7QAAAAOCjuHtAAAAAgD26e0AAAACA65l7QAAAAIA9jntAAAAAwPWIe0AAAADgtZF7QAEAAMDMoHtAAAAAAACoe0AAAAAAAKx7QAAAAEDEvHtAAAAA4KO0e0ABAADAdL17QAAAAAAAuntAAAAAoJmpe0AAAAAA1417QAAAAKBwaXtAAAAAIAQre0ABAADAzBx7QAAAAKAKHHtAAAAAIIUpe0AAAAAgXBV7QAAAAIDCAXtAAAAAYI/2ekAAAACAFAx7QAAAAIDrHXtAAAAAANcTe0AAAACAPQJ7QAAAAAAA8HpAAAAAoHAJe0AAAACAFOZ6QAAAAOB62HpAAAAAIK7vekAAAACAPf56QAAAACCu73pAAAAAgOvvekAAAACA9PB6QAAAACCFA3tAAQAAQOG+ekAAAADgeqx6QAAAAIA9unpAAAAAIK6vekAAAAAAeJ56QAAAAADXk3pAAAAAoHCdekAAAACgR616QAAAACBcn3pAAQAAwDKDekABAABA82x6QAAAAIAUhnpAAAAAAACoekAAAADgeqB6QAAAAIA9pnpAAQAAQOHEekAAAACAFOJ6QAAAACCFx3pAAAAAoJnNekABAABACtt6QAAAAOB6yHpAAAAAoHDlekAAAAAA1996QAAAAGCP1npAAAAAAAC4ekAAAAAAKaR6QAAAAKBHuXpAAAAAYI+2ekAAAABgj6x6QAAAAKBwxXpAAQAAwMyYekAAAACAFJp6QAAAAACzjnpAAAAAYHicekAAAABgmrV6QAAAAOBRaHpAAAAAwPVYekABAABA4WZ6QAEAAMAeXXpAAAAA4FFIekAAAACA60l6QAAAAGC4WnpAAAAA4OlJekAAAADgUWx6QAAAAADXf3pAAQAAQOppekAAAAAghWd6QAAAAGC4hnpAAQAAQDOLekABAADAzHZ6QAAAAADXX3pAAAAAYLhyekAAAADgo256QAAAAOB6hHpA\"},\"shape\":[150],\"dtype\":\"float64\",\"order\":\"little\"}],[\"High\",{\"type\":\"ndarray\",\"array\":{\"type\":\"bytes\",\"data\":\"AAAAACnge0ABAABACtN7QAEAAMAe3XtAAQAAQDPje0AAAABgZuZ7QAAAAGBmxntAAAAAIIXLe0AAAADA4dJ7QAAAAADX03tAAAAAoJnVe0AAAACA69F7QAEAAMDM2HtAAAAAYI/ue0AAAACAwvF7QAEAAEBi7ntAAAAAgD3me0AAAAAgheN7QAAAAIDr13tAAAAAgMLZe0AAAADgUQx8QAAAAKBH/XtAAAAA4Hr8e0ABAABAMwN8QAAAAADXB3xAAQAAQDMLfEAAAACAFAp8QAEAAMAe/XtAAQAAwB7ve0AAAACAPfh7QAAAAOB6CHxAAQAAwB4HfEAAAAAgru97QAAAACBc43tAAAAAACn0e0AAAACgR/l7QAAAAKCZ+XtAAQAAwB75e0AAAAAgXPt7QAAAAOB68ntAAAAA4Hrse0AAAACgmRF8QAAAAOB6IHxAAAAAANcnfEABAABA4Sp8QAAAAGCPKnxAAAAAoEcxfEAAAABgZip8QAAAAKBH9XtAAAAAoNbje0ABAADAHtV7QAAAAIAU1ntAAQAAQN/Ce0AAAABgj757QAAAAADXv3tAAAAAACm8e0AAAACgR8F7QAAAAOCjzHtAAAAAIIXPe0AAAADgo8x7QAAAAKBwxXtAAAAAIK67e0AAAAAAALR7QAAAAAAAmntAAAAA4KOQe0ABAADAzJR7QAEAAEAzp3tAAAAA4KO0e0ABAABA4bJ7QAAAAMD1xntAAAAAANe/e0AAAACAwr17QAAAAAApwHtAAAAAIFy7e0AAAAAAALx7QAEAAEDhjntAAAAAIIU/e0ABAABACjd7QAAAAOBRKHtAAQAAQAote0AAAABgZi57QAAAAOBRHHtAAAAAYGYGe0AAAADAwxF7QAAAAGBmHntAAAAAoJkhe0AAAAAAKRx7QAEAAEAKA3tAAAAAIFwTe0AAAADgowx7QAAAAAAp7HpAAAAAIK73ekAAAADgUQB7QAAAAKBH/3pAAAAAIK77ekAAAADA4fp6QAAAAOBRBHtAAQAAwB7dekAAAAAgXMt6QAAAAOBRvHpAAAAAIK6/ekABAABAM7N6QAEAAEDhonpAAAAA4KOgekAAAABguLp6QAEAAEDhrnpAAAAAgOuhekAAAACAFI56QAAAAOAJh3pAAAAAwJ+4ekAAAACAwql6QAAAAIAotHpAAAAAwPXEekAAAAAgruN6QAAAAKD/43pAAAAAIK7RekAAAACAPdx6QAAAAAAp3HpAAAAAoJn9ekAAAACAwvV6QAAAACBa43pAAAAAIIXZekABAABA4bp6QAAAACCFx3pAAAAAAADOekAAAACAjsF6QAAAACCFx3pAAAAAoJnJekABAADAzJx6QAAAAOB6rHpAAAAAYGaiekAAAACA67V6QAAAAGBmqnpAAAAAgD1yekAAAADA9Wh6QAAAAKBHbXpAAAAAAI9eekABAADAzFh6QAAAAADXW3pAAAAAgOt1ekABAADAzHB6QAAAAGCPgnpAAAAAgMKFekAAAACA6216QAAAAADXi3pAAAAA4OCWekAAAAAAKZR6QAAAAAAAeHpAAAAAANdzekABAABAM3d6QAAAAKBHiXpA\"},\"shape\":[150],\"dtype\":\"float64\",\"order\":\"little\"}],[\"Low\",{\"type\":\"ndarray\",\"array\":{\"type\":\"bytes\",\"data\":\"AAAAoHDNe0AAAADA9bx7QAAAAKABzXtAAAAAoEfVe0AAAAAgXNt7QAEAAEDhrHtAAAAAAACse0AAAACAwr17QAEAAEDhxHtAAAAAYLjGe0AAAACgmcF7QAEAAEAKyXtAAQAAwMzMe0AAAADgUdx7QAAAAOBN3ntAAAAA4FHYe0ABAADAHtF7QAAAAOB6yHtAAQAAwMzIe0AAAAAgXOt7QAEAAMCE53tAAAAAIIXre0AAAACA6/V7QAAAAAAAAHxAAAAAYLgCfEAAAADgUQB8QAEAAEAK53tAAAAAIIXhe0AAAAAgrut7QAAAACBc73tAAQAAwB7pe0AAAACAPdZ7QAAAAIDr2XtAAAAA4ETRe0AAAADA9eB7QAAAAGBm6HtAAAAA4Hrse0AAAADgo+x7QAEAAMAe1XtAAAAAoJnfe0AAAACgcPt7QAAAAIDCB3xAAAAA4HoQfEAAAAAghR98QAAAACCuH3xAAQAAwMwefEAAAACAziF8QAEAAMAe2XtAAAAA4HrEe0AAAACgmcl7QAAAAMBLtXtAAAAA4FGwe0ABAABAM7N7QAAAAGC4rntAAAAAwPWoe0AAAADgerB7QAAAAOCjwHtAAAAA4HrCe0AAAAAAKcB7QAEAAMDMsntAAQAAwMyye0AAAACgcJF7QAAAAIDrh3tAAAAAILKDe0ABAABACn97QAAAAOCVkXtAAAAAgBSee0AAAAAAKaR7QAAAAGBmtntAAAAAAAC0e0AAAABgj7J7QAAAAKBHuXtAAAAA4HqYe0AAAAAA14N7QAEAAEDhZntAAAAAACkge0AAAABgZhp7QAEAAEDhFntAAAAAANcXe0ABAADAHhV7QAAAAAApAHtAAAAAIK7zekAAAABguPp6QAAAAAAADHtAAAAA4HoKe0AAAAAgXP96QAEAAMDM6HpAAQAAQOHoekAAAAAA1996QAAAACCFy3pAAAAAgD3SekAAAACA6+16QAAAAIDC6XpAAAAAgOvpekAAAAAgrt96QAEAAMAe7XpAAAAAAN6vekAAAAAAKax6QAAAAIAUqnpAAAAAIIWvekABAADAzJx6QAAAAOBRkHpAAAAAoEeRekAAAAAAmp16QAAAAAApkHpAAAAAACl8ekAAAAAAKWx6QAAAAOCjZHpAAAAAgOuFekAAAAAgro16QAAAAIDrjXpAAQAAwB6VekAAAADgesR6QAAAAOCjxHpAAAAAYI+6ekAAAAAghbd6QAAAACCFv3pAAAAA4KPgekABAABA4d56QAAAAAApynpAAAAAAACoekAAAAAAKaB6QAAAAGCPnnpAAAAAgBSuekABAADAHqN6QAAAAGCPnnpAAAAAIFyPekAAAAAgXId6QAAAAIAUjnpAAAAAgD2IekAAAAAg0pl6QAAAAIA9ZnpAAAAAANdTekAAAAAAKUx6QAAAAIDCWXpAAQAAQOFCekABAABA4UZ6QAAAAOCjRHpAAAAAwPVIekAAAACgR0l6QAAAAMD1ZHpAAQAAQAppekAAAACAPVp6QAAAAKCZYXpAAQAAQAqDekAAAABguGp6QAEAAMC4UnpAAQAAwMxYekAAAACA6116QAAAACBcZ3pA\"},\"shape\":[150],\"dtype\":\"float64\",\"order\":\"little\"}],[\"Open\",{\"type\":\"ndarray\",\"array\":{\"type\":\"bytes\",\"data\":\"AQAAQArde0ABAABA4c57QAAAAKCZzXtAAAAAIFzbe0AAAAAgXN17QAAAAIDCsXtAAAAAgOuze0ABAABACsN7QAAAAMD10HtAAAAAoHDRe0ABAADAzMZ7QAEAAMAez3tAAAAAYGbOe0AAAACAwu17QAAAAKBH6XtAAQAAQOHie0AAAAAAKdx7QAAAAKBw1XtAAQAAwMzKe0ABAABAMwd8QAEAAMDM/HtAAAAAYCn0e0AAAACgcPt7QAAAAOCjBHxAAQAAQOEGfEAAAACgcAl8QAEAAEAz73tAAAAAYGboe0AAAACAwut7QAAAAAAp9HtAAAAAIFwDfEAAAACAwu17QAAAAIAU2ntAAAAAIIXje0AAAAAA1+F7QAAAACCu93tAAAAAAAD2e0AAAADgevR7QAAAAIDr8XtAAAAAIK7fe0AAAADgCQt8QAAAAOB6CHxAAAAAAAAYfEABAADAHiF8QAAAAIDrJXxAAAAA4HogfEAAAADA9SR8QAAAAAAp9HtAAAAAAADge0AAAACA6897QAEAAEDhzntAAQAAQOG2e0AAAADgerR7QAAAACCFu3tAAQAAwMywe0AAAACA67V7QAEAAEAKwXtAAAAAYGbKe0AAAACgXMd7QAAAACCFwXtAAAAA4KO4e0ABAABA4ap7QAAAAAAAmntAAAAAANeNe0AAAADA9Yh7QAAAACCukXtAAAAA4KOge0AAAAAAAKh7QAAAAAApwHtAAQAAwMy8e0AAAABgZrR7QAAAAKCZvXtAAAAAgBS6e0ABAADAHql7QAAAAIAUjntAAAAAIIU/e0ABAABACit7QAEAAMDMHHtAAAAA4Hoce0AAAAAA1yt7QAAAAKBHFXtAAAAAgMIBe0ABAABAMwd7QAAAAIA9DHtAAAAAAAAee0AAAABgZhJ7QAAAAIA9AntAAAAAAADwekAAAACgmQl7QAAAAGC40npAAAAA4FHYekAAAAAA1+96QAAAAGBm/npAAAAAANfvekAAAACgxu96QAEAAMDM8HpAAAAAoHDRekABAABA4b56QAAAAOB6rHpAAAAAgOu5ekAAAAAgha96QAAAAGBmnnpAAAAAANeTekAAAACgcLF6QAEAAMAerXpAAAAAIIWfekABAABAM4N6QAEAAMDMbHpAAAAAACmGekAAAADgUah6QAAAACCHk3pAAAAAgBSmekAAAADA9cR6QAAAAIAU4npAAAAAIIXHekAAAACA6816QAEAAMAe23pAAQAAQDPzekAAAACgmeV6QAAAAAAA4HpAAQAAQOHWekAAAACA67d6QAAAAOBRpHpAAAAAoHC5ekAAAACA66l6QAAAAOCjrHpAAAAAQEDFekAAAAAghZd6QAAAAIA9mnpAAAAAYLiOekAAAABgj5x6QAAAAMD1kHpAAAAA4FFoekAAAADgUVh6QAEAAEAzZ3pAAAAAoJldekAAAADgUUh6QAAAAIDCSXpAAQAAwB5hekAAAAAA10l6QAAAAOBRbHpAAAAAgMJ/ekAAAACA62l6QAAAACBcZ3pAAAAAYLiGekAAAACAwoV6QAAAAGC4dnpAAAAAAABgekAAAADgo3J6QAAAAOCjbnpA\"},\"shape\":[150],\"dtype\":\"float64\",\"order\":\"little\"}],[\"Volume\",{\"type\":\"ndarray\",\"array\":{\"type\":\"bytes\",\"data\":\"TWhvAPiwfACVK18AUw16AGr6jADsmcQAHyqAANljXwDbzVQAK51iAD/YgwCn/sMA5n+aADpGegCkGlMAQpxQABvHVwAUG3MAUAubANZbyAD+XWYADzFcAGBtTwA5kmMARTFkAJHOaACbgMoAxjVqAPqkWgDlME4Aa5lyAGjqiwAhx64A4nS+APBQdwB5P2EAOWtDAGA5SgBTbZkALLCNAD6y0wD74LEA7/WPACTuYABloG4AziKLAKSX5wA5czsBcVs7AZKxeQCPUH0AsPyjAEcYlADWdioBcLyWAKiPcwDVEWQATddEAKL3QwCQvXwAiROUANdvtQDJUH4A1DxdAFCxUgCzPXYAZqx6ANAmggAWg4gATaBDAG4PRgA89S8ABCS3ANDX8QApwhMBe4w2AdaPlAC80H4AruRyAFi2eQDi3d4AezF2AUfF7wDn4qsAGt5pAJoRYgDU/qsA5kOoAJEEPAFRA9IAMumUAB0scABlxVIAayNdAFAInQBGN4IAt+APAfn1ngBalIoAltxiAKc+nQCgt6UAb4kJATsJ1wAiPbYASdekAEJttwClksEAkDAlAUz50ADa0/4ABvi6ACvB2ABqMJ8AUPWPAFY9gABVYdIAlhM7AXPFmACYbZIADsHCAOeBvgA0N/gAezQyAQgn+AAjqqEAvMKqAIHnhACfpIoA9s+mAES3wgDq4F4B9x/jALFqtwDHnoQAGOegAFbTpADuhuUARRsEAYVoswCMk44AibZxAC8okQAvCZkApYfeAGYizgCQAZcAc8J7AKzzYgDPg4wA\"},\"shape\":[150],\"dtype\":\"int32\",\"order\":\"little\"}],[\"datetime\",{\"type\":\"ndarray\",\"array\":{\"type\":\"bytes\",\"data\":\"AACM1bGmeEIAAHREtaZ4QgAAXLO4pnhCAABEIrymeEIAACyRv6Z4QgAAfF39pnhCAABkzACneEIAAEw7BKd4QgAANKoHp3hCAAAcGQuneEIAAASIDqd4QgAA7PYRp3hCAAA8w0+neEIAACQyU6d4QgAADKFWp3hCAAD0D1qneEIAANx+Xad4QgAAxO1gp3hCAACsXGSneEIAAHz0Rqh4QgAAZGNKqHhCAABM0k2oeEIAADRBUah4QgAAHLBUqHhCAAAEH1ioeEIAAOyNW6h4QgAAPFqZqHhCAAAkyZyoeEIAAAw4oKh4QgAA9KajqHhCAADcFaeoeEIAAMSEqqh4QgAArPOtqHhCAAD8v+uoeEIAAOQu76h4QgAAzJ3yqHhCAAC0DPaoeEIAAJx7+ah4QgAAhOr8qHhCAABsWQCpeEIAALwlPql4QgAApJRBqXhCAACMA0WpeEIAAHRySKl4QgAAXOFLqXhCAABEUE+peEIAACy/Uql4QgAAfIuQqXhCAABk+pOpeEIAAExpl6l4QgAANNiaqXhCAAAcR56peEIAAAS2oal4QgAA7CSlqXhCAAC8vIeqeEIAAKQri6p4QgAAjJqOqnhCAAB0CZKqeEIAAFx4lap4QgAAROeYqnhCAAAsVpyqeEIAAHwi2qp4QgAAZJHdqnhCAABMAOGqeEIAADRv5Kp4QgAAHN7nqnhCAAAETeuqeEIAAOy77qp4QgAAPIgsq3hCAAAk9y+reEIAAAxmM6t4QgAA9NQ2q3hCAADcQzqreEIAAMSyPat4QgAArCFBq3hCAAD87X6reEIAAORcgqt4QgAAzMuFq3hCAAC0OomreEIAAJypjKt4QgAAhBiQq3hCAABsh5OreEIAALxT0at4QgAApMLUq3hCAACMMdireEIAAHSg26t4QgAAXA/fq3hCAABEfuKreEIAACzt5at4QgAA/ITIrHhCAADk88useEIAAMxiz6x4QgAAtNHSrHhCAACcQNaseEIAAISv2ax4QgAAbB7drHhCAAC86hqteEIAAKRZHq14QgAAjMghrXhCAAB0NyWteEIAAFymKK14QgAARBUsrXhCAAAshC+teEIAAHxQba14QgAAZL9wrXhCAABMLnSteEIAADSdd614QgAAHAx7rXhCAAAEe36teEIAAOzpga14QgAAPLa/rXhCAAAkJcOteEIAAAyUxq14QgAA9ALKrXhCAADccc2teEIAAMTg0K14QgAArE/UrXhCAAD8GxKueEIAAOSKFa54QgAAzPkYrnhCAAC0aByueEIAAJzXH654QgAAhEYjrnhCAABstSaueEIAADxNCa94QgAAJLwMr3hCAAAMKxCveEIAAPSZE694QgAA3AgXr3hCAADEdxqveEIAAKzmHa94QgAA/LJbr3hCAADkIV+veEIAAMyQYq94QgAAtP9lr3hCAACcbmmveEIAAITdbK94QgAAbExwr3hCAAC8GK6veEIAAKSHsa94QgAAjPa0r3hCAAB0ZbiveEIAAFzUu694QgAAREO/r3hCAAAsssKveEIAAHx+ALB4QgAAZO0DsHhCAABMXAeweEIAADTLCrB4QgAAHDoOsHhC\"},\"shape\":[150],\"dtype\":\"float64\",\"order\":\"little\"}],[\"companyName\",{\"type\":\"ndarray\",\"array\":[\"SPY\",\"SPY\",\"SPY\",\"SPY\",\"SPY\",\"SPY\",\"SPY\",\"SPY\",\"SPY\",\"SPY\",\"SPY\",\"SPY\",\"SPY\",\"SPY\",\"SPY\",\"SPY\",\"SPY\",\"SPY\",\"SPY\",\"SPY\",\"SPY\",\"SPY\",\"SPY\",\"SPY\",\"SPY\",\"SPY\",\"SPY\",\"SPY\",\"SPY\",\"SPY\",\"SPY\",\"SPY\",\"SPY\",\"SPY\",\"SPY\",\"SPY\",\"SPY\",\"SPY\",\"SPY\",\"SPY\",\"SPY\",\"SPY\",\"SPY\",\"SPY\",\"SPY\",\"SPY\",\"SPY\",\"SPY\",\"SPY\",\"SPY\",\"SPY\",\"SPY\",\"SPY\",\"SPY\",\"SPY\",\"SPY\",\"SPY\",\"SPY\",\"SPY\",\"SPY\",\"SPY\",\"SPY\",\"SPY\",\"SPY\",\"SPY\",\"SPY\",\"SPY\",\"SPY\",\"SPY\",\"SPY\",\"SPY\",\"SPY\",\"SPY\",\"SPY\",\"SPY\",\"SPY\",\"SPY\",\"SPY\",\"SPY\",\"SPY\",\"SPY\",\"SPY\",\"SPY\",\"SPY\",\"SPY\",\"SPY\",\"SPY\",\"SPY\",\"SPY\",\"SPY\",\"SPY\",\"SPY\",\"SPY\",\"SPY\",\"SPY\",\"SPY\",\"SPY\",\"SPY\",\"SPY\",\"SPY\",\"SPY\",\"SPY\",\"SPY\",\"SPY\",\"SPY\",\"SPY\",\"SPY\",\"SPY\",\"SPY\",\"SPY\",\"SPY\",\"SPY\",\"SPY\",\"SPY\",\"SPY\",\"SPY\",\"SPY\",\"SPY\",\"SPY\",\"SPY\",\"SPY\",\"SPY\",\"SPY\",\"SPY\",\"SPY\",\"SPY\",\"SPY\",\"SPY\",\"SPY\",\"SPY\",\"SPY\",\"SPY\",\"SPY\",\"SPY\",\"SPY\",\"SPY\",\"SPY\",\"SPY\",\"SPY\",\"SPY\",\"SPY\",\"SPY\",\"SPY\",\"SPY\",\"SPY\",\"SPY\",\"SPY\",\"SPY\",\"SPY\",\"SPY\"],\"shape\":[150],\"dtype\":\"object\",\"order\":\"little\"}],[\"SMA20\",{\"type\":\"ndarray\",\"array\":{\"type\":\"bytes\",\"data\":\"AAAAiFkdfEBmZmZuqxd8QAAAAKhUE3xAZmZmRsQPfEBmZmb+igp8QM3MzIR2BHxAZmZmFmT/e0AAAACgJft7QM3MzFQY93tAzczMxNXxe0CamZmZzux7QGZmZl7H6HtAAAAA6Ajme0AAAACw+OJ7QAAAAHBD4HtAzczMJJPce0BmZmYG9th7QAAAABBN1XtAZmZmTtfUe0AzMzPbbtZ7QGZmZhZO2HtAmpmZyZXae0DNzMxci9x7QAAAANig3ntAAAAAUIrge0BmZmaOv+R7QJqZmQGo5ntAAAAAcAHoe0DNzMzUvOl7QAAAAADE7HtAZmZmTlDue0AAAAAg8+57QDMzM/NA7ntAMzMzk+Lte0AAAACI4O57QM3MzGwq8HtAAAAAQLjxe0DNzMw0q/N7QAAAAHAK9HtAAAAAQALze0AzMzNLBPR7QM3MzNxx9XtAmpmZ+fn2e0CamZlBhfh7QDMzMyus+XtAzczM9CL7e0AzMzMTKP57QJqZmSGO/XtAzczMVMH7e0AzMzNzI/l7QGZmZv5l9ntAMzMzw4b0e0CamZnpt/J7QM3MzGx48HtAAAAAuC/te0AzMzPbiup7QGZmZr5x6HtAAAAAyFLme0AzMzNT0eR7QJqZmRFx4ntAZmZmponee0CamZnZPNh7QDMzM8Pj0HtAmpmZuQzJe0BmZmZG6cF7QDMzM5NLu3tAAAAAqPm0e0BmZmYmZLJ7QGZmZvZtsXtAMzMzOxywe0DNzMxUbbB7QAAAAPCxsHtAAAAAkMyve0AAAADg2a17QGZmZu4GqntAAAAAoIaie0A1MzOL2Jl7QM7MzKRHkXtAm5mZea6Je0DOzMx8hIF7QDUzMyNLeHtAm5mZISBwe0DOzMwUnml7QAIAAPhDZHtANTMz0/hde0A1MzNDC1Z7QAIAABDYTHtANTMzS7dEe0BoZmZO+zl7QJuZmUH5LntAMzMzU68ke0AAAAAATBt7QJqZmTkAEntAmpmZ2RoKe0DNzMykFAR7QAAAABgbAntAMzMz62j9ekBmZmbu1Pd6QM3MzIxE8npAzczMDC/tekAAAAAgOOh6QJqZmYFI43pAAAAAUMDdekDNzMyEHth6QDMzM5NL0npAAAAAcPHLekAAAAAAZMV6QAAAAJjSvnpAAAAA+Le7ekAzMzMr67h6QDMzMyM/tXpAzczM7GCyekAAAADYsrF6QJqZmbmtr3pAZmZmLumtekCamZkJ46t6QDMzM+tdrHpAmpmZATevekAAAABIGLF6QJqZmfEJs3pAZmZmvlC0ekDNzMykIbV6QGZmZv6FtnpAAAAAyPy2ekBmZma+pbd6QDMzM6P1unpAmpmZ6Sa9ekCamZnpJr56QAAAABDjvHpAzczMvK+8ekCamZlhdL16QM3MzJzTuHpAmpmZefixekAzMzN7I616QM3MzLyDp3pAAAAAuC2gekAAAADA2Zl6QDMzMyPqknpAzczMFGuLekDNzMw0G4Z6QDMzM1tMg3pAmpmZ0WKAekAzMzNLTHx6QJqZmfHneXpAAAAA8Dx4ekAAAABYTnR6QJqZmUF1cXpAMzMzc31vekAAAAAY4216QM3MzASwbHpA\"},\"shape\":[150],\"dtype\":\"float64\",\"order\":\"little\"}],[\"SMA40\",{\"type\":\"ndarray\",\"array\":{\"type\":\"bytes\",\"data\":\"mpmZma0XfEDNzMz05xh8QAAAAEQaGnxAMzMzdw0afEDNzMxkyhl8QGZmZqrAF3xAZmZm/iMWfECamZl9zhR8QAAAANwrE3xAZmZm/kYRfEDNzMwQig98QAAAAARIDXxAmpmZPXwLfEAAAADcvQl8QM3MzAQvCHxAMzMznyEGfEBmZmYG3QN8QAAAAFyrAHxAAAAAmAr+e0DNzMwYoPx7QDMzM8/T+ntAAAAAnCD5e0BmZmYC8Pd7QDMzM48y93tAMzMzp4r1e0CamZkJm/R7QAAAAAwG83tAAAAAiJPxe0DNzMyUavB7QGZmZuJM73tAAAAAdI/te0AzMzM/3et7QJqZme0k6ntAmpmZoW3oe0AAAAD8ked7QM3MzMhe5ntAMzMzI1fle0BmZmYifOR7QDMzM99w5HtAmpmZjbjke0DNzMwwKeZ7QDMzM9MD6HtAMzMzq8Lpe0DNzMwMk+t7QJqZmT0b7XtAmpmZQfHve0BmZmYKaPJ7QM3MzMjH8ntAzczMFL/ye0CamZm58/J7QGZmZiZb8ntAmpmZ8bzxe0BmZmZufPB7QAAAAIAt73tAAAAAIAjue0AAAACkWu17QDMzM/8U7XtAZmZm/v7se0CamZnhbex7QM3MzKi56ntAzczM+Ebpe0AzMzNb1+Z7QGZmZt7u43tAmpmZ/cjge0DNzMy4yt17QAAAAEQ323tAmpmZ3ZDZe0AAAAAk+dd7QJqZmaWX1ntAMzMz15/Ue0CamZmpadN7QJqZmVmc0ntAzczMPELRe0BmZmYmKc97QDMzM1Oby3tAmpmZvYjGe0DNzMwkJcF7QGZmZjbNu3tAZmZm5j+3e0AzMzPH+rF7QM3MzGRqq3tAmpmZfS6ke0AAAADsQJ17QM3MzFiolntAzczMDPGPe0AzMzNrq4h7QAAAANzogHtAzczMuI17e0BmZmaitHV7QGZmZr6Kb3tAAAAAVI5qe0AAAAD4/mV7QM3MzGTmYHtAzczMXPpbe0CamZnJDVd7QAAAANxQUntAMzMzu6BLe0CamZlJjkR7QDMzM4P5PXtAzczMxFk3e0CamZmhQTB7QJqZmVG0KXtAZmZmMq8je0BmZmY+MR57QDMzMzMiGHtAmpmZWf4Qe0AAAAAIHgl7QJqZmfHEAXtAMzMzo9n6ekBmZmY28vN6QDMzMzv37HpAZmZmdtbmekDNzMyI2eF6QJqZmUnk3HpAmpmZ6f7YekDNzMwQ/9Z6QDMzM2vj1HpAAAAA+IXTekBmZmZqrtF6QDMzM38c0HpAMzMzb0TOekAzMzMTNcx6QDMzMycjynpAZmZmpo3HekDNzMyo+MR6QJqZmYlzw3pAzczMdEXBekDNzMzAfL56QAAAAIRNvHpAAAAAdM26ekBmZmbCWbl6QM3MzESatXpAzczMqNWxekBmZmaaaK56QJqZmXW2qnpAzczMYAimekCamZnVG6N6QGZmZpIQoXpAZmZmrkGeekAzMzOTkpx6QM3MzIzOm3pAMzMzO8KaekDNzMwkaZl6QM3MzFxymHpAMzMzV/GXekCamZn9oZd6QJqZmRVOl3pAZmZmLtKWekAAAAAUY5V6QM3MzOCvlHpA\"},\"shape\":[150],\"dtype\":\"float64\",\"order\":\"little\"}],[\"tipo_vela\",{\"type\":\"ndarray\",\"array\":[null,null,\"Engulfing\",null,null,null,null,null,null,null,null,null,\"Marubozu\",null,null,null,null,null,null,null,null,null,null,null,null,\"Takuri \",null,null,null,null,null,null,null,null,\"Marubozu\",\"Takuri \",null,null,null,\"Harami\",null,null,null,null,null,null,null,null,null,null,null,null,\"Engulfing\",null,null,null,null,null,null,null,\"Takuri \",null,null,null,null,null,null,null,null,null,\"Engulfing\",null,null,null,null,null,null,null,null,null,null,null,null,\"Marubozu\",null,null,null,null,null,null,null,null,null,null,null,null,null,null,null,null,null,null,null,null,null,null,null,\"Engulfing\",null,null,null,null,\"Marubozu\",null,null,null,null,null,null,null,null,null,null,null,null,null,null,\"Takuri \",null,null,\"Marubozu\",null,null,null,null,null,null,null,null,\"Engulfing\",null,null,null,\"Engulfing\",null,null,null,\"Harami\",null,null],\"shape\":[150],\"dtype\":\"object\",\"order\":\"little\"}],[\"pivotHigh\",{\"type\":\"ndarray\",\"array\":{\"type\":\"bytes\",\"data\":\"AAAAAAAA+H8AAAAAAAD4fwAAAAAAAPh/AAAAAAAA+H8AAAAAAAD4fwAAAAAAAPh/AAAAAAAA+H8AAAAAAAD4fwAAAAAAAPh/AAAAAAAA+H8AAAAAAAD4fwAAAAAAAPh/AAAAAAAA+H8AAAAAAAD4fwAAAAAAAPh/AAAAAAAA+H8AAAAAAAD4fwAAAAAAAPh/AAAAAAAA+H8AAAAAAAD4fwAAAAAAAPh/AAAAAAAA+H8AAAAAAAD4fwAAAAAAAPh/vXSTWDcLfEAAAAAAAAD4fwAAAAAAAPh/AAAAAAAA+H8AAAAAAAD4fwAAAAAAAPh/AAAAAAAA+H8AAAAAAAD4fwAAAAAAAPh/AAAAAAAA+H8AAAAAAAD4fwAAAAAAAPh/AAAAAAAA+H8AAAAAAAD4fwAAAAAAAPh/AAAAAAAA+H8AAAAAAAD4fwAAAAAAAPh/AAAAAAAA+H8AAAAAAAD4fwAAAAAAAPh/AAAAAAAA+H+8dJN4aip8QAAAAAAAAPh/AAAAAAAA+H8AAAAAAAD4fwAAAAAAAPh/AAAAAAAA+H8AAAAAAAD4fwAAAAAAAPh/AAAAAAAA+H8AAAAAAAD4fwAAAAAAAPh/AAAAAAAA+H8AAAAAAAD4fwAAAAAAAPh/AAAAAAAA+H8AAAAAAAD4fwAAAAAAAPh/AAAAAAAA+H8AAAAAAAD4fwAAAAAAAPh/AAAAAAAA+H8AAAAAAAD4fwAAAAAAAPh/AAAAAAAA+H+8dJOYxr17QAAAAAAAAPh/AAAAAAAA+H8AAAAAAAD4fwAAAAAAAPh/AAAAAAAA+H8AAAAAAAD4fwAAAAAAAPh/AAAAAAAA+H8AAAAAAAD4fwAAAAAAAPh/AAAAAAAA+H8AAAAAAAD4fwAAAAAAAPh/AAAAAAAA+H8AAAAAAAD4fwAAAAAAAPh/AAAAAAAA+H8AAAAAAAD4fwAAAAAAAPh/AAAAAAAA+H8AAAAAAAD4fwAAAAAAAPh/AAAAAAAA+H8AAAAAAAD4fwAAAAAAAPh/AAAAAAAA+H8AAAAAAAD4fwAAAAAAAPh/AAAAAAAA+H8AAAAAAAD4fwAAAAAAAPh/AAAAAAAA+H8AAAAAAAD4fwAAAAAAAPh/AAAAAAAA+H8AAAAAAAD4fwAAAAAAAPh/AAAAAAAA+H8AAAAAAAD4fwAAAAAAAPh/AAAAAAAA+H8AAAAAAAD4fwAAAAAAAPh/AAAAAAAA+H8AAAAAAAD4fwAAAAAAAPh/vHSTuJ39ekAAAAAAAAD4fwAAAAAAAPh/AAAAAAAA+H8AAAAAAAD4fwAAAAAAAPh/AAAAAAAA+H8AAAAAAAD4fwAAAAAAAPh/AAAAAAAA+H8AAAAAAAD4fwAAAAAAAPh/AAAAAAAA+H8AAAAAAAD4fwAAAAAAAPh/AAAAAAAA+H8AAAAAAAD4fwAAAAAAAPh/AAAAAAAA+H8AAAAAAAD4fwAAAAAAAPh/AAAAAAAA+H8AAAAAAAD4fwAAAAAAAPh/AAAAAAAA+H8AAAAAAAD4fwAAAAAAAPh/AAAAAAAA+H8AAAAAAAD4fwAAAAAAAPh/AAAAAAAA+H8AAAAAAAD4fwAAAAAAAPh/\"},\"shape\":[150],\"dtype\":\"float64\",\"order\":\"little\"}],[\"pivotLow\",{\"type\":\"ndarray\",\"array\":{\"type\":\"bytes\",\"data\":\"AAAAAAAA+H8AAAAAAAD4fwAAAAAAAPh/AAAAAAAA+H8AAAAAAAD4f0WLbCfdrHtAAAAAAAAA+H8AAAAAAAD4fwAAAAAAAPh/AAAAAAAA+H8AAAAAAAD4fwAAAAAAAPh/AAAAAAAA+H8AAAAAAAD4fwAAAAAAAPh/AAAAAAAA+H8AAAAAAAD4fwAAAAAAAPh/AAAAAAAA+H8AAAAAAAD4fwAAAAAAAPh/AAAAAAAA+H8AAAAAAAD4fwAAAAAAAPh/AAAAAAAA+H8AAAAAAAD4fwAAAAAAAPh/AAAAAAAA+H8AAAAAAAD4fwAAAAAAAPh/AAAAAAAA+H9Ei2xnOdZ7QAAAAAAAAPh/AAAAAAAA+H8AAAAAAAD4fwAAAAAAAPh/AAAAAAAA+H8AAAAAAAD4fwAAAAAAAPh/AAAAAAAA+H8AAAAAAAD4fwAAAAAAAPh/AAAAAAAA+H8AAAAAAAD4fwAAAAAAAPh/AAAAAAAA+H8AAAAAAAD4fwAAAAAAAPh/AAAAAAAA+H8AAAAAAAD4fwAAAAAAAPh/AAAAAAAA+H8AAAAAAAD4fwAAAAAAAPh/AAAAAAAA+H8AAAAAAAD4fwAAAAAAAPh/AAAAAAAA+H8AAAAAAAD4fwAAAAAAAPh/AAAAAAAA+H8AAAAAAAD4fwAAAAAAAPh/RItsB66De0AAAAAAAAD4fwAAAAAAAPh/AAAAAAAA+H8AAAAAAAD4fwAAAAAAAPh/AAAAAAAA+H8AAAAAAAD4fwAAAAAAAPh/AAAAAAAA+H8AAAAAAAD4fwAAAAAAAPh/AAAAAAAA+H8AAAAAAAD4fwAAAAAAAPh/AAAAAAAA+H8AAAAAAAD4fwAAAAAAAPh/AAAAAAAA+H8AAAAAAAD4fwAAAAAAAPh/AAAAAAAA+H8AAAAAAAD4fwAAAAAAAPh/AAAAAAAA+H8AAAAAAAD4fwAAAAAAAPh/AAAAAAAA+H8AAAAAAAD4fwAAAAAAAPh/AAAAAAAA+H8AAAAAAAD4fwAAAAAAAPh/AAAAAAAA+H8AAAAAAAD4fwAAAAAAAPh/AAAAAAAA+H8AAAAAAAD4fwAAAAAAAPh/AAAAAAAA+H8AAAAAAAD4fwAAAAAAAPh/AAAAAAAA+H9Ei2znJGx6QAAAAAAAAPh/AAAAAAAA+H8AAAAAAAD4fwAAAAAAAPh/AAAAAAAA+H8AAAAAAAD4fwAAAAAAAPh/AAAAAAAA+H8AAAAAAAD4fwAAAAAAAPh/AAAAAAAA+H8AAAAAAAD4fwAAAAAAAPh/AAAAAAAA+H8AAAAAAAD4fwAAAAAAAPh/AAAAAAAA+H8AAAAAAAD4fwAAAAAAAPh/AAAAAAAA+H8AAAAAAAD4fwAAAAAAAPh/AAAAAAAA+H8AAAAAAAD4fwAAAAAAAPh/AAAAAAAA+H8AAAAAAAD4fwAAAAAAAPh/RYtsJ91CekAAAAAAAAD4fwAAAAAAAPh/AAAAAAAA+H8AAAAAAAD4fwAAAAAAAPh/AAAAAAAA+H8AAAAAAAD4fwAAAAAAAPh/AAAAAAAA+H8AAAAAAAD4fwAAAAAAAPh/AAAAAAAA+H8AAAAAAAD4fwAAAAAAAPh/\"},\"shape\":[150],\"dtype\":\"float64\",\"order\":\"little\"}],[\"isPivot\",{\"type\":\"ndarray\",\"array\":{\"type\":\"bytes\",\"data\":\"AAAAAAAA+H8AAAAAAAD4fwAAAAAAAPh/AAAAAAAA+H8AAAAAAAD4fwAAAAAAAABAAAAAAAAA+H8AAAAAAAD4fwAAAAAAAPh/AAAAAAAA+H8AAAAAAAD4fwAAAAAAAPh/AAAAAAAA+H8AAAAAAAD4fwAAAAAAAPh/AAAAAAAA+H8AAAAAAAD4fwAAAAAAAPh/AAAAAAAA+H8AAAAAAAD4fwAAAAAAAPh/AAAAAAAA+H8AAAAAAAD4fwAAAAAAAPh/AAAAAAAA8D8AAAAAAAD4fwAAAAAAAPh/AAAAAAAA+H8AAAAAAAD4fwAAAAAAAPh/AAAAAAAA+H8AAAAAAAAAQAAAAAAAAPh/AAAAAAAA+H8AAAAAAAD4fwAAAAAAAPh/AAAAAAAA+H8AAAAAAAD4fwAAAAAAAPh/AAAAAAAA+H8AAAAAAAD4fwAAAAAAAPh/AAAAAAAA+H8AAAAAAAD4fwAAAAAAAPh/AAAAAAAA+H8AAAAAAADwPwAAAAAAAPh/AAAAAAAA+H8AAAAAAAD4fwAAAAAAAPh/AAAAAAAA+H8AAAAAAAD4fwAAAAAAAPh/AAAAAAAA+H8AAAAAAAD4fwAAAAAAAPh/AAAAAAAA+H8AAAAAAAD4fwAAAAAAAPh/AAAAAAAA+H8AAAAAAAD4fwAAAAAAAPh/AAAAAAAAAEAAAAAAAAD4fwAAAAAAAPh/AAAAAAAA+H8AAAAAAAD4fwAAAAAAAPh/AAAAAAAA+H8AAAAAAADwPwAAAAAAAPh/AAAAAAAA+H8AAAAAAAD4fwAAAAAAAPh/AAAAAAAA+H8AAAAAAAD4fwAAAAAAAPh/AAAAAAAA+H8AAAAAAAD4fwAAAAAAAPh/AAAAAAAA+H8AAAAAAAD4fwAAAAAAAPh/AAAAAAAA+H8AAAAAAAD4fwAAAAAAAPh/AAAAAAAA+H8AAAAAAAD4fwAAAAAAAPh/AAAAAAAA+H8AAAAAAAD4fwAAAAAAAPh/AAAAAAAA+H8AAAAAAAD4fwAAAAAAAPh/AAAAAAAA+H8AAAAAAAD4fwAAAAAAAPh/AAAAAAAA+H8AAAAAAAD4fwAAAAAAAPh/AAAAAAAA+H8AAAAAAAD4fwAAAAAAAPh/AAAAAAAA+H8AAAAAAAAAQAAAAAAAAPh/AAAAAAAA+H8AAAAAAAD4fwAAAAAAAPh/AAAAAAAA+H8AAAAAAAD4fwAAAAAAAPh/AAAAAAAA+H8AAAAAAAD4fwAAAAAAAPh/AAAAAAAA8D8AAAAAAAD4fwAAAAAAAPh/AAAAAAAA+H8AAAAAAAD4fwAAAAAAAPh/AAAAAAAA+H8AAAAAAAD4fwAAAAAAAPh/AAAAAAAA+H8AAAAAAAD4fwAAAAAAAPh/AAAAAAAA+H8AAAAAAAD4fwAAAAAAAPh/AAAAAAAA+H8AAAAAAAD4fwAAAAAAAPh/AAAAAAAAAEAAAAAAAAD4fwAAAAAAAPh/AAAAAAAA+H8AAAAAAAD4fwAAAAAAAPh/AAAAAAAA+H8AAAAAAAD4fwAAAAAAAPh/AAAAAAAA+H8AAAAAAAD4fwAAAAAAAPh/AAAAAAAA+H8AAAAAAAD4fwAAAAAAAPh/\"},\"shape\":[150],\"dtype\":\"float64\",\"order\":\"little\"}]]}}},\"view\":{\"type\":\"object\",\"name\":\"CDSView\",\"id\":\"p1099\",\"attributes\":{\"filter\":{\"type\":\"object\",\"name\":\"AllIndices\",\"id\":\"p1100\"}}},\"glyph\":{\"type\":\"object\",\"name\":\"Line\",\"id\":\"p1095\",\"attributes\":{\"x\":{\"type\":\"field\",\"field\":\"index\"},\"y\":{\"type\":\"field\",\"field\":\"SMA40\"},\"line_color\":\"red\"}},\"nonselection_glyph\":{\"type\":\"object\",\"name\":\"Line\",\"id\":\"p1096\",\"attributes\":{\"x\":{\"type\":\"field\",\"field\":\"index\"},\"y\":{\"type\":\"field\",\"field\":\"SMA40\"},\"line_color\":\"red\",\"line_alpha\":0.1}},\"muted_glyph\":{\"type\":\"object\",\"name\":\"Line\",\"id\":\"p1097\",\"attributes\":{\"x\":{\"type\":\"field\",\"field\":\"index\"},\"y\":{\"type\":\"field\",\"field\":\"SMA40\"},\"line_color\":\"red\",\"line_alpha\":0.2}}}},{\"type\":\"object\",\"name\":\"GlyphRenderer\",\"id\":\"p1111\",\"attributes\":{\"data_source\":{\"type\":\"object\",\"name\":\"ColumnDataSource\",\"id\":\"p1102\",\"attributes\":{\"selected\":{\"type\":\"object\",\"name\":\"Selection\",\"id\":\"p1103\",\"attributes\":{\"indices\":[],\"line_indices\":[]}},\"selection_policy\":{\"type\":\"object\",\"name\":\"UnionRenderers\",\"id\":\"p1104\"},\"data\":{\"type\":\"map\",\"entries\":[[\"index\",{\"type\":\"ndarray\",\"array\":{\"type\":\"bytes\",\"data\":\"rAEAAMIBAADaAQAACQIAAA==\"},\"shape\":[4],\"dtype\":\"int32\",\"order\":\"little\"}],[\"Close\",{\"type\":\"ndarray\",\"array\":{\"type\":\"bytes\",\"data\":\"AAAAoHAJfEAAAABgZiZ8QAEAAMB0vXtAAAAAoHDlekA=\"},\"shape\":[4],\"dtype\":\"float64\",\"order\":\"little\"}],[\"High\",{\"type\":\"ndarray\",\"array\":{\"type\":\"bytes\",\"data\":\"AQAAQDMLfEAAAABgZip8QAAAAIDCvXtAAAAAoJn9ekA=\"},\"shape\":[4],\"dtype\":\"float64\",\"order\":\"little\"}],[\"Low\",{\"type\":\"ndarray\",\"array\":{\"type\":\"bytes\",\"data\":\"AAAAYLgCfEAAAACAziF8QAAAAGCPsntAAAAA4KPgekA=\"},\"shape\":[4],\"dtype\":\"float64\",\"order\":\"little\"}],[\"Open\",{\"type\":\"ndarray\",\"array\":{\"type\":\"bytes\",\"data\":\"AQAAQOEGfEAAAADA9SR8QAAAAGBmtHtAAQAAQDPzekA=\"},\"shape\":[4],\"dtype\":\"float64\",\"order\":\"little\"}],[\"Volume\",{\"type\":\"ndarray\",\"array\":{\"type\":\"bytes\",\"data\":\"RTFkAKSX5wBuD0YAlhM7AQ==\"},\"shape\":[4],\"dtype\":\"int32\",\"order\":\"little\"}],[\"datetime\",{\"type\":\"ndarray\",\"array\":{\"type\":\"bytes\",\"data\":\"AAAEH1ioeEIAACy/Uql4QgAADGYzq3hCAAD8GxKueEI=\"},\"shape\":[4],\"dtype\":\"float64\",\"order\":\"little\"}],[\"companyName\",{\"type\":\"ndarray\",\"array\":[\"SPY\",\"SPY\",\"SPY\",\"SPY\"],\"shape\":[4],\"dtype\":\"object\",\"order\":\"little\"}],[\"SMA20\",{\"type\":\"ndarray\",\"array\":{\"type\":\"bytes\",\"data\":\"AAAAUIrge0AzMzMTKP57QM3MzFRtsHtAmpmZATevekA=\"},\"shape\":[4],\"dtype\":\"float64\",\"order\":\"little\"}],[\"SMA40\",{\"type\":\"ndarray\",\"array\":{\"type\":\"bytes\",\"data\":\"MzMzp4r1e0BmZmYKaPJ7QJqZmalp03tAAAAA+IXTekA=\"},\"shape\":[4],\"dtype\":\"float64\",\"order\":\"little\"}],[\"tipo_vela\",{\"type\":\"ndarray\",\"array\":[null,null,\"Engulfing\",null],\"shape\":[4],\"dtype\":\"object\",\"order\":\"little\"}],[\"pivotHigh\",{\"type\":\"ndarray\",\"array\":{\"type\":\"bytes\",\"data\":\"vXSTWDcLfEC8dJN4aip8QLx0k5jGvXtAvHSTuJ39ekA=\"},\"shape\":[4],\"dtype\":\"float64\",\"order\":\"little\"}],[\"pivotLow\",{\"type\":\"ndarray\",\"array\":{\"type\":\"bytes\",\"data\":\"AAAAAAAA+H8AAAAAAAD4fwAAAAAAAPh/AAAAAAAA+H8=\"},\"shape\":[4],\"dtype\":\"float64\",\"order\":\"little\"}],[\"isPivot\",{\"type\":\"ndarray\",\"array\":{\"type\":\"bytes\",\"data\":\"AAAAAAAA8D8AAAAAAADwPwAAAAAAAPA/AAAAAAAA8D8=\"},\"shape\":[4],\"dtype\":\"float64\",\"order\":\"little\"}]]}}},\"view\":{\"type\":\"object\",\"name\":\"CDSView\",\"id\":\"p1112\",\"attributes\":{\"filter\":{\"type\":\"object\",\"name\":\"AllIndices\",\"id\":\"p1113\"}}},\"glyph\":{\"type\":\"object\",\"name\":\"Scatter\",\"id\":\"p1108\",\"attributes\":{\"x\":{\"type\":\"field\",\"field\":\"index\"},\"y\":{\"type\":\"field\",\"field\":\"pivotHigh\"},\"size\":{\"type\":\"value\",\"value\":10},\"line_color\":{\"type\":\"value\",\"value\":\"navy\"},\"line_alpha\":{\"type\":\"value\",\"value\":0.5},\"fill_color\":{\"type\":\"value\",\"value\":\"blue\"},\"fill_alpha\":{\"type\":\"value\",\"value\":0.5},\"hatch_alpha\":{\"type\":\"value\",\"value\":0.5}}},\"nonselection_glyph\":{\"type\":\"object\",\"name\":\"Scatter\",\"id\":\"p1109\",\"attributes\":{\"x\":{\"type\":\"field\",\"field\":\"index\"},\"y\":{\"type\":\"field\",\"field\":\"pivotHigh\"},\"size\":{\"type\":\"value\",\"value\":10},\"line_color\":{\"type\":\"value\",\"value\":\"navy\"},\"line_alpha\":{\"type\":\"value\",\"value\":0.1},\"fill_color\":{\"type\":\"value\",\"value\":\"blue\"},\"fill_alpha\":{\"type\":\"value\",\"value\":0.1},\"hatch_alpha\":{\"type\":\"value\",\"value\":0.1}}},\"muted_glyph\":{\"type\":\"object\",\"name\":\"Scatter\",\"id\":\"p1110\",\"attributes\":{\"x\":{\"type\":\"field\",\"field\":\"index\"},\"y\":{\"type\":\"field\",\"field\":\"pivotHigh\"},\"size\":{\"type\":\"value\",\"value\":10},\"line_color\":{\"type\":\"value\",\"value\":\"navy\"},\"line_alpha\":{\"type\":\"value\",\"value\":0.2},\"fill_color\":{\"type\":\"value\",\"value\":\"blue\"},\"fill_alpha\":{\"type\":\"value\",\"value\":0.2},\"hatch_alpha\":{\"type\":\"value\",\"value\":0.2}}}}},{\"type\":\"object\",\"name\":\"GlyphRenderer\",\"id\":\"p1124\",\"attributes\":{\"data_source\":{\"type\":\"object\",\"name\":\"ColumnDataSource\",\"id\":\"p1115\",\"attributes\":{\"selected\":{\"type\":\"object\",\"name\":\"Selection\",\"id\":\"p1116\",\"attributes\":{\"indices\":[],\"line_indices\":[]}},\"selection_policy\":{\"type\":\"object\",\"name\":\"UnionRenderers\",\"id\":\"p1117\"},\"data\":{\"type\":\"map\",\"entries\":[[\"index\",{\"type\":\"ndarray\",\"array\":{\"type\":\"bytes\",\"data\":\"mQEAALMBAADTAQAA/gEAABsCAAA=\"},\"shape\":[5],\"dtype\":\"int32\",\"order\":\"little\"}],[\"Close\",{\"type\":\"ndarray\",\"array\":{\"type\":\"bytes\",\"data\":\"AAAAIK6ze0AAAACAFNp7QAAAAMD1iHtAAQAAQPNsekAAAADgUUh6QA==\"},\"shape\":[5],\"dtype\":\"float64\",\"order\":\"little\"}],[\"High\",{\"type\":\"ndarray\",\"array\":{\"type\":\"bytes\",\"data\":\"AAAAYGbGe0AAAAAgru97QAAAAOCjkHtAAAAAgBSOekAAAAAAj156QA==\"},\"shape\":[5],\"dtype\":\"float64\",\"order\":\"little\"}],[\"Low\",{\"type\":\"ndarray\",\"array\":{\"type\":\"bytes\",\"data\":\"AQAAQOGse0AAAACAPdZ7QAAAACCyg3tAAAAAAClsekABAABA4UJ6QA==\"},\"shape\":[5],\"dtype\":\"float64\",\"order\":\"little\"}],[\"Open\",{\"type\":\"ndarray\",\"array\":{\"type\":\"bytes\",\"data\":\"AAAAgMKxe0AAAACAwu17QAAAAADXjXtAAQAAQDODekAAAACgmV16QA==\"},\"shape\":[5],\"dtype\":\"float64\",\"order\":\"little\"}],[\"Volume\",{\"type\":\"ndarray\",\"array\":{\"type\":\"bytes\",\"data\":\"7JnEAGjqiwDUPF0AQm23ABjnoAA=\"},\"shape\":[5],\"dtype\":\"int32\",\"order\":\"little\"}],[\"datetime\",{\"type\":\"ndarray\",\"array\":{\"type\":\"bytes\",\"data\":\"AAB8Xf2meEIAAMSEqqh4QgAATADhqnhCAAA0nXeteEIAAJxuaa94Qg==\"},\"shape\":[5],\"dtype\":\"float64\",\"order\":\"little\"}],[\"companyName\",{\"type\":\"ndarray\",\"array\":[\"SPY\",\"SPY\",\"SPY\",\"SPY\",\"SPY\"],\"shape\":[5],\"dtype\":\"object\",\"order\":\"little\"}],[\"SMA20\",{\"type\":\"ndarray\",\"array\":{\"type\":\"bytes\",\"data\":\"zczMhHYEfEAAAAAg8+57QJqZmbkMyXtAAAAAAGTFekAAAAC4LaB6QA==\"},\"shape\":[5],\"dtype\":\"float64\",\"order\":\"little\"}],[\"SMA40\",{\"type\":\"ndarray\",\"array\":{\"type\":\"bytes\",\"data\":\"ZmZmqsAXfEAzMzM/3et7QJqZmf3I4HtAAAAACB4Je0DNzMxgCKZ6QA==\"},\"shape\":[5],\"dtype\":\"float64\",\"order\":\"little\"}],[\"tipo_vela\",{\"type\":\"ndarray\",\"array\":[null,null,null,null,null],\"shape\":[5],\"dtype\":\"object\",\"order\":\"little\"}],[\"pivotHigh\",{\"type\":\"ndarray\",\"array\":{\"type\":\"bytes\",\"data\":\"AAAAAAAA+H8AAAAAAAD4fwAAAAAAAPh/AAAAAAAA+H8AAAAAAAD4fw==\"},\"shape\":[5],\"dtype\":\"float64\",\"order\":\"little\"}],[\"pivotLow\",{\"type\":\"ndarray\",\"array\":{\"type\":\"bytes\",\"data\":\"RYtsJ92se0BEi2xnOdZ7QESLbAeug3tARIts5yRsekBFi2wn3UJ6QA==\"},\"shape\":[5],\"dtype\":\"float64\",\"order\":\"little\"}],[\"isPivot\",{\"type\":\"ndarray\",\"array\":{\"type\":\"bytes\",\"data\":\"AAAAAAAAAEAAAAAAAAAAQAAAAAAAAABAAAAAAAAAAEAAAAAAAAAAQA==\"},\"shape\":[5],\"dtype\":\"float64\",\"order\":\"little\"}]]}}},\"view\":{\"type\":\"object\",\"name\":\"CDSView\",\"id\":\"p1125\",\"attributes\":{\"filter\":{\"type\":\"object\",\"name\":\"AllIndices\",\"id\":\"p1126\"}}},\"glyph\":{\"type\":\"object\",\"name\":\"Scatter\",\"id\":\"p1121\",\"attributes\":{\"x\":{\"type\":\"field\",\"field\":\"index\"},\"y\":{\"type\":\"field\",\"field\":\"pivotLow\"},\"size\":{\"type\":\"value\",\"value\":10},\"line_color\":{\"type\":\"value\",\"value\":\"navy\"},\"line_alpha\":{\"type\":\"value\",\"value\":0.5},\"fill_color\":{\"type\":\"value\",\"value\":\"green\"},\"fill_alpha\":{\"type\":\"value\",\"value\":0.5},\"hatch_alpha\":{\"type\":\"value\",\"value\":0.5}}},\"nonselection_glyph\":{\"type\":\"object\",\"name\":\"Scatter\",\"id\":\"p1122\",\"attributes\":{\"x\":{\"type\":\"field\",\"field\":\"index\"},\"y\":{\"type\":\"field\",\"field\":\"pivotLow\"},\"size\":{\"type\":\"value\",\"value\":10},\"line_color\":{\"type\":\"value\",\"value\":\"navy\"},\"line_alpha\":{\"type\":\"value\",\"value\":0.1},\"fill_color\":{\"type\":\"value\",\"value\":\"green\"},\"fill_alpha\":{\"type\":\"value\",\"value\":0.1},\"hatch_alpha\":{\"type\":\"value\",\"value\":0.1}}},\"muted_glyph\":{\"type\":\"object\",\"name\":\"Scatter\",\"id\":\"p1123\",\"attributes\":{\"x\":{\"type\":\"field\",\"field\":\"index\"},\"y\":{\"type\":\"field\",\"field\":\"pivotLow\"},\"size\":{\"type\":\"value\",\"value\":10},\"line_color\":{\"type\":\"value\",\"value\":\"navy\"},\"line_alpha\":{\"type\":\"value\",\"value\":0.2},\"fill_color\":{\"type\":\"value\",\"value\":\"green\"},\"fill_alpha\":{\"type\":\"value\",\"value\":0.2},\"hatch_alpha\":{\"type\":\"value\",\"value\":0.2}}}}}],\"toolbar\":{\"type\":\"object\",\"name\":\"Toolbar\",\"id\":\"p1012\",\"attributes\":{\"tools\":[{\"type\":\"object\",\"name\":\"PanTool\",\"id\":\"p1025\"},{\"type\":\"object\",\"name\":\"WheelZoomTool\",\"id\":\"p1026\",\"attributes\":{\"renderers\":\"auto\"}},{\"type\":\"object\",\"name\":\"BoxZoomTool\",\"id\":\"p1027\",\"attributes\":{\"dimensions\":\"both\",\"overlay\":{\"type\":\"object\",\"name\":\"BoxAnnotation\",\"id\":\"p1028\",\"attributes\":{\"syncable\":false,\"line_color\":\"black\",\"line_alpha\":1.0,\"line_width\":2,\"line_dash\":[4,4],\"fill_color\":\"lightgrey\",\"fill_alpha\":0.5,\"level\":\"overlay\",\"visible\":false,\"left\":{\"type\":\"number\",\"value\":\"nan\"},\"right\":{\"type\":\"number\",\"value\":\"nan\"},\"top\":{\"type\":\"number\",\"value\":\"nan\"},\"bottom\":{\"type\":\"number\",\"value\":\"nan\"},\"left_units\":\"canvas\",\"right_units\":\"canvas\",\"top_units\":\"canvas\",\"bottom_units\":\"canvas\",\"handles\":{\"type\":\"object\",\"name\":\"BoxInteractionHandles\",\"id\":\"p1034\",\"attributes\":{\"all\":{\"type\":\"object\",\"name\":\"AreaVisuals\",\"id\":\"p1033\",\"attributes\":{\"fill_color\":\"white\",\"hover_fill_color\":\"lightgray\"}}}}}}}},{\"type\":\"object\",\"name\":\"SaveTool\",\"id\":\"p1035\"},{\"type\":\"object\",\"name\":\"ResetTool\",\"id\":\"p1036\"},{\"type\":\"object\",\"name\":\"HelpTool\",\"id\":\"p1037\"},{\"type\":\"object\",\"name\":\"HoverTool\",\"id\":\"p1038\",\"attributes\":{\"renderers\":\"auto\",\"tooltips\":[[\"Index\",\"@index\"],[\"Open\",\"@Open\"],[\"High\",\"@High\"],[\"Low\",\"@Low\"],[\"Close\",\"@Close\"]]}}]}},\"left\":[{\"type\":\"object\",\"name\":\"LinearAxis\",\"id\":\"p1020\",\"attributes\":{\"ticker\":{\"type\":\"object\",\"name\":\"BasicTicker\",\"id\":\"p1021\",\"attributes\":{\"mantissas\":[1,2,5]}},\"formatter\":{\"type\":\"object\",\"name\":\"BasicTickFormatter\",\"id\":\"p1022\"},\"major_label_policy\":{\"type\":\"object\",\"name\":\"AllLabels\",\"id\":\"p1023\"}}}],\"below\":[{\"type\":\"object\",\"name\":\"LinearAxis\",\"id\":\"p1015\",\"attributes\":{\"ticker\":{\"type\":\"object\",\"name\":\"BasicTicker\",\"id\":\"p1016\",\"attributes\":{\"mantissas\":[1,2,5]}},\"formatter\":{\"type\":\"object\",\"name\":\"BasicTickFormatter\",\"id\":\"p1017\"},\"major_label_orientation\":0.8,\"major_label_policy\":{\"type\":\"object\",\"name\":\"AllLabels\",\"id\":\"p1018\"},\"axis_line_width\":2}}],\"center\":[{\"type\":\"object\",\"name\":\"Grid\",\"id\":\"p1019\",\"attributes\":{\"axis\":{\"id\":\"p1015\"}}},{\"type\":\"object\",\"name\":\"Grid\",\"id\":\"p1024\",\"attributes\":{\"dimension\":1,\"axis\":{\"id\":\"p1020\"}}},{\"type\":\"object\",\"name\":\"Legend\",\"id\":\"p1087\",\"attributes\":{\"items\":[{\"type\":\"object\",\"name\":\"LegendItem\",\"id\":\"p1088\",\"attributes\":{\"label\":{\"type\":\"value\",\"value\":\"SMA20\"},\"renderers\":[{\"id\":\"p1084\"}]}},{\"type\":\"object\",\"name\":\"LegendItem\",\"id\":\"p1101\",\"attributes\":{\"label\":{\"type\":\"value\",\"value\":\"SMA40\"},\"renderers\":[{\"id\":\"p1098\"}]}},{\"type\":\"object\",\"name\":\"LegendItem\",\"id\":\"p1114\",\"attributes\":{\"label\":{\"type\":\"value\",\"value\":\"Cambio Tendencia Bajista\"},\"renderers\":[{\"id\":\"p1111\"}]}},{\"type\":\"object\",\"name\":\"LegendItem\",\"id\":\"p1127\",\"attributes\":{\"label\":{\"type\":\"value\",\"value\":\"Cambio Tendencia Alcista\"},\"renderers\":[{\"id\":\"p1124\"}]}}]}}],\"background_fill_color\":\"#efefef\"}}]}};\n",
       "  const render_items = [{\"docid\":\"c34d9a71-ccdf-4548-a465-5cb7beeb86b1\",\"roots\":{\"p1003\":\"d497775d-0744-4904-83aa-37398e8ce26f\"},\"root_ids\":[\"p1003\"]}];\n",
       "  void root.Bokeh.embed.embed_items_notebook(docs_json, render_items);\n",
       "  }\n",
       "  if (root.Bokeh !== undefined) {\n",
       "    embed_document(root);\n",
       "  } else {\n",
       "    let attempts = 0;\n",
       "    const timer = setInterval(function(root) {\n",
       "      if (root.Bokeh !== undefined) {\n",
       "        clearInterval(timer);\n",
       "        embed_document(root);\n",
       "      } else {\n",
       "        attempts++;\n",
       "        if (attempts > 100) {\n",
       "          clearInterval(timer);\n",
       "          console.log(\"Bokeh: ERROR: Unable to run BokehJS code because BokehJS library is missing\");\n",
       "        }\n",
       "      }\n",
       "    }, 10, root)\n",
       "  }\n",
       "})(window);"
      ],
      "application/vnd.bokehjs_exec.v0+json": ""
     },
     "metadata": {
      "application/vnd.bokehjs_exec.v0+json": {
       "id": "p1003"
      }
     },
     "output_type": "display_data"
    }
   ],
   "source": [
    "#CODIGO DE REVISION CARLOS\n",
    "#dfpl = df.iloc[500:970]\n",
    "#id: 479\n",
    "dfpl = df.iloc[404:554]\n",
    "\n",
    "p = figure(width=2500, height=500,\n",
    "        title=\"CNCF\",\n",
    "        background_fill_color=\"#efefef\",\n",
    "        tooltips=[(\"Index\", \"@index\"), (\"Open\", \"@Open\"), (\"High\",\"@High\"), (\"Low\",\"@Low\"), (\"Close\",\"@Close\")]\n",
    "        )\n",
    "p.xaxis.major_label_orientation = 0.8 # radians\n",
    "p.x_range.range_padding = 0.05\n",
    "#p.xaxis.axis_line_join = \"bevel\" # radians\n",
    "p.xaxis.axis_line_width = 2\n",
    "\n",
    "p.segment(\"index\", \"High\", \"index\",\"Low\",  color=\"black\", line_width=1, source=dfpl)\n",
    "\n",
    "inc = dfpl.query(\"Close>Open\")\n",
    "dec = dfpl.query(\"Open>Close\")\n",
    "\n",
    "p.vbar(    \n",
    "    x=\"index\",\n",
    "    width=0.6,\n",
    "    bottom=\"Open\",\n",
    "    top=\"Close\",\n",
    "    fill_color=\"red\",\n",
    "    line_color=\"red\",    \n",
    "    source=dec   \n",
    ")\n",
    "\n",
    "\n",
    "p.vbar(    \n",
    "    x=\"index\",\n",
    "    width=0.6,\n",
    "    bottom=\"Open\",\n",
    "    top=\"Close\",\n",
    "    fill_color=\"green\",\n",
    "    line_color=\"green\", \n",
    "    source=inc   \n",
    ")\n",
    "\n",
    "\n",
    "p.line(\n",
    "    x=\"index\", \n",
    "    y=\"SMA20\", \n",
    "    color=\"#ffb81c\",\n",
    "    legend_label=\"SMA20\",\n",
    "    source=dfpl)\n",
    "\n",
    "p.line(\n",
    "    x=\"index\", \n",
    "    y=\"SMA40\", \n",
    "    color=\"red\",\n",
    "    legend_label=\"SMA40\",\n",
    "    source=dfpl)\n",
    "\n",
    "p.scatter(x=\"index\", y=\"pivotHigh\", marker=\"circle\", size=10,\n",
    "           line_color=\"navy\", fill_color=\"blue\", alpha=0.5, legend_label=\"Cambio Tendencia Bajista\", source=dfpl[(dfpl.isPivot==1)])\n",
    "\n",
    "p.scatter(x=\"index\", y=\"pivotLow\", marker=\"circle\", size=10,\n",
    "           line_color=\"navy\", fill_color=\"green\", alpha=0.5, legend_label=\"Cambio Tendencia Alcista\", source=dfpl[(dfpl.isPivot==2)])\n",
    "\n",
    "show(p)"
   ]
  },
  {
   "cell_type": "code",
   "execution_count": 10,
   "id": "4c6cf30f-5e92-4fd2-881e-7a8fc2d01f7f",
   "metadata": {
    "execution": {
     "iopub.execute_input": "2025-06-11T19:33:55.754170Z",
     "iopub.status.busy": "2025-06-11T19:33:55.753644Z",
     "iopub.status.idle": "2025-06-11T19:34:00.809602Z",
     "shell.execute_reply": "2025-06-11T19:34:00.809004Z"
    },
    "papermill": {
     "duration": 5.063815,
     "end_time": "2025-06-11T19:34:00.810728",
     "exception": false,
     "start_time": "2025-06-11T19:33:55.746913",
     "status": "completed"
    },
    "tags": []
   },
   "outputs": [],
   "source": [
    "diffs = []\n",
    "for i, row in df.iterrows():\n",
    "    pivotHigh = row['pivotHigh']\n",
    "    valor_actual = row['pivotLow']\n",
    "    \n",
    "    #if pivotHigh!=np.nan:  # solo aplicar la lógica cuando tipo sea 'X'\n",
    "    if valor_actual>0:  # solo aplicar la lógica cuando tipo sea 'X'      \n",
    "        valor_previo = df.loc[:i - 1, 'pivotHigh'][::-1].dropna()\n",
    "        if not valor_previo.empty:\n",
    "            ultimo_valor = valor_previo.iloc[0]\n",
    "        else:\n",
    "            ultimo_valor = np.nan  # o np.nan\n",
    "    \n",
    "        dif = ultimo_valor - valor_actual \n",
    "       \n",
    "    else:\n",
    "        dif = np.nan # o 0, o dejar el valor original si ya existía        \n",
    "    diffs.append(dif)\n",
    "df['dif_pivot'] = diffs"
   ]
  },
  {
   "cell_type": "code",
   "execution_count": 11,
   "id": "d2fa930d-8d36-480e-9ace-0c835ecc1605",
   "metadata": {
    "execution": {
     "iopub.execute_input": "2025-06-11T19:34:00.824313Z",
     "iopub.status.busy": "2025-06-11T19:34:00.823863Z",
     "iopub.status.idle": "2025-06-11T19:34:00.841796Z",
     "shell.execute_reply": "2025-06-11T19:34:00.841140Z"
    },
    "papermill": {
     "duration": 0.025786,
     "end_time": "2025-06-11T19:34:00.842718",
     "exception": false,
     "start_time": "2025-06-11T19:34:00.816932",
     "status": "completed"
    },
    "tags": []
   },
   "outputs": [
    {
     "data": {
      "text/html": [
       "<div>\n",
       "<style scoped>\n",
       "    .dataframe tbody tr th:only-of-type {\n",
       "        vertical-align: middle;\n",
       "    }\n",
       "\n",
       "    .dataframe tbody tr th {\n",
       "        vertical-align: top;\n",
       "    }\n",
       "\n",
       "    .dataframe thead th {\n",
       "        text-align: right;\n",
       "    }\n",
       "</style>\n",
       "<table border=\"1\" class=\"dataframe\">\n",
       "  <thead>\n",
       "    <tr style=\"text-align: right;\">\n",
       "      <th></th>\n",
       "      <th>Close</th>\n",
       "      <th>High</th>\n",
       "      <th>Low</th>\n",
       "      <th>Open</th>\n",
       "      <th>Volume</th>\n",
       "      <th>datetime</th>\n",
       "      <th>companyName</th>\n",
       "      <th>SMA20</th>\n",
       "      <th>SMA40</th>\n",
       "      <th>tipo_vela</th>\n",
       "      <th>pivotHigh</th>\n",
       "      <th>pivotLow</th>\n",
       "      <th>isPivot</th>\n",
       "      <th>dif_pivot</th>\n",
       "      <th>dif_ant1</th>\n",
       "      <th>dif_ant2</th>\n",
       "    </tr>\n",
       "  </thead>\n",
       "  <tbody>\n",
       "    <tr>\n",
       "      <th>62</th>\n",
       "      <td>431.429993</td>\n",
       "      <td>432.850006</td>\n",
       "      <td>431.190002</td>\n",
       "      <td>432.640015</td>\n",
       "      <td>16895156</td>\n",
       "      <td>2023-06-26 19:30:00+00:00</td>\n",
       "      <td>SPY</td>\n",
       "      <td>433.863991</td>\n",
       "      <td>435.604056</td>\n",
       "      <td>None</td>\n",
       "      <td>NaN</td>\n",
       "      <td>431.189002</td>\n",
       "      <td>2.0</td>\n",
       "      <td>12.711991</td>\n",
       "      <td>1.209015</td>\n",
       "      <td>0.684998</td>\n",
       "    </tr>\n",
       "    <tr>\n",
       "      <th>102</th>\n",
       "      <td>437.350006</td>\n",
       "      <td>437.850006</td>\n",
       "      <td>437.059998</td>\n",
       "      <td>437.730011</td>\n",
       "      <td>9701525</td>\n",
       "      <td>2023-07-06 14:30:00+00:00</td>\n",
       "      <td>SPY</td>\n",
       "      <td>442.536256</td>\n",
       "      <td>439.333952</td>\n",
       "      <td>None</td>\n",
       "      <td>NaN</td>\n",
       "      <td>437.058998</td>\n",
       "      <td>2.0</td>\n",
       "      <td>7.072007</td>\n",
       "      <td>0.369995</td>\n",
       "      <td>5.779999</td>\n",
       "    </tr>\n",
       "    <tr>\n",
       "      <th>117</th>\n",
       "      <td>438.390015</td>\n",
       "      <td>439.079987</td>\n",
       "      <td>437.584991</td>\n",
       "      <td>438.709900</td>\n",
       "      <td>6454870</td>\n",
       "      <td>2023-07-10 15:30:00+00:00</td>\n",
       "      <td>SPY</td>\n",
       "      <td>440.075380</td>\n",
       "      <td>440.898018</td>\n",
       "      <td>None</td>\n",
       "      <td>NaN</td>\n",
       "      <td>437.583991</td>\n",
       "      <td>2.0</td>\n",
       "      <td>5.057023</td>\n",
       "      <td>0.329987</td>\n",
       "      <td>0.879883</td>\n",
       "    </tr>\n",
       "    <tr>\n",
       "      <th>176</th>\n",
       "      <td>451.519897</td>\n",
       "      <td>452.769989</td>\n",
       "      <td>451.440002</td>\n",
       "      <td>452.114990</td>\n",
       "      <td>9510899</td>\n",
       "      <td>2023-07-20 18:30:00+00:00</td>\n",
       "      <td>SPY</td>\n",
       "      <td>453.960474</td>\n",
       "      <td>451.886115</td>\n",
       "      <td>None</td>\n",
       "      <td>NaN</td>\n",
       "      <td>451.439002</td>\n",
       "      <td>2.0</td>\n",
       "      <td>4.901994</td>\n",
       "      <td>0.570099</td>\n",
       "      <td>2.140503</td>\n",
       "    </tr>\n",
       "    <tr>\n",
       "      <th>212</th>\n",
       "      <td>452.464996</td>\n",
       "      <td>453.140015</td>\n",
       "      <td>451.549988</td>\n",
       "      <td>452.739990</td>\n",
       "      <td>15556788</td>\n",
       "      <td>2023-07-27 19:30:00+00:00</td>\n",
       "      <td>SPY</td>\n",
       "      <td>455.286150</td>\n",
       "      <td>454.366756</td>\n",
       "      <td>None</td>\n",
       "      <td>NaN</td>\n",
       "      <td>451.548988</td>\n",
       "      <td>2.0</td>\n",
       "      <td>6.862016</td>\n",
       "      <td>0.274994</td>\n",
       "      <td>1.470001</td>\n",
       "    </tr>\n",
       "    <tr>\n",
       "      <th>...</th>\n",
       "      <td>...</td>\n",
       "      <td>...</td>\n",
       "      <td>...</td>\n",
       "      <td>...</td>\n",
       "      <td>...</td>\n",
       "      <td>...</td>\n",
       "      <td>...</td>\n",
       "      <td>...</td>\n",
       "      <td>...</td>\n",
       "      <td>...</td>\n",
       "      <td>...</td>\n",
       "      <td>...</td>\n",
       "      <td>...</td>\n",
       "      <td>...</td>\n",
       "      <td>...</td>\n",
       "      <td>...</td>\n",
       "    </tr>\n",
       "    <tr>\n",
       "      <th>113442</th>\n",
       "      <td>87.510002</td>\n",
       "      <td>87.833504</td>\n",
       "      <td>86.699997</td>\n",
       "      <td>87.205002</td>\n",
       "      <td>3941872</td>\n",
       "      <td>2025-05-23 13:30:00+00:00</td>\n",
       "      <td>UBER</td>\n",
       "      <td>89.496975</td>\n",
       "      <td>90.609268</td>\n",
       "      <td>None</td>\n",
       "      <td>NaN</td>\n",
       "      <td>86.698997</td>\n",
       "      <td>2.0</td>\n",
       "      <td>6.902002</td>\n",
       "      <td>0.459999</td>\n",
       "      <td>0.829994</td>\n",
       "    </tr>\n",
       "    <tr>\n",
       "      <th>113472</th>\n",
       "      <td>83.279999</td>\n",
       "      <td>83.879997</td>\n",
       "      <td>83.220001</td>\n",
       "      <td>83.779999</td>\n",
       "      <td>1484136</td>\n",
       "      <td>2025-05-30 15:30:00+00:00</td>\n",
       "      <td>UBER</td>\n",
       "      <td>86.477850</td>\n",
       "      <td>87.435525</td>\n",
       "      <td>None</td>\n",
       "      <td>NaN</td>\n",
       "      <td>83.219001</td>\n",
       "      <td>2.0</td>\n",
       "      <td>6.661996</td>\n",
       "      <td>0.520004</td>\n",
       "      <td>0.599998</td>\n",
       "    </tr>\n",
       "    <tr>\n",
       "      <th>113490</th>\n",
       "      <td>82.540001</td>\n",
       "      <td>82.699997</td>\n",
       "      <td>82.334999</td>\n",
       "      <td>82.620003</td>\n",
       "      <td>2465686</td>\n",
       "      <td>2025-06-03 19:30:00+00:00</td>\n",
       "      <td>UBER</td>\n",
       "      <td>83.475140</td>\n",
       "      <td>85.263620</td>\n",
       "      <td>None</td>\n",
       "      <td>NaN</td>\n",
       "      <td>82.333999</td>\n",
       "      <td>2.0</td>\n",
       "      <td>2.034303</td>\n",
       "      <td>0.080002</td>\n",
       "      <td>0.222801</td>\n",
       "    </tr>\n",
       "    <tr>\n",
       "      <th>113515</th>\n",
       "      <td>83.385000</td>\n",
       "      <td>83.970000</td>\n",
       "      <td>83.080000</td>\n",
       "      <td>83.925000</td>\n",
       "      <td>1675601</td>\n",
       "      <td>2025-06-05 12:00:00+00:00</td>\n",
       "      <td>UBER</td>\n",
       "      <td>83.728460</td>\n",
       "      <td>83.485925</td>\n",
       "      <td>None</td>\n",
       "      <td>NaN</td>\n",
       "      <td>83.079000</td>\n",
       "      <td>2.0</td>\n",
       "      <td>1.632000</td>\n",
       "      <td>0.535000</td>\n",
       "      <td>0.725000</td>\n",
       "    </tr>\n",
       "    <tr>\n",
       "      <th>113561</th>\n",
       "      <td>85.940000</td>\n",
       "      <td>87.700000</td>\n",
       "      <td>85.600000</td>\n",
       "      <td>87.540000</td>\n",
       "      <td>3541807</td>\n",
       "      <td>2025-06-10 10:00:00+00:00</td>\n",
       "      <td>UBER</td>\n",
       "      <td>87.271205</td>\n",
       "      <td>86.364853</td>\n",
       "      <td>None</td>\n",
       "      <td>NaN</td>\n",
       "      <td>85.599000</td>\n",
       "      <td>2.0</td>\n",
       "      <td>2.802000</td>\n",
       "      <td>1.600000</td>\n",
       "      <td>1.870000</td>\n",
       "    </tr>\n",
       "  </tbody>\n",
       "</table>\n",
       "<p>3357 rows × 16 columns</p>\n",
       "</div>"
      ],
      "text/plain": [
       "             Close        High         Low        Open    Volume  \\\n",
       "62      431.429993  432.850006  431.190002  432.640015  16895156   \n",
       "102     437.350006  437.850006  437.059998  437.730011   9701525   \n",
       "117     438.390015  439.079987  437.584991  438.709900   6454870   \n",
       "176     451.519897  452.769989  451.440002  452.114990   9510899   \n",
       "212     452.464996  453.140015  451.549988  452.739990  15556788   \n",
       "...            ...         ...         ...         ...       ...   \n",
       "113442   87.510002   87.833504   86.699997   87.205002   3941872   \n",
       "113472   83.279999   83.879997   83.220001   83.779999   1484136   \n",
       "113490   82.540001   82.699997   82.334999   82.620003   2465686   \n",
       "113515   83.385000   83.970000   83.080000   83.925000   1675601   \n",
       "113561   85.940000   87.700000   85.600000   87.540000   3541807   \n",
       "\n",
       "                        datetime companyName       SMA20       SMA40  \\\n",
       "62     2023-06-26 19:30:00+00:00         SPY  433.863991  435.604056   \n",
       "102    2023-07-06 14:30:00+00:00         SPY  442.536256  439.333952   \n",
       "117    2023-07-10 15:30:00+00:00         SPY  440.075380  440.898018   \n",
       "176    2023-07-20 18:30:00+00:00         SPY  453.960474  451.886115   \n",
       "212    2023-07-27 19:30:00+00:00         SPY  455.286150  454.366756   \n",
       "...                          ...         ...         ...         ...   \n",
       "113442 2025-05-23 13:30:00+00:00        UBER   89.496975   90.609268   \n",
       "113472 2025-05-30 15:30:00+00:00        UBER   86.477850   87.435525   \n",
       "113490 2025-06-03 19:30:00+00:00        UBER   83.475140   85.263620   \n",
       "113515 2025-06-05 12:00:00+00:00        UBER   83.728460   83.485925   \n",
       "113561 2025-06-10 10:00:00+00:00        UBER   87.271205   86.364853   \n",
       "\n",
       "       tipo_vela  pivotHigh    pivotLow  isPivot  dif_pivot  dif_ant1  \\\n",
       "62          None        NaN  431.189002      2.0  12.711991  1.209015   \n",
       "102         None        NaN  437.058998      2.0   7.072007  0.369995   \n",
       "117         None        NaN  437.583991      2.0   5.057023  0.329987   \n",
       "176         None        NaN  451.439002      2.0   4.901994  0.570099   \n",
       "212         None        NaN  451.548988      2.0   6.862016  0.274994   \n",
       "...          ...        ...         ...      ...        ...       ...   \n",
       "113442      None        NaN   86.698997      2.0   6.902002  0.459999   \n",
       "113472      None        NaN   83.219001      2.0   6.661996  0.520004   \n",
       "113490      None        NaN   82.333999      2.0   2.034303  0.080002   \n",
       "113515      None        NaN   83.079000      2.0   1.632000  0.535000   \n",
       "113561      None        NaN   85.599000      2.0   2.802000  1.600000   \n",
       "\n",
       "        dif_ant2  \n",
       "62      0.684998  \n",
       "102     5.779999  \n",
       "117     0.879883  \n",
       "176     2.140503  \n",
       "212     1.470001  \n",
       "...          ...  \n",
       "113442  0.829994  \n",
       "113472  0.599998  \n",
       "113490  0.222801  \n",
       "113515  0.725000  \n",
       "113561  1.870000  \n",
       "\n",
       "[3357 rows x 16 columns]"
      ]
     },
     "execution_count": 11,
     "metadata": {},
     "output_type": "execute_result"
    }
   ],
   "source": [
    "#df['dif_ant1'] = df['Close'].shift(1) - df['pivotLow']\n",
    "#df['dif_ant2'] = df['Close'].shift(2) - df['pivotLow']\n",
    "df['dif_ant1'] = df['Close'].shift(1) - df['Close']\n",
    "df['dif_ant2'] = df['Close'].shift(2) - df['Close']\n",
    "df[df['dif_pivot'].notna()]"
   ]
  },
  {
   "cell_type": "markdown",
   "id": "3413a3c1-ec18-47d9-9a81-3a879da7e405",
   "metadata": {
    "papermill": {
     "duration": 0.006263,
     "end_time": "2025-06-11T19:34:00.855558",
     "exception": false,
     "start_time": "2025-06-11T19:34:00.849295",
     "status": "completed"
    },
    "tags": []
   },
   "source": [
    "##### Casos\n",
    "###### Precio esta por debajo o cerca a PM40 y ademas haya caido mas de 3 puntos\n",
    "###### Caida normal entre 3-5 puntos\n",
    "###### Caida fuerte mas de 5 puntos"
   ]
  },
  {
   "cell_type": "code",
   "execution_count": 12,
   "id": "e52d0489-22f5-4892-ab6f-5183a5df6309",
   "metadata": {
    "execution": {
     "iopub.execute_input": "2025-06-11T19:34:00.869591Z",
     "iopub.status.busy": "2025-06-11T19:34:00.869108Z",
     "iopub.status.idle": "2025-06-11T19:34:02.914301Z",
     "shell.execute_reply": "2025-06-11T19:34:02.913655Z"
    },
    "papermill": {
     "duration": 2.053552,
     "end_time": "2025-06-11T19:34:02.915499",
     "exception": false,
     "start_time": "2025-06-11T19:34:00.861947",
     "status": "completed"
    },
    "tags": []
   },
   "outputs": [],
   "source": [
    "def cncf01(df):\n",
    "    if ((df['isPivot']==2) & (df['dif_ant1']>=3) & (df['dif_ant1']<=5) & (df['SMA40']>df['SMA20'])):\n",
    "        return 1\n",
    "    elif ((df['isPivot']==2) & (df['dif_ant1']>5) & (df['SMA40']>df['SMA20'])):\n",
    "        return 2\n",
    "    else:\n",
    "        return 0\n",
    "df['cncf01'] = df.apply(cncf01, axis=1)"
   ]
  },
  {
   "cell_type": "markdown",
   "id": "67d00729-8747-4ea8-853b-d960b1773fff",
   "metadata": {
    "papermill": {
     "duration": 0.006264,
     "end_time": "2025-06-11T19:34:02.928399",
     "exception": false,
     "start_time": "2025-06-11T19:34:02.922135",
     "status": "completed"
    },
    "tags": []
   },
   "source": [
    "#### Detect price channel"
   ]
  },
  {
   "cell_type": "code",
   "execution_count": 13,
   "id": "9091d6f2-5302-472b-a4ca-f91b8a7ff085",
   "metadata": {
    "execution": {
     "iopub.execute_input": "2025-06-11T19:34:02.941926Z",
     "iopub.status.busy": "2025-06-11T19:34:02.941413Z",
     "iopub.status.idle": "2025-06-11T19:34:02.945436Z",
     "shell.execute_reply": "2025-06-11T19:34:02.944955Z"
    },
    "papermill": {
     "duration": 0.011762,
     "end_time": "2025-06-11T19:34:02.946323",
     "exception": false,
     "start_time": "2025-06-11T19:34:02.934561",
     "status": "completed"
    },
    "tags": []
   },
   "outputs": [],
   "source": [
    "def collect_channel(candle, backevalTrend, trendH): \n",
    "    localdf = dfpl.loc[candle-backevalTrend:candle] #tomar en cuenta el backcandles\n",
    "    highs = localdf.loc[localdf.index.isin(trendH)].High.values\n",
    "    idxhighs = localdf.loc[localdf.index.isin(trendH)].High.index\n",
    "    if len(highs)>=2:       \n",
    "        sl_highs, interc_highs, r_value_h, _, _ = stats.linregress(idxhighs,highs)       \n",
    "        return(sl_highs, interc_highs, r_value_h**2)\n",
    "    else:\n",
    "        return(0,0,0)    "
   ]
  },
  {
   "cell_type": "code",
   "execution_count": 14,
   "id": "1af3a0e3-77b3-45b9-8d18-c8fbc1d27a41",
   "metadata": {
    "execution": {
     "iopub.execute_input": "2025-06-11T19:34:02.960551Z",
     "iopub.status.busy": "2025-06-11T19:34:02.960075Z",
     "iopub.status.idle": "2025-06-11T19:34:02.966061Z",
     "shell.execute_reply": "2025-06-11T19:34:02.965563Z"
    },
    "papermill": {
     "duration": 0.014079,
     "end_time": "2025-06-11T19:34:02.966984",
     "exception": false,
     "start_time": "2025-06-11T19:34:02.952905",
     "status": "completed"
    },
    "tags": []
   },
   "outputs": [],
   "source": [
    "def backcandle(candle):\n",
    "    \n",
    "    trendH = []\n",
    "    backeval = dfpl.index[0]\n",
    "    val = 0\n",
    "    \n",
    "    dfpl['PM40_PM20'] = dfpl['SMA40']-dfpl['SMA20']\n",
    "\n",
    "    if (dfpl.loc[candle,\"PM40_PM20\"]>0):\n",
    "        idx_negativo = dfpl.loc[:candle, 'PM40_PM20'][::-1].lt(0).idxmax()\n",
    "        backeval = idx_negativo - 4\n",
    "        val = candle - backeval\n",
    "    \n",
    "    if val>75:\n",
    "        backeval=candle-75\n",
    "\n",
    "    #print (\"backeval:\", backeval)\n",
    "        \n",
    "    if (dfpl.loc[backeval,\"PM40_PM20\"]>0):\n",
    "        idx_negativo = dfpl.loc[:backeval, 'PM40_PM20'][::-1].lt(0).idxmax()\n",
    "        backeval = idx_negativo - 4\n",
    "\n",
    "    if val>75:\n",
    "        backeval=candle-75\n",
    "\n",
    "    #ini = candle - backeval\n",
    "    ini = backeval\n",
    "    trendprev=dfpl.loc[ini:candle]\n",
    "    trend = trendprev.reset_index(drop=False)\n",
    "\n",
    "    idxhighs = trend.index.to_numpy().reshape(-1,1) # Convertir X a una matriz 2D\n",
    "    highs = trend.High.values\n",
    "    modelo1 = LinearRegression()\n",
    "    modelo1.fit(idxhighs, highs)\n",
    "    # Obtener la predicción de la línea de regresión\n",
    "    Y_pred = modelo1.predict(idxhighs)\n",
    "    # Calcular la distancia solo de los puntos que están POR ENCIMA de la línea\n",
    "    trend['Distancia'] = trend[\"High\"] - Y_pred  # Diferencia entre el valor real y la predicción\n",
    "    # Filtrar los puntos que están por encima (donde Y > Y_pred, es decir, Distancia > 0)\n",
    "    df_encima = trend[trend['Distancia'] > 0]\n",
    "    puntos_mas_lejanos = df_encima.nlargest(3, 'Distancia')   #2 puntos mas lejanos\n",
    "    trendH = puntos_mas_lejanos[\"index\"].tolist()\n",
    "    trendH.append(candle)   \n",
    "    \n",
    "    return trendH, backeval"
   ]
  },
  {
   "cell_type": "markdown",
   "id": "d73ced60-317f-4f98-a687-e1bda7070831",
   "metadata": {
    "papermill": {
     "duration": 0.006106,
     "end_time": "2025-06-11T19:34:02.979628",
     "exception": false,
     "start_time": "2025-06-11T19:34:02.973522",
     "status": "completed"
    },
    "tags": []
   },
   "source": [
    "### Detect break out"
   ]
  },
  {
   "cell_type": "code",
   "execution_count": 15,
   "id": "f8fe3871-5a84-4556-96df-790fc943c7e5",
   "metadata": {
    "execution": {
     "iopub.execute_input": "2025-06-11T19:34:02.993363Z",
     "iopub.status.busy": "2025-06-11T19:34:02.992894Z",
     "iopub.status.idle": "2025-06-11T19:34:02.996531Z",
     "shell.execute_reply": "2025-06-11T19:34:02.996045Z"
    },
    "papermill": {
     "duration": 0.011609,
     "end_time": "2025-06-11T19:34:02.997482",
     "exception": false,
     "start_time": "2025-06-11T19:34:02.985873",
     "status": "completed"
    },
    "tags": []
   },
   "outputs": [],
   "source": [
    "def trendChannel(row,candle, backeval, window, sl_highs, interc_highs):\n",
    "    if (candle-backeval-window)<0:\n",
    "        return np.nan\n",
    "    ini=candle-backeval\n",
    "    fin=candle+window\n",
    "    trendcurrhigh = np.where(np.logical_or((row.index > fin),  (row.index <  ini)), np.nan, (sl_highs*row.index + interc_highs))\n",
    "    return trendcurrhigh"
   ]
  },
  {
   "cell_type": "code",
   "execution_count": 16,
   "id": "fc00f85f-1b30-4b83-b830-df6c2bfb023d",
   "metadata": {
    "execution": {
     "iopub.execute_input": "2025-06-11T19:34:03.011479Z",
     "iopub.status.busy": "2025-06-11T19:34:03.011046Z",
     "iopub.status.idle": "2025-06-11T19:34:03.016182Z",
     "shell.execute_reply": "2025-06-11T19:34:03.015637Z"
    },
    "papermill": {
     "duration": 0.013071,
     "end_time": "2025-06-11T19:34:03.017051",
     "exception": false,
     "start_time": "2025-06-11T19:34:03.003980",
     "status": "completed"
    },
    "tags": []
   },
   "outputs": [],
   "source": [
    "def isBreakOut(candleEval,backcandles, window, start, candle):\n",
    "    if (candleEval-backcandles-window)<0:\n",
    "        return 0\n",
    "\n",
    "    if candleEval==start:\n",
    "        prev_idx = candleEval\n",
    "    else:\n",
    "        prev_idx = candleEval-1\n",
    "        \n",
    "    prev_high = dfpl.loc[prev_idx].High\n",
    "    prev_low = dfpl.loc[prev_idx].Low\n",
    "    prev_close = df.loc[prev_idx].Close\n",
    "    \n",
    "    curr_idx = candleEval\n",
    "    curr_high = dfpl.loc[candleEval].High\n",
    "    curr_low = dfpl.loc[candleEval].Low\n",
    "    curr_close = dfpl.loc[candleEval].Close\n",
    "    curr_open = dfpl.loc[candleEval].Open\n",
    "\n",
    "    #trend_prevlow=dfpl.loc[prev_idx].trendcurrlow\n",
    "    trend_prevhigh=dfpl.loc[prev_idx].trendcurrhigh\n",
    "\n",
    "    #trend_currlow=dfpl.loc[candleEval].trendcurrlow\n",
    "    trend_currhigh=dfpl.loc[candleEval].trendcurrhigh\n",
    "\n",
    "    if ( prev_low < trend_prevhigh and\n",
    "        prev_close > trend_prevhigh and\n",
    "        curr_open > trend_currhigh and\n",
    "        curr_close > trend_currhigh and\n",
    "        candleEval>candle): #and r_sq_h > 0.9\n",
    "        return 2\n",
    "\n",
    "    elif (curr_open > trend_currhigh and\n",
    "        curr_close > trend_currhigh and candleEval>candle):\n",
    "        return 3\n",
    "    \n",
    "    else:\n",
    "        return np.nan"
   ]
  },
  {
   "cell_type": "code",
   "execution_count": 17,
   "id": "4d4eadfc-d221-4b8d-9cbb-4ec7042b09e3",
   "metadata": {
    "execution": {
     "iopub.execute_input": "2025-06-11T19:34:03.031363Z",
     "iopub.status.busy": "2025-06-11T19:34:03.030933Z",
     "iopub.status.idle": "2025-06-11T19:34:03.034542Z",
     "shell.execute_reply": "2025-06-11T19:34:03.033947Z"
    },
    "papermill": {
     "duration": 0.011536,
     "end_time": "2025-06-11T19:34:03.035389",
     "exception": false,
     "start_time": "2025-06-11T19:34:03.023853",
     "status": "completed"
    },
    "tags": []
   },
   "outputs": [],
   "source": [
    "def breakpointpos(x):\n",
    "    if x['isBreakOutIni'] in (2,3):\n",
    "        return x['Low']+3e-3\n",
    "    elif x['isBreakOutIni']==1:\n",
    "        return x['High']-3e-3\n",
    "    else:\n",
    "        return np.nan"
   ]
  },
  {
   "cell_type": "code",
   "execution_count": 18,
   "id": "b6364a78-9a44-4af0-97d4-fe2637f0cf1a",
   "metadata": {
    "execution": {
     "iopub.execute_input": "2025-06-11T19:34:03.049493Z",
     "iopub.status.busy": "2025-06-11T19:34:03.049111Z",
     "iopub.status.idle": "2025-06-11T19:34:29.544519Z",
     "shell.execute_reply": "2025-06-11T19:34:29.543904Z"
    },
    "papermill": {
     "duration": 26.503662,
     "end_time": "2025-06-11T19:34:29.545660",
     "exception": false,
     "start_time": "2025-06-11T19:34:03.041998",
     "status": "completed"
    },
    "tags": []
   },
   "outputs": [
    {
     "name": "stdout",
     "output_type": "stream",
     "text": [
      "posible caso: 1954 SPY\n",
      "posible caso: 1997 SPY\n"
     ]
    },
    {
     "name": "stdout",
     "output_type": "stream",
     "text": [
      "posible caso: 2179 SPY\n",
      "posible caso: 2529 SPY\n"
     ]
    },
    {
     "name": "stdout",
     "output_type": "stream",
     "text": [
      "posible caso: 2759 SPY\n",
      "posible caso: 2962 SPY\n"
     ]
    },
    {
     "name": "stdout",
     "output_type": "stream",
     "text": [
      "posible caso: 3035 SPY\n",
      "posible caso: 3130 SPY\n",
      "posible caso: 3166 SPY\n"
     ]
    },
    {
     "name": "stdout",
     "output_type": "stream",
     "text": [
      "posible caso: 3396 SPY\n",
      "posible caso: 3811 META\n",
      "posible caso: 3859 META\n",
      "posible caso: 4020 META\n"
     ]
    },
    {
     "name": "stdout",
     "output_type": "stream",
     "text": [
      "posible caso: 4052 META\n",
      "posible caso: 4373 META\n"
     ]
    },
    {
     "name": "stdout",
     "output_type": "stream",
     "text": [
      "posible caso: 4932 META\n",
      "posible caso: 5019 META\n"
     ]
    },
    {
     "name": "stdout",
     "output_type": "stream",
     "text": [
      "posible caso: 5038 META\n",
      "posible caso: 5060 META\n"
     ]
    },
    {
     "name": "stdout",
     "output_type": "stream",
     "text": [
      "posible caso: 5086 META\n",
      "posible caso: 5187 META\n",
      "posible caso: 5203 META\n",
      "posible caso: 5658 META\n"
     ]
    },
    {
     "name": "stdout",
     "output_type": "stream",
     "text": [
      "posible caso: 5917 META\n",
      "posible caso: 6077 META\n",
      "posible caso: 6219 META\n"
     ]
    },
    {
     "name": "stdout",
     "output_type": "stream",
     "text": [
      "posible caso: 6257 META\n",
      "posible caso: 6312 META\n"
     ]
    },
    {
     "name": "stdout",
     "output_type": "stream",
     "text": [
      "posible caso: 6328 META\n",
      "posible caso: 6504 META\n",
      "posible caso: 6590 META\n",
      "posible caso: 6618 META\n"
     ]
    },
    {
     "name": "stdout",
     "output_type": "stream",
     "text": [
      "posible caso: 6671 META\n",
      "posible caso: 6926 META\n",
      "posible caso: 7486 AAPL\n"
     ]
    },
    {
     "name": "stdout",
     "output_type": "stream",
     "text": [
      "posible caso: 8196 AAPL\n",
      "posible caso: 8874 AAPL\n"
     ]
    },
    {
     "name": "stdout",
     "output_type": "stream",
     "text": [
      "posible caso: 9081 AAPL\n",
      "posible caso: 9221 AAPL\n",
      "posible caso: 9246 AAPL\n"
     ]
    },
    {
     "name": "stdout",
     "output_type": "stream",
     "text": [
      "posible caso: 9836 AAPL\n",
      "posible caso: 11445 AMZN\n"
     ]
    },
    {
     "name": "stdout",
     "output_type": "stream",
     "text": [
      "posible caso: 11578 AMZN\n",
      "posible caso: 12229 AMZN\n",
      "posible caso: 12610 AMZN\n"
     ]
    },
    {
     "name": "stdout",
     "output_type": "stream",
     "text": [
      "posible caso: 12904 AMZN\n",
      "posible caso: 13610 AMZN\n"
     ]
    },
    {
     "name": "stdout",
     "output_type": "stream",
     "text": [
      "posible caso: 13680 AMZN\n",
      "posible caso: 13743 AMZN\n"
     ]
    },
    {
     "name": "stdout",
     "output_type": "stream",
     "text": [
      "posible caso: 14271 NFLX\n",
      "posible caso: 14663 NFLX\n",
      "posible caso: 15322 NFLX\n",
      "posible caso: 15534 NFLX\n",
      "posible caso: 15646 NFLX\n"
     ]
    },
    {
     "name": "stdout",
     "output_type": "stream",
     "text": [
      "posible caso: 15856 NFLX\n",
      "posible caso: 16040 NFLX\n"
     ]
    },
    {
     "name": "stdout",
     "output_type": "stream",
     "text": [
      "posible caso: 16072 NFLX\n",
      "posible caso: 16121 NFLX\n"
     ]
    },
    {
     "name": "stdout",
     "output_type": "stream",
     "text": [
      "posible caso: 16269 NFLX\n",
      "posible caso: 16328 NFLX\n"
     ]
    },
    {
     "name": "stdout",
     "output_type": "stream",
     "text": [
      "posible caso: 16440 NFLX\n",
      "posible caso: 16813 NFLX\n"
     ]
    },
    {
     "name": "stdout",
     "output_type": "stream",
     "text": [
      "posible caso: 16828 NFLX\n",
      "posible caso: 16920 NFLX\n"
     ]
    },
    {
     "name": "stdout",
     "output_type": "stream",
     "text": [
      "posible caso: 16935 NFLX\n",
      "posible caso: 17146 NFLX\n",
      "posible caso: 17279 NFLX\n"
     ]
    },
    {
     "name": "stdout",
     "output_type": "stream",
     "text": [
      "posible caso: 17941 MRNA\n",
      "posible caso: 19028 MRNA\n"
     ]
    },
    {
     "name": "stdout",
     "output_type": "stream",
     "text": [
      "posible caso: 19094 MRNA\n",
      "posible caso: 19462 MRNA\n"
     ]
    },
    {
     "name": "stdout",
     "output_type": "stream",
     "text": [
      "posible caso: 20815 MRNA\n",
      "posible caso: 21283 TSLA\n"
     ]
    },
    {
     "name": "stdout",
     "output_type": "stream",
     "text": [
      "posible caso: 21399 TSLA\n",
      "posible caso: 21477 TSLA\n",
      "posible caso: 21630 TSLA\n",
      "posible caso: 21731 TSLA\n"
     ]
    },
    {
     "name": "stdout",
     "output_type": "stream",
     "text": [
      "posible caso: 22103 TSLA\n",
      "posible caso: 22193 TSLA\n",
      "posible caso: 22221 TSLA\n"
     ]
    },
    {
     "name": "stdout",
     "output_type": "stream",
     "text": [
      "posible caso: 22300 TSLA\n",
      "posible caso: 22509 TSLA\n",
      "posible caso: 22642 TSLA\n"
     ]
    },
    {
     "name": "stdout",
     "output_type": "stream",
     "text": [
      "posible caso: 23120 TSLA\n",
      "posible caso: 23218 TSLA\n"
     ]
    },
    {
     "name": "stdout",
     "output_type": "stream",
     "text": [
      "posible caso: 23899 TSLA\n",
      "posible caso: 23980 TSLA\n",
      "posible caso: 24061 TSLA\n"
     ]
    },
    {
     "name": "stdout",
     "output_type": "stream",
     "text": [
      "posible caso: 24125 TSLA\n",
      "posible caso: 24202 TSLA\n"
     ]
    },
    {
     "name": "stdout",
     "output_type": "stream",
     "text": [
      "posible caso: 24251 TSLA\n",
      "posible caso: 24351 TSLA\n"
     ]
    },
    {
     "name": "stdout",
     "output_type": "stream",
     "text": [
      "posible caso: 24608 TSLA\n",
      "posible caso: 24695 TSLA\n"
     ]
    },
    {
     "name": "stdout",
     "output_type": "stream",
     "text": [
      "posible caso: 26754 TNA\n"
     ]
    },
    {
     "name": "stdout",
     "output_type": "stream",
     "text": [
      "posible caso: 31721 GLD\n"
     ]
    },
    {
     "name": "stdout",
     "output_type": "stream",
     "text": [
      "posible caso: 42998 CVX\n",
      "posible caso: 43687 CVX\n"
     ]
    },
    {
     "name": "stdout",
     "output_type": "stream",
     "text": [
      "posible caso: 48129 XOM\n",
      "posible caso: 49846 QQQ\n",
      "posible caso: 49937 QQQ\n"
     ]
    },
    {
     "name": "stdout",
     "output_type": "stream",
     "text": [
      "posible caso: 50360 QQQ\n",
      "posible caso: 50927 QQQ\n"
     ]
    },
    {
     "name": "stdout",
     "output_type": "stream",
     "text": [
      "posible caso: 51482 QQQ\n",
      "posible caso: 51525 QQQ\n"
     ]
    },
    {
     "name": "stdout",
     "output_type": "stream",
     "text": [
      "posible caso: 52057 QQQ\n",
      "posible caso: 52287 QQQ\n"
     ]
    },
    {
     "name": "stdout",
     "output_type": "stream",
     "text": [
      "posible caso: 52299 QQQ\n",
      "posible caso: 52563 QQQ\n",
      "posible caso: 52658 QQQ\n"
     ]
    },
    {
     "name": "stdout",
     "output_type": "stream",
     "text": [
      "posible caso: 52694 QQQ\n",
      "posible caso: 52924 QQQ\n",
      "posible caso: 53186 MSFT\n"
     ]
    },
    {
     "name": "stdout",
     "output_type": "stream",
     "text": [
      "posible caso: 53382 MSFT\n",
      "posible caso: 53896 MSFT\n",
      "posible caso: 54463 MSFT\n"
     ]
    },
    {
     "name": "stdout",
     "output_type": "stream",
     "text": [
      "posible caso: 54609 MSFT\n",
      "posible caso: 54943 MSFT\n",
      "posible caso: 55018 MSFT\n",
      "posible caso: 55061 MSFT\n"
     ]
    },
    {
     "name": "stdout",
     "output_type": "stream",
     "text": [
      "posible caso: 55440 MSFT\n",
      "posible caso: 55501 MSFT\n",
      "posible caso: 55600 MSFT\n",
      "posible caso: 55835 MSFT\n"
     ]
    },
    {
     "name": "stdout",
     "output_type": "stream",
     "text": [
      "posible caso: 55984 MSFT\n",
      "posible caso: 56061 MSFT\n"
     ]
    },
    {
     "name": "stdout",
     "output_type": "stream",
     "text": [
      "posible caso: 56099 MSFT\n",
      "posible caso: 56194 MSFT\n"
     ]
    },
    {
     "name": "stdout",
     "output_type": "stream",
     "text": [
      "posible caso: 58514 NVDA\n",
      "posible caso: 58597 NVDA\n"
     ]
    },
    {
     "name": "stdout",
     "output_type": "stream",
     "text": [
      "posible caso: 59136 NVDA\n",
      "posible caso: 59164 NVDA\n",
      "posible caso: 59251 NVDA\n"
     ]
    },
    {
     "name": "stdout",
     "output_type": "stream",
     "text": [
      "posible caso: 59359 NVDA\n",
      "posible caso: 59457 NVDA\n"
     ]
    },
    {
     "name": "stdout",
     "output_type": "stream",
     "text": [
      "posible caso: 59562 NVDA\n",
      "posible caso: 59730 NVDA\n"
     ]
    },
    {
     "name": "stdout",
     "output_type": "stream",
     "text": [
      "posible caso: 64319 BA\n",
      "posible caso: 65851 BA\n"
     ]
    },
    {
     "name": "stdout",
     "output_type": "stream",
     "text": [
      "posible caso: 66624 BA\n",
      "posible caso: 66809 BA\n"
     ]
    },
    {
     "name": "stdout",
     "output_type": "stream",
     "text": [
      "posible caso: 71069 CAT\n",
      "posible caso: 72236 CAT\n"
     ]
    },
    {
     "name": "stdout",
     "output_type": "stream",
     "text": [
      "posible caso: 72296 CAT\n",
      "posible caso: 72507 CAT\n"
     ]
    },
    {
     "name": "stdout",
     "output_type": "stream",
     "text": [
      "posible caso: 72741 CAT\n",
      "posible caso: 72923 CAT\n"
     ]
    },
    {
     "name": "stdout",
     "output_type": "stream",
     "text": [
      "posible caso: 73812 CAT\n",
      "posible caso: 73881 CAT\n",
      "posible caso: 73910 CAT\n"
     ]
    },
    {
     "name": "stdout",
     "output_type": "stream",
     "text": [
      "posible caso: 74140 CAT\n",
      "posible caso: 76276 IBM\n"
     ]
    },
    {
     "name": "stdout",
     "output_type": "stream",
     "text": [
      "posible caso: 76982 IBM\n",
      "posible caso: 77283 IBM\n"
     ]
    },
    {
     "name": "stdout",
     "output_type": "stream",
     "text": [
      "posible caso: 77445 IBM\n"
     ]
    },
    {
     "name": "stdout",
     "output_type": "stream",
     "text": [
      "posible caso: 84478 PLTR\n",
      "posible caso: 85989 AMD\n",
      "posible caso: 86087 AMD\n"
     ]
    },
    {
     "name": "stdout",
     "output_type": "stream",
     "text": [
      "posible caso: 86229 AMD\n",
      "posible caso: 86546 AMD\n",
      "posible caso: 86717 AMD\n"
     ]
    },
    {
     "name": "stdout",
     "output_type": "stream",
     "text": [
      "posible caso: 87755 AMD\n",
      "posible caso: 89819 AVGO\n"
     ]
    },
    {
     "name": "stdout",
     "output_type": "stream",
     "text": [
      "posible caso: 90334 AVGO\n",
      "posible caso: 90417 AVGO\n"
     ]
    },
    {
     "name": "stdout",
     "output_type": "stream",
     "text": [
      "posible caso: 91245 AVGO\n",
      "posible caso: 91417 AVGO\n"
     ]
    },
    {
     "name": "stdout",
     "output_type": "stream",
     "text": [
      "posible caso: 91550 AVGO\n"
     ]
    },
    {
     "name": "stdout",
     "output_type": "stream",
     "text": [
      "posible caso: 95114 HOOD\n",
      "posible caso: 97238 MSTR\n"
     ]
    },
    {
     "name": "stdout",
     "output_type": "stream",
     "text": [
      "posible caso: 97597 MSTR\n",
      "posible caso: 97672 MSTR\n",
      "posible caso: 97703 MSTR\n"
     ]
    },
    {
     "name": "stdout",
     "output_type": "stream",
     "text": [
      "posible caso: 97752 MSTR\n",
      "posible caso: 97899 MSTR\n"
     ]
    },
    {
     "name": "stdout",
     "output_type": "stream",
     "text": [
      "posible caso: 97963 MSTR\n",
      "posible caso: 98081 MSTR\n",
      "posible caso: 98573 MSTR\n",
      "posible caso: 98616 MSTR\n"
     ]
    },
    {
     "name": "stdout",
     "output_type": "stream",
     "text": [
      "posible caso: 98662 MSTR\n",
      "posible caso: 98727 MSTR\n"
     ]
    },
    {
     "name": "stdout",
     "output_type": "stream",
     "text": [
      "posible caso: 98742 MSTR\n",
      "posible caso: 98759 MSTR\n"
     ]
    },
    {
     "name": "stdout",
     "output_type": "stream",
     "text": [
      "posible caso: 98868 MSTR\n",
      "posible caso: 98899 MSTR\n"
     ]
    },
    {
     "name": "stdout",
     "output_type": "stream",
     "text": [
      "posible caso: 99032 MSTR\n",
      "posible caso: 99080 MSTR\n"
     ]
    },
    {
     "name": "stdout",
     "output_type": "stream",
     "text": [
      "posible caso: 99375 MSTR\n",
      "posible caso: 99754 UNH\n",
      "posible caso: 100204 UNH\n",
      "posible caso: 100333 UNH\n",
      "posible caso: 100360 UNH\n"
     ]
    },
    {
     "name": "stdout",
     "output_type": "stream",
     "text": [
      "posible caso: 100460 UNH\n",
      "posible caso: 100480 UNH\n"
     ]
    },
    {
     "name": "stdout",
     "output_type": "stream",
     "text": [
      "posible caso: 100493 UNH\n",
      "posible caso: 100690 UNH\n"
     ]
    },
    {
     "name": "stdout",
     "output_type": "stream",
     "text": [
      "posible caso: 101194 UNH\n",
      "posible caso: 101220 UNH\n",
      "posible caso: 101467 UNH\n"
     ]
    },
    {
     "name": "stdout",
     "output_type": "stream",
     "text": [
      "posible caso: 101617 UNH\n",
      "posible caso: 101791 UNH\n",
      "posible caso: 102049 UNH\n"
     ]
    },
    {
     "name": "stdout",
     "output_type": "stream",
     "text": [
      "posible caso: 102090 UNH\n",
      "posible caso: 102231 UNH\n",
      "posible caso: 102387 UNH\n"
     ]
    },
    {
     "name": "stdout",
     "output_type": "stream",
     "text": [
      "posible caso: 102402 UNH\n",
      "posible caso: 102676 UNH\n"
     ]
    },
    {
     "name": "stdout",
     "output_type": "stream",
     "text": [
      "posible caso: 102792 UNH\n",
      "posible caso: 102912 UNH\n",
      "posible caso: 103292 GOOG\n",
      "posible caso: 103806 GOOG\n"
     ]
    },
    {
     "name": "stdout",
     "output_type": "stream",
     "text": [
      "posible caso: 106041 GOOG\n"
     ]
    },
    {
     "name": "stdout",
     "output_type": "stream",
     "text": [
      "posible caso: 109479 APP\n",
      "posible caso: 109507 APP\n"
     ]
    },
    {
     "name": "stdout",
     "output_type": "stream",
     "text": [
      "posible caso: 109539 APP\n",
      "posible caso: 109559 APP\n"
     ]
    },
    {
     "name": "stdout",
     "output_type": "stream",
     "text": [
      "posible caso: 109640 APP\n",
      "posible caso: 109690 APP\n"
     ]
    },
    {
     "name": "stdout",
     "output_type": "stream",
     "text": [
      "posible caso: 110001 APP\n",
      "posible caso: 110014 APP\n"
     ]
    }
   ],
   "source": [
    "## Evaluando casos\n",
    "df_casos = pd.DataFrame()\n",
    "caso = 0\n",
    "ticker2 = \"\"\n",
    "window=5\n",
    "backeval=75\n",
    "backevalTrend=0\n",
    "dfpl = pd.DataFrame\n",
    "trendH = []\n",
    "trendL = []\n",
    "cant = 0\n",
    "for i, row in df.iterrows():\n",
    "    if(df['cncf01'][i]>=1): #posibles casos \n",
    "        print(\"posible caso:\",i, df['companyName'][i])\n",
    "        cant = 0\n",
    "        candle = i\n",
    "        cnt = 0\n",
    "        valiniHigh = df.loc[candle,\"High\"]\n",
    "        #valiniLow = df.loc[candle,\"Low\"]\n",
    "        ticker = df['companyName'][i]\n",
    "        #Reinicio de casos por company\n",
    "        if ticker2 != ticker:\n",
    "            ticker2 = ticker\n",
    "            caso = 0\n",
    "        dfpl = df[(df.companyName==ticker)].loc[i-backeval:i+backeval].copy()\n",
    "        #print(\"rowMin:\", dfpl.index[0],\", rowMax:\", dfpl.index[-1])\n",
    "                   \n",
    "        h=1\n",
    "        l=1\n",
    "\n",
    "        cant = cant +1\n",
    "        cantHorasTrend=0\n",
    "        #print(\"opcionH:\",h,\"opcionL:\",l)\n",
    "        trendH, backevalTrend = backcandle(candle)\n",
    "        #print (\"-->trendH:\",trendH)\n",
    "        #print (\"-->backevalTrend:\",backevalTrend)    \n",
    "        \n",
    "        cantHorasTrend = (dfpl.loc[candle,\"datetime\"] - dfpl.loc[backevalTrend,\"datetime\"]).total_seconds() / 3600\n",
    "\n",
    "        if (cantHorasTrend>48): #Verificacion de caida por lo menos 2 dias\n",
    "           backevalTrend2 = candle - backevalTrend\n",
    "           #print (\"backevalTrend2\", backevalTrend2)\n",
    "                       \n",
    "           #revision de trend negativo indica que esta cayendo, solo me quedo con estos casos\n",
    "           sl_highs, interc_highs, r_sq_h = collect_channel(candle, backevalTrend2, trendH)\n",
    "                   \n",
    "    \n",
    "           dfpl.loc[trendH, \"trendH\"] = 1\n",
    "        \n",
    "           \n",
    "           #print(\"sl_highs:\", sl_highs, \", sl_lows:\", sl_lows, \", r_sq_h:\", r_sq_h)\n",
    "           if (sl_highs<=0): #solo tendencias a la baja and ind_vela>0 sl_lows<0 and r_sq_h>=0.7  and sl_highs<=-0.1 and ind_vela>0\n",
    "               \n",
    "               #crear linea de tendencia high y low\n",
    "               dfpl['trendcurrhigh']  = trendChannel(dfpl,candle,backevalTrend2,window,sl_highs,interc_highs)                \n",
    "          \n",
    "               promVol = dfpl.loc[i-backeval:i][\"Volume\"].mean()                \n",
    "               \n",
    "               dfpl[\"bearishSlope\"] = np.nan #pendiente bajista en vacio\n",
    "               dfpl.loc[i, \"bearishSlope\"] = 1 #pendiente bajista solo al punto evaluado            \n",
    "               dfpl[\"ind_posicion\"] = 0\n",
    "               dfpl.loc[(dfpl.index < i), 'ind_posicion'] = -1\n",
    "               dfpl.loc[(dfpl.index > i), 'ind_posicion'] = 1\n",
    "               dfpl[\"promVol\"] = promVol\n",
    "               dfpl[\"sl_highs\"] = sl_highs\n",
    "               dfpl[\"r_sq_h\"] = r_sq_h\n",
    "        \n",
    "               start = dfpl.index[0]\n",
    "               dfpl[\"isBreakOut\"] = [isBreakOut(candleEval, backevalTrend2, window, start, candle) for candleEval in dfpl.index]\n",
    "               # Solo me quedo con el primer BREAK OUT\n",
    "               cnt = dfpl.query(\"isBreakOut in (2,3) and Close>Open\").shape[0] \n",
    "               id=0\n",
    "               id2=0\n",
    "               if cnt>0:\n",
    "                   id = dfpl.query(\"isBreakOut in (2,3) and Close>Open\").index[0]                        \n",
    "                   #dfpl['isBreakOutIni'] = np.where(id!=dfpl.index, np.nan, dfpl['isBreakOut'])                        \n",
    "                   dfpl.loc[id,'isBreakOutIni'] = 1\n",
    "                   dfpl['breakpointpos'] = dfpl.apply(lambda row: breakpointpos(row), axis=1)\n",
    "                   cnt2 = dfpl.query(\"index>@id and isPivot==1\").shape[0]\n",
    "                   \n",
    "                   if cnt2>0:\n",
    "                       id2 = dfpl.query(\"index>@id and isPivot==1\").index[0]\n",
    "                       dfpl.loc[id2,'isBreakOutFinal'] = 1\n",
    "                   else:\n",
    "                       dfpl['isBreakOutFinal'] = np.nan                      \n",
    "                   \n",
    "               else:\n",
    "                   dfpl['isBreakOutIni'] = np.nan                        \n",
    "                   dfpl['breakpointpos'] = np.nan\n",
    "        \n",
    "               if cnt>0:\n",
    "                   #INSERT CASO\n",
    "                   caso=caso+1                            \n",
    "                   dfpl[\"caso\"] = caso\n",
    "                   #print(i, df['companyName'][i])\n",
    "                   if len(df_casos)<1:\n",
    "                       df_casos = dfpl\n",
    "                   else:\n",
    "                       df_casos = pd.concat([df_casos, dfpl],ignore_index=False)"
   ]
  },
  {
   "cell_type": "code",
   "execution_count": 19,
   "id": "376546a7-6c02-4b03-a2a1-a780357abb24",
   "metadata": {
    "execution": {
     "iopub.execute_input": "2025-06-11T19:34:29.566207Z",
     "iopub.status.busy": "2025-06-11T19:34:29.565666Z",
     "iopub.status.idle": "2025-06-11T19:34:29.586178Z",
     "shell.execute_reply": "2025-06-11T19:34:29.585617Z"
    },
    "papermill": {
     "duration": 0.031666,
     "end_time": "2025-06-11T19:34:29.587150",
     "exception": false,
     "start_time": "2025-06-11T19:34:29.555484",
     "status": "completed"
    },
    "tags": []
   },
   "outputs": [
    {
     "data": {
      "text/html": [
       "<div>\n",
       "<style scoped>\n",
       "    .dataframe tbody tr th:only-of-type {\n",
       "        vertical-align: middle;\n",
       "    }\n",
       "\n",
       "    .dataframe tbody tr th {\n",
       "        vertical-align: top;\n",
       "    }\n",
       "\n",
       "    .dataframe thead th {\n",
       "        text-align: right;\n",
       "    }\n",
       "</style>\n",
       "<table border=\"1\" class=\"dataframe\">\n",
       "  <thead>\n",
       "    <tr style=\"text-align: right;\">\n",
       "      <th></th>\n",
       "      <th>Close</th>\n",
       "      <th>High</th>\n",
       "      <th>Low</th>\n",
       "      <th>Open</th>\n",
       "      <th>Volume</th>\n",
       "      <th>datetime</th>\n",
       "      <th>companyName</th>\n",
       "      <th>SMA20</th>\n",
       "      <th>SMA40</th>\n",
       "      <th>tipo_vela</th>\n",
       "      <th>...</th>\n",
       "      <th>bearishSlope</th>\n",
       "      <th>ind_posicion</th>\n",
       "      <th>promVol</th>\n",
       "      <th>sl_highs</th>\n",
       "      <th>r_sq_h</th>\n",
       "      <th>isBreakOut</th>\n",
       "      <th>isBreakOutIni</th>\n",
       "      <th>breakpointpos</th>\n",
       "      <th>isBreakOutFinal</th>\n",
       "      <th>caso</th>\n",
       "    </tr>\n",
       "  </thead>\n",
       "  <tbody>\n",
       "    <tr>\n",
       "      <th>1954</th>\n",
       "      <td>538.340027</td>\n",
       "      <td>543.309998</td>\n",
       "      <td>538.130005</td>\n",
       "      <td>543.130005</td>\n",
       "      <td>10394986</td>\n",
       "      <td>2024-07-25 19:30:00+00:00</td>\n",
       "      <td>SPY</td>\n",
       "      <td>546.736862</td>\n",
       "      <td>549.418312</td>\n",
       "      <td>None</td>\n",
       "      <td>...</td>\n",
       "      <td>1.0</td>\n",
       "      <td>0</td>\n",
       "      <td>6.169648e+06</td>\n",
       "      <td>-0.731436</td>\n",
       "      <td>0.980411</td>\n",
       "      <td>NaN</td>\n",
       "      <td>NaN</td>\n",
       "      <td>NaN</td>\n",
       "      <td>NaN</td>\n",
       "      <td>1</td>\n",
       "    </tr>\n",
       "    <tr>\n",
       "      <th>4020</th>\n",
       "      <td>293.920013</td>\n",
       "      <td>298.345001</td>\n",
       "      <td>293.269989</td>\n",
       "      <td>295.700012</td>\n",
       "      <td>5566544</td>\n",
       "      <td>2023-09-21 13:30:00+00:00</td>\n",
       "      <td>META</td>\n",
       "      <td>302.620804</td>\n",
       "      <td>304.114916</td>\n",
       "      <td>None</td>\n",
       "      <td>...</td>\n",
       "      <td>1.0</td>\n",
       "      <td>0</td>\n",
       "      <td>2.416075e+06</td>\n",
       "      <td>-1.026390</td>\n",
       "      <td>0.815050</td>\n",
       "      <td>NaN</td>\n",
       "      <td>NaN</td>\n",
       "      <td>NaN</td>\n",
       "      <td>NaN</td>\n",
       "      <td>1</td>\n",
       "    </tr>\n",
       "    <tr>\n",
       "      <th>8196</th>\n",
       "      <td>183.315002</td>\n",
       "      <td>184.169998</td>\n",
       "      <td>180.050003</td>\n",
       "      <td>180.449997</td>\n",
       "      <td>35096943</td>\n",
       "      <td>2024-02-02 14:30:00+00:00</td>\n",
       "      <td>AAPL</td>\n",
       "      <td>186.268195</td>\n",
       "      <td>189.311170</td>\n",
       "      <td>None</td>\n",
       "      <td>...</td>\n",
       "      <td>1.0</td>\n",
       "      <td>0</td>\n",
       "      <td>6.687172e+06</td>\n",
       "      <td>-0.298133</td>\n",
       "      <td>0.893876</td>\n",
       "      <td>NaN</td>\n",
       "      <td>NaN</td>\n",
       "      <td>NaN</td>\n",
       "      <td>NaN</td>\n",
       "      <td>1</td>\n",
       "    </tr>\n",
       "    <tr>\n",
       "      <th>12610</th>\n",
       "      <td>158.184998</td>\n",
       "      <td>162.070007</td>\n",
       "      <td>151.610001</td>\n",
       "      <td>154.154999</td>\n",
       "      <td>30252093</td>\n",
       "      <td>2024-08-05 13:30:00+00:00</td>\n",
       "      <td>AMZN</td>\n",
       "      <td>177.430126</td>\n",
       "      <td>180.219506</td>\n",
       "      <td>None</td>\n",
       "      <td>...</td>\n",
       "      <td>1.0</td>\n",
       "      <td>0</td>\n",
       "      <td>6.276090e+06</td>\n",
       "      <td>-2.432384</td>\n",
       "      <td>0.970703</td>\n",
       "      <td>NaN</td>\n",
       "      <td>NaN</td>\n",
       "      <td>NaN</td>\n",
       "      <td>NaN</td>\n",
       "      <td>1</td>\n",
       "    </tr>\n",
       "    <tr>\n",
       "      <th>15646</th>\n",
       "      <td>543.989990</td>\n",
       "      <td>552.989990</td>\n",
       "      <td>542.010010</td>\n",
       "      <td>550.000000</td>\n",
       "      <td>2451675</td>\n",
       "      <td>2024-04-22 13:30:00+00:00</td>\n",
       "      <td>NFLX</td>\n",
       "      <td>590.059094</td>\n",
       "      <td>603.313652</td>\n",
       "      <td>None</td>\n",
       "      <td>...</td>\n",
       "      <td>1.0</td>\n",
       "      <td>0</td>\n",
       "      <td>5.730181e+05</td>\n",
       "      <td>-5.381037</td>\n",
       "      <td>0.987398</td>\n",
       "      <td>NaN</td>\n",
       "      <td>NaN</td>\n",
       "      <td>NaN</td>\n",
       "      <td>NaN</td>\n",
       "      <td>1</td>\n",
       "    </tr>\n",
       "    <tr>\n",
       "      <th>19028</th>\n",
       "      <td>101.570000</td>\n",
       "      <td>103.410004</td>\n",
       "      <td>100.300003</td>\n",
       "      <td>103.410004</td>\n",
       "      <td>960660</td>\n",
       "      <td>2024-03-20 13:30:00+00:00</td>\n",
       "      <td>MRNA</td>\n",
       "      <td>104.184750</td>\n",
       "      <td>105.277665</td>\n",
       "      <td>None</td>\n",
       "      <td>...</td>\n",
       "      <td>1.0</td>\n",
       "      <td>0</td>\n",
       "      <td>4.914014e+05</td>\n",
       "      <td>-0.259217</td>\n",
       "      <td>0.853454</td>\n",
       "      <td>NaN</td>\n",
       "      <td>NaN</td>\n",
       "      <td>NaN</td>\n",
       "      <td>NaN</td>\n",
       "      <td>1</td>\n",
       "    </tr>\n",
       "    <tr>\n",
       "      <th>21283</th>\n",
       "      <td>241.020004</td>\n",
       "      <td>244.949997</td>\n",
       "      <td>240.699997</td>\n",
       "      <td>244.710007</td>\n",
       "      <td>16072466</td>\n",
       "      <td>2023-06-26 19:30:00+00:00</td>\n",
       "      <td>TSLA</td>\n",
       "      <td>255.265883</td>\n",
       "      <td>259.907268</td>\n",
       "      <td>None</td>\n",
       "      <td>...</td>\n",
       "      <td>1.0</td>\n",
       "      <td>0</td>\n",
       "      <td>2.377124e+07</td>\n",
       "      <td>-1.816297</td>\n",
       "      <td>0.971654</td>\n",
       "      <td>NaN</td>\n",
       "      <td>NaN</td>\n",
       "      <td>NaN</td>\n",
       "      <td>NaN</td>\n",
       "      <td>1</td>\n",
       "    </tr>\n",
       "    <tr>\n",
       "      <th>48129</th>\n",
       "      <td>114.209999</td>\n",
       "      <td>115.970001</td>\n",
       "      <td>114.040001</td>\n",
       "      <td>115.839996</td>\n",
       "      <td>2644808</td>\n",
       "      <td>2024-09-03 13:30:00+00:00</td>\n",
       "      <td>XOM</td>\n",
       "      <td>117.196135</td>\n",
       "      <td>117.404562</td>\n",
       "      <td>None</td>\n",
       "      <td>...</td>\n",
       "      <td>1.0</td>\n",
       "      <td>0</td>\n",
       "      <td>1.274314e+06</td>\n",
       "      <td>-0.263936</td>\n",
       "      <td>0.625112</td>\n",
       "      <td>NaN</td>\n",
       "      <td>NaN</td>\n",
       "      <td>NaN</td>\n",
       "      <td>NaN</td>\n",
       "      <td>1</td>\n",
       "    </tr>\n",
       "    <tr>\n",
       "      <th>51482</th>\n",
       "      <td>458.250000</td>\n",
       "      <td>463.899994</td>\n",
       "      <td>458.049988</td>\n",
       "      <td>463.690002</td>\n",
       "      <td>7536069</td>\n",
       "      <td>2024-07-25 19:30:00+00:00</td>\n",
       "      <td>QQQ</td>\n",
       "      <td>469.837804</td>\n",
       "      <td>474.335101</td>\n",
       "      <td>None</td>\n",
       "      <td>...</td>\n",
       "      <td>1.0</td>\n",
       "      <td>0</td>\n",
       "      <td>5.513133e+06</td>\n",
       "      <td>-1.115789</td>\n",
       "      <td>0.978981</td>\n",
       "      <td>NaN</td>\n",
       "      <td>NaN</td>\n",
       "      <td>NaN</td>\n",
       "      <td>NaN</td>\n",
       "      <td>1</td>\n",
       "    </tr>\n",
       "    <tr>\n",
       "      <th>53186</th>\n",
       "      <td>328.815002</td>\n",
       "      <td>331.450012</td>\n",
       "      <td>327.000000</td>\n",
       "      <td>331.059998</td>\n",
       "      <td>6911006</td>\n",
       "      <td>2023-07-11 13:30:00+00:00</td>\n",
       "      <td>MSFT</td>\n",
       "      <td>336.380492</td>\n",
       "      <td>337.808375</td>\n",
       "      <td>None</td>\n",
       "      <td>...</td>\n",
       "      <td>1.0</td>\n",
       "      <td>0</td>\n",
       "      <td>2.722456e+06</td>\n",
       "      <td>-0.959354</td>\n",
       "      <td>0.997948</td>\n",
       "      <td>NaN</td>\n",
       "      <td>NaN</td>\n",
       "      <td>NaN</td>\n",
       "      <td>NaN</td>\n",
       "      <td>1</td>\n",
       "    </tr>\n",
       "    <tr>\n",
       "      <th>58514</th>\n",
       "      <td>116.849998</td>\n",
       "      <td>119.989998</td>\n",
       "      <td>116.559998</td>\n",
       "      <td>119.980003</td>\n",
       "      <td>59381800</td>\n",
       "      <td>2024-07-18 14:30:00+00:00</td>\n",
       "      <td>NVDA</td>\n",
       "      <td>123.069866</td>\n",
       "      <td>126.689151</td>\n",
       "      <td>None</td>\n",
       "      <td>...</td>\n",
       "      <td>1.0</td>\n",
       "      <td>0</td>\n",
       "      <td>3.575709e+07</td>\n",
       "      <td>-0.608537</td>\n",
       "      <td>0.942180</td>\n",
       "      <td>NaN</td>\n",
       "      <td>NaN</td>\n",
       "      <td>NaN</td>\n",
       "      <td>NaN</td>\n",
       "      <td>1</td>\n",
       "    </tr>\n",
       "    <tr>\n",
       "      <th>65851</th>\n",
       "      <td>156.320007</td>\n",
       "      <td>159.789993</td>\n",
       "      <td>156.240005</td>\n",
       "      <td>159.789993</td>\n",
       "      <td>1380470</td>\n",
       "      <td>2024-09-11 13:30:00+00:00</td>\n",
       "      <td>BA</td>\n",
       "      <td>160.001396</td>\n",
       "      <td>161.070793</td>\n",
       "      <td>None</td>\n",
       "      <td>...</td>\n",
       "      <td>1.0</td>\n",
       "      <td>0</td>\n",
       "      <td>8.616189e+05</td>\n",
       "      <td>-0.296812</td>\n",
       "      <td>0.982769</td>\n",
       "      <td>NaN</td>\n",
       "      <td>NaN</td>\n",
       "      <td>NaN</td>\n",
       "      <td>NaN</td>\n",
       "      <td>1</td>\n",
       "    </tr>\n",
       "    <tr>\n",
       "      <th>72236</th>\n",
       "      <td>353.290009</td>\n",
       "      <td>357.239990</td>\n",
       "      <td>353.260010</td>\n",
       "      <td>357.019989</td>\n",
       "      <td>451154</td>\n",
       "      <td>2024-04-19 15:30:00+00:00</td>\n",
       "      <td>CAT</td>\n",
       "      <td>358.282114</td>\n",
       "      <td>361.755732</td>\n",
       "      <td>None</td>\n",
       "      <td>...</td>\n",
       "      <td>1.0</td>\n",
       "      <td>0</td>\n",
       "      <td>2.619805e+05</td>\n",
       "      <td>-0.464706</td>\n",
       "      <td>0.933338</td>\n",
       "      <td>NaN</td>\n",
       "      <td>NaN</td>\n",
       "      <td>NaN</td>\n",
       "      <td>NaN</td>\n",
       "      <td>1</td>\n",
       "    </tr>\n",
       "    <tr>\n",
       "      <th>76982</th>\n",
       "      <td>218.065002</td>\n",
       "      <td>220.589996</td>\n",
       "      <td>217.652298</td>\n",
       "      <td>220.539993</td>\n",
       "      <td>356086</td>\n",
       "      <td>2024-12-30 14:30:00+00:00</td>\n",
       "      <td>IBM</td>\n",
       "      <td>223.030211</td>\n",
       "      <td>223.519410</td>\n",
       "      <td>None</td>\n",
       "      <td>...</td>\n",
       "      <td>1.0</td>\n",
       "      <td>0</td>\n",
       "      <td>3.431417e+05</td>\n",
       "      <td>-0.447937</td>\n",
       "      <td>0.715196</td>\n",
       "      <td>NaN</td>\n",
       "      <td>NaN</td>\n",
       "      <td>NaN</td>\n",
       "      <td>NaN</td>\n",
       "      <td>1</td>\n",
       "    </tr>\n",
       "    <tr>\n",
       "      <th>84478</th>\n",
       "      <td>81.669998</td>\n",
       "      <td>82.760002</td>\n",
       "      <td>78.750000</td>\n",
       "      <td>80.010002</td>\n",
       "      <td>37845363</td>\n",
       "      <td>2025-03-31 13:30:00+00:00</td>\n",
       "      <td>PLTR</td>\n",
       "      <td>89.039025</td>\n",
       "      <td>91.807675</td>\n",
       "      <td>None</td>\n",
       "      <td>...</td>\n",
       "      <td>1.0</td>\n",
       "      <td>0</td>\n",
       "      <td>1.267438e+07</td>\n",
       "      <td>-0.994952</td>\n",
       "      <td>0.965758</td>\n",
       "      <td>NaN</td>\n",
       "      <td>NaN</td>\n",
       "      <td>NaN</td>\n",
       "      <td>NaN</td>\n",
       "      <td>1</td>\n",
       "    </tr>\n",
       "    <tr>\n",
       "      <th>86087</th>\n",
       "      <td>162.520004</td>\n",
       "      <td>164.899994</td>\n",
       "      <td>162.020004</td>\n",
       "      <td>162.559998</td>\n",
       "      <td>12570895</td>\n",
       "      <td>2024-02-21 14:30:00+00:00</td>\n",
       "      <td>AMD</td>\n",
       "      <td>171.223525</td>\n",
       "      <td>172.639463</td>\n",
       "      <td>None</td>\n",
       "      <td>...</td>\n",
       "      <td>1.0</td>\n",
       "      <td>0</td>\n",
       "      <td>7.765171e+06</td>\n",
       "      <td>-1.119000</td>\n",
       "      <td>0.972606</td>\n",
       "      <td>NaN</td>\n",
       "      <td>NaN</td>\n",
       "      <td>NaN</td>\n",
       "      <td>NaN</td>\n",
       "      <td>1</td>\n",
       "    </tr>\n",
       "    <tr>\n",
       "      <th>90334</th>\n",
       "      <td>154.814804</td>\n",
       "      <td>158.649994</td>\n",
       "      <td>154.139999</td>\n",
       "      <td>158.479996</td>\n",
       "      <td>5508639</td>\n",
       "      <td>2024-07-18 14:30:00+00:00</td>\n",
       "      <td>AVGO</td>\n",
       "      <td>164.101556</td>\n",
       "      <td>167.776569</td>\n",
       "      <td>None</td>\n",
       "      <td>...</td>\n",
       "      <td>1.0</td>\n",
       "      <td>0</td>\n",
       "      <td>1.511895e+06</td>\n",
       "      <td>-0.868858</td>\n",
       "      <td>0.943294</td>\n",
       "      <td>NaN</td>\n",
       "      <td>NaN</td>\n",
       "      <td>NaN</td>\n",
       "      <td>NaN</td>\n",
       "      <td>1</td>\n",
       "    </tr>\n",
       "    <tr>\n",
       "      <th>95114</th>\n",
       "      <td>32.735001</td>\n",
       "      <td>36.250000</td>\n",
       "      <td>32.700001</td>\n",
       "      <td>35.590000</td>\n",
       "      <td>23169928</td>\n",
       "      <td>2025-04-04 13:30:00+00:00</td>\n",
       "      <td>HOOD</td>\n",
       "      <td>40.474455</td>\n",
       "      <td>41.234580</td>\n",
       "      <td>None</td>\n",
       "      <td>...</td>\n",
       "      <td>1.0</td>\n",
       "      <td>0</td>\n",
       "      <td>6.238521e+06</td>\n",
       "      <td>-0.696690</td>\n",
       "      <td>0.990289</td>\n",
       "      <td>NaN</td>\n",
       "      <td>NaN</td>\n",
       "      <td>NaN</td>\n",
       "      <td>NaN</td>\n",
       "      <td>1</td>\n",
       "    </tr>\n",
       "    <tr>\n",
       "      <th>97672</th>\n",
       "      <td>145.032440</td>\n",
       "      <td>150.009979</td>\n",
       "      <td>142.116867</td>\n",
       "      <td>149.980011</td>\n",
       "      <td>326022</td>\n",
       "      <td>2024-06-17 13:30:00+00:00</td>\n",
       "      <td>MSTR</td>\n",
       "      <td>153.124997</td>\n",
       "      <td>156.525019</td>\n",
       "      <td>None</td>\n",
       "      <td>...</td>\n",
       "      <td>1.0</td>\n",
       "      <td>0</td>\n",
       "      <td>1.768202e+05</td>\n",
       "      <td>-0.974345</td>\n",
       "      <td>0.983971</td>\n",
       "      <td>NaN</td>\n",
       "      <td>NaN</td>\n",
       "      <td>NaN</td>\n",
       "      <td>NaN</td>\n",
       "      <td>1</td>\n",
       "    </tr>\n",
       "    <tr>\n",
       "      <th>100333</th>\n",
       "      <td>523.640015</td>\n",
       "      <td>533.500000</td>\n",
       "      <td>522.960022</td>\n",
       "      <td>530.000000</td>\n",
       "      <td>2272875</td>\n",
       "      <td>2023-12-15 14:30:00+00:00</td>\n",
       "      <td>UNH</td>\n",
       "      <td>540.543256</td>\n",
       "      <td>543.057004</td>\n",
       "      <td>None</td>\n",
       "      <td>...</td>\n",
       "      <td>1.0</td>\n",
       "      <td>0</td>\n",
       "      <td>3.764832e+05</td>\n",
       "      <td>-1.545430</td>\n",
       "      <td>0.925182</td>\n",
       "      <td>NaN</td>\n",
       "      <td>NaN</td>\n",
       "      <td>NaN</td>\n",
       "      <td>NaN</td>\n",
       "      <td>1</td>\n",
       "    </tr>\n",
       "    <tr>\n",
       "      <th>109507</th>\n",
       "      <td>311.230011</td>\n",
       "      <td>332.480011</td>\n",
       "      <td>307.566406</td>\n",
       "      <td>324.737488</td>\n",
       "      <td>2564315</td>\n",
       "      <td>2025-03-04 14:30:00+00:00</td>\n",
       "      <td>APP</td>\n",
       "      <td>330.646016</td>\n",
       "      <td>346.723907</td>\n",
       "      <td>None</td>\n",
       "      <td>...</td>\n",
       "      <td>1.0</td>\n",
       "      <td>0</td>\n",
       "      <td>1.541970e+06</td>\n",
       "      <td>-3.686544</td>\n",
       "      <td>0.903376</td>\n",
       "      <td>NaN</td>\n",
       "      <td>NaN</td>\n",
       "      <td>NaN</td>\n",
       "      <td>NaN</td>\n",
       "      <td>1</td>\n",
       "    </tr>\n",
       "  </tbody>\n",
       "</table>\n",
       "<p>21 rows × 30 columns</p>\n",
       "</div>"
      ],
      "text/plain": [
       "             Close        High         Low        Open    Volume  \\\n",
       "1954    538.340027  543.309998  538.130005  543.130005  10394986   \n",
       "4020    293.920013  298.345001  293.269989  295.700012   5566544   \n",
       "8196    183.315002  184.169998  180.050003  180.449997  35096943   \n",
       "12610   158.184998  162.070007  151.610001  154.154999  30252093   \n",
       "15646   543.989990  552.989990  542.010010  550.000000   2451675   \n",
       "19028   101.570000  103.410004  100.300003  103.410004    960660   \n",
       "21283   241.020004  244.949997  240.699997  244.710007  16072466   \n",
       "48129   114.209999  115.970001  114.040001  115.839996   2644808   \n",
       "51482   458.250000  463.899994  458.049988  463.690002   7536069   \n",
       "53186   328.815002  331.450012  327.000000  331.059998   6911006   \n",
       "58514   116.849998  119.989998  116.559998  119.980003  59381800   \n",
       "65851   156.320007  159.789993  156.240005  159.789993   1380470   \n",
       "72236   353.290009  357.239990  353.260010  357.019989    451154   \n",
       "76982   218.065002  220.589996  217.652298  220.539993    356086   \n",
       "84478    81.669998   82.760002   78.750000   80.010002  37845363   \n",
       "86087   162.520004  164.899994  162.020004  162.559998  12570895   \n",
       "90334   154.814804  158.649994  154.139999  158.479996   5508639   \n",
       "95114    32.735001   36.250000   32.700001   35.590000  23169928   \n",
       "97672   145.032440  150.009979  142.116867  149.980011    326022   \n",
       "100333  523.640015  533.500000  522.960022  530.000000   2272875   \n",
       "109507  311.230011  332.480011  307.566406  324.737488   2564315   \n",
       "\n",
       "                        datetime companyName       SMA20       SMA40  \\\n",
       "1954   2024-07-25 19:30:00+00:00         SPY  546.736862  549.418312   \n",
       "4020   2023-09-21 13:30:00+00:00        META  302.620804  304.114916   \n",
       "8196   2024-02-02 14:30:00+00:00        AAPL  186.268195  189.311170   \n",
       "12610  2024-08-05 13:30:00+00:00        AMZN  177.430126  180.219506   \n",
       "15646  2024-04-22 13:30:00+00:00        NFLX  590.059094  603.313652   \n",
       "19028  2024-03-20 13:30:00+00:00        MRNA  104.184750  105.277665   \n",
       "21283  2023-06-26 19:30:00+00:00        TSLA  255.265883  259.907268   \n",
       "48129  2024-09-03 13:30:00+00:00         XOM  117.196135  117.404562   \n",
       "51482  2024-07-25 19:30:00+00:00         QQQ  469.837804  474.335101   \n",
       "53186  2023-07-11 13:30:00+00:00        MSFT  336.380492  337.808375   \n",
       "58514  2024-07-18 14:30:00+00:00        NVDA  123.069866  126.689151   \n",
       "65851  2024-09-11 13:30:00+00:00          BA  160.001396  161.070793   \n",
       "72236  2024-04-19 15:30:00+00:00         CAT  358.282114  361.755732   \n",
       "76982  2024-12-30 14:30:00+00:00         IBM  223.030211  223.519410   \n",
       "84478  2025-03-31 13:30:00+00:00        PLTR   89.039025   91.807675   \n",
       "86087  2024-02-21 14:30:00+00:00         AMD  171.223525  172.639463   \n",
       "90334  2024-07-18 14:30:00+00:00        AVGO  164.101556  167.776569   \n",
       "95114  2025-04-04 13:30:00+00:00        HOOD   40.474455   41.234580   \n",
       "97672  2024-06-17 13:30:00+00:00        MSTR  153.124997  156.525019   \n",
       "100333 2023-12-15 14:30:00+00:00         UNH  540.543256  543.057004   \n",
       "109507 2025-03-04 14:30:00+00:00         APP  330.646016  346.723907   \n",
       "\n",
       "       tipo_vela  ...  bearishSlope  ind_posicion       promVol  sl_highs  \\\n",
       "1954        None  ...           1.0             0  6.169648e+06 -0.731436   \n",
       "4020        None  ...           1.0             0  2.416075e+06 -1.026390   \n",
       "8196        None  ...           1.0             0  6.687172e+06 -0.298133   \n",
       "12610       None  ...           1.0             0  6.276090e+06 -2.432384   \n",
       "15646       None  ...           1.0             0  5.730181e+05 -5.381037   \n",
       "19028       None  ...           1.0             0  4.914014e+05 -0.259217   \n",
       "21283       None  ...           1.0             0  2.377124e+07 -1.816297   \n",
       "48129       None  ...           1.0             0  1.274314e+06 -0.263936   \n",
       "51482       None  ...           1.0             0  5.513133e+06 -1.115789   \n",
       "53186       None  ...           1.0             0  2.722456e+06 -0.959354   \n",
       "58514       None  ...           1.0             0  3.575709e+07 -0.608537   \n",
       "65851       None  ...           1.0             0  8.616189e+05 -0.296812   \n",
       "72236       None  ...           1.0             0  2.619805e+05 -0.464706   \n",
       "76982       None  ...           1.0             0  3.431417e+05 -0.447937   \n",
       "84478       None  ...           1.0             0  1.267438e+07 -0.994952   \n",
       "86087       None  ...           1.0             0  7.765171e+06 -1.119000   \n",
       "90334       None  ...           1.0             0  1.511895e+06 -0.868858   \n",
       "95114       None  ...           1.0             0  6.238521e+06 -0.696690   \n",
       "97672       None  ...           1.0             0  1.768202e+05 -0.974345   \n",
       "100333      None  ...           1.0             0  3.764832e+05 -1.545430   \n",
       "109507      None  ...           1.0             0  1.541970e+06 -3.686544   \n",
       "\n",
       "          r_sq_h  isBreakOut  isBreakOutIni  breakpointpos  isBreakOutFinal  \\\n",
       "1954    0.980411         NaN            NaN            NaN              NaN   \n",
       "4020    0.815050         NaN            NaN            NaN              NaN   \n",
       "8196    0.893876         NaN            NaN            NaN              NaN   \n",
       "12610   0.970703         NaN            NaN            NaN              NaN   \n",
       "15646   0.987398         NaN            NaN            NaN              NaN   \n",
       "19028   0.853454         NaN            NaN            NaN              NaN   \n",
       "21283   0.971654         NaN            NaN            NaN              NaN   \n",
       "48129   0.625112         NaN            NaN            NaN              NaN   \n",
       "51482   0.978981         NaN            NaN            NaN              NaN   \n",
       "53186   0.997948         NaN            NaN            NaN              NaN   \n",
       "58514   0.942180         NaN            NaN            NaN              NaN   \n",
       "65851   0.982769         NaN            NaN            NaN              NaN   \n",
       "72236   0.933338         NaN            NaN            NaN              NaN   \n",
       "76982   0.715196         NaN            NaN            NaN              NaN   \n",
       "84478   0.965758         NaN            NaN            NaN              NaN   \n",
       "86087   0.972606         NaN            NaN            NaN              NaN   \n",
       "90334   0.943294         NaN            NaN            NaN              NaN   \n",
       "95114   0.990289         NaN            NaN            NaN              NaN   \n",
       "97672   0.983971         NaN            NaN            NaN              NaN   \n",
       "100333  0.925182         NaN            NaN            NaN              NaN   \n",
       "109507  0.903376         NaN            NaN            NaN              NaN   \n",
       "\n",
       "        caso  \n",
       "1954       1  \n",
       "4020       1  \n",
       "8196       1  \n",
       "12610      1  \n",
       "15646      1  \n",
       "19028      1  \n",
       "21283      1  \n",
       "48129      1  \n",
       "51482      1  \n",
       "53186      1  \n",
       "58514      1  \n",
       "65851      1  \n",
       "72236      1  \n",
       "76982      1  \n",
       "84478      1  \n",
       "86087      1  \n",
       "90334      1  \n",
       "95114      1  \n",
       "97672      1  \n",
       "100333     1  \n",
       "109507     1  \n",
       "\n",
       "[21 rows x 30 columns]"
      ]
     },
     "execution_count": 19,
     "metadata": {},
     "output_type": "execute_result"
    }
   ],
   "source": [
    "df_casos[(df_casos['caso']==1) & (df_casos['ind_posicion']==0)]"
   ]
  },
  {
   "cell_type": "code",
   "execution_count": 20,
   "id": "775fc148-d345-422b-8265-3c6fefdfa2bf",
   "metadata": {
    "execution": {
     "iopub.execute_input": "2025-06-11T19:34:29.608580Z",
     "iopub.status.busy": "2025-06-11T19:34:29.608144Z",
     "iopub.status.idle": "2025-06-11T19:34:29.617631Z",
     "shell.execute_reply": "2025-06-11T19:34:29.617106Z"
    },
    "papermill": {
     "duration": 0.021041,
     "end_time": "2025-06-11T19:34:29.618583",
     "exception": false,
     "start_time": "2025-06-11T19:34:29.597542",
     "status": "completed"
    },
    "tags": []
   },
   "outputs": [
    {
     "name": "stdout",
     "output_type": "stream",
     "text": [
      "<class 'pandas.core.frame.DataFrame'>\n",
      "Index: 17898 entries, 1879 to 110045\n",
      "Data columns (total 30 columns):\n",
      " #   Column           Non-Null Count  Dtype              \n",
      "---  ------           --------------  -----              \n",
      " 0   Close            17898 non-null  float64            \n",
      " 1   High             17898 non-null  float64            \n",
      " 2   Low              17898 non-null  float64            \n",
      " 3   Open             17898 non-null  float64            \n",
      " 4   Volume           17898 non-null  int64              \n",
      " 5   datetime         17898 non-null  datetime64[ns, UTC]\n",
      " 6   companyName      17898 non-null  object             \n",
      " 7   SMA20            17879 non-null  float64            \n",
      " 8   SMA40            17859 non-null  float64            \n",
      " 9   tipo_vela        2565 non-null   object             \n",
      " 10  pivotHigh        563 non-null    float64            \n",
      " 11  pivotLow         576 non-null    float64            \n",
      " 12  isPivot          1139 non-null   float64            \n",
      " 13  dif_pivot        576 non-null    float64            \n",
      " 14  dif_ant1         17898 non-null  float64            \n",
      " 15  dif_ant2         17898 non-null  float64            \n",
      " 16  cncf01           17898 non-null  int64              \n",
      " 17  PM40_PM20        17859 non-null  float64            \n",
      " 18  trendH           466 non-null    float64            \n",
      " 19  trendcurrhigh    4166 non-null   float64            \n",
      " 20  bearishSlope     119 non-null    float64            \n",
      " 21  ind_posicion     17898 non-null  int64              \n",
      " 22  promVol          17898 non-null  float64            \n",
      " 23  sl_highs         17898 non-null  float64            \n",
      " 24  r_sq_h           17898 non-null  float64            \n",
      " 25  isBreakOut       375 non-null    float64            \n",
      " 26  isBreakOutIni    119 non-null    float64            \n",
      " 27  breakpointpos    119 non-null    float64            \n",
      " 28  isBreakOutFinal  118 non-null    float64            \n",
      " 29  caso             17898 non-null  int64              \n",
      "dtypes: datetime64[ns, UTC](1), float64(23), int64(4), object(2)\n",
      "memory usage: 4.2+ MB\n"
     ]
    }
   ],
   "source": [
    "df_casos.info()"
   ]
  },
  {
   "cell_type": "code",
   "execution_count": 21,
   "id": "6cf51994-71f8-4117-90da-7dbef393e97f",
   "metadata": {
    "execution": {
     "iopub.execute_input": "2025-06-11T19:34:29.640519Z",
     "iopub.status.busy": "2025-06-11T19:34:29.640003Z",
     "iopub.status.idle": "2025-06-11T19:34:30.030920Z",
     "shell.execute_reply": "2025-06-11T19:34:30.030283Z"
    },
    "papermill": {
     "duration": 0.40299,
     "end_time": "2025-06-11T19:34:30.031999",
     "exception": false,
     "start_time": "2025-06-11T19:34:29.629009",
     "status": "completed"
    },
    "tags": []
   },
   "outputs": [],
   "source": [
    "#descarga de informacion, estrategia: RUPTURA DEL CANAL BAJISTA\n",
    "path='data/cncf_h.txt'\n",
    "# check whether the file exists\n",
    "if os.path.exists(path):\n",
    "    # delete the file\n",
    "    os.remove(path)\n",
    "else:\n",
    "    # if the file does not exist.\n",
    "    print(\"File does not exists. File needs to be created.\")\n",
    "\n",
    "#export DataFrame to text file\n",
    "with open(path, 'a') as f:\n",
    "    #df_string = appl_hor3.to_string(header=True, index=False, sep ='\\t')\n",
    "    df_casos.to_csv(path, header=True, index=None, sep='\\t', mode='w')\n",
    "    #f.write(df_string)"
   ]
  },
  {
   "cell_type": "code",
   "execution_count": 22,
   "id": "1ac63d59-7a69-4acc-83af-cb7921c0a589",
   "metadata": {
    "execution": {
     "iopub.execute_input": "2025-06-11T19:34:30.053374Z",
     "iopub.status.busy": "2025-06-11T19:34:30.052877Z",
     "iopub.status.idle": "2025-06-11T19:34:30.061435Z",
     "shell.execute_reply": "2025-06-11T19:34:30.060971Z"
    },
    "papermill": {
     "duration": 0.02008,
     "end_time": "2025-06-11T19:34:30.062302",
     "exception": false,
     "start_time": "2025-06-11T19:34:30.042222",
     "status": "completed"
    },
    "tags": []
   },
   "outputs": [
    {
     "name": "stdout",
     "output_type": "stream",
     "text": [
      "<class 'pandas.core.frame.DataFrame'>\n",
      "Index: 17898 entries, 1879 to 110045\n",
      "Data columns (total 30 columns):\n",
      " #   Column           Non-Null Count  Dtype              \n",
      "---  ------           --------------  -----              \n",
      " 0   Close            17898 non-null  float64            \n",
      " 1   High             17898 non-null  float64            \n",
      " 2   Low              17898 non-null  float64            \n",
      " 3   Open             17898 non-null  float64            \n",
      " 4   Volume           17898 non-null  int64              \n",
      " 5   datetime         17898 non-null  datetime64[ns, UTC]\n",
      " 6   companyName      17898 non-null  object             \n",
      " 7   SMA20            17879 non-null  float64            \n",
      " 8   SMA40            17859 non-null  float64            \n",
      " 9   tipo_vela        2565 non-null   object             \n",
      " 10  pivotHigh        563 non-null    float64            \n",
      " 11  pivotLow         576 non-null    float64            \n",
      " 12  isPivot          1139 non-null   float64            \n",
      " 13  dif_pivot        576 non-null    float64            \n",
      " 14  dif_ant1         17898 non-null  float64            \n",
      " 15  dif_ant2         17898 non-null  float64            \n",
      " 16  cncf01           17898 non-null  int64              \n",
      " 17  PM40_PM20        17859 non-null  float64            \n",
      " 18  trendH           466 non-null    float64            \n",
      " 19  trendcurrhigh    4166 non-null   float64            \n",
      " 20  bearishSlope     119 non-null    float64            \n",
      " 21  ind_posicion     17898 non-null  int64              \n",
      " 22  promVol          17898 non-null  float64            \n",
      " 23  sl_highs         17898 non-null  float64            \n",
      " 24  r_sq_h           17898 non-null  float64            \n",
      " 25  isBreakOut       375 non-null    float64            \n",
      " 26  isBreakOutIni    119 non-null    float64            \n",
      " 27  breakpointpos    119 non-null    float64            \n",
      " 28  isBreakOutFinal  118 non-null    float64            \n",
      " 29  caso             17898 non-null  int64              \n",
      "dtypes: datetime64[ns, UTC](1), float64(23), int64(4), object(2)\n",
      "memory usage: 4.2+ MB\n"
     ]
    }
   ],
   "source": [
    "df_casos.info()"
   ]
  },
  {
   "cell_type": "markdown",
   "id": "e711a443-1f66-4374-814b-d092d61a9f08",
   "metadata": {
    "papermill": {
     "duration": 0.009866,
     "end_time": "2025-06-11T19:34:30.082346",
     "exception": false,
     "start_time": "2025-06-11T19:34:30.072480",
     "status": "completed"
    },
    "tags": []
   },
   "source": [
    "### BACKTESTING\n",
    "##### \n",
    "Usando paquete backtesting.py"
   ]
  },
  {
   "cell_type": "code",
   "execution_count": 23,
   "id": "798823fd-ba73-41d8-addd-ae90e3241729",
   "metadata": {
    "execution": {
     "iopub.execute_input": "2025-06-11T19:34:30.103387Z",
     "iopub.status.busy": "2025-06-11T19:34:30.102901Z",
     "iopub.status.idle": "2025-06-11T19:34:30.111207Z",
     "shell.execute_reply": "2025-06-11T19:34:30.110737Z"
    },
    "papermill": {
     "duration": 0.019851,
     "end_time": "2025-06-11T19:34:30.112078",
     "exception": false,
     "start_time": "2025-06-11T19:34:30.092227",
     "status": "completed"
    },
    "tags": []
   },
   "outputs": [],
   "source": [
    "df_casos2 = df_casos.query(\"isBreakOutIni==1 or isBreakOutFinal==1\").copy()"
   ]
  },
  {
   "cell_type": "code",
   "execution_count": 24,
   "id": "13e3693b-9471-45c8-9656-647ecc18694b",
   "metadata": {
    "execution": {
     "iopub.execute_input": "2025-06-11T19:34:30.133671Z",
     "iopub.status.busy": "2025-06-11T19:34:30.133203Z",
     "iopub.status.idle": "2025-06-11T19:34:30.174951Z",
     "shell.execute_reply": "2025-06-11T19:34:30.174400Z"
    },
    "papermill": {
     "duration": 0.053784,
     "end_time": "2025-06-11T19:34:30.176082",
     "exception": false,
     "start_time": "2025-06-11T19:34:30.122298",
     "status": "completed"
    },
    "tags": []
   },
   "outputs": [],
   "source": [
    "# =============== BACKTESTING ================= #\n",
    "# obteniendo dataframe backtesting\n",
    "df_backTesting = pd.merge(df, df_casos2[['datetime','companyName', 'isBreakOutIni','isBreakOutFinal','caso']], on = ['companyName','datetime'], how='left')\n",
    "# datos de trade se asigna una vela anterior debido a que backtesting.py toma entra como la siguiente vela\n",
    "df_backTesting['isBreakOutIni'] = df_backTesting['isBreakOutIni'].shift(-1)\n",
    "df_backTesting['isBreakOutFinal'] = df_backTesting['isBreakOutFinal'].shift(-1)\n",
    "#modificamos indice con el compo datetime\n",
    "df_backTesting.set_index('datetime', inplace=True)"
   ]
  },
  {
   "cell_type": "code",
   "execution_count": 25,
   "id": "771c264b-7471-4e04-a51a-ac1ab8275a21",
   "metadata": {
    "execution": {
     "iopub.execute_input": "2025-06-11T19:34:30.198070Z",
     "iopub.status.busy": "2025-06-11T19:34:30.197768Z",
     "iopub.status.idle": "2025-06-11T19:34:30.201884Z",
     "shell.execute_reply": "2025-06-11T19:34:30.201368Z"
    },
    "papermill": {
     "duration": 0.01593,
     "end_time": "2025-06-11T19:34:30.202713",
     "exception": false,
     "start_time": "2025-06-11T19:34:30.186783",
     "status": "completed"
    },
    "tags": []
   },
   "outputs": [],
   "source": [
    "#Strategia\n",
    "class strategyRupturaCanal(Strategy):    \n",
    "    def init(self):        \n",
    "        self.breakout_entry = self.I(lambda x: x, self.data.isBreakOutIni) #Indica la señal entrada al backtesting\n",
    "        self.breakout_exit = self.I(lambda x: x, self.data.isBreakOutFinal) #Indica la señal salida al backtesting\n",
    "\n",
    "    def next(self):       \n",
    "        #print(self.data)        \n",
    "        if self.breakout_entry[-1] == 1:\n",
    "            self.buy()  #COMPRA\n",
    "        elif self.breakout_exit[-1] == 1 and self.position:\n",
    "            self.position.close() #CIERRE"
   ]
  },
  {
   "cell_type": "code",
   "execution_count": 26,
   "id": "48c87d0f-7250-43a8-a59c-e8e2e705b6e2",
   "metadata": {
    "execution": {
     "iopub.execute_input": "2025-06-11T19:34:30.224168Z",
     "iopub.status.busy": "2025-06-11T19:34:30.223905Z",
     "iopub.status.idle": "2025-06-11T19:34:31.966519Z",
     "shell.execute_reply": "2025-06-11T19:34:31.965998Z"
    },
    "papermill": {
     "duration": 1.754332,
     "end_time": "2025-06-11T19:34:31.967404",
     "exception": false,
     "start_time": "2025-06-11T19:34:30.213072",
     "status": "completed"
    },
    "tags": []
   },
   "outputs": [
    {
     "name": "stderr",
     "output_type": "stream",
     "text": [
      "\r",
      "Backtest.run:   0%|          | 0/1583 [00:00<?, ?bar/s]"
     ]
    },
    {
     "name": "stderr",
     "output_type": "stream",
     "text": [
      "\r",
      "                                                       "
     ]
    },
    {
     "name": "stderr",
     "output_type": "stream",
     "text": [
      "\r"
     ]
    },
    {
     "name": "stderr",
     "output_type": "stream",
     "text": [
      "\r",
      "Backtest.run:   0%|          | 0/3016 [00:00<?, ?bar/s]"
     ]
    },
    {
     "name": "stderr",
     "output_type": "stream",
     "text": [
      "\r",
      "                                                       "
     ]
    },
    {
     "name": "stderr",
     "output_type": "stream",
     "text": [
      "\r"
     ]
    },
    {
     "name": "stderr",
     "output_type": "stream",
     "text": [
      "\r",
      "Backtest.run:   0%|          | 0/2396 [00:00<?, ?bar/s]"
     ]
    },
    {
     "name": "stderr",
     "output_type": "stream",
     "text": [
      "\r",
      "                                                       "
     ]
    },
    {
     "name": "stderr",
     "output_type": "stream",
     "text": [
      "\r"
     ]
    },
    {
     "name": "stderr",
     "output_type": "stream",
     "text": [
      "\r",
      "Backtest.run:   0%|          | 0/1524 [00:00<?, ?bar/s]"
     ]
    },
    {
     "name": "stderr",
     "output_type": "stream",
     "text": [
      "\r",
      "                                                       "
     ]
    },
    {
     "name": "stderr",
     "output_type": "stream",
     "text": [
      "\r"
     ]
    },
    {
     "name": "stderr",
     "output_type": "stream",
     "text": [
      "\r",
      "Backtest.run:   0%|          | 0/2027 [00:00<?, ?bar/s]"
     ]
    },
    {
     "name": "stderr",
     "output_type": "stream",
     "text": [
      "\r",
      "                                                       "
     ]
    },
    {
     "name": "stderr",
     "output_type": "stream",
     "text": [
      "\r"
     ]
    },
    {
     "name": "stderr",
     "output_type": "stream",
     "text": [
      "\r",
      "Backtest.run:   0%|          | 0/2184 [00:00<?, ?bar/s]"
     ]
    },
    {
     "name": "stderr",
     "output_type": "stream",
     "text": [
      "\r",
      "                                                       "
     ]
    },
    {
     "name": "stderr",
     "output_type": "stream",
     "text": [
      "\r"
     ]
    },
    {
     "name": "stderr",
     "output_type": "stream",
     "text": [
      "\r",
      "Backtest.run:   0%|          | 0/3436 [00:00<?, ?bar/s]"
     ]
    },
    {
     "name": "stderr",
     "output_type": "stream",
     "text": [
      "\r",
      "                                                       "
     ]
    },
    {
     "name": "stderr",
     "output_type": "stream",
     "text": [
      "\r"
     ]
    },
    {
     "name": "stderr",
     "output_type": "stream",
     "text": [
      "\r",
      "Backtest.run:   0%|          | 0/3540 [00:00<?, ?bar/s]"
     ]
    },
    {
     "name": "stderr",
     "output_type": "stream",
     "text": [
      "\r",
      "                                                       "
     ]
    },
    {
     "name": "stderr",
     "output_type": "stream",
     "text": [
      "\r"
     ]
    },
    {
     "name": "stderr",
     "output_type": "stream",
     "text": [
      "/tmp/ipykernel_2139/2801041912.py:34: FutureWarning: The behavior of DataFrame concatenation with empty or all-NA entries is deprecated. In a future version, this will no longer exclude empty or all-NA columns when determining the result dtypes. To retain the old behavior, exclude the relevant entries before the concat operation.\n",
      "  tradesprev = pd.concat([tradesprev, tradesdf],ignore_index=True)\n",
      "/tmp/ipykernel_2139/2801041912.py:35: FutureWarning: The behavior of DataFrame concatenation with empty or all-NA entries is deprecated. In a future version, this will no longer exclude empty or all-NA columns when determining the result dtypes. To retain the old behavior, exclude the relevant entries before the concat operation.\n",
      "  estadisticas=pd.concat([estadisticas, stat],ignore_index=True)\n"
     ]
    },
    {
     "name": "stderr",
     "output_type": "stream",
     "text": [
      "\r",
      "Backtest.run:   0%|          | 0/3539 [00:00<?, ?bar/s]"
     ]
    },
    {
     "name": "stderr",
     "output_type": "stream",
     "text": [
      "\r",
      "                                                       "
     ]
    },
    {
     "name": "stderr",
     "output_type": "stream",
     "text": [
      "\r"
     ]
    },
    {
     "name": "stderr",
     "output_type": "stream",
     "text": [
      "/tmp/ipykernel_2139/2801041912.py:34: FutureWarning: The behavior of DataFrame concatenation with empty or all-NA entries is deprecated. In a future version, this will no longer exclude empty or all-NA columns when determining the result dtypes. To retain the old behavior, exclude the relevant entries before the concat operation.\n",
      "  tradesprev = pd.concat([tradesprev, tradesdf],ignore_index=True)\n"
     ]
    },
    {
     "name": "stderr",
     "output_type": "stream",
     "text": [
      "/tmp/ipykernel_2139/2801041912.py:35: FutureWarning: The behavior of DataFrame concatenation with empty or all-NA entries is deprecated. In a future version, this will no longer exclude empty or all-NA columns when determining the result dtypes. To retain the old behavior, exclude the relevant entries before the concat operation.\n",
      "  estadisticas=pd.concat([estadisticas, stat],ignore_index=True)\n"
     ]
    },
    {
     "name": "stderr",
     "output_type": "stream",
     "text": [
      "\r",
      "Backtest.run:   0%|          | 0/3540 [00:00<?, ?bar/s]"
     ]
    },
    {
     "name": "stderr",
     "output_type": "stream",
     "text": [
      "\r",
      "                                                       "
     ]
    },
    {
     "name": "stderr",
     "output_type": "stream",
     "text": [
      "\r",
      "/tmp/ipykernel_2139/2801041912.py:34: FutureWarning: The behavior of DataFrame concatenation with empty or all-NA entries is deprecated. In a future version, this will no longer exclude empty or all-NA columns when determining the result dtypes. To retain the old behavior, exclude the relevant entries before the concat operation.\n",
      "  tradesprev = pd.concat([tradesprev, tradesdf],ignore_index=True)\n",
      "/tmp/ipykernel_2139/2801041912.py:35: FutureWarning: The behavior of DataFrame concatenation with empty or all-NA entries is deprecated. In a future version, this will no longer exclude empty or all-NA columns when determining the result dtypes. To retain the old behavior, exclude the relevant entries before the concat operation.\n",
      "  estadisticas=pd.concat([estadisticas, stat],ignore_index=True)\n"
     ]
    },
    {
     "name": "stderr",
     "output_type": "stream",
     "text": [
      "\r",
      "Backtest.run:   0%|          | 0/3540 [00:00<?, ?bar/s]"
     ]
    },
    {
     "name": "stderr",
     "output_type": "stream",
     "text": [
      "\r",
      "                                                       "
     ]
    },
    {
     "name": "stderr",
     "output_type": "stream",
     "text": [
      "\r"
     ]
    },
    {
     "name": "stderr",
     "output_type": "stream",
     "text": [
      "/tmp/ipykernel_2139/2801041912.py:34: FutureWarning: The behavior of DataFrame concatenation with empty or all-NA entries is deprecated. In a future version, this will no longer exclude empty or all-NA columns when determining the result dtypes. To retain the old behavior, exclude the relevant entries before the concat operation.\n",
      "  tradesprev = pd.concat([tradesprev, tradesdf],ignore_index=True)\n",
      "/tmp/ipykernel_2139/2801041912.py:35: FutureWarning: The behavior of DataFrame concatenation with empty or all-NA entries is deprecated. In a future version, this will no longer exclude empty or all-NA columns when determining the result dtypes. To retain the old behavior, exclude the relevant entries before the concat operation.\n",
      "  estadisticas=pd.concat([estadisticas, stat],ignore_index=True)\n"
     ]
    },
    {
     "name": "stderr",
     "output_type": "stream",
     "text": [
      "\r",
      "Backtest.run:   0%|          | 0/3535 [00:00<?, ?bar/s]"
     ]
    },
    {
     "name": "stderr",
     "output_type": "stream",
     "text": [
      "\r",
      "                                                       "
     ]
    },
    {
     "name": "stderr",
     "output_type": "stream",
     "text": [
      "\r"
     ]
    },
    {
     "name": "stderr",
     "output_type": "stream",
     "text": [
      "/tmp/ipykernel_2139/2801041912.py:34: FutureWarning: The behavior of DataFrame concatenation with empty or all-NA entries is deprecated. In a future version, this will no longer exclude empty or all-NA columns when determining the result dtypes. To retain the old behavior, exclude the relevant entries before the concat operation.\n",
      "  tradesprev = pd.concat([tradesprev, tradesdf],ignore_index=True)\n",
      "/tmp/ipykernel_2139/2801041912.py:35: FutureWarning: The behavior of DataFrame concatenation with empty or all-NA entries is deprecated. In a future version, this will no longer exclude empty or all-NA columns when determining the result dtypes. To retain the old behavior, exclude the relevant entries before the concat operation.\n",
      "  estadisticas=pd.concat([estadisticas, stat],ignore_index=True)\n"
     ]
    },
    {
     "name": "stderr",
     "output_type": "stream",
     "text": [
      "\r",
      "Backtest.run:   0%|          | 0/3535 [00:00<?, ?bar/s]"
     ]
    },
    {
     "name": "stderr",
     "output_type": "stream",
     "text": [
      "\r",
      "                                                       "
     ]
    },
    {
     "name": "stderr",
     "output_type": "stream",
     "text": [
      "\r"
     ]
    },
    {
     "name": "stderr",
     "output_type": "stream",
     "text": [
      "/tmp/ipykernel_2139/2801041912.py:34: FutureWarning: The behavior of DataFrame concatenation with empty or all-NA entries is deprecated. In a future version, this will no longer exclude empty or all-NA columns when determining the result dtypes. To retain the old behavior, exclude the relevant entries before the concat operation.\n",
      "  tradesprev = pd.concat([tradesprev, tradesdf],ignore_index=True)\n",
      "/tmp/ipykernel_2139/2801041912.py:35: FutureWarning: The behavior of DataFrame concatenation with empty or all-NA entries is deprecated. In a future version, this will no longer exclude empty or all-NA columns when determining the result dtypes. To retain the old behavior, exclude the relevant entries before the concat operation.\n",
      "  estadisticas=pd.concat([estadisticas, stat],ignore_index=True)\n"
     ]
    },
    {
     "name": "stderr",
     "output_type": "stream",
     "text": [
      "\r",
      "Backtest.run:   0%|          | 0/1368 [00:00<?, ?bar/s]"
     ]
    },
    {
     "name": "stderr",
     "output_type": "stream",
     "text": [
      "\r",
      "                                                       "
     ]
    },
    {
     "name": "stderr",
     "output_type": "stream",
     "text": [
      "\r",
      "/tmp/ipykernel_2139/2801041912.py:34: FutureWarning: The behavior of DataFrame concatenation with empty or all-NA entries is deprecated. In a future version, this will no longer exclude empty or all-NA columns when determining the result dtypes. To retain the old behavior, exclude the relevant entries before the concat operation.\n",
      "  tradesprev = pd.concat([tradesprev, tradesdf],ignore_index=True)\n",
      "/tmp/ipykernel_2139/2801041912.py:35: FutureWarning: The behavior of DataFrame concatenation with empty or all-NA entries is deprecated. In a future version, this will no longer exclude empty or all-NA columns when determining the result dtypes. To retain the old behavior, exclude the relevant entries before the concat operation.\n",
      "  estadisticas=pd.concat([estadisticas, stat],ignore_index=True)\n"
     ]
    },
    {
     "name": "stderr",
     "output_type": "stream",
     "text": [
      "\r",
      "Backtest.run:   0%|          | 0/1573 [00:00<?, ?bar/s]"
     ]
    },
    {
     "name": "stderr",
     "output_type": "stream",
     "text": [
      "/usr/share/miniconda/envs/test/lib/python3.10/site-packages/backtesting/backtesting.py:954: UserWarning: time=2773: Broker canceled the relative-sized order due to insufficient margin.\n",
      "  warnings.warn(\n",
      "\r",
      "                                                       "
     ]
    },
    {
     "name": "stderr",
     "output_type": "stream",
     "text": [
      "\r"
     ]
    },
    {
     "name": "stderr",
     "output_type": "stream",
     "text": [
      "\r",
      "Backtest.run:   0%|          | 0/3393 [00:00<?, ?bar/s]"
     ]
    },
    {
     "name": "stderr",
     "output_type": "stream",
     "text": [
      "\r",
      "                                                       "
     ]
    },
    {
     "name": "stderr",
     "output_type": "stream",
     "text": [
      "\r"
     ]
    },
    {
     "name": "stderr",
     "output_type": "stream",
     "text": [
      "\r",
      "Backtest.run:   0%|          | 0/1601 [00:00<?, ?bar/s]"
     ]
    },
    {
     "name": "stderr",
     "output_type": "stream",
     "text": [
      "\r",
      "                                                       "
     ]
    },
    {
     "name": "stderr",
     "output_type": "stream",
     "text": [
      "\r"
     ]
    },
    {
     "name": "stderr",
     "output_type": "stream",
     "text": [
      "\r",
      "Backtest.run:   0%|          | 0/3535 [00:00<?, ?bar/s]"
     ]
    },
    {
     "name": "stderr",
     "output_type": "stream",
     "text": [
      "\r",
      "                                                       "
     ]
    },
    {
     "name": "stderr",
     "output_type": "stream",
     "text": [
      "\r"
     ]
    },
    {
     "name": "stderr",
     "output_type": "stream",
     "text": [
      "/tmp/ipykernel_2139/2801041912.py:34: FutureWarning: The behavior of DataFrame concatenation with empty or all-NA entries is deprecated. In a future version, this will no longer exclude empty or all-NA columns when determining the result dtypes. To retain the old behavior, exclude the relevant entries before the concat operation.\n",
      "  tradesprev = pd.concat([tradesprev, tradesdf],ignore_index=True)\n"
     ]
    },
    {
     "name": "stderr",
     "output_type": "stream",
     "text": [
      "/tmp/ipykernel_2139/2801041912.py:35: FutureWarning: The behavior of DataFrame concatenation with empty or all-NA entries is deprecated. In a future version, this will no longer exclude empty or all-NA columns when determining the result dtypes. To retain the old behavior, exclude the relevant entries before the concat operation.\n",
      "  estadisticas=pd.concat([estadisticas, stat],ignore_index=True)\n"
     ]
    },
    {
     "name": "stderr",
     "output_type": "stream",
     "text": [
      "\r",
      "Backtest.run:   0%|          | 0/1346 [00:00<?, ?bar/s]"
     ]
    },
    {
     "name": "stderr",
     "output_type": "stream",
     "text": [
      "\r",
      "                                                       "
     ]
    },
    {
     "name": "stderr",
     "output_type": "stream",
     "text": [
      "\r",
      "/tmp/ipykernel_2139/2801041912.py:34: FutureWarning: The behavior of DataFrame concatenation with empty or all-NA entries is deprecated. In a future version, this will no longer exclude empty or all-NA columns when determining the result dtypes. To retain the old behavior, exclude the relevant entries before the concat operation.\n",
      "  tradesprev = pd.concat([tradesprev, tradesdf],ignore_index=True)\n",
      "/tmp/ipykernel_2139/2801041912.py:35: FutureWarning: The behavior of DataFrame concatenation with empty or all-NA entries is deprecated. In a future version, this will no longer exclude empty or all-NA columns when determining the result dtypes. To retain the old behavior, exclude the relevant entries before the concat operation.\n",
      "  estadisticas=pd.concat([estadisticas, stat],ignore_index=True)\n"
     ]
    },
    {
     "name": "stderr",
     "output_type": "stream",
     "text": [
      "\r",
      "Backtest.run:   0%|          | 0/3535 [00:00<?, ?bar/s]"
     ]
    },
    {
     "name": "stderr",
     "output_type": "stream",
     "text": [
      "\r",
      "                                                       "
     ]
    },
    {
     "name": "stderr",
     "output_type": "stream",
     "text": [
      "\r",
      "/tmp/ipykernel_2139/2801041912.py:34: FutureWarning: The behavior of DataFrame concatenation with empty or all-NA entries is deprecated. In a future version, this will no longer exclude empty or all-NA columns when determining the result dtypes. To retain the old behavior, exclude the relevant entries before the concat operation.\n",
      "  tradesprev = pd.concat([tradesprev, tradesdf],ignore_index=True)\n",
      "/tmp/ipykernel_2139/2801041912.py:35: FutureWarning: The behavior of DataFrame concatenation with empty or all-NA entries is deprecated. In a future version, this will no longer exclude empty or all-NA columns when determining the result dtypes. To retain the old behavior, exclude the relevant entries before the concat operation.\n",
      "  estadisticas=pd.concat([estadisticas, stat],ignore_index=True)\n"
     ]
    },
    {
     "name": "stderr",
     "output_type": "stream",
     "text": [
      "\r",
      "Backtest.run:   0%|          | 0/2024 [00:00<?, ?bar/s]"
     ]
    },
    {
     "name": "stderr",
     "output_type": "stream",
     "text": [
      "\r",
      "                                                       "
     ]
    },
    {
     "name": "stderr",
     "output_type": "stream",
     "text": [
      "\r"
     ]
    },
    {
     "name": "stderr",
     "output_type": "stream",
     "text": [
      "\r",
      "Backtest.run:   0%|          | 0/797 [00:00<?, ?bar/s]"
     ]
    },
    {
     "name": "stderr",
     "output_type": "stream",
     "text": [
      "\r",
      "                                                      "
     ]
    },
    {
     "name": "stderr",
     "output_type": "stream",
     "text": [
      "\r"
     ]
    },
    {
     "name": "stderr",
     "output_type": "stream",
     "text": [
      "\r",
      "Backtest.run:   0%|          | 0/3532 [00:00<?, ?bar/s]"
     ]
    },
    {
     "name": "stderr",
     "output_type": "stream",
     "text": [
      "\r",
      "                                                       "
     ]
    },
    {
     "name": "stderr",
     "output_type": "stream",
     "text": [
      "\r",
      "/tmp/ipykernel_2139/2801041912.py:34: FutureWarning: The behavior of DataFrame concatenation with empty or all-NA entries is deprecated. In a future version, this will no longer exclude empty or all-NA columns when determining the result dtypes. To retain the old behavior, exclude the relevant entries before the concat operation.\n",
      "  tradesprev = pd.concat([tradesprev, tradesdf],ignore_index=True)\n",
      "/tmp/ipykernel_2139/2801041912.py:35: FutureWarning: The behavior of DataFrame concatenation with empty or all-NA entries is deprecated. In a future version, this will no longer exclude empty or all-NA columns when determining the result dtypes. To retain the old behavior, exclude the relevant entries before the concat operation.\n",
      "  estadisticas=pd.concat([estadisticas, stat],ignore_index=True)\n"
     ]
    },
    {
     "name": "stderr",
     "output_type": "stream",
     "text": [
      "\r",
      "Backtest.run:   0%|          | 0/390 [00:00<?, ?bar/s]"
     ]
    },
    {
     "name": "stderr",
     "output_type": "stream",
     "text": [
      "\r",
      "                                                      "
     ]
    },
    {
     "name": "stderr",
     "output_type": "stream",
     "text": [
      "\r"
     ]
    },
    {
     "name": "stderr",
     "output_type": "stream",
     "text": [
      "/tmp/ipykernel_2139/2801041912.py:34: FutureWarning: The behavior of DataFrame concatenation with empty or all-NA entries is deprecated. In a future version, this will no longer exclude empty or all-NA columns when determining the result dtypes. To retain the old behavior, exclude the relevant entries before the concat operation.\n",
      "  tradesprev = pd.concat([tradesprev, tradesdf],ignore_index=True)\n",
      "/tmp/ipykernel_2139/2801041912.py:35: FutureWarning: The behavior of DataFrame concatenation with empty or all-NA entries is deprecated. In a future version, this will no longer exclude empty or all-NA columns when determining the result dtypes. To retain the old behavior, exclude the relevant entries before the concat operation.\n",
      "  estadisticas=pd.concat([estadisticas, stat],ignore_index=True)\n"
     ]
    },
    {
     "name": "stderr",
     "output_type": "stream",
     "text": [
      "\r",
      "Backtest.run:   0%|          | 0/2322 [00:00<?, ?bar/s]"
     ]
    },
    {
     "name": "stderr",
     "output_type": "stream",
     "text": [
      "\r",
      "                                                       "
     ]
    },
    {
     "name": "stderr",
     "output_type": "stream",
     "text": [
      "\r"
     ]
    },
    {
     "name": "stderr",
     "output_type": "stream",
     "text": [
      "\r",
      "Backtest.run:   0%|          | 0/1616 [00:00<?, ?bar/s]"
     ]
    },
    {
     "name": "stderr",
     "output_type": "stream",
     "text": [
      "\r",
      "                                                       "
     ]
    },
    {
     "name": "stderr",
     "output_type": "stream",
     "text": [
      "\r"
     ]
    },
    {
     "name": "stderr",
     "output_type": "stream",
     "text": [
      "\r",
      "Backtest.run:   0%|          | 0/353 [00:00<?, ?bar/s]"
     ]
    },
    {
     "name": "stderr",
     "output_type": "stream",
     "text": [
      "\r",
      "                                                      "
     ]
    },
    {
     "name": "stderr",
     "output_type": "stream",
     "text": [
      "\r",
      "/tmp/ipykernel_2139/2801041912.py:34: FutureWarning: The behavior of DataFrame concatenation with empty or all-NA entries is deprecated. In a future version, this will no longer exclude empty or all-NA columns when determining the result dtypes. To retain the old behavior, exclude the relevant entries before the concat operation.\n",
      "  tradesprev = pd.concat([tradesprev, tradesdf],ignore_index=True)\n",
      "/tmp/ipykernel_2139/2801041912.py:35: FutureWarning: The behavior of DataFrame concatenation with empty or all-NA entries is deprecated. In a future version, this will no longer exclude empty or all-NA columns when determining the result dtypes. To retain the old behavior, exclude the relevant entries before the concat operation.\n",
      "  estadisticas=pd.concat([estadisticas, stat],ignore_index=True)\n"
     ]
    },
    {
     "name": "stderr",
     "output_type": "stream",
     "text": [
      "\r",
      "Backtest.run:   0%|          | 0/409 [00:00<?, ?bar/s]"
     ]
    },
    {
     "name": "stderr",
     "output_type": "stream",
     "text": [
      "\r",
      "                                                      "
     ]
    },
    {
     "name": "stderr",
     "output_type": "stream",
     "text": [
      "\r"
     ]
    },
    {
     "name": "stderr",
     "output_type": "stream",
     "text": [
      "/tmp/ipykernel_2139/2801041912.py:34: FutureWarning: The behavior of DataFrame concatenation with empty or all-NA entries is deprecated. In a future version, this will no longer exclude empty or all-NA columns when determining the result dtypes. To retain the old behavior, exclude the relevant entries before the concat operation.\n",
      "  tradesprev = pd.concat([tradesprev, tradesdf],ignore_index=True)\n",
      "/tmp/ipykernel_2139/2801041912.py:35: FutureWarning: The behavior of DataFrame concatenation with empty or all-NA entries is deprecated. In a future version, this will no longer exclude empty or all-NA columns when determining the result dtypes. To retain the old behavior, exclude the relevant entries before the concat operation.\n",
      "  estadisticas=pd.concat([estadisticas, stat],ignore_index=True)\n"
     ]
    },
    {
     "name": "stderr",
     "output_type": "stream",
     "text": [
      "\r",
      "Backtest.run:   0%|          | 0/1763 [00:00<?, ?bar/s]"
     ]
    },
    {
     "name": "stderr",
     "output_type": "stream",
     "text": [
      "/usr/share/miniconda/envs/test/lib/python3.10/site-packages/backtesting/backtesting.py:954: UserWarning: time=2843: Broker canceled the relative-sized order due to insufficient margin.\n",
      "  warnings.warn(\n",
      "\r",
      "                                                       "
     ]
    },
    {
     "name": "stderr",
     "output_type": "stream",
     "text": [
      "\r"
     ]
    },
    {
     "name": "stderr",
     "output_type": "stream",
     "text": [
      "\r",
      "Backtest.run:   0%|          | 0/2557 [00:00<?, ?bar/s]"
     ]
    },
    {
     "name": "stderr",
     "output_type": "stream",
     "text": [
      "/usr/share/miniconda/envs/test/lib/python3.10/site-packages/backtesting/backtesting.py:954: UserWarning: time=1059: Broker canceled the relative-sized order due to insufficient margin.\n",
      "  warnings.warn(\n",
      "\r",
      "                                                       "
     ]
    },
    {
     "name": "stderr",
     "output_type": "stream",
     "text": [
      "\r"
     ]
    },
    {
     "name": "stderr",
     "output_type": "stream",
     "text": [
      "\r",
      "Backtest.run:   0%|          | 0/3535 [00:00<?, ?bar/s]"
     ]
    },
    {
     "name": "stderr",
     "output_type": "stream",
     "text": [
      "\r",
      "                                                       "
     ]
    },
    {
     "name": "stderr",
     "output_type": "stream",
     "text": [
      "\r",
      "/tmp/ipykernel_2139/2801041912.py:34: FutureWarning: The behavior of DataFrame concatenation with empty or all-NA entries is deprecated. In a future version, this will no longer exclude empty or all-NA columns when determining the result dtypes. To retain the old behavior, exclude the relevant entries before the concat operation.\n",
      "  tradesprev = pd.concat([tradesprev, tradesdf],ignore_index=True)\n",
      "/tmp/ipykernel_2139/2801041912.py:35: FutureWarning: The behavior of DataFrame concatenation with empty or all-NA entries is deprecated. In a future version, this will no longer exclude empty or all-NA columns when determining the result dtypes. To retain the old behavior, exclude the relevant entries before the concat operation.\n",
      "  estadisticas=pd.concat([estadisticas, stat],ignore_index=True)\n"
     ]
    },
    {
     "name": "stderr",
     "output_type": "stream",
     "text": [
      "\r",
      "Backtest.run:   0%|          | 0/496 [00:00<?, ?bar/s]"
     ]
    },
    {
     "name": "stderr",
     "output_type": "stream",
     "text": [
      "\r",
      "                                                      "
     ]
    },
    {
     "name": "stderr",
     "output_type": "stream",
     "text": [
      "\r"
     ]
    },
    {
     "name": "stderr",
     "output_type": "stream",
     "text": [
      "\r",
      "Backtest.run:   0%|          | 0/3535 [00:00<?, ?bar/s]"
     ]
    },
    {
     "name": "stderr",
     "output_type": "stream",
     "text": [
      "\r",
      "                                                       "
     ]
    },
    {
     "name": "stderr",
     "output_type": "stream",
     "text": [
      "\r",
      "/tmp/ipykernel_2139/2801041912.py:34: FutureWarning: The behavior of DataFrame concatenation with empty or all-NA entries is deprecated. In a future version, this will no longer exclude empty or all-NA columns when determining the result dtypes. To retain the old behavior, exclude the relevant entries before the concat operation.\n",
      "  tradesprev = pd.concat([tradesprev, tradesdf],ignore_index=True)\n",
      "/tmp/ipykernel_2139/2801041912.py:35: FutureWarning: The behavior of DataFrame concatenation with empty or all-NA entries is deprecated. In a future version, this will no longer exclude empty or all-NA columns when determining the result dtypes. To retain the old behavior, exclude the relevant entries before the concat operation.\n",
      "  estadisticas=pd.concat([estadisticas, stat],ignore_index=True)\n"
     ]
    }
   ],
   "source": [
    "# Por cada TIcket\n",
    "my_stats = {}\n",
    "estadisticas = pd.DataFrame()          # lista para ticker\n",
    "tradesprev = pd.DataFrame()     # lista para cada caso por ticker\n",
    "for ticker in df_backTesting['companyName'].unique():\n",
    "    ticker_data = df_backTesting[df_backTesting['companyName'] == ticker].copy() #Filtro por cada ticker\n",
    "    bt = Backtest(ticker_data, strategyRupturaCanal, cash=10_000)\n",
    "    my_stats = bt.run()\n",
    "    listTrades = my_stats['_trades']\n",
    "    tradesdf = pd.DataFrame(listTrades) #trades\n",
    "    tradesdf['Ticker'] = ticker\n",
    "    stats_filter={\n",
    "        'Ticker':ticker,\n",
    "        'EntryTime':my_stats['Start'],\n",
    "        'ExitTime':my_stats['End'],\n",
    "        'Return [%]': my_stats['Return [%]'],\n",
    "        'CAGR [%]': my_stats['Return (Ann.) [%]'],\n",
    "        'Sharpe Ratio': my_stats['Sharpe Ratio'],\n",
    "        'Max. Drawdown [%]': my_stats['Max. Drawdown [%]'],\n",
    "        'Win Rate [%]': my_stats['Win Rate [%]'],\n",
    "        '# Trades': my_stats['# Trades'],\n",
    "        'Expectancy [%]': my_stats['Expectancy [%]'],\n",
    "        'Profit Factor': my_stats['Profit Factor'],\n",
    "        'Duration': my_stats['Duration'],\n",
    "        'Avg. Trade [%]':my_stats['Avg. Trade [%]'],\n",
    "        'Max. Trade Duration':my_stats['Max. Trade Duration'],\n",
    "        'Avg. Trade Duration':my_stats['Avg. Trade Duration']\n",
    "    }\n",
    "    stat=pd.DataFrame([stats_filter])\n",
    "    if tradesprev.shape[0]==0:\n",
    "        tradesprev = tradesdf.copy()\n",
    "        estadisticas=stat.copy()\n",
    "    else:\n",
    "        tradesprev = pd.concat([tradesprev, tradesdf],ignore_index=True)\n",
    "        estadisticas=pd.concat([estadisticas, stat],ignore_index=True)\n",
    "    # Mostramos\n",
    "    #bt.plot(resample=False, filename=f\"plot_BreakOUT_{ticker}\")"
   ]
  },
  {
   "cell_type": "code",
   "execution_count": 27,
   "id": "548c9973-f9c8-4dea-9281-6edd6f0196c7",
   "metadata": {
    "execution": {
     "iopub.execute_input": "2025-06-11T19:34:31.996866Z",
     "iopub.status.busy": "2025-06-11T19:34:31.996296Z",
     "iopub.status.idle": "2025-06-11T19:34:32.002748Z",
     "shell.execute_reply": "2025-06-11T19:34:32.002245Z"
    },
    "papermill": {
     "duration": 0.021931,
     "end_time": "2025-06-11T19:34:32.003667",
     "exception": false,
     "start_time": "2025-06-11T19:34:31.981736",
     "status": "completed"
    },
    "tags": []
   },
   "outputs": [],
   "source": [
    "ini = df_casos2[(df_casos2['isBreakOutIni']==1)].copy()\n",
    "df_casos3_ini=ini.rename(columns={'Open': 'EntryPrice', 'datetime': 'EntryTime', 'companyName': 'Ticker'})[['EntryPrice','Ticker','caso','EntryTime']]\n",
    "final = df_casos2[(df_casos2['isBreakOutFinal']==1)].copy()\n",
    "df_casos3_final=final.rename(columns={'Open': 'ExitPrice', 'datetime': 'ExitTime', 'companyName': 'Ticker'})[['ExitPrice','Ticker','caso','ExitTime']]"
   ]
  },
  {
   "cell_type": "code",
   "execution_count": 28,
   "id": "96773f9f-e57c-496e-8a3a-6fa1d21581bd",
   "metadata": {
    "execution": {
     "iopub.execute_input": "2025-06-11T19:34:32.051432Z",
     "iopub.status.busy": "2025-06-11T19:34:32.051170Z",
     "iopub.status.idle": "2025-06-11T19:34:32.057190Z",
     "shell.execute_reply": "2025-06-11T19:34:32.056652Z"
    },
    "papermill": {
     "duration": 0.040293,
     "end_time": "2025-06-11T19:34:32.058054",
     "exception": false,
     "start_time": "2025-06-11T19:34:32.017761",
     "status": "completed"
    },
    "tags": []
   },
   "outputs": [],
   "source": [
    "df_casos3=df_casos3_ini.merge(df_casos3_final,on=['Ticker','caso'],how='outer')"
   ]
  },
  {
   "cell_type": "code",
   "execution_count": 29,
   "id": "5c0ea242-0f85-4ff7-8a06-7bb4015a5530",
   "metadata": {
    "execution": {
     "iopub.execute_input": "2025-06-11T19:34:32.087863Z",
     "iopub.status.busy": "2025-06-11T19:34:32.087369Z",
     "iopub.status.idle": "2025-06-11T19:34:32.093589Z",
     "shell.execute_reply": "2025-06-11T19:34:32.093100Z"
    },
    "papermill": {
     "duration": 0.022068,
     "end_time": "2025-06-11T19:34:32.094430",
     "exception": false,
     "start_time": "2025-06-11T19:34:32.072362",
     "status": "completed"
    },
    "tags": []
   },
   "outputs": [],
   "source": [
    "trades = pd.merge(df_casos3, tradesprev, on = ['EntryTime','Ticker'], how='left')"
   ]
  },
  {
   "cell_type": "code",
   "execution_count": 30,
   "id": "f9db8955-347c-4573-b686-ec8fd26ff99d",
   "metadata": {
    "execution": {
     "iopub.execute_input": "2025-06-11T19:34:32.124540Z",
     "iopub.status.busy": "2025-06-11T19:34:32.124067Z",
     "iopub.status.idle": "2025-06-11T19:34:32.130345Z",
     "shell.execute_reply": "2025-06-11T19:34:32.129786Z"
    },
    "papermill": {
     "duration": 0.022423,
     "end_time": "2025-06-11T19:34:32.131357",
     "exception": false,
     "start_time": "2025-06-11T19:34:32.108934",
     "status": "completed"
    },
    "tags": []
   },
   "outputs": [],
   "source": [
    "def exitPrice(x):\n",
    "    if pd.isna(x['ExitPrice_x']):\n",
    "        return x['ExitPrice_y']\n",
    "    else:\n",
    "        return x['ExitPrice_x']\n",
    "trades['ExitPrice'] = trades.apply(lambda row: exitPrice(row), axis=1)"
   ]
  },
  {
   "cell_type": "code",
   "execution_count": 31,
   "id": "f68ad670-b564-46d1-81cc-d72292889865",
   "metadata": {
    "execution": {
     "iopub.execute_input": "2025-06-11T19:34:32.162181Z",
     "iopub.status.busy": "2025-06-11T19:34:32.161620Z",
     "iopub.status.idle": "2025-06-11T19:34:32.166308Z",
     "shell.execute_reply": "2025-06-11T19:34:32.165774Z"
    },
    "papermill": {
     "duration": 0.020944,
     "end_time": "2025-06-11T19:34:32.167261",
     "exception": false,
     "start_time": "2025-06-11T19:34:32.146317",
     "status": "completed"
    },
    "tags": []
   },
   "outputs": [],
   "source": [
    "trades = trades.rename(columns={'EntryPrice_x': 'EntryPrice'})\n",
    "trades = trades.drop(['EntryPrice_y','ExitPrice_x', 'ExitPrice_y'], axis=1)"
   ]
  },
  {
   "cell_type": "code",
   "execution_count": 32,
   "id": "564da49d-44c7-493b-b271-8692b2bd84ca",
   "metadata": {
    "execution": {
     "iopub.execute_input": "2025-06-11T19:34:32.197752Z",
     "iopub.status.busy": "2025-06-11T19:34:32.197297Z",
     "iopub.status.idle": "2025-06-11T19:34:32.203064Z",
     "shell.execute_reply": "2025-06-11T19:34:32.202470Z"
    },
    "papermill": {
     "duration": 0.0219,
     "end_time": "2025-06-11T19:34:32.204004",
     "exception": false,
     "start_time": "2025-06-11T19:34:32.182104",
     "status": "completed"
    },
    "tags": []
   },
   "outputs": [],
   "source": [
    "def exitTime(x):\n",
    "    if pd.isna(x['ExitTime_x']):\n",
    "        return x['ExitTime_y']\n",
    "    else:\n",
    "        return x['ExitTime_x']\n",
    "trades['ExitTime'] = trades.apply(lambda row: exitTime(row), axis=1)"
   ]
  },
  {
   "cell_type": "code",
   "execution_count": 33,
   "id": "781085ed-746a-4a02-b545-685d3b4d8a54",
   "metadata": {
    "execution": {
     "iopub.execute_input": "2025-06-11T19:34:32.234757Z",
     "iopub.status.busy": "2025-06-11T19:34:32.234194Z",
     "iopub.status.idle": "2025-06-11T19:34:32.240679Z",
     "shell.execute_reply": "2025-06-11T19:34:32.240116Z"
    },
    "papermill": {
     "duration": 0.022849,
     "end_time": "2025-06-11T19:34:32.241600",
     "exception": false,
     "start_time": "2025-06-11T19:34:32.218751",
     "status": "completed"
    },
    "tags": []
   },
   "outputs": [],
   "source": [
    "def duration(x):\n",
    "    if pd.isna(x['Duration']):\n",
    "        if pd.isna(x['ExitTime']):\n",
    "            return pd.NaT\n",
    "        else:\n",
    "            return x['ExitTime']-x['EntryTime']\n",
    "    else:\n",
    "        return x['Duration']\n",
    "trades['Duration'] = trades.apply(lambda row: duration(row), axis=1)"
   ]
  },
  {
   "cell_type": "code",
   "execution_count": 34,
   "id": "72efa38a-efa4-4cf7-8f52-2557f18caa5e",
   "metadata": {
    "execution": {
     "iopub.execute_input": "2025-06-11T19:34:32.272628Z",
     "iopub.status.busy": "2025-06-11T19:34:32.272186Z",
     "iopub.status.idle": "2025-06-11T19:34:32.276061Z",
     "shell.execute_reply": "2025-06-11T19:34:32.275514Z"
    },
    "papermill": {
     "duration": 0.020474,
     "end_time": "2025-06-11T19:34:32.276910",
     "exception": false,
     "start_time": "2025-06-11T19:34:32.256436",
     "status": "completed"
    },
    "tags": []
   },
   "outputs": [],
   "source": [
    "trades = trades.drop(['ExitTime_x', 'ExitTime_y'], axis=1)"
   ]
  },
  {
   "cell_type": "code",
   "execution_count": 35,
   "id": "bf059212-fe85-4b66-8133-ef71187f7675",
   "metadata": {
    "execution": {
     "iopub.execute_input": "2025-06-11T19:34:32.307481Z",
     "iopub.status.busy": "2025-06-11T19:34:32.307004Z",
     "iopub.status.idle": "2025-06-11T19:34:32.310995Z",
     "shell.execute_reply": "2025-06-11T19:34:32.310484Z"
    },
    "papermill": {
     "duration": 0.020138,
     "end_time": "2025-06-11T19:34:32.311927",
     "exception": false,
     "start_time": "2025-06-11T19:34:32.291789",
     "status": "completed"
    },
    "tags": []
   },
   "outputs": [],
   "source": [
    "trades=trades[['Ticker','EntryTime','ExitTime','EntryPrice','ExitPrice','Duration','Size','EntryBar','ExitBar','ReturnPct','caso']]"
   ]
  },
  {
   "cell_type": "code",
   "execution_count": 36,
   "id": "9700df63",
   "metadata": {
    "execution": {
     "iopub.execute_input": "2025-06-11T19:34:32.342457Z",
     "iopub.status.busy": "2025-06-11T19:34:32.342157Z",
     "iopub.status.idle": "2025-06-11T19:34:32.368903Z",
     "shell.execute_reply": "2025-06-11T19:34:32.368335Z"
    },
    "papermill": {
     "duration": 0.043128,
     "end_time": "2025-06-11T19:34:32.369844",
     "exception": false,
     "start_time": "2025-06-11T19:34:32.326716",
     "status": "completed"
    },
    "tags": []
   },
   "outputs": [],
   "source": [
    "for item in estadisticas['Ticker'].unique():\n",
    "    count = trades[trades[\"Ticker\"] == item].shape[0]\n",
    "    estadisticas.loc[estadisticas['Ticker'] == item, '# Trades'] = count"
   ]
  },
  {
   "cell_type": "code",
   "execution_count": 37,
   "id": "c3abd3e7-6ad5-4a3f-81e3-aa8156db6d3a",
   "metadata": {
    "execution": {
     "iopub.execute_input": "2025-06-11T19:34:32.400583Z",
     "iopub.status.busy": "2025-06-11T19:34:32.400286Z",
     "iopub.status.idle": "2025-06-11T19:34:32.410079Z",
     "shell.execute_reply": "2025-06-11T19:34:32.409565Z"
    },
    "papermill": {
     "duration": 0.026027,
     "end_time": "2025-06-11T19:34:32.411005",
     "exception": false,
     "start_time": "2025-06-11T19:34:32.384978",
     "status": "completed"
    },
    "tags": []
   },
   "outputs": [],
   "source": [
    "#path = r'D:\\PRUEBAS'\n",
    "path = 'data/backtesting'\n",
    "\n",
    "os.makedirs(path,exist_ok=True)\n",
    "\n",
    "path_trades = os.path.join(path, 'trades_cncf.txt')\n",
    "path_estadisticas = os.path.join(path, 'estadisticas_cncf.txt')\n",
    "\n",
    "for file_path in [path_trades, path_estadisticas]:\n",
    "    if os.path.exists(file_path):\n",
    "        os.remove(file_path)\n",
    "    else:\n",
    "        print(f\"File does not exist: {file_path}. It will be created.\")\n",
    "\n",
    "trades.to_csv(path_trades, header=True, index=False, sep='\\t', mode='w')\n",
    "estadisticas.to_csv(path_estadisticas, header=True, index=False, sep='\\t', mode='w')"
   ]
  },
  {
   "cell_type": "code",
   "execution_count": null,
   "id": "bf56e3c5-a046-46ef-b00d-4bc058a1c40d",
   "metadata": {
    "papermill": {
     "duration": 0.014513,
     "end_time": "2025-06-11T19:34:32.440284",
     "exception": false,
     "start_time": "2025-06-11T19:34:32.425771",
     "status": "completed"
    },
    "tags": []
   },
   "outputs": [],
   "source": []
  }
 ],
 "metadata": {
  "kernelspec": {
   "display_name": "Python [conda env:base] *",
   "language": "python",
   "name": "conda-base-py"
  },
  "language_info": {
   "codemirror_mode": {
    "name": "ipython",
    "version": 3
   },
   "file_extension": ".py",
   "mimetype": "text/x-python",
   "name": "python",
   "nbconvert_exporter": "python",
   "pygments_lexer": "ipython3",
   "version": "3.10.18"
  },
  "papermill": {
   "default_parameters": {},
   "duration": 42.93933,
   "end_time": "2025-06-11T19:34:33.072174",
   "environment_variables": {},
   "exception": null,
   "input_path": "CNCF_CaidaNormalCaidaFuerte.ipynb",
   "output_path": "output/CNCF_CaidaNormalCaidaFuerte.ipynb",
   "parameters": {},
   "start_time": "2025-06-11T19:33:50.132844",
   "version": "2.6.0"
  }
 },
 "nbformat": 4,
 "nbformat_minor": 5
}