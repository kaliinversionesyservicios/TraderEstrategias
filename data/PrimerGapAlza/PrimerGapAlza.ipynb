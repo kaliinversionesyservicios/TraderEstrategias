{
 "cells": [
  {
   "cell_type": "markdown",
   "id": "c459ac79-ae64-48bb-8f42-d0272aacc650",
   "metadata": {
    "papermill": {
     "duration": 0.003813,
     "end_time": "2025-06-11T19:53:14.212952",
     "exception": false,
     "start_time": "2025-06-11T19:53:14.209139",
     "status": "completed"
    },
    "tags": []
   },
   "source": [
    "### PRIMER GAP AL ALZA\n",
    "El primer gap al alza es la primera senal de cambio de tendencia y el anuncio del fin de una caida,\n",
    "\n",
    "Los precios caen de forma inportanten y nos encontramos cerca de Piso Fuerte osea PM de 100 o de 200 en diari\n",
    "\n",
    "Luego se  presenta en hora un Salto, la primera vela debe ser verde 9:30 a 10am ,  en esta vela debemos trazar un pizo y durante todo el dia los \n",
    "precios no pueden romper dicho piso\n",
    "Es un requisito que una de las velas verdes debe tener volumen, esta vela debe ser alcista con cuerpos superiores a las c\n",
    "las\n",
    "Cuando el Primer gap al alza se presenta, podemos decir que el mercado retoma su tendencia al alza\n",
    "y que la caida sera recuperada en un tiempo corto, los precios suben de 3 dias a 1 semana, entre 10 y 12 \n",
    "untos\n",
    "Para comprar el Primer gap al alza se debe esperar hasta las 3:57pm\n",
    "A partir de que se da el Gap es importante que la vela de apertura de los proximos dias sea verde, y que\n",
    "respete el piso del gap de\n",
    "cada dia\n",
    "El primer Gap al Alza Se presenta cada 3 o 4 meses en la tendencia al alza, normalmente despues de caid\n",
    " brutales\n",
    "Se compra para una semana, los precios suben de 2 a 3 dias maximo en una semana"
   ]
  },
  {
   "cell_type": "code",
   "execution_count": 1,
   "id": "6a5d7ef3-4c87-4b4f-b6b0-de8f06725fa7",
   "metadata": {
    "execution": {
     "iopub.execute_input": "2025-06-11T19:53:14.220582Z",
     "iopub.status.busy": "2025-06-11T19:53:14.220104Z",
     "iopub.status.idle": "2025-06-11T19:53:15.416205Z",
     "shell.execute_reply": "2025-06-11T19:53:15.415751Z"
    },
    "papermill": {
     "duration": 1.20095,
     "end_time": "2025-06-11T19:53:15.417131",
     "exception": false,
     "start_time": "2025-06-11T19:53:14.216181",
     "status": "completed"
    },
    "tags": []
   },
   "outputs": [
    {
     "name": "stderr",
     "output_type": "stream",
     "text": [
      "/usr/share/miniconda/envs/test/lib/python3.10/site-packages/tqdm/auto.py:21: TqdmWarning: IProgress not found. Please update jupyter and ipywidgets. See https://ipywidgets.readthedocs.io/en/stable/user_install.html\n",
      "  from .autonotebook import tqdm as notebook_tqdm\n",
      "/usr/share/miniconda/envs/test/lib/python3.10/site-packages/backtesting/_plotting.py:55: UserWarning: Jupyter Notebook detected. Setting Bokeh output to notebook. This may not work in Jupyter clients without JavaScript support, such as old IDEs. Reset with `backtesting.set_bokeh_output(notebook=False)`.\n",
      "  warnings.warn('Jupyter Notebook detected. '\n"
     ]
    },
    {
     "data": {
      "text/html": [
       "    <style>\n",
       "        .bk-notebook-logo {\n",
       "            display: block;\n",
       "            width: 20px;\n",
       "            height: 20px;\n",
       "            background-image: url(data:image/png;base64,iVBORw0KGgoAAAANSUhEUgAAABQAAAAUCAYAAACNiR0NAAAABHNCSVQICAgIfAhkiAAAAAlwSFlzAAALEgAACxIB0t1+/AAAABx0RVh0U29mdHdhcmUAQWRvYmUgRmlyZXdvcmtzIENTNui8sowAAAOkSURBVDiNjZRtaJVlGMd/1/08zzln5zjP1LWcU9N0NkN8m2CYjpgQYQXqSs0I84OLIC0hkEKoPtiH3gmKoiJDU7QpLgoLjLIQCpEsNJ1vqUOdO7ppbuec5+V+rj4ctwzd8IIbbi6u+8f1539dt3A78eXC7QizUF7gyV1fD1Yqg4JWz84yffhm0qkFqBogB9rM8tZdtwVsPUhWhGcFJngGeWrPzHm5oaMmkfEg1usvLFyc8jLRqDOMru7AyC8saQr7GG7f5fvDeH7Ej8CM66nIF+8yngt6HWaKh7k49Soy9nXurCi1o3qUbS3zWfrYeQDTB/Qj6kX6Ybhw4B+bOYoLKCC9H3Nu/leUTZ1JdRWkkn2ldcCamzrcf47KKXdAJllSlxAOkRgyHsGC/zRday5Qld9DyoM4/q/rUoy/CXh3jzOu3bHUVZeU+DEn8FInkPBFlu3+nW3Nw0mk6vCDiWg8CeJaxEwuHS3+z5RgY+YBR6V1Z1nxSOfoaPa4LASWxxdNp+VWTk7+4vzaou8v8PN+xo+KY2xsw6une2frhw05CTYOmQvsEhjhWjn0bmXPjpE1+kplmmkP3suftwTubK9Vq22qKmrBhpY4jvd5afdRA3wGjFAgcnTK2s4hY0/GPNIb0nErGMCRxWOOX64Z8RAC4oCXdklmEvcL8o0BfkNK4lUg9HTl+oPlQxdNo3Mg4Nv175e/1LDGzZen30MEjRUtmXSfiTVu1kK8W4txyV6BMKlbgk3lMwYCiusNy9fVfvvwMxv8Ynl6vxoByANLTWplvuj/nF9m2+PDtt1eiHPBr1oIfhCChQMBw6Aw0UulqTKZdfVvfG7VcfIqLG9bcldL/+pdWTLxLUy8Qq38heUIjh4XlzZxzQm19lLFlr8vdQ97rjZVOLf8nclzckbcD4wxXMidpX30sFd37Fv/GtwwhzhxGVAprjbg0gCAEeIgwCZyTV2Z1REEW8O4py0wsjeloKoMr6iCY6dP92H6Vw/oTyICIthibxjm/DfN9lVz8IqtqKYLUXfoKVMVQVVJOElGjrnnUt9T9wbgp8AyYKaGlqingHZU/uG2NTZSVqwHQTWkx9hxjkpWDaCg6Ckj5qebgBVbT3V3NNXMSiWSDdGV3hrtzla7J+duwPOToIg42ChPQOQjspnSlp1V+Gjdged7+8UN5CRAV7a5EdFNwCjEaBR27b3W890TE7g24NAP/mMDXRWrGoFPQI9ls/MWO2dWFAar/xcOIImbbpA3zgAAAABJRU5ErkJggg==);\n",
       "        }\n",
       "    </style>\n",
       "    <div>\n",
       "        <a href=\"https://bokeh.org\" target=\"_blank\" class=\"bk-notebook-logo\"></a>\n",
       "        <span id=\"d01b2812-775a-450a-9597-5912806c1908\">Loading BokehJS ...</span>\n",
       "    </div>\n"
      ]
     },
     "metadata": {},
     "output_type": "display_data"
    },
    {
     "data": {
      "application/javascript": [
       "'use strict';\n",
       "(function(root) {\n",
       "  function now() {\n",
       "    return new Date();\n",
       "  }\n",
       "\n",
       "  const force = true;\n",
       "\n",
       "  if (typeof root._bokeh_onload_callbacks === \"undefined\" || force === true) {\n",
       "    root._bokeh_onload_callbacks = [];\n",
       "    root._bokeh_is_loading = undefined;\n",
       "  }\n",
       "\n",
       "const JS_MIME_TYPE = 'application/javascript';\n",
       "  const HTML_MIME_TYPE = 'text/html';\n",
       "  const EXEC_MIME_TYPE = 'application/vnd.bokehjs_exec.v0+json';\n",
       "  const CLASS_NAME = 'output_bokeh rendered_html';\n",
       "\n",
       "  /**\n",
       "   * Render data to the DOM node\n",
       "   */\n",
       "  function render(props, node) {\n",
       "    const script = document.createElement(\"script\");\n",
       "    node.appendChild(script);\n",
       "  }\n",
       "\n",
       "  /**\n",
       "   * Handle when an output is cleared or removed\n",
       "   */\n",
       "  function handleClearOutput(event, handle) {\n",
       "    function drop(id) {\n",
       "      const view = Bokeh.index.get_by_id(id)\n",
       "      if (view != null) {\n",
       "        view.model.document.clear()\n",
       "        Bokeh.index.delete(view)\n",
       "      }\n",
       "    }\n",
       "\n",
       "    const cell = handle.cell;\n",
       "\n",
       "    const id = cell.output_area._bokeh_element_id;\n",
       "    const server_id = cell.output_area._bokeh_server_id;\n",
       "\n",
       "    // Clean up Bokeh references\n",
       "    if (id != null) {\n",
       "      drop(id)\n",
       "    }\n",
       "\n",
       "    if (server_id !== undefined) {\n",
       "      // Clean up Bokeh references\n",
       "      const cmd_clean = \"from bokeh.io.state import curstate; print(curstate().uuid_to_server['\" + server_id + \"'].get_sessions()[0].document.roots[0]._id)\";\n",
       "      cell.notebook.kernel.execute(cmd_clean, {\n",
       "        iopub: {\n",
       "          output: function(msg) {\n",
       "            const id = msg.content.text.trim()\n",
       "            drop(id)\n",
       "          }\n",
       "        }\n",
       "      });\n",
       "      // Destroy server and session\n",
       "      const cmd_destroy = \"import bokeh.io.notebook as ion; ion.destroy_server('\" + server_id + \"')\";\n",
       "      cell.notebook.kernel.execute(cmd_destroy);\n",
       "    }\n",
       "  }\n",
       "\n",
       "  /**\n",
       "   * Handle when a new output is added\n",
       "   */\n",
       "  function handleAddOutput(event, handle) {\n",
       "    const output_area = handle.output_area;\n",
       "    const output = handle.output;\n",
       "\n",
       "    // limit handleAddOutput to display_data with EXEC_MIME_TYPE content only\n",
       "    if ((output.output_type != \"display_data\") || (!Object.prototype.hasOwnProperty.call(output.data, EXEC_MIME_TYPE))) {\n",
       "      return\n",
       "    }\n",
       "\n",
       "    const toinsert = output_area.element.find(\".\" + CLASS_NAME.split(' ')[0]);\n",
       "\n",
       "    if (output.metadata[EXEC_MIME_TYPE][\"id\"] !== undefined) {\n",
       "      toinsert[toinsert.length - 1].firstChild.textContent = output.data[JS_MIME_TYPE];\n",
       "      // store reference to embed id on output_area\n",
       "      output_area._bokeh_element_id = output.metadata[EXEC_MIME_TYPE][\"id\"];\n",
       "    }\n",
       "    if (output.metadata[EXEC_MIME_TYPE][\"server_id\"] !== undefined) {\n",
       "      const bk_div = document.createElement(\"div\");\n",
       "      bk_div.innerHTML = output.data[HTML_MIME_TYPE];\n",
       "      const script_attrs = bk_div.children[0].attributes;\n",
       "      for (let i = 0; i < script_attrs.length; i++) {\n",
       "        toinsert[toinsert.length - 1].firstChild.setAttribute(script_attrs[i].name, script_attrs[i].value);\n",
       "        toinsert[toinsert.length - 1].firstChild.textContent = bk_div.children[0].textContent\n",
       "      }\n",
       "      // store reference to server id on output_area\n",
       "      output_area._bokeh_server_id = output.metadata[EXEC_MIME_TYPE][\"server_id\"];\n",
       "    }\n",
       "  }\n",
       "\n",
       "  function register_renderer(events, OutputArea) {\n",
       "\n",
       "    function append_mime(data, metadata, element) {\n",
       "      // create a DOM node to render to\n",
       "      const toinsert = this.create_output_subarea(\n",
       "        metadata,\n",
       "        CLASS_NAME,\n",
       "        EXEC_MIME_TYPE\n",
       "      );\n",
       "      this.keyboard_manager.register_events(toinsert);\n",
       "      // Render to node\n",
       "      const props = {data: data, metadata: metadata[EXEC_MIME_TYPE]};\n",
       "      render(props, toinsert[toinsert.length - 1]);\n",
       "      element.append(toinsert);\n",
       "      return toinsert\n",
       "    }\n",
       "\n",
       "    /* Handle when an output is cleared or removed */\n",
       "    events.on('clear_output.CodeCell', handleClearOutput);\n",
       "    events.on('delete.Cell', handleClearOutput);\n",
       "\n",
       "    /* Handle when a new output is added */\n",
       "    events.on('output_added.OutputArea', handleAddOutput);\n",
       "\n",
       "    /**\n",
       "     * Register the mime type and append_mime function with output_area\n",
       "     */\n",
       "    OutputArea.prototype.register_mime_type(EXEC_MIME_TYPE, append_mime, {\n",
       "      /* Is output safe? */\n",
       "      safe: true,\n",
       "      /* Index of renderer in `output_area.display_order` */\n",
       "      index: 0\n",
       "    });\n",
       "  }\n",
       "\n",
       "  // register the mime type if in Jupyter Notebook environment and previously unregistered\n",
       "  if (root.Jupyter !== undefined) {\n",
       "    const events = require('base/js/events');\n",
       "    const OutputArea = require('notebook/js/outputarea').OutputArea;\n",
       "\n",
       "    if (OutputArea.prototype.mime_types().indexOf(EXEC_MIME_TYPE) == -1) {\n",
       "      register_renderer(events, OutputArea);\n",
       "    }\n",
       "  }\n",
       "  if (typeof (root._bokeh_timeout) === \"undefined\" || force === true) {\n",
       "    root._bokeh_timeout = Date.now() + 5000;\n",
       "    root._bokeh_failed_load = false;\n",
       "  }\n",
       "\n",
       "  const NB_LOAD_WARNING = {'data': {'text/html':\n",
       "     \"<div style='background-color: #fdd'>\\n\"+\n",
       "     \"<p>\\n\"+\n",
       "     \"BokehJS does not appear to have successfully loaded. If loading BokehJS from CDN, this \\n\"+\n",
       "     \"may be due to a slow or bad network connection. Possible fixes:\\n\"+\n",
       "     \"</p>\\n\"+\n",
       "     \"<ul>\\n\"+\n",
       "     \"<li>re-rerun `output_notebook()` to attempt to load from CDN again, or</li>\\n\"+\n",
       "     \"<li>use INLINE resources instead, as so:</li>\\n\"+\n",
       "     \"</ul>\\n\"+\n",
       "     \"<code>\\n\"+\n",
       "     \"from bokeh.resources import INLINE\\n\"+\n",
       "     \"output_notebook(resources=INLINE)\\n\"+\n",
       "     \"</code>\\n\"+\n",
       "     \"</div>\"}};\n",
       "\n",
       "  function display_loaded(error = null) {\n",
       "    const el = document.getElementById(\"d01b2812-775a-450a-9597-5912806c1908\");\n",
       "    if (el != null) {\n",
       "      const html = (() => {\n",
       "        if (typeof root.Bokeh === \"undefined\") {\n",
       "          if (error == null) {\n",
       "            return \"BokehJS is loading ...\";\n",
       "          } else {\n",
       "            return \"BokehJS failed to load.\";\n",
       "          }\n",
       "        } else {\n",
       "          const prefix = `BokehJS ${root.Bokeh.version}`;\n",
       "          if (error == null) {\n",
       "            return `${prefix} successfully loaded.`;\n",
       "          } else {\n",
       "            return `${prefix} <b>encountered errors</b> while loading and may not function as expected.`;\n",
       "          }\n",
       "        }\n",
       "      })();\n",
       "      el.innerHTML = html;\n",
       "\n",
       "      if (error != null) {\n",
       "        const wrapper = document.createElement(\"div\");\n",
       "        wrapper.style.overflow = \"auto\";\n",
       "        wrapper.style.height = \"5em\";\n",
       "        wrapper.style.resize = \"vertical\";\n",
       "        const content = document.createElement(\"div\");\n",
       "        content.style.fontFamily = \"monospace\";\n",
       "        content.style.whiteSpace = \"pre-wrap\";\n",
       "        content.style.backgroundColor = \"rgb(255, 221, 221)\";\n",
       "        content.textContent = error.stack ?? error.toString();\n",
       "        wrapper.append(content);\n",
       "        el.append(wrapper);\n",
       "      }\n",
       "    } else if (Date.now() < root._bokeh_timeout) {\n",
       "      setTimeout(() => display_loaded(error), 100);\n",
       "    }\n",
       "  }\n",
       "\n",
       "  function run_callbacks() {\n",
       "    try {\n",
       "      root._bokeh_onload_callbacks.forEach(function(callback) {\n",
       "        if (callback != null)\n",
       "          callback();\n",
       "      });\n",
       "    } finally {\n",
       "      delete root._bokeh_onload_callbacks\n",
       "    }\n",
       "    console.debug(\"Bokeh: all callbacks have finished\");\n",
       "  }\n",
       "\n",
       "  function load_libs(css_urls, js_urls, callback) {\n",
       "    if (css_urls == null) css_urls = [];\n",
       "    if (js_urls == null) js_urls = [];\n",
       "\n",
       "    root._bokeh_onload_callbacks.push(callback);\n",
       "    if (root._bokeh_is_loading > 0) {\n",
       "      console.debug(\"Bokeh: BokehJS is being loaded, scheduling callback at\", now());\n",
       "      return null;\n",
       "    }\n",
       "    if (js_urls == null || js_urls.length === 0) {\n",
       "      run_callbacks();\n",
       "      return null;\n",
       "    }\n",
       "    console.debug(\"Bokeh: BokehJS not loaded, scheduling load and callback at\", now());\n",
       "    root._bokeh_is_loading = css_urls.length + js_urls.length;\n",
       "\n",
       "    function on_load() {\n",
       "      root._bokeh_is_loading--;\n",
       "      if (root._bokeh_is_loading === 0) {\n",
       "        console.debug(\"Bokeh: all BokehJS libraries/stylesheets loaded\");\n",
       "        run_callbacks()\n",
       "      }\n",
       "    }\n",
       "\n",
       "    function on_error(url) {\n",
       "      console.error(\"failed to load \" + url);\n",
       "    }\n",
       "\n",
       "    for (let i = 0; i < css_urls.length; i++) {\n",
       "      const url = css_urls[i];\n",
       "      const element = document.createElement(\"link\");\n",
       "      element.onload = on_load;\n",
       "      element.onerror = on_error.bind(null, url);\n",
       "      element.rel = \"stylesheet\";\n",
       "      element.type = \"text/css\";\n",
       "      element.href = url;\n",
       "      console.debug(\"Bokeh: injecting link tag for BokehJS stylesheet: \", url);\n",
       "      document.body.appendChild(element);\n",
       "    }\n",
       "\n",
       "    for (let i = 0; i < js_urls.length; i++) {\n",
       "      const url = js_urls[i];\n",
       "      const element = document.createElement('script');\n",
       "      element.onload = on_load;\n",
       "      element.onerror = on_error.bind(null, url);\n",
       "      element.async = false;\n",
       "      element.src = url;\n",
       "      console.debug(\"Bokeh: injecting script tag for BokehJS library: \", url);\n",
       "      document.head.appendChild(element);\n",
       "    }\n",
       "  };\n",
       "\n",
       "  function inject_raw_css(css) {\n",
       "    const element = document.createElement(\"style\");\n",
       "    element.appendChild(document.createTextNode(css));\n",
       "    document.body.appendChild(element);\n",
       "  }\n",
       "\n",
       "  const js_urls = [\"https://cdn.bokeh.org/bokeh/release/bokeh-3.7.3.min.js\", \"https://cdn.bokeh.org/bokeh/release/bokeh-gl-3.7.3.min.js\", \"https://cdn.bokeh.org/bokeh/release/bokeh-widgets-3.7.3.min.js\", \"https://cdn.bokeh.org/bokeh/release/bokeh-tables-3.7.3.min.js\", \"https://cdn.bokeh.org/bokeh/release/bokeh-mathjax-3.7.3.min.js\"];\n",
       "  const css_urls = [];\n",
       "\n",
       "  const inline_js = [    function(Bokeh) {\n",
       "      Bokeh.set_log_level(\"info\");\n",
       "    },\n",
       "function(Bokeh) {\n",
       "    }\n",
       "  ];\n",
       "\n",
       "  function run_inline_js() {\n",
       "    if (root.Bokeh !== undefined || force === true) {\n",
       "      try {\n",
       "            for (let i = 0; i < inline_js.length; i++) {\n",
       "      inline_js[i].call(root, root.Bokeh);\n",
       "    }\n",
       "\n",
       "      } catch (error) {display_loaded(error);throw error;\n",
       "      }if (force === true) {\n",
       "        display_loaded();\n",
       "      }} else if (Date.now() < root._bokeh_timeout) {\n",
       "      setTimeout(run_inline_js, 100);\n",
       "    } else if (!root._bokeh_failed_load) {\n",
       "      console.log(\"Bokeh: BokehJS failed to load within specified timeout.\");\n",
       "      root._bokeh_failed_load = true;\n",
       "    } else if (force !== true) {\n",
       "      const cell = $(document.getElementById(\"d01b2812-775a-450a-9597-5912806c1908\")).parents('.cell').data().cell;\n",
       "      cell.output_area.append_execute_result(NB_LOAD_WARNING)\n",
       "    }\n",
       "  }\n",
       "\n",
       "  if (root._bokeh_is_loading === 0) {\n",
       "    console.debug(\"Bokeh: BokehJS loaded, going straight to plotting\");\n",
       "    run_inline_js();\n",
       "  } else {\n",
       "    load_libs(css_urls, js_urls, function() {\n",
       "      console.debug(\"Bokeh: BokehJS plotting callback run at\", now());\n",
       "      run_inline_js();\n",
       "    });\n",
       "  }\n",
       "}(window));"
      ],
      "application/vnd.bokehjs_load.v0+json": "'use strict';\n(function(root) {\n  function now() {\n    return new Date();\n  }\n\n  const force = true;\n\n  if (typeof root._bokeh_onload_callbacks === \"undefined\" || force === true) {\n    root._bokeh_onload_callbacks = [];\n    root._bokeh_is_loading = undefined;\n  }\n\n\n  if (typeof (root._bokeh_timeout) === \"undefined\" || force === true) {\n    root._bokeh_timeout = Date.now() + 5000;\n    root._bokeh_failed_load = false;\n  }\n\n  const NB_LOAD_WARNING = {'data': {'text/html':\n     \"<div style='background-color: #fdd'>\\n\"+\n     \"<p>\\n\"+\n     \"BokehJS does not appear to have successfully loaded. If loading BokehJS from CDN, this \\n\"+\n     \"may be due to a slow or bad network connection. Possible fixes:\\n\"+\n     \"</p>\\n\"+\n     \"<ul>\\n\"+\n     \"<li>re-rerun `output_notebook()` to attempt to load from CDN again, or</li>\\n\"+\n     \"<li>use INLINE resources instead, as so:</li>\\n\"+\n     \"</ul>\\n\"+\n     \"<code>\\n\"+\n     \"from bokeh.resources import INLINE\\n\"+\n     \"output_notebook(resources=INLINE)\\n\"+\n     \"</code>\\n\"+\n     \"</div>\"}};\n\n  function display_loaded(error = null) {\n    const el = document.getElementById(\"d01b2812-775a-450a-9597-5912806c1908\");\n    if (el != null) {\n      const html = (() => {\n        if (typeof root.Bokeh === \"undefined\") {\n          if (error == null) {\n            return \"BokehJS is loading ...\";\n          } else {\n            return \"BokehJS failed to load.\";\n          }\n        } else {\n          const prefix = `BokehJS ${root.Bokeh.version}`;\n          if (error == null) {\n            return `${prefix} successfully loaded.`;\n          } else {\n            return `${prefix} <b>encountered errors</b> while loading and may not function as expected.`;\n          }\n        }\n      })();\n      el.innerHTML = html;\n\n      if (error != null) {\n        const wrapper = document.createElement(\"div\");\n        wrapper.style.overflow = \"auto\";\n        wrapper.style.height = \"5em\";\n        wrapper.style.resize = \"vertical\";\n        const content = document.createElement(\"div\");\n        content.style.fontFamily = \"monospace\";\n        content.style.whiteSpace = \"pre-wrap\";\n        content.style.backgroundColor = \"rgb(255, 221, 221)\";\n        content.textContent = error.stack ?? error.toString();\n        wrapper.append(content);\n        el.append(wrapper);\n      }\n    } else if (Date.now() < root._bokeh_timeout) {\n      setTimeout(() => display_loaded(error), 100);\n    }\n  }\n\n  function run_callbacks() {\n    try {\n      root._bokeh_onload_callbacks.forEach(function(callback) {\n        if (callback != null)\n          callback();\n      });\n    } finally {\n      delete root._bokeh_onload_callbacks\n    }\n    console.debug(\"Bokeh: all callbacks have finished\");\n  }\n\n  function load_libs(css_urls, js_urls, callback) {\n    if (css_urls == null) css_urls = [];\n    if (js_urls == null) js_urls = [];\n\n    root._bokeh_onload_callbacks.push(callback);\n    if (root._bokeh_is_loading > 0) {\n      console.debug(\"Bokeh: BokehJS is being loaded, scheduling callback at\", now());\n      return null;\n    }\n    if (js_urls == null || js_urls.length === 0) {\n      run_callbacks();\n      return null;\n    }\n    console.debug(\"Bokeh: BokehJS not loaded, scheduling load and callback at\", now());\n    root._bokeh_is_loading = css_urls.length + js_urls.length;\n\n    function on_load() {\n      root._bokeh_is_loading--;\n      if (root._bokeh_is_loading === 0) {\n        console.debug(\"Bokeh: all BokehJS libraries/stylesheets loaded\");\n        run_callbacks()\n      }\n    }\n\n    function on_error(url) {\n      console.error(\"failed to load \" + url);\n    }\n\n    for (let i = 0; i < css_urls.length; i++) {\n      const url = css_urls[i];\n      const element = document.createElement(\"link\");\n      element.onload = on_load;\n      element.onerror = on_error.bind(null, url);\n      element.rel = \"stylesheet\";\n      element.type = \"text/css\";\n      element.href = url;\n      console.debug(\"Bokeh: injecting link tag for BokehJS stylesheet: \", url);\n      document.body.appendChild(element);\n    }\n\n    for (let i = 0; i < js_urls.length; i++) {\n      const url = js_urls[i];\n      const element = document.createElement('script');\n      element.onload = on_load;\n      element.onerror = on_error.bind(null, url);\n      element.async = false;\n      element.src = url;\n      console.debug(\"Bokeh: injecting script tag for BokehJS library: \", url);\n      document.head.appendChild(element);\n    }\n  };\n\n  function inject_raw_css(css) {\n    const element = document.createElement(\"style\");\n    element.appendChild(document.createTextNode(css));\n    document.body.appendChild(element);\n  }\n\n  const js_urls = [\"https://cdn.bokeh.org/bokeh/release/bokeh-3.7.3.min.js\", \"https://cdn.bokeh.org/bokeh/release/bokeh-gl-3.7.3.min.js\", \"https://cdn.bokeh.org/bokeh/release/bokeh-widgets-3.7.3.min.js\", \"https://cdn.bokeh.org/bokeh/release/bokeh-tables-3.7.3.min.js\", \"https://cdn.bokeh.org/bokeh/release/bokeh-mathjax-3.7.3.min.js\"];\n  const css_urls = [];\n\n  const inline_js = [    function(Bokeh) {\n      Bokeh.set_log_level(\"info\");\n    },\nfunction(Bokeh) {\n    }\n  ];\n\n  function run_inline_js() {\n    if (root.Bokeh !== undefined || force === true) {\n      try {\n            for (let i = 0; i < inline_js.length; i++) {\n      inline_js[i].call(root, root.Bokeh);\n    }\n\n      } catch (error) {display_loaded(error);throw error;\n      }if (force === true) {\n        display_loaded();\n      }} else if (Date.now() < root._bokeh_timeout) {\n      setTimeout(run_inline_js, 100);\n    } else if (!root._bokeh_failed_load) {\n      console.log(\"Bokeh: BokehJS failed to load within specified timeout.\");\n      root._bokeh_failed_load = true;\n    } else if (force !== true) {\n      const cell = $(document.getElementById(\"d01b2812-775a-450a-9597-5912806c1908\")).parents('.cell').data().cell;\n      cell.output_area.append_execute_result(NB_LOAD_WARNING)\n    }\n  }\n\n  if (root._bokeh_is_loading === 0) {\n    console.debug(\"Bokeh: BokehJS loaded, going straight to plotting\");\n    run_inline_js();\n  } else {\n    load_libs(css_urls, js_urls, function() {\n      console.debug(\"Bokeh: BokehJS plotting callback run at\", now());\n      run_inline_js();\n    });\n  }\n}(window));"
     },
     "metadata": {},
     "output_type": "display_data"
    }
   ],
   "source": [
    "import pandas as pd\n",
    "import numpy as np\n",
    "#import plotly.graph_objects as go\n",
    "import yfinance as yf\n",
    "import talib as ta\n",
    "#import matplotlib.pyplot as plt\n",
    "#import math\n",
    "from datetime import date, timedelta\n",
    "from scipy import stats\n",
    "from scipy.signal import argrelextrema\n",
    "from bokeh.plotting import figure, show, column\n",
    "from sklearn.linear_model import LinearRegression\n",
    "import os\n",
    "from backtesting import Backtest, Strategy"
   ]
  },
  {
   "cell_type": "code",
   "execution_count": 2,
   "id": "68caa860-044a-443a-89cf-946f51d8c39e",
   "metadata": {
    "execution": {
     "iopub.execute_input": "2025-06-11T19:53:15.425677Z",
     "iopub.status.busy": "2025-06-11T19:53:15.425168Z",
     "iopub.status.idle": "2025-06-11T19:53:15.541932Z",
     "shell.execute_reply": "2025-06-11T19:53:15.541294Z"
    },
    "papermill": {
     "duration": 0.122172,
     "end_time": "2025-06-11T19:53:15.543182",
     "exception": false,
     "start_time": "2025-06-11T19:53:15.421010",
     "status": "completed"
    },
    "tags": []
   },
   "outputs": [],
   "source": [
    "df_d = pd.read_csv('data/dataxd.txt', sep=\"\\t\")\n",
    "tickers = [\n",
    "    'SPY',\n",
    "    'META',\n",
    "    'AAPL',\n",
    "    'AMZN',\n",
    "    'NFLX',\n",
    "    'MRNA',\n",
    "    'TSLA',\n",
    "    'TNA',\n",
    "    'GLD',\n",
    "    'SLV',\n",
    "    'USO',\n",
    "    'BAC',\n",
    "    'CVX',\n",
    "    'XOM',\n",
    "    'QQQ',\n",
    "    'MSFT',\n",
    "    'NVDA',\n",
    "    'WMT',\n",
    "    'BA',\n",
    "    'DIS',\n",
    "    'CAT',\n",
    "    'IBM',\n",
    "    'WFC',\n",
    "    'PLTR',\n",
    "    'AMD',\n",
    "    'AVGO',\n",
    "    'HOOD',\n",
    "    'CRWV',\n",
    "    'MSTR',\n",
    "    'UNH',\n",
    "    'GOOG',\n",
    "    'APP',\n",
    "    'UBER'\n",
    "]\n",
    "\n",
    "df_h = pd.read_csv('data/dataxh.txt', sep=\"\\t\")\n",
    "tickers = [\n",
    "    'SPY',\n",
    "    'META',\n",
    "    'AAPL',\n",
    "    'AMZN',\n",
    "    'NFLX',\n",
    "    'MRNA',\n",
    "    'TSLA',\n",
    "    'TNA',\n",
    "    'GLD',\n",
    "    'SLV',\n",
    "    'USO',\n",
    "    'BAC',\n",
    "    'CVX',\n",
    "    'XOM',\n",
    "    'QQQ',\n",
    "    'MSFT',\n",
    "    'NVDA',\n",
    "    'WMT',\n",
    "    'BA',\n",
    "    'DIS',\n",
    "    'CAT',\n",
    "    'IBM',\n",
    "    'WFC',\n",
    "    'PLTR',\n",
    "    'AMD',\n",
    "    'AVGO',\n",
    "    'HOOD',\n",
    "    'CRWV',\n",
    "    'MSTR',\n",
    "    'UNH',\n",
    "    'GOOG',\n",
    "    'APP',\n",
    "    'UBER'\n",
    "]\n",
    "\n",
    "#    'SPY',\n",
    "#    'META',\n",
    "#    'AAPL',\n",
    "#    'AMZN',\n",
    "#    'NFLX',\n",
    "#    'MRNA',\n",
    "#    'TSLA',\n",
    "#    'TNA',\n",
    "#    'GLD',\n",
    "#    'SLV',\n",
    "#    'USO',\n",
    "#    'BAC',\n",
    "#    'CVX',\n",
    "#    'XOM',\n",
    "#    'QQQ'"
   ]
  },
  {
   "cell_type": "code",
   "execution_count": 3,
   "id": "db7650b9-2eb7-4af3-b4fd-36da7fd038c8",
   "metadata": {
    "execution": {
     "iopub.execute_input": "2025-06-11T19:53:15.551929Z",
     "iopub.status.busy": "2025-06-11T19:53:15.551479Z",
     "iopub.status.idle": "2025-06-11T19:53:15.745261Z",
     "shell.execute_reply": "2025-06-11T19:53:15.744636Z"
    },
    "papermill": {
     "duration": 0.199206,
     "end_time": "2025-06-11T19:53:15.746404",
     "exception": false,
     "start_time": "2025-06-11T19:53:15.547198",
     "status": "completed"
    },
    "tags": []
   },
   "outputs": [],
   "source": [
    "df_d=df_d.rename(columns={'datetime': 'fecha'})\n",
    "df_d['fecha'] = pd.to_datetime(df_d['fecha'])\n",
    "df_dia = pd.DataFrame()\n",
    "for ticker in tickers:\n",
    "    company = df_d.query(\"companyName==@ticker\").copy()\n",
    "    company.sort_values(by=['fecha'])\n",
    "    #company = yf.download(ticker, start = ini2_str, end = today_str, interval='60m')\n",
    "    #company.columns = [company.columns[0][0], company.columns[1][0], company.columns[2][0], company.columns[3][0], company.columns[4][0]]\n",
    "    #company.rename(columns={'Datetime':'Gmt time'}, inplace = True)\n",
    "    #company['datetime'] = pd.to_datetime (company.index)\n",
    "    #company['companyName'] = ticker\n",
    "    company['SMA20'] = company['Close'].rolling(20).mean()\n",
    "    company.dropna(inplace=False)\n",
    "    company['SMA40'] = company['Close'].rolling(40).mean()\n",
    "    company.dropna(inplace=False)\n",
    "    company['SMA100'] = company['Close'].rolling(100).mean()\n",
    "    company.dropna(inplace=False)\n",
    "    company['SMA200'] = company['Close'].rolling(200).mean()\n",
    "    company.dropna(inplace=False)\n",
    "    df_dia = pd.concat([df_dia, company],ignore_index=True)"
   ]
  },
  {
   "cell_type": "code",
   "execution_count": 4,
   "id": "35923d1b-0189-42bb-a57b-ba8c3be5146e",
   "metadata": {
    "execution": {
     "iopub.execute_input": "2025-06-11T19:53:15.755126Z",
     "iopub.status.busy": "2025-06-11T19:53:15.754684Z",
     "iopub.status.idle": "2025-06-11T19:53:16.147168Z",
     "shell.execute_reply": "2025-06-11T19:53:16.146534Z"
    },
    "papermill": {
     "duration": 0.397825,
     "end_time": "2025-06-11T19:53:16.148263",
     "exception": false,
     "start_time": "2025-06-11T19:53:15.750438",
     "status": "completed"
    },
    "tags": []
   },
   "outputs": [],
   "source": [
    "df_h['datetime'] = pd.to_datetime(df_h['datetime'])\n",
    "df_h[\"fecha\"] = pd.to_datetime(df_h[\"datetime\"].dt.date)\n",
    "df_hora = pd.DataFrame()\n",
    "for ticker in tickers:\n",
    "    company = df_h.query(\"companyName==@ticker\").copy()\n",
    "    company.sort_values(by=['datetime'])\n",
    "    #company = yf.download(ticker, start = ini2_str, end = today_str, interval='60m')\n",
    "    #company.columns = [company.columns[0][0], company.columns[1][0], company.columns[2][0], company.columns[3][0], company.columns[4][0]]\n",
    "    #company.rename(columns={'Datetime':'Gmt time'}, inplace = True)\n",
    "    #company['datetime'] = pd.to_datetime (company.index)\n",
    "    #company['companyName'] = ticker\n",
    "    company['SMA20'] = company['Close'].rolling(20).mean()\n",
    "    company.dropna(inplace=False)\n",
    "    company['SMA40'] = company['Close'].rolling(40).mean()\n",
    "    company.dropna(inplace=False)\n",
    "    company['SMA100'] = company['Close'].rolling(100).mean()\n",
    "    company.dropna(inplace=False)\n",
    "    company['SMA200'] = company['Close'].rolling(200).mean()\n",
    "    company.dropna(inplace=False)\n",
    "    df_hora = pd.concat([df_hora, company],ignore_index=True)"
   ]
  },
  {
   "cell_type": "markdown",
   "id": "4a4ba515-5545-4c80-9abd-1107d15bef26",
   "metadata": {
    "papermill": {
     "duration": 0.003659,
     "end_time": "2025-06-11T19:53:16.155967",
     "exception": false,
     "start_time": "2025-06-11T19:53:16.152308",
     "status": "completed"
    },
    "tags": []
   },
   "source": [
    "### Detect Pivots/Fractals"
   ]
  },
  {
   "cell_type": "code",
   "execution_count": 5,
   "id": "f0a770a1-3794-472e-8218-02fc3760e5fb",
   "metadata": {
    "execution": {
     "iopub.execute_input": "2025-06-11T19:53:16.163999Z",
     "iopub.status.busy": "2025-06-11T19:53:16.163578Z",
     "iopub.status.idle": "2025-06-11T19:53:16.187475Z",
     "shell.execute_reply": "2025-06-11T19:53:16.187007Z"
    },
    "papermill": {
     "duration": 0.028889,
     "end_time": "2025-06-11T19:53:16.188341",
     "exception": false,
     "start_time": "2025-06-11T19:53:16.159452",
     "status": "completed"
    },
    "tags": []
   },
   "outputs": [],
   "source": [
    "ord=5\n",
    "#for ticker in tickers:\n",
    "#print(\"====\", ticker)\n",
    "#DIA\n",
    "max_idx1 = argrelextrema(df_dia['Close'].values, np.greater, order=ord)[0]\n",
    "min_idx1 = argrelextrema(df_dia['Close'].values, np.less, order=ord)[0]\n",
    "# Aplicar el cálculo solo a los índices en la lista\n",
    "df_dia.loc[max_idx1, 'pivotHigh'] = df_dia['High']+1e-3\n",
    "df_dia.loc[min_idx1, 'pivotLow'] = df_dia['Low']-(1e-3)\n",
    "df_dia.loc[max_idx1, 'isPivot'] = 1\n",
    "df_dia.loc[min_idx1, 'isPivot'] = 2\n",
    "\n",
    "#HORA\n",
    "max_idx2 = argrelextrema(df_hora['Close'].values, np.greater, order=ord)[0]\n",
    "min_idx2 = argrelextrema(df_hora['Close'].values, np.less, order=ord)[0]\n",
    "# Aplicar el cálculo solo a los índices en la lista\n",
    "df_hora.loc[max_idx2, 'pivotHigh'] = df_hora['High']+1e-3\n",
    "df_hora.loc[min_idx2, 'pivotLow'] = df_hora['Low']-(1e-3)\n",
    "df_hora.loc[max_idx2, 'isPivot'] = 1\n",
    "df_hora.loc[min_idx2, 'isPivot'] = 2"
   ]
  },
  {
   "cell_type": "code",
   "execution_count": 6,
   "id": "cb8b627c-ebd7-43ed-ac91-2cb8c680e7b5",
   "metadata": {
    "execution": {
     "iopub.execute_input": "2025-06-11T19:53:16.196461Z",
     "iopub.status.busy": "2025-06-11T19:53:16.196165Z",
     "iopub.status.idle": "2025-06-11T19:53:16.346549Z",
     "shell.execute_reply": "2025-06-11T19:53:16.345921Z"
    },
    "papermill": {
     "duration": 0.155363,
     "end_time": "2025-06-11T19:53:16.347431",
     "exception": false,
     "start_time": "2025-06-11T19:53:16.192068",
     "status": "completed"
    },
    "tags": []
   },
   "outputs": [
    {
     "data": {
      "text/html": [
       "\n",
       "  <div id=\"e071340b-0d5a-489f-881a-c6d2d7ef2d3c\" data-root-id=\"p1003\" style=\"display: contents;\"></div>\n"
      ]
     },
     "metadata": {},
     "output_type": "display_data"
    },
    {
     "data": {
      "application/javascript": [
       "(function(root) {\n",
       "  function embed_document(root) {\n",
       "  const docs_json = {\"5a5efdc6-1562-48b8-ac20-997eb01b6ac2\":{\"version\":\"3.7.3\",\"title\":\"Bokeh Application\",\"roots\":[{\"type\":\"object\",\"name\":\"Figure\",\"id\":\"p1003\",\"attributes\":{\"width\":2500,\"height\":500,\"x_range\":{\"type\":\"object\",\"name\":\"DataRange1d\",\"id\":\"p1004\",\"attributes\":{\"range_padding\":0.05}},\"y_range\":{\"type\":\"object\",\"name\":\"DataRange1d\",\"id\":\"p1005\"},\"x_scale\":{\"type\":\"object\",\"name\":\"LinearScale\",\"id\":\"p1013\"},\"y_scale\":{\"type\":\"object\",\"name\":\"LinearScale\",\"id\":\"p1014\"},\"title\":{\"type\":\"object\",\"name\":\"Title\",\"id\":\"p1006\",\"attributes\":{\"text\":\"DIA\"}},\"renderers\":[{\"type\":\"object\",\"name\":\"GlyphRenderer\",\"id\":\"p1048\",\"attributes\":{\"data_source\":{\"type\":\"object\",\"name\":\"ColumnDataSource\",\"id\":\"p1039\",\"attributes\":{\"selected\":{\"type\":\"object\",\"name\":\"Selection\",\"id\":\"p1040\",\"attributes\":{\"indices\":[],\"line_indices\":[]}},\"selection_policy\":{\"type\":\"object\",\"name\":\"UnionRenderers\",\"id\":\"p1041\"},\"data\":{\"type\":\"map\",\"entries\":[[\"index\",{\"type\":\"ndarray\",\"array\":{\"type\":\"bytes\",\"data\":\"AAAAAAEAAAACAAAAAwAAAAQAAAAFAAAABgAAAAcAAAAIAAAACQAAAAoAAAALAAAADAAAAA0AAAAOAAAADwAAABAAAAARAAAAEgAAABMAAAAUAAAAFQAAABYAAAAXAAAAGAAAABkAAAAaAAAAGwAAABwAAAAdAAAAHgAAAB8AAAAgAAAAIQAAACIAAAAjAAAAJAAAACUAAAAmAAAAJwAAACgAAAApAAAAKgAAACsAAAAsAAAALQAAAC4AAAAvAAAAMAAAADEAAAAyAAAAMwAAADQAAAA1AAAANgAAADcAAAA4AAAAOQAAADoAAAA7AAAAPAAAAD0AAAA+AAAAPwAAAEAAAABBAAAAQgAAAEMAAABEAAAARQAAAEYAAABHAAAASAAAAEkAAABKAAAASwAAAEwAAABNAAAATgAAAE8AAABQAAAAUQAAAFIAAABTAAAAVAAAAFUAAABWAAAAVwAAAFgAAABZAAAAWgAAAFsAAABcAAAAXQAAAF4AAABfAAAAYAAAAGEAAABiAAAAYwAAAGQAAABlAAAAZgAAAGcAAABoAAAAaQAAAGoAAABrAAAAbAAAAG0AAABuAAAAbwAAAHAAAABxAAAAcgAAAHMAAAB0AAAAdQAAAHYAAAB3AAAAeAAAAHkAAAB6AAAAewAAAHwAAAB9AAAAfgAAAH8AAACAAAAAgQAAAIIAAACDAAAAhAAAAIUAAACGAAAAhwAAAIgAAACJAAAAigAAAIsAAACMAAAAjQAAAI4AAACPAAAAkAAAAJEAAACSAAAAkwAAAJQAAACVAAAA\"},\"shape\":[150],\"dtype\":\"int32\",\"order\":\"little\"}],[\"Close\",{\"type\":\"ndarray\",\"array\":{\"type\":\"bytes\",\"data\":\"AAAAgLpudkAAAACAbF12QAAAAEAMr3ZAAAAAYNvudUAAAADg9fp1QAEAAMCciHZAAAAAQCd+dkABAABAmbZ2QAAAAMB3b3dAAAAAAI1Yd0ABAADAbt52QAAAACCq2XZAAAAAACSqdkAAAADgged2QAAAAKCU8nZAAAAA4GsGd0AAAADgs153QAAAAADIWXdAAAAAgH4Vd0ABAABAM+F2QAAAAOBwwnZAAQAAwEq0dkAAAADgVSN3QAAAAGBt8nZAAQAAQCaRd0AAAACAmbd3QAAAAGBt9XdAAQAAQIW8d0AAAACA58N3QAAAAODse3dAAAAAoAgYeEAAAAAAZWV4QAAAAOBxwHhAAAAAYK6teEAAAAAgAIR4QAAAAKBH5nhAAAAAgPnheEABAABANdd4QAEAAEDTz3hAAAAAAJq2eEAAAABAfDt5QAAAAEB8O3lAAAAAgNaoeUAAAABA6MN5QAAAAIDT0HlAAAAAAOuheUAAAAAA/bR5QAAAAKCNXHlAAQAAwFzVeEABAABA+8V4QAAAAKBI2nhAAAAAYBo0eUAAAACgtFl4QAEAAMB8MHhAAAAA4IHsd0AAAADg5713QAAAACD60HdAAAAAwK+Qd0AAAAAA7Xl3QAEAAMDk5XdAAAAAoOENeEAAAADgi214QAAAAADCsHhAAAAAYOqdd0AAAAAg/LR3QAAAAAAVcHdAAAAA4E5Cd0AAAADAe3B3QAAAACCbK3dAAAAAACPEdkAAAACALpN2QAAAACBaMnZAAAAAoCP6dUAAAADgxut1QAAAACAyWnZAAAAAgKridUAAAAAgB4x1QAAAAGCoHXZAAAAAIBjNdkAAAAAggb92QAAAAABug3ZAAAAAgKridUAAAAAg47d1QAAAAECtlHVAAAAAIHSCdUAAAABgxhN2QAAAACD6knVAAAAA4OYgdkAAAABgdmN2QAAAAIDYOnZAAAAAYCALdkABAABAQ5R2QAAAAAD+2nZAAQAAwGw4d0AAAACAowt3QAAAAKAi7HZAAAAAwL13d0ABAADAWEx3QAAAACA/MndAAAAAQDiddkAAAAAAnGF2QAAAAIATtHZAAAAAIKzrdkAAAACAVAt3QAAAAIDKkXZAAAAAIE7Pd0AAAACATAp4QAEAAEDy1XdAAAAAYP0JeEAAAADgCtt3QAEAAEBbyHdAAAAA4P/jd0AAAACgws13QAAAAMDDH3hAAAAAoK5GeEAAAACASkV4QAAAAIAl4ndAAAAA4KTXd0AAAADg6Zd4QAAAAMBHk3hAAAAAwAWMeEABAABA+hp4QAEAAEAGwndAAAAAgK23d0ABAABAPud3QAAAAMCHuXdAAAAAoBcReEAAAACAuz94QAAAAAALGHhAAAAAoCmBd0AAAACAHzp3QAAAAKCzB3dAAAAA4MQPd0AAAADAC2h3QAAAAOCPEndAAAAA4Ik0d0AAAACAHB13QAAAACCT03ZAAQAAwMI8d0ABAABAFy13QAAAAAAdFHdAAAAAwLlBd0AAAAAAxv12QAAAAOC+hHdAAAAAIFWBd0AAAADgh6t3QAAAAMAr+HdAAAAAIIMOeEAAAABgZyZ4QAAAAGAUG3hA\"},\"shape\":[150],\"dtype\":\"float64\",\"order\":\"little\"}],[\"High\",{\"type\":\"ndarray\",\"array\":{\"type\":\"bytes\",\"data\":\"eHehNATXdkAfDatuwJt2QInse+oF93ZAtezwyo0wdkBrksxCGTF2QAVcPS4Rn3ZA8nwMub/AdkDxC1nucMJ2QNrbVymfb3dAfh8JSieDd0CAEzJ21p53QD7fsRdZ93ZA2Gi+OJbedkAVyRsfle52QCPtrnLj8nZAOG/Sl7cud0DWgy0yn2t3QLm0Yn4UeHdAxarJ6xg+d0DZCCUlLTN3QKoOI0D38XZAWZzxNtPFdkCL9w1VLiV3QA4UDqo9YHdA8jcRqGCad0C1RzIqhM53QGDpLjEy9ndAPbJXHM4KeECXmMMMv9F3QJuP1Q+urHdAEdY2QFU0eEBhzqcnn3B4QFFmdLRw0HhA4K5j6kjWeECWyStq+s94QKcFjG4y+XhA0xTBwB/weEAVvJCWquF4QMzF6/wIF3lA+YyUMyLMeECkfhTxyj15QPvpN13Fh3lAqi22i4eqeUDoleXWXcx5QDrB0TgM8HlAycadV8DNeUDVoVC+D8B5QK77ov6JjHlAzHGFggkReUC6UDHNMvV4QKSDeDtu8HhAgGYvMd80eUA4c08aBjt5QOCVXXbbYXhA3bKKpxhHeEAwp+btGxt4QGMvLX+D1ndALDO4cQcgeEBcQ8FImq13QJl94fRZ8ndAtkktdEMVeEA1fQ7Wint4QP1FymNyvHhAnSA1a7c3eEAUks/Vl813QPL9NtfmyXdA0z/IyPZMd0AAAADAe3B3QOgK6K30SndAeMfqYjh8d0Aigv6iMNJ2QEyCs9eVW3ZAG91CH0FVdkAuB10/MFh2QJ0HvryHdXZA2Px4b2EldkBb/koH2RJ2QBWGmSGeO3ZAcfV5uY7NdkBbk2zZGuR2QOGfkSet2HZAjYc3BtKEdkCoSCs1mPh1QOaq9C5f5nVAphyHgMy0dUCg8NfDjit2QPx9MpAGVnZAExGS7NAydkANdf9tLaZ2QILKk6yUbnZAKGjGqT57dkAa9w9xI5x2QA4K26Ve7XZAhyU4WIU9d0BIJ4XTgGF3QFLakAqpOXdAFbscfXZ/d0AsWHHgKm53QORtpyPmjHdAGjwUJbhxd0CdnPCa35J2QFwdqTj+2nZAiO0hQz/1dkD6Os5Ugzt3QA0XMmoM/nZAVpjH3bXUd0BNHCxoRRd4QAe97dYWJHhAdJmIsPtEeEBl+ORsBv93QLOudE5S03dACO2aD33/d0B+nxNyweB3QGmz8eRjInhAzf0R0Y5OeEDoDZ6VP054QFbHqITRLXhAsvk2e5z3d0AAAADg6Zd4QNbKmNe9u3hAg7ZRe7GaeECpetPOcW14QA93n7AnIXhAo1xaK/rdd0Dp7WMgivh3QL3SSNSN/HdAAAAAoBcReEAYfIIWT8N4QFjoEj0/dnhAhzHTJvTXd0DuKe+XeW13QBvRa+anQndAkLpZ8fwpd0D6r10/Wnp3QJI6DBm8Z3dAIwN9mN02d0BAtDrbQjh3QPxpbkH8O3dAxxE38+BKd0BH7nf4ai93QDfAZMwla3dAJlp1l51id0AEjqou8CN3QOHk2rzllndA8lb+j+/bd0BOdhbrnax3QMjyZIxp+XdAmwGztz8meEAGxuNgti94QGYj4K0+QXhA\"},\"shape\":[150],\"dtype\":\"float64\",\"order\":\"little\"}],[\"Low\",{\"type\":\"ndarray\",\"array\":{\"type\":\"bytes\",\"data\":\"rdUD07FUdkCl3WuxMSt2QOocHvefQnZAXsxJ/3/HdUCHybpVNcJ1QKlqfBl5VnZAiXY+HWc9dkAWs0B0FWd2QOD7KtyB6XZABXLQH91Gd0ANNvFKltx2QBJxpZEivHZAEpKnCAJidkD0ripSFHV2QDG66qg8Z3ZArFkCvUjOdkBUWql9ugZ3QPIBL618K3dAXX98OUQKd0BmrTyg5sR2QMQIT2JOgnZAS+fJfKFKdkDzHRqqvdx2QCIJDziW3nZAkIjPslUnd0Cfk2UFFH53QOPKH0ROh3dA04Jd+YeYd0DciDlmm593QB5wq8x3bXdAjT3xyIasd0Dt+C2Alet3QFk/kCQpcHhAHTzC+zqJeED6wCro7XB4QG0AKZPWoXhAK812613HeECM97fmr5t4QEgob/b7vXhA2l/L0zileED/oi9PMQl5QIFhYCh9L3lAqLtpCXtLeUBWdRl2FIR5QNg1PkZ0pXlAUJVKWHeBeUAuHkDJOpB5QC+EmEBnTnlAYUBLQ8DGeEAGleeLD714QFsomJM3t3hAH/uhIr7geEBIJ3llyFh4QINjHW9+GnhA31hid4TKd0AkkgK3wLt3QBfzHRvabndAbzePfE9zd0C5jwa571V3QHg1BApQcXdAsRvwEJqtd0DW+thg3y14QLYL1VMninhAVdh5YsSLd0AmIatDdn93QFA28QZ5W3dA4cAWVAcNd0Aks6AdHA53QP74VKP5/nZAJKQ2bfvDdkDMVMXKIod2QHcLredi6nVAjKWBLV/mdUBC1UGbA8V1QHiCMhO733VAJDUSRPKydUBm3Guz3Yl1QJkKKapgq3VAqlarfwoddkBCCrPUrmB2QKM3QR1me3ZAD01nihjGdUAhGlCMmJN1QLE3sLFTdXVALPmdLnB+dUABoaIx9f90QNRv+T2hiHVAcynvqJKNdUAOGoxBtit2QA9UWrFJDXZAMowxhcX+dUBbfARdP+51QMmYVu4JgnZAF5Btg+fXdkBAA868SgF3QOPzi8QY4nZAH4sCSYDndkBoW6cErT13QOKmxWxAH3dABSDjbIWbdkAACANGUz92QL+V2uMCUnZArWOnsmmndkDQW7yeO8l2QIbvU53CiXZA6zg1M4tDd0A8QapcoL53QEkdI7V30XdA6u+ddjfMd0Cq4KuQ2dB3QBM94BUKiXdAxCK1A9O1d0DoCE9x9K93QMhI/bpo1ndAs7X7PqcWeED9PPlWFzl4QF4QK6XK1XdAzcd2kta5d0Ael16Pnrx3QDfcnRWqanhAEmEOtFtCeEDOivtgDAV4QG3Daz40oHdAvNnu2Uyld0DRog1qYLl3QJMFUceFt3dACIJjVIm7d0Ac5TZw8hJ4QO9KpcRS6HdAarysnEpmd0Av8VzWhhd3QAP5FAa17HZAgY7bLAnmdkAhrN8iIDF3QEGJL51AtnZAyV3KSdTodkDAS8Uk9gF3QDZ/0/jZz3ZA/babXh75dkDBb7C4CO92QLmtwby55XZAJhpvX2QHd0A/rm+bJ/R2QKPR0uQ8/nZAR71doGJ+d0BrUeAmqmh3QD4y7kHxt3dAg6tpABTId0D8kTG9WdZ3QLUpsYwQEHhA\"},\"shape\":[150],\"dtype\":\"float64\",\"order\":\"little\"}],[\"Open\",{\"type\":\"ndarray\",\"array\":{\"type\":\"bytes\",\"data\":\"mpmwUAC5dkBBH3U+D4t2QLTUFqreknZAtW0KEPgpdkBIRjLqk/V1QAMhtCa0V3ZAc5WciStEdkB61l5YwqB2QHPzb/n36XZA90gKvGJ+d0B3wJQwxnF3QPnnEWJa53ZAOw3KSJuadkAi9sZRh592QKb6gt4RlXZAX75YSuP0dkCWbAaHLiN3QKsMo60/RHdAxfvx6Wgud0BCw4t5kgx3QBxBtc4SiXZAhAzGRChydkB3R0mQp/t2QB8lQzZSVXdAbO/pU/Ixd0B7/KS/OZR3QOuWwKM3rndAUlifMG33d0ApzJkvrMZ3QCtlotlLqXdAVzH3Vkuxd0CefkkZGyV4QCq+elmefHhA7ewm9sOUeEDOLkOoTZR4QHKEyrdzpnhAHR6K4wzleEDN0UAhnJx4QJpQmZiV8nhARnppb/vDeEAf51Yl4Ch5QMkqcCmgaXlA6hgzV9xaeUBv1aGwAIV5QLLetAGHsnlA5D/abomWeUC6OzF2JaV5QJgd6I07iHlAMX8ptEQOeUAthRK4cM54QFYc81FKwnhAu6i7Am7yeEBmaE7uQTJ5QNrK87zfKXhAR44SVEBDeECD8P8R9gZ4QOgYTnKvmndAv/dzs1cMeEBRWz1kYJ53QMLyyIrZdHdAX1nDhCLBd0AoZJPRLTJ4QJY5MUsTj3hAhCQf9y4keED4KJtB/LJ3QBvbxu3Cm3dABsYPAWEsd0A6RSZ2WA93QIohvwCWOndAYWalNc1Kd0AQCmCmoLd2QCtJcav3WnZAbpUL9JEadkAu5E/zbjN2QCv6uUI4+3VAy5ytcL8gdkCD1CosYNN1QCY2B6ZByHVAFqoVORN3dkAwJd5TXYZ2QIDMVFnNqHZAt5Xb9xpCdkB135LWu/R1QPppNf1lnHVAZk6TSVGbdUAr3zwL8hB1QJ+DtgeeO3ZA3ktynIH1dUADI6dJPKF2QBsTWappQnZAuNnBd5YzdkA6qCPOpQZ2QOC82rb4rHZAMG9T6cHZdkCVFhAidgV3QB/MjdvaG3dAFp6fdG/qdkDiJOkX5k93QEUQGMUJiXdAQ4qcJqwod0Dx/PKQtmh2QNpNkzwdvnZAWuVnQBTJdkDV383Ylf12QEFK0J5c63ZARu+h+cJod0A7IaRKNN13QINX26O67XdAvq8GpBEzeEDcxo7ylO93QMVhWBv7jXdAwwHeSWj+d0A+2gpfiM53QBV7x+tD7XdA5/DHClwaeECGT+XCkT14QEOp+odBE3hAGup6ok7kd0BWVP/3qNt3QF1PbgW/qHhAJNkrhw5EeEDX8Al6T154QPNWkExaGHhArXHfuke0d0CFwS+FQdZ3QDdso4kq03dAaBTnsFjGd0A5PT2xI794QEla8CYsOnhAgEyjTEjJd0Cy+RdVwVd3QPNp+M05PXdAxJX5C3L7dkB4lag90Dl3QIRTnbm1NndArDpSUPYBd0BspX8grTJ3QB11wJQGHHdAuGkS16YBd0BS/KAdUhF3QNx17D4wS3dAYCGfIro4d0A/sBObEyJ3QDM3GgviL3dAb6HH9UWod0BT/wRl3nd3QOEBNSshxXdAfLdbcAMKeEBR1InKsdp3QFYaVlIYJnhA\"},\"shape\":[150],\"dtype\":\"float64\",\"order\":\"little\"}],[\"Volume\",{\"type\":\"ndarray\",\"array\":{\"type\":\"bytes\",\"data\":\"pBEiChgYMwbwhX0HVOYDCKx2nwZ8DpQEiDJeBcTmuQT8INgFADrvA6ShKAXgIuoDjL20BpT2dQQwpdoEWJ4yBEyW2APos1AEtJt6A8BjtQNYKgUFYMlYBbBdtgQQacQDEOitBNg/SATcWt4DtKRNBAxaMgPg5ScD1HDoBAikaAQ0ki8FvBMsBIjyxwM43AoEGKq4AjTtYgOUPDYD2JqtAmTBFwSkvYsDJGKtAyy2OAOorYgDiObJA+AI7AIE2w0EcIqhBDBJ7QLIZO4CXFEJA5j7JAaweuUDsPMaBQQfiASEerEE5EPwBdhkkQTo0zoExD3RBFR0kgRsxCAEHAZUB9RbEQWILzkFAPMkBiQkXgQUH5sE6NJcBlg+VQWU3UoHUK2EBdRvdAYYtZoG7IO7BmByKQlUk1kFcNosBqTGPwU8T+gEvLxsBjBSiATwLIMFOM2WBOTsxgioE2AHSKKNBZSWygVU18AE3BdDBcB8zwfkqRcFXBmzBAQ/NAZYyuIEsHz6BQR6wgVwNxcFQLiRB8QKMQUwXSsGtPkRBEyFCwUMv60EuHFuCBzilwUMKUkEBAmOBVRbFQQsuXAEhOKJBcDoDQPIEpoD4JYRBPgV0gGAygsE8C8eA6zpnQh4vo0E7DkWBUhZmwTowqUE3PrtA2zJngMUy9oE6Jl+BGTFYAfEpXEGrAwEB1DjJAfU18IEQKtvBGi9qAREufcFlFmRA7jvEwMMBjoEFOX9A7gTAgWMIXYEFEAfBQR6lgSgzjUG9NBoBBRJ5QPMChsEhLJfBZwYzwM0YbwD\"},\"shape\":[150],\"dtype\":\"int32\",\"order\":\"little\"}],[\"fecha\",{\"type\":\"ndarray\",\"array\":{\"type\":\"bytes\",\"data\":\"AAAAw6UVeEIAAMAo+BV4QgAAgI5KFnhCAABA9JwWeEIAAABa7xZ4QgAAAPE4GHhCAADAVosYeEIAAIC83Rh4QgAAQCIwGXhCAACAUycaeEIAAEC5eRp4QgAAAB/MGnhCAADAhB4beEIAAIDqcBt4QgAAgIG6HHhCAABA5wwdeEIAAABNXx14QgAAwLKxHXhCAAAA5KgeeEIAAMBJ+x54QgAAgK9NH3hCAABAFaAfeEIAAAB78h94QgAAQKzpIHhCAAAAEjwheEIAAMB3jiF4QgAAgN3gIXhCAABAQzMieEIAAIB0KiN4QgAAQNp8I3hCAAAAQM8jeEIAAMClISR4QgAAgAt0JHhCAADAPGsleEIAAICivSV4QgAAQAgQJnhCAAAAbmImeEIAAMDTtCZ4QgAAAAWsJ3hCAADAav4neEIAAIDQUCh4QgAAQDajKHhCAAAAnPUoeEIAAEDN7Cl4QgAAADM/KnhCAADAmJEqeEIAAID+4yp4QgAAQGQ2K3hCAACAlS0seEIAAED7fyx4QgAAAGHSLHhCAADAxiQteEIAAIAsdy14QgAAwF1uLnhCAACAw8AueEIAAEApEy94QgAAAI9lL3hCAADA9LcveEIAAMCLATF4QgAAgPFTMXhCAABAV6YxeEIAAAC9+DF4QgAAQO7vMnhCAAAAVEIzeEIAAMC5lDN4QgAAgB/nM3hCAABAhTk0eEIAAIC2MDV4QgAAQByDNXhCAAAAgtU1eEIAAMDnJzZ4QgAAgE16NnhCAADAfnE3eEIAAIDkwzd4QgAAQEoWOHhCAAAAsGg4eEIAAMAVuzh4QgAAAEeyOXhCAADArAQ6eEIAAIASVzp4QgAAQHipOnhCAAAA3vs6eEIAAEAP8zt4QgAAAHVFPHhCAADA2pc8eEIAAIBA6jx4QgAAQKY8PXhCAACA1zM+eEIAAEA9hj54QgAAAKPYPnhCAADACCs/eEIAAIBufT94QgAAwJ90QHhCAACABcdAeEIAAEBrGUF4QgAAANFrQXhCAADANr5BeEIAAABotUJ4QgAAwM0HQ3hCAACAM1pDeEIAAECZrEN4QgAAAP/+Q3hCAABAMPZEeEIAAACWSEV4QgAAwPuaRXhCAACAYe1FeEIAAEDHP0Z4QgAAgPg2R3hCAABAXolHeEIAAADE20d4QgAAwCkuSHhCAACAj4BIeEIAAMDAd0l4QgAAgCbKSXhCAABAjBxKeEIAAMBXwUp4QgAAAIm4S3hCAADA7gpMeEIAAIBUXUx4QgAAQLqvTHhCAAAAIAJNeEIAAEBR+U14QgAAALdLTnhCAADAHJ5OeEIAAICC8E54QgAAQOhCT3hCAACAGTpQeEIAAEB/jFB4QgAAAOXeUHhCAADASjFReEIAAICwg1F4QgAAwOF6UnhCAACAR81SeEIAAECtH1N4QgAAABNyU3hCAADAeMRTeEIAAMAPDlV4QgAAgHVgVXhCAABA27JVeEIAAABBBVZ4QgAAANhOV3hCAADAPaFXeEIAAICj81d4QgAAQAlGWHhCAACAOj1ZeEIAAECgj1l4QgAAAAbiWXhCAADAazRaeEIAAIDRhlp4QgAAgGjQW3hC\"},\"shape\":[150],\"dtype\":\"float64\",\"order\":\"little\"}],[\"companyName\",{\"type\":\"ndarray\",\"array\":[\"SPY\",\"SPY\",\"SPY\",\"SPY\",\"SPY\",\"SPY\",\"SPY\",\"SPY\",\"SPY\",\"SPY\",\"SPY\",\"SPY\",\"SPY\",\"SPY\",\"SPY\",\"SPY\",\"SPY\",\"SPY\",\"SPY\",\"SPY\",\"SPY\",\"SPY\",\"SPY\",\"SPY\",\"SPY\",\"SPY\",\"SPY\",\"SPY\",\"SPY\",\"SPY\",\"SPY\",\"SPY\",\"SPY\",\"SPY\",\"SPY\",\"SPY\",\"SPY\",\"SPY\",\"SPY\",\"SPY\",\"SPY\",\"SPY\",\"SPY\",\"SPY\",\"SPY\",\"SPY\",\"SPY\",\"SPY\",\"SPY\",\"SPY\",\"SPY\",\"SPY\",\"SPY\",\"SPY\",\"SPY\",\"SPY\",\"SPY\",\"SPY\",\"SPY\",\"SPY\",\"SPY\",\"SPY\",\"SPY\",\"SPY\",\"SPY\",\"SPY\",\"SPY\",\"SPY\",\"SPY\",\"SPY\",\"SPY\",\"SPY\",\"SPY\",\"SPY\",\"SPY\",\"SPY\",\"SPY\",\"SPY\",\"SPY\",\"SPY\",\"SPY\",\"SPY\",\"SPY\",\"SPY\",\"SPY\",\"SPY\",\"SPY\",\"SPY\",\"SPY\",\"SPY\",\"SPY\",\"SPY\",\"SPY\",\"SPY\",\"SPY\",\"SPY\",\"SPY\",\"SPY\",\"SPY\",\"SPY\",\"SPY\",\"SPY\",\"SPY\",\"SPY\",\"SPY\",\"SPY\",\"SPY\",\"SPY\",\"SPY\",\"SPY\",\"SPY\",\"SPY\",\"SPY\",\"SPY\",\"SPY\",\"SPY\",\"SPY\",\"SPY\",\"SPY\",\"SPY\",\"SPY\",\"SPY\",\"SPY\",\"SPY\",\"SPY\",\"SPY\",\"SPY\",\"SPY\",\"SPY\",\"SPY\",\"SPY\",\"SPY\",\"SPY\",\"SPY\",\"SPY\",\"SPY\",\"SPY\",\"SPY\",\"SPY\",\"SPY\",\"SPY\",\"SPY\",\"SPY\",\"SPY\",\"SPY\",\"SPY\",\"SPY\",\"SPY\",\"SPY\",\"SPY\"],\"shape\":[150],\"dtype\":\"object\",\"order\":\"little\"}],[\"SMA20\",{\"type\":\"ndarray\",\"array\":{\"type\":\"bytes\",\"data\":\"AAAAAAAA+H8AAAAAAAD4fwAAAAAAAPh/AAAAAAAA+H8AAAAAAAD4fwAAAAAAAPh/AAAAAAAA+H8AAAAAAAD4fwAAAAAAAPh/AAAAAAAA+H8AAAAAAAD4fwAAAAAAAPh/AAAAAAAA+H8AAAAAAAD4fwAAAAAAAPh/AAAAAAAA+H8AAAAAAAD4fwAAAAAAAPh/AAAAAAAA+H8zMzMrBMt2QAAAALAzz3ZAmpmZmYvTdkDNzMwUXNl2QM3MzJRW5nZAzczMzKX6dkCamZkJzAl3QDMzM4uPHHdAzczMJKgpd0BmZmbu4C13QJqZmbmlL3dAmpmZ0VM/d0CamZkpHVN3QJqZmUHUbXdAZmZmromEd0AzMzPbm5h3QDMzMwuasHdAAAAAIPfDd0AzMzNjCdd3QJqZmTkn7XdAAQAAkJ8EeEABAACIRiR4QDQzM5uiRHhAmpmZCelkeEA0MzP7+4h4QM7MzKTEpXhAAQAAuEi+eEABAACAqdR4QAEAALh26XhANDMz+yL3eEA0MzOzowd5QJqZmRlaEXlAAQAA+K8beUABAADojBZ5QM7MzGxKEHlAAQAAULcIeUCamZm55fl4QDQzM1s/7HhAmpmZ4evbeECamZmR08p4QDMzMxtkwHhAMzMzk0+xeEBmZmaOA6d4QJqZmSGcmnhAzczMPBx/eEDNzMxEHmR4QM3MzMQGSHhAMzMzQ7EoeEDNzMzEFhB4QGZmZhbN+ndAAAAA4Bvhd0AzMzMr9MN3QDMzM1t3nXdAmpmZgRZ/d0CamZlpDWJ3QDMzM9PvTXdAmpmZwSw2d0AzMzObIBl3QAAAAHCTBndAmpmZMe/9dkAzMzMDN+92QAAAAAh+23ZAMzMzw/K6dkBmZmae55R2QDMzM8PXenZAzczMXLdedkAAAAAITU12QGZmZv67N3ZAzczMjPQmdkBmZma28hx2QDMzM2MVFnZAmpmZ4UcPdkAzMzMjLRR2QJqZmUFrH3ZAZmZmJg0wdkAzMzNr7Dh2QM3MzGwyRnZAMzMzW8hedkBmZmbG6m12QGZmZob5cnZAZmZmrkJxdkAAAADIkW92QDMzMzsKenZAmpmZ4W2JdkCamZlxKZx2QAAAAJC6qXZAAAAAwOe/dkAzMzOreN92QGZmZtZS9XZAAAAAMHMKd0CamZmBQh93QDMzM3OFNXdAmpmZ4U5Gd0AAAABQclJ3QGZmZnYDXndAzczMBMRtd0AzMzMDBn93QAAAAABYhHdAmpmZAU+Ld0DNzMwkMZ13QM3MzIRLtndAmpmZAQTSd0CamZnx9eN3QGZmZqat7ndAMzMzs0v3d0CamZlJXgh4QJqZmZFHB3hAZmZmhp4HeEBmZmaW6Ax4QAAAAHicDXhAmpmZAR4JeEAzMzNrAQJ4QDMzM5v99ndAAAAAuH3td0BmZmYeTuR3QGZmZi7m1HdAMzMz80LHd0BmZmbmaL13QDMzMwNosHdAzczMdAyfd0CamZmhI413QGZmZv5XendAMzMzK3tvd0AAAAAoq2V3QJqZmTkfY3dAzczMxAZed0AzMzOTU113QM3MzJQUXHdAAAAAkJ5Zd0CamZlhVlp3QM3MzIQIYndA\"},\"shape\":[150],\"dtype\":\"float64\",\"order\":\"little\"}],[\"SMA40\",{\"type\":\"ndarray\",\"array\":{\"type\":\"bytes\",\"data\":\"AAAAAAAA+H8AAAAAAAD4fwAAAAAAAPh/AAAAAAAA+H8AAAAAAAD4fwAAAAAAAPh/AAAAAAAA+H8AAAAAAAD4fwAAAAAAAPh/AAAAAAAA+H8AAAAAAAD4fwAAAAAAAPh/AAAAAAAA+H8AAAAAAAD4fwAAAAAAAPh/AAAAAAAA+H8AAAAAAAD4fwAAAAAAAPh/AAAAAAAA+H8AAAAAAAD4fwAAAAAAAPh/AAAAAAAA+H8AAAAAAAD4fwAAAAAAAPh/AAAAAAAA+H8AAAAAAAD4fwAAAAAAAPh/AAAAAAAA+H8AAAAAAAD4fwAAAAAAAPh/AAAAAAAA+H8AAAAAAAD4fwAAAAAAAPh/AAAAAAAA+H8AAAAAAAD4fwAAAAAAAPh/AAAAAAAA+H8AAAAAAAD4fwAAAAAAAPh/mpmZ3dFnd0AAAAAcvXl3QGZmZhoXjHdAMzMzjyKfd0AAAABIqbd3QM3MzDg10HdAzczMYArkd0CamZmFnPh3QGZmZm6PCXhAzczM9IESeEBmZma2pBt4QJqZmfVWKHhAzczMkGY3eEDNzMyUMEJ4QJqZmQ1qSnhAmpmZlalQeEBmZmbiP1V4QJqZmT0bWHhAZmZmonpZeECamZll/Vt4QJqZmdWBYnhAmpmZDctqeEDNzMwU03V4QJqZmZXCf3hAAAAAHAyEeEDNzMx08YR4QGZmZr4ng3hAmpmZYa1+eEBmZma+xnx4QM3MzAj4eHhAmpmZyV90eEBmZmYip2p4QJqZmamTXHhAzczMtNFKeEAzMzPrKzl4QJqZmZFTK3hAmpmZPQkYeEAzMzP7rwJ4QM3MzKg/8XdAmpmZYWHkd0AzMzOPzdd3QJqZmc1mxndAzczMKPuwd0AAAADgwZd3QAAAAAD6fHdAzczM0Gphd0BmZmbmqUp3QM3MzKA2MHdAzczMqIUbd0BmZmbm3wt3QJqZmaGY+3ZAZmZmBp7pdkAzMzM/0th2QJqZmeFAz3ZAAAAASA3JdkAzMzMfbsN2QDMzM5cvvnZAMzMze/S7dkAzMzMbP7p2QAAAAFx0uHZAzczM2DywdkAAAADoh6V2QDMzM39+mnZAAAAAwCqPdkBmZmaagIt2QGZmZvY4hHZAAAAAZJqGdkDNzMxUmot2QJqZmbEjjnZANDMz87KTdkBnZmbyq5p2QGdmZqpmonZAZ2ZmAj6tdkDOzMzI7rh2QGdmZk4Ix3ZAAQAAOFjTdkABAAA4nOJ2QJqZmS2Q8XZAAQAA5Jz8dkCamZlVFQh3QJqZmRnHE3dAzszM5Mogd0BnZmYWAC93QAEAAMQNPHdAZ2ZmkrpJd0DOzMxsDFl3QM7MzKiXY3dAzszMmItzd0BnZma2HYF3QAEAANQHjHdAmpmZQTCUd0A0MzNvw5t3QGdmZj6mnndAAQAABPifd0BnZmbKKKF3QJqZmRlVoXdANDMzeySjd0A0MzNz4KB3QGZmZoLbnXdAzczMzB6ed0AzMzOTt6F3QAAAAAAupndAZmZmjripd0AzMzNnLKp3QGZmZnY1rXdAMzMzhzKzd0BmZmaSTbJ3QJqZmY3ZsXdAMzMzk0Ozd0DNzMxs+bN3QDMzM0OTtXdA\"},\"shape\":[150],\"dtype\":\"float64\",\"order\":\"little\"}],[\"SMA100\",{\"type\":\"ndarray\",\"array\":{\"type\":\"bytes\",\"data\":\"AAAAAAAA+H8AAAAAAAD4fwAAAAAAAPh/AAAAAAAA+H8AAAAAAAD4fwAAAAAAAPh/AAAAAAAA+H8AAAAAAAD4fwAAAAAAAPh/AAAAAAAA+H8AAAAAAAD4fwAAAAAAAPh/AAAAAAAA+H8AAAAAAAD4fwAAAAAAAPh/AAAAAAAA+H8AAAAAAAD4fwAAAAAAAPh/AAAAAAAA+H8AAAAAAAD4fwAAAAAAAPh/AAAAAAAA+H8AAAAAAAD4fwAAAAAAAPh/AAAAAAAA+H8AAAAAAAD4fwAAAAAAAPh/AAAAAAAA+H8AAAAAAAD4fwAAAAAAAPh/AAAAAAAA+H8AAAAAAAD4fwAAAAAAAPh/AAAAAAAA+H8AAAAAAAD4fwAAAAAAAPh/AAAAAAAA+H8AAAAAAAD4fwAAAAAAAPh/AAAAAAAA+H8AAAAAAAD4fwAAAAAAAPh/AAAAAAAA+H8AAAAAAAD4fwAAAAAAAPh/AAAAAAAA+H8AAAAAAAD4fwAAAAAAAPh/AAAAAAAA+H8AAAAAAAD4fwAAAAAAAPh/AAAAAAAA+H8AAAAAAAD4fwAAAAAAAPh/AAAAAAAA+H8AAAAAAAD4fwAAAAAAAPh/AAAAAAAA+H8AAAAAAAD4fwAAAAAAAPh/AAAAAAAA+H8AAAAAAAD4fwAAAAAAAPh/AAAAAAAA+H8AAAAAAAD4fwAAAAAAAPh/AAAAAAAA+H8AAAAAAAD4fwAAAAAAAPh/AAAAAAAA+H8AAAAAAAD4fwAAAAAAAPh/AAAAAAAA+H8AAAAAAAD4fwAAAAAAAPh/AAAAAAAA+H8AAAAAAAD4fwAAAAAAAPh/AAAAAAAA+H8AAAAAAAD4fwAAAAAAAPh/AAAAAAAA+H8AAAAAAAD4fwAAAAAAAPh/AAAAAAAA+H8AAAAAAAD4fwAAAAAAAPh/AAAAAAAA+H8AAAAAAAD4fwAAAAAAAPh/AAAAAAAA+H8AAAAAAAD4fwAAAAAAAPh/AAAAAAAA+H8AAAAAAAD4fwAAAAAAAPh/AAAAAAAA+H8AAAAAAAD4fwAAAAAAAPh/MzMzG01jd0DXo3CFK2N3QB+F61kJZHdAzczMjKRkd0BSuB7NfGd3QNejcO3+aHdArkfhQkNsd0DNzMxkOXB3QI/C9QAZc3dASOF6lKR0d0C4HoWj8nV3QD0K13tJeHdAUrgeTfN6d0CPwvXY3X13QB+F6zn9gHdArkfh4mOEd0AUrkcxlId3QIXrUbDkiHdAXI/C5SaKd0CamZkhBI53QIXrUWBbkndAj8L1yO6Wd0BSuB4FhZp3QLgehUMbnHdAmpmZORSed0AAAACg8J53QBSuR5H1nndAPQrXYzyfd0CuR+FKjKB3QAAAALBjoXdAhetRGHGhd0CPwvUAOZ93QKRwPcq5m3dAPQrXI2aXd0C4HoWDJJR3QIXrUcBykHdAexSuXxyMd0AzMzMLlYd3QFyPwgVtgndA16NwLWV+d0CkcD3KdXp3QHE9CkfydHdAhetRiONvd0AzMzPjDml3QBSuR3lOY3dAAAAAQGRdd0C4HoUjXlh3QAAAAGjrU3dArkfhQpRQd0DhehRe1E53QD0K19seTXdA\"},\"shape\":[150],\"dtype\":\"float64\",\"order\":\"little\"}],[\"SMA200\",{\"type\":\"ndarray\",\"array\":{\"type\":\"bytes\",\"data\":\"AAAAAAAA+H8AAAAAAAD4fwAAAAAAAPh/AAAAAAAA+H8AAAAAAAD4fwAAAAAAAPh/AAAAAAAA+H8AAAAAAAD4fwAAAAAAAPh/AAAAAAAA+H8AAAAAAAD4fwAAAAAAAPh/AAAAAAAA+H8AAAAAAAD4fwAAAAAAAPh/AAAAAAAA+H8AAAAAAAD4fwAAAAAAAPh/AAAAAAAA+H8AAAAAAAD4fwAAAAAAAPh/AAAAAAAA+H8AAAAAAAD4fwAAAAAAAPh/AAAAAAAA+H8AAAAAAAD4fwAAAAAAAPh/AAAAAAAA+H8AAAAAAAD4fwAAAAAAAPh/AAAAAAAA+H8AAAAAAAD4fwAAAAAAAPh/AAAAAAAA+H8AAAAAAAD4fwAAAAAAAPh/AAAAAAAA+H8AAAAAAAD4fwAAAAAAAPh/AAAAAAAA+H8AAAAAAAD4fwAAAAAAAPh/AAAAAAAA+H8AAAAAAAD4fwAAAAAAAPh/AAAAAAAA+H8AAAAAAAD4fwAAAAAAAPh/AAAAAAAA+H8AAAAAAAD4fwAAAAAAAPh/AAAAAAAA+H8AAAAAAAD4fwAAAAAAAPh/AAAAAAAA+H8AAAAAAAD4fwAAAAAAAPh/AAAAAAAA+H8AAAAAAAD4fwAAAAAAAPh/AAAAAAAA+H8AAAAAAAD4fwAAAAAAAPh/AAAAAAAA+H8AAAAAAAD4fwAAAAAAAPh/AAAAAAAA+H8AAAAAAAD4fwAAAAAAAPh/AAAAAAAA+H8AAAAAAAD4fwAAAAAAAPh/AAAAAAAA+H8AAAAAAAD4fwAAAAAAAPh/AAAAAAAA+H8AAAAAAAD4fwAAAAAAAPh/AAAAAAAA+H8AAAAAAAD4fwAAAAAAAPh/AAAAAAAA+H8AAAAAAAD4fwAAAAAAAPh/AAAAAAAA+H8AAAAAAAD4fwAAAAAAAPh/AAAAAAAA+H8AAAAAAAD4fwAAAAAAAPh/AAAAAAAA+H8AAAAAAAD4fwAAAAAAAPh/AAAAAAAA+H8AAAAAAAD4fwAAAAAAAPh/AAAAAAAA+H8AAAAAAAD4fwAAAAAAAPh/AAAAAAAA+H8AAAAAAAD4fwAAAAAAAPh/AAAAAAAA+H8AAAAAAAD4fwAAAAAAAPh/AAAAAAAA+H8AAAAAAAD4fwAAAAAAAPh/AAAAAAAA+H8AAAAAAAD4fwAAAAAAAPh/AAAAAAAA+H8AAAAAAAD4fwAAAAAAAPh/AAAAAAAA+H8AAAAAAAD4fwAAAAAAAPh/AAAAAAAA+H8AAAAAAAD4fwAAAAAAAPh/AAAAAAAA+H8AAAAAAAD4fwAAAAAAAPh/AAAAAAAA+H8AAAAAAAD4fwAAAAAAAPh/AAAAAAAA+H8AAAAAAAD4fwAAAAAAAPh/AAAAAAAA+H8AAAAAAAD4fwAAAAAAAPh/AAAAAAAA+H8AAAAAAAD4fwAAAAAAAPh/AAAAAAAA+H8AAAAAAAD4fwAAAAAAAPh/AAAAAAAA+H8AAAAAAAD4fwAAAAAAAPh/AAAAAAAA+H8AAAAAAAD4fwAAAAAAAPh/AAAAAAAA+H8AAAAAAAD4fwAAAAAAAPh/AAAAAAAA+H8AAAAAAAD4fwAAAAAAAPh/\"},\"shape\":[150],\"dtype\":\"float64\",\"order\":\"little\"}],[\"pivotHigh\",{\"type\":\"ndarray\",\"array\":{\"type\":\"bytes\",\"data\":\"AAAAAAAA+H8AAAAAAAD4fwAAAAAAAPh/AAAAAAAA+H8AAAAAAAD4fwAAAAAAAPh/AAAAAAAA+H8AAAAAAAD4f5ZQ60Gjb3dAAAAAAAAA+H8AAAAAAAD4fwAAAAAAAPh/AAAAAAAA+H8AAAAAAAD4fwAAAAAAAPh/AAAAAAAA+H+S+MBKo2t3QAAAAAAAAPh/AAAAAAAA+H8AAAAAAAD4fwAAAAAAAPh/AAAAAAAA+H8AAAAAAAD4fwAAAAAAAPh/AAAAAAAA+H8AAAAAAAD4fwAAAAAAAPh/AAAAAAAA+H8AAAAAAAD4fwAAAAAAAPh/AAAAAAAA+H8AAAAAAAD4fwAAAAAAAPh/AAAAAAAA+H8AAAAAAAD4fwAAAAAAAPh/AAAAAAAA+H8AAAAAAAD4fwAAAAAAAPh/AAAAAAAA+H8AAAAAAAD4fwAAAAAAAPh/AAAAAAAA+H8AAAAAAAD4f/Y1ZVEQ8HlAAAAAAAAA+H8AAAAAAAD4fwAAAAAAAPh/AAAAAAAA+H8AAAAAAAD4fwAAAAAAAPh/AAAAAAAA+H8AAAAAAAD4fwAAAAAAAPh/AAAAAAAA+H8AAAAAAAD4fwAAAAAAAPh/AAAAAAAA+H8AAAAAAAD4fwAAAAAAAPh/AAAAAAAA+H8AAAAAAAD4f7m6XXx2vHhAAAAAAAAA+H8AAAAAAAD4fwAAAAAAAPh/AAAAAAAA+H8AAAAAAAD4fwAAAAAAAPh/AAAAAAAA+H8AAAAAAAD4fwAAAAAAAPh/AAAAAAAA+H8AAAAAAAD4fwAAAAAAAPh/AAAAAAAA+H8AAAAAAAD4fwAAAAAAAPh/LWoN0pLNdkAAAAAAAAD4fwAAAAAAAPh/AAAAAAAA+H8AAAAAAAD4fwAAAAAAAPh/AAAAAAAA+H8AAAAAAAD4fwAAAAAAAPh/AAAAAAAA+H8AAAAAAAD4fwAAAAAAAPh/AAAAAAAA+H8AAAAAAAD4fwAAAAAAAPh/AAAAAAAA+H8AAAAAAAD4fwAAAAAAAPh/0S+wlXp/d0AAAAAAAAD4fwAAAAAAAPh/AAAAAAAA+H8AAAAAAAD4fwAAAAAAAPh/AAAAAAAA+H8AAAAAAAD4fwAAAAAAAPh/AAAAAAAA+H8Jkb+ASRd4QAAAAAAAAPh/AAAAAAAA+H8AAAAAAAD4fwAAAAAAAPh/AAAAAAAA+H8AAAAAAAD4fwAAAAAAAPh/AAAAAAAA+H8AAAAAAAD4fwAAAAAAAPh/AAAAAAAA+H+8dJP47Zd4QAAAAAAAAPh/AAAAAAAA+H8AAAAAAAD4fwAAAAAAAPh/AAAAAAAA+H8AAAAAAAD4fwAAAAAAAPh/AAAAAAAA+H/U8BUvU8N4QAAAAAAAAPh/AAAAAAAA+H8AAAAAAAD4fwAAAAAAAPh/AAAAAAAA+H8AAAAAAAD4fwAAAAAAAPh/AAAAAAAA+H8AAAAAAAD4fwAAAAAAAPh/AAAAAAAA+H8AAAAAAAD4fwAAAAAAAPh/AAAAAAAA+H8AAAAAAAD4fwAAAAAAAPh/AAAAAAAA+H8AAAAAAAD4fwAAAAAAAPh/AAAAAAAA+H8AAAAAAAD4fwAAAAAAAPh/\"},\"shape\":[150],\"dtype\":\"float64\",\"order\":\"little\"}],[\"pivotLow\",{\"type\":\"ndarray\",\"array\":{\"type\":\"bytes\",\"data\":\"AAAAAAAA+H8AAAAAAAD4fwAAAAAAAPh/ole25nvHdUAAAAAAAAD4fwAAAAAAAPh/AAAAAAAA+H8AAAAAAAD4fwAAAAAAAPh/AAAAAAAA+H8AAAAAAAD4fwAAAAAAAPh/Vh0U8P1hdkAAAAAAAAD4fwAAAAAAAPh/AAAAAAAA+H8AAAAAAAD4fwAAAAAAAPh/AAAAAAAA+H8AAAAAAAD4fwAAAAAAAPh/j3I2ZJ1KdkAAAAAAAAD4fwAAAAAAAPh/AAAAAAAA+H8AAAAAAAD4fwAAAAAAAPh/AAAAAAAA+H8AAAAAAAD4f2L7F7RzbXdAAAAAAAAA+H8AAAAAAAD4fwAAAAAAAPh/AAAAAAAA+H8AAAAAAAD4fwAAAAAAAPh/AAAAAAAA+H8AAAAAAAD4fwAAAAAAAPh/AAAAAAAA+H8AAAAAAAD4fwAAAAAAAPh/AAAAAAAA+H8AAAAAAAD4fwAAAAAAAPh/AAAAAAAA+H8AAAAAAAD4fwAAAAAAAPh/AAAAAAAA+H8AAAAAAAD4fwAAAAAAAPh/AAAAAAAA+H8AAAAAAAD4fwAAAAAAAPh/AAAAAAAA+H8AAAAAAAD4fwAAAAAAAPh/AAAAAAAA+H/9GnOg61V3QAAAAAAAAPh/AAAAAAAA+H8AAAAAAAD4fwAAAAAAAPh/AAAAAAAA+H8AAAAAAAD4fwAAAAAAAPh/AAAAAAAA+H8AAAAAAAD4fwAAAAAAAPh/AAAAAAAA+H8AAAAAAAD4fwAAAAAAAPh/AAAAAAAA+H8AAAAAAAD4fwAAAAAAAPh/AAAAAAAA+H+qZ9ia2Yl1QAAAAAAAAPh/AAAAAAAA+H8AAAAAAAD4fwAAAAAAAPh/AAAAAAAA+H8AAAAAAAD4fwAAAAAAAPh/cIQKFmx+dUAAAAAAAAD4fwAAAAAAAPh/AAAAAAAA+H8AAAAAAAD4fwAAAAAAAPh/AAAAAAAA+H8AAAAAAAD4fwAAAAAAAPh/AAAAAAAA+H8AAAAAAAD4fwAAAAAAAPh/AAAAAAAA+H8AAAAAAAD4fwAAAAAAAPh/AAAAAAAA+H9Ek28tTz92QAAAAAAAAPh/AAAAAAAA+H8AAAAAAAD4fwAAAAAAAPh/AAAAAAAA+H8AAAAAAAD4fwAAAAAAAPh/AAAAAAAA+H8AAAAAAAD4f1fITP0FiXdAAAAAAAAA+H8AAAAAAAD4fwAAAAAAAPh/AAAAAAAA+H8AAAAAAAD4fwAAAAAAAPh/AAAAAAAA+H8AAAAAAAD4fwAAAAAAAPh/AAAAAAAA+H8AAAAAAAD4fwAAAAAAAPh/AGVbwUild0AAAAAAAAD4fwAAAAAAAPh/AAAAAAAA+H8AAAAAAAD4fwAAAAAAAPh/AAAAAAAA+H8AAAAAAAD4f0eEge2w7HZAAAAAAAAA+H8AAAAAAAD4fwAAAAAAAPh/AAAAAAAA+H8AAAAAAAD4f3oKQODVz3ZAAAAAAAAA+H8AAAAAAAD4fwAAAAAAAPh/AAAAAAAA+H8AAAAAAAD4fwAAAAAAAPh/AAAAAAAA+H8AAAAAAAD4fwAAAAAAAPh/AAAAAAAA+H8AAAAAAAD4fwAAAAAAAPh/\"},\"shape\":[150],\"dtype\":\"float64\",\"order\":\"little\"}],[\"isPivot\",{\"type\":\"ndarray\",\"array\":{\"type\":\"bytes\",\"data\":\"AAAAAAAA+H8AAAAAAAD4fwAAAAAAAPh/AAAAAAAAAEAAAAAAAAD4fwAAAAAAAPh/AAAAAAAA+H8AAAAAAAD4fwAAAAAAAPA/AAAAAAAA+H8AAAAAAAD4fwAAAAAAAPh/AAAAAAAAAEAAAAAAAAD4fwAAAAAAAPh/AAAAAAAA+H8AAAAAAADwPwAAAAAAAPh/AAAAAAAA+H8AAAAAAAD4fwAAAAAAAPh/AAAAAAAAAEAAAAAAAAD4fwAAAAAAAPh/AAAAAAAA+H8AAAAAAAD4fwAAAAAAAPh/AAAAAAAA+H8AAAAAAAD4fwAAAAAAAABAAAAAAAAA+H8AAAAAAAD4fwAAAAAAAPh/AAAAAAAA+H8AAAAAAAD4fwAAAAAAAPh/AAAAAAAA+H8AAAAAAAD4fwAAAAAAAPh/AAAAAAAA+H8AAAAAAAD4fwAAAAAAAPh/AAAAAAAA+H8AAAAAAAD4fwAAAAAAAPA/AAAAAAAA+H8AAAAAAAD4fwAAAAAAAPh/AAAAAAAA+H8AAAAAAAD4fwAAAAAAAPh/AAAAAAAA+H8AAAAAAAD4fwAAAAAAAPh/AAAAAAAA+H8AAAAAAAD4fwAAAAAAAPh/AAAAAAAA+H8AAAAAAAAAQAAAAAAAAPh/AAAAAAAA+H8AAAAAAAD4fwAAAAAAAPA/AAAAAAAA+H8AAAAAAAD4fwAAAAAAAPh/AAAAAAAA+H8AAAAAAAD4fwAAAAAAAPh/AAAAAAAA+H8AAAAAAAD4fwAAAAAAAPh/AAAAAAAA+H8AAAAAAAD4fwAAAAAAAPh/AAAAAAAA+H8AAAAAAAAAQAAAAAAAAPh/AAAAAAAA8D8AAAAAAAD4fwAAAAAAAPh/AAAAAAAA+H8AAAAAAAD4fwAAAAAAAPh/AAAAAAAAAEAAAAAAAAD4fwAAAAAAAPh/AAAAAAAA+H8AAAAAAAD4fwAAAAAAAPh/AAAAAAAA+H8AAAAAAAD4fwAAAAAAAPh/AAAAAAAA+H8AAAAAAAD4fwAAAAAAAPh/AAAAAAAA8D8AAAAAAAD4fwAAAAAAAPh/AAAAAAAA+H8AAAAAAAAAQAAAAAAAAPh/AAAAAAAA+H8AAAAAAAD4fwAAAAAAAPh/AAAAAAAA+H8AAAAAAADwPwAAAAAAAPh/AAAAAAAA+H8AAAAAAAD4fwAAAAAAAABAAAAAAAAA+H8AAAAAAAD4fwAAAAAAAPh/AAAAAAAA+H8AAAAAAAD4fwAAAAAAAPh/AAAAAAAA+H8AAAAAAADwPwAAAAAAAPh/AAAAAAAA+H8AAAAAAAD4fwAAAAAAAPh/AAAAAAAAAEAAAAAAAAD4fwAAAAAAAPh/AAAAAAAA+H8AAAAAAADwPwAAAAAAAPh/AAAAAAAA+H8AAAAAAAD4fwAAAAAAAABAAAAAAAAA+H8AAAAAAAD4fwAAAAAAAPh/AAAAAAAA+H8AAAAAAAD4fwAAAAAAAABAAAAAAAAA+H8AAAAAAAD4fwAAAAAAAPh/AAAAAAAA+H8AAAAAAAD4fwAAAAAAAPh/AAAAAAAA+H8AAAAAAAD4fwAAAAAAAPh/AAAAAAAA+H8AAAAAAAD4fwAAAAAAAPh/\"},\"shape\":[150],\"dtype\":\"float64\",\"order\":\"little\"}]]}}},\"view\":{\"type\":\"object\",\"name\":\"CDSView\",\"id\":\"p1049\",\"attributes\":{\"filter\":{\"type\":\"object\",\"name\":\"AllIndices\",\"id\":\"p1050\"}}},\"glyph\":{\"type\":\"object\",\"name\":\"Segment\",\"id\":\"p1045\",\"attributes\":{\"x0\":{\"type\":\"field\",\"field\":\"index\"},\"y0\":{\"type\":\"field\",\"field\":\"High\"},\"x1\":{\"type\":\"field\",\"field\":\"index\"},\"y1\":{\"type\":\"field\",\"field\":\"Low\"}}},\"nonselection_glyph\":{\"type\":\"object\",\"name\":\"Segment\",\"id\":\"p1046\",\"attributes\":{\"x0\":{\"type\":\"field\",\"field\":\"index\"},\"y0\":{\"type\":\"field\",\"field\":\"High\"},\"x1\":{\"type\":\"field\",\"field\":\"index\"},\"y1\":{\"type\":\"field\",\"field\":\"Low\"},\"line_alpha\":{\"type\":\"value\",\"value\":0.1}}},\"muted_glyph\":{\"type\":\"object\",\"name\":\"Segment\",\"id\":\"p1047\",\"attributes\":{\"x0\":{\"type\":\"field\",\"field\":\"index\"},\"y0\":{\"type\":\"field\",\"field\":\"High\"},\"x1\":{\"type\":\"field\",\"field\":\"index\"},\"y1\":{\"type\":\"field\",\"field\":\"Low\"},\"line_alpha\":{\"type\":\"value\",\"value\":0.2}}}}},{\"type\":\"object\",\"name\":\"GlyphRenderer\",\"id\":\"p1060\",\"attributes\":{\"data_source\":{\"type\":\"object\",\"name\":\"ColumnDataSource\",\"id\":\"p1051\",\"attributes\":{\"selected\":{\"type\":\"object\",\"name\":\"Selection\",\"id\":\"p1052\",\"attributes\":{\"indices\":[],\"line_indices\":[]}},\"selection_policy\":{\"type\":\"object\",\"name\":\"UnionRenderers\",\"id\":\"p1053\"},\"data\":{\"type\":\"map\",\"entries\":[[\"index\",{\"type\":\"ndarray\",\"array\":{\"type\":\"bytes\",\"data\":\"AAAAAAEAAAADAAAACQAAAAoAAAALAAAAEgAAABMAAAAXAAAAGwAAABwAAAAdAAAAIgAAACQAAAAmAAAAJwAAACkAAAAvAAAAMAAAADEAAAA0AAAANgAAADcAAAA5AAAAOgAAAD8AAABBAAAARAAAAEUAAABGAAAARwAAAEgAAABJAAAASwAAAEwAAABQAAAAUQAAAFIAAABTAAAAVAAAAFYAAABYAAAAWQAAAFoAAABfAAAAYQAAAGIAAABjAAAAZAAAAGUAAABoAAAAawAAAGwAAABtAAAAbwAAAHAAAAB0AAAAdQAAAHcAAAB5AAAAegAAAH0AAAB/AAAAgAAAAIEAAACCAAAAgwAAAIYAAACIAAAAiQAAAIwAAACOAAAAkAAAAJUAAAA=\"},\"shape\":[74],\"dtype\":\"int32\",\"order\":\"little\"}],[\"Close\",{\"type\":\"ndarray\",\"array\":{\"type\":\"bytes\",\"data\":\"AAAAgLpudkAAAACAbF12QAAAAGDb7nVAAAAAAI1Yd0ABAADAbt52QAAAACCq2XZAAAAAgH4Vd0ABAABAM+F2QAAAAGBt8nZAAQAAQIW8d0AAAACA58N3QAAAAODse3dAAAAAIACEeEAAAACA+eF4QAEAAEDTz3hAAAAAAJq2eEAAAABAfDt5QAAAAKCNXHlAAQAAwFzVeEABAABA+8V4QAAAAKC0WXhAAAAA4IHsd0AAAADg5713QAAAAMCvkHdAAAAAAO15d0AAAABg6p13QAAAAAAVcHdAAAAAIJsrd0AAAAAAI8R2QAAAAIAuk3ZAAAAAIFoydkAAAACgI/p1QAAAAODG63VAAAAAgKridUAAAAAgB4x1QAAAAABug3ZAAAAAgKridUAAAAAg47d1QAAAAECtlHVAAAAAIHSCdUAAAAAg+pJ1QAAAAGB2Y3ZAAAAAgNg6dkAAAABgIAt2QAAAAKAi7HZAAQAAwFhMd0AAAAAgPzJ3QAAAAEA4nXZAAAAAAJxhdkAAAACAE7R2QAAAAIDKkXZAAQAAQPLVd0AAAABg/Ql4QAAAAOAK23dAAAAA4P/jd0AAAACgws13QAAAAIAl4ndAAAAA4KTXd0AAAADAR5N4QAEAAED6GnhAAQAAQAbCd0AAAADAh7l3QAAAAIC7P3hAAAAAAAsYeEAAAACgKYF3QAAAAIAfOndAAAAAoLMHd0AAAADgjxJ3QAAAAIAcHXdAAAAAIJPTdkAAAAAAHRR3QAAAAADG/XZAAAAAIFWBd0AAAABgFBt4QA==\"},\"shape\":[74],\"dtype\":\"float64\",\"order\":\"little\"}],[\"High\",{\"type\":\"ndarray\",\"array\":{\"type\":\"bytes\",\"data\":\"eHehNATXdkAfDatuwJt2QLXs8MqNMHZAfh8JSieDd0CAEzJ21p53QD7fsRdZ93ZAxarJ6xg+d0DZCCUlLTN3QA4UDqo9YHdAPbJXHM4KeECXmMMMv9F3QJuP1Q+urHdAlskravrPeEDTFMHAH/B4QMzF6/wIF3lA+YyUMyLMeED76TddxYd5QK77ov6JjHlAzHGFggkReUC6UDHNMvV4QDhzTxoGO3lA3bKKpxhHeEAwp+btGxt4QCwzuHEHIHhAXEPBSJqtd0CdIDVrtzd4QPL9NtfmyXdA6ArorfRKd0B4x+piOHx3QCKC/qIw0nZATIKz15VbdkAb3UIfQVV2QC4HXT8wWHZA2Px4b2EldkBb/koH2RJ2QOGfkSet2HZAjYc3BtKEdkCoSCs1mPh1QOaq9C5f5nVAphyHgMy0dUD8fTKQBlZ2QA11/20tpnZAgsqTrJRudkAoaMapPnt2QFLakAqpOXdALFhx4Cpud0Dkbacj5ox3QBo8FCW4cXdAnZzwmt+SdkBcHak4/tp2QA0XMmoM/nZAB73t1hYkeEB0mYiw+0R4QGX45GwG/3dACO2aD33/d0B+nxNyweB3QFbHqITRLXhAsvk2e5z3d0DWypjXvbt4QKl6085xbXhAD3efsCcheEC90kjUjfx3QBh8ghZPw3hAWOgSPT92eECHMdMm9Nd3QO4p75d5bXdAG9Fr5qdCd0CSOgwZvGd3QEC0OttCOHdA/GluQfw7d0A3wGTMJWt3QASOqi7wI3dA8lb+j+/bd0BmI+CtPkF4QA==\"},\"shape\":[74],\"dtype\":\"float64\",\"order\":\"little\"}],[\"Low\",{\"type\":\"ndarray\",\"array\":{\"type\":\"bytes\",\"data\":\"rdUD07FUdkCl3WuxMSt2QF7MSf9/x3VABXLQH91Gd0ANNvFKltx2QBJxpZEivHZAXX98OUQKd0BmrTyg5sR2QCIJDziW3nZA04Jd+YeYd0DciDlmm593QB5wq8x3bXdA+sAq6O1weEArzXbrXcd4QEgob/b7vXhA2l/L0zileECBYWAofS95QC+EmEBnTnlAYUBLQ8DGeEAGleeLD714QEgneWXIWHhA31hid4TKd0AkkgK3wLt3QG83j3xPc3dAuY8Gue9Vd0BV2HlixIt3QFA28QZ5W3dA/vhUo/n+dkAkpDZt+8N2QMxUxcoih3ZAdwut52LqdUCMpYEtX+Z1QELVQZsDxXVAJDUSRPKydUBm3Guz3Yl1QKM3QR1me3ZAD01nihjGdUAhGlCMmJN1QLE3sLFTdXVALPmdLnB+dUDUb/k9oYh1QA4ajEG2K3ZAD1RasUkNdkAyjDGFxf51QOPzi8QY4nZAaFunBK09d0DipsVsQB93QAUg42yFm3ZAAAgDRlM/dkC/ldrjAlJ2QIbvU53CiXZASR0jtXfRd0Dq7512N8x3QKrgq5DZ0HdAxCK1A9O1d0DoCE9x9K93QF4QK6XK1XdAzcd2kta5d0A33J0Vqmp4QM6K+2AMBXhAbcNrPjSgd0CTBVHHhbd3QBzlNnDyEnhA70qlxFLod0BqvKycSmZ3QC/xXNaGF3dAA/kUBrXsdkBBiS+dQLZ2QMBLxST2AXdANn/T+NnPdkC5rcG8ueV2QD+ub5sn9HZAR71doGJ+d0C1KbGMEBB4QA==\"},\"shape\":[74],\"dtype\":\"float64\",\"order\":\"little\"}],[\"Open\",{\"type\":\"ndarray\",\"array\":{\"type\":\"bytes\",\"data\":\"mpmwUAC5dkBBH3U+D4t2QLVtChD4KXZA90gKvGJ+d0B3wJQwxnF3QPnnEWJa53ZAxfvx6Wgud0BCw4t5kgx3QB8lQzZSVXdAUlifMG33d0ApzJkvrMZ3QCtlotlLqXdAzi5DqE2UeEAdHorjDOV4QJpQmZiV8nhARnppb/vDeEDJKnApoGl5QJgd6I07iHlAMX8ptEQOeUAthRK4cM54QGZoTu5BMnlAR44SVEBDeECD8P8R9gZ4QL/3c7NXDHhAUVs9ZGCed0CEJB/3LiR4QBvbxu3Cm3dAiiG/AJY6d0BhZqU1zUp3QBAKYKagt3ZAK0lxq/dadkBulQv0kRp2QC7kT/NuM3ZAy5ytcL8gdkCD1CosYNN1QIDMVFnNqHZAt5Xb9xpCdkB135LWu/R1QPppNf1lnHVAZk6TSVGbdUCfg7YHnjt2QAMjp0k8oXZAGxNZqmlCdkC42cF3ljN2QB/MjdvaG3dA4iTpF+ZPd0BFEBjFCYl3QEOKnCasKHdA8fzykLZodkDaTZM8Hb52QEFK0J5c63ZAg1fbo7rtd0C+rwakETN4QNzGjvKU73dAwwHeSWj+d0A+2gpfiM53QEOp+odBE3hAGup6ok7kd0BdT24Fv6h4QNfwCXpPXnhA81aQTFoYeEA3bKOJKtN3QDk9PbEjv3hASVrwJiw6eECATKNMSMl3QLL5F1XBV3dA82n4zTk9d0CEU525tTZ3QGylfyCtMndAHXXAlAYcd0Dcdew+MEt3QD+wE5sTIndAb6HH9UWod0BWGlZSGCZ4QA==\"},\"shape\":[74],\"dtype\":\"float64\",\"order\":\"little\"}],[\"Volume\",{\"type\":\"ndarray\",\"array\":{\"type\":\"bytes\",\"data\":\"pBEiChgYMwZU5gMIADrvA6ShKAXgIuoDtJt6A8BjtQMQacQDtKRNBAxaMgPg5ScDiPLHAxiquAKUPDYD2JqtAqS9iwME2w0EcIqhBDBJ7QKY+yQGsPMaBQQfiATkQ/AF2GSRBBwGVAeILzkFFB+bBOjSXAZYPlUFlN1KB1CthAXUb3QG7IO7BmByKQk8T+gEvLxsBjBSiATwLIMFOM2WBKgTYAeUlsoFVNfABNwXQwVYyuIEBHrCBXA3FwVAuJEHxAoxBTBdKwYMv60EDClJBAQJjgVUWxUEhOKJBcDoDQOAygsE8C8eA3i+jQRIWZsE6MKlBBTL2gRkxWAHxKVxBqwMBAdQ4yQH1NfCBES59wW47xMDDAY6BIwhdgQEepYE9NBoBDRhvAM=\"},\"shape\":[74],\"dtype\":\"int32\",\"order\":\"little\"}],[\"fecha\",{\"type\":\"ndarray\",\"array\":{\"type\":\"bytes\",\"data\":\"AAAAw6UVeEIAAMAo+BV4QgAAQPScFnhCAACAUycaeEIAAEC5eRp4QgAAAB/MGnhCAAAA5KgeeEIAAMBJ+x54QgAAQKzpIHhCAABAQzMieEIAAIB0KiN4QgAAQNp8I3hCAACAor0leEIAAABuYiZ4QgAAAAWsJ3hCAADAav4neEIAAEA2oyh4QgAAQGQ2K3hCAACAlS0seEIAAED7fyx4QgAAgCx3LXhCAACAw8AueEIAAEApEy94QgAAwPS3L3hCAADAiwExeEIAAABUQjN4QgAAgB/nM3hCAABAHIM1eEIAAACC1TV4QgAAwOcnNnhCAACATXo2eEIAAMB+cTd4QgAAgOTDN3hCAAAAsGg4eEIAAMAVuzh4QgAAQHipOnhCAAAA3vs6eEIAAEAP8zt4QgAAAHVFPHhCAADA2pc8eEIAAECmPD14QgAAQD2GPnhCAAAAo9g+eEIAAMAIKz94QgAAANFrQXhCAAAAaLVCeEIAAMDNB0N4QgAAgDNaQ3hCAABAmaxDeEIAAAD//kN4QgAAwPuaRXhCAACA+DZHeEIAAEBeiUd4QgAAAMTbR3hCAACAj4BIeEIAAMDAd0l4QgAAAIm4S3hCAADA7gpMeEIAAEC6r0x4QgAAQFH5TXhCAAAAt0tOeEIAAEDoQk94QgAAQH+MUHhCAAAA5d5QeEIAAMBKMVF4QgAAgLCDUXhCAADA4XpSeEIAAAATclN4QgAAwA8OVXhCAACAdWBVeEIAAADYTld4QgAAgKPzV3hCAACAOj1ZeEIAAIBo0Ft4Qg==\"},\"shape\":[74],\"dtype\":\"float64\",\"order\":\"little\"}],[\"companyName\",{\"type\":\"ndarray\",\"array\":[\"SPY\",\"SPY\",\"SPY\",\"SPY\",\"SPY\",\"SPY\",\"SPY\",\"SPY\",\"SPY\",\"SPY\",\"SPY\",\"SPY\",\"SPY\",\"SPY\",\"SPY\",\"SPY\",\"SPY\",\"SPY\",\"SPY\",\"SPY\",\"SPY\",\"SPY\",\"SPY\",\"SPY\",\"SPY\",\"SPY\",\"SPY\",\"SPY\",\"SPY\",\"SPY\",\"SPY\",\"SPY\",\"SPY\",\"SPY\",\"SPY\",\"SPY\",\"SPY\",\"SPY\",\"SPY\",\"SPY\",\"SPY\",\"SPY\",\"SPY\",\"SPY\",\"SPY\",\"SPY\",\"SPY\",\"SPY\",\"SPY\",\"SPY\",\"SPY\",\"SPY\",\"SPY\",\"SPY\",\"SPY\",\"SPY\",\"SPY\",\"SPY\",\"SPY\",\"SPY\",\"SPY\",\"SPY\",\"SPY\",\"SPY\",\"SPY\",\"SPY\",\"SPY\",\"SPY\",\"SPY\",\"SPY\",\"SPY\",\"SPY\",\"SPY\",\"SPY\"],\"shape\":[74],\"dtype\":\"object\",\"order\":\"little\"}],[\"SMA20\",{\"type\":\"ndarray\",\"array\":{\"type\":\"bytes\",\"data\":\"AAAAAAAA+H8AAAAAAAD4fwAAAAAAAPh/AAAAAAAA+H8AAAAAAAD4fwAAAAAAAPh/AAAAAAAA+H8zMzMrBMt2QM3MzJRW5nZAzczMJKgpd0BmZmbu4C13QJqZmbmlL3dAMzMz25uYd0AAAAAg98N3QJqZmTkn7XdAAQAAkJ8EeEA0MzObokR4QAEAALh26XhANDMz+yL3eEA0MzOzowd5QAEAAOiMFnlAAQAAULcIeUCamZm55fl4QJqZmeHr23hAmpmZkdPKeEDNzMw8HH94QM3MzMQGSHhAZmZmFs36d0AAAADgG+F3QDMzMyv0w3dAMzMzW3edd0CamZmBFn93QJqZmWkNYndAmpmZwSw2d0AzMzObIBl3QAAAAAh+23ZAMzMzw/K6dkBmZmae55R2QDMzM8PXenZAzczMXLdedkBmZmb+uzd2QGZmZrbyHHZAMzMzYxUWdkCamZnhRw92QM3MzGwyRnZAZmZmxuptdkBmZmaG+XJ2QGZmZq5CcXZAAAAAyJFvdkAzMzM7Cnp2QAAAAJC6qXZAZmZm1lL1dkAAAAAwcwp3QJqZmYFCH3dAmpmZ4U5Gd0AAAABQclJ3QAAAAABYhHdAmpmZAU+Ld0DNzMyES7Z3QJqZmfH143dAZmZmpq3ud0CamZmRRwd4QGZmZpboDHhAAAAAeJwNeECamZkBHgl4QDMzM2sBAnhAMzMzm/32d0BmZmYu5tR3QGZmZuZovXdAMzMzA2iwd0BmZmb+V3p3QAAAACirZXdAzczMxAZed0DNzMyECGJ3QA==\"},\"shape\":[74],\"dtype\":\"float64\",\"order\":\"little\"}],[\"SMA40\",{\"type\":\"ndarray\",\"array\":{\"type\":\"bytes\",\"data\":\"AAAAAAAA+H8AAAAAAAD4fwAAAAAAAPh/AAAAAAAA+H8AAAAAAAD4fwAAAAAAAPh/AAAAAAAA+H8AAAAAAAD4fwAAAAAAAPh/AAAAAAAA+H8AAAAAAAD4fwAAAAAAAPh/AAAAAAAA+H8AAAAAAAD4fwAAAAAAAPh/mpmZ3dFnd0BmZmYaF4x3QGZmZm6PCXhAzczM9IESeEBmZma2pBt4QM3MzJQwQnhAmpmZlalQeEBmZmbiP1V4QGZmZqJ6WXhAmpmZZf1beEAAAAAcDIR4QGZmZr4ng3hAzczMCPh4eECamZnJX3R4QGZmZiKnanhAmpmZqZNceEDNzMy00Up4QDMzM+srOXhAmpmZPQkYeEAzMzP7rwJ4QJqZmc1mxndAzczMKPuwd0AAAADgwZd3QAAAAAD6fHdAzczM0Gphd0DNzMygNjB3QGZmZubfC3dAmpmZoZj7dkBmZmYGnul2QDMzM5cvvnZAMzMzGz+6dkAAAABcdLh2QM3MzNg8sHZAAAAA6IeldkAzMzN/fpp2QGZmZvY4hHZAmpmZsSOOdkA0MzPzspN2QGdmZvKrmnZAZ2ZmAj6tdkDOzMzI7rh2QJqZmS2Q8XZAAQAA5Jz8dkCamZkZxxN3QGdmZhYAL3dAAQAAxA08d0DOzMyol2N3QGdmZrYdgXdAAQAA1AeMd0CamZlBMJR3QDQzM2/Dm3dAZ2ZmPqaed0CamZkZVaF3QDQzM3PgoHdAZmZmgtudd0AAAAAALqZ3QDMzM2csqndAMzMzhzKzd0AzMzNDk7V3QA==\"},\"shape\":[74],\"dtype\":\"float64\",\"order\":\"little\"}],[\"SMA100\",{\"type\":\"ndarray\",\"array\":{\"type\":\"bytes\",\"data\":\"AAAAAAAA+H8AAAAAAAD4fwAAAAAAAPh/AAAAAAAA+H8AAAAAAAD4fwAAAAAAAPh/AAAAAAAA+H8AAAAAAAD4fwAAAAAAAPh/AAAAAAAA+H8AAAAAAAD4fwAAAAAAAPh/AAAAAAAA+H8AAAAAAAD4fwAAAAAAAPh/AAAAAAAA+H8AAAAAAAD4fwAAAAAAAPh/AAAAAAAA+H8AAAAAAAD4fwAAAAAAAPh/AAAAAAAA+H8AAAAAAAD4fwAAAAAAAPh/AAAAAAAA+H8AAAAAAAD4fwAAAAAAAPh/AAAAAAAA+H8AAAAAAAD4fwAAAAAAAPh/AAAAAAAA+H8AAAAAAAD4fwAAAAAAAPh/AAAAAAAA+H8AAAAAAAD4fwAAAAAAAPh/AAAAAAAA+H8AAAAAAAD4fwAAAAAAAPh/AAAAAAAA+H8AAAAAAAD4fwAAAAAAAPh/AAAAAAAA+H8AAAAAAAD4fwAAAAAAAPh/AAAAAAAA+H8AAAAAAAD4fzMzMxtNY3dA16NwhStjd0AfhetZCWR3QNejcO3+aHdAj8L1ABlzd0BI4XqUpHR3QLgehaPydXdAUrgeTfN6d0CPwvXY3X13QIXrUbDkiHdAXI/C5SaKd0CF61FgW5J3QFK4HgWFmndAuB6FQxucd0AUrkeR9Z53QK5H4UqMoHdAAAAAsGOhd0CF61EYcaF3QI/C9QA5n3dApHA9yrmbd0CF61HAcpB3QDMzMwuVh3dAXI/CBW2Cd0BxPQpH8nR3QDMzM+MOaXdAAAAAQGRdd0A9CtfbHk13QA==\"},\"shape\":[74],\"dtype\":\"float64\",\"order\":\"little\"}],[\"SMA200\",{\"type\":\"ndarray\",\"array\":{\"type\":\"bytes\",\"data\":\"AAAAAAAA+H8AAAAAAAD4fwAAAAAAAPh/AAAAAAAA+H8AAAAAAAD4fwAAAAAAAPh/AAAAAAAA+H8AAAAAAAD4fwAAAAAAAPh/AAAAAAAA+H8AAAAAAAD4fwAAAAAAAPh/AAAAAAAA+H8AAAAAAAD4fwAAAAAAAPh/AAAAAAAA+H8AAAAAAAD4fwAAAAAAAPh/AAAAAAAA+H8AAAAAAAD4fwAAAAAAAPh/AAAAAAAA+H8AAAAAAAD4fwAAAAAAAPh/AAAAAAAA+H8AAAAAAAD4fwAAAAAAAPh/AAAAAAAA+H8AAAAAAAD4fwAAAAAAAPh/AAAAAAAA+H8AAAAAAAD4fwAAAAAAAPh/AAAAAAAA+H8AAAAAAAD4fwAAAAAAAPh/AAAAAAAA+H8AAAAAAAD4fwAAAAAAAPh/AAAAAAAA+H8AAAAAAAD4fwAAAAAAAPh/AAAAAAAA+H8AAAAAAAD4fwAAAAAAAPh/AAAAAAAA+H8AAAAAAAD4fwAAAAAAAPh/AAAAAAAA+H8AAAAAAAD4fwAAAAAAAPh/AAAAAAAA+H8AAAAAAAD4fwAAAAAAAPh/AAAAAAAA+H8AAAAAAAD4fwAAAAAAAPh/AAAAAAAA+H8AAAAAAAD4fwAAAAAAAPh/AAAAAAAA+H8AAAAAAAD4fwAAAAAAAPh/AAAAAAAA+H8AAAAAAAD4fwAAAAAAAPh/AAAAAAAA+H8AAAAAAAD4fwAAAAAAAPh/AAAAAAAA+H8AAAAAAAD4fwAAAAAAAPh/AAAAAAAA+H8AAAAAAAD4fw==\"},\"shape\":[74],\"dtype\":\"float64\",\"order\":\"little\"}],[\"pivotHigh\",{\"type\":\"ndarray\",\"array\":{\"type\":\"bytes\",\"data\":\"AAAAAAAA+H8AAAAAAAD4fwAAAAAAAPh/AAAAAAAA+H8AAAAAAAD4fwAAAAAAAPh/AAAAAAAA+H8AAAAAAAD4fwAAAAAAAPh/AAAAAAAA+H8AAAAAAAD4fwAAAAAAAPh/AAAAAAAA+H8AAAAAAAD4fwAAAAAAAPh/AAAAAAAA+H8AAAAAAAD4fwAAAAAAAPh/AAAAAAAA+H8AAAAAAAD4fwAAAAAAAPh/AAAAAAAA+H8AAAAAAAD4fwAAAAAAAPh/AAAAAAAA+H8AAAAAAAD4fwAAAAAAAPh/AAAAAAAA+H8AAAAAAAD4fwAAAAAAAPh/AAAAAAAA+H8AAAAAAAD4fwAAAAAAAPh/AAAAAAAA+H8AAAAAAAD4fwAAAAAAAPh/AAAAAAAA+H8AAAAAAAD4fwAAAAAAAPh/AAAAAAAA+H8AAAAAAAD4fwAAAAAAAPh/AAAAAAAA+H8AAAAAAAD4fwAAAAAAAPh/AAAAAAAA+H8AAAAAAAD4fwAAAAAAAPh/AAAAAAAA+H8AAAAAAAD4fwAAAAAAAPh/AAAAAAAA+H8AAAAAAAD4fwAAAAAAAPh/AAAAAAAA+H8AAAAAAAD4fwAAAAAAAPh/AAAAAAAA+H8AAAAAAAD4fwAAAAAAAPh/AAAAAAAA+H8AAAAAAAD4f9TwFS9Tw3hAAAAAAAAA+H8AAAAAAAD4fwAAAAAAAPh/AAAAAAAA+H8AAAAAAAD4fwAAAAAAAPh/AAAAAAAA+H8AAAAAAAD4fwAAAAAAAPh/AAAAAAAA+H8AAAAAAAD4fw==\"},\"shape\":[74],\"dtype\":\"float64\",\"order\":\"little\"}],[\"pivotLow\",{\"type\":\"ndarray\",\"array\":{\"type\":\"bytes\",\"data\":\"AAAAAAAA+H8AAAAAAAD4f6JXtuZ7x3VAAAAAAAAA+H8AAAAAAAD4fwAAAAAAAPh/AAAAAAAA+H8AAAAAAAD4fwAAAAAAAPh/AAAAAAAA+H8AAAAAAAD4f2L7F7RzbXdAAAAAAAAA+H8AAAAAAAD4fwAAAAAAAPh/AAAAAAAA+H8AAAAAAAD4fwAAAAAAAPh/AAAAAAAA+H8AAAAAAAD4fwAAAAAAAPh/AAAAAAAA+H8AAAAAAAD4fwAAAAAAAPh//RpzoOtVd0AAAAAAAAD4fwAAAAAAAPh/AAAAAAAA+H8AAAAAAAD4fwAAAAAAAPh/AAAAAAAA+H8AAAAAAAD4fwAAAAAAAPh/AAAAAAAA+H+qZ9ia2Yl1QAAAAAAAAPh/AAAAAAAA+H8AAAAAAAD4fwAAAAAAAPh/cIQKFmx+dUAAAAAAAAD4fwAAAAAAAPh/AAAAAAAA+H8AAAAAAAD4fwAAAAAAAPh/AAAAAAAA+H8AAAAAAAD4fwAAAAAAAPh/RJNvLU8/dkAAAAAAAAD4fwAAAAAAAPh/AAAAAAAA+H8AAAAAAAD4fwAAAAAAAPh/AAAAAAAA+H8AAAAAAAD4fwAAAAAAAPh/AAAAAAAA+H8AAAAAAAD4fwAAAAAAAPh/AAAAAAAA+H8AAAAAAAD4fwAAAAAAAPh/AAAAAAAA+H8AAAAAAAD4fwAAAAAAAPh/R4SB7bDsdkAAAAAAAAD4fwAAAAAAAPh/egpA4NXPdkAAAAAAAAD4fwAAAAAAAPh/AAAAAAAA+H8AAAAAAAD4fw==\"},\"shape\":[74],\"dtype\":\"float64\",\"order\":\"little\"}],[\"isPivot\",{\"type\":\"ndarray\",\"array\":{\"type\":\"bytes\",\"data\":\"AAAAAAAA+H8AAAAAAAD4fwAAAAAAAABAAAAAAAAA+H8AAAAAAAD4fwAAAAAAAPh/AAAAAAAA+H8AAAAAAAD4fwAAAAAAAPh/AAAAAAAA+H8AAAAAAAD4fwAAAAAAAABAAAAAAAAA+H8AAAAAAAD4fwAAAAAAAPh/AAAAAAAA+H8AAAAAAAD4fwAAAAAAAPh/AAAAAAAA+H8AAAAAAAD4fwAAAAAAAPh/AAAAAAAA+H8AAAAAAAD4fwAAAAAAAPh/AAAAAAAAAEAAAAAAAAD4fwAAAAAAAPh/AAAAAAAA+H8AAAAAAAD4fwAAAAAAAPh/AAAAAAAA+H8AAAAAAAD4fwAAAAAAAPh/AAAAAAAA+H8AAAAAAAAAQAAAAAAAAPh/AAAAAAAA+H8AAAAAAAD4fwAAAAAAAPh/AAAAAAAAAEAAAAAAAAD4fwAAAAAAAPh/AAAAAAAA+H8AAAAAAAD4fwAAAAAAAPh/AAAAAAAA+H8AAAAAAAD4fwAAAAAAAPh/AAAAAAAAAEAAAAAAAAD4fwAAAAAAAPh/AAAAAAAA+H8AAAAAAAD4fwAAAAAAAPh/AAAAAAAA+H8AAAAAAAD4fwAAAAAAAPh/AAAAAAAA+H8AAAAAAAD4fwAAAAAAAPh/AAAAAAAA+H8AAAAAAAD4fwAAAAAAAPA/AAAAAAAA+H8AAAAAAAD4fwAAAAAAAPh/AAAAAAAAAEAAAAAAAAD4fwAAAAAAAPh/AAAAAAAAAEAAAAAAAAD4fwAAAAAAAPh/AAAAAAAA+H8AAAAAAAD4fw==\"},\"shape\":[74],\"dtype\":\"float64\",\"order\":\"little\"}]]}}},\"view\":{\"type\":\"object\",\"name\":\"CDSView\",\"id\":\"p1061\",\"attributes\":{\"filter\":{\"type\":\"object\",\"name\":\"AllIndices\",\"id\":\"p1062\"}}},\"glyph\":{\"type\":\"object\",\"name\":\"VBar\",\"id\":\"p1057\",\"attributes\":{\"x\":{\"type\":\"field\",\"field\":\"index\"},\"width\":{\"type\":\"value\",\"value\":0.6},\"bottom\":{\"type\":\"field\",\"field\":\"Open\"},\"top\":{\"type\":\"field\",\"field\":\"Close\"},\"line_color\":{\"type\":\"value\",\"value\":\"red\"},\"fill_color\":{\"type\":\"value\",\"value\":\"red\"}}},\"nonselection_glyph\":{\"type\":\"object\",\"name\":\"VBar\",\"id\":\"p1058\",\"attributes\":{\"x\":{\"type\":\"field\",\"field\":\"index\"},\"width\":{\"type\":\"value\",\"value\":0.6},\"bottom\":{\"type\":\"field\",\"field\":\"Open\"},\"top\":{\"type\":\"field\",\"field\":\"Close\"},\"line_color\":{\"type\":\"value\",\"value\":\"red\"},\"line_alpha\":{\"type\":\"value\",\"value\":0.1},\"fill_color\":{\"type\":\"value\",\"value\":\"red\"},\"fill_alpha\":{\"type\":\"value\",\"value\":0.1},\"hatch_alpha\":{\"type\":\"value\",\"value\":0.1}}},\"muted_glyph\":{\"type\":\"object\",\"name\":\"VBar\",\"id\":\"p1059\",\"attributes\":{\"x\":{\"type\":\"field\",\"field\":\"index\"},\"width\":{\"type\":\"value\",\"value\":0.6},\"bottom\":{\"type\":\"field\",\"field\":\"Open\"},\"top\":{\"type\":\"field\",\"field\":\"Close\"},\"line_color\":{\"type\":\"value\",\"value\":\"red\"},\"line_alpha\":{\"type\":\"value\",\"value\":0.2},\"fill_color\":{\"type\":\"value\",\"value\":\"red\"},\"fill_alpha\":{\"type\":\"value\",\"value\":0.2},\"hatch_alpha\":{\"type\":\"value\",\"value\":0.2}}}}},{\"type\":\"object\",\"name\":\"GlyphRenderer\",\"id\":\"p1072\",\"attributes\":{\"data_source\":{\"type\":\"object\",\"name\":\"ColumnDataSource\",\"id\":\"p1063\",\"attributes\":{\"selected\":{\"type\":\"object\",\"name\":\"Selection\",\"id\":\"p1064\",\"attributes\":{\"indices\":[],\"line_indices\":[]}},\"selection_policy\":{\"type\":\"object\",\"name\":\"UnionRenderers\",\"id\":\"p1065\"},\"data\":{\"type\":\"map\",\"entries\":[[\"index\",{\"type\":\"ndarray\",\"array\":{\"type\":\"bytes\",\"data\":\"AgAAAAQAAAAFAAAABgAAAAcAAAAIAAAADAAAAA0AAAAOAAAADwAAABAAAAARAAAAFAAAABUAAAAWAAAAGAAAABkAAAAaAAAAHgAAAB8AAAAgAAAAIQAAACMAAAAlAAAAKAAAACoAAAArAAAALAAAAC0AAAAuAAAAMgAAADMAAAA1AAAAOAAAADsAAAA8AAAAPQAAAD4AAABAAAAAQgAAAEMAAABKAAAATQAAAE4AAABPAAAAVQAAAFcAAABbAAAAXAAAAF0AAABeAAAAYAAAAGYAAABnAAAAaQAAAGoAAABuAAAAcQAAAHIAAABzAAAAdgAAAHgAAAB7AAAAfAAAAH4AAACEAAAAhQAAAIcAAACKAAAAiwAAAI0AAACPAAAAkQAAAJIAAACTAAAAlAAAAA==\"},\"shape\":[76],\"dtype\":\"int32\",\"order\":\"little\"}],[\"Close\",{\"type\":\"ndarray\",\"array\":{\"type\":\"bytes\",\"data\":\"AAAAQAyvdkAAAADg9fp1QAEAAMCciHZAAAAAQCd+dkABAABAmbZ2QAAAAMB3b3dAAAAAACSqdkAAAADgged2QAAAAKCU8nZAAAAA4GsGd0AAAADgs153QAAAAADIWXdAAAAA4HDCdkABAADASrR2QAAAAOBVI3dAAQAAQCaRd0AAAACAmbd3QAAAAGBt9XdAAAAAoAgYeEAAAAAAZWV4QAAAAOBxwHhAAAAAYK6teEAAAACgR+Z4QAEAAEA113hAAAAAQHw7eUAAAACA1qh5QAAAAEDow3lAAAAAgNPQeUAAAAAA66F5QAAAAAD9tHlAAAAAoEjaeEAAAABgGjR5QAEAAMB8MHhAAAAAIPrQd0ABAADA5OV3QAAAAKDhDXhAAAAA4ItteEAAAAAAwrB4QAAAACD8tHdAAAAA4E5Cd0AAAADAe3B3QAAAACAyWnZAAAAAYKgddkAAAAAgGM12QAAAACCBv3ZAAAAAYMYTdkAAAADg5iB2QAEAAEBDlHZAAAAAAP7adkABAADAbDh3QAAAAICjC3dAAAAAwL13d0AAAAAgrOt2QAAAAIBUC3dAAAAAIE7Pd0AAAACATAp4QAEAAEBbyHdAAAAAwMMfeEAAAACgrkZ4QAAAAIBKRXhAAAAA4OmXeEAAAADABYx4QAAAAICtt3dAAQAAQD7nd0AAAACgFxF4QAAAAODED3dAAAAAwAtod0AAAADgiTR3QAEAAMDCPHdAAQAAQBctd0AAAADAuUF3QAAAAOC+hHdAAAAA4Ierd0AAAADAK/h3QAAAACCDDnhAAAAAYGcmeEA=\"},\"shape\":[76],\"dtype\":\"float64\",\"order\":\"little\"}],[\"High\",{\"type\":\"ndarray\",\"array\":{\"type\":\"bytes\",\"data\":\"iex76gX3dkBrksxCGTF2QAVcPS4Rn3ZA8nwMub/AdkDxC1nucMJ2QNrbVymfb3dA2Gi+OJbedkAVyRsfle52QCPtrnLj8nZAOG/Sl7cud0DWgy0yn2t3QLm0Yn4UeHdAqg4jQPfxdkBZnPE208V2QIv3DVUuJXdA8jcRqGCad0C1RzIqhM53QGDpLjEy9ndAEdY2QFU0eEBhzqcnn3B4QFFmdLRw0HhA4K5j6kjWeECnBYxuMvl4QBW8kJaq4XhApH4U8co9eUCqLbaLh6p5QOiV5dZdzHlAOsHROAzweUDJxp1XwM15QNWhUL4PwHlApIN4O27weECAZi8x3zR5QOCVXXbbYXhAYy8tf4PWd0CZfeH0WfJ3QLZJLXRDFXhANX0O1op7eED9Rcpjcrx4QBSSz9WXzXdA0z/IyPZMd0AAAADAe3B3QJ0HvryHdXZAFYaZIZ47dkBx9Xm5js12QFuTbNka5HZAoPDXw44rdkATEZLs0DJ2QBr3D3EjnHZADgrbpV7tdkCHJThYhT13QEgnhdOAYXdAFbscfXZ/d0CI7SFDP/V2QPo6zlSDO3dAVpjH3bXUd0BNHCxoRRd4QLOudE5S03dAabPx5GMieEDN/RHRjk54QOgNnpU/TnhAAAAA4OmXeECDtlF7sZp4QKNcWiv63XdA6e1jIIr4d0AAAACgFxF4QJC6WfH8KXdA+q9dP1p6d0AjA32Y3TZ3QMcRN/PgSndAR+53+Govd0AmWnWXnWJ3QOHk2rzllndATnYW652sd0DI8mSMafl3QJsBs7c/JnhABsbjYLYveEA=\"},\"shape\":[76],\"dtype\":\"float64\",\"order\":\"little\"}],[\"Low\",{\"type\":\"ndarray\",\"array\":{\"type\":\"bytes\",\"data\":\"6hwe959CdkCHybpVNcJ1QKlqfBl5VnZAiXY+HWc9dkAWs0B0FWd2QOD7KtyB6XZAEpKnCAJidkD0ripSFHV2QDG66qg8Z3ZArFkCvUjOdkBUWql9ugZ3QPIBL618K3dAxAhPYk6CdkBL58l8oUp2QPMdGqq93HZAkIjPslUnd0Cfk2UFFH53QOPKH0ROh3dAjT3xyIasd0Dt+C2Alet3QFk/kCQpcHhAHTzC+zqJeEBtACmT1qF4QIz3t+avm3hA/6IvTzEJeUCou2kJe0t5QFZ1GXYUhHlA2DU+RnSleUBQlUpYd4F5QC4eQMk6kHlAWyiYkze3eEAf+6EivuB4QINjHW9+GnhAF/MdG9pud0B4NQQKUHF3QLEb8BCarXdA1vrYYN8teEC2C9VTJ4p4QCYhq0N2f3dA4cAWVAcNd0Aks6AdHA53QHiCMhO733VAmQopqmCrdUCqVqt/Ch12QEIKs9SuYHZAAaGiMfX/dEBzKe+oko11QFt8BF0/7nVAyZhW7gmCdkAXkG2D59d2QEADzrxKAXdAH4sCSYDndkCtY6eyaad2QNBbvJ47yXZA6zg1M4tDd0A8QapcoL53QBM94BUKiXdAyEj9umjWd0Cztfs+pxZ4QP08+VYXOXhAHpdej568d0ASYQ60W0J4QLzZ7tlMpXdA0aINamC5d0AIgmNUibt3QIGO2ywJ5nZAIazfIiAxd0DJXcpJ1Oh2QP22m14e+XZAwW+wuAjvdkAmGm9fZAd3QKPR0uQ8/nZAa1HgJqpod0A+Mu5B8bd3QIOraQAUyHdA/JExvVnWd0A=\"},\"shape\":[76],\"dtype\":\"float64\",\"order\":\"little\"}],[\"Open\",{\"type\":\"ndarray\",\"array\":{\"type\":\"bytes\",\"data\":\"tNQWqt6SdkBIRjLqk/V1QAMhtCa0V3ZAc5WciStEdkB61l5YwqB2QHPzb/n36XZAOw3KSJuadkAi9sZRh592QKb6gt4RlXZAX75YSuP0dkCWbAaHLiN3QKsMo60/RHdAHEG1zhKJdkCEDMZEKHJ2QHdHSZCn+3ZAbO/pU/Ixd0B7/KS/OZR3QOuWwKM3rndAVzH3Vkuxd0CefkkZGyV4QCq+elmefHhA7ewm9sOUeEByhMq3c6Z4QM3RQCGcnHhAH+dWJeAoeUDqGDNX3Fp5QG/VobAAhXlAst60AYeyeUDkP9puiZZ5QLo7MXYlpXlAVhzzUUrCeEC7qLsCbvJ4QNrK87zfKXhA6BhOcq+ad0DC8siK2XR3QF9Zw4QiwXdAKGST0S0yeECWOTFLE494QPgom0H8sndABsYPAWEsd0A6RSZ2WA93QCv6uUI4+3VAJjYHpkHIdUAWqhU5E3d2QDAl3lNdhnZAK988C/IQdUDeS3KcgfV1QDqoI86lBnZA4LzatvisdkAwb1Ppwdl2QJUWECJ2BXdAFp6fdG/qdkBa5WdAFMl2QNXfzdiV/XZARu+h+cJod0A7IaRKNN13QMVhWBv7jXdAFXvH60Ptd0Dn8McKXBp4QIZP5cKRPXhAVlT/96jbd0Ak2SuHDkR4QK1x37pHtHdAhcEvhUHWd0BoFOewWMZ3QMSV+Qty+3ZAeJWoPdA5d0CsOlJQ9gF3QLhpEtemAXdAUvygHVIRd0BgIZ8iujh3QDM3GgviL3dAU/8EZd53d0DhATUrIcV3QHy3W3ADCnhAUdSJyrHad0A=\"},\"shape\":[76],\"dtype\":\"float64\",\"order\":\"little\"}],[\"Volume\",{\"type\":\"ndarray\",\"array\":{\"type\":\"bytes\",\"data\":\"8IV9B6x2nwZ8DpQEiDJeBcTmuQT8INgFjL20BpT2dQQwpdoEWJ4yBEyW2APos1AEWCoFBWDJWAWwXbYEEOitBNg/SATcWt4D1HDoBAikaAQ0ki8FvBMsBDjcCgQ07WIDZMEXBCRirQMstjgDqK2IA4jmyQPgCOwCyGTuAlxRCQOweuUDhHqxBOjTOgTEPdEEVHSSBGzEIATUWxEFAPMkBiQkXgQYtZoGVJNZBXDaLAakxj8F5OzGCEiijQXAfM8H5KkXBVwZswQEPzQGsHz6BbT5EQRMhQsFuHFuCBzilwUsuXAEyBKaA+CWEQT4FdIBrOmdCOw5FgXc+u0DbMmeA+iZfgRAq28EaL2oBJRZkQMU5f0DuBMCBRRAHwWgzjUGFEnlA8wKGwSEsl8FnBjPAw==\"},\"shape\":[76],\"dtype\":\"int32\",\"order\":\"little\"}],[\"fecha\",{\"type\":\"ndarray\",\"array\":{\"type\":\"bytes\",\"data\":\"AACAjkoWeEIAAABa7xZ4QgAAAPE4GHhCAADAVosYeEIAAIC83Rh4QgAAQCIwGXhCAADAhB4beEIAAIDqcBt4QgAAgIG6HHhCAABA5wwdeEIAAABNXx14QgAAwLKxHXhCAACAr00feEIAAEAVoB94QgAAAHvyH3hCAAAAEjwheEIAAMB3jiF4QgAAgN3gIXhCAAAAQM8jeEIAAMClISR4QgAAgAt0JHhCAADAPGsleEIAAEAIECZ4QgAAwNO0JnhCAACA0FAoeEIAAACc9Sh4QgAAQM3sKXhCAAAAMz8qeEIAAMCYkSp4QgAAgP7jKnhCAAAAYdIseEIAAMDGJC14QgAAwF1uLnhCAAAAj2UveEIAAIDxUzF4QgAAQFemMXhCAAAAvfgxeEIAAEDu7zJ4QgAAwLmUM3hCAABAhTk0eEIAAIC2MDV4QgAAQEoWOHhCAAAAR7I5eEIAAMCsBDp4QgAAgBJXOnhCAACAQOo8eEIAAIDXMz54QgAAgG59P3hCAADAn3RAeEIAAIAFx0B4QgAAQGsZQXhCAADANr5BeEIAAEAw9kR4QgAAAJZIRXhCAACAYe1FeEIAAEDHP0Z4QgAAwCkuSHhCAACAJspJeEIAAECMHEp4QgAAwFfBSnhCAACAVF1MeEIAAAAgAk14QgAAwByeTnhCAACAgvBOeEIAAIAZOlB4QgAAgEfNUnhCAABArR9TeEIAAMB4xFN4QgAAQNuyVXhCAAAAQQVWeEIAAMA9oVd4QgAAQAlGWHhCAABAoI9ZeEIAAAAG4ll4QgAAwGs0WnhCAACA0YZaeEI=\"},\"shape\":[76],\"dtype\":\"float64\",\"order\":\"little\"}],[\"companyName\",{\"type\":\"ndarray\",\"array\":[\"SPY\",\"SPY\",\"SPY\",\"SPY\",\"SPY\",\"SPY\",\"SPY\",\"SPY\",\"SPY\",\"SPY\",\"SPY\",\"SPY\",\"SPY\",\"SPY\",\"SPY\",\"SPY\",\"SPY\",\"SPY\",\"SPY\",\"SPY\",\"SPY\",\"SPY\",\"SPY\",\"SPY\",\"SPY\",\"SPY\",\"SPY\",\"SPY\",\"SPY\",\"SPY\",\"SPY\",\"SPY\",\"SPY\",\"SPY\",\"SPY\",\"SPY\",\"SPY\",\"SPY\",\"SPY\",\"SPY\",\"SPY\",\"SPY\",\"SPY\",\"SPY\",\"SPY\",\"SPY\",\"SPY\",\"SPY\",\"SPY\",\"SPY\",\"SPY\",\"SPY\",\"SPY\",\"SPY\",\"SPY\",\"SPY\",\"SPY\",\"SPY\",\"SPY\",\"SPY\",\"SPY\",\"SPY\",\"SPY\",\"SPY\",\"SPY\",\"SPY\",\"SPY\",\"SPY\",\"SPY\",\"SPY\",\"SPY\",\"SPY\",\"SPY\",\"SPY\",\"SPY\",\"SPY\"],\"shape\":[76],\"dtype\":\"object\",\"order\":\"little\"}],[\"SMA20\",{\"type\":\"ndarray\",\"array\":{\"type\":\"bytes\",\"data\":\"AAAAAAAA+H8AAAAAAAD4fwAAAAAAAPh/AAAAAAAA+H8AAAAAAAD4fwAAAAAAAPh/AAAAAAAA+H8AAAAAAAD4fwAAAAAAAPh/AAAAAAAA+H8AAAAAAAD4fwAAAAAAAPh/AAAAsDPPdkCamZmZi9N2QM3MzBRc2XZAzczMzKX6dkCamZkJzAl3QDMzM4uPHHdAmpmZ0VM/d0CamZkpHVN3QJqZmUHUbXdAZmZmromEd0AzMzMLmrB3QDMzM2MJ13dAAQAAiEYkeECamZkJ6WR4QDQzM/v7iHhAzszMpMSleEABAAC4SL54QAEAAICp1HhAmpmZGVoReUABAAD4rxt5QM7MzGxKEHlANDMzWz/seEAzMzMbZMB4QDMzM5NPsXhAZmZmjgOneECamZkhnJp4QM3MzEQeZHhAMzMzQ7EoeEDNzMzEFhB4QDMzM9PvTXdAAAAAcJMGd0CamZkx7/12QDMzMwM373ZAAAAACE1NdkDNzMyM9CZ2QDMzMyMtFHZAmpmZQWsfdkBmZmYmDTB2QDMzM2vsOHZAMzMzW8hedkCamZnhbYl2QJqZmXEpnHZAAAAAwOe/dkAzMzOreN92QDMzM3OFNXdAZmZmdgNed0DNzMwExG13QDMzMwMGf3dAzczMJDGdd0CamZkBBNJ3QDMzM7NL93dAmpmZSV4IeEBmZmaGngd4QAAAALh97XdAZmZmHk7kd0AzMzPzQsd3QM3MzHQMn3dAmpmZoSONd0AzMzMre293QJqZmTkfY3dAMzMzk1Ndd0DNzMyUFFx3QAAAAJCeWXdAmpmZYVZad0A=\"},\"shape\":[76],\"dtype\":\"float64\",\"order\":\"little\"}],[\"SMA40\",{\"type\":\"ndarray\",\"array\":{\"type\":\"bytes\",\"data\":\"AAAAAAAA+H8AAAAAAAD4fwAAAAAAAPh/AAAAAAAA+H8AAAAAAAD4fwAAAAAAAPh/AAAAAAAA+H8AAAAAAAD4fwAAAAAAAPh/AAAAAAAA+H8AAAAAAAD4fwAAAAAAAPh/AAAAAAAA+H8AAAAAAAD4fwAAAAAAAPh/AAAAAAAA+H8AAAAAAAD4fwAAAAAAAPh/AAAAAAAA+H8AAAAAAAD4fwAAAAAAAPh/AAAAAAAA+H8AAAAAAAD4fwAAAAAAAPh/AAAAHL15d0AzMzOPIp93QAAAAEipt3dAzczMODXQd0DNzMxgCuR3QJqZmYWc+HdAmpmZ9VYoeEDNzMyQZjd4QJqZmQ1qSnhAmpmZPRtYeECamZnVgWJ4QJqZmQ3LanhAzczMFNN1eECamZmVwn94QM3MzHTxhHhAmpmZYa1+eEBmZma+xnx4QJqZmZFTK3hAzczMqD/xd0CamZlhYeR3QDMzM4/N13dAZmZm5qlKd0DNzMyohRt3QDMzMz/S2HZAmpmZ4UDPdkAAAABIDcl2QDMzMx9uw3ZAMzMze/S7dkAAAADAKo92QGZmZpqAi3ZAAAAAZJqGdkDNzMxUmot2QGdmZqpmonZAZ2ZmTgjHdkABAAA4WNN2QAEAADic4nZAmpmZVRUId0DOzMzkyiB3QGdmZpK6SXdAzszMbAxZd0DOzMyYi3N3QAEAAAT4n3dAZ2Zmyiihd0A0MzN7JKN3QM3MzMwenndAMzMzk7ehd0BmZmaOuKl3QGZmZnY1rXdAZmZmkk2yd0CamZmN2bF3QDMzM5NDs3dAzczMbPmzd0A=\"},\"shape\":[76],\"dtype\":\"float64\",\"order\":\"little\"}],[\"SMA100\",{\"type\":\"ndarray\",\"array\":{\"type\":\"bytes\",\"data\":\"AAAAAAAA+H8AAAAAAAD4fwAAAAAAAPh/AAAAAAAA+H8AAAAAAAD4fwAAAAAAAPh/AAAAAAAA+H8AAAAAAAD4fwAAAAAAAPh/AAAAAAAA+H8AAAAAAAD4fwAAAAAAAPh/AAAAAAAA+H8AAAAAAAD4fwAAAAAAAPh/AAAAAAAA+H8AAAAAAAD4fwAAAAAAAPh/AAAAAAAA+H8AAAAAAAD4fwAAAAAAAPh/AAAAAAAA+H8AAAAAAAD4fwAAAAAAAPh/AAAAAAAA+H8AAAAAAAD4fwAAAAAAAPh/AAAAAAAA+H8AAAAAAAD4fwAAAAAAAPh/AAAAAAAA+H8AAAAAAAD4fwAAAAAAAPh/AAAAAAAA+H8AAAAAAAD4fwAAAAAAAPh/AAAAAAAA+H8AAAAAAAD4fwAAAAAAAPh/AAAAAAAA+H8AAAAAAAD4fwAAAAAAAPh/AAAAAAAA+H8AAAAAAAD4fwAAAAAAAPh/AAAAAAAA+H8AAAAAAAD4fwAAAAAAAPh/AAAAAAAA+H8AAAAAAAD4fwAAAAAAAPh/AAAAAAAA+H/NzMyMpGR3QFK4Hs18Z3dArkfhQkNsd0DNzMxkOXB3QD0K13tJeHdAH4XrOf2Ad0CuR+HiY4R3QBSuRzGUh3dAmpmZIQSOd0CPwvXI7pZ3QJqZmTkUnndAAAAAoPCed0A9CtdjPJ93QD0K1yNml3dAuB6FgySUd0B7FK5fHIx3QNejcC1lfndApHA9ynV6d0CF61GI4293QBSuR3lOY3dAuB6FI15Yd0AAAABo61N3QK5H4UKUUHdA4XoUXtROd0A=\"},\"shape\":[76],\"dtype\":\"float64\",\"order\":\"little\"}],[\"SMA200\",{\"type\":\"ndarray\",\"array\":{\"type\":\"bytes\",\"data\":\"AAAAAAAA+H8AAAAAAAD4fwAAAAAAAPh/AAAAAAAA+H8AAAAAAAD4fwAAAAAAAPh/AAAAAAAA+H8AAAAAAAD4fwAAAAAAAPh/AAAAAAAA+H8AAAAAAAD4fwAAAAAAAPh/AAAAAAAA+H8AAAAAAAD4fwAAAAAAAPh/AAAAAAAA+H8AAAAAAAD4fwAAAAAAAPh/AAAAAAAA+H8AAAAAAAD4fwAAAAAAAPh/AAAAAAAA+H8AAAAAAAD4fwAAAAAAAPh/AAAAAAAA+H8AAAAAAAD4fwAAAAAAAPh/AAAAAAAA+H8AAAAAAAD4fwAAAAAAAPh/AAAAAAAA+H8AAAAAAAD4fwAAAAAAAPh/AAAAAAAA+H8AAAAAAAD4fwAAAAAAAPh/AAAAAAAA+H8AAAAAAAD4fwAAAAAAAPh/AAAAAAAA+H8AAAAAAAD4fwAAAAAAAPh/AAAAAAAA+H8AAAAAAAD4fwAAAAAAAPh/AAAAAAAA+H8AAAAAAAD4fwAAAAAAAPh/AAAAAAAA+H8AAAAAAAD4fwAAAAAAAPh/AAAAAAAA+H8AAAAAAAD4fwAAAAAAAPh/AAAAAAAA+H8AAAAAAAD4fwAAAAAAAPh/AAAAAAAA+H8AAAAAAAD4fwAAAAAAAPh/AAAAAAAA+H8AAAAAAAD4fwAAAAAAAPh/AAAAAAAA+H8AAAAAAAD4fwAAAAAAAPh/AAAAAAAA+H8AAAAAAAD4fwAAAAAAAPh/AAAAAAAA+H8AAAAAAAD4fwAAAAAAAPh/AAAAAAAA+H8AAAAAAAD4fwAAAAAAAPh/AAAAAAAA+H8=\"},\"shape\":[76],\"dtype\":\"float64\",\"order\":\"little\"}],[\"pivotHigh\",{\"type\":\"ndarray\",\"array\":{\"type\":\"bytes\",\"data\":\"AAAAAAAA+H8AAAAAAAD4fwAAAAAAAPh/AAAAAAAA+H8AAAAAAAD4f5ZQ60Gjb3dAAAAAAAAA+H8AAAAAAAD4fwAAAAAAAPh/AAAAAAAA+H+S+MBKo2t3QAAAAAAAAPh/AAAAAAAA+H8AAAAAAAD4fwAAAAAAAPh/AAAAAAAA+H8AAAAAAAD4fwAAAAAAAPh/AAAAAAAA+H8AAAAAAAD4fwAAAAAAAPh/AAAAAAAA+H8AAAAAAAD4fwAAAAAAAPh/AAAAAAAA+H8AAAAAAAD4fwAAAAAAAPh/9jVlURDweUAAAAAAAAD4fwAAAAAAAPh/AAAAAAAA+H8AAAAAAAD4fwAAAAAAAPh/AAAAAAAA+H8AAAAAAAD4fwAAAAAAAPh/AAAAAAAA+H+5ul18drx4QAAAAAAAAPh/AAAAAAAA+H8AAAAAAAD4fwAAAAAAAPh/AAAAAAAA+H8tag3Sks12QAAAAAAAAPh/AAAAAAAA+H8AAAAAAAD4fwAAAAAAAPh/AAAAAAAA+H8AAAAAAAD4fwAAAAAAAPh/0S+wlXp/d0AAAAAAAAD4fwAAAAAAAPh/AAAAAAAA+H8Jkb+ASRd4QAAAAAAAAPh/AAAAAAAA+H8AAAAAAAD4fwAAAAAAAPh/vHST+O2XeEAAAAAAAAD4fwAAAAAAAPh/AAAAAAAA+H8AAAAAAAD4fwAAAAAAAPh/AAAAAAAA+H8AAAAAAAD4fwAAAAAAAPh/AAAAAAAA+H8AAAAAAAD4fwAAAAAAAPh/AAAAAAAA+H8AAAAAAAD4fwAAAAAAAPh/AAAAAAAA+H8=\"},\"shape\":[76],\"dtype\":\"float64\",\"order\":\"little\"}],[\"pivotLow\",{\"type\":\"ndarray\",\"array\":{\"type\":\"bytes\",\"data\":\"AAAAAAAA+H8AAAAAAAD4fwAAAAAAAPh/AAAAAAAA+H8AAAAAAAD4fwAAAAAAAPh/Vh0U8P1hdkAAAAAAAAD4fwAAAAAAAPh/AAAAAAAA+H8AAAAAAAD4fwAAAAAAAPh/AAAAAAAA+H+PcjZknUp2QAAAAAAAAPh/AAAAAAAA+H8AAAAAAAD4fwAAAAAAAPh/AAAAAAAA+H8AAAAAAAD4fwAAAAAAAPh/AAAAAAAA+H8AAAAAAAD4fwAAAAAAAPh/AAAAAAAA+H8AAAAAAAD4fwAAAAAAAPh/AAAAAAAA+H8AAAAAAAD4fwAAAAAAAPh/AAAAAAAA+H8AAAAAAAD4fwAAAAAAAPh/AAAAAAAA+H8AAAAAAAD4fwAAAAAAAPh/AAAAAAAA+H8AAAAAAAD4fwAAAAAAAPh/AAAAAAAA+H8AAAAAAAD4fwAAAAAAAPh/AAAAAAAA+H8AAAAAAAD4fwAAAAAAAPh/AAAAAAAA+H8AAAAAAAD4fwAAAAAAAPh/AAAAAAAA+H8AAAAAAAD4fwAAAAAAAPh/AAAAAAAA+H8AAAAAAAD4fwAAAAAAAPh/AAAAAAAA+H8AAAAAAAD4f1fITP0FiXdAAAAAAAAA+H8AAAAAAAD4fwAAAAAAAPh/AAAAAAAA+H8AAAAAAAD4fwBlW8FIpXdAAAAAAAAA+H8AAAAAAAD4fwAAAAAAAPh/AAAAAAAA+H8AAAAAAAD4fwAAAAAAAPh/AAAAAAAA+H8AAAAAAAD4fwAAAAAAAPh/AAAAAAAA+H8AAAAAAAD4fwAAAAAAAPh/AAAAAAAA+H8=\"},\"shape\":[76],\"dtype\":\"float64\",\"order\":\"little\"}],[\"isPivot\",{\"type\":\"ndarray\",\"array\":{\"type\":\"bytes\",\"data\":\"AAAAAAAA+H8AAAAAAAD4fwAAAAAAAPh/AAAAAAAA+H8AAAAAAAD4fwAAAAAAAPA/AAAAAAAAAEAAAAAAAAD4fwAAAAAAAPh/AAAAAAAA+H8AAAAAAADwPwAAAAAAAPh/AAAAAAAA+H8AAAAAAAAAQAAAAAAAAPh/AAAAAAAA+H8AAAAAAAD4fwAAAAAAAPh/AAAAAAAA+H8AAAAAAAD4fwAAAAAAAPh/AAAAAAAA+H8AAAAAAAD4fwAAAAAAAPh/AAAAAAAA+H8AAAAAAAD4fwAAAAAAAPh/AAAAAAAA8D8AAAAAAAD4fwAAAAAAAPh/AAAAAAAA+H8AAAAAAAD4fwAAAAAAAPh/AAAAAAAA+H8AAAAAAAD4fwAAAAAAAPh/AAAAAAAA+H8AAAAAAADwPwAAAAAAAPh/AAAAAAAA+H8AAAAAAAD4fwAAAAAAAPh/AAAAAAAA+H8AAAAAAADwPwAAAAAAAPh/AAAAAAAA+H8AAAAAAAD4fwAAAAAAAPh/AAAAAAAA+H8AAAAAAAD4fwAAAAAAAPh/AAAAAAAA8D8AAAAAAAD4fwAAAAAAAPh/AAAAAAAA+H8AAAAAAADwPwAAAAAAAABAAAAAAAAA+H8AAAAAAAD4fwAAAAAAAPh/AAAAAAAA8D8AAAAAAAD4fwAAAAAAAABAAAAAAAAA+H8AAAAAAAD4fwAAAAAAAPh/AAAAAAAA+H8AAAAAAAD4fwAAAAAAAPh/AAAAAAAA+H8AAAAAAAD4fwAAAAAAAPh/AAAAAAAA+H8AAAAAAAD4fwAAAAAAAPh/AAAAAAAA+H8=\"},\"shape\":[76],\"dtype\":\"float64\",\"order\":\"little\"}]]}}},\"view\":{\"type\":\"object\",\"name\":\"CDSView\",\"id\":\"p1073\",\"attributes\":{\"filter\":{\"type\":\"object\",\"name\":\"AllIndices\",\"id\":\"p1074\"}}},\"glyph\":{\"type\":\"object\",\"name\":\"VBar\",\"id\":\"p1069\",\"attributes\":{\"x\":{\"type\":\"field\",\"field\":\"index\"},\"width\":{\"type\":\"value\",\"value\":0.6},\"bottom\":{\"type\":\"field\",\"field\":\"Open\"},\"top\":{\"type\":\"field\",\"field\":\"Close\"},\"line_color\":{\"type\":\"value\",\"value\":\"green\"},\"fill_color\":{\"type\":\"value\",\"value\":\"green\"}}},\"nonselection_glyph\":{\"type\":\"object\",\"name\":\"VBar\",\"id\":\"p1070\",\"attributes\":{\"x\":{\"type\":\"field\",\"field\":\"index\"},\"width\":{\"type\":\"value\",\"value\":0.6},\"bottom\":{\"type\":\"field\",\"field\":\"Open\"},\"top\":{\"type\":\"field\",\"field\":\"Close\"},\"line_color\":{\"type\":\"value\",\"value\":\"green\"},\"line_alpha\":{\"type\":\"value\",\"value\":0.1},\"fill_color\":{\"type\":\"value\",\"value\":\"green\"},\"fill_alpha\":{\"type\":\"value\",\"value\":0.1},\"hatch_alpha\":{\"type\":\"value\",\"value\":0.1}}},\"muted_glyph\":{\"type\":\"object\",\"name\":\"VBar\",\"id\":\"p1071\",\"attributes\":{\"x\":{\"type\":\"field\",\"field\":\"index\"},\"width\":{\"type\":\"value\",\"value\":0.6},\"bottom\":{\"type\":\"field\",\"field\":\"Open\"},\"top\":{\"type\":\"field\",\"field\":\"Close\"},\"line_color\":{\"type\":\"value\",\"value\":\"green\"},\"line_alpha\":{\"type\":\"value\",\"value\":0.2},\"fill_color\":{\"type\":\"value\",\"value\":\"green\"},\"fill_alpha\":{\"type\":\"value\",\"value\":0.2},\"hatch_alpha\":{\"type\":\"value\",\"value\":0.2}}}}},{\"type\":\"object\",\"name\":\"GlyphRenderer\",\"id\":\"p1084\",\"attributes\":{\"data_source\":{\"type\":\"object\",\"name\":\"ColumnDataSource\",\"id\":\"p1075\",\"attributes\":{\"selected\":{\"type\":\"object\",\"name\":\"Selection\",\"id\":\"p1076\",\"attributes\":{\"indices\":[],\"line_indices\":[]}},\"selection_policy\":{\"type\":\"object\",\"name\":\"UnionRenderers\",\"id\":\"p1077\"},\"data\":{\"type\":\"map\",\"entries\":[[\"index\",{\"type\":\"ndarray\",\"array\":{\"type\":\"bytes\",\"data\":\"CAAAABAAAAAsAAAAPgAAAE4AAABgAAAAagAAAHYAAAB/AAAA\"},\"shape\":[9],\"dtype\":\"int32\",\"order\":\"little\"}],[\"Close\",{\"type\":\"ndarray\",\"array\":{\"type\":\"bytes\",\"data\":\"AAAAwHdvd0AAAADgs153QAAAAIDT0HlAAAAAAMKweEAAAAAgGM12QAAAAMC9d3dAAAAAgEwKeEAAAADg6Zd4QAAAAIC7P3hA\"},\"shape\":[9],\"dtype\":\"float64\",\"order\":\"little\"}],[\"High\",{\"type\":\"ndarray\",\"array\":{\"type\":\"bytes\",\"data\":\"2ttXKZ9vd0DWgy0yn2t3QDrB0TgM8HlA/UXKY3K8eEBx9Xm5js12QBW7HH12f3dATRwsaEUXeEAAAADg6Zd4QBh8ghZPw3hA\"},\"shape\":[9],\"dtype\":\"float64\",\"order\":\"little\"}],[\"Low\",{\"type\":\"ndarray\",\"array\":{\"type\":\"bytes\",\"data\":\"4Psq3IHpdkBUWql9ugZ3QNg1PkZ0pXlAtgvVUyeKeECqVqt/Ch12QB+LAkmA53ZAPEGqXKC+d0Ael16Pnrx3QBzlNnDyEnhA\"},\"shape\":[9],\"dtype\":\"float64\",\"order\":\"little\"}],[\"Open\",{\"type\":\"ndarray\",\"array\":{\"type\":\"bytes\",\"data\":\"c/Nv+ffpdkCWbAaHLiN3QLLetAGHsnlAljkxSxOPeEAWqhU5E3d2QBaen3Rv6nZAOyGkSjTdd0BWVP/3qNt3QDk9PbEjv3hA\"},\"shape\":[9],\"dtype\":\"float64\",\"order\":\"little\"}],[\"Volume\",{\"type\":\"ndarray\",\"array\":{\"type\":\"bytes\",\"data\":\"/CDYBUyW2AOorYgDbMQgBHDaLAawfPoFHOKXBazpnQhkxWAH\"},\"shape\":[9],\"dtype\":\"int32\",\"order\":\"little\"}],[\"fecha\",{\"type\":\"ndarray\",\"array\":{\"type\":\"bytes\",\"data\":\"AABAIjAZeEIAAABNXx14QgAAADM/KnhCAABA7u8yeEIAAMCsBDp4QgAAwDa+QXhCAABAxz9GeEIAAIBUXUx4QgAAQH+MUHhC\"},\"shape\":[9],\"dtype\":\"float64\",\"order\":\"little\"}],[\"companyName\",{\"type\":\"ndarray\",\"array\":[\"SPY\",\"SPY\",\"SPY\",\"SPY\",\"SPY\",\"SPY\",\"SPY\",\"SPY\",\"SPY\"],\"shape\":[9],\"dtype\":\"object\",\"order\":\"little\"}],[\"SMA20\",{\"type\":\"ndarray\",\"array\":{\"type\":\"bytes\",\"data\":\"AAAAAAAA+H8AAAAAAAD4f87MzKTEpXhAmpmZIZyaeECamZkx7/12QDMzM1vIXnZAMzMzq3jfdkDNzMwkMZ13QGZmZpboDHhA\"},\"shape\":[9],\"dtype\":\"float64\",\"order\":\"little\"}],[\"SMA40\",{\"type\":\"ndarray\",\"array\":{\"type\":\"bytes\",\"data\":\"AAAAAAAA+H8AAAAAAAD4f83MzDg10HdAmpmZlcJ/eECamZlhYeR3QDMzM3v0u3ZAzczMVJqLdkCamZlVFQh3QGdmZrYdgXdA\"},\"shape\":[9],\"dtype\":\"float64\",\"order\":\"little\"}],[\"SMA100\",{\"type\":\"ndarray\",\"array\":{\"type\":\"bytes\",\"data\":\"AAAAAAAA+H8AAAAAAAD4fwAAAAAAAPh/AAAAAAAA+H8AAAAAAAD4fwAAAAAAAPh/zczMZDlwd0CamZkhBI53QK5H4UqMoHdA\"},\"shape\":[9],\"dtype\":\"float64\",\"order\":\"little\"}],[\"SMA200\",{\"type\":\"ndarray\",\"array\":{\"type\":\"bytes\",\"data\":\"AAAAAAAA+H8AAAAAAAD4fwAAAAAAAPh/AAAAAAAA+H8AAAAAAAD4fwAAAAAAAPh/AAAAAAAA+H8AAAAAAAD4fwAAAAAAAPh/\"},\"shape\":[9],\"dtype\":\"float64\",\"order\":\"little\"}],[\"pivotHigh\",{\"type\":\"ndarray\",\"array\":{\"type\":\"bytes\",\"data\":\"llDrQaNvd0CS+MBKo2t3QPY1ZVEQ8HlAubpdfHa8eEAtag3Sks12QNEvsJV6f3dACZG/gEkXeEC8dJP47Zd4QNTwFS9Tw3hA\"},\"shape\":[9],\"dtype\":\"float64\",\"order\":\"little\"}],[\"pivotLow\",{\"type\":\"ndarray\",\"array\":{\"type\":\"bytes\",\"data\":\"AAAAAAAA+H8AAAAAAAD4fwAAAAAAAPh/AAAAAAAA+H8AAAAAAAD4fwAAAAAAAPh/AAAAAAAA+H8AAAAAAAD4fwAAAAAAAPh/\"},\"shape\":[9],\"dtype\":\"float64\",\"order\":\"little\"}],[\"isPivot\",{\"type\":\"ndarray\",\"array\":{\"type\":\"bytes\",\"data\":\"AAAAAAAA8D8AAAAAAADwPwAAAAAAAPA/AAAAAAAA8D8AAAAAAADwPwAAAAAAAPA/AAAAAAAA8D8AAAAAAADwPwAAAAAAAPA/\"},\"shape\":[9],\"dtype\":\"float64\",\"order\":\"little\"}]]}}},\"view\":{\"type\":\"object\",\"name\":\"CDSView\",\"id\":\"p1085\",\"attributes\":{\"filter\":{\"type\":\"object\",\"name\":\"AllIndices\",\"id\":\"p1086\"}}},\"glyph\":{\"type\":\"object\",\"name\":\"Scatter\",\"id\":\"p1081\",\"attributes\":{\"x\":{\"type\":\"field\",\"field\":\"index\"},\"y\":{\"type\":\"field\",\"field\":\"pivotHigh\"},\"size\":{\"type\":\"value\",\"value\":10},\"line_color\":{\"type\":\"value\",\"value\":\"navy\"},\"line_alpha\":{\"type\":\"value\",\"value\":0.5},\"fill_color\":{\"type\":\"value\",\"value\":\"blue\"},\"fill_alpha\":{\"type\":\"value\",\"value\":0.5},\"hatch_alpha\":{\"type\":\"value\",\"value\":0.5}}},\"nonselection_glyph\":{\"type\":\"object\",\"name\":\"Scatter\",\"id\":\"p1082\",\"attributes\":{\"x\":{\"type\":\"field\",\"field\":\"index\"},\"y\":{\"type\":\"field\",\"field\":\"pivotHigh\"},\"size\":{\"type\":\"value\",\"value\":10},\"line_color\":{\"type\":\"value\",\"value\":\"navy\"},\"line_alpha\":{\"type\":\"value\",\"value\":0.1},\"fill_color\":{\"type\":\"value\",\"value\":\"blue\"},\"fill_alpha\":{\"type\":\"value\",\"value\":0.1},\"hatch_alpha\":{\"type\":\"value\",\"value\":0.1}}},\"muted_glyph\":{\"type\":\"object\",\"name\":\"Scatter\",\"id\":\"p1083\",\"attributes\":{\"x\":{\"type\":\"field\",\"field\":\"index\"},\"y\":{\"type\":\"field\",\"field\":\"pivotHigh\"},\"size\":{\"type\":\"value\",\"value\":10},\"line_color\":{\"type\":\"value\",\"value\":\"navy\"},\"line_alpha\":{\"type\":\"value\",\"value\":0.2},\"fill_color\":{\"type\":\"value\",\"value\":\"blue\"},\"fill_alpha\":{\"type\":\"value\",\"value\":0.2},\"hatch_alpha\":{\"type\":\"value\",\"value\":0.2}}}}},{\"type\":\"object\",\"name\":\"GlyphRenderer\",\"id\":\"p1098\",\"attributes\":{\"data_source\":{\"type\":\"object\",\"name\":\"ColumnDataSource\",\"id\":\"p1089\",\"attributes\":{\"selected\":{\"type\":\"object\",\"name\":\"Selection\",\"id\":\"p1090\",\"attributes\":{\"indices\":[],\"line_indices\":[]}},\"selection_policy\":{\"type\":\"object\",\"name\":\"UnionRenderers\",\"id\":\"p1091\"},\"data\":{\"type\":\"map\",\"entries\":[[\"index\",{\"type\":\"ndarray\",\"array\":{\"type\":\"bytes\",\"data\":\"AwAAAAwAAAAVAAAAHQAAADoAAABMAAAAVAAAAGQAAABuAAAAewAAAIMAAACJAAAA\"},\"shape\":[12],\"dtype\":\"int32\",\"order\":\"little\"}],[\"Close\",{\"type\":\"ndarray\",\"array\":{\"type\":\"bytes\",\"data\":\"AAAAYNvudUAAAAAAJKp2QAEAAMBKtHZAAAAA4Ox7d0AAAAAA7Xl3QAAAACAHjHVAAAAAIHSCdUAAAAAAnGF2QAEAAEBbyHdAAAAAgK23d0AAAACgswd3QAAAACCT03ZA\"},\"shape\":[12],\"dtype\":\"float64\",\"order\":\"little\"}],[\"High\",{\"type\":\"ndarray\",\"array\":{\"type\":\"bytes\",\"data\":\"tezwyo0wdkDYaL44lt52QFmc8TbTxXZAm4/VD66sd0BcQ8FImq13QFv+SgfZEnZAphyHgMy0dUCdnPCa35J2QLOudE5S03dAo1xaK/rdd0Ab0Wvmp0J3QPxpbkH8O3dA\"},\"shape\":[12],\"dtype\":\"float64\",\"order\":\"little\"}],[\"Low\",{\"type\":\"ndarray\",\"array\":{\"type\":\"bytes\",\"data\":\"XsxJ/3/HdUASkqcIAmJ2QEvnyXyhSnZAHnCrzHdtd0C5jwa571V3QGbca7PdiXVALPmdLnB+dUAACANGUz92QBM94BUKiXdAvNnu2Uyld0AD+RQGtex2QDZ/0/jZz3ZA\"},\"shape\":[12],\"dtype\":\"float64\",\"order\":\"little\"}],[\"Open\",{\"type\":\"ndarray\",\"array\":{\"type\":\"bytes\",\"data\":\"tW0KEPgpdkA7DcpIm5p2QIQMxkQocnZAK2Wi2Uupd0BRWz1kYJ53QIPUKixg03VAZk6TSVGbdUDx/PKQtmh2QMVhWBv7jXdArXHfuke0d0DzafjNOT13QB11wJQGHHdA\"},\"shape\":[12],\"dtype\":\"float64\",\"order\":\"little\"}],[\"Volume\",{\"type\":\"ndarray\",\"array\":{\"type\":\"bytes\",\"data\":\"VOYDCIy9tAZgyVgF4OUnA9hkkQRgcikJOM2WBMQKMQUsuXAE3PrtA9TXwgQMBjoE\"},\"shape\":[12],\"dtype\":\"int32\",\"order\":\"little\"}],[\"fecha\",{\"type\":\"ndarray\",\"array\":{\"type\":\"bytes\",\"data\":\"AABA9JwWeEIAAMCEHht4QgAAQBWgH3hCAABA2nwjeEIAAMCLATF4QgAAwBW7OHhCAADA2pc8eEIAAECZrEN4QgAAwCkuSHhCAADAHJ5OeEIAAMDhelJ4QgAAgHVgVXhC\"},\"shape\":[12],\"dtype\":\"float64\",\"order\":\"little\"}],[\"companyName\",{\"type\":\"ndarray\",\"array\":[\"SPY\",\"SPY\",\"SPY\",\"SPY\",\"SPY\",\"SPY\",\"SPY\",\"SPY\",\"SPY\",\"SPY\",\"SPY\",\"SPY\"],\"shape\":[12],\"dtype\":\"object\",\"order\":\"little\"}],[\"SMA20\",{\"type\":\"ndarray\",\"array\":{\"type\":\"bytes\",\"data\":\"AAAAAAAA+H8AAAAAAAD4f5qZmZmL03ZAmpmZuaUvd0CamZmR08p4QDMzM5sgGXdAzczMXLdedkAAAADIkW92QDMzM3OFNXdAMzMzs0v3d0AzMzOb/fZ3QDMzMwNosHdA\"},\"shape\":[12],\"dtype\":\"float64\",\"order\":\"little\"}],[\"SMA40\",{\"type\":\"ndarray\",\"array\":{\"type\":\"bytes\",\"data\":\"AAAAAAAA+H8AAAAAAAD4fwAAAAAAAPh/AAAAAAAA+H+amZll/Vt4QDMzM/uvAnhAzczM0Gphd0AAAADoh6V2QGdmZqpmonZAZ2ZmkrpJd0BnZmY+pp53QGZmZoLbnXdA\"},\"shape\":[12],\"dtype\":\"float64\",\"order\":\"little\"}],[\"SMA100\",{\"type\":\"ndarray\",\"array\":{\"type\":\"bytes\",\"data\":\"AAAAAAAA+H8AAAAAAAD4fwAAAAAAAPh/AAAAAAAA+H8AAAAAAAD4fwAAAAAAAPh/AAAAAAAA+H/Xo3CFK2N3QD0K13tJeHdAmpmZORSed0CkcD3KuZt3QFyPwgVtgndA\"},\"shape\":[12],\"dtype\":\"float64\",\"order\":\"little\"}],[\"SMA200\",{\"type\":\"ndarray\",\"array\":{\"type\":\"bytes\",\"data\":\"AAAAAAAA+H8AAAAAAAD4fwAAAAAAAPh/AAAAAAAA+H8AAAAAAAD4fwAAAAAAAPh/AAAAAAAA+H8AAAAAAAD4fwAAAAAAAPh/AAAAAAAA+H8AAAAAAAD4fwAAAAAAAPh/\"},\"shape\":[12],\"dtype\":\"float64\",\"order\":\"little\"}],[\"pivotHigh\",{\"type\":\"ndarray\",\"array\":{\"type\":\"bytes\",\"data\":\"AAAAAAAA+H8AAAAAAAD4fwAAAAAAAPh/AAAAAAAA+H8AAAAAAAD4fwAAAAAAAPh/AAAAAAAA+H8AAAAAAAD4fwAAAAAAAPh/AAAAAAAA+H8AAAAAAAD4fwAAAAAAAPh/\"},\"shape\":[12],\"dtype\":\"float64\",\"order\":\"little\"}],[\"pivotLow\",{\"type\":\"ndarray\",\"array\":{\"type\":\"bytes\",\"data\":\"ole25nvHdUBWHRTw/WF2QI9yNmSdSnZAYvsXtHNtd0D9GnOg61V3QKpn2JrZiXVAcIQKFmx+dUBEk28tTz92QFfITP0FiXdAAGVbwUild0BHhIHtsOx2QHoKQODVz3ZA\"},\"shape\":[12],\"dtype\":\"float64\",\"order\":\"little\"}],[\"isPivot\",{\"type\":\"ndarray\",\"array\":{\"type\":\"bytes\",\"data\":\"AAAAAAAAAEAAAAAAAAAAQAAAAAAAAABAAAAAAAAAAEAAAAAAAAAAQAAAAAAAAABAAAAAAAAAAEAAAAAAAAAAQAAAAAAAAABAAAAAAAAAAEAAAAAAAAAAQAAAAAAAAABA\"},\"shape\":[12],\"dtype\":\"float64\",\"order\":\"little\"}]]}}},\"view\":{\"type\":\"object\",\"name\":\"CDSView\",\"id\":\"p1099\",\"attributes\":{\"filter\":{\"type\":\"object\",\"name\":\"AllIndices\",\"id\":\"p1100\"}}},\"glyph\":{\"type\":\"object\",\"name\":\"Scatter\",\"id\":\"p1095\",\"attributes\":{\"x\":{\"type\":\"field\",\"field\":\"index\"},\"y\":{\"type\":\"field\",\"field\":\"pivotLow\"},\"size\":{\"type\":\"value\",\"value\":10},\"line_color\":{\"type\":\"value\",\"value\":\"navy\"},\"line_alpha\":{\"type\":\"value\",\"value\":0.5},\"fill_color\":{\"type\":\"value\",\"value\":\"green\"},\"fill_alpha\":{\"type\":\"value\",\"value\":0.5},\"hatch_alpha\":{\"type\":\"value\",\"value\":0.5}}},\"nonselection_glyph\":{\"type\":\"object\",\"name\":\"Scatter\",\"id\":\"p1096\",\"attributes\":{\"x\":{\"type\":\"field\",\"field\":\"index\"},\"y\":{\"type\":\"field\",\"field\":\"pivotLow\"},\"size\":{\"type\":\"value\",\"value\":10},\"line_color\":{\"type\":\"value\",\"value\":\"navy\"},\"line_alpha\":{\"type\":\"value\",\"value\":0.1},\"fill_color\":{\"type\":\"value\",\"value\":\"green\"},\"fill_alpha\":{\"type\":\"value\",\"value\":0.1},\"hatch_alpha\":{\"type\":\"value\",\"value\":0.1}}},\"muted_glyph\":{\"type\":\"object\",\"name\":\"Scatter\",\"id\":\"p1097\",\"attributes\":{\"x\":{\"type\":\"field\",\"field\":\"index\"},\"y\":{\"type\":\"field\",\"field\":\"pivotLow\"},\"size\":{\"type\":\"value\",\"value\":10},\"line_color\":{\"type\":\"value\",\"value\":\"navy\"},\"line_alpha\":{\"type\":\"value\",\"value\":0.2},\"fill_color\":{\"type\":\"value\",\"value\":\"green\"},\"fill_alpha\":{\"type\":\"value\",\"value\":0.2},\"hatch_alpha\":{\"type\":\"value\",\"value\":0.2}}}}}],\"toolbar\":{\"type\":\"object\",\"name\":\"Toolbar\",\"id\":\"p1012\",\"attributes\":{\"tools\":[{\"type\":\"object\",\"name\":\"PanTool\",\"id\":\"p1025\"},{\"type\":\"object\",\"name\":\"WheelZoomTool\",\"id\":\"p1026\",\"attributes\":{\"renderers\":\"auto\"}},{\"type\":\"object\",\"name\":\"BoxZoomTool\",\"id\":\"p1027\",\"attributes\":{\"dimensions\":\"both\",\"overlay\":{\"type\":\"object\",\"name\":\"BoxAnnotation\",\"id\":\"p1028\",\"attributes\":{\"syncable\":false,\"line_color\":\"black\",\"line_alpha\":1.0,\"line_width\":2,\"line_dash\":[4,4],\"fill_color\":\"lightgrey\",\"fill_alpha\":0.5,\"level\":\"overlay\",\"visible\":false,\"left\":{\"type\":\"number\",\"value\":\"nan\"},\"right\":{\"type\":\"number\",\"value\":\"nan\"},\"top\":{\"type\":\"number\",\"value\":\"nan\"},\"bottom\":{\"type\":\"number\",\"value\":\"nan\"},\"left_units\":\"canvas\",\"right_units\":\"canvas\",\"top_units\":\"canvas\",\"bottom_units\":\"canvas\",\"handles\":{\"type\":\"object\",\"name\":\"BoxInteractionHandles\",\"id\":\"p1034\",\"attributes\":{\"all\":{\"type\":\"object\",\"name\":\"AreaVisuals\",\"id\":\"p1033\",\"attributes\":{\"fill_color\":\"white\",\"hover_fill_color\":\"lightgray\"}}}}}}}},{\"type\":\"object\",\"name\":\"SaveTool\",\"id\":\"p1035\"},{\"type\":\"object\",\"name\":\"ResetTool\",\"id\":\"p1036\"},{\"type\":\"object\",\"name\":\"HelpTool\",\"id\":\"p1037\"},{\"type\":\"object\",\"name\":\"HoverTool\",\"id\":\"p1038\",\"attributes\":{\"renderers\":\"auto\",\"tooltips\":[[\"Index\",\"@index\"],[\"Open\",\"@Open\"],[\"High\",\"@High\"],[\"Low\",\"@Low\"],[\"Close\",\"@Close\"]]}}]}},\"left\":[{\"type\":\"object\",\"name\":\"LinearAxis\",\"id\":\"p1020\",\"attributes\":{\"ticker\":{\"type\":\"object\",\"name\":\"BasicTicker\",\"id\":\"p1021\",\"attributes\":{\"mantissas\":[1,2,5]}},\"formatter\":{\"type\":\"object\",\"name\":\"BasicTickFormatter\",\"id\":\"p1022\"},\"major_label_policy\":{\"type\":\"object\",\"name\":\"AllLabels\",\"id\":\"p1023\"}}}],\"below\":[{\"type\":\"object\",\"name\":\"LinearAxis\",\"id\":\"p1015\",\"attributes\":{\"ticker\":{\"type\":\"object\",\"name\":\"BasicTicker\",\"id\":\"p1016\",\"attributes\":{\"mantissas\":[1,2,5]}},\"formatter\":{\"type\":\"object\",\"name\":\"BasicTickFormatter\",\"id\":\"p1017\"},\"major_label_orientation\":0.8,\"major_label_policy\":{\"type\":\"object\",\"name\":\"AllLabels\",\"id\":\"p1018\"},\"axis_line_width\":2}}],\"center\":[{\"type\":\"object\",\"name\":\"Grid\",\"id\":\"p1019\",\"attributes\":{\"axis\":{\"id\":\"p1015\"}}},{\"type\":\"object\",\"name\":\"Grid\",\"id\":\"p1024\",\"attributes\":{\"dimension\":1,\"axis\":{\"id\":\"p1020\"}}},{\"type\":\"object\",\"name\":\"Legend\",\"id\":\"p1087\",\"attributes\":{\"items\":[{\"type\":\"object\",\"name\":\"LegendItem\",\"id\":\"p1088\",\"attributes\":{\"label\":{\"type\":\"value\",\"value\":\"Cambio Tendencia Bajista\"},\"renderers\":[{\"id\":\"p1084\"}]}},{\"type\":\"object\",\"name\":\"LegendItem\",\"id\":\"p1101\",\"attributes\":{\"label\":{\"type\":\"value\",\"value\":\"Cambio Tendencia Alcista\"},\"renderers\":[{\"id\":\"p1098\"}]}}]}}],\"background_fill_color\":\"#efefef\"}}]}};\n",
       "  const render_items = [{\"docid\":\"5a5efdc6-1562-48b8-ac20-997eb01b6ac2\",\"roots\":{\"p1003\":\"e071340b-0d5a-489f-881a-c6d2d7ef2d3c\"},\"root_ids\":[\"p1003\"]}];\n",
       "  void root.Bokeh.embed.embed_items_notebook(docs_json, render_items);\n",
       "  }\n",
       "  if (root.Bokeh !== undefined) {\n",
       "    embed_document(root);\n",
       "  } else {\n",
       "    let attempts = 0;\n",
       "    const timer = setInterval(function(root) {\n",
       "      if (root.Bokeh !== undefined) {\n",
       "        clearInterval(timer);\n",
       "        embed_document(root);\n",
       "      } else {\n",
       "        attempts++;\n",
       "        if (attempts > 100) {\n",
       "          clearInterval(timer);\n",
       "          console.log(\"Bokeh: ERROR: Unable to run BokehJS code because BokehJS library is missing\");\n",
       "        }\n",
       "      }\n",
       "    }, 10, root)\n",
       "  }\n",
       "})(window);"
      ],
      "application/vnd.bokehjs_exec.v0+json": ""
     },
     "metadata": {
      "application/vnd.bokehjs_exec.v0+json": {
       "id": "p1003"
      }
     },
     "output_type": "display_data"
    }
   ],
   "source": [
    "#CODIGO DE REVISION DIA\n",
    "#dfpl = df_hora.iloc[500:970]\n",
    "dfpl = df_dia.iloc[0:150]\n",
    "\n",
    "p = figure(width=2500, height=500,\n",
    "        title=\"DIA\",\n",
    "        background_fill_color=\"#efefef\",\n",
    "        tooltips=[(\"Index\", \"@index\"), (\"Open\", \"@Open\"), (\"High\",\"@High\"), (\"Low\",\"@Low\"), (\"Close\",\"@Close\")]\n",
    "        )\n",
    "p.xaxis.major_label_orientation = 0.8 # radians\n",
    "p.x_range.range_padding = 0.05\n",
    "#p.xaxis.axis_line_join = \"bevel\" # radians\n",
    "p.xaxis.axis_line_width = 2\n",
    "\n",
    "p.segment(\"index\", \"High\", \"index\",\"Low\",  color=\"black\", line_width=1, source=dfpl)\n",
    "\n",
    "inc = dfpl.query(\"Close>Open\")\n",
    "dec = dfpl.query(\"Open>Close\")\n",
    "\n",
    "p.vbar(    \n",
    "    x=\"index\",\n",
    "    width=0.6,\n",
    "    bottom=\"Open\",\n",
    "    top=\"Close\",\n",
    "    fill_color=\"red\",\n",
    "    line_color=\"red\",    \n",
    "    source=dec   \n",
    ")\n",
    "\n",
    "\n",
    "p.vbar(    \n",
    "    x=\"index\",\n",
    "    width=0.6,\n",
    "    bottom=\"Open\",\n",
    "    top=\"Close\",\n",
    "    fill_color=\"green\",\n",
    "    line_color=\"green\", \n",
    "    source=inc   \n",
    ")\n",
    "\n",
    "p.scatter(x=\"index\", y=\"pivotHigh\", marker=\"circle\", size=10,\n",
    "           line_color=\"navy\", fill_color=\"blue\", alpha=0.5, legend_label=\"Cambio Tendencia Bajista\", source=dfpl[(dfpl.isPivot==1)])\n",
    "\n",
    "p.scatter(x=\"index\", y=\"pivotLow\", marker=\"circle\", size=10,\n",
    "           line_color=\"navy\", fill_color=\"green\", alpha=0.5, legend_label=\"Cambio Tendencia Alcista\", source=dfpl[(dfpl.isPivot==2)])\n",
    "\n",
    "show(p)"
   ]
  },
  {
   "cell_type": "code",
   "execution_count": 7,
   "id": "732bd872-6c50-4147-9085-e3aeb393b1f4",
   "metadata": {
    "execution": {
     "iopub.execute_input": "2025-06-11T19:53:16.357487Z",
     "iopub.status.busy": "2025-06-11T19:53:16.356958Z",
     "iopub.status.idle": "2025-06-11T19:53:16.486650Z",
     "shell.execute_reply": "2025-06-11T19:53:16.486033Z"
    },
    "papermill": {
     "duration": 0.135499,
     "end_time": "2025-06-11T19:53:16.487613",
     "exception": false,
     "start_time": "2025-06-11T19:53:16.352114",
     "status": "completed"
    },
    "tags": []
   },
   "outputs": [
    {
     "data": {
      "text/html": [
       "\n",
       "  <div id=\"f5bd8aa6-61fa-4fed-905f-146ad047f71c\" data-root-id=\"p1172\" style=\"display: contents;\"></div>\n"
      ]
     },
     "metadata": {},
     "output_type": "display_data"
    },
    {
     "data": {
      "application/javascript": [
       "(function(root) {\n",
       "  function embed_document(root) {\n",
       "  const docs_json = {\"55fb606d-3e58-4949-a975-019cac48743f\":{\"version\":\"3.7.3\",\"title\":\"Bokeh Application\",\"roots\":[{\"type\":\"object\",\"name\":\"Figure\",\"id\":\"p1172\",\"attributes\":{\"width\":2500,\"height\":500,\"x_range\":{\"type\":\"object\",\"name\":\"DataRange1d\",\"id\":\"p1173\",\"attributes\":{\"range_padding\":0.05}},\"y_range\":{\"type\":\"object\",\"name\":\"DataRange1d\",\"id\":\"p1174\"},\"x_scale\":{\"type\":\"object\",\"name\":\"LinearScale\",\"id\":\"p1182\"},\"y_scale\":{\"type\":\"object\",\"name\":\"LinearScale\",\"id\":\"p1183\"},\"title\":{\"type\":\"object\",\"name\":\"Title\",\"id\":\"p1175\",\"attributes\":{\"text\":\"HORA\"}},\"renderers\":[{\"type\":\"object\",\"name\":\"GlyphRenderer\",\"id\":\"p1217\",\"attributes\":{\"data_source\":{\"type\":\"object\",\"name\":\"ColumnDataSource\",\"id\":\"p1208\",\"attributes\":{\"selected\":{\"type\":\"object\",\"name\":\"Selection\",\"id\":\"p1209\",\"attributes\":{\"indices\":[],\"line_indices\":[]}},\"selection_policy\":{\"type\":\"object\",\"name\":\"UnionRenderers\",\"id\":\"p1210\"},\"data\":{\"type\":\"map\",\"entries\":[[\"index\",{\"type\":\"ndarray\",\"array\":{\"type\":\"bytes\",\"data\":\"AAAAAAEAAAACAAAAAwAAAAQAAAAFAAAABgAAAAcAAAAIAAAACQAAAAoAAAALAAAADAAAAA0AAAAOAAAADwAAABAAAAARAAAAEgAAABMAAAAUAAAAFQAAABYAAAAXAAAAGAAAABkAAAAaAAAAGwAAABwAAAAdAAAAHgAAAB8AAAAgAAAAIQAAACIAAAAjAAAAJAAAACUAAAAmAAAAJwAAACgAAAApAAAAKgAAACsAAAAsAAAALQAAAC4AAAAvAAAAMAAAADEAAAAyAAAAMwAAADQAAAA1AAAANgAAADcAAAA4AAAAOQAAADoAAAA7AAAAPAAAAD0AAAA+AAAAPwAAAEAAAABBAAAAQgAAAEMAAABEAAAARQAAAEYAAABHAAAASAAAAEkAAABKAAAASwAAAEwAAABNAAAATgAAAE8AAABQAAAAUQAAAFIAAABTAAAAVAAAAFUAAABWAAAAVwAAAFgAAABZAAAAWgAAAFsAAABcAAAAXQAAAF4AAABfAAAAYAAAAGEAAABiAAAAYwAAAGQAAABlAAAAZgAAAGcAAABoAAAAaQAAAGoAAABrAAAAbAAAAG0AAABuAAAAbwAAAHAAAABxAAAAcgAAAHMAAAB0AAAAdQAAAHYAAAB3AAAAeAAAAHkAAAB6AAAAewAAAHwAAAB9AAAAfgAAAH8AAACAAAAAgQAAAIIAAACDAAAAhAAAAIUAAACGAAAAhwAAAIgAAACJAAAAigAAAIsAAACMAAAAjQAAAI4AAACPAAAAkAAAAJEAAACSAAAAkwAAAJQAAACVAAAA\"},\"shape\":[150],\"dtype\":\"int32\",\"order\":\"little\"}],[\"Close\",{\"type\":\"ndarray\",\"array\":{\"type\":\"bytes\",\"data\":\"AQAAQAo7e0AAAAAghUt7QAAAAADXSXtAAAAA4HpQe0AAAACAwj17QAAAAKBwRXtAAAAAYI9Ke0AAAAAgXFt7QAAAAGBmantAAAAAwI9ie0AAAADgfFR7QAAAAADXJ3tAAAAAgOtJe0ABAABAClN7QAAAACCud3tAAAAAIK6Le0AAAABguI57QAAAAIAUjntAAAAAoJmde0AAAACAPbJ7QAAAAKCZqXtAAAAAYGame0AAAABgj4x7QAAAAAAAnHtAAQAAQDOXe0AAAADgepB7QAEAAMAeeXtAAQAAQAp3e0AAAADgejR7QAEAAEAaPntAAQAAQDNTe0AAAABg5WB7QAAAAIDCX3tAAQAAQDNXe0AAAAAA11N7QAAAAABxNXtAAQAAwB41e0AAAACAFD57QAAAAIDCMXtAAAAA4OBKe0AAAAAghTt7QAAAAGC4LntAAAAAoEc5e0AAAACAwi17QAAAAIDiM3tAAAAAACkwe0ABAADAHj97QAAAAGBCOXtAAQAAwMxIe0ABAADAuBp7QAAAAGC4EntAAAAA4FEoe0ABAADAHi17QAAAAIDrH3tAAAAAAAASe0ABAABAChN7QAAAACCuH3tAAAAAgNcHe0AAAACgmQV7QAAAAOCVCXtAAAAAANcBe0AAAABgOQp7QAEAAEDh9npAAQAAwMwMe0AAAACgRx17QAAAAIA9KntAAAAA4Ho4e0AAAACAwkd7QAAAAADXS3tAAAAAYGZCe0AAAADgUTh7QAEAAMDMQHtAAAAA4KNIe0AAAADgejx7QAAAAKBHPXtAAAAAoHA1e0AAAACAPUZ7QAEAAEDhSntAAAAAgBRae0AAAACgcGF7QAAAACCFW3tAAAAAIIVTe0AAAAAgsFp7QAAAAIA9YntAAAAAAACwe0ABAABACqt7QAEAAMDMsHtAAAAAYFK4e0AAAADA9cB7QAAAAOBRwHtAAAAAANeze0AAAACArrd7QAAAAGC4uHtAAAAAgD2+e0AAAAAghbd7QAEAAMAeuXtAAAAAANeze0AAAADgt7J7QAAAACCFq3tAAAAAIIW7e0AAAACAFLJ7QAAAACCFW3tAAAAAoJlVe0AAAADA9Wx7QAAAAIB6dHtAAQAAwMx0e0AAAAAAAHx7QAAAAGC4entAAAAA4Ix3e0AAAAAA5X57QAEAAMDMkHtAAAAAgMKpe0AAAADgepx7QAAAAGCPhHtAAQAAwMxoe0AAAACAUXR7QAAAACCFa3tAAAAAgD1me0AAAACAFHJ7QAAAAAA9dntAAAAA4FFwe0AAAABgj3p7QAAAAOBRhHtAAQAAwB6Je0AAAACgmY17QAAAAIAUjntAAAAAAF+Le0AAAABApJh7QAAAACCup3tAAQAAwITze0AAAACA6+l7QAAAAKCZ1XtAAAAA4D3ie0ABAABA4ep7QAAAAIA92ntAAAAAACnge0AAAACAFP57QAAAAKBHAXxAAAAAoHAJfEAAAABgjwp8QAAAAIA9DnxAAAAAYLgcfEAAAADgoxh8QAAAAIDrJnxAAAAAIFwmfEAAAACAFBx8QAAAAAAAHHxAAAAAoHAZfEAAAACA6xF8QAAAAOCjFHxA\"},\"shape\":[150],\"dtype\":\"float64\",\"order\":\"little\"}],[\"High\",{\"type\":\"ndarray\",\"array\":{\"type\":\"bytes\",\"data\":\"AQAAQOFSe0AAAADgUVR7QAAAAKBwTXtAAAAAoEdVe0AAAACgR1N7QAAAAIDCS3tAAAAAYI9Me0AAAAAAAGR7QAAAAKD6cHtAAAAAgMJre0AAAADgCWN7QAAAAAApWHtAAAAAYGZie0ABAABAClN7QAAAAGCPentAAAAAgOuLe0AAAADgFJJ7QAEAAEDhkntAAAAAgD2ge0AAAABgZr57QAAAACBct3tAAQAAQOGye0AAAABgZqZ7QAAAAOCjnHtAAAAAgBSme0AAAADgeph7QAAAAOCjkHtAAAAAoJmFe0AAAABguGJ7QAAAAIDrRXtAAAAAgMJVe0AAAACA62V7QAAAAIDCY3tAAAAAYGZge0AAAAAAAGB7QAAAAOB6RHtAAAAAQNg6e0AAAAAgXEN7QAAAAGC4QntAAQAAQDNLe0AAAAAA1097QAAAAKAaPXtAAAAA4FFAe0AAAACgmT17QAAAAKBHPXtAAAAAYLg6e0AAAABg0z97QAAAAKBHR3tAAAAAgOtJe0AAAAAA1x97QAAAAADXI3tAAQAAwB4pe0AAAABgZi57QAAAAMD1MHtAAAAAYI8ge0AAAAAgrh97QAAAAIDCKXtAAAAAgBQge0ABAABAeRR7QAEAAEDhCntAAAAAoHALe0AAAABguA57QAAAAKCZDXtAAQAAwMwUe0ABAABA4R57QAAAACCFK3tAAQAAQAo7e0AAAACgcEl7QAAAAOBNTHtAAAAAwPVMe0ABAADAzDp7QAAAACCFR3tAAQAAQApXe0ABAADAzEh7QAAAAOCjQHtAAAAAIFw/e0ABAABA4UZ7QAAAAIDrVXtAAQAAQApbe0ABAADAHmN7QAAAAOB6ZHtAAAAAgFFce0ABAADAzFx7QAAAAGC4YntAAQAAwB61e0AAAACAwrV7QAAAAIDysHtAAAAAgMK5e0AAAACAFMJ7QAAAAIA9wntAAQAAwMzEe0ABAABA4bp7QAAAAIDCuXtAAQAAQDO/e0AAAAAAALp7QAAAAGA5vntAAAAAwPW8e0AAAACAPbZ7QAAAACCuuXtAAAAAACm8e0AAAACAKLx7QAAAAIDreXtAAAAAoJlde0ABAABAM217QAEAAMDMeHtAAAAAACl8e0AAAACgmYF7QAAAAADXf3tAAAAAAACEe0AAAACAPYJ7QAEAAMAekXtAAAAAgD2qe0AAAACAPap7QAAAACCunXtAAAAAYI+Ie0AAAACgcH17QAAAAIA9dntAAAAAoEdxe0AAAACgHHJ7QAAAAGC4dntAAAAAwPV2e0AAAABguHp7QAAAAODAkHtAAAAAIIWPe0ABAABAM5t7QAAAAKBHlXtAAQAAwECSe0AAAAAA15l7QAAAACCFr3tAAAAAoHD1e0AAAACgrfd7QAEAAEAK63tAAAAAANfje0AAAABA2Ot7QAAAAAAA7HtAAQAAQDPje0AAAAAAKQh8QAAAAAApCHxAAAAAANcLfEAAAABgjw58QAAAAOBRFHxAAAAAYGYefEAAAACAFCZ8QAAAAIDCNXxAAAAAoJkrfEABAABACi18QAAAAIDgIXxAAAAAACkkfEAAAADA9Rx8QAAAAKCZFXxA\"},\"shape\":[150],\"dtype\":\"float64\",\"order\":\"little\"}],[\"Low\",{\"type\":\"ndarray\",\"array\":{\"type\":\"bytes\",\"data\":\"AAAAgBQqe0AAAACAwjF7QAAAACCFO3tAAQAAQOFGe0AAAADg6zl7QAAAACCuNXtAAAAAAJxBe0AAAAAAKUh7QAAAAGCPWntAAQAAwB5Ze0ABAADAzFB7QAAAAKBwGXtAAAAAIFwfe0AAAACAFDJ7QAAAACCuQ3tAAAAAgOtle0AAAADA9YB7QAAAAIDCgXtAAAAA4FGMe0AAAACgmZ17QAAAAMD1oHtAAAAA4FGMe0AAAAAgXIV7QAAAAGC4hntAAAAAoJmVe0AAAADgeox7QAAAAKCZdXtAAAAAIIVve0AAAACAAjF7QAAAAOB6MHtAAAAAoJk9e0AAAADA9VB7QAEAAMDMVHtAAAAAYLhSe0AAAACgmVF7QAAAAIAUJntAAAAAoEcle0ABAADAzDB7QAAAAIDrLXtAAAAAACkwe0AAAAAgXDt7QAAAAAAAKntAAAAAoJkZe0AAAADgeiB7QAAAAADXK3tAAAAA4KMme0AAAADA9Sx7QAAAAOCjOHtAAAAAIFw1e0AAAAAgYwt7QAAAAKBwDXtAAAAAgBQQe0ABAABAMyN7QAAAAAA9HntAAAAAIIUHe0AAAAAgXA97QAAAAKCZCXtAAAAAYGYEe0AAAACgcP16QAAAAGBm+npAAAAAAAD8ekAAAABApAB7QAEAAEAK83pAAAAAgBT+ekAAAADgowh7QAAAAMA3HHtAAAAAgOsne0AAAADgozh7QAAAAKBwQXtAAAAAoEdBe0AAAABgjyZ7QAAAAIA9NntAAAAAIK4/e0AAAADA9Sh7QAAAAOCjMHtAAAAAoHApe0AAAABgjzJ7QAAAAOCjOHtAAAAAYI8+e0AAAAAgXFN7QAEAAEDhTntAAAAAgD1Ge0AAAACAwk17QAAAAOBRUntAAAAAgMKRe0AAAADgo6B7QAAAAAApoHtAAAAAANeve0ABAADAHrd7QAAAAKBwuXtAAQAAQOGye0AAAACAFKp7QAAAAOBRsHtAAAAA4Pu2e0AAAABgZp57QAAAAOA9sntAAAAA4FGwe0AAAAAgrqt7QAAAAMD1pHtAAAAAoHCre0AAAACAFLJ7QAEAAEAzV3tAAAAAwPVQe0AAAACgR1V7QAAAAMD1antAAAAAgOtve0AAAABgZnR7QAAAACCFd3tAAAAAIIVne0ABAADAHm17QAEAAMBCfntAAAAAwPWQe0AAAAAAAJh7QAAAACBcg3tAAQAAwMxke0ABAADAzGB7QAAAAAApYHtAAAAAIFxZe0AAAADgUWR7QAAAAIB6aHtAAAAAgBRse0AAAACAwml7QAEAAEAKd3tAAAAA4FGAe0AAAAAAAIZ7QAAAAKCZiXtAAAAA4FGEe0AAAACAwoV7QAEAAEAKk3tAAAAAAE/de0ABAADAzOh7QAAAAGCPzntAAAAAAADUe0AAAAAAAOB7QAAAAGBm0ntAAQAAwB7Ze0ABAABAM/d7QAAAAADX/XtAAAAAIB3+e0AAAABgjwJ8QAAAAIDrCXxAAAAAAAAMfEAAAADgehh8QAEAAEDhInxAAAAA4FEYfEAAAACgcBt8QAEAAEAKE3xAAAAA4KMYfEAAAACAFAp8QAAAAADXB3xA\"},\"shape\":[150],\"dtype\":\"float64\",\"order\":\"little\"}],[\"Open\",{\"type\":\"ndarray\",\"array\":{\"type\":\"bytes\",\"data\":\"AQAAwB41e0ABAABAMzt7QAAAAIB8S3tAAAAAgD1Ke0AAAADgo1B7QAAAAIDCPXtAAAAAIFxFe0AAAAAAKVB7QAAAAKBwW3tAAAAAAGZqe0AAAABgj2J7QAAAAOCjVHtAAAAAgOsne0AAAABgj0p7QAAAAKBHRXtAAAAAIK53e0AAAAAghYt7QAEAAMDMjntAAAAAgD2Oe0AAAACgvZ17QAAAAIA9sntAAAAA4FGwe0AAAABgZqZ7QAAAAOBRjHtAAAAAAACce0ABAABAM5d7QAAAAOB6kHtAAQAAwB55e0AAAADgo1R7QAEAAMDMNHtAAAAAYGY+e0ABAABAM1N7QAAAAGDlYHtAAAAAgOtfe0AAAAAgXFd7QAAAAGCPQntAAAAAgBQ4e0AAAACgRzV7QAAAAIA9PntAAAAAIK4xe0AAAABguEp7QAAAACCFO3tAAQAAQDMfe0AAAACgcDl7QAAAAKBwLXtAAAAAACk0e0AAAADgUTB7QAEAAEAzP3tAAAAAoEc5e0ABAABA4Q57QAEAAMDMGntAAAAAYLgSe0AAAADgeih7QAEAAMAeLXtAAAAAANcfe0AAAACAFBJ7QAAAAIDrCXtAAAAAANcfe0AAAAAgrgd7QAAAAKCZBXtAAAAAoJkJe0AAAACAwgF7QAAAAIA9CntAAAAAgOsJe0AAAADA9Qx7QAAAAIDrHXtAAAAAgD0qe0AAAADgozh7QAAAAADXR3tAAAAAANdLe0ABAADAzDB7QAAAAOB6OHtAAQAAwMxAe0AAAADgekh7QAAAAOB6PHtAAAAAoHA9e0AAAACgRzV7QAAAACBcP3tAAQAAQApLe0AAAADgLVp7QAAAAIBRYXtAAAAAIIVbe0AAAAAgrlN7QAAAAGCPWntAAQAAQAqXe0AAAAAAALB7QAEAAMAeq3tAAQAAQM2we0AAAADgerh7QAAAAMD1wHtAAAAA4FHAe0AAAABguK57QAAAAADXt3tAAQAAwMy4e0AAAABgj557QAAAACCut3tAAQAAwB65e0AAAADABbR7QAAAAGC4sntAAAAAIIWre0AAAAAgXLt7QAAAAGC4dntAAAAAIK5be0AAAACgR1V7QAAAAMD1bHtAAAAA4FF0e0AAAADgo3R7QAAAAAAAfHtAAAAAgBRqe0AAAACgmXd7QAAAACBcf3tAAAAAwPWQe0AAAACAwql7QAAAAOB6nHtAAAAA4HqEe0ABAABA4WJ7QAAAAIBRdHtAAAAAwFtre0AAAACAPWZ7QAAAAAA9cntAAAAAgD12e0AAAAAAKXB7QAEAAEAzh3tAAAAAACmEe0ABAADAHol7QAAAAIAUjntAAAAAgD2Oe0AAAAAghYt7QAAAAECkmHtAAAAAgD3me0AAAAAghfN7QAAAAIDr6XtAAAAAoJnVe0AAAABgj+J7QAEAAEDh6ntAAAAAYGbae0AAAABgZv57QAAAAIAU/ntAAAAAoHABfEAAAACgRwl8QAAAAGC4CnxAAAAAgD0OfEAAAADgoxx8QAAAAOBRJnxAAQAAQOEmfEAAAAAgXCZ8QAAAAAApHHxAAAAAAAAcfEAAAACgcBl8QAAAAIAUEnxA\"},\"shape\":[150],\"dtype\":\"float64\",\"order\":\"little\"}],[\"Volume\",{\"type\":\"ndarray\",\"array\":{\"type\":\"bytes\",\"data\":\"5gMjAQsWsADdm4gAiUmdAJtDwwAKjKwA5JqnADSdqQB5oosAtRp4AJVrSgD4mh8B43FcAe6tzQDjZTgBZ2qvAPwFnwCM12EAN7iBAP7YFAFAxTsBWJtXActQWQEYa4sA6yJ3AGjCZgALzb0AHKPdAGbm8gAMbJoAJ+hgAF2JsAD3AE8Axc9bAKn4wABTTsAAxHKdAACHbgBlQG0A0Z9lAI/8mwAjsuoAzDnfANwUiQAjyVMAfllhAM6jVgB/MngAl82rAP/L7gARXIIA1AKGAJaNYAA03GgAp3XEAOKXAgH0rKEAcpSWAMZ+bQBm4lEAABtPANcXXgC0zAEB+S6zAGpfhQD+el0AX+djAFY9cwAmScAAznS1AFZnvgB4/pIAZyVlANaGlACYuFAAJ/BxAHPgygDHsccAZTaGAIJqaACp8V4AueR3AOUATgCiz7EA+zEuAVPaswCtY3oAjnSAAA/KdQD0wI0A2/MjAXu/owBwIWgAbUNjAJO4mAAYuXoAMsNrAAuxdQC+dlcAY5BXAAltZwCFcEYBlQiUAMLOjAAEWIMAulRbAFe/WwDpOpsAH/upAO83UgBdz2UADOOgACeDYACZvXoAul0+AZWtqQBT35EAVn5iALAMTACVP04A/b49ACW9twCEE6IAAPhkAAlscwCdgUYAzO89AJM5awAZ6OYAiJU2ATZEeAAAAAAA16LZAlgWUwCednIA7AATAcDOwQCDzowAhpZnACXhYgDgGFQAjO93AF8I0QA7aNEAna2nAHstdQCd9F0AV4hMAJbHeADWyZ4A\"},\"shape\":[150],\"dtype\":\"int32\",\"order\":\"little\"}],[\"datetime\",{\"type\":\"ndarray\",\"array\":{\"type\":\"bytes\",\"data\":\"AAD8Lk+LeEIAAOSdUot4QgAAzAxWi3hCAAC0e1mLeEIAAJzqXIt4QgAAhFlgi3hCAABsyGOLeEIAALyUoYt4QgAApAOli3hCAACMcqiLeEIAAHThq4t4QgAAXFCvi3hCAABEv7KLeEIAACwutot4QgAAfPrzi3hCAABkafeLeEIAAEzY+ot4QgAANEf+i3hCAAActgGMeEIAAAQlBYx4QgAA7JMIjHhCAAA8YEaMeEIAACTPSYx4QgAADD5NjHhCAAD0rFCMeEIAANwbVIx4QgAAxIpXjHhCAACs+VqMeEIAADz3j414QgAAJGaTjXhCAAAM1ZaNeEIAAPRDmo14QgAA3LKdjXhCAADEIaGNeEIAAKyQpI14QgAA/FzijXhCAADky+WNeEIAAMw66Y14QgAAtKnsjXhCAACcGPCNeEIAAISH8414QgAAbPb2jXhCAAC8wjSOeEIAAKQxOI54QgAAjKA7jnhCAAB0Dz+OeEIAAFx+Qo54QgAARO1FjnhCAAAsXEmOeEIAAHwoh454QgAAZJeKjnhCAABMBo6OeEIAADR1kY54QgAAHOSUjnhCAAAEU5iOeEIAAOzBm454QgAAvFl+j3hCAACkyIGPeEIAAIw3hY94QgAAdKaIj3hCAABcFYyPeEIAAESEj494QgAALPOSj3hCAAB8v9CPeEIAAGQu1I94QgAATJ3Xj3hCAAA0DNuPeEIAABx73o94QgAABOrhj3hCAADsWOWPeEIAADwlI5B4QgAAJJQmkHhCAAAMAyqQeEIAAPRxLZB4QgAA3OAwkHhCAADETzSQeEIAAKy+N5B4QgAA/Ip1kHhCAADk+XiQeEIAAMxofJB4QgAAtNd/kHhCAACcRoOQeEIAAIS1hpB4QgAAbCSKkHhCAAC88MeQeEIAAKRfy5B4QgAAjM7OkHhCAAB0PdKQeEIAAFys1ZB4QgAARBvZkHhCAAAsityQeEIAAPwhv5F4QgAA5JDCkXhCAADM/8WReEIAAHztY5J4QgAAZFxnknhCAABMy2qSeEIAADQ6bpJ4QgAAHKlxknhCAAAEGHWSeEIAAOyGeJJ4QgAAPFO2knhCAAAkwrmSeEIAAAwxvZJ4QgAA9J/AknhCAADcDsSSeEIAAMR9x5J4QgAArOzKknhCAAD8uAiTeEIAAOQnDJN4QgAAzJYPk3hCAAC0BROTeEIAAJx0FpN4QgAAhOMZk3hCAABsUh2TeEIAADzq/5N4QgAAJFkDlHhCAAAMyAaUeEIAAPQ2CpR4QgAA3KUNlHhCAADEFBGUeEIAAKyDFJR4QgAA/E9SlHhCAADkvlWUeEIAAMwtWZR4QgAAtJxclHhCAACcC2CUeEIAAIR6Y5R4QgAAbOlmlHhCAAC8taSUeEIAAKQkqJR4QgAAjJOrlHhCAAB0Aq+UeEIAAFxxspR4QgAAROC1lHhCAAAsT7mUeEIAAHwb95R4QgAAZIr6lHhCAABM+f2UeEIAADRoAZV4QgAAHNcElXhCAAAERgiVeEIAAOy0C5V4QgAAPIFJlXhCAAAk8EyVeEIAAAxfUJV4QgAA9M1TlXhCAADcPFeVeEIAAMSrWpV4QgAArBpelXhC\"},\"shape\":[150],\"dtype\":\"float64\",\"order\":\"little\"}],[\"companyName\",{\"type\":\"ndarray\",\"array\":[\"SPY\",\"SPY\",\"SPY\",\"SPY\",\"SPY\",\"SPY\",\"SPY\",\"SPY\",\"SPY\",\"SPY\",\"SPY\",\"SPY\",\"SPY\",\"SPY\",\"SPY\",\"SPY\",\"SPY\",\"SPY\",\"SPY\",\"SPY\",\"SPY\",\"SPY\",\"SPY\",\"SPY\",\"SPY\",\"SPY\",\"SPY\",\"SPY\",\"SPY\",\"SPY\",\"SPY\",\"SPY\",\"SPY\",\"SPY\",\"SPY\",\"SPY\",\"SPY\",\"SPY\",\"SPY\",\"SPY\",\"SPY\",\"SPY\",\"SPY\",\"SPY\",\"SPY\",\"SPY\",\"SPY\",\"SPY\",\"SPY\",\"SPY\",\"SPY\",\"SPY\",\"SPY\",\"SPY\",\"SPY\",\"SPY\",\"SPY\",\"SPY\",\"SPY\",\"SPY\",\"SPY\",\"SPY\",\"SPY\",\"SPY\",\"SPY\",\"SPY\",\"SPY\",\"SPY\",\"SPY\",\"SPY\",\"SPY\",\"SPY\",\"SPY\",\"SPY\",\"SPY\",\"SPY\",\"SPY\",\"SPY\",\"SPY\",\"SPY\",\"SPY\",\"SPY\",\"SPY\",\"SPY\",\"SPY\",\"SPY\",\"SPY\",\"SPY\",\"SPY\",\"SPY\",\"SPY\",\"SPY\",\"SPY\",\"SPY\",\"SPY\",\"SPY\",\"SPY\",\"SPY\",\"SPY\",\"SPY\",\"SPY\",\"SPY\",\"SPY\",\"SPY\",\"SPY\",\"SPY\",\"SPY\",\"SPY\",\"SPY\",\"SPY\",\"SPY\",\"SPY\",\"SPY\",\"SPY\",\"SPY\",\"SPY\",\"SPY\",\"SPY\",\"SPY\",\"SPY\",\"SPY\",\"SPY\",\"SPY\",\"SPY\",\"SPY\",\"SPY\",\"SPY\",\"SPY\",\"SPY\",\"SPY\",\"SPY\",\"SPY\",\"SPY\",\"SPY\",\"SPY\",\"SPY\",\"SPY\",\"SPY\",\"SPY\",\"SPY\",\"SPY\",\"SPY\",\"SPY\",\"SPY\",\"SPY\",\"SPY\",\"SPY\",\"SPY\",\"SPY\",\"SPY\"],\"shape\":[150],\"dtype\":\"object\",\"order\":\"little\"}],[\"fecha\",{\"type\":\"ndarray\",\"array\":{\"type\":\"bytes\",\"data\":\"AADA1SCLeEIAAMDVIIt4QgAAwNUgi3hCAADA1SCLeEIAAMDVIIt4QgAAwNUgi3hCAADA1SCLeEIAAIA7c4t4QgAAgDtzi3hCAACAO3OLeEIAAIA7c4t4QgAAgDtzi3hCAACAO3OLeEIAAIA7c4t4QgAAQKHFi3hCAABAocWLeEIAAEChxYt4QgAAQKHFi3hCAABAocWLeEIAAEChxYt4QgAAQKHFi3hCAAAABxiMeEIAAAAHGIx4QgAAAAcYjHhCAAAABxiMeEIAAAAHGIx4QgAAAAcYjHhCAAAABxiMeEIAAACeYY14QgAAAJ5hjXhCAAAAnmGNeEIAAACeYY14QgAAAJ5hjXhCAAAAnmGNeEIAAACeYY14QgAAwAO0jXhCAADAA7SNeEIAAMADtI14QgAAwAO0jXhCAADAA7SNeEIAAMADtI14QgAAwAO0jXhCAACAaQaOeEIAAIBpBo54QgAAgGkGjnhCAACAaQaOeEIAAIBpBo54QgAAgGkGjnhCAACAaQaOeEIAAEDPWI54QgAAQM9YjnhCAABAz1iOeEIAAEDPWI54QgAAQM9YjnhCAABAz1iOeEIAAEDPWI54QgAAgABQj3hCAACAAFCPeEIAAIAAUI94QgAAgABQj3hCAACAAFCPeEIAAIAAUI94QgAAgABQj3hCAABAZqKPeEIAAEBmoo94QgAAQGaij3hCAABAZqKPeEIAAEBmoo94QgAAQGaij3hCAABAZqKPeEIAAADM9I94QgAAAMz0j3hCAAAAzPSPeEIAAADM9I94QgAAAMz0j3hCAAAAzPSPeEIAAADM9I94QgAAwDFHkHhCAADAMUeQeEIAAMAxR5B4QgAAwDFHkHhCAADAMUeQeEIAAMAxR5B4QgAAwDFHkHhCAACAl5mQeEIAAICXmZB4QgAAgJeZkHhCAACAl5mQeEIAAICXmZB4QgAAgJeZkHhCAACAl5mQeEIAAMDIkJF4QgAAwMiQkXhCAADAyJCReEIAAECUNZJ4QgAAQJQ1knhCAABAlDWSeEIAAECUNZJ4QgAAQJQ1knhCAABAlDWSeEIAAECUNZJ4QgAAAPqHknhCAAAA+oeSeEIAAAD6h5J4QgAAAPqHknhCAAAA+oeSeEIAAAD6h5J4QgAAAPqHknhCAADAX9qSeEIAAMBf2pJ4QgAAwF/aknhCAADAX9qSeEIAAMBf2pJ4QgAAwF/aknhCAADAX9qSeEIAAACR0ZN4QgAAAJHRk3hCAAAAkdGTeEIAAACR0ZN4QgAAAJHRk3hCAAAAkdGTeEIAAACR0ZN4QgAAwPYjlHhCAADA9iOUeEIAAMD2I5R4QgAAwPYjlHhCAADA9iOUeEIAAMD2I5R4QgAAwPYjlHhCAACAXHaUeEIAAIBcdpR4QgAAgFx2lHhCAACAXHaUeEIAAIBcdpR4QgAAgFx2lHhCAACAXHaUeEIAAEDCyJR4QgAAQMLIlHhCAABAwsiUeEIAAEDCyJR4QgAAQMLIlHhCAABAwsiUeEIAAEDCyJR4QgAAACgblXhCAAAAKBuVeEIAAAAoG5V4QgAAACgblXhCAAAAKBuVeEIAAAAoG5V4QgAAACgblXhC\"},\"shape\":[150],\"dtype\":\"float64\",\"order\":\"little\"}],[\"SMA20\",{\"type\":\"ndarray\",\"array\":{\"type\":\"bytes\",\"data\":\"AAAAAAAA+H8AAAAAAAD4fwAAAAAAAPh/AAAAAAAA+H8AAAAAAAD4fwAAAAAAAPh/AAAAAAAA+H8AAAAAAAD4fwAAAAAAAPh/AAAAAAAA+H8AAAAAAAD4fwAAAAAAAPh/AAAAAAAA+H8AAAAAAAD4fwAAAAAAAPh/AAAAAAAA+H8AAAAAAAD4fwAAAAAAAPh/AAAAAAAA+H8zMzPLnGF7QGZmZvYjZ3tAmpmZOa9re0BmZmY+BW97QGZmZubLcntAzczMvER3e0AAAABABXt7QAAAADhZfXtAZmZmhrt+e0CamZlZCXx7QM3MzKw2entAmpmZMSZ6e0AzMzODAH17QAAAABAYfntAAAAAUE1+e0BmZmaOgnx7QDMzM7MyeHtAmpmZ0bdze0CamZnRt297QGZmZnZTantAZmZmbihle0AAAABop197QJqZmYGrWXtAzczMhIFVe0CamZlx/k97QM3MzDQHS3tAAAAAUDZGe0CamZnpT0N7QGZmZh45QHtAZmZmNj1Be0BmZmZWeD97QGZmZv4+PHtAmpmZ0Wo5e0CamZmh4jZ7QDMzMwsfNHtAMzMzS9Qwe0DNzMz0Gy97QGZmZoYJLntAZmZmRlMre0AAAAAIHil7QAAAAEjaJXtAmpmZ+fcie0AzMzPTJCF7QAAAAOjSHXtAzczMBC0ce0DNzMysCxt7QGZmZua/GntAAAAA6Goae0AzMzODJBt7QM3MzGxLG3tAZmZmTkcde0DNzMyUKB97QM7MzOxhIHtAaGZmLsIhe0ACAADALyN7QDUzM7tZJXtAzszMDBIne0BoZmae/yh7QM7MzLRZLHtAzszMDJMwe0BoZmaW9zR7QGhmZn5zOXtAaGZmrh09e0CbmZk5G0J7QM3MzNxgRntAmpmZ4bZNe0DNzMyEJ1R7QM3MzJwrWntAAAAAaMxfe0AzMzOLp2V7QJqZmVHza3tAAAAAYCBye0AAAAAQEnh7QAAAALCsfXtAZmZmnimEe0AzMzNLRop7QM3MzMzbkHtAzczMrFaWe0BmZmbOh5t7QM3MzDyan3tAMzMzQxuke0AzMzM7b6h7QJqZmaHVqHtAmpmZgZSoe0AAAAC4Hal7QAAAANgjpntAmpmZkW2je0AzMzO7yaB7QDMzMzu1nXtAZmZmlgmae0DNzMwkxJZ7QJqZmaEDlXtAZmZmblGUe0DNzMz055J7QGZmZqYFkHtAAAAACBaMe0BmZmZepYh7QM3MzKwHhXtAmpmZwTSBe0BmZmaGVX57QAAAALjeentAzczM/JR3e0DNzMxMInl7QAAAAFB4e3tAMzMzw+B8e0CamZlRIn57QAAAAOhlf3tAAAAAqCqAe0BmZmamqYF7QGZmZrYRhHtAAAAAgOaJe0DNzMw8W457QM3MzGSMkHtAAAAAWAmUe0CamZkJJ5l7QDMzMxPTnntAMzMzczeke0AzMzNri6t7QM3MzOxLs3tAzczMVN26e0CamZnZR8J7QDMzMzstyntAmpmZ4UjSe0CamZlhs9l7QAAAADiX4XtAMzMzizrpe0DNzMwkVPB7QM3MzGSP93tAMzMzAwD+e0CamZnhTwN8QGZmZtb3BHxA\"},\"shape\":[150],\"dtype\":\"float64\",\"order\":\"little\"}],[\"SMA40\",{\"type\":\"ndarray\",\"array\":{\"type\":\"bytes\",\"data\":\"AAAAAAAA+H8AAAAAAAD4fwAAAAAAAPh/AAAAAAAA+H8AAAAAAAD4fwAAAAAAAPh/AAAAAAAA+H8AAAAAAAD4fwAAAAAAAPh/AAAAAAAA+H8AAAAAAAD4fwAAAAAAAPh/AAAAAAAA+H8AAAAAAAD4fwAAAAAAAPh/AAAAAAAA+H8AAAAAAAD4fwAAAAAAAPh/AAAAAAAA+H8AAAAAAAD4fwAAAAAAAPh/AAAAAAAA+H8AAAAAAAD4fwAAAAAAAPh/AAAAAAAA+H8AAAAAAAD4fwAAAAAAAPh/AAAAAAAA+H8AAAAAAAD4fwAAAAAAAPh/AAAAAAAA+H8AAAAAAAD4fwAAAAAAAPh/AAAAAAAA+H8AAAAAAAD4fwAAAAAAAPh/AAAAAAAA+H8AAAAAAAD4fwAAAAAAAPh/zczMnGJje0AzMzOvZWN7QJqZmV2tYntAmpmZYUNie0AAAAAsZWF7QM3MzPglYXtAAAAAyJ1ge0DNzMyQVGB7QGZmZlJ6X3tAAAAASKNee0CamZmB11x7QAAAAJgyW3tAZmZmqjVbe0DNzMxYfVp7QJqZmS02WXtAzczMbKtWe0AAAABUp1N7QAAAAKzgUHtAAAAAjIVNe0AzMzO/uEl7QDMzM1uBRXtAzczMsE9Be0BmZmYqaD17QGZmZjaqOXtAMzMzuxU2e0DNzMxwCTN7QDMzMxt7MHtAzczMaN0ue0DNzMzQri17QJqZmVFELntAZmZm0l8ue0CamZnJsy17QDMzM1/mLHtAAAAAaFIse0CamZllpyt7QDMzMwMXK3tAzczMABcre0BmZmaShCt7QJqZmX3WK3tAZmZmitgse0AzMzPvaC17QAAAALw1LntAzczMQCEve0DNzMwQ9y97QM3MzPBGMXtAMzMzR2E0e0CamZm1czd7QGZmZkJLOntAmpmZdXg9e0AAAAB8eUB7QAAAAFCdRHtAZmZmeqRIe0BmZmb+OUx7QDMzM2+3T3tAMzMzr6xTe0AzMzMD0Fd7QM3MzOz2W3tAmpmZJatfe0CamZnB8GN7QM3MzKQWaHtAzczMbIlse0DNzMxc8XB7QAAAAKj5cntAmpmZ3Vd1e0BmZmZKv3d7QM3MzFzteXtAMzMzi8p7e0AAAACsen17QJqZmdHAfntAzczMkNh/e0AzMzO7W4F7QM3MzACSg3tAMzMzvzGGe0BmZmZSSoh7QGZmZqIXintAmpmZKS6Le0CamZmVwIx7QM3MzCyvjXtAAAAASF6Oe0CamZnh9457QJqZmf18j3tAAAAAHAKQe0AzMzP3+5B7QM3MzGgGkntAmpmZPf+Se0DNzMwUI5J7QM3MzLxpkXtAmpmZMXqQe0DNzMxwr497QGZmZqYNj3tAZmZmUlWQe0AzMzNvr5F7QJqZmelukntAZmZmpniTe0AAAABYlpR7QJqZmY10lXtAzczMaG6We0AAAACMSZh7QDMzM1dAmntAmpmZbZmce0DNzMxIk557QAAAABzhoHtAMzMzl7Wle0DNzMzYlap7QJqZmf07r3tAZmZmbq6ze0BmZmYG3bd7QGZmZgbdu3tAzczM1NS/e0AAAADMsMN7QDMzMytvx3tA\"},\"shape\":[150],\"dtype\":\"float64\",\"order\":\"little\"}],[\"SMA100\",{\"type\":\"ndarray\",\"array\":{\"type\":\"bytes\",\"data\":\"AAAAAAAA+H8AAAAAAAD4fwAAAAAAAPh/AAAAAAAA+H8AAAAAAAD4fwAAAAAAAPh/AAAAAAAA+H8AAAAAAAD4fwAAAAAAAPh/AAAAAAAA+H8AAAAAAAD4fwAAAAAAAPh/AAAAAAAA+H8AAAAAAAD4fwAAAAAAAPh/AAAAAAAA+H8AAAAAAAD4fwAAAAAAAPh/AAAAAAAA+H8AAAAAAAD4fwAAAAAAAPh/AAAAAAAA+H8AAAAAAAD4fwAAAAAAAPh/AAAAAAAA+H8AAAAAAAD4fwAAAAAAAPh/AAAAAAAA+H8AAAAAAAD4fwAAAAAAAPh/AAAAAAAA+H8AAAAAAAD4fwAAAAAAAPh/AAAAAAAA+H8AAAAAAAD4fwAAAAAAAPh/AAAAAAAA+H8AAAAAAAD4fwAAAAAAAPh/AAAAAAAA+H8AAAAAAAD4fwAAAAAAAPh/AAAAAAAA+H8AAAAAAAD4fwAAAAAAAPh/AAAAAAAA+H8AAAAAAAD4fwAAAAAAAPh/AAAAAAAA+H8AAAAAAAD4fwAAAAAAAPh/AAAAAAAA+H8AAAAAAAD4fwAAAAAAAPh/AAAAAAAA+H8AAAAAAAD4fwAAAAAAAPh/AAAAAAAA+H8AAAAAAAD4fwAAAAAAAPh/AAAAAAAA+H8AAAAAAAD4fwAAAAAAAPh/AAAAAAAA+H8AAAAAAAD4fwAAAAAAAPh/AAAAAAAA+H8AAAAAAAD4fwAAAAAAAPh/AAAAAAAA+H8AAAAAAAD4fwAAAAAAAPh/AAAAAAAA+H8AAAAAAAD4fwAAAAAAAPh/AAAAAAAA+H8AAAAAAAD4fwAAAAAAAPh/AAAAAAAA+H8AAAAAAAD4fwAAAAAAAPh/AAAAAAAA+H8AAAAAAAD4fwAAAAAAAPh/AAAAAAAA+H8AAAAAAAD4fwAAAAAAAPh/AAAAAAAA+H8AAAAAAAD4fwAAAAAAAPh/AAAAAAAA+H8AAAAAAAD4fwAAAAAAAPh/AAAAAAAA+H8AAAAAAAD4fwAAAAAAAPh/AAAAAAAA+H8AAAAAAAD4fwAAAAAAAPh/16NwRb1ae0C4HoUD7lt7QBSuR/kWXHtASOF6FDVce0BSuB79fVx7QJqZmREKXXtA9ihcT4Nde0CF61HgAV57QArXoyhSXntArkfh0nNee0AzMzNbvF57QBSuR8FWX3tAmpmZWaNge0DD9Si0dmF7QJqZmXn1YXtAmpmZYc9he0AzMzOTk2F7QGZmZnY5YXtAj8L1eNNge0B7FK4PZGB7QM3MzHTKX3tAmpmZ0Tdfe0DsUbiWx157QGZmZn6yXntAFK5HKYJee0Bcj8KVaV57QI/C9XBjXntAH4XrKZJee0BxPQov6F57QArXoxgPYHtA16Nwhd9he0BSuB5dYWN7QIXrUSCMZHtAj8L1KNple0CF61E4VGd7QI/C9UisaHtAMzMzU2Fqe0CF61HIY2x7QGZmZn5XbntAKVyPon9we0BxPQpXanJ7QArXo8iFdHtAhetREOd2e0Bcj8LdInl7QPYoXLege3tAPQrXcw1+e0CF61FoaYB7QMP1KNyegntAMzMzw9yEe0AUrkeh34Z7QD0K12tfiXtA\"},\"shape\":[150],\"dtype\":\"float64\",\"order\":\"little\"}],[\"SMA200\",{\"type\":\"ndarray\",\"array\":{\"type\":\"bytes\",\"data\":\"AAAAAAAA+H8AAAAAAAD4fwAAAAAAAPh/AAAAAAAA+H8AAAAAAAD4fwAAAAAAAPh/AAAAAAAA+H8AAAAAAAD4fwAAAAAAAPh/AAAAAAAA+H8AAAAAAAD4fwAAAAAAAPh/AAAAAAAA+H8AAAAAAAD4fwAAAAAAAPh/AAAAAAAA+H8AAAAAAAD4fwAAAAAAAPh/AAAAAAAA+H8AAAAAAAD4fwAAAAAAAPh/AAAAAAAA+H8AAAAAAAD4fwAAAAAAAPh/AAAAAAAA+H8AAAAAAAD4fwAAAAAAAPh/AAAAAAAA+H8AAAAAAAD4fwAAAAAAAPh/AAAAAAAA+H8AAAAAAAD4fwAAAAAAAPh/AAAAAAAA+H8AAAAAAAD4fwAAAAAAAPh/AAAAAAAA+H8AAAAAAAD4fwAAAAAAAPh/AAAAAAAA+H8AAAAAAAD4fwAAAAAAAPh/AAAAAAAA+H8AAAAAAAD4fwAAAAAAAPh/AAAAAAAA+H8AAAAAAAD4fwAAAAAAAPh/AAAAAAAA+H8AAAAAAAD4fwAAAAAAAPh/AAAAAAAA+H8AAAAAAAD4fwAAAAAAAPh/AAAAAAAA+H8AAAAAAAD4fwAAAAAAAPh/AAAAAAAA+H8AAAAAAAD4fwAAAAAAAPh/AAAAAAAA+H8AAAAAAAD4fwAAAAAAAPh/AAAAAAAA+H8AAAAAAAD4fwAAAAAAAPh/AAAAAAAA+H8AAAAAAAD4fwAAAAAAAPh/AAAAAAAA+H8AAAAAAAD4fwAAAAAAAPh/AAAAAAAA+H8AAAAAAAD4fwAAAAAAAPh/AAAAAAAA+H8AAAAAAAD4fwAAAAAAAPh/AAAAAAAA+H8AAAAAAAD4fwAAAAAAAPh/AAAAAAAA+H8AAAAAAAD4fwAAAAAAAPh/AAAAAAAA+H8AAAAAAAD4fwAAAAAAAPh/AAAAAAAA+H8AAAAAAAD4fwAAAAAAAPh/AAAAAAAA+H8AAAAAAAD4fwAAAAAAAPh/AAAAAAAA+H8AAAAAAAD4fwAAAAAAAPh/AAAAAAAA+H8AAAAAAAD4fwAAAAAAAPh/AAAAAAAA+H8AAAAAAAD4fwAAAAAAAPh/AAAAAAAA+H8AAAAAAAD4fwAAAAAAAPh/AAAAAAAA+H8AAAAAAAD4fwAAAAAAAPh/AAAAAAAA+H8AAAAAAAD4fwAAAAAAAPh/AAAAAAAA+H8AAAAAAAD4fwAAAAAAAPh/AAAAAAAA+H8AAAAAAAD4fwAAAAAAAPh/AAAAAAAA+H8AAAAAAAD4fwAAAAAAAPh/AAAAAAAA+H8AAAAAAAD4fwAAAAAAAPh/AAAAAAAA+H8AAAAAAAD4fwAAAAAAAPh/AAAAAAAA+H8AAAAAAAD4fwAAAAAAAPh/AAAAAAAA+H8AAAAAAAD4fwAAAAAAAPh/AAAAAAAA+H8AAAAAAAD4fwAAAAAAAPh/AAAAAAAA+H8AAAAAAAD4fwAAAAAAAPh/AAAAAAAA+H8AAAAAAAD4fwAAAAAAAPh/AAAAAAAA+H8AAAAAAAD4fwAAAAAAAPh/AAAAAAAA+H8AAAAAAAD4fwAAAAAAAPh/AAAAAAAA+H8AAAAAAAD4fwAAAAAAAPh/\"},\"shape\":[150],\"dtype\":\"float64\",\"order\":\"little\"}],[\"pivotHigh\",{\"type\":\"ndarray\",\"array\":{\"type\":\"bytes\",\"data\":\"AAAAAAAA+H8AAAAAAAD4fwAAAAAAAPh/AAAAAAAA+H8AAAAAAAD4fwAAAAAAAPh/AAAAAAAA+H8AAAAAAAD4f7x0k7j+cHtAAAAAAAAA+H8AAAAAAAD4fwAAAAAAAPh/AAAAAAAA+H8AAAAAAAD4fwAAAAAAAPh/AAAAAAAA+H8AAAAAAAD4fwAAAAAAAPh/AAAAAAAA+H+8dJN4ar57QAAAAAAAAPh/AAAAAAAA+H8AAAAAAAD4fwAAAAAAAPh/AAAAAAAA+H8AAAAAAAD4fwAAAAAAAPh/AAAAAAAA+H8AAAAAAAD4fwAAAAAAAPh/AAAAAAAA+H8AAAAAAAD4fwAAAAAAAPh/AAAAAAAA+H8AAAAAAAD4fwAAAAAAAPh/AAAAAAAA+H8AAAAAAAD4fwAAAAAAAPh/AAAAAAAA+H8AAAAAAAD4fwAAAAAAAPh/AAAAAAAA+H8AAAAAAAD4fwAAAAAAAPh/AAAAAAAA+H8AAAAAAAD4fwAAAAAAAPh/vHSTmO9Je0AAAAAAAAD4fwAAAAAAAPh/AAAAAAAA+H8AAAAAAAD4fwAAAAAAAPh/AAAAAAAA+H8AAAAAAAD4fwAAAAAAAPh/AAAAAAAA+H8AAAAAAAD4fwAAAAAAAPh/AAAAAAAA+H8AAAAAAAD4fwAAAAAAAPh/AAAAAAAA+H8AAAAAAAD4fwAAAAAAAPh/AAAAAAAA+H8AAAAAAAD4f7x0k/hRTHtAAAAAAAAA+H8AAAAAAAD4fwAAAAAAAPh/AAAAAAAA+H8AAAAAAAD4fwAAAAAAAPh/AAAAAAAA+H8AAAAAAAD4fwAAAAAAAPh/AAAAAAAA+H8AAAAAAAD4fwAAAAAAAPh/AAAAAAAA+H8AAAAAAAD4fwAAAAAAAPh/AAAAAAAA+H8AAAAAAAD4fwAAAAAAAPh/AAAAAAAA+H+8dJOYGMJ7QAAAAAAAAPh/AAAAAAAA+H8AAAAAAAD4fwAAAAAAAPh/AAAAAAAA+H8AAAAAAAD4fwAAAAAAAPh/AAAAAAAA+H8AAAAAAAD4fwAAAAAAAPh/vHSTGC28e0AAAAAAAAD4fwAAAAAAAPh/AAAAAAAA+H8AAAAAAAD4fwAAAAAAAPh/AAAAAAAA+H8AAAAAAAD4fwAAAAAAAPh/AAAAAAAA+H8AAAAAAAD4fwAAAAAAAPh/vHSTmEGqe0AAAAAAAAD4fwAAAAAAAPh/AAAAAAAA+H8AAAAAAAD4fwAAAAAAAPh/AAAAAAAA+H8AAAAAAAD4fwAAAAAAAPh/AAAAAAAA+H8AAAAAAAD4fwAAAAAAAPh/AAAAAAAA+H8AAAAAAAD4fwAAAAAAAPh/AAAAAAAA+H8AAAAAAAD4fwAAAAAAAPh/vHSTuHT1e0AAAAAAAAD4fwAAAAAAAPh/AAAAAAAA+H8AAAAAAAD4fwAAAAAAAPh/AAAAAAAA+H8AAAAAAAD4fwAAAAAAAPh/AAAAAAAA+H8AAAAAAAD4fwAAAAAAAPh/AAAAAAAA+H8AAAAAAAD4f7x0k5jGNXxAAAAAAAAA+H8AAAAAAAD4fwAAAAAAAPh/AAAAAAAA+H8AAAAAAAD4fwAAAAAAAPh/\"},\"shape\":[150],\"dtype\":\"float64\",\"order\":\"little\"}],[\"pivotLow\",{\"type\":\"ndarray\",\"array\":{\"type\":\"bytes\",\"data\":\"AAAAAAAA+H8AAAAAAAD4fwAAAAAAAPh/AAAAAAAA+H8AAAAAAAD4fwAAAAAAAPh/AAAAAAAA+H8AAAAAAAD4fwAAAAAAAPh/AAAAAAAA+H8AAAAAAAD4f0SLbIdsGXtAAAAAAAAA+H8AAAAAAAD4fwAAAAAAAPh/AAAAAAAA+H8AAAAAAAD4fwAAAAAAAPh/AAAAAAAA+H8AAAAAAAD4fwAAAAAAAPh/AAAAAAAA+H8AAAAAAAD4fwAAAAAAAPh/AAAAAAAA+H8AAAAAAAD4fwAAAAAAAPh/AAAAAAAA+H9Ei2xn/jB7QAAAAAAAAPh/AAAAAAAA+H8AAAAAAAD4fwAAAAAAAPh/AAAAAAAA+H8AAAAAAAD4fwAAAAAAAPh/AAAAAAAA+H8AAAAAAAD4fwAAAAAAAPh/AAAAAAAA+H8AAAAAAAD4fwAAAAAAAPh/AAAAAAAA+H9Ei2zHdiB7QAAAAAAAAPh/AAAAAAAA+H8AAAAAAAD4fwAAAAAAAPh/AAAAAAAA+H8AAAAAAAD4fwAAAAAAAPh/AAAAAAAA+H8AAAAAAAD4fwAAAAAAAPh/AAAAAAAA+H8AAAAAAAD4fwAAAAAAAPh/AAAAAAAA+H8AAAAAAAD4fwAAAAAAAPh/AAAAAAAA+H8AAAAAAAD4f0WLbCcG83pAAAAAAAAA+H8AAAAAAAD4fwAAAAAAAPh/AAAAAAAA+H8AAAAAAAD4fwAAAAAAAPh/AAAAAAAA+H8AAAAAAAD4fwAAAAAAAPh/AAAAAAAA+H8AAAAAAAD4fwAAAAAAAPh/RItsh2wpe0AAAAAAAAD4fwAAAAAAAPh/AAAAAAAA+H8AAAAAAAD4fwAAAAAAAPh/AAAAAAAA+H8AAAAAAAD4fwAAAAAAAPh/AAAAAAAA+H8AAAAAAAD4fwAAAAAAAPh/AAAAAAAA+H8AAAAAAAD4fwAAAAAAAPh/AAAAAAAA+H8AAAAAAAD4fwAAAAAAAPh/AAAAAAAA+H8AAAAAAAD4fwAAAAAAAPh/AAAAAAAA+H8AAAAAAAD4fwAAAAAAAPh/AAAAAAAA+H8AAAAAAAD4fwAAAAAAAPh/RItsp/FQe0AAAAAAAAD4fwAAAAAAAPh/AAAAAAAA+H8AAAAAAAD4fwAAAAAAAPh/AAAAAAAA+H8AAAAAAAD4fwAAAAAAAPh/AAAAAAAA+H8AAAAAAAD4fwAAAAAAAPh/AAAAAAAA+H8AAAAAAAD4fwAAAAAAAPh/RItsB1hZe0AAAAAAAAD4fwAAAAAAAPh/AAAAAAAA+H8AAAAAAAD4fwAAAAAAAPh/AAAAAAAA+H8AAAAAAAD4fwAAAAAAAPh/AAAAAAAA+H8AAAAAAAD4fwAAAAAAAPh/AAAAAAAA+H8AAAAAAAD4fwAAAAAAAPh/AAAAAAAA+H8AAAAAAAD4fwAAAAAAAPh/AAAAAAAA+H8AAAAAAAD4fwAAAAAAAPh/AAAAAAAA+H8AAAAAAAD4fwAAAAAAAPh/AAAAAAAA+H8AAAAAAAD4fwAAAAAAAPh/AAAAAAAA+H8AAAAAAAD4fwAAAAAAAPh/AAAAAAAA+H9Ei2xnEAp8QAAAAAAAAPh/\"},\"shape\":[150],\"dtype\":\"float64\",\"order\":\"little\"}],[\"isPivot\",{\"type\":\"ndarray\",\"array\":{\"type\":\"bytes\",\"data\":\"AAAAAAAA+H8AAAAAAAD4fwAAAAAAAPh/AAAAAAAA+H8AAAAAAAD4fwAAAAAAAPh/AAAAAAAA+H8AAAAAAAD4fwAAAAAAAPA/AAAAAAAA+H8AAAAAAAD4fwAAAAAAAABAAAAAAAAA+H8AAAAAAAD4fwAAAAAAAPh/AAAAAAAA+H8AAAAAAAD4fwAAAAAAAPh/AAAAAAAA+H8AAAAAAADwPwAAAAAAAPh/AAAAAAAA+H8AAAAAAAD4fwAAAAAAAPh/AAAAAAAA+H8AAAAAAAD4fwAAAAAAAPh/AAAAAAAA+H8AAAAAAAAAQAAAAAAAAPh/AAAAAAAA+H8AAAAAAAD4fwAAAAAAAPh/AAAAAAAA+H8AAAAAAAD4fwAAAAAAAPh/AAAAAAAA+H8AAAAAAAD4fwAAAAAAAPh/AAAAAAAA+H8AAAAAAAD4fwAAAAAAAPh/AAAAAAAA+H8AAAAAAAAAQAAAAAAAAPh/AAAAAAAA+H8AAAAAAAD4fwAAAAAAAPh/AAAAAAAA8D8AAAAAAAD4fwAAAAAAAPh/AAAAAAAA+H8AAAAAAAD4fwAAAAAAAPh/AAAAAAAA+H8AAAAAAAD4fwAAAAAAAPh/AAAAAAAA+H8AAAAAAAD4fwAAAAAAAPh/AAAAAAAA+H8AAAAAAAD4fwAAAAAAAABAAAAAAAAA+H8AAAAAAAD4fwAAAAAAAPh/AAAAAAAA+H8AAAAAAAD4fwAAAAAAAPA/AAAAAAAA+H8AAAAAAAD4fwAAAAAAAPh/AAAAAAAA+H8AAAAAAAD4fwAAAAAAAPh/AAAAAAAAAEAAAAAAAAD4fwAAAAAAAPh/AAAAAAAA+H8AAAAAAAD4fwAAAAAAAPh/AAAAAAAA+H8AAAAAAAD4fwAAAAAAAPh/AAAAAAAA+H8AAAAAAAD4fwAAAAAAAPh/AAAAAAAA+H8AAAAAAADwPwAAAAAAAPh/AAAAAAAA+H8AAAAAAAD4fwAAAAAAAPh/AAAAAAAA+H8AAAAAAAD4fwAAAAAAAPh/AAAAAAAA+H8AAAAAAAD4fwAAAAAAAPh/AAAAAAAA8D8AAAAAAAD4fwAAAAAAAPh/AAAAAAAAAEAAAAAAAAD4fwAAAAAAAPh/AAAAAAAA+H8AAAAAAAD4fwAAAAAAAPh/AAAAAAAA+H8AAAAAAAD4fwAAAAAAAPh/AAAAAAAA8D8AAAAAAAD4fwAAAAAAAPh/AAAAAAAA+H8AAAAAAAD4fwAAAAAAAPh/AAAAAAAAAEAAAAAAAAD4fwAAAAAAAPh/AAAAAAAA+H8AAAAAAAD4fwAAAAAAAPh/AAAAAAAA+H8AAAAAAAD4fwAAAAAAAPh/AAAAAAAA+H8AAAAAAAD4fwAAAAAAAPh/AAAAAAAA8D8AAAAAAAD4fwAAAAAAAPh/AAAAAAAA+H8AAAAAAAD4fwAAAAAAAPh/AAAAAAAA+H8AAAAAAAD4fwAAAAAAAPh/AAAAAAAA+H8AAAAAAAD4fwAAAAAAAPh/AAAAAAAA+H8AAAAAAAD4fwAAAAAAAPA/AAAAAAAA+H8AAAAAAAD4fwAAAAAAAPh/AAAAAAAA+H8AAAAAAAAAQAAAAAAAAPh/\"},\"shape\":[150],\"dtype\":\"float64\",\"order\":\"little\"}]]}}},\"view\":{\"type\":\"object\",\"name\":\"CDSView\",\"id\":\"p1218\",\"attributes\":{\"filter\":{\"type\":\"object\",\"name\":\"AllIndices\",\"id\":\"p1219\"}}},\"glyph\":{\"type\":\"object\",\"name\":\"Segment\",\"id\":\"p1214\",\"attributes\":{\"x0\":{\"type\":\"field\",\"field\":\"index\"},\"y0\":{\"type\":\"field\",\"field\":\"High\"},\"x1\":{\"type\":\"field\",\"field\":\"index\"},\"y1\":{\"type\":\"field\",\"field\":\"Low\"}}},\"nonselection_glyph\":{\"type\":\"object\",\"name\":\"Segment\",\"id\":\"p1215\",\"attributes\":{\"x0\":{\"type\":\"field\",\"field\":\"index\"},\"y0\":{\"type\":\"field\",\"field\":\"High\"},\"x1\":{\"type\":\"field\",\"field\":\"index\"},\"y1\":{\"type\":\"field\",\"field\":\"Low\"},\"line_alpha\":{\"type\":\"value\",\"value\":0.1}}},\"muted_glyph\":{\"type\":\"object\",\"name\":\"Segment\",\"id\":\"p1216\",\"attributes\":{\"x0\":{\"type\":\"field\",\"field\":\"index\"},\"y0\":{\"type\":\"field\",\"field\":\"High\"},\"x1\":{\"type\":\"field\",\"field\":\"index\"},\"y1\":{\"type\":\"field\",\"field\":\"Low\"},\"line_alpha\":{\"type\":\"value\",\"value\":0.2}}}}},{\"type\":\"object\",\"name\":\"GlyphRenderer\",\"id\":\"p1229\",\"attributes\":{\"data_source\":{\"type\":\"object\",\"name\":\"ColumnDataSource\",\"id\":\"p1220\",\"attributes\":{\"selected\":{\"type\":\"object\",\"name\":\"Selection\",\"id\":\"p1221\",\"attributes\":{\"indices\":[],\"line_indices\":[]}},\"selection_policy\":{\"type\":\"object\",\"name\":\"UnionRenderers\",\"id\":\"p1222\"},\"data\":{\"type\":\"map\",\"entries\":[[\"index\",{\"type\":\"ndarray\",\"array\":{\"type\":\"bytes\",\"data\":\"AgAAAAQAAAAJAAAACgAAAAsAAAARAAAAFAAAABUAAAAWAAAAGAAAABkAAAAaAAAAGwAAABwAAAAgAAAAIQAAACIAAAAjAAAAJAAAACYAAAAoAAAAKQAAACsAAAAtAAAALwAAADIAAAA1AAAANgAAADkAAAA6AAAAPAAAAD4AAABFAAAASQAAAEsAAABQAAAAUQAAAFUAAABZAAAAWgAAAGAAAABhAAAAYgAAAGQAAABlAAAAZgAAAGsAAABwAAAAcQAAAHIAAAB0AAAAdQAAAHgAAAB6AAAAfgAAAIIAAACDAAAAhgAAAIgAAACOAAAAkAAAAJEAAACSAAAAkwAAAJQAAAA=\"},\"shape\":[65],\"dtype\":\"int32\",\"order\":\"little\"}],[\"Close\",{\"type\":\"ndarray\",\"array\":{\"type\":\"bytes\",\"data\":\"AAAAANdJe0AAAACAwj17QAAAAMCPYntAAAAA4HxUe0AAAAAA1yd7QAAAAIAUjntAAAAAoJmpe0AAAABgZqZ7QAAAAGCPjHtAAQAAQDOXe0AAAADgepB7QAEAAMAeeXtAAQAAQAp3e0AAAADgejR7QAAAAIDCX3tAAQAAQDNXe0AAAAAA11N7QAAAAABxNXtAAQAAwB41e0AAAACAwjF7QAAAACCFO3tAAAAAYLgue0AAAACAwi17QAAAAAApMHtAAAAAYEI5e0AAAABguBJ7QAAAAIDrH3tAAAAAAAASe0AAAACA1wd7QAAAAKCZBXtAAAAAANcBe0ABAABA4fZ6QAAAAGBmQntAAAAA4Ho8e0AAAACgcDV7QAAAACCFW3tAAAAAIIVTe0ABAABACqt7QAAAAOBRwHtAAAAAANeze0AAAAAA17N7QAAAAOC3sntAAAAAIIWre0AAAACAFLJ7QAAAACCFW3tAAAAAoJlVe0AAAABguHp7QAAAAOB6nHtAAAAAYI+Ee0ABAADAzGh7QAAAACCFa3tAAAAAgD1me0AAAADgUXB7QAAAAOBRhHtAAAAAAF+Le0AAAACA6+l7QAAAAKCZ1XtAAAAAgD3ae0AAAACAFP57QAAAAOCjGHxAAAAAIFwmfEAAAACAFBx8QAAAAAAAHHxAAAAAoHAZfEAAAACA6xF8QA==\"},\"shape\":[65],\"dtype\":\"float64\",\"order\":\"little\"}],[\"High\",{\"type\":\"ndarray\",\"array\":{\"type\":\"bytes\",\"data\":\"AAAAoHBNe0AAAACgR1N7QAAAAIDCa3tAAAAA4Alje0AAAAAAKVh7QAEAAEDhkntAAAAAIFy3e0ABAABA4bJ7QAAAAGBmpntAAAAAgBSme0AAAADgeph7QAAAAOCjkHtAAAAAoJmFe0AAAABguGJ7QAAAAIDCY3tAAAAAYGZge0AAAAAAAGB7QAAAAOB6RHtAAAAAQNg6e0AAAABguEJ7QAAAAADXT3tAAAAAoBo9e0AAAACgmT17QAAAAGC4OntAAAAAoEdHe0AAAAAA1yN7QAAAAMD1MHtAAAAAYI8ge0AAAACAFCB7QAEAAEB5FHtAAAAAoHALe0AAAACgmQ17QAAAAMD1THtAAQAAwMxIe0AAAAAgXD97QAAAAOB6ZHtAAAAAgFFce0AAAACAwrV7QAAAAIA9wntAAQAAwMzEe0AAAADA9bx7QAAAAIA9tntAAAAAIK65e0AAAACAKLx7QAAAAIDreXtAAAAAoJlde0AAAAAA1397QAAAAIA9qntAAAAAIK6de0AAAABgj4h7QAAAAIA9dntAAAAAoEdxe0AAAADA9XZ7QAAAAODAkHtAAQAAwECSe0AAAACgrfd7QAEAAEAK63tAAAAAAADse0AAAAAAKQh8QAAAAIAUJnxAAAAAoJkrfEABAABACi18QAAAAIDgIXxAAAAAACkkfEAAAADA9Rx8QA==\"},\"shape\":[65],\"dtype\":\"float64\",\"order\":\"little\"}],[\"Low\",{\"type\":\"ndarray\",\"array\":{\"type\":\"bytes\",\"data\":\"AAAAIIU7e0AAAADg6zl7QAEAAMAeWXtAAQAAwMxQe0AAAACgcBl7QAAAAIDCgXtAAAAAwPWge0AAAADgUYx7QAAAACBchXtAAAAAoJmVe0AAAADgeox7QAAAAKCZdXtAAAAAIIVve0AAAACAAjF7QAEAAMDMVHtAAAAAYLhSe0AAAACgmVF7QAAAAIAUJntAAAAAoEcle0AAAACA6y17QAAAACBcO3tAAAAAAAAqe0AAAADgeiB7QAAAAOCjJntAAAAA4KM4e0AAAACgcA17QAAAAAA9HntAAAAAIIUHe0AAAABgZgR7QAAAAKBw/XpAAAAAAAD8ekABAABACvN6QAAAAKBHQXtAAAAAwPUoe0AAAACgcCl7QAEAAEDhTntAAAAAgD1Ge0AAAADgo6B7QAAAAKBwuXtAAQAAQOGye0AAAADgUbB7QAAAACCuq3tAAAAAwPWke0AAAACAFLJ7QAEAAEAzV3tAAAAAwPVQe0AAAAAghXd7QAAAAAAAmHtAAAAAIFyDe0ABAADAzGR7QAAAAAApYHtAAAAAIFxZe0AAAACAFGx7QAEAAEAKd3tAAAAA4FGEe0ABAADAzOh7QAAAAGCPzntAAAAAYGbSe0ABAABAM/d7QAAAAOB6GHxAAAAA4FEYfEAAAACgcBt8QAEAAEAKE3xAAAAA4KMYfEAAAACAFAp8QA==\"},\"shape\":[65],\"dtype\":\"float64\",\"order\":\"little\"}],[\"Open\",{\"type\":\"ndarray\",\"array\":{\"type\":\"bytes\",\"data\":\"AAAAgHxLe0AAAADgo1B7QAAAAABmantAAAAAYI9ie0AAAADgo1R7QAEAAMDMjntAAAAAgD2ye0AAAADgUbB7QAAAAGBmpntAAAAAAACce0ABAABAM5d7QAAAAOB6kHtAAQAAwB55e0AAAADgo1R7QAAAAGDlYHtAAAAAgOtfe0AAAAAgXFd7QAAAAGCPQntAAAAAgBQ4e0AAAACAPT57QAAAAGC4SntAAAAAIIU7e0AAAACgcDl7QAAAAAApNHtAAQAAQDM/e0ABAADAzBp7QAEAAMAeLXtAAAAAANcfe0AAAAAA1x97QAAAACCuB3tAAAAAoJkJe0AAAACAPQp7QAAAAADXS3tAAAAA4HpIe0AAAACgcD17QAAAAIBRYXtAAAAAIIVbe0AAAAAAALB7QAAAAMD1wHtAAAAA4FHAe0ABAADAHrl7QAAAAMAFtHtAAAAAYLiye0AAAAAgXLt7QAAAAGC4dntAAAAAIK5be0AAAAAAAHx7QAAAAIDCqXtAAAAA4Hqce0AAAADgeoR7QAAAAIBRdHtAAAAAwFtre0AAAACAPXZ7QAEAAEAzh3tAAAAAgD2Oe0AAAAAghfN7QAAAAIDr6XtAAQAAQOHqe0AAAABgZv57QAAAAOCjHHxAAQAAQOEmfEAAAAAgXCZ8QAAAAAApHHxAAAAAAAAcfEAAAACgcBl8QA==\"},\"shape\":[65],\"dtype\":\"float64\",\"order\":\"little\"}],[\"Volume\",{\"type\":\"ndarray\",\"array\":{\"type\":\"bytes\",\"data\":\"3ZuIAJtDwwC1GngAlWtKAPiaHwGM12EAQMU7AVibVwHLUFkB6yJ3AGjCZgALzb0AHKPdAGbm8gD3AE8Axc9bAKn4wABTTsAAxHKdAGVAbQCP/JsAI7LqANwUiQB+WWEAfzJ4ABFcggA03GgAp3XEAHKUlgDGfm0AABtPALTMAQHOdLUA1oaUACfwcQCp8V4AueR3AFPaswD0wI0A2/MjATLDawALsXUAvnZXAAltZwCFcEYBlQiUAOk6mwAng2AAmb16ALpdPgFT35EAVn5iAP2+PQCEE6IAzO89ADZEeAAAAAAAnnZyAMDOwQBfCNEAna2nAHstdQCd9F0AV4hMAJbHeAA=\"},\"shape\":[65],\"dtype\":\"int32\",\"order\":\"little\"}],[\"datetime\",{\"type\":\"ndarray\",\"array\":{\"type\":\"bytes\",\"data\":\"AADMDFaLeEIAAJzqXIt4QgAAjHKoi3hCAAB04auLeEIAAFxQr4t4QgAANEf+i3hCAADskwiMeEIAADxgRox4QgAAJM9JjHhCAAD0rFCMeEIAANwbVIx4QgAAxIpXjHhCAACs+VqMeEIAADz3j414QgAA3LKdjXhCAADEIaGNeEIAAKyQpI14QgAA/FzijXhCAADky+WNeEIAALSp7I14QgAAhIfzjXhCAABs9vaNeEIAAKQxOI54QgAAdA8/jnhCAABE7UWOeEIAAGSXio54QgAAHOSUjnhCAAAEU5iOeEIAAKTIgY94QgAAjDeFj3hCAABcFYyPeEIAACzzko94QgAA7Fjlj3hCAAD0cS2QeEIAAMRPNJB4QgAAtNd/kHhCAACcRoOQeEIAAKRfy5B4QgAARBvZkHhCAAAsityQeEIAAEzLapJ4QgAANDpuknhCAAAcqXGSeEIAAOyGeJJ4QgAAPFO2knhCAAAkwrmSeEIAAKzsypJ4QgAAnHQWk3hCAACE4xmTeEIAAGxSHZN4QgAAJFkDlHhCAAAMyAaUeEIAAMQUEZR4QgAA/E9SlHhCAACcC2CUeEIAAKQkqJR4QgAAjJOrlHhCAABE4LWUeEIAAHwb95R4QgAA7LQLlXhCAAAk8EyVeEIAAAxfUJV4QgAA9M1TlXhCAADcPFeVeEIAAMSrWpV4Qg==\"},\"shape\":[65],\"dtype\":\"float64\",\"order\":\"little\"}],[\"companyName\",{\"type\":\"ndarray\",\"array\":[\"SPY\",\"SPY\",\"SPY\",\"SPY\",\"SPY\",\"SPY\",\"SPY\",\"SPY\",\"SPY\",\"SPY\",\"SPY\",\"SPY\",\"SPY\",\"SPY\",\"SPY\",\"SPY\",\"SPY\",\"SPY\",\"SPY\",\"SPY\",\"SPY\",\"SPY\",\"SPY\",\"SPY\",\"SPY\",\"SPY\",\"SPY\",\"SPY\",\"SPY\",\"SPY\",\"SPY\",\"SPY\",\"SPY\",\"SPY\",\"SPY\",\"SPY\",\"SPY\",\"SPY\",\"SPY\",\"SPY\",\"SPY\",\"SPY\",\"SPY\",\"SPY\",\"SPY\",\"SPY\",\"SPY\",\"SPY\",\"SPY\",\"SPY\",\"SPY\",\"SPY\",\"SPY\",\"SPY\",\"SPY\",\"SPY\",\"SPY\",\"SPY\",\"SPY\",\"SPY\",\"SPY\",\"SPY\",\"SPY\",\"SPY\",\"SPY\"],\"shape\":[65],\"dtype\":\"object\",\"order\":\"little\"}],[\"fecha\",{\"type\":\"ndarray\",\"array\":{\"type\":\"bytes\",\"data\":\"AADA1SCLeEIAAMDVIIt4QgAAgDtzi3hCAACAO3OLeEIAAIA7c4t4QgAAQKHFi3hCAABAocWLeEIAAAAHGIx4QgAAAAcYjHhCAAAABxiMeEIAAAAHGIx4QgAAAAcYjHhCAAAABxiMeEIAAACeYY14QgAAAJ5hjXhCAAAAnmGNeEIAAACeYY14QgAAwAO0jXhCAADAA7SNeEIAAMADtI14QgAAwAO0jXhCAADAA7SNeEIAAIBpBo54QgAAgGkGjnhCAACAaQaOeEIAAEDPWI54QgAAQM9YjnhCAABAz1iOeEIAAIAAUI94QgAAgABQj3hCAACAAFCPeEIAAIAAUI94QgAAQGaij3hCAAAAzPSPeEIAAADM9I94QgAAwDFHkHhCAADAMUeQeEIAAICXmZB4QgAAgJeZkHhCAACAl5mQeEIAAECUNZJ4QgAAQJQ1knhCAABAlDWSeEIAAECUNZJ4QgAAAPqHknhCAAAA+oeSeEIAAAD6h5J4QgAAwF/aknhCAADAX9qSeEIAAMBf2pJ4QgAAAJHRk3hCAAAAkdGTeEIAAACR0ZN4QgAAwPYjlHhCAADA9iOUeEIAAIBcdpR4QgAAgFx2lHhCAACAXHaUeEIAAEDCyJR4QgAAQMLIlHhCAAAAKBuVeEIAAAAoG5V4QgAAACgblXhCAAAAKBuVeEIAAAAoG5V4Qg==\"},\"shape\":[65],\"dtype\":\"float64\",\"order\":\"little\"}],[\"SMA20\",{\"type\":\"ndarray\",\"array\":{\"type\":\"bytes\",\"data\":\"AAAAAAAA+H8AAAAAAAD4fwAAAAAAAPh/AAAAAAAA+H8AAAAAAAD4fwAAAAAAAPh/ZmZm9iNne0CamZk5r2t7QGZmZj4Fb3tAzczMvER3e0AAAABABXt7QAAAADhZfXtAZmZmhrt+e0CamZlZCXx7QAAAABAYfntAAAAAUE1+e0BmZmaOgnx7QDMzM7MyeHtAmpmZ0bdze0BmZmZ2U2p7QAAAAGinX3tAmpmZgatZe0CamZlx/k97QAAAAFA2RntAZmZmHjlAe0BmZmb+Pjx7QDMzMwsfNHtAMzMzS9Qwe0BmZmZGUyt7QAAAAAgeKXtAmpmZ+fcie0AAAADo0h17QGZmZk5HHXtAAgAAwC8je0DOzMwMEid7QGhmZn5zOXtAaGZmrh09e0DNzMyEJ1R7QJqZmVHza3tAAAAAYCBye0DNzMysVpZ7QGZmZs6Hm3tAzczMPJqfe0AzMzM7b6h7QJqZmaHVqHtAmpmZgZSoe0AzMzM7tZ17QM3MzPTnkntAZmZmpgWQe0AAAAAIFox7QM3MzKwHhXtAmpmZwTSBe0DNzMz8lHd7QAAAAFB4e3tAAAAAqCqAe0DNzMw8W457QM3MzGSMkHtAMzMzE9Oee0AzMzNri6t7QJqZmWGz2XtAMzMzizrpe0DNzMwkVPB7QM3MzGSP93tAMzMzAwD+e0CamZnhTwN8QA==\"},\"shape\":[65],\"dtype\":\"float64\",\"order\":\"little\"}],[\"SMA40\",{\"type\":\"ndarray\",\"array\":{\"type\":\"bytes\",\"data\":\"AAAAAAAA+H8AAAAAAAD4fwAAAAAAAPh/AAAAAAAA+H8AAAAAAAD4fwAAAAAAAPh/AAAAAAAA+H8AAAAAAAD4fwAAAAAAAPh/AAAAAAAA+H8AAAAAAAD4fwAAAAAAAPh/AAAAAAAA+H8AAAAAAAD4fwAAAAAAAPh/AAAAAAAA+H8AAAAAAAD4fwAAAAAAAPh/AAAAAAAA+H8AAAAAAAD4fzMzM69lY3tAmpmZXa1ie0AAAAAsZWF7QAAAAMidYHtAZmZmUnpfe0AAAACYMlt7QJqZmS02WXtAzczMbKtWe0AAAACMhU17QDMzM7+4SXtAzczMsE9Be0BmZmY2qjl7QGZmZtJfLntAmpmZZacre0DNzMwAFyt7QAAAALw1LntAzczMQCEve0CamZm1czd7QAAAAFCdRHtAZmZmeqRIe0CamZklq197QJqZmcHwY3tAzczMpBZoe0DNzMxc8XB7QAAAAKj5cntAmpmZ3Vd1e0CamZnRwH57QGZmZlJKiHtAZmZmoheKe0CamZkpLot7QM3MzCyvjXtAAAAASF6Oe0AAAAAcApB7QM3MzGgGkntAmpmZMXqQe0AzMzNvr5F7QJqZmelukntAmpmZjXSVe0AAAACMSZh7QM3MzNiVqntAZmZmbq6ze0BmZmYG3bd7QGZmZgbdu3tAzczM1NS/e0AAAADMsMN7QA==\"},\"shape\":[65],\"dtype\":\"float64\",\"order\":\"little\"}],[\"SMA100\",{\"type\":\"ndarray\",\"array\":{\"type\":\"bytes\",\"data\":\"AAAAAAAA+H8AAAAAAAD4fwAAAAAAAPh/AAAAAAAA+H8AAAAAAAD4fwAAAAAAAPh/AAAAAAAA+H8AAAAAAAD4fwAAAAAAAPh/AAAAAAAA+H8AAAAAAAD4fwAAAAAAAPh/AAAAAAAA+H8AAAAAAAD4fwAAAAAAAPh/AAAAAAAA+H8AAAAAAAD4fwAAAAAAAPh/AAAAAAAA+H8AAAAAAAD4fwAAAAAAAPh/AAAAAAAA+H8AAAAAAAD4fwAAAAAAAPh/AAAAAAAA+H8AAAAAAAD4fwAAAAAAAPh/AAAAAAAA+H8AAAAAAAD4fwAAAAAAAPh/AAAAAAAA+H8AAAAAAAD4fwAAAAAAAPh/AAAAAAAA+H8AAAAAAAD4fwAAAAAAAPh/AAAAAAAA+H8AAAAAAAD4fwAAAAAAAPh/AAAAAAAA+H8AAAAAAAD4fwAAAAAAAPh/AAAAAAAA+H+4HoUD7lt7QBSuR/kWXHtASOF6FDVce0AK16MoUl57QMP1KLR2YXtAmpmZefVhe0CamZlhz2F7QGZmZnY5YXtAj8L1eNNge0CamZnRN197QGZmZn6yXntAH4XrKZJee0BSuB5dYWN7QIXrUSCMZHtAj8L1SKxoe0CF61HIY2x7QFyPwt0ieXtAPQrXcw1+e0CF61FoaYB7QMP1KNyegntAMzMzw9yEe0AUrkeh34Z7QA==\"},\"shape\":[65],\"dtype\":\"float64\",\"order\":\"little\"}],[\"SMA200\",{\"type\":\"ndarray\",\"array\":{\"type\":\"bytes\",\"data\":\"AAAAAAAA+H8AAAAAAAD4fwAAAAAAAPh/AAAAAAAA+H8AAAAAAAD4fwAAAAAAAPh/AAAAAAAA+H8AAAAAAAD4fwAAAAAAAPh/AAAAAAAA+H8AAAAAAAD4fwAAAAAAAPh/AAAAAAAA+H8AAAAAAAD4fwAAAAAAAPh/AAAAAAAA+H8AAAAAAAD4fwAAAAAAAPh/AAAAAAAA+H8AAAAAAAD4fwAAAAAAAPh/AAAAAAAA+H8AAAAAAAD4fwAAAAAAAPh/AAAAAAAA+H8AAAAAAAD4fwAAAAAAAPh/AAAAAAAA+H8AAAAAAAD4fwAAAAAAAPh/AAAAAAAA+H8AAAAAAAD4fwAAAAAAAPh/AAAAAAAA+H8AAAAAAAD4fwAAAAAAAPh/AAAAAAAA+H8AAAAAAAD4fwAAAAAAAPh/AAAAAAAA+H8AAAAAAAD4fwAAAAAAAPh/AAAAAAAA+H8AAAAAAAD4fwAAAAAAAPh/AAAAAAAA+H8AAAAAAAD4fwAAAAAAAPh/AAAAAAAA+H8AAAAAAAD4fwAAAAAAAPh/AAAAAAAA+H8AAAAAAAD4fwAAAAAAAPh/AAAAAAAA+H8AAAAAAAD4fwAAAAAAAPh/AAAAAAAA+H8AAAAAAAD4fwAAAAAAAPh/AAAAAAAA+H8AAAAAAAD4fwAAAAAAAPh/AAAAAAAA+H8AAAAAAAD4fw==\"},\"shape\":[65],\"dtype\":\"float64\",\"order\":\"little\"}],[\"pivotHigh\",{\"type\":\"ndarray\",\"array\":{\"type\":\"bytes\",\"data\":\"AAAAAAAA+H8AAAAAAAD4fwAAAAAAAPh/AAAAAAAA+H8AAAAAAAD4fwAAAAAAAPh/AAAAAAAA+H8AAAAAAAD4fwAAAAAAAPh/AAAAAAAA+H8AAAAAAAD4fwAAAAAAAPh/AAAAAAAA+H8AAAAAAAD4fwAAAAAAAPh/AAAAAAAA+H8AAAAAAAD4fwAAAAAAAPh/AAAAAAAA+H8AAAAAAAD4fwAAAAAAAPh/AAAAAAAA+H8AAAAAAAD4fwAAAAAAAPh/AAAAAAAA+H8AAAAAAAD4fwAAAAAAAPh/AAAAAAAA+H8AAAAAAAD4fwAAAAAAAPh/AAAAAAAA+H8AAAAAAAD4fwAAAAAAAPh/AAAAAAAA+H8AAAAAAAD4fwAAAAAAAPh/AAAAAAAA+H8AAAAAAAD4fwAAAAAAAPh/AAAAAAAA+H8AAAAAAAD4fwAAAAAAAPh/AAAAAAAA+H8AAAAAAAD4fwAAAAAAAPh/AAAAAAAA+H8AAAAAAAD4fwAAAAAAAPh/AAAAAAAA+H8AAAAAAAD4fwAAAAAAAPh/AAAAAAAA+H8AAAAAAAD4fwAAAAAAAPh/AAAAAAAA+H8AAAAAAAD4fwAAAAAAAPh/AAAAAAAA+H8AAAAAAAD4fwAAAAAAAPh/AAAAAAAA+H8AAAAAAAD4fwAAAAAAAPh/AAAAAAAA+H8AAAAAAAD4fw==\"},\"shape\":[65],\"dtype\":\"float64\",\"order\":\"little\"}],[\"pivotLow\",{\"type\":\"ndarray\",\"array\":{\"type\":\"bytes\",\"data\":\"AAAAAAAA+H8AAAAAAAD4fwAAAAAAAPh/AAAAAAAA+H9Ei2yHbBl7QAAAAAAAAPh/AAAAAAAA+H8AAAAAAAD4fwAAAAAAAPh/AAAAAAAA+H8AAAAAAAD4fwAAAAAAAPh/AAAAAAAA+H9Ei2xn/jB7QAAAAAAAAPh/AAAAAAAA+H8AAAAAAAD4fwAAAAAAAPh/AAAAAAAA+H8AAAAAAAD4fwAAAAAAAPh/AAAAAAAA+H9Ei2zHdiB7QAAAAAAAAPh/AAAAAAAA+H8AAAAAAAD4fwAAAAAAAPh/AAAAAAAA+H8AAAAAAAD4fwAAAAAAAPh/AAAAAAAA+H9Fi2wnBvN6QAAAAAAAAPh/AAAAAAAA+H9Ei2yHbCl7QAAAAAAAAPh/AAAAAAAA+H8AAAAAAAD4fwAAAAAAAPh/AAAAAAAA+H8AAAAAAAD4fwAAAAAAAPh/AAAAAAAA+H8AAAAAAAD4fwAAAAAAAPh/RItsp/FQe0AAAAAAAAD4fwAAAAAAAPh/AAAAAAAA+H8AAAAAAAD4fwAAAAAAAPh/RItsB1hZe0AAAAAAAAD4fwAAAAAAAPh/AAAAAAAA+H8AAAAAAAD4fwAAAAAAAPh/AAAAAAAA+H8AAAAAAAD4fwAAAAAAAPh/AAAAAAAA+H8AAAAAAAD4fwAAAAAAAPh/AAAAAAAA+H9Ei2xnEAp8QA==\"},\"shape\":[65],\"dtype\":\"float64\",\"order\":\"little\"}],[\"isPivot\",{\"type\":\"ndarray\",\"array\":{\"type\":\"bytes\",\"data\":\"AAAAAAAA+H8AAAAAAAD4fwAAAAAAAPh/AAAAAAAA+H8AAAAAAAAAQAAAAAAAAPh/AAAAAAAA+H8AAAAAAAD4fwAAAAAAAPh/AAAAAAAA+H8AAAAAAAD4fwAAAAAAAPh/AAAAAAAA+H8AAAAAAAAAQAAAAAAAAPh/AAAAAAAA+H8AAAAAAAD4fwAAAAAAAPh/AAAAAAAA+H8AAAAAAAD4fwAAAAAAAPh/AAAAAAAA+H8AAAAAAAAAQAAAAAAAAPh/AAAAAAAA+H8AAAAAAAD4fwAAAAAAAPh/AAAAAAAA+H8AAAAAAAD4fwAAAAAAAPh/AAAAAAAA+H8AAAAAAAAAQAAAAAAAAPh/AAAAAAAA+H8AAAAAAAAAQAAAAAAAAPh/AAAAAAAA+H8AAAAAAAD4fwAAAAAAAPh/AAAAAAAA+H8AAAAAAAD4fwAAAAAAAPh/AAAAAAAA+H8AAAAAAAD4fwAAAAAAAPh/AAAAAAAAAEAAAAAAAAD4fwAAAAAAAPh/AAAAAAAA+H8AAAAAAAD4fwAAAAAAAPh/AAAAAAAAAEAAAAAAAAD4fwAAAAAAAPh/AAAAAAAA+H8AAAAAAAD4fwAAAAAAAPh/AAAAAAAA+H8AAAAAAAD4fwAAAAAAAPh/AAAAAAAA+H8AAAAAAAD4fwAAAAAAAPh/AAAAAAAA+H8AAAAAAAAAQA==\"},\"shape\":[65],\"dtype\":\"float64\",\"order\":\"little\"}]]}}},\"view\":{\"type\":\"object\",\"name\":\"CDSView\",\"id\":\"p1230\",\"attributes\":{\"filter\":{\"type\":\"object\",\"name\":\"AllIndices\",\"id\":\"p1231\"}}},\"glyph\":{\"type\":\"object\",\"name\":\"VBar\",\"id\":\"p1226\",\"attributes\":{\"x\":{\"type\":\"field\",\"field\":\"index\"},\"width\":{\"type\":\"value\",\"value\":0.6},\"bottom\":{\"type\":\"field\",\"field\":\"Open\"},\"top\":{\"type\":\"field\",\"field\":\"Close\"},\"line_color\":{\"type\":\"value\",\"value\":\"red\"},\"fill_color\":{\"type\":\"value\",\"value\":\"red\"}}},\"nonselection_glyph\":{\"type\":\"object\",\"name\":\"VBar\",\"id\":\"p1227\",\"attributes\":{\"x\":{\"type\":\"field\",\"field\":\"index\"},\"width\":{\"type\":\"value\",\"value\":0.6},\"bottom\":{\"type\":\"field\",\"field\":\"Open\"},\"top\":{\"type\":\"field\",\"field\":\"Close\"},\"line_color\":{\"type\":\"value\",\"value\":\"red\"},\"line_alpha\":{\"type\":\"value\",\"value\":0.1},\"fill_color\":{\"type\":\"value\",\"value\":\"red\"},\"fill_alpha\":{\"type\":\"value\",\"value\":0.1},\"hatch_alpha\":{\"type\":\"value\",\"value\":0.1}}},\"muted_glyph\":{\"type\":\"object\",\"name\":\"VBar\",\"id\":\"p1228\",\"attributes\":{\"x\":{\"type\":\"field\",\"field\":\"index\"},\"width\":{\"type\":\"value\",\"value\":0.6},\"bottom\":{\"type\":\"field\",\"field\":\"Open\"},\"top\":{\"type\":\"field\",\"field\":\"Close\"},\"line_color\":{\"type\":\"value\",\"value\":\"red\"},\"line_alpha\":{\"type\":\"value\",\"value\":0.2},\"fill_color\":{\"type\":\"value\",\"value\":\"red\"},\"fill_alpha\":{\"type\":\"value\",\"value\":0.2},\"hatch_alpha\":{\"type\":\"value\",\"value\":0.2}}}}},{\"type\":\"object\",\"name\":\"GlyphRenderer\",\"id\":\"p1241\",\"attributes\":{\"data_source\":{\"type\":\"object\",\"name\":\"ColumnDataSource\",\"id\":\"p1232\",\"attributes\":{\"selected\":{\"type\":\"object\",\"name\":\"Selection\",\"id\":\"p1233\",\"attributes\":{\"indices\":[],\"line_indices\":[]}},\"selection_policy\":{\"type\":\"object\",\"name\":\"UnionRenderers\",\"id\":\"p1234\"},\"data\":{\"type\":\"map\",\"entries\":[[\"index\",{\"type\":\"ndarray\",\"array\":{\"type\":\"bytes\",\"data\":\"AAAAAAEAAAADAAAABQAAAAYAAAAHAAAACAAAAAwAAAANAAAADgAAAA8AAAAQAAAAEgAAABMAAAAXAAAAHQAAAB4AAAAfAAAAJQAAACcAAAAqAAAALAAAAC4AAAAwAAAAMQAAADMAAAA0AAAANwAAADgAAAA7AAAAPQAAAD8AAABAAAAAQQAAAEIAAABDAAAARAAAAEYAAABHAAAASAAAAEoAAABMAAAATQAAAE4AAABPAAAAUgAAAFMAAABUAAAAVgAAAFcAAABYAAAAWwAAAFwAAABdAAAAXgAAAF8AAABjAAAAZwAAAGgAAABpAAAAagAAAGwAAABtAAAAbgAAAG8AAABzAAAAdgAAAHcAAAB5AAAAewAAAHwAAAB/AAAAgAAAAIEAAACEAAAAhQAAAIcAAACJAAAAigAAAIsAAACMAAAAjQAAAI8AAACVAAAA\"},\"shape\":[84],\"dtype\":\"int32\",\"order\":\"little\"}],[\"Close\",{\"type\":\"ndarray\",\"array\":{\"type\":\"bytes\",\"data\":\"AQAAQAo7e0AAAAAghUt7QAAAAOB6UHtAAAAAoHBFe0AAAABgj0p7QAAAACBcW3tAAAAAYGZqe0AAAACA60l7QAEAAEAKU3tAAAAAIK53e0AAAAAgrot7QAAAAGC4jntAAAAAoJmde0AAAACAPbJ7QAAAAAAAnHtAAQAAQBo+e0ABAABAM1N7QAAAAGDlYHtAAAAAgBQ+e0AAAADg4Ep7QAAAAKBHOXtAAAAAgOIze0ABAADAHj97QAEAAMDMSHtAAQAAwLgae0AAAADgUSh7QAEAAMAeLXtAAQAAQAoTe0AAAAAgrh97QAAAAOCVCXtAAAAAYDkKe0ABAADAzAx7QAAAAKBHHXtAAAAAgD0qe0AAAADgejh7QAAAAIDCR3tAAAAAANdLe0AAAADgUTh7QAEAAMDMQHtAAAAA4KNIe0AAAACgRz17QAAAAIA9RntAAQAAQOFKe0AAAACAFFp7QAAAAKBwYXtAAAAAILBae0AAAACAPWJ7QAAAAAAAsHtAAQAAwMywe0AAAABgUrh7QAAAAMD1wHtAAAAAgK63e0AAAABguLh7QAAAAIA9vntAAAAAIIW3e0ABAADAHrl7QAAAACCFu3tAAAAAwPVse0AAAACAenR7QAEAAMDMdHtAAAAAAAB8e0AAAADgjHd7QAAAAADlfntAAQAAwMyQe0AAAACAwql7QAAAAIBRdHtAAAAAgBRye0AAAAAAPXZ7QAAAAGCPentAAQAAwB6Je0AAAACgmY17QAAAAECkmHtAAAAAIK6ne0ABAADAhPN7QAAAAOA94ntAAQAAQOHqe0AAAAAAKeB7QAAAAKBHAXxAAAAAoHAJfEAAAABgjwp8QAAAAIA9DnxAAAAAYLgcfEAAAACA6yZ8QAAAAOCjFHxA\"},\"shape\":[84],\"dtype\":\"float64\",\"order\":\"little\"}],[\"High\",{\"type\":\"ndarray\",\"array\":{\"type\":\"bytes\",\"data\":\"AQAAQOFSe0AAAADgUVR7QAAAAKBHVXtAAAAAgMJLe0AAAABgj0x7QAAAAAAAZHtAAAAAoPpwe0AAAABgZmJ7QAEAAEAKU3tAAAAAYI96e0AAAACA64t7QAAAAOAUkntAAAAAgD2ge0AAAABgZr57QAAAAOCjnHtAAAAAgOtFe0AAAACAwlV7QAAAAIDrZXtAAAAAIFxDe0ABAABAM0t7QAAAAOBRQHtAAAAAoEc9e0AAAABg0z97QAAAAIDrSXtAAAAAANcfe0ABAADAHil7QAAAAGBmLntAAAAAIK4fe0AAAACAwil7QAEAAEDhCntAAAAAYLgOe0ABAADAzBR7QAEAAEDhHntAAAAAIIUre0ABAABACjt7QAAAAKBwSXtAAAAA4E1Me0ABAADAzDp7QAAAACCFR3tAAQAAQApXe0AAAADgo0B7QAEAAEDhRntAAAAAgOtVe0ABAABAClt7QAEAAMAeY3tAAQAAwMxce0AAAABguGJ7QAEAAMAetXtAAAAAgPKwe0AAAACAwrl7QAAAAIAUwntAAQAAQOG6e0AAAACAwrl7QAEAAEAzv3tAAAAAAAC6e0AAAABgOb57QAAAAAApvHtAAQAAQDNte0ABAADAzHh7QAAAAAApfHtAAAAAoJmBe0AAAAAAAIR7QAAAAIA9gntAAQAAwB6Re0AAAACAPap7QAAAAKBwfXtAAAAAoBxye0AAAABguHZ7QAAAAGC4entAAAAAIIWPe0ABAABAM5t7QAAAAADXmXtAAAAAIIWve0AAAACgcPV7QAAAAADX43tAAAAAQNjre0ABAABAM+N7QAAAAAApCHxAAAAAANcLfEAAAABgjw58QAAAAOBRFHxAAAAAYGYefEAAAACAwjV8QAAAAKCZFXxA\"},\"shape\":[84],\"dtype\":\"float64\",\"order\":\"little\"}],[\"Low\",{\"type\":\"ndarray\",\"array\":{\"type\":\"bytes\",\"data\":\"AAAAgBQqe0AAAACAwjF7QAEAAEDhRntAAAAAIK41e0AAAAAAnEF7QAAAAAApSHtAAAAAYI9ae0AAAAAgXB97QAAAAIAUMntAAAAAIK5De0AAAACA62V7QAAAAMD1gHtAAAAA4FGMe0AAAACgmZ17QAAAAGC4hntAAAAA4Howe0AAAACgmT17QAAAAMD1UHtAAQAAwMwwe0AAAAAAKTB7QAAAAKCZGXtAAAAAANcre0AAAADA9Sx7QAAAACBcNXtAAAAAIGMLe0AAAACAFBB7QAEAAEAzI3tAAAAAIFwPe0AAAACgmQl7QAAAAGBm+npAAAAAQKQAe0AAAACAFP56QAAAAOCjCHtAAAAAwDcce0AAAACA6yd7QAAAAOCjOHtAAAAAoHBBe0AAAABgjyZ7QAAAAIA9NntAAAAAIK4/e0AAAADgozB7QAAAAGCPMntAAAAA4KM4e0AAAABgjz57QAAAACBcU3tAAAAAgMJNe0AAAADgUVJ7QAAAAIDCkXtAAAAAACmge0AAAAAA1697QAEAAMAet3tAAAAAgBSqe0AAAADgUbB7QAAAAOD7tntAAAAAYGaee0AAAADgPbJ7QAAAAKBwq3tAAAAAoEdVe0AAAADA9Wp7QAAAAIDrb3tAAAAAYGZ0e0AAAAAghWd7QAEAAMAebXtAAQAAwEJ+e0AAAADA9ZB7QAEAAMDMYHtAAAAA4FFke0AAAACAemh7QAAAAIDCaXtAAAAA4FGAe0AAAAAAAIZ7QAAAAIDChXtAAQAAQAqTe0AAAAAAT917QAAAAAAA1HtAAAAAAADge0ABAADAHtl7QAAAAADX/XtAAAAAIB3+e0AAAABgjwJ8QAAAAIDrCXxAAAAAAAAMfEABAABA4SJ8QAAAAADXB3xA\"},\"shape\":[84],\"dtype\":\"float64\",\"order\":\"little\"}],[\"Open\",{\"type\":\"ndarray\",\"array\":{\"type\":\"bytes\",\"data\":\"AQAAwB41e0ABAABAMzt7QAAAAIA9SntAAAAAgMI9e0AAAAAgXEV7QAAAAAApUHtAAAAAoHBbe0AAAACA6yd7QAAAAGCPSntAAAAAoEdFe0AAAAAgrnd7QAAAACCFi3tAAAAAgD2Oe0AAAACgvZ17QAAAAOBRjHtAAQAAwMw0e0AAAABgZj57QAEAAEAzU3tAAAAAoEc1e0AAAAAgrjF7QAEAAEAzH3tAAAAAoHAte0AAAADgUTB7QAAAAKBHOXtAAQAAQOEOe0AAAABguBJ7QAAAAOB6KHtAAAAAgBQSe0AAAACA6wl7QAAAAKCZBXtAAAAAgMIBe0AAAACA6wl7QAAAAMD1DHtAAAAAgOsde0AAAACAPSp7QAAAAOCjOHtAAAAAANdHe0ABAADAzDB7QAAAAOB6OHtAAQAAwMxAe0AAAADgejx7QAAAAKBHNXtAAAAAIFw/e0ABAABACkt7QAAAAOAtWntAAAAAIK5Te0AAAABgj1p7QAEAAEAKl3tAAQAAwB6re0ABAABAzbB7QAAAAOB6uHtAAAAAYLiue0AAAAAA17d7QAEAAMDMuHtAAAAAYI+ee0AAAAAgrrd7QAAAACCFq3tAAAAAoEdVe0AAAADA9Wx7QAAAAOBRdHtAAAAA4KN0e0AAAACAFGp7QAAAAKCZd3tAAAAAIFx/e0AAAADA9ZB7QAEAAEDhYntAAAAAgD1me0AAAAAAPXJ7QAAAAAApcHtAAAAAACmEe0ABAADAHol7QAAAACCFi3tAAAAAQKSYe0AAAACAPeZ7QAAAAKCZ1XtAAAAAYI/ie0AAAABgZtp7QAAAAIAU/ntAAAAAoHABfEAAAACgRwl8QAAAAGC4CnxAAAAAgD0OfEAAAADgUSZ8QAAAAIAUEnxA\"},\"shape\":[84],\"dtype\":\"float64\",\"order\":\"little\"}],[\"Volume\",{\"type\":\"ndarray\",\"array\":{\"type\":\"bytes\",\"data\":\"5gMjAQsWsACJSZ0ACoysAOSapwA0nakAeaKLAONxXAHurc0A42U4AWdqrwD8BZ8AN7iBAP7YFAEYa4sADGyaACfoYABdibAAAIduANGfZQDMOd8AI8lTAM6jVgCXzasA/8vuANQChgCWjWAA4pcCAfSsoQBm4lEA1xdeAPkuswBqX4UA/npdAF/nYwBWPXMAJknAAFZnvgB4/pIAZyVlAJi4UABz4MoAx7HHAGU2hgCCamgA5QBOAKLPsQD7MS4BrWN6AI50gAAPynUAe7+jAHAhaABtQ2MAk7iYABi5egBjkFcAws6MAARYgwC6VFsAV79bAB/7qQDvN1IAXc9lAAzjoACVrakAsAxMAJU/TgAlvbcAAPhkAAlscwCTOWsAGejmAIiVNgHXotkCWBZTAOwAEwGDzowAhpZnACXhYgDgGFQAjO93ADto0QDWyZ4A\"},\"shape\":[84],\"dtype\":\"int32\",\"order\":\"little\"}],[\"datetime\",{\"type\":\"ndarray\",\"array\":{\"type\":\"bytes\",\"data\":\"AAD8Lk+LeEIAAOSdUot4QgAAtHtZi3hCAACEWWCLeEIAAGzIY4t4QgAAvJShi3hCAACkA6WLeEIAAES/sot4QgAALC62i3hCAAB8+vOLeEIAAGRp94t4QgAATNj6i3hCAAActgGMeEIAAAQlBYx4QgAADD5NjHhCAAAkZpONeEIAAAzVlo14QgAA9EOajXhCAADMOumNeEIAAJwY8I14QgAAvMI0jnhCAACMoDuOeEIAAFx+Qo54QgAALFxJjnhCAAB8KIeOeEIAAEwGjo54QgAANHWRjnhCAADswZuOeEIAALxZfo94QgAAdKaIj3hCAABEhI+PeEIAAHy/0I94QgAAZC7Uj3hCAABMndePeEIAADQM2494QgAAHHvej3hCAAAE6uGPeEIAADwlI5B4QgAAJJQmkHhCAAAMAyqQeEIAANzgMJB4QgAArL43kHhCAAD8inWQeEIAAOT5eJB4QgAAzGh8kHhCAACEtYaQeEIAAGwkipB4QgAAvPDHkHhCAACMzs6QeEIAAHQ90pB4QgAAXKzVkHhCAAD8Ib+ReEIAAOSQwpF4QgAAzP/FkXhCAAB87WOSeEIAAGRcZ5J4QgAABBh1knhCAAAMMb2SeEIAAPSfwJJ4QgAA3A7EknhCAADEfceSeEIAAPy4CJN4QgAA5CcMk3hCAADMlg+TeEIAALQFE5N4QgAAPOr/k3hCAAD0NgqUeEIAANylDZR4QgAArIMUlHhCAADkvlWUeEIAAMwtWZR4QgAAhHpjlHhCAABs6WaUeEIAALy1pJR4QgAAdAKvlHhCAABccbKUeEIAACxPuZR4QgAAZIr6lHhCAABM+f2UeEIAADRoAZV4QgAAHNcElXhCAAAERgiVeEIAADyBSZV4QgAArBpelXhC\"},\"shape\":[84],\"dtype\":\"float64\",\"order\":\"little\"}],[\"companyName\",{\"type\":\"ndarray\",\"array\":[\"SPY\",\"SPY\",\"SPY\",\"SPY\",\"SPY\",\"SPY\",\"SPY\",\"SPY\",\"SPY\",\"SPY\",\"SPY\",\"SPY\",\"SPY\",\"SPY\",\"SPY\",\"SPY\",\"SPY\",\"SPY\",\"SPY\",\"SPY\",\"SPY\",\"SPY\",\"SPY\",\"SPY\",\"SPY\",\"SPY\",\"SPY\",\"SPY\",\"SPY\",\"SPY\",\"SPY\",\"SPY\",\"SPY\",\"SPY\",\"SPY\",\"SPY\",\"SPY\",\"SPY\",\"SPY\",\"SPY\",\"SPY\",\"SPY\",\"SPY\",\"SPY\",\"SPY\",\"SPY\",\"SPY\",\"SPY\",\"SPY\",\"SPY\",\"SPY\",\"SPY\",\"SPY\",\"SPY\",\"SPY\",\"SPY\",\"SPY\",\"SPY\",\"SPY\",\"SPY\",\"SPY\",\"SPY\",\"SPY\",\"SPY\",\"SPY\",\"SPY\",\"SPY\",\"SPY\",\"SPY\",\"SPY\",\"SPY\",\"SPY\",\"SPY\",\"SPY\",\"SPY\",\"SPY\",\"SPY\",\"SPY\",\"SPY\",\"SPY\",\"SPY\",\"SPY\",\"SPY\",\"SPY\"],\"shape\":[84],\"dtype\":\"object\",\"order\":\"little\"}],[\"fecha\",{\"type\":\"ndarray\",\"array\":{\"type\":\"bytes\",\"data\":\"AADA1SCLeEIAAMDVIIt4QgAAwNUgi3hCAADA1SCLeEIAAMDVIIt4QgAAgDtzi3hCAACAO3OLeEIAAIA7c4t4QgAAgDtzi3hCAABAocWLeEIAAEChxYt4QgAAQKHFi3hCAABAocWLeEIAAEChxYt4QgAAAAcYjHhCAAAAnmGNeEIAAACeYY14QgAAAJ5hjXhCAADAA7SNeEIAAMADtI14QgAAgGkGjnhCAACAaQaOeEIAAIBpBo54QgAAgGkGjnhCAABAz1iOeEIAAEDPWI54QgAAQM9YjnhCAABAz1iOeEIAAIAAUI94QgAAgABQj3hCAACAAFCPeEIAAEBmoo94QgAAQGaij3hCAABAZqKPeEIAAEBmoo94QgAAQGaij3hCAABAZqKPeEIAAADM9I94QgAAAMz0j3hCAAAAzPSPeEIAAADM9I94QgAAAMz0j3hCAADAMUeQeEIAAMAxR5B4QgAAwDFHkHhCAADAMUeQeEIAAMAxR5B4QgAAgJeZkHhCAACAl5mQeEIAAICXmZB4QgAAgJeZkHhCAADAyJCReEIAAMDIkJF4QgAAwMiQkXhCAABAlDWSeEIAAECUNZJ4QgAAQJQ1knhCAAAA+oeSeEIAAAD6h5J4QgAAAPqHknhCAAAA+oeSeEIAAMBf2pJ4QgAAwF/aknhCAADAX9qSeEIAAMBf2pJ4QgAAAJHRk3hCAAAAkdGTeEIAAACR0ZN4QgAAAJHRk3hCAADA9iOUeEIAAMD2I5R4QgAAwPYjlHhCAADA9iOUeEIAAIBcdpR4QgAAgFx2lHhCAACAXHaUeEIAAIBcdpR4QgAAQMLIlHhCAABAwsiUeEIAAEDCyJR4QgAAQMLIlHhCAABAwsiUeEIAAAAoG5V4QgAAACgblXhC\"},\"shape\":[84],\"dtype\":\"float64\",\"order\":\"little\"}],[\"SMA20\",{\"type\":\"ndarray\",\"array\":{\"type\":\"bytes\",\"data\":\"AAAAAAAA+H8AAAAAAAD4fwAAAAAAAPh/AAAAAAAA+H8AAAAAAAD4fwAAAAAAAPh/AAAAAAAA+H8AAAAAAAD4fwAAAAAAAPh/AAAAAAAA+H8AAAAAAAD4fwAAAAAAAPh/AAAAAAAA+H8zMzPLnGF7QGZmZubLcntAzczMrDZ6e0CamZkxJnp7QDMzM4MAfXtAmpmZ0bdve0BmZmZuKGV7QM3MzISBVXtAzczMNAdLe0CamZnpT0N7QGZmZjY9QXtAZmZmVng/e0CamZnRajl7QJqZmaHiNntAzczM9Bsve0BmZmaGCS57QAAAAEjaJXtAMzMz0yQhe0DNzMwELRx7QM3MzKwLG3tAZmZm5r8ae0AAAADoahp7QDMzM4MkG3tAzczMbEsbe0DNzMyUKB97QM7MzOxhIHtAaGZmLsIhe0A1MzO7WSV7QGhmZp7/KHtAzszMtFkse0DOzMwMkzB7QGhmZpb3NHtAm5mZORtCe0DNzMzcYEZ7QJqZmeG2TXtAzczMnCtae0AAAABozF97QDMzM4unZXtAAAAAEBJ4e0AAAACwrH17QGZmZp4phHtAMzMzS0aKe0DNzMzM25B7QDMzM0MbpHtAAAAAuB2pe0AAAADYI6Z7QJqZmZFto3tAMzMzu8mge0BmZmaWCZp7QM3MzCTElntAmpmZoQOVe0BmZmZuUZR7QGZmZl6liHtAZmZmhlV+e0AAAAC43np7QM3MzEwieXtAMzMzw+B8e0CamZlRIn57QGZmZqapgXtAZmZmthGEe0AAAACA5ol7QAAAAFgJlHtAmpmZCSeZe0AzMzNzN6R7QM3MzOxLs3tAzczMVN26e0CamZnZR8J7QDMzMzstyntAmpmZ4UjSe0AAAAA4l+F7QGZmZtb3BHxA\"},\"shape\":[84],\"dtype\":\"float64\",\"order\":\"little\"}],[\"SMA40\",{\"type\":\"ndarray\",\"array\":{\"type\":\"bytes\",\"data\":\"AAAAAAAA+H8AAAAAAAD4fwAAAAAAAPh/AAAAAAAA+H8AAAAAAAD4fwAAAAAAAPh/AAAAAAAA+H8AAAAAAAD4fwAAAAAAAPh/AAAAAAAA+H8AAAAAAAD4fwAAAAAAAPh/AAAAAAAA+H8AAAAAAAD4fwAAAAAAAPh/AAAAAAAA+H8AAAAAAAD4fwAAAAAAAPh/AAAAAAAA+H/NzMycYmN7QJqZmWFDYntAzczM+CVhe0DNzMyQVGB7QAAAAEijXntAmpmZgddce0BmZmaqNVt7QM3MzFh9WntAAAAAVKdTe0AAAACs4FB7QDMzM1uBRXtAZmZmKmg9e0AzMzO7FTZ7QM3MzHAJM3tAMzMzG3swe0DNzMxo3S57QM3MzNCuLXtAmpmZUUQue0CamZnJsy17QDMzM1/mLHtAAAAAaFIse0AzMzMDFyt7QGZmZpKEK3tAmpmZfdYre0BmZmaK2Cx7QDMzM+9oLXtAzczMEPcve0DNzMzwRjF7QDMzM0dhNHtAZmZmQks6e0CamZl1eD17QAAAAHx5QHtAZmZm/jlMe0AzMzNvt097QDMzM6+sU3tAMzMzA9BXe0DNzMzs9lt7QM3MzGyJbHtAZmZmSr93e0DNzMxc7Xl7QDMzM4vKe3tAAAAArHp9e0DNzMyQ2H97QDMzM7tbgXtAzczMAJKDe0AzMzO/MYZ7QJqZmZXAjHtAmpmZ4feOe0CamZn9fI97QDMzM/f7kHtAmpmZPf+Se0DNzMwUI5J7QM3MzHCvj3tAZmZmpg2Pe0BmZmZSVZB7QGZmZqZ4k3tAAAAAWJaUe0DNzMxobpZ7QDMzM1dAmntAmpmZbZmce0DNzMxIk557QAAAABzhoHtAMzMzl7Wle0CamZn9O697QDMzMytvx3tA\"},\"shape\":[84],\"dtype\":\"float64\",\"order\":\"little\"}],[\"SMA100\",{\"type\":\"ndarray\",\"array\":{\"type\":\"bytes\",\"data\":\"AAAAAAAA+H8AAAAAAAD4fwAAAAAAAPh/AAAAAAAA+H8AAAAAAAD4fwAAAAAAAPh/AAAAAAAA+H8AAAAAAAD4fwAAAAAAAPh/AAAAAAAA+H8AAAAAAAD4fwAAAAAAAPh/AAAAAAAA+H8AAAAAAAD4fwAAAAAAAPh/AAAAAAAA+H8AAAAAAAD4fwAAAAAAAPh/AAAAAAAA+H8AAAAAAAD4fwAAAAAAAPh/AAAAAAAA+H8AAAAAAAD4fwAAAAAAAPh/AAAAAAAA+H8AAAAAAAD4fwAAAAAAAPh/AAAAAAAA+H8AAAAAAAD4fwAAAAAAAPh/AAAAAAAA+H8AAAAAAAD4fwAAAAAAAPh/AAAAAAAA+H8AAAAAAAD4fwAAAAAAAPh/AAAAAAAA+H8AAAAAAAD4fwAAAAAAAPh/AAAAAAAA+H8AAAAAAAD4fwAAAAAAAPh/AAAAAAAA+H8AAAAAAAD4fwAAAAAAAPh/AAAAAAAA+H8AAAAAAAD4fwAAAAAAAPh/AAAAAAAA+H8AAAAAAAD4fwAAAAAAAPh/AAAAAAAA+H8AAAAAAAD4fwAAAAAAAPh/AAAAAAAA+H8AAAAAAAD4f9ejcEW9WntAUrge/X1ce0CamZkRCl17QPYoXE+DXXtAhetR4AFee0CuR+HSc157QDMzM1u8XntAFK5HwVZfe0CamZlZo2B7QDMzM5OTYXtAexSuD2Rge0DNzMx0yl97QOxRuJbHXntAFK5HKYJee0Bcj8KVaV57QHE9Ci/oXntACtejGA9ge0DXo3CF32F7QI/C9SjaZXtAhetROFRne0AzMzNTYWp7QGZmZn5XbntAKVyPon9we0BxPQpXanJ7QArXo8iFdHtAhetREOd2e0D2KFy3oHt7QD0K12tfiXtA\"},\"shape\":[84],\"dtype\":\"float64\",\"order\":\"little\"}],[\"SMA200\",{\"type\":\"ndarray\",\"array\":{\"type\":\"bytes\",\"data\":\"AAAAAAAA+H8AAAAAAAD4fwAAAAAAAPh/AAAAAAAA+H8AAAAAAAD4fwAAAAAAAPh/AAAAAAAA+H8AAAAAAAD4fwAAAAAAAPh/AAAAAAAA+H8AAAAAAAD4fwAAAAAAAPh/AAAAAAAA+H8AAAAAAAD4fwAAAAAAAPh/AAAAAAAA+H8AAAAAAAD4fwAAAAAAAPh/AAAAAAAA+H8AAAAAAAD4fwAAAAAAAPh/AAAAAAAA+H8AAAAAAAD4fwAAAAAAAPh/AAAAAAAA+H8AAAAAAAD4fwAAAAAAAPh/AAAAAAAA+H8AAAAAAAD4fwAAAAAAAPh/AAAAAAAA+H8AAAAAAAD4fwAAAAAAAPh/AAAAAAAA+H8AAAAAAAD4fwAAAAAAAPh/AAAAAAAA+H8AAAAAAAD4fwAAAAAAAPh/AAAAAAAA+H8AAAAAAAD4fwAAAAAAAPh/AAAAAAAA+H8AAAAAAAD4fwAAAAAAAPh/AAAAAAAA+H8AAAAAAAD4fwAAAAAAAPh/AAAAAAAA+H8AAAAAAAD4fwAAAAAAAPh/AAAAAAAA+H8AAAAAAAD4fwAAAAAAAPh/AAAAAAAA+H8AAAAAAAD4fwAAAAAAAPh/AAAAAAAA+H8AAAAAAAD4fwAAAAAAAPh/AAAAAAAA+H8AAAAAAAD4fwAAAAAAAPh/AAAAAAAA+H8AAAAAAAD4fwAAAAAAAPh/AAAAAAAA+H8AAAAAAAD4fwAAAAAAAPh/AAAAAAAA+H8AAAAAAAD4fwAAAAAAAPh/AAAAAAAA+H8AAAAAAAD4fwAAAAAAAPh/AAAAAAAA+H8AAAAAAAD4fwAAAAAAAPh/AAAAAAAA+H8AAAAAAAD4fwAAAAAAAPh/AAAAAAAA+H8AAAAAAAD4fwAAAAAAAPh/\"},\"shape\":[84],\"dtype\":\"float64\",\"order\":\"little\"}],[\"pivotHigh\",{\"type\":\"ndarray\",\"array\":{\"type\":\"bytes\",\"data\":\"AAAAAAAA+H8AAAAAAAD4fwAAAAAAAPh/AAAAAAAA+H8AAAAAAAD4fwAAAAAAAPh/vHSTuP5we0AAAAAAAAD4fwAAAAAAAPh/AAAAAAAA+H8AAAAAAAD4fwAAAAAAAPh/AAAAAAAA+H+8dJN4ar57QAAAAAAAAPh/AAAAAAAA+H8AAAAAAAD4fwAAAAAAAPh/AAAAAAAA+H8AAAAAAAD4fwAAAAAAAPh/AAAAAAAA+H8AAAAAAAD4f7x0k5jvSXtAAAAAAAAA+H8AAAAAAAD4fwAAAAAAAPh/AAAAAAAA+H8AAAAAAAD4fwAAAAAAAPh/AAAAAAAA+H8AAAAAAAD4fwAAAAAAAPh/AAAAAAAA+H8AAAAAAAD4fwAAAAAAAPh/vHST+FFMe0AAAAAAAAD4fwAAAAAAAPh/AAAAAAAA+H8AAAAAAAD4fwAAAAAAAPh/AAAAAAAA+H8AAAAAAAD4fwAAAAAAAPh/AAAAAAAA+H8AAAAAAAD4fwAAAAAAAPh/AAAAAAAA+H8AAAAAAAD4f7x0k5gYwntAAAAAAAAA+H8AAAAAAAD4fwAAAAAAAPh/AAAAAAAA+H8AAAAAAAD4f7x0kxgtvHtAAAAAAAAA+H8AAAAAAAD4fwAAAAAAAPh/AAAAAAAA+H8AAAAAAAD4fwAAAAAAAPh/AAAAAAAA+H+8dJOYQap7QAAAAAAAAPh/AAAAAAAA+H8AAAAAAAD4fwAAAAAAAPh/AAAAAAAA+H8AAAAAAAD4fwAAAAAAAPh/AAAAAAAA+H+8dJO4dPV7QAAAAAAAAPh/AAAAAAAA+H8AAAAAAAD4fwAAAAAAAPh/AAAAAAAA+H8AAAAAAAD4fwAAAAAAAPh/AAAAAAAA+H+8dJOYxjV8QAAAAAAAAPh/\"},\"shape\":[84],\"dtype\":\"float64\",\"order\":\"little\"}],[\"pivotLow\",{\"type\":\"ndarray\",\"array\":{\"type\":\"bytes\",\"data\":\"AAAAAAAA+H8AAAAAAAD4fwAAAAAAAPh/AAAAAAAA+H8AAAAAAAD4fwAAAAAAAPh/AAAAAAAA+H8AAAAAAAD4fwAAAAAAAPh/AAAAAAAA+H8AAAAAAAD4fwAAAAAAAPh/AAAAAAAA+H8AAAAAAAD4fwAAAAAAAPh/AAAAAAAA+H8AAAAAAAD4fwAAAAAAAPh/AAAAAAAA+H8AAAAAAAD4fwAAAAAAAPh/AAAAAAAA+H8AAAAAAAD4fwAAAAAAAPh/AAAAAAAA+H8AAAAAAAD4fwAAAAAAAPh/AAAAAAAA+H8AAAAAAAD4fwAAAAAAAPh/AAAAAAAA+H8AAAAAAAD4fwAAAAAAAPh/AAAAAAAA+H8AAAAAAAD4fwAAAAAAAPh/AAAAAAAA+H8AAAAAAAD4fwAAAAAAAPh/AAAAAAAA+H8AAAAAAAD4fwAAAAAAAPh/AAAAAAAA+H8AAAAAAAD4fwAAAAAAAPh/AAAAAAAA+H8AAAAAAAD4fwAAAAAAAPh/AAAAAAAA+H8AAAAAAAD4fwAAAAAAAPh/AAAAAAAA+H8AAAAAAAD4fwAAAAAAAPh/AAAAAAAA+H8AAAAAAAD4fwAAAAAAAPh/AAAAAAAA+H8AAAAAAAD4fwAAAAAAAPh/AAAAAAAA+H8AAAAAAAD4fwAAAAAAAPh/AAAAAAAA+H8AAAAAAAD4fwAAAAAAAPh/AAAAAAAA+H8AAAAAAAD4fwAAAAAAAPh/AAAAAAAA+H8AAAAAAAD4fwAAAAAAAPh/AAAAAAAA+H8AAAAAAAD4fwAAAAAAAPh/AAAAAAAA+H8AAAAAAAD4fwAAAAAAAPh/AAAAAAAA+H8AAAAAAAD4fwAAAAAAAPh/AAAAAAAA+H8AAAAAAAD4fwAAAAAAAPh/\"},\"shape\":[84],\"dtype\":\"float64\",\"order\":\"little\"}],[\"isPivot\",{\"type\":\"ndarray\",\"array\":{\"type\":\"bytes\",\"data\":\"AAAAAAAA+H8AAAAAAAD4fwAAAAAAAPh/AAAAAAAA+H8AAAAAAAD4fwAAAAAAAPh/AAAAAAAA8D8AAAAAAAD4fwAAAAAAAPh/AAAAAAAA+H8AAAAAAAD4fwAAAAAAAPh/AAAAAAAA+H8AAAAAAADwPwAAAAAAAPh/AAAAAAAA+H8AAAAAAAD4fwAAAAAAAPh/AAAAAAAA+H8AAAAAAAD4fwAAAAAAAPh/AAAAAAAA+H8AAAAAAAD4fwAAAAAAAPA/AAAAAAAA+H8AAAAAAAD4fwAAAAAAAPh/AAAAAAAA+H8AAAAAAAD4fwAAAAAAAPh/AAAAAAAA+H8AAAAAAAD4fwAAAAAAAPh/AAAAAAAA+H8AAAAAAAD4fwAAAAAAAPh/AAAAAAAA8D8AAAAAAAD4fwAAAAAAAPh/AAAAAAAA+H8AAAAAAAD4fwAAAAAAAPh/AAAAAAAA+H8AAAAAAAD4fwAAAAAAAPh/AAAAAAAA+H8AAAAAAAD4fwAAAAAAAPh/AAAAAAAA+H8AAAAAAAD4fwAAAAAAAPA/AAAAAAAA+H8AAAAAAAD4fwAAAAAAAPh/AAAAAAAA+H8AAAAAAAD4fwAAAAAAAPA/AAAAAAAA+H8AAAAAAAD4fwAAAAAAAPh/AAAAAAAA+H8AAAAAAAD4fwAAAAAAAPh/AAAAAAAA+H8AAAAAAADwPwAAAAAAAPh/AAAAAAAA+H8AAAAAAAD4fwAAAAAAAPh/AAAAAAAA+H8AAAAAAAD4fwAAAAAAAPh/AAAAAAAA+H8AAAAAAADwPwAAAAAAAPh/AAAAAAAA+H8AAAAAAAD4fwAAAAAAAPh/AAAAAAAA+H8AAAAAAAD4fwAAAAAAAPh/AAAAAAAA+H8AAAAAAADwPwAAAAAAAPh/\"},\"shape\":[84],\"dtype\":\"float64\",\"order\":\"little\"}]]}}},\"view\":{\"type\":\"object\",\"name\":\"CDSView\",\"id\":\"p1242\",\"attributes\":{\"filter\":{\"type\":\"object\",\"name\":\"AllIndices\",\"id\":\"p1243\"}}},\"glyph\":{\"type\":\"object\",\"name\":\"VBar\",\"id\":\"p1238\",\"attributes\":{\"x\":{\"type\":\"field\",\"field\":\"index\"},\"width\":{\"type\":\"value\",\"value\":0.6},\"bottom\":{\"type\":\"field\",\"field\":\"Open\"},\"top\":{\"type\":\"field\",\"field\":\"Close\"},\"line_color\":{\"type\":\"value\",\"value\":\"green\"},\"fill_color\":{\"type\":\"value\",\"value\":\"green\"}}},\"nonselection_glyph\":{\"type\":\"object\",\"name\":\"VBar\",\"id\":\"p1239\",\"attributes\":{\"x\":{\"type\":\"field\",\"field\":\"index\"},\"width\":{\"type\":\"value\",\"value\":0.6},\"bottom\":{\"type\":\"field\",\"field\":\"Open\"},\"top\":{\"type\":\"field\",\"field\":\"Close\"},\"line_color\":{\"type\":\"value\",\"value\":\"green\"},\"line_alpha\":{\"type\":\"value\",\"value\":0.1},\"fill_color\":{\"type\":\"value\",\"value\":\"green\"},\"fill_alpha\":{\"type\":\"value\",\"value\":0.1},\"hatch_alpha\":{\"type\":\"value\",\"value\":0.1}}},\"muted_glyph\":{\"type\":\"object\",\"name\":\"VBar\",\"id\":\"p1240\",\"attributes\":{\"x\":{\"type\":\"field\",\"field\":\"index\"},\"width\":{\"type\":\"value\",\"value\":0.6},\"bottom\":{\"type\":\"field\",\"field\":\"Open\"},\"top\":{\"type\":\"field\",\"field\":\"Close\"},\"line_color\":{\"type\":\"value\",\"value\":\"green\"},\"line_alpha\":{\"type\":\"value\",\"value\":0.2},\"fill_color\":{\"type\":\"value\",\"value\":\"green\"},\"fill_alpha\":{\"type\":\"value\",\"value\":0.2},\"hatch_alpha\":{\"type\":\"value\",\"value\":0.2}}}}},{\"type\":\"object\",\"name\":\"GlyphRenderer\",\"id\":\"p1253\",\"attributes\":{\"data_source\":{\"type\":\"object\",\"name\":\"ColumnDataSource\",\"id\":\"p1244\",\"attributes\":{\"selected\":{\"type\":\"object\",\"name\":\"Selection\",\"id\":\"p1245\",\"attributes\":{\"indices\":[],\"line_indices\":[]}},\"selection_policy\":{\"type\":\"object\",\"name\":\"UnionRenderers\",\"id\":\"p1246\"},\"data\":{\"type\":\"map\",\"entries\":[[\"index\",{\"type\":\"ndarray\",\"array\":{\"type\":\"bytes\",\"data\":\"CAAAABMAAAAwAAAARAAAAFgAAABjAAAAbwAAAIEAAACPAAAA\"},\"shape\":[9],\"dtype\":\"int32\",\"order\":\"little\"}],[\"Close\",{\"type\":\"ndarray\",\"array\":{\"type\":\"bytes\",\"data\":\"AAAAYGZqe0AAAACAPbJ7QAEAAMDMSHtAAAAAANdLe0AAAADA9cB7QAAAACCFu3tAAAAAgMKpe0ABAADAhPN7QAAAAIDrJnxA\"},\"shape\":[9],\"dtype\":\"float64\",\"order\":\"little\"}],[\"High\",{\"type\":\"ndarray\",\"array\":{\"type\":\"bytes\",\"data\":\"AAAAoPpwe0AAAABgZr57QAAAAIDrSXtAAAAA4E1Me0AAAACAFMJ7QAAAAAApvHtAAAAAgD2qe0AAAACgcPV7QAAAAIDCNXxA\"},\"shape\":[9],\"dtype\":\"float64\",\"order\":\"little\"}],[\"Low\",{\"type\":\"ndarray\",\"array\":{\"type\":\"bytes\",\"data\":\"AAAAYI9ae0AAAACgmZ17QAAAACBcNXtAAAAAoHBBe0ABAADAHrd7QAAAAKBwq3tAAAAAwPWQe0AAAAAAT917QAEAAEDhInxA\"},\"shape\":[9],\"dtype\":\"float64\",\"order\":\"little\"}],[\"Open\",{\"type\":\"ndarray\",\"array\":{\"type\":\"bytes\",\"data\":\"AAAAoHBbe0AAAACgvZ17QAAAAKBHOXtAAAAAANdHe0AAAADgerh7QAAAACCFq3tAAAAAwPWQe0AAAACAPeZ7QAAAAOBRJnxA\"},\"shape\":[9],\"dtype\":\"float64\",\"order\":\"little\"}],[\"Volume\",{\"type\":\"ndarray\",\"array\":{\"type\":\"bytes\",\"data\":\"eaKLAP7YFAGXzasAJknAAA/KdQBjkFcADOOgAIiVNgE7aNEA\"},\"shape\":[9],\"dtype\":\"int32\",\"order\":\"little\"}],[\"datetime\",{\"type\":\"ndarray\",\"array\":{\"type\":\"bytes\",\"data\":\"AACkA6WLeEIAAAQlBYx4QgAALFxJjnhCAAAE6uGPeEIAAFys1ZB4QgAABBh1knhCAAC0BROTeEIAALy1pJR4QgAAPIFJlXhC\"},\"shape\":[9],\"dtype\":\"float64\",\"order\":\"little\"}],[\"companyName\",{\"type\":\"ndarray\",\"array\":[\"SPY\",\"SPY\",\"SPY\",\"SPY\",\"SPY\",\"SPY\",\"SPY\",\"SPY\",\"SPY\"],\"shape\":[9],\"dtype\":\"object\",\"order\":\"little\"}],[\"fecha\",{\"type\":\"ndarray\",\"array\":{\"type\":\"bytes\",\"data\":\"AACAO3OLeEIAAEChxYt4QgAAgGkGjnhCAABAZqKPeEIAAICXmZB4QgAAQJQ1knhCAADAX9qSeEIAAIBcdpR4QgAAACgblXhC\"},\"shape\":[9],\"dtype\":\"float64\",\"order\":\"little\"}],[\"SMA20\",{\"type\":\"ndarray\",\"array\":{\"type\":\"bytes\",\"data\":\"AAAAAAAA+H8zMzPLnGF7QGZmZjY9QXtAzczMbEsbe0AzMzOLp2V7QDMzM0MbpHtAZmZmblGUe0AAAACA5ol7QAAAADiX4XtA\"},\"shape\":[9],\"dtype\":\"float64\",\"order\":\"little\"}],[\"SMA40\",{\"type\":\"ndarray\",\"array\":{\"type\":\"bytes\",\"data\":\"AAAAAAAA+H8AAAAAAAD4fwAAAEijXntAmpmZUUQue0AAAAB8eUB7QM3MzGyJbHtAMzMzvzGGe0BmZmZSVZB7QJqZmf07r3tA\"},\"shape\":[9],\"dtype\":\"float64\",\"order\":\"little\"}],[\"SMA100\",{\"type\":\"ndarray\",\"array\":{\"type\":\"bytes\",\"data\":\"AAAAAAAA+H8AAAAAAAD4fwAAAAAAAPh/AAAAAAAA+H8AAAAAAAD4f9ejcEW9WntAmpmZWaNge0DXo3CF32F7QPYoXLege3tA\"},\"shape\":[9],\"dtype\":\"float64\",\"order\":\"little\"}],[\"SMA200\",{\"type\":\"ndarray\",\"array\":{\"type\":\"bytes\",\"data\":\"AAAAAAAA+H8AAAAAAAD4fwAAAAAAAPh/AAAAAAAA+H8AAAAAAAD4fwAAAAAAAPh/AAAAAAAA+H8AAAAAAAD4fwAAAAAAAPh/\"},\"shape\":[9],\"dtype\":\"float64\",\"order\":\"little\"}],[\"pivotHigh\",{\"type\":\"ndarray\",\"array\":{\"type\":\"bytes\",\"data\":\"vHSTuP5we0C8dJN4ar57QLx0k5jvSXtAvHST+FFMe0C8dJOYGMJ7QLx0kxgtvHtAvHSTmEGqe0C8dJO4dPV7QLx0k5jGNXxA\"},\"shape\":[9],\"dtype\":\"float64\",\"order\":\"little\"}],[\"pivotLow\",{\"type\":\"ndarray\",\"array\":{\"type\":\"bytes\",\"data\":\"AAAAAAAA+H8AAAAAAAD4fwAAAAAAAPh/AAAAAAAA+H8AAAAAAAD4fwAAAAAAAPh/AAAAAAAA+H8AAAAAAAD4fwAAAAAAAPh/\"},\"shape\":[9],\"dtype\":\"float64\",\"order\":\"little\"}],[\"isPivot\",{\"type\":\"ndarray\",\"array\":{\"type\":\"bytes\",\"data\":\"AAAAAAAA8D8AAAAAAADwPwAAAAAAAPA/AAAAAAAA8D8AAAAAAADwPwAAAAAAAPA/AAAAAAAA8D8AAAAAAADwPwAAAAAAAPA/\"},\"shape\":[9],\"dtype\":\"float64\",\"order\":\"little\"}]]}}},\"view\":{\"type\":\"object\",\"name\":\"CDSView\",\"id\":\"p1254\",\"attributes\":{\"filter\":{\"type\":\"object\",\"name\":\"AllIndices\",\"id\":\"p1255\"}}},\"glyph\":{\"type\":\"object\",\"name\":\"Scatter\",\"id\":\"p1250\",\"attributes\":{\"x\":{\"type\":\"field\",\"field\":\"index\"},\"y\":{\"type\":\"field\",\"field\":\"pivotHigh\"},\"size\":{\"type\":\"value\",\"value\":10},\"line_color\":{\"type\":\"value\",\"value\":\"navy\"},\"line_alpha\":{\"type\":\"value\",\"value\":0.5},\"fill_color\":{\"type\":\"value\",\"value\":\"blue\"},\"fill_alpha\":{\"type\":\"value\",\"value\":0.5},\"hatch_alpha\":{\"type\":\"value\",\"value\":0.5}}},\"nonselection_glyph\":{\"type\":\"object\",\"name\":\"Scatter\",\"id\":\"p1251\",\"attributes\":{\"x\":{\"type\":\"field\",\"field\":\"index\"},\"y\":{\"type\":\"field\",\"field\":\"pivotHigh\"},\"size\":{\"type\":\"value\",\"value\":10},\"line_color\":{\"type\":\"value\",\"value\":\"navy\"},\"line_alpha\":{\"type\":\"value\",\"value\":0.1},\"fill_color\":{\"type\":\"value\",\"value\":\"blue\"},\"fill_alpha\":{\"type\":\"value\",\"value\":0.1},\"hatch_alpha\":{\"type\":\"value\",\"value\":0.1}}},\"muted_glyph\":{\"type\":\"object\",\"name\":\"Scatter\",\"id\":\"p1252\",\"attributes\":{\"x\":{\"type\":\"field\",\"field\":\"index\"},\"y\":{\"type\":\"field\",\"field\":\"pivotHigh\"},\"size\":{\"type\":\"value\",\"value\":10},\"line_color\":{\"type\":\"value\",\"value\":\"navy\"},\"line_alpha\":{\"type\":\"value\",\"value\":0.2},\"fill_color\":{\"type\":\"value\",\"value\":\"blue\"},\"fill_alpha\":{\"type\":\"value\",\"value\":0.2},\"hatch_alpha\":{\"type\":\"value\",\"value\":0.2}}}}},{\"type\":\"object\",\"name\":\"GlyphRenderer\",\"id\":\"p1267\",\"attributes\":{\"data_source\":{\"type\":\"object\",\"name\":\"ColumnDataSource\",\"id\":\"p1258\",\"attributes\":{\"selected\":{\"type\":\"object\",\"name\":\"Selection\",\"id\":\"p1259\",\"attributes\":{\"indices\":[],\"line_indices\":[]}},\"selection_policy\":{\"type\":\"object\",\"name\":\"UnionRenderers\",\"id\":\"p1260\"},\"data\":{\"type\":\"map\",\"entries\":[[\"index\",{\"type\":\"ndarray\",\"array\":{\"type\":\"bytes\",\"data\":\"CwAAABwAAAArAAAAPgAAAEsAAABmAAAAdQAAAJQAAAA=\"},\"shape\":[8],\"dtype\":\"int32\",\"order\":\"little\"}],[\"Close\",{\"type\":\"ndarray\",\"array\":{\"type\":\"bytes\",\"data\":\"AAAAANcne0AAAADgejR7QAAAAIDCLXtAAQAAQOH2ekAAAACgcDV7QAAAAKCZVXtAAAAAgD1me0AAAACA6xF8QA==\"},\"shape\":[8],\"dtype\":\"float64\",\"order\":\"little\"}],[\"High\",{\"type\":\"ndarray\",\"array\":{\"type\":\"bytes\",\"data\":\"AAAAAClYe0AAAABguGJ7QAAAAKCZPXtAAAAAoJkNe0AAAAAgXD97QAAAAKCZXXtAAAAAoEdxe0AAAADA9Rx8QA==\"},\"shape\":[8],\"dtype\":\"float64\",\"order\":\"little\"}],[\"Low\",{\"type\":\"ndarray\",\"array\":{\"type\":\"bytes\",\"data\":\"AAAAoHAZe0AAAACAAjF7QAAAAOB6IHtAAQAAQArzekAAAACgcCl7QAAAAMD1UHtAAAAAIFxZe0AAAACAFAp8QA==\"},\"shape\":[8],\"dtype\":\"float64\",\"order\":\"little\"}],[\"Open\",{\"type\":\"ndarray\",\"array\":{\"type\":\"bytes\",\"data\":\"AAAA4KNUe0AAAADgo1R7QAAAAKBwOXtAAAAAgD0Ke0AAAACgcD17QAAAACCuW3tAAAAAwFtre0AAAACgcBl8QA==\"},\"shape\":[8],\"dtype\":\"float64\",\"order\":\"little\"}],[\"Volume\",{\"type\":\"ndarray\",\"array\":{\"type\":\"bytes\",\"data\":\"+JofAWbm8gDcFIkAtMwBASfwcQCVCJQAVn5iAJbHeAA=\"},\"shape\":[8],\"dtype\":\"int32\",\"order\":\"little\"}],[\"datetime\",{\"type\":\"ndarray\",\"array\":{\"type\":\"bytes\",\"data\":\"AABcUK+LeEIAADz3j414QgAApDE4jnhCAAAs85KPeEIAAMRPNJB4QgAAJMK5knhCAAAMyAaUeEIAAMSrWpV4Qg==\"},\"shape\":[8],\"dtype\":\"float64\",\"order\":\"little\"}],[\"companyName\",{\"type\":\"ndarray\",\"array\":[\"SPY\",\"SPY\",\"SPY\",\"SPY\",\"SPY\",\"SPY\",\"SPY\",\"SPY\"],\"shape\":[8],\"dtype\":\"object\",\"order\":\"little\"}],[\"fecha\",{\"type\":\"ndarray\",\"array\":{\"type\":\"bytes\",\"data\":\"AACAO3OLeEIAAACeYY14QgAAgGkGjnhCAACAAFCPeEIAAADM9I94QgAAAPqHknhCAAAAkdGTeEIAAAAoG5V4Qg==\"},\"shape\":[8],\"dtype\":\"float64\",\"order\":\"little\"}],[\"SMA20\",{\"type\":\"ndarray\",\"array\":{\"type\":\"bytes\",\"data\":\"AAAAAAAA+H+amZlZCXx7QJqZmXH+T3tAAAAA6NIde0DOzMwMEid7QJqZmYGUqHtAmpmZwTSBe0CamZnhTwN8QA==\"},\"shape\":[8],\"dtype\":\"float64\",\"order\":\"little\"}],[\"SMA40\",{\"type\":\"ndarray\",\"array\":{\"type\":\"bytes\",\"data\":\"AAAAAAAA+H8AAAAAAAD4fwAAACxlYXtAZmZmNqo5e0DNzMwAFyt7QJqZmd1XdXtAAAAASF6Oe0AAAADMsMN7QA==\"},\"shape\":[8],\"dtype\":\"float64\",\"order\":\"little\"}],[\"SMA100\",{\"type\":\"ndarray\",\"array\":{\"type\":\"bytes\",\"data\":\"AAAAAAAA+H8AAAAAAAD4fwAAAAAAAPh/AAAAAAAA+H8AAAAAAAD4f0jhehQ1XHtAj8L1eNNge0AUrkeh34Z7QA==\"},\"shape\":[8],\"dtype\":\"float64\",\"order\":\"little\"}],[\"SMA200\",{\"type\":\"ndarray\",\"array\":{\"type\":\"bytes\",\"data\":\"AAAAAAAA+H8AAAAAAAD4fwAAAAAAAPh/AAAAAAAA+H8AAAAAAAD4fwAAAAAAAPh/AAAAAAAA+H8AAAAAAAD4fw==\"},\"shape\":[8],\"dtype\":\"float64\",\"order\":\"little\"}],[\"pivotHigh\",{\"type\":\"ndarray\",\"array\":{\"type\":\"bytes\",\"data\":\"AAAAAAAA+H8AAAAAAAD4fwAAAAAAAPh/AAAAAAAA+H8AAAAAAAD4fwAAAAAAAPh/AAAAAAAA+H8AAAAAAAD4fw==\"},\"shape\":[8],\"dtype\":\"float64\",\"order\":\"little\"}],[\"pivotLow\",{\"type\":\"ndarray\",\"array\":{\"type\":\"bytes\",\"data\":\"RItsh2wZe0BEi2xn/jB7QESLbMd2IHtARYtsJwbzekBEi2yHbCl7QESLbKfxUHtARItsB1hZe0BEi2xnEAp8QA==\"},\"shape\":[8],\"dtype\":\"float64\",\"order\":\"little\"}],[\"isPivot\",{\"type\":\"ndarray\",\"array\":{\"type\":\"bytes\",\"data\":\"AAAAAAAAAEAAAAAAAAAAQAAAAAAAAABAAAAAAAAAAEAAAAAAAAAAQAAAAAAAAABAAAAAAAAAAEAAAAAAAAAAQA==\"},\"shape\":[8],\"dtype\":\"float64\",\"order\":\"little\"}]]}}},\"view\":{\"type\":\"object\",\"name\":\"CDSView\",\"id\":\"p1268\",\"attributes\":{\"filter\":{\"type\":\"object\",\"name\":\"AllIndices\",\"id\":\"p1269\"}}},\"glyph\":{\"type\":\"object\",\"name\":\"Scatter\",\"id\":\"p1264\",\"attributes\":{\"x\":{\"type\":\"field\",\"field\":\"index\"},\"y\":{\"type\":\"field\",\"field\":\"pivotLow\"},\"size\":{\"type\":\"value\",\"value\":10},\"line_color\":{\"type\":\"value\",\"value\":\"navy\"},\"line_alpha\":{\"type\":\"value\",\"value\":0.5},\"fill_color\":{\"type\":\"value\",\"value\":\"green\"},\"fill_alpha\":{\"type\":\"value\",\"value\":0.5},\"hatch_alpha\":{\"type\":\"value\",\"value\":0.5}}},\"nonselection_glyph\":{\"type\":\"object\",\"name\":\"Scatter\",\"id\":\"p1265\",\"attributes\":{\"x\":{\"type\":\"field\",\"field\":\"index\"},\"y\":{\"type\":\"field\",\"field\":\"pivotLow\"},\"size\":{\"type\":\"value\",\"value\":10},\"line_color\":{\"type\":\"value\",\"value\":\"navy\"},\"line_alpha\":{\"type\":\"value\",\"value\":0.1},\"fill_color\":{\"type\":\"value\",\"value\":\"green\"},\"fill_alpha\":{\"type\":\"value\",\"value\":0.1},\"hatch_alpha\":{\"type\":\"value\",\"value\":0.1}}},\"muted_glyph\":{\"type\":\"object\",\"name\":\"Scatter\",\"id\":\"p1266\",\"attributes\":{\"x\":{\"type\":\"field\",\"field\":\"index\"},\"y\":{\"type\":\"field\",\"field\":\"pivotLow\"},\"size\":{\"type\":\"value\",\"value\":10},\"line_color\":{\"type\":\"value\",\"value\":\"navy\"},\"line_alpha\":{\"type\":\"value\",\"value\":0.2},\"fill_color\":{\"type\":\"value\",\"value\":\"green\"},\"fill_alpha\":{\"type\":\"value\",\"value\":0.2},\"hatch_alpha\":{\"type\":\"value\",\"value\":0.2}}}}}],\"toolbar\":{\"type\":\"object\",\"name\":\"Toolbar\",\"id\":\"p1181\",\"attributes\":{\"tools\":[{\"type\":\"object\",\"name\":\"PanTool\",\"id\":\"p1194\"},{\"type\":\"object\",\"name\":\"WheelZoomTool\",\"id\":\"p1195\",\"attributes\":{\"renderers\":\"auto\"}},{\"type\":\"object\",\"name\":\"BoxZoomTool\",\"id\":\"p1196\",\"attributes\":{\"dimensions\":\"both\",\"overlay\":{\"type\":\"object\",\"name\":\"BoxAnnotation\",\"id\":\"p1197\",\"attributes\":{\"syncable\":false,\"line_color\":\"black\",\"line_alpha\":1.0,\"line_width\":2,\"line_dash\":[4,4],\"fill_color\":\"lightgrey\",\"fill_alpha\":0.5,\"level\":\"overlay\",\"visible\":false,\"left\":{\"type\":\"number\",\"value\":\"nan\"},\"right\":{\"type\":\"number\",\"value\":\"nan\"},\"top\":{\"type\":\"number\",\"value\":\"nan\"},\"bottom\":{\"type\":\"number\",\"value\":\"nan\"},\"left_units\":\"canvas\",\"right_units\":\"canvas\",\"top_units\":\"canvas\",\"bottom_units\":\"canvas\",\"handles\":{\"type\":\"object\",\"name\":\"BoxInteractionHandles\",\"id\":\"p1203\",\"attributes\":{\"all\":{\"type\":\"object\",\"name\":\"AreaVisuals\",\"id\":\"p1202\",\"attributes\":{\"fill_color\":\"white\",\"hover_fill_color\":\"lightgray\"}}}}}}}},{\"type\":\"object\",\"name\":\"SaveTool\",\"id\":\"p1204\"},{\"type\":\"object\",\"name\":\"ResetTool\",\"id\":\"p1205\"},{\"type\":\"object\",\"name\":\"HelpTool\",\"id\":\"p1206\"},{\"type\":\"object\",\"name\":\"HoverTool\",\"id\":\"p1207\",\"attributes\":{\"renderers\":\"auto\",\"tooltips\":[[\"Index\",\"@index\"],[\"Open\",\"@Open\"],[\"High\",\"@High\"],[\"Low\",\"@Low\"],[\"Close\",\"@Close\"]]}}]}},\"left\":[{\"type\":\"object\",\"name\":\"LinearAxis\",\"id\":\"p1189\",\"attributes\":{\"ticker\":{\"type\":\"object\",\"name\":\"BasicTicker\",\"id\":\"p1190\",\"attributes\":{\"mantissas\":[1,2,5]}},\"formatter\":{\"type\":\"object\",\"name\":\"BasicTickFormatter\",\"id\":\"p1191\"},\"major_label_policy\":{\"type\":\"object\",\"name\":\"AllLabels\",\"id\":\"p1192\"}}}],\"below\":[{\"type\":\"object\",\"name\":\"LinearAxis\",\"id\":\"p1184\",\"attributes\":{\"ticker\":{\"type\":\"object\",\"name\":\"BasicTicker\",\"id\":\"p1185\",\"attributes\":{\"mantissas\":[1,2,5]}},\"formatter\":{\"type\":\"object\",\"name\":\"BasicTickFormatter\",\"id\":\"p1186\"},\"major_label_orientation\":0.8,\"major_label_policy\":{\"type\":\"object\",\"name\":\"AllLabels\",\"id\":\"p1187\"},\"axis_line_width\":2}}],\"center\":[{\"type\":\"object\",\"name\":\"Grid\",\"id\":\"p1188\",\"attributes\":{\"axis\":{\"id\":\"p1184\"}}},{\"type\":\"object\",\"name\":\"Grid\",\"id\":\"p1193\",\"attributes\":{\"dimension\":1,\"axis\":{\"id\":\"p1189\"}}},{\"type\":\"object\",\"name\":\"Legend\",\"id\":\"p1256\",\"attributes\":{\"items\":[{\"type\":\"object\",\"name\":\"LegendItem\",\"id\":\"p1257\",\"attributes\":{\"label\":{\"type\":\"value\",\"value\":\"Cambio Tendencia Bajista\"},\"renderers\":[{\"id\":\"p1253\"}]}},{\"type\":\"object\",\"name\":\"LegendItem\",\"id\":\"p1270\",\"attributes\":{\"label\":{\"type\":\"value\",\"value\":\"Cambio Tendencia Alcista\"},\"renderers\":[{\"id\":\"p1267\"}]}}]}}],\"background_fill_color\":\"#efefef\"}}]}};\n",
       "  const render_items = [{\"docid\":\"55fb606d-3e58-4949-a975-019cac48743f\",\"roots\":{\"p1172\":\"f5bd8aa6-61fa-4fed-905f-146ad047f71c\"},\"root_ids\":[\"p1172\"]}];\n",
       "  void root.Bokeh.embed.embed_items_notebook(docs_json, render_items);\n",
       "  }\n",
       "  if (root.Bokeh !== undefined) {\n",
       "    embed_document(root);\n",
       "  } else {\n",
       "    let attempts = 0;\n",
       "    const timer = setInterval(function(root) {\n",
       "      if (root.Bokeh !== undefined) {\n",
       "        clearInterval(timer);\n",
       "        embed_document(root);\n",
       "      } else {\n",
       "        attempts++;\n",
       "        if (attempts > 100) {\n",
       "          clearInterval(timer);\n",
       "          console.log(\"Bokeh: ERROR: Unable to run BokehJS code because BokehJS library is missing\");\n",
       "        }\n",
       "      }\n",
       "    }, 10, root)\n",
       "  }\n",
       "})(window);"
      ],
      "application/vnd.bokehjs_exec.v0+json": ""
     },
     "metadata": {
      "application/vnd.bokehjs_exec.v0+json": {
       "id": "p1172"
      }
     },
     "output_type": "display_data"
    }
   ],
   "source": [
    "#CODIGO DE REVISION HORA\n",
    "#dfpl = df_hora.iloc[500:970]\n",
    "dfpl = df_hora.iloc[0:150]\n",
    "\n",
    "p = figure(width=2500, height=500,\n",
    "        title=\"HORA\",\n",
    "        background_fill_color=\"#efefef\",\n",
    "        tooltips=[(\"Index\", \"@index\"), (\"Open\", \"@Open\"), (\"High\",\"@High\"), (\"Low\",\"@Low\"), (\"Close\",\"@Close\")]\n",
    "        )\n",
    "p.xaxis.major_label_orientation = 0.8 # radians\n",
    "p.x_range.range_padding = 0.05\n",
    "#p.xaxis.axis_line_join = \"bevel\" # radians\n",
    "p.xaxis.axis_line_width = 2\n",
    "\n",
    "p.segment(\"index\", \"High\", \"index\",\"Low\",  color=\"black\", line_width=1, source=dfpl)\n",
    "\n",
    "inc = dfpl.query(\"Close>Open\")\n",
    "dec = dfpl.query(\"Open>Close\")\n",
    "\n",
    "p.vbar(    \n",
    "    x=\"index\",\n",
    "    width=0.6,\n",
    "    bottom=\"Open\",\n",
    "    top=\"Close\",\n",
    "    fill_color=\"red\",\n",
    "    line_color=\"red\",    \n",
    "    source=dec   \n",
    ")\n",
    "\n",
    "\n",
    "p.vbar(    \n",
    "    x=\"index\",\n",
    "    width=0.6,\n",
    "    bottom=\"Open\",\n",
    "    top=\"Close\",\n",
    "    fill_color=\"green\",\n",
    "    line_color=\"green\", \n",
    "    source=inc   \n",
    ")\n",
    "\n",
    "p.scatter(x=\"index\", y=\"pivotHigh\", marker=\"circle\", size=10,\n",
    "           line_color=\"navy\", fill_color=\"blue\", alpha=0.5, legend_label=\"Cambio Tendencia Bajista\", source=dfpl[(dfpl.isPivot==1)])\n",
    "\n",
    "p.scatter(x=\"index\", y=\"pivotLow\", marker=\"circle\", size=10,\n",
    "           line_color=\"navy\", fill_color=\"green\", alpha=0.5, legend_label=\"Cambio Tendencia Alcista\", source=dfpl[(dfpl.isPivot==2)])\n",
    "\n",
    "show(p)"
   ]
  },
  {
   "cell_type": "code",
   "execution_count": 8,
   "id": "ead77d84-5ecc-41d2-9ea1-d0d128f2579c",
   "metadata": {
    "execution": {
     "iopub.execute_input": "2025-06-11T19:53:16.500829Z",
     "iopub.status.busy": "2025-06-11T19:53:16.500633Z",
     "iopub.status.idle": "2025-06-11T19:53:16.787942Z",
     "shell.execute_reply": "2025-06-11T19:53:16.787280Z"
    },
    "papermill": {
     "duration": 0.294773,
     "end_time": "2025-06-11T19:53:16.789148",
     "exception": false,
     "start_time": "2025-06-11T19:53:16.494375",
     "status": "completed"
    },
    "tags": []
   },
   "outputs": [],
   "source": [
    "## cerca a PM100 o PM200 en diario\n",
    "def zonabarata(df_dia):\n",
    "    if ((df_dia['isPivot']==2) & ((df_dia['Low']<=df_dia['SMA100']) | (df_dia['Low']<=df_dia['SMA200']))):\n",
    "    #if ((df_dia['isPivot']==2) & (( df_dia['SMA100']-df_dia['Low']<=0.5 ) | ( df_dia['SMA200']-df_dia['Low']<=0.5 ))):    \n",
    "        return 1\n",
    "    else:\n",
    "        return 0\n",
    "df_dia['zbarata'] = df_dia.apply(zonabarata, axis=1)"
   ]
  },
  {
   "cell_type": "code",
   "execution_count": 9,
   "id": "77db7f21-589a-4840-932a-5db339b0bc7d",
   "metadata": {
    "execution": {
     "iopub.execute_input": "2025-06-11T19:53:16.800612Z",
     "iopub.status.busy": "2025-06-11T19:53:16.800122Z",
     "iopub.status.idle": "2025-06-11T19:53:16.826090Z",
     "shell.execute_reply": "2025-06-11T19:53:16.825554Z"
    },
    "papermill": {
     "duration": 0.032682,
     "end_time": "2025-06-11T19:53:16.827246",
     "exception": false,
     "start_time": "2025-06-11T19:53:16.794564",
     "status": "completed"
    },
    "tags": []
   },
   "outputs": [],
   "source": [
    "df_hora_final = pd.merge(df_hora, df_dia[['fecha','companyName', 'zbarata']], on = ['companyName','fecha'], how='left')"
   ]
  },
  {
   "cell_type": "code",
   "execution_count": 10,
   "id": "fa9c01c4-3680-4dcb-adb4-01f6ad858abf",
   "metadata": {
    "execution": {
     "iopub.execute_input": "2025-06-11T19:53:16.838538Z",
     "iopub.status.busy": "2025-06-11T19:53:16.838163Z",
     "iopub.status.idle": "2025-06-11T19:53:17.837128Z",
     "shell.execute_reply": "2025-06-11T19:53:17.836442Z"
    },
    "papermill": {
     "duration": 1.005641,
     "end_time": "2025-06-11T19:53:17.838335",
     "exception": false,
     "start_time": "2025-06-11T19:53:16.832694",
     "status": "completed"
    },
    "tags": []
   },
   "outputs": [],
   "source": [
    "#df_hora_final[df_hora_final['zbarata']==1]\n",
    "def pga(df_hora_final):\n",
    "    if ((df_hora_final['zbarata']==1) & (df_hora_final['isPivot']==2)):\n",
    "        return 1\n",
    "    else:\n",
    "        return 0\n",
    "df_hora_final['pga'] = df_hora_final.apply(pga, axis=1)"
   ]
  },
  {
   "cell_type": "code",
   "execution_count": 11,
   "id": "186352f4-a1dd-442c-9e07-2704cb3bd441",
   "metadata": {
    "execution": {
     "iopub.execute_input": "2025-06-11T19:53:17.849828Z",
     "iopub.status.busy": "2025-06-11T19:53:17.849384Z",
     "iopub.status.idle": "2025-06-11T19:53:17.852875Z",
     "shell.execute_reply": "2025-06-11T19:53:17.852392Z"
    },
    "papermill": {
     "duration": 0.010029,
     "end_time": "2025-06-11T19:53:17.853689",
     "exception": false,
     "start_time": "2025-06-11T19:53:17.843660",
     "status": "completed"
    },
    "tags": []
   },
   "outputs": [],
   "source": [
    "df_hora_final['Vela_Verde'] = df_hora_final['Close'] > df_hora_final['Open']"
   ]
  },
  {
   "cell_type": "code",
   "execution_count": 12,
   "id": "e2cad690-304f-4625-98d9-f41fde7275c5",
   "metadata": {
    "execution": {
     "iopub.execute_input": "2025-06-11T19:53:17.864531Z",
     "iopub.status.busy": "2025-06-11T19:53:17.864130Z",
     "iopub.status.idle": "2025-06-11T19:53:36.021700Z",
     "shell.execute_reply": "2025-06-11T19:53:36.021098Z"
    },
    "papermill": {
     "duration": 18.163997,
     "end_time": "2025-06-11T19:53:36.022649",
     "exception": false,
     "start_time": "2025-06-11T19:53:17.858652",
     "status": "completed"
    },
    "tags": []
   },
   "outputs": [
    {
     "name": "stdout",
     "output_type": "stream",
     "text": [
      "posible caso: 539 SPY , fecha: 2023-10-03 00:00:00\n",
      "Procesando: 2023-10-03\n",
      "indice_i: 540 ,monto_ini: 420.6199951171875 ,indice_f: 541 ,monto_fin: 421.6700134277344\n",
      "Procesando: 2023-10-04\n",
      "indice_i: 542 ,monto_ini: 420.6195983886719 ,indice_f: 548 ,monto_fin: 424.7000122070313\n",
      "Procesando: 2023-10-05\n",
      "indice_i: 549 ,monto_ini: 423.4249877929688 ,indice_f: 555 ,monto_fin: 424.4599914550781\n",
      "posible caso: 665 SPY , fecha: 2023-10-27 00:00:00\n",
      "posible caso: 1997 SPY , fecha: 2024-08-05 00:00:00\n",
      "Procesando: 2024-08-05\n",
      "indice_i: 1998 ,monto_ini: 519.6799926757812 ,indice_f: 2003 ,monto_fin: 517.4099731445312\n",
      "Procesando: 2024-08-06\n",
      "indice_i: 2004 ,monto_ini: 522.9299926757812 ,indice_f: 2010 ,monto_fin: 522.1900024414062\n",
      "Procesando: 2024-08-07\n",
      "indice_i: 2011 ,monto_ini: 528.75 ,indice_f: 2017 ,monto_fin: 518.6500244140625\n",
      "posible caso: 3049 SPY , fecha: 2025-03-13 00:00:00\n",
      "posible caso: 3178 SPY , fecha: 2025-04-08 00:00:00\n",
      "Procesando: 2025-04-09\n",
      "indice_i: 3179 ,monto_ini: 498.9700012207031 ,indice_f: 3185 ,monto_fin: 542.8400268554688\n",
      "Procesando: 2025-04-10\n",
      "indice_i: 3186 ,monto_ini: 528.1099853515625 ,indice_f: 3192 ,monto_fin: 524.7100219726562\n"
     ]
    },
    {
     "name": "stdout",
     "output_type": "stream",
     "text": [
      "posible caso: 3232 SPY , fecha: 2025-04-21 00:00:00\n",
      "Procesando: 2025-04-21\n",
      "indice_i: 3233 ,monto_ini: 510.364990234375 ,indice_f: 3234 ,monto_fin: 513.969970703125\n",
      "Procesando: 2025-04-22\n",
      "indice_i: 3235 ,monto_ini: 523.0599975585938 ,indice_f: 3241 ,monto_fin: 526.969970703125\n",
      "Procesando: 2025-04-23\n",
      "indice_i: 3242 ,monto_ini: 543.8800048828125 ,indice_f: 3248 ,monto_fin: 535.3800048828125\n",
      "posible caso: 4199 META , fecha: 2023-10-26 00:00:00\n",
      "Procesando: 2023-10-26\n",
      "indice_i: 4200 ,monto_ini: 289.70001220703125 ,indice_f: 4202 ,monto_fin: 288.3399963378906\n",
      "Procesando: 2023-10-27\n",
      "indice_i: 4203 ,monto_ini: 296.2799987792969 ,indice_f: 4209 ,monto_fin: 296.739990234375\n",
      "Procesando: 2023-10-30\n",
      "indice_i: 4210 ,monto_ini: 303.6300048828125 ,indice_f: 4216 ,monto_fin: 302.739990234375\n",
      "Procesando: 2023-10-31\n",
      "indice_i: 4217 ,monto_ini: 300.5 ,indice_f: 4223 ,monto_fin: 301.239990234375\n",
      "posible caso: 5087 META , fecha: 2024-04-30 00:00:00\n",
      "posible caso: 5490 META , fecha: 2024-07-25 00:00:00\n",
      "Procesando: 2024-07-25\n",
      "indice_i: 5491 ,monto_ini: 456.8500061035156 ,indice_f: 5496 ,monto_fin: 453.3999938964844\n",
      "Procesando: 2024-07-26\n",
      "indice_i: 5497 ,monto_ini: 463.1122131347656 ,indice_f: 5503 ,monto_fin: 465.8599853515625\n",
      "Procesando: 2024-07-29\n",
      "indice_i: 5504 ,monto_ini: 470.7749938964844 ,indice_f: 5510 ,monto_fin: 465.7999877929688\n",
      "posible caso: 5496 META , fecha: 2024-07-25 00:00:00\n"
     ]
    },
    {
     "name": "stdout",
     "output_type": "stream",
     "text": [
      "posible caso: 6610 META , fecha: 2025-03-18 00:00:00\n",
      "Procesando: 2025-03-18\n",
      "indice_i: 6611 ,monto_ini: 579.6799926757812 ,indice_f: 6615 ,monto_fin: 582.4600219726562\n",
      "Procesando: 2025-03-19\n",
      "indice_i: 6616 ,monto_ini: 583.1168823242188 ,indice_f: 6622 ,monto_fin: 583.9500122070312\n",
      "Procesando: 2025-03-20\n",
      "indice_i: 6623 ,monto_ini: 604.868896484375 ,indice_f: 6629 ,monto_fin: 585.97998046875\n",
      "Procesando: 2025-03-21\n",
      "indice_i: 6630 ,monto_ini: 590.3499755859375 ,indice_f: 6636 ,monto_fin: 596.239990234375\n",
      "Procesando: 2025-03-24\n",
      "indice_i: 6637 ,monto_ini: 620.3250122070312 ,indice_f: 6643 ,monto_fin: 618.4099731445312\n",
      "Procesando: 2025-03-25\n",
      "indice_i: 6644 ,monto_ini: 629.2335815429688 ,indice_f: 6650 ,monto_fin: 626.2899780273438\n",
      "Procesando: 2025-03-26\n",
      "indice_i: 6651 ,monto_ini: 614.5800170898438 ,indice_f: 6657 ,monto_fin: 610.9290161132812\n",
      "posible caso: 6772 META , fecha: 2025-04-21 00:00:00\n",
      "Procesando: 2025-04-21\n",
      "indice_i: 6773 ,monto_ini: 483.5299987792969 ,indice_f: 6776 ,monto_fin: 484.4800109863281\n",
      "Procesando: 2025-04-22\n",
      "indice_i: 6777 ,monto_ini: 488.5849914550781 ,indice_f: 6783 ,monto_fin: 500.30999755859375\n",
      "Procesando: 2025-04-23\n",
      "indice_i: 6784 ,monto_ini: 530.0 ,indice_f: 6790 ,monto_fin: 520.010009765625\n",
      "posible caso: 7522 AAPL , fecha: 2023-09-13 00:00:00\n",
      "posible caso: 7736 AAPL , fecha: 2023-10-26 00:00:00\n",
      "posible caso: 8070 AAPL , fecha: 2024-01-05 00:00:00\n",
      "Procesando: 2024-01-05\n",
      "indice_i: 8071 ,monto_ini: 181.1699981689453 ,indice_f: 8071 ,monto_fin: 181.1699981689453\n",
      "Procesando: 2024-01-08\n",
      "indice_i: 8072 ,monto_ini: 183.8099975585937 ,indice_f: 8078 ,monto_fin: 185.5500030517578\n",
      "Procesando: 2024-01-09\n",
      "indice_i: 8079 ,monto_ini: 183.5249938964844 ,indice_f: 8085 ,monto_fin: 185.1100006103516\n",
      "posible caso: 8114 AAPL , fecha: 2024-01-17 00:00:00\n",
      "Procesando: 2024-01-17\n",
      "indice_i: 8115 ,monto_ini: 181.80499267578125 ,indice_f: 8120 ,monto_fin: 182.6600036621093\n",
      "Procesando: 2024-01-18\n",
      "indice_i: 8121 ,monto_ini: 187.4501037597656 ,indice_f: 8127 ,monto_fin: 188.72999572753903\n",
      "Procesando: 2024-01-19\n",
      "indice_i: 8128 ,monto_ini: 189.94009399414065 ,indice_f: 8134 ,monto_fin: 191.5800018310547\n",
      "Procesando: 2024-01-22\n",
      "indice_i: 8135 ,monto_ini: 194.75 ,indice_f: 8141 ,monto_fin: 193.8699951171875\n"
     ]
    },
    {
     "name": "stdout",
     "output_type": "stream",
     "text": [
      "Procesando: 2024-01-23\n",
      "indice_i: 8142 ,monto_ini: 194.19500732421875 ,indice_f: 8148 ,monto_fin: 195.1600036621093\n",
      "Procesando: 2024-01-24\n",
      "indice_i: 8149 ,monto_ini: 196.0 ,indice_f: 8155 ,monto_fin: 194.509994506836\n",
      "posible caso: 8359 AAPL , fecha: 2024-03-07 00:00:00\n",
      "Procesando: 2024-03-07\n",
      "indice_i: 8360 ,monto_ini: 169.27999877929688 ,indice_f: 8365 ,monto_fin: 168.97999572753906\n",
      "Procesando: 2024-03-08\n",
      "indice_i: 8366 ,monto_ini: 171.77999877929688 ,indice_f: 8372 ,monto_fin: 170.74000549316406\n",
      "Procesando: 2024-03-11\n",
      "indice_i: 8373 ,monto_ini: 173.35000610351562 ,indice_f: 8379 ,monto_fin: 172.7899932861328\n",
      "posible caso: 8365 AAPL , fecha: 2024-03-07 00:00:00\n",
      "Procesando: 2024-03-08\n",
      "indice_i: 8366 ,monto_ini: 171.77999877929688 ,indice_f: 8372 ,monto_fin: 170.74000549316406\n",
      "Procesando: 2024-03-11\n",
      "indice_i: 8373 ,monto_ini: 173.35000610351562 ,indice_f: 8379 ,monto_fin: 172.7899932861328\n",
      "posible caso: 8526 AAPL , fecha: 2024-04-10 00:00:00\n",
      "Procesando: 2024-04-11\n",
      "indice_i: 8527 ,monto_ini: 168.72000122070312 ,indice_f: 8533 ,monto_fin: 175.0399932861328\n",
      "Procesando: 2024-04-12\n",
      "indice_i: 8534 ,monto_ini: 176.75 ,indice_f: 8540 ,monto_fin: 176.56500244140625\n",
      "Procesando: 2024-04-15\n",
      "indice_i: 8541 ,monto_ini: 174.8800048828125 ,indice_f: 8547 ,monto_fin: 172.68499755859375\n",
      "posible caso: 8571 AAPL , fecha: 2024-04-19 00:00:00\n",
      "Procesando: 2024-04-19\n",
      "indice_i: 8572 ,monto_ini: 164.9199981689453 ,indice_f: 8575 ,monto_fin: 164.92999267578125\n",
      "Procesando: 2024-04-22\n",
      "indice_i: 8576 ,monto_ini: 165.3699951171875 ,indice_f: 8582 ,monto_fin: 165.83999633789062\n",
      "Procesando: 2024-04-23\n",
      "indice_i: 8583 ,monto_ini: 165.82000732421875 ,indice_f: 8589 ,monto_fin: 166.91000366210938\n"
     ]
    },
    {
     "name": "stdout",
     "output_type": "stream",
     "text": [
      "posible caso: 9526 AAPL , fecha: 2024-11-04 00:00:00\n",
      "Procesando: 2024-11-04\n",
      "indice_i: 9527 ,monto_ini: 222.0204925537109 ,indice_f: 9530 ,monto_fin: 222.1199951171875\n",
      "Procesando: 2024-11-05\n",
      "indice_i: 9531 ,monto_ini: 223.3191070556641 ,indice_f: 9537 ,monto_fin: 223.4499969482422\n",
      "Procesando: 2024-11-06\n",
      "indice_i: 9538 ,monto_ini: 225.6513061523437 ,indice_f: 9544 ,monto_fin: 222.6999969482422\n",
      "Procesando: 2024-11-07\n",
      "indice_i: 9545 ,monto_ini: 225.7335968017578 ,indice_f: 9551 ,monto_fin: 227.69000244140625\n",
      "Procesando: 2024-11-08\n",
      "indice_i: 9552 ,monto_ini: 227.4947052001953 ,indice_f: 9558 ,monto_fin: 227.1600036621093\n",
      "posible caso: 9874 AAPL , fecha: 2025-01-21 00:00:00\n",
      "posible caso: 9970 AAPL , fecha: 2025-02-07 00:00:00\n",
      "Procesando: 2025-02-10\n",
      "indice_i: 9971 ,monto_ini: 229.8661956787109 ,indice_f: 9977 ,monto_fin: 227.63999938964844\n",
      "Procesando: 2025-02-11\n",
      "indice_i: 9978 ,monto_ini: 233.33999633789065 ,indice_f: 9984 ,monto_fin: 232.7700042724609\n",
      "Procesando: 2025-02-12\n",
      "indice_i: 9985 ,monto_ini: 233.60499572753903 ,indice_f: 9991 ,monto_fin: 236.88999938964844\n",
      "Procesando: 2025-02-13\n",
      "indice_i: 9992 ,monto_ini: 237.8800048828125 ,indice_f: 9998 ,monto_fin: 241.5200042724609\n",
      "Procesando: 2025-02-14\n",
      "indice_i: 9999 ,monto_ini: 244.3800048828125 ,indice_f: 10005 ,monto_fin: 244.57000732421875\n",
      "Procesando: 2025-02-18\n",
      "indice_i: 10006 ,monto_ini: 244.0904998779297 ,indice_f: 10012 ,monto_fin: 244.47000122070312\n",
      "posible caso: 10131 AAPL , fecha: 2025-03-13 00:00:00\n",
      "posible caso: 10257 AAPL , fecha: 2025-04-08 00:00:00\n",
      "Procesando: 2025-04-09\n",
      "indice_i: 10258 ,monto_ini: 178.41180419921875 ,indice_f: 10264 ,monto_fin: 198.8500061035156\n",
      "Procesando: 2025-04-10\n",
      "indice_i: 10265 ,monto_ini: 192.1450042724609 ,indice_f: 10271 ,monto_fin: 190.44000244140625\n",
      "posible caso: 10310 AAPL , fecha: 2025-04-21 00:00:00\n",
      "Procesando: 2025-04-21\n",
      "indice_i: 10311 ,monto_ini: 190.82000732421875 ,indice_f: 10313 ,monto_fin: 193.08999633789065\n",
      "Procesando: 2025-04-22\n",
      "indice_i: 10314 ,monto_ini: 198.01499938964844 ,indice_f: 10320 ,monto_fin: 199.6600036621093\n",
      "Procesando: 2025-04-23\n",
      "indice_i: 10321 ,monto_ini: 206.80499267578125 ,indice_f: 10327 ,monto_fin: 204.3600006103516\n"
     ]
    },
    {
     "name": "stdout",
     "output_type": "stream",
     "text": [
      "posible caso: 10395 AAPL , fecha: 2025-05-07 00:00:00\n",
      "Procesando: 2025-05-07\n",
      "indice_i: 10396 ,monto_ini: 194.32000732421875 ,indice_f: 10397 ,monto_fin: 196.25\n",
      "Procesando: 2025-05-08\n",
      "indice_i: 10398 ,monto_ini: 195.82000732421875 ,indice_f: 10404 ,monto_fin: 197.3999938964844\n",
      "Procesando: 2025-05-09\n",
      "indice_i: 10405 ,monto_ini: 198.360107421875 ,indice_f: 10411 ,monto_fin: 198.5399932861328\n",
      "Procesando: 2025-05-12\n",
      "indice_i: 10412 ,monto_ini: 209.1600036621093 ,indice_f: 10418 ,monto_fin: 210.8300018310547\n",
      "Procesando: 2025-05-13\n",
      "indice_i: 10419 ,monto_ini: 211.4499969482422 ,indice_f: 10425 ,monto_fin: 212.83999633789065\n",
      "Procesando: 2025-05-14\n",
      "indice_i: 10426 ,monto_ini: 213.2899932861328 ,indice_f: 10432 ,monto_fin: 212.4100036621093\n",
      "posible caso: 10481 AAPL , fecha: 2025-05-23 00:00:00\n",
      "Procesando: 2025-05-27\n",
      "indice_i: 10482 ,monto_ini: 198.3500061035156 ,indice_f: 10488 ,monto_fin: 200.1999969482422\n",
      "Procesando: 2025-05-28\n",
      "indice_i: 10489 ,monto_ini: 200.75 ,indice_f: 10495 ,monto_fin: 200.4199981689453\n",
      "Procesando: 2025-05-29\n",
      "indice_i: 10496 ,monto_ini: 201.13999938964844 ,indice_f: 10502 ,monto_fin: 199.9499969482422\n",
      "posible caso: 11156 AMZN , fecha: 2023-10-03 00:00:00\n",
      "posible caso: 11273 AMZN , fecha: 2023-10-26 00:00:00\n",
      "Procesando: 2023-10-26\n",
      "indice_i: 11274 ,monto_ini: 119.98999786376952 ,indice_f: 11276 ,monto_fin: 119.66000366210938\n",
      "Procesando: 2023-10-27\n",
      "indice_i: 11277 ,monto_ini: 129.02499389648438 ,indice_f: 11283 ,monto_fin: 127.7699966430664\n",
      "Procesando: 2023-10-30\n",
      "indice_i: 11284 ,monto_ini: 130.77499389648438 ,indice_f: 11290 ,monto_fin: 132.7100067138672\n",
      "Procesando: 2023-10-31\n",
      "indice_i: 11291 ,monto_ini: 133.0749969482422 ,indice_f: 11297 ,monto_fin: 133.07000732421875\n",
      "Procesando: 2023-11-01\n",
      "indice_i: 11298 ,monto_ini: 135.5200958251953 ,indice_f: 11304 ,monto_fin: 137.00999450683594\n",
      "Procesando: 2023-11-02\n",
      "indice_i: 11305 ,monto_ini: 137.24000549316406 ,indice_f: 11311 ,monto_fin: 138.10000610351562\n",
      "Procesando: 2023-11-03\n",
      "indice_i: 11312 ,monto_ini: 137.8300018310547 ,indice_f: 11318 ,monto_fin: 138.57000732421875\n"
     ]
    },
    {
     "name": "stdout",
     "output_type": "stream",
     "text": [
      "posible caso: 12313 AMZN , fecha: 2024-05-31 00:00:00\n",
      "posible caso: 12564 AMZN , fecha: 2024-07-25 00:00:00\n",
      "Procesando: 2024-07-25\n",
      "indice_i: 12565 ,monto_ini: 181.9199981689453 ,indice_f: 12570 ,monto_fin: 179.85000610351562\n",
      "Procesando: 2024-07-26\n",
      "indice_i: 12571 ,monto_ini: 181.77999877929688 ,indice_f: 12577 ,monto_fin: 182.5500030517578\n",
      "Procesando: 2024-07-29\n",
      "indice_i: 12578 ,monto_ini: 183.3600006103516 ,indice_f: 12584 ,monto_fin: 183.2100067138672\n",
      "Procesando: 2024-07-30\n",
      "indice_i: 12585 ,monto_ini: 183.97000122070312 ,indice_f: 12591 ,monto_fin: 181.6999969482422\n",
      "posible caso: 12570 AMZN , fecha: 2024-07-25 00:00:00\n",
      "Procesando: 2024-07-26\n",
      "indice_i: 12571 ,monto_ini: 181.77999877929688 ,indice_f: 12577 ,monto_fin: 182.5500030517578\n",
      "Procesando: 2024-07-29\n",
      "indice_i: 12578 ,monto_ini: 183.3600006103516 ,indice_f: 12584 ,monto_fin: 183.2100067138672\n",
      "Procesando: 2024-07-30\n",
      "indice_i: 12585 ,monto_ini: 183.97000122070312 ,indice_f: 12591 ,monto_fin: 181.6999969482422\n",
      "posible caso: 12613 AMZN , fecha: 2024-08-05 00:00:00\n",
      "Procesando: 2024-08-05\n",
      "indice_i: 12614 ,monto_ini: 162.28500366210938 ,indice_f: 12619 ,monto_fin: 161.0399932861328\n",
      "Procesando: 2024-08-06\n",
      "indice_i: 12620 ,monto_ini: 160.72799682617188 ,indice_f: 12626 ,monto_fin: 161.91000366210938\n",
      "posible caso: 12736 AMZN , fecha: 2024-08-28 00:00:00\n",
      "Procesando: 2024-08-28\n",
      "indice_i: 12737 ,monto_ini: 170.6199951171875 ,indice_f: 12738 ,monto_fin: 170.7899932861328\n",
      "Procesando: 2024-08-29\n",
      "indice_i: 12739 ,monto_ini: 172.9163055419922 ,indice_f: 12745 ,monto_fin: 172.1300048828125\n",
      "posible caso: 12780 AMZN , fecha: 2024-09-06 00:00:00\n",
      "posible caso: 12926 AMZN , fecha: 2024-10-07 00:00:00\n",
      "Procesando: 2024-10-07\n",
      "indice_i: 12927 ,monto_ini: 180.88999938964844 ,indice_f: 12927 ,monto_fin: 180.88999938964844\n",
      "Procesando: 2024-10-08\n",
      "indice_i: 12928 ,monto_ini: 182.13999938964844 ,indice_f: 12934 ,monto_fin: 182.6699981689453\n",
      "Procesando: 2024-10-09\n",
      "indice_i: 12935 ,monto_ini: 183.72000122070312 ,indice_f: 12941 ,monto_fin: 185.17999267578125\n",
      "Procesando: 2024-10-10\n",
      "indice_i: 12942 ,monto_ini: 186.7250061035156 ,indice_f: 12948 ,monto_fin: 186.6600036621093\n"
     ]
    },
    {
     "name": "stdout",
     "output_type": "stream",
     "text": [
      "posible caso: 13009 AMZN , fecha: 2024-10-23 00:00:00\n",
      "Procesando: 2024-10-23\n",
      "indice_i: 13010 ,monto_ini: 184.6100006103516 ,indice_f: 13011 ,monto_fin: 184.72999572753903\n",
      "Procesando: 2024-10-24\n",
      "indice_i: 13012 ,monto_ini: 186.0050048828125 ,indice_f: 13018 ,monto_fin: 186.3800048828125\n",
      "Procesando: 2024-10-25\n",
      "indice_i: 13019 ,monto_ini: 190.2749938964844 ,indice_f: 13025 ,monto_fin: 187.82000732421875\n",
      "posible caso: 13683 AMZN , fecha: 2025-03-18 00:00:00\n",
      "Procesando: 2025-03-18\n",
      "indice_i: 13684 ,monto_ini: 191.72000122070312 ,indice_f: 13689 ,monto_fin: 192.9100036621093\n",
      "Procesando: 2025-03-19\n",
      "indice_i: 13690 ,monto_ini: 193.47999572753903 ,indice_f: 13696 ,monto_fin: 195.5200042724609\n",
      "Procesando: 2025-03-20\n",
      "indice_i: 13697 ,monto_ini: 197.8099975585937 ,indice_f: 13703 ,monto_fin: 194.9499969482422\n",
      "Procesando: 2025-03-21\n",
      "indice_i: 13704 ,monto_ini: 195.15499877929688 ,indice_f: 13710 ,monto_fin: 196.22000122070312\n",
      "Procesando: 2025-03-24\n",
      "indice_i: 13711 ,monto_ini: 202.7935943603516 ,indice_f: 13717 ,monto_fin: 203.02999877929688\n",
      "Procesando: 2025-03-25\n",
      "indice_i: 13718 ,monto_ini: 205.13999938964844 ,indice_f: 13724 ,monto_fin: 205.6999969482422\n",
      "Procesando: 2025-03-26\n",
      "indice_i: 13725 ,monto_ini: 202.7001037597656 ,indice_f: 13731 ,monto_fin: 201.1479949951172\n",
      "posible caso: 13794 AMZN , fecha: 2025-04-08 00:00:00\n",
      "Procesando: 2025-04-09\n",
      "indice_i: 13795 ,monto_ini: 173.60499572753906 ,indice_f: 13801 ,monto_fin: 190.9499969482422\n",
      "Procesando: 2025-04-10\n",
      "indice_i: 13802 ,monto_ini: 184.59500122070312 ,indice_f: 13808 ,monto_fin: 181.0399932861328\n",
      "posible caso: 13847 AMZN , fecha: 2025-04-21 00:00:00\n",
      "posible caso: 14013 AMZN , fecha: 2025-05-23 00:00:00\n",
      "Procesando: 2025-05-23\n",
      "indice_i: 14014 ,monto_ini: 201.2400054931641 ,indice_f: 14018 ,monto_fin: 200.9900054931641\n",
      "Procesando: 2025-05-27\n",
      "indice_i: 14019 ,monto_ini: 205.0200042724609 ,indice_f: 14025 ,monto_fin: 205.9949951171875\n",
      "Procesando: 2025-05-28\n",
      "indice_i: 14026 ,monto_ini: 205.6100006103516 ,indice_f: 14032 ,monto_fin: 204.7949981689453\n"
     ]
    },
    {
     "name": "stdout",
     "output_type": "stream",
     "text": [
      "posible caso: 14770 NFLX , fecha: 2023-10-18 00:00:00\n",
      "Procesando: 2023-10-18\n",
      "indice_i: 14771 ,monto_ini: 346.17999267578125 ,indice_f: 14771 ,monto_fin: 346.17999267578125\n",
      "Procesando: 2023-10-19\n",
      "indice_i: 14772 ,monto_ini: 400.0 ,indice_f: 14778 ,monto_fin: 401.739990234375\n",
      "Procesando: 2023-10-20\n",
      "indice_i: 14779 ,monto_ini: 403.7699890136719 ,indice_f: 14785 ,monto_fin: 400.7999877929688\n",
      "posible caso: 14818 NFLX , fecha: 2023-10-27 00:00:00\n",
      "Procesando: 2023-10-27\n",
      "indice_i: 14819 ,monto_ini: 399.0950012207031 ,indice_f: 14820 ,monto_fin: 397.8699951171875\n",
      "Procesando: 2023-10-30\n",
      "indice_i: 14821 ,monto_ini: 404.8699951171875 ,indice_f: 14827 ,monto_fin: 410.0799865722656\n",
      "Procesando: 2023-10-31\n",
      "indice_i: 14828 ,monto_ini: 406.6099853515625 ,indice_f: 14834 ,monto_fin: 411.6499938964844\n",
      "posible caso: 15650 NFLX , fecha: 2024-04-22 00:00:00\n",
      "Procesando: 2024-04-22\n",
      "indice_i: 15651 ,monto_ini: 553.469970703125 ,indice_f: 15656 ,monto_fin: 554.6099853515625\n",
      "Procesando: 2024-04-23\n",
      "indice_i: 15657 ,monto_ini: 566.6790161132812 ,indice_f: 15663 ,monto_fin: 577.760009765625\n",
      "Procesando: 2024-04-24\n",
      "indice_i: 15664 ,monto_ini: 559.0999755859375 ,indice_f: 15670 ,monto_fin: 555.0999755859375\n",
      "posible caso: 16154 NFLX , fecha: 2024-08-05 00:00:00\n",
      "posible caso: 17182 NFLX , fecha: 2025-03-10 00:00:00\n",
      "Procesando: 2025-03-10\n",
      "indice_i: 17183 ,monto_ini: 865.7550048828125 ,indice_f: 17184 ,monto_fin: 866.4299926757812\n",
      "Procesando: 2025-03-11\n",
      "indice_i: 17185 ,monto_ini: 879.1300048828125 ,indice_f: 17191 ,monto_fin: 894.7899780273438\n",
      "Procesando: 2025-03-12\n",
      "indice_i: 17192 ,monto_ini: 917.7550048828124 ,indice_f: 17198 ,monto_fin: 919.4299926757812\n",
      "Procesando: 2025-03-13\n",
      "indice_i: 17199 ,monto_ini: 908.010009765625 ,indice_f: 17205 ,monto_fin: 889.5900268554688\n"
     ]
    },
    {
     "name": "stdout",
     "output_type": "stream",
     "text": [
      "posible caso: 17740 MRNA , fecha: 2023-06-23 00:00:00\n",
      "Procesando: 2023-06-23\n",
      "indice_i: 17741 ,monto_ini: 118.3000030517578 ,indice_f: 17745 ,monto_fin: 118.51000213623048\n",
      "Procesando: 2023-06-26\n",
      "indice_i: 17746 ,monto_ini: 120.94499969482422 ,indice_f: 17752 ,monto_fin: 120.41000366210938\n",
      "Procesando: 2023-06-27\n",
      "indice_i: 17753 ,monto_ini: 118.97000122070312 ,indice_f: 17759 ,monto_fin: 120.6999969482422\n",
      "posible caso: 17793 MRNA , fecha: 2023-07-06 00:00:00\n",
      "Procesando: 2023-07-06\n",
      "indice_i: 17794 ,monto_ini: 118.0999984741211 ,indice_f: 17797 ,monto_fin: 118.29000091552734\n",
      "Procesando: 2023-07-07\n",
      "indice_i: 17798 ,monto_ini: 119.45570373535156 ,indice_f: 17804 ,monto_fin: 118.87999725341795\n",
      "Procesando: 2023-07-10\n",
      "indice_i: 17805 ,monto_ini: 121.6050033569336 ,indice_f: 17811 ,monto_fin: 123.11000061035156\n",
      "Procesando: 2023-07-11\n",
      "indice_i: 17812 ,monto_ini: 122.30999755859376 ,indice_f: 17818 ,monto_fin: 122.12000274658205\n",
      "posible caso: 18732 MRNA , fecha: 2024-01-18 00:00:00\n",
      "Procesando: 2024-01-18\n",
      "indice_i: 18733 ,monto_ini: 98.43990325927734 ,indice_f: 18738 ,monto_fin: 99.0999984741211\n",
      "Procesando: 2024-01-19\n",
      "indice_i: 18739 ,monto_ini: 99.0999984741211 ,indice_f: 18745 ,monto_fin: 99.70999908447266\n",
      "Procesando: 2024-01-22\n",
      "indice_i: 18746 ,monto_ini: 100.5 ,indice_f: 18752 ,monto_fin: 99.7300033569336\n",
      "Procesando: 2024-01-23\n",
      "indice_i: 18753 ,monto_ini: 101.12000274658205 ,indice_f: 18759 ,monto_fin: 101.97000122070312\n",
      "Procesando: 2024-01-24\n",
      "indice_i: 18760 ,monto_ini: 102.77999877929688 ,indice_f: 18766 ,monto_fin: 101.05999755859376\n",
      "posible caso: 18863 MRNA , fecha: 2024-02-13 00:00:00\n",
      "Procesando: 2024-02-13\n",
      "indice_i: 18864 ,monto_ini: 85.33999633789062 ,indice_f: 18864 ,monto_fin: 85.33999633789062\n",
      "Procesando: 2024-02-14\n",
      "indice_i: 18865 ,monto_ini: 84.9000015258789 ,indice_f: 18871 ,monto_fin: 85.94999694824219\n"
     ]
    },
    {
     "name": "stdout",
     "output_type": "stream",
     "text": [
      "posible caso: 18941 MRNA , fecha: 2024-02-29 00:00:00\n",
      "posible caso: 19033 MRNA , fecha: 2024-03-20 00:00:00\n",
      "Procesando: 2024-03-20\n",
      "indice_i: 19034 ,monto_ini: 102.26809692382812 ,indice_f: 19039 ,monto_fin: 103.08000183105467\n",
      "Procesando: 2024-03-21\n",
      "indice_i: 19040 ,monto_ini: 104.93000030517578 ,indice_f: 19046 ,monto_fin: 104.08000183105467\n",
      "Procesando: 2024-03-22\n",
      "indice_i: 19047 ,monto_ini: 104.79000091552734 ,indice_f: 19053 ,monto_fin: 105.4000015258789\n",
      "Procesando: 2024-03-25\n",
      "indice_i: 19054 ,monto_ini: 108.12999725341795 ,indice_f: 19060 ,monto_fin: 110.37000274658205\n",
      "Procesando: 2024-03-26\n",
      "indice_i: 19061 ,monto_ini: 108.88999938964844 ,indice_f: 19067 ,monto_fin: 107.37000274658205\n",
      "posible caso: 19099 MRNA , fecha: 2024-04-03 00:00:00\n",
      "Procesando: 2024-04-03\n",
      "indice_i: 19100 ,monto_ini: 100.5967025756836 ,indice_f: 19102 ,monto_fin: 101.1999969482422\n",
      "Procesando: 2024-04-04\n",
      "indice_i: 19103 ,monto_ini: 102.37000274658205 ,indice_f: 19109 ,monto_fin: 102.26000213623048\n",
      "Procesando: 2024-04-05\n",
      "indice_i: 19110 ,monto_ini: 102.0615005493164 ,indice_f: 19116 ,monto_fin: 102.83000183105467\n",
      "posible caso: 19632 MRNA , fecha: 2024-07-24 00:00:00\n",
      "posible caso: 19727 MRNA , fecha: 2024-08-12 00:00:00\n",
      "posible caso: 20090 MRNA , fecha: 2024-10-24 00:00:00\n",
      "posible caso: 20200 MRNA , fecha: 2024-11-15 00:00:00\n",
      "posible caso: 20393 MRNA , fecha: 2024-12-30 00:00:00\n",
      "posible caso: 20471 MRNA , fecha: 2025-01-16 00:00:00\n",
      "Procesando: 2025-01-16\n",
      "indice_i: 20472 ,monto_ini: 33.53689956665039 ,indice_f: 20476 ,monto_fin: 33.7400016784668\n",
      "Procesando: 2025-01-17\n",
      "indice_i: 20477 ,monto_ini: 34.30080032348633 ,indice_f: 20483 ,monto_fin: 34.060001373291016\n",
      "Procesando: 2025-01-21\n",
      "indice_i: 20484 ,monto_ini: 36.310001373291016 ,indice_f: 20490 ,monto_fin: 35.88999938964844\n",
      "Procesando: 2025-01-22\n",
      "indice_i: 20491 ,monto_ini: 39.255001068115234 ,indice_f: 20497 ,monto_fin: 38.5\n",
      "Procesando: 2025-01-23\n",
      "indice_i: 20498 ,monto_ini: 37.91999816894531 ,indice_f: 20504 ,monto_fin: 42.400001525878906\n"
     ]
    },
    {
     "name": "stdout",
     "output_type": "stream",
     "text": [
      "posible caso: 20600 MRNA , fecha: 2025-02-12 00:00:00\n",
      "Procesando: 2025-02-12\n",
      "indice_i: 20601 ,monto_ini: 30.51499938964844 ,indice_f: 20602 ,monto_fin: 30.540000915527344\n",
      "Procesando: 2025-02-13\n",
      "indice_i: 20603 ,monto_ini: 30.56999969482422 ,indice_f: 20609 ,monto_fin: 31.950000762939453\n",
      "Procesando: 2025-02-14\n",
      "indice_i: 20610 ,monto_ini: 32.40999984741211 ,indice_f: 20616 ,monto_fin: 33.0\n",
      "Procesando: 2025-02-18\n",
      "indice_i: 20617 ,monto_ini: 34.935001373291016 ,indice_f: 20623 ,monto_fin: 35.75\n",
      "Procesando: 2025-02-19\n",
      "indice_i: 20624 ,monto_ini: 36.525001525878906 ,indice_f: 20630 ,monto_fin: 35.890098571777344\n",
      "Procesando: 2025-02-20\n",
      "indice_i: 20631 ,monto_ini: 34.56999969482422 ,indice_f: 20637 ,monto_fin: 33.75\n",
      "posible caso: 20878 MRNA , fecha: 2025-04-10 00:00:00\n",
      "Procesando: 2025-04-10\n",
      "indice_i: 20879 ,monto_ini: 24.09499931335449 ,indice_f: 20882 ,monto_fin: 24.479999542236328\n",
      "Procesando: 2025-04-11\n",
      "indice_i: 20883 ,monto_ini: 25.07010078430176 ,indice_f: 20889 ,monto_fin: 26.14999961853028\n",
      "Procesando: 2025-04-14\n",
      "indice_i: 20890 ,monto_ini: 26.809999465942383 ,indice_f: 20896 ,monto_fin: 26.795000076293945\n",
      "Procesando: 2025-04-15\n",
      "indice_i: 20897 ,monto_ini: 26.420000076293945 ,indice_f: 20903 ,monto_fin: 26.25\n",
      "posible caso: 21048 MRNA , fecha: 2025-05-15 00:00:00\n",
      "Procesando: 2025-05-15\n",
      "indice_i: 21049 ,monto_ini: 23.51499938964844 ,indice_f: 21050 ,monto_fin: 23.64999961853028\n",
      "Procesando: 2025-05-16\n",
      "indice_i: 21051 ,monto_ini: 24.540000915527344 ,indice_f: 21057 ,monto_fin: 24.854999542236328\n",
      "Procesando: 2025-05-19\n",
      "indice_i: 21058 ,monto_ini: 25.690000534057617 ,indice_f: 21064 ,monto_fin: 26.39999961853028\n",
      "Procesando: 2025-05-20\n",
      "indice_i: 21065 ,monto_ini: 27.27910041809082 ,indice_f: 21071 ,monto_fin: 28.0\n",
      "Procesando: 2025-05-21\n",
      "indice_i: 21072 ,monto_ini: 26.875 ,indice_f: 21078 ,monto_fin: 25.82999992370605\n",
      "posible caso: 21164 MRNA , fecha: 2025-06-05 00:00:00\n",
      "posible caso: 21546 TSLA , fecha: 2023-08-18 00:00:00\n",
      "posible caso: 21737 TSLA , fecha: 2023-09-27 00:00:00\n",
      "Procesando: 2023-09-27\n",
      "indice_i: 21738 ,monto_ini: 238.0601043701172 ,indice_f: 21740 ,monto_fin: 240.47999572753903\n",
      "Procesando: 2023-09-28\n",
      "indice_i: 21741 ,monto_ini: 239.6199951171875 ,indice_f: 21747 ,monto_fin: 246.3699951171875\n"
     ]
    },
    {
     "name": "stdout",
     "output_type": "stream",
     "text": [
      "posible caso: 21899 TSLA , fecha: 2023-10-30 00:00:00\n",
      "posible caso: 22060 TSLA , fecha: 2023-12-04 00:00:00\n",
      "Procesando: 2023-12-04\n",
      "indice_i: 22061 ,monto_ini: 237.1699981689453 ,indice_f: 22065 ,monto_fin: 235.5599975585937\n",
      "Procesando: 2023-12-05\n",
      "indice_i: 22066 ,monto_ini: 242.1000061035156 ,indice_f: 22072 ,monto_fin: 238.7301025390625\n",
      "Procesando: 2023-12-06\n",
      "indice_i: 22073 ,monto_ini: 242.02999877929688 ,indice_f: 22079 ,monto_fin: 239.4120941162109\n",
      "posible caso: 22306 TSLA , fecha: 2024-01-25 00:00:00\n",
      "posible caso: 22354 TSLA , fecha: 2024-02-05 00:00:00\n",
      "Procesando: 2024-02-05\n",
      "indice_i: 22355 ,monto_ini: 180.3571014404297 ,indice_f: 22359 ,monto_fin: 181.02999877929688\n",
      "Procesando: 2024-02-06\n",
      "indice_i: 22360 ,monto_ini: 182.86990356445312 ,indice_f: 22366 ,monto_fin: 185.1000061035156\n",
      "Procesando: 2024-02-07\n",
      "indice_i: 22367 ,monto_ini: 186.19000244140625 ,indice_f: 22373 ,monto_fin: 187.6699066162109\n",
      "Procesando: 2024-02-08\n",
      "indice_i: 22374 ,monto_ini: 188.159896850586 ,indice_f: 22380 ,monto_fin: 189.47999572753903\n",
      "Procesando: 2024-02-09\n",
      "indice_i: 22381 ,monto_ini: 193.5599975585937 ,indice_f: 22387 ,monto_fin: 193.57000732421875\n",
      "Procesando: 2024-02-12\n",
      "indice_i: 22388 ,monto_ini: 192.56500244140625 ,indice_f: 22394 ,monto_fin: 187.97999572753903\n",
      "posible caso: 22400 TSLA , fecha: 2024-02-13 00:00:00\n",
      "Procesando: 2024-02-13\n",
      "indice_i: 22401 ,monto_ini: 184.009994506836 ,indice_f: 22401 ,monto_fin: 184.009994506836\n",
      "Procesando: 2024-02-14\n",
      "indice_i: 22402 ,monto_ini: 186.0800018310547 ,indice_f: 22408 ,monto_fin: 188.72000122070312\n",
      "Procesando: 2024-02-15\n",
      "indice_i: 22409 ,monto_ini: 195.1600036621093 ,indice_f: 22415 ,monto_fin: 200.4900054931641\n",
      "Procesando: 2024-02-16\n",
      "indice_i: 22416 ,monto_ini: 199.1100006103516 ,indice_f: 22422 ,monto_fin: 199.94000244140625\n"
     ]
    },
    {
     "name": "stdout",
     "output_type": "stream",
     "text": [
      "posible caso: 22450 TSLA , fecha: 2024-02-23 00:00:00\n",
      "Procesando: 2024-02-26\n",
      "indice_i: 22451 ,monto_ini: 197.7100067138672 ,indice_f: 22457 ,monto_fin: 199.3500061035156\n",
      "Procesando: 2024-02-27\n",
      "indice_i: 22458 ,monto_ini: 202.49850463867188 ,indice_f: 22464 ,monto_fin: 199.72000122070312\n",
      "posible caso: 22547 TSLA , fecha: 2024-03-14 00:00:00\n",
      "Procesando: 2024-03-14\n",
      "indice_i: 22548 ,monto_ini: 162.47999572753906 ,indice_f: 22548 ,monto_fin: 162.47999572753906\n",
      "Procesando: 2024-03-15\n",
      "indice_i: 22549 ,monto_ini: 162.9199981689453 ,indice_f: 22555 ,monto_fin: 163.58999633789062\n",
      "Procesando: 2024-03-18\n",
      "indice_i: 22556 ,monto_ini: 171.14999389648438 ,indice_f: 22562 ,monto_fin: 173.94000244140625\n",
      "Procesando: 2024-03-19\n",
      "indice_i: 22563 ,monto_ini: 169.36000061035156 ,indice_f: 22569 ,monto_fin: 171.30999755859375\n",
      "posible caso: 22648 TSLA , fecha: 2024-04-05 00:00:00\n",
      "posible caso: 22725 TSLA , fecha: 2024-04-22 00:00:00\n",
      "Procesando: 2024-04-22\n",
      "indice_i: 22726 ,monto_ini: 142.1342010498047 ,indice_f: 22730 ,monto_fin: 142.02999877929688\n",
      "Procesando: 2024-04-23\n",
      "indice_i: 22731 ,monto_ini: 144.75999450683594 ,indice_f: 22737 ,monto_fin: 144.8699951171875\n",
      "Procesando: 2024-04-24\n",
      "indice_i: 22738 ,monto_ini: 164.58299255371094 ,indice_f: 22744 ,monto_fin: 162.17999267578125\n",
      "Procesando: 2024-04-25\n",
      "indice_i: 22745 ,monto_ini: 165.49000549316406 ,indice_f: 22751 ,monto_fin: 170.30999755859375\n",
      "Procesando: 2024-04-26\n",
      "indice_i: 22752 ,monto_ini: 168.40310668945312 ,indice_f: 22758 ,monto_fin: 168.2899932861328\n",
      "posible caso: 22824 TSLA , fecha: 2024-05-10 00:00:00\n",
      "Procesando: 2024-05-10\n",
      "indice_i: 22825 ,monto_ini: 168.6199951171875 ,indice_f: 22828 ,monto_fin: 168.4600067138672\n",
      "Procesando: 2024-05-13\n",
      "indice_i: 22829 ,monto_ini: 174.4801025390625 ,indice_f: 22835 ,monto_fin: 171.9199981689453\n",
      "Procesando: 2024-05-14\n",
      "indice_i: 22836 ,monto_ini: 176.10989379882812 ,indice_f: 22842 ,monto_fin: 177.61000061035156\n",
      "Procesando: 2024-05-15\n",
      "indice_i: 22843 ,monto_ini: 173.2100067138672 ,indice_f: 22849 ,monto_fin: 174.08990478515625\n"
     ]
    },
    {
     "name": "stdout",
     "output_type": "stream",
     "text": [
      "posible caso: 22889 TSLA , fecha: 2024-05-23 00:00:00\n",
      "posible caso: 22971 TSLA , fecha: 2024-06-11 00:00:00\n",
      "Procesando: 2024-06-11\n",
      "indice_i: 22972 ,monto_ini: 168.67999267578125 ,indice_f: 22975 ,monto_fin: 170.5800018310547\n",
      "Procesando: 2024-06-12\n",
      "indice_i: 22976 ,monto_ini: 175.88999938964844 ,indice_f: 22982 ,monto_fin: 177.19000244140625\n",
      "Procesando: 2024-06-13\n",
      "indice_i: 22983 ,monto_ini: 185.0599975585937 ,indice_f: 22989 ,monto_fin: 182.5601959228516\n",
      "posible caso: 23244 TSLA , fecha: 2024-08-07 00:00:00\n",
      "Procesando: 2024-08-08\n",
      "indice_i: 23245 ,monto_ini: 197.3999938964844 ,indice_f: 23251 ,monto_fin: 199.01739501953125\n",
      "Procesando: 2024-08-09\n",
      "indice_i: 23252 ,monto_ini: 196.1000061035156 ,indice_f: 23258 ,monto_fin: 200.02999877929688\n",
      "posible caso: 23347 TSLA , fecha: 2024-08-28 00:00:00\n",
      "Procesando: 2024-08-28\n",
      "indice_i: 23348 ,monto_ini: 205.4199981689453 ,indice_f: 23349 ,monto_fin: 205.5500030517578\n",
      "Procesando: 2024-08-29\n",
      "indice_i: 23350 ,monto_ini: 211.5057067871093 ,indice_f: 23356 ,monto_fin: 206.28250122070312\n",
      "posible caso: 23619 TSLA , fecha: 2024-10-23 00:00:00\n",
      "posible caso: 24131 TSLA , fecha: 2025-02-11 00:00:00\n",
      "posible caso: 24257 TSLA , fecha: 2025-03-10 00:00:00\n",
      "posible caso: 24294 TSLA , fecha: 2025-03-18 00:00:00\n",
      "Procesando: 2025-03-18\n",
      "indice_i: 24295 ,monto_ini: 227.9199981689453 ,indice_f: 24300 ,monto_fin: 225.47999572753903\n",
      "Procesando: 2025-03-19\n",
      "indice_i: 24301 ,monto_ini: 231.3332977294922 ,indice_f: 24307 ,monto_fin: 235.72999572753903\n",
      "Procesando: 2025-03-20\n",
      "indice_i: 24308 ,monto_ini: 236.5399932861328 ,indice_f: 24314 ,monto_fin: 236.25\n",
      "Procesando: 2025-03-21\n",
      "indice_i: 24315 ,monto_ini: 238.92990112304688 ,indice_f: 24321 ,monto_fin: 249.1150054931641\n",
      "Procesando: 2025-03-24\n",
      "indice_i: 24322 ,monto_ini: 274.2099914550781 ,indice_f: 24328 ,monto_fin: 278.44000244140625\n",
      "Procesando: 2025-03-25\n",
      "indice_i: 24329 ,monto_ini: 277.154296875 ,indice_f: 24335 ,monto_fin: 288.1499938964844\n"
     ]
    },
    {
     "name": "stdout",
     "output_type": "stream",
     "text": [
      "posible caso: 24405 TSLA , fecha: 2025-04-08 00:00:00\n",
      "Procesando: 2025-04-09\n",
      "indice_i: 24406 ,monto_ini: 231.58999633789065 ,indice_f: 24412 ,monto_fin: 272.0\n",
      "Procesando: 2025-04-10\n",
      "indice_i: 24413 ,monto_ini: 254.38999938964844 ,indice_f: 24419 ,monto_fin: 252.3999938964844\n",
      "posible caso: 24458 TSLA , fecha: 2025-04-21 00:00:00\n",
      "posible caso: 24534 TSLA , fecha: 2025-05-06 00:00:00\n",
      "Procesando: 2025-05-06\n",
      "indice_i: 24535 ,monto_ini: 273.7156982421875 ,indice_f: 24538 ,monto_fin: 275.25\n",
      "Procesando: 2025-05-07\n",
      "indice_i: 24539 ,monto_ini: 276.4599914550781 ,indice_f: 24545 ,monto_fin: 276.17999267578125\n",
      "posible caso: 24818 TNA , fecha: 2023-06-23 00:00:00\n",
      "Procesando: 2023-06-23\n",
      "indice_i: 24819 ,monto_ini: 31.68000030517578 ,indice_f: 24819 ,monto_fin: 31.68000030517578\n",
      "Procesando: 2023-06-26\n",
      "indice_i: 24820 ,monto_ini: 32.36000061035156 ,indice_f: 24826 ,monto_fin: 31.86989974975586\n",
      "Procesando: 2023-06-27\n",
      "indice_i: 24827 ,monto_ini: 32.41999816894531 ,indice_f: 24833 ,monto_fin: 33.2400016784668\n",
      "Procesando: 2023-06-28\n",
      "indice_i: 24834 ,monto_ini: 33.099998474121094 ,indice_f: 24840 ,monto_fin: 33.75\n",
      "posible caso: 24866 TNA , fecha: 2023-07-06 00:00:00\n",
      "Procesando: 2023-07-06\n",
      "indice_i: 24867 ,monto_ini: 32.03990173339844 ,indice_f: 24871 ,monto_fin: 32.7599983215332\n",
      "Procesando: 2023-07-07\n",
      "indice_i: 24872 ,monto_ini: 33.81999969482422 ,indice_f: 24878 ,monto_fin: 33.900001525878906\n",
      "Procesando: 2023-07-10\n",
      "indice_i: 24879 ,monto_ini: 35.100101470947266 ,indice_f: 24885 ,monto_fin: 35.619998931884766\n",
      "Procesando: 2023-07-11\n",
      "indice_i: 24886 ,monto_ini: 36.32500076293945 ,indice_f: 24892 ,monto_fin: 36.58000183105469\n",
      "Procesando: 2023-07-12\n",
      "indice_i: 24893 ,monto_ini: 37.85200119018555 ,indice_f: 24899 ,monto_fin: 37.78499984741211\n",
      "Procesando: 2023-07-13\n",
      "indice_i: 24900 ,monto_ini: 38.45000076293945 ,indice_f: 24906 ,monto_fin: 38.68000030517578\n",
      "Procesando: 2023-07-14\n",
      "indice_i: 24907 ,monto_ini: 37.310001373291016 ,indice_f: 24913 ,monto_fin: 37.560001373291016\n"
     ]
    },
    {
     "name": "stdout",
     "output_type": "stream",
     "text": [
      "posible caso: 25429 TNA , fecha: 2023-10-27 00:00:00\n",
      "Procesando: 2023-10-27\n",
      "indice_i: 25430 ,monto_ini: 21.809999465942383 ,indice_f: 25431 ,monto_fin: 21.81999969482422\n",
      "Procesando: 2023-10-30\n",
      "indice_i: 25432 ,monto_ini: 21.8799991607666 ,indice_f: 25438 ,monto_fin: 22.15999984741211\n",
      "Procesando: 2023-10-31\n",
      "indice_i: 25439 ,monto_ini: 22.295000076293945 ,indice_f: 25445 ,monto_fin: 22.739999771118164\n",
      "Procesando: 2023-11-01\n",
      "indice_i: 25446 ,monto_ini: 22.77120018005371 ,indice_f: 25452 ,monto_fin: 23.09000015258789\n",
      "Procesando: 2023-11-02\n",
      "indice_i: 25453 ,monto_ini: 24.07999992370605 ,indice_f: 25459 ,monto_fin: 24.920000076293945\n",
      "Procesando: 2023-11-03\n",
      "indice_i: 25460 ,monto_ini: 26.674999237060547 ,indice_f: 25466 ,monto_fin: 26.90999984741211\n",
      "Procesando: 2023-11-06\n",
      "indice_i: 25467 ,monto_ini: 26.039899826049805 ,indice_f: 25473 ,monto_fin: 25.95599937438965\n",
      "posible caso: 25802 TNA , fecha: 2024-01-17 00:00:00\n",
      "posible caso: 26614 TNA , fecha: 2024-07-05 00:00:00\n",
      "posible caso: 26924 TNA , fecha: 2024-09-06 00:00:00\n",
      "posible caso: 27429 TNA , fecha: 2024-12-19 00:00:00\n",
      "posible caso: 27435 TNA , fecha: 2024-12-19 00:00:00\n",
      "posible caso: 27467 TNA , fecha: 2024-12-30 00:00:00\n",
      "Procesando: 2024-12-30\n",
      "indice_i: 27468 ,monto_ini: 41.18000030517578 ,indice_f: 27473 ,monto_fin: 41.720001220703125\n",
      "Procesando: 2024-12-31\n",
      "indice_i: 27474 ,monto_ini: 42.95000076293945 ,indice_f: 27480 ,monto_fin: 41.84000015258789\n",
      "posible caso: 27624 TNA , fecha: 2025-02-03 00:00:00\n",
      "Procesando: 2025-02-03\n",
      "indice_i: 27625 ,monto_ini: 43.03749847412109 ,indice_f: 27627 ,monto_fin: 42.810001373291016\n",
      "Procesando: 2025-02-04\n",
      "indice_i: 27628 ,monto_ini: 43.61000061035156 ,indice_f: 27634 ,monto_fin: 44.540000915527344\n",
      "Procesando: 2025-02-05\n",
      "indice_i: 27635 ,monto_ini: 45.34989929199219 ,indice_f: 27641 ,monto_fin: 46.0\n",
      "Procesando: 2025-02-06\n",
      "indice_i: 27642 ,monto_ini: 46.01499938964844 ,indice_f: 27648 ,monto_fin: 45.5\n"
     ]
    },
    {
     "name": "stdout",
     "output_type": "stream",
     "text": [
      "posible caso: 27671 TNA , fecha: 2025-02-12 00:00:00\n",
      "Procesando: 2025-02-12\n",
      "indice_i: 27672 ,monto_ini: 42.720001220703125 ,indice_f: 27676 ,monto_fin: 42.48500061035156\n",
      "Procesando: 2025-02-13\n",
      "indice_i: 27677 ,monto_ini: 42.92499923706055 ,indice_f: 27683 ,monto_fin: 43.86000061035156\n",
      "Procesando: 2025-02-14\n",
      "indice_i: 27684 ,monto_ini: 44.07989883422852 ,indice_f: 27690 ,monto_fin: 43.75\n",
      "posible caso: 27813 TNA , fecha: 2025-03-13 00:00:00\n",
      "posible caso: 27995 TNA , fecha: 2025-04-21 00:00:00\n",
      "posible caso: 28160 TNA , fecha: 2025-05-23 00:00:00\n",
      "Procesando: 2025-05-23\n",
      "indice_i: 28161 ,monto_ini: 27.889299392700195 ,indice_f: 28166 ,monto_fin: 28.11000061035156\n",
      "Procesando: 2025-05-27\n",
      "indice_i: 28167 ,monto_ini: 29.63800048828125 ,indice_f: 28173 ,monto_fin: 30.25\n",
      "Procesando: 2025-05-28\n",
      "indice_i: 28174 ,monto_ini: 29.665000915527344 ,indice_f: 28180 ,monto_fin: 29.299999237060547\n",
      "posible caso: 28388 GLD , fecha: 2023-06-29 00:00:00\n",
      "posible caso: 28620 GLD , fecha: 2023-08-17 00:00:00\n",
      "posible caso: 28855 GLD , fecha: 2023-10-05 00:00:00\n",
      "posible caso: 29039 GLD , fecha: 2023-11-10 00:00:00\n",
      "Procesando: 2023-11-10\n",
      "indice_i: 29040 ,monto_ini: 179.51980590820312 ,indice_f: 29042 ,monto_fin: 179.52000427246094\n",
      "Procesando: 2023-11-13\n",
      "indice_i: 29043 ,monto_ini: 179.4600067138672 ,indice_f: 29049 ,monto_fin: 180.5200042724609\n",
      "posible caso: 29480 GLD , fecha: 2024-02-14 00:00:00\n",
      "Procesando: 2024-02-14\n",
      "indice_i: 29481 ,monto_ini: 184.4250030517578 ,indice_f: 29486 ,monto_fin: 184.4100036621093\n",
      "Procesando: 2024-02-15\n",
      "indice_i: 29487 ,monto_ini: 185.83999633789065 ,indice_f: 29493 ,monto_fin: 185.6499938964844\n",
      "Procesando: 2024-02-16\n",
      "indice_i: 29494 ,monto_ini: 185.8500061035156 ,indice_f: 29500 ,monto_fin: 186.3600006103516\n",
      "Procesando: 2024-02-20\n",
      "indice_i: 29501 ,monto_ini: 187.9349975585937 ,indice_f: 29507 ,monto_fin: 187.47999572753903\n"
     ]
    },
    {
     "name": "stdout",
     "output_type": "stream",
     "text": [
      "posible caso: 31009 GLD , fecha: 2024-12-30 00:00:00\n",
      "Procesando: 2024-12-30\n",
      "indice_i: 31010 ,monto_ini: 240.1999053955078 ,indice_f: 31014 ,monto_fin: 240.6499938964844\n",
      "Procesando: 2024-12-31\n",
      "indice_i: 31015 ,monto_ini: 241.63999938964844 ,indice_f: 31021 ,monto_fin: 242.1199951171875\n",
      "Procesando: 2025-01-02\n",
      "indice_i: 31022 ,monto_ini: 244.4250030517578 ,indice_f: 31028 ,monto_fin: 245.4499969482422\n",
      "Procesando: 2025-01-03\n",
      "indice_i: 31029 ,monto_ini: 243.8600006103516 ,indice_f: 31035 ,monto_fin: 243.47999572753903\n",
      "posible caso: 31889 SLV , fecha: 2023-06-22 00:00:00\n",
      "posible caso: 32157 SLV , fecha: 2023-08-16 00:00:00\n",
      "posible caso: 32291 SLV , fecha: 2023-09-14 00:00:00\n",
      "Procesando: 2023-09-14\n",
      "indice_i: 32292 ,monto_ini: 20.710100173950195 ,indice_f: 32297 ,monto_fin: 20.73990058898925\n",
      "Procesando: 2023-09-15\n",
      "indice_i: 32298 ,monto_ini: 21.25 ,indice_f: 32304 ,monto_fin: 21.100000381469727\n",
      "posible caso: 32397 SLV , fecha: 2023-10-05 00:00:00\n",
      "posible caso: 32501 SLV , fecha: 2023-10-26 00:00:00\n",
      "Procesando: 2023-10-26\n",
      "indice_i: 32502 ,monto_ini: 20.76000022888184 ,indice_f: 32507 ,monto_fin: 20.854999542236328\n",
      "Procesando: 2023-10-27\n",
      "indice_i: 32508 ,monto_ini: 20.96500015258789 ,indice_f: 32514 ,monto_fin: 21.170000076293945\n",
      "Procesando: 2023-10-30\n",
      "indice_i: 32515 ,monto_ini: 21.36000061035156 ,indice_f: 32521 ,monto_fin: 21.350000381469727\n",
      "Procesando: 2023-10-31\n",
      "indice_i: 32522 ,monto_ini: 21.270000457763672 ,indice_f: 32528 ,monto_fin: 20.96999931335449\n",
      "posible caso: 32908 SLV , fecha: 2024-01-22 00:00:00\n",
      "Procesando: 2024-01-22\n",
      "indice_i: 32909 ,monto_ini: 20.209999084472656 ,indice_f: 32909 ,monto_fin: 20.209999084472656\n",
      "Procesando: 2024-01-23\n",
      "indice_i: 32910 ,monto_ini: 20.51000022888184 ,indice_f: 32916 ,monto_fin: 20.540000915527344\n"
     ]
    },
    {
     "name": "stdout",
     "output_type": "stream",
     "text": [
      "Procesando: 2024-01-24\n",
      "indice_i: 32917 ,monto_ini: 20.790000915527344 ,indice_f: 32923 ,monto_fin: 20.71999931335449\n",
      "Procesando: 2024-01-25\n",
      "indice_i: 32924 ,monto_ini: 20.924999237060547 ,indice_f: 32930 ,monto_fin: 20.950000762939453\n",
      "Procesando: 2024-01-26\n",
      "indice_i: 32931 ,monto_ini: 20.8700008392334 ,indice_f: 32937 ,monto_fin: 20.8700008392334\n",
      "posible caso: 33019 SLV , fecha: 2024-02-13 00:00:00\n",
      "posible caso: 33089 SLV , fecha: 2024-02-28 00:00:00\n",
      "posible caso: 33798 SLV , fecha: 2024-07-25 00:00:00\n",
      "posible caso: 33864 SLV , fecha: 2024-08-07 00:00:00\n",
      "Procesando: 2024-08-08\n",
      "indice_i: 33865 ,monto_ini: 25.1343002319336 ,indice_f: 33871 ,monto_fin: 25.020000457763672\n",
      "Procesando: 2024-08-09\n",
      "indice_i: 33872 ,monto_ini: 25.1299991607666 ,indice_f: 33878 ,monto_fin: 25.0\n",
      "Procesando: 2024-08-12\n",
      "indice_i: 33879 ,monto_ini: 25.280000686645508 ,indice_f: 33885 ,monto_fin: 25.489999771118164\n",
      "Procesando: 2024-08-13\n",
      "indice_i: 33886 ,monto_ini: 25.18000030517578 ,indice_f: 33892 ,monto_fin: 25.40999984741211\n",
      "posible caso: 34010 SLV , fecha: 2024-09-06 00:00:00\n",
      "Procesando: 2024-09-06\n",
      "indice_i: 34011 ,monto_ini: 25.475000381469727 ,indice_f: 34011 ,monto_fin: 25.475000381469727\n",
      "Procesando: 2024-09-09\n",
      "indice_i: 34012 ,monto_ini: 25.76000022888184 ,indice_f: 34018 ,monto_fin: 25.84000015258789\n",
      "Procesando: 2024-09-10\n",
      "indice_i: 34019 ,monto_ini: 25.6200008392334 ,indice_f: 34025 ,monto_fin: 25.940000534057617\n",
      "posible caso: 34360 SLV , fecha: 2024-11-15 00:00:00\n",
      "Procesando: 2024-11-15\n",
      "indice_i: 34361 ,monto_ini: 27.565000534057617 ,indice_f: 34361 ,monto_fin: 27.565000534057617\n",
      "Procesando: 2024-11-18\n",
      "indice_i: 34362 ,monto_ini: 28.475000381469727 ,indice_f: 34368 ,monto_fin: 28.375\n",
      "Procesando: 2024-11-19\n",
      "indice_i: 34369 ,monto_ini: 28.42009925842285 ,indice_f: 34375 ,monto_fin: 28.4950008392334\n",
      "Procesando: 2024-11-20\n",
      "indice_i: 34376 ,monto_ini: 28.309999465942383 ,indice_f: 34382 ,monto_fin: 28.114999771118164\n"
     ]
    },
    {
     "name": "stdout",
     "output_type": "stream",
     "text": [
      "posible caso: 34415 SLV , fecha: 2024-11-27 00:00:00\n",
      "posible caso: 34512 SLV , fecha: 2024-12-19 00:00:00\n",
      "posible caso: 34558 SLV , fecha: 2024-12-31 00:00:00\n",
      "Procesando: 2024-12-31\n",
      "indice_i: 34559 ,monto_ini: 26.290000915527344 ,indice_f: 34563 ,monto_fin: 26.309999465942383\n",
      "Procesando: 2025-01-02\n",
      "indice_i: 34564 ,monto_ini: 26.80500030517578 ,indice_f: 34570 ,monto_fin: 26.920000076293945\n",
      "Procesando: 2025-01-03\n",
      "indice_i: 34571 ,monto_ini: 27.045000076293945 ,indice_f: 34577 ,monto_fin: 26.975000381469727\n",
      "posible caso: 34611 SLV , fecha: 2025-01-13 00:00:00\n",
      "posible caso: 34671 SLV , fecha: 2025-01-27 00:00:00\n",
      "Procesando: 2025-01-27\n",
      "indice_i: 34672 ,monto_ini: 27.38999938964844 ,indice_f: 34675 ,monto_fin: 27.46999931335449\n",
      "Procesando: 2025-01-28\n",
      "indice_i: 34676 ,monto_ini: 27.655000686645508 ,indice_f: 34682 ,monto_fin: 27.6299991607666\n",
      "Procesando: 2025-01-29\n",
      "indice_i: 34683 ,monto_ini: 28.0 ,indice_f: 34689 ,monto_fin: 28.01000022888184\n",
      "Procesando: 2025-01-30\n",
      "indice_i: 34690 ,monto_ini: 28.7450008392334 ,indice_f: 34696 ,monto_fin: 28.71999931335449\n",
      "Procesando: 2025-01-31\n",
      "indice_i: 34697 ,monto_ini: 28.725000381469727 ,indice_f: 34703 ,monto_fin: 28.520000457763672\n",
      "posible caso: 34833 SLV , fecha: 2025-02-28 00:00:00\n",
      "Procesando: 2025-02-28\n",
      "indice_i: 34834 ,monto_ini: 28.239999771118164 ,indice_f: 34836 ,monto_fin: 28.315000534057617\n",
      "Procesando: 2025-03-03\n",
      "indice_i: 34837 ,monto_ini: 28.96500015258789 ,indice_f: 34843 ,monto_fin: 28.75\n",
      "posible caso: 35008 SLV , fecha: 2025-04-04 00:00:00\n",
      "Procesando: 2025-04-04\n",
      "indice_i: 35009 ,monto_ini: 26.760099411010746 ,indice_f: 35011 ,monto_fin: 27.059999465942383\n",
      "Procesando: 2025-04-07\n",
      "indice_i: 35012 ,monto_ini: 27.334999084472656 ,indice_f: 35018 ,monto_fin: 27.13999938964844\n"
     ]
    },
    {
     "name": "stdout",
     "output_type": "stream",
     "text": [
      "posible caso: 35457 USO , fecha: 2023-06-27 00:00:00\n",
      "Procesando: 2023-06-27\n",
      "indice_i: 35458 ,monto_ini: 61.294700622558594 ,indice_f: 35458 ,monto_fin: 61.294700622558594\n",
      "Procesando: 2023-06-28\n",
      "indice_i: 35459 ,monto_ini: 61.290000915527344 ,indice_f: 35465 ,monto_fin: 62.5\n",
      "posible caso: 36109 USO , fecha: 2023-11-08 00:00:00\n",
      "Procesando: 2023-11-08\n",
      "indice_i: 36110 ,monto_ini: 69.91000366210938 ,indice_f: 36112 ,monto_fin: 70.20999908447266\n",
      "Procesando: 2023-11-09\n",
      "indice_i: 36113 ,monto_ini: 71.37999725341797 ,indice_f: 36119 ,monto_fin: 70.23999786376953\n",
      "posible caso: 36151 USO , fecha: 2023-11-16 00:00:00\n",
      "Procesando: 2023-11-16\n",
      "indice_i: 36152 ,monto_ini: 68.0999984741211 ,indice_f: 36154 ,monto_fin: 68.04000091552734\n",
      "Procesando: 2023-11-17\n",
      "indice_i: 36155 ,monto_ini: 69.83000183105469 ,indice_f: 36161 ,monto_fin: 70.74500274658203\n",
      "Procesando: 2023-11-20\n",
      "indice_i: 36162 ,monto_ini: 72.69000244140625 ,indice_f: 36168 ,monto_fin: 72.30999755859375\n",
      "Procesando: 2023-11-21\n",
      "indice_i: 36169 ,monto_ini: 72.05010223388672 ,indice_f: 36175 ,monto_fin: 72.55000305175781\n",
      "posible caso: 36266 USO , fecha: 2023-12-12 00:00:00\n",
      "posible caso: 36358 USO , fecha: 2024-01-02 00:00:00\n",
      "Procesando: 2024-01-02\n",
      "indice_i: 36359 ,monto_ini: 65.95999908447266 ,indice_f: 36360 ,monto_fin: 65.78990173339844\n",
      "Procesando: 2024-01-03\n",
      "indice_i: 36361 ,monto_ini: 67.66000366210938 ,indice_f: 36367 ,monto_fin: 68.19999694824219\n",
      "Procesando: 2024-01-04\n",
      "indice_i: 36368 ,monto_ini: 67.66999816894531 ,indice_f: 36374 ,monto_fin: 67.56999969482422\n"
     ]
    },
    {
     "name": "stdout",
     "output_type": "stream",
     "text": [
      "posible caso: 37050 USO , fecha: 2024-05-23 00:00:00\n",
      "posible caso: 37399 USO , fecha: 2024-08-06 00:00:00\n",
      "posible caso: 37473 USO , fecha: 2024-08-21 00:00:00\n",
      "posible caso: 37563 USO , fecha: 2024-09-10 00:00:00\n",
      "Procesando: 2024-09-10\n",
      "indice_i: 37564 ,monto_ini: 66.49500274658203 ,indice_f: 37567 ,monto_fin: 66.93000030517578\n",
      "Procesando: 2024-09-11\n",
      "indice_i: 37568 ,monto_ini: 67.47000122070312 ,indice_f: 37574 ,monto_fin: 67.8499984741211\n",
      "Procesando: 2024-09-12\n",
      "indice_i: 37575 ,monto_ini: 69.14089965820312 ,indice_f: 37581 ,monto_fin: 69.91000366210938\n",
      "Procesando: 2024-09-13\n",
      "indice_i: 37582 ,monto_ini: 70.87999725341797 ,indice_f: 37588 ,monto_fin: 69.86000061035156\n",
      "posible caso: 37651 USO , fecha: 2024-09-26 00:00:00\n",
      "posible caso: 37758 USO , fecha: 2024-10-18 00:00:00\n",
      "Procesando: 2024-10-18\n",
      "indice_i: 37759 ,monto_ini: 71.77999877929688 ,indice_f: 37763 ,monto_fin: 71.36000061035156\n",
      "Procesando: 2024-10-21\n",
      "indice_i: 37764 ,monto_ini: 71.95999908447266 ,indice_f: 37770 ,monto_fin: 72.27999877929688\n",
      "Procesando: 2024-10-22\n",
      "indice_i: 37771 ,monto_ini: 73.43000030517578 ,indice_f: 37777 ,monto_fin: 74.0\n",
      "Procesando: 2024-10-23\n",
      "indice_i: 37778 ,monto_ini: 73.80000305175781 ,indice_f: 37784 ,monto_fin: 73.55000305175781\n",
      "posible caso: 37807 USO , fecha: 2024-10-29 00:00:00\n",
      "posible caso: 37902 USO , fecha: 2024-11-15 00:00:00\n",
      "Procesando: 2024-11-15\n",
      "indice_i: 37903 ,monto_ini: 69.75 ,indice_f: 37903 ,monto_fin: 69.75\n",
      "Procesando: 2024-11-18\n",
      "indice_i: 37904 ,monto_ini: 71.79010009765625 ,indice_f: 37910 ,monto_fin: 72.05999755859375\n",
      "Procesando: 2024-11-19\n",
      "indice_i: 37911 ,monto_ini: 72.61000061035156 ,indice_f: 37917 ,monto_fin: 72.30999755859375\n"
     ]
    },
    {
     "name": "stdout",
     "output_type": "stream",
     "text": [
      "posible caso: 37991 USO , fecha: 2024-12-06 00:00:00\n",
      "posible caso: 38272 USO , fecha: 2025-02-06 00:00:00\n",
      "Procesando: 2025-02-06\n",
      "indice_i: 38273 ,monto_ini: 75.43499755859375 ,indice_f: 38273 ,monto_fin: 75.43499755859375\n",
      "Procesando: 2025-02-07\n",
      "indice_i: 38274 ,monto_ini: 76.13999938964844 ,indice_f: 38280 ,monto_fin: 75.88999938964844\n",
      "posible caso: 38688 USO , fecha: 2025-05-05 00:00:00\n",
      "Procesando: 2025-05-05\n",
      "indice_i: 38689 ,monto_ini: 62.58000183105469 ,indice_f: 38693 ,monto_fin: 62.3650016784668\n",
      "Procesando: 2025-05-06\n",
      "indice_i: 38694 ,monto_ini: 65.09989929199219 ,indice_f: 38700 ,monto_fin: 64.61000061035156\n",
      "posible caso: 38779 USO , fecha: 2025-05-22 00:00:00\n",
      "posible caso: 38985 BAC , fecha: 2023-06-23 00:00:00\n",
      "Procesando: 2023-06-23\n",
      "indice_i: 38986 ,monto_ini: 27.76000022888184 ,indice_f: 38986 ,monto_fin: 27.76000022888184\n",
      "Procesando: 2023-06-26\n",
      "indice_i: 38987 ,monto_ini: 28.020000457763672 ,indice_f: 38993 ,monto_fin: 28.09000015258789\n",
      "Procesando: 2023-06-27\n",
      "indice_i: 38994 ,monto_ini: 28.21999931335449 ,indice_f: 39000 ,monto_fin: 28.239999771118164\n",
      "Procesando: 2023-06-28\n",
      "indice_i: 39001 ,monto_ini: 28.0049991607666 ,indice_f: 39007 ,monto_fin: 28.07999992370605\n",
      "posible caso: 39344 BAC , fecha: 2023-09-07 00:00:00\n",
      "posible caso: 39597 BAC , fecha: 2023-10-27 00:00:00\n",
      "Procesando: 2023-10-27\n",
      "indice_i: 39598 ,monto_ini: 25.170000076293945 ,indice_f: 39598 ,monto_fin: 25.170000076293945\n",
      "Procesando: 2023-10-30\n",
      "indice_i: 39599 ,monto_ini: 25.424999237060547 ,indice_f: 39605 ,monto_fin: 25.684999465942383\n",
      "Procesando: 2023-10-31\n",
      "indice_i: 39606 ,monto_ini: 25.82999992370605 ,indice_f: 39612 ,monto_fin: 26.350000381469727\n",
      "Procesando: 2023-11-01\n",
      "indice_i: 39613 ,monto_ini: 26.4950008392334 ,indice_f: 39619 ,monto_fin: 26.39999961853028\n",
      "Procesando: 2023-11-02\n",
      "indice_i: 39620 ,monto_ini: 26.97249984741211 ,indice_f: 39626 ,monto_fin: 27.6200008392334\n",
      "Procesando: 2023-11-03\n",
      "indice_i: 39627 ,monto_ini: 28.325000762939453 ,indice_f: 39633 ,monto_fin: 28.43000030517578\n",
      "Procesando: 2023-11-06\n",
      "indice_i: 39634 ,monto_ini: 28.184999465942383 ,indice_f: 39640 ,monto_fin: 28.350000381469727\n"
     ]
    },
    {
     "name": "stdout",
     "output_type": "stream",
     "text": [
      "posible caso: 40928 BAC , fecha: 2024-08-05 00:00:00\n",
      "Procesando: 2024-08-05\n",
      "indice_i: 40929 ,monto_ini: 36.42499923706055 ,indice_f: 40934 ,monto_fin: 36.65499877929688\n",
      "Procesando: 2024-08-06\n",
      "indice_i: 40935 ,monto_ini: 37.13999938964844 ,indice_f: 40941 ,monto_fin: 36.90999984741211\n",
      "Procesando: 2024-08-07\n",
      "indice_i: 40942 ,monto_ini: 38.1349983215332 ,indice_f: 40948 ,monto_fin: 37.310001373291016\n",
      "posible caso: 41126 BAC , fecha: 2024-09-13 00:00:00\n",
      "posible caso: 41208 BAC , fecha: 2024-10-01 00:00:00\n",
      "Procesando: 2024-10-01\n",
      "indice_i: 41209 ,monto_ini: 39.40499877929688 ,indice_f: 41214 ,monto_fin: 39.22999954223633\n",
      "Procesando: 2024-10-02\n",
      "indice_i: 41215 ,monto_ini: 39.2599983215332 ,indice_f: 41221 ,monto_fin: 39.22999954223633\n",
      "Procesando: 2024-10-03\n",
      "indice_i: 41222 ,monto_ini: 38.93220138549805 ,indice_f: 41228 ,monto_fin: 39.244998931884766\n",
      "posible caso: 41966 BAC , fecha: 2025-03-11 00:00:00\n",
      "posible caso: 42091 BAC , fecha: 2025-04-04 00:00:00\n",
      "Procesando: 2025-04-04\n",
      "indice_i: 42092 ,monto_ini: 34.27000045776367 ,indice_f: 42095 ,monto_fin: 34.35499954223633\n",
      "Procesando: 2025-04-07\n",
      "indice_i: 42096 ,monto_ini: 34.689998626708984 ,indice_f: 42102 ,monto_fin: 35.58000183105469\n",
      "Procesando: 2025-04-08\n",
      "indice_i: 42103 ,monto_ini: 36.90499877929688 ,indice_f: 42109 ,monto_fin: 35.02000045776367\n",
      "posible caso: 42327 BAC , fecha: 2025-05-23 00:00:00\n",
      "Procesando: 2025-05-23\n",
      "indice_i: 42328 ,monto_ini: 43.09000015258789 ,indice_f: 42333 ,monto_fin: 43.19499969482422\n",
      "Procesando: 2025-05-27\n",
      "indice_i: 42334 ,monto_ini: 43.78499984741211 ,indice_f: 42340 ,monto_fin: 44.220001220703125\n",
      "Procesando: 2025-05-28\n",
      "indice_i: 42341 ,monto_ini: 44.20500183105469 ,indice_f: 42347 ,monto_fin: 44.04999923706055\n"
     ]
    },
    {
     "name": "stdout",
     "output_type": "stream",
     "text": [
      "posible caso: 42518 CVX , fecha: 2023-06-23 00:00:00\n",
      "Procesando: 2023-06-23\n",
      "indice_i: 42519 ,monto_ini: 151.09939575195312 ,indice_f: 42523 ,monto_fin: 151.3800048828125\n",
      "Procesando: 2023-06-26\n",
      "indice_i: 42524 ,monto_ini: 152.97000122070312 ,indice_f: 42530 ,monto_fin: 154.07000732421875\n",
      "Procesando: 2023-06-27\n",
      "indice_i: 42531 ,monto_ini: 154.2100067138672 ,indice_f: 42537 ,monto_fin: 153.52000427246094\n",
      "Procesando: 2023-06-28\n",
      "indice_i: 42538 ,monto_ini: 152.8699951171875 ,indice_f: 42544 ,monto_fin: 154.97000122070312\n",
      "posible caso: 42571 CVX , fecha: 2023-07-06 00:00:00\n",
      "Procesando: 2023-07-06\n",
      "indice_i: 42572 ,monto_ini: 152.1999969482422 ,indice_f: 42575 ,monto_fin: 152.8800048828125\n",
      "Procesando: 2023-07-07\n",
      "indice_i: 42576 ,monto_ini: 154.1699981689453 ,indice_f: 42582 ,monto_fin: 154.22999572753906\n",
      "Procesando: 2023-07-10\n",
      "indice_i: 42583 ,monto_ini: 154.72999572753906 ,indice_f: 42589 ,monto_fin: 155.25999450683594\n",
      "Procesando: 2023-07-11\n",
      "indice_i: 42590 ,monto_ini: 156.72999572753906 ,indice_f: 42596 ,monto_fin: 158.11000061035156\n",
      "Procesando: 2023-07-12\n",
      "indice_i: 42597 ,monto_ini: 159.5800018310547 ,indice_f: 42603 ,monto_fin: 159.64999389648438\n",
      "Procesando: 2023-07-13\n",
      "indice_i: 42604 ,monto_ini: 159.2050018310547 ,indice_f: 42610 ,monto_fin: 157.46499633789062\n",
      "posible caso: 42620 CVX , fecha: 2023-07-17 00:00:00\n",
      "Procesando: 2023-07-17\n",
      "indice_i: 42621 ,monto_ini: 153.41000366210938 ,indice_f: 42624 ,monto_fin: 153.44000244140625\n",
      "Procesando: 2023-07-18\n",
      "indice_i: 42625 ,monto_ini: 154.7949981689453 ,indice_f: 42631 ,monto_fin: 153.77000427246094\n",
      "Procesando: 2023-07-19\n",
      "indice_i: 42632 ,monto_ini: 155.1699981689453 ,indice_f: 42638 ,monto_fin: 154.67999267578125\n",
      "Procesando: 2023-07-20\n",
      "indice_i: 42639 ,monto_ini: 156.0050048828125 ,indice_f: 42645 ,monto_fin: 156.39999389648438\n",
      "Procesando: 2023-07-21\n",
      "indice_i: 42646 ,monto_ini: 158.17999267578125 ,indice_f: 42652 ,monto_fin: 158.69000244140625\n",
      "Procesando: 2023-07-24\n",
      "indice_i: 42653 ,monto_ini: 161.58999633789062 ,indice_f: 42659 ,monto_fin: 161.7899932861328\n",
      "Procesando: 2023-07-25\n",
      "indice_i: 42660 ,monto_ini: 162.27999877929688 ,indice_f: 42666 ,monto_fin: 162.5500030517578\n",
      "Procesando: 2023-07-26\n",
      "indice_i: 42667 ,monto_ini: 161.61000061035156 ,indice_f: 42673 ,monto_fin: 161.4199981689453\n"
     ]
    },
    {
     "name": "stdout",
     "output_type": "stream",
     "text": [
      "posible caso: 42778 CVX , fecha: 2023-08-16 00:00:00\n",
      "Procesando: 2023-08-17\n",
      "indice_i: 42779 ,monto_ini: 161.72500610351562 ,indice_f: 42785 ,monto_fin: 159.75\n",
      "Procesando: 2023-08-18\n",
      "indice_i: 42786 ,monto_ini: 159.74000549316406 ,indice_f: 42792 ,monto_fin: 160.9199981689453\n",
      "posible caso: 42820 CVX , fecha: 2023-08-24 00:00:00\n",
      "posible caso: 43051 CVX , fecha: 2023-10-11 00:00:00\n",
      "posible caso: 43198 CVX , fecha: 2023-11-09 00:00:00\n",
      "posible caso: 43323 CVX , fecha: 2023-12-07 00:00:00\n",
      "Procesando: 2023-12-07\n",
      "indice_i: 43324 ,monto_ini: 142.61000061035156 ,indice_f: 43327 ,monto_fin: 142.4499969482422\n",
      "Procesando: 2023-12-08\n",
      "indice_i: 43328 ,monto_ini: 144.02000427246094 ,indice_f: 43334 ,monto_fin: 144.30999755859375\n",
      "Procesando: 2023-12-11\n",
      "indice_i: 43335 ,monto_ini: 145.0800018310547 ,indice_f: 43341 ,monto_fin: 144.3300018310547\n",
      "Procesando: 2023-12-12\n",
      "indice_i: 43342 ,monto_ini: 142.8300018310547 ,indice_f: 43348 ,monto_fin: 142.52000427246094\n",
      "posible caso: 43429 CVX , fecha: 2023-12-29 00:00:00\n",
      "Procesando: 2023-12-29\n",
      "indice_i: 43430 ,monto_ini: 149.1699981689453 ,indice_f: 43432 ,monto_fin: 149.13999938964844\n",
      "Procesando: 2024-01-02\n",
      "indice_i: 43433 ,monto_ini: 150.9499969482422 ,indice_f: 43439 ,monto_fin: 149.55999755859375\n",
      "posible caso: 43513 CVX , fecha: 2024-01-18 00:00:00\n",
      "Procesando: 2024-01-18\n",
      "indice_i: 43514 ,monto_ini: 141.84500122070312 ,indice_f: 43516 ,monto_fin: 141.8300018310547\n",
      "Procesando: 2024-01-19\n",
      "indice_i: 43517 ,monto_ini: 141.94000244140625 ,indice_f: 43523 ,monto_fin: 142.2100067138672\n",
      "Procesando: 2024-01-22\n",
      "indice_i: 43524 ,monto_ini: 141.97000122070312 ,indice_f: 43530 ,monto_fin: 142.52000427246094\n",
      "posible caso: 43641 CVX , fecha: 2024-02-13 00:00:00\n",
      "Procesando: 2024-02-13\n",
      "indice_i: 43642 ,monto_ini: 150.60000610351562 ,indice_f: 43642 ,monto_fin: 150.60000610351562\n",
      "Procesando: 2024-02-14\n",
      "indice_i: 43643 ,monto_ini: 151.5800018310547 ,indice_f: 43649 ,monto_fin: 150.9499969482422\n"
     ]
    },
    {
     "name": "stdout",
     "output_type": "stream",
     "text": [
      "posible caso: 43747 CVX , fecha: 2024-03-06 00:00:00\n",
      "Procesando: 2024-03-07\n",
      "indice_i: 43748 ,monto_ini: 149.4600067138672 ,indice_f: 43754 ,monto_fin: 149.4199981689453\n",
      "Procesando: 2024-03-08\n",
      "indice_i: 43755 ,monto_ini: 148.52000427246094 ,indice_f: 43761 ,monto_fin: 149.9499969482422\n",
      "posible caso: 44338 CVX , fecha: 2024-07-09 00:00:00\n",
      "posible caso: 44403 CVX , fecha: 2024-07-23 00:00:00\n",
      "posible caso: 44485 CVX , fecha: 2024-08-07 00:00:00\n",
      "Procesando: 2024-08-08\n",
      "indice_i: 44486 ,monto_ini: 144.1699981689453 ,indice_f: 44492 ,monto_fin: 144.52999877929688\n",
      "Procesando: 2024-08-09\n",
      "indice_i: 44493 ,monto_ini: 143.88499450683594 ,indice_f: 44499 ,monto_fin: 145.0500030517578\n",
      "posible caso: 44647 CVX , fecha: 2024-09-11 00:00:00\n",
      "posible caso: 44730 CVX , fecha: 2024-09-26 00:00:00\n",
      "Procesando: 2024-09-27\n",
      "indice_i: 44731 ,monto_ini: 145.07000732421875 ,indice_f: 44737 ,monto_fin: 145.49000549316406\n",
      "Procesando: 2024-09-30\n",
      "indice_i: 44738 ,monto_ini: 145.72000122070312 ,indice_f: 44744 ,monto_fin: 147.25999450683594\n",
      "Procesando: 2024-10-01\n",
      "indice_i: 44745 ,monto_ini: 149.17999267578125 ,indice_f: 44751 ,monto_fin: 149.72999572753906\n",
      "Procesando: 2024-10-02\n",
      "indice_i: 44752 ,monto_ini: 151.22999572753906 ,indice_f: 44758 ,monto_fin: 150.94000244140625\n",
      "posible caso: 44821 CVX , fecha: 2024-10-15 00:00:00\n",
      "Procesando: 2024-10-16\n",
      "indice_i: 44822 ,monto_ini: 148.56619262695312 ,indice_f: 44828 ,monto_fin: 148.69000244140625\n",
      "Procesando: 2024-10-17\n",
      "indice_i: 44829 ,monto_ini: 149.75999450683594 ,indice_f: 44835 ,monto_fin: 151.17999267578125\n",
      "Procesando: 2024-10-18\n",
      "indice_i: 44836 ,monto_ini: 149.91000366210938 ,indice_f: 44842 ,monto_fin: 150.74000549316406\n"
     ]
    },
    {
     "name": "stdout",
     "output_type": "stream",
     "text": [
      "posible caso: 45139 CVX , fecha: 2024-12-19 00:00:00\n",
      "posible caso: 45324 CVX , fecha: 2025-01-31 00:00:00\n",
      "posible caso: 45473 CVX , fecha: 2025-03-05 00:00:00\n",
      "posible caso: 45701 CVX , fecha: 2025-04-21 00:00:00\n",
      "Procesando: 2025-04-21\n",
      "indice_i: 45702 ,monto_ini: 133.72000122070312 ,indice_f: 45702 ,monto_fin: 133.72000122070312\n",
      "Procesando: 2025-04-22\n",
      "indice_i: 45703 ,monto_ini: 135.57000732421875 ,indice_f: 45709 ,monto_fin: 137.3000030517578\n",
      "Procesando: 2025-04-23\n",
      "indice_i: 45710 ,monto_ini: 136.39999389648438 ,indice_f: 45716 ,monto_fin: 136.65499877929688\n",
      "posible caso: 45769 CVX , fecha: 2025-05-05 00:00:00\n",
      "posible caso: 45858 CVX , fecha: 2025-05-22 00:00:00\n",
      "Procesando: 2025-05-22\n",
      "indice_i: 45859 ,monto_ini: 135.0800018310547 ,indice_f: 45863 ,monto_fin: 135.32000732421875\n",
      "Procesando: 2025-05-23\n",
      "indice_i: 45864 ,monto_ini: 135.1999969482422 ,indice_f: 45870 ,monto_fin: 136.55999755859375\n",
      "posible caso: 46059 XOM , fecha: 2023-06-23 00:00:00\n",
      "Procesando: 2023-06-23\n",
      "indice_i: 46060 ,monto_ini: 102.38999938964844 ,indice_f: 46060 ,monto_fin: 102.38999938964844\n",
      "Procesando: 2023-06-26\n",
      "indice_i: 46061 ,monto_ini: 103.80500030517578 ,indice_f: 46067 ,monto_fin: 104.30999755859376\n",
      "Procesando: 2023-06-27\n",
      "indice_i: 46068 ,monto_ini: 104.34500122070312 ,indice_f: 46074 ,monto_fin: 104.5500030517578\n",
      "Procesando: 2023-06-28\n",
      "indice_i: 46075 ,monto_ini: 103.5500030517578 ,indice_f: 46081 ,monto_fin: 105.41000366210938\n",
      "posible caso: 46108 XOM , fecha: 2023-07-06 00:00:00\n",
      "Procesando: 2023-07-06\n",
      "indice_i: 46109 ,monto_ini: 103.03079986572266 ,indice_f: 46112 ,monto_fin: 102.93499755859376\n",
      "Procesando: 2023-07-07\n",
      "indice_i: 46113 ,monto_ini: 102.94000244140624 ,indice_f: 46119 ,monto_fin: 103.19000244140624\n",
      "Procesando: 2023-07-10\n",
      "indice_i: 46120 ,monto_ini: 104.01000213623048 ,indice_f: 46126 ,monto_fin: 104.72000122070312\n",
      "Procesando: 2023-07-11\n",
      "indice_i: 46127 ,monto_ini: 105.28980255126952 ,indice_f: 46133 ,monto_fin: 105.97000122070312\n",
      "Procesando: 2023-07-12\n",
      "indice_i: 46134 ,monto_ini: 107.16999816894533 ,indice_f: 46140 ,monto_fin: 106.5199966430664\n"
     ]
    },
    {
     "name": "stdout",
     "output_type": "stream",
     "text": [
      "posible caso: 46168 XOM , fecha: 2023-07-18 00:00:00\n",
      "posible caso: 46315 XOM , fecha: 2023-08-16 00:00:00\n",
      "Procesando: 2023-08-17\n",
      "indice_i: 46316 ,monto_ini: 109.52999877929688 ,indice_f: 46322 ,monto_fin: 108.38999938964844\n",
      "Procesando: 2023-08-18\n",
      "indice_i: 46323 ,monto_ini: 108.36000061035156 ,indice_f: 46329 ,monto_fin: 110.05999755859376\n",
      "posible caso: 46357 XOM , fecha: 2023-08-24 00:00:00\n",
      "posible caso: 46593 XOM , fecha: 2023-10-12 00:00:00\n",
      "Procesando: 2023-10-12\n",
      "indice_i: 46594 ,monto_ini: 106.62000274658205 ,indice_f: 46595 ,monto_fin: 106.43000030517578\n",
      "Procesando: 2023-10-13\n",
      "indice_i: 46596 ,monto_ini: 108.81500244140624 ,indice_f: 46602 ,monto_fin: 109.87000274658205\n",
      "Procesando: 2023-10-16\n",
      "indice_i: 46603 ,monto_ini: 109.6449966430664 ,indice_f: 46609 ,monto_fin: 109.92019653320312\n",
      "posible caso: 46668 XOM , fecha: 2023-10-27 00:00:00\n",
      "posible caso: 46728 XOM , fecha: 2023-11-08 00:00:00\n",
      "posible caso: 46967 XOM , fecha: 2023-12-29 00:00:00\n",
      "posible caso: 47047 XOM , fecha: 2024-01-18 00:00:00\n",
      "posible caso: 47131 XOM , fecha: 2024-02-05 00:00:00\n",
      "Procesando: 2024-02-05\n",
      "indice_i: 47132 ,monto_ini: 101.6050033569336 ,indice_f: 47137 ,monto_fin: 101.48999786376952\n",
      "Procesando: 2024-02-06\n",
      "indice_i: 47138 ,monto_ini: 102.24500274658205 ,indice_f: 47144 ,monto_fin: 102.26499938964844\n",
      "Procesando: 2024-02-07\n",
      "indice_i: 47145 ,monto_ini: 101.52999877929688 ,indice_f: 47151 ,monto_fin: 102.2300033569336\n",
      "posible caso: 47137 XOM , fecha: 2024-02-05 00:00:00\n",
      "Procesando: 2024-02-06\n",
      "indice_i: 47138 ,monto_ini: 102.24500274658205 ,indice_f: 47144 ,monto_fin: 102.26499938964844\n",
      "Procesando: 2024-02-07\n",
      "indice_i: 47145 ,monto_ini: 101.52999877929688 ,indice_f: 47151 ,monto_fin: 102.2300033569336\n"
     ]
    },
    {
     "name": "stdout",
     "output_type": "stream",
     "text": [
      "posible caso: 47775 XOM , fecha: 2024-06-17 00:00:00\n",
      "Procesando: 2024-06-17\n",
      "indice_i: 47776 ,monto_ini: 109.12000274658205 ,indice_f: 47781 ,monto_fin: 108.37000274658205\n",
      "Procesando: 2024-06-18\n",
      "indice_i: 47782 ,monto_ini: 110.20999908447266 ,indice_f: 47788 ,monto_fin: 109.41000366210938\n",
      "Procesando: 2024-06-20\n",
      "indice_i: 47789 ,monto_ini: 111.31999969482422 ,indice_f: 47795 ,monto_fin: 111.75\n",
      "Procesando: 2024-06-21\n",
      "indice_i: 47796 ,monto_ini: 112.41999816894533 ,indice_f: 47802 ,monto_fin: 110.87999725341795\n",
      "posible caso: 47781 XOM , fecha: 2024-06-17 00:00:00\n",
      "Procesando: 2024-06-18\n",
      "indice_i: 47782 ,monto_ini: 110.20999908447266 ,indice_f: 47788 ,monto_fin: 109.41000366210938\n",
      "Procesando: 2024-06-20\n",
      "indice_i: 47789 ,monto_ini: 111.31999969482422 ,indice_f: 47795 ,monto_fin: 111.75\n",
      "Procesando: 2024-06-21\n",
      "indice_i: 47796 ,monto_ini: 112.41999816894533 ,indice_f: 47802 ,monto_fin: 110.87999725341795\n",
      "posible caso: 47875 XOM , fecha: 2024-07-09 00:00:00\n",
      "posible caso: 47941 XOM , fecha: 2024-07-23 00:00:00\n",
      "Procesando: 2024-07-23\n",
      "indice_i: 47942 ,monto_ini: 113.4499969482422 ,indice_f: 47945 ,monto_fin: 113.38999938964844\n",
      "Procesando: 2024-07-24\n",
      "indice_i: 47946 ,monto_ini: 113.66500091552734 ,indice_f: 47952 ,monto_fin: 115.0\n",
      "Procesando: 2024-07-25\n",
      "indice_i: 47953 ,monto_ini: 115.9000015258789 ,indice_f: 47959 ,monto_fin: 117.4499969482422\n",
      "Procesando: 2024-07-26\n",
      "indice_i: 47960 ,monto_ini: 116.68000030517578 ,indice_f: 47966 ,monto_fin: 117.36000061035156\n",
      "posible caso: 48015 XOM , fecha: 2024-08-06 00:00:00\n",
      "Procesando: 2024-08-07\n",
      "indice_i: 48016 ,monto_ini: 115.73999786376952 ,indice_f: 48022 ,monto_fin: 115.69000244140624\n",
      "Procesando: 2024-08-08\n",
      "indice_i: 48023 ,monto_ini: 117.2699966430664 ,indice_f: 48029 ,monto_fin: 117.88999938964844\n",
      "Procesando: 2024-08-09\n",
      "indice_i: 48030 ,monto_ini: 118.0999984741211 ,indice_f: 48036 ,monto_fin: 118.8499984741211\n",
      "Procesando: 2024-08-12\n",
      "indice_i: 48037 ,monto_ini: 118.6500015258789 ,indice_f: 48043 ,monto_fin: 119.0\n",
      "posible caso: 48092 XOM , fecha: 2024-08-21 00:00:00\n",
      "posible caso: 48184 XOM , fecha: 2024-09-11 00:00:00\n"
     ]
    },
    {
     "name": "stdout",
     "output_type": "stream",
     "text": [
      "posible caso: 48267 XOM , fecha: 2024-09-26 00:00:00\n",
      "Procesando: 2024-09-27\n",
      "indice_i: 48268 ,monto_ini: 115.16000366210938 ,indice_f: 48274 ,monto_fin: 115.83999633789062\n",
      "Procesando: 2024-09-30\n",
      "indice_i: 48275 ,monto_ini: 116.2699966430664 ,indice_f: 48281 ,monto_fin: 117.22000122070312\n",
      "Procesando: 2024-10-01\n",
      "indice_i: 48282 ,monto_ini: 119.66000366210938 ,indice_f: 48288 ,monto_fin: 119.95999908447266\n",
      "Procesando: 2024-10-02\n",
      "indice_i: 48289 ,monto_ini: 121.7699966430664 ,indice_f: 48295 ,monto_fin: 121.48999786376952\n",
      "posible caso: 48449 XOM , fecha: 2024-11-01 00:00:00\n",
      "Procesando: 2024-11-04\n",
      "indice_i: 48450 ,monto_ini: 118.44000244140624 ,indice_f: 48456 ,monto_fin: 118.5999984741211\n",
      "Procesando: 2024-11-05\n",
      "indice_i: 48457 ,monto_ini: 118.98999786376952 ,indice_f: 48463 ,monto_fin: 118.98999786376952\n",
      "Procesando: 2024-11-06\n",
      "indice_i: 48464 ,monto_ini: 121.36499786376952 ,indice_f: 48470 ,monto_fin: 120.9499969482422\n",
      "Procesando: 2024-11-07\n",
      "indice_i: 48471 ,monto_ini: 120.43000030517578 ,indice_f: 48477 ,monto_fin: 121.12999725341795\n",
      "posible caso: 48708 XOM , fecha: 2024-12-30 00:00:00\n",
      "Procesando: 2024-12-30\n",
      "indice_i: 48709 ,monto_ini: 105.63999938964844 ,indice_f: 48714 ,monto_fin: 105.73500061035156\n",
      "Procesando: 2024-12-31\n",
      "indice_i: 48715 ,monto_ini: 107.10690307617188 ,indice_f: 48721 ,monto_fin: 107.62999725341795\n",
      "Procesando: 2025-01-02\n",
      "indice_i: 48722 ,monto_ini: 108.56999969482422 ,indice_f: 48728 ,monto_fin: 107.33000183105467\n",
      "posible caso: 48762 XOM , fecha: 2025-01-10 00:00:00\n",
      "Procesando: 2025-01-10\n",
      "indice_i: 48763 ,monto_ini: 106.52999877929688 ,indice_f: 48763 ,monto_fin: 106.52999877929688\n",
      "Procesando: 2025-01-13\n",
      "indice_i: 48764 ,monto_ini: 108.4884033203125 ,indice_f: 48770 ,monto_fin: 109.26499938964844\n",
      "Procesando: 2025-01-14\n",
      "indice_i: 48771 ,monto_ini: 108.25 ,indice_f: 48777 ,monto_fin: 109.68499755859376\n",
      "posible caso: 48917 XOM , fecha: 2025-02-12 00:00:00\n",
      "posible caso: 49010 XOM , fecha: 2025-03-05 00:00:00\n",
      "posible caso: 49193 XOM , fecha: 2025-04-10 00:00:00\n",
      "Procesando: 2025-04-10\n",
      "indice_i: 49194 ,monto_ini: 99.51499938964844 ,indice_f: 49197 ,monto_fin: 99.88999938964844\n",
      "Procesando: 2025-04-11\n",
      "indice_i: 49198 ,monto_ini: 98.87000274658205 ,indice_f: 49204 ,monto_fin: 103.12999725341795\n",
      "Procesando: 2025-04-14\n",
      "indice_i: 49205 ,monto_ini: 104.00624084472656 ,indice_f: 49211 ,monto_fin: 103.40499877929688\n"
     ]
    },
    {
     "name": "stdout",
     "output_type": "stream",
     "text": [
      "posible caso: 49309 XOM , fecha: 2025-05-05 00:00:00\n",
      "Procesando: 2025-05-06\n",
      "indice_i: 49310 ,monto_ini: 104.91000366210938 ,indice_f: 49316 ,monto_fin: 104.70999908447266\n",
      "Procesando: 2025-05-07\n",
      "indice_i: 49317 ,monto_ini: 104.22000122070312 ,indice_f: 49323 ,monto_fin: 104.58499908447266\n",
      "posible caso: 49477 XOM , fecha: 2025-06-05 00:00:00\n",
      "Procesando: 2025-06-05\n",
      "indice_i: 49478 ,monto_ini: 101.94 ,indice_f: 49481 ,monto_fin: 101.9\n",
      "Procesando: 2025-06-06\n",
      "indice_i: 49482 ,monto_ini: 102.04 ,indice_f: 49497 ,monto_fin: 104.19\n",
      "Procesando: 2025-06-09\n",
      "indice_i: 49498 ,monto_ini: 104.3 ,indice_f: 49513 ,monto_fin: 105.1297\n",
      "Procesando: 2025-06-10\n",
      "indice_i: 49514 ,monto_ini: 105.42 ,indice_f: 49529 ,monto_fin: 107.16\n",
      "Procesando: 2025-06-11\n",
      "indice_i: 49530 ,monto_ini: 107.2 ,indice_f: 49541 ,monto_fin: 108.3448\n",
      "posible caso: 50199 QQQ , fecha: 2023-10-26 00:00:00\n",
      "posible caso: 51038 QQQ , fecha: 2024-04-19 00:00:00\n",
      "posible caso: 51094 QQQ , fecha: 2024-05-01 00:00:00\n",
      "posible caso: 51559 QQQ , fecha: 2024-08-07 00:00:00\n",
      "Procesando: 2024-08-08\n",
      "indice_i: 51560 ,monto_ini: 444.75 ,indice_f: 51566 ,monto_fin: 448.2000122070313\n",
      "Procesando: 2024-08-09\n",
      "indice_i: 51567 ,monto_ini: 447.7699890136719 ,indice_f: 51573 ,monto_fin: 450.5299987792969\n",
      "Procesando: 2024-08-12\n",
      "indice_i: 51574 ,monto_ini: 452.7099914550781 ,indice_f: 51580 ,monto_fin: 451.4700012207031\n",
      "Procesando: 2024-08-13\n",
      "indice_i: 51581 ,monto_ini: 457.7898864746094 ,indice_f: 51587 ,monto_fin: 462.6000061035156\n",
      "Procesando: 2024-08-14\n",
      "indice_i: 51588 ,monto_ini: 460.3949890136719 ,indice_f: 51594 ,monto_fin: 462.8200073242188\n"
     ]
    },
    {
     "name": "stdout",
     "output_type": "stream",
     "text": [
      "posible caso: 51702 QQQ , fecha: 2024-09-06 00:00:00\n",
      "posible caso: 52591 QQQ , fecha: 2025-03-13 00:00:00\n",
      "posible caso: 52720 QQQ , fecha: 2025-04-08 00:00:00\n",
      "Procesando: 2025-04-09\n",
      "indice_i: 52721 ,monto_ini: 421.2799987792969 ,indice_f: 52727 ,monto_fin: 465.1600036621094\n",
      "Procesando: 2025-04-10\n",
      "indice_i: 52728 ,monto_ini: 450.1485900878906 ,indice_f: 52734 ,monto_fin: 446.1799926757813\n",
      "posible caso: 52773 QQQ , fecha: 2025-04-21 00:00:00\n",
      "posible caso: 53397 MSFT , fecha: 2023-08-18 00:00:00\n",
      "Procesando: 2023-08-18\n",
      "indice_i: 53398 ,monto_ini: 314.85040283203125 ,indice_f: 53403 ,monto_fin: 316.5199890136719\n",
      "Procesando: 2023-08-21\n",
      "indice_i: 53404 ,monto_ini: 318.07000732421875 ,indice_f: 53410 ,monto_fin: 321.8599853515625\n",
      "Procesando: 2023-08-22\n",
      "indice_i: 53411 ,monto_ini: 324.2900085449219 ,indice_f: 53417 ,monto_fin: 322.45001220703125\n",
      "posible caso: 53706 MSFT , fecha: 2023-10-20 00:00:00\n",
      "Procesando: 2023-10-20\n",
      "indice_i: 53707 ,monto_ini: 326.8599853515625 ,indice_f: 53711 ,monto_fin: 326.6724853515625\n",
      "Procesando: 2023-10-23\n",
      "indice_i: 53712 ,monto_ini: 327.29998779296875 ,indice_f: 53718 ,monto_fin: 329.1600036621094\n",
      "Procesando: 2023-10-24\n",
      "indice_i: 53719 ,monto_ini: 330.8700866699219 ,indice_f: 53725 ,monto_fin: 330.7900085449219\n",
      "Procesando: 2023-10-25\n",
      "indice_i: 53726 ,monto_ini: 340.364990234375 ,indice_f: 53732 ,monto_fin: 340.6700134277344\n",
      "Procesando: 2023-10-26\n",
      "indice_i: 53733 ,monto_ini: 333.4750061035156 ,indice_f: 53739 ,monto_fin: 327.8399963378906\n"
     ]
    },
    {
     "name": "stdout",
     "output_type": "stream",
     "text": [
      "posible caso: 54624 MSFT , fecha: 2024-04-30 00:00:00\n",
      "Procesando: 2024-05-01\n",
      "indice_i: 54625 ,monto_ini: 393.625 ,indice_f: 54631 ,monto_fin: 394.8999938964844\n",
      "Procesando: 2024-05-02\n",
      "indice_i: 54632 ,monto_ini: 396.2799987792969 ,indice_f: 54638 ,monto_fin: 397.9400024414063\n",
      "Procesando: 2024-05-03\n",
      "indice_i: 54639 ,monto_ini: 405.7200012207031 ,indice_f: 54645 ,monto_fin: 406.8399963378906\n",
      "Procesando: 2024-05-06\n",
      "indice_i: 54646 ,monto_ini: 408.1950073242188 ,indice_f: 54652 ,monto_fin: 413.6400146484375\n",
      "Procesando: 2024-05-07\n",
      "indice_i: 54653 ,monto_ini: 411.7049865722656 ,indice_f: 54659 ,monto_fin: 409.1700134277344\n",
      "posible caso: 55076 MSFT , fecha: 2024-08-05 00:00:00\n",
      "Procesando: 2024-08-05\n",
      "indice_i: 55077 ,monto_ini: 399.0799865722656 ,indice_f: 55082 ,monto_fin: 395.2300109863281\n",
      "Procesando: 2024-08-06\n",
      "indice_i: 55083 ,monto_ini: 401.8949890136719 ,indice_f: 55089 ,monto_fin: 399.4299926757813\n",
      "Procesando: 2024-08-07\n",
      "indice_i: 55090 ,monto_ini: 408.4500122070313 ,indice_f: 55096 ,monto_fin: 398.2000122070313\n",
      "posible caso: 55241 MSFT , fecha: 2024-09-06 00:00:00\n",
      "posible caso: 55390 MSFT , fecha: 2024-10-07 00:00:00\n",
      "posible caso: 55510 MSFT , fecha: 2024-10-31 00:00:00\n",
      "posible caso: 55516 MSFT , fecha: 2024-10-31 00:00:00\n",
      "Procesando: 2024-11-01\n",
      "indice_i: 55517 ,monto_ini: 411.8800048828125 ,indice_f: 55523 ,monto_fin: 410.010009765625\n",
      "Procesando: 2024-11-04\n",
      "indice_i: 55524 ,monto_ini: 409.7749938964844 ,indice_f: 55530 ,monto_fin: 408.6600036621094\n",
      "posible caso: 55615 MSFT , fecha: 2024-11-21 00:00:00\n",
      "posible caso: 55799 MSFT , fecha: 2025-01-02 00:00:00\n",
      "Procesando: 2025-01-02\n",
      "indice_i: 55800 ,monto_ini: 417.0700073242188 ,indice_f: 55802 ,monto_fin: 418.6900024414063\n",
      "Procesando: 2025-01-03\n",
      "indice_i: 55803 ,monto_ini: 420.9200134277344 ,indice_f: 55809 ,monto_fin: 423.3500061035156\n",
      "Procesando: 2025-01-06\n",
      "indice_i: 55810 ,monto_ini: 432.64849853515625 ,indice_f: 55816 ,monto_fin: 428.0700073242188\n",
      "posible caso: 55850 MSFT , fecha: 2025-01-14 00:00:00\n",
      "Procesando: 2025-01-14\n",
      "indice_i: 55851 ,monto_ini: 415.6799926757813 ,indice_f: 55851 ,monto_fin: 415.6799926757813\n",
      "Procesando: 2025-01-15\n"
     ]
    },
    {
     "name": "stdout",
     "output_type": "stream",
     "text": [
      "indice_i: 55852 ,monto_ini: 425.2749938964844 ,indice_f: 55858 ,monto_fin: 426.260009765625\n",
      "Procesando: 2025-01-16\n",
      "indice_i: 55859 ,monto_ini: 426.135009765625 ,indice_f: 55865 ,monto_fin: 424.5400085449219\n",
      "posible caso: 56128 MSFT , fecha: 2025-03-13 00:00:00\n",
      "posible caso: 56257 MSFT , fecha: 2025-04-08 00:00:00\n",
      "Procesando: 2025-04-09\n",
      "indice_i: 56258 ,monto_ini: 361.0450134277344 ,indice_f: 56264 ,monto_fin: 390.4299926757813\n",
      "Procesando: 2025-04-10\n",
      "indice_i: 56265 ,monto_ini: 377.7699890136719 ,indice_f: 56271 ,monto_fin: 381.1400146484375\n",
      "posible caso: 56312 MSFT , fecha: 2025-04-21 00:00:00\n",
      "Procesando: 2025-04-21\n",
      "indice_i: 56313 ,monto_ini: 359.1400146484375 ,indice_f: 56313 ,monto_fin: 359.1400146484375\n",
      "Procesando: 2025-04-22\n",
      "indice_i: 56314 ,monto_ini: 362.8599853515625 ,indice_f: 56320 ,monto_fin: 366.739990234375\n",
      "Procesando: 2025-04-23\n",
      "indice_i: 56321 ,monto_ini: 378.8699951171875 ,indice_f: 56327 ,monto_fin: 374.0499877929688\n",
      "posible caso: 57101 NVDA , fecha: 2023-09-21 00:00:00\n",
      "posible caso: 57273 NVDA , fecha: 2023-10-26 00:00:00\n",
      "posible caso: 58633 NVDA , fecha: 2024-08-07 00:00:00\n"
     ]
    },
    {
     "name": "stdout",
     "output_type": "stream",
     "text": [
      "posible caso: 58776 NVDA , fecha: 2024-09-06 00:00:00\n",
      "Procesando: 2024-09-06\n",
      "indice_i: 58777 ,monto_ini: 102.61499786376952 ,indice_f: 58780 ,monto_fin: 102.83999633789062\n",
      "Procesando: 2024-09-09\n",
      "indice_i: 58781 ,monto_ini: 105.04199981689452 ,indice_f: 58787 ,monto_fin: 106.4800033569336\n",
      "Procesando: 2024-09-10\n",
      "indice_i: 58788 ,monto_ini: 107.29000091552734 ,indice_f: 58794 ,monto_fin: 108.0199966430664\n",
      "Procesando: 2024-09-11\n",
      "indice_i: 58795 ,monto_ini: 109.31500244140624 ,indice_f: 58801 ,monto_fin: 116.8499984741211\n",
      "Procesando: 2024-09-12\n",
      "indice_i: 58802 ,monto_ini: 119.6050033569336 ,indice_f: 58808 ,monto_fin: 119.18000030517578\n",
      "Procesando: 2024-09-13\n",
      "indice_i: 58809 ,monto_ini: 118.37000274658205 ,indice_f: 58815 ,monto_fin: 119.06999969482422\n",
      "posible caso: 58836 NVDA , fecha: 2024-09-18 00:00:00\n",
      "Procesando: 2024-09-19\n",
      "indice_i: 58837 ,monto_ini: 119.22000122070312 ,indice_f: 58843 ,monto_fin: 117.9800033569336\n",
      "Procesando: 2024-09-20\n",
      "indice_i: 58844 ,monto_ini: 117.08000183105467 ,indice_f: 58850 ,monto_fin: 116.08000183105467\n",
      "posible caso: 58896 NVDA , fecha: 2024-10-01 00:00:00\n",
      "Procesando: 2024-10-01\n",
      "indice_i: 58897 ,monto_ini: 117.81009674072266 ,indice_f: 58899 ,monto_fin: 116.94989776611328\n",
      "Procesando: 2024-10-02\n",
      "indice_i: 58900 ,monto_ini: 118.25 ,indice_f: 58906 ,monto_fin: 118.83989715576172\n",
      "Procesando: 2024-10-03\n",
      "indice_i: 58907 ,monto_ini: 122.26000213623048 ,indice_f: 58913 ,monto_fin: 122.83999633789062\n",
      "Procesando: 2024-10-04\n",
      "indice_i: 58914 ,monto_ini: 122.5199966430664 ,indice_f: 58920 ,monto_fin: 124.88999938964844\n",
      "posible caso: 59387 NVDA , fecha: 2025-01-14 00:00:00\n",
      "Procesando: 2025-01-14\n",
      "indice_i: 59388 ,monto_ini: 131.85000610351562 ,indice_f: 59388 ,monto_fin: 131.85000610351562\n",
      "Procesando: 2025-01-15\n",
      "indice_i: 59389 ,monto_ini: 134.1999969482422 ,indice_f: 59395 ,monto_fin: 136.1999969482422\n",
      "Procesando: 2025-01-16\n",
      "indice_i: 59396 ,monto_ini: 137.1999969482422 ,indice_f: 59402 ,monto_fin: 133.55999755859375\n",
      "posible caso: 59473 NVDA , fecha: 2025-02-03 00:00:00\n",
      "Procesando: 2025-02-03\n",
      "indice_i: 59474 ,monto_ini: 116.53700256347656 ,indice_f: 59479 ,monto_fin: 116.66000366210938\n",
      "Procesando: 2025-02-04\n",
      "indice_i: 59480 ,monto_ini: 119.93000030517578 ,indice_f: 59486 ,monto_fin: 118.68000030517578\n",
      "Procesando: 2025-02-05\n",
      "indice_i: 59487 ,monto_ini: 122.30999755859376 ,indice_f: 59493 ,monto_fin: 124.95500183105467\n",
      "Procesando: 2025-02-06\n",
      "indice_i: 59494 ,monto_ini: 126.22160339355467 ,indice_f: 59500 ,monto_fin: 128.68499755859375\n",
      "Procesando: 2025-02-07\n",
      "indice_i: 59501 ,monto_ini: 129.11000061035156 ,indice_f: 59507 ,monto_fin: 129.86000061035156\n",
      "Procesando: 2025-02-10\n",
      "indice_i: 59508 ,monto_ini: 134.41000366210938 ,indice_f: 59514 ,monto_fin: 133.50999450683594\n",
      "Procesando: 2025-02-11\n",
      "indice_i: 59515 ,monto_ini: 133.94500732421875 ,indice_f: 59521 ,monto_fin: 132.8699951171875\n",
      "Procesando: 2025-02-12\n",
      "indice_i: 59522 ,monto_ini: 131.32020568847656 ,indice_f: 59528 ,monto_fin: 131.07989501953125\n"
     ]
    },
    {
     "name": "stdout",
     "output_type": "stream",
     "text": [
      "posible caso: 59847 NVDA , fecha: 2025-04-21 00:00:00\n",
      "posible caso: 60716 WMT , fecha: 2023-10-09 00:00:00\n",
      "posible caso: 60941 WMT , fecha: 2023-11-22 00:00:00\n",
      "Procesando: 2023-11-22\n",
      "indice_i: 60942 ,monto_ini: 51.630001068115234 ,indice_f: 60946 ,monto_fin: 51.54999923706055\n",
      "Procesando: 2023-11-24\n",
      "indice_i: 60947 ,monto_ini: 51.7391357421875 ,indice_f: 60949 ,monto_fin: 51.9666633605957\n",
      "Procesando: 2023-11-27\n",
      "indice_i: 60950 ,monto_ini: 52.40666580200195 ,indice_f: 60956 ,monto_fin: 52.25333023071289\n",
      "Procesando: 2023-11-28\n",
      "indice_i: 60957 ,monto_ini: 52.56333541870117 ,indice_f: 60963 ,monto_fin: 52.90133285522461\n",
      "Procesando: 2023-11-29\n",
      "indice_i: 60964 ,monto_ini: 52.04666519165039 ,indice_f: 60970 ,monto_fin: 52.02999877929688\n",
      "posible caso: 61141 WMT , fecha: 2024-01-05 00:00:00\n"
     ]
    },
    {
     "name": "stdout",
     "output_type": "stream",
     "text": [
      "posible caso: 63200 WMT , fecha: 2025-03-13 00:00:00\n",
      "posible caso: 63261 WMT , fecha: 2025-03-25 00:00:00\n",
      "posible caso: 63331 WMT , fecha: 2025-04-08 00:00:00\n",
      "Procesando: 2025-04-09\n",
      "indice_i: 63332 ,monto_ini: 84.61499786376953 ,indice_f: 63338 ,monto_fin: 89.61000061035156\n",
      "Procesando: 2025-04-10\n",
      "indice_i: 63339 ,monto_ini: 90.6500015258789 ,indice_f: 63345 ,monto_fin: 90.58000183105467\n",
      "Procesando: 2025-04-11\n",
      "indice_i: 63346 ,monto_ini: 90.66999816894533 ,indice_f: 63352 ,monto_fin: 92.76000213623048\n",
      "Procesando: 2025-04-14\n",
      "indice_i: 63353 ,monto_ini: 93.87000274658205 ,indice_f: 63359 ,monto_fin: 94.83499908447266\n",
      "Procesando: 2025-04-15\n",
      "indice_i: 63360 ,monto_ini: 95.55500030517578 ,indice_f: 63366 ,monto_fin: 93.98999786376952\n",
      "posible caso: 63740 BA , fecha: 2023-06-23 00:00:00\n",
      "Procesando: 2023-06-23\n",
      "indice_i: 63741 ,monto_ini: 204.6000061035156 ,indice_f: 63745 ,monto_fin: 205.42999267578125\n",
      "Procesando: 2023-06-26\n",
      "indice_i: 63746 ,monto_ini: 205.5 ,indice_f: 63752 ,monto_fin: 205.5500030517578\n",
      "Procesando: 2023-06-27\n",
      "indice_i: 63753 ,monto_ini: 207.15890502929688 ,indice_f: 63759 ,monto_fin: 209.44000244140625\n",
      "Procesando: 2023-06-28\n",
      "indice_i: 63760 ,monto_ini: 210.5399932861328 ,indice_f: 63766 ,monto_fin: 210.75\n",
      "Procesando: 2023-06-29\n",
      "indice_i: 63767 ,monto_ini: 212.8800048828125 ,indice_f: 63773 ,monto_fin: 211.8300018310547\n",
      "Procesando: 2023-06-30\n",
      "indice_i: 63774 ,monto_ini: 212.1750030517578 ,indice_f: 63780 ,monto_fin: 211.1499938964844\n",
      "Procesando: 2023-07-03\n",
      "indice_i: 63781 ,monto_ini: 211.1300048828125 ,indice_f: 63783 ,monto_fin: 212.0\n"
     ]
    },
    {
     "name": "stdout",
     "output_type": "stream",
     "text": [
      "posible caso: 64337 BA , fecha: 2023-10-25 00:00:00\n",
      "posible caso: 64343 BA , fecha: 2023-10-25 00:00:00\n",
      "posible caso: 64722 BA , fecha: 2024-01-16 00:00:00\n",
      "Procesando: 2024-01-16\n",
      "indice_i: 64723 ,monto_ini: 201.2174072265625 ,indice_f: 64724 ,monto_fin: 200.42999267578125\n",
      "Procesando: 2024-01-17\n",
      "indice_i: 64725 ,monto_ini: 203.9384002685547 ,indice_f: 64731 ,monto_fin: 203.1100006103516\n",
      "posible caso: 64792 BA , fecha: 2024-01-30 00:00:00\n",
      "Procesando: 2024-01-30\n",
      "indice_i: 64793 ,monto_ini: 199.7028961181641 ,indice_f: 64794 ,monto_fin: 200.4600067138672\n",
      "Procesando: 2024-01-31\n",
      "indice_i: 64795 ,monto_ini: 206.875 ,indice_f: 64801 ,monto_fin: 211.02999877929688\n",
      "Procesando: 2024-02-01\n",
      "indice_i: 64802 ,monto_ini: 209.0399932861328 ,indice_f: 64808 ,monto_fin: 209.8099975585937\n",
      "posible caso: 65019 BA , fecha: 2024-03-18 00:00:00\n",
      "Procesando: 2024-03-18\n",
      "indice_i: 65020 ,monto_ini: 180.4100036621093 ,indice_f: 65025 ,monto_fin: 179.9199981689453\n",
      "Procesando: 2024-03-19\n",
      "indice_i: 65026 ,monto_ini: 180.44000244140625 ,indice_f: 65032 ,monto_fin: 181.1000061035156\n",
      "Procesando: 2024-03-20\n",
      "indice_i: 65033 ,monto_ini: 184.22000122070312 ,indice_f: 65039 ,monto_fin: 187.7899932861328\n",
      "Procesando: 2024-03-21\n",
      "indice_i: 65040 ,monto_ini: 189.9140014648437 ,indice_f: 65046 ,monto_fin: 187.759994506836\n",
      "Procesando: 2024-03-22\n",
      "indice_i: 65047 ,monto_ini: 191.1699981689453 ,indice_f: 65053 ,monto_fin: 188.8500061035156\n",
      "posible caso: 65158 BA , fecha: 2024-04-15 00:00:00\n",
      "Procesando: 2024-04-16\n",
      "indice_i: 65159 ,monto_ini: 168.6999969482422 ,indice_f: 65165 ,monto_fin: 170.55999755859375\n",
      "Procesando: 2024-04-17\n",
      "indice_i: 65166 ,monto_ini: 169.52999877929688 ,indice_f: 65172 ,monto_fin: 170.16000366210938\n"
     ]
    },
    {
     "name": "stdout",
     "output_type": "stream",
     "text": [
      "posible caso: 65307 BA , fecha: 2024-05-15 00:00:00\n",
      "Procesando: 2024-05-15\n",
      "indice_i: 65308 ,monto_ini: 178.14500427246094 ,indice_f: 65312 ,monto_fin: 177.0399932861328\n",
      "Procesando: 2024-05-16\n",
      "indice_i: 65313 ,monto_ini: 183.15109252929688 ,indice_f: 65319 ,monto_fin: 182.97999572753903\n",
      "Procesando: 2024-05-17\n",
      "indice_i: 65320 ,monto_ini: 182.7100067138672 ,indice_f: 65326 ,monto_fin: 185.0599975585937\n",
      "posible caso: 65375 BA , fecha: 2024-05-29 00:00:00\n",
      "Procesando: 2024-05-30\n",
      "indice_i: 65376 ,monto_ini: 173.39500427246094 ,indice_f: 65382 ,monto_fin: 172.75\n",
      "Procesando: 2024-05-31\n",
      "indice_i: 65383 ,monto_ini: 173.5399932861328 ,indice_f: 65389 ,monto_fin: 177.67999267578125\n",
      "Procesando: 2024-06-03\n",
      "indice_i: 65390 ,monto_ini: 182.5 ,indice_f: 65396 ,monto_fin: 184.88999938964844\n",
      "Procesando: 2024-06-04\n",
      "indice_i: 65397 ,monto_ini: 186.58999633789065 ,indice_f: 65403 ,monto_fin: 188.6199951171875\n",
      "Procesando: 2024-06-05\n",
      "indice_i: 65404 ,monto_ini: 187.8500061035156 ,indice_f: 65410 ,monto_fin: 189.8999938964844\n",
      "posible caso: 65621 BA , fecha: 2024-07-22 00:00:00\n",
      "Procesando: 2024-07-22\n",
      "indice_i: 65622 ,monto_ini: 178.4600067138672 ,indice_f: 65623 ,monto_fin: 178.89999389648438\n",
      "Procesando: 2024-07-23\n",
      "indice_i: 65624 ,monto_ini: 181.3600006103516 ,indice_f: 65630 ,monto_fin: 186.47000122070312\n",
      "Procesando: 2024-07-24\n",
      "indice_i: 65631 ,monto_ini: 182.6999969482422 ,indice_f: 65637 ,monto_fin: 180.05999755859375\n",
      "posible caso: 65707 BA , fecha: 2024-08-07 00:00:00\n",
      "Procesando: 2024-08-08\n",
      "indice_i: 65708 ,monto_ini: 167.5084991455078 ,indice_f: 65714 ,monto_fin: 168.94000244140625\n",
      "Procesando: 2024-08-09\n",
      "indice_i: 65715 ,monto_ini: 167.7790069580078 ,indice_f: 65721 ,monto_fin: 167.91000366210938\n",
      "posible caso: 66019 BA , fecha: 2024-10-10 00:00:00\n",
      "Procesando: 2024-10-10\n",
      "indice_i: 66020 ,monto_ini: 146.83999633789062 ,indice_f: 66022 ,monto_fin: 146.6699981689453\n",
      "Procesando: 2024-10-11\n",
      "indice_i: 66023 ,monto_ini: 149.33700561523438 ,indice_f: 66029 ,monto_fin: 151.03250122070312\n",
      "Procesando: 2024-10-14\n",
      "indice_i: 66030 ,monto_ini: 147.3699951171875 ,indice_f: 66036 ,monto_fin: 149.0449981689453\n"
     ]
    },
    {
     "name": "stdout",
     "output_type": "stream",
     "text": [
      "posible caso: 66193 BA , fecha: 2024-11-14 00:00:00\n",
      "posible caso: 66298 BA , fecha: 2024-12-06 00:00:00\n",
      "Procesando: 2024-12-09\n",
      "indice_i: 66299 ,monto_ini: 159.42999267578125 ,indice_f: 66305 ,monto_fin: 157.1699981689453\n",
      "Procesando: 2024-12-10\n",
      "indice_i: 66306 ,monto_ini: 164.28500366210938 ,indice_f: 66312 ,monto_fin: 164.14999389648438\n",
      "Procesando: 2024-12-11\n",
      "indice_i: 66313 ,monto_ini: 167.5850067138672 ,indice_f: 66319 ,monto_fin: 165.97000122070312\n",
      "posible caso: 66469 BA , fecha: 2025-01-15 00:00:00\n",
      "Procesando: 2025-01-16\n",
      "indice_i: 66470 ,monto_ini: 170.38999938964844 ,indice_f: 66476 ,monto_fin: 168.8800048828125\n",
      "Procesando: 2025-01-17\n",
      "indice_i: 66477 ,monto_ini: 170.8800048828125 ,indice_f: 66483 ,monto_fin: 171.0500030517578\n",
      "Procesando: 2025-01-21\n",
      "indice_i: 66484 ,monto_ini: 175.19000244140625 ,indice_f: 66490 ,monto_fin: 175.50999450683594\n",
      "Procesando: 2025-01-22\n",
      "indice_i: 66491 ,monto_ini: 175.10000610351562 ,indice_f: 66497 ,monto_fin: 174.8000030517578\n",
      "posible caso: 66848 BA , fecha: 2025-04-04 00:00:00\n",
      "posible caso: 67277 DIS , fecha: 2023-06-23 00:00:00\n",
      "Procesando: 2023-06-23\n",
      "indice_i: 67278 ,monto_ini: 88.18910217285156 ,indice_f: 67282 ,monto_fin: 88.11000061035156\n",
      "Procesando: 2023-06-26\n",
      "indice_i: 67283 ,monto_ini: 88.58999633789062 ,indice_f: 67289 ,monto_fin: 88.70999908447266\n",
      "Procesando: 2023-06-27\n",
      "indice_i: 67290 ,monto_ini: 89.01020050048828 ,indice_f: 67296 ,monto_fin: 89.05000305175781\n",
      "Procesando: 2023-06-28\n",
      "indice_i: 67297 ,monto_ini: 88.9999008178711 ,indice_f: 67303 ,monto_fin: 88.83999633789062\n"
     ]
    },
    {
     "name": "stdout",
     "output_type": "stream",
     "text": [
      "posible caso: 67381 DIS , fecha: 2023-07-17 00:00:00\n",
      "Procesando: 2023-07-17\n",
      "indice_i: 67382 ,monto_ini: 85.68499755859375 ,indice_f: 67383 ,monto_fin: 85.58000183105469\n",
      "Procesando: 2023-07-18\n",
      "indice_i: 67384 ,monto_ini: 86.63500213623047 ,indice_f: 67390 ,monto_fin: 85.97000122070312\n",
      "Procesando: 2023-07-19\n",
      "indice_i: 67391 ,monto_ini: 87.51000213623047 ,indice_f: 67397 ,monto_fin: 87.04000091552734\n",
      "Procesando: 2023-07-20\n",
      "indice_i: 67398 ,monto_ini: 86.3499984741211 ,indice_f: 67404 ,monto_fin: 86.18000030517578\n",
      "posible caso: 67439 DIS , fecha: 2023-07-27 00:00:00\n",
      "posible caso: 67579 DIS , fecha: 2023-08-24 00:00:00\n",
      "posible caso: 67638 DIS , fecha: 2023-09-07 00:00:00\n",
      "Procesando: 2023-09-07\n",
      "indice_i: 67639 ,monto_ini: 80.25499725341797 ,indice_f: 67642 ,monto_fin: 80.55999755859375\n",
      "Procesando: 2023-09-08\n",
      "indice_i: 67643 ,monto_ini: 81.15170288085938 ,indice_f: 67649 ,monto_fin: 81.58499908447266\n",
      "Procesando: 2023-09-11\n",
      "indice_i: 67650 ,monto_ini: 83.7300033569336 ,indice_f: 67656 ,monto_fin: 82.54000091552734\n",
      "Procesando: 2023-09-12\n",
      "indice_i: 67657 ,monto_ini: 83.26000213623047 ,indice_f: 67663 ,monto_fin: 83.68000030517578\n",
      "Procesando: 2023-09-13\n",
      "indice_i: 67664 ,monto_ini: 83.4010009765625 ,indice_f: 67670 ,monto_fin: 83.47000122070312\n",
      "posible caso: 67773 DIS , fecha: 2023-10-04 00:00:00\n",
      "Procesando: 2023-10-04\n",
      "indice_i: 67774 ,monto_ini: 79.21499633789062 ,indice_f: 67775 ,monto_fin: 79.30000305175781\n",
      "Procesando: 2023-10-05\n",
      "indice_i: 67776 ,monto_ini: 79.5 ,indice_f: 67782 ,monto_fin: 80.81999969482422\n",
      "Procesando: 2023-10-06\n",
      "indice_i: 67783 ,monto_ini: 81.4800033569336 ,indice_f: 67789 ,monto_fin: 82.93000030517578\n",
      "Procesando: 2023-10-09\n",
      "indice_i: 67790 ,monto_ini: 83.58000183105469 ,indice_f: 67796 ,monto_fin: 84.69999694824219\n",
      "Procesando: 2023-10-10\n",
      "indice_i: 67797 ,monto_ini: 84.77999877929688 ,indice_f: 67803 ,monto_fin: 84.98999786376953\n",
      "Procesando: 2023-10-11\n",
      "indice_i: 67804 ,monto_ini: 84.94999694824219 ,indice_f: 67810 ,monto_fin: 84.83999633789062\n",
      "posible caso: 67894 DIS , fecha: 2023-10-27 00:00:00\n"
     ]
    },
    {
     "name": "stdout",
     "output_type": "stream",
     "text": [
      "posible caso: 68068 DIS , fecha: 2023-12-05 00:00:00\n",
      "posible caso: 68234 DIS , fecha: 2024-01-10 00:00:00\n",
      "Procesando: 2024-01-10\n",
      "indice_i: 68235 ,monto_ini: 89.40499877929688 ,indice_f: 68240 ,monto_fin: 89.27999877929688\n",
      "Procesando: 2024-01-11\n",
      "indice_i: 68241 ,monto_ini: 88.99500274658203 ,indice_f: 68247 ,monto_fin: 89.44999694824219\n",
      "posible caso: 68844 DIS , fecha: 2024-05-15 00:00:00\n",
      "Procesando: 2024-05-15\n",
      "indice_i: 68845 ,monto_ini: 102.45999908447266 ,indice_f: 68849 ,monto_fin: 102.76000213623048\n",
      "Procesando: 2024-05-16\n",
      "indice_i: 68850 ,monto_ini: 103.56999969482422 ,indice_f: 68856 ,monto_fin: 103.41000366210938\n",
      "Procesando: 2024-05-17\n",
      "indice_i: 68857 ,monto_ini: 103.76000213623048 ,indice_f: 68863 ,monto_fin: 103.29499816894533\n",
      "Procesando: 2024-05-20\n",
      "indice_i: 68864 ,monto_ini: 102.9884033203125 ,indice_f: 68870 ,monto_fin: 102.94000244140624\n",
      "posible caso: 68889 DIS , fecha: 2024-05-23 00:00:00\n",
      "Procesando: 2024-05-23\n",
      "indice_i: 68890 ,monto_ini: 100.8000030517578 ,indice_f: 68891 ,monto_fin: 100.68000030517578\n",
      "Procesando: 2024-05-24\n",
      "indice_i: 68892 ,monto_ini: 101.69100189208984 ,indice_f: 68898 ,monto_fin: 101.73999786376952\n",
      "Procesando: 2024-05-28\n",
      "indice_i: 68899 ,monto_ini: 102.3499984741211 ,indice_f: 68905 ,monto_fin: 102.4499969482422\n",
      "Procesando: 2024-05-29\n",
      "indice_i: 68906 ,monto_ini: 101.62000274658205 ,indice_f: 68912 ,monto_fin: 100.87999725341795\n",
      "posible caso: 68993 DIS , fecha: 2024-06-14 00:00:00\n",
      "posible caso: 69108 DIS , fecha: 2024-07-11 00:00:00\n"
     ]
    },
    {
     "name": "stdout",
     "output_type": "stream",
     "text": [
      "posible caso: 69181 DIS , fecha: 2024-07-25 00:00:00\n",
      "posible caso: 69269 DIS , fecha: 2024-08-13 00:00:00\n",
      "posible caso: 69387 DIS , fecha: 2024-09-06 00:00:00\n",
      "Procesando: 2024-09-06\n",
      "indice_i: 69388 ,monto_ini: 87.98500061035156 ,indice_f: 69391 ,monto_fin: 87.9800033569336\n",
      "Procesando: 2024-09-09\n",
      "indice_i: 69392 ,monto_ini: 88.21810150146484 ,indice_f: 69398 ,monto_fin: 88.3499984741211\n",
      "Procesando: 2024-09-10\n",
      "indice_i: 69399 ,monto_ini: 88.05999755859375 ,indice_f: 69405 ,monto_fin: 88.4000015258789\n",
      "posible caso: 69537 DIS , fecha: 2024-10-07 00:00:00\n",
      "Procesando: 2024-10-07\n",
      "indice_i: 69538 ,monto_ini: 92.38999938964844 ,indice_f: 69538 ,monto_fin: 92.38999938964844\n",
      "Procesando: 2024-10-08\n",
      "indice_i: 69539 ,monto_ini: 92.83000183105467 ,indice_f: 69545 ,monto_fin: 92.51000213623048\n",
      "Procesando: 2024-10-09\n",
      "indice_i: 69546 ,monto_ini: 92.05999755859376 ,indice_f: 69552 ,monto_fin: 93.5999984741211\n",
      "posible caso: 69636 DIS , fecha: 2024-10-25 00:00:00\n",
      "Procesando: 2024-10-28\n",
      "indice_i: 69637 ,monto_ini: 95.97000122070312 ,indice_f: 69643 ,monto_fin: 96.25\n",
      "Procesando: 2024-10-29\n",
      "indice_i: 69644 ,monto_ini: 96.5114974975586 ,indice_f: 69650 ,monto_fin: 96.18000030517578\n",
      "Procesando: 2024-10-30\n",
      "indice_i: 69651 ,monto_ini: 96.37999725341795 ,indice_f: 69657 ,monto_fin: 95.08999633789062\n",
      "posible caso: 70275 DIS , fecha: 2025-03-13 00:00:00\n",
      "posible caso: 70405 DIS , fecha: 2025-04-08 00:00:00\n",
      "Procesando: 2025-04-09\n",
      "indice_i: 70406 ,monto_ini: 82.37999725341797 ,indice_f: 70412 ,monto_fin: 91.41000366210938\n",
      "Procesando: 2025-04-10\n",
      "indice_i: 70413 ,monto_ini: 85.94000244140625 ,indice_f: 70419 ,monto_fin: 85.19499969482422\n"
     ]
    },
    {
     "name": "stdout",
     "output_type": "stream",
     "text": [
      "posible caso: 70446 DIS , fecha: 2025-04-16 00:00:00\n",
      "Procesando: 2025-04-16\n",
      "indice_i: 70447 ,monto_ini: 82.7699966430664 ,indice_f: 70447 ,monto_fin: 82.7699966430664\n",
      "Procesando: 2025-04-17\n",
      "indice_i: 70448 ,monto_ini: 84.12999725341797 ,indice_f: 70454 ,monto_fin: 84.77999877929688\n",
      "Procesando: 2025-04-21\n",
      "indice_i: 70455 ,monto_ini: 83.08499908447266 ,indice_f: 70461 ,monto_fin: 83.96499633789062\n",
      "posible caso: 71444 CAT , fecha: 2023-10-31 00:00:00\n",
      "posible caso: 71494 CAT , fecha: 2023-11-09 00:00:00\n",
      "Procesando: 2023-11-10\n",
      "indice_i: 71495 ,monto_ini: 236.25 ,indice_f: 71501 ,monto_fin: 239.75\n",
      "Procesando: 2023-11-13\n",
      "indice_i: 71502 ,monto_ini: 240.2899932861328 ,indice_f: 71508 ,monto_fin: 241.69000244140625\n",
      "Procesando: 2023-11-14\n",
      "indice_i: 71509 ,monto_ini: 247.33059692382807 ,indice_f: 71515 ,monto_fin: 247.8699951171875\n",
      "Procesando: 2023-11-15\n",
      "indice_i: 71516 ,monto_ini: 251.1499938964844 ,indice_f: 71522 ,monto_fin: 251.1100006103516\n",
      "Procesando: 2023-11-16\n",
      "indice_i: 71523 ,monto_ini: 248.8600006103516 ,indice_f: 71529 ,monto_fin: 248.2100067138672\n",
      "posible caso: 71551 CAT , fecha: 2023-11-22 00:00:00\n",
      "Procesando: 2023-11-22\n",
      "indice_i: 71552 ,monto_ini: 246.07000732421875 ,indice_f: 71557 ,monto_fin: 246.02999877929688\n",
      "Procesando: 2023-11-24\n",
      "indice_i: 71558 ,monto_ini: 248.6000061035156 ,indice_f: 71560 ,monto_fin: 247.33999633789065\n",
      "Procesando: 2023-11-27\n",
      "indice_i: 71561 ,monto_ini: 247.57000732421875 ,indice_f: 71567 ,monto_fin: 247.38999938964844\n",
      "Procesando: 2023-11-28\n",
      "indice_i: 71568 ,monto_ini: 246.7949981689453 ,indice_f: 71574 ,monto_fin: 247.5200042724609\n",
      "posible caso: 71557 CAT , fecha: 2023-11-22 00:00:00\n",
      "Procesando: 2023-11-24\n",
      "indice_i: 71558 ,monto_ini: 248.6000061035156 ,indice_f: 71560 ,monto_fin: 247.33999633789065\n",
      "Procesando: 2023-11-27\n",
      "indice_i: 71561 ,monto_ini: 247.57000732421875 ,indice_f: 71567 ,monto_fin: 247.38999938964844\n",
      "Procesando: 2023-11-28\n",
      "indice_i: 71568 ,monto_ini: 246.7949981689453 ,indice_f: 71574 ,monto_fin: 247.5200042724609\n"
     ]
    },
    {
     "name": "stdout",
     "output_type": "stream",
     "text": [
      "posible caso: 72527 CAT , fecha: 2024-06-14 00:00:00\n",
      "Procesando: 2024-06-14\n",
      "indice_i: 72528 ,monto_ini: 320.0849914550781 ,indice_f: 72533 ,monto_fin: 321.5799865722656\n",
      "Procesando: 2024-06-17\n",
      "indice_i: 72534 ,monto_ini: 320.5 ,indice_f: 72540 ,monto_fin: 322.32000732421875\n",
      "posible caso: 72628 CAT , fecha: 2024-07-09 00:00:00\n",
      "Procesando: 2024-07-09\n",
      "indice_i: 72629 ,monto_ini: 327.04998779296875 ,indice_f: 72634 ,monto_fin: 326.0199890136719\n",
      "Procesando: 2024-07-10\n",
      "indice_i: 72635 ,monto_ini: 323.1400146484375 ,indice_f: 72641 ,monto_fin: 328.3900146484375\n",
      "posible caso: 72711 CAT , fecha: 2024-07-24 00:00:00\n",
      "posible caso: 72761 CAT , fecha: 2024-08-05 00:00:00\n",
      "Procesando: 2024-08-05\n",
      "indice_i: 72762 ,monto_ini: 316.7799987792969 ,indice_f: 72767 ,monto_fin: 316.7300109863281\n",
      "Procesando: 2024-08-06\n",
      "indice_i: 72768 ,monto_ini: 328.9742126464844 ,indice_f: 72774 ,monto_fin: 326.260009765625\n",
      "Procesando: 2024-08-07\n",
      "indice_i: 72775 ,monto_ini: 329.510009765625 ,indice_f: 72781 ,monto_fin: 325.5799865722656\n",
      "posible caso: 72767 CAT , fecha: 2024-08-05 00:00:00\n",
      "posible caso: 72852 CAT , fecha: 2024-08-22 00:00:00\n",
      "posible caso: 72858 CAT , fecha: 2024-08-22 00:00:00\n",
      "Procesando: 2024-08-23\n",
      "indice_i: 72859 ,monto_ini: 347.4200134277344 ,indice_f: 72865 ,monto_fin: 348.3599853515625\n",
      "Procesando: 2024-08-26\n",
      "indice_i: 72866 ,monto_ini: 353.8800048828125 ,indice_f: 72872 ,monto_fin: 351.4700012207031\n",
      "Procesando: 2024-08-27\n",
      "indice_i: 72873 ,monto_ini: 350.0450134277344 ,indice_f: 72879 ,monto_fin: 351.07000732421875\n",
      "posible caso: 72924 CAT , fecha: 2024-09-06 00:00:00\n",
      "Procesando: 2024-09-06\n",
      "indice_i: 72925 ,monto_ini: 329.79998779296875 ,indice_f: 72928 ,monto_fin: 329.4599914550781\n",
      "Procesando: 2024-09-09\n",
      "indice_i: 72929 ,monto_ini: 333.5799865722656 ,indice_f: 72935 ,monto_fin: 334.0599975585937\n",
      "Procesando: 2024-09-10\n",
      "indice_i: 72936 ,monto_ini: 332.1000061035156 ,indice_f: 72942 ,monto_fin: 334.0799865722656\n"
     ]
    },
    {
     "name": "stdout",
     "output_type": "stream",
     "text": [
      "posible caso: 73435 CAT , fecha: 2024-12-19 00:00:00\n",
      "posible caso: 73521 CAT , fecha: 2025-01-10 00:00:00\n",
      "posible caso: 73762 CAT , fecha: 2025-03-04 00:00:00\n",
      "Procesando: 2025-03-04\n",
      "indice_i: 73763 ,monto_ini: 325.4049987792969 ,indice_f: 73767 ,monto_fin: 326.739990234375\n",
      "Procesando: 2025-03-05\n",
      "indice_i: 73768 ,monto_ini: 334.5899963378906 ,indice_f: 73774 ,monto_fin: 338.45001220703125\n",
      "Procesando: 2025-03-06\n",
      "indice_i: 73775 ,monto_ini: 338.82501220703125 ,indice_f: 73781 ,monto_fin: 341.010009765625\n",
      "Procesando: 2025-03-07\n",
      "indice_i: 73782 ,monto_ini: 346.1499938964844 ,indice_f: 73788 ,monto_fin: 350.2900085449219\n",
      "Procesando: 2025-03-10\n",
      "indice_i: 73789 ,monto_ini: 346.9800109863281 ,indice_f: 73795 ,monto_fin: 345.25\n",
      "posible caso: 73815 CAT , fecha: 2025-03-13 00:00:00\n",
      "posible caso: 73995 CAT , fecha: 2025-04-21 00:00:00\n",
      "Procesando: 2025-04-21\n",
      "indice_i: 73996 ,monto_ini: 283.239990234375 ,indice_f: 73998 ,monto_fin: 284.75\n",
      "Procesando: 2025-04-22\n",
      "indice_i: 73999 ,monto_ini: 288.17999267578125 ,indice_f: 74005 ,monto_fin: 291.0199890136719\n",
      "Procesando: 2025-04-23\n",
      "indice_i: 74006 ,monto_ini: 302.4800109863281 ,indice_f: 74012 ,monto_fin: 295.57000732421875\n",
      "posible caso: 74151 CAT , fecha: 2025-05-21 00:00:00\n",
      "Procesando: 2025-05-21\n",
      "indice_i: 74152 ,monto_ini: 342.5 ,indice_f: 74152 ,monto_fin: 342.5\n",
      "Procesando: 2025-05-22\n",
      "indice_i: 74153 ,monto_ini: 342.8949890136719 ,indice_f: 74159 ,monto_fin: 345.07000732421875\n",
      "Procesando: 2025-05-23\n",
      "indice_i: 74160 ,monto_ini: 341.8450012207031 ,indice_f: 74166 ,monto_fin: 343.42999267578125\n",
      "posible caso: 74354 IBM , fecha: 2023-06-23 00:00:00\n",
      "Procesando: 2023-06-23\n",
      "indice_i: 74355 ,monto_ini: 129.44000244140625 ,indice_f: 74355 ,monto_fin: 129.44000244140625\n",
      "Procesando: 2023-06-26\n",
      "indice_i: 74356 ,monto_ini: 130.38499450683594 ,indice_f: 74362 ,monto_fin: 131.38999938964844\n",
      "Procesando: 2023-06-27\n",
      "indice_i: 74363 ,monto_ini: 131.52000427246094 ,indice_f: 74369 ,monto_fin: 132.33999633789062\n",
      "Procesando: 2023-06-28\n",
      "indice_i: 74370 ,monto_ini: 131.2899932861328 ,indice_f: 74376 ,monto_fin: 131.80999755859375\n"
     ]
    },
    {
     "name": "stdout",
     "output_type": "stream",
     "text": [
      "posible caso: 74933 IBM , fecha: 2023-10-23 00:00:00\n",
      "posible caso: 75846 IBM , fecha: 2024-05-01 00:00:00\n",
      "Procesando: 2024-05-01\n",
      "indice_i: 75847 ,monto_ini: 165.85000610351562 ,indice_f: 75852 ,monto_fin: 164.36000061035156\n",
      "Procesando: 2024-05-02\n",
      "indice_i: 75853 ,monto_ini: 163.13999938964844 ,indice_f: 75859 ,monto_fin: 164.7100067138672\n",
      "posible caso: 76002 IBM , fecha: 2024-06-03 00:00:00\n",
      "posible caso: 76123 IBM , fecha: 2024-06-27 00:00:00\n",
      "posible caso: 77551 IBM , fecha: 2025-04-24 00:00:00\n",
      "Procesando: 2025-04-24\n",
      "indice_i: 77552 ,monto_ini: 227.8710021972656 ,indice_f: 77555 ,monto_fin: 229.2198028564453\n",
      "Procesando: 2025-04-25\n",
      "indice_i: 77556 ,monto_ini: 228.3300018310547 ,indice_f: 77562 ,monto_fin: 232.3999938964844\n",
      "posible caso: 78190 WFC , fecha: 2023-08-25 00:00:00\n"
     ]
    },
    {
     "name": "stdout",
     "output_type": "stream",
     "text": [
      "posible caso: 78249 WFC , fecha: 2023-09-07 00:00:00\n",
      "posible caso: 78503 WFC , fecha: 2023-10-27 00:00:00\n",
      "posible caso: 78564 WFC , fecha: 2023-11-09 00:00:00\n",
      "Procesando: 2023-11-09\n",
      "indice_i: 78565 ,monto_ini: 40.32500076293945 ,indice_f: 78566 ,monto_fin: 40.400001525878906\n",
      "Procesando: 2023-11-10\n",
      "indice_i: 78567 ,monto_ini: 40.494998931884766 ,indice_f: 78573 ,monto_fin: 40.88999938964844\n",
      "Procesando: 2023-11-13\n",
      "indice_i: 78574 ,monto_ini: 40.8650016784668 ,indice_f: 78580 ,monto_fin: 40.76499938964844\n",
      "posible caso: 79721 WFC , fecha: 2024-07-12 00:00:00\n",
      "Procesando: 2024-07-12\n",
      "indice_i: 79722 ,monto_ini: 56.03499984741211 ,indice_f: 79727 ,monto_fin: 56.61000061035156\n",
      "Procesando: 2024-07-15\n",
      "indice_i: 79728 ,monto_ini: 57.85499954223633 ,indice_f: 79734 ,monto_fin: 57.7400016784668\n",
      "Procesando: 2024-07-16\n",
      "indice_i: 79735 ,monto_ini: 59.125 ,indice_f: 79741 ,monto_fin: 60.2400016784668\n",
      "Procesando: 2024-07-17\n",
      "indice_i: 79742 ,monto_ini: 60.52999877929688 ,indice_f: 79748 ,monto_fin: 60.90999984741211\n",
      "Procesando: 2024-07-18\n",
      "indice_i: 79749 ,monto_ini: 60.68000030517578 ,indice_f: 79755 ,monto_fin: 59.2400016784668\n",
      "posible caso: 79833 WFC , fecha: 2024-08-05 00:00:00\n",
      "Procesando: 2024-08-05\n",
      "indice_i: 79834 ,monto_ini: 51.584999084472656 ,indice_f: 79839 ,monto_fin: 52.130001068115234\n",
      "Procesando: 2024-08-06\n",
      "indice_i: 79840 ,monto_ini: 52.80500030517578 ,indice_f: 79846 ,monto_fin: 52.31499862670898\n",
      "Procesando: 2024-08-07\n",
      "indice_i: 79847 ,monto_ini: 52.869998931884766 ,indice_f: 79853 ,monto_fin: 52.29999923706055\n"
     ]
    },
    {
     "name": "stdout",
     "output_type": "stream",
     "text": [
      "posible caso: 80027 WFC , fecha: 2024-09-12 00:00:00\n",
      "Procesando: 2024-09-12\n",
      "indice_i: 80028 ,monto_ini: 51.570098876953125 ,indice_f: 80028 ,monto_fin: 51.570098876953125\n",
      "Procesando: 2024-09-13\n",
      "indice_i: 80029 ,monto_ini: 52.6150016784668 ,indice_f: 80035 ,monto_fin: 52.790000915527344\n",
      "Procesando: 2024-09-16\n",
      "indice_i: 80036 ,monto_ini: 53.30500030517578 ,indice_f: 80042 ,monto_fin: 53.81999969482422\n",
      "Procesando: 2024-09-17\n",
      "indice_i: 80043 ,monto_ini: 54.810001373291016 ,indice_f: 80049 ,monto_fin: 54.540000915527344\n",
      "Procesando: 2024-09-18\n",
      "indice_i: 80050 ,monto_ini: 54.61360168457031 ,indice_f: 80056 ,monto_fin: 54.25\n",
      "posible caso: 80085 WFC , fecha: 2024-09-25 00:00:00\n",
      "Procesando: 2024-09-25\n",
      "indice_i: 80086 ,monto_ini: 53.579200744628906 ,indice_f: 80091 ,monto_fin: 53.61000061035156\n",
      "Procesando: 2024-09-26\n",
      "indice_i: 80092 ,monto_ini: 55.78499984741211 ,indice_f: 80098 ,monto_fin: 56.38999938964844\n",
      "Procesando: 2024-09-27\n",
      "indice_i: 80099 ,monto_ini: 56.27999877929688 ,indice_f: 80105 ,monto_fin: 55.88999938964844\n",
      "posible caso: 80127 WFC , fecha: 2024-10-03 00:00:00\n",
      "Procesando: 2024-10-03\n",
      "indice_i: 80128 ,monto_ini: 54.90999984741211 ,indice_f: 80133 ,monto_fin: 54.9900016784668\n",
      "Procesando: 2024-10-04\n",
      "indice_i: 80134 ,monto_ini: 56.619998931884766 ,indice_f: 80140 ,monto_fin: 56.95000076293945\n",
      "Procesando: 2024-10-07\n",
      "indice_i: 80141 ,monto_ini: 57.34000015258789 ,indice_f: 80147 ,monto_fin: 57.16999816894531\n",
      "posible caso: 81232 WFC , fecha: 2025-05-23 00:00:00\n",
      "Procesando: 2025-05-23\n",
      "indice_i: 81233 ,monto_ini: 72.56500244140625 ,indice_f: 81238 ,monto_fin: 72.83999633789062\n",
      "Procesando: 2025-05-27\n",
      "indice_i: 81239 ,monto_ini: 73.37000274658203 ,indice_f: 81245 ,monto_fin: 73.98500061035156\n",
      "Procesando: 2025-05-28\n",
      "indice_i: 81246 ,monto_ini: 73.78829956054688 ,indice_f: 81252 ,monto_fin: 73.70999908447266\n"
     ]
    },
    {
     "name": "stdout",
     "output_type": "stream",
     "text": [
      "posible caso: 81876 PLTR , fecha: 2023-09-26 00:00:00\n",
      "posible caso: 82042 PLTR , fecha: 2023-10-30 00:00:00\n",
      "Procesando: 2023-10-30\n",
      "indice_i: 82043 ,monto_ini: 14.725000381469728 ,indice_f: 82045 ,monto_fin: 14.6899995803833\n",
      "Procesando: 2023-10-31\n",
      "indice_i: 82046 ,monto_ini: 14.90999984741211 ,indice_f: 82052 ,monto_fin: 14.809000015258787\n",
      "Procesando: 2023-11-01\n",
      "indice_i: 82053 ,monto_ini: 14.718799591064451 ,indice_f: 82059 ,monto_fin: 14.9399995803833\n",
      "posible caso: 82359 PLTR , fecha: 2024-01-05 00:00:00\n",
      "posible caso: 82971 PLTR , fecha: 2024-05-10 00:00:00\n",
      "Procesando: 2024-05-10\n",
      "indice_i: 82972 ,monto_ini: 20.604999542236328 ,indice_f: 82972 ,monto_fin: 20.604999542236328\n",
      "Procesando: 2024-05-13\n",
      "indice_i: 82973 ,monto_ini: 20.940000534057617 ,indice_f: 82979 ,monto_fin: 20.93000030517578\n",
      "Procesando: 2024-05-14\n",
      "indice_i: 82980 ,monto_ini: 21.8700008392334 ,indice_f: 82986 ,monto_fin: 21.43829917907715\n",
      "Procesando: 2024-05-15\n",
      "indice_i: 82987 ,monto_ini: 21.20499992370605 ,indice_f: 82993 ,monto_fin: 21.674999237060547\n",
      "posible caso: 83034 PLTR , fecha: 2024-05-23 00:00:00\n",
      "Procesando: 2024-05-23\n",
      "indice_i: 83035 ,monto_ini: 20.729999542236328 ,indice_f: 83035 ,monto_fin: 20.729999542236328\n",
      "Procesando: 2024-05-24\n",
      "indice_i: 83036 ,monto_ini: 20.968700408935547 ,indice_f: 83042 ,monto_fin: 21.01499938964844\n",
      "Procesando: 2024-05-28\n",
      "indice_i: 83043 ,monto_ini: 20.96139907836914 ,indice_f: 83049 ,monto_fin: 21.049999237060547\n"
     ]
    },
    {
     "name": "stdout",
     "output_type": "stream",
     "text": [
      "posible caso: 83368 PLTR , fecha: 2024-08-05 00:00:00\n",
      "Procesando: 2024-08-05\n",
      "indice_i: 83369 ,monto_ini: 23.729999542236328 ,indice_f: 83374 ,monto_fin: 24.0900993347168\n",
      "Procesando: 2024-08-06\n",
      "indice_i: 83375 ,monto_ini: 26.424999237060547 ,indice_f: 83381 ,monto_fin: 26.59000015258789\n",
      "Procesando: 2024-08-07\n",
      "indice_i: 83382 ,monto_ini: 27.7450008392334 ,indice_f: 83388 ,monto_fin: 26.32999992370605\n",
      "posible caso: 85413 AMD , fecha: 2023-09-26 00:00:00\n",
      "Procesando: 2023-09-26\n",
      "indice_i: 85414 ,monto_ini: 95.95999908447266 ,indice_f: 85414 ,monto_fin: 95.95999908447266\n",
      "Procesando: 2023-09-27\n",
      "indice_i: 85415 ,monto_ini: 98.3584976196289 ,indice_f: 85421 ,monto_fin: 98.08499908447266\n",
      "Procesando: 2023-09-28\n",
      "indice_i: 85422 ,monto_ini: 101.19000244140624 ,indice_f: 85428 ,monto_fin: 102.77999877929688\n",
      "Procesando: 2023-09-29\n",
      "indice_i: 85429 ,monto_ini: 103.69000244140624 ,indice_f: 85435 ,monto_fin: 102.81999969482422\n",
      "posible caso: 85568 AMD , fecha: 2023-10-26 00:00:00\n",
      "Procesando: 2023-10-27\n",
      "indice_i: 85569 ,monto_ini: 95.91000366210938 ,indice_f: 85575 ,monto_fin: 96.4800033569336\n",
      "Procesando: 2023-10-30\n",
      "indice_i: 85576 ,monto_ini: 95.16999816894533 ,indice_f: 85582 ,monto_fin: 96.16999816894533\n"
     ]
    },
    {
     "name": "stdout",
     "output_type": "stream",
     "text": [
      "posible caso: 86516 AMD , fecha: 2024-05-13 00:00:00\n",
      "posible caso: 86570 AMD , fecha: 2024-05-23 00:00:00\n",
      "posible caso: 86688 AMD , fecha: 2024-06-18 00:00:00\n",
      "Procesando: 2024-06-18\n",
      "indice_i: 86689 ,monto_ini: 154.5500030517578 ,indice_f: 86691 ,monto_fin: 154.6199951171875\n",
      "Procesando: 2024-06-20\n",
      "indice_i: 86692 ,monto_ini: 163.6300048828125 ,indice_f: 86698 ,monto_fin: 161.77000427246094\n",
      "Procesando: 2024-06-21\n",
      "indice_i: 86699 ,monto_ini: 160.80499267578125 ,indice_f: 86705 ,monto_fin: 161.27000427246094\n",
      "posible caso: 86925 AMD , fecha: 2024-08-07 00:00:00\n",
      "Procesando: 2024-08-08\n",
      "indice_i: 86926 ,monto_ini: 133.52420043945312 ,indice_f: 86932 ,monto_fin: 136.39999389648438\n",
      "Procesando: 2024-08-09\n",
      "indice_i: 86933 ,monto_ini: 133.13999938964844 ,indice_f: 86939 ,monto_fin: 134.27999877929688\n",
      "posible caso: 87068 AMD , fecha: 2024-09-06 00:00:00\n",
      "Procesando: 2024-09-06\n",
      "indice_i: 87069 ,monto_ini: 133.44000244140625 ,indice_f: 87072 ,monto_fin: 134.39999389648438\n",
      "Procesando: 2024-09-09\n",
      "indice_i: 87073 ,monto_ini: 136.41029357910156 ,indice_f: 87079 ,monto_fin: 138.22999572753906\n",
      "Procesando: 2024-09-10\n",
      "indice_i: 87080 ,monto_ini: 139.2100067138672 ,indice_f: 87086 ,monto_fin: 142.85000610351562\n",
      "Procesando: 2024-09-11\n",
      "indice_i: 87087 ,monto_ini: 142.32000732421875 ,indice_f: 87093 ,monto_fin: 149.88999938964844\n",
      "posible caso: 87122 AMD , fecha: 2024-09-18 00:00:00\n",
      "Procesando: 2024-09-18\n",
      "indice_i: 87123 ,monto_ini: 149.80499267578125 ,indice_f: 87128 ,monto_fin: 148.3000030517578\n",
      "Procesando: 2024-09-19\n",
      "indice_i: 87129 ,monto_ini: 156.57000732421875 ,indice_f: 87135 ,monto_fin: 156.72999572753906\n",
      "Procesando: 2024-09-20\n",
      "indice_i: 87136 ,monto_ini: 154.77999877929688 ,indice_f: 87142 ,monto_fin: 155.97999572753906\n",
      "posible caso: 87128 AMD , fecha: 2024-09-18 00:00:00\n",
      "Procesando: 2024-09-19\n",
      "indice_i: 87129 ,monto_ini: 156.57000732421875 ,indice_f: 87135 ,monto_fin: 156.72999572753906\n",
      "Procesando: 2024-09-20\n",
      "indice_i: 87136 ,monto_ini: 154.77999877929688 ,indice_f: 87142 ,monto_fin: 155.97999572753906\n"
     ]
    },
    {
     "name": "stdout",
     "output_type": "stream",
     "text": [
      "posible caso: 87359 AMD , fecha: 2024-11-04 00:00:00\n",
      "Procesando: 2024-11-05\n",
      "indice_i: 87360 ,monto_ini: 141.99000549316406 ,indice_f: 87366 ,monto_fin: 141.8000030517578\n",
      "Procesando: 2024-11-06\n",
      "indice_i: 87367 ,monto_ini: 143.50999450683594 ,indice_f: 87373 ,monto_fin: 145.07000732421875\n",
      "Procesando: 2024-11-07\n",
      "indice_i: 87374 ,monto_ini: 148.5 ,indice_f: 87380 ,monto_fin: 149.8699951171875\n",
      "Procesando: 2024-11-08\n",
      "indice_i: 87381 ,monto_ini: 150.10000610351562 ,indice_f: 87387 ,monto_fin: 148.0\n",
      "posible caso: 87420 AMD , fecha: 2024-11-15 00:00:00\n",
      "posible caso: 87473 AMD , fecha: 2024-11-27 00:00:00\n",
      "Procesando: 2024-11-27\n",
      "indice_i: 87474 ,monto_ini: 133.5406036376953 ,indice_f: 87478 ,monto_fin: 136.24000549316406\n",
      "Procesando: 2024-11-29\n",
      "indice_i: 87479 ,monto_ini: 137.76499938964844 ,indice_f: 87481 ,monto_fin: 137.42999267578125\n",
      "Procesando: 2024-12-02\n",
      "indice_i: 87482 ,monto_ini: 140.93800354003906 ,indice_f: 87488 ,monto_fin: 142.10000610351562\n",
      "Procesando: 2024-12-03\n",
      "indice_i: 87489 ,monto_ini: 141.57000732421875 ,indice_f: 87495 ,monto_fin: 142.0\n",
      "posible caso: 87579 AMD , fecha: 2024-12-19 00:00:00\n",
      "posible caso: 87662 AMD , fecha: 2025-01-10 00:00:00\n",
      "Procesando: 2025-01-10\n",
      "indice_i: 87663 ,monto_ini: 115.8936004638672 ,indice_f: 87666 ,monto_fin: 115.97000122070312\n",
      "Procesando: 2025-01-13\n",
      "indice_i: 87667 ,monto_ini: 115.25499725341795 ,indice_f: 87673 ,monto_fin: 117.3499984741211\n",
      "posible caso: 87738 AMD , fecha: 2025-01-28 00:00:00\n",
      "posible caso: 87795 AMD , fecha: 2025-02-07 00:00:00\n"
     ]
    },
    {
     "name": "stdout",
     "output_type": "stream",
     "text": [
      "posible caso: 88086 AMD , fecha: 2025-04-08 00:00:00\n",
      "Procesando: 2025-04-09\n",
      "indice_i: 88087 ,monto_ini: 82.77999877929688 ,indice_f: 88093 ,monto_fin: 96.72000122070312\n",
      "Procesando: 2025-04-10\n",
      "indice_i: 88094 ,monto_ini: 90.0749969482422 ,indice_f: 88100 ,monto_fin: 88.66999816894531\n",
      "posible caso: 88139 AMD , fecha: 2025-04-21 00:00:00\n",
      "posible caso: 88304 AMD , fecha: 2025-05-23 00:00:00\n",
      "Procesando: 2025-05-23\n",
      "indice_i: 88305 ,monto_ini: 109.41000366210938 ,indice_f: 88310 ,monto_fin: 110.33999633789062\n",
      "Procesando: 2025-05-27\n",
      "indice_i: 88311 ,monto_ini: 114.62249755859376 ,indice_f: 88317 ,monto_fin: 114.5500030517578\n",
      "Procesando: 2025-05-28\n",
      "indice_i: 88318 ,monto_ini: 113.9499969482422 ,indice_f: 88324 ,monto_fin: 112.87000274658205\n",
      "posible caso: 88924 AVGO , fecha: 2023-09-21 00:00:00\n",
      "posible caso: 88985 AVGO , fecha: 2023-10-03 00:00:00\n",
      "posible caso: 89101 AVGO , fecha: 2023-10-26 00:00:00\n",
      "posible caso: 89941 AVGO , fecha: 2024-04-19 00:00:00\n",
      "posible caso: 90001 AVGO , fecha: 2024-05-02 00:00:00\n",
      "posible caso: 90462 AVGO , fecha: 2024-08-07 00:00:00\n",
      "Procesando: 2024-08-08\n",
      "indice_i: 90463 ,monto_ini: 143.4600067138672 ,indice_f: 90469 ,monto_fin: 145.74000549316406\n",
      "Procesando: 2024-08-09\n",
      "indice_i: 90470 ,monto_ini: 146.85000610351562 ,indice_f: 90476 ,monto_fin: 148.39999389648438\n",
      "Procesando: 2024-08-12\n",
      "indice_i: 90477 ,monto_ini: 149.4949951171875 ,indice_f: 90483 ,monto_fin: 148.7100067138672\n",
      "Procesando: 2024-08-13\n",
      "indice_i: 90484 ,monto_ini: 152.1999969482422 ,indice_f: 90490 ,monto_fin: 156.32000732421875\n",
      "Procesando: 2024-08-14\n",
      "indice_i: 90491 ,monto_ini: 156.1199951171875 ,indice_f: 90497 ,monto_fin: 157.58999633789062\n"
     ]
    },
    {
     "name": "stdout",
     "output_type": "stream",
     "text": [
      "posible caso: 91011 AVGO , fecha: 2024-11-27 00:00:00\n",
      "Procesando: 2024-11-27\n",
      "indice_i: 91012 ,monto_ini: 158.5449981689453 ,indice_f: 91015 ,monto_fin: 159.6999969482422\n",
      "Procesando: 2024-11-29\n",
      "indice_i: 91016 ,monto_ini: 161.86500549316406 ,indice_f: 91018 ,monto_fin: 161.8350067138672\n",
      "Procesando: 2024-12-02\n",
      "indice_i: 91019 ,monto_ini: 165.70339965820312 ,indice_f: 91025 ,monto_fin: 166.49000549316406\n",
      "Procesando: 2024-12-03\n",
      "indice_i: 91026 ,monto_ini: 167.51499938964844 ,indice_f: 91032 ,monto_fin: 168.16000366210938\n",
      "Procesando: 2024-12-04\n",
      "indice_i: 91033 ,monto_ini: 171.82000732421875 ,indice_f: 91039 ,monto_fin: 170.58999633789062\n",
      "posible caso: 91462 AVGO , fecha: 2025-03-06 00:00:00\n",
      "posible caso: 91516 AVGO , fecha: 2025-03-18 00:00:00\n",
      "Procesando: 2025-03-18\n",
      "indice_i: 91517 ,monto_ini: 188.2749938964844 ,indice_f: 91518 ,monto_fin: 188.75\n",
      "Procesando: 2025-03-19\n",
      "indice_i: 91519 ,monto_ini: 189.52999877929688 ,indice_f: 91525 ,monto_fin: 195.5599975585937\n",
      "Procesando: 2025-03-20\n",
      "indice_i: 91526 ,monto_ini: 192.8099975585937 ,indice_f: 91532 ,monto_fin: 190.4199981689453\n",
      "posible caso: 91605 AVGO , fecha: 2025-04-04 00:00:00\n",
      "posible caso: 91677 AVGO , fecha: 2025-04-21 00:00:00\n",
      "posible caso: 92026 HOOD , fecha: 2023-06-22 00:00:00\n",
      "Procesando: 2023-06-22\n",
      "indice_i: 92027 ,monto_ini: 9.372200012207031 ,indice_f: 92030 ,monto_fin: 9.454999923706056\n",
      "Procesando: 2023-06-23\n",
      "indice_i: 92031 ,monto_ini: 9.38889980316162 ,indice_f: 92037 ,monto_fin: 9.5\n",
      "posible caso: 92299 HOOD , fecha: 2023-08-17 00:00:00\n",
      "posible caso: 92649 HOOD , fecha: 2023-10-27 00:00:00\n",
      "posible caso: 92712 HOOD , fecha: 2023-11-09 00:00:00\n",
      "Procesando: 2023-11-10\n",
      "indice_i: 92713 ,monto_ini: 8.147500038146973 ,indice_f: 92719 ,monto_fin: 8.229999542236328\n",
      "Procesando: 2023-11-13\n",
      "indice_i: 92720 ,monto_ini: 8.229999542236328 ,indice_f: 92726 ,monto_fin: 8.3149995803833\n",
      "Procesando: 2023-11-14\n",
      "indice_i: 92727 ,monto_ini: 8.475000381469727 ,indice_f: 92733 ,monto_fin: 8.489999771118164\n",
      "Procesando: 2023-11-15\n",
      "indice_i: 92734 ,monto_ini: 8.569999694824219 ,indice_f: 92740 ,monto_fin: 8.322500228881836\n"
     ]
    },
    {
     "name": "stdout",
     "output_type": "stream",
     "text": [
      "posible caso: 93979 HOOD , fecha: 2024-08-05 00:00:00\n",
      "Procesando: 2024-08-05\n",
      "indice_i: 93980 ,monto_ini: 16.05500030517578 ,indice_f: 93985 ,monto_fin: 16.415000915527344\n",
      "Procesando: 2024-08-06\n",
      "indice_i: 93986 ,monto_ini: 16.8799991607666 ,indice_f: 93992 ,monto_fin: 17.200000762939453\n",
      "Procesando: 2024-08-07\n",
      "indice_i: 93993 ,monto_ini: 17.174999237060547 ,indice_f: 93999 ,monto_fin: 17.1200008392334\n",
      "posible caso: 94142 HOOD , fecha: 2024-09-06 00:00:00\n",
      "posible caso: 95013 HOOD , fecha: 2025-03-10 00:00:00\n",
      "posible caso: 95159 HOOD , fecha: 2025-04-08 00:00:00\n",
      "posible caso: 95213 HOOD , fecha: 2025-04-21 00:00:00\n",
      "Procesando: 2025-04-21\n",
      "indice_i: 95214 ,monto_ini: 39.60810089111328 ,indice_f: 95216 ,monto_fin: 39.86000061035156\n",
      "Procesando: 2025-04-22\n",
      "indice_i: 95217 ,monto_ini: 42.56999969482422 ,indice_f: 95223 ,monto_fin: 42.09000015258789\n",
      "Procesando: 2025-04-23\n",
      "indice_i: 95224 ,monto_ini: 46.4005012512207 ,indice_f: 95230 ,monto_fin: 44.650001525878906\n",
      "posible caso: 96251 MSTR , fecha: 2023-08-18 00:00:00\n",
      "Procesando: 2023-08-18\n",
      "indice_i: 96252 ,monto_ini: 33.0 ,indice_f: 96254 ,monto_fin: 32.83300018310547\n",
      "Procesando: 2023-08-21\n",
      "indice_i: 96255 ,monto_ini: 32.9005012512207 ,indice_f: 96261 ,monto_fin: 33.52300262451172\n",
      "Procesando: 2023-08-22\n",
      "indice_i: 96262 ,monto_ini: 33.71500015258789 ,indice_f: 96268 ,monto_fin: 32.970001220703125\n"
     ]
    },
    {
     "name": "stdout",
     "output_type": "stream",
     "text": [
      "posible caso: 96524 MSTR , fecha: 2023-10-13 00:00:00\n",
      "Procesando: 2023-10-13\n",
      "indice_i: 96525 ,monto_ini: 31.770000457763672 ,indice_f: 96527 ,monto_fin: 31.832000732421875\n",
      "Procesando: 2023-10-16\n",
      "indice_i: 96528 ,monto_ini: 34.3859977722168 ,indice_f: 96534 ,monto_fin: 32.5369987487793\n",
      "posible caso: 96997 MSTR , fecha: 2024-01-23 00:00:00\n",
      "Procesando: 2024-01-23\n",
      "indice_i: 96998 ,monto_ini: 45.23149871826172 ,indice_f: 96999 ,monto_fin: 45.11299896240234\n",
      "Procesando: 2024-01-24\n",
      "indice_i: 97000 ,monto_ini: 45.46870040893555 ,indice_f: 97006 ,monto_fin: 45.10599899291992\n",
      "Procesando: 2024-01-25\n",
      "indice_i: 97007 ,monto_ini: 45.041500091552734 ,indice_f: 97013 ,monto_fin: 45.80699920654297\n",
      "posible caso: 97780 MSTR , fecha: 2024-07-05 00:00:00\n",
      "Procesando: 2024-07-05\n",
      "indice_i: 97781 ,monto_ini: 127.23814392089844 ,indice_f: 97786 ,monto_fin: 128.24000549316406\n",
      "Procesando: 2024-07-08\n",
      "indice_i: 97787 ,monto_ini: 126.40000915527344 ,indice_f: 97793 ,monto_fin: 129.18600463867188\n",
      "posible caso: 97947 MSTR , fecha: 2024-08-07 00:00:00\n",
      "Procesando: 2024-08-08\n",
      "indice_i: 97948 ,monto_ini: 133.22999572753906 ,indice_f: 97954 ,monto_fin: 135.99000549316406\n",
      "Procesando: 2024-08-09\n",
      "indice_i: 97955 ,monto_ini: 133.72999572753906 ,indice_f: 97961 ,monto_fin: 135.32000732421875\n",
      "posible caso: 98094 MSTR , fecha: 2024-09-06 00:00:00\n",
      "Procesando: 2024-09-09\n",
      "indice_i: 98095 ,monto_ini: 120.72010040283205 ,indice_f: 98101 ,monto_fin: 124.83999633789062\n",
      "Procesando: 2024-09-10\n",
      "indice_i: 98102 ,monto_ini: 125.33000183105467 ,indice_f: 98108 ,monto_fin: 129.66000366210938\n",
      "Procesando: 2024-09-11\n",
      "indice_i: 98109 ,monto_ini: 123.20999908447266 ,indice_f: 98115 ,monto_fin: 129.3000030517578\n"
     ]
    },
    {
     "name": "stdout",
     "output_type": "stream",
     "text": [
      "posible caso: 98912 MSTR , fecha: 2025-02-27 00:00:00\n",
      "posible caso: 98959 MSTR , fecha: 2025-03-10 00:00:00\n",
      "posible caso: 99108 MSTR , fecha: 2025-04-08 00:00:00\n",
      "Procesando: 2025-04-09\n",
      "indice_i: 99109 ,monto_ini: 249.6959991455078 ,indice_f: 99115 ,monto_fin: 295.9200134277344\n",
      "Procesando: 2025-04-10\n",
      "indice_i: 99116 ,monto_ini: 277.7699890136719 ,indice_f: 99122 ,monto_fin: 272.1700134277344\n",
      "posible caso: 99478 UNH , fecha: 2023-06-14 00:00:00\n",
      "posible caso: 99609 UNH , fecha: 2023-07-13 00:00:00\n",
      "Procesando: 2023-07-14\n",
      "indice_i: 99610 ,monto_ini: 480.1099853515625 ,indice_f: 99616 ,monto_fin: 480.3599853515625\n",
      "Procesando: 2023-07-17\n",
      "indice_i: 99617 ,monto_ini: 481.8599853515625 ,indice_f: 99623 ,monto_fin: 483.9400024414063\n",
      "Procesando: 2023-07-18\n",
      "indice_i: 99624 ,monto_ini: 498.6000061035156 ,indice_f: 99630 ,monto_fin: 499.7799987792969\n",
      "Procesando: 2023-07-19\n",
      "indice_i: 99631 ,monto_ini: 510.6749877929688 ,indice_f: 99637 ,monto_fin: 503.6099853515625\n",
      "posible caso: 99857 UNH , fecha: 2023-09-01 00:00:00\n",
      "Procesando: 2023-09-01\n",
      "indice_i: 99858 ,monto_ini: 475.0 ,indice_f: 99861 ,monto_fin: 476.3900146484375\n",
      "Procesando: 2023-09-05\n",
      "indice_i: 99862 ,monto_ini: 482.8999938964844 ,indice_f: 99868 ,monto_fin: 480.8900146484375\n",
      "Procesando: 2023-09-06\n",
      "indice_i: 99869 ,monto_ini: 478.8999938964844 ,indice_f: 99875 ,monto_fin: 476.9200134277344\n"
     ]
    },
    {
     "name": "stdout",
     "output_type": "stream",
     "text": [
      "posible caso: 100546 UNH , fecha: 2024-01-25 00:00:00\n",
      "posible caso: 100594 UNH , fecha: 2024-02-05 00:00:00\n",
      "Procesando: 2024-02-05\n",
      "indice_i: 100595 ,monto_ini: 504.3949890136719 ,indice_f: 100599 ,monto_fin: 502.760009765625\n",
      "Procesando: 2024-02-06\n",
      "indice_i: 100600 ,monto_ini: 507.6799926757813 ,indice_f: 100606 ,monto_fin: 510.6199951171875\n",
      "Procesando: 2024-02-07\n",
      "indice_i: 100607 ,monto_ini: 518.5999755859375 ,indice_f: 100613 ,monto_fin: 519.469970703125\n",
      "Procesando: 2024-02-08\n",
      "indice_i: 100614 ,monto_ini: 521.6500244140625 ,indice_f: 100620 ,monto_fin: 520.0\n",
      "Procesando: 2024-02-09\n",
      "indice_i: 100621 ,monto_ini: 516.5599975585938 ,indice_f: 100627 ,monto_fin: 518.1099853515625\n",
      "posible caso: 100743 UNH , fecha: 2024-03-06 00:00:00\n",
      "Procesando: 2024-03-06\n",
      "indice_i: 100744 ,monto_ini: 471.5199890136719 ,indice_f: 100746 ,monto_fin: 472.7000122070313\n",
      "Procesando: 2024-03-07\n",
      "indice_i: 100747 ,monto_ini: 476.9400024414063 ,indice_f: 100753 ,monto_fin: 478.5700073242188\n",
      "Procesando: 2024-03-08\n",
      "indice_i: 100754 ,monto_ini: 475.8550109863281 ,indice_f: 100760 ,monto_fin: 476.55999755859375\n",
      "posible caso: 100927 UNH , fecha: 2024-04-12 00:00:00\n",
      "Procesando: 2024-04-12\n",
      "indice_i: 100928 ,monto_ini: 439.2000122070313 ,indice_f: 100928 ,monto_fin: 439.2000122070313\n",
      "Procesando: 2024-04-15\n",
      "indice_i: 100929 ,monto_ini: 445.260009765625 ,indice_f: 100935 ,monto_fin: 445.3900146484375\n",
      "Procesando: 2024-04-16\n",
      "indice_i: 100936 ,monto_ini: 471.6199951171875 ,indice_f: 100942 ,monto_fin: 469.010009765625\n",
      "Procesando: 2024-04-17\n",
      "indice_i: 100943 ,monto_ini: 478.5 ,indice_f: 100949 ,monto_fin: 478.510009765625\n",
      "Procesando: 2024-04-18\n",
      "indice_i: 100950 ,monto_ini: 499.2999877929688 ,indice_f: 100956 ,monto_fin: 493.1900024414063\n",
      "Procesando: 2024-04-19\n",
      "indice_i: 100957 ,monto_ini: 501.7200012207031 ,indice_f: 100963 ,monto_fin: 501.0\n",
      "Procesando: 2024-04-22\n",
      "indice_i: 100964 ,monto_ini: 496.9500122070313 ,indice_f: 100970 ,monto_fin: 491.3800048828125\n"
     ]
    },
    {
     "name": "stdout",
     "output_type": "stream",
     "text": [
      "posible caso: 101007 UNH , fecha: 2024-04-30 00:00:00\n",
      "posible caso: 101153 UNH , fecha: 2024-05-30 00:00:00\n",
      "Procesando: 2024-05-30\n",
      "indice_i: 101154 ,monto_ini: 482.2650146484375 ,indice_f: 101159 ,monto_fin: 481.25\n",
      "Procesando: 2024-05-31\n",
      "indice_i: 101160 ,monto_ini: 493.30999755859375 ,indice_f: 101166 ,monto_fin: 495.9200134277344\n",
      "Procesando: 2024-06-03\n",
      "indice_i: 101167 ,monto_ini: 497.6900024414063 ,indice_f: 101173 ,monto_fin: 497.5499877929688\n",
      "Procesando: 2024-06-04\n",
      "indice_i: 101174 ,monto_ini: 503.2926025390625 ,indice_f: 101180 ,monto_fin: 505.30999755859375\n",
      "Procesando: 2024-06-05\n",
      "indice_i: 101181 ,monto_ini: 499.5799865722656 ,indice_f: 101187 ,monto_fin: 503.2699890136719\n",
      "posible caso: 101159 UNH , fecha: 2024-05-30 00:00:00\n",
      "Procesando: 2024-05-31\n",
      "indice_i: 101160 ,monto_ini: 493.30999755859375 ,indice_f: 101166 ,monto_fin: 495.9200134277344\n",
      "Procesando: 2024-06-03\n",
      "indice_i: 101167 ,monto_ini: 497.6900024414063 ,indice_f: 101173 ,monto_fin: 497.5499877929688\n",
      "Procesando: 2024-06-04\n",
      "indice_i: 101174 ,monto_ini: 503.2926025390625 ,indice_f: 101180 ,monto_fin: 505.30999755859375\n",
      "Procesando: 2024-06-05\n",
      "indice_i: 101181 ,monto_ini: 499.5799865722656 ,indice_f: 101187 ,monto_fin: 503.2699890136719\n",
      "posible caso: 101249 UNH , fecha: 2024-06-18 00:00:00\n",
      "Procesando: 2024-06-18\n",
      "indice_i: 101250 ,monto_ini: 481.1300048828125 ,indice_f: 101250 ,monto_fin: 481.1300048828125\n",
      "Procesando: 2024-06-20\n",
      "indice_i: 101251 ,monto_ini: 481.1900024414063 ,indice_f: 101257 ,monto_fin: 484.6199951171875\n",
      "Procesando: 2024-06-21\n",
      "indice_i: 101258 ,monto_ini: 485.46429443359375 ,indice_f: 101264 ,monto_fin: 483.1600036621094\n"
     ]
    },
    {
     "name": "stdout",
     "output_type": "stream",
     "text": [
      "posible caso: 101814 UNH , fecha: 2024-10-15 00:00:00\n",
      "Procesando: 2024-10-15\n",
      "indice_i: 101815 ,monto_ini: 568.6649780273438 ,indice_f: 101820 ,monto_fin: 554.0800170898438\n",
      "Procesando: 2024-10-16\n",
      "indice_i: 101821 ,monto_ini: 571.22998046875 ,indice_f: 101827 ,monto_fin: 571.2100219726562\n",
      "Procesando: 2024-10-17\n",
      "indice_i: 101828 ,monto_ini: 562.1099853515625 ,indice_f: 101834 ,monto_fin: 566.280029296875\n",
      "posible caso: 101820 UNH , fecha: 2024-10-15 00:00:00\n",
      "Procesando: 2024-10-16\n",
      "indice_i: 101821 ,monto_ini: 571.22998046875 ,indice_f: 101827 ,monto_fin: 571.2100219726562\n",
      "Procesando: 2024-10-17\n",
      "indice_i: 101828 ,monto_ini: 562.1099853515625 ,indice_f: 101834 ,monto_fin: 566.280029296875\n",
      "posible caso: 101916 UNH , fecha: 2024-11-04 00:00:00\n",
      "posible caso: 102119 UNH , fecha: 2024-12-17 00:00:00\n",
      "Procesando: 2024-12-17\n",
      "indice_i: 102120 ,monto_ini: 483.0700073242188 ,indice_f: 102124 ,monto_fin: 485.4299926757813\n",
      "Procesando: 2024-12-18\n",
      "indice_i: 102125 ,monto_ini: 500.8599853515625 ,indice_f: 102131 ,monto_fin: 499.7200012207031\n",
      "Procesando: 2024-12-19\n",
      "indice_i: 102132 ,monto_ini: 493.0010070800781 ,indice_f: 102138 ,monto_fin: 489.05999755859375\n",
      "posible caso: 102190 UNH , fecha: 2025-01-02 00:00:00\n",
      "Procesando: 2025-01-03\n",
      "indice_i: 102191 ,monto_ini: 514.5650024414062 ,indice_f: 102197 ,monto_fin: 513.0\n",
      "Procesando: 2025-01-06\n",
      "indice_i: 102198 ,monto_ini: 514.5848999023438 ,indice_f: 102204 ,monto_fin: 513.780029296875\n",
      "posible caso: 102260 UNH , fecha: 2025-01-17 00:00:00\n",
      "Procesando: 2025-01-21\n",
      "indice_i: 102261 ,monto_ini: 520.4199829101562 ,indice_f: 102267 ,monto_fin: 524.8499755859375\n",
      "Procesando: 2025-01-22\n",
      "indice_i: 102268 ,monto_ini: 522.1683959960938 ,indice_f: 102274 ,monto_fin: 519.3200073242188\n",
      "posible caso: 102821 UNH , fecha: 2025-05-15 00:00:00\n",
      "posible caso: 102874 UNH , fecha: 2025-05-27 00:00:00\n",
      "Procesando: 2025-05-27\n",
      "indice_i: 102875 ,monto_ini: 292.9750061035156 ,indice_f: 102876 ,monto_fin: 295.010009765625\n",
      "Procesando: 2025-05-28\n",
      "indice_i: 102877 ,monto_ini: 302.3450012207031 ,indice_f: 102883 ,monto_fin: 298.010009765625\n",
      "Procesando: 2025-05-29\n",
      "indice_i: 102884 ,monto_ini: 299.17999267578125 ,indice_f: 102890 ,monto_fin: 298.25\n",
      "Procesando: 2025-05-30\n",
      "indice_i: 102891 ,monto_ini: 304.489990234375 ,indice_f: 102897 ,monto_fin: 301.3999938964844\n",
      "Procesando: 2025-06-02\n"
     ]
    },
    {
     "name": "stdout",
     "output_type": "stream",
     "text": [
      "indice_i: 102898 ,monto_ini: 311.42498779296875 ,indice_f: 102904 ,monto_fin: 304.7099914550781\n",
      "posible caso: 103665 GOOG , fecha: 2023-10-27 00:00:00\n",
      "Procesando: 2023-10-27\n",
      "indice_i: 103666 ,monto_ini: 123.13999938964844 ,indice_f: 103671 ,monto_fin: 123.38999938964844\n",
      "Procesando: 2023-10-30\n",
      "indice_i: 103672 ,monto_ini: 124.93000030517578 ,indice_f: 103678 ,monto_fin: 125.75\n",
      "Procesando: 2023-10-31\n",
      "indice_i: 103679 ,monto_ini: 125.3291015625 ,indice_f: 103685 ,monto_fin: 125.2750015258789\n",
      "posible caso: 103836 GOOG , fecha: 2023-12-04 00:00:00\n",
      "posible caso: 103895 GOOG , fecha: 2023-12-14 00:00:00\n",
      "posible caso: 104277 GOOG , fecha: 2024-03-06 00:00:00\n",
      "posible caso: 105008 GOOG , fecha: 2024-08-06 00:00:00\n",
      "Procesando: 2024-08-06\n",
      "indice_i: 105009 ,monto_ini: 160.2899932861328 ,indice_f: 105014 ,monto_fin: 160.47000122070312\n",
      "Procesando: 2024-08-07\n",
      "indice_i: 105015 ,monto_ini: 163.91000366210938 ,indice_f: 105021 ,monto_fin: 160.72000122070312\n",
      "posible caso: 105174 GOOG , fecha: 2024-09-09 00:00:00\n"
     ]
    },
    {
     "name": "stdout",
     "output_type": "stream",
     "text": [
      "posible caso: 105326 GOOG , fecha: 2024-10-09 00:00:00\n",
      "posible caso: 105548 GOOG , fecha: 2024-11-22 00:00:00\n",
      "posible caso: 106071 GOOG , fecha: 2025-03-18 00:00:00\n",
      "posible caso: 106182 GOOG , fecha: 2025-04-08 00:00:00\n",
      "Procesando: 2025-04-09\n",
      "indice_i: 106183 ,monto_ini: 147.44000244140625 ,indice_f: 106189 ,monto_fin: 161.1199951171875\n",
      "Procesando: 2025-04-10\n",
      "indice_i: 106190 ,monto_ini: 157.32000732421875 ,indice_f: 106196 ,monto_fin: 155.27000427246094\n",
      "posible caso: 106235 GOOG , fecha: 2025-04-21 00:00:00\n",
      "Procesando: 2025-04-21\n",
      "indice_i: 106236 ,monto_ini: 149.0500030517578 ,indice_f: 106238 ,monto_fin: 149.91000366210938\n",
      "Procesando: 2025-04-22\n",
      "indice_i: 106239 ,monto_ini: 152.01600646972656 ,indice_f: 106245 ,monto_fin: 153.86000061035156\n",
      "Procesando: 2025-04-23\n",
      "indice_i: 106246 ,monto_ini: 159.52879333496094 ,indice_f: 106252 ,monto_fin: 157.6300048828125\n",
      "posible caso: 106318 GOOG , fecha: 2025-05-07 00:00:00\n",
      "posible caso: 106448 GOOG , fecha: 2025-06-03 00:00:00\n",
      "posible caso: 107416 APP , fecha: 2023-12-12 00:00:00\n",
      "Procesando: 2023-12-12\n",
      "indice_i: 107417 ,monto_ini: 36.0 ,indice_f: 107421 ,monto_fin: 36.27999877929688\n",
      "Procesando: 2023-12-13\n",
      "indice_i: 107422 ,monto_ini: 36.79999923706055 ,indice_f: 107428 ,monto_fin: 37.93000030517578\n",
      "Procesando: 2023-12-14\n",
      "indice_i: 107429 ,monto_ini: 38.56999969482422 ,indice_f: 107435 ,monto_fin: 38.709999084472656\n",
      "Procesando: 2023-12-15\n",
      "indice_i: 107436 ,monto_ini: 39.5968017578125 ,indice_f: 107442 ,monto_fin: 39.95000076293945\n",
      "Procesando: 2023-12-18\n",
      "indice_i: 107443 ,monto_ini: 40.130001068115234 ,indice_f: 107449 ,monto_fin: 40.8650016784668\n",
      "Procesando: 2023-12-19\n",
      "indice_i: 107450 ,monto_ini: 44.0099983215332 ,indice_f: 107456 ,monto_fin: 43.619998931884766\n",
      "Procesando: 2023-12-20\n",
      "indice_i: 107457 ,monto_ini: 44.04999923706055 ,indice_f: 107463 ,monto_fin: 43.11000061035156\n"
     ]
    },
    {
     "name": "stdout",
     "output_type": "stream",
     "text": [
      "posible caso: 107533 APP , fecha: 2024-01-05 00:00:00\n",
      "posible caso: 108538 APP , fecha: 2024-08-05 00:00:00\n",
      "Procesando: 2024-08-05\n",
      "indice_i: 108539 ,monto_ini: 67.72000122070312 ,indice_f: 108544 ,monto_fin: 67.13999938964844\n",
      "Procesando: 2024-08-06\n",
      "indice_i: 108545 ,monto_ini: 69.12000274658203 ,indice_f: 108551 ,monto_fin: 69.0\n",
      "Procesando: 2024-08-07\n",
      "indice_i: 108552 ,monto_ini: 70.6050033569336 ,indice_f: 108558 ,monto_fin: 67.18000030517578\n",
      "posible caso: 108544 APP , fecha: 2024-08-05 00:00:00\n",
      "Procesando: 2024-08-06\n",
      "indice_i: 108545 ,monto_ini: 69.12000274658203 ,indice_f: 108551 ,monto_fin: 69.0\n",
      "Procesando: 2024-08-07\n",
      "indice_i: 108552 ,monto_ini: 70.6050033569336 ,indice_f: 108558 ,monto_fin: 67.18000030517578\n",
      "posible caso: 109570 APP , fecha: 2025-03-10 00:00:00\n",
      "posible caso: 109663 APP , fecha: 2025-03-27 00:00:00\n",
      "posible caso: 109703 APP , fecha: 2025-04-04 00:00:00\n",
      "posible caso: 109772 APP , fecha: 2025-04-21 00:00:00\n",
      "Procesando: 2025-04-21\n",
      "indice_i: 109773 ,monto_ini: 224.5 ,indice_f: 109775 ,monto_fin: 228.259994506836\n",
      "Procesando: 2025-04-22\n",
      "indice_i: 109776 ,monto_ini: 233.7516021728516 ,indice_f: 109782 ,monto_fin: 237.4900054931641\n",
      "Procesando: 2025-04-23\n",
      "indice_i: 109783 ,monto_ini: 264.4599914550781 ,indice_f: 109789 ,monto_fin: 252.1499938964844\n"
     ]
    },
    {
     "name": "stdout",
     "output_type": "stream",
     "text": [
      "posible caso: 110735 UBER , fecha: 2023-10-26 00:00:00\n",
      "Procesando: 2023-10-26\n",
      "indice_i: 110736 ,monto_ini: 40.65999984741211 ,indice_f: 110738 ,monto_fin: 40.630001068115234\n",
      "Procesando: 2023-10-27\n",
      "indice_i: 110739 ,monto_ini: 41.4900016784668 ,indice_f: 110745 ,monto_fin: 41.227500915527344\n",
      "Procesando: 2023-10-30\n",
      "indice_i: 110746 ,monto_ini: 42.22999954223633 ,indice_f: 110752 ,monto_fin: 42.72999954223633\n",
      "Procesando: 2023-10-31\n",
      "indice_i: 110753 ,monto_ini: 42.755001068115234 ,indice_f: 110759 ,monto_fin: 43.290000915527344\n",
      "Procesando: 2023-11-01\n",
      "indice_i: 110760 ,monto_ini: 43.71500015258789 ,indice_f: 110766 ,monto_fin: 43.84000015258789\n",
      "Procesando: 2023-11-02\n",
      "indice_i: 110767 ,monto_ini: 46.22499847412109 ,indice_f: 110773 ,monto_fin: 46.47999954223633\n",
      "Procesando: 2023-11-03\n",
      "indice_i: 110774 ,monto_ini: 47.47999954223633 ,indice_f: 110780 ,monto_fin: 47.75\n",
      "Procesando: 2023-11-06\n",
      "indice_i: 110781 ,monto_ini: 47.709999084472656 ,indice_f: 110787 ,monto_fin: 48.14500045776367\n",
      "posible caso: 111623 UBER , fecha: 2024-04-30 00:00:00\n",
      "posible caso: 111752 UBER , fecha: 2024-05-28 00:00:00\n",
      "posible caso: 112075 UBER , fecha: 2024-08-05 00:00:00\n",
      "Procesando: 2024-08-05\n",
      "indice_i: 112076 ,monto_ini: 57.619998931884766 ,indice_f: 112081 ,monto_fin: 58.4900016784668\n",
      "Procesando: 2024-08-06\n",
      "indice_i: 112082 ,monto_ini: 63.209999084472656 ,indice_f: 112088 ,monto_fin: 64.86000061035156\n",
      "Procesando: 2024-08-07\n",
      "indice_i: 112089 ,monto_ini: 67.70999908447266 ,indice_f: 112095 ,monto_fin: 65.56999969482422\n",
      "posible caso: 112270 UBER , fecha: 2024-09-12 00:00:00\n",
      "Procesando: 2024-09-13\n",
      "indice_i: 112271 ,monto_ini: 72.73500061035156 ,indice_f: 112277 ,monto_fin: 72.4800033569336\n",
      "Procesando: 2024-09-16\n",
      "indice_i: 112278 ,monto_ini: 71.68000030517578 ,indice_f: 112284 ,monto_fin: 71.51000213623047\n",
      "posible caso: 112512 UBER , fecha: 2024-10-31 00:00:00\n",
      "posible caso: 112721 UBER , fecha: 2024-12-13 00:00:00\n",
      "Procesando: 2024-12-16\n",
      "indice_i: 112722 ,monto_ini: 60.959999084472656 ,indice_f: 112728 ,monto_fin: 60.2400016784668\n",
      "Procesando: 2024-12-17\n",
      "indice_i: 112729 ,monto_ini: 60.06999969482422 ,indice_f: 112735 ,monto_fin: 61.040000915527344\n"
     ]
    },
    {
     "name": "stdout",
     "output_type": "stream",
     "text": [
      "posible caso: 112794 UBER , fecha: 2024-12-31 00:00:00\n",
      "Procesando: 2025-01-02\n",
      "indice_i: 112795 ,monto_ini: 62.709999084472656 ,indice_f: 112801 ,monto_fin: 63.18000030517578\n",
      "Procesando: 2025-01-03\n",
      "indice_i: 112802 ,monto_ini: 64.37000274658203 ,indice_f: 112808 ,monto_fin: 64.61000061035156\n",
      "Procesando: 2025-01-06\n",
      "indice_i: 112809 ,monto_ini: 66.85440063476562 ,indice_f: 112815 ,monto_fin: 66.33999633789062\n",
      "Procesando: 2025-01-07\n",
      "indice_i: 112816 ,monto_ini: 67.05000305175781 ,indice_f: 112822 ,monto_fin: 66.16000366210938\n",
      "posible caso: 112846 UBER , fecha: 2025-01-14 00:00:00\n",
      "Procesando: 2025-01-14\n",
      "indice_i: 112847 ,monto_ini: 65.11000061035156 ,indice_f: 112850 ,monto_fin: 64.83999633789062\n",
      "Procesando: 2025-01-15\n",
      "indice_i: 112851 ,monto_ini: 66.88999938964844 ,indice_f: 112857 ,monto_fin: 66.98999786376953\n",
      "Procesando: 2025-01-16\n",
      "indice_i: 112858 ,monto_ini: 68.56999969482422 ,indice_f: 112864 ,monto_fin: 68.5999984741211\n",
      "Procesando: 2025-01-17\n",
      "indice_i: 112865 ,monto_ini: 68.29632568359375 ,indice_f: 112871 ,monto_fin: 67.33000183105469\n",
      "posible caso: 112953 UBER , fecha: 2025-02-05 00:00:00\n",
      "posible caso: 113130 UBER , fecha: 2025-03-13 00:00:00\n",
      "Procesando: 2025-03-14\n",
      "indice_i: 113131 ,monto_ini: 70.81999969482422 ,indice_f: 113137 ,monto_fin: 71.53500366210938\n",
      "Procesando: 2025-03-17\n",
      "indice_i: 113138 ,monto_ini: 73.08999633789062 ,indice_f: 113144 ,monto_fin: 72.73500061035156\n",
      "Procesando: 2025-03-18\n",
      "indice_i: 113145 ,monto_ini: 70.88999938964844 ,indice_f: 113151 ,monto_fin: 71.55999755859375\n"
     ]
    }
   ],
   "source": [
    "#Posibles casos GAP\n",
    "df_casos = pd.DataFrame()\n",
    "caso = 0\n",
    "ticker2 = \"\"\n",
    "window=5\n",
    "backeval=75\n",
    "backevalTrend=0\n",
    "dfpl = pd.DataFrame\n",
    "trendH = []\n",
    "trendL = []\n",
    "cant = 0\n",
    "piso = 0\n",
    "for candle, row in df_hora_final.iterrows():    \n",
    "   #if (candle==118):\n",
    "    if((df_hora_final['pga'][candle]==1)): #posibles casos \n",
    "        ticker = df_hora_final['companyName'][candle]\n",
    "        #df_ticker=df_hora_final[(df_hora_final['companyName']==ticker) & (df_hora_final.index>=candle)].copy()\n",
    "        df_ticker = df_hora_final[(df_hora_final.companyName==ticker)].loc[candle-backeval:candle+backeval].copy()            \n",
    "        fechaini = df_hora_final['fecha'][candle]\n",
    "        print(\"posible caso:\",candle, df_hora_final['companyName'][candle], \", fecha:\", fechaini)\n",
    "        indice_ini =   candle + 1        \n",
    "        if indice_ini in df_ticker.index:\n",
    "            if ((df_ticker.loc[indice_ini,\"Low\"]>df_ticker.loc[candle,\"Low\"]) & (df_hora_final['Vela_Verde'][indice_ini]==True)):\n",
    "                #print(\"PASO\")\n",
    "                fechaini = df_hora_final['fecha'][indice_ini]\n",
    "                #print(fechaini)\n",
    "                #Si es verdadero seguir revisando las demas filas\n",
    "                df_ticker.loc[indice_ini,'indicador'] = 1\n",
    "                piso = df_hora_final.loc[indice_ini,\"Low\"]\n",
    "                #print(piso)\n",
    "                #revisar ultima vela del dia\n",
    "                #Generar fechas día a día entre el mínimo y el máximo\n",
    "                rango = pd.date_range(start=fechaini, end=df_ticker['fecha'].max(), freq='D')\n",
    "\n",
    "                #Recorrer cada día\n",
    "                for fecha in rango:                    \n",
    "                    if (df_ticker.query(\"fecha==@fecha\").shape[0]>0):\n",
    "                        print(f\"Procesando: {fecha.date()}\")\n",
    "                    \n",
    "                        if (fechaini==fecha):\n",
    "                            indice_i=indice_ini\n",
    "                        else:\n",
    "                            indice_i = df_ticker.query(\"fecha==@fecha\").index[0] #inicio\n",
    "\n",
    "                        indice_f = df_ticker.query(\"fecha==@fecha\").index[-1] #fin\n",
    "                        monto_ini = df_ticker['Close'][indice_i]\n",
    "                        monto_fin = df_ticker['Close'][indice_f]\n",
    "\n",
    "                        monto_ini2 = df_ticker['Low'][indice_i]\n",
    "                        monto_fin2 = df_ticker['Low'][indice_f]  \n",
    "                        \n",
    "                        print(\"indice_i:\",indice_i,\",monto_ini:\",monto_ini,\",indice_f:\",indice_f,\",monto_fin:\",monto_fin)\n",
    "\n",
    "                        #Validacion vela inicial mayor a vela\n",
    "                        ayer = fecha - timedelta(days=1)\n",
    "                        if ((df_ticker.query(\"fecha<@fecha\").shape[0]>0) & (fecha>fechaini)):\n",
    "                            indice_ayer = df_ticker.query(\"fecha<@fecha\").index[-1] #fin  \n",
    "                            monto_finayer = df_ticker['Close'][indice_ayer]\n",
    "                            monto_finayer2 = df_ticker['Low'][indice_ayer]\n",
    "                            if ((monto_finayer>monto_ini) & (monto_finayer2>monto_ini2)):\n",
    "                                df_ticker.loc[indice_ayer,'indicador'] = 2\n",
    "                                break\n",
    "                        \n",
    "                        if ((monto_ini > monto_fin) & (monto_ini2 > monto_fin2) & (fecha>fechaini)):\n",
    "                            df_ticker.loc[indice_f,'indicador'] = 2\n",
    "                            break\n",
    "                            \n",
    "                #INSERT CASO\n",
    "                df_ticker.loc[candle,'ind_posicion'] = 0\n",
    "                caso=caso+1                        \n",
    "                df_ticker[\"caso\"] = caso\n",
    "                #print(candle, df_ticker['companyName'][candle])\n",
    "                if len(df_casos)<1:\n",
    "                    df_casos = df_ticker\n",
    "                else:\n",
    "                    df_casos = pd.concat([df_casos, df_ticker],ignore_index=False)"
   ]
  },
  {
   "cell_type": "code",
   "execution_count": 13,
   "id": "dfc43935-ffa1-4f61-a2e1-393813ec572d",
   "metadata": {
    "execution": {
     "iopub.execute_input": "2025-06-11T19:53:36.041676Z",
     "iopub.status.busy": "2025-06-11T19:53:36.041448Z",
     "iopub.status.idle": "2025-06-11T19:53:36.594824Z",
     "shell.execute_reply": "2025-06-11T19:53:36.594214Z"
    },
    "papermill": {
     "duration": 0.563787,
     "end_time": "2025-06-11T19:53:36.595976",
     "exception": false,
     "start_time": "2025-06-11T19:53:36.032189",
     "status": "completed"
    },
    "tags": []
   },
   "outputs": [],
   "source": [
    "#descarga de informacion, estrategia: RUPTURA DEL CANAL BAJISTA\n",
    "path = 'data/pga.txt'\n",
    "# check whether the file exists\n",
    "if os.path.exists(path):\n",
    "    # delete the file\n",
    "    os.remove(path)\n",
    "else:\n",
    "    # if the file does not exist.\n",
    "    print(\"File does not exists. File needs to be created.\")\n",
    "\n",
    "#export DataFrame to text file\n",
    "with open(path, 'a') as f:\n",
    "    #df_string = appl_hor3.to_string(header=True, index=False, sep ='\\t')\n",
    "    df_casos.to_csv(path, header=True, index=None, sep='\\t', mode='w')\n",
    "    #f.write(df_string)"
   ]
  },
  {
   "cell_type": "markdown",
   "id": "261e87e2-fb58-479e-8acb-c88c3abe57bd",
   "metadata": {
    "papermill": {
     "duration": 0.008673,
     "end_time": "2025-06-11T19:53:36.614379",
     "exception": false,
     "start_time": "2025-06-11T19:53:36.605706",
     "status": "completed"
    },
    "tags": []
   },
   "source": [
    "BACKTESTING\n",
    "Usando paquete backtesting.py"
   ]
  },
  {
   "cell_type": "code",
   "execution_count": 14,
   "id": "268842a1-c40b-401f-b08c-ba69319bb96a",
   "metadata": {
    "execution": {
     "iopub.execute_input": "2025-06-11T19:53:36.633012Z",
     "iopub.status.busy": "2025-06-11T19:53:36.632597Z",
     "iopub.status.idle": "2025-06-11T19:53:36.639767Z",
     "shell.execute_reply": "2025-06-11T19:53:36.639291Z"
    },
    "papermill": {
     "duration": 0.017409,
     "end_time": "2025-06-11T19:53:36.640635",
     "exception": false,
     "start_time": "2025-06-11T19:53:36.623226",
     "status": "completed"
    },
    "tags": []
   },
   "outputs": [],
   "source": [
    "#df_casos[df_casos[\"indicador\"]>0]\n",
    "df_casos2 = df_casos.query(\"indicador>0\").copy()"
   ]
  },
  {
   "cell_type": "code",
   "execution_count": 15,
   "id": "0bd8cc41-6db5-43b8-8bdd-9afaad88e675",
   "metadata": {
    "execution": {
     "iopub.execute_input": "2025-06-11T19:53:36.661918Z",
     "iopub.status.busy": "2025-06-11T19:53:36.661503Z",
     "iopub.status.idle": "2025-06-11T19:53:36.695972Z",
     "shell.execute_reply": "2025-06-11T19:53:36.695402Z"
    },
    "papermill": {
     "duration": 0.045005,
     "end_time": "2025-06-11T19:53:36.697161",
     "exception": false,
     "start_time": "2025-06-11T19:53:36.652156",
     "status": "completed"
    },
    "tags": []
   },
   "outputs": [],
   "source": [
    "# =============== BACKTESTING ================= #\n",
    "# obteniendo dataframe backtesting\n",
    "df_backTesting = pd.merge(df_hora, df_casos2[['datetime','companyName', 'indicador','caso']], on = ['companyName','datetime'], how='left')\n",
    "# datos de trade se asigna una vela anterior debido a que backtesting.py toma entra como la siguiente vela\n",
    "df_backTesting['indicador'] = df_backTesting['indicador'].shift(-1)\n",
    "#modificamos indice con el compo datetime\n",
    "df_backTesting.set_index('datetime', inplace=True)"
   ]
  },
  {
   "cell_type": "code",
   "execution_count": 16,
   "id": "8b9cfc9a-b952-4d3b-b06d-d5cfc911bf4a",
   "metadata": {
    "execution": {
     "iopub.execute_input": "2025-06-11T19:53:36.716165Z",
     "iopub.status.busy": "2025-06-11T19:53:36.715973Z",
     "iopub.status.idle": "2025-06-11T19:53:36.719487Z",
     "shell.execute_reply": "2025-06-11T19:53:36.719029Z"
    },
    "papermill": {
     "duration": 0.013718,
     "end_time": "2025-06-11T19:53:36.720302",
     "exception": false,
     "start_time": "2025-06-11T19:53:36.706584",
     "status": "completed"
    },
    "tags": []
   },
   "outputs": [],
   "source": [
    "#Strategia\n",
    "class strategyPGA(Strategy):\n",
    "    def init(self):\n",
    "        self.indpga = self.I(lambda x: x, self.data.indicador) #Indica la señal entrada 1, salida 2\n",
    "    def next(self):\n",
    "        #print(self.data)\n",
    "        if self.indpga[-1] == 1:\n",
    "            self.buy()  #COMPRA\n",
    "        elif self.indpga[-1] == 2 and self.position:\n",
    "            self.position.close() #CIERRE"
   ]
  },
  {
   "cell_type": "code",
   "execution_count": 17,
   "id": "f0138ca3-40ac-49c8-aaca-67432063b811",
   "metadata": {
    "execution": {
     "iopub.execute_input": "2025-06-11T19:53:36.738795Z",
     "iopub.status.busy": "2025-06-11T19:53:36.738330Z",
     "iopub.status.idle": "2025-06-11T19:53:38.506588Z",
     "shell.execute_reply": "2025-06-11T19:53:38.506042Z"
    },
    "papermill": {
     "duration": 1.778224,
     "end_time": "2025-06-11T19:53:38.507415",
     "exception": false,
     "start_time": "2025-06-11T19:53:36.729191",
     "status": "completed"
    },
    "tags": []
   },
   "outputs": [
    {
     "name": "stderr",
     "output_type": "stream",
     "text": [
      "\r",
      "Backtest.run:   0%|          | 0/3002 [00:00<?, ?bar/s]"
     ]
    },
    {
     "name": "stderr",
     "output_type": "stream",
     "text": [
      "\r",
      "                                                       "
     ]
    },
    {
     "name": "stderr",
     "output_type": "stream",
     "text": [
      "\r"
     ]
    },
    {
     "name": "stderr",
     "output_type": "stream",
     "text": [
      "\r",
      "Backtest.run:   0%|          | 0/2879 [00:00<?, ?bar/s]"
     ]
    },
    {
     "name": "stderr",
     "output_type": "stream",
     "text": [
      "\r",
      "                                                       "
     ]
    },
    {
     "name": "stderr",
     "output_type": "stream",
     "text": [
      "\r"
     ]
    },
    {
     "name": "stderr",
     "output_type": "stream",
     "text": [
      "\r",
      "Backtest.run:   0%|          | 0/2546 [00:00<?, ?bar/s]"
     ]
    },
    {
     "name": "stderr",
     "output_type": "stream",
     "text": [
      "/usr/share/miniconda/envs/test/lib/python3.10/site-packages/backtesting/backtesting.py:954: UserWarning: time=1287: Broker canceled the relative-sized order due to insufficient margin.\n",
      "  warnings.warn(\n",
      "\r",
      "                                                       "
     ]
    },
    {
     "name": "stderr",
     "output_type": "stream",
     "text": [
      "\r"
     ]
    },
    {
     "name": "stderr",
     "output_type": "stream",
     "text": [
      "\r",
      "Backtest.run:   0%|          | 0/2880 [00:00<?, ?bar/s]"
     ]
    },
    {
     "name": "stderr",
     "output_type": "stream",
     "text": [
      "/usr/share/miniconda/envs/test/lib/python3.10/site-packages/backtesting/backtesting.py:954: UserWarning: time=1955: Broker canceled the relative-sized order due to insufficient margin.\n",
      "  warnings.warn(\n",
      "\r",
      "                                                       "
     ]
    },
    {
     "name": "stderr",
     "output_type": "stream",
     "text": [
      "\r"
     ]
    },
    {
     "name": "stderr",
     "output_type": "stream",
     "text": [
      "\r",
      "Backtest.run:   0%|          | 0/2919 [00:00<?, ?bar/s]"
     ]
    },
    {
     "name": "stderr",
     "output_type": "stream",
     "text": [
      "\r",
      "                                                       "
     ]
    },
    {
     "name": "stderr",
     "output_type": "stream",
     "text": [
      "\r"
     ]
    },
    {
     "name": "stderr",
     "output_type": "stream",
     "text": [
      "\r",
      "Backtest.run:   0%|          | 0/3486 [00:00<?, ?bar/s]"
     ]
    },
    {
     "name": "stderr",
     "output_type": "stream",
     "text": [
      "\r",
      "                                                       "
     ]
    },
    {
     "name": "stderr",
     "output_type": "stream",
     "text": [
      "\r"
     ]
    },
    {
     "name": "stderr",
     "output_type": "stream",
     "text": [
      "\r",
      "Backtest.run:   0%|          | 0/3026 [00:00<?, ?bar/s]"
     ]
    },
    {
     "name": "stderr",
     "output_type": "stream",
     "text": [
      "\r",
      "                                                       "
     ]
    },
    {
     "name": "stderr",
     "output_type": "stream",
     "text": [
      "\r"
     ]
    },
    {
     "name": "stderr",
     "output_type": "stream",
     "text": [
      "\r",
      "Backtest.run:   0%|          | 0/3487 [00:00<?, ?bar/s]"
     ]
    },
    {
     "name": "stderr",
     "output_type": "stream",
     "text": [
      "\r",
      "                                                       "
     ]
    },
    {
     "name": "stderr",
     "output_type": "stream",
     "text": [
      "\r"
     ]
    },
    {
     "name": "stderr",
     "output_type": "stream",
     "text": [
      "\r",
      "Backtest.run:   0%|          | 0/2807 [00:00<?, ?bar/s]"
     ]
    },
    {
     "name": "stderr",
     "output_type": "stream",
     "text": [
      "\r",
      "                                                       "
     ]
    },
    {
     "name": "stderr",
     "output_type": "stream",
     "text": [
      "\r"
     ]
    },
    {
     "name": "stderr",
     "output_type": "stream",
     "text": [
      "\r",
      "Backtest.run:   0%|          | 0/3097 [00:00<?, ?bar/s]"
     ]
    },
    {
     "name": "stderr",
     "output_type": "stream",
     "text": [
      "\r",
      "                                                       "
     ]
    },
    {
     "name": "stderr",
     "output_type": "stream",
     "text": [
      "\r"
     ]
    },
    {
     "name": "stderr",
     "output_type": "stream",
     "text": [
      "\r",
      "Backtest.run:   0%|          | 0/3473 [00:00<?, ?bar/s]"
     ]
    },
    {
     "name": "stderr",
     "output_type": "stream",
     "text": [
      "\r",
      "                                                       "
     ]
    },
    {
     "name": "stderr",
     "output_type": "stream",
     "text": [
      "\r"
     ]
    },
    {
     "name": "stderr",
     "output_type": "stream",
     "text": [
      "\r",
      "Backtest.run:   0%|          | 0/3482 [00:00<?, ?bar/s]"
     ]
    },
    {
     "name": "stderr",
     "output_type": "stream",
     "text": [
      "\r",
      "                                                       "
     ]
    },
    {
     "name": "stderr",
     "output_type": "stream",
     "text": [
      "\r"
     ]
    },
    {
     "name": "stderr",
     "output_type": "stream",
     "text": [
      "\r",
      "Backtest.run:   0%|          | 0/3486 [00:00<?, ?bar/s]"
     ]
    },
    {
     "name": "stderr",
     "output_type": "stream",
     "text": [
      "\r",
      "                                                       "
     ]
    },
    {
     "name": "stderr",
     "output_type": "stream",
     "text": [
      "\r"
     ]
    },
    {
     "name": "stderr",
     "output_type": "stream",
     "text": [
      "\r",
      "Backtest.run:   0%|          | 0/3484 [00:00<?, ?bar/s]"
     ]
    },
    {
     "name": "stderr",
     "output_type": "stream",
     "text": [
      "/usr/share/miniconda/envs/test/lib/python3.10/site-packages/backtesting/backtesting.py:954: UserWarning: time=1133: Broker canceled the relative-sized order due to insufficient margin.\n",
      "  warnings.warn(\n",
      "/usr/share/miniconda/envs/test/lib/python3.10/site-packages/backtesting/backtesting.py:954: UserWarning: time=1778: Broker canceled the relative-sized order due to insufficient margin.\n",
      "  warnings.warn(\n",
      "\r",
      "                                                       "
     ]
    },
    {
     "name": "stderr",
     "output_type": "stream",
     "text": [
      "\r"
     ]
    },
    {
     "name": "stderr",
     "output_type": "stream",
     "text": [
      "\r",
      "Backtest.run:   0%|          | 0/1519 [00:00<?, ?bar/s]"
     ]
    },
    {
     "name": "stderr",
     "output_type": "stream",
     "text": [
      "\r",
      "                                                       "
     ]
    },
    {
     "name": "stderr",
     "output_type": "stream",
     "text": [
      "\r"
     ]
    },
    {
     "name": "stderr",
     "output_type": "stream",
     "text": [
      "\r",
      "Backtest.run:   0%|          | 0/3218 [00:00<?, ?bar/s]"
     ]
    },
    {
     "name": "stderr",
     "output_type": "stream",
     "text": [
      "\r",
      "                                                       "
     ]
    },
    {
     "name": "stderr",
     "output_type": "stream",
     "text": [
      "\r"
     ]
    },
    {
     "name": "stderr",
     "output_type": "stream",
     "text": [
      "\r",
      "Backtest.run:   0%|          | 0/1376 [00:00<?, ?bar/s]"
     ]
    },
    {
     "name": "stderr",
     "output_type": "stream",
     "text": [
      "\r",
      "                                                       "
     ]
    },
    {
     "name": "stderr",
     "output_type": "stream",
     "text": [
      "\r"
     ]
    },
    {
     "name": "stderr",
     "output_type": "stream",
     "text": [
      "\r",
      "Backtest.run:   0%|          | 0/2748 [00:00<?, ?bar/s]"
     ]
    },
    {
     "name": "stderr",
     "output_type": "stream",
     "text": [
      "\r",
      "                                                       "
     ]
    },
    {
     "name": "stderr",
     "output_type": "stream",
     "text": [
      "\r"
     ]
    },
    {
     "name": "stderr",
     "output_type": "stream",
     "text": [
      "\r",
      "Backtest.run:   0%|          | 0/3486 [00:00<?, ?bar/s]"
     ]
    },
    {
     "name": "stderr",
     "output_type": "stream",
     "text": [
      "\r",
      "                                                       "
     ]
    },
    {
     "name": "stderr",
     "output_type": "stream",
     "text": [
      "\r"
     ]
    },
    {
     "name": "stderr",
     "output_type": "stream",
     "text": [
      "\r",
      "Backtest.run:   0%|          | 0/3486 [00:00<?, ?bar/s]"
     ]
    },
    {
     "name": "stderr",
     "output_type": "stream",
     "text": [
      "\r",
      "                                                       "
     ]
    },
    {
     "name": "stderr",
     "output_type": "stream",
     "text": [
      "\r"
     ]
    },
    {
     "name": "stderr",
     "output_type": "stream",
     "text": [
      "\r",
      "Backtest.run:   0%|          | 0/2806 [00:00<?, ?bar/s]"
     ]
    },
    {
     "name": "stderr",
     "output_type": "stream",
     "text": [
      "/usr/share/miniconda/envs/test/lib/python3.10/site-packages/backtesting/backtesting.py:954: UserWarning: time=794: Broker canceled the relative-sized order due to insufficient margin.\n",
      "  warnings.warn(\n",
      "\r",
      "                                                       "
     ]
    },
    {
     "name": "stderr",
     "output_type": "stream",
     "text": [
      "\r"
     ]
    },
    {
     "name": "stderr",
     "output_type": "stream",
     "text": [
      "\r",
      "Backtest.run:   0%|          | 0/3482 [00:00<?, ?bar/s]"
     ]
    },
    {
     "name": "stderr",
     "output_type": "stream",
     "text": [
      "\r",
      "                                                       "
     ]
    },
    {
     "name": "stderr",
     "output_type": "stream",
     "text": [
      "\r"
     ]
    },
    {
     "name": "stderr",
     "output_type": "stream",
     "text": [
      "\r",
      "Backtest.run:   0%|          | 0/2806 [00:00<?, ?bar/s]"
     ]
    },
    {
     "name": "stderr",
     "output_type": "stream",
     "text": [
      "\r",
      "                                                       "
     ]
    },
    {
     "name": "stderr",
     "output_type": "stream",
     "text": [
      "\r"
     ]
    },
    {
     "name": "stderr",
     "output_type": "stream",
     "text": [
      "\r",
      "Backtest.run:   0%|          | 0/2865 [00:00<?, ?bar/s]"
     ]
    },
    {
     "name": "stderr",
     "output_type": "stream",
     "text": [
      "\r",
      "                                                       "
     ]
    },
    {
     "name": "stderr",
     "output_type": "stream",
     "text": [
      "\r"
     ]
    },
    {
     "name": "stderr",
     "output_type": "stream",
     "text": [
      "\r",
      "Backtest.run:   0%|          | 0/3032 [00:00<?, ?bar/s]"
     ]
    },
    {
     "name": "stderr",
     "output_type": "stream",
     "text": [
      "/usr/share/miniconda/envs/test/lib/python3.10/site-packages/backtesting/backtesting.py:954: UserWarning: time=2221: Broker canceled the relative-sized order due to insufficient margin.\n",
      "  warnings.warn(\n",
      "\r",
      "                                                       "
     ]
    },
    {
     "name": "stderr",
     "output_type": "stream",
     "text": [
      "\r"
     ]
    },
    {
     "name": "stderr",
     "output_type": "stream",
     "text": [
      "\r",
      "Backtest.run:   0%|          | 0/1519 [00:00<?, ?bar/s]"
     ]
    },
    {
     "name": "stderr",
     "output_type": "stream",
     "text": [
      "\r",
      "                                                       "
     ]
    },
    {
     "name": "stderr",
     "output_type": "stream",
     "text": [
      "\r"
     ]
    },
    {
     "name": "stderr",
     "output_type": "stream",
     "text": [
      "\r",
      "Backtest.run:   0%|          | 0/3492 [00:00<?, ?bar/s]"
     ]
    },
    {
     "name": "stderr",
     "output_type": "stream",
     "text": [
      "\r",
      "                                                       "
     ]
    },
    {
     "name": "stderr",
     "output_type": "stream",
     "text": [
      "\r"
     ]
    },
    {
     "name": "stderr",
     "output_type": "stream",
     "text": [
      "\r",
      "Backtest.run:   0%|          | 0/410 [00:00<?, ?bar/s]"
     ]
    },
    {
     "name": "stderr",
     "output_type": "stream",
     "text": [
      "\r",
      "                                                      "
     ]
    },
    {
     "name": "stderr",
     "output_type": "stream",
     "text": [
      "\r"
     ]
    },
    {
     "name": "stderr",
     "output_type": "stream",
     "text": [
      "/tmp/ipykernel_2153/4238880417.py:34: FutureWarning: The behavior of DataFrame concatenation with empty or all-NA entries is deprecated. In a future version, this will no longer exclude empty or all-NA columns when determining the result dtypes. To retain the old behavior, exclude the relevant entries before the concat operation.\n",
      "  tradesprev = pd.concat([tradesprev, tradesdf],ignore_index=True)\n",
      "/tmp/ipykernel_2153/4238880417.py:35: FutureWarning: The behavior of DataFrame concatenation with empty or all-NA entries is deprecated. In a future version, this will no longer exclude empty or all-NA columns when determining the result dtypes. To retain the old behavior, exclude the relevant entries before the concat operation.\n",
      "  estadisticas=pd.concat([estadisticas, stat],ignore_index=True)\n"
     ]
    },
    {
     "name": "stderr",
     "output_type": "stream",
     "text": [
      "\r",
      "Backtest.run:   0%|          | 0/3215 [00:00<?, ?bar/s]"
     ]
    },
    {
     "name": "stderr",
     "output_type": "stream",
     "text": [
      "\r",
      "                                                       "
     ]
    },
    {
     "name": "stderr",
     "output_type": "stream",
     "text": [
      "\r"
     ]
    },
    {
     "name": "stderr",
     "output_type": "stream",
     "text": [
      "\r",
      "Backtest.run:   0%|          | 0/3396 [00:00<?, ?bar/s]"
     ]
    },
    {
     "name": "stderr",
     "output_type": "stream",
     "text": [
      "/usr/share/miniconda/envs/test/lib/python3.10/site-packages/backtesting/backtesting.py:954: UserWarning: time=1693: Broker canceled the relative-sized order due to insufficient margin.\n",
      "  warnings.warn(\n",
      "/usr/share/miniconda/envs/test/lib/python3.10/site-packages/backtesting/backtesting.py:954: UserWarning: time=2355: Broker canceled the relative-sized order due to insufficient margin.\n",
      "  warnings.warn(\n"
     ]
    },
    {
     "name": "stderr",
     "output_type": "stream",
     "text": [
      "\r",
      "                                                       "
     ]
    },
    {
     "name": "stderr",
     "output_type": "stream",
     "text": [
      "\r"
     ]
    },
    {
     "name": "stderr",
     "output_type": "stream",
     "text": [
      "\r",
      "Backtest.run:   0%|          | 0/2875 [00:00<?, ?bar/s]"
     ]
    },
    {
     "name": "stderr",
     "output_type": "stream",
     "text": [
      "\r",
      "                                                       "
     ]
    },
    {
     "name": "stderr",
     "output_type": "stream",
     "text": [
      "\r"
     ]
    },
    {
     "name": "stderr",
     "output_type": "stream",
     "text": [
      "\r",
      "Backtest.run:   0%|          | 0/2662 [00:00<?, ?bar/s]"
     ]
    },
    {
     "name": "stderr",
     "output_type": "stream",
     "text": [
      "/usr/share/miniconda/envs/test/lib/python3.10/site-packages/backtesting/backtesting.py:954: UserWarning: time=2004: Broker canceled the relative-sized order due to insufficient margin.\n",
      "  warnings.warn(\n"
     ]
    },
    {
     "name": "stderr",
     "output_type": "stream",
     "text": [
      "\r",
      "                                                       "
     ]
    },
    {
     "name": "stderr",
     "output_type": "stream",
     "text": [
      "\r"
     ]
    },
    {
     "name": "stderr",
     "output_type": "stream",
     "text": [
      "\r",
      "Backtest.run:   0%|          | 0/2879 [00:00<?, ?bar/s]"
     ]
    },
    {
     "name": "stderr",
     "output_type": "stream",
     "text": [
      "\r",
      "                                                       "
     ]
    },
    {
     "name": "stderr",
     "output_type": "stream",
     "text": [
      "\r"
     ]
    }
   ],
   "source": [
    "# Por cada TIcket\n",
    "my_stats = {}\n",
    "estadisticas = pd.DataFrame()          # lista para ticker\n",
    "tradesprev = pd.DataFrame()     # lista para cada caso por ticker\n",
    "for ticker in df_backTesting['companyName'].unique():\n",
    "    ticker_data = df_backTesting[df_backTesting['companyName'] == ticker].copy() #Filtro por cada ticker\n",
    "    bt = Backtest(ticker_data, strategyPGA, cash=10_000)\n",
    "    my_stats = bt.run()\n",
    "    listTrades = my_stats['_trades']\n",
    "    tradesdf = pd.DataFrame(listTrades) #trades\n",
    "    tradesdf['Ticker'] = ticker\n",
    "    stats_filter={\n",
    "        'Ticker':ticker,\n",
    "        'EntryTime':my_stats['Start'],\n",
    "        'ExitTime':my_stats['End'],\n",
    "        'Return [%]': my_stats['Return [%]'],\n",
    "        'CAGR [%]': my_stats['Return (Ann.) [%]'],\n",
    "        'Sharpe Ratio': my_stats['Sharpe Ratio'],\n",
    "        'Max. Drawdown [%]': my_stats['Max. Drawdown [%]'],\n",
    "        'Win Rate [%]': my_stats['Win Rate [%]'],\n",
    "        '# Trades': my_stats['# Trades'],\n",
    "        'Expectancy [%]': my_stats['Expectancy [%]'],\n",
    "        'Profit Factor': my_stats['Profit Factor'],\n",
    "        'Duration': my_stats['Duration'],\n",
    "        'Avg. Trade [%]':my_stats['Avg. Trade [%]'],\n",
    "        'Max. Trade Duration':my_stats['Max. Trade Duration'],\n",
    "        'Avg. Trade Duration':my_stats['Avg. Trade Duration']\n",
    "    }\n",
    "    stat=pd.DataFrame([stats_filter])\n",
    "    if tradesprev.shape[0]==0:\n",
    "        tradesprev = tradesdf.copy()\n",
    "        estadisticas=stat.copy()\n",
    "    else:\n",
    "        tradesprev = pd.concat([tradesprev, tradesdf],ignore_index=True)\n",
    "        estadisticas=pd.concat([estadisticas, stat],ignore_index=True)\n",
    "    # Mostramos\n",
    "    #bt.plot(resample=False, filename=f\"plot_BreakOUT_{ticker}\")"
   ]
  },
  {
   "cell_type": "code",
   "execution_count": 18,
   "id": "925a038f-307f-46a0-8894-515b5a85e87c",
   "metadata": {
    "execution": {
     "iopub.execute_input": "2025-06-11T19:53:38.533373Z",
     "iopub.status.busy": "2025-06-11T19:53:38.532718Z",
     "iopub.status.idle": "2025-06-11T19:53:38.539310Z",
     "shell.execute_reply": "2025-06-11T19:53:38.538837Z"
    },
    "papermill": {
     "duration": 0.020103,
     "end_time": "2025-06-11T19:53:38.540150",
     "exception": false,
     "start_time": "2025-06-11T19:53:38.520047",
     "status": "completed"
    },
    "tags": []
   },
   "outputs": [],
   "source": [
    "ini = df_casos2[(df_casos2['indicador']==1)].copy()\n",
    "df_casos3_ini=ini.rename(columns={'Open': 'EntryPrice', 'datetime': 'EntryTime', 'companyName': 'Ticker'})[['EntryPrice','Ticker','caso','EntryTime']]\n",
    "final = df_casos2[(df_casos2['indicador']==2)].copy()\n",
    "df_casos3_final=final.rename(columns={'Open': 'ExitPrice', 'datetime': 'ExitTime', 'companyName': 'Ticker'})[['ExitPrice','Ticker','caso','ExitTime']]"
   ]
  },
  {
   "cell_type": "code",
   "execution_count": 19,
   "id": "543c6fc6",
   "metadata": {
    "execution": {
     "iopub.execute_input": "2025-06-11T19:53:38.565197Z",
     "iopub.status.busy": "2025-06-11T19:53:38.564979Z",
     "iopub.status.idle": "2025-06-11T19:53:38.570964Z",
     "shell.execute_reply": "2025-06-11T19:53:38.570392Z"
    },
    "papermill": {
     "duration": 0.019571,
     "end_time": "2025-06-11T19:53:38.571904",
     "exception": false,
     "start_time": "2025-06-11T19:53:38.552333",
     "status": "completed"
    },
    "tags": []
   },
   "outputs": [],
   "source": [
    "df_casos3=df_casos3_ini.merge(df_casos3_final,on=['Ticker','caso'],how='outer')"
   ]
  },
  {
   "cell_type": "code",
   "execution_count": 20,
   "id": "8ef190f6",
   "metadata": {
    "execution": {
     "iopub.execute_input": "2025-06-11T19:53:38.597167Z",
     "iopub.status.busy": "2025-06-11T19:53:38.596807Z",
     "iopub.status.idle": "2025-06-11T19:53:38.602308Z",
     "shell.execute_reply": "2025-06-11T19:53:38.601866Z"
    },
    "papermill": {
     "duration": 0.018888,
     "end_time": "2025-06-11T19:53:38.603081",
     "exception": false,
     "start_time": "2025-06-11T19:53:38.584193",
     "status": "completed"
    },
    "tags": []
   },
   "outputs": [],
   "source": [
    "trades = pd.merge(df_casos3, tradesprev, on = ['EntryTime','Ticker'], how='left')"
   ]
  },
  {
   "cell_type": "code",
   "execution_count": 21,
   "id": "82ec792c",
   "metadata": {
    "execution": {
     "iopub.execute_input": "2025-06-11T19:53:38.628325Z",
     "iopub.status.busy": "2025-06-11T19:53:38.627863Z",
     "iopub.status.idle": "2025-06-11T19:53:38.634415Z",
     "shell.execute_reply": "2025-06-11T19:53:38.633854Z"
    },
    "papermill": {
     "duration": 0.019984,
     "end_time": "2025-06-11T19:53:38.635257",
     "exception": false,
     "start_time": "2025-06-11T19:53:38.615273",
     "status": "completed"
    },
    "tags": []
   },
   "outputs": [],
   "source": [
    "def exitPrice(x):\n",
    "    if pd.isna(x['ExitPrice_x']):\n",
    "        return x['ExitPrice_y']\n",
    "    else:\n",
    "        return x['ExitPrice_x']\n",
    "trades['ExitPrice'] = trades.apply(lambda row: exitPrice(row), axis=1)"
   ]
  },
  {
   "cell_type": "code",
   "execution_count": 22,
   "id": "150d3cb3",
   "metadata": {
    "execution": {
     "iopub.execute_input": "2025-06-11T19:53:38.660716Z",
     "iopub.status.busy": "2025-06-11T19:53:38.660193Z",
     "iopub.status.idle": "2025-06-11T19:53:38.664403Z",
     "shell.execute_reply": "2025-06-11T19:53:38.663852Z"
    },
    "papermill": {
     "duration": 0.017684,
     "end_time": "2025-06-11T19:53:38.665224",
     "exception": false,
     "start_time": "2025-06-11T19:53:38.647540",
     "status": "completed"
    },
    "tags": []
   },
   "outputs": [],
   "source": [
    "trades = trades.rename(columns={'EntryPrice_x': 'EntryPrice'})\n",
    "trades = trades.drop(['EntryPrice_y','ExitPrice_x', 'ExitPrice_y'], axis=1)"
   ]
  },
  {
   "cell_type": "code",
   "execution_count": 23,
   "id": "0d519d93",
   "metadata": {
    "execution": {
     "iopub.execute_input": "2025-06-11T19:53:38.690561Z",
     "iopub.status.busy": "2025-06-11T19:53:38.690171Z",
     "iopub.status.idle": "2025-06-11T19:53:38.696746Z",
     "shell.execute_reply": "2025-06-11T19:53:38.696188Z"
    },
    "papermill": {
     "duration": 0.019969,
     "end_time": "2025-06-11T19:53:38.697548",
     "exception": false,
     "start_time": "2025-06-11T19:53:38.677579",
     "status": "completed"
    },
    "tags": []
   },
   "outputs": [],
   "source": [
    "def exitTime(x):\n",
    "    if pd.isna(x['ExitTime_x']):\n",
    "        return x['ExitTime_y']\n",
    "    else:\n",
    "        return x['ExitTime_x']\n",
    "trades['ExitTime'] = trades.apply(lambda row: exitTime(row), axis=1)"
   ]
  },
  {
   "cell_type": "code",
   "execution_count": 24,
   "id": "7f081b05",
   "metadata": {
    "execution": {
     "iopub.execute_input": "2025-06-11T19:53:38.723073Z",
     "iopub.status.busy": "2025-06-11T19:53:38.722719Z",
     "iopub.status.idle": "2025-06-11T19:53:38.730935Z",
     "shell.execute_reply": "2025-06-11T19:53:38.730453Z"
    },
    "papermill": {
     "duration": 0.021885,
     "end_time": "2025-06-11T19:53:38.731756",
     "exception": false,
     "start_time": "2025-06-11T19:53:38.709871",
     "status": "completed"
    },
    "tags": []
   },
   "outputs": [],
   "source": [
    "def duration(x):\n",
    "    if pd.isna(x['Duration']):\n",
    "        if pd.isna(x['ExitTime']):\n",
    "            return pd.NaT\n",
    "        else:\n",
    "            return x['ExitTime']-x['EntryTime']\n",
    "    else:\n",
    "        return x['Duration']\n",
    "trades['Duration'] = trades.apply(lambda row: duration(row), axis=1)"
   ]
  },
  {
   "cell_type": "code",
   "execution_count": 25,
   "id": "e7dc21d5",
   "metadata": {
    "execution": {
     "iopub.execute_input": "2025-06-11T19:53:38.757069Z",
     "iopub.status.busy": "2025-06-11T19:53:38.756884Z",
     "iopub.status.idle": "2025-06-11T19:53:38.760292Z",
     "shell.execute_reply": "2025-06-11T19:53:38.759825Z"
    },
    "papermill": {
     "duration": 0.017004,
     "end_time": "2025-06-11T19:53:38.761155",
     "exception": false,
     "start_time": "2025-06-11T19:53:38.744151",
     "status": "completed"
    },
    "tags": []
   },
   "outputs": [],
   "source": [
    "trades = trades.drop(['ExitTime_x', 'ExitTime_y'], axis=1)"
   ]
  },
  {
   "cell_type": "code",
   "execution_count": 26,
   "id": "7c558b80",
   "metadata": {
    "execution": {
     "iopub.execute_input": "2025-06-11T19:53:38.786775Z",
     "iopub.status.busy": "2025-06-11T19:53:38.786578Z",
     "iopub.status.idle": "2025-06-11T19:53:38.789845Z",
     "shell.execute_reply": "2025-06-11T19:53:38.789361Z"
    },
    "papermill": {
     "duration": 0.016969,
     "end_time": "2025-06-11T19:53:38.790695",
     "exception": false,
     "start_time": "2025-06-11T19:53:38.773726",
     "status": "completed"
    },
    "tags": []
   },
   "outputs": [],
   "source": [
    "trades=trades[['Ticker','EntryTime','ExitTime','EntryPrice','ExitPrice','Duration','Size','EntryBar','ExitBar','ReturnPct','caso']]"
   ]
  },
  {
   "cell_type": "code",
   "execution_count": 27,
   "id": "51c5930e",
   "metadata": {
    "execution": {
     "iopub.execute_input": "2025-06-11T19:53:38.816171Z",
     "iopub.status.busy": "2025-06-11T19:53:38.815955Z",
     "iopub.status.idle": "2025-06-11T19:53:38.842024Z",
     "shell.execute_reply": "2025-06-11T19:53:38.841494Z"
    },
    "papermill": {
     "duration": 0.039866,
     "end_time": "2025-06-11T19:53:38.842943",
     "exception": false,
     "start_time": "2025-06-11T19:53:38.803077",
     "status": "completed"
    },
    "tags": []
   },
   "outputs": [],
   "source": [
    "for item in estadisticas['Ticker'].unique():\n",
    "    count = trades[trades[\"Ticker\"] == item].shape[0]\n",
    "    estadisticas.loc[estadisticas['Ticker'] == item, '# Trades'] = count"
   ]
  },
  {
   "cell_type": "code",
   "execution_count": 28,
   "id": "3d17d1eb",
   "metadata": {
    "execution": {
     "iopub.execute_input": "2025-06-11T19:53:38.869041Z",
     "iopub.status.busy": "2025-06-11T19:53:38.868679Z",
     "iopub.status.idle": "2025-06-11T19:53:38.880472Z",
     "shell.execute_reply": "2025-06-11T19:53:38.880004Z"
    },
    "papermill": {
     "duration": 0.02563,
     "end_time": "2025-06-11T19:53:38.881361",
     "exception": false,
     "start_time": "2025-06-11T19:53:38.855731",
     "status": "completed"
    },
    "tags": []
   },
   "outputs": [],
   "source": [
    "path = 'data/backtesting'\n",
    "\n",
    "os.makedirs(path,exist_ok=True)\n",
    "\n",
    "path_trades = os.path.join(path, 'trades_pga.txt')\n",
    "path_estadisticas = os.path.join(path, 'estadisticas_pga.txt')\n",
    "\n",
    "for file_path in [path_trades, path_estadisticas]:\n",
    "    if os.path.exists(file_path):\n",
    "        os.remove(file_path)\n",
    "    else:\n",
    "        print(f\"File does not exist: {file_path}. It will be created.\")\n",
    "\n",
    "trades.to_csv(path_trades, header=True, index=False, sep='\\t', mode='w')\n",
    "estadisticas.to_csv(path_estadisticas, header=True, index=False, sep='\\t', mode='w')"
   ]
  }
 ],
 "metadata": {
  "kernelspec": {
   "display_name": "Python [conda env:base] *",
   "language": "python",
   "name": "conda-base-py"
  },
  "language_info": {
   "codemirror_mode": {
    "name": "ipython",
    "version": 3
   },
   "file_extension": ".py",
   "mimetype": "text/x-python",
   "name": "python",
   "nbconvert_exporter": "python",
   "pygments_lexer": "ipython3",
   "version": "3.10.18"
  },
  "papermill": {
   "default_parameters": {},
   "duration": 26.138757,
   "end_time": "2025-06-11T19:53:39.409694",
   "environment_variables": {},
   "exception": null,
   "input_path": "PrimerGapAlza.ipynb",
   "output_path": "output/PrimerGapAlza.ipynb",
   "parameters": {},
   "start_time": "2025-06-11T19:53:13.270937",
   "version": "2.6.0"
  }
 },
 "nbformat": 4,
 "nbformat_minor": 5
}