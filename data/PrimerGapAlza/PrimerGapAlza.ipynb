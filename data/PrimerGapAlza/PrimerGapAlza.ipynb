{
 "cells": [
  {
   "cell_type": "markdown",
   "id": "c459ac79-ae64-48bb-8f42-d0272aacc650",
   "metadata": {
    "papermill": {
     "duration": 0.003824,
     "end_time": "2025-06-11T18:02:36.026304",
     "exception": false,
     "start_time": "2025-06-11T18:02:36.022480",
     "status": "completed"
    },
    "tags": []
   },
   "source": [
    "### PRIMER GAP AL ALZA\n",
    "El primer gap al alza es la primera senal de cambio de tendencia y el anuncio del fin de una caida,\n",
    "\n",
    "Los precios caen de forma inportanten y nos encontramos cerca de Piso Fuerte osea PM de 100 o de 200 en diari\n",
    "\n",
    "Luego se  presenta en hora un Salto, la primera vela debe ser verde 9:30 a 10am ,  en esta vela debemos trazar un pizo y durante todo el dia los \n",
    "precios no pueden romper dicho piso\n",
    "Es un requisito que una de las velas verdes debe tener volumen, esta vela debe ser alcista con cuerpos superiores a las c\n",
    "las\n",
    "Cuando el Primer gap al alza se presenta, podemos decir que el mercado retoma su tendencia al alza\n",
    "y que la caida sera recuperada en un tiempo corto, los precios suben de 3 dias a 1 semana, entre 10 y 12 \n",
    "untos\n",
    "Para comprar el Primer gap al alza se debe esperar hasta las 3:57pm\n",
    "A partir de que se da el Gap es importante que la vela de apertura de los proximos dias sea verde, y que\n",
    "respete el piso del gap de\n",
    "cada dia\n",
    "El primer Gap al Alza Se presenta cada 3 o 4 meses en la tendencia al alza, normalmente despues de caid\n",
    " brutales\n",
    "Se compra para una semana, los precios suben de 2 a 3 dias maximo en una semana"
   ]
  },
  {
   "cell_type": "code",
   "execution_count": 1,
   "id": "6a5d7ef3-4c87-4b4f-b6b0-de8f06725fa7",
   "metadata": {
    "execution": {
     "iopub.execute_input": "2025-06-11T18:02:36.033656Z",
     "iopub.status.busy": "2025-06-11T18:02:36.033430Z",
     "iopub.status.idle": "2025-06-11T18:02:37.284377Z",
     "shell.execute_reply": "2025-06-11T18:02:37.283874Z"
    },
    "papermill": {
     "duration": 1.255788,
     "end_time": "2025-06-11T18:02:37.285321",
     "exception": false,
     "start_time": "2025-06-11T18:02:36.029533",
     "status": "completed"
    },
    "tags": []
   },
   "outputs": [
    {
     "name": "stderr",
     "output_type": "stream",
     "text": [
      "/usr/share/miniconda/envs/test/lib/python3.10/site-packages/tqdm/auto.py:21: TqdmWarning: IProgress not found. Please update jupyter and ipywidgets. See https://ipywidgets.readthedocs.io/en/stable/user_install.html\n",
      "  from .autonotebook import tqdm as notebook_tqdm\n",
      "/usr/share/miniconda/envs/test/lib/python3.10/site-packages/backtesting/_plotting.py:55: UserWarning: Jupyter Notebook detected. Setting Bokeh output to notebook. This may not work in Jupyter clients without JavaScript support, such as old IDEs. Reset with `backtesting.set_bokeh_output(notebook=False)`.\n",
      "  warnings.warn('Jupyter Notebook detected. '\n"
     ]
    },
    {
     "data": {
      "text/html": [
       "    <style>\n",
       "        .bk-notebook-logo {\n",
       "            display: block;\n",
       "            width: 20px;\n",
       "            height: 20px;\n",
       "            background-image: url(data:image/png;base64,iVBORw0KGgoAAAANSUhEUgAAABQAAAAUCAYAAACNiR0NAAAABHNCSVQICAgIfAhkiAAAAAlwSFlzAAALEgAACxIB0t1+/AAAABx0RVh0U29mdHdhcmUAQWRvYmUgRmlyZXdvcmtzIENTNui8sowAAAOkSURBVDiNjZRtaJVlGMd/1/08zzln5zjP1LWcU9N0NkN8m2CYjpgQYQXqSs0I84OLIC0hkEKoPtiH3gmKoiJDU7QpLgoLjLIQCpEsNJ1vqUOdO7ppbuec5+V+rj4ctwzd8IIbbi6u+8f1539dt3A78eXC7QizUF7gyV1fD1Yqg4JWz84yffhm0qkFqBogB9rM8tZdtwVsPUhWhGcFJngGeWrPzHm5oaMmkfEg1usvLFyc8jLRqDOMru7AyC8saQr7GG7f5fvDeH7Ej8CM66nIF+8yngt6HWaKh7k49Soy9nXurCi1o3qUbS3zWfrYeQDTB/Qj6kX6Ybhw4B+bOYoLKCC9H3Nu/leUTZ1JdRWkkn2ldcCamzrcf47KKXdAJllSlxAOkRgyHsGC/zRday5Qld9DyoM4/q/rUoy/CXh3jzOu3bHUVZeU+DEn8FInkPBFlu3+nW3Nw0mk6vCDiWg8CeJaxEwuHS3+z5RgY+YBR6V1Z1nxSOfoaPa4LASWxxdNp+VWTk7+4vzaou8v8PN+xo+KY2xsw6une2frhw05CTYOmQvsEhjhWjn0bmXPjpE1+kplmmkP3suftwTubK9Vq22qKmrBhpY4jvd5afdRA3wGjFAgcnTK2s4hY0/GPNIb0nErGMCRxWOOX64Z8RAC4oCXdklmEvcL8o0BfkNK4lUg9HTl+oPlQxdNo3Mg4Nv175e/1LDGzZen30MEjRUtmXSfiTVu1kK8W4txyV6BMKlbgk3lMwYCiusNy9fVfvvwMxv8Ynl6vxoByANLTWplvuj/nF9m2+PDtt1eiHPBr1oIfhCChQMBw6Aw0UulqTKZdfVvfG7VcfIqLG9bcldL/+pdWTLxLUy8Qq38heUIjh4XlzZxzQm19lLFlr8vdQ97rjZVOLf8nclzckbcD4wxXMidpX30sFd37Fv/GtwwhzhxGVAprjbg0gCAEeIgwCZyTV2Z1REEW8O4py0wsjeloKoMr6iCY6dP92H6Vw/oTyICIthibxjm/DfN9lVz8IqtqKYLUXfoKVMVQVVJOElGjrnnUt9T9wbgp8AyYKaGlqingHZU/uG2NTZSVqwHQTWkx9hxjkpWDaCg6Ckj5qebgBVbT3V3NNXMSiWSDdGV3hrtzla7J+duwPOToIg42ChPQOQjspnSlp1V+Gjdged7+8UN5CRAV7a5EdFNwCjEaBR27b3W890TE7g24NAP/mMDXRWrGoFPQI9ls/MWO2dWFAar/xcOIImbbpA3zgAAAABJRU5ErkJggg==);\n",
       "        }\n",
       "    </style>\n",
       "    <div>\n",
       "        <a href=\"https://bokeh.org\" target=\"_blank\" class=\"bk-notebook-logo\"></a>\n",
       "        <span id=\"cbd2093c-87bb-49e3-8025-a83e618d7392\">Loading BokehJS ...</span>\n",
       "    </div>\n"
      ]
     },
     "metadata": {},
     "output_type": "display_data"
    },
    {
     "data": {
      "application/javascript": [
       "'use strict';\n",
       "(function(root) {\n",
       "  function now() {\n",
       "    return new Date();\n",
       "  }\n",
       "\n",
       "  const force = true;\n",
       "\n",
       "  if (typeof root._bokeh_onload_callbacks === \"undefined\" || force === true) {\n",
       "    root._bokeh_onload_callbacks = [];\n",
       "    root._bokeh_is_loading = undefined;\n",
       "  }\n",
       "\n",
       "const JS_MIME_TYPE = 'application/javascript';\n",
       "  const HTML_MIME_TYPE = 'text/html';\n",
       "  const EXEC_MIME_TYPE = 'application/vnd.bokehjs_exec.v0+json';\n",
       "  const CLASS_NAME = 'output_bokeh rendered_html';\n",
       "\n",
       "  /**\n",
       "   * Render data to the DOM node\n",
       "   */\n",
       "  function render(props, node) {\n",
       "    const script = document.createElement(\"script\");\n",
       "    node.appendChild(script);\n",
       "  }\n",
       "\n",
       "  /**\n",
       "   * Handle when an output is cleared or removed\n",
       "   */\n",
       "  function handleClearOutput(event, handle) {\n",
       "    function drop(id) {\n",
       "      const view = Bokeh.index.get_by_id(id)\n",
       "      if (view != null) {\n",
       "        view.model.document.clear()\n",
       "        Bokeh.index.delete(view)\n",
       "      }\n",
       "    }\n",
       "\n",
       "    const cell = handle.cell;\n",
       "\n",
       "    const id = cell.output_area._bokeh_element_id;\n",
       "    const server_id = cell.output_area._bokeh_server_id;\n",
       "\n",
       "    // Clean up Bokeh references\n",
       "    if (id != null) {\n",
       "      drop(id)\n",
       "    }\n",
       "\n",
       "    if (server_id !== undefined) {\n",
       "      // Clean up Bokeh references\n",
       "      const cmd_clean = \"from bokeh.io.state import curstate; print(curstate().uuid_to_server['\" + server_id + \"'].get_sessions()[0].document.roots[0]._id)\";\n",
       "      cell.notebook.kernel.execute(cmd_clean, {\n",
       "        iopub: {\n",
       "          output: function(msg) {\n",
       "            const id = msg.content.text.trim()\n",
       "            drop(id)\n",
       "          }\n",
       "        }\n",
       "      });\n",
       "      // Destroy server and session\n",
       "      const cmd_destroy = \"import bokeh.io.notebook as ion; ion.destroy_server('\" + server_id + \"')\";\n",
       "      cell.notebook.kernel.execute(cmd_destroy);\n",
       "    }\n",
       "  }\n",
       "\n",
       "  /**\n",
       "   * Handle when a new output is added\n",
       "   */\n",
       "  function handleAddOutput(event, handle) {\n",
       "    const output_area = handle.output_area;\n",
       "    const output = handle.output;\n",
       "\n",
       "    // limit handleAddOutput to display_data with EXEC_MIME_TYPE content only\n",
       "    if ((output.output_type != \"display_data\") || (!Object.prototype.hasOwnProperty.call(output.data, EXEC_MIME_TYPE))) {\n",
       "      return\n",
       "    }\n",
       "\n",
       "    const toinsert = output_area.element.find(\".\" + CLASS_NAME.split(' ')[0]);\n",
       "\n",
       "    if (output.metadata[EXEC_MIME_TYPE][\"id\"] !== undefined) {\n",
       "      toinsert[toinsert.length - 1].firstChild.textContent = output.data[JS_MIME_TYPE];\n",
       "      // store reference to embed id on output_area\n",
       "      output_area._bokeh_element_id = output.metadata[EXEC_MIME_TYPE][\"id\"];\n",
       "    }\n",
       "    if (output.metadata[EXEC_MIME_TYPE][\"server_id\"] !== undefined) {\n",
       "      const bk_div = document.createElement(\"div\");\n",
       "      bk_div.innerHTML = output.data[HTML_MIME_TYPE];\n",
       "      const script_attrs = bk_div.children[0].attributes;\n",
       "      for (let i = 0; i < script_attrs.length; i++) {\n",
       "        toinsert[toinsert.length - 1].firstChild.setAttribute(script_attrs[i].name, script_attrs[i].value);\n",
       "        toinsert[toinsert.length - 1].firstChild.textContent = bk_div.children[0].textContent\n",
       "      }\n",
       "      // store reference to server id on output_area\n",
       "      output_area._bokeh_server_id = output.metadata[EXEC_MIME_TYPE][\"server_id\"];\n",
       "    }\n",
       "  }\n",
       "\n",
       "  function register_renderer(events, OutputArea) {\n",
       "\n",
       "    function append_mime(data, metadata, element) {\n",
       "      // create a DOM node to render to\n",
       "      const toinsert = this.create_output_subarea(\n",
       "        metadata,\n",
       "        CLASS_NAME,\n",
       "        EXEC_MIME_TYPE\n",
       "      );\n",
       "      this.keyboard_manager.register_events(toinsert);\n",
       "      // Render to node\n",
       "      const props = {data: data, metadata: metadata[EXEC_MIME_TYPE]};\n",
       "      render(props, toinsert[toinsert.length - 1]);\n",
       "      element.append(toinsert);\n",
       "      return toinsert\n",
       "    }\n",
       "\n",
       "    /* Handle when an output is cleared or removed */\n",
       "    events.on('clear_output.CodeCell', handleClearOutput);\n",
       "    events.on('delete.Cell', handleClearOutput);\n",
       "\n",
       "    /* Handle when a new output is added */\n",
       "    events.on('output_added.OutputArea', handleAddOutput);\n",
       "\n",
       "    /**\n",
       "     * Register the mime type and append_mime function with output_area\n",
       "     */\n",
       "    OutputArea.prototype.register_mime_type(EXEC_MIME_TYPE, append_mime, {\n",
       "      /* Is output safe? */\n",
       "      safe: true,\n",
       "      /* Index of renderer in `output_area.display_order` */\n",
       "      index: 0\n",
       "    });\n",
       "  }\n",
       "\n",
       "  // register the mime type if in Jupyter Notebook environment and previously unregistered\n",
       "  if (root.Jupyter !== undefined) {\n",
       "    const events = require('base/js/events');\n",
       "    const OutputArea = require('notebook/js/outputarea').OutputArea;\n",
       "\n",
       "    if (OutputArea.prototype.mime_types().indexOf(EXEC_MIME_TYPE) == -1) {\n",
       "      register_renderer(events, OutputArea);\n",
       "    }\n",
       "  }\n",
       "  if (typeof (root._bokeh_timeout) === \"undefined\" || force === true) {\n",
       "    root._bokeh_timeout = Date.now() + 5000;\n",
       "    root._bokeh_failed_load = false;\n",
       "  }\n",
       "\n",
       "  const NB_LOAD_WARNING = {'data': {'text/html':\n",
       "     \"<div style='background-color: #fdd'>\\n\"+\n",
       "     \"<p>\\n\"+\n",
       "     \"BokehJS does not appear to have successfully loaded. If loading BokehJS from CDN, this \\n\"+\n",
       "     \"may be due to a slow or bad network connection. Possible fixes:\\n\"+\n",
       "     \"</p>\\n\"+\n",
       "     \"<ul>\\n\"+\n",
       "     \"<li>re-rerun `output_notebook()` to attempt to load from CDN again, or</li>\\n\"+\n",
       "     \"<li>use INLINE resources instead, as so:</li>\\n\"+\n",
       "     \"</ul>\\n\"+\n",
       "     \"<code>\\n\"+\n",
       "     \"from bokeh.resources import INLINE\\n\"+\n",
       "     \"output_notebook(resources=INLINE)\\n\"+\n",
       "     \"</code>\\n\"+\n",
       "     \"</div>\"}};\n",
       "\n",
       "  function display_loaded(error = null) {\n",
       "    const el = document.getElementById(\"cbd2093c-87bb-49e3-8025-a83e618d7392\");\n",
       "    if (el != null) {\n",
       "      const html = (() => {\n",
       "        if (typeof root.Bokeh === \"undefined\") {\n",
       "          if (error == null) {\n",
       "            return \"BokehJS is loading ...\";\n",
       "          } else {\n",
       "            return \"BokehJS failed to load.\";\n",
       "          }\n",
       "        } else {\n",
       "          const prefix = `BokehJS ${root.Bokeh.version}`;\n",
       "          if (error == null) {\n",
       "            return `${prefix} successfully loaded.`;\n",
       "          } else {\n",
       "            return `${prefix} <b>encountered errors</b> while loading and may not function as expected.`;\n",
       "          }\n",
       "        }\n",
       "      })();\n",
       "      el.innerHTML = html;\n",
       "\n",
       "      if (error != null) {\n",
       "        const wrapper = document.createElement(\"div\");\n",
       "        wrapper.style.overflow = \"auto\";\n",
       "        wrapper.style.height = \"5em\";\n",
       "        wrapper.style.resize = \"vertical\";\n",
       "        const content = document.createElement(\"div\");\n",
       "        content.style.fontFamily = \"monospace\";\n",
       "        content.style.whiteSpace = \"pre-wrap\";\n",
       "        content.style.backgroundColor = \"rgb(255, 221, 221)\";\n",
       "        content.textContent = error.stack ?? error.toString();\n",
       "        wrapper.append(content);\n",
       "        el.append(wrapper);\n",
       "      }\n",
       "    } else if (Date.now() < root._bokeh_timeout) {\n",
       "      setTimeout(() => display_loaded(error), 100);\n",
       "    }\n",
       "  }\n",
       "\n",
       "  function run_callbacks() {\n",
       "    try {\n",
       "      root._bokeh_onload_callbacks.forEach(function(callback) {\n",
       "        if (callback != null)\n",
       "          callback();\n",
       "      });\n",
       "    } finally {\n",
       "      delete root._bokeh_onload_callbacks\n",
       "    }\n",
       "    console.debug(\"Bokeh: all callbacks have finished\");\n",
       "  }\n",
       "\n",
       "  function load_libs(css_urls, js_urls, callback) {\n",
       "    if (css_urls == null) css_urls = [];\n",
       "    if (js_urls == null) js_urls = [];\n",
       "\n",
       "    root._bokeh_onload_callbacks.push(callback);\n",
       "    if (root._bokeh_is_loading > 0) {\n",
       "      console.debug(\"Bokeh: BokehJS is being loaded, scheduling callback at\", now());\n",
       "      return null;\n",
       "    }\n",
       "    if (js_urls == null || js_urls.length === 0) {\n",
       "      run_callbacks();\n",
       "      return null;\n",
       "    }\n",
       "    console.debug(\"Bokeh: BokehJS not loaded, scheduling load and callback at\", now());\n",
       "    root._bokeh_is_loading = css_urls.length + js_urls.length;\n",
       "\n",
       "    function on_load() {\n",
       "      root._bokeh_is_loading--;\n",
       "      if (root._bokeh_is_loading === 0) {\n",
       "        console.debug(\"Bokeh: all BokehJS libraries/stylesheets loaded\");\n",
       "        run_callbacks()\n",
       "      }\n",
       "    }\n",
       "\n",
       "    function on_error(url) {\n",
       "      console.error(\"failed to load \" + url);\n",
       "    }\n",
       "\n",
       "    for (let i = 0; i < css_urls.length; i++) {\n",
       "      const url = css_urls[i];\n",
       "      const element = document.createElement(\"link\");\n",
       "      element.onload = on_load;\n",
       "      element.onerror = on_error.bind(null, url);\n",
       "      element.rel = \"stylesheet\";\n",
       "      element.type = \"text/css\";\n",
       "      element.href = url;\n",
       "      console.debug(\"Bokeh: injecting link tag for BokehJS stylesheet: \", url);\n",
       "      document.body.appendChild(element);\n",
       "    }\n",
       "\n",
       "    for (let i = 0; i < js_urls.length; i++) {\n",
       "      const url = js_urls[i];\n",
       "      const element = document.createElement('script');\n",
       "      element.onload = on_load;\n",
       "      element.onerror = on_error.bind(null, url);\n",
       "      element.async = false;\n",
       "      element.src = url;\n",
       "      console.debug(\"Bokeh: injecting script tag for BokehJS library: \", url);\n",
       "      document.head.appendChild(element);\n",
       "    }\n",
       "  };\n",
       "\n",
       "  function inject_raw_css(css) {\n",
       "    const element = document.createElement(\"style\");\n",
       "    element.appendChild(document.createTextNode(css));\n",
       "    document.body.appendChild(element);\n",
       "  }\n",
       "\n",
       "  const js_urls = [\"https://cdn.bokeh.org/bokeh/release/bokeh-3.7.3.min.js\", \"https://cdn.bokeh.org/bokeh/release/bokeh-gl-3.7.3.min.js\", \"https://cdn.bokeh.org/bokeh/release/bokeh-widgets-3.7.3.min.js\", \"https://cdn.bokeh.org/bokeh/release/bokeh-tables-3.7.3.min.js\", \"https://cdn.bokeh.org/bokeh/release/bokeh-mathjax-3.7.3.min.js\"];\n",
       "  const css_urls = [];\n",
       "\n",
       "  const inline_js = [    function(Bokeh) {\n",
       "      Bokeh.set_log_level(\"info\");\n",
       "    },\n",
       "function(Bokeh) {\n",
       "    }\n",
       "  ];\n",
       "\n",
       "  function run_inline_js() {\n",
       "    if (root.Bokeh !== undefined || force === true) {\n",
       "      try {\n",
       "            for (let i = 0; i < inline_js.length; i++) {\n",
       "      inline_js[i].call(root, root.Bokeh);\n",
       "    }\n",
       "\n",
       "      } catch (error) {display_loaded(error);throw error;\n",
       "      }if (force === true) {\n",
       "        display_loaded();\n",
       "      }} else if (Date.now() < root._bokeh_timeout) {\n",
       "      setTimeout(run_inline_js, 100);\n",
       "    } else if (!root._bokeh_failed_load) {\n",
       "      console.log(\"Bokeh: BokehJS failed to load within specified timeout.\");\n",
       "      root._bokeh_failed_load = true;\n",
       "    } else if (force !== true) {\n",
       "      const cell = $(document.getElementById(\"cbd2093c-87bb-49e3-8025-a83e618d7392\")).parents('.cell').data().cell;\n",
       "      cell.output_area.append_execute_result(NB_LOAD_WARNING)\n",
       "    }\n",
       "  }\n",
       "\n",
       "  if (root._bokeh_is_loading === 0) {\n",
       "    console.debug(\"Bokeh: BokehJS loaded, going straight to plotting\");\n",
       "    run_inline_js();\n",
       "  } else {\n",
       "    load_libs(css_urls, js_urls, function() {\n",
       "      console.debug(\"Bokeh: BokehJS plotting callback run at\", now());\n",
       "      run_inline_js();\n",
       "    });\n",
       "  }\n",
       "}(window));"
      ],
      "application/vnd.bokehjs_load.v0+json": "'use strict';\n(function(root) {\n  function now() {\n    return new Date();\n  }\n\n  const force = true;\n\n  if (typeof root._bokeh_onload_callbacks === \"undefined\" || force === true) {\n    root._bokeh_onload_callbacks = [];\n    root._bokeh_is_loading = undefined;\n  }\n\n\n  if (typeof (root._bokeh_timeout) === \"undefined\" || force === true) {\n    root._bokeh_timeout = Date.now() + 5000;\n    root._bokeh_failed_load = false;\n  }\n\n  const NB_LOAD_WARNING = {'data': {'text/html':\n     \"<div style='background-color: #fdd'>\\n\"+\n     \"<p>\\n\"+\n     \"BokehJS does not appear to have successfully loaded. If loading BokehJS from CDN, this \\n\"+\n     \"may be due to a slow or bad network connection. Possible fixes:\\n\"+\n     \"</p>\\n\"+\n     \"<ul>\\n\"+\n     \"<li>re-rerun `output_notebook()` to attempt to load from CDN again, or</li>\\n\"+\n     \"<li>use INLINE resources instead, as so:</li>\\n\"+\n     \"</ul>\\n\"+\n     \"<code>\\n\"+\n     \"from bokeh.resources import INLINE\\n\"+\n     \"output_notebook(resources=INLINE)\\n\"+\n     \"</code>\\n\"+\n     \"</div>\"}};\n\n  function display_loaded(error = null) {\n    const el = document.getElementById(\"cbd2093c-87bb-49e3-8025-a83e618d7392\");\n    if (el != null) {\n      const html = (() => {\n        if (typeof root.Bokeh === \"undefined\") {\n          if (error == null) {\n            return \"BokehJS is loading ...\";\n          } else {\n            return \"BokehJS failed to load.\";\n          }\n        } else {\n          const prefix = `BokehJS ${root.Bokeh.version}`;\n          if (error == null) {\n            return `${prefix} successfully loaded.`;\n          } else {\n            return `${prefix} <b>encountered errors</b> while loading and may not function as expected.`;\n          }\n        }\n      })();\n      el.innerHTML = html;\n\n      if (error != null) {\n        const wrapper = document.createElement(\"div\");\n        wrapper.style.overflow = \"auto\";\n        wrapper.style.height = \"5em\";\n        wrapper.style.resize = \"vertical\";\n        const content = document.createElement(\"div\");\n        content.style.fontFamily = \"monospace\";\n        content.style.whiteSpace = \"pre-wrap\";\n        content.style.backgroundColor = \"rgb(255, 221, 221)\";\n        content.textContent = error.stack ?? error.toString();\n        wrapper.append(content);\n        el.append(wrapper);\n      }\n    } else if (Date.now() < root._bokeh_timeout) {\n      setTimeout(() => display_loaded(error), 100);\n    }\n  }\n\n  function run_callbacks() {\n    try {\n      root._bokeh_onload_callbacks.forEach(function(callback) {\n        if (callback != null)\n          callback();\n      });\n    } finally {\n      delete root._bokeh_onload_callbacks\n    }\n    console.debug(\"Bokeh: all callbacks have finished\");\n  }\n\n  function load_libs(css_urls, js_urls, callback) {\n    if (css_urls == null) css_urls = [];\n    if (js_urls == null) js_urls = [];\n\n    root._bokeh_onload_callbacks.push(callback);\n    if (root._bokeh_is_loading > 0) {\n      console.debug(\"Bokeh: BokehJS is being loaded, scheduling callback at\", now());\n      return null;\n    }\n    if (js_urls == null || js_urls.length === 0) {\n      run_callbacks();\n      return null;\n    }\n    console.debug(\"Bokeh: BokehJS not loaded, scheduling load and callback at\", now());\n    root._bokeh_is_loading = css_urls.length + js_urls.length;\n\n    function on_load() {\n      root._bokeh_is_loading--;\n      if (root._bokeh_is_loading === 0) {\n        console.debug(\"Bokeh: all BokehJS libraries/stylesheets loaded\");\n        run_callbacks()\n      }\n    }\n\n    function on_error(url) {\n      console.error(\"failed to load \" + url);\n    }\n\n    for (let i = 0; i < css_urls.length; i++) {\n      const url = css_urls[i];\n      const element = document.createElement(\"link\");\n      element.onload = on_load;\n      element.onerror = on_error.bind(null, url);\n      element.rel = \"stylesheet\";\n      element.type = \"text/css\";\n      element.href = url;\n      console.debug(\"Bokeh: injecting link tag for BokehJS stylesheet: \", url);\n      document.body.appendChild(element);\n    }\n\n    for (let i = 0; i < js_urls.length; i++) {\n      const url = js_urls[i];\n      const element = document.createElement('script');\n      element.onload = on_load;\n      element.onerror = on_error.bind(null, url);\n      element.async = false;\n      element.src = url;\n      console.debug(\"Bokeh: injecting script tag for BokehJS library: \", url);\n      document.head.appendChild(element);\n    }\n  };\n\n  function inject_raw_css(css) {\n    const element = document.createElement(\"style\");\n    element.appendChild(document.createTextNode(css));\n    document.body.appendChild(element);\n  }\n\n  const js_urls = [\"https://cdn.bokeh.org/bokeh/release/bokeh-3.7.3.min.js\", \"https://cdn.bokeh.org/bokeh/release/bokeh-gl-3.7.3.min.js\", \"https://cdn.bokeh.org/bokeh/release/bokeh-widgets-3.7.3.min.js\", \"https://cdn.bokeh.org/bokeh/release/bokeh-tables-3.7.3.min.js\", \"https://cdn.bokeh.org/bokeh/release/bokeh-mathjax-3.7.3.min.js\"];\n  const css_urls = [];\n\n  const inline_js = [    function(Bokeh) {\n      Bokeh.set_log_level(\"info\");\n    },\nfunction(Bokeh) {\n    }\n  ];\n\n  function run_inline_js() {\n    if (root.Bokeh !== undefined || force === true) {\n      try {\n            for (let i = 0; i < inline_js.length; i++) {\n      inline_js[i].call(root, root.Bokeh);\n    }\n\n      } catch (error) {display_loaded(error);throw error;\n      }if (force === true) {\n        display_loaded();\n      }} else if (Date.now() < root._bokeh_timeout) {\n      setTimeout(run_inline_js, 100);\n    } else if (!root._bokeh_failed_load) {\n      console.log(\"Bokeh: BokehJS failed to load within specified timeout.\");\n      root._bokeh_failed_load = true;\n    } else if (force !== true) {\n      const cell = $(document.getElementById(\"cbd2093c-87bb-49e3-8025-a83e618d7392\")).parents('.cell').data().cell;\n      cell.output_area.append_execute_result(NB_LOAD_WARNING)\n    }\n  }\n\n  if (root._bokeh_is_loading === 0) {\n    console.debug(\"Bokeh: BokehJS loaded, going straight to plotting\");\n    run_inline_js();\n  } else {\n    load_libs(css_urls, js_urls, function() {\n      console.debug(\"Bokeh: BokehJS plotting callback run at\", now());\n      run_inline_js();\n    });\n  }\n}(window));"
     },
     "metadata": {},
     "output_type": "display_data"
    }
   ],
   "source": [
    "import pandas as pd\n",
    "import numpy as np\n",
    "#import plotly.graph_objects as go\n",
    "import yfinance as yf\n",
    "import talib as ta\n",
    "#import matplotlib.pyplot as plt\n",
    "#import math\n",
    "from datetime import date, timedelta\n",
    "from scipy import stats\n",
    "from scipy.signal import argrelextrema\n",
    "from bokeh.plotting import figure, show, column\n",
    "from sklearn.linear_model import LinearRegression\n",
    "import os\n",
    "from backtesting import Backtest, Strategy"
   ]
  },
  {
   "cell_type": "code",
   "execution_count": 2,
   "id": "68caa860-044a-443a-89cf-946f51d8c39e",
   "metadata": {
    "execution": {
     "iopub.execute_input": "2025-06-11T18:02:37.293860Z",
     "iopub.status.busy": "2025-06-11T18:02:37.293571Z",
     "iopub.status.idle": "2025-06-11T18:02:37.410573Z",
     "shell.execute_reply": "2025-06-11T18:02:37.410014Z"
    },
    "papermill": {
     "duration": 0.122472,
     "end_time": "2025-06-11T18:02:37.411735",
     "exception": false,
     "start_time": "2025-06-11T18:02:37.289263",
     "status": "completed"
    },
    "tags": []
   },
   "outputs": [],
   "source": [
    "df_d = pd.read_csv('data/dataxd.txt', sep=\"\\t\")\n",
    "tickers = [\n",
    "    'SPY',\n",
    "    'META',\n",
    "    'AAPL',\n",
    "    'AMZN',\n",
    "    'NFLX',\n",
    "    'MRNA',\n",
    "    'TSLA',\n",
    "    'TNA',\n",
    "    'GLD',\n",
    "    'SLV',\n",
    "    'USO',\n",
    "    'BAC',\n",
    "    'CVX',\n",
    "    'XOM',\n",
    "    'QQQ',\n",
    "    'MSFT',\n",
    "    'NVDA',\n",
    "    'WMT',\n",
    "    'BA',\n",
    "    'DIS',\n",
    "    'CAT',\n",
    "    'IBM',\n",
    "    'WFC',\n",
    "    'PLTR',\n",
    "    'AMD',\n",
    "    'AVGO',\n",
    "    'HOOD',\n",
    "    'CRWV',\n",
    "    'MSTR',\n",
    "    'UNH',\n",
    "    'GOOG',\n",
    "    'APP',\n",
    "    'UBER'\n",
    "]\n",
    "\n",
    "df_h = pd.read_csv('data/dataxh.txt', sep=\"\\t\")\n",
    "tickers = [\n",
    "    'SPY',\n",
    "    'META',\n",
    "    'AAPL',\n",
    "    'AMZN',\n",
    "    'NFLX',\n",
    "    'MRNA',\n",
    "    'TSLA',\n",
    "    'TNA',\n",
    "    'GLD',\n",
    "    'SLV',\n",
    "    'USO',\n",
    "    'BAC',\n",
    "    'CVX',\n",
    "    'XOM',\n",
    "    'QQQ',\n",
    "    'MSFT',\n",
    "    'NVDA',\n",
    "    'WMT',\n",
    "    'BA',\n",
    "    'DIS',\n",
    "    'CAT',\n",
    "    'IBM',\n",
    "    'WFC',\n",
    "    'PLTR',\n",
    "    'AMD',\n",
    "    'AVGO',\n",
    "    'HOOD',\n",
    "    'CRWV',\n",
    "    'MSTR',\n",
    "    'UNH',\n",
    "    'GOOG',\n",
    "    'APP',\n",
    "    'UBER'\n",
    "]\n",
    "\n",
    "#    'SPY',\n",
    "#    'META',\n",
    "#    'AAPL',\n",
    "#    'AMZN',\n",
    "#    'NFLX',\n",
    "#    'MRNA',\n",
    "#    'TSLA',\n",
    "#    'TNA',\n",
    "#    'GLD',\n",
    "#    'SLV',\n",
    "#    'USO',\n",
    "#    'BAC',\n",
    "#    'CVX',\n",
    "#    'XOM',\n",
    "#    'QQQ'"
   ]
  },
  {
   "cell_type": "code",
   "execution_count": 3,
   "id": "db7650b9-2eb7-4af3-b4fd-36da7fd038c8",
   "metadata": {
    "execution": {
     "iopub.execute_input": "2025-06-11T18:02:37.420314Z",
     "iopub.status.busy": "2025-06-11T18:02:37.420116Z",
     "iopub.status.idle": "2025-06-11T18:02:37.617555Z",
     "shell.execute_reply": "2025-06-11T18:02:37.617042Z"
    },
    "papermill": {
     "duration": 0.202844,
     "end_time": "2025-06-11T18:02:37.618683",
     "exception": false,
     "start_time": "2025-06-11T18:02:37.415839",
     "status": "completed"
    },
    "tags": []
   },
   "outputs": [],
   "source": [
    "df_d=df_d.rename(columns={'datetime': 'fecha'})\n",
    "df_d['fecha'] = pd.to_datetime(df_d['fecha'])\n",
    "df_dia = pd.DataFrame()\n",
    "for ticker in tickers:\n",
    "    company = df_d.query(\"companyName==@ticker\").copy()\n",
    "    company.sort_values(by=['fecha'])\n",
    "    #company = yf.download(ticker, start = ini2_str, end = today_str, interval='60m')\n",
    "    #company.columns = [company.columns[0][0], company.columns[1][0], company.columns[2][0], company.columns[3][0], company.columns[4][0]]\n",
    "    #company.rename(columns={'Datetime':'Gmt time'}, inplace = True)\n",
    "    #company['datetime'] = pd.to_datetime (company.index)\n",
    "    #company['companyName'] = ticker\n",
    "    company['SMA20'] = company['Close'].rolling(20).mean()\n",
    "    company.dropna(inplace=False)\n",
    "    company['SMA40'] = company['Close'].rolling(40).mean()\n",
    "    company.dropna(inplace=False)\n",
    "    company['SMA100'] = company['Close'].rolling(100).mean()\n",
    "    company.dropna(inplace=False)\n",
    "    company['SMA200'] = company['Close'].rolling(200).mean()\n",
    "    company.dropna(inplace=False)\n",
    "    df_dia = pd.concat([df_dia, company],ignore_index=True)"
   ]
  },
  {
   "cell_type": "code",
   "execution_count": 4,
   "id": "35923d1b-0189-42bb-a57b-ba8c3be5146e",
   "metadata": {
    "execution": {
     "iopub.execute_input": "2025-06-11T18:02:37.627221Z",
     "iopub.status.busy": "2025-06-11T18:02:37.627016Z",
     "iopub.status.idle": "2025-06-11T18:02:38.031136Z",
     "shell.execute_reply": "2025-06-11T18:02:38.030532Z"
    },
    "papermill": {
     "duration": 0.409612,
     "end_time": "2025-06-11T18:02:38.032325",
     "exception": false,
     "start_time": "2025-06-11T18:02:37.622713",
     "status": "completed"
    },
    "tags": []
   },
   "outputs": [],
   "source": [
    "df_h['datetime'] = pd.to_datetime(df_h['datetime'])\n",
    "df_h[\"fecha\"] = pd.to_datetime(df_h[\"datetime\"].dt.date)\n",
    "df_hora = pd.DataFrame()\n",
    "for ticker in tickers:\n",
    "    company = df_h.query(\"companyName==@ticker\").copy()\n",
    "    company.sort_values(by=['datetime'])\n",
    "    #company = yf.download(ticker, start = ini2_str, end = today_str, interval='60m')\n",
    "    #company.columns = [company.columns[0][0], company.columns[1][0], company.columns[2][0], company.columns[3][0], company.columns[4][0]]\n",
    "    #company.rename(columns={'Datetime':'Gmt time'}, inplace = True)\n",
    "    #company['datetime'] = pd.to_datetime (company.index)\n",
    "    #company['companyName'] = ticker\n",
    "    company['SMA20'] = company['Close'].rolling(20).mean()\n",
    "    company.dropna(inplace=False)\n",
    "    company['SMA40'] = company['Close'].rolling(40).mean()\n",
    "    company.dropna(inplace=False)\n",
    "    company['SMA100'] = company['Close'].rolling(100).mean()\n",
    "    company.dropna(inplace=False)\n",
    "    company['SMA200'] = company['Close'].rolling(200).mean()\n",
    "    company.dropna(inplace=False)\n",
    "    df_hora = pd.concat([df_hora, company],ignore_index=True)"
   ]
  },
  {
   "cell_type": "markdown",
   "id": "4a4ba515-5545-4c80-9abd-1107d15bef26",
   "metadata": {
    "papermill": {
     "duration": 0.003705,
     "end_time": "2025-06-11T18:02:38.040110",
     "exception": false,
     "start_time": "2025-06-11T18:02:38.036405",
     "status": "completed"
    },
    "tags": []
   },
   "source": [
    "### Detect Pivots/Fractals"
   ]
  },
  {
   "cell_type": "code",
   "execution_count": 5,
   "id": "f0a770a1-3794-472e-8218-02fc3760e5fb",
   "metadata": {
    "execution": {
     "iopub.execute_input": "2025-06-11T18:02:38.048397Z",
     "iopub.status.busy": "2025-06-11T18:02:38.048156Z",
     "iopub.status.idle": "2025-06-11T18:02:38.074144Z",
     "shell.execute_reply": "2025-06-11T18:02:38.073534Z"
    },
    "papermill": {
     "duration": 0.031505,
     "end_time": "2025-06-11T18:02:38.075257",
     "exception": false,
     "start_time": "2025-06-11T18:02:38.043752",
     "status": "completed"
    },
    "tags": []
   },
   "outputs": [],
   "source": [
    "ord=5\n",
    "#for ticker in tickers:\n",
    "#print(\"====\", ticker)\n",
    "#DIA\n",
    "max_idx1 = argrelextrema(df_dia['Close'].values, np.greater, order=ord)[0]\n",
    "min_idx1 = argrelextrema(df_dia['Close'].values, np.less, order=ord)[0]\n",
    "# Aplicar el cálculo solo a los índices en la lista\n",
    "df_dia.loc[max_idx1, 'pivotHigh'] = df_dia['High']+1e-3\n",
    "df_dia.loc[min_idx1, 'pivotLow'] = df_dia['Low']-(1e-3)\n",
    "df_dia.loc[max_idx1, 'isPivot'] = 1\n",
    "df_dia.loc[min_idx1, 'isPivot'] = 2\n",
    "\n",
    "#HORA\n",
    "max_idx2 = argrelextrema(df_hora['Close'].values, np.greater, order=ord)[0]\n",
    "min_idx2 = argrelextrema(df_hora['Close'].values, np.less, order=ord)[0]\n",
    "# Aplicar el cálculo solo a los índices en la lista\n",
    "df_hora.loc[max_idx2, 'pivotHigh'] = df_hora['High']+1e-3\n",
    "df_hora.loc[min_idx2, 'pivotLow'] = df_hora['Low']-(1e-3)\n",
    "df_hora.loc[max_idx2, 'isPivot'] = 1\n",
    "df_hora.loc[min_idx2, 'isPivot'] = 2"
   ]
  },
  {
   "cell_type": "code",
   "execution_count": 6,
   "id": "cb8b627c-ebd7-43ed-ac91-2cb8c680e7b5",
   "metadata": {
    "execution": {
     "iopub.execute_input": "2025-06-11T18:02:38.084040Z",
     "iopub.status.busy": "2025-06-11T18:02:38.083580Z",
     "iopub.status.idle": "2025-06-11T18:02:38.239179Z",
     "shell.execute_reply": "2025-06-11T18:02:38.238574Z"
    },
    "papermill": {
     "duration": 0.160869,
     "end_time": "2025-06-11T18:02:38.240120",
     "exception": false,
     "start_time": "2025-06-11T18:02:38.079251",
     "status": "completed"
    },
    "tags": []
   },
   "outputs": [
    {
     "data": {
      "text/html": [
       "\n",
       "  <div id=\"d411ef38-f7c3-4182-ba54-563b2ecbd07b\" data-root-id=\"p1003\" style=\"display: contents;\"></div>\n"
      ]
     },
     "metadata": {},
     "output_type": "display_data"
    },
    {
     "data": {
      "application/javascript": [
       "(function(root) {\n",
       "  function embed_document(root) {\n",
       "  const docs_json = {\"0f971e40-1076-4aca-bd9d-5855ca205eda\":{\"version\":\"3.7.3\",\"title\":\"Bokeh Application\",\"roots\":[{\"type\":\"object\",\"name\":\"Figure\",\"id\":\"p1003\",\"attributes\":{\"width\":2500,\"height\":500,\"x_range\":{\"type\":\"object\",\"name\":\"DataRange1d\",\"id\":\"p1004\",\"attributes\":{\"range_padding\":0.05}},\"y_range\":{\"type\":\"object\",\"name\":\"DataRange1d\",\"id\":\"p1005\"},\"x_scale\":{\"type\":\"object\",\"name\":\"LinearScale\",\"id\":\"p1013\"},\"y_scale\":{\"type\":\"object\",\"name\":\"LinearScale\",\"id\":\"p1014\"},\"title\":{\"type\":\"object\",\"name\":\"Title\",\"id\":\"p1006\",\"attributes\":{\"text\":\"DIA\"}},\"renderers\":[{\"type\":\"object\",\"name\":\"GlyphRenderer\",\"id\":\"p1048\",\"attributes\":{\"data_source\":{\"type\":\"object\",\"name\":\"ColumnDataSource\",\"id\":\"p1039\",\"attributes\":{\"selected\":{\"type\":\"object\",\"name\":\"Selection\",\"id\":\"p1040\",\"attributes\":{\"indices\":[],\"line_indices\":[]}},\"selection_policy\":{\"type\":\"object\",\"name\":\"UnionRenderers\",\"id\":\"p1041\"},\"data\":{\"type\":\"map\",\"entries\":[[\"index\",{\"type\":\"ndarray\",\"array\":{\"type\":\"bytes\",\"data\":\"AAAAAAEAAAACAAAAAwAAAAQAAAAFAAAABgAAAAcAAAAIAAAACQAAAAoAAAALAAAADAAAAA0AAAAOAAAADwAAABAAAAARAAAAEgAAABMAAAAUAAAAFQAAABYAAAAXAAAAGAAAABkAAAAaAAAAGwAAABwAAAAdAAAAHgAAAB8AAAAgAAAAIQAAACIAAAAjAAAAJAAAACUAAAAmAAAAJwAAACgAAAApAAAAKgAAACsAAAAsAAAALQAAAC4AAAAvAAAAMAAAADEAAAAyAAAAMwAAADQAAAA1AAAANgAAADcAAAA4AAAAOQAAADoAAAA7AAAAPAAAAD0AAAA+AAAAPwAAAEAAAABBAAAAQgAAAEMAAABEAAAARQAAAEYAAABHAAAASAAAAEkAAABKAAAASwAAAEwAAABNAAAATgAAAE8AAABQAAAAUQAAAFIAAABTAAAAVAAAAFUAAABWAAAAVwAAAFgAAABZAAAAWgAAAFsAAABcAAAAXQAAAF4AAABfAAAAYAAAAGEAAABiAAAAYwAAAGQAAABlAAAAZgAAAGcAAABoAAAAaQAAAGoAAABrAAAAbAAAAG0AAABuAAAAbwAAAHAAAABxAAAAcgAAAHMAAAB0AAAAdQAAAHYAAAB3AAAAeAAAAHkAAAB6AAAAewAAAHwAAAB9AAAAfgAAAH8AAACAAAAAgQAAAIIAAACDAAAAhAAAAIUAAACGAAAAhwAAAIgAAACJAAAAigAAAIsAAACMAAAAjQAAAI4AAACPAAAAkAAAAJEAAACSAAAAkwAAAJQAAACVAAAA\"},\"shape\":[150],\"dtype\":\"int32\",\"order\":\"little\"}],[\"Close\",{\"type\":\"ndarray\",\"array\":{\"type\":\"bytes\",\"data\":\"AAAAgLpudkAAAACAbF12QAAAAEAMr3ZAAAAAYNvudUAAAADg9fp1QAEAAMCciHZAAAAAQCd+dkABAABAmbZ2QAAAAMB3b3dAAAAAAI1Yd0ABAADAbt52QAAAACCq2XZAAAAAACSqdkAAAADgged2QAAAAKCU8nZAAAAA4GsGd0AAAADgs153QAAAAADIWXdAAAAAgH4Vd0ABAABAM+F2QAAAAOBwwnZAAQAAwEq0dkAAAADgVSN3QAAAAGBt8nZAAQAAQCaRd0AAAACAmbd3QAAAAGBt9XdAAQAAQIW8d0AAAACA58N3QAAAAODse3dAAAAAoAgYeEAAAAAAZWV4QAAAAOBxwHhAAAAAYK6teEAAAAAgAIR4QAAAAKBH5nhAAAAAgPnheEABAABANdd4QAEAAEDTz3hAAAAAAJq2eEAAAABAfDt5QAAAAEB8O3lAAAAAgNaoeUAAAABA6MN5QAAAAIDT0HlAAAAAAOuheUAAAAAA/bR5QAAAAKCNXHlAAQAAwFzVeEABAABA+8V4QAAAAKBI2nhAAAAAYBo0eUAAAACgtFl4QAEAAMB8MHhAAAAA4IHsd0AAAADg5713QAAAACD60HdAAAAAwK+Qd0AAAAAA7Xl3QAEAAMDk5XdAAAAAoOENeEAAAADgi214QAAAAADCsHhAAAAAYOqdd0AAAAAg/LR3QAAAAAAVcHdAAAAA4E5Cd0AAAADAe3B3QAAAACCbK3dAAAAAACPEdkAAAACALpN2QAAAACBaMnZAAAAAoCP6dUAAAADgxut1QAAAACAyWnZAAAAAgKridUAAAAAgB4x1QAAAAGCoHXZAAAAAIBjNdkAAAAAggb92QAAAAABug3ZAAAAAgKridUAAAAAg47d1QAAAAECtlHVAAAAAIHSCdUAAAABgxhN2QAAAACD6knVAAAAA4OYgdkAAAABgdmN2QAAAAIDYOnZAAAAAYCALdkABAABAQ5R2QAAAAAD+2nZAAQAAwGw4d0AAAACAowt3QAAAAKAi7HZAAAAAwL13d0ABAADAWEx3QAAAACA/MndAAAAAQDiddkAAAAAAnGF2QAAAAIATtHZAAAAAIKzrdkAAAACAVAt3QAAAAIDKkXZAAAAAIE7Pd0AAAACATAp4QAEAAEDy1XdAAAAAYP0JeEAAAADgCtt3QAEAAEBbyHdAAAAA4P/jd0AAAACgws13QAAAAMDDH3hAAAAAoK5GeEAAAACASkV4QAAAAIAl4ndAAAAA4KTXd0AAAADg6Zd4QAAAAMBHk3hAAAAAwAWMeEABAABA+hp4QAEAAEAGwndAAAAAgK23d0ABAABAPud3QAAAAMCHuXdAAAAAoBcReEAAAACAuz94QAAAAAALGHhAAAAAoCmBd0AAAACAHzp3QAAAAKCzB3dAAAAA4MQPd0AAAADAC2h3QAAAAOCPEndAAAAA4Ik0d0AAAACAHB13QAAAACCT03ZAAQAAwMI8d0ABAABAFy13QAAAAAAdFHdAAAAAwLlBd0AAAAAAxv12QAAAAOC+hHdAAAAAIFWBd0AAAADgh6t3QAAAAMAr+HdAAAAAIIMOeEAAAABgZyZ4QAAAAGAUG3hA\"},\"shape\":[150],\"dtype\":\"float64\",\"order\":\"little\"}],[\"High\",{\"type\":\"ndarray\",\"array\":{\"type\":\"bytes\",\"data\":\"eHehNATXdkAfDatuwJt2QInse+oF93ZAtezwyo0wdkBrksxCGTF2QAVcPS4Rn3ZA8nwMub/AdkDxC1nucMJ2QNrbVymfb3dAfh8JSieDd0CAEzJ21p53QD7fsRdZ93ZA2Gi+OJbedkAVyRsfle52QCPtrnLj8nZAOG/Sl7cud0DWgy0yn2t3QLm0Yn4UeHdAxarJ6xg+d0DZCCUlLTN3QKoOI0D38XZAWZzxNtPFdkCL9w1VLiV3QA4UDqo9YHdA8jcRqGCad0C1RzIqhM53QGDpLjEy9ndAPbJXHM4KeECXmMMMv9F3QJuP1Q+urHdAEdY2QFU0eEBhzqcnn3B4QFFmdLRw0HhA4K5j6kjWeECWyStq+s94QKcFjG4y+XhA0xTBwB/weEAVvJCWquF4QMzF6/wIF3lA+YyUMyLMeECkfhTxyj15QPvpN13Fh3lAqi22i4eqeUDoleXWXcx5QDrB0TgM8HlAycadV8DNeUDVoVC+D8B5QK77ov6JjHlAzHGFggkReUC6UDHNMvV4QKSDeDtu8HhAgGYvMd80eUA4c08aBjt5QOCVXXbbYXhA3bKKpxhHeEAwp+btGxt4QGMvLX+D1ndALDO4cQcgeEBcQ8FImq13QJl94fRZ8ndAtkktdEMVeEA1fQ7Wint4QP1FymNyvHhAnSA1a7c3eEAUks/Vl813QPL9NtfmyXdA0z/IyPZMd0AAAADAe3B3QOgK6K30SndAeMfqYjh8d0Aigv6iMNJ2QEyCs9eVW3ZAG91CH0FVdkAuB10/MFh2QJ0HvryHdXZA2Px4b2EldkBb/koH2RJ2QBWGmSGeO3ZAcfV5uY7NdkBbk2zZGuR2QOGfkSet2HZAjYc3BtKEdkCoSCs1mPh1QOaq9C5f5nVAphyHgMy0dUCg8NfDjit2QPx9MpAGVnZAExGS7NAydkANdf9tLaZ2QILKk6yUbnZAKGjGqT57dkAa9w9xI5x2QA4K26Ve7XZAhyU4WIU9d0BIJ4XTgGF3QFLakAqpOXdAFbscfXZ/d0AsWHHgKm53QORtpyPmjHdAGjwUJbhxd0CdnPCa35J2QFwdqTj+2nZAiO0hQz/1dkD6Os5Ugzt3QA0XMmoM/nZAVpjH3bXUd0BNHCxoRRd4QAe97dYWJHhAdJmIsPtEeEBl+ORsBv93QLOudE5S03dACO2aD33/d0B+nxNyweB3QGmz8eRjInhAzf0R0Y5OeEDoDZ6VP054QFbHqITRLXhAsvk2e5z3d0AAAADg6Zd4QNbKmNe9u3hAg7ZRe7GaeECpetPOcW14QA93n7AnIXhAo1xaK/rdd0Dp7WMgivh3QL3SSNSN/HdAAAAAoBcReEAYfIIWT8N4QFjoEj0/dnhAhzHTJvTXd0DuKe+XeW13QBvRa+anQndAkLpZ8fwpd0D6r10/Wnp3QJI6DBm8Z3dAIwN9mN02d0BAtDrbQjh3QPxpbkH8O3dAxxE38+BKd0BH7nf4ai93QDfAZMwla3dAJlp1l51id0AEjqou8CN3QOHk2rzllndA8lb+j+/bd0BOdhbrnax3QMjyZIxp+XdAmwGztz8meEAGxuNgti94QGYj4K0+QXhA\"},\"shape\":[150],\"dtype\":\"float64\",\"order\":\"little\"}],[\"Low\",{\"type\":\"ndarray\",\"array\":{\"type\":\"bytes\",\"data\":\"rdUD07FUdkCl3WuxMSt2QOocHvefQnZAXsxJ/3/HdUCHybpVNcJ1QKlqfBl5VnZAiXY+HWc9dkAWs0B0FWd2QOD7KtyB6XZABXLQH91Gd0ANNvFKltx2QBJxpZEivHZAEpKnCAJidkD0ripSFHV2QDG66qg8Z3ZArFkCvUjOdkBUWql9ugZ3QPIBL618K3dAXX98OUQKd0BmrTyg5sR2QMQIT2JOgnZAS+fJfKFKdkDzHRqqvdx2QCIJDziW3nZAkIjPslUnd0Cfk2UFFH53QOPKH0ROh3dA04Jd+YeYd0DciDlmm593QB5wq8x3bXdAjT3xyIasd0Dt+C2Alet3QFk/kCQpcHhAHTzC+zqJeED6wCro7XB4QG0AKZPWoXhAK812613HeECM97fmr5t4QEgob/b7vXhA2l/L0zileED/oi9PMQl5QIFhYCh9L3lAqLtpCXtLeUBWdRl2FIR5QNg1PkZ0pXlAUJVKWHeBeUAuHkDJOpB5QC+EmEBnTnlAYUBLQ8DGeEAGleeLD714QFsomJM3t3hAH/uhIr7geEBIJ3llyFh4QINjHW9+GnhA31hid4TKd0AkkgK3wLt3QBfzHRvabndAbzePfE9zd0C5jwa571V3QHg1BApQcXdAsRvwEJqtd0DW+thg3y14QLYL1VMninhAVdh5YsSLd0AmIatDdn93QFA28QZ5W3dA4cAWVAcNd0Aks6AdHA53QP74VKP5/nZAJKQ2bfvDdkDMVMXKIod2QHcLredi6nVAjKWBLV/mdUBC1UGbA8V1QHiCMhO733VAJDUSRPKydUBm3Guz3Yl1QJkKKapgq3VAqlarfwoddkBCCrPUrmB2QKM3QR1me3ZAD01nihjGdUAhGlCMmJN1QLE3sLFTdXVALPmdLnB+dUABoaIx9f90QNRv+T2hiHVAcynvqJKNdUAOGoxBtit2QA9UWrFJDXZAMowxhcX+dUBbfARdP+51QMmYVu4JgnZAF5Btg+fXdkBAA868SgF3QOPzi8QY4nZAH4sCSYDndkBoW6cErT13QOKmxWxAH3dABSDjbIWbdkAACANGUz92QL+V2uMCUnZArWOnsmmndkDQW7yeO8l2QIbvU53CiXZA6zg1M4tDd0A8QapcoL53QEkdI7V30XdA6u+ddjfMd0Cq4KuQ2dB3QBM94BUKiXdAxCK1A9O1d0DoCE9x9K93QMhI/bpo1ndAs7X7PqcWeED9PPlWFzl4QF4QK6XK1XdAzcd2kta5d0Ael16Pnrx3QDfcnRWqanhAEmEOtFtCeEDOivtgDAV4QG3Daz40oHdAvNnu2Uyld0DRog1qYLl3QJMFUceFt3dACIJjVIm7d0Ac5TZw8hJ4QO9KpcRS6HdAarysnEpmd0Av8VzWhhd3QAP5FAa17HZAgY7bLAnmdkAhrN8iIDF3QEGJL51AtnZAyV3KSdTodkDAS8Uk9gF3QDZ/0/jZz3ZA/babXh75dkDBb7C4CO92QLmtwby55XZAJhpvX2QHd0A/rm+bJ/R2QKPR0uQ8/nZAR71doGJ+d0BrUeAmqmh3QD4y7kHxt3dAg6tpABTId0D8kTG9WdZ3QLUpsYwQEHhA\"},\"shape\":[150],\"dtype\":\"float64\",\"order\":\"little\"}],[\"Open\",{\"type\":\"ndarray\",\"array\":{\"type\":\"bytes\",\"data\":\"mpmwUAC5dkBBH3U+D4t2QLTUFqreknZAtW0KEPgpdkBIRjLqk/V1QAMhtCa0V3ZAc5WciStEdkB61l5YwqB2QHPzb/n36XZA90gKvGJ+d0B3wJQwxnF3QPnnEWJa53ZAOw3KSJuadkAi9sZRh592QKb6gt4RlXZAX75YSuP0dkCWbAaHLiN3QKsMo60/RHdAxfvx6Wgud0BCw4t5kgx3QBxBtc4SiXZAhAzGRChydkB3R0mQp/t2QB8lQzZSVXdAbO/pU/Ixd0B7/KS/OZR3QOuWwKM3rndAUlifMG33d0ApzJkvrMZ3QCtlotlLqXdAVzH3Vkuxd0CefkkZGyV4QCq+elmefHhA7ewm9sOUeEDOLkOoTZR4QHKEyrdzpnhAHR6K4wzleEDN0UAhnJx4QJpQmZiV8nhARnppb/vDeEAf51Yl4Ch5QMkqcCmgaXlA6hgzV9xaeUBv1aGwAIV5QLLetAGHsnlA5D/abomWeUC6OzF2JaV5QJgd6I07iHlAMX8ptEQOeUAthRK4cM54QFYc81FKwnhAu6i7Am7yeEBmaE7uQTJ5QNrK87zfKXhAR44SVEBDeECD8P8R9gZ4QOgYTnKvmndAv/dzs1cMeEBRWz1kYJ53QMLyyIrZdHdAX1nDhCLBd0AoZJPRLTJ4QJY5MUsTj3hAhCQf9y4keED4KJtB/LJ3QBvbxu3Cm3dABsYPAWEsd0A6RSZ2WA93QIohvwCWOndAYWalNc1Kd0AQCmCmoLd2QCtJcav3WnZAbpUL9JEadkAu5E/zbjN2QCv6uUI4+3VAy5ytcL8gdkCD1CosYNN1QCY2B6ZByHVAFqoVORN3dkAwJd5TXYZ2QIDMVFnNqHZAt5Xb9xpCdkB135LWu/R1QPppNf1lnHVAZk6TSVGbdUAr3zwL8hB1QJ+DtgeeO3ZA3ktynIH1dUADI6dJPKF2QBsTWappQnZAuNnBd5YzdkA6qCPOpQZ2QOC82rb4rHZAMG9T6cHZdkCVFhAidgV3QB/MjdvaG3dAFp6fdG/qdkDiJOkX5k93QEUQGMUJiXdAQ4qcJqwod0Dx/PKQtmh2QNpNkzwdvnZAWuVnQBTJdkDV383Ylf12QEFK0J5c63ZARu+h+cJod0A7IaRKNN13QINX26O67XdAvq8GpBEzeEDcxo7ylO93QMVhWBv7jXdAwwHeSWj+d0A+2gpfiM53QBV7x+tD7XdA5/DHClwaeECGT+XCkT14QEOp+odBE3hAGup6ok7kd0BWVP/3qNt3QF1PbgW/qHhAJNkrhw5EeEDX8Al6T154QPNWkExaGHhArXHfuke0d0CFwS+FQdZ3QDdso4kq03dAaBTnsFjGd0A5PT2xI794QEla8CYsOnhAgEyjTEjJd0Cy+RdVwVd3QPNp+M05PXdAxJX5C3L7dkB4lag90Dl3QIRTnbm1NndArDpSUPYBd0BspX8grTJ3QB11wJQGHHdAuGkS16YBd0BS/KAdUhF3QNx17D4wS3dAYCGfIro4d0A/sBObEyJ3QDM3GgviL3dAb6HH9UWod0BT/wRl3nd3QOEBNSshxXdAfLdbcAMKeEBR1InKsdp3QFYaVlIYJnhA\"},\"shape\":[150],\"dtype\":\"float64\",\"order\":\"little\"}],[\"Volume\",{\"type\":\"ndarray\",\"array\":{\"type\":\"bytes\",\"data\":\"pBEiChgYMwbwhX0HVOYDCKx2nwZ8DpQEiDJeBcTmuQT8INgFADrvA6ShKAXgIuoDjL20BpT2dQQwpdoEWJ4yBEyW2APos1AEtJt6A8BjtQNYKgUFYMlYBbBdtgQQacQDEOitBNg/SATcWt4DtKRNBAxaMgPg5ScD1HDoBAikaAQ0ki8FvBMsBIjyxwM43AoEGKq4AjTtYgOUPDYD2JqtAmTBFwSkvYsDJGKtAyy2OAOorYgDiObJA+AI7AIE2w0EcIqhBDBJ7QLIZO4CXFEJA5j7JAaweuUDsPMaBQQfiASEerEE5EPwBdhkkQTo0zoExD3RBFR0kgRsxCAEHAZUB9RbEQWILzkFAPMkBiQkXgQUH5sE6NJcBlg+VQWU3UoHUK2EBdRvdAYYtZoG7IO7BmByKQlUk1kFcNosBqTGPwU8T+gEvLxsBjBSiATwLIMFOM2WBOTsxgioE2AHSKKNBZSWygVU18AE3BdDBcB8zwfkqRcFXBmzBAQ/NAZYyuIEsHz6BQR6wgVwNxcFQLiRB8QKMQUwXSsGtPkRBEyFCwUMv60EuHFuCBzilwUMKUkEBAmOBVRbFQQsuXAEhOKJBcDoDQPIEpoD4JYRBPgV0gGAygsE8C8eA6zpnQh4vo0E7DkWBUhZmwTowqUE3PrtA2zJngMUy9oE6Jl+BGTFYAfEpXEGrAwEB1DjJAfU18IEQKtvBGi9qAREufcFlFmRA7jvEwMMBjoEFOX9A7gTAgWMIXYEFEAfBQR6lgSgzjUG9NBoBBRJ5QPMChsEhLJfBZwYzwM0YbwD\"},\"shape\":[150],\"dtype\":\"int32\",\"order\":\"little\"}],[\"fecha\",{\"type\":\"ndarray\",\"array\":{\"type\":\"bytes\",\"data\":\"AAAAw6UVeEIAAMAo+BV4QgAAgI5KFnhCAABA9JwWeEIAAABa7xZ4QgAAAPE4GHhCAADAVosYeEIAAIC83Rh4QgAAQCIwGXhCAACAUycaeEIAAEC5eRp4QgAAAB/MGnhCAADAhB4beEIAAIDqcBt4QgAAgIG6HHhCAABA5wwdeEIAAABNXx14QgAAwLKxHXhCAAAA5KgeeEIAAMBJ+x54QgAAgK9NH3hCAABAFaAfeEIAAAB78h94QgAAQKzpIHhCAAAAEjwheEIAAMB3jiF4QgAAgN3gIXhCAABAQzMieEIAAIB0KiN4QgAAQNp8I3hCAAAAQM8jeEIAAMClISR4QgAAgAt0JHhCAADAPGsleEIAAICivSV4QgAAQAgQJnhCAAAAbmImeEIAAMDTtCZ4QgAAAAWsJ3hCAADAav4neEIAAIDQUCh4QgAAQDajKHhCAAAAnPUoeEIAAEDN7Cl4QgAAADM/KnhCAADAmJEqeEIAAID+4yp4QgAAQGQ2K3hCAACAlS0seEIAAED7fyx4QgAAAGHSLHhCAADAxiQteEIAAIAsdy14QgAAwF1uLnhCAACAw8AueEIAAEApEy94QgAAAI9lL3hCAADA9LcveEIAAMCLATF4QgAAgPFTMXhCAABAV6YxeEIAAAC9+DF4QgAAQO7vMnhCAAAAVEIzeEIAAMC5lDN4QgAAgB/nM3hCAABAhTk0eEIAAIC2MDV4QgAAQByDNXhCAAAAgtU1eEIAAMDnJzZ4QgAAgE16NnhCAADAfnE3eEIAAIDkwzd4QgAAQEoWOHhCAAAAsGg4eEIAAMAVuzh4QgAAAEeyOXhCAADArAQ6eEIAAIASVzp4QgAAQHipOnhCAAAA3vs6eEIAAEAP8zt4QgAAAHVFPHhCAADA2pc8eEIAAIBA6jx4QgAAQKY8PXhCAACA1zM+eEIAAEA9hj54QgAAAKPYPnhCAADACCs/eEIAAIBufT94QgAAwJ90QHhCAACABcdAeEIAAEBrGUF4QgAAANFrQXhCAADANr5BeEIAAABotUJ4QgAAwM0HQ3hCAACAM1pDeEIAAECZrEN4QgAAAP/+Q3hCAABAMPZEeEIAAACWSEV4QgAAwPuaRXhCAACAYe1FeEIAAEDHP0Z4QgAAgPg2R3hCAABAXolHeEIAAADE20d4QgAAwCkuSHhCAACAj4BIeEIAAMDAd0l4QgAAgCbKSXhCAABAjBxKeEIAAMBXwUp4QgAAAIm4S3hCAADA7gpMeEIAAIBUXUx4QgAAQLqvTHhCAAAAIAJNeEIAAEBR+U14QgAAALdLTnhCAADAHJ5OeEIAAICC8E54QgAAQOhCT3hCAACAGTpQeEIAAEB/jFB4QgAAAOXeUHhCAADASjFReEIAAICwg1F4QgAAwOF6UnhCAACAR81SeEIAAECtH1N4QgAAABNyU3hCAADAeMRTeEIAAMAPDlV4QgAAgHVgVXhCAABA27JVeEIAAABBBVZ4QgAAANhOV3hCAADAPaFXeEIAAICj81d4QgAAQAlGWHhCAACAOj1ZeEIAAECgj1l4QgAAAAbiWXhCAADAazRaeEIAAIDRhlp4QgAAgGjQW3hC\"},\"shape\":[150],\"dtype\":\"float64\",\"order\":\"little\"}],[\"companyName\",{\"type\":\"ndarray\",\"array\":[\"SPY\",\"SPY\",\"SPY\",\"SPY\",\"SPY\",\"SPY\",\"SPY\",\"SPY\",\"SPY\",\"SPY\",\"SPY\",\"SPY\",\"SPY\",\"SPY\",\"SPY\",\"SPY\",\"SPY\",\"SPY\",\"SPY\",\"SPY\",\"SPY\",\"SPY\",\"SPY\",\"SPY\",\"SPY\",\"SPY\",\"SPY\",\"SPY\",\"SPY\",\"SPY\",\"SPY\",\"SPY\",\"SPY\",\"SPY\",\"SPY\",\"SPY\",\"SPY\",\"SPY\",\"SPY\",\"SPY\",\"SPY\",\"SPY\",\"SPY\",\"SPY\",\"SPY\",\"SPY\",\"SPY\",\"SPY\",\"SPY\",\"SPY\",\"SPY\",\"SPY\",\"SPY\",\"SPY\",\"SPY\",\"SPY\",\"SPY\",\"SPY\",\"SPY\",\"SPY\",\"SPY\",\"SPY\",\"SPY\",\"SPY\",\"SPY\",\"SPY\",\"SPY\",\"SPY\",\"SPY\",\"SPY\",\"SPY\",\"SPY\",\"SPY\",\"SPY\",\"SPY\",\"SPY\",\"SPY\",\"SPY\",\"SPY\",\"SPY\",\"SPY\",\"SPY\",\"SPY\",\"SPY\",\"SPY\",\"SPY\",\"SPY\",\"SPY\",\"SPY\",\"SPY\",\"SPY\",\"SPY\",\"SPY\",\"SPY\",\"SPY\",\"SPY\",\"SPY\",\"SPY\",\"SPY\",\"SPY\",\"SPY\",\"SPY\",\"SPY\",\"SPY\",\"SPY\",\"SPY\",\"SPY\",\"SPY\",\"SPY\",\"SPY\",\"SPY\",\"SPY\",\"SPY\",\"SPY\",\"SPY\",\"SPY\",\"SPY\",\"SPY\",\"SPY\",\"SPY\",\"SPY\",\"SPY\",\"SPY\",\"SPY\",\"SPY\",\"SPY\",\"SPY\",\"SPY\",\"SPY\",\"SPY\",\"SPY\",\"SPY\",\"SPY\",\"SPY\",\"SPY\",\"SPY\",\"SPY\",\"SPY\",\"SPY\",\"SPY\",\"SPY\",\"SPY\",\"SPY\",\"SPY\",\"SPY\",\"SPY\",\"SPY\",\"SPY\",\"SPY\",\"SPY\"],\"shape\":[150],\"dtype\":\"object\",\"order\":\"little\"}],[\"SMA20\",{\"type\":\"ndarray\",\"array\":{\"type\":\"bytes\",\"data\":\"AAAAAAAA+H8AAAAAAAD4fwAAAAAAAPh/AAAAAAAA+H8AAAAAAAD4fwAAAAAAAPh/AAAAAAAA+H8AAAAAAAD4fwAAAAAAAPh/AAAAAAAA+H8AAAAAAAD4fwAAAAAAAPh/AAAAAAAA+H8AAAAAAAD4fwAAAAAAAPh/AAAAAAAA+H8AAAAAAAD4fwAAAAAAAPh/AAAAAAAA+H8zMzMrBMt2QAAAALAzz3ZAmpmZmYvTdkDNzMwUXNl2QM3MzJRW5nZAzczMzKX6dkCamZkJzAl3QDMzM4uPHHdAzczMJKgpd0BmZmbu4C13QJqZmbmlL3dAmpmZ0VM/d0CamZkpHVN3QJqZmUHUbXdAZmZmromEd0AzMzPbm5h3QDMzMwuasHdAAAAAIPfDd0AzMzNjCdd3QJqZmTkn7XdAAQAAkJ8EeEABAACIRiR4QDQzM5uiRHhAmpmZCelkeEA0MzP7+4h4QM7MzKTEpXhAAQAAuEi+eEABAACAqdR4QAEAALh26XhANDMz+yL3eEA0MzOzowd5QJqZmRlaEXlAAQAA+K8beUABAADojBZ5QM7MzGxKEHlAAQAAULcIeUCamZm55fl4QDQzM1s/7HhAmpmZ4evbeECamZmR08p4QDMzMxtkwHhAMzMzk0+xeEBmZmaOA6d4QJqZmSGcmnhAzczMPBx/eEDNzMxEHmR4QM3MzMQGSHhAMzMzQ7EoeEDNzMzEFhB4QGZmZhbN+ndAAAAA4Bvhd0AzMzMr9MN3QDMzM1t3nXdAmpmZgRZ/d0CamZlpDWJ3QDMzM9PvTXdAmpmZwSw2d0AzMzObIBl3QAAAAHCTBndAmpmZMe/9dkAzMzMDN+92QAAAAAh+23ZAMzMzw/K6dkBmZmae55R2QDMzM8PXenZAzczMXLdedkAAAAAITU12QGZmZv67N3ZAzczMjPQmdkBmZma28hx2QDMzM2MVFnZAmpmZ4UcPdkAzMzMjLRR2QJqZmUFrH3ZAZmZmJg0wdkAzMzNr7Dh2QM3MzGwyRnZAMzMzW8hedkBmZmbG6m12QGZmZob5cnZAZmZmrkJxdkAAAADIkW92QDMzMzsKenZAmpmZ4W2JdkCamZlxKZx2QAAAAJC6qXZAAAAAwOe/dkAzMzOreN92QGZmZtZS9XZAAAAAMHMKd0CamZmBQh93QDMzM3OFNXdAmpmZ4U5Gd0AAAABQclJ3QGZmZnYDXndAzczMBMRtd0AzMzMDBn93QAAAAABYhHdAmpmZAU+Ld0DNzMwkMZ13QM3MzIRLtndAmpmZAQTSd0CamZnx9eN3QGZmZqat7ndAMzMzs0v3d0CamZlJXgh4QJqZmZFHB3hAZmZmhp4HeEBmZmaW6Ax4QAAAAHicDXhAmpmZAR4JeEAzMzNrAQJ4QDMzM5v99ndAAAAAuH3td0BmZmYeTuR3QGZmZi7m1HdAMzMz80LHd0BmZmbmaL13QDMzMwNosHdAzczMdAyfd0CamZmhI413QGZmZv5XendAMzMzK3tvd0AAAAAoq2V3QJqZmTkfY3dAzczMxAZed0AzMzOTU113QM3MzJQUXHdAAAAAkJ5Zd0CamZlhVlp3QM3MzIQIYndA\"},\"shape\":[150],\"dtype\":\"float64\",\"order\":\"little\"}],[\"SMA40\",{\"type\":\"ndarray\",\"array\":{\"type\":\"bytes\",\"data\":\"AAAAAAAA+H8AAAAAAAD4fwAAAAAAAPh/AAAAAAAA+H8AAAAAAAD4fwAAAAAAAPh/AAAAAAAA+H8AAAAAAAD4fwAAAAAAAPh/AAAAAAAA+H8AAAAAAAD4fwAAAAAAAPh/AAAAAAAA+H8AAAAAAAD4fwAAAAAAAPh/AAAAAAAA+H8AAAAAAAD4fwAAAAAAAPh/AAAAAAAA+H8AAAAAAAD4fwAAAAAAAPh/AAAAAAAA+H8AAAAAAAD4fwAAAAAAAPh/AAAAAAAA+H8AAAAAAAD4fwAAAAAAAPh/AAAAAAAA+H8AAAAAAAD4fwAAAAAAAPh/AAAAAAAA+H8AAAAAAAD4fwAAAAAAAPh/AAAAAAAA+H8AAAAAAAD4fwAAAAAAAPh/AAAAAAAA+H8AAAAAAAD4fwAAAAAAAPh/mpmZ3dFnd0AAAAAcvXl3QGZmZhoXjHdAMzMzjyKfd0AAAABIqbd3QM3MzDg10HdAzczMYArkd0CamZmFnPh3QGZmZm6PCXhAzczM9IESeEBmZma2pBt4QJqZmfVWKHhAzczMkGY3eEDNzMyUMEJ4QJqZmQ1qSnhAmpmZlalQeEBmZmbiP1V4QJqZmT0bWHhAZmZmonpZeECamZll/Vt4QJqZmdWBYnhAmpmZDctqeEDNzMwU03V4QJqZmZXCf3hAAAAAHAyEeEDNzMx08YR4QGZmZr4ng3hAmpmZYa1+eEBmZma+xnx4QM3MzAj4eHhAmpmZyV90eEBmZmYip2p4QJqZmamTXHhAzczMtNFKeEAzMzPrKzl4QJqZmZFTK3hAmpmZPQkYeEAzMzP7rwJ4QM3MzKg/8XdAmpmZYWHkd0AzMzOPzdd3QJqZmc1mxndAzczMKPuwd0AAAADgwZd3QAAAAAD6fHdAzczM0Gphd0BmZmbmqUp3QM3MzKA2MHdAzczMqIUbd0BmZmbm3wt3QJqZmaGY+3ZAZmZmBp7pdkAzMzM/0th2QJqZmeFAz3ZAAAAASA3JdkAzMzMfbsN2QDMzM5cvvnZAMzMze/S7dkAzMzMbP7p2QAAAAFx0uHZAzczM2DywdkAAAADoh6V2QDMzM39+mnZAAAAAwCqPdkBmZmaagIt2QGZmZvY4hHZAAAAAZJqGdkDNzMxUmot2QJqZmbEjjnZANDMz87KTdkBnZmbyq5p2QGdmZqpmonZAZ2ZmAj6tdkDOzMzI7rh2QGdmZk4Ix3ZAAQAAOFjTdkABAAA4nOJ2QJqZmS2Q8XZAAQAA5Jz8dkCamZlVFQh3QJqZmRnHE3dAzszM5Mogd0BnZmYWAC93QAEAAMQNPHdAZ2ZmkrpJd0DOzMxsDFl3QM7MzKiXY3dAzszMmItzd0BnZma2HYF3QAEAANQHjHdAmpmZQTCUd0A0MzNvw5t3QGdmZj6mnndAAQAABPifd0BnZmbKKKF3QJqZmRlVoXdANDMzeySjd0A0MzNz4KB3QGZmZoLbnXdAzczMzB6ed0AzMzOTt6F3QAAAAAAupndAZmZmjripd0AzMzNnLKp3QGZmZnY1rXdAMzMzhzKzd0BmZmaSTbJ3QJqZmY3ZsXdAMzMzk0Ozd0DNzMxs+bN3QDMzM0OTtXdA\"},\"shape\":[150],\"dtype\":\"float64\",\"order\":\"little\"}],[\"SMA100\",{\"type\":\"ndarray\",\"array\":{\"type\":\"bytes\",\"data\":\"AAAAAAAA+H8AAAAAAAD4fwAAAAAAAPh/AAAAAAAA+H8AAAAAAAD4fwAAAAAAAPh/AAAAAAAA+H8AAAAAAAD4fwAAAAAAAPh/AAAAAAAA+H8AAAAAAAD4fwAAAAAAAPh/AAAAAAAA+H8AAAAAAAD4fwAAAAAAAPh/AAAAAAAA+H8AAAAAAAD4fwAAAAAAAPh/AAAAAAAA+H8AAAAAAAD4fwAAAAAAAPh/AAAAAAAA+H8AAAAAAAD4fwAAAAAAAPh/AAAAAAAA+H8AAAAAAAD4fwAAAAAAAPh/AAAAAAAA+H8AAAAAAAD4fwAAAAAAAPh/AAAAAAAA+H8AAAAAAAD4fwAAAAAAAPh/AAAAAAAA+H8AAAAAAAD4fwAAAAAAAPh/AAAAAAAA+H8AAAAAAAD4fwAAAAAAAPh/AAAAAAAA+H8AAAAAAAD4fwAAAAAAAPh/AAAAAAAA+H8AAAAAAAD4fwAAAAAAAPh/AAAAAAAA+H8AAAAAAAD4fwAAAAAAAPh/AAAAAAAA+H8AAAAAAAD4fwAAAAAAAPh/AAAAAAAA+H8AAAAAAAD4fwAAAAAAAPh/AAAAAAAA+H8AAAAAAAD4fwAAAAAAAPh/AAAAAAAA+H8AAAAAAAD4fwAAAAAAAPh/AAAAAAAA+H8AAAAAAAD4fwAAAAAAAPh/AAAAAAAA+H8AAAAAAAD4fwAAAAAAAPh/AAAAAAAA+H8AAAAAAAD4fwAAAAAAAPh/AAAAAAAA+H8AAAAAAAD4fwAAAAAAAPh/AAAAAAAA+H8AAAAAAAD4fwAAAAAAAPh/AAAAAAAA+H8AAAAAAAD4fwAAAAAAAPh/AAAAAAAA+H8AAAAAAAD4fwAAAAAAAPh/AAAAAAAA+H8AAAAAAAD4fwAAAAAAAPh/AAAAAAAA+H8AAAAAAAD4fwAAAAAAAPh/AAAAAAAA+H8AAAAAAAD4fwAAAAAAAPh/AAAAAAAA+H8AAAAAAAD4fwAAAAAAAPh/AAAAAAAA+H8AAAAAAAD4fwAAAAAAAPh/AAAAAAAA+H8AAAAAAAD4fwAAAAAAAPh/MzMzG01jd0DXo3CFK2N3QB+F61kJZHdAzczMjKRkd0BSuB7NfGd3QNejcO3+aHdArkfhQkNsd0DNzMxkOXB3QI/C9QAZc3dASOF6lKR0d0C4HoWj8nV3QD0K13tJeHdAUrgeTfN6d0CPwvXY3X13QB+F6zn9gHdArkfh4mOEd0AUrkcxlId3QIXrUbDkiHdAXI/C5SaKd0CamZkhBI53QIXrUWBbkndAj8L1yO6Wd0BSuB4FhZp3QLgehUMbnHdAmpmZORSed0AAAACg8J53QBSuR5H1nndAPQrXYzyfd0CuR+FKjKB3QAAAALBjoXdAhetRGHGhd0CPwvUAOZ93QKRwPcq5m3dAPQrXI2aXd0C4HoWDJJR3QIXrUcBykHdAexSuXxyMd0AzMzMLlYd3QFyPwgVtgndA16NwLWV+d0CkcD3KdXp3QHE9CkfydHdAhetRiONvd0AzMzPjDml3QBSuR3lOY3dAAAAAQGRdd0C4HoUjXlh3QAAAAGjrU3dArkfhQpRQd0DhehRe1E53QD0K19seTXdA\"},\"shape\":[150],\"dtype\":\"float64\",\"order\":\"little\"}],[\"SMA200\",{\"type\":\"ndarray\",\"array\":{\"type\":\"bytes\",\"data\":\"AAAAAAAA+H8AAAAAAAD4fwAAAAAAAPh/AAAAAAAA+H8AAAAAAAD4fwAAAAAAAPh/AAAAAAAA+H8AAAAAAAD4fwAAAAAAAPh/AAAAAAAA+H8AAAAAAAD4fwAAAAAAAPh/AAAAAAAA+H8AAAAAAAD4fwAAAAAAAPh/AAAAAAAA+H8AAAAAAAD4fwAAAAAAAPh/AAAAAAAA+H8AAAAAAAD4fwAAAAAAAPh/AAAAAAAA+H8AAAAAAAD4fwAAAAAAAPh/AAAAAAAA+H8AAAAAAAD4fwAAAAAAAPh/AAAAAAAA+H8AAAAAAAD4fwAAAAAAAPh/AAAAAAAA+H8AAAAAAAD4fwAAAAAAAPh/AAAAAAAA+H8AAAAAAAD4fwAAAAAAAPh/AAAAAAAA+H8AAAAAAAD4fwAAAAAAAPh/AAAAAAAA+H8AAAAAAAD4fwAAAAAAAPh/AAAAAAAA+H8AAAAAAAD4fwAAAAAAAPh/AAAAAAAA+H8AAAAAAAD4fwAAAAAAAPh/AAAAAAAA+H8AAAAAAAD4fwAAAAAAAPh/AAAAAAAA+H8AAAAAAAD4fwAAAAAAAPh/AAAAAAAA+H8AAAAAAAD4fwAAAAAAAPh/AAAAAAAA+H8AAAAAAAD4fwAAAAAAAPh/AAAAAAAA+H8AAAAAAAD4fwAAAAAAAPh/AAAAAAAA+H8AAAAAAAD4fwAAAAAAAPh/AAAAAAAA+H8AAAAAAAD4fwAAAAAAAPh/AAAAAAAA+H8AAAAAAAD4fwAAAAAAAPh/AAAAAAAA+H8AAAAAAAD4fwAAAAAAAPh/AAAAAAAA+H8AAAAAAAD4fwAAAAAAAPh/AAAAAAAA+H8AAAAAAAD4fwAAAAAAAPh/AAAAAAAA+H8AAAAAAAD4fwAAAAAAAPh/AAAAAAAA+H8AAAAAAAD4fwAAAAAAAPh/AAAAAAAA+H8AAAAAAAD4fwAAAAAAAPh/AAAAAAAA+H8AAAAAAAD4fwAAAAAAAPh/AAAAAAAA+H8AAAAAAAD4fwAAAAAAAPh/AAAAAAAA+H8AAAAAAAD4fwAAAAAAAPh/AAAAAAAA+H8AAAAAAAD4fwAAAAAAAPh/AAAAAAAA+H8AAAAAAAD4fwAAAAAAAPh/AAAAAAAA+H8AAAAAAAD4fwAAAAAAAPh/AAAAAAAA+H8AAAAAAAD4fwAAAAAAAPh/AAAAAAAA+H8AAAAAAAD4fwAAAAAAAPh/AAAAAAAA+H8AAAAAAAD4fwAAAAAAAPh/AAAAAAAA+H8AAAAAAAD4fwAAAAAAAPh/AAAAAAAA+H8AAAAAAAD4fwAAAAAAAPh/AAAAAAAA+H8AAAAAAAD4fwAAAAAAAPh/AAAAAAAA+H8AAAAAAAD4fwAAAAAAAPh/AAAAAAAA+H8AAAAAAAD4fwAAAAAAAPh/AAAAAAAA+H8AAAAAAAD4fwAAAAAAAPh/AAAAAAAA+H8AAAAAAAD4fwAAAAAAAPh/AAAAAAAA+H8AAAAAAAD4fwAAAAAAAPh/AAAAAAAA+H8AAAAAAAD4fwAAAAAAAPh/AAAAAAAA+H8AAAAAAAD4fwAAAAAAAPh/AAAAAAAA+H8AAAAAAAD4fwAAAAAAAPh/\"},\"shape\":[150],\"dtype\":\"float64\",\"order\":\"little\"}],[\"pivotHigh\",{\"type\":\"ndarray\",\"array\":{\"type\":\"bytes\",\"data\":\"AAAAAAAA+H8AAAAAAAD4fwAAAAAAAPh/AAAAAAAA+H8AAAAAAAD4fwAAAAAAAPh/AAAAAAAA+H8AAAAAAAD4f5ZQ60Gjb3dAAAAAAAAA+H8AAAAAAAD4fwAAAAAAAPh/AAAAAAAA+H8AAAAAAAD4fwAAAAAAAPh/AAAAAAAA+H+S+MBKo2t3QAAAAAAAAPh/AAAAAAAA+H8AAAAAAAD4fwAAAAAAAPh/AAAAAAAA+H8AAAAAAAD4fwAAAAAAAPh/AAAAAAAA+H8AAAAAAAD4fwAAAAAAAPh/AAAAAAAA+H8AAAAAAAD4fwAAAAAAAPh/AAAAAAAA+H8AAAAAAAD4fwAAAAAAAPh/AAAAAAAA+H8AAAAAAAD4fwAAAAAAAPh/AAAAAAAA+H8AAAAAAAD4fwAAAAAAAPh/AAAAAAAA+H8AAAAAAAD4fwAAAAAAAPh/AAAAAAAA+H8AAAAAAAD4f/Y1ZVEQ8HlAAAAAAAAA+H8AAAAAAAD4fwAAAAAAAPh/AAAAAAAA+H8AAAAAAAD4fwAAAAAAAPh/AAAAAAAA+H8AAAAAAAD4fwAAAAAAAPh/AAAAAAAA+H8AAAAAAAD4fwAAAAAAAPh/AAAAAAAA+H8AAAAAAAD4fwAAAAAAAPh/AAAAAAAA+H8AAAAAAAD4f7m6XXx2vHhAAAAAAAAA+H8AAAAAAAD4fwAAAAAAAPh/AAAAAAAA+H8AAAAAAAD4fwAAAAAAAPh/AAAAAAAA+H8AAAAAAAD4fwAAAAAAAPh/AAAAAAAA+H8AAAAAAAD4fwAAAAAAAPh/AAAAAAAA+H8AAAAAAAD4fwAAAAAAAPh/LWoN0pLNdkAAAAAAAAD4fwAAAAAAAPh/AAAAAAAA+H8AAAAAAAD4fwAAAAAAAPh/AAAAAAAA+H8AAAAAAAD4fwAAAAAAAPh/AAAAAAAA+H8AAAAAAAD4fwAAAAAAAPh/AAAAAAAA+H8AAAAAAAD4fwAAAAAAAPh/AAAAAAAA+H8AAAAAAAD4fwAAAAAAAPh/0S+wlXp/d0AAAAAAAAD4fwAAAAAAAPh/AAAAAAAA+H8AAAAAAAD4fwAAAAAAAPh/AAAAAAAA+H8AAAAAAAD4fwAAAAAAAPh/AAAAAAAA+H8Jkb+ASRd4QAAAAAAAAPh/AAAAAAAA+H8AAAAAAAD4fwAAAAAAAPh/AAAAAAAA+H8AAAAAAAD4fwAAAAAAAPh/AAAAAAAA+H8AAAAAAAD4fwAAAAAAAPh/AAAAAAAA+H+8dJP47Zd4QAAAAAAAAPh/AAAAAAAA+H8AAAAAAAD4fwAAAAAAAPh/AAAAAAAA+H8AAAAAAAD4fwAAAAAAAPh/AAAAAAAA+H/U8BUvU8N4QAAAAAAAAPh/AAAAAAAA+H8AAAAAAAD4fwAAAAAAAPh/AAAAAAAA+H8AAAAAAAD4fwAAAAAAAPh/AAAAAAAA+H8AAAAAAAD4fwAAAAAAAPh/AAAAAAAA+H8AAAAAAAD4fwAAAAAAAPh/AAAAAAAA+H8AAAAAAAD4fwAAAAAAAPh/AAAAAAAA+H8AAAAAAAD4fwAAAAAAAPh/AAAAAAAA+H8AAAAAAAD4fwAAAAAAAPh/\"},\"shape\":[150],\"dtype\":\"float64\",\"order\":\"little\"}],[\"pivotLow\",{\"type\":\"ndarray\",\"array\":{\"type\":\"bytes\",\"data\":\"AAAAAAAA+H8AAAAAAAD4fwAAAAAAAPh/ole25nvHdUAAAAAAAAD4fwAAAAAAAPh/AAAAAAAA+H8AAAAAAAD4fwAAAAAAAPh/AAAAAAAA+H8AAAAAAAD4fwAAAAAAAPh/Vh0U8P1hdkAAAAAAAAD4fwAAAAAAAPh/AAAAAAAA+H8AAAAAAAD4fwAAAAAAAPh/AAAAAAAA+H8AAAAAAAD4fwAAAAAAAPh/j3I2ZJ1KdkAAAAAAAAD4fwAAAAAAAPh/AAAAAAAA+H8AAAAAAAD4fwAAAAAAAPh/AAAAAAAA+H8AAAAAAAD4f2L7F7RzbXdAAAAAAAAA+H8AAAAAAAD4fwAAAAAAAPh/AAAAAAAA+H8AAAAAAAD4fwAAAAAAAPh/AAAAAAAA+H8AAAAAAAD4fwAAAAAAAPh/AAAAAAAA+H8AAAAAAAD4fwAAAAAAAPh/AAAAAAAA+H8AAAAAAAD4fwAAAAAAAPh/AAAAAAAA+H8AAAAAAAD4fwAAAAAAAPh/AAAAAAAA+H8AAAAAAAD4fwAAAAAAAPh/AAAAAAAA+H8AAAAAAAD4fwAAAAAAAPh/AAAAAAAA+H8AAAAAAAD4fwAAAAAAAPh/AAAAAAAA+H/9GnOg61V3QAAAAAAAAPh/AAAAAAAA+H8AAAAAAAD4fwAAAAAAAPh/AAAAAAAA+H8AAAAAAAD4fwAAAAAAAPh/AAAAAAAA+H8AAAAAAAD4fwAAAAAAAPh/AAAAAAAA+H8AAAAAAAD4fwAAAAAAAPh/AAAAAAAA+H8AAAAAAAD4fwAAAAAAAPh/AAAAAAAA+H+qZ9ia2Yl1QAAAAAAAAPh/AAAAAAAA+H8AAAAAAAD4fwAAAAAAAPh/AAAAAAAA+H8AAAAAAAD4fwAAAAAAAPh/cIQKFmx+dUAAAAAAAAD4fwAAAAAAAPh/AAAAAAAA+H8AAAAAAAD4fwAAAAAAAPh/AAAAAAAA+H8AAAAAAAD4fwAAAAAAAPh/AAAAAAAA+H8AAAAAAAD4fwAAAAAAAPh/AAAAAAAA+H8AAAAAAAD4fwAAAAAAAPh/AAAAAAAA+H9Ek28tTz92QAAAAAAAAPh/AAAAAAAA+H8AAAAAAAD4fwAAAAAAAPh/AAAAAAAA+H8AAAAAAAD4fwAAAAAAAPh/AAAAAAAA+H8AAAAAAAD4f1fITP0FiXdAAAAAAAAA+H8AAAAAAAD4fwAAAAAAAPh/AAAAAAAA+H8AAAAAAAD4fwAAAAAAAPh/AAAAAAAA+H8AAAAAAAD4fwAAAAAAAPh/AAAAAAAA+H8AAAAAAAD4fwAAAAAAAPh/AGVbwUild0AAAAAAAAD4fwAAAAAAAPh/AAAAAAAA+H8AAAAAAAD4fwAAAAAAAPh/AAAAAAAA+H8AAAAAAAD4f0eEge2w7HZAAAAAAAAA+H8AAAAAAAD4fwAAAAAAAPh/AAAAAAAA+H8AAAAAAAD4f3oKQODVz3ZAAAAAAAAA+H8AAAAAAAD4fwAAAAAAAPh/AAAAAAAA+H8AAAAAAAD4fwAAAAAAAPh/AAAAAAAA+H8AAAAAAAD4fwAAAAAAAPh/AAAAAAAA+H8AAAAAAAD4fwAAAAAAAPh/\"},\"shape\":[150],\"dtype\":\"float64\",\"order\":\"little\"}],[\"isPivot\",{\"type\":\"ndarray\",\"array\":{\"type\":\"bytes\",\"data\":\"AAAAAAAA+H8AAAAAAAD4fwAAAAAAAPh/AAAAAAAAAEAAAAAAAAD4fwAAAAAAAPh/AAAAAAAA+H8AAAAAAAD4fwAAAAAAAPA/AAAAAAAA+H8AAAAAAAD4fwAAAAAAAPh/AAAAAAAAAEAAAAAAAAD4fwAAAAAAAPh/AAAAAAAA+H8AAAAAAADwPwAAAAAAAPh/AAAAAAAA+H8AAAAAAAD4fwAAAAAAAPh/AAAAAAAAAEAAAAAAAAD4fwAAAAAAAPh/AAAAAAAA+H8AAAAAAAD4fwAAAAAAAPh/AAAAAAAA+H8AAAAAAAD4fwAAAAAAAABAAAAAAAAA+H8AAAAAAAD4fwAAAAAAAPh/AAAAAAAA+H8AAAAAAAD4fwAAAAAAAPh/AAAAAAAA+H8AAAAAAAD4fwAAAAAAAPh/AAAAAAAA+H8AAAAAAAD4fwAAAAAAAPh/AAAAAAAA+H8AAAAAAAD4fwAAAAAAAPA/AAAAAAAA+H8AAAAAAAD4fwAAAAAAAPh/AAAAAAAA+H8AAAAAAAD4fwAAAAAAAPh/AAAAAAAA+H8AAAAAAAD4fwAAAAAAAPh/AAAAAAAA+H8AAAAAAAD4fwAAAAAAAPh/AAAAAAAA+H8AAAAAAAAAQAAAAAAAAPh/AAAAAAAA+H8AAAAAAAD4fwAAAAAAAPA/AAAAAAAA+H8AAAAAAAD4fwAAAAAAAPh/AAAAAAAA+H8AAAAAAAD4fwAAAAAAAPh/AAAAAAAA+H8AAAAAAAD4fwAAAAAAAPh/AAAAAAAA+H8AAAAAAAD4fwAAAAAAAPh/AAAAAAAA+H8AAAAAAAAAQAAAAAAAAPh/AAAAAAAA8D8AAAAAAAD4fwAAAAAAAPh/AAAAAAAA+H8AAAAAAAD4fwAAAAAAAPh/AAAAAAAAAEAAAAAAAAD4fwAAAAAAAPh/AAAAAAAA+H8AAAAAAAD4fwAAAAAAAPh/AAAAAAAA+H8AAAAAAAD4fwAAAAAAAPh/AAAAAAAA+H8AAAAAAAD4fwAAAAAAAPh/AAAAAAAA8D8AAAAAAAD4fwAAAAAAAPh/AAAAAAAA+H8AAAAAAAAAQAAAAAAAAPh/AAAAAAAA+H8AAAAAAAD4fwAAAAAAAPh/AAAAAAAA+H8AAAAAAADwPwAAAAAAAPh/AAAAAAAA+H8AAAAAAAD4fwAAAAAAAABAAAAAAAAA+H8AAAAAAAD4fwAAAAAAAPh/AAAAAAAA+H8AAAAAAAD4fwAAAAAAAPh/AAAAAAAA+H8AAAAAAADwPwAAAAAAAPh/AAAAAAAA+H8AAAAAAAD4fwAAAAAAAPh/AAAAAAAAAEAAAAAAAAD4fwAAAAAAAPh/AAAAAAAA+H8AAAAAAADwPwAAAAAAAPh/AAAAAAAA+H8AAAAAAAD4fwAAAAAAAABAAAAAAAAA+H8AAAAAAAD4fwAAAAAAAPh/AAAAAAAA+H8AAAAAAAD4fwAAAAAAAABAAAAAAAAA+H8AAAAAAAD4fwAAAAAAAPh/AAAAAAAA+H8AAAAAAAD4fwAAAAAAAPh/AAAAAAAA+H8AAAAAAAD4fwAAAAAAAPh/AAAAAAAA+H8AAAAAAAD4fwAAAAAAAPh/\"},\"shape\":[150],\"dtype\":\"float64\",\"order\":\"little\"}]]}}},\"view\":{\"type\":\"object\",\"name\":\"CDSView\",\"id\":\"p1049\",\"attributes\":{\"filter\":{\"type\":\"object\",\"name\":\"AllIndices\",\"id\":\"p1050\"}}},\"glyph\":{\"type\":\"object\",\"name\":\"Segment\",\"id\":\"p1045\",\"attributes\":{\"x0\":{\"type\":\"field\",\"field\":\"index\"},\"y0\":{\"type\":\"field\",\"field\":\"High\"},\"x1\":{\"type\":\"field\",\"field\":\"index\"},\"y1\":{\"type\":\"field\",\"field\":\"Low\"}}},\"nonselection_glyph\":{\"type\":\"object\",\"name\":\"Segment\",\"id\":\"p1046\",\"attributes\":{\"x0\":{\"type\":\"field\",\"field\":\"index\"},\"y0\":{\"type\":\"field\",\"field\":\"High\"},\"x1\":{\"type\":\"field\",\"field\":\"index\"},\"y1\":{\"type\":\"field\",\"field\":\"Low\"},\"line_alpha\":{\"type\":\"value\",\"value\":0.1}}},\"muted_glyph\":{\"type\":\"object\",\"name\":\"Segment\",\"id\":\"p1047\",\"attributes\":{\"x0\":{\"type\":\"field\",\"field\":\"index\"},\"y0\":{\"type\":\"field\",\"field\":\"High\"},\"x1\":{\"type\":\"field\",\"field\":\"index\"},\"y1\":{\"type\":\"field\",\"field\":\"Low\"},\"line_alpha\":{\"type\":\"value\",\"value\":0.2}}}}},{\"type\":\"object\",\"name\":\"GlyphRenderer\",\"id\":\"p1060\",\"attributes\":{\"data_source\":{\"type\":\"object\",\"name\":\"ColumnDataSource\",\"id\":\"p1051\",\"attributes\":{\"selected\":{\"type\":\"object\",\"name\":\"Selection\",\"id\":\"p1052\",\"attributes\":{\"indices\":[],\"line_indices\":[]}},\"selection_policy\":{\"type\":\"object\",\"name\":\"UnionRenderers\",\"id\":\"p1053\"},\"data\":{\"type\":\"map\",\"entries\":[[\"index\",{\"type\":\"ndarray\",\"array\":{\"type\":\"bytes\",\"data\":\"AAAAAAEAAAADAAAACQAAAAoAAAALAAAAEgAAABMAAAAXAAAAGwAAABwAAAAdAAAAIgAAACQAAAAmAAAAJwAAACkAAAAvAAAAMAAAADEAAAA0AAAANgAAADcAAAA5AAAAOgAAAD8AAABBAAAARAAAAEUAAABGAAAARwAAAEgAAABJAAAASwAAAEwAAABQAAAAUQAAAFIAAABTAAAAVAAAAFYAAABYAAAAWQAAAFoAAABfAAAAYQAAAGIAAABjAAAAZAAAAGUAAABoAAAAawAAAGwAAABtAAAAbwAAAHAAAAB0AAAAdQAAAHcAAAB5AAAAegAAAH0AAAB/AAAAgAAAAIEAAACCAAAAgwAAAIYAAACIAAAAiQAAAIwAAACOAAAAkAAAAJUAAAA=\"},\"shape\":[74],\"dtype\":\"int32\",\"order\":\"little\"}],[\"Close\",{\"type\":\"ndarray\",\"array\":{\"type\":\"bytes\",\"data\":\"AAAAgLpudkAAAACAbF12QAAAAGDb7nVAAAAAAI1Yd0ABAADAbt52QAAAACCq2XZAAAAAgH4Vd0ABAABAM+F2QAAAAGBt8nZAAQAAQIW8d0AAAACA58N3QAAAAODse3dAAAAAIACEeEAAAACA+eF4QAEAAEDTz3hAAAAAAJq2eEAAAABAfDt5QAAAAKCNXHlAAQAAwFzVeEABAABA+8V4QAAAAKC0WXhAAAAA4IHsd0AAAADg5713QAAAAMCvkHdAAAAAAO15d0AAAABg6p13QAAAAAAVcHdAAAAAIJsrd0AAAAAAI8R2QAAAAIAuk3ZAAAAAIFoydkAAAACgI/p1QAAAAODG63VAAAAAgKridUAAAAAgB4x1QAAAAABug3ZAAAAAgKridUAAAAAg47d1QAAAAECtlHVAAAAAIHSCdUAAAAAg+pJ1QAAAAGB2Y3ZAAAAAgNg6dkAAAABgIAt2QAAAAKAi7HZAAQAAwFhMd0AAAAAgPzJ3QAAAAEA4nXZAAAAAAJxhdkAAAACAE7R2QAAAAIDKkXZAAQAAQPLVd0AAAABg/Ql4QAAAAOAK23dAAAAA4P/jd0AAAACgws13QAAAAIAl4ndAAAAA4KTXd0AAAADAR5N4QAEAAED6GnhAAQAAQAbCd0AAAADAh7l3QAAAAIC7P3hAAAAAAAsYeEAAAACgKYF3QAAAAIAfOndAAAAAoLMHd0AAAADgjxJ3QAAAAIAcHXdAAAAAIJPTdkAAAAAAHRR3QAAAAADG/XZAAAAAIFWBd0AAAABgFBt4QA==\"},\"shape\":[74],\"dtype\":\"float64\",\"order\":\"little\"}],[\"High\",{\"type\":\"ndarray\",\"array\":{\"type\":\"bytes\",\"data\":\"eHehNATXdkAfDatuwJt2QLXs8MqNMHZAfh8JSieDd0CAEzJ21p53QD7fsRdZ93ZAxarJ6xg+d0DZCCUlLTN3QA4UDqo9YHdAPbJXHM4KeECXmMMMv9F3QJuP1Q+urHdAlskravrPeEDTFMHAH/B4QMzF6/wIF3lA+YyUMyLMeED76TddxYd5QK77ov6JjHlAzHGFggkReUC6UDHNMvV4QDhzTxoGO3lA3bKKpxhHeEAwp+btGxt4QCwzuHEHIHhAXEPBSJqtd0CdIDVrtzd4QPL9NtfmyXdA6ArorfRKd0B4x+piOHx3QCKC/qIw0nZATIKz15VbdkAb3UIfQVV2QC4HXT8wWHZA2Px4b2EldkBb/koH2RJ2QOGfkSet2HZAjYc3BtKEdkCoSCs1mPh1QOaq9C5f5nVAphyHgMy0dUD8fTKQBlZ2QA11/20tpnZAgsqTrJRudkAoaMapPnt2QFLakAqpOXdALFhx4Cpud0Dkbacj5ox3QBo8FCW4cXdAnZzwmt+SdkBcHak4/tp2QA0XMmoM/nZAB73t1hYkeEB0mYiw+0R4QGX45GwG/3dACO2aD33/d0B+nxNyweB3QFbHqITRLXhAsvk2e5z3d0DWypjXvbt4QKl6085xbXhAD3efsCcheEC90kjUjfx3QBh8ghZPw3hAWOgSPT92eECHMdMm9Nd3QO4p75d5bXdAG9Fr5qdCd0CSOgwZvGd3QEC0OttCOHdA/GluQfw7d0A3wGTMJWt3QASOqi7wI3dA8lb+j+/bd0BmI+CtPkF4QA==\"},\"shape\":[74],\"dtype\":\"float64\",\"order\":\"little\"}],[\"Low\",{\"type\":\"ndarray\",\"array\":{\"type\":\"bytes\",\"data\":\"rdUD07FUdkCl3WuxMSt2QF7MSf9/x3VABXLQH91Gd0ANNvFKltx2QBJxpZEivHZAXX98OUQKd0BmrTyg5sR2QCIJDziW3nZA04Jd+YeYd0DciDlmm593QB5wq8x3bXdA+sAq6O1weEArzXbrXcd4QEgob/b7vXhA2l/L0zileECBYWAofS95QC+EmEBnTnlAYUBLQ8DGeEAGleeLD714QEgneWXIWHhA31hid4TKd0AkkgK3wLt3QG83j3xPc3dAuY8Gue9Vd0BV2HlixIt3QFA28QZ5W3dA/vhUo/n+dkAkpDZt+8N2QMxUxcoih3ZAdwut52LqdUCMpYEtX+Z1QELVQZsDxXVAJDUSRPKydUBm3Guz3Yl1QKM3QR1me3ZAD01nihjGdUAhGlCMmJN1QLE3sLFTdXVALPmdLnB+dUDUb/k9oYh1QA4ajEG2K3ZAD1RasUkNdkAyjDGFxf51QOPzi8QY4nZAaFunBK09d0DipsVsQB93QAUg42yFm3ZAAAgDRlM/dkC/ldrjAlJ2QIbvU53CiXZASR0jtXfRd0Dq7512N8x3QKrgq5DZ0HdAxCK1A9O1d0DoCE9x9K93QF4QK6XK1XdAzcd2kta5d0A33J0Vqmp4QM6K+2AMBXhAbcNrPjSgd0CTBVHHhbd3QBzlNnDyEnhA70qlxFLod0BqvKycSmZ3QC/xXNaGF3dAA/kUBrXsdkBBiS+dQLZ2QMBLxST2AXdANn/T+NnPdkC5rcG8ueV2QD+ub5sn9HZAR71doGJ+d0C1KbGMEBB4QA==\"},\"shape\":[74],\"dtype\":\"float64\",\"order\":\"little\"}],[\"Open\",{\"type\":\"ndarray\",\"array\":{\"type\":\"bytes\",\"data\":\"mpmwUAC5dkBBH3U+D4t2QLVtChD4KXZA90gKvGJ+d0B3wJQwxnF3QPnnEWJa53ZAxfvx6Wgud0BCw4t5kgx3QB8lQzZSVXdAUlifMG33d0ApzJkvrMZ3QCtlotlLqXdAzi5DqE2UeEAdHorjDOV4QJpQmZiV8nhARnppb/vDeEDJKnApoGl5QJgd6I07iHlAMX8ptEQOeUAthRK4cM54QGZoTu5BMnlAR44SVEBDeECD8P8R9gZ4QL/3c7NXDHhAUVs9ZGCed0CEJB/3LiR4QBvbxu3Cm3dAiiG/AJY6d0BhZqU1zUp3QBAKYKagt3ZAK0lxq/dadkBulQv0kRp2QC7kT/NuM3ZAy5ytcL8gdkCD1CosYNN1QIDMVFnNqHZAt5Xb9xpCdkB135LWu/R1QPppNf1lnHVAZk6TSVGbdUCfg7YHnjt2QAMjp0k8oXZAGxNZqmlCdkC42cF3ljN2QB/MjdvaG3dA4iTpF+ZPd0BFEBjFCYl3QEOKnCasKHdA8fzykLZodkDaTZM8Hb52QEFK0J5c63ZAg1fbo7rtd0C+rwakETN4QNzGjvKU73dAwwHeSWj+d0A+2gpfiM53QEOp+odBE3hAGup6ok7kd0BdT24Fv6h4QNfwCXpPXnhA81aQTFoYeEA3bKOJKtN3QDk9PbEjv3hASVrwJiw6eECATKNMSMl3QLL5F1XBV3dA82n4zTk9d0CEU525tTZ3QGylfyCtMndAHXXAlAYcd0Dcdew+MEt3QD+wE5sTIndAb6HH9UWod0BWGlZSGCZ4QA==\"},\"shape\":[74],\"dtype\":\"float64\",\"order\":\"little\"}],[\"Volume\",{\"type\":\"ndarray\",\"array\":{\"type\":\"bytes\",\"data\":\"pBEiChgYMwZU5gMIADrvA6ShKAXgIuoDtJt6A8BjtQMQacQDtKRNBAxaMgPg5ScDiPLHAxiquAKUPDYD2JqtAqS9iwME2w0EcIqhBDBJ7QKY+yQGsPMaBQQfiATkQ/AF2GSRBBwGVAeILzkFFB+bBOjSXAZYPlUFlN1KB1CthAXUb3QG7IO7BmByKQk8T+gEvLxsBjBSiATwLIMFOM2WBKgTYAeUlsoFVNfABNwXQwVYyuIEBHrCBXA3FwVAuJEHxAoxBTBdKwYMv60EDClJBAQJjgVUWxUEhOKJBcDoDQOAygsE8C8eA3i+jQRIWZsE6MKlBBTL2gRkxWAHxKVxBqwMBAdQ4yQH1NfCBES59wW47xMDDAY6BIwhdgQEepYE9NBoBDRhvAM=\"},\"shape\":[74],\"dtype\":\"int32\",\"order\":\"little\"}],[\"fecha\",{\"type\":\"ndarray\",\"array\":{\"type\":\"bytes\",\"data\":\"AAAAw6UVeEIAAMAo+BV4QgAAQPScFnhCAACAUycaeEIAAEC5eRp4QgAAAB/MGnhCAAAA5KgeeEIAAMBJ+x54QgAAQKzpIHhCAABAQzMieEIAAIB0KiN4QgAAQNp8I3hCAACAor0leEIAAABuYiZ4QgAAAAWsJ3hCAADAav4neEIAAEA2oyh4QgAAQGQ2K3hCAACAlS0seEIAAED7fyx4QgAAgCx3LXhCAACAw8AueEIAAEApEy94QgAAwPS3L3hCAADAiwExeEIAAABUQjN4QgAAgB/nM3hCAABAHIM1eEIAAACC1TV4QgAAwOcnNnhCAACATXo2eEIAAMB+cTd4QgAAgOTDN3hCAAAAsGg4eEIAAMAVuzh4QgAAQHipOnhCAAAA3vs6eEIAAEAP8zt4QgAAAHVFPHhCAADA2pc8eEIAAECmPD14QgAAQD2GPnhCAAAAo9g+eEIAAMAIKz94QgAAANFrQXhCAAAAaLVCeEIAAMDNB0N4QgAAgDNaQ3hCAABAmaxDeEIAAAD//kN4QgAAwPuaRXhCAACA+DZHeEIAAEBeiUd4QgAAAMTbR3hCAACAj4BIeEIAAMDAd0l4QgAAAIm4S3hCAADA7gpMeEIAAEC6r0x4QgAAQFH5TXhCAAAAt0tOeEIAAEDoQk94QgAAQH+MUHhCAAAA5d5QeEIAAMBKMVF4QgAAgLCDUXhCAADA4XpSeEIAAAATclN4QgAAwA8OVXhCAACAdWBVeEIAAADYTld4QgAAgKPzV3hCAACAOj1ZeEIAAIBo0Ft4Qg==\"},\"shape\":[74],\"dtype\":\"float64\",\"order\":\"little\"}],[\"companyName\",{\"type\":\"ndarray\",\"array\":[\"SPY\",\"SPY\",\"SPY\",\"SPY\",\"SPY\",\"SPY\",\"SPY\",\"SPY\",\"SPY\",\"SPY\",\"SPY\",\"SPY\",\"SPY\",\"SPY\",\"SPY\",\"SPY\",\"SPY\",\"SPY\",\"SPY\",\"SPY\",\"SPY\",\"SPY\",\"SPY\",\"SPY\",\"SPY\",\"SPY\",\"SPY\",\"SPY\",\"SPY\",\"SPY\",\"SPY\",\"SPY\",\"SPY\",\"SPY\",\"SPY\",\"SPY\",\"SPY\",\"SPY\",\"SPY\",\"SPY\",\"SPY\",\"SPY\",\"SPY\",\"SPY\",\"SPY\",\"SPY\",\"SPY\",\"SPY\",\"SPY\",\"SPY\",\"SPY\",\"SPY\",\"SPY\",\"SPY\",\"SPY\",\"SPY\",\"SPY\",\"SPY\",\"SPY\",\"SPY\",\"SPY\",\"SPY\",\"SPY\",\"SPY\",\"SPY\",\"SPY\",\"SPY\",\"SPY\",\"SPY\",\"SPY\",\"SPY\",\"SPY\",\"SPY\",\"SPY\"],\"shape\":[74],\"dtype\":\"object\",\"order\":\"little\"}],[\"SMA20\",{\"type\":\"ndarray\",\"array\":{\"type\":\"bytes\",\"data\":\"AAAAAAAA+H8AAAAAAAD4fwAAAAAAAPh/AAAAAAAA+H8AAAAAAAD4fwAAAAAAAPh/AAAAAAAA+H8zMzMrBMt2QM3MzJRW5nZAzczMJKgpd0BmZmbu4C13QJqZmbmlL3dAMzMz25uYd0AAAAAg98N3QJqZmTkn7XdAAQAAkJ8EeEA0MzObokR4QAEAALh26XhANDMz+yL3eEA0MzOzowd5QAEAAOiMFnlAAQAAULcIeUCamZm55fl4QJqZmeHr23hAmpmZkdPKeEDNzMw8HH94QM3MzMQGSHhAZmZmFs36d0AAAADgG+F3QDMzMyv0w3dAMzMzW3edd0CamZmBFn93QJqZmWkNYndAmpmZwSw2d0AzMzObIBl3QAAAAAh+23ZAMzMzw/K6dkBmZmae55R2QDMzM8PXenZAzczMXLdedkBmZmb+uzd2QGZmZrbyHHZAMzMzYxUWdkCamZnhRw92QM3MzGwyRnZAZmZmxuptdkBmZmaG+XJ2QGZmZq5CcXZAAAAAyJFvdkAzMzM7Cnp2QAAAAJC6qXZAZmZm1lL1dkAAAAAwcwp3QJqZmYFCH3dAmpmZ4U5Gd0AAAABQclJ3QAAAAABYhHdAmpmZAU+Ld0DNzMyES7Z3QJqZmfH143dAZmZmpq3ud0CamZmRRwd4QGZmZpboDHhAAAAAeJwNeECamZkBHgl4QDMzM2sBAnhAMzMzm/32d0BmZmYu5tR3QGZmZuZovXdAMzMzA2iwd0BmZmb+V3p3QAAAACirZXdAzczMxAZed0DNzMyECGJ3QA==\"},\"shape\":[74],\"dtype\":\"float64\",\"order\":\"little\"}],[\"SMA40\",{\"type\":\"ndarray\",\"array\":{\"type\":\"bytes\",\"data\":\"AAAAAAAA+H8AAAAAAAD4fwAAAAAAAPh/AAAAAAAA+H8AAAAAAAD4fwAAAAAAAPh/AAAAAAAA+H8AAAAAAAD4fwAAAAAAAPh/AAAAAAAA+H8AAAAAAAD4fwAAAAAAAPh/AAAAAAAA+H8AAAAAAAD4fwAAAAAAAPh/mpmZ3dFnd0BmZmYaF4x3QGZmZm6PCXhAzczM9IESeEBmZma2pBt4QM3MzJQwQnhAmpmZlalQeEBmZmbiP1V4QGZmZqJ6WXhAmpmZZf1beEAAAAAcDIR4QGZmZr4ng3hAzczMCPh4eECamZnJX3R4QGZmZiKnanhAmpmZqZNceEDNzMy00Up4QDMzM+srOXhAmpmZPQkYeEAzMzP7rwJ4QJqZmc1mxndAzczMKPuwd0AAAADgwZd3QAAAAAD6fHdAzczM0Gphd0DNzMygNjB3QGZmZubfC3dAmpmZoZj7dkBmZmYGnul2QDMzM5cvvnZAMzMzGz+6dkAAAABcdLh2QM3MzNg8sHZAAAAA6IeldkAzMzN/fpp2QGZmZvY4hHZAmpmZsSOOdkA0MzPzspN2QGdmZvKrmnZAZ2ZmAj6tdkDOzMzI7rh2QJqZmS2Q8XZAAQAA5Jz8dkCamZkZxxN3QGdmZhYAL3dAAQAAxA08d0DOzMyol2N3QGdmZrYdgXdAAQAA1AeMd0CamZlBMJR3QDQzM2/Dm3dAZ2ZmPqaed0CamZkZVaF3QDQzM3PgoHdAZmZmgtudd0AAAAAALqZ3QDMzM2csqndAMzMzhzKzd0AzMzNDk7V3QA==\"},\"shape\":[74],\"dtype\":\"float64\",\"order\":\"little\"}],[\"SMA100\",{\"type\":\"ndarray\",\"array\":{\"type\":\"bytes\",\"data\":\"AAAAAAAA+H8AAAAAAAD4fwAAAAAAAPh/AAAAAAAA+H8AAAAAAAD4fwAAAAAAAPh/AAAAAAAA+H8AAAAAAAD4fwAAAAAAAPh/AAAAAAAA+H8AAAAAAAD4fwAAAAAAAPh/AAAAAAAA+H8AAAAAAAD4fwAAAAAAAPh/AAAAAAAA+H8AAAAAAAD4fwAAAAAAAPh/AAAAAAAA+H8AAAAAAAD4fwAAAAAAAPh/AAAAAAAA+H8AAAAAAAD4fwAAAAAAAPh/AAAAAAAA+H8AAAAAAAD4fwAAAAAAAPh/AAAAAAAA+H8AAAAAAAD4fwAAAAAAAPh/AAAAAAAA+H8AAAAAAAD4fwAAAAAAAPh/AAAAAAAA+H8AAAAAAAD4fwAAAAAAAPh/AAAAAAAA+H8AAAAAAAD4fwAAAAAAAPh/AAAAAAAA+H8AAAAAAAD4fwAAAAAAAPh/AAAAAAAA+H8AAAAAAAD4fwAAAAAAAPh/AAAAAAAA+H8AAAAAAAD4fzMzMxtNY3dA16NwhStjd0AfhetZCWR3QNejcO3+aHdAj8L1ABlzd0BI4XqUpHR3QLgehaPydXdAUrgeTfN6d0CPwvXY3X13QIXrUbDkiHdAXI/C5SaKd0CF61FgW5J3QFK4HgWFmndAuB6FQxucd0AUrkeR9Z53QK5H4UqMoHdAAAAAsGOhd0CF61EYcaF3QI/C9QA5n3dApHA9yrmbd0CF61HAcpB3QDMzMwuVh3dAXI/CBW2Cd0BxPQpH8nR3QDMzM+MOaXdAAAAAQGRdd0A9CtfbHk13QA==\"},\"shape\":[74],\"dtype\":\"float64\",\"order\":\"little\"}],[\"SMA200\",{\"type\":\"ndarray\",\"array\":{\"type\":\"bytes\",\"data\":\"AAAAAAAA+H8AAAAAAAD4fwAAAAAAAPh/AAAAAAAA+H8AAAAAAAD4fwAAAAAAAPh/AAAAAAAA+H8AAAAAAAD4fwAAAAAAAPh/AAAAAAAA+H8AAAAAAAD4fwAAAAAAAPh/AAAAAAAA+H8AAAAAAAD4fwAAAAAAAPh/AAAAAAAA+H8AAAAAAAD4fwAAAAAAAPh/AAAAAAAA+H8AAAAAAAD4fwAAAAAAAPh/AAAAAAAA+H8AAAAAAAD4fwAAAAAAAPh/AAAAAAAA+H8AAAAAAAD4fwAAAAAAAPh/AAAAAAAA+H8AAAAAAAD4fwAAAAAAAPh/AAAAAAAA+H8AAAAAAAD4fwAAAAAAAPh/AAAAAAAA+H8AAAAAAAD4fwAAAAAAAPh/AAAAAAAA+H8AAAAAAAD4fwAAAAAAAPh/AAAAAAAA+H8AAAAAAAD4fwAAAAAAAPh/AAAAAAAA+H8AAAAAAAD4fwAAAAAAAPh/AAAAAAAA+H8AAAAAAAD4fwAAAAAAAPh/AAAAAAAA+H8AAAAAAAD4fwAAAAAAAPh/AAAAAAAA+H8AAAAAAAD4fwAAAAAAAPh/AAAAAAAA+H8AAAAAAAD4fwAAAAAAAPh/AAAAAAAA+H8AAAAAAAD4fwAAAAAAAPh/AAAAAAAA+H8AAAAAAAD4fwAAAAAAAPh/AAAAAAAA+H8AAAAAAAD4fwAAAAAAAPh/AAAAAAAA+H8AAAAAAAD4fwAAAAAAAPh/AAAAAAAA+H8AAAAAAAD4fwAAAAAAAPh/AAAAAAAA+H8AAAAAAAD4fw==\"},\"shape\":[74],\"dtype\":\"float64\",\"order\":\"little\"}],[\"pivotHigh\",{\"type\":\"ndarray\",\"array\":{\"type\":\"bytes\",\"data\":\"AAAAAAAA+H8AAAAAAAD4fwAAAAAAAPh/AAAAAAAA+H8AAAAAAAD4fwAAAAAAAPh/AAAAAAAA+H8AAAAAAAD4fwAAAAAAAPh/AAAAAAAA+H8AAAAAAAD4fwAAAAAAAPh/AAAAAAAA+H8AAAAAAAD4fwAAAAAAAPh/AAAAAAAA+H8AAAAAAAD4fwAAAAAAAPh/AAAAAAAA+H8AAAAAAAD4fwAAAAAAAPh/AAAAAAAA+H8AAAAAAAD4fwAAAAAAAPh/AAAAAAAA+H8AAAAAAAD4fwAAAAAAAPh/AAAAAAAA+H8AAAAAAAD4fwAAAAAAAPh/AAAAAAAA+H8AAAAAAAD4fwAAAAAAAPh/AAAAAAAA+H8AAAAAAAD4fwAAAAAAAPh/AAAAAAAA+H8AAAAAAAD4fwAAAAAAAPh/AAAAAAAA+H8AAAAAAAD4fwAAAAAAAPh/AAAAAAAA+H8AAAAAAAD4fwAAAAAAAPh/AAAAAAAA+H8AAAAAAAD4fwAAAAAAAPh/AAAAAAAA+H8AAAAAAAD4fwAAAAAAAPh/AAAAAAAA+H8AAAAAAAD4fwAAAAAAAPh/AAAAAAAA+H8AAAAAAAD4fwAAAAAAAPh/AAAAAAAA+H8AAAAAAAD4fwAAAAAAAPh/AAAAAAAA+H8AAAAAAAD4f9TwFS9Tw3hAAAAAAAAA+H8AAAAAAAD4fwAAAAAAAPh/AAAAAAAA+H8AAAAAAAD4fwAAAAAAAPh/AAAAAAAA+H8AAAAAAAD4fwAAAAAAAPh/AAAAAAAA+H8AAAAAAAD4fw==\"},\"shape\":[74],\"dtype\":\"float64\",\"order\":\"little\"}],[\"pivotLow\",{\"type\":\"ndarray\",\"array\":{\"type\":\"bytes\",\"data\":\"AAAAAAAA+H8AAAAAAAD4f6JXtuZ7x3VAAAAAAAAA+H8AAAAAAAD4fwAAAAAAAPh/AAAAAAAA+H8AAAAAAAD4fwAAAAAAAPh/AAAAAAAA+H8AAAAAAAD4f2L7F7RzbXdAAAAAAAAA+H8AAAAAAAD4fwAAAAAAAPh/AAAAAAAA+H8AAAAAAAD4fwAAAAAAAPh/AAAAAAAA+H8AAAAAAAD4fwAAAAAAAPh/AAAAAAAA+H8AAAAAAAD4fwAAAAAAAPh//RpzoOtVd0AAAAAAAAD4fwAAAAAAAPh/AAAAAAAA+H8AAAAAAAD4fwAAAAAAAPh/AAAAAAAA+H8AAAAAAAD4fwAAAAAAAPh/AAAAAAAA+H+qZ9ia2Yl1QAAAAAAAAPh/AAAAAAAA+H8AAAAAAAD4fwAAAAAAAPh/cIQKFmx+dUAAAAAAAAD4fwAAAAAAAPh/AAAAAAAA+H8AAAAAAAD4fwAAAAAAAPh/AAAAAAAA+H8AAAAAAAD4fwAAAAAAAPh/RJNvLU8/dkAAAAAAAAD4fwAAAAAAAPh/AAAAAAAA+H8AAAAAAAD4fwAAAAAAAPh/AAAAAAAA+H8AAAAAAAD4fwAAAAAAAPh/AAAAAAAA+H8AAAAAAAD4fwAAAAAAAPh/AAAAAAAA+H8AAAAAAAD4fwAAAAAAAPh/AAAAAAAA+H8AAAAAAAD4fwAAAAAAAPh/R4SB7bDsdkAAAAAAAAD4fwAAAAAAAPh/egpA4NXPdkAAAAAAAAD4fwAAAAAAAPh/AAAAAAAA+H8AAAAAAAD4fw==\"},\"shape\":[74],\"dtype\":\"float64\",\"order\":\"little\"}],[\"isPivot\",{\"type\":\"ndarray\",\"array\":{\"type\":\"bytes\",\"data\":\"AAAAAAAA+H8AAAAAAAD4fwAAAAAAAABAAAAAAAAA+H8AAAAAAAD4fwAAAAAAAPh/AAAAAAAA+H8AAAAAAAD4fwAAAAAAAPh/AAAAAAAA+H8AAAAAAAD4fwAAAAAAAABAAAAAAAAA+H8AAAAAAAD4fwAAAAAAAPh/AAAAAAAA+H8AAAAAAAD4fwAAAAAAAPh/AAAAAAAA+H8AAAAAAAD4fwAAAAAAAPh/AAAAAAAA+H8AAAAAAAD4fwAAAAAAAPh/AAAAAAAAAEAAAAAAAAD4fwAAAAAAAPh/AAAAAAAA+H8AAAAAAAD4fwAAAAAAAPh/AAAAAAAA+H8AAAAAAAD4fwAAAAAAAPh/AAAAAAAA+H8AAAAAAAAAQAAAAAAAAPh/AAAAAAAA+H8AAAAAAAD4fwAAAAAAAPh/AAAAAAAAAEAAAAAAAAD4fwAAAAAAAPh/AAAAAAAA+H8AAAAAAAD4fwAAAAAAAPh/AAAAAAAA+H8AAAAAAAD4fwAAAAAAAPh/AAAAAAAAAEAAAAAAAAD4fwAAAAAAAPh/AAAAAAAA+H8AAAAAAAD4fwAAAAAAAPh/AAAAAAAA+H8AAAAAAAD4fwAAAAAAAPh/AAAAAAAA+H8AAAAAAAD4fwAAAAAAAPh/AAAAAAAA+H8AAAAAAAD4fwAAAAAAAPA/AAAAAAAA+H8AAAAAAAD4fwAAAAAAAPh/AAAAAAAAAEAAAAAAAAD4fwAAAAAAAPh/AAAAAAAAAEAAAAAAAAD4fwAAAAAAAPh/AAAAAAAA+H8AAAAAAAD4fw==\"},\"shape\":[74],\"dtype\":\"float64\",\"order\":\"little\"}]]}}},\"view\":{\"type\":\"object\",\"name\":\"CDSView\",\"id\":\"p1061\",\"attributes\":{\"filter\":{\"type\":\"object\",\"name\":\"AllIndices\",\"id\":\"p1062\"}}},\"glyph\":{\"type\":\"object\",\"name\":\"VBar\",\"id\":\"p1057\",\"attributes\":{\"x\":{\"type\":\"field\",\"field\":\"index\"},\"width\":{\"type\":\"value\",\"value\":0.6},\"bottom\":{\"type\":\"field\",\"field\":\"Open\"},\"top\":{\"type\":\"field\",\"field\":\"Close\"},\"line_color\":{\"type\":\"value\",\"value\":\"red\"},\"fill_color\":{\"type\":\"value\",\"value\":\"red\"}}},\"nonselection_glyph\":{\"type\":\"object\",\"name\":\"VBar\",\"id\":\"p1058\",\"attributes\":{\"x\":{\"type\":\"field\",\"field\":\"index\"},\"width\":{\"type\":\"value\",\"value\":0.6},\"bottom\":{\"type\":\"field\",\"field\":\"Open\"},\"top\":{\"type\":\"field\",\"field\":\"Close\"},\"line_color\":{\"type\":\"value\",\"value\":\"red\"},\"line_alpha\":{\"type\":\"value\",\"value\":0.1},\"fill_color\":{\"type\":\"value\",\"value\":\"red\"},\"fill_alpha\":{\"type\":\"value\",\"value\":0.1},\"hatch_alpha\":{\"type\":\"value\",\"value\":0.1}}},\"muted_glyph\":{\"type\":\"object\",\"name\":\"VBar\",\"id\":\"p1059\",\"attributes\":{\"x\":{\"type\":\"field\",\"field\":\"index\"},\"width\":{\"type\":\"value\",\"value\":0.6},\"bottom\":{\"type\":\"field\",\"field\":\"Open\"},\"top\":{\"type\":\"field\",\"field\":\"Close\"},\"line_color\":{\"type\":\"value\",\"value\":\"red\"},\"line_alpha\":{\"type\":\"value\",\"value\":0.2},\"fill_color\":{\"type\":\"value\",\"value\":\"red\"},\"fill_alpha\":{\"type\":\"value\",\"value\":0.2},\"hatch_alpha\":{\"type\":\"value\",\"value\":0.2}}}}},{\"type\":\"object\",\"name\":\"GlyphRenderer\",\"id\":\"p1072\",\"attributes\":{\"data_source\":{\"type\":\"object\",\"name\":\"ColumnDataSource\",\"id\":\"p1063\",\"attributes\":{\"selected\":{\"type\":\"object\",\"name\":\"Selection\",\"id\":\"p1064\",\"attributes\":{\"indices\":[],\"line_indices\":[]}},\"selection_policy\":{\"type\":\"object\",\"name\":\"UnionRenderers\",\"id\":\"p1065\"},\"data\":{\"type\":\"map\",\"entries\":[[\"index\",{\"type\":\"ndarray\",\"array\":{\"type\":\"bytes\",\"data\":\"AgAAAAQAAAAFAAAABgAAAAcAAAAIAAAADAAAAA0AAAAOAAAADwAAABAAAAARAAAAFAAAABUAAAAWAAAAGAAAABkAAAAaAAAAHgAAAB8AAAAgAAAAIQAAACMAAAAlAAAAKAAAACoAAAArAAAALAAAAC0AAAAuAAAAMgAAADMAAAA1AAAAOAAAADsAAAA8AAAAPQAAAD4AAABAAAAAQgAAAEMAAABKAAAATQAAAE4AAABPAAAAVQAAAFcAAABbAAAAXAAAAF0AAABeAAAAYAAAAGYAAABnAAAAaQAAAGoAAABuAAAAcQAAAHIAAABzAAAAdgAAAHgAAAB7AAAAfAAAAH4AAACEAAAAhQAAAIcAAACKAAAAiwAAAI0AAACPAAAAkQAAAJIAAACTAAAAlAAAAA==\"},\"shape\":[76],\"dtype\":\"int32\",\"order\":\"little\"}],[\"Close\",{\"type\":\"ndarray\",\"array\":{\"type\":\"bytes\",\"data\":\"AAAAQAyvdkAAAADg9fp1QAEAAMCciHZAAAAAQCd+dkABAABAmbZ2QAAAAMB3b3dAAAAAACSqdkAAAADgged2QAAAAKCU8nZAAAAA4GsGd0AAAADgs153QAAAAADIWXdAAAAA4HDCdkABAADASrR2QAAAAOBVI3dAAQAAQCaRd0AAAACAmbd3QAAAAGBt9XdAAAAAoAgYeEAAAAAAZWV4QAAAAOBxwHhAAAAAYK6teEAAAACgR+Z4QAEAAEA113hAAAAAQHw7eUAAAACA1qh5QAAAAEDow3lAAAAAgNPQeUAAAAAA66F5QAAAAAD9tHlAAAAAoEjaeEAAAABgGjR5QAEAAMB8MHhAAAAAIPrQd0ABAADA5OV3QAAAAKDhDXhAAAAA4ItteEAAAAAAwrB4QAAAACD8tHdAAAAA4E5Cd0AAAADAe3B3QAAAACAyWnZAAAAAYKgddkAAAAAgGM12QAAAACCBv3ZAAAAAYMYTdkAAAADg5iB2QAEAAEBDlHZAAAAAAP7adkABAADAbDh3QAAAAICjC3dAAAAAwL13d0AAAAAgrOt2QAAAAIBUC3dAAAAAIE7Pd0AAAACATAp4QAEAAEBbyHdAAAAAwMMfeEAAAACgrkZ4QAAAAIBKRXhAAAAA4OmXeEAAAADABYx4QAAAAICtt3dAAQAAQD7nd0AAAACgFxF4QAAAAODED3dAAAAAwAtod0AAAADgiTR3QAEAAMDCPHdAAQAAQBctd0AAAADAuUF3QAAAAOC+hHdAAAAA4Ierd0AAAADAK/h3QAAAACCDDnhAAAAAYGcmeEA=\"},\"shape\":[76],\"dtype\":\"float64\",\"order\":\"little\"}],[\"High\",{\"type\":\"ndarray\",\"array\":{\"type\":\"bytes\",\"data\":\"iex76gX3dkBrksxCGTF2QAVcPS4Rn3ZA8nwMub/AdkDxC1nucMJ2QNrbVymfb3dA2Gi+OJbedkAVyRsfle52QCPtrnLj8nZAOG/Sl7cud0DWgy0yn2t3QLm0Yn4UeHdAqg4jQPfxdkBZnPE208V2QIv3DVUuJXdA8jcRqGCad0C1RzIqhM53QGDpLjEy9ndAEdY2QFU0eEBhzqcnn3B4QFFmdLRw0HhA4K5j6kjWeECnBYxuMvl4QBW8kJaq4XhApH4U8co9eUCqLbaLh6p5QOiV5dZdzHlAOsHROAzweUDJxp1XwM15QNWhUL4PwHlApIN4O27weECAZi8x3zR5QOCVXXbbYXhAYy8tf4PWd0CZfeH0WfJ3QLZJLXRDFXhANX0O1op7eED9Rcpjcrx4QBSSz9WXzXdA0z/IyPZMd0AAAADAe3B3QJ0HvryHdXZAFYaZIZ47dkBx9Xm5js12QFuTbNka5HZAoPDXw44rdkATEZLs0DJ2QBr3D3EjnHZADgrbpV7tdkCHJThYhT13QEgnhdOAYXdAFbscfXZ/d0CI7SFDP/V2QPo6zlSDO3dAVpjH3bXUd0BNHCxoRRd4QLOudE5S03dAabPx5GMieEDN/RHRjk54QOgNnpU/TnhAAAAA4OmXeECDtlF7sZp4QKNcWiv63XdA6e1jIIr4d0AAAACgFxF4QJC6WfH8KXdA+q9dP1p6d0AjA32Y3TZ3QMcRN/PgSndAR+53+Govd0AmWnWXnWJ3QOHk2rzllndATnYW652sd0DI8mSMafl3QJsBs7c/JnhABsbjYLYveEA=\"},\"shape\":[76],\"dtype\":\"float64\",\"order\":\"little\"}],[\"Low\",{\"type\":\"ndarray\",\"array\":{\"type\":\"bytes\",\"data\":\"6hwe959CdkCHybpVNcJ1QKlqfBl5VnZAiXY+HWc9dkAWs0B0FWd2QOD7KtyB6XZAEpKnCAJidkD0ripSFHV2QDG66qg8Z3ZArFkCvUjOdkBUWql9ugZ3QPIBL618K3dAxAhPYk6CdkBL58l8oUp2QPMdGqq93HZAkIjPslUnd0Cfk2UFFH53QOPKH0ROh3dAjT3xyIasd0Dt+C2Alet3QFk/kCQpcHhAHTzC+zqJeEBtACmT1qF4QIz3t+avm3hA/6IvTzEJeUCou2kJe0t5QFZ1GXYUhHlA2DU+RnSleUBQlUpYd4F5QC4eQMk6kHlAWyiYkze3eEAf+6EivuB4QINjHW9+GnhAF/MdG9pud0B4NQQKUHF3QLEb8BCarXdA1vrYYN8teEC2C9VTJ4p4QCYhq0N2f3dA4cAWVAcNd0Aks6AdHA53QHiCMhO733VAmQopqmCrdUCqVqt/Ch12QEIKs9SuYHZAAaGiMfX/dEBzKe+oko11QFt8BF0/7nVAyZhW7gmCdkAXkG2D59d2QEADzrxKAXdAH4sCSYDndkCtY6eyaad2QNBbvJ47yXZA6zg1M4tDd0A8QapcoL53QBM94BUKiXdAyEj9umjWd0Cztfs+pxZ4QP08+VYXOXhAHpdej568d0ASYQ60W0J4QLzZ7tlMpXdA0aINamC5d0AIgmNUibt3QIGO2ywJ5nZAIazfIiAxd0DJXcpJ1Oh2QP22m14e+XZAwW+wuAjvdkAmGm9fZAd3QKPR0uQ8/nZAa1HgJqpod0A+Mu5B8bd3QIOraQAUyHdA/JExvVnWd0A=\"},\"shape\":[76],\"dtype\":\"float64\",\"order\":\"little\"}],[\"Open\",{\"type\":\"ndarray\",\"array\":{\"type\":\"bytes\",\"data\":\"tNQWqt6SdkBIRjLqk/V1QAMhtCa0V3ZAc5WciStEdkB61l5YwqB2QHPzb/n36XZAOw3KSJuadkAi9sZRh592QKb6gt4RlXZAX75YSuP0dkCWbAaHLiN3QKsMo60/RHdAHEG1zhKJdkCEDMZEKHJ2QHdHSZCn+3ZAbO/pU/Ixd0B7/KS/OZR3QOuWwKM3rndAVzH3Vkuxd0CefkkZGyV4QCq+elmefHhA7ewm9sOUeEByhMq3c6Z4QM3RQCGcnHhAH+dWJeAoeUDqGDNX3Fp5QG/VobAAhXlAst60AYeyeUDkP9puiZZ5QLo7MXYlpXlAVhzzUUrCeEC7qLsCbvJ4QNrK87zfKXhA6BhOcq+ad0DC8siK2XR3QF9Zw4QiwXdAKGST0S0yeECWOTFLE494QPgom0H8sndABsYPAWEsd0A6RSZ2WA93QCv6uUI4+3VAJjYHpkHIdUAWqhU5E3d2QDAl3lNdhnZAK988C/IQdUDeS3KcgfV1QDqoI86lBnZA4LzatvisdkAwb1Ppwdl2QJUWECJ2BXdAFp6fdG/qdkBa5WdAFMl2QNXfzdiV/XZARu+h+cJod0A7IaRKNN13QMVhWBv7jXdAFXvH60Ptd0Dn8McKXBp4QIZP5cKRPXhAVlT/96jbd0Ak2SuHDkR4QK1x37pHtHdAhcEvhUHWd0BoFOewWMZ3QMSV+Qty+3ZAeJWoPdA5d0CsOlJQ9gF3QLhpEtemAXdAUvygHVIRd0BgIZ8iujh3QDM3GgviL3dAU/8EZd53d0DhATUrIcV3QHy3W3ADCnhAUdSJyrHad0A=\"},\"shape\":[76],\"dtype\":\"float64\",\"order\":\"little\"}],[\"Volume\",{\"type\":\"ndarray\",\"array\":{\"type\":\"bytes\",\"data\":\"8IV9B6x2nwZ8DpQEiDJeBcTmuQT8INgFjL20BpT2dQQwpdoEWJ4yBEyW2APos1AEWCoFBWDJWAWwXbYEEOitBNg/SATcWt4D1HDoBAikaAQ0ki8FvBMsBDjcCgQ07WIDZMEXBCRirQMstjgDqK2IA4jmyQPgCOwCyGTuAlxRCQOweuUDhHqxBOjTOgTEPdEEVHSSBGzEIATUWxEFAPMkBiQkXgQYtZoGVJNZBXDaLAakxj8F5OzGCEiijQXAfM8H5KkXBVwZswQEPzQGsHz6BbT5EQRMhQsFuHFuCBzilwUsuXAEyBKaA+CWEQT4FdIBrOmdCOw5FgXc+u0DbMmeA+iZfgRAq28EaL2oBJRZkQMU5f0DuBMCBRRAHwWgzjUGFEnlA8wKGwSEsl8FnBjPAw==\"},\"shape\":[76],\"dtype\":\"int32\",\"order\":\"little\"}],[\"fecha\",{\"type\":\"ndarray\",\"array\":{\"type\":\"bytes\",\"data\":\"AACAjkoWeEIAAABa7xZ4QgAAAPE4GHhCAADAVosYeEIAAIC83Rh4QgAAQCIwGXhCAADAhB4beEIAAIDqcBt4QgAAgIG6HHhCAABA5wwdeEIAAABNXx14QgAAwLKxHXhCAACAr00feEIAAEAVoB94QgAAAHvyH3hCAAAAEjwheEIAAMB3jiF4QgAAgN3gIXhCAAAAQM8jeEIAAMClISR4QgAAgAt0JHhCAADAPGsleEIAAEAIECZ4QgAAwNO0JnhCAACA0FAoeEIAAACc9Sh4QgAAQM3sKXhCAAAAMz8qeEIAAMCYkSp4QgAAgP7jKnhCAAAAYdIseEIAAMDGJC14QgAAwF1uLnhCAAAAj2UveEIAAIDxUzF4QgAAQFemMXhCAAAAvfgxeEIAAEDu7zJ4QgAAwLmUM3hCAABAhTk0eEIAAIC2MDV4QgAAQEoWOHhCAAAAR7I5eEIAAMCsBDp4QgAAgBJXOnhCAACAQOo8eEIAAIDXMz54QgAAgG59P3hCAADAn3RAeEIAAIAFx0B4QgAAQGsZQXhCAADANr5BeEIAAEAw9kR4QgAAAJZIRXhCAACAYe1FeEIAAEDHP0Z4QgAAwCkuSHhCAACAJspJeEIAAECMHEp4QgAAwFfBSnhCAACAVF1MeEIAAAAgAk14QgAAwByeTnhCAACAgvBOeEIAAIAZOlB4QgAAgEfNUnhCAABArR9TeEIAAMB4xFN4QgAAQNuyVXhCAAAAQQVWeEIAAMA9oVd4QgAAQAlGWHhCAABAoI9ZeEIAAAAG4ll4QgAAwGs0WnhCAACA0YZaeEI=\"},\"shape\":[76],\"dtype\":\"float64\",\"order\":\"little\"}],[\"companyName\",{\"type\":\"ndarray\",\"array\":[\"SPY\",\"SPY\",\"SPY\",\"SPY\",\"SPY\",\"SPY\",\"SPY\",\"SPY\",\"SPY\",\"SPY\",\"SPY\",\"SPY\",\"SPY\",\"SPY\",\"SPY\",\"SPY\",\"SPY\",\"SPY\",\"SPY\",\"SPY\",\"SPY\",\"SPY\",\"SPY\",\"SPY\",\"SPY\",\"SPY\",\"SPY\",\"SPY\",\"SPY\",\"SPY\",\"SPY\",\"SPY\",\"SPY\",\"SPY\",\"SPY\",\"SPY\",\"SPY\",\"SPY\",\"SPY\",\"SPY\",\"SPY\",\"SPY\",\"SPY\",\"SPY\",\"SPY\",\"SPY\",\"SPY\",\"SPY\",\"SPY\",\"SPY\",\"SPY\",\"SPY\",\"SPY\",\"SPY\",\"SPY\",\"SPY\",\"SPY\",\"SPY\",\"SPY\",\"SPY\",\"SPY\",\"SPY\",\"SPY\",\"SPY\",\"SPY\",\"SPY\",\"SPY\",\"SPY\",\"SPY\",\"SPY\",\"SPY\",\"SPY\",\"SPY\",\"SPY\",\"SPY\",\"SPY\"],\"shape\":[76],\"dtype\":\"object\",\"order\":\"little\"}],[\"SMA20\",{\"type\":\"ndarray\",\"array\":{\"type\":\"bytes\",\"data\":\"AAAAAAAA+H8AAAAAAAD4fwAAAAAAAPh/AAAAAAAA+H8AAAAAAAD4fwAAAAAAAPh/AAAAAAAA+H8AAAAAAAD4fwAAAAAAAPh/AAAAAAAA+H8AAAAAAAD4fwAAAAAAAPh/AAAAsDPPdkCamZmZi9N2QM3MzBRc2XZAzczMzKX6dkCamZkJzAl3QDMzM4uPHHdAmpmZ0VM/d0CamZkpHVN3QJqZmUHUbXdAZmZmromEd0AzMzMLmrB3QDMzM2MJ13dAAQAAiEYkeECamZkJ6WR4QDQzM/v7iHhAzszMpMSleEABAAC4SL54QAEAAICp1HhAmpmZGVoReUABAAD4rxt5QM7MzGxKEHlANDMzWz/seEAzMzMbZMB4QDMzM5NPsXhAZmZmjgOneECamZkhnJp4QM3MzEQeZHhAMzMzQ7EoeEDNzMzEFhB4QDMzM9PvTXdAAAAAcJMGd0CamZkx7/12QDMzMwM373ZAAAAACE1NdkDNzMyM9CZ2QDMzMyMtFHZAmpmZQWsfdkBmZmYmDTB2QDMzM2vsOHZAMzMzW8hedkCamZnhbYl2QJqZmXEpnHZAAAAAwOe/dkAzMzOreN92QDMzM3OFNXdAZmZmdgNed0DNzMwExG13QDMzMwMGf3dAzczMJDGdd0CamZkBBNJ3QDMzM7NL93dAmpmZSV4IeEBmZmaGngd4QAAAALh97XdAZmZmHk7kd0AzMzPzQsd3QM3MzHQMn3dAmpmZoSONd0AzMzMre293QJqZmTkfY3dAMzMzk1Ndd0DNzMyUFFx3QAAAAJCeWXdAmpmZYVZad0A=\"},\"shape\":[76],\"dtype\":\"float64\",\"order\":\"little\"}],[\"SMA40\",{\"type\":\"ndarray\",\"array\":{\"type\":\"bytes\",\"data\":\"AAAAAAAA+H8AAAAAAAD4fwAAAAAAAPh/AAAAAAAA+H8AAAAAAAD4fwAAAAAAAPh/AAAAAAAA+H8AAAAAAAD4fwAAAAAAAPh/AAAAAAAA+H8AAAAAAAD4fwAAAAAAAPh/AAAAAAAA+H8AAAAAAAD4fwAAAAAAAPh/AAAAAAAA+H8AAAAAAAD4fwAAAAAAAPh/AAAAAAAA+H8AAAAAAAD4fwAAAAAAAPh/AAAAAAAA+H8AAAAAAAD4fwAAAAAAAPh/AAAAHL15d0AzMzOPIp93QAAAAEipt3dAzczMODXQd0DNzMxgCuR3QJqZmYWc+HdAmpmZ9VYoeEDNzMyQZjd4QJqZmQ1qSnhAmpmZPRtYeECamZnVgWJ4QJqZmQ3LanhAzczMFNN1eECamZmVwn94QM3MzHTxhHhAmpmZYa1+eEBmZma+xnx4QJqZmZFTK3hAzczMqD/xd0CamZlhYeR3QDMzM4/N13dAZmZm5qlKd0DNzMyohRt3QDMzMz/S2HZAmpmZ4UDPdkAAAABIDcl2QDMzMx9uw3ZAMzMze/S7dkAAAADAKo92QGZmZpqAi3ZAAAAAZJqGdkDNzMxUmot2QGdmZqpmonZAZ2ZmTgjHdkABAAA4WNN2QAEAADic4nZAmpmZVRUId0DOzMzkyiB3QGdmZpK6SXdAzszMbAxZd0DOzMyYi3N3QAEAAAT4n3dAZ2Zmyiihd0A0MzN7JKN3QM3MzMwenndAMzMzk7ehd0BmZmaOuKl3QGZmZnY1rXdAZmZmkk2yd0CamZmN2bF3QDMzM5NDs3dAzczMbPmzd0A=\"},\"shape\":[76],\"dtype\":\"float64\",\"order\":\"little\"}],[\"SMA100\",{\"type\":\"ndarray\",\"array\":{\"type\":\"bytes\",\"data\":\"AAAAAAAA+H8AAAAAAAD4fwAAAAAAAPh/AAAAAAAA+H8AAAAAAAD4fwAAAAAAAPh/AAAAAAAA+H8AAAAAAAD4fwAAAAAAAPh/AAAAAAAA+H8AAAAAAAD4fwAAAAAAAPh/AAAAAAAA+H8AAAAAAAD4fwAAAAAAAPh/AAAAAAAA+H8AAAAAAAD4fwAAAAAAAPh/AAAAAAAA+H8AAAAAAAD4fwAAAAAAAPh/AAAAAAAA+H8AAAAAAAD4fwAAAAAAAPh/AAAAAAAA+H8AAAAAAAD4fwAAAAAAAPh/AAAAAAAA+H8AAAAAAAD4fwAAAAAAAPh/AAAAAAAA+H8AAAAAAAD4fwAAAAAAAPh/AAAAAAAA+H8AAAAAAAD4fwAAAAAAAPh/AAAAAAAA+H8AAAAAAAD4fwAAAAAAAPh/AAAAAAAA+H8AAAAAAAD4fwAAAAAAAPh/AAAAAAAA+H8AAAAAAAD4fwAAAAAAAPh/AAAAAAAA+H8AAAAAAAD4fwAAAAAAAPh/AAAAAAAA+H8AAAAAAAD4fwAAAAAAAPh/AAAAAAAA+H/NzMyMpGR3QFK4Hs18Z3dArkfhQkNsd0DNzMxkOXB3QD0K13tJeHdAH4XrOf2Ad0CuR+HiY4R3QBSuRzGUh3dAmpmZIQSOd0CPwvXI7pZ3QJqZmTkUnndAAAAAoPCed0A9CtdjPJ93QD0K1yNml3dAuB6FgySUd0B7FK5fHIx3QNejcC1lfndApHA9ynV6d0CF61GI4293QBSuR3lOY3dAuB6FI15Yd0AAAABo61N3QK5H4UKUUHdA4XoUXtROd0A=\"},\"shape\":[76],\"dtype\":\"float64\",\"order\":\"little\"}],[\"SMA200\",{\"type\":\"ndarray\",\"array\":{\"type\":\"bytes\",\"data\":\"AAAAAAAA+H8AAAAAAAD4fwAAAAAAAPh/AAAAAAAA+H8AAAAAAAD4fwAAAAAAAPh/AAAAAAAA+H8AAAAAAAD4fwAAAAAAAPh/AAAAAAAA+H8AAAAAAAD4fwAAAAAAAPh/AAAAAAAA+H8AAAAAAAD4fwAAAAAAAPh/AAAAAAAA+H8AAAAAAAD4fwAAAAAAAPh/AAAAAAAA+H8AAAAAAAD4fwAAAAAAAPh/AAAAAAAA+H8AAAAAAAD4fwAAAAAAAPh/AAAAAAAA+H8AAAAAAAD4fwAAAAAAAPh/AAAAAAAA+H8AAAAAAAD4fwAAAAAAAPh/AAAAAAAA+H8AAAAAAAD4fwAAAAAAAPh/AAAAAAAA+H8AAAAAAAD4fwAAAAAAAPh/AAAAAAAA+H8AAAAAAAD4fwAAAAAAAPh/AAAAAAAA+H8AAAAAAAD4fwAAAAAAAPh/AAAAAAAA+H8AAAAAAAD4fwAAAAAAAPh/AAAAAAAA+H8AAAAAAAD4fwAAAAAAAPh/AAAAAAAA+H8AAAAAAAD4fwAAAAAAAPh/AAAAAAAA+H8AAAAAAAD4fwAAAAAAAPh/AAAAAAAA+H8AAAAAAAD4fwAAAAAAAPh/AAAAAAAA+H8AAAAAAAD4fwAAAAAAAPh/AAAAAAAA+H8AAAAAAAD4fwAAAAAAAPh/AAAAAAAA+H8AAAAAAAD4fwAAAAAAAPh/AAAAAAAA+H8AAAAAAAD4fwAAAAAAAPh/AAAAAAAA+H8AAAAAAAD4fwAAAAAAAPh/AAAAAAAA+H8AAAAAAAD4fwAAAAAAAPh/AAAAAAAA+H8=\"},\"shape\":[76],\"dtype\":\"float64\",\"order\":\"little\"}],[\"pivotHigh\",{\"type\":\"ndarray\",\"array\":{\"type\":\"bytes\",\"data\":\"AAAAAAAA+H8AAAAAAAD4fwAAAAAAAPh/AAAAAAAA+H8AAAAAAAD4f5ZQ60Gjb3dAAAAAAAAA+H8AAAAAAAD4fwAAAAAAAPh/AAAAAAAA+H+S+MBKo2t3QAAAAAAAAPh/AAAAAAAA+H8AAAAAAAD4fwAAAAAAAPh/AAAAAAAA+H8AAAAAAAD4fwAAAAAAAPh/AAAAAAAA+H8AAAAAAAD4fwAAAAAAAPh/AAAAAAAA+H8AAAAAAAD4fwAAAAAAAPh/AAAAAAAA+H8AAAAAAAD4fwAAAAAAAPh/9jVlURDweUAAAAAAAAD4fwAAAAAAAPh/AAAAAAAA+H8AAAAAAAD4fwAAAAAAAPh/AAAAAAAA+H8AAAAAAAD4fwAAAAAAAPh/AAAAAAAA+H+5ul18drx4QAAAAAAAAPh/AAAAAAAA+H8AAAAAAAD4fwAAAAAAAPh/AAAAAAAA+H8tag3Sks12QAAAAAAAAPh/AAAAAAAA+H8AAAAAAAD4fwAAAAAAAPh/AAAAAAAA+H8AAAAAAAD4fwAAAAAAAPh/0S+wlXp/d0AAAAAAAAD4fwAAAAAAAPh/AAAAAAAA+H8Jkb+ASRd4QAAAAAAAAPh/AAAAAAAA+H8AAAAAAAD4fwAAAAAAAPh/vHST+O2XeEAAAAAAAAD4fwAAAAAAAPh/AAAAAAAA+H8AAAAAAAD4fwAAAAAAAPh/AAAAAAAA+H8AAAAAAAD4fwAAAAAAAPh/AAAAAAAA+H8AAAAAAAD4fwAAAAAAAPh/AAAAAAAA+H8AAAAAAAD4fwAAAAAAAPh/AAAAAAAA+H8=\"},\"shape\":[76],\"dtype\":\"float64\",\"order\":\"little\"}],[\"pivotLow\",{\"type\":\"ndarray\",\"array\":{\"type\":\"bytes\",\"data\":\"AAAAAAAA+H8AAAAAAAD4fwAAAAAAAPh/AAAAAAAA+H8AAAAAAAD4fwAAAAAAAPh/Vh0U8P1hdkAAAAAAAAD4fwAAAAAAAPh/AAAAAAAA+H8AAAAAAAD4fwAAAAAAAPh/AAAAAAAA+H+PcjZknUp2QAAAAAAAAPh/AAAAAAAA+H8AAAAAAAD4fwAAAAAAAPh/AAAAAAAA+H8AAAAAAAD4fwAAAAAAAPh/AAAAAAAA+H8AAAAAAAD4fwAAAAAAAPh/AAAAAAAA+H8AAAAAAAD4fwAAAAAAAPh/AAAAAAAA+H8AAAAAAAD4fwAAAAAAAPh/AAAAAAAA+H8AAAAAAAD4fwAAAAAAAPh/AAAAAAAA+H8AAAAAAAD4fwAAAAAAAPh/AAAAAAAA+H8AAAAAAAD4fwAAAAAAAPh/AAAAAAAA+H8AAAAAAAD4fwAAAAAAAPh/AAAAAAAA+H8AAAAAAAD4fwAAAAAAAPh/AAAAAAAA+H8AAAAAAAD4fwAAAAAAAPh/AAAAAAAA+H8AAAAAAAD4fwAAAAAAAPh/AAAAAAAA+H8AAAAAAAD4fwAAAAAAAPh/AAAAAAAA+H8AAAAAAAD4f1fITP0FiXdAAAAAAAAA+H8AAAAAAAD4fwAAAAAAAPh/AAAAAAAA+H8AAAAAAAD4fwBlW8FIpXdAAAAAAAAA+H8AAAAAAAD4fwAAAAAAAPh/AAAAAAAA+H8AAAAAAAD4fwAAAAAAAPh/AAAAAAAA+H8AAAAAAAD4fwAAAAAAAPh/AAAAAAAA+H8AAAAAAAD4fwAAAAAAAPh/AAAAAAAA+H8=\"},\"shape\":[76],\"dtype\":\"float64\",\"order\":\"little\"}],[\"isPivot\",{\"type\":\"ndarray\",\"array\":{\"type\":\"bytes\",\"data\":\"AAAAAAAA+H8AAAAAAAD4fwAAAAAAAPh/AAAAAAAA+H8AAAAAAAD4fwAAAAAAAPA/AAAAAAAAAEAAAAAAAAD4fwAAAAAAAPh/AAAAAAAA+H8AAAAAAADwPwAAAAAAAPh/AAAAAAAA+H8AAAAAAAAAQAAAAAAAAPh/AAAAAAAA+H8AAAAAAAD4fwAAAAAAAPh/AAAAAAAA+H8AAAAAAAD4fwAAAAAAAPh/AAAAAAAA+H8AAAAAAAD4fwAAAAAAAPh/AAAAAAAA+H8AAAAAAAD4fwAAAAAAAPh/AAAAAAAA8D8AAAAAAAD4fwAAAAAAAPh/AAAAAAAA+H8AAAAAAAD4fwAAAAAAAPh/AAAAAAAA+H8AAAAAAAD4fwAAAAAAAPh/AAAAAAAA+H8AAAAAAADwPwAAAAAAAPh/AAAAAAAA+H8AAAAAAAD4fwAAAAAAAPh/AAAAAAAA+H8AAAAAAADwPwAAAAAAAPh/AAAAAAAA+H8AAAAAAAD4fwAAAAAAAPh/AAAAAAAA+H8AAAAAAAD4fwAAAAAAAPh/AAAAAAAA8D8AAAAAAAD4fwAAAAAAAPh/AAAAAAAA+H8AAAAAAADwPwAAAAAAAABAAAAAAAAA+H8AAAAAAAD4fwAAAAAAAPh/AAAAAAAA8D8AAAAAAAD4fwAAAAAAAABAAAAAAAAA+H8AAAAAAAD4fwAAAAAAAPh/AAAAAAAA+H8AAAAAAAD4fwAAAAAAAPh/AAAAAAAA+H8AAAAAAAD4fwAAAAAAAPh/AAAAAAAA+H8AAAAAAAD4fwAAAAAAAPh/AAAAAAAA+H8=\"},\"shape\":[76],\"dtype\":\"float64\",\"order\":\"little\"}]]}}},\"view\":{\"type\":\"object\",\"name\":\"CDSView\",\"id\":\"p1073\",\"attributes\":{\"filter\":{\"type\":\"object\",\"name\":\"AllIndices\",\"id\":\"p1074\"}}},\"glyph\":{\"type\":\"object\",\"name\":\"VBar\",\"id\":\"p1069\",\"attributes\":{\"x\":{\"type\":\"field\",\"field\":\"index\"},\"width\":{\"type\":\"value\",\"value\":0.6},\"bottom\":{\"type\":\"field\",\"field\":\"Open\"},\"top\":{\"type\":\"field\",\"field\":\"Close\"},\"line_color\":{\"type\":\"value\",\"value\":\"green\"},\"fill_color\":{\"type\":\"value\",\"value\":\"green\"}}},\"nonselection_glyph\":{\"type\":\"object\",\"name\":\"VBar\",\"id\":\"p1070\",\"attributes\":{\"x\":{\"type\":\"field\",\"field\":\"index\"},\"width\":{\"type\":\"value\",\"value\":0.6},\"bottom\":{\"type\":\"field\",\"field\":\"Open\"},\"top\":{\"type\":\"field\",\"field\":\"Close\"},\"line_color\":{\"type\":\"value\",\"value\":\"green\"},\"line_alpha\":{\"type\":\"value\",\"value\":0.1},\"fill_color\":{\"type\":\"value\",\"value\":\"green\"},\"fill_alpha\":{\"type\":\"value\",\"value\":0.1},\"hatch_alpha\":{\"type\":\"value\",\"value\":0.1}}},\"muted_glyph\":{\"type\":\"object\",\"name\":\"VBar\",\"id\":\"p1071\",\"attributes\":{\"x\":{\"type\":\"field\",\"field\":\"index\"},\"width\":{\"type\":\"value\",\"value\":0.6},\"bottom\":{\"type\":\"field\",\"field\":\"Open\"},\"top\":{\"type\":\"field\",\"field\":\"Close\"},\"line_color\":{\"type\":\"value\",\"value\":\"green\"},\"line_alpha\":{\"type\":\"value\",\"value\":0.2},\"fill_color\":{\"type\":\"value\",\"value\":\"green\"},\"fill_alpha\":{\"type\":\"value\",\"value\":0.2},\"hatch_alpha\":{\"type\":\"value\",\"value\":0.2}}}}},{\"type\":\"object\",\"name\":\"GlyphRenderer\",\"id\":\"p1084\",\"attributes\":{\"data_source\":{\"type\":\"object\",\"name\":\"ColumnDataSource\",\"id\":\"p1075\",\"attributes\":{\"selected\":{\"type\":\"object\",\"name\":\"Selection\",\"id\":\"p1076\",\"attributes\":{\"indices\":[],\"line_indices\":[]}},\"selection_policy\":{\"type\":\"object\",\"name\":\"UnionRenderers\",\"id\":\"p1077\"},\"data\":{\"type\":\"map\",\"entries\":[[\"index\",{\"type\":\"ndarray\",\"array\":{\"type\":\"bytes\",\"data\":\"CAAAABAAAAAsAAAAPgAAAE4AAABgAAAAagAAAHYAAAB/AAAA\"},\"shape\":[9],\"dtype\":\"int32\",\"order\":\"little\"}],[\"Close\",{\"type\":\"ndarray\",\"array\":{\"type\":\"bytes\",\"data\":\"AAAAwHdvd0AAAADgs153QAAAAIDT0HlAAAAAAMKweEAAAAAgGM12QAAAAMC9d3dAAAAAgEwKeEAAAADg6Zd4QAAAAIC7P3hA\"},\"shape\":[9],\"dtype\":\"float64\",\"order\":\"little\"}],[\"High\",{\"type\":\"ndarray\",\"array\":{\"type\":\"bytes\",\"data\":\"2ttXKZ9vd0DWgy0yn2t3QDrB0TgM8HlA/UXKY3K8eEBx9Xm5js12QBW7HH12f3dATRwsaEUXeEAAAADg6Zd4QBh8ghZPw3hA\"},\"shape\":[9],\"dtype\":\"float64\",\"order\":\"little\"}],[\"Low\",{\"type\":\"ndarray\",\"array\":{\"type\":\"bytes\",\"data\":\"4Psq3IHpdkBUWql9ugZ3QNg1PkZ0pXlAtgvVUyeKeECqVqt/Ch12QB+LAkmA53ZAPEGqXKC+d0Ael16Pnrx3QBzlNnDyEnhA\"},\"shape\":[9],\"dtype\":\"float64\",\"order\":\"little\"}],[\"Open\",{\"type\":\"ndarray\",\"array\":{\"type\":\"bytes\",\"data\":\"c/Nv+ffpdkCWbAaHLiN3QLLetAGHsnlAljkxSxOPeEAWqhU5E3d2QBaen3Rv6nZAOyGkSjTdd0BWVP/3qNt3QDk9PbEjv3hA\"},\"shape\":[9],\"dtype\":\"float64\",\"order\":\"little\"}],[\"Volume\",{\"type\":\"ndarray\",\"array\":{\"type\":\"bytes\",\"data\":\"/CDYBUyW2AOorYgDbMQgBHDaLAawfPoFHOKXBazpnQhkxWAH\"},\"shape\":[9],\"dtype\":\"int32\",\"order\":\"little\"}],[\"fecha\",{\"type\":\"ndarray\",\"array\":{\"type\":\"bytes\",\"data\":\"AABAIjAZeEIAAABNXx14QgAAADM/KnhCAABA7u8yeEIAAMCsBDp4QgAAwDa+QXhCAABAxz9GeEIAAIBUXUx4QgAAQH+MUHhC\"},\"shape\":[9],\"dtype\":\"float64\",\"order\":\"little\"}],[\"companyName\",{\"type\":\"ndarray\",\"array\":[\"SPY\",\"SPY\",\"SPY\",\"SPY\",\"SPY\",\"SPY\",\"SPY\",\"SPY\",\"SPY\"],\"shape\":[9],\"dtype\":\"object\",\"order\":\"little\"}],[\"SMA20\",{\"type\":\"ndarray\",\"array\":{\"type\":\"bytes\",\"data\":\"AAAAAAAA+H8AAAAAAAD4f87MzKTEpXhAmpmZIZyaeECamZkx7/12QDMzM1vIXnZAMzMzq3jfdkDNzMwkMZ13QGZmZpboDHhA\"},\"shape\":[9],\"dtype\":\"float64\",\"order\":\"little\"}],[\"SMA40\",{\"type\":\"ndarray\",\"array\":{\"type\":\"bytes\",\"data\":\"AAAAAAAA+H8AAAAAAAD4f83MzDg10HdAmpmZlcJ/eECamZlhYeR3QDMzM3v0u3ZAzczMVJqLdkCamZlVFQh3QGdmZrYdgXdA\"},\"shape\":[9],\"dtype\":\"float64\",\"order\":\"little\"}],[\"SMA100\",{\"type\":\"ndarray\",\"array\":{\"type\":\"bytes\",\"data\":\"AAAAAAAA+H8AAAAAAAD4fwAAAAAAAPh/AAAAAAAA+H8AAAAAAAD4fwAAAAAAAPh/zczMZDlwd0CamZkhBI53QK5H4UqMoHdA\"},\"shape\":[9],\"dtype\":\"float64\",\"order\":\"little\"}],[\"SMA200\",{\"type\":\"ndarray\",\"array\":{\"type\":\"bytes\",\"data\":\"AAAAAAAA+H8AAAAAAAD4fwAAAAAAAPh/AAAAAAAA+H8AAAAAAAD4fwAAAAAAAPh/AAAAAAAA+H8AAAAAAAD4fwAAAAAAAPh/\"},\"shape\":[9],\"dtype\":\"float64\",\"order\":\"little\"}],[\"pivotHigh\",{\"type\":\"ndarray\",\"array\":{\"type\":\"bytes\",\"data\":\"llDrQaNvd0CS+MBKo2t3QPY1ZVEQ8HlAubpdfHa8eEAtag3Sks12QNEvsJV6f3dACZG/gEkXeEC8dJP47Zd4QNTwFS9Tw3hA\"},\"shape\":[9],\"dtype\":\"float64\",\"order\":\"little\"}],[\"pivotLow\",{\"type\":\"ndarray\",\"array\":{\"type\":\"bytes\",\"data\":\"AAAAAAAA+H8AAAAAAAD4fwAAAAAAAPh/AAAAAAAA+H8AAAAAAAD4fwAAAAAAAPh/AAAAAAAA+H8AAAAAAAD4fwAAAAAAAPh/\"},\"shape\":[9],\"dtype\":\"float64\",\"order\":\"little\"}],[\"isPivot\",{\"type\":\"ndarray\",\"array\":{\"type\":\"bytes\",\"data\":\"AAAAAAAA8D8AAAAAAADwPwAAAAAAAPA/AAAAAAAA8D8AAAAAAADwPwAAAAAAAPA/AAAAAAAA8D8AAAAAAADwPwAAAAAAAPA/\"},\"shape\":[9],\"dtype\":\"float64\",\"order\":\"little\"}]]}}},\"view\":{\"type\":\"object\",\"name\":\"CDSView\",\"id\":\"p1085\",\"attributes\":{\"filter\":{\"type\":\"object\",\"name\":\"AllIndices\",\"id\":\"p1086\"}}},\"glyph\":{\"type\":\"object\",\"name\":\"Scatter\",\"id\":\"p1081\",\"attributes\":{\"x\":{\"type\":\"field\",\"field\":\"index\"},\"y\":{\"type\":\"field\",\"field\":\"pivotHigh\"},\"size\":{\"type\":\"value\",\"value\":10},\"line_color\":{\"type\":\"value\",\"value\":\"navy\"},\"line_alpha\":{\"type\":\"value\",\"value\":0.5},\"fill_color\":{\"type\":\"value\",\"value\":\"blue\"},\"fill_alpha\":{\"type\":\"value\",\"value\":0.5},\"hatch_alpha\":{\"type\":\"value\",\"value\":0.5}}},\"nonselection_glyph\":{\"type\":\"object\",\"name\":\"Scatter\",\"id\":\"p1082\",\"attributes\":{\"x\":{\"type\":\"field\",\"field\":\"index\"},\"y\":{\"type\":\"field\",\"field\":\"pivotHigh\"},\"size\":{\"type\":\"value\",\"value\":10},\"line_color\":{\"type\":\"value\",\"value\":\"navy\"},\"line_alpha\":{\"type\":\"value\",\"value\":0.1},\"fill_color\":{\"type\":\"value\",\"value\":\"blue\"},\"fill_alpha\":{\"type\":\"value\",\"value\":0.1},\"hatch_alpha\":{\"type\":\"value\",\"value\":0.1}}},\"muted_glyph\":{\"type\":\"object\",\"name\":\"Scatter\",\"id\":\"p1083\",\"attributes\":{\"x\":{\"type\":\"field\",\"field\":\"index\"},\"y\":{\"type\":\"field\",\"field\":\"pivotHigh\"},\"size\":{\"type\":\"value\",\"value\":10},\"line_color\":{\"type\":\"value\",\"value\":\"navy\"},\"line_alpha\":{\"type\":\"value\",\"value\":0.2},\"fill_color\":{\"type\":\"value\",\"value\":\"blue\"},\"fill_alpha\":{\"type\":\"value\",\"value\":0.2},\"hatch_alpha\":{\"type\":\"value\",\"value\":0.2}}}}},{\"type\":\"object\",\"name\":\"GlyphRenderer\",\"id\":\"p1098\",\"attributes\":{\"data_source\":{\"type\":\"object\",\"name\":\"ColumnDataSource\",\"id\":\"p1089\",\"attributes\":{\"selected\":{\"type\":\"object\",\"name\":\"Selection\",\"id\":\"p1090\",\"attributes\":{\"indices\":[],\"line_indices\":[]}},\"selection_policy\":{\"type\":\"object\",\"name\":\"UnionRenderers\",\"id\":\"p1091\"},\"data\":{\"type\":\"map\",\"entries\":[[\"index\",{\"type\":\"ndarray\",\"array\":{\"type\":\"bytes\",\"data\":\"AwAAAAwAAAAVAAAAHQAAADoAAABMAAAAVAAAAGQAAABuAAAAewAAAIMAAACJAAAA\"},\"shape\":[12],\"dtype\":\"int32\",\"order\":\"little\"}],[\"Close\",{\"type\":\"ndarray\",\"array\":{\"type\":\"bytes\",\"data\":\"AAAAYNvudUAAAAAAJKp2QAEAAMBKtHZAAAAA4Ox7d0AAAAAA7Xl3QAAAACAHjHVAAAAAIHSCdUAAAAAAnGF2QAEAAEBbyHdAAAAAgK23d0AAAACgswd3QAAAACCT03ZA\"},\"shape\":[12],\"dtype\":\"float64\",\"order\":\"little\"}],[\"High\",{\"type\":\"ndarray\",\"array\":{\"type\":\"bytes\",\"data\":\"tezwyo0wdkDYaL44lt52QFmc8TbTxXZAm4/VD66sd0BcQ8FImq13QFv+SgfZEnZAphyHgMy0dUCdnPCa35J2QLOudE5S03dAo1xaK/rdd0Ab0Wvmp0J3QPxpbkH8O3dA\"},\"shape\":[12],\"dtype\":\"float64\",\"order\":\"little\"}],[\"Low\",{\"type\":\"ndarray\",\"array\":{\"type\":\"bytes\",\"data\":\"XsxJ/3/HdUASkqcIAmJ2QEvnyXyhSnZAHnCrzHdtd0C5jwa571V3QGbca7PdiXVALPmdLnB+dUAACANGUz92QBM94BUKiXdAvNnu2Uyld0AD+RQGtex2QDZ/0/jZz3ZA\"},\"shape\":[12],\"dtype\":\"float64\",\"order\":\"little\"}],[\"Open\",{\"type\":\"ndarray\",\"array\":{\"type\":\"bytes\",\"data\":\"tW0KEPgpdkA7DcpIm5p2QIQMxkQocnZAK2Wi2Uupd0BRWz1kYJ53QIPUKixg03VAZk6TSVGbdUDx/PKQtmh2QMVhWBv7jXdArXHfuke0d0DzafjNOT13QB11wJQGHHdA\"},\"shape\":[12],\"dtype\":\"float64\",\"order\":\"little\"}],[\"Volume\",{\"type\":\"ndarray\",\"array\":{\"type\":\"bytes\",\"data\":\"VOYDCIy9tAZgyVgF4OUnA9hkkQRgcikJOM2WBMQKMQUsuXAE3PrtA9TXwgQMBjoE\"},\"shape\":[12],\"dtype\":\"int32\",\"order\":\"little\"}],[\"fecha\",{\"type\":\"ndarray\",\"array\":{\"type\":\"bytes\",\"data\":\"AABA9JwWeEIAAMCEHht4QgAAQBWgH3hCAABA2nwjeEIAAMCLATF4QgAAwBW7OHhCAADA2pc8eEIAAECZrEN4QgAAwCkuSHhCAADAHJ5OeEIAAMDhelJ4QgAAgHVgVXhC\"},\"shape\":[12],\"dtype\":\"float64\",\"order\":\"little\"}],[\"companyName\",{\"type\":\"ndarray\",\"array\":[\"SPY\",\"SPY\",\"SPY\",\"SPY\",\"SPY\",\"SPY\",\"SPY\",\"SPY\",\"SPY\",\"SPY\",\"SPY\",\"SPY\"],\"shape\":[12],\"dtype\":\"object\",\"order\":\"little\"}],[\"SMA20\",{\"type\":\"ndarray\",\"array\":{\"type\":\"bytes\",\"data\":\"AAAAAAAA+H8AAAAAAAD4f5qZmZmL03ZAmpmZuaUvd0CamZmR08p4QDMzM5sgGXdAzczMXLdedkAAAADIkW92QDMzM3OFNXdAMzMzs0v3d0AzMzOb/fZ3QDMzMwNosHdA\"},\"shape\":[12],\"dtype\":\"float64\",\"order\":\"little\"}],[\"SMA40\",{\"type\":\"ndarray\",\"array\":{\"type\":\"bytes\",\"data\":\"AAAAAAAA+H8AAAAAAAD4fwAAAAAAAPh/AAAAAAAA+H+amZll/Vt4QDMzM/uvAnhAzczM0Gphd0AAAADoh6V2QGdmZqpmonZAZ2ZmkrpJd0BnZmY+pp53QGZmZoLbnXdA\"},\"shape\":[12],\"dtype\":\"float64\",\"order\":\"little\"}],[\"SMA100\",{\"type\":\"ndarray\",\"array\":{\"type\":\"bytes\",\"data\":\"AAAAAAAA+H8AAAAAAAD4fwAAAAAAAPh/AAAAAAAA+H8AAAAAAAD4fwAAAAAAAPh/AAAAAAAA+H/Xo3CFK2N3QD0K13tJeHdAmpmZORSed0CkcD3KuZt3QFyPwgVtgndA\"},\"shape\":[12],\"dtype\":\"float64\",\"order\":\"little\"}],[\"SMA200\",{\"type\":\"ndarray\",\"array\":{\"type\":\"bytes\",\"data\":\"AAAAAAAA+H8AAAAAAAD4fwAAAAAAAPh/AAAAAAAA+H8AAAAAAAD4fwAAAAAAAPh/AAAAAAAA+H8AAAAAAAD4fwAAAAAAAPh/AAAAAAAA+H8AAAAAAAD4fwAAAAAAAPh/\"},\"shape\":[12],\"dtype\":\"float64\",\"order\":\"little\"}],[\"pivotHigh\",{\"type\":\"ndarray\",\"array\":{\"type\":\"bytes\",\"data\":\"AAAAAAAA+H8AAAAAAAD4fwAAAAAAAPh/AAAAAAAA+H8AAAAAAAD4fwAAAAAAAPh/AAAAAAAA+H8AAAAAAAD4fwAAAAAAAPh/AAAAAAAA+H8AAAAAAAD4fwAAAAAAAPh/\"},\"shape\":[12],\"dtype\":\"float64\",\"order\":\"little\"}],[\"pivotLow\",{\"type\":\"ndarray\",\"array\":{\"type\":\"bytes\",\"data\":\"ole25nvHdUBWHRTw/WF2QI9yNmSdSnZAYvsXtHNtd0D9GnOg61V3QKpn2JrZiXVAcIQKFmx+dUBEk28tTz92QFfITP0FiXdAAGVbwUild0BHhIHtsOx2QHoKQODVz3ZA\"},\"shape\":[12],\"dtype\":\"float64\",\"order\":\"little\"}],[\"isPivot\",{\"type\":\"ndarray\",\"array\":{\"type\":\"bytes\",\"data\":\"AAAAAAAAAEAAAAAAAAAAQAAAAAAAAABAAAAAAAAAAEAAAAAAAAAAQAAAAAAAAABAAAAAAAAAAEAAAAAAAAAAQAAAAAAAAABAAAAAAAAAAEAAAAAAAAAAQAAAAAAAAABA\"},\"shape\":[12],\"dtype\":\"float64\",\"order\":\"little\"}]]}}},\"view\":{\"type\":\"object\",\"name\":\"CDSView\",\"id\":\"p1099\",\"attributes\":{\"filter\":{\"type\":\"object\",\"name\":\"AllIndices\",\"id\":\"p1100\"}}},\"glyph\":{\"type\":\"object\",\"name\":\"Scatter\",\"id\":\"p1095\",\"attributes\":{\"x\":{\"type\":\"field\",\"field\":\"index\"},\"y\":{\"type\":\"field\",\"field\":\"pivotLow\"},\"size\":{\"type\":\"value\",\"value\":10},\"line_color\":{\"type\":\"value\",\"value\":\"navy\"},\"line_alpha\":{\"type\":\"value\",\"value\":0.5},\"fill_color\":{\"type\":\"value\",\"value\":\"green\"},\"fill_alpha\":{\"type\":\"value\",\"value\":0.5},\"hatch_alpha\":{\"type\":\"value\",\"value\":0.5}}},\"nonselection_glyph\":{\"type\":\"object\",\"name\":\"Scatter\",\"id\":\"p1096\",\"attributes\":{\"x\":{\"type\":\"field\",\"field\":\"index\"},\"y\":{\"type\":\"field\",\"field\":\"pivotLow\"},\"size\":{\"type\":\"value\",\"value\":10},\"line_color\":{\"type\":\"value\",\"value\":\"navy\"},\"line_alpha\":{\"type\":\"value\",\"value\":0.1},\"fill_color\":{\"type\":\"value\",\"value\":\"green\"},\"fill_alpha\":{\"type\":\"value\",\"value\":0.1},\"hatch_alpha\":{\"type\":\"value\",\"value\":0.1}}},\"muted_glyph\":{\"type\":\"object\",\"name\":\"Scatter\",\"id\":\"p1097\",\"attributes\":{\"x\":{\"type\":\"field\",\"field\":\"index\"},\"y\":{\"type\":\"field\",\"field\":\"pivotLow\"},\"size\":{\"type\":\"value\",\"value\":10},\"line_color\":{\"type\":\"value\",\"value\":\"navy\"},\"line_alpha\":{\"type\":\"value\",\"value\":0.2},\"fill_color\":{\"type\":\"value\",\"value\":\"green\"},\"fill_alpha\":{\"type\":\"value\",\"value\":0.2},\"hatch_alpha\":{\"type\":\"value\",\"value\":0.2}}}}}],\"toolbar\":{\"type\":\"object\",\"name\":\"Toolbar\",\"id\":\"p1012\",\"attributes\":{\"tools\":[{\"type\":\"object\",\"name\":\"PanTool\",\"id\":\"p1025\"},{\"type\":\"object\",\"name\":\"WheelZoomTool\",\"id\":\"p1026\",\"attributes\":{\"renderers\":\"auto\"}},{\"type\":\"object\",\"name\":\"BoxZoomTool\",\"id\":\"p1027\",\"attributes\":{\"dimensions\":\"both\",\"overlay\":{\"type\":\"object\",\"name\":\"BoxAnnotation\",\"id\":\"p1028\",\"attributes\":{\"syncable\":false,\"line_color\":\"black\",\"line_alpha\":1.0,\"line_width\":2,\"line_dash\":[4,4],\"fill_color\":\"lightgrey\",\"fill_alpha\":0.5,\"level\":\"overlay\",\"visible\":false,\"left\":{\"type\":\"number\",\"value\":\"nan\"},\"right\":{\"type\":\"number\",\"value\":\"nan\"},\"top\":{\"type\":\"number\",\"value\":\"nan\"},\"bottom\":{\"type\":\"number\",\"value\":\"nan\"},\"left_units\":\"canvas\",\"right_units\":\"canvas\",\"top_units\":\"canvas\",\"bottom_units\":\"canvas\",\"handles\":{\"type\":\"object\",\"name\":\"BoxInteractionHandles\",\"id\":\"p1034\",\"attributes\":{\"all\":{\"type\":\"object\",\"name\":\"AreaVisuals\",\"id\":\"p1033\",\"attributes\":{\"fill_color\":\"white\",\"hover_fill_color\":\"lightgray\"}}}}}}}},{\"type\":\"object\",\"name\":\"SaveTool\",\"id\":\"p1035\"},{\"type\":\"object\",\"name\":\"ResetTool\",\"id\":\"p1036\"},{\"type\":\"object\",\"name\":\"HelpTool\",\"id\":\"p1037\"},{\"type\":\"object\",\"name\":\"HoverTool\",\"id\":\"p1038\",\"attributes\":{\"renderers\":\"auto\",\"tooltips\":[[\"Index\",\"@index\"],[\"Open\",\"@Open\"],[\"High\",\"@High\"],[\"Low\",\"@Low\"],[\"Close\",\"@Close\"]]}}]}},\"left\":[{\"type\":\"object\",\"name\":\"LinearAxis\",\"id\":\"p1020\",\"attributes\":{\"ticker\":{\"type\":\"object\",\"name\":\"BasicTicker\",\"id\":\"p1021\",\"attributes\":{\"mantissas\":[1,2,5]}},\"formatter\":{\"type\":\"object\",\"name\":\"BasicTickFormatter\",\"id\":\"p1022\"},\"major_label_policy\":{\"type\":\"object\",\"name\":\"AllLabels\",\"id\":\"p1023\"}}}],\"below\":[{\"type\":\"object\",\"name\":\"LinearAxis\",\"id\":\"p1015\",\"attributes\":{\"ticker\":{\"type\":\"object\",\"name\":\"BasicTicker\",\"id\":\"p1016\",\"attributes\":{\"mantissas\":[1,2,5]}},\"formatter\":{\"type\":\"object\",\"name\":\"BasicTickFormatter\",\"id\":\"p1017\"},\"major_label_orientation\":0.8,\"major_label_policy\":{\"type\":\"object\",\"name\":\"AllLabels\",\"id\":\"p1018\"},\"axis_line_width\":2}}],\"center\":[{\"type\":\"object\",\"name\":\"Grid\",\"id\":\"p1019\",\"attributes\":{\"axis\":{\"id\":\"p1015\"}}},{\"type\":\"object\",\"name\":\"Grid\",\"id\":\"p1024\",\"attributes\":{\"dimension\":1,\"axis\":{\"id\":\"p1020\"}}},{\"type\":\"object\",\"name\":\"Legend\",\"id\":\"p1087\",\"attributes\":{\"items\":[{\"type\":\"object\",\"name\":\"LegendItem\",\"id\":\"p1088\",\"attributes\":{\"label\":{\"type\":\"value\",\"value\":\"Cambio Tendencia Bajista\"},\"renderers\":[{\"id\":\"p1084\"}]}},{\"type\":\"object\",\"name\":\"LegendItem\",\"id\":\"p1101\",\"attributes\":{\"label\":{\"type\":\"value\",\"value\":\"Cambio Tendencia Alcista\"},\"renderers\":[{\"id\":\"p1098\"}]}}]}}],\"background_fill_color\":\"#efefef\"}}]}};\n",
       "  const render_items = [{\"docid\":\"0f971e40-1076-4aca-bd9d-5855ca205eda\",\"roots\":{\"p1003\":\"d411ef38-f7c3-4182-ba54-563b2ecbd07b\"},\"root_ids\":[\"p1003\"]}];\n",
       "  void root.Bokeh.embed.embed_items_notebook(docs_json, render_items);\n",
       "  }\n",
       "  if (root.Bokeh !== undefined) {\n",
       "    embed_document(root);\n",
       "  } else {\n",
       "    let attempts = 0;\n",
       "    const timer = setInterval(function(root) {\n",
       "      if (root.Bokeh !== undefined) {\n",
       "        clearInterval(timer);\n",
       "        embed_document(root);\n",
       "      } else {\n",
       "        attempts++;\n",
       "        if (attempts > 100) {\n",
       "          clearInterval(timer);\n",
       "          console.log(\"Bokeh: ERROR: Unable to run BokehJS code because BokehJS library is missing\");\n",
       "        }\n",
       "      }\n",
       "    }, 10, root)\n",
       "  }\n",
       "})(window);"
      ],
      "application/vnd.bokehjs_exec.v0+json": ""
     },
     "metadata": {
      "application/vnd.bokehjs_exec.v0+json": {
       "id": "p1003"
      }
     },
     "output_type": "display_data"
    }
   ],
   "source": [
    "#CODIGO DE REVISION DIA\n",
    "#dfpl = df_hora.iloc[500:970]\n",
    "dfpl = df_dia.iloc[0:150]\n",
    "\n",
    "p = figure(width=2500, height=500,\n",
    "        title=\"DIA\",\n",
    "        background_fill_color=\"#efefef\",\n",
    "        tooltips=[(\"Index\", \"@index\"), (\"Open\", \"@Open\"), (\"High\",\"@High\"), (\"Low\",\"@Low\"), (\"Close\",\"@Close\")]\n",
    "        )\n",
    "p.xaxis.major_label_orientation = 0.8 # radians\n",
    "p.x_range.range_padding = 0.05\n",
    "#p.xaxis.axis_line_join = \"bevel\" # radians\n",
    "p.xaxis.axis_line_width = 2\n",
    "\n",
    "p.segment(\"index\", \"High\", \"index\",\"Low\",  color=\"black\", line_width=1, source=dfpl)\n",
    "\n",
    "inc = dfpl.query(\"Close>Open\")\n",
    "dec = dfpl.query(\"Open>Close\")\n",
    "\n",
    "p.vbar(    \n",
    "    x=\"index\",\n",
    "    width=0.6,\n",
    "    bottom=\"Open\",\n",
    "    top=\"Close\",\n",
    "    fill_color=\"red\",\n",
    "    line_color=\"red\",    \n",
    "    source=dec   \n",
    ")\n",
    "\n",
    "\n",
    "p.vbar(    \n",
    "    x=\"index\",\n",
    "    width=0.6,\n",
    "    bottom=\"Open\",\n",
    "    top=\"Close\",\n",
    "    fill_color=\"green\",\n",
    "    line_color=\"green\", \n",
    "    source=inc   \n",
    ")\n",
    "\n",
    "p.scatter(x=\"index\", y=\"pivotHigh\", marker=\"circle\", size=10,\n",
    "           line_color=\"navy\", fill_color=\"blue\", alpha=0.5, legend_label=\"Cambio Tendencia Bajista\", source=dfpl[(dfpl.isPivot==1)])\n",
    "\n",
    "p.scatter(x=\"index\", y=\"pivotLow\", marker=\"circle\", size=10,\n",
    "           line_color=\"navy\", fill_color=\"green\", alpha=0.5, legend_label=\"Cambio Tendencia Alcista\", source=dfpl[(dfpl.isPivot==2)])\n",
    "\n",
    "show(p)"
   ]
  },
  {
   "cell_type": "code",
   "execution_count": 7,
   "id": "732bd872-6c50-4147-9085-e3aeb393b1f4",
   "metadata": {
    "execution": {
     "iopub.execute_input": "2025-06-11T18:02:38.250204Z",
     "iopub.status.busy": "2025-06-11T18:02:38.250003Z",
     "iopub.status.idle": "2025-06-11T18:02:38.385499Z",
     "shell.execute_reply": "2025-06-11T18:02:38.384873Z"
    },
    "papermill": {
     "duration": 0.141519,
     "end_time": "2025-06-11T18:02:38.386398",
     "exception": false,
     "start_time": "2025-06-11T18:02:38.244879",
     "status": "completed"
    },
    "tags": []
   },
   "outputs": [
    {
     "data": {
      "text/html": [
       "\n",
       "  <div id=\"e8b2aefa-b8ba-495d-9267-b31a3d237614\" data-root-id=\"p1172\" style=\"display: contents;\"></div>\n"
      ]
     },
     "metadata": {},
     "output_type": "display_data"
    },
    {
     "data": {
      "application/javascript": [
       "(function(root) {\n",
       "  function embed_document(root) {\n",
       "  const docs_json = {\"93bf8284-ead0-4951-9d5e-e83ccfaac99e\":{\"version\":\"3.7.3\",\"title\":\"Bokeh Application\",\"roots\":[{\"type\":\"object\",\"name\":\"Figure\",\"id\":\"p1172\",\"attributes\":{\"width\":2500,\"height\":500,\"x_range\":{\"type\":\"object\",\"name\":\"DataRange1d\",\"id\":\"p1173\",\"attributes\":{\"range_padding\":0.05}},\"y_range\":{\"type\":\"object\",\"name\":\"DataRange1d\",\"id\":\"p1174\"},\"x_scale\":{\"type\":\"object\",\"name\":\"LinearScale\",\"id\":\"p1182\"},\"y_scale\":{\"type\":\"object\",\"name\":\"LinearScale\",\"id\":\"p1183\"},\"title\":{\"type\":\"object\",\"name\":\"Title\",\"id\":\"p1175\",\"attributes\":{\"text\":\"HORA\"}},\"renderers\":[{\"type\":\"object\",\"name\":\"GlyphRenderer\",\"id\":\"p1217\",\"attributes\":{\"data_source\":{\"type\":\"object\",\"name\":\"ColumnDataSource\",\"id\":\"p1208\",\"attributes\":{\"selected\":{\"type\":\"object\",\"name\":\"Selection\",\"id\":\"p1209\",\"attributes\":{\"indices\":[],\"line_indices\":[]}},\"selection_policy\":{\"type\":\"object\",\"name\":\"UnionRenderers\",\"id\":\"p1210\"},\"data\":{\"type\":\"map\",\"entries\":[[\"index\",{\"type\":\"ndarray\",\"array\":{\"type\":\"bytes\",\"data\":\"AAAAAAEAAAACAAAAAwAAAAQAAAAFAAAABgAAAAcAAAAIAAAACQAAAAoAAAALAAAADAAAAA0AAAAOAAAADwAAABAAAAARAAAAEgAAABMAAAAUAAAAFQAAABYAAAAXAAAAGAAAABkAAAAaAAAAGwAAABwAAAAdAAAAHgAAAB8AAAAgAAAAIQAAACIAAAAjAAAAJAAAACUAAAAmAAAAJwAAACgAAAApAAAAKgAAACsAAAAsAAAALQAAAC4AAAAvAAAAMAAAADEAAAAyAAAAMwAAADQAAAA1AAAANgAAADcAAAA4AAAAOQAAADoAAAA7AAAAPAAAAD0AAAA+AAAAPwAAAEAAAABBAAAAQgAAAEMAAABEAAAARQAAAEYAAABHAAAASAAAAEkAAABKAAAASwAAAEwAAABNAAAATgAAAE8AAABQAAAAUQAAAFIAAABTAAAAVAAAAFUAAABWAAAAVwAAAFgAAABZAAAAWgAAAFsAAABcAAAAXQAAAF4AAABfAAAAYAAAAGEAAABiAAAAYwAAAGQAAABlAAAAZgAAAGcAAABoAAAAaQAAAGoAAABrAAAAbAAAAG0AAABuAAAAbwAAAHAAAABxAAAAcgAAAHMAAAB0AAAAdQAAAHYAAAB3AAAAeAAAAHkAAAB6AAAAewAAAHwAAAB9AAAAfgAAAH8AAACAAAAAgQAAAIIAAACDAAAAhAAAAIUAAACGAAAAhwAAAIgAAACJAAAAigAAAIsAAACMAAAAjQAAAI4AAACPAAAAkAAAAJEAAACSAAAAkwAAAJQAAACVAAAA\"},\"shape\":[150],\"dtype\":\"int32\",\"order\":\"little\"}],[\"Close\",{\"type\":\"ndarray\",\"array\":{\"type\":\"bytes\",\"data\":\"AQAAQAo7e0AAAAAghUt7QAAAAADXSXtAAAAA4HpQe0AAAACAwj17QAAAAKBwRXtAAAAAYI9Ke0AAAAAgXFt7QAAAAGBmantAAAAAwI9ie0AAAADgfFR7QAAAAADXJ3tAAAAAgOtJe0ABAABAClN7QAAAACCud3tAAAAAIK6Le0AAAABguI57QAAAAIAUjntAAAAAoJmde0AAAACAPbJ7QAAAAKCZqXtAAAAAYGame0AAAABgj4x7QAAAAAAAnHtAAQAAQDOXe0AAAADgepB7QAEAAMAeeXtAAQAAQAp3e0AAAADgejR7QAEAAEAaPntAAQAAQDNTe0AAAABg5WB7QAAAAIDCX3tAAQAAQDNXe0AAAAAA11N7QAAAAABxNXtAAQAAwB41e0AAAACAFD57QAAAAIDCMXtAAAAA4OBKe0AAAAAghTt7QAAAAGC4LntAAAAAoEc5e0AAAACAwi17QAAAAIDiM3tAAAAAACkwe0ABAADAHj97QAAAAGBCOXtAAQAAwMxIe0ABAADAuBp7QAAAAGC4EntAAAAA4FEoe0ABAADAHi17QAAAAIDrH3tAAAAAAAASe0ABAABAChN7QAAAACCuH3tAAAAAgNcHe0AAAACgmQV7QAAAAOCVCXtAAAAAANcBe0AAAABgOQp7QAEAAEDh9npAAQAAwMwMe0AAAACgRx17QAAAAIA9KntAAAAA4Ho4e0AAAACAwkd7QAAAAADXS3tAAAAAYGZCe0AAAADgUTh7QAEAAMDMQHtAAAAA4KNIe0AAAADgejx7QAAAAKBHPXtAAAAAoHA1e0AAAACAPUZ7QAEAAEDhSntAAAAAgBRae0AAAACgcGF7QAAAACCFW3tAAAAAIIVTe0AAAAAgsFp7QAAAAIA9YntAAAAAAACwe0ABAABACqt7QAEAAMDMsHtAAAAAYFK4e0AAAADA9cB7QAAAAOBRwHtAAAAAANeze0AAAACArrd7QAAAAGC4uHtAAAAAgD2+e0AAAAAghbd7QAEAAMAeuXtAAAAAANeze0AAAADgt7J7QAAAACCFq3tAAAAAIIW7e0AAAACAFLJ7QAAAACCFW3tAAAAAoJlVe0AAAADA9Wx7QAAAAIB6dHtAAQAAwMx0e0AAAAAAAHx7QAAAAGC4entAAAAA4Ix3e0AAAAAA5X57QAEAAMDMkHtAAAAAgMKpe0AAAADgepx7QAAAAGCPhHtAAQAAwMxoe0AAAACAUXR7QAAAACCFa3tAAAAAgD1me0AAAACAFHJ7QAAAAAA9dntAAAAA4FFwe0AAAABgj3p7QAAAAOBRhHtAAQAAwB6Je0AAAACgmY17QAAAAIAUjntAAAAAAF+Le0AAAABApJh7QAAAACCup3tAAQAAwITze0AAAACA6+l7QAAAAKCZ1XtAAAAA4D3ie0ABAABA4ep7QAAAAIA92ntAAAAAACnge0AAAACAFP57QAAAAKBHAXxAAAAAoHAJfEAAAABgjwp8QAAAAIA9DnxAAAAAYLgcfEAAAADgoxh8QAAAAIDrJnxAAAAAIFwmfEAAAACAFBx8QAAAAAAAHHxAAAAAoHAZfEAAAACA6xF8QAAAAOCjFHxA\"},\"shape\":[150],\"dtype\":\"float64\",\"order\":\"little\"}],[\"High\",{\"type\":\"ndarray\",\"array\":{\"type\":\"bytes\",\"data\":\"AQAAQOFSe0AAAADgUVR7QAAAAKBwTXtAAAAAoEdVe0AAAACgR1N7QAAAAIDCS3tAAAAAYI9Me0AAAAAAAGR7QAAAAKD6cHtAAAAAgMJre0AAAADgCWN7QAAAAAApWHtAAAAAYGZie0ABAABAClN7QAAAAGCPentAAAAAgOuLe0AAAADgFJJ7QAEAAEDhkntAAAAAgD2ge0AAAABgZr57QAAAACBct3tAAQAAQOGye0AAAABgZqZ7QAAAAOCjnHtAAAAAgBSme0AAAADgeph7QAAAAOCjkHtAAAAAoJmFe0AAAABguGJ7QAAAAIDrRXtAAAAAgMJVe0AAAACA62V7QAAAAIDCY3tAAAAAYGZge0AAAAAAAGB7QAAAAOB6RHtAAAAAQNg6e0AAAAAgXEN7QAAAAGC4QntAAQAAQDNLe0AAAAAA1097QAAAAKAaPXtAAAAA4FFAe0AAAACgmT17QAAAAKBHPXtAAAAAYLg6e0AAAABg0z97QAAAAKBHR3tAAAAAgOtJe0AAAAAA1x97QAAAAADXI3tAAQAAwB4pe0AAAABgZi57QAAAAMD1MHtAAAAAYI8ge0AAAAAgrh97QAAAAIDCKXtAAAAAgBQge0ABAABAeRR7QAEAAEDhCntAAAAAoHALe0AAAABguA57QAAAAKCZDXtAAQAAwMwUe0ABAABA4R57QAAAACCFK3tAAQAAQAo7e0AAAACgcEl7QAAAAOBNTHtAAAAAwPVMe0ABAADAzDp7QAAAACCFR3tAAQAAQApXe0ABAADAzEh7QAAAAOCjQHtAAAAAIFw/e0ABAABA4UZ7QAAAAIDrVXtAAQAAQApbe0ABAADAHmN7QAAAAOB6ZHtAAAAAgFFce0ABAADAzFx7QAAAAGC4YntAAQAAwB61e0AAAACAwrV7QAAAAIDysHtAAAAAgMK5e0AAAACAFMJ7QAAAAIA9wntAAQAAwMzEe0ABAABA4bp7QAAAAIDCuXtAAQAAQDO/e0AAAAAAALp7QAAAAGA5vntAAAAAwPW8e0AAAACAPbZ7QAAAACCuuXtAAAAAACm8e0AAAACAKLx7QAAAAIDreXtAAAAAoJlde0ABAABAM217QAEAAMDMeHtAAAAAACl8e0AAAACgmYF7QAAAAADXf3tAAAAAAACEe0AAAACAPYJ7QAEAAMAekXtAAAAAgD2qe0AAAACAPap7QAAAACCunXtAAAAAYI+Ie0AAAACgcH17QAAAAIA9dntAAAAAoEdxe0AAAACgHHJ7QAAAAGC4dntAAAAAwPV2e0AAAABguHp7QAAAAODAkHtAAAAAIIWPe0ABAABAM5t7QAAAAKBHlXtAAQAAwECSe0AAAAAA15l7QAAAACCFr3tAAAAAoHD1e0AAAACgrfd7QAEAAEAK63tAAAAAANfje0AAAABA2Ot7QAAAAAAA7HtAAQAAQDPje0AAAAAAKQh8QAAAAAApCHxAAAAAANcLfEAAAABgjw58QAAAAOBRFHxAAAAAYGYefEAAAACAFCZ8QAAAAIDCNXxAAAAAoJkrfEABAABACi18QAAAAIDgIXxAAAAAACkkfEAAAADA9Rx8QAAAAKCZFXxA\"},\"shape\":[150],\"dtype\":\"float64\",\"order\":\"little\"}],[\"Low\",{\"type\":\"ndarray\",\"array\":{\"type\":\"bytes\",\"data\":\"AAAAgBQqe0AAAACAwjF7QAAAACCFO3tAAQAAQOFGe0AAAADg6zl7QAAAACCuNXtAAAAAAJxBe0AAAAAAKUh7QAAAAGCPWntAAQAAwB5Ze0ABAADAzFB7QAAAAKBwGXtAAAAAIFwfe0AAAACAFDJ7QAAAACCuQ3tAAAAAgOtle0AAAADA9YB7QAAAAIDCgXtAAAAA4FGMe0AAAACgmZ17QAAAAMD1oHtAAAAA4FGMe0AAAAAgXIV7QAAAAGC4hntAAAAAoJmVe0AAAADgeox7QAAAAKCZdXtAAAAAIIVve0AAAACAAjF7QAAAAOB6MHtAAAAAoJk9e0AAAADA9VB7QAEAAMDMVHtAAAAAYLhSe0AAAACgmVF7QAAAAIAUJntAAAAAoEcle0ABAADAzDB7QAAAAIDrLXtAAAAAACkwe0AAAAAgXDt7QAAAAAAAKntAAAAAoJkZe0AAAADgeiB7QAAAAADXK3tAAAAA4KMme0AAAADA9Sx7QAAAAOCjOHtAAAAAIFw1e0AAAAAgYwt7QAAAAKBwDXtAAAAAgBQQe0ABAABAMyN7QAAAAAA9HntAAAAAIIUHe0AAAAAgXA97QAAAAKCZCXtAAAAAYGYEe0AAAACgcP16QAAAAGBm+npAAAAAAAD8ekAAAABApAB7QAEAAEAK83pAAAAAgBT+ekAAAADgowh7QAAAAMA3HHtAAAAAgOsne0AAAADgozh7QAAAAKBwQXtAAAAAoEdBe0AAAABgjyZ7QAAAAIA9NntAAAAAIK4/e0AAAADA9Sh7QAAAAOCjMHtAAAAAoHApe0AAAABgjzJ7QAAAAOCjOHtAAAAAYI8+e0AAAAAgXFN7QAEAAEDhTntAAAAAgD1Ge0AAAACAwk17QAAAAOBRUntAAAAAgMKRe0AAAADgo6B7QAAAAAApoHtAAAAAANeve0ABAADAHrd7QAAAAKBwuXtAAQAAQOGye0AAAACAFKp7QAAAAOBRsHtAAAAA4Pu2e0AAAABgZp57QAAAAOA9sntAAAAA4FGwe0AAAAAgrqt7QAAAAMD1pHtAAAAAoHCre0AAAACAFLJ7QAEAAEAzV3tAAAAAwPVQe0AAAACgR1V7QAAAAMD1antAAAAAgOtve0AAAABgZnR7QAAAACCFd3tAAAAAIIVne0ABAADAHm17QAEAAMBCfntAAAAAwPWQe0AAAAAAAJh7QAAAACBcg3tAAQAAwMxke0ABAADAzGB7QAAAAAApYHtAAAAAIFxZe0AAAADgUWR7QAAAAIB6aHtAAAAAgBRse0AAAACAwml7QAEAAEAKd3tAAAAA4FGAe0AAAAAAAIZ7QAAAAKCZiXtAAAAA4FGEe0AAAACAwoV7QAEAAEAKk3tAAAAAAE/de0ABAADAzOh7QAAAAGCPzntAAAAAAADUe0AAAAAAAOB7QAAAAGBm0ntAAQAAwB7Ze0ABAABAM/d7QAAAAADX/XtAAAAAIB3+e0AAAABgjwJ8QAAAAIDrCXxAAAAAAAAMfEAAAADgehh8QAEAAEDhInxAAAAA4FEYfEAAAACgcBt8QAEAAEAKE3xAAAAA4KMYfEAAAACAFAp8QAAAAADXB3xA\"},\"shape\":[150],\"dtype\":\"float64\",\"order\":\"little\"}],[\"Open\",{\"type\":\"ndarray\",\"array\":{\"type\":\"bytes\",\"data\":\"AQAAwB41e0ABAABAMzt7QAAAAIB8S3tAAAAAgD1Ke0AAAADgo1B7QAAAAIDCPXtAAAAAIFxFe0AAAAAAKVB7QAAAAKBwW3tAAAAAAGZqe0AAAABgj2J7QAAAAOCjVHtAAAAAgOsne0AAAABgj0p7QAAAAKBHRXtAAAAAIK53e0AAAAAghYt7QAEAAMDMjntAAAAAgD2Oe0AAAACgvZ17QAAAAIA9sntAAAAA4FGwe0AAAABgZqZ7QAAAAOBRjHtAAAAAAACce0ABAABAM5d7QAAAAOB6kHtAAQAAwB55e0AAAADgo1R7QAEAAMDMNHtAAAAAYGY+e0ABAABAM1N7QAAAAGDlYHtAAAAAgOtfe0AAAAAgXFd7QAAAAGCPQntAAAAAgBQ4e0AAAACgRzV7QAAAAIA9PntAAAAAIK4xe0AAAABguEp7QAAAACCFO3tAAQAAQDMfe0AAAACgcDl7QAAAAKBwLXtAAAAAACk0e0AAAADgUTB7QAEAAEAzP3tAAAAAoEc5e0ABAABA4Q57QAEAAMDMGntAAAAAYLgSe0AAAADgeih7QAEAAMAeLXtAAAAAANcfe0AAAACAFBJ7QAAAAIDrCXtAAAAAANcfe0AAAAAgrgd7QAAAAKCZBXtAAAAAoJkJe0AAAACAwgF7QAAAAIA9CntAAAAAgOsJe0AAAADA9Qx7QAAAAIDrHXtAAAAAgD0qe0AAAADgozh7QAAAAADXR3tAAAAAANdLe0ABAADAzDB7QAAAAOB6OHtAAQAAwMxAe0AAAADgekh7QAAAAOB6PHtAAAAAoHA9e0AAAACgRzV7QAAAACBcP3tAAQAAQApLe0AAAADgLVp7QAAAAIBRYXtAAAAAIIVbe0AAAAAgrlN7QAAAAGCPWntAAQAAQAqXe0AAAAAAALB7QAEAAMAeq3tAAQAAQM2we0AAAADgerh7QAAAAMD1wHtAAAAA4FHAe0AAAABguK57QAAAAADXt3tAAQAAwMy4e0AAAABgj557QAAAACCut3tAAQAAwB65e0AAAADABbR7QAAAAGC4sntAAAAAIIWre0AAAAAgXLt7QAAAAGC4dntAAAAAIK5be0AAAACgR1V7QAAAAMD1bHtAAAAA4FF0e0AAAADgo3R7QAAAAAAAfHtAAAAAgBRqe0AAAACgmXd7QAAAACBcf3tAAAAAwPWQe0AAAACAwql7QAAAAOB6nHtAAAAA4HqEe0ABAABA4WJ7QAAAAIBRdHtAAAAAwFtre0AAAACAPWZ7QAAAAAA9cntAAAAAgD12e0AAAAAAKXB7QAEAAEAzh3tAAAAAACmEe0ABAADAHol7QAAAAIAUjntAAAAAgD2Oe0AAAAAghYt7QAAAAECkmHtAAAAAgD3me0AAAAAghfN7QAAAAIDr6XtAAAAAoJnVe0AAAABgj+J7QAEAAEDh6ntAAAAAYGbae0AAAABgZv57QAAAAIAU/ntAAAAAoHABfEAAAACgRwl8QAAAAGC4CnxAAAAAgD0OfEAAAADgoxx8QAAAAOBRJnxAAQAAQOEmfEAAAAAgXCZ8QAAAAAApHHxAAAAAAAAcfEAAAACgcBl8QAAAAIAUEnxA\"},\"shape\":[150],\"dtype\":\"float64\",\"order\":\"little\"}],[\"Volume\",{\"type\":\"ndarray\",\"array\":{\"type\":\"bytes\",\"data\":\"5gMjAQsWsADdm4gAiUmdAJtDwwAKjKwA5JqnADSdqQB5oosAtRp4AJVrSgD4mh8B43FcAe6tzQDjZTgBZ2qvAPwFnwCM12EAN7iBAP7YFAFAxTsBWJtXActQWQEYa4sA6yJ3AGjCZgALzb0AHKPdAGbm8gAMbJoAJ+hgAF2JsAD3AE8Axc9bAKn4wABTTsAAxHKdAACHbgBlQG0A0Z9lAI/8mwAjsuoAzDnfANwUiQAjyVMAfllhAM6jVgB/MngAl82rAP/L7gARXIIA1AKGAJaNYAA03GgAp3XEAOKXAgH0rKEAcpSWAMZ+bQBm4lEAABtPANcXXgC0zAEB+S6zAGpfhQD+el0AX+djAFY9cwAmScAAznS1AFZnvgB4/pIAZyVlANaGlACYuFAAJ/BxAHPgygDHsccAZTaGAIJqaACp8V4AueR3AOUATgCiz7EA+zEuAVPaswCtY3oAjnSAAA/KdQD0wI0A2/MjAXu/owBwIWgAbUNjAJO4mAAYuXoAMsNrAAuxdQC+dlcAY5BXAAltZwCFcEYBlQiUAMLOjAAEWIMAulRbAFe/WwDpOpsAH/upAO83UgBdz2UADOOgACeDYACZvXoAul0+AZWtqQBT35EAVn5iALAMTACVP04A/b49ACW9twCEE6IAAPhkAAlscwCdgUYAzO89AJM5awAZ6OYAiJU2ATZEeAAAAAAA16LZAlgWUwCednIA7AATAcDOwQCDzowAhpZnACXhYgDgGFQAjO93AF8I0QA7aNEAna2nAHstdQCd9F0AV4hMAJbHeADWyZ4A\"},\"shape\":[150],\"dtype\":\"int32\",\"order\":\"little\"}],[\"datetime\",{\"type\":\"ndarray\",\"array\":{\"type\":\"bytes\",\"data\":\"AAD8Lk+LeEIAAOSdUot4QgAAzAxWi3hCAAC0e1mLeEIAAJzqXIt4QgAAhFlgi3hCAABsyGOLeEIAALyUoYt4QgAApAOli3hCAACMcqiLeEIAAHThq4t4QgAAXFCvi3hCAABEv7KLeEIAACwutot4QgAAfPrzi3hCAABkafeLeEIAAEzY+ot4QgAANEf+i3hCAAActgGMeEIAAAQlBYx4QgAA7JMIjHhCAAA8YEaMeEIAACTPSYx4QgAADD5NjHhCAAD0rFCMeEIAANwbVIx4QgAAxIpXjHhCAACs+VqMeEIAADz3j414QgAAJGaTjXhCAAAM1ZaNeEIAAPRDmo14QgAA3LKdjXhCAADEIaGNeEIAAKyQpI14QgAA/FzijXhCAADky+WNeEIAAMw66Y14QgAAtKnsjXhCAACcGPCNeEIAAISH8414QgAAbPb2jXhCAAC8wjSOeEIAAKQxOI54QgAAjKA7jnhCAAB0Dz+OeEIAAFx+Qo54QgAARO1FjnhCAAAsXEmOeEIAAHwoh454QgAAZJeKjnhCAABMBo6OeEIAADR1kY54QgAAHOSUjnhCAAAEU5iOeEIAAOzBm454QgAAvFl+j3hCAACkyIGPeEIAAIw3hY94QgAAdKaIj3hCAABcFYyPeEIAAESEj494QgAALPOSj3hCAAB8v9CPeEIAAGQu1I94QgAATJ3Xj3hCAAA0DNuPeEIAABx73o94QgAABOrhj3hCAADsWOWPeEIAADwlI5B4QgAAJJQmkHhCAAAMAyqQeEIAAPRxLZB4QgAA3OAwkHhCAADETzSQeEIAAKy+N5B4QgAA/Ip1kHhCAADk+XiQeEIAAMxofJB4QgAAtNd/kHhCAACcRoOQeEIAAIS1hpB4QgAAbCSKkHhCAAC88MeQeEIAAKRfy5B4QgAAjM7OkHhCAAB0PdKQeEIAAFys1ZB4QgAARBvZkHhCAAAsityQeEIAAPwhv5F4QgAA5JDCkXhCAADM/8WReEIAAHztY5J4QgAAZFxnknhCAABMy2qSeEIAADQ6bpJ4QgAAHKlxknhCAAAEGHWSeEIAAOyGeJJ4QgAAPFO2knhCAAAkwrmSeEIAAAwxvZJ4QgAA9J/AknhCAADcDsSSeEIAAMR9x5J4QgAArOzKknhCAAD8uAiTeEIAAOQnDJN4QgAAzJYPk3hCAAC0BROTeEIAAJx0FpN4QgAAhOMZk3hCAABsUh2TeEIAADzq/5N4QgAAJFkDlHhCAAAMyAaUeEIAAPQ2CpR4QgAA3KUNlHhCAADEFBGUeEIAAKyDFJR4QgAA/E9SlHhCAADkvlWUeEIAAMwtWZR4QgAAtJxclHhCAACcC2CUeEIAAIR6Y5R4QgAAbOlmlHhCAAC8taSUeEIAAKQkqJR4QgAAjJOrlHhCAAB0Aq+UeEIAAFxxspR4QgAAROC1lHhCAAAsT7mUeEIAAHwb95R4QgAAZIr6lHhCAABM+f2UeEIAADRoAZV4QgAAHNcElXhCAAAERgiVeEIAAOy0C5V4QgAAPIFJlXhCAAAk8EyVeEIAAAxfUJV4QgAA9M1TlXhCAADcPFeVeEIAAMSrWpV4QgAArBpelXhC\"},\"shape\":[150],\"dtype\":\"float64\",\"order\":\"little\"}],[\"companyName\",{\"type\":\"ndarray\",\"array\":[\"SPY\",\"SPY\",\"SPY\",\"SPY\",\"SPY\",\"SPY\",\"SPY\",\"SPY\",\"SPY\",\"SPY\",\"SPY\",\"SPY\",\"SPY\",\"SPY\",\"SPY\",\"SPY\",\"SPY\",\"SPY\",\"SPY\",\"SPY\",\"SPY\",\"SPY\",\"SPY\",\"SPY\",\"SPY\",\"SPY\",\"SPY\",\"SPY\",\"SPY\",\"SPY\",\"SPY\",\"SPY\",\"SPY\",\"SPY\",\"SPY\",\"SPY\",\"SPY\",\"SPY\",\"SPY\",\"SPY\",\"SPY\",\"SPY\",\"SPY\",\"SPY\",\"SPY\",\"SPY\",\"SPY\",\"SPY\",\"SPY\",\"SPY\",\"SPY\",\"SPY\",\"SPY\",\"SPY\",\"SPY\",\"SPY\",\"SPY\",\"SPY\",\"SPY\",\"SPY\",\"SPY\",\"SPY\",\"SPY\",\"SPY\",\"SPY\",\"SPY\",\"SPY\",\"SPY\",\"SPY\",\"SPY\",\"SPY\",\"SPY\",\"SPY\",\"SPY\",\"SPY\",\"SPY\",\"SPY\",\"SPY\",\"SPY\",\"SPY\",\"SPY\",\"SPY\",\"SPY\",\"SPY\",\"SPY\",\"SPY\",\"SPY\",\"SPY\",\"SPY\",\"SPY\",\"SPY\",\"SPY\",\"SPY\",\"SPY\",\"SPY\",\"SPY\",\"SPY\",\"SPY\",\"SPY\",\"SPY\",\"SPY\",\"SPY\",\"SPY\",\"SPY\",\"SPY\",\"SPY\",\"SPY\",\"SPY\",\"SPY\",\"SPY\",\"SPY\",\"SPY\",\"SPY\",\"SPY\",\"SPY\",\"SPY\",\"SPY\",\"SPY\",\"SPY\",\"SPY\",\"SPY\",\"SPY\",\"SPY\",\"SPY\",\"SPY\",\"SPY\",\"SPY\",\"SPY\",\"SPY\",\"SPY\",\"SPY\",\"SPY\",\"SPY\",\"SPY\",\"SPY\",\"SPY\",\"SPY\",\"SPY\",\"SPY\",\"SPY\",\"SPY\",\"SPY\",\"SPY\",\"SPY\",\"SPY\",\"SPY\",\"SPY\",\"SPY\",\"SPY\",\"SPY\"],\"shape\":[150],\"dtype\":\"object\",\"order\":\"little\"}],[\"fecha\",{\"type\":\"ndarray\",\"array\":{\"type\":\"bytes\",\"data\":\"AADA1SCLeEIAAMDVIIt4QgAAwNUgi3hCAADA1SCLeEIAAMDVIIt4QgAAwNUgi3hCAADA1SCLeEIAAIA7c4t4QgAAgDtzi3hCAACAO3OLeEIAAIA7c4t4QgAAgDtzi3hCAACAO3OLeEIAAIA7c4t4QgAAQKHFi3hCAABAocWLeEIAAEChxYt4QgAAQKHFi3hCAABAocWLeEIAAEChxYt4QgAAQKHFi3hCAAAABxiMeEIAAAAHGIx4QgAAAAcYjHhCAAAABxiMeEIAAAAHGIx4QgAAAAcYjHhCAAAABxiMeEIAAACeYY14QgAAAJ5hjXhCAAAAnmGNeEIAAACeYY14QgAAAJ5hjXhCAAAAnmGNeEIAAACeYY14QgAAwAO0jXhCAADAA7SNeEIAAMADtI14QgAAwAO0jXhCAADAA7SNeEIAAMADtI14QgAAwAO0jXhCAACAaQaOeEIAAIBpBo54QgAAgGkGjnhCAACAaQaOeEIAAIBpBo54QgAAgGkGjnhCAACAaQaOeEIAAEDPWI54QgAAQM9YjnhCAABAz1iOeEIAAEDPWI54QgAAQM9YjnhCAABAz1iOeEIAAEDPWI54QgAAgABQj3hCAACAAFCPeEIAAIAAUI94QgAAgABQj3hCAACAAFCPeEIAAIAAUI94QgAAgABQj3hCAABAZqKPeEIAAEBmoo94QgAAQGaij3hCAABAZqKPeEIAAEBmoo94QgAAQGaij3hCAABAZqKPeEIAAADM9I94QgAAAMz0j3hCAAAAzPSPeEIAAADM9I94QgAAAMz0j3hCAAAAzPSPeEIAAADM9I94QgAAwDFHkHhCAADAMUeQeEIAAMAxR5B4QgAAwDFHkHhCAADAMUeQeEIAAMAxR5B4QgAAwDFHkHhCAACAl5mQeEIAAICXmZB4QgAAgJeZkHhCAACAl5mQeEIAAICXmZB4QgAAgJeZkHhCAACAl5mQeEIAAMDIkJF4QgAAwMiQkXhCAADAyJCReEIAAECUNZJ4QgAAQJQ1knhCAABAlDWSeEIAAECUNZJ4QgAAQJQ1knhCAABAlDWSeEIAAECUNZJ4QgAAAPqHknhCAAAA+oeSeEIAAAD6h5J4QgAAAPqHknhCAAAA+oeSeEIAAAD6h5J4QgAAAPqHknhCAADAX9qSeEIAAMBf2pJ4QgAAwF/aknhCAADAX9qSeEIAAMBf2pJ4QgAAwF/aknhCAADAX9qSeEIAAACR0ZN4QgAAAJHRk3hCAAAAkdGTeEIAAACR0ZN4QgAAAJHRk3hCAAAAkdGTeEIAAACR0ZN4QgAAwPYjlHhCAADA9iOUeEIAAMD2I5R4QgAAwPYjlHhCAADA9iOUeEIAAMD2I5R4QgAAwPYjlHhCAACAXHaUeEIAAIBcdpR4QgAAgFx2lHhCAACAXHaUeEIAAIBcdpR4QgAAgFx2lHhCAACAXHaUeEIAAEDCyJR4QgAAQMLIlHhCAABAwsiUeEIAAEDCyJR4QgAAQMLIlHhCAABAwsiUeEIAAEDCyJR4QgAAACgblXhCAAAAKBuVeEIAAAAoG5V4QgAAACgblXhCAAAAKBuVeEIAAAAoG5V4QgAAACgblXhC\"},\"shape\":[150],\"dtype\":\"float64\",\"order\":\"little\"}],[\"SMA20\",{\"type\":\"ndarray\",\"array\":{\"type\":\"bytes\",\"data\":\"AAAAAAAA+H8AAAAAAAD4fwAAAAAAAPh/AAAAAAAA+H8AAAAAAAD4fwAAAAAAAPh/AAAAAAAA+H8AAAAAAAD4fwAAAAAAAPh/AAAAAAAA+H8AAAAAAAD4fwAAAAAAAPh/AAAAAAAA+H8AAAAAAAD4fwAAAAAAAPh/AAAAAAAA+H8AAAAAAAD4fwAAAAAAAPh/AAAAAAAA+H8zMzPLnGF7QGZmZvYjZ3tAmpmZOa9re0BmZmY+BW97QGZmZubLcntAzczMvER3e0AAAABABXt7QAAAADhZfXtAZmZmhrt+e0CamZlZCXx7QM3MzKw2entAmpmZMSZ6e0AzMzODAH17QAAAABAYfntAAAAAUE1+e0BmZmaOgnx7QDMzM7MyeHtAmpmZ0bdze0CamZnRt297QGZmZnZTantAZmZmbihle0AAAABop197QJqZmYGrWXtAzczMhIFVe0CamZlx/k97QM3MzDQHS3tAAAAAUDZGe0CamZnpT0N7QGZmZh45QHtAZmZmNj1Be0BmZmZWeD97QGZmZv4+PHtAmpmZ0Wo5e0CamZmh4jZ7QDMzMwsfNHtAMzMzS9Qwe0DNzMz0Gy97QGZmZoYJLntAZmZmRlMre0AAAAAIHil7QAAAAEjaJXtAmpmZ+fcie0AzMzPTJCF7QAAAAOjSHXtAzczMBC0ce0DNzMysCxt7QGZmZua/GntAAAAA6Goae0AzMzODJBt7QM3MzGxLG3tAZmZmTkcde0DNzMyUKB97QM7MzOxhIHtAaGZmLsIhe0ACAADALyN7QDUzM7tZJXtAzszMDBIne0BoZmae/yh7QM7MzLRZLHtAzszMDJMwe0BoZmaW9zR7QGhmZn5zOXtAaGZmrh09e0CbmZk5G0J7QM3MzNxgRntAmpmZ4bZNe0DNzMyEJ1R7QM3MzJwrWntAAAAAaMxfe0AzMzOLp2V7QJqZmVHza3tAAAAAYCBye0AAAAAQEnh7QAAAALCsfXtAZmZmnimEe0AzMzNLRop7QM3MzMzbkHtAzczMrFaWe0BmZmbOh5t7QM3MzDyan3tAMzMzQxuke0AzMzM7b6h7QJqZmaHVqHtAmpmZgZSoe0AAAAC4Hal7QAAAANgjpntAmpmZkW2je0AzMzO7yaB7QDMzMzu1nXtAZmZmlgmae0DNzMwkxJZ7QJqZmaEDlXtAZmZmblGUe0DNzMz055J7QGZmZqYFkHtAAAAACBaMe0BmZmZepYh7QM3MzKwHhXtAmpmZwTSBe0BmZmaGVX57QAAAALjeentAzczM/JR3e0DNzMxMInl7QAAAAFB4e3tAMzMzw+B8e0CamZlRIn57QAAAAOhlf3tAAAAAqCqAe0BmZmamqYF7QGZmZrYRhHtAAAAAgOaJe0DNzMw8W457QM3MzGSMkHtAAAAAWAmUe0CamZkJJ5l7QDMzMxPTnntAMzMzczeke0AzMzNri6t7QM3MzOxLs3tAzczMVN26e0CamZnZR8J7QDMzMzstyntAmpmZ4UjSe0CamZlhs9l7QAAAADiX4XtAMzMzizrpe0DNzMwkVPB7QM3MzGSP93tAMzMzAwD+e0CamZnhTwN8QGZmZtb3BHxA\"},\"shape\":[150],\"dtype\":\"float64\",\"order\":\"little\"}],[\"SMA40\",{\"type\":\"ndarray\",\"array\":{\"type\":\"bytes\",\"data\":\"AAAAAAAA+H8AAAAAAAD4fwAAAAAAAPh/AAAAAAAA+H8AAAAAAAD4fwAAAAAAAPh/AAAAAAAA+H8AAAAAAAD4fwAAAAAAAPh/AAAAAAAA+H8AAAAAAAD4fwAAAAAAAPh/AAAAAAAA+H8AAAAAAAD4fwAAAAAAAPh/AAAAAAAA+H8AAAAAAAD4fwAAAAAAAPh/AAAAAAAA+H8AAAAAAAD4fwAAAAAAAPh/AAAAAAAA+H8AAAAAAAD4fwAAAAAAAPh/AAAAAAAA+H8AAAAAAAD4fwAAAAAAAPh/AAAAAAAA+H8AAAAAAAD4fwAAAAAAAPh/AAAAAAAA+H8AAAAAAAD4fwAAAAAAAPh/AAAAAAAA+H8AAAAAAAD4fwAAAAAAAPh/AAAAAAAA+H8AAAAAAAD4fwAAAAAAAPh/zczMnGJje0AzMzOvZWN7QJqZmV2tYntAmpmZYUNie0AAAAAsZWF7QM3MzPglYXtAAAAAyJ1ge0DNzMyQVGB7QGZmZlJ6X3tAAAAASKNee0CamZmB11x7QAAAAJgyW3tAZmZmqjVbe0DNzMxYfVp7QJqZmS02WXtAzczMbKtWe0AAAABUp1N7QAAAAKzgUHtAAAAAjIVNe0AzMzO/uEl7QDMzM1uBRXtAzczMsE9Be0BmZmYqaD17QGZmZjaqOXtAMzMzuxU2e0DNzMxwCTN7QDMzMxt7MHtAzczMaN0ue0DNzMzQri17QJqZmVFELntAZmZm0l8ue0CamZnJsy17QDMzM1/mLHtAAAAAaFIse0CamZllpyt7QDMzMwMXK3tAzczMABcre0BmZmaShCt7QJqZmX3WK3tAZmZmitgse0AzMzPvaC17QAAAALw1LntAzczMQCEve0DNzMwQ9y97QM3MzPBGMXtAMzMzR2E0e0CamZm1czd7QGZmZkJLOntAmpmZdXg9e0AAAAB8eUB7QAAAAFCdRHtAZmZmeqRIe0BmZmb+OUx7QDMzM2+3T3tAMzMzr6xTe0AzMzMD0Fd7QM3MzOz2W3tAmpmZJatfe0CamZnB8GN7QM3MzKQWaHtAzczMbIlse0DNzMxc8XB7QAAAAKj5cntAmpmZ3Vd1e0BmZmZKv3d7QM3MzFzteXtAMzMzi8p7e0AAAACsen17QJqZmdHAfntAzczMkNh/e0AzMzO7W4F7QM3MzACSg3tAMzMzvzGGe0BmZmZSSoh7QGZmZqIXintAmpmZKS6Le0CamZmVwIx7QM3MzCyvjXtAAAAASF6Oe0CamZnh9457QJqZmf18j3tAAAAAHAKQe0AzMzP3+5B7QM3MzGgGkntAmpmZPf+Se0DNzMwUI5J7QM3MzLxpkXtAmpmZMXqQe0DNzMxwr497QGZmZqYNj3tAZmZmUlWQe0AzMzNvr5F7QJqZmelukntAZmZmpniTe0AAAABYlpR7QJqZmY10lXtAzczMaG6We0AAAACMSZh7QDMzM1dAmntAmpmZbZmce0DNzMxIk557QAAAABzhoHtAMzMzl7Wle0DNzMzYlap7QJqZmf07r3tAZmZmbq6ze0BmZmYG3bd7QGZmZgbdu3tAzczM1NS/e0AAAADMsMN7QDMzMytvx3tA\"},\"shape\":[150],\"dtype\":\"float64\",\"order\":\"little\"}],[\"SMA100\",{\"type\":\"ndarray\",\"array\":{\"type\":\"bytes\",\"data\":\"AAAAAAAA+H8AAAAAAAD4fwAAAAAAAPh/AAAAAAAA+H8AAAAAAAD4fwAAAAAAAPh/AAAAAAAA+H8AAAAAAAD4fwAAAAAAAPh/AAAAAAAA+H8AAAAAAAD4fwAAAAAAAPh/AAAAAAAA+H8AAAAAAAD4fwAAAAAAAPh/AAAAAAAA+H8AAAAAAAD4fwAAAAAAAPh/AAAAAAAA+H8AAAAAAAD4fwAAAAAAAPh/AAAAAAAA+H8AAAAAAAD4fwAAAAAAAPh/AAAAAAAA+H8AAAAAAAD4fwAAAAAAAPh/AAAAAAAA+H8AAAAAAAD4fwAAAAAAAPh/AAAAAAAA+H8AAAAAAAD4fwAAAAAAAPh/AAAAAAAA+H8AAAAAAAD4fwAAAAAAAPh/AAAAAAAA+H8AAAAAAAD4fwAAAAAAAPh/AAAAAAAA+H8AAAAAAAD4fwAAAAAAAPh/AAAAAAAA+H8AAAAAAAD4fwAAAAAAAPh/AAAAAAAA+H8AAAAAAAD4fwAAAAAAAPh/AAAAAAAA+H8AAAAAAAD4fwAAAAAAAPh/AAAAAAAA+H8AAAAAAAD4fwAAAAAAAPh/AAAAAAAA+H8AAAAAAAD4fwAAAAAAAPh/AAAAAAAA+H8AAAAAAAD4fwAAAAAAAPh/AAAAAAAA+H8AAAAAAAD4fwAAAAAAAPh/AAAAAAAA+H8AAAAAAAD4fwAAAAAAAPh/AAAAAAAA+H8AAAAAAAD4fwAAAAAAAPh/AAAAAAAA+H8AAAAAAAD4fwAAAAAAAPh/AAAAAAAA+H8AAAAAAAD4fwAAAAAAAPh/AAAAAAAA+H8AAAAAAAD4fwAAAAAAAPh/AAAAAAAA+H8AAAAAAAD4fwAAAAAAAPh/AAAAAAAA+H8AAAAAAAD4fwAAAAAAAPh/AAAAAAAA+H8AAAAAAAD4fwAAAAAAAPh/AAAAAAAA+H8AAAAAAAD4fwAAAAAAAPh/AAAAAAAA+H8AAAAAAAD4fwAAAAAAAPh/AAAAAAAA+H8AAAAAAAD4fwAAAAAAAPh/AAAAAAAA+H8AAAAAAAD4fwAAAAAAAPh/16NwRb1ae0C4HoUD7lt7QBSuR/kWXHtASOF6FDVce0BSuB79fVx7QJqZmREKXXtA9ihcT4Nde0CF61HgAV57QArXoyhSXntArkfh0nNee0AzMzNbvF57QBSuR8FWX3tAmpmZWaNge0DD9Si0dmF7QJqZmXn1YXtAmpmZYc9he0AzMzOTk2F7QGZmZnY5YXtAj8L1eNNge0B7FK4PZGB7QM3MzHTKX3tAmpmZ0Tdfe0DsUbiWx157QGZmZn6yXntAFK5HKYJee0Bcj8KVaV57QI/C9XBjXntAH4XrKZJee0BxPQov6F57QArXoxgPYHtA16Nwhd9he0BSuB5dYWN7QIXrUSCMZHtAj8L1KNple0CF61E4VGd7QI/C9UisaHtAMzMzU2Fqe0CF61HIY2x7QGZmZn5XbntAKVyPon9we0BxPQpXanJ7QArXo8iFdHtAhetREOd2e0Bcj8LdInl7QPYoXLege3tAPQrXcw1+e0CF61FoaYB7QMP1KNyegntAMzMzw9yEe0AUrkeh34Z7QD0K12tfiXtA\"},\"shape\":[150],\"dtype\":\"float64\",\"order\":\"little\"}],[\"SMA200\",{\"type\":\"ndarray\",\"array\":{\"type\":\"bytes\",\"data\":\"AAAAAAAA+H8AAAAAAAD4fwAAAAAAAPh/AAAAAAAA+H8AAAAAAAD4fwAAAAAAAPh/AAAAAAAA+H8AAAAAAAD4fwAAAAAAAPh/AAAAAAAA+H8AAAAAAAD4fwAAAAAAAPh/AAAAAAAA+H8AAAAAAAD4fwAAAAAAAPh/AAAAAAAA+H8AAAAAAAD4fwAAAAAAAPh/AAAAAAAA+H8AAAAAAAD4fwAAAAAAAPh/AAAAAAAA+H8AAAAAAAD4fwAAAAAAAPh/AAAAAAAA+H8AAAAAAAD4fwAAAAAAAPh/AAAAAAAA+H8AAAAAAAD4fwAAAAAAAPh/AAAAAAAA+H8AAAAAAAD4fwAAAAAAAPh/AAAAAAAA+H8AAAAAAAD4fwAAAAAAAPh/AAAAAAAA+H8AAAAAAAD4fwAAAAAAAPh/AAAAAAAA+H8AAAAAAAD4fwAAAAAAAPh/AAAAAAAA+H8AAAAAAAD4fwAAAAAAAPh/AAAAAAAA+H8AAAAAAAD4fwAAAAAAAPh/AAAAAAAA+H8AAAAAAAD4fwAAAAAAAPh/AAAAAAAA+H8AAAAAAAD4fwAAAAAAAPh/AAAAAAAA+H8AAAAAAAD4fwAAAAAAAPh/AAAAAAAA+H8AAAAAAAD4fwAAAAAAAPh/AAAAAAAA+H8AAAAAAAD4fwAAAAAAAPh/AAAAAAAA+H8AAAAAAAD4fwAAAAAAAPh/AAAAAAAA+H8AAAAAAAD4fwAAAAAAAPh/AAAAAAAA+H8AAAAAAAD4fwAAAAAAAPh/AAAAAAAA+H8AAAAAAAD4fwAAAAAAAPh/AAAAAAAA+H8AAAAAAAD4fwAAAAAAAPh/AAAAAAAA+H8AAAAAAAD4fwAAAAAAAPh/AAAAAAAA+H8AAAAAAAD4fwAAAAAAAPh/AAAAAAAA+H8AAAAAAAD4fwAAAAAAAPh/AAAAAAAA+H8AAAAAAAD4fwAAAAAAAPh/AAAAAAAA+H8AAAAAAAD4fwAAAAAAAPh/AAAAAAAA+H8AAAAAAAD4fwAAAAAAAPh/AAAAAAAA+H8AAAAAAAD4fwAAAAAAAPh/AAAAAAAA+H8AAAAAAAD4fwAAAAAAAPh/AAAAAAAA+H8AAAAAAAD4fwAAAAAAAPh/AAAAAAAA+H8AAAAAAAD4fwAAAAAAAPh/AAAAAAAA+H8AAAAAAAD4fwAAAAAAAPh/AAAAAAAA+H8AAAAAAAD4fwAAAAAAAPh/AAAAAAAA+H8AAAAAAAD4fwAAAAAAAPh/AAAAAAAA+H8AAAAAAAD4fwAAAAAAAPh/AAAAAAAA+H8AAAAAAAD4fwAAAAAAAPh/AAAAAAAA+H8AAAAAAAD4fwAAAAAAAPh/AAAAAAAA+H8AAAAAAAD4fwAAAAAAAPh/AAAAAAAA+H8AAAAAAAD4fwAAAAAAAPh/AAAAAAAA+H8AAAAAAAD4fwAAAAAAAPh/AAAAAAAA+H8AAAAAAAD4fwAAAAAAAPh/AAAAAAAA+H8AAAAAAAD4fwAAAAAAAPh/AAAAAAAA+H8AAAAAAAD4fwAAAAAAAPh/AAAAAAAA+H8AAAAAAAD4fwAAAAAAAPh/AAAAAAAA+H8AAAAAAAD4fwAAAAAAAPh/\"},\"shape\":[150],\"dtype\":\"float64\",\"order\":\"little\"}],[\"pivotHigh\",{\"type\":\"ndarray\",\"array\":{\"type\":\"bytes\",\"data\":\"AAAAAAAA+H8AAAAAAAD4fwAAAAAAAPh/AAAAAAAA+H8AAAAAAAD4fwAAAAAAAPh/AAAAAAAA+H8AAAAAAAD4f7x0k7j+cHtAAAAAAAAA+H8AAAAAAAD4fwAAAAAAAPh/AAAAAAAA+H8AAAAAAAD4fwAAAAAAAPh/AAAAAAAA+H8AAAAAAAD4fwAAAAAAAPh/AAAAAAAA+H+8dJN4ar57QAAAAAAAAPh/AAAAAAAA+H8AAAAAAAD4fwAAAAAAAPh/AAAAAAAA+H8AAAAAAAD4fwAAAAAAAPh/AAAAAAAA+H8AAAAAAAD4fwAAAAAAAPh/AAAAAAAA+H8AAAAAAAD4fwAAAAAAAPh/AAAAAAAA+H8AAAAAAAD4fwAAAAAAAPh/AAAAAAAA+H8AAAAAAAD4fwAAAAAAAPh/AAAAAAAA+H8AAAAAAAD4fwAAAAAAAPh/AAAAAAAA+H8AAAAAAAD4fwAAAAAAAPh/AAAAAAAA+H8AAAAAAAD4fwAAAAAAAPh/vHSTmO9Je0AAAAAAAAD4fwAAAAAAAPh/AAAAAAAA+H8AAAAAAAD4fwAAAAAAAPh/AAAAAAAA+H8AAAAAAAD4fwAAAAAAAPh/AAAAAAAA+H8AAAAAAAD4fwAAAAAAAPh/AAAAAAAA+H8AAAAAAAD4fwAAAAAAAPh/AAAAAAAA+H8AAAAAAAD4fwAAAAAAAPh/AAAAAAAA+H8AAAAAAAD4f7x0k/hRTHtAAAAAAAAA+H8AAAAAAAD4fwAAAAAAAPh/AAAAAAAA+H8AAAAAAAD4fwAAAAAAAPh/AAAAAAAA+H8AAAAAAAD4fwAAAAAAAPh/AAAAAAAA+H8AAAAAAAD4fwAAAAAAAPh/AAAAAAAA+H8AAAAAAAD4fwAAAAAAAPh/AAAAAAAA+H8AAAAAAAD4fwAAAAAAAPh/AAAAAAAA+H+8dJOYGMJ7QAAAAAAAAPh/AAAAAAAA+H8AAAAAAAD4fwAAAAAAAPh/AAAAAAAA+H8AAAAAAAD4fwAAAAAAAPh/AAAAAAAA+H8AAAAAAAD4fwAAAAAAAPh/vHSTGC28e0AAAAAAAAD4fwAAAAAAAPh/AAAAAAAA+H8AAAAAAAD4fwAAAAAAAPh/AAAAAAAA+H8AAAAAAAD4fwAAAAAAAPh/AAAAAAAA+H8AAAAAAAD4fwAAAAAAAPh/vHSTmEGqe0AAAAAAAAD4fwAAAAAAAPh/AAAAAAAA+H8AAAAAAAD4fwAAAAAAAPh/AAAAAAAA+H8AAAAAAAD4fwAAAAAAAPh/AAAAAAAA+H8AAAAAAAD4fwAAAAAAAPh/AAAAAAAA+H8AAAAAAAD4fwAAAAAAAPh/AAAAAAAA+H8AAAAAAAD4fwAAAAAAAPh/vHSTuHT1e0AAAAAAAAD4fwAAAAAAAPh/AAAAAAAA+H8AAAAAAAD4fwAAAAAAAPh/AAAAAAAA+H8AAAAAAAD4fwAAAAAAAPh/AAAAAAAA+H8AAAAAAAD4fwAAAAAAAPh/AAAAAAAA+H8AAAAAAAD4f7x0k5jGNXxAAAAAAAAA+H8AAAAAAAD4fwAAAAAAAPh/AAAAAAAA+H8AAAAAAAD4fwAAAAAAAPh/\"},\"shape\":[150],\"dtype\":\"float64\",\"order\":\"little\"}],[\"pivotLow\",{\"type\":\"ndarray\",\"array\":{\"type\":\"bytes\",\"data\":\"AAAAAAAA+H8AAAAAAAD4fwAAAAAAAPh/AAAAAAAA+H8AAAAAAAD4fwAAAAAAAPh/AAAAAAAA+H8AAAAAAAD4fwAAAAAAAPh/AAAAAAAA+H8AAAAAAAD4f0SLbIdsGXtAAAAAAAAA+H8AAAAAAAD4fwAAAAAAAPh/AAAAAAAA+H8AAAAAAAD4fwAAAAAAAPh/AAAAAAAA+H8AAAAAAAD4fwAAAAAAAPh/AAAAAAAA+H8AAAAAAAD4fwAAAAAAAPh/AAAAAAAA+H8AAAAAAAD4fwAAAAAAAPh/AAAAAAAA+H9Ei2xn/jB7QAAAAAAAAPh/AAAAAAAA+H8AAAAAAAD4fwAAAAAAAPh/AAAAAAAA+H8AAAAAAAD4fwAAAAAAAPh/AAAAAAAA+H8AAAAAAAD4fwAAAAAAAPh/AAAAAAAA+H8AAAAAAAD4fwAAAAAAAPh/AAAAAAAA+H9Ei2zHdiB7QAAAAAAAAPh/AAAAAAAA+H8AAAAAAAD4fwAAAAAAAPh/AAAAAAAA+H8AAAAAAAD4fwAAAAAAAPh/AAAAAAAA+H8AAAAAAAD4fwAAAAAAAPh/AAAAAAAA+H8AAAAAAAD4fwAAAAAAAPh/AAAAAAAA+H8AAAAAAAD4fwAAAAAAAPh/AAAAAAAA+H8AAAAAAAD4f0WLbCcG83pAAAAAAAAA+H8AAAAAAAD4fwAAAAAAAPh/AAAAAAAA+H8AAAAAAAD4fwAAAAAAAPh/AAAAAAAA+H8AAAAAAAD4fwAAAAAAAPh/AAAAAAAA+H8AAAAAAAD4fwAAAAAAAPh/RItsh2wpe0AAAAAAAAD4fwAAAAAAAPh/AAAAAAAA+H8AAAAAAAD4fwAAAAAAAPh/AAAAAAAA+H8AAAAAAAD4fwAAAAAAAPh/AAAAAAAA+H8AAAAAAAD4fwAAAAAAAPh/AAAAAAAA+H8AAAAAAAD4fwAAAAAAAPh/AAAAAAAA+H8AAAAAAAD4fwAAAAAAAPh/AAAAAAAA+H8AAAAAAAD4fwAAAAAAAPh/AAAAAAAA+H8AAAAAAAD4fwAAAAAAAPh/AAAAAAAA+H8AAAAAAAD4fwAAAAAAAPh/RItsp/FQe0AAAAAAAAD4fwAAAAAAAPh/AAAAAAAA+H8AAAAAAAD4fwAAAAAAAPh/AAAAAAAA+H8AAAAAAAD4fwAAAAAAAPh/AAAAAAAA+H8AAAAAAAD4fwAAAAAAAPh/AAAAAAAA+H8AAAAAAAD4fwAAAAAAAPh/RItsB1hZe0AAAAAAAAD4fwAAAAAAAPh/AAAAAAAA+H8AAAAAAAD4fwAAAAAAAPh/AAAAAAAA+H8AAAAAAAD4fwAAAAAAAPh/AAAAAAAA+H8AAAAAAAD4fwAAAAAAAPh/AAAAAAAA+H8AAAAAAAD4fwAAAAAAAPh/AAAAAAAA+H8AAAAAAAD4fwAAAAAAAPh/AAAAAAAA+H8AAAAAAAD4fwAAAAAAAPh/AAAAAAAA+H8AAAAAAAD4fwAAAAAAAPh/AAAAAAAA+H8AAAAAAAD4fwAAAAAAAPh/AAAAAAAA+H8AAAAAAAD4fwAAAAAAAPh/AAAAAAAA+H9Ei2xnEAp8QAAAAAAAAPh/\"},\"shape\":[150],\"dtype\":\"float64\",\"order\":\"little\"}],[\"isPivot\",{\"type\":\"ndarray\",\"array\":{\"type\":\"bytes\",\"data\":\"AAAAAAAA+H8AAAAAAAD4fwAAAAAAAPh/AAAAAAAA+H8AAAAAAAD4fwAAAAAAAPh/AAAAAAAA+H8AAAAAAAD4fwAAAAAAAPA/AAAAAAAA+H8AAAAAAAD4fwAAAAAAAABAAAAAAAAA+H8AAAAAAAD4fwAAAAAAAPh/AAAAAAAA+H8AAAAAAAD4fwAAAAAAAPh/AAAAAAAA+H8AAAAAAADwPwAAAAAAAPh/AAAAAAAA+H8AAAAAAAD4fwAAAAAAAPh/AAAAAAAA+H8AAAAAAAD4fwAAAAAAAPh/AAAAAAAA+H8AAAAAAAAAQAAAAAAAAPh/AAAAAAAA+H8AAAAAAAD4fwAAAAAAAPh/AAAAAAAA+H8AAAAAAAD4fwAAAAAAAPh/AAAAAAAA+H8AAAAAAAD4fwAAAAAAAPh/AAAAAAAA+H8AAAAAAAD4fwAAAAAAAPh/AAAAAAAA+H8AAAAAAAAAQAAAAAAAAPh/AAAAAAAA+H8AAAAAAAD4fwAAAAAAAPh/AAAAAAAA8D8AAAAAAAD4fwAAAAAAAPh/AAAAAAAA+H8AAAAAAAD4fwAAAAAAAPh/AAAAAAAA+H8AAAAAAAD4fwAAAAAAAPh/AAAAAAAA+H8AAAAAAAD4fwAAAAAAAPh/AAAAAAAA+H8AAAAAAAD4fwAAAAAAAABAAAAAAAAA+H8AAAAAAAD4fwAAAAAAAPh/AAAAAAAA+H8AAAAAAAD4fwAAAAAAAPA/AAAAAAAA+H8AAAAAAAD4fwAAAAAAAPh/AAAAAAAA+H8AAAAAAAD4fwAAAAAAAPh/AAAAAAAAAEAAAAAAAAD4fwAAAAAAAPh/AAAAAAAA+H8AAAAAAAD4fwAAAAAAAPh/AAAAAAAA+H8AAAAAAAD4fwAAAAAAAPh/AAAAAAAA+H8AAAAAAAD4fwAAAAAAAPh/AAAAAAAA+H8AAAAAAADwPwAAAAAAAPh/AAAAAAAA+H8AAAAAAAD4fwAAAAAAAPh/AAAAAAAA+H8AAAAAAAD4fwAAAAAAAPh/AAAAAAAA+H8AAAAAAAD4fwAAAAAAAPh/AAAAAAAA8D8AAAAAAAD4fwAAAAAAAPh/AAAAAAAAAEAAAAAAAAD4fwAAAAAAAPh/AAAAAAAA+H8AAAAAAAD4fwAAAAAAAPh/AAAAAAAA+H8AAAAAAAD4fwAAAAAAAPh/AAAAAAAA8D8AAAAAAAD4fwAAAAAAAPh/AAAAAAAA+H8AAAAAAAD4fwAAAAAAAPh/AAAAAAAAAEAAAAAAAAD4fwAAAAAAAPh/AAAAAAAA+H8AAAAAAAD4fwAAAAAAAPh/AAAAAAAA+H8AAAAAAAD4fwAAAAAAAPh/AAAAAAAA+H8AAAAAAAD4fwAAAAAAAPh/AAAAAAAA8D8AAAAAAAD4fwAAAAAAAPh/AAAAAAAA+H8AAAAAAAD4fwAAAAAAAPh/AAAAAAAA+H8AAAAAAAD4fwAAAAAAAPh/AAAAAAAA+H8AAAAAAAD4fwAAAAAAAPh/AAAAAAAA+H8AAAAAAAD4fwAAAAAAAPA/AAAAAAAA+H8AAAAAAAD4fwAAAAAAAPh/AAAAAAAA+H8AAAAAAAAAQAAAAAAAAPh/\"},\"shape\":[150],\"dtype\":\"float64\",\"order\":\"little\"}]]}}},\"view\":{\"type\":\"object\",\"name\":\"CDSView\",\"id\":\"p1218\",\"attributes\":{\"filter\":{\"type\":\"object\",\"name\":\"AllIndices\",\"id\":\"p1219\"}}},\"glyph\":{\"type\":\"object\",\"name\":\"Segment\",\"id\":\"p1214\",\"attributes\":{\"x0\":{\"type\":\"field\",\"field\":\"index\"},\"y0\":{\"type\":\"field\",\"field\":\"High\"},\"x1\":{\"type\":\"field\",\"field\":\"index\"},\"y1\":{\"type\":\"field\",\"field\":\"Low\"}}},\"nonselection_glyph\":{\"type\":\"object\",\"name\":\"Segment\",\"id\":\"p1215\",\"attributes\":{\"x0\":{\"type\":\"field\",\"field\":\"index\"},\"y0\":{\"type\":\"field\",\"field\":\"High\"},\"x1\":{\"type\":\"field\",\"field\":\"index\"},\"y1\":{\"type\":\"field\",\"field\":\"Low\"},\"line_alpha\":{\"type\":\"value\",\"value\":0.1}}},\"muted_glyph\":{\"type\":\"object\",\"name\":\"Segment\",\"id\":\"p1216\",\"attributes\":{\"x0\":{\"type\":\"field\",\"field\":\"index\"},\"y0\":{\"type\":\"field\",\"field\":\"High\"},\"x1\":{\"type\":\"field\",\"field\":\"index\"},\"y1\":{\"type\":\"field\",\"field\":\"Low\"},\"line_alpha\":{\"type\":\"value\",\"value\":0.2}}}}},{\"type\":\"object\",\"name\":\"GlyphRenderer\",\"id\":\"p1229\",\"attributes\":{\"data_source\":{\"type\":\"object\",\"name\":\"ColumnDataSource\",\"id\":\"p1220\",\"attributes\":{\"selected\":{\"type\":\"object\",\"name\":\"Selection\",\"id\":\"p1221\",\"attributes\":{\"indices\":[],\"line_indices\":[]}},\"selection_policy\":{\"type\":\"object\",\"name\":\"UnionRenderers\",\"id\":\"p1222\"},\"data\":{\"type\":\"map\",\"entries\":[[\"index\",{\"type\":\"ndarray\",\"array\":{\"type\":\"bytes\",\"data\":\"AgAAAAQAAAAJAAAACgAAAAsAAAARAAAAFAAAABUAAAAWAAAAGAAAABkAAAAaAAAAGwAAABwAAAAgAAAAIQAAACIAAAAjAAAAJAAAACYAAAAoAAAAKQAAACsAAAAtAAAALwAAADIAAAA1AAAANgAAADkAAAA6AAAAPAAAAD4AAABFAAAASQAAAEsAAABQAAAAUQAAAFUAAABZAAAAWgAAAGAAAABhAAAAYgAAAGQAAABlAAAAZgAAAGsAAABwAAAAcQAAAHIAAAB0AAAAdQAAAHgAAAB6AAAAfgAAAIIAAACDAAAAhgAAAIgAAACOAAAAkAAAAJEAAACSAAAAkwAAAJQAAAA=\"},\"shape\":[65],\"dtype\":\"int32\",\"order\":\"little\"}],[\"Close\",{\"type\":\"ndarray\",\"array\":{\"type\":\"bytes\",\"data\":\"AAAAANdJe0AAAACAwj17QAAAAMCPYntAAAAA4HxUe0AAAAAA1yd7QAAAAIAUjntAAAAAoJmpe0AAAABgZqZ7QAAAAGCPjHtAAQAAQDOXe0AAAADgepB7QAEAAMAeeXtAAQAAQAp3e0AAAADgejR7QAAAAIDCX3tAAQAAQDNXe0AAAAAA11N7QAAAAABxNXtAAQAAwB41e0AAAACAwjF7QAAAACCFO3tAAAAAYLgue0AAAACAwi17QAAAAAApMHtAAAAAYEI5e0AAAABguBJ7QAAAAIDrH3tAAAAAAAASe0AAAACA1wd7QAAAAKCZBXtAAAAAANcBe0ABAABA4fZ6QAAAAGBmQntAAAAA4Ho8e0AAAACgcDV7QAAAACCFW3tAAAAAIIVTe0ABAABACqt7QAAAAOBRwHtAAAAAANeze0AAAAAA17N7QAAAAOC3sntAAAAAIIWre0AAAACAFLJ7QAAAACCFW3tAAAAAoJlVe0AAAABguHp7QAAAAOB6nHtAAAAAYI+Ee0ABAADAzGh7QAAAACCFa3tAAAAAgD1me0AAAADgUXB7QAAAAOBRhHtAAAAAAF+Le0AAAACA6+l7QAAAAKCZ1XtAAAAAgD3ae0AAAACAFP57QAAAAOCjGHxAAAAAIFwmfEAAAACAFBx8QAAAAAAAHHxAAAAAoHAZfEAAAACA6xF8QA==\"},\"shape\":[65],\"dtype\":\"float64\",\"order\":\"little\"}],[\"High\",{\"type\":\"ndarray\",\"array\":{\"type\":\"bytes\",\"data\":\"AAAAoHBNe0AAAACgR1N7QAAAAIDCa3tAAAAA4Alje0AAAAAAKVh7QAEAAEDhkntAAAAAIFy3e0ABAABA4bJ7QAAAAGBmpntAAAAAgBSme0AAAADgeph7QAAAAOCjkHtAAAAAoJmFe0AAAABguGJ7QAAAAIDCY3tAAAAAYGZge0AAAAAAAGB7QAAAAOB6RHtAAAAAQNg6e0AAAABguEJ7QAAAAADXT3tAAAAAoBo9e0AAAACgmT17QAAAAGC4OntAAAAAoEdHe0AAAAAA1yN7QAAAAMD1MHtAAAAAYI8ge0AAAACAFCB7QAEAAEB5FHtAAAAAoHALe0AAAACgmQ17QAAAAMD1THtAAQAAwMxIe0AAAAAgXD97QAAAAOB6ZHtAAAAAgFFce0AAAACAwrV7QAAAAIA9wntAAQAAwMzEe0AAAADA9bx7QAAAAIA9tntAAAAAIK65e0AAAACAKLx7QAAAAIDreXtAAAAAoJlde0AAAAAA1397QAAAAIA9qntAAAAAIK6de0AAAABgj4h7QAAAAIA9dntAAAAAoEdxe0AAAADA9XZ7QAAAAODAkHtAAQAAwECSe0AAAACgrfd7QAEAAEAK63tAAAAAAADse0AAAAAAKQh8QAAAAIAUJnxAAAAAoJkrfEABAABACi18QAAAAIDgIXxAAAAAACkkfEAAAADA9Rx8QA==\"},\"shape\":[65],\"dtype\":\"float64\",\"order\":\"little\"}],[\"Low\",{\"type\":\"ndarray\",\"array\":{\"type\":\"bytes\",\"data\":\"AAAAIIU7e0AAAADg6zl7QAEAAMAeWXtAAQAAwMxQe0AAAACgcBl7QAAAAIDCgXtAAAAAwPWge0AAAADgUYx7QAAAACBchXtAAAAAoJmVe0AAAADgeox7QAAAAKCZdXtAAAAAIIVve0AAAACAAjF7QAEAAMDMVHtAAAAAYLhSe0AAAACgmVF7QAAAAIAUJntAAAAAoEcle0AAAACA6y17QAAAACBcO3tAAAAAAAAqe0AAAADgeiB7QAAAAOCjJntAAAAA4KM4e0AAAACgcA17QAAAAAA9HntAAAAAIIUHe0AAAABgZgR7QAAAAKBw/XpAAAAAAAD8ekABAABACvN6QAAAAKBHQXtAAAAAwPUoe0AAAACgcCl7QAEAAEDhTntAAAAAgD1Ge0AAAADgo6B7QAAAAKBwuXtAAQAAQOGye0AAAADgUbB7QAAAACCuq3tAAAAAwPWke0AAAACAFLJ7QAEAAEAzV3tAAAAAwPVQe0AAAAAghXd7QAAAAAAAmHtAAAAAIFyDe0ABAADAzGR7QAAAAAApYHtAAAAAIFxZe0AAAACAFGx7QAEAAEAKd3tAAAAA4FGEe0ABAADAzOh7QAAAAGCPzntAAAAAYGbSe0ABAABAM/d7QAAAAOB6GHxAAAAA4FEYfEAAAACgcBt8QAEAAEAKE3xAAAAA4KMYfEAAAACAFAp8QA==\"},\"shape\":[65],\"dtype\":\"float64\",\"order\":\"little\"}],[\"Open\",{\"type\":\"ndarray\",\"array\":{\"type\":\"bytes\",\"data\":\"AAAAgHxLe0AAAADgo1B7QAAAAABmantAAAAAYI9ie0AAAADgo1R7QAEAAMDMjntAAAAAgD2ye0AAAADgUbB7QAAAAGBmpntAAAAAAACce0ABAABAM5d7QAAAAOB6kHtAAQAAwB55e0AAAADgo1R7QAAAAGDlYHtAAAAAgOtfe0AAAAAgXFd7QAAAAGCPQntAAAAAgBQ4e0AAAACAPT57QAAAAGC4SntAAAAAIIU7e0AAAACgcDl7QAAAAAApNHtAAQAAQDM/e0ABAADAzBp7QAEAAMAeLXtAAAAAANcfe0AAAAAA1x97QAAAACCuB3tAAAAAoJkJe0AAAACAPQp7QAAAAADXS3tAAAAA4HpIe0AAAACgcD17QAAAAIBRYXtAAAAAIIVbe0AAAAAAALB7QAAAAMD1wHtAAAAA4FHAe0ABAADAHrl7QAAAAMAFtHtAAAAAYLiye0AAAAAgXLt7QAAAAGC4dntAAAAAIK5be0AAAAAAAHx7QAAAAIDCqXtAAAAA4Hqce0AAAADgeoR7QAAAAIBRdHtAAAAAwFtre0AAAACAPXZ7QAEAAEAzh3tAAAAAgD2Oe0AAAAAghfN7QAAAAIDr6XtAAQAAQOHqe0AAAABgZv57QAAAAOCjHHxAAQAAQOEmfEAAAAAgXCZ8QAAAAAApHHxAAAAAAAAcfEAAAACgcBl8QA==\"},\"shape\":[65],\"dtype\":\"float64\",\"order\":\"little\"}],[\"Volume\",{\"type\":\"ndarray\",\"array\":{\"type\":\"bytes\",\"data\":\"3ZuIAJtDwwC1GngAlWtKAPiaHwGM12EAQMU7AVibVwHLUFkB6yJ3AGjCZgALzb0AHKPdAGbm8gD3AE8Axc9bAKn4wABTTsAAxHKdAGVAbQCP/JsAI7LqANwUiQB+WWEAfzJ4ABFcggA03GgAp3XEAHKUlgDGfm0AABtPALTMAQHOdLUA1oaUACfwcQCp8V4AueR3AFPaswD0wI0A2/MjATLDawALsXUAvnZXAAltZwCFcEYBlQiUAOk6mwAng2AAmb16ALpdPgFT35EAVn5iAP2+PQCEE6IAzO89ADZEeAAAAAAAnnZyAMDOwQBfCNEAna2nAHstdQCd9F0AV4hMAJbHeAA=\"},\"shape\":[65],\"dtype\":\"int32\",\"order\":\"little\"}],[\"datetime\",{\"type\":\"ndarray\",\"array\":{\"type\":\"bytes\",\"data\":\"AADMDFaLeEIAAJzqXIt4QgAAjHKoi3hCAAB04auLeEIAAFxQr4t4QgAANEf+i3hCAADskwiMeEIAADxgRox4QgAAJM9JjHhCAAD0rFCMeEIAANwbVIx4QgAAxIpXjHhCAACs+VqMeEIAADz3j414QgAA3LKdjXhCAADEIaGNeEIAAKyQpI14QgAA/FzijXhCAADky+WNeEIAALSp7I14QgAAhIfzjXhCAABs9vaNeEIAAKQxOI54QgAAdA8/jnhCAABE7UWOeEIAAGSXio54QgAAHOSUjnhCAAAEU5iOeEIAAKTIgY94QgAAjDeFj3hCAABcFYyPeEIAACzzko94QgAA7Fjlj3hCAAD0cS2QeEIAAMRPNJB4QgAAtNd/kHhCAACcRoOQeEIAAKRfy5B4QgAARBvZkHhCAAAsityQeEIAAEzLapJ4QgAANDpuknhCAAAcqXGSeEIAAOyGeJJ4QgAAPFO2knhCAAAkwrmSeEIAAKzsypJ4QgAAnHQWk3hCAACE4xmTeEIAAGxSHZN4QgAAJFkDlHhCAAAMyAaUeEIAAMQUEZR4QgAA/E9SlHhCAACcC2CUeEIAAKQkqJR4QgAAjJOrlHhCAABE4LWUeEIAAHwb95R4QgAA7LQLlXhCAAAk8EyVeEIAAAxfUJV4QgAA9M1TlXhCAADcPFeVeEIAAMSrWpV4Qg==\"},\"shape\":[65],\"dtype\":\"float64\",\"order\":\"little\"}],[\"companyName\",{\"type\":\"ndarray\",\"array\":[\"SPY\",\"SPY\",\"SPY\",\"SPY\",\"SPY\",\"SPY\",\"SPY\",\"SPY\",\"SPY\",\"SPY\",\"SPY\",\"SPY\",\"SPY\",\"SPY\",\"SPY\",\"SPY\",\"SPY\",\"SPY\",\"SPY\",\"SPY\",\"SPY\",\"SPY\",\"SPY\",\"SPY\",\"SPY\",\"SPY\",\"SPY\",\"SPY\",\"SPY\",\"SPY\",\"SPY\",\"SPY\",\"SPY\",\"SPY\",\"SPY\",\"SPY\",\"SPY\",\"SPY\",\"SPY\",\"SPY\",\"SPY\",\"SPY\",\"SPY\",\"SPY\",\"SPY\",\"SPY\",\"SPY\",\"SPY\",\"SPY\",\"SPY\",\"SPY\",\"SPY\",\"SPY\",\"SPY\",\"SPY\",\"SPY\",\"SPY\",\"SPY\",\"SPY\",\"SPY\",\"SPY\",\"SPY\",\"SPY\",\"SPY\",\"SPY\"],\"shape\":[65],\"dtype\":\"object\",\"order\":\"little\"}],[\"fecha\",{\"type\":\"ndarray\",\"array\":{\"type\":\"bytes\",\"data\":\"AADA1SCLeEIAAMDVIIt4QgAAgDtzi3hCAACAO3OLeEIAAIA7c4t4QgAAQKHFi3hCAABAocWLeEIAAAAHGIx4QgAAAAcYjHhCAAAABxiMeEIAAAAHGIx4QgAAAAcYjHhCAAAABxiMeEIAAACeYY14QgAAAJ5hjXhCAAAAnmGNeEIAAACeYY14QgAAwAO0jXhCAADAA7SNeEIAAMADtI14QgAAwAO0jXhCAADAA7SNeEIAAIBpBo54QgAAgGkGjnhCAACAaQaOeEIAAEDPWI54QgAAQM9YjnhCAABAz1iOeEIAAIAAUI94QgAAgABQj3hCAACAAFCPeEIAAIAAUI94QgAAQGaij3hCAAAAzPSPeEIAAADM9I94QgAAwDFHkHhCAADAMUeQeEIAAICXmZB4QgAAgJeZkHhCAACAl5mQeEIAAECUNZJ4QgAAQJQ1knhCAABAlDWSeEIAAECUNZJ4QgAAAPqHknhCAAAA+oeSeEIAAAD6h5J4QgAAwF/aknhCAADAX9qSeEIAAMBf2pJ4QgAAAJHRk3hCAAAAkdGTeEIAAACR0ZN4QgAAwPYjlHhCAADA9iOUeEIAAIBcdpR4QgAAgFx2lHhCAACAXHaUeEIAAEDCyJR4QgAAQMLIlHhCAAAAKBuVeEIAAAAoG5V4QgAAACgblXhCAAAAKBuVeEIAAAAoG5V4Qg==\"},\"shape\":[65],\"dtype\":\"float64\",\"order\":\"little\"}],[\"SMA20\",{\"type\":\"ndarray\",\"array\":{\"type\":\"bytes\",\"data\":\"AAAAAAAA+H8AAAAAAAD4fwAAAAAAAPh/AAAAAAAA+H8AAAAAAAD4fwAAAAAAAPh/ZmZm9iNne0CamZk5r2t7QGZmZj4Fb3tAzczMvER3e0AAAABABXt7QAAAADhZfXtAZmZmhrt+e0CamZlZCXx7QAAAABAYfntAAAAAUE1+e0BmZmaOgnx7QDMzM7MyeHtAmpmZ0bdze0BmZmZ2U2p7QAAAAGinX3tAmpmZgatZe0CamZlx/k97QAAAAFA2RntAZmZmHjlAe0BmZmb+Pjx7QDMzMwsfNHtAMzMzS9Qwe0BmZmZGUyt7QAAAAAgeKXtAmpmZ+fcie0AAAADo0h17QGZmZk5HHXtAAgAAwC8je0DOzMwMEid7QGhmZn5zOXtAaGZmrh09e0DNzMyEJ1R7QJqZmVHza3tAAAAAYCBye0DNzMysVpZ7QGZmZs6Hm3tAzczMPJqfe0AzMzM7b6h7QJqZmaHVqHtAmpmZgZSoe0AzMzM7tZ17QM3MzPTnkntAZmZmpgWQe0AAAAAIFox7QM3MzKwHhXtAmpmZwTSBe0DNzMz8lHd7QAAAAFB4e3tAAAAAqCqAe0DNzMw8W457QM3MzGSMkHtAMzMzE9Oee0AzMzNri6t7QJqZmWGz2XtAMzMzizrpe0DNzMwkVPB7QM3MzGSP93tAMzMzAwD+e0CamZnhTwN8QA==\"},\"shape\":[65],\"dtype\":\"float64\",\"order\":\"little\"}],[\"SMA40\",{\"type\":\"ndarray\",\"array\":{\"type\":\"bytes\",\"data\":\"AAAAAAAA+H8AAAAAAAD4fwAAAAAAAPh/AAAAAAAA+H8AAAAAAAD4fwAAAAAAAPh/AAAAAAAA+H8AAAAAAAD4fwAAAAAAAPh/AAAAAAAA+H8AAAAAAAD4fwAAAAAAAPh/AAAAAAAA+H8AAAAAAAD4fwAAAAAAAPh/AAAAAAAA+H8AAAAAAAD4fwAAAAAAAPh/AAAAAAAA+H8AAAAAAAD4fzMzM69lY3tAmpmZXa1ie0AAAAAsZWF7QAAAAMidYHtAZmZmUnpfe0AAAACYMlt7QJqZmS02WXtAzczMbKtWe0AAAACMhU17QDMzM7+4SXtAzczMsE9Be0BmZmY2qjl7QGZmZtJfLntAmpmZZacre0DNzMwAFyt7QAAAALw1LntAzczMQCEve0CamZm1czd7QAAAAFCdRHtAZmZmeqRIe0CamZklq197QJqZmcHwY3tAzczMpBZoe0DNzMxc8XB7QAAAAKj5cntAmpmZ3Vd1e0CamZnRwH57QGZmZlJKiHtAZmZmoheKe0CamZkpLot7QM3MzCyvjXtAAAAASF6Oe0AAAAAcApB7QM3MzGgGkntAmpmZMXqQe0AzMzNvr5F7QJqZmelukntAmpmZjXSVe0AAAACMSZh7QM3MzNiVqntAZmZmbq6ze0BmZmYG3bd7QGZmZgbdu3tAzczM1NS/e0AAAADMsMN7QA==\"},\"shape\":[65],\"dtype\":\"float64\",\"order\":\"little\"}],[\"SMA100\",{\"type\":\"ndarray\",\"array\":{\"type\":\"bytes\",\"data\":\"AAAAAAAA+H8AAAAAAAD4fwAAAAAAAPh/AAAAAAAA+H8AAAAAAAD4fwAAAAAAAPh/AAAAAAAA+H8AAAAAAAD4fwAAAAAAAPh/AAAAAAAA+H8AAAAAAAD4fwAAAAAAAPh/AAAAAAAA+H8AAAAAAAD4fwAAAAAAAPh/AAAAAAAA+H8AAAAAAAD4fwAAAAAAAPh/AAAAAAAA+H8AAAAAAAD4fwAAAAAAAPh/AAAAAAAA+H8AAAAAAAD4fwAAAAAAAPh/AAAAAAAA+H8AAAAAAAD4fwAAAAAAAPh/AAAAAAAA+H8AAAAAAAD4fwAAAAAAAPh/AAAAAAAA+H8AAAAAAAD4fwAAAAAAAPh/AAAAAAAA+H8AAAAAAAD4fwAAAAAAAPh/AAAAAAAA+H8AAAAAAAD4fwAAAAAAAPh/AAAAAAAA+H8AAAAAAAD4fwAAAAAAAPh/AAAAAAAA+H+4HoUD7lt7QBSuR/kWXHtASOF6FDVce0AK16MoUl57QMP1KLR2YXtAmpmZefVhe0CamZlhz2F7QGZmZnY5YXtAj8L1eNNge0CamZnRN197QGZmZn6yXntAH4XrKZJee0BSuB5dYWN7QIXrUSCMZHtAj8L1SKxoe0CF61HIY2x7QFyPwt0ieXtAPQrXcw1+e0CF61FoaYB7QMP1KNyegntAMzMzw9yEe0AUrkeh34Z7QA==\"},\"shape\":[65],\"dtype\":\"float64\",\"order\":\"little\"}],[\"SMA200\",{\"type\":\"ndarray\",\"array\":{\"type\":\"bytes\",\"data\":\"AAAAAAAA+H8AAAAAAAD4fwAAAAAAAPh/AAAAAAAA+H8AAAAAAAD4fwAAAAAAAPh/AAAAAAAA+H8AAAAAAAD4fwAAAAAAAPh/AAAAAAAA+H8AAAAAAAD4fwAAAAAAAPh/AAAAAAAA+H8AAAAAAAD4fwAAAAAAAPh/AAAAAAAA+H8AAAAAAAD4fwAAAAAAAPh/AAAAAAAA+H8AAAAAAAD4fwAAAAAAAPh/AAAAAAAA+H8AAAAAAAD4fwAAAAAAAPh/AAAAAAAA+H8AAAAAAAD4fwAAAAAAAPh/AAAAAAAA+H8AAAAAAAD4fwAAAAAAAPh/AAAAAAAA+H8AAAAAAAD4fwAAAAAAAPh/AAAAAAAA+H8AAAAAAAD4fwAAAAAAAPh/AAAAAAAA+H8AAAAAAAD4fwAAAAAAAPh/AAAAAAAA+H8AAAAAAAD4fwAAAAAAAPh/AAAAAAAA+H8AAAAAAAD4fwAAAAAAAPh/AAAAAAAA+H8AAAAAAAD4fwAAAAAAAPh/AAAAAAAA+H8AAAAAAAD4fwAAAAAAAPh/AAAAAAAA+H8AAAAAAAD4fwAAAAAAAPh/AAAAAAAA+H8AAAAAAAD4fwAAAAAAAPh/AAAAAAAA+H8AAAAAAAD4fwAAAAAAAPh/AAAAAAAA+H8AAAAAAAD4fwAAAAAAAPh/AAAAAAAA+H8AAAAAAAD4fw==\"},\"shape\":[65],\"dtype\":\"float64\",\"order\":\"little\"}],[\"pivotHigh\",{\"type\":\"ndarray\",\"array\":{\"type\":\"bytes\",\"data\":\"AAAAAAAA+H8AAAAAAAD4fwAAAAAAAPh/AAAAAAAA+H8AAAAAAAD4fwAAAAAAAPh/AAAAAAAA+H8AAAAAAAD4fwAAAAAAAPh/AAAAAAAA+H8AAAAAAAD4fwAAAAAAAPh/AAAAAAAA+H8AAAAAAAD4fwAAAAAAAPh/AAAAAAAA+H8AAAAAAAD4fwAAAAAAAPh/AAAAAAAA+H8AAAAAAAD4fwAAAAAAAPh/AAAAAAAA+H8AAAAAAAD4fwAAAAAAAPh/AAAAAAAA+H8AAAAAAAD4fwAAAAAAAPh/AAAAAAAA+H8AAAAAAAD4fwAAAAAAAPh/AAAAAAAA+H8AAAAAAAD4fwAAAAAAAPh/AAAAAAAA+H8AAAAAAAD4fwAAAAAAAPh/AAAAAAAA+H8AAAAAAAD4fwAAAAAAAPh/AAAAAAAA+H8AAAAAAAD4fwAAAAAAAPh/AAAAAAAA+H8AAAAAAAD4fwAAAAAAAPh/AAAAAAAA+H8AAAAAAAD4fwAAAAAAAPh/AAAAAAAA+H8AAAAAAAD4fwAAAAAAAPh/AAAAAAAA+H8AAAAAAAD4fwAAAAAAAPh/AAAAAAAA+H8AAAAAAAD4fwAAAAAAAPh/AAAAAAAA+H8AAAAAAAD4fwAAAAAAAPh/AAAAAAAA+H8AAAAAAAD4fwAAAAAAAPh/AAAAAAAA+H8AAAAAAAD4fw==\"},\"shape\":[65],\"dtype\":\"float64\",\"order\":\"little\"}],[\"pivotLow\",{\"type\":\"ndarray\",\"array\":{\"type\":\"bytes\",\"data\":\"AAAAAAAA+H8AAAAAAAD4fwAAAAAAAPh/AAAAAAAA+H9Ei2yHbBl7QAAAAAAAAPh/AAAAAAAA+H8AAAAAAAD4fwAAAAAAAPh/AAAAAAAA+H8AAAAAAAD4fwAAAAAAAPh/AAAAAAAA+H9Ei2xn/jB7QAAAAAAAAPh/AAAAAAAA+H8AAAAAAAD4fwAAAAAAAPh/AAAAAAAA+H8AAAAAAAD4fwAAAAAAAPh/AAAAAAAA+H9Ei2zHdiB7QAAAAAAAAPh/AAAAAAAA+H8AAAAAAAD4fwAAAAAAAPh/AAAAAAAA+H8AAAAAAAD4fwAAAAAAAPh/AAAAAAAA+H9Fi2wnBvN6QAAAAAAAAPh/AAAAAAAA+H9Ei2yHbCl7QAAAAAAAAPh/AAAAAAAA+H8AAAAAAAD4fwAAAAAAAPh/AAAAAAAA+H8AAAAAAAD4fwAAAAAAAPh/AAAAAAAA+H8AAAAAAAD4fwAAAAAAAPh/RItsp/FQe0AAAAAAAAD4fwAAAAAAAPh/AAAAAAAA+H8AAAAAAAD4fwAAAAAAAPh/RItsB1hZe0AAAAAAAAD4fwAAAAAAAPh/AAAAAAAA+H8AAAAAAAD4fwAAAAAAAPh/AAAAAAAA+H8AAAAAAAD4fwAAAAAAAPh/AAAAAAAA+H8AAAAAAAD4fwAAAAAAAPh/AAAAAAAA+H9Ei2xnEAp8QA==\"},\"shape\":[65],\"dtype\":\"float64\",\"order\":\"little\"}],[\"isPivot\",{\"type\":\"ndarray\",\"array\":{\"type\":\"bytes\",\"data\":\"AAAAAAAA+H8AAAAAAAD4fwAAAAAAAPh/AAAAAAAA+H8AAAAAAAAAQAAAAAAAAPh/AAAAAAAA+H8AAAAAAAD4fwAAAAAAAPh/AAAAAAAA+H8AAAAAAAD4fwAAAAAAAPh/AAAAAAAA+H8AAAAAAAAAQAAAAAAAAPh/AAAAAAAA+H8AAAAAAAD4fwAAAAAAAPh/AAAAAAAA+H8AAAAAAAD4fwAAAAAAAPh/AAAAAAAA+H8AAAAAAAAAQAAAAAAAAPh/AAAAAAAA+H8AAAAAAAD4fwAAAAAAAPh/AAAAAAAA+H8AAAAAAAD4fwAAAAAAAPh/AAAAAAAA+H8AAAAAAAAAQAAAAAAAAPh/AAAAAAAA+H8AAAAAAAAAQAAAAAAAAPh/AAAAAAAA+H8AAAAAAAD4fwAAAAAAAPh/AAAAAAAA+H8AAAAAAAD4fwAAAAAAAPh/AAAAAAAA+H8AAAAAAAD4fwAAAAAAAPh/AAAAAAAAAEAAAAAAAAD4fwAAAAAAAPh/AAAAAAAA+H8AAAAAAAD4fwAAAAAAAPh/AAAAAAAAAEAAAAAAAAD4fwAAAAAAAPh/AAAAAAAA+H8AAAAAAAD4fwAAAAAAAPh/AAAAAAAA+H8AAAAAAAD4fwAAAAAAAPh/AAAAAAAA+H8AAAAAAAD4fwAAAAAAAPh/AAAAAAAA+H8AAAAAAAAAQA==\"},\"shape\":[65],\"dtype\":\"float64\",\"order\":\"little\"}]]}}},\"view\":{\"type\":\"object\",\"name\":\"CDSView\",\"id\":\"p1230\",\"attributes\":{\"filter\":{\"type\":\"object\",\"name\":\"AllIndices\",\"id\":\"p1231\"}}},\"glyph\":{\"type\":\"object\",\"name\":\"VBar\",\"id\":\"p1226\",\"attributes\":{\"x\":{\"type\":\"field\",\"field\":\"index\"},\"width\":{\"type\":\"value\",\"value\":0.6},\"bottom\":{\"type\":\"field\",\"field\":\"Open\"},\"top\":{\"type\":\"field\",\"field\":\"Close\"},\"line_color\":{\"type\":\"value\",\"value\":\"red\"},\"fill_color\":{\"type\":\"value\",\"value\":\"red\"}}},\"nonselection_glyph\":{\"type\":\"object\",\"name\":\"VBar\",\"id\":\"p1227\",\"attributes\":{\"x\":{\"type\":\"field\",\"field\":\"index\"},\"width\":{\"type\":\"value\",\"value\":0.6},\"bottom\":{\"type\":\"field\",\"field\":\"Open\"},\"top\":{\"type\":\"field\",\"field\":\"Close\"},\"line_color\":{\"type\":\"value\",\"value\":\"red\"},\"line_alpha\":{\"type\":\"value\",\"value\":0.1},\"fill_color\":{\"type\":\"value\",\"value\":\"red\"},\"fill_alpha\":{\"type\":\"value\",\"value\":0.1},\"hatch_alpha\":{\"type\":\"value\",\"value\":0.1}}},\"muted_glyph\":{\"type\":\"object\",\"name\":\"VBar\",\"id\":\"p1228\",\"attributes\":{\"x\":{\"type\":\"field\",\"field\":\"index\"},\"width\":{\"type\":\"value\",\"value\":0.6},\"bottom\":{\"type\":\"field\",\"field\":\"Open\"},\"top\":{\"type\":\"field\",\"field\":\"Close\"},\"line_color\":{\"type\":\"value\",\"value\":\"red\"},\"line_alpha\":{\"type\":\"value\",\"value\":0.2},\"fill_color\":{\"type\":\"value\",\"value\":\"red\"},\"fill_alpha\":{\"type\":\"value\",\"value\":0.2},\"hatch_alpha\":{\"type\":\"value\",\"value\":0.2}}}}},{\"type\":\"object\",\"name\":\"GlyphRenderer\",\"id\":\"p1241\",\"attributes\":{\"data_source\":{\"type\":\"object\",\"name\":\"ColumnDataSource\",\"id\":\"p1232\",\"attributes\":{\"selected\":{\"type\":\"object\",\"name\":\"Selection\",\"id\":\"p1233\",\"attributes\":{\"indices\":[],\"line_indices\":[]}},\"selection_policy\":{\"type\":\"object\",\"name\":\"UnionRenderers\",\"id\":\"p1234\"},\"data\":{\"type\":\"map\",\"entries\":[[\"index\",{\"type\":\"ndarray\",\"array\":{\"type\":\"bytes\",\"data\":\"AAAAAAEAAAADAAAABQAAAAYAAAAHAAAACAAAAAwAAAANAAAADgAAAA8AAAAQAAAAEgAAABMAAAAXAAAAHQAAAB4AAAAfAAAAJQAAACcAAAAqAAAALAAAAC4AAAAwAAAAMQAAADMAAAA0AAAANwAAADgAAAA7AAAAPQAAAD8AAABAAAAAQQAAAEIAAABDAAAARAAAAEYAAABHAAAASAAAAEoAAABMAAAATQAAAE4AAABPAAAAUgAAAFMAAABUAAAAVgAAAFcAAABYAAAAWwAAAFwAAABdAAAAXgAAAF8AAABjAAAAZwAAAGgAAABpAAAAagAAAGwAAABtAAAAbgAAAG8AAABzAAAAdgAAAHcAAAB5AAAAewAAAHwAAAB/AAAAgAAAAIEAAACEAAAAhQAAAIcAAACJAAAAigAAAIsAAACMAAAAjQAAAI8AAACVAAAA\"},\"shape\":[84],\"dtype\":\"int32\",\"order\":\"little\"}],[\"Close\",{\"type\":\"ndarray\",\"array\":{\"type\":\"bytes\",\"data\":\"AQAAQAo7e0AAAAAghUt7QAAAAOB6UHtAAAAAoHBFe0AAAABgj0p7QAAAACBcW3tAAAAAYGZqe0AAAACA60l7QAEAAEAKU3tAAAAAIK53e0AAAAAgrot7QAAAAGC4jntAAAAAoJmde0AAAACAPbJ7QAAAAAAAnHtAAQAAQBo+e0ABAABAM1N7QAAAAGDlYHtAAAAAgBQ+e0AAAADg4Ep7QAAAAKBHOXtAAAAAgOIze0ABAADAHj97QAEAAMDMSHtAAQAAwLgae0AAAADgUSh7QAEAAMAeLXtAAQAAQAoTe0AAAAAgrh97QAAAAOCVCXtAAAAAYDkKe0ABAADAzAx7QAAAAKBHHXtAAAAAgD0qe0AAAADgejh7QAAAAIDCR3tAAAAAANdLe0AAAADgUTh7QAEAAMDMQHtAAAAA4KNIe0AAAACgRz17QAAAAIA9RntAAQAAQOFKe0AAAACAFFp7QAAAAKBwYXtAAAAAILBae0AAAACAPWJ7QAAAAAAAsHtAAQAAwMywe0AAAABgUrh7QAAAAMD1wHtAAAAAgK63e0AAAABguLh7QAAAAIA9vntAAAAAIIW3e0ABAADAHrl7QAAAACCFu3tAAAAAwPVse0AAAACAenR7QAEAAMDMdHtAAAAAAAB8e0AAAADgjHd7QAAAAADlfntAAQAAwMyQe0AAAACAwql7QAAAAIBRdHtAAAAAgBRye0AAAAAAPXZ7QAAAAGCPentAAQAAwB6Je0AAAACgmY17QAAAAECkmHtAAAAAIK6ne0ABAADAhPN7QAAAAOA94ntAAQAAQOHqe0AAAAAAKeB7QAAAAKBHAXxAAAAAoHAJfEAAAABgjwp8QAAAAIA9DnxAAAAAYLgcfEAAAACA6yZ8QAAAAOCjFHxA\"},\"shape\":[84],\"dtype\":\"float64\",\"order\":\"little\"}],[\"High\",{\"type\":\"ndarray\",\"array\":{\"type\":\"bytes\",\"data\":\"AQAAQOFSe0AAAADgUVR7QAAAAKBHVXtAAAAAgMJLe0AAAABgj0x7QAAAAAAAZHtAAAAAoPpwe0AAAABgZmJ7QAEAAEAKU3tAAAAAYI96e0AAAACA64t7QAAAAOAUkntAAAAAgD2ge0AAAABgZr57QAAAAOCjnHtAAAAAgOtFe0AAAACAwlV7QAAAAIDrZXtAAAAAIFxDe0ABAABAM0t7QAAAAOBRQHtAAAAAoEc9e0AAAABg0z97QAAAAIDrSXtAAAAAANcfe0ABAADAHil7QAAAAGBmLntAAAAAIK4fe0AAAACAwil7QAEAAEDhCntAAAAAYLgOe0ABAADAzBR7QAEAAEDhHntAAAAAIIUre0ABAABACjt7QAAAAKBwSXtAAAAA4E1Me0ABAADAzDp7QAAAACCFR3tAAQAAQApXe0AAAADgo0B7QAEAAEDhRntAAAAAgOtVe0ABAABAClt7QAEAAMAeY3tAAQAAwMxce0AAAABguGJ7QAEAAMAetXtAAAAAgPKwe0AAAACAwrl7QAAAAIAUwntAAQAAQOG6e0AAAACAwrl7QAEAAEAzv3tAAAAAAAC6e0AAAABgOb57QAAAAAApvHtAAQAAQDNte0ABAADAzHh7QAAAAAApfHtAAAAAoJmBe0AAAAAAAIR7QAAAAIA9gntAAQAAwB6Re0AAAACAPap7QAAAAKBwfXtAAAAAoBxye0AAAABguHZ7QAAAAGC4entAAAAAIIWPe0ABAABAM5t7QAAAAADXmXtAAAAAIIWve0AAAACgcPV7QAAAAADX43tAAAAAQNjre0ABAABAM+N7QAAAAAApCHxAAAAAANcLfEAAAABgjw58QAAAAOBRFHxAAAAAYGYefEAAAACAwjV8QAAAAKCZFXxA\"},\"shape\":[84],\"dtype\":\"float64\",\"order\":\"little\"}],[\"Low\",{\"type\":\"ndarray\",\"array\":{\"type\":\"bytes\",\"data\":\"AAAAgBQqe0AAAACAwjF7QAEAAEDhRntAAAAAIK41e0AAAAAAnEF7QAAAAAApSHtAAAAAYI9ae0AAAAAgXB97QAAAAIAUMntAAAAAIK5De0AAAACA62V7QAAAAMD1gHtAAAAA4FGMe0AAAACgmZ17QAAAAGC4hntAAAAA4Howe0AAAACgmT17QAAAAMD1UHtAAQAAwMwwe0AAAAAAKTB7QAAAAKCZGXtAAAAAANcre0AAAADA9Sx7QAAAACBcNXtAAAAAIGMLe0AAAACAFBB7QAEAAEAzI3tAAAAAIFwPe0AAAACgmQl7QAAAAGBm+npAAAAAQKQAe0AAAACAFP56QAAAAOCjCHtAAAAAwDcce0AAAACA6yd7QAAAAOCjOHtAAAAAoHBBe0AAAABgjyZ7QAAAAIA9NntAAAAAIK4/e0AAAADgozB7QAAAAGCPMntAAAAA4KM4e0AAAABgjz57QAAAACBcU3tAAAAAgMJNe0AAAADgUVJ7QAAAAIDCkXtAAAAAACmge0AAAAAA1697QAEAAMAet3tAAAAAgBSqe0AAAADgUbB7QAAAAOD7tntAAAAAYGaee0AAAADgPbJ7QAAAAKBwq3tAAAAAoEdVe0AAAADA9Wp7QAAAAIDrb3tAAAAAYGZ0e0AAAAAghWd7QAEAAMAebXtAAQAAwEJ+e0AAAADA9ZB7QAEAAMDMYHtAAAAA4FFke0AAAACAemh7QAAAAIDCaXtAAAAA4FGAe0AAAAAAAIZ7QAAAAIDChXtAAQAAQAqTe0AAAAAAT917QAAAAAAA1HtAAAAAAADge0ABAADAHtl7QAAAAADX/XtAAAAAIB3+e0AAAABgjwJ8QAAAAIDrCXxAAAAAAAAMfEABAABA4SJ8QAAAAADXB3xA\"},\"shape\":[84],\"dtype\":\"float64\",\"order\":\"little\"}],[\"Open\",{\"type\":\"ndarray\",\"array\":{\"type\":\"bytes\",\"data\":\"AQAAwB41e0ABAABAMzt7QAAAAIA9SntAAAAAgMI9e0AAAAAgXEV7QAAAAAApUHtAAAAAoHBbe0AAAACA6yd7QAAAAGCPSntAAAAAoEdFe0AAAAAgrnd7QAAAACCFi3tAAAAAgD2Oe0AAAACgvZ17QAAAAOBRjHtAAQAAwMw0e0AAAABgZj57QAEAAEAzU3tAAAAAoEc1e0AAAAAgrjF7QAEAAEAzH3tAAAAAoHAte0AAAADgUTB7QAAAAKBHOXtAAQAAQOEOe0AAAABguBJ7QAAAAOB6KHtAAAAAgBQSe0AAAACA6wl7QAAAAKCZBXtAAAAAgMIBe0AAAACA6wl7QAAAAMD1DHtAAAAAgOsde0AAAACAPSp7QAAAAOCjOHtAAAAAANdHe0ABAADAzDB7QAAAAOB6OHtAAQAAwMxAe0AAAADgejx7QAAAAKBHNXtAAAAAIFw/e0ABAABACkt7QAAAAOAtWntAAAAAIK5Te0AAAABgj1p7QAEAAEAKl3tAAQAAwB6re0ABAABAzbB7QAAAAOB6uHtAAAAAYLiue0AAAAAA17d7QAEAAMDMuHtAAAAAYI+ee0AAAAAgrrd7QAAAACCFq3tAAAAAoEdVe0AAAADA9Wx7QAAAAOBRdHtAAAAA4KN0e0AAAACAFGp7QAAAAKCZd3tAAAAAIFx/e0AAAADA9ZB7QAEAAEDhYntAAAAAgD1me0AAAAAAPXJ7QAAAAAApcHtAAAAAACmEe0ABAADAHol7QAAAACCFi3tAAAAAQKSYe0AAAACAPeZ7QAAAAKCZ1XtAAAAAYI/ie0AAAABgZtp7QAAAAIAU/ntAAAAAoHABfEAAAACgRwl8QAAAAGC4CnxAAAAAgD0OfEAAAADgUSZ8QAAAAIAUEnxA\"},\"shape\":[84],\"dtype\":\"float64\",\"order\":\"little\"}],[\"Volume\",{\"type\":\"ndarray\",\"array\":{\"type\":\"bytes\",\"data\":\"5gMjAQsWsACJSZ0ACoysAOSapwA0nakAeaKLAONxXAHurc0A42U4AWdqrwD8BZ8AN7iBAP7YFAEYa4sADGyaACfoYABdibAAAIduANGfZQDMOd8AI8lTAM6jVgCXzasA/8vuANQChgCWjWAA4pcCAfSsoQBm4lEA1xdeAPkuswBqX4UA/npdAF/nYwBWPXMAJknAAFZnvgB4/pIAZyVlAJi4UABz4MoAx7HHAGU2hgCCamgA5QBOAKLPsQD7MS4BrWN6AI50gAAPynUAe7+jAHAhaABtQ2MAk7iYABi5egBjkFcAws6MAARYgwC6VFsAV79bAB/7qQDvN1IAXc9lAAzjoACVrakAsAxMAJU/TgAlvbcAAPhkAAlscwCTOWsAGejmAIiVNgHXotkCWBZTAOwAEwGDzowAhpZnACXhYgDgGFQAjO93ADto0QDWyZ4A\"},\"shape\":[84],\"dtype\":\"int32\",\"order\":\"little\"}],[\"datetime\",{\"type\":\"ndarray\",\"array\":{\"type\":\"bytes\",\"data\":\"AAD8Lk+LeEIAAOSdUot4QgAAtHtZi3hCAACEWWCLeEIAAGzIY4t4QgAAvJShi3hCAACkA6WLeEIAAES/sot4QgAALC62i3hCAAB8+vOLeEIAAGRp94t4QgAATNj6i3hCAAActgGMeEIAAAQlBYx4QgAADD5NjHhCAAAkZpONeEIAAAzVlo14QgAA9EOajXhCAADMOumNeEIAAJwY8I14QgAAvMI0jnhCAACMoDuOeEIAAFx+Qo54QgAALFxJjnhCAAB8KIeOeEIAAEwGjo54QgAANHWRjnhCAADswZuOeEIAALxZfo94QgAAdKaIj3hCAABEhI+PeEIAAHy/0I94QgAAZC7Uj3hCAABMndePeEIAADQM2494QgAAHHvej3hCAAAE6uGPeEIAADwlI5B4QgAAJJQmkHhCAAAMAyqQeEIAANzgMJB4QgAArL43kHhCAAD8inWQeEIAAOT5eJB4QgAAzGh8kHhCAACEtYaQeEIAAGwkipB4QgAAvPDHkHhCAACMzs6QeEIAAHQ90pB4QgAAXKzVkHhCAAD8Ib+ReEIAAOSQwpF4QgAAzP/FkXhCAAB87WOSeEIAAGRcZ5J4QgAABBh1knhCAAAMMb2SeEIAAPSfwJJ4QgAA3A7EknhCAADEfceSeEIAAPy4CJN4QgAA5CcMk3hCAADMlg+TeEIAALQFE5N4QgAAPOr/k3hCAAD0NgqUeEIAANylDZR4QgAArIMUlHhCAADkvlWUeEIAAMwtWZR4QgAAhHpjlHhCAABs6WaUeEIAALy1pJR4QgAAdAKvlHhCAABccbKUeEIAACxPuZR4QgAAZIr6lHhCAABM+f2UeEIAADRoAZV4QgAAHNcElXhCAAAERgiVeEIAADyBSZV4QgAArBpelXhC\"},\"shape\":[84],\"dtype\":\"float64\",\"order\":\"little\"}],[\"companyName\",{\"type\":\"ndarray\",\"array\":[\"SPY\",\"SPY\",\"SPY\",\"SPY\",\"SPY\",\"SPY\",\"SPY\",\"SPY\",\"SPY\",\"SPY\",\"SPY\",\"SPY\",\"SPY\",\"SPY\",\"SPY\",\"SPY\",\"SPY\",\"SPY\",\"SPY\",\"SPY\",\"SPY\",\"SPY\",\"SPY\",\"SPY\",\"SPY\",\"SPY\",\"SPY\",\"SPY\",\"SPY\",\"SPY\",\"SPY\",\"SPY\",\"SPY\",\"SPY\",\"SPY\",\"SPY\",\"SPY\",\"SPY\",\"SPY\",\"SPY\",\"SPY\",\"SPY\",\"SPY\",\"SPY\",\"SPY\",\"SPY\",\"SPY\",\"SPY\",\"SPY\",\"SPY\",\"SPY\",\"SPY\",\"SPY\",\"SPY\",\"SPY\",\"SPY\",\"SPY\",\"SPY\",\"SPY\",\"SPY\",\"SPY\",\"SPY\",\"SPY\",\"SPY\",\"SPY\",\"SPY\",\"SPY\",\"SPY\",\"SPY\",\"SPY\",\"SPY\",\"SPY\",\"SPY\",\"SPY\",\"SPY\",\"SPY\",\"SPY\",\"SPY\",\"SPY\",\"SPY\",\"SPY\",\"SPY\",\"SPY\",\"SPY\"],\"shape\":[84],\"dtype\":\"object\",\"order\":\"little\"}],[\"fecha\",{\"type\":\"ndarray\",\"array\":{\"type\":\"bytes\",\"data\":\"AADA1SCLeEIAAMDVIIt4QgAAwNUgi3hCAADA1SCLeEIAAMDVIIt4QgAAgDtzi3hCAACAO3OLeEIAAIA7c4t4QgAAgDtzi3hCAABAocWLeEIAAEChxYt4QgAAQKHFi3hCAABAocWLeEIAAEChxYt4QgAAAAcYjHhCAAAAnmGNeEIAAACeYY14QgAAAJ5hjXhCAADAA7SNeEIAAMADtI14QgAAgGkGjnhCAACAaQaOeEIAAIBpBo54QgAAgGkGjnhCAABAz1iOeEIAAEDPWI54QgAAQM9YjnhCAABAz1iOeEIAAIAAUI94QgAAgABQj3hCAACAAFCPeEIAAEBmoo94QgAAQGaij3hCAABAZqKPeEIAAEBmoo94QgAAQGaij3hCAABAZqKPeEIAAADM9I94QgAAAMz0j3hCAAAAzPSPeEIAAADM9I94QgAAAMz0j3hCAADAMUeQeEIAAMAxR5B4QgAAwDFHkHhCAADAMUeQeEIAAMAxR5B4QgAAgJeZkHhCAACAl5mQeEIAAICXmZB4QgAAgJeZkHhCAADAyJCReEIAAMDIkJF4QgAAwMiQkXhCAABAlDWSeEIAAECUNZJ4QgAAQJQ1knhCAAAA+oeSeEIAAAD6h5J4QgAAAPqHknhCAAAA+oeSeEIAAMBf2pJ4QgAAwF/aknhCAADAX9qSeEIAAMBf2pJ4QgAAAJHRk3hCAAAAkdGTeEIAAACR0ZN4QgAAAJHRk3hCAADA9iOUeEIAAMD2I5R4QgAAwPYjlHhCAADA9iOUeEIAAIBcdpR4QgAAgFx2lHhCAACAXHaUeEIAAIBcdpR4QgAAQMLIlHhCAABAwsiUeEIAAEDCyJR4QgAAQMLIlHhCAABAwsiUeEIAAAAoG5V4QgAAACgblXhC\"},\"shape\":[84],\"dtype\":\"float64\",\"order\":\"little\"}],[\"SMA20\",{\"type\":\"ndarray\",\"array\":{\"type\":\"bytes\",\"data\":\"AAAAAAAA+H8AAAAAAAD4fwAAAAAAAPh/AAAAAAAA+H8AAAAAAAD4fwAAAAAAAPh/AAAAAAAA+H8AAAAAAAD4fwAAAAAAAPh/AAAAAAAA+H8AAAAAAAD4fwAAAAAAAPh/AAAAAAAA+H8zMzPLnGF7QGZmZubLcntAzczMrDZ6e0CamZkxJnp7QDMzM4MAfXtAmpmZ0bdve0BmZmZuKGV7QM3MzISBVXtAzczMNAdLe0CamZnpT0N7QGZmZjY9QXtAZmZmVng/e0CamZnRajl7QJqZmaHiNntAzczM9Bsve0BmZmaGCS57QAAAAEjaJXtAMzMz0yQhe0DNzMwELRx7QM3MzKwLG3tAZmZm5r8ae0AAAADoahp7QDMzM4MkG3tAzczMbEsbe0DNzMyUKB97QM7MzOxhIHtAaGZmLsIhe0A1MzO7WSV7QGhmZp7/KHtAzszMtFkse0DOzMwMkzB7QGhmZpb3NHtAm5mZORtCe0DNzMzcYEZ7QJqZmeG2TXtAzczMnCtae0AAAABozF97QDMzM4unZXtAAAAAEBJ4e0AAAACwrH17QGZmZp4phHtAMzMzS0aKe0DNzMzM25B7QDMzM0MbpHtAAAAAuB2pe0AAAADYI6Z7QJqZmZFto3tAMzMzu8mge0BmZmaWCZp7QM3MzCTElntAmpmZoQOVe0BmZmZuUZR7QGZmZl6liHtAZmZmhlV+e0AAAAC43np7QM3MzEwieXtAMzMzw+B8e0CamZlRIn57QGZmZqapgXtAZmZmthGEe0AAAACA5ol7QAAAAFgJlHtAmpmZCSeZe0AzMzNzN6R7QM3MzOxLs3tAzczMVN26e0CamZnZR8J7QDMzMzstyntAmpmZ4UjSe0AAAAA4l+F7QGZmZtb3BHxA\"},\"shape\":[84],\"dtype\":\"float64\",\"order\":\"little\"}],[\"SMA40\",{\"type\":\"ndarray\",\"array\":{\"type\":\"bytes\",\"data\":\"AAAAAAAA+H8AAAAAAAD4fwAAAAAAAPh/AAAAAAAA+H8AAAAAAAD4fwAAAAAAAPh/AAAAAAAA+H8AAAAAAAD4fwAAAAAAAPh/AAAAAAAA+H8AAAAAAAD4fwAAAAAAAPh/AAAAAAAA+H8AAAAAAAD4fwAAAAAAAPh/AAAAAAAA+H8AAAAAAAD4fwAAAAAAAPh/AAAAAAAA+H/NzMycYmN7QJqZmWFDYntAzczM+CVhe0DNzMyQVGB7QAAAAEijXntAmpmZgddce0BmZmaqNVt7QM3MzFh9WntAAAAAVKdTe0AAAACs4FB7QDMzM1uBRXtAZmZmKmg9e0AzMzO7FTZ7QM3MzHAJM3tAMzMzG3swe0DNzMxo3S57QM3MzNCuLXtAmpmZUUQue0CamZnJsy17QDMzM1/mLHtAAAAAaFIse0AzMzMDFyt7QGZmZpKEK3tAmpmZfdYre0BmZmaK2Cx7QDMzM+9oLXtAzczMEPcve0DNzMzwRjF7QDMzM0dhNHtAZmZmQks6e0CamZl1eD17QAAAAHx5QHtAZmZm/jlMe0AzMzNvt097QDMzM6+sU3tAMzMzA9BXe0DNzMzs9lt7QM3MzGyJbHtAZmZmSr93e0DNzMxc7Xl7QDMzM4vKe3tAAAAArHp9e0DNzMyQ2H97QDMzM7tbgXtAzczMAJKDe0AzMzO/MYZ7QJqZmZXAjHtAmpmZ4feOe0CamZn9fI97QDMzM/f7kHtAmpmZPf+Se0DNzMwUI5J7QM3MzHCvj3tAZmZmpg2Pe0BmZmZSVZB7QGZmZqZ4k3tAAAAAWJaUe0DNzMxobpZ7QDMzM1dAmntAmpmZbZmce0DNzMxIk557QAAAABzhoHtAMzMzl7Wle0CamZn9O697QDMzMytvx3tA\"},\"shape\":[84],\"dtype\":\"float64\",\"order\":\"little\"}],[\"SMA100\",{\"type\":\"ndarray\",\"array\":{\"type\":\"bytes\",\"data\":\"AAAAAAAA+H8AAAAAAAD4fwAAAAAAAPh/AAAAAAAA+H8AAAAAAAD4fwAAAAAAAPh/AAAAAAAA+H8AAAAAAAD4fwAAAAAAAPh/AAAAAAAA+H8AAAAAAAD4fwAAAAAAAPh/AAAAAAAA+H8AAAAAAAD4fwAAAAAAAPh/AAAAAAAA+H8AAAAAAAD4fwAAAAAAAPh/AAAAAAAA+H8AAAAAAAD4fwAAAAAAAPh/AAAAAAAA+H8AAAAAAAD4fwAAAAAAAPh/AAAAAAAA+H8AAAAAAAD4fwAAAAAAAPh/AAAAAAAA+H8AAAAAAAD4fwAAAAAAAPh/AAAAAAAA+H8AAAAAAAD4fwAAAAAAAPh/AAAAAAAA+H8AAAAAAAD4fwAAAAAAAPh/AAAAAAAA+H8AAAAAAAD4fwAAAAAAAPh/AAAAAAAA+H8AAAAAAAD4fwAAAAAAAPh/AAAAAAAA+H8AAAAAAAD4fwAAAAAAAPh/AAAAAAAA+H8AAAAAAAD4fwAAAAAAAPh/AAAAAAAA+H8AAAAAAAD4fwAAAAAAAPh/AAAAAAAA+H8AAAAAAAD4fwAAAAAAAPh/AAAAAAAA+H8AAAAAAAD4f9ejcEW9WntAUrge/X1ce0CamZkRCl17QPYoXE+DXXtAhetR4AFee0CuR+HSc157QDMzM1u8XntAFK5HwVZfe0CamZlZo2B7QDMzM5OTYXtAexSuD2Rge0DNzMx0yl97QOxRuJbHXntAFK5HKYJee0Bcj8KVaV57QHE9Ci/oXntACtejGA9ge0DXo3CF32F7QI/C9SjaZXtAhetROFRne0AzMzNTYWp7QGZmZn5XbntAKVyPon9we0BxPQpXanJ7QArXo8iFdHtAhetREOd2e0D2KFy3oHt7QD0K12tfiXtA\"},\"shape\":[84],\"dtype\":\"float64\",\"order\":\"little\"}],[\"SMA200\",{\"type\":\"ndarray\",\"array\":{\"type\":\"bytes\",\"data\":\"AAAAAAAA+H8AAAAAAAD4fwAAAAAAAPh/AAAAAAAA+H8AAAAAAAD4fwAAAAAAAPh/AAAAAAAA+H8AAAAAAAD4fwAAAAAAAPh/AAAAAAAA+H8AAAAAAAD4fwAAAAAAAPh/AAAAAAAA+H8AAAAAAAD4fwAAAAAAAPh/AAAAAAAA+H8AAAAAAAD4fwAAAAAAAPh/AAAAAAAA+H8AAAAAAAD4fwAAAAAAAPh/AAAAAAAA+H8AAAAAAAD4fwAAAAAAAPh/AAAAAAAA+H8AAAAAAAD4fwAAAAAAAPh/AAAAAAAA+H8AAAAAAAD4fwAAAAAAAPh/AAAAAAAA+H8AAAAAAAD4fwAAAAAAAPh/AAAAAAAA+H8AAAAAAAD4fwAAAAAAAPh/AAAAAAAA+H8AAAAAAAD4fwAAAAAAAPh/AAAAAAAA+H8AAAAAAAD4fwAAAAAAAPh/AAAAAAAA+H8AAAAAAAD4fwAAAAAAAPh/AAAAAAAA+H8AAAAAAAD4fwAAAAAAAPh/AAAAAAAA+H8AAAAAAAD4fwAAAAAAAPh/AAAAAAAA+H8AAAAAAAD4fwAAAAAAAPh/AAAAAAAA+H8AAAAAAAD4fwAAAAAAAPh/AAAAAAAA+H8AAAAAAAD4fwAAAAAAAPh/AAAAAAAA+H8AAAAAAAD4fwAAAAAAAPh/AAAAAAAA+H8AAAAAAAD4fwAAAAAAAPh/AAAAAAAA+H8AAAAAAAD4fwAAAAAAAPh/AAAAAAAA+H8AAAAAAAD4fwAAAAAAAPh/AAAAAAAA+H8AAAAAAAD4fwAAAAAAAPh/AAAAAAAA+H8AAAAAAAD4fwAAAAAAAPh/AAAAAAAA+H8AAAAAAAD4fwAAAAAAAPh/AAAAAAAA+H8AAAAAAAD4fwAAAAAAAPh/\"},\"shape\":[84],\"dtype\":\"float64\",\"order\":\"little\"}],[\"pivotHigh\",{\"type\":\"ndarray\",\"array\":{\"type\":\"bytes\",\"data\":\"AAAAAAAA+H8AAAAAAAD4fwAAAAAAAPh/AAAAAAAA+H8AAAAAAAD4fwAAAAAAAPh/vHSTuP5we0AAAAAAAAD4fwAAAAAAAPh/AAAAAAAA+H8AAAAAAAD4fwAAAAAAAPh/AAAAAAAA+H+8dJN4ar57QAAAAAAAAPh/AAAAAAAA+H8AAAAAAAD4fwAAAAAAAPh/AAAAAAAA+H8AAAAAAAD4fwAAAAAAAPh/AAAAAAAA+H8AAAAAAAD4f7x0k5jvSXtAAAAAAAAA+H8AAAAAAAD4fwAAAAAAAPh/AAAAAAAA+H8AAAAAAAD4fwAAAAAAAPh/AAAAAAAA+H8AAAAAAAD4fwAAAAAAAPh/AAAAAAAA+H8AAAAAAAD4fwAAAAAAAPh/vHST+FFMe0AAAAAAAAD4fwAAAAAAAPh/AAAAAAAA+H8AAAAAAAD4fwAAAAAAAPh/AAAAAAAA+H8AAAAAAAD4fwAAAAAAAPh/AAAAAAAA+H8AAAAAAAD4fwAAAAAAAPh/AAAAAAAA+H8AAAAAAAD4f7x0k5gYwntAAAAAAAAA+H8AAAAAAAD4fwAAAAAAAPh/AAAAAAAA+H8AAAAAAAD4f7x0kxgtvHtAAAAAAAAA+H8AAAAAAAD4fwAAAAAAAPh/AAAAAAAA+H8AAAAAAAD4fwAAAAAAAPh/AAAAAAAA+H+8dJOYQap7QAAAAAAAAPh/AAAAAAAA+H8AAAAAAAD4fwAAAAAAAPh/AAAAAAAA+H8AAAAAAAD4fwAAAAAAAPh/AAAAAAAA+H+8dJO4dPV7QAAAAAAAAPh/AAAAAAAA+H8AAAAAAAD4fwAAAAAAAPh/AAAAAAAA+H8AAAAAAAD4fwAAAAAAAPh/AAAAAAAA+H+8dJOYxjV8QAAAAAAAAPh/\"},\"shape\":[84],\"dtype\":\"float64\",\"order\":\"little\"}],[\"pivotLow\",{\"type\":\"ndarray\",\"array\":{\"type\":\"bytes\",\"data\":\"AAAAAAAA+H8AAAAAAAD4fwAAAAAAAPh/AAAAAAAA+H8AAAAAAAD4fwAAAAAAAPh/AAAAAAAA+H8AAAAAAAD4fwAAAAAAAPh/AAAAAAAA+H8AAAAAAAD4fwAAAAAAAPh/AAAAAAAA+H8AAAAAAAD4fwAAAAAAAPh/AAAAAAAA+H8AAAAAAAD4fwAAAAAAAPh/AAAAAAAA+H8AAAAAAAD4fwAAAAAAAPh/AAAAAAAA+H8AAAAAAAD4fwAAAAAAAPh/AAAAAAAA+H8AAAAAAAD4fwAAAAAAAPh/AAAAAAAA+H8AAAAAAAD4fwAAAAAAAPh/AAAAAAAA+H8AAAAAAAD4fwAAAAAAAPh/AAAAAAAA+H8AAAAAAAD4fwAAAAAAAPh/AAAAAAAA+H8AAAAAAAD4fwAAAAAAAPh/AAAAAAAA+H8AAAAAAAD4fwAAAAAAAPh/AAAAAAAA+H8AAAAAAAD4fwAAAAAAAPh/AAAAAAAA+H8AAAAAAAD4fwAAAAAAAPh/AAAAAAAA+H8AAAAAAAD4fwAAAAAAAPh/AAAAAAAA+H8AAAAAAAD4fwAAAAAAAPh/AAAAAAAA+H8AAAAAAAD4fwAAAAAAAPh/AAAAAAAA+H8AAAAAAAD4fwAAAAAAAPh/AAAAAAAA+H8AAAAAAAD4fwAAAAAAAPh/AAAAAAAA+H8AAAAAAAD4fwAAAAAAAPh/AAAAAAAA+H8AAAAAAAD4fwAAAAAAAPh/AAAAAAAA+H8AAAAAAAD4fwAAAAAAAPh/AAAAAAAA+H8AAAAAAAD4fwAAAAAAAPh/AAAAAAAA+H8AAAAAAAD4fwAAAAAAAPh/AAAAAAAA+H8AAAAAAAD4fwAAAAAAAPh/AAAAAAAA+H8AAAAAAAD4fwAAAAAAAPh/\"},\"shape\":[84],\"dtype\":\"float64\",\"order\":\"little\"}],[\"isPivot\",{\"type\":\"ndarray\",\"array\":{\"type\":\"bytes\",\"data\":\"AAAAAAAA+H8AAAAAAAD4fwAAAAAAAPh/AAAAAAAA+H8AAAAAAAD4fwAAAAAAAPh/AAAAAAAA8D8AAAAAAAD4fwAAAAAAAPh/AAAAAAAA+H8AAAAAAAD4fwAAAAAAAPh/AAAAAAAA+H8AAAAAAADwPwAAAAAAAPh/AAAAAAAA+H8AAAAAAAD4fwAAAAAAAPh/AAAAAAAA+H8AAAAAAAD4fwAAAAAAAPh/AAAAAAAA+H8AAAAAAAD4fwAAAAAAAPA/AAAAAAAA+H8AAAAAAAD4fwAAAAAAAPh/AAAAAAAA+H8AAAAAAAD4fwAAAAAAAPh/AAAAAAAA+H8AAAAAAAD4fwAAAAAAAPh/AAAAAAAA+H8AAAAAAAD4fwAAAAAAAPh/AAAAAAAA8D8AAAAAAAD4fwAAAAAAAPh/AAAAAAAA+H8AAAAAAAD4fwAAAAAAAPh/AAAAAAAA+H8AAAAAAAD4fwAAAAAAAPh/AAAAAAAA+H8AAAAAAAD4fwAAAAAAAPh/AAAAAAAA+H8AAAAAAAD4fwAAAAAAAPA/AAAAAAAA+H8AAAAAAAD4fwAAAAAAAPh/AAAAAAAA+H8AAAAAAAD4fwAAAAAAAPA/AAAAAAAA+H8AAAAAAAD4fwAAAAAAAPh/AAAAAAAA+H8AAAAAAAD4fwAAAAAAAPh/AAAAAAAA+H8AAAAAAADwPwAAAAAAAPh/AAAAAAAA+H8AAAAAAAD4fwAAAAAAAPh/AAAAAAAA+H8AAAAAAAD4fwAAAAAAAPh/AAAAAAAA+H8AAAAAAADwPwAAAAAAAPh/AAAAAAAA+H8AAAAAAAD4fwAAAAAAAPh/AAAAAAAA+H8AAAAAAAD4fwAAAAAAAPh/AAAAAAAA+H8AAAAAAADwPwAAAAAAAPh/\"},\"shape\":[84],\"dtype\":\"float64\",\"order\":\"little\"}]]}}},\"view\":{\"type\":\"object\",\"name\":\"CDSView\",\"id\":\"p1242\",\"attributes\":{\"filter\":{\"type\":\"object\",\"name\":\"AllIndices\",\"id\":\"p1243\"}}},\"glyph\":{\"type\":\"object\",\"name\":\"VBar\",\"id\":\"p1238\",\"attributes\":{\"x\":{\"type\":\"field\",\"field\":\"index\"},\"width\":{\"type\":\"value\",\"value\":0.6},\"bottom\":{\"type\":\"field\",\"field\":\"Open\"},\"top\":{\"type\":\"field\",\"field\":\"Close\"},\"line_color\":{\"type\":\"value\",\"value\":\"green\"},\"fill_color\":{\"type\":\"value\",\"value\":\"green\"}}},\"nonselection_glyph\":{\"type\":\"object\",\"name\":\"VBar\",\"id\":\"p1239\",\"attributes\":{\"x\":{\"type\":\"field\",\"field\":\"index\"},\"width\":{\"type\":\"value\",\"value\":0.6},\"bottom\":{\"type\":\"field\",\"field\":\"Open\"},\"top\":{\"type\":\"field\",\"field\":\"Close\"},\"line_color\":{\"type\":\"value\",\"value\":\"green\"},\"line_alpha\":{\"type\":\"value\",\"value\":0.1},\"fill_color\":{\"type\":\"value\",\"value\":\"green\"},\"fill_alpha\":{\"type\":\"value\",\"value\":0.1},\"hatch_alpha\":{\"type\":\"value\",\"value\":0.1}}},\"muted_glyph\":{\"type\":\"object\",\"name\":\"VBar\",\"id\":\"p1240\",\"attributes\":{\"x\":{\"type\":\"field\",\"field\":\"index\"},\"width\":{\"type\":\"value\",\"value\":0.6},\"bottom\":{\"type\":\"field\",\"field\":\"Open\"},\"top\":{\"type\":\"field\",\"field\":\"Close\"},\"line_color\":{\"type\":\"value\",\"value\":\"green\"},\"line_alpha\":{\"type\":\"value\",\"value\":0.2},\"fill_color\":{\"type\":\"value\",\"value\":\"green\"},\"fill_alpha\":{\"type\":\"value\",\"value\":0.2},\"hatch_alpha\":{\"type\":\"value\",\"value\":0.2}}}}},{\"type\":\"object\",\"name\":\"GlyphRenderer\",\"id\":\"p1253\",\"attributes\":{\"data_source\":{\"type\":\"object\",\"name\":\"ColumnDataSource\",\"id\":\"p1244\",\"attributes\":{\"selected\":{\"type\":\"object\",\"name\":\"Selection\",\"id\":\"p1245\",\"attributes\":{\"indices\":[],\"line_indices\":[]}},\"selection_policy\":{\"type\":\"object\",\"name\":\"UnionRenderers\",\"id\":\"p1246\"},\"data\":{\"type\":\"map\",\"entries\":[[\"index\",{\"type\":\"ndarray\",\"array\":{\"type\":\"bytes\",\"data\":\"CAAAABMAAAAwAAAARAAAAFgAAABjAAAAbwAAAIEAAACPAAAA\"},\"shape\":[9],\"dtype\":\"int32\",\"order\":\"little\"}],[\"Close\",{\"type\":\"ndarray\",\"array\":{\"type\":\"bytes\",\"data\":\"AAAAYGZqe0AAAACAPbJ7QAEAAMDMSHtAAAAAANdLe0AAAADA9cB7QAAAACCFu3tAAAAAgMKpe0ABAADAhPN7QAAAAIDrJnxA\"},\"shape\":[9],\"dtype\":\"float64\",\"order\":\"little\"}],[\"High\",{\"type\":\"ndarray\",\"array\":{\"type\":\"bytes\",\"data\":\"AAAAoPpwe0AAAABgZr57QAAAAIDrSXtAAAAA4E1Me0AAAACAFMJ7QAAAAAApvHtAAAAAgD2qe0AAAACgcPV7QAAAAIDCNXxA\"},\"shape\":[9],\"dtype\":\"float64\",\"order\":\"little\"}],[\"Low\",{\"type\":\"ndarray\",\"array\":{\"type\":\"bytes\",\"data\":\"AAAAYI9ae0AAAACgmZ17QAAAACBcNXtAAAAAoHBBe0ABAADAHrd7QAAAAKBwq3tAAAAAwPWQe0AAAAAAT917QAEAAEDhInxA\"},\"shape\":[9],\"dtype\":\"float64\",\"order\":\"little\"}],[\"Open\",{\"type\":\"ndarray\",\"array\":{\"type\":\"bytes\",\"data\":\"AAAAoHBbe0AAAACgvZ17QAAAAKBHOXtAAAAAANdHe0AAAADgerh7QAAAACCFq3tAAAAAwPWQe0AAAACAPeZ7QAAAAOBRJnxA\"},\"shape\":[9],\"dtype\":\"float64\",\"order\":\"little\"}],[\"Volume\",{\"type\":\"ndarray\",\"array\":{\"type\":\"bytes\",\"data\":\"eaKLAP7YFAGXzasAJknAAA/KdQBjkFcADOOgAIiVNgE7aNEA\"},\"shape\":[9],\"dtype\":\"int32\",\"order\":\"little\"}],[\"datetime\",{\"type\":\"ndarray\",\"array\":{\"type\":\"bytes\",\"data\":\"AACkA6WLeEIAAAQlBYx4QgAALFxJjnhCAAAE6uGPeEIAAFys1ZB4QgAABBh1knhCAAC0BROTeEIAALy1pJR4QgAAPIFJlXhC\"},\"shape\":[9],\"dtype\":\"float64\",\"order\":\"little\"}],[\"companyName\",{\"type\":\"ndarray\",\"array\":[\"SPY\",\"SPY\",\"SPY\",\"SPY\",\"SPY\",\"SPY\",\"SPY\",\"SPY\",\"SPY\"],\"shape\":[9],\"dtype\":\"object\",\"order\":\"little\"}],[\"fecha\",{\"type\":\"ndarray\",\"array\":{\"type\":\"bytes\",\"data\":\"AACAO3OLeEIAAEChxYt4QgAAgGkGjnhCAABAZqKPeEIAAICXmZB4QgAAQJQ1knhCAADAX9qSeEIAAIBcdpR4QgAAACgblXhC\"},\"shape\":[9],\"dtype\":\"float64\",\"order\":\"little\"}],[\"SMA20\",{\"type\":\"ndarray\",\"array\":{\"type\":\"bytes\",\"data\":\"AAAAAAAA+H8zMzPLnGF7QGZmZjY9QXtAzczMbEsbe0AzMzOLp2V7QDMzM0MbpHtAZmZmblGUe0AAAACA5ol7QAAAADiX4XtA\"},\"shape\":[9],\"dtype\":\"float64\",\"order\":\"little\"}],[\"SMA40\",{\"type\":\"ndarray\",\"array\":{\"type\":\"bytes\",\"data\":\"AAAAAAAA+H8AAAAAAAD4fwAAAEijXntAmpmZUUQue0AAAAB8eUB7QM3MzGyJbHtAMzMzvzGGe0BmZmZSVZB7QJqZmf07r3tA\"},\"shape\":[9],\"dtype\":\"float64\",\"order\":\"little\"}],[\"SMA100\",{\"type\":\"ndarray\",\"array\":{\"type\":\"bytes\",\"data\":\"AAAAAAAA+H8AAAAAAAD4fwAAAAAAAPh/AAAAAAAA+H8AAAAAAAD4f9ejcEW9WntAmpmZWaNge0DXo3CF32F7QPYoXLege3tA\"},\"shape\":[9],\"dtype\":\"float64\",\"order\":\"little\"}],[\"SMA200\",{\"type\":\"ndarray\",\"array\":{\"type\":\"bytes\",\"data\":\"AAAAAAAA+H8AAAAAAAD4fwAAAAAAAPh/AAAAAAAA+H8AAAAAAAD4fwAAAAAAAPh/AAAAAAAA+H8AAAAAAAD4fwAAAAAAAPh/\"},\"shape\":[9],\"dtype\":\"float64\",\"order\":\"little\"}],[\"pivotHigh\",{\"type\":\"ndarray\",\"array\":{\"type\":\"bytes\",\"data\":\"vHSTuP5we0C8dJN4ar57QLx0k5jvSXtAvHST+FFMe0C8dJOYGMJ7QLx0kxgtvHtAvHSTmEGqe0C8dJO4dPV7QLx0k5jGNXxA\"},\"shape\":[9],\"dtype\":\"float64\",\"order\":\"little\"}],[\"pivotLow\",{\"type\":\"ndarray\",\"array\":{\"type\":\"bytes\",\"data\":\"AAAAAAAA+H8AAAAAAAD4fwAAAAAAAPh/AAAAAAAA+H8AAAAAAAD4fwAAAAAAAPh/AAAAAAAA+H8AAAAAAAD4fwAAAAAAAPh/\"},\"shape\":[9],\"dtype\":\"float64\",\"order\":\"little\"}],[\"isPivot\",{\"type\":\"ndarray\",\"array\":{\"type\":\"bytes\",\"data\":\"AAAAAAAA8D8AAAAAAADwPwAAAAAAAPA/AAAAAAAA8D8AAAAAAADwPwAAAAAAAPA/AAAAAAAA8D8AAAAAAADwPwAAAAAAAPA/\"},\"shape\":[9],\"dtype\":\"float64\",\"order\":\"little\"}]]}}},\"view\":{\"type\":\"object\",\"name\":\"CDSView\",\"id\":\"p1254\",\"attributes\":{\"filter\":{\"type\":\"object\",\"name\":\"AllIndices\",\"id\":\"p1255\"}}},\"glyph\":{\"type\":\"object\",\"name\":\"Scatter\",\"id\":\"p1250\",\"attributes\":{\"x\":{\"type\":\"field\",\"field\":\"index\"},\"y\":{\"type\":\"field\",\"field\":\"pivotHigh\"},\"size\":{\"type\":\"value\",\"value\":10},\"line_color\":{\"type\":\"value\",\"value\":\"navy\"},\"line_alpha\":{\"type\":\"value\",\"value\":0.5},\"fill_color\":{\"type\":\"value\",\"value\":\"blue\"},\"fill_alpha\":{\"type\":\"value\",\"value\":0.5},\"hatch_alpha\":{\"type\":\"value\",\"value\":0.5}}},\"nonselection_glyph\":{\"type\":\"object\",\"name\":\"Scatter\",\"id\":\"p1251\",\"attributes\":{\"x\":{\"type\":\"field\",\"field\":\"index\"},\"y\":{\"type\":\"field\",\"field\":\"pivotHigh\"},\"size\":{\"type\":\"value\",\"value\":10},\"line_color\":{\"type\":\"value\",\"value\":\"navy\"},\"line_alpha\":{\"type\":\"value\",\"value\":0.1},\"fill_color\":{\"type\":\"value\",\"value\":\"blue\"},\"fill_alpha\":{\"type\":\"value\",\"value\":0.1},\"hatch_alpha\":{\"type\":\"value\",\"value\":0.1}}},\"muted_glyph\":{\"type\":\"object\",\"name\":\"Scatter\",\"id\":\"p1252\",\"attributes\":{\"x\":{\"type\":\"field\",\"field\":\"index\"},\"y\":{\"type\":\"field\",\"field\":\"pivotHigh\"},\"size\":{\"type\":\"value\",\"value\":10},\"line_color\":{\"type\":\"value\",\"value\":\"navy\"},\"line_alpha\":{\"type\":\"value\",\"value\":0.2},\"fill_color\":{\"type\":\"value\",\"value\":\"blue\"},\"fill_alpha\":{\"type\":\"value\",\"value\":0.2},\"hatch_alpha\":{\"type\":\"value\",\"value\":0.2}}}}},{\"type\":\"object\",\"name\":\"GlyphRenderer\",\"id\":\"p1267\",\"attributes\":{\"data_source\":{\"type\":\"object\",\"name\":\"ColumnDataSource\",\"id\":\"p1258\",\"attributes\":{\"selected\":{\"type\":\"object\",\"name\":\"Selection\",\"id\":\"p1259\",\"attributes\":{\"indices\":[],\"line_indices\":[]}},\"selection_policy\":{\"type\":\"object\",\"name\":\"UnionRenderers\",\"id\":\"p1260\"},\"data\":{\"type\":\"map\",\"entries\":[[\"index\",{\"type\":\"ndarray\",\"array\":{\"type\":\"bytes\",\"data\":\"CwAAABwAAAArAAAAPgAAAEsAAABmAAAAdQAAAJQAAAA=\"},\"shape\":[8],\"dtype\":\"int32\",\"order\":\"little\"}],[\"Close\",{\"type\":\"ndarray\",\"array\":{\"type\":\"bytes\",\"data\":\"AAAAANcne0AAAADgejR7QAAAAIDCLXtAAQAAQOH2ekAAAACgcDV7QAAAAKCZVXtAAAAAgD1me0AAAACA6xF8QA==\"},\"shape\":[8],\"dtype\":\"float64\",\"order\":\"little\"}],[\"High\",{\"type\":\"ndarray\",\"array\":{\"type\":\"bytes\",\"data\":\"AAAAAClYe0AAAABguGJ7QAAAAKCZPXtAAAAAoJkNe0AAAAAgXD97QAAAAKCZXXtAAAAAoEdxe0AAAADA9Rx8QA==\"},\"shape\":[8],\"dtype\":\"float64\",\"order\":\"little\"}],[\"Low\",{\"type\":\"ndarray\",\"array\":{\"type\":\"bytes\",\"data\":\"AAAAoHAZe0AAAACAAjF7QAAAAOB6IHtAAQAAQArzekAAAACgcCl7QAAAAMD1UHtAAAAAIFxZe0AAAACAFAp8QA==\"},\"shape\":[8],\"dtype\":\"float64\",\"order\":\"little\"}],[\"Open\",{\"type\":\"ndarray\",\"array\":{\"type\":\"bytes\",\"data\":\"AAAA4KNUe0AAAADgo1R7QAAAAKBwOXtAAAAAgD0Ke0AAAACgcD17QAAAACCuW3tAAAAAwFtre0AAAACgcBl8QA==\"},\"shape\":[8],\"dtype\":\"float64\",\"order\":\"little\"}],[\"Volume\",{\"type\":\"ndarray\",\"array\":{\"type\":\"bytes\",\"data\":\"+JofAWbm8gDcFIkAtMwBASfwcQCVCJQAVn5iAJbHeAA=\"},\"shape\":[8],\"dtype\":\"int32\",\"order\":\"little\"}],[\"datetime\",{\"type\":\"ndarray\",\"array\":{\"type\":\"bytes\",\"data\":\"AABcUK+LeEIAADz3j414QgAApDE4jnhCAAAs85KPeEIAAMRPNJB4QgAAJMK5knhCAAAMyAaUeEIAAMSrWpV4Qg==\"},\"shape\":[8],\"dtype\":\"float64\",\"order\":\"little\"}],[\"companyName\",{\"type\":\"ndarray\",\"array\":[\"SPY\",\"SPY\",\"SPY\",\"SPY\",\"SPY\",\"SPY\",\"SPY\",\"SPY\"],\"shape\":[8],\"dtype\":\"object\",\"order\":\"little\"}],[\"fecha\",{\"type\":\"ndarray\",\"array\":{\"type\":\"bytes\",\"data\":\"AACAO3OLeEIAAACeYY14QgAAgGkGjnhCAACAAFCPeEIAAADM9I94QgAAAPqHknhCAAAAkdGTeEIAAAAoG5V4Qg==\"},\"shape\":[8],\"dtype\":\"float64\",\"order\":\"little\"}],[\"SMA20\",{\"type\":\"ndarray\",\"array\":{\"type\":\"bytes\",\"data\":\"AAAAAAAA+H+amZlZCXx7QJqZmXH+T3tAAAAA6NIde0DOzMwMEid7QJqZmYGUqHtAmpmZwTSBe0CamZnhTwN8QA==\"},\"shape\":[8],\"dtype\":\"float64\",\"order\":\"little\"}],[\"SMA40\",{\"type\":\"ndarray\",\"array\":{\"type\":\"bytes\",\"data\":\"AAAAAAAA+H8AAAAAAAD4fwAAACxlYXtAZmZmNqo5e0DNzMwAFyt7QJqZmd1XdXtAAAAASF6Oe0AAAADMsMN7QA==\"},\"shape\":[8],\"dtype\":\"float64\",\"order\":\"little\"}],[\"SMA100\",{\"type\":\"ndarray\",\"array\":{\"type\":\"bytes\",\"data\":\"AAAAAAAA+H8AAAAAAAD4fwAAAAAAAPh/AAAAAAAA+H8AAAAAAAD4f0jhehQ1XHtAj8L1eNNge0AUrkeh34Z7QA==\"},\"shape\":[8],\"dtype\":\"float64\",\"order\":\"little\"}],[\"SMA200\",{\"type\":\"ndarray\",\"array\":{\"type\":\"bytes\",\"data\":\"AAAAAAAA+H8AAAAAAAD4fwAAAAAAAPh/AAAAAAAA+H8AAAAAAAD4fwAAAAAAAPh/AAAAAAAA+H8AAAAAAAD4fw==\"},\"shape\":[8],\"dtype\":\"float64\",\"order\":\"little\"}],[\"pivotHigh\",{\"type\":\"ndarray\",\"array\":{\"type\":\"bytes\",\"data\":\"AAAAAAAA+H8AAAAAAAD4fwAAAAAAAPh/AAAAAAAA+H8AAAAAAAD4fwAAAAAAAPh/AAAAAAAA+H8AAAAAAAD4fw==\"},\"shape\":[8],\"dtype\":\"float64\",\"order\":\"little\"}],[\"pivotLow\",{\"type\":\"ndarray\",\"array\":{\"type\":\"bytes\",\"data\":\"RItsh2wZe0BEi2xn/jB7QESLbMd2IHtARYtsJwbzekBEi2yHbCl7QESLbKfxUHtARItsB1hZe0BEi2xnEAp8QA==\"},\"shape\":[8],\"dtype\":\"float64\",\"order\":\"little\"}],[\"isPivot\",{\"type\":\"ndarray\",\"array\":{\"type\":\"bytes\",\"data\":\"AAAAAAAAAEAAAAAAAAAAQAAAAAAAAABAAAAAAAAAAEAAAAAAAAAAQAAAAAAAAABAAAAAAAAAAEAAAAAAAAAAQA==\"},\"shape\":[8],\"dtype\":\"float64\",\"order\":\"little\"}]]}}},\"view\":{\"type\":\"object\",\"name\":\"CDSView\",\"id\":\"p1268\",\"attributes\":{\"filter\":{\"type\":\"object\",\"name\":\"AllIndices\",\"id\":\"p1269\"}}},\"glyph\":{\"type\":\"object\",\"name\":\"Scatter\",\"id\":\"p1264\",\"attributes\":{\"x\":{\"type\":\"field\",\"field\":\"index\"},\"y\":{\"type\":\"field\",\"field\":\"pivotLow\"},\"size\":{\"type\":\"value\",\"value\":10},\"line_color\":{\"type\":\"value\",\"value\":\"navy\"},\"line_alpha\":{\"type\":\"value\",\"value\":0.5},\"fill_color\":{\"type\":\"value\",\"value\":\"green\"},\"fill_alpha\":{\"type\":\"value\",\"value\":0.5},\"hatch_alpha\":{\"type\":\"value\",\"value\":0.5}}},\"nonselection_glyph\":{\"type\":\"object\",\"name\":\"Scatter\",\"id\":\"p1265\",\"attributes\":{\"x\":{\"type\":\"field\",\"field\":\"index\"},\"y\":{\"type\":\"field\",\"field\":\"pivotLow\"},\"size\":{\"type\":\"value\",\"value\":10},\"line_color\":{\"type\":\"value\",\"value\":\"navy\"},\"line_alpha\":{\"type\":\"value\",\"value\":0.1},\"fill_color\":{\"type\":\"value\",\"value\":\"green\"},\"fill_alpha\":{\"type\":\"value\",\"value\":0.1},\"hatch_alpha\":{\"type\":\"value\",\"value\":0.1}}},\"muted_glyph\":{\"type\":\"object\",\"name\":\"Scatter\",\"id\":\"p1266\",\"attributes\":{\"x\":{\"type\":\"field\",\"field\":\"index\"},\"y\":{\"type\":\"field\",\"field\":\"pivotLow\"},\"size\":{\"type\":\"value\",\"value\":10},\"line_color\":{\"type\":\"value\",\"value\":\"navy\"},\"line_alpha\":{\"type\":\"value\",\"value\":0.2},\"fill_color\":{\"type\":\"value\",\"value\":\"green\"},\"fill_alpha\":{\"type\":\"value\",\"value\":0.2},\"hatch_alpha\":{\"type\":\"value\",\"value\":0.2}}}}}],\"toolbar\":{\"type\":\"object\",\"name\":\"Toolbar\",\"id\":\"p1181\",\"attributes\":{\"tools\":[{\"type\":\"object\",\"name\":\"PanTool\",\"id\":\"p1194\"},{\"type\":\"object\",\"name\":\"WheelZoomTool\",\"id\":\"p1195\",\"attributes\":{\"renderers\":\"auto\"}},{\"type\":\"object\",\"name\":\"BoxZoomTool\",\"id\":\"p1196\",\"attributes\":{\"dimensions\":\"both\",\"overlay\":{\"type\":\"object\",\"name\":\"BoxAnnotation\",\"id\":\"p1197\",\"attributes\":{\"syncable\":false,\"line_color\":\"black\",\"line_alpha\":1.0,\"line_width\":2,\"line_dash\":[4,4],\"fill_color\":\"lightgrey\",\"fill_alpha\":0.5,\"level\":\"overlay\",\"visible\":false,\"left\":{\"type\":\"number\",\"value\":\"nan\"},\"right\":{\"type\":\"number\",\"value\":\"nan\"},\"top\":{\"type\":\"number\",\"value\":\"nan\"},\"bottom\":{\"type\":\"number\",\"value\":\"nan\"},\"left_units\":\"canvas\",\"right_units\":\"canvas\",\"top_units\":\"canvas\",\"bottom_units\":\"canvas\",\"handles\":{\"type\":\"object\",\"name\":\"BoxInteractionHandles\",\"id\":\"p1203\",\"attributes\":{\"all\":{\"type\":\"object\",\"name\":\"AreaVisuals\",\"id\":\"p1202\",\"attributes\":{\"fill_color\":\"white\",\"hover_fill_color\":\"lightgray\"}}}}}}}},{\"type\":\"object\",\"name\":\"SaveTool\",\"id\":\"p1204\"},{\"type\":\"object\",\"name\":\"ResetTool\",\"id\":\"p1205\"},{\"type\":\"object\",\"name\":\"HelpTool\",\"id\":\"p1206\"},{\"type\":\"object\",\"name\":\"HoverTool\",\"id\":\"p1207\",\"attributes\":{\"renderers\":\"auto\",\"tooltips\":[[\"Index\",\"@index\"],[\"Open\",\"@Open\"],[\"High\",\"@High\"],[\"Low\",\"@Low\"],[\"Close\",\"@Close\"]]}}]}},\"left\":[{\"type\":\"object\",\"name\":\"LinearAxis\",\"id\":\"p1189\",\"attributes\":{\"ticker\":{\"type\":\"object\",\"name\":\"BasicTicker\",\"id\":\"p1190\",\"attributes\":{\"mantissas\":[1,2,5]}},\"formatter\":{\"type\":\"object\",\"name\":\"BasicTickFormatter\",\"id\":\"p1191\"},\"major_label_policy\":{\"type\":\"object\",\"name\":\"AllLabels\",\"id\":\"p1192\"}}}],\"below\":[{\"type\":\"object\",\"name\":\"LinearAxis\",\"id\":\"p1184\",\"attributes\":{\"ticker\":{\"type\":\"object\",\"name\":\"BasicTicker\",\"id\":\"p1185\",\"attributes\":{\"mantissas\":[1,2,5]}},\"formatter\":{\"type\":\"object\",\"name\":\"BasicTickFormatter\",\"id\":\"p1186\"},\"major_label_orientation\":0.8,\"major_label_policy\":{\"type\":\"object\",\"name\":\"AllLabels\",\"id\":\"p1187\"},\"axis_line_width\":2}}],\"center\":[{\"type\":\"object\",\"name\":\"Grid\",\"id\":\"p1188\",\"attributes\":{\"axis\":{\"id\":\"p1184\"}}},{\"type\":\"object\",\"name\":\"Grid\",\"id\":\"p1193\",\"attributes\":{\"dimension\":1,\"axis\":{\"id\":\"p1189\"}}},{\"type\":\"object\",\"name\":\"Legend\",\"id\":\"p1256\",\"attributes\":{\"items\":[{\"type\":\"object\",\"name\":\"LegendItem\",\"id\":\"p1257\",\"attributes\":{\"label\":{\"type\":\"value\",\"value\":\"Cambio Tendencia Bajista\"},\"renderers\":[{\"id\":\"p1253\"}]}},{\"type\":\"object\",\"name\":\"LegendItem\",\"id\":\"p1270\",\"attributes\":{\"label\":{\"type\":\"value\",\"value\":\"Cambio Tendencia Alcista\"},\"renderers\":[{\"id\":\"p1267\"}]}}]}}],\"background_fill_color\":\"#efefef\"}}]}};\n",
       "  const render_items = [{\"docid\":\"93bf8284-ead0-4951-9d5e-e83ccfaac99e\",\"roots\":{\"p1172\":\"e8b2aefa-b8ba-495d-9267-b31a3d237614\"},\"root_ids\":[\"p1172\"]}];\n",
       "  void root.Bokeh.embed.embed_items_notebook(docs_json, render_items);\n",
       "  }\n",
       "  if (root.Bokeh !== undefined) {\n",
       "    embed_document(root);\n",
       "  } else {\n",
       "    let attempts = 0;\n",
       "    const timer = setInterval(function(root) {\n",
       "      if (root.Bokeh !== undefined) {\n",
       "        clearInterval(timer);\n",
       "        embed_document(root);\n",
       "      } else {\n",
       "        attempts++;\n",
       "        if (attempts > 100) {\n",
       "          clearInterval(timer);\n",
       "          console.log(\"Bokeh: ERROR: Unable to run BokehJS code because BokehJS library is missing\");\n",
       "        }\n",
       "      }\n",
       "    }, 10, root)\n",
       "  }\n",
       "})(window);"
      ],
      "application/vnd.bokehjs_exec.v0+json": ""
     },
     "metadata": {
      "application/vnd.bokehjs_exec.v0+json": {
       "id": "p1172"
      }
     },
     "output_type": "display_data"
    }
   ],
   "source": [
    "#CODIGO DE REVISION HORA\n",
    "#dfpl = df_hora.iloc[500:970]\n",
    "dfpl = df_hora.iloc[0:150]\n",
    "\n",
    "p = figure(width=2500, height=500,\n",
    "        title=\"HORA\",\n",
    "        background_fill_color=\"#efefef\",\n",
    "        tooltips=[(\"Index\", \"@index\"), (\"Open\", \"@Open\"), (\"High\",\"@High\"), (\"Low\",\"@Low\"), (\"Close\",\"@Close\")]\n",
    "        )\n",
    "p.xaxis.major_label_orientation = 0.8 # radians\n",
    "p.x_range.range_padding = 0.05\n",
    "#p.xaxis.axis_line_join = \"bevel\" # radians\n",
    "p.xaxis.axis_line_width = 2\n",
    "\n",
    "p.segment(\"index\", \"High\", \"index\",\"Low\",  color=\"black\", line_width=1, source=dfpl)\n",
    "\n",
    "inc = dfpl.query(\"Close>Open\")\n",
    "dec = dfpl.query(\"Open>Close\")\n",
    "\n",
    "p.vbar(    \n",
    "    x=\"index\",\n",
    "    width=0.6,\n",
    "    bottom=\"Open\",\n",
    "    top=\"Close\",\n",
    "    fill_color=\"red\",\n",
    "    line_color=\"red\",    \n",
    "    source=dec   \n",
    ")\n",
    "\n",
    "\n",
    "p.vbar(    \n",
    "    x=\"index\",\n",
    "    width=0.6,\n",
    "    bottom=\"Open\",\n",
    "    top=\"Close\",\n",
    "    fill_color=\"green\",\n",
    "    line_color=\"green\", \n",
    "    source=inc   \n",
    ")\n",
    "\n",
    "p.scatter(x=\"index\", y=\"pivotHigh\", marker=\"circle\", size=10,\n",
    "           line_color=\"navy\", fill_color=\"blue\", alpha=0.5, legend_label=\"Cambio Tendencia Bajista\", source=dfpl[(dfpl.isPivot==1)])\n",
    "\n",
    "p.scatter(x=\"index\", y=\"pivotLow\", marker=\"circle\", size=10,\n",
    "           line_color=\"navy\", fill_color=\"green\", alpha=0.5, legend_label=\"Cambio Tendencia Alcista\", source=dfpl[(dfpl.isPivot==2)])\n",
    "\n",
    "show(p)"
   ]
  },
  {
   "cell_type": "code",
   "execution_count": 8,
   "id": "ead77d84-5ecc-41d2-9ea1-d0d128f2579c",
   "metadata": {
    "execution": {
     "iopub.execute_input": "2025-06-11T18:02:38.397984Z",
     "iopub.status.busy": "2025-06-11T18:02:38.397596Z",
     "iopub.status.idle": "2025-06-11T18:02:38.703044Z",
     "shell.execute_reply": "2025-06-11T18:02:38.702384Z"
    },
    "papermill": {
     "duration": 0.312428,
     "end_time": "2025-06-11T18:02:38.704295",
     "exception": false,
     "start_time": "2025-06-11T18:02:38.391867",
     "status": "completed"
    },
    "tags": []
   },
   "outputs": [],
   "source": [
    "## cerca a PM100 o PM200 en diario\n",
    "def zonabarata(df_dia):\n",
    "    if ((df_dia['isPivot']==2) & ((df_dia['Low']<=df_dia['SMA100']) | (df_dia['Low']<=df_dia['SMA200']))):\n",
    "    #if ((df_dia['isPivot']==2) & (( df_dia['SMA100']-df_dia['Low']<=0.5 ) | ( df_dia['SMA200']-df_dia['Low']<=0.5 ))):    \n",
    "        return 1\n",
    "    else:\n",
    "        return 0\n",
    "df_dia['zbarata'] = df_dia.apply(zonabarata, axis=1)"
   ]
  },
  {
   "cell_type": "code",
   "execution_count": 9,
   "id": "77db7f21-589a-4840-932a-5db339b0bc7d",
   "metadata": {
    "execution": {
     "iopub.execute_input": "2025-06-11T18:02:38.716035Z",
     "iopub.status.busy": "2025-06-11T18:02:38.715588Z",
     "iopub.status.idle": "2025-06-11T18:02:38.742839Z",
     "shell.execute_reply": "2025-06-11T18:02:38.742305Z"
    },
    "papermill": {
     "duration": 0.034244,
     "end_time": "2025-06-11T18:02:38.743978",
     "exception": false,
     "start_time": "2025-06-11T18:02:38.709734",
     "status": "completed"
    },
    "tags": []
   },
   "outputs": [],
   "source": [
    "df_hora_final = pd.merge(df_hora, df_dia[['fecha','companyName', 'zbarata']], on = ['companyName','fecha'], how='left')"
   ]
  },
  {
   "cell_type": "code",
   "execution_count": 10,
   "id": "fa9c01c4-3680-4dcb-adb4-01f6ad858abf",
   "metadata": {
    "execution": {
     "iopub.execute_input": "2025-06-11T18:02:38.755101Z",
     "iopub.status.busy": "2025-06-11T18:02:38.754816Z",
     "iopub.status.idle": "2025-06-11T18:02:39.817887Z",
     "shell.execute_reply": "2025-06-11T18:02:39.817313Z"
    },
    "papermill": {
     "duration": 1.069751,
     "end_time": "2025-06-11T18:02:39.819050",
     "exception": false,
     "start_time": "2025-06-11T18:02:38.749299",
     "status": "completed"
    },
    "tags": []
   },
   "outputs": [],
   "source": [
    "#df_hora_final[df_hora_final['zbarata']==1]\n",
    "def pga(df_hora_final):\n",
    "    if ((df_hora_final['zbarata']==1) & (df_hora_final['isPivot']==2)):\n",
    "        return 1\n",
    "    else:\n",
    "        return 0\n",
    "df_hora_final['pga'] = df_hora_final.apply(pga, axis=1)"
   ]
  },
  {
   "cell_type": "code",
   "execution_count": 11,
   "id": "186352f4-a1dd-442c-9e07-2704cb3bd441",
   "metadata": {
    "execution": {
     "iopub.execute_input": "2025-06-11T18:02:39.830754Z",
     "iopub.status.busy": "2025-06-11T18:02:39.830542Z",
     "iopub.status.idle": "2025-06-11T18:02:39.834144Z",
     "shell.execute_reply": "2025-06-11T18:02:39.833671Z"
    },
    "papermill": {
     "duration": 0.010514,
     "end_time": "2025-06-11T18:02:39.834925",
     "exception": false,
     "start_time": "2025-06-11T18:02:39.824411",
     "status": "completed"
    },
    "tags": []
   },
   "outputs": [],
   "source": [
    "df_hora_final['Vela_Verde'] = df_hora_final['Close'] > df_hora_final['Open']"
   ]
  },
  {
   "cell_type": "code",
   "execution_count": 12,
   "id": "e2cad690-304f-4625-98d9-f41fde7275c5",
   "metadata": {
    "execution": {
     "iopub.execute_input": "2025-06-11T18:02:39.846088Z",
     "iopub.status.busy": "2025-06-11T18:02:39.845658Z",
     "iopub.status.idle": "2025-06-11T18:02:58.751216Z",
     "shell.execute_reply": "2025-06-11T18:02:58.750611Z"
    },
    "papermill": {
     "duration": 18.912155,
     "end_time": "2025-06-11T18:02:58.752178",
     "exception": false,
     "start_time": "2025-06-11T18:02:39.840023",
     "status": "completed"
    },
    "tags": []
   },
   "outputs": [
    {
     "name": "stdout",
     "output_type": "stream",
     "text": [
      "posible caso: 539 SPY , fecha: 2023-10-03 00:00:00\n",
      "Procesando: 2023-10-03\n",
      "indice_i: 540 ,monto_ini: 420.6199951171875 ,indice_f: 541 ,monto_fin: 421.6700134277344\n",
      "Procesando: 2023-10-04\n",
      "indice_i: 542 ,monto_ini: 420.6195983886719 ,indice_f: 548 ,monto_fin: 424.7000122070313\n",
      "Procesando: 2023-10-05\n",
      "indice_i: 549 ,monto_ini: 423.4249877929688 ,indice_f: 555 ,monto_fin: 424.4599914550781\n",
      "posible caso: 665 SPY , fecha: 2023-10-27 00:00:00\n",
      "posible caso: 1997 SPY , fecha: 2024-08-05 00:00:00\n",
      "Procesando: 2024-08-05\n",
      "indice_i: 1998 ,monto_ini: 519.6799926757812 ,indice_f: 2003 ,monto_fin: 517.4099731445312\n",
      "Procesando: 2024-08-06\n",
      "indice_i: 2004 ,monto_ini: 522.9299926757812 ,indice_f: 2010 ,monto_fin: 522.1900024414062\n",
      "Procesando: 2024-08-07\n",
      "indice_i: 2011 ,monto_ini: 528.75 ,indice_f: 2017 ,monto_fin: 518.6500244140625\n",
      "posible caso: 3049 SPY , fecha: 2025-03-13 00:00:00\n"
     ]
    },
    {
     "name": "stdout",
     "output_type": "stream",
     "text": [
      "posible caso: 3178 SPY , fecha: 2025-04-08 00:00:00\n",
      "Procesando: 2025-04-09\n",
      "indice_i: 3179 ,monto_ini: 498.9700012207031 ,indice_f: 3185 ,monto_fin: 542.8400268554688\n",
      "Procesando: 2025-04-10\n",
      "indice_i: 3186 ,monto_ini: 528.1099853515625 ,indice_f: 3192 ,monto_fin: 524.7100219726562\n",
      "posible caso: 3232 SPY , fecha: 2025-04-21 00:00:00\n",
      "Procesando: 2025-04-21\n",
      "indice_i: 3233 ,monto_ini: 510.364990234375 ,indice_f: 3234 ,monto_fin: 513.969970703125\n",
      "Procesando: 2025-04-22\n",
      "indice_i: 3235 ,monto_ini: 523.0599975585938 ,indice_f: 3241 ,monto_fin: 526.969970703125\n",
      "Procesando: 2025-04-23\n",
      "indice_i: 3242 ,monto_ini: 543.8800048828125 ,indice_f: 3248 ,monto_fin: 535.3800048828125\n",
      "posible caso: 4197 META , fecha: 2023-10-26 00:00:00\n",
      "Procesando: 2023-10-26\n",
      "indice_i: 4198 ,monto_ini: 289.70001220703125 ,indice_f: 4200 ,monto_fin: 288.3399963378906\n",
      "Procesando: 2023-10-27\n",
      "indice_i: 4201 ,monto_ini: 296.2799987792969 ,indice_f: 4207 ,monto_fin: 296.739990234375\n",
      "Procesando: 2023-10-30\n",
      "indice_i: 4208 ,monto_ini: 303.6300048828125 ,indice_f: 4214 ,monto_fin: 302.739990234375\n",
      "Procesando: 2023-10-31\n",
      "indice_i: 4215 ,monto_ini: 300.5 ,indice_f: 4221 ,monto_fin: 301.239990234375\n",
      "posible caso: 5085 META , fecha: 2024-04-30 00:00:00\n"
     ]
    },
    {
     "name": "stdout",
     "output_type": "stream",
     "text": [
      "posible caso: 5488 META , fecha: 2024-07-25 00:00:00\n",
      "Procesando: 2024-07-25\n",
      "indice_i: 5489 ,monto_ini: 456.8500061035156 ,indice_f: 5494 ,monto_fin: 453.3999938964844\n",
      "Procesando: 2024-07-26\n",
      "indice_i: 5495 ,monto_ini: 463.1122131347656 ,indice_f: 5501 ,monto_fin: 465.8599853515625\n",
      "Procesando: 2024-07-29\n",
      "indice_i: 5502 ,monto_ini: 470.7749938964844 ,indice_f: 5508 ,monto_fin: 465.7999877929688\n",
      "posible caso: 5494 META , fecha: 2024-07-25 00:00:00\n",
      "posible caso: 6608 META , fecha: 2025-03-18 00:00:00\n",
      "Procesando: 2025-03-18\n",
      "indice_i: 6609 ,monto_ini: 579.6799926757812 ,indice_f: 6613 ,monto_fin: 582.4600219726562\n",
      "Procesando: 2025-03-19\n",
      "indice_i: 6614 ,monto_ini: 583.1168823242188 ,indice_f: 6620 ,monto_fin: 583.9500122070312\n",
      "Procesando: 2025-03-20\n",
      "indice_i: 6621 ,monto_ini: 604.868896484375 ,indice_f: 6627 ,monto_fin: 585.97998046875\n",
      "Procesando: 2025-03-21\n",
      "indice_i: 6628 ,monto_ini: 590.3499755859375 ,indice_f: 6634 ,monto_fin: 596.239990234375\n",
      "Procesando: 2025-03-24\n",
      "indice_i: 6635 ,monto_ini: 620.3250122070312 ,indice_f: 6641 ,monto_fin: 618.4099731445312\n",
      "Procesando: 2025-03-25\n",
      "indice_i: 6642 ,monto_ini: 629.2335815429688 ,indice_f: 6648 ,monto_fin: 626.2899780273438\n",
      "Procesando: 2025-03-26\n",
      "indice_i: 6649 ,monto_ini: 614.5800170898438 ,indice_f: 6655 ,monto_fin: 610.9290161132812\n",
      "posible caso: 6770 META , fecha: 2025-04-21 00:00:00\n",
      "Procesando: 2025-04-21\n",
      "indice_i: 6771 ,monto_ini: 483.5299987792969 ,indice_f: 6774 ,monto_fin: 484.4800109863281\n",
      "Procesando: 2025-04-22\n",
      "indice_i: 6775 ,monto_ini: 488.5849914550781 ,indice_f: 6781 ,monto_fin: 500.30999755859375\n",
      "Procesando: 2025-04-23\n",
      "indice_i: 6782 ,monto_ini: 530.0 ,indice_f: 6788 ,monto_fin: 520.010009765625\n"
     ]
    },
    {
     "name": "stdout",
     "output_type": "stream",
     "text": [
      "posible caso: 7518 AAPL , fecha: 2023-09-13 00:00:00\n",
      "posible caso: 7732 AAPL , fecha: 2023-10-26 00:00:00\n",
      "posible caso: 8066 AAPL , fecha: 2024-01-05 00:00:00\n",
      "Procesando: 2024-01-05\n",
      "indice_i: 8067 ,monto_ini: 181.1699981689453 ,indice_f: 8067 ,monto_fin: 181.1699981689453\n",
      "Procesando: 2024-01-08\n",
      "indice_i: 8068 ,monto_ini: 183.8099975585937 ,indice_f: 8074 ,monto_fin: 185.5500030517578\n",
      "Procesando: 2024-01-09\n",
      "indice_i: 8075 ,monto_ini: 183.5249938964844 ,indice_f: 8081 ,monto_fin: 185.1100006103516\n",
      "posible caso: 8110 AAPL , fecha: 2024-01-17 00:00:00\n",
      "Procesando: 2024-01-17\n",
      "indice_i: 8111 ,monto_ini: 181.80499267578125 ,indice_f: 8116 ,monto_fin: 182.6600036621093\n",
      "Procesando: 2024-01-18\n",
      "indice_i: 8117 ,monto_ini: 187.4501037597656 ,indice_f: 8123 ,monto_fin: 188.72999572753903\n",
      "Procesando: 2024-01-19\n",
      "indice_i: 8124 ,monto_ini: 189.94009399414065 ,indice_f: 8130 ,monto_fin: 191.5800018310547\n",
      "Procesando: 2024-01-22\n",
      "indice_i: 8131 ,monto_ini: 194.75 ,indice_f: 8137 ,monto_fin: 193.8699951171875\n",
      "Procesando: 2024-01-23\n",
      "indice_i: 8138 ,monto_ini: 194.19500732421875 ,indice_f: 8144 ,monto_fin: 195.1600036621093\n",
      "Procesando: 2024-01-24\n",
      "indice_i: 8145 ,monto_ini: 196.0 ,indice_f: 8151 ,monto_fin: 194.509994506836\n",
      "posible caso: 8355 AAPL , fecha: 2024-03-07 00:00:00\n",
      "Procesando: 2024-03-07\n",
      "indice_i: 8356 ,monto_ini: 169.27999877929688 ,indice_f: 8361 ,monto_fin: 168.97999572753906\n",
      "Procesando: 2024-03-08\n",
      "indice_i: 8362 ,monto_ini: 171.77999877929688 ,indice_f: 8368 ,monto_fin: 170.74000549316406\n",
      "Procesando: 2024-03-11\n",
      "indice_i: 8369 ,monto_ini: 173.35000610351562 ,indice_f: 8375 ,monto_fin: 172.7899932861328\n"
     ]
    },
    {
     "name": "stdout",
     "output_type": "stream",
     "text": [
      "posible caso: 8361 AAPL , fecha: 2024-03-07 00:00:00\n",
      "Procesando: 2024-03-08\n",
      "indice_i: 8362 ,monto_ini: 171.77999877929688 ,indice_f: 8368 ,monto_fin: 170.74000549316406\n",
      "Procesando: 2024-03-11\n",
      "indice_i: 8369 ,monto_ini: 173.35000610351562 ,indice_f: 8375 ,monto_fin: 172.7899932861328\n",
      "posible caso: 8522 AAPL , fecha: 2024-04-10 00:00:00\n",
      "Procesando: 2024-04-11\n",
      "indice_i: 8523 ,monto_ini: 168.72000122070312 ,indice_f: 8529 ,monto_fin: 175.0399932861328\n",
      "Procesando: 2024-04-12\n",
      "indice_i: 8530 ,monto_ini: 176.75 ,indice_f: 8536 ,monto_fin: 176.56500244140625\n",
      "Procesando: 2024-04-15\n",
      "indice_i: 8537 ,monto_ini: 174.8800048828125 ,indice_f: 8543 ,monto_fin: 172.68499755859375\n",
      "posible caso: 8567 AAPL , fecha: 2024-04-19 00:00:00\n",
      "Procesando: 2024-04-19\n",
      "indice_i: 8568 ,monto_ini: 164.9199981689453 ,indice_f: 8571 ,monto_fin: 164.92999267578125\n",
      "Procesando: 2024-04-22\n",
      "indice_i: 8572 ,monto_ini: 165.3699951171875 ,indice_f: 8578 ,monto_fin: 165.83999633789062\n",
      "Procesando: 2024-04-23\n",
      "indice_i: 8579 ,monto_ini: 165.82000732421875 ,indice_f: 8585 ,monto_fin: 166.91000366210938\n",
      "posible caso: 9522 AAPL , fecha: 2024-11-04 00:00:00\n",
      "Procesando: 2024-11-04\n",
      "indice_i: 9523 ,monto_ini: 222.0204925537109 ,indice_f: 9526 ,monto_fin: 222.1199951171875\n",
      "Procesando: 2024-11-05\n",
      "indice_i: 9527 ,monto_ini: 223.3191070556641 ,indice_f: 9533 ,monto_fin: 223.4499969482422\n",
      "Procesando: 2024-11-06\n",
      "indice_i: 9534 ,monto_ini: 225.6513061523437 ,indice_f: 9540 ,monto_fin: 222.6999969482422\n",
      "Procesando: 2024-11-07\n",
      "indice_i: 9541 ,monto_ini: 225.7335968017578 ,indice_f: 9547 ,monto_fin: 227.69000244140625\n",
      "Procesando: 2024-11-08\n",
      "indice_i: 9548 ,monto_ini: 227.4947052001953 ,indice_f: 9554 ,monto_fin: 227.1600036621093\n"
     ]
    },
    {
     "name": "stdout",
     "output_type": "stream",
     "text": [
      "posible caso: 9870 AAPL , fecha: 2025-01-21 00:00:00\n",
      "posible caso: 9966 AAPL , fecha: 2025-02-07 00:00:00\n",
      "Procesando: 2025-02-10\n",
      "indice_i: 9967 ,monto_ini: 229.8661956787109 ,indice_f: 9973 ,monto_fin: 227.63999938964844\n",
      "Procesando: 2025-02-11\n",
      "indice_i: 9974 ,monto_ini: 233.33999633789065 ,indice_f: 9980 ,monto_fin: 232.7700042724609\n",
      "Procesando: 2025-02-12\n",
      "indice_i: 9981 ,monto_ini: 233.60499572753903 ,indice_f: 9987 ,monto_fin: 236.88999938964844\n",
      "Procesando: 2025-02-13\n",
      "indice_i: 9988 ,monto_ini: 237.8800048828125 ,indice_f: 9994 ,monto_fin: 241.5200042724609\n",
      "Procesando: 2025-02-14\n",
      "indice_i: 9995 ,monto_ini: 244.3800048828125 ,indice_f: 10001 ,monto_fin: 244.57000732421875\n",
      "Procesando: 2025-02-18\n",
      "indice_i: 10002 ,monto_ini: 244.0904998779297 ,indice_f: 10008 ,monto_fin: 244.47000122070312\n",
      "posible caso: 10127 AAPL , fecha: 2025-03-13 00:00:00\n",
      "posible caso: 10253 AAPL , fecha: 2025-04-08 00:00:00\n",
      "Procesando: 2025-04-09\n",
      "indice_i: 10254 ,monto_ini: 178.41180419921875 ,indice_f: 10260 ,monto_fin: 198.8500061035156\n",
      "Procesando: 2025-04-10\n",
      "indice_i: 10261 ,monto_ini: 192.1450042724609 ,indice_f: 10267 ,monto_fin: 190.44000244140625\n",
      "posible caso: 10306 AAPL , fecha: 2025-04-21 00:00:00\n",
      "Procesando: 2025-04-21\n",
      "indice_i: 10307 ,monto_ini: 190.82000732421875 ,indice_f: 10309 ,monto_fin: 193.08999633789065\n",
      "Procesando: 2025-04-22\n",
      "indice_i: 10310 ,monto_ini: 198.01499938964844 ,indice_f: 10316 ,monto_fin: 199.6600036621093\n",
      "Procesando: 2025-04-23\n",
      "indice_i: 10317 ,monto_ini: 206.80499267578125 ,indice_f: 10323 ,monto_fin: 204.3600006103516\n",
      "posible caso: 10391 AAPL , fecha: 2025-05-07 00:00:00\n",
      "Procesando: 2025-05-07\n",
      "indice_i: 10392 ,monto_ini: 194.32000732421875 ,indice_f: 10393 ,monto_fin: 196.25\n",
      "Procesando: 2025-05-08\n",
      "indice_i: 10394 ,monto_ini: 195.82000732421875 ,indice_f: 10400 ,monto_fin: 197.3999938964844\n",
      "Procesando: 2025-05-09\n",
      "indice_i: 10401 ,monto_ini: 198.360107421875 ,indice_f: 10407 ,monto_fin: 198.5399932861328\n",
      "Procesando: 2025-05-12\n",
      "indice_i: 10408 ,monto_ini: 209.1600036621093 ,indice_f: 10414 ,monto_fin: 210.8300018310547\n",
      "Procesando: 2025-05-13\n",
      "indice_i: 10415 ,monto_ini: 211.4499969482422 ,indice_f: 10421 ,monto_fin: 212.83999633789065\n",
      "Procesando: 2025-05-14\n",
      "indice_i: 10422 ,monto_ini: 213.2899932861328 ,indice_f: 10428 ,monto_fin: 212.4100036621093\n"
     ]
    },
    {
     "name": "stdout",
     "output_type": "stream",
     "text": [
      "posible caso: 10477 AAPL , fecha: 2025-05-23 00:00:00\n",
      "Procesando: 2025-05-27\n",
      "indice_i: 10478 ,monto_ini: 198.3500061035156 ,indice_f: 10484 ,monto_fin: 200.1999969482422\n",
      "Procesando: 2025-05-28\n",
      "indice_i: 10485 ,monto_ini: 200.75 ,indice_f: 10491 ,monto_fin: 200.4199981689453\n",
      "Procesando: 2025-05-29\n",
      "indice_i: 10492 ,monto_ini: 201.13999938964844 ,indice_f: 10498 ,monto_fin: 199.9499969482422\n",
      "posible caso: 11150 AMZN , fecha: 2023-10-03 00:00:00\n",
      "posible caso: 11267 AMZN , fecha: 2023-10-26 00:00:00\n",
      "Procesando: 2023-10-26\n",
      "indice_i: 11268 ,monto_ini: 119.98999786376952 ,indice_f: 11270 ,monto_fin: 119.66000366210938\n",
      "Procesando: 2023-10-27\n",
      "indice_i: 11271 ,monto_ini: 129.02499389648438 ,indice_f: 11277 ,monto_fin: 127.7699966430664\n",
      "Procesando: 2023-10-30\n",
      "indice_i: 11278 ,monto_ini: 130.77499389648438 ,indice_f: 11284 ,monto_fin: 132.7100067138672\n",
      "Procesando: 2023-10-31\n",
      "indice_i: 11285 ,monto_ini: 133.0749969482422 ,indice_f: 11291 ,monto_fin: 133.07000732421875\n",
      "Procesando: 2023-11-01\n",
      "indice_i: 11292 ,monto_ini: 135.5200958251953 ,indice_f: 11298 ,monto_fin: 137.00999450683594\n",
      "Procesando: 2023-11-02\n",
      "indice_i: 11299 ,monto_ini: 137.24000549316406 ,indice_f: 11305 ,monto_fin: 138.10000610351562\n",
      "Procesando: 2023-11-03\n",
      "indice_i: 11306 ,monto_ini: 137.8300018310547 ,indice_f: 11312 ,monto_fin: 138.57000732421875\n",
      "posible caso: 12307 AMZN , fecha: 2024-05-31 00:00:00\n"
     ]
    },
    {
     "name": "stdout",
     "output_type": "stream",
     "text": [
      "posible caso: 12558 AMZN , fecha: 2024-07-25 00:00:00\n",
      "Procesando: 2024-07-25\n",
      "indice_i: 12559 ,monto_ini: 181.9199981689453 ,indice_f: 12564 ,monto_fin: 179.85000610351562\n",
      "Procesando: 2024-07-26\n",
      "indice_i: 12565 ,monto_ini: 181.77999877929688 ,indice_f: 12571 ,monto_fin: 182.5500030517578\n",
      "Procesando: 2024-07-29\n",
      "indice_i: 12572 ,monto_ini: 183.3600006103516 ,indice_f: 12578 ,monto_fin: 183.2100067138672\n",
      "Procesando: 2024-07-30\n",
      "indice_i: 12579 ,monto_ini: 183.97000122070312 ,indice_f: 12585 ,monto_fin: 181.6999969482422\n",
      "posible caso: 12564 AMZN , fecha: 2024-07-25 00:00:00\n",
      "Procesando: 2024-07-26\n",
      "indice_i: 12565 ,monto_ini: 181.77999877929688 ,indice_f: 12571 ,monto_fin: 182.5500030517578\n",
      "Procesando: 2024-07-29\n",
      "indice_i: 12572 ,monto_ini: 183.3600006103516 ,indice_f: 12578 ,monto_fin: 183.2100067138672\n",
      "Procesando: 2024-07-30\n",
      "indice_i: 12579 ,monto_ini: 183.97000122070312 ,indice_f: 12585 ,monto_fin: 181.6999969482422\n",
      "posible caso: 12607 AMZN , fecha: 2024-08-05 00:00:00\n",
      "Procesando: 2024-08-05\n",
      "indice_i: 12608 ,monto_ini: 162.28500366210938 ,indice_f: 12613 ,monto_fin: 161.0399932861328\n",
      "Procesando: 2024-08-06\n",
      "indice_i: 12614 ,monto_ini: 160.72799682617188 ,indice_f: 12620 ,monto_fin: 161.91000366210938\n",
      "posible caso: 12730 AMZN , fecha: 2024-08-28 00:00:00\n",
      "Procesando: 2024-08-28\n",
      "indice_i: 12731 ,monto_ini: 170.6199951171875 ,indice_f: 12732 ,monto_fin: 170.7899932861328\n",
      "Procesando: 2024-08-29\n",
      "indice_i: 12733 ,monto_ini: 172.9163055419922 ,indice_f: 12739 ,monto_fin: 172.1300048828125\n",
      "posible caso: 12774 AMZN , fecha: 2024-09-06 00:00:00\n",
      "posible caso: 12920 AMZN , fecha: 2024-10-07 00:00:00\n",
      "Procesando: 2024-10-07\n",
      "indice_i: 12921 ,monto_ini: 180.88999938964844 ,indice_f: 12921 ,monto_fin: 180.88999938964844\n",
      "Procesando: 2024-10-08\n",
      "indice_i: 12922 ,monto_ini: 182.13999938964844 ,indice_f: 12928 ,monto_fin: 182.6699981689453\n",
      "Procesando: 2024-10-09\n",
      "indice_i: 12929 ,monto_ini: 183.72000122070312 ,indice_f: 12935 ,monto_fin: 185.17999267578125\n",
      "Procesando: 2024-10-10\n",
      "indice_i: 12936 ,monto_ini: 186.7250061035156 ,indice_f: 12942 ,monto_fin: 186.6600036621093\n",
      "posible caso: 13003 AMZN , fecha: 2024-10-23 00:00:00\n",
      "Procesando: 2024-10-23\n",
      "indice_i: 13004 ,monto_ini: 184.6100006103516 ,indice_f: 13005 ,monto_fin: 184.72999572753903\n",
      "Procesando: 2024-10-24\n",
      "indice_i: 13006 ,monto_ini: 186.0050048828125 ,indice_f: 13012 ,monto_fin: 186.3800048828125\n",
      "Procesando: 2024-10-25\n",
      "indice_i: 13013 ,monto_ini: 190.2749938964844 ,indice_f: 13019 ,monto_fin: 187.82000732421875\n"
     ]
    },
    {
     "name": "stdout",
     "output_type": "stream",
     "text": [
      "posible caso: 13677 AMZN , fecha: 2025-03-18 00:00:00\n",
      "Procesando: 2025-03-18\n",
      "indice_i: 13678 ,monto_ini: 191.72000122070312 ,indice_f: 13683 ,monto_fin: 192.9100036621093\n",
      "Procesando: 2025-03-19\n",
      "indice_i: 13684 ,monto_ini: 193.47999572753903 ,indice_f: 13690 ,monto_fin: 195.5200042724609\n",
      "Procesando: 2025-03-20\n",
      "indice_i: 13691 ,monto_ini: 197.8099975585937 ,indice_f: 13697 ,monto_fin: 194.9499969482422\n",
      "Procesando: 2025-03-21\n",
      "indice_i: 13698 ,monto_ini: 195.15499877929688 ,indice_f: 13704 ,monto_fin: 196.22000122070312\n",
      "Procesando: 2025-03-24\n",
      "indice_i: 13705 ,monto_ini: 202.7935943603516 ,indice_f: 13711 ,monto_fin: 203.02999877929688\n",
      "Procesando: 2025-03-25\n",
      "indice_i: 13712 ,monto_ini: 205.13999938964844 ,indice_f: 13718 ,monto_fin: 205.6999969482422\n",
      "Procesando: 2025-03-26\n",
      "indice_i: 13719 ,monto_ini: 202.7001037597656 ,indice_f: 13725 ,monto_fin: 201.1479949951172\n",
      "posible caso: 13788 AMZN , fecha: 2025-04-08 00:00:00\n",
      "Procesando: 2025-04-09\n",
      "indice_i: 13789 ,monto_ini: 173.60499572753906 ,indice_f: 13795 ,monto_fin: 190.9499969482422\n",
      "Procesando: 2025-04-10\n",
      "indice_i: 13796 ,monto_ini: 184.59500122070312 ,indice_f: 13802 ,monto_fin: 181.0399932861328\n",
      "posible caso: 13841 AMZN , fecha: 2025-04-21 00:00:00\n",
      "posible caso: 14007 AMZN , fecha: 2025-05-23 00:00:00\n",
      "Procesando: 2025-05-23\n",
      "indice_i: 14008 ,monto_ini: 201.2400054931641 ,indice_f: 14012 ,monto_fin: 200.9900054931641\n",
      "Procesando: 2025-05-27\n",
      "indice_i: 14013 ,monto_ini: 205.0200042724609 ,indice_f: 14019 ,monto_fin: 205.9949951171875\n",
      "Procesando: 2025-05-28\n",
      "indice_i: 14020 ,monto_ini: 205.6100006103516 ,indice_f: 14026 ,monto_fin: 204.7949981689453\n",
      "posible caso: 14762 NFLX , fecha: 2023-10-18 00:00:00\n",
      "Procesando: 2023-10-18\n",
      "indice_i: 14763 ,monto_ini: 346.17999267578125 ,indice_f: 14763 ,monto_fin: 346.17999267578125\n",
      "Procesando: 2023-10-19\n",
      "indice_i: 14764 ,monto_ini: 400.0 ,indice_f: 14770 ,monto_fin: 401.739990234375\n",
      "Procesando: 2023-10-20\n",
      "indice_i: 14771 ,monto_ini: 403.7699890136719 ,indice_f: 14777 ,monto_fin: 400.7999877929688\n",
      "posible caso: 14810 NFLX , fecha: 2023-10-27 00:00:00\n",
      "Procesando: 2023-10-27\n",
      "indice_i: 14811 ,monto_ini: 399.0950012207031 ,indice_f: 14812 ,monto_fin: 397.8699951171875\n",
      "Procesando: 2023-10-30\n",
      "indice_i: 14813 ,monto_ini: 404.8699951171875 ,indice_f: 14819 ,monto_fin: 410.0799865722656\n",
      "Procesando: 2023-10-31\n",
      "indice_i: 14820 ,monto_ini: 406.6099853515625 ,indice_f: 14826 ,monto_fin: 411.6499938964844\n"
     ]
    },
    {
     "name": "stdout",
     "output_type": "stream",
     "text": [
      "posible caso: 15642 NFLX , fecha: 2024-04-22 00:00:00\n",
      "Procesando: 2024-04-22\n",
      "indice_i: 15643 ,monto_ini: 553.469970703125 ,indice_f: 15648 ,monto_fin: 554.6099853515625\n",
      "Procesando: 2024-04-23\n",
      "indice_i: 15649 ,monto_ini: 566.6790161132812 ,indice_f: 15655 ,monto_fin: 577.760009765625\n",
      "Procesando: 2024-04-24\n",
      "indice_i: 15656 ,monto_ini: 559.0999755859375 ,indice_f: 15662 ,monto_fin: 555.0999755859375\n",
      "posible caso: 16146 NFLX , fecha: 2024-08-05 00:00:00\n",
      "posible caso: 17174 NFLX , fecha: 2025-03-10 00:00:00\n",
      "Procesando: 2025-03-10\n",
      "indice_i: 17175 ,monto_ini: 865.7550048828125 ,indice_f: 17176 ,monto_fin: 866.4299926757812\n",
      "Procesando: 2025-03-11\n",
      "indice_i: 17177 ,monto_ini: 879.1300048828125 ,indice_f: 17183 ,monto_fin: 894.7899780273438\n",
      "Procesando: 2025-03-12\n",
      "indice_i: 17184 ,monto_ini: 917.7550048828124 ,indice_f: 17190 ,monto_fin: 919.4299926757812\n",
      "Procesando: 2025-03-13\n",
      "indice_i: 17191 ,monto_ini: 908.010009765625 ,indice_f: 17197 ,monto_fin: 889.5900268554688\n",
      "posible caso: 17730 MRNA , fecha: 2023-06-23 00:00:00\n",
      "Procesando: 2023-06-23\n",
      "indice_i: 17731 ,monto_ini: 118.3000030517578 ,indice_f: 17735 ,monto_fin: 118.51000213623048\n",
      "Procesando: 2023-06-26\n",
      "indice_i: 17736 ,monto_ini: 120.94499969482422 ,indice_f: 17742 ,monto_fin: 120.41000366210938\n",
      "Procesando: 2023-06-27\n",
      "indice_i: 17743 ,monto_ini: 118.97000122070312 ,indice_f: 17749 ,monto_fin: 120.6999969482422\n"
     ]
    },
    {
     "name": "stdout",
     "output_type": "stream",
     "text": [
      "posible caso: 17783 MRNA , fecha: 2023-07-06 00:00:00\n",
      "Procesando: 2023-07-06\n",
      "indice_i: 17784 ,monto_ini: 118.0999984741211 ,indice_f: 17787 ,monto_fin: 118.29000091552734\n",
      "Procesando: 2023-07-07\n",
      "indice_i: 17788 ,monto_ini: 119.45570373535156 ,indice_f: 17794 ,monto_fin: 118.87999725341795\n",
      "Procesando: 2023-07-10\n",
      "indice_i: 17795 ,monto_ini: 121.6050033569336 ,indice_f: 17801 ,monto_fin: 123.11000061035156\n",
      "Procesando: 2023-07-11\n",
      "indice_i: 17802 ,monto_ini: 122.30999755859376 ,indice_f: 17808 ,monto_fin: 122.12000274658205\n",
      "posible caso: 18722 MRNA , fecha: 2024-01-18 00:00:00\n",
      "Procesando: 2024-01-18\n",
      "indice_i: 18723 ,monto_ini: 98.43990325927734 ,indice_f: 18728 ,monto_fin: 99.0999984741211\n",
      "Procesando: 2024-01-19\n",
      "indice_i: 18729 ,monto_ini: 99.0999984741211 ,indice_f: 18735 ,monto_fin: 99.70999908447266\n",
      "Procesando: 2024-01-22\n",
      "indice_i: 18736 ,monto_ini: 100.5 ,indice_f: 18742 ,monto_fin: 99.7300033569336\n",
      "Procesando: 2024-01-23\n",
      "indice_i: 18743 ,monto_ini: 101.12000274658205 ,indice_f: 18749 ,monto_fin: 101.97000122070312\n",
      "Procesando: 2024-01-24\n",
      "indice_i: 18750 ,monto_ini: 102.77999877929688 ,indice_f: 18756 ,monto_fin: 101.05999755859376\n",
      "posible caso: 18853 MRNA , fecha: 2024-02-13 00:00:00\n",
      "Procesando: 2024-02-13\n",
      "indice_i: 18854 ,monto_ini: 85.33999633789062 ,indice_f: 18854 ,monto_fin: 85.33999633789062\n",
      "Procesando: 2024-02-14\n",
      "indice_i: 18855 ,monto_ini: 84.9000015258789 ,indice_f: 18861 ,monto_fin: 85.94999694824219\n",
      "posible caso: 18931 MRNA , fecha: 2024-02-29 00:00:00\n",
      "posible caso: 19023 MRNA , fecha: 2024-03-20 00:00:00\n",
      "Procesando: 2024-03-20\n",
      "indice_i: 19024 ,monto_ini: 102.26809692382812 ,indice_f: 19029 ,monto_fin: 103.08000183105467\n",
      "Procesando: 2024-03-21\n",
      "indice_i: 19030 ,monto_ini: 104.93000030517578 ,indice_f: 19036 ,monto_fin: 104.08000183105467\n",
      "Procesando: 2024-03-22\n",
      "indice_i: 19037 ,monto_ini: 104.79000091552734 ,indice_f: 19043 ,monto_fin: 105.4000015258789\n",
      "Procesando: 2024-03-25\n",
      "indice_i: 19044 ,monto_ini: 108.12999725341795 ,indice_f: 19050 ,monto_fin: 110.37000274658205\n",
      "Procesando: 2024-03-26\n",
      "indice_i: 19051 ,monto_ini: 108.88999938964844 ,indice_f: 19057 ,monto_fin: 107.37000274658205\n"
     ]
    },
    {
     "name": "stdout",
     "output_type": "stream",
     "text": [
      "posible caso: 19089 MRNA , fecha: 2024-04-03 00:00:00\n",
      "Procesando: 2024-04-03\n",
      "indice_i: 19090 ,monto_ini: 100.5967025756836 ,indice_f: 19092 ,monto_fin: 101.1999969482422\n",
      "Procesando: 2024-04-04\n",
      "indice_i: 19093 ,monto_ini: 102.37000274658205 ,indice_f: 19099 ,monto_fin: 102.26000213623048\n",
      "Procesando: 2024-04-05\n",
      "indice_i: 19100 ,monto_ini: 102.0615005493164 ,indice_f: 19106 ,monto_fin: 102.83000183105467\n",
      "posible caso: 19622 MRNA , fecha: 2024-07-24 00:00:00\n",
      "posible caso: 19717 MRNA , fecha: 2024-08-12 00:00:00\n",
      "posible caso: 20080 MRNA , fecha: 2024-10-24 00:00:00\n",
      "posible caso: 20190 MRNA , fecha: 2024-11-15 00:00:00\n",
      "posible caso: 20383 MRNA , fecha: 2024-12-30 00:00:00\n",
      "posible caso: 20461 MRNA , fecha: 2025-01-16 00:00:00\n",
      "Procesando: 2025-01-16\n",
      "indice_i: 20462 ,monto_ini: 33.53689956665039 ,indice_f: 20466 ,monto_fin: 33.7400016784668\n",
      "Procesando: 2025-01-17\n",
      "indice_i: 20467 ,monto_ini: 34.30080032348633 ,indice_f: 20473 ,monto_fin: 34.060001373291016\n",
      "Procesando: 2025-01-21\n",
      "indice_i: 20474 ,monto_ini: 36.310001373291016 ,indice_f: 20480 ,monto_fin: 35.88999938964844\n",
      "Procesando: 2025-01-22\n",
      "indice_i: 20481 ,monto_ini: 39.255001068115234 ,indice_f: 20487 ,monto_fin: 38.5\n",
      "Procesando: 2025-01-23\n",
      "indice_i: 20488 ,monto_ini: 37.91999816894531 ,indice_f: 20494 ,monto_fin: 42.400001525878906\n",
      "posible caso: 20590 MRNA , fecha: 2025-02-12 00:00:00\n",
      "Procesando: 2025-02-12\n",
      "indice_i: 20591 ,monto_ini: 30.51499938964844 ,indice_f: 20592 ,monto_fin: 30.540000915527344\n",
      "Procesando: 2025-02-13\n",
      "indice_i: 20593 ,monto_ini: 30.56999969482422 ,indice_f: 20599 ,monto_fin: 31.950000762939453\n",
      "Procesando: 2025-02-14\n",
      "indice_i: 20600 ,monto_ini: 32.40999984741211 ,indice_f: 20606 ,monto_fin: 33.0\n",
      "Procesando: 2025-02-18\n",
      "indice_i: 20607 ,monto_ini: 34.935001373291016 ,indice_f: 20613 ,monto_fin: 35.75\n",
      "Procesando: 2025-02-19\n",
      "indice_i: 20614 ,monto_ini: 36.525001525878906 ,indice_f: 20620 ,monto_fin: 35.890098571777344\n",
      "Procesando: 2025-02-20\n",
      "indice_i: 20621 ,monto_ini: 34.56999969482422 ,indice_f: 20627 ,monto_fin: 33.75\n"
     ]
    },
    {
     "name": "stdout",
     "output_type": "stream",
     "text": [
      "posible caso: 20868 MRNA , fecha: 2025-04-10 00:00:00\n",
      "Procesando: 2025-04-10\n",
      "indice_i: 20869 ,monto_ini: 24.09499931335449 ,indice_f: 20872 ,monto_fin: 24.479999542236328\n",
      "Procesando: 2025-04-11\n",
      "indice_i: 20873 ,monto_ini: 25.07010078430176 ,indice_f: 20879 ,monto_fin: 26.14999961853028\n",
      "Procesando: 2025-04-14\n",
      "indice_i: 20880 ,monto_ini: 26.809999465942383 ,indice_f: 20886 ,monto_fin: 26.795000076293945\n",
      "Procesando: 2025-04-15\n",
      "indice_i: 20887 ,monto_ini: 26.420000076293945 ,indice_f: 20893 ,monto_fin: 26.25\n",
      "posible caso: 21038 MRNA , fecha: 2025-05-15 00:00:00\n",
      "Procesando: 2025-05-15\n",
      "indice_i: 21039 ,monto_ini: 23.51499938964844 ,indice_f: 21040 ,monto_fin: 23.64999961853028\n",
      "Procesando: 2025-05-16\n",
      "indice_i: 21041 ,monto_ini: 24.540000915527344 ,indice_f: 21047 ,monto_fin: 24.854999542236328\n",
      "Procesando: 2025-05-19\n",
      "indice_i: 21048 ,monto_ini: 25.690000534057617 ,indice_f: 21054 ,monto_fin: 26.39999961853028\n",
      "Procesando: 2025-05-20\n",
      "indice_i: 21055 ,monto_ini: 27.27910041809082 ,indice_f: 21061 ,monto_fin: 28.0\n",
      "Procesando: 2025-05-21\n",
      "indice_i: 21062 ,monto_ini: 26.875 ,indice_f: 21068 ,monto_fin: 25.82999992370605\n",
      "posible caso: 21154 MRNA , fecha: 2025-06-05 00:00:00\n",
      "posible caso: 21534 TSLA , fecha: 2023-08-18 00:00:00\n",
      "posible caso: 21725 TSLA , fecha: 2023-09-27 00:00:00\n",
      "Procesando: 2023-09-27\n",
      "indice_i: 21726 ,monto_ini: 238.0601043701172 ,indice_f: 21728 ,monto_fin: 240.47999572753903\n",
      "Procesando: 2023-09-28\n",
      "indice_i: 21729 ,monto_ini: 239.6199951171875 ,indice_f: 21735 ,monto_fin: 246.3699951171875\n",
      "posible caso: 21887 TSLA , fecha: 2023-10-30 00:00:00\n",
      "posible caso: 22048 TSLA , fecha: 2023-12-04 00:00:00\n",
      "Procesando: 2023-12-04\n",
      "indice_i: 22049 ,monto_ini: 237.1699981689453 ,indice_f: 22053 ,monto_fin: 235.5599975585937\n",
      "Procesando: 2023-12-05\n",
      "indice_i: 22054 ,monto_ini: 242.1000061035156 ,indice_f: 22060 ,monto_fin: 238.7301025390625\n",
      "Procesando: 2023-12-06\n",
      "indice_i: 22061 ,monto_ini: 242.02999877929688 ,indice_f: 22067 ,monto_fin: 239.4120941162109\n"
     ]
    },
    {
     "name": "stdout",
     "output_type": "stream",
     "text": [
      "posible caso: 22294 TSLA , fecha: 2024-01-25 00:00:00\n",
      "posible caso: 22342 TSLA , fecha: 2024-02-05 00:00:00\n",
      "Procesando: 2024-02-05\n",
      "indice_i: 22343 ,monto_ini: 180.3571014404297 ,indice_f: 22347 ,monto_fin: 181.02999877929688\n",
      "Procesando: 2024-02-06\n",
      "indice_i: 22348 ,monto_ini: 182.86990356445312 ,indice_f: 22354 ,monto_fin: 185.1000061035156\n",
      "Procesando: 2024-02-07\n",
      "indice_i: 22355 ,monto_ini: 186.19000244140625 ,indice_f: 22361 ,monto_fin: 187.6699066162109\n",
      "Procesando: 2024-02-08\n",
      "indice_i: 22362 ,monto_ini: 188.159896850586 ,indice_f: 22368 ,monto_fin: 189.47999572753903\n",
      "Procesando: 2024-02-09\n",
      "indice_i: 22369 ,monto_ini: 193.5599975585937 ,indice_f: 22375 ,monto_fin: 193.57000732421875\n",
      "Procesando: 2024-02-12\n",
      "indice_i: 22376 ,monto_ini: 192.56500244140625 ,indice_f: 22382 ,monto_fin: 187.97999572753903\n",
      "posible caso: 22388 TSLA , fecha: 2024-02-13 00:00:00\n",
      "Procesando: 2024-02-13\n",
      "indice_i: 22389 ,monto_ini: 184.009994506836 ,indice_f: 22389 ,monto_fin: 184.009994506836\n",
      "Procesando: 2024-02-14\n",
      "indice_i: 22390 ,monto_ini: 186.0800018310547 ,indice_f: 22396 ,monto_fin: 188.72000122070312\n",
      "Procesando: 2024-02-15\n",
      "indice_i: 22397 ,monto_ini: 195.1600036621093 ,indice_f: 22403 ,monto_fin: 200.4900054931641\n",
      "Procesando: 2024-02-16\n",
      "indice_i: 22404 ,monto_ini: 199.1100006103516 ,indice_f: 22410 ,monto_fin: 199.94000244140625\n",
      "posible caso: 22438 TSLA , fecha: 2024-02-23 00:00:00\n",
      "Procesando: 2024-02-26\n",
      "indice_i: 22439 ,monto_ini: 197.7100067138672 ,indice_f: 22445 ,monto_fin: 199.3500061035156\n",
      "Procesando: 2024-02-27\n",
      "indice_i: 22446 ,monto_ini: 202.49850463867188 ,indice_f: 22452 ,monto_fin: 199.72000122070312\n",
      "posible caso: 22535 TSLA , fecha: 2024-03-14 00:00:00\n",
      "Procesando: 2024-03-14\n",
      "indice_i: 22536 ,monto_ini: 162.47999572753906 ,indice_f: 22536 ,monto_fin: 162.47999572753906\n",
      "Procesando: 2024-03-15\n",
      "indice_i: 22537 ,monto_ini: 162.9199981689453 ,indice_f: 22543 ,monto_fin: 163.58999633789062\n",
      "Procesando: 2024-03-18\n",
      "indice_i: 22544 ,monto_ini: 171.14999389648438 ,indice_f: 22550 ,monto_fin: 173.94000244140625\n",
      "Procesando: 2024-03-19\n",
      "indice_i: 22551 ,monto_ini: 169.36000061035156 ,indice_f: 22557 ,monto_fin: 171.30999755859375\n"
     ]
    },
    {
     "name": "stdout",
     "output_type": "stream",
     "text": [
      "posible caso: 22636 TSLA , fecha: 2024-04-05 00:00:00\n",
      "posible caso: 22713 TSLA , fecha: 2024-04-22 00:00:00\n",
      "Procesando: 2024-04-22\n",
      "indice_i: 22714 ,monto_ini: 142.1342010498047 ,indice_f: 22718 ,monto_fin: 142.02999877929688\n",
      "Procesando: 2024-04-23\n",
      "indice_i: 22719 ,monto_ini: 144.75999450683594 ,indice_f: 22725 ,monto_fin: 144.8699951171875\n",
      "Procesando: 2024-04-24\n",
      "indice_i: 22726 ,monto_ini: 164.58299255371094 ,indice_f: 22732 ,monto_fin: 162.17999267578125\n",
      "Procesando: 2024-04-25\n",
      "indice_i: 22733 ,monto_ini: 165.49000549316406 ,indice_f: 22739 ,monto_fin: 170.30999755859375\n",
      "Procesando: 2024-04-26\n",
      "indice_i: 22740 ,monto_ini: 168.40310668945312 ,indice_f: 22746 ,monto_fin: 168.2899932861328\n",
      "posible caso: 22812 TSLA , fecha: 2024-05-10 00:00:00\n",
      "Procesando: 2024-05-10\n",
      "indice_i: 22813 ,monto_ini: 168.6199951171875 ,indice_f: 22816 ,monto_fin: 168.4600067138672\n",
      "Procesando: 2024-05-13\n",
      "indice_i: 22817 ,monto_ini: 174.4801025390625 ,indice_f: 22823 ,monto_fin: 171.9199981689453\n",
      "Procesando: 2024-05-14\n",
      "indice_i: 22824 ,monto_ini: 176.10989379882812 ,indice_f: 22830 ,monto_fin: 177.61000061035156\n",
      "Procesando: 2024-05-15\n",
      "indice_i: 22831 ,monto_ini: 173.2100067138672 ,indice_f: 22837 ,monto_fin: 174.08990478515625\n",
      "posible caso: 22877 TSLA , fecha: 2024-05-23 00:00:00\n",
      "posible caso: 22959 TSLA , fecha: 2024-06-11 00:00:00\n",
      "Procesando: 2024-06-11\n",
      "indice_i: 22960 ,monto_ini: 168.67999267578125 ,indice_f: 22963 ,monto_fin: 170.5800018310547\n",
      "Procesando: 2024-06-12\n",
      "indice_i: 22964 ,monto_ini: 175.88999938964844 ,indice_f: 22970 ,monto_fin: 177.19000244140625\n",
      "Procesando: 2024-06-13\n",
      "indice_i: 22971 ,monto_ini: 185.0599975585937 ,indice_f: 22977 ,monto_fin: 182.5601959228516\n",
      "posible caso: 23232 TSLA , fecha: 2024-08-07 00:00:00\n",
      "Procesando: 2024-08-08\n",
      "indice_i: 23233 ,monto_ini: 197.3999938964844 ,indice_f: 23239 ,monto_fin: 199.01739501953125\n",
      "Procesando: 2024-08-09\n",
      "indice_i: 23240 ,monto_ini: 196.1000061035156 ,indice_f: 23246 ,monto_fin: 200.02999877929688\n"
     ]
    },
    {
     "name": "stdout",
     "output_type": "stream",
     "text": [
      "posible caso: 23335 TSLA , fecha: 2024-08-28 00:00:00\n",
      "Procesando: 2024-08-28\n",
      "indice_i: 23336 ,monto_ini: 205.4199981689453 ,indice_f: 23337 ,monto_fin: 205.5500030517578\n",
      "Procesando: 2024-08-29\n",
      "indice_i: 23338 ,monto_ini: 211.5057067871093 ,indice_f: 23344 ,monto_fin: 206.28250122070312\n",
      "posible caso: 23607 TSLA , fecha: 2024-10-23 00:00:00\n",
      "posible caso: 24119 TSLA , fecha: 2025-02-11 00:00:00\n",
      "posible caso: 24245 TSLA , fecha: 2025-03-10 00:00:00\n",
      "posible caso: 24282 TSLA , fecha: 2025-03-18 00:00:00\n",
      "Procesando: 2025-03-18\n",
      "indice_i: 24283 ,monto_ini: 227.9199981689453 ,indice_f: 24288 ,monto_fin: 225.47999572753903\n",
      "Procesando: 2025-03-19\n",
      "indice_i: 24289 ,monto_ini: 231.3332977294922 ,indice_f: 24295 ,monto_fin: 235.72999572753903\n",
      "Procesando: 2025-03-20\n",
      "indice_i: 24296 ,monto_ini: 236.5399932861328 ,indice_f: 24302 ,monto_fin: 236.25\n",
      "Procesando: 2025-03-21\n",
      "indice_i: 24303 ,monto_ini: 238.92990112304688 ,indice_f: 24309 ,monto_fin: 249.1150054931641\n",
      "Procesando: 2025-03-24\n",
      "indice_i: 24310 ,monto_ini: 274.2099914550781 ,indice_f: 24316 ,monto_fin: 278.44000244140625\n",
      "Procesando: 2025-03-25\n",
      "indice_i: 24317 ,monto_ini: 277.154296875 ,indice_f: 24323 ,monto_fin: 288.1499938964844\n",
      "posible caso: 24393 TSLA , fecha: 2025-04-08 00:00:00\n",
      "Procesando: 2025-04-09\n",
      "indice_i: 24394 ,monto_ini: 231.58999633789065 ,indice_f: 24400 ,monto_fin: 272.0\n",
      "Procesando: 2025-04-10\n",
      "indice_i: 24401 ,monto_ini: 254.38999938964844 ,indice_f: 24407 ,monto_fin: 252.3999938964844\n",
      "posible caso: 24446 TSLA , fecha: 2025-04-21 00:00:00\n",
      "posible caso: 24522 TSLA , fecha: 2025-05-06 00:00:00\n",
      "Procesando: 2025-05-06\n",
      "indice_i: 24523 ,monto_ini: 273.7156982421875 ,indice_f: 24526 ,monto_fin: 275.25\n",
      "Procesando: 2025-05-07\n",
      "indice_i: 24527 ,monto_ini: 276.4599914550781 ,indice_f: 24533 ,monto_fin: 276.17999267578125\n"
     ]
    },
    {
     "name": "stdout",
     "output_type": "stream",
     "text": [
      "posible caso: 24804 TNA , fecha: 2023-06-23 00:00:00\n",
      "Procesando: 2023-06-23\n",
      "indice_i: 24805 ,monto_ini: 31.68000030517578 ,indice_f: 24805 ,monto_fin: 31.68000030517578\n",
      "Procesando: 2023-06-26\n",
      "indice_i: 24806 ,monto_ini: 32.36000061035156 ,indice_f: 24812 ,monto_fin: 31.86989974975586\n",
      "Procesando: 2023-06-27\n",
      "indice_i: 24813 ,monto_ini: 32.41999816894531 ,indice_f: 24819 ,monto_fin: 33.2400016784668\n",
      "Procesando: 2023-06-28\n",
      "indice_i: 24820 ,monto_ini: 33.099998474121094 ,indice_f: 24826 ,monto_fin: 33.75\n",
      "posible caso: 24852 TNA , fecha: 2023-07-06 00:00:00\n",
      "Procesando: 2023-07-06\n",
      "indice_i: 24853 ,monto_ini: 32.03990173339844 ,indice_f: 24857 ,monto_fin: 32.7599983215332\n",
      "Procesando: 2023-07-07\n",
      "indice_i: 24858 ,monto_ini: 33.81999969482422 ,indice_f: 24864 ,monto_fin: 33.900001525878906\n",
      "Procesando: 2023-07-10\n",
      "indice_i: 24865 ,monto_ini: 35.100101470947266 ,indice_f: 24871 ,monto_fin: 35.619998931884766\n",
      "Procesando: 2023-07-11\n",
      "indice_i: 24872 ,monto_ini: 36.32500076293945 ,indice_f: 24878 ,monto_fin: 36.58000183105469\n",
      "Procesando: 2023-07-12\n",
      "indice_i: 24879 ,monto_ini: 37.85200119018555 ,indice_f: 24885 ,monto_fin: 37.78499984741211\n",
      "Procesando: 2023-07-13\n",
      "indice_i: 24886 ,monto_ini: 38.45000076293945 ,indice_f: 24892 ,monto_fin: 38.68000030517578\n",
      "Procesando: 2023-07-14\n",
      "indice_i: 24893 ,monto_ini: 37.310001373291016 ,indice_f: 24899 ,monto_fin: 37.560001373291016\n",
      "posible caso: 25415 TNA , fecha: 2023-10-27 00:00:00\n",
      "Procesando: 2023-10-27\n",
      "indice_i: 25416 ,monto_ini: 21.809999465942383 ,indice_f: 25417 ,monto_fin: 21.81999969482422\n",
      "Procesando: 2023-10-30\n",
      "indice_i: 25418 ,monto_ini: 21.8799991607666 ,indice_f: 25424 ,monto_fin: 22.15999984741211\n",
      "Procesando: 2023-10-31\n",
      "indice_i: 25425 ,monto_ini: 22.295000076293945 ,indice_f: 25431 ,monto_fin: 22.739999771118164\n",
      "Procesando: 2023-11-01\n",
      "indice_i: 25432 ,monto_ini: 22.77120018005371 ,indice_f: 25438 ,monto_fin: 23.09000015258789\n",
      "Procesando: 2023-11-02\n",
      "indice_i: 25439 ,monto_ini: 24.07999992370605 ,indice_f: 25445 ,monto_fin: 24.920000076293945\n",
      "Procesando: 2023-11-03\n",
      "indice_i: 25446 ,monto_ini: 26.674999237060547 ,indice_f: 25452 ,monto_fin: 26.90999984741211\n",
      "Procesando: 2023-11-06\n",
      "indice_i: 25453 ,monto_ini: 26.039899826049805 ,indice_f: 25459 ,monto_fin: 25.95599937438965\n"
     ]
    },
    {
     "name": "stdout",
     "output_type": "stream",
     "text": [
      "posible caso: 25788 TNA , fecha: 2024-01-17 00:00:00\n",
      "posible caso: 26600 TNA , fecha: 2024-07-05 00:00:00\n",
      "posible caso: 26910 TNA , fecha: 2024-09-06 00:00:00\n",
      "posible caso: 27415 TNA , fecha: 2024-12-19 00:00:00\n",
      "posible caso: 27421 TNA , fecha: 2024-12-19 00:00:00\n",
      "posible caso: 27453 TNA , fecha: 2024-12-30 00:00:00\n",
      "Procesando: 2024-12-30\n",
      "indice_i: 27454 ,monto_ini: 41.18000030517578 ,indice_f: 27459 ,monto_fin: 41.720001220703125\n",
      "Procesando: 2024-12-31\n",
      "indice_i: 27460 ,monto_ini: 42.95000076293945 ,indice_f: 27466 ,monto_fin: 41.84000015258789\n",
      "posible caso: 27610 TNA , fecha: 2025-02-03 00:00:00\n",
      "Procesando: 2025-02-03\n",
      "indice_i: 27611 ,monto_ini: 43.03749847412109 ,indice_f: 27613 ,monto_fin: 42.810001373291016\n",
      "Procesando: 2025-02-04\n",
      "indice_i: 27614 ,monto_ini: 43.61000061035156 ,indice_f: 27620 ,monto_fin: 44.540000915527344\n",
      "Procesando: 2025-02-05\n",
      "indice_i: 27621 ,monto_ini: 45.34989929199219 ,indice_f: 27627 ,monto_fin: 46.0\n",
      "Procesando: 2025-02-06\n",
      "indice_i: 27628 ,monto_ini: 46.01499938964844 ,indice_f: 27634 ,monto_fin: 45.5\n",
      "posible caso: 27657 TNA , fecha: 2025-02-12 00:00:00\n",
      "Procesando: 2025-02-12\n",
      "indice_i: 27658 ,monto_ini: 42.720001220703125 ,indice_f: 27662 ,monto_fin: 42.48500061035156\n",
      "Procesando: 2025-02-13\n",
      "indice_i: 27663 ,monto_ini: 42.92499923706055 ,indice_f: 27669 ,monto_fin: 43.86000061035156\n",
      "Procesando: 2025-02-14\n",
      "indice_i: 27670 ,monto_ini: 44.07989883422852 ,indice_f: 27676 ,monto_fin: 43.75\n"
     ]
    },
    {
     "name": "stdout",
     "output_type": "stream",
     "text": [
      "posible caso: 27799 TNA , fecha: 2025-03-13 00:00:00\n",
      "posible caso: 27981 TNA , fecha: 2025-04-21 00:00:00\n",
      "posible caso: 28146 TNA , fecha: 2025-05-23 00:00:00\n",
      "Procesando: 2025-05-23\n",
      "indice_i: 28147 ,monto_ini: 27.889299392700195 ,indice_f: 28152 ,monto_fin: 28.11000061035156\n",
      "Procesando: 2025-05-27\n",
      "indice_i: 28153 ,monto_ini: 29.63800048828125 ,indice_f: 28159 ,monto_fin: 30.25\n",
      "Procesando: 2025-05-28\n",
      "indice_i: 28160 ,monto_ini: 29.665000915527344 ,indice_f: 28166 ,monto_fin: 29.299999237060547\n",
      "posible caso: 28372 GLD , fecha: 2023-06-29 00:00:00\n",
      "posible caso: 28604 GLD , fecha: 2023-08-17 00:00:00\n",
      "posible caso: 28839 GLD , fecha: 2023-10-05 00:00:00\n",
      "posible caso: 29023 GLD , fecha: 2023-11-10 00:00:00\n",
      "Procesando: 2023-11-10\n",
      "indice_i: 29024 ,monto_ini: 179.51980590820312 ,indice_f: 29026 ,monto_fin: 179.52000427246094\n",
      "Procesando: 2023-11-13\n",
      "indice_i: 29027 ,monto_ini: 179.4600067138672 ,indice_f: 29033 ,monto_fin: 180.5200042724609\n",
      "posible caso: 29464 GLD , fecha: 2024-02-14 00:00:00\n",
      "Procesando: 2024-02-14\n",
      "indice_i: 29465 ,monto_ini: 184.4250030517578 ,indice_f: 29470 ,monto_fin: 184.4100036621093\n",
      "Procesando: 2024-02-15\n",
      "indice_i: 29471 ,monto_ini: 185.83999633789065 ,indice_f: 29477 ,monto_fin: 185.6499938964844\n",
      "Procesando: 2024-02-16\n",
      "indice_i: 29478 ,monto_ini: 185.8500061035156 ,indice_f: 29484 ,monto_fin: 186.3600006103516\n",
      "Procesando: 2024-02-20\n",
      "indice_i: 29485 ,monto_ini: 187.9349975585937 ,indice_f: 29491 ,monto_fin: 187.47999572753903\n"
     ]
    },
    {
     "name": "stdout",
     "output_type": "stream",
     "text": [
      "posible caso: 30993 GLD , fecha: 2024-12-30 00:00:00\n",
      "Procesando: 2024-12-30\n",
      "indice_i: 30994 ,monto_ini: 240.1999053955078 ,indice_f: 30998 ,monto_fin: 240.6499938964844\n",
      "Procesando: 2024-12-31\n",
      "indice_i: 30999 ,monto_ini: 241.63999938964844 ,indice_f: 31005 ,monto_fin: 242.1199951171875\n",
      "Procesando: 2025-01-02\n",
      "indice_i: 31006 ,monto_ini: 244.4250030517578 ,indice_f: 31012 ,monto_fin: 245.4499969482422\n",
      "Procesando: 2025-01-03\n",
      "indice_i: 31013 ,monto_ini: 243.8600006103516 ,indice_f: 31019 ,monto_fin: 243.47999572753903\n",
      "posible caso: 31871 SLV , fecha: 2023-06-22 00:00:00\n",
      "posible caso: 32139 SLV , fecha: 2023-08-16 00:00:00\n",
      "posible caso: 32273 SLV , fecha: 2023-09-14 00:00:00\n",
      "Procesando: 2023-09-14\n",
      "indice_i: 32274 ,monto_ini: 20.710100173950195 ,indice_f: 32279 ,monto_fin: 20.73990058898925\n",
      "Procesando: 2023-09-15\n",
      "indice_i: 32280 ,monto_ini: 21.25 ,indice_f: 32286 ,monto_fin: 21.100000381469727\n",
      "posible caso: 32379 SLV , fecha: 2023-10-05 00:00:00\n",
      "posible caso: 32483 SLV , fecha: 2023-10-26 00:00:00\n",
      "Procesando: 2023-10-26\n",
      "indice_i: 32484 ,monto_ini: 20.76000022888184 ,indice_f: 32489 ,monto_fin: 20.854999542236328\n",
      "Procesando: 2023-10-27\n",
      "indice_i: 32490 ,monto_ini: 20.96500015258789 ,indice_f: 32496 ,monto_fin: 21.170000076293945\n",
      "Procesando: 2023-10-30\n",
      "indice_i: 32497 ,monto_ini: 21.36000061035156 ,indice_f: 32503 ,monto_fin: 21.350000381469727\n",
      "Procesando: 2023-10-31\n",
      "indice_i: 32504 ,monto_ini: 21.270000457763672 ,indice_f: 32510 ,monto_fin: 20.96999931335449\n",
      "posible caso: 32890 SLV , fecha: 2024-01-22 00:00:00\n",
      "Procesando: 2024-01-22\n",
      "indice_i: 32891 ,monto_ini: 20.209999084472656 ,indice_f: 32891 ,monto_fin: 20.209999084472656\n",
      "Procesando: 2024-01-23\n",
      "indice_i: 32892 ,monto_ini: 20.51000022888184 ,indice_f: 32898 ,monto_fin: 20.540000915527344\n",
      "Procesando: 2024-01-24\n",
      "indice_i: 32899 ,monto_ini: 20.790000915527344 ,indice_f: 32905 ,monto_fin: 20.71999931335449\n",
      "Procesando: 2024-01-25\n",
      "indice_i: 32906 ,monto_ini: 20.924999237060547 ,indice_f: 32912 ,monto_fin: 20.950000762939453\n",
      "Procesando: 2024-01-26\n",
      "indice_i: 32913 ,monto_ini: 20.8700008392334 ,indice_f: 32919 ,monto_fin: 20.8700008392334\n"
     ]
    },
    {
     "name": "stdout",
     "output_type": "stream",
     "text": [
      "posible caso: 33001 SLV , fecha: 2024-02-13 00:00:00\n",
      "posible caso: 33071 SLV , fecha: 2024-02-28 00:00:00\n",
      "posible caso: 33780 SLV , fecha: 2024-07-25 00:00:00\n",
      "posible caso: 33846 SLV , fecha: 2024-08-07 00:00:00\n",
      "Procesando: 2024-08-08\n",
      "indice_i: 33847 ,monto_ini: 25.1343002319336 ,indice_f: 33853 ,monto_fin: 25.020000457763672\n",
      "Procesando: 2024-08-09\n",
      "indice_i: 33854 ,monto_ini: 25.1299991607666 ,indice_f: 33860 ,monto_fin: 25.0\n",
      "Procesando: 2024-08-12\n",
      "indice_i: 33861 ,monto_ini: 25.280000686645508 ,indice_f: 33867 ,monto_fin: 25.489999771118164\n",
      "Procesando: 2024-08-13\n",
      "indice_i: 33868 ,monto_ini: 25.18000030517578 ,indice_f: 33874 ,monto_fin: 25.40999984741211\n",
      "posible caso: 33992 SLV , fecha: 2024-09-06 00:00:00\n",
      "Procesando: 2024-09-06\n",
      "indice_i: 33993 ,monto_ini: 25.475000381469727 ,indice_f: 33993 ,monto_fin: 25.475000381469727\n",
      "Procesando: 2024-09-09\n",
      "indice_i: 33994 ,monto_ini: 25.76000022888184 ,indice_f: 34000 ,monto_fin: 25.84000015258789\n",
      "Procesando: 2024-09-10\n",
      "indice_i: 34001 ,monto_ini: 25.6200008392334 ,indice_f: 34007 ,monto_fin: 25.940000534057617\n",
      "posible caso: 34342 SLV , fecha: 2024-11-15 00:00:00\n",
      "Procesando: 2024-11-15\n",
      "indice_i: 34343 ,monto_ini: 27.565000534057617 ,indice_f: 34343 ,monto_fin: 27.565000534057617\n",
      "Procesando: 2024-11-18\n",
      "indice_i: 34344 ,monto_ini: 28.475000381469727 ,indice_f: 34350 ,monto_fin: 28.375\n",
      "Procesando: 2024-11-19\n",
      "indice_i: 34351 ,monto_ini: 28.42009925842285 ,indice_f: 34357 ,monto_fin: 28.4950008392334\n",
      "Procesando: 2024-11-20\n",
      "indice_i: 34358 ,monto_ini: 28.309999465942383 ,indice_f: 34364 ,monto_fin: 28.114999771118164\n"
     ]
    },
    {
     "name": "stdout",
     "output_type": "stream",
     "text": [
      "posible caso: 34397 SLV , fecha: 2024-11-27 00:00:00\n",
      "posible caso: 34494 SLV , fecha: 2024-12-19 00:00:00\n",
      "posible caso: 34540 SLV , fecha: 2024-12-31 00:00:00\n",
      "Procesando: 2024-12-31\n",
      "indice_i: 34541 ,monto_ini: 26.290000915527344 ,indice_f: 34545 ,monto_fin: 26.309999465942383\n",
      "Procesando: 2025-01-02\n",
      "indice_i: 34546 ,monto_ini: 26.80500030517578 ,indice_f: 34552 ,monto_fin: 26.920000076293945\n",
      "Procesando: 2025-01-03\n",
      "indice_i: 34553 ,monto_ini: 27.045000076293945 ,indice_f: 34559 ,monto_fin: 26.975000381469727\n",
      "posible caso: 34593 SLV , fecha: 2025-01-13 00:00:00\n",
      "posible caso: 34653 SLV , fecha: 2025-01-27 00:00:00\n",
      "Procesando: 2025-01-27\n",
      "indice_i: 34654 ,monto_ini: 27.38999938964844 ,indice_f: 34657 ,monto_fin: 27.46999931335449\n",
      "Procesando: 2025-01-28\n",
      "indice_i: 34658 ,monto_ini: 27.655000686645508 ,indice_f: 34664 ,monto_fin: 27.6299991607666\n",
      "Procesando: 2025-01-29\n",
      "indice_i: 34665 ,monto_ini: 28.0 ,indice_f: 34671 ,monto_fin: 28.01000022888184\n",
      "Procesando: 2025-01-30\n",
      "indice_i: 34672 ,monto_ini: 28.7450008392334 ,indice_f: 34678 ,monto_fin: 28.71999931335449\n",
      "Procesando: 2025-01-31\n",
      "indice_i: 34679 ,monto_ini: 28.725000381469727 ,indice_f: 34685 ,monto_fin: 28.520000457763672\n",
      "posible caso: 34815 SLV , fecha: 2025-02-28 00:00:00\n",
      "Procesando: 2025-02-28\n",
      "indice_i: 34816 ,monto_ini: 28.239999771118164 ,indice_f: 34818 ,monto_fin: 28.315000534057617\n",
      "Procesando: 2025-03-03\n",
      "indice_i: 34819 ,monto_ini: 28.96500015258789 ,indice_f: 34825 ,monto_fin: 28.75\n",
      "posible caso: 34990 SLV , fecha: 2025-04-04 00:00:00\n",
      "Procesando: 2025-04-04\n",
      "indice_i: 34991 ,monto_ini: 26.760099411010746 ,indice_f: 34993 ,monto_fin: 27.059999465942383\n",
      "Procesando: 2025-04-07\n",
      "indice_i: 34994 ,monto_ini: 27.334999084472656 ,indice_f: 35000 ,monto_fin: 27.13999938964844\n"
     ]
    },
    {
     "name": "stdout",
     "output_type": "stream",
     "text": [
      "posible caso: 35437 USO , fecha: 2023-06-27 00:00:00\n",
      "Procesando: 2023-06-27\n",
      "indice_i: 35438 ,monto_ini: 61.294700622558594 ,indice_f: 35438 ,monto_fin: 61.294700622558594\n",
      "Procesando: 2023-06-28\n",
      "indice_i: 35439 ,monto_ini: 61.290000915527344 ,indice_f: 35445 ,monto_fin: 62.5\n",
      "posible caso: 36089 USO , fecha: 2023-11-08 00:00:00\n",
      "Procesando: 2023-11-08\n",
      "indice_i: 36090 ,monto_ini: 69.91000366210938 ,indice_f: 36092 ,monto_fin: 70.20999908447266\n",
      "Procesando: 2023-11-09\n",
      "indice_i: 36093 ,monto_ini: 71.37999725341797 ,indice_f: 36099 ,monto_fin: 70.23999786376953\n",
      "posible caso: 36131 USO , fecha: 2023-11-16 00:00:00\n",
      "Procesando: 2023-11-16\n",
      "indice_i: 36132 ,monto_ini: 68.0999984741211 ,indice_f: 36134 ,monto_fin: 68.04000091552734\n",
      "Procesando: 2023-11-17\n",
      "indice_i: 36135 ,monto_ini: 69.83000183105469 ,indice_f: 36141 ,monto_fin: 70.74500274658203\n",
      "Procesando: 2023-11-20\n",
      "indice_i: 36142 ,monto_ini: 72.69000244140625 ,indice_f: 36148 ,monto_fin: 72.30999755859375\n",
      "Procesando: 2023-11-21\n",
      "indice_i: 36149 ,monto_ini: 72.05010223388672 ,indice_f: 36155 ,monto_fin: 72.55000305175781\n",
      "posible caso: 36246 USO , fecha: 2023-12-12 00:00:00\n",
      "posible caso: 36338 USO , fecha: 2024-01-02 00:00:00\n",
      "Procesando: 2024-01-02\n",
      "indice_i: 36339 ,monto_ini: 65.95999908447266 ,indice_f: 36340 ,monto_fin: 65.78990173339844\n",
      "Procesando: 2024-01-03\n",
      "indice_i: 36341 ,monto_ini: 67.66000366210938 ,indice_f: 36347 ,monto_fin: 68.19999694824219\n",
      "Procesando: 2024-01-04\n",
      "indice_i: 36348 ,monto_ini: 67.66999816894531 ,indice_f: 36354 ,monto_fin: 67.56999969482422\n"
     ]
    },
    {
     "name": "stdout",
     "output_type": "stream",
     "text": [
      "posible caso: 37030 USO , fecha: 2024-05-23 00:00:00\n",
      "posible caso: 37379 USO , fecha: 2024-08-06 00:00:00\n",
      "posible caso: 37453 USO , fecha: 2024-08-21 00:00:00\n",
      "posible caso: 37543 USO , fecha: 2024-09-10 00:00:00\n",
      "Procesando: 2024-09-10\n",
      "indice_i: 37544 ,monto_ini: 66.49500274658203 ,indice_f: 37547 ,monto_fin: 66.93000030517578\n",
      "Procesando: 2024-09-11\n",
      "indice_i: 37548 ,monto_ini: 67.47000122070312 ,indice_f: 37554 ,monto_fin: 67.8499984741211\n",
      "Procesando: 2024-09-12\n",
      "indice_i: 37555 ,monto_ini: 69.14089965820312 ,indice_f: 37561 ,monto_fin: 69.91000366210938\n",
      "Procesando: 2024-09-13\n",
      "indice_i: 37562 ,monto_ini: 70.87999725341797 ,indice_f: 37568 ,monto_fin: 69.86000061035156\n",
      "posible caso: 37631 USO , fecha: 2024-09-26 00:00:00\n",
      "posible caso: 37738 USO , fecha: 2024-10-18 00:00:00\n",
      "Procesando: 2024-10-18\n",
      "indice_i: 37739 ,monto_ini: 71.77999877929688 ,indice_f: 37743 ,monto_fin: 71.36000061035156\n",
      "Procesando: 2024-10-21\n",
      "indice_i: 37744 ,monto_ini: 71.95999908447266 ,indice_f: 37750 ,monto_fin: 72.27999877929688\n",
      "Procesando: 2024-10-22\n",
      "indice_i: 37751 ,monto_ini: 73.43000030517578 ,indice_f: 37757 ,monto_fin: 74.0\n",
      "Procesando: 2024-10-23\n",
      "indice_i: 37758 ,monto_ini: 73.80000305175781 ,indice_f: 37764 ,monto_fin: 73.55000305175781\n",
      "posible caso: 37787 USO , fecha: 2024-10-29 00:00:00\n",
      "posible caso: 37882 USO , fecha: 2024-11-15 00:00:00\n",
      "Procesando: 2024-11-15\n",
      "indice_i: 37883 ,monto_ini: 69.75 ,indice_f: 37883 ,monto_fin: 69.75\n",
      "Procesando: 2024-11-18\n",
      "indice_i: 37884 ,monto_ini: 71.79010009765625 ,indice_f: 37890 ,monto_fin: 72.05999755859375\n",
      "Procesando: 2024-11-19\n",
      "indice_i: 37891 ,monto_ini: 72.61000061035156 ,indice_f: 37897 ,monto_fin: 72.30999755859375\n"
     ]
    },
    {
     "name": "stdout",
     "output_type": "stream",
     "text": [
      "posible caso: 37971 USO , fecha: 2024-12-06 00:00:00\n",
      "posible caso: 38252 USO , fecha: 2025-02-06 00:00:00\n",
      "Procesando: 2025-02-06\n",
      "indice_i: 38253 ,monto_ini: 75.43499755859375 ,indice_f: 38253 ,monto_fin: 75.43499755859375\n",
      "Procesando: 2025-02-07\n",
      "indice_i: 38254 ,monto_ini: 76.13999938964844 ,indice_f: 38260 ,monto_fin: 75.88999938964844\n",
      "posible caso: 38668 USO , fecha: 2025-05-05 00:00:00\n",
      "Procesando: 2025-05-05\n",
      "indice_i: 38669 ,monto_ini: 62.58000183105469 ,indice_f: 38673 ,monto_fin: 62.3650016784668\n",
      "Procesando: 2025-05-06\n",
      "indice_i: 38674 ,monto_ini: 65.09989929199219 ,indice_f: 38680 ,monto_fin: 64.61000061035156\n",
      "posible caso: 38759 USO , fecha: 2025-05-22 00:00:00\n",
      "posible caso: 38963 BAC , fecha: 2023-06-23 00:00:00\n",
      "Procesando: 2023-06-23\n",
      "indice_i: 38964 ,monto_ini: 27.76000022888184 ,indice_f: 38964 ,monto_fin: 27.76000022888184\n",
      "Procesando: 2023-06-26\n",
      "indice_i: 38965 ,monto_ini: 28.020000457763672 ,indice_f: 38971 ,monto_fin: 28.09000015258789\n",
      "Procesando: 2023-06-27\n",
      "indice_i: 38972 ,monto_ini: 28.21999931335449 ,indice_f: 38978 ,monto_fin: 28.239999771118164\n",
      "Procesando: 2023-06-28\n",
      "indice_i: 38979 ,monto_ini: 28.0049991607666 ,indice_f: 38985 ,monto_fin: 28.07999992370605\n",
      "posible caso: 39322 BAC , fecha: 2023-09-07 00:00:00\n",
      "posible caso: 39575 BAC , fecha: 2023-10-27 00:00:00\n",
      "Procesando: 2023-10-27\n",
      "indice_i: 39576 ,monto_ini: 25.170000076293945 ,indice_f: 39576 ,monto_fin: 25.170000076293945\n",
      "Procesando: 2023-10-30\n",
      "indice_i: 39577 ,monto_ini: 25.424999237060547 ,indice_f: 39583 ,monto_fin: 25.684999465942383\n",
      "Procesando: 2023-10-31\n",
      "indice_i: 39584 ,monto_ini: 25.82999992370605 ,indice_f: 39590 ,monto_fin: 26.350000381469727\n",
      "Procesando: 2023-11-01\n",
      "indice_i: 39591 ,monto_ini: 26.4950008392334 ,indice_f: 39597 ,monto_fin: 26.39999961853028\n",
      "Procesando: 2023-11-02\n",
      "indice_i: 39598 ,monto_ini: 26.97249984741211 ,indice_f: 39604 ,monto_fin: 27.6200008392334\n",
      "Procesando: 2023-11-03\n",
      "indice_i: 39605 ,monto_ini: 28.325000762939453 ,indice_f: 39611 ,monto_fin: 28.43000030517578\n",
      "Procesando: 2023-11-06\n",
      "indice_i: 39612 ,monto_ini: 28.184999465942383 ,indice_f: 39618 ,monto_fin: 28.350000381469727\n"
     ]
    },
    {
     "name": "stdout",
     "output_type": "stream",
     "text": [
      "posible caso: 40906 BAC , fecha: 2024-08-05 00:00:00\n",
      "Procesando: 2024-08-05\n",
      "indice_i: 40907 ,monto_ini: 36.42499923706055 ,indice_f: 40912 ,monto_fin: 36.65499877929688\n",
      "Procesando: 2024-08-06\n",
      "indice_i: 40913 ,monto_ini: 37.13999938964844 ,indice_f: 40919 ,monto_fin: 36.90999984741211\n",
      "Procesando: 2024-08-07\n",
      "indice_i: 40920 ,monto_ini: 38.1349983215332 ,indice_f: 40926 ,monto_fin: 37.310001373291016\n",
      "posible caso: 41104 BAC , fecha: 2024-09-13 00:00:00\n",
      "posible caso: 41186 BAC , fecha: 2024-10-01 00:00:00\n",
      "Procesando: 2024-10-01\n",
      "indice_i: 41187 ,monto_ini: 39.40499877929688 ,indice_f: 41192 ,monto_fin: 39.22999954223633\n",
      "Procesando: 2024-10-02\n",
      "indice_i: 41193 ,monto_ini: 39.2599983215332 ,indice_f: 41199 ,monto_fin: 39.22999954223633\n",
      "Procesando: 2024-10-03\n",
      "indice_i: 41200 ,monto_ini: 38.93220138549805 ,indice_f: 41206 ,monto_fin: 39.244998931884766\n",
      "posible caso: 41944 BAC , fecha: 2025-03-11 00:00:00\n",
      "posible caso: 42069 BAC , fecha: 2025-04-04 00:00:00\n",
      "Procesando: 2025-04-04\n",
      "indice_i: 42070 ,monto_ini: 34.27000045776367 ,indice_f: 42073 ,monto_fin: 34.35499954223633\n",
      "Procesando: 2025-04-07\n",
      "indice_i: 42074 ,monto_ini: 34.689998626708984 ,indice_f: 42080 ,monto_fin: 35.58000183105469\n",
      "Procesando: 2025-04-08\n",
      "indice_i: 42081 ,monto_ini: 36.90499877929688 ,indice_f: 42087 ,monto_fin: 35.02000045776367\n",
      "posible caso: 42305 BAC , fecha: 2025-05-23 00:00:00\n",
      "Procesando: 2025-05-23\n",
      "indice_i: 42306 ,monto_ini: 43.09000015258789 ,indice_f: 42311 ,monto_fin: 43.19499969482422\n",
      "Procesando: 2025-05-27\n",
      "indice_i: 42312 ,monto_ini: 43.78499984741211 ,indice_f: 42318 ,monto_fin: 44.220001220703125\n",
      "Procesando: 2025-05-28\n",
      "indice_i: 42319 ,monto_ini: 44.20500183105469 ,indice_f: 42325 ,monto_fin: 44.04999923706055\n"
     ]
    },
    {
     "name": "stdout",
     "output_type": "stream",
     "text": [
      "posible caso: 42494 CVX , fecha: 2023-06-23 00:00:00\n",
      "Procesando: 2023-06-23\n",
      "indice_i: 42495 ,monto_ini: 151.09939575195312 ,indice_f: 42499 ,monto_fin: 151.3800048828125\n",
      "Procesando: 2023-06-26\n",
      "indice_i: 42500 ,monto_ini: 152.97000122070312 ,indice_f: 42506 ,monto_fin: 154.07000732421875\n",
      "Procesando: 2023-06-27\n",
      "indice_i: 42507 ,monto_ini: 154.2100067138672 ,indice_f: 42513 ,monto_fin: 153.52000427246094\n",
      "Procesando: 2023-06-28\n",
      "indice_i: 42514 ,monto_ini: 152.8699951171875 ,indice_f: 42520 ,monto_fin: 154.97000122070312\n",
      "posible caso: 42547 CVX , fecha: 2023-07-06 00:00:00\n",
      "Procesando: 2023-07-06\n",
      "indice_i: 42548 ,monto_ini: 152.1999969482422 ,indice_f: 42551 ,monto_fin: 152.8800048828125\n",
      "Procesando: 2023-07-07\n",
      "indice_i: 42552 ,monto_ini: 154.1699981689453 ,indice_f: 42558 ,monto_fin: 154.22999572753906\n",
      "Procesando: 2023-07-10\n",
      "indice_i: 42559 ,monto_ini: 154.72999572753906 ,indice_f: 42565 ,monto_fin: 155.25999450683594\n",
      "Procesando: 2023-07-11\n",
      "indice_i: 42566 ,monto_ini: 156.72999572753906 ,indice_f: 42572 ,monto_fin: 158.11000061035156\n",
      "Procesando: 2023-07-12\n",
      "indice_i: 42573 ,monto_ini: 159.5800018310547 ,indice_f: 42579 ,monto_fin: 159.64999389648438\n",
      "Procesando: 2023-07-13\n",
      "indice_i: 42580 ,monto_ini: 159.2050018310547 ,indice_f: 42586 ,monto_fin: 157.46499633789062\n",
      "posible caso: 42596 CVX , fecha: 2023-07-17 00:00:00\n",
      "Procesando: 2023-07-17\n",
      "indice_i: 42597 ,monto_ini: 153.41000366210938 ,indice_f: 42600 ,monto_fin: 153.44000244140625\n",
      "Procesando: 2023-07-18\n",
      "indice_i: 42601 ,monto_ini: 154.7949981689453 ,indice_f: 42607 ,monto_fin: 153.77000427246094\n",
      "Procesando: 2023-07-19\n",
      "indice_i: 42608 ,monto_ini: 155.1699981689453 ,indice_f: 42614 ,monto_fin: 154.67999267578125\n",
      "Procesando: 2023-07-20\n",
      "indice_i: 42615 ,monto_ini: 156.0050048828125 ,indice_f: 42621 ,monto_fin: 156.39999389648438\n",
      "Procesando: 2023-07-21\n",
      "indice_i: 42622 ,monto_ini: 158.17999267578125 ,indice_f: 42628 ,monto_fin: 158.69000244140625\n",
      "Procesando: 2023-07-24\n",
      "indice_i: 42629 ,monto_ini: 161.58999633789062 ,indice_f: 42635 ,monto_fin: 161.7899932861328\n",
      "Procesando: 2023-07-25\n",
      "indice_i: 42636 ,monto_ini: 162.27999877929688 ,indice_f: 42642 ,monto_fin: 162.5500030517578\n",
      "Procesando: 2023-07-26\n",
      "indice_i: 42643 ,monto_ini: 161.61000061035156 ,indice_f: 42649 ,monto_fin: 161.4199981689453\n"
     ]
    },
    {
     "name": "stdout",
     "output_type": "stream",
     "text": [
      "posible caso: 42754 CVX , fecha: 2023-08-16 00:00:00\n",
      "Procesando: 2023-08-17\n",
      "indice_i: 42755 ,monto_ini: 161.72500610351562 ,indice_f: 42761 ,monto_fin: 159.75\n",
      "Procesando: 2023-08-18\n",
      "indice_i: 42762 ,monto_ini: 159.74000549316406 ,indice_f: 42768 ,monto_fin: 160.9199981689453\n",
      "posible caso: 42796 CVX , fecha: 2023-08-24 00:00:00\n",
      "posible caso: 43027 CVX , fecha: 2023-10-11 00:00:00\n",
      "posible caso: 43174 CVX , fecha: 2023-11-09 00:00:00\n",
      "posible caso: 43299 CVX , fecha: 2023-12-07 00:00:00\n",
      "Procesando: 2023-12-07\n",
      "indice_i: 43300 ,monto_ini: 142.61000061035156 ,indice_f: 43303 ,monto_fin: 142.4499969482422\n",
      "Procesando: 2023-12-08\n",
      "indice_i: 43304 ,monto_ini: 144.02000427246094 ,indice_f: 43310 ,monto_fin: 144.30999755859375\n",
      "Procesando: 2023-12-11\n",
      "indice_i: 43311 ,monto_ini: 145.0800018310547 ,indice_f: 43317 ,monto_fin: 144.3300018310547\n",
      "Procesando: 2023-12-12\n",
      "indice_i: 43318 ,monto_ini: 142.8300018310547 ,indice_f: 43324 ,monto_fin: 142.52000427246094\n",
      "posible caso: 43405 CVX , fecha: 2023-12-29 00:00:00\n",
      "Procesando: 2023-12-29\n",
      "indice_i: 43406 ,monto_ini: 149.1699981689453 ,indice_f: 43408 ,monto_fin: 149.13999938964844\n",
      "Procesando: 2024-01-02\n",
      "indice_i: 43409 ,monto_ini: 150.9499969482422 ,indice_f: 43415 ,monto_fin: 149.55999755859375\n",
      "posible caso: 43489 CVX , fecha: 2024-01-18 00:00:00\n",
      "Procesando: 2024-01-18\n",
      "indice_i: 43490 ,monto_ini: 141.84500122070312 ,indice_f: 43492 ,monto_fin: 141.8300018310547\n",
      "Procesando: 2024-01-19\n",
      "indice_i: 43493 ,monto_ini: 141.94000244140625 ,indice_f: 43499 ,monto_fin: 142.2100067138672\n",
      "Procesando: 2024-01-22\n",
      "indice_i: 43500 ,monto_ini: 141.97000122070312 ,indice_f: 43506 ,monto_fin: 142.52000427246094\n"
     ]
    },
    {
     "name": "stdout",
     "output_type": "stream",
     "text": [
      "posible caso: 43617 CVX , fecha: 2024-02-13 00:00:00\n",
      "Procesando: 2024-02-13\n",
      "indice_i: 43618 ,monto_ini: 150.60000610351562 ,indice_f: 43618 ,monto_fin: 150.60000610351562\n",
      "Procesando: 2024-02-14\n",
      "indice_i: 43619 ,monto_ini: 151.5800018310547 ,indice_f: 43625 ,monto_fin: 150.9499969482422\n",
      "posible caso: 43723 CVX , fecha: 2024-03-06 00:00:00\n",
      "Procesando: 2024-03-07\n",
      "indice_i: 43724 ,monto_ini: 149.4600067138672 ,indice_f: 43730 ,monto_fin: 149.4199981689453\n",
      "Procesando: 2024-03-08\n",
      "indice_i: 43731 ,monto_ini: 148.52000427246094 ,indice_f: 43737 ,monto_fin: 149.9499969482422\n",
      "posible caso: 44314 CVX , fecha: 2024-07-09 00:00:00\n",
      "posible caso: 44379 CVX , fecha: 2024-07-23 00:00:00\n",
      "posible caso: 44461 CVX , fecha: 2024-08-07 00:00:00\n",
      "Procesando: 2024-08-08\n",
      "indice_i: 44462 ,monto_ini: 144.1699981689453 ,indice_f: 44468 ,monto_fin: 144.52999877929688\n",
      "Procesando: 2024-08-09\n",
      "indice_i: 44469 ,monto_ini: 143.88499450683594 ,indice_f: 44475 ,monto_fin: 145.0500030517578\n",
      "posible caso: 44623 CVX , fecha: 2024-09-11 00:00:00\n",
      "posible caso: 44706 CVX , fecha: 2024-09-26 00:00:00\n",
      "Procesando: 2024-09-27\n",
      "indice_i: 44707 ,monto_ini: 145.07000732421875 ,indice_f: 44713 ,monto_fin: 145.49000549316406\n",
      "Procesando: 2024-09-30\n",
      "indice_i: 44714 ,monto_ini: 145.72000122070312 ,indice_f: 44720 ,monto_fin: 147.25999450683594\n",
      "Procesando: 2024-10-01\n",
      "indice_i: 44721 ,monto_ini: 149.17999267578125 ,indice_f: 44727 ,monto_fin: 149.72999572753906\n",
      "Procesando: 2024-10-02\n",
      "indice_i: 44728 ,monto_ini: 151.22999572753906 ,indice_f: 44734 ,monto_fin: 150.94000244140625\n",
      "posible caso: 44797 CVX , fecha: 2024-10-15 00:00:00\n",
      "Procesando: 2024-10-16\n",
      "indice_i: 44798 ,monto_ini: 148.56619262695312 ,indice_f: 44804 ,monto_fin: 148.69000244140625\n",
      "Procesando: 2024-10-17\n",
      "indice_i: 44805 ,monto_ini: 149.75999450683594 ,indice_f: 44811 ,monto_fin: 151.17999267578125\n",
      "Procesando: 2024-10-18\n",
      "indice_i: 44812 ,monto_ini: 149.91000366210938 ,indice_f: 44818 ,monto_fin: 150.74000549316406\n"
     ]
    },
    {
     "name": "stdout",
     "output_type": "stream",
     "text": [
      "posible caso: 45115 CVX , fecha: 2024-12-19 00:00:00\n",
      "posible caso: 45300 CVX , fecha: 2025-01-31 00:00:00\n",
      "posible caso: 45449 CVX , fecha: 2025-03-05 00:00:00\n",
      "posible caso: 45677 CVX , fecha: 2025-04-21 00:00:00\n",
      "Procesando: 2025-04-21\n",
      "indice_i: 45678 ,monto_ini: 133.72000122070312 ,indice_f: 45678 ,monto_fin: 133.72000122070312\n",
      "Procesando: 2025-04-22\n",
      "indice_i: 45679 ,monto_ini: 135.57000732421875 ,indice_f: 45685 ,monto_fin: 137.3000030517578\n",
      "Procesando: 2025-04-23\n",
      "indice_i: 45686 ,monto_ini: 136.39999389648438 ,indice_f: 45692 ,monto_fin: 136.65499877929688\n",
      "posible caso: 45745 CVX , fecha: 2025-05-05 00:00:00\n",
      "posible caso: 45834 CVX , fecha: 2025-05-22 00:00:00\n",
      "Procesando: 2025-05-22\n",
      "indice_i: 45835 ,monto_ini: 135.0800018310547 ,indice_f: 45839 ,monto_fin: 135.32000732421875\n",
      "Procesando: 2025-05-23\n",
      "indice_i: 45840 ,monto_ini: 135.1999969482422 ,indice_f: 45846 ,monto_fin: 136.55999755859375\n",
      "posible caso: 46033 XOM , fecha: 2023-06-23 00:00:00\n",
      "Procesando: 2023-06-23\n",
      "indice_i: 46034 ,monto_ini: 102.38999938964844 ,indice_f: 46034 ,monto_fin: 102.38999938964844\n",
      "Procesando: 2023-06-26\n",
      "indice_i: 46035 ,monto_ini: 103.80500030517578 ,indice_f: 46041 ,monto_fin: 104.30999755859376\n",
      "Procesando: 2023-06-27\n",
      "indice_i: 46042 ,monto_ini: 104.34500122070312 ,indice_f: 46048 ,monto_fin: 104.5500030517578\n",
      "Procesando: 2023-06-28\n",
      "indice_i: 46049 ,monto_ini: 103.5500030517578 ,indice_f: 46055 ,monto_fin: 105.41000366210938\n",
      "posible caso: 46082 XOM , fecha: 2023-07-06 00:00:00\n",
      "Procesando: 2023-07-06\n",
      "indice_i: 46083 ,monto_ini: 103.03079986572266 ,indice_f: 46086 ,monto_fin: 102.93499755859376\n",
      "Procesando: 2023-07-07\n",
      "indice_i: 46087 ,monto_ini: 102.94000244140624 ,indice_f: 46093 ,monto_fin: 103.19000244140624\n",
      "Procesando: 2023-07-10\n",
      "indice_i: 46094 ,monto_ini: 104.01000213623048 ,indice_f: 46100 ,monto_fin: 104.72000122070312\n",
      "Procesando: 2023-07-11\n",
      "indice_i: 46101 ,monto_ini: 105.28980255126952 ,indice_f: 46107 ,monto_fin: 105.97000122070312\n",
      "Procesando: 2023-07-12\n",
      "indice_i: 46108 ,monto_ini: 107.16999816894533 ,indice_f: 46114 ,monto_fin: 106.5199966430664\n"
     ]
    },
    {
     "name": "stdout",
     "output_type": "stream",
     "text": [
      "posible caso: 46142 XOM , fecha: 2023-07-18 00:00:00\n",
      "posible caso: 46289 XOM , fecha: 2023-08-16 00:00:00\n",
      "Procesando: 2023-08-17\n",
      "indice_i: 46290 ,monto_ini: 109.52999877929688 ,indice_f: 46296 ,monto_fin: 108.38999938964844\n",
      "Procesando: 2023-08-18\n",
      "indice_i: 46297 ,monto_ini: 108.36000061035156 ,indice_f: 46303 ,monto_fin: 110.05999755859376\n",
      "posible caso: 46331 XOM , fecha: 2023-08-24 00:00:00\n",
      "posible caso: 46567 XOM , fecha: 2023-10-12 00:00:00\n",
      "Procesando: 2023-10-12\n",
      "indice_i: 46568 ,monto_ini: 106.62000274658205 ,indice_f: 46569 ,monto_fin: 106.43000030517578\n",
      "Procesando: 2023-10-13\n",
      "indice_i: 46570 ,monto_ini: 108.81500244140624 ,indice_f: 46576 ,monto_fin: 109.87000274658205\n",
      "Procesando: 2023-10-16\n",
      "indice_i: 46577 ,monto_ini: 109.6449966430664 ,indice_f: 46583 ,monto_fin: 109.92019653320312\n",
      "posible caso: 46642 XOM , fecha: 2023-10-27 00:00:00\n",
      "posible caso: 46702 XOM , fecha: 2023-11-08 00:00:00\n",
      "posible caso: 46941 XOM , fecha: 2023-12-29 00:00:00\n",
      "posible caso: 47021 XOM , fecha: 2024-01-18 00:00:00\n",
      "posible caso: 47105 XOM , fecha: 2024-02-05 00:00:00\n",
      "Procesando: 2024-02-05\n",
      "indice_i: 47106 ,monto_ini: 101.6050033569336 ,indice_f: 47111 ,monto_fin: 101.48999786376952\n",
      "Procesando: 2024-02-06\n",
      "indice_i: 47112 ,monto_ini: 102.24500274658205 ,indice_f: 47118 ,monto_fin: 102.26499938964844\n",
      "Procesando: 2024-02-07\n",
      "indice_i: 47119 ,monto_ini: 101.52999877929688 ,indice_f: 47125 ,monto_fin: 102.2300033569336\n",
      "posible caso: 47111 XOM , fecha: 2024-02-05 00:00:00\n",
      "Procesando: 2024-02-06\n",
      "indice_i: 47112 ,monto_ini: 102.24500274658205 ,indice_f: 47118 ,monto_fin: 102.26499938964844\n",
      "Procesando: 2024-02-07\n",
      "indice_i: 47119 ,monto_ini: 101.52999877929688 ,indice_f: 47125 ,monto_fin: 102.2300033569336\n"
     ]
    },
    {
     "name": "stdout",
     "output_type": "stream",
     "text": [
      "posible caso: 47749 XOM , fecha: 2024-06-17 00:00:00\n",
      "Procesando: 2024-06-17\n",
      "indice_i: 47750 ,monto_ini: 109.12000274658205 ,indice_f: 47755 ,monto_fin: 108.37000274658205\n",
      "Procesando: 2024-06-18\n",
      "indice_i: 47756 ,monto_ini: 110.20999908447266 ,indice_f: 47762 ,monto_fin: 109.41000366210938\n",
      "Procesando: 2024-06-20\n",
      "indice_i: 47763 ,monto_ini: 111.31999969482422 ,indice_f: 47769 ,monto_fin: 111.75\n",
      "Procesando: 2024-06-21\n",
      "indice_i: 47770 ,monto_ini: 112.41999816894533 ,indice_f: 47776 ,monto_fin: 110.87999725341795\n",
      "posible caso: 47755 XOM , fecha: 2024-06-17 00:00:00\n",
      "Procesando: 2024-06-18\n",
      "indice_i: 47756 ,monto_ini: 110.20999908447266 ,indice_f: 47762 ,monto_fin: 109.41000366210938\n",
      "Procesando: 2024-06-20\n",
      "indice_i: 47763 ,monto_ini: 111.31999969482422 ,indice_f: 47769 ,monto_fin: 111.75\n",
      "Procesando: 2024-06-21\n",
      "indice_i: 47770 ,monto_ini: 112.41999816894533 ,indice_f: 47776 ,monto_fin: 110.87999725341795\n",
      "posible caso: 47849 XOM , fecha: 2024-07-09 00:00:00\n",
      "posible caso: 47915 XOM , fecha: 2024-07-23 00:00:00\n",
      "Procesando: 2024-07-23\n",
      "indice_i: 47916 ,monto_ini: 113.4499969482422 ,indice_f: 47919 ,monto_fin: 113.38999938964844\n",
      "Procesando: 2024-07-24\n",
      "indice_i: 47920 ,monto_ini: 113.66500091552734 ,indice_f: 47926 ,monto_fin: 115.0\n",
      "Procesando: 2024-07-25\n",
      "indice_i: 47927 ,monto_ini: 115.9000015258789 ,indice_f: 47933 ,monto_fin: 117.4499969482422\n",
      "Procesando: 2024-07-26\n",
      "indice_i: 47934 ,monto_ini: 116.68000030517578 ,indice_f: 47940 ,monto_fin: 117.36000061035156\n",
      "posible caso: 47989 XOM , fecha: 2024-08-06 00:00:00\n",
      "Procesando: 2024-08-07\n",
      "indice_i: 47990 ,monto_ini: 115.73999786376952 ,indice_f: 47996 ,monto_fin: 115.69000244140624\n",
      "Procesando: 2024-08-08\n",
      "indice_i: 47997 ,monto_ini: 117.2699966430664 ,indice_f: 48003 ,monto_fin: 117.88999938964844\n",
      "Procesando: 2024-08-09\n",
      "indice_i: 48004 ,monto_ini: 118.0999984741211 ,indice_f: 48010 ,monto_fin: 118.8499984741211\n",
      "Procesando: 2024-08-12\n",
      "indice_i: 48011 ,monto_ini: 118.6500015258789 ,indice_f: 48017 ,monto_fin: 119.0\n"
     ]
    },
    {
     "name": "stdout",
     "output_type": "stream",
     "text": [
      "posible caso: 48066 XOM , fecha: 2024-08-21 00:00:00\n",
      "posible caso: 48158 XOM , fecha: 2024-09-11 00:00:00\n",
      "posible caso: 48241 XOM , fecha: 2024-09-26 00:00:00\n",
      "Procesando: 2024-09-27\n",
      "indice_i: 48242 ,monto_ini: 115.16000366210938 ,indice_f: 48248 ,monto_fin: 115.83999633789062\n",
      "Procesando: 2024-09-30\n",
      "indice_i: 48249 ,monto_ini: 116.2699966430664 ,indice_f: 48255 ,monto_fin: 117.22000122070312\n",
      "Procesando: 2024-10-01\n",
      "indice_i: 48256 ,monto_ini: 119.66000366210938 ,indice_f: 48262 ,monto_fin: 119.95999908447266\n",
      "Procesando: 2024-10-02\n",
      "indice_i: 48263 ,monto_ini: 121.7699966430664 ,indice_f: 48269 ,monto_fin: 121.48999786376952\n",
      "posible caso: 48423 XOM , fecha: 2024-11-01 00:00:00\n",
      "Procesando: 2024-11-04\n",
      "indice_i: 48424 ,monto_ini: 118.44000244140624 ,indice_f: 48430 ,monto_fin: 118.5999984741211\n",
      "Procesando: 2024-11-05\n",
      "indice_i: 48431 ,monto_ini: 118.98999786376952 ,indice_f: 48437 ,monto_fin: 118.98999786376952\n",
      "Procesando: 2024-11-06\n",
      "indice_i: 48438 ,monto_ini: 121.36499786376952 ,indice_f: 48444 ,monto_fin: 120.9499969482422\n",
      "Procesando: 2024-11-07\n",
      "indice_i: 48445 ,monto_ini: 120.43000030517578 ,indice_f: 48451 ,monto_fin: 121.12999725341795\n",
      "posible caso: 48682 XOM , fecha: 2024-12-30 00:00:00\n",
      "Procesando: 2024-12-30\n",
      "indice_i: 48683 ,monto_ini: 105.63999938964844 ,indice_f: 48688 ,monto_fin: 105.73500061035156\n",
      "Procesando: 2024-12-31\n",
      "indice_i: 48689 ,monto_ini: 107.10690307617188 ,indice_f: 48695 ,monto_fin: 107.62999725341795\n",
      "Procesando: 2025-01-02\n",
      "indice_i: 48696 ,monto_ini: 108.56999969482422 ,indice_f: 48702 ,monto_fin: 107.33000183105467\n",
      "posible caso: 48736 XOM , fecha: 2025-01-10 00:00:00\n",
      "Procesando: 2025-01-10\n",
      "indice_i: 48737 ,monto_ini: 106.52999877929688 ,indice_f: 48737 ,monto_fin: 106.52999877929688\n",
      "Procesando: 2025-01-13\n",
      "indice_i: 48738 ,monto_ini: 108.4884033203125 ,indice_f: 48744 ,monto_fin: 109.26499938964844\n",
      "Procesando: 2025-01-14\n",
      "indice_i: 48745 ,monto_ini: 108.25 ,indice_f: 48751 ,monto_fin: 109.68499755859376\n"
     ]
    },
    {
     "name": "stdout",
     "output_type": "stream",
     "text": [
      "posible caso: 48891 XOM , fecha: 2025-02-12 00:00:00\n",
      "posible caso: 48984 XOM , fecha: 2025-03-05 00:00:00\n",
      "posible caso: 49167 XOM , fecha: 2025-04-10 00:00:00\n",
      "Procesando: 2025-04-10\n",
      "indice_i: 49168 ,monto_ini: 99.51499938964844 ,indice_f: 49171 ,monto_fin: 99.88999938964844\n",
      "Procesando: 2025-04-11\n",
      "indice_i: 49172 ,monto_ini: 98.87000274658205 ,indice_f: 49178 ,monto_fin: 103.12999725341795\n",
      "Procesando: 2025-04-14\n",
      "indice_i: 49179 ,monto_ini: 104.00624084472656 ,indice_f: 49185 ,monto_fin: 103.40499877929688\n",
      "posible caso: 49283 XOM , fecha: 2025-05-05 00:00:00\n",
      "Procesando: 2025-05-06\n",
      "indice_i: 49284 ,monto_ini: 104.91000366210938 ,indice_f: 49290 ,monto_fin: 104.70999908447266\n",
      "Procesando: 2025-05-07\n",
      "indice_i: 49291 ,monto_ini: 104.22000122070312 ,indice_f: 49297 ,monto_fin: 104.58499908447266\n",
      "posible caso: 49451 XOM , fecha: 2025-06-05 00:00:00\n",
      "Procesando: 2025-06-05\n",
      "indice_i: 49452 ,monto_ini: 101.94 ,indice_f: 49455 ,monto_fin: 101.9\n",
      "Procesando: 2025-06-06\n",
      "indice_i: 49456 ,monto_ini: 102.04 ,indice_f: 49471 ,monto_fin: 104.19\n",
      "Procesando: 2025-06-09\n",
      "indice_i: 49472 ,monto_ini: 104.3 ,indice_f: 49487 ,monto_fin: 105.1297\n",
      "Procesando: 2025-06-10\n",
      "indice_i: 49488 ,monto_ini: 105.42 ,indice_f: 49503 ,monto_fin: 107.16\n",
      "Procesando: 2025-06-11\n",
      "indice_i: 49504 ,monto_ini: 107.2 ,indice_f: 49513 ,monto_fin: 107.27\n"
     ]
    },
    {
     "name": "stdout",
     "output_type": "stream",
     "text": [
      "posible caso: 50171 QQQ , fecha: 2023-10-26 00:00:00\n",
      "posible caso: 51010 QQQ , fecha: 2024-04-19 00:00:00\n",
      "posible caso: 51066 QQQ , fecha: 2024-05-01 00:00:00\n",
      "posible caso: 51531 QQQ , fecha: 2024-08-07 00:00:00\n",
      "Procesando: 2024-08-08\n",
      "indice_i: 51532 ,monto_ini: 444.75 ,indice_f: 51538 ,monto_fin: 448.2000122070313\n",
      "Procesando: 2024-08-09\n",
      "indice_i: 51539 ,monto_ini: 447.7699890136719 ,indice_f: 51545 ,monto_fin: 450.5299987792969\n",
      "Procesando: 2024-08-12\n",
      "indice_i: 51546 ,monto_ini: 452.7099914550781 ,indice_f: 51552 ,monto_fin: 451.4700012207031\n",
      "Procesando: 2024-08-13\n",
      "indice_i: 51553 ,monto_ini: 457.7898864746094 ,indice_f: 51559 ,monto_fin: 462.6000061035156\n",
      "Procesando: 2024-08-14\n",
      "indice_i: 51560 ,monto_ini: 460.3949890136719 ,indice_f: 51566 ,monto_fin: 462.8200073242188\n",
      "posible caso: 51674 QQQ , fecha: 2024-09-06 00:00:00\n",
      "posible caso: 52563 QQQ , fecha: 2025-03-13 00:00:00\n",
      "posible caso: 52692 QQQ , fecha: 2025-04-08 00:00:00\n",
      "Procesando: 2025-04-09\n",
      "indice_i: 52693 ,monto_ini: 421.2799987792969 ,indice_f: 52699 ,monto_fin: 465.1600036621094\n",
      "Procesando: 2025-04-10\n",
      "indice_i: 52700 ,monto_ini: 450.1485900878906 ,indice_f: 52706 ,monto_fin: 446.1799926757813\n"
     ]
    },
    {
     "name": "stdout",
     "output_type": "stream",
     "text": [
      "posible caso: 52745 QQQ , fecha: 2025-04-21 00:00:00\n",
      "posible caso: 53367 MSFT , fecha: 2023-08-18 00:00:00\n",
      "Procesando: 2023-08-18\n",
      "indice_i: 53368 ,monto_ini: 314.85040283203125 ,indice_f: 53373 ,monto_fin: 316.5199890136719\n",
      "Procesando: 2023-08-21\n",
      "indice_i: 53374 ,monto_ini: 318.07000732421875 ,indice_f: 53380 ,monto_fin: 321.8599853515625\n",
      "Procesando: 2023-08-22\n",
      "indice_i: 53381 ,monto_ini: 324.2900085449219 ,indice_f: 53387 ,monto_fin: 322.45001220703125\n",
      "posible caso: 53676 MSFT , fecha: 2023-10-20 00:00:00\n",
      "Procesando: 2023-10-20\n",
      "indice_i: 53677 ,monto_ini: 326.8599853515625 ,indice_f: 53681 ,monto_fin: 326.6724853515625\n",
      "Procesando: 2023-10-23\n",
      "indice_i: 53682 ,monto_ini: 327.29998779296875 ,indice_f: 53688 ,monto_fin: 329.1600036621094\n",
      "Procesando: 2023-10-24\n",
      "indice_i: 53689 ,monto_ini: 330.8700866699219 ,indice_f: 53695 ,monto_fin: 330.7900085449219\n",
      "Procesando: 2023-10-25\n",
      "indice_i: 53696 ,monto_ini: 340.364990234375 ,indice_f: 53702 ,monto_fin: 340.6700134277344\n",
      "Procesando: 2023-10-26\n",
      "indice_i: 53703 ,monto_ini: 333.4750061035156 ,indice_f: 53709 ,monto_fin: 327.8399963378906\n",
      "posible caso: 54594 MSFT , fecha: 2024-04-30 00:00:00\n",
      "Procesando: 2024-05-01\n",
      "indice_i: 54595 ,monto_ini: 393.625 ,indice_f: 54601 ,monto_fin: 394.8999938964844\n"
     ]
    },
    {
     "name": "stdout",
     "output_type": "stream",
     "text": [
      "Procesando: 2024-05-02\n",
      "indice_i: 54602 ,monto_ini: 396.2799987792969 ,indice_f: 54608 ,monto_fin: 397.9400024414063\n",
      "Procesando: 2024-05-03\n",
      "indice_i: 54609 ,monto_ini: 405.7200012207031 ,indice_f: 54615 ,monto_fin: 406.8399963378906\n",
      "Procesando: 2024-05-06\n",
      "indice_i: 54616 ,monto_ini: 408.1950073242188 ,indice_f: 54622 ,monto_fin: 413.6400146484375\n",
      "Procesando: 2024-05-07\n",
      "indice_i: 54623 ,monto_ini: 411.7049865722656 ,indice_f: 54629 ,monto_fin: 409.1700134277344\n",
      "posible caso: 55046 MSFT , fecha: 2024-08-05 00:00:00\n",
      "Procesando: 2024-08-05\n",
      "indice_i: 55047 ,monto_ini: 399.0799865722656 ,indice_f: 55052 ,monto_fin: 395.2300109863281\n",
      "Procesando: 2024-08-06\n",
      "indice_i: 55053 ,monto_ini: 401.8949890136719 ,indice_f: 55059 ,monto_fin: 399.4299926757813\n",
      "Procesando: 2024-08-07\n",
      "indice_i: 55060 ,monto_ini: 408.4500122070313 ,indice_f: 55066 ,monto_fin: 398.2000122070313\n",
      "posible caso: 55211 MSFT , fecha: 2024-09-06 00:00:00\n",
      "posible caso: 55360 MSFT , fecha: 2024-10-07 00:00:00\n",
      "posible caso: 55480 MSFT , fecha: 2024-10-31 00:00:00\n",
      "posible caso: 55486 MSFT , fecha: 2024-10-31 00:00:00\n",
      "Procesando: 2024-11-01\n",
      "indice_i: 55487 ,monto_ini: 411.8800048828125 ,indice_f: 55493 ,monto_fin: 410.010009765625\n",
      "Procesando: 2024-11-04\n",
      "indice_i: 55494 ,monto_ini: 409.7749938964844 ,indice_f: 55500 ,monto_fin: 408.6600036621094\n",
      "posible caso: 55585 MSFT , fecha: 2024-11-21 00:00:00\n",
      "posible caso: 55769 MSFT , fecha: 2025-01-02 00:00:00\n",
      "Procesando: 2025-01-02\n",
      "indice_i: 55770 ,monto_ini: 417.0700073242188 ,indice_f: 55772 ,monto_fin: 418.6900024414063\n",
      "Procesando: 2025-01-03\n",
      "indice_i: 55773 ,monto_ini: 420.9200134277344 ,indice_f: 55779 ,monto_fin: 423.3500061035156\n",
      "Procesando: 2025-01-06\n",
      "indice_i: 55780 ,monto_ini: 432.64849853515625 ,indice_f: 55786 ,monto_fin: 428.0700073242188\n"
     ]
    },
    {
     "name": "stdout",
     "output_type": "stream",
     "text": [
      "posible caso: 55820 MSFT , fecha: 2025-01-14 00:00:00\n",
      "Procesando: 2025-01-14\n",
      "indice_i: 55821 ,monto_ini: 415.6799926757813 ,indice_f: 55821 ,monto_fin: 415.6799926757813\n",
      "Procesando: 2025-01-15\n",
      "indice_i: 55822 ,monto_ini: 425.2749938964844 ,indice_f: 55828 ,monto_fin: 426.260009765625\n",
      "Procesando: 2025-01-16\n",
      "indice_i: 55829 ,monto_ini: 426.135009765625 ,indice_f: 55835 ,monto_fin: 424.5400085449219\n",
      "posible caso: 56098 MSFT , fecha: 2025-03-13 00:00:00\n",
      "posible caso: 56227 MSFT , fecha: 2025-04-08 00:00:00\n",
      "Procesando: 2025-04-09\n",
      "indice_i: 56228 ,monto_ini: 361.0450134277344 ,indice_f: 56234 ,monto_fin: 390.4299926757813\n",
      "Procesando: 2025-04-10\n",
      "indice_i: 56235 ,monto_ini: 377.7699890136719 ,indice_f: 56241 ,monto_fin: 381.1400146484375\n",
      "posible caso: 56282 MSFT , fecha: 2025-04-21 00:00:00\n",
      "Procesando: 2025-04-21\n",
      "indice_i: 56283 ,monto_ini: 359.1400146484375 ,indice_f: 56283 ,monto_fin: 359.1400146484375\n",
      "Procesando: 2025-04-22\n",
      "indice_i: 56284 ,monto_ini: 362.8599853515625 ,indice_f: 56290 ,monto_fin: 366.739990234375\n",
      "Procesando: 2025-04-23\n",
      "indice_i: 56291 ,monto_ini: 378.8699951171875 ,indice_f: 56297 ,monto_fin: 374.0499877929688\n",
      "posible caso: 57069 NVDA , fecha: 2023-09-21 00:00:00\n",
      "posible caso: 57241 NVDA , fecha: 2023-10-26 00:00:00\n"
     ]
    },
    {
     "name": "stdout",
     "output_type": "stream",
     "text": [
      "posible caso: 58601 NVDA , fecha: 2024-08-07 00:00:00\n",
      "posible caso: 58744 NVDA , fecha: 2024-09-06 00:00:00\n",
      "Procesando: 2024-09-06\n",
      "indice_i: 58745 ,monto_ini: 102.61499786376952 ,indice_f: 58748 ,monto_fin: 102.83999633789062\n",
      "Procesando: 2024-09-09\n",
      "indice_i: 58749 ,monto_ini: 105.04199981689452 ,indice_f: 58755 ,monto_fin: 106.4800033569336\n",
      "Procesando: 2024-09-10\n",
      "indice_i: 58756 ,monto_ini: 107.29000091552734 ,indice_f: 58762 ,monto_fin: 108.0199966430664\n",
      "Procesando: 2024-09-11\n",
      "indice_i: 58763 ,monto_ini: 109.31500244140624 ,indice_f: 58769 ,monto_fin: 116.8499984741211\n",
      "Procesando: 2024-09-12\n",
      "indice_i: 58770 ,monto_ini: 119.6050033569336 ,indice_f: 58776 ,monto_fin: 119.18000030517578\n",
      "Procesando: 2024-09-13\n",
      "indice_i: 58777 ,monto_ini: 118.37000274658205 ,indice_f: 58783 ,monto_fin: 119.06999969482422\n",
      "posible caso: 58804 NVDA , fecha: 2024-09-18 00:00:00\n",
      "Procesando: 2024-09-19\n",
      "indice_i: 58805 ,monto_ini: 119.22000122070312 ,indice_f: 58811 ,monto_fin: 117.9800033569336\n",
      "Procesando: 2024-09-20\n",
      "indice_i: 58812 ,monto_ini: 117.08000183105467 ,indice_f: 58818 ,monto_fin: 116.08000183105467\n",
      "posible caso: 58864 NVDA , fecha: 2024-10-01 00:00:00\n",
      "Procesando: 2024-10-01\n",
      "indice_i: 58865 ,monto_ini: 117.81009674072266 ,indice_f: 58867 ,monto_fin: 116.94989776611328\n",
      "Procesando: 2024-10-02\n",
      "indice_i: 58868 ,monto_ini: 118.25 ,indice_f: 58874 ,monto_fin: 118.83989715576172\n",
      "Procesando: 2024-10-03\n",
      "indice_i: 58875 ,monto_ini: 122.26000213623048 ,indice_f: 58881 ,monto_fin: 122.83999633789062\n",
      "Procesando: 2024-10-04\n",
      "indice_i: 58882 ,monto_ini: 122.5199966430664 ,indice_f: 58888 ,monto_fin: 124.88999938964844\n"
     ]
    },
    {
     "name": "stdout",
     "output_type": "stream",
     "text": [
      "posible caso: 59355 NVDA , fecha: 2025-01-14 00:00:00\n",
      "Procesando: 2025-01-14\n",
      "indice_i: 59356 ,monto_ini: 131.85000610351562 ,indice_f: 59356 ,monto_fin: 131.85000610351562\n",
      "Procesando: 2025-01-15\n",
      "indice_i: 59357 ,monto_ini: 134.1999969482422 ,indice_f: 59363 ,monto_fin: 136.1999969482422\n",
      "Procesando: 2025-01-16\n",
      "indice_i: 59364 ,monto_ini: 137.1999969482422 ,indice_f: 59370 ,monto_fin: 133.55999755859375\n",
      "posible caso: 59441 NVDA , fecha: 2025-02-03 00:00:00\n",
      "Procesando: 2025-02-03\n",
      "indice_i: 59442 ,monto_ini: 116.53700256347656 ,indice_f: 59447 ,monto_fin: 116.66000366210938\n",
      "Procesando: 2025-02-04\n",
      "indice_i: 59448 ,monto_ini: 119.93000030517578 ,indice_f: 59454 ,monto_fin: 118.68000030517578\n",
      "Procesando: 2025-02-05\n",
      "indice_i: 59455 ,monto_ini: 122.30999755859376 ,indice_f: 59461 ,monto_fin: 124.95500183105467\n",
      "Procesando: 2025-02-06\n",
      "indice_i: 59462 ,monto_ini: 126.22160339355467 ,indice_f: 59468 ,monto_fin: 128.68499755859375\n",
      "Procesando: 2025-02-07\n",
      "indice_i: 59469 ,monto_ini: 129.11000061035156 ,indice_f: 59475 ,monto_fin: 129.86000061035156\n",
      "Procesando: 2025-02-10\n",
      "indice_i: 59476 ,monto_ini: 134.41000366210938 ,indice_f: 59482 ,monto_fin: 133.50999450683594\n",
      "Procesando: 2025-02-11\n",
      "indice_i: 59483 ,monto_ini: 133.94500732421875 ,indice_f: 59489 ,monto_fin: 132.8699951171875\n",
      "Procesando: 2025-02-12\n",
      "indice_i: 59490 ,monto_ini: 131.32020568847656 ,indice_f: 59496 ,monto_fin: 131.07989501953125\n",
      "posible caso: 59815 NVDA , fecha: 2025-04-21 00:00:00\n",
      "posible caso: 60682 WMT , fecha: 2023-10-09 00:00:00\n",
      "posible caso: 60907 WMT , fecha: 2023-11-22 00:00:00\n",
      "Procesando: 2023-11-22\n",
      "indice_i: 60908 ,monto_ini: 51.630001068115234 ,indice_f: 60912 ,monto_fin: 51.54999923706055\n",
      "Procesando: 2023-11-24\n",
      "indice_i: 60913 ,monto_ini: 51.7391357421875 ,indice_f: 60915 ,monto_fin: 51.9666633605957\n",
      "Procesando: 2023-11-27\n",
      "indice_i: 60916 ,monto_ini: 52.40666580200195 ,indice_f: 60922 ,monto_fin: 52.25333023071289\n",
      "Procesando: 2023-11-28\n",
      "indice_i: 60923 ,monto_ini: 52.56333541870117 ,indice_f: 60929 ,monto_fin: 52.90133285522461\n",
      "Procesando: 2023-11-29\n",
      "indice_i: 60930 ,monto_ini: 52.04666519165039 ,indice_f: 60936 ,monto_fin: 52.02999877929688\n"
     ]
    },
    {
     "name": "stdout",
     "output_type": "stream",
     "text": [
      "posible caso: 61107 WMT , fecha: 2024-01-05 00:00:00\n",
      "posible caso: 63166 WMT , fecha: 2025-03-13 00:00:00\n",
      "posible caso: 63227 WMT , fecha: 2025-03-25 00:00:00\n",
      "posible caso: 63297 WMT , fecha: 2025-04-08 00:00:00\n",
      "Procesando: 2025-04-09\n",
      "indice_i: 63298 ,monto_ini: 84.61499786376953 ,indice_f: 63304 ,monto_fin: 89.61000061035156\n",
      "Procesando: 2025-04-10\n",
      "indice_i: 63305 ,monto_ini: 90.6500015258789 ,indice_f: 63311 ,monto_fin: 90.58000183105467\n",
      "Procesando: 2025-04-11\n",
      "indice_i: 63312 ,monto_ini: 90.66999816894533 ,indice_f: 63318 ,monto_fin: 92.76000213623048\n",
      "Procesando: 2025-04-14\n",
      "indice_i: 63319 ,monto_ini: 93.87000274658205 ,indice_f: 63325 ,monto_fin: 94.83499908447266\n",
      "Procesando: 2025-04-15\n",
      "indice_i: 63326 ,monto_ini: 95.55500030517578 ,indice_f: 63332 ,monto_fin: 93.98999786376952\n",
      "posible caso: 63704 BA , fecha: 2023-06-23 00:00:00\n",
      "Procesando: 2023-06-23\n",
      "indice_i: 63705 ,monto_ini: 204.6000061035156 ,indice_f: 63709 ,monto_fin: 205.42999267578125\n",
      "Procesando: 2023-06-26\n",
      "indice_i: 63710 ,monto_ini: 205.5 ,indice_f: 63716 ,monto_fin: 205.5500030517578\n",
      "Procesando: 2023-06-27\n",
      "indice_i: 63717 ,monto_ini: 207.15890502929688 ,indice_f: 63723 ,monto_fin: 209.44000244140625\n",
      "Procesando: 2023-06-28\n",
      "indice_i: 63724 ,monto_ini: 210.5399932861328 ,indice_f: 63730 ,monto_fin: 210.75\n",
      "Procesando: 2023-06-29\n",
      "indice_i: 63731 ,monto_ini: 212.8800048828125 ,indice_f: 63737 ,monto_fin: 211.8300018310547\n",
      "Procesando: 2023-06-30\n",
      "indice_i: 63738 ,monto_ini: 212.1750030517578 ,indice_f: 63744 ,monto_fin: 211.1499938964844\n",
      "Procesando: 2023-07-03\n",
      "indice_i: 63745 ,monto_ini: 211.1300048828125 ,indice_f: 63747 ,monto_fin: 212.0\n"
     ]
    },
    {
     "name": "stdout",
     "output_type": "stream",
     "text": [
      "posible caso: 64301 BA , fecha: 2023-10-25 00:00:00\n",
      "posible caso: 64307 BA , fecha: 2023-10-25 00:00:00\n",
      "posible caso: 64686 BA , fecha: 2024-01-16 00:00:00\n",
      "Procesando: 2024-01-16\n",
      "indice_i: 64687 ,monto_ini: 201.2174072265625 ,indice_f: 64688 ,monto_fin: 200.42999267578125\n",
      "Procesando: 2024-01-17\n",
      "indice_i: 64689 ,monto_ini: 203.9384002685547 ,indice_f: 64695 ,monto_fin: 203.1100006103516\n",
      "posible caso: 64756 BA , fecha: 2024-01-30 00:00:00\n",
      "Procesando: 2024-01-30\n",
      "indice_i: 64757 ,monto_ini: 199.7028961181641 ,indice_f: 64758 ,monto_fin: 200.4600067138672\n",
      "Procesando: 2024-01-31\n",
      "indice_i: 64759 ,monto_ini: 206.875 ,indice_f: 64765 ,monto_fin: 211.02999877929688\n",
      "Procesando: 2024-02-01\n",
      "indice_i: 64766 ,monto_ini: 209.0399932861328 ,indice_f: 64772 ,monto_fin: 209.8099975585937\n",
      "posible caso: 64983 BA , fecha: 2024-03-18 00:00:00\n",
      "Procesando: 2024-03-18\n",
      "indice_i: 64984 ,monto_ini: 180.4100036621093 ,indice_f: 64989 ,monto_fin: 179.9199981689453\n",
      "Procesando: 2024-03-19\n",
      "indice_i: 64990 ,monto_ini: 180.44000244140625 ,indice_f: 64996 ,monto_fin: 181.1000061035156\n",
      "Procesando: 2024-03-20\n",
      "indice_i: 64997 ,monto_ini: 184.22000122070312 ,indice_f: 65003 ,monto_fin: 187.7899932861328\n",
      "Procesando: 2024-03-21\n",
      "indice_i: 65004 ,monto_ini: 189.9140014648437 ,indice_f: 65010 ,monto_fin: 187.759994506836\n",
      "Procesando: 2024-03-22\n",
      "indice_i: 65011 ,monto_ini: 191.1699981689453 ,indice_f: 65017 ,monto_fin: 188.8500061035156\n",
      "posible caso: 65122 BA , fecha: 2024-04-15 00:00:00\n",
      "Procesando: 2024-04-16\n",
      "indice_i: 65123 ,monto_ini: 168.6999969482422 ,indice_f: 65129 ,monto_fin: 170.55999755859375\n",
      "Procesando: 2024-04-17\n",
      "indice_i: 65130 ,monto_ini: 169.52999877929688 ,indice_f: 65136 ,monto_fin: 170.16000366210938\n"
     ]
    },
    {
     "name": "stdout",
     "output_type": "stream",
     "text": [
      "posible caso: 65271 BA , fecha: 2024-05-15 00:00:00\n",
      "Procesando: 2024-05-15\n",
      "indice_i: 65272 ,monto_ini: 178.14500427246094 ,indice_f: 65276 ,monto_fin: 177.0399932861328\n",
      "Procesando: 2024-05-16\n",
      "indice_i: 65277 ,monto_ini: 183.15109252929688 ,indice_f: 65283 ,monto_fin: 182.97999572753903\n",
      "Procesando: 2024-05-17\n",
      "indice_i: 65284 ,monto_ini: 182.7100067138672 ,indice_f: 65290 ,monto_fin: 185.0599975585937\n",
      "posible caso: 65339 BA , fecha: 2024-05-29 00:00:00\n",
      "Procesando: 2024-05-30\n",
      "indice_i: 65340 ,monto_ini: 173.39500427246094 ,indice_f: 65346 ,monto_fin: 172.75\n",
      "Procesando: 2024-05-31\n",
      "indice_i: 65347 ,monto_ini: 173.5399932861328 ,indice_f: 65353 ,monto_fin: 177.67999267578125\n",
      "Procesando: 2024-06-03\n",
      "indice_i: 65354 ,monto_ini: 182.5 ,indice_f: 65360 ,monto_fin: 184.88999938964844\n",
      "Procesando: 2024-06-04\n",
      "indice_i: 65361 ,monto_ini: 186.58999633789065 ,indice_f: 65367 ,monto_fin: 188.6199951171875\n",
      "Procesando: 2024-06-05\n",
      "indice_i: 65368 ,monto_ini: 187.8500061035156 ,indice_f: 65374 ,monto_fin: 189.8999938964844\n",
      "posible caso: 65585 BA , fecha: 2024-07-22 00:00:00\n",
      "Procesando: 2024-07-22\n",
      "indice_i: 65586 ,monto_ini: 178.4600067138672 ,indice_f: 65587 ,monto_fin: 178.89999389648438\n",
      "Procesando: 2024-07-23\n",
      "indice_i: 65588 ,monto_ini: 181.3600006103516 ,indice_f: 65594 ,monto_fin: 186.47000122070312\n",
      "Procesando: 2024-07-24\n",
      "indice_i: 65595 ,monto_ini: 182.6999969482422 ,indice_f: 65601 ,monto_fin: 180.05999755859375\n",
      "posible caso: 65671 BA , fecha: 2024-08-07 00:00:00\n",
      "Procesando: 2024-08-08\n",
      "indice_i: 65672 ,monto_ini: 167.5084991455078 ,indice_f: 65678 ,monto_fin: 168.94000244140625\n",
      "Procesando: 2024-08-09\n",
      "indice_i: 65679 ,monto_ini: 167.7790069580078 ,indice_f: 65685 ,monto_fin: 167.91000366210938\n",
      "posible caso: 65983 BA , fecha: 2024-10-10 00:00:00\n",
      "Procesando: 2024-10-10\n",
      "indice_i: 65984 ,monto_ini: 146.83999633789062 ,indice_f: 65986 ,monto_fin: 146.6699981689453\n",
      "Procesando: 2024-10-11\n",
      "indice_i: 65987 ,monto_ini: 149.33700561523438 ,indice_f: 65993 ,monto_fin: 151.03250122070312\n",
      "Procesando: 2024-10-14\n",
      "indice_i: 65994 ,monto_ini: 147.3699951171875 ,indice_f: 66000 ,monto_fin: 149.0449981689453\n"
     ]
    },
    {
     "name": "stdout",
     "output_type": "stream",
     "text": [
      "posible caso: 66157 BA , fecha: 2024-11-14 00:00:00\n",
      "posible caso: 66262 BA , fecha: 2024-12-06 00:00:00\n",
      "Procesando: 2024-12-09\n",
      "indice_i: 66263 ,monto_ini: 159.42999267578125 ,indice_f: 66269 ,monto_fin: 157.1699981689453\n",
      "Procesando: 2024-12-10\n",
      "indice_i: 66270 ,monto_ini: 164.28500366210938 ,indice_f: 66276 ,monto_fin: 164.14999389648438\n",
      "Procesando: 2024-12-11\n",
      "indice_i: 66277 ,monto_ini: 167.5850067138672 ,indice_f: 66283 ,monto_fin: 165.97000122070312\n",
      "posible caso: 66433 BA , fecha: 2025-01-15 00:00:00\n",
      "Procesando: 2025-01-16\n",
      "indice_i: 66434 ,monto_ini: 170.38999938964844 ,indice_f: 66440 ,monto_fin: 168.8800048828125\n",
      "Procesando: 2025-01-17\n",
      "indice_i: 66441 ,monto_ini: 170.8800048828125 ,indice_f: 66447 ,monto_fin: 171.0500030517578\n",
      "Procesando: 2025-01-21\n",
      "indice_i: 66448 ,monto_ini: 175.19000244140625 ,indice_f: 66454 ,monto_fin: 175.50999450683594\n",
      "Procesando: 2025-01-22\n",
      "indice_i: 66455 ,monto_ini: 175.10000610351562 ,indice_f: 66461 ,monto_fin: 174.8000030517578\n",
      "posible caso: 66812 BA , fecha: 2025-04-04 00:00:00\n",
      "posible caso: 67239 DIS , fecha: 2023-06-23 00:00:00\n",
      "Procesando: 2023-06-23\n",
      "indice_i: 67240 ,monto_ini: 88.18910217285156 ,indice_f: 67244 ,monto_fin: 88.11000061035156\n",
      "Procesando: 2023-06-26\n",
      "indice_i: 67245 ,monto_ini: 88.58999633789062 ,indice_f: 67251 ,monto_fin: 88.70999908447266\n",
      "Procesando: 2023-06-27\n",
      "indice_i: 67252 ,monto_ini: 89.01020050048828 ,indice_f: 67258 ,monto_fin: 89.05000305175781\n",
      "Procesando: 2023-06-28\n",
      "indice_i: 67259 ,monto_ini: 88.9999008178711 ,indice_f: 67265 ,monto_fin: 88.83999633789062\n"
     ]
    },
    {
     "name": "stdout",
     "output_type": "stream",
     "text": [
      "posible caso: 67343 DIS , fecha: 2023-07-17 00:00:00\n",
      "Procesando: 2023-07-17\n",
      "indice_i: 67344 ,monto_ini: 85.68499755859375 ,indice_f: 67345 ,monto_fin: 85.58000183105469\n",
      "Procesando: 2023-07-18\n",
      "indice_i: 67346 ,monto_ini: 86.63500213623047 ,indice_f: 67352 ,monto_fin: 85.97000122070312\n",
      "Procesando: 2023-07-19\n",
      "indice_i: 67353 ,monto_ini: 87.51000213623047 ,indice_f: 67359 ,monto_fin: 87.04000091552734\n",
      "Procesando: 2023-07-20\n",
      "indice_i: 67360 ,monto_ini: 86.3499984741211 ,indice_f: 67366 ,monto_fin: 86.18000030517578\n",
      "posible caso: 67401 DIS , fecha: 2023-07-27 00:00:00\n",
      "posible caso: 67541 DIS , fecha: 2023-08-24 00:00:00\n",
      "posible caso: 67600 DIS , fecha: 2023-09-07 00:00:00\n",
      "Procesando: 2023-09-07\n",
      "indice_i: 67601 ,monto_ini: 80.25499725341797 ,indice_f: 67604 ,monto_fin: 80.55999755859375\n",
      "Procesando: 2023-09-08\n",
      "indice_i: 67605 ,monto_ini: 81.15170288085938 ,indice_f: 67611 ,monto_fin: 81.58499908447266\n",
      "Procesando: 2023-09-11\n",
      "indice_i: 67612 ,monto_ini: 83.7300033569336 ,indice_f: 67618 ,monto_fin: 82.54000091552734\n",
      "Procesando: 2023-09-12\n",
      "indice_i: 67619 ,monto_ini: 83.26000213623047 ,indice_f: 67625 ,monto_fin: 83.68000030517578\n",
      "Procesando: 2023-09-13\n",
      "indice_i: 67626 ,monto_ini: 83.4010009765625 ,indice_f: 67632 ,monto_fin: 83.47000122070312\n",
      "posible caso: 67735 DIS , fecha: 2023-10-04 00:00:00\n",
      "Procesando: 2023-10-04\n",
      "indice_i: 67736 ,monto_ini: 79.21499633789062 ,indice_f: 67737 ,monto_fin: 79.30000305175781\n",
      "Procesando: 2023-10-05\n",
      "indice_i: 67738 ,monto_ini: 79.5 ,indice_f: 67744 ,monto_fin: 80.81999969482422\n",
      "Procesando: 2023-10-06\n",
      "indice_i: 67745 ,monto_ini: 81.4800033569336 ,indice_f: 67751 ,monto_fin: 82.93000030517578\n",
      "Procesando: 2023-10-09\n",
      "indice_i: 67752 ,monto_ini: 83.58000183105469 ,indice_f: 67758 ,monto_fin: 84.69999694824219\n",
      "Procesando: 2023-10-10\n",
      "indice_i: 67759 ,monto_ini: 84.77999877929688 ,indice_f: 67765 ,monto_fin: 84.98999786376953\n",
      "Procesando: 2023-10-11\n",
      "indice_i: 67766 ,monto_ini: 84.94999694824219 ,indice_f: 67772 ,monto_fin: 84.83999633789062\n",
      "posible caso: 67856 DIS , fecha: 2023-10-27 00:00:00\n"
     ]
    },
    {
     "name": "stdout",
     "output_type": "stream",
     "text": [
      "posible caso: 68030 DIS , fecha: 2023-12-05 00:00:00\n",
      "posible caso: 68196 DIS , fecha: 2024-01-10 00:00:00\n",
      "Procesando: 2024-01-10\n",
      "indice_i: 68197 ,monto_ini: 89.40499877929688 ,indice_f: 68202 ,monto_fin: 89.27999877929688\n",
      "Procesando: 2024-01-11\n",
      "indice_i: 68203 ,monto_ini: 88.99500274658203 ,indice_f: 68209 ,monto_fin: 89.44999694824219\n",
      "posible caso: 68806 DIS , fecha: 2024-05-15 00:00:00\n",
      "Procesando: 2024-05-15\n",
      "indice_i: 68807 ,monto_ini: 102.45999908447266 ,indice_f: 68811 ,monto_fin: 102.76000213623048\n",
      "Procesando: 2024-05-16\n",
      "indice_i: 68812 ,monto_ini: 103.56999969482422 ,indice_f: 68818 ,monto_fin: 103.41000366210938\n",
      "Procesando: 2024-05-17\n",
      "indice_i: 68819 ,monto_ini: 103.76000213623048 ,indice_f: 68825 ,monto_fin: 103.29499816894533\n",
      "Procesando: 2024-05-20\n",
      "indice_i: 68826 ,monto_ini: 102.9884033203125 ,indice_f: 68832 ,monto_fin: 102.94000244140624\n",
      "posible caso: 68851 DIS , fecha: 2024-05-23 00:00:00\n",
      "Procesando: 2024-05-23\n",
      "indice_i: 68852 ,monto_ini: 100.8000030517578 ,indice_f: 68853 ,monto_fin: 100.68000030517578\n",
      "Procesando: 2024-05-24\n",
      "indice_i: 68854 ,monto_ini: 101.69100189208984 ,indice_f: 68860 ,monto_fin: 101.73999786376952\n",
      "Procesando: 2024-05-28\n",
      "indice_i: 68861 ,monto_ini: 102.3499984741211 ,indice_f: 68867 ,monto_fin: 102.4499969482422\n",
      "Procesando: 2024-05-29\n",
      "indice_i: 68868 ,monto_ini: 101.62000274658205 ,indice_f: 68874 ,monto_fin: 100.87999725341795\n",
      "posible caso: 68955 DIS , fecha: 2024-06-14 00:00:00\n"
     ]
    },
    {
     "name": "stdout",
     "output_type": "stream",
     "text": [
      "posible caso: 69070 DIS , fecha: 2024-07-11 00:00:00\n",
      "posible caso: 69143 DIS , fecha: 2024-07-25 00:00:00\n",
      "posible caso: 69231 DIS , fecha: 2024-08-13 00:00:00\n",
      "posible caso: 69349 DIS , fecha: 2024-09-06 00:00:00\n",
      "Procesando: 2024-09-06\n",
      "indice_i: 69350 ,monto_ini: 87.98500061035156 ,indice_f: 69353 ,monto_fin: 87.9800033569336\n",
      "Procesando: 2024-09-09\n",
      "indice_i: 69354 ,monto_ini: 88.21810150146484 ,indice_f: 69360 ,monto_fin: 88.3499984741211\n",
      "Procesando: 2024-09-10\n",
      "indice_i: 69361 ,monto_ini: 88.05999755859375 ,indice_f: 69367 ,monto_fin: 88.4000015258789\n",
      "posible caso: 69499 DIS , fecha: 2024-10-07 00:00:00\n",
      "Procesando: 2024-10-07\n",
      "indice_i: 69500 ,monto_ini: 92.38999938964844 ,indice_f: 69500 ,monto_fin: 92.38999938964844\n",
      "Procesando: 2024-10-08\n",
      "indice_i: 69501 ,monto_ini: 92.83000183105467 ,indice_f: 69507 ,monto_fin: 92.51000213623048\n",
      "Procesando: 2024-10-09\n",
      "indice_i: 69508 ,monto_ini: 92.05999755859376 ,indice_f: 69514 ,monto_fin: 93.5999984741211\n",
      "posible caso: 69598 DIS , fecha: 2024-10-25 00:00:00\n",
      "Procesando: 2024-10-28\n",
      "indice_i: 69599 ,monto_ini: 95.97000122070312 ,indice_f: 69605 ,monto_fin: 96.25\n",
      "Procesando: 2024-10-29\n",
      "indice_i: 69606 ,monto_ini: 96.5114974975586 ,indice_f: 69612 ,monto_fin: 96.18000030517578\n",
      "Procesando: 2024-10-30\n",
      "indice_i: 69613 ,monto_ini: 96.37999725341795 ,indice_f: 69619 ,monto_fin: 95.08999633789062\n",
      "posible caso: 70237 DIS , fecha: 2025-03-13 00:00:00\n"
     ]
    },
    {
     "name": "stdout",
     "output_type": "stream",
     "text": [
      "posible caso: 70367 DIS , fecha: 2025-04-08 00:00:00\n",
      "Procesando: 2025-04-09\n",
      "indice_i: 70368 ,monto_ini: 82.37999725341797 ,indice_f: 70374 ,monto_fin: 91.41000366210938\n",
      "Procesando: 2025-04-10\n",
      "indice_i: 70375 ,monto_ini: 85.94000244140625 ,indice_f: 70381 ,monto_fin: 85.19499969482422\n",
      "posible caso: 70408 DIS , fecha: 2025-04-16 00:00:00\n",
      "Procesando: 2025-04-16\n",
      "indice_i: 70409 ,monto_ini: 82.7699966430664 ,indice_f: 70409 ,monto_fin: 82.7699966430664\n",
      "Procesando: 2025-04-17\n",
      "indice_i: 70410 ,monto_ini: 84.12999725341797 ,indice_f: 70416 ,monto_fin: 84.77999877929688\n",
      "Procesando: 2025-04-21\n",
      "indice_i: 70417 ,monto_ini: 83.08499908447266 ,indice_f: 70423 ,monto_fin: 83.96499633789062\n",
      "posible caso: 71404 CAT , fecha: 2023-10-31 00:00:00\n",
      "posible caso: 71454 CAT , fecha: 2023-11-09 00:00:00\n",
      "Procesando: 2023-11-10\n",
      "indice_i: 71455 ,monto_ini: 236.25 ,indice_f: 71461 ,monto_fin: 239.75\n",
      "Procesando: 2023-11-13\n",
      "indice_i: 71462 ,monto_ini: 240.2899932861328 ,indice_f: 71468 ,monto_fin: 241.69000244140625\n",
      "Procesando: 2023-11-14\n",
      "indice_i: 71469 ,monto_ini: 247.33059692382807 ,indice_f: 71475 ,monto_fin: 247.8699951171875\n",
      "Procesando: 2023-11-15\n",
      "indice_i: 71476 ,monto_ini: 251.1499938964844 ,indice_f: 71482 ,monto_fin: 251.1100006103516\n",
      "Procesando: 2023-11-16\n",
      "indice_i: 71483 ,monto_ini: 248.8600006103516 ,indice_f: 71489 ,monto_fin: 248.2100067138672\n",
      "posible caso: 71511 CAT , fecha: 2023-11-22 00:00:00\n",
      "Procesando: 2023-11-22\n",
      "indice_i: 71512 ,monto_ini: 246.07000732421875 ,indice_f: 71517 ,monto_fin: 246.02999877929688\n",
      "Procesando: 2023-11-24\n",
      "indice_i: 71518 ,monto_ini: 248.6000061035156 ,indice_f: 71520 ,monto_fin: 247.33999633789065\n",
      "Procesando: 2023-11-27\n",
      "indice_i: 71521 ,monto_ini: 247.57000732421875 ,indice_f: 71527 ,monto_fin: 247.38999938964844\n",
      "Procesando: 2023-11-28\n",
      "indice_i: 71528 ,monto_ini: 246.7949981689453 ,indice_f: 71534 ,monto_fin: 247.5200042724609\n"
     ]
    },
    {
     "name": "stdout",
     "output_type": "stream",
     "text": [
      "posible caso: 71517 CAT , fecha: 2023-11-22 00:00:00\n",
      "Procesando: 2023-11-24\n",
      "indice_i: 71518 ,monto_ini: 248.6000061035156 ,indice_f: 71520 ,monto_fin: 247.33999633789065\n",
      "Procesando: 2023-11-27\n",
      "indice_i: 71521 ,monto_ini: 247.57000732421875 ,indice_f: 71527 ,monto_fin: 247.38999938964844\n",
      "Procesando: 2023-11-28\n",
      "indice_i: 71528 ,monto_ini: 246.7949981689453 ,indice_f: 71534 ,monto_fin: 247.5200042724609\n",
      "posible caso: 72487 CAT , fecha: 2024-06-14 00:00:00\n",
      "Procesando: 2024-06-14\n",
      "indice_i: 72488 ,monto_ini: 320.0849914550781 ,indice_f: 72493 ,monto_fin: 321.5799865722656\n",
      "Procesando: 2024-06-17\n",
      "indice_i: 72494 ,monto_ini: 320.5 ,indice_f: 72500 ,monto_fin: 322.32000732421875\n",
      "posible caso: 72588 CAT , fecha: 2024-07-09 00:00:00\n",
      "Procesando: 2024-07-09\n",
      "indice_i: 72589 ,monto_ini: 327.04998779296875 ,indice_f: 72594 ,monto_fin: 326.0199890136719\n",
      "Procesando: 2024-07-10\n",
      "indice_i: 72595 ,monto_ini: 323.1400146484375 ,indice_f: 72601 ,monto_fin: 328.3900146484375\n",
      "posible caso: 72671 CAT , fecha: 2024-07-24 00:00:00\n",
      "posible caso: 72721 CAT , fecha: 2024-08-05 00:00:00\n",
      "Procesando: 2024-08-05\n",
      "indice_i: 72722 ,monto_ini: 316.7799987792969 ,indice_f: 72727 ,monto_fin: 316.7300109863281\n",
      "Procesando: 2024-08-06\n",
      "indice_i: 72728 ,monto_ini: 328.9742126464844 ,indice_f: 72734 ,monto_fin: 326.260009765625\n",
      "Procesando: 2024-08-07\n",
      "indice_i: 72735 ,monto_ini: 329.510009765625 ,indice_f: 72741 ,monto_fin: 325.5799865722656\n",
      "posible caso: 72727 CAT , fecha: 2024-08-05 00:00:00\n",
      "posible caso: 72812 CAT , fecha: 2024-08-22 00:00:00\n",
      "posible caso: 72818 CAT , fecha: 2024-08-22 00:00:00\n",
      "Procesando: 2024-08-23\n",
      "indice_i: 72819 ,monto_ini: 347.4200134277344 ,indice_f: 72825 ,monto_fin: 348.3599853515625\n",
      "Procesando: 2024-08-26\n",
      "indice_i: 72826 ,monto_ini: 353.8800048828125 ,indice_f: 72832 ,monto_fin: 351.4700012207031\n",
      "Procesando: 2024-08-27\n",
      "indice_i: 72833 ,monto_ini: 350.0450134277344 ,indice_f: 72839 ,monto_fin: 351.07000732421875\n"
     ]
    },
    {
     "name": "stdout",
     "output_type": "stream",
     "text": [
      "posible caso: 72884 CAT , fecha: 2024-09-06 00:00:00\n",
      "Procesando: 2024-09-06\n",
      "indice_i: 72885 ,monto_ini: 329.79998779296875 ,indice_f: 72888 ,monto_fin: 329.4599914550781\n",
      "Procesando: 2024-09-09\n",
      "indice_i: 72889 ,monto_ini: 333.5799865722656 ,indice_f: 72895 ,monto_fin: 334.0599975585937\n",
      "Procesando: 2024-09-10\n",
      "indice_i: 72896 ,monto_ini: 332.1000061035156 ,indice_f: 72902 ,monto_fin: 334.0799865722656\n",
      "posible caso: 73395 CAT , fecha: 2024-12-19 00:00:00\n",
      "posible caso: 73481 CAT , fecha: 2025-01-10 00:00:00\n",
      "posible caso: 73722 CAT , fecha: 2025-03-04 00:00:00\n",
      "Procesando: 2025-03-04\n",
      "indice_i: 73723 ,monto_ini: 325.4049987792969 ,indice_f: 73727 ,monto_fin: 326.739990234375\n",
      "Procesando: 2025-03-05\n",
      "indice_i: 73728 ,monto_ini: 334.5899963378906 ,indice_f: 73734 ,monto_fin: 338.45001220703125\n",
      "Procesando: 2025-03-06\n",
      "indice_i: 73735 ,monto_ini: 338.82501220703125 ,indice_f: 73741 ,monto_fin: 341.010009765625\n",
      "Procesando: 2025-03-07\n",
      "indice_i: 73742 ,monto_ini: 346.1499938964844 ,indice_f: 73748 ,monto_fin: 350.2900085449219\n",
      "Procesando: 2025-03-10\n",
      "indice_i: 73749 ,monto_ini: 346.9800109863281 ,indice_f: 73755 ,monto_fin: 345.25\n",
      "posible caso: 73775 CAT , fecha: 2025-03-13 00:00:00\n",
      "posible caso: 73955 CAT , fecha: 2025-04-21 00:00:00\n",
      "Procesando: 2025-04-21\n",
      "indice_i: 73956 ,monto_ini: 283.239990234375 ,indice_f: 73958 ,monto_fin: 284.75\n",
      "Procesando: 2025-04-22\n",
      "indice_i: 73959 ,monto_ini: 288.17999267578125 ,indice_f: 73965 ,monto_fin: 291.0199890136719\n",
      "Procesando: 2025-04-23\n",
      "indice_i: 73966 ,monto_ini: 302.4800109863281 ,indice_f: 73972 ,monto_fin: 295.57000732421875\n",
      "posible caso: 74111 CAT , fecha: 2025-05-21 00:00:00\n",
      "Procesando: 2025-05-21\n",
      "indice_i: 74112 ,monto_ini: 342.5 ,indice_f: 74112 ,monto_fin: 342.5\n",
      "Procesando: 2025-05-22\n",
      "indice_i: 74113 ,monto_ini: 342.8949890136719 ,indice_f: 74119 ,monto_fin: 345.07000732421875\n",
      "Procesando: 2025-05-23\n",
      "indice_i: 74120 ,monto_ini: 341.8450012207031 ,indice_f: 74126 ,monto_fin: 343.42999267578125\n"
     ]
    },
    {
     "name": "stdout",
     "output_type": "stream",
     "text": [
      "posible caso: 74312 IBM , fecha: 2023-06-23 00:00:00\n",
      "Procesando: 2023-06-23\n",
      "indice_i: 74313 ,monto_ini: 129.44000244140625 ,indice_f: 74313 ,monto_fin: 129.44000244140625\n",
      "Procesando: 2023-06-26\n",
      "indice_i: 74314 ,monto_ini: 130.38499450683594 ,indice_f: 74320 ,monto_fin: 131.38999938964844\n",
      "Procesando: 2023-06-27\n",
      "indice_i: 74321 ,monto_ini: 131.52000427246094 ,indice_f: 74327 ,monto_fin: 132.33999633789062\n",
      "Procesando: 2023-06-28\n",
      "indice_i: 74328 ,monto_ini: 131.2899932861328 ,indice_f: 74334 ,monto_fin: 131.80999755859375\n",
      "posible caso: 74891 IBM , fecha: 2023-10-23 00:00:00\n",
      "posible caso: 75804 IBM , fecha: 2024-05-01 00:00:00\n",
      "Procesando: 2024-05-01\n",
      "indice_i: 75805 ,monto_ini: 165.85000610351562 ,indice_f: 75810 ,monto_fin: 164.36000061035156\n",
      "Procesando: 2024-05-02\n",
      "indice_i: 75811 ,monto_ini: 163.13999938964844 ,indice_f: 75817 ,monto_fin: 164.7100067138672\n",
      "posible caso: 75960 IBM , fecha: 2024-06-03 00:00:00\n",
      "posible caso: 76081 IBM , fecha: 2024-06-27 00:00:00\n",
      "posible caso: 77509 IBM , fecha: 2025-04-24 00:00:00\n",
      "Procesando: 2025-04-24\n",
      "indice_i: 77510 ,monto_ini: 227.8710021972656 ,indice_f: 77513 ,monto_fin: 229.2198028564453\n",
      "Procesando: 2025-04-25\n",
      "indice_i: 77514 ,monto_ini: 228.3300018310547 ,indice_f: 77520 ,monto_fin: 232.3999938964844\n"
     ]
    },
    {
     "name": "stdout",
     "output_type": "stream",
     "text": [
      "posible caso: 78146 WFC , fecha: 2023-08-25 00:00:00\n",
      "posible caso: 78205 WFC , fecha: 2023-09-07 00:00:00\n",
      "posible caso: 78459 WFC , fecha: 2023-10-27 00:00:00\n",
      "posible caso: 78520 WFC , fecha: 2023-11-09 00:00:00\n",
      "Procesando: 2023-11-09\n",
      "indice_i: 78521 ,monto_ini: 40.32500076293945 ,indice_f: 78522 ,monto_fin: 40.400001525878906\n",
      "Procesando: 2023-11-10\n",
      "indice_i: 78523 ,monto_ini: 40.494998931884766 ,indice_f: 78529 ,monto_fin: 40.88999938964844\n",
      "Procesando: 2023-11-13\n",
      "indice_i: 78530 ,monto_ini: 40.8650016784668 ,indice_f: 78536 ,monto_fin: 40.76499938964844\n",
      "posible caso: 79677 WFC , fecha: 2024-07-12 00:00:00\n",
      "Procesando: 2024-07-12\n",
      "indice_i: 79678 ,monto_ini: 56.03499984741211 ,indice_f: 79683 ,monto_fin: 56.61000061035156\n",
      "Procesando: 2024-07-15\n",
      "indice_i: 79684 ,monto_ini: 57.85499954223633 ,indice_f: 79690 ,monto_fin: 57.7400016784668\n",
      "Procesando: 2024-07-16\n",
      "indice_i: 79691 ,monto_ini: 59.125 ,indice_f: 79697 ,monto_fin: 60.2400016784668\n",
      "Procesando: 2024-07-17\n",
      "indice_i: 79698 ,monto_ini: 60.52999877929688 ,indice_f: 79704 ,monto_fin: 60.90999984741211\n",
      "Procesando: 2024-07-18\n",
      "indice_i: 79705 ,monto_ini: 60.68000030517578 ,indice_f: 79711 ,monto_fin: 59.2400016784668\n"
     ]
    },
    {
     "name": "stdout",
     "output_type": "stream",
     "text": [
      "posible caso: 79789 WFC , fecha: 2024-08-05 00:00:00\n",
      "Procesando: 2024-08-05\n",
      "indice_i: 79790 ,monto_ini: 51.584999084472656 ,indice_f: 79795 ,monto_fin: 52.130001068115234\n",
      "Procesando: 2024-08-06\n",
      "indice_i: 79796 ,monto_ini: 52.80500030517578 ,indice_f: 79802 ,monto_fin: 52.31499862670898\n",
      "Procesando: 2024-08-07\n",
      "indice_i: 79803 ,monto_ini: 52.869998931884766 ,indice_f: 79809 ,monto_fin: 52.29999923706055\n",
      "posible caso: 79983 WFC , fecha: 2024-09-12 00:00:00\n",
      "Procesando: 2024-09-12\n",
      "indice_i: 79984 ,monto_ini: 51.570098876953125 ,indice_f: 79984 ,monto_fin: 51.570098876953125\n",
      "Procesando: 2024-09-13\n",
      "indice_i: 79985 ,monto_ini: 52.6150016784668 ,indice_f: 79991 ,monto_fin: 52.790000915527344\n",
      "Procesando: 2024-09-16\n",
      "indice_i: 79992 ,monto_ini: 53.30500030517578 ,indice_f: 79998 ,monto_fin: 53.81999969482422\n",
      "Procesando: 2024-09-17\n",
      "indice_i: 79999 ,monto_ini: 54.810001373291016 ,indice_f: 80005 ,monto_fin: 54.540000915527344\n",
      "Procesando: 2024-09-18\n",
      "indice_i: 80006 ,monto_ini: 54.61360168457031 ,indice_f: 80012 ,monto_fin: 54.25\n",
      "posible caso: 80041 WFC , fecha: 2024-09-25 00:00:00\n",
      "Procesando: 2024-09-25\n",
      "indice_i: 80042 ,monto_ini: 53.579200744628906 ,indice_f: 80047 ,monto_fin: 53.61000061035156\n",
      "Procesando: 2024-09-26\n",
      "indice_i: 80048 ,monto_ini: 55.78499984741211 ,indice_f: 80054 ,monto_fin: 56.38999938964844\n",
      "Procesando: 2024-09-27\n",
      "indice_i: 80055 ,monto_ini: 56.27999877929688 ,indice_f: 80061 ,monto_fin: 55.88999938964844\n",
      "posible caso: 80083 WFC , fecha: 2024-10-03 00:00:00\n",
      "Procesando: 2024-10-03\n",
      "indice_i: 80084 ,monto_ini: 54.90999984741211 ,indice_f: 80089 ,monto_fin: 54.9900016784668\n",
      "Procesando: 2024-10-04\n",
      "indice_i: 80090 ,monto_ini: 56.619998931884766 ,indice_f: 80096 ,monto_fin: 56.95000076293945\n",
      "Procesando: 2024-10-07\n",
      "indice_i: 80097 ,monto_ini: 57.34000015258789 ,indice_f: 80103 ,monto_fin: 57.16999816894531\n"
     ]
    },
    {
     "name": "stdout",
     "output_type": "stream",
     "text": [
      "posible caso: 81188 WFC , fecha: 2025-05-23 00:00:00\n",
      "Procesando: 2025-05-23\n",
      "indice_i: 81189 ,monto_ini: 72.56500244140625 ,indice_f: 81194 ,monto_fin: 72.83999633789062\n",
      "Procesando: 2025-05-27\n",
      "indice_i: 81195 ,monto_ini: 73.37000274658203 ,indice_f: 81201 ,monto_fin: 73.98500061035156\n",
      "Procesando: 2025-05-28\n",
      "indice_i: 81202 ,monto_ini: 73.78829956054688 ,indice_f: 81208 ,monto_fin: 73.70999908447266\n",
      "posible caso: 81830 PLTR , fecha: 2023-09-26 00:00:00\n",
      "posible caso: 81996 PLTR , fecha: 2023-10-30 00:00:00\n",
      "Procesando: 2023-10-30\n",
      "indice_i: 81997 ,monto_ini: 14.725000381469728 ,indice_f: 81999 ,monto_fin: 14.6899995803833\n",
      "Procesando: 2023-10-31\n",
      "indice_i: 82000 ,monto_ini: 14.90999984741211 ,indice_f: 82006 ,monto_fin: 14.809000015258787\n",
      "Procesando: 2023-11-01\n",
      "indice_i: 82007 ,monto_ini: 14.718799591064451 ,indice_f: 82013 ,monto_fin: 14.9399995803833\n",
      "posible caso: 82313 PLTR , fecha: 2024-01-05 00:00:00\n",
      "posible caso: 82925 PLTR , fecha: 2024-05-10 00:00:00\n",
      "Procesando: 2024-05-10\n",
      "indice_i: 82926 ,monto_ini: 20.604999542236328 ,indice_f: 82926 ,monto_fin: 20.604999542236328\n",
      "Procesando: 2024-05-13\n",
      "indice_i: 82927 ,monto_ini: 20.940000534057617 ,indice_f: 82933 ,monto_fin: 20.93000030517578\n",
      "Procesando: 2024-05-14\n",
      "indice_i: 82934 ,monto_ini: 21.8700008392334 ,indice_f: 82940 ,monto_fin: 21.43829917907715\n",
      "Procesando: 2024-05-15\n",
      "indice_i: 82941 ,monto_ini: 21.20499992370605 ,indice_f: 82947 ,monto_fin: 21.674999237060547\n",
      "posible caso: 82988 PLTR , fecha: 2024-05-23 00:00:00\n",
      "Procesando: 2024-05-23\n",
      "indice_i: 82989 ,monto_ini: 20.729999542236328 ,indice_f: 82989 ,monto_fin: 20.729999542236328\n",
      "Procesando: 2024-05-24\n",
      "indice_i: 82990 ,monto_ini: 20.968700408935547 ,indice_f: 82996 ,monto_fin: 21.01499938964844\n",
      "Procesando: 2024-05-28\n",
      "indice_i: 82997 ,monto_ini: 20.96139907836914 ,indice_f: 83003 ,monto_fin: 21.049999237060547\n"
     ]
    },
    {
     "name": "stdout",
     "output_type": "stream",
     "text": [
      "posible caso: 83322 PLTR , fecha: 2024-08-05 00:00:00\n",
      "Procesando: 2024-08-05\n",
      "indice_i: 83323 ,monto_ini: 23.729999542236328 ,indice_f: 83328 ,monto_fin: 24.0900993347168\n",
      "Procesando: 2024-08-06\n",
      "indice_i: 83329 ,monto_ini: 26.424999237060547 ,indice_f: 83335 ,monto_fin: 26.59000015258789\n",
      "Procesando: 2024-08-07\n",
      "indice_i: 83336 ,monto_ini: 27.7450008392334 ,indice_f: 83342 ,monto_fin: 26.32999992370605\n",
      "posible caso: 85365 AMD , fecha: 2023-09-26 00:00:00\n",
      "Procesando: 2023-09-26\n",
      "indice_i: 85366 ,monto_ini: 95.95999908447266 ,indice_f: 85366 ,monto_fin: 95.95999908447266\n",
      "Procesando: 2023-09-27\n",
      "indice_i: 85367 ,monto_ini: 98.3584976196289 ,indice_f: 85373 ,monto_fin: 98.08499908447266\n",
      "Procesando: 2023-09-28\n",
      "indice_i: 85374 ,monto_ini: 101.19000244140624 ,indice_f: 85380 ,monto_fin: 102.77999877929688\n",
      "Procesando: 2023-09-29\n",
      "indice_i: 85381 ,monto_ini: 103.69000244140624 ,indice_f: 85387 ,monto_fin: 102.81999969482422\n",
      "posible caso: 85520 AMD , fecha: 2023-10-26 00:00:00\n",
      "Procesando: 2023-10-27\n",
      "indice_i: 85521 ,monto_ini: 95.91000366210938 ,indice_f: 85527 ,monto_fin: 96.4800033569336\n",
      "Procesando: 2023-10-30\n",
      "indice_i: 85528 ,monto_ini: 95.16999816894533 ,indice_f: 85534 ,monto_fin: 96.16999816894533\n"
     ]
    },
    {
     "name": "stdout",
     "output_type": "stream",
     "text": [
      "posible caso: 86468 AMD , fecha: 2024-05-13 00:00:00\n",
      "posible caso: 86522 AMD , fecha: 2024-05-23 00:00:00\n",
      "posible caso: 86640 AMD , fecha: 2024-06-18 00:00:00\n",
      "Procesando: 2024-06-18\n",
      "indice_i: 86641 ,monto_ini: 154.5500030517578 ,indice_f: 86643 ,monto_fin: 154.6199951171875\n",
      "Procesando: 2024-06-20\n",
      "indice_i: 86644 ,monto_ini: 163.6300048828125 ,indice_f: 86650 ,monto_fin: 161.77000427246094\n",
      "Procesando: 2024-06-21\n",
      "indice_i: 86651 ,monto_ini: 160.80499267578125 ,indice_f: 86657 ,monto_fin: 161.27000427246094\n",
      "posible caso: 86877 AMD , fecha: 2024-08-07 00:00:00\n",
      "Procesando: 2024-08-08\n",
      "indice_i: 86878 ,monto_ini: 133.52420043945312 ,indice_f: 86884 ,monto_fin: 136.39999389648438\n",
      "Procesando: 2024-08-09\n",
      "indice_i: 86885 ,monto_ini: 133.13999938964844 ,indice_f: 86891 ,monto_fin: 134.27999877929688\n",
      "posible caso: 87020 AMD , fecha: 2024-09-06 00:00:00\n",
      "Procesando: 2024-09-06\n",
      "indice_i: 87021 ,monto_ini: 133.44000244140625 ,indice_f: 87024 ,monto_fin: 134.39999389648438\n",
      "Procesando: 2024-09-09\n",
      "indice_i: 87025 ,monto_ini: 136.41029357910156 ,indice_f: 87031 ,monto_fin: 138.22999572753906\n",
      "Procesando: 2024-09-10\n",
      "indice_i: 87032 ,monto_ini: 139.2100067138672 ,indice_f: 87038 ,monto_fin: 142.85000610351562\n",
      "Procesando: 2024-09-11\n",
      "indice_i: 87039 ,monto_ini: 142.32000732421875 ,indice_f: 87045 ,monto_fin: 149.88999938964844\n",
      "posible caso: 87074 AMD , fecha: 2024-09-18 00:00:00\n",
      "Procesando: 2024-09-18\n",
      "indice_i: 87075 ,monto_ini: 149.80499267578125 ,indice_f: 87080 ,monto_fin: 148.3000030517578\n",
      "Procesando: 2024-09-19\n",
      "indice_i: 87081 ,monto_ini: 156.57000732421875 ,indice_f: 87087 ,monto_fin: 156.72999572753906\n",
      "Procesando: 2024-09-20\n",
      "indice_i: 87088 ,monto_ini: 154.77999877929688 ,indice_f: 87094 ,monto_fin: 155.97999572753906\n"
     ]
    },
    {
     "name": "stdout",
     "output_type": "stream",
     "text": [
      "posible caso: 87080 AMD , fecha: 2024-09-18 00:00:00\n",
      "Procesando: 2024-09-19\n",
      "indice_i: 87081 ,monto_ini: 156.57000732421875 ,indice_f: 87087 ,monto_fin: 156.72999572753906\n",
      "Procesando: 2024-09-20\n",
      "indice_i: 87088 ,monto_ini: 154.77999877929688 ,indice_f: 87094 ,monto_fin: 155.97999572753906\n",
      "posible caso: 87311 AMD , fecha: 2024-11-04 00:00:00\n",
      "Procesando: 2024-11-05\n",
      "indice_i: 87312 ,monto_ini: 141.99000549316406 ,indice_f: 87318 ,monto_fin: 141.8000030517578\n",
      "Procesando: 2024-11-06\n",
      "indice_i: 87319 ,monto_ini: 143.50999450683594 ,indice_f: 87325 ,monto_fin: 145.07000732421875\n",
      "Procesando: 2024-11-07\n",
      "indice_i: 87326 ,monto_ini: 148.5 ,indice_f: 87332 ,monto_fin: 149.8699951171875\n",
      "Procesando: 2024-11-08\n",
      "indice_i: 87333 ,monto_ini: 150.10000610351562 ,indice_f: 87339 ,monto_fin: 148.0\n",
      "posible caso: 87372 AMD , fecha: 2024-11-15 00:00:00\n",
      "posible caso: 87425 AMD , fecha: 2024-11-27 00:00:00\n",
      "Procesando: 2024-11-27\n",
      "indice_i: 87426 ,monto_ini: 133.5406036376953 ,indice_f: 87430 ,monto_fin: 136.24000549316406\n",
      "Procesando: 2024-11-29\n",
      "indice_i: 87431 ,monto_ini: 137.76499938964844 ,indice_f: 87433 ,monto_fin: 137.42999267578125\n",
      "Procesando: 2024-12-02\n",
      "indice_i: 87434 ,monto_ini: 140.93800354003906 ,indice_f: 87440 ,monto_fin: 142.10000610351562\n",
      "Procesando: 2024-12-03\n",
      "indice_i: 87441 ,monto_ini: 141.57000732421875 ,indice_f: 87447 ,monto_fin: 142.0\n",
      "posible caso: 87531 AMD , fecha: 2024-12-19 00:00:00\n",
      "posible caso: 87614 AMD , fecha: 2025-01-10 00:00:00\n",
      "Procesando: 2025-01-10\n",
      "indice_i: 87615 ,monto_ini: 115.8936004638672 ,indice_f: 87618 ,monto_fin: 115.97000122070312\n",
      "Procesando: 2025-01-13\n",
      "indice_i: 87619 ,monto_ini: 115.25499725341795 ,indice_f: 87625 ,monto_fin: 117.3499984741211\n",
      "posible caso: 87690 AMD , fecha: 2025-01-28 00:00:00\n"
     ]
    },
    {
     "name": "stdout",
     "output_type": "stream",
     "text": [
      "posible caso: 87747 AMD , fecha: 2025-02-07 00:00:00\n",
      "posible caso: 88038 AMD , fecha: 2025-04-08 00:00:00\n",
      "Procesando: 2025-04-09\n",
      "indice_i: 88039 ,monto_ini: 82.77999877929688 ,indice_f: 88045 ,monto_fin: 96.72000122070312\n",
      "Procesando: 2025-04-10\n",
      "indice_i: 88046 ,monto_ini: 90.0749969482422 ,indice_f: 88052 ,monto_fin: 88.66999816894531\n",
      "posible caso: 88091 AMD , fecha: 2025-04-21 00:00:00\n",
      "posible caso: 88256 AMD , fecha: 2025-05-23 00:00:00\n",
      "Procesando: 2025-05-23\n",
      "indice_i: 88257 ,monto_ini: 109.41000366210938 ,indice_f: 88262 ,monto_fin: 110.33999633789062\n",
      "Procesando: 2025-05-27\n",
      "indice_i: 88263 ,monto_ini: 114.62249755859376 ,indice_f: 88269 ,monto_fin: 114.5500030517578\n",
      "Procesando: 2025-05-28\n",
      "indice_i: 88270 ,monto_ini: 113.9499969482422 ,indice_f: 88276 ,monto_fin: 112.87000274658205\n",
      "posible caso: 88874 AVGO , fecha: 2023-09-21 00:00:00\n",
      "posible caso: 88935 AVGO , fecha: 2023-10-03 00:00:00\n",
      "posible caso: 89051 AVGO , fecha: 2023-10-26 00:00:00\n",
      "posible caso: 89891 AVGO , fecha: 2024-04-19 00:00:00\n"
     ]
    },
    {
     "name": "stdout",
     "output_type": "stream",
     "text": [
      "posible caso: 89951 AVGO , fecha: 2024-05-02 00:00:00\n",
      "posible caso: 90412 AVGO , fecha: 2024-08-07 00:00:00\n",
      "Procesando: 2024-08-08\n",
      "indice_i: 90413 ,monto_ini: 143.4600067138672 ,indice_f: 90419 ,monto_fin: 145.74000549316406\n",
      "Procesando: 2024-08-09\n",
      "indice_i: 90420 ,monto_ini: 146.85000610351562 ,indice_f: 90426 ,monto_fin: 148.39999389648438\n",
      "Procesando: 2024-08-12\n",
      "indice_i: 90427 ,monto_ini: 149.4949951171875 ,indice_f: 90433 ,monto_fin: 148.7100067138672\n",
      "Procesando: 2024-08-13\n",
      "indice_i: 90434 ,monto_ini: 152.1999969482422 ,indice_f: 90440 ,monto_fin: 156.32000732421875\n",
      "Procesando: 2024-08-14\n",
      "indice_i: 90441 ,monto_ini: 156.1199951171875 ,indice_f: 90447 ,monto_fin: 157.58999633789062\n",
      "posible caso: 90961 AVGO , fecha: 2024-11-27 00:00:00\n",
      "Procesando: 2024-11-27\n",
      "indice_i: 90962 ,monto_ini: 158.5449981689453 ,indice_f: 90965 ,monto_fin: 159.6999969482422\n",
      "Procesando: 2024-11-29\n",
      "indice_i: 90966 ,monto_ini: 161.86500549316406 ,indice_f: 90968 ,monto_fin: 161.8350067138672\n",
      "Procesando: 2024-12-02\n",
      "indice_i: 90969 ,monto_ini: 165.70339965820312 ,indice_f: 90975 ,monto_fin: 166.49000549316406\n",
      "Procesando: 2024-12-03\n",
      "indice_i: 90976 ,monto_ini: 167.51499938964844 ,indice_f: 90982 ,monto_fin: 168.16000366210938\n",
      "Procesando: 2024-12-04\n",
      "indice_i: 90983 ,monto_ini: 171.82000732421875 ,indice_f: 90989 ,monto_fin: 170.58999633789062\n"
     ]
    },
    {
     "name": "stdout",
     "output_type": "stream",
     "text": [
      "posible caso: 91412 AVGO , fecha: 2025-03-06 00:00:00\n",
      "posible caso: 91466 AVGO , fecha: 2025-03-18 00:00:00\n",
      "Procesando: 2025-03-18\n",
      "indice_i: 91467 ,monto_ini: 188.2749938964844 ,indice_f: 91468 ,monto_fin: 188.75\n",
      "Procesando: 2025-03-19\n",
      "indice_i: 91469 ,monto_ini: 189.52999877929688 ,indice_f: 91475 ,monto_fin: 195.5599975585937\n",
      "Procesando: 2025-03-20\n",
      "indice_i: 91476 ,monto_ini: 192.8099975585937 ,indice_f: 91482 ,monto_fin: 190.4199981689453\n",
      "posible caso: 91555 AVGO , fecha: 2025-04-04 00:00:00\n",
      "posible caso: 91627 AVGO , fecha: 2025-04-21 00:00:00\n",
      "posible caso: 91974 HOOD , fecha: 2023-06-22 00:00:00\n",
      "Procesando: 2023-06-22\n",
      "indice_i: 91975 ,monto_ini: 9.372200012207031 ,indice_f: 91978 ,monto_fin: 9.454999923706056\n",
      "Procesando: 2023-06-23\n",
      "indice_i: 91979 ,monto_ini: 9.38889980316162 ,indice_f: 91985 ,monto_fin: 9.5\n",
      "posible caso: 92247 HOOD , fecha: 2023-08-17 00:00:00\n",
      "posible caso: 92597 HOOD , fecha: 2023-10-27 00:00:00\n",
      "posible caso: 92660 HOOD , fecha: 2023-11-09 00:00:00\n",
      "Procesando: 2023-11-10\n",
      "indice_i: 92661 ,monto_ini: 8.147500038146973 ,indice_f: 92667 ,monto_fin: 8.229999542236328\n",
      "Procesando: 2023-11-13\n",
      "indice_i: 92668 ,monto_ini: 8.229999542236328 ,indice_f: 92674 ,monto_fin: 8.3149995803833\n",
      "Procesando: 2023-11-14\n",
      "indice_i: 92675 ,monto_ini: 8.475000381469727 ,indice_f: 92681 ,monto_fin: 8.489999771118164\n",
      "Procesando: 2023-11-15\n",
      "indice_i: 92682 ,monto_ini: 8.569999694824219 ,indice_f: 92688 ,monto_fin: 8.322500228881836\n"
     ]
    },
    {
     "name": "stdout",
     "output_type": "stream",
     "text": [
      "posible caso: 93927 HOOD , fecha: 2024-08-05 00:00:00\n",
      "Procesando: 2024-08-05\n",
      "indice_i: 93928 ,monto_ini: 16.05500030517578 ,indice_f: 93933 ,monto_fin: 16.415000915527344\n",
      "Procesando: 2024-08-06\n",
      "indice_i: 93934 ,monto_ini: 16.8799991607666 ,indice_f: 93940 ,monto_fin: 17.200000762939453\n",
      "Procesando: 2024-08-07\n",
      "indice_i: 93941 ,monto_ini: 17.174999237060547 ,indice_f: 93947 ,monto_fin: 17.1200008392334\n",
      "posible caso: 94090 HOOD , fecha: 2024-09-06 00:00:00\n",
      "posible caso: 94961 HOOD , fecha: 2025-03-10 00:00:00\n",
      "posible caso: 95107 HOOD , fecha: 2025-04-08 00:00:00\n",
      "posible caso: 95161 HOOD , fecha: 2025-04-21 00:00:00\n",
      "Procesando: 2025-04-21\n",
      "indice_i: 95162 ,monto_ini: 39.60810089111328 ,indice_f: 95164 ,monto_fin: 39.86000061035156\n",
      "Procesando: 2025-04-22\n",
      "indice_i: 95165 ,monto_ini: 42.56999969482422 ,indice_f: 95171 ,monto_fin: 42.09000015258789\n",
      "Procesando: 2025-04-23\n",
      "indice_i: 95172 ,monto_ini: 46.4005012512207 ,indice_f: 95178 ,monto_fin: 44.650001525878906\n",
      "posible caso: 96195 MSTR , fecha: 2023-08-18 00:00:00\n",
      "Procesando: 2023-08-18\n",
      "indice_i: 96196 ,monto_ini: 33.0 ,indice_f: 96198 ,monto_fin: 32.83300018310547\n",
      "Procesando: 2023-08-21\n",
      "indice_i: 96199 ,monto_ini: 32.9005012512207 ,indice_f: 96205 ,monto_fin: 33.52300262451172\n",
      "Procesando: 2023-08-22\n",
      "indice_i: 96206 ,monto_ini: 33.71500015258789 ,indice_f: 96212 ,monto_fin: 32.970001220703125\n"
     ]
    },
    {
     "name": "stdout",
     "output_type": "stream",
     "text": [
      "posible caso: 96468 MSTR , fecha: 2023-10-13 00:00:00\n",
      "Procesando: 2023-10-13\n",
      "indice_i: 96469 ,monto_ini: 31.770000457763672 ,indice_f: 96471 ,monto_fin: 31.832000732421875\n",
      "Procesando: 2023-10-16\n",
      "indice_i: 96472 ,monto_ini: 34.3859977722168 ,indice_f: 96478 ,monto_fin: 32.5369987487793\n",
      "posible caso: 96941 MSTR , fecha: 2024-01-23 00:00:00\n",
      "Procesando: 2024-01-23\n",
      "indice_i: 96942 ,monto_ini: 45.23149871826172 ,indice_f: 96943 ,monto_fin: 45.11299896240234\n",
      "Procesando: 2024-01-24\n",
      "indice_i: 96944 ,monto_ini: 45.46870040893555 ,indice_f: 96950 ,monto_fin: 45.10599899291992\n",
      "Procesando: 2024-01-25\n",
      "indice_i: 96951 ,monto_ini: 45.041500091552734 ,indice_f: 96957 ,monto_fin: 45.80699920654297\n",
      "posible caso: 97724 MSTR , fecha: 2024-07-05 00:00:00\n",
      "Procesando: 2024-07-05\n",
      "indice_i: 97725 ,monto_ini: 127.23814392089844 ,indice_f: 97730 ,monto_fin: 128.24000549316406\n",
      "Procesando: 2024-07-08\n",
      "indice_i: 97731 ,monto_ini: 126.40000915527344 ,indice_f: 97737 ,monto_fin: 129.18600463867188\n",
      "posible caso: 97891 MSTR , fecha: 2024-08-07 00:00:00\n",
      "Procesando: 2024-08-08\n",
      "indice_i: 97892 ,monto_ini: 133.22999572753906 ,indice_f: 97898 ,monto_fin: 135.99000549316406\n",
      "Procesando: 2024-08-09\n",
      "indice_i: 97899 ,monto_ini: 133.72999572753906 ,indice_f: 97905 ,monto_fin: 135.32000732421875\n",
      "posible caso: 98038 MSTR , fecha: 2024-09-06 00:00:00\n",
      "Procesando: 2024-09-09\n",
      "indice_i: 98039 ,monto_ini: 120.72010040283205 ,indice_f: 98045 ,monto_fin: 124.83999633789062\n",
      "Procesando: 2024-09-10\n",
      "indice_i: 98046 ,monto_ini: 125.33000183105467 ,indice_f: 98052 ,monto_fin: 129.66000366210938\n",
      "Procesando: 2024-09-11\n",
      "indice_i: 98053 ,monto_ini: 123.20999908447266 ,indice_f: 98059 ,monto_fin: 129.3000030517578\n"
     ]
    },
    {
     "name": "stdout",
     "output_type": "stream",
     "text": [
      "posible caso: 98856 MSTR , fecha: 2025-02-27 00:00:00\n",
      "posible caso: 98903 MSTR , fecha: 2025-03-10 00:00:00\n",
      "posible caso: 99052 MSTR , fecha: 2025-04-08 00:00:00\n",
      "Procesando: 2025-04-09\n",
      "indice_i: 99053 ,monto_ini: 249.6959991455078 ,indice_f: 99059 ,monto_fin: 295.9200134277344\n",
      "Procesando: 2025-04-10\n",
      "indice_i: 99060 ,monto_ini: 277.7699890136719 ,indice_f: 99066 ,monto_fin: 272.1700134277344\n",
      "posible caso: 99420 UNH , fecha: 2023-06-14 00:00:00\n",
      "posible caso: 99551 UNH , fecha: 2023-07-13 00:00:00\n",
      "Procesando: 2023-07-14\n",
      "indice_i: 99552 ,monto_ini: 480.1099853515625 ,indice_f: 99558 ,monto_fin: 480.3599853515625\n",
      "Procesando: 2023-07-17\n",
      "indice_i: 99559 ,monto_ini: 481.8599853515625 ,indice_f: 99565 ,monto_fin: 483.9400024414063\n",
      "Procesando: 2023-07-18\n",
      "indice_i: 99566 ,monto_ini: 498.6000061035156 ,indice_f: 99572 ,monto_fin: 499.7799987792969\n",
      "Procesando: 2023-07-19\n",
      "indice_i: 99573 ,monto_ini: 510.6749877929688 ,indice_f: 99579 ,monto_fin: 503.6099853515625\n",
      "posible caso: 99799 UNH , fecha: 2023-09-01 00:00:00\n",
      "Procesando: 2023-09-01\n",
      "indice_i: 99800 ,monto_ini: 475.0 ,indice_f: 99803 ,monto_fin: 476.3900146484375\n",
      "Procesando: 2023-09-05\n",
      "indice_i: 99804 ,monto_ini: 482.8999938964844 ,indice_f: 99810 ,monto_fin: 480.8900146484375\n",
      "Procesando: 2023-09-06\n",
      "indice_i: 99811 ,monto_ini: 478.8999938964844 ,indice_f: 99817 ,monto_fin: 476.9200134277344\n"
     ]
    },
    {
     "name": "stdout",
     "output_type": "stream",
     "text": [
      "posible caso: 100488 UNH , fecha: 2024-01-25 00:00:00\n",
      "posible caso: 100536 UNH , fecha: 2024-02-05 00:00:00\n",
      "Procesando: 2024-02-05\n",
      "indice_i: 100537 ,monto_ini: 504.3949890136719 ,indice_f: 100541 ,monto_fin: 502.760009765625\n",
      "Procesando: 2024-02-06\n",
      "indice_i: 100542 ,monto_ini: 507.6799926757813 ,indice_f: 100548 ,monto_fin: 510.6199951171875\n",
      "Procesando: 2024-02-07\n",
      "indice_i: 100549 ,monto_ini: 518.5999755859375 ,indice_f: 100555 ,monto_fin: 519.469970703125\n",
      "Procesando: 2024-02-08\n",
      "indice_i: 100556 ,monto_ini: 521.6500244140625 ,indice_f: 100562 ,monto_fin: 520.0\n",
      "Procesando: 2024-02-09\n",
      "indice_i: 100563 ,monto_ini: 516.5599975585938 ,indice_f: 100569 ,monto_fin: 518.1099853515625\n",
      "posible caso: 100685 UNH , fecha: 2024-03-06 00:00:00\n",
      "Procesando: 2024-03-06\n",
      "indice_i: 100686 ,monto_ini: 471.5199890136719 ,indice_f: 100688 ,monto_fin: 472.7000122070313\n",
      "Procesando: 2024-03-07\n",
      "indice_i: 100689 ,monto_ini: 476.9400024414063 ,indice_f: 100695 ,monto_fin: 478.5700073242188\n",
      "Procesando: 2024-03-08\n",
      "indice_i: 100696 ,monto_ini: 475.8550109863281 ,indice_f: 100702 ,monto_fin: 476.55999755859375\n",
      "posible caso: 100869 UNH , fecha: 2024-04-12 00:00:00\n",
      "Procesando: 2024-04-12\n",
      "indice_i: 100870 ,monto_ini: 439.2000122070313 ,indice_f: 100870 ,monto_fin: 439.2000122070313\n",
      "Procesando: 2024-04-15\n",
      "indice_i: 100871 ,monto_ini: 445.260009765625 ,indice_f: 100877 ,monto_fin: 445.3900146484375\n",
      "Procesando: 2024-04-16\n",
      "indice_i: 100878 ,monto_ini: 471.6199951171875 ,indice_f: 100884 ,monto_fin: 469.010009765625\n",
      "Procesando: 2024-04-17\n",
      "indice_i: 100885 ,monto_ini: 478.5 ,indice_f: 100891 ,monto_fin: 478.510009765625\n",
      "Procesando: 2024-04-18\n",
      "indice_i: 100892 ,monto_ini: 499.2999877929688 ,indice_f: 100898 ,monto_fin: 493.1900024414063\n",
      "Procesando: 2024-04-19\n",
      "indice_i: 100899 ,monto_ini: 501.7200012207031 ,indice_f: 100905 ,monto_fin: 501.0\n",
      "Procesando: 2024-04-22\n",
      "indice_i: 100906 ,monto_ini: 496.9500122070313 ,indice_f: 100912 ,monto_fin: 491.3800048828125\n"
     ]
    },
    {
     "name": "stdout",
     "output_type": "stream",
     "text": [
      "posible caso: 100949 UNH , fecha: 2024-04-30 00:00:00\n",
      "posible caso: 101095 UNH , fecha: 2024-05-30 00:00:00\n",
      "Procesando: 2024-05-30\n",
      "indice_i: 101096 ,monto_ini: 482.2650146484375 ,indice_f: 101101 ,monto_fin: 481.25\n",
      "Procesando: 2024-05-31\n",
      "indice_i: 101102 ,monto_ini: 493.30999755859375 ,indice_f: 101108 ,monto_fin: 495.9200134277344\n",
      "Procesando: 2024-06-03\n",
      "indice_i: 101109 ,monto_ini: 497.6900024414063 ,indice_f: 101115 ,monto_fin: 497.5499877929688\n",
      "Procesando: 2024-06-04\n",
      "indice_i: 101116 ,monto_ini: 503.2926025390625 ,indice_f: 101122 ,monto_fin: 505.30999755859375\n",
      "Procesando: 2024-06-05\n",
      "indice_i: 101123 ,monto_ini: 499.5799865722656 ,indice_f: 101129 ,monto_fin: 503.2699890136719\n",
      "posible caso: 101101 UNH , fecha: 2024-05-30 00:00:00\n",
      "Procesando: 2024-05-31\n",
      "indice_i: 101102 ,monto_ini: 493.30999755859375 ,indice_f: 101108 ,monto_fin: 495.9200134277344\n",
      "Procesando: 2024-06-03\n",
      "indice_i: 101109 ,monto_ini: 497.6900024414063 ,indice_f: 101115 ,monto_fin: 497.5499877929688\n",
      "Procesando: 2024-06-04\n",
      "indice_i: 101116 ,monto_ini: 503.2926025390625 ,indice_f: 101122 ,monto_fin: 505.30999755859375\n",
      "Procesando: 2024-06-05\n",
      "indice_i: 101123 ,monto_ini: 499.5799865722656 ,indice_f: 101129 ,monto_fin: 503.2699890136719\n",
      "posible caso: 101191 UNH , fecha: 2024-06-18 00:00:00\n",
      "Procesando: 2024-06-18\n",
      "indice_i: 101192 ,monto_ini: 481.1300048828125 ,indice_f: 101192 ,monto_fin: 481.1300048828125\n",
      "Procesando: 2024-06-20\n",
      "indice_i: 101193 ,monto_ini: 481.1900024414063 ,indice_f: 101199 ,monto_fin: 484.6199951171875\n",
      "Procesando: 2024-06-21\n",
      "indice_i: 101200 ,monto_ini: 485.46429443359375 ,indice_f: 101206 ,monto_fin: 483.1600036621094\n"
     ]
    },
    {
     "name": "stdout",
     "output_type": "stream",
     "text": [
      "posible caso: 101756 UNH , fecha: 2024-10-15 00:00:00\n",
      "Procesando: 2024-10-15\n",
      "indice_i: 101757 ,monto_ini: 568.6649780273438 ,indice_f: 101762 ,monto_fin: 554.0800170898438\n",
      "Procesando: 2024-10-16\n",
      "indice_i: 101763 ,monto_ini: 571.22998046875 ,indice_f: 101769 ,monto_fin: 571.2100219726562\n",
      "Procesando: 2024-10-17\n",
      "indice_i: 101770 ,monto_ini: 562.1099853515625 ,indice_f: 101776 ,monto_fin: 566.280029296875\n",
      "posible caso: 101762 UNH , fecha: 2024-10-15 00:00:00\n",
      "Procesando: 2024-10-16\n",
      "indice_i: 101763 ,monto_ini: 571.22998046875 ,indice_f: 101769 ,monto_fin: 571.2100219726562\n",
      "Procesando: 2024-10-17\n",
      "indice_i: 101770 ,monto_ini: 562.1099853515625 ,indice_f: 101776 ,monto_fin: 566.280029296875\n",
      "posible caso: 101858 UNH , fecha: 2024-11-04 00:00:00\n",
      "posible caso: 102061 UNH , fecha: 2024-12-17 00:00:00\n",
      "Procesando: 2024-12-17\n",
      "indice_i: 102062 ,monto_ini: 483.0700073242188 ,indice_f: 102066 ,monto_fin: 485.4299926757813\n",
      "Procesando: 2024-12-18\n",
      "indice_i: 102067 ,monto_ini: 500.8599853515625 ,indice_f: 102073 ,monto_fin: 499.7200012207031\n",
      "Procesando: 2024-12-19\n",
      "indice_i: 102074 ,monto_ini: 493.0010070800781 ,indice_f: 102080 ,monto_fin: 489.05999755859375\n",
      "posible caso: 102132 UNH , fecha: 2025-01-02 00:00:00\n",
      "Procesando: 2025-01-03\n",
      "indice_i: 102133 ,monto_ini: 514.5650024414062 ,indice_f: 102139 ,monto_fin: 513.0\n",
      "Procesando: 2025-01-06\n",
      "indice_i: 102140 ,monto_ini: 514.5848999023438 ,indice_f: 102146 ,monto_fin: 513.780029296875\n",
      "posible caso: 102202 UNH , fecha: 2025-01-17 00:00:00\n",
      "Procesando: 2025-01-21\n",
      "indice_i: 102203 ,monto_ini: 520.4199829101562 ,indice_f: 102209 ,monto_fin: 524.8499755859375\n",
      "Procesando: 2025-01-22\n",
      "indice_i: 102210 ,monto_ini: 522.1683959960938 ,indice_f: 102216 ,monto_fin: 519.3200073242188\n",
      "posible caso: 102763 UNH , fecha: 2025-05-15 00:00:00\n"
     ]
    },
    {
     "name": "stdout",
     "output_type": "stream",
     "text": [
      "posible caso: 102816 UNH , fecha: 2025-05-27 00:00:00\n",
      "Procesando: 2025-05-27\n",
      "indice_i: 102817 ,monto_ini: 292.9750061035156 ,indice_f: 102818 ,monto_fin: 295.010009765625\n",
      "Procesando: 2025-05-28\n",
      "indice_i: 102819 ,monto_ini: 302.3450012207031 ,indice_f: 102825 ,monto_fin: 298.010009765625\n",
      "Procesando: 2025-05-29\n",
      "indice_i: 102826 ,monto_ini: 299.17999267578125 ,indice_f: 102832 ,monto_fin: 298.25\n",
      "Procesando: 2025-05-30\n",
      "indice_i: 102833 ,monto_ini: 304.489990234375 ,indice_f: 102839 ,monto_fin: 301.3999938964844\n",
      "Procesando: 2025-06-02\n",
      "indice_i: 102840 ,monto_ini: 311.42498779296875 ,indice_f: 102846 ,monto_fin: 304.7099914550781\n",
      "posible caso: 103605 GOOG , fecha: 2023-10-27 00:00:00\n",
      "Procesando: 2023-10-27\n",
      "indice_i: 103606 ,monto_ini: 123.13999938964844 ,indice_f: 103611 ,monto_fin: 123.38999938964844\n",
      "Procesando: 2023-10-30\n",
      "indice_i: 103612 ,monto_ini: 124.93000030517578 ,indice_f: 103618 ,monto_fin: 125.75\n",
      "Procesando: 2023-10-31\n",
      "indice_i: 103619 ,monto_ini: 125.3291015625 ,indice_f: 103625 ,monto_fin: 125.2750015258789\n",
      "posible caso: 103776 GOOG , fecha: 2023-12-04 00:00:00\n",
      "posible caso: 103835 GOOG , fecha: 2023-12-14 00:00:00\n",
      "posible caso: 104217 GOOG , fecha: 2024-03-06 00:00:00\n",
      "posible caso: 104948 GOOG , fecha: 2024-08-06 00:00:00\n",
      "Procesando: 2024-08-06\n",
      "indice_i: 104949 ,monto_ini: 160.2899932861328 ,indice_f: 104954 ,monto_fin: 160.47000122070312\n",
      "Procesando: 2024-08-07\n",
      "indice_i: 104955 ,monto_ini: 163.91000366210938 ,indice_f: 104961 ,monto_fin: 160.72000122070312\n",
      "posible caso: 105114 GOOG , fecha: 2024-09-09 00:00:00\n"
     ]
    },
    {
     "name": "stdout",
     "output_type": "stream",
     "text": [
      "posible caso: 105266 GOOG , fecha: 2024-10-09 00:00:00\n",
      "posible caso: 105488 GOOG , fecha: 2024-11-22 00:00:00\n",
      "posible caso: 106011 GOOG , fecha: 2025-03-18 00:00:00\n",
      "posible caso: 106122 GOOG , fecha: 2025-04-08 00:00:00\n",
      "Procesando: 2025-04-09\n",
      "indice_i: 106123 ,monto_ini: 147.44000244140625 ,indice_f: 106129 ,monto_fin: 161.1199951171875\n",
      "Procesando: 2025-04-10\n",
      "indice_i: 106130 ,monto_ini: 157.32000732421875 ,indice_f: 106136 ,monto_fin: 155.27000427246094\n",
      "posible caso: 106175 GOOG , fecha: 2025-04-21 00:00:00\n",
      "Procesando: 2025-04-21\n",
      "indice_i: 106176 ,monto_ini: 149.0500030517578 ,indice_f: 106178 ,monto_fin: 149.91000366210938\n",
      "Procesando: 2025-04-22\n",
      "indice_i: 106179 ,monto_ini: 152.01600646972656 ,indice_f: 106185 ,monto_fin: 153.86000061035156\n",
      "Procesando: 2025-04-23\n",
      "indice_i: 106186 ,monto_ini: 159.52879333496094 ,indice_f: 106192 ,monto_fin: 157.6300048828125\n",
      "posible caso: 106258 GOOG , fecha: 2025-05-07 00:00:00\n",
      "posible caso: 106388 GOOG , fecha: 2025-06-03 00:00:00\n",
      "posible caso: 107354 APP , fecha: 2023-12-12 00:00:00\n",
      "Procesando: 2023-12-12\n",
      "indice_i: 107355 ,monto_ini: 36.0 ,indice_f: 107359 ,monto_fin: 36.27999877929688\n",
      "Procesando: 2023-12-13\n",
      "indice_i: 107360 ,monto_ini: 36.79999923706055 ,indice_f: 107366 ,monto_fin: 37.93000030517578\n",
      "Procesando: 2023-12-14\n",
      "indice_i: 107367 ,monto_ini: 38.56999969482422 ,indice_f: 107373 ,monto_fin: 38.709999084472656\n",
      "Procesando: 2023-12-15\n",
      "indice_i: 107374 ,monto_ini: 39.5968017578125 ,indice_f: 107380 ,monto_fin: 39.95000076293945\n",
      "Procesando: 2023-12-18\n",
      "indice_i: 107381 ,monto_ini: 40.130001068115234 ,indice_f: 107387 ,monto_fin: 40.8650016784668\n",
      "Procesando: 2023-12-19\n",
      "indice_i: 107388 ,monto_ini: 44.0099983215332 ,indice_f: 107394 ,monto_fin: 43.619998931884766\n",
      "Procesando: 2023-12-20\n",
      "indice_i: 107395 ,monto_ini: 44.04999923706055 ,indice_f: 107401 ,monto_fin: 43.11000061035156\n"
     ]
    },
    {
     "name": "stdout",
     "output_type": "stream",
     "text": [
      "posible caso: 107471 APP , fecha: 2024-01-05 00:00:00\n",
      "posible caso: 108476 APP , fecha: 2024-08-05 00:00:00\n",
      "Procesando: 2024-08-05\n",
      "indice_i: 108477 ,monto_ini: 67.72000122070312 ,indice_f: 108482 ,monto_fin: 67.13999938964844\n",
      "Procesando: 2024-08-06\n",
      "indice_i: 108483 ,monto_ini: 69.12000274658203 ,indice_f: 108489 ,monto_fin: 69.0\n",
      "Procesando: 2024-08-07\n",
      "indice_i: 108490 ,monto_ini: 70.6050033569336 ,indice_f: 108496 ,monto_fin: 67.18000030517578\n",
      "posible caso: 108482 APP , fecha: 2024-08-05 00:00:00\n",
      "Procesando: 2024-08-06\n",
      "indice_i: 108483 ,monto_ini: 69.12000274658203 ,indice_f: 108489 ,monto_fin: 69.0\n",
      "Procesando: 2024-08-07\n",
      "indice_i: 108490 ,monto_ini: 70.6050033569336 ,indice_f: 108496 ,monto_fin: 67.18000030517578\n",
      "posible caso: 109508 APP , fecha: 2025-03-10 00:00:00\n",
      "posible caso: 109601 APP , fecha: 2025-03-27 00:00:00\n",
      "posible caso: 109641 APP , fecha: 2025-04-04 00:00:00\n",
      "posible caso: 109710 APP , fecha: 2025-04-21 00:00:00\n",
      "Procesando: 2025-04-21\n",
      "indice_i: 109711 ,monto_ini: 224.5 ,indice_f: 109713 ,monto_fin: 228.259994506836\n",
      "Procesando: 2025-04-22\n",
      "indice_i: 109714 ,monto_ini: 233.7516021728516 ,indice_f: 109720 ,monto_fin: 237.4900054931641\n",
      "Procesando: 2025-04-23\n",
      "indice_i: 109721 ,monto_ini: 264.4599914550781 ,indice_f: 109727 ,monto_fin: 252.1499938964844\n"
     ]
    },
    {
     "name": "stdout",
     "output_type": "stream",
     "text": [
      "posible caso: 110671 UBER , fecha: 2023-10-26 00:00:00\n",
      "Procesando: 2023-10-26\n",
      "indice_i: 110672 ,monto_ini: 40.65999984741211 ,indice_f: 110674 ,monto_fin: 40.630001068115234\n",
      "Procesando: 2023-10-27\n",
      "indice_i: 110675 ,monto_ini: 41.4900016784668 ,indice_f: 110681 ,monto_fin: 41.227500915527344\n",
      "Procesando: 2023-10-30\n",
      "indice_i: 110682 ,monto_ini: 42.22999954223633 ,indice_f: 110688 ,monto_fin: 42.72999954223633\n",
      "Procesando: 2023-10-31\n",
      "indice_i: 110689 ,monto_ini: 42.755001068115234 ,indice_f: 110695 ,monto_fin: 43.290000915527344\n",
      "Procesando: 2023-11-01\n",
      "indice_i: 110696 ,monto_ini: 43.71500015258789 ,indice_f: 110702 ,monto_fin: 43.84000015258789\n",
      "Procesando: 2023-11-02\n",
      "indice_i: 110703 ,monto_ini: 46.22499847412109 ,indice_f: 110709 ,monto_fin: 46.47999954223633\n",
      "Procesando: 2023-11-03\n",
      "indice_i: 110710 ,monto_ini: 47.47999954223633 ,indice_f: 110716 ,monto_fin: 47.75\n",
      "Procesando: 2023-11-06\n",
      "indice_i: 110717 ,monto_ini: 47.709999084472656 ,indice_f: 110723 ,monto_fin: 48.14500045776367\n",
      "posible caso: 111559 UBER , fecha: 2024-04-30 00:00:00\n",
      "posible caso: 111688 UBER , fecha: 2024-05-28 00:00:00\n",
      "posible caso: 112011 UBER , fecha: 2024-08-05 00:00:00\n",
      "Procesando: 2024-08-05\n",
      "indice_i: 112012 ,monto_ini: 57.619998931884766 ,indice_f: 112017 ,monto_fin: 58.4900016784668\n",
      "Procesando: 2024-08-06\n",
      "indice_i: 112018 ,monto_ini: 63.209999084472656 ,indice_f: 112024 ,monto_fin: 64.86000061035156\n",
      "Procesando: 2024-08-07\n",
      "indice_i: 112025 ,monto_ini: 67.70999908447266 ,indice_f: 112031 ,monto_fin: 65.56999969482422\n",
      "posible caso: 112206 UBER , fecha: 2024-09-12 00:00:00\n",
      "Procesando: 2024-09-13\n",
      "indice_i: 112207 ,monto_ini: 72.73500061035156 ,indice_f: 112213 ,monto_fin: 72.4800033569336\n",
      "Procesando: 2024-09-16\n",
      "indice_i: 112214 ,monto_ini: 71.68000030517578 ,indice_f: 112220 ,monto_fin: 71.51000213623047\n",
      "posible caso: 112448 UBER , fecha: 2024-10-31 00:00:00\n",
      "posible caso: 112657 UBER , fecha: 2024-12-13 00:00:00\n",
      "Procesando: 2024-12-16\n",
      "indice_i: 112658 ,monto_ini: 60.959999084472656 ,indice_f: 112664 ,monto_fin: 60.2400016784668\n",
      "Procesando: 2024-12-17\n",
      "indice_i: 112665 ,monto_ini: 60.06999969482422 ,indice_f: 112671 ,monto_fin: 61.040000915527344\n"
     ]
    },
    {
     "name": "stdout",
     "output_type": "stream",
     "text": [
      "posible caso: 112730 UBER , fecha: 2024-12-31 00:00:00\n",
      "Procesando: 2025-01-02\n",
      "indice_i: 112731 ,monto_ini: 62.709999084472656 ,indice_f: 112737 ,monto_fin: 63.18000030517578\n",
      "Procesando: 2025-01-03\n",
      "indice_i: 112738 ,monto_ini: 64.37000274658203 ,indice_f: 112744 ,monto_fin: 64.61000061035156\n",
      "Procesando: 2025-01-06\n",
      "indice_i: 112745 ,monto_ini: 66.85440063476562 ,indice_f: 112751 ,monto_fin: 66.33999633789062\n",
      "Procesando: 2025-01-07\n",
      "indice_i: 112752 ,monto_ini: 67.05000305175781 ,indice_f: 112758 ,monto_fin: 66.16000366210938\n",
      "posible caso: 112782 UBER , fecha: 2025-01-14 00:00:00\n",
      "Procesando: 2025-01-14\n",
      "indice_i: 112783 ,monto_ini: 65.11000061035156 ,indice_f: 112786 ,monto_fin: 64.83999633789062\n",
      "Procesando: 2025-01-15\n",
      "indice_i: 112787 ,monto_ini: 66.88999938964844 ,indice_f: 112793 ,monto_fin: 66.98999786376953\n",
      "Procesando: 2025-01-16\n",
      "indice_i: 112794 ,monto_ini: 68.56999969482422 ,indice_f: 112800 ,monto_fin: 68.5999984741211\n",
      "Procesando: 2025-01-17\n",
      "indice_i: 112801 ,monto_ini: 68.29632568359375 ,indice_f: 112807 ,monto_fin: 67.33000183105469\n",
      "posible caso: 112889 UBER , fecha: 2025-02-05 00:00:00\n",
      "posible caso: 113066 UBER , fecha: 2025-03-13 00:00:00\n",
      "Procesando: 2025-03-14\n",
      "indice_i: 113067 ,monto_ini: 70.81999969482422 ,indice_f: 113073 ,monto_fin: 71.53500366210938\n",
      "Procesando: 2025-03-17\n",
      "indice_i: 113074 ,monto_ini: 73.08999633789062 ,indice_f: 113080 ,monto_fin: 72.73500061035156\n",
      "Procesando: 2025-03-18\n",
      "indice_i: 113081 ,monto_ini: 70.88999938964844 ,indice_f: 113087 ,monto_fin: 71.55999755859375\n"
     ]
    }
   ],
   "source": [
    "#Posibles casos GAP\n",
    "df_casos = pd.DataFrame()\n",
    "caso = 0\n",
    "ticker2 = \"\"\n",
    "window=5\n",
    "backeval=75\n",
    "backevalTrend=0\n",
    "dfpl = pd.DataFrame\n",
    "trendH = []\n",
    "trendL = []\n",
    "cant = 0\n",
    "piso = 0\n",
    "for candle, row in df_hora_final.iterrows():    \n",
    "   #if (candle==118):\n",
    "    if((df_hora_final['pga'][candle]==1)): #posibles casos \n",
    "        ticker = df_hora_final['companyName'][candle]\n",
    "        #df_ticker=df_hora_final[(df_hora_final['companyName']==ticker) & (df_hora_final.index>=candle)].copy()\n",
    "        df_ticker = df_hora_final[(df_hora_final.companyName==ticker)].loc[candle-backeval:candle+backeval].copy()            \n",
    "        fechaini = df_hora_final['fecha'][candle]\n",
    "        print(\"posible caso:\",candle, df_hora_final['companyName'][candle], \", fecha:\", fechaini)\n",
    "        indice_ini =   candle + 1        \n",
    "        if indice_ini in df_ticker.index:\n",
    "            if ((df_ticker.loc[indice_ini,\"Low\"]>df_ticker.loc[candle,\"Low\"]) & (df_hora_final['Vela_Verde'][indice_ini]==True)):\n",
    "                #print(\"PASO\")\n",
    "                fechaini = df_hora_final['fecha'][indice_ini]\n",
    "                #print(fechaini)\n",
    "                #Si es verdadero seguir revisando las demas filas\n",
    "                df_ticker.loc[indice_ini,'indicador'] = 1\n",
    "                piso = df_hora_final.loc[indice_ini,\"Low\"]\n",
    "                #print(piso)\n",
    "                #revisar ultima vela del dia\n",
    "                #Generar fechas día a día entre el mínimo y el máximo\n",
    "                rango = pd.date_range(start=fechaini, end=df_ticker['fecha'].max(), freq='D')\n",
    "\n",
    "                #Recorrer cada día\n",
    "                for fecha in rango:                    \n",
    "                    if (df_ticker.query(\"fecha==@fecha\").shape[0]>0):\n",
    "                        print(f\"Procesando: {fecha.date()}\")\n",
    "                    \n",
    "                        if (fechaini==fecha):\n",
    "                            indice_i=indice_ini\n",
    "                        else:\n",
    "                            indice_i = df_ticker.query(\"fecha==@fecha\").index[0] #inicio\n",
    "\n",
    "                        indice_f = df_ticker.query(\"fecha==@fecha\").index[-1] #fin\n",
    "                        monto_ini = df_ticker['Close'][indice_i]\n",
    "                        monto_fin = df_ticker['Close'][indice_f]\n",
    "\n",
    "                        monto_ini2 = df_ticker['Low'][indice_i]\n",
    "                        monto_fin2 = df_ticker['Low'][indice_f]  \n",
    "                        \n",
    "                        print(\"indice_i:\",indice_i,\",monto_ini:\",monto_ini,\",indice_f:\",indice_f,\",monto_fin:\",monto_fin)\n",
    "\n",
    "                        #Validacion vela inicial mayor a vela\n",
    "                        ayer = fecha - timedelta(days=1)\n",
    "                        if ((df_ticker.query(\"fecha<@fecha\").shape[0]>0) & (fecha>fechaini)):\n",
    "                            indice_ayer = df_ticker.query(\"fecha<@fecha\").index[-1] #fin  \n",
    "                            monto_finayer = df_ticker['Close'][indice_ayer]\n",
    "                            monto_finayer2 = df_ticker['Low'][indice_ayer]\n",
    "                            if ((monto_finayer>monto_ini) & (monto_finayer2>monto_ini2)):\n",
    "                                df_ticker.loc[indice_ayer,'indicador'] = 2\n",
    "                                break\n",
    "                        \n",
    "                        if ((monto_ini > monto_fin) & (monto_ini2 > monto_fin2) & (fecha>fechaini)):\n",
    "                            df_ticker.loc[indice_f,'indicador'] = 2\n",
    "                            break\n",
    "                            \n",
    "                #INSERT CASO\n",
    "                df_ticker.loc[candle,'ind_posicion'] = 0\n",
    "                caso=caso+1                        \n",
    "                df_ticker[\"caso\"] = caso\n",
    "                #print(candle, df_ticker['companyName'][candle])\n",
    "                if len(df_casos)<1:\n",
    "                    df_casos = df_ticker\n",
    "                else:\n",
    "                    df_casos = pd.concat([df_casos, df_ticker],ignore_index=False)"
   ]
  },
  {
   "cell_type": "code",
   "execution_count": 13,
   "id": "dfc43935-ffa1-4f61-a2e1-393813ec572d",
   "metadata": {
    "execution": {
     "iopub.execute_input": "2025-06-11T18:02:58.771629Z",
     "iopub.status.busy": "2025-06-11T18:02:58.771407Z",
     "iopub.status.idle": "2025-06-11T18:02:59.338390Z",
     "shell.execute_reply": "2025-06-11T18:02:59.337700Z"
    },
    "papermill": {
     "duration": 0.577722,
     "end_time": "2025-06-11T18:02:59.339523",
     "exception": false,
     "start_time": "2025-06-11T18:02:58.761801",
     "status": "completed"
    },
    "tags": []
   },
   "outputs": [],
   "source": [
    "#descarga de informacion, estrategia: RUPTURA DEL CANAL BAJISTA\n",
    "path = 'data/pga.txt'\n",
    "# check whether the file exists\n",
    "if os.path.exists(path):\n",
    "    # delete the file\n",
    "    os.remove(path)\n",
    "else:\n",
    "    # if the file does not exist.\n",
    "    print(\"File does not exists. File needs to be created.\")\n",
    "\n",
    "#export DataFrame to text file\n",
    "with open(path, 'a') as f:\n",
    "    #df_string = appl_hor3.to_string(header=True, index=False, sep ='\\t')\n",
    "    df_casos.to_csv(path, header=True, index=None, sep='\\t', mode='w')\n",
    "    #f.write(df_string)"
   ]
  },
  {
   "cell_type": "markdown",
   "id": "261e87e2-fb58-479e-8acb-c88c3abe57bd",
   "metadata": {
    "papermill": {
     "duration": 0.008754,
     "end_time": "2025-06-11T18:02:59.357533",
     "exception": false,
     "start_time": "2025-06-11T18:02:59.348779",
     "status": "completed"
    },
    "tags": []
   },
   "source": [
    "BACKTESTING\n",
    "Usando paquete backtesting.py"
   ]
  },
  {
   "cell_type": "code",
   "execution_count": 14,
   "id": "268842a1-c40b-401f-b08c-ba69319bb96a",
   "metadata": {
    "execution": {
     "iopub.execute_input": "2025-06-11T18:02:59.376376Z",
     "iopub.status.busy": "2025-06-11T18:02:59.376087Z",
     "iopub.status.idle": "2025-06-11T18:02:59.383730Z",
     "shell.execute_reply": "2025-06-11T18:02:59.383268Z"
    },
    "papermill": {
     "duration": 0.018179,
     "end_time": "2025-06-11T18:02:59.384567",
     "exception": false,
     "start_time": "2025-06-11T18:02:59.366388",
     "status": "completed"
    },
    "tags": []
   },
   "outputs": [],
   "source": [
    "#df_casos[df_casos[\"indicador\"]>0]\n",
    "df_casos2 = df_casos.query(\"indicador>0\").copy()"
   ]
  },
  {
   "cell_type": "code",
   "execution_count": 15,
   "id": "0bd8cc41-6db5-43b8-8bdd-9afaad88e675",
   "metadata": {
    "execution": {
     "iopub.execute_input": "2025-06-11T18:02:59.403566Z",
     "iopub.status.busy": "2025-06-11T18:02:59.403114Z",
     "iopub.status.idle": "2025-06-11T18:02:59.440489Z",
     "shell.execute_reply": "2025-06-11T18:02:59.439852Z"
    },
    "papermill": {
     "duration": 0.047998,
     "end_time": "2025-06-11T18:02:59.441640",
     "exception": false,
     "start_time": "2025-06-11T18:02:59.393642",
     "status": "completed"
    },
    "tags": []
   },
   "outputs": [],
   "source": [
    "# =============== BACKTESTING ================= #\n",
    "# obteniendo dataframe backtesting\n",
    "df_backTesting = pd.merge(df_hora, df_casos2[['datetime','companyName', 'indicador','caso']], on = ['companyName','datetime'], how='left')\n",
    "# datos de trade se asigna una vela anterior debido a que backtesting.py toma entra como la siguiente vela\n",
    "df_backTesting['indicador'] = df_backTesting['indicador'].shift(-1)\n",
    "#modificamos indice con el compo datetime\n",
    "df_backTesting.set_index('datetime', inplace=True)"
   ]
  },
  {
   "cell_type": "code",
   "execution_count": 16,
   "id": "8b9cfc9a-b952-4d3b-b06d-d5cfc911bf4a",
   "metadata": {
    "execution": {
     "iopub.execute_input": "2025-06-11T18:02:59.460858Z",
     "iopub.status.busy": "2025-06-11T18:02:59.460652Z",
     "iopub.status.idle": "2025-06-11T18:02:59.464342Z",
     "shell.execute_reply": "2025-06-11T18:02:59.463869Z"
    },
    "papermill": {
     "duration": 0.014021,
     "end_time": "2025-06-11T18:02:59.465188",
     "exception": false,
     "start_time": "2025-06-11T18:02:59.451167",
     "status": "completed"
    },
    "tags": []
   },
   "outputs": [],
   "source": [
    "#Strategia\n",
    "class strategyPGA(Strategy):\n",
    "    def init(self):\n",
    "        self.indpga = self.I(lambda x: x, self.data.indicador) #Indica la señal entrada 1, salida 2\n",
    "    def next(self):\n",
    "        #print(self.data)\n",
    "        if self.indpga[-1] == 1:\n",
    "            self.buy()  #COMPRA\n",
    "        elif self.indpga[-1] == 2 and self.position:\n",
    "            self.position.close() #CIERRE"
   ]
  },
  {
   "cell_type": "code",
   "execution_count": 17,
   "id": "f0138ca3-40ac-49c8-aaca-67432063b811",
   "metadata": {
    "execution": {
     "iopub.execute_input": "2025-06-11T18:02:59.484224Z",
     "iopub.status.busy": "2025-06-11T18:02:59.483937Z",
     "iopub.status.idle": "2025-06-11T18:03:01.301260Z",
     "shell.execute_reply": "2025-06-11T18:03:01.300746Z"
    },
    "papermill": {
     "duration": 1.828035,
     "end_time": "2025-06-11T18:03:01.302270",
     "exception": false,
     "start_time": "2025-06-11T18:02:59.474235",
     "status": "completed"
    },
    "tags": []
   },
   "outputs": [
    {
     "name": "stderr",
     "output_type": "stream",
     "text": [
      "\r",
      "Backtest.run:   0%|          | 0/3000 [00:00<?, ?bar/s]"
     ]
    },
    {
     "name": "stderr",
     "output_type": "stream",
     "text": [
      "\r",
      "                                                       "
     ]
    },
    {
     "name": "stderr",
     "output_type": "stream",
     "text": [
      "\r"
     ]
    },
    {
     "name": "stderr",
     "output_type": "stream",
     "text": [
      "\r",
      "Backtest.run:   0%|          | 0/2877 [00:00<?, ?bar/s]"
     ]
    },
    {
     "name": "stderr",
     "output_type": "stream",
     "text": [
      "\r",
      "                                                       "
     ]
    },
    {
     "name": "stderr",
     "output_type": "stream",
     "text": [
      "\r"
     ]
    },
    {
     "name": "stderr",
     "output_type": "stream",
     "text": [
      "\r",
      "Backtest.run:   0%|          | 0/2544 [00:00<?, ?bar/s]"
     ]
    },
    {
     "name": "stderr",
     "output_type": "stream",
     "text": [
      "/usr/share/miniconda/envs/test/lib/python3.10/site-packages/backtesting/backtesting.py:954: UserWarning: time=1287: Broker canceled the relative-sized order due to insufficient margin.\n",
      "  warnings.warn(\n",
      "\r",
      "                                                       "
     ]
    },
    {
     "name": "stderr",
     "output_type": "stream",
     "text": [
      "\r"
     ]
    },
    {
     "name": "stderr",
     "output_type": "stream",
     "text": [
      "\r",
      "Backtest.run:   0%|          | 0/2878 [00:00<?, ?bar/s]"
     ]
    },
    {
     "name": "stderr",
     "output_type": "stream",
     "text": [
      "/usr/share/miniconda/envs/test/lib/python3.10/site-packages/backtesting/backtesting.py:954: UserWarning: time=1955: Broker canceled the relative-sized order due to insufficient margin.\n",
      "  warnings.warn(\n",
      "\r",
      "                                                       "
     ]
    },
    {
     "name": "stderr",
     "output_type": "stream",
     "text": [
      "\r"
     ]
    },
    {
     "name": "stderr",
     "output_type": "stream",
     "text": [
      "\r",
      "Backtest.run:   0%|          | 0/2917 [00:00<?, ?bar/s]"
     ]
    },
    {
     "name": "stderr",
     "output_type": "stream",
     "text": [
      "\r",
      "                                                       "
     ]
    },
    {
     "name": "stderr",
     "output_type": "stream",
     "text": [
      "\r"
     ]
    },
    {
     "name": "stderr",
     "output_type": "stream",
     "text": [
      "\r",
      "Backtest.run:   0%|          | 0/3484 [00:00<?, ?bar/s]"
     ]
    },
    {
     "name": "stderr",
     "output_type": "stream",
     "text": [
      "\r",
      "                                                       "
     ]
    },
    {
     "name": "stderr",
     "output_type": "stream",
     "text": [
      "\r"
     ]
    },
    {
     "name": "stderr",
     "output_type": "stream",
     "text": [
      "\r",
      "Backtest.run:   0%|          | 0/3024 [00:00<?, ?bar/s]"
     ]
    },
    {
     "name": "stderr",
     "output_type": "stream",
     "text": [
      "\r",
      "                                                       "
     ]
    },
    {
     "name": "stderr",
     "output_type": "stream",
     "text": [
      "\r"
     ]
    },
    {
     "name": "stderr",
     "output_type": "stream",
     "text": [
      "\r",
      "Backtest.run:   0%|          | 0/3485 [00:00<?, ?bar/s]"
     ]
    },
    {
     "name": "stderr",
     "output_type": "stream",
     "text": [
      "\r",
      "                                                       "
     ]
    },
    {
     "name": "stderr",
     "output_type": "stream",
     "text": [
      "\r"
     ]
    },
    {
     "name": "stderr",
     "output_type": "stream",
     "text": [
      "\r",
      "Backtest.run:   0%|          | 0/2805 [00:00<?, ?bar/s]"
     ]
    },
    {
     "name": "stderr",
     "output_type": "stream",
     "text": [
      "\r",
      "                                                       "
     ]
    },
    {
     "name": "stderr",
     "output_type": "stream",
     "text": [
      "\r"
     ]
    },
    {
     "name": "stderr",
     "output_type": "stream",
     "text": [
      "\r",
      "Backtest.run:   0%|          | 0/3095 [00:00<?, ?bar/s]"
     ]
    },
    {
     "name": "stderr",
     "output_type": "stream",
     "text": [
      "\r",
      "                                                       "
     ]
    },
    {
     "name": "stderr",
     "output_type": "stream",
     "text": [
      "\r"
     ]
    },
    {
     "name": "stderr",
     "output_type": "stream",
     "text": [
      "\r",
      "Backtest.run:   0%|          | 0/3471 [00:00<?, ?bar/s]"
     ]
    },
    {
     "name": "stderr",
     "output_type": "stream",
     "text": [
      "\r",
      "                                                       "
     ]
    },
    {
     "name": "stderr",
     "output_type": "stream",
     "text": [
      "\r"
     ]
    },
    {
     "name": "stderr",
     "output_type": "stream",
     "text": [
      "\r",
      "Backtest.run:   0%|          | 0/3480 [00:00<?, ?bar/s]"
     ]
    },
    {
     "name": "stderr",
     "output_type": "stream",
     "text": [
      "\r",
      "                                                       "
     ]
    },
    {
     "name": "stderr",
     "output_type": "stream",
     "text": [
      "\r"
     ]
    },
    {
     "name": "stderr",
     "output_type": "stream",
     "text": [
      "\r",
      "Backtest.run:   0%|          | 0/3484 [00:00<?, ?bar/s]"
     ]
    },
    {
     "name": "stderr",
     "output_type": "stream",
     "text": [
      "\r",
      "                                                       "
     ]
    },
    {
     "name": "stderr",
     "output_type": "stream",
     "text": [
      "\r"
     ]
    },
    {
     "name": "stderr",
     "output_type": "stream",
     "text": [
      "\r",
      "Backtest.run:   0%|          | 0/3482 [00:00<?, ?bar/s]"
     ]
    },
    {
     "name": "stderr",
     "output_type": "stream",
     "text": [
      "/usr/share/miniconda/envs/test/lib/python3.10/site-packages/backtesting/backtesting.py:954: UserWarning: time=1133: Broker canceled the relative-sized order due to insufficient margin.\n",
      "  warnings.warn(\n",
      "/usr/share/miniconda/envs/test/lib/python3.10/site-packages/backtesting/backtesting.py:954: UserWarning: time=1778: Broker canceled the relative-sized order due to insufficient margin.\n",
      "  warnings.warn(\n",
      "\r",
      "                                                       "
     ]
    },
    {
     "name": "stderr",
     "output_type": "stream",
     "text": [
      "\r"
     ]
    },
    {
     "name": "stderr",
     "output_type": "stream",
     "text": [
      "\r",
      "Backtest.run:   0%|          | 0/1517 [00:00<?, ?bar/s]"
     ]
    },
    {
     "name": "stderr",
     "output_type": "stream",
     "text": [
      "\r",
      "                                                       "
     ]
    },
    {
     "name": "stderr",
     "output_type": "stream",
     "text": [
      "\r"
     ]
    },
    {
     "name": "stderr",
     "output_type": "stream",
     "text": [
      "\r",
      "Backtest.run:   0%|          | 0/3216 [00:00<?, ?bar/s]"
     ]
    },
    {
     "name": "stderr",
     "output_type": "stream",
     "text": [
      "\r",
      "                                                       "
     ]
    },
    {
     "name": "stderr",
     "output_type": "stream",
     "text": [
      "\r"
     ]
    },
    {
     "name": "stderr",
     "output_type": "stream",
     "text": [
      "\r",
      "Backtest.run:   0%|          | 0/1374 [00:00<?, ?bar/s]"
     ]
    },
    {
     "name": "stderr",
     "output_type": "stream",
     "text": [
      "\r",
      "                                                       "
     ]
    },
    {
     "name": "stderr",
     "output_type": "stream",
     "text": [
      "\r"
     ]
    },
    {
     "name": "stderr",
     "output_type": "stream",
     "text": [
      "\r",
      "Backtest.run:   0%|          | 0/2746 [00:00<?, ?bar/s]"
     ]
    },
    {
     "name": "stderr",
     "output_type": "stream",
     "text": [
      "\r",
      "                                                       "
     ]
    },
    {
     "name": "stderr",
     "output_type": "stream",
     "text": [
      "\r"
     ]
    },
    {
     "name": "stderr",
     "output_type": "stream",
     "text": [
      "\r",
      "Backtest.run:   0%|          | 0/3484 [00:00<?, ?bar/s]"
     ]
    },
    {
     "name": "stderr",
     "output_type": "stream",
     "text": [
      "\r",
      "                                                       "
     ]
    },
    {
     "name": "stderr",
     "output_type": "stream",
     "text": [
      "\r"
     ]
    },
    {
     "name": "stderr",
     "output_type": "stream",
     "text": [
      "\r",
      "Backtest.run:   0%|          | 0/3484 [00:00<?, ?bar/s]"
     ]
    },
    {
     "name": "stderr",
     "output_type": "stream",
     "text": [
      "\r",
      "                                                       "
     ]
    },
    {
     "name": "stderr",
     "output_type": "stream",
     "text": [
      "\r"
     ]
    },
    {
     "name": "stderr",
     "output_type": "stream",
     "text": [
      "\r",
      "Backtest.run:   0%|          | 0/2804 [00:00<?, ?bar/s]"
     ]
    },
    {
     "name": "stderr",
     "output_type": "stream",
     "text": [
      "/usr/share/miniconda/envs/test/lib/python3.10/site-packages/backtesting/backtesting.py:954: UserWarning: time=794: Broker canceled the relative-sized order due to insufficient margin.\n",
      "  warnings.warn(\n",
      "\r",
      "                                                       "
     ]
    },
    {
     "name": "stderr",
     "output_type": "stream",
     "text": [
      "\r"
     ]
    },
    {
     "name": "stderr",
     "output_type": "stream",
     "text": [
      "\r",
      "Backtest.run:   0%|          | 0/3480 [00:00<?, ?bar/s]"
     ]
    },
    {
     "name": "stderr",
     "output_type": "stream",
     "text": [
      "\r",
      "                                                       "
     ]
    },
    {
     "name": "stderr",
     "output_type": "stream",
     "text": [
      "\r"
     ]
    },
    {
     "name": "stderr",
     "output_type": "stream",
     "text": [
      "\r",
      "Backtest.run:   0%|          | 0/2804 [00:00<?, ?bar/s]"
     ]
    },
    {
     "name": "stderr",
     "output_type": "stream",
     "text": [
      "\r",
      "                                                       "
     ]
    },
    {
     "name": "stderr",
     "output_type": "stream",
     "text": [
      "\r"
     ]
    },
    {
     "name": "stderr",
     "output_type": "stream",
     "text": [
      "\r",
      "Backtest.run:   0%|          | 0/2863 [00:00<?, ?bar/s]"
     ]
    },
    {
     "name": "stderr",
     "output_type": "stream",
     "text": [
      "\r",
      "                                                       "
     ]
    },
    {
     "name": "stderr",
     "output_type": "stream",
     "text": [
      "\r"
     ]
    },
    {
     "name": "stderr",
     "output_type": "stream",
     "text": [
      "\r",
      "Backtest.run:   0%|          | 0/3030 [00:00<?, ?bar/s]"
     ]
    },
    {
     "name": "stderr",
     "output_type": "stream",
     "text": [
      "/usr/share/miniconda/envs/test/lib/python3.10/site-packages/backtesting/backtesting.py:954: UserWarning: time=2221: Broker canceled the relative-sized order due to insufficient margin.\n",
      "  warnings.warn(\n",
      "\r",
      "                                                       "
     ]
    },
    {
     "name": "stderr",
     "output_type": "stream",
     "text": [
      "\r"
     ]
    },
    {
     "name": "stderr",
     "output_type": "stream",
     "text": [
      "\r",
      "Backtest.run:   0%|          | 0/1517 [00:00<?, ?bar/s]"
     ]
    },
    {
     "name": "stderr",
     "output_type": "stream",
     "text": [
      "\r",
      "                                                       "
     ]
    },
    {
     "name": "stderr",
     "output_type": "stream",
     "text": [
      "\r"
     ]
    },
    {
     "name": "stderr",
     "output_type": "stream",
     "text": [
      "\r",
      "Backtest.run:   0%|          | 0/3490 [00:00<?, ?bar/s]"
     ]
    },
    {
     "name": "stderr",
     "output_type": "stream",
     "text": [
      "\r",
      "                                                       "
     ]
    },
    {
     "name": "stderr",
     "output_type": "stream",
     "text": [
      "\r"
     ]
    },
    {
     "name": "stderr",
     "output_type": "stream",
     "text": [
      "\r",
      "Backtest.run:   0%|          | 0/408 [00:00<?, ?bar/s]"
     ]
    },
    {
     "name": "stderr",
     "output_type": "stream",
     "text": [
      "\r",
      "                                                      "
     ]
    },
    {
     "name": "stderr",
     "output_type": "stream",
     "text": [
      "\r",
      "/tmp/ipykernel_2199/4238880417.py:34: FutureWarning: The behavior of DataFrame concatenation with empty or all-NA entries is deprecated. In a future version, this will no longer exclude empty or all-NA columns when determining the result dtypes. To retain the old behavior, exclude the relevant entries before the concat operation.\n",
      "  tradesprev = pd.concat([tradesprev, tradesdf],ignore_index=True)\n",
      "/tmp/ipykernel_2199/4238880417.py:35: FutureWarning: The behavior of DataFrame concatenation with empty or all-NA entries is deprecated. In a future version, this will no longer exclude empty or all-NA columns when determining the result dtypes. To retain the old behavior, exclude the relevant entries before the concat operation.\n",
      "  estadisticas=pd.concat([estadisticas, stat],ignore_index=True)\n"
     ]
    },
    {
     "name": "stderr",
     "output_type": "stream",
     "text": [
      "\r",
      "Backtest.run:   0%|          | 0/3213 [00:00<?, ?bar/s]"
     ]
    },
    {
     "name": "stderr",
     "output_type": "stream",
     "text": [
      "\r",
      "                                                       "
     ]
    },
    {
     "name": "stderr",
     "output_type": "stream",
     "text": [
      "\r"
     ]
    },
    {
     "name": "stderr",
     "output_type": "stream",
     "text": [
      "\r",
      "Backtest.run:   0%|          | 0/3394 [00:00<?, ?bar/s]"
     ]
    },
    {
     "name": "stderr",
     "output_type": "stream",
     "text": [
      "/usr/share/miniconda/envs/test/lib/python3.10/site-packages/backtesting/backtesting.py:954: UserWarning: time=1693: Broker canceled the relative-sized order due to insufficient margin.\n",
      "  warnings.warn(\n",
      "/usr/share/miniconda/envs/test/lib/python3.10/site-packages/backtesting/backtesting.py:954: UserWarning: time=2355: Broker canceled the relative-sized order due to insufficient margin.\n",
      "  warnings.warn(\n"
     ]
    },
    {
     "name": "stderr",
     "output_type": "stream",
     "text": [
      "\r",
      "                                                       "
     ]
    },
    {
     "name": "stderr",
     "output_type": "stream",
     "text": [
      "\r"
     ]
    },
    {
     "name": "stderr",
     "output_type": "stream",
     "text": [
      "\r",
      "Backtest.run:   0%|          | 0/2873 [00:00<?, ?bar/s]"
     ]
    },
    {
     "name": "stderr",
     "output_type": "stream",
     "text": [
      "\r",
      "                                                       "
     ]
    },
    {
     "name": "stderr",
     "output_type": "stream",
     "text": [
      "\r"
     ]
    },
    {
     "name": "stderr",
     "output_type": "stream",
     "text": [
      "\r",
      "Backtest.run:   0%|          | 0/2660 [00:00<?, ?bar/s]"
     ]
    },
    {
     "name": "stderr",
     "output_type": "stream",
     "text": [
      "/usr/share/miniconda/envs/test/lib/python3.10/site-packages/backtesting/backtesting.py:954: UserWarning: time=2004: Broker canceled the relative-sized order due to insufficient margin.\n",
      "  warnings.warn(\n"
     ]
    },
    {
     "name": "stderr",
     "output_type": "stream",
     "text": [
      "\r",
      "                                                       "
     ]
    },
    {
     "name": "stderr",
     "output_type": "stream",
     "text": [
      "\r"
     ]
    },
    {
     "name": "stderr",
     "output_type": "stream",
     "text": [
      "\r",
      "Backtest.run:   0%|          | 0/2867 [00:00<?, ?bar/s]"
     ]
    },
    {
     "name": "stderr",
     "output_type": "stream",
     "text": [
      "\r",
      "                                                       "
     ]
    },
    {
     "name": "stderr",
     "output_type": "stream",
     "text": [
      "\r"
     ]
    }
   ],
   "source": [
    "# Por cada TIcket\n",
    "my_stats = {}\n",
    "estadisticas = pd.DataFrame()          # lista para ticker\n",
    "tradesprev = pd.DataFrame()     # lista para cada caso por ticker\n",
    "for ticker in df_backTesting['companyName'].unique():\n",
    "    ticker_data = df_backTesting[df_backTesting['companyName'] == ticker].copy() #Filtro por cada ticker\n",
    "    bt = Backtest(ticker_data, strategyPGA, cash=10_000)\n",
    "    my_stats = bt.run()\n",
    "    listTrades = my_stats['_trades']\n",
    "    tradesdf = pd.DataFrame(listTrades) #trades\n",
    "    tradesdf['Ticker'] = ticker\n",
    "    stats_filter={\n",
    "        'Ticker':ticker,\n",
    "        'EntryTime':my_stats['Start'],\n",
    "        'ExitTime':my_stats['End'],\n",
    "        'Return [%]': my_stats['Return [%]'],\n",
    "        'CAGR [%]': my_stats['Return (Ann.) [%]'],\n",
    "        'Sharpe Ratio': my_stats['Sharpe Ratio'],\n",
    "        'Max. Drawdown [%]': my_stats['Max. Drawdown [%]'],\n",
    "        'Win Rate [%]': my_stats['Win Rate [%]'],\n",
    "        '# Trades': my_stats['# Trades'],\n",
    "        'Expectancy [%]': my_stats['Expectancy [%]'],\n",
    "        'Profit Factor': my_stats['Profit Factor'],\n",
    "        'Duration': my_stats['Duration'],\n",
    "        'Avg. Trade [%]':my_stats['Avg. Trade [%]'],\n",
    "        'Max. Trade Duration':my_stats['Max. Trade Duration'],\n",
    "        'Avg. Trade Duration':my_stats['Avg. Trade Duration']\n",
    "    }\n",
    "    stat=pd.DataFrame([stats_filter])\n",
    "    if tradesprev.shape[0]==0:\n",
    "        tradesprev = tradesdf.copy()\n",
    "        estadisticas=stat.copy()\n",
    "    else:\n",
    "        tradesprev = pd.concat([tradesprev, tradesdf],ignore_index=True)\n",
    "        estadisticas=pd.concat([estadisticas, stat],ignore_index=True)\n",
    "    # Mostramos\n",
    "    #bt.plot(resample=False, filename=f\"plot_BreakOUT_{ticker}\")"
   ]
  },
  {
   "cell_type": "code",
   "execution_count": 18,
   "id": "925a038f-307f-46a0-8894-515b5a85e87c",
   "metadata": {
    "execution": {
     "iopub.execute_input": "2025-06-11T18:03:01.328734Z",
     "iopub.status.busy": "2025-06-11T18:03:01.328267Z",
     "iopub.status.idle": "2025-06-11T18:03:01.334653Z",
     "shell.execute_reply": "2025-06-11T18:03:01.334197Z"
    },
    "papermill": {
     "duration": 0.020399,
     "end_time": "2025-06-11T18:03:01.335523",
     "exception": false,
     "start_time": "2025-06-11T18:03:01.315124",
     "status": "completed"
    },
    "tags": []
   },
   "outputs": [],
   "source": [
    "ini = df_casos2[(df_casos2['indicador']==1)].copy()\n",
    "df_casos3_ini=ini.rename(columns={'Open': 'EntryPrice', 'datetime': 'EntryTime', 'companyName': 'Ticker'})[['EntryPrice','Ticker','caso','EntryTime']]\n",
    "final = df_casos2[(df_casos2['indicador']==2)].copy()\n",
    "df_casos3_final=final.rename(columns={'Open': 'ExitPrice', 'datetime': 'ExitTime', 'companyName': 'Ticker'})[['ExitPrice','Ticker','caso','ExitTime']]"
   ]
  },
  {
   "cell_type": "code",
   "execution_count": 19,
   "id": "543c6fc6",
   "metadata": {
    "execution": {
     "iopub.execute_input": "2025-06-11T18:03:01.361873Z",
     "iopub.status.busy": "2025-06-11T18:03:01.361412Z",
     "iopub.status.idle": "2025-06-11T18:03:01.367969Z",
     "shell.execute_reply": "2025-06-11T18:03:01.367387Z"
    },
    "papermill": {
     "duration": 0.020679,
     "end_time": "2025-06-11T18:03:01.368948",
     "exception": false,
     "start_time": "2025-06-11T18:03:01.348269",
     "status": "completed"
    },
    "tags": []
   },
   "outputs": [],
   "source": [
    "df_casos3=df_casos3_ini.merge(df_casos3_final,on=['Ticker','caso'],how='outer')"
   ]
  },
  {
   "cell_type": "code",
   "execution_count": 20,
   "id": "8ef190f6",
   "metadata": {
    "execution": {
     "iopub.execute_input": "2025-06-11T18:03:01.395134Z",
     "iopub.status.busy": "2025-06-11T18:03:01.394859Z",
     "iopub.status.idle": "2025-06-11T18:03:01.401380Z",
     "shell.execute_reply": "2025-06-11T18:03:01.400779Z"
    },
    "papermill": {
     "duration": 0.020575,
     "end_time": "2025-06-11T18:03:01.402305",
     "exception": false,
     "start_time": "2025-06-11T18:03:01.381730",
     "status": "completed"
    },
    "tags": []
   },
   "outputs": [],
   "source": [
    "trades = pd.merge(df_casos3, tradesprev, on = ['EntryTime','Ticker'], how='left')"
   ]
  },
  {
   "cell_type": "code",
   "execution_count": 21,
   "id": "82ec792c",
   "metadata": {
    "execution": {
     "iopub.execute_input": "2025-06-11T18:03:01.428678Z",
     "iopub.status.busy": "2025-06-11T18:03:01.428235Z",
     "iopub.status.idle": "2025-06-11T18:03:01.435078Z",
     "shell.execute_reply": "2025-06-11T18:03:01.434569Z"
    },
    "papermill": {
     "duration": 0.02084,
     "end_time": "2025-06-11T18:03:01.435944",
     "exception": false,
     "start_time": "2025-06-11T18:03:01.415104",
     "status": "completed"
    },
    "tags": []
   },
   "outputs": [],
   "source": [
    "def exitPrice(x):\n",
    "    if pd.isna(x['ExitPrice_x']):\n",
    "        return x['ExitPrice_y']\n",
    "    else:\n",
    "        return x['ExitPrice_x']\n",
    "trades['ExitPrice'] = trades.apply(lambda row: exitPrice(row), axis=1)"
   ]
  },
  {
   "cell_type": "code",
   "execution_count": 22,
   "id": "150d3cb3",
   "metadata": {
    "execution": {
     "iopub.execute_input": "2025-06-11T18:03:01.461294Z",
     "iopub.status.busy": "2025-06-11T18:03:01.461073Z",
     "iopub.status.idle": "2025-06-11T18:03:01.465547Z",
     "shell.execute_reply": "2025-06-11T18:03:01.465076Z"
    },
    "papermill": {
     "duration": 0.017957,
     "end_time": "2025-06-11T18:03:01.466380",
     "exception": false,
     "start_time": "2025-06-11T18:03:01.448423",
     "status": "completed"
    },
    "tags": []
   },
   "outputs": [],
   "source": [
    "trades = trades.rename(columns={'EntryPrice_x': 'EntryPrice'})\n",
    "trades = trades.drop(['EntryPrice_y','ExitPrice_x', 'ExitPrice_y'], axis=1)"
   ]
  },
  {
   "cell_type": "code",
   "execution_count": 23,
   "id": "0d519d93",
   "metadata": {
    "execution": {
     "iopub.execute_input": "2025-06-11T18:03:01.492620Z",
     "iopub.status.busy": "2025-06-11T18:03:01.492156Z",
     "iopub.status.idle": "2025-06-11T18:03:01.499084Z",
     "shell.execute_reply": "2025-06-11T18:03:01.498622Z"
    },
    "papermill": {
     "duration": 0.021029,
     "end_time": "2025-06-11T18:03:01.499917",
     "exception": false,
     "start_time": "2025-06-11T18:03:01.478888",
     "status": "completed"
    },
    "tags": []
   },
   "outputs": [],
   "source": [
    "def exitTime(x):\n",
    "    if pd.isna(x['ExitTime_x']):\n",
    "        return x['ExitTime_y']\n",
    "    else:\n",
    "        return x['ExitTime_x']\n",
    "trades['ExitTime'] = trades.apply(lambda row: exitTime(row), axis=1)"
   ]
  },
  {
   "cell_type": "code",
   "execution_count": 24,
   "id": "7f081b05",
   "metadata": {
    "execution": {
     "iopub.execute_input": "2025-06-11T18:03:01.525797Z",
     "iopub.status.busy": "2025-06-11T18:03:01.525380Z",
     "iopub.status.idle": "2025-06-11T18:03:01.534247Z",
     "shell.execute_reply": "2025-06-11T18:03:01.533662Z"
    },
    "papermill": {
     "duration": 0.022784,
     "end_time": "2025-06-11T18:03:01.535229",
     "exception": false,
     "start_time": "2025-06-11T18:03:01.512445",
     "status": "completed"
    },
    "tags": []
   },
   "outputs": [],
   "source": [
    "def duration(x):\n",
    "    if pd.isna(x['Duration']):\n",
    "        if pd.isna(x['ExitTime']):\n",
    "            return pd.NaT\n",
    "        else:\n",
    "            return x['ExitTime']-x['EntryTime']\n",
    "    else:\n",
    "        return x['Duration']\n",
    "trades['Duration'] = trades.apply(lambda row: duration(row), axis=1)"
   ]
  },
  {
   "cell_type": "code",
   "execution_count": 25,
   "id": "e7dc21d5",
   "metadata": {
    "execution": {
     "iopub.execute_input": "2025-06-11T18:03:01.561230Z",
     "iopub.status.busy": "2025-06-11T18:03:01.561010Z",
     "iopub.status.idle": "2025-06-11T18:03:01.564650Z",
     "shell.execute_reply": "2025-06-11T18:03:01.564107Z"
    },
    "papermill": {
     "duration": 0.017493,
     "end_time": "2025-06-11T18:03:01.565441",
     "exception": false,
     "start_time": "2025-06-11T18:03:01.547948",
     "status": "completed"
    },
    "tags": []
   },
   "outputs": [],
   "source": [
    "trades = trades.drop(['ExitTime_x', 'ExitTime_y'], axis=1)"
   ]
  },
  {
   "cell_type": "code",
   "execution_count": 26,
   "id": "7c558b80",
   "metadata": {
    "execution": {
     "iopub.execute_input": "2025-06-11T18:03:01.591056Z",
     "iopub.status.busy": "2025-06-11T18:03:01.590653Z",
     "iopub.status.idle": "2025-06-11T18:03:01.594512Z",
     "shell.execute_reply": "2025-06-11T18:03:01.593938Z"
    },
    "papermill": {
     "duration": 0.017493,
     "end_time": "2025-06-11T18:03:01.595326",
     "exception": false,
     "start_time": "2025-06-11T18:03:01.577833",
     "status": "completed"
    },
    "tags": []
   },
   "outputs": [],
   "source": [
    "trades=trades[['Ticker','EntryTime','ExitTime','EntryPrice','ExitPrice','Duration','Size','EntryBar','ExitBar','ReturnPct','caso']]"
   ]
  },
  {
   "cell_type": "code",
   "execution_count": 27,
   "id": "51c5930e",
   "metadata": {
    "execution": {
     "iopub.execute_input": "2025-06-11T18:03:01.621033Z",
     "iopub.status.busy": "2025-06-11T18:03:01.620629Z",
     "iopub.status.idle": "2025-06-11T18:03:01.648115Z",
     "shell.execute_reply": "2025-06-11T18:03:01.647590Z"
    },
    "papermill": {
     "duration": 0.041174,
     "end_time": "2025-06-11T18:03:01.648981",
     "exception": false,
     "start_time": "2025-06-11T18:03:01.607807",
     "status": "completed"
    },
    "tags": []
   },
   "outputs": [],
   "source": [
    "for item in estadisticas['Ticker'].unique():\n",
    "    count = trades[trades[\"Ticker\"] == item].shape[0]\n",
    "    estadisticas.loc[estadisticas['Ticker'] == item, '# Trades'] = count"
   ]
  },
  {
   "cell_type": "code",
   "execution_count": 28,
   "id": "3d17d1eb",
   "metadata": {
    "execution": {
     "iopub.execute_input": "2025-06-11T18:03:01.676304Z",
     "iopub.status.busy": "2025-06-11T18:03:01.675687Z",
     "iopub.status.idle": "2025-06-11T18:03:01.688231Z",
     "shell.execute_reply": "2025-06-11T18:03:01.687718Z"
    },
    "papermill": {
     "duration": 0.027062,
     "end_time": "2025-06-11T18:03:01.689154",
     "exception": false,
     "start_time": "2025-06-11T18:03:01.662092",
     "status": "completed"
    },
    "tags": []
   },
   "outputs": [],
   "source": [
    "path = 'data/backtesting'\n",
    "\n",
    "os.makedirs(path,exist_ok=True)\n",
    "\n",
    "path_trades = os.path.join(path, 'trades_pga.txt')\n",
    "path_estadisticas = os.path.join(path, 'estadisticas_pga.txt')\n",
    "\n",
    "for file_path in [path_trades, path_estadisticas]:\n",
    "    if os.path.exists(file_path):\n",
    "        os.remove(file_path)\n",
    "    else:\n",
    "        print(f\"File does not exist: {file_path}. It will be created.\")\n",
    "\n",
    "trades.to_csv(path_trades, header=True, index=False, sep='\\t', mode='w')\n",
    "estadisticas.to_csv(path_estadisticas, header=True, index=False, sep='\\t', mode='w')"
   ]
  }
 ],
 "metadata": {
  "kernelspec": {
   "display_name": "Python [conda env:base] *",
   "language": "python",
   "name": "conda-base-py"
  },
  "language_info": {
   "codemirror_mode": {
    "name": "ipython",
    "version": 3
   },
   "file_extension": ".py",
   "mimetype": "text/x-python",
   "name": "python",
   "nbconvert_exporter": "python",
   "pygments_lexer": "ipython3",
   "version": "3.10.18"
  },
  "papermill": {
   "default_parameters": {},
   "duration": 27.266069,
   "end_time": "2025-06-11T18:03:02.318121",
   "environment_variables": {},
   "exception": null,
   "input_path": "PrimerGapAlza.ipynb",
   "output_path": "output/PrimerGapAlza.ipynb",
   "parameters": {},
   "start_time": "2025-06-11T18:02:35.052052",
   "version": "2.6.0"
  }
 },
 "nbformat": 4,
 "nbformat_minor": 5
}