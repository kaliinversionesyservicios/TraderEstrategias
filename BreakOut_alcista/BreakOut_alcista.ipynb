{
 "cells": [
  {
   "cell_type": "markdown",
   "id": "add7e209-9b3e-4a88-9f6c-e4036fd41ac1",
   "metadata": {
    "papermill": {
     "duration": 0.004266,
     "end_time": "2025-06-11T16:56:27.908433",
     "exception": false,
     "start_time": "2025-06-11T16:56:27.904167",
     "status": "completed"
    },
    "tags": []
   },
   "source": [
    "# Channel Break Out Detection Alcista"
   ]
  },
  {
   "cell_type": "code",
   "execution_count": 1,
   "id": "d9112859-5bd6-42a9-bde4-b8ff8d2aa4b3",
   "metadata": {
    "execution": {
     "iopub.execute_input": "2025-06-11T16:56:27.917056Z",
     "iopub.status.busy": "2025-06-11T16:56:27.916628Z",
     "iopub.status.idle": "2025-06-11T16:56:29.195328Z",
     "shell.execute_reply": "2025-06-11T16:56:29.194818Z"
    },
    "papermill": {
     "duration": 1.284106,
     "end_time": "2025-06-11T16:56:29.196227",
     "exception": false,
     "start_time": "2025-06-11T16:56:27.912121",
     "status": "completed"
    },
    "tags": []
   },
   "outputs": [
    {
     "name": "stderr",
     "output_type": "stream",
     "text": [
      "/usr/share/miniconda/envs/test/lib/python3.10/site-packages/tqdm/auto.py:21: TqdmWarning: IProgress not found. Please update jupyter and ipywidgets. See https://ipywidgets.readthedocs.io/en/stable/user_install.html\n",
      "  from .autonotebook import tqdm as notebook_tqdm\n",
      "/usr/share/miniconda/envs/test/lib/python3.10/site-packages/backtesting/_plotting.py:55: UserWarning: Jupyter Notebook detected. Setting Bokeh output to notebook. This may not work in Jupyter clients without JavaScript support, such as old IDEs. Reset with `backtesting.set_bokeh_output(notebook=False)`.\n",
      "  warnings.warn('Jupyter Notebook detected. '\n"
     ]
    },
    {
     "data": {
      "text/html": [
       "    <style>\n",
       "        .bk-notebook-logo {\n",
       "            display: block;\n",
       "            width: 20px;\n",
       "            height: 20px;\n",
       "            background-image: url(data:image/png;base64,iVBORw0KGgoAAAANSUhEUgAAABQAAAAUCAYAAACNiR0NAAAABHNCSVQICAgIfAhkiAAAAAlwSFlzAAALEgAACxIB0t1+/AAAABx0RVh0U29mdHdhcmUAQWRvYmUgRmlyZXdvcmtzIENTNui8sowAAAOkSURBVDiNjZRtaJVlGMd/1/08zzln5zjP1LWcU9N0NkN8m2CYjpgQYQXqSs0I84OLIC0hkEKoPtiH3gmKoiJDU7QpLgoLjLIQCpEsNJ1vqUOdO7ppbuec5+V+rj4ctwzd8IIbbi6u+8f1539dt3A78eXC7QizUF7gyV1fD1Yqg4JWz84yffhm0qkFqBogB9rM8tZdtwVsPUhWhGcFJngGeWrPzHm5oaMmkfEg1usvLFyc8jLRqDOMru7AyC8saQr7GG7f5fvDeH7Ej8CM66nIF+8yngt6HWaKh7k49Soy9nXurCi1o3qUbS3zWfrYeQDTB/Qj6kX6Ybhw4B+bOYoLKCC9H3Nu/leUTZ1JdRWkkn2ldcCamzrcf47KKXdAJllSlxAOkRgyHsGC/zRday5Qld9DyoM4/q/rUoy/CXh3jzOu3bHUVZeU+DEn8FInkPBFlu3+nW3Nw0mk6vCDiWg8CeJaxEwuHS3+z5RgY+YBR6V1Z1nxSOfoaPa4LASWxxdNp+VWTk7+4vzaou8v8PN+xo+KY2xsw6une2frhw05CTYOmQvsEhjhWjn0bmXPjpE1+kplmmkP3suftwTubK9Vq22qKmrBhpY4jvd5afdRA3wGjFAgcnTK2s4hY0/GPNIb0nErGMCRxWOOX64Z8RAC4oCXdklmEvcL8o0BfkNK4lUg9HTl+oPlQxdNo3Mg4Nv175e/1LDGzZen30MEjRUtmXSfiTVu1kK8W4txyV6BMKlbgk3lMwYCiusNy9fVfvvwMxv8Ynl6vxoByANLTWplvuj/nF9m2+PDtt1eiHPBr1oIfhCChQMBw6Aw0UulqTKZdfVvfG7VcfIqLG9bcldL/+pdWTLxLUy8Qq38heUIjh4XlzZxzQm19lLFlr8vdQ97rjZVOLf8nclzckbcD4wxXMidpX30sFd37Fv/GtwwhzhxGVAprjbg0gCAEeIgwCZyTV2Z1REEW8O4py0wsjeloKoMr6iCY6dP92H6Vw/oTyICIthibxjm/DfN9lVz8IqtqKYLUXfoKVMVQVVJOElGjrnnUt9T9wbgp8AyYKaGlqingHZU/uG2NTZSVqwHQTWkx9hxjkpWDaCg6Ckj5qebgBVbT3V3NNXMSiWSDdGV3hrtzla7J+duwPOToIg42ChPQOQjspnSlp1V+Gjdged7+8UN5CRAV7a5EdFNwCjEaBR27b3W890TE7g24NAP/mMDXRWrGoFPQI9ls/MWO2dWFAar/xcOIImbbpA3zgAAAABJRU5ErkJggg==);\n",
       "        }\n",
       "    </style>\n",
       "    <div>\n",
       "        <a href=\"https://bokeh.org\" target=\"_blank\" class=\"bk-notebook-logo\"></a>\n",
       "        <span id=\"bffdae4a-9633-4bfd-9389-7ebe93ac29d7\">Loading BokehJS ...</span>\n",
       "    </div>\n"
      ]
     },
     "metadata": {},
     "output_type": "display_data"
    },
    {
     "data": {
      "application/javascript": [
       "'use strict';\n",
       "(function(root) {\n",
       "  function now() {\n",
       "    return new Date();\n",
       "  }\n",
       "\n",
       "  const force = true;\n",
       "\n",
       "  if (typeof root._bokeh_onload_callbacks === \"undefined\" || force === true) {\n",
       "    root._bokeh_onload_callbacks = [];\n",
       "    root._bokeh_is_loading = undefined;\n",
       "  }\n",
       "\n",
       "const JS_MIME_TYPE = 'application/javascript';\n",
       "  const HTML_MIME_TYPE = 'text/html';\n",
       "  const EXEC_MIME_TYPE = 'application/vnd.bokehjs_exec.v0+json';\n",
       "  const CLASS_NAME = 'output_bokeh rendered_html';\n",
       "\n",
       "  /**\n",
       "   * Render data to the DOM node\n",
       "   */\n",
       "  function render(props, node) {\n",
       "    const script = document.createElement(\"script\");\n",
       "    node.appendChild(script);\n",
       "  }\n",
       "\n",
       "  /**\n",
       "   * Handle when an output is cleared or removed\n",
       "   */\n",
       "  function handleClearOutput(event, handle) {\n",
       "    function drop(id) {\n",
       "      const view = Bokeh.index.get_by_id(id)\n",
       "      if (view != null) {\n",
       "        view.model.document.clear()\n",
       "        Bokeh.index.delete(view)\n",
       "      }\n",
       "    }\n",
       "\n",
       "    const cell = handle.cell;\n",
       "\n",
       "    const id = cell.output_area._bokeh_element_id;\n",
       "    const server_id = cell.output_area._bokeh_server_id;\n",
       "\n",
       "    // Clean up Bokeh references\n",
       "    if (id != null) {\n",
       "      drop(id)\n",
       "    }\n",
       "\n",
       "    if (server_id !== undefined) {\n",
       "      // Clean up Bokeh references\n",
       "      const cmd_clean = \"from bokeh.io.state import curstate; print(curstate().uuid_to_server['\" + server_id + \"'].get_sessions()[0].document.roots[0]._id)\";\n",
       "      cell.notebook.kernel.execute(cmd_clean, {\n",
       "        iopub: {\n",
       "          output: function(msg) {\n",
       "            const id = msg.content.text.trim()\n",
       "            drop(id)\n",
       "          }\n",
       "        }\n",
       "      });\n",
       "      // Destroy server and session\n",
       "      const cmd_destroy = \"import bokeh.io.notebook as ion; ion.destroy_server('\" + server_id + \"')\";\n",
       "      cell.notebook.kernel.execute(cmd_destroy);\n",
       "    }\n",
       "  }\n",
       "\n",
       "  /**\n",
       "   * Handle when a new output is added\n",
       "   */\n",
       "  function handleAddOutput(event, handle) {\n",
       "    const output_area = handle.output_area;\n",
       "    const output = handle.output;\n",
       "\n",
       "    // limit handleAddOutput to display_data with EXEC_MIME_TYPE content only\n",
       "    if ((output.output_type != \"display_data\") || (!Object.prototype.hasOwnProperty.call(output.data, EXEC_MIME_TYPE))) {\n",
       "      return\n",
       "    }\n",
       "\n",
       "    const toinsert = output_area.element.find(\".\" + CLASS_NAME.split(' ')[0]);\n",
       "\n",
       "    if (output.metadata[EXEC_MIME_TYPE][\"id\"] !== undefined) {\n",
       "      toinsert[toinsert.length - 1].firstChild.textContent = output.data[JS_MIME_TYPE];\n",
       "      // store reference to embed id on output_area\n",
       "      output_area._bokeh_element_id = output.metadata[EXEC_MIME_TYPE][\"id\"];\n",
       "    }\n",
       "    if (output.metadata[EXEC_MIME_TYPE][\"server_id\"] !== undefined) {\n",
       "      const bk_div = document.createElement(\"div\");\n",
       "      bk_div.innerHTML = output.data[HTML_MIME_TYPE];\n",
       "      const script_attrs = bk_div.children[0].attributes;\n",
       "      for (let i = 0; i < script_attrs.length; i++) {\n",
       "        toinsert[toinsert.length - 1].firstChild.setAttribute(script_attrs[i].name, script_attrs[i].value);\n",
       "        toinsert[toinsert.length - 1].firstChild.textContent = bk_div.children[0].textContent\n",
       "      }\n",
       "      // store reference to server id on output_area\n",
       "      output_area._bokeh_server_id = output.metadata[EXEC_MIME_TYPE][\"server_id\"];\n",
       "    }\n",
       "  }\n",
       "\n",
       "  function register_renderer(events, OutputArea) {\n",
       "\n",
       "    function append_mime(data, metadata, element) {\n",
       "      // create a DOM node to render to\n",
       "      const toinsert = this.create_output_subarea(\n",
       "        metadata,\n",
       "        CLASS_NAME,\n",
       "        EXEC_MIME_TYPE\n",
       "      );\n",
       "      this.keyboard_manager.register_events(toinsert);\n",
       "      // Render to node\n",
       "      const props = {data: data, metadata: metadata[EXEC_MIME_TYPE]};\n",
       "      render(props, toinsert[toinsert.length - 1]);\n",
       "      element.append(toinsert);\n",
       "      return toinsert\n",
       "    }\n",
       "\n",
       "    /* Handle when an output is cleared or removed */\n",
       "    events.on('clear_output.CodeCell', handleClearOutput);\n",
       "    events.on('delete.Cell', handleClearOutput);\n",
       "\n",
       "    /* Handle when a new output is added */\n",
       "    events.on('output_added.OutputArea', handleAddOutput);\n",
       "\n",
       "    /**\n",
       "     * Register the mime type and append_mime function with output_area\n",
       "     */\n",
       "    OutputArea.prototype.register_mime_type(EXEC_MIME_TYPE, append_mime, {\n",
       "      /* Is output safe? */\n",
       "      safe: true,\n",
       "      /* Index of renderer in `output_area.display_order` */\n",
       "      index: 0\n",
       "    });\n",
       "  }\n",
       "\n",
       "  // register the mime type if in Jupyter Notebook environment and previously unregistered\n",
       "  if (root.Jupyter !== undefined) {\n",
       "    const events = require('base/js/events');\n",
       "    const OutputArea = require('notebook/js/outputarea').OutputArea;\n",
       "\n",
       "    if (OutputArea.prototype.mime_types().indexOf(EXEC_MIME_TYPE) == -1) {\n",
       "      register_renderer(events, OutputArea);\n",
       "    }\n",
       "  }\n",
       "  if (typeof (root._bokeh_timeout) === \"undefined\" || force === true) {\n",
       "    root._bokeh_timeout = Date.now() + 5000;\n",
       "    root._bokeh_failed_load = false;\n",
       "  }\n",
       "\n",
       "  const NB_LOAD_WARNING = {'data': {'text/html':\n",
       "     \"<div style='background-color: #fdd'>\\n\"+\n",
       "     \"<p>\\n\"+\n",
       "     \"BokehJS does not appear to have successfully loaded. If loading BokehJS from CDN, this \\n\"+\n",
       "     \"may be due to a slow or bad network connection. Possible fixes:\\n\"+\n",
       "     \"</p>\\n\"+\n",
       "     \"<ul>\\n\"+\n",
       "     \"<li>re-rerun `output_notebook()` to attempt to load from CDN again, or</li>\\n\"+\n",
       "     \"<li>use INLINE resources instead, as so:</li>\\n\"+\n",
       "     \"</ul>\\n\"+\n",
       "     \"<code>\\n\"+\n",
       "     \"from bokeh.resources import INLINE\\n\"+\n",
       "     \"output_notebook(resources=INLINE)\\n\"+\n",
       "     \"</code>\\n\"+\n",
       "     \"</div>\"}};\n",
       "\n",
       "  function display_loaded(error = null) {\n",
       "    const el = document.getElementById(\"bffdae4a-9633-4bfd-9389-7ebe93ac29d7\");\n",
       "    if (el != null) {\n",
       "      const html = (() => {\n",
       "        if (typeof root.Bokeh === \"undefined\") {\n",
       "          if (error == null) {\n",
       "            return \"BokehJS is loading ...\";\n",
       "          } else {\n",
       "            return \"BokehJS failed to load.\";\n",
       "          }\n",
       "        } else {\n",
       "          const prefix = `BokehJS ${root.Bokeh.version}`;\n",
       "          if (error == null) {\n",
       "            return `${prefix} successfully loaded.`;\n",
       "          } else {\n",
       "            return `${prefix} <b>encountered errors</b> while loading and may not function as expected.`;\n",
       "          }\n",
       "        }\n",
       "      })();\n",
       "      el.innerHTML = html;\n",
       "\n",
       "      if (error != null) {\n",
       "        const wrapper = document.createElement(\"div\");\n",
       "        wrapper.style.overflow = \"auto\";\n",
       "        wrapper.style.height = \"5em\";\n",
       "        wrapper.style.resize = \"vertical\";\n",
       "        const content = document.createElement(\"div\");\n",
       "        content.style.fontFamily = \"monospace\";\n",
       "        content.style.whiteSpace = \"pre-wrap\";\n",
       "        content.style.backgroundColor = \"rgb(255, 221, 221)\";\n",
       "        content.textContent = error.stack ?? error.toString();\n",
       "        wrapper.append(content);\n",
       "        el.append(wrapper);\n",
       "      }\n",
       "    } else if (Date.now() < root._bokeh_timeout) {\n",
       "      setTimeout(() => display_loaded(error), 100);\n",
       "    }\n",
       "  }\n",
       "\n",
       "  function run_callbacks() {\n",
       "    try {\n",
       "      root._bokeh_onload_callbacks.forEach(function(callback) {\n",
       "        if (callback != null)\n",
       "          callback();\n",
       "      });\n",
       "    } finally {\n",
       "      delete root._bokeh_onload_callbacks\n",
       "    }\n",
       "    console.debug(\"Bokeh: all callbacks have finished\");\n",
       "  }\n",
       "\n",
       "  function load_libs(css_urls, js_urls, callback) {\n",
       "    if (css_urls == null) css_urls = [];\n",
       "    if (js_urls == null) js_urls = [];\n",
       "\n",
       "    root._bokeh_onload_callbacks.push(callback);\n",
       "    if (root._bokeh_is_loading > 0) {\n",
       "      console.debug(\"Bokeh: BokehJS is being loaded, scheduling callback at\", now());\n",
       "      return null;\n",
       "    }\n",
       "    if (js_urls == null || js_urls.length === 0) {\n",
       "      run_callbacks();\n",
       "      return null;\n",
       "    }\n",
       "    console.debug(\"Bokeh: BokehJS not loaded, scheduling load and callback at\", now());\n",
       "    root._bokeh_is_loading = css_urls.length + js_urls.length;\n",
       "\n",
       "    function on_load() {\n",
       "      root._bokeh_is_loading--;\n",
       "      if (root._bokeh_is_loading === 0) {\n",
       "        console.debug(\"Bokeh: all BokehJS libraries/stylesheets loaded\");\n",
       "        run_callbacks()\n",
       "      }\n",
       "    }\n",
       "\n",
       "    function on_error(url) {\n",
       "      console.error(\"failed to load \" + url);\n",
       "    }\n",
       "\n",
       "    for (let i = 0; i < css_urls.length; i++) {\n",
       "      const url = css_urls[i];\n",
       "      const element = document.createElement(\"link\");\n",
       "      element.onload = on_load;\n",
       "      element.onerror = on_error.bind(null, url);\n",
       "      element.rel = \"stylesheet\";\n",
       "      element.type = \"text/css\";\n",
       "      element.href = url;\n",
       "      console.debug(\"Bokeh: injecting link tag for BokehJS stylesheet: \", url);\n",
       "      document.body.appendChild(element);\n",
       "    }\n",
       "\n",
       "    for (let i = 0; i < js_urls.length; i++) {\n",
       "      const url = js_urls[i];\n",
       "      const element = document.createElement('script');\n",
       "      element.onload = on_load;\n",
       "      element.onerror = on_error.bind(null, url);\n",
       "      element.async = false;\n",
       "      element.src = url;\n",
       "      console.debug(\"Bokeh: injecting script tag for BokehJS library: \", url);\n",
       "      document.head.appendChild(element);\n",
       "    }\n",
       "  };\n",
       "\n",
       "  function inject_raw_css(css) {\n",
       "    const element = document.createElement(\"style\");\n",
       "    element.appendChild(document.createTextNode(css));\n",
       "    document.body.appendChild(element);\n",
       "  }\n",
       "\n",
       "  const js_urls = [\"https://cdn.bokeh.org/bokeh/release/bokeh-3.7.3.min.js\", \"https://cdn.bokeh.org/bokeh/release/bokeh-gl-3.7.3.min.js\", \"https://cdn.bokeh.org/bokeh/release/bokeh-widgets-3.7.3.min.js\", \"https://cdn.bokeh.org/bokeh/release/bokeh-tables-3.7.3.min.js\", \"https://cdn.bokeh.org/bokeh/release/bokeh-mathjax-3.7.3.min.js\"];\n",
       "  const css_urls = [];\n",
       "\n",
       "  const inline_js = [    function(Bokeh) {\n",
       "      Bokeh.set_log_level(\"info\");\n",
       "    },\n",
       "function(Bokeh) {\n",
       "    }\n",
       "  ];\n",
       "\n",
       "  function run_inline_js() {\n",
       "    if (root.Bokeh !== undefined || force === true) {\n",
       "      try {\n",
       "            for (let i = 0; i < inline_js.length; i++) {\n",
       "      inline_js[i].call(root, root.Bokeh);\n",
       "    }\n",
       "\n",
       "      } catch (error) {display_loaded(error);throw error;\n",
       "      }if (force === true) {\n",
       "        display_loaded();\n",
       "      }} else if (Date.now() < root._bokeh_timeout) {\n",
       "      setTimeout(run_inline_js, 100);\n",
       "    } else if (!root._bokeh_failed_load) {\n",
       "      console.log(\"Bokeh: BokehJS failed to load within specified timeout.\");\n",
       "      root._bokeh_failed_load = true;\n",
       "    } else if (force !== true) {\n",
       "      const cell = $(document.getElementById(\"bffdae4a-9633-4bfd-9389-7ebe93ac29d7\")).parents('.cell').data().cell;\n",
       "      cell.output_area.append_execute_result(NB_LOAD_WARNING)\n",
       "    }\n",
       "  }\n",
       "\n",
       "  if (root._bokeh_is_loading === 0) {\n",
       "    console.debug(\"Bokeh: BokehJS loaded, going straight to plotting\");\n",
       "    run_inline_js();\n",
       "  } else {\n",
       "    load_libs(css_urls, js_urls, function() {\n",
       "      console.debug(\"Bokeh: BokehJS plotting callback run at\", now());\n",
       "      run_inline_js();\n",
       "    });\n",
       "  }\n",
       "}(window));"
      ],
      "application/vnd.bokehjs_load.v0+json": "'use strict';\n(function(root) {\n  function now() {\n    return new Date();\n  }\n\n  const force = true;\n\n  if (typeof root._bokeh_onload_callbacks === \"undefined\" || force === true) {\n    root._bokeh_onload_callbacks = [];\n    root._bokeh_is_loading = undefined;\n  }\n\n\n  if (typeof (root._bokeh_timeout) === \"undefined\" || force === true) {\n    root._bokeh_timeout = Date.now() + 5000;\n    root._bokeh_failed_load = false;\n  }\n\n  const NB_LOAD_WARNING = {'data': {'text/html':\n     \"<div style='background-color: #fdd'>\\n\"+\n     \"<p>\\n\"+\n     \"BokehJS does not appear to have successfully loaded. If loading BokehJS from CDN, this \\n\"+\n     \"may be due to a slow or bad network connection. Possible fixes:\\n\"+\n     \"</p>\\n\"+\n     \"<ul>\\n\"+\n     \"<li>re-rerun `output_notebook()` to attempt to load from CDN again, or</li>\\n\"+\n     \"<li>use INLINE resources instead, as so:</li>\\n\"+\n     \"</ul>\\n\"+\n     \"<code>\\n\"+\n     \"from bokeh.resources import INLINE\\n\"+\n     \"output_notebook(resources=INLINE)\\n\"+\n     \"</code>\\n\"+\n     \"</div>\"}};\n\n  function display_loaded(error = null) {\n    const el = document.getElementById(\"bffdae4a-9633-4bfd-9389-7ebe93ac29d7\");\n    if (el != null) {\n      const html = (() => {\n        if (typeof root.Bokeh === \"undefined\") {\n          if (error == null) {\n            return \"BokehJS is loading ...\";\n          } else {\n            return \"BokehJS failed to load.\";\n          }\n        } else {\n          const prefix = `BokehJS ${root.Bokeh.version}`;\n          if (error == null) {\n            return `${prefix} successfully loaded.`;\n          } else {\n            return `${prefix} <b>encountered errors</b> while loading and may not function as expected.`;\n          }\n        }\n      })();\n      el.innerHTML = html;\n\n      if (error != null) {\n        const wrapper = document.createElement(\"div\");\n        wrapper.style.overflow = \"auto\";\n        wrapper.style.height = \"5em\";\n        wrapper.style.resize = \"vertical\";\n        const content = document.createElement(\"div\");\n        content.style.fontFamily = \"monospace\";\n        content.style.whiteSpace = \"pre-wrap\";\n        content.style.backgroundColor = \"rgb(255, 221, 221)\";\n        content.textContent = error.stack ?? error.toString();\n        wrapper.append(content);\n        el.append(wrapper);\n      }\n    } else if (Date.now() < root._bokeh_timeout) {\n      setTimeout(() => display_loaded(error), 100);\n    }\n  }\n\n  function run_callbacks() {\n    try {\n      root._bokeh_onload_callbacks.forEach(function(callback) {\n        if (callback != null)\n          callback();\n      });\n    } finally {\n      delete root._bokeh_onload_callbacks\n    }\n    console.debug(\"Bokeh: all callbacks have finished\");\n  }\n\n  function load_libs(css_urls, js_urls, callback) {\n    if (css_urls == null) css_urls = [];\n    if (js_urls == null) js_urls = [];\n\n    root._bokeh_onload_callbacks.push(callback);\n    if (root._bokeh_is_loading > 0) {\n      console.debug(\"Bokeh: BokehJS is being loaded, scheduling callback at\", now());\n      return null;\n    }\n    if (js_urls == null || js_urls.length === 0) {\n      run_callbacks();\n      return null;\n    }\n    console.debug(\"Bokeh: BokehJS not loaded, scheduling load and callback at\", now());\n    root._bokeh_is_loading = css_urls.length + js_urls.length;\n\n    function on_load() {\n      root._bokeh_is_loading--;\n      if (root._bokeh_is_loading === 0) {\n        console.debug(\"Bokeh: all BokehJS libraries/stylesheets loaded\");\n        run_callbacks()\n      }\n    }\n\n    function on_error(url) {\n      console.error(\"failed to load \" + url);\n    }\n\n    for (let i = 0; i < css_urls.length; i++) {\n      const url = css_urls[i];\n      const element = document.createElement(\"link\");\n      element.onload = on_load;\n      element.onerror = on_error.bind(null, url);\n      element.rel = \"stylesheet\";\n      element.type = \"text/css\";\n      element.href = url;\n      console.debug(\"Bokeh: injecting link tag for BokehJS stylesheet: \", url);\n      document.body.appendChild(element);\n    }\n\n    for (let i = 0; i < js_urls.length; i++) {\n      const url = js_urls[i];\n      const element = document.createElement('script');\n      element.onload = on_load;\n      element.onerror = on_error.bind(null, url);\n      element.async = false;\n      element.src = url;\n      console.debug(\"Bokeh: injecting script tag for BokehJS library: \", url);\n      document.head.appendChild(element);\n    }\n  };\n\n  function inject_raw_css(css) {\n    const element = document.createElement(\"style\");\n    element.appendChild(document.createTextNode(css));\n    document.body.appendChild(element);\n  }\n\n  const js_urls = [\"https://cdn.bokeh.org/bokeh/release/bokeh-3.7.3.min.js\", \"https://cdn.bokeh.org/bokeh/release/bokeh-gl-3.7.3.min.js\", \"https://cdn.bokeh.org/bokeh/release/bokeh-widgets-3.7.3.min.js\", \"https://cdn.bokeh.org/bokeh/release/bokeh-tables-3.7.3.min.js\", \"https://cdn.bokeh.org/bokeh/release/bokeh-mathjax-3.7.3.min.js\"];\n  const css_urls = [];\n\n  const inline_js = [    function(Bokeh) {\n      Bokeh.set_log_level(\"info\");\n    },\nfunction(Bokeh) {\n    }\n  ];\n\n  function run_inline_js() {\n    if (root.Bokeh !== undefined || force === true) {\n      try {\n            for (let i = 0; i < inline_js.length; i++) {\n      inline_js[i].call(root, root.Bokeh);\n    }\n\n      } catch (error) {display_loaded(error);throw error;\n      }if (force === true) {\n        display_loaded();\n      }} else if (Date.now() < root._bokeh_timeout) {\n      setTimeout(run_inline_js, 100);\n    } else if (!root._bokeh_failed_load) {\n      console.log(\"Bokeh: BokehJS failed to load within specified timeout.\");\n      root._bokeh_failed_load = true;\n    } else if (force !== true) {\n      const cell = $(document.getElementById(\"bffdae4a-9633-4bfd-9389-7ebe93ac29d7\")).parents('.cell').data().cell;\n      cell.output_area.append_execute_result(NB_LOAD_WARNING)\n    }\n  }\n\n  if (root._bokeh_is_loading === 0) {\n    console.debug(\"Bokeh: BokehJS loaded, going straight to plotting\");\n    run_inline_js();\n  } else {\n    load_libs(css_urls, js_urls, function() {\n      console.debug(\"Bokeh: BokehJS plotting callback run at\", now());\n      run_inline_js();\n    });\n  }\n}(window));"
     },
     "metadata": {},
     "output_type": "display_data"
    }
   ],
   "source": [
    "import pandas as pd\n",
    "import numpy as np\n",
    "#import plotly.graph_objects as go\n",
    "import yfinance as yf\n",
    "import talib as ta\n",
    "#import matplotlib.pyplot as plt\n",
    "#import math\n",
    "from datetime import date, timedelta\n",
    "from scipy import stats\n",
    "from scipy.signal import argrelextrema\n",
    "#from bokeh.plotting import figure, show, column\n",
    "from sklearn.linear_model import LinearRegression\n",
    "import os\n",
    "from backtesting import Backtest, Strategy"
   ]
  },
  {
   "cell_type": "code",
   "execution_count": 2,
   "id": "99fab280-84ca-4c2f-9784-f79dadcb26ed",
   "metadata": {
    "execution": {
     "iopub.execute_input": "2025-06-11T16:56:29.205931Z",
     "iopub.status.busy": "2025-06-11T16:56:29.205304Z",
     "iopub.status.idle": "2025-06-11T16:56:29.304233Z",
     "shell.execute_reply": "2025-06-11T16:56:29.303663Z"
    },
    "papermill": {
     "duration": 0.104869,
     "end_time": "2025-06-11T16:56:29.305405",
     "exception": false,
     "start_time": "2025-06-11T16:56:29.200536",
     "status": "completed"
    },
    "tags": []
   },
   "outputs": [],
   "source": [
    "df_h=pd.read_csv('data/dataxh.txt',sep='\\t')\n",
    "\n",
    "tickers = [\n",
    "    'SPY',\n",
    "    'META',\n",
    "    'AAPL',\n",
    "    'AMZN',\n",
    "    'NFLX',\n",
    "    'MRNA',\n",
    "    'TSLA',\n",
    "    'TNA',\n",
    "    'GLD',\n",
    "    'SLV',\n",
    "    'USO',\n",
    "    'BAC',\n",
    "    'CVX',\n",
    "    'XOM',\n",
    "    'QQQ',\n",
    "    'MSFT',\n",
    "    'NVDA',\n",
    "    'WMT',\n",
    "    'BA',\n",
    "    'DIS',\n",
    "    'CAT',\n",
    "    'IBM',\n",
    "    'WFC',\n",
    "    'PLTR',\n",
    "    'AMD',\n",
    "    'AVGO',\n",
    "    'HOOD',\n",
    "    'CRWV',\n",
    "    'MSTR',\n",
    "    'UNH',\n",
    "    'GOOG',\n",
    "    'APP',\n",
    "    'UBER'\n",
    "]\n",
    "\n",
    "#    'SPY',\n",
    "#    'META',\n",
    "#    'AAPL',\n",
    "#    'AMZN',\n",
    "#    'NFLX',\n",
    "#    'MRNA',\n",
    "#    'TSLA',\n",
    "#    'TNA',\n",
    "#    'GLD',\n",
    "#    'SLV',\n",
    "#    'USO',\n",
    "#    'BAC',\n",
    "#    'CVX',\n",
    "#    'XOM',\n",
    "#    'QQQ'"
   ]
  },
  {
   "cell_type": "code",
   "execution_count": 3,
   "id": "36d035ad-94d3-427b-9d99-5efff5449692",
   "metadata": {
    "execution": {
     "iopub.execute_input": "2025-06-11T16:56:29.314723Z",
     "iopub.status.busy": "2025-06-11T16:56:29.314225Z",
     "iopub.status.idle": "2025-06-11T16:56:29.684083Z",
     "shell.execute_reply": "2025-06-11T16:56:29.683499Z"
    },
    "papermill": {
     "duration": 0.375566,
     "end_time": "2025-06-11T16:56:29.685203",
     "exception": false,
     "start_time": "2025-06-11T16:56:29.309637",
     "status": "completed"
    },
    "tags": []
   },
   "outputs": [],
   "source": [
    "df_h['datetime'] = pd.to_datetime(df_h['datetime'])\n",
    "df = pd.DataFrame()\n",
    "for ticker in tickers:\n",
    "    company = df_h.query(\"companyName==@ticker\").copy()\n",
    "    company.sort_values(by=['datetime'])\n",
    "    #company = yf.download(ticker, start = ini2_str, end = today_str, interval='60m')\n",
    "    #company.columns = [company.columns[0][0], company.columns[1][0], company.columns[2][0], company.columns[3][0], company.columns[4][0]]\n",
    "    #company.rename(columns={'Datetime':'Gmt time'}, inplace = True)\n",
    "    #company['datetime'] = pd.to_datetime (company.index)\n",
    "    #company['companyName'] = ticker\n",
    "    company['SMA20'] = company['Close'].rolling(20).mean()\n",
    "    company.dropna(inplace=False)\n",
    "    company['SMA40'] = company['Close'].rolling(40).mean()\n",
    "    company.dropna(inplace=False)\n",
    "    company['SMA100'] = company['Close'].rolling(100).mean()\n",
    "    company.dropna(inplace=False)\n",
    "    company['SMA200'] = company['Close'].rolling(200).mean()\n",
    "    company.dropna(inplace=False)\n",
    "    df = pd.concat([df, company],ignore_index=True)"
   ]
  },
  {
   "cell_type": "markdown",
   "id": "ab939271-1e70-4ea6-bc39-df024b86f50e",
   "metadata": {
    "papermill": {
     "duration": 0.004049,
     "end_time": "2025-06-11T16:56:29.693597",
     "exception": false,
     "start_time": "2025-06-11T16:56:29.689548",
     "status": "completed"
    },
    "tags": []
   },
   "source": [
    "### Detect Pivots/Fractals"
   ]
  },
  {
   "cell_type": "code",
   "execution_count": 4,
   "id": "755f2f1c-3bb8-47b9-bf49-b89e7437100d",
   "metadata": {
    "execution": {
     "iopub.execute_input": "2025-06-11T16:56:29.702870Z",
     "iopub.status.busy": "2025-06-11T16:56:29.702237Z",
     "iopub.status.idle": "2025-06-11T16:56:29.739649Z",
     "shell.execute_reply": "2025-06-11T16:56:29.738992Z"
    },
    "papermill": {
     "duration": 0.043332,
     "end_time": "2025-06-11T16:56:29.740826",
     "exception": false,
     "start_time": "2025-06-11T16:56:29.697494",
     "status": "completed"
    },
    "tags": []
   },
   "outputs": [],
   "source": [
    "ord=15\n",
    "#for ticker in tickers:\n",
    "#print(\"====\", ticker)\n",
    "#dfpl = df[(df.companyName==ticker)] #df.query(\"companyName=='AAPL'\")\n",
    "max_idx = argrelextrema(df['Close'].values, np.greater, order=ord)[0]\n",
    "min_idx = argrelextrema(df['Close'].values, np.less, order=ord)[0]\n",
    "#print(max_idx)\n",
    "#print(min_idx)\n",
    "#df['pivotHigh'] = np.nan\n",
    "#df['pivotLow'] = np.nan\n",
    "#df['isPivot'] = np.nan\n",
    "#df['isPivot'] = np.nan\n",
    "# Aplicar el cálculo solo a los índices en la lista\n",
    "df.loc[max_idx, 'pivotHigh'] = df['High']+1e-3\n",
    "df.loc[min_idx, 'pivotLow'] = df['Low']-(1e-3)\n",
    "df.loc[max_idx, 'isPivot'] = 1\n",
    "df.loc[min_idx, 'isPivot'] = 2"
   ]
  },
  {
   "cell_type": "markdown",
   "id": "f44f04bb-ed9f-4732-9d38-7f8cb2869c36",
   "metadata": {
    "papermill": {
     "duration": 0.003994,
     "end_time": "2025-06-11T16:56:29.749036",
     "exception": false,
     "start_time": "2025-06-11T16:56:29.745042",
     "status": "completed"
    },
    "tags": []
   },
   "source": [
    "##### Canales alcista, cuando PM40 esta por encima o cerca del precio"
   ]
  },
  {
   "cell_type": "code",
   "execution_count": 5,
   "id": "b7d94196-30b6-4e27-b8a2-97263f24b34f",
   "metadata": {
    "execution": {
     "iopub.execute_input": "2025-06-11T16:56:29.758246Z",
     "iopub.status.busy": "2025-06-11T16:56:29.757701Z",
     "iopub.status.idle": "2025-06-11T16:56:31.416809Z",
     "shell.execute_reply": "2025-06-11T16:56:31.416108Z"
    },
    "papermill": {
     "duration": 1.665241,
     "end_time": "2025-06-11T16:56:31.418207",
     "exception": false,
     "start_time": "2025-06-11T16:56:29.752966",
     "status": "completed"
    },
    "tags": []
   },
   "outputs": [],
   "source": [
    "def rcb01(df):\n",
    "    if ((df['isPivot']==1) & ((df['SMA40']>df['Close']) | (df['SMA40']>df['Open']) | (df['SMA20']>df['SMA40']))):\n",
    "        return 1\n",
    "    else:\n",
    "        return 0\n",
    "df['rcb01_01'] = df.apply(rcb01, axis=1)"
   ]
  },
  {
   "cell_type": "markdown",
   "id": "1301febb-db5f-4a68-b162-9ae2e19ec678",
   "metadata": {
    "papermill": {
     "duration": 0.00399,
     "end_time": "2025-06-11T16:56:31.426558",
     "exception": false,
     "start_time": "2025-06-11T16:56:31.422568",
     "status": "completed"
    },
    "tags": []
   },
   "source": [
    "#### Detect Price Channel"
   ]
  },
  {
   "cell_type": "code",
   "execution_count": 6,
   "id": "1873740d-7344-4670-8cb0-9dea7df49305",
   "metadata": {
    "execution": {
     "iopub.execute_input": "2025-06-11T16:56:31.435936Z",
     "iopub.status.busy": "2025-06-11T16:56:31.435415Z",
     "iopub.status.idle": "2025-06-11T16:56:31.440027Z",
     "shell.execute_reply": "2025-06-11T16:56:31.439449Z"
    },
    "papermill": {
     "duration": 0.010404,
     "end_time": "2025-06-11T16:56:31.440987",
     "exception": false,
     "start_time": "2025-06-11T16:56:31.430583",
     "status": "completed"
    },
    "tags": []
   },
   "outputs": [],
   "source": [
    "def collect_channel(candle, backevalTrend, trendL):\n",
    "    #localdf = df[candle-backcandles-window:candle-window]\n",
    "    localdf = dfpl.loc[candle-backevalTrend:candle] #tomar en cuenta el backcandles\n",
    "    #localdf['isPivot'] = localdf.apply(lambda x: isPivot(x.name,window), axis=1)\n",
    "    \n",
    "    #highs = localdf.High.values\n",
    "    #idxhighs = localdf.High.index\n",
    "    #lows = localdf.Low.values\n",
    "    #idxlows = localdf.Low.index\n",
    "\n",
    "    #highs = localdf.loc[localdf.index.isin(trendH)].High.values\n",
    "    #idxhighs = localdf.loc[localdf.index.isin(trendH)].High.index\n",
    "    lows = localdf.loc[localdf.index.isin(trendL)].Low.values\n",
    "    idxlows = localdf.loc[localdf.index.isin(trendL)].Low.index\n",
    "\n",
    "    #highs = localdf.loc[localdf.index.isin([candle]) | (localdf['isPivot'] == 1)].High.values\n",
    "    #idxhighs = localdf.loc[localdf.index.isin([candle]) | (localdf['isPivot'] == 1)].High.index\n",
    "    #lows = localdf.loc[localdf.index.isin([candle]) | (localdf['isPivot'] == 2)].Low.values\n",
    "    #idxlows = localdf.loc[localdf.index.isin([candle]) | (localdf['isPivot'] == 2)].Low.index\n",
    "\n",
    "    #lows = localdf.loc[localdf.index.isin(trendL)].Low.values\n",
    "    #idxlows = localdf.loc[localdf.index.isin(trendL)].Low.index\n",
    "\n",
    "    #print(\"highs:\",highs)\n",
    "    #print(\"idxhighs:\",idxhighs)\n",
    "    #print(\"lows:\",lows)\n",
    "    #print(\"idxlows:\",idxlows)\n",
    "    #print (\"tamanio:\",localdf.shape[0])\n",
    "    \n",
    "    #if len(lows)>=2 and len(highs)>=2:\n",
    "    if len(lows)>=2:\n",
    "        sl_lows, interc_lows, r_value_l, _, _ = stats.linregress(idxlows,lows)\n",
    "        #sl_highs, interc_highs, r_value_h, _, _ = stats.linregress(idxhighs,highs)    \n",
    "        #return(sl_lows, interc_lows, sl_highs, interc_highs, r_value_l**2, r_value_h**2)\n",
    "        return(sl_lows, interc_lows, r_value_l**2)\n",
    "    else:\n",
    "        return(0,0,0)\n",
    "    "
   ]
  },
  {
   "cell_type": "code",
   "execution_count": 7,
   "id": "0ea43d11-bb56-4a09-8d54-0bfd0dfc987a",
   "metadata": {
    "execution": {
     "iopub.execute_input": "2025-06-11T16:56:31.450620Z",
     "iopub.status.busy": "2025-06-11T16:56:31.450032Z",
     "iopub.status.idle": "2025-06-11T16:56:31.456386Z",
     "shell.execute_reply": "2025-06-11T16:56:31.455917Z"
    },
    "papermill": {
     "duration": 0.012129,
     "end_time": "2025-06-11T16:56:31.457207",
     "exception": false,
     "start_time": "2025-06-11T16:56:31.445078",
     "status": "completed"
    },
    "tags": []
   },
   "outputs": [],
   "source": [
    "def backcandle(candle):\n",
    "    \n",
    "    trendH = []\n",
    "    backeval = 0\n",
    "    val = 0\n",
    "\n",
    "    #print(\"candle:\", candle)\n",
    "    dfpl['PM20_PM40'] = dfpl['SMA20']-dfpl['SMA40']\n",
    "    idinicial = dfpl.index[0]\n",
    "    velas = candle - idinicial\n",
    "\n",
    "    #print(\"idinicial:\", idinicial)\n",
    "    if (dfpl.loc[candle,\"PM20_PM40\"]>0):\n",
    "        idx_negativo = dfpl.loc[:candle, 'PM20_PM40'][::-1].lt(0).idxmax()\n",
    "        if (idx_negativo==candle):\n",
    "            backeval = candle - velas\n",
    "            \n",
    "        else:\n",
    "            backeval = idx_negativo - 4\n",
    "        \n",
    "    val = candle - backeval\n",
    "    \n",
    "    #print(\"backeval1:\",backeval)\n",
    "    \n",
    "    if val>velas:\n",
    "        backeval=candle-velas\n",
    "\n",
    "    #print(\"backeval2:\",backeval)\n",
    "    if ((dfpl.loc[backeval,\"PM20_PM40\"]>0) & (val<velas)):\n",
    "        idx_negativo = dfpl.loc[:backeval, 'PM20_PM40'][::-1].lt(0).idxmax()\n",
    "        backeval = idx_negativo - 4\n",
    "    #print(\"backeval3:\",backeval)\n",
    "\n",
    "    val = candle - backeval\n",
    "    if val>velas:\n",
    "        backeval=candle-velas\n",
    "        \n",
    "    #print(\"backeval4:\",backeval)\n",
    "    #ini = candle - backeval\n",
    "    ini = backeval\n",
    "    trendprev=dfpl.loc[ini:candle]\n",
    "    trend = trendprev.reset_index(drop=False)\n",
    "\n",
    "    idxlows = trend.index.to_numpy().reshape(-1,1) # Convertir X a una matriz 2D\n",
    "    lows = trend.Low.values\n",
    "    modelo1 = LinearRegression()\n",
    "    modelo1.fit(idxlows, lows)\n",
    "    # Obtener la predicción de la línea de regresión\n",
    "    Y_pred = modelo1.predict(idxlows)\n",
    "    # Calcular la distancia solo de los puntos que están POR ENCIMA de la línea\n",
    "    trend['Distancia'] = Y_pred - trend[\"Low\"]  # Diferencia entre el valor real y la predicción\n",
    "    # Filtrar los puntos que están por debajo (donde Y > Y_pred, es decir, Distancia > 0)\n",
    "    df_encima = trend[trend['Distancia'] > 0]\n",
    "    puntos_mas_lejanos = df_encima.nlargest(2, 'Distancia')   #2 puntos mas lejanos\n",
    "    trendL = puntos_mas_lejanos[\"index\"].tolist()\n",
    "    trendL.append(candle)   \n",
    "    \n",
    "    return trendL, backeval"
   ]
  },
  {
   "cell_type": "markdown",
   "id": "7746c605-eeaf-4691-b332-3c5afe45243a",
   "metadata": {
    "papermill": {
     "duration": 0.003965,
     "end_time": "2025-06-11T16:56:31.465356",
     "exception": false,
     "start_time": "2025-06-11T16:56:31.461391",
     "status": "completed"
    },
    "tags": []
   },
   "source": [
    "### Detect Break Out"
   ]
  },
  {
   "cell_type": "code",
   "execution_count": 8,
   "id": "9eb0e6d2-7707-4624-bee3-0465d77901ea",
   "metadata": {
    "execution": {
     "iopub.execute_input": "2025-06-11T16:56:31.474337Z",
     "iopub.status.busy": "2025-06-11T16:56:31.474085Z",
     "iopub.status.idle": "2025-06-11T16:56:31.478017Z",
     "shell.execute_reply": "2025-06-11T16:56:31.477440Z"
    },
    "papermill": {
     "duration": 0.009555,
     "end_time": "2025-06-11T16:56:31.478965",
     "exception": false,
     "start_time": "2025-06-11T16:56:31.469410",
     "status": "completed"
    },
    "tags": []
   },
   "outputs": [],
   "source": [
    "def trendChannel(row,candle, backeval, window, sl_highs, interc_lows):\n",
    "\n",
    "    if (candle-backeval-window)<0:\n",
    "        return np.nan\n",
    "\n",
    "    #print(\"=== DATOS ===\")\n",
    "    #print(\"candle:\",candle)\n",
    "    #print(\"backcandles:\",backcandles)\n",
    "    #print(\"window:\",window)\n",
    "    #trendprevlow = (sl_lows*row['id'].shift(1).fillna(0) + interc_lows)\n",
    "    #trendprevhigh = (sl_highs*row['id'].shift(1).fillna(0) + interc_highs)\n",
    "    ini=candle-backeval\n",
    "    fin=candle+window\n",
    "    #x = np.array(range(candle-backcandles-window, candle+window))\n",
    "    trendcurrlow = np.where(np.logical_or((row.index > fin),  (row.index <  ini)), np.nan, (sl_lows*row.index + interc_lows))\n",
    "    #trendcurrhigh = (sl_highs*row['id'] + interc_highs)\n",
    "    \n",
    "    #print(\"candle:\",candle,\",backeval\", backeval, \", ini:\", ini, \", fin:\", fin,   \", rowMin:\", row.index[0],\", rowMax:\", row.index[-1])\n",
    "    #trendcurrhigh = np.where(np.logical_or((row.index > fin),  (row.index <  ini)), np.nan, (sl_highs*row.index + interc_highs))\n",
    "    return trendcurrlow"
   ]
  },
  {
   "cell_type": "code",
   "execution_count": 9,
   "id": "8e480264-0fde-4a97-af4e-a86b58a4b611",
   "metadata": {
    "execution": {
     "iopub.execute_input": "2025-06-11T16:56:31.487952Z",
     "iopub.status.busy": "2025-06-11T16:56:31.487765Z",
     "iopub.status.idle": "2025-06-11T16:56:31.492549Z",
     "shell.execute_reply": "2025-06-11T16:56:31.491979Z"
    },
    "papermill": {
     "duration": 0.010432,
     "end_time": "2025-06-11T16:56:31.493505",
     "exception": false,
     "start_time": "2025-06-11T16:56:31.483073",
     "status": "completed"
    },
    "tags": []
   },
   "outputs": [],
   "source": [
    "def isBreakOut(candleEval,backcandles, window, start, candle):\n",
    "    if (candleEval-backcandles-window)<0:\n",
    "        return 0\n",
    "\n",
    "    if candleEval==start:\n",
    "        prev_idx = candleEval\n",
    "    else:\n",
    "        prev_idx = candleEval-1\n",
    "        \n",
    "    prev_high = dfpl.loc[prev_idx].High\n",
    "    prev_low = dfpl.loc[prev_idx].Low\n",
    "    prev_close = dfpl.loc[prev_idx].Close\n",
    "    \n",
    "    curr_idx = candleEval\n",
    "    curr_high = dfpl.loc[candleEval].High\n",
    "    curr_low = dfpl.loc[candleEval].Low\n",
    "    curr_close = dfpl.loc[candleEval].Close\n",
    "    curr_open = dfpl.loc[candleEval].Open\n",
    "\n",
    "    trend_prevlow=dfpl.loc[prev_idx].trendcurrlow\n",
    "    #trend_prevhigh=dfpl.loc[prev_idx].trendcurrhigh\n",
    "\n",
    "    trend_currlow=dfpl.loc[candleEval].trendcurrlow\n",
    "    #trend_currhigh=dfpl.loc[candleEval].trendcurrhigh\n",
    "\n",
    "    #codigo para tendencia LOW, nos importa breaks en tendencia HIGH\n",
    "    if ( prev_high > trend_prevlow and\n",
    "        prev_close < trend_prevlow and\n",
    "        curr_open < trend_currlow and\n",
    "        curr_close < trend_currlow and \n",
    "        candleEval>candle): #and r_sq_l > 0.9\n",
    "        return 1\n",
    "    \n",
    "   # #if ( prev_low < trend_prevhigh and\n",
    "   #     prev_close > trend_prevhigh and\n",
    "   #     curr_open > trend_currhigh and\n",
    "   #     curr_close > trend_currhigh and\n",
    "   #     candleEval>candle): #and r_sq_h > 0.9\n",
    "   #     return 2\n",
    "\n",
    "   # elif (curr_open > trend_currhigh and\n",
    "   #     curr_close > trend_currhigh and candleEval>candle):\n",
    "   #     return 3\n",
    "    \n",
    "    else:\n",
    "        return np.nan"
   ]
  },
  {
   "cell_type": "code",
   "execution_count": 10,
   "id": "04c0d310-0135-4029-83d4-834b5b402c7a",
   "metadata": {
    "execution": {
     "iopub.execute_input": "2025-06-11T16:56:31.502457Z",
     "iopub.status.busy": "2025-06-11T16:56:31.502231Z",
     "iopub.status.idle": "2025-06-11T16:56:31.505434Z",
     "shell.execute_reply": "2025-06-11T16:56:31.504926Z"
    },
    "papermill": {
     "duration": 0.008559,
     "end_time": "2025-06-11T16:56:31.506223",
     "exception": false,
     "start_time": "2025-06-11T16:56:31.497664",
     "status": "completed"
    },
    "tags": []
   },
   "outputs": [],
   "source": [
    "def breakpointpos(x):\n",
    "    if x['isBreakOutIni'] in (2,3):\n",
    "        return x['Low']+3e-3\n",
    "    elif x['isBreakOutIni']==1:\n",
    "        return x['High']-3e-3\n",
    "    else:\n",
    "        return np.nan"
   ]
  },
  {
   "cell_type": "markdown",
   "id": "78dfc3a9-1c1a-4615-88b4-fe7061f871b4",
   "metadata": {
    "papermill": {
     "duration": 0.003969,
     "end_time": "2025-06-11T16:56:31.514342",
     "exception": false,
     "start_time": "2025-06-11T16:56:31.510373",
     "status": "completed"
    },
    "tags": []
   },
   "source": [
    "###### Hallando casos de Ruptura del Canal Alcista"
   ]
  },
  {
   "cell_type": "code",
   "execution_count": 11,
   "id": "80471e6b-41e2-424d-962d-72757b94aaf4",
   "metadata": {
    "execution": {
     "iopub.execute_input": "2025-06-11T16:56:31.523104Z",
     "iopub.status.busy": "2025-06-11T16:56:31.522924Z",
     "iopub.status.idle": "2025-06-11T16:56:31.533212Z",
     "shell.execute_reply": "2025-06-11T16:56:31.532747Z"
    },
    "papermill": {
     "duration": 0.015713,
     "end_time": "2025-06-11T16:56:31.534041",
     "exception": false,
     "start_time": "2025-06-11T16:56:31.518328",
     "status": "completed"
    },
    "tags": []
   },
   "outputs": [],
   "source": [
    "def revisionVelas(dfpl, backeval,window, candle):\n",
    "    #Revision de Velas\n",
    "    #Promedio del volumen de 50 velas antes del posible caso\n",
    "    promVol = dfpl.loc[i-backeval:i][\"Volume\"].mean()\n",
    "    #puede darse cualquiera de estas condiciones: \n",
    "    # - que la vela sea verde, que tenga volumen, este por encima de la linea trend y que tenga cuerpo (cierra por encima de su tercera parte)\n",
    "    # - que la vela sea envolvente, alcista y que este por encima de la linea trend\n",
    "    j=candle+1\n",
    "    k=candle+window\n",
    "    ind_vela=0\n",
    "    \n",
    "    #k no puede pasrse del rango\n",
    "    maxindex = dfpl.index[-1]\n",
    "    if (k>maxindex):\n",
    "        k=maxindex\n",
    "    \n",
    "    #print(\"candle:\",candle)\n",
    "    #print(\"window:\",window)\n",
    "    #print(\"j:\",j, \",k:\",k)\n",
    "    \n",
    "    #Evaluacion de velas ALCISTAS\n",
    "    dfpl[\"cdlengulfing\"] = ta.CDLENGULFING(dfpl['Open'], dfpl['High'], dfpl['Low'], dfpl['Close'])\n",
    "    dfpl[\"cdlhammer\"] = ta.CDLHAMMER(dfpl['Open'], dfpl['High'], dfpl['Low'], dfpl['Close'])\n",
    "    dfpl[\"cdlmorningstar\"] = ta.CDLMORNINGSTAR(dfpl['Open'], dfpl['High'], dfpl['Low'], dfpl['Close'])\n",
    "    dfpl[\"cdlpiercing\"] = ta.CDLPIERCING(dfpl['Open'], dfpl['High'], dfpl['Low'], dfpl['Close'])\n",
    "    dfpl[\"cdlclosingmarubozu\"] = ta.CDLCLOSINGMARUBOZU(dfpl['Open'], dfpl['High'], dfpl['Low'], dfpl['Close'])\n",
    "    dfpl[\"cdlmarubozu\"] = ta.CDLMARUBOZU(dfpl['Open'], dfpl['High'], dfpl['Low'], dfpl['Close'])\n",
    "    dfpl[\"cdl3whitesoldiers\"] = ta.CDL3WHITESOLDIERS(dfpl['Open'], dfpl['High'], dfpl['Low'], dfpl['Close'])\n",
    "    dfpl[\"cdlharami\"] = ta.CDLHARAMI(dfpl['Open'], dfpl['High'], dfpl['Low'], dfpl['Close'])\n",
    "    dfpl[\"cdlharamicross\"] = ta.CDLHARAMICROSS(dfpl['Open'], dfpl['High'], dfpl['Low'], dfpl['Close'])\n",
    "    dfpl[\"cdlinvertdhammer\"] = ta.CDLINVERTEDHAMMER(dfpl['Open'], dfpl['High'], dfpl['Low'], dfpl['Close'])\n",
    "    dfpl[\"cdlladderbottom\"] = ta.CDLLADDERBOTTOM(dfpl['Open'], dfpl['High'], dfpl['Low'], dfpl['Close'])\n",
    "\n",
    "    dfpl['Vela_Roja'] = dfpl['Close'] < dfpl['Open']\n",
    "    # Calcular el nivel de la tercera parte\n",
    "    #dfpl['Third_Level'] = dfpl['Low'] + (dfpl['High'] - dfpl['Low']) / 3\n",
    "    dfpl['Third_Level'] = dfpl['Open'] + (dfpl['High'] - dfpl['Low']) / 3\n",
    "    # Verificar si la vela cierra por encima de su tercera parte, vela con cuerpo\n",
    "    dfpl['Above_Third'] = dfpl['Close'] > dfpl['Third_Level']\n",
    "\n",
    "    while j<=k:            \n",
    "        \n",
    "        vol = dfpl.loc[j,\"Volume\"]\n",
    "        above_Third = dfpl.loc[j,\"Above_Third\"]\n",
    "        vela_Roja = dfpl.loc[j,\"Vela_Roja\"]\n",
    "        lineTrend = dfpl.loc[j,'trendcurrlow']\n",
    "        high = dfpl.loc[j,'High']\n",
    "        close = dfpl.loc[j,'Close']\n",
    "\n",
    "        cdlengulfing = dfpl.loc[j,\"cdlengulfing\"]\n",
    "        cdlhammer = dfpl.loc[j,\"cdlhammer\"]\n",
    "        cdlmorningstar = dfpl.loc[j,\"cdlmorningstar\"]\n",
    "        cdlpiercing = dfpl.loc[j,\"cdlpiercing\"]\n",
    "        cdlclosingmarubozu = dfpl.loc[j,\"cdlclosingmarubozu\"]\n",
    "        cdlmarubozu = dfpl.loc[j,\"cdlmarubozu\"]\n",
    "        cdl3whitesoldiers = dfpl.loc[j,\"cdl3whitesoldiers\"]\n",
    "        cdlharami = dfpl.loc[j,\"cdlharami\"]\n",
    "        cdlharamicross = dfpl.loc[j,\"cdlharamicross\"]\n",
    "        cdlinvertdhammer = dfpl.loc[j,\"cdlinvertdhammer\"]\n",
    "        cdlladderbottom = dfpl.loc[j,\"cdlladderbottom\"]\n",
    "\n",
    "        #vela consecutiva alcista\n",
    "        candle_up = (#dfpl.loc[j,\"Vela_Verde\"]==True \n",
    "                     #and dfpl.loc[j-1,\"Vela_Verde\"]==True \n",
    "                     dfpl.loc[j,\"High\"]> dfpl.loc[j-1,\"High\"]\n",
    "                     and dfpl.loc[j-1,\"High\"]> dfpl.loc[j,\"Low\"]\n",
    "                     and dfpl.loc[j,\"Low\"]> dfpl.loc[j-2,\"High\"]\n",
    "                     and dfpl.loc[j-2,\"High\"]> dfpl.loc[j-1,\"Low\"]\n",
    "                     and dfpl.loc[j-1,\"Low\"]> dfpl.loc[j-3,\"High\"]\n",
    "                     and dfpl.loc[j-3,\"High\"]> dfpl.loc[j-2,\"Low\"]\n",
    "                     and dfpl.loc[j-2,\"Low\"]> dfpl.loc[j-3,\"Low\"]\n",
    "                     #and dfpl.loc[j,\"Close\"]> dfpl.loc[j-1,\"High\"] \n",
    "                     #and dfpl.loc[j-1,\"Close\"]>dfpl.loc[j-2,\"High\"]\n",
    "                     #and dfpl.loc[j-1,\"Close\"]>dfpl.loc[j-3,\"High\"] \n",
    "                    )\n",
    "\n",
    "        if (candle_up==True and close>lineTrend):\n",
    "            ind_vela=ind_vela+1\n",
    "        #vela sea verde, que tenga volumen, que tenga cuerpo y que este por encima de la linea trend\n",
    "        #if (vela_Verde==True and promVol<=vol and above_Third==True and close>=lineTrend):\n",
    "        #    ind_vela=ind_vela+1\n",
    "        \n",
    "        #vela sea envolvente, alcista y que este por encima de la linea trend\n",
    "        #if (\n",
    "        #    (cdlhammer>0 or\n",
    "        #     cdlmorningstar>0 or\n",
    "        #     cdlpiercing>0 or\n",
    "        #     cdl3whitesoldiers>0 or\n",
    "        #     cdlharami>0 or\n",
    "        #     cdlharamicross>0 or\n",
    "        #     cdlinvertdhammer>0 or\n",
    "        #     cdlladderbottom>0\n",
    "        #    )\n",
    "        #    and promVol<=vol\n",
    "        #    and close>=lineTrend):\n",
    "        #    ind_vela=ind_vela+1\n",
    "\n",
    "        #vela sea envolvente, alcista y que este por encima de la linea trend\n",
    "        #if (\n",
    "        #    (cdlclosingmarubozu>0 or\n",
    "        #     cdlmarubozu>0 or\n",
    "        #     cdlengulfing>0 or\n",
    "        #     cdlhammer>0\n",
    "        #    )\n",
    "        #    #and promVol<=vol\n",
    "        #    and close>=lineTrend):\n",
    "        #    ind_vela=ind_vela+1 \n",
    "            \n",
    "        j=j+1\n",
    "    \n",
    "    return 1 #1 para mostrar todo ind_vela para que funcione el filtro"
   ]
  },
  {
   "cell_type": "code",
   "execution_count": 12,
   "id": "d994f943-5fc5-43c7-9604-84976d99a911",
   "metadata": {
    "execution": {
     "iopub.execute_input": "2025-06-11T16:56:31.543232Z",
     "iopub.status.busy": "2025-06-11T16:56:31.543014Z",
     "iopub.status.idle": "2025-06-11T16:59:56.265326Z",
     "shell.execute_reply": "2025-06-11T16:59:56.264735Z"
    },
    "papermill": {
     "duration": 204.727968,
     "end_time": "2025-06-11T16:59:56.266240",
     "exception": false,
     "start_time": "2025-06-11T16:56:31.538272",
     "status": "completed"
    },
    "tags": []
   },
   "outputs": [
    {
     "name": "stdout",
     "output_type": "stream",
     "text": [
      "===posible caso: 88 SPY\n",
      "===posible caso: 164 SPY\n"
     ]
    },
    {
     "name": "stdout",
     "output_type": "stream",
     "text": [
      "h1\n",
      "164 SPY\n",
      "===posible caso: 208 SPY\n",
      "h1\n",
      "208 SPY\n",
      "===posible caso: 226 SPY\n"
     ]
    },
    {
     "name": "stdout",
     "output_type": "stream",
     "text": [
      "h2\n",
      "h4\n",
      "h1\n",
      "226 SPY\n",
      "===posible caso: 250 SPY\n",
      "===posible caso: 276 SPY\n",
      "===posible caso: 296 SPY\n",
      "===posible caso: 388 SPY\n"
     ]
    },
    {
     "name": "stdout",
     "output_type": "stream",
     "text": [
      "h1\n",
      "388 SPY\n",
      "===posible caso: 450 SPY\n",
      "===posible caso: 586 SPY\n"
     ]
    },
    {
     "name": "stdout",
     "output_type": "stream",
     "text": [
      "h1\n",
      "586 SPY\n",
      "===posible caso: 753 SPY\n",
      "===posible caso: 830 SPY\n"
     ]
    },
    {
     "name": "stdout",
     "output_type": "stream",
     "text": [
      "===posible caso: 890 SPY\n",
      "===posible caso: 919 SPY\n"
     ]
    },
    {
     "name": "stdout",
     "output_type": "stream",
     "text": [
      "h1\n",
      "919 SPY\n",
      "===posible caso: 955 SPY\n",
      "h1\n",
      "955 SPY\n",
      "===posible caso: 1025 SPY\n"
     ]
    },
    {
     "name": "stdout",
     "output_type": "stream",
     "text": [
      "===posible caso: 1103 SPY\n",
      "h1\n",
      "1103 SPY\n",
      "===posible caso: 1163 SPY\n"
     ]
    },
    {
     "name": "stdout",
     "output_type": "stream",
     "text": [
      "h1\n",
      "1163 SPY\n",
      "===posible caso: 1193 SPY\n",
      "===posible caso: 1217 SPY\n",
      "===posible caso: 1264 SPY\n",
      "h1\n",
      "1264 SPY\n",
      "===posible caso: 1287 SPY\n"
     ]
    },
    {
     "name": "stdout",
     "output_type": "stream",
     "text": [
      "h1\n",
      "1287 SPY\n",
      "===posible caso: 1311 SPY\n",
      "===posible caso: 1352 SPY\n",
      "===posible caso: 1535 SPY\n"
     ]
    },
    {
     "name": "stdout",
     "output_type": "stream",
     "text": [
      "h1\n",
      "1535 SPY\n",
      "===posible caso: 1638 SPY\n",
      "h1\n",
      "1638 SPY\n",
      "===posible caso: 1749 SPY\n"
     ]
    },
    {
     "name": "stdout",
     "output_type": "stream",
     "text": [
      "h1\n",
      "1749 SPY\n",
      "===posible caso: 1784 SPY\n",
      "===posible caso: 1826 SPY\n",
      "===posible caso: 1905 SPY\n"
     ]
    },
    {
     "name": "stdout",
     "output_type": "stream",
     "text": [
      "===posible caso: 1935 SPY\n",
      "===posible caso: 1958 SPY\n",
      "===posible caso: 2095 SPY\n"
     ]
    },
    {
     "name": "stdout",
     "output_type": "stream",
     "text": [
      "===posible caso: 2225 SPY\n",
      "h1\n",
      "2225 SPY\n",
      "===posible caso: 2276 SPY\n"
     ]
    },
    {
     "name": "stdout",
     "output_type": "stream",
     "text": [
      "===posible caso: 2345 SPY\n",
      "h1\n",
      "2345 SPY\n",
      "===posible caso: 2372 SPY\n"
     ]
    },
    {
     "name": "stdout",
     "output_type": "stream",
     "text": [
      "h1\n",
      "2372 SPY\n",
      "===posible caso: 2403 SPY\n",
      "===posible caso: 2425 SPY\n",
      "===posible caso: 2477 SPY\n"
     ]
    },
    {
     "name": "stdout",
     "output_type": "stream",
     "text": [
      "h1\n",
      "2477 SPY\n",
      "===posible caso: 2602 SPY\n",
      "h1\n",
      "2602 SPY\n",
      "===posible caso: 2647 SPY\n"
     ]
    },
    {
     "name": "stdout",
     "output_type": "stream",
     "text": [
      "===posible caso: 2694 SPY\n",
      "===posible caso: 2816 SPY\n",
      "h1\n",
      "2816 SPY\n",
      "===posible caso: 2852 SPY\n",
      "===posible caso: 2884 SPY\n",
      "===posible caso: 2940 SPY\n"
     ]
    },
    {
     "name": "stdout",
     "output_type": "stream",
     "text": [
      "===posible caso: 3065 SPY\n",
      "===posible caso: 3102 SPY\n",
      "===posible caso: 3296 SPY\n"
     ]
    },
    {
     "name": "stdout",
     "output_type": "stream",
     "text": [
      "===posible caso: 3371 SPY\n",
      "h1\n",
      "3371 SPY\n",
      "===posible caso: 3536 SPY\n"
     ]
    },
    {
     "name": "stdout",
     "output_type": "stream",
     "text": [
      "===posible caso: 3606 META\n",
      "===posible caso: 3633 META\n"
     ]
    },
    {
     "name": "stdout",
     "output_type": "stream",
     "text": [
      "===posible caso: 3678 META\n",
      "===posible caso: 3704 META\n"
     ]
    },
    {
     "name": "stdout",
     "output_type": "stream",
     "text": [
      "===posible caso: 3758 META\n",
      "===posible caso: 3800 META\n"
     ]
    },
    {
     "name": "stdout",
     "output_type": "stream",
     "text": [
      "h1\n",
      "3800 META\n",
      "===posible caso: 3835 META\n",
      "===posible caso: 3920 META\n",
      "===posible caso: 3967 META\n",
      "h1\n",
      "3967 META\n",
      "===posible caso: 3989 META\n"
     ]
    },
    {
     "name": "stdout",
     "output_type": "stream",
     "text": [
      "h1\n",
      "3989 META\n",
      "===posible caso: 4060 META\n",
      "===posible caso: 4125 META\n",
      "h1\n",
      "4125 META\n",
      "===posible caso: 4150 META\n"
     ]
    },
    {
     "name": "stdout",
     "output_type": "stream",
     "text": [
      "h1\n",
      "4150 META\n",
      "===posible caso: 4179 META\n",
      "===posible caso: 4289 META\n",
      "===posible caso: 4329 META\n"
     ]
    },
    {
     "name": "stdout",
     "output_type": "stream",
     "text": [
      "===posible caso: 4493 META\n",
      "h1\n",
      "4493 META\n",
      "===posible caso: 4561 META\n"
     ]
    },
    {
     "name": "stdout",
     "output_type": "stream",
     "text": [
      "===posible caso: 4637 META\n",
      "===posible caso: 4660 META\n"
     ]
    },
    {
     "name": "stdout",
     "output_type": "stream",
     "text": [
      "h1\n",
      "4660 META\n",
      "===posible caso: 4701 META\n",
      "h1\n",
      "4701 META\n",
      "===posible caso: 4724 META\n",
      "===posible caso: 4800 META\n"
     ]
    },
    {
     "name": "stdout",
     "output_type": "stream",
     "text": [
      "h1\n",
      "4800 META\n",
      "===posible caso: 4826 META\n",
      "h1\n",
      "4826 META\n",
      "===posible caso: 4891 META\n",
      "===posible caso: 4961 META\n"
     ]
    },
    {
     "name": "stdout",
     "output_type": "stream",
     "text": [
      "===posible caso: 5023 META\n",
      "h1\n",
      "5023 META\n",
      "===posible caso: 5140 META\n"
     ]
    },
    {
     "name": "stdout",
     "output_type": "stream",
     "text": [
      "===posible caso: 5217 META\n",
      "h1\n",
      "5217 META\n",
      "===posible caso: 5260 META\n",
      "===posible caso: 5291 META\n"
     ]
    },
    {
     "name": "stdout",
     "output_type": "stream",
     "text": [
      "h1\n",
      "5291 META\n",
      "===posible caso: 5313 META\n",
      "h1\n",
      "5313 META\n",
      "===posible caso: 5358 META\n",
      "===posible caso: 5395 META\n",
      "===posible caso: 5414 META\n"
     ]
    },
    {
     "name": "stdout",
     "output_type": "stream",
     "text": [
      "h1\n",
      "5414 META\n",
      "===posible caso: 5474 META\n",
      "===posible caso: 5522 META\n",
      "===posible caso: 5594 META\n",
      "h1\n",
      "5594 META\n",
      "===posible caso: 5664 META\n"
     ]
    },
    {
     "name": "stdout",
     "output_type": "stream",
     "text": [
      "h1\n",
      "5664 META\n",
      "===posible caso: 5792 META\n",
      "h2\n",
      "h4\n",
      "h2\n",
      "h4\n",
      "h1\n",
      "5792 META\n"
     ]
    },
    {
     "name": "stdout",
     "output_type": "stream",
     "text": [
      "===posible caso: 5844 META\n",
      "===posible caso: 5965 META\n"
     ]
    },
    {
     "name": "stdout",
     "output_type": "stream",
     "text": [
      "===posible caso: 6010 META\n",
      "===posible caso: 6144 META\n",
      "h1\n",
      "6144 META\n",
      "===posible caso: 6164 META\n"
     ]
    },
    {
     "name": "stdout",
     "output_type": "stream",
     "text": [
      "===posible caso: 6226 META\n",
      "===posible caso: 6276 META\n",
      "===posible caso: 6294 META\n"
     ]
    },
    {
     "name": "stdout",
     "output_type": "stream",
     "text": [
      "===posible caso: 6382 META\n",
      "===posible caso: 6427 META\n"
     ]
    },
    {
     "name": "stdout",
     "output_type": "stream",
     "text": [
      "h1\n",
      "6427 META\n",
      "===posible caso: 6464 META\n",
      "h1\n",
      "6464 META\n",
      "===posible caso: 6510 META\n"
     ]
    },
    {
     "name": "stdout",
     "output_type": "stream",
     "text": [
      "===posible caso: 6642 META\n",
      "===posible caso: 6686 META\n"
     ]
    },
    {
     "name": "stdout",
     "output_type": "stream",
     "text": [
      "===posible caso: 6834 META\n",
      "h1\n",
      "6834 META\n",
      "===posible caso: 6880 META\n"
     ]
    },
    {
     "name": "stdout",
     "output_type": "stream",
     "text": [
      "===posible caso: 6922 META\n",
      "===posible caso: 7000 META\n"
     ]
    },
    {
     "name": "stdout",
     "output_type": "stream",
     "text": [
      "h1\n",
      "7000 META\n",
      "===posible caso: 7021 META\n",
      "h1\n",
      "7021 META\n",
      "===posible caso: 7068 META\n"
     ]
    },
    {
     "name": "stdout",
     "output_type": "stream",
     "text": [
      "===posible caso: 7163 AAPL\n",
      "h1\n",
      "7163 AAPL\n",
      "===posible caso: 7184 AAPL\n"
     ]
    },
    {
     "name": "stdout",
     "output_type": "stream",
     "text": [
      "h1\n",
      "7184 AAPL\n",
      "===posible caso: 7242 AAPL\n",
      "h1\n",
      "7242 AAPL\n",
      "===posible caso: 7299 AAPL\n"
     ]
    },
    {
     "name": "stdout",
     "output_type": "stream",
     "text": [
      "===posible caso: 7349 AAPL\n",
      "h1\n",
      "7349 AAPL\n",
      "===posible caso: 7417 AAPL\n",
      "===posible caso: 7472 AAPL\n"
     ]
    },
    {
     "name": "stdout",
     "output_type": "stream",
     "text": [
      "h1\n",
      "7472 AAPL\n",
      "===posible caso: 7542 AAPL\n",
      "===posible caso: 7568 AAPL\n",
      "h1\n",
      "7568 AAPL\n",
      "===posible caso: 7659 AAPL\n"
     ]
    },
    {
     "name": "stdout",
     "output_type": "stream",
     "text": [
      "h1\n",
      "7659 AAPL\n",
      "===posible caso: 7718 AAPL\n",
      "===posible caso: 7863 AAPL\n",
      "h1\n",
      "7863 AAPL\n",
      "===posible caso: 7938 AAPL\n"
     ]
    },
    {
     "name": "stdout",
     "output_type": "stream",
     "text": [
      "===posible caso: 7961 AAPL\n",
      "===posible caso: 8024 AAPL\n"
     ]
    },
    {
     "name": "stdout",
     "output_type": "stream",
     "text": [
      "===posible caso: 8086 AAPL\n",
      "===posible caso: 8143 AAPL\n",
      "===posible caso: 8213 AAPL\n",
      "===posible caso: 8379 AAPL\n",
      "===posible caso: 8422 AAPL\n"
     ]
    },
    {
     "name": "stdout",
     "output_type": "stream",
     "text": [
      "===posible caso: 8528 AAPL\n",
      "===posible caso: 8608 AAPL\n",
      "h1\n",
      "8608 AAPL\n",
      "===posible caso: 8637 AAPL\n"
     ]
    },
    {
     "name": "stdout",
     "output_type": "stream",
     "text": [
      "===posible caso: 8724 AAPL\n",
      "h1\n",
      "8724 AAPL\n",
      "===posible caso: 8826 AAPL\n"
     ]
    },
    {
     "name": "stdout",
     "output_type": "stream",
     "text": [
      "h1\n",
      "8826 AAPL\n",
      "===posible caso: 8847 AAPL\n",
      "h1\n",
      "8847 AAPL\n",
      "===posible caso: 8966 AAPL\n"
     ]
    },
    {
     "name": "stdout",
     "output_type": "stream",
     "text": [
      "===posible caso: 9066 AAPL\n",
      "h1\n",
      "9066 AAPL\n",
      "===posible caso: 9269 AAPL\n",
      "===posible caso: 9306 AAPL\n",
      "===posible caso: 9349 AAPL\n"
     ]
    },
    {
     "name": "stdout",
     "output_type": "stream",
     "text": [
      "===posible caso: 9396 AAPL\n",
      "===posible caso: 9420 AAPL\n",
      "===posible caso: 9454 AAPL\n"
     ]
    },
    {
     "name": "stdout",
     "output_type": "stream",
     "text": [
      "===posible caso: 9545 AAPL\n",
      "===posible caso: 9597 AAPL\n",
      "h1\n",
      "9597 AAPL\n",
      "===posible caso: 9697 AAPL\n"
     ]
    },
    {
     "name": "stdout",
     "output_type": "stream",
     "text": [
      "h1\n",
      "9697 AAPL\n",
      "===posible caso: 9767 AAPL\n",
      "===posible caso: 9805 AAPL\n",
      "===posible caso: 9846 AAPL\n",
      "===posible caso: 9923 AAPL\n"
     ]
    },
    {
     "name": "stdout",
     "output_type": "stream",
     "text": [
      "===posible caso: 10037 AAPL\n",
      "h1\n",
      "10037 AAPL\n",
      "===posible caso: 10065 AAPL\n",
      "===posible caso: 10147 AAPL\n"
     ]
    },
    {
     "name": "stdout",
     "output_type": "stream",
     "text": [
      "===posible caso: 10194 AAPL\n",
      "h1\n",
      "10194 AAPL\n",
      "===posible caso: 10277 AAPL\n"
     ]
    },
    {
     "name": "stdout",
     "output_type": "stream",
     "text": [
      "===posible caso: 10362 AAPL\n",
      "===posible caso: 10420 AAPL\n"
     ]
    },
    {
     "name": "stdout",
     "output_type": "stream",
     "text": [
      "h1\n",
      "10420 AAPL\n",
      "===posible caso: 10523 AAPL\n",
      "===posible caso: 10663 AMZN\n"
     ]
    },
    {
     "name": "stdout",
     "output_type": "stream",
     "text": [
      "h1\n",
      "10663 AMZN\n",
      "===posible caso: 10718 AMZN\n",
      "===posible caso: 10751 AMZN\n",
      "===posible caso: 10776 AMZN\n"
     ]
    },
    {
     "name": "stdout",
     "output_type": "stream",
     "text": [
      "===posible caso: 10833 AMZN\n",
      "===posible caso: 10995 AMZN\n"
     ]
    },
    {
     "name": "stdout",
     "output_type": "stream",
     "text": [
      "h1\n",
      "10995 AMZN\n",
      "===posible caso: 11055 AMZN\n",
      "===posible caso: 11102 AMZN\n",
      "===posible caso: 11193 AMZN\n"
     ]
    },
    {
     "name": "stdout",
     "output_type": "stream",
     "text": [
      "h1\n",
      "11193 AMZN\n",
      "===posible caso: 11210 AMZN\n",
      "===posible caso: 11321 AMZN\n"
     ]
    },
    {
     "name": "stdout",
     "output_type": "stream",
     "text": [
      "===posible caso: 11352 AMZN\n",
      "===posible caso: 11407 AMZN\n"
     ]
    },
    {
     "name": "stdout",
     "output_type": "stream",
     "text": [
      "===posible caso: 11446 AMZN\n",
      "===posible caso: 11472 AMZN\n"
     ]
    },
    {
     "name": "stdout",
     "output_type": "stream",
     "text": [
      "===posible caso: 11523 AMZN\n",
      "===posible caso: 11625 AMZN\n"
     ]
    },
    {
     "name": "stdout",
     "output_type": "stream",
     "text": [
      "===posible caso: 11704 AMZN\n",
      "h1\n",
      "11704 AMZN\n",
      "===posible caso: 11728 AMZN\n",
      "===posible caso: 11765 AMZN\n"
     ]
    },
    {
     "name": "stdout",
     "output_type": "stream",
     "text": [
      "===posible caso: 11831 AMZN\n",
      "h1\n",
      "11831 AMZN\n",
      "===posible caso: 11866 AMZN\n"
     ]
    },
    {
     "name": "stdout",
     "output_type": "stream",
     "text": [
      "h1\n",
      "11866 AMZN\n",
      "===posible caso: 11926 AMZN\n",
      "===posible caso: 11971 AMZN\n",
      "===posible caso: 11993 AMZN\n"
     ]
    },
    {
     "name": "stdout",
     "output_type": "stream",
     "text": [
      "===posible caso: 12034 AMZN\n",
      "===posible caso: 12060 AMZN\n"
     ]
    },
    {
     "name": "stdout",
     "output_type": "stream",
     "text": [
      "===posible caso: 12198 AMZN\n",
      "h1\n",
      "12198 AMZN\n",
      "===posible caso: 12286 AMZN\n",
      "===posible caso: 12357 AMZN\n"
     ]
    },
    {
     "name": "stdout",
     "output_type": "stream",
     "text": [
      "===posible caso: 12429 AMZN\n",
      "h1\n",
      "12429 AMZN\n",
      "===posible caso: 12459 AMZN\n"
     ]
    },
    {
     "name": "stdout",
     "output_type": "stream",
     "text": [
      "h1\n",
      "12459 AMZN\n",
      "===posible caso: 12475 AMZN\n",
      "===posible caso: 12590 AMZN\n",
      "===posible caso: 12688 AMZN\n"
     ]
    },
    {
     "name": "stdout",
     "output_type": "stream",
     "text": [
      "h1\n",
      "12688 AMZN\n",
      "===posible caso: 12758 AMZN\n",
      "===posible caso: 12855 AMZN\n"
     ]
    },
    {
     "name": "stdout",
     "output_type": "stream",
     "text": [
      "h1\n",
      "12855 AMZN\n",
      "===posible caso: 12940 AMZN\n",
      "===posible caso: 12993 AMZN\n",
      "===posible caso: 13010 AMZN\n"
     ]
    },
    {
     "name": "stdout",
     "output_type": "stream",
     "text": [
      "===posible caso: 13046 AMZN\n",
      "===posible caso: 13074 AMZN\n"
     ]
    },
    {
     "name": "stdout",
     "output_type": "stream",
     "text": [
      "===posible caso: 13107 AMZN\n",
      "h1\n",
      "13107 AMZN\n",
      "===posible caso: 13135 AMZN\n"
     ]
    },
    {
     "name": "stdout",
     "output_type": "stream",
     "text": [
      "===posible caso: 13232 AMZN\n",
      "===posible caso: 13257 AMZN\n"
     ]
    },
    {
     "name": "stdout",
     "output_type": "stream",
     "text": [
      "===posible caso: 13438 AMZN\n",
      "===posible caso: 13472 AMZN\n"
     ]
    },
    {
     "name": "stdout",
     "output_type": "stream",
     "text": [
      "===posible caso: 13578 AMZN\n",
      "===posible caso: 13616 AMZN\n"
     ]
    },
    {
     "name": "stdout",
     "output_type": "stream",
     "text": [
      "===posible caso: 13648 AMZN\n",
      "===posible caso: 13715 AMZN\n",
      "===posible caso: 13868 AMZN\n"
     ]
    },
    {
     "name": "stdout",
     "output_type": "stream",
     "text": [
      "h1\n",
      "13868 AMZN\n",
      "===posible caso: 13947 AMZN\n",
      "h1\n",
      "13947 AMZN\n",
      "===posible caso: 13978 AMZN\n"
     ]
    },
    {
     "name": "stdout",
     "output_type": "stream",
     "text": [
      "===posible caso: 14024 AMZN\n",
      "===posible caso: 14045 AMZN\n",
      "===posible caso: 14110 AMZN\n"
     ]
    },
    {
     "name": "stdout",
     "output_type": "stream",
     "text": [
      "===posible caso: 14240 NFLX\n",
      "===posible caso: 14310 NFLX\n"
     ]
    },
    {
     "name": "stdout",
     "output_type": "stream",
     "text": [
      "h1\n",
      "14310 NFLX\n",
      "===posible caso: 14337 NFLX\n",
      "===posible caso: 14369 NFLX\n",
      "h1\n",
      "14369 NFLX\n",
      "===posible caso: 14540 NFLX\n"
     ]
    },
    {
     "name": "stdout",
     "output_type": "stream",
     "text": [
      "h1\n",
      "14540 NFLX\n",
      "===posible caso: 14640 NFLX\n",
      "===posible caso: 14712 NFLX\n",
      "===posible caso: 14744 NFLX\n",
      "h1\n",
      "14744 NFLX\n",
      "===posible caso: 14788 NFLX\n"
     ]
    },
    {
     "name": "stdout",
     "output_type": "stream",
     "text": [
      "===posible caso: 14928 NFLX\n",
      "h1\n",
      "14928 NFLX\n",
      "===posible caso: 14955 NFLX\n"
     ]
    },
    {
     "name": "stdout",
     "output_type": "stream",
     "text": [
      "h1\n",
      "14955 NFLX\n",
      "===posible caso: 15060 NFLX\n",
      "h1\n",
      "15060 NFLX\n",
      "===posible caso: 15089 NFLX\n"
     ]
    },
    {
     "name": "stdout",
     "output_type": "stream",
     "text": [
      "===posible caso: 15163 NFLX\n",
      "===posible caso: 15227 NFLX\n"
     ]
    },
    {
     "name": "stdout",
     "output_type": "stream",
     "text": [
      "===posible caso: 15282 NFLX\n",
      "h1\n",
      "15282 NFLX\n",
      "===posible caso: 15329 NFLX\n"
     ]
    },
    {
     "name": "stdout",
     "output_type": "stream",
     "text": [
      "===posible caso: 15377 NFLX\n",
      "h1\n",
      "15377 NFLX\n",
      "===posible caso: 15400 NFLX\n"
     ]
    },
    {
     "name": "stdout",
     "output_type": "stream",
     "text": [
      "h1\n",
      "15400 NFLX\n",
      "===posible caso: 15446 NFLX\n",
      "===posible caso: 15471 NFLX\n",
      "===posible caso: 15516 NFLX\n"
     ]
    },
    {
     "name": "stdout",
     "output_type": "stream",
     "text": [
      "h1\n",
      "15516 NFLX\n",
      "===posible caso: 15557 NFLX\n",
      "===posible caso: 15650 NFLX\n",
      "h1\n",
      "15650 NFLX\n",
      "===posible caso: 15724 NFLX\n"
     ]
    },
    {
     "name": "stdout",
     "output_type": "stream",
     "text": [
      "===posible caso: 15791 NFLX\n",
      "===posible caso: 15822 NFLX\n"
     ]
    },
    {
     "name": "stdout",
     "output_type": "stream",
     "text": [
      "===posible caso: 15938 NFLX\n",
      "===posible caso: 16034 NFLX\n"
     ]
    },
    {
     "name": "stdout",
     "output_type": "stream",
     "text": [
      "===posible caso: 16124 NFLX\n",
      "h1\n",
      "16124 NFLX\n",
      "===posible caso: 16215 NFLX\n"
     ]
    },
    {
     "name": "stdout",
     "output_type": "stream",
     "text": [
      "===posible caso: 16363 NFLX\n",
      "===posible caso: 16392 NFLX\n"
     ]
    },
    {
     "name": "stdout",
     "output_type": "stream",
     "text": [
      "===posible caso: 16470 NFLX\n",
      "h1\n",
      "16470 NFLX\n",
      "===posible caso: 16522 NFLX\n"
     ]
    },
    {
     "name": "stdout",
     "output_type": "stream",
     "text": [
      "===posible caso: 16544 NFLX\n",
      "===posible caso: 16563 NFLX\n",
      "===posible caso: 16679 NFLX\n"
     ]
    },
    {
     "name": "stdout",
     "output_type": "stream",
     "text": [
      "h1\n",
      "16679 NFLX\n",
      "===posible caso: 16767 NFLX\n",
      "===posible caso: 16793 NFLX\n"
     ]
    },
    {
     "name": "stdout",
     "output_type": "stream",
     "text": [
      "===posible caso: 16955 NFLX\n",
      "h1\n",
      "16955 NFLX\n",
      "===posible caso: 17038 NFLX\n"
     ]
    },
    {
     "name": "stdout",
     "output_type": "stream",
     "text": [
      "h1\n",
      "17038 NFLX\n",
      "===posible caso: 17066 NFLX\n",
      "h1\n",
      "17066 NFLX\n",
      "===posible caso: 17205 NFLX\n"
     ]
    },
    {
     "name": "stdout",
     "output_type": "stream",
     "text": [
      "h1\n",
      "17205 NFLX\n",
      "===posible caso: 17222 NFLX\n",
      "===posible caso: 17249 NFLX\n"
     ]
    },
    {
     "name": "stdout",
     "output_type": "stream",
     "text": [
      "===posible caso: 17350 NFLX\n",
      "h2\n",
      "h4\n",
      "h2\n",
      "h4\n",
      "h1\n",
      "17350 NFLX\n",
      "===posible caso: 17437 NFLX\n"
     ]
    },
    {
     "name": "stdout",
     "output_type": "stream",
     "text": [
      "===posible caso: 17453 NFLX\n",
      "===posible caso: 17507 NFLX\n"
     ]
    },
    {
     "name": "stdout",
     "output_type": "stream",
     "text": [
      "===posible caso: 17524 NFLX\n",
      "===posible caso: 17553 NFLX\n"
     ]
    },
    {
     "name": "stdout",
     "output_type": "stream",
     "text": [
      "===posible caso: 17608 NFLX\n",
      "===posible caso: 17733 MRNA\n",
      "===posible caso: 17769 MRNA\n"
     ]
    },
    {
     "name": "stdout",
     "output_type": "stream",
     "text": [
      "===posible caso: 17811 MRNA\n",
      "===posible caso: 17848 MRNA\n",
      "===posible caso: 17951 MRNA\n",
      "h1\n",
      "17951 MRNA\n",
      "===posible caso: 18012 MRNA\n"
     ]
    },
    {
     "name": "stdout",
     "output_type": "stream",
     "text": [
      "h1\n",
      "18012 MRNA\n",
      "===posible caso: 18035 MRNA\n",
      "h1\n",
      "18035 MRNA\n",
      "===posible caso: 18054 MRNA\n",
      "===posible caso: 18129 MRNA\n",
      "===posible caso: 18199 MRNA\n",
      "===posible caso: 18248 MRNA\n",
      "===posible caso: 18376 MRNA\n"
     ]
    },
    {
     "name": "stdout",
     "output_type": "stream",
     "text": [
      "===posible caso: 18427 MRNA\n",
      "===posible caso: 18452 MRNA\n",
      "===posible caso: 18469 MRNA\n"
     ]
    },
    {
     "name": "stdout",
     "output_type": "stream",
     "text": [
      "h1\n",
      "18469 MRNA\n",
      "===posible caso: 18486 MRNA\n",
      "===posible caso: 18522 MRNA\n"
     ]
    },
    {
     "name": "stdout",
     "output_type": "stream",
     "text": [
      "h1\n",
      "18522 MRNA\n",
      "===posible caso: 18546 MRNA\n",
      "===posible caso: 18642 MRNA\n"
     ]
    },
    {
     "name": "stdout",
     "output_type": "stream",
     "text": [
      "h1\n",
      "18642 MRNA\n",
      "===posible caso: 18672 MRNA\n",
      "===posible caso: 18769 MRNA\n"
     ]
    },
    {
     "name": "stdout",
     "output_type": "stream",
     "text": [
      "===posible caso: 18889 MRNA\n",
      "===posible caso: 18913 MRNA\n"
     ]
    },
    {
     "name": "stdout",
     "output_type": "stream",
     "text": [
      "===posible caso: 18969 MRNA\n",
      "===posible caso: 19004 MRNA\n"
     ]
    },
    {
     "name": "stdout",
     "output_type": "stream",
     "text": [
      "===posible caso: 19055 MRNA\n",
      "===posible caso: 19091 MRNA\n"
     ]
    },
    {
     "name": "stdout",
     "output_type": "stream",
     "text": [
      "===posible caso: 19109 MRNA\n",
      "===posible caso: 19186 MRNA\n",
      "===posible caso: 19233 MRNA\n",
      "===posible caso: 19342 MRNA\n"
     ]
    },
    {
     "name": "stdout",
     "output_type": "stream",
     "text": [
      "===posible caso: 19398 MRNA\n",
      "===posible caso: 19428 MRNA\n",
      "===posible caso: 19531 MRNA\n",
      "===posible caso: 19560 MRNA\n"
     ]
    },
    {
     "name": "stdout",
     "output_type": "stream",
     "text": [
      "h1\n",
      "19560 MRNA\n",
      "===posible caso: 19578 MRNA\n",
      "===posible caso: 19643 MRNA\n"
     ]
    },
    {
     "name": "stdout",
     "output_type": "stream",
     "text": [
      "h1\n",
      "19643 MRNA\n",
      "===posible caso: 19743 MRNA\n",
      "===posible caso: 19852 MRNA\n",
      "===posible caso: 19883 MRNA\n"
     ]
    },
    {
     "name": "stdout",
     "output_type": "stream",
     "text": [
      "===posible caso: 19945 MRNA\n",
      "===posible caso: 20066 MRNA\n",
      "===posible caso: 20092 MRNA\n",
      "===posible caso: 20226 MRNA\n"
     ]
    },
    {
     "name": "stdout",
     "output_type": "stream",
     "text": [
      "===posible caso: 20254 MRNA\n",
      "===posible caso: 20284 MRNA\n",
      "===posible caso: 20326 MRNA\n",
      "===posible caso: 20417 MRNA\n"
     ]
    },
    {
     "name": "stdout",
     "output_type": "stream",
     "text": [
      "h1\n",
      "20417 MRNA\n",
      "===posible caso: 20452 MRNA\n",
      "h1\n",
      "20452 MRNA\n",
      "===posible caso: 20510 MRNA\n"
     ]
    },
    {
     "name": "stdout",
     "output_type": "stream",
     "text": [
      "h1\n",
      "20510 MRNA\n",
      "===posible caso: 20609 MRNA\n",
      "===posible caso: 20700 MRNA\n"
     ]
    },
    {
     "name": "stdout",
     "output_type": "stream",
     "text": [
      "===posible caso: 20958 MRNA\n",
      "===posible caso: 21051 MRNA\n",
      "===posible caso: 21115 MRNA\n"
     ]
    },
    {
     "name": "stdout",
     "output_type": "stream",
     "text": [
      "===posible caso: 21173 MRNA\n",
      "===posible caso: 21309 TSLA\n"
     ]
    },
    {
     "name": "stdout",
     "output_type": "stream",
     "text": [
      "===posible caso: 21374 TSLA\n",
      "h1\n",
      "21374 TSLA\n",
      "===posible caso: 21405 TSLA\n"
     ]
    },
    {
     "name": "stdout",
     "output_type": "stream",
     "text": [
      "h1\n",
      "21405 TSLA\n",
      "===posible caso: 21459 TSLA\n",
      "h1\n",
      "21459 TSLA\n",
      "===posible caso: 21585 TSLA\n"
     ]
    },
    {
     "name": "stdout",
     "output_type": "stream",
     "text": [
      "===posible caso: 21637 TSLA\n",
      "===posible caso: 21659 TSLA\n"
     ]
    },
    {
     "name": "stdout",
     "output_type": "stream",
     "text": [
      "h1\n",
      "21659 TSLA\n",
      "===posible caso: 21762 TSLA\n",
      "===posible caso: 21780 TSLA\n"
     ]
    },
    {
     "name": "stdout",
     "output_type": "stream",
     "text": [
      "===posible caso: 21816 TSLA\n",
      "===posible caso: 21849 TSLA\n",
      "===posible caso: 21905 TSLA\n",
      "===posible caso: 21924 TSLA\n"
     ]
    },
    {
     "name": "stdout",
     "output_type": "stream",
     "text": [
      "===posible caso: 21962 TSLA\n",
      "===posible caso: 22020 TSLA\n",
      "===posible caso: 22125 TSLA\n"
     ]
    },
    {
     "name": "stdout",
     "output_type": "stream",
     "text": [
      "h1\n",
      "22125 TSLA\n",
      "===posible caso: 22156 TSLA\n",
      "===posible caso: 22207 TSLA\n",
      "===posible caso: 22281 TSLA\n",
      "===posible caso: 22307 TSLA\n",
      "===posible caso: 22369 TSLA\n"
     ]
    },
    {
     "name": "stdout",
     "output_type": "stream",
     "text": [
      "h1\n",
      "22369 TSLA\n",
      "===posible caso: 22399 TSLA\n",
      "===posible caso: 22448 TSLA\n",
      "h1\n",
      "22448 TSLA\n",
      "===posible caso: 22464 TSLA\n"
     ]
    },
    {
     "name": "stdout",
     "output_type": "stream",
     "text": [
      "h1\n",
      "22464 TSLA\n",
      "===posible caso: 22503 TSLA\n",
      "===posible caso: 22558 TSLA\n",
      "===posible caso: 22643 TSLA\n",
      "===posible caso: 22743 TSLA\n"
     ]
    },
    {
     "name": "stdout",
     "output_type": "stream",
     "text": [
      "h1\n",
      "22743 TSLA\n",
      "===posible caso: 22859 TSLA\n",
      "===posible caso: 22984 TSLA\n"
     ]
    },
    {
     "name": "stdout",
     "output_type": "stream",
     "text": [
      "h1\n",
      "22984 TSLA\n",
      "===posible caso: 23087 TSLA\n",
      "h1\n",
      "23087 TSLA\n",
      "===posible caso: 23171 TSLA\n"
     ]
    },
    {
     "name": "stdout",
     "output_type": "stream",
     "text": [
      "===posible caso: 23294 TSLA\n",
      "h1\n",
      "23294 TSLA\n",
      "===posible caso: 23360 TSLA\n"
     ]
    },
    {
     "name": "stdout",
     "output_type": "stream",
     "text": [
      "===posible caso: 23485 TSLA\n",
      "===posible caso: 23513 TSLA\n"
     ]
    },
    {
     "name": "stdout",
     "output_type": "stream",
     "text": [
      "h1\n",
      "23513 TSLA\n",
      "===posible caso: 23578 TSLA\n",
      "===posible caso: 23620 TSLA\n"
     ]
    },
    {
     "name": "stdout",
     "output_type": "stream",
     "text": [
      "===posible caso: 23690 TSLA\n",
      "h1\n",
      "23690 TSLA\n",
      "===posible caso: 23753 TSLA\n"
     ]
    },
    {
     "name": "stdout",
     "output_type": "stream",
     "text": [
      "===posible caso: 23868 TSLA\n",
      "h1\n",
      "23868 TSLA\n",
      "===posible caso: 24000 TSLA\n"
     ]
    },
    {
     "name": "stdout",
     "output_type": "stream",
     "text": [
      "h1\n",
      "24000 TSLA\n",
      "===posible caso: 24145 TSLA\n",
      "===posible caso: 24199 TSLA\n",
      "===posible caso: 24251 TSLA\n"
     ]
    },
    {
     "name": "stdout",
     "output_type": "stream",
     "text": [
      "===posible caso: 24268 TSLA\n",
      "===posible caso: 24317 TSLA\n",
      "===posible caso: 24468 TSLA\n",
      "===posible caso: 24485 TSLA\n"
     ]
    },
    {
     "name": "stdout",
     "output_type": "stream",
     "text": [
      "===posible caso: 24504 TSLA\n",
      "h1\n",
      "24504 TSLA\n",
      "===posible caso: 24587 TSLA\n"
     ]
    },
    {
     "name": "stdout",
     "output_type": "stream",
     "text": [
      "h1\n",
      "24587 TSLA\n",
      "===posible caso: 24627 TSLA\n",
      "h1\n",
      "24627 TSLA\n",
      "===posible caso: 24650 TSLA\n"
     ]
    },
    {
     "name": "stdout",
     "output_type": "stream",
     "text": [
      "===posible caso: 24738 TSLA\n",
      "===posible caso: 24834 TNA\n",
      "===posible caso: 24907 TNA\n",
      "h1\n",
      "24907 TNA\n",
      "===posible caso: 24969 TNA\n"
     ]
    },
    {
     "name": "stdout",
     "output_type": "stream",
     "text": [
      "===posible caso: 24993 TNA\n",
      "h2\n",
      "h4\n",
      "h1\n",
      "24993 TNA\n",
      "===posible caso: 25131 TNA\n"
     ]
    },
    {
     "name": "stdout",
     "output_type": "stream",
     "text": [
      "===posible caso: 25315 TNA\n",
      "===posible caso: 25443 TNA\n",
      "===posible caso: 25495 TNA\n",
      "===posible caso: 25519 TNA\n"
     ]
    },
    {
     "name": "stdout",
     "output_type": "stream",
     "text": [
      "===posible caso: 25537 TNA\n",
      "===posible caso: 25581 TNA\n"
     ]
    },
    {
     "name": "stdout",
     "output_type": "stream",
     "text": [
      "===posible caso: 25633 TNA\n",
      "===posible caso: 25661 TNA\n"
     ]
    },
    {
     "name": "stdout",
     "output_type": "stream",
     "text": [
      "h1\n",
      "25661 TNA\n",
      "===posible caso: 25694 TNA\n",
      "===posible caso: 25742 TNA\n",
      "===posible caso: 25806 TNA\n"
     ]
    },
    {
     "name": "stdout",
     "output_type": "stream",
     "text": [
      "===posible caso: 25840 TNA\n",
      "===posible caso: 25907 TNA\n"
     ]
    },
    {
     "name": "stdout",
     "output_type": "stream",
     "text": [
      "===posible caso: 26004 TNA\n",
      "h1\n",
      "26004 TNA\n",
      "===posible caso: 26030 TNA\n"
     ]
    },
    {
     "name": "stdout",
     "output_type": "stream",
     "text": [
      "===posible caso: 26098 TNA\n",
      "===posible caso: 26130 TNA\n",
      "h1\n",
      "26130 TNA\n",
      "===posible caso: 26251 TNA\n",
      "===posible caso: 26278 TNA\n"
     ]
    },
    {
     "name": "stdout",
     "output_type": "stream",
     "text": [
      "h1\n",
      "26278 TNA\n",
      "===posible caso: 26319 TNA\n",
      "h1\n",
      "26319 TNA\n",
      "===posible caso: 26365 TNA\n"
     ]
    },
    {
     "name": "stdout",
     "output_type": "stream",
     "text": [
      "===posible caso: 26381 TNA\n",
      "===posible caso: 26416 TNA\n"
     ]
    },
    {
     "name": "stdout",
     "output_type": "stream",
     "text": [
      "h1\n",
      "26416 TNA\n",
      "===posible caso: 26442 TNA\n",
      "h1\n",
      "26442 TNA\n",
      "===posible caso: 26522 TNA\n"
     ]
    },
    {
     "name": "stdout",
     "output_type": "stream",
     "text": [
      "h1\n",
      "26522 TNA\n",
      "===posible caso: 26542 TNA\n",
      "===posible caso: 26648 TNA\n"
     ]
    },
    {
     "name": "stdout",
     "output_type": "stream",
     "text": [
      "h1\n",
      "26648 TNA\n",
      "===posible caso: 26704 TNA\n",
      "h1\n",
      "26704 TNA\n",
      "===posible caso: 26724 TNA\n"
     ]
    },
    {
     "name": "stdout",
     "output_type": "stream",
     "text": [
      "h1\n",
      "26724 TNA\n",
      "===posible caso: 26845 TNA\n"
     ]
    },
    {
     "name": "stdout",
     "output_type": "stream",
     "text": [
      "===posible caso: 26869 TNA\n",
      "===posible caso: 26970 TNA\n"
     ]
    },
    {
     "name": "stdout",
     "output_type": "stream",
     "text": [
      "===posible caso: 27099 TNA\n",
      "h1\n",
      "27099 TNA\n",
      "===posible caso: 27167 TNA\n",
      "===posible caso: 27293 TNA\n"
     ]
    },
    {
     "name": "stdout",
     "output_type": "stream",
     "text": [
      "===posible caso: 27322 TNA\n",
      "h2\n",
      "h4\n",
      "h1\n",
      "27322 TNA\n",
      "===posible caso: 27369 TNA\n",
      "===posible caso: 27475 TNA\n"
     ]
    },
    {
     "name": "stdout",
     "output_type": "stream",
     "text": [
      "===posible caso: 27543 TNA\n",
      "h1\n",
      "27543 TNA\n",
      "===posible caso: 27560 TNA\n"
     ]
    },
    {
     "name": "stdout",
     "output_type": "stream",
     "text": [
      "h1\n",
      "27560 TNA\n",
      "===posible caso: 27595 TNA\n",
      "===posible caso: 27676 TNA\n",
      "===posible caso: 27844 TNA\n"
     ]
    },
    {
     "name": "stdout",
     "output_type": "stream",
     "text": [
      "===posible caso: 27890 TNA\n",
      "===posible caso: 27926 TNA\n",
      "h1\n",
      "27926 TNA\n",
      "===posible caso: 27952 TNA\n"
     ]
    },
    {
     "name": "stdout",
     "output_type": "stream",
     "text": [
      "h1\n",
      "27952 TNA\n",
      "===posible caso: 28038 TNA\n",
      "h1\n",
      "28038 TNA\n",
      "===posible caso: 28088 TNA\n"
     ]
    },
    {
     "name": "stdout",
     "output_type": "stream",
     "text": [
      "h1\n",
      "28088 TNA\n",
      "===posible caso: 28109 TNA\n",
      "===posible caso: 28188 TNA\n",
      "===posible caso: 28419 GLD\n"
     ]
    },
    {
     "name": "stdout",
     "output_type": "stream",
     "text": [
      "===posible caso: 28440 GLD\n",
      "===posible caso: 28532 GLD\n",
      "===posible caso: 28655 GLD\n"
     ]
    },
    {
     "name": "stdout",
     "output_type": "stream",
     "text": [
      "h1\n",
      "28655 GLD\n",
      "===posible caso: 28697 GLD\n",
      "h1\n",
      "28697 GLD\n",
      "===posible caso: 28756 GLD\n"
     ]
    },
    {
     "name": "stdout",
     "output_type": "stream",
     "text": [
      "h1\n",
      "28756 GLD\n",
      "===posible caso: 28876 GLD\n",
      "===posible caso: 28908 GLD\n"
     ]
    },
    {
     "name": "stdout",
     "output_type": "stream",
     "text": [
      "h1\n",
      "28908 GLD\n",
      "===posible caso: 28946 GLD\n",
      "===posible caso: 29040 GLD\n",
      "===posible caso: 29061 GLD\n"
     ]
    },
    {
     "name": "stdout",
     "output_type": "stream",
     "text": [
      "===posible caso: 29112 GLD\n",
      "===posible caso: 29137 GLD\n"
     ]
    },
    {
     "name": "stdout",
     "output_type": "stream",
     "text": [
      "===posible caso: 29191 GLD\n",
      "===posible caso: 29228 GLD\n"
     ]
    },
    {
     "name": "stdout",
     "output_type": "stream",
     "text": [
      "===posible caso: 29267 GLD\n",
      "===posible caso: 29349 GLD\n",
      "===posible caso: 29395 GLD\n"
     ]
    },
    {
     "name": "stdout",
     "output_type": "stream",
     "text": [
      "===posible caso: 29422 GLD\n",
      "===posible caso: 29501 GLD\n"
     ]
    },
    {
     "name": "stdout",
     "output_type": "stream",
     "text": [
      "h2\n",
      "h4\n",
      "h1\n",
      "29501 GLD\n",
      "===posible caso: 29570 GLD\n",
      "===posible caso: 29715 GLD\n"
     ]
    },
    {
     "name": "stdout",
     "output_type": "stream",
     "text": [
      "h1\n",
      "29715 GLD\n",
      "===posible caso: 29736 GLD\n",
      "h1\n",
      "29736 GLD\n",
      "===posible caso: 29755 GLD\n"
     ]
    },
    {
     "name": "stdout",
     "output_type": "stream",
     "text": [
      "===posible caso: 29774 GLD\n",
      "===posible caso: 29816 GLD\n"
     ]
    },
    {
     "name": "stdout",
     "output_type": "stream",
     "text": [
      "===posible caso: 29880 GLD\n",
      "===posible caso: 29922 GLD\n"
     ]
    },
    {
     "name": "stdout",
     "output_type": "stream",
     "text": [
      "h1\n",
      "29922 GLD\n",
      "===posible caso: 29954 GLD\n",
      "===posible caso: 30003 GLD\n",
      "===posible caso: 30069 GLD\n"
     ]
    },
    {
     "name": "stdout",
     "output_type": "stream",
     "text": [
      "===posible caso: 30136 GLD\n",
      "===posible caso: 30187 GLD\n"
     ]
    },
    {
     "name": "stdout",
     "output_type": "stream",
     "text": [
      "===posible caso: 30271 GLD\n",
      "===posible caso: 30319 GLD\n"
     ]
    },
    {
     "name": "stdout",
     "output_type": "stream",
     "text": [
      "h1\n",
      "30319 GLD\n",
      "===posible caso: 30355 GLD\n",
      "h1\n",
      "30355 GLD\n",
      "===posible caso: 30407 GLD\n"
     ]
    },
    {
     "name": "stdout",
     "output_type": "stream",
     "text": [
      "h1\n",
      "30407 GLD\n",
      "===posible caso: 30478 GLD\n",
      "===posible caso: 30542 GLD\n"
     ]
    },
    {
     "name": "stdout",
     "output_type": "stream",
     "text": [
      "===posible caso: 30669 GLD\n",
      "===posible caso: 30708 GLD\n"
     ]
    },
    {
     "name": "stdout",
     "output_type": "stream",
     "text": [
      "===posible caso: 30739 GLD\n",
      "===posible caso: 30828 GLD\n"
     ]
    },
    {
     "name": "stdout",
     "output_type": "stream",
     "text": [
      "h1\n",
      "30828 GLD\n",
      "===posible caso: 30853 GLD\n",
      "===posible caso: 30870 GLD\n",
      "===posible caso: 30907 GLD\n"
     ]
    },
    {
     "name": "stdout",
     "output_type": "stream",
     "text": [
      "===posible caso: 31003 GLD\n",
      "===posible caso: 31033 GLD\n",
      "===posible caso: 31096 GLD\n"
     ]
    },
    {
     "name": "stdout",
     "output_type": "stream",
     "text": [
      "===posible caso: 31173 GLD\n",
      "===posible caso: 31242 GLD\n"
     ]
    },
    {
     "name": "stdout",
     "output_type": "stream",
     "text": [
      "===posible caso: 31286 GLD\n",
      "===posible caso: 31361 GLD\n",
      "===posible caso: 31427 GLD\n"
     ]
    },
    {
     "name": "stdout",
     "output_type": "stream",
     "text": [
      "h1\n",
      "31427 GLD\n",
      "===posible caso: 31475 GLD\n",
      "===posible caso: 31516 GLD\n",
      "===posible caso: 31592 GLD\n",
      "===posible caso: 31680 GLD\n"
     ]
    },
    {
     "name": "stdout",
     "output_type": "stream",
     "text": [
      "===posible caso: 31718 GLD\n",
      "===posible caso: 31745 GLD\n",
      "h1\n",
      "31745 GLD\n",
      "===posible caso: 31811 GLD\n",
      "===posible caso: 31990 SLV\n"
     ]
    },
    {
     "name": "stdout",
     "output_type": "stream",
     "text": [
      "h1\n",
      "31990 SLV\n",
      "===posible caso: 32098 SLV\n",
      "===posible caso: 32194 SLV\n",
      "===posible caso: 32252 SLV\n",
      "===posible caso: 32306 SLV\n"
     ]
    },
    {
     "name": "stdout",
     "output_type": "stream",
     "text": [
      "h1\n",
      "32306 SLV\n",
      "===posible caso: 32447 SLV\n",
      "h1\n",
      "32447 SLV\n",
      "===posible caso: 32579 SLV\n",
      "===posible caso: 32650 SLV\n"
     ]
    },
    {
     "name": "stdout",
     "output_type": "stream",
     "text": [
      "===posible caso: 32750 SLV\n",
      "===posible caso: 32925 SLV\n"
     ]
    },
    {
     "name": "stdout",
     "output_type": "stream",
     "text": [
      "h1\n",
      "32925 SLV\n",
      "===posible caso: 32985 SLV\n",
      "===posible caso: 33013 SLV\n",
      "===posible caso: 33041 SLV\n"
     ]
    },
    {
     "name": "stdout",
     "output_type": "stream",
     "text": [
      "===posible caso: 33109 SLV\n",
      "===posible caso: 33144 SLV\n"
     ]
    },
    {
     "name": "stdout",
     "output_type": "stream",
     "text": [
      "===posible caso: 33168 SLV\n",
      "h1\n",
      "33168 SLV\n",
      "===posible caso: 33275 SLV\n"
     ]
    },
    {
     "name": "stdout",
     "output_type": "stream",
     "text": [
      "h1\n",
      "33275 SLV\n",
      "===posible caso: 33315 SLV\n",
      "===posible caso: 33343 SLV\n",
      "===posible caso: 33460 SLV\n",
      "h1\n",
      "33460 SLV\n",
      "===posible caso: 33608 SLV\n"
     ]
    },
    {
     "name": "stdout",
     "output_type": "stream",
     "text": [
      "===posible caso: 33673 SLV\n",
      "===posible caso: 33699 SLV\n"
     ]
    },
    {
     "name": "stdout",
     "output_type": "stream",
     "text": [
      "===posible caso: 33762 SLV\n",
      "===posible caso: 33802 SLV\n",
      "===posible caso: 33857 SLV\n",
      "h1\n",
      "33857 SLV\n",
      "===posible caso: 33933 SLV\n"
     ]
    },
    {
     "name": "stdout",
     "output_type": "stream",
     "text": [
      "h1\n",
      "33933 SLV\n",
      "===posible caso: 34067 SLV\n",
      "h1\n",
      "34067 SLV\n",
      "===posible caso: 34119 SLV\n",
      "===posible caso: 34208 SLV\n"
     ]
    },
    {
     "name": "stdout",
     "output_type": "stream",
     "text": [
      "===posible caso: 34347 SLV\n",
      "===posible caso: 34367 SLV\n",
      "h1\n",
      "34367 SLV\n",
      "===posible caso: 34409 SLV\n",
      "===posible caso: 34429 SLV\n"
     ]
    },
    {
     "name": "stdout",
     "output_type": "stream",
     "text": [
      "===posible caso: 34572 SLV\n",
      "h1\n",
      "34572 SLV\n",
      "===posible caso: 34602 SLV\n",
      "===posible caso: 34624 SLV\n"
     ]
    },
    {
     "name": "stdout",
     "output_type": "stream",
     "text": [
      "h1\n",
      "34624 SLV\n",
      "===posible caso: 34705 SLV\n",
      "h2\n",
      "h4\n",
      "h1\n",
      "34705 SLV\n",
      "===posible caso: 34762 SLV\n"
     ]
    },
    {
     "name": "stdout",
     "output_type": "stream",
     "text": [
      "h1\n",
      "34762 SLV\n",
      "===posible caso: 34833 SLV\n",
      "===posible caso: 34868 SLV\n",
      "===posible caso: 34889 SLV\n"
     ]
    },
    {
     "name": "stdout",
     "output_type": "stream",
     "text": [
      "h1\n",
      "34889 SLV\n",
      "===posible caso: 34941 SLV\n",
      "===posible caso: 35037 SLV\n",
      "h1\n",
      "35037 SLV\n",
      "===posible caso: 35067 SLV\n"
     ]
    },
    {
     "name": "stdout",
     "output_type": "stream",
     "text": [
      "===posible caso: 35165 SLV\n",
      "===posible caso: 35208 SLV\n",
      "===posible caso: 35257 SLV\n",
      "===posible caso: 35299 SLV\n"
     ]
    },
    {
     "name": "stdout",
     "output_type": "stream",
     "text": [
      "===posible caso: 35326 SLV\n",
      "===posible caso: 35418 USO\n"
     ]
    },
    {
     "name": "stdout",
     "output_type": "stream",
     "text": [
      "===posible caso: 35501 USO\n",
      "===posible caso: 35584 USO\n"
     ]
    },
    {
     "name": "stdout",
     "output_type": "stream",
     "text": [
      "===posible caso: 35632 USO\n",
      "h1\n",
      "35632 USO\n",
      "===posible caso: 35825 USO\n"
     ]
    },
    {
     "name": "stdout",
     "output_type": "stream",
     "text": [
      "===posible caso: 35925 USO\n",
      "===posible caso: 35954 USO\n",
      "===posible caso: 35984 USO\n"
     ]
    },
    {
     "name": "stdout",
     "output_type": "stream",
     "text": [
      "===posible caso: 36024 USO\n",
      "h1\n",
      "36024 USO\n",
      "===posible caso: 36229 USO\n"
     ]
    },
    {
     "name": "stdout",
     "output_type": "stream",
     "text": [
      "===posible caso: 36276 USO\n",
      "h1\n",
      "36276 USO\n",
      "===posible caso: 36298 USO\n"
     ]
    },
    {
     "name": "stdout",
     "output_type": "stream",
     "text": [
      "h1\n",
      "36298 USO\n",
      "===posible caso: 36380 USO\n",
      "===posible caso: 36449 USO\n",
      "===posible caso: 36534 USO\n"
     ]
    },
    {
     "name": "stdout",
     "output_type": "stream",
     "text": [
      "h1\n",
      "36534 USO\n",
      "===posible caso: 36552 USO\n",
      "h1\n",
      "36552 USO\n",
      "===posible caso: 36572 USO\n"
     ]
    },
    {
     "name": "stdout",
     "output_type": "stream",
     "text": [
      "h1\n",
      "36572 USO\n",
      "===posible caso: 36612 USO\n",
      "===posible caso: 36633 USO\n"
     ]
    },
    {
     "name": "stdout",
     "output_type": "stream",
     "text": [
      "h1\n",
      "36633 USO\n",
      "===posible caso: 36698 USO\n",
      "===posible caso: 36782 USO\n"
     ]
    },
    {
     "name": "stdout",
     "output_type": "stream",
     "text": [
      "h1\n",
      "36782 USO\n",
      "===posible caso: 36885 USO\n",
      "h2\n",
      "h4\n",
      "h1\n",
      "36885 USO\n",
      "===posible caso: 36953 USO\n",
      "===posible caso: 36996 USO\n"
     ]
    },
    {
     "name": "stdout",
     "output_type": "stream",
     "text": [
      "===posible caso: 37108 USO\n",
      "===posible caso: 37210 USO\n"
     ]
    },
    {
     "name": "stdout",
     "output_type": "stream",
     "text": [
      "h1\n",
      "37210 USO\n",
      "===posible caso: 37312 USO\n",
      "h1\n",
      "37312 USO\n",
      "===posible caso: 37395 USO\n"
     ]
    },
    {
     "name": "stdout",
     "output_type": "stream",
     "text": [
      "===posible caso: 37413 USO\n",
      "h1\n",
      "37413 USO\n",
      "===posible caso: 37465 USO\n"
     ]
    },
    {
     "name": "stdout",
     "output_type": "stream",
     "text": [
      "===posible caso: 37601 USO\n",
      "===posible caso: 37670 USO\n"
     ]
    },
    {
     "name": "stdout",
     "output_type": "stream",
     "text": [
      "===posible caso: 37767 USO\n",
      "===posible caso: 37812 USO\n"
     ]
    },
    {
     "name": "stdout",
     "output_type": "stream",
     "text": [
      "h1\n",
      "37812 USO\n",
      "===posible caso: 37828 USO\n",
      "h1\n",
      "37828 USO\n",
      "===posible caso: 37905 USO\n"
     ]
    },
    {
     "name": "stdout",
     "output_type": "stream",
     "text": [
      "===posible caso: 37999 USO\n",
      "h1\n",
      "37999 USO\n",
      "===posible caso: 38018 USO\n"
     ]
    },
    {
     "name": "stdout",
     "output_type": "stream",
     "text": [
      "h1\n",
      "38018 USO\n",
      "===posible caso: 38090 USO\n",
      "h1\n",
      "38090 USO\n",
      "===posible caso: 38138 USO\n"
     ]
    },
    {
     "name": "stdout",
     "output_type": "stream",
     "text": [
      "===posible caso: 38223 USO\n",
      "===posible caso: 38261 USO\n",
      "===posible caso: 38302 USO\n",
      "===posible caso: 38339 USO\n",
      "===posible caso: 38400 USO\n",
      "===posible caso: 38468 USO\n"
     ]
    },
    {
     "name": "stdout",
     "output_type": "stream",
     "text": [
      "h1\n",
      "38468 USO\n",
      "===posible caso: 38509 USO\n",
      "===posible caso: 38543 USO\n",
      "===posible caso: 38596 USO\n"
     ]
    },
    {
     "name": "stdout",
     "output_type": "stream",
     "text": [
      "h1\n",
      "38596 USO\n",
      "===posible caso: 38701 USO\n",
      "===posible caso: 38798 USO\n",
      "===posible caso: 38826 USO\n"
     ]
    },
    {
     "name": "stdout",
     "output_type": "stream",
     "text": [
      "h3\n",
      "h4\n",
      "h3\n",
      "h4\n",
      "h3\n",
      "h4\n",
      "h3\n",
      "h4\n",
      "38826 USO\n",
      "===posible caso: 38896 USO\n",
      "===posible caso: 38991 BAC\n"
     ]
    },
    {
     "name": "stdout",
     "output_type": "stream",
     "text": [
      "===posible caso: 39034 BAC\n",
      "===posible caso: 39085 BAC\n",
      "===posible caso: 39159 BAC\n",
      "===posible caso: 39268 BAC\n",
      "===posible caso: 39470 BAC\n",
      "===posible caso: 39510 BAC\n"
     ]
    },
    {
     "name": "stdout",
     "output_type": "stream",
     "text": [
      "h1\n",
      "39510 BAC\n",
      "===posible caso: 39556 BAC\n",
      "===posible caso: 39598 BAC\n",
      "===posible caso: 39676 BAC\n"
     ]
    },
    {
     "name": "stdout",
     "output_type": "stream",
     "text": [
      "h1\n",
      "39676 BAC\n",
      "===posible caso: 39744 BAC\n",
      "h2\n",
      "h4\n",
      "h1\n",
      "39744 BAC\n",
      "===posible caso: 39788 BAC\n",
      "===posible caso: 39884 BAC\n"
     ]
    },
    {
     "name": "stdout",
     "output_type": "stream",
     "text": [
      "===posible caso: 40003 BAC\n",
      "===posible caso: 40063 BAC\n"
     ]
    },
    {
     "name": "stdout",
     "output_type": "stream",
     "text": [
      "===posible caso: 40091 BAC\n",
      "===posible caso: 40206 BAC\n"
     ]
    },
    {
     "name": "stdout",
     "output_type": "stream",
     "text": [
      "===posible caso: 40254 BAC\n",
      "===posible caso: 40288 BAC\n"
     ]
    },
    {
     "name": "stdout",
     "output_type": "stream",
     "text": [
      "===posible caso: 40409 BAC\n",
      "===posible caso: 40472 BAC\n",
      "===posible caso: 40555 BAC\n"
     ]
    },
    {
     "name": "stdout",
     "output_type": "stream",
     "text": [
      "h1\n",
      "40555 BAC\n",
      "===posible caso: 40618 BAC\n",
      "h1\n",
      "40618 BAC\n",
      "===posible caso: 40697 BAC\n"
     ]
    },
    {
     "name": "stdout",
     "output_type": "stream",
     "text": [
      "===posible caso: 40745 BAC\n",
      "===posible caso: 40801 BAC\n",
      "h1\n",
      "40801 BAC\n",
      "===posible caso: 40969 BAC\n"
     ]
    },
    {
     "name": "stdout",
     "output_type": "stream",
     "text": [
      "h1\n",
      "40969 BAC\n",
      "===posible caso: 41042 BAC\n",
      "h1\n",
      "41042 BAC\n",
      "===posible caso: 41124 BAC\n"
     ]
    },
    {
     "name": "stdout",
     "output_type": "stream",
     "text": [
      "h1\n",
      "41124 BAC\n",
      "===posible caso: 41162 BAC\n",
      "===posible caso: 41203 BAC\n"
     ]
    },
    {
     "name": "stdout",
     "output_type": "stream",
     "text": [
      "===posible caso: 41256 BAC\n",
      "h1\n",
      "41256 BAC\n",
      "===posible caso: 41322 BAC\n",
      "===posible caso: 41360 BAC\n",
      "===posible caso: 41380 BAC\n"
     ]
    },
    {
     "name": "stdout",
     "output_type": "stream",
     "text": [
      "===posible caso: 41414 BAC\n",
      "h1\n",
      "41414 BAC\n",
      "===posible caso: 41462 BAC\n"
     ]
    },
    {
     "name": "stdout",
     "output_type": "stream",
     "text": [
      "===posible caso: 41494 BAC\n",
      "===posible caso: 41530 BAC\n"
     ]
    },
    {
     "name": "stdout",
     "output_type": "stream",
     "text": [
      "h1\n",
      "41530 BAC\n",
      "===posible caso: 41637 BAC\n",
      "===posible caso: 41676 BAC\n",
      "===posible caso: 41693 BAC\n"
     ]
    },
    {
     "name": "stdout",
     "output_type": "stream",
     "text": [
      "h1\n",
      "41693 BAC\n",
      "===posible caso: 41734 BAC\n",
      "===posible caso: 41888 BAC\n"
     ]
    },
    {
     "name": "stdout",
     "output_type": "stream",
     "text": [
      "===posible caso: 42007 BAC\n",
      "h1\n",
      "42007 BAC\n",
      "===posible caso: 42081 BAC\n"
     ]
    },
    {
     "name": "stdout",
     "output_type": "stream",
     "text": [
      "h1\n",
      "42081 BAC\n",
      "===posible caso: 42108 BAC\n",
      "===posible caso: 42247 BAC\n"
     ]
    },
    {
     "name": "stdout",
     "output_type": "stream",
     "text": [
      "h1\n",
      "42247 BAC\n",
      "===posible caso: 42266 BAC\n",
      "===posible caso: 42355 BAC\n"
     ]
    },
    {
     "name": "stdout",
     "output_type": "stream",
     "text": [
      "===posible caso: 42396 BAC\n",
      "h1\n",
      "42396 BAC\n",
      "===posible caso: 42520 CVX\n"
     ]
    },
    {
     "name": "stdout",
     "output_type": "stream",
     "text": [
      "===posible caso: 42567 CVX\n",
      "===posible caso: 42618 CVX\n",
      "===posible caso: 42721 CVX\n",
      "===posible caso: 42745 CVX\n"
     ]
    },
    {
     "name": "stdout",
     "output_type": "stream",
     "text": [
      "h1\n",
      "42745 CVX\n",
      "===posible caso: 42792 CVX\n",
      "===posible caso: 42897 CVX\n"
     ]
    },
    {
     "name": "stdout",
     "output_type": "stream",
     "text": [
      "h1\n",
      "42897 CVX\n",
      "===posible caso: 42947 CVX\n",
      "h1\n",
      "42947 CVX\n",
      "===posible caso: 43054 CVX\n"
     ]
    },
    {
     "name": "stdout",
     "output_type": "stream",
     "text": [
      "h1\n",
      "43054 CVX\n",
      "===posible caso: 43135 CVX\n",
      "h1\n",
      "43135 CVX\n",
      "===posible caso: 43184 CVX\n",
      "===posible caso: 43258 CVX\n"
     ]
    },
    {
     "name": "stdout",
     "output_type": "stream",
     "text": [
      "===posible caso: 43350 CVX\n",
      "h1\n",
      "43350 CVX\n",
      "===posible caso: 43371 CVX\n"
     ]
    },
    {
     "name": "stdout",
     "output_type": "stream",
     "text": [
      "===posible caso: 43535 CVX\n",
      "h1\n",
      "43535 CVX\n",
      "===posible caso: 43556 CVX\n"
     ]
    },
    {
     "name": "stdout",
     "output_type": "stream",
     "text": [
      "===posible caso: 43585 CVX\n",
      "h1\n",
      "43585 CVX\n",
      "===posible caso: 43625 CVX\n",
      "===posible caso: 43646 CVX\n"
     ]
    },
    {
     "name": "stdout",
     "output_type": "stream",
     "text": [
      "===posible caso: 43685 CVX\n",
      "h1\n",
      "43685 CVX\n",
      "===posible caso: 43706 CVX\n"
     ]
    },
    {
     "name": "stdout",
     "output_type": "stream",
     "text": [
      "h1\n",
      "43706 CVX\n",
      "===posible caso: 43772 CVX\n",
      "===posible caso: 43854 CVX\n"
     ]
    },
    {
     "name": "stdout",
     "output_type": "stream",
     "text": [
      "===posible caso: 43887 CVX\n",
      "h1\n",
      "43887 CVX\n",
      "===posible caso: 43966 CVX\n"
     ]
    },
    {
     "name": "stdout",
     "output_type": "stream",
     "text": [
      "===posible caso: 44034 CVX\n",
      "===posible caso: 44105 CVX\n",
      "===posible caso: 44131 CVX\n"
     ]
    },
    {
     "name": "stdout",
     "output_type": "stream",
     "text": [
      "h1\n",
      "44131 CVX\n",
      "===posible caso: 44236 CVX\n",
      "h1\n",
      "44236 CVX\n",
      "===posible caso: 44347 CVX\n"
     ]
    },
    {
     "name": "stdout",
     "output_type": "stream",
     "text": [
      "===posible caso: 44408 CVX\n",
      "h1\n",
      "44408 CVX\n",
      "===posible caso: 44487 CVX\n"
     ]
    },
    {
     "name": "stdout",
     "output_type": "stream",
     "text": [
      "h1\n",
      "44487 CVX\n",
      "===posible caso: 44534 CVX\n",
      "h1\n",
      "44534 CVX\n",
      "===posible caso: 44599 CVX\n",
      "===posible caso: 44674 CVX\n"
     ]
    },
    {
     "name": "stdout",
     "output_type": "stream",
     "text": [
      "===posible caso: 44723 CVX\n",
      "===posible caso: 44769 CVX\n",
      "===posible caso: 44896 CVX\n"
     ]
    },
    {
     "name": "stdout",
     "output_type": "stream",
     "text": [
      "===posible caso: 44940 CVX\n",
      "===posible caso: 44996 CVX\n",
      "h1\n",
      "44996 CVX\n",
      "===posible caso: 45224 CVX\n"
     ]
    },
    {
     "name": "stdout",
     "output_type": "stream",
     "text": [
      "===posible caso: 45259 CVX\n",
      "h1\n",
      "45259 CVX\n",
      "===posible caso: 45333 CVX\n"
     ]
    },
    {
     "name": "stdout",
     "output_type": "stream",
     "text": [
      "h1\n",
      "45333 CVX\n",
      "===posible caso: 45375 CVX\n",
      "===posible caso: 45458 CVX\n",
      "===posible caso: 45541 CVX\n"
     ]
    },
    {
     "name": "stdout",
     "output_type": "stream",
     "text": [
      "===posible caso: 45575 CVX\n",
      "===posible caso: 45616 CVX\n",
      "===posible caso: 45700 CVX\n"
     ]
    },
    {
     "name": "stdout",
     "output_type": "stream",
     "text": [
      "===posible caso: 45725 CVX\n",
      "===posible caso: 45775 CVX\n"
     ]
    },
    {
     "name": "stdout",
     "output_type": "stream",
     "text": [
      "===posible caso: 45871 CVX\n",
      "h1\n",
      "45871 CVX\n",
      "===posible caso: 46058 XOM\n"
     ]
    },
    {
     "name": "stdout",
     "output_type": "stream",
     "text": [
      "h1\n",
      "46058 XOM\n",
      "===posible caso: 46152 XOM\n",
      "h1\n",
      "46152 XOM\n",
      "===posible caso: 46216 XOM\n"
     ]
    },
    {
     "name": "stdout",
     "output_type": "stream",
     "text": [
      "===posible caso: 46262 XOM\n",
      "===posible caso: 46363 XOM\n"
     ]
    },
    {
     "name": "stdout",
     "output_type": "stream",
     "text": [
      "h1\n",
      "46363 XOM\n",
      "===posible caso: 46413 XOM\n",
      "===posible caso: 46479 XOM\n",
      "===posible caso: 46530 XOM\n"
     ]
    },
    {
     "name": "stdout",
     "output_type": "stream",
     "text": [
      "===posible caso: 46588 XOM\n",
      "===posible caso: 46661 XOM\n",
      "===posible caso: 46761 XOM\n"
     ]
    },
    {
     "name": "stdout",
     "output_type": "stream",
     "text": [
      "===posible caso: 46838 XOM\n",
      "===posible caso: 46883 XOM\n"
     ]
    },
    {
     "name": "stdout",
     "output_type": "stream",
     "text": [
      "===posible caso: 46993 XOM\n",
      "===posible caso: 47070 XOM\n"
     ]
    },
    {
     "name": "stdout",
     "output_type": "stream",
     "text": [
      "h1\n",
      "47070 XOM\n",
      "===posible caso: 47118 XOM\n",
      "===posible caso: 47180 XOM\n",
      "h1\n",
      "47180 XOM\n",
      "===posible caso: 47219 XOM\n"
     ]
    },
    {
     "name": "stdout",
     "output_type": "stream",
     "text": [
      "===posible caso: 47332 XOM\n",
      "h2\n",
      "h4\n",
      "h2\n",
      "h4\n",
      "h1\n",
      "47332 XOM\n",
      "===posible caso: 47388 XOM\n"
     ]
    },
    {
     "name": "stdout",
     "output_type": "stream",
     "text": [
      "h1\n",
      "47388 XOM\n",
      "===posible caso: 47421 XOM\n",
      "h1\n",
      "47421 XOM\n",
      "===posible caso: 47467 XOM\n"
     ]
    },
    {
     "name": "stdout",
     "output_type": "stream",
     "text": [
      "===posible caso: 47489 XOM\n",
      "===posible caso: 47535 XOM\n",
      "===posible caso: 47560 XOM\n"
     ]
    },
    {
     "name": "stdout",
     "output_type": "stream",
     "text": [
      "===posible caso: 47601 XOM\n",
      "h1\n",
      "47601 XOM\n",
      "===posible caso: 47665 XOM\n",
      "===posible caso: 47694 XOM\n"
     ]
    },
    {
     "name": "stdout",
     "output_type": "stream",
     "text": [
      "===posible caso: 47794 XOM\n",
      "h1\n",
      "47794 XOM\n",
      "===posible caso: 47881 XOM\n"
     ]
    },
    {
     "name": "stdout",
     "output_type": "stream",
     "text": [
      "h1\n",
      "47881 XOM\n",
      "===posible caso: 47942 XOM\n",
      "===posible caso: 47994 XOM\n",
      "===posible caso: 48034 XOM\n"
     ]
    },
    {
     "name": "stdout",
     "output_type": "stream",
     "text": [
      "h1\n",
      "48034 XOM\n",
      "===posible caso: 48074 XOM\n",
      "===posible caso: 48094 XOM\n",
      "===posible caso: 48208 XOM\n"
     ]
    },
    {
     "name": "stdout",
     "output_type": "stream",
     "text": [
      "===posible caso: 48273 XOM\n",
      "===posible caso: 48312 XOM\n"
     ]
    },
    {
     "name": "stdout",
     "output_type": "stream",
     "text": [
      "===posible caso: 48350 XOM\n",
      "===posible caso: 48429 XOM\n",
      "===posible caso: 48704 XOM\n",
      "===posible caso: 48755 XOM\n"
     ]
    },
    {
     "name": "stdout",
     "output_type": "stream",
     "text": [
      "===posible caso: 48793 XOM\n",
      "h1\n",
      "48793 XOM\n",
      "===posible caso: 48867 XOM\n"
     ]
    },
    {
     "name": "stdout",
     "output_type": "stream",
     "text": [
      "===posible caso: 48912 XOM\n",
      "===posible caso: 48997 XOM\n",
      "h1\n",
      "48997 XOM\n",
      "===posible caso: 49075 XOM\n"
     ]
    },
    {
     "name": "stdout",
     "output_type": "stream",
     "text": [
      "===posible caso: 49098 XOM\n",
      "h1\n",
      "49098 XOM\n",
      "===posible caso: 49150 XOM\n"
     ]
    },
    {
     "name": "stdout",
     "output_type": "stream",
     "text": [
      "===posible caso: 49203 XOM\n",
      "===posible caso: 49229 XOM\n"
     ]
    },
    {
     "name": "stdout",
     "output_type": "stream",
     "text": [
      "===posible caso: 49309 XOM\n",
      "===posible caso: 49375 XOM\n"
     ]
    },
    {
     "name": "stdout",
     "output_type": "stream",
     "text": [
      "h1\n",
      "49375 XOM\n",
      "===posible caso: 49416 XOM\n",
      "===posible caso: 49594 QQQ\n",
      "===posible caso: 49665 QQQ\n"
     ]
    },
    {
     "name": "stdout",
     "output_type": "stream",
     "text": [
      "h1\n",
      "49665 QQQ\n",
      "===posible caso: 49715 QQQ\n",
      "===posible caso: 49750 QQQ\n",
      "h1\n",
      "49750 QQQ\n",
      "===posible caso: 49796 QQQ\n",
      "===posible caso: 49844 QQQ\n",
      "===posible caso: 49881 QQQ\n"
     ]
    },
    {
     "name": "stdout",
     "output_type": "stream",
     "text": [
      "===posible caso: 49947 QQQ\n",
      "===posible caso: 50029 QQQ\n"
     ]
    },
    {
     "name": "stdout",
     "output_type": "stream",
     "text": [
      "===posible caso: 50086 QQQ\n",
      "h1\n",
      "50086 QQQ\n",
      "===posible caso: 50103 QQQ\n"
     ]
    },
    {
     "name": "stdout",
     "output_type": "stream",
     "text": [
      "===posible caso: 50145 QQQ\n",
      "===posible caso: 50253 QQQ\n",
      "h1\n",
      "50253 QQQ\n",
      "===posible caso: 50290 QQQ\n"
     ]
    },
    {
     "name": "stdout",
     "output_type": "stream",
     "text": [
      "===posible caso: 50311 QQQ\n",
      "===posible caso: 50419 QQQ\n"
     ]
    },
    {
     "name": "stdout",
     "output_type": "stream",
     "text": [
      "h1\n",
      "50419 QQQ\n",
      "===posible caso: 50451 QQQ\n",
      "===posible caso: 50572 QQQ\n"
     ]
    },
    {
     "name": "stdout",
     "output_type": "stream",
     "text": [
      "h1\n",
      "50572 QQQ\n",
      "===posible caso: 50597 QQQ\n",
      "===posible caso: 50662 QQQ\n"
     ]
    },
    {
     "name": "stdout",
     "output_type": "stream",
     "text": [
      "h1\n",
      "50662 QQQ\n",
      "===posible caso: 50756 QQQ\n",
      "===posible caso: 50829 QQQ\n",
      "===posible caso: 50852 QQQ\n",
      "===posible caso: 50892 QQQ\n"
     ]
    },
    {
     "name": "stdout",
     "output_type": "stream",
     "text": [
      "===posible caso: 51035 QQQ\n",
      "h1\n",
      "51035 QQQ\n",
      "===posible caso: 51076 QQQ\n"
     ]
    },
    {
     "name": "stdout",
     "output_type": "stream",
     "text": [
      "h1\n",
      "51076 QQQ\n",
      "===posible caso: 51178 QQQ\n",
      "===posible caso: 51275 QQQ\n"
     ]
    },
    {
     "name": "stdout",
     "output_type": "stream",
     "text": [
      "h1\n",
      "51275 QQQ\n",
      "===posible caso: 51326 QQQ\n",
      "===posible caso: 51377 QQQ\n",
      "h1\n",
      "51377 QQQ\n",
      "===posible caso: 51435 QQQ\n"
     ]
    },
    {
     "name": "stdout",
     "output_type": "stream",
     "text": [
      "===posible caso: 51482 QQQ\n",
      "===posible caso: 51585 QQQ\n",
      "h1\n",
      "51585 QQQ\n",
      "===posible caso: 51625 QQQ\n"
     ]
    },
    {
     "name": "stdout",
     "output_type": "stream",
     "text": [
      "h1\n",
      "51625 QQQ\n",
      "===posible caso: 51724 QQQ\n",
      "h1\n",
      "51724 QQQ\n",
      "===posible caso: 51756 QQQ\n"
     ]
    },
    {
     "name": "stdout",
     "output_type": "stream",
     "text": [
      "===posible caso: 51840 QQQ\n",
      "===posible caso: 51886 QQQ\n"
     ]
    },
    {
     "name": "stdout",
     "output_type": "stream",
     "text": [
      "===posible caso: 51922 QQQ\n",
      "===posible caso: 51977 QQQ\n"
     ]
    },
    {
     "name": "stdout",
     "output_type": "stream",
     "text": [
      "===posible caso: 51997 QQQ\n",
      "===posible caso: 52149 QQQ\n"
     ]
    },
    {
     "name": "stdout",
     "output_type": "stream",
     "text": [
      "===posible caso: 52303 QQQ\n",
      "===posible caso: 52352 QQQ\n",
      "===posible caso: 52396 QQQ\n"
     ]
    },
    {
     "name": "stdout",
     "output_type": "stream",
     "text": [
      "===posible caso: 52438 QQQ\n",
      "===posible caso: 52542 QQQ\n",
      "===posible caso: 52564 QQQ\n"
     ]
    },
    {
     "name": "stdout",
     "output_type": "stream",
     "text": [
      "h1\n",
      "52564 QQQ\n",
      "===posible caso: 52608 QQQ\n",
      "===posible caso: 52795 QQQ\n"
     ]
    },
    {
     "name": "stdout",
     "output_type": "stream",
     "text": [
      "h1\n",
      "52795 QQQ\n",
      "===posible caso: 52884 QQQ\n",
      "===posible caso: 52918 QQQ\n",
      "===posible caso: 52968 QQQ\n"
     ]
    },
    {
     "name": "stdout",
     "output_type": "stream",
     "text": [
      "===posible caso: 53031 QQQ\n",
      "===posible caso: 53082 MSFT\n",
      "===posible caso: 53118 MSFT\n",
      "===posible caso: 53138 MSFT\n"
     ]
    },
    {
     "name": "stdout",
     "output_type": "stream",
     "text": [
      "h1\n",
      "53138 MSFT\n",
      "===posible caso: 53177 MSFT\n",
      "===posible caso: 53195 MSFT\n",
      "===posible caso: 53249 MSFT\n",
      "===posible caso: 53284 MSFT\n"
     ]
    },
    {
     "name": "stdout",
     "output_type": "stream",
     "text": [
      "h1\n",
      "53284 MSFT\n",
      "===posible caso: 53376 MSFT\n",
      "===posible caso: 53433 MSFT\n",
      "===posible caso: 53461 MSFT\n"
     ]
    },
    {
     "name": "stdout",
     "output_type": "stream",
     "text": [
      "===posible caso: 53480 MSFT\n",
      "h1\n",
      "53480 MSFT\n",
      "===posible caso: 53568 MSFT\n"
     ]
    },
    {
     "name": "stdout",
     "output_type": "stream",
     "text": [
      "h1\n",
      "53568 MSFT\n",
      "===posible caso: 53632 MSFT\n",
      "===posible caso: 53656 MSFT\n"
     ]
    },
    {
     "name": "stdout",
     "output_type": "stream",
     "text": [
      "h1\n",
      "53656 MSFT\n",
      "===posible caso: 53686 MSFT\n",
      "===posible caso: 53844 MSFT\n",
      "h1\n",
      "53844 MSFT\n",
      "===posible caso: 53915 MSFT\n"
     ]
    },
    {
     "name": "stdout",
     "output_type": "stream",
     "text": [
      "===posible caso: 53952 MSFT\n",
      "===posible caso: 53971 MSFT\n",
      "h1\n",
      "53971 MSFT\n",
      "===posible caso: 53992 MSFT\n"
     ]
    },
    {
     "name": "stdout",
     "output_type": "stream",
     "text": [
      "===posible caso: 54014 MSFT\n",
      "h1\n",
      "54014 MSFT\n",
      "===posible caso: 54132 MSFT\n"
     ]
    },
    {
     "name": "stdout",
     "output_type": "stream",
     "text": [
      "===posible caso: 54194 MSFT\n",
      "===posible caso: 54295 MSFT\n"
     ]
    },
    {
     "name": "stdout",
     "output_type": "stream",
     "text": [
      "===posible caso: 54350 MSFT\n",
      "===posible caso: 54386 MSFT\n"
     ]
    },
    {
     "name": "stdout",
     "output_type": "stream",
     "text": [
      "h1\n",
      "54386 MSFT\n",
      "===posible caso: 54450 MSFT\n",
      "===posible caso: 54559 MSFT\n",
      "===posible caso: 54607 MSFT\n",
      "===posible caso: 54694 MSFT\n"
     ]
    },
    {
     "name": "stdout",
     "output_type": "stream",
     "text": [
      "h1\n",
      "54694 MSFT\n",
      "===posible caso: 54809 MSFT\n",
      "h1\n",
      "54809 MSFT\n",
      "===posible caso: 54853 MSFT\n"
     ]
    },
    {
     "name": "stdout",
     "output_type": "stream",
     "text": [
      "h1\n",
      "54853 MSFT\n",
      "===posible caso: 54887 MSFT\n",
      "===posible caso: 54911 MSFT\n"
     ]
    },
    {
     "name": "stdout",
     "output_type": "stream",
     "text": [
      "h1\n",
      "54911 MSFT\n",
      "===posible caso: 55112 MSFT\n",
      "h1\n",
      "55112 MSFT\n",
      "===posible caso: 55157 MSFT\n",
      "===posible caso: 55255 MSFT\n"
     ]
    },
    {
     "name": "stdout",
     "output_type": "stream",
     "text": [
      "===posible caso: 55374 MSFT\n",
      "===posible caso: 55420 MSFT\n",
      "===posible caso: 55437 MSFT\n"
     ]
    },
    {
     "name": "stdout",
     "output_type": "stream",
     "text": [
      "===posible caso: 55458 MSFT\n",
      "===posible caso: 55505 MSFT\n",
      "===posible caso: 55562 MSFT\n"
     ]
    },
    {
     "name": "stdout",
     "output_type": "stream",
     "text": [
      "===posible caso: 55665 MSFT\n",
      "h1\n",
      "55665 MSFT\n",
      "===posible caso: 55691 MSFT\n"
     ]
    },
    {
     "name": "stdout",
     "output_type": "stream",
     "text": [
      "===posible caso: 55728 MSFT\n",
      "===posible caso: 55848 MSFT\n",
      "===posible caso: 55976 MSFT\n",
      "===posible caso: 56098 MSFT\n"
     ]
    },
    {
     "name": "stdout",
     "output_type": "stream",
     "text": [
      "===posible caso: 56137 MSFT\n",
      "===posible caso: 56234 MSFT\n"
     ]
    },
    {
     "name": "stdout",
     "output_type": "stream",
     "text": [
      "h1\n",
      "56234 MSFT\n",
      "===posible caso: 56334 MSFT\n",
      "h1\n",
      "56334 MSFT\n",
      "===posible caso: 56408 MSFT\n"
     ]
    },
    {
     "name": "stdout",
     "output_type": "stream",
     "text": [
      "===posible caso: 56484 MSFT\n",
      "===posible caso: 56516 MSFT\n"
     ]
    },
    {
     "name": "stdout",
     "output_type": "stream",
     "text": [
      "===posible caso: 56537 MSFT\n",
      "===posible caso: 56662 NVDA\n"
     ]
    },
    {
     "name": "stdout",
     "output_type": "stream",
     "text": [
      "===posible caso: 56679 NVDA\n",
      "===posible caso: 56711 NVDA\n"
     ]
    },
    {
     "name": "stdout",
     "output_type": "stream",
     "text": [
      "h1\n",
      "56711 NVDA\n",
      "===posible caso: 56730 NVDA\n",
      "h1\n",
      "56730 NVDA\n",
      "===posible caso: 56776 NVDA\n",
      "===posible caso: 56829 NVDA\n"
     ]
    },
    {
     "name": "stdout",
     "output_type": "stream",
     "text": [
      "===posible caso: 56918 NVDA\n",
      "h1\n",
      "56918 NVDA\n",
      "===posible caso: 56945 NVDA\n"
     ]
    },
    {
     "name": "stdout",
     "output_type": "stream",
     "text": [
      "===posible caso: 57008 NVDA\n",
      "===posible caso: 57063 NVDA\n",
      "===posible caso: 57097 NVDA\n",
      "===posible caso: 57154 NVDA\n"
     ]
    },
    {
     "name": "stdout",
     "output_type": "stream",
     "text": [
      "h1\n",
      "57154 NVDA\n",
      "===posible caso: 57318 NVDA\n",
      "===posible caso: 57345 NVDA\n"
     ]
    },
    {
     "name": "stdout",
     "output_type": "stream",
     "text": [
      "===posible caso: 57432 NVDA\n",
      "===posible caso: 57475 NVDA\n",
      "===posible caso: 57526 NVDA\n"
     ]
    },
    {
     "name": "stdout",
     "output_type": "stream",
     "text": [
      "===posible caso: 57641 NVDA\n",
      "h1\n",
      "57641 NVDA\n",
      "===posible caso: 57666 NVDA\n"
     ]
    },
    {
     "name": "stdout",
     "output_type": "stream",
     "text": [
      "===posible caso: 57743 NVDA\n",
      "===posible caso: 57759 NVDA\n"
     ]
    },
    {
     "name": "stdout",
     "output_type": "stream",
     "text": [
      "h1\n",
      "57759 NVDA\n",
      "===posible caso: 57794 NVDA\n",
      "h1\n",
      "57794 NVDA\n",
      "===posible caso: 57855 NVDA\n"
     ]
    },
    {
     "name": "stdout",
     "output_type": "stream",
     "text": [
      "h1\n",
      "57855 NVDA\n",
      "===posible caso: 57932 NVDA\n",
      "===posible caso: 58096 NVDA\n",
      "===posible caso: 58141 NVDA\n"
     ]
    },
    {
     "name": "stdout",
     "output_type": "stream",
     "text": [
      "===posible caso: 58192 NVDA\n",
      "h1\n",
      "58192 NVDA\n",
      "===posible caso: 58252 NVDA\n"
     ]
    },
    {
     "name": "stdout",
     "output_type": "stream",
     "text": [
      "===posible caso: 58288 NVDA\n",
      "===posible caso: 58353 NVDA\n",
      "h1\n",
      "58353 NVDA\n",
      "===posible caso: 58394 NVDA\n"
     ]
    },
    {
     "name": "stdout",
     "output_type": "stream",
     "text": [
      "h1\n",
      "58394 NVDA\n",
      "===posible caso: 58445 NVDA\n",
      "h1\n",
      "58445 NVDA\n",
      "===posible caso: 58641 NVDA\n"
     ]
    },
    {
     "name": "stdout",
     "output_type": "stream",
     "text": [
      "h1\n",
      "58641 NVDA\n",
      "===posible caso: 58663 NVDA\n",
      "===posible caso: 58758 NVDA\n",
      "===posible caso: 58824 NVDA\n"
     ]
    },
    {
     "name": "stdout",
     "output_type": "stream",
     "text": [
      "===posible caso: 58908 NVDA\n",
      "===posible caso: 58955 NVDA\n"
     ]
    },
    {
     "name": "stdout",
     "output_type": "stream",
     "text": [
      "===posible caso: 58972 NVDA\n",
      "===posible caso: 58990 NVDA\n",
      "===posible caso: 59055 NVDA\n"
     ]
    },
    {
     "name": "stdout",
     "output_type": "stream",
     "text": [
      "===posible caso: 59109 NVDA\n",
      "===posible caso: 59165 NVDA\n",
      "h1\n",
      "59165 NVDA\n",
      "===posible caso: 59196 NVDA\n"
     ]
    },
    {
     "name": "stdout",
     "output_type": "stream",
     "text": [
      "===posible caso: 59255 NVDA\n",
      "h1\n",
      "59255 NVDA\n",
      "===posible caso: 59300 NVDA\n"
     ]
    },
    {
     "name": "stdout",
     "output_type": "stream",
     "text": [
      "===posible caso: 59373 NVDA\n",
      "===posible caso: 59419 NVDA\n"
     ]
    },
    {
     "name": "stdout",
     "output_type": "stream",
     "text": [
      "h1\n",
      "59419 NVDA\n",
      "===posible caso: 59465 NVDA\n",
      "===posible caso: 59496 NVDA\n"
     ]
    },
    {
     "name": "stdout",
     "output_type": "stream",
     "text": [
      "h1\n",
      "59496 NVDA\n",
      "===posible caso: 59627 NVDA\n",
      "h1\n",
      "59627 NVDA\n",
      "===posible caso: 59777 NVDA\n"
     ]
    },
    {
     "name": "stdout",
     "output_type": "stream",
     "text": [
      "===posible caso: 59827 NVDA\n",
      "===posible caso: 59863 NVDA\n",
      "h2\n",
      "h4\n",
      "h2\n",
      "h4\n",
      "h1\n",
      "59863 NVDA\n",
      "===posible caso: 59925 NVDA\n"
     ]
    },
    {
     "name": "stdout",
     "output_type": "stream",
     "text": [
      "h1\n",
      "59925 NVDA\n",
      "===posible caso: 59952 NVDA\n",
      "h1\n",
      "59952 NVDA\n",
      "===posible caso: 59986 NVDA\n",
      "===posible caso: 60014 NVDA\n"
     ]
    },
    {
     "name": "stdout",
     "output_type": "stream",
     "text": [
      "===posible caso: 60036 NVDA\n",
      "===posible caso: 60067 NVDA\n",
      "h3\n",
      "h4\n",
      "h3\n",
      "h4\n",
      "h3\n",
      "h4\n",
      "h3\n",
      "h4\n",
      "60067 NVDA\n",
      "===posible caso: 60097 NVDA\n"
     ]
    },
    {
     "name": "stdout",
     "output_type": "stream",
     "text": [
      "===posible caso: 60148 WMT\n",
      "h1\n",
      "60148 WMT\n",
      "===posible caso: 60201 WMT\n"
     ]
    },
    {
     "name": "stdout",
     "output_type": "stream",
     "text": [
      "h1\n",
      "60201 WMT\n",
      "===posible caso: 60231 WMT\n",
      "h1\n",
      "60231 WMT\n",
      "===posible caso: 60316 WMT\n"
     ]
    },
    {
     "name": "stdout",
     "output_type": "stream",
     "text": [
      "h1\n",
      "60316 WMT\n",
      "===posible caso: 60371 WMT\n",
      "===posible caso: 60388 WMT\n"
     ]
    },
    {
     "name": "stdout",
     "output_type": "stream",
     "text": [
      "===posible caso: 60487 WMT\n",
      "h1\n",
      "60487 WMT\n",
      "===posible caso: 60551 WMT\n"
     ]
    },
    {
     "name": "stdout",
     "output_type": "stream",
     "text": [
      "h1\n",
      "60551 WMT\n",
      "===posible caso: 60718 WMT\n",
      "h1\n",
      "60718 WMT\n",
      "===posible caso: 60750 WMT\n",
      "===posible caso: 60795 WMT\n",
      "===posible caso: 60815 WMT\n"
     ]
    },
    {
     "name": "stdout",
     "output_type": "stream",
     "text": [
      "h1\n",
      "60815 WMT\n",
      "===posible caso: 60860 WMT\n",
      "===posible caso: 60909 WMT\n"
     ]
    },
    {
     "name": "stdout",
     "output_type": "stream",
     "text": [
      "===posible caso: 61076 WMT\n",
      "===posible caso: 61149 WMT\n"
     ]
    },
    {
     "name": "stdout",
     "output_type": "stream",
     "text": [
      "===posible caso: 61225 WMT\n",
      "===posible caso: 61249 WMT\n"
     ]
    },
    {
     "name": "stdout",
     "output_type": "stream",
     "text": [
      "===posible caso: 61269 WMT\n",
      "h1\n",
      "61269 WMT\n",
      "===posible caso: 61298 WMT\n"
     ]
    },
    {
     "name": "stdout",
     "output_type": "stream",
     "text": [
      "===posible caso: 61328 WMT\n",
      "h1\n",
      "61328 WMT\n",
      "===posible caso: 61385 WMT\n"
     ]
    },
    {
     "name": "stdout",
     "output_type": "stream",
     "text": [
      "h1\n",
      "61385 WMT\n",
      "===posible caso: 61408 WMT\n",
      "h1\n",
      "61408 WMT\n",
      "===posible caso: 61523 WMT\n"
     ]
    },
    {
     "name": "stdout",
     "output_type": "stream",
     "text": [
      "===posible caso: 61623 WMT\n",
      "===posible caso: 61683 WMT\n",
      "h1\n",
      "61683 WMT\n",
      "===posible caso: 61704 WMT\n"
     ]
    },
    {
     "name": "stdout",
     "output_type": "stream",
     "text": [
      "h1\n",
      "61704 WMT\n",
      "===posible caso: 61767 WMT\n",
      "===posible caso: 61826 WMT\n"
     ]
    },
    {
     "name": "stdout",
     "output_type": "stream",
     "text": [
      "h1\n",
      "61826 WMT\n",
      "===posible caso: 61901 WMT\n",
      "===posible caso: 61979 WMT\n"
     ]
    },
    {
     "name": "stdout",
     "output_type": "stream",
     "text": [
      "===posible caso: 62023 WMT\n",
      "===posible caso: 62109 WMT\n",
      "===posible caso: 62138 WMT\n"
     ]
    },
    {
     "name": "stdout",
     "output_type": "stream",
     "text": [
      "===posible caso: 62240 WMT\n",
      "===posible caso: 62356 WMT\n"
     ]
    },
    {
     "name": "stdout",
     "output_type": "stream",
     "text": [
      "===posible caso: 62403 WMT\n",
      "h1\n",
      "62403 WMT\n",
      "===posible caso: 62497 WMT\n",
      "===posible caso: 62576 WMT\n"
     ]
    },
    {
     "name": "stdout",
     "output_type": "stream",
     "text": [
      "===posible caso: 62601 WMT\n",
      "===posible caso: 62704 WMT\n"
     ]
    },
    {
     "name": "stdout",
     "output_type": "stream",
     "text": [
      "===posible caso: 62748 WMT\n",
      "h1\n",
      "62748 WMT\n",
      "===posible caso: 62797 WMT\n"
     ]
    },
    {
     "name": "stdout",
     "output_type": "stream",
     "text": [
      "===posible caso: 62858 WMT\n",
      "h1\n",
      "62858 WMT\n",
      "===posible caso: 62897 WMT\n"
     ]
    },
    {
     "name": "stdout",
     "output_type": "stream",
     "text": [
      "h2\n",
      "h4\n",
      "h1\n",
      "62897 WMT\n",
      "===posible caso: 63021 WMT\n",
      "h1\n",
      "63021 WMT\n",
      "===posible caso: 63071 WMT\n"
     ]
    },
    {
     "name": "stdout",
     "output_type": "stream",
     "text": [
      "h2\n",
      "h4\n",
      "h1\n",
      "63071 WMT\n",
      "===posible caso: 63092 WMT\n",
      "===posible caso: 63249 WMT\n"
     ]
    },
    {
     "name": "stdout",
     "output_type": "stream",
     "text": [
      "===posible caso: 63309 WMT\n",
      "h1\n",
      "63309 WMT\n",
      "===posible caso: 63344 WMT\n",
      "===posible caso: 63402 WMT\n"
     ]
    },
    {
     "name": "stdout",
     "output_type": "stream",
     "text": [
      "===posible caso: 63549 WMT\n",
      "h1\n",
      "63549 WMT\n",
      "===posible caso: 63584 WMT\n"
     ]
    },
    {
     "name": "stdout",
     "output_type": "stream",
     "text": [
      "h1\n",
      "63584 WMT\n",
      "===posible caso: 63715 BA\n",
      "===posible caso: 63744 BA\n",
      "===posible caso: 63764 BA\n"
     ]
    },
    {
     "name": "stdout",
     "output_type": "stream",
     "text": [
      "===posible caso: 63865 BA\n",
      "h1\n",
      "63865 BA\n",
      "===posible caso: 63912 BA\n"
     ]
    },
    {
     "name": "stdout",
     "output_type": "stream",
     "text": [
      "h1\n",
      "63912 BA\n",
      "===posible caso: 64011 BA\n",
      "===posible caso: 64213 BA\n",
      "===posible caso: 64249 BA\n",
      "h1\n",
      "64249 BA\n",
      "===posible caso: 64284 BA\n",
      "===posible caso: 64332 BA\n"
     ]
    },
    {
     "name": "stdout",
     "output_type": "stream",
     "text": [
      "===posible caso: 64388 BA\n",
      "===posible caso: 64464 BA\n"
     ]
    },
    {
     "name": "stdout",
     "output_type": "stream",
     "text": [
      "===posible caso: 64533 BA\n",
      "===posible caso: 64556 BA\n"
     ]
    },
    {
     "name": "stdout",
     "output_type": "stream",
     "text": [
      "h1\n",
      "64556 BA\n",
      "===posible caso: 64626 BA\n",
      "===posible caso: 64710 BA\n"
     ]
    },
    {
     "name": "stdout",
     "output_type": "stream",
     "text": [
      "h1\n",
      "64710 BA\n",
      "===posible caso: 64823 BA\n",
      "h1\n",
      "64823 BA\n",
      "===posible caso: 64962 BA\n",
      "===posible caso: 65002 BA\n"
     ]
    },
    {
     "name": "stdout",
     "output_type": "stream",
     "text": [
      "===posible caso: 65026 BA\n",
      "===posible caso: 65126 BA\n",
      "===posible caso: 65207 BA\n"
     ]
    },
    {
     "name": "stdout",
     "output_type": "stream",
     "text": [
      "===posible caso: 65275 BA\n",
      "===posible caso: 65363 BA\n"
     ]
    },
    {
     "name": "stdout",
     "output_type": "stream",
     "text": [
      "h1\n",
      "65363 BA\n",
      "===posible caso: 65471 BA\n",
      "===posible caso: 65493 BA\n"
     ]
    },
    {
     "name": "stdout",
     "output_type": "stream",
     "text": [
      "h1\n",
      "65493 BA\n",
      "===posible caso: 65515 BA\n",
      "h1\n",
      "65515 BA\n",
      "===posible caso: 65549 BA\n",
      "===posible caso: 65593 BA\n"
     ]
    },
    {
     "name": "stdout",
     "output_type": "stream",
     "text": [
      "===posible caso: 65615 BA\n",
      "h1\n",
      "65615 BA\n",
      "===posible caso: 65701 BA\n"
     ]
    },
    {
     "name": "stdout",
     "output_type": "stream",
     "text": [
      "===posible caso: 65801 BA\n",
      "===posible caso: 65875 BA\n",
      "===posible caso: 65900 BA\n",
      "===posible caso: 66011 BA\n"
     ]
    },
    {
     "name": "stdout",
     "output_type": "stream",
     "text": [
      "===posible caso: 66113 BA\n",
      "h1\n",
      "66113 BA\n",
      "===posible caso: 66211 BA\n"
     ]
    },
    {
     "name": "stdout",
     "output_type": "stream",
     "text": [
      "h1\n",
      "66211 BA\n",
      "===posible caso: 66326 BA\n",
      "===posible caso: 66378 BA\n",
      "===posible caso: 66465 BA\n"
     ]
    },
    {
     "name": "stdout",
     "output_type": "stream",
     "text": [
      "h1\n",
      "66465 BA\n",
      "===posible caso: 66521 BA\n",
      "h1\n",
      "66521 BA\n",
      "===posible caso: 66563 BA\n"
     ]
    },
    {
     "name": "stdout",
     "output_type": "stream",
     "text": [
      "===posible caso: 66595 BA\n",
      "h1\n",
      "66595 BA\n",
      "===posible caso: 66836 BA\n"
     ]
    },
    {
     "name": "stdout",
     "output_type": "stream",
     "text": [
      "h1\n",
      "66836 BA\n",
      "===posible caso: 66861 BA\n",
      "h2\n",
      "h4\n",
      "h1\n",
      "66861 BA\n",
      "===posible caso: 66899 BA\n"
     ]
    },
    {
     "name": "stdout",
     "output_type": "stream",
     "text": [
      "h1\n",
      "66899 BA\n",
      "===posible caso: 66930 BA\n",
      "===posible caso: 66992 BA\n"
     ]
    },
    {
     "name": "stdout",
     "output_type": "stream",
     "text": [
      "===posible caso: 67012 BA\n",
      "===posible caso: 67053 BA\n"
     ]
    },
    {
     "name": "stdout",
     "output_type": "stream",
     "text": [
      "===posible caso: 67077 BA\n",
      "h1\n",
      "67077 BA\n",
      "===posible caso: 67149 BA\n",
      "===posible caso: 67263 DIS\n"
     ]
    },
    {
     "name": "stdout",
     "output_type": "stream",
     "text": [
      "===posible caso: 67311 DIS\n",
      "===posible caso: 67356 DIS\n",
      "===posible caso: 67398 DIS\n"
     ]
    },
    {
     "name": "stdout",
     "output_type": "stream",
     "text": [
      "===posible caso: 67450 DIS\n",
      "===posible caso: 67621 DIS\n"
     ]
    },
    {
     "name": "stdout",
     "output_type": "stream",
     "text": [
      "===posible caso: 67652 DIS\n",
      "h1\n",
      "67652 DIS\n",
      "===posible caso: 67704 DIS\n"
     ]
    },
    {
     "name": "stdout",
     "output_type": "stream",
     "text": [
      "h1\n",
      "67704 DIS\n",
      "===posible caso: 67745 DIS\n",
      "h1\n",
      "67745 DIS\n",
      "===posible caso: 67777 DIS\n",
      "===posible caso: 67870 DIS\n"
     ]
    },
    {
     "name": "stdout",
     "output_type": "stream",
     "text": [
      "===posible caso: 67896 DIS\n",
      "h2\n",
      "h4\n",
      "h1\n",
      "67896 DIS\n",
      "===posible caso: 67964 DIS\n"
     ]
    },
    {
     "name": "stdout",
     "output_type": "stream",
     "text": [
      "===posible caso: 68086 DIS\n",
      "h1\n",
      "68086 DIS\n",
      "===posible caso: 68146 DIS\n",
      "===posible caso: 68168 DIS\n"
     ]
    },
    {
     "name": "stdout",
     "output_type": "stream",
     "text": [
      "===posible caso: 68204 DIS\n",
      "===posible caso: 68231 DIS\n",
      "h1\n",
      "68231 DIS\n",
      "===posible caso: 68267 DIS\n"
     ]
    },
    {
     "name": "stdout",
     "output_type": "stream",
     "text": [
      "===posible caso: 68320 DIS\n",
      "===posible caso: 68358 DIS\n"
     ]
    },
    {
     "name": "stdout",
     "output_type": "stream",
     "text": [
      "===posible caso: 68439 DIS\n",
      "===posible caso: 68478 DIS\n",
      "===posible caso: 68556 DIS\n"
     ]
    },
    {
     "name": "stdout",
     "output_type": "stream",
     "text": [
      "h1\n",
      "68556 DIS\n",
      "===posible caso: 68574 DIS\n",
      "h1\n",
      "68574 DIS\n",
      "===posible caso: 68741 DIS\n"
     ]
    },
    {
     "name": "stdout",
     "output_type": "stream",
     "text": [
      "h1\n",
      "68741 DIS\n",
      "===posible caso: 68844 DIS\n",
      "===posible caso: 68869 DIS\n",
      "===posible caso: 68969 DIS\n"
     ]
    },
    {
     "name": "stdout",
     "output_type": "stream",
     "text": [
      "h1\n",
      "68969 DIS\n",
      "===posible caso: 69019 DIS\n",
      "===posible caso: 69074 DIS\n"
     ]
    },
    {
     "name": "stdout",
     "output_type": "stream",
     "text": [
      "===posible caso: 69147 DIS\n",
      "===posible caso: 69179 DIS\n",
      "===posible caso: 69201 DIS\n",
      "===posible caso: 69242 DIS\n"
     ]
    },
    {
     "name": "stdout",
     "output_type": "stream",
     "text": [
      "h1\n",
      "69242 DIS\n",
      "===posible caso: 69278 DIS\n",
      "h1\n",
      "69278 DIS\n",
      "===posible caso: 69391 DIS\n"
     ]
    },
    {
     "name": "stdout",
     "output_type": "stream",
     "text": [
      "h1\n",
      "69391 DIS\n",
      "===posible caso: 69434 DIS\n",
      "===posible caso: 69541 DIS\n",
      "===posible caso: 69684 DIS\n"
     ]
    },
    {
     "name": "stdout",
     "output_type": "stream",
     "text": [
      "===posible caso: 69737 DIS\n",
      "===posible caso: 69773 DIS\n"
     ]
    },
    {
     "name": "stdout",
     "output_type": "stream",
     "text": [
      "===posible caso: 69806 DIS\n",
      "===posible caso: 69828 DIS\n",
      "===posible caso: 69903 DIS\n",
      "h1\n",
      "69903 DIS\n",
      "===posible caso: 69943 DIS\n",
      "===posible caso: 70008 DIS\n"
     ]
    },
    {
     "name": "stdout",
     "output_type": "stream",
     "text": [
      "===posible caso: 70105 DIS\n",
      "===posible caso: 70160 DIS\n"
     ]
    },
    {
     "name": "stdout",
     "output_type": "stream",
     "text": [
      "===posible caso: 70245 DIS\n",
      "===posible caso: 70278 DIS\n",
      "===posible caso: 70444 DIS\n",
      "h1\n",
      "70444 DIS\n",
      "===posible caso: 70465 DIS\n"
     ]
    },
    {
     "name": "stdout",
     "output_type": "stream",
     "text": [
      "===posible caso: 70537 DIS\n",
      "===posible caso: 70610 DIS\n"
     ]
    },
    {
     "name": "stdout",
     "output_type": "stream",
     "text": [
      "h1\n",
      "70610 DIS\n",
      "===posible caso: 70637 DIS\n",
      "===posible caso: 70687 DIS\n"
     ]
    },
    {
     "name": "stdout",
     "output_type": "stream",
     "text": [
      "===posible caso: 70797 CAT\n",
      "===posible caso: 70833 CAT\n",
      "===posible caso: 70866 CAT\n"
     ]
    },
    {
     "name": "stdout",
     "output_type": "stream",
     "text": [
      "h1\n",
      "70866 CAT\n",
      "===posible caso: 70938 CAT\n",
      "===posible caso: 71098 CAT\n"
     ]
    },
    {
     "name": "stdout",
     "output_type": "stream",
     "text": [
      "===posible caso: 71134 CAT\n",
      "===posible caso: 71176 CAT\n",
      "===posible caso: 71276 CAT\n",
      "===posible caso: 71475 CAT\n"
     ]
    },
    {
     "name": "stdout",
     "output_type": "stream",
     "text": [
      "===posible caso: 71534 CAT\n",
      "===posible caso: 71622 CAT\n"
     ]
    },
    {
     "name": "stdout",
     "output_type": "stream",
     "text": [
      "h1\n",
      "71622 CAT\n",
      "===posible caso: 71648 CAT\n",
      "===posible caso: 71717 CAT\n"
     ]
    },
    {
     "name": "stdout",
     "output_type": "stream",
     "text": [
      "h1\n",
      "71717 CAT\n",
      "===posible caso: 71844 CAT\n",
      "===posible caso: 71966 CAT\n"
     ]
    },
    {
     "name": "stdout",
     "output_type": "stream",
     "text": [
      "h1\n",
      "71966 CAT\n",
      "===posible caso: 71991 CAT\n",
      "===posible caso: 72060 CAT\n"
     ]
    },
    {
     "name": "stdout",
     "output_type": "stream",
     "text": [
      "===posible caso: 72094 CAT\n",
      "===posible caso: 72119 CAT\n",
      "h2\n",
      "h4\n",
      "h1\n",
      "72119 CAT\n",
      "===posible caso: 72188 CAT\n",
      "===posible caso: 72215 CAT\n"
     ]
    },
    {
     "name": "stdout",
     "output_type": "stream",
     "text": [
      "===posible caso: 72239 CAT\n",
      "===posible caso: 72322 CAT\n"
     ]
    },
    {
     "name": "stdout",
     "output_type": "stream",
     "text": [
      "===posible caso: 72432 CAT\n",
      "===posible caso: 72453 CAT\n",
      "===posible caso: 72503 CAT\n"
     ]
    },
    {
     "name": "stdout",
     "output_type": "stream",
     "text": [
      "===posible caso: 72536 CAT\n",
      "===posible caso: 72553 CAT\n",
      "===posible caso: 72617 CAT\n"
     ]
    },
    {
     "name": "stdout",
     "output_type": "stream",
     "text": [
      "h1\n",
      "72617 CAT\n",
      "===posible caso: 72682 CAT\n",
      "===posible caso: 72759 CAT\n"
     ]
    },
    {
     "name": "stdout",
     "output_type": "stream",
     "text": [
      "===posible caso: 72806 CAT\n",
      "h1\n",
      "72806 CAT\n",
      "===posible caso: 72840 CAT\n"
     ]
    },
    {
     "name": "stdout",
     "output_type": "stream",
     "text": [
      "===posible caso: 72872 CAT\n",
      "===posible caso: 72928 CAT\n",
      "===posible caso: 72968 CAT\n"
     ]
    },
    {
     "name": "stdout",
     "output_type": "stream",
     "text": [
      "h1\n",
      "72968 CAT\n",
      "===posible caso: 72985 CAT\n",
      "===posible caso: 73010 CAT\n"
     ]
    },
    {
     "name": "stdout",
     "output_type": "stream",
     "text": [
      "===posible caso: 73068 CAT\n",
      "===posible caso: 73166 CAT\n",
      "===posible caso: 73276 CAT\n"
     ]
    },
    {
     "name": "stdout",
     "output_type": "stream",
     "text": [
      "===posible caso: 73399 CAT\n",
      "===posible caso: 73521 CAT\n"
     ]
    },
    {
     "name": "stdout",
     "output_type": "stream",
     "text": [
      "h1\n",
      "73521 CAT\n",
      "===posible caso: 73673 CAT\n",
      "===posible caso: 73727 CAT\n",
      "===posible caso: 73813 CAT\n",
      "===posible caso: 73851 CAT\n",
      "===posible caso: 73904 CAT\n"
     ]
    },
    {
     "name": "stdout",
     "output_type": "stream",
     "text": [
      "h1\n",
      "73904 CAT\n",
      "===posible caso: 73967 CAT\n",
      "===posible caso: 74004 CAT\n"
     ]
    },
    {
     "name": "stdout",
     "output_type": "stream",
     "text": [
      "h1\n",
      "74004 CAT\n",
      "===posible caso: 74046 CAT\n",
      "h1\n",
      "74046 CAT\n",
      "===posible caso: 74070 CAT\n"
     ]
    },
    {
     "name": "stdout",
     "output_type": "stream",
     "text": [
      "===posible caso: 74129 CAT\n",
      "===posible caso: 74186 CAT\n",
      "===posible caso: 74212 CAT\n"
     ]
    },
    {
     "name": "stdout",
     "output_type": "stream",
     "text": [
      "===posible caso: 74234 CAT\n",
      "===posible caso: 74337 IBM\n"
     ]
    },
    {
     "name": "stdout",
     "output_type": "stream",
     "text": [
      "===posible caso: 74375 IBM\n",
      "===posible caso: 74495 IBM\n",
      "===posible caso: 74548 IBM\n",
      "===posible caso: 74634 IBM\n"
     ]
    },
    {
     "name": "stdout",
     "output_type": "stream",
     "text": [
      "h1\n",
      "74634 IBM\n",
      "===posible caso: 74654 IBM\n",
      "===posible caso: 74808 IBM\n"
     ]
    },
    {
     "name": "stdout",
     "output_type": "stream",
     "text": [
      "h1\n",
      "74808 IBM\n",
      "===posible caso: 74844 IBM\n",
      "===posible caso: 74896 IBM\n",
      "===posible caso: 74940 IBM\n"
     ]
    },
    {
     "name": "stdout",
     "output_type": "stream",
     "text": [
      "===posible caso: 75069 IBM\n",
      "===posible caso: 75112 IBM\n"
     ]
    },
    {
     "name": "stdout",
     "output_type": "stream",
     "text": [
      "===posible caso: 75193 IBM\n",
      "h1\n",
      "75193 IBM\n",
      "===posible caso: 75315 IBM\n"
     ]
    },
    {
     "name": "stdout",
     "output_type": "stream",
     "text": [
      "===posible caso: 75341 IBM\n",
      "===posible caso: 75513 IBM\n"
     ]
    },
    {
     "name": "stdout",
     "output_type": "stream",
     "text": [
      "===posible caso: 75711 IBM\n",
      "===posible caso: 75823 IBM\n",
      "===posible caso: 75890 IBM\n"
     ]
    },
    {
     "name": "stdout",
     "output_type": "stream",
     "text": [
      "===posible caso: 75968 IBM\n",
      "h1\n",
      "75968 IBM\n",
      "===posible caso: 76035 IBM\n"
     ]
    },
    {
     "name": "stdout",
     "output_type": "stream",
     "text": [
      "===posible caso: 76081 IBM\n",
      "===posible caso: 76150 IBM\n",
      "===posible caso: 76188 IBM\n",
      "===posible caso: 76215 IBM\n"
     ]
    },
    {
     "name": "stdout",
     "output_type": "stream",
     "text": [
      "h1\n",
      "76215 IBM\n",
      "===posible caso: 76261 IBM\n",
      "===posible caso: 76387 IBM\n",
      "===posible caso: 76439 IBM\n"
     ]
    },
    {
     "name": "stdout",
     "output_type": "stream",
     "text": [
      "===posible caso: 76500 IBM\n",
      "h1\n",
      "76500 IBM\n",
      "===posible caso: 76561 IBM\n"
     ]
    },
    {
     "name": "stdout",
     "output_type": "stream",
     "text": [
      "h1\n",
      "76561 IBM\n",
      "===posible caso: 76584 IBM\n",
      "h1\n",
      "76584 IBM\n",
      "===posible caso: 76626 IBM\n"
     ]
    },
    {
     "name": "stdout",
     "output_type": "stream",
     "text": [
      "===posible caso: 76678 IBM\n",
      "===posible caso: 76711 IBM\n",
      "h1\n",
      "76711 IBM\n",
      "===posible caso: 76800 IBM\n"
     ]
    },
    {
     "name": "stdout",
     "output_type": "stream",
     "text": [
      "h1\n",
      "76800 IBM\n",
      "===posible caso: 76841 IBM\n",
      "===posible caso: 76870 IBM\n"
     ]
    },
    {
     "name": "stdout",
     "output_type": "stream",
     "text": [
      "h1\n",
      "76870 IBM\n",
      "===posible caso: 76911 IBM\n",
      "===posible caso: 76976 IBM\n",
      "h1\n",
      "76976 IBM\n",
      "===posible caso: 77031 IBM\n"
     ]
    },
    {
     "name": "stdout",
     "output_type": "stream",
     "text": [
      "===posible caso: 77052 IBM\n",
      "h1\n",
      "77052 IBM\n",
      "===posible caso: 77080 IBM\n"
     ]
    },
    {
     "name": "stdout",
     "output_type": "stream",
     "text": [
      "===posible caso: 77107 IBM\n",
      "h1\n",
      "77107 IBM\n",
      "===posible caso: 77183 IBM\n"
     ]
    },
    {
     "name": "stdout",
     "output_type": "stream",
     "text": [
      "===posible caso: 77239 IBM\n",
      "h1\n",
      "77239 IBM\n",
      "===posible caso: 77262 IBM\n"
     ]
    },
    {
     "name": "stdout",
     "output_type": "stream",
     "text": [
      "h1\n",
      "77262 IBM\n",
      "===posible caso: 77346 IBM\n",
      "===posible caso: 77452 IBM\n",
      "===posible caso: 77559 IBM\n"
     ]
    },
    {
     "name": "stdout",
     "output_type": "stream",
     "text": [
      "h1\n",
      "77559 IBM\n",
      "===posible caso: 77608 IBM\n",
      "===posible caso: 77687 IBM\n",
      "===posible caso: 77719 IBM\n"
     ]
    },
    {
     "name": "stdout",
     "output_type": "stream",
     "text": [
      "===posible caso: 77770 IBM\n",
      "===posible caso: 77869 WFC\n"
     ]
    },
    {
     "name": "stdout",
     "output_type": "stream",
     "text": [
      "h1\n",
      "77869 WFC\n",
      "===posible caso: 77947 WFC\n",
      "h1\n",
      "77947 WFC\n",
      "===posible caso: 78243 WFC\n"
     ]
    },
    {
     "name": "stdout",
     "output_type": "stream",
     "text": [
      "h1\n",
      "78243 WFC\n",
      "===posible caso: 78292 WFC\n",
      "===posible caso: 78340 WFC\n",
      "h2\n",
      "h4\n",
      "h1\n",
      "78340 WFC\n",
      "===posible caso: 78377 WFC\n"
     ]
    },
    {
     "name": "stdout",
     "output_type": "stream",
     "text": [
      "h1\n",
      "78377 WFC\n",
      "===posible caso: 78428 WFC\n",
      "===posible caso: 78470 WFC\n",
      "h1\n",
      "78470 WFC\n",
      "===posible caso: 78542 WFC\n"
     ]
    },
    {
     "name": "stdout",
     "output_type": "stream",
     "text": [
      "===posible caso: 78605 WFC\n",
      "h1\n",
      "78605 WFC\n",
      "===posible caso: 78667 WFC\n"
     ]
    },
    {
     "name": "stdout",
     "output_type": "stream",
     "text": [
      "===posible caso: 78957 WFC\n",
      "===posible caso: 79050 WFC\n"
     ]
    },
    {
     "name": "stdout",
     "output_type": "stream",
     "text": [
      "===posible caso: 79078 WFC\n",
      "===posible caso: 79183 WFC\n",
      "===posible caso: 79275 WFC\n"
     ]
    },
    {
     "name": "stdout",
     "output_type": "stream",
     "text": [
      "h1\n",
      "79275 WFC\n",
      "===posible caso: 79392 WFC\n",
      "h1\n",
      "79392 WFC\n",
      "===posible caso: 79469 WFC\n"
     ]
    },
    {
     "name": "stdout",
     "output_type": "stream",
     "text": [
      "===posible caso: 79568 WFC\n",
      "===posible caso: 79616 WFC\n"
     ]
    },
    {
     "name": "stdout",
     "output_type": "stream",
     "text": [
      "h1\n",
      "79616 WFC\n",
      "===posible caso: 79652 WFC\n",
      "===posible caso: 79681 WFC\n",
      "===posible caso: 79718 WFC\n",
      "===posible caso: 79739 WFC\n"
     ]
    },
    {
     "name": "stdout",
     "output_type": "stream",
     "text": [
      "===posible caso: 79788 WFC\n",
      "===posible caso: 79844 WFC\n"
     ]
    },
    {
     "name": "stdout",
     "output_type": "stream",
     "text": [
      "===posible caso: 79866 WFC\n",
      "===posible caso: 79910 WFC\n"
     ]
    },
    {
     "name": "stdout",
     "output_type": "stream",
     "text": [
      "===posible caso: 80004 WFC\n",
      "h1\n",
      "80004 WFC\n",
      "===posible caso: 80046 WFC\n"
     ]
    },
    {
     "name": "stdout",
     "output_type": "stream",
     "text": [
      "===posible caso: 80134 WFC\n",
      "===posible caso: 80194 WFC\n"
     ]
    },
    {
     "name": "stdout",
     "output_type": "stream",
     "text": [
      "===posible caso: 80265 WFC\n",
      "h1\n",
      "80265 WFC\n",
      "===posible caso: 80287 WFC\n"
     ]
    },
    {
     "name": "stdout",
     "output_type": "stream",
     "text": [
      "h1\n",
      "80287 WFC\n",
      "===posible caso: 80331 WFC\n",
      "h1\n",
      "80331 WFC\n",
      "===posible caso: 80419 WFC\n",
      "===posible caso: 80465 WFC\n"
     ]
    },
    {
     "name": "stdout",
     "output_type": "stream",
     "text": [
      "===posible caso: 80503 WFC\n",
      "===posible caso: 80565 WFC\n"
     ]
    },
    {
     "name": "stdout",
     "output_type": "stream",
     "text": [
      "===posible caso: 80654 WFC\n",
      "===posible caso: 80702 WFC\n"
     ]
    },
    {
     "name": "stdout",
     "output_type": "stream",
     "text": [
      "===posible caso: 80760 WFC\n",
      "===posible caso: 80879 WFC\n"
     ]
    },
    {
     "name": "stdout",
     "output_type": "stream",
     "text": [
      "h1\n",
      "80879 WFC\n",
      "===posible caso: 80953 WFC\n",
      "h1\n",
      "80953 WFC\n",
      "===posible caso: 81070 WFC\n"
     ]
    },
    {
     "name": "stdout",
     "output_type": "stream",
     "text": [
      "h1\n",
      "81070 WFC\n",
      "===posible caso: 81215 WFC\n",
      "===posible caso: 81401 PLTR\n"
     ]
    },
    {
     "name": "stdout",
     "output_type": "stream",
     "text": [
      "===posible caso: 81466 PLTR\n",
      "===posible caso: 81533 PLTR\n"
     ]
    },
    {
     "name": "stdout",
     "output_type": "stream",
     "text": [
      "===posible caso: 81598 PLTR\n",
      "===posible caso: 81682 PLTR\n",
      "===posible caso: 81701 PLTR\n"
     ]
    },
    {
     "name": "stdout",
     "output_type": "stream",
     "text": [
      "h1\n",
      "81701 PLTR\n",
      "===posible caso: 81726 PLTR\n",
      "===posible caso: 81752 PLTR\n"
     ]
    },
    {
     "name": "stdout",
     "output_type": "stream",
     "text": [
      "h1\n",
      "81752 PLTR\n",
      "===posible caso: 81825 PLTR\n",
      "===posible caso: 81872 PLTR\n",
      "h1\n",
      "81872 PLTR\n",
      "===posible caso: 81888 PLTR\n"
     ]
    },
    {
     "name": "stdout",
     "output_type": "stream",
     "text": [
      "===posible caso: 82012 PLTR\n",
      "h1\n",
      "82012 PLTR\n",
      "===posible caso: 82079 PLTR\n"
     ]
    },
    {
     "name": "stdout",
     "output_type": "stream",
     "text": [
      "h1\n",
      "82079 PLTR\n",
      "===posible caso: 82133 PLTR\n",
      "===posible caso: 82197 PLTR\n"
     ]
    },
    {
     "name": "stdout",
     "output_type": "stream",
     "text": [
      "h1\n",
      "82197 PLTR\n",
      "===posible caso: 82313 PLTR\n",
      "===posible caso: 82464 PLTR\n",
      "===posible caso: 82490 PLTR\n"
     ]
    },
    {
     "name": "stdout",
     "output_type": "stream",
     "text": [
      "===posible caso: 82553 PLTR\n",
      "===posible caso: 82589 PLTR\n",
      "===posible caso: 82675 PLTR\n"
     ]
    },
    {
     "name": "stdout",
     "output_type": "stream",
     "text": [
      "h1\n",
      "82675 PLTR\n",
      "===posible caso: 82757 PLTR\n",
      "===posible caso: 82806 PLTR\n",
      "===posible caso: 82834 PLTR\n"
     ]
    },
    {
     "name": "stdout",
     "output_type": "stream",
     "text": [
      "===posible caso: 82875 PLTR\n",
      "===posible caso: 82933 PLTR\n"
     ]
    },
    {
     "name": "stdout",
     "output_type": "stream",
     "text": [
      "h1\n",
      "82933 PLTR\n",
      "===posible caso: 82991 PLTR\n",
      "===posible caso: 83052 PLTR\n",
      "h1\n",
      "83052 PLTR\n",
      "===posible caso: 83086 PLTR\n"
     ]
    },
    {
     "name": "stdout",
     "output_type": "stream",
     "text": [
      "h1\n",
      "83086 PLTR\n",
      "===posible caso: 83195 PLTR\n",
      "===posible caso: 83215 PLTR\n"
     ]
    },
    {
     "name": "stdout",
     "output_type": "stream",
     "text": [
      "===posible caso: 83264 PLTR\n",
      "===posible caso: 83364 PLTR\n"
     ]
    },
    {
     "name": "stdout",
     "output_type": "stream",
     "text": [
      "===posible caso: 83390 PLTR\n",
      "h1\n",
      "83390 PLTR\n",
      "===posible caso: 83541 PLTR\n"
     ]
    },
    {
     "name": "stdout",
     "output_type": "stream",
     "text": [
      "h1\n",
      "83541 PLTR\n",
      "===posible caso: 83559 PLTR\n",
      "===posible caso: 83642 PLTR\n"
     ]
    },
    {
     "name": "stdout",
     "output_type": "stream",
     "text": [
      "===posible caso: 83705 PLTR\n",
      "===posible caso: 83816 PLTR\n"
     ]
    },
    {
     "name": "stdout",
     "output_type": "stream",
     "text": [
      "===posible caso: 83908 PLTR\n",
      "h1\n",
      "83908 PLTR\n",
      "===posible caso: 83988 PLTR\n"
     ]
    },
    {
     "name": "stdout",
     "output_type": "stream",
     "text": [
      "===posible caso: 84117 PLTR\n",
      "h1\n",
      "84117 PLTR\n",
      "===posible caso: 84237 PLTR\n"
     ]
    },
    {
     "name": "stdout",
     "output_type": "stream",
     "text": [
      "h1\n",
      "84237 PLTR\n",
      "===posible caso: 84367 PLTR\n",
      "===posible caso: 84403 PLTR\n"
     ]
    },
    {
     "name": "stdout",
     "output_type": "stream",
     "text": [
      "===posible caso: 84448 PLTR\n",
      "===posible caso: 84514 PLTR\n"
     ]
    },
    {
     "name": "stdout",
     "output_type": "stream",
     "text": [
      "===posible caso: 84602 PLTR\n",
      "h1\n",
      "84602 PLTR\n",
      "===posible caso: 84645 PLTR\n"
     ]
    },
    {
     "name": "stdout",
     "output_type": "stream",
     "text": [
      "===posible caso: 84745 PLTR\n",
      "===posible caso: 84769 PLTR\n"
     ]
    },
    {
     "name": "stdout",
     "output_type": "stream",
     "text": [
      "h1\n",
      "84769 PLTR\n",
      "===posible caso: 84833 PLTR\n",
      "===posible caso: 84930 AMD\n"
     ]
    },
    {
     "name": "stdout",
     "output_type": "stream",
     "text": [
      "===posible caso: 84947 AMD\n",
      "h1\n",
      "84947 AMD\n",
      "===posible caso: 84979 AMD\n",
      "===posible caso: 85068 AMD\n"
     ]
    },
    {
     "name": "stdout",
     "output_type": "stream",
     "text": [
      "h1\n",
      "85068 AMD\n",
      "===posible caso: 85180 AMD\n",
      "===posible caso: 85235 AMD\n",
      "===posible caso: 85352 AMD\n",
      "===posible caso: 85421 AMD\n"
     ]
    },
    {
     "name": "stdout",
     "output_type": "stream",
     "text": [
      "h1\n",
      "85421 AMD\n",
      "===posible caso: 85582 AMD\n",
      "h1\n",
      "85582 AMD\n",
      "===posible caso: 85625 AMD\n"
     ]
    },
    {
     "name": "stdout",
     "output_type": "stream",
     "text": [
      "===posible caso: 85647 AMD\n",
      "h1\n",
      "85647 AMD\n",
      "===posible caso: 85724 AMD\n"
     ]
    },
    {
     "name": "stdout",
     "output_type": "stream",
     "text": [
      "h1\n",
      "85724 AMD\n",
      "===posible caso: 85745 AMD\n",
      "===posible caso: 85794 AMD\n"
     ]
    },
    {
     "name": "stdout",
     "output_type": "stream",
     "text": [
      "h1\n",
      "85794 AMD\n",
      "===posible caso: 85842 AMD\n",
      "===posible caso: 85913 AMD\n",
      "h1\n",
      "85913 AMD\n",
      "===posible caso: 86017 AMD\n"
     ]
    },
    {
     "name": "stdout",
     "output_type": "stream",
     "text": [
      "h1\n",
      "86017 AMD\n",
      "===posible caso: 86123 AMD\n",
      "h1\n",
      "86123 AMD\n",
      "===posible caso: 86232 AMD\n"
     ]
    },
    {
     "name": "stdout",
     "output_type": "stream",
     "text": [
      "h1\n",
      "86232 AMD\n",
      "===posible caso: 86276 AMD\n",
      "===posible caso: 86306 AMD\n",
      "===posible caso: 86371 AMD\n"
     ]
    },
    {
     "name": "stdout",
     "output_type": "stream",
     "text": [
      "===posible caso: 86467 AMD\n",
      "===posible caso: 86488 AMD\n"
     ]
    },
    {
     "name": "stdout",
     "output_type": "stream",
     "text": [
      "h1\n",
      "86488 AMD\n",
      "===posible caso: 86511 AMD\n",
      "h1\n",
      "86511 AMD\n",
      "===posible caso: 86567 AMD\n",
      "===posible caso: 86707 AMD\n"
     ]
    },
    {
     "name": "stdout",
     "output_type": "stream",
     "text": [
      "===posible caso: 86725 AMD\n",
      "h1\n",
      "86725 AMD\n",
      "===posible caso: 86771 AMD\n",
      "===posible caso: 86835 AMD\n",
      "===posible caso: 86910 AMD\n"
     ]
    },
    {
     "name": "stdout",
     "output_type": "stream",
     "text": [
      "===posible caso: 86972 AMD\n",
      "===posible caso: 87060 AMD\n",
      "===posible caso: 87097 AMD\n"
     ]
    },
    {
     "name": "stdout",
     "output_type": "stream",
     "text": [
      "h1\n",
      "87097 AMD\n",
      "===posible caso: 87153 AMD\n",
      "h1\n",
      "87153 AMD\n",
      "===posible caso: 87200 AMD\n",
      "===posible caso: 87217 AMD\n"
     ]
    },
    {
     "name": "stdout",
     "output_type": "stream",
     "text": [
      "===posible caso: 87258 AMD\n",
      "===posible caso: 87309 AMD\n",
      "===posible caso: 87354 AMD\n"
     ]
    },
    {
     "name": "stdout",
     "output_type": "stream",
     "text": [
      "===posible caso: 87430 AMD\n",
      "===posible caso: 87496 AMD\n",
      "===posible caso: 87570 AMD\n"
     ]
    },
    {
     "name": "stdout",
     "output_type": "stream",
     "text": [
      "===posible caso: 87638 AMD\n",
      "===posible caso: 87771 AMD\n"
     ]
    },
    {
     "name": "stdout",
     "output_type": "stream",
     "text": [
      "===posible caso: 87838 AMD\n",
      "===posible caso: 87944 AMD\n",
      "h1\n",
      "87944 AMD\n",
      "===posible caso: 87982 AMD\n",
      "===posible caso: 88045 AMD\n"
     ]
    },
    {
     "name": "stdout",
     "output_type": "stream",
     "text": [
      "h1\n",
      "88045 AMD\n",
      "===posible caso: 88095 AMD\n",
      "===posible caso: 88138 AMD\n",
      "h1\n",
      "88138 AMD\n",
      "===posible caso: 88183 AMD\n"
     ]
    },
    {
     "name": "stdout",
     "output_type": "stream",
     "text": [
      "===posible caso: 88219 AMD\n",
      "===posible caso: 88297 AMD\n",
      "===posible caso: 88365 AMD\n"
     ]
    },
    {
     "name": "stdout",
     "output_type": "stream",
     "text": [
      "h3\n",
      "h4\n",
      "h3\n",
      "h4\n",
      "h3\n",
      "h4\n",
      "h3\n",
      "h4\n",
      "88365 AMD\n",
      "===posible caso: 88464 AVGO\n",
      "h1\n",
      "88464 AVGO\n",
      "===posible caso: 88525 AVGO\n"
     ]
    },
    {
     "name": "stdout",
     "output_type": "stream",
     "text": [
      "h1\n",
      "88525 AVGO\n",
      "===posible caso: 88566 AVGO\n",
      "===posible caso: 88603 AVGO\n",
      "===posible caso: 88631 AVGO\n",
      "===posible caso: 88666 AVGO\n",
      "h1\n",
      "88666 AVGO\n",
      "===posible caso: 88714 AVGO\n",
      "===posible caso: 88757 AVGO\n"
     ]
    },
    {
     "name": "stdout",
     "output_type": "stream",
     "text": [
      "===posible caso: 88865 AVGO\n",
      "h1\n",
      "88865 AVGO\n",
      "===posible caso: 88956 AVGO\n"
     ]
    },
    {
     "name": "stdout",
     "output_type": "stream",
     "text": [
      "===posible caso: 89123 AVGO\n",
      "h1\n",
      "89123 AVGO\n",
      "===posible caso: 89148 AVGO\n"
     ]
    },
    {
     "name": "stdout",
     "output_type": "stream",
     "text": [
      "===posible caso: 89266 AVGO\n",
      "===posible caso: 89443 AVGO\n"
     ]
    },
    {
     "name": "stdout",
     "output_type": "stream",
     "text": [
      "h1\n",
      "89443 AVGO\n",
      "===posible caso: 89519 AVGO\n",
      "===posible caso: 89556 AVGO\n"
     ]
    },
    {
     "name": "stdout",
     "output_type": "stream",
     "text": [
      "h1\n",
      "89556 AVGO\n",
      "===posible caso: 89596 AVGO\n",
      "h1\n",
      "89596 AVGO\n",
      "===posible caso: 89629 AVGO\n"
     ]
    },
    {
     "name": "stdout",
     "output_type": "stream",
     "text": [
      "===posible caso: 89722 AVGO\n",
      "===posible caso: 89783 AVGO\n",
      "===posible caso: 89898 AVGO\n",
      "===posible caso: 89994 AVGO\n",
      "h1\n",
      "89994 AVGO\n",
      "===posible caso: 90048 AVGO\n",
      "===posible caso: 90145 AVGO\n"
     ]
    },
    {
     "name": "stdout",
     "output_type": "stream",
     "text": [
      "===posible caso: 90246 AVGO\n",
      "h1\n",
      "90246 AVGO\n",
      "===posible caso: 90263 AVGO\n"
     ]
    },
    {
     "name": "stdout",
     "output_type": "stream",
     "text": [
      "h1\n",
      "90263 AVGO\n",
      "===posible caso: 90458 AVGO\n",
      "===posible caso: 90569 AVGO\n"
     ]
    },
    {
     "name": "stdout",
     "output_type": "stream",
     "text": [
      "===posible caso: 90626 AVGO\n",
      "h1\n",
      "90626 AVGO\n",
      "===posible caso: 90693 AVGO\n"
     ]
    },
    {
     "name": "stdout",
     "output_type": "stream",
     "text": [
      "===posible caso: 90847 AVGO\n",
      "===posible caso: 90907 AVGO\n",
      "===posible caso: 90975 AVGO\n"
     ]
    },
    {
     "name": "stdout",
     "output_type": "stream",
     "text": [
      "===posible caso: 91018 AVGO\n",
      "===posible caso: 91061 AVGO\n"
     ]
    },
    {
     "name": "stdout",
     "output_type": "stream",
     "text": [
      "===posible caso: 91173 AVGO\n",
      "h1\n",
      "91173 AVGO\n",
      "===posible caso: 91244 AVGO\n"
     ]
    },
    {
     "name": "stdout",
     "output_type": "stream",
     "text": [
      "===posible caso: 91273 AVGO\n",
      "h1\n",
      "91273 AVGO\n",
      "===posible caso: 91411 AVGO\n",
      "===posible caso: 91435 AVGO\n"
     ]
    },
    {
     "name": "stdout",
     "output_type": "stream",
     "text": [
      "h1\n",
      "91435 AVGO\n",
      "===posible caso: 91555 AVGO\n",
      "===posible caso: 91629 AVGO\n",
      "===posible caso: 91665 AVGO\n",
      "h1\n",
      "91665 AVGO\n",
      "===posible caso: 91727 AVGO\n"
     ]
    },
    {
     "name": "stdout",
     "output_type": "stream",
     "text": [
      "===posible caso: 91833 AVGO\n",
      "h1\n",
      "91833 AVGO\n",
      "===posible caso: 91974 HOOD\n",
      "===posible caso: 92069 HOOD\n"
     ]
    },
    {
     "name": "stdout",
     "output_type": "stream",
     "text": [
      "===posible caso: 92292 HOOD\n",
      "===posible caso: 92337 HOOD\n",
      "===posible caso: 92420 HOOD\n",
      "===posible caso: 92474 HOOD\n"
     ]
    },
    {
     "name": "stdout",
     "output_type": "stream",
     "text": [
      "===posible caso: 92615 HOOD\n",
      "===posible caso: 92650 HOOD\n",
      "===posible caso: 92680 HOOD\n"
     ]
    },
    {
     "name": "stdout",
     "output_type": "stream",
     "text": [
      "h2\n",
      "h4\n",
      "h2\n",
      "h4\n",
      "h1\n",
      "92680 HOOD\n",
      "===posible caso: 92770 HOOD\n",
      "===posible caso: 92794 HOOD\n"
     ]
    },
    {
     "name": "stdout",
     "output_type": "stream",
     "text": [
      "===posible caso: 92822 HOOD\n",
      "===posible caso: 92850 HOOD\n"
     ]
    },
    {
     "name": "stdout",
     "output_type": "stream",
     "text": [
      "h1\n",
      "92850 HOOD\n",
      "===posible caso: 93094 HOOD\n",
      "===posible caso: 93163 HOOD\n"
     ]
    },
    {
     "name": "stdout",
     "output_type": "stream",
     "text": [
      "===posible caso: 93220 HOOD\n",
      "h1\n",
      "93220 HOOD\n",
      "===posible caso: 93289 HOOD\n"
     ]
    },
    {
     "name": "stdout",
     "output_type": "stream",
     "text": [
      "===posible caso: 93436 HOOD\n",
      "===posible caso: 93471 HOOD\n",
      "===posible caso: 93550 HOOD\n"
     ]
    },
    {
     "name": "stdout",
     "output_type": "stream",
     "text": [
      "h1\n",
      "93550 HOOD\n",
      "===posible caso: 93595 HOOD\n",
      "===posible caso: 93657 HOOD\n",
      "h1\n",
      "93657 HOOD\n",
      "===posible caso: 93741 HOOD\n"
     ]
    },
    {
     "name": "stdout",
     "output_type": "stream",
     "text": [
      "===posible caso: 93809 HOOD\n",
      "h1\n",
      "93809 HOOD\n",
      "===posible caso: 93977 HOOD\n"
     ]
    },
    {
     "name": "stdout",
     "output_type": "stream",
     "text": [
      "h1\n",
      "93977 HOOD\n",
      "===posible caso: 94017 HOOD\n",
      "h1\n",
      "94017 HOOD\n",
      "===posible caso: 94125 HOOD\n"
     ]
    },
    {
     "name": "stdout",
     "output_type": "stream",
     "text": [
      "===posible caso: 94173 HOOD\n",
      "===posible caso: 94260 HOOD\n",
      "h1\n",
      "94260 HOOD\n",
      "===posible caso: 94291 HOOD\n",
      "===posible caso: 94333 HOOD\n"
     ]
    },
    {
     "name": "stdout",
     "output_type": "stream",
     "text": [
      "h1\n",
      "94333 HOOD\n",
      "===posible caso: 94384 HOOD\n",
      "===posible caso: 94433 HOOD\n",
      "===posible caso: 94454 HOOD\n"
     ]
    },
    {
     "name": "stdout",
     "output_type": "stream",
     "text": [
      "h1\n",
      "94454 HOOD\n",
      "===posible caso: 94512 HOOD\n",
      "h1\n",
      "94512 HOOD\n",
      "===posible caso: 94553 HOOD\n"
     ]
    },
    {
     "name": "stdout",
     "output_type": "stream",
     "text": [
      "===posible caso: 94599 HOOD\n",
      "===posible caso: 94638 HOOD\n",
      "h1\n",
      "94638 HOOD\n",
      "===posible caso: 94721 HOOD\n"
     ]
    },
    {
     "name": "stdout",
     "output_type": "stream",
     "text": [
      "h1\n",
      "94721 HOOD\n",
      "===posible caso: 94830 HOOD\n",
      "===posible caso: 94881 HOOD\n",
      "===posible caso: 94915 HOOD\n"
     ]
    },
    {
     "name": "stdout",
     "output_type": "stream",
     "text": [
      "h1\n",
      "94915 HOOD\n",
      "===posible caso: 94946 HOOD\n",
      "===posible caso: 94968 HOOD\n",
      "===posible caso: 94999 HOOD\n"
     ]
    },
    {
     "name": "stdout",
     "output_type": "stream",
     "text": [
      "===posible caso: 95113 HOOD\n",
      "===posible caso: 95163 HOOD\n"
     ]
    },
    {
     "name": "stdout",
     "output_type": "stream",
     "text": [
      "h1\n",
      "95163 HOOD\n",
      "===posible caso: 95195 HOOD\n",
      "===posible caso: 95249 HOOD\n"
     ]
    },
    {
     "name": "stdout",
     "output_type": "stream",
     "text": [
      "===posible caso: 95288 HOOD\n",
      "===posible caso: 95307 HOOD\n"
     ]
    },
    {
     "name": "stdout",
     "output_type": "stream",
     "text": [
      "===posible caso: 95353 HOOD\n",
      "===posible caso: 95371 HOOD\n",
      "h1\n",
      "95371 HOOD\n",
      "===posible caso: 95391 HOOD\n"
     ]
    },
    {
     "name": "stdout",
     "output_type": "stream",
     "text": [
      "h1\n",
      "95391 HOOD\n",
      "===posible caso: 95437 HOOD\n",
      "===posible caso: 95721 CRWV\n",
      "h1\n",
      "95721 CRWV\n",
      "===posible caso: 95767 CRWV\n",
      "===posible caso: 95794 CRWV\n"
     ]
    },
    {
     "name": "stdout",
     "output_type": "stream",
     "text": [
      "===posible caso: 95816 CRWV\n",
      "===posible caso: 95841 CRWV\n",
      "h3\n",
      "h4\n",
      "h3\n",
      "h4\n",
      "h3\n",
      "h4\n",
      "h3\n",
      "h4\n",
      "95841 CRWV\n",
      "===posible caso: 95990 MSTR\n"
     ]
    },
    {
     "name": "stdout",
     "output_type": "stream",
     "text": [
      "h1\n",
      "95990 MSTR\n",
      "===posible caso: 96068 MSTR\n",
      "h1\n",
      "96068 MSTR\n",
      "===posible caso: 96112 MSTR\n",
      "===posible caso: 96138 MSTR\n"
     ]
    },
    {
     "name": "stdout",
     "output_type": "stream",
     "text": [
      "===posible caso: 96217 MSTR\n",
      "h1\n",
      "96217 MSTR\n",
      "===posible caso: 96345 MSTR\n",
      "===posible caso: 96375 MSTR\n"
     ]
    },
    {
     "name": "stdout",
     "output_type": "stream",
     "text": [
      "===posible caso: 96416 MSTR\n",
      "===posible caso: 96494 MSTR\n"
     ]
    },
    {
     "name": "stdout",
     "output_type": "stream",
     "text": [
      "h1\n",
      "96494 MSTR\n",
      "===posible caso: 96570 MSTR\n",
      "h1\n",
      "96570 MSTR\n",
      "===posible caso: 96624 MSTR\n"
     ]
    },
    {
     "name": "stdout",
     "output_type": "stream",
     "text": [
      "h1\n",
      "96624 MSTR\n",
      "===posible caso: 96641 MSTR\n",
      "===posible caso: 96688 MSTR\n"
     ]
    },
    {
     "name": "stdout",
     "output_type": "stream",
     "text": [
      "===posible caso: 96712 MSTR\n",
      "===posible caso: 96812 MSTR\n"
     ]
    },
    {
     "name": "stdout",
     "output_type": "stream",
     "text": [
      "h2\n",
      "h4\n",
      "h2\n",
      "h4\n",
      "h1\n",
      "96812 MSTR\n",
      "===posible caso: 96888 MSTR\n",
      "===posible caso: 96944 MSTR\n",
      "===posible caso: 97028 MSTR\n"
     ]
    },
    {
     "name": "stdout",
     "output_type": "stream",
     "text": [
      "===posible caso: 97110 MSTR\n",
      "h1\n",
      "97110 MSTR\n",
      "===posible caso: 97173 MSTR\n"
     ]
    },
    {
     "name": "stdout",
     "output_type": "stream",
     "text": [
      "h1\n",
      "97173 MSTR\n",
      "===posible caso: 97227 MSTR\n",
      "h1\n",
      "97227 MSTR\n",
      "===posible caso: 97259 MSTR\n"
     ]
    },
    {
     "name": "stdout",
     "output_type": "stream",
     "text": [
      "===posible caso: 97350 MSTR\n",
      "===posible caso: 97381 MSTR\n",
      "===posible caso: 97489 MSTR\n"
     ]
    },
    {
     "name": "stdout",
     "output_type": "stream",
     "text": [
      "===posible caso: 97532 MSTR\n",
      "===posible caso: 97568 MSTR\n",
      "===posible caso: 97595 MSTR\n",
      "===posible caso: 97620 MSTR\n",
      "===posible caso: 97668 MSTR\n",
      "===posible caso: 97750 MSTR\n"
     ]
    },
    {
     "name": "stdout",
     "output_type": "stream",
     "text": [
      "===posible caso: 97777 MSTR\n",
      "===posible caso: 97889 MSTR\n"
     ]
    },
    {
     "name": "stdout",
     "output_type": "stream",
     "text": [
      "h1\n",
      "97889 MSTR\n",
      "===posible caso: 97946 MSTR\n",
      "===posible caso: 98044 MSTR\n"
     ]
    },
    {
     "name": "stdout",
     "output_type": "stream",
     "text": [
      "===posible caso: 98110 MSTR\n",
      "h1\n",
      "98110 MSTR\n",
      "===posible caso: 98162 MSTR\n"
     ]
    },
    {
     "name": "stdout",
     "output_type": "stream",
     "text": [
      "===posible caso: 98187 MSTR\n",
      "h1\n",
      "98187 MSTR\n",
      "===posible caso: 98265 MSTR\n"
     ]
    },
    {
     "name": "stdout",
     "output_type": "stream",
     "text": [
      "h1\n",
      "98265 MSTR\n",
      "===posible caso: 98340 MSTR\n",
      "h1\n",
      "98340 MSTR\n",
      "===posible caso: 98377 MSTR\n"
     ]
    },
    {
     "name": "stdout",
     "output_type": "stream",
     "text": [
      "===posible caso: 98417 MSTR\n",
      "h1\n",
      "98417 MSTR\n",
      "===posible caso: 98493 MSTR\n"
     ]
    },
    {
     "name": "stdout",
     "output_type": "stream",
     "text": [
      "h1\n",
      "98493 MSTR\n",
      "===posible caso: 98524 MSTR\n",
      "===posible caso: 98583 MSTR\n"
     ]
    },
    {
     "name": "stdout",
     "output_type": "stream",
     "text": [
      "===posible caso: 98644 MSTR\n",
      "===posible caso: 98698 MSTR\n",
      "===posible caso: 98714 MSTR\n"
     ]
    },
    {
     "name": "stdout",
     "output_type": "stream",
     "text": [
      "===posible caso: 98857 MSTR\n",
      "h1\n",
      "98857 MSTR\n",
      "===posible caso: 98905 MSTR\n",
      "===posible caso: 98954 MSTR\n"
     ]
    },
    {
     "name": "stdout",
     "output_type": "stream",
     "text": [
      "===posible caso: 98991 MSTR\n",
      "===posible caso: 99131 MSTR\n"
     ]
    },
    {
     "name": "stdout",
     "output_type": "stream",
     "text": [
      "h1\n",
      "99131 MSTR\n",
      "===posible caso: 99168 MSTR\n",
      "===posible caso: 99192 MSTR\n",
      "===posible caso: 99229 MSTR\n",
      "===posible caso: 99287 MSTR\n",
      "===posible caso: 99354 MSTR\n"
     ]
    },
    {
     "name": "stdout",
     "output_type": "stream",
     "text": [
      "===posible caso: 99424 UNH\n",
      "===posible caso: 99449 UNH\n",
      "===posible caso: 99544 UNH\n"
     ]
    },
    {
     "name": "stdout",
     "output_type": "stream",
     "text": [
      "===posible caso: 99581 UNH\n",
      "===posible caso: 99616 UNH\n"
     ]
    },
    {
     "name": "stdout",
     "output_type": "stream",
     "text": [
      "===posible caso: 99638 UNH\n",
      "===posible caso: 99674 UNH\n"
     ]
    },
    {
     "name": "stdout",
     "output_type": "stream",
     "text": [
      "===posible caso: 99756 UNH\n",
      "===posible caso: 99836 UNH\n",
      "===posible caso: 99894 UNH\n",
      "===posible caso: 99950 UNH\n"
     ]
    },
    {
     "name": "stdout",
     "output_type": "stream",
     "text": [
      "===posible caso: 99979 UNH\n",
      "===posible caso: 100028 UNH\n"
     ]
    },
    {
     "name": "stdout",
     "output_type": "stream",
     "text": [
      "===posible caso: 100075 UNH\n",
      "h1\n",
      "100075 UNH\n",
      "===posible caso: 100120 UNH\n"
     ]
    },
    {
     "name": "stdout",
     "output_type": "stream",
     "text": [
      "===posible caso: 100177 UNH\n",
      "h1\n",
      "100177 UNH\n",
      "===posible caso: 100222 UNH\n"
     ]
    },
    {
     "name": "stdout",
     "output_type": "stream",
     "text": [
      "h1\n",
      "100222 UNH\n",
      "===posible caso: 100360 UNH\n",
      "===posible caso: 100418 UNH\n"
     ]
    },
    {
     "name": "stdout",
     "output_type": "stream",
     "text": [
      "h1\n",
      "100418 UNH\n",
      "===posible caso: 100489 UNH\n",
      "===posible caso: 100527 UNH\n",
      "===posible caso: 100549 UNH\n",
      "h1\n",
      "100549 UNH\n",
      "===posible caso: 100576 UNH\n"
     ]
    },
    {
     "name": "stdout",
     "output_type": "stream",
     "text": [
      "h1\n",
      "100576 UNH\n",
      "===posible caso: 100604 UNH\n",
      "h1\n",
      "100604 UNH\n",
      "===posible caso: 100688 UNH\n"
     ]
    },
    {
     "name": "stdout",
     "output_type": "stream",
     "text": [
      "h1\n",
      "100688 UNH\n",
      "===posible caso: 100729 UNH\n",
      "===posible caso: 100771 UNH\n",
      "===posible caso: 100873 UNH\n",
      "===posible caso: 101004 UNH\n"
     ]
    },
    {
     "name": "stdout",
     "output_type": "stream",
     "text": [
      "===posible caso: 101031 UNH\n",
      "h1\n",
      "101031 UNH\n",
      "===posible caso: 101091 UNH\n",
      "===posible caso: 101147 UNH\n",
      "===posible caso: 101212 UNH\n"
     ]
    },
    {
     "name": "stdout",
     "output_type": "stream",
     "text": [
      "===posible caso: 101293 UNH\n",
      "h1\n",
      "101293 UNH\n",
      "===posible caso: 101376 UNH\n"
     ]
    },
    {
     "name": "stdout",
     "output_type": "stream",
     "text": [
      "h1\n",
      "101376 UNH\n",
      "===posible caso: 101427 UNH\n",
      "===posible caso: 101454 UNH\n",
      "===posible caso: 101524 UNH\n"
     ]
    },
    {
     "name": "stdout",
     "output_type": "stream",
     "text": [
      "===posible caso: 101678 UNH\n",
      "===posible caso: 101725 UNH\n"
     ]
    },
    {
     "name": "stdout",
     "output_type": "stream",
     "text": [
      "===posible caso: 101756 UNH\n",
      "h1\n",
      "101756 UNH\n",
      "===posible caso: 101820 UNH\n",
      "===posible caso: 101861 UNH\n"
     ]
    },
    {
     "name": "stdout",
     "output_type": "stream",
     "text": [
      "h1\n",
      "101861 UNH\n",
      "===posible caso: 101944 UNH\n",
      "h1\n",
      "101944 UNH\n",
      "===posible caso: 101969 UNH\n"
     ]
    },
    {
     "name": "stdout",
     "output_type": "stream",
     "text": [
      "===posible caso: 102001 UNH\n",
      "===posible caso: 102043 UNH\n",
      "===posible caso: 102075 UNH\n",
      "===posible caso: 102142 UNH\n"
     ]
    },
    {
     "name": "stdout",
     "output_type": "stream",
     "text": [
      "===posible caso: 102158 UNH\n",
      "h1\n",
      "102158 UNH\n",
      "===posible caso: 102204 UNH\n"
     ]
    },
    {
     "name": "stdout",
     "output_type": "stream",
     "text": [
      "h1\n",
      "102204 UNH\n",
      "===posible caso: 102239 UNH\n",
      "===posible caso: 102402 UNH\n"
     ]
    },
    {
     "name": "stdout",
     "output_type": "stream",
     "text": [
      "h1\n",
      "102402 UNH\n",
      "===posible caso: 102470 UNH\n",
      "===posible caso: 102515 UNH\n"
     ]
    },
    {
     "name": "stdout",
     "output_type": "stream",
     "text": [
      "h1\n",
      "102515 UNH\n",
      "===posible caso: 102535 UNH\n",
      "===posible caso: 102577 UNH\n"
     ]
    },
    {
     "name": "stdout",
     "output_type": "stream",
     "text": [
      "===posible caso: 102682 UNH\n",
      "===posible caso: 102759 UNH\n",
      "===posible caso: 102811 UNH\n",
      "h1\n",
      "102811 UNH\n",
      "===posible caso: 102877 UNH\n"
     ]
    },
    {
     "name": "stdout",
     "output_type": "stream",
     "text": [
      "h1\n",
      "102877 UNH\n",
      "===posible caso: 102894 UNH\n",
      "h3\n",
      "h4\n",
      "h3\n",
      "h4\n",
      "h3\n",
      "h4\n",
      "h3\n",
      "h4\n",
      "102894 UNH\n",
      "===posible caso: 102911 UNH\n"
     ]
    },
    {
     "name": "stdout",
     "output_type": "stream",
     "text": [
      "===posible caso: 103008 GOOG\n",
      "===posible caso: 103057 GOOG\n",
      "===posible caso: 103129 GOOG\n",
      "===posible caso: 103258 GOOG\n",
      "===posible caso: 103299 GOOG\n"
     ]
    },
    {
     "name": "stdout",
     "output_type": "stream",
     "text": [
      "===posible caso: 103341 GOOG\n",
      "h1\n",
      "103341 GOOG\n",
      "===posible caso: 103372 GOOG\n"
     ]
    },
    {
     "name": "stdout",
     "output_type": "stream",
     "text": [
      "===posible caso: 103500 GOOG\n",
      "h1\n",
      "103500 GOOG\n",
      "===posible caso: 103679 GOOG\n"
     ]
    },
    {
     "name": "stdout",
     "output_type": "stream",
     "text": [
      "===posible caso: 103702 GOOG\n",
      "h1\n",
      "103702 GOOG\n",
      "===posible caso: 103724 GOOG\n"
     ]
    },
    {
     "name": "stdout",
     "output_type": "stream",
     "text": [
      "h1\n",
      "103724 GOOG\n",
      "===posible caso: 103830 GOOG\n",
      "h1\n",
      "103830 GOOG\n",
      "===posible caso: 103851 GOOG\n"
     ]
    },
    {
     "name": "stdout",
     "output_type": "stream",
     "text": [
      "h1\n",
      "103851 GOOG\n",
      "===posible caso: 103992 GOOG\n",
      "h1\n",
      "103992 GOOG\n",
      "===posible caso: 104010 GOOG\n"
     ]
    },
    {
     "name": "stdout",
     "output_type": "stream",
     "text": [
      "h1\n",
      "104010 GOOG\n",
      "===posible caso: 104071 GOOG\n",
      "===posible caso: 104244 GOOG\n"
     ]
    },
    {
     "name": "stdout",
     "output_type": "stream",
     "text": [
      "h2\n",
      "h4\n",
      "h1\n",
      "104244 GOOG\n",
      "===posible caso: 104288 GOOG\n",
      "===posible caso: 104306 GOOG\n"
     ]
    },
    {
     "name": "stdout",
     "output_type": "stream",
     "text": [
      "===posible caso: 104368 GOOG\n",
      "h1\n",
      "104368 GOOG\n",
      "===posible caso: 104441 GOOG\n"
     ]
    },
    {
     "name": "stdout",
     "output_type": "stream",
     "text": [
      "===posible caso: 104490 GOOG\n",
      "h1\n",
      "104490 GOOG\n",
      "===posible caso: 104564 GOOG\n"
     ]
    },
    {
     "name": "stdout",
     "output_type": "stream",
     "text": [
      "===posible caso: 104640 GOOG\n",
      "===posible caso: 104688 GOOG\n",
      "h1\n",
      "104688 GOOG\n",
      "===posible caso: 104733 GOOG\n"
     ]
    },
    {
     "name": "stdout",
     "output_type": "stream",
     "text": [
      "===posible caso: 104768 GOOG\n",
      "===posible caso: 104897 GOOG\n",
      "===posible caso: 104956 GOOG\n"
     ]
    },
    {
     "name": "stdout",
     "output_type": "stream",
     "text": [
      "h1\n",
      "104956 GOOG\n",
      "===posible caso: 104992 GOOG\n",
      "h1\n",
      "104992 GOOG\n",
      "===posible caso: 105150 GOOG\n"
     ]
    },
    {
     "name": "stdout",
     "output_type": "stream",
     "text": [
      "h1\n",
      "105150 GOOG\n",
      "===posible caso: 105195 GOOG\n",
      "h1\n",
      "105195 GOOG\n",
      "===posible caso: 105218 GOOG\n"
     ]
    },
    {
     "name": "stdout",
     "output_type": "stream",
     "text": [
      "h1\n",
      "105218 GOOG\n",
      "===posible caso: 105261 GOOG\n",
      "===posible caso: 105296 GOOG\n",
      "===posible caso: 105338 GOOG\n"
     ]
    },
    {
     "name": "stdout",
     "output_type": "stream",
     "text": [
      "h1\n",
      "105338 GOOG\n",
      "===posible caso: 105385 GOOG\n",
      "===posible caso: 105406 GOOG\n",
      "h1\n",
      "105406 GOOG\n",
      "===posible caso: 105543 GOOG\n"
     ]
    },
    {
     "name": "stdout",
     "output_type": "stream",
     "text": [
      "===posible caso: 105561 GOOG\n",
      "===posible caso: 105608 GOOG\n"
     ]
    },
    {
     "name": "stdout",
     "output_type": "stream",
     "text": [
      "h1\n",
      "105608 GOOG\n",
      "===posible caso: 105652 GOOG\n",
      "===posible caso: 105733 GOOG\n"
     ]
    },
    {
     "name": "stdout",
     "output_type": "stream",
     "text": [
      "===posible caso: 105784 GOOG\n",
      "===posible caso: 105833 GOOG\n",
      "===posible caso: 105854 GOOG\n",
      "===posible caso: 105936 GOOG\n"
     ]
    },
    {
     "name": "stdout",
     "output_type": "stream",
     "text": [
      "===posible caso: 105958 GOOG\n",
      "h1\n",
      "105958 GOOG\n",
      "===posible caso: 106022 GOOG\n"
     ]
    },
    {
     "name": "stdout",
     "output_type": "stream",
     "text": [
      "===posible caso: 106061 GOOG\n",
      "===posible caso: 106114 GOOG\n"
     ]
    },
    {
     "name": "stdout",
     "output_type": "stream",
     "text": [
      "h1\n",
      "106114 GOOG\n",
      "===posible caso: 106171 GOOG\n",
      "===posible caso: 106216 GOOG\n",
      "===posible caso: 106275 GOOG\n"
     ]
    },
    {
     "name": "stdout",
     "output_type": "stream",
     "text": [
      "===posible caso: 106303 GOOG\n",
      "===posible caso: 106325 GOOG\n"
     ]
    },
    {
     "name": "stdout",
     "output_type": "stream",
     "text": [
      "h1\n",
      "106325 GOOG\n",
      "===posible caso: 106431 GOOG\n",
      "===posible caso: 106520 APP\n"
     ]
    },
    {
     "name": "stdout",
     "output_type": "stream",
     "text": [
      "===posible caso: 106547 APP\n",
      "===posible caso: 106587 APP\n"
     ]
    },
    {
     "name": "stdout",
     "output_type": "stream",
     "text": [
      "===posible caso: 106668 APP\n",
      "h1\n",
      "106668 APP\n",
      "===posible caso: 106741 APP\n"
     ]
    },
    {
     "name": "stdout",
     "output_type": "stream",
     "text": [
      "===posible caso: 106793 APP\n",
      "===posible caso: 106836 APP\n",
      "===posible caso: 106871 APP\n"
     ]
    },
    {
     "name": "stdout",
     "output_type": "stream",
     "text": [
      "===posible caso: 106910 APP\n",
      "h1\n",
      "106910 APP\n",
      "===posible caso: 106977 APP\n"
     ]
    },
    {
     "name": "stdout",
     "output_type": "stream",
     "text": [
      "===posible caso: 107018 APP\n",
      "h1\n",
      "107018 APP\n",
      "===posible caso: 107094 APP\n"
     ]
    },
    {
     "name": "stdout",
     "output_type": "stream",
     "text": [
      "h1\n",
      "107094 APP\n",
      "===posible caso: 107121 APP\n",
      "h1\n",
      "107121 APP\n",
      "===posible caso: 107184 APP\n"
     ]
    },
    {
     "name": "stdout",
     "output_type": "stream",
     "text": [
      "h1\n",
      "107184 APP\n",
      "===posible caso: 107224 APP\n",
      "===posible caso: 107308 APP\n",
      "===posible caso: 107365 APP\n"
     ]
    },
    {
     "name": "stdout",
     "output_type": "stream",
     "text": [
      "===posible caso: 107403 APP\n",
      "h1\n",
      "107403 APP\n",
      "===posible caso: 107473 APP\n"
     ]
    },
    {
     "name": "stdout",
     "output_type": "stream",
     "text": [
      "===posible caso: 107517 APP\n",
      "h1\n",
      "107517 APP\n",
      "===posible caso: 107545 APP\n"
     ]
    },
    {
     "name": "stdout",
     "output_type": "stream",
     "text": [
      "===posible caso: 107609 APP\n",
      "===posible caso: 107639 APP\n",
      "===posible caso: 107679 APP\n"
     ]
    },
    {
     "name": "stdout",
     "output_type": "stream",
     "text": [
      "===posible caso: 107707 APP\n",
      "===posible caso: 107735 APP\n"
     ]
    },
    {
     "name": "stdout",
     "output_type": "stream",
     "text": [
      "h1\n",
      "107735 APP\n",
      "===posible caso: 107798 APP\n",
      "===posible caso: 107823 APP\n"
     ]
    },
    {
     "name": "stdout",
     "output_type": "stream",
     "text": [
      "h1\n",
      "107823 APP\n",
      "===posible caso: 107881 APP\n",
      "h1\n",
      "107881 APP\n",
      "===posible caso: 107902 APP\n"
     ]
    },
    {
     "name": "stdout",
     "output_type": "stream",
     "text": [
      "h1\n",
      "107902 APP\n",
      "===posible caso: 107952 APP\n",
      "===posible caso: 107975 APP\n",
      "===posible caso: 108037 APP\n"
     ]
    },
    {
     "name": "stdout",
     "output_type": "stream",
     "text": [
      "===posible caso: 108072 APP\n",
      "h1\n",
      "108072 APP\n",
      "===posible caso: 108231 APP\n",
      "===posible caso: 108298 APP\n"
     ]
    },
    {
     "name": "stdout",
     "output_type": "stream",
     "text": [
      "===posible caso: 108346 APP\n",
      "===posible caso: 108536 APP\n",
      "h1\n",
      "108536 APP\n",
      "===posible caso: 108583 APP\n",
      "===posible caso: 108699 APP\n"
     ]
    },
    {
     "name": "stdout",
     "output_type": "stream",
     "text": [
      "===posible caso: 108788 APP\n",
      "===posible caso: 108837 APP\n"
     ]
    },
    {
     "name": "stdout",
     "output_type": "stream",
     "text": [
      "h1\n",
      "108837 APP\n",
      "===posible caso: 108873 APP\n",
      "h1\n",
      "108873 APP\n",
      "===posible caso: 108927 APP\n"
     ]
    },
    {
     "name": "stdout",
     "output_type": "stream",
     "text": [
      "===posible caso: 108979 APP\n",
      "===posible caso: 108996 APP\n"
     ]
    },
    {
     "name": "stdout",
     "output_type": "stream",
     "text": [
      "===posible caso: 109053 APP\n",
      "h1\n",
      "109053 APP\n",
      "===posible caso: 109135 APP\n",
      "===posible caso: 109180 APP\n"
     ]
    },
    {
     "name": "stdout",
     "output_type": "stream",
     "text": [
      "===posible caso: 109264 APP\n",
      "h1\n",
      "109264 APP\n",
      "===posible caso: 109312 APP\n"
     ]
    },
    {
     "name": "stdout",
     "output_type": "stream",
     "text": [
      "===posible caso: 109345 APP\n",
      "===posible caso: 109374 APP\n"
     ]
    },
    {
     "name": "stdout",
     "output_type": "stream",
     "text": [
      "===posible caso: 109440 APP\n",
      "===posible caso: 109513 APP\n",
      "===posible caso: 109555 APP\n"
     ]
    },
    {
     "name": "stdout",
     "output_type": "stream",
     "text": [
      "h1\n",
      "109555 APP\n",
      "===posible caso: 109745 APP\n",
      "===posible caso: 109790 APP\n"
     ]
    },
    {
     "name": "stdout",
     "output_type": "stream",
     "text": [
      "===posible caso: 109819 APP\n",
      "h1\n",
      "109819 APP\n",
      "===posible caso: 109915 APP\n"
     ]
    },
    {
     "name": "stdout",
     "output_type": "stream",
     "text": [
      "h1\n",
      "109915 APP\n",
      "===posible caso: 110052 UBER\n",
      "===posible caso: 110081 UBER\n"
     ]
    },
    {
     "name": "stdout",
     "output_type": "stream",
     "text": [
      "===posible caso: 110123 UBER\n",
      "h1\n",
      "110123 UBER\n",
      "===posible caso: 110147 UBER\n"
     ]
    },
    {
     "name": "stdout",
     "output_type": "stream",
     "text": [
      "===posible caso: 110208 UBER\n",
      "h1\n",
      "110208 UBER\n",
      "===posible caso: 110332 UBER\n"
     ]
    },
    {
     "name": "stdout",
     "output_type": "stream",
     "text": [
      "h1\n",
      "110332 UBER\n",
      "===posible caso: 110368 UBER\n",
      "h1\n",
      "110368 UBER\n",
      "===posible caso: 110415 UBER\n"
     ]
    },
    {
     "name": "stdout",
     "output_type": "stream",
     "text": [
      "h1\n",
      "110415 UBER\n",
      "===posible caso: 110453 UBER\n",
      "===posible caso: 110498 UBER\n",
      "===posible caso: 110553 UBER\n",
      "===posible caso: 110816 UBER\n"
     ]
    },
    {
     "name": "stdout",
     "output_type": "stream",
     "text": [
      "h1\n",
      "110816 UBER\n",
      "===posible caso: 110850 UBER\n",
      "h1\n",
      "110850 UBER\n",
      "===posible caso: 110937 UBER\n",
      "===posible caso: 111003 UBER\n"
     ]
    },
    {
     "name": "stdout",
     "output_type": "stream",
     "text": [
      "===posible caso: 111035 UBER\n",
      "===posible caso: 111080 UBER\n"
     ]
    },
    {
     "name": "stdout",
     "output_type": "stream",
     "text": [
      "===posible caso: 111129 UBER\n",
      "===posible caso: 111169 UBER\n",
      "===posible caso: 111192 UBER\n"
     ]
    },
    {
     "name": "stdout",
     "output_type": "stream",
     "text": [
      "h1\n",
      "111192 UBER\n",
      "===posible caso: 111213 UBER\n",
      "h1\n",
      "111213 UBER\n",
      "===posible caso: 111244 UBER\n"
     ]
    },
    {
     "name": "stdout",
     "output_type": "stream",
     "text": [
      "h1\n",
      "111244 UBER\n",
      "===posible caso: 111290 UBER\n",
      "===posible caso: 111334 UBER\n",
      "===posible caso: 111431 UBER\n",
      "===posible caso: 111488 UBER\n",
      "===posible caso: 111550 UBER\n"
     ]
    },
    {
     "name": "stdout",
     "output_type": "stream",
     "text": [
      "===posible caso: 111635 UBER\n",
      "h1\n",
      "111635 UBER\n",
      "===posible caso: 111714 UBER\n"
     ]
    },
    {
     "name": "stdout",
     "output_type": "stream",
     "text": [
      "===posible caso: 111736 UBER\n",
      "h1\n",
      "111736 UBER\n",
      "===posible caso: 111764 UBER\n"
     ]
    },
    {
     "name": "stdout",
     "output_type": "stream",
     "text": [
      "===posible caso: 111787 UBER\n",
      "h1\n",
      "111787 UBER\n",
      "===posible caso: 111809 UBER\n"
     ]
    },
    {
     "name": "stdout",
     "output_type": "stream",
     "text": [
      "===posible caso: 111885 UBER\n",
      "h1\n",
      "111885 UBER\n",
      "===posible caso: 111916 UBER\n",
      "===posible caso: 111959 UBER\n",
      "===posible caso: 112055 UBER\n"
     ]
    },
    {
     "name": "stdout",
     "output_type": "stream",
     "text": [
      "===posible caso: 112083 UBER\n",
      "h1\n",
      "112083 UBER\n",
      "===posible caso: 112203 UBER\n"
     ]
    },
    {
     "name": "stdout",
     "output_type": "stream",
     "text": [
      "h1\n",
      "112203 UBER\n",
      "===posible caso: 112233 UBER\n",
      "===posible caso: 112321 UBER\n"
     ]
    },
    {
     "name": "stdout",
     "output_type": "stream",
     "text": [
      "===posible caso: 112364 UBER\n",
      "===posible caso: 112496 UBER\n",
      "===posible caso: 112538 UBER\n"
     ]
    },
    {
     "name": "stdout",
     "output_type": "stream",
     "text": [
      "===posible caso: 112558 UBER\n",
      "===posible caso: 112640 UBER\n",
      "===posible caso: 112720 UBER\n"
     ]
    },
    {
     "name": "stdout",
     "output_type": "stream",
     "text": [
      "===posible caso: 112765 UBER\n",
      "===posible caso: 112806 UBER\n",
      "===posible caso: 112850 UBER\n",
      "===posible caso: 112915 UBER\n"
     ]
    },
    {
     "name": "stdout",
     "output_type": "stream",
     "text": [
      "===posible caso: 112960 UBER\n",
      "h1\n",
      "112960 UBER\n",
      "===posible caso: 112993 UBER\n"
     ]
    },
    {
     "name": "stdout",
     "output_type": "stream",
     "text": [
      "===posible caso: 113077 UBER\n",
      "h1\n",
      "113077 UBER\n",
      "===posible caso: 113207 UBER\n"
     ]
    },
    {
     "name": "stdout",
     "output_type": "stream",
     "text": [
      "h1\n",
      "113207 UBER\n",
      "===posible caso: 113238 UBER\n",
      "===posible caso: 113292 UBER\n",
      "===posible caso: 113327 UBER\n",
      "===posible caso: 113357 UBER\n"
     ]
    },
    {
     "name": "stdout",
     "output_type": "stream",
     "text": [
      "h1\n",
      "113357 UBER\n",
      "===posible caso: 113392 UBER\n",
      "h1\n",
      "113392 UBER\n",
      "===posible caso: 113432 UBER\n",
      "===posible caso: 113493 UBER\n"
     ]
    },
    {
     "name": "stdout",
     "output_type": "stream",
     "text": [
      "h3\n",
      "h4\n",
      "h3\n",
      "h4\n",
      "h3\n",
      "h4\n",
      "h3\n",
      "h4\n",
      "113493 UBER\n"
     ]
    }
   ],
   "source": [
    "df_casos = pd.DataFrame()\n",
    "caso = 0\n",
    "ticker2 = \"\"\n",
    "window=5\n",
    "backeval=75\n",
    "backevalTrend=0\n",
    "dfpl = pd.DataFrame\n",
    "trendH = []\n",
    "trendL = []\n",
    "cant = 0\n",
    "for i, row in df.iterrows():\n",
    "    #if (i==3560):\n",
    "    if(df['rcb01_01'][i]==1): #posibles casos \n",
    "        print(\"===posible caso:\",i, df['companyName'][i])\n",
    "        cant = 0\n",
    "        candle = i\n",
    "        cnt = 0\n",
    "        #valiniHigh = df.loc[candle,\"High\"]\n",
    "        #valiniLow = df.loc[candle,\"Low\"]\n",
    "        ticker = df['companyName'][i]\n",
    "        #Reinicio de casos por company\n",
    "        if ticker2 != ticker:\n",
    "            ticker2 = ticker\n",
    "            caso = 0\n",
    "        dfpl = df[(df.companyName==ticker)].loc[i-backeval:i+backeval]       \n",
    "\n",
    "        #print(\"rowMin:\", dfpl.index[0],\", rowMax:\", dfpl.index[-1])\n",
    "                    \n",
    "        h=1\n",
    "        l=1\n",
    "\n",
    "        cant = cant +1\n",
    "        cantHorasTrend=0\n",
    "        #print(\"opcionH:\",h,\"opcionL:\",l)\n",
    "        trendL, backevalTrend = backcandle(candle)\n",
    "        #print (\"-->trendH:\",trendH)\n",
    "        #print (\"-->backevalTrend:\",backevalTrend)    \n",
    "        \n",
    "        cantHorasTrend = (dfpl.loc[candle,\"datetime\"] - dfpl.loc[backevalTrend,\"datetime\"]).total_seconds() / 3600\n",
    "\n",
    "        if (cantHorasTrend>48): #Verificacion de caida por lo menos 2 dias\n",
    "            backevalTrend2 = candle - backevalTrend\n",
    "            #print (\"backevalTrend2\", backevalTrend2)\n",
    "                        \n",
    "            #revision de trend negativo indica que esta cayendo, solo me quedo con estos casos\n",
    "            sl_lows, interc_lows, r_sq_l = collect_channel(candle, backevalTrend2, trendL)\n",
    "                    \n",
    "    \n",
    "            #print(\"======:\", candle)\n",
    "            #print(\"===trendH===\")\n",
    "            #print(trendH)\n",
    "            #print(\"===trendL===\")\n",
    "            #print(trendL)\n",
    "            dfpl.loc[trendL, \"trendL\"] = 1\n",
    "                                \n",
    "            #print(\"sl_lows:\", sl_lows, \", interc_lows:\", interc_lows, \", r_sq_l:\", r_sq_l)\n",
    "            if (sl_lows>=0): #solo tendencias a la alza and ind_vela>0 sl_lows<0 and r_sq_h>=0.7  and sl_highs<=-0.1 and ind_vela>0\n",
    "                \n",
    "                #crear linea de tendencia high y low\n",
    "                dfpl['trendcurrlow']  = trendChannel(dfpl,candle,backevalTrend2,window,sl_lows,interc_lows)\n",
    "                \n",
    "                ind_vela = revisionVelas(dfpl, backeval,window, candle)\n",
    "                promVol = dfpl.loc[i-backeval:i][\"Volume\"].mean()\n",
    "    \n",
    "                #print(\"ind_vela:\",ind_vela)\n",
    "                if (ind_vela>0):\n",
    "                    dfpl[\"bearishSlope\"] = np.nan #pendiente bajista en vacio\n",
    "                    dfpl.loc[i, \"bearishSlope\"] = 1 #pendiente bajista solo al punto evaluado            \n",
    "                    dfpl[\"ind_posicion\"] = 0\n",
    "                    dfpl.loc[(dfpl.index < i), 'ind_posicion'] = -1\n",
    "                    dfpl.loc[(dfpl.index > i), 'ind_posicion'] = 1\n",
    "                    dfpl[\"promVol\"] = promVol\n",
    "                    dfpl[\"sl_lows\"] = sl_lows\n",
    "                    dfpl[\"r_sq_l\"] = r_sq_l\n",
    "            \n",
    "                    start = dfpl.index[0]\n",
    "                    dfpl[\"isBreakOut\"] = [isBreakOut(candleEval, backevalTrend2, window, start, candle) for candleEval in dfpl.index]\n",
    "                    # Solo me quedo con el primer BREAK OUT\n",
    "                    cnt = dfpl.query(\"isBreakOut==1 and Close<Open\").shape[0] \n",
    "                    id=0\n",
    "                    id2=0\n",
    "                    if cnt>0:\n",
    "                        id = dfpl.query(\"isBreakOut==1 and Close<Open\").index[0]                        \n",
    "                        #dfpl['isBreakOutIni'] = np.where(id!=dfpl.index, np.nan, dfpl['isBreakOut'])                        \n",
    "                        dfpl.loc[id,'isBreakOutIni'] = 1\n",
    "\n",
    "                        k=0\n",
    "                        while (k<=3):\n",
    "                            dfpl['breakpointpos'] = dfpl.apply(lambda row: breakpointpos(row), axis=1)\n",
    "                            cnt2 = dfpl.query(\"index>@id and isPivot==2\").shape[0]\n",
    "                            \n",
    "                            if cnt2>0:\n",
    "                                id2 = dfpl.query(\"index>@id and isPivot==2\").index[0]\n",
    "                                dfpl.loc[id2,'isBreakOutFinal'] = 1\n",
    "                                k=4\n",
    "                                print(\"h1\")\n",
    "                            else:\n",
    "                                #revisar 25 velas mas\n",
    "                                #print(\"paso8\")\n",
    "                                idfinal = dfpl.index[-1] \n",
    "                                idfinal2 = idfinal+25\n",
    "                                if idfinal2 in df[df['companyName']==ticker].index:\n",
    "                                    dfpl2 = df[(df.companyName==ticker)].loc[idfinal+1:idfinal2].copy()\n",
    "                                    dfpl = pd.concat([dfpl, dfpl2],ignore_index=False)    \n",
    "                                    print(\"h2\")\n",
    "                                else:                  \n",
    "                                    dfpl['isBreakOutFinal'] = np.nan\n",
    "                                    print(\"h3\")\n",
    "\n",
    "                                k=k+1\n",
    "                                print(\"h4\")\n",
    "                                \n",
    "                        \n",
    "                    else:\n",
    "                        dfpl['isBreakOutIni'] = np.nan                  \n",
    "                        dfpl['breakpointpos'] = np.nan\n",
    "            \n",
    "                    if cnt>0:\n",
    "                        #INSERT CASO\n",
    "                        caso=caso+1                            \n",
    "                        dfpl[\"caso\"] = caso\n",
    "                        print(i, df['companyName'][i])\n",
    "                        if len(df_casos)<1:\n",
    "                            df_casos = dfpl\n",
    "                        else:\n",
    "                            df_casos = pd.concat([df_casos, dfpl],ignore_index=False)\n"
   ]
  },
  {
   "cell_type": "code",
   "execution_count": 13,
   "id": "ee8cbb39-d190-488e-9acb-32cb2094acbb",
   "metadata": {
    "execution": {
     "iopub.execute_input": "2025-06-11T16:59:56.322967Z",
     "iopub.status.busy": "2025-06-11T16:59:56.322455Z",
     "iopub.status.idle": "2025-06-11T16:59:58.689774Z",
     "shell.execute_reply": "2025-06-11T16:59:58.689095Z"
    },
    "papermill": {
     "duration": 2.396353,
     "end_time": "2025-06-11T16:59:58.690881",
     "exception": false,
     "start_time": "2025-06-11T16:59:56.294528",
     "status": "completed"
    },
    "tags": []
   },
   "outputs": [],
   "source": [
    "#descarga de informacion, estrategia: RUPTURA DEL CANAL BAJISTA\n",
    "#path = r'C:\\Users\\carlo\\OneDrive\\Documentos\\TRADER\\traderapp\\data\\rcb_h.txt'\n",
    "path='data/rca_h.txt'\n",
    "\n",
    "# check whether the file exists\n",
    "if os.path.exists(path):\n",
    "    # delete the file\n",
    "    os.remove(path)\n",
    "else:\n",
    "    # if the file does not exist.\n",
    "    print(\"File does not exists. File needs to be created.\")\n",
    "\n",
    "#export DataFrame to text file\n",
    "with open(path, 'a') as f:\n",
    "    #df_string = appl_hor3.to_string(header=True, index=False, sep ='\\t')\n",
    "    df_casos.to_csv(path, header=True, index=None, sep='\\t', mode='w')\n",
    "    #f.write(df_string)"
   ]
  },
  {
   "cell_type": "markdown",
   "id": "2f3b1b22-7ae9-4f2e-b42e-a9064f2cbf09",
   "metadata": {
    "papermill": {
     "duration": 0.026903,
     "end_time": "2025-06-11T16:59:58.745685",
     "exception": false,
     "start_time": "2025-06-11T16:59:58.718782",
     "status": "completed"
    },
    "tags": []
   },
   "source": [
    "### BACKTESTING\n",
    "### Usando paquete backtesting.py"
   ]
  },
  {
   "cell_type": "code",
   "execution_count": 14,
   "id": "fb317fbb-f021-461f-a8c0-40463b42ed3e",
   "metadata": {
    "execution": {
     "iopub.execute_input": "2025-06-11T16:59:58.817420Z",
     "iopub.status.busy": "2025-06-11T16:59:58.816958Z",
     "iopub.status.idle": "2025-06-11T16:59:58.827857Z",
     "shell.execute_reply": "2025-06-11T16:59:58.827379Z"
    },
    "papermill": {
     "duration": 0.055538,
     "end_time": "2025-06-11T16:59:58.828685",
     "exception": false,
     "start_time": "2025-06-11T16:59:58.773147",
     "status": "completed"
    },
    "tags": []
   },
   "outputs": [],
   "source": [
    "df_casos2 = df_casos.query(\"isBreakOutIni==1 or isBreakOutFinal==1\").copy()"
   ]
  },
  {
   "cell_type": "code",
   "execution_count": 15,
   "id": "b8ad35c1-1c5e-438c-9fd9-20bf3feeee2c",
   "metadata": {
    "execution": {
     "iopub.execute_input": "2025-06-11T16:59:58.884793Z",
     "iopub.status.busy": "2025-06-11T16:59:58.884567Z",
     "iopub.status.idle": "2025-06-11T16:59:58.913526Z",
     "shell.execute_reply": "2025-06-11T16:59:58.912907Z"
    },
    "papermill": {
     "duration": 0.058154,
     "end_time": "2025-06-11T16:59:58.914636",
     "exception": false,
     "start_time": "2025-06-11T16:59:58.856482",
     "status": "completed"
    },
    "tags": []
   },
   "outputs": [],
   "source": [
    "# =============== BACKTESTING ================= #\n",
    "# obteniendo dataframe backtesting\n",
    "df_backTesting = pd.merge(df, df_casos2[['datetime','companyName', 'isBreakOutIni','isBreakOutFinal','caso']], on = ['companyName','datetime'], how='left')\n",
    "# datos de trade se asigna una vela anterior debido a que backtesting.py toma entra como la siguiente vela\n",
    "df_backTesting['isBreakOutIni'] = df_backTesting['isBreakOutIni'].shift(-1)\n",
    "df_backTesting['isBreakOutFinal'] = df_backTesting['isBreakOutFinal'].shift(-1)\n",
    "#modificamos indice con el compo datetime\n",
    "df_backTesting.set_index('datetime', inplace=True)"
   ]
  },
  {
   "cell_type": "code",
   "execution_count": 16,
   "id": "843cce1a-a09b-471c-a83c-3ba51e7a8658",
   "metadata": {
    "execution": {
     "iopub.execute_input": "2025-06-11T16:59:58.970795Z",
     "iopub.status.busy": "2025-06-11T16:59:58.970310Z",
     "iopub.status.idle": "2025-06-11T16:59:58.974365Z",
     "shell.execute_reply": "2025-06-11T16:59:58.973802Z"
    },
    "papermill": {
     "duration": 0.032693,
     "end_time": "2025-06-11T16:59:58.975215",
     "exception": false,
     "start_time": "2025-06-11T16:59:58.942522",
     "status": "completed"
    },
    "tags": []
   },
   "outputs": [],
   "source": [
    "#Strategia\n",
    "class strategyRupturaCanal(Strategy):    \n",
    "    def init(self):        \n",
    "        self.breakout_entry = self.I(lambda x: x, self.data.isBreakOutIni) #Indica la señal entrada al backtesting\n",
    "        self.breakout_exit = self.I(lambda x: x, self.data.isBreakOutFinal) #Indica la señal salida al backtesting\n",
    "\n",
    "    def next(self):       \n",
    "        #print(self.data)        \n",
    "        if self.breakout_entry[-1] == 1:\n",
    "            self.sell()  #COMPRA\n",
    "        elif self.breakout_exit[-1] == 1 and self.position:\n",
    "            self.position.close() #CIERRE"
   ]
  },
  {
   "cell_type": "code",
   "execution_count": 17,
   "id": "f6fd5f99-505d-4813-ad34-fb872cc5def8",
   "metadata": {
    "execution": {
     "iopub.execute_input": "2025-06-11T16:59:59.032191Z",
     "iopub.status.busy": "2025-06-11T16:59:59.031624Z",
     "iopub.status.idle": "2025-06-11T17:00:01.050627Z",
     "shell.execute_reply": "2025-06-11T17:00:01.050124Z"
    },
    "papermill": {
     "duration": 2.048497,
     "end_time": "2025-06-11T17:00:01.051546",
     "exception": false,
     "start_time": "2025-06-11T16:59:59.003049",
     "status": "completed"
    },
    "tags": []
   },
   "outputs": [
    {
     "name": "stderr",
     "output_type": "stream",
     "text": [
      "\r",
      "Backtest.run:   0%|          | 0/3363 [00:00<?, ?bar/s]"
     ]
    },
    {
     "name": "stderr",
     "output_type": "stream",
     "text": [
      "\r",
      "                                                       "
     ]
    },
    {
     "name": "stderr",
     "output_type": "stream",
     "text": [
      "\r"
     ]
    },
    {
     "name": "stderr",
     "output_type": "stream",
     "text": [
      "\r",
      "Backtest.run:   0%|          | 0/3219 [00:00<?, ?bar/s]"
     ]
    },
    {
     "name": "stderr",
     "output_type": "stream",
     "text": [
      "/usr/share/miniconda/envs/test/lib/python3.10/site-packages/backtesting/backtesting.py:954: UserWarning: time=452: Broker canceled the relative-sized order due to insufficient margin.\n",
      "  warnings.warn(\n",
      "/usr/share/miniconda/envs/test/lib/python3.10/site-packages/backtesting/backtesting.py:954: UserWarning: time=1778: Broker canceled the relative-sized order due to insufficient margin.\n",
      "  warnings.warn(\n",
      "/usr/share/miniconda/envs/test/lib/python3.10/site-packages/backtesting/backtesting.py:954: UserWarning: time=2929: Broker canceled the relative-sized order due to insufficient margin.\n",
      "  warnings.warn(\n",
      "\r",
      "                                                       "
     ]
    },
    {
     "name": "stderr",
     "output_type": "stream",
     "text": [
      "\r"
     ]
    },
    {
     "name": "stderr",
     "output_type": "stream",
     "text": [
      "\r",
      "Backtest.run:   0%|          | 0/3409 [00:00<?, ?bar/s]"
     ]
    },
    {
     "name": "stderr",
     "output_type": "stream",
     "text": [
      "\r",
      "                                                       "
     ]
    },
    {
     "name": "stderr",
     "output_type": "stream",
     "text": [
      "\r"
     ]
    },
    {
     "name": "stderr",
     "output_type": "stream",
     "text": [
      "\r",
      "Backtest.run:   0%|          | 0/3472 [00:00<?, ?bar/s]"
     ]
    },
    {
     "name": "stderr",
     "output_type": "stream",
     "text": [
      "\r",
      "                                                       "
     ]
    },
    {
     "name": "stderr",
     "output_type": "stream",
     "text": [
      "\r"
     ]
    },
    {
     "name": "stderr",
     "output_type": "stream",
     "text": [
      "\r",
      "Backtest.run:   0%|          | 0/3356 [00:00<?, ?bar/s]"
     ]
    },
    {
     "name": "stderr",
     "output_type": "stream",
     "text": [
      "/usr/share/miniconda/envs/test/lib/python3.10/site-packages/backtesting/backtesting.py:954: UserWarning: time=816: Broker canceled the relative-sized order due to insufficient margin.\n",
      "  warnings.warn(\n",
      "/usr/share/miniconda/envs/test/lib/python3.10/site-packages/backtesting/backtesting.py:954: UserWarning: time=1263: Broker canceled the relative-sized order due to insufficient margin.\n",
      "  warnings.warn(\n"
     ]
    },
    {
     "name": "stderr",
     "output_type": "stream",
     "text": [
      "\r",
      "                                                       "
     ]
    },
    {
     "name": "stderr",
     "output_type": "stream",
     "text": [
      "\r"
     ]
    },
    {
     "name": "stderr",
     "output_type": "stream",
     "text": [
      "\r",
      "Backtest.run:   0%|          | 0/3230 [00:00<?, ?bar/s]"
     ]
    },
    {
     "name": "stderr",
     "output_type": "stream",
     "text": [
      "\r",
      "                                                       "
     ]
    },
    {
     "name": "stderr",
     "output_type": "stream",
     "text": [
      "\r"
     ]
    },
    {
     "name": "stderr",
     "output_type": "stream",
     "text": [
      "\r",
      "Backtest.run:   0%|          | 0/3357 [00:00<?, ?bar/s]"
     ]
    },
    {
     "name": "stderr",
     "output_type": "stream",
     "text": [
      "\r",
      "                                                       "
     ]
    },
    {
     "name": "stderr",
     "output_type": "stream",
     "text": [
      "\r"
     ]
    },
    {
     "name": "stderr",
     "output_type": "stream",
     "text": [
      "\r",
      "Backtest.run:   0%|          | 0/3358 [00:00<?, ?bar/s]"
     ]
    },
    {
     "name": "stderr",
     "output_type": "stream",
     "text": [
      "/usr/share/miniconda/envs/test/lib/python3.10/site-packages/backtesting/backtesting.py:954: UserWarning: time=3213: Broker canceled the relative-sized order due to insufficient margin.\n",
      "  warnings.warn(\n",
      "\r",
      "                                                       "
     ]
    },
    {
     "name": "stderr",
     "output_type": "stream",
     "text": [
      "\r"
     ]
    },
    {
     "name": "stderr",
     "output_type": "stream",
     "text": [
      "\r",
      "Backtest.run:   0%|          | 0/3137 [00:00<?, ?bar/s]"
     ]
    },
    {
     "name": "stderr",
     "output_type": "stream",
     "text": [
      "/usr/share/miniconda/envs/test/lib/python3.10/site-packages/backtesting/backtesting.py:954: UserWarning: time=2128: Broker canceled the relative-sized order due to insufficient margin.\n",
      "  warnings.warn(\n"
     ]
    },
    {
     "name": "stderr",
     "output_type": "stream",
     "text": [
      "\r",
      "                                                       "
     ]
    },
    {
     "name": "stderr",
     "output_type": "stream",
     "text": [
      "\r"
     ]
    },
    {
     "name": "stderr",
     "output_type": "stream",
     "text": [
      "\r",
      "Backtest.run:   0%|          | 0/3355 [00:00<?, ?bar/s]"
     ]
    },
    {
     "name": "stderr",
     "output_type": "stream",
     "text": [
      "/usr/share/miniconda/envs/test/lib/python3.10/site-packages/backtesting/backtesting.py:954: UserWarning: time=2946: Broker canceled the relative-sized order due to insufficient margin.\n",
      "  warnings.warn(\n",
      "\r",
      "                                                       "
     ]
    },
    {
     "name": "stderr",
     "output_type": "stream",
     "text": [
      "\r"
     ]
    },
    {
     "name": "stderr",
     "output_type": "stream",
     "text": [
      "\r",
      "Backtest.run:   0%|          | 0/3231 [00:00<?, ?bar/s]"
     ]
    },
    {
     "name": "stderr",
     "output_type": "stream",
     "text": [
      "/usr/share/miniconda/envs/test/lib/python3.10/site-packages/backtesting/backtesting.py:954: UserWarning: time=1215: Broker canceled the relative-sized order due to insufficient margin.\n",
      "  warnings.warn(\n"
     ]
    },
    {
     "name": "stderr",
     "output_type": "stream",
     "text": [
      "\r",
      "                                                       "
     ]
    },
    {
     "name": "stderr",
     "output_type": "stream",
     "text": [
      "\r"
     ]
    },
    {
     "name": "stderr",
     "output_type": "stream",
     "text": [
      "\r",
      "Backtest.run:   0%|          | 0/2887 [00:00<?, ?bar/s]"
     ]
    },
    {
     "name": "stderr",
     "output_type": "stream",
     "text": [
      "\r",
      "                                                       "
     ]
    },
    {
     "name": "stderr",
     "output_type": "stream",
     "text": [
      "\r"
     ]
    },
    {
     "name": "stderr",
     "output_type": "stream",
     "text": [
      "\r",
      "Backtest.run:   0%|          | 0/3182 [00:00<?, ?bar/s]"
     ]
    },
    {
     "name": "stderr",
     "output_type": "stream",
     "text": [
      "\r",
      "                                                       "
     ]
    },
    {
     "name": "stderr",
     "output_type": "stream",
     "text": [
      "\r"
     ]
    },
    {
     "name": "stderr",
     "output_type": "stream",
     "text": [
      "\r",
      "Backtest.run:   0%|          | 0/3433 [00:00<?, ?bar/s]"
     ]
    },
    {
     "name": "stderr",
     "output_type": "stream",
     "text": [
      "/usr/share/miniconda/envs/test/lib/python3.10/site-packages/backtesting/backtesting.py:954: UserWarning: time=1427: Broker canceled the relative-sized order due to insufficient margin.\n",
      "  warnings.warn(\n",
      "/usr/share/miniconda/envs/test/lib/python3.10/site-packages/backtesting/backtesting.py:954: UserWarning: time=1457: Broker canceled the relative-sized order due to insufficient margin.\n",
      "  warnings.warn(\n",
      "\r",
      "                                                       "
     ]
    },
    {
     "name": "stderr",
     "output_type": "stream",
     "text": [
      "\r"
     ]
    },
    {
     "name": "stderr",
     "output_type": "stream",
     "text": [
      "\r",
      "Backtest.run:   0%|          | 0/3344 [00:00<?, ?bar/s]"
     ]
    },
    {
     "name": "stderr",
     "output_type": "stream",
     "text": [
      "\r",
      "                                                       "
     ]
    },
    {
     "name": "stderr",
     "output_type": "stream",
     "text": [
      "\r"
     ]
    },
    {
     "name": "stderr",
     "output_type": "stream",
     "text": [
      "\r",
      "Backtest.run:   0%|          | 0/3413 [00:00<?, ?bar/s]"
     ]
    },
    {
     "name": "stderr",
     "output_type": "stream",
     "text": [
      "/usr/share/miniconda/envs/test/lib/python3.10/site-packages/backtesting/backtesting.py:954: UserWarning: time=1824: Broker canceled the relative-sized order due to insufficient margin.\n",
      "  warnings.warn(\n",
      "\r",
      "                                                       "
     ]
    },
    {
     "name": "stderr",
     "output_type": "stream",
     "text": [
      "\r"
     ]
    },
    {
     "name": "stderr",
     "output_type": "stream",
     "text": [
      "\r",
      "Backtest.run:   0%|          | 0/3353 [00:00<?, ?bar/s]"
     ]
    },
    {
     "name": "stderr",
     "output_type": "stream",
     "text": [
      "/usr/share/miniconda/envs/test/lib/python3.10/site-packages/backtesting/backtesting.py:954: UserWarning: time=3360: Broker canceled the relative-sized order due to insufficient margin.\n",
      "  warnings.warn(\n",
      "/usr/share/miniconda/envs/test/lib/python3.10/site-packages/backtesting/backtesting.py:954: UserWarning: time=3387: Broker canceled the relative-sized order due to insufficient margin.\n",
      "  warnings.warn(\n",
      "\r",
      "                                                       "
     ]
    },
    {
     "name": "stderr",
     "output_type": "stream",
     "text": [
      "\r"
     ]
    },
    {
     "name": "stderr",
     "output_type": "stream",
     "text": [
      "\r",
      "Backtest.run:   0%|          | 0/3455 [00:00<?, ?bar/s]"
     ]
    },
    {
     "name": "stderr",
     "output_type": "stream",
     "text": [
      "\r",
      "                                                       "
     ]
    },
    {
     "name": "stderr",
     "output_type": "stream",
     "text": [
      "\r"
     ]
    },
    {
     "name": "stderr",
     "output_type": "stream",
     "text": [
      "\r",
      "Backtest.run:   0%|          | 0/3297 [00:00<?, ?bar/s]"
     ]
    },
    {
     "name": "stderr",
     "output_type": "stream",
     "text": [
      "/usr/share/miniconda/envs/test/lib/python3.10/site-packages/backtesting/backtesting.py:954: UserWarning: time=3267: Broker canceled the relative-sized order due to insufficient margin.\n",
      "  warnings.warn(\n",
      "\r",
      "                                                       "
     ]
    },
    {
     "name": "stderr",
     "output_type": "stream",
     "text": [
      "\r"
     ]
    },
    {
     "name": "stderr",
     "output_type": "stream",
     "text": [
      "\r",
      "Backtest.run:   0%|          | 0/3026 [00:00<?, ?bar/s]"
     ]
    },
    {
     "name": "stderr",
     "output_type": "stream",
     "text": [
      "/usr/share/miniconda/envs/test/lib/python3.10/site-packages/backtesting/backtesting.py:954: UserWarning: time=2111: Broker canceled the relative-sized order due to insufficient margin.\n",
      "  warnings.warn(\n"
     ]
    },
    {
     "name": "stderr",
     "output_type": "stream",
     "text": [
      "\r",
      "                                                       "
     ]
    },
    {
     "name": "stderr",
     "output_type": "stream",
     "text": [
      "\r"
     ]
    },
    {
     "name": "stderr",
     "output_type": "stream",
     "text": [
      "\r",
      "Backtest.run:   0%|          | 0/3349 [00:00<?, ?bar/s]"
     ]
    },
    {
     "name": "stderr",
     "output_type": "stream",
     "text": [
      "\r",
      "                                                       "
     ]
    },
    {
     "name": "stderr",
     "output_type": "stream",
     "text": [
      "\r"
     ]
    },
    {
     "name": "stderr",
     "output_type": "stream",
     "text": [
      "\r",
      "Backtest.run:   0%|          | 0/3099 [00:00<?, ?bar/s]"
     ]
    },
    {
     "name": "stderr",
     "output_type": "stream",
     "text": [
      "\r",
      "                                                       "
     ]
    },
    {
     "name": "stderr",
     "output_type": "stream",
     "text": [
      "\r"
     ]
    },
    {
     "name": "stderr",
     "output_type": "stream",
     "text": [
      "\r",
      "Backtest.run:   0%|          | 0/3431 [00:00<?, ?bar/s]"
     ]
    },
    {
     "name": "stderr",
     "output_type": "stream",
     "text": [
      "/usr/share/miniconda/envs/test/lib/python3.10/site-packages/backtesting/backtesting.py:954: UserWarning: time=609: Broker canceled the relative-sized order due to insufficient margin.\n",
      "  warnings.warn(\n",
      "/usr/share/miniconda/envs/test/lib/python3.10/site-packages/backtesting/backtesting.py:954: UserWarning: time=2519: Broker canceled the relative-sized order due to insufficient margin.\n",
      "  warnings.warn(\n",
      "\r",
      "                                                       "
     ]
    },
    {
     "name": "stderr",
     "output_type": "stream",
     "text": [
      "\r"
     ]
    },
    {
     "name": "stderr",
     "output_type": "stream",
     "text": [
      "\r",
      "Backtest.run:   0%|          | 0/3125 [00:00<?, ?bar/s]"
     ]
    },
    {
     "name": "stderr",
     "output_type": "stream",
     "text": [
      "\r",
      "                                                       "
     ]
    },
    {
     "name": "stderr",
     "output_type": "stream",
     "text": [
      "\r"
     ]
    },
    {
     "name": "stderr",
     "output_type": "stream",
     "text": [
      "\r",
      "Backtest.run:   0%|          | 0/3411 [00:00<?, ?bar/s]"
     ]
    },
    {
     "name": "stderr",
     "output_type": "stream",
     "text": [
      "\r",
      "                                                       "
     ]
    },
    {
     "name": "stderr",
     "output_type": "stream",
     "text": [
      "\r"
     ]
    },
    {
     "name": "stderr",
     "output_type": "stream",
     "text": [
      "\r",
      "Backtest.run:   0%|          | 0/3432 [00:00<?, ?bar/s]"
     ]
    },
    {
     "name": "stderr",
     "output_type": "stream",
     "text": [
      "\r",
      "                                                       "
     ]
    },
    {
     "name": "stderr",
     "output_type": "stream",
     "text": [
      "\r"
     ]
    },
    {
     "name": "stderr",
     "output_type": "stream",
     "text": [
      "\r",
      "Backtest.run:   0%|          | 0/2652 [00:00<?, ?bar/s]"
     ]
    },
    {
     "name": "stderr",
     "output_type": "stream",
     "text": [
      "/usr/share/miniconda/envs/test/lib/python3.10/site-packages/backtesting/backtesting.py:954: UserWarning: time=2610: Broker canceled the relative-sized order due to insufficient margin.\n",
      "  warnings.warn(\n"
     ]
    },
    {
     "name": "stderr",
     "output_type": "stream",
     "text": [
      "\r",
      "                                                       "
     ]
    },
    {
     "name": "stderr",
     "output_type": "stream",
     "text": [
      "\r"
     ]
    },
    {
     "name": "stderr",
     "output_type": "stream",
     "text": [
      "\r",
      "Backtest.run:   0%|          | 0/111 [00:00<?, ?bar/s]"
     ]
    },
    {
     "name": "stderr",
     "output_type": "stream",
     "text": [
      "\r",
      "                                                      "
     ]
    },
    {
     "name": "stderr",
     "output_type": "stream",
     "text": [
      "\r"
     ]
    },
    {
     "name": "stderr",
     "output_type": "stream",
     "text": [
      "/tmp/ipykernel_2167/2801041912.py:34: FutureWarning: The behavior of DataFrame concatenation with empty or all-NA entries is deprecated. In a future version, this will no longer exclude empty or all-NA columns when determining the result dtypes. To retain the old behavior, exclude the relevant entries before the concat operation.\n",
      "  tradesprev = pd.concat([tradesprev, tradesdf],ignore_index=True)\n",
      "/tmp/ipykernel_2167/2801041912.py:35: FutureWarning: The behavior of DataFrame concatenation with empty or all-NA entries is deprecated. In a future version, this will no longer exclude empty or all-NA columns when determining the result dtypes. To retain the old behavior, exclude the relevant entries before the concat operation.\n",
      "  estadisticas=pd.concat([estadisticas, stat],ignore_index=True)\n"
     ]
    },
    {
     "name": "stderr",
     "output_type": "stream",
     "text": [
      "\r",
      "Backtest.run:   0%|          | 0/3350 [00:00<?, ?bar/s]"
     ]
    },
    {
     "name": "stderr",
     "output_type": "stream",
     "text": [
      "/usr/share/miniconda/envs/test/lib/python3.10/site-packages/backtesting/backtesting.py:954: UserWarning: time=1330: Broker canceled the relative-sized order due to insufficient margin.\n",
      "  warnings.warn(\n"
     ]
    },
    {
     "name": "stderr",
     "output_type": "stream",
     "text": [
      "\r",
      "                                                       "
     ]
    },
    {
     "name": "stderr",
     "output_type": "stream",
     "text": [
      "\r"
     ]
    },
    {
     "name": "stderr",
     "output_type": "stream",
     "text": [
      "\r",
      "Backtest.run:   0%|          | 0/2834 [00:00<?, ?bar/s]"
     ]
    },
    {
     "name": "stderr",
     "output_type": "stream",
     "text": [
      "/usr/share/miniconda/envs/test/lib/python3.10/site-packages/backtesting/backtesting.py:954: UserWarning: time=1198: Broker canceled the relative-sized order due to insufficient margin.\n",
      "  warnings.warn(\n"
     ]
    },
    {
     "name": "stderr",
     "output_type": "stream",
     "text": [
      "\r",
      "                                                       "
     ]
    },
    {
     "name": "stderr",
     "output_type": "stream",
     "text": [
      "\r"
     ]
    },
    {
     "name": "stderr",
     "output_type": "stream",
     "text": [
      "\r",
      "Backtest.run:   0%|          | 0/3102 [00:00<?, ?bar/s]"
     ]
    },
    {
     "name": "stderr",
     "output_type": "stream",
     "text": [
      "/usr/share/miniconda/envs/test/lib/python3.10/site-packages/backtesting/backtesting.py:954: UserWarning: time=940: Broker canceled the relative-sized order due to insufficient margin.\n",
      "  warnings.warn(\n",
      "/usr/share/miniconda/envs/test/lib/python3.10/site-packages/backtesting/backtesting.py:954: UserWarning: time=1101: Broker canceled the relative-sized order due to insufficient margin.\n",
      "  warnings.warn(\n"
     ]
    },
    {
     "name": "stderr",
     "output_type": "stream",
     "text": [
      "\r",
      "                                                       "
     ]
    },
    {
     "name": "stderr",
     "output_type": "stream",
     "text": [
      "\r"
     ]
    },
    {
     "name": "stderr",
     "output_type": "stream",
     "text": [
      "\r",
      "Backtest.run:   0%|          | 0/3300 [00:00<?, ?bar/s]"
     ]
    },
    {
     "name": "stderr",
     "output_type": "stream",
     "text": [
      "/usr/share/miniconda/envs/test/lib/python3.10/site-packages/backtesting/backtesting.py:954: UserWarning: time=1456: Broker canceled the relative-sized order due to insufficient margin.\n",
      "  warnings.warn(\n"
     ]
    },
    {
     "name": "stderr",
     "output_type": "stream",
     "text": [
      "/usr/share/miniconda/envs/test/lib/python3.10/site-packages/backtesting/backtesting.py:954: UserWarning: time=2428: Broker canceled the relative-sized order due to insufficient margin.\n",
      "  warnings.warn(\n",
      "\r",
      "                                                       "
     ]
    },
    {
     "name": "stderr",
     "output_type": "stream",
     "text": [
      "\r"
     ]
    },
    {
     "name": "stderr",
     "output_type": "stream",
     "text": [
      "\r",
      "Backtest.run:   0%|          | 0/3358 [00:00<?, ?bar/s]"
     ]
    },
    {
     "name": "stderr",
     "output_type": "stream",
     "text": [
      "/usr/share/miniconda/envs/test/lib/python3.10/site-packages/backtesting/backtesting.py:954: UserWarning: time=872: Broker canceled the relative-sized order due to insufficient margin.\n",
      "  warnings.warn(\n",
      "/usr/share/miniconda/envs/test/lib/python3.10/site-packages/backtesting/backtesting.py:954: UserWarning: time=1235: Broker canceled the relative-sized order due to insufficient margin.\n",
      "  warnings.warn(\n"
     ]
    },
    {
     "name": "stderr",
     "output_type": "stream",
     "text": [
      "\r",
      "                                                       "
     ]
    },
    {
     "name": "stderr",
     "output_type": "stream",
     "text": [
      "\r"
     ]
    }
   ],
   "source": [
    "# Por cada TIcket\n",
    "my_stats = {}\n",
    "estadisticas = pd.DataFrame()          # lista para ticker\n",
    "tradesprev = pd.DataFrame()     # lista para cada caso por ticker\n",
    "for ticker in df_backTesting['companyName'].unique():\n",
    "    ticker_data = df_backTesting[df_backTesting['companyName'] == ticker].copy() #Filtro por cada ticker\n",
    "    bt = Backtest(ticker_data, strategyRupturaCanal, cash=10_000)\n",
    "    my_stats = bt.run()\n",
    "    listTrades = my_stats['_trades']\n",
    "    tradesdf = pd.DataFrame(listTrades) #trades\n",
    "    tradesdf['Ticker'] = ticker\n",
    "    stats_filter={\n",
    "        'Ticker':ticker,\n",
    "        'EntryTime':my_stats['Start'],\n",
    "        'ExitTime':my_stats['End'],\n",
    "        'Return [%]': my_stats['Return [%]'],\n",
    "        'CAGR [%]': my_stats['Return (Ann.) [%]'],\n",
    "        'Sharpe Ratio': my_stats['Sharpe Ratio'],\n",
    "        'Max. Drawdown [%]': my_stats['Max. Drawdown [%]'],\n",
    "        'Win Rate [%]': my_stats['Win Rate [%]'],\n",
    "        '# Trades': my_stats['# Trades'],\n",
    "        'Expectancy [%]': my_stats['Expectancy [%]'],\n",
    "        'Profit Factor': my_stats['Profit Factor'],\n",
    "        'Duration': my_stats['Duration'],\n",
    "        'Avg. Trade [%]':my_stats['Avg. Trade [%]'],\n",
    "        'Max. Trade Duration':my_stats['Max. Trade Duration'],\n",
    "        'Avg. Trade Duration':my_stats['Avg. Trade Duration']\n",
    "    }\n",
    "    stat=pd.DataFrame([stats_filter])\n",
    "    if tradesprev.shape[0]==0:\n",
    "        tradesprev = tradesdf.copy()\n",
    "        estadisticas=stat.copy()\n",
    "    else:\n",
    "        tradesprev = pd.concat([tradesprev, tradesdf],ignore_index=True)\n",
    "        estadisticas=pd.concat([estadisticas, stat],ignore_index=True)\n",
    "    # Mostramos\n",
    "    #bt.plot(resample=False, filename=f\"plot_BreakOUT_{ticker}\")"
   ]
  },
  {
   "cell_type": "code",
   "execution_count": 18,
   "id": "ebdac24e-07d0-4923-b11b-c35831321046",
   "metadata": {
    "execution": {
     "iopub.execute_input": "2025-06-11T17:00:01.116683Z",
     "iopub.status.busy": "2025-06-11T17:00:01.116277Z",
     "iopub.status.idle": "2025-06-11T17:00:01.122938Z",
     "shell.execute_reply": "2025-06-11T17:00:01.122300Z"
    },
    "papermill": {
     "duration": 0.039625,
     "end_time": "2025-06-11T17:00:01.123776",
     "exception": false,
     "start_time": "2025-06-11T17:00:01.084151",
     "status": "completed"
    },
    "tags": []
   },
   "outputs": [],
   "source": [
    "ini = df_casos2[(df_casos2['isBreakOutIni']==1)].copy()\n",
    "df_casos3_ini=ini.rename(columns={'Open': 'EntryPrice', 'datetime': 'EntryTime', 'companyName': 'Ticker'})[['EntryPrice','Ticker','caso','EntryTime']]\n",
    "final = df_casos2[(df_casos2['isBreakOutFinal']==1)].copy()\n",
    "df_casos3_final=final.rename(columns={'Open': 'ExitPrice', 'datetime': 'ExitTime', 'companyName': 'Ticker'})[['ExitPrice','Ticker','caso','ExitTime']]"
   ]
  },
  {
   "cell_type": "code",
   "execution_count": 19,
   "id": "8fbb81d3",
   "metadata": {
    "execution": {
     "iopub.execute_input": "2025-06-11T17:00:01.187203Z",
     "iopub.status.busy": "2025-06-11T17:00:01.186824Z",
     "iopub.status.idle": "2025-06-11T17:00:01.192947Z",
     "shell.execute_reply": "2025-06-11T17:00:01.192368Z"
    },
    "papermill": {
     "duration": 0.038907,
     "end_time": "2025-06-11T17:00:01.193953",
     "exception": false,
     "start_time": "2025-06-11T17:00:01.155046",
     "status": "completed"
    },
    "tags": []
   },
   "outputs": [],
   "source": [
    "df_casos3=df_casos3_ini.merge(df_casos3_final,on=['Ticker','caso'],how='outer')"
   ]
  },
  {
   "cell_type": "code",
   "execution_count": 20,
   "id": "3b0668a0",
   "metadata": {
    "execution": {
     "iopub.execute_input": "2025-06-11T17:00:01.257200Z",
     "iopub.status.busy": "2025-06-11T17:00:01.256738Z",
     "iopub.status.idle": "2025-06-11T17:00:01.262975Z",
     "shell.execute_reply": "2025-06-11T17:00:01.262505Z"
    },
    "papermill": {
     "duration": 0.038558,
     "end_time": "2025-06-11T17:00:01.263895",
     "exception": false,
     "start_time": "2025-06-11T17:00:01.225337",
     "status": "completed"
    },
    "tags": []
   },
   "outputs": [],
   "source": [
    "trades = pd.merge(df_casos3, tradesprev, on = ['EntryTime','Ticker'], how='left')"
   ]
  },
  {
   "cell_type": "code",
   "execution_count": 21,
   "id": "15ac2ccd",
   "metadata": {
    "execution": {
     "iopub.execute_input": "2025-06-11T17:00:01.327395Z",
     "iopub.status.busy": "2025-06-11T17:00:01.326913Z",
     "iopub.status.idle": "2025-06-11T17:00:01.336548Z",
     "shell.execute_reply": "2025-06-11T17:00:01.336032Z"
    },
    "papermill": {
     "duration": 0.04203,
     "end_time": "2025-06-11T17:00:01.337335",
     "exception": false,
     "start_time": "2025-06-11T17:00:01.295305",
     "status": "completed"
    },
    "tags": []
   },
   "outputs": [],
   "source": [
    "def exitPrice(x):\n",
    "    if pd.isna(x['ExitPrice_x']):\n",
    "        return x['ExitPrice_y']\n",
    "    else:\n",
    "        return x['ExitPrice_x']\n",
    "trades['ExitPrice'] = trades.apply(lambda row: exitPrice(row), axis=1)"
   ]
  },
  {
   "cell_type": "code",
   "execution_count": 22,
   "id": "6a76fb26",
   "metadata": {
    "execution": {
     "iopub.execute_input": "2025-06-11T17:00:01.401936Z",
     "iopub.status.busy": "2025-06-11T17:00:01.401666Z",
     "iopub.status.idle": "2025-06-11T17:00:01.406458Z",
     "shell.execute_reply": "2025-06-11T17:00:01.405969Z"
    },
    "papermill": {
     "duration": 0.038334,
     "end_time": "2025-06-11T17:00:01.407361",
     "exception": false,
     "start_time": "2025-06-11T17:00:01.369027",
     "status": "completed"
    },
    "tags": []
   },
   "outputs": [],
   "source": [
    "trades = trades.rename(columns={'EntryPrice_x': 'EntryPrice'})\n",
    "trades = trades.drop(['EntryPrice_y','ExitPrice_x', 'ExitPrice_y'], axis=1)"
   ]
  },
  {
   "cell_type": "code",
   "execution_count": 23,
   "id": "b2ae9041",
   "metadata": {
    "execution": {
     "iopub.execute_input": "2025-06-11T17:00:01.470801Z",
     "iopub.status.busy": "2025-06-11T17:00:01.470568Z",
     "iopub.status.idle": "2025-06-11T17:00:01.480631Z",
     "shell.execute_reply": "2025-06-11T17:00:01.480143Z"
    },
    "papermill": {
     "duration": 0.042545,
     "end_time": "2025-06-11T17:00:01.481491",
     "exception": false,
     "start_time": "2025-06-11T17:00:01.438946",
     "status": "completed"
    },
    "tags": []
   },
   "outputs": [],
   "source": [
    "def exitTime(x):\n",
    "    if pd.isna(x['ExitTime_x']):\n",
    "        return x['ExitTime_y']\n",
    "    else:\n",
    "        return x['ExitTime_x']\n",
    "trades['ExitTime'] = trades.apply(lambda row: exitTime(row), axis=1)"
   ]
  },
  {
   "cell_type": "code",
   "execution_count": 24,
   "id": "193cdbfe",
   "metadata": {
    "execution": {
     "iopub.execute_input": "2025-06-11T17:00:01.549544Z",
     "iopub.status.busy": "2025-06-11T17:00:01.549207Z",
     "iopub.status.idle": "2025-06-11T17:00:01.560517Z",
     "shell.execute_reply": "2025-06-11T17:00:01.559975Z"
    },
    "papermill": {
     "duration": 0.048004,
     "end_time": "2025-06-11T17:00:01.561438",
     "exception": false,
     "start_time": "2025-06-11T17:00:01.513434",
     "status": "completed"
    },
    "tags": []
   },
   "outputs": [],
   "source": [
    "def duration(x):\n",
    "    if pd.isna(x['Duration']):\n",
    "        if pd.isna(x['ExitTime']):\n",
    "            return pd.NaT\n",
    "        else:\n",
    "            return x['ExitTime']-x['EntryTime']\n",
    "    else:\n",
    "        return x['Duration']\n",
    "trades['Duration'] = trades.apply(lambda row: duration(row), axis=1)"
   ]
  },
  {
   "cell_type": "code",
   "execution_count": 25,
   "id": "c032ed19",
   "metadata": {
    "execution": {
     "iopub.execute_input": "2025-06-11T17:00:01.626541Z",
     "iopub.status.busy": "2025-06-11T17:00:01.626282Z",
     "iopub.status.idle": "2025-06-11T17:00:01.630048Z",
     "shell.execute_reply": "2025-06-11T17:00:01.629571Z"
    },
    "papermill": {
     "duration": 0.037101,
     "end_time": "2025-06-11T17:00:01.630982",
     "exception": false,
     "start_time": "2025-06-11T17:00:01.593881",
     "status": "completed"
    },
    "tags": []
   },
   "outputs": [],
   "source": [
    "trades = trades.drop(['ExitTime_x', 'ExitTime_y'], axis=1)"
   ]
  },
  {
   "cell_type": "code",
   "execution_count": 26,
   "id": "881ca541",
   "metadata": {
    "execution": {
     "iopub.execute_input": "2025-06-11T17:00:01.697116Z",
     "iopub.status.busy": "2025-06-11T17:00:01.696629Z",
     "iopub.status.idle": "2025-06-11T17:00:01.700748Z",
     "shell.execute_reply": "2025-06-11T17:00:01.700237Z"
    },
    "papermill": {
     "duration": 0.038054,
     "end_time": "2025-06-11T17:00:01.701612",
     "exception": false,
     "start_time": "2025-06-11T17:00:01.663558",
     "status": "completed"
    },
    "tags": []
   },
   "outputs": [],
   "source": [
    "trades=trades[['Ticker','EntryTime','ExitTime','EntryPrice','ExitPrice','Duration','Size','EntryBar','ExitBar','ReturnPct','PnL','caso']]"
   ]
  },
  {
   "cell_type": "code",
   "execution_count": 27,
   "id": "a72c8a0d",
   "metadata": {
    "execution": {
     "iopub.execute_input": "2025-06-11T17:00:01.767740Z",
     "iopub.status.busy": "2025-06-11T17:00:01.767476Z",
     "iopub.status.idle": "2025-06-11T17:00:01.796334Z",
     "shell.execute_reply": "2025-06-11T17:00:01.795791Z"
    },
    "papermill": {
     "duration": 0.063207,
     "end_time": "2025-06-11T17:00:01.797155",
     "exception": false,
     "start_time": "2025-06-11T17:00:01.733948",
     "status": "completed"
    },
    "tags": []
   },
   "outputs": [],
   "source": [
    "for item in estadisticas['Ticker'].unique():\n",
    "    count = trades[trades[\"Ticker\"] == item].shape[0]\n",
    "    estadisticas.loc[estadisticas['Ticker'] == item, '# Trades'] = count"
   ]
  },
  {
   "cell_type": "code",
   "execution_count": 28,
   "id": "eda2a7ba",
   "metadata": {
    "execution": {
     "iopub.execute_input": "2025-06-11T17:00:01.862363Z",
     "iopub.status.busy": "2025-06-11T17:00:01.861762Z",
     "iopub.status.idle": "2025-06-11T17:00:01.881765Z",
     "shell.execute_reply": "2025-06-11T17:00:01.881132Z"
    },
    "papermill": {
     "duration": 0.053099,
     "end_time": "2025-06-11T17:00:01.882782",
     "exception": false,
     "start_time": "2025-06-11T17:00:01.829683",
     "status": "completed"
    },
    "tags": []
   },
   "outputs": [],
   "source": [
    "#EXPORTACION DE DATAFRAME\n",
    "path = 'data/backtesting'\n",
    "\n",
    "# Asegurarse de que el directorio existe\n",
    "os.makedirs(path, exist_ok=True)\n",
    "\n",
    "path_trades = os.path.join(path, 'trades_rca_h.csv')\n",
    "path_estadisticas = os.path.join(path, 'estadisticas_rca_h.csv')\n",
    "\n",
    "for file_path in [path_trades, path_estadisticas]:\n",
    "    if os.path.exists(file_path):\n",
    "        os.remove(file_path)\n",
    "    else:\n",
    "        print(f\"File does not exist: {file_path}. It will be created.\")\n",
    "\n",
    "trades.to_csv(path_trades, header=True, index=False, sep='\\t', mode='w')\n",
    "estadisticas.to_csv(path_estadisticas, header=True, index=False, sep='\\t', mode='w')\n"
   ]
  }
 ],
 "metadata": {
  "kernelspec": {
   "display_name": "Python [conda env:base] *",
   "language": "python",
   "name": "conda-base-py"
  },
  "language_info": {
   "codemirror_mode": {
    "name": "ipython",
    "version": 3
   },
   "file_extension": ".py",
   "mimetype": "text/x-python",
   "name": "python",
   "nbconvert_exporter": "python",
   "pygments_lexer": "ipython3",
   "version": "3.10.18"
  },
  "papermill": {
   "default_parameters": {},
   "duration": 215.48351,
   "end_time": "2025-06-11T17:00:02.431035",
   "environment_variables": {},
   "exception": null,
   "input_path": "BreakOut_alcista.ipynb",
   "output_path": "output/BreakOut_alcista.ipynb",
   "parameters": {},
   "start_time": "2025-06-11T16:56:26.947525",
   "version": "2.6.0"
  }
 },
 "nbformat": 4,
 "nbformat_minor": 5
}