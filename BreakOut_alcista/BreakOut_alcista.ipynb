{
 "cells": [
  {
   "cell_type": "markdown",
   "id": "add7e209-9b3e-4a88-9f6c-e4036fd41ac1",
   "metadata": {
    "papermill": {
     "duration": 0.004293,
     "end_time": "2025-06-11T16:20:49.541046",
     "exception": false,
     "start_time": "2025-06-11T16:20:49.536753",
     "status": "completed"
    },
    "tags": []
   },
   "source": [
    "# Channel Break Out Detection Alcista"
   ]
  },
  {
   "cell_type": "code",
   "execution_count": 1,
   "id": "d9112859-5bd6-42a9-bde4-b8ff8d2aa4b3",
   "metadata": {
    "execution": {
     "iopub.execute_input": "2025-06-11T16:20:49.549577Z",
     "iopub.status.busy": "2025-06-11T16:20:49.549038Z",
     "iopub.status.idle": "2025-06-11T16:20:50.831336Z",
     "shell.execute_reply": "2025-06-11T16:20:50.830826Z"
    },
    "papermill": {
     "duration": 1.287578,
     "end_time": "2025-06-11T16:20:50.832280",
     "exception": false,
     "start_time": "2025-06-11T16:20:49.544702",
     "status": "completed"
    },
    "tags": []
   },
   "outputs": [
    {
     "name": "stderr",
     "output_type": "stream",
     "text": [
      "/usr/share/miniconda/envs/test/lib/python3.10/site-packages/tqdm/auto.py:21: TqdmWarning: IProgress not found. Please update jupyter and ipywidgets. See https://ipywidgets.readthedocs.io/en/stable/user_install.html\n",
      "  from .autonotebook import tqdm as notebook_tqdm\n",
      "/usr/share/miniconda/envs/test/lib/python3.10/site-packages/backtesting/_plotting.py:55: UserWarning: Jupyter Notebook detected. Setting Bokeh output to notebook. This may not work in Jupyter clients without JavaScript support, such as old IDEs. Reset with `backtesting.set_bokeh_output(notebook=False)`.\n",
      "  warnings.warn('Jupyter Notebook detected. '\n"
     ]
    },
    {
     "data": {
      "text/html": [
       "    <style>\n",
       "        .bk-notebook-logo {\n",
       "            display: block;\n",
       "            width: 20px;\n",
       "            height: 20px;\n",
       "            background-image: url(data:image/png;base64,iVBORw0KGgoAAAANSUhEUgAAABQAAAAUCAYAAACNiR0NAAAABHNCSVQICAgIfAhkiAAAAAlwSFlzAAALEgAACxIB0t1+/AAAABx0RVh0U29mdHdhcmUAQWRvYmUgRmlyZXdvcmtzIENTNui8sowAAAOkSURBVDiNjZRtaJVlGMd/1/08zzln5zjP1LWcU9N0NkN8m2CYjpgQYQXqSs0I84OLIC0hkEKoPtiH3gmKoiJDU7QpLgoLjLIQCpEsNJ1vqUOdO7ppbuec5+V+rj4ctwzd8IIbbi6u+8f1539dt3A78eXC7QizUF7gyV1fD1Yqg4JWz84yffhm0qkFqBogB9rM8tZdtwVsPUhWhGcFJngGeWrPzHm5oaMmkfEg1usvLFyc8jLRqDOMru7AyC8saQr7GG7f5fvDeH7Ej8CM66nIF+8yngt6HWaKh7k49Soy9nXurCi1o3qUbS3zWfrYeQDTB/Qj6kX6Ybhw4B+bOYoLKCC9H3Nu/leUTZ1JdRWkkn2ldcCamzrcf47KKXdAJllSlxAOkRgyHsGC/zRday5Qld9DyoM4/q/rUoy/CXh3jzOu3bHUVZeU+DEn8FInkPBFlu3+nW3Nw0mk6vCDiWg8CeJaxEwuHS3+z5RgY+YBR6V1Z1nxSOfoaPa4LASWxxdNp+VWTk7+4vzaou8v8PN+xo+KY2xsw6une2frhw05CTYOmQvsEhjhWjn0bmXPjpE1+kplmmkP3suftwTubK9Vq22qKmrBhpY4jvd5afdRA3wGjFAgcnTK2s4hY0/GPNIb0nErGMCRxWOOX64Z8RAC4oCXdklmEvcL8o0BfkNK4lUg9HTl+oPlQxdNo3Mg4Nv175e/1LDGzZen30MEjRUtmXSfiTVu1kK8W4txyV6BMKlbgk3lMwYCiusNy9fVfvvwMxv8Ynl6vxoByANLTWplvuj/nF9m2+PDtt1eiHPBr1oIfhCChQMBw6Aw0UulqTKZdfVvfG7VcfIqLG9bcldL/+pdWTLxLUy8Qq38heUIjh4XlzZxzQm19lLFlr8vdQ97rjZVOLf8nclzckbcD4wxXMidpX30sFd37Fv/GtwwhzhxGVAprjbg0gCAEeIgwCZyTV2Z1REEW8O4py0wsjeloKoMr6iCY6dP92H6Vw/oTyICIthibxjm/DfN9lVz8IqtqKYLUXfoKVMVQVVJOElGjrnnUt9T9wbgp8AyYKaGlqingHZU/uG2NTZSVqwHQTWkx9hxjkpWDaCg6Ckj5qebgBVbT3V3NNXMSiWSDdGV3hrtzla7J+duwPOToIg42ChPQOQjspnSlp1V+Gjdged7+8UN5CRAV7a5EdFNwCjEaBR27b3W890TE7g24NAP/mMDXRWrGoFPQI9ls/MWO2dWFAar/xcOIImbbpA3zgAAAABJRU5ErkJggg==);\n",
       "        }\n",
       "    </style>\n",
       "    <div>\n",
       "        <a href=\"https://bokeh.org\" target=\"_blank\" class=\"bk-notebook-logo\"></a>\n",
       "        <span id=\"d0471b0d-7a76-46f6-b323-359f0621ab92\">Loading BokehJS ...</span>\n",
       "    </div>\n"
      ]
     },
     "metadata": {},
     "output_type": "display_data"
    },
    {
     "data": {
      "application/javascript": [
       "'use strict';\n",
       "(function(root) {\n",
       "  function now() {\n",
       "    return new Date();\n",
       "  }\n",
       "\n",
       "  const force = true;\n",
       "\n",
       "  if (typeof root._bokeh_onload_callbacks === \"undefined\" || force === true) {\n",
       "    root._bokeh_onload_callbacks = [];\n",
       "    root._bokeh_is_loading = undefined;\n",
       "  }\n",
       "\n",
       "const JS_MIME_TYPE = 'application/javascript';\n",
       "  const HTML_MIME_TYPE = 'text/html';\n",
       "  const EXEC_MIME_TYPE = 'application/vnd.bokehjs_exec.v0+json';\n",
       "  const CLASS_NAME = 'output_bokeh rendered_html';\n",
       "\n",
       "  /**\n",
       "   * Render data to the DOM node\n",
       "   */\n",
       "  function render(props, node) {\n",
       "    const script = document.createElement(\"script\");\n",
       "    node.appendChild(script);\n",
       "  }\n",
       "\n",
       "  /**\n",
       "   * Handle when an output is cleared or removed\n",
       "   */\n",
       "  function handleClearOutput(event, handle) {\n",
       "    function drop(id) {\n",
       "      const view = Bokeh.index.get_by_id(id)\n",
       "      if (view != null) {\n",
       "        view.model.document.clear()\n",
       "        Bokeh.index.delete(view)\n",
       "      }\n",
       "    }\n",
       "\n",
       "    const cell = handle.cell;\n",
       "\n",
       "    const id = cell.output_area._bokeh_element_id;\n",
       "    const server_id = cell.output_area._bokeh_server_id;\n",
       "\n",
       "    // Clean up Bokeh references\n",
       "    if (id != null) {\n",
       "      drop(id)\n",
       "    }\n",
       "\n",
       "    if (server_id !== undefined) {\n",
       "      // Clean up Bokeh references\n",
       "      const cmd_clean = \"from bokeh.io.state import curstate; print(curstate().uuid_to_server['\" + server_id + \"'].get_sessions()[0].document.roots[0]._id)\";\n",
       "      cell.notebook.kernel.execute(cmd_clean, {\n",
       "        iopub: {\n",
       "          output: function(msg) {\n",
       "            const id = msg.content.text.trim()\n",
       "            drop(id)\n",
       "          }\n",
       "        }\n",
       "      });\n",
       "      // Destroy server and session\n",
       "      const cmd_destroy = \"import bokeh.io.notebook as ion; ion.destroy_server('\" + server_id + \"')\";\n",
       "      cell.notebook.kernel.execute(cmd_destroy);\n",
       "    }\n",
       "  }\n",
       "\n",
       "  /**\n",
       "   * Handle when a new output is added\n",
       "   */\n",
       "  function handleAddOutput(event, handle) {\n",
       "    const output_area = handle.output_area;\n",
       "    const output = handle.output;\n",
       "\n",
       "    // limit handleAddOutput to display_data with EXEC_MIME_TYPE content only\n",
       "    if ((output.output_type != \"display_data\") || (!Object.prototype.hasOwnProperty.call(output.data, EXEC_MIME_TYPE))) {\n",
       "      return\n",
       "    }\n",
       "\n",
       "    const toinsert = output_area.element.find(\".\" + CLASS_NAME.split(' ')[0]);\n",
       "\n",
       "    if (output.metadata[EXEC_MIME_TYPE][\"id\"] !== undefined) {\n",
       "      toinsert[toinsert.length - 1].firstChild.textContent = output.data[JS_MIME_TYPE];\n",
       "      // store reference to embed id on output_area\n",
       "      output_area._bokeh_element_id = output.metadata[EXEC_MIME_TYPE][\"id\"];\n",
       "    }\n",
       "    if (output.metadata[EXEC_MIME_TYPE][\"server_id\"] !== undefined) {\n",
       "      const bk_div = document.createElement(\"div\");\n",
       "      bk_div.innerHTML = output.data[HTML_MIME_TYPE];\n",
       "      const script_attrs = bk_div.children[0].attributes;\n",
       "      for (let i = 0; i < script_attrs.length; i++) {\n",
       "        toinsert[toinsert.length - 1].firstChild.setAttribute(script_attrs[i].name, script_attrs[i].value);\n",
       "        toinsert[toinsert.length - 1].firstChild.textContent = bk_div.children[0].textContent\n",
       "      }\n",
       "      // store reference to server id on output_area\n",
       "      output_area._bokeh_server_id = output.metadata[EXEC_MIME_TYPE][\"server_id\"];\n",
       "    }\n",
       "  }\n",
       "\n",
       "  function register_renderer(events, OutputArea) {\n",
       "\n",
       "    function append_mime(data, metadata, element) {\n",
       "      // create a DOM node to render to\n",
       "      const toinsert = this.create_output_subarea(\n",
       "        metadata,\n",
       "        CLASS_NAME,\n",
       "        EXEC_MIME_TYPE\n",
       "      );\n",
       "      this.keyboard_manager.register_events(toinsert);\n",
       "      // Render to node\n",
       "      const props = {data: data, metadata: metadata[EXEC_MIME_TYPE]};\n",
       "      render(props, toinsert[toinsert.length - 1]);\n",
       "      element.append(toinsert);\n",
       "      return toinsert\n",
       "    }\n",
       "\n",
       "    /* Handle when an output is cleared or removed */\n",
       "    events.on('clear_output.CodeCell', handleClearOutput);\n",
       "    events.on('delete.Cell', handleClearOutput);\n",
       "\n",
       "    /* Handle when a new output is added */\n",
       "    events.on('output_added.OutputArea', handleAddOutput);\n",
       "\n",
       "    /**\n",
       "     * Register the mime type and append_mime function with output_area\n",
       "     */\n",
       "    OutputArea.prototype.register_mime_type(EXEC_MIME_TYPE, append_mime, {\n",
       "      /* Is output safe? */\n",
       "      safe: true,\n",
       "      /* Index of renderer in `output_area.display_order` */\n",
       "      index: 0\n",
       "    });\n",
       "  }\n",
       "\n",
       "  // register the mime type if in Jupyter Notebook environment and previously unregistered\n",
       "  if (root.Jupyter !== undefined) {\n",
       "    const events = require('base/js/events');\n",
       "    const OutputArea = require('notebook/js/outputarea').OutputArea;\n",
       "\n",
       "    if (OutputArea.prototype.mime_types().indexOf(EXEC_MIME_TYPE) == -1) {\n",
       "      register_renderer(events, OutputArea);\n",
       "    }\n",
       "  }\n",
       "  if (typeof (root._bokeh_timeout) === \"undefined\" || force === true) {\n",
       "    root._bokeh_timeout = Date.now() + 5000;\n",
       "    root._bokeh_failed_load = false;\n",
       "  }\n",
       "\n",
       "  const NB_LOAD_WARNING = {'data': {'text/html':\n",
       "     \"<div style='background-color: #fdd'>\\n\"+\n",
       "     \"<p>\\n\"+\n",
       "     \"BokehJS does not appear to have successfully loaded. If loading BokehJS from CDN, this \\n\"+\n",
       "     \"may be due to a slow or bad network connection. Possible fixes:\\n\"+\n",
       "     \"</p>\\n\"+\n",
       "     \"<ul>\\n\"+\n",
       "     \"<li>re-rerun `output_notebook()` to attempt to load from CDN again, or</li>\\n\"+\n",
       "     \"<li>use INLINE resources instead, as so:</li>\\n\"+\n",
       "     \"</ul>\\n\"+\n",
       "     \"<code>\\n\"+\n",
       "     \"from bokeh.resources import INLINE\\n\"+\n",
       "     \"output_notebook(resources=INLINE)\\n\"+\n",
       "     \"</code>\\n\"+\n",
       "     \"</div>\"}};\n",
       "\n",
       "  function display_loaded(error = null) {\n",
       "    const el = document.getElementById(\"d0471b0d-7a76-46f6-b323-359f0621ab92\");\n",
       "    if (el != null) {\n",
       "      const html = (() => {\n",
       "        if (typeof root.Bokeh === \"undefined\") {\n",
       "          if (error == null) {\n",
       "            return \"BokehJS is loading ...\";\n",
       "          } else {\n",
       "            return \"BokehJS failed to load.\";\n",
       "          }\n",
       "        } else {\n",
       "          const prefix = `BokehJS ${root.Bokeh.version}`;\n",
       "          if (error == null) {\n",
       "            return `${prefix} successfully loaded.`;\n",
       "          } else {\n",
       "            return `${prefix} <b>encountered errors</b> while loading and may not function as expected.`;\n",
       "          }\n",
       "        }\n",
       "      })();\n",
       "      el.innerHTML = html;\n",
       "\n",
       "      if (error != null) {\n",
       "        const wrapper = document.createElement(\"div\");\n",
       "        wrapper.style.overflow = \"auto\";\n",
       "        wrapper.style.height = \"5em\";\n",
       "        wrapper.style.resize = \"vertical\";\n",
       "        const content = document.createElement(\"div\");\n",
       "        content.style.fontFamily = \"monospace\";\n",
       "        content.style.whiteSpace = \"pre-wrap\";\n",
       "        content.style.backgroundColor = \"rgb(255, 221, 221)\";\n",
       "        content.textContent = error.stack ?? error.toString();\n",
       "        wrapper.append(content);\n",
       "        el.append(wrapper);\n",
       "      }\n",
       "    } else if (Date.now() < root._bokeh_timeout) {\n",
       "      setTimeout(() => display_loaded(error), 100);\n",
       "    }\n",
       "  }\n",
       "\n",
       "  function run_callbacks() {\n",
       "    try {\n",
       "      root._bokeh_onload_callbacks.forEach(function(callback) {\n",
       "        if (callback != null)\n",
       "          callback();\n",
       "      });\n",
       "    } finally {\n",
       "      delete root._bokeh_onload_callbacks\n",
       "    }\n",
       "    console.debug(\"Bokeh: all callbacks have finished\");\n",
       "  }\n",
       "\n",
       "  function load_libs(css_urls, js_urls, callback) {\n",
       "    if (css_urls == null) css_urls = [];\n",
       "    if (js_urls == null) js_urls = [];\n",
       "\n",
       "    root._bokeh_onload_callbacks.push(callback);\n",
       "    if (root._bokeh_is_loading > 0) {\n",
       "      console.debug(\"Bokeh: BokehJS is being loaded, scheduling callback at\", now());\n",
       "      return null;\n",
       "    }\n",
       "    if (js_urls == null || js_urls.length === 0) {\n",
       "      run_callbacks();\n",
       "      return null;\n",
       "    }\n",
       "    console.debug(\"Bokeh: BokehJS not loaded, scheduling load and callback at\", now());\n",
       "    root._bokeh_is_loading = css_urls.length + js_urls.length;\n",
       "\n",
       "    function on_load() {\n",
       "      root._bokeh_is_loading--;\n",
       "      if (root._bokeh_is_loading === 0) {\n",
       "        console.debug(\"Bokeh: all BokehJS libraries/stylesheets loaded\");\n",
       "        run_callbacks()\n",
       "      }\n",
       "    }\n",
       "\n",
       "    function on_error(url) {\n",
       "      console.error(\"failed to load \" + url);\n",
       "    }\n",
       "\n",
       "    for (let i = 0; i < css_urls.length; i++) {\n",
       "      const url = css_urls[i];\n",
       "      const element = document.createElement(\"link\");\n",
       "      element.onload = on_load;\n",
       "      element.onerror = on_error.bind(null, url);\n",
       "      element.rel = \"stylesheet\";\n",
       "      element.type = \"text/css\";\n",
       "      element.href = url;\n",
       "      console.debug(\"Bokeh: injecting link tag for BokehJS stylesheet: \", url);\n",
       "      document.body.appendChild(element);\n",
       "    }\n",
       "\n",
       "    for (let i = 0; i < js_urls.length; i++) {\n",
       "      const url = js_urls[i];\n",
       "      const element = document.createElement('script');\n",
       "      element.onload = on_load;\n",
       "      element.onerror = on_error.bind(null, url);\n",
       "      element.async = false;\n",
       "      element.src = url;\n",
       "      console.debug(\"Bokeh: injecting script tag for BokehJS library: \", url);\n",
       "      document.head.appendChild(element);\n",
       "    }\n",
       "  };\n",
       "\n",
       "  function inject_raw_css(css) {\n",
       "    const element = document.createElement(\"style\");\n",
       "    element.appendChild(document.createTextNode(css));\n",
       "    document.body.appendChild(element);\n",
       "  }\n",
       "\n",
       "  const js_urls = [\"https://cdn.bokeh.org/bokeh/release/bokeh-3.7.3.min.js\", \"https://cdn.bokeh.org/bokeh/release/bokeh-gl-3.7.3.min.js\", \"https://cdn.bokeh.org/bokeh/release/bokeh-widgets-3.7.3.min.js\", \"https://cdn.bokeh.org/bokeh/release/bokeh-tables-3.7.3.min.js\", \"https://cdn.bokeh.org/bokeh/release/bokeh-mathjax-3.7.3.min.js\"];\n",
       "  const css_urls = [];\n",
       "\n",
       "  const inline_js = [    function(Bokeh) {\n",
       "      Bokeh.set_log_level(\"info\");\n",
       "    },\n",
       "function(Bokeh) {\n",
       "    }\n",
       "  ];\n",
       "\n",
       "  function run_inline_js() {\n",
       "    if (root.Bokeh !== undefined || force === true) {\n",
       "      try {\n",
       "            for (let i = 0; i < inline_js.length; i++) {\n",
       "      inline_js[i].call(root, root.Bokeh);\n",
       "    }\n",
       "\n",
       "      } catch (error) {display_loaded(error);throw error;\n",
       "      }if (force === true) {\n",
       "        display_loaded();\n",
       "      }} else if (Date.now() < root._bokeh_timeout) {\n",
       "      setTimeout(run_inline_js, 100);\n",
       "    } else if (!root._bokeh_failed_load) {\n",
       "      console.log(\"Bokeh: BokehJS failed to load within specified timeout.\");\n",
       "      root._bokeh_failed_load = true;\n",
       "    } else if (force !== true) {\n",
       "      const cell = $(document.getElementById(\"d0471b0d-7a76-46f6-b323-359f0621ab92\")).parents('.cell').data().cell;\n",
       "      cell.output_area.append_execute_result(NB_LOAD_WARNING)\n",
       "    }\n",
       "  }\n",
       "\n",
       "  if (root._bokeh_is_loading === 0) {\n",
       "    console.debug(\"Bokeh: BokehJS loaded, going straight to plotting\");\n",
       "    run_inline_js();\n",
       "  } else {\n",
       "    load_libs(css_urls, js_urls, function() {\n",
       "      console.debug(\"Bokeh: BokehJS plotting callback run at\", now());\n",
       "      run_inline_js();\n",
       "    });\n",
       "  }\n",
       "}(window));"
      ],
      "application/vnd.bokehjs_load.v0+json": "'use strict';\n(function(root) {\n  function now() {\n    return new Date();\n  }\n\n  const force = true;\n\n  if (typeof root._bokeh_onload_callbacks === \"undefined\" || force === true) {\n    root._bokeh_onload_callbacks = [];\n    root._bokeh_is_loading = undefined;\n  }\n\n\n  if (typeof (root._bokeh_timeout) === \"undefined\" || force === true) {\n    root._bokeh_timeout = Date.now() + 5000;\n    root._bokeh_failed_load = false;\n  }\n\n  const NB_LOAD_WARNING = {'data': {'text/html':\n     \"<div style='background-color: #fdd'>\\n\"+\n     \"<p>\\n\"+\n     \"BokehJS does not appear to have successfully loaded. If loading BokehJS from CDN, this \\n\"+\n     \"may be due to a slow or bad network connection. Possible fixes:\\n\"+\n     \"</p>\\n\"+\n     \"<ul>\\n\"+\n     \"<li>re-rerun `output_notebook()` to attempt to load from CDN again, or</li>\\n\"+\n     \"<li>use INLINE resources instead, as so:</li>\\n\"+\n     \"</ul>\\n\"+\n     \"<code>\\n\"+\n     \"from bokeh.resources import INLINE\\n\"+\n     \"output_notebook(resources=INLINE)\\n\"+\n     \"</code>\\n\"+\n     \"</div>\"}};\n\n  function display_loaded(error = null) {\n    const el = document.getElementById(\"d0471b0d-7a76-46f6-b323-359f0621ab92\");\n    if (el != null) {\n      const html = (() => {\n        if (typeof root.Bokeh === \"undefined\") {\n          if (error == null) {\n            return \"BokehJS is loading ...\";\n          } else {\n            return \"BokehJS failed to load.\";\n          }\n        } else {\n          const prefix = `BokehJS ${root.Bokeh.version}`;\n          if (error == null) {\n            return `${prefix} successfully loaded.`;\n          } else {\n            return `${prefix} <b>encountered errors</b> while loading and may not function as expected.`;\n          }\n        }\n      })();\n      el.innerHTML = html;\n\n      if (error != null) {\n        const wrapper = document.createElement(\"div\");\n        wrapper.style.overflow = \"auto\";\n        wrapper.style.height = \"5em\";\n        wrapper.style.resize = \"vertical\";\n        const content = document.createElement(\"div\");\n        content.style.fontFamily = \"monospace\";\n        content.style.whiteSpace = \"pre-wrap\";\n        content.style.backgroundColor = \"rgb(255, 221, 221)\";\n        content.textContent = error.stack ?? error.toString();\n        wrapper.append(content);\n        el.append(wrapper);\n      }\n    } else if (Date.now() < root._bokeh_timeout) {\n      setTimeout(() => display_loaded(error), 100);\n    }\n  }\n\n  function run_callbacks() {\n    try {\n      root._bokeh_onload_callbacks.forEach(function(callback) {\n        if (callback != null)\n          callback();\n      });\n    } finally {\n      delete root._bokeh_onload_callbacks\n    }\n    console.debug(\"Bokeh: all callbacks have finished\");\n  }\n\n  function load_libs(css_urls, js_urls, callback) {\n    if (css_urls == null) css_urls = [];\n    if (js_urls == null) js_urls = [];\n\n    root._bokeh_onload_callbacks.push(callback);\n    if (root._bokeh_is_loading > 0) {\n      console.debug(\"Bokeh: BokehJS is being loaded, scheduling callback at\", now());\n      return null;\n    }\n    if (js_urls == null || js_urls.length === 0) {\n      run_callbacks();\n      return null;\n    }\n    console.debug(\"Bokeh: BokehJS not loaded, scheduling load and callback at\", now());\n    root._bokeh_is_loading = css_urls.length + js_urls.length;\n\n    function on_load() {\n      root._bokeh_is_loading--;\n      if (root._bokeh_is_loading === 0) {\n        console.debug(\"Bokeh: all BokehJS libraries/stylesheets loaded\");\n        run_callbacks()\n      }\n    }\n\n    function on_error(url) {\n      console.error(\"failed to load \" + url);\n    }\n\n    for (let i = 0; i < css_urls.length; i++) {\n      const url = css_urls[i];\n      const element = document.createElement(\"link\");\n      element.onload = on_load;\n      element.onerror = on_error.bind(null, url);\n      element.rel = \"stylesheet\";\n      element.type = \"text/css\";\n      element.href = url;\n      console.debug(\"Bokeh: injecting link tag for BokehJS stylesheet: \", url);\n      document.body.appendChild(element);\n    }\n\n    for (let i = 0; i < js_urls.length; i++) {\n      const url = js_urls[i];\n      const element = document.createElement('script');\n      element.onload = on_load;\n      element.onerror = on_error.bind(null, url);\n      element.async = false;\n      element.src = url;\n      console.debug(\"Bokeh: injecting script tag for BokehJS library: \", url);\n      document.head.appendChild(element);\n    }\n  };\n\n  function inject_raw_css(css) {\n    const element = document.createElement(\"style\");\n    element.appendChild(document.createTextNode(css));\n    document.body.appendChild(element);\n  }\n\n  const js_urls = [\"https://cdn.bokeh.org/bokeh/release/bokeh-3.7.3.min.js\", \"https://cdn.bokeh.org/bokeh/release/bokeh-gl-3.7.3.min.js\", \"https://cdn.bokeh.org/bokeh/release/bokeh-widgets-3.7.3.min.js\", \"https://cdn.bokeh.org/bokeh/release/bokeh-tables-3.7.3.min.js\", \"https://cdn.bokeh.org/bokeh/release/bokeh-mathjax-3.7.3.min.js\"];\n  const css_urls = [];\n\n  const inline_js = [    function(Bokeh) {\n      Bokeh.set_log_level(\"info\");\n    },\nfunction(Bokeh) {\n    }\n  ];\n\n  function run_inline_js() {\n    if (root.Bokeh !== undefined || force === true) {\n      try {\n            for (let i = 0; i < inline_js.length; i++) {\n      inline_js[i].call(root, root.Bokeh);\n    }\n\n      } catch (error) {display_loaded(error);throw error;\n      }if (force === true) {\n        display_loaded();\n      }} else if (Date.now() < root._bokeh_timeout) {\n      setTimeout(run_inline_js, 100);\n    } else if (!root._bokeh_failed_load) {\n      console.log(\"Bokeh: BokehJS failed to load within specified timeout.\");\n      root._bokeh_failed_load = true;\n    } else if (force !== true) {\n      const cell = $(document.getElementById(\"d0471b0d-7a76-46f6-b323-359f0621ab92\")).parents('.cell').data().cell;\n      cell.output_area.append_execute_result(NB_LOAD_WARNING)\n    }\n  }\n\n  if (root._bokeh_is_loading === 0) {\n    console.debug(\"Bokeh: BokehJS loaded, going straight to plotting\");\n    run_inline_js();\n  } else {\n    load_libs(css_urls, js_urls, function() {\n      console.debug(\"Bokeh: BokehJS plotting callback run at\", now());\n      run_inline_js();\n    });\n  }\n}(window));"
     },
     "metadata": {},
     "output_type": "display_data"
    }
   ],
   "source": [
    "import pandas as pd\n",
    "import numpy as np\n",
    "#import plotly.graph_objects as go\n",
    "import yfinance as yf\n",
    "import talib as ta\n",
    "#import matplotlib.pyplot as plt\n",
    "#import math\n",
    "from datetime import date, timedelta\n",
    "from scipy import stats\n",
    "from scipy.signal import argrelextrema\n",
    "#from bokeh.plotting import figure, show, column\n",
    "from sklearn.linear_model import LinearRegression\n",
    "import os\n",
    "from backtesting import Backtest, Strategy"
   ]
  },
  {
   "cell_type": "code",
   "execution_count": 2,
   "id": "99fab280-84ca-4c2f-9784-f79dadcb26ed",
   "metadata": {
    "execution": {
     "iopub.execute_input": "2025-06-11T16:20:50.841924Z",
     "iopub.status.busy": "2025-06-11T16:20:50.841319Z",
     "iopub.status.idle": "2025-06-11T16:20:50.938357Z",
     "shell.execute_reply": "2025-06-11T16:20:50.937786Z"
    },
    "papermill": {
     "duration": 0.102853,
     "end_time": "2025-06-11T16:20:50.939486",
     "exception": false,
     "start_time": "2025-06-11T16:20:50.836633",
     "status": "completed"
    },
    "tags": []
   },
   "outputs": [],
   "source": [
    "df_h=pd.read_csv('data/dataxh.txt',sep='\\t')\n",
    "\n",
    "tickers = [\n",
    "    'SPY',\n",
    "    'META',\n",
    "    'AAPL',\n",
    "    'AMZN',\n",
    "    'NFLX',\n",
    "    'MRNA',\n",
    "    'TSLA',\n",
    "    'TNA',\n",
    "    'GLD',\n",
    "    'SLV',\n",
    "    'USO',\n",
    "    'BAC',\n",
    "    'CVX',\n",
    "    'XOM',\n",
    "    'QQQ',\n",
    "    'MSFT',\n",
    "    'NVDA',\n",
    "    'WMT',\n",
    "    'BA',\n",
    "    'DIS',\n",
    "    'CAT',\n",
    "    'IBM',\n",
    "    'WFC',\n",
    "    'PLTR',\n",
    "    'AMD',\n",
    "    'AVGO',\n",
    "    'HOOD',\n",
    "    'CRWV',\n",
    "    'MSTR',\n",
    "    'UNH',\n",
    "    'GOOG',\n",
    "    'APP',\n",
    "    'UBER'\n",
    "]\n",
    "\n",
    "#    'SPY',\n",
    "#    'META',\n",
    "#    'AAPL',\n",
    "#    'AMZN',\n",
    "#    'NFLX',\n",
    "#    'MRNA',\n",
    "#    'TSLA',\n",
    "#    'TNA',\n",
    "#    'GLD',\n",
    "#    'SLV',\n",
    "#    'USO',\n",
    "#    'BAC',\n",
    "#    'CVX',\n",
    "#    'XOM',\n",
    "#    'QQQ'"
   ]
  },
  {
   "cell_type": "code",
   "execution_count": 3,
   "id": "36d035ad-94d3-427b-9d99-5efff5449692",
   "metadata": {
    "execution": {
     "iopub.execute_input": "2025-06-11T16:20:50.948844Z",
     "iopub.status.busy": "2025-06-11T16:20:50.948636Z",
     "iopub.status.idle": "2025-06-11T16:20:51.327699Z",
     "shell.execute_reply": "2025-06-11T16:20:51.326977Z"
    },
    "papermill": {
     "duration": 0.385002,
     "end_time": "2025-06-11T16:20:51.328923",
     "exception": false,
     "start_time": "2025-06-11T16:20:50.943921",
     "status": "completed"
    },
    "tags": []
   },
   "outputs": [],
   "source": [
    "df_h['datetime'] = pd.to_datetime(df_h['datetime'])\n",
    "df = pd.DataFrame()\n",
    "for ticker in tickers:\n",
    "    company = df_h.query(\"companyName==@ticker\").copy()\n",
    "    company.sort_values(by=['datetime'])\n",
    "    #company = yf.download(ticker, start = ini2_str, end = today_str, interval='60m')\n",
    "    #company.columns = [company.columns[0][0], company.columns[1][0], company.columns[2][0], company.columns[3][0], company.columns[4][0]]\n",
    "    #company.rename(columns={'Datetime':'Gmt time'}, inplace = True)\n",
    "    #company['datetime'] = pd.to_datetime (company.index)\n",
    "    #company['companyName'] = ticker\n",
    "    company['SMA20'] = company['Close'].rolling(20).mean()\n",
    "    company.dropna(inplace=False)\n",
    "    company['SMA40'] = company['Close'].rolling(40).mean()\n",
    "    company.dropna(inplace=False)\n",
    "    company['SMA100'] = company['Close'].rolling(100).mean()\n",
    "    company.dropna(inplace=False)\n",
    "    company['SMA200'] = company['Close'].rolling(200).mean()\n",
    "    company.dropna(inplace=False)\n",
    "    df = pd.concat([df, company],ignore_index=True)"
   ]
  },
  {
   "cell_type": "markdown",
   "id": "ab939271-1e70-4ea6-bc39-df024b86f50e",
   "metadata": {
    "papermill": {
     "duration": 0.005491,
     "end_time": "2025-06-11T16:20:51.338925",
     "exception": false,
     "start_time": "2025-06-11T16:20:51.333434",
     "status": "completed"
    },
    "tags": []
   },
   "source": [
    "### Detect Pivots/Fractals"
   ]
  },
  {
   "cell_type": "code",
   "execution_count": 4,
   "id": "755f2f1c-3bb8-47b9-bf49-b89e7437100d",
   "metadata": {
    "execution": {
     "iopub.execute_input": "2025-06-11T16:20:51.350650Z",
     "iopub.status.busy": "2025-06-11T16:20:51.350116Z",
     "iopub.status.idle": "2025-06-11T16:20:51.395911Z",
     "shell.execute_reply": "2025-06-11T16:20:51.395247Z"
    },
    "papermill": {
     "duration": 0.052864,
     "end_time": "2025-06-11T16:20:51.397224",
     "exception": false,
     "start_time": "2025-06-11T16:20:51.344360",
     "status": "completed"
    },
    "tags": []
   },
   "outputs": [],
   "source": [
    "ord=15\n",
    "#for ticker in tickers:\n",
    "#print(\"====\", ticker)\n",
    "#dfpl = df[(df.companyName==ticker)] #df.query(\"companyName=='AAPL'\")\n",
    "max_idx = argrelextrema(df['Close'].values, np.greater, order=ord)[0]\n",
    "min_idx = argrelextrema(df['Close'].values, np.less, order=ord)[0]\n",
    "#print(max_idx)\n",
    "#print(min_idx)\n",
    "#df['pivotHigh'] = np.nan\n",
    "#df['pivotLow'] = np.nan\n",
    "#df['isPivot'] = np.nan\n",
    "#df['isPivot'] = np.nan\n",
    "# Aplicar el cálculo solo a los índices en la lista\n",
    "df.loc[max_idx, 'pivotHigh'] = df['High']+1e-3\n",
    "df.loc[min_idx, 'pivotLow'] = df['Low']-(1e-3)\n",
    "df.loc[max_idx, 'isPivot'] = 1\n",
    "df.loc[min_idx, 'isPivot'] = 2"
   ]
  },
  {
   "cell_type": "markdown",
   "id": "f44f04bb-ed9f-4732-9d38-7f8cb2869c36",
   "metadata": {
    "papermill": {
     "duration": 0.008012,
     "end_time": "2025-06-11T16:20:51.409841",
     "exception": false,
     "start_time": "2025-06-11T16:20:51.401829",
     "status": "completed"
    },
    "tags": []
   },
   "source": [
    "##### Canales alcista, cuando PM40 esta por encima o cerca del precio"
   ]
  },
  {
   "cell_type": "code",
   "execution_count": 5,
   "id": "b7d94196-30b6-4e27-b8a2-97263f24b34f",
   "metadata": {
    "execution": {
     "iopub.execute_input": "2025-06-11T16:20:51.435440Z",
     "iopub.status.busy": "2025-06-11T16:20:51.434899Z",
     "iopub.status.idle": "2025-06-11T16:20:53.131617Z",
     "shell.execute_reply": "2025-06-11T16:20:53.131010Z"
    },
    "papermill": {
     "duration": 1.715729,
     "end_time": "2025-06-11T16:20:53.132798",
     "exception": false,
     "start_time": "2025-06-11T16:20:51.417069",
     "status": "completed"
    },
    "tags": []
   },
   "outputs": [],
   "source": [
    "def rcb01(df):\n",
    "    if ((df['isPivot']==1) & ((df['SMA40']>df['Close']) | (df['SMA40']>df['Open']) | (df['SMA20']>df['SMA40']))):\n",
    "        return 1\n",
    "    else:\n",
    "        return 0\n",
    "df['rcb01_01'] = df.apply(rcb01, axis=1)"
   ]
  },
  {
   "cell_type": "markdown",
   "id": "1301febb-db5f-4a68-b162-9ae2e19ec678",
   "metadata": {
    "papermill": {
     "duration": 0.003952,
     "end_time": "2025-06-11T16:20:53.141176",
     "exception": false,
     "start_time": "2025-06-11T16:20:53.137224",
     "status": "completed"
    },
    "tags": []
   },
   "source": [
    "#### Detect Price Channel"
   ]
  },
  {
   "cell_type": "code",
   "execution_count": 6,
   "id": "1873740d-7344-4670-8cb0-9dea7df49305",
   "metadata": {
    "execution": {
     "iopub.execute_input": "2025-06-11T16:20:53.149981Z",
     "iopub.status.busy": "2025-06-11T16:20:53.149749Z",
     "iopub.status.idle": "2025-06-11T16:20:53.153994Z",
     "shell.execute_reply": "2025-06-11T16:20:53.153514Z"
    },
    "papermill": {
     "duration": 0.00969,
     "end_time": "2025-06-11T16:20:53.154870",
     "exception": false,
     "start_time": "2025-06-11T16:20:53.145180",
     "status": "completed"
    },
    "tags": []
   },
   "outputs": [],
   "source": [
    "def collect_channel(candle, backevalTrend, trendL):\n",
    "    #localdf = df[candle-backcandles-window:candle-window]\n",
    "    localdf = dfpl.loc[candle-backevalTrend:candle] #tomar en cuenta el backcandles\n",
    "    #localdf['isPivot'] = localdf.apply(lambda x: isPivot(x.name,window), axis=1)\n",
    "    \n",
    "    #highs = localdf.High.values\n",
    "    #idxhighs = localdf.High.index\n",
    "    #lows = localdf.Low.values\n",
    "    #idxlows = localdf.Low.index\n",
    "\n",
    "    #highs = localdf.loc[localdf.index.isin(trendH)].High.values\n",
    "    #idxhighs = localdf.loc[localdf.index.isin(trendH)].High.index\n",
    "    lows = localdf.loc[localdf.index.isin(trendL)].Low.values\n",
    "    idxlows = localdf.loc[localdf.index.isin(trendL)].Low.index\n",
    "\n",
    "    #highs = localdf.loc[localdf.index.isin([candle]) | (localdf['isPivot'] == 1)].High.values\n",
    "    #idxhighs = localdf.loc[localdf.index.isin([candle]) | (localdf['isPivot'] == 1)].High.index\n",
    "    #lows = localdf.loc[localdf.index.isin([candle]) | (localdf['isPivot'] == 2)].Low.values\n",
    "    #idxlows = localdf.loc[localdf.index.isin([candle]) | (localdf['isPivot'] == 2)].Low.index\n",
    "\n",
    "    #lows = localdf.loc[localdf.index.isin(trendL)].Low.values\n",
    "    #idxlows = localdf.loc[localdf.index.isin(trendL)].Low.index\n",
    "\n",
    "    #print(\"highs:\",highs)\n",
    "    #print(\"idxhighs:\",idxhighs)\n",
    "    #print(\"lows:\",lows)\n",
    "    #print(\"idxlows:\",idxlows)\n",
    "    #print (\"tamanio:\",localdf.shape[0])\n",
    "    \n",
    "    #if len(lows)>=2 and len(highs)>=2:\n",
    "    if len(lows)>=2:\n",
    "        sl_lows, interc_lows, r_value_l, _, _ = stats.linregress(idxlows,lows)\n",
    "        #sl_highs, interc_highs, r_value_h, _, _ = stats.linregress(idxhighs,highs)    \n",
    "        #return(sl_lows, interc_lows, sl_highs, interc_highs, r_value_l**2, r_value_h**2)\n",
    "        return(sl_lows, interc_lows, r_value_l**2)\n",
    "    else:\n",
    "        return(0,0,0)\n",
    "    "
   ]
  },
  {
   "cell_type": "code",
   "execution_count": 7,
   "id": "0ea43d11-bb56-4a09-8d54-0bfd0dfc987a",
   "metadata": {
    "execution": {
     "iopub.execute_input": "2025-06-11T16:20:53.164212Z",
     "iopub.status.busy": "2025-06-11T16:20:53.163995Z",
     "iopub.status.idle": "2025-06-11T16:20:53.170222Z",
     "shell.execute_reply": "2025-06-11T16:20:53.169712Z"
    },
    "papermill": {
     "duration": 0.012077,
     "end_time": "2025-06-11T16:20:53.171080",
     "exception": false,
     "start_time": "2025-06-11T16:20:53.159003",
     "status": "completed"
    },
    "tags": []
   },
   "outputs": [],
   "source": [
    "def backcandle(candle):\n",
    "    \n",
    "    trendH = []\n",
    "    backeval = 0\n",
    "    val = 0\n",
    "\n",
    "    #print(\"candle:\", candle)\n",
    "    dfpl['PM20_PM40'] = dfpl['SMA20']-dfpl['SMA40']\n",
    "    idinicial = dfpl.index[0]\n",
    "    velas = candle - idinicial\n",
    "\n",
    "    #print(\"idinicial:\", idinicial)\n",
    "    if (dfpl.loc[candle,\"PM20_PM40\"]>0):\n",
    "        idx_negativo = dfpl.loc[:candle, 'PM20_PM40'][::-1].lt(0).idxmax()\n",
    "        if (idx_negativo==candle):\n",
    "            backeval = candle - velas\n",
    "            \n",
    "        else:\n",
    "            backeval = idx_negativo - 4\n",
    "        \n",
    "    val = candle - backeval\n",
    "    \n",
    "    #print(\"backeval1:\",backeval)\n",
    "    \n",
    "    if val>velas:\n",
    "        backeval=candle-velas\n",
    "\n",
    "    #print(\"backeval2:\",backeval)\n",
    "    if ((dfpl.loc[backeval,\"PM20_PM40\"]>0) & (val<velas)):\n",
    "        idx_negativo = dfpl.loc[:backeval, 'PM20_PM40'][::-1].lt(0).idxmax()\n",
    "        backeval = idx_negativo - 4\n",
    "    #print(\"backeval3:\",backeval)\n",
    "\n",
    "    val = candle - backeval\n",
    "    if val>velas:\n",
    "        backeval=candle-velas\n",
    "        \n",
    "    #print(\"backeval4:\",backeval)\n",
    "    #ini = candle - backeval\n",
    "    ini = backeval\n",
    "    trendprev=dfpl.loc[ini:candle]\n",
    "    trend = trendprev.reset_index(drop=False)\n",
    "\n",
    "    idxlows = trend.index.to_numpy().reshape(-1,1) # Convertir X a una matriz 2D\n",
    "    lows = trend.Low.values\n",
    "    modelo1 = LinearRegression()\n",
    "    modelo1.fit(idxlows, lows)\n",
    "    # Obtener la predicción de la línea de regresión\n",
    "    Y_pred = modelo1.predict(idxlows)\n",
    "    # Calcular la distancia solo de los puntos que están POR ENCIMA de la línea\n",
    "    trend['Distancia'] = Y_pred - trend[\"Low\"]  # Diferencia entre el valor real y la predicción\n",
    "    # Filtrar los puntos que están por debajo (donde Y > Y_pred, es decir, Distancia > 0)\n",
    "    df_encima = trend[trend['Distancia'] > 0]\n",
    "    puntos_mas_lejanos = df_encima.nlargest(2, 'Distancia')   #2 puntos mas lejanos\n",
    "    trendL = puntos_mas_lejanos[\"index\"].tolist()\n",
    "    trendL.append(candle)   \n",
    "    \n",
    "    return trendL, backeval"
   ]
  },
  {
   "cell_type": "markdown",
   "id": "7746c605-eeaf-4691-b332-3c5afe45243a",
   "metadata": {
    "papermill": {
     "duration": 0.004013,
     "end_time": "2025-06-11T16:20:53.179174",
     "exception": false,
     "start_time": "2025-06-11T16:20:53.175161",
     "status": "completed"
    },
    "tags": []
   },
   "source": [
    "### Detect Break Out"
   ]
  },
  {
   "cell_type": "code",
   "execution_count": 8,
   "id": "9eb0e6d2-7707-4624-bee3-0465d77901ea",
   "metadata": {
    "execution": {
     "iopub.execute_input": "2025-06-11T16:20:53.188308Z",
     "iopub.status.busy": "2025-06-11T16:20:53.188066Z",
     "iopub.status.idle": "2025-06-11T16:20:53.191856Z",
     "shell.execute_reply": "2025-06-11T16:20:53.191362Z"
    },
    "papermill": {
     "duration": 0.009432,
     "end_time": "2025-06-11T16:20:53.192739",
     "exception": false,
     "start_time": "2025-06-11T16:20:53.183307",
     "status": "completed"
    },
    "tags": []
   },
   "outputs": [],
   "source": [
    "def trendChannel(row,candle, backeval, window, sl_highs, interc_lows):\n",
    "\n",
    "    if (candle-backeval-window)<0:\n",
    "        return np.nan\n",
    "\n",
    "    #print(\"=== DATOS ===\")\n",
    "    #print(\"candle:\",candle)\n",
    "    #print(\"backcandles:\",backcandles)\n",
    "    #print(\"window:\",window)\n",
    "    #trendprevlow = (sl_lows*row['id'].shift(1).fillna(0) + interc_lows)\n",
    "    #trendprevhigh = (sl_highs*row['id'].shift(1).fillna(0) + interc_highs)\n",
    "    ini=candle-backeval\n",
    "    fin=candle+window\n",
    "    #x = np.array(range(candle-backcandles-window, candle+window))\n",
    "    trendcurrlow = np.where(np.logical_or((row.index > fin),  (row.index <  ini)), np.nan, (sl_lows*row.index + interc_lows))\n",
    "    #trendcurrhigh = (sl_highs*row['id'] + interc_highs)\n",
    "    \n",
    "    #print(\"candle:\",candle,\",backeval\", backeval, \", ini:\", ini, \", fin:\", fin,   \", rowMin:\", row.index[0],\", rowMax:\", row.index[-1])\n",
    "    #trendcurrhigh = np.where(np.logical_or((row.index > fin),  (row.index <  ini)), np.nan, (sl_highs*row.index + interc_highs))\n",
    "    return trendcurrlow"
   ]
  },
  {
   "cell_type": "code",
   "execution_count": 9,
   "id": "8e480264-0fde-4a97-af4e-a86b58a4b611",
   "metadata": {
    "execution": {
     "iopub.execute_input": "2025-06-11T16:20:53.202043Z",
     "iopub.status.busy": "2025-06-11T16:20:53.201667Z",
     "iopub.status.idle": "2025-06-11T16:20:53.206420Z",
     "shell.execute_reply": "2025-06-11T16:20:53.205813Z"
    },
    "papermill": {
     "duration": 0.010457,
     "end_time": "2025-06-11T16:20:53.207366",
     "exception": false,
     "start_time": "2025-06-11T16:20:53.196909",
     "status": "completed"
    },
    "tags": []
   },
   "outputs": [],
   "source": [
    "def isBreakOut(candleEval,backcandles, window, start, candle):\n",
    "    if (candleEval-backcandles-window)<0:\n",
    "        return 0\n",
    "\n",
    "    if candleEval==start:\n",
    "        prev_idx = candleEval\n",
    "    else:\n",
    "        prev_idx = candleEval-1\n",
    "        \n",
    "    prev_high = dfpl.loc[prev_idx].High\n",
    "    prev_low = dfpl.loc[prev_idx].Low\n",
    "    prev_close = dfpl.loc[prev_idx].Close\n",
    "    \n",
    "    curr_idx = candleEval\n",
    "    curr_high = dfpl.loc[candleEval].High\n",
    "    curr_low = dfpl.loc[candleEval].Low\n",
    "    curr_close = dfpl.loc[candleEval].Close\n",
    "    curr_open = dfpl.loc[candleEval].Open\n",
    "\n",
    "    trend_prevlow=dfpl.loc[prev_idx].trendcurrlow\n",
    "    #trend_prevhigh=dfpl.loc[prev_idx].trendcurrhigh\n",
    "\n",
    "    trend_currlow=dfpl.loc[candleEval].trendcurrlow\n",
    "    #trend_currhigh=dfpl.loc[candleEval].trendcurrhigh\n",
    "\n",
    "    #codigo para tendencia LOW, nos importa breaks en tendencia HIGH\n",
    "    if ( prev_high > trend_prevlow and\n",
    "        prev_close < trend_prevlow and\n",
    "        curr_open < trend_currlow and\n",
    "        curr_close < trend_currlow and \n",
    "        candleEval>candle): #and r_sq_l > 0.9\n",
    "        return 1\n",
    "    \n",
    "   # #if ( prev_low < trend_prevhigh and\n",
    "   #     prev_close > trend_prevhigh and\n",
    "   #     curr_open > trend_currhigh and\n",
    "   #     curr_close > trend_currhigh and\n",
    "   #     candleEval>candle): #and r_sq_h > 0.9\n",
    "   #     return 2\n",
    "\n",
    "   # elif (curr_open > trend_currhigh and\n",
    "   #     curr_close > trend_currhigh and candleEval>candle):\n",
    "   #     return 3\n",
    "    \n",
    "    else:\n",
    "        return np.nan"
   ]
  },
  {
   "cell_type": "code",
   "execution_count": 10,
   "id": "04c0d310-0135-4029-83d4-834b5b402c7a",
   "metadata": {
    "execution": {
     "iopub.execute_input": "2025-06-11T16:20:53.216262Z",
     "iopub.status.busy": "2025-06-11T16:20:53.216088Z",
     "iopub.status.idle": "2025-06-11T16:20:53.218980Z",
     "shell.execute_reply": "2025-06-11T16:20:53.218508Z"
    },
    "papermill": {
     "duration": 0.008349,
     "end_time": "2025-06-11T16:20:53.219862",
     "exception": false,
     "start_time": "2025-06-11T16:20:53.211513",
     "status": "completed"
    },
    "tags": []
   },
   "outputs": [],
   "source": [
    "def breakpointpos(x):\n",
    "    if x['isBreakOutIni'] in (2,3):\n",
    "        return x['Low']+3e-3\n",
    "    elif x['isBreakOutIni']==1:\n",
    "        return x['High']-3e-3\n",
    "    else:\n",
    "        return np.nan"
   ]
  },
  {
   "cell_type": "markdown",
   "id": "78dfc3a9-1c1a-4615-88b4-fe7061f871b4",
   "metadata": {
    "papermill": {
     "duration": 0.004008,
     "end_time": "2025-06-11T16:20:53.228142",
     "exception": false,
     "start_time": "2025-06-11T16:20:53.224134",
     "status": "completed"
    },
    "tags": []
   },
   "source": [
    "###### Hallando casos de Ruptura del Canal Alcista"
   ]
  },
  {
   "cell_type": "code",
   "execution_count": 11,
   "id": "80471e6b-41e2-424d-962d-72757b94aaf4",
   "metadata": {
    "execution": {
     "iopub.execute_input": "2025-06-11T16:20:53.237216Z",
     "iopub.status.busy": "2025-06-11T16:20:53.237031Z",
     "iopub.status.idle": "2025-06-11T16:20:53.247479Z",
     "shell.execute_reply": "2025-06-11T16:20:53.246967Z"
    },
    "papermill": {
     "duration": 0.016186,
     "end_time": "2025-06-11T16:20:53.248381",
     "exception": false,
     "start_time": "2025-06-11T16:20:53.232195",
     "status": "completed"
    },
    "tags": []
   },
   "outputs": [],
   "source": [
    "def revisionVelas(dfpl, backeval,window, candle):\n",
    "    #Revision de Velas\n",
    "    #Promedio del volumen de 50 velas antes del posible caso\n",
    "    promVol = dfpl.loc[i-backeval:i][\"Volume\"].mean()\n",
    "    #puede darse cualquiera de estas condiciones: \n",
    "    # - que la vela sea verde, que tenga volumen, este por encima de la linea trend y que tenga cuerpo (cierra por encima de su tercera parte)\n",
    "    # - que la vela sea envolvente, alcista y que este por encima de la linea trend\n",
    "    j=candle+1\n",
    "    k=candle+window\n",
    "    ind_vela=0\n",
    "    \n",
    "    #k no puede pasrse del rango\n",
    "    maxindex = dfpl.index[-1]\n",
    "    if (k>maxindex):\n",
    "        k=maxindex\n",
    "    \n",
    "    #print(\"candle:\",candle)\n",
    "    #print(\"window:\",window)\n",
    "    #print(\"j:\",j, \",k:\",k)\n",
    "    \n",
    "    #Evaluacion de velas ALCISTAS\n",
    "    dfpl[\"cdlengulfing\"] = ta.CDLENGULFING(dfpl['Open'], dfpl['High'], dfpl['Low'], dfpl['Close'])\n",
    "    dfpl[\"cdlhammer\"] = ta.CDLHAMMER(dfpl['Open'], dfpl['High'], dfpl['Low'], dfpl['Close'])\n",
    "    dfpl[\"cdlmorningstar\"] = ta.CDLMORNINGSTAR(dfpl['Open'], dfpl['High'], dfpl['Low'], dfpl['Close'])\n",
    "    dfpl[\"cdlpiercing\"] = ta.CDLPIERCING(dfpl['Open'], dfpl['High'], dfpl['Low'], dfpl['Close'])\n",
    "    dfpl[\"cdlclosingmarubozu\"] = ta.CDLCLOSINGMARUBOZU(dfpl['Open'], dfpl['High'], dfpl['Low'], dfpl['Close'])\n",
    "    dfpl[\"cdlmarubozu\"] = ta.CDLMARUBOZU(dfpl['Open'], dfpl['High'], dfpl['Low'], dfpl['Close'])\n",
    "    dfpl[\"cdl3whitesoldiers\"] = ta.CDL3WHITESOLDIERS(dfpl['Open'], dfpl['High'], dfpl['Low'], dfpl['Close'])\n",
    "    dfpl[\"cdlharami\"] = ta.CDLHARAMI(dfpl['Open'], dfpl['High'], dfpl['Low'], dfpl['Close'])\n",
    "    dfpl[\"cdlharamicross\"] = ta.CDLHARAMICROSS(dfpl['Open'], dfpl['High'], dfpl['Low'], dfpl['Close'])\n",
    "    dfpl[\"cdlinvertdhammer\"] = ta.CDLINVERTEDHAMMER(dfpl['Open'], dfpl['High'], dfpl['Low'], dfpl['Close'])\n",
    "    dfpl[\"cdlladderbottom\"] = ta.CDLLADDERBOTTOM(dfpl['Open'], dfpl['High'], dfpl['Low'], dfpl['Close'])\n",
    "\n",
    "    dfpl['Vela_Roja'] = dfpl['Close'] < dfpl['Open']\n",
    "    # Calcular el nivel de la tercera parte\n",
    "    #dfpl['Third_Level'] = dfpl['Low'] + (dfpl['High'] - dfpl['Low']) / 3\n",
    "    dfpl['Third_Level'] = dfpl['Open'] + (dfpl['High'] - dfpl['Low']) / 3\n",
    "    # Verificar si la vela cierra por encima de su tercera parte, vela con cuerpo\n",
    "    dfpl['Above_Third'] = dfpl['Close'] > dfpl['Third_Level']\n",
    "\n",
    "    while j<=k:            \n",
    "        \n",
    "        vol = dfpl.loc[j,\"Volume\"]\n",
    "        above_Third = dfpl.loc[j,\"Above_Third\"]\n",
    "        vela_Roja = dfpl.loc[j,\"Vela_Roja\"]\n",
    "        lineTrend = dfpl.loc[j,'trendcurrlow']\n",
    "        high = dfpl.loc[j,'High']\n",
    "        close = dfpl.loc[j,'Close']\n",
    "\n",
    "        cdlengulfing = dfpl.loc[j,\"cdlengulfing\"]\n",
    "        cdlhammer = dfpl.loc[j,\"cdlhammer\"]\n",
    "        cdlmorningstar = dfpl.loc[j,\"cdlmorningstar\"]\n",
    "        cdlpiercing = dfpl.loc[j,\"cdlpiercing\"]\n",
    "        cdlclosingmarubozu = dfpl.loc[j,\"cdlclosingmarubozu\"]\n",
    "        cdlmarubozu = dfpl.loc[j,\"cdlmarubozu\"]\n",
    "        cdl3whitesoldiers = dfpl.loc[j,\"cdl3whitesoldiers\"]\n",
    "        cdlharami = dfpl.loc[j,\"cdlharami\"]\n",
    "        cdlharamicross = dfpl.loc[j,\"cdlharamicross\"]\n",
    "        cdlinvertdhammer = dfpl.loc[j,\"cdlinvertdhammer\"]\n",
    "        cdlladderbottom = dfpl.loc[j,\"cdlladderbottom\"]\n",
    "\n",
    "        #vela consecutiva alcista\n",
    "        candle_up = (#dfpl.loc[j,\"Vela_Verde\"]==True \n",
    "                     #and dfpl.loc[j-1,\"Vela_Verde\"]==True \n",
    "                     dfpl.loc[j,\"High\"]> dfpl.loc[j-1,\"High\"]\n",
    "                     and dfpl.loc[j-1,\"High\"]> dfpl.loc[j,\"Low\"]\n",
    "                     and dfpl.loc[j,\"Low\"]> dfpl.loc[j-2,\"High\"]\n",
    "                     and dfpl.loc[j-2,\"High\"]> dfpl.loc[j-1,\"Low\"]\n",
    "                     and dfpl.loc[j-1,\"Low\"]> dfpl.loc[j-3,\"High\"]\n",
    "                     and dfpl.loc[j-3,\"High\"]> dfpl.loc[j-2,\"Low\"]\n",
    "                     and dfpl.loc[j-2,\"Low\"]> dfpl.loc[j-3,\"Low\"]\n",
    "                     #and dfpl.loc[j,\"Close\"]> dfpl.loc[j-1,\"High\"] \n",
    "                     #and dfpl.loc[j-1,\"Close\"]>dfpl.loc[j-2,\"High\"]\n",
    "                     #and dfpl.loc[j-1,\"Close\"]>dfpl.loc[j-3,\"High\"] \n",
    "                    )\n",
    "\n",
    "        if (candle_up==True and close>lineTrend):\n",
    "            ind_vela=ind_vela+1\n",
    "        #vela sea verde, que tenga volumen, que tenga cuerpo y que este por encima de la linea trend\n",
    "        #if (vela_Verde==True and promVol<=vol and above_Third==True and close>=lineTrend):\n",
    "        #    ind_vela=ind_vela+1\n",
    "        \n",
    "        #vela sea envolvente, alcista y que este por encima de la linea trend\n",
    "        #if (\n",
    "        #    (cdlhammer>0 or\n",
    "        #     cdlmorningstar>0 or\n",
    "        #     cdlpiercing>0 or\n",
    "        #     cdl3whitesoldiers>0 or\n",
    "        #     cdlharami>0 or\n",
    "        #     cdlharamicross>0 or\n",
    "        #     cdlinvertdhammer>0 or\n",
    "        #     cdlladderbottom>0\n",
    "        #    )\n",
    "        #    and promVol<=vol\n",
    "        #    and close>=lineTrend):\n",
    "        #    ind_vela=ind_vela+1\n",
    "\n",
    "        #vela sea envolvente, alcista y que este por encima de la linea trend\n",
    "        #if (\n",
    "        #    (cdlclosingmarubozu>0 or\n",
    "        #     cdlmarubozu>0 or\n",
    "        #     cdlengulfing>0 or\n",
    "        #     cdlhammer>0\n",
    "        #    )\n",
    "        #    #and promVol<=vol\n",
    "        #    and close>=lineTrend):\n",
    "        #    ind_vela=ind_vela+1 \n",
    "            \n",
    "        j=j+1\n",
    "    \n",
    "    return 1 #1 para mostrar todo ind_vela para que funcione el filtro"
   ]
  },
  {
   "cell_type": "code",
   "execution_count": 12,
   "id": "d994f943-5fc5-43c7-9604-84976d99a911",
   "metadata": {
    "execution": {
     "iopub.execute_input": "2025-06-11T16:20:53.258129Z",
     "iopub.status.busy": "2025-06-11T16:20:53.257665Z",
     "iopub.status.idle": "2025-06-11T16:24:19.392014Z",
     "shell.execute_reply": "2025-06-11T16:24:19.391363Z"
    },
    "papermill": {
     "duration": 206.140108,
     "end_time": "2025-06-11T16:24:19.392894",
     "exception": false,
     "start_time": "2025-06-11T16:20:53.252786",
     "status": "completed"
    },
    "tags": []
   },
   "outputs": [
    {
     "name": "stdout",
     "output_type": "stream",
     "text": [
      "===posible caso: 88 SPY\n",
      "===posible caso: 164 SPY\n"
     ]
    },
    {
     "name": "stdout",
     "output_type": "stream",
     "text": [
      "h1\n",
      "164 SPY\n",
      "===posible caso: 208 SPY\n",
      "h1\n",
      "208 SPY\n",
      "===posible caso: 226 SPY\n"
     ]
    },
    {
     "name": "stdout",
     "output_type": "stream",
     "text": [
      "h2\n",
      "h4\n",
      "h1\n",
      "226 SPY\n",
      "===posible caso: 250 SPY\n",
      "===posible caso: 276 SPY\n",
      "===posible caso: 296 SPY\n",
      "===posible caso: 388 SPY\n"
     ]
    },
    {
     "name": "stdout",
     "output_type": "stream",
     "text": [
      "h1\n",
      "388 SPY\n",
      "===posible caso: 450 SPY\n",
      "===posible caso: 586 SPY\n"
     ]
    },
    {
     "name": "stdout",
     "output_type": "stream",
     "text": [
      "h1\n",
      "586 SPY\n",
      "===posible caso: 753 SPY\n",
      "===posible caso: 830 SPY\n"
     ]
    },
    {
     "name": "stdout",
     "output_type": "stream",
     "text": [
      "===posible caso: 890 SPY\n",
      "===posible caso: 919 SPY\n"
     ]
    },
    {
     "name": "stdout",
     "output_type": "stream",
     "text": [
      "h1\n",
      "919 SPY\n",
      "===posible caso: 955 SPY\n",
      "h1\n",
      "955 SPY\n",
      "===posible caso: 1025 SPY\n"
     ]
    },
    {
     "name": "stdout",
     "output_type": "stream",
     "text": [
      "===posible caso: 1103 SPY\n",
      "h1\n",
      "1103 SPY\n",
      "===posible caso: 1163 SPY\n"
     ]
    },
    {
     "name": "stdout",
     "output_type": "stream",
     "text": [
      "h1\n",
      "1163 SPY\n",
      "===posible caso: 1193 SPY\n",
      "===posible caso: 1217 SPY\n",
      "===posible caso: 1264 SPY\n",
      "h1\n",
      "1264 SPY\n",
      "===posible caso: 1287 SPY\n"
     ]
    },
    {
     "name": "stdout",
     "output_type": "stream",
     "text": [
      "h1\n",
      "1287 SPY\n",
      "===posible caso: 1311 SPY\n",
      "===posible caso: 1352 SPY\n",
      "===posible caso: 1535 SPY\n"
     ]
    },
    {
     "name": "stdout",
     "output_type": "stream",
     "text": [
      "h1\n",
      "1535 SPY\n",
      "===posible caso: 1638 SPY\n",
      "h1\n",
      "1638 SPY\n",
      "===posible caso: 1749 SPY\n"
     ]
    },
    {
     "name": "stdout",
     "output_type": "stream",
     "text": [
      "h1\n",
      "1749 SPY\n",
      "===posible caso: 1784 SPY\n",
      "===posible caso: 1826 SPY\n",
      "===posible caso: 1905 SPY\n"
     ]
    },
    {
     "name": "stdout",
     "output_type": "stream",
     "text": [
      "===posible caso: 1935 SPY\n",
      "===posible caso: 1958 SPY\n",
      "===posible caso: 2095 SPY\n"
     ]
    },
    {
     "name": "stdout",
     "output_type": "stream",
     "text": [
      "===posible caso: 2225 SPY\n",
      "h1\n",
      "2225 SPY\n",
      "===posible caso: 2276 SPY\n"
     ]
    },
    {
     "name": "stdout",
     "output_type": "stream",
     "text": [
      "===posible caso: 2345 SPY\n",
      "h1\n",
      "2345 SPY\n",
      "===posible caso: 2372 SPY\n"
     ]
    },
    {
     "name": "stdout",
     "output_type": "stream",
     "text": [
      "h1\n",
      "2372 SPY\n",
      "===posible caso: 2403 SPY\n",
      "===posible caso: 2425 SPY\n",
      "===posible caso: 2477 SPY\n"
     ]
    },
    {
     "name": "stdout",
     "output_type": "stream",
     "text": [
      "h1\n",
      "2477 SPY\n",
      "===posible caso: 2602 SPY\n",
      "h1\n",
      "2602 SPY\n",
      "===posible caso: 2647 SPY\n"
     ]
    },
    {
     "name": "stdout",
     "output_type": "stream",
     "text": [
      "===posible caso: 2694 SPY\n",
      "===posible caso: 2816 SPY\n",
      "h1\n",
      "2816 SPY\n",
      "===posible caso: 2852 SPY\n",
      "===posible caso: 2884 SPY\n",
      "===posible caso: 2940 SPY\n"
     ]
    },
    {
     "name": "stdout",
     "output_type": "stream",
     "text": [
      "===posible caso: 3065 SPY\n",
      "===posible caso: 3102 SPY\n",
      "===posible caso: 3296 SPY\n"
     ]
    },
    {
     "name": "stdout",
     "output_type": "stream",
     "text": [
      "===posible caso: 3371 SPY\n",
      "h1\n",
      "3371 SPY\n",
      "===posible caso: 3534 SPY\n"
     ]
    },
    {
     "name": "stdout",
     "output_type": "stream",
     "text": [
      "===posible caso: 3603 META\n",
      "===posible caso: 3630 META\n"
     ]
    },
    {
     "name": "stdout",
     "output_type": "stream",
     "text": [
      "===posible caso: 3675 META\n",
      "===posible caso: 3701 META\n"
     ]
    },
    {
     "name": "stdout",
     "output_type": "stream",
     "text": [
      "===posible caso: 3755 META\n",
      "===posible caso: 3797 META\n"
     ]
    },
    {
     "name": "stdout",
     "output_type": "stream",
     "text": [
      "h1\n",
      "3797 META\n",
      "===posible caso: 3832 META\n",
      "===posible caso: 3917 META\n",
      "===posible caso: 3964 META\n",
      "h1\n",
      "3964 META\n",
      "===posible caso: 3986 META\n"
     ]
    },
    {
     "name": "stdout",
     "output_type": "stream",
     "text": [
      "h1\n",
      "3986 META\n",
      "===posible caso: 4057 META\n",
      "===posible caso: 4122 META\n",
      "h1\n",
      "4122 META\n",
      "===posible caso: 4147 META\n"
     ]
    },
    {
     "name": "stdout",
     "output_type": "stream",
     "text": [
      "h1\n",
      "4147 META\n",
      "===posible caso: 4176 META\n",
      "===posible caso: 4286 META\n",
      "===posible caso: 4326 META\n"
     ]
    },
    {
     "name": "stdout",
     "output_type": "stream",
     "text": [
      "===posible caso: 4490 META\n",
      "h1\n",
      "4490 META\n",
      "===posible caso: 4558 META\n"
     ]
    },
    {
     "name": "stdout",
     "output_type": "stream",
     "text": [
      "===posible caso: 4634 META\n",
      "===posible caso: 4657 META\n"
     ]
    },
    {
     "name": "stdout",
     "output_type": "stream",
     "text": [
      "h1\n",
      "4657 META\n",
      "===posible caso: 4698 META\n",
      "h1\n",
      "4698 META\n",
      "===posible caso: 4721 META\n",
      "===posible caso: 4797 META\n"
     ]
    },
    {
     "name": "stdout",
     "output_type": "stream",
     "text": [
      "h1\n",
      "4797 META\n",
      "===posible caso: 4823 META\n",
      "h1\n",
      "4823 META\n",
      "===posible caso: 4888 META\n",
      "===posible caso: 4958 META\n"
     ]
    },
    {
     "name": "stdout",
     "output_type": "stream",
     "text": [
      "===posible caso: 5020 META\n",
      "h1\n",
      "5020 META\n",
      "===posible caso: 5137 META\n"
     ]
    },
    {
     "name": "stdout",
     "output_type": "stream",
     "text": [
      "===posible caso: 5214 META\n",
      "h1\n",
      "5214 META\n",
      "===posible caso: 5257 META\n",
      "===posible caso: 5288 META\n"
     ]
    },
    {
     "name": "stdout",
     "output_type": "stream",
     "text": [
      "h1\n",
      "5288 META\n",
      "===posible caso: 5310 META\n",
      "h1\n",
      "5310 META\n",
      "===posible caso: 5355 META\n",
      "===posible caso: 5392 META\n",
      "===posible caso: 5411 META\n"
     ]
    },
    {
     "name": "stdout",
     "output_type": "stream",
     "text": [
      "h1\n",
      "5411 META\n",
      "===posible caso: 5471 META\n",
      "===posible caso: 5519 META\n",
      "===posible caso: 5591 META\n",
      "h1\n",
      "5591 META\n",
      "===posible caso: 5661 META\n"
     ]
    },
    {
     "name": "stdout",
     "output_type": "stream",
     "text": [
      "h1\n",
      "5661 META\n",
      "===posible caso: 5789 META\n",
      "h2\n",
      "h4\n",
      "h2\n",
      "h4\n",
      "h1\n",
      "5789 META\n"
     ]
    },
    {
     "name": "stdout",
     "output_type": "stream",
     "text": [
      "===posible caso: 5841 META\n",
      "===posible caso: 5962 META\n"
     ]
    },
    {
     "name": "stdout",
     "output_type": "stream",
     "text": [
      "===posible caso: 6007 META\n",
      "===posible caso: 6141 META\n",
      "h1\n",
      "6141 META\n",
      "===posible caso: 6161 META\n"
     ]
    },
    {
     "name": "stdout",
     "output_type": "stream",
     "text": [
      "===posible caso: 6223 META\n",
      "===posible caso: 6273 META\n",
      "===posible caso: 6291 META\n"
     ]
    },
    {
     "name": "stdout",
     "output_type": "stream",
     "text": [
      "===posible caso: 6379 META\n",
      "===posible caso: 6424 META\n"
     ]
    },
    {
     "name": "stdout",
     "output_type": "stream",
     "text": [
      "h1\n",
      "6424 META\n",
      "===posible caso: 6461 META\n",
      "h1\n",
      "6461 META\n",
      "===posible caso: 6507 META\n"
     ]
    },
    {
     "name": "stdout",
     "output_type": "stream",
     "text": [
      "===posible caso: 6639 META\n",
      "===posible caso: 6683 META\n"
     ]
    },
    {
     "name": "stdout",
     "output_type": "stream",
     "text": [
      "===posible caso: 6831 META\n",
      "h1\n",
      "6831 META\n",
      "===posible caso: 6877 META\n"
     ]
    },
    {
     "name": "stdout",
     "output_type": "stream",
     "text": [
      "===posible caso: 6919 META\n",
      "===posible caso: 6997 META\n"
     ]
    },
    {
     "name": "stdout",
     "output_type": "stream",
     "text": [
      "h1\n",
      "6997 META\n",
      "===posible caso: 7018 META\n",
      "h1\n",
      "7018 META\n",
      "===posible caso: 7065 META\n"
     ]
    },
    {
     "name": "stdout",
     "output_type": "stream",
     "text": [
      "===posible caso: 7157 AAPL\n",
      "h1\n",
      "7157 AAPL\n",
      "===posible caso: 7178 AAPL\n"
     ]
    },
    {
     "name": "stdout",
     "output_type": "stream",
     "text": [
      "h1\n",
      "7178 AAPL\n",
      "===posible caso: 7236 AAPL\n",
      "h1\n",
      "7236 AAPL\n",
      "===posible caso: 7293 AAPL\n"
     ]
    },
    {
     "name": "stdout",
     "output_type": "stream",
     "text": [
      "===posible caso: 7343 AAPL\n",
      "h1\n",
      "7343 AAPL\n",
      "===posible caso: 7411 AAPL\n",
      "===posible caso: 7466 AAPL\n"
     ]
    },
    {
     "name": "stdout",
     "output_type": "stream",
     "text": [
      "h1\n",
      "7466 AAPL\n",
      "===posible caso: 7536 AAPL\n",
      "===posible caso: 7562 AAPL\n",
      "h1\n",
      "7562 AAPL\n",
      "===posible caso: 7653 AAPL\n"
     ]
    },
    {
     "name": "stdout",
     "output_type": "stream",
     "text": [
      "h1\n",
      "7653 AAPL\n",
      "===posible caso: 7712 AAPL\n",
      "===posible caso: 7857 AAPL\n",
      "h1\n",
      "7857 AAPL\n",
      "===posible caso: 7932 AAPL\n"
     ]
    },
    {
     "name": "stdout",
     "output_type": "stream",
     "text": [
      "===posible caso: 7955 AAPL\n",
      "===posible caso: 8018 AAPL\n"
     ]
    },
    {
     "name": "stdout",
     "output_type": "stream",
     "text": [
      "===posible caso: 8080 AAPL\n",
      "===posible caso: 8137 AAPL\n",
      "===posible caso: 8207 AAPL\n",
      "===posible caso: 8373 AAPL\n",
      "===posible caso: 8416 AAPL\n"
     ]
    },
    {
     "name": "stdout",
     "output_type": "stream",
     "text": [
      "===posible caso: 8522 AAPL\n",
      "===posible caso: 8602 AAPL\n",
      "h1\n",
      "8602 AAPL\n",
      "===posible caso: 8631 AAPL\n"
     ]
    },
    {
     "name": "stdout",
     "output_type": "stream",
     "text": [
      "===posible caso: 8718 AAPL\n",
      "h1\n",
      "8718 AAPL\n",
      "===posible caso: 8820 AAPL\n"
     ]
    },
    {
     "name": "stdout",
     "output_type": "stream",
     "text": [
      "h1\n",
      "8820 AAPL\n",
      "===posible caso: 8841 AAPL\n",
      "h1\n",
      "8841 AAPL\n",
      "===posible caso: 8960 AAPL\n"
     ]
    },
    {
     "name": "stdout",
     "output_type": "stream",
     "text": [
      "===posible caso: 9060 AAPL\n",
      "h1\n",
      "9060 AAPL\n",
      "===posible caso: 9263 AAPL\n",
      "===posible caso: 9300 AAPL\n",
      "===posible caso: 9343 AAPL\n"
     ]
    },
    {
     "name": "stdout",
     "output_type": "stream",
     "text": [
      "===posible caso: 9390 AAPL\n",
      "===posible caso: 9414 AAPL\n",
      "===posible caso: 9448 AAPL\n"
     ]
    },
    {
     "name": "stdout",
     "output_type": "stream",
     "text": [
      "===posible caso: 9539 AAPL\n",
      "===posible caso: 9591 AAPL\n",
      "h1\n",
      "9591 AAPL\n",
      "===posible caso: 9691 AAPL\n"
     ]
    },
    {
     "name": "stdout",
     "output_type": "stream",
     "text": [
      "h1\n",
      "9691 AAPL\n",
      "===posible caso: 9761 AAPL\n",
      "===posible caso: 9799 AAPL\n",
      "===posible caso: 9840 AAPL\n",
      "===posible caso: 9917 AAPL\n"
     ]
    },
    {
     "name": "stdout",
     "output_type": "stream",
     "text": [
      "===posible caso: 10031 AAPL\n",
      "h1\n",
      "10031 AAPL\n",
      "===posible caso: 10059 AAPL\n",
      "===posible caso: 10141 AAPL\n"
     ]
    },
    {
     "name": "stdout",
     "output_type": "stream",
     "text": [
      "===posible caso: 10188 AAPL\n",
      "h1\n",
      "10188 AAPL\n",
      "===posible caso: 10271 AAPL\n"
     ]
    },
    {
     "name": "stdout",
     "output_type": "stream",
     "text": [
      "===posible caso: 10356 AAPL\n",
      "===posible caso: 10414 AAPL\n"
     ]
    },
    {
     "name": "stdout",
     "output_type": "stream",
     "text": [
      "h1\n",
      "10414 AAPL\n",
      "===posible caso: 10517 AAPL\n",
      "===posible caso: 10654 AMZN\n"
     ]
    },
    {
     "name": "stdout",
     "output_type": "stream",
     "text": [
      "h1\n",
      "10654 AMZN\n",
      "===posible caso: 10709 AMZN\n",
      "===posible caso: 10742 AMZN\n",
      "===posible caso: 10767 AMZN\n"
     ]
    },
    {
     "name": "stdout",
     "output_type": "stream",
     "text": [
      "===posible caso: 10824 AMZN\n",
      "===posible caso: 10986 AMZN\n"
     ]
    },
    {
     "name": "stdout",
     "output_type": "stream",
     "text": [
      "h1\n",
      "10986 AMZN\n",
      "===posible caso: 11046 AMZN\n",
      "===posible caso: 11093 AMZN\n",
      "===posible caso: 11184 AMZN\n"
     ]
    },
    {
     "name": "stdout",
     "output_type": "stream",
     "text": [
      "h1\n",
      "11184 AMZN\n",
      "===posible caso: 11201 AMZN\n",
      "===posible caso: 11312 AMZN\n"
     ]
    },
    {
     "name": "stdout",
     "output_type": "stream",
     "text": [
      "===posible caso: 11343 AMZN\n",
      "===posible caso: 11398 AMZN\n"
     ]
    },
    {
     "name": "stdout",
     "output_type": "stream",
     "text": [
      "===posible caso: 11437 AMZN\n",
      "===posible caso: 11463 AMZN\n"
     ]
    },
    {
     "name": "stdout",
     "output_type": "stream",
     "text": [
      "===posible caso: 11514 AMZN\n",
      "===posible caso: 11616 AMZN\n"
     ]
    },
    {
     "name": "stdout",
     "output_type": "stream",
     "text": [
      "===posible caso: 11695 AMZN\n",
      "h1\n",
      "11695 AMZN\n",
      "===posible caso: 11719 AMZN\n",
      "===posible caso: 11756 AMZN\n"
     ]
    },
    {
     "name": "stdout",
     "output_type": "stream",
     "text": [
      "===posible caso: 11822 AMZN\n",
      "h1\n",
      "11822 AMZN\n",
      "===posible caso: 11857 AMZN\n"
     ]
    },
    {
     "name": "stdout",
     "output_type": "stream",
     "text": [
      "h1\n",
      "11857 AMZN\n",
      "===posible caso: 11917 AMZN\n",
      "===posible caso: 11962 AMZN\n",
      "===posible caso: 11984 AMZN\n"
     ]
    },
    {
     "name": "stdout",
     "output_type": "stream",
     "text": [
      "===posible caso: 12025 AMZN\n",
      "===posible caso: 12051 AMZN\n"
     ]
    },
    {
     "name": "stdout",
     "output_type": "stream",
     "text": [
      "===posible caso: 12189 AMZN\n",
      "h1\n",
      "12189 AMZN\n",
      "===posible caso: 12277 AMZN\n",
      "===posible caso: 12348 AMZN\n"
     ]
    },
    {
     "name": "stdout",
     "output_type": "stream",
     "text": [
      "===posible caso: 12420 AMZN\n",
      "h1\n",
      "12420 AMZN\n",
      "===posible caso: 12450 AMZN\n"
     ]
    },
    {
     "name": "stdout",
     "output_type": "stream",
     "text": [
      "h1\n",
      "12450 AMZN\n",
      "===posible caso: 12466 AMZN\n",
      "===posible caso: 12581 AMZN\n",
      "===posible caso: 12679 AMZN\n"
     ]
    },
    {
     "name": "stdout",
     "output_type": "stream",
     "text": [
      "h1\n",
      "12679 AMZN\n",
      "===posible caso: 12749 AMZN\n",
      "===posible caso: 12846 AMZN\n"
     ]
    },
    {
     "name": "stdout",
     "output_type": "stream",
     "text": [
      "h1\n",
      "12846 AMZN\n",
      "===posible caso: 12931 AMZN\n",
      "===posible caso: 12984 AMZN\n",
      "===posible caso: 13001 AMZN\n"
     ]
    },
    {
     "name": "stdout",
     "output_type": "stream",
     "text": [
      "===posible caso: 13037 AMZN\n",
      "===posible caso: 13065 AMZN\n"
     ]
    },
    {
     "name": "stdout",
     "output_type": "stream",
     "text": [
      "===posible caso: 13098 AMZN\n",
      "h1\n",
      "13098 AMZN\n",
      "===posible caso: 13126 AMZN\n"
     ]
    },
    {
     "name": "stdout",
     "output_type": "stream",
     "text": [
      "===posible caso: 13223 AMZN\n",
      "===posible caso: 13248 AMZN\n"
     ]
    },
    {
     "name": "stdout",
     "output_type": "stream",
     "text": [
      "===posible caso: 13429 AMZN\n",
      "===posible caso: 13463 AMZN\n"
     ]
    },
    {
     "name": "stdout",
     "output_type": "stream",
     "text": [
      "===posible caso: 13569 AMZN\n",
      "===posible caso: 13607 AMZN\n"
     ]
    },
    {
     "name": "stdout",
     "output_type": "stream",
     "text": [
      "===posible caso: 13639 AMZN\n",
      "===posible caso: 13706 AMZN\n",
      "===posible caso: 13859 AMZN\n"
     ]
    },
    {
     "name": "stdout",
     "output_type": "stream",
     "text": [
      "h1\n",
      "13859 AMZN\n",
      "===posible caso: 13938 AMZN\n",
      "h1\n",
      "13938 AMZN\n",
      "===posible caso: 13969 AMZN\n"
     ]
    },
    {
     "name": "stdout",
     "output_type": "stream",
     "text": [
      "===posible caso: 14015 AMZN\n",
      "===posible caso: 14036 AMZN\n",
      "===posible caso: 14101 AMZN\n"
     ]
    },
    {
     "name": "stdout",
     "output_type": "stream",
     "text": [
      "===posible caso: 14228 NFLX\n",
      "===posible caso: 14298 NFLX\n"
     ]
    },
    {
     "name": "stdout",
     "output_type": "stream",
     "text": [
      "h1\n",
      "14298 NFLX\n",
      "===posible caso: 14325 NFLX\n",
      "===posible caso: 14357 NFLX\n",
      "h1\n",
      "14357 NFLX\n",
      "===posible caso: 14528 NFLX\n"
     ]
    },
    {
     "name": "stdout",
     "output_type": "stream",
     "text": [
      "h1\n",
      "14528 NFLX\n",
      "===posible caso: 14628 NFLX\n",
      "===posible caso: 14700 NFLX\n",
      "===posible caso: 14732 NFLX\n",
      "h1\n",
      "14732 NFLX\n",
      "===posible caso: 14776 NFLX\n"
     ]
    },
    {
     "name": "stdout",
     "output_type": "stream",
     "text": [
      "===posible caso: 14916 NFLX\n",
      "h1\n",
      "14916 NFLX\n",
      "===posible caso: 14943 NFLX\n"
     ]
    },
    {
     "name": "stdout",
     "output_type": "stream",
     "text": [
      "h1\n",
      "14943 NFLX\n",
      "===posible caso: 15048 NFLX\n",
      "h1\n",
      "15048 NFLX\n",
      "===posible caso: 15077 NFLX\n"
     ]
    },
    {
     "name": "stdout",
     "output_type": "stream",
     "text": [
      "===posible caso: 15151 NFLX\n",
      "===posible caso: 15215 NFLX\n"
     ]
    },
    {
     "name": "stdout",
     "output_type": "stream",
     "text": [
      "===posible caso: 15270 NFLX\n",
      "h1\n",
      "15270 NFLX\n",
      "===posible caso: 15317 NFLX\n"
     ]
    },
    {
     "name": "stdout",
     "output_type": "stream",
     "text": [
      "===posible caso: 15365 NFLX\n",
      "h1\n",
      "15365 NFLX\n",
      "===posible caso: 15388 NFLX\n"
     ]
    },
    {
     "name": "stdout",
     "output_type": "stream",
     "text": [
      "h1\n",
      "15388 NFLX\n",
      "===posible caso: 15434 NFLX\n",
      "===posible caso: 15459 NFLX\n",
      "===posible caso: 15504 NFLX\n"
     ]
    },
    {
     "name": "stdout",
     "output_type": "stream",
     "text": [
      "h1\n",
      "15504 NFLX\n",
      "===posible caso: 15545 NFLX\n",
      "===posible caso: 15638 NFLX\n",
      "h1\n",
      "15638 NFLX\n",
      "===posible caso: 15712 NFLX\n"
     ]
    },
    {
     "name": "stdout",
     "output_type": "stream",
     "text": [
      "===posible caso: 15779 NFLX\n",
      "===posible caso: 15810 NFLX\n"
     ]
    },
    {
     "name": "stdout",
     "output_type": "stream",
     "text": [
      "===posible caso: 15926 NFLX\n",
      "===posible caso: 16022 NFLX\n"
     ]
    },
    {
     "name": "stdout",
     "output_type": "stream",
     "text": [
      "===posible caso: 16112 NFLX\n",
      "h1\n",
      "16112 NFLX\n",
      "===posible caso: 16203 NFLX\n"
     ]
    },
    {
     "name": "stdout",
     "output_type": "stream",
     "text": [
      "===posible caso: 16351 NFLX\n",
      "===posible caso: 16380 NFLX\n"
     ]
    },
    {
     "name": "stdout",
     "output_type": "stream",
     "text": [
      "===posible caso: 16458 NFLX\n",
      "h1\n",
      "16458 NFLX\n",
      "===posible caso: 16510 NFLX\n"
     ]
    },
    {
     "name": "stdout",
     "output_type": "stream",
     "text": [
      "===posible caso: 16532 NFLX\n",
      "===posible caso: 16551 NFLX\n",
      "===posible caso: 16667 NFLX\n"
     ]
    },
    {
     "name": "stdout",
     "output_type": "stream",
     "text": [
      "h1\n",
      "16667 NFLX\n",
      "===posible caso: 16755 NFLX\n",
      "===posible caso: 16781 NFLX\n"
     ]
    },
    {
     "name": "stdout",
     "output_type": "stream",
     "text": [
      "===posible caso: 16943 NFLX\n",
      "h1\n",
      "16943 NFLX\n",
      "===posible caso: 17026 NFLX\n"
     ]
    },
    {
     "name": "stdout",
     "output_type": "stream",
     "text": [
      "h1\n",
      "17026 NFLX\n",
      "===posible caso: 17054 NFLX\n",
      "h1\n",
      "17054 NFLX\n",
      "===posible caso: 17193 NFLX\n"
     ]
    },
    {
     "name": "stdout",
     "output_type": "stream",
     "text": [
      "h1\n",
      "17193 NFLX\n",
      "===posible caso: 17210 NFLX\n",
      "===posible caso: 17237 NFLX\n"
     ]
    },
    {
     "name": "stdout",
     "output_type": "stream",
     "text": [
      "===posible caso: 17338 NFLX\n",
      "h2\n",
      "h4\n",
      "h2\n",
      "h4\n",
      "h1\n",
      "17338 NFLX\n",
      "===posible caso: 17425 NFLX\n"
     ]
    },
    {
     "name": "stdout",
     "output_type": "stream",
     "text": [
      "===posible caso: 17441 NFLX\n",
      "===posible caso: 17495 NFLX\n"
     ]
    },
    {
     "name": "stdout",
     "output_type": "stream",
     "text": [
      "===posible caso: 17512 NFLX\n",
      "===posible caso: 17541 NFLX\n"
     ]
    },
    {
     "name": "stdout",
     "output_type": "stream",
     "text": [
      "===posible caso: 17596 NFLX\n",
      "===posible caso: 17659 NFLX\n"
     ]
    },
    {
     "name": "stdout",
     "output_type": "stream",
     "text": [
      "===posible caso: 17718 MRNA\n",
      "===posible caso: 17754 MRNA\n",
      "===posible caso: 17796 MRNA\n",
      "===posible caso: 17833 MRNA\n",
      "===posible caso: 17936 MRNA\n"
     ]
    },
    {
     "name": "stdout",
     "output_type": "stream",
     "text": [
      "h1\n",
      "17936 MRNA\n",
      "===posible caso: 17997 MRNA\n",
      "h1\n",
      "17997 MRNA\n",
      "===posible caso: 18020 MRNA\n"
     ]
    },
    {
     "name": "stdout",
     "output_type": "stream",
     "text": [
      "h1\n",
      "18020 MRNA\n",
      "===posible caso: 18039 MRNA\n",
      "===posible caso: 18114 MRNA\n",
      "===posible caso: 18184 MRNA\n",
      "===posible caso: 18233 MRNA\n",
      "===posible caso: 18361 MRNA\n",
      "===posible caso: 18412 MRNA\n",
      "===posible caso: 18437 MRNA\n"
     ]
    },
    {
     "name": "stdout",
     "output_type": "stream",
     "text": [
      "===posible caso: 18454 MRNA\n",
      "h1\n",
      "18454 MRNA\n",
      "===posible caso: 18471 MRNA\n"
     ]
    },
    {
     "name": "stdout",
     "output_type": "stream",
     "text": [
      "===posible caso: 18507 MRNA\n",
      "h1\n",
      "18507 MRNA\n",
      "===posible caso: 18531 MRNA\n"
     ]
    },
    {
     "name": "stdout",
     "output_type": "stream",
     "text": [
      "===posible caso: 18627 MRNA\n",
      "h1\n",
      "18627 MRNA\n",
      "===posible caso: 18657 MRNA\n"
     ]
    },
    {
     "name": "stdout",
     "output_type": "stream",
     "text": [
      "===posible caso: 18754 MRNA\n",
      "===posible caso: 18874 MRNA\n"
     ]
    },
    {
     "name": "stdout",
     "output_type": "stream",
     "text": [
      "===posible caso: 18898 MRNA\n",
      "===posible caso: 18954 MRNA\n"
     ]
    },
    {
     "name": "stdout",
     "output_type": "stream",
     "text": [
      "===posible caso: 18989 MRNA\n",
      "===posible caso: 19040 MRNA\n"
     ]
    },
    {
     "name": "stdout",
     "output_type": "stream",
     "text": [
      "===posible caso: 19076 MRNA\n",
      "===posible caso: 19094 MRNA\n",
      "===posible caso: 19171 MRNA\n",
      "===posible caso: 19218 MRNA\n"
     ]
    },
    {
     "name": "stdout",
     "output_type": "stream",
     "text": [
      "===posible caso: 19327 MRNA\n",
      "===posible caso: 19383 MRNA\n",
      "===posible caso: 19413 MRNA\n"
     ]
    },
    {
     "name": "stdout",
     "output_type": "stream",
     "text": [
      "===posible caso: 19516 MRNA\n",
      "===posible caso: 19545 MRNA\n",
      "h1\n",
      "19545 MRNA\n",
      "===posible caso: 19563 MRNA\n"
     ]
    },
    {
     "name": "stdout",
     "output_type": "stream",
     "text": [
      "===posible caso: 19628 MRNA\n",
      "h1\n",
      "19628 MRNA\n",
      "===posible caso: 19728 MRNA\n"
     ]
    },
    {
     "name": "stdout",
     "output_type": "stream",
     "text": [
      "===posible caso: 19837 MRNA\n",
      "===posible caso: 19868 MRNA\n",
      "===posible caso: 19930 MRNA\n",
      "===posible caso: 20051 MRNA\n",
      "===posible caso: 20077 MRNA\n"
     ]
    },
    {
     "name": "stdout",
     "output_type": "stream",
     "text": [
      "===posible caso: 20211 MRNA\n",
      "===posible caso: 20239 MRNA\n"
     ]
    },
    {
     "name": "stdout",
     "output_type": "stream",
     "text": [
      "===posible caso: 20269 MRNA\n",
      "===posible caso: 20311 MRNA\n",
      "===posible caso: 20402 MRNA\n",
      "h1\n",
      "20402 MRNA\n",
      "===posible caso: 20437 MRNA\n"
     ]
    },
    {
     "name": "stdout",
     "output_type": "stream",
     "text": [
      "h1\n",
      "20437 MRNA\n",
      "===posible caso: 20495 MRNA\n",
      "h1\n",
      "20495 MRNA\n",
      "===posible caso: 20594 MRNA\n"
     ]
    },
    {
     "name": "stdout",
     "output_type": "stream",
     "text": [
      "===posible caso: 20685 MRNA\n",
      "===posible caso: 20943 MRNA\n"
     ]
    },
    {
     "name": "stdout",
     "output_type": "stream",
     "text": [
      "===posible caso: 21036 MRNA\n",
      "===posible caso: 21100 MRNA\n",
      "===posible caso: 21158 MRNA\n"
     ]
    },
    {
     "name": "stdout",
     "output_type": "stream",
     "text": [
      "===posible caso: 21291 TSLA\n",
      "===posible caso: 21356 TSLA\n"
     ]
    },
    {
     "name": "stdout",
     "output_type": "stream",
     "text": [
      "h1\n",
      "21356 TSLA\n",
      "===posible caso: 21387 TSLA\n",
      "h1\n",
      "21387 TSLA\n",
      "===posible caso: 21441 TSLA\n"
     ]
    },
    {
     "name": "stdout",
     "output_type": "stream",
     "text": [
      "h1\n",
      "21441 TSLA\n",
      "===posible caso: 21567 TSLA\n",
      "===posible caso: 21619 TSLA\n"
     ]
    },
    {
     "name": "stdout",
     "output_type": "stream",
     "text": [
      "===posible caso: 21641 TSLA\n",
      "h1\n",
      "21641 TSLA\n",
      "===posible caso: 21744 TSLA\n"
     ]
    },
    {
     "name": "stdout",
     "output_type": "stream",
     "text": [
      "===posible caso: 21762 TSLA\n",
      "===posible caso: 21798 TSLA\n"
     ]
    },
    {
     "name": "stdout",
     "output_type": "stream",
     "text": [
      "===posible caso: 21831 TSLA\n",
      "===posible caso: 21887 TSLA\n",
      "===posible caso: 21906 TSLA\n",
      "===posible caso: 21944 TSLA\n",
      "===posible caso: 22002 TSLA\n"
     ]
    },
    {
     "name": "stdout",
     "output_type": "stream",
     "text": [
      "===posible caso: 22107 TSLA\n",
      "h1\n",
      "22107 TSLA\n",
      "===posible caso: 22138 TSLA\n",
      "===posible caso: 22189 TSLA\n",
      "===posible caso: 22263 TSLA\n",
      "===posible caso: 22289 TSLA\n"
     ]
    },
    {
     "name": "stdout",
     "output_type": "stream",
     "text": [
      "===posible caso: 22351 TSLA\n",
      "h1\n",
      "22351 TSLA\n",
      "===posible caso: 22381 TSLA\n",
      "===posible caso: 22430 TSLA\n"
     ]
    },
    {
     "name": "stdout",
     "output_type": "stream",
     "text": [
      "h1\n",
      "22430 TSLA\n",
      "===posible caso: 22446 TSLA\n",
      "h1\n",
      "22446 TSLA\n",
      "===posible caso: 22485 TSLA\n",
      "===posible caso: 22540 TSLA\n",
      "===posible caso: 22625 TSLA\n"
     ]
    },
    {
     "name": "stdout",
     "output_type": "stream",
     "text": [
      "===posible caso: 22725 TSLA\n",
      "h1\n",
      "22725 TSLA\n",
      "===posible caso: 22841 TSLA\n"
     ]
    },
    {
     "name": "stdout",
     "output_type": "stream",
     "text": [
      "===posible caso: 22966 TSLA\n",
      "h1\n",
      "22966 TSLA\n",
      "===posible caso: 23069 TSLA\n"
     ]
    },
    {
     "name": "stdout",
     "output_type": "stream",
     "text": [
      "h1\n",
      "23069 TSLA\n",
      "===posible caso: 23153 TSLA\n",
      "===posible caso: 23276 TSLA\n"
     ]
    },
    {
     "name": "stdout",
     "output_type": "stream",
     "text": [
      "h1\n",
      "23276 TSLA\n",
      "===posible caso: 23342 TSLA\n",
      "===posible caso: 23467 TSLA\n"
     ]
    },
    {
     "name": "stdout",
     "output_type": "stream",
     "text": [
      "===posible caso: 23495 TSLA\n",
      "h1\n",
      "23495 TSLA\n",
      "===posible caso: 23560 TSLA\n"
     ]
    },
    {
     "name": "stdout",
     "output_type": "stream",
     "text": [
      "===posible caso: 23602 TSLA\n",
      "===posible caso: 23672 TSLA\n"
     ]
    },
    {
     "name": "stdout",
     "output_type": "stream",
     "text": [
      "h1\n",
      "23672 TSLA\n",
      "===posible caso: 23735 TSLA\n",
      "===posible caso: 23850 TSLA\n"
     ]
    },
    {
     "name": "stdout",
     "output_type": "stream",
     "text": [
      "h1\n",
      "23850 TSLA\n",
      "===posible caso: 23982 TSLA\n",
      "h1\n",
      "23982 TSLA\n",
      "===posible caso: 24127 TSLA\n"
     ]
    },
    {
     "name": "stdout",
     "output_type": "stream",
     "text": [
      "===posible caso: 24181 TSLA\n",
      "===posible caso: 24233 TSLA\n",
      "===posible caso: 24250 TSLA\n",
      "===posible caso: 24299 TSLA\n"
     ]
    },
    {
     "name": "stdout",
     "output_type": "stream",
     "text": [
      "===posible caso: 24450 TSLA\n",
      "===posible caso: 24467 TSLA\n",
      "===posible caso: 24486 TSLA\n"
     ]
    },
    {
     "name": "stdout",
     "output_type": "stream",
     "text": [
      "h1\n",
      "24486 TSLA\n",
      "===posible caso: 24569 TSLA\n",
      "h1\n",
      "24569 TSLA\n",
      "===posible caso: 24609 TSLA\n"
     ]
    },
    {
     "name": "stdout",
     "output_type": "stream",
     "text": [
      "h1\n",
      "24609 TSLA\n",
      "===posible caso: 24632 TSLA\n",
      "===posible caso: 24720 TSLA\n",
      "===posible caso: 24813 TNA\n",
      "===posible caso: 24886 TNA\n"
     ]
    },
    {
     "name": "stdout",
     "output_type": "stream",
     "text": [
      "h1\n",
      "24886 TNA\n",
      "===posible caso: 24948 TNA\n",
      "===posible caso: 24972 TNA\n"
     ]
    },
    {
     "name": "stdout",
     "output_type": "stream",
     "text": [
      "h2\n",
      "h4\n",
      "h1\n",
      "24972 TNA\n",
      "===posible caso: 25110 TNA\n",
      "===posible caso: 25294 TNA\n",
      "===posible caso: 25422 TNA\n"
     ]
    },
    {
     "name": "stdout",
     "output_type": "stream",
     "text": [
      "===posible caso: 25474 TNA\n",
      "===posible caso: 25498 TNA\n",
      "===posible caso: 25516 TNA\n"
     ]
    },
    {
     "name": "stdout",
     "output_type": "stream",
     "text": [
      "===posible caso: 25560 TNA\n",
      "===posible caso: 25612 TNA\n"
     ]
    },
    {
     "name": "stdout",
     "output_type": "stream",
     "text": [
      "===posible caso: 25640 TNA\n",
      "h1\n",
      "25640 TNA\n",
      "===posible caso: 25673 TNA\n"
     ]
    },
    {
     "name": "stdout",
     "output_type": "stream",
     "text": [
      "===posible caso: 25721 TNA\n",
      "===posible caso: 25785 TNA\n",
      "===posible caso: 25819 TNA\n"
     ]
    },
    {
     "name": "stdout",
     "output_type": "stream",
     "text": [
      "===posible caso: 25886 TNA\n",
      "===posible caso: 25983 TNA\n"
     ]
    },
    {
     "name": "stdout",
     "output_type": "stream",
     "text": [
      "h1\n",
      "25983 TNA\n",
      "===posible caso: 26009 TNA\n",
      "===posible caso: 26077 TNA\n",
      "===posible caso: 26109 TNA\n"
     ]
    },
    {
     "name": "stdout",
     "output_type": "stream",
     "text": [
      "h1\n",
      "26109 TNA\n",
      "===posible caso: 26230 TNA\n",
      "===posible caso: 26257 TNA\n",
      "h1\n",
      "26257 TNA\n",
      "===posible caso: 26298 TNA\n"
     ]
    },
    {
     "name": "stdout",
     "output_type": "stream",
     "text": [
      "h1\n",
      "26298 TNA\n",
      "===posible caso: 26344 TNA\n",
      "===posible caso: 26360 TNA\n"
     ]
    },
    {
     "name": "stdout",
     "output_type": "stream",
     "text": [
      "===posible caso: 26395 TNA\n",
      "h1\n",
      "26395 TNA\n",
      "===posible caso: 26421 TNA\n"
     ]
    },
    {
     "name": "stdout",
     "output_type": "stream",
     "text": [
      "h1\n",
      "26421 TNA\n",
      "===posible caso: 26501 TNA\n",
      "h1\n",
      "26501 TNA\n",
      "===posible caso: 26521 TNA\n"
     ]
    },
    {
     "name": "stdout",
     "output_type": "stream",
     "text": [
      "===posible caso: 26627 TNA\n",
      "h1\n",
      "26627 TNA\n",
      "===posible caso: 26683 TNA\n"
     ]
    },
    {
     "name": "stdout",
     "output_type": "stream",
     "text": [
      "h1\n",
      "26683 TNA\n",
      "===posible caso: 26703 TNA\n"
     ]
    },
    {
     "name": "stdout",
     "output_type": "stream",
     "text": [
      "h1\n",
      "26703 TNA\n",
      "===posible caso: 26824 TNA\n",
      "===posible caso: 26848 TNA\n"
     ]
    },
    {
     "name": "stdout",
     "output_type": "stream",
     "text": [
      "===posible caso: 26949 TNA\n",
      "===posible caso: 27078 TNA\n"
     ]
    },
    {
     "name": "stdout",
     "output_type": "stream",
     "text": [
      "h1\n",
      "27078 TNA\n",
      "===posible caso: 27146 TNA\n",
      "===posible caso: 27272 TNA\n",
      "===posible caso: 27301 TNA\n"
     ]
    },
    {
     "name": "stdout",
     "output_type": "stream",
     "text": [
      "h2\n",
      "h4\n",
      "h1\n",
      "27301 TNA\n",
      "===posible caso: 27348 TNA\n",
      "===posible caso: 27454 TNA\n",
      "===posible caso: 27522 TNA\n"
     ]
    },
    {
     "name": "stdout",
     "output_type": "stream",
     "text": [
      "h1\n",
      "27522 TNA\n",
      "===posible caso: 27539 TNA\n",
      "h1\n",
      "27539 TNA\n",
      "===posible caso: 27574 TNA\n",
      "===posible caso: 27655 TNA\n"
     ]
    },
    {
     "name": "stdout",
     "output_type": "stream",
     "text": [
      "===posible caso: 27823 TNA\n",
      "===posible caso: 27869 TNA\n",
      "===posible caso: 27905 TNA\n"
     ]
    },
    {
     "name": "stdout",
     "output_type": "stream",
     "text": [
      "h1\n",
      "27905 TNA\n",
      "===posible caso: 27931 TNA\n",
      "h1\n",
      "27931 TNA\n",
      "===posible caso: 28017 TNA\n"
     ]
    },
    {
     "name": "stdout",
     "output_type": "stream",
     "text": [
      "h1\n",
      "28017 TNA\n",
      "===posible caso: 28067 TNA\n",
      "h1\n",
      "28067 TNA\n",
      "===posible caso: 28088 TNA\n"
     ]
    },
    {
     "name": "stdout",
     "output_type": "stream",
     "text": [
      "===posible caso: 28167 TNA\n",
      "===posible caso: 28395 GLD\n",
      "===posible caso: 28416 GLD\n"
     ]
    },
    {
     "name": "stdout",
     "output_type": "stream",
     "text": [
      "===posible caso: 28508 GLD\n",
      "===posible caso: 28631 GLD\n",
      "h1\n",
      "28631 GLD\n",
      "===posible caso: 28673 GLD\n"
     ]
    },
    {
     "name": "stdout",
     "output_type": "stream",
     "text": [
      "h1\n",
      "28673 GLD\n",
      "===posible caso: 28732 GLD\n",
      "h1\n",
      "28732 GLD\n",
      "===posible caso: 28852 GLD\n"
     ]
    },
    {
     "name": "stdout",
     "output_type": "stream",
     "text": [
      "===posible caso: 28884 GLD\n",
      "h1\n",
      "28884 GLD\n",
      "===posible caso: 28922 GLD\n"
     ]
    },
    {
     "name": "stdout",
     "output_type": "stream",
     "text": [
      "===posible caso: 29016 GLD\n",
      "===posible caso: 29037 GLD\n",
      "===posible caso: 29088 GLD\n"
     ]
    },
    {
     "name": "stdout",
     "output_type": "stream",
     "text": [
      "===posible caso: 29113 GLD\n",
      "===posible caso: 29167 GLD\n"
     ]
    },
    {
     "name": "stdout",
     "output_type": "stream",
     "text": [
      "===posible caso: 29204 GLD\n",
      "===posible caso: 29243 GLD\n"
     ]
    },
    {
     "name": "stdout",
     "output_type": "stream",
     "text": [
      "===posible caso: 29325 GLD\n",
      "===posible caso: 29371 GLD\n",
      "===posible caso: 29398 GLD\n"
     ]
    },
    {
     "name": "stdout",
     "output_type": "stream",
     "text": [
      "===posible caso: 29477 GLD\n",
      "h2\n",
      "h4\n",
      "h1\n",
      "29477 GLD\n",
      "===posible caso: 29546 GLD\n"
     ]
    },
    {
     "name": "stdout",
     "output_type": "stream",
     "text": [
      "===posible caso: 29691 GLD\n",
      "h1\n",
      "29691 GLD\n",
      "===posible caso: 29712 GLD\n"
     ]
    },
    {
     "name": "stdout",
     "output_type": "stream",
     "text": [
      "h1\n",
      "29712 GLD\n",
      "===posible caso: 29731 GLD\n",
      "===posible caso: 29750 GLD\n"
     ]
    },
    {
     "name": "stdout",
     "output_type": "stream",
     "text": [
      "===posible caso: 29792 GLD\n",
      "===posible caso: 29856 GLD\n"
     ]
    },
    {
     "name": "stdout",
     "output_type": "stream",
     "text": [
      "===posible caso: 29898 GLD\n",
      "h1\n",
      "29898 GLD\n",
      "===posible caso: 29930 GLD\n"
     ]
    },
    {
     "name": "stdout",
     "output_type": "stream",
     "text": [
      "===posible caso: 29979 GLD\n",
      "===posible caso: 30045 GLD\n",
      "===posible caso: 30112 GLD\n"
     ]
    },
    {
     "name": "stdout",
     "output_type": "stream",
     "text": [
      "===posible caso: 30163 GLD\n",
      "===posible caso: 30247 GLD\n"
     ]
    },
    {
     "name": "stdout",
     "output_type": "stream",
     "text": [
      "===posible caso: 30295 GLD\n",
      "h1\n",
      "30295 GLD\n",
      "===posible caso: 30331 GLD\n"
     ]
    },
    {
     "name": "stdout",
     "output_type": "stream",
     "text": [
      "h1\n",
      "30331 GLD\n",
      "===posible caso: 30383 GLD\n",
      "h1\n",
      "30383 GLD\n",
      "===posible caso: 30454 GLD\n"
     ]
    },
    {
     "name": "stdout",
     "output_type": "stream",
     "text": [
      "===posible caso: 30518 GLD\n",
      "===posible caso: 30645 GLD\n"
     ]
    },
    {
     "name": "stdout",
     "output_type": "stream",
     "text": [
      "===posible caso: 30684 GLD\n",
      "===posible caso: 30715 GLD\n"
     ]
    },
    {
     "name": "stdout",
     "output_type": "stream",
     "text": [
      "===posible caso: 30804 GLD\n",
      "h1\n",
      "30804 GLD\n",
      "===posible caso: 30829 GLD\n"
     ]
    },
    {
     "name": "stdout",
     "output_type": "stream",
     "text": [
      "===posible caso: 30846 GLD\n",
      "===posible caso: 30883 GLD\n",
      "===posible caso: 30979 GLD\n",
      "===posible caso: 31009 GLD\n"
     ]
    },
    {
     "name": "stdout",
     "output_type": "stream",
     "text": [
      "===posible caso: 31072 GLD\n",
      "===posible caso: 31149 GLD\n"
     ]
    },
    {
     "name": "stdout",
     "output_type": "stream",
     "text": [
      "===posible caso: 31218 GLD\n",
      "===posible caso: 31262 GLD\n",
      "===posible caso: 31337 GLD\n"
     ]
    },
    {
     "name": "stdout",
     "output_type": "stream",
     "text": [
      "===posible caso: 31403 GLD\n",
      "h1\n",
      "31403 GLD\n",
      "===posible caso: 31451 GLD\n",
      "===posible caso: 31492 GLD\n"
     ]
    },
    {
     "name": "stdout",
     "output_type": "stream",
     "text": [
      "===posible caso: 31568 GLD\n",
      "===posible caso: 31656 GLD\n",
      "===posible caso: 31694 GLD\n",
      "===posible caso: 31721 GLD\n"
     ]
    },
    {
     "name": "stdout",
     "output_type": "stream",
     "text": [
      "h1\n",
      "31721 GLD\n",
      "===posible caso: 31787 GLD\n",
      "===posible caso: 31963 SLV\n",
      "h1\n",
      "31963 SLV\n",
      "===posible caso: 32071 SLV\n",
      "===posible caso: 32167 SLV\n"
     ]
    },
    {
     "name": "stdout",
     "output_type": "stream",
     "text": [
      "===posible caso: 32225 SLV\n",
      "===posible caso: 32279 SLV\n",
      "h1\n",
      "32279 SLV\n",
      "===posible caso: 32420 SLV\n"
     ]
    },
    {
     "name": "stdout",
     "output_type": "stream",
     "text": [
      "h1\n",
      "32420 SLV\n",
      "===posible caso: 32552 SLV\n",
      "===posible caso: 32623 SLV\n",
      "===posible caso: 32723 SLV\n"
     ]
    },
    {
     "name": "stdout",
     "output_type": "stream",
     "text": [
      "===posible caso: 32898 SLV\n",
      "h1\n",
      "32898 SLV\n",
      "===posible caso: 32958 SLV\n"
     ]
    },
    {
     "name": "stdout",
     "output_type": "stream",
     "text": [
      "===posible caso: 32986 SLV\n",
      "===posible caso: 33014 SLV\n",
      "===posible caso: 33082 SLV\n"
     ]
    },
    {
     "name": "stdout",
     "output_type": "stream",
     "text": [
      "===posible caso: 33117 SLV\n",
      "===posible caso: 33141 SLV\n"
     ]
    },
    {
     "name": "stdout",
     "output_type": "stream",
     "text": [
      "h1\n",
      "33141 SLV\n",
      "===posible caso: 33248 SLV\n",
      "h1\n",
      "33248 SLV\n",
      "===posible caso: 33288 SLV\n",
      "===posible caso: 33316 SLV\n",
      "===posible caso: 33433 SLV\n"
     ]
    },
    {
     "name": "stdout",
     "output_type": "stream",
     "text": [
      "h1\n",
      "33433 SLV\n",
      "===posible caso: 33581 SLV\n",
      "===posible caso: 33646 SLV\n"
     ]
    },
    {
     "name": "stdout",
     "output_type": "stream",
     "text": [
      "===posible caso: 33672 SLV\n",
      "===posible caso: 33735 SLV\n",
      "===posible caso: 33775 SLV\n",
      "===posible caso: 33830 SLV\n"
     ]
    },
    {
     "name": "stdout",
     "output_type": "stream",
     "text": [
      "h1\n",
      "33830 SLV\n",
      "===posible caso: 33906 SLV\n",
      "h1\n",
      "33906 SLV\n",
      "===posible caso: 34040 SLV\n"
     ]
    },
    {
     "name": "stdout",
     "output_type": "stream",
     "text": [
      "h1\n",
      "34040 SLV\n",
      "===posible caso: 34092 SLV\n",
      "===posible caso: 34181 SLV\n",
      "===posible caso: 34320 SLV\n",
      "===posible caso: 34340 SLV\n"
     ]
    },
    {
     "name": "stdout",
     "output_type": "stream",
     "text": [
      "h1\n",
      "34340 SLV\n",
      "===posible caso: 34382 SLV\n",
      "===posible caso: 34402 SLV\n",
      "===posible caso: 34545 SLV\n"
     ]
    },
    {
     "name": "stdout",
     "output_type": "stream",
     "text": [
      "h1\n",
      "34545 SLV\n",
      "===posible caso: 34575 SLV\n",
      "===posible caso: 34597 SLV\n",
      "h1\n",
      "34597 SLV\n",
      "===posible caso: 34678 SLV\n"
     ]
    },
    {
     "name": "stdout",
     "output_type": "stream",
     "text": [
      "h2\n",
      "h4\n",
      "h1\n",
      "34678 SLV\n",
      "===posible caso: 34735 SLV\n",
      "h1\n",
      "34735 SLV\n",
      "===posible caso: 34806 SLV\n",
      "===posible caso: 34841 SLV\n"
     ]
    },
    {
     "name": "stdout",
     "output_type": "stream",
     "text": [
      "===posible caso: 34862 SLV\n",
      "h1\n",
      "34862 SLV\n",
      "===posible caso: 34914 SLV\n",
      "===posible caso: 35010 SLV\n"
     ]
    },
    {
     "name": "stdout",
     "output_type": "stream",
     "text": [
      "h1\n",
      "35010 SLV\n",
      "===posible caso: 35040 SLV\n",
      "===posible caso: 35138 SLV\n",
      "===posible caso: 35181 SLV\n",
      "===posible caso: 35230 SLV\n"
     ]
    },
    {
     "name": "stdout",
     "output_type": "stream",
     "text": [
      "===posible caso: 35272 SLV\n",
      "===posible caso: 35299 SLV\n"
     ]
    },
    {
     "name": "stdout",
     "output_type": "stream",
     "text": [
      "===posible caso: 35388 USO\n",
      "===posible caso: 35471 USO\n"
     ]
    },
    {
     "name": "stdout",
     "output_type": "stream",
     "text": [
      "===posible caso: 35554 USO\n",
      "===posible caso: 35602 USO\n"
     ]
    },
    {
     "name": "stdout",
     "output_type": "stream",
     "text": [
      "h1\n",
      "35602 USO\n",
      "===posible caso: 35795 USO\n",
      "===posible caso: 35895 USO\n",
      "===posible caso: 35924 USO\n"
     ]
    },
    {
     "name": "stdout",
     "output_type": "stream",
     "text": [
      "===posible caso: 35954 USO\n",
      "===posible caso: 35994 USO\n"
     ]
    },
    {
     "name": "stdout",
     "output_type": "stream",
     "text": [
      "h1\n",
      "35994 USO\n",
      "===posible caso: 36199 USO\n",
      "===posible caso: 36246 USO\n"
     ]
    },
    {
     "name": "stdout",
     "output_type": "stream",
     "text": [
      "h1\n",
      "36246 USO\n",
      "===posible caso: 36268 USO\n",
      "h1\n",
      "36268 USO\n",
      "===posible caso: 36350 USO\n",
      "===posible caso: 36419 USO\n"
     ]
    },
    {
     "name": "stdout",
     "output_type": "stream",
     "text": [
      "===posible caso: 36504 USO\n",
      "h1\n",
      "36504 USO\n",
      "===posible caso: 36522 USO\n"
     ]
    },
    {
     "name": "stdout",
     "output_type": "stream",
     "text": [
      "h1\n",
      "36522 USO\n",
      "===posible caso: 36542 USO\n",
      "h1\n",
      "36542 USO\n",
      "===posible caso: 36582 USO\n"
     ]
    },
    {
     "name": "stdout",
     "output_type": "stream",
     "text": [
      "===posible caso: 36603 USO\n",
      "h1\n",
      "36603 USO\n",
      "===posible caso: 36668 USO\n"
     ]
    },
    {
     "name": "stdout",
     "output_type": "stream",
     "text": [
      "===posible caso: 36752 USO\n",
      "h1\n",
      "36752 USO\n",
      "===posible caso: 36855 USO\n"
     ]
    },
    {
     "name": "stdout",
     "output_type": "stream",
     "text": [
      "h2\n",
      "h4\n",
      "h1\n",
      "36855 USO\n",
      "===posible caso: 36923 USO\n",
      "===posible caso: 36966 USO\n",
      "===posible caso: 37078 USO\n"
     ]
    },
    {
     "name": "stdout",
     "output_type": "stream",
     "text": [
      "===posible caso: 37180 USO\n",
      "h1\n",
      "37180 USO\n",
      "===posible caso: 37282 USO\n"
     ]
    },
    {
     "name": "stdout",
     "output_type": "stream",
     "text": [
      "h1\n",
      "37282 USO\n",
      "===posible caso: 37365 USO\n",
      "===posible caso: 37383 USO\n"
     ]
    },
    {
     "name": "stdout",
     "output_type": "stream",
     "text": [
      "h1\n",
      "37383 USO\n",
      "===posible caso: 37435 USO\n",
      "===posible caso: 37571 USO\n"
     ]
    },
    {
     "name": "stdout",
     "output_type": "stream",
     "text": [
      "===posible caso: 37640 USO\n",
      "===posible caso: 37737 USO\n"
     ]
    },
    {
     "name": "stdout",
     "output_type": "stream",
     "text": [
      "===posible caso: 37782 USO\n",
      "h1\n",
      "37782 USO\n",
      "===posible caso: 37798 USO\n"
     ]
    },
    {
     "name": "stdout",
     "output_type": "stream",
     "text": [
      "h1\n",
      "37798 USO\n",
      "===posible caso: 37875 USO\n",
      "===posible caso: 37969 USO\n"
     ]
    },
    {
     "name": "stdout",
     "output_type": "stream",
     "text": [
      "h1\n",
      "37969 USO\n",
      "===posible caso: 37988 USO\n",
      "h1\n",
      "37988 USO\n",
      "===posible caso: 38060 USO\n"
     ]
    },
    {
     "name": "stdout",
     "output_type": "stream",
     "text": [
      "h1\n",
      "38060 USO\n",
      "===posible caso: 38108 USO\n",
      "===posible caso: 38193 USO\n",
      "===posible caso: 38231 USO\n",
      "===posible caso: 38272 USO\n",
      "===posible caso: 38309 USO\n",
      "===posible caso: 38370 USO\n",
      "===posible caso: 38438 USO\n"
     ]
    },
    {
     "name": "stdout",
     "output_type": "stream",
     "text": [
      "h1\n",
      "38438 USO\n",
      "===posible caso: 38479 USO\n",
      "===posible caso: 38513 USO\n",
      "===posible caso: 38566 USO\n"
     ]
    },
    {
     "name": "stdout",
     "output_type": "stream",
     "text": [
      "h1\n",
      "38566 USO\n",
      "===posible caso: 38671 USO\n",
      "===posible caso: 38768 USO\n",
      "===posible caso: 38796 USO\n"
     ]
    },
    {
     "name": "stdout",
     "output_type": "stream",
     "text": [
      "h3\n",
      "h4\n",
      "h3\n",
      "h4\n",
      "h3\n",
      "h4\n",
      "h3\n",
      "h4\n",
      "38796 USO\n",
      "===posible caso: 38863 USO\n",
      "===posible caso: 38958 BAC\n"
     ]
    },
    {
     "name": "stdout",
     "output_type": "stream",
     "text": [
      "===posible caso: 39001 BAC\n",
      "===posible caso: 39052 BAC\n",
      "===posible caso: 39126 BAC\n",
      "===posible caso: 39235 BAC\n",
      "===posible caso: 39437 BAC\n",
      "===posible caso: 39477 BAC\n"
     ]
    },
    {
     "name": "stdout",
     "output_type": "stream",
     "text": [
      "h1\n",
      "39477 BAC\n",
      "===posible caso: 39523 BAC\n",
      "===posible caso: 39565 BAC\n",
      "===posible caso: 39643 BAC\n"
     ]
    },
    {
     "name": "stdout",
     "output_type": "stream",
     "text": [
      "h1\n",
      "39643 BAC\n",
      "===posible caso: 39711 BAC\n",
      "h2\n",
      "h4\n",
      "h1\n",
      "39711 BAC\n",
      "===posible caso: 39755 BAC\n",
      "===posible caso: 39851 BAC\n"
     ]
    },
    {
     "name": "stdout",
     "output_type": "stream",
     "text": [
      "===posible caso: 39970 BAC\n",
      "===posible caso: 40030 BAC\n"
     ]
    },
    {
     "name": "stdout",
     "output_type": "stream",
     "text": [
      "===posible caso: 40058 BAC\n",
      "===posible caso: 40173 BAC\n"
     ]
    },
    {
     "name": "stdout",
     "output_type": "stream",
     "text": [
      "===posible caso: 40221 BAC\n",
      "===posible caso: 40255 BAC\n"
     ]
    },
    {
     "name": "stdout",
     "output_type": "stream",
     "text": [
      "===posible caso: 40376 BAC\n",
      "===posible caso: 40439 BAC\n",
      "===posible caso: 40522 BAC\n"
     ]
    },
    {
     "name": "stdout",
     "output_type": "stream",
     "text": [
      "h1\n",
      "40522 BAC\n",
      "===posible caso: 40585 BAC\n",
      "h1\n",
      "40585 BAC\n",
      "===posible caso: 40664 BAC\n"
     ]
    },
    {
     "name": "stdout",
     "output_type": "stream",
     "text": [
      "===posible caso: 40712 BAC\n",
      "===posible caso: 40768 BAC\n",
      "h1\n",
      "40768 BAC\n",
      "===posible caso: 40936 BAC\n"
     ]
    },
    {
     "name": "stdout",
     "output_type": "stream",
     "text": [
      "h1\n",
      "40936 BAC\n",
      "===posible caso: 41009 BAC\n",
      "h1\n",
      "41009 BAC\n",
      "===posible caso: 41091 BAC\n"
     ]
    },
    {
     "name": "stdout",
     "output_type": "stream",
     "text": [
      "h1\n",
      "41091 BAC\n",
      "===posible caso: 41129 BAC\n",
      "===posible caso: 41170 BAC\n"
     ]
    },
    {
     "name": "stdout",
     "output_type": "stream",
     "text": [
      "===posible caso: 41223 BAC\n",
      "h1\n",
      "41223 BAC\n",
      "===posible caso: 41289 BAC\n",
      "===posible caso: 41327 BAC\n",
      "===posible caso: 41347 BAC\n"
     ]
    },
    {
     "name": "stdout",
     "output_type": "stream",
     "text": [
      "===posible caso: 41381 BAC\n",
      "h1\n",
      "41381 BAC\n",
      "===posible caso: 41429 BAC\n"
     ]
    },
    {
     "name": "stdout",
     "output_type": "stream",
     "text": [
      "===posible caso: 41461 BAC\n",
      "===posible caso: 41497 BAC\n"
     ]
    },
    {
     "name": "stdout",
     "output_type": "stream",
     "text": [
      "h1\n",
      "41497 BAC\n",
      "===posible caso: 41604 BAC\n",
      "===posible caso: 41643 BAC\n",
      "===posible caso: 41660 BAC\n"
     ]
    },
    {
     "name": "stdout",
     "output_type": "stream",
     "text": [
      "h1\n",
      "41660 BAC\n",
      "===posible caso: 41701 BAC\n",
      "===posible caso: 41855 BAC\n"
     ]
    },
    {
     "name": "stdout",
     "output_type": "stream",
     "text": [
      "===posible caso: 41974 BAC\n",
      "h1\n",
      "41974 BAC\n",
      "===posible caso: 42048 BAC\n"
     ]
    },
    {
     "name": "stdout",
     "output_type": "stream",
     "text": [
      "h1\n",
      "42048 BAC\n",
      "===posible caso: 42075 BAC\n",
      "===posible caso: 42214 BAC\n"
     ]
    },
    {
     "name": "stdout",
     "output_type": "stream",
     "text": [
      "h1\n",
      "42214 BAC\n",
      "===posible caso: 42233 BAC\n",
      "===posible caso: 42322 BAC\n"
     ]
    },
    {
     "name": "stdout",
     "output_type": "stream",
     "text": [
      "===posible caso: 42363 BAC\n",
      "h1\n",
      "42363 BAC\n",
      "===posible caso: 42484 CVX\n"
     ]
    },
    {
     "name": "stdout",
     "output_type": "stream",
     "text": [
      "===posible caso: 42531 CVX\n",
      "===posible caso: 42582 CVX\n",
      "===posible caso: 42685 CVX\n",
      "===posible caso: 42709 CVX\n"
     ]
    },
    {
     "name": "stdout",
     "output_type": "stream",
     "text": [
      "h1\n",
      "42709 CVX\n",
      "===posible caso: 42756 CVX\n",
      "===posible caso: 42861 CVX\n"
     ]
    },
    {
     "name": "stdout",
     "output_type": "stream",
     "text": [
      "h1\n",
      "42861 CVX\n",
      "===posible caso: 42911 CVX\n",
      "h1\n",
      "42911 CVX\n",
      "===posible caso: 43018 CVX\n"
     ]
    },
    {
     "name": "stdout",
     "output_type": "stream",
     "text": [
      "h1\n",
      "43018 CVX\n",
      "===posible caso: 43099 CVX\n",
      "h1\n",
      "43099 CVX\n",
      "===posible caso: 43148 CVX\n",
      "===posible caso: 43222 CVX\n"
     ]
    },
    {
     "name": "stdout",
     "output_type": "stream",
     "text": [
      "===posible caso: 43314 CVX\n",
      "h1\n",
      "43314 CVX\n",
      "===posible caso: 43335 CVX\n"
     ]
    },
    {
     "name": "stdout",
     "output_type": "stream",
     "text": [
      "===posible caso: 43499 CVX\n",
      "h1\n",
      "43499 CVX\n",
      "===posible caso: 43520 CVX\n"
     ]
    },
    {
     "name": "stdout",
     "output_type": "stream",
     "text": [
      "===posible caso: 43549 CVX\n",
      "h1\n",
      "43549 CVX\n",
      "===posible caso: 43589 CVX\n",
      "===posible caso: 43610 CVX\n"
     ]
    },
    {
     "name": "stdout",
     "output_type": "stream",
     "text": [
      "===posible caso: 43649 CVX\n",
      "h1\n",
      "43649 CVX\n",
      "===posible caso: 43670 CVX\n"
     ]
    },
    {
     "name": "stdout",
     "output_type": "stream",
     "text": [
      "h1\n",
      "43670 CVX\n",
      "===posible caso: 43736 CVX\n",
      "===posible caso: 43818 CVX\n"
     ]
    },
    {
     "name": "stdout",
     "output_type": "stream",
     "text": [
      "===posible caso: 43851 CVX\n",
      "h1\n",
      "43851 CVX\n",
      "===posible caso: 43930 CVX\n"
     ]
    },
    {
     "name": "stdout",
     "output_type": "stream",
     "text": [
      "===posible caso: 43998 CVX\n",
      "===posible caso: 44069 CVX\n",
      "===posible caso: 44095 CVX\n"
     ]
    },
    {
     "name": "stdout",
     "output_type": "stream",
     "text": [
      "h1\n",
      "44095 CVX\n",
      "===posible caso: 44200 CVX\n",
      "h1\n",
      "44200 CVX\n",
      "===posible caso: 44311 CVX\n"
     ]
    },
    {
     "name": "stdout",
     "output_type": "stream",
     "text": [
      "===posible caso: 44372 CVX\n",
      "h1\n",
      "44372 CVX\n",
      "===posible caso: 44451 CVX\n"
     ]
    },
    {
     "name": "stdout",
     "output_type": "stream",
     "text": [
      "h1\n",
      "44451 CVX\n",
      "===posible caso: 44498 CVX\n",
      "h1\n",
      "44498 CVX\n",
      "===posible caso: 44563 CVX\n",
      "===posible caso: 44638 CVX\n"
     ]
    },
    {
     "name": "stdout",
     "output_type": "stream",
     "text": [
      "===posible caso: 44687 CVX\n",
      "===posible caso: 44733 CVX\n",
      "===posible caso: 44860 CVX\n"
     ]
    },
    {
     "name": "stdout",
     "output_type": "stream",
     "text": [
      "===posible caso: 44904 CVX\n",
      "===posible caso: 44960 CVX\n",
      "h1\n",
      "44960 CVX\n",
      "===posible caso: 45188 CVX\n"
     ]
    },
    {
     "name": "stdout",
     "output_type": "stream",
     "text": [
      "===posible caso: 45223 CVX\n",
      "h1\n",
      "45223 CVX\n",
      "===posible caso: 45297 CVX\n"
     ]
    },
    {
     "name": "stdout",
     "output_type": "stream",
     "text": [
      "h1\n",
      "45297 CVX\n",
      "===posible caso: 45339 CVX\n",
      "===posible caso: 45422 CVX\n",
      "===posible caso: 45505 CVX\n"
     ]
    },
    {
     "name": "stdout",
     "output_type": "stream",
     "text": [
      "===posible caso: 45539 CVX\n",
      "===posible caso: 45580 CVX\n",
      "===posible caso: 45664 CVX\n"
     ]
    },
    {
     "name": "stdout",
     "output_type": "stream",
     "text": [
      "===posible caso: 45689 CVX\n",
      "===posible caso: 45739 CVX\n"
     ]
    },
    {
     "name": "stdout",
     "output_type": "stream",
     "text": [
      "===posible caso: 45835 CVX\n",
      "h1\n",
      "45835 CVX\n",
      "===posible caso: 46019 XOM\n"
     ]
    },
    {
     "name": "stdout",
     "output_type": "stream",
     "text": [
      "h1\n",
      "46019 XOM\n",
      "===posible caso: 46113 XOM\n",
      "h1\n",
      "46113 XOM\n",
      "===posible caso: 46177 XOM\n"
     ]
    },
    {
     "name": "stdout",
     "output_type": "stream",
     "text": [
      "===posible caso: 46223 XOM\n",
      "===posible caso: 46324 XOM\n"
     ]
    },
    {
     "name": "stdout",
     "output_type": "stream",
     "text": [
      "h1\n",
      "46324 XOM\n",
      "===posible caso: 46374 XOM\n",
      "===posible caso: 46440 XOM\n",
      "===posible caso: 46491 XOM\n"
     ]
    },
    {
     "name": "stdout",
     "output_type": "stream",
     "text": [
      "===posible caso: 46549 XOM\n",
      "===posible caso: 46622 XOM\n",
      "===posible caso: 46722 XOM\n"
     ]
    },
    {
     "name": "stdout",
     "output_type": "stream",
     "text": [
      "===posible caso: 46799 XOM\n",
      "===posible caso: 46844 XOM\n"
     ]
    },
    {
     "name": "stdout",
     "output_type": "stream",
     "text": [
      "===posible caso: 46954 XOM\n",
      "===posible caso: 47031 XOM\n"
     ]
    },
    {
     "name": "stdout",
     "output_type": "stream",
     "text": [
      "h1\n",
      "47031 XOM\n",
      "===posible caso: 47079 XOM\n",
      "===posible caso: 47141 XOM\n",
      "h1\n",
      "47141 XOM\n",
      "===posible caso: 47180 XOM\n"
     ]
    },
    {
     "name": "stdout",
     "output_type": "stream",
     "text": [
      "===posible caso: 47293 XOM\n",
      "h2\n",
      "h4\n",
      "h2\n",
      "h4\n",
      "h1\n",
      "47293 XOM\n",
      "===posible caso: 47349 XOM\n"
     ]
    },
    {
     "name": "stdout",
     "output_type": "stream",
     "text": [
      "h1\n",
      "47349 XOM\n",
      "===posible caso: 47382 XOM\n",
      "h1\n",
      "47382 XOM\n",
      "===posible caso: 47428 XOM\n"
     ]
    },
    {
     "name": "stdout",
     "output_type": "stream",
     "text": [
      "===posible caso: 47450 XOM\n",
      "===posible caso: 47496 XOM\n",
      "===posible caso: 47521 XOM\n"
     ]
    },
    {
     "name": "stdout",
     "output_type": "stream",
     "text": [
      "===posible caso: 47562 XOM\n",
      "h1\n",
      "47562 XOM\n",
      "===posible caso: 47626 XOM\n",
      "===posible caso: 47655 XOM\n"
     ]
    },
    {
     "name": "stdout",
     "output_type": "stream",
     "text": [
      "===posible caso: 47755 XOM\n",
      "h1\n",
      "47755 XOM\n",
      "===posible caso: 47842 XOM\n"
     ]
    },
    {
     "name": "stdout",
     "output_type": "stream",
     "text": [
      "h1\n",
      "47842 XOM\n",
      "===posible caso: 47903 XOM\n",
      "===posible caso: 47955 XOM\n",
      "===posible caso: 47995 XOM\n"
     ]
    },
    {
     "name": "stdout",
     "output_type": "stream",
     "text": [
      "h1\n",
      "47995 XOM\n",
      "===posible caso: 48035 XOM\n",
      "===posible caso: 48055 XOM\n",
      "===posible caso: 48169 XOM\n"
     ]
    },
    {
     "name": "stdout",
     "output_type": "stream",
     "text": [
      "===posible caso: 48234 XOM\n",
      "===posible caso: 48273 XOM\n"
     ]
    },
    {
     "name": "stdout",
     "output_type": "stream",
     "text": [
      "===posible caso: 48311 XOM\n",
      "===posible caso: 48390 XOM\n",
      "===posible caso: 48665 XOM\n",
      "===posible caso: 48716 XOM\n"
     ]
    },
    {
     "name": "stdout",
     "output_type": "stream",
     "text": [
      "===posible caso: 48754 XOM\n",
      "h1\n",
      "48754 XOM\n",
      "===posible caso: 48828 XOM\n"
     ]
    },
    {
     "name": "stdout",
     "output_type": "stream",
     "text": [
      "===posible caso: 48873 XOM\n",
      "===posible caso: 48958 XOM\n",
      "h1\n",
      "48958 XOM\n",
      "===posible caso: 49036 XOM\n"
     ]
    },
    {
     "name": "stdout",
     "output_type": "stream",
     "text": [
      "===posible caso: 49059 XOM\n",
      "h1\n",
      "49059 XOM\n",
      "===posible caso: 49111 XOM\n"
     ]
    },
    {
     "name": "stdout",
     "output_type": "stream",
     "text": [
      "===posible caso: 49164 XOM\n",
      "===posible caso: 49190 XOM\n"
     ]
    },
    {
     "name": "stdout",
     "output_type": "stream",
     "text": [
      "===posible caso: 49270 XOM\n",
      "===posible caso: 49336 XOM\n"
     ]
    },
    {
     "name": "stdout",
     "output_type": "stream",
     "text": [
      "h1\n",
      "49336 XOM\n",
      "===posible caso: 49377 XOM\n",
      "===posible caso: 49552 QQQ\n",
      "===posible caso: 49623 QQQ\n"
     ]
    },
    {
     "name": "stdout",
     "output_type": "stream",
     "text": [
      "h1\n",
      "49623 QQQ\n",
      "===posible caso: 49673 QQQ\n",
      "===posible caso: 49708 QQQ\n",
      "h1\n",
      "49708 QQQ\n",
      "===posible caso: 49754 QQQ\n",
      "===posible caso: 49802 QQQ\n",
      "===posible caso: 49839 QQQ\n"
     ]
    },
    {
     "name": "stdout",
     "output_type": "stream",
     "text": [
      "===posible caso: 49905 QQQ\n",
      "===posible caso: 49987 QQQ\n"
     ]
    },
    {
     "name": "stdout",
     "output_type": "stream",
     "text": [
      "===posible caso: 50044 QQQ\n",
      "h1\n",
      "50044 QQQ\n",
      "===posible caso: 50061 QQQ\n"
     ]
    },
    {
     "name": "stdout",
     "output_type": "stream",
     "text": [
      "===posible caso: 50103 QQQ\n",
      "===posible caso: 50211 QQQ\n",
      "h1\n",
      "50211 QQQ\n",
      "===posible caso: 50248 QQQ\n"
     ]
    },
    {
     "name": "stdout",
     "output_type": "stream",
     "text": [
      "===posible caso: 50269 QQQ\n",
      "===posible caso: 50377 QQQ\n"
     ]
    },
    {
     "name": "stdout",
     "output_type": "stream",
     "text": [
      "h1\n",
      "50377 QQQ\n",
      "===posible caso: 50409 QQQ\n",
      "===posible caso: 50530 QQQ\n"
     ]
    },
    {
     "name": "stdout",
     "output_type": "stream",
     "text": [
      "h1\n",
      "50530 QQQ\n",
      "===posible caso: 50555 QQQ\n",
      "===posible caso: 50620 QQQ\n"
     ]
    },
    {
     "name": "stdout",
     "output_type": "stream",
     "text": [
      "h1\n",
      "50620 QQQ\n",
      "===posible caso: 50714 QQQ\n",
      "===posible caso: 50787 QQQ\n",
      "===posible caso: 50810 QQQ\n",
      "===posible caso: 50850 QQQ\n"
     ]
    },
    {
     "name": "stdout",
     "output_type": "stream",
     "text": [
      "===posible caso: 50993 QQQ\n",
      "h1\n",
      "50993 QQQ\n",
      "===posible caso: 51034 QQQ\n"
     ]
    },
    {
     "name": "stdout",
     "output_type": "stream",
     "text": [
      "h1\n",
      "51034 QQQ\n",
      "===posible caso: 51136 QQQ\n",
      "===posible caso: 51233 QQQ\n"
     ]
    },
    {
     "name": "stdout",
     "output_type": "stream",
     "text": [
      "h1\n",
      "51233 QQQ\n",
      "===posible caso: 51284 QQQ\n",
      "===posible caso: 51335 QQQ\n",
      "h1\n",
      "51335 QQQ\n",
      "===posible caso: 51393 QQQ\n"
     ]
    },
    {
     "name": "stdout",
     "output_type": "stream",
     "text": [
      "===posible caso: 51440 QQQ\n",
      "===posible caso: 51543 QQQ\n",
      "h1\n",
      "51543 QQQ\n",
      "===posible caso: 51583 QQQ\n"
     ]
    },
    {
     "name": "stdout",
     "output_type": "stream",
     "text": [
      "h1\n",
      "51583 QQQ\n",
      "===posible caso: 51682 QQQ\n",
      "h1\n",
      "51682 QQQ\n",
      "===posible caso: 51714 QQQ\n"
     ]
    },
    {
     "name": "stdout",
     "output_type": "stream",
     "text": [
      "===posible caso: 51798 QQQ\n",
      "===posible caso: 51844 QQQ\n"
     ]
    },
    {
     "name": "stdout",
     "output_type": "stream",
     "text": [
      "===posible caso: 51880 QQQ\n",
      "===posible caso: 51935 QQQ\n"
     ]
    },
    {
     "name": "stdout",
     "output_type": "stream",
     "text": [
      "===posible caso: 51955 QQQ\n",
      "===posible caso: 52107 QQQ\n"
     ]
    },
    {
     "name": "stdout",
     "output_type": "stream",
     "text": [
      "===posible caso: 52261 QQQ\n",
      "===posible caso: 52310 QQQ\n",
      "===posible caso: 52354 QQQ\n"
     ]
    },
    {
     "name": "stdout",
     "output_type": "stream",
     "text": [
      "===posible caso: 52396 QQQ\n",
      "===posible caso: 52500 QQQ\n",
      "===posible caso: 52522 QQQ\n"
     ]
    },
    {
     "name": "stdout",
     "output_type": "stream",
     "text": [
      "h1\n",
      "52522 QQQ\n",
      "===posible caso: 52566 QQQ\n",
      "===posible caso: 52753 QQQ\n"
     ]
    },
    {
     "name": "stdout",
     "output_type": "stream",
     "text": [
      "h1\n",
      "52753 QQQ\n",
      "===posible caso: 52842 QQQ\n",
      "===posible caso: 52876 QQQ\n",
      "===posible caso: 52926 QQQ\n"
     ]
    },
    {
     "name": "stdout",
     "output_type": "stream",
     "text": [
      "===posible caso: 52987 QQQ\n",
      "===posible caso: 53037 MSFT\n",
      "===posible caso: 53073 MSFT\n",
      "===posible caso: 53093 MSFT\n"
     ]
    },
    {
     "name": "stdout",
     "output_type": "stream",
     "text": [
      "h1\n",
      "53093 MSFT\n",
      "===posible caso: 53132 MSFT\n",
      "===posible caso: 53150 MSFT\n",
      "===posible caso: 53204 MSFT\n",
      "===posible caso: 53239 MSFT\n"
     ]
    },
    {
     "name": "stdout",
     "output_type": "stream",
     "text": [
      "h1\n",
      "53239 MSFT\n",
      "===posible caso: 53331 MSFT\n",
      "===posible caso: 53388 MSFT\n",
      "===posible caso: 53416 MSFT\n"
     ]
    },
    {
     "name": "stdout",
     "output_type": "stream",
     "text": [
      "===posible caso: 53435 MSFT\n",
      "h1\n",
      "53435 MSFT\n",
      "===posible caso: 53523 MSFT\n"
     ]
    },
    {
     "name": "stdout",
     "output_type": "stream",
     "text": [
      "h1\n",
      "53523 MSFT\n",
      "===posible caso: 53587 MSFT\n",
      "===posible caso: 53611 MSFT\n"
     ]
    },
    {
     "name": "stdout",
     "output_type": "stream",
     "text": [
      "h1\n",
      "53611 MSFT\n",
      "===posible caso: 53641 MSFT\n",
      "===posible caso: 53799 MSFT\n",
      "h1\n",
      "53799 MSFT\n",
      "===posible caso: 53870 MSFT\n"
     ]
    },
    {
     "name": "stdout",
     "output_type": "stream",
     "text": [
      "===posible caso: 53907 MSFT\n",
      "===posible caso: 53926 MSFT\n",
      "h1\n",
      "53926 MSFT\n",
      "===posible caso: 53947 MSFT\n"
     ]
    },
    {
     "name": "stdout",
     "output_type": "stream",
     "text": [
      "===posible caso: 53969 MSFT\n",
      "h1\n",
      "53969 MSFT\n",
      "===posible caso: 54087 MSFT\n"
     ]
    },
    {
     "name": "stdout",
     "output_type": "stream",
     "text": [
      "===posible caso: 54149 MSFT\n",
      "===posible caso: 54250 MSFT\n"
     ]
    },
    {
     "name": "stdout",
     "output_type": "stream",
     "text": [
      "===posible caso: 54305 MSFT\n",
      "===posible caso: 54341 MSFT\n"
     ]
    },
    {
     "name": "stdout",
     "output_type": "stream",
     "text": [
      "h1\n",
      "54341 MSFT\n",
      "===posible caso: 54405 MSFT\n",
      "===posible caso: 54514 MSFT\n",
      "===posible caso: 54562 MSFT\n",
      "===posible caso: 54649 MSFT\n"
     ]
    },
    {
     "name": "stdout",
     "output_type": "stream",
     "text": [
      "h1\n",
      "54649 MSFT\n",
      "===posible caso: 54764 MSFT\n",
      "h1\n",
      "54764 MSFT\n",
      "===posible caso: 54808 MSFT\n"
     ]
    },
    {
     "name": "stdout",
     "output_type": "stream",
     "text": [
      "h1\n",
      "54808 MSFT\n",
      "===posible caso: 54842 MSFT\n",
      "===posible caso: 54866 MSFT\n"
     ]
    },
    {
     "name": "stdout",
     "output_type": "stream",
     "text": [
      "h1\n",
      "54866 MSFT\n",
      "===posible caso: 55067 MSFT\n",
      "h1\n",
      "55067 MSFT\n",
      "===posible caso: 55112 MSFT\n",
      "===posible caso: 55210 MSFT\n"
     ]
    },
    {
     "name": "stdout",
     "output_type": "stream",
     "text": [
      "===posible caso: 55329 MSFT\n",
      "===posible caso: 55375 MSFT\n",
      "===posible caso: 55392 MSFT\n"
     ]
    },
    {
     "name": "stdout",
     "output_type": "stream",
     "text": [
      "===posible caso: 55413 MSFT\n",
      "===posible caso: 55460 MSFT\n",
      "===posible caso: 55517 MSFT\n"
     ]
    },
    {
     "name": "stdout",
     "output_type": "stream",
     "text": [
      "===posible caso: 55620 MSFT\n",
      "h1\n",
      "55620 MSFT\n",
      "===posible caso: 55646 MSFT\n"
     ]
    },
    {
     "name": "stdout",
     "output_type": "stream",
     "text": [
      "===posible caso: 55683 MSFT\n",
      "===posible caso: 55803 MSFT\n",
      "===posible caso: 55931 MSFT\n",
      "===posible caso: 56053 MSFT\n"
     ]
    },
    {
     "name": "stdout",
     "output_type": "stream",
     "text": [
      "===posible caso: 56092 MSFT\n",
      "===posible caso: 56189 MSFT\n"
     ]
    },
    {
     "name": "stdout",
     "output_type": "stream",
     "text": [
      "h1\n",
      "56189 MSFT\n",
      "===posible caso: 56289 MSFT\n",
      "h1\n",
      "56289 MSFT\n",
      "===posible caso: 56363 MSFT\n"
     ]
    },
    {
     "name": "stdout",
     "output_type": "stream",
     "text": [
      "===posible caso: 56439 MSFT\n",
      "===posible caso: 56471 MSFT\n"
     ]
    },
    {
     "name": "stdout",
     "output_type": "stream",
     "text": [
      "===posible caso: 56492 MSFT\n",
      "===posible caso: 56519 MSFT\n",
      "===posible caso: 56614 NVDA\n"
     ]
    },
    {
     "name": "stdout",
     "output_type": "stream",
     "text": [
      "===posible caso: 56631 NVDA\n",
      "===posible caso: 56663 NVDA\n"
     ]
    },
    {
     "name": "stdout",
     "output_type": "stream",
     "text": [
      "h1\n",
      "56663 NVDA\n",
      "===posible caso: 56682 NVDA\n",
      "h1\n",
      "56682 NVDA\n",
      "===posible caso: 56728 NVDA\n",
      "===posible caso: 56781 NVDA\n"
     ]
    },
    {
     "name": "stdout",
     "output_type": "stream",
     "text": [
      "===posible caso: 56870 NVDA\n",
      "h1\n",
      "56870 NVDA\n",
      "===posible caso: 56897 NVDA\n"
     ]
    },
    {
     "name": "stdout",
     "output_type": "stream",
     "text": [
      "===posible caso: 56960 NVDA\n",
      "===posible caso: 57015 NVDA\n",
      "===posible caso: 57049 NVDA\n",
      "===posible caso: 57106 NVDA\n"
     ]
    },
    {
     "name": "stdout",
     "output_type": "stream",
     "text": [
      "h1\n",
      "57106 NVDA\n",
      "===posible caso: 57270 NVDA\n",
      "===posible caso: 57297 NVDA\n"
     ]
    },
    {
     "name": "stdout",
     "output_type": "stream",
     "text": [
      "===posible caso: 57384 NVDA\n",
      "===posible caso: 57427 NVDA\n",
      "===posible caso: 57478 NVDA\n"
     ]
    },
    {
     "name": "stdout",
     "output_type": "stream",
     "text": [
      "===posible caso: 57593 NVDA\n",
      "h1\n",
      "57593 NVDA\n",
      "===posible caso: 57618 NVDA\n"
     ]
    },
    {
     "name": "stdout",
     "output_type": "stream",
     "text": [
      "===posible caso: 57695 NVDA\n",
      "===posible caso: 57711 NVDA\n"
     ]
    },
    {
     "name": "stdout",
     "output_type": "stream",
     "text": [
      "h1\n",
      "57711 NVDA\n",
      "===posible caso: 57746 NVDA\n",
      "h1\n",
      "57746 NVDA\n",
      "===posible caso: 57807 NVDA\n"
     ]
    },
    {
     "name": "stdout",
     "output_type": "stream",
     "text": [
      "h1\n",
      "57807 NVDA\n",
      "===posible caso: 57884 NVDA\n",
      "===posible caso: 58048 NVDA\n",
      "===posible caso: 58093 NVDA\n"
     ]
    },
    {
     "name": "stdout",
     "output_type": "stream",
     "text": [
      "===posible caso: 58144 NVDA\n",
      "h1\n",
      "58144 NVDA\n",
      "===posible caso: 58204 NVDA\n"
     ]
    },
    {
     "name": "stdout",
     "output_type": "stream",
     "text": [
      "===posible caso: 58240 NVDA\n",
      "===posible caso: 58305 NVDA\n",
      "h1\n",
      "58305 NVDA\n",
      "===posible caso: 58346 NVDA\n"
     ]
    },
    {
     "name": "stdout",
     "output_type": "stream",
     "text": [
      "h1\n",
      "58346 NVDA\n",
      "===posible caso: 58397 NVDA\n",
      "h1\n",
      "58397 NVDA\n",
      "===posible caso: 58593 NVDA\n"
     ]
    },
    {
     "name": "stdout",
     "output_type": "stream",
     "text": [
      "h1\n",
      "58593 NVDA\n",
      "===posible caso: 58615 NVDA\n",
      "===posible caso: 58710 NVDA\n",
      "===posible caso: 58776 NVDA\n"
     ]
    },
    {
     "name": "stdout",
     "output_type": "stream",
     "text": [
      "===posible caso: 58860 NVDA\n",
      "===posible caso: 58907 NVDA\n"
     ]
    },
    {
     "name": "stdout",
     "output_type": "stream",
     "text": [
      "===posible caso: 58924 NVDA\n",
      "===posible caso: 58942 NVDA\n",
      "===posible caso: 59007 NVDA\n"
     ]
    },
    {
     "name": "stdout",
     "output_type": "stream",
     "text": [
      "===posible caso: 59061 NVDA\n",
      "===posible caso: 59117 NVDA\n",
      "h1\n",
      "59117 NVDA\n",
      "===posible caso: 59148 NVDA\n"
     ]
    },
    {
     "name": "stdout",
     "output_type": "stream",
     "text": [
      "===posible caso: 59207 NVDA\n",
      "h1\n",
      "59207 NVDA\n",
      "===posible caso: 59252 NVDA\n"
     ]
    },
    {
     "name": "stdout",
     "output_type": "stream",
     "text": [
      "===posible caso: 59325 NVDA\n",
      "===posible caso: 59371 NVDA\n"
     ]
    },
    {
     "name": "stdout",
     "output_type": "stream",
     "text": [
      "h1\n",
      "59371 NVDA\n",
      "===posible caso: 59417 NVDA\n",
      "===posible caso: 59448 NVDA\n"
     ]
    },
    {
     "name": "stdout",
     "output_type": "stream",
     "text": [
      "h1\n",
      "59448 NVDA\n",
      "===posible caso: 59579 NVDA\n",
      "h1\n",
      "59579 NVDA\n",
      "===posible caso: 59729 NVDA\n"
     ]
    },
    {
     "name": "stdout",
     "output_type": "stream",
     "text": [
      "===posible caso: 59779 NVDA\n",
      "===posible caso: 59815 NVDA\n",
      "h2\n",
      "h4\n",
      "h2\n",
      "h4\n",
      "h1\n",
      "59815 NVDA\n",
      "===posible caso: 59877 NVDA\n"
     ]
    },
    {
     "name": "stdout",
     "output_type": "stream",
     "text": [
      "h1\n",
      "59877 NVDA\n",
      "===posible caso: 59904 NVDA\n",
      "h1\n",
      "59904 NVDA\n",
      "===posible caso: 59938 NVDA\n",
      "===posible caso: 59966 NVDA\n"
     ]
    },
    {
     "name": "stdout",
     "output_type": "stream",
     "text": [
      "===posible caso: 59988 NVDA\n",
      "===posible caso: 60019 NVDA\n",
      "h3\n",
      "h4\n",
      "h3\n",
      "h4\n",
      "h3\n",
      "h4\n",
      "h3\n",
      "h4\n",
      "60019 NVDA\n",
      "===posible caso: 60049 NVDA\n"
     ]
    },
    {
     "name": "stdout",
     "output_type": "stream",
     "text": [
      "===posible caso: 60097 WMT\n",
      "h1\n",
      "60097 WMT\n",
      "===posible caso: 60150 WMT\n"
     ]
    },
    {
     "name": "stdout",
     "output_type": "stream",
     "text": [
      "h1\n",
      "60150 WMT\n",
      "===posible caso: 60180 WMT\n",
      "h1\n",
      "60180 WMT\n",
      "===posible caso: 60265 WMT\n"
     ]
    },
    {
     "name": "stdout",
     "output_type": "stream",
     "text": [
      "h1\n",
      "60265 WMT\n",
      "===posible caso: 60320 WMT\n",
      "===posible caso: 60337 WMT\n"
     ]
    },
    {
     "name": "stdout",
     "output_type": "stream",
     "text": [
      "===posible caso: 60436 WMT\n",
      "h1\n",
      "60436 WMT\n",
      "===posible caso: 60500 WMT\n"
     ]
    },
    {
     "name": "stdout",
     "output_type": "stream",
     "text": [
      "h1\n",
      "60500 WMT\n",
      "===posible caso: 60667 WMT\n",
      "h1\n",
      "60667 WMT\n",
      "===posible caso: 60699 WMT\n",
      "===posible caso: 60744 WMT\n",
      "===posible caso: 60764 WMT\n"
     ]
    },
    {
     "name": "stdout",
     "output_type": "stream",
     "text": [
      "h1\n",
      "60764 WMT\n",
      "===posible caso: 60809 WMT\n",
      "===posible caso: 60858 WMT\n"
     ]
    },
    {
     "name": "stdout",
     "output_type": "stream",
     "text": [
      "===posible caso: 61025 WMT\n",
      "===posible caso: 61098 WMT\n"
     ]
    },
    {
     "name": "stdout",
     "output_type": "stream",
     "text": [
      "===posible caso: 61174 WMT\n",
      "===posible caso: 61198 WMT\n"
     ]
    },
    {
     "name": "stdout",
     "output_type": "stream",
     "text": [
      "===posible caso: 61218 WMT\n",
      "h1\n",
      "61218 WMT\n",
      "===posible caso: 61247 WMT\n"
     ]
    },
    {
     "name": "stdout",
     "output_type": "stream",
     "text": [
      "===posible caso: 61277 WMT\n",
      "h1\n",
      "61277 WMT\n",
      "===posible caso: 61334 WMT\n"
     ]
    },
    {
     "name": "stdout",
     "output_type": "stream",
     "text": [
      "h1\n",
      "61334 WMT\n",
      "===posible caso: 61357 WMT\n",
      "h1\n",
      "61357 WMT\n",
      "===posible caso: 61472 WMT\n"
     ]
    },
    {
     "name": "stdout",
     "output_type": "stream",
     "text": [
      "===posible caso: 61572 WMT\n",
      "===posible caso: 61632 WMT\n",
      "h1\n",
      "61632 WMT\n",
      "===posible caso: 61653 WMT\n"
     ]
    },
    {
     "name": "stdout",
     "output_type": "stream",
     "text": [
      "h1\n",
      "61653 WMT\n",
      "===posible caso: 61716 WMT\n",
      "===posible caso: 61775 WMT\n"
     ]
    },
    {
     "name": "stdout",
     "output_type": "stream",
     "text": [
      "h1\n",
      "61775 WMT\n",
      "===posible caso: 61850 WMT\n",
      "===posible caso: 61928 WMT\n"
     ]
    },
    {
     "name": "stdout",
     "output_type": "stream",
     "text": [
      "===posible caso: 61972 WMT\n",
      "===posible caso: 62058 WMT\n",
      "===posible caso: 62087 WMT\n"
     ]
    },
    {
     "name": "stdout",
     "output_type": "stream",
     "text": [
      "===posible caso: 62189 WMT\n",
      "===posible caso: 62305 WMT\n"
     ]
    },
    {
     "name": "stdout",
     "output_type": "stream",
     "text": [
      "===posible caso: 62352 WMT\n",
      "h1\n",
      "62352 WMT\n",
      "===posible caso: 62446 WMT\n",
      "===posible caso: 62525 WMT\n"
     ]
    },
    {
     "name": "stdout",
     "output_type": "stream",
     "text": [
      "===posible caso: 62550 WMT\n",
      "===posible caso: 62653 WMT\n"
     ]
    },
    {
     "name": "stdout",
     "output_type": "stream",
     "text": [
      "===posible caso: 62697 WMT\n",
      "h1\n",
      "62697 WMT\n",
      "===posible caso: 62746 WMT\n"
     ]
    },
    {
     "name": "stdout",
     "output_type": "stream",
     "text": [
      "===posible caso: 62807 WMT\n",
      "h1\n",
      "62807 WMT\n",
      "===posible caso: 62846 WMT\n"
     ]
    },
    {
     "name": "stdout",
     "output_type": "stream",
     "text": [
      "h2\n",
      "h4\n",
      "h1\n",
      "62846 WMT\n",
      "===posible caso: 62970 WMT\n",
      "h1\n",
      "62970 WMT\n",
      "===posible caso: 63020 WMT\n"
     ]
    },
    {
     "name": "stdout",
     "output_type": "stream",
     "text": [
      "h2\n",
      "h4\n",
      "h1\n",
      "63020 WMT\n",
      "===posible caso: 63041 WMT\n",
      "===posible caso: 63198 WMT\n"
     ]
    },
    {
     "name": "stdout",
     "output_type": "stream",
     "text": [
      "===posible caso: 63258 WMT\n",
      "h1\n",
      "63258 WMT\n",
      "===posible caso: 63293 WMT\n",
      "===posible caso: 63351 WMT\n"
     ]
    },
    {
     "name": "stdout",
     "output_type": "stream",
     "text": [
      "===posible caso: 63498 WMT\n",
      "h1\n",
      "63498 WMT\n",
      "===posible caso: 63533 WMT\n"
     ]
    },
    {
     "name": "stdout",
     "output_type": "stream",
     "text": [
      "h1\n",
      "63533 WMT\n",
      "===posible caso: 63661 BA\n",
      "===posible caso: 63690 BA\n",
      "===posible caso: 63710 BA\n"
     ]
    },
    {
     "name": "stdout",
     "output_type": "stream",
     "text": [
      "===posible caso: 63811 BA\n",
      "h1\n",
      "63811 BA\n",
      "===posible caso: 63858 BA\n"
     ]
    },
    {
     "name": "stdout",
     "output_type": "stream",
     "text": [
      "h1\n",
      "63858 BA\n",
      "===posible caso: 63957 BA\n",
      "===posible caso: 64159 BA\n",
      "===posible caso: 64195 BA\n",
      "h1\n",
      "64195 BA\n",
      "===posible caso: 64230 BA\n",
      "===posible caso: 64278 BA\n"
     ]
    },
    {
     "name": "stdout",
     "output_type": "stream",
     "text": [
      "===posible caso: 64334 BA\n",
      "===posible caso: 64410 BA\n"
     ]
    },
    {
     "name": "stdout",
     "output_type": "stream",
     "text": [
      "===posible caso: 64479 BA\n",
      "===posible caso: 64502 BA\n"
     ]
    },
    {
     "name": "stdout",
     "output_type": "stream",
     "text": [
      "h1\n",
      "64502 BA\n",
      "===posible caso: 64572 BA\n",
      "===posible caso: 64656 BA\n"
     ]
    },
    {
     "name": "stdout",
     "output_type": "stream",
     "text": [
      "h1\n",
      "64656 BA\n",
      "===posible caso: 64769 BA\n",
      "h1\n",
      "64769 BA\n",
      "===posible caso: 64908 BA\n",
      "===posible caso: 64948 BA\n"
     ]
    },
    {
     "name": "stdout",
     "output_type": "stream",
     "text": [
      "===posible caso: 64972 BA\n",
      "===posible caso: 65072 BA\n",
      "===posible caso: 65153 BA\n"
     ]
    },
    {
     "name": "stdout",
     "output_type": "stream",
     "text": [
      "===posible caso: 65221 BA\n",
      "===posible caso: 65309 BA\n"
     ]
    },
    {
     "name": "stdout",
     "output_type": "stream",
     "text": [
      "h1\n",
      "65309 BA\n",
      "===posible caso: 65417 BA\n",
      "===posible caso: 65439 BA\n"
     ]
    },
    {
     "name": "stdout",
     "output_type": "stream",
     "text": [
      "h1\n",
      "65439 BA\n",
      "===posible caso: 65461 BA\n",
      "h1\n",
      "65461 BA\n",
      "===posible caso: 65495 BA\n",
      "===posible caso: 65539 BA\n"
     ]
    },
    {
     "name": "stdout",
     "output_type": "stream",
     "text": [
      "===posible caso: 65561 BA\n",
      "h1\n",
      "65561 BA\n",
      "===posible caso: 65647 BA\n"
     ]
    },
    {
     "name": "stdout",
     "output_type": "stream",
     "text": [
      "===posible caso: 65747 BA\n",
      "===posible caso: 65821 BA\n",
      "===posible caso: 65846 BA\n",
      "===posible caso: 65957 BA\n"
     ]
    },
    {
     "name": "stdout",
     "output_type": "stream",
     "text": [
      "===posible caso: 66059 BA\n",
      "h1\n",
      "66059 BA\n",
      "===posible caso: 66157 BA\n"
     ]
    },
    {
     "name": "stdout",
     "output_type": "stream",
     "text": [
      "h1\n",
      "66157 BA\n",
      "===posible caso: 66272 BA\n",
      "===posible caso: 66324 BA\n",
      "===posible caso: 66411 BA\n"
     ]
    },
    {
     "name": "stdout",
     "output_type": "stream",
     "text": [
      "h1\n",
      "66411 BA\n",
      "===posible caso: 66467 BA\n",
      "h1\n",
      "66467 BA\n",
      "===posible caso: 66509 BA\n"
     ]
    },
    {
     "name": "stdout",
     "output_type": "stream",
     "text": [
      "===posible caso: 66541 BA\n",
      "h1\n",
      "66541 BA\n",
      "===posible caso: 66782 BA\n"
     ]
    },
    {
     "name": "stdout",
     "output_type": "stream",
     "text": [
      "h1\n",
      "66782 BA\n",
      "===posible caso: 66807 BA\n",
      "h2\n",
      "h4\n",
      "h1\n",
      "66807 BA\n",
      "===posible caso: 66845 BA\n"
     ]
    },
    {
     "name": "stdout",
     "output_type": "stream",
     "text": [
      "h1\n",
      "66845 BA\n",
      "===posible caso: 66876 BA\n",
      "===posible caso: 66938 BA\n"
     ]
    },
    {
     "name": "stdout",
     "output_type": "stream",
     "text": [
      "===posible caso: 66958 BA\n",
      "===posible caso: 66999 BA\n"
     ]
    },
    {
     "name": "stdout",
     "output_type": "stream",
     "text": [
      "===posible caso: 67023 BA\n",
      "h1\n",
      "67023 BA\n",
      "===posible caso: 67095 BA\n",
      "===posible caso: 67206 DIS\n"
     ]
    },
    {
     "name": "stdout",
     "output_type": "stream",
     "text": [
      "===posible caso: 67254 DIS\n",
      "===posible caso: 67299 DIS\n",
      "===posible caso: 67341 DIS\n"
     ]
    },
    {
     "name": "stdout",
     "output_type": "stream",
     "text": [
      "===posible caso: 67393 DIS\n",
      "===posible caso: 67564 DIS\n"
     ]
    },
    {
     "name": "stdout",
     "output_type": "stream",
     "text": [
      "===posible caso: 67595 DIS\n",
      "h1\n",
      "67595 DIS\n",
      "===posible caso: 67647 DIS\n"
     ]
    },
    {
     "name": "stdout",
     "output_type": "stream",
     "text": [
      "h1\n",
      "67647 DIS\n",
      "===posible caso: 67688 DIS\n",
      "h1\n",
      "67688 DIS\n",
      "===posible caso: 67720 DIS\n",
      "===posible caso: 67813 DIS\n"
     ]
    },
    {
     "name": "stdout",
     "output_type": "stream",
     "text": [
      "===posible caso: 67839 DIS\n",
      "h2\n",
      "h4\n",
      "h1\n",
      "67839 DIS\n",
      "===posible caso: 67907 DIS\n"
     ]
    },
    {
     "name": "stdout",
     "output_type": "stream",
     "text": [
      "===posible caso: 68029 DIS\n",
      "h1\n",
      "68029 DIS\n",
      "===posible caso: 68089 DIS\n",
      "===posible caso: 68111 DIS\n"
     ]
    },
    {
     "name": "stdout",
     "output_type": "stream",
     "text": [
      "===posible caso: 68147 DIS\n",
      "===posible caso: 68174 DIS\n",
      "h1\n",
      "68174 DIS\n",
      "===posible caso: 68210 DIS\n"
     ]
    },
    {
     "name": "stdout",
     "output_type": "stream",
     "text": [
      "===posible caso: 68263 DIS\n",
      "===posible caso: 68301 DIS\n"
     ]
    },
    {
     "name": "stdout",
     "output_type": "stream",
     "text": [
      "===posible caso: 68382 DIS\n",
      "===posible caso: 68421 DIS\n",
      "===posible caso: 68499 DIS\n"
     ]
    },
    {
     "name": "stdout",
     "output_type": "stream",
     "text": [
      "h1\n",
      "68499 DIS\n",
      "===posible caso: 68517 DIS\n",
      "h1\n",
      "68517 DIS\n",
      "===posible caso: 68684 DIS\n"
     ]
    },
    {
     "name": "stdout",
     "output_type": "stream",
     "text": [
      "h1\n",
      "68684 DIS\n",
      "===posible caso: 68787 DIS\n",
      "===posible caso: 68812 DIS\n",
      "===posible caso: 68912 DIS\n"
     ]
    },
    {
     "name": "stdout",
     "output_type": "stream",
     "text": [
      "h1\n",
      "68912 DIS\n",
      "===posible caso: 68962 DIS\n",
      "===posible caso: 69017 DIS\n"
     ]
    },
    {
     "name": "stdout",
     "output_type": "stream",
     "text": [
      "===posible caso: 69090 DIS\n",
      "===posible caso: 69122 DIS\n",
      "===posible caso: 69144 DIS\n",
      "===posible caso: 69185 DIS\n"
     ]
    },
    {
     "name": "stdout",
     "output_type": "stream",
     "text": [
      "h1\n",
      "69185 DIS\n",
      "===posible caso: 69221 DIS\n",
      "h1\n",
      "69221 DIS\n",
      "===posible caso: 69334 DIS\n"
     ]
    },
    {
     "name": "stdout",
     "output_type": "stream",
     "text": [
      "h1\n",
      "69334 DIS\n",
      "===posible caso: 69377 DIS\n",
      "===posible caso: 69484 DIS\n",
      "===posible caso: 69627 DIS\n"
     ]
    },
    {
     "name": "stdout",
     "output_type": "stream",
     "text": [
      "===posible caso: 69680 DIS\n",
      "===posible caso: 69716 DIS\n"
     ]
    },
    {
     "name": "stdout",
     "output_type": "stream",
     "text": [
      "===posible caso: 69749 DIS\n",
      "===posible caso: 69771 DIS\n",
      "===posible caso: 69846 DIS\n",
      "h1\n",
      "69846 DIS\n",
      "===posible caso: 69886 DIS\n",
      "===posible caso: 69951 DIS\n"
     ]
    },
    {
     "name": "stdout",
     "output_type": "stream",
     "text": [
      "===posible caso: 70048 DIS\n",
      "===posible caso: 70103 DIS\n"
     ]
    },
    {
     "name": "stdout",
     "output_type": "stream",
     "text": [
      "===posible caso: 70188 DIS\n",
      "===posible caso: 70221 DIS\n",
      "===posible caso: 70387 DIS\n",
      "h1\n",
      "70387 DIS\n",
      "===posible caso: 70408 DIS\n"
     ]
    },
    {
     "name": "stdout",
     "output_type": "stream",
     "text": [
      "===posible caso: 70480 DIS\n",
      "===posible caso: 70553 DIS\n"
     ]
    },
    {
     "name": "stdout",
     "output_type": "stream",
     "text": [
      "h1\n",
      "70553 DIS\n",
      "===posible caso: 70580 DIS\n",
      "===posible caso: 70737 CAT\n"
     ]
    },
    {
     "name": "stdout",
     "output_type": "stream",
     "text": [
      "===posible caso: 70773 CAT\n",
      "===posible caso: 70806 CAT\n",
      "h1\n",
      "70806 CAT\n",
      "===posible caso: 70878 CAT\n"
     ]
    },
    {
     "name": "stdout",
     "output_type": "stream",
     "text": [
      "===posible caso: 71038 CAT\n",
      "===posible caso: 71074 CAT\n"
     ]
    },
    {
     "name": "stdout",
     "output_type": "stream",
     "text": [
      "===posible caso: 71116 CAT\n",
      "===posible caso: 71216 CAT\n",
      "===posible caso: 71415 CAT\n",
      "===posible caso: 71474 CAT\n"
     ]
    },
    {
     "name": "stdout",
     "output_type": "stream",
     "text": [
      "===posible caso: 71562 CAT\n",
      "h1\n",
      "71562 CAT\n",
      "===posible caso: 71588 CAT\n"
     ]
    },
    {
     "name": "stdout",
     "output_type": "stream",
     "text": [
      "===posible caso: 71657 CAT\n",
      "h1\n",
      "71657 CAT\n",
      "===posible caso: 71784 CAT\n"
     ]
    },
    {
     "name": "stdout",
     "output_type": "stream",
     "text": [
      "===posible caso: 71906 CAT\n",
      "h1\n",
      "71906 CAT\n",
      "===posible caso: 71931 CAT\n"
     ]
    },
    {
     "name": "stdout",
     "output_type": "stream",
     "text": [
      "===posible caso: 72000 CAT\n",
      "===posible caso: 72034 CAT\n",
      "===posible caso: 72059 CAT\n"
     ]
    },
    {
     "name": "stdout",
     "output_type": "stream",
     "text": [
      "h2\n",
      "h4\n",
      "h1\n",
      "72059 CAT\n",
      "===posible caso: 72128 CAT\n",
      "===posible caso: 72155 CAT\n",
      "===posible caso: 72179 CAT\n",
      "===posible caso: 72262 CAT\n"
     ]
    },
    {
     "name": "stdout",
     "output_type": "stream",
     "text": [
      "===posible caso: 72372 CAT\n",
      "===posible caso: 72393 CAT\n",
      "===posible caso: 72443 CAT\n"
     ]
    },
    {
     "name": "stdout",
     "output_type": "stream",
     "text": [
      "===posible caso: 72476 CAT\n",
      "===posible caso: 72493 CAT\n",
      "===posible caso: 72557 CAT\n"
     ]
    },
    {
     "name": "stdout",
     "output_type": "stream",
     "text": [
      "h1\n",
      "72557 CAT\n",
      "===posible caso: 72622 CAT\n",
      "===posible caso: 72699 CAT\n"
     ]
    },
    {
     "name": "stdout",
     "output_type": "stream",
     "text": [
      "===posible caso: 72746 CAT\n",
      "h1\n",
      "72746 CAT\n",
      "===posible caso: 72780 CAT\n"
     ]
    },
    {
     "name": "stdout",
     "output_type": "stream",
     "text": [
      "===posible caso: 72812 CAT\n",
      "===posible caso: 72868 CAT\n",
      "===posible caso: 72908 CAT\n"
     ]
    },
    {
     "name": "stdout",
     "output_type": "stream",
     "text": [
      "h1\n",
      "72908 CAT\n",
      "===posible caso: 72925 CAT\n",
      "===posible caso: 72950 CAT\n"
     ]
    },
    {
     "name": "stdout",
     "output_type": "stream",
     "text": [
      "===posible caso: 73008 CAT\n",
      "===posible caso: 73106 CAT\n",
      "===posible caso: 73216 CAT\n"
     ]
    },
    {
     "name": "stdout",
     "output_type": "stream",
     "text": [
      "===posible caso: 73339 CAT\n",
      "===posible caso: 73461 CAT\n"
     ]
    },
    {
     "name": "stdout",
     "output_type": "stream",
     "text": [
      "h1\n",
      "73461 CAT\n",
      "===posible caso: 73613 CAT\n",
      "===posible caso: 73667 CAT\n",
      "===posible caso: 73753 CAT\n",
      "===posible caso: 73791 CAT\n",
      "===posible caso: 73844 CAT\n"
     ]
    },
    {
     "name": "stdout",
     "output_type": "stream",
     "text": [
      "h1\n",
      "73844 CAT\n",
      "===posible caso: 73907 CAT\n",
      "===posible caso: 73944 CAT\n"
     ]
    },
    {
     "name": "stdout",
     "output_type": "stream",
     "text": [
      "h1\n",
      "73944 CAT\n",
      "===posible caso: 73986 CAT\n",
      "h1\n",
      "73986 CAT\n",
      "===posible caso: 74010 CAT\n"
     ]
    },
    {
     "name": "stdout",
     "output_type": "stream",
     "text": [
      "===posible caso: 74069 CAT\n",
      "===posible caso: 74126 CAT\n",
      "===posible caso: 74152 CAT\n"
     ]
    },
    {
     "name": "stdout",
     "output_type": "stream",
     "text": [
      "===posible caso: 74172 CAT\n",
      "===posible caso: 74274 IBM\n"
     ]
    },
    {
     "name": "stdout",
     "output_type": "stream",
     "text": [
      "===posible caso: 74312 IBM\n",
      "===posible caso: 74432 IBM\n",
      "===posible caso: 74485 IBM\n",
      "===posible caso: 74571 IBM\n"
     ]
    },
    {
     "name": "stdout",
     "output_type": "stream",
     "text": [
      "h1\n",
      "74571 IBM\n",
      "===posible caso: 74591 IBM\n",
      "===posible caso: 74745 IBM\n"
     ]
    },
    {
     "name": "stdout",
     "output_type": "stream",
     "text": [
      "h1\n",
      "74745 IBM\n",
      "===posible caso: 74781 IBM\n",
      "===posible caso: 74833 IBM\n",
      "===posible caso: 74877 IBM\n"
     ]
    },
    {
     "name": "stdout",
     "output_type": "stream",
     "text": [
      "===posible caso: 75006 IBM\n",
      "===posible caso: 75049 IBM\n"
     ]
    },
    {
     "name": "stdout",
     "output_type": "stream",
     "text": [
      "===posible caso: 75130 IBM\n",
      "h1\n",
      "75130 IBM\n",
      "===posible caso: 75252 IBM\n"
     ]
    },
    {
     "name": "stdout",
     "output_type": "stream",
     "text": [
      "===posible caso: 75278 IBM\n",
      "===posible caso: 75450 IBM\n"
     ]
    },
    {
     "name": "stdout",
     "output_type": "stream",
     "text": [
      "===posible caso: 75648 IBM\n",
      "===posible caso: 75760 IBM\n",
      "===posible caso: 75827 IBM\n"
     ]
    },
    {
     "name": "stdout",
     "output_type": "stream",
     "text": [
      "===posible caso: 75905 IBM\n",
      "h1\n",
      "75905 IBM\n",
      "===posible caso: 75972 IBM\n"
     ]
    },
    {
     "name": "stdout",
     "output_type": "stream",
     "text": [
      "===posible caso: 76018 IBM\n",
      "===posible caso: 76087 IBM\n",
      "===posible caso: 76125 IBM\n",
      "===posible caso: 76152 IBM\n"
     ]
    },
    {
     "name": "stdout",
     "output_type": "stream",
     "text": [
      "h1\n",
      "76152 IBM\n",
      "===posible caso: 76198 IBM\n",
      "===posible caso: 76324 IBM\n",
      "===posible caso: 76376 IBM\n"
     ]
    },
    {
     "name": "stdout",
     "output_type": "stream",
     "text": [
      "===posible caso: 76437 IBM\n",
      "h1\n",
      "76437 IBM\n",
      "===posible caso: 76498 IBM\n"
     ]
    },
    {
     "name": "stdout",
     "output_type": "stream",
     "text": [
      "h1\n",
      "76498 IBM\n",
      "===posible caso: 76521 IBM\n",
      "h1\n",
      "76521 IBM\n",
      "===posible caso: 76563 IBM\n"
     ]
    },
    {
     "name": "stdout",
     "output_type": "stream",
     "text": [
      "===posible caso: 76615 IBM\n",
      "===posible caso: 76648 IBM\n",
      "h1\n",
      "76648 IBM\n",
      "===posible caso: 76737 IBM\n"
     ]
    },
    {
     "name": "stdout",
     "output_type": "stream",
     "text": [
      "h1\n",
      "76737 IBM\n",
      "===posible caso: 76778 IBM\n",
      "===posible caso: 76807 IBM\n"
     ]
    },
    {
     "name": "stdout",
     "output_type": "stream",
     "text": [
      "h1\n",
      "76807 IBM\n",
      "===posible caso: 76848 IBM\n",
      "===posible caso: 76913 IBM\n",
      "h1\n",
      "76913 IBM\n",
      "===posible caso: 76968 IBM\n"
     ]
    },
    {
     "name": "stdout",
     "output_type": "stream",
     "text": [
      "===posible caso: 76989 IBM\n",
      "h1\n",
      "76989 IBM\n",
      "===posible caso: 77017 IBM\n"
     ]
    },
    {
     "name": "stdout",
     "output_type": "stream",
     "text": [
      "===posible caso: 77044 IBM\n",
      "h1\n",
      "77044 IBM\n",
      "===posible caso: 77120 IBM\n"
     ]
    },
    {
     "name": "stdout",
     "output_type": "stream",
     "text": [
      "===posible caso: 77176 IBM\n",
      "h1\n",
      "77176 IBM\n",
      "===posible caso: 77199 IBM\n"
     ]
    },
    {
     "name": "stdout",
     "output_type": "stream",
     "text": [
      "h1\n",
      "77199 IBM\n",
      "===posible caso: 77283 IBM\n",
      "===posible caso: 77389 IBM\n",
      "===posible caso: 77496 IBM\n"
     ]
    },
    {
     "name": "stdout",
     "output_type": "stream",
     "text": [
      "h1\n",
      "77496 IBM\n",
      "===posible caso: 77545 IBM\n",
      "===posible caso: 77624 IBM\n",
      "===posible caso: 77656 IBM\n"
     ]
    },
    {
     "name": "stdout",
     "output_type": "stream",
     "text": [
      "===posible caso: 77703 IBM\n",
      "===posible caso: 77803 WFC\n"
     ]
    },
    {
     "name": "stdout",
     "output_type": "stream",
     "text": [
      "h1\n",
      "77803 WFC\n",
      "===posible caso: 77881 WFC\n",
      "h1\n",
      "77881 WFC\n",
      "===posible caso: 78177 WFC\n"
     ]
    },
    {
     "name": "stdout",
     "output_type": "stream",
     "text": [
      "h1\n",
      "78177 WFC\n",
      "===posible caso: 78226 WFC\n",
      "===posible caso: 78274 WFC\n",
      "h2\n",
      "h4\n",
      "h1\n",
      "78274 WFC\n",
      "===posible caso: 78311 WFC\n"
     ]
    },
    {
     "name": "stdout",
     "output_type": "stream",
     "text": [
      "h1\n",
      "78311 WFC\n",
      "===posible caso: 78362 WFC\n",
      "===posible caso: 78404 WFC\n",
      "h1\n",
      "78404 WFC\n",
      "===posible caso: 78476 WFC\n"
     ]
    },
    {
     "name": "stdout",
     "output_type": "stream",
     "text": [
      "===posible caso: 78539 WFC\n",
      "h1\n",
      "78539 WFC\n",
      "===posible caso: 78601 WFC\n"
     ]
    },
    {
     "name": "stdout",
     "output_type": "stream",
     "text": [
      "===posible caso: 78891 WFC\n",
      "===posible caso: 78984 WFC\n"
     ]
    },
    {
     "name": "stdout",
     "output_type": "stream",
     "text": [
      "===posible caso: 79012 WFC\n",
      "===posible caso: 79117 WFC\n",
      "===posible caso: 79209 WFC\n"
     ]
    },
    {
     "name": "stdout",
     "output_type": "stream",
     "text": [
      "h1\n",
      "79209 WFC\n",
      "===posible caso: 79326 WFC\n",
      "h1\n",
      "79326 WFC\n",
      "===posible caso: 79403 WFC\n"
     ]
    },
    {
     "name": "stdout",
     "output_type": "stream",
     "text": [
      "===posible caso: 79502 WFC\n",
      "===posible caso: 79550 WFC\n"
     ]
    },
    {
     "name": "stdout",
     "output_type": "stream",
     "text": [
      "h1\n",
      "79550 WFC\n",
      "===posible caso: 79586 WFC\n",
      "===posible caso: 79615 WFC\n",
      "===posible caso: 79652 WFC\n",
      "===posible caso: 79673 WFC\n"
     ]
    },
    {
     "name": "stdout",
     "output_type": "stream",
     "text": [
      "===posible caso: 79722 WFC\n",
      "===posible caso: 79778 WFC\n"
     ]
    },
    {
     "name": "stdout",
     "output_type": "stream",
     "text": [
      "===posible caso: 79800 WFC\n",
      "===posible caso: 79844 WFC\n"
     ]
    },
    {
     "name": "stdout",
     "output_type": "stream",
     "text": [
      "===posible caso: 79938 WFC\n",
      "h1\n",
      "79938 WFC\n",
      "===posible caso: 79980 WFC\n"
     ]
    },
    {
     "name": "stdout",
     "output_type": "stream",
     "text": [
      "===posible caso: 80068 WFC\n",
      "===posible caso: 80128 WFC\n"
     ]
    },
    {
     "name": "stdout",
     "output_type": "stream",
     "text": [
      "===posible caso: 80199 WFC\n",
      "h1\n",
      "80199 WFC\n",
      "===posible caso: 80221 WFC\n"
     ]
    },
    {
     "name": "stdout",
     "output_type": "stream",
     "text": [
      "h1\n",
      "80221 WFC\n",
      "===posible caso: 80265 WFC\n",
      "h1\n",
      "80265 WFC\n",
      "===posible caso: 80353 WFC\n",
      "===posible caso: 80399 WFC\n"
     ]
    },
    {
     "name": "stdout",
     "output_type": "stream",
     "text": [
      "===posible caso: 80437 WFC\n",
      "===posible caso: 80499 WFC\n"
     ]
    },
    {
     "name": "stdout",
     "output_type": "stream",
     "text": [
      "===posible caso: 80588 WFC\n",
      "===posible caso: 80636 WFC\n"
     ]
    },
    {
     "name": "stdout",
     "output_type": "stream",
     "text": [
      "===posible caso: 80694 WFC\n",
      "===posible caso: 80813 WFC\n"
     ]
    },
    {
     "name": "stdout",
     "output_type": "stream",
     "text": [
      "h1\n",
      "80813 WFC\n",
      "===posible caso: 80887 WFC\n",
      "h1\n",
      "80887 WFC\n",
      "===posible caso: 81004 WFC\n"
     ]
    },
    {
     "name": "stdout",
     "output_type": "stream",
     "text": [
      "h1\n",
      "81004 WFC\n",
      "===posible caso: 81149 WFC\n",
      "===posible caso: 81332 PLTR\n"
     ]
    },
    {
     "name": "stdout",
     "output_type": "stream",
     "text": [
      "===posible caso: 81397 PLTR\n",
      "===posible caso: 81464 PLTR\n"
     ]
    },
    {
     "name": "stdout",
     "output_type": "stream",
     "text": [
      "===posible caso: 81529 PLTR\n",
      "===posible caso: 81613 PLTR\n",
      "===posible caso: 81632 PLTR\n"
     ]
    },
    {
     "name": "stdout",
     "output_type": "stream",
     "text": [
      "h1\n",
      "81632 PLTR\n",
      "===posible caso: 81657 PLTR\n",
      "===posible caso: 81683 PLTR\n"
     ]
    },
    {
     "name": "stdout",
     "output_type": "stream",
     "text": [
      "h1\n",
      "81683 PLTR\n",
      "===posible caso: 81756 PLTR\n",
      "===posible caso: 81803 PLTR\n",
      "h1\n",
      "81803 PLTR\n",
      "===posible caso: 81819 PLTR\n"
     ]
    },
    {
     "name": "stdout",
     "output_type": "stream",
     "text": [
      "===posible caso: 81943 PLTR\n",
      "h1\n",
      "81943 PLTR\n",
      "===posible caso: 82010 PLTR\n"
     ]
    },
    {
     "name": "stdout",
     "output_type": "stream",
     "text": [
      "h1\n",
      "82010 PLTR\n",
      "===posible caso: 82064 PLTR\n",
      "===posible caso: 82128 PLTR\n"
     ]
    },
    {
     "name": "stdout",
     "output_type": "stream",
     "text": [
      "h1\n",
      "82128 PLTR\n",
      "===posible caso: 82244 PLTR\n",
      "===posible caso: 82395 PLTR\n",
      "===posible caso: 82421 PLTR\n"
     ]
    },
    {
     "name": "stdout",
     "output_type": "stream",
     "text": [
      "===posible caso: 82484 PLTR\n",
      "===posible caso: 82520 PLTR\n",
      "===posible caso: 82606 PLTR\n"
     ]
    },
    {
     "name": "stdout",
     "output_type": "stream",
     "text": [
      "h1\n",
      "82606 PLTR\n",
      "===posible caso: 82688 PLTR\n",
      "===posible caso: 82737 PLTR\n",
      "===posible caso: 82765 PLTR\n"
     ]
    },
    {
     "name": "stdout",
     "output_type": "stream",
     "text": [
      "===posible caso: 82806 PLTR\n",
      "===posible caso: 82864 PLTR\n"
     ]
    },
    {
     "name": "stdout",
     "output_type": "stream",
     "text": [
      "h1\n",
      "82864 PLTR\n",
      "===posible caso: 82922 PLTR\n",
      "===posible caso: 82983 PLTR\n",
      "h1\n",
      "82983 PLTR\n",
      "===posible caso: 83017 PLTR\n"
     ]
    },
    {
     "name": "stdout",
     "output_type": "stream",
     "text": [
      "h1\n",
      "83017 PLTR\n",
      "===posible caso: 83126 PLTR\n",
      "===posible caso: 83146 PLTR\n"
     ]
    },
    {
     "name": "stdout",
     "output_type": "stream",
     "text": [
      "===posible caso: 83195 PLTR\n",
      "===posible caso: 83295 PLTR\n"
     ]
    },
    {
     "name": "stdout",
     "output_type": "stream",
     "text": [
      "===posible caso: 83321 PLTR\n",
      "h1\n",
      "83321 PLTR\n",
      "===posible caso: 83472 PLTR\n"
     ]
    },
    {
     "name": "stdout",
     "output_type": "stream",
     "text": [
      "h1\n",
      "83472 PLTR\n",
      "===posible caso: 83490 PLTR\n",
      "===posible caso: 83573 PLTR\n"
     ]
    },
    {
     "name": "stdout",
     "output_type": "stream",
     "text": [
      "===posible caso: 83636 PLTR\n",
      "===posible caso: 83747 PLTR\n"
     ]
    },
    {
     "name": "stdout",
     "output_type": "stream",
     "text": [
      "===posible caso: 83839 PLTR\n",
      "h1\n",
      "83839 PLTR\n",
      "===posible caso: 83919 PLTR\n"
     ]
    },
    {
     "name": "stdout",
     "output_type": "stream",
     "text": [
      "===posible caso: 84048 PLTR\n",
      "h1\n",
      "84048 PLTR\n",
      "===posible caso: 84168 PLTR\n"
     ]
    },
    {
     "name": "stdout",
     "output_type": "stream",
     "text": [
      "h1\n",
      "84168 PLTR\n",
      "===posible caso: 84298 PLTR\n",
      "===posible caso: 84334 PLTR\n"
     ]
    },
    {
     "name": "stdout",
     "output_type": "stream",
     "text": [
      "===posible caso: 84379 PLTR\n",
      "===posible caso: 84445 PLTR\n"
     ]
    },
    {
     "name": "stdout",
     "output_type": "stream",
     "text": [
      "===posible caso: 84533 PLTR\n",
      "h1\n",
      "84533 PLTR\n",
      "===posible caso: 84576 PLTR\n"
     ]
    },
    {
     "name": "stdout",
     "output_type": "stream",
     "text": [
      "===posible caso: 84676 PLTR\n",
      "===posible caso: 84700 PLTR\n"
     ]
    },
    {
     "name": "stdout",
     "output_type": "stream",
     "text": [
      "h1\n",
      "84700 PLTR\n",
      "===posible caso: 84763 PLTR\n",
      "===posible caso: 84858 AMD\n"
     ]
    },
    {
     "name": "stdout",
     "output_type": "stream",
     "text": [
      "===posible caso: 84875 AMD\n",
      "h1\n",
      "84875 AMD\n",
      "===posible caso: 84907 AMD\n",
      "===posible caso: 84996 AMD\n"
     ]
    },
    {
     "name": "stdout",
     "output_type": "stream",
     "text": [
      "h1\n",
      "84996 AMD\n",
      "===posible caso: 85108 AMD\n",
      "===posible caso: 85163 AMD\n",
      "===posible caso: 85280 AMD\n",
      "===posible caso: 85349 AMD\n"
     ]
    },
    {
     "name": "stdout",
     "output_type": "stream",
     "text": [
      "h1\n",
      "85349 AMD\n",
      "===posible caso: 85510 AMD\n",
      "h1\n",
      "85510 AMD\n",
      "===posible caso: 85553 AMD\n"
     ]
    },
    {
     "name": "stdout",
     "output_type": "stream",
     "text": [
      "===posible caso: 85575 AMD\n",
      "h1\n",
      "85575 AMD\n",
      "===posible caso: 85652 AMD\n"
     ]
    },
    {
     "name": "stdout",
     "output_type": "stream",
     "text": [
      "h1\n",
      "85652 AMD\n",
      "===posible caso: 85673 AMD\n",
      "===posible caso: 85722 AMD\n"
     ]
    },
    {
     "name": "stdout",
     "output_type": "stream",
     "text": [
      "h1\n",
      "85722 AMD\n",
      "===posible caso: 85770 AMD\n",
      "===posible caso: 85841 AMD\n",
      "h1\n",
      "85841 AMD\n",
      "===posible caso: 85945 AMD\n"
     ]
    },
    {
     "name": "stdout",
     "output_type": "stream",
     "text": [
      "h1\n",
      "85945 AMD\n",
      "===posible caso: 86051 AMD\n",
      "h1\n",
      "86051 AMD\n",
      "===posible caso: 86160 AMD\n"
     ]
    },
    {
     "name": "stdout",
     "output_type": "stream",
     "text": [
      "h1\n",
      "86160 AMD\n",
      "===posible caso: 86204 AMD\n",
      "===posible caso: 86234 AMD\n",
      "===posible caso: 86299 AMD\n"
     ]
    },
    {
     "name": "stdout",
     "output_type": "stream",
     "text": [
      "===posible caso: 86395 AMD\n",
      "===posible caso: 86416 AMD\n"
     ]
    },
    {
     "name": "stdout",
     "output_type": "stream",
     "text": [
      "h1\n",
      "86416 AMD\n",
      "===posible caso: 86439 AMD\n",
      "h1\n",
      "86439 AMD\n",
      "===posible caso: 86495 AMD\n",
      "===posible caso: 86635 AMD\n"
     ]
    },
    {
     "name": "stdout",
     "output_type": "stream",
     "text": [
      "===posible caso: 86653 AMD\n",
      "h1\n",
      "86653 AMD\n",
      "===posible caso: 86699 AMD\n",
      "===posible caso: 86763 AMD\n",
      "===posible caso: 86838 AMD\n"
     ]
    },
    {
     "name": "stdout",
     "output_type": "stream",
     "text": [
      "===posible caso: 86900 AMD\n",
      "===posible caso: 86988 AMD\n",
      "===posible caso: 87025 AMD\n"
     ]
    },
    {
     "name": "stdout",
     "output_type": "stream",
     "text": [
      "h1\n",
      "87025 AMD\n",
      "===posible caso: 87081 AMD\n",
      "h1\n",
      "87081 AMD\n",
      "===posible caso: 87128 AMD\n",
      "===posible caso: 87145 AMD\n"
     ]
    },
    {
     "name": "stdout",
     "output_type": "stream",
     "text": [
      "===posible caso: 87186 AMD\n",
      "===posible caso: 87237 AMD\n",
      "===posible caso: 87282 AMD\n"
     ]
    },
    {
     "name": "stdout",
     "output_type": "stream",
     "text": [
      "===posible caso: 87358 AMD\n",
      "===posible caso: 87424 AMD\n",
      "===posible caso: 87498 AMD\n"
     ]
    },
    {
     "name": "stdout",
     "output_type": "stream",
     "text": [
      "===posible caso: 87566 AMD\n",
      "===posible caso: 87699 AMD\n"
     ]
    },
    {
     "name": "stdout",
     "output_type": "stream",
     "text": [
      "===posible caso: 87766 AMD\n",
      "===posible caso: 87872 AMD\n",
      "h1\n",
      "87872 AMD\n",
      "===posible caso: 87910 AMD\n",
      "===posible caso: 87973 AMD\n"
     ]
    },
    {
     "name": "stdout",
     "output_type": "stream",
     "text": [
      "h1\n",
      "87973 AMD\n",
      "===posible caso: 88023 AMD\n",
      "===posible caso: 88066 AMD\n",
      "h1\n",
      "88066 AMD\n",
      "===posible caso: 88111 AMD\n"
     ]
    },
    {
     "name": "stdout",
     "output_type": "stream",
     "text": [
      "===posible caso: 88147 AMD\n",
      "===posible caso: 88225 AMD\n",
      "===posible caso: 88293 AMD\n"
     ]
    },
    {
     "name": "stdout",
     "output_type": "stream",
     "text": [
      "===posible caso: 88389 AVGO\n",
      "h1\n",
      "88389 AVGO\n",
      "===posible caso: 88450 AVGO\n"
     ]
    },
    {
     "name": "stdout",
     "output_type": "stream",
     "text": [
      "h1\n",
      "88450 AVGO\n",
      "===posible caso: 88491 AVGO\n",
      "===posible caso: 88528 AVGO\n",
      "===posible caso: 88556 AVGO\n",
      "===posible caso: 88591 AVGO\n",
      "h1\n",
      "88591 AVGO\n",
      "===posible caso: 88639 AVGO\n"
     ]
    },
    {
     "name": "stdout",
     "output_type": "stream",
     "text": [
      "===posible caso: 88682 AVGO\n",
      "===posible caso: 88790 AVGO\n"
     ]
    },
    {
     "name": "stdout",
     "output_type": "stream",
     "text": [
      "h1\n",
      "88790 AVGO\n",
      "===posible caso: 88881 AVGO\n",
      "===posible caso: 89048 AVGO\n"
     ]
    },
    {
     "name": "stdout",
     "output_type": "stream",
     "text": [
      "h1\n",
      "89048 AVGO\n",
      "===posible caso: 89073 AVGO\n",
      "===posible caso: 89191 AVGO\n"
     ]
    },
    {
     "name": "stdout",
     "output_type": "stream",
     "text": [
      "===posible caso: 89368 AVGO\n",
      "h1\n",
      "89368 AVGO\n",
      "===posible caso: 89444 AVGO\n"
     ]
    },
    {
     "name": "stdout",
     "output_type": "stream",
     "text": [
      "===posible caso: 89481 AVGO\n",
      "h1\n",
      "89481 AVGO\n",
      "===posible caso: 89521 AVGO\n"
     ]
    },
    {
     "name": "stdout",
     "output_type": "stream",
     "text": [
      "h1\n",
      "89521 AVGO\n",
      "===posible caso: 89554 AVGO\n",
      "===posible caso: 89647 AVGO\n",
      "===posible caso: 89708 AVGO\n",
      "===posible caso: 89823 AVGO\n",
      "===posible caso: 89919 AVGO\n"
     ]
    },
    {
     "name": "stdout",
     "output_type": "stream",
     "text": [
      "h1\n",
      "89919 AVGO\n",
      "===posible caso: 89973 AVGO\n",
      "===posible caso: 90070 AVGO\n",
      "===posible caso: 90171 AVGO\n"
     ]
    },
    {
     "name": "stdout",
     "output_type": "stream",
     "text": [
      "h1\n",
      "90171 AVGO\n",
      "===posible caso: 90188 AVGO\n",
      "h1\n",
      "90188 AVGO\n",
      "===posible caso: 90383 AVGO\n"
     ]
    },
    {
     "name": "stdout",
     "output_type": "stream",
     "text": [
      "===posible caso: 90494 AVGO\n",
      "===posible caso: 90551 AVGO\n"
     ]
    },
    {
     "name": "stdout",
     "output_type": "stream",
     "text": [
      "h1\n",
      "90551 AVGO\n",
      "===posible caso: 90618 AVGO\n",
      "===posible caso: 90772 AVGO\n"
     ]
    },
    {
     "name": "stdout",
     "output_type": "stream",
     "text": [
      "===posible caso: 90832 AVGO\n",
      "===posible caso: 90900 AVGO\n",
      "===posible caso: 90943 AVGO\n"
     ]
    },
    {
     "name": "stdout",
     "output_type": "stream",
     "text": [
      "===posible caso: 90986 AVGO\n",
      "===posible caso: 91098 AVGO\n"
     ]
    },
    {
     "name": "stdout",
     "output_type": "stream",
     "text": [
      "h1\n",
      "91098 AVGO\n",
      "===posible caso: 91169 AVGO\n",
      "===posible caso: 91198 AVGO\n"
     ]
    },
    {
     "name": "stdout",
     "output_type": "stream",
     "text": [
      "h1\n",
      "91198 AVGO\n",
      "===posible caso: 91336 AVGO\n",
      "===posible caso: 91360 AVGO\n",
      "h1\n",
      "91360 AVGO\n",
      "===posible caso: 91480 AVGO\n",
      "===posible caso: 91554 AVGO\n",
      "===posible caso: 91590 AVGO\n"
     ]
    },
    {
     "name": "stdout",
     "output_type": "stream",
     "text": [
      "h1\n",
      "91590 AVGO\n",
      "===posible caso: 91652 AVGO\n",
      "===posible caso: 91758 AVGO\n"
     ]
    },
    {
     "name": "stdout",
     "output_type": "stream",
     "text": [
      "h1\n",
      "91758 AVGO\n",
      "===posible caso: 91896 HOOD\n",
      "===posible caso: 91991 HOOD\n",
      "===posible caso: 92214 HOOD\n"
     ]
    },
    {
     "name": "stdout",
     "output_type": "stream",
     "text": [
      "===posible caso: 92259 HOOD\n",
      "===posible caso: 92342 HOOD\n",
      "===posible caso: 92396 HOOD\n",
      "===posible caso: 92537 HOOD\n"
     ]
    },
    {
     "name": "stdout",
     "output_type": "stream",
     "text": [
      "===posible caso: 92572 HOOD\n",
      "===posible caso: 92602 HOOD\n",
      "h2\n",
      "h4\n",
      "h2\n",
      "h4\n",
      "h1\n",
      "92602 HOOD\n"
     ]
    },
    {
     "name": "stdout",
     "output_type": "stream",
     "text": [
      "===posible caso: 92692 HOOD\n",
      "===posible caso: 92716 HOOD\n"
     ]
    },
    {
     "name": "stdout",
     "output_type": "stream",
     "text": [
      "===posible caso: 92744 HOOD\n",
      "===posible caso: 92772 HOOD\n"
     ]
    },
    {
     "name": "stdout",
     "output_type": "stream",
     "text": [
      "h1\n",
      "92772 HOOD\n",
      "===posible caso: 93016 HOOD\n",
      "===posible caso: 93085 HOOD\n"
     ]
    },
    {
     "name": "stdout",
     "output_type": "stream",
     "text": [
      "===posible caso: 93142 HOOD\n",
      "h1\n",
      "93142 HOOD\n",
      "===posible caso: 93211 HOOD\n"
     ]
    },
    {
     "name": "stdout",
     "output_type": "stream",
     "text": [
      "===posible caso: 93358 HOOD\n",
      "===posible caso: 93393 HOOD\n",
      "===posible caso: 93472 HOOD\n"
     ]
    },
    {
     "name": "stdout",
     "output_type": "stream",
     "text": [
      "h1\n",
      "93472 HOOD\n",
      "===posible caso: 93517 HOOD\n",
      "===posible caso: 93579 HOOD\n",
      "h1\n",
      "93579 HOOD\n",
      "===posible caso: 93663 HOOD\n"
     ]
    },
    {
     "name": "stdout",
     "output_type": "stream",
     "text": [
      "===posible caso: 93731 HOOD\n",
      "h1\n",
      "93731 HOOD\n",
      "===posible caso: 93899 HOOD\n"
     ]
    },
    {
     "name": "stdout",
     "output_type": "stream",
     "text": [
      "h1\n",
      "93899 HOOD\n",
      "===posible caso: 93939 HOOD\n",
      "h1\n",
      "93939 HOOD\n",
      "===posible caso: 94047 HOOD\n"
     ]
    },
    {
     "name": "stdout",
     "output_type": "stream",
     "text": [
      "===posible caso: 94095 HOOD\n",
      "===posible caso: 94182 HOOD\n",
      "h1\n",
      "94182 HOOD\n",
      "===posible caso: 94213 HOOD\n",
      "===posible caso: 94255 HOOD\n"
     ]
    },
    {
     "name": "stdout",
     "output_type": "stream",
     "text": [
      "h1\n",
      "94255 HOOD\n",
      "===posible caso: 94306 HOOD\n",
      "===posible caso: 94355 HOOD\n",
      "===posible caso: 94376 HOOD\n"
     ]
    },
    {
     "name": "stdout",
     "output_type": "stream",
     "text": [
      "h1\n",
      "94376 HOOD\n",
      "===posible caso: 94434 HOOD\n",
      "h1\n",
      "94434 HOOD\n",
      "===posible caso: 94475 HOOD\n"
     ]
    },
    {
     "name": "stdout",
     "output_type": "stream",
     "text": [
      "===posible caso: 94521 HOOD\n",
      "===posible caso: 94560 HOOD\n",
      "h1\n",
      "94560 HOOD\n",
      "===posible caso: 94643 HOOD\n"
     ]
    },
    {
     "name": "stdout",
     "output_type": "stream",
     "text": [
      "h1\n",
      "94643 HOOD\n",
      "===posible caso: 94752 HOOD\n",
      "===posible caso: 94803 HOOD\n",
      "===posible caso: 94837 HOOD\n"
     ]
    },
    {
     "name": "stdout",
     "output_type": "stream",
     "text": [
      "h1\n",
      "94837 HOOD\n",
      "===posible caso: 94868 HOOD\n",
      "===posible caso: 94890 HOOD\n",
      "===posible caso: 94921 HOOD\n"
     ]
    },
    {
     "name": "stdout",
     "output_type": "stream",
     "text": [
      "===posible caso: 95035 HOOD\n",
      "===posible caso: 95085 HOOD\n"
     ]
    },
    {
     "name": "stdout",
     "output_type": "stream",
     "text": [
      "h1\n",
      "95085 HOOD\n",
      "===posible caso: 95117 HOOD\n",
      "===posible caso: 95171 HOOD\n"
     ]
    },
    {
     "name": "stdout",
     "output_type": "stream",
     "text": [
      "===posible caso: 95210 HOOD\n",
      "===posible caso: 95229 HOOD\n"
     ]
    },
    {
     "name": "stdout",
     "output_type": "stream",
     "text": [
      "===posible caso: 95275 HOOD\n",
      "===posible caso: 95293 HOOD\n",
      "h1\n",
      "95293 HOOD\n",
      "===posible caso: 95313 HOOD\n"
     ]
    },
    {
     "name": "stdout",
     "output_type": "stream",
     "text": [
      "h1\n",
      "95313 HOOD\n",
      "===posible caso: 95356 HOOD\n",
      "===posible caso: 95640 CRWV\n",
      "h1\n",
      "95640 CRWV\n",
      "===posible caso: 95686 CRWV\n",
      "===posible caso: 95713 CRWV\n"
     ]
    },
    {
     "name": "stdout",
     "output_type": "stream",
     "text": [
      "===posible caso: 95735 CRWV\n",
      "===posible caso: 95760 CRWV\n",
      "===posible caso: 95906 MSTR\n"
     ]
    },
    {
     "name": "stdout",
     "output_type": "stream",
     "text": [
      "h1\n",
      "95906 MSTR\n",
      "===posible caso: 95984 MSTR\n",
      "h1\n",
      "95984 MSTR\n",
      "===posible caso: 96028 MSTR\n",
      "===posible caso: 96054 MSTR\n"
     ]
    },
    {
     "name": "stdout",
     "output_type": "stream",
     "text": [
      "===posible caso: 96133 MSTR\n",
      "h1\n",
      "96133 MSTR\n",
      "===posible caso: 96261 MSTR\n",
      "===posible caso: 96291 MSTR\n"
     ]
    },
    {
     "name": "stdout",
     "output_type": "stream",
     "text": [
      "===posible caso: 96332 MSTR\n",
      "===posible caso: 96410 MSTR\n"
     ]
    },
    {
     "name": "stdout",
     "output_type": "stream",
     "text": [
      "h1\n",
      "96410 MSTR\n",
      "===posible caso: 96486 MSTR\n",
      "h1\n",
      "96486 MSTR\n",
      "===posible caso: 96540 MSTR\n"
     ]
    },
    {
     "name": "stdout",
     "output_type": "stream",
     "text": [
      "h1\n",
      "96540 MSTR\n",
      "===posible caso: 96557 MSTR\n",
      "===posible caso: 96604 MSTR\n"
     ]
    },
    {
     "name": "stdout",
     "output_type": "stream",
     "text": [
      "===posible caso: 96628 MSTR\n",
      "===posible caso: 96728 MSTR\n"
     ]
    },
    {
     "name": "stdout",
     "output_type": "stream",
     "text": [
      "h2\n",
      "h4\n",
      "h2\n",
      "h4\n",
      "h1\n",
      "96728 MSTR\n",
      "===posible caso: 96804 MSTR\n",
      "===posible caso: 96860 MSTR\n",
      "===posible caso: 96944 MSTR\n"
     ]
    },
    {
     "name": "stdout",
     "output_type": "stream",
     "text": [
      "===posible caso: 97026 MSTR\n",
      "h1\n",
      "97026 MSTR\n",
      "===posible caso: 97089 MSTR\n"
     ]
    },
    {
     "name": "stdout",
     "output_type": "stream",
     "text": [
      "h1\n",
      "97089 MSTR\n",
      "===posible caso: 97143 MSTR\n",
      "h1\n",
      "97143 MSTR\n",
      "===posible caso: 97175 MSTR\n"
     ]
    },
    {
     "name": "stdout",
     "output_type": "stream",
     "text": [
      "===posible caso: 97266 MSTR\n",
      "===posible caso: 97297 MSTR\n",
      "===posible caso: 97405 MSTR\n"
     ]
    },
    {
     "name": "stdout",
     "output_type": "stream",
     "text": [
      "===posible caso: 97448 MSTR\n",
      "===posible caso: 97484 MSTR\n",
      "===posible caso: 97511 MSTR\n",
      "===posible caso: 97536 MSTR\n",
      "===posible caso: 97584 MSTR\n",
      "===posible caso: 97666 MSTR\n"
     ]
    },
    {
     "name": "stdout",
     "output_type": "stream",
     "text": [
      "===posible caso: 97693 MSTR\n",
      "===posible caso: 97805 MSTR\n"
     ]
    },
    {
     "name": "stdout",
     "output_type": "stream",
     "text": [
      "h1\n",
      "97805 MSTR\n",
      "===posible caso: 97862 MSTR\n",
      "===posible caso: 97960 MSTR\n"
     ]
    },
    {
     "name": "stdout",
     "output_type": "stream",
     "text": [
      "===posible caso: 98026 MSTR\n",
      "h1\n",
      "98026 MSTR\n",
      "===posible caso: 98078 MSTR\n"
     ]
    },
    {
     "name": "stdout",
     "output_type": "stream",
     "text": [
      "===posible caso: 98103 MSTR\n",
      "h1\n",
      "98103 MSTR\n",
      "===posible caso: 98181 MSTR\n"
     ]
    },
    {
     "name": "stdout",
     "output_type": "stream",
     "text": [
      "h1\n",
      "98181 MSTR\n",
      "===posible caso: 98256 MSTR\n",
      "h1\n",
      "98256 MSTR\n",
      "===posible caso: 98293 MSTR\n"
     ]
    },
    {
     "name": "stdout",
     "output_type": "stream",
     "text": [
      "===posible caso: 98333 MSTR\n",
      "h1\n",
      "98333 MSTR\n",
      "===posible caso: 98409 MSTR\n"
     ]
    },
    {
     "name": "stdout",
     "output_type": "stream",
     "text": [
      "h1\n",
      "98409 MSTR\n",
      "===posible caso: 98440 MSTR\n",
      "===posible caso: 98499 MSTR\n"
     ]
    },
    {
     "name": "stdout",
     "output_type": "stream",
     "text": [
      "===posible caso: 98560 MSTR\n",
      "===posible caso: 98614 MSTR\n",
      "===posible caso: 98630 MSTR\n"
     ]
    },
    {
     "name": "stdout",
     "output_type": "stream",
     "text": [
      "===posible caso: 98773 MSTR\n",
      "h1\n",
      "98773 MSTR\n",
      "===posible caso: 98821 MSTR\n",
      "===posible caso: 98870 MSTR\n"
     ]
    },
    {
     "name": "stdout",
     "output_type": "stream",
     "text": [
      "===posible caso: 98907 MSTR\n",
      "===posible caso: 99047 MSTR\n"
     ]
    },
    {
     "name": "stdout",
     "output_type": "stream",
     "text": [
      "h1\n",
      "99047 MSTR\n",
      "===posible caso: 99084 MSTR\n",
      "===posible caso: 99108 MSTR\n",
      "===posible caso: 99145 MSTR\n",
      "===posible caso: 99203 MSTR\n",
      "===posible caso: 99270 MSTR\n"
     ]
    },
    {
     "name": "stdout",
     "output_type": "stream",
     "text": [
      "===posible caso: 99337 UNH\n",
      "===posible caso: 99362 UNH\n",
      "===posible caso: 99457 UNH\n"
     ]
    },
    {
     "name": "stdout",
     "output_type": "stream",
     "text": [
      "===posible caso: 99494 UNH\n",
      "===posible caso: 99529 UNH\n"
     ]
    },
    {
     "name": "stdout",
     "output_type": "stream",
     "text": [
      "===posible caso: 99551 UNH\n",
      "===posible caso: 99587 UNH\n"
     ]
    },
    {
     "name": "stdout",
     "output_type": "stream",
     "text": [
      "===posible caso: 99669 UNH\n",
      "===posible caso: 99749 UNH\n",
      "===posible caso: 99807 UNH\n",
      "===posible caso: 99863 UNH\n"
     ]
    },
    {
     "name": "stdout",
     "output_type": "stream",
     "text": [
      "===posible caso: 99892 UNH\n",
      "===posible caso: 99941 UNH\n"
     ]
    },
    {
     "name": "stdout",
     "output_type": "stream",
     "text": [
      "===posible caso: 99988 UNH\n",
      "h1\n",
      "99988 UNH\n",
      "===posible caso: 100033 UNH\n"
     ]
    },
    {
     "name": "stdout",
     "output_type": "stream",
     "text": [
      "===posible caso: 100090 UNH\n",
      "h1\n",
      "100090 UNH\n",
      "===posible caso: 100135 UNH\n"
     ]
    },
    {
     "name": "stdout",
     "output_type": "stream",
     "text": [
      "h1\n",
      "100135 UNH\n",
      "===posible caso: 100273 UNH\n",
      "===posible caso: 100331 UNH\n"
     ]
    },
    {
     "name": "stdout",
     "output_type": "stream",
     "text": [
      "h1\n",
      "100331 UNH\n",
      "===posible caso: 100402 UNH\n",
      "===posible caso: 100440 UNH\n",
      "===posible caso: 100462 UNH\n",
      "h1\n",
      "100462 UNH\n",
      "===posible caso: 100489 UNH\n"
     ]
    },
    {
     "name": "stdout",
     "output_type": "stream",
     "text": [
      "h1\n",
      "100489 UNH\n",
      "===posible caso: 100517 UNH\n",
      "h1\n",
      "100517 UNH\n",
      "===posible caso: 100601 UNH\n"
     ]
    },
    {
     "name": "stdout",
     "output_type": "stream",
     "text": [
      "h1\n",
      "100601 UNH\n",
      "===posible caso: 100642 UNH\n",
      "===posible caso: 100684 UNH\n",
      "===posible caso: 100786 UNH\n",
      "===posible caso: 100917 UNH\n"
     ]
    },
    {
     "name": "stdout",
     "output_type": "stream",
     "text": [
      "===posible caso: 100944 UNH\n",
      "h1\n",
      "100944 UNH\n",
      "===posible caso: 101004 UNH\n",
      "===posible caso: 101060 UNH\n",
      "===posible caso: 101125 UNH\n"
     ]
    },
    {
     "name": "stdout",
     "output_type": "stream",
     "text": [
      "===posible caso: 101206 UNH\n",
      "h1\n",
      "101206 UNH\n",
      "===posible caso: 101289 UNH\n"
     ]
    },
    {
     "name": "stdout",
     "output_type": "stream",
     "text": [
      "h1\n",
      "101289 UNH\n",
      "===posible caso: 101340 UNH\n",
      "===posible caso: 101367 UNH\n",
      "===posible caso: 101437 UNH\n"
     ]
    },
    {
     "name": "stdout",
     "output_type": "stream",
     "text": [
      "===posible caso: 101591 UNH\n",
      "===posible caso: 101638 UNH\n"
     ]
    },
    {
     "name": "stdout",
     "output_type": "stream",
     "text": [
      "===posible caso: 101669 UNH\n",
      "h1\n",
      "101669 UNH\n",
      "===posible caso: 101733 UNH\n",
      "===posible caso: 101774 UNH\n"
     ]
    },
    {
     "name": "stdout",
     "output_type": "stream",
     "text": [
      "h1\n",
      "101774 UNH\n",
      "===posible caso: 101857 UNH\n",
      "h1\n",
      "101857 UNH\n",
      "===posible caso: 101882 UNH\n"
     ]
    },
    {
     "name": "stdout",
     "output_type": "stream",
     "text": [
      "===posible caso: 101914 UNH\n",
      "===posible caso: 101956 UNH\n",
      "===posible caso: 101988 UNH\n",
      "===posible caso: 102055 UNH\n"
     ]
    },
    {
     "name": "stdout",
     "output_type": "stream",
     "text": [
      "===posible caso: 102071 UNH\n",
      "h1\n",
      "102071 UNH\n",
      "===posible caso: 102117 UNH\n"
     ]
    },
    {
     "name": "stdout",
     "output_type": "stream",
     "text": [
      "h1\n",
      "102117 UNH\n",
      "===posible caso: 102152 UNH\n",
      "===posible caso: 102315 UNH\n"
     ]
    },
    {
     "name": "stdout",
     "output_type": "stream",
     "text": [
      "h1\n",
      "102315 UNH\n",
      "===posible caso: 102383 UNH\n",
      "===posible caso: 102428 UNH\n"
     ]
    },
    {
     "name": "stdout",
     "output_type": "stream",
     "text": [
      "h1\n",
      "102428 UNH\n",
      "===posible caso: 102448 UNH\n",
      "===posible caso: 102490 UNH\n"
     ]
    },
    {
     "name": "stdout",
     "output_type": "stream",
     "text": [
      "===posible caso: 102595 UNH\n",
      "===posible caso: 102672 UNH\n",
      "===posible caso: 102724 UNH\n",
      "h1\n",
      "102724 UNH\n",
      "===posible caso: 102790 UNH\n"
     ]
    },
    {
     "name": "stdout",
     "output_type": "stream",
     "text": [
      "h3\n",
      "h4\n",
      "h3\n",
      "h4\n",
      "h3\n",
      "h4\n",
      "h3\n",
      "h4\n",
      "102790 UNH\n",
      "===posible caso: 102807 UNH\n",
      "h3\n",
      "h4\n",
      "h3\n",
      "h4\n",
      "h3\n",
      "h4\n",
      "h3\n",
      "h4\n",
      "102807 UNH\n",
      "===posible caso: 102823 UNH\n"
     ]
    },
    {
     "name": "stdout",
     "output_type": "stream",
     "text": [
      "===posible caso: 102918 GOOG\n",
      "===posible caso: 102967 GOOG\n",
      "===posible caso: 103039 GOOG\n",
      "===posible caso: 103168 GOOG\n",
      "===posible caso: 103209 GOOG\n"
     ]
    },
    {
     "name": "stdout",
     "output_type": "stream",
     "text": [
      "===posible caso: 103251 GOOG\n",
      "h1\n",
      "103251 GOOG\n",
      "===posible caso: 103282 GOOG\n"
     ]
    },
    {
     "name": "stdout",
     "output_type": "stream",
     "text": [
      "===posible caso: 103410 GOOG\n",
      "h1\n",
      "103410 GOOG\n",
      "===posible caso: 103589 GOOG\n"
     ]
    },
    {
     "name": "stdout",
     "output_type": "stream",
     "text": [
      "===posible caso: 103612 GOOG\n",
      "h1\n",
      "103612 GOOG\n",
      "===posible caso: 103634 GOOG\n"
     ]
    },
    {
     "name": "stdout",
     "output_type": "stream",
     "text": [
      "h1\n",
      "103634 GOOG\n",
      "===posible caso: 103740 GOOG\n",
      "h1\n",
      "103740 GOOG\n",
      "===posible caso: 103761 GOOG\n"
     ]
    },
    {
     "name": "stdout",
     "output_type": "stream",
     "text": [
      "h1\n",
      "103761 GOOG\n",
      "===posible caso: 103902 GOOG\n",
      "h1\n",
      "103902 GOOG\n",
      "===posible caso: 103920 GOOG\n"
     ]
    },
    {
     "name": "stdout",
     "output_type": "stream",
     "text": [
      "h1\n",
      "103920 GOOG\n",
      "===posible caso: 103981 GOOG\n",
      "===posible caso: 104154 GOOG\n"
     ]
    },
    {
     "name": "stdout",
     "output_type": "stream",
     "text": [
      "h2\n",
      "h4\n",
      "h1\n",
      "104154 GOOG\n",
      "===posible caso: 104198 GOOG\n",
      "===posible caso: 104216 GOOG\n"
     ]
    },
    {
     "name": "stdout",
     "output_type": "stream",
     "text": [
      "===posible caso: 104278 GOOG\n",
      "h1\n",
      "104278 GOOG\n",
      "===posible caso: 104351 GOOG\n"
     ]
    },
    {
     "name": "stdout",
     "output_type": "stream",
     "text": [
      "===posible caso: 104400 GOOG\n",
      "h1\n",
      "104400 GOOG\n",
      "===posible caso: 104474 GOOG\n"
     ]
    },
    {
     "name": "stdout",
     "output_type": "stream",
     "text": [
      "===posible caso: 104550 GOOG\n",
      "===posible caso: 104598 GOOG\n",
      "h1\n",
      "104598 GOOG\n",
      "===posible caso: 104643 GOOG\n"
     ]
    },
    {
     "name": "stdout",
     "output_type": "stream",
     "text": [
      "===posible caso: 104678 GOOG\n",
      "===posible caso: 104807 GOOG\n",
      "===posible caso: 104866 GOOG\n"
     ]
    },
    {
     "name": "stdout",
     "output_type": "stream",
     "text": [
      "h1\n",
      "104866 GOOG\n",
      "===posible caso: 104902 GOOG\n",
      "h1\n",
      "104902 GOOG\n",
      "===posible caso: 105060 GOOG\n"
     ]
    },
    {
     "name": "stdout",
     "output_type": "stream",
     "text": [
      "h1\n",
      "105060 GOOG\n",
      "===posible caso: 105105 GOOG\n",
      "h1\n",
      "105105 GOOG\n",
      "===posible caso: 105128 GOOG\n"
     ]
    },
    {
     "name": "stdout",
     "output_type": "stream",
     "text": [
      "h1\n",
      "105128 GOOG\n",
      "===posible caso: 105171 GOOG\n",
      "===posible caso: 105206 GOOG\n",
      "===posible caso: 105248 GOOG\n"
     ]
    },
    {
     "name": "stdout",
     "output_type": "stream",
     "text": [
      "h1\n",
      "105248 GOOG\n",
      "===posible caso: 105295 GOOG\n",
      "===posible caso: 105316 GOOG\n",
      "h1\n",
      "105316 GOOG\n",
      "===posible caso: 105453 GOOG\n"
     ]
    },
    {
     "name": "stdout",
     "output_type": "stream",
     "text": [
      "===posible caso: 105471 GOOG\n",
      "===posible caso: 105518 GOOG\n"
     ]
    },
    {
     "name": "stdout",
     "output_type": "stream",
     "text": [
      "h1\n",
      "105518 GOOG\n",
      "===posible caso: 105562 GOOG\n",
      "===posible caso: 105643 GOOG\n"
     ]
    },
    {
     "name": "stdout",
     "output_type": "stream",
     "text": [
      "===posible caso: 105694 GOOG\n",
      "===posible caso: 105743 GOOG\n",
      "===posible caso: 105764 GOOG\n",
      "===posible caso: 105846 GOOG\n"
     ]
    },
    {
     "name": "stdout",
     "output_type": "stream",
     "text": [
      "===posible caso: 105868 GOOG\n",
      "h1\n",
      "105868 GOOG\n",
      "===posible caso: 105932 GOOG\n"
     ]
    },
    {
     "name": "stdout",
     "output_type": "stream",
     "text": [
      "===posible caso: 105971 GOOG\n",
      "===posible caso: 106024 GOOG\n"
     ]
    },
    {
     "name": "stdout",
     "output_type": "stream",
     "text": [
      "h1\n",
      "106024 GOOG\n",
      "===posible caso: 106081 GOOG\n",
      "===posible caso: 106126 GOOG\n",
      "===posible caso: 106185 GOOG\n"
     ]
    },
    {
     "name": "stdout",
     "output_type": "stream",
     "text": [
      "===posible caso: 106213 GOOG\n",
      "===posible caso: 106235 GOOG\n"
     ]
    },
    {
     "name": "stdout",
     "output_type": "stream",
     "text": [
      "h1\n",
      "106235 GOOG\n",
      "===posible caso: 106341 GOOG\n",
      "===posible caso: 106427 APP\n"
     ]
    },
    {
     "name": "stdout",
     "output_type": "stream",
     "text": [
      "===posible caso: 106454 APP\n",
      "===posible caso: 106494 APP\n"
     ]
    },
    {
     "name": "stdout",
     "output_type": "stream",
     "text": [
      "===posible caso: 106575 APP\n",
      "h1\n",
      "106575 APP\n",
      "===posible caso: 106648 APP\n"
     ]
    },
    {
     "name": "stdout",
     "output_type": "stream",
     "text": [
      "===posible caso: 106700 APP\n",
      "===posible caso: 106743 APP\n",
      "===posible caso: 106778 APP\n"
     ]
    },
    {
     "name": "stdout",
     "output_type": "stream",
     "text": [
      "===posible caso: 106817 APP\n",
      "h1\n",
      "106817 APP\n",
      "===posible caso: 106884 APP\n"
     ]
    },
    {
     "name": "stdout",
     "output_type": "stream",
     "text": [
      "===posible caso: 106925 APP\n",
      "h1\n",
      "106925 APP\n",
      "===posible caso: 107001 APP\n"
     ]
    },
    {
     "name": "stdout",
     "output_type": "stream",
     "text": [
      "h1\n",
      "107001 APP\n",
      "===posible caso: 107028 APP\n",
      "h1\n",
      "107028 APP\n",
      "===posible caso: 107091 APP\n"
     ]
    },
    {
     "name": "stdout",
     "output_type": "stream",
     "text": [
      "h1\n",
      "107091 APP\n",
      "===posible caso: 107131 APP\n",
      "===posible caso: 107215 APP\n",
      "===posible caso: 107272 APP\n"
     ]
    },
    {
     "name": "stdout",
     "output_type": "stream",
     "text": [
      "===posible caso: 107310 APP\n",
      "h1\n",
      "107310 APP\n",
      "===posible caso: 107380 APP\n"
     ]
    },
    {
     "name": "stdout",
     "output_type": "stream",
     "text": [
      "===posible caso: 107424 APP\n",
      "h1\n",
      "107424 APP\n",
      "===posible caso: 107452 APP\n"
     ]
    },
    {
     "name": "stdout",
     "output_type": "stream",
     "text": [
      "===posible caso: 107516 APP\n",
      "===posible caso: 107546 APP\n",
      "===posible caso: 107586 APP\n"
     ]
    },
    {
     "name": "stdout",
     "output_type": "stream",
     "text": [
      "===posible caso: 107614 APP\n",
      "===posible caso: 107642 APP\n"
     ]
    },
    {
     "name": "stdout",
     "output_type": "stream",
     "text": [
      "h1\n",
      "107642 APP\n",
      "===posible caso: 107705 APP\n",
      "===posible caso: 107730 APP\n"
     ]
    },
    {
     "name": "stdout",
     "output_type": "stream",
     "text": [
      "h1\n",
      "107730 APP\n",
      "===posible caso: 107788 APP\n",
      "h1\n",
      "107788 APP\n",
      "===posible caso: 107809 APP\n"
     ]
    },
    {
     "name": "stdout",
     "output_type": "stream",
     "text": [
      "h1\n",
      "107809 APP\n",
      "===posible caso: 107859 APP\n",
      "===posible caso: 107882 APP\n",
      "===posible caso: 107944 APP\n"
     ]
    },
    {
     "name": "stdout",
     "output_type": "stream",
     "text": [
      "===posible caso: 107979 APP\n",
      "h1\n",
      "107979 APP\n",
      "===posible caso: 108138 APP\n",
      "===posible caso: 108205 APP\n"
     ]
    },
    {
     "name": "stdout",
     "output_type": "stream",
     "text": [
      "===posible caso: 108253 APP\n",
      "===posible caso: 108443 APP\n",
      "h1\n",
      "108443 APP\n",
      "===posible caso: 108490 APP\n",
      "===posible caso: 108606 APP\n"
     ]
    },
    {
     "name": "stdout",
     "output_type": "stream",
     "text": [
      "===posible caso: 108695 APP\n",
      "===posible caso: 108744 APP\n"
     ]
    },
    {
     "name": "stdout",
     "output_type": "stream",
     "text": [
      "h1\n",
      "108744 APP\n",
      "===posible caso: 108780 APP\n",
      "h1\n",
      "108780 APP\n",
      "===posible caso: 108834 APP\n"
     ]
    },
    {
     "name": "stdout",
     "output_type": "stream",
     "text": [
      "===posible caso: 108886 APP\n",
      "===posible caso: 108903 APP\n"
     ]
    },
    {
     "name": "stdout",
     "output_type": "stream",
     "text": [
      "===posible caso: 108960 APP\n",
      "h1\n",
      "108960 APP\n",
      "===posible caso: 109042 APP\n",
      "===posible caso: 109087 APP\n"
     ]
    },
    {
     "name": "stdout",
     "output_type": "stream",
     "text": [
      "===posible caso: 109171 APP\n",
      "h1\n",
      "109171 APP\n",
      "===posible caso: 109219 APP\n"
     ]
    },
    {
     "name": "stdout",
     "output_type": "stream",
     "text": [
      "===posible caso: 109252 APP\n",
      "===posible caso: 109281 APP\n"
     ]
    },
    {
     "name": "stdout",
     "output_type": "stream",
     "text": [
      "===posible caso: 109347 APP\n",
      "===posible caso: 109420 APP\n",
      "===posible caso: 109462 APP\n"
     ]
    },
    {
     "name": "stdout",
     "output_type": "stream",
     "text": [
      "h1\n",
      "109462 APP\n",
      "===posible caso: 109652 APP\n",
      "===posible caso: 109697 APP\n"
     ]
    },
    {
     "name": "stdout",
     "output_type": "stream",
     "text": [
      "===posible caso: 109726 APP\n",
      "h1\n",
      "109726 APP\n",
      "===posible caso: 109822 APP\n"
     ]
    },
    {
     "name": "stdout",
     "output_type": "stream",
     "text": [
      "h1\n",
      "109822 APP\n",
      "===posible caso: 109885 APP\n",
      "===posible caso: 109956 UBER\n",
      "===posible caso: 109985 UBER\n"
     ]
    },
    {
     "name": "stdout",
     "output_type": "stream",
     "text": [
      "===posible caso: 110027 UBER\n",
      "h1\n",
      "110027 UBER\n",
      "===posible caso: 110051 UBER\n"
     ]
    },
    {
     "name": "stdout",
     "output_type": "stream",
     "text": [
      "===posible caso: 110112 UBER\n",
      "h1\n",
      "110112 UBER\n",
      "===posible caso: 110236 UBER\n"
     ]
    },
    {
     "name": "stdout",
     "output_type": "stream",
     "text": [
      "h1\n",
      "110236 UBER\n",
      "===posible caso: 110272 UBER\n",
      "h1\n",
      "110272 UBER\n",
      "===posible caso: 110319 UBER\n"
     ]
    },
    {
     "name": "stdout",
     "output_type": "stream",
     "text": [
      "h1\n",
      "110319 UBER\n",
      "===posible caso: 110357 UBER\n",
      "===posible caso: 110402 UBER\n",
      "===posible caso: 110457 UBER\n",
      "===posible caso: 110720 UBER\n"
     ]
    },
    {
     "name": "stdout",
     "output_type": "stream",
     "text": [
      "h1\n",
      "110720 UBER\n",
      "===posible caso: 110754 UBER\n",
      "h1\n",
      "110754 UBER\n",
      "===posible caso: 110841 UBER\n",
      "===posible caso: 110907 UBER\n"
     ]
    },
    {
     "name": "stdout",
     "output_type": "stream",
     "text": [
      "===posible caso: 110939 UBER\n",
      "===posible caso: 110984 UBER\n"
     ]
    },
    {
     "name": "stdout",
     "output_type": "stream",
     "text": [
      "===posible caso: 111033 UBER\n",
      "===posible caso: 111073 UBER\n",
      "===posible caso: 111096 UBER\n"
     ]
    },
    {
     "name": "stdout",
     "output_type": "stream",
     "text": [
      "h1\n",
      "111096 UBER\n",
      "===posible caso: 111117 UBER\n",
      "h1\n",
      "111117 UBER\n",
      "===posible caso: 111148 UBER\n"
     ]
    },
    {
     "name": "stdout",
     "output_type": "stream",
     "text": [
      "h1\n",
      "111148 UBER\n",
      "===posible caso: 111194 UBER\n",
      "===posible caso: 111238 UBER\n",
      "===posible caso: 111335 UBER\n",
      "===posible caso: 111392 UBER\n",
      "===posible caso: 111454 UBER\n"
     ]
    },
    {
     "name": "stdout",
     "output_type": "stream",
     "text": [
      "===posible caso: 111539 UBER\n",
      "h1\n",
      "111539 UBER\n",
      "===posible caso: 111618 UBER\n"
     ]
    },
    {
     "name": "stdout",
     "output_type": "stream",
     "text": [
      "===posible caso: 111640 UBER\n",
      "h1\n",
      "111640 UBER\n",
      "===posible caso: 111668 UBER\n"
     ]
    },
    {
     "name": "stdout",
     "output_type": "stream",
     "text": [
      "===posible caso: 111691 UBER\n",
      "h1\n",
      "111691 UBER\n",
      "===posible caso: 111713 UBER\n"
     ]
    },
    {
     "name": "stdout",
     "output_type": "stream",
     "text": [
      "===posible caso: 111789 UBER\n",
      "h1\n",
      "111789 UBER\n",
      "===posible caso: 111820 UBER\n",
      "===posible caso: 111863 UBER\n",
      "===posible caso: 111959 UBER\n"
     ]
    },
    {
     "name": "stdout",
     "output_type": "stream",
     "text": [
      "===posible caso: 111987 UBER\n",
      "h1\n",
      "111987 UBER\n",
      "===posible caso: 112107 UBER\n"
     ]
    },
    {
     "name": "stdout",
     "output_type": "stream",
     "text": [
      "h1\n",
      "112107 UBER\n",
      "===posible caso: 112137 UBER\n",
      "===posible caso: 112225 UBER\n"
     ]
    },
    {
     "name": "stdout",
     "output_type": "stream",
     "text": [
      "===posible caso: 112268 UBER\n",
      "===posible caso: 112400 UBER\n",
      "===posible caso: 112442 UBER\n"
     ]
    },
    {
     "name": "stdout",
     "output_type": "stream",
     "text": [
      "===posible caso: 112462 UBER\n",
      "===posible caso: 112544 UBER\n",
      "===posible caso: 112624 UBER\n"
     ]
    },
    {
     "name": "stdout",
     "output_type": "stream",
     "text": [
      "===posible caso: 112669 UBER\n",
      "===posible caso: 112710 UBER\n",
      "===posible caso: 112754 UBER\n",
      "===posible caso: 112819 UBER\n"
     ]
    },
    {
     "name": "stdout",
     "output_type": "stream",
     "text": [
      "===posible caso: 112864 UBER\n",
      "h1\n",
      "112864 UBER\n",
      "===posible caso: 112897 UBER\n"
     ]
    },
    {
     "name": "stdout",
     "output_type": "stream",
     "text": [
      "===posible caso: 112981 UBER\n",
      "h1\n",
      "112981 UBER\n",
      "===posible caso: 113111 UBER\n"
     ]
    },
    {
     "name": "stdout",
     "output_type": "stream",
     "text": [
      "h1\n",
      "113111 UBER\n",
      "===posible caso: 113142 UBER\n",
      "===posible caso: 113196 UBER\n",
      "===posible caso: 113231 UBER\n",
      "===posible caso: 113261 UBER\n"
     ]
    },
    {
     "name": "stdout",
     "output_type": "stream",
     "text": [
      "h1\n",
      "113261 UBER\n",
      "===posible caso: 113296 UBER\n",
      "h1\n",
      "113296 UBER\n",
      "===posible caso: 113336 UBER\n",
      "===posible caso: 113397 UBER\n"
     ]
    },
    {
     "name": "stdout",
     "output_type": "stream",
     "text": [
      "h3\n",
      "h4\n",
      "h3\n",
      "h4\n",
      "h3\n",
      "h4\n",
      "h3\n",
      "h4\n",
      "113397 UBER\n"
     ]
    }
   ],
   "source": [
    "df_casos = pd.DataFrame()\n",
    "caso = 0\n",
    "ticker2 = \"\"\n",
    "window=5\n",
    "backeval=75\n",
    "backevalTrend=0\n",
    "dfpl = pd.DataFrame\n",
    "trendH = []\n",
    "trendL = []\n",
    "cant = 0\n",
    "for i, row in df.iterrows():\n",
    "    #if (i==3560):\n",
    "    if(df['rcb01_01'][i]==1): #posibles casos \n",
    "        print(\"===posible caso:\",i, df['companyName'][i])\n",
    "        cant = 0\n",
    "        candle = i\n",
    "        cnt = 0\n",
    "        #valiniHigh = df.loc[candle,\"High\"]\n",
    "        #valiniLow = df.loc[candle,\"Low\"]\n",
    "        ticker = df['companyName'][i]\n",
    "        #Reinicio de casos por company\n",
    "        if ticker2 != ticker:\n",
    "            ticker2 = ticker\n",
    "            caso = 0\n",
    "        dfpl = df[(df.companyName==ticker)].loc[i-backeval:i+backeval]       \n",
    "\n",
    "        #print(\"rowMin:\", dfpl.index[0],\", rowMax:\", dfpl.index[-1])\n",
    "                    \n",
    "        h=1\n",
    "        l=1\n",
    "\n",
    "        cant = cant +1\n",
    "        cantHorasTrend=0\n",
    "        #print(\"opcionH:\",h,\"opcionL:\",l)\n",
    "        trendL, backevalTrend = backcandle(candle)\n",
    "        #print (\"-->trendH:\",trendH)\n",
    "        #print (\"-->backevalTrend:\",backevalTrend)    \n",
    "        \n",
    "        cantHorasTrend = (dfpl.loc[candle,\"datetime\"] - dfpl.loc[backevalTrend,\"datetime\"]).total_seconds() / 3600\n",
    "\n",
    "        if (cantHorasTrend>48): #Verificacion de caida por lo menos 2 dias\n",
    "            backevalTrend2 = candle - backevalTrend\n",
    "            #print (\"backevalTrend2\", backevalTrend2)\n",
    "                        \n",
    "            #revision de trend negativo indica que esta cayendo, solo me quedo con estos casos\n",
    "            sl_lows, interc_lows, r_sq_l = collect_channel(candle, backevalTrend2, trendL)\n",
    "                    \n",
    "    \n",
    "            #print(\"======:\", candle)\n",
    "            #print(\"===trendH===\")\n",
    "            #print(trendH)\n",
    "            #print(\"===trendL===\")\n",
    "            #print(trendL)\n",
    "            dfpl.loc[trendL, \"trendL\"] = 1\n",
    "                                \n",
    "            #print(\"sl_lows:\", sl_lows, \", interc_lows:\", interc_lows, \", r_sq_l:\", r_sq_l)\n",
    "            if (sl_lows>=0): #solo tendencias a la alza and ind_vela>0 sl_lows<0 and r_sq_h>=0.7  and sl_highs<=-0.1 and ind_vela>0\n",
    "                \n",
    "                #crear linea de tendencia high y low\n",
    "                dfpl['trendcurrlow']  = trendChannel(dfpl,candle,backevalTrend2,window,sl_lows,interc_lows)\n",
    "                \n",
    "                ind_vela = revisionVelas(dfpl, backeval,window, candle)\n",
    "                promVol = dfpl.loc[i-backeval:i][\"Volume\"].mean()\n",
    "    \n",
    "                #print(\"ind_vela:\",ind_vela)\n",
    "                if (ind_vela>0):\n",
    "                    dfpl[\"bearishSlope\"] = np.nan #pendiente bajista en vacio\n",
    "                    dfpl.loc[i, \"bearishSlope\"] = 1 #pendiente bajista solo al punto evaluado            \n",
    "                    dfpl[\"ind_posicion\"] = 0\n",
    "                    dfpl.loc[(dfpl.index < i), 'ind_posicion'] = -1\n",
    "                    dfpl.loc[(dfpl.index > i), 'ind_posicion'] = 1\n",
    "                    dfpl[\"promVol\"] = promVol\n",
    "                    dfpl[\"sl_lows\"] = sl_lows\n",
    "                    dfpl[\"r_sq_l\"] = r_sq_l\n",
    "            \n",
    "                    start = dfpl.index[0]\n",
    "                    dfpl[\"isBreakOut\"] = [isBreakOut(candleEval, backevalTrend2, window, start, candle) for candleEval in dfpl.index]\n",
    "                    # Solo me quedo con el primer BREAK OUT\n",
    "                    cnt = dfpl.query(\"isBreakOut==1 and Close<Open\").shape[0] \n",
    "                    id=0\n",
    "                    id2=0\n",
    "                    if cnt>0:\n",
    "                        id = dfpl.query(\"isBreakOut==1 and Close<Open\").index[0]                        \n",
    "                        #dfpl['isBreakOutIni'] = np.where(id!=dfpl.index, np.nan, dfpl['isBreakOut'])                        \n",
    "                        dfpl.loc[id,'isBreakOutIni'] = 1\n",
    "\n",
    "                        k=0\n",
    "                        while (k<=3):\n",
    "                            dfpl['breakpointpos'] = dfpl.apply(lambda row: breakpointpos(row), axis=1)\n",
    "                            cnt2 = dfpl.query(\"index>@id and isPivot==2\").shape[0]\n",
    "                            \n",
    "                            if cnt2>0:\n",
    "                                id2 = dfpl.query(\"index>@id and isPivot==2\").index[0]\n",
    "                                dfpl.loc[id2,'isBreakOutFinal'] = 1\n",
    "                                k=4\n",
    "                                print(\"h1\")\n",
    "                            else:\n",
    "                                #revisar 25 velas mas\n",
    "                                #print(\"paso8\")\n",
    "                                idfinal = dfpl.index[-1] \n",
    "                                idfinal2 = idfinal+25\n",
    "                                if idfinal2 in df[df['companyName']==ticker].index:\n",
    "                                    dfpl2 = df[(df.companyName==ticker)].loc[idfinal+1:idfinal2].copy()\n",
    "                                    dfpl = pd.concat([dfpl, dfpl2],ignore_index=False)    \n",
    "                                    print(\"h2\")\n",
    "                                else:                  \n",
    "                                    dfpl['isBreakOutFinal'] = np.nan\n",
    "                                    print(\"h3\")\n",
    "\n",
    "                                k=k+1\n",
    "                                print(\"h4\")\n",
    "                                \n",
    "                        \n",
    "                    else:\n",
    "                        dfpl['isBreakOutIni'] = np.nan                  \n",
    "                        dfpl['breakpointpos'] = np.nan\n",
    "            \n",
    "                    if cnt>0:\n",
    "                        #INSERT CASO\n",
    "                        caso=caso+1                            \n",
    "                        dfpl[\"caso\"] = caso\n",
    "                        print(i, df['companyName'][i])\n",
    "                        if len(df_casos)<1:\n",
    "                            df_casos = dfpl\n",
    "                        else:\n",
    "                            df_casos = pd.concat([df_casos, dfpl],ignore_index=False)\n"
   ]
  },
  {
   "cell_type": "code",
   "execution_count": 13,
   "id": "ee8cbb39-d190-488e-9acb-32cb2094acbb",
   "metadata": {
    "execution": {
     "iopub.execute_input": "2025-06-11T16:24:19.450507Z",
     "iopub.status.busy": "2025-06-11T16:24:19.450036Z",
     "iopub.status.idle": "2025-06-11T16:24:21.977186Z",
     "shell.execute_reply": "2025-06-11T16:24:21.976563Z"
    },
    "papermill": {
     "duration": 2.557516,
     "end_time": "2025-06-11T16:24:21.978332",
     "exception": false,
     "start_time": "2025-06-11T16:24:19.420816",
     "status": "completed"
    },
    "tags": []
   },
   "outputs": [],
   "source": [
    "#descarga de informacion, estrategia: RUPTURA DEL CANAL BAJISTA\n",
    "#path = r'C:\\Users\\carlo\\OneDrive\\Documentos\\TRADER\\traderapp\\data\\rcb_h.txt'\n",
    "path='data/rca_h.txt'\n",
    "\n",
    "# check whether the file exists\n",
    "if os.path.exists(path):\n",
    "    # delete the file\n",
    "    os.remove(path)\n",
    "else:\n",
    "    # if the file does not exist.\n",
    "    print(\"File does not exists. File needs to be created.\")\n",
    "\n",
    "#export DataFrame to text file\n",
    "with open(path, 'a') as f:\n",
    "    #df_string = appl_hor3.to_string(header=True, index=False, sep ='\\t')\n",
    "    df_casos.to_csv(path, header=True, index=None, sep='\\t', mode='w')\n",
    "    #f.write(df_string)"
   ]
  },
  {
   "cell_type": "markdown",
   "id": "2f3b1b22-7ae9-4f2e-b42e-a9064f2cbf09",
   "metadata": {
    "papermill": {
     "duration": 0.026702,
     "end_time": "2025-06-11T16:24:22.032942",
     "exception": false,
     "start_time": "2025-06-11T16:24:22.006240",
     "status": "completed"
    },
    "tags": []
   },
   "source": [
    "### BACKTESTING\n",
    "### Usando paquete backtesting.py"
   ]
  },
  {
   "cell_type": "code",
   "execution_count": 14,
   "id": "fb317fbb-f021-461f-a8c0-40463b42ed3e",
   "metadata": {
    "execution": {
     "iopub.execute_input": "2025-06-11T16:24:22.105486Z",
     "iopub.status.busy": "2025-06-11T16:24:22.105017Z",
     "iopub.status.idle": "2025-06-11T16:24:22.115750Z",
     "shell.execute_reply": "2025-06-11T16:24:22.115258Z"
    },
    "papermill": {
     "duration": 0.056614,
     "end_time": "2025-06-11T16:24:22.116650",
     "exception": false,
     "start_time": "2025-06-11T16:24:22.060036",
     "status": "completed"
    },
    "tags": []
   },
   "outputs": [],
   "source": [
    "df_casos2 = df_casos.query(\"isBreakOutIni==1 or isBreakOutFinal==1\").copy()"
   ]
  },
  {
   "cell_type": "code",
   "execution_count": 15,
   "id": "b8ad35c1-1c5e-438c-9fd9-20bf3feeee2c",
   "metadata": {
    "execution": {
     "iopub.execute_input": "2025-06-11T16:24:22.173030Z",
     "iopub.status.busy": "2025-06-11T16:24:22.172542Z",
     "iopub.status.idle": "2025-06-11T16:24:22.202850Z",
     "shell.execute_reply": "2025-06-11T16:24:22.202310Z"
    },
    "papermill": {
     "duration": 0.05965,
     "end_time": "2025-06-11T16:24:22.204005",
     "exception": false,
     "start_time": "2025-06-11T16:24:22.144355",
     "status": "completed"
    },
    "tags": []
   },
   "outputs": [],
   "source": [
    "# =============== BACKTESTING ================= #\n",
    "# obteniendo dataframe backtesting\n",
    "df_backTesting = pd.merge(df, df_casos2[['datetime','companyName', 'isBreakOutIni','isBreakOutFinal','caso']], on = ['companyName','datetime'], how='left')\n",
    "# datos de trade se asigna una vela anterior debido a que backtesting.py toma entra como la siguiente vela\n",
    "df_backTesting['isBreakOutIni'] = df_backTesting['isBreakOutIni'].shift(-1)\n",
    "df_backTesting['isBreakOutFinal'] = df_backTesting['isBreakOutFinal'].shift(-1)\n",
    "#modificamos indice con el compo datetime\n",
    "df_backTesting.set_index('datetime', inplace=True)"
   ]
  },
  {
   "cell_type": "code",
   "execution_count": 16,
   "id": "843cce1a-a09b-471c-a83c-3ba51e7a8658",
   "metadata": {
    "execution": {
     "iopub.execute_input": "2025-06-11T16:24:22.265773Z",
     "iopub.status.busy": "2025-06-11T16:24:22.265331Z",
     "iopub.status.idle": "2025-06-11T16:24:22.269244Z",
     "shell.execute_reply": "2025-06-11T16:24:22.268774Z"
    },
    "papermill": {
     "duration": 0.038264,
     "end_time": "2025-06-11T16:24:22.270116",
     "exception": false,
     "start_time": "2025-06-11T16:24:22.231852",
     "status": "completed"
    },
    "tags": []
   },
   "outputs": [],
   "source": [
    "#Strategia\n",
    "class strategyRupturaCanal(Strategy):    \n",
    "    def init(self):        \n",
    "        self.breakout_entry = self.I(lambda x: x, self.data.isBreakOutIni) #Indica la señal entrada al backtesting\n",
    "        self.breakout_exit = self.I(lambda x: x, self.data.isBreakOutFinal) #Indica la señal salida al backtesting\n",
    "\n",
    "    def next(self):       \n",
    "        #print(self.data)        \n",
    "        if self.breakout_entry[-1] == 1:\n",
    "            self.sell()  #COMPRA\n",
    "        elif self.breakout_exit[-1] == 1 and self.position:\n",
    "            self.position.close() #CIERRE"
   ]
  },
  {
   "cell_type": "code",
   "execution_count": 17,
   "id": "f6fd5f99-505d-4813-ad34-fb872cc5def8",
   "metadata": {
    "execution": {
     "iopub.execute_input": "2025-06-11T16:24:22.326385Z",
     "iopub.status.busy": "2025-06-11T16:24:22.325922Z",
     "iopub.status.idle": "2025-06-11T16:24:24.353288Z",
     "shell.execute_reply": "2025-06-11T16:24:24.352746Z"
    },
    "papermill": {
     "duration": 2.056593,
     "end_time": "2025-06-11T16:24:24.354400",
     "exception": false,
     "start_time": "2025-06-11T16:24:22.297807",
     "status": "completed"
    },
    "tags": []
   },
   "outputs": [
    {
     "name": "stderr",
     "output_type": "stream",
     "text": [
      "\r",
      "Backtest.run:   0%|          | 0/3360 [00:00<?, ?bar/s]"
     ]
    },
    {
     "name": "stderr",
     "output_type": "stream",
     "text": [
      "\r",
      "                                                       "
     ]
    },
    {
     "name": "stderr",
     "output_type": "stream",
     "text": [
      "\r"
     ]
    },
    {
     "name": "stderr",
     "output_type": "stream",
     "text": [
      "\r",
      "Backtest.run:   0%|          | 0/3216 [00:00<?, ?bar/s]"
     ]
    },
    {
     "name": "stderr",
     "output_type": "stream",
     "text": [
      "/usr/share/miniconda/envs/test/lib/python3.10/site-packages/backtesting/backtesting.py:954: UserWarning: time=452: Broker canceled the relative-sized order due to insufficient margin.\n",
      "  warnings.warn(\n",
      "/usr/share/miniconda/envs/test/lib/python3.10/site-packages/backtesting/backtesting.py:954: UserWarning: time=1778: Broker canceled the relative-sized order due to insufficient margin.\n",
      "  warnings.warn(\n",
      "/usr/share/miniconda/envs/test/lib/python3.10/site-packages/backtesting/backtesting.py:954: UserWarning: time=2929: Broker canceled the relative-sized order due to insufficient margin.\n",
      "  warnings.warn(\n",
      "\r",
      "                                                       "
     ]
    },
    {
     "name": "stderr",
     "output_type": "stream",
     "text": [
      "\r"
     ]
    },
    {
     "name": "stderr",
     "output_type": "stream",
     "text": [
      "\r",
      "Backtest.run:   0%|          | 0/3406 [00:00<?, ?bar/s]"
     ]
    },
    {
     "name": "stderr",
     "output_type": "stream",
     "text": [
      "\r",
      "                                                       "
     ]
    },
    {
     "name": "stderr",
     "output_type": "stream",
     "text": [
      "\r"
     ]
    },
    {
     "name": "stderr",
     "output_type": "stream",
     "text": [
      "\r",
      "Backtest.run:   0%|          | 0/3469 [00:00<?, ?bar/s]"
     ]
    },
    {
     "name": "stderr",
     "output_type": "stream",
     "text": [
      "\r",
      "                                                       "
     ]
    },
    {
     "name": "stderr",
     "output_type": "stream",
     "text": [
      "\r"
     ]
    },
    {
     "name": "stderr",
     "output_type": "stream",
     "text": [
      "\r",
      "Backtest.run:   0%|          | 0/3353 [00:00<?, ?bar/s]"
     ]
    },
    {
     "name": "stderr",
     "output_type": "stream",
     "text": [
      "/usr/share/miniconda/envs/test/lib/python3.10/site-packages/backtesting/backtesting.py:954: UserWarning: time=816: Broker canceled the relative-sized order due to insufficient margin.\n",
      "  warnings.warn(\n",
      "/usr/share/miniconda/envs/test/lib/python3.10/site-packages/backtesting/backtesting.py:954: UserWarning: time=1263: Broker canceled the relative-sized order due to insufficient margin.\n",
      "  warnings.warn(\n"
     ]
    },
    {
     "name": "stderr",
     "output_type": "stream",
     "text": [
      "\r",
      "                                                       "
     ]
    },
    {
     "name": "stderr",
     "output_type": "stream",
     "text": [
      "\r"
     ]
    },
    {
     "name": "stderr",
     "output_type": "stream",
     "text": [
      "\r",
      "Backtest.run:   0%|          | 0/3227 [00:00<?, ?bar/s]"
     ]
    },
    {
     "name": "stderr",
     "output_type": "stream",
     "text": [
      "\r",
      "                                                       "
     ]
    },
    {
     "name": "stderr",
     "output_type": "stream",
     "text": [
      "\r"
     ]
    },
    {
     "name": "stderr",
     "output_type": "stream",
     "text": [
      "\r",
      "Backtest.run:   0%|          | 0/3354 [00:00<?, ?bar/s]"
     ]
    },
    {
     "name": "stderr",
     "output_type": "stream",
     "text": [
      "\r",
      "                                                       "
     ]
    },
    {
     "name": "stderr",
     "output_type": "stream",
     "text": [
      "\r"
     ]
    },
    {
     "name": "stderr",
     "output_type": "stream",
     "text": [
      "\r",
      "Backtest.run:   0%|          | 0/3355 [00:00<?, ?bar/s]"
     ]
    },
    {
     "name": "stderr",
     "output_type": "stream",
     "text": [
      "/usr/share/miniconda/envs/test/lib/python3.10/site-packages/backtesting/backtesting.py:954: UserWarning: time=3213: Broker canceled the relative-sized order due to insufficient margin.\n",
      "  warnings.warn(\n",
      "\r",
      "                                                       "
     ]
    },
    {
     "name": "stderr",
     "output_type": "stream",
     "text": [
      "\r"
     ]
    },
    {
     "name": "stderr",
     "output_type": "stream",
     "text": [
      "\r",
      "Backtest.run:   0%|          | 0/3134 [00:00<?, ?bar/s]"
     ]
    },
    {
     "name": "stderr",
     "output_type": "stream",
     "text": [
      "/usr/share/miniconda/envs/test/lib/python3.10/site-packages/backtesting/backtesting.py:954: UserWarning: time=2128: Broker canceled the relative-sized order due to insufficient margin.\n",
      "  warnings.warn(\n"
     ]
    },
    {
     "name": "stderr",
     "output_type": "stream",
     "text": [
      "\r",
      "                                                       "
     ]
    },
    {
     "name": "stderr",
     "output_type": "stream",
     "text": [
      "\r"
     ]
    },
    {
     "name": "stderr",
     "output_type": "stream",
     "text": [
      "\r",
      "Backtest.run:   0%|          | 0/3352 [00:00<?, ?bar/s]"
     ]
    },
    {
     "name": "stderr",
     "output_type": "stream",
     "text": [
      "/usr/share/miniconda/envs/test/lib/python3.10/site-packages/backtesting/backtesting.py:954: UserWarning: time=2946: Broker canceled the relative-sized order due to insufficient margin.\n",
      "  warnings.warn(\n",
      "\r",
      "                                                       "
     ]
    },
    {
     "name": "stderr",
     "output_type": "stream",
     "text": [
      "\r"
     ]
    },
    {
     "name": "stderr",
     "output_type": "stream",
     "text": [
      "\r",
      "Backtest.run:   0%|          | 0/3228 [00:00<?, ?bar/s]"
     ]
    },
    {
     "name": "stderr",
     "output_type": "stream",
     "text": [
      "/usr/share/miniconda/envs/test/lib/python3.10/site-packages/backtesting/backtesting.py:954: UserWarning: time=1215: Broker canceled the relative-sized order due to insufficient margin.\n",
      "  warnings.warn(\n"
     ]
    },
    {
     "name": "stderr",
     "output_type": "stream",
     "text": [
      "\r",
      "                                                       "
     ]
    },
    {
     "name": "stderr",
     "output_type": "stream",
     "text": [
      "\r"
     ]
    },
    {
     "name": "stderr",
     "output_type": "stream",
     "text": [
      "\r",
      "Backtest.run:   0%|          | 0/2884 [00:00<?, ?bar/s]"
     ]
    },
    {
     "name": "stderr",
     "output_type": "stream",
     "text": [
      "\r",
      "                                                       "
     ]
    },
    {
     "name": "stderr",
     "output_type": "stream",
     "text": [
      "\r"
     ]
    },
    {
     "name": "stderr",
     "output_type": "stream",
     "text": [
      "\r",
      "Backtest.run:   0%|          | 0/3179 [00:00<?, ?bar/s]"
     ]
    },
    {
     "name": "stderr",
     "output_type": "stream",
     "text": [
      "\r",
      "                                                       "
     ]
    },
    {
     "name": "stderr",
     "output_type": "stream",
     "text": [
      "\r"
     ]
    },
    {
     "name": "stderr",
     "output_type": "stream",
     "text": [
      "\r",
      "Backtest.run:   0%|          | 0/3430 [00:00<?, ?bar/s]"
     ]
    },
    {
     "name": "stderr",
     "output_type": "stream",
     "text": [
      "/usr/share/miniconda/envs/test/lib/python3.10/site-packages/backtesting/backtesting.py:954: UserWarning: time=1427: Broker canceled the relative-sized order due to insufficient margin.\n",
      "  warnings.warn(\n",
      "/usr/share/miniconda/envs/test/lib/python3.10/site-packages/backtesting/backtesting.py:954: UserWarning: time=1457: Broker canceled the relative-sized order due to insufficient margin.\n",
      "  warnings.warn(\n"
     ]
    },
    {
     "name": "stderr",
     "output_type": "stream",
     "text": [
      "\r",
      "                                                       "
     ]
    },
    {
     "name": "stderr",
     "output_type": "stream",
     "text": [
      "\r"
     ]
    },
    {
     "name": "stderr",
     "output_type": "stream",
     "text": [
      "\r",
      "Backtest.run:   0%|          | 0/3341 [00:00<?, ?bar/s]"
     ]
    },
    {
     "name": "stderr",
     "output_type": "stream",
     "text": [
      "\r",
      "                                                       "
     ]
    },
    {
     "name": "stderr",
     "output_type": "stream",
     "text": [
      "\r"
     ]
    },
    {
     "name": "stderr",
     "output_type": "stream",
     "text": [
      "\r",
      "Backtest.run:   0%|          | 0/3410 [00:00<?, ?bar/s]"
     ]
    },
    {
     "name": "stderr",
     "output_type": "stream",
     "text": [
      "/usr/share/miniconda/envs/test/lib/python3.10/site-packages/backtesting/backtesting.py:954: UserWarning: time=1824: Broker canceled the relative-sized order due to insufficient margin.\n",
      "  warnings.warn(\n"
     ]
    },
    {
     "name": "stderr",
     "output_type": "stream",
     "text": [
      "\r",
      "                                                       "
     ]
    },
    {
     "name": "stderr",
     "output_type": "stream",
     "text": [
      "\r"
     ]
    },
    {
     "name": "stderr",
     "output_type": "stream",
     "text": [
      "\r",
      "Backtest.run:   0%|          | 0/3350 [00:00<?, ?bar/s]"
     ]
    },
    {
     "name": "stderr",
     "output_type": "stream",
     "text": [
      "/usr/share/miniconda/envs/test/lib/python3.10/site-packages/backtesting/backtesting.py:954: UserWarning: time=3360: Broker canceled the relative-sized order due to insufficient margin.\n",
      "  warnings.warn(\n",
      "/usr/share/miniconda/envs/test/lib/python3.10/site-packages/backtesting/backtesting.py:954: UserWarning: time=3387: Broker canceled the relative-sized order due to insufficient margin.\n",
      "  warnings.warn(\n",
      "\r",
      "                                                       "
     ]
    },
    {
     "name": "stderr",
     "output_type": "stream",
     "text": [
      "\r"
     ]
    },
    {
     "name": "stderr",
     "output_type": "stream",
     "text": [
      "\r",
      "Backtest.run:   0%|          | 0/3452 [00:00<?, ?bar/s]"
     ]
    },
    {
     "name": "stderr",
     "output_type": "stream",
     "text": [
      "\r",
      "                                                       "
     ]
    },
    {
     "name": "stderr",
     "output_type": "stream",
     "text": [
      "\r"
     ]
    },
    {
     "name": "stderr",
     "output_type": "stream",
     "text": [
      "\r",
      "Backtest.run:   0%|          | 0/3294 [00:00<?, ?bar/s]"
     ]
    },
    {
     "name": "stderr",
     "output_type": "stream",
     "text": [
      "/usr/share/miniconda/envs/test/lib/python3.10/site-packages/backtesting/backtesting.py:954: UserWarning: time=3267: Broker canceled the relative-sized order due to insufficient margin.\n",
      "  warnings.warn(\n",
      "\r",
      "                                                       "
     ]
    },
    {
     "name": "stderr",
     "output_type": "stream",
     "text": [
      "\r"
     ]
    },
    {
     "name": "stderr",
     "output_type": "stream",
     "text": [
      "\r",
      "Backtest.run:   0%|          | 0/3023 [00:00<?, ?bar/s]"
     ]
    },
    {
     "name": "stderr",
     "output_type": "stream",
     "text": [
      "/usr/share/miniconda/envs/test/lib/python3.10/site-packages/backtesting/backtesting.py:954: UserWarning: time=2111: Broker canceled the relative-sized order due to insufficient margin.\n",
      "  warnings.warn(\n"
     ]
    },
    {
     "name": "stderr",
     "output_type": "stream",
     "text": [
      "\r",
      "                                                       "
     ]
    },
    {
     "name": "stderr",
     "output_type": "stream",
     "text": [
      "\r"
     ]
    },
    {
     "name": "stderr",
     "output_type": "stream",
     "text": [
      "\r",
      "Backtest.run:   0%|          | 0/3346 [00:00<?, ?bar/s]"
     ]
    },
    {
     "name": "stderr",
     "output_type": "stream",
     "text": [
      "\r",
      "                                                       "
     ]
    },
    {
     "name": "stderr",
     "output_type": "stream",
     "text": [
      "\r"
     ]
    },
    {
     "name": "stderr",
     "output_type": "stream",
     "text": [
      "\r",
      "Backtest.run:   0%|          | 0/3096 [00:00<?, ?bar/s]"
     ]
    },
    {
     "name": "stderr",
     "output_type": "stream",
     "text": [
      "\r",
      "                                                       "
     ]
    },
    {
     "name": "stderr",
     "output_type": "stream",
     "text": [
      "\r"
     ]
    },
    {
     "name": "stderr",
     "output_type": "stream",
     "text": [
      "\r",
      "Backtest.run:   0%|          | 0/3428 [00:00<?, ?bar/s]"
     ]
    },
    {
     "name": "stderr",
     "output_type": "stream",
     "text": [
      "/usr/share/miniconda/envs/test/lib/python3.10/site-packages/backtesting/backtesting.py:954: UserWarning: time=609: Broker canceled the relative-sized order due to insufficient margin.\n",
      "  warnings.warn(\n",
      "/usr/share/miniconda/envs/test/lib/python3.10/site-packages/backtesting/backtesting.py:954: UserWarning: time=2519: Broker canceled the relative-sized order due to insufficient margin.\n",
      "  warnings.warn(\n",
      "\r",
      "                                                       "
     ]
    },
    {
     "name": "stderr",
     "output_type": "stream",
     "text": [
      "\r"
     ]
    },
    {
     "name": "stderr",
     "output_type": "stream",
     "text": [
      "\r",
      "Backtest.run:   0%|          | 0/3122 [00:00<?, ?bar/s]"
     ]
    },
    {
     "name": "stderr",
     "output_type": "stream",
     "text": [
      "\r",
      "                                                       "
     ]
    },
    {
     "name": "stderr",
     "output_type": "stream",
     "text": [
      "\r"
     ]
    },
    {
     "name": "stderr",
     "output_type": "stream",
     "text": [
      "\r",
      "Backtest.run:   0%|          | 0/3408 [00:00<?, ?bar/s]"
     ]
    },
    {
     "name": "stderr",
     "output_type": "stream",
     "text": [
      "\r",
      "                                                       "
     ]
    },
    {
     "name": "stderr",
     "output_type": "stream",
     "text": [
      "\r"
     ]
    },
    {
     "name": "stderr",
     "output_type": "stream",
     "text": [
      "\r",
      "Backtest.run:   0%|          | 0/3429 [00:00<?, ?bar/s]"
     ]
    },
    {
     "name": "stderr",
     "output_type": "stream",
     "text": [
      "\r",
      "                                                       "
     ]
    },
    {
     "name": "stderr",
     "output_type": "stream",
     "text": [
      "\r"
     ]
    },
    {
     "name": "stderr",
     "output_type": "stream",
     "text": [
      "\r",
      "Backtest.run:   0%|          | 0/2649 [00:00<?, ?bar/s]"
     ]
    },
    {
     "name": "stderr",
     "output_type": "stream",
     "text": [
      "/usr/share/miniconda/envs/test/lib/python3.10/site-packages/backtesting/backtesting.py:954: UserWarning: time=2610: Broker canceled the relative-sized order due to insufficient margin.\n",
      "  warnings.warn(\n",
      "\r",
      "                                                       "
     ]
    },
    {
     "name": "stderr",
     "output_type": "stream",
     "text": [
      "\r"
     ]
    },
    {
     "name": "stderr",
     "output_type": "stream",
     "text": [
      "\r",
      "Backtest.run:   0%|          | 0/108 [00:00<?, ?bar/s]"
     ]
    },
    {
     "name": "stderr",
     "output_type": "stream",
     "text": [
      "\r",
      "                                                      "
     ]
    },
    {
     "name": "stderr",
     "output_type": "stream",
     "text": [
      "\r"
     ]
    },
    {
     "name": "stderr",
     "output_type": "stream",
     "text": [
      "/tmp/ipykernel_2161/2801041912.py:34: FutureWarning: The behavior of DataFrame concatenation with empty or all-NA entries is deprecated. In a future version, this will no longer exclude empty or all-NA columns when determining the result dtypes. To retain the old behavior, exclude the relevant entries before the concat operation.\n",
      "  tradesprev = pd.concat([tradesprev, tradesdf],ignore_index=True)\n",
      "/tmp/ipykernel_2161/2801041912.py:35: FutureWarning: The behavior of DataFrame concatenation with empty or all-NA entries is deprecated. In a future version, this will no longer exclude empty or all-NA columns when determining the result dtypes. To retain the old behavior, exclude the relevant entries before the concat operation.\n",
      "  estadisticas=pd.concat([estadisticas, stat],ignore_index=True)\n"
     ]
    },
    {
     "name": "stderr",
     "output_type": "stream",
     "text": [
      "\r",
      "Backtest.run:   0%|          | 0/3347 [00:00<?, ?bar/s]"
     ]
    },
    {
     "name": "stderr",
     "output_type": "stream",
     "text": [
      "/usr/share/miniconda/envs/test/lib/python3.10/site-packages/backtesting/backtesting.py:954: UserWarning: time=1330: Broker canceled the relative-sized order due to insufficient margin.\n",
      "  warnings.warn(\n",
      "\r",
      "                                                       "
     ]
    },
    {
     "name": "stderr",
     "output_type": "stream",
     "text": [
      "\r"
     ]
    },
    {
     "name": "stderr",
     "output_type": "stream",
     "text": [
      "\r",
      "Backtest.run:   0%|          | 0/2831 [00:00<?, ?bar/s]"
     ]
    },
    {
     "name": "stderr",
     "output_type": "stream",
     "text": [
      "/usr/share/miniconda/envs/test/lib/python3.10/site-packages/backtesting/backtesting.py:954: UserWarning: time=1198: Broker canceled the relative-sized order due to insufficient margin.\n",
      "  warnings.warn(\n"
     ]
    },
    {
     "name": "stderr",
     "output_type": "stream",
     "text": [
      "/usr/share/miniconda/envs/test/lib/python3.10/site-packages/backtesting/backtesting.py:954: UserWarning: time=3519: Broker canceled the relative-sized order due to insufficient margin.\n",
      "  warnings.warn(\n",
      "\r",
      "                                                       "
     ]
    },
    {
     "name": "stderr",
     "output_type": "stream",
     "text": [
      "\r"
     ]
    },
    {
     "name": "stderr",
     "output_type": "stream",
     "text": [
      "\r",
      "Backtest.run:   0%|          | 0/3099 [00:00<?, ?bar/s]"
     ]
    },
    {
     "name": "stderr",
     "output_type": "stream",
     "text": [
      "/usr/share/miniconda/envs/test/lib/python3.10/site-packages/backtesting/backtesting.py:954: UserWarning: time=940: Broker canceled the relative-sized order due to insufficient margin.\n",
      "  warnings.warn(\n",
      "/usr/share/miniconda/envs/test/lib/python3.10/site-packages/backtesting/backtesting.py:954: UserWarning: time=1101: Broker canceled the relative-sized order due to insufficient margin.\n",
      "  warnings.warn(\n"
     ]
    },
    {
     "name": "stderr",
     "output_type": "stream",
     "text": [
      "\r",
      "                                                       "
     ]
    },
    {
     "name": "stderr",
     "output_type": "stream",
     "text": [
      "\r"
     ]
    },
    {
     "name": "stderr",
     "output_type": "stream",
     "text": [
      "\r",
      "Backtest.run:   0%|          | 0/3297 [00:00<?, ?bar/s]"
     ]
    },
    {
     "name": "stderr",
     "output_type": "stream",
     "text": [
      "/usr/share/miniconda/envs/test/lib/python3.10/site-packages/backtesting/backtesting.py:954: UserWarning: time=1456: Broker canceled the relative-sized order due to insufficient margin.\n",
      "  warnings.warn(\n",
      "/usr/share/miniconda/envs/test/lib/python3.10/site-packages/backtesting/backtesting.py:954: UserWarning: time=2428: Broker canceled the relative-sized order due to insufficient margin.\n",
      "  warnings.warn(\n"
     ]
    },
    {
     "name": "stderr",
     "output_type": "stream",
     "text": [
      "\r",
      "                                                       "
     ]
    },
    {
     "name": "stderr",
     "output_type": "stream",
     "text": [
      "\r"
     ]
    },
    {
     "name": "stderr",
     "output_type": "stream",
     "text": [
      "\r",
      "Backtest.run:   0%|          | 0/3355 [00:00<?, ?bar/s]"
     ]
    },
    {
     "name": "stderr",
     "output_type": "stream",
     "text": [
      "/usr/share/miniconda/envs/test/lib/python3.10/site-packages/backtesting/backtesting.py:954: UserWarning: time=872: Broker canceled the relative-sized order due to insufficient margin.\n",
      "  warnings.warn(\n",
      "/usr/share/miniconda/envs/test/lib/python3.10/site-packages/backtesting/backtesting.py:954: UserWarning: time=1235: Broker canceled the relative-sized order due to insufficient margin.\n",
      "  warnings.warn(\n"
     ]
    },
    {
     "name": "stderr",
     "output_type": "stream",
     "text": [
      "\r",
      "                                                       "
     ]
    },
    {
     "name": "stderr",
     "output_type": "stream",
     "text": [
      "\r"
     ]
    }
   ],
   "source": [
    "# Por cada TIcket\n",
    "my_stats = {}\n",
    "estadisticas = pd.DataFrame()          # lista para ticker\n",
    "tradesprev = pd.DataFrame()     # lista para cada caso por ticker\n",
    "for ticker in df_backTesting['companyName'].unique():\n",
    "    ticker_data = df_backTesting[df_backTesting['companyName'] == ticker].copy() #Filtro por cada ticker\n",
    "    bt = Backtest(ticker_data, strategyRupturaCanal, cash=10_000)\n",
    "    my_stats = bt.run()\n",
    "    listTrades = my_stats['_trades']\n",
    "    tradesdf = pd.DataFrame(listTrades) #trades\n",
    "    tradesdf['Ticker'] = ticker\n",
    "    stats_filter={\n",
    "        'Ticker':ticker,\n",
    "        'EntryTime':my_stats['Start'],\n",
    "        'ExitTime':my_stats['End'],\n",
    "        'Return [%]': my_stats['Return [%]'],\n",
    "        'CAGR [%]': my_stats['Return (Ann.) [%]'],\n",
    "        'Sharpe Ratio': my_stats['Sharpe Ratio'],\n",
    "        'Max. Drawdown [%]': my_stats['Max. Drawdown [%]'],\n",
    "        'Win Rate [%]': my_stats['Win Rate [%]'],\n",
    "        '# Trades': my_stats['# Trades'],\n",
    "        'Expectancy [%]': my_stats['Expectancy [%]'],\n",
    "        'Profit Factor': my_stats['Profit Factor'],\n",
    "        'Duration': my_stats['Duration'],\n",
    "        'Avg. Trade [%]':my_stats['Avg. Trade [%]'],\n",
    "        'Max. Trade Duration':my_stats['Max. Trade Duration'],\n",
    "        'Avg. Trade Duration':my_stats['Avg. Trade Duration']\n",
    "    }\n",
    "    stat=pd.DataFrame([stats_filter])\n",
    "    if tradesprev.shape[0]==0:\n",
    "        tradesprev = tradesdf.copy()\n",
    "        estadisticas=stat.copy()\n",
    "    else:\n",
    "        tradesprev = pd.concat([tradesprev, tradesdf],ignore_index=True)\n",
    "        estadisticas=pd.concat([estadisticas, stat],ignore_index=True)\n",
    "    # Mostramos\n",
    "    #bt.plot(resample=False, filename=f\"plot_BreakOUT_{ticker}\")"
   ]
  },
  {
   "cell_type": "code",
   "execution_count": 18,
   "id": "ebdac24e-07d0-4923-b11b-c35831321046",
   "metadata": {
    "execution": {
     "iopub.execute_input": "2025-06-11T16:24:24.419259Z",
     "iopub.status.busy": "2025-06-11T16:24:24.418790Z",
     "iopub.status.idle": "2025-06-11T16:24:24.425683Z",
     "shell.execute_reply": "2025-06-11T16:24:24.425100Z"
    },
    "papermill": {
     "duration": 0.039996,
     "end_time": "2025-06-11T16:24:24.426572",
     "exception": false,
     "start_time": "2025-06-11T16:24:24.386576",
     "status": "completed"
    },
    "tags": []
   },
   "outputs": [],
   "source": [
    "ini = df_casos2[(df_casos2['isBreakOutIni']==1)].copy()\n",
    "df_casos3_ini=ini.rename(columns={'Open': 'EntryPrice', 'datetime': 'EntryTime', 'companyName': 'Ticker'})[['EntryPrice','Ticker','caso','EntryTime']]\n",
    "final = df_casos2[(df_casos2['isBreakOutFinal']==1)].copy()\n",
    "df_casos3_final=final.rename(columns={'Open': 'ExitPrice', 'datetime': 'ExitTime', 'companyName': 'Ticker'})[['ExitPrice','Ticker','caso','ExitTime']]"
   ]
  },
  {
   "cell_type": "code",
   "execution_count": 19,
   "id": "8fbb81d3",
   "metadata": {
    "execution": {
     "iopub.execute_input": "2025-06-11T16:24:24.491510Z",
     "iopub.status.busy": "2025-06-11T16:24:24.491048Z",
     "iopub.status.idle": "2025-06-11T16:24:24.496678Z",
     "shell.execute_reply": "2025-06-11T16:24:24.496191Z"
    },
    "papermill": {
     "duration": 0.039182,
     "end_time": "2025-06-11T16:24:24.497548",
     "exception": false,
     "start_time": "2025-06-11T16:24:24.458366",
     "status": "completed"
    },
    "tags": []
   },
   "outputs": [],
   "source": [
    "df_casos3=df_casos3_ini.merge(df_casos3_final,on=['Ticker','caso'],how='outer')"
   ]
  },
  {
   "cell_type": "code",
   "execution_count": 20,
   "id": "3b0668a0",
   "metadata": {
    "execution": {
     "iopub.execute_input": "2025-06-11T16:24:24.561778Z",
     "iopub.status.busy": "2025-06-11T16:24:24.561267Z",
     "iopub.status.idle": "2025-06-11T16:24:24.567819Z",
     "shell.execute_reply": "2025-06-11T16:24:24.567201Z"
    },
    "papermill": {
     "duration": 0.039401,
     "end_time": "2025-06-11T16:24:24.568792",
     "exception": false,
     "start_time": "2025-06-11T16:24:24.529391",
     "status": "completed"
    },
    "tags": []
   },
   "outputs": [],
   "source": [
    "trades = pd.merge(df_casos3, tradesprev, on = ['EntryTime','Ticker'], how='left')"
   ]
  },
  {
   "cell_type": "code",
   "execution_count": 21,
   "id": "15ac2ccd",
   "metadata": {
    "execution": {
     "iopub.execute_input": "2025-06-11T16:24:24.633585Z",
     "iopub.status.busy": "2025-06-11T16:24:24.633044Z",
     "iopub.status.idle": "2025-06-11T16:24:24.644544Z",
     "shell.execute_reply": "2025-06-11T16:24:24.644025Z"
    },
    "papermill": {
     "duration": 0.04472,
     "end_time": "2025-06-11T16:24:24.645421",
     "exception": false,
     "start_time": "2025-06-11T16:24:24.600701",
     "status": "completed"
    },
    "tags": []
   },
   "outputs": [],
   "source": [
    "def exitPrice(x):\n",
    "    if pd.isna(x['ExitPrice_x']):\n",
    "        return x['ExitPrice_y']\n",
    "    else:\n",
    "        return x['ExitPrice_x']\n",
    "trades['ExitPrice'] = trades.apply(lambda row: exitPrice(row), axis=1)"
   ]
  },
  {
   "cell_type": "code",
   "execution_count": 22,
   "id": "6a76fb26",
   "metadata": {
    "execution": {
     "iopub.execute_input": "2025-06-11T16:24:24.709492Z",
     "iopub.status.busy": "2025-06-11T16:24:24.709004Z",
     "iopub.status.idle": "2025-06-11T16:24:24.713581Z",
     "shell.execute_reply": "2025-06-11T16:24:24.713081Z"
    },
    "papermill": {
     "duration": 0.03718,
     "end_time": "2025-06-11T16:24:24.714422",
     "exception": false,
     "start_time": "2025-06-11T16:24:24.677242",
     "status": "completed"
    },
    "tags": []
   },
   "outputs": [],
   "source": [
    "trades = trades.rename(columns={'EntryPrice_x': 'EntryPrice'})\n",
    "trades = trades.drop(['EntryPrice_y','ExitPrice_x', 'ExitPrice_y'], axis=1)"
   ]
  },
  {
   "cell_type": "code",
   "execution_count": 23,
   "id": "b2ae9041",
   "metadata": {
    "execution": {
     "iopub.execute_input": "2025-06-11T16:24:24.779151Z",
     "iopub.status.busy": "2025-06-11T16:24:24.778673Z",
     "iopub.status.idle": "2025-06-11T16:24:24.789044Z",
     "shell.execute_reply": "2025-06-11T16:24:24.788516Z"
    },
    "papermill": {
     "duration": 0.043727,
     "end_time": "2025-06-11T16:24:24.789948",
     "exception": false,
     "start_time": "2025-06-11T16:24:24.746221",
     "status": "completed"
    },
    "tags": []
   },
   "outputs": [],
   "source": [
    "def exitTime(x):\n",
    "    if pd.isna(x['ExitTime_x']):\n",
    "        return x['ExitTime_y']\n",
    "    else:\n",
    "        return x['ExitTime_x']\n",
    "trades['ExitTime'] = trades.apply(lambda row: exitTime(row), axis=1)"
   ]
  },
  {
   "cell_type": "code",
   "execution_count": 24,
   "id": "193cdbfe",
   "metadata": {
    "execution": {
     "iopub.execute_input": "2025-06-11T16:24:24.854222Z",
     "iopub.status.busy": "2025-06-11T16:24:24.853806Z",
     "iopub.status.idle": "2025-06-11T16:24:24.865457Z",
     "shell.execute_reply": "2025-06-11T16:24:24.864913Z"
    },
    "papermill": {
     "duration": 0.044788,
     "end_time": "2025-06-11T16:24:24.866363",
     "exception": false,
     "start_time": "2025-06-11T16:24:24.821575",
     "status": "completed"
    },
    "tags": []
   },
   "outputs": [],
   "source": [
    "def duration(x):\n",
    "    if pd.isna(x['Duration']):\n",
    "        if pd.isna(x['ExitTime']):\n",
    "            return pd.NaT\n",
    "        else:\n",
    "            return x['ExitTime']-x['EntryTime']\n",
    "    else:\n",
    "        return x['Duration']\n",
    "trades['Duration'] = trades.apply(lambda row: duration(row), axis=1)"
   ]
  },
  {
   "cell_type": "code",
   "execution_count": 25,
   "id": "c032ed19",
   "metadata": {
    "execution": {
     "iopub.execute_input": "2025-06-11T16:24:24.931129Z",
     "iopub.status.busy": "2025-06-11T16:24:24.930548Z",
     "iopub.status.idle": "2025-06-11T16:24:24.934621Z",
     "shell.execute_reply": "2025-06-11T16:24:24.934030Z"
    },
    "papermill": {
     "duration": 0.037162,
     "end_time": "2025-06-11T16:24:24.935539",
     "exception": false,
     "start_time": "2025-06-11T16:24:24.898377",
     "status": "completed"
    },
    "tags": []
   },
   "outputs": [],
   "source": [
    "trades = trades.drop(['ExitTime_x', 'ExitTime_y'], axis=1)"
   ]
  },
  {
   "cell_type": "code",
   "execution_count": 26,
   "id": "881ca541",
   "metadata": {
    "execution": {
     "iopub.execute_input": "2025-06-11T16:24:24.998659Z",
     "iopub.status.busy": "2025-06-11T16:24:24.998418Z",
     "iopub.status.idle": "2025-06-11T16:24:25.002487Z",
     "shell.execute_reply": "2025-06-11T16:24:25.001984Z"
    },
    "papermill": {
     "duration": 0.036634,
     "end_time": "2025-06-11T16:24:25.003349",
     "exception": false,
     "start_time": "2025-06-11T16:24:24.966715",
     "status": "completed"
    },
    "tags": []
   },
   "outputs": [],
   "source": [
    "trades=trades[['Ticker','EntryTime','ExitTime','EntryPrice','ExitPrice','Duration','Size','EntryBar','ExitBar','ReturnPct','PnL','caso']]"
   ]
  },
  {
   "cell_type": "code",
   "execution_count": 27,
   "id": "a72c8a0d",
   "metadata": {
    "execution": {
     "iopub.execute_input": "2025-06-11T16:24:25.067381Z",
     "iopub.status.busy": "2025-06-11T16:24:25.066871Z",
     "iopub.status.idle": "2025-06-11T16:24:25.091708Z",
     "shell.execute_reply": "2025-06-11T16:24:25.091201Z"
    },
    "papermill": {
     "duration": 0.057409,
     "end_time": "2025-06-11T16:24:25.092562",
     "exception": false,
     "start_time": "2025-06-11T16:24:25.035153",
     "status": "completed"
    },
    "tags": []
   },
   "outputs": [],
   "source": [
    "for item in estadisticas['Ticker'].unique():\n",
    "    count = trades[trades[\"Ticker\"] == item].shape[0]\n",
    "    estadisticas.loc[estadisticas['Ticker'] == item, '# Trades'] = count"
   ]
  },
  {
   "cell_type": "code",
   "execution_count": 28,
   "id": "eda2a7ba",
   "metadata": {
    "execution": {
     "iopub.execute_input": "2025-06-11T16:24:25.157382Z",
     "iopub.status.busy": "2025-06-11T16:24:25.156816Z",
     "iopub.status.idle": "2025-06-11T16:24:25.176893Z",
     "shell.execute_reply": "2025-06-11T16:24:25.176271Z"
    },
    "papermill": {
     "duration": 0.0535,
     "end_time": "2025-06-11T16:24:25.177983",
     "exception": false,
     "start_time": "2025-06-11T16:24:25.124483",
     "status": "completed"
    },
    "tags": []
   },
   "outputs": [],
   "source": [
    "#EXPORTACION DE DATAFRAME\n",
    "path = 'data/backtesting'\n",
    "\n",
    "# Asegurarse de que el directorio existe\n",
    "os.makedirs(path, exist_ok=True)\n",
    "\n",
    "path_trades = os.path.join(path, 'trades_rca_h.csv')\n",
    "path_estadisticas = os.path.join(path, 'estadisticas_rca_h.csv')\n",
    "\n",
    "for file_path in [path_trades, path_estadisticas]:\n",
    "    if os.path.exists(file_path):\n",
    "        os.remove(file_path)\n",
    "    else:\n",
    "        print(f\"File does not exist: {file_path}. It will be created.\")\n",
    "\n",
    "trades.to_csv(path_trades, header=True, index=False, sep='\\t', mode='w')\n",
    "estadisticas.to_csv(path_estadisticas, header=True, index=False, sep='\\t', mode='w')\n"
   ]
  }
 ],
 "metadata": {
  "kernelspec": {
   "display_name": "Python [conda env:base] *",
   "language": "python",
   "name": "conda-base-py"
  },
  "language_info": {
   "codemirror_mode": {
    "name": "ipython",
    "version": 3
   },
   "file_extension": ".py",
   "mimetype": "text/x-python",
   "name": "python",
   "nbconvert_exporter": "python",
   "pygments_lexer": "ipython3",
   "version": "3.10.18"
  },
  "papermill": {
   "default_parameters": {},
   "duration": 217.148593,
   "end_time": "2025-06-11T16:24:25.726762",
   "environment_variables": {},
   "exception": null,
   "input_path": "BreakOut_alcista.ipynb",
   "output_path": "output/BreakOut_alcista.ipynb",
   "parameters": {},
   "start_time": "2025-06-11T16:20:48.578169",
   "version": "2.6.0"
  }
 },
 "nbformat": 4,
 "nbformat_minor": 5
}