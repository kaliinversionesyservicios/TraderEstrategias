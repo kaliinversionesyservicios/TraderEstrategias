{
 "cells": [
  {
   "cell_type": "markdown",
   "id": "42b70f4b-a8b2-4a6a-958a-5dcd1cd8e77c",
   "metadata": {
    "papermill": {
     "duration": 0.004647,
     "end_time": "2025-06-11T17:42:30.547759",
     "exception": false,
     "start_time": "2025-06-11T17:42:30.543112",
     "status": "completed"
    },
    "tags": []
   },
   "source": [
    "### PISO FUERTE"
   ]
  },
  {
   "cell_type": "code",
   "execution_count": 1,
   "id": "c69d35c1-2cc9-4aa8-80c7-eb3b83120eab",
   "metadata": {
    "execution": {
     "iopub.execute_input": "2025-06-11T17:42:30.557119Z",
     "iopub.status.busy": "2025-06-11T17:42:30.556581Z",
     "iopub.status.idle": "2025-06-11T17:42:31.775164Z",
     "shell.execute_reply": "2025-06-11T17:42:31.774661Z"
    },
    "papermill": {
     "duration": 1.22427,
     "end_time": "2025-06-11T17:42:31.776161",
     "exception": false,
     "start_time": "2025-06-11T17:42:30.551891",
     "status": "completed"
    },
    "tags": []
   },
   "outputs": [
    {
     "name": "stderr",
     "output_type": "stream",
     "text": [
      "/usr/share/miniconda/envs/test/lib/python3.10/site-packages/tqdm/auto.py:21: TqdmWarning: IProgress not found. Please update jupyter and ipywidgets. See https://ipywidgets.readthedocs.io/en/stable/user_install.html\n",
      "  from .autonotebook import tqdm as notebook_tqdm\n",
      "/usr/share/miniconda/envs/test/lib/python3.10/site-packages/backtesting/_plotting.py:55: UserWarning: Jupyter Notebook detected. Setting Bokeh output to notebook. This may not work in Jupyter clients without JavaScript support, such as old IDEs. Reset with `backtesting.set_bokeh_output(notebook=False)`.\n",
      "  warnings.warn('Jupyter Notebook detected. '\n"
     ]
    },
    {
     "data": {
      "text/html": [
       "    <style>\n",
       "        .bk-notebook-logo {\n",
       "            display: block;\n",
       "            width: 20px;\n",
       "            height: 20px;\n",
       "            background-image: url(data:image/png;base64,iVBORw0KGgoAAAANSUhEUgAAABQAAAAUCAYAAACNiR0NAAAABHNCSVQICAgIfAhkiAAAAAlwSFlzAAALEgAACxIB0t1+/AAAABx0RVh0U29mdHdhcmUAQWRvYmUgRmlyZXdvcmtzIENTNui8sowAAAOkSURBVDiNjZRtaJVlGMd/1/08zzln5zjP1LWcU9N0NkN8m2CYjpgQYQXqSs0I84OLIC0hkEKoPtiH3gmKoiJDU7QpLgoLjLIQCpEsNJ1vqUOdO7ppbuec5+V+rj4ctwzd8IIbbi6u+8f1539dt3A78eXC7QizUF7gyV1fD1Yqg4JWz84yffhm0qkFqBogB9rM8tZdtwVsPUhWhGcFJngGeWrPzHm5oaMmkfEg1usvLFyc8jLRqDOMru7AyC8saQr7GG7f5fvDeH7Ej8CM66nIF+8yngt6HWaKh7k49Soy9nXurCi1o3qUbS3zWfrYeQDTB/Qj6kX6Ybhw4B+bOYoLKCC9H3Nu/leUTZ1JdRWkkn2ldcCamzrcf47KKXdAJllSlxAOkRgyHsGC/zRday5Qld9DyoM4/q/rUoy/CXh3jzOu3bHUVZeU+DEn8FInkPBFlu3+nW3Nw0mk6vCDiWg8CeJaxEwuHS3+z5RgY+YBR6V1Z1nxSOfoaPa4LASWxxdNp+VWTk7+4vzaou8v8PN+xo+KY2xsw6une2frhw05CTYOmQvsEhjhWjn0bmXPjpE1+kplmmkP3suftwTubK9Vq22qKmrBhpY4jvd5afdRA3wGjFAgcnTK2s4hY0/GPNIb0nErGMCRxWOOX64Z8RAC4oCXdklmEvcL8o0BfkNK4lUg9HTl+oPlQxdNo3Mg4Nv175e/1LDGzZen30MEjRUtmXSfiTVu1kK8W4txyV6BMKlbgk3lMwYCiusNy9fVfvvwMxv8Ynl6vxoByANLTWplvuj/nF9m2+PDtt1eiHPBr1oIfhCChQMBw6Aw0UulqTKZdfVvfG7VcfIqLG9bcldL/+pdWTLxLUy8Qq38heUIjh4XlzZxzQm19lLFlr8vdQ97rjZVOLf8nclzckbcD4wxXMidpX30sFd37Fv/GtwwhzhxGVAprjbg0gCAEeIgwCZyTV2Z1REEW8O4py0wsjeloKoMr6iCY6dP92H6Vw/oTyICIthibxjm/DfN9lVz8IqtqKYLUXfoKVMVQVVJOElGjrnnUt9T9wbgp8AyYKaGlqingHZU/uG2NTZSVqwHQTWkx9hxjkpWDaCg6Ckj5qebgBVbT3V3NNXMSiWSDdGV3hrtzla7J+duwPOToIg42ChPQOQjspnSlp1V+Gjdged7+8UN5CRAV7a5EdFNwCjEaBR27b3W890TE7g24NAP/mMDXRWrGoFPQI9ls/MWO2dWFAar/xcOIImbbpA3zgAAAABJRU5ErkJggg==);\n",
       "        }\n",
       "    </style>\n",
       "    <div>\n",
       "        <a href=\"https://bokeh.org\" target=\"_blank\" class=\"bk-notebook-logo\"></a>\n",
       "        <span id=\"fe10702f-a813-426e-ab2d-32793db26d94\">Loading BokehJS ...</span>\n",
       "    </div>\n"
      ]
     },
     "metadata": {},
     "output_type": "display_data"
    },
    {
     "data": {
      "application/javascript": [
       "'use strict';\n",
       "(function(root) {\n",
       "  function now() {\n",
       "    return new Date();\n",
       "  }\n",
       "\n",
       "  const force = true;\n",
       "\n",
       "  if (typeof root._bokeh_onload_callbacks === \"undefined\" || force === true) {\n",
       "    root._bokeh_onload_callbacks = [];\n",
       "    root._bokeh_is_loading = undefined;\n",
       "  }\n",
       "\n",
       "const JS_MIME_TYPE = 'application/javascript';\n",
       "  const HTML_MIME_TYPE = 'text/html';\n",
       "  const EXEC_MIME_TYPE = 'application/vnd.bokehjs_exec.v0+json';\n",
       "  const CLASS_NAME = 'output_bokeh rendered_html';\n",
       "\n",
       "  /**\n",
       "   * Render data to the DOM node\n",
       "   */\n",
       "  function render(props, node) {\n",
       "    const script = document.createElement(\"script\");\n",
       "    node.appendChild(script);\n",
       "  }\n",
       "\n",
       "  /**\n",
       "   * Handle when an output is cleared or removed\n",
       "   */\n",
       "  function handleClearOutput(event, handle) {\n",
       "    function drop(id) {\n",
       "      const view = Bokeh.index.get_by_id(id)\n",
       "      if (view != null) {\n",
       "        view.model.document.clear()\n",
       "        Bokeh.index.delete(view)\n",
       "      }\n",
       "    }\n",
       "\n",
       "    const cell = handle.cell;\n",
       "\n",
       "    const id = cell.output_area._bokeh_element_id;\n",
       "    const server_id = cell.output_area._bokeh_server_id;\n",
       "\n",
       "    // Clean up Bokeh references\n",
       "    if (id != null) {\n",
       "      drop(id)\n",
       "    }\n",
       "\n",
       "    if (server_id !== undefined) {\n",
       "      // Clean up Bokeh references\n",
       "      const cmd_clean = \"from bokeh.io.state import curstate; print(curstate().uuid_to_server['\" + server_id + \"'].get_sessions()[0].document.roots[0]._id)\";\n",
       "      cell.notebook.kernel.execute(cmd_clean, {\n",
       "        iopub: {\n",
       "          output: function(msg) {\n",
       "            const id = msg.content.text.trim()\n",
       "            drop(id)\n",
       "          }\n",
       "        }\n",
       "      });\n",
       "      // Destroy server and session\n",
       "      const cmd_destroy = \"import bokeh.io.notebook as ion; ion.destroy_server('\" + server_id + \"')\";\n",
       "      cell.notebook.kernel.execute(cmd_destroy);\n",
       "    }\n",
       "  }\n",
       "\n",
       "  /**\n",
       "   * Handle when a new output is added\n",
       "   */\n",
       "  function handleAddOutput(event, handle) {\n",
       "    const output_area = handle.output_area;\n",
       "    const output = handle.output;\n",
       "\n",
       "    // limit handleAddOutput to display_data with EXEC_MIME_TYPE content only\n",
       "    if ((output.output_type != \"display_data\") || (!Object.prototype.hasOwnProperty.call(output.data, EXEC_MIME_TYPE))) {\n",
       "      return\n",
       "    }\n",
       "\n",
       "    const toinsert = output_area.element.find(\".\" + CLASS_NAME.split(' ')[0]);\n",
       "\n",
       "    if (output.metadata[EXEC_MIME_TYPE][\"id\"] !== undefined) {\n",
       "      toinsert[toinsert.length - 1].firstChild.textContent = output.data[JS_MIME_TYPE];\n",
       "      // store reference to embed id on output_area\n",
       "      output_area._bokeh_element_id = output.metadata[EXEC_MIME_TYPE][\"id\"];\n",
       "    }\n",
       "    if (output.metadata[EXEC_MIME_TYPE][\"server_id\"] !== undefined) {\n",
       "      const bk_div = document.createElement(\"div\");\n",
       "      bk_div.innerHTML = output.data[HTML_MIME_TYPE];\n",
       "      const script_attrs = bk_div.children[0].attributes;\n",
       "      for (let i = 0; i < script_attrs.length; i++) {\n",
       "        toinsert[toinsert.length - 1].firstChild.setAttribute(script_attrs[i].name, script_attrs[i].value);\n",
       "        toinsert[toinsert.length - 1].firstChild.textContent = bk_div.children[0].textContent\n",
       "      }\n",
       "      // store reference to server id on output_area\n",
       "      output_area._bokeh_server_id = output.metadata[EXEC_MIME_TYPE][\"server_id\"];\n",
       "    }\n",
       "  }\n",
       "\n",
       "  function register_renderer(events, OutputArea) {\n",
       "\n",
       "    function append_mime(data, metadata, element) {\n",
       "      // create a DOM node to render to\n",
       "      const toinsert = this.create_output_subarea(\n",
       "        metadata,\n",
       "        CLASS_NAME,\n",
       "        EXEC_MIME_TYPE\n",
       "      );\n",
       "      this.keyboard_manager.register_events(toinsert);\n",
       "      // Render to node\n",
       "      const props = {data: data, metadata: metadata[EXEC_MIME_TYPE]};\n",
       "      render(props, toinsert[toinsert.length - 1]);\n",
       "      element.append(toinsert);\n",
       "      return toinsert\n",
       "    }\n",
       "\n",
       "    /* Handle when an output is cleared or removed */\n",
       "    events.on('clear_output.CodeCell', handleClearOutput);\n",
       "    events.on('delete.Cell', handleClearOutput);\n",
       "\n",
       "    /* Handle when a new output is added */\n",
       "    events.on('output_added.OutputArea', handleAddOutput);\n",
       "\n",
       "    /**\n",
       "     * Register the mime type and append_mime function with output_area\n",
       "     */\n",
       "    OutputArea.prototype.register_mime_type(EXEC_MIME_TYPE, append_mime, {\n",
       "      /* Is output safe? */\n",
       "      safe: true,\n",
       "      /* Index of renderer in `output_area.display_order` */\n",
       "      index: 0\n",
       "    });\n",
       "  }\n",
       "\n",
       "  // register the mime type if in Jupyter Notebook environment and previously unregistered\n",
       "  if (root.Jupyter !== undefined) {\n",
       "    const events = require('base/js/events');\n",
       "    const OutputArea = require('notebook/js/outputarea').OutputArea;\n",
       "\n",
       "    if (OutputArea.prototype.mime_types().indexOf(EXEC_MIME_TYPE) == -1) {\n",
       "      register_renderer(events, OutputArea);\n",
       "    }\n",
       "  }\n",
       "  if (typeof (root._bokeh_timeout) === \"undefined\" || force === true) {\n",
       "    root._bokeh_timeout = Date.now() + 5000;\n",
       "    root._bokeh_failed_load = false;\n",
       "  }\n",
       "\n",
       "  const NB_LOAD_WARNING = {'data': {'text/html':\n",
       "     \"<div style='background-color: #fdd'>\\n\"+\n",
       "     \"<p>\\n\"+\n",
       "     \"BokehJS does not appear to have successfully loaded. If loading BokehJS from CDN, this \\n\"+\n",
       "     \"may be due to a slow or bad network connection. Possible fixes:\\n\"+\n",
       "     \"</p>\\n\"+\n",
       "     \"<ul>\\n\"+\n",
       "     \"<li>re-rerun `output_notebook()` to attempt to load from CDN again, or</li>\\n\"+\n",
       "     \"<li>use INLINE resources instead, as so:</li>\\n\"+\n",
       "     \"</ul>\\n\"+\n",
       "     \"<code>\\n\"+\n",
       "     \"from bokeh.resources import INLINE\\n\"+\n",
       "     \"output_notebook(resources=INLINE)\\n\"+\n",
       "     \"</code>\\n\"+\n",
       "     \"</div>\"}};\n",
       "\n",
       "  function display_loaded(error = null) {\n",
       "    const el = document.getElementById(\"fe10702f-a813-426e-ab2d-32793db26d94\");\n",
       "    if (el != null) {\n",
       "      const html = (() => {\n",
       "        if (typeof root.Bokeh === \"undefined\") {\n",
       "          if (error == null) {\n",
       "            return \"BokehJS is loading ...\";\n",
       "          } else {\n",
       "            return \"BokehJS failed to load.\";\n",
       "          }\n",
       "        } else {\n",
       "          const prefix = `BokehJS ${root.Bokeh.version}`;\n",
       "          if (error == null) {\n",
       "            return `${prefix} successfully loaded.`;\n",
       "          } else {\n",
       "            return `${prefix} <b>encountered errors</b> while loading and may not function as expected.`;\n",
       "          }\n",
       "        }\n",
       "      })();\n",
       "      el.innerHTML = html;\n",
       "\n",
       "      if (error != null) {\n",
       "        const wrapper = document.createElement(\"div\");\n",
       "        wrapper.style.overflow = \"auto\";\n",
       "        wrapper.style.height = \"5em\";\n",
       "        wrapper.style.resize = \"vertical\";\n",
       "        const content = document.createElement(\"div\");\n",
       "        content.style.fontFamily = \"monospace\";\n",
       "        content.style.whiteSpace = \"pre-wrap\";\n",
       "        content.style.backgroundColor = \"rgb(255, 221, 221)\";\n",
       "        content.textContent = error.stack ?? error.toString();\n",
       "        wrapper.append(content);\n",
       "        el.append(wrapper);\n",
       "      }\n",
       "    } else if (Date.now() < root._bokeh_timeout) {\n",
       "      setTimeout(() => display_loaded(error), 100);\n",
       "    }\n",
       "  }\n",
       "\n",
       "  function run_callbacks() {\n",
       "    try {\n",
       "      root._bokeh_onload_callbacks.forEach(function(callback) {\n",
       "        if (callback != null)\n",
       "          callback();\n",
       "      });\n",
       "    } finally {\n",
       "      delete root._bokeh_onload_callbacks\n",
       "    }\n",
       "    console.debug(\"Bokeh: all callbacks have finished\");\n",
       "  }\n",
       "\n",
       "  function load_libs(css_urls, js_urls, callback) {\n",
       "    if (css_urls == null) css_urls = [];\n",
       "    if (js_urls == null) js_urls = [];\n",
       "\n",
       "    root._bokeh_onload_callbacks.push(callback);\n",
       "    if (root._bokeh_is_loading > 0) {\n",
       "      console.debug(\"Bokeh: BokehJS is being loaded, scheduling callback at\", now());\n",
       "      return null;\n",
       "    }\n",
       "    if (js_urls == null || js_urls.length === 0) {\n",
       "      run_callbacks();\n",
       "      return null;\n",
       "    }\n",
       "    console.debug(\"Bokeh: BokehJS not loaded, scheduling load and callback at\", now());\n",
       "    root._bokeh_is_loading = css_urls.length + js_urls.length;\n",
       "\n",
       "    function on_load() {\n",
       "      root._bokeh_is_loading--;\n",
       "      if (root._bokeh_is_loading === 0) {\n",
       "        console.debug(\"Bokeh: all BokehJS libraries/stylesheets loaded\");\n",
       "        run_callbacks()\n",
       "      }\n",
       "    }\n",
       "\n",
       "    function on_error(url) {\n",
       "      console.error(\"failed to load \" + url);\n",
       "    }\n",
       "\n",
       "    for (let i = 0; i < css_urls.length; i++) {\n",
       "      const url = css_urls[i];\n",
       "      const element = document.createElement(\"link\");\n",
       "      element.onload = on_load;\n",
       "      element.onerror = on_error.bind(null, url);\n",
       "      element.rel = \"stylesheet\";\n",
       "      element.type = \"text/css\";\n",
       "      element.href = url;\n",
       "      console.debug(\"Bokeh: injecting link tag for BokehJS stylesheet: \", url);\n",
       "      document.body.appendChild(element);\n",
       "    }\n",
       "\n",
       "    for (let i = 0; i < js_urls.length; i++) {\n",
       "      const url = js_urls[i];\n",
       "      const element = document.createElement('script');\n",
       "      element.onload = on_load;\n",
       "      element.onerror = on_error.bind(null, url);\n",
       "      element.async = false;\n",
       "      element.src = url;\n",
       "      console.debug(\"Bokeh: injecting script tag for BokehJS library: \", url);\n",
       "      document.head.appendChild(element);\n",
       "    }\n",
       "  };\n",
       "\n",
       "  function inject_raw_css(css) {\n",
       "    const element = document.createElement(\"style\");\n",
       "    element.appendChild(document.createTextNode(css));\n",
       "    document.body.appendChild(element);\n",
       "  }\n",
       "\n",
       "  const js_urls = [\"https://cdn.bokeh.org/bokeh/release/bokeh-3.7.3.min.js\", \"https://cdn.bokeh.org/bokeh/release/bokeh-gl-3.7.3.min.js\", \"https://cdn.bokeh.org/bokeh/release/bokeh-widgets-3.7.3.min.js\", \"https://cdn.bokeh.org/bokeh/release/bokeh-tables-3.7.3.min.js\", \"https://cdn.bokeh.org/bokeh/release/bokeh-mathjax-3.7.3.min.js\"];\n",
       "  const css_urls = [];\n",
       "\n",
       "  const inline_js = [    function(Bokeh) {\n",
       "      Bokeh.set_log_level(\"info\");\n",
       "    },\n",
       "function(Bokeh) {\n",
       "    }\n",
       "  ];\n",
       "\n",
       "  function run_inline_js() {\n",
       "    if (root.Bokeh !== undefined || force === true) {\n",
       "      try {\n",
       "            for (let i = 0; i < inline_js.length; i++) {\n",
       "      inline_js[i].call(root, root.Bokeh);\n",
       "    }\n",
       "\n",
       "      } catch (error) {display_loaded(error);throw error;\n",
       "      }if (force === true) {\n",
       "        display_loaded();\n",
       "      }} else if (Date.now() < root._bokeh_timeout) {\n",
       "      setTimeout(run_inline_js, 100);\n",
       "    } else if (!root._bokeh_failed_load) {\n",
       "      console.log(\"Bokeh: BokehJS failed to load within specified timeout.\");\n",
       "      root._bokeh_failed_load = true;\n",
       "    } else if (force !== true) {\n",
       "      const cell = $(document.getElementById(\"fe10702f-a813-426e-ab2d-32793db26d94\")).parents('.cell').data().cell;\n",
       "      cell.output_area.append_execute_result(NB_LOAD_WARNING)\n",
       "    }\n",
       "  }\n",
       "\n",
       "  if (root._bokeh_is_loading === 0) {\n",
       "    console.debug(\"Bokeh: BokehJS loaded, going straight to plotting\");\n",
       "    run_inline_js();\n",
       "  } else {\n",
       "    load_libs(css_urls, js_urls, function() {\n",
       "      console.debug(\"Bokeh: BokehJS plotting callback run at\", now());\n",
       "      run_inline_js();\n",
       "    });\n",
       "  }\n",
       "}(window));"
      ],
      "application/vnd.bokehjs_load.v0+json": "'use strict';\n(function(root) {\n  function now() {\n    return new Date();\n  }\n\n  const force = true;\n\n  if (typeof root._bokeh_onload_callbacks === \"undefined\" || force === true) {\n    root._bokeh_onload_callbacks = [];\n    root._bokeh_is_loading = undefined;\n  }\n\n\n  if (typeof (root._bokeh_timeout) === \"undefined\" || force === true) {\n    root._bokeh_timeout = Date.now() + 5000;\n    root._bokeh_failed_load = false;\n  }\n\n  const NB_LOAD_WARNING = {'data': {'text/html':\n     \"<div style='background-color: #fdd'>\\n\"+\n     \"<p>\\n\"+\n     \"BokehJS does not appear to have successfully loaded. If loading BokehJS from CDN, this \\n\"+\n     \"may be due to a slow or bad network connection. Possible fixes:\\n\"+\n     \"</p>\\n\"+\n     \"<ul>\\n\"+\n     \"<li>re-rerun `output_notebook()` to attempt to load from CDN again, or</li>\\n\"+\n     \"<li>use INLINE resources instead, as so:</li>\\n\"+\n     \"</ul>\\n\"+\n     \"<code>\\n\"+\n     \"from bokeh.resources import INLINE\\n\"+\n     \"output_notebook(resources=INLINE)\\n\"+\n     \"</code>\\n\"+\n     \"</div>\"}};\n\n  function display_loaded(error = null) {\n    const el = document.getElementById(\"fe10702f-a813-426e-ab2d-32793db26d94\");\n    if (el != null) {\n      const html = (() => {\n        if (typeof root.Bokeh === \"undefined\") {\n          if (error == null) {\n            return \"BokehJS is loading ...\";\n          } else {\n            return \"BokehJS failed to load.\";\n          }\n        } else {\n          const prefix = `BokehJS ${root.Bokeh.version}`;\n          if (error == null) {\n            return `${prefix} successfully loaded.`;\n          } else {\n            return `${prefix} <b>encountered errors</b> while loading and may not function as expected.`;\n          }\n        }\n      })();\n      el.innerHTML = html;\n\n      if (error != null) {\n        const wrapper = document.createElement(\"div\");\n        wrapper.style.overflow = \"auto\";\n        wrapper.style.height = \"5em\";\n        wrapper.style.resize = \"vertical\";\n        const content = document.createElement(\"div\");\n        content.style.fontFamily = \"monospace\";\n        content.style.whiteSpace = \"pre-wrap\";\n        content.style.backgroundColor = \"rgb(255, 221, 221)\";\n        content.textContent = error.stack ?? error.toString();\n        wrapper.append(content);\n        el.append(wrapper);\n      }\n    } else if (Date.now() < root._bokeh_timeout) {\n      setTimeout(() => display_loaded(error), 100);\n    }\n  }\n\n  function run_callbacks() {\n    try {\n      root._bokeh_onload_callbacks.forEach(function(callback) {\n        if (callback != null)\n          callback();\n      });\n    } finally {\n      delete root._bokeh_onload_callbacks\n    }\n    console.debug(\"Bokeh: all callbacks have finished\");\n  }\n\n  function load_libs(css_urls, js_urls, callback) {\n    if (css_urls == null) css_urls = [];\n    if (js_urls == null) js_urls = [];\n\n    root._bokeh_onload_callbacks.push(callback);\n    if (root._bokeh_is_loading > 0) {\n      console.debug(\"Bokeh: BokehJS is being loaded, scheduling callback at\", now());\n      return null;\n    }\n    if (js_urls == null || js_urls.length === 0) {\n      run_callbacks();\n      return null;\n    }\n    console.debug(\"Bokeh: BokehJS not loaded, scheduling load and callback at\", now());\n    root._bokeh_is_loading = css_urls.length + js_urls.length;\n\n    function on_load() {\n      root._bokeh_is_loading--;\n      if (root._bokeh_is_loading === 0) {\n        console.debug(\"Bokeh: all BokehJS libraries/stylesheets loaded\");\n        run_callbacks()\n      }\n    }\n\n    function on_error(url) {\n      console.error(\"failed to load \" + url);\n    }\n\n    for (let i = 0; i < css_urls.length; i++) {\n      const url = css_urls[i];\n      const element = document.createElement(\"link\");\n      element.onload = on_load;\n      element.onerror = on_error.bind(null, url);\n      element.rel = \"stylesheet\";\n      element.type = \"text/css\";\n      element.href = url;\n      console.debug(\"Bokeh: injecting link tag for BokehJS stylesheet: \", url);\n      document.body.appendChild(element);\n    }\n\n    for (let i = 0; i < js_urls.length; i++) {\n      const url = js_urls[i];\n      const element = document.createElement('script');\n      element.onload = on_load;\n      element.onerror = on_error.bind(null, url);\n      element.async = false;\n      element.src = url;\n      console.debug(\"Bokeh: injecting script tag for BokehJS library: \", url);\n      document.head.appendChild(element);\n    }\n  };\n\n  function inject_raw_css(css) {\n    const element = document.createElement(\"style\");\n    element.appendChild(document.createTextNode(css));\n    document.body.appendChild(element);\n  }\n\n  const js_urls = [\"https://cdn.bokeh.org/bokeh/release/bokeh-3.7.3.min.js\", \"https://cdn.bokeh.org/bokeh/release/bokeh-gl-3.7.3.min.js\", \"https://cdn.bokeh.org/bokeh/release/bokeh-widgets-3.7.3.min.js\", \"https://cdn.bokeh.org/bokeh/release/bokeh-tables-3.7.3.min.js\", \"https://cdn.bokeh.org/bokeh/release/bokeh-mathjax-3.7.3.min.js\"];\n  const css_urls = [];\n\n  const inline_js = [    function(Bokeh) {\n      Bokeh.set_log_level(\"info\");\n    },\nfunction(Bokeh) {\n    }\n  ];\n\n  function run_inline_js() {\n    if (root.Bokeh !== undefined || force === true) {\n      try {\n            for (let i = 0; i < inline_js.length; i++) {\n      inline_js[i].call(root, root.Bokeh);\n    }\n\n      } catch (error) {display_loaded(error);throw error;\n      }if (force === true) {\n        display_loaded();\n      }} else if (Date.now() < root._bokeh_timeout) {\n      setTimeout(run_inline_js, 100);\n    } else if (!root._bokeh_failed_load) {\n      console.log(\"Bokeh: BokehJS failed to load within specified timeout.\");\n      root._bokeh_failed_load = true;\n    } else if (force !== true) {\n      const cell = $(document.getElementById(\"fe10702f-a813-426e-ab2d-32793db26d94\")).parents('.cell').data().cell;\n      cell.output_area.append_execute_result(NB_LOAD_WARNING)\n    }\n  }\n\n  if (root._bokeh_is_loading === 0) {\n    console.debug(\"Bokeh: BokehJS loaded, going straight to plotting\");\n    run_inline_js();\n  } else {\n    load_libs(css_urls, js_urls, function() {\n      console.debug(\"Bokeh: BokehJS plotting callback run at\", now());\n      run_inline_js();\n    });\n  }\n}(window));"
     },
     "metadata": {},
     "output_type": "display_data"
    }
   ],
   "source": [
    "import pandas as pd\n",
    "import numpy as np\n",
    "#import plotly.graph_objects as go\n",
    "import yfinance as yf\n",
    "import talib as ta\n",
    "#import matplotlib.pyplot as plt\n",
    "#import math\n",
    "from datetime import date, timedelta\n",
    "from scipy import stats\n",
    "from scipy.signal import argrelextrema\n",
    "from bokeh.plotting import figure, show, column\n",
    "from sklearn.linear_model import LinearRegression\n",
    "import os\n",
    "from backtesting import Backtest, Strategy"
   ]
  },
  {
   "cell_type": "code",
   "execution_count": 2,
   "id": "a046199b-ac4b-417e-945e-dc76d7dfda09",
   "metadata": {
    "execution": {
     "iopub.execute_input": "2025-06-11T17:42:31.786172Z",
     "iopub.status.busy": "2025-06-11T17:42:31.785868Z",
     "iopub.status.idle": "2025-06-11T17:42:31.901466Z",
     "shell.execute_reply": "2025-06-11T17:42:31.900858Z"
    },
    "papermill": {
     "duration": 0.121725,
     "end_time": "2025-06-11T17:42:31.902604",
     "exception": false,
     "start_time": "2025-06-11T17:42:31.780879",
     "status": "completed"
    },
    "tags": []
   },
   "outputs": [],
   "source": [
    "df_d = pd.read_csv('data/dataxd.txt', sep=\"\\t\")\n",
    "df_h=pd.read_csv('data/dataxh.txt',sep='\\t')\n",
    "\n",
    "tickers = [\n",
    "    'SPY',\n",
    "    'META',\n",
    "    'AAPL',\n",
    "    'AMZN',\n",
    "    'NFLX',\n",
    "    'MRNA',\n",
    "    'TSLA',\n",
    "    'TNA',\n",
    "    'GLD',\n",
    "    'SLV',\n",
    "    'USO',\n",
    "    'BAC',\n",
    "    'CVX',\n",
    "    'XOM',\n",
    "    'QQQ',\n",
    "    'MSFT',\n",
    "    'NVDA',\n",
    "    'WMT',\n",
    "    'BA',\n",
    "    'DIS',\n",
    "    'CAT',\n",
    "    'IBM',\n",
    "    'WFC',\n",
    "    'PLTR',\n",
    "    'AMD',\n",
    "    'AVGO',\n",
    "    'HOOD',\n",
    "    'CRWV',\n",
    "    'MSTR',\n",
    "    'UNH',\n",
    "    'GOOG',\n",
    "    'APP',\n",
    "    'UBER'\n",
    "]"
   ]
  },
  {
   "cell_type": "code",
   "execution_count": 3,
   "id": "ed45af73-58d0-42dd-87bc-cc71a71ea72a",
   "metadata": {
    "execution": {
     "iopub.execute_input": "2025-06-11T17:42:31.912797Z",
     "iopub.status.busy": "2025-06-11T17:42:31.912593Z",
     "iopub.status.idle": "2025-06-11T17:42:32.112476Z",
     "shell.execute_reply": "2025-06-11T17:42:32.111754Z"
    },
    "papermill": {
     "duration": 0.206502,
     "end_time": "2025-06-11T17:42:32.114005",
     "exception": false,
     "start_time": "2025-06-11T17:42:31.907503",
     "status": "completed"
    },
    "tags": []
   },
   "outputs": [],
   "source": [
    "df_d=df_d.rename(columns={'datetime': 'fecha'})\n",
    "df_d['fecha'] = pd.to_datetime(df_d['fecha'])\n",
    "df_dia = pd.DataFrame()\n",
    "for ticker in tickers:\n",
    "    company = df_d.query(\"companyName==@ticker\").copy()\n",
    "    company.sort_values(by=['fecha'])\n",
    "    company['SMA20'] = company['Close'].rolling(20).mean()\n",
    "    company.dropna(inplace=False)\n",
    "    company['SMA40'] = company['Close'].rolling(40).mean()\n",
    "    company.dropna(inplace=False)\n",
    "    company['SMA100'] = company['Close'].rolling(100).mean()\n",
    "    company.dropna(inplace=False)\n",
    "    company['SMA200'] = company['Close'].rolling(200).mean()\n",
    "    company.dropna(inplace=False)\n",
    "    df_dia = pd.concat([df_dia, company],ignore_index=True)"
   ]
  },
  {
   "cell_type": "code",
   "execution_count": 4,
   "id": "35daec33-1b08-4593-a4f8-6182e0c84683",
   "metadata": {
    "execution": {
     "iopub.execute_input": "2025-06-11T17:42:32.129141Z",
     "iopub.status.busy": "2025-06-11T17:42:32.128627Z",
     "iopub.status.idle": "2025-06-11T17:42:32.535719Z",
     "shell.execute_reply": "2025-06-11T17:42:32.535178Z"
    },
    "papermill": {
     "duration": 0.415817,
     "end_time": "2025-06-11T17:42:32.536937",
     "exception": false,
     "start_time": "2025-06-11T17:42:32.121120",
     "status": "completed"
    },
    "tags": []
   },
   "outputs": [],
   "source": [
    "df_h['datetime'] = pd.to_datetime(df_h['datetime'])\n",
    "df_h[\"fecha\"] = pd.to_datetime(df_h[\"datetime\"].dt.date)\n",
    "df_hora = pd.DataFrame()\n",
    "for ticker in tickers:\n",
    "    company = df_h.query(\"companyName==@ticker\").copy()\n",
    "    company.sort_values(by=['datetime'])\n",
    "    company['SMA20'] = company['Close'].rolling(20).mean()\n",
    "    company.dropna(inplace=False)\n",
    "    company['SMA40'] = company['Close'].rolling(40).mean()\n",
    "    company.dropna(inplace=False)\n",
    "    company['SMA100'] = company['Close'].rolling(100).mean()\n",
    "    company.dropna(inplace=False)\n",
    "    company['SMA200'] = company['Close'].rolling(200).mean()\n",
    "    company.dropna(inplace=False)\n",
    "    df_hora = pd.concat([df_hora, company],ignore_index=True)"
   ]
  },
  {
   "cell_type": "markdown",
   "id": "209deb1a-7d45-4219-973a-7ffb4799b6fb",
   "metadata": {
    "papermill": {
     "duration": 0.004462,
     "end_time": "2025-06-11T17:42:32.546320",
     "exception": false,
     "start_time": "2025-06-11T17:42:32.541858",
     "status": "completed"
    },
    "tags": []
   },
   "source": [
    "#### Detect Pivots/Fractals"
   ]
  },
  {
   "cell_type": "code",
   "execution_count": 5,
   "id": "9a310f39-0bd7-4343-8d3f-a1dfbd780e53",
   "metadata": {
    "execution": {
     "iopub.execute_input": "2025-06-11T17:42:32.555991Z",
     "iopub.status.busy": "2025-06-11T17:42:32.555749Z",
     "iopub.status.idle": "2025-06-11T17:42:32.607494Z",
     "shell.execute_reply": "2025-06-11T17:42:32.606966Z"
    },
    "papermill": {
     "duration": 0.057857,
     "end_time": "2025-06-11T17:42:32.608648",
     "exception": false,
     "start_time": "2025-06-11T17:42:32.550791",
     "status": "completed"
    },
    "tags": []
   },
   "outputs": [],
   "source": [
    "ord=17\n",
    "max_idx1 = argrelextrema(df_dia['Close'].values, np.greater, order=ord)[0]\n",
    "min_idx1 = argrelextrema(df_dia['Close'].values, np.less, order=ord)[0]\n",
    "# Aplicar el cálculo solo a los índices en la lista\n",
    "df_dia.loc[max_idx1, 'pivotHigh'] = df_dia['High']+1e-3\n",
    "df_dia.loc[min_idx1, 'pivotLow'] = df_dia['Low']-(1e-3)\n",
    "df_dia.loc[max_idx1, 'isPivot'] = 1\n",
    "df_dia.loc[min_idx1, 'isPivot'] = 2\n",
    "\n",
    "#HORA\n",
    "max_idx2 = argrelextrema(df_hora['Close'].values, np.greater, order=ord)[0]\n",
    "min_idx2 = argrelextrema(df_hora['Close'].values, np.less, order=ord)[0]\n",
    "# Aplicar el cálculo solo a los índices en la lista\n",
    "df_hora.loc[max_idx2, 'pivotHigh'] = df_hora['High']+1e-3\n",
    "df_hora.loc[min_idx2, 'pivotLow'] = df_hora['Low']-(1e-3)\n",
    "df_hora.loc[max_idx2, 'isPivot'] = 1\n",
    "df_hora.loc[min_idx2, 'isPivot'] = 2"
   ]
  },
  {
   "cell_type": "code",
   "execution_count": 6,
   "id": "f65fb96a-eb92-4fb7-8adf-a6104b87e42e",
   "metadata": {
    "execution": {
     "iopub.execute_input": "2025-06-11T17:42:32.619374Z",
     "iopub.status.busy": "2025-06-11T17:42:32.618741Z",
     "iopub.status.idle": "2025-06-11T17:42:32.774168Z",
     "shell.execute_reply": "2025-06-11T17:42:32.773594Z"
    },
    "papermill": {
     "duration": 0.161566,
     "end_time": "2025-06-11T17:42:32.775073",
     "exception": false,
     "start_time": "2025-06-11T17:42:32.613507",
     "status": "completed"
    },
    "tags": []
   },
   "outputs": [
    {
     "data": {
      "text/html": [
       "\n",
       "  <div id=\"e530319b-674b-497d-b3e8-f1eb5207fc58\" data-root-id=\"p1003\" style=\"display: contents;\"></div>\n"
      ]
     },
     "metadata": {},
     "output_type": "display_data"
    },
    {
     "data": {
      "application/javascript": [
       "(function(root) {\n",
       "  function embed_document(root) {\n",
       "  const docs_json = {\"fc284ae6-476b-4b2f-ae1a-52261a725489\":{\"version\":\"3.7.3\",\"title\":\"Bokeh Application\",\"roots\":[{\"type\":\"object\",\"name\":\"Figure\",\"id\":\"p1003\",\"attributes\":{\"width\":2500,\"height\":500,\"x_range\":{\"type\":\"object\",\"name\":\"DataRange1d\",\"id\":\"p1004\",\"attributes\":{\"range_padding\":0.05}},\"y_range\":{\"type\":\"object\",\"name\":\"DataRange1d\",\"id\":\"p1005\"},\"x_scale\":{\"type\":\"object\",\"name\":\"LinearScale\",\"id\":\"p1013\"},\"y_scale\":{\"type\":\"object\",\"name\":\"LinearScale\",\"id\":\"p1014\"},\"title\":{\"type\":\"object\",\"name\":\"Title\",\"id\":\"p1006\",\"attributes\":{\"text\":\"DIA\"}},\"renderers\":[{\"type\":\"object\",\"name\":\"GlyphRenderer\",\"id\":\"p1048\",\"attributes\":{\"data_source\":{\"type\":\"object\",\"name\":\"ColumnDataSource\",\"id\":\"p1039\",\"attributes\":{\"selected\":{\"type\":\"object\",\"name\":\"Selection\",\"id\":\"p1040\",\"attributes\":{\"indices\":[],\"line_indices\":[]}},\"selection_policy\":{\"type\":\"object\",\"name\":\"UnionRenderers\",\"id\":\"p1041\"},\"data\":{\"type\":\"map\",\"entries\":[[\"index\",{\"type\":\"ndarray\",\"array\":{\"type\":\"bytes\",\"data\":\"AAAAAAEAAAACAAAAAwAAAAQAAAAFAAAABgAAAAcAAAAIAAAACQAAAAoAAAALAAAADAAAAA0AAAAOAAAADwAAABAAAAARAAAAEgAAABMAAAAUAAAAFQAAABYAAAAXAAAAGAAAABkAAAAaAAAAGwAAABwAAAAdAAAAHgAAAB8AAAAgAAAAIQAAACIAAAAjAAAAJAAAACUAAAAmAAAAJwAAACgAAAApAAAAKgAAACsAAAAsAAAALQAAAC4AAAAvAAAAMAAAADEAAAAyAAAAMwAAADQAAAA1AAAANgAAADcAAAA4AAAAOQAAADoAAAA7AAAAPAAAAD0AAAA+AAAAPwAAAEAAAABBAAAAQgAAAEMAAABEAAAARQAAAEYAAABHAAAASAAAAEkAAABKAAAASwAAAEwAAABNAAAATgAAAE8AAABQAAAAUQAAAFIAAABTAAAAVAAAAFUAAABWAAAAVwAAAFgAAABZAAAAWgAAAFsAAABcAAAAXQAAAF4AAABfAAAAYAAAAGEAAABiAAAAYwAAAGQAAABlAAAAZgAAAGcAAABoAAAAaQAAAGoAAABrAAAAbAAAAG0AAABuAAAAbwAAAHAAAABxAAAAcgAAAHMAAAB0AAAAdQAAAHYAAAB3AAAAeAAAAHkAAAB6AAAAewAAAHwAAAB9AAAAfgAAAH8AAACAAAAAgQAAAIIAAACDAAAAhAAAAIUAAACGAAAAhwAAAIgAAACJAAAAigAAAIsAAACMAAAAjQAAAI4AAACPAAAAkAAAAJEAAACSAAAAkwAAAJQAAACVAAAA\"},\"shape\":[150],\"dtype\":\"int32\",\"order\":\"little\"}],[\"Close\",{\"type\":\"ndarray\",\"array\":{\"type\":\"bytes\",\"data\":\"AAAAgLpudkAAAACAbF12QAAAAEAMr3ZAAAAAYNvudUAAAADg9fp1QAEAAMCciHZAAAAAQCd+dkABAABAmbZ2QAAAAMB3b3dAAAAAAI1Yd0ABAADAbt52QAAAACCq2XZAAAAAACSqdkAAAADgged2QAAAAKCU8nZAAAAA4GsGd0AAAADgs153QAAAAADIWXdAAAAAgH4Vd0ABAABAM+F2QAAAAOBwwnZAAQAAwEq0dkAAAADgVSN3QAAAAGBt8nZAAQAAQCaRd0AAAACAmbd3QAAAAGBt9XdAAQAAQIW8d0AAAACA58N3QAAAAODse3dAAAAAoAgYeEAAAAAAZWV4QAAAAOBxwHhAAAAAYK6teEAAAAAgAIR4QAAAAKBH5nhAAAAAgPnheEABAABANdd4QAEAAEDTz3hAAAAAAJq2eEAAAABAfDt5QAAAAEB8O3lAAAAAgNaoeUAAAABA6MN5QAAAAIDT0HlAAAAAAOuheUAAAAAA/bR5QAAAAKCNXHlAAQAAwFzVeEABAABA+8V4QAAAAKBI2nhAAAAAYBo0eUAAAACgtFl4QAEAAMB8MHhAAAAA4IHsd0AAAADg5713QAAAACD60HdAAAAAwK+Qd0AAAAAA7Xl3QAEAAMDk5XdAAAAAoOENeEAAAADgi214QAAAAADCsHhAAAAAYOqdd0AAAAAg/LR3QAAAAAAVcHdAAAAA4E5Cd0AAAADAe3B3QAAAACCbK3dAAAAAACPEdkAAAACALpN2QAAAACBaMnZAAAAAoCP6dUAAAADgxut1QAAAACAyWnZAAAAAgKridUAAAAAgB4x1QAAAAGCoHXZAAAAAIBjNdkAAAAAggb92QAAAAABug3ZAAAAAgKridUAAAAAg47d1QAAAAECtlHVAAAAAIHSCdUAAAABgxhN2QAAAACD6knVAAAAA4OYgdkAAAABgdmN2QAAAAIDYOnZAAAAAYCALdkABAABAQ5R2QAAAAAD+2nZAAQAAwGw4d0AAAACAowt3QAAAAKAi7HZAAAAAwL13d0ABAADAWEx3QAAAACA/MndAAAAAQDiddkAAAAAAnGF2QAAAAIATtHZAAAAAIKzrdkAAAACAVAt3QAAAAIDKkXZAAAAAIE7Pd0AAAACATAp4QAEAAEDy1XdAAAAAYP0JeEAAAADgCtt3QAEAAEBbyHdAAAAA4P/jd0AAAACgws13QAAAAMDDH3hAAAAAoK5GeEAAAACASkV4QAAAAIAl4ndAAAAA4KTXd0AAAADg6Zd4QAAAAMBHk3hAAAAAwAWMeEABAABA+hp4QAEAAEAGwndAAAAAgK23d0ABAABAPud3QAAAAMCHuXdAAAAAoBcReEAAAACAuz94QAAAAAALGHhAAAAAoCmBd0AAAACAHzp3QAAAAKCzB3dAAAAA4MQPd0AAAADAC2h3QAAAAOCPEndAAAAA4Ik0d0AAAACAHB13QAAAACCT03ZAAQAAwMI8d0ABAABAFy13QAAAAAAdFHdAAAAAwLlBd0AAAAAAxv12QAAAAOC+hHdAAAAAIFWBd0AAAADgh6t3QAAAAMAr+HdAAAAAIIMOeEAAAABgZyZ4QAAAAGAUG3hA\"},\"shape\":[150],\"dtype\":\"float64\",\"order\":\"little\"}],[\"High\",{\"type\":\"ndarray\",\"array\":{\"type\":\"bytes\",\"data\":\"eHehNATXdkAfDatuwJt2QInse+oF93ZAtezwyo0wdkBrksxCGTF2QAVcPS4Rn3ZA8nwMub/AdkDxC1nucMJ2QNrbVymfb3dAfh8JSieDd0CAEzJ21p53QD7fsRdZ93ZA2Gi+OJbedkAVyRsfle52QCPtrnLj8nZAOG/Sl7cud0DWgy0yn2t3QLm0Yn4UeHdAxarJ6xg+d0DZCCUlLTN3QKoOI0D38XZAWZzxNtPFdkCL9w1VLiV3QA4UDqo9YHdA8jcRqGCad0C1RzIqhM53QGDpLjEy9ndAPbJXHM4KeECXmMMMv9F3QJuP1Q+urHdAEdY2QFU0eEBhzqcnn3B4QFFmdLRw0HhA4K5j6kjWeECWyStq+s94QKcFjG4y+XhA0xTBwB/weEAVvJCWquF4QMzF6/wIF3lA+YyUMyLMeECkfhTxyj15QPvpN13Fh3lAqi22i4eqeUDoleXWXcx5QDrB0TgM8HlAycadV8DNeUDVoVC+D8B5QK77ov6JjHlAzHGFggkReUC6UDHNMvV4QKSDeDtu8HhAgGYvMd80eUA4c08aBjt5QOCVXXbbYXhA3bKKpxhHeEAwp+btGxt4QGMvLX+D1ndALDO4cQcgeEBcQ8FImq13QJl94fRZ8ndAtkktdEMVeEA1fQ7Wint4QP1FymNyvHhAnSA1a7c3eEAUks/Vl813QPL9NtfmyXdA0z/IyPZMd0AAAADAe3B3QOgK6K30SndAeMfqYjh8d0Aigv6iMNJ2QEyCs9eVW3ZAG91CH0FVdkAuB10/MFh2QJ0HvryHdXZA2Px4b2EldkBb/koH2RJ2QBWGmSGeO3ZAcfV5uY7NdkBbk2zZGuR2QOGfkSet2HZAjYc3BtKEdkCoSCs1mPh1QOaq9C5f5nVAphyHgMy0dUCg8NfDjit2QPx9MpAGVnZAExGS7NAydkANdf9tLaZ2QILKk6yUbnZAKGjGqT57dkAa9w9xI5x2QA4K26Ve7XZAhyU4WIU9d0BIJ4XTgGF3QFLakAqpOXdAFbscfXZ/d0AsWHHgKm53QORtpyPmjHdAGjwUJbhxd0CdnPCa35J2QFwdqTj+2nZAiO0hQz/1dkD6Os5Ugzt3QA0XMmoM/nZAVpjH3bXUd0BNHCxoRRd4QAe97dYWJHhAdJmIsPtEeEBl+ORsBv93QLOudE5S03dACO2aD33/d0B+nxNyweB3QGmz8eRjInhAzf0R0Y5OeEDoDZ6VP054QFbHqITRLXhAsvk2e5z3d0AAAADg6Zd4QNbKmNe9u3hAg7ZRe7GaeECpetPOcW14QA93n7AnIXhAo1xaK/rdd0Dp7WMgivh3QL3SSNSN/HdAAAAAoBcReEAYfIIWT8N4QFjoEj0/dnhAhzHTJvTXd0DuKe+XeW13QBvRa+anQndAkLpZ8fwpd0D6r10/Wnp3QJI6DBm8Z3dAIwN9mN02d0BAtDrbQjh3QPxpbkH8O3dAxxE38+BKd0BH7nf4ai93QDfAZMwla3dAJlp1l51id0AEjqou8CN3QOHk2rzllndA8lb+j+/bd0BOdhbrnax3QMjyZIxp+XdAmwGztz8meEAGxuNgti94QGYj4K0+QXhA\"},\"shape\":[150],\"dtype\":\"float64\",\"order\":\"little\"}],[\"Low\",{\"type\":\"ndarray\",\"array\":{\"type\":\"bytes\",\"data\":\"rdUD07FUdkCl3WuxMSt2QOocHvefQnZAXsxJ/3/HdUCHybpVNcJ1QKlqfBl5VnZAiXY+HWc9dkAWs0B0FWd2QOD7KtyB6XZABXLQH91Gd0ANNvFKltx2QBJxpZEivHZAEpKnCAJidkD0ripSFHV2QDG66qg8Z3ZArFkCvUjOdkBUWql9ugZ3QPIBL618K3dAXX98OUQKd0BmrTyg5sR2QMQIT2JOgnZAS+fJfKFKdkDzHRqqvdx2QCIJDziW3nZAkIjPslUnd0Cfk2UFFH53QOPKH0ROh3dA04Jd+YeYd0DciDlmm593QB5wq8x3bXdAjT3xyIasd0Dt+C2Alet3QFk/kCQpcHhAHTzC+zqJeED6wCro7XB4QG0AKZPWoXhAK812613HeECM97fmr5t4QEgob/b7vXhA2l/L0zileED/oi9PMQl5QIFhYCh9L3lAqLtpCXtLeUBWdRl2FIR5QNg1PkZ0pXlAUJVKWHeBeUAuHkDJOpB5QC+EmEBnTnlAYUBLQ8DGeEAGleeLD714QFsomJM3t3hAH/uhIr7geEBIJ3llyFh4QINjHW9+GnhA31hid4TKd0AkkgK3wLt3QBfzHRvabndAbzePfE9zd0C5jwa571V3QHg1BApQcXdAsRvwEJqtd0DW+thg3y14QLYL1VMninhAVdh5YsSLd0AmIatDdn93QFA28QZ5W3dA4cAWVAcNd0Aks6AdHA53QP74VKP5/nZAJKQ2bfvDdkDMVMXKIod2QHcLredi6nVAjKWBLV/mdUBC1UGbA8V1QHiCMhO733VAJDUSRPKydUBm3Guz3Yl1QJkKKapgq3VAqlarfwoddkBCCrPUrmB2QKM3QR1me3ZAD01nihjGdUAhGlCMmJN1QLE3sLFTdXVALPmdLnB+dUABoaIx9f90QNRv+T2hiHVAcynvqJKNdUAOGoxBtit2QA9UWrFJDXZAMowxhcX+dUBbfARdP+51QMmYVu4JgnZAF5Btg+fXdkBAA868SgF3QOPzi8QY4nZAH4sCSYDndkBoW6cErT13QOKmxWxAH3dABSDjbIWbdkAACANGUz92QL+V2uMCUnZArWOnsmmndkDQW7yeO8l2QIbvU53CiXZA6zg1M4tDd0A8QapcoL53QEkdI7V30XdA6u+ddjfMd0Cq4KuQ2dB3QBM94BUKiXdAxCK1A9O1d0DoCE9x9K93QMhI/bpo1ndAs7X7PqcWeED9PPlWFzl4QF4QK6XK1XdAzcd2kta5d0Ael16Pnrx3QDfcnRWqanhAEmEOtFtCeEDOivtgDAV4QG3Daz40oHdAvNnu2Uyld0DRog1qYLl3QJMFUceFt3dACIJjVIm7d0Ac5TZw8hJ4QO9KpcRS6HdAarysnEpmd0Av8VzWhhd3QAP5FAa17HZAgY7bLAnmdkAhrN8iIDF3QEGJL51AtnZAyV3KSdTodkDAS8Uk9gF3QDZ/0/jZz3ZA/babXh75dkDBb7C4CO92QLmtwby55XZAJhpvX2QHd0A/rm+bJ/R2QKPR0uQ8/nZAR71doGJ+d0BrUeAmqmh3QD4y7kHxt3dAg6tpABTId0D8kTG9WdZ3QLUpsYwQEHhA\"},\"shape\":[150],\"dtype\":\"float64\",\"order\":\"little\"}],[\"Open\",{\"type\":\"ndarray\",\"array\":{\"type\":\"bytes\",\"data\":\"mpmwUAC5dkBBH3U+D4t2QLTUFqreknZAtW0KEPgpdkBIRjLqk/V1QAMhtCa0V3ZAc5WciStEdkB61l5YwqB2QHPzb/n36XZA90gKvGJ+d0B3wJQwxnF3QPnnEWJa53ZAOw3KSJuadkAi9sZRh592QKb6gt4RlXZAX75YSuP0dkCWbAaHLiN3QKsMo60/RHdAxfvx6Wgud0BCw4t5kgx3QBxBtc4SiXZAhAzGRChydkB3R0mQp/t2QB8lQzZSVXdAbO/pU/Ixd0B7/KS/OZR3QOuWwKM3rndAUlifMG33d0ApzJkvrMZ3QCtlotlLqXdAVzH3Vkuxd0CefkkZGyV4QCq+elmefHhA7ewm9sOUeEDOLkOoTZR4QHKEyrdzpnhAHR6K4wzleEDN0UAhnJx4QJpQmZiV8nhARnppb/vDeEAf51Yl4Ch5QMkqcCmgaXlA6hgzV9xaeUBv1aGwAIV5QLLetAGHsnlA5D/abomWeUC6OzF2JaV5QJgd6I07iHlAMX8ptEQOeUAthRK4cM54QFYc81FKwnhAu6i7Am7yeEBmaE7uQTJ5QNrK87zfKXhAR44SVEBDeECD8P8R9gZ4QOgYTnKvmndAv/dzs1cMeEBRWz1kYJ53QMLyyIrZdHdAX1nDhCLBd0AoZJPRLTJ4QJY5MUsTj3hAhCQf9y4keED4KJtB/LJ3QBvbxu3Cm3dABsYPAWEsd0A6RSZ2WA93QIohvwCWOndAYWalNc1Kd0AQCmCmoLd2QCtJcav3WnZAbpUL9JEadkAu5E/zbjN2QCv6uUI4+3VAy5ytcL8gdkCD1CosYNN1QCY2B6ZByHVAFqoVORN3dkAwJd5TXYZ2QIDMVFnNqHZAt5Xb9xpCdkB135LWu/R1QPppNf1lnHVAZk6TSVGbdUAr3zwL8hB1QJ+DtgeeO3ZA3ktynIH1dUADI6dJPKF2QBsTWappQnZAuNnBd5YzdkA6qCPOpQZ2QOC82rb4rHZAMG9T6cHZdkCVFhAidgV3QB/MjdvaG3dAFp6fdG/qdkDiJOkX5k93QEUQGMUJiXdAQ4qcJqwod0Dx/PKQtmh2QNpNkzwdvnZAWuVnQBTJdkDV383Ylf12QEFK0J5c63ZARu+h+cJod0A7IaRKNN13QINX26O67XdAvq8GpBEzeEDcxo7ylO93QMVhWBv7jXdAwwHeSWj+d0A+2gpfiM53QBV7x+tD7XdA5/DHClwaeECGT+XCkT14QEOp+odBE3hAGup6ok7kd0BWVP/3qNt3QF1PbgW/qHhAJNkrhw5EeEDX8Al6T154QPNWkExaGHhArXHfuke0d0CFwS+FQdZ3QDdso4kq03dAaBTnsFjGd0A5PT2xI794QEla8CYsOnhAgEyjTEjJd0Cy+RdVwVd3QPNp+M05PXdAxJX5C3L7dkB4lag90Dl3QIRTnbm1NndArDpSUPYBd0BspX8grTJ3QB11wJQGHHdAuGkS16YBd0BS/KAdUhF3QNx17D4wS3dAYCGfIro4d0A/sBObEyJ3QDM3GgviL3dAb6HH9UWod0BT/wRl3nd3QOEBNSshxXdAfLdbcAMKeEBR1InKsdp3QFYaVlIYJnhA\"},\"shape\":[150],\"dtype\":\"float64\",\"order\":\"little\"}],[\"Volume\",{\"type\":\"ndarray\",\"array\":{\"type\":\"bytes\",\"data\":\"pBEiChgYMwbwhX0HVOYDCKx2nwZ8DpQEiDJeBcTmuQT8INgFADrvA6ShKAXgIuoDjL20BpT2dQQwpdoEWJ4yBEyW2APos1AEtJt6A8BjtQNYKgUFYMlYBbBdtgQQacQDEOitBNg/SATcWt4DtKRNBAxaMgPg5ScD1HDoBAikaAQ0ki8FvBMsBIjyxwM43AoEGKq4AjTtYgOUPDYD2JqtAmTBFwSkvYsDJGKtAyy2OAOorYgDiObJA+AI7AIE2w0EcIqhBDBJ7QLIZO4CXFEJA5j7JAaweuUDsPMaBQQfiASEerEE5EPwBdhkkQTo0zoExD3RBFR0kgRsxCAEHAZUB9RbEQWILzkFAPMkBiQkXgQUH5sE6NJcBlg+VQWU3UoHUK2EBdRvdAYYtZoG7IO7BmByKQlUk1kFcNosBqTGPwU8T+gEvLxsBjBSiATwLIMFOM2WBOTsxgioE2AHSKKNBZSWygVU18AE3BdDBcB8zwfkqRcFXBmzBAQ/NAZYyuIEsHz6BQR6wgVwNxcFQLiRB8QKMQUwXSsGtPkRBEyFCwUMv60EuHFuCBzilwUMKUkEBAmOBVRbFQQsuXAEhOKJBcDoDQPIEpoD4JYRBPgV0gGAygsE8C8eA6zpnQh4vo0E7DkWBUhZmwTowqUE3PrtA2zJngMUy9oE6Jl+BGTFYAfEpXEGrAwEB1DjJAfU18IEQKtvBGi9qAREufcFlFmRA7jvEwMMBjoEFOX9A7gTAgWMIXYEFEAfBQR6lgSgzjUG9NBoBBRJ5QPMChsEhLJfBZwYzwM0YbwD\"},\"shape\":[150],\"dtype\":\"int32\",\"order\":\"little\"}],[\"fecha\",{\"type\":\"ndarray\",\"array\":{\"type\":\"bytes\",\"data\":\"AAAAw6UVeEIAAMAo+BV4QgAAgI5KFnhCAABA9JwWeEIAAABa7xZ4QgAAAPE4GHhCAADAVosYeEIAAIC83Rh4QgAAQCIwGXhCAACAUycaeEIAAEC5eRp4QgAAAB/MGnhCAADAhB4beEIAAIDqcBt4QgAAgIG6HHhCAABA5wwdeEIAAABNXx14QgAAwLKxHXhCAAAA5KgeeEIAAMBJ+x54QgAAgK9NH3hCAABAFaAfeEIAAAB78h94QgAAQKzpIHhCAAAAEjwheEIAAMB3jiF4QgAAgN3gIXhCAABAQzMieEIAAIB0KiN4QgAAQNp8I3hCAAAAQM8jeEIAAMClISR4QgAAgAt0JHhCAADAPGsleEIAAICivSV4QgAAQAgQJnhCAAAAbmImeEIAAMDTtCZ4QgAAAAWsJ3hCAADAav4neEIAAIDQUCh4QgAAQDajKHhCAAAAnPUoeEIAAEDN7Cl4QgAAADM/KnhCAADAmJEqeEIAAID+4yp4QgAAQGQ2K3hCAACAlS0seEIAAED7fyx4QgAAAGHSLHhCAADAxiQteEIAAIAsdy14QgAAwF1uLnhCAACAw8AueEIAAEApEy94QgAAAI9lL3hCAADA9LcveEIAAMCLATF4QgAAgPFTMXhCAABAV6YxeEIAAAC9+DF4QgAAQO7vMnhCAAAAVEIzeEIAAMC5lDN4QgAAgB/nM3hCAABAhTk0eEIAAIC2MDV4QgAAQByDNXhCAAAAgtU1eEIAAMDnJzZ4QgAAgE16NnhCAADAfnE3eEIAAIDkwzd4QgAAQEoWOHhCAAAAsGg4eEIAAMAVuzh4QgAAAEeyOXhCAADArAQ6eEIAAIASVzp4QgAAQHipOnhCAAAA3vs6eEIAAEAP8zt4QgAAAHVFPHhCAADA2pc8eEIAAIBA6jx4QgAAQKY8PXhCAACA1zM+eEIAAEA9hj54QgAAAKPYPnhCAADACCs/eEIAAIBufT94QgAAwJ90QHhCAACABcdAeEIAAEBrGUF4QgAAANFrQXhCAADANr5BeEIAAABotUJ4QgAAwM0HQ3hCAACAM1pDeEIAAECZrEN4QgAAAP/+Q3hCAABAMPZEeEIAAACWSEV4QgAAwPuaRXhCAACAYe1FeEIAAEDHP0Z4QgAAgPg2R3hCAABAXolHeEIAAADE20d4QgAAwCkuSHhCAACAj4BIeEIAAMDAd0l4QgAAgCbKSXhCAABAjBxKeEIAAMBXwUp4QgAAAIm4S3hCAADA7gpMeEIAAIBUXUx4QgAAQLqvTHhCAAAAIAJNeEIAAEBR+U14QgAAALdLTnhCAADAHJ5OeEIAAICC8E54QgAAQOhCT3hCAACAGTpQeEIAAEB/jFB4QgAAAOXeUHhCAADASjFReEIAAICwg1F4QgAAwOF6UnhCAACAR81SeEIAAECtH1N4QgAAABNyU3hCAADAeMRTeEIAAMAPDlV4QgAAgHVgVXhCAABA27JVeEIAAABBBVZ4QgAAANhOV3hCAADAPaFXeEIAAICj81d4QgAAQAlGWHhCAACAOj1ZeEIAAECgj1l4QgAAAAbiWXhCAADAazRaeEIAAIDRhlp4QgAAgGjQW3hC\"},\"shape\":[150],\"dtype\":\"float64\",\"order\":\"little\"}],[\"companyName\",{\"type\":\"ndarray\",\"array\":[\"SPY\",\"SPY\",\"SPY\",\"SPY\",\"SPY\",\"SPY\",\"SPY\",\"SPY\",\"SPY\",\"SPY\",\"SPY\",\"SPY\",\"SPY\",\"SPY\",\"SPY\",\"SPY\",\"SPY\",\"SPY\",\"SPY\",\"SPY\",\"SPY\",\"SPY\",\"SPY\",\"SPY\",\"SPY\",\"SPY\",\"SPY\",\"SPY\",\"SPY\",\"SPY\",\"SPY\",\"SPY\",\"SPY\",\"SPY\",\"SPY\",\"SPY\",\"SPY\",\"SPY\",\"SPY\",\"SPY\",\"SPY\",\"SPY\",\"SPY\",\"SPY\",\"SPY\",\"SPY\",\"SPY\",\"SPY\",\"SPY\",\"SPY\",\"SPY\",\"SPY\",\"SPY\",\"SPY\",\"SPY\",\"SPY\",\"SPY\",\"SPY\",\"SPY\",\"SPY\",\"SPY\",\"SPY\",\"SPY\",\"SPY\",\"SPY\",\"SPY\",\"SPY\",\"SPY\",\"SPY\",\"SPY\",\"SPY\",\"SPY\",\"SPY\",\"SPY\",\"SPY\",\"SPY\",\"SPY\",\"SPY\",\"SPY\",\"SPY\",\"SPY\",\"SPY\",\"SPY\",\"SPY\",\"SPY\",\"SPY\",\"SPY\",\"SPY\",\"SPY\",\"SPY\",\"SPY\",\"SPY\",\"SPY\",\"SPY\",\"SPY\",\"SPY\",\"SPY\",\"SPY\",\"SPY\",\"SPY\",\"SPY\",\"SPY\",\"SPY\",\"SPY\",\"SPY\",\"SPY\",\"SPY\",\"SPY\",\"SPY\",\"SPY\",\"SPY\",\"SPY\",\"SPY\",\"SPY\",\"SPY\",\"SPY\",\"SPY\",\"SPY\",\"SPY\",\"SPY\",\"SPY\",\"SPY\",\"SPY\",\"SPY\",\"SPY\",\"SPY\",\"SPY\",\"SPY\",\"SPY\",\"SPY\",\"SPY\",\"SPY\",\"SPY\",\"SPY\",\"SPY\",\"SPY\",\"SPY\",\"SPY\",\"SPY\",\"SPY\",\"SPY\",\"SPY\",\"SPY\",\"SPY\",\"SPY\",\"SPY\",\"SPY\",\"SPY\",\"SPY\",\"SPY\"],\"shape\":[150],\"dtype\":\"object\",\"order\":\"little\"}],[\"SMA20\",{\"type\":\"ndarray\",\"array\":{\"type\":\"bytes\",\"data\":\"AAAAAAAA+H8AAAAAAAD4fwAAAAAAAPh/AAAAAAAA+H8AAAAAAAD4fwAAAAAAAPh/AAAAAAAA+H8AAAAAAAD4fwAAAAAAAPh/AAAAAAAA+H8AAAAAAAD4fwAAAAAAAPh/AAAAAAAA+H8AAAAAAAD4fwAAAAAAAPh/AAAAAAAA+H8AAAAAAAD4fwAAAAAAAPh/AAAAAAAA+H8zMzMrBMt2QAAAALAzz3ZAmpmZmYvTdkDNzMwUXNl2QM3MzJRW5nZAzczMzKX6dkCamZkJzAl3QDMzM4uPHHdAzczMJKgpd0BmZmbu4C13QJqZmbmlL3dAmpmZ0VM/d0CamZkpHVN3QJqZmUHUbXdAZmZmromEd0AzMzPbm5h3QDMzMwuasHdAAAAAIPfDd0AzMzNjCdd3QJqZmTkn7XdAAQAAkJ8EeEABAACIRiR4QDQzM5uiRHhAmpmZCelkeEA0MzP7+4h4QM7MzKTEpXhAAQAAuEi+eEABAACAqdR4QAEAALh26XhANDMz+yL3eEA0MzOzowd5QJqZmRlaEXlAAQAA+K8beUABAADojBZ5QM7MzGxKEHlAAQAAULcIeUCamZm55fl4QDQzM1s/7HhAmpmZ4evbeECamZmR08p4QDMzMxtkwHhAMzMzk0+xeEBmZmaOA6d4QJqZmSGcmnhAzczMPBx/eEDNzMxEHmR4QM3MzMQGSHhAMzMzQ7EoeEDNzMzEFhB4QGZmZhbN+ndAAAAA4Bvhd0AzMzMr9MN3QDMzM1t3nXdAmpmZgRZ/d0CamZlpDWJ3QDMzM9PvTXdAmpmZwSw2d0AzMzObIBl3QAAAAHCTBndAmpmZMe/9dkAzMzMDN+92QAAAAAh+23ZAMzMzw/K6dkBmZmae55R2QDMzM8PXenZAzczMXLdedkAAAAAITU12QGZmZv67N3ZAzczMjPQmdkBmZma28hx2QDMzM2MVFnZAmpmZ4UcPdkAzMzMjLRR2QJqZmUFrH3ZAZmZmJg0wdkAzMzNr7Dh2QM3MzGwyRnZAMzMzW8hedkBmZmbG6m12QGZmZob5cnZAZmZmrkJxdkAAAADIkW92QDMzMzsKenZAmpmZ4W2JdkCamZlxKZx2QAAAAJC6qXZAAAAAwOe/dkAzMzOreN92QGZmZtZS9XZAAAAAMHMKd0CamZmBQh93QDMzM3OFNXdAmpmZ4U5Gd0AAAABQclJ3QGZmZnYDXndAzczMBMRtd0AzMzMDBn93QAAAAABYhHdAmpmZAU+Ld0DNzMwkMZ13QM3MzIRLtndAmpmZAQTSd0CamZnx9eN3QGZmZqat7ndAMzMzs0v3d0CamZlJXgh4QJqZmZFHB3hAZmZmhp4HeEBmZmaW6Ax4QAAAAHicDXhAmpmZAR4JeEAzMzNrAQJ4QDMzM5v99ndAAAAAuH3td0BmZmYeTuR3QGZmZi7m1HdAMzMz80LHd0BmZmbmaL13QDMzMwNosHdAzczMdAyfd0CamZmhI413QGZmZv5XendAMzMzK3tvd0AAAAAoq2V3QJqZmTkfY3dAzczMxAZed0AzMzOTU113QM3MzJQUXHdAAAAAkJ5Zd0CamZlhVlp3QM3MzIQIYndA\"},\"shape\":[150],\"dtype\":\"float64\",\"order\":\"little\"}],[\"SMA40\",{\"type\":\"ndarray\",\"array\":{\"type\":\"bytes\",\"data\":\"AAAAAAAA+H8AAAAAAAD4fwAAAAAAAPh/AAAAAAAA+H8AAAAAAAD4fwAAAAAAAPh/AAAAAAAA+H8AAAAAAAD4fwAAAAAAAPh/AAAAAAAA+H8AAAAAAAD4fwAAAAAAAPh/AAAAAAAA+H8AAAAAAAD4fwAAAAAAAPh/AAAAAAAA+H8AAAAAAAD4fwAAAAAAAPh/AAAAAAAA+H8AAAAAAAD4fwAAAAAAAPh/AAAAAAAA+H8AAAAAAAD4fwAAAAAAAPh/AAAAAAAA+H8AAAAAAAD4fwAAAAAAAPh/AAAAAAAA+H8AAAAAAAD4fwAAAAAAAPh/AAAAAAAA+H8AAAAAAAD4fwAAAAAAAPh/AAAAAAAA+H8AAAAAAAD4fwAAAAAAAPh/AAAAAAAA+H8AAAAAAAD4fwAAAAAAAPh/mpmZ3dFnd0AAAAAcvXl3QGZmZhoXjHdAMzMzjyKfd0AAAABIqbd3QM3MzDg10HdAzczMYArkd0CamZmFnPh3QGZmZm6PCXhAzczM9IESeEBmZma2pBt4QJqZmfVWKHhAzczMkGY3eEDNzMyUMEJ4QJqZmQ1qSnhAmpmZlalQeEBmZmbiP1V4QJqZmT0bWHhAZmZmonpZeECamZll/Vt4QJqZmdWBYnhAmpmZDctqeEDNzMwU03V4QJqZmZXCf3hAAAAAHAyEeEDNzMx08YR4QGZmZr4ng3hAmpmZYa1+eEBmZma+xnx4QM3MzAj4eHhAmpmZyV90eEBmZmYip2p4QJqZmamTXHhAzczMtNFKeEAzMzPrKzl4QJqZmZFTK3hAmpmZPQkYeEAzMzP7rwJ4QM3MzKg/8XdAmpmZYWHkd0AzMzOPzdd3QJqZmc1mxndAzczMKPuwd0AAAADgwZd3QAAAAAD6fHdAzczM0Gphd0BmZmbmqUp3QM3MzKA2MHdAzczMqIUbd0BmZmbm3wt3QJqZmaGY+3ZAZmZmBp7pdkAzMzM/0th2QJqZmeFAz3ZAAAAASA3JdkAzMzMfbsN2QDMzM5cvvnZAMzMze/S7dkAzMzMbP7p2QAAAAFx0uHZAzczM2DywdkAAAADoh6V2QDMzM39+mnZAAAAAwCqPdkBmZmaagIt2QGZmZvY4hHZAAAAAZJqGdkDNzMxUmot2QJqZmbEjjnZANDMz87KTdkBnZmbyq5p2QGdmZqpmonZAZ2ZmAj6tdkDOzMzI7rh2QGdmZk4Ix3ZAAQAAOFjTdkABAAA4nOJ2QJqZmS2Q8XZAAQAA5Jz8dkCamZlVFQh3QJqZmRnHE3dAzszM5Mogd0BnZmYWAC93QAEAAMQNPHdAZ2ZmkrpJd0DOzMxsDFl3QM7MzKiXY3dAzszMmItzd0BnZma2HYF3QAEAANQHjHdAmpmZQTCUd0A0MzNvw5t3QGdmZj6mnndAAQAABPifd0BnZmbKKKF3QJqZmRlVoXdANDMzeySjd0A0MzNz4KB3QGZmZoLbnXdAzczMzB6ed0AzMzOTt6F3QAAAAAAupndAZmZmjripd0AzMzNnLKp3QGZmZnY1rXdAMzMzhzKzd0BmZmaSTbJ3QJqZmY3ZsXdAMzMzk0Ozd0DNzMxs+bN3QDMzM0OTtXdA\"},\"shape\":[150],\"dtype\":\"float64\",\"order\":\"little\"}],[\"SMA100\",{\"type\":\"ndarray\",\"array\":{\"type\":\"bytes\",\"data\":\"AAAAAAAA+H8AAAAAAAD4fwAAAAAAAPh/AAAAAAAA+H8AAAAAAAD4fwAAAAAAAPh/AAAAAAAA+H8AAAAAAAD4fwAAAAAAAPh/AAAAAAAA+H8AAAAAAAD4fwAAAAAAAPh/AAAAAAAA+H8AAAAAAAD4fwAAAAAAAPh/AAAAAAAA+H8AAAAAAAD4fwAAAAAAAPh/AAAAAAAA+H8AAAAAAAD4fwAAAAAAAPh/AAAAAAAA+H8AAAAAAAD4fwAAAAAAAPh/AAAAAAAA+H8AAAAAAAD4fwAAAAAAAPh/AAAAAAAA+H8AAAAAAAD4fwAAAAAAAPh/AAAAAAAA+H8AAAAAAAD4fwAAAAAAAPh/AAAAAAAA+H8AAAAAAAD4fwAAAAAAAPh/AAAAAAAA+H8AAAAAAAD4fwAAAAAAAPh/AAAAAAAA+H8AAAAAAAD4fwAAAAAAAPh/AAAAAAAA+H8AAAAAAAD4fwAAAAAAAPh/AAAAAAAA+H8AAAAAAAD4fwAAAAAAAPh/AAAAAAAA+H8AAAAAAAD4fwAAAAAAAPh/AAAAAAAA+H8AAAAAAAD4fwAAAAAAAPh/AAAAAAAA+H8AAAAAAAD4fwAAAAAAAPh/AAAAAAAA+H8AAAAAAAD4fwAAAAAAAPh/AAAAAAAA+H8AAAAAAAD4fwAAAAAAAPh/AAAAAAAA+H8AAAAAAAD4fwAAAAAAAPh/AAAAAAAA+H8AAAAAAAD4fwAAAAAAAPh/AAAAAAAA+H8AAAAAAAD4fwAAAAAAAPh/AAAAAAAA+H8AAAAAAAD4fwAAAAAAAPh/AAAAAAAA+H8AAAAAAAD4fwAAAAAAAPh/AAAAAAAA+H8AAAAAAAD4fwAAAAAAAPh/AAAAAAAA+H8AAAAAAAD4fwAAAAAAAPh/AAAAAAAA+H8AAAAAAAD4fwAAAAAAAPh/AAAAAAAA+H8AAAAAAAD4fwAAAAAAAPh/AAAAAAAA+H8AAAAAAAD4fwAAAAAAAPh/AAAAAAAA+H8AAAAAAAD4fwAAAAAAAPh/AAAAAAAA+H8AAAAAAAD4fwAAAAAAAPh/MzMzG01jd0DXo3CFK2N3QB+F61kJZHdAzczMjKRkd0BSuB7NfGd3QNejcO3+aHdArkfhQkNsd0DNzMxkOXB3QI/C9QAZc3dASOF6lKR0d0C4HoWj8nV3QD0K13tJeHdAUrgeTfN6d0CPwvXY3X13QB+F6zn9gHdArkfh4mOEd0AUrkcxlId3QIXrUbDkiHdAXI/C5SaKd0CamZkhBI53QIXrUWBbkndAj8L1yO6Wd0BSuB4FhZp3QLgehUMbnHdAmpmZORSed0AAAACg8J53QBSuR5H1nndAPQrXYzyfd0CuR+FKjKB3QAAAALBjoXdAhetRGHGhd0CPwvUAOZ93QKRwPcq5m3dAPQrXI2aXd0C4HoWDJJR3QIXrUcBykHdAexSuXxyMd0AzMzMLlYd3QFyPwgVtgndA16NwLWV+d0CkcD3KdXp3QHE9CkfydHdAhetRiONvd0AzMzPjDml3QBSuR3lOY3dAAAAAQGRdd0C4HoUjXlh3QAAAAGjrU3dArkfhQpRQd0DhehRe1E53QD0K19seTXdA\"},\"shape\":[150],\"dtype\":\"float64\",\"order\":\"little\"}],[\"SMA200\",{\"type\":\"ndarray\",\"array\":{\"type\":\"bytes\",\"data\":\"AAAAAAAA+H8AAAAAAAD4fwAAAAAAAPh/AAAAAAAA+H8AAAAAAAD4fwAAAAAAAPh/AAAAAAAA+H8AAAAAAAD4fwAAAAAAAPh/AAAAAAAA+H8AAAAAAAD4fwAAAAAAAPh/AAAAAAAA+H8AAAAAAAD4fwAAAAAAAPh/AAAAAAAA+H8AAAAAAAD4fwAAAAAAAPh/AAAAAAAA+H8AAAAAAAD4fwAAAAAAAPh/AAAAAAAA+H8AAAAAAAD4fwAAAAAAAPh/AAAAAAAA+H8AAAAAAAD4fwAAAAAAAPh/AAAAAAAA+H8AAAAAAAD4fwAAAAAAAPh/AAAAAAAA+H8AAAAAAAD4fwAAAAAAAPh/AAAAAAAA+H8AAAAAAAD4fwAAAAAAAPh/AAAAAAAA+H8AAAAAAAD4fwAAAAAAAPh/AAAAAAAA+H8AAAAAAAD4fwAAAAAAAPh/AAAAAAAA+H8AAAAAAAD4fwAAAAAAAPh/AAAAAAAA+H8AAAAAAAD4fwAAAAAAAPh/AAAAAAAA+H8AAAAAAAD4fwAAAAAAAPh/AAAAAAAA+H8AAAAAAAD4fwAAAAAAAPh/AAAAAAAA+H8AAAAAAAD4fwAAAAAAAPh/AAAAAAAA+H8AAAAAAAD4fwAAAAAAAPh/AAAAAAAA+H8AAAAAAAD4fwAAAAAAAPh/AAAAAAAA+H8AAAAAAAD4fwAAAAAAAPh/AAAAAAAA+H8AAAAAAAD4fwAAAAAAAPh/AAAAAAAA+H8AAAAAAAD4fwAAAAAAAPh/AAAAAAAA+H8AAAAAAAD4fwAAAAAAAPh/AAAAAAAA+H8AAAAAAAD4fwAAAAAAAPh/AAAAAAAA+H8AAAAAAAD4fwAAAAAAAPh/AAAAAAAA+H8AAAAAAAD4fwAAAAAAAPh/AAAAAAAA+H8AAAAAAAD4fwAAAAAAAPh/AAAAAAAA+H8AAAAAAAD4fwAAAAAAAPh/AAAAAAAA+H8AAAAAAAD4fwAAAAAAAPh/AAAAAAAA+H8AAAAAAAD4fwAAAAAAAPh/AAAAAAAA+H8AAAAAAAD4fwAAAAAAAPh/AAAAAAAA+H8AAAAAAAD4fwAAAAAAAPh/AAAAAAAA+H8AAAAAAAD4fwAAAAAAAPh/AAAAAAAA+H8AAAAAAAD4fwAAAAAAAPh/AAAAAAAA+H8AAAAAAAD4fwAAAAAAAPh/AAAAAAAA+H8AAAAAAAD4fwAAAAAAAPh/AAAAAAAA+H8AAAAAAAD4fwAAAAAAAPh/AAAAAAAA+H8AAAAAAAD4fwAAAAAAAPh/AAAAAAAA+H8AAAAAAAD4fwAAAAAAAPh/AAAAAAAA+H8AAAAAAAD4fwAAAAAAAPh/AAAAAAAA+H8AAAAAAAD4fwAAAAAAAPh/AAAAAAAA+H8AAAAAAAD4fwAAAAAAAPh/AAAAAAAA+H8AAAAAAAD4fwAAAAAAAPh/AAAAAAAA+H8AAAAAAAD4fwAAAAAAAPh/AAAAAAAA+H8AAAAAAAD4fwAAAAAAAPh/AAAAAAAA+H8AAAAAAAD4fwAAAAAAAPh/AAAAAAAA+H8AAAAAAAD4fwAAAAAAAPh/AAAAAAAA+H8AAAAAAAD4fwAAAAAAAPh/\"},\"shape\":[150],\"dtype\":\"float64\",\"order\":\"little\"}],[\"pivotHigh\",{\"type\":\"ndarray\",\"array\":{\"type\":\"bytes\",\"data\":\"AAAAAAAA+H8AAAAAAAD4fwAAAAAAAPh/AAAAAAAA+H8AAAAAAAD4fwAAAAAAAPh/AAAAAAAA+H8AAAAAAAD4fwAAAAAAAPh/AAAAAAAA+H8AAAAAAAD4fwAAAAAAAPh/AAAAAAAA+H8AAAAAAAD4fwAAAAAAAPh/AAAAAAAA+H8AAAAAAAD4fwAAAAAAAPh/AAAAAAAA+H8AAAAAAAD4fwAAAAAAAPh/AAAAAAAA+H8AAAAAAAD4fwAAAAAAAPh/AAAAAAAA+H8AAAAAAAD4fwAAAAAAAPh/AAAAAAAA+H8AAAAAAAD4fwAAAAAAAPh/AAAAAAAA+H8AAAAAAAD4fwAAAAAAAPh/AAAAAAAA+H8AAAAAAAD4fwAAAAAAAPh/AAAAAAAA+H8AAAAAAAD4fwAAAAAAAPh/AAAAAAAA+H8AAAAAAAD4fwAAAAAAAPh/AAAAAAAA+H8AAAAAAAD4f/Y1ZVEQ8HlAAAAAAAAA+H8AAAAAAAD4fwAAAAAAAPh/AAAAAAAA+H8AAAAAAAD4fwAAAAAAAPh/AAAAAAAA+H8AAAAAAAD4fwAAAAAAAPh/AAAAAAAA+H8AAAAAAAD4fwAAAAAAAPh/AAAAAAAA+H8AAAAAAAD4fwAAAAAAAPh/AAAAAAAA+H8AAAAAAAD4fwAAAAAAAPh/AAAAAAAA+H8AAAAAAAD4fwAAAAAAAPh/AAAAAAAA+H8AAAAAAAD4fwAAAAAAAPh/AAAAAAAA+H8AAAAAAAD4fwAAAAAAAPh/AAAAAAAA+H8AAAAAAAD4fwAAAAAAAPh/AAAAAAAA+H8AAAAAAAD4fwAAAAAAAPh/AAAAAAAA+H8AAAAAAAD4fwAAAAAAAPh/AAAAAAAA+H8AAAAAAAD4fwAAAAAAAPh/AAAAAAAA+H8AAAAAAAD4fwAAAAAAAPh/AAAAAAAA+H8AAAAAAAD4fwAAAAAAAPh/AAAAAAAA+H8AAAAAAAD4fwAAAAAAAPh/AAAAAAAA+H8AAAAAAAD4fwAAAAAAAPh/AAAAAAAA+H8AAAAAAAD4fwAAAAAAAPh/AAAAAAAA+H8AAAAAAAD4fwAAAAAAAPh/AAAAAAAA+H8AAAAAAAD4fwAAAAAAAPh/AAAAAAAA+H8AAAAAAAD4fwAAAAAAAPh/AAAAAAAA+H8AAAAAAAD4fwAAAAAAAPh/AAAAAAAA+H8AAAAAAAD4fwAAAAAAAPh/AAAAAAAA+H8AAAAAAAD4fwAAAAAAAPh/AAAAAAAA+H+8dJP47Zd4QAAAAAAAAPh/AAAAAAAA+H8AAAAAAAD4fwAAAAAAAPh/AAAAAAAA+H8AAAAAAAD4fwAAAAAAAPh/AAAAAAAA+H8AAAAAAAD4fwAAAAAAAPh/AAAAAAAA+H8AAAAAAAD4fwAAAAAAAPh/AAAAAAAA+H8AAAAAAAD4fwAAAAAAAPh/AAAAAAAA+H8AAAAAAAD4fwAAAAAAAPh/AAAAAAAA+H8AAAAAAAD4fwAAAAAAAPh/AAAAAAAA+H8AAAAAAAD4fwAAAAAAAPh/AAAAAAAA+H8AAAAAAAD4fwAAAAAAAPh/AAAAAAAA+H8AAAAAAAD4fwAAAAAAAPh/\"},\"shape\":[150],\"dtype\":\"float64\",\"order\":\"little\"}],[\"pivotLow\",{\"type\":\"ndarray\",\"array\":{\"type\":\"bytes\",\"data\":\"AAAAAAAA+H8AAAAAAAD4fwAAAAAAAPh/ole25nvHdUAAAAAAAAD4fwAAAAAAAPh/AAAAAAAA+H8AAAAAAAD4fwAAAAAAAPh/AAAAAAAA+H8AAAAAAAD4fwAAAAAAAPh/AAAAAAAA+H8AAAAAAAD4fwAAAAAAAPh/AAAAAAAA+H8AAAAAAAD4fwAAAAAAAPh/AAAAAAAA+H8AAAAAAAD4fwAAAAAAAPh/AAAAAAAA+H8AAAAAAAD4fwAAAAAAAPh/AAAAAAAA+H8AAAAAAAD4fwAAAAAAAPh/AAAAAAAA+H8AAAAAAAD4fwAAAAAAAPh/AAAAAAAA+H8AAAAAAAD4fwAAAAAAAPh/AAAAAAAA+H8AAAAAAAD4fwAAAAAAAPh/AAAAAAAA+H8AAAAAAAD4fwAAAAAAAPh/AAAAAAAA+H8AAAAAAAD4fwAAAAAAAPh/AAAAAAAA+H8AAAAAAAD4fwAAAAAAAPh/AAAAAAAA+H8AAAAAAAD4fwAAAAAAAPh/AAAAAAAA+H8AAAAAAAD4fwAAAAAAAPh/AAAAAAAA+H8AAAAAAAD4fwAAAAAAAPh/AAAAAAAA+H8AAAAAAAD4fwAAAAAAAPh/AAAAAAAA+H8AAAAAAAD4fwAAAAAAAPh/AAAAAAAA+H8AAAAAAAD4fwAAAAAAAPh/AAAAAAAA+H8AAAAAAAD4fwAAAAAAAPh/AAAAAAAA+H8AAAAAAAD4fwAAAAAAAPh/AAAAAAAA+H8AAAAAAAD4fwAAAAAAAPh/AAAAAAAA+H8AAAAAAAD4fwAAAAAAAPh/AAAAAAAA+H8AAAAAAAD4fwAAAAAAAPh/AAAAAAAA+H8AAAAAAAD4fwAAAAAAAPh/AAAAAAAA+H8AAAAAAAD4fwAAAAAAAPh/cIQKFmx+dUAAAAAAAAD4fwAAAAAAAPh/AAAAAAAA+H8AAAAAAAD4fwAAAAAAAPh/AAAAAAAA+H8AAAAAAAD4fwAAAAAAAPh/AAAAAAAA+H8AAAAAAAD4fwAAAAAAAPh/AAAAAAAA+H8AAAAAAAD4fwAAAAAAAPh/AAAAAAAA+H8AAAAAAAD4fwAAAAAAAPh/AAAAAAAA+H8AAAAAAAD4fwAAAAAAAPh/AAAAAAAA+H8AAAAAAAD4fwAAAAAAAPh/AAAAAAAA+H8AAAAAAAD4fwAAAAAAAPh/AAAAAAAA+H8AAAAAAAD4fwAAAAAAAPh/AAAAAAAA+H8AAAAAAAD4fwAAAAAAAPh/AAAAAAAA+H8AAAAAAAD4fwAAAAAAAPh/AAAAAAAA+H8AAAAAAAD4fwAAAAAAAPh/AAAAAAAA+H8AAAAAAAD4fwAAAAAAAPh/AAAAAAAA+H8AAAAAAAD4fwAAAAAAAPh/AAAAAAAA+H8AAAAAAAD4fwAAAAAAAPh/AAAAAAAA+H8AAAAAAAD4fwAAAAAAAPh/AAAAAAAA+H8AAAAAAAD4f3oKQODVz3ZAAAAAAAAA+H8AAAAAAAD4fwAAAAAAAPh/AAAAAAAA+H8AAAAAAAD4fwAAAAAAAPh/AAAAAAAA+H8AAAAAAAD4fwAAAAAAAPh/AAAAAAAA+H8AAAAAAAD4fwAAAAAAAPh/\"},\"shape\":[150],\"dtype\":\"float64\",\"order\":\"little\"}],[\"isPivot\",{\"type\":\"ndarray\",\"array\":{\"type\":\"bytes\",\"data\":\"AAAAAAAA+H8AAAAAAAD4fwAAAAAAAPh/AAAAAAAAAEAAAAAAAAD4fwAAAAAAAPh/AAAAAAAA+H8AAAAAAAD4fwAAAAAAAPh/AAAAAAAA+H8AAAAAAAD4fwAAAAAAAPh/AAAAAAAA+H8AAAAAAAD4fwAAAAAAAPh/AAAAAAAA+H8AAAAAAAD4fwAAAAAAAPh/AAAAAAAA+H8AAAAAAAD4fwAAAAAAAPh/AAAAAAAA+H8AAAAAAAD4fwAAAAAAAPh/AAAAAAAA+H8AAAAAAAD4fwAAAAAAAPh/AAAAAAAA+H8AAAAAAAD4fwAAAAAAAPh/AAAAAAAA+H8AAAAAAAD4fwAAAAAAAPh/AAAAAAAA+H8AAAAAAAD4fwAAAAAAAPh/AAAAAAAA+H8AAAAAAAD4fwAAAAAAAPh/AAAAAAAA+H8AAAAAAAD4fwAAAAAAAPh/AAAAAAAA+H8AAAAAAAD4fwAAAAAAAPA/AAAAAAAA+H8AAAAAAAD4fwAAAAAAAPh/AAAAAAAA+H8AAAAAAAD4fwAAAAAAAPh/AAAAAAAA+H8AAAAAAAD4fwAAAAAAAPh/AAAAAAAA+H8AAAAAAAD4fwAAAAAAAPh/AAAAAAAA+H8AAAAAAAD4fwAAAAAAAPh/AAAAAAAA+H8AAAAAAAD4fwAAAAAAAPh/AAAAAAAA+H8AAAAAAAD4fwAAAAAAAPh/AAAAAAAA+H8AAAAAAAD4fwAAAAAAAPh/AAAAAAAA+H8AAAAAAAD4fwAAAAAAAPh/AAAAAAAA+H8AAAAAAAD4fwAAAAAAAPh/AAAAAAAA+H8AAAAAAAD4fwAAAAAAAPh/AAAAAAAA+H8AAAAAAAD4fwAAAAAAAPh/AAAAAAAA+H8AAAAAAAD4fwAAAAAAAPh/AAAAAAAAAEAAAAAAAAD4fwAAAAAAAPh/AAAAAAAA+H8AAAAAAAD4fwAAAAAAAPh/AAAAAAAA+H8AAAAAAAD4fwAAAAAAAPh/AAAAAAAA+H8AAAAAAAD4fwAAAAAAAPh/AAAAAAAA+H8AAAAAAAD4fwAAAAAAAPh/AAAAAAAA+H8AAAAAAAD4fwAAAAAAAPh/AAAAAAAA+H8AAAAAAAD4fwAAAAAAAPh/AAAAAAAA+H8AAAAAAAD4fwAAAAAAAPh/AAAAAAAA+H8AAAAAAAD4fwAAAAAAAPh/AAAAAAAA+H8AAAAAAAD4fwAAAAAAAPh/AAAAAAAA+H8AAAAAAAD4fwAAAAAAAPh/AAAAAAAA+H8AAAAAAADwPwAAAAAAAPh/AAAAAAAA+H8AAAAAAAD4fwAAAAAAAPh/AAAAAAAA+H8AAAAAAAD4fwAAAAAAAPh/AAAAAAAA+H8AAAAAAAD4fwAAAAAAAPh/AAAAAAAA+H8AAAAAAAD4fwAAAAAAAPh/AAAAAAAA+H8AAAAAAAD4fwAAAAAAAPh/AAAAAAAA+H8AAAAAAAD4fwAAAAAAAABAAAAAAAAA+H8AAAAAAAD4fwAAAAAAAPh/AAAAAAAA+H8AAAAAAAD4fwAAAAAAAPh/AAAAAAAA+H8AAAAAAAD4fwAAAAAAAPh/AAAAAAAA+H8AAAAAAAD4fwAAAAAAAPh/\"},\"shape\":[150],\"dtype\":\"float64\",\"order\":\"little\"}]]}}},\"view\":{\"type\":\"object\",\"name\":\"CDSView\",\"id\":\"p1049\",\"attributes\":{\"filter\":{\"type\":\"object\",\"name\":\"AllIndices\",\"id\":\"p1050\"}}},\"glyph\":{\"type\":\"object\",\"name\":\"Segment\",\"id\":\"p1045\",\"attributes\":{\"x0\":{\"type\":\"field\",\"field\":\"index\"},\"y0\":{\"type\":\"field\",\"field\":\"High\"},\"x1\":{\"type\":\"field\",\"field\":\"index\"},\"y1\":{\"type\":\"field\",\"field\":\"Low\"}}},\"nonselection_glyph\":{\"type\":\"object\",\"name\":\"Segment\",\"id\":\"p1046\",\"attributes\":{\"x0\":{\"type\":\"field\",\"field\":\"index\"},\"y0\":{\"type\":\"field\",\"field\":\"High\"},\"x1\":{\"type\":\"field\",\"field\":\"index\"},\"y1\":{\"type\":\"field\",\"field\":\"Low\"},\"line_alpha\":{\"type\":\"value\",\"value\":0.1}}},\"muted_glyph\":{\"type\":\"object\",\"name\":\"Segment\",\"id\":\"p1047\",\"attributes\":{\"x0\":{\"type\":\"field\",\"field\":\"index\"},\"y0\":{\"type\":\"field\",\"field\":\"High\"},\"x1\":{\"type\":\"field\",\"field\":\"index\"},\"y1\":{\"type\":\"field\",\"field\":\"Low\"},\"line_alpha\":{\"type\":\"value\",\"value\":0.2}}}}},{\"type\":\"object\",\"name\":\"GlyphRenderer\",\"id\":\"p1060\",\"attributes\":{\"data_source\":{\"type\":\"object\",\"name\":\"ColumnDataSource\",\"id\":\"p1051\",\"attributes\":{\"selected\":{\"type\":\"object\",\"name\":\"Selection\",\"id\":\"p1052\",\"attributes\":{\"indices\":[],\"line_indices\":[]}},\"selection_policy\":{\"type\":\"object\",\"name\":\"UnionRenderers\",\"id\":\"p1053\"},\"data\":{\"type\":\"map\",\"entries\":[[\"index\",{\"type\":\"ndarray\",\"array\":{\"type\":\"bytes\",\"data\":\"AAAAAAEAAAADAAAACQAAAAoAAAALAAAAEgAAABMAAAAXAAAAGwAAABwAAAAdAAAAIgAAACQAAAAmAAAAJwAAACkAAAAvAAAAMAAAADEAAAA0AAAANgAAADcAAAA5AAAAOgAAAD8AAABBAAAARAAAAEUAAABGAAAARwAAAEgAAABJAAAASwAAAEwAAABQAAAAUQAAAFIAAABTAAAAVAAAAFYAAABYAAAAWQAAAFoAAABfAAAAYQAAAGIAAABjAAAAZAAAAGUAAABoAAAAawAAAGwAAABtAAAAbwAAAHAAAAB0AAAAdQAAAHcAAAB5AAAAegAAAH0AAAB/AAAAgAAAAIEAAACCAAAAgwAAAIYAAACIAAAAiQAAAIwAAACOAAAAkAAAAJUAAAA=\"},\"shape\":[74],\"dtype\":\"int32\",\"order\":\"little\"}],[\"Close\",{\"type\":\"ndarray\",\"array\":{\"type\":\"bytes\",\"data\":\"AAAAgLpudkAAAACAbF12QAAAAGDb7nVAAAAAAI1Yd0ABAADAbt52QAAAACCq2XZAAAAAgH4Vd0ABAABAM+F2QAAAAGBt8nZAAQAAQIW8d0AAAACA58N3QAAAAODse3dAAAAAIACEeEAAAACA+eF4QAEAAEDTz3hAAAAAAJq2eEAAAABAfDt5QAAAAKCNXHlAAQAAwFzVeEABAABA+8V4QAAAAKC0WXhAAAAA4IHsd0AAAADg5713QAAAAMCvkHdAAAAAAO15d0AAAABg6p13QAAAAAAVcHdAAAAAIJsrd0AAAAAAI8R2QAAAAIAuk3ZAAAAAIFoydkAAAACgI/p1QAAAAODG63VAAAAAgKridUAAAAAgB4x1QAAAAABug3ZAAAAAgKridUAAAAAg47d1QAAAAECtlHVAAAAAIHSCdUAAAAAg+pJ1QAAAAGB2Y3ZAAAAAgNg6dkAAAABgIAt2QAAAAKAi7HZAAQAAwFhMd0AAAAAgPzJ3QAAAAEA4nXZAAAAAAJxhdkAAAACAE7R2QAAAAIDKkXZAAQAAQPLVd0AAAABg/Ql4QAAAAOAK23dAAAAA4P/jd0AAAACgws13QAAAAIAl4ndAAAAA4KTXd0AAAADAR5N4QAEAAED6GnhAAQAAQAbCd0AAAADAh7l3QAAAAIC7P3hAAAAAAAsYeEAAAACgKYF3QAAAAIAfOndAAAAAoLMHd0AAAADgjxJ3QAAAAIAcHXdAAAAAIJPTdkAAAAAAHRR3QAAAAADG/XZAAAAAIFWBd0AAAABgFBt4QA==\"},\"shape\":[74],\"dtype\":\"float64\",\"order\":\"little\"}],[\"High\",{\"type\":\"ndarray\",\"array\":{\"type\":\"bytes\",\"data\":\"eHehNATXdkAfDatuwJt2QLXs8MqNMHZAfh8JSieDd0CAEzJ21p53QD7fsRdZ93ZAxarJ6xg+d0DZCCUlLTN3QA4UDqo9YHdAPbJXHM4KeECXmMMMv9F3QJuP1Q+urHdAlskravrPeEDTFMHAH/B4QMzF6/wIF3lA+YyUMyLMeED76TddxYd5QK77ov6JjHlAzHGFggkReUC6UDHNMvV4QDhzTxoGO3lA3bKKpxhHeEAwp+btGxt4QCwzuHEHIHhAXEPBSJqtd0CdIDVrtzd4QPL9NtfmyXdA6ArorfRKd0B4x+piOHx3QCKC/qIw0nZATIKz15VbdkAb3UIfQVV2QC4HXT8wWHZA2Px4b2EldkBb/koH2RJ2QOGfkSet2HZAjYc3BtKEdkCoSCs1mPh1QOaq9C5f5nVAphyHgMy0dUD8fTKQBlZ2QA11/20tpnZAgsqTrJRudkAoaMapPnt2QFLakAqpOXdALFhx4Cpud0Dkbacj5ox3QBo8FCW4cXdAnZzwmt+SdkBcHak4/tp2QA0XMmoM/nZAB73t1hYkeEB0mYiw+0R4QGX45GwG/3dACO2aD33/d0B+nxNyweB3QFbHqITRLXhAsvk2e5z3d0DWypjXvbt4QKl6085xbXhAD3efsCcheEC90kjUjfx3QBh8ghZPw3hAWOgSPT92eECHMdMm9Nd3QO4p75d5bXdAG9Fr5qdCd0CSOgwZvGd3QEC0OttCOHdA/GluQfw7d0A3wGTMJWt3QASOqi7wI3dA8lb+j+/bd0BmI+CtPkF4QA==\"},\"shape\":[74],\"dtype\":\"float64\",\"order\":\"little\"}],[\"Low\",{\"type\":\"ndarray\",\"array\":{\"type\":\"bytes\",\"data\":\"rdUD07FUdkCl3WuxMSt2QF7MSf9/x3VABXLQH91Gd0ANNvFKltx2QBJxpZEivHZAXX98OUQKd0BmrTyg5sR2QCIJDziW3nZA04Jd+YeYd0DciDlmm593QB5wq8x3bXdA+sAq6O1weEArzXbrXcd4QEgob/b7vXhA2l/L0zileECBYWAofS95QC+EmEBnTnlAYUBLQ8DGeEAGleeLD714QEgneWXIWHhA31hid4TKd0AkkgK3wLt3QG83j3xPc3dAuY8Gue9Vd0BV2HlixIt3QFA28QZ5W3dA/vhUo/n+dkAkpDZt+8N2QMxUxcoih3ZAdwut52LqdUCMpYEtX+Z1QELVQZsDxXVAJDUSRPKydUBm3Guz3Yl1QKM3QR1me3ZAD01nihjGdUAhGlCMmJN1QLE3sLFTdXVALPmdLnB+dUDUb/k9oYh1QA4ajEG2K3ZAD1RasUkNdkAyjDGFxf51QOPzi8QY4nZAaFunBK09d0DipsVsQB93QAUg42yFm3ZAAAgDRlM/dkC/ldrjAlJ2QIbvU53CiXZASR0jtXfRd0Dq7512N8x3QKrgq5DZ0HdAxCK1A9O1d0DoCE9x9K93QF4QK6XK1XdAzcd2kta5d0A33J0Vqmp4QM6K+2AMBXhAbcNrPjSgd0CTBVHHhbd3QBzlNnDyEnhA70qlxFLod0BqvKycSmZ3QC/xXNaGF3dAA/kUBrXsdkBBiS+dQLZ2QMBLxST2AXdANn/T+NnPdkC5rcG8ueV2QD+ub5sn9HZAR71doGJ+d0C1KbGMEBB4QA==\"},\"shape\":[74],\"dtype\":\"float64\",\"order\":\"little\"}],[\"Open\",{\"type\":\"ndarray\",\"array\":{\"type\":\"bytes\",\"data\":\"mpmwUAC5dkBBH3U+D4t2QLVtChD4KXZA90gKvGJ+d0B3wJQwxnF3QPnnEWJa53ZAxfvx6Wgud0BCw4t5kgx3QB8lQzZSVXdAUlifMG33d0ApzJkvrMZ3QCtlotlLqXdAzi5DqE2UeEAdHorjDOV4QJpQmZiV8nhARnppb/vDeEDJKnApoGl5QJgd6I07iHlAMX8ptEQOeUAthRK4cM54QGZoTu5BMnlAR44SVEBDeECD8P8R9gZ4QL/3c7NXDHhAUVs9ZGCed0CEJB/3LiR4QBvbxu3Cm3dAiiG/AJY6d0BhZqU1zUp3QBAKYKagt3ZAK0lxq/dadkBulQv0kRp2QC7kT/NuM3ZAy5ytcL8gdkCD1CosYNN1QIDMVFnNqHZAt5Xb9xpCdkB135LWu/R1QPppNf1lnHVAZk6TSVGbdUCfg7YHnjt2QAMjp0k8oXZAGxNZqmlCdkC42cF3ljN2QB/MjdvaG3dA4iTpF+ZPd0BFEBjFCYl3QEOKnCasKHdA8fzykLZodkDaTZM8Hb52QEFK0J5c63ZAg1fbo7rtd0C+rwakETN4QNzGjvKU73dAwwHeSWj+d0A+2gpfiM53QEOp+odBE3hAGup6ok7kd0BdT24Fv6h4QNfwCXpPXnhA81aQTFoYeEA3bKOJKtN3QDk9PbEjv3hASVrwJiw6eECATKNMSMl3QLL5F1XBV3dA82n4zTk9d0CEU525tTZ3QGylfyCtMndAHXXAlAYcd0Dcdew+MEt3QD+wE5sTIndAb6HH9UWod0BWGlZSGCZ4QA==\"},\"shape\":[74],\"dtype\":\"float64\",\"order\":\"little\"}],[\"Volume\",{\"type\":\"ndarray\",\"array\":{\"type\":\"bytes\",\"data\":\"pBEiChgYMwZU5gMIADrvA6ShKAXgIuoDtJt6A8BjtQMQacQDtKRNBAxaMgPg5ScDiPLHAxiquAKUPDYD2JqtAqS9iwME2w0EcIqhBDBJ7QKY+yQGsPMaBQQfiATkQ/AF2GSRBBwGVAeILzkFFB+bBOjSXAZYPlUFlN1KB1CthAXUb3QG7IO7BmByKQk8T+gEvLxsBjBSiATwLIMFOM2WBKgTYAeUlsoFVNfABNwXQwVYyuIEBHrCBXA3FwVAuJEHxAoxBTBdKwYMv60EDClJBAQJjgVUWxUEhOKJBcDoDQOAygsE8C8eA3i+jQRIWZsE6MKlBBTL2gRkxWAHxKVxBqwMBAdQ4yQH1NfCBES59wW47xMDDAY6BIwhdgQEepYE9NBoBDRhvAM=\"},\"shape\":[74],\"dtype\":\"int32\",\"order\":\"little\"}],[\"fecha\",{\"type\":\"ndarray\",\"array\":{\"type\":\"bytes\",\"data\":\"AAAAw6UVeEIAAMAo+BV4QgAAQPScFnhCAACAUycaeEIAAEC5eRp4QgAAAB/MGnhCAAAA5KgeeEIAAMBJ+x54QgAAQKzpIHhCAABAQzMieEIAAIB0KiN4QgAAQNp8I3hCAACAor0leEIAAABuYiZ4QgAAAAWsJ3hCAADAav4neEIAAEA2oyh4QgAAQGQ2K3hCAACAlS0seEIAAED7fyx4QgAAgCx3LXhCAACAw8AueEIAAEApEy94QgAAwPS3L3hCAADAiwExeEIAAABUQjN4QgAAgB/nM3hCAABAHIM1eEIAAACC1TV4QgAAwOcnNnhCAACATXo2eEIAAMB+cTd4QgAAgOTDN3hCAAAAsGg4eEIAAMAVuzh4QgAAQHipOnhCAAAA3vs6eEIAAEAP8zt4QgAAAHVFPHhCAADA2pc8eEIAAECmPD14QgAAQD2GPnhCAAAAo9g+eEIAAMAIKz94QgAAANFrQXhCAAAAaLVCeEIAAMDNB0N4QgAAgDNaQ3hCAABAmaxDeEIAAAD//kN4QgAAwPuaRXhCAACA+DZHeEIAAEBeiUd4QgAAAMTbR3hCAACAj4BIeEIAAMDAd0l4QgAAAIm4S3hCAADA7gpMeEIAAEC6r0x4QgAAQFH5TXhCAAAAt0tOeEIAAEDoQk94QgAAQH+MUHhCAAAA5d5QeEIAAMBKMVF4QgAAgLCDUXhCAADA4XpSeEIAAAATclN4QgAAwA8OVXhCAACAdWBVeEIAAADYTld4QgAAgKPzV3hCAACAOj1ZeEIAAIBo0Ft4Qg==\"},\"shape\":[74],\"dtype\":\"float64\",\"order\":\"little\"}],[\"companyName\",{\"type\":\"ndarray\",\"array\":[\"SPY\",\"SPY\",\"SPY\",\"SPY\",\"SPY\",\"SPY\",\"SPY\",\"SPY\",\"SPY\",\"SPY\",\"SPY\",\"SPY\",\"SPY\",\"SPY\",\"SPY\",\"SPY\",\"SPY\",\"SPY\",\"SPY\",\"SPY\",\"SPY\",\"SPY\",\"SPY\",\"SPY\",\"SPY\",\"SPY\",\"SPY\",\"SPY\",\"SPY\",\"SPY\",\"SPY\",\"SPY\",\"SPY\",\"SPY\",\"SPY\",\"SPY\",\"SPY\",\"SPY\",\"SPY\",\"SPY\",\"SPY\",\"SPY\",\"SPY\",\"SPY\",\"SPY\",\"SPY\",\"SPY\",\"SPY\",\"SPY\",\"SPY\",\"SPY\",\"SPY\",\"SPY\",\"SPY\",\"SPY\",\"SPY\",\"SPY\",\"SPY\",\"SPY\",\"SPY\",\"SPY\",\"SPY\",\"SPY\",\"SPY\",\"SPY\",\"SPY\",\"SPY\",\"SPY\",\"SPY\",\"SPY\",\"SPY\",\"SPY\",\"SPY\",\"SPY\"],\"shape\":[74],\"dtype\":\"object\",\"order\":\"little\"}],[\"SMA20\",{\"type\":\"ndarray\",\"array\":{\"type\":\"bytes\",\"data\":\"AAAAAAAA+H8AAAAAAAD4fwAAAAAAAPh/AAAAAAAA+H8AAAAAAAD4fwAAAAAAAPh/AAAAAAAA+H8zMzMrBMt2QM3MzJRW5nZAzczMJKgpd0BmZmbu4C13QJqZmbmlL3dAMzMz25uYd0AAAAAg98N3QJqZmTkn7XdAAQAAkJ8EeEA0MzObokR4QAEAALh26XhANDMz+yL3eEA0MzOzowd5QAEAAOiMFnlAAQAAULcIeUCamZm55fl4QJqZmeHr23hAmpmZkdPKeEDNzMw8HH94QM3MzMQGSHhAZmZmFs36d0AAAADgG+F3QDMzMyv0w3dAMzMzW3edd0CamZmBFn93QJqZmWkNYndAmpmZwSw2d0AzMzObIBl3QAAAAAh+23ZAMzMzw/K6dkBmZmae55R2QDMzM8PXenZAzczMXLdedkBmZmb+uzd2QGZmZrbyHHZAMzMzYxUWdkCamZnhRw92QM3MzGwyRnZAZmZmxuptdkBmZmaG+XJ2QGZmZq5CcXZAAAAAyJFvdkAzMzM7Cnp2QAAAAJC6qXZAZmZm1lL1dkAAAAAwcwp3QJqZmYFCH3dAmpmZ4U5Gd0AAAABQclJ3QAAAAABYhHdAmpmZAU+Ld0DNzMyES7Z3QJqZmfH143dAZmZmpq3ud0CamZmRRwd4QGZmZpboDHhAAAAAeJwNeECamZkBHgl4QDMzM2sBAnhAMzMzm/32d0BmZmYu5tR3QGZmZuZovXdAMzMzA2iwd0BmZmb+V3p3QAAAACirZXdAzczMxAZed0DNzMyECGJ3QA==\"},\"shape\":[74],\"dtype\":\"float64\",\"order\":\"little\"}],[\"SMA40\",{\"type\":\"ndarray\",\"array\":{\"type\":\"bytes\",\"data\":\"AAAAAAAA+H8AAAAAAAD4fwAAAAAAAPh/AAAAAAAA+H8AAAAAAAD4fwAAAAAAAPh/AAAAAAAA+H8AAAAAAAD4fwAAAAAAAPh/AAAAAAAA+H8AAAAAAAD4fwAAAAAAAPh/AAAAAAAA+H8AAAAAAAD4fwAAAAAAAPh/mpmZ3dFnd0BmZmYaF4x3QGZmZm6PCXhAzczM9IESeEBmZma2pBt4QM3MzJQwQnhAmpmZlalQeEBmZmbiP1V4QGZmZqJ6WXhAmpmZZf1beEAAAAAcDIR4QGZmZr4ng3hAzczMCPh4eECamZnJX3R4QGZmZiKnanhAmpmZqZNceEDNzMy00Up4QDMzM+srOXhAmpmZPQkYeEAzMzP7rwJ4QJqZmc1mxndAzczMKPuwd0AAAADgwZd3QAAAAAD6fHdAzczM0Gphd0DNzMygNjB3QGZmZubfC3dAmpmZoZj7dkBmZmYGnul2QDMzM5cvvnZAMzMzGz+6dkAAAABcdLh2QM3MzNg8sHZAAAAA6IeldkAzMzN/fpp2QGZmZvY4hHZAmpmZsSOOdkA0MzPzspN2QGdmZvKrmnZAZ2ZmAj6tdkDOzMzI7rh2QJqZmS2Q8XZAAQAA5Jz8dkCamZkZxxN3QGdmZhYAL3dAAQAAxA08d0DOzMyol2N3QGdmZrYdgXdAAQAA1AeMd0CamZlBMJR3QDQzM2/Dm3dAZ2ZmPqaed0CamZkZVaF3QDQzM3PgoHdAZmZmgtudd0AAAAAALqZ3QDMzM2csqndAMzMzhzKzd0AzMzNDk7V3QA==\"},\"shape\":[74],\"dtype\":\"float64\",\"order\":\"little\"}],[\"SMA100\",{\"type\":\"ndarray\",\"array\":{\"type\":\"bytes\",\"data\":\"AAAAAAAA+H8AAAAAAAD4fwAAAAAAAPh/AAAAAAAA+H8AAAAAAAD4fwAAAAAAAPh/AAAAAAAA+H8AAAAAAAD4fwAAAAAAAPh/AAAAAAAA+H8AAAAAAAD4fwAAAAAAAPh/AAAAAAAA+H8AAAAAAAD4fwAAAAAAAPh/AAAAAAAA+H8AAAAAAAD4fwAAAAAAAPh/AAAAAAAA+H8AAAAAAAD4fwAAAAAAAPh/AAAAAAAA+H8AAAAAAAD4fwAAAAAAAPh/AAAAAAAA+H8AAAAAAAD4fwAAAAAAAPh/AAAAAAAA+H8AAAAAAAD4fwAAAAAAAPh/AAAAAAAA+H8AAAAAAAD4fwAAAAAAAPh/AAAAAAAA+H8AAAAAAAD4fwAAAAAAAPh/AAAAAAAA+H8AAAAAAAD4fwAAAAAAAPh/AAAAAAAA+H8AAAAAAAD4fwAAAAAAAPh/AAAAAAAA+H8AAAAAAAD4fwAAAAAAAPh/AAAAAAAA+H8AAAAAAAD4fzMzMxtNY3dA16NwhStjd0AfhetZCWR3QNejcO3+aHdAj8L1ABlzd0BI4XqUpHR3QLgehaPydXdAUrgeTfN6d0CPwvXY3X13QIXrUbDkiHdAXI/C5SaKd0CF61FgW5J3QFK4HgWFmndAuB6FQxucd0AUrkeR9Z53QK5H4UqMoHdAAAAAsGOhd0CF61EYcaF3QI/C9QA5n3dApHA9yrmbd0CF61HAcpB3QDMzMwuVh3dAXI/CBW2Cd0BxPQpH8nR3QDMzM+MOaXdAAAAAQGRdd0A9CtfbHk13QA==\"},\"shape\":[74],\"dtype\":\"float64\",\"order\":\"little\"}],[\"SMA200\",{\"type\":\"ndarray\",\"array\":{\"type\":\"bytes\",\"data\":\"AAAAAAAA+H8AAAAAAAD4fwAAAAAAAPh/AAAAAAAA+H8AAAAAAAD4fwAAAAAAAPh/AAAAAAAA+H8AAAAAAAD4fwAAAAAAAPh/AAAAAAAA+H8AAAAAAAD4fwAAAAAAAPh/AAAAAAAA+H8AAAAAAAD4fwAAAAAAAPh/AAAAAAAA+H8AAAAAAAD4fwAAAAAAAPh/AAAAAAAA+H8AAAAAAAD4fwAAAAAAAPh/AAAAAAAA+H8AAAAAAAD4fwAAAAAAAPh/AAAAAAAA+H8AAAAAAAD4fwAAAAAAAPh/AAAAAAAA+H8AAAAAAAD4fwAAAAAAAPh/AAAAAAAA+H8AAAAAAAD4fwAAAAAAAPh/AAAAAAAA+H8AAAAAAAD4fwAAAAAAAPh/AAAAAAAA+H8AAAAAAAD4fwAAAAAAAPh/AAAAAAAA+H8AAAAAAAD4fwAAAAAAAPh/AAAAAAAA+H8AAAAAAAD4fwAAAAAAAPh/AAAAAAAA+H8AAAAAAAD4fwAAAAAAAPh/AAAAAAAA+H8AAAAAAAD4fwAAAAAAAPh/AAAAAAAA+H8AAAAAAAD4fwAAAAAAAPh/AAAAAAAA+H8AAAAAAAD4fwAAAAAAAPh/AAAAAAAA+H8AAAAAAAD4fwAAAAAAAPh/AAAAAAAA+H8AAAAAAAD4fwAAAAAAAPh/AAAAAAAA+H8AAAAAAAD4fwAAAAAAAPh/AAAAAAAA+H8AAAAAAAD4fwAAAAAAAPh/AAAAAAAA+H8AAAAAAAD4fwAAAAAAAPh/AAAAAAAA+H8AAAAAAAD4fw==\"},\"shape\":[74],\"dtype\":\"float64\",\"order\":\"little\"}],[\"pivotHigh\",{\"type\":\"ndarray\",\"array\":{\"type\":\"bytes\",\"data\":\"AAAAAAAA+H8AAAAAAAD4fwAAAAAAAPh/AAAAAAAA+H8AAAAAAAD4fwAAAAAAAPh/AAAAAAAA+H8AAAAAAAD4fwAAAAAAAPh/AAAAAAAA+H8AAAAAAAD4fwAAAAAAAPh/AAAAAAAA+H8AAAAAAAD4fwAAAAAAAPh/AAAAAAAA+H8AAAAAAAD4fwAAAAAAAPh/AAAAAAAA+H8AAAAAAAD4fwAAAAAAAPh/AAAAAAAA+H8AAAAAAAD4fwAAAAAAAPh/AAAAAAAA+H8AAAAAAAD4fwAAAAAAAPh/AAAAAAAA+H8AAAAAAAD4fwAAAAAAAPh/AAAAAAAA+H8AAAAAAAD4fwAAAAAAAPh/AAAAAAAA+H8AAAAAAAD4fwAAAAAAAPh/AAAAAAAA+H8AAAAAAAD4fwAAAAAAAPh/AAAAAAAA+H8AAAAAAAD4fwAAAAAAAPh/AAAAAAAA+H8AAAAAAAD4fwAAAAAAAPh/AAAAAAAA+H8AAAAAAAD4fwAAAAAAAPh/AAAAAAAA+H8AAAAAAAD4fwAAAAAAAPh/AAAAAAAA+H8AAAAAAAD4fwAAAAAAAPh/AAAAAAAA+H8AAAAAAAD4fwAAAAAAAPh/AAAAAAAA+H8AAAAAAAD4fwAAAAAAAPh/AAAAAAAA+H8AAAAAAAD4fwAAAAAAAPh/AAAAAAAA+H8AAAAAAAD4fwAAAAAAAPh/AAAAAAAA+H8AAAAAAAD4fwAAAAAAAPh/AAAAAAAA+H8AAAAAAAD4fwAAAAAAAPh/AAAAAAAA+H8AAAAAAAD4fw==\"},\"shape\":[74],\"dtype\":\"float64\",\"order\":\"little\"}],[\"pivotLow\",{\"type\":\"ndarray\",\"array\":{\"type\":\"bytes\",\"data\":\"AAAAAAAA+H8AAAAAAAD4f6JXtuZ7x3VAAAAAAAAA+H8AAAAAAAD4fwAAAAAAAPh/AAAAAAAA+H8AAAAAAAD4fwAAAAAAAPh/AAAAAAAA+H8AAAAAAAD4fwAAAAAAAPh/AAAAAAAA+H8AAAAAAAD4fwAAAAAAAPh/AAAAAAAA+H8AAAAAAAD4fwAAAAAAAPh/AAAAAAAA+H8AAAAAAAD4fwAAAAAAAPh/AAAAAAAA+H8AAAAAAAD4fwAAAAAAAPh/AAAAAAAA+H8AAAAAAAD4fwAAAAAAAPh/AAAAAAAA+H8AAAAAAAD4fwAAAAAAAPh/AAAAAAAA+H8AAAAAAAD4fwAAAAAAAPh/AAAAAAAA+H8AAAAAAAD4fwAAAAAAAPh/AAAAAAAA+H8AAAAAAAD4fwAAAAAAAPh/cIQKFmx+dUAAAAAAAAD4fwAAAAAAAPh/AAAAAAAA+H8AAAAAAAD4fwAAAAAAAPh/AAAAAAAA+H8AAAAAAAD4fwAAAAAAAPh/AAAAAAAA+H8AAAAAAAD4fwAAAAAAAPh/AAAAAAAA+H8AAAAAAAD4fwAAAAAAAPh/AAAAAAAA+H8AAAAAAAD4fwAAAAAAAPh/AAAAAAAA+H8AAAAAAAD4fwAAAAAAAPh/AAAAAAAA+H8AAAAAAAD4fwAAAAAAAPh/AAAAAAAA+H8AAAAAAAD4fwAAAAAAAPh/AAAAAAAA+H8AAAAAAAD4fwAAAAAAAPh/egpA4NXPdkAAAAAAAAD4fwAAAAAAAPh/AAAAAAAA+H8AAAAAAAD4fw==\"},\"shape\":[74],\"dtype\":\"float64\",\"order\":\"little\"}],[\"isPivot\",{\"type\":\"ndarray\",\"array\":{\"type\":\"bytes\",\"data\":\"AAAAAAAA+H8AAAAAAAD4fwAAAAAAAABAAAAAAAAA+H8AAAAAAAD4fwAAAAAAAPh/AAAAAAAA+H8AAAAAAAD4fwAAAAAAAPh/AAAAAAAA+H8AAAAAAAD4fwAAAAAAAPh/AAAAAAAA+H8AAAAAAAD4fwAAAAAAAPh/AAAAAAAA+H8AAAAAAAD4fwAAAAAAAPh/AAAAAAAA+H8AAAAAAAD4fwAAAAAAAPh/AAAAAAAA+H8AAAAAAAD4fwAAAAAAAPh/AAAAAAAA+H8AAAAAAAD4fwAAAAAAAPh/AAAAAAAA+H8AAAAAAAD4fwAAAAAAAPh/AAAAAAAA+H8AAAAAAAD4fwAAAAAAAPh/AAAAAAAA+H8AAAAAAAD4fwAAAAAAAPh/AAAAAAAA+H8AAAAAAAD4fwAAAAAAAPh/AAAAAAAAAEAAAAAAAAD4fwAAAAAAAPh/AAAAAAAA+H8AAAAAAAD4fwAAAAAAAPh/AAAAAAAA+H8AAAAAAAD4fwAAAAAAAPh/AAAAAAAA+H8AAAAAAAD4fwAAAAAAAPh/AAAAAAAA+H8AAAAAAAD4fwAAAAAAAPh/AAAAAAAA+H8AAAAAAAD4fwAAAAAAAPh/AAAAAAAA+H8AAAAAAAD4fwAAAAAAAPh/AAAAAAAA+H8AAAAAAAD4fwAAAAAAAPh/AAAAAAAA+H8AAAAAAAD4fwAAAAAAAPh/AAAAAAAA+H8AAAAAAAD4fwAAAAAAAPh/AAAAAAAAAEAAAAAAAAD4fwAAAAAAAPh/AAAAAAAA+H8AAAAAAAD4fw==\"},\"shape\":[74],\"dtype\":\"float64\",\"order\":\"little\"}]]}}},\"view\":{\"type\":\"object\",\"name\":\"CDSView\",\"id\":\"p1061\",\"attributes\":{\"filter\":{\"type\":\"object\",\"name\":\"AllIndices\",\"id\":\"p1062\"}}},\"glyph\":{\"type\":\"object\",\"name\":\"VBar\",\"id\":\"p1057\",\"attributes\":{\"x\":{\"type\":\"field\",\"field\":\"index\"},\"width\":{\"type\":\"value\",\"value\":0.6},\"bottom\":{\"type\":\"field\",\"field\":\"Open\"},\"top\":{\"type\":\"field\",\"field\":\"Close\"},\"line_color\":{\"type\":\"value\",\"value\":\"red\"},\"fill_color\":{\"type\":\"value\",\"value\":\"red\"}}},\"nonselection_glyph\":{\"type\":\"object\",\"name\":\"VBar\",\"id\":\"p1058\",\"attributes\":{\"x\":{\"type\":\"field\",\"field\":\"index\"},\"width\":{\"type\":\"value\",\"value\":0.6},\"bottom\":{\"type\":\"field\",\"field\":\"Open\"},\"top\":{\"type\":\"field\",\"field\":\"Close\"},\"line_color\":{\"type\":\"value\",\"value\":\"red\"},\"line_alpha\":{\"type\":\"value\",\"value\":0.1},\"fill_color\":{\"type\":\"value\",\"value\":\"red\"},\"fill_alpha\":{\"type\":\"value\",\"value\":0.1},\"hatch_alpha\":{\"type\":\"value\",\"value\":0.1}}},\"muted_glyph\":{\"type\":\"object\",\"name\":\"VBar\",\"id\":\"p1059\",\"attributes\":{\"x\":{\"type\":\"field\",\"field\":\"index\"},\"width\":{\"type\":\"value\",\"value\":0.6},\"bottom\":{\"type\":\"field\",\"field\":\"Open\"},\"top\":{\"type\":\"field\",\"field\":\"Close\"},\"line_color\":{\"type\":\"value\",\"value\":\"red\"},\"line_alpha\":{\"type\":\"value\",\"value\":0.2},\"fill_color\":{\"type\":\"value\",\"value\":\"red\"},\"fill_alpha\":{\"type\":\"value\",\"value\":0.2},\"hatch_alpha\":{\"type\":\"value\",\"value\":0.2}}}}},{\"type\":\"object\",\"name\":\"GlyphRenderer\",\"id\":\"p1072\",\"attributes\":{\"data_source\":{\"type\":\"object\",\"name\":\"ColumnDataSource\",\"id\":\"p1063\",\"attributes\":{\"selected\":{\"type\":\"object\",\"name\":\"Selection\",\"id\":\"p1064\",\"attributes\":{\"indices\":[],\"line_indices\":[]}},\"selection_policy\":{\"type\":\"object\",\"name\":\"UnionRenderers\",\"id\":\"p1065\"},\"data\":{\"type\":\"map\",\"entries\":[[\"index\",{\"type\":\"ndarray\",\"array\":{\"type\":\"bytes\",\"data\":\"AgAAAAQAAAAFAAAABgAAAAcAAAAIAAAADAAAAA0AAAAOAAAADwAAABAAAAARAAAAFAAAABUAAAAWAAAAGAAAABkAAAAaAAAAHgAAAB8AAAAgAAAAIQAAACMAAAAlAAAAKAAAACoAAAArAAAALAAAAC0AAAAuAAAAMgAAADMAAAA1AAAAOAAAADsAAAA8AAAAPQAAAD4AAABAAAAAQgAAAEMAAABKAAAATQAAAE4AAABPAAAAVQAAAFcAAABbAAAAXAAAAF0AAABeAAAAYAAAAGYAAABnAAAAaQAAAGoAAABuAAAAcQAAAHIAAABzAAAAdgAAAHgAAAB7AAAAfAAAAH4AAACEAAAAhQAAAIcAAACKAAAAiwAAAI0AAACPAAAAkQAAAJIAAACTAAAAlAAAAA==\"},\"shape\":[76],\"dtype\":\"int32\",\"order\":\"little\"}],[\"Close\",{\"type\":\"ndarray\",\"array\":{\"type\":\"bytes\",\"data\":\"AAAAQAyvdkAAAADg9fp1QAEAAMCciHZAAAAAQCd+dkABAABAmbZ2QAAAAMB3b3dAAAAAACSqdkAAAADgged2QAAAAKCU8nZAAAAA4GsGd0AAAADgs153QAAAAADIWXdAAAAA4HDCdkABAADASrR2QAAAAOBVI3dAAQAAQCaRd0AAAACAmbd3QAAAAGBt9XdAAAAAoAgYeEAAAAAAZWV4QAAAAOBxwHhAAAAAYK6teEAAAACgR+Z4QAEAAEA113hAAAAAQHw7eUAAAACA1qh5QAAAAEDow3lAAAAAgNPQeUAAAAAA66F5QAAAAAD9tHlAAAAAoEjaeEAAAABgGjR5QAEAAMB8MHhAAAAAIPrQd0ABAADA5OV3QAAAAKDhDXhAAAAA4ItteEAAAAAAwrB4QAAAACD8tHdAAAAA4E5Cd0AAAADAe3B3QAAAACAyWnZAAAAAYKgddkAAAAAgGM12QAAAACCBv3ZAAAAAYMYTdkAAAADg5iB2QAEAAEBDlHZAAAAAAP7adkABAADAbDh3QAAAAICjC3dAAAAAwL13d0AAAAAgrOt2QAAAAIBUC3dAAAAAIE7Pd0AAAACATAp4QAEAAEBbyHdAAAAAwMMfeEAAAACgrkZ4QAAAAIBKRXhAAAAA4OmXeEAAAADABYx4QAAAAICtt3dAAQAAQD7nd0AAAACgFxF4QAAAAODED3dAAAAAwAtod0AAAADgiTR3QAEAAMDCPHdAAQAAQBctd0AAAADAuUF3QAAAAOC+hHdAAAAA4Ierd0AAAADAK/h3QAAAACCDDnhAAAAAYGcmeEA=\"},\"shape\":[76],\"dtype\":\"float64\",\"order\":\"little\"}],[\"High\",{\"type\":\"ndarray\",\"array\":{\"type\":\"bytes\",\"data\":\"iex76gX3dkBrksxCGTF2QAVcPS4Rn3ZA8nwMub/AdkDxC1nucMJ2QNrbVymfb3dA2Gi+OJbedkAVyRsfle52QCPtrnLj8nZAOG/Sl7cud0DWgy0yn2t3QLm0Yn4UeHdAqg4jQPfxdkBZnPE208V2QIv3DVUuJXdA8jcRqGCad0C1RzIqhM53QGDpLjEy9ndAEdY2QFU0eEBhzqcnn3B4QFFmdLRw0HhA4K5j6kjWeECnBYxuMvl4QBW8kJaq4XhApH4U8co9eUCqLbaLh6p5QOiV5dZdzHlAOsHROAzweUDJxp1XwM15QNWhUL4PwHlApIN4O27weECAZi8x3zR5QOCVXXbbYXhAYy8tf4PWd0CZfeH0WfJ3QLZJLXRDFXhANX0O1op7eED9Rcpjcrx4QBSSz9WXzXdA0z/IyPZMd0AAAADAe3B3QJ0HvryHdXZAFYaZIZ47dkBx9Xm5js12QFuTbNka5HZAoPDXw44rdkATEZLs0DJ2QBr3D3EjnHZADgrbpV7tdkCHJThYhT13QEgnhdOAYXdAFbscfXZ/d0CI7SFDP/V2QPo6zlSDO3dAVpjH3bXUd0BNHCxoRRd4QLOudE5S03dAabPx5GMieEDN/RHRjk54QOgNnpU/TnhAAAAA4OmXeECDtlF7sZp4QKNcWiv63XdA6e1jIIr4d0AAAACgFxF4QJC6WfH8KXdA+q9dP1p6d0AjA32Y3TZ3QMcRN/PgSndAR+53+Govd0AmWnWXnWJ3QOHk2rzllndATnYW652sd0DI8mSMafl3QJsBs7c/JnhABsbjYLYveEA=\"},\"shape\":[76],\"dtype\":\"float64\",\"order\":\"little\"}],[\"Low\",{\"type\":\"ndarray\",\"array\":{\"type\":\"bytes\",\"data\":\"6hwe959CdkCHybpVNcJ1QKlqfBl5VnZAiXY+HWc9dkAWs0B0FWd2QOD7KtyB6XZAEpKnCAJidkD0ripSFHV2QDG66qg8Z3ZArFkCvUjOdkBUWql9ugZ3QPIBL618K3dAxAhPYk6CdkBL58l8oUp2QPMdGqq93HZAkIjPslUnd0Cfk2UFFH53QOPKH0ROh3dAjT3xyIasd0Dt+C2Alet3QFk/kCQpcHhAHTzC+zqJeEBtACmT1qF4QIz3t+avm3hA/6IvTzEJeUCou2kJe0t5QFZ1GXYUhHlA2DU+RnSleUBQlUpYd4F5QC4eQMk6kHlAWyiYkze3eEAf+6EivuB4QINjHW9+GnhAF/MdG9pud0B4NQQKUHF3QLEb8BCarXdA1vrYYN8teEC2C9VTJ4p4QCYhq0N2f3dA4cAWVAcNd0Aks6AdHA53QHiCMhO733VAmQopqmCrdUCqVqt/Ch12QEIKs9SuYHZAAaGiMfX/dEBzKe+oko11QFt8BF0/7nVAyZhW7gmCdkAXkG2D59d2QEADzrxKAXdAH4sCSYDndkCtY6eyaad2QNBbvJ47yXZA6zg1M4tDd0A8QapcoL53QBM94BUKiXdAyEj9umjWd0Cztfs+pxZ4QP08+VYXOXhAHpdej568d0ASYQ60W0J4QLzZ7tlMpXdA0aINamC5d0AIgmNUibt3QIGO2ywJ5nZAIazfIiAxd0DJXcpJ1Oh2QP22m14e+XZAwW+wuAjvdkAmGm9fZAd3QKPR0uQ8/nZAa1HgJqpod0A+Mu5B8bd3QIOraQAUyHdA/JExvVnWd0A=\"},\"shape\":[76],\"dtype\":\"float64\",\"order\":\"little\"}],[\"Open\",{\"type\":\"ndarray\",\"array\":{\"type\":\"bytes\",\"data\":\"tNQWqt6SdkBIRjLqk/V1QAMhtCa0V3ZAc5WciStEdkB61l5YwqB2QHPzb/n36XZAOw3KSJuadkAi9sZRh592QKb6gt4RlXZAX75YSuP0dkCWbAaHLiN3QKsMo60/RHdAHEG1zhKJdkCEDMZEKHJ2QHdHSZCn+3ZAbO/pU/Ixd0B7/KS/OZR3QOuWwKM3rndAVzH3Vkuxd0CefkkZGyV4QCq+elmefHhA7ewm9sOUeEByhMq3c6Z4QM3RQCGcnHhAH+dWJeAoeUDqGDNX3Fp5QG/VobAAhXlAst60AYeyeUDkP9puiZZ5QLo7MXYlpXlAVhzzUUrCeEC7qLsCbvJ4QNrK87zfKXhA6BhOcq+ad0DC8siK2XR3QF9Zw4QiwXdAKGST0S0yeECWOTFLE494QPgom0H8sndABsYPAWEsd0A6RSZ2WA93QCv6uUI4+3VAJjYHpkHIdUAWqhU5E3d2QDAl3lNdhnZAK988C/IQdUDeS3KcgfV1QDqoI86lBnZA4LzatvisdkAwb1Ppwdl2QJUWECJ2BXdAFp6fdG/qdkBa5WdAFMl2QNXfzdiV/XZARu+h+cJod0A7IaRKNN13QMVhWBv7jXdAFXvH60Ptd0Dn8McKXBp4QIZP5cKRPXhAVlT/96jbd0Ak2SuHDkR4QK1x37pHtHdAhcEvhUHWd0BoFOewWMZ3QMSV+Qty+3ZAeJWoPdA5d0CsOlJQ9gF3QLhpEtemAXdAUvygHVIRd0BgIZ8iujh3QDM3GgviL3dAU/8EZd53d0DhATUrIcV3QHy3W3ADCnhAUdSJyrHad0A=\"},\"shape\":[76],\"dtype\":\"float64\",\"order\":\"little\"}],[\"Volume\",{\"type\":\"ndarray\",\"array\":{\"type\":\"bytes\",\"data\":\"8IV9B6x2nwZ8DpQEiDJeBcTmuQT8INgFjL20BpT2dQQwpdoEWJ4yBEyW2APos1AEWCoFBWDJWAWwXbYEEOitBNg/SATcWt4D1HDoBAikaAQ0ki8FvBMsBDjcCgQ07WIDZMEXBCRirQMstjgDqK2IA4jmyQPgCOwCyGTuAlxRCQOweuUDhHqxBOjTOgTEPdEEVHSSBGzEIATUWxEFAPMkBiQkXgQYtZoGVJNZBXDaLAakxj8F5OzGCEiijQXAfM8H5KkXBVwZswQEPzQGsHz6BbT5EQRMhQsFuHFuCBzilwUsuXAEyBKaA+CWEQT4FdIBrOmdCOw5FgXc+u0DbMmeA+iZfgRAq28EaL2oBJRZkQMU5f0DuBMCBRRAHwWgzjUGFEnlA8wKGwSEsl8FnBjPAw==\"},\"shape\":[76],\"dtype\":\"int32\",\"order\":\"little\"}],[\"fecha\",{\"type\":\"ndarray\",\"array\":{\"type\":\"bytes\",\"data\":\"AACAjkoWeEIAAABa7xZ4QgAAAPE4GHhCAADAVosYeEIAAIC83Rh4QgAAQCIwGXhCAADAhB4beEIAAIDqcBt4QgAAgIG6HHhCAABA5wwdeEIAAABNXx14QgAAwLKxHXhCAACAr00feEIAAEAVoB94QgAAAHvyH3hCAAAAEjwheEIAAMB3jiF4QgAAgN3gIXhCAAAAQM8jeEIAAMClISR4QgAAgAt0JHhCAADAPGsleEIAAEAIECZ4QgAAwNO0JnhCAACA0FAoeEIAAACc9Sh4QgAAQM3sKXhCAAAAMz8qeEIAAMCYkSp4QgAAgP7jKnhCAAAAYdIseEIAAMDGJC14QgAAwF1uLnhCAAAAj2UveEIAAIDxUzF4QgAAQFemMXhCAAAAvfgxeEIAAEDu7zJ4QgAAwLmUM3hCAABAhTk0eEIAAIC2MDV4QgAAQEoWOHhCAAAAR7I5eEIAAMCsBDp4QgAAgBJXOnhCAACAQOo8eEIAAIDXMz54QgAAgG59P3hCAADAn3RAeEIAAIAFx0B4QgAAQGsZQXhCAADANr5BeEIAAEAw9kR4QgAAAJZIRXhCAACAYe1FeEIAAEDHP0Z4QgAAwCkuSHhCAACAJspJeEIAAECMHEp4QgAAwFfBSnhCAACAVF1MeEIAAAAgAk14QgAAwByeTnhCAACAgvBOeEIAAIAZOlB4QgAAgEfNUnhCAABArR9TeEIAAMB4xFN4QgAAQNuyVXhCAAAAQQVWeEIAAMA9oVd4QgAAQAlGWHhCAABAoI9ZeEIAAAAG4ll4QgAAwGs0WnhCAACA0YZaeEI=\"},\"shape\":[76],\"dtype\":\"float64\",\"order\":\"little\"}],[\"companyName\",{\"type\":\"ndarray\",\"array\":[\"SPY\",\"SPY\",\"SPY\",\"SPY\",\"SPY\",\"SPY\",\"SPY\",\"SPY\",\"SPY\",\"SPY\",\"SPY\",\"SPY\",\"SPY\",\"SPY\",\"SPY\",\"SPY\",\"SPY\",\"SPY\",\"SPY\",\"SPY\",\"SPY\",\"SPY\",\"SPY\",\"SPY\",\"SPY\",\"SPY\",\"SPY\",\"SPY\",\"SPY\",\"SPY\",\"SPY\",\"SPY\",\"SPY\",\"SPY\",\"SPY\",\"SPY\",\"SPY\",\"SPY\",\"SPY\",\"SPY\",\"SPY\",\"SPY\",\"SPY\",\"SPY\",\"SPY\",\"SPY\",\"SPY\",\"SPY\",\"SPY\",\"SPY\",\"SPY\",\"SPY\",\"SPY\",\"SPY\",\"SPY\",\"SPY\",\"SPY\",\"SPY\",\"SPY\",\"SPY\",\"SPY\",\"SPY\",\"SPY\",\"SPY\",\"SPY\",\"SPY\",\"SPY\",\"SPY\",\"SPY\",\"SPY\",\"SPY\",\"SPY\",\"SPY\",\"SPY\",\"SPY\",\"SPY\"],\"shape\":[76],\"dtype\":\"object\",\"order\":\"little\"}],[\"SMA20\",{\"type\":\"ndarray\",\"array\":{\"type\":\"bytes\",\"data\":\"AAAAAAAA+H8AAAAAAAD4fwAAAAAAAPh/AAAAAAAA+H8AAAAAAAD4fwAAAAAAAPh/AAAAAAAA+H8AAAAAAAD4fwAAAAAAAPh/AAAAAAAA+H8AAAAAAAD4fwAAAAAAAPh/AAAAsDPPdkCamZmZi9N2QM3MzBRc2XZAzczMzKX6dkCamZkJzAl3QDMzM4uPHHdAmpmZ0VM/d0CamZkpHVN3QJqZmUHUbXdAZmZmromEd0AzMzMLmrB3QDMzM2MJ13dAAQAAiEYkeECamZkJ6WR4QDQzM/v7iHhAzszMpMSleEABAAC4SL54QAEAAICp1HhAmpmZGVoReUABAAD4rxt5QM7MzGxKEHlANDMzWz/seEAzMzMbZMB4QDMzM5NPsXhAZmZmjgOneECamZkhnJp4QM3MzEQeZHhAMzMzQ7EoeEDNzMzEFhB4QDMzM9PvTXdAAAAAcJMGd0CamZkx7/12QDMzMwM373ZAAAAACE1NdkDNzMyM9CZ2QDMzMyMtFHZAmpmZQWsfdkBmZmYmDTB2QDMzM2vsOHZAMzMzW8hedkCamZnhbYl2QJqZmXEpnHZAAAAAwOe/dkAzMzOreN92QDMzM3OFNXdAZmZmdgNed0DNzMwExG13QDMzMwMGf3dAzczMJDGdd0CamZkBBNJ3QDMzM7NL93dAmpmZSV4IeEBmZmaGngd4QAAAALh97XdAZmZmHk7kd0AzMzPzQsd3QM3MzHQMn3dAmpmZoSONd0AzMzMre293QJqZmTkfY3dAMzMzk1Ndd0DNzMyUFFx3QAAAAJCeWXdAmpmZYVZad0A=\"},\"shape\":[76],\"dtype\":\"float64\",\"order\":\"little\"}],[\"SMA40\",{\"type\":\"ndarray\",\"array\":{\"type\":\"bytes\",\"data\":\"AAAAAAAA+H8AAAAAAAD4fwAAAAAAAPh/AAAAAAAA+H8AAAAAAAD4fwAAAAAAAPh/AAAAAAAA+H8AAAAAAAD4fwAAAAAAAPh/AAAAAAAA+H8AAAAAAAD4fwAAAAAAAPh/AAAAAAAA+H8AAAAAAAD4fwAAAAAAAPh/AAAAAAAA+H8AAAAAAAD4fwAAAAAAAPh/AAAAAAAA+H8AAAAAAAD4fwAAAAAAAPh/AAAAAAAA+H8AAAAAAAD4fwAAAAAAAPh/AAAAHL15d0AzMzOPIp93QAAAAEipt3dAzczMODXQd0DNzMxgCuR3QJqZmYWc+HdAmpmZ9VYoeEDNzMyQZjd4QJqZmQ1qSnhAmpmZPRtYeECamZnVgWJ4QJqZmQ3LanhAzczMFNN1eECamZmVwn94QM3MzHTxhHhAmpmZYa1+eEBmZma+xnx4QJqZmZFTK3hAzczMqD/xd0CamZlhYeR3QDMzM4/N13dAZmZm5qlKd0DNzMyohRt3QDMzMz/S2HZAmpmZ4UDPdkAAAABIDcl2QDMzMx9uw3ZAMzMze/S7dkAAAADAKo92QGZmZpqAi3ZAAAAAZJqGdkDNzMxUmot2QGdmZqpmonZAZ2ZmTgjHdkABAAA4WNN2QAEAADic4nZAmpmZVRUId0DOzMzkyiB3QGdmZpK6SXdAzszMbAxZd0DOzMyYi3N3QAEAAAT4n3dAZ2Zmyiihd0A0MzN7JKN3QM3MzMwenndAMzMzk7ehd0BmZmaOuKl3QGZmZnY1rXdAZmZmkk2yd0CamZmN2bF3QDMzM5NDs3dAzczMbPmzd0A=\"},\"shape\":[76],\"dtype\":\"float64\",\"order\":\"little\"}],[\"SMA100\",{\"type\":\"ndarray\",\"array\":{\"type\":\"bytes\",\"data\":\"AAAAAAAA+H8AAAAAAAD4fwAAAAAAAPh/AAAAAAAA+H8AAAAAAAD4fwAAAAAAAPh/AAAAAAAA+H8AAAAAAAD4fwAAAAAAAPh/AAAAAAAA+H8AAAAAAAD4fwAAAAAAAPh/AAAAAAAA+H8AAAAAAAD4fwAAAAAAAPh/AAAAAAAA+H8AAAAAAAD4fwAAAAAAAPh/AAAAAAAA+H8AAAAAAAD4fwAAAAAAAPh/AAAAAAAA+H8AAAAAAAD4fwAAAAAAAPh/AAAAAAAA+H8AAAAAAAD4fwAAAAAAAPh/AAAAAAAA+H8AAAAAAAD4fwAAAAAAAPh/AAAAAAAA+H8AAAAAAAD4fwAAAAAAAPh/AAAAAAAA+H8AAAAAAAD4fwAAAAAAAPh/AAAAAAAA+H8AAAAAAAD4fwAAAAAAAPh/AAAAAAAA+H8AAAAAAAD4fwAAAAAAAPh/AAAAAAAA+H8AAAAAAAD4fwAAAAAAAPh/AAAAAAAA+H8AAAAAAAD4fwAAAAAAAPh/AAAAAAAA+H8AAAAAAAD4fwAAAAAAAPh/AAAAAAAA+H/NzMyMpGR3QFK4Hs18Z3dArkfhQkNsd0DNzMxkOXB3QD0K13tJeHdAH4XrOf2Ad0CuR+HiY4R3QBSuRzGUh3dAmpmZIQSOd0CPwvXI7pZ3QJqZmTkUnndAAAAAoPCed0A9CtdjPJ93QD0K1yNml3dAuB6FgySUd0B7FK5fHIx3QNejcC1lfndApHA9ynV6d0CF61GI4293QBSuR3lOY3dAuB6FI15Yd0AAAABo61N3QK5H4UKUUHdA4XoUXtROd0A=\"},\"shape\":[76],\"dtype\":\"float64\",\"order\":\"little\"}],[\"SMA200\",{\"type\":\"ndarray\",\"array\":{\"type\":\"bytes\",\"data\":\"AAAAAAAA+H8AAAAAAAD4fwAAAAAAAPh/AAAAAAAA+H8AAAAAAAD4fwAAAAAAAPh/AAAAAAAA+H8AAAAAAAD4fwAAAAAAAPh/AAAAAAAA+H8AAAAAAAD4fwAAAAAAAPh/AAAAAAAA+H8AAAAAAAD4fwAAAAAAAPh/AAAAAAAA+H8AAAAAAAD4fwAAAAAAAPh/AAAAAAAA+H8AAAAAAAD4fwAAAAAAAPh/AAAAAAAA+H8AAAAAAAD4fwAAAAAAAPh/AAAAAAAA+H8AAAAAAAD4fwAAAAAAAPh/AAAAAAAA+H8AAAAAAAD4fwAAAAAAAPh/AAAAAAAA+H8AAAAAAAD4fwAAAAAAAPh/AAAAAAAA+H8AAAAAAAD4fwAAAAAAAPh/AAAAAAAA+H8AAAAAAAD4fwAAAAAAAPh/AAAAAAAA+H8AAAAAAAD4fwAAAAAAAPh/AAAAAAAA+H8AAAAAAAD4fwAAAAAAAPh/AAAAAAAA+H8AAAAAAAD4fwAAAAAAAPh/AAAAAAAA+H8AAAAAAAD4fwAAAAAAAPh/AAAAAAAA+H8AAAAAAAD4fwAAAAAAAPh/AAAAAAAA+H8AAAAAAAD4fwAAAAAAAPh/AAAAAAAA+H8AAAAAAAD4fwAAAAAAAPh/AAAAAAAA+H8AAAAAAAD4fwAAAAAAAPh/AAAAAAAA+H8AAAAAAAD4fwAAAAAAAPh/AAAAAAAA+H8AAAAAAAD4fwAAAAAAAPh/AAAAAAAA+H8AAAAAAAD4fwAAAAAAAPh/AAAAAAAA+H8AAAAAAAD4fwAAAAAAAPh/AAAAAAAA+H8=\"},\"shape\":[76],\"dtype\":\"float64\",\"order\":\"little\"}],[\"pivotHigh\",{\"type\":\"ndarray\",\"array\":{\"type\":\"bytes\",\"data\":\"AAAAAAAA+H8AAAAAAAD4fwAAAAAAAPh/AAAAAAAA+H8AAAAAAAD4fwAAAAAAAPh/AAAAAAAA+H8AAAAAAAD4fwAAAAAAAPh/AAAAAAAA+H8AAAAAAAD4fwAAAAAAAPh/AAAAAAAA+H8AAAAAAAD4fwAAAAAAAPh/AAAAAAAA+H8AAAAAAAD4fwAAAAAAAPh/AAAAAAAA+H8AAAAAAAD4fwAAAAAAAPh/AAAAAAAA+H8AAAAAAAD4fwAAAAAAAPh/AAAAAAAA+H8AAAAAAAD4fwAAAAAAAPh/9jVlURDweUAAAAAAAAD4fwAAAAAAAPh/AAAAAAAA+H8AAAAAAAD4fwAAAAAAAPh/AAAAAAAA+H8AAAAAAAD4fwAAAAAAAPh/AAAAAAAA+H8AAAAAAAD4fwAAAAAAAPh/AAAAAAAA+H8AAAAAAAD4fwAAAAAAAPh/AAAAAAAA+H8AAAAAAAD4fwAAAAAAAPh/AAAAAAAA+H8AAAAAAAD4fwAAAAAAAPh/AAAAAAAA+H8AAAAAAAD4fwAAAAAAAPh/AAAAAAAA+H8AAAAAAAD4fwAAAAAAAPh/AAAAAAAA+H8AAAAAAAD4fwAAAAAAAPh/AAAAAAAA+H8AAAAAAAD4fwAAAAAAAPh/vHST+O2XeEAAAAAAAAD4fwAAAAAAAPh/AAAAAAAA+H8AAAAAAAD4fwAAAAAAAPh/AAAAAAAA+H8AAAAAAAD4fwAAAAAAAPh/AAAAAAAA+H8AAAAAAAD4fwAAAAAAAPh/AAAAAAAA+H8AAAAAAAD4fwAAAAAAAPh/AAAAAAAA+H8=\"},\"shape\":[76],\"dtype\":\"float64\",\"order\":\"little\"}],[\"pivotLow\",{\"type\":\"ndarray\",\"array\":{\"type\":\"bytes\",\"data\":\"AAAAAAAA+H8AAAAAAAD4fwAAAAAAAPh/AAAAAAAA+H8AAAAAAAD4fwAAAAAAAPh/AAAAAAAA+H8AAAAAAAD4fwAAAAAAAPh/AAAAAAAA+H8AAAAAAAD4fwAAAAAAAPh/AAAAAAAA+H8AAAAAAAD4fwAAAAAAAPh/AAAAAAAA+H8AAAAAAAD4fwAAAAAAAPh/AAAAAAAA+H8AAAAAAAD4fwAAAAAAAPh/AAAAAAAA+H8AAAAAAAD4fwAAAAAAAPh/AAAAAAAA+H8AAAAAAAD4fwAAAAAAAPh/AAAAAAAA+H8AAAAAAAD4fwAAAAAAAPh/AAAAAAAA+H8AAAAAAAD4fwAAAAAAAPh/AAAAAAAA+H8AAAAAAAD4fwAAAAAAAPh/AAAAAAAA+H8AAAAAAAD4fwAAAAAAAPh/AAAAAAAA+H8AAAAAAAD4fwAAAAAAAPh/AAAAAAAA+H8AAAAAAAD4fwAAAAAAAPh/AAAAAAAA+H8AAAAAAAD4fwAAAAAAAPh/AAAAAAAA+H8AAAAAAAD4fwAAAAAAAPh/AAAAAAAA+H8AAAAAAAD4fwAAAAAAAPh/AAAAAAAA+H8AAAAAAAD4fwAAAAAAAPh/AAAAAAAA+H8AAAAAAAD4fwAAAAAAAPh/AAAAAAAA+H8AAAAAAAD4fwAAAAAAAPh/AAAAAAAA+H8AAAAAAAD4fwAAAAAAAPh/AAAAAAAA+H8AAAAAAAD4fwAAAAAAAPh/AAAAAAAA+H8AAAAAAAD4fwAAAAAAAPh/AAAAAAAA+H8AAAAAAAD4fwAAAAAAAPh/AAAAAAAA+H8=\"},\"shape\":[76],\"dtype\":\"float64\",\"order\":\"little\"}],[\"isPivot\",{\"type\":\"ndarray\",\"array\":{\"type\":\"bytes\",\"data\":\"AAAAAAAA+H8AAAAAAAD4fwAAAAAAAPh/AAAAAAAA+H8AAAAAAAD4fwAAAAAAAPh/AAAAAAAA+H8AAAAAAAD4fwAAAAAAAPh/AAAAAAAA+H8AAAAAAAD4fwAAAAAAAPh/AAAAAAAA+H8AAAAAAAD4fwAAAAAAAPh/AAAAAAAA+H8AAAAAAAD4fwAAAAAAAPh/AAAAAAAA+H8AAAAAAAD4fwAAAAAAAPh/AAAAAAAA+H8AAAAAAAD4fwAAAAAAAPh/AAAAAAAA+H8AAAAAAAD4fwAAAAAAAPh/AAAAAAAA8D8AAAAAAAD4fwAAAAAAAPh/AAAAAAAA+H8AAAAAAAD4fwAAAAAAAPh/AAAAAAAA+H8AAAAAAAD4fwAAAAAAAPh/AAAAAAAA+H8AAAAAAAD4fwAAAAAAAPh/AAAAAAAA+H8AAAAAAAD4fwAAAAAAAPh/AAAAAAAA+H8AAAAAAAD4fwAAAAAAAPh/AAAAAAAA+H8AAAAAAAD4fwAAAAAAAPh/AAAAAAAA+H8AAAAAAAD4fwAAAAAAAPh/AAAAAAAA+H8AAAAAAAD4fwAAAAAAAPh/AAAAAAAA+H8AAAAAAAD4fwAAAAAAAPh/AAAAAAAA+H8AAAAAAAD4fwAAAAAAAPh/AAAAAAAA8D8AAAAAAAD4fwAAAAAAAPh/AAAAAAAA+H8AAAAAAAD4fwAAAAAAAPh/AAAAAAAA+H8AAAAAAAD4fwAAAAAAAPh/AAAAAAAA+H8AAAAAAAD4fwAAAAAAAPh/AAAAAAAA+H8AAAAAAAD4fwAAAAAAAPh/AAAAAAAA+H8=\"},\"shape\":[76],\"dtype\":\"float64\",\"order\":\"little\"}]]}}},\"view\":{\"type\":\"object\",\"name\":\"CDSView\",\"id\":\"p1073\",\"attributes\":{\"filter\":{\"type\":\"object\",\"name\":\"AllIndices\",\"id\":\"p1074\"}}},\"glyph\":{\"type\":\"object\",\"name\":\"VBar\",\"id\":\"p1069\",\"attributes\":{\"x\":{\"type\":\"field\",\"field\":\"index\"},\"width\":{\"type\":\"value\",\"value\":0.6},\"bottom\":{\"type\":\"field\",\"field\":\"Open\"},\"top\":{\"type\":\"field\",\"field\":\"Close\"},\"line_color\":{\"type\":\"value\",\"value\":\"green\"},\"fill_color\":{\"type\":\"value\",\"value\":\"green\"}}},\"nonselection_glyph\":{\"type\":\"object\",\"name\":\"VBar\",\"id\":\"p1070\",\"attributes\":{\"x\":{\"type\":\"field\",\"field\":\"index\"},\"width\":{\"type\":\"value\",\"value\":0.6},\"bottom\":{\"type\":\"field\",\"field\":\"Open\"},\"top\":{\"type\":\"field\",\"field\":\"Close\"},\"line_color\":{\"type\":\"value\",\"value\":\"green\"},\"line_alpha\":{\"type\":\"value\",\"value\":0.1},\"fill_color\":{\"type\":\"value\",\"value\":\"green\"},\"fill_alpha\":{\"type\":\"value\",\"value\":0.1},\"hatch_alpha\":{\"type\":\"value\",\"value\":0.1}}},\"muted_glyph\":{\"type\":\"object\",\"name\":\"VBar\",\"id\":\"p1071\",\"attributes\":{\"x\":{\"type\":\"field\",\"field\":\"index\"},\"width\":{\"type\":\"value\",\"value\":0.6},\"bottom\":{\"type\":\"field\",\"field\":\"Open\"},\"top\":{\"type\":\"field\",\"field\":\"Close\"},\"line_color\":{\"type\":\"value\",\"value\":\"green\"},\"line_alpha\":{\"type\":\"value\",\"value\":0.2},\"fill_color\":{\"type\":\"value\",\"value\":\"green\"},\"fill_alpha\":{\"type\":\"value\",\"value\":0.2},\"hatch_alpha\":{\"type\":\"value\",\"value\":0.2}}}}},{\"type\":\"object\",\"name\":\"GlyphRenderer\",\"id\":\"p1084\",\"attributes\":{\"data_source\":{\"type\":\"object\",\"name\":\"ColumnDataSource\",\"id\":\"p1075\",\"attributes\":{\"selected\":{\"type\":\"object\",\"name\":\"Selection\",\"id\":\"p1076\",\"attributes\":{\"indices\":[],\"line_indices\":[]}},\"selection_policy\":{\"type\":\"object\",\"name\":\"UnionRenderers\",\"id\":\"p1077\"},\"data\":{\"type\":\"map\",\"entries\":[[\"index\",{\"type\":\"ndarray\",\"array\":{\"type\":\"bytes\",\"data\":\"LAAAAHYAAAA=\"},\"shape\":[2],\"dtype\":\"int32\",\"order\":\"little\"}],[\"Close\",{\"type\":\"ndarray\",\"array\":{\"type\":\"bytes\",\"data\":\"AAAAgNPQeUAAAADg6Zd4QA==\"},\"shape\":[2],\"dtype\":\"float64\",\"order\":\"little\"}],[\"High\",{\"type\":\"ndarray\",\"array\":{\"type\":\"bytes\",\"data\":\"OsHROAzweUAAAADg6Zd4QA==\"},\"shape\":[2],\"dtype\":\"float64\",\"order\":\"little\"}],[\"Low\",{\"type\":\"ndarray\",\"array\":{\"type\":\"bytes\",\"data\":\"2DU+RnSleUAel16Pnrx3QA==\"},\"shape\":[2],\"dtype\":\"float64\",\"order\":\"little\"}],[\"Open\",{\"type\":\"ndarray\",\"array\":{\"type\":\"bytes\",\"data\":\"st60AYeyeUBWVP/3qNt3QA==\"},\"shape\":[2],\"dtype\":\"float64\",\"order\":\"little\"}],[\"Volume\",{\"type\":\"ndarray\",\"array\":{\"type\":\"bytes\",\"data\":\"qK2IA6zpnQg=\"},\"shape\":[2],\"dtype\":\"int32\",\"order\":\"little\"}],[\"fecha\",{\"type\":\"ndarray\",\"array\":{\"type\":\"bytes\",\"data\":\"AAAAMz8qeEIAAIBUXUx4Qg==\"},\"shape\":[2],\"dtype\":\"float64\",\"order\":\"little\"}],[\"companyName\",{\"type\":\"ndarray\",\"array\":[\"SPY\",\"SPY\"],\"shape\":[2],\"dtype\":\"object\",\"order\":\"little\"}],[\"SMA20\",{\"type\":\"ndarray\",\"array\":{\"type\":\"bytes\",\"data\":\"zszMpMSleEDNzMwkMZ13QA==\"},\"shape\":[2],\"dtype\":\"float64\",\"order\":\"little\"}],[\"SMA40\",{\"type\":\"ndarray\",\"array\":{\"type\":\"bytes\",\"data\":\"zczMODXQd0CamZlVFQh3QA==\"},\"shape\":[2],\"dtype\":\"float64\",\"order\":\"little\"}],[\"SMA100\",{\"type\":\"ndarray\",\"array\":{\"type\":\"bytes\",\"data\":\"AAAAAAAA+H+amZkhBI53QA==\"},\"shape\":[2],\"dtype\":\"float64\",\"order\":\"little\"}],[\"SMA200\",{\"type\":\"ndarray\",\"array\":{\"type\":\"bytes\",\"data\":\"AAAAAAAA+H8AAAAAAAD4fw==\"},\"shape\":[2],\"dtype\":\"float64\",\"order\":\"little\"}],[\"pivotHigh\",{\"type\":\"ndarray\",\"array\":{\"type\":\"bytes\",\"data\":\"9jVlURDweUC8dJP47Zd4QA==\"},\"shape\":[2],\"dtype\":\"float64\",\"order\":\"little\"}],[\"pivotLow\",{\"type\":\"ndarray\",\"array\":{\"type\":\"bytes\",\"data\":\"AAAAAAAA+H8AAAAAAAD4fw==\"},\"shape\":[2],\"dtype\":\"float64\",\"order\":\"little\"}],[\"isPivot\",{\"type\":\"ndarray\",\"array\":{\"type\":\"bytes\",\"data\":\"AAAAAAAA8D8AAAAAAADwPw==\"},\"shape\":[2],\"dtype\":\"float64\",\"order\":\"little\"}]]}}},\"view\":{\"type\":\"object\",\"name\":\"CDSView\",\"id\":\"p1085\",\"attributes\":{\"filter\":{\"type\":\"object\",\"name\":\"AllIndices\",\"id\":\"p1086\"}}},\"glyph\":{\"type\":\"object\",\"name\":\"Scatter\",\"id\":\"p1081\",\"attributes\":{\"x\":{\"type\":\"field\",\"field\":\"index\"},\"y\":{\"type\":\"field\",\"field\":\"pivotHigh\"},\"size\":{\"type\":\"value\",\"value\":10},\"line_color\":{\"type\":\"value\",\"value\":\"navy\"},\"line_alpha\":{\"type\":\"value\",\"value\":0.5},\"fill_color\":{\"type\":\"value\",\"value\":\"blue\"},\"fill_alpha\":{\"type\":\"value\",\"value\":0.5},\"hatch_alpha\":{\"type\":\"value\",\"value\":0.5}}},\"nonselection_glyph\":{\"type\":\"object\",\"name\":\"Scatter\",\"id\":\"p1082\",\"attributes\":{\"x\":{\"type\":\"field\",\"field\":\"index\"},\"y\":{\"type\":\"field\",\"field\":\"pivotHigh\"},\"size\":{\"type\":\"value\",\"value\":10},\"line_color\":{\"type\":\"value\",\"value\":\"navy\"},\"line_alpha\":{\"type\":\"value\",\"value\":0.1},\"fill_color\":{\"type\":\"value\",\"value\":\"blue\"},\"fill_alpha\":{\"type\":\"value\",\"value\":0.1},\"hatch_alpha\":{\"type\":\"value\",\"value\":0.1}}},\"muted_glyph\":{\"type\":\"object\",\"name\":\"Scatter\",\"id\":\"p1083\",\"attributes\":{\"x\":{\"type\":\"field\",\"field\":\"index\"},\"y\":{\"type\":\"field\",\"field\":\"pivotHigh\"},\"size\":{\"type\":\"value\",\"value\":10},\"line_color\":{\"type\":\"value\",\"value\":\"navy\"},\"line_alpha\":{\"type\":\"value\",\"value\":0.2},\"fill_color\":{\"type\":\"value\",\"value\":\"blue\"},\"fill_alpha\":{\"type\":\"value\",\"value\":0.2},\"hatch_alpha\":{\"type\":\"value\",\"value\":0.2}}}}},{\"type\":\"object\",\"name\":\"GlyphRenderer\",\"id\":\"p1098\",\"attributes\":{\"data_source\":{\"type\":\"object\",\"name\":\"ColumnDataSource\",\"id\":\"p1089\",\"attributes\":{\"selected\":{\"type\":\"object\",\"name\":\"Selection\",\"id\":\"p1090\",\"attributes\":{\"indices\":[],\"line_indices\":[]}},\"selection_policy\":{\"type\":\"object\",\"name\":\"UnionRenderers\",\"id\":\"p1091\"},\"data\":{\"type\":\"map\",\"entries\":[[\"index\",{\"type\":\"ndarray\",\"array\":{\"type\":\"bytes\",\"data\":\"AwAAAFQAAACJAAAA\"},\"shape\":[3],\"dtype\":\"int32\",\"order\":\"little\"}],[\"Close\",{\"type\":\"ndarray\",\"array\":{\"type\":\"bytes\",\"data\":\"AAAAYNvudUAAAAAgdIJ1QAAAACCT03ZA\"},\"shape\":[3],\"dtype\":\"float64\",\"order\":\"little\"}],[\"High\",{\"type\":\"ndarray\",\"array\":{\"type\":\"bytes\",\"data\":\"tezwyo0wdkCmHIeAzLR1QPxpbkH8O3dA\"},\"shape\":[3],\"dtype\":\"float64\",\"order\":\"little\"}],[\"Low\",{\"type\":\"ndarray\",\"array\":{\"type\":\"bytes\",\"data\":\"XsxJ/3/HdUAs+Z0ucH51QDZ/0/jZz3ZA\"},\"shape\":[3],\"dtype\":\"float64\",\"order\":\"little\"}],[\"Open\",{\"type\":\"ndarray\",\"array\":{\"type\":\"bytes\",\"data\":\"tW0KEPgpdkBmTpNJUZt1QB11wJQGHHdA\"},\"shape\":[3],\"dtype\":\"float64\",\"order\":\"little\"}],[\"Volume\",{\"type\":\"ndarray\",\"array\":{\"type\":\"bytes\",\"data\":\"VOYDCDjNlgQMBjoE\"},\"shape\":[3],\"dtype\":\"int32\",\"order\":\"little\"}],[\"fecha\",{\"type\":\"ndarray\",\"array\":{\"type\":\"bytes\",\"data\":\"AABA9JwWeEIAAMDalzx4QgAAgHVgVXhC\"},\"shape\":[3],\"dtype\":\"float64\",\"order\":\"little\"}],[\"companyName\",{\"type\":\"ndarray\",\"array\":[\"SPY\",\"SPY\",\"SPY\"],\"shape\":[3],\"dtype\":\"object\",\"order\":\"little\"}],[\"SMA20\",{\"type\":\"ndarray\",\"array\":{\"type\":\"bytes\",\"data\":\"AAAAAAAA+H/NzMxct152QDMzMwNosHdA\"},\"shape\":[3],\"dtype\":\"float64\",\"order\":\"little\"}],[\"SMA40\",{\"type\":\"ndarray\",\"array\":{\"type\":\"bytes\",\"data\":\"AAAAAAAA+H/NzMzQamF3QGZmZoLbnXdA\"},\"shape\":[3],\"dtype\":\"float64\",\"order\":\"little\"}],[\"SMA100\",{\"type\":\"ndarray\",\"array\":{\"type\":\"bytes\",\"data\":\"AAAAAAAA+H8AAAAAAAD4f1yPwgVtgndA\"},\"shape\":[3],\"dtype\":\"float64\",\"order\":\"little\"}],[\"SMA200\",{\"type\":\"ndarray\",\"array\":{\"type\":\"bytes\",\"data\":\"AAAAAAAA+H8AAAAAAAD4fwAAAAAAAPh/\"},\"shape\":[3],\"dtype\":\"float64\",\"order\":\"little\"}],[\"pivotHigh\",{\"type\":\"ndarray\",\"array\":{\"type\":\"bytes\",\"data\":\"AAAAAAAA+H8AAAAAAAD4fwAAAAAAAPh/\"},\"shape\":[3],\"dtype\":\"float64\",\"order\":\"little\"}],[\"pivotLow\",{\"type\":\"ndarray\",\"array\":{\"type\":\"bytes\",\"data\":\"ole25nvHdUBwhAoWbH51QHoKQODVz3ZA\"},\"shape\":[3],\"dtype\":\"float64\",\"order\":\"little\"}],[\"isPivot\",{\"type\":\"ndarray\",\"array\":{\"type\":\"bytes\",\"data\":\"AAAAAAAAAEAAAAAAAAAAQAAAAAAAAABA\"},\"shape\":[3],\"dtype\":\"float64\",\"order\":\"little\"}]]}}},\"view\":{\"type\":\"object\",\"name\":\"CDSView\",\"id\":\"p1099\",\"attributes\":{\"filter\":{\"type\":\"object\",\"name\":\"AllIndices\",\"id\":\"p1100\"}}},\"glyph\":{\"type\":\"object\",\"name\":\"Scatter\",\"id\":\"p1095\",\"attributes\":{\"x\":{\"type\":\"field\",\"field\":\"index\"},\"y\":{\"type\":\"field\",\"field\":\"pivotLow\"},\"size\":{\"type\":\"value\",\"value\":10},\"line_color\":{\"type\":\"value\",\"value\":\"navy\"},\"line_alpha\":{\"type\":\"value\",\"value\":0.5},\"fill_color\":{\"type\":\"value\",\"value\":\"green\"},\"fill_alpha\":{\"type\":\"value\",\"value\":0.5},\"hatch_alpha\":{\"type\":\"value\",\"value\":0.5}}},\"nonselection_glyph\":{\"type\":\"object\",\"name\":\"Scatter\",\"id\":\"p1096\",\"attributes\":{\"x\":{\"type\":\"field\",\"field\":\"index\"},\"y\":{\"type\":\"field\",\"field\":\"pivotLow\"},\"size\":{\"type\":\"value\",\"value\":10},\"line_color\":{\"type\":\"value\",\"value\":\"navy\"},\"line_alpha\":{\"type\":\"value\",\"value\":0.1},\"fill_color\":{\"type\":\"value\",\"value\":\"green\"},\"fill_alpha\":{\"type\":\"value\",\"value\":0.1},\"hatch_alpha\":{\"type\":\"value\",\"value\":0.1}}},\"muted_glyph\":{\"type\":\"object\",\"name\":\"Scatter\",\"id\":\"p1097\",\"attributes\":{\"x\":{\"type\":\"field\",\"field\":\"index\"},\"y\":{\"type\":\"field\",\"field\":\"pivotLow\"},\"size\":{\"type\":\"value\",\"value\":10},\"line_color\":{\"type\":\"value\",\"value\":\"navy\"},\"line_alpha\":{\"type\":\"value\",\"value\":0.2},\"fill_color\":{\"type\":\"value\",\"value\":\"green\"},\"fill_alpha\":{\"type\":\"value\",\"value\":0.2},\"hatch_alpha\":{\"type\":\"value\",\"value\":0.2}}}}}],\"toolbar\":{\"type\":\"object\",\"name\":\"Toolbar\",\"id\":\"p1012\",\"attributes\":{\"tools\":[{\"type\":\"object\",\"name\":\"PanTool\",\"id\":\"p1025\"},{\"type\":\"object\",\"name\":\"WheelZoomTool\",\"id\":\"p1026\",\"attributes\":{\"renderers\":\"auto\"}},{\"type\":\"object\",\"name\":\"BoxZoomTool\",\"id\":\"p1027\",\"attributes\":{\"dimensions\":\"both\",\"overlay\":{\"type\":\"object\",\"name\":\"BoxAnnotation\",\"id\":\"p1028\",\"attributes\":{\"syncable\":false,\"line_color\":\"black\",\"line_alpha\":1.0,\"line_width\":2,\"line_dash\":[4,4],\"fill_color\":\"lightgrey\",\"fill_alpha\":0.5,\"level\":\"overlay\",\"visible\":false,\"left\":{\"type\":\"number\",\"value\":\"nan\"},\"right\":{\"type\":\"number\",\"value\":\"nan\"},\"top\":{\"type\":\"number\",\"value\":\"nan\"},\"bottom\":{\"type\":\"number\",\"value\":\"nan\"},\"left_units\":\"canvas\",\"right_units\":\"canvas\",\"top_units\":\"canvas\",\"bottom_units\":\"canvas\",\"handles\":{\"type\":\"object\",\"name\":\"BoxInteractionHandles\",\"id\":\"p1034\",\"attributes\":{\"all\":{\"type\":\"object\",\"name\":\"AreaVisuals\",\"id\":\"p1033\",\"attributes\":{\"fill_color\":\"white\",\"hover_fill_color\":\"lightgray\"}}}}}}}},{\"type\":\"object\",\"name\":\"SaveTool\",\"id\":\"p1035\"},{\"type\":\"object\",\"name\":\"ResetTool\",\"id\":\"p1036\"},{\"type\":\"object\",\"name\":\"HelpTool\",\"id\":\"p1037\"},{\"type\":\"object\",\"name\":\"HoverTool\",\"id\":\"p1038\",\"attributes\":{\"renderers\":\"auto\",\"tooltips\":[[\"Index\",\"@index\"],[\"Open\",\"@Open\"],[\"High\",\"@High\"],[\"Low\",\"@Low\"],[\"Close\",\"@Close\"]]}}]}},\"left\":[{\"type\":\"object\",\"name\":\"LinearAxis\",\"id\":\"p1020\",\"attributes\":{\"ticker\":{\"type\":\"object\",\"name\":\"BasicTicker\",\"id\":\"p1021\",\"attributes\":{\"mantissas\":[1,2,5]}},\"formatter\":{\"type\":\"object\",\"name\":\"BasicTickFormatter\",\"id\":\"p1022\"},\"major_label_policy\":{\"type\":\"object\",\"name\":\"AllLabels\",\"id\":\"p1023\"}}}],\"below\":[{\"type\":\"object\",\"name\":\"LinearAxis\",\"id\":\"p1015\",\"attributes\":{\"ticker\":{\"type\":\"object\",\"name\":\"BasicTicker\",\"id\":\"p1016\",\"attributes\":{\"mantissas\":[1,2,5]}},\"formatter\":{\"type\":\"object\",\"name\":\"BasicTickFormatter\",\"id\":\"p1017\"},\"major_label_orientation\":0.8,\"major_label_policy\":{\"type\":\"object\",\"name\":\"AllLabels\",\"id\":\"p1018\"},\"axis_line_width\":2}}],\"center\":[{\"type\":\"object\",\"name\":\"Grid\",\"id\":\"p1019\",\"attributes\":{\"axis\":{\"id\":\"p1015\"}}},{\"type\":\"object\",\"name\":\"Grid\",\"id\":\"p1024\",\"attributes\":{\"dimension\":1,\"axis\":{\"id\":\"p1020\"}}},{\"type\":\"object\",\"name\":\"Legend\",\"id\":\"p1087\",\"attributes\":{\"items\":[{\"type\":\"object\",\"name\":\"LegendItem\",\"id\":\"p1088\",\"attributes\":{\"label\":{\"type\":\"value\",\"value\":\"Cambio Tendencia Bajista\"},\"renderers\":[{\"id\":\"p1084\"}]}},{\"type\":\"object\",\"name\":\"LegendItem\",\"id\":\"p1101\",\"attributes\":{\"label\":{\"type\":\"value\",\"value\":\"Cambio Tendencia Alcista\"},\"renderers\":[{\"id\":\"p1098\"}]}}]}}],\"background_fill_color\":\"#efefef\"}}]}};\n",
       "  const render_items = [{\"docid\":\"fc284ae6-476b-4b2f-ae1a-52261a725489\",\"roots\":{\"p1003\":\"e530319b-674b-497d-b3e8-f1eb5207fc58\"},\"root_ids\":[\"p1003\"]}];\n",
       "  void root.Bokeh.embed.embed_items_notebook(docs_json, render_items);\n",
       "  }\n",
       "  if (root.Bokeh !== undefined) {\n",
       "    embed_document(root);\n",
       "  } else {\n",
       "    let attempts = 0;\n",
       "    const timer = setInterval(function(root) {\n",
       "      if (root.Bokeh !== undefined) {\n",
       "        clearInterval(timer);\n",
       "        embed_document(root);\n",
       "      } else {\n",
       "        attempts++;\n",
       "        if (attempts > 100) {\n",
       "          clearInterval(timer);\n",
       "          console.log(\"Bokeh: ERROR: Unable to run BokehJS code because BokehJS library is missing\");\n",
       "        }\n",
       "      }\n",
       "    }, 10, root)\n",
       "  }\n",
       "})(window);"
      ],
      "application/vnd.bokehjs_exec.v0+json": ""
     },
     "metadata": {
      "application/vnd.bokehjs_exec.v0+json": {
       "id": "p1003"
      }
     },
     "output_type": "display_data"
    }
   ],
   "source": [
    "#CODIGO DE REVISION DIA\n",
    "dfpl = df_dia.iloc[0:150]\n",
    "\n",
    "p = figure(width=2500, height=500,\n",
    "        title=\"DIA\",\n",
    "        background_fill_color=\"#efefef\",\n",
    "        tooltips=[(\"Index\", \"@index\"), (\"Open\", \"@Open\"), (\"High\",\"@High\"), (\"Low\",\"@Low\"), (\"Close\",\"@Close\")]\n",
    "        )\n",
    "p.xaxis.major_label_orientation = 0.8 # radians\n",
    "p.x_range.range_padding = 0.05\n",
    "p.xaxis.axis_line_width = 2\n",
    "\n",
    "p.segment(\"index\", \"High\", \"index\",\"Low\",  color=\"black\", line_width=1, source=dfpl)\n",
    "\n",
    "inc = dfpl.query(\"Close>Open\")\n",
    "dec = dfpl.query(\"Open>Close\")\n",
    "\n",
    "p.vbar(    \n",
    "    x=\"index\",\n",
    "    width=0.6,\n",
    "    bottom=\"Open\",\n",
    "    top=\"Close\",\n",
    "    fill_color=\"red\",\n",
    "    line_color=\"red\",    \n",
    "    source=dec   \n",
    ")\n",
    "\n",
    "p.vbar(    \n",
    "    x=\"index\",\n",
    "    width=0.6,\n",
    "    bottom=\"Open\",\n",
    "    top=\"Close\",\n",
    "    fill_color=\"green\",\n",
    "    line_color=\"green\", \n",
    "    source=inc   \n",
    ")\n",
    "\n",
    "p.scatter(x=\"index\", y=\"pivotHigh\", marker=\"circle\", size=10,\n",
    "           line_color=\"navy\", fill_color=\"blue\", alpha=0.5, legend_label=\"Cambio Tendencia Bajista\", source=dfpl[(dfpl.isPivot==1)])\n",
    "\n",
    "p.scatter(x=\"index\", y=\"pivotLow\", marker=\"circle\", size=10,\n",
    "           line_color=\"navy\", fill_color=\"green\", alpha=0.5, legend_label=\"Cambio Tendencia Alcista\", source=dfpl[(dfpl.isPivot==2)])\n",
    "\n",
    "show(p)"
   ]
  },
  {
   "cell_type": "code",
   "execution_count": 7,
   "id": "c35d4b24-1446-4885-b99b-852e121f7e3e",
   "metadata": {
    "execution": {
     "iopub.execute_input": "2025-06-11T17:42:32.787025Z",
     "iopub.status.busy": "2025-06-11T17:42:32.786631Z",
     "iopub.status.idle": "2025-06-11T17:42:32.919064Z",
     "shell.execute_reply": "2025-06-11T17:42:32.918420Z"
    },
    "papermill": {
     "duration": 0.139301,
     "end_time": "2025-06-11T17:42:32.920036",
     "exception": false,
     "start_time": "2025-06-11T17:42:32.780735",
     "status": "completed"
    },
    "tags": []
   },
   "outputs": [
    {
     "data": {
      "text/html": [
       "\n",
       "  <div id=\"ae33af8b-c518-420a-8379-ed740101c49d\" data-root-id=\"p1172\" style=\"display: contents;\"></div>\n"
      ]
     },
     "metadata": {},
     "output_type": "display_data"
    },
    {
     "data": {
      "application/javascript": [
       "(function(root) {\n",
       "  function embed_document(root) {\n",
       "  const docs_json = {\"97094464-1c1f-407d-8c06-757105b45c65\":{\"version\":\"3.7.3\",\"title\":\"Bokeh Application\",\"roots\":[{\"type\":\"object\",\"name\":\"Figure\",\"id\":\"p1172\",\"attributes\":{\"width\":2500,\"height\":500,\"x_range\":{\"type\":\"object\",\"name\":\"DataRange1d\",\"id\":\"p1173\",\"attributes\":{\"range_padding\":0.05}},\"y_range\":{\"type\":\"object\",\"name\":\"DataRange1d\",\"id\":\"p1174\"},\"x_scale\":{\"type\":\"object\",\"name\":\"LinearScale\",\"id\":\"p1182\"},\"y_scale\":{\"type\":\"object\",\"name\":\"LinearScale\",\"id\":\"p1183\"},\"title\":{\"type\":\"object\",\"name\":\"Title\",\"id\":\"p1175\",\"attributes\":{\"text\":\"HORA\"}},\"renderers\":[{\"type\":\"object\",\"name\":\"GlyphRenderer\",\"id\":\"p1217\",\"attributes\":{\"data_source\":{\"type\":\"object\",\"name\":\"ColumnDataSource\",\"id\":\"p1208\",\"attributes\":{\"selected\":{\"type\":\"object\",\"name\":\"Selection\",\"id\":\"p1209\",\"attributes\":{\"indices\":[],\"line_indices\":[]}},\"selection_policy\":{\"type\":\"object\",\"name\":\"UnionRenderers\",\"id\":\"p1210\"},\"data\":{\"type\":\"map\",\"entries\":[[\"index\",{\"type\":\"ndarray\",\"array\":{\"type\":\"bytes\",\"data\":\"AAAAAAEAAAACAAAAAwAAAAQAAAAFAAAABgAAAAcAAAAIAAAACQAAAAoAAAALAAAADAAAAA0AAAAOAAAADwAAABAAAAARAAAAEgAAABMAAAAUAAAAFQAAABYAAAAXAAAAGAAAABkAAAAaAAAAGwAAABwAAAAdAAAAHgAAAB8AAAAgAAAAIQAAACIAAAAjAAAAJAAAACUAAAAmAAAAJwAAACgAAAApAAAAKgAAACsAAAAsAAAALQAAAC4AAAAvAAAAMAAAADEAAAAyAAAAMwAAADQAAAA1AAAANgAAADcAAAA4AAAAOQAAADoAAAA7AAAAPAAAAD0AAAA+AAAAPwAAAEAAAABBAAAAQgAAAEMAAABEAAAARQAAAEYAAABHAAAASAAAAEkAAABKAAAASwAAAEwAAABNAAAATgAAAE8AAABQAAAAUQAAAFIAAABTAAAAVAAAAFUAAABWAAAAVwAAAFgAAABZAAAAWgAAAFsAAABcAAAAXQAAAF4AAABfAAAAYAAAAGEAAABiAAAAYwAAAGQAAABlAAAAZgAAAGcAAABoAAAAaQAAAGoAAABrAAAAbAAAAG0AAABuAAAAbwAAAHAAAABxAAAAcgAAAHMAAAB0AAAAdQAAAHYAAAB3AAAAeAAAAHkAAAB6AAAAewAAAHwAAAB9AAAAfgAAAH8AAACAAAAAgQAAAIIAAACDAAAAhAAAAIUAAACGAAAAhwAAAIgAAACJAAAAigAAAIsAAACMAAAAjQAAAI4AAACPAAAAkAAAAJEAAACSAAAAkwAAAJQAAACVAAAA\"},\"shape\":[150],\"dtype\":\"int32\",\"order\":\"little\"}],[\"Close\",{\"type\":\"ndarray\",\"array\":{\"type\":\"bytes\",\"data\":\"AQAAQAo7e0AAAAAghUt7QAAAAADXSXtAAAAA4HpQe0AAAACAwj17QAAAAKBwRXtAAAAAYI9Ke0AAAAAgXFt7QAAAAGBmantAAAAAwI9ie0AAAADgfFR7QAAAAADXJ3tAAAAAgOtJe0ABAABAClN7QAAAACCud3tAAAAAIK6Le0AAAABguI57QAAAAIAUjntAAAAAoJmde0AAAACAPbJ7QAAAAKCZqXtAAAAAYGame0AAAABgj4x7QAAAAAAAnHtAAQAAQDOXe0AAAADgepB7QAEAAMAeeXtAAQAAQAp3e0AAAADgejR7QAEAAEAaPntAAQAAQDNTe0AAAABg5WB7QAAAAIDCX3tAAQAAQDNXe0AAAAAA11N7QAAAAABxNXtAAQAAwB41e0AAAACAFD57QAAAAIDCMXtAAAAA4OBKe0AAAAAghTt7QAAAAGC4LntAAAAAoEc5e0AAAACAwi17QAAAAIDiM3tAAAAAACkwe0ABAADAHj97QAAAAGBCOXtAAQAAwMxIe0ABAADAuBp7QAAAAGC4EntAAAAA4FEoe0ABAADAHi17QAAAAIDrH3tAAAAAAAASe0ABAABAChN7QAAAACCuH3tAAAAAgNcHe0AAAACgmQV7QAAAAOCVCXtAAAAAANcBe0AAAABgOQp7QAEAAEDh9npAAQAAwMwMe0AAAACgRx17QAAAAIA9KntAAAAA4Ho4e0AAAACAwkd7QAAAAADXS3tAAAAAYGZCe0AAAADgUTh7QAEAAMDMQHtAAAAA4KNIe0AAAADgejx7QAAAAKBHPXtAAAAAoHA1e0AAAACAPUZ7QAEAAEDhSntAAAAAgBRae0AAAACgcGF7QAAAACCFW3tAAAAAIIVTe0AAAAAgsFp7QAAAAIA9YntAAAAAAACwe0ABAABACqt7QAEAAMDMsHtAAAAAYFK4e0AAAADA9cB7QAAAAOBRwHtAAAAAANeze0AAAACArrd7QAAAAGC4uHtAAAAAgD2+e0AAAAAghbd7QAEAAMAeuXtAAAAAANeze0AAAADgt7J7QAAAACCFq3tAAAAAIIW7e0AAAACAFLJ7QAAAACCFW3tAAAAAoJlVe0AAAADA9Wx7QAAAAIB6dHtAAQAAwMx0e0AAAAAAAHx7QAAAAGC4entAAAAA4Ix3e0AAAAAA5X57QAEAAMDMkHtAAAAAgMKpe0AAAADgepx7QAAAAGCPhHtAAQAAwMxoe0AAAACAUXR7QAAAACCFa3tAAAAAgD1me0AAAACAFHJ7QAAAAAA9dntAAAAA4FFwe0AAAABgj3p7QAAAAOBRhHtAAQAAwB6Je0AAAACgmY17QAAAAIAUjntAAAAAAF+Le0AAAABApJh7QAAAACCup3tAAQAAwITze0AAAACA6+l7QAAAAKCZ1XtAAAAA4D3ie0ABAABA4ep7QAAAAIA92ntAAAAAACnge0AAAACAFP57QAAAAKBHAXxAAAAAoHAJfEAAAABgjwp8QAAAAIA9DnxAAAAAYLgcfEAAAADgoxh8QAAAAIDrJnxAAAAAIFwmfEAAAACAFBx8QAAAAAAAHHxAAAAAoHAZfEAAAACA6xF8QAAAAOCjFHxA\"},\"shape\":[150],\"dtype\":\"float64\",\"order\":\"little\"}],[\"High\",{\"type\":\"ndarray\",\"array\":{\"type\":\"bytes\",\"data\":\"AQAAQOFSe0AAAADgUVR7QAAAAKBwTXtAAAAAoEdVe0AAAACgR1N7QAAAAIDCS3tAAAAAYI9Me0AAAAAAAGR7QAAAAKD6cHtAAAAAgMJre0AAAADgCWN7QAAAAAApWHtAAAAAYGZie0ABAABAClN7QAAAAGCPentAAAAAgOuLe0AAAADgFJJ7QAEAAEDhkntAAAAAgD2ge0AAAABgZr57QAAAACBct3tAAQAAQOGye0AAAABgZqZ7QAAAAOCjnHtAAAAAgBSme0AAAADgeph7QAAAAOCjkHtAAAAAoJmFe0AAAABguGJ7QAAAAIDrRXtAAAAAgMJVe0AAAACA62V7QAAAAIDCY3tAAAAAYGZge0AAAAAAAGB7QAAAAOB6RHtAAAAAQNg6e0AAAAAgXEN7QAAAAGC4QntAAQAAQDNLe0AAAAAA1097QAAAAKAaPXtAAAAA4FFAe0AAAACgmT17QAAAAKBHPXtAAAAAYLg6e0AAAABg0z97QAAAAKBHR3tAAAAAgOtJe0AAAAAA1x97QAAAAADXI3tAAQAAwB4pe0AAAABgZi57QAAAAMD1MHtAAAAAYI8ge0AAAAAgrh97QAAAAIDCKXtAAAAAgBQge0ABAABAeRR7QAEAAEDhCntAAAAAoHALe0AAAABguA57QAAAAKCZDXtAAQAAwMwUe0ABAABA4R57QAAAACCFK3tAAQAAQAo7e0AAAACgcEl7QAAAAOBNTHtAAAAAwPVMe0ABAADAzDp7QAAAACCFR3tAAQAAQApXe0ABAADAzEh7QAAAAOCjQHtAAAAAIFw/e0ABAABA4UZ7QAAAAIDrVXtAAQAAQApbe0ABAADAHmN7QAAAAOB6ZHtAAAAAgFFce0ABAADAzFx7QAAAAGC4YntAAQAAwB61e0AAAACAwrV7QAAAAIDysHtAAAAAgMK5e0AAAACAFMJ7QAAAAIA9wntAAQAAwMzEe0ABAABA4bp7QAAAAIDCuXtAAQAAQDO/e0AAAAAAALp7QAAAAGA5vntAAAAAwPW8e0AAAACAPbZ7QAAAACCuuXtAAAAAACm8e0AAAACAKLx7QAAAAIDreXtAAAAAoJlde0ABAABAM217QAEAAMDMeHtAAAAAACl8e0AAAACgmYF7QAAAAADXf3tAAAAAAACEe0AAAACAPYJ7QAEAAMAekXtAAAAAgD2qe0AAAACAPap7QAAAACCunXtAAAAAYI+Ie0AAAACgcH17QAAAAIA9dntAAAAAoEdxe0AAAACgHHJ7QAAAAGC4dntAAAAAwPV2e0AAAABguHp7QAAAAODAkHtAAAAAIIWPe0ABAABAM5t7QAAAAKBHlXtAAQAAwECSe0AAAAAA15l7QAAAACCFr3tAAAAAoHD1e0AAAACgrfd7QAEAAEAK63tAAAAAANfje0AAAABA2Ot7QAAAAAAA7HtAAQAAQDPje0AAAAAAKQh8QAAAAAApCHxAAAAAANcLfEAAAABgjw58QAAAAOBRFHxAAAAAYGYefEAAAACAFCZ8QAAAAIDCNXxAAAAAoJkrfEABAABACi18QAAAAIDgIXxAAAAAACkkfEAAAADA9Rx8QAAAAKCZFXxA\"},\"shape\":[150],\"dtype\":\"float64\",\"order\":\"little\"}],[\"Low\",{\"type\":\"ndarray\",\"array\":{\"type\":\"bytes\",\"data\":\"AAAAgBQqe0AAAACAwjF7QAAAACCFO3tAAQAAQOFGe0AAAADg6zl7QAAAACCuNXtAAAAAAJxBe0AAAAAAKUh7QAAAAGCPWntAAQAAwB5Ze0ABAADAzFB7QAAAAKBwGXtAAAAAIFwfe0AAAACAFDJ7QAAAACCuQ3tAAAAAgOtle0AAAADA9YB7QAAAAIDCgXtAAAAA4FGMe0AAAACgmZ17QAAAAMD1oHtAAAAA4FGMe0AAAAAgXIV7QAAAAGC4hntAAAAAoJmVe0AAAADgeox7QAAAAKCZdXtAAAAAIIVve0AAAACAAjF7QAAAAOB6MHtAAAAAoJk9e0AAAADA9VB7QAEAAMDMVHtAAAAAYLhSe0AAAACgmVF7QAAAAIAUJntAAAAAoEcle0ABAADAzDB7QAAAAIDrLXtAAAAAACkwe0AAAAAgXDt7QAAAAAAAKntAAAAAoJkZe0AAAADgeiB7QAAAAADXK3tAAAAA4KMme0AAAADA9Sx7QAAAAOCjOHtAAAAAIFw1e0AAAAAgYwt7QAAAAKBwDXtAAAAAgBQQe0ABAABAMyN7QAAAAAA9HntAAAAAIIUHe0AAAAAgXA97QAAAAKCZCXtAAAAAYGYEe0AAAACgcP16QAAAAGBm+npAAAAAAAD8ekAAAABApAB7QAEAAEAK83pAAAAAgBT+ekAAAADgowh7QAAAAMA3HHtAAAAAgOsne0AAAADgozh7QAAAAKBwQXtAAAAAoEdBe0AAAABgjyZ7QAAAAIA9NntAAAAAIK4/e0AAAADA9Sh7QAAAAOCjMHtAAAAAoHApe0AAAABgjzJ7QAAAAOCjOHtAAAAAYI8+e0AAAAAgXFN7QAEAAEDhTntAAAAAgD1Ge0AAAACAwk17QAAAAOBRUntAAAAAgMKRe0AAAADgo6B7QAAAAAApoHtAAAAAANeve0ABAADAHrd7QAAAAKBwuXtAAQAAQOGye0AAAACAFKp7QAAAAOBRsHtAAAAA4Pu2e0AAAABgZp57QAAAAOA9sntAAAAA4FGwe0AAAAAgrqt7QAAAAMD1pHtAAAAAoHCre0AAAACAFLJ7QAEAAEAzV3tAAAAAwPVQe0AAAACgR1V7QAAAAMD1antAAAAAgOtve0AAAABgZnR7QAAAACCFd3tAAAAAIIVne0ABAADAHm17QAEAAMBCfntAAAAAwPWQe0AAAAAAAJh7QAAAACBcg3tAAQAAwMxke0ABAADAzGB7QAAAAAApYHtAAAAAIFxZe0AAAADgUWR7QAAAAIB6aHtAAAAAgBRse0AAAACAwml7QAEAAEAKd3tAAAAA4FGAe0AAAAAAAIZ7QAAAAKCZiXtAAAAA4FGEe0AAAACAwoV7QAEAAEAKk3tAAAAAAE/de0ABAADAzOh7QAAAAGCPzntAAAAAAADUe0AAAAAAAOB7QAAAAGBm0ntAAQAAwB7Ze0ABAABAM/d7QAAAAADX/XtAAAAAIB3+e0AAAABgjwJ8QAAAAIDrCXxAAAAAAAAMfEAAAADgehh8QAEAAEDhInxAAAAA4FEYfEAAAACgcBt8QAEAAEAKE3xAAAAA4KMYfEAAAACAFAp8QAAAAADXB3xA\"},\"shape\":[150],\"dtype\":\"float64\",\"order\":\"little\"}],[\"Open\",{\"type\":\"ndarray\",\"array\":{\"type\":\"bytes\",\"data\":\"AQAAwB41e0ABAABAMzt7QAAAAIB8S3tAAAAAgD1Ke0AAAADgo1B7QAAAAIDCPXtAAAAAIFxFe0AAAAAAKVB7QAAAAKBwW3tAAAAAAGZqe0AAAABgj2J7QAAAAOCjVHtAAAAAgOsne0AAAABgj0p7QAAAAKBHRXtAAAAAIK53e0AAAAAghYt7QAEAAMDMjntAAAAAgD2Oe0AAAACgvZ17QAAAAIA9sntAAAAA4FGwe0AAAABgZqZ7QAAAAOBRjHtAAAAAAACce0ABAABAM5d7QAAAAOB6kHtAAQAAwB55e0AAAADgo1R7QAEAAMDMNHtAAAAAYGY+e0ABAABAM1N7QAAAAGDlYHtAAAAAgOtfe0AAAAAgXFd7QAAAAGCPQntAAAAAgBQ4e0AAAACgRzV7QAAAAIA9PntAAAAAIK4xe0AAAABguEp7QAAAACCFO3tAAQAAQDMfe0AAAACgcDl7QAAAAKBwLXtAAAAAACk0e0AAAADgUTB7QAEAAEAzP3tAAAAAoEc5e0ABAABA4Q57QAEAAMDMGntAAAAAYLgSe0AAAADgeih7QAEAAMAeLXtAAAAAANcfe0AAAACAFBJ7QAAAAIDrCXtAAAAAANcfe0AAAAAgrgd7QAAAAKCZBXtAAAAAoJkJe0AAAACAwgF7QAAAAIA9CntAAAAAgOsJe0AAAADA9Qx7QAAAAIDrHXtAAAAAgD0qe0AAAADgozh7QAAAAADXR3tAAAAAANdLe0ABAADAzDB7QAAAAOB6OHtAAQAAwMxAe0AAAADgekh7QAAAAOB6PHtAAAAAoHA9e0AAAACgRzV7QAAAACBcP3tAAQAAQApLe0AAAADgLVp7QAAAAIBRYXtAAAAAIIVbe0AAAAAgrlN7QAAAAGCPWntAAQAAQAqXe0AAAAAAALB7QAEAAMAeq3tAAQAAQM2we0AAAADgerh7QAAAAMD1wHtAAAAA4FHAe0AAAABguK57QAAAAADXt3tAAQAAwMy4e0AAAABgj557QAAAACCut3tAAQAAwB65e0AAAADABbR7QAAAAGC4sntAAAAAIIWre0AAAAAgXLt7QAAAAGC4dntAAAAAIK5be0AAAACgR1V7QAAAAMD1bHtAAAAA4FF0e0AAAADgo3R7QAAAAAAAfHtAAAAAgBRqe0AAAACgmXd7QAAAACBcf3tAAAAAwPWQe0AAAACAwql7QAAAAOB6nHtAAAAA4HqEe0ABAABA4WJ7QAAAAIBRdHtAAAAAwFtre0AAAACAPWZ7QAAAAAA9cntAAAAAgD12e0AAAAAAKXB7QAEAAEAzh3tAAAAAACmEe0ABAADAHol7QAAAAIAUjntAAAAAgD2Oe0AAAAAghYt7QAAAAECkmHtAAAAAgD3me0AAAAAghfN7QAAAAIDr6XtAAAAAoJnVe0AAAABgj+J7QAEAAEDh6ntAAAAAYGbae0AAAABgZv57QAAAAIAU/ntAAAAAoHABfEAAAACgRwl8QAAAAGC4CnxAAAAAgD0OfEAAAADgoxx8QAAAAOBRJnxAAQAAQOEmfEAAAAAgXCZ8QAAAAAApHHxAAAAAAAAcfEAAAACgcBl8QAAAAIAUEnxA\"},\"shape\":[150],\"dtype\":\"float64\",\"order\":\"little\"}],[\"Volume\",{\"type\":\"ndarray\",\"array\":{\"type\":\"bytes\",\"data\":\"5gMjAQsWsADdm4gAiUmdAJtDwwAKjKwA5JqnADSdqQB5oosAtRp4AJVrSgD4mh8B43FcAe6tzQDjZTgBZ2qvAPwFnwCM12EAN7iBAP7YFAFAxTsBWJtXActQWQEYa4sA6yJ3AGjCZgALzb0AHKPdAGbm8gAMbJoAJ+hgAF2JsAD3AE8Axc9bAKn4wABTTsAAxHKdAACHbgBlQG0A0Z9lAI/8mwAjsuoAzDnfANwUiQAjyVMAfllhAM6jVgB/MngAl82rAP/L7gARXIIA1AKGAJaNYAA03GgAp3XEAOKXAgH0rKEAcpSWAMZ+bQBm4lEAABtPANcXXgC0zAEB+S6zAGpfhQD+el0AX+djAFY9cwAmScAAznS1AFZnvgB4/pIAZyVlANaGlACYuFAAJ/BxAHPgygDHsccAZTaGAIJqaACp8V4AueR3AOUATgCiz7EA+zEuAVPaswCtY3oAjnSAAA/KdQD0wI0A2/MjAXu/owBwIWgAbUNjAJO4mAAYuXoAMsNrAAuxdQC+dlcAY5BXAAltZwCFcEYBlQiUAMLOjAAEWIMAulRbAFe/WwDpOpsAH/upAO83UgBdz2UADOOgACeDYACZvXoAul0+AZWtqQBT35EAVn5iALAMTACVP04A/b49ACW9twCEE6IAAPhkAAlscwCdgUYAzO89AJM5awAZ6OYAiJU2ATZEeAAAAAAA16LZAlgWUwCednIA7AATAcDOwQCDzowAhpZnACXhYgDgGFQAjO93AF8I0QA7aNEAna2nAHstdQCd9F0AV4hMAJbHeADWyZ4A\"},\"shape\":[150],\"dtype\":\"int32\",\"order\":\"little\"}],[\"datetime\",{\"type\":\"ndarray\",\"array\":{\"type\":\"bytes\",\"data\":\"AAD8Lk+LeEIAAOSdUot4QgAAzAxWi3hCAAC0e1mLeEIAAJzqXIt4QgAAhFlgi3hCAABsyGOLeEIAALyUoYt4QgAApAOli3hCAACMcqiLeEIAAHThq4t4QgAAXFCvi3hCAABEv7KLeEIAACwutot4QgAAfPrzi3hCAABkafeLeEIAAEzY+ot4QgAANEf+i3hCAAActgGMeEIAAAQlBYx4QgAA7JMIjHhCAAA8YEaMeEIAACTPSYx4QgAADD5NjHhCAAD0rFCMeEIAANwbVIx4QgAAxIpXjHhCAACs+VqMeEIAADz3j414QgAAJGaTjXhCAAAM1ZaNeEIAAPRDmo14QgAA3LKdjXhCAADEIaGNeEIAAKyQpI14QgAA/FzijXhCAADky+WNeEIAAMw66Y14QgAAtKnsjXhCAACcGPCNeEIAAISH8414QgAAbPb2jXhCAAC8wjSOeEIAAKQxOI54QgAAjKA7jnhCAAB0Dz+OeEIAAFx+Qo54QgAARO1FjnhCAAAsXEmOeEIAAHwoh454QgAAZJeKjnhCAABMBo6OeEIAADR1kY54QgAAHOSUjnhCAAAEU5iOeEIAAOzBm454QgAAvFl+j3hCAACkyIGPeEIAAIw3hY94QgAAdKaIj3hCAABcFYyPeEIAAESEj494QgAALPOSj3hCAAB8v9CPeEIAAGQu1I94QgAATJ3Xj3hCAAA0DNuPeEIAABx73o94QgAABOrhj3hCAADsWOWPeEIAADwlI5B4QgAAJJQmkHhCAAAMAyqQeEIAAPRxLZB4QgAA3OAwkHhCAADETzSQeEIAAKy+N5B4QgAA/Ip1kHhCAADk+XiQeEIAAMxofJB4QgAAtNd/kHhCAACcRoOQeEIAAIS1hpB4QgAAbCSKkHhCAAC88MeQeEIAAKRfy5B4QgAAjM7OkHhCAAB0PdKQeEIAAFys1ZB4QgAARBvZkHhCAAAsityQeEIAAPwhv5F4QgAA5JDCkXhCAADM/8WReEIAAHztY5J4QgAAZFxnknhCAABMy2qSeEIAADQ6bpJ4QgAAHKlxknhCAAAEGHWSeEIAAOyGeJJ4QgAAPFO2knhCAAAkwrmSeEIAAAwxvZJ4QgAA9J/AknhCAADcDsSSeEIAAMR9x5J4QgAArOzKknhCAAD8uAiTeEIAAOQnDJN4QgAAzJYPk3hCAAC0BROTeEIAAJx0FpN4QgAAhOMZk3hCAABsUh2TeEIAADzq/5N4QgAAJFkDlHhCAAAMyAaUeEIAAPQ2CpR4QgAA3KUNlHhCAADEFBGUeEIAAKyDFJR4QgAA/E9SlHhCAADkvlWUeEIAAMwtWZR4QgAAtJxclHhCAACcC2CUeEIAAIR6Y5R4QgAAbOlmlHhCAAC8taSUeEIAAKQkqJR4QgAAjJOrlHhCAAB0Aq+UeEIAAFxxspR4QgAAROC1lHhCAAAsT7mUeEIAAHwb95R4QgAAZIr6lHhCAABM+f2UeEIAADRoAZV4QgAAHNcElXhCAAAERgiVeEIAAOy0C5V4QgAAPIFJlXhCAAAk8EyVeEIAAAxfUJV4QgAA9M1TlXhCAADcPFeVeEIAAMSrWpV4QgAArBpelXhC\"},\"shape\":[150],\"dtype\":\"float64\",\"order\":\"little\"}],[\"companyName\",{\"type\":\"ndarray\",\"array\":[\"SPY\",\"SPY\",\"SPY\",\"SPY\",\"SPY\",\"SPY\",\"SPY\",\"SPY\",\"SPY\",\"SPY\",\"SPY\",\"SPY\",\"SPY\",\"SPY\",\"SPY\",\"SPY\",\"SPY\",\"SPY\",\"SPY\",\"SPY\",\"SPY\",\"SPY\",\"SPY\",\"SPY\",\"SPY\",\"SPY\",\"SPY\",\"SPY\",\"SPY\",\"SPY\",\"SPY\",\"SPY\",\"SPY\",\"SPY\",\"SPY\",\"SPY\",\"SPY\",\"SPY\",\"SPY\",\"SPY\",\"SPY\",\"SPY\",\"SPY\",\"SPY\",\"SPY\",\"SPY\",\"SPY\",\"SPY\",\"SPY\",\"SPY\",\"SPY\",\"SPY\",\"SPY\",\"SPY\",\"SPY\",\"SPY\",\"SPY\",\"SPY\",\"SPY\",\"SPY\",\"SPY\",\"SPY\",\"SPY\",\"SPY\",\"SPY\",\"SPY\",\"SPY\",\"SPY\",\"SPY\",\"SPY\",\"SPY\",\"SPY\",\"SPY\",\"SPY\",\"SPY\",\"SPY\",\"SPY\",\"SPY\",\"SPY\",\"SPY\",\"SPY\",\"SPY\",\"SPY\",\"SPY\",\"SPY\",\"SPY\",\"SPY\",\"SPY\",\"SPY\",\"SPY\",\"SPY\",\"SPY\",\"SPY\",\"SPY\",\"SPY\",\"SPY\",\"SPY\",\"SPY\",\"SPY\",\"SPY\",\"SPY\",\"SPY\",\"SPY\",\"SPY\",\"SPY\",\"SPY\",\"SPY\",\"SPY\",\"SPY\",\"SPY\",\"SPY\",\"SPY\",\"SPY\",\"SPY\",\"SPY\",\"SPY\",\"SPY\",\"SPY\",\"SPY\",\"SPY\",\"SPY\",\"SPY\",\"SPY\",\"SPY\",\"SPY\",\"SPY\",\"SPY\",\"SPY\",\"SPY\",\"SPY\",\"SPY\",\"SPY\",\"SPY\",\"SPY\",\"SPY\",\"SPY\",\"SPY\",\"SPY\",\"SPY\",\"SPY\",\"SPY\",\"SPY\",\"SPY\",\"SPY\",\"SPY\",\"SPY\",\"SPY\",\"SPY\",\"SPY\",\"SPY\"],\"shape\":[150],\"dtype\":\"object\",\"order\":\"little\"}],[\"fecha\",{\"type\":\"ndarray\",\"array\":{\"type\":\"bytes\",\"data\":\"AADA1SCLeEIAAMDVIIt4QgAAwNUgi3hCAADA1SCLeEIAAMDVIIt4QgAAwNUgi3hCAADA1SCLeEIAAIA7c4t4QgAAgDtzi3hCAACAO3OLeEIAAIA7c4t4QgAAgDtzi3hCAACAO3OLeEIAAIA7c4t4QgAAQKHFi3hCAABAocWLeEIAAEChxYt4QgAAQKHFi3hCAABAocWLeEIAAEChxYt4QgAAQKHFi3hCAAAABxiMeEIAAAAHGIx4QgAAAAcYjHhCAAAABxiMeEIAAAAHGIx4QgAAAAcYjHhCAAAABxiMeEIAAACeYY14QgAAAJ5hjXhCAAAAnmGNeEIAAACeYY14QgAAAJ5hjXhCAAAAnmGNeEIAAACeYY14QgAAwAO0jXhCAADAA7SNeEIAAMADtI14QgAAwAO0jXhCAADAA7SNeEIAAMADtI14QgAAwAO0jXhCAACAaQaOeEIAAIBpBo54QgAAgGkGjnhCAACAaQaOeEIAAIBpBo54QgAAgGkGjnhCAACAaQaOeEIAAEDPWI54QgAAQM9YjnhCAABAz1iOeEIAAEDPWI54QgAAQM9YjnhCAABAz1iOeEIAAEDPWI54QgAAgABQj3hCAACAAFCPeEIAAIAAUI94QgAAgABQj3hCAACAAFCPeEIAAIAAUI94QgAAgABQj3hCAABAZqKPeEIAAEBmoo94QgAAQGaij3hCAABAZqKPeEIAAEBmoo94QgAAQGaij3hCAABAZqKPeEIAAADM9I94QgAAAMz0j3hCAAAAzPSPeEIAAADM9I94QgAAAMz0j3hCAAAAzPSPeEIAAADM9I94QgAAwDFHkHhCAADAMUeQeEIAAMAxR5B4QgAAwDFHkHhCAADAMUeQeEIAAMAxR5B4QgAAwDFHkHhCAACAl5mQeEIAAICXmZB4QgAAgJeZkHhCAACAl5mQeEIAAICXmZB4QgAAgJeZkHhCAACAl5mQeEIAAMDIkJF4QgAAwMiQkXhCAADAyJCReEIAAECUNZJ4QgAAQJQ1knhCAABAlDWSeEIAAECUNZJ4QgAAQJQ1knhCAABAlDWSeEIAAECUNZJ4QgAAAPqHknhCAAAA+oeSeEIAAAD6h5J4QgAAAPqHknhCAAAA+oeSeEIAAAD6h5J4QgAAAPqHknhCAADAX9qSeEIAAMBf2pJ4QgAAwF/aknhCAADAX9qSeEIAAMBf2pJ4QgAAwF/aknhCAADAX9qSeEIAAACR0ZN4QgAAAJHRk3hCAAAAkdGTeEIAAACR0ZN4QgAAAJHRk3hCAAAAkdGTeEIAAACR0ZN4QgAAwPYjlHhCAADA9iOUeEIAAMD2I5R4QgAAwPYjlHhCAADA9iOUeEIAAMD2I5R4QgAAwPYjlHhCAACAXHaUeEIAAIBcdpR4QgAAgFx2lHhCAACAXHaUeEIAAIBcdpR4QgAAgFx2lHhCAACAXHaUeEIAAEDCyJR4QgAAQMLIlHhCAABAwsiUeEIAAEDCyJR4QgAAQMLIlHhCAABAwsiUeEIAAEDCyJR4QgAAACgblXhCAAAAKBuVeEIAAAAoG5V4QgAAACgblXhCAAAAKBuVeEIAAAAoG5V4QgAAACgblXhC\"},\"shape\":[150],\"dtype\":\"float64\",\"order\":\"little\"}],[\"SMA20\",{\"type\":\"ndarray\",\"array\":{\"type\":\"bytes\",\"data\":\"AAAAAAAA+H8AAAAAAAD4fwAAAAAAAPh/AAAAAAAA+H8AAAAAAAD4fwAAAAAAAPh/AAAAAAAA+H8AAAAAAAD4fwAAAAAAAPh/AAAAAAAA+H8AAAAAAAD4fwAAAAAAAPh/AAAAAAAA+H8AAAAAAAD4fwAAAAAAAPh/AAAAAAAA+H8AAAAAAAD4fwAAAAAAAPh/AAAAAAAA+H8zMzPLnGF7QGZmZvYjZ3tAmpmZOa9re0BmZmY+BW97QGZmZubLcntAzczMvER3e0AAAABABXt7QAAAADhZfXtAZmZmhrt+e0CamZlZCXx7QM3MzKw2entAmpmZMSZ6e0AzMzODAH17QAAAABAYfntAAAAAUE1+e0BmZmaOgnx7QDMzM7MyeHtAmpmZ0bdze0CamZnRt297QGZmZnZTantAZmZmbihle0AAAABop197QJqZmYGrWXtAzczMhIFVe0CamZlx/k97QM3MzDQHS3tAAAAAUDZGe0CamZnpT0N7QGZmZh45QHtAZmZmNj1Be0BmZmZWeD97QGZmZv4+PHtAmpmZ0Wo5e0CamZmh4jZ7QDMzMwsfNHtAMzMzS9Qwe0DNzMz0Gy97QGZmZoYJLntAZmZmRlMre0AAAAAIHil7QAAAAEjaJXtAmpmZ+fcie0AzMzPTJCF7QAAAAOjSHXtAzczMBC0ce0DNzMysCxt7QGZmZua/GntAAAAA6Goae0AzMzODJBt7QM3MzGxLG3tAZmZmTkcde0DNzMyUKB97QM7MzOxhIHtAaGZmLsIhe0ACAADALyN7QDUzM7tZJXtAzszMDBIne0BoZmae/yh7QM7MzLRZLHtAzszMDJMwe0BoZmaW9zR7QGhmZn5zOXtAaGZmrh09e0CbmZk5G0J7QM3MzNxgRntAmpmZ4bZNe0DNzMyEJ1R7QM3MzJwrWntAAAAAaMxfe0AzMzOLp2V7QJqZmVHza3tAAAAAYCBye0AAAAAQEnh7QAAAALCsfXtAZmZmnimEe0AzMzNLRop7QM3MzMzbkHtAzczMrFaWe0BmZmbOh5t7QM3MzDyan3tAMzMzQxuke0AzMzM7b6h7QJqZmaHVqHtAmpmZgZSoe0AAAAC4Hal7QAAAANgjpntAmpmZkW2je0AzMzO7yaB7QDMzMzu1nXtAZmZmlgmae0DNzMwkxJZ7QJqZmaEDlXtAZmZmblGUe0DNzMz055J7QGZmZqYFkHtAAAAACBaMe0BmZmZepYh7QM3MzKwHhXtAmpmZwTSBe0BmZmaGVX57QAAAALjeentAzczM/JR3e0DNzMxMInl7QAAAAFB4e3tAMzMzw+B8e0CamZlRIn57QAAAAOhlf3tAAAAAqCqAe0BmZmamqYF7QGZmZrYRhHtAAAAAgOaJe0DNzMw8W457QM3MzGSMkHtAAAAAWAmUe0CamZkJJ5l7QDMzMxPTnntAMzMzczeke0AzMzNri6t7QM3MzOxLs3tAzczMVN26e0CamZnZR8J7QDMzMzstyntAmpmZ4UjSe0CamZlhs9l7QAAAADiX4XtAMzMzizrpe0DNzMwkVPB7QM3MzGSP93tAMzMzAwD+e0CamZnhTwN8QGZmZtb3BHxA\"},\"shape\":[150],\"dtype\":\"float64\",\"order\":\"little\"}],[\"SMA40\",{\"type\":\"ndarray\",\"array\":{\"type\":\"bytes\",\"data\":\"AAAAAAAA+H8AAAAAAAD4fwAAAAAAAPh/AAAAAAAA+H8AAAAAAAD4fwAAAAAAAPh/AAAAAAAA+H8AAAAAAAD4fwAAAAAAAPh/AAAAAAAA+H8AAAAAAAD4fwAAAAAAAPh/AAAAAAAA+H8AAAAAAAD4fwAAAAAAAPh/AAAAAAAA+H8AAAAAAAD4fwAAAAAAAPh/AAAAAAAA+H8AAAAAAAD4fwAAAAAAAPh/AAAAAAAA+H8AAAAAAAD4fwAAAAAAAPh/AAAAAAAA+H8AAAAAAAD4fwAAAAAAAPh/AAAAAAAA+H8AAAAAAAD4fwAAAAAAAPh/AAAAAAAA+H8AAAAAAAD4fwAAAAAAAPh/AAAAAAAA+H8AAAAAAAD4fwAAAAAAAPh/AAAAAAAA+H8AAAAAAAD4fwAAAAAAAPh/zczMnGJje0AzMzOvZWN7QJqZmV2tYntAmpmZYUNie0AAAAAsZWF7QM3MzPglYXtAAAAAyJ1ge0DNzMyQVGB7QGZmZlJ6X3tAAAAASKNee0CamZmB11x7QAAAAJgyW3tAZmZmqjVbe0DNzMxYfVp7QJqZmS02WXtAzczMbKtWe0AAAABUp1N7QAAAAKzgUHtAAAAAjIVNe0AzMzO/uEl7QDMzM1uBRXtAzczMsE9Be0BmZmYqaD17QGZmZjaqOXtAMzMzuxU2e0DNzMxwCTN7QDMzMxt7MHtAzczMaN0ue0DNzMzQri17QJqZmVFELntAZmZm0l8ue0CamZnJsy17QDMzM1/mLHtAAAAAaFIse0CamZllpyt7QDMzMwMXK3tAzczMABcre0BmZmaShCt7QJqZmX3WK3tAZmZmitgse0AzMzPvaC17QAAAALw1LntAzczMQCEve0DNzMwQ9y97QM3MzPBGMXtAMzMzR2E0e0CamZm1czd7QGZmZkJLOntAmpmZdXg9e0AAAAB8eUB7QAAAAFCdRHtAZmZmeqRIe0BmZmb+OUx7QDMzM2+3T3tAMzMzr6xTe0AzMzMD0Fd7QM3MzOz2W3tAmpmZJatfe0CamZnB8GN7QM3MzKQWaHtAzczMbIlse0DNzMxc8XB7QAAAAKj5cntAmpmZ3Vd1e0BmZmZKv3d7QM3MzFzteXtAMzMzi8p7e0AAAACsen17QJqZmdHAfntAzczMkNh/e0AzMzO7W4F7QM3MzACSg3tAMzMzvzGGe0BmZmZSSoh7QGZmZqIXintAmpmZKS6Le0CamZmVwIx7QM3MzCyvjXtAAAAASF6Oe0CamZnh9457QJqZmf18j3tAAAAAHAKQe0AzMzP3+5B7QM3MzGgGkntAmpmZPf+Se0DNzMwUI5J7QM3MzLxpkXtAmpmZMXqQe0DNzMxwr497QGZmZqYNj3tAZmZmUlWQe0AzMzNvr5F7QJqZmelukntAZmZmpniTe0AAAABYlpR7QJqZmY10lXtAzczMaG6We0AAAACMSZh7QDMzM1dAmntAmpmZbZmce0DNzMxIk557QAAAABzhoHtAMzMzl7Wle0DNzMzYlap7QJqZmf07r3tAZmZmbq6ze0BmZmYG3bd7QGZmZgbdu3tAzczM1NS/e0AAAADMsMN7QDMzMytvx3tA\"},\"shape\":[150],\"dtype\":\"float64\",\"order\":\"little\"}],[\"SMA100\",{\"type\":\"ndarray\",\"array\":{\"type\":\"bytes\",\"data\":\"AAAAAAAA+H8AAAAAAAD4fwAAAAAAAPh/AAAAAAAA+H8AAAAAAAD4fwAAAAAAAPh/AAAAAAAA+H8AAAAAAAD4fwAAAAAAAPh/AAAAAAAA+H8AAAAAAAD4fwAAAAAAAPh/AAAAAAAA+H8AAAAAAAD4fwAAAAAAAPh/AAAAAAAA+H8AAAAAAAD4fwAAAAAAAPh/AAAAAAAA+H8AAAAAAAD4fwAAAAAAAPh/AAAAAAAA+H8AAAAAAAD4fwAAAAAAAPh/AAAAAAAA+H8AAAAAAAD4fwAAAAAAAPh/AAAAAAAA+H8AAAAAAAD4fwAAAAAAAPh/AAAAAAAA+H8AAAAAAAD4fwAAAAAAAPh/AAAAAAAA+H8AAAAAAAD4fwAAAAAAAPh/AAAAAAAA+H8AAAAAAAD4fwAAAAAAAPh/AAAAAAAA+H8AAAAAAAD4fwAAAAAAAPh/AAAAAAAA+H8AAAAAAAD4fwAAAAAAAPh/AAAAAAAA+H8AAAAAAAD4fwAAAAAAAPh/AAAAAAAA+H8AAAAAAAD4fwAAAAAAAPh/AAAAAAAA+H8AAAAAAAD4fwAAAAAAAPh/AAAAAAAA+H8AAAAAAAD4fwAAAAAAAPh/AAAAAAAA+H8AAAAAAAD4fwAAAAAAAPh/AAAAAAAA+H8AAAAAAAD4fwAAAAAAAPh/AAAAAAAA+H8AAAAAAAD4fwAAAAAAAPh/AAAAAAAA+H8AAAAAAAD4fwAAAAAAAPh/AAAAAAAA+H8AAAAAAAD4fwAAAAAAAPh/AAAAAAAA+H8AAAAAAAD4fwAAAAAAAPh/AAAAAAAA+H8AAAAAAAD4fwAAAAAAAPh/AAAAAAAA+H8AAAAAAAD4fwAAAAAAAPh/AAAAAAAA+H8AAAAAAAD4fwAAAAAAAPh/AAAAAAAA+H8AAAAAAAD4fwAAAAAAAPh/AAAAAAAA+H8AAAAAAAD4fwAAAAAAAPh/AAAAAAAA+H8AAAAAAAD4fwAAAAAAAPh/AAAAAAAA+H8AAAAAAAD4fwAAAAAAAPh/AAAAAAAA+H8AAAAAAAD4fwAAAAAAAPh/16NwRb1ae0C4HoUD7lt7QBSuR/kWXHtASOF6FDVce0BSuB79fVx7QJqZmREKXXtA9ihcT4Nde0CF61HgAV57QArXoyhSXntArkfh0nNee0AzMzNbvF57QBSuR8FWX3tAmpmZWaNge0DD9Si0dmF7QJqZmXn1YXtAmpmZYc9he0AzMzOTk2F7QGZmZnY5YXtAj8L1eNNge0B7FK4PZGB7QM3MzHTKX3tAmpmZ0Tdfe0DsUbiWx157QGZmZn6yXntAFK5HKYJee0Bcj8KVaV57QI/C9XBjXntAH4XrKZJee0BxPQov6F57QArXoxgPYHtA16Nwhd9he0BSuB5dYWN7QIXrUSCMZHtAj8L1KNple0CF61E4VGd7QI/C9UisaHtAMzMzU2Fqe0CF61HIY2x7QGZmZn5XbntAKVyPon9we0BxPQpXanJ7QArXo8iFdHtAhetREOd2e0Bcj8LdInl7QPYoXLege3tAPQrXcw1+e0CF61FoaYB7QMP1KNyegntAMzMzw9yEe0AUrkeh34Z7QD0K12tfiXtA\"},\"shape\":[150],\"dtype\":\"float64\",\"order\":\"little\"}],[\"SMA200\",{\"type\":\"ndarray\",\"array\":{\"type\":\"bytes\",\"data\":\"AAAAAAAA+H8AAAAAAAD4fwAAAAAAAPh/AAAAAAAA+H8AAAAAAAD4fwAAAAAAAPh/AAAAAAAA+H8AAAAAAAD4fwAAAAAAAPh/AAAAAAAA+H8AAAAAAAD4fwAAAAAAAPh/AAAAAAAA+H8AAAAAAAD4fwAAAAAAAPh/AAAAAAAA+H8AAAAAAAD4fwAAAAAAAPh/AAAAAAAA+H8AAAAAAAD4fwAAAAAAAPh/AAAAAAAA+H8AAAAAAAD4fwAAAAAAAPh/AAAAAAAA+H8AAAAAAAD4fwAAAAAAAPh/AAAAAAAA+H8AAAAAAAD4fwAAAAAAAPh/AAAAAAAA+H8AAAAAAAD4fwAAAAAAAPh/AAAAAAAA+H8AAAAAAAD4fwAAAAAAAPh/AAAAAAAA+H8AAAAAAAD4fwAAAAAAAPh/AAAAAAAA+H8AAAAAAAD4fwAAAAAAAPh/AAAAAAAA+H8AAAAAAAD4fwAAAAAAAPh/AAAAAAAA+H8AAAAAAAD4fwAAAAAAAPh/AAAAAAAA+H8AAAAAAAD4fwAAAAAAAPh/AAAAAAAA+H8AAAAAAAD4fwAAAAAAAPh/AAAAAAAA+H8AAAAAAAD4fwAAAAAAAPh/AAAAAAAA+H8AAAAAAAD4fwAAAAAAAPh/AAAAAAAA+H8AAAAAAAD4fwAAAAAAAPh/AAAAAAAA+H8AAAAAAAD4fwAAAAAAAPh/AAAAAAAA+H8AAAAAAAD4fwAAAAAAAPh/AAAAAAAA+H8AAAAAAAD4fwAAAAAAAPh/AAAAAAAA+H8AAAAAAAD4fwAAAAAAAPh/AAAAAAAA+H8AAAAAAAD4fwAAAAAAAPh/AAAAAAAA+H8AAAAAAAD4fwAAAAAAAPh/AAAAAAAA+H8AAAAAAAD4fwAAAAAAAPh/AAAAAAAA+H8AAAAAAAD4fwAAAAAAAPh/AAAAAAAA+H8AAAAAAAD4fwAAAAAAAPh/AAAAAAAA+H8AAAAAAAD4fwAAAAAAAPh/AAAAAAAA+H8AAAAAAAD4fwAAAAAAAPh/AAAAAAAA+H8AAAAAAAD4fwAAAAAAAPh/AAAAAAAA+H8AAAAAAAD4fwAAAAAAAPh/AAAAAAAA+H8AAAAAAAD4fwAAAAAAAPh/AAAAAAAA+H8AAAAAAAD4fwAAAAAAAPh/AAAAAAAA+H8AAAAAAAD4fwAAAAAAAPh/AAAAAAAA+H8AAAAAAAD4fwAAAAAAAPh/AAAAAAAA+H8AAAAAAAD4fwAAAAAAAPh/AAAAAAAA+H8AAAAAAAD4fwAAAAAAAPh/AAAAAAAA+H8AAAAAAAD4fwAAAAAAAPh/AAAAAAAA+H8AAAAAAAD4fwAAAAAAAPh/AAAAAAAA+H8AAAAAAAD4fwAAAAAAAPh/AAAAAAAA+H8AAAAAAAD4fwAAAAAAAPh/AAAAAAAA+H8AAAAAAAD4fwAAAAAAAPh/AAAAAAAA+H8AAAAAAAD4fwAAAAAAAPh/AAAAAAAA+H8AAAAAAAD4fwAAAAAAAPh/AAAAAAAA+H8AAAAAAAD4fwAAAAAAAPh/AAAAAAAA+H8AAAAAAAD4fwAAAAAAAPh/AAAAAAAA+H8AAAAAAAD4fwAAAAAAAPh/\"},\"shape\":[150],\"dtype\":\"float64\",\"order\":\"little\"}],[\"pivotHigh\",{\"type\":\"ndarray\",\"array\":{\"type\":\"bytes\",\"data\":\"AAAAAAAA+H8AAAAAAAD4fwAAAAAAAPh/AAAAAAAA+H8AAAAAAAD4fwAAAAAAAPh/AAAAAAAA+H8AAAAAAAD4fwAAAAAAAPh/AAAAAAAA+H8AAAAAAAD4fwAAAAAAAPh/AAAAAAAA+H8AAAAAAAD4fwAAAAAAAPh/AAAAAAAA+H8AAAAAAAD4fwAAAAAAAPh/AAAAAAAA+H+8dJN4ar57QAAAAAAAAPh/AAAAAAAA+H8AAAAAAAD4fwAAAAAAAPh/AAAAAAAA+H8AAAAAAAD4fwAAAAAAAPh/AAAAAAAA+H8AAAAAAAD4fwAAAAAAAPh/AAAAAAAA+H8AAAAAAAD4fwAAAAAAAPh/AAAAAAAA+H8AAAAAAAD4fwAAAAAAAPh/AAAAAAAA+H8AAAAAAAD4fwAAAAAAAPh/AAAAAAAA+H8AAAAAAAD4fwAAAAAAAPh/AAAAAAAA+H8AAAAAAAD4fwAAAAAAAPh/AAAAAAAA+H8AAAAAAAD4fwAAAAAAAPh/AAAAAAAA+H8AAAAAAAD4fwAAAAAAAPh/AAAAAAAA+H8AAAAAAAD4fwAAAAAAAPh/AAAAAAAA+H8AAAAAAAD4fwAAAAAAAPh/AAAAAAAA+H8AAAAAAAD4fwAAAAAAAPh/AAAAAAAA+H8AAAAAAAD4fwAAAAAAAPh/AAAAAAAA+H8AAAAAAAD4fwAAAAAAAPh/AAAAAAAA+H8AAAAAAAD4fwAAAAAAAPh/AAAAAAAA+H8AAAAAAAD4fwAAAAAAAPh/AAAAAAAA+H8AAAAAAAD4fwAAAAAAAPh/AAAAAAAA+H8AAAAAAAD4fwAAAAAAAPh/AAAAAAAA+H8AAAAAAAD4fwAAAAAAAPh/AAAAAAAA+H8AAAAAAAD4fwAAAAAAAPh/AAAAAAAA+H8AAAAAAAD4fwAAAAAAAPh/AAAAAAAA+H+8dJOYGMJ7QAAAAAAAAPh/AAAAAAAA+H8AAAAAAAD4fwAAAAAAAPh/AAAAAAAA+H8AAAAAAAD4fwAAAAAAAPh/AAAAAAAA+H8AAAAAAAD4fwAAAAAAAPh/AAAAAAAA+H8AAAAAAAD4fwAAAAAAAPh/AAAAAAAA+H8AAAAAAAD4fwAAAAAAAPh/AAAAAAAA+H8AAAAAAAD4fwAAAAAAAPh/AAAAAAAA+H8AAAAAAAD4fwAAAAAAAPh/AAAAAAAA+H8AAAAAAAD4fwAAAAAAAPh/AAAAAAAA+H8AAAAAAAD4fwAAAAAAAPh/AAAAAAAA+H8AAAAAAAD4fwAAAAAAAPh/AAAAAAAA+H8AAAAAAAD4fwAAAAAAAPh/AAAAAAAA+H8AAAAAAAD4fwAAAAAAAPh/AAAAAAAA+H8AAAAAAAD4fwAAAAAAAPh/AAAAAAAA+H8AAAAAAAD4fwAAAAAAAPh/AAAAAAAA+H8AAAAAAAD4fwAAAAAAAPh/AAAAAAAA+H8AAAAAAAD4fwAAAAAAAPh/AAAAAAAA+H8AAAAAAAD4fwAAAAAAAPh/AAAAAAAA+H8AAAAAAAD4fwAAAAAAAPh/AAAAAAAA+H8AAAAAAAD4fwAAAAAAAPh/AAAAAAAA+H8AAAAAAAD4fwAAAAAAAPh/\"},\"shape\":[150],\"dtype\":\"float64\",\"order\":\"little\"}],[\"pivotLow\",{\"type\":\"ndarray\",\"array\":{\"type\":\"bytes\",\"data\":\"AAAAAAAA+H8AAAAAAAD4fwAAAAAAAPh/AAAAAAAA+H8AAAAAAAD4fwAAAAAAAPh/AAAAAAAA+H8AAAAAAAD4fwAAAAAAAPh/AAAAAAAA+H8AAAAAAAD4f0SLbIdsGXtAAAAAAAAA+H8AAAAAAAD4fwAAAAAAAPh/AAAAAAAA+H8AAAAAAAD4fwAAAAAAAPh/AAAAAAAA+H8AAAAAAAD4fwAAAAAAAPh/AAAAAAAA+H8AAAAAAAD4fwAAAAAAAPh/AAAAAAAA+H8AAAAAAAD4fwAAAAAAAPh/AAAAAAAA+H8AAAAAAAD4fwAAAAAAAPh/AAAAAAAA+H8AAAAAAAD4fwAAAAAAAPh/AAAAAAAA+H8AAAAAAAD4fwAAAAAAAPh/AAAAAAAA+H8AAAAAAAD4fwAAAAAAAPh/AAAAAAAA+H8AAAAAAAD4fwAAAAAAAPh/AAAAAAAA+H8AAAAAAAD4fwAAAAAAAPh/AAAAAAAA+H8AAAAAAAD4fwAAAAAAAPh/AAAAAAAA+H8AAAAAAAD4fwAAAAAAAPh/AAAAAAAA+H8AAAAAAAD4fwAAAAAAAPh/AAAAAAAA+H8AAAAAAAD4fwAAAAAAAPh/AAAAAAAA+H8AAAAAAAD4fwAAAAAAAPh/AAAAAAAA+H8AAAAAAAD4f0WLbCcG83pAAAAAAAAA+H8AAAAAAAD4fwAAAAAAAPh/AAAAAAAA+H8AAAAAAAD4fwAAAAAAAPh/AAAAAAAA+H8AAAAAAAD4fwAAAAAAAPh/AAAAAAAA+H8AAAAAAAD4fwAAAAAAAPh/AAAAAAAA+H8AAAAAAAD4fwAAAAAAAPh/AAAAAAAA+H8AAAAAAAD4fwAAAAAAAPh/AAAAAAAA+H8AAAAAAAD4fwAAAAAAAPh/AAAAAAAA+H8AAAAAAAD4fwAAAAAAAPh/AAAAAAAA+H8AAAAAAAD4fwAAAAAAAPh/AAAAAAAA+H8AAAAAAAD4fwAAAAAAAPh/AAAAAAAA+H8AAAAAAAD4fwAAAAAAAPh/AAAAAAAA+H8AAAAAAAD4fwAAAAAAAPh/AAAAAAAA+H8AAAAAAAD4fwAAAAAAAPh/RItsp/FQe0AAAAAAAAD4fwAAAAAAAPh/AAAAAAAA+H8AAAAAAAD4fwAAAAAAAPh/AAAAAAAA+H8AAAAAAAD4fwAAAAAAAPh/AAAAAAAA+H8AAAAAAAD4fwAAAAAAAPh/AAAAAAAA+H8AAAAAAAD4fwAAAAAAAPh/AAAAAAAA+H8AAAAAAAD4fwAAAAAAAPh/AAAAAAAA+H8AAAAAAAD4fwAAAAAAAPh/AAAAAAAA+H8AAAAAAAD4fwAAAAAAAPh/AAAAAAAA+H8AAAAAAAD4fwAAAAAAAPh/AAAAAAAA+H8AAAAAAAD4fwAAAAAAAPh/AAAAAAAA+H8AAAAAAAD4fwAAAAAAAPh/AAAAAAAA+H8AAAAAAAD4fwAAAAAAAPh/AAAAAAAA+H8AAAAAAAD4fwAAAAAAAPh/AAAAAAAA+H8AAAAAAAD4fwAAAAAAAPh/AAAAAAAA+H8AAAAAAAD4fwAAAAAAAPh/AAAAAAAA+H8AAAAAAAD4fwAAAAAAAPh/\"},\"shape\":[150],\"dtype\":\"float64\",\"order\":\"little\"}],[\"isPivot\",{\"type\":\"ndarray\",\"array\":{\"type\":\"bytes\",\"data\":\"AAAAAAAA+H8AAAAAAAD4fwAAAAAAAPh/AAAAAAAA+H8AAAAAAAD4fwAAAAAAAPh/AAAAAAAA+H8AAAAAAAD4fwAAAAAAAPh/AAAAAAAA+H8AAAAAAAD4fwAAAAAAAABAAAAAAAAA+H8AAAAAAAD4fwAAAAAAAPh/AAAAAAAA+H8AAAAAAAD4fwAAAAAAAPh/AAAAAAAA+H8AAAAAAADwPwAAAAAAAPh/AAAAAAAA+H8AAAAAAAD4fwAAAAAAAPh/AAAAAAAA+H8AAAAAAAD4fwAAAAAAAPh/AAAAAAAA+H8AAAAAAAD4fwAAAAAAAPh/AAAAAAAA+H8AAAAAAAD4fwAAAAAAAPh/AAAAAAAA+H8AAAAAAAD4fwAAAAAAAPh/AAAAAAAA+H8AAAAAAAD4fwAAAAAAAPh/AAAAAAAA+H8AAAAAAAD4fwAAAAAAAPh/AAAAAAAA+H8AAAAAAAD4fwAAAAAAAPh/AAAAAAAA+H8AAAAAAAD4fwAAAAAAAPh/AAAAAAAA+H8AAAAAAAD4fwAAAAAAAPh/AAAAAAAA+H8AAAAAAAD4fwAAAAAAAPh/AAAAAAAA+H8AAAAAAAD4fwAAAAAAAPh/AAAAAAAA+H8AAAAAAAD4fwAAAAAAAPh/AAAAAAAA+H8AAAAAAAD4fwAAAAAAAABAAAAAAAAA+H8AAAAAAAD4fwAAAAAAAPh/AAAAAAAA+H8AAAAAAAD4fwAAAAAAAPh/AAAAAAAA+H8AAAAAAAD4fwAAAAAAAPh/AAAAAAAA+H8AAAAAAAD4fwAAAAAAAPh/AAAAAAAA+H8AAAAAAAD4fwAAAAAAAPh/AAAAAAAA+H8AAAAAAAD4fwAAAAAAAPh/AAAAAAAA+H8AAAAAAAD4fwAAAAAAAPh/AAAAAAAA+H8AAAAAAAD4fwAAAAAAAPh/AAAAAAAA+H8AAAAAAADwPwAAAAAAAPh/AAAAAAAA+H8AAAAAAAD4fwAAAAAAAPh/AAAAAAAA+H8AAAAAAAD4fwAAAAAAAPh/AAAAAAAA+H8AAAAAAAD4fwAAAAAAAPh/AAAAAAAA+H8AAAAAAAD4fwAAAAAAAPh/AAAAAAAAAEAAAAAAAAD4fwAAAAAAAPh/AAAAAAAA+H8AAAAAAAD4fwAAAAAAAPh/AAAAAAAA+H8AAAAAAAD4fwAAAAAAAPh/AAAAAAAA+H8AAAAAAAD4fwAAAAAAAPh/AAAAAAAA+H8AAAAAAAD4fwAAAAAAAPh/AAAAAAAA+H8AAAAAAAD4fwAAAAAAAPh/AAAAAAAA+H8AAAAAAAD4fwAAAAAAAPh/AAAAAAAA+H8AAAAAAAD4fwAAAAAAAPh/AAAAAAAA+H8AAAAAAAD4fwAAAAAAAPh/AAAAAAAA+H8AAAAAAAD4fwAAAAAAAPh/AAAAAAAA+H8AAAAAAAD4fwAAAAAAAPh/AAAAAAAA+H8AAAAAAAD4fwAAAAAAAPh/AAAAAAAA+H8AAAAAAAD4fwAAAAAAAPh/AAAAAAAA+H8AAAAAAAD4fwAAAAAAAPh/AAAAAAAA+H8AAAAAAAD4fwAAAAAAAPh/AAAAAAAA+H8AAAAAAAD4fwAAAAAAAPh/\"},\"shape\":[150],\"dtype\":\"float64\",\"order\":\"little\"}]]}}},\"view\":{\"type\":\"object\",\"name\":\"CDSView\",\"id\":\"p1218\",\"attributes\":{\"filter\":{\"type\":\"object\",\"name\":\"AllIndices\",\"id\":\"p1219\"}}},\"glyph\":{\"type\":\"object\",\"name\":\"Segment\",\"id\":\"p1214\",\"attributes\":{\"x0\":{\"type\":\"field\",\"field\":\"index\"},\"y0\":{\"type\":\"field\",\"field\":\"High\"},\"x1\":{\"type\":\"field\",\"field\":\"index\"},\"y1\":{\"type\":\"field\",\"field\":\"Low\"}}},\"nonselection_glyph\":{\"type\":\"object\",\"name\":\"Segment\",\"id\":\"p1215\",\"attributes\":{\"x0\":{\"type\":\"field\",\"field\":\"index\"},\"y0\":{\"type\":\"field\",\"field\":\"High\"},\"x1\":{\"type\":\"field\",\"field\":\"index\"},\"y1\":{\"type\":\"field\",\"field\":\"Low\"},\"line_alpha\":{\"type\":\"value\",\"value\":0.1}}},\"muted_glyph\":{\"type\":\"object\",\"name\":\"Segment\",\"id\":\"p1216\",\"attributes\":{\"x0\":{\"type\":\"field\",\"field\":\"index\"},\"y0\":{\"type\":\"field\",\"field\":\"High\"},\"x1\":{\"type\":\"field\",\"field\":\"index\"},\"y1\":{\"type\":\"field\",\"field\":\"Low\"},\"line_alpha\":{\"type\":\"value\",\"value\":0.2}}}}},{\"type\":\"object\",\"name\":\"GlyphRenderer\",\"id\":\"p1229\",\"attributes\":{\"data_source\":{\"type\":\"object\",\"name\":\"ColumnDataSource\",\"id\":\"p1220\",\"attributes\":{\"selected\":{\"type\":\"object\",\"name\":\"Selection\",\"id\":\"p1221\",\"attributes\":{\"indices\":[],\"line_indices\":[]}},\"selection_policy\":{\"type\":\"object\",\"name\":\"UnionRenderers\",\"id\":\"p1222\"},\"data\":{\"type\":\"map\",\"entries\":[[\"index\",{\"type\":\"ndarray\",\"array\":{\"type\":\"bytes\",\"data\":\"AgAAAAQAAAAJAAAACgAAAAsAAAARAAAAFAAAABUAAAAWAAAAGAAAABkAAAAaAAAAGwAAABwAAAAgAAAAIQAAACIAAAAjAAAAJAAAACYAAAAoAAAAKQAAACsAAAAtAAAALwAAADIAAAA1AAAANgAAADkAAAA6AAAAPAAAAD4AAABFAAAASQAAAEsAAABQAAAAUQAAAFUAAABZAAAAWgAAAGAAAABhAAAAYgAAAGQAAABlAAAAZgAAAGsAAABwAAAAcQAAAHIAAAB0AAAAdQAAAHgAAAB6AAAAfgAAAIIAAACDAAAAhgAAAIgAAACOAAAAkAAAAJEAAACSAAAAkwAAAJQAAAA=\"},\"shape\":[65],\"dtype\":\"int32\",\"order\":\"little\"}],[\"Close\",{\"type\":\"ndarray\",\"array\":{\"type\":\"bytes\",\"data\":\"AAAAANdJe0AAAACAwj17QAAAAMCPYntAAAAA4HxUe0AAAAAA1yd7QAAAAIAUjntAAAAAoJmpe0AAAABgZqZ7QAAAAGCPjHtAAQAAQDOXe0AAAADgepB7QAEAAMAeeXtAAQAAQAp3e0AAAADgejR7QAAAAIDCX3tAAQAAQDNXe0AAAAAA11N7QAAAAABxNXtAAQAAwB41e0AAAACAwjF7QAAAACCFO3tAAAAAYLgue0AAAACAwi17QAAAAAApMHtAAAAAYEI5e0AAAABguBJ7QAAAAIDrH3tAAAAAAAASe0AAAACA1wd7QAAAAKCZBXtAAAAAANcBe0ABAABA4fZ6QAAAAGBmQntAAAAA4Ho8e0AAAACgcDV7QAAAACCFW3tAAAAAIIVTe0ABAABACqt7QAAAAOBRwHtAAAAAANeze0AAAAAA17N7QAAAAOC3sntAAAAAIIWre0AAAACAFLJ7QAAAACCFW3tAAAAAoJlVe0AAAABguHp7QAAAAOB6nHtAAAAAYI+Ee0ABAADAzGh7QAAAACCFa3tAAAAAgD1me0AAAADgUXB7QAAAAOBRhHtAAAAAAF+Le0AAAACA6+l7QAAAAKCZ1XtAAAAAgD3ae0AAAACAFP57QAAAAOCjGHxAAAAAIFwmfEAAAACAFBx8QAAAAAAAHHxAAAAAoHAZfEAAAACA6xF8QA==\"},\"shape\":[65],\"dtype\":\"float64\",\"order\":\"little\"}],[\"High\",{\"type\":\"ndarray\",\"array\":{\"type\":\"bytes\",\"data\":\"AAAAoHBNe0AAAACgR1N7QAAAAIDCa3tAAAAA4Alje0AAAAAAKVh7QAEAAEDhkntAAAAAIFy3e0ABAABA4bJ7QAAAAGBmpntAAAAAgBSme0AAAADgeph7QAAAAOCjkHtAAAAAoJmFe0AAAABguGJ7QAAAAIDCY3tAAAAAYGZge0AAAAAAAGB7QAAAAOB6RHtAAAAAQNg6e0AAAABguEJ7QAAAAADXT3tAAAAAoBo9e0AAAACgmT17QAAAAGC4OntAAAAAoEdHe0AAAAAA1yN7QAAAAMD1MHtAAAAAYI8ge0AAAACAFCB7QAEAAEB5FHtAAAAAoHALe0AAAACgmQ17QAAAAMD1THtAAQAAwMxIe0AAAAAgXD97QAAAAOB6ZHtAAAAAgFFce0AAAACAwrV7QAAAAIA9wntAAQAAwMzEe0AAAADA9bx7QAAAAIA9tntAAAAAIK65e0AAAACAKLx7QAAAAIDreXtAAAAAoJlde0AAAAAA1397QAAAAIA9qntAAAAAIK6de0AAAABgj4h7QAAAAIA9dntAAAAAoEdxe0AAAADA9XZ7QAAAAODAkHtAAQAAwECSe0AAAACgrfd7QAEAAEAK63tAAAAAAADse0AAAAAAKQh8QAAAAIAUJnxAAAAAoJkrfEABAABACi18QAAAAIDgIXxAAAAAACkkfEAAAADA9Rx8QA==\"},\"shape\":[65],\"dtype\":\"float64\",\"order\":\"little\"}],[\"Low\",{\"type\":\"ndarray\",\"array\":{\"type\":\"bytes\",\"data\":\"AAAAIIU7e0AAAADg6zl7QAEAAMAeWXtAAQAAwMxQe0AAAACgcBl7QAAAAIDCgXtAAAAAwPWge0AAAADgUYx7QAAAACBchXtAAAAAoJmVe0AAAADgeox7QAAAAKCZdXtAAAAAIIVve0AAAACAAjF7QAEAAMDMVHtAAAAAYLhSe0AAAACgmVF7QAAAAIAUJntAAAAAoEcle0AAAACA6y17QAAAACBcO3tAAAAAAAAqe0AAAADgeiB7QAAAAOCjJntAAAAA4KM4e0AAAACgcA17QAAAAAA9HntAAAAAIIUHe0AAAABgZgR7QAAAAKBw/XpAAAAAAAD8ekABAABACvN6QAAAAKBHQXtAAAAAwPUoe0AAAACgcCl7QAEAAEDhTntAAAAAgD1Ge0AAAADgo6B7QAAAAKBwuXtAAQAAQOGye0AAAADgUbB7QAAAACCuq3tAAAAAwPWke0AAAACAFLJ7QAEAAEAzV3tAAAAAwPVQe0AAAAAghXd7QAAAAAAAmHtAAAAAIFyDe0ABAADAzGR7QAAAAAApYHtAAAAAIFxZe0AAAACAFGx7QAEAAEAKd3tAAAAA4FGEe0ABAADAzOh7QAAAAGCPzntAAAAAYGbSe0ABAABAM/d7QAAAAOB6GHxAAAAA4FEYfEAAAACgcBt8QAEAAEAKE3xAAAAA4KMYfEAAAACAFAp8QA==\"},\"shape\":[65],\"dtype\":\"float64\",\"order\":\"little\"}],[\"Open\",{\"type\":\"ndarray\",\"array\":{\"type\":\"bytes\",\"data\":\"AAAAgHxLe0AAAADgo1B7QAAAAABmantAAAAAYI9ie0AAAADgo1R7QAEAAMDMjntAAAAAgD2ye0AAAADgUbB7QAAAAGBmpntAAAAAAACce0ABAABAM5d7QAAAAOB6kHtAAQAAwB55e0AAAADgo1R7QAAAAGDlYHtAAAAAgOtfe0AAAAAgXFd7QAAAAGCPQntAAAAAgBQ4e0AAAACAPT57QAAAAGC4SntAAAAAIIU7e0AAAACgcDl7QAAAAAApNHtAAQAAQDM/e0ABAADAzBp7QAEAAMAeLXtAAAAAANcfe0AAAAAA1x97QAAAACCuB3tAAAAAoJkJe0AAAACAPQp7QAAAAADXS3tAAAAA4HpIe0AAAACgcD17QAAAAIBRYXtAAAAAIIVbe0AAAAAAALB7QAAAAMD1wHtAAAAA4FHAe0ABAADAHrl7QAAAAMAFtHtAAAAAYLiye0AAAAAgXLt7QAAAAGC4dntAAAAAIK5be0AAAAAAAHx7QAAAAIDCqXtAAAAA4Hqce0AAAADgeoR7QAAAAIBRdHtAAAAAwFtre0AAAACAPXZ7QAEAAEAzh3tAAAAAgD2Oe0AAAAAghfN7QAAAAIDr6XtAAQAAQOHqe0AAAABgZv57QAAAAOCjHHxAAQAAQOEmfEAAAAAgXCZ8QAAAAAApHHxAAAAAAAAcfEAAAACgcBl8QA==\"},\"shape\":[65],\"dtype\":\"float64\",\"order\":\"little\"}],[\"Volume\",{\"type\":\"ndarray\",\"array\":{\"type\":\"bytes\",\"data\":\"3ZuIAJtDwwC1GngAlWtKAPiaHwGM12EAQMU7AVibVwHLUFkB6yJ3AGjCZgALzb0AHKPdAGbm8gD3AE8Axc9bAKn4wABTTsAAxHKdAGVAbQCP/JsAI7LqANwUiQB+WWEAfzJ4ABFcggA03GgAp3XEAHKUlgDGfm0AABtPALTMAQHOdLUA1oaUACfwcQCp8V4AueR3AFPaswD0wI0A2/MjATLDawALsXUAvnZXAAltZwCFcEYBlQiUAOk6mwAng2AAmb16ALpdPgFT35EAVn5iAP2+PQCEE6IAzO89ADZEeAAAAAAAnnZyAMDOwQBfCNEAna2nAHstdQCd9F0AV4hMAJbHeAA=\"},\"shape\":[65],\"dtype\":\"int32\",\"order\":\"little\"}],[\"datetime\",{\"type\":\"ndarray\",\"array\":{\"type\":\"bytes\",\"data\":\"AADMDFaLeEIAAJzqXIt4QgAAjHKoi3hCAAB04auLeEIAAFxQr4t4QgAANEf+i3hCAADskwiMeEIAADxgRox4QgAAJM9JjHhCAAD0rFCMeEIAANwbVIx4QgAAxIpXjHhCAACs+VqMeEIAADz3j414QgAA3LKdjXhCAADEIaGNeEIAAKyQpI14QgAA/FzijXhCAADky+WNeEIAALSp7I14QgAAhIfzjXhCAABs9vaNeEIAAKQxOI54QgAAdA8/jnhCAABE7UWOeEIAAGSXio54QgAAHOSUjnhCAAAEU5iOeEIAAKTIgY94QgAAjDeFj3hCAABcFYyPeEIAACzzko94QgAA7Fjlj3hCAAD0cS2QeEIAAMRPNJB4QgAAtNd/kHhCAACcRoOQeEIAAKRfy5B4QgAARBvZkHhCAAAsityQeEIAAEzLapJ4QgAANDpuknhCAAAcqXGSeEIAAOyGeJJ4QgAAPFO2knhCAAAkwrmSeEIAAKzsypJ4QgAAnHQWk3hCAACE4xmTeEIAAGxSHZN4QgAAJFkDlHhCAAAMyAaUeEIAAMQUEZR4QgAA/E9SlHhCAACcC2CUeEIAAKQkqJR4QgAAjJOrlHhCAABE4LWUeEIAAHwb95R4QgAA7LQLlXhCAAAk8EyVeEIAAAxfUJV4QgAA9M1TlXhCAADcPFeVeEIAAMSrWpV4Qg==\"},\"shape\":[65],\"dtype\":\"float64\",\"order\":\"little\"}],[\"companyName\",{\"type\":\"ndarray\",\"array\":[\"SPY\",\"SPY\",\"SPY\",\"SPY\",\"SPY\",\"SPY\",\"SPY\",\"SPY\",\"SPY\",\"SPY\",\"SPY\",\"SPY\",\"SPY\",\"SPY\",\"SPY\",\"SPY\",\"SPY\",\"SPY\",\"SPY\",\"SPY\",\"SPY\",\"SPY\",\"SPY\",\"SPY\",\"SPY\",\"SPY\",\"SPY\",\"SPY\",\"SPY\",\"SPY\",\"SPY\",\"SPY\",\"SPY\",\"SPY\",\"SPY\",\"SPY\",\"SPY\",\"SPY\",\"SPY\",\"SPY\",\"SPY\",\"SPY\",\"SPY\",\"SPY\",\"SPY\",\"SPY\",\"SPY\",\"SPY\",\"SPY\",\"SPY\",\"SPY\",\"SPY\",\"SPY\",\"SPY\",\"SPY\",\"SPY\",\"SPY\",\"SPY\",\"SPY\",\"SPY\",\"SPY\",\"SPY\",\"SPY\",\"SPY\",\"SPY\"],\"shape\":[65],\"dtype\":\"object\",\"order\":\"little\"}],[\"fecha\",{\"type\":\"ndarray\",\"array\":{\"type\":\"bytes\",\"data\":\"AADA1SCLeEIAAMDVIIt4QgAAgDtzi3hCAACAO3OLeEIAAIA7c4t4QgAAQKHFi3hCAABAocWLeEIAAAAHGIx4QgAAAAcYjHhCAAAABxiMeEIAAAAHGIx4QgAAAAcYjHhCAAAABxiMeEIAAACeYY14QgAAAJ5hjXhCAAAAnmGNeEIAAACeYY14QgAAwAO0jXhCAADAA7SNeEIAAMADtI14QgAAwAO0jXhCAADAA7SNeEIAAIBpBo54QgAAgGkGjnhCAACAaQaOeEIAAEDPWI54QgAAQM9YjnhCAABAz1iOeEIAAIAAUI94QgAAgABQj3hCAACAAFCPeEIAAIAAUI94QgAAQGaij3hCAAAAzPSPeEIAAADM9I94QgAAwDFHkHhCAADAMUeQeEIAAICXmZB4QgAAgJeZkHhCAACAl5mQeEIAAECUNZJ4QgAAQJQ1knhCAABAlDWSeEIAAECUNZJ4QgAAAPqHknhCAAAA+oeSeEIAAAD6h5J4QgAAwF/aknhCAADAX9qSeEIAAMBf2pJ4QgAAAJHRk3hCAAAAkdGTeEIAAACR0ZN4QgAAwPYjlHhCAADA9iOUeEIAAIBcdpR4QgAAgFx2lHhCAACAXHaUeEIAAEDCyJR4QgAAQMLIlHhCAAAAKBuVeEIAAAAoG5V4QgAAACgblXhCAAAAKBuVeEIAAAAoG5V4Qg==\"},\"shape\":[65],\"dtype\":\"float64\",\"order\":\"little\"}],[\"SMA20\",{\"type\":\"ndarray\",\"array\":{\"type\":\"bytes\",\"data\":\"AAAAAAAA+H8AAAAAAAD4fwAAAAAAAPh/AAAAAAAA+H8AAAAAAAD4fwAAAAAAAPh/ZmZm9iNne0CamZk5r2t7QGZmZj4Fb3tAzczMvER3e0AAAABABXt7QAAAADhZfXtAZmZmhrt+e0CamZlZCXx7QAAAABAYfntAAAAAUE1+e0BmZmaOgnx7QDMzM7MyeHtAmpmZ0bdze0BmZmZ2U2p7QAAAAGinX3tAmpmZgatZe0CamZlx/k97QAAAAFA2RntAZmZmHjlAe0BmZmb+Pjx7QDMzMwsfNHtAMzMzS9Qwe0BmZmZGUyt7QAAAAAgeKXtAmpmZ+fcie0AAAADo0h17QGZmZk5HHXtAAgAAwC8je0DOzMwMEid7QGhmZn5zOXtAaGZmrh09e0DNzMyEJ1R7QJqZmVHza3tAAAAAYCBye0DNzMysVpZ7QGZmZs6Hm3tAzczMPJqfe0AzMzM7b6h7QJqZmaHVqHtAmpmZgZSoe0AzMzM7tZ17QM3MzPTnkntAZmZmpgWQe0AAAAAIFox7QM3MzKwHhXtAmpmZwTSBe0DNzMz8lHd7QAAAAFB4e3tAAAAAqCqAe0DNzMw8W457QM3MzGSMkHtAMzMzE9Oee0AzMzNri6t7QJqZmWGz2XtAMzMzizrpe0DNzMwkVPB7QM3MzGSP93tAMzMzAwD+e0CamZnhTwN8QA==\"},\"shape\":[65],\"dtype\":\"float64\",\"order\":\"little\"}],[\"SMA40\",{\"type\":\"ndarray\",\"array\":{\"type\":\"bytes\",\"data\":\"AAAAAAAA+H8AAAAAAAD4fwAAAAAAAPh/AAAAAAAA+H8AAAAAAAD4fwAAAAAAAPh/AAAAAAAA+H8AAAAAAAD4fwAAAAAAAPh/AAAAAAAA+H8AAAAAAAD4fwAAAAAAAPh/AAAAAAAA+H8AAAAAAAD4fwAAAAAAAPh/AAAAAAAA+H8AAAAAAAD4fwAAAAAAAPh/AAAAAAAA+H8AAAAAAAD4fzMzM69lY3tAmpmZXa1ie0AAAAAsZWF7QAAAAMidYHtAZmZmUnpfe0AAAACYMlt7QJqZmS02WXtAzczMbKtWe0AAAACMhU17QDMzM7+4SXtAzczMsE9Be0BmZmY2qjl7QGZmZtJfLntAmpmZZacre0DNzMwAFyt7QAAAALw1LntAzczMQCEve0CamZm1czd7QAAAAFCdRHtAZmZmeqRIe0CamZklq197QJqZmcHwY3tAzczMpBZoe0DNzMxc8XB7QAAAAKj5cntAmpmZ3Vd1e0CamZnRwH57QGZmZlJKiHtAZmZmoheKe0CamZkpLot7QM3MzCyvjXtAAAAASF6Oe0AAAAAcApB7QM3MzGgGkntAmpmZMXqQe0AzMzNvr5F7QJqZmelukntAmpmZjXSVe0AAAACMSZh7QM3MzNiVqntAZmZmbq6ze0BmZmYG3bd7QGZmZgbdu3tAzczM1NS/e0AAAADMsMN7QA==\"},\"shape\":[65],\"dtype\":\"float64\",\"order\":\"little\"}],[\"SMA100\",{\"type\":\"ndarray\",\"array\":{\"type\":\"bytes\",\"data\":\"AAAAAAAA+H8AAAAAAAD4fwAAAAAAAPh/AAAAAAAA+H8AAAAAAAD4fwAAAAAAAPh/AAAAAAAA+H8AAAAAAAD4fwAAAAAAAPh/AAAAAAAA+H8AAAAAAAD4fwAAAAAAAPh/AAAAAAAA+H8AAAAAAAD4fwAAAAAAAPh/AAAAAAAA+H8AAAAAAAD4fwAAAAAAAPh/AAAAAAAA+H8AAAAAAAD4fwAAAAAAAPh/AAAAAAAA+H8AAAAAAAD4fwAAAAAAAPh/AAAAAAAA+H8AAAAAAAD4fwAAAAAAAPh/AAAAAAAA+H8AAAAAAAD4fwAAAAAAAPh/AAAAAAAA+H8AAAAAAAD4fwAAAAAAAPh/AAAAAAAA+H8AAAAAAAD4fwAAAAAAAPh/AAAAAAAA+H8AAAAAAAD4fwAAAAAAAPh/AAAAAAAA+H8AAAAAAAD4fwAAAAAAAPh/AAAAAAAA+H+4HoUD7lt7QBSuR/kWXHtASOF6FDVce0AK16MoUl57QMP1KLR2YXtAmpmZefVhe0CamZlhz2F7QGZmZnY5YXtAj8L1eNNge0CamZnRN197QGZmZn6yXntAH4XrKZJee0BSuB5dYWN7QIXrUSCMZHtAj8L1SKxoe0CF61HIY2x7QFyPwt0ieXtAPQrXcw1+e0CF61FoaYB7QMP1KNyegntAMzMzw9yEe0AUrkeh34Z7QA==\"},\"shape\":[65],\"dtype\":\"float64\",\"order\":\"little\"}],[\"SMA200\",{\"type\":\"ndarray\",\"array\":{\"type\":\"bytes\",\"data\":\"AAAAAAAA+H8AAAAAAAD4fwAAAAAAAPh/AAAAAAAA+H8AAAAAAAD4fwAAAAAAAPh/AAAAAAAA+H8AAAAAAAD4fwAAAAAAAPh/AAAAAAAA+H8AAAAAAAD4fwAAAAAAAPh/AAAAAAAA+H8AAAAAAAD4fwAAAAAAAPh/AAAAAAAA+H8AAAAAAAD4fwAAAAAAAPh/AAAAAAAA+H8AAAAAAAD4fwAAAAAAAPh/AAAAAAAA+H8AAAAAAAD4fwAAAAAAAPh/AAAAAAAA+H8AAAAAAAD4fwAAAAAAAPh/AAAAAAAA+H8AAAAAAAD4fwAAAAAAAPh/AAAAAAAA+H8AAAAAAAD4fwAAAAAAAPh/AAAAAAAA+H8AAAAAAAD4fwAAAAAAAPh/AAAAAAAA+H8AAAAAAAD4fwAAAAAAAPh/AAAAAAAA+H8AAAAAAAD4fwAAAAAAAPh/AAAAAAAA+H8AAAAAAAD4fwAAAAAAAPh/AAAAAAAA+H8AAAAAAAD4fwAAAAAAAPh/AAAAAAAA+H8AAAAAAAD4fwAAAAAAAPh/AAAAAAAA+H8AAAAAAAD4fwAAAAAAAPh/AAAAAAAA+H8AAAAAAAD4fwAAAAAAAPh/AAAAAAAA+H8AAAAAAAD4fwAAAAAAAPh/AAAAAAAA+H8AAAAAAAD4fwAAAAAAAPh/AAAAAAAA+H8AAAAAAAD4fw==\"},\"shape\":[65],\"dtype\":\"float64\",\"order\":\"little\"}],[\"pivotHigh\",{\"type\":\"ndarray\",\"array\":{\"type\":\"bytes\",\"data\":\"AAAAAAAA+H8AAAAAAAD4fwAAAAAAAPh/AAAAAAAA+H8AAAAAAAD4fwAAAAAAAPh/AAAAAAAA+H8AAAAAAAD4fwAAAAAAAPh/AAAAAAAA+H8AAAAAAAD4fwAAAAAAAPh/AAAAAAAA+H8AAAAAAAD4fwAAAAAAAPh/AAAAAAAA+H8AAAAAAAD4fwAAAAAAAPh/AAAAAAAA+H8AAAAAAAD4fwAAAAAAAPh/AAAAAAAA+H8AAAAAAAD4fwAAAAAAAPh/AAAAAAAA+H8AAAAAAAD4fwAAAAAAAPh/AAAAAAAA+H8AAAAAAAD4fwAAAAAAAPh/AAAAAAAA+H8AAAAAAAD4fwAAAAAAAPh/AAAAAAAA+H8AAAAAAAD4fwAAAAAAAPh/AAAAAAAA+H8AAAAAAAD4fwAAAAAAAPh/AAAAAAAA+H8AAAAAAAD4fwAAAAAAAPh/AAAAAAAA+H8AAAAAAAD4fwAAAAAAAPh/AAAAAAAA+H8AAAAAAAD4fwAAAAAAAPh/AAAAAAAA+H8AAAAAAAD4fwAAAAAAAPh/AAAAAAAA+H8AAAAAAAD4fwAAAAAAAPh/AAAAAAAA+H8AAAAAAAD4fwAAAAAAAPh/AAAAAAAA+H8AAAAAAAD4fwAAAAAAAPh/AAAAAAAA+H8AAAAAAAD4fwAAAAAAAPh/AAAAAAAA+H8AAAAAAAD4fw==\"},\"shape\":[65],\"dtype\":\"float64\",\"order\":\"little\"}],[\"pivotLow\",{\"type\":\"ndarray\",\"array\":{\"type\":\"bytes\",\"data\":\"AAAAAAAA+H8AAAAAAAD4fwAAAAAAAPh/AAAAAAAA+H9Ei2yHbBl7QAAAAAAAAPh/AAAAAAAA+H8AAAAAAAD4fwAAAAAAAPh/AAAAAAAA+H8AAAAAAAD4fwAAAAAAAPh/AAAAAAAA+H8AAAAAAAD4fwAAAAAAAPh/AAAAAAAA+H8AAAAAAAD4fwAAAAAAAPh/AAAAAAAA+H8AAAAAAAD4fwAAAAAAAPh/AAAAAAAA+H8AAAAAAAD4fwAAAAAAAPh/AAAAAAAA+H8AAAAAAAD4fwAAAAAAAPh/AAAAAAAA+H8AAAAAAAD4fwAAAAAAAPh/AAAAAAAA+H9Fi2wnBvN6QAAAAAAAAPh/AAAAAAAA+H8AAAAAAAD4fwAAAAAAAPh/AAAAAAAA+H8AAAAAAAD4fwAAAAAAAPh/AAAAAAAA+H8AAAAAAAD4fwAAAAAAAPh/AAAAAAAA+H8AAAAAAAD4fwAAAAAAAPh/RItsp/FQe0AAAAAAAAD4fwAAAAAAAPh/AAAAAAAA+H8AAAAAAAD4fwAAAAAAAPh/AAAAAAAA+H8AAAAAAAD4fwAAAAAAAPh/AAAAAAAA+H8AAAAAAAD4fwAAAAAAAPh/AAAAAAAA+H8AAAAAAAD4fwAAAAAAAPh/AAAAAAAA+H8AAAAAAAD4fwAAAAAAAPh/AAAAAAAA+H8AAAAAAAD4fw==\"},\"shape\":[65],\"dtype\":\"float64\",\"order\":\"little\"}],[\"isPivot\",{\"type\":\"ndarray\",\"array\":{\"type\":\"bytes\",\"data\":\"AAAAAAAA+H8AAAAAAAD4fwAAAAAAAPh/AAAAAAAA+H8AAAAAAAAAQAAAAAAAAPh/AAAAAAAA+H8AAAAAAAD4fwAAAAAAAPh/AAAAAAAA+H8AAAAAAAD4fwAAAAAAAPh/AAAAAAAA+H8AAAAAAAD4fwAAAAAAAPh/AAAAAAAA+H8AAAAAAAD4fwAAAAAAAPh/AAAAAAAA+H8AAAAAAAD4fwAAAAAAAPh/AAAAAAAA+H8AAAAAAAD4fwAAAAAAAPh/AAAAAAAA+H8AAAAAAAD4fwAAAAAAAPh/AAAAAAAA+H8AAAAAAAD4fwAAAAAAAPh/AAAAAAAA+H8AAAAAAAAAQAAAAAAAAPh/AAAAAAAA+H8AAAAAAAD4fwAAAAAAAPh/AAAAAAAA+H8AAAAAAAD4fwAAAAAAAPh/AAAAAAAA+H8AAAAAAAD4fwAAAAAAAPh/AAAAAAAA+H8AAAAAAAD4fwAAAAAAAPh/AAAAAAAAAEAAAAAAAAD4fwAAAAAAAPh/AAAAAAAA+H8AAAAAAAD4fwAAAAAAAPh/AAAAAAAA+H8AAAAAAAD4fwAAAAAAAPh/AAAAAAAA+H8AAAAAAAD4fwAAAAAAAPh/AAAAAAAA+H8AAAAAAAD4fwAAAAAAAPh/AAAAAAAA+H8AAAAAAAD4fwAAAAAAAPh/AAAAAAAA+H8AAAAAAAD4fw==\"},\"shape\":[65],\"dtype\":\"float64\",\"order\":\"little\"}]]}}},\"view\":{\"type\":\"object\",\"name\":\"CDSView\",\"id\":\"p1230\",\"attributes\":{\"filter\":{\"type\":\"object\",\"name\":\"AllIndices\",\"id\":\"p1231\"}}},\"glyph\":{\"type\":\"object\",\"name\":\"VBar\",\"id\":\"p1226\",\"attributes\":{\"x\":{\"type\":\"field\",\"field\":\"index\"},\"width\":{\"type\":\"value\",\"value\":0.6},\"bottom\":{\"type\":\"field\",\"field\":\"Open\"},\"top\":{\"type\":\"field\",\"field\":\"Close\"},\"line_color\":{\"type\":\"value\",\"value\":\"red\"},\"fill_color\":{\"type\":\"value\",\"value\":\"red\"}}},\"nonselection_glyph\":{\"type\":\"object\",\"name\":\"VBar\",\"id\":\"p1227\",\"attributes\":{\"x\":{\"type\":\"field\",\"field\":\"index\"},\"width\":{\"type\":\"value\",\"value\":0.6},\"bottom\":{\"type\":\"field\",\"field\":\"Open\"},\"top\":{\"type\":\"field\",\"field\":\"Close\"},\"line_color\":{\"type\":\"value\",\"value\":\"red\"},\"line_alpha\":{\"type\":\"value\",\"value\":0.1},\"fill_color\":{\"type\":\"value\",\"value\":\"red\"},\"fill_alpha\":{\"type\":\"value\",\"value\":0.1},\"hatch_alpha\":{\"type\":\"value\",\"value\":0.1}}},\"muted_glyph\":{\"type\":\"object\",\"name\":\"VBar\",\"id\":\"p1228\",\"attributes\":{\"x\":{\"type\":\"field\",\"field\":\"index\"},\"width\":{\"type\":\"value\",\"value\":0.6},\"bottom\":{\"type\":\"field\",\"field\":\"Open\"},\"top\":{\"type\":\"field\",\"field\":\"Close\"},\"line_color\":{\"type\":\"value\",\"value\":\"red\"},\"line_alpha\":{\"type\":\"value\",\"value\":0.2},\"fill_color\":{\"type\":\"value\",\"value\":\"red\"},\"fill_alpha\":{\"type\":\"value\",\"value\":0.2},\"hatch_alpha\":{\"type\":\"value\",\"value\":0.2}}}}},{\"type\":\"object\",\"name\":\"GlyphRenderer\",\"id\":\"p1241\",\"attributes\":{\"data_source\":{\"type\":\"object\",\"name\":\"ColumnDataSource\",\"id\":\"p1232\",\"attributes\":{\"selected\":{\"type\":\"object\",\"name\":\"Selection\",\"id\":\"p1233\",\"attributes\":{\"indices\":[],\"line_indices\":[]}},\"selection_policy\":{\"type\":\"object\",\"name\":\"UnionRenderers\",\"id\":\"p1234\"},\"data\":{\"type\":\"map\",\"entries\":[[\"index\",{\"type\":\"ndarray\",\"array\":{\"type\":\"bytes\",\"data\":\"AAAAAAEAAAADAAAABQAAAAYAAAAHAAAACAAAAAwAAAANAAAADgAAAA8AAAAQAAAAEgAAABMAAAAXAAAAHQAAAB4AAAAfAAAAJQAAACcAAAAqAAAALAAAAC4AAAAwAAAAMQAAADMAAAA0AAAANwAAADgAAAA7AAAAPQAAAD8AAABAAAAAQQAAAEIAAABDAAAARAAAAEYAAABHAAAASAAAAEoAAABMAAAATQAAAE4AAABPAAAAUgAAAFMAAABUAAAAVgAAAFcAAABYAAAAWwAAAFwAAABdAAAAXgAAAF8AAABjAAAAZwAAAGgAAABpAAAAagAAAGwAAABtAAAAbgAAAG8AAABzAAAAdgAAAHcAAAB5AAAAewAAAHwAAAB/AAAAgAAAAIEAAACEAAAAhQAAAIcAAACJAAAAigAAAIsAAACMAAAAjQAAAI8AAACVAAAA\"},\"shape\":[84],\"dtype\":\"int32\",\"order\":\"little\"}],[\"Close\",{\"type\":\"ndarray\",\"array\":{\"type\":\"bytes\",\"data\":\"AQAAQAo7e0AAAAAghUt7QAAAAOB6UHtAAAAAoHBFe0AAAABgj0p7QAAAACBcW3tAAAAAYGZqe0AAAACA60l7QAEAAEAKU3tAAAAAIK53e0AAAAAgrot7QAAAAGC4jntAAAAAoJmde0AAAACAPbJ7QAAAAAAAnHtAAQAAQBo+e0ABAABAM1N7QAAAAGDlYHtAAAAAgBQ+e0AAAADg4Ep7QAAAAKBHOXtAAAAAgOIze0ABAADAHj97QAEAAMDMSHtAAQAAwLgae0AAAADgUSh7QAEAAMAeLXtAAQAAQAoTe0AAAAAgrh97QAAAAOCVCXtAAAAAYDkKe0ABAADAzAx7QAAAAKBHHXtAAAAAgD0qe0AAAADgejh7QAAAAIDCR3tAAAAAANdLe0AAAADgUTh7QAEAAMDMQHtAAAAA4KNIe0AAAACgRz17QAAAAIA9RntAAQAAQOFKe0AAAACAFFp7QAAAAKBwYXtAAAAAILBae0AAAACAPWJ7QAAAAAAAsHtAAQAAwMywe0AAAABgUrh7QAAAAMD1wHtAAAAAgK63e0AAAABguLh7QAAAAIA9vntAAAAAIIW3e0ABAADAHrl7QAAAACCFu3tAAAAAwPVse0AAAACAenR7QAEAAMDMdHtAAAAAAAB8e0AAAADgjHd7QAAAAADlfntAAQAAwMyQe0AAAACAwql7QAAAAIBRdHtAAAAAgBRye0AAAAAAPXZ7QAAAAGCPentAAQAAwB6Je0AAAACgmY17QAAAAECkmHtAAAAAIK6ne0ABAADAhPN7QAAAAOA94ntAAQAAQOHqe0AAAAAAKeB7QAAAAKBHAXxAAAAAoHAJfEAAAABgjwp8QAAAAIA9DnxAAAAAYLgcfEAAAACA6yZ8QAAAAOCjFHxA\"},\"shape\":[84],\"dtype\":\"float64\",\"order\":\"little\"}],[\"High\",{\"type\":\"ndarray\",\"array\":{\"type\":\"bytes\",\"data\":\"AQAAQOFSe0AAAADgUVR7QAAAAKBHVXtAAAAAgMJLe0AAAABgj0x7QAAAAAAAZHtAAAAAoPpwe0AAAABgZmJ7QAEAAEAKU3tAAAAAYI96e0AAAACA64t7QAAAAOAUkntAAAAAgD2ge0AAAABgZr57QAAAAOCjnHtAAAAAgOtFe0AAAACAwlV7QAAAAIDrZXtAAAAAIFxDe0ABAABAM0t7QAAAAOBRQHtAAAAAoEc9e0AAAABg0z97QAAAAIDrSXtAAAAAANcfe0ABAADAHil7QAAAAGBmLntAAAAAIK4fe0AAAACAwil7QAEAAEDhCntAAAAAYLgOe0ABAADAzBR7QAEAAEDhHntAAAAAIIUre0ABAABACjt7QAAAAKBwSXtAAAAA4E1Me0ABAADAzDp7QAAAACCFR3tAAQAAQApXe0AAAADgo0B7QAEAAEDhRntAAAAAgOtVe0ABAABAClt7QAEAAMAeY3tAAQAAwMxce0AAAABguGJ7QAEAAMAetXtAAAAAgPKwe0AAAACAwrl7QAAAAIAUwntAAQAAQOG6e0AAAACAwrl7QAEAAEAzv3tAAAAAAAC6e0AAAABgOb57QAAAAAApvHtAAQAAQDNte0ABAADAzHh7QAAAAAApfHtAAAAAoJmBe0AAAAAAAIR7QAAAAIA9gntAAQAAwB6Re0AAAACAPap7QAAAAKBwfXtAAAAAoBxye0AAAABguHZ7QAAAAGC4entAAAAAIIWPe0ABAABAM5t7QAAAAADXmXtAAAAAIIWve0AAAACgcPV7QAAAAADX43tAAAAAQNjre0ABAABAM+N7QAAAAAApCHxAAAAAANcLfEAAAABgjw58QAAAAOBRFHxAAAAAYGYefEAAAACAwjV8QAAAAKCZFXxA\"},\"shape\":[84],\"dtype\":\"float64\",\"order\":\"little\"}],[\"Low\",{\"type\":\"ndarray\",\"array\":{\"type\":\"bytes\",\"data\":\"AAAAgBQqe0AAAACAwjF7QAEAAEDhRntAAAAAIK41e0AAAAAAnEF7QAAAAAApSHtAAAAAYI9ae0AAAAAgXB97QAAAAIAUMntAAAAAIK5De0AAAACA62V7QAAAAMD1gHtAAAAA4FGMe0AAAACgmZ17QAAAAGC4hntAAAAA4Howe0AAAACgmT17QAAAAMD1UHtAAQAAwMwwe0AAAAAAKTB7QAAAAKCZGXtAAAAAANcre0AAAADA9Sx7QAAAACBcNXtAAAAAIGMLe0AAAACAFBB7QAEAAEAzI3tAAAAAIFwPe0AAAACgmQl7QAAAAGBm+npAAAAAQKQAe0AAAACAFP56QAAAAOCjCHtAAAAAwDcce0AAAACA6yd7QAAAAOCjOHtAAAAAoHBBe0AAAABgjyZ7QAAAAIA9NntAAAAAIK4/e0AAAADgozB7QAAAAGCPMntAAAAA4KM4e0AAAABgjz57QAAAACBcU3tAAAAAgMJNe0AAAADgUVJ7QAAAAIDCkXtAAAAAACmge0AAAAAA1697QAEAAMAet3tAAAAAgBSqe0AAAADgUbB7QAAAAOD7tntAAAAAYGaee0AAAADgPbJ7QAAAAKBwq3tAAAAAoEdVe0AAAADA9Wp7QAAAAIDrb3tAAAAAYGZ0e0AAAAAghWd7QAEAAMAebXtAAQAAwEJ+e0AAAADA9ZB7QAEAAMDMYHtAAAAA4FFke0AAAACAemh7QAAAAIDCaXtAAAAA4FGAe0AAAAAAAIZ7QAAAAIDChXtAAQAAQAqTe0AAAAAAT917QAAAAAAA1HtAAAAAAADge0ABAADAHtl7QAAAAADX/XtAAAAAIB3+e0AAAABgjwJ8QAAAAIDrCXxAAAAAAAAMfEABAABA4SJ8QAAAAADXB3xA\"},\"shape\":[84],\"dtype\":\"float64\",\"order\":\"little\"}],[\"Open\",{\"type\":\"ndarray\",\"array\":{\"type\":\"bytes\",\"data\":\"AQAAwB41e0ABAABAMzt7QAAAAIA9SntAAAAAgMI9e0AAAAAgXEV7QAAAAAApUHtAAAAAoHBbe0AAAACA6yd7QAAAAGCPSntAAAAAoEdFe0AAAAAgrnd7QAAAACCFi3tAAAAAgD2Oe0AAAACgvZ17QAAAAOBRjHtAAQAAwMw0e0AAAABgZj57QAEAAEAzU3tAAAAAoEc1e0AAAAAgrjF7QAEAAEAzH3tAAAAAoHAte0AAAADgUTB7QAAAAKBHOXtAAQAAQOEOe0AAAABguBJ7QAAAAOB6KHtAAAAAgBQSe0AAAACA6wl7QAAAAKCZBXtAAAAAgMIBe0AAAACA6wl7QAAAAMD1DHtAAAAAgOsde0AAAACAPSp7QAAAAOCjOHtAAAAAANdHe0ABAADAzDB7QAAAAOB6OHtAAQAAwMxAe0AAAADgejx7QAAAAKBHNXtAAAAAIFw/e0ABAABACkt7QAAAAOAtWntAAAAAIK5Te0AAAABgj1p7QAEAAEAKl3tAAQAAwB6re0ABAABAzbB7QAAAAOB6uHtAAAAAYLiue0AAAAAA17d7QAEAAMDMuHtAAAAAYI+ee0AAAAAgrrd7QAAAACCFq3tAAAAAoEdVe0AAAADA9Wx7QAAAAOBRdHtAAAAA4KN0e0AAAACAFGp7QAAAAKCZd3tAAAAAIFx/e0AAAADA9ZB7QAEAAEDhYntAAAAAgD1me0AAAAAAPXJ7QAAAAAApcHtAAAAAACmEe0ABAADAHol7QAAAACCFi3tAAAAAQKSYe0AAAACAPeZ7QAAAAKCZ1XtAAAAAYI/ie0AAAABgZtp7QAAAAIAU/ntAAAAAoHABfEAAAACgRwl8QAAAAGC4CnxAAAAAgD0OfEAAAADgUSZ8QAAAAIAUEnxA\"},\"shape\":[84],\"dtype\":\"float64\",\"order\":\"little\"}],[\"Volume\",{\"type\":\"ndarray\",\"array\":{\"type\":\"bytes\",\"data\":\"5gMjAQsWsACJSZ0ACoysAOSapwA0nakAeaKLAONxXAHurc0A42U4AWdqrwD8BZ8AN7iBAP7YFAEYa4sADGyaACfoYABdibAAAIduANGfZQDMOd8AI8lTAM6jVgCXzasA/8vuANQChgCWjWAA4pcCAfSsoQBm4lEA1xdeAPkuswBqX4UA/npdAF/nYwBWPXMAJknAAFZnvgB4/pIAZyVlAJi4UABz4MoAx7HHAGU2hgCCamgA5QBOAKLPsQD7MS4BrWN6AI50gAAPynUAe7+jAHAhaABtQ2MAk7iYABi5egBjkFcAws6MAARYgwC6VFsAV79bAB/7qQDvN1IAXc9lAAzjoACVrakAsAxMAJU/TgAlvbcAAPhkAAlscwCTOWsAGejmAIiVNgHXotkCWBZTAOwAEwGDzowAhpZnACXhYgDgGFQAjO93ADto0QDWyZ4A\"},\"shape\":[84],\"dtype\":\"int32\",\"order\":\"little\"}],[\"datetime\",{\"type\":\"ndarray\",\"array\":{\"type\":\"bytes\",\"data\":\"AAD8Lk+LeEIAAOSdUot4QgAAtHtZi3hCAACEWWCLeEIAAGzIY4t4QgAAvJShi3hCAACkA6WLeEIAAES/sot4QgAALC62i3hCAAB8+vOLeEIAAGRp94t4QgAATNj6i3hCAAActgGMeEIAAAQlBYx4QgAADD5NjHhCAAAkZpONeEIAAAzVlo14QgAA9EOajXhCAADMOumNeEIAAJwY8I14QgAAvMI0jnhCAACMoDuOeEIAAFx+Qo54QgAALFxJjnhCAAB8KIeOeEIAAEwGjo54QgAANHWRjnhCAADswZuOeEIAALxZfo94QgAAdKaIj3hCAABEhI+PeEIAAHy/0I94QgAAZC7Uj3hCAABMndePeEIAADQM2494QgAAHHvej3hCAAAE6uGPeEIAADwlI5B4QgAAJJQmkHhCAAAMAyqQeEIAANzgMJB4QgAArL43kHhCAAD8inWQeEIAAOT5eJB4QgAAzGh8kHhCAACEtYaQeEIAAGwkipB4QgAAvPDHkHhCAACMzs6QeEIAAHQ90pB4QgAAXKzVkHhCAAD8Ib+ReEIAAOSQwpF4QgAAzP/FkXhCAAB87WOSeEIAAGRcZ5J4QgAABBh1knhCAAAMMb2SeEIAAPSfwJJ4QgAA3A7EknhCAADEfceSeEIAAPy4CJN4QgAA5CcMk3hCAADMlg+TeEIAALQFE5N4QgAAPOr/k3hCAAD0NgqUeEIAANylDZR4QgAArIMUlHhCAADkvlWUeEIAAMwtWZR4QgAAhHpjlHhCAABs6WaUeEIAALy1pJR4QgAAdAKvlHhCAABccbKUeEIAACxPuZR4QgAAZIr6lHhCAABM+f2UeEIAADRoAZV4QgAAHNcElXhCAAAERgiVeEIAADyBSZV4QgAArBpelXhC\"},\"shape\":[84],\"dtype\":\"float64\",\"order\":\"little\"}],[\"companyName\",{\"type\":\"ndarray\",\"array\":[\"SPY\",\"SPY\",\"SPY\",\"SPY\",\"SPY\",\"SPY\",\"SPY\",\"SPY\",\"SPY\",\"SPY\",\"SPY\",\"SPY\",\"SPY\",\"SPY\",\"SPY\",\"SPY\",\"SPY\",\"SPY\",\"SPY\",\"SPY\",\"SPY\",\"SPY\",\"SPY\",\"SPY\",\"SPY\",\"SPY\",\"SPY\",\"SPY\",\"SPY\",\"SPY\",\"SPY\",\"SPY\",\"SPY\",\"SPY\",\"SPY\",\"SPY\",\"SPY\",\"SPY\",\"SPY\",\"SPY\",\"SPY\",\"SPY\",\"SPY\",\"SPY\",\"SPY\",\"SPY\",\"SPY\",\"SPY\",\"SPY\",\"SPY\",\"SPY\",\"SPY\",\"SPY\",\"SPY\",\"SPY\",\"SPY\",\"SPY\",\"SPY\",\"SPY\",\"SPY\",\"SPY\",\"SPY\",\"SPY\",\"SPY\",\"SPY\",\"SPY\",\"SPY\",\"SPY\",\"SPY\",\"SPY\",\"SPY\",\"SPY\",\"SPY\",\"SPY\",\"SPY\",\"SPY\",\"SPY\",\"SPY\",\"SPY\",\"SPY\",\"SPY\",\"SPY\",\"SPY\",\"SPY\"],\"shape\":[84],\"dtype\":\"object\",\"order\":\"little\"}],[\"fecha\",{\"type\":\"ndarray\",\"array\":{\"type\":\"bytes\",\"data\":\"AADA1SCLeEIAAMDVIIt4QgAAwNUgi3hCAADA1SCLeEIAAMDVIIt4QgAAgDtzi3hCAACAO3OLeEIAAIA7c4t4QgAAgDtzi3hCAABAocWLeEIAAEChxYt4QgAAQKHFi3hCAABAocWLeEIAAEChxYt4QgAAAAcYjHhCAAAAnmGNeEIAAACeYY14QgAAAJ5hjXhCAADAA7SNeEIAAMADtI14QgAAgGkGjnhCAACAaQaOeEIAAIBpBo54QgAAgGkGjnhCAABAz1iOeEIAAEDPWI54QgAAQM9YjnhCAABAz1iOeEIAAIAAUI94QgAAgABQj3hCAACAAFCPeEIAAEBmoo94QgAAQGaij3hCAABAZqKPeEIAAEBmoo94QgAAQGaij3hCAABAZqKPeEIAAADM9I94QgAAAMz0j3hCAAAAzPSPeEIAAADM9I94QgAAAMz0j3hCAADAMUeQeEIAAMAxR5B4QgAAwDFHkHhCAADAMUeQeEIAAMAxR5B4QgAAgJeZkHhCAACAl5mQeEIAAICXmZB4QgAAgJeZkHhCAADAyJCReEIAAMDIkJF4QgAAwMiQkXhCAABAlDWSeEIAAECUNZJ4QgAAQJQ1knhCAAAA+oeSeEIAAAD6h5J4QgAAAPqHknhCAAAA+oeSeEIAAMBf2pJ4QgAAwF/aknhCAADAX9qSeEIAAMBf2pJ4QgAAAJHRk3hCAAAAkdGTeEIAAACR0ZN4QgAAAJHRk3hCAADA9iOUeEIAAMD2I5R4QgAAwPYjlHhCAADA9iOUeEIAAIBcdpR4QgAAgFx2lHhCAACAXHaUeEIAAIBcdpR4QgAAQMLIlHhCAABAwsiUeEIAAEDCyJR4QgAAQMLIlHhCAABAwsiUeEIAAAAoG5V4QgAAACgblXhC\"},\"shape\":[84],\"dtype\":\"float64\",\"order\":\"little\"}],[\"SMA20\",{\"type\":\"ndarray\",\"array\":{\"type\":\"bytes\",\"data\":\"AAAAAAAA+H8AAAAAAAD4fwAAAAAAAPh/AAAAAAAA+H8AAAAAAAD4fwAAAAAAAPh/AAAAAAAA+H8AAAAAAAD4fwAAAAAAAPh/AAAAAAAA+H8AAAAAAAD4fwAAAAAAAPh/AAAAAAAA+H8zMzPLnGF7QGZmZubLcntAzczMrDZ6e0CamZkxJnp7QDMzM4MAfXtAmpmZ0bdve0BmZmZuKGV7QM3MzISBVXtAzczMNAdLe0CamZnpT0N7QGZmZjY9QXtAZmZmVng/e0CamZnRajl7QJqZmaHiNntAzczM9Bsve0BmZmaGCS57QAAAAEjaJXtAMzMz0yQhe0DNzMwELRx7QM3MzKwLG3tAZmZm5r8ae0AAAADoahp7QDMzM4MkG3tAzczMbEsbe0DNzMyUKB97QM7MzOxhIHtAaGZmLsIhe0A1MzO7WSV7QGhmZp7/KHtAzszMtFkse0DOzMwMkzB7QGhmZpb3NHtAm5mZORtCe0DNzMzcYEZ7QJqZmeG2TXtAzczMnCtae0AAAABozF97QDMzM4unZXtAAAAAEBJ4e0AAAACwrH17QGZmZp4phHtAMzMzS0aKe0DNzMzM25B7QDMzM0MbpHtAAAAAuB2pe0AAAADYI6Z7QJqZmZFto3tAMzMzu8mge0BmZmaWCZp7QM3MzCTElntAmpmZoQOVe0BmZmZuUZR7QGZmZl6liHtAZmZmhlV+e0AAAAC43np7QM3MzEwieXtAMzMzw+B8e0CamZlRIn57QGZmZqapgXtAZmZmthGEe0AAAACA5ol7QAAAAFgJlHtAmpmZCSeZe0AzMzNzN6R7QM3MzOxLs3tAzczMVN26e0CamZnZR8J7QDMzMzstyntAmpmZ4UjSe0AAAAA4l+F7QGZmZtb3BHxA\"},\"shape\":[84],\"dtype\":\"float64\",\"order\":\"little\"}],[\"SMA40\",{\"type\":\"ndarray\",\"array\":{\"type\":\"bytes\",\"data\":\"AAAAAAAA+H8AAAAAAAD4fwAAAAAAAPh/AAAAAAAA+H8AAAAAAAD4fwAAAAAAAPh/AAAAAAAA+H8AAAAAAAD4fwAAAAAAAPh/AAAAAAAA+H8AAAAAAAD4fwAAAAAAAPh/AAAAAAAA+H8AAAAAAAD4fwAAAAAAAPh/AAAAAAAA+H8AAAAAAAD4fwAAAAAAAPh/AAAAAAAA+H/NzMycYmN7QJqZmWFDYntAzczM+CVhe0DNzMyQVGB7QAAAAEijXntAmpmZgddce0BmZmaqNVt7QM3MzFh9WntAAAAAVKdTe0AAAACs4FB7QDMzM1uBRXtAZmZmKmg9e0AzMzO7FTZ7QM3MzHAJM3tAMzMzG3swe0DNzMxo3S57QM3MzNCuLXtAmpmZUUQue0CamZnJsy17QDMzM1/mLHtAAAAAaFIse0AzMzMDFyt7QGZmZpKEK3tAmpmZfdYre0BmZmaK2Cx7QDMzM+9oLXtAzczMEPcve0DNzMzwRjF7QDMzM0dhNHtAZmZmQks6e0CamZl1eD17QAAAAHx5QHtAZmZm/jlMe0AzMzNvt097QDMzM6+sU3tAMzMzA9BXe0DNzMzs9lt7QM3MzGyJbHtAZmZmSr93e0DNzMxc7Xl7QDMzM4vKe3tAAAAArHp9e0DNzMyQ2H97QDMzM7tbgXtAzczMAJKDe0AzMzO/MYZ7QJqZmZXAjHtAmpmZ4feOe0CamZn9fI97QDMzM/f7kHtAmpmZPf+Se0DNzMwUI5J7QM3MzHCvj3tAZmZmpg2Pe0BmZmZSVZB7QGZmZqZ4k3tAAAAAWJaUe0DNzMxobpZ7QDMzM1dAmntAmpmZbZmce0DNzMxIk557QAAAABzhoHtAMzMzl7Wle0CamZn9O697QDMzMytvx3tA\"},\"shape\":[84],\"dtype\":\"float64\",\"order\":\"little\"}],[\"SMA100\",{\"type\":\"ndarray\",\"array\":{\"type\":\"bytes\",\"data\":\"AAAAAAAA+H8AAAAAAAD4fwAAAAAAAPh/AAAAAAAA+H8AAAAAAAD4fwAAAAAAAPh/AAAAAAAA+H8AAAAAAAD4fwAAAAAAAPh/AAAAAAAA+H8AAAAAAAD4fwAAAAAAAPh/AAAAAAAA+H8AAAAAAAD4fwAAAAAAAPh/AAAAAAAA+H8AAAAAAAD4fwAAAAAAAPh/AAAAAAAA+H8AAAAAAAD4fwAAAAAAAPh/AAAAAAAA+H8AAAAAAAD4fwAAAAAAAPh/AAAAAAAA+H8AAAAAAAD4fwAAAAAAAPh/AAAAAAAA+H8AAAAAAAD4fwAAAAAAAPh/AAAAAAAA+H8AAAAAAAD4fwAAAAAAAPh/AAAAAAAA+H8AAAAAAAD4fwAAAAAAAPh/AAAAAAAA+H8AAAAAAAD4fwAAAAAAAPh/AAAAAAAA+H8AAAAAAAD4fwAAAAAAAPh/AAAAAAAA+H8AAAAAAAD4fwAAAAAAAPh/AAAAAAAA+H8AAAAAAAD4fwAAAAAAAPh/AAAAAAAA+H8AAAAAAAD4fwAAAAAAAPh/AAAAAAAA+H8AAAAAAAD4fwAAAAAAAPh/AAAAAAAA+H8AAAAAAAD4f9ejcEW9WntAUrge/X1ce0CamZkRCl17QPYoXE+DXXtAhetR4AFee0CuR+HSc157QDMzM1u8XntAFK5HwVZfe0CamZlZo2B7QDMzM5OTYXtAexSuD2Rge0DNzMx0yl97QOxRuJbHXntAFK5HKYJee0Bcj8KVaV57QHE9Ci/oXntACtejGA9ge0DXo3CF32F7QI/C9SjaZXtAhetROFRne0AzMzNTYWp7QGZmZn5XbntAKVyPon9we0BxPQpXanJ7QArXo8iFdHtAhetREOd2e0D2KFy3oHt7QD0K12tfiXtA\"},\"shape\":[84],\"dtype\":\"float64\",\"order\":\"little\"}],[\"SMA200\",{\"type\":\"ndarray\",\"array\":{\"type\":\"bytes\",\"data\":\"AAAAAAAA+H8AAAAAAAD4fwAAAAAAAPh/AAAAAAAA+H8AAAAAAAD4fwAAAAAAAPh/AAAAAAAA+H8AAAAAAAD4fwAAAAAAAPh/AAAAAAAA+H8AAAAAAAD4fwAAAAAAAPh/AAAAAAAA+H8AAAAAAAD4fwAAAAAAAPh/AAAAAAAA+H8AAAAAAAD4fwAAAAAAAPh/AAAAAAAA+H8AAAAAAAD4fwAAAAAAAPh/AAAAAAAA+H8AAAAAAAD4fwAAAAAAAPh/AAAAAAAA+H8AAAAAAAD4fwAAAAAAAPh/AAAAAAAA+H8AAAAAAAD4fwAAAAAAAPh/AAAAAAAA+H8AAAAAAAD4fwAAAAAAAPh/AAAAAAAA+H8AAAAAAAD4fwAAAAAAAPh/AAAAAAAA+H8AAAAAAAD4fwAAAAAAAPh/AAAAAAAA+H8AAAAAAAD4fwAAAAAAAPh/AAAAAAAA+H8AAAAAAAD4fwAAAAAAAPh/AAAAAAAA+H8AAAAAAAD4fwAAAAAAAPh/AAAAAAAA+H8AAAAAAAD4fwAAAAAAAPh/AAAAAAAA+H8AAAAAAAD4fwAAAAAAAPh/AAAAAAAA+H8AAAAAAAD4fwAAAAAAAPh/AAAAAAAA+H8AAAAAAAD4fwAAAAAAAPh/AAAAAAAA+H8AAAAAAAD4fwAAAAAAAPh/AAAAAAAA+H8AAAAAAAD4fwAAAAAAAPh/AAAAAAAA+H8AAAAAAAD4fwAAAAAAAPh/AAAAAAAA+H8AAAAAAAD4fwAAAAAAAPh/AAAAAAAA+H8AAAAAAAD4fwAAAAAAAPh/AAAAAAAA+H8AAAAAAAD4fwAAAAAAAPh/AAAAAAAA+H8AAAAAAAD4fwAAAAAAAPh/AAAAAAAA+H8AAAAAAAD4fwAAAAAAAPh/\"},\"shape\":[84],\"dtype\":\"float64\",\"order\":\"little\"}],[\"pivotHigh\",{\"type\":\"ndarray\",\"array\":{\"type\":\"bytes\",\"data\":\"AAAAAAAA+H8AAAAAAAD4fwAAAAAAAPh/AAAAAAAA+H8AAAAAAAD4fwAAAAAAAPh/AAAAAAAA+H8AAAAAAAD4fwAAAAAAAPh/AAAAAAAA+H8AAAAAAAD4fwAAAAAAAPh/AAAAAAAA+H+8dJN4ar57QAAAAAAAAPh/AAAAAAAA+H8AAAAAAAD4fwAAAAAAAPh/AAAAAAAA+H8AAAAAAAD4fwAAAAAAAPh/AAAAAAAA+H8AAAAAAAD4fwAAAAAAAPh/AAAAAAAA+H8AAAAAAAD4fwAAAAAAAPh/AAAAAAAA+H8AAAAAAAD4fwAAAAAAAPh/AAAAAAAA+H8AAAAAAAD4fwAAAAAAAPh/AAAAAAAA+H8AAAAAAAD4fwAAAAAAAPh/AAAAAAAA+H8AAAAAAAD4fwAAAAAAAPh/AAAAAAAA+H8AAAAAAAD4fwAAAAAAAPh/AAAAAAAA+H8AAAAAAAD4fwAAAAAAAPh/AAAAAAAA+H8AAAAAAAD4fwAAAAAAAPh/AAAAAAAA+H8AAAAAAAD4f7x0k5gYwntAAAAAAAAA+H8AAAAAAAD4fwAAAAAAAPh/AAAAAAAA+H8AAAAAAAD4fwAAAAAAAPh/AAAAAAAA+H8AAAAAAAD4fwAAAAAAAPh/AAAAAAAA+H8AAAAAAAD4fwAAAAAAAPh/AAAAAAAA+H8AAAAAAAD4fwAAAAAAAPh/AAAAAAAA+H8AAAAAAAD4fwAAAAAAAPh/AAAAAAAA+H8AAAAAAAD4fwAAAAAAAPh/AAAAAAAA+H8AAAAAAAD4fwAAAAAAAPh/AAAAAAAA+H8AAAAAAAD4fwAAAAAAAPh/AAAAAAAA+H8AAAAAAAD4fwAAAAAAAPh/AAAAAAAA+H8AAAAAAAD4fwAAAAAAAPh/\"},\"shape\":[84],\"dtype\":\"float64\",\"order\":\"little\"}],[\"pivotLow\",{\"type\":\"ndarray\",\"array\":{\"type\":\"bytes\",\"data\":\"AAAAAAAA+H8AAAAAAAD4fwAAAAAAAPh/AAAAAAAA+H8AAAAAAAD4fwAAAAAAAPh/AAAAAAAA+H8AAAAAAAD4fwAAAAAAAPh/AAAAAAAA+H8AAAAAAAD4fwAAAAAAAPh/AAAAAAAA+H8AAAAAAAD4fwAAAAAAAPh/AAAAAAAA+H8AAAAAAAD4fwAAAAAAAPh/AAAAAAAA+H8AAAAAAAD4fwAAAAAAAPh/AAAAAAAA+H8AAAAAAAD4fwAAAAAAAPh/AAAAAAAA+H8AAAAAAAD4fwAAAAAAAPh/AAAAAAAA+H8AAAAAAAD4fwAAAAAAAPh/AAAAAAAA+H8AAAAAAAD4fwAAAAAAAPh/AAAAAAAA+H8AAAAAAAD4fwAAAAAAAPh/AAAAAAAA+H8AAAAAAAD4fwAAAAAAAPh/AAAAAAAA+H8AAAAAAAD4fwAAAAAAAPh/AAAAAAAA+H8AAAAAAAD4fwAAAAAAAPh/AAAAAAAA+H8AAAAAAAD4fwAAAAAAAPh/AAAAAAAA+H8AAAAAAAD4fwAAAAAAAPh/AAAAAAAA+H8AAAAAAAD4fwAAAAAAAPh/AAAAAAAA+H8AAAAAAAD4fwAAAAAAAPh/AAAAAAAA+H8AAAAAAAD4fwAAAAAAAPh/AAAAAAAA+H8AAAAAAAD4fwAAAAAAAPh/AAAAAAAA+H8AAAAAAAD4fwAAAAAAAPh/AAAAAAAA+H8AAAAAAAD4fwAAAAAAAPh/AAAAAAAA+H8AAAAAAAD4fwAAAAAAAPh/AAAAAAAA+H8AAAAAAAD4fwAAAAAAAPh/AAAAAAAA+H8AAAAAAAD4fwAAAAAAAPh/AAAAAAAA+H8AAAAAAAD4fwAAAAAAAPh/AAAAAAAA+H8AAAAAAAD4fwAAAAAAAPh/\"},\"shape\":[84],\"dtype\":\"float64\",\"order\":\"little\"}],[\"isPivot\",{\"type\":\"ndarray\",\"array\":{\"type\":\"bytes\",\"data\":\"AAAAAAAA+H8AAAAAAAD4fwAAAAAAAPh/AAAAAAAA+H8AAAAAAAD4fwAAAAAAAPh/AAAAAAAA+H8AAAAAAAD4fwAAAAAAAPh/AAAAAAAA+H8AAAAAAAD4fwAAAAAAAPh/AAAAAAAA+H8AAAAAAADwPwAAAAAAAPh/AAAAAAAA+H8AAAAAAAD4fwAAAAAAAPh/AAAAAAAA+H8AAAAAAAD4fwAAAAAAAPh/AAAAAAAA+H8AAAAAAAD4fwAAAAAAAPh/AAAAAAAA+H8AAAAAAAD4fwAAAAAAAPh/AAAAAAAA+H8AAAAAAAD4fwAAAAAAAPh/AAAAAAAA+H8AAAAAAAD4fwAAAAAAAPh/AAAAAAAA+H8AAAAAAAD4fwAAAAAAAPh/AAAAAAAA+H8AAAAAAAD4fwAAAAAAAPh/AAAAAAAA+H8AAAAAAAD4fwAAAAAAAPh/AAAAAAAA+H8AAAAAAAD4fwAAAAAAAPh/AAAAAAAA+H8AAAAAAAD4fwAAAAAAAPh/AAAAAAAA+H8AAAAAAAD4fwAAAAAAAPA/AAAAAAAA+H8AAAAAAAD4fwAAAAAAAPh/AAAAAAAA+H8AAAAAAAD4fwAAAAAAAPh/AAAAAAAA+H8AAAAAAAD4fwAAAAAAAPh/AAAAAAAA+H8AAAAAAAD4fwAAAAAAAPh/AAAAAAAA+H8AAAAAAAD4fwAAAAAAAPh/AAAAAAAA+H8AAAAAAAD4fwAAAAAAAPh/AAAAAAAA+H8AAAAAAAD4fwAAAAAAAPh/AAAAAAAA+H8AAAAAAAD4fwAAAAAAAPh/AAAAAAAA+H8AAAAAAAD4fwAAAAAAAPh/AAAAAAAA+H8AAAAAAAD4fwAAAAAAAPh/AAAAAAAA+H8AAAAAAAD4fwAAAAAAAPh/\"},\"shape\":[84],\"dtype\":\"float64\",\"order\":\"little\"}]]}}},\"view\":{\"type\":\"object\",\"name\":\"CDSView\",\"id\":\"p1242\",\"attributes\":{\"filter\":{\"type\":\"object\",\"name\":\"AllIndices\",\"id\":\"p1243\"}}},\"glyph\":{\"type\":\"object\",\"name\":\"VBar\",\"id\":\"p1238\",\"attributes\":{\"x\":{\"type\":\"field\",\"field\":\"index\"},\"width\":{\"type\":\"value\",\"value\":0.6},\"bottom\":{\"type\":\"field\",\"field\":\"Open\"},\"top\":{\"type\":\"field\",\"field\":\"Close\"},\"line_color\":{\"type\":\"value\",\"value\":\"green\"},\"fill_color\":{\"type\":\"value\",\"value\":\"green\"}}},\"nonselection_glyph\":{\"type\":\"object\",\"name\":\"VBar\",\"id\":\"p1239\",\"attributes\":{\"x\":{\"type\":\"field\",\"field\":\"index\"},\"width\":{\"type\":\"value\",\"value\":0.6},\"bottom\":{\"type\":\"field\",\"field\":\"Open\"},\"top\":{\"type\":\"field\",\"field\":\"Close\"},\"line_color\":{\"type\":\"value\",\"value\":\"green\"},\"line_alpha\":{\"type\":\"value\",\"value\":0.1},\"fill_color\":{\"type\":\"value\",\"value\":\"green\"},\"fill_alpha\":{\"type\":\"value\",\"value\":0.1},\"hatch_alpha\":{\"type\":\"value\",\"value\":0.1}}},\"muted_glyph\":{\"type\":\"object\",\"name\":\"VBar\",\"id\":\"p1240\",\"attributes\":{\"x\":{\"type\":\"field\",\"field\":\"index\"},\"width\":{\"type\":\"value\",\"value\":0.6},\"bottom\":{\"type\":\"field\",\"field\":\"Open\"},\"top\":{\"type\":\"field\",\"field\":\"Close\"},\"line_color\":{\"type\":\"value\",\"value\":\"green\"},\"line_alpha\":{\"type\":\"value\",\"value\":0.2},\"fill_color\":{\"type\":\"value\",\"value\":\"green\"},\"fill_alpha\":{\"type\":\"value\",\"value\":0.2},\"hatch_alpha\":{\"type\":\"value\",\"value\":0.2}}}}},{\"type\":\"object\",\"name\":\"GlyphRenderer\",\"id\":\"p1253\",\"attributes\":{\"data_source\":{\"type\":\"object\",\"name\":\"ColumnDataSource\",\"id\":\"p1244\",\"attributes\":{\"selected\":{\"type\":\"object\",\"name\":\"Selection\",\"id\":\"p1245\",\"attributes\":{\"indices\":[],\"line_indices\":[]}},\"selection_policy\":{\"type\":\"object\",\"name\":\"UnionRenderers\",\"id\":\"p1246\"},\"data\":{\"type\":\"map\",\"entries\":[[\"index\",{\"type\":\"ndarray\",\"array\":{\"type\":\"bytes\",\"data\":\"EwAAAFgAAAA=\"},\"shape\":[2],\"dtype\":\"int32\",\"order\":\"little\"}],[\"Close\",{\"type\":\"ndarray\",\"array\":{\"type\":\"bytes\",\"data\":\"AAAAgD2ye0AAAADA9cB7QA==\"},\"shape\":[2],\"dtype\":\"float64\",\"order\":\"little\"}],[\"High\",{\"type\":\"ndarray\",\"array\":{\"type\":\"bytes\",\"data\":\"AAAAYGa+e0AAAACAFMJ7QA==\"},\"shape\":[2],\"dtype\":\"float64\",\"order\":\"little\"}],[\"Low\",{\"type\":\"ndarray\",\"array\":{\"type\":\"bytes\",\"data\":\"AAAAoJmde0ABAADAHrd7QA==\"},\"shape\":[2],\"dtype\":\"float64\",\"order\":\"little\"}],[\"Open\",{\"type\":\"ndarray\",\"array\":{\"type\":\"bytes\",\"data\":\"AAAAoL2de0AAAADgerh7QA==\"},\"shape\":[2],\"dtype\":\"float64\",\"order\":\"little\"}],[\"Volume\",{\"type\":\"ndarray\",\"array\":{\"type\":\"bytes\",\"data\":\"/tgUAQ/KdQA=\"},\"shape\":[2],\"dtype\":\"int32\",\"order\":\"little\"}],[\"datetime\",{\"type\":\"ndarray\",\"array\":{\"type\":\"bytes\",\"data\":\"AAAEJQWMeEIAAFys1ZB4Qg==\"},\"shape\":[2],\"dtype\":\"float64\",\"order\":\"little\"}],[\"companyName\",{\"type\":\"ndarray\",\"array\":[\"SPY\",\"SPY\"],\"shape\":[2],\"dtype\":\"object\",\"order\":\"little\"}],[\"fecha\",{\"type\":\"ndarray\",\"array\":{\"type\":\"bytes\",\"data\":\"AABAocWLeEIAAICXmZB4Qg==\"},\"shape\":[2],\"dtype\":\"float64\",\"order\":\"little\"}],[\"SMA20\",{\"type\":\"ndarray\",\"array\":{\"type\":\"bytes\",\"data\":\"MzMzy5xhe0AzMzOLp2V7QA==\"},\"shape\":[2],\"dtype\":\"float64\",\"order\":\"little\"}],[\"SMA40\",{\"type\":\"ndarray\",\"array\":{\"type\":\"bytes\",\"data\":\"AAAAAAAA+H8AAAB8eUB7QA==\"},\"shape\":[2],\"dtype\":\"float64\",\"order\":\"little\"}],[\"SMA100\",{\"type\":\"ndarray\",\"array\":{\"type\":\"bytes\",\"data\":\"AAAAAAAA+H8AAAAAAAD4fw==\"},\"shape\":[2],\"dtype\":\"float64\",\"order\":\"little\"}],[\"SMA200\",{\"type\":\"ndarray\",\"array\":{\"type\":\"bytes\",\"data\":\"AAAAAAAA+H8AAAAAAAD4fw==\"},\"shape\":[2],\"dtype\":\"float64\",\"order\":\"little\"}],[\"pivotHigh\",{\"type\":\"ndarray\",\"array\":{\"type\":\"bytes\",\"data\":\"vHSTeGq+e0C8dJOYGMJ7QA==\"},\"shape\":[2],\"dtype\":\"float64\",\"order\":\"little\"}],[\"pivotLow\",{\"type\":\"ndarray\",\"array\":{\"type\":\"bytes\",\"data\":\"AAAAAAAA+H8AAAAAAAD4fw==\"},\"shape\":[2],\"dtype\":\"float64\",\"order\":\"little\"}],[\"isPivot\",{\"type\":\"ndarray\",\"array\":{\"type\":\"bytes\",\"data\":\"AAAAAAAA8D8AAAAAAADwPw==\"},\"shape\":[2],\"dtype\":\"float64\",\"order\":\"little\"}]]}}},\"view\":{\"type\":\"object\",\"name\":\"CDSView\",\"id\":\"p1254\",\"attributes\":{\"filter\":{\"type\":\"object\",\"name\":\"AllIndices\",\"id\":\"p1255\"}}},\"glyph\":{\"type\":\"object\",\"name\":\"Scatter\",\"id\":\"p1250\",\"attributes\":{\"x\":{\"type\":\"field\",\"field\":\"index\"},\"y\":{\"type\":\"field\",\"field\":\"pivotHigh\"},\"size\":{\"type\":\"value\",\"value\":10},\"line_color\":{\"type\":\"value\",\"value\":\"navy\"},\"line_alpha\":{\"type\":\"value\",\"value\":0.5},\"fill_color\":{\"type\":\"value\",\"value\":\"blue\"},\"fill_alpha\":{\"type\":\"value\",\"value\":0.5},\"hatch_alpha\":{\"type\":\"value\",\"value\":0.5}}},\"nonselection_glyph\":{\"type\":\"object\",\"name\":\"Scatter\",\"id\":\"p1251\",\"attributes\":{\"x\":{\"type\":\"field\",\"field\":\"index\"},\"y\":{\"type\":\"field\",\"field\":\"pivotHigh\"},\"size\":{\"type\":\"value\",\"value\":10},\"line_color\":{\"type\":\"value\",\"value\":\"navy\"},\"line_alpha\":{\"type\":\"value\",\"value\":0.1},\"fill_color\":{\"type\":\"value\",\"value\":\"blue\"},\"fill_alpha\":{\"type\":\"value\",\"value\":0.1},\"hatch_alpha\":{\"type\":\"value\",\"value\":0.1}}},\"muted_glyph\":{\"type\":\"object\",\"name\":\"Scatter\",\"id\":\"p1252\",\"attributes\":{\"x\":{\"type\":\"field\",\"field\":\"index\"},\"y\":{\"type\":\"field\",\"field\":\"pivotHigh\"},\"size\":{\"type\":\"value\",\"value\":10},\"line_color\":{\"type\":\"value\",\"value\":\"navy\"},\"line_alpha\":{\"type\":\"value\",\"value\":0.2},\"fill_color\":{\"type\":\"value\",\"value\":\"blue\"},\"fill_alpha\":{\"type\":\"value\",\"value\":0.2},\"hatch_alpha\":{\"type\":\"value\",\"value\":0.2}}}}},{\"type\":\"object\",\"name\":\"GlyphRenderer\",\"id\":\"p1267\",\"attributes\":{\"data_source\":{\"type\":\"object\",\"name\":\"ColumnDataSource\",\"id\":\"p1258\",\"attributes\":{\"selected\":{\"type\":\"object\",\"name\":\"Selection\",\"id\":\"p1259\",\"attributes\":{\"indices\":[],\"line_indices\":[]}},\"selection_policy\":{\"type\":\"object\",\"name\":\"UnionRenderers\",\"id\":\"p1260\"},\"data\":{\"type\":\"map\",\"entries\":[[\"index\",{\"type\":\"ndarray\",\"array\":{\"type\":\"bytes\",\"data\":\"CwAAAD4AAABmAAAA\"},\"shape\":[3],\"dtype\":\"int32\",\"order\":\"little\"}],[\"Close\",{\"type\":\"ndarray\",\"array\":{\"type\":\"bytes\",\"data\":\"AAAAANcne0ABAABA4fZ6QAAAAKCZVXtA\"},\"shape\":[3],\"dtype\":\"float64\",\"order\":\"little\"}],[\"High\",{\"type\":\"ndarray\",\"array\":{\"type\":\"bytes\",\"data\":\"AAAAAClYe0AAAACgmQ17QAAAAKCZXXtA\"},\"shape\":[3],\"dtype\":\"float64\",\"order\":\"little\"}],[\"Low\",{\"type\":\"ndarray\",\"array\":{\"type\":\"bytes\",\"data\":\"AAAAoHAZe0ABAABACvN6QAAAAMD1UHtA\"},\"shape\":[3],\"dtype\":\"float64\",\"order\":\"little\"}],[\"Open\",{\"type\":\"ndarray\",\"array\":{\"type\":\"bytes\",\"data\":\"AAAA4KNUe0AAAACAPQp7QAAAACCuW3tA\"},\"shape\":[3],\"dtype\":\"float64\",\"order\":\"little\"}],[\"Volume\",{\"type\":\"ndarray\",\"array\":{\"type\":\"bytes\",\"data\":\"+JofAbTMAQGVCJQA\"},\"shape\":[3],\"dtype\":\"int32\",\"order\":\"little\"}],[\"datetime\",{\"type\":\"ndarray\",\"array\":{\"type\":\"bytes\",\"data\":\"AABcUK+LeEIAACzzko94QgAAJMK5knhC\"},\"shape\":[3],\"dtype\":\"float64\",\"order\":\"little\"}],[\"companyName\",{\"type\":\"ndarray\",\"array\":[\"SPY\",\"SPY\",\"SPY\"],\"shape\":[3],\"dtype\":\"object\",\"order\":\"little\"}],[\"fecha\",{\"type\":\"ndarray\",\"array\":{\"type\":\"bytes\",\"data\":\"AACAO3OLeEIAAIAAUI94QgAAAPqHknhC\"},\"shape\":[3],\"dtype\":\"float64\",\"order\":\"little\"}],[\"SMA20\",{\"type\":\"ndarray\",\"array\":{\"type\":\"bytes\",\"data\":\"AAAAAAAA+H8AAADo0h17QJqZmYGUqHtA\"},\"shape\":[3],\"dtype\":\"float64\",\"order\":\"little\"}],[\"SMA40\",{\"type\":\"ndarray\",\"array\":{\"type\":\"bytes\",\"data\":\"AAAAAAAA+H9mZmY2qjl7QJqZmd1XdXtA\"},\"shape\":[3],\"dtype\":\"float64\",\"order\":\"little\"}],[\"SMA100\",{\"type\":\"ndarray\",\"array\":{\"type\":\"bytes\",\"data\":\"AAAAAAAA+H8AAAAAAAD4f0jhehQ1XHtA\"},\"shape\":[3],\"dtype\":\"float64\",\"order\":\"little\"}],[\"SMA200\",{\"type\":\"ndarray\",\"array\":{\"type\":\"bytes\",\"data\":\"AAAAAAAA+H8AAAAAAAD4fwAAAAAAAPh/\"},\"shape\":[3],\"dtype\":\"float64\",\"order\":\"little\"}],[\"pivotHigh\",{\"type\":\"ndarray\",\"array\":{\"type\":\"bytes\",\"data\":\"AAAAAAAA+H8AAAAAAAD4fwAAAAAAAPh/\"},\"shape\":[3],\"dtype\":\"float64\",\"order\":\"little\"}],[\"pivotLow\",{\"type\":\"ndarray\",\"array\":{\"type\":\"bytes\",\"data\":\"RItsh2wZe0BFi2wnBvN6QESLbKfxUHtA\"},\"shape\":[3],\"dtype\":\"float64\",\"order\":\"little\"}],[\"isPivot\",{\"type\":\"ndarray\",\"array\":{\"type\":\"bytes\",\"data\":\"AAAAAAAAAEAAAAAAAAAAQAAAAAAAAABA\"},\"shape\":[3],\"dtype\":\"float64\",\"order\":\"little\"}]]}}},\"view\":{\"type\":\"object\",\"name\":\"CDSView\",\"id\":\"p1268\",\"attributes\":{\"filter\":{\"type\":\"object\",\"name\":\"AllIndices\",\"id\":\"p1269\"}}},\"glyph\":{\"type\":\"object\",\"name\":\"Scatter\",\"id\":\"p1264\",\"attributes\":{\"x\":{\"type\":\"field\",\"field\":\"index\"},\"y\":{\"type\":\"field\",\"field\":\"pivotLow\"},\"size\":{\"type\":\"value\",\"value\":10},\"line_color\":{\"type\":\"value\",\"value\":\"navy\"},\"line_alpha\":{\"type\":\"value\",\"value\":0.5},\"fill_color\":{\"type\":\"value\",\"value\":\"green\"},\"fill_alpha\":{\"type\":\"value\",\"value\":0.5},\"hatch_alpha\":{\"type\":\"value\",\"value\":0.5}}},\"nonselection_glyph\":{\"type\":\"object\",\"name\":\"Scatter\",\"id\":\"p1265\",\"attributes\":{\"x\":{\"type\":\"field\",\"field\":\"index\"},\"y\":{\"type\":\"field\",\"field\":\"pivotLow\"},\"size\":{\"type\":\"value\",\"value\":10},\"line_color\":{\"type\":\"value\",\"value\":\"navy\"},\"line_alpha\":{\"type\":\"value\",\"value\":0.1},\"fill_color\":{\"type\":\"value\",\"value\":\"green\"},\"fill_alpha\":{\"type\":\"value\",\"value\":0.1},\"hatch_alpha\":{\"type\":\"value\",\"value\":0.1}}},\"muted_glyph\":{\"type\":\"object\",\"name\":\"Scatter\",\"id\":\"p1266\",\"attributes\":{\"x\":{\"type\":\"field\",\"field\":\"index\"},\"y\":{\"type\":\"field\",\"field\":\"pivotLow\"},\"size\":{\"type\":\"value\",\"value\":10},\"line_color\":{\"type\":\"value\",\"value\":\"navy\"},\"line_alpha\":{\"type\":\"value\",\"value\":0.2},\"fill_color\":{\"type\":\"value\",\"value\":\"green\"},\"fill_alpha\":{\"type\":\"value\",\"value\":0.2},\"hatch_alpha\":{\"type\":\"value\",\"value\":0.2}}}}}],\"toolbar\":{\"type\":\"object\",\"name\":\"Toolbar\",\"id\":\"p1181\",\"attributes\":{\"tools\":[{\"type\":\"object\",\"name\":\"PanTool\",\"id\":\"p1194\"},{\"type\":\"object\",\"name\":\"WheelZoomTool\",\"id\":\"p1195\",\"attributes\":{\"renderers\":\"auto\"}},{\"type\":\"object\",\"name\":\"BoxZoomTool\",\"id\":\"p1196\",\"attributes\":{\"dimensions\":\"both\",\"overlay\":{\"type\":\"object\",\"name\":\"BoxAnnotation\",\"id\":\"p1197\",\"attributes\":{\"syncable\":false,\"line_color\":\"black\",\"line_alpha\":1.0,\"line_width\":2,\"line_dash\":[4,4],\"fill_color\":\"lightgrey\",\"fill_alpha\":0.5,\"level\":\"overlay\",\"visible\":false,\"left\":{\"type\":\"number\",\"value\":\"nan\"},\"right\":{\"type\":\"number\",\"value\":\"nan\"},\"top\":{\"type\":\"number\",\"value\":\"nan\"},\"bottom\":{\"type\":\"number\",\"value\":\"nan\"},\"left_units\":\"canvas\",\"right_units\":\"canvas\",\"top_units\":\"canvas\",\"bottom_units\":\"canvas\",\"handles\":{\"type\":\"object\",\"name\":\"BoxInteractionHandles\",\"id\":\"p1203\",\"attributes\":{\"all\":{\"type\":\"object\",\"name\":\"AreaVisuals\",\"id\":\"p1202\",\"attributes\":{\"fill_color\":\"white\",\"hover_fill_color\":\"lightgray\"}}}}}}}},{\"type\":\"object\",\"name\":\"SaveTool\",\"id\":\"p1204\"},{\"type\":\"object\",\"name\":\"ResetTool\",\"id\":\"p1205\"},{\"type\":\"object\",\"name\":\"HelpTool\",\"id\":\"p1206\"},{\"type\":\"object\",\"name\":\"HoverTool\",\"id\":\"p1207\",\"attributes\":{\"renderers\":\"auto\",\"tooltips\":[[\"Index\",\"@index\"],[\"Open\",\"@Open\"],[\"High\",\"@High\"],[\"Low\",\"@Low\"],[\"Close\",\"@Close\"]]}}]}},\"left\":[{\"type\":\"object\",\"name\":\"LinearAxis\",\"id\":\"p1189\",\"attributes\":{\"ticker\":{\"type\":\"object\",\"name\":\"BasicTicker\",\"id\":\"p1190\",\"attributes\":{\"mantissas\":[1,2,5]}},\"formatter\":{\"type\":\"object\",\"name\":\"BasicTickFormatter\",\"id\":\"p1191\"},\"major_label_policy\":{\"type\":\"object\",\"name\":\"AllLabels\",\"id\":\"p1192\"}}}],\"below\":[{\"type\":\"object\",\"name\":\"LinearAxis\",\"id\":\"p1184\",\"attributes\":{\"ticker\":{\"type\":\"object\",\"name\":\"BasicTicker\",\"id\":\"p1185\",\"attributes\":{\"mantissas\":[1,2,5]}},\"formatter\":{\"type\":\"object\",\"name\":\"BasicTickFormatter\",\"id\":\"p1186\"},\"major_label_orientation\":0.8,\"major_label_policy\":{\"type\":\"object\",\"name\":\"AllLabels\",\"id\":\"p1187\"},\"axis_line_width\":2}}],\"center\":[{\"type\":\"object\",\"name\":\"Grid\",\"id\":\"p1188\",\"attributes\":{\"axis\":{\"id\":\"p1184\"}}},{\"type\":\"object\",\"name\":\"Grid\",\"id\":\"p1193\",\"attributes\":{\"dimension\":1,\"axis\":{\"id\":\"p1189\"}}},{\"type\":\"object\",\"name\":\"Legend\",\"id\":\"p1256\",\"attributes\":{\"items\":[{\"type\":\"object\",\"name\":\"LegendItem\",\"id\":\"p1257\",\"attributes\":{\"label\":{\"type\":\"value\",\"value\":\"Cambio Tendencia Bajista\"},\"renderers\":[{\"id\":\"p1253\"}]}},{\"type\":\"object\",\"name\":\"LegendItem\",\"id\":\"p1270\",\"attributes\":{\"label\":{\"type\":\"value\",\"value\":\"Cambio Tendencia Alcista\"},\"renderers\":[{\"id\":\"p1267\"}]}}]}}],\"background_fill_color\":\"#efefef\"}}]}};\n",
       "  const render_items = [{\"docid\":\"97094464-1c1f-407d-8c06-757105b45c65\",\"roots\":{\"p1172\":\"ae33af8b-c518-420a-8379-ed740101c49d\"},\"root_ids\":[\"p1172\"]}];\n",
       "  void root.Bokeh.embed.embed_items_notebook(docs_json, render_items);\n",
       "  }\n",
       "  if (root.Bokeh !== undefined) {\n",
       "    embed_document(root);\n",
       "  } else {\n",
       "    let attempts = 0;\n",
       "    const timer = setInterval(function(root) {\n",
       "      if (root.Bokeh !== undefined) {\n",
       "        clearInterval(timer);\n",
       "        embed_document(root);\n",
       "      } else {\n",
       "        attempts++;\n",
       "        if (attempts > 100) {\n",
       "          clearInterval(timer);\n",
       "          console.log(\"Bokeh: ERROR: Unable to run BokehJS code because BokehJS library is missing\");\n",
       "        }\n",
       "      }\n",
       "    }, 10, root)\n",
       "  }\n",
       "})(window);"
      ],
      "application/vnd.bokehjs_exec.v0+json": ""
     },
     "metadata": {
      "application/vnd.bokehjs_exec.v0+json": {
       "id": "p1172"
      }
     },
     "output_type": "display_data"
    }
   ],
   "source": [
    "#CODIGO DE REVISION HORA\n",
    "dfpl = df_hora.iloc[0:150]\n",
    "\n",
    "p = figure(width=2500, height=500,\n",
    "        title=\"HORA\",\n",
    "        background_fill_color=\"#efefef\",\n",
    "        tooltips=[(\"Index\", \"@index\"), (\"Open\", \"@Open\"), (\"High\",\"@High\"), (\"Low\",\"@Low\"), (\"Close\",\"@Close\")]\n",
    "        )\n",
    "p.xaxis.major_label_orientation = 0.8 # radians\n",
    "p.x_range.range_padding = 0.05\n",
    "p.xaxis.axis_line_width = 2\n",
    "\n",
    "p.segment(\"index\", \"High\", \"index\",\"Low\",  color=\"black\", line_width=1, source=dfpl)\n",
    "\n",
    "inc = dfpl.query(\"Close>Open\")\n",
    "dec = dfpl.query(\"Open>Close\")\n",
    "\n",
    "p.vbar(    \n",
    "    x=\"index\",\n",
    "    width=0.6,\n",
    "    bottom=\"Open\",\n",
    "    top=\"Close\",\n",
    "    fill_color=\"red\",\n",
    "    line_color=\"red\",    \n",
    "    source=dec   \n",
    ")\n",
    "\n",
    "\n",
    "p.vbar(    \n",
    "    x=\"index\",\n",
    "    width=0.6,\n",
    "    bottom=\"Open\",\n",
    "    top=\"Close\",\n",
    "    fill_color=\"green\",\n",
    "    line_color=\"green\", \n",
    "    source=inc   \n",
    ")\n",
    "\n",
    "p.scatter(x=\"index\", y=\"pivotHigh\", marker=\"circle\", size=10,\n",
    "           line_color=\"navy\", fill_color=\"blue\", alpha=0.5, legend_label=\"Cambio Tendencia Bajista\", source=dfpl[(dfpl.isPivot==1)])\n",
    "\n",
    "p.scatter(x=\"index\", y=\"pivotLow\", marker=\"circle\", size=10,\n",
    "           line_color=\"navy\", fill_color=\"green\", alpha=0.5, legend_label=\"Cambio Tendencia Alcista\", source=dfpl[(dfpl.isPivot==2)])\n",
    "\n",
    "show(p)"
   ]
  },
  {
   "cell_type": "code",
   "execution_count": 8,
   "id": "e0161c5f-b811-4bdf-9a52-dcaedf61980e",
   "metadata": {
    "execution": {
     "iopub.execute_input": "2025-06-11T17:42:32.933067Z",
     "iopub.status.busy": "2025-06-11T17:42:32.932632Z",
     "iopub.status.idle": "2025-06-11T17:42:33.280242Z",
     "shell.execute_reply": "2025-06-11T17:42:33.279647Z"
    },
    "papermill": {
     "duration": 0.354839,
     "end_time": "2025-06-11T17:42:33.281272",
     "exception": false,
     "start_time": "2025-06-11T17:42:32.926433",
     "status": "completed"
    },
    "tags": []
   },
   "outputs": [],
   "source": [
    "## cerca a PM100 o PM200 en diario o el PM20 bajo el PM40\n",
    "def zonabarata(df_dia):\n",
    "    if ((df_dia['isPivot']==2) & ((( df_dia['SMA100']-df_dia['Low']<=2 ) | ( df_dia['SMA200']-df_dia['Low']<=2 )) | (df_dia['SMA20']<df_dia['SMA40']) ) ):    \n",
    "        return 1\n",
    "    else:\n",
    "        return 0\n",
    "df_dia['zbarata'] = df_dia.apply(zonabarata, axis=1)"
   ]
  },
  {
   "cell_type": "code",
   "execution_count": 9,
   "id": "91f41893-8197-48b3-8a91-9780afe8a588",
   "metadata": {
    "execution": {
     "iopub.execute_input": "2025-06-11T17:42:33.293439Z",
     "iopub.status.busy": "2025-06-11T17:42:33.293232Z",
     "iopub.status.idle": "2025-06-11T17:42:33.320732Z",
     "shell.execute_reply": "2025-06-11T17:42:33.320203Z"
    },
    "papermill": {
     "duration": 0.034607,
     "end_time": "2025-06-11T17:42:33.321790",
     "exception": false,
     "start_time": "2025-06-11T17:42:33.287183",
     "status": "completed"
    },
    "tags": []
   },
   "outputs": [],
   "source": [
    "df_hora_final = pd.merge(df_hora, df_dia[['fecha','companyName', 'zbarata']], on = ['companyName','fecha'], how='left')"
   ]
  },
  {
   "cell_type": "code",
   "execution_count": 10,
   "id": "517602b2-5dd0-4fff-9b48-18fa351c0bc8",
   "metadata": {
    "execution": {
     "iopub.execute_input": "2025-06-11T17:42:33.334081Z",
     "iopub.status.busy": "2025-06-11T17:42:33.333851Z",
     "iopub.status.idle": "2025-06-11T17:42:34.297621Z",
     "shell.execute_reply": "2025-06-11T17:42:34.297044Z"
    },
    "papermill": {
     "duration": 0.970956,
     "end_time": "2025-06-11T17:42:34.298684",
     "exception": false,
     "start_time": "2025-06-11T17:42:33.327728",
     "status": "completed"
    },
    "tags": []
   },
   "outputs": [],
   "source": [
    "def pga(df_hora_final):\n",
    "    if ((df_hora_final['zbarata']==1) & (df_hora_final['isPivot']==2)):\n",
    "        return 1\n",
    "    else:\n",
    "        return 0\n",
    "df_hora_final['pfuerte'] = df_hora_final.apply(pga, axis=1)"
   ]
  },
  {
   "cell_type": "code",
   "execution_count": 11,
   "id": "91c48d4c-a1a6-4e6e-9624-58cff7dd47cc",
   "metadata": {
    "execution": {
     "iopub.execute_input": "2025-06-11T17:42:34.311042Z",
     "iopub.status.busy": "2025-06-11T17:42:34.310802Z",
     "iopub.status.idle": "2025-06-11T17:42:34.314467Z",
     "shell.execute_reply": "2025-06-11T17:42:34.313997Z"
    },
    "papermill": {
     "duration": 0.010626,
     "end_time": "2025-06-11T17:42:34.315317",
     "exception": false,
     "start_time": "2025-06-11T17:42:34.304691",
     "status": "completed"
    },
    "tags": []
   },
   "outputs": [],
   "source": [
    "#vela verde\n",
    "df_hora_final['Vela_Verde'] = df_hora_final['Close'] > df_hora_final['Open']"
   ]
  },
  {
   "cell_type": "markdown",
   "id": "82b140a2-360e-48c2-96cc-74db7be4ce7b",
   "metadata": {
    "papermill": {
     "duration": 0.005509,
     "end_time": "2025-06-11T17:42:34.326496",
     "exception": false,
     "start_time": "2025-06-11T17:42:34.320987",
     "status": "completed"
    },
    "tags": []
   },
   "source": [
    "### Detect Price Channel"
   ]
  },
  {
   "cell_type": "code",
   "execution_count": 12,
   "id": "3f795429-366f-462c-b9d1-165ce5438e70",
   "metadata": {
    "execution": {
     "iopub.execute_input": "2025-06-11T17:42:34.338525Z",
     "iopub.status.busy": "2025-06-11T17:42:34.338114Z",
     "iopub.status.idle": "2025-06-11T17:42:34.341890Z",
     "shell.execute_reply": "2025-06-11T17:42:34.341438Z"
    },
    "papermill": {
     "duration": 0.010663,
     "end_time": "2025-06-11T17:42:34.342775",
     "exception": false,
     "start_time": "2025-06-11T17:42:34.332112",
     "status": "completed"
    },
    "tags": []
   },
   "outputs": [],
   "source": [
    "def collect_channel(candle, backevalTrend, trendH):\n",
    "\n",
    "    localdf = dfpl.loc[candle-backevalTrend:candle] #tomar en cuenta el backcandles\n",
    "    highs = localdf.loc[localdf.index.isin(trendH)].High.values\n",
    "    idxhighs = localdf.loc[localdf.index.isin(trendH)].High.index\n",
    "    \n",
    "    if len(highs)>=2:\n",
    "        sl_highs, interc_highs, r_value_h, _, _ = stats.linregress(idxhighs,highs)    \n",
    "        return(sl_highs, interc_highs, r_value_h**2)\n",
    "    else:\n",
    "        return(0,0,0)"
   ]
  },
  {
   "cell_type": "code",
   "execution_count": 13,
   "id": "2ee188de-64f6-4d42-9615-b4255e6612f3",
   "metadata": {
    "execution": {
     "iopub.execute_input": "2025-06-11T17:42:34.354799Z",
     "iopub.status.busy": "2025-06-11T17:42:34.354627Z",
     "iopub.status.idle": "2025-06-11T17:42:34.360981Z",
     "shell.execute_reply": "2025-06-11T17:42:34.360514Z"
    },
    "papermill": {
     "duration": 0.013308,
     "end_time": "2025-06-11T17:42:34.361800",
     "exception": false,
     "start_time": "2025-06-11T17:42:34.348492",
     "status": "completed"
    },
    "tags": []
   },
   "outputs": [],
   "source": [
    "def backcandle(candle):\n",
    "    \n",
    "    trendH = []\n",
    "    backeval = 0\n",
    "    val = 0\n",
    "    \n",
    "    dfpl['PM40_PM20'] = dfpl['SMA40']-dfpl['SMA20']\n",
    "    idinicial = dfpl.index[0]\n",
    "    velas = candle - idinicial\n",
    "    \n",
    "    if(dfpl.loc[candle,\"PM40_PM20\"]>0):        \n",
    "        idx_negativo = dfpl.loc[:candle, 'PM40_PM20'][::-1].lt(0).idxmax()\n",
    "        #print(\"hito1\")\n",
    "        if (idx_negativo==candle):\n",
    "            backeval = candle - velas\n",
    "        else:\n",
    "            backeval = idx_negativo - 4\n",
    "    #print(\"hito2\")\n",
    "  \n",
    "    val = candle - backeval\n",
    "    \n",
    "    #print(\"hito3\")\n",
    "    #print(\"idx_negativo:\",idx_negativo)\n",
    "    \n",
    "    if(val>velas):\n",
    "        backeval=candle-velas\n",
    "    #print(\"hito4\")\n",
    "\n",
    "    #print(\"backeval:\",backeval)\n",
    "        \n",
    "    if((dfpl.loc[backeval,\"PM40_PM20\"]>0) & (val<velas)):\n",
    "        idx_negativo = dfpl.loc[:backeval, 'PM40_PM20'][::-1].lt(0).idxmax()\n",
    "        backeval = idx_negativo - 4    \n",
    "    #print(\"hito5\")\n",
    "\n",
    "    if val>velas:\n",
    "        backeval=candle-velas\n",
    "        \n",
    "    #print(\"hito6\")\n",
    "\n",
    "    #ini = candle - backeval\n",
    "    ini = backeval\n",
    "    trendprev=dfpl.loc[ini:candle]\n",
    "    trend = trendprev.reset_index(drop=False)\n",
    "\n",
    "    idxhighs = trend.index.to_numpy().reshape(-1,1) # Convertir X a una matriz 2D\n",
    "    highs = trend.High.values\n",
    "    modelo1 = LinearRegression()\n",
    "    modelo1.fit(idxhighs, highs)\n",
    "    # Obtener la predicción de la línea de regresión\n",
    "    Y_pred = modelo1.predict(idxhighs)\n",
    "    # Calcular la distancia solo de los puntos que están POR ENCIMA de la línea\n",
    "    trend['Distancia'] = trend[\"High\"] - Y_pred  # Diferencia entre el valor real y la predicción\n",
    "    # Filtrar los puntos que están por encima (donde Y > Y_pred, es decir, Distancia > 0)\n",
    "    df_encima = trend[trend['Distancia'] > 0]\n",
    "    puntos_mas_lejanos = df_encima.nlargest(2, 'Distancia')   #2 puntos mas lejanos    \n",
    "    trendH = puntos_mas_lejanos[\"index\"].tolist()\n",
    "    \n",
    "    puntos_mas_lejanos2 = trend.tail(10).nlargest(2, 'Distancia')\n",
    "    trendH2 = puntos_mas_lejanos2[\"index\"].tolist()\n",
    "    \n",
    "    trendH.extend(trendH2)\n",
    "    trendH.append(candle)  #add ultimo candle\n",
    "    #print(trendH)\n",
    "    return trendH, backeval"
   ]
  },
  {
   "cell_type": "markdown",
   "id": "2fd5556c-2df4-4dec-9391-5bd8757ced2c",
   "metadata": {
    "papermill": {
     "duration": 0.005572,
     "end_time": "2025-06-11T17:42:34.373046",
     "exception": false,
     "start_time": "2025-06-11T17:42:34.367474",
     "status": "completed"
    },
    "tags": []
   },
   "source": [
    "### Detect Break Out"
   ]
  },
  {
   "cell_type": "code",
   "execution_count": 14,
   "id": "9768d05b-6e13-4ce1-a46f-ba7009590045",
   "metadata": {
    "execution": {
     "iopub.execute_input": "2025-06-11T17:42:34.385439Z",
     "iopub.status.busy": "2025-06-11T17:42:34.385061Z",
     "iopub.status.idle": "2025-06-11T17:42:34.388575Z",
     "shell.execute_reply": "2025-06-11T17:42:34.388087Z"
    },
    "papermill": {
     "duration": 0.010769,
     "end_time": "2025-06-11T17:42:34.389448",
     "exception": false,
     "start_time": "2025-06-11T17:42:34.378679",
     "status": "completed"
    },
    "tags": []
   },
   "outputs": [],
   "source": [
    "def trendChannel(row,candle, backeval, window, sl_highs, interc_highs):\n",
    "\n",
    "    if (candle-backeval-window)<0:\n",
    "        return np.nan\n",
    "    ini=candle-backeval\n",
    "    fin=candle+window\n",
    "    trendcurrhigh = np.where(np.logical_or((row.index > fin),  (row.index <  ini)), np.nan, (sl_highs*row.index + interc_highs))\n",
    "    return trendcurrhigh"
   ]
  },
  {
   "cell_type": "code",
   "execution_count": 15,
   "id": "247fab76-8866-4388-890f-37f154b4a4e1",
   "metadata": {
    "execution": {
     "iopub.execute_input": "2025-06-11T17:42:34.401638Z",
     "iopub.status.busy": "2025-06-11T17:42:34.401449Z",
     "iopub.status.idle": "2025-06-11T17:42:34.406032Z",
     "shell.execute_reply": "2025-06-11T17:42:34.405541Z"
    },
    "papermill": {
     "duration": 0.011543,
     "end_time": "2025-06-11T17:42:34.406819",
     "exception": false,
     "start_time": "2025-06-11T17:42:34.395276",
     "status": "completed"
    },
    "tags": []
   },
   "outputs": [],
   "source": [
    "def isBreakOut(candleEval,backcandles, window, start, candle):\n",
    "    if (candleEval-backcandles-window)<0:\n",
    "        return 0\n",
    "\n",
    "    if candleEval==start:\n",
    "        prev_idx = candleEval\n",
    "    else:\n",
    "        prev_idx = candleEval-1\n",
    "        \n",
    "    prev_high = dfpl.loc[prev_idx].High\n",
    "    prev_low = dfpl.loc[prev_idx].Low\n",
    "    prev_close = dfpl.loc[prev_idx].Close\n",
    "    \n",
    "    curr_idx = candleEval\n",
    "    curr_high = dfpl.loc[candleEval].High\n",
    "    curr_low = dfpl.loc[candleEval].Low\n",
    "    curr_close = dfpl.loc[candleEval].Close\n",
    "    curr_open = dfpl.loc[candleEval].Open\n",
    "\n",
    "    trend_prevhigh=dfpl.loc[prev_idx].trendcurrhigh\n",
    "\n",
    "    trend_currhigh=dfpl.loc[candleEval].trendcurrhigh\n",
    "    \n",
    "    if ( prev_low < trend_prevhigh and\n",
    "        prev_close > trend_prevhigh and\n",
    "        curr_open > trend_currhigh and\n",
    "        curr_close > trend_currhigh and\n",
    "        candleEval>candle): #and r_sq_h > 0.9\n",
    "        return 2\n",
    "\n",
    "    elif (curr_open > trend_currhigh and\n",
    "        curr_close > trend_currhigh and candleEval>candle):\n",
    "        return 3\n",
    "    \n",
    "    else:\n",
    "        return np.nan"
   ]
  },
  {
   "cell_type": "code",
   "execution_count": 16,
   "id": "4841bb97-442d-480a-b7db-6452ccb51cd9",
   "metadata": {
    "execution": {
     "iopub.execute_input": "2025-06-11T17:42:34.419212Z",
     "iopub.status.busy": "2025-06-11T17:42:34.419019Z",
     "iopub.status.idle": "2025-06-11T17:42:34.422284Z",
     "shell.execute_reply": "2025-06-11T17:42:34.421785Z"
    },
    "papermill": {
     "duration": 0.010358,
     "end_time": "2025-06-11T17:42:34.423122",
     "exception": false,
     "start_time": "2025-06-11T17:42:34.412764",
     "status": "completed"
    },
    "tags": []
   },
   "outputs": [],
   "source": [
    "def breakpointpos(x):\n",
    "    if x['isBreakOutIni'] in (2,3):\n",
    "        return x['Low']+3e-3\n",
    "    elif x['isBreakOutIni']==1:\n",
    "        return x['High']-3e-3\n",
    "    else:\n",
    "        return np.nan"
   ]
  },
  {
   "cell_type": "markdown",
   "id": "e1ba19c4-6693-47aa-8e8c-4c75ae62d2ea",
   "metadata": {
    "papermill": {
     "duration": 0.005641,
     "end_time": "2025-06-11T17:42:34.434522",
     "exception": false,
     "start_time": "2025-06-11T17:42:34.428881",
     "status": "completed"
    },
    "tags": []
   },
   "source": [
    "##### Hallando casos de Ruptura del Canal Bajista"
   ]
  },
  {
   "cell_type": "code",
   "execution_count": 17,
   "id": "65a8236f-8f9d-49f2-b21c-350a7f789c8d",
   "metadata": {
    "execution": {
     "iopub.execute_input": "2025-06-11T17:42:34.446947Z",
     "iopub.status.busy": "2025-06-11T17:42:34.446688Z",
     "iopub.status.idle": "2025-06-11T17:42:34.456440Z",
     "shell.execute_reply": "2025-06-11T17:42:34.455962Z"
    },
    "papermill": {
     "duration": 0.016946,
     "end_time": "2025-06-11T17:42:34.457295",
     "exception": false,
     "start_time": "2025-06-11T17:42:34.440349",
     "status": "completed"
    },
    "tags": []
   },
   "outputs": [],
   "source": [
    "def revisionVelas(dfpl, backeval,window, candle):\n",
    "    #Revision de Velas\n",
    "    #Promedio del volumen de 50 velas antes del posible caso\n",
    "    promVol = dfpl.loc[i-backeval:i][\"Volume\"].mean()\n",
    "    #puede darse cualquiera de estas condiciones: \n",
    "    # - que la vela sea verde, que tenga volumen, este por encima de la linea trend y que tenga cuerpo (cierra por encima de su tercera parte)\n",
    "    # - que la vela sea envolvente, alcista y que este por encima de la linea trend\n",
    "    j=candle+1\n",
    "    k=candle+window\n",
    "    ind_vela=0\n",
    "    \n",
    "    maxindex = dfpl.index[-1]\n",
    "    if (k>maxindex):\n",
    "        k=maxindex\n",
    "    \n",
    "    #Evaluacion de velas ALCISTAS\n",
    "    dfpl[\"cdlengulfing\"] = ta.CDLENGULFING(dfpl['Open'], dfpl['High'], dfpl['Low'], dfpl['Close'])\n",
    "    dfpl[\"cdlhammer\"] = ta.CDLHAMMER(dfpl['Open'], dfpl['High'], dfpl['Low'], dfpl['Close'])\n",
    "    dfpl[\"cdlmorningstar\"] = ta.CDLMORNINGSTAR(dfpl['Open'], dfpl['High'], dfpl['Low'], dfpl['Close'])\n",
    "    dfpl[\"cdlpiercing\"] = ta.CDLPIERCING(dfpl['Open'], dfpl['High'], dfpl['Low'], dfpl['Close'])\n",
    "    dfpl[\"cdlclosingmarubozu\"] = ta.CDLCLOSINGMARUBOZU(dfpl['Open'], dfpl['High'], dfpl['Low'], dfpl['Close'])\n",
    "    dfpl[\"cdlmarubozu\"] = ta.CDLMARUBOZU(dfpl['Open'], dfpl['High'], dfpl['Low'], dfpl['Close'])\n",
    "    dfpl[\"cdl3whitesoldiers\"] = ta.CDL3WHITESOLDIERS(dfpl['Open'], dfpl['High'], dfpl['Low'], dfpl['Close'])\n",
    "    dfpl[\"cdlharami\"] = ta.CDLHARAMI(dfpl['Open'], dfpl['High'], dfpl['Low'], dfpl['Close'])\n",
    "    dfpl[\"cdlharamicross\"] = ta.CDLHARAMICROSS(dfpl['Open'], dfpl['High'], dfpl['Low'], dfpl['Close'])\n",
    "    dfpl[\"cdlinvertdhammer\"] = ta.CDLINVERTEDHAMMER(dfpl['Open'], dfpl['High'], dfpl['Low'], dfpl['Close'])\n",
    "    dfpl[\"cdlladderbottom\"] = ta.CDLLADDERBOTTOM(dfpl['Open'], dfpl['High'], dfpl['Low'], dfpl['Close'])\n",
    "\n",
    "    dfpl['Vela_Verde'] = dfpl['Close'] > dfpl['Open']\n",
    "    # Calcular el nivel de la tercera parte\n",
    "    dfpl['Third_Level'] = dfpl['Open'] + (dfpl['High'] - dfpl['Low']) / 3\n",
    "    # Verificar si la vela cierra por encima de su tercera parte, vela con cuerpo\n",
    "    dfpl['Above_Third'] = dfpl['Close'] > dfpl['Third_Level']\n",
    "\n",
    "    while j<=k:            \n",
    "        \n",
    "        vol = dfpl.loc[j,\"Volume\"]\n",
    "        above_Third = dfpl.loc[j,\"Above_Third\"]\n",
    "        vela_Verde = dfpl.loc[j,\"Vela_Verde\"]\n",
    "        lineTrend = dfpl.loc[j,'trendcurrhigh']\n",
    "        high = dfpl.loc[j,'High']\n",
    "        close = dfpl.loc[j,'Close']\n",
    "\n",
    "        cdlengulfing = dfpl.loc[j,\"cdlengulfing\"]\n",
    "        cdlhammer = dfpl.loc[j,\"cdlhammer\"]\n",
    "        cdlmorningstar = dfpl.loc[j,\"cdlmorningstar\"]\n",
    "        cdlpiercing = dfpl.loc[j,\"cdlpiercing\"]\n",
    "        cdlclosingmarubozu = dfpl.loc[j,\"cdlclosingmarubozu\"]\n",
    "        cdlmarubozu = dfpl.loc[j,\"cdlmarubozu\"]\n",
    "        cdl3whitesoldiers = dfpl.loc[j,\"cdl3whitesoldiers\"]\n",
    "        cdlharami = dfpl.loc[j,\"cdlharami\"]\n",
    "        cdlharamicross = dfpl.loc[j,\"cdlharamicross\"]\n",
    "        cdlinvertdhammer = dfpl.loc[j,\"cdlinvertdhammer\"]\n",
    "        cdlladderbottom = dfpl.loc[j,\"cdlladderbottom\"]\n",
    "\n",
    "        #vela consecutiva alcista\n",
    "        candle_up = (\n",
    "                     dfpl.loc[j,\"High\"]> dfpl.loc[j-1,\"High\"]\n",
    "                     and dfpl.loc[j-1,\"High\"]> dfpl.loc[j,\"Low\"]\n",
    "                     and dfpl.loc[j,\"Low\"]> dfpl.loc[j-2,\"High\"]\n",
    "                     and dfpl.loc[j-2,\"High\"]> dfpl.loc[j-1,\"Low\"]\n",
    "                     and dfpl.loc[j-1,\"Low\"]> dfpl.loc[j-3,\"High\"]\n",
    "                     and dfpl.loc[j-3,\"High\"]> dfpl.loc[j-2,\"Low\"]\n",
    "                     and dfpl.loc[j-2,\"Low\"]> dfpl.loc[j-3,\"Low\"]\n",
    "                    )\n",
    "\n",
    "        if (candle_up==True and close>lineTrend):\n",
    "            ind_vela=ind_vela+1\n",
    "            \n",
    "        j=j+1\n",
    "    \n",
    "    return 1 #1 para mostrar todo ind_vela para que funcione el filtro"
   ]
  },
  {
   "cell_type": "code",
   "execution_count": 18,
   "id": "356713ec-eef9-4fe4-a974-2c6aeabe26bf",
   "metadata": {
    "execution": {
     "iopub.execute_input": "2025-06-11T17:42:34.470081Z",
     "iopub.status.busy": "2025-06-11T17:42:34.469644Z",
     "iopub.status.idle": "2025-06-11T17:43:07.368341Z",
     "shell.execute_reply": "2025-06-11T17:43:07.367776Z"
    },
    "papermill": {
     "duration": 32.905991,
     "end_time": "2025-06-11T17:43:07.369353",
     "exception": false,
     "start_time": "2025-06-11T17:42:34.463362",
     "status": "completed"
    },
    "tags": []
   },
   "outputs": [
    {
     "name": "stdout",
     "output_type": "stream",
     "text": [
      "posible caso: 665 SPY\n"
     ]
    },
    {
     "name": "stdout",
     "output_type": "stream",
     "text": [
      "insert caso: 665 SPY\n",
      "posible caso: 1495 SPY\n",
      "insert caso: 1495 SPY\n",
      "posible caso: 1997 SPY\n"
     ]
    },
    {
     "name": "stdout",
     "output_type": "stream",
     "text": [
      "posible caso: 2160 SPY\n",
      "insert caso: 2160 SPY\n",
      "posible caso: 2437 SPY\n"
     ]
    },
    {
     "name": "stdout",
     "output_type": "stream",
     "text": [
      "insert caso: 2437 SPY\n",
      "posible caso: 3857 META\n",
      "posible caso: 4196 META\n"
     ]
    },
    {
     "name": "stdout",
     "output_type": "stream",
     "text": [
      "insert caso: 4196 META\n",
      "posible caso: 5084 META\n",
      "insert caso: 5084 META\n",
      "posible caso: 5487 META\n"
     ]
    },
    {
     "name": "stdout",
     "output_type": "stream",
     "text": [
      "posible caso: 5701 META\n",
      "posible caso: 6769 META\n"
     ]
    },
    {
     "name": "stdout",
     "output_type": "stream",
     "text": [
      "insert caso: 6769 META\n",
      "posible caso: 7730 AAPL\n"
     ]
    },
    {
     "name": "stdout",
     "output_type": "stream",
     "text": [
      "insert caso: 7730 AAPL\n",
      "posible caso: 8064 AAPL\n",
      "insert caso: 8064 AAPL\n",
      "posible caso: 8565 AAPL\n"
     ]
    },
    {
     "name": "stdout",
     "output_type": "stream",
     "text": [
      "insert caso: 8565 AAPL\n",
      "posible caso: 9077 AAPL\n"
     ]
    },
    {
     "name": "stdout",
     "output_type": "stream",
     "text": [
      "insert caso: 9077 AAPL\n",
      "posible caso: 9275 AAPL\n",
      "posible caso: 9520 AAPL\n"
     ]
    },
    {
     "name": "stdout",
     "output_type": "stream",
     "text": [
      "insert caso: 9520 AAPL\n",
      "posible caso: 9868 AAPL\n",
      "insert caso: 9868 AAPL\n",
      "posible caso: 10251 AAPL\n"
     ]
    },
    {
     "name": "stdout",
     "output_type": "stream",
     "text": [
      "insert caso: 10251 AAPL\n",
      "posible caso: 11264 AMZN\n",
      "insert caso: 11264 AMZN\n",
      "posible caso: 11592 AMZN\n"
     ]
    },
    {
     "name": "stdout",
     "output_type": "stream",
     "text": [
      "insert caso: 11592 AMZN\n",
      "posible caso: 12126 AMZN\n",
      "insert caso: 12126 AMZN\n",
      "posible caso: 12304 AMZN\n"
     ]
    },
    {
     "name": "stdout",
     "output_type": "stream",
     "text": [
      "insert caso: 12304 AMZN\n",
      "posible caso: 12604 AMZN\n",
      "insert caso: 12604 AMZN\n",
      "posible caso: 12917 AMZN\n"
     ]
    },
    {
     "name": "stdout",
     "output_type": "stream",
     "text": [
      "insert caso: 12917 AMZN\n",
      "posible caso: 13378 AMZN\n",
      "insert caso: 13378 AMZN\n",
      "posible caso: 13838 AMZN\n"
     ]
    },
    {
     "name": "stdout",
     "output_type": "stream",
     "text": [
      "insert caso: 13838 AMZN\n",
      "posible caso: 14758 NFLX\n",
      "insert caso: 14758 NFLX\n"
     ]
    },
    {
     "name": "stdout",
     "output_type": "stream",
     "text": [
      "posible caso: 16142 NFLX\n",
      "insert caso: 16142 NFLX\n",
      "posible caso: 16508 NFLX\n"
     ]
    },
    {
     "name": "stdout",
     "output_type": "stream",
     "text": [
      "insert caso: 16508 NFLX\n",
      "posible caso: 16912 NFLX\n",
      "insert caso: 16912 NFLX\n",
      "posible caso: 17170 NFLX\n"
     ]
    },
    {
     "name": "stdout",
     "output_type": "stream",
     "text": [
      "insert caso: 17170 NFLX\n",
      "posible caso: 18848 MRNA\n",
      "insert caso: 18848 MRNA\n"
     ]
    },
    {
     "name": "stdout",
     "output_type": "stream",
     "text": [
      "posible caso: 19084 MRNA\n",
      "posible caso: 20185 MRNA\n"
     ]
    },
    {
     "name": "stdout",
     "output_type": "stream",
     "text": [
      "insert caso: 20185 MRNA\n",
      "posible caso: 21033 MRNA\n",
      "insert caso: 21033 MRNA\n",
      "posible caso: 21528 TSLA\n"
     ]
    },
    {
     "name": "stdout",
     "output_type": "stream",
     "text": [
      "posible caso: 21881 TSLA\n",
      "posible caso: 22336 TSLA\n"
     ]
    },
    {
     "name": "stdout",
     "output_type": "stream",
     "text": [
      "insert caso: 22336 TSLA\n",
      "posible caso: 22529 TSLA\n",
      "posible caso: 22707 TSLA\n"
     ]
    },
    {
     "name": "stdout",
     "output_type": "stream",
     "text": [
      "posible caso: 23226 TSLA\n",
      "insert caso: 23226 TSLA\n",
      "posible caso: 23601 TSLA\n"
     ]
    },
    {
     "name": "stdout",
     "output_type": "stream",
     "text": [
      "insert caso: 23601 TSLA\n",
      "posible caso: 23930 TSLA\n",
      "insert caso: 23930 TSLA\n",
      "posible caso: 24239 TSLA\n"
     ]
    },
    {
     "name": "stdout",
     "output_type": "stream",
     "text": [
      "posible caso: 24387 TSLA\n",
      "insert caso: 24387 TSLA\n",
      "posible caso: 25408 TNA\n"
     ]
    },
    {
     "name": "stdout",
     "output_type": "stream",
     "text": [
      "insert caso: 25408 TNA\n",
      "posible caso: 28364 GLD\n"
     ]
    },
    {
     "name": "stdout",
     "output_type": "stream",
     "text": [
      "insert caso: 28364 GLD\n",
      "posible caso: 28596 GLD\n",
      "posible caso: 28831 GLD\n"
     ]
    },
    {
     "name": "stdout",
     "output_type": "stream",
     "text": [
      "insert caso: 28831 GLD\n",
      "posible caso: 29015 GLD\n",
      "posible caso: 29319 GLD\n"
     ]
    },
    {
     "name": "stdout",
     "output_type": "stream",
     "text": [
      "insert caso: 29319 GLD\n",
      "posible caso: 29456 GLD\n",
      "posible caso: 30015 GLD\n"
     ]
    },
    {
     "name": "stdout",
     "output_type": "stream",
     "text": [
      "insert caso: 30015 GLD\n",
      "posible caso: 30794 GLD\n",
      "insert caso: 30794 GLD\n",
      "posible caso: 31449 GLD\n"
     ]
    },
    {
     "name": "stdout",
     "output_type": "stream",
     "text": [
      "posible caso: 31633 GLD\n",
      "insert caso: 31633 GLD\n",
      "posible caso: 32130 SLV\n"
     ]
    },
    {
     "name": "stdout",
     "output_type": "stream",
     "text": [
      "insert caso: 32130 SLV\n",
      "posible caso: 32992 SLV\n",
      "insert caso: 32992 SLV\n",
      "posible caso: 33632 SLV\n"
     ]
    },
    {
     "name": "stdout",
     "output_type": "stream",
     "text": [
      "insert caso: 33632 SLV\n",
      "posible caso: 33837 SLV\n",
      "insert caso: 33837 SLV\n",
      "posible caso: 34531 SLV\n"
     ]
    },
    {
     "name": "stdout",
     "output_type": "stream",
     "text": [
      "insert caso: 34531 SLV\n",
      "posible caso: 34806 SLV\n",
      "insert caso: 34806 SLV\n",
      "posible caso: 34981 SLV\n"
     ]
    },
    {
     "name": "stdout",
     "output_type": "stream",
     "text": [
      "insert caso: 34981 SLV\n",
      "posible caso: 35698 USO\n"
     ]
    },
    {
     "name": "stdout",
     "output_type": "stream",
     "text": [
      "insert caso: 35698 USO\n",
      "posible caso: 35912 USO\n",
      "insert caso: 35912 USO\n",
      "posible caso: 36236 USO\n"
     ]
    },
    {
     "name": "stdout",
     "output_type": "stream",
     "text": [
      "posible caso: 37533 USO\n",
      "posible caso: 38658 USO\n"
     ]
    },
    {
     "name": "stdout",
     "output_type": "stream",
     "text": [
      "posible caso: 39564 BAC\n",
      "posible caso: 39942 BAC\n"
     ]
    },
    {
     "name": "stdout",
     "output_type": "stream",
     "text": [
      "insert caso: 39942 BAC\n",
      "posible caso: 40367 BAC\n",
      "posible caso: 40895 BAC\n"
     ]
    },
    {
     "name": "stdout",
     "output_type": "stream",
     "text": [
      "insert caso: 40895 BAC\n",
      "posible caso: 41569 BAC\n",
      "insert caso: 41569 BAC\n",
      "posible caso: 42058 BAC\n"
     ]
    },
    {
     "name": "stdout",
     "output_type": "stream",
     "text": [
      "insert caso: 42058 BAC\n",
      "posible caso: 42742 CVX\n",
      "insert caso: 42742 CVX\n",
      "posible caso: 43162 CVX\n"
     ]
    },
    {
     "name": "stdout",
     "output_type": "stream",
     "text": [
      "insert caso: 43162 CVX\n",
      "posible caso: 43711 CVX\n",
      "posible caso: 44449 CVX\n"
     ]
    },
    {
     "name": "stdout",
     "output_type": "stream",
     "text": [
      "insert caso: 44449 CVX\n",
      "posible caso: 44611 CVX\n",
      "posible caso: 45437 CVX\n"
     ]
    },
    {
     "name": "stdout",
     "output_type": "stream",
     "text": [
      "insert caso: 45437 CVX\n",
      "posible caso: 45665 CVX\n",
      "insert caso: 45665 CVX\n",
      "posible caso: 46689 XOM\n"
     ]
    },
    {
     "name": "stdout",
     "output_type": "stream",
     "text": [
      "insert caso: 46689 XOM\n",
      "posible caso: 47742 XOM\n",
      "insert caso: 47742 XOM\n",
      "posible caso: 48145 XOM\n"
     ]
    },
    {
     "name": "stdout",
     "output_type": "stream",
     "text": [
      "insert caso: 48145 XOM\n",
      "posible caso: 48410 XOM\n",
      "insert caso: 48410 XOM\n",
      "posible caso: 49818 QQQ\n"
     ]
    },
    {
     "name": "stdout",
     "output_type": "stream",
     "text": [
      "posible caso: 50157 QQQ\n",
      "insert caso: 50157 QQQ\n",
      "posible caso: 50996 QQQ\n"
     ]
    },
    {
     "name": "stdout",
     "output_type": "stream",
     "text": [
      "insert caso: 50996 QQQ\n",
      "posible caso: 51517 QQQ\n",
      "insert caso: 51517 QQQ\n",
      "posible caso: 51660 QQQ\n"
     ]
    },
    {
     "name": "stdout",
     "output_type": "stream",
     "text": [
      "posible caso: 51937 QQQ\n",
      "insert caso: 51937 QQQ\n",
      "posible caso: 53352 MSFT\n"
     ]
    },
    {
     "name": "stdout",
     "output_type": "stream",
     "text": [
      "posible caso: 53927 MSFT\n",
      "posible caso: 54307 MSFT\n"
     ]
    },
    {
     "name": "stdout",
     "output_type": "stream",
     "text": [
      "posible caso: 54579 MSFT\n",
      "insert caso: 54579 MSFT\n",
      "posible caso: 55031 MSFT\n"
     ]
    },
    {
     "name": "stdout",
     "output_type": "stream",
     "text": [
      "insert caso: 55031 MSFT\n",
      "posible caso: 55196 MSFT\n",
      "insert caso: 55196 MSFT\n",
      "posible caso: 55471 MSFT\n"
     ]
    },
    {
     "name": "stdout",
     "output_type": "stream",
     "text": [
      "insert caso: 55471 MSFT\n",
      "posible caso: 56857 NVDA\n",
      "insert caso: 56857 NVDA\n",
      "posible caso: 57053 NVDA\n"
     ]
    },
    {
     "name": "stdout",
     "output_type": "stream",
     "text": [
      "posible caso: 57225 NVDA\n",
      "insert caso: 57225 NVDA\n",
      "posible caso: 58064 NVDA\n"
     ]
    },
    {
     "name": "stdout",
     "output_type": "stream",
     "text": [
      "insert caso: 58064 NVDA\n",
      "posible caso: 58585 NVDA\n",
      "insert caso: 58585 NVDA\n",
      "posible caso: 58728 NVDA\n"
     ]
    },
    {
     "name": "stdout",
     "output_type": "stream",
     "text": [
      "insert caso: 58728 NVDA\n",
      "posible caso: 59425 NVDA\n",
      "posible caso: 60216 WMT\n"
     ]
    },
    {
     "name": "stdout",
     "output_type": "stream",
     "text": [
      "insert caso: 60216 WMT\n",
      "posible caso: 60418 WMT\n",
      "insert caso: 60418 WMT\n",
      "posible caso: 61654 WMT\n"
     ]
    },
    {
     "name": "stdout",
     "output_type": "stream",
     "text": [
      "insert caso: 61654 WMT\n",
      "posible caso: 62118 WMT\n",
      "insert caso: 62118 WMT\n"
     ]
    },
    {
     "name": "stdout",
     "output_type": "stream",
     "text": [
      "posible caso: 62821 WMT\n",
      "insert caso: 62821 WMT\n",
      "posible caso: 63280 WMT\n"
     ]
    },
    {
     "name": "stdout",
     "output_type": "stream",
     "text": [
      "insert caso: 63280 WMT\n",
      "posible caso: 64283 BA\n",
      "posible caso: 64738 BA\n"
     ]
    },
    {
     "name": "stdout",
     "output_type": "stream",
     "text": [
      "insert caso: 64738 BA\n",
      "posible caso: 65653 BA\n",
      "insert caso: 65653 BA\n",
      "posible caso: 65965 BA\n"
     ]
    },
    {
     "name": "stdout",
     "output_type": "stream",
     "text": [
      "insert caso: 65965 BA\n",
      "posible caso: 66139 BA\n",
      "insert caso: 66139 BA\n",
      "posible caso: 67382 DIS\n"
     ]
    },
    {
     "name": "stdout",
     "output_type": "stream",
     "text": [
      "insert caso: 67382 DIS\n",
      "posible caso: 67716 DIS\n",
      "insert caso: 67716 DIS\n"
     ]
    },
    {
     "name": "stdout",
     "output_type": "stream",
     "text": [
      "posible caso: 69955 DIS\n",
      "posible caso: 70348 DIS\n"
     ]
    },
    {
     "name": "stdout",
     "output_type": "stream",
     "text": [
      "insert caso: 70348 DIS\n",
      "posible caso: 71056 CAT\n",
      "insert caso: 71056 CAT\n",
      "posible caso: 71384 CAT\n"
     ]
    },
    {
     "name": "stdout",
     "output_type": "stream",
     "text": [
      "posible caso: 71742 CAT\n",
      "insert caso: 71742 CAT\n",
      "posible caso: 72256 CAT\n"
     ]
    },
    {
     "name": "stdout",
     "output_type": "stream",
     "text": [
      "insert caso: 72256 CAT\n",
      "posible caso: 72467 CAT\n",
      "insert caso: 72467 CAT\n",
      "posible caso: 72864 CAT\n"
     ]
    },
    {
     "name": "stdout",
     "output_type": "stream",
     "text": [
      "insert caso: 72864 CAT\n",
      "posible caso: 73136 CAT\n",
      "insert caso: 73136 CAT\n",
      "posible caso: 73461 CAT\n"
     ]
    },
    {
     "name": "stdout",
     "output_type": "stream",
     "text": [
      "insert caso: 73461 CAT\n",
      "posible caso: 73702 CAT\n",
      "insert caso: 73702 CAT\n"
     ]
    },
    {
     "name": "stdout",
     "output_type": "stream",
     "text": [
      "posible caso: 75228 IBM\n",
      "insert caso: 75228 IBM\n",
      "posible caso: 75445 IBM\n"
     ]
    },
    {
     "name": "stdout",
     "output_type": "stream",
     "text": [
      "insert caso: 75445 IBM\n",
      "posible caso: 75939 IBM\n",
      "insert caso: 75939 IBM\n",
      "posible caso: 76665 IBM\n"
     ]
    },
    {
     "name": "stdout",
     "output_type": "stream",
     "text": [
      "insert caso: 76665 IBM\n",
      "posible caso: 78437 WFC\n"
     ]
    },
    {
     "name": "stdout",
     "output_type": "stream",
     "text": [
      "insert caso: 78437 WFC\n",
      "posible caso: 78813 WFC\n",
      "insert caso: 78813 WFC\n"
     ]
    },
    {
     "name": "stdout",
     "output_type": "stream",
     "text": [
      "posible caso: 79239 WFC\n",
      "insert caso: 79239 WFC\n",
      "posible caso: 79961 WFC\n"
     ]
    },
    {
     "name": "stdout",
     "output_type": "stream",
     "text": [
      "posible caso: 80434 WFC\n",
      "posible caso: 81649 PLTR\n"
     ]
    },
    {
     "name": "stdout",
     "output_type": "stream",
     "text": [
      "posible caso: 81807 PLTR\n",
      "insert caso: 81807 PLTR\n",
      "posible caso: 82290 PLTR\n"
     ]
    },
    {
     "name": "stdout",
     "output_type": "stream",
     "text": [
      "insert caso: 82290 PLTR\n",
      "posible caso: 83299 PLTR\n",
      "insert caso: 83299 PLTR\n"
     ]
    },
    {
     "name": "stdout",
     "output_type": "stream",
     "text": [
      "posible caso: 84065 PLTR\n",
      "insert caso: 84065 PLTR\n",
      "posible caso: 84331 PLTR\n"
     ]
    },
    {
     "name": "stdout",
     "output_type": "stream",
     "text": [
      "insert caso: 84331 PLTR\n",
      "posible caso: 84898 AMD\n",
      "insert caso: 84898 AMD\n",
      "posible caso: 85341 AMD\n"
     ]
    },
    {
     "name": "stdout",
     "output_type": "stream",
     "text": [
      "insert caso: 85341 AMD\n",
      "posible caso: 86039 AMD\n",
      "insert caso: 86039 AMD\n",
      "posible caso: 86616 AMD\n"
     ]
    },
    {
     "name": "stdout",
     "output_type": "stream",
     "text": [
      "insert caso: 86616 AMD\n",
      "posible caso: 86853 AMD\n",
      "insert caso: 86853 AMD\n",
      "posible caso: 86996 AMD\n"
     ]
    },
    {
     "name": "stdout",
     "output_type": "stream",
     "text": [
      "insert caso: 86996 AMD\n",
      "posible caso: 88014 AMD\n",
      "insert caso: 88014 AMD\n"
     ]
    },
    {
     "name": "stdout",
     "output_type": "stream",
     "text": [
      "posible caso: 88688 AVGO\n",
      "insert caso: 88688 AVGO\n",
      "posible caso: 88849 AVGO\n"
     ]
    },
    {
     "name": "stdout",
     "output_type": "stream",
     "text": [
      "insert caso: 88849 AVGO\n",
      "posible caso: 89222 AVGO\n",
      "insert caso: 89222 AVGO\n",
      "posible caso: 89866 AVGO\n"
     ]
    },
    {
     "name": "stdout",
     "output_type": "stream",
     "text": [
      "insert caso: 89866 AVGO\n",
      "posible caso: 90387 AVGO\n",
      "insert caso: 90387 AVGO\n",
      "posible caso: 90936 AVGO\n"
     ]
    },
    {
     "name": "stdout",
     "output_type": "stream",
     "text": [
      "insert caso: 90936 AVGO\n",
      "posible caso: 91195 AVGO\n",
      "insert caso: 91195 AVGO\n",
      "posible caso: 91530 AVGO\n"
     ]
    },
    {
     "name": "stdout",
     "output_type": "stream",
     "text": [
      "insert caso: 91530 AVGO\n",
      "posible caso: 92221 HOOD\n",
      "insert caso: 92221 HOOD\n",
      "posible caso: 92634 HOOD\n"
     ]
    },
    {
     "name": "stdout",
     "output_type": "stream",
     "text": [
      "insert caso: 92634 HOOD\n",
      "posible caso: 93036 HOOD\n",
      "insert caso: 93036 HOOD\n",
      "posible caso: 93505 HOOD\n"
     ]
    },
    {
     "name": "stdout",
     "output_type": "stream",
     "text": [
      "insert caso: 93505 HOOD\n",
      "posible caso: 93901 HOOD\n",
      "insert caso: 93901 HOOD\n"
     ]
    },
    {
     "name": "stdout",
     "output_type": "stream",
     "text": [
      "posible caso: 94935 HOOD\n",
      "posible caso: 96167 MSTR\n"
     ]
    },
    {
     "name": "stdout",
     "output_type": "stream",
     "text": [
      "insert caso: 96167 MSTR\n",
      "posible caso: 97393 MSTR\n",
      "insert caso: 97393 MSTR\n",
      "posible caso: 97696 MSTR\n"
     ]
    },
    {
     "name": "stdout",
     "output_type": "stream",
     "text": [
      "insert caso: 97696 MSTR\n",
      "posible caso: 97863 MSTR\n",
      "insert caso: 97863 MSTR\n",
      "posible caso: 98010 MSTR\n"
     ]
    },
    {
     "name": "stdout",
     "output_type": "stream",
     "text": [
      "insert caso: 98010 MSTR\n",
      "posible caso: 98560 MSTR\n",
      "insert caso: 98560 MSTR\n",
      "posible caso: 98875 MSTR\n"
     ]
    },
    {
     "name": "stdout",
     "output_type": "stream",
     "text": [
      "posible caso: 99257 MSTR\n",
      "insert caso: 99257 MSTR\n",
      "posible caso: 99513 UNH\n"
     ]
    },
    {
     "name": "stdout",
     "output_type": "stream",
     "text": [
      "insert caso: 99513 UNH\n",
      "posible caso: 100293 UNH\n",
      "posible caso: 100450 UNH\n"
     ]
    },
    {
     "name": "stdout",
     "output_type": "stream",
     "text": [
      "insert caso: 100450 UNH\n",
      "posible caso: 100647 UNH\n",
      "insert caso: 100647 UNH\n",
      "posible caso: 100831 UNH\n"
     ]
    },
    {
     "name": "stdout",
     "output_type": "stream",
     "text": [
      "insert caso: 100831 UNH\n",
      "posible caso: 101724 UNH\n",
      "insert caso: 101724 UNH\n",
      "posible caso: 102023 UNH\n"
     ]
    },
    {
     "name": "stdout",
     "output_type": "stream",
     "text": [
      "posible caso: 102725 UNH\n",
      "insert caso: 102725 UNH\n",
      "posible caso: 103017 GOOG\n"
     ]
    },
    {
     "name": "stdout",
     "output_type": "stream",
     "text": [
      "insert caso: 103017 GOOG\n",
      "posible caso: 103214 GOOG\n",
      "posible caso: 103397 GOOG\n"
     ]
    },
    {
     "name": "stdout",
     "output_type": "stream",
     "text": [
      "posible caso: 103557 GOOG\n",
      "insert caso: 103557 GOOG\n",
      "posible caso: 103728 GOOG\n"
     ]
    },
    {
     "name": "stdout",
     "output_type": "stream",
     "text": [
      "posible caso: 104900 GOOG\n",
      "insert caso: 104900 GOOG\n",
      "posible caso: 105066 GOOG\n"
     ]
    },
    {
     "name": "stdout",
     "output_type": "stream",
     "text": [
      "insert caso: 105066 GOOG\n",
      "posible caso: 105440 GOOG\n"
     ]
    },
    {
     "name": "stdout",
     "output_type": "stream",
     "text": [
      "posible caso: 107305 APP\n",
      "posible caso: 108427 APP\n"
     ]
    },
    {
     "name": "stdout",
     "output_type": "stream",
     "text": [
      "insert caso: 108427 APP\n",
      "posible caso: 109094 APP\n",
      "posible caso: 109459 APP\n"
     ]
    },
    {
     "name": "stdout",
     "output_type": "stream",
     "text": [
      "insert caso: 109459 APP\n",
      "posible caso: 109592 APP\n",
      "insert caso: 109592 APP\n",
      "posible caso: 110261 UBER\n"
     ]
    },
    {
     "name": "stdout",
     "output_type": "stream",
     "text": [
      "insert caso: 110261 UBER\n",
      "posible caso: 110612 UBER\n"
     ]
    },
    {
     "name": "stdout",
     "output_type": "stream",
     "text": [
      "insert caso: 110612 UBER\n",
      "posible caso: 110946 UBER\n",
      "insert caso: 110946 UBER\n",
      "posible caso: 111629 UBER\n"
     ]
    },
    {
     "name": "stdout",
     "output_type": "stream",
     "text": [
      "posible caso: 111952 UBER\n",
      "insert caso: 111952 UBER\n",
      "posible caso: 112598 UBER\n"
     ]
    },
    {
     "name": "stdout",
     "output_type": "stream",
     "text": [
      "insert caso: 112598 UBER\n"
     ]
    }
   ],
   "source": [
    "df_casos = pd.DataFrame()\n",
    "caso = 0\n",
    "ticker2 = \"\"\n",
    "window=5\n",
    "backeval=75\n",
    "backevalTrend=0\n",
    "dfpl = pd.DataFrame\n",
    "trendH = []\n",
    "trendL = []\n",
    "cant = 0\n",
    "for i, row in df_hora_final.iterrows():\n",
    "    #if (i==83382):\n",
    "    if(df_hora_final['pfuerte'][i]==1): #posibles casos \n",
    "        print(\"posible caso:\",i, df_hora_final['companyName'][i])\n",
    "        cant = 0\n",
    "        candle = i\n",
    "        cnt = 0\n",
    "        valiniHigh = df_hora_final.loc[candle,\"High\"]\n",
    "        #valiniLow = df.loc[candle,\"Low\"]\n",
    "        ticker = df_hora_final['companyName'][i]\n",
    "        #Reinicio de casos por company\n",
    "        if ticker2 != ticker:\n",
    "            ticker2 = ticker\n",
    "            caso = 0\n",
    "        dfpl = df_hora_final[(df_hora_final.companyName==ticker)].loc[i-backeval:i+backeval].copy()\n",
    "\n",
    "        #print(\"rowMin:\", dfpl.index[0],\", rowMax:\", dfpl.index[-1])\n",
    "                    \n",
    "        h=1\n",
    "        l=1\n",
    "\n",
    "        cant = cant +1\n",
    "        cantHorasTrend=0\n",
    "        #print(\"opcionH:\",h,\"opcionL:\",l)\n",
    "        trendH, backevalTrend = backcandle(candle)\n",
    "        #print (\"-->trendH:\",trendH)\n",
    "        #print (\"-->backevalTrend:\",backevalTrend)    \n",
    "        \n",
    "        #cantHorasTrend = (dfpl.loc[candle,\"datetime\"] - dfpl.loc[backevalTrend,\"datetime\"]).total_seconds() / 3600\n",
    "\n",
    "        #if (cantHorasTrend>48): #Verificacion de caida por lo menos 2 dias\n",
    "        backevalTrend2 = candle - backevalTrend\n",
    "    \n",
    "                    \n",
    "        #revision de trend negativo indica que esta cayendo, solo me quedo con estos casos\n",
    "        sl_highs, interc_highs, r_sq_h = collect_channel(candle, backevalTrend2, trendH)\n",
    "                \n",
    "\n",
    "        #print(\"======:\", candle)\n",
    "        #print(\"===trendH===\")\n",
    "        #print(trendH)\n",
    "        #print(\"===trendL===\")\n",
    "        #print(trendL)\n",
    "        dfpl.loc[trendH, \"trendH\"] = 1\n",
    "    \n",
    "        \n",
    "        #print(\"sl_highs:\", sl_highs, \", sl_lows:\", sl_lows, \", r_sq_h:\", r_sq_h)\n",
    "        if (sl_highs<=0): #solo tendencias a la baja and ind_vela>0 sl_lows<0 and r_sq_h>=0.7  and sl_highs<=-0.1 and ind_vela>0\n",
    "            #print(\"paso1\")\n",
    "            #crear linea de tendencia high y low\n",
    "            dfpl['trendcurrhigh']  = trendChannel(dfpl,candle,backevalTrend2,window,sl_highs,interc_highs)\n",
    "            \n",
    "            #ind_vela = revisionVelas(dfpl, backeval,window, candle)\n",
    "            ind_vela = 1\n",
    "            promVol = dfpl.loc[i-backeval:i][\"Volume\"].mean()\n",
    "\n",
    "            #print(\"ind_vela:\",ind_vela)\n",
    "            if (ind_vela>0):\n",
    "                #print(\"paso2\")\n",
    "                dfpl[\"bearishSlope\"] = np.nan #pendiente bajista en vacio\n",
    "                dfpl.loc[i, \"bearishSlope\"] = 1 #pendiente bajista solo al punto evaluado            \n",
    "                dfpl[\"ind_posicion\"] = 0\n",
    "                dfpl.loc[(dfpl.index < i), 'ind_posicion'] = -1\n",
    "                dfpl.loc[(dfpl.index > i), 'ind_posicion'] = 1\n",
    "                dfpl[\"promVol\"] = promVol\n",
    "                #dfpl[\"sl_highs\"] = sl_highs\n",
    "                #dfpl[\"r_sq_h\"] = r_sq_h\n",
    "        \n",
    "                start = dfpl.index[0]\n",
    "                dfpl[\"isBreakOut\"] = [isBreakOut(candleEval, backevalTrend2, window, start, candle) for candleEval in dfpl.index]\n",
    "                # Solo me quedo con el primer BREAK OUT\n",
    "                cnt = dfpl.query(\"isBreakOut in (2,3) and Close>Open\").shape[0] \n",
    "                id=0\n",
    "                id2=0\n",
    "                #print(\"paso3\")\n",
    "                if cnt>0:\n",
    "                    #print(\"paso4\")\n",
    "                    id = dfpl.query(\"isBreakOut in (2,3) and Close>Open\").index[0]                        \n",
    "                    #dfpl['isBreakOutIni'] = np.where(id!=dfpl.index, np.nan, dfpl['isBreakOut'])                        \n",
    "                    dfpl.loc[id,'isBreakOutIni'] = 1\n",
    "                    #print(\"paso5\")\n",
    "                    k=0\n",
    "                    while (k<=3):\n",
    "                        dfpl['breakpointpos'] = dfpl.apply(lambda row: breakpointpos(row), axis=1)\n",
    "                        cnt2 = dfpl.query(\"index>@id and isPivot==1\").shape[0]\n",
    "                        #print(\"paso6\")\n",
    "                        if cnt2>0:\n",
    "                            id2 = dfpl.query(\"index>@id and isPivot==1\").index[0]\n",
    "                            dfpl.loc[id2,'isBreakOutFinal'] = 1\n",
    "                            k=4\n",
    "                            #print(\"paso7\")\n",
    "                        else:\n",
    "                            #revisar 25 velas mas\n",
    "                            #print(\"paso8\")\n",
    "                            idfinal = dfpl.index[-1] \n",
    "                            idfinal2 = idfinal+25\n",
    "                            if idfinal2 in df_hora_final[df_hora_final['companyName']==ticker].index:\n",
    "                                dfpl2 = df_hora_final[(df_hora_final.companyName==ticker)].loc[idfinal+1:idfinal2].copy()\n",
    "                                dfpl = pd.concat([dfpl, dfpl2],ignore_index=False)\n",
    "                                #cnt2 = dfpl.query(\"index>@id and isPivot==1\").shape[0]                    \n",
    "                                #if cnt2>0:\n",
    "                                #    id2 = dfpl.query(\"index>@id and isPivot==1\").index[0]\n",
    "                                #    dfpl.loc[id2,'isBreakOutFinal'] = 1\n",
    "                                #else:\n",
    "                                #    dfpl['isBreakOutFinal'] = np.nan\n",
    "                            else:\n",
    "                                dfpl['isBreakOutFinal'] = np.nan  \n",
    "                            k=k+1\n",
    "                    \n",
    "                else:\n",
    "                    dfpl['isBreakOutIni'] = np.nan                        \n",
    "                    dfpl['breakpointpos'] = np.nan\n",
    "        \n",
    "                if cnt>0:\n",
    "                    #INSERT CASO\n",
    "                    caso=caso+1   \n",
    "                    print(\"insert caso:\",i, df_hora_final['companyName'][i])\n",
    "                    dfpl[\"caso\"] = caso                        \n",
    "                    if len(df_casos)<1:\n",
    "                        df_casos = dfpl\n",
    "                    else:\n",
    "                        df_casos = pd.concat([df_casos, dfpl],ignore_index=False)"
   ]
  },
  {
   "cell_type": "code",
   "execution_count": 19,
   "id": "eb9b9b8e-724e-4626-b5ca-ad32b1a48f9a",
   "metadata": {
    "execution": {
     "iopub.execute_input": "2025-06-11T17:43:07.389825Z",
     "iopub.status.busy": "2025-06-11T17:43:07.389602Z",
     "iopub.status.idle": "2025-06-11T17:43:07.870395Z",
     "shell.execute_reply": "2025-06-11T17:43:07.869784Z"
    },
    "papermill": {
     "duration": 0.492107,
     "end_time": "2025-06-11T17:43:07.871557",
     "exception": false,
     "start_time": "2025-06-11T17:43:07.379450",
     "status": "completed"
    },
    "tags": []
   },
   "outputs": [],
   "source": [
    "path = 'data/pfuerte.txt'\n",
    "\n",
    "# check whether the file exists\n",
    "if os.path.exists(path):\n",
    "    os.remove(path)\n",
    "else:\n",
    "    # if the file does not exist.\n",
    "    print(\"File does not exists. File needs to be created.\")\n",
    "\n",
    "#export DataFrame to text file\n",
    "with open(path, 'a') as f:\n",
    "    df_casos.to_csv(path, header=True, index=None, sep='\\t', mode='w')\n"
   ]
  },
  {
   "cell_type": "markdown",
   "id": "9648944f-0175-4b89-9166-35e564665dc4",
   "metadata": {
    "papermill": {
     "duration": 0.009689,
     "end_time": "2025-06-11T17:43:07.892114",
     "exception": false,
     "start_time": "2025-06-11T17:43:07.882425",
     "status": "completed"
    },
    "tags": []
   },
   "source": [
    "##### BACKTESTING\n",
    "###### Usando paquete backtesting.py"
   ]
  },
  {
   "cell_type": "code",
   "execution_count": 20,
   "id": "1f8ef78b-d223-4cd5-81ca-e55055976336",
   "metadata": {
    "execution": {
     "iopub.execute_input": "2025-06-11T17:43:07.913324Z",
     "iopub.status.busy": "2025-06-11T17:43:07.912819Z",
     "iopub.status.idle": "2025-06-11T17:43:07.921524Z",
     "shell.execute_reply": "2025-06-11T17:43:07.921046Z"
    },
    "papermill": {
     "duration": 0.020129,
     "end_time": "2025-06-11T17:43:07.922418",
     "exception": false,
     "start_time": "2025-06-11T17:43:07.902289",
     "status": "completed"
    },
    "tags": []
   },
   "outputs": [],
   "source": [
    "df_casos2 = df_casos.query(\"isBreakOutIni==1 or isBreakOutFinal==1\").copy()"
   ]
  },
  {
   "cell_type": "code",
   "execution_count": 21,
   "id": "9d491ebc-64db-40f7-9508-da2ef8dd5d70",
   "metadata": {
    "execution": {
     "iopub.execute_input": "2025-06-11T17:43:07.942230Z",
     "iopub.status.busy": "2025-06-11T17:43:07.942033Z",
     "iopub.status.idle": "2025-06-11T17:43:07.963033Z",
     "shell.execute_reply": "2025-06-11T17:43:07.962506Z"
    },
    "papermill": {
     "duration": 0.032033,
     "end_time": "2025-06-11T17:43:07.964062",
     "exception": false,
     "start_time": "2025-06-11T17:43:07.932029",
     "status": "completed"
    },
    "tags": []
   },
   "outputs": [],
   "source": [
    "# =============== BACKTESTING ================= #\n",
    "# obteniendo dataframe backtesting\n",
    "df_backTesting = pd.merge(df_hora_final, df_casos2[['datetime','companyName', 'isBreakOutIni','isBreakOutFinal','caso']], on = ['companyName','datetime'], how='left')\n",
    "# datos de trade se asigna una vela anterior debido a que backtesting.py toma entra como la siguiente vela\n",
    "df_backTesting['isBreakOutIni'] = df_backTesting['isBreakOutIni'].shift(-1)\n",
    "df_backTesting['isBreakOutFinal'] = df_backTesting['isBreakOutFinal'].shift(-1)\n",
    "#modificamos indice con el compo datetime\n",
    "df_backTesting.set_index('datetime', inplace=True)"
   ]
  },
  {
   "cell_type": "code",
   "execution_count": 22,
   "id": "573594ee-623b-4a80-97fb-4259a4f70b1f",
   "metadata": {
    "execution": {
     "iopub.execute_input": "2025-06-11T17:43:07.984729Z",
     "iopub.status.busy": "2025-06-11T17:43:07.984327Z",
     "iopub.status.idle": "2025-06-11T17:43:07.988296Z",
     "shell.execute_reply": "2025-06-11T17:43:07.987795Z"
    },
    "papermill": {
     "duration": 0.014947,
     "end_time": "2025-06-11T17:43:07.989162",
     "exception": false,
     "start_time": "2025-06-11T17:43:07.974215",
     "status": "completed"
    },
    "tags": []
   },
   "outputs": [],
   "source": [
    "#Strategia\n",
    "class strategyPisoFuerte(Strategy):    \n",
    "    def init(self):        \n",
    "        self.breakout_entry = self.I(lambda x: x, self.data.isBreakOutIni) #Indica la señal entrada al backtesting\n",
    "        self.breakout_exit = self.I(lambda x: x, self.data.isBreakOutFinal) #Indica la señal salida al backtesting\n",
    "\n",
    "    def next(self):       \n",
    "        if self.breakout_entry[-1] == 1:\n",
    "            self.buy()  #COMPRA\n",
    "        elif self.breakout_exit[-1] == 1 and self.position:\n",
    "            self.position.close() #CIERRE"
   ]
  },
  {
   "cell_type": "code",
   "execution_count": 23,
   "id": "e8511b1d-e075-4d93-96e4-989cbde8ce91",
   "metadata": {
    "execution": {
     "iopub.execute_input": "2025-06-11T17:43:08.009311Z",
     "iopub.status.busy": "2025-06-11T17:43:08.008859Z",
     "iopub.status.idle": "2025-06-11T17:43:09.822394Z",
     "shell.execute_reply": "2025-06-11T17:43:09.821747Z"
    },
    "papermill": {
     "duration": 1.824548,
     "end_time": "2025-06-11T17:43:09.823405",
     "exception": false,
     "start_time": "2025-06-11T17:43:07.998857",
     "status": "completed"
    },
    "tags": []
   },
   "outputs": [
    {
     "name": "stderr",
     "output_type": "stream",
     "text": [
      "\r",
      "Backtest.run:   0%|          | 0/2004 [00:00<?, ?bar/s]"
     ]
    },
    {
     "name": "stderr",
     "output_type": "stream",
     "text": [
      "\r",
      "                                                       "
     ]
    },
    {
     "name": "stderr",
     "output_type": "stream",
     "text": [
      "\r"
     ]
    },
    {
     "name": "stderr",
     "output_type": "stream",
     "text": [
      "\r",
      "Backtest.run:   0%|          | 0/2784 [00:00<?, ?bar/s]"
     ]
    },
    {
     "name": "stderr",
     "output_type": "stream",
     "text": [
      "\r",
      "                                                       "
     ]
    },
    {
     "name": "stderr",
     "output_type": "stream",
     "text": [
      "\r"
     ]
    },
    {
     "name": "stderr",
     "output_type": "stream",
     "text": [
      "\r",
      "Backtest.run:   0%|          | 0/2744 [00:00<?, ?bar/s]"
     ]
    },
    {
     "name": "stderr",
     "output_type": "stream",
     "text": [
      "/usr/share/miniconda/envs/test/lib/python3.10/site-packages/backtesting/backtesting.py:954: UserWarning: time=2448: Broker canceled the relative-sized order due to insufficient margin.\n",
      "  warnings.warn(\n",
      "\r",
      "                                                       "
     ]
    },
    {
     "name": "stderr",
     "output_type": "stream",
     "text": [
      "\r"
     ]
    },
    {
     "name": "stderr",
     "output_type": "stream",
     "text": [
      "\r",
      "Backtest.run:   0%|          | 0/2820 [00:00<?, ?bar/s]"
     ]
    },
    {
     "name": "stderr",
     "output_type": "stream",
     "text": [
      "\r",
      "                                                       "
     ]
    },
    {
     "name": "stderr",
     "output_type": "stream",
     "text": [
      "\r"
     ]
    },
    {
     "name": "stderr",
     "output_type": "stream",
     "text": [
      "\r",
      "Backtest.run:   0%|          | 0/2887 [00:00<?, ?bar/s]"
     ]
    },
    {
     "name": "stderr",
     "output_type": "stream",
     "text": [
      "\r",
      "                                                       "
     ]
    },
    {
     "name": "stderr",
     "output_type": "stream",
     "text": [
      "\r"
     ]
    },
    {
     "name": "stderr",
     "output_type": "stream",
     "text": [
      "\r",
      "Backtest.run:   0%|          | 0/2349 [00:00<?, ?bar/s]"
     ]
    },
    {
     "name": "stderr",
     "output_type": "stream",
     "text": [
      "\r",
      "                                                       "
     ]
    },
    {
     "name": "stderr",
     "output_type": "stream",
     "text": [
      "\r"
     ]
    },
    {
     "name": "stderr",
     "output_type": "stream",
     "text": [
      "\r",
      "Backtest.run:   0%|          | 0/2374 [00:00<?, ?bar/s]"
     ]
    },
    {
     "name": "stderr",
     "output_type": "stream",
     "text": [
      "\r",
      "                                                       "
     ]
    },
    {
     "name": "stderr",
     "output_type": "stream",
     "text": [
      "\r"
     ]
    },
    {
     "name": "stderr",
     "output_type": "stream",
     "text": [
      "\r",
      "Backtest.run:   0%|          | 0/2839 [00:00<?, ?bar/s]"
     ]
    },
    {
     "name": "stderr",
     "output_type": "stream",
     "text": [
      "\r",
      "                                                       "
     ]
    },
    {
     "name": "stderr",
     "output_type": "stream",
     "text": [
      "\r",
      "/tmp/ipykernel_2204/1362682110.py:34: FutureWarning: The behavior of DataFrame concatenation with empty or all-NA entries is deprecated. In a future version, this will no longer exclude empty or all-NA columns when determining the result dtypes. To retain the old behavior, exclude the relevant entries before the concat operation.\n",
      "  tradesprev = pd.concat([tradesprev, tradesdf],ignore_index=True)\n",
      "/tmp/ipykernel_2204/1362682110.py:35: FutureWarning: The behavior of DataFrame concatenation with empty or all-NA entries is deprecated. In a future version, this will no longer exclude empty or all-NA columns when determining the result dtypes. To retain the old behavior, exclude the relevant entries before the concat operation.\n",
      "  estadisticas=pd.concat([estadisticas, stat],ignore_index=True)\n"
     ]
    },
    {
     "name": "stderr",
     "output_type": "stream",
     "text": [
      "\r",
      "Backtest.run:   0%|          | 0/3401 [00:00<?, ?bar/s]"
     ]
    },
    {
     "name": "stderr",
     "output_type": "stream",
     "text": [
      "\r",
      "                                                       "
     ]
    },
    {
     "name": "stderr",
     "output_type": "stream",
     "text": [
      "\r"
     ]
    },
    {
     "name": "stderr",
     "output_type": "stream",
     "text": [
      "\r",
      "Backtest.run:   0%|          | 0/3165 [00:00<?, ?bar/s]"
     ]
    },
    {
     "name": "stderr",
     "output_type": "stream",
     "text": [
      "\r",
      "                                                       "
     ]
    },
    {
     "name": "stderr",
     "output_type": "stream",
     "text": [
      "\r"
     ]
    },
    {
     "name": "stderr",
     "output_type": "stream",
     "text": [
      "\r",
      "Backtest.run:   0%|          | 0/3073 [00:00<?, ?bar/s]"
     ]
    },
    {
     "name": "stderr",
     "output_type": "stream",
     "text": [
      "\r",
      "                                                       "
     ]
    },
    {
     "name": "stderr",
     "output_type": "stream",
     "text": [
      "\r"
     ]
    },
    {
     "name": "stderr",
     "output_type": "stream",
     "text": [
      "\r",
      "Backtest.run:   0%|          | 0/2429 [00:00<?, ?bar/s]"
     ]
    },
    {
     "name": "stderr",
     "output_type": "stream",
     "text": [
      "\r",
      "                                                       "
     ]
    },
    {
     "name": "stderr",
     "output_type": "stream",
     "text": [
      "\r"
     ]
    },
    {
     "name": "stderr",
     "output_type": "stream",
     "text": [
      "\r",
      "Backtest.run:   0%|          | 0/3174 [00:00<?, ?bar/s]"
     ]
    },
    {
     "name": "stderr",
     "output_type": "stream",
     "text": [
      "\r",
      "                                                       "
     ]
    },
    {
     "name": "stderr",
     "output_type": "stream",
     "text": [
      "\r"
     ]
    },
    {
     "name": "stderr",
     "output_type": "stream",
     "text": [
      "\r",
      "Backtest.run:   0%|          | 0/2794 [00:00<?, ?bar/s]"
     ]
    },
    {
     "name": "stderr",
     "output_type": "stream",
     "text": [
      "\r",
      "                                                       "
     ]
    },
    {
     "name": "stderr",
     "output_type": "stream",
     "text": [
      "\r"
     ]
    },
    {
     "name": "stderr",
     "output_type": "stream",
     "text": [
      "\r",
      "Backtest.run:   0%|          | 0/2781 [00:00<?, ?bar/s]"
     ]
    },
    {
     "name": "stderr",
     "output_type": "stream",
     "text": [
      "\r",
      "                                                       "
     ]
    },
    {
     "name": "stderr",
     "output_type": "stream",
     "text": [
      "\r"
     ]
    },
    {
     "name": "stderr",
     "output_type": "stream",
     "text": [
      "\r",
      "Backtest.run:   0%|          | 0/1961 [00:00<?, ?bar/s]"
     ]
    },
    {
     "name": "stderr",
     "output_type": "stream",
     "text": [
      "\r",
      "                                                       "
     ]
    },
    {
     "name": "stderr",
     "output_type": "stream",
     "text": [
      "\r"
     ]
    },
    {
     "name": "stderr",
     "output_type": "stream",
     "text": [
      "\r",
      "Backtest.run:   0%|          | 0/3235 [00:00<?, ?bar/s]"
     ]
    },
    {
     "name": "stderr",
     "output_type": "stream",
     "text": [
      "\r",
      "                                                       "
     ]
    },
    {
     "name": "stderr",
     "output_type": "stream",
     "text": [
      "\r"
     ]
    },
    {
     "name": "stderr",
     "output_type": "stream",
     "text": [
      "\r",
      "Backtest.run:   0%|          | 0/3405 [00:00<?, ?bar/s]"
     ]
    },
    {
     "name": "stderr",
     "output_type": "stream",
     "text": [
      "\r",
      "                                                       "
     ]
    },
    {
     "name": "stderr",
     "output_type": "stream",
     "text": [
      "\r"
     ]
    },
    {
     "name": "stderr",
     "output_type": "stream",
     "text": [
      "\r",
      "Backtest.run:   0%|          | 0/2427 [00:00<?, ?bar/s]"
     ]
    },
    {
     "name": "stderr",
     "output_type": "stream",
     "text": [
      "\r",
      "                                                       "
     ]
    },
    {
     "name": "stderr",
     "output_type": "stream",
     "text": [
      "\r"
     ]
    },
    {
     "name": "stderr",
     "output_type": "stream",
     "text": [
      "\r",
      "Backtest.run:   0%|          | 0/3306 [00:00<?, ?bar/s]"
     ]
    },
    {
     "name": "stderr",
     "output_type": "stream",
     "text": [
      "\r",
      "                                                       "
     ]
    },
    {
     "name": "stderr",
     "output_type": "stream",
     "text": [
      "\r"
     ]
    },
    {
     "name": "stderr",
     "output_type": "stream",
     "text": [
      "\r",
      "Backtest.run:   0%|          | 0/3139 [00:00<?, ?bar/s]"
     ]
    },
    {
     "name": "stderr",
     "output_type": "stream",
     "text": [
      "\r",
      "                                                       "
     ]
    },
    {
     "name": "stderr",
     "output_type": "stream",
     "text": [
      "\r"
     ]
    },
    {
     "name": "stderr",
     "output_type": "stream",
     "text": [
      "\r",
      "Backtest.run:   0%|          | 0/2456 [00:00<?, ?bar/s]"
     ]
    },
    {
     "name": "stderr",
     "output_type": "stream",
     "text": [
      "\r",
      "                                                       "
     ]
    },
    {
     "name": "stderr",
     "output_type": "stream",
     "text": [
      "\r"
     ]
    },
    {
     "name": "stderr",
     "output_type": "stream",
     "text": [
      "\r",
      "Backtest.run:   0%|          | 0/2832 [00:00<?, ?bar/s]"
     ]
    },
    {
     "name": "stderr",
     "output_type": "stream",
     "text": [
      "\r",
      "                                                       "
     ]
    },
    {
     "name": "stderr",
     "output_type": "stream",
     "text": [
      "\r"
     ]
    },
    {
     "name": "stderr",
     "output_type": "stream",
     "text": [
      "\r",
      "Backtest.run:   0%|          | 0/3011 [00:00<?, ?bar/s]"
     ]
    },
    {
     "name": "stderr",
     "output_type": "stream",
     "text": [
      "\r",
      "                                                       "
     ]
    },
    {
     "name": "stderr",
     "output_type": "stream",
     "text": [
      "\r"
     ]
    },
    {
     "name": "stderr",
     "output_type": "stream",
     "text": [
      "\r",
      "Backtest.run:   0%|          | 0/3440 [00:00<?, ?bar/s]"
     ]
    },
    {
     "name": "stderr",
     "output_type": "stream",
     "text": [
      "\r",
      "                                                       "
     ]
    },
    {
     "name": "stderr",
     "output_type": "stream",
     "text": [
      "\r"
     ]
    },
    {
     "name": "stderr",
     "output_type": "stream",
     "text": [
      "\r",
      "Backtest.run:   0%|          | 0/3190 [00:00<?, ?bar/s]"
     ]
    },
    {
     "name": "stderr",
     "output_type": "stream",
     "text": [
      "\r",
      "                                                       "
     ]
    },
    {
     "name": "stderr",
     "output_type": "stream",
     "text": [
      "\r"
     ]
    },
    {
     "name": "stderr",
     "output_type": "stream",
     "text": [
      "\r",
      "Backtest.run:   0%|          | 0/3146 [00:00<?, ?bar/s]"
     ]
    },
    {
     "name": "stderr",
     "output_type": "stream",
     "text": [
      "\r",
      "                                                       "
     ]
    },
    {
     "name": "stderr",
     "output_type": "stream",
     "text": [
      "\r"
     ]
    },
    {
     "name": "stderr",
     "output_type": "stream",
     "text": [
      "\r",
      "Backtest.run:   0%|          | 0/407 [00:00<?, ?bar/s]"
     ]
    },
    {
     "name": "stderr",
     "output_type": "stream",
     "text": [
      "\r",
      "                                                      "
     ]
    },
    {
     "name": "stderr",
     "output_type": "stream",
     "text": [
      "\r",
      "/tmp/ipykernel_2204/1362682110.py:34: FutureWarning: The behavior of DataFrame concatenation with empty or all-NA entries is deprecated. In a future version, this will no longer exclude empty or all-NA columns when determining the result dtypes. To retain the old behavior, exclude the relevant entries before the concat operation.\n",
      "  tradesprev = pd.concat([tradesprev, tradesdf],ignore_index=True)\n",
      "/tmp/ipykernel_2204/1362682110.py:35: FutureWarning: The behavior of DataFrame concatenation with empty or all-NA entries is deprecated. In a future version, this will no longer exclude empty or all-NA columns when determining the result dtypes. To retain the old behavior, exclude the relevant entries before the concat operation.\n",
      "  estadisticas=pd.concat([estadisticas, stat],ignore_index=True)\n"
     ]
    },
    {
     "name": "stderr",
     "output_type": "stream",
     "text": [
      "\r",
      "Backtest.run:   0%|          | 0/3182 [00:00<?, ?bar/s]"
     ]
    },
    {
     "name": "stderr",
     "output_type": "stream",
     "text": [
      "\r",
      "                                                       "
     ]
    },
    {
     "name": "stderr",
     "output_type": "stream",
     "text": [
      "\r"
     ]
    },
    {
     "name": "stderr",
     "output_type": "stream",
     "text": [
      "\r",
      "Backtest.run:   0%|          | 0/3361 [00:00<?, ?bar/s]"
     ]
    },
    {
     "name": "stderr",
     "output_type": "stream",
     "text": [
      "\r",
      "                                                       "
     ]
    },
    {
     "name": "stderr",
     "output_type": "stream",
     "text": [
      "\r"
     ]
    },
    {
     "name": "stderr",
     "output_type": "stream",
     "text": [
      "\r",
      "Backtest.run:   0%|          | 0/3391 [00:00<?, ?bar/s]"
     ]
    },
    {
     "name": "stderr",
     "output_type": "stream",
     "text": [
      "\r",
      "                                                       "
     ]
    },
    {
     "name": "stderr",
     "output_type": "stream",
     "text": [
      "\r"
     ]
    },
    {
     "name": "stderr",
     "output_type": "stream",
     "text": [
      "\r",
      "Backtest.run:   0%|          | 0/1437 [00:00<?, ?bar/s]"
     ]
    },
    {
     "name": "stderr",
     "output_type": "stream",
     "text": [
      "\r",
      "                                                       "
     ]
    },
    {
     "name": "stderr",
     "output_type": "stream",
     "text": [
      "\r"
     ]
    },
    {
     "name": "stderr",
     "output_type": "stream",
     "text": [
      "\r",
      "Backtest.run:   0%|          | 0/3211 [00:00<?, ?bar/s]"
     ]
    },
    {
     "name": "stderr",
     "output_type": "stream",
     "text": [
      "/usr/share/miniconda/envs/test/lib/python3.10/site-packages/backtesting/backtesting.py:954: UserWarning: time=993: Broker canceled the relative-sized order due to insufficient margin.\n",
      "  warnings.warn(\n"
     ]
    },
    {
     "name": "stderr",
     "output_type": "stream",
     "text": [
      "\r",
      "                                                       "
     ]
    },
    {
     "name": "stderr",
     "output_type": "stream",
     "text": [
      "\r"
     ]
    }
   ],
   "source": [
    "# Por cada TIcket\n",
    "my_stats = {}\n",
    "estadisticas = pd.DataFrame()          # lista para ticker\n",
    "tradesprev = pd.DataFrame()     # lista para cada caso por ticker\n",
    "for ticker in df_backTesting['companyName'].unique():\n",
    "    ticker_data = df_backTesting[df_backTesting['companyName'] == ticker].copy() #Filtro por cada ticker\n",
    "    bt = Backtest(ticker_data, strategyPisoFuerte, cash=10_000)\n",
    "    my_stats = bt.run()\n",
    "    listTrades = my_stats['_trades']\n",
    "    tradesdf = pd.DataFrame(listTrades) #trades\n",
    "    tradesdf['Ticker'] = ticker\n",
    "    stats_filter={\n",
    "        'Ticker':ticker,\n",
    "        'EntryTime':my_stats['Start'],\n",
    "        'ExitTime':my_stats['End'],\n",
    "        'Return [%]': my_stats['Return [%]'],\n",
    "        'CAGR [%]': my_stats['Return (Ann.) [%]'],\n",
    "        'Sharpe Ratio': my_stats['Sharpe Ratio'],\n",
    "        'Max. Drawdown [%]': my_stats['Max. Drawdown [%]'],\n",
    "        'Win Rate [%]': my_stats['Win Rate [%]'],\n",
    "        '# Trades': my_stats['# Trades'],\n",
    "        'Expectancy [%]': my_stats['Expectancy [%]'],\n",
    "        'Profit Factor': my_stats['Profit Factor'],\n",
    "        'Duration': my_stats['Duration'],\n",
    "        'Avg. Trade [%]':my_stats['Avg. Trade [%]'],\n",
    "        'Max. Trade Duration':my_stats['Max. Trade Duration'],\n",
    "        'Avg. Trade Duration':my_stats['Avg. Trade Duration']\n",
    "    }\n",
    "    stat=pd.DataFrame([stats_filter])\n",
    "    if tradesprev.shape[0]==0:\n",
    "        tradesprev = tradesdf.copy()\n",
    "        estadisticas=stat.copy()\n",
    "    else:\n",
    "        tradesprev = pd.concat([tradesprev, tradesdf],ignore_index=True)\n",
    "        estadisticas=pd.concat([estadisticas, stat],ignore_index=True)\n",
    "    # Mostramos\n",
    "    #bt.plot(resample=False, filename=f\"plot_BreakOUT_{ticker}\")"
   ]
  },
  {
   "cell_type": "code",
   "execution_count": 24,
   "id": "5227501d-6b0d-47c6-9c69-d788c10f2fbf",
   "metadata": {
    "execution": {
     "iopub.execute_input": "2025-06-11T17:43:09.850959Z",
     "iopub.status.busy": "2025-06-11T17:43:09.850468Z",
     "iopub.status.idle": "2025-06-11T17:43:09.857270Z",
     "shell.execute_reply": "2025-06-11T17:43:09.856765Z"
    },
    "papermill": {
     "duration": 0.021385,
     "end_time": "2025-06-11T17:43:09.858132",
     "exception": false,
     "start_time": "2025-06-11T17:43:09.836747",
     "status": "completed"
    },
    "tags": []
   },
   "outputs": [],
   "source": [
    "ini = df_casos2[(df_casos2['isBreakOutIni']==1)].copy()\n",
    "df_casos3_ini=ini.rename(columns={'Open': 'EntryPrice', 'datetime': 'EntryTime', 'companyName': 'Ticker'})[['EntryPrice','Ticker','caso','EntryTime']]\n",
    "final = df_casos2[(df_casos2['isBreakOutFinal']==1)].copy()\n",
    "df_casos3_final=final.rename(columns={'Open': 'ExitPrice', 'datetime': 'ExitTime', 'companyName': 'Ticker'})[['ExitPrice','Ticker','caso','ExitTime']]"
   ]
  },
  {
   "cell_type": "code",
   "execution_count": 25,
   "id": "665ebabb-cb9a-4bc1-86e5-a104dfd1496e",
   "metadata": {
    "execution": {
     "iopub.execute_input": "2025-06-11T17:43:09.885366Z",
     "iopub.status.busy": "2025-06-11T17:43:09.884960Z",
     "iopub.status.idle": "2025-06-11T17:43:09.890446Z",
     "shell.execute_reply": "2025-06-11T17:43:09.889985Z"
    },
    "papermill": {
     "duration": 0.020032,
     "end_time": "2025-06-11T17:43:09.891330",
     "exception": false,
     "start_time": "2025-06-11T17:43:09.871298",
     "status": "completed"
    },
    "tags": []
   },
   "outputs": [],
   "source": [
    "df_casos3=df_casos3_ini.merge(df_casos3_final,on=['Ticker','caso'],how='outer')"
   ]
  },
  {
   "cell_type": "code",
   "execution_count": 26,
   "id": "97d478f6-89ca-4f57-a323-74e71b972187",
   "metadata": {
    "execution": {
     "iopub.execute_input": "2025-06-11T17:43:09.918891Z",
     "iopub.status.busy": "2025-06-11T17:43:09.918603Z",
     "iopub.status.idle": "2025-06-11T17:43:09.925175Z",
     "shell.execute_reply": "2025-06-11T17:43:09.924678Z"
    },
    "papermill": {
     "duration": 0.021298,
     "end_time": "2025-06-11T17:43:09.925975",
     "exception": false,
     "start_time": "2025-06-11T17:43:09.904677",
     "status": "completed"
    },
    "tags": []
   },
   "outputs": [],
   "source": [
    "trades = pd.merge(df_casos3, tradesprev, on = ['EntryTime','Ticker'], how='left')"
   ]
  },
  {
   "cell_type": "code",
   "execution_count": 27,
   "id": "0d09c951-126d-46ed-896c-dc0ad6c35058",
   "metadata": {
    "execution": {
     "iopub.execute_input": "2025-06-11T17:43:09.953639Z",
     "iopub.status.busy": "2025-06-11T17:43:09.953357Z",
     "iopub.status.idle": "2025-06-11T17:43:09.959461Z",
     "shell.execute_reply": "2025-06-11T17:43:09.958952Z"
    },
    "papermill": {
     "duration": 0.020902,
     "end_time": "2025-06-11T17:43:09.960325",
     "exception": false,
     "start_time": "2025-06-11T17:43:09.939423",
     "status": "completed"
    },
    "tags": []
   },
   "outputs": [],
   "source": [
    "def exitPrice(x):\n",
    "    if pd.isna(x['ExitPrice_x']):\n",
    "        return x['ExitPrice_y']\n",
    "    else:\n",
    "        return x['ExitPrice_x']\n",
    "trades['ExitPrice'] = trades.apply(lambda row: exitPrice(row), axis=1)"
   ]
  },
  {
   "cell_type": "code",
   "execution_count": 28,
   "id": "259a2845-bb98-4b60-a8ee-e3b553741564",
   "metadata": {
    "execution": {
     "iopub.execute_input": "2025-06-11T17:43:10.003271Z",
     "iopub.status.busy": "2025-06-11T17:43:10.002710Z",
     "iopub.status.idle": "2025-06-11T17:43:10.007403Z",
     "shell.execute_reply": "2025-06-11T17:43:10.006884Z"
    },
    "papermill": {
     "duration": 0.034567,
     "end_time": "2025-06-11T17:43:10.008261",
     "exception": false,
     "start_time": "2025-06-11T17:43:09.973694",
     "status": "completed"
    },
    "tags": []
   },
   "outputs": [],
   "source": [
    "trades = trades.rename(columns={'EntryPrice_x': 'EntryPrice'})\n",
    "trades = trades.drop(['EntryPrice_y','ExitPrice_x', 'ExitPrice_y'], axis=1)"
   ]
  },
  {
   "cell_type": "code",
   "execution_count": 29,
   "id": "97c42ae5-be6d-4934-8442-8a35530eeab3",
   "metadata": {
    "execution": {
     "iopub.execute_input": "2025-06-11T17:43:10.035858Z",
     "iopub.status.busy": "2025-06-11T17:43:10.035627Z",
     "iopub.status.idle": "2025-06-11T17:43:10.041549Z",
     "shell.execute_reply": "2025-06-11T17:43:10.040976Z"
    },
    "papermill": {
     "duration": 0.020665,
     "end_time": "2025-06-11T17:43:10.042463",
     "exception": false,
     "start_time": "2025-06-11T17:43:10.021798",
     "status": "completed"
    },
    "tags": []
   },
   "outputs": [],
   "source": [
    "def exitTime(x):\n",
    "    if pd.isna(x['ExitTime_x']):\n",
    "        return x['ExitTime_y']\n",
    "    else:\n",
    "        return x['ExitTime_x']\n",
    "trades['ExitTime'] = trades.apply(lambda row: exitTime(row), axis=1)"
   ]
  },
  {
   "cell_type": "code",
   "execution_count": 30,
   "id": "929dd667-1188-4b3e-800c-7299558c0c7e",
   "metadata": {
    "execution": {
     "iopub.execute_input": "2025-06-11T17:43:10.070123Z",
     "iopub.status.busy": "2025-06-11T17:43:10.069685Z",
     "iopub.status.idle": "2025-06-11T17:43:10.078253Z",
     "shell.execute_reply": "2025-06-11T17:43:10.077670Z"
    },
    "papermill": {
     "duration": 0.023344,
     "end_time": "2025-06-11T17:43:10.079154",
     "exception": false,
     "start_time": "2025-06-11T17:43:10.055810",
     "status": "completed"
    },
    "tags": []
   },
   "outputs": [],
   "source": [
    "def duration(x):\n",
    "    if pd.isna(x['Duration']):\n",
    "        if pd.isna(x['ExitTime']):\n",
    "            return pd.NaT\n",
    "        else:\n",
    "            return x['ExitTime']-x['EntryTime']\n",
    "    else:\n",
    "        return x['Duration']\n",
    "trades['Duration'] = trades.apply(lambda row: duration(row), axis=1)"
   ]
  },
  {
   "cell_type": "code",
   "execution_count": 31,
   "id": "ec29de7e-f261-48a2-b6ab-006b7c508ab6",
   "metadata": {
    "execution": {
     "iopub.execute_input": "2025-06-11T17:43:10.107179Z",
     "iopub.status.busy": "2025-06-11T17:43:10.106793Z",
     "iopub.status.idle": "2025-06-11T17:43:10.110694Z",
     "shell.execute_reply": "2025-06-11T17:43:10.110199Z"
    },
    "papermill": {
     "duration": 0.018783,
     "end_time": "2025-06-11T17:43:10.111480",
     "exception": false,
     "start_time": "2025-06-11T17:43:10.092697",
     "status": "completed"
    },
    "tags": []
   },
   "outputs": [],
   "source": [
    "trades = trades.drop(['ExitTime_x', 'ExitTime_y'], axis=1)"
   ]
  },
  {
   "cell_type": "code",
   "execution_count": 32,
   "id": "f0ce0242-c9b1-4dd1-aa39-fe17bd507bfb",
   "metadata": {
    "execution": {
     "iopub.execute_input": "2025-06-11T17:43:10.139262Z",
     "iopub.status.busy": "2025-06-11T17:43:10.139028Z",
     "iopub.status.idle": "2025-06-11T17:43:10.142712Z",
     "shell.execute_reply": "2025-06-11T17:43:10.142223Z"
    },
    "papermill": {
     "duration": 0.018512,
     "end_time": "2025-06-11T17:43:10.143504",
     "exception": false,
     "start_time": "2025-06-11T17:43:10.124992",
     "status": "completed"
    },
    "tags": []
   },
   "outputs": [],
   "source": [
    "trades=trades[['Ticker','EntryTime','ExitTime','EntryPrice','ExitPrice','Duration','Size','EntryBar','ExitBar','ReturnPct','caso']]"
   ]
  },
  {
   "cell_type": "code",
   "execution_count": 33,
   "id": "5e82ec1f",
   "metadata": {
    "execution": {
     "iopub.execute_input": "2025-06-11T17:43:10.171396Z",
     "iopub.status.busy": "2025-06-11T17:43:10.171151Z",
     "iopub.status.idle": "2025-06-11T17:43:10.196746Z",
     "shell.execute_reply": "2025-06-11T17:43:10.196129Z"
    },
    "papermill": {
     "duration": 0.040478,
     "end_time": "2025-06-11T17:43:10.197579",
     "exception": false,
     "start_time": "2025-06-11T17:43:10.157101",
     "status": "completed"
    },
    "tags": []
   },
   "outputs": [],
   "source": [
    "for item in estadisticas['Ticker'].unique():\n",
    "    count = trades[trades[\"Ticker\"] == item].shape[0]\n",
    "    estadisticas.loc[estadisticas['Ticker'] == item, '# Trades'] = count"
   ]
  },
  {
   "cell_type": "code",
   "execution_count": 34,
   "id": "84c95d67-0c03-4025-bb3b-abfa3f8e0535",
   "metadata": {
    "execution": {
     "iopub.execute_input": "2025-06-11T17:43:10.226107Z",
     "iopub.status.busy": "2025-06-11T17:43:10.225667Z",
     "iopub.status.idle": "2025-06-11T17:43:10.236274Z",
     "shell.execute_reply": "2025-06-11T17:43:10.235754Z"
    },
    "papermill": {
     "duration": 0.025727,
     "end_time": "2025-06-11T17:43:10.237182",
     "exception": false,
     "start_time": "2025-06-11T17:43:10.211455",
     "status": "completed"
    },
    "tags": []
   },
   "outputs": [],
   "source": [
    "path = 'data/backtesting'\n",
    "\n",
    "os.makedirs(path, exist_ok=True)\n",
    "\n",
    "path_trades = os.path.join(path, 'trades_pfuerte.txt')\n",
    "path_estadisticas = os.path.join(path, 'estadisticas_pfuerte.txt')\n",
    "\n",
    "for file_path in [path_trades, path_estadisticas]:\n",
    "    if os.path.exists(file_path):\n",
    "        os.remove(file_path)\n",
    "    else:\n",
    "        print(f\"File does not exist: {file_path}. It will be created.\")\n",
    "\n",
    "trades.to_csv(path_trades, header=True, index=False, sep='\\t', mode='w')\n",
    "estadisticas.to_csv(path_estadisticas, header=True, index=False, sep='\\t', mode='w')"
   ]
  }
 ],
 "metadata": {
  "kernelspec": {
   "display_name": "Python [conda env:base] *",
   "language": "python",
   "name": "conda-base-py"
  },
  "language_info": {
   "codemirror_mode": {
    "name": "ipython",
    "version": 3
   },
   "file_extension": ".py",
   "mimetype": "text/x-python",
   "name": "python",
   "nbconvert_exporter": "python",
   "pygments_lexer": "ipython3",
   "version": "3.10.18"
  },
  "papermill": {
   "default_parameters": {},
   "duration": 41.170973,
   "end_time": "2025-06-11T17:43:10.767115",
   "environment_variables": {},
   "exception": null,
   "input_path": "pisoFuerte.ipynb",
   "output_path": "output/pisoFuerte.ipynb",
   "parameters": {},
   "start_time": "2025-06-11T17:42:29.596142",
   "version": "2.6.0"
  }
 },
 "nbformat": 4,
 "nbformat_minor": 5
}