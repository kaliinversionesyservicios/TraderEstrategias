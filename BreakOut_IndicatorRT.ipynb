{
 "cells": [
  {
   "cell_type": "markdown",
   "id": "696c10a4",
   "metadata": {},
   "source": [
    "# Channel Break Out Detection"
   ]
  },
  {
   "cell_type": "markdown",
   "id": "3362e727",
   "metadata": {},
   "source": [
    "## Import Data\n",
    "##### 1. Determinar puntos de cambios de tendencia\n",
    "##### 2. Con los valores high determinar la linea de tendencia bajista\n",
    "##### 3. Determinar el punto de ruptura del canal, mas que todo la tendcia techo (canal bajista)\n",
    "##### 4. Determinar manipulacion del mercado y falsa ruptura"
   ]
  },
  {
   "cell_type": "code",
   "execution_count": 1,
   "id": "e0c512aa",
   "metadata": {},
   "outputs": [
    {
     "name": "stderr",
     "output_type": "stream",
     "text": [
      "c:\\Users\\carlo\\anaconda3\\Lib\\site-packages\\backtesting\\_plotting.py:55: UserWarning: Jupyter Notebook detected. Setting Bokeh output to notebook. This may not work in Jupyter clients without JavaScript support, such as old IDEs. Reset with `backtesting.set_bokeh_output(notebook=False)`.\n",
      "  warnings.warn('Jupyter Notebook detected. '\n"
     ]
    },
    {
     "data": {
      "text/html": [
       "    <style>\n",
       "        .bk-notebook-logo {\n",
       "            display: block;\n",
       "            width: 20px;\n",
       "            height: 20px;\n",
       "            background-image: url(data:image/png;base64,iVBORw0KGgoAAAANSUhEUgAAABQAAAAUCAYAAACNiR0NAAAABHNCSVQICAgIfAhkiAAAAAlwSFlzAAALEgAACxIB0t1+/AAAABx0RVh0U29mdHdhcmUAQWRvYmUgRmlyZXdvcmtzIENTNui8sowAAAOkSURBVDiNjZRtaJVlGMd/1/08zzln5zjP1LWcU9N0NkN8m2CYjpgQYQXqSs0I84OLIC0hkEKoPtiH3gmKoiJDU7QpLgoLjLIQCpEsNJ1vqUOdO7ppbuec5+V+rj4ctwzd8IIbbi6u+8f1539dt3A78eXC7QizUF7gyV1fD1Yqg4JWz84yffhm0qkFqBogB9rM8tZdtwVsPUhWhGcFJngGeWrPzHm5oaMmkfEg1usvLFyc8jLRqDOMru7AyC8saQr7GG7f5fvDeH7Ej8CM66nIF+8yngt6HWaKh7k49Soy9nXurCi1o3qUbS3zWfrYeQDTB/Qj6kX6Ybhw4B+bOYoLKCC9H3Nu/leUTZ1JdRWkkn2ldcCamzrcf47KKXdAJllSlxAOkRgyHsGC/zRday5Qld9DyoM4/q/rUoy/CXh3jzOu3bHUVZeU+DEn8FInkPBFlu3+nW3Nw0mk6vCDiWg8CeJaxEwuHS3+z5RgY+YBR6V1Z1nxSOfoaPa4LASWxxdNp+VWTk7+4vzaou8v8PN+xo+KY2xsw6une2frhw05CTYOmQvsEhjhWjn0bmXPjpE1+kplmmkP3suftwTubK9Vq22qKmrBhpY4jvd5afdRA3wGjFAgcnTK2s4hY0/GPNIb0nErGMCRxWOOX64Z8RAC4oCXdklmEvcL8o0BfkNK4lUg9HTl+oPlQxdNo3Mg4Nv175e/1LDGzZen30MEjRUtmXSfiTVu1kK8W4txyV6BMKlbgk3lMwYCiusNy9fVfvvwMxv8Ynl6vxoByANLTWplvuj/nF9m2+PDtt1eiHPBr1oIfhCChQMBw6Aw0UulqTKZdfVvfG7VcfIqLG9bcldL/+pdWTLxLUy8Qq38heUIjh4XlzZxzQm19lLFlr8vdQ97rjZVOLf8nclzckbcD4wxXMidpX30sFd37Fv/GtwwhzhxGVAprjbg0gCAEeIgwCZyTV2Z1REEW8O4py0wsjeloKoMr6iCY6dP92H6Vw/oTyICIthibxjm/DfN9lVz8IqtqKYLUXfoKVMVQVVJOElGjrnnUt9T9wbgp8AyYKaGlqingHZU/uG2NTZSVqwHQTWkx9hxjkpWDaCg6Ckj5qebgBVbT3V3NNXMSiWSDdGV3hrtzla7J+duwPOToIg42ChPQOQjspnSlp1V+Gjdged7+8UN5CRAV7a5EdFNwCjEaBR27b3W890TE7g24NAP/mMDXRWrGoFPQI9ls/MWO2dWFAar/xcOIImbbpA3zgAAAABJRU5ErkJggg==);\n",
       "        }\n",
       "    </style>\n",
       "    <div>\n",
       "        <a href=\"https://bokeh.org\" target=\"_blank\" class=\"bk-notebook-logo\"></a>\n",
       "        <span id=\"f2807600-2f0b-4c88-a0ab-ddf37edebe5d\">Loading BokehJS ...</span>\n",
       "    </div>\n"
      ]
     },
     "metadata": {},
     "output_type": "display_data"
    },
    {
     "data": {
      "application/javascript": "'use strict';\n(function(root) {\n  function now() {\n    return new Date();\n  }\n\n  const force = true;\n\n  if (typeof root._bokeh_onload_callbacks === \"undefined\" || force === true) {\n    root._bokeh_onload_callbacks = [];\n    root._bokeh_is_loading = undefined;\n  }\n\nconst JS_MIME_TYPE = 'application/javascript';\n  const HTML_MIME_TYPE = 'text/html';\n  const EXEC_MIME_TYPE = 'application/vnd.bokehjs_exec.v0+json';\n  const CLASS_NAME = 'output_bokeh rendered_html';\n\n  /**\n   * Render data to the DOM node\n   */\n  function render(props, node) {\n    const script = document.createElement(\"script\");\n    node.appendChild(script);\n  }\n\n  /**\n   * Handle when an output is cleared or removed\n   */\n  function handleClearOutput(event, handle) {\n    function drop(id) {\n      const view = Bokeh.index.get_by_id(id)\n      if (view != null) {\n        view.model.document.clear()\n        Bokeh.index.delete(view)\n      }\n    }\n\n    const cell = handle.cell;\n\n    const id = cell.output_area._bokeh_element_id;\n    const server_id = cell.output_area._bokeh_server_id;\n\n    // Clean up Bokeh references\n    if (id != null) {\n      drop(id)\n    }\n\n    if (server_id !== undefined) {\n      // Clean up Bokeh references\n      const cmd_clean = \"from bokeh.io.state import curstate; print(curstate().uuid_to_server['\" + server_id + \"'].get_sessions()[0].document.roots[0]._id)\";\n      cell.notebook.kernel.execute(cmd_clean, {\n        iopub: {\n          output: function(msg) {\n            const id = msg.content.text.trim()\n            drop(id)\n          }\n        }\n      });\n      // Destroy server and session\n      const cmd_destroy = \"import bokeh.io.notebook as ion; ion.destroy_server('\" + server_id + \"')\";\n      cell.notebook.kernel.execute(cmd_destroy);\n    }\n  }\n\n  /**\n   * Handle when a new output is added\n   */\n  function handleAddOutput(event, handle) {\n    const output_area = handle.output_area;\n    const output = handle.output;\n\n    // limit handleAddOutput to display_data with EXEC_MIME_TYPE content only\n    if ((output.output_type != \"display_data\") || (!Object.prototype.hasOwnProperty.call(output.data, EXEC_MIME_TYPE))) {\n      return\n    }\n\n    const toinsert = output_area.element.find(\".\" + CLASS_NAME.split(' ')[0]);\n\n    if (output.metadata[EXEC_MIME_TYPE][\"id\"] !== undefined) {\n      toinsert[toinsert.length - 1].firstChild.textContent = output.data[JS_MIME_TYPE];\n      // store reference to embed id on output_area\n      output_area._bokeh_element_id = output.metadata[EXEC_MIME_TYPE][\"id\"];\n    }\n    if (output.metadata[EXEC_MIME_TYPE][\"server_id\"] !== undefined) {\n      const bk_div = document.createElement(\"div\");\n      bk_div.innerHTML = output.data[HTML_MIME_TYPE];\n      const script_attrs = bk_div.children[0].attributes;\n      for (let i = 0; i < script_attrs.length; i++) {\n        toinsert[toinsert.length - 1].firstChild.setAttribute(script_attrs[i].name, script_attrs[i].value);\n        toinsert[toinsert.length - 1].firstChild.textContent = bk_div.children[0].textContent\n      }\n      // store reference to server id on output_area\n      output_area._bokeh_server_id = output.metadata[EXEC_MIME_TYPE][\"server_id\"];\n    }\n  }\n\n  function register_renderer(events, OutputArea) {\n\n    function append_mime(data, metadata, element) {\n      // create a DOM node to render to\n      const toinsert = this.create_output_subarea(\n        metadata,\n        CLASS_NAME,\n        EXEC_MIME_TYPE\n      );\n      this.keyboard_manager.register_events(toinsert);\n      // Render to node\n      const props = {data: data, metadata: metadata[EXEC_MIME_TYPE]};\n      render(props, toinsert[toinsert.length - 1]);\n      element.append(toinsert);\n      return toinsert\n    }\n\n    /* Handle when an output is cleared or removed */\n    events.on('clear_output.CodeCell', handleClearOutput);\n    events.on('delete.Cell', handleClearOutput);\n\n    /* Handle when a new output is added */\n    events.on('output_added.OutputArea', handleAddOutput);\n\n    /**\n     * Register the mime type and append_mime function with output_area\n     */\n    OutputArea.prototype.register_mime_type(EXEC_MIME_TYPE, append_mime, {\n      /* Is output safe? */\n      safe: true,\n      /* Index of renderer in `output_area.display_order` */\n      index: 0\n    });\n  }\n\n  // register the mime type if in Jupyter Notebook environment and previously unregistered\n  if (root.Jupyter !== undefined) {\n    const events = require('base/js/events');\n    const OutputArea = require('notebook/js/outputarea').OutputArea;\n\n    if (OutputArea.prototype.mime_types().indexOf(EXEC_MIME_TYPE) == -1) {\n      register_renderer(events, OutputArea);\n    }\n  }\n  if (typeof (root._bokeh_timeout) === \"undefined\" || force === true) {\n    root._bokeh_timeout = Date.now() + 5000;\n    root._bokeh_failed_load = false;\n  }\n\n  const NB_LOAD_WARNING = {'data': {'text/html':\n     \"<div style='background-color: #fdd'>\\n\"+\n     \"<p>\\n\"+\n     \"BokehJS does not appear to have successfully loaded. If loading BokehJS from CDN, this \\n\"+\n     \"may be due to a slow or bad network connection. Possible fixes:\\n\"+\n     \"</p>\\n\"+\n     \"<ul>\\n\"+\n     \"<li>re-rerun `output_notebook()` to attempt to load from CDN again, or</li>\\n\"+\n     \"<li>use INLINE resources instead, as so:</li>\\n\"+\n     \"</ul>\\n\"+\n     \"<code>\\n\"+\n     \"from bokeh.resources import INLINE\\n\"+\n     \"output_notebook(resources=INLINE)\\n\"+\n     \"</code>\\n\"+\n     \"</div>\"}};\n\n  function display_loaded(error = null) {\n    const el = document.getElementById(\"f2807600-2f0b-4c88-a0ab-ddf37edebe5d\");\n    if (el != null) {\n      const html = (() => {\n        if (typeof root.Bokeh === \"undefined\") {\n          if (error == null) {\n            return \"BokehJS is loading ...\";\n          } else {\n            return \"BokehJS failed to load.\";\n          }\n        } else {\n          const prefix = `BokehJS ${root.Bokeh.version}`;\n          if (error == null) {\n            return `${prefix} successfully loaded.`;\n          } else {\n            return `${prefix} <b>encountered errors</b> while loading and may not function as expected.`;\n          }\n        }\n      })();\n      el.innerHTML = html;\n\n      if (error != null) {\n        const wrapper = document.createElement(\"div\");\n        wrapper.style.overflow = \"auto\";\n        wrapper.style.height = \"5em\";\n        wrapper.style.resize = \"vertical\";\n        const content = document.createElement(\"div\");\n        content.style.fontFamily = \"monospace\";\n        content.style.whiteSpace = \"pre-wrap\";\n        content.style.backgroundColor = \"rgb(255, 221, 221)\";\n        content.textContent = error.stack ?? error.toString();\n        wrapper.append(content);\n        el.append(wrapper);\n      }\n    } else if (Date.now() < root._bokeh_timeout) {\n      setTimeout(() => display_loaded(error), 100);\n    }\n  }\n\n  function run_callbacks() {\n    try {\n      root._bokeh_onload_callbacks.forEach(function(callback) {\n        if (callback != null)\n          callback();\n      });\n    } finally {\n      delete root._bokeh_onload_callbacks\n    }\n    console.debug(\"Bokeh: all callbacks have finished\");\n  }\n\n  function load_libs(css_urls, js_urls, callback) {\n    if (css_urls == null) css_urls = [];\n    if (js_urls == null) js_urls = [];\n\n    root._bokeh_onload_callbacks.push(callback);\n    if (root._bokeh_is_loading > 0) {\n      console.debug(\"Bokeh: BokehJS is being loaded, scheduling callback at\", now());\n      return null;\n    }\n    if (js_urls == null || js_urls.length === 0) {\n      run_callbacks();\n      return null;\n    }\n    console.debug(\"Bokeh: BokehJS not loaded, scheduling load and callback at\", now());\n    root._bokeh_is_loading = css_urls.length + js_urls.length;\n\n    function on_load() {\n      root._bokeh_is_loading--;\n      if (root._bokeh_is_loading === 0) {\n        console.debug(\"Bokeh: all BokehJS libraries/stylesheets loaded\");\n        run_callbacks()\n      }\n    }\n\n    function on_error(url) {\n      console.error(\"failed to load \" + url);\n    }\n\n    for (let i = 0; i < css_urls.length; i++) {\n      const url = css_urls[i];\n      const element = document.createElement(\"link\");\n      element.onload = on_load;\n      element.onerror = on_error.bind(null, url);\n      element.rel = \"stylesheet\";\n      element.type = \"text/css\";\n      element.href = url;\n      console.debug(\"Bokeh: injecting link tag for BokehJS stylesheet: \", url);\n      document.body.appendChild(element);\n    }\n\n    for (let i = 0; i < js_urls.length; i++) {\n      const url = js_urls[i];\n      const element = document.createElement('script');\n      element.onload = on_load;\n      element.onerror = on_error.bind(null, url);\n      element.async = false;\n      element.src = url;\n      console.debug(\"Bokeh: injecting script tag for BokehJS library: \", url);\n      document.head.appendChild(element);\n    }\n  };\n\n  function inject_raw_css(css) {\n    const element = document.createElement(\"style\");\n    element.appendChild(document.createTextNode(css));\n    document.body.appendChild(element);\n  }\n\n  const js_urls = [\"https://cdn.bokeh.org/bokeh/release/bokeh-3.7.2.min.js\", \"https://cdn.bokeh.org/bokeh/release/bokeh-gl-3.7.2.min.js\", \"https://cdn.bokeh.org/bokeh/release/bokeh-widgets-3.7.2.min.js\", \"https://cdn.bokeh.org/bokeh/release/bokeh-tables-3.7.2.min.js\", \"https://cdn.bokeh.org/bokeh/release/bokeh-mathjax-3.7.2.min.js\"];\n  const css_urls = [];\n\n  const inline_js = [    function(Bokeh) {\n      Bokeh.set_log_level(\"info\");\n    },\nfunction(Bokeh) {\n    }\n  ];\n\n  function run_inline_js() {\n    if (root.Bokeh !== undefined || force === true) {\n      try {\n            for (let i = 0; i < inline_js.length; i++) {\n      inline_js[i].call(root, root.Bokeh);\n    }\n\n      } catch (error) {display_loaded(error);throw error;\n      }if (force === true) {\n        display_loaded();\n      }} else if (Date.now() < root._bokeh_timeout) {\n      setTimeout(run_inline_js, 100);\n    } else if (!root._bokeh_failed_load) {\n      console.log(\"Bokeh: BokehJS failed to load within specified timeout.\");\n      root._bokeh_failed_load = true;\n    } else if (force !== true) {\n      const cell = $(document.getElementById(\"f2807600-2f0b-4c88-a0ab-ddf37edebe5d\")).parents('.cell').data().cell;\n      cell.output_area.append_execute_result(NB_LOAD_WARNING)\n    }\n  }\n\n  if (root._bokeh_is_loading === 0) {\n    console.debug(\"Bokeh: BokehJS loaded, going straight to plotting\");\n    run_inline_js();\n  } else {\n    load_libs(css_urls, js_urls, function() {\n      console.debug(\"Bokeh: BokehJS plotting callback run at\", now());\n      run_inline_js();\n    });\n  }\n}(window));",
      "application/vnd.bokehjs_load.v0+json": ""
     },
     "metadata": {},
     "output_type": "display_data"
    }
   ],
   "source": [
    "import pandas as pd\n",
    "import numpy as np\n",
    "#import plotly.graph_objects as go\n",
    "#import yfinance as yf\n",
    "#import matplotlib.pyplot as plt\n",
    "#import math\n",
    "from datetime import date, datetime, timedelta\n",
    "from scipy import stats\n",
    "from scipy.signal import argrelextrema\n",
    "#from bokeh.plotting import figure, show, column\n",
    "from sklearn.linear_model import LinearRegression\n",
    "import os\n",
    "from backtesting import Backtest, Strategy"
   ]
  },
  {
   "cell_type": "code",
   "execution_count": 2,
   "id": "f3ef14db",
   "metadata": {},
   "outputs": [],
   "source": [
    "#df_h = pd.read_csv(r\"D:\\CARLOS\\TRADING\\data.txt\")\n",
    "df_h=pd.read_csv('data/dataxh.txt',sep='\\t')\n",
    "tickers = [\n",
    "    'SPY',\n",
    "    'META',\n",
    "    'AAPL',\n",
    "    'AMZN',\n",
    "    'NFLX',\n",
    "    'MRNA',\n",
    "    'TSLA',\n",
    "    'TNA',\n",
    "    'GLD',\n",
    "    'SLV',\n",
    "    'USO',\n",
    "    'BAC',\n",
    "    'CVX',\n",
    "    'XOM',\n",
    "    'QQQ',\n",
    "    'MSFT',\n",
    "    'NVDA',\n",
    "    'WMT',\n",
    "    'BA',\n",
    "    'DIS',\n",
    "    'CAT',\n",
    "    'IBM',\n",
    "    'WFC',\n",
    "    'PLTR',\n",
    "    'AMD',\n",
    "    'AVGO',\n",
    "    'HOOD',\n",
    "    'CRWV',\n",
    "    'MSTR',\n",
    "    'UNH',\n",
    "    'GOOG',\n",
    "    'APP',\n",
    "    'UBER'\n",
    "]"
   ]
  },
  {
   "cell_type": "code",
   "execution_count": 3,
   "id": "52d0ff84-a2e1-4a46-ba65-9550936d65d3",
   "metadata": {},
   "outputs": [],
   "source": [
    "df_h['datetime'] = pd.to_datetime(df_h['datetime'])\n",
    "df = pd.DataFrame()\n",
    "for ticker in tickers:\n",
    "    company = df_h.query(\"companyName==@ticker\").copy()\n",
    "    company.sort_values(by=['datetime'])\n",
    "    #company = yf.download(ticker, start = ini2_str, end = today_str, interval='60m')\n",
    "    #company.columns = [company.columns[0][0], company.columns[1][0], company.columns[2][0], company.columns[3][0], company.columns[4][0]]\n",
    "    #company.rename(columns={'Datetime':'Gmt time'}, inplace = True)\n",
    "    #company['datetime'] = pd.to_datetime (company.index)\n",
    "    #company['companyName'] = ticker\n",
    "    company['SMA20'] = company['Close'].rolling(20).mean()\n",
    "    company.dropna(inplace=False)\n",
    "    company['SMA40'] = company['Close'].rolling(40).mean()\n",
    "    company.dropna(inplace=False)\n",
    "    df = pd.concat([df, company],ignore_index=True)"
   ]
  },
  {
   "cell_type": "markdown",
   "id": "34d9cf7d",
   "metadata": {},
   "source": [
    "## Detect Pivots/Fractals"
   ]
  },
  {
   "cell_type": "code",
   "execution_count": 4,
   "id": "01cd927d-98ba-4935-9835-4507272e666e",
   "metadata": {},
   "outputs": [],
   "source": [
    "ord=10\n",
    "max_idx = argrelextrema(df['Close'].values, np.greater, order=ord)[0]\n",
    "min_idx = argrelextrema(df['Close'].values, np.less, order=ord)[0]\n",
    "df.loc[max_idx, 'pivotHigh'] = df['High']+1e-3\n",
    "df.loc[min_idx, 'pivotLow'] = df['Low']-(1e-3)\n",
    "df.loc[max_idx, 'isPivot'] = 1\n",
    "df.loc[min_idx, 'isPivot'] = 2"
   ]
  },
  {
   "cell_type": "code",
   "execution_count": 5,
   "id": "24487079",
   "metadata": {},
   "outputs": [],
   "source": [
    "#hoy =  np.datetime64('today')\n",
    "#print(hoy)\n",
    "#fecha_menos_15 = hoy -  np.timedelta64(15, 'D')\n",
    "#print(fecha_menos_15)\n",
    "#df2 = df[df[\"datetime\"].dt.tz_localize(None)>=fecha_menos_15]"
   ]
  },
  {
   "cell_type": "code",
   "execution_count": 6,
   "id": "7832cc33",
   "metadata": {},
   "outputs": [],
   "source": [
    "hoy =  np.datetime64('today')\n",
    "fecha_menos_15 = hoy -  np.timedelta64(15, 'D')"
   ]
  },
  {
   "cell_type": "markdown",
   "id": "7c2775ac-e38b-45c3-a6a0-657e33991746",
   "metadata": {},
   "source": [
    "###### Canales bajistas, cuando el PM de 40 esta por encima del PM de 20 en direccion desendente\n",
    "###### RSI>70 y sobre las olas de Bollinger"
   ]
  },
  {
   "cell_type": "code",
   "execution_count": 7,
   "id": "d6a9d5d2",
   "metadata": {},
   "outputs": [],
   "source": [
    "df[\"datetime2\"] = df[\"datetime\"].dt.tz_localize(None)"
   ]
  },
  {
   "cell_type": "code",
   "execution_count": 8,
   "id": "d35e8caf-19c9-4727-8176-822a82d9cfd7",
   "metadata": {},
   "outputs": [],
   "source": [
    "def rcb01(df):\n",
    "    hoy =  np.datetime64('today')\n",
    "    fecha_menos_15 = hoy -  np.timedelta64(15, 'D')\n",
    "    if ((df['pivotLow']>0) & (df['SMA40']>df['SMA20']) & (df[\"datetime2\"]>=fecha_menos_15)):\n",
    "        return 1\n",
    "    else:\n",
    "        return 0\n",
    "df['rcb01_01'] = df.apply(rcb01, axis=1)"
   ]
  },
  {
   "cell_type": "code",
   "execution_count": 9,
   "id": "4847a98d",
   "metadata": {},
   "outputs": [],
   "source": [
    "# Eliminar la columna 'datetime2'\n",
    "df = df.drop('datetime2', axis=1)"
   ]
  },
  {
   "cell_type": "markdown",
   "id": "d1079664",
   "metadata": {},
   "source": [
    "## Detect Price Channel"
   ]
  },
  {
   "cell_type": "code",
   "execution_count": 10,
   "id": "e2a6e303",
   "metadata": {},
   "outputs": [],
   "source": [
    "def collect_channel(candle, backevalTrend, trendH):\n",
    "    localdf = dfpl.loc[candle-backevalTrend:candle] #tomar en cuenta el backcandles\n",
    "\n",
    "    highs = localdf.loc[localdf.index.isin(trendH)].High.values\n",
    "    idxhighs = localdf.loc[localdf.index.isin(trendH)].High.index\n",
    "    if len(highs)>=2:\n",
    "        sl_highs, interc_highs, r_value_h, _, _ = stats.linregress(idxhighs,highs)    \n",
    "        return(sl_highs, interc_highs, r_value_h**2)\n",
    "    else:\n",
    "        return(0,0,0)\n",
    "    "
   ]
  },
  {
   "cell_type": "code",
   "execution_count": 11,
   "id": "d73dd322-47c0-4cc0-92a2-188df81a1f2b",
   "metadata": {},
   "outputs": [],
   "source": [
    "def backcandle(candle):\n",
    "    \n",
    "    trendH = []\n",
    "    backeval = 0\n",
    "    val = 0\n",
    "    \n",
    "    dfpl['PM40_PM20'] = dfpl['SMA40']-dfpl['SMA20']\n",
    "\n",
    "    if (dfpl.loc[candle,\"PM40_PM20\"]>0):\n",
    "        idx_negativo = dfpl.loc[:candle, 'PM40_PM20'][::-1].lt(0).idxmax()\n",
    "        backeval = idx_negativo - 4\n",
    "        val = candle - backeval\n",
    "        \n",
    "    if val>75:\n",
    "        backeval=candle-75\n",
    "        \n",
    "    if (dfpl.loc[backeval,\"PM40_PM20\"]>0):\n",
    "        idx_negativo = dfpl.loc[:backeval, 'PM40_PM20'][::-1].lt(0).idxmax()\n",
    "        backeval = idx_negativo - 4\n",
    "\n",
    "    if val>75:\n",
    "        backeval=candle-75\n",
    "\n",
    "    ini = backeval\n",
    "    trendprev=dfpl.loc[ini:candle]\n",
    "    trend = trendprev.reset_index(drop=False)\n",
    "\n",
    "    idxhighs = trend.index.to_numpy().reshape(-1,1) # Convertir X a una matriz 2D\n",
    "    highs = trend.High.values\n",
    "    modelo1 = LinearRegression()\n",
    "    modelo1.fit(idxhighs, highs)\n",
    "    # Obtener la predicción de la línea de regresión\n",
    "    Y_pred = modelo1.predict(idxhighs)\n",
    "    # Calcular la distancia solo de los puntos que están POR ENCIMA de la línea\n",
    "    trend['Distancia'] = trend[\"High\"] - Y_pred  # Diferencia entre el valor real y la predicción\n",
    "    # Filtrar los puntos que están por encima (donde Y > Y_pred, es decir, Distancia > 0)\n",
    "    df_encima = trend[trend['Distancia'] > 0]\n",
    "    puntos_mas_lejanos = df_encima.nlargest(2, 'Distancia')   #2 puntos mas lejanos\n",
    "    trendH = puntos_mas_lejanos[\"index\"].tolist()\n",
    "    trendH.append(candle)   \n",
    "    \n",
    "    return trendH, backeval"
   ]
  },
  {
   "cell_type": "markdown",
   "id": "57b58755",
   "metadata": {},
   "source": [
    "## Detect Break Out"
   ]
  },
  {
   "cell_type": "code",
   "execution_count": 12,
   "id": "5aa80437-fca0-4438-a072-0734f46b5cd9",
   "metadata": {},
   "outputs": [],
   "source": [
    "def trendChannel(row,candle, backeval, window, sl_highs, interc_highs):\n",
    "\n",
    "    if (candle-backeval-window)<0:\n",
    "        return np.nan\n",
    "   \n",
    "    ini=candle-backeval\n",
    "    fin=candle+window\n",
    "    trendcurrhigh = np.where(np.logical_or((row.index > fin),  (row.index <  ini)), np.nan, (sl_highs*row.index + interc_highs))\n",
    "    return trendcurrhigh"
   ]
  },
  {
   "cell_type": "code",
   "execution_count": 13,
   "id": "20cd3110-f81c-4439-8b85-1a901097f734",
   "metadata": {},
   "outputs": [],
   "source": [
    "def isBreakOut(candleEval,backcandles, window, start, candle):\n",
    "    if (candleEval-backcandles-window)<0:\n",
    "        return 0\n",
    "\n",
    "    if candleEval==start:\n",
    "        prev_idx = candleEval\n",
    "    else:\n",
    "        prev_idx = candleEval-1\n",
    "        \n",
    "    prev_high = dfpl.loc[prev_idx].High\n",
    "    prev_low = dfpl.loc[prev_idx].Low\n",
    "    prev_close = dfpl.loc[prev_idx].Close\n",
    "    \n",
    "    curr_idx = candleEval\n",
    "    curr_high = dfpl.loc[candleEval].High\n",
    "    curr_low = dfpl.loc[candleEval].Low\n",
    "    curr_close = dfpl.loc[candleEval].Close\n",
    "    curr_open = dfpl.loc[candleEval].Open\n",
    "\n",
    "    trend_prevhigh=dfpl.loc[prev_idx].trendcurrhigh\n",
    "    trend_currhigh=dfpl.loc[candleEval].trendcurrhigh\n",
    "    \n",
    "    if ( prev_low < trend_prevhigh and\n",
    "        prev_close > trend_prevhigh and\n",
    "        curr_open > trend_currhigh and\n",
    "        curr_close > trend_currhigh and\n",
    "        candleEval>candle): #and r_sq_h > 0.9\n",
    "        return 2\n",
    "\n",
    "    elif (curr_open > trend_currhigh and\n",
    "        curr_close > trend_currhigh and candleEval>candle):\n",
    "        return 3\n",
    "    \n",
    "    else:\n",
    "        return np.nan"
   ]
  },
  {
   "cell_type": "code",
   "execution_count": 14,
   "id": "6caa56d5-1f28-4cba-8729-e6cfc03a51f1",
   "metadata": {},
   "outputs": [],
   "source": [
    "def breakpointpos(x):\n",
    "    if x['isBreakOutIni'] in (2,3):\n",
    "        return x['Low']+3e-3\n",
    "    elif x['isBreakOutIni']==1:\n",
    "        return x['High']-3e-3\n",
    "    else:\n",
    "        return np.nan"
   ]
  },
  {
   "cell_type": "markdown",
   "id": "700fa197-5cd8-4b73-ac64-fce109fe4328",
   "metadata": {},
   "source": [
    "##### Hallando casos de Ruptura del Canal Bajista"
   ]
  },
  {
   "cell_type": "code",
   "execution_count": 15,
   "id": "61baae73",
   "metadata": {},
   "outputs": [
    {
     "name": "stdout",
     "output_type": "stream",
     "text": [
      "Archivo cargado correctamente.\n"
     ]
    }
   ],
   "source": [
    "#Archivo anterior\n",
    "ruta_archivo='data/cb_h.txt'\n",
    "if os.path.exists(ruta_archivo):\n",
    "    # Cargar el archivo\n",
    "    df_casos2 = pd.read_csv(ruta_archivo, sep='\\t')\n",
    "    print(\"Archivo cargado correctamente.\")\n",
    "else:\n",
    "    # Crear un DataFrame vacío\n",
    "    df_casos2 = pd.DataFrame()\n",
    "    print(\"Archivo no existe. Se creó un DataFrame vacío.\")"
   ]
  },
  {
   "cell_type": "code",
   "execution_count": 16,
   "id": "a2b4f94a",
   "metadata": {},
   "outputs": [],
   "source": [
    "df_casos2[\"datetime\"] = pd.to_datetime(df_casos2['datetime'])\n",
    "df_casos2[\"datetime2\"] = df_casos2['datetime'].dt.tz_localize(None)"
   ]
  },
  {
   "cell_type": "code",
   "execution_count": 17,
   "id": "dca3bac0-0d76-46bd-898b-cd8166652b10",
   "metadata": {},
   "outputs": [
    {
     "name": "stdout",
     "output_type": "stream",
     "text": [
      "3458 SPY\n",
      "3470 SPY\n",
      "6993 META\n",
      "10471 AAPL\n",
      "17471 NFLX\n",
      "21015 MRNA\n",
      "28054 TNA\n",
      "28079 TNA\n",
      "42109 BAC\n",
      "52684 QQQ\n",
      "59739 NVDA\n",
      "66752 BA\n",
      "66771 BA\n",
      "70298 DIS\n",
      "80819 WFC\n",
      "91376 AVGO\n",
      "91389 AVGO\n",
      "98880 MSTR\n",
      "98909 MSTR\n",
      "102435 UNH\n",
      "105960 GOOG\n",
      "109435 APP\n",
      "109467 APP\n",
      "109478 APP\n",
      "112982 UBER\n",
      "113006 UBER\n"
     ]
    }
   ],
   "source": [
    "df_casos = pd.DataFrame()\n",
    "caso = 0\n",
    "ticker2 = \"\"\n",
    "window=5\n",
    "backeval=75\n",
    "backevalTrend=0\n",
    "dfpl = pd.DataFrame\n",
    "trendH = []\n",
    "trendL = []\n",
    "cant = 0\n",
    "for i, row in df.iterrows():\n",
    "    if(df['rcb01_01'][i]==1): #posibles casos \n",
    "        #print(\"posible caso:\",i, df['companyName'][i])\n",
    "        cant = 0\n",
    "        candle = i\n",
    "        cnt = 0\n",
    "        valiniHigh = df.loc[candle,\"High\"]\n",
    "        #valiniLow = df.loc[candle,\"Low\"]\n",
    "        ticker = df['companyName'][i]\n",
    "        #Reinicio de casos por company\n",
    "        if ticker2 != ticker:\n",
    "            ticker2 = ticker\n",
    "            filtro = df_casos2[(df_casos2['datetime2'] <  fecha_menos_15) & (df_casos2['companyName']==ticker) & (df_casos2[\"ind_posicion\"]==0)].copy()\n",
    "            if filtro.shape[0]>0:\n",
    "                caso = filtro[\"caso\"].max()\n",
    "            else:\n",
    "                caso = 0\n",
    "        dfpl = df[(df.companyName==ticker)].loc[i-backeval:i+backeval]                           \n",
    "        h=1\n",
    "        l=1\n",
    "        cant = cant +1\n",
    "        cantHorasTrend=0\n",
    "        trendH, backevalTrend = backcandle(candle)        \n",
    "        if (candle-backevalTrend>75):\n",
    "            backevalTrend = candle-75\n",
    "            \n",
    "        dfpl['datetime'] = pd.to_datetime(dfpl['datetime'])\n",
    "        cantHorasTrend = (dfpl.loc[candle,\"datetime\"] - dfpl.loc[backevalTrend,\"datetime\"]).total_seconds() / 3600\n",
    "\n",
    "        if (cantHorasTrend>48): #Verificacion de caida por lo menos 2 dias\n",
    "            backevalTrend2 = candle - backevalTrend\n",
    "            #revision de trend negativo indica que esta cayendo, solo me quedo con estos casos\n",
    "            sl_highs, interc_highs, r_sq_h = collect_channel(candle, backevalTrend2, trendH)\n",
    "            dfpl.loc[trendH, \"trendH\"] = 1\n",
    "        \n",
    "            if (sl_highs<=0): #solo tendencias a la baja and ind_vela>0 sl_lows<0 and r_sq_h>=0.7  and sl_highs<=-0.1 and ind_vela>0\n",
    "                #crear linea de tendencia high y low\n",
    "                dfpl['trendcurrhigh']  = trendChannel(dfpl,candle,backevalTrend2,window,sl_highs,interc_highs)\n",
    "                \n",
    "                promVol = dfpl.loc[i-backeval:i][\"Volume\"].mean()\n",
    "\n",
    "                dfpl[\"bearishSlope\"] = np.nan #pendiente bajista en vacio\n",
    "                dfpl.loc[i, \"bearishSlope\"] = 1 #pendiente bajista solo al punto evaluado            \n",
    "                dfpl[\"ind_posicion\"] = 0\n",
    "                dfpl.loc[(dfpl.index < i), 'ind_posicion'] = -1\n",
    "                dfpl.loc[(dfpl.index > i), 'ind_posicion'] = 1\n",
    "                dfpl[\"promVol\"] = promVol\n",
    "                dfpl[\"sl_highs\"] = sl_highs\n",
    "                dfpl[\"r_sq_h\"] = r_sq_h\n",
    "        \n",
    "                start = dfpl.index[0]\n",
    "                dfpl[\"isBreakOut\"] = [isBreakOut(candleEval, backevalTrend2, window, start, candle) for candleEval in dfpl.index]\n",
    "                # Solo me quedo con el primer BREAK OUT\n",
    "                cnt = dfpl.query(\"isBreakOut in (2,3) and Close>Open\").shape[0] \n",
    "                id=0\n",
    "                id2=0\n",
    "                if cnt>0:\n",
    "                    id = dfpl.query(\"isBreakOut in (2,3) and Close>Open\").index[0]                        \n",
    "                    #dfpl['isBreakOutIni'] = np.where(id!=dfpl.index, np.nan, dfpl['isBreakOut'])                        \n",
    "                    dfpl.loc[id,'isBreakOutIni'] = 1\n",
    "                    dfpl['breakpointpos'] = dfpl.apply(lambda row: breakpointpos(row), axis=1)\n",
    "                    cnt2 = dfpl.query(\"index>@id and isPivot==1\").shape[0]\n",
    "                    \n",
    "                    if cnt2>0:\n",
    "                        id2 = dfpl.query(\"index>@id and isPivot==1\").index[0]\n",
    "                        dfpl.loc[id2,'isBreakOutFinal'] = 1\n",
    "                    else:\n",
    "                        dfpl['isBreakOutFinal'] = np.nan                      \n",
    "                    \n",
    "                else:\n",
    "                    dfpl['isBreakOutIni'] = np.nan                        \n",
    "                    dfpl['breakpointpos'] = np.nan\n",
    "        \n",
    "                if cnt>0:\n",
    "                    #INSERT CASO\n",
    "                    caso=caso+1                            \n",
    "                    dfpl[\"caso\"] = caso\n",
    "                    print(i, df['companyName'][i])\n",
    "                    if len(df_casos)<1:\n",
    "                        df_casos = dfpl\n",
    "                    else:\n",
    "                        df_casos = pd.concat([df_casos, dfpl],ignore_index=False)\n"
   ]
  },
  {
   "cell_type": "code",
   "execution_count": 18,
   "id": "a706d98f",
   "metadata": {},
   "outputs": [
    {
     "name": "stdout",
     "output_type": "stream",
     "text": [
      "23\n",
      "3438\n",
      "276\n",
      "35\n",
      "5285\n",
      "118\n",
      "33\n",
      "4983\n",
      "149\n",
      "34\n",
      "5099\n",
      "0\n",
      "33\n",
      "4983\n",
      "151\n",
      "34\n",
      "5134\n",
      "146\n",
      "35\n",
      "5285\n",
      "0\n",
      "31\n",
      "4681\n",
      "283\n",
      "24\n",
      "3624\n",
      "0\n",
      "32\n",
      "4832\n",
      "0\n",
      "34\n",
      "5134\n",
      "0\n",
      "25\n",
      "3775\n",
      "151\n",
      "30\n",
      "4530\n",
      "0\n",
      "32\n",
      "4832\n",
      "0\n",
      "34\n",
      "5099\n",
      "143\n",
      "32\n",
      "4802\n",
      "0\n",
      "36\n",
      "5436\n",
      "134\n",
      "26\n",
      "3919\n",
      "0\n",
      "37\n",
      "5587\n",
      "285\n",
      "41\n",
      "6156\n",
      "130\n",
      "29\n",
      "4379\n",
      "0\n",
      "31\n",
      "4681\n",
      "0\n",
      "35\n",
      "5254\n",
      "151\n",
      "36\n",
      "5436\n",
      "0\n",
      "39\n",
      "5889\n",
      "0\n",
      "43\n",
      "6493\n",
      "281\n",
      "27\n",
      "4077\n",
      "0\n",
      "2\n",
      "295\n",
      "0\n",
      "37\n",
      "5587\n",
      "285\n",
      "30\n",
      "4530\n",
      "131\n",
      "30\n",
      "4499\n",
      "129\n",
      "23\n",
      "3473\n",
      "430\n",
      "43\n",
      "6461\n",
      "280\n"
     ]
    }
   ],
   "source": [
    "df_newCasos2 = pd.DataFrame()\n",
    "for ticker in tickers:\n",
    "    #Informacion anterior por ticker\n",
    "   \n",
    "    filtro = df_casos2[(df_casos2['datetime2'] <  fecha_menos_15) & (df_casos2['companyName']==ticker) & (df_casos2[\"ind_posicion\"]==0)].copy()\n",
    "    caso_max = filtro[\"caso\"].max()\n",
    "    print(caso_max)\n",
    "\n",
    "    df_ticker = df_casos2[(df_casos2['caso'] <=  caso_max) & (df_casos2['companyName']==ticker)].copy()\n",
    "    df_ticker = df_ticker.reset_index(drop=True)\n",
    "\n",
    "    df_ticker = df_ticker.drop('datetime2', axis=1)\n",
    "\n",
    "    print(df_ticker.shape[0])\n",
    "    #df_ticker['datetime'] = pd.to_datetime(df_ticker['datetime'])\n",
    "\n",
    "    #Informacion actual por ticker\n",
    "    df_ticker2 = df_casos[(df_casos['companyName']==ticker)]    \n",
    "    df_ticker2 = df_ticker2.sort_values(by=['datetime'], ascending=[True])\n",
    "\n",
    "    print(df_ticker2.shape[0])\n",
    "    \n",
    "    df_newCasos2 = pd.concat([df_newCasos2, df_ticker],ignore_index=True)\n",
    "    df_newCasos2 = pd.concat([df_newCasos2, df_ticker2],ignore_index=True)\n"
   ]
  },
  {
   "cell_type": "code",
   "execution_count": 19,
   "id": "16a2a200",
   "metadata": {},
   "outputs": [],
   "source": [
    "#path=r'D:\\PROYECTO_CARLOS\\Notebooks\\notebooks\\data\\cb_h.txt'\n",
    "path='data/cb_h.txt'\n",
    "if os.path.exists(path):\n",
    "    os.remove(path)\n",
    "else:\n",
    "    print(\"File does not exists. File needs to be created.\")\n",
    "with open(path, 'a') as f:\n",
    "    df_newCasos2.to_csv(path, header=True, index=None, sep='\\t', mode='w')"
   ]
  },
  {
   "cell_type": "code",
   "execution_count": 20,
   "id": "37f60bcc",
   "metadata": {},
   "outputs": [],
   "source": [
    "#df_casos2.shape\n",
    "#df_newCasos2.shape"
   ]
  },
  {
   "cell_type": "code",
   "execution_count": 21,
   "id": "1e8d92d2",
   "metadata": {},
   "outputs": [],
   "source": [
    "#filtro = df_casos2[(df_casos2['datetime2'] <  fecha_menos_15) & (df_casos2['companyName']==\"SPY\") & (df_casos2[\"ind_posicion\"]==0)].copy()"
   ]
  },
  {
   "cell_type": "markdown",
   "id": "f6a56c53-3325-4e5d-bcb8-64e300eae0c0",
   "metadata": {},
   "source": [
    "##### BACKTESTING\n",
    "###### Usando paquete backtesting.py"
   ]
  },
  {
   "cell_type": "code",
   "execution_count": 22,
   "id": "5895a1da",
   "metadata": {},
   "outputs": [],
   "source": [
    "df_casos2 = df_newCasos2.query(\"isBreakOutIni==1 or isBreakOutFinal==1\").copy()"
   ]
  },
  {
   "cell_type": "code",
   "execution_count": 23,
   "id": "2fb81c2d-0a66-4e4d-b4b4-a70b0a11e367",
   "metadata": {},
   "outputs": [],
   "source": [
    "# =============== BACKTESTING ================= #\n",
    "# obteniendo dataframe backtesting\n",
    "df['datetime']=pd.to_datetime(df['datetime'])\n",
    "df_backTesting = pd.merge(df, df_casos2[['datetime','companyName', 'isBreakOutIni','isBreakOutFinal','caso']], on = ['companyName','datetime'], how='left')\n",
    "# datos de trade se asigna una vela anterior debido a que backtesting.py toma entra como la siguiente vela\n",
    "df_backTesting['isBreakOutIni'] = df_backTesting['isBreakOutIni'].shift(-1)\n",
    "df_backTesting['isBreakOutFinal'] = df_backTesting['isBreakOutFinal'].shift(-1)\n",
    "#modificamos indice con el compo datetime\n",
    "df_backTesting.set_index('datetime', inplace=True)"
   ]
  },
  {
   "cell_type": "code",
   "execution_count": 24,
   "id": "9ac01ae8-c1ee-48e1-82c9-042b4e82aa5e",
   "metadata": {},
   "outputs": [],
   "source": [
    "#Estrategia\n",
    "class strategyRupturaCanal(Strategy):    \n",
    "    def init(self):\n",
    "        self.breakout_entry = self.I(lambda x: x, self.data.isBreakOutIni) #Indica la señal entrada al backtesting\n",
    "        self.breakout_exit = self.I(lambda x: x, self.data.isBreakOutFinal) #Indica la señal salida al backtesting\n",
    "\n",
    "    def next(self):       \n",
    "        #print(self.data)        \n",
    "        if self.breakout_entry[-1] == 1:\n",
    "            self.buy()  #COMPRA\n",
    "        elif self.breakout_exit[-1] == 1 and self.position:\n",
    "            self.position.close() #CIERRE\n",
    "        "
   ]
  },
  {
   "cell_type": "code",
   "execution_count": 25,
   "id": "98801fec-d694-44cf-9de9-2295b923f29b",
   "metadata": {},
   "outputs": [
    {
     "data": {
      "application/vnd.jupyter.widget-view+json": {
       "model_id": "f6c7d7939186482da6b768e491265423",
       "version_major": 2,
       "version_minor": 0
      },
      "text/plain": [
       "Backtest.run:   0%|          | 0/3443 [00:00<?, ?bar/s]"
      ]
     },
     "metadata": {},
     "output_type": "display_data"
    },
    {
     "name": "stderr",
     "output_type": "stream",
     "text": [
      "c:\\Users\\carlo\\anaconda3\\Lib\\site-packages\\backtesting\\backtesting.py:954: UserWarning: time=2088: Broker canceled the relative-sized order due to insufficient margin.\n",
      "  warnings.warn(\n",
      "c:\\Users\\carlo\\anaconda3\\Lib\\site-packages\\backtesting\\backtesting.py:954: UserWarning: time=2106: Broker canceled the relative-sized order due to insufficient margin.\n",
      "  warnings.warn(\n",
      "c:\\Users\\carlo\\anaconda3\\Lib\\site-packages\\backtesting\\backtesting.py:954: UserWarning: time=3105: Broker canceled the relative-sized order due to insufficient margin.\n",
      "  warnings.warn(\n",
      "c:\\Users\\carlo\\anaconda3\\Lib\\site-packages\\backtesting\\backtesting.py:954: UserWarning: time=3475: Broker canceled the relative-sized order due to insufficient margin.\n",
      "  warnings.warn(\n"
     ]
    },
    {
     "data": {
      "application/vnd.jupyter.widget-view+json": {
       "model_id": "b6cebed798244ced8e550408ee350478",
       "version_major": 2,
       "version_minor": 0
      },
      "text/plain": [
       "Backtest.run:   0%|          | 0/3370 [00:00<?, ?bar/s]"
      ]
     },
     "metadata": {},
     "output_type": "display_data"
    },
    {
     "name": "stderr",
     "output_type": "stream",
     "text": [
      "c:\\Users\\carlo\\anaconda3\\Lib\\site-packages\\backtesting\\backtesting.py:954: UserWarning: time=437: Broker canceled the relative-sized order due to insufficient margin.\n",
      "  warnings.warn(\n",
      "c:\\Users\\carlo\\anaconda3\\Lib\\site-packages\\backtesting\\backtesting.py:954: UserWarning: time=2387: Broker canceled the relative-sized order due to insufficient margin.\n",
      "  warnings.warn(\n",
      "c:\\Users\\carlo\\anaconda3\\Lib\\site-packages\\backtesting\\backtesting.py:954: UserWarning: time=3108: Broker canceled the relative-sized order due to insufficient margin.\n",
      "  warnings.warn(\n"
     ]
    },
    {
     "data": {
      "application/vnd.jupyter.widget-view+json": {
       "model_id": "f7a48b8fea074b04bca87981f56d3ee9",
       "version_major": 2,
       "version_minor": 0
      },
      "text/plain": [
       "Backtest.run:   0%|          | 0/3314 [00:00<?, ?bar/s]"
      ]
     },
     "metadata": {},
     "output_type": "display_data"
    },
    {
     "name": "stderr",
     "output_type": "stream",
     "text": [
      "c:\\Users\\carlo\\anaconda3\\Lib\\site-packages\\backtesting\\backtesting.py:954: UserWarning: time=748: Broker canceled the relative-sized order due to insufficient margin.\n",
      "  warnings.warn(\n",
      "c:\\Users\\carlo\\anaconda3\\Lib\\site-packages\\backtesting\\backtesting.py:954: UserWarning: time=1302: Broker canceled the relative-sized order due to insufficient margin.\n",
      "  warnings.warn(\n",
      "c:\\Users\\carlo\\anaconda3\\Lib\\site-packages\\backtesting\\backtesting.py:954: UserWarning: time=1375: Broker canceled the relative-sized order due to insufficient margin.\n",
      "  warnings.warn(\n",
      "c:\\Users\\carlo\\anaconda3\\Lib\\site-packages\\backtesting\\backtesting.py:954: UserWarning: time=1899: Broker canceled the relative-sized order due to insufficient margin.\n",
      "  warnings.warn(\n"
     ]
    },
    {
     "data": {
      "application/vnd.jupyter.widget-view+json": {
       "model_id": "ecb3a004a5fb467285ff40f886647fa8",
       "version_major": 2,
       "version_minor": 0
      },
      "text/plain": [
       "Backtest.run:   0%|          | 0/3444 [00:00<?, ?bar/s]"
      ]
     },
     "metadata": {},
     "output_type": "display_data"
    },
    {
     "name": "stderr",
     "output_type": "stream",
     "text": [
      "c:\\Users\\carlo\\anaconda3\\Lib\\site-packages\\backtesting\\backtesting.py:954: UserWarning: time=2697: Broker canceled the relative-sized order due to insufficient margin.\n",
      "  warnings.warn(\n"
     ]
    },
    {
     "data": {
      "application/vnd.jupyter.widget-view+json": {
       "model_id": "afaf5200715e4742bc01e2e295c8056b",
       "version_major": 2,
       "version_minor": 0
      },
      "text/plain": [
       "Backtest.run:   0%|          | 0/3375 [00:00<?, ?bar/s]"
      ]
     },
     "metadata": {},
     "output_type": "display_data"
    },
    {
     "name": "stderr",
     "output_type": "stream",
     "text": [
      "c:\\Users\\carlo\\anaconda3\\Lib\\site-packages\\backtesting\\backtesting.py:954: UserWarning: time=1423: Broker canceled the relative-sized order due to insufficient margin.\n",
      "  warnings.warn(\n",
      "c:\\Users\\carlo\\anaconda3\\Lib\\site-packages\\backtesting\\backtesting.py:954: UserWarning: time=2697: Broker canceled the relative-sized order due to insufficient margin.\n",
      "  warnings.warn(\n",
      "c:\\Users\\carlo\\anaconda3\\Lib\\site-packages\\backtesting\\backtesting.py:954: UserWarning: time=3096: Broker canceled the relative-sized order due to insufficient margin.\n",
      "  warnings.warn(\n"
     ]
    },
    {
     "data": {
      "application/vnd.jupyter.widget-view+json": {
       "model_id": "f99614f93ae14fb589990f2b56002eb8",
       "version_major": 2,
       "version_minor": 0
      },
      "text/plain": [
       "Backtest.run:   0%|          | 0/3253 [00:00<?, ?bar/s]"
      ]
     },
     "metadata": {},
     "output_type": "display_data"
    },
    {
     "name": "stderr",
     "output_type": "stream",
     "text": [
      "c:\\Users\\carlo\\anaconda3\\Lib\\site-packages\\backtesting\\backtesting.py:954: UserWarning: time=439: Broker canceled the relative-sized order due to insufficient margin.\n",
      "  warnings.warn(\n",
      "c:\\Users\\carlo\\anaconda3\\Lib\\site-packages\\backtesting\\backtesting.py:954: UserWarning: time=2836: Broker canceled the relative-sized order due to insufficient margin.\n",
      "  warnings.warn(\n",
      "c:\\Users\\carlo\\anaconda3\\Lib\\site-packages\\backtesting\\backtesting.py:954: UserWarning: time=3086: Broker canceled the relative-sized order due to insufficient margin.\n",
      "  warnings.warn(\n",
      "c:\\Users\\carlo\\anaconda3\\Lib\\site-packages\\backtesting\\backtesting.py:954: UserWarning: time=3259: Broker canceled the relative-sized order due to insufficient margin.\n",
      "  warnings.warn(\n"
     ]
    },
    {
     "data": {
      "application/vnd.jupyter.widget-view+json": {
       "model_id": "033bdf0100d0425ab0f985c04c50fdc0",
       "version_major": 2,
       "version_minor": 0
      },
      "text/plain": [
       "Backtest.run:   0%|          | 0/3352 [00:00<?, ?bar/s]"
      ]
     },
     "metadata": {},
     "output_type": "display_data"
    },
    {
     "name": "stderr",
     "output_type": "stream",
     "text": [
      "c:\\Users\\carlo\\anaconda3\\Lib\\site-packages\\backtesting\\backtesting.py:954: UserWarning: time=1941: Broker canceled the relative-sized order due to insufficient margin.\n",
      "  warnings.warn(\n",
      "c:\\Users\\carlo\\anaconda3\\Lib\\site-packages\\backtesting\\backtesting.py:954: UserWarning: time=2955: Broker canceled the relative-sized order due to insufficient margin.\n",
      "  warnings.warn(\n"
     ]
    },
    {
     "data": {
      "application/vnd.jupyter.widget-view+json": {
       "model_id": "8dd998d2c3d54bf59151e979a41d3c1e",
       "version_major": 2,
       "version_minor": 0
      },
      "text/plain": [
       "Backtest.run:   0%|          | 0/3266 [00:00<?, ?bar/s]"
      ]
     },
     "metadata": {},
     "output_type": "display_data"
    },
    {
     "name": "stderr",
     "output_type": "stream",
     "text": [
      "c:\\Users\\carlo\\anaconda3\\Lib\\site-packages\\backtesting\\backtesting.py:954: UserWarning: time=367: Broker canceled the relative-sized order due to insufficient margin.\n",
      "  warnings.warn(\n",
      "c:\\Users\\carlo\\anaconda3\\Lib\\site-packages\\backtesting\\backtesting.py:954: UserWarning: time=1262: Broker canceled the relative-sized order due to insufficient margin.\n",
      "  warnings.warn(\n",
      "c:\\Users\\carlo\\anaconda3\\Lib\\site-packages\\backtesting\\backtesting.py:954: UserWarning: time=2107: Broker canceled the relative-sized order due to insufficient margin.\n",
      "  warnings.warn(\n",
      "c:\\Users\\carlo\\anaconda3\\Lib\\site-packages\\backtesting\\backtesting.py:954: UserWarning: time=2336: Broker canceled the relative-sized order due to insufficient margin.\n",
      "  warnings.warn(\n"
     ]
    },
    {
     "data": {
      "application/vnd.jupyter.widget-view+json": {
       "model_id": "48c6a810460a4d919b3bc8d221d969db",
       "version_major": 2,
       "version_minor": 0
      },
      "text/plain": [
       "Backtest.run:   0%|          | 0/3385 [00:00<?, ?bar/s]"
      ]
     },
     "metadata": {},
     "output_type": "display_data"
    },
    {
     "name": "stderr",
     "output_type": "stream",
     "text": [
      "c:\\Users\\carlo\\anaconda3\\Lib\\site-packages\\backtesting\\backtesting.py:954: UserWarning: time=940: Broker canceled the relative-sized order due to insufficient margin.\n",
      "  warnings.warn(\n"
     ]
    },
    {
     "data": {
      "application/vnd.jupyter.widget-view+json": {
       "model_id": "98cf1ae443304965a6489f5277b6e697",
       "version_major": 2,
       "version_minor": 0
      },
      "text/plain": [
       "Backtest.run:   0%|          | 0/3370 [00:00<?, ?bar/s]"
      ]
     },
     "metadata": {},
     "output_type": "display_data"
    },
    {
     "name": "stderr",
     "output_type": "stream",
     "text": [
      "c:\\Users\\carlo\\anaconda3\\Lib\\site-packages\\backtesting\\backtesting.py:954: UserWarning: time=1070: Broker canceled the relative-sized order due to insufficient margin.\n",
      "  warnings.warn(\n",
      "c:\\Users\\carlo\\anaconda3\\Lib\\site-packages\\backtesting\\backtesting.py:954: UserWarning: time=2494: Broker canceled the relative-sized order due to insufficient margin.\n",
      "  warnings.warn(\n"
     ]
    },
    {
     "data": {
      "application/vnd.jupyter.widget-view+json": {
       "model_id": "48fe1eaa6b354cb7a3d673698f768117",
       "version_major": 2,
       "version_minor": 0
      },
      "text/plain": [
       "Backtest.run:   0%|          | 0/3266 [00:00<?, ?bar/s]"
      ]
     },
     "metadata": {},
     "output_type": "display_data"
    },
    {
     "name": "stderr",
     "output_type": "stream",
     "text": [
      "c:\\Users\\carlo\\anaconda3\\Lib\\site-packages\\backtesting\\backtesting.py:954: UserWarning: time=1233: Broker canceled the relative-sized order due to insufficient margin.\n",
      "  warnings.warn(\n",
      "c:\\Users\\carlo\\anaconda3\\Lib\\site-packages\\backtesting\\backtesting.py:954: UserWarning: time=3226: Broker canceled the relative-sized order due to insufficient margin.\n",
      "  warnings.warn(\n"
     ]
    },
    {
     "data": {
      "application/vnd.jupyter.widget-view+json": {
       "model_id": "1f95fdf294ae42649c830e0ef19789b8",
       "version_major": 2,
       "version_minor": 0
      },
      "text/plain": [
       "Backtest.run:   0%|          | 0/3354 [00:00<?, ?bar/s]"
      ]
     },
     "metadata": {},
     "output_type": "display_data"
    },
    {
     "name": "stderr",
     "output_type": "stream",
     "text": [
      "c:\\Users\\carlo\\anaconda3\\Lib\\site-packages\\backtesting\\backtesting.py:954: UserWarning: time=1074: Broker canceled the relative-sized order due to insufficient margin.\n",
      "  warnings.warn(\n",
      "c:\\Users\\carlo\\anaconda3\\Lib\\site-packages\\backtesting\\backtesting.py:954: UserWarning: time=1923: Broker canceled the relative-sized order due to insufficient margin.\n",
      "  warnings.warn(\n",
      "c:\\Users\\carlo\\anaconda3\\Lib\\site-packages\\backtesting\\backtesting.py:954: UserWarning: time=3085: Broker canceled the relative-sized order due to insufficient margin.\n",
      "  warnings.warn(\n"
     ]
    },
    {
     "data": {
      "application/vnd.jupyter.widget-view+json": {
       "model_id": "cc69de7f511d44188f90034e008b5d5f",
       "version_major": 2,
       "version_minor": 0
      },
      "text/plain": [
       "Backtest.run:   0%|          | 0/3445 [00:00<?, ?bar/s]"
      ]
     },
     "metadata": {},
     "output_type": "display_data"
    },
    {
     "name": "stderr",
     "output_type": "stream",
     "text": [
      "c:\\Users\\carlo\\anaconda3\\Lib\\site-packages\\backtesting\\backtesting.py:954: UserWarning: time=278: Broker canceled the relative-sized order due to insufficient margin.\n",
      "  warnings.warn(\n",
      "c:\\Users\\carlo\\anaconda3\\Lib\\site-packages\\backtesting\\backtesting.py:954: UserWarning: time=1709: Broker canceled the relative-sized order due to insufficient margin.\n",
      "  warnings.warn(\n",
      "c:\\Users\\carlo\\anaconda3\\Lib\\site-packages\\backtesting\\backtesting.py:954: UserWarning: time=1797: Broker canceled the relative-sized order due to insufficient margin.\n",
      "  warnings.warn(\n",
      "c:\\Users\\carlo\\anaconda3\\Lib\\site-packages\\backtesting\\backtesting.py:954: UserWarning: time=2787: Broker canceled the relative-sized order due to insufficient margin.\n",
      "  warnings.warn(\n"
     ]
    },
    {
     "data": {
      "application/vnd.jupyter.widget-view+json": {
       "model_id": "c2cfe0c15a634f8e9c7a410c7e77b2a5",
       "version_major": 2,
       "version_minor": 0
      },
      "text/plain": [
       "Backtest.run:   0%|          | 0/3403 [00:00<?, ?bar/s]"
      ]
     },
     "metadata": {},
     "output_type": "display_data"
    },
    {
     "name": "stderr",
     "output_type": "stream",
     "text": [
      "c:\\Users\\carlo\\anaconda3\\Lib\\site-packages\\backtesting\\backtesting.py:954: UserWarning: time=982: Broker canceled the relative-sized order due to insufficient margin.\n",
      "  warnings.warn(\n",
      "c:\\Users\\carlo\\anaconda3\\Lib\\site-packages\\backtesting\\backtesting.py:954: UserWarning: time=1936: Broker canceled the relative-sized order due to insufficient margin.\n",
      "  warnings.warn(\n"
     ]
    },
    {
     "data": {
      "application/vnd.jupyter.widget-view+json": {
       "model_id": "3a83eb93dd574dc69a078c28f990a0b3",
       "version_major": 2,
       "version_minor": 0
      },
      "text/plain": [
       "Backtest.run:   0%|          | 0/3460 [00:00<?, ?bar/s]"
      ]
     },
     "metadata": {},
     "output_type": "display_data"
    },
    {
     "name": "stderr",
     "output_type": "stream",
     "text": [
      "c:\\Users\\carlo\\anaconda3\\Lib\\site-packages\\backtesting\\backtesting.py:954: UserWarning: time=435: Broker canceled the relative-sized order due to insufficient margin.\n",
      "  warnings.warn(\n",
      "c:\\Users\\carlo\\anaconda3\\Lib\\site-packages\\backtesting\\backtesting.py:954: UserWarning: time=777: Broker canceled the relative-sized order due to insufficient margin.\n",
      "  warnings.warn(\n",
      "c:\\Users\\carlo\\anaconda3\\Lib\\site-packages\\backtesting\\backtesting.py:954: UserWarning: time=1942: Broker canceled the relative-sized order due to insufficient margin.\n",
      "  warnings.warn(\n",
      "c:\\Users\\carlo\\anaconda3\\Lib\\site-packages\\backtesting\\backtesting.py:954: UserWarning: time=2697: Broker canceled the relative-sized order due to insufficient margin.\n",
      "  warnings.warn(\n",
      "c:\\Users\\carlo\\anaconda3\\Lib\\site-packages\\backtesting\\backtesting.py:954: UserWarning: time=3104: Broker canceled the relative-sized order due to insufficient margin.\n",
      "  warnings.warn(\n"
     ]
    },
    {
     "data": {
      "application/vnd.jupyter.widget-view+json": {
       "model_id": "e63e518ffd724cbc91a8a22320823da3",
       "version_major": 2,
       "version_minor": 0
      },
      "text/plain": [
       "Backtest.run:   0%|          | 0/3460 [00:00<?, ?bar/s]"
      ]
     },
     "metadata": {},
     "output_type": "display_data"
    },
    {
     "name": "stderr",
     "output_type": "stream",
     "text": [
      "c:\\Users\\carlo\\anaconda3\\Lib\\site-packages\\backtesting\\backtesting.py:954: UserWarning: time=2696: Broker canceled the relative-sized order due to insufficient margin.\n",
      "  warnings.warn(\n",
      "c:\\Users\\carlo\\anaconda3\\Lib\\site-packages\\backtesting\\backtesting.py:954: UserWarning: time=2791: Broker canceled the relative-sized order due to insufficient margin.\n",
      "  warnings.warn(\n",
      "c:\\Users\\carlo\\anaconda3\\Lib\\site-packages\\backtesting\\backtesting.py:954: UserWarning: time=2927: Broker canceled the relative-sized order due to insufficient margin.\n",
      "  warnings.warn(\n"
     ]
    },
    {
     "data": {
      "application/vnd.jupyter.widget-view+json": {
       "model_id": "b65f6ce35e8a4a26a3a02fd877e735ba",
       "version_major": 2,
       "version_minor": 0
      },
      "text/plain": [
       "Backtest.run:   0%|          | 0/3305 [00:00<?, ?bar/s]"
      ]
     },
     "metadata": {},
     "output_type": "display_data"
    },
    {
     "name": "stderr",
     "output_type": "stream",
     "text": [
      "c:\\Users\\carlo\\anaconda3\\Lib\\site-packages\\backtesting\\backtesting.py:954: UserWarning: time=1343: Broker canceled the relative-sized order due to insufficient margin.\n",
      "  warnings.warn(\n",
      "c:\\Users\\carlo\\anaconda3\\Lib\\site-packages\\backtesting\\backtesting.py:954: UserWarning: time=1362: Broker canceled the relative-sized order due to insufficient margin.\n",
      "  warnings.warn(\n",
      "c:\\Users\\carlo\\anaconda3\\Lib\\site-packages\\backtesting\\backtesting.py:954: UserWarning: time=2698: Broker canceled the relative-sized order due to insufficient margin.\n",
      "  warnings.warn(\n",
      "c:\\Users\\carlo\\anaconda3\\Lib\\site-packages\\backtesting\\backtesting.py:954: UserWarning: time=2712: Broker canceled the relative-sized order due to insufficient margin.\n",
      "  warnings.warn(\n"
     ]
    },
    {
     "data": {
      "application/vnd.jupyter.widget-view+json": {
       "model_id": "a4deb7698a3c4e868770d2bb86993e76",
       "version_major": 2,
       "version_minor": 0
      },
      "text/plain": [
       "Backtest.run:   0%|          | 0/3430 [00:00<?, ?bar/s]"
      ]
     },
     "metadata": {},
     "output_type": "display_data"
    },
    {
     "name": "stderr",
     "output_type": "stream",
     "text": [
      "c:\\Users\\carlo\\anaconda3\\Lib\\site-packages\\backtesting\\backtesting.py:954: UserWarning: time=3052: Broker canceled the relative-sized order due to insufficient margin.\n",
      "  warnings.warn(\n",
      "c:\\Users\\carlo\\anaconda3\\Lib\\site-packages\\backtesting\\backtesting.py:954: UserWarning: time=3279: Broker canceled the relative-sized order due to insufficient margin.\n",
      "  warnings.warn(\n"
     ]
    },
    {
     "data": {
      "application/vnd.jupyter.widget-view+json": {
       "model_id": "b60f2c7d9306416d8ac91eff228a43cf",
       "version_major": 2,
       "version_minor": 0
      },
      "text/plain": [
       "Backtest.run:   0%|          | 0/3434 [00:00<?, ?bar/s]"
      ]
     },
     "metadata": {},
     "output_type": "display_data"
    },
    {
     "name": "stderr",
     "output_type": "stream",
     "text": [
      "c:\\Users\\carlo\\anaconda3\\Lib\\site-packages\\backtesting\\backtesting.py:954: UserWarning: time=392: Broker canceled the relative-sized order due to insufficient margin.\n",
      "  warnings.warn(\n",
      "c:\\Users\\carlo\\anaconda3\\Lib\\site-packages\\backtesting\\backtesting.py:954: UserWarning: time=418: Broker canceled the relative-sized order due to insufficient margin.\n",
      "  warnings.warn(\n",
      "c:\\Users\\carlo\\anaconda3\\Lib\\site-packages\\backtesting\\backtesting.py:954: UserWarning: time=904: Broker canceled the relative-sized order due to insufficient margin.\n",
      "  warnings.warn(\n",
      "c:\\Users\\carlo\\anaconda3\\Lib\\site-packages\\backtesting\\backtesting.py:954: UserWarning: time=1944: Broker canceled the relative-sized order due to insufficient margin.\n",
      "  warnings.warn(\n",
      "c:\\Users\\carlo\\anaconda3\\Lib\\site-packages\\backtesting\\backtesting.py:954: UserWarning: time=2697: Broker canceled the relative-sized order due to insufficient margin.\n",
      "  warnings.warn(\n",
      "c:\\Users\\carlo\\anaconda3\\Lib\\site-packages\\backtesting\\backtesting.py:954: UserWarning: time=2709: Broker canceled the relative-sized order due to insufficient margin.\n",
      "  warnings.warn(\n"
     ]
    },
    {
     "data": {
      "application/vnd.jupyter.widget-view+json": {
       "model_id": "a93eb71dfb844226893a85ef3213dc2f",
       "version_major": 2,
       "version_minor": 0
      },
      "text/plain": [
       "Backtest.run:   0%|          | 0/3461 [00:00<?, ?bar/s]"
      ]
     },
     "metadata": {},
     "output_type": "display_data"
    },
    {
     "name": "stderr",
     "output_type": "stream",
     "text": [
      "c:\\Users\\carlo\\anaconda3\\Lib\\site-packages\\backtesting\\backtesting.py:954: UserWarning: time=1800: Broker canceled the relative-sized order due to insufficient margin.\n",
      "  warnings.warn(\n",
      "c:\\Users\\carlo\\anaconda3\\Lib\\site-packages\\backtesting\\backtesting.py:954: UserWarning: time=2260: Broker canceled the relative-sized order due to insufficient margin.\n",
      "  warnings.warn(\n"
     ]
    },
    {
     "data": {
      "application/vnd.jupyter.widget-view+json": {
       "model_id": "6a085c8069834f00ac1551fb590a2ba9",
       "version_major": 2,
       "version_minor": 0
      },
      "text/plain": [
       "Backtest.run:   0%|          | 0/3369 [00:00<?, ?bar/s]"
      ]
     },
     "metadata": {},
     "output_type": "display_data"
    },
    {
     "name": "stderr",
     "output_type": "stream",
     "text": [
      "c:\\Users\\carlo\\anaconda3\\Lib\\site-packages\\backtesting\\backtesting.py:954: UserWarning: time=1942: Broker canceled the relative-sized order due to insufficient margin.\n",
      "  warnings.warn(\n",
      "c:\\Users\\carlo\\anaconda3\\Lib\\site-packages\\backtesting\\backtesting.py:954: UserWarning: time=3107: Broker canceled the relative-sized order due to insufficient margin.\n",
      "  warnings.warn(\n"
     ]
    },
    {
     "data": {
      "application/vnd.jupyter.widget-view+json": {
       "model_id": "705e3a3dd67748ca8a280d7b248152c7",
       "version_major": 2,
       "version_minor": 0
      },
      "text/plain": [
       "Backtest.run:   0%|          | 0/3142 [00:00<?, ?bar/s]"
      ]
     },
     "metadata": {},
     "output_type": "display_data"
    },
    {
     "name": "stderr",
     "output_type": "stream",
     "text": [
      "c:\\Users\\carlo\\anaconda3\\Lib\\site-packages\\backtesting\\backtesting.py:954: UserWarning: time=467: Broker canceled the relative-sized order due to insufficient margin.\n",
      "  warnings.warn(\n",
      "c:\\Users\\carlo\\anaconda3\\Lib\\site-packages\\backtesting\\backtesting.py:954: UserWarning: time=2590: Broker canceled the relative-sized order due to insufficient margin.\n",
      "  warnings.warn(\n",
      "c:\\Users\\carlo\\anaconda3\\Lib\\site-packages\\backtesting\\backtesting.py:954: UserWarning: time=2646: Broker canceled the relative-sized order due to insufficient margin.\n",
      "  warnings.warn(\n",
      "c:\\Users\\carlo\\anaconda3\\Lib\\site-packages\\backtesting\\backtesting.py:954: UserWarning: time=2945: Broker canceled the relative-sized order due to insufficient margin.\n",
      "  warnings.warn(\n"
     ]
    },
    {
     "data": {
      "application/vnd.jupyter.widget-view+json": {
       "model_id": "f3321c4450664c65835cd7df0717bf9f",
       "version_major": 2,
       "version_minor": 0
      },
      "text/plain": [
       "Backtest.run:   0%|          | 0/3429 [00:00<?, ?bar/s]"
      ]
     },
     "metadata": {},
     "output_type": "display_data"
    },
    {
     "name": "stderr",
     "output_type": "stream",
     "text": [
      "c:\\Users\\carlo\\anaconda3\\Lib\\site-packages\\backtesting\\backtesting.py:954: UserWarning: time=1079: Broker canceled the relative-sized order due to insufficient margin.\n",
      "  warnings.warn(\n",
      "c:\\Users\\carlo\\anaconda3\\Lib\\site-packages\\backtesting\\backtesting.py:954: UserWarning: time=1588: Broker canceled the relative-sized order due to insufficient margin.\n",
      "  warnings.warn(\n",
      "c:\\Users\\carlo\\anaconda3\\Lib\\site-packages\\backtesting\\backtesting.py:954: UserWarning: time=1605: Broker canceled the relative-sized order due to insufficient margin.\n",
      "  warnings.warn(\n",
      "c:\\Users\\carlo\\anaconda3\\Lib\\site-packages\\backtesting\\backtesting.py:954: UserWarning: time=2910: Broker canceled the relative-sized order due to insufficient margin.\n",
      "  warnings.warn(\n",
      "c:\\Users\\carlo\\anaconda3\\Lib\\site-packages\\backtesting\\backtesting.py:954: UserWarning: time=2980: Broker canceled the relative-sized order due to insufficient margin.\n",
      "  warnings.warn(\n"
     ]
    },
    {
     "data": {
      "application/vnd.jupyter.widget-view+json": {
       "model_id": "3f49bbf1b7ca4455ab26d6feb4ed0475",
       "version_major": 2,
       "version_minor": 0
      },
      "text/plain": [
       "Backtest.run:   0%|          | 0/3358 [00:00<?, ?bar/s]"
      ]
     },
     "metadata": {},
     "output_type": "display_data"
    },
    {
     "name": "stderr",
     "output_type": "stream",
     "text": [
      "c:\\Users\\carlo\\anaconda3\\Lib\\site-packages\\backtesting\\backtesting.py:954: UserWarning: time=430: Broker canceled the relative-sized order due to insufficient margin.\n",
      "  warnings.warn(\n",
      "c:\\Users\\carlo\\anaconda3\\Lib\\site-packages\\backtesting\\backtesting.py:954: UserWarning: time=2977: Broker canceled the relative-sized order due to insufficient margin.\n",
      "  warnings.warn(\n",
      "c:\\Users\\carlo\\anaconda3\\Lib\\site-packages\\backtesting\\backtesting.py:954: UserWarning: time=3068: Broker canceled the relative-sized order due to insufficient margin.\n",
      "  warnings.warn(\n"
     ]
    },
    {
     "data": {
      "application/vnd.jupyter.widget-view+json": {
       "model_id": "22a8902b5c2f4df0bd96561d79f41ad6",
       "version_major": 2,
       "version_minor": 0
      },
      "text/plain": [
       "Backtest.run:   0%|          | 0/3375 [00:00<?, ?bar/s]"
      ]
     },
     "metadata": {},
     "output_type": "display_data"
    },
    {
     "name": "stderr",
     "output_type": "stream",
     "text": [
      "c:\\Users\\carlo\\anaconda3\\Lib\\site-packages\\backtesting\\backtesting.py:954: UserWarning: time=430: Broker canceled the relative-sized order due to insufficient margin.\n",
      "  warnings.warn(\n",
      "c:\\Users\\carlo\\anaconda3\\Lib\\site-packages\\backtesting\\backtesting.py:954: UserWarning: time=777: Broker canceled the relative-sized order due to insufficient margin.\n",
      "  warnings.warn(\n",
      "c:\\Users\\carlo\\anaconda3\\Lib\\site-packages\\backtesting\\backtesting.py:954: UserWarning: time=1426: Broker canceled the relative-sized order due to insufficient margin.\n",
      "  warnings.warn(\n",
      "c:\\Users\\carlo\\anaconda3\\Lib\\site-packages\\backtesting\\backtesting.py:954: UserWarning: time=2091: Broker canceled the relative-sized order due to insufficient margin.\n",
      "  warnings.warn(\n"
     ]
    },
    {
     "data": {
      "application/vnd.jupyter.widget-view+json": {
       "model_id": "dda67071fbfd469284c8880354eeb0ac",
       "version_major": 2,
       "version_minor": 0
      },
      "text/plain": [
       "Backtest.run:   0%|          | 0/3372 [00:00<?, ?bar/s]"
      ]
     },
     "metadata": {},
     "output_type": "display_data"
    },
    {
     "name": "stderr",
     "output_type": "stream",
     "text": [
      "c:\\Users\\carlo\\anaconda3\\Lib\\site-packages\\backtesting\\backtesting.py:954: UserWarning: time=732: Broker canceled the relative-sized order due to insufficient margin.\n",
      "  warnings.warn(\n",
      "c:\\Users\\carlo\\anaconda3\\Lib\\site-packages\\backtesting\\backtesting.py:954: UserWarning: time=747: Broker canceled the relative-sized order due to insufficient margin.\n",
      "  warnings.warn(\n",
      "c:\\Users\\carlo\\anaconda3\\Lib\\site-packages\\backtesting\\backtesting.py:954: UserWarning: time=776: Broker canceled the relative-sized order due to insufficient margin.\n",
      "  warnings.warn(\n",
      "c:\\Users\\carlo\\anaconda3\\Lib\\site-packages\\backtesting\\backtesting.py:954: UserWarning: time=1748: Broker canceled the relative-sized order due to insufficient margin.\n",
      "  warnings.warn(\n",
      "c:\\Users\\carlo\\anaconda3\\Lib\\site-packages\\backtesting\\backtesting.py:954: UserWarning: time=2092: Broker canceled the relative-sized order due to insufficient margin.\n",
      "  warnings.warn(\n",
      "c:\\Users\\carlo\\anaconda3\\Lib\\site-packages\\backtesting\\backtesting.py:954: UserWarning: time=2460: Broker canceled the relative-sized order due to insufficient margin.\n",
      "  warnings.warn(\n",
      "c:\\Users\\carlo\\anaconda3\\Lib\\site-packages\\backtesting\\backtesting.py:954: UserWarning: time=2699: Broker canceled the relative-sized order due to insufficient margin.\n",
      "  warnings.warn(\n",
      "c:\\Users\\carlo\\anaconda3\\Lib\\site-packages\\backtesting\\backtesting.py:954: UserWarning: time=3470: Broker canceled the relative-sized order due to insufficient margin.\n",
      "  warnings.warn(\n"
     ]
    },
    {
     "data": {
      "application/vnd.jupyter.widget-view+json": {
       "model_id": "d7d269e7f75741bc921074a0e0b87251",
       "version_major": 2,
       "version_minor": 0
      },
      "text/plain": [
       "Backtest.run:   0%|          | 0/3381 [00:00<?, ?bar/s]"
      ]
     },
     "metadata": {},
     "output_type": "display_data"
    },
    {
     "name": "stderr",
     "output_type": "stream",
     "text": [
      "c:\\Users\\carlo\\anaconda3\\Lib\\site-packages\\backtesting\\backtesting.py:954: UserWarning: time=3105: Broker canceled the relative-sized order due to insufficient margin.\n",
      "  warnings.warn(\n"
     ]
    },
    {
     "data": {
      "application/vnd.jupyter.widget-view+json": {
       "model_id": "c69e3da9425e4767b59261032c642644",
       "version_major": 2,
       "version_minor": 0
      },
      "text/plain": [
       "Backtest.run:   0%|          | 0/400 [00:00<?, ?bar/s]"
      ]
     },
     "metadata": {},
     "output_type": "display_data"
    },
    {
     "data": {
      "application/vnd.jupyter.widget-view+json": {
       "model_id": "4d3e5e597d6c402cb82c88097d302b11",
       "version_major": 2,
       "version_minor": 0
      },
      "text/plain": [
       "Backtest.run:   0%|          | 0/3401 [00:00<?, ?bar/s]"
      ]
     },
     "metadata": {},
     "output_type": "display_data"
    },
    {
     "name": "stderr",
     "output_type": "stream",
     "text": [
      "c:\\Users\\carlo\\anaconda3\\Lib\\site-packages\\backtesting\\backtesting.py:954: UserWarning: time=2104: Broker canceled the relative-sized order due to insufficient margin.\n",
      "  warnings.warn(\n",
      "c:\\Users\\carlo\\anaconda3\\Lib\\site-packages\\backtesting\\backtesting.py:954: UserWarning: time=2641: Broker canceled the relative-sized order due to insufficient margin.\n",
      "  warnings.warn(\n",
      "c:\\Users\\carlo\\anaconda3\\Lib\\site-packages\\backtesting\\backtesting.py:954: UserWarning: time=2768: Broker canceled the relative-sized order due to insufficient margin.\n",
      "  warnings.warn(\n"
     ]
    },
    {
     "data": {
      "application/vnd.jupyter.widget-view+json": {
       "model_id": "b342e576343b41fbbdca4da28d8d4485",
       "version_major": 2,
       "version_minor": 0
      },
      "text/plain": [
       "Backtest.run:   0%|          | 0/3192 [00:00<?, ?bar/s]"
      ]
     },
     "metadata": {},
     "output_type": "display_data"
    },
    {
     "name": "stderr",
     "output_type": "stream",
     "text": [
      "c:\\Users\\carlo\\anaconda3\\Lib\\site-packages\\backtesting\\backtesting.py:954: UserWarning: time=846: Broker canceled the relative-sized order due to insufficient margin.\n",
      "  warnings.warn(\n",
      "c:\\Users\\carlo\\anaconda3\\Lib\\site-packages\\backtesting\\backtesting.py:954: UserWarning: time=980: Broker canceled the relative-sized order due to insufficient margin.\n",
      "  warnings.warn(\n",
      "c:\\Users\\carlo\\anaconda3\\Lib\\site-packages\\backtesting\\backtesting.py:954: UserWarning: time=1202: Broker canceled the relative-sized order due to insufficient margin.\n",
      "  warnings.warn(\n",
      "c:\\Users\\carlo\\anaconda3\\Lib\\site-packages\\backtesting\\backtesting.py:954: UserWarning: time=2893: Broker canceled the relative-sized order due to insufficient margin.\n",
      "  warnings.warn(\n"
     ]
    },
    {
     "data": {
      "application/vnd.jupyter.widget-view+json": {
       "model_id": "98ded9226e154e1f8a84a82cf985d330",
       "version_major": 2,
       "version_minor": 0
      },
      "text/plain": [
       "Backtest.run:   0%|          | 0/3459 [00:00<?, ?bar/s]"
      ]
     },
     "metadata": {},
     "output_type": "display_data"
    },
    {
     "name": "stderr",
     "output_type": "stream",
     "text": [
      "c:\\Users\\carlo\\anaconda3\\Lib\\site-packages\\backtesting\\backtesting.py:954: UserWarning: time=2696: Broker canceled the relative-sized order due to insufficient margin.\n",
      "  warnings.warn(\n",
      "c:\\Users\\carlo\\anaconda3\\Lib\\site-packages\\backtesting\\backtesting.py:954: UserWarning: time=2835: Broker canceled the relative-sized order due to insufficient margin.\n",
      "  warnings.warn(\n"
     ]
    },
    {
     "data": {
      "application/vnd.jupyter.widget-view+json": {
       "model_id": "6e76c03238fb4244a4f3bbeada90908d",
       "version_major": 2,
       "version_minor": 0
      },
      "text/plain": [
       "Backtest.run:   0%|          | 0/3311 [00:00<?, ?bar/s]"
      ]
     },
     "metadata": {},
     "output_type": "display_data"
    },
    {
     "name": "stderr",
     "output_type": "stream",
     "text": [
      "c:\\Users\\carlo\\anaconda3\\Lib\\site-packages\\backtesting\\backtesting.py:954: UserWarning: time=1941: Broker canceled the relative-sized order due to insufficient margin.\n",
      "  warnings.warn(\n",
      "c:\\Users\\carlo\\anaconda3\\Lib\\site-packages\\backtesting\\backtesting.py:954: UserWarning: time=2954: Broker canceled the relative-sized order due to insufficient margin.\n",
      "  warnings.warn(\n",
      "c:\\Users\\carlo\\anaconda3\\Lib\\site-packages\\backtesting\\backtesting.py:954: UserWarning: time=3457: Broker canceled the relative-sized order due to insufficient margin.\n",
      "  warnings.warn(\n",
      "c:\\Users\\carlo\\anaconda3\\Lib\\site-packages\\backtesting\\backtesting.py:954: UserWarning: time=3468: Broker canceled the relative-sized order due to insufficient margin.\n",
      "  warnings.warn(\n"
     ]
    },
    {
     "data": {
      "application/vnd.jupyter.widget-view+json": {
       "model_id": "37082421f19a4935beab800203c6e23a",
       "version_major": 2,
       "version_minor": 0
      },
      "text/plain": [
       "Backtest.run:   0%|          | 0/3465 [00:00<?, ?bar/s]"
      ]
     },
     "metadata": {},
     "output_type": "display_data"
    },
    {
     "name": "stderr",
     "output_type": "stream",
     "text": [
      "c:\\Users\\carlo\\anaconda3\\Lib\\site-packages\\backtesting\\backtesting.py:954: UserWarning: time=430: Broker canceled the relative-sized order due to insufficient margin.\n",
      "  warnings.warn(\n",
      "c:\\Users\\carlo\\anaconda3\\Lib\\site-packages\\backtesting\\backtesting.py:954: UserWarning: time=863: Broker canceled the relative-sized order due to insufficient margin.\n",
      "  warnings.warn(\n",
      "c:\\Users\\carlo\\anaconda3\\Lib\\site-packages\\backtesting\\backtesting.py:954: UserWarning: time=1602: Broker canceled the relative-sized order due to insufficient margin.\n",
      "  warnings.warn(\n",
      "c:\\Users\\carlo\\anaconda3\\Lib\\site-packages\\backtesting\\backtesting.py:954: UserWarning: time=2571: Broker canceled the relative-sized order due to insufficient margin.\n",
      "  warnings.warn(\n"
     ]
    }
   ],
   "source": [
    "# Por cada TIcket\n",
    "my_stats = {}\n",
    "estadisticas = pd.DataFrame()          # lista para ticker\n",
    "tradesprev = pd.DataFrame()     # lista para cada caso por ticker\n",
    "for ticker in df_backTesting['companyName'].unique():\n",
    "    ticker_data = df_backTesting[df_backTesting['companyName'] == ticker].copy() #Filtro por cada ticker\n",
    "    bt = Backtest(ticker_data, strategyRupturaCanal, cash=10_000)\n",
    "    my_stats = bt.run()\n",
    "    listTrades = my_stats['_trades']\n",
    "    tradesdf = pd.DataFrame(listTrades) #trades\n",
    "    tradesdf['Ticker'] = ticker\n",
    "    stats_filter={\n",
    "        'Ticker':ticker,\n",
    "        'EntryTime':my_stats['Start'],\n",
    "        'ExitTime':my_stats['End'],\n",
    "        'Return [%]': my_stats['Return [%]'],\n",
    "        'CAGR [%]': my_stats['Return (Ann.) [%]'],\n",
    "        'Sharpe Ratio': my_stats['Sharpe Ratio'],\n",
    "        'Max. Drawdown [%]': my_stats['Max. Drawdown [%]'],\n",
    "        'Win Rate [%]': my_stats['Win Rate [%]'],\n",
    "        '# Trades': my_stats['# Trades'],\n",
    "        'Expectancy [%]': my_stats['Expectancy [%]'],\n",
    "        'Profit Factor': my_stats['Profit Factor'],\n",
    "        'Duration': my_stats['Duration'],\n",
    "        'Avg. Trade [%]':my_stats['Avg. Trade [%]'],\n",
    "        'Max. Trade Duration':my_stats['Max. Trade Duration'],\n",
    "        'Avg. Trade Duration':my_stats['Avg. Trade Duration']\n",
    "    }\n",
    "    stat=pd.DataFrame([stats_filter])\n",
    "    if tradesprev.shape[0]==0:\n",
    "        tradesprev = tradesdf.copy()\n",
    "        estadisticas=stat.copy()\n",
    "    else:\n",
    "        tradesprev = pd.concat([tradesprev, tradesdf],ignore_index=True)\n",
    "        estadisticas=pd.concat([estadisticas, stat],ignore_index=True)\n",
    "    # Mostramos\n",
    "    #bt.plot(resample=False, filename=f\"plot_BreakOUT_{ticker}\")"
   ]
  },
  {
   "cell_type": "code",
   "execution_count": 26,
   "id": "c374d670",
   "metadata": {},
   "outputs": [],
   "source": [
    "ini = df_casos2[(df_casos2['isBreakOutIni']==1)].copy()\n",
    "df_casos3_ini=ini.rename(columns={'Open': 'EntryPrice', 'datetime': 'EntryTime', 'companyName': 'Ticker'})[['EntryPrice','Ticker','caso','EntryTime']]\n",
    "final = df_casos2[(df_casos2['isBreakOutFinal']==1)].copy()\n",
    "df_casos3_final=final.rename(columns={'Open': 'ExitPrice', 'datetime': 'ExitTime', 'companyName': 'Ticker'})[['ExitPrice','Ticker','caso','ExitTime']]"
   ]
  },
  {
   "cell_type": "code",
   "execution_count": 27,
   "id": "4a813a8c",
   "metadata": {},
   "outputs": [],
   "source": [
    "df_casos3=df_casos3_ini.merge(df_casos3_final,on=['Ticker','caso'],how='outer')"
   ]
  },
  {
   "cell_type": "code",
   "execution_count": 28,
   "id": "5b271a24",
   "metadata": {},
   "outputs": [],
   "source": [
    "trades = pd.merge(df_casos3, tradesprev, on = ['EntryTime','Ticker'], how='left')"
   ]
  },
  {
   "cell_type": "code",
   "execution_count": 29,
   "id": "9f43e99c",
   "metadata": {},
   "outputs": [],
   "source": [
    "def exitPrice(x):\n",
    "    if pd.isna(x['ExitPrice_x']):\n",
    "        return x['ExitPrice_y']\n",
    "    else:\n",
    "        return x['ExitPrice_x']\n",
    "trades['ExitPrice'] = trades.apply(lambda row: exitPrice(row), axis=1)"
   ]
  },
  {
   "cell_type": "code",
   "execution_count": 30,
   "id": "97e6d3aa",
   "metadata": {},
   "outputs": [],
   "source": [
    "trades = trades.rename(columns={'EntryPrice_x': 'EntryPrice'})\n",
    "trades = trades.drop(['EntryPrice_y','ExitPrice_x', 'ExitPrice_y'], axis=1)"
   ]
  },
  {
   "cell_type": "code",
   "execution_count": 31,
   "id": "461022de",
   "metadata": {},
   "outputs": [],
   "source": [
    "def exitTime(x):\n",
    "    if pd.isna(x['ExitTime_x']):\n",
    "        return x['ExitTime_y']\n",
    "    else:\n",
    "        return x['ExitTime_x']\n",
    "trades['ExitTime'] = trades.apply(lambda row: exitTime(row), axis=1)"
   ]
  },
  {
   "cell_type": "code",
   "execution_count": 32,
   "id": "aba3043b",
   "metadata": {},
   "outputs": [],
   "source": [
    "def duration(x):\n",
    "    if pd.isna(x['Duration']):\n",
    "        if pd.isna(x['ExitTime']):\n",
    "            return pd.NaT\n",
    "        else:\n",
    "            return x['ExitTime']-x['EntryTime']\n",
    "    else:\n",
    "        return x['Duration']\n",
    "trades['Duration'] = trades.apply(lambda row: duration(row), axis=1)"
   ]
  },
  {
   "cell_type": "code",
   "execution_count": 33,
   "id": "60ce27c6",
   "metadata": {},
   "outputs": [],
   "source": [
    "trades = trades.drop(['ExitTime_x', 'ExitTime_y'], axis=1)"
   ]
  },
  {
   "cell_type": "code",
   "execution_count": 34,
   "id": "beb643c9",
   "metadata": {},
   "outputs": [],
   "source": [
    "trades=trades[['Ticker','EntryTime','ExitTime','EntryPrice','ExitPrice','Duration','Size','EntryBar','ExitBar','ReturnPct','PnL','caso']]"
   ]
  },
  {
   "cell_type": "code",
   "execution_count": 35,
   "id": "c18ba116",
   "metadata": {},
   "outputs": [],
   "source": [
    "for item in estadisticas['Ticker'].unique():\n",
    "    count = trades[trades[\"Ticker\"] == item].shape[0]\n",
    "    estadisticas.loc[estadisticas['Ticker'] == item, '# Trades'] = count"
   ]
  },
  {
   "cell_type": "code",
   "execution_count": 36,
   "id": "c4e1b3ee-116c-43f4-8127-8c0aba361ae0",
   "metadata": {},
   "outputs": [],
   "source": [
    "#EXPORTACION DE DATAFRAME\n",
    "path = 'data/backtesting'\n",
    "\n",
    "# Asegurarse de que el directorio existe\n",
    "os.makedirs(path, exist_ok=True)\n",
    "\n",
    "path_trades = os.path.join(path, 'trades_cb.txt')\n",
    "path_estadisticas = os.path.join(path, 'estadisticas_cb.txt')\n",
    "\n",
    "for file_path in [path_trades, path_estadisticas]:\n",
    "    if os.path.exists(file_path):\n",
    "        os.remove(file_path)\n",
    "    else:\n",
    "        print(f\"File does not exist: {file_path}. It will be created.\")\n",
    "\n",
    "trades.to_csv(path_trades, header=True, index=False, sep='\\t', mode='w')\n",
    "estadisticas.to_csv(path_estadisticas, header=True, index=False, sep='\\t', mode='w')\n"
   ]
  }
 ],
 "metadata": {
  "kernelspec": {
   "display_name": "base",
   "language": "python",
   "name": "python3"
  },
  "language_info": {
   "codemirror_mode": {
    "name": "ipython",
    "version": 3
   },
   "file_extension": ".py",
   "mimetype": "text/x-python",
   "name": "python",
   "nbconvert_exporter": "python",
   "pygments_lexer": "ipython3",
   "version": "3.12.3"
  }
 },
 "nbformat": 4,
 "nbformat_minor": 5
}
