{
 "cells": [
  {
   "cell_type": "markdown",
   "id": "696c10a4",
   "metadata": {
    "papermill": {
     "duration": 0.004475,
     "end_time": "2025-07-03T22:19:52.602717",
     "exception": false,
     "start_time": "2025-07-03T22:19:52.598242",
     "status": "completed"
    },
    "tags": []
   },
   "source": [
    "# Channel Break Out Detection"
   ]
  },
  {
   "cell_type": "markdown",
   "id": "3362e727",
   "metadata": {
    "papermill": {
     "duration": 0.003786,
     "end_time": "2025-07-03T22:19:52.610491",
     "exception": false,
     "start_time": "2025-07-03T22:19:52.606705",
     "status": "completed"
    },
    "tags": []
   },
   "source": [
    "## Import Data\n",
    "##### 1. Determinar puntos de cambios de tendencia\n",
    "##### 2. Con los valores high determinar la linea de tendencia bajista\n",
    "##### 3. Determinar el punto de ruptura del canal, mas que todo la tendcia techo (canal bajista)\n",
    "##### 4. Determinar manipulacion del mercado y falsa ruptura"
   ]
  },
  {
   "cell_type": "code",
   "execution_count": 1,
   "id": "e0c512aa",
   "metadata": {
    "execution": {
     "iopub.execute_input": "2025-07-03T22:19:52.618981Z",
     "iopub.status.busy": "2025-07-03T22:19:52.618742Z",
     "iopub.status.idle": "2025-07-03T22:19:53.625632Z",
     "shell.execute_reply": "2025-07-03T22:19:53.625167Z"
    },
    "papermill": {
     "duration": 1.012337,
     "end_time": "2025-07-03T22:19:53.626541",
     "exception": false,
     "start_time": "2025-07-03T22:19:52.614204",
     "status": "completed"
    },
    "tags": []
   },
   "outputs": [
    {
     "name": "stderr",
     "output_type": "stream",
     "text": [
      "/usr/share/miniconda/envs/test/lib/python3.10/site-packages/tqdm/auto.py:21: TqdmWarning: IProgress not found. Please update jupyter and ipywidgets. See https://ipywidgets.readthedocs.io/en/stable/user_install.html\n",
      "  from .autonotebook import tqdm as notebook_tqdm\n",
      "/usr/share/miniconda/envs/test/lib/python3.10/site-packages/backtesting/_plotting.py:55: UserWarning: Jupyter Notebook detected. Setting Bokeh output to notebook. This may not work in Jupyter clients without JavaScript support, such as old IDEs. Reset with `backtesting.set_bokeh_output(notebook=False)`.\n",
      "  warnings.warn('Jupyter Notebook detected. '\n"
     ]
    },
    {
     "data": {
      "text/html": [
       "    <style>\n",
       "        .bk-notebook-logo {\n",
       "            display: block;\n",
       "            width: 20px;\n",
       "            height: 20px;\n",
       "            background-image: url(data:image/png;base64,iVBORw0KGgoAAAANSUhEUgAAABQAAAAUCAYAAACNiR0NAAAABHNCSVQICAgIfAhkiAAAAAlwSFlzAAALEgAACxIB0t1+/AAAABx0RVh0U29mdHdhcmUAQWRvYmUgRmlyZXdvcmtzIENTNui8sowAAAOkSURBVDiNjZRtaJVlGMd/1/08zzln5zjP1LWcU9N0NkN8m2CYjpgQYQXqSs0I84OLIC0hkEKoPtiH3gmKoiJDU7QpLgoLjLIQCpEsNJ1vqUOdO7ppbuec5+V+rj4ctwzd8IIbbi6u+8f1539dt3A78eXC7QizUF7gyV1fD1Yqg4JWz84yffhm0qkFqBogB9rM8tZdtwVsPUhWhGcFJngGeWrPzHm5oaMmkfEg1usvLFyc8jLRqDOMru7AyC8saQr7GG7f5fvDeH7Ej8CM66nIF+8yngt6HWaKh7k49Soy9nXurCi1o3qUbS3zWfrYeQDTB/Qj6kX6Ybhw4B+bOYoLKCC9H3Nu/leUTZ1JdRWkkn2ldcCamzrcf47KKXdAJllSlxAOkRgyHsGC/zRday5Qld9DyoM4/q/rUoy/CXh3jzOu3bHUVZeU+DEn8FInkPBFlu3+nW3Nw0mk6vCDiWg8CeJaxEwuHS3+z5RgY+YBR6V1Z1nxSOfoaPa4LASWxxdNp+VWTk7+4vzaou8v8PN+xo+KY2xsw6une2frhw05CTYOmQvsEhjhWjn0bmXPjpE1+kplmmkP3suftwTubK9Vq22qKmrBhpY4jvd5afdRA3wGjFAgcnTK2s4hY0/GPNIb0nErGMCRxWOOX64Z8RAC4oCXdklmEvcL8o0BfkNK4lUg9HTl+oPlQxdNo3Mg4Nv175e/1LDGzZen30MEjRUtmXSfiTVu1kK8W4txyV6BMKlbgk3lMwYCiusNy9fVfvvwMxv8Ynl6vxoByANLTWplvuj/nF9m2+PDtt1eiHPBr1oIfhCChQMBw6Aw0UulqTKZdfVvfG7VcfIqLG9bcldL/+pdWTLxLUy8Qq38heUIjh4XlzZxzQm19lLFlr8vdQ97rjZVOLf8nclzckbcD4wxXMidpX30sFd37Fv/GtwwhzhxGVAprjbg0gCAEeIgwCZyTV2Z1REEW8O4py0wsjeloKoMr6iCY6dP92H6Vw/oTyICIthibxjm/DfN9lVz8IqtqKYLUXfoKVMVQVVJOElGjrnnUt9T9wbgp8AyYKaGlqingHZU/uG2NTZSVqwHQTWkx9hxjkpWDaCg6Ckj5qebgBVbT3V3NNXMSiWSDdGV3hrtzla7J+duwPOToIg42ChPQOQjspnSlp1V+Gjdged7+8UN5CRAV7a5EdFNwCjEaBR27b3W890TE7g24NAP/mMDXRWrGoFPQI9ls/MWO2dWFAar/xcOIImbbpA3zgAAAABJRU5ErkJggg==);\n",
       "        }\n",
       "    </style>\n",
       "    <div>\n",
       "        <a href=\"https://bokeh.org\" target=\"_blank\" class=\"bk-notebook-logo\"></a>\n",
       "        <span id=\"df2b4878-d952-47fe-ab48-538d8c80a9f0\">Loading BokehJS ...</span>\n",
       "    </div>\n"
      ]
     },
     "metadata": {},
     "output_type": "display_data"
    },
    {
     "data": {
      "application/javascript": [
       "'use strict';\n",
       "(function(root) {\n",
       "  function now() {\n",
       "    return new Date();\n",
       "  }\n",
       "\n",
       "  const force = true;\n",
       "\n",
       "  if (typeof root._bokeh_onload_callbacks === \"undefined\" || force === true) {\n",
       "    root._bokeh_onload_callbacks = [];\n",
       "    root._bokeh_is_loading = undefined;\n",
       "  }\n",
       "\n",
       "const JS_MIME_TYPE = 'application/javascript';\n",
       "  const HTML_MIME_TYPE = 'text/html';\n",
       "  const EXEC_MIME_TYPE = 'application/vnd.bokehjs_exec.v0+json';\n",
       "  const CLASS_NAME = 'output_bokeh rendered_html';\n",
       "\n",
       "  /**\n",
       "   * Render data to the DOM node\n",
       "   */\n",
       "  function render(props, node) {\n",
       "    const script = document.createElement(\"script\");\n",
       "    node.appendChild(script);\n",
       "  }\n",
       "\n",
       "  /**\n",
       "   * Handle when an output is cleared or removed\n",
       "   */\n",
       "  function handleClearOutput(event, handle) {\n",
       "    function drop(id) {\n",
       "      const view = Bokeh.index.get_by_id(id)\n",
       "      if (view != null) {\n",
       "        view.model.document.clear()\n",
       "        Bokeh.index.delete(view)\n",
       "      }\n",
       "    }\n",
       "\n",
       "    const cell = handle.cell;\n",
       "\n",
       "    const id = cell.output_area._bokeh_element_id;\n",
       "    const server_id = cell.output_area._bokeh_server_id;\n",
       "\n",
       "    // Clean up Bokeh references\n",
       "    if (id != null) {\n",
       "      drop(id)\n",
       "    }\n",
       "\n",
       "    if (server_id !== undefined) {\n",
       "      // Clean up Bokeh references\n",
       "      const cmd_clean = \"from bokeh.io.state import curstate; print(curstate().uuid_to_server['\" + server_id + \"'].get_sessions()[0].document.roots[0]._id)\";\n",
       "      cell.notebook.kernel.execute(cmd_clean, {\n",
       "        iopub: {\n",
       "          output: function(msg) {\n",
       "            const id = msg.content.text.trim()\n",
       "            drop(id)\n",
       "          }\n",
       "        }\n",
       "      });\n",
       "      // Destroy server and session\n",
       "      const cmd_destroy = \"import bokeh.io.notebook as ion; ion.destroy_server('\" + server_id + \"')\";\n",
       "      cell.notebook.kernel.execute(cmd_destroy);\n",
       "    }\n",
       "  }\n",
       "\n",
       "  /**\n",
       "   * Handle when a new output is added\n",
       "   */\n",
       "  function handleAddOutput(event, handle) {\n",
       "    const output_area = handle.output_area;\n",
       "    const output = handle.output;\n",
       "\n",
       "    // limit handleAddOutput to display_data with EXEC_MIME_TYPE content only\n",
       "    if ((output.output_type != \"display_data\") || (!Object.prototype.hasOwnProperty.call(output.data, EXEC_MIME_TYPE))) {\n",
       "      return\n",
       "    }\n",
       "\n",
       "    const toinsert = output_area.element.find(\".\" + CLASS_NAME.split(' ')[0]);\n",
       "\n",
       "    if (output.metadata[EXEC_MIME_TYPE][\"id\"] !== undefined) {\n",
       "      toinsert[toinsert.length - 1].firstChild.textContent = output.data[JS_MIME_TYPE];\n",
       "      // store reference to embed id on output_area\n",
       "      output_area._bokeh_element_id = output.metadata[EXEC_MIME_TYPE][\"id\"];\n",
       "    }\n",
       "    if (output.metadata[EXEC_MIME_TYPE][\"server_id\"] !== undefined) {\n",
       "      const bk_div = document.createElement(\"div\");\n",
       "      bk_div.innerHTML = output.data[HTML_MIME_TYPE];\n",
       "      const script_attrs = bk_div.children[0].attributes;\n",
       "      for (let i = 0; i < script_attrs.length; i++) {\n",
       "        toinsert[toinsert.length - 1].firstChild.setAttribute(script_attrs[i].name, script_attrs[i].value);\n",
       "        toinsert[toinsert.length - 1].firstChild.textContent = bk_div.children[0].textContent\n",
       "      }\n",
       "      // store reference to server id on output_area\n",
       "      output_area._bokeh_server_id = output.metadata[EXEC_MIME_TYPE][\"server_id\"];\n",
       "    }\n",
       "  }\n",
       "\n",
       "  function register_renderer(events, OutputArea) {\n",
       "\n",
       "    function append_mime(data, metadata, element) {\n",
       "      // create a DOM node to render to\n",
       "      const toinsert = this.create_output_subarea(\n",
       "        metadata,\n",
       "        CLASS_NAME,\n",
       "        EXEC_MIME_TYPE\n",
       "      );\n",
       "      this.keyboard_manager.register_events(toinsert);\n",
       "      // Render to node\n",
       "      const props = {data: data, metadata: metadata[EXEC_MIME_TYPE]};\n",
       "      render(props, toinsert[toinsert.length - 1]);\n",
       "      element.append(toinsert);\n",
       "      return toinsert\n",
       "    }\n",
       "\n",
       "    /* Handle when an output is cleared or removed */\n",
       "    events.on('clear_output.CodeCell', handleClearOutput);\n",
       "    events.on('delete.Cell', handleClearOutput);\n",
       "\n",
       "    /* Handle when a new output is added */\n",
       "    events.on('output_added.OutputArea', handleAddOutput);\n",
       "\n",
       "    /**\n",
       "     * Register the mime type and append_mime function with output_area\n",
       "     */\n",
       "    OutputArea.prototype.register_mime_type(EXEC_MIME_TYPE, append_mime, {\n",
       "      /* Is output safe? */\n",
       "      safe: true,\n",
       "      /* Index of renderer in `output_area.display_order` */\n",
       "      index: 0\n",
       "    });\n",
       "  }\n",
       "\n",
       "  // register the mime type if in Jupyter Notebook environment and previously unregistered\n",
       "  if (root.Jupyter !== undefined) {\n",
       "    const events = require('base/js/events');\n",
       "    const OutputArea = require('notebook/js/outputarea').OutputArea;\n",
       "\n",
       "    if (OutputArea.prototype.mime_types().indexOf(EXEC_MIME_TYPE) == -1) {\n",
       "      register_renderer(events, OutputArea);\n",
       "    }\n",
       "  }\n",
       "  if (typeof (root._bokeh_timeout) === \"undefined\" || force === true) {\n",
       "    root._bokeh_timeout = Date.now() + 5000;\n",
       "    root._bokeh_failed_load = false;\n",
       "  }\n",
       "\n",
       "  const NB_LOAD_WARNING = {'data': {'text/html':\n",
       "     \"<div style='background-color: #fdd'>\\n\"+\n",
       "     \"<p>\\n\"+\n",
       "     \"BokehJS does not appear to have successfully loaded. If loading BokehJS from CDN, this \\n\"+\n",
       "     \"may be due to a slow or bad network connection. Possible fixes:\\n\"+\n",
       "     \"</p>\\n\"+\n",
       "     \"<ul>\\n\"+\n",
       "     \"<li>re-rerun `output_notebook()` to attempt to load from CDN again, or</li>\\n\"+\n",
       "     \"<li>use INLINE resources instead, as so:</li>\\n\"+\n",
       "     \"</ul>\\n\"+\n",
       "     \"<code>\\n\"+\n",
       "     \"from bokeh.resources import INLINE\\n\"+\n",
       "     \"output_notebook(resources=INLINE)\\n\"+\n",
       "     \"</code>\\n\"+\n",
       "     \"</div>\"}};\n",
       "\n",
       "  function display_loaded(error = null) {\n",
       "    const el = document.getElementById(\"df2b4878-d952-47fe-ab48-538d8c80a9f0\");\n",
       "    if (el != null) {\n",
       "      const html = (() => {\n",
       "        if (typeof root.Bokeh === \"undefined\") {\n",
       "          if (error == null) {\n",
       "            return \"BokehJS is loading ...\";\n",
       "          } else {\n",
       "            return \"BokehJS failed to load.\";\n",
       "          }\n",
       "        } else {\n",
       "          const prefix = `BokehJS ${root.Bokeh.version}`;\n",
       "          if (error == null) {\n",
       "            return `${prefix} successfully loaded.`;\n",
       "          } else {\n",
       "            return `${prefix} <b>encountered errors</b> while loading and may not function as expected.`;\n",
       "          }\n",
       "        }\n",
       "      })();\n",
       "      el.innerHTML = html;\n",
       "\n",
       "      if (error != null) {\n",
       "        const wrapper = document.createElement(\"div\");\n",
       "        wrapper.style.overflow = \"auto\";\n",
       "        wrapper.style.height = \"5em\";\n",
       "        wrapper.style.resize = \"vertical\";\n",
       "        const content = document.createElement(\"div\");\n",
       "        content.style.fontFamily = \"monospace\";\n",
       "        content.style.whiteSpace = \"pre-wrap\";\n",
       "        content.style.backgroundColor = \"rgb(255, 221, 221)\";\n",
       "        content.textContent = error.stack ?? error.toString();\n",
       "        wrapper.append(content);\n",
       "        el.append(wrapper);\n",
       "      }\n",
       "    } else if (Date.now() < root._bokeh_timeout) {\n",
       "      setTimeout(() => display_loaded(error), 100);\n",
       "    }\n",
       "  }\n",
       "\n",
       "  function run_callbacks() {\n",
       "    try {\n",
       "      root._bokeh_onload_callbacks.forEach(function(callback) {\n",
       "        if (callback != null)\n",
       "          callback();\n",
       "      });\n",
       "    } finally {\n",
       "      delete root._bokeh_onload_callbacks\n",
       "    }\n",
       "    console.debug(\"Bokeh: all callbacks have finished\");\n",
       "  }\n",
       "\n",
       "  function load_libs(css_urls, js_urls, callback) {\n",
       "    if (css_urls == null) css_urls = [];\n",
       "    if (js_urls == null) js_urls = [];\n",
       "\n",
       "    root._bokeh_onload_callbacks.push(callback);\n",
       "    if (root._bokeh_is_loading > 0) {\n",
       "      console.debug(\"Bokeh: BokehJS is being loaded, scheduling callback at\", now());\n",
       "      return null;\n",
       "    }\n",
       "    if (js_urls == null || js_urls.length === 0) {\n",
       "      run_callbacks();\n",
       "      return null;\n",
       "    }\n",
       "    console.debug(\"Bokeh: BokehJS not loaded, scheduling load and callback at\", now());\n",
       "    root._bokeh_is_loading = css_urls.length + js_urls.length;\n",
       "\n",
       "    function on_load() {\n",
       "      root._bokeh_is_loading--;\n",
       "      if (root._bokeh_is_loading === 0) {\n",
       "        console.debug(\"Bokeh: all BokehJS libraries/stylesheets loaded\");\n",
       "        run_callbacks()\n",
       "      }\n",
       "    }\n",
       "\n",
       "    function on_error(url) {\n",
       "      console.error(\"failed to load \" + url);\n",
       "    }\n",
       "\n",
       "    for (let i = 0; i < css_urls.length; i++) {\n",
       "      const url = css_urls[i];\n",
       "      const element = document.createElement(\"link\");\n",
       "      element.onload = on_load;\n",
       "      element.onerror = on_error.bind(null, url);\n",
       "      element.rel = \"stylesheet\";\n",
       "      element.type = \"text/css\";\n",
       "      element.href = url;\n",
       "      console.debug(\"Bokeh: injecting link tag for BokehJS stylesheet: \", url);\n",
       "      document.body.appendChild(element);\n",
       "    }\n",
       "\n",
       "    for (let i = 0; i < js_urls.length; i++) {\n",
       "      const url = js_urls[i];\n",
       "      const element = document.createElement('script');\n",
       "      element.onload = on_load;\n",
       "      element.onerror = on_error.bind(null, url);\n",
       "      element.async = false;\n",
       "      element.src = url;\n",
       "      console.debug(\"Bokeh: injecting script tag for BokehJS library: \", url);\n",
       "      document.head.appendChild(element);\n",
       "    }\n",
       "  };\n",
       "\n",
       "  function inject_raw_css(css) {\n",
       "    const element = document.createElement(\"style\");\n",
       "    element.appendChild(document.createTextNode(css));\n",
       "    document.body.appendChild(element);\n",
       "  }\n",
       "\n",
       "  const js_urls = [\"https://cdn.bokeh.org/bokeh/release/bokeh-3.7.3.min.js\", \"https://cdn.bokeh.org/bokeh/release/bokeh-gl-3.7.3.min.js\", \"https://cdn.bokeh.org/bokeh/release/bokeh-widgets-3.7.3.min.js\", \"https://cdn.bokeh.org/bokeh/release/bokeh-tables-3.7.3.min.js\", \"https://cdn.bokeh.org/bokeh/release/bokeh-mathjax-3.7.3.min.js\"];\n",
       "  const css_urls = [];\n",
       "\n",
       "  const inline_js = [    function(Bokeh) {\n",
       "      Bokeh.set_log_level(\"info\");\n",
       "    },\n",
       "function(Bokeh) {\n",
       "    }\n",
       "  ];\n",
       "\n",
       "  function run_inline_js() {\n",
       "    if (root.Bokeh !== undefined || force === true) {\n",
       "      try {\n",
       "            for (let i = 0; i < inline_js.length; i++) {\n",
       "      inline_js[i].call(root, root.Bokeh);\n",
       "    }\n",
       "\n",
       "      } catch (error) {display_loaded(error);throw error;\n",
       "      }if (force === true) {\n",
       "        display_loaded();\n",
       "      }} else if (Date.now() < root._bokeh_timeout) {\n",
       "      setTimeout(run_inline_js, 100);\n",
       "    } else if (!root._bokeh_failed_load) {\n",
       "      console.log(\"Bokeh: BokehJS failed to load within specified timeout.\");\n",
       "      root._bokeh_failed_load = true;\n",
       "    } else if (force !== true) {\n",
       "      const cell = $(document.getElementById(\"df2b4878-d952-47fe-ab48-538d8c80a9f0\")).parents('.cell').data().cell;\n",
       "      cell.output_area.append_execute_result(NB_LOAD_WARNING)\n",
       "    }\n",
       "  }\n",
       "\n",
       "  if (root._bokeh_is_loading === 0) {\n",
       "    console.debug(\"Bokeh: BokehJS loaded, going straight to plotting\");\n",
       "    run_inline_js();\n",
       "  } else {\n",
       "    load_libs(css_urls, js_urls, function() {\n",
       "      console.debug(\"Bokeh: BokehJS plotting callback run at\", now());\n",
       "      run_inline_js();\n",
       "    });\n",
       "  }\n",
       "}(window));"
      ],
      "application/vnd.bokehjs_load.v0+json": "'use strict';\n(function(root) {\n  function now() {\n    return new Date();\n  }\n\n  const force = true;\n\n  if (typeof root._bokeh_onload_callbacks === \"undefined\" || force === true) {\n    root._bokeh_onload_callbacks = [];\n    root._bokeh_is_loading = undefined;\n  }\n\n\n  if (typeof (root._bokeh_timeout) === \"undefined\" || force === true) {\n    root._bokeh_timeout = Date.now() + 5000;\n    root._bokeh_failed_load = false;\n  }\n\n  const NB_LOAD_WARNING = {'data': {'text/html':\n     \"<div style='background-color: #fdd'>\\n\"+\n     \"<p>\\n\"+\n     \"BokehJS does not appear to have successfully loaded. If loading BokehJS from CDN, this \\n\"+\n     \"may be due to a slow or bad network connection. Possible fixes:\\n\"+\n     \"</p>\\n\"+\n     \"<ul>\\n\"+\n     \"<li>re-rerun `output_notebook()` to attempt to load from CDN again, or</li>\\n\"+\n     \"<li>use INLINE resources instead, as so:</li>\\n\"+\n     \"</ul>\\n\"+\n     \"<code>\\n\"+\n     \"from bokeh.resources import INLINE\\n\"+\n     \"output_notebook(resources=INLINE)\\n\"+\n     \"</code>\\n\"+\n     \"</div>\"}};\n\n  function display_loaded(error = null) {\n    const el = document.getElementById(\"df2b4878-d952-47fe-ab48-538d8c80a9f0\");\n    if (el != null) {\n      const html = (() => {\n        if (typeof root.Bokeh === \"undefined\") {\n          if (error == null) {\n            return \"BokehJS is loading ...\";\n          } else {\n            return \"BokehJS failed to load.\";\n          }\n        } else {\n          const prefix = `BokehJS ${root.Bokeh.version}`;\n          if (error == null) {\n            return `${prefix} successfully loaded.`;\n          } else {\n            return `${prefix} <b>encountered errors</b> while loading and may not function as expected.`;\n          }\n        }\n      })();\n      el.innerHTML = html;\n\n      if (error != null) {\n        const wrapper = document.createElement(\"div\");\n        wrapper.style.overflow = \"auto\";\n        wrapper.style.height = \"5em\";\n        wrapper.style.resize = \"vertical\";\n        const content = document.createElement(\"div\");\n        content.style.fontFamily = \"monospace\";\n        content.style.whiteSpace = \"pre-wrap\";\n        content.style.backgroundColor = \"rgb(255, 221, 221)\";\n        content.textContent = error.stack ?? error.toString();\n        wrapper.append(content);\n        el.append(wrapper);\n      }\n    } else if (Date.now() < root._bokeh_timeout) {\n      setTimeout(() => display_loaded(error), 100);\n    }\n  }\n\n  function run_callbacks() {\n    try {\n      root._bokeh_onload_callbacks.forEach(function(callback) {\n        if (callback != null)\n          callback();\n      });\n    } finally {\n      delete root._bokeh_onload_callbacks\n    }\n    console.debug(\"Bokeh: all callbacks have finished\");\n  }\n\n  function load_libs(css_urls, js_urls, callback) {\n    if (css_urls == null) css_urls = [];\n    if (js_urls == null) js_urls = [];\n\n    root._bokeh_onload_callbacks.push(callback);\n    if (root._bokeh_is_loading > 0) {\n      console.debug(\"Bokeh: BokehJS is being loaded, scheduling callback at\", now());\n      return null;\n    }\n    if (js_urls == null || js_urls.length === 0) {\n      run_callbacks();\n      return null;\n    }\n    console.debug(\"Bokeh: BokehJS not loaded, scheduling load and callback at\", now());\n    root._bokeh_is_loading = css_urls.length + js_urls.length;\n\n    function on_load() {\n      root._bokeh_is_loading--;\n      if (root._bokeh_is_loading === 0) {\n        console.debug(\"Bokeh: all BokehJS libraries/stylesheets loaded\");\n        run_callbacks()\n      }\n    }\n\n    function on_error(url) {\n      console.error(\"failed to load \" + url);\n    }\n\n    for (let i = 0; i < css_urls.length; i++) {\n      const url = css_urls[i];\n      const element = document.createElement(\"link\");\n      element.onload = on_load;\n      element.onerror = on_error.bind(null, url);\n      element.rel = \"stylesheet\";\n      element.type = \"text/css\";\n      element.href = url;\n      console.debug(\"Bokeh: injecting link tag for BokehJS stylesheet: \", url);\n      document.body.appendChild(element);\n    }\n\n    for (let i = 0; i < js_urls.length; i++) {\n      const url = js_urls[i];\n      const element = document.createElement('script');\n      element.onload = on_load;\n      element.onerror = on_error.bind(null, url);\n      element.async = false;\n      element.src = url;\n      console.debug(\"Bokeh: injecting script tag for BokehJS library: \", url);\n      document.head.appendChild(element);\n    }\n  };\n\n  function inject_raw_css(css) {\n    const element = document.createElement(\"style\");\n    element.appendChild(document.createTextNode(css));\n    document.body.appendChild(element);\n  }\n\n  const js_urls = [\"https://cdn.bokeh.org/bokeh/release/bokeh-3.7.3.min.js\", \"https://cdn.bokeh.org/bokeh/release/bokeh-gl-3.7.3.min.js\", \"https://cdn.bokeh.org/bokeh/release/bokeh-widgets-3.7.3.min.js\", \"https://cdn.bokeh.org/bokeh/release/bokeh-tables-3.7.3.min.js\", \"https://cdn.bokeh.org/bokeh/release/bokeh-mathjax-3.7.3.min.js\"];\n  const css_urls = [];\n\n  const inline_js = [    function(Bokeh) {\n      Bokeh.set_log_level(\"info\");\n    },\nfunction(Bokeh) {\n    }\n  ];\n\n  function run_inline_js() {\n    if (root.Bokeh !== undefined || force === true) {\n      try {\n            for (let i = 0; i < inline_js.length; i++) {\n      inline_js[i].call(root, root.Bokeh);\n    }\n\n      } catch (error) {display_loaded(error);throw error;\n      }if (force === true) {\n        display_loaded();\n      }} else if (Date.now() < root._bokeh_timeout) {\n      setTimeout(run_inline_js, 100);\n    } else if (!root._bokeh_failed_load) {\n      console.log(\"Bokeh: BokehJS failed to load within specified timeout.\");\n      root._bokeh_failed_load = true;\n    } else if (force !== true) {\n      const cell = $(document.getElementById(\"df2b4878-d952-47fe-ab48-538d8c80a9f0\")).parents('.cell').data().cell;\n      cell.output_area.append_execute_result(NB_LOAD_WARNING)\n    }\n  }\n\n  if (root._bokeh_is_loading === 0) {\n    console.debug(\"Bokeh: BokehJS loaded, going straight to plotting\");\n    run_inline_js();\n  } else {\n    load_libs(css_urls, js_urls, function() {\n      console.debug(\"Bokeh: BokehJS plotting callback run at\", now());\n      run_inline_js();\n    });\n  }\n}(window));"
     },
     "metadata": {},
     "output_type": "display_data"
    }
   ],
   "source": [
    "import pandas as pd\n",
    "import numpy as np\n",
    "#import plotly.graph_objects as go\n",
    "#import yfinance as yf\n",
    "#import matplotlib.pyplot as plt\n",
    "#import math\n",
    "from datetime import date, datetime, timedelta\n",
    "from scipy import stats\n",
    "from scipy.signal import argrelextrema\n",
    "#from bokeh.plotting import figure, show, column\n",
    "from sklearn.linear_model import LinearRegression\n",
    "import os\n",
    "from backtesting import Backtest, Strategy"
   ]
  },
  {
   "cell_type": "code",
   "execution_count": 2,
   "id": "f3ef14db",
   "metadata": {
    "execution": {
     "iopub.execute_input": "2025-07-03T22:19:53.636410Z",
     "iopub.status.busy": "2025-07-03T22:19:53.636165Z",
     "iopub.status.idle": "2025-07-03T22:19:53.732884Z",
     "shell.execute_reply": "2025-07-03T22:19:53.732330Z"
    },
    "papermill": {
     "duration": 0.102734,
     "end_time": "2025-07-03T22:19:53.733989",
     "exception": false,
     "start_time": "2025-07-03T22:19:53.631255",
     "status": "completed"
    },
    "tags": []
   },
   "outputs": [],
   "source": [
    "#df_h = pd.read_csv(r\"D:\\CARLOS\\TRADING\\data.txt\")\n",
    "df_h=pd.read_csv('data/dataxh.txt',sep='\\t')\n",
    "tickers = [\n",
    "    'SPY',\n",
    "    'META',\n",
    "    'AAPL',\n",
    "    'AMZN',\n",
    "    'NFLX',\n",
    "    'MRNA',\n",
    "    'TSLA',\n",
    "    'TNA',\n",
    "    'GLD',\n",
    "    'SLV',\n",
    "    'USO',\n",
    "    'BAC',\n",
    "    'CVX',\n",
    "    'XOM',\n",
    "    'QQQ',\n",
    "    'MSFT',\n",
    "    'NVDA',\n",
    "    'WMT',\n",
    "    'BA',\n",
    "    'DIS',\n",
    "    'CAT',\n",
    "    'IBM',\n",
    "    'WFC',\n",
    "    'PLTR',\n",
    "    'AMD',\n",
    "    'AVGO',\n",
    "    'HOOD',\n",
    "    'CRWV',\n",
    "    'MSTR',\n",
    "    'UNH',\n",
    "    'GOOG',\n",
    "    'APP',\n",
    "    'UBER'\n",
    "]"
   ]
  },
  {
   "cell_type": "code",
   "execution_count": 3,
   "id": "52d0ff84-a2e1-4a46-ba65-9550936d65d3",
   "metadata": {
    "execution": {
     "iopub.execute_input": "2025-07-03T22:19:53.743972Z",
     "iopub.status.busy": "2025-07-03T22:19:53.743772Z",
     "iopub.status.idle": "2025-07-03T22:19:54.037693Z",
     "shell.execute_reply": "2025-07-03T22:19:54.037100Z"
    },
    "papermill": {
     "duration": 0.299894,
     "end_time": "2025-07-03T22:19:54.038762",
     "exception": false,
     "start_time": "2025-07-03T22:19:53.738868",
     "status": "completed"
    },
    "tags": []
   },
   "outputs": [],
   "source": [
    "df_h['datetime'] = pd.to_datetime(df_h['datetime'])\n",
    "df = pd.DataFrame()\n",
    "for ticker in tickers:\n",
    "    company = df_h.query(\"companyName==@ticker\").copy()\n",
    "    company.sort_values(by=['datetime'])\n",
    "    #company = yf.download(ticker, start = ini2_str, end = today_str, interval='60m')\n",
    "    #company.columns = [company.columns[0][0], company.columns[1][0], company.columns[2][0], company.columns[3][0], company.columns[4][0]]\n",
    "    #company.rename(columns={'Datetime':'Gmt time'}, inplace = True)\n",
    "    #company['datetime'] = pd.to_datetime (company.index)\n",
    "    #company['companyName'] = ticker\n",
    "    company['SMA20'] = company['Close'].rolling(20).mean()\n",
    "    company.dropna(inplace=False)\n",
    "    company['SMA40'] = company['Close'].rolling(40).mean()\n",
    "    company.dropna(inplace=False)\n",
    "    df = pd.concat([df, company],ignore_index=True)"
   ]
  },
  {
   "cell_type": "markdown",
   "id": "34d9cf7d",
   "metadata": {
    "papermill": {
     "duration": 0.004364,
     "end_time": "2025-07-03T22:19:54.047957",
     "exception": false,
     "start_time": "2025-07-03T22:19:54.043593",
     "status": "completed"
    },
    "tags": []
   },
   "source": [
    "## Detect Pivots/Fractals"
   ]
  },
  {
   "cell_type": "code",
   "execution_count": 4,
   "id": "01cd927d-98ba-4935-9835-4507272e666e",
   "metadata": {
    "execution": {
     "iopub.execute_input": "2025-07-03T22:19:54.057631Z",
     "iopub.status.busy": "2025-07-03T22:19:54.057390Z",
     "iopub.status.idle": "2025-07-03T22:19:54.084680Z",
     "shell.execute_reply": "2025-07-03T22:19:54.084172Z"
    },
    "papermill": {
     "duration": 0.033182,
     "end_time": "2025-07-03T22:19:54.085583",
     "exception": false,
     "start_time": "2025-07-03T22:19:54.052401",
     "status": "completed"
    },
    "tags": []
   },
   "outputs": [],
   "source": [
    "ord=10\n",
    "max_idx = argrelextrema(df['Close'].values, np.greater, order=ord)[0]\n",
    "min_idx = argrelextrema(df['Close'].values, np.less, order=ord)[0]\n",
    "df.loc[max_idx, 'pivotHigh'] = df['High']+1e-3\n",
    "df.loc[min_idx, 'pivotLow'] = df['Low']-(1e-3)\n",
    "df.loc[max_idx, 'isPivot'] = 1\n",
    "df.loc[min_idx, 'isPivot'] = 2"
   ]
  },
  {
   "cell_type": "code",
   "execution_count": 5,
   "id": "24487079",
   "metadata": {
    "execution": {
     "iopub.execute_input": "2025-07-03T22:19:54.095438Z",
     "iopub.status.busy": "2025-07-03T22:19:54.094973Z",
     "iopub.status.idle": "2025-07-03T22:19:54.097707Z",
     "shell.execute_reply": "2025-07-03T22:19:54.097151Z"
    },
    "papermill": {
     "duration": 0.008423,
     "end_time": "2025-07-03T22:19:54.098587",
     "exception": false,
     "start_time": "2025-07-03T22:19:54.090164",
     "status": "completed"
    },
    "tags": []
   },
   "outputs": [],
   "source": [
    "#hoy =  np.datetime64('today')\n",
    "#print(hoy)\n",
    "#fecha_menos_15 = hoy -  np.timedelta64(15, 'D')\n",
    "#print(fecha_menos_15)\n",
    "#df2 = df[df[\"datetime\"].dt.tz_localize(None)>=fecha_menos_15]"
   ]
  },
  {
   "cell_type": "code",
   "execution_count": 6,
   "id": "7832cc33",
   "metadata": {
    "execution": {
     "iopub.execute_input": "2025-07-03T22:19:54.108483Z",
     "iopub.status.busy": "2025-07-03T22:19:54.108256Z",
     "iopub.status.idle": "2025-07-03T22:19:54.111083Z",
     "shell.execute_reply": "2025-07-03T22:19:54.110614Z"
    },
    "papermill": {
     "duration": 0.008898,
     "end_time": "2025-07-03T22:19:54.111923",
     "exception": false,
     "start_time": "2025-07-03T22:19:54.103025",
     "status": "completed"
    },
    "tags": []
   },
   "outputs": [],
   "source": [
    "hoy =  np.datetime64('today')\n",
    "fecha_menos_15 = hoy -  np.timedelta64(15, 'D')"
   ]
  },
  {
   "cell_type": "markdown",
   "id": "7c2775ac-e38b-45c3-a6a0-657e33991746",
   "metadata": {
    "papermill": {
     "duration": 0.004312,
     "end_time": "2025-07-03T22:19:54.120742",
     "exception": false,
     "start_time": "2025-07-03T22:19:54.116430",
     "status": "completed"
    },
    "tags": []
   },
   "source": [
    "###### Canales bajistas, cuando el PM de 40 esta por encima del PM de 20 en direccion desendente\n",
    "###### RSI>70 y sobre las olas de Bollinger"
   ]
  },
  {
   "cell_type": "code",
   "execution_count": 7,
   "id": "d6a9d5d2",
   "metadata": {
    "execution": {
     "iopub.execute_input": "2025-07-03T22:19:54.130217Z",
     "iopub.status.busy": "2025-07-03T22:19:54.129997Z",
     "iopub.status.idle": "2025-07-03T22:19:54.133861Z",
     "shell.execute_reply": "2025-07-03T22:19:54.133316Z"
    },
    "papermill": {
     "duration": 0.009567,
     "end_time": "2025-07-03T22:19:54.134733",
     "exception": false,
     "start_time": "2025-07-03T22:19:54.125166",
     "status": "completed"
    },
    "tags": []
   },
   "outputs": [],
   "source": [
    "df[\"datetime2\"] = df[\"datetime\"].dt.tz_localize(None)"
   ]
  },
  {
   "cell_type": "code",
   "execution_count": 8,
   "id": "d35e8caf-19c9-4727-8176-822a82d9cfd7",
   "metadata": {
    "execution": {
     "iopub.execute_input": "2025-07-03T22:19:54.144344Z",
     "iopub.status.busy": "2025-07-03T22:19:54.144162Z",
     "iopub.status.idle": "2025-07-03T22:19:55.912916Z",
     "shell.execute_reply": "2025-07-03T22:19:55.912350Z"
    },
    "papermill": {
     "duration": 1.774829,
     "end_time": "2025-07-03T22:19:55.914024",
     "exception": false,
     "start_time": "2025-07-03T22:19:54.139195",
     "status": "completed"
    },
    "tags": []
   },
   "outputs": [],
   "source": [
    "def rcb01(df):\n",
    "    hoy =  np.datetime64('today')\n",
    "    fecha_menos_15 = hoy -  np.timedelta64(15, 'D')\n",
    "    if ((df['pivotLow']>0) & (df['SMA40']>df['SMA20']) & (df[\"datetime2\"]>=fecha_menos_15)):\n",
    "        return 1\n",
    "    else:\n",
    "        return 0\n",
    "df['rcb01_01'] = df.apply(rcb01, axis=1)"
   ]
  },
  {
   "cell_type": "code",
   "execution_count": 9,
   "id": "4847a98d",
   "metadata": {
    "execution": {
     "iopub.execute_input": "2025-07-03T22:19:55.923832Z",
     "iopub.status.busy": "2025-07-03T22:19:55.923660Z",
     "iopub.status.idle": "2025-07-03T22:19:55.930724Z",
     "shell.execute_reply": "2025-07-03T22:19:55.930184Z"
    },
    "papermill": {
     "duration": 0.01286,
     "end_time": "2025-07-03T22:19:55.931618",
     "exception": false,
     "start_time": "2025-07-03T22:19:55.918758",
     "status": "completed"
    },
    "tags": []
   },
   "outputs": [],
   "source": [
    "# Eliminar la columna 'datetime2'\n",
    "df = df.drop('datetime2', axis=1)"
   ]
  },
  {
   "cell_type": "markdown",
   "id": "d1079664",
   "metadata": {
    "papermill": {
     "duration": 0.004301,
     "end_time": "2025-07-03T22:19:55.940476",
     "exception": false,
     "start_time": "2025-07-03T22:19:55.936175",
     "status": "completed"
    },
    "tags": []
   },
   "source": [
    "## Detect Price Channel"
   ]
  },
  {
   "cell_type": "code",
   "execution_count": 10,
   "id": "e2a6e303",
   "metadata": {
    "execution": {
     "iopub.execute_input": "2025-07-03T22:19:55.949926Z",
     "iopub.status.busy": "2025-07-03T22:19:55.949755Z",
     "iopub.status.idle": "2025-07-03T22:19:55.953316Z",
     "shell.execute_reply": "2025-07-03T22:19:55.952704Z"
    },
    "papermill": {
     "duration": 0.009336,
     "end_time": "2025-07-03T22:19:55.954159",
     "exception": false,
     "start_time": "2025-07-03T22:19:55.944823",
     "status": "completed"
    },
    "tags": []
   },
   "outputs": [],
   "source": [
    "def collect_channel(candle, backevalTrend, trendH):\n",
    "    localdf = dfpl.loc[candle-backevalTrend:candle] #tomar en cuenta el backcandles\n",
    "\n",
    "    highs = localdf.loc[localdf.index.isin(trendH)].High.values\n",
    "    idxhighs = localdf.loc[localdf.index.isin(trendH)].High.index\n",
    "    if len(highs)>=2:\n",
    "        sl_highs, interc_highs, r_value_h, _, _ = stats.linregress(idxhighs,highs)    \n",
    "        return(sl_highs, interc_highs, r_value_h**2)\n",
    "    else:\n",
    "        return(0,0,0)\n",
    "    "
   ]
  },
  {
   "cell_type": "code",
   "execution_count": 11,
   "id": "d73dd322-47c0-4cc0-92a2-188df81a1f2b",
   "metadata": {
    "execution": {
     "iopub.execute_input": "2025-07-03T22:19:55.964025Z",
     "iopub.status.busy": "2025-07-03T22:19:55.963640Z",
     "iopub.status.idle": "2025-07-03T22:19:55.969038Z",
     "shell.execute_reply": "2025-07-03T22:19:55.968593Z"
    },
    "papermill": {
     "duration": 0.011217,
     "end_time": "2025-07-03T22:19:55.969863",
     "exception": false,
     "start_time": "2025-07-03T22:19:55.958646",
     "status": "completed"
    },
    "tags": []
   },
   "outputs": [],
   "source": [
    "def backcandle(candle):\n",
    "    \n",
    "    trendH = []\n",
    "    backeval = 0\n",
    "    val = 0\n",
    "    \n",
    "    dfpl['PM40_PM20'] = dfpl['SMA40']-dfpl['SMA20']\n",
    "\n",
    "    if (dfpl.loc[candle,\"PM40_PM20\"]>0):\n",
    "        idx_negativo = dfpl.loc[:candle, 'PM40_PM20'][::-1].lt(0).idxmax()\n",
    "        backeval = idx_negativo - 4\n",
    "        val = candle - backeval\n",
    "        \n",
    "    if val>75:\n",
    "        backeval=candle-75\n",
    "        \n",
    "    if (dfpl.loc[backeval,\"PM40_PM20\"]>0):\n",
    "        idx_negativo = dfpl.loc[:backeval, 'PM40_PM20'][::-1].lt(0).idxmax()\n",
    "        backeval = idx_negativo - 4\n",
    "\n",
    "    if val>75:\n",
    "        backeval=candle-75\n",
    "\n",
    "    ini = backeval\n",
    "    trendprev=dfpl.loc[ini:candle]\n",
    "    trend = trendprev.reset_index(drop=False)\n",
    "\n",
    "    idxhighs = trend.index.to_numpy().reshape(-1,1) # Convertir X a una matriz 2D\n",
    "    highs = trend.High.values\n",
    "    modelo1 = LinearRegression()\n",
    "    modelo1.fit(idxhighs, highs)\n",
    "    # Obtener la predicción de la línea de regresión\n",
    "    Y_pred = modelo1.predict(idxhighs)\n",
    "    # Calcular la distancia solo de los puntos que están POR ENCIMA de la línea\n",
    "    trend['Distancia'] = trend[\"High\"] - Y_pred  # Diferencia entre el valor real y la predicción\n",
    "    # Filtrar los puntos que están por encima (donde Y > Y_pred, es decir, Distancia > 0)\n",
    "    df_encima = trend[trend['Distancia'] > 0]\n",
    "    puntos_mas_lejanos = df_encima.nlargest(2, 'Distancia')   #2 puntos mas lejanos\n",
    "    trendH = puntos_mas_lejanos[\"index\"].tolist()\n",
    "    trendH.append(candle)   \n",
    "    \n",
    "    return trendH, backeval"
   ]
  },
  {
   "cell_type": "markdown",
   "id": "57b58755",
   "metadata": {
    "papermill": {
     "duration": 0.004431,
     "end_time": "2025-07-03T22:19:55.978751",
     "exception": false,
     "start_time": "2025-07-03T22:19:55.974320",
     "status": "completed"
    },
    "tags": []
   },
   "source": [
    "## Detect Break Out"
   ]
  },
  {
   "cell_type": "code",
   "execution_count": 12,
   "id": "5aa80437-fca0-4438-a072-0734f46b5cd9",
   "metadata": {
    "execution": {
     "iopub.execute_input": "2025-07-03T22:19:55.988307Z",
     "iopub.status.busy": "2025-07-03T22:19:55.988114Z",
     "iopub.status.idle": "2025-07-03T22:19:55.991521Z",
     "shell.execute_reply": "2025-07-03T22:19:55.990958Z"
    },
    "papermill": {
     "duration": 0.009237,
     "end_time": "2025-07-03T22:19:55.992411",
     "exception": false,
     "start_time": "2025-07-03T22:19:55.983174",
     "status": "completed"
    },
    "tags": []
   },
   "outputs": [],
   "source": [
    "def trendChannel(row,candle, backeval, window, sl_highs, interc_highs):\n",
    "\n",
    "    if (candle-backeval-window)<0:\n",
    "        return np.nan\n",
    "   \n",
    "    ini=candle-backeval\n",
    "    fin=candle+window\n",
    "    trendcurrhigh = np.where(np.logical_or((row.index > fin),  (row.index <  ini)), np.nan, (sl_highs*row.index + interc_highs))\n",
    "    return trendcurrhigh"
   ]
  },
  {
   "cell_type": "code",
   "execution_count": 13,
   "id": "20cd3110-f81c-4439-8b85-1a901097f734",
   "metadata": {
    "execution": {
     "iopub.execute_input": "2025-07-03T22:19:56.002252Z",
     "iopub.status.busy": "2025-07-03T22:19:56.001912Z",
     "iopub.status.idle": "2025-07-03T22:19:56.006452Z",
     "shell.execute_reply": "2025-07-03T22:19:56.005888Z"
    },
    "papermill": {
     "duration": 0.010442,
     "end_time": "2025-07-03T22:19:56.007332",
     "exception": false,
     "start_time": "2025-07-03T22:19:55.996890",
     "status": "completed"
    },
    "tags": []
   },
   "outputs": [],
   "source": [
    "def isBreakOut(candleEval,backcandles, window, start, candle):\n",
    "    if (candleEval-backcandles-window)<0:\n",
    "        return 0\n",
    "\n",
    "    if candleEval==start:\n",
    "        prev_idx = candleEval\n",
    "    else:\n",
    "        prev_idx = candleEval-1\n",
    "        \n",
    "    prev_high = dfpl.loc[prev_idx].High\n",
    "    prev_low = dfpl.loc[prev_idx].Low\n",
    "    prev_close = dfpl.loc[prev_idx].Close\n",
    "    \n",
    "    curr_idx = candleEval\n",
    "    curr_high = dfpl.loc[candleEval].High\n",
    "    curr_low = dfpl.loc[candleEval].Low\n",
    "    curr_close = dfpl.loc[candleEval].Close\n",
    "    curr_open = dfpl.loc[candleEval].Open\n",
    "\n",
    "    trend_prevhigh=dfpl.loc[prev_idx].trendcurrhigh\n",
    "    trend_currhigh=dfpl.loc[candleEval].trendcurrhigh\n",
    "    \n",
    "    if ( prev_low < trend_prevhigh and\n",
    "        prev_close > trend_prevhigh and\n",
    "        curr_open > trend_currhigh and\n",
    "        curr_close > trend_currhigh and\n",
    "        candleEval>candle): #and r_sq_h > 0.9\n",
    "        return 2\n",
    "\n",
    "    elif (curr_open > trend_currhigh and\n",
    "        curr_close > trend_currhigh and candleEval>candle):\n",
    "        return 3\n",
    "    \n",
    "    else:\n",
    "        return np.nan"
   ]
  },
  {
   "cell_type": "code",
   "execution_count": 14,
   "id": "6caa56d5-1f28-4cba-8729-e6cfc03a51f1",
   "metadata": {
    "execution": {
     "iopub.execute_input": "2025-07-03T22:19:56.017140Z",
     "iopub.status.busy": "2025-07-03T22:19:56.016938Z",
     "iopub.status.idle": "2025-07-03T22:19:56.019869Z",
     "shell.execute_reply": "2025-07-03T22:19:56.019424Z"
    },
    "papermill": {
     "duration": 0.008845,
     "end_time": "2025-07-03T22:19:56.020726",
     "exception": false,
     "start_time": "2025-07-03T22:19:56.011881",
     "status": "completed"
    },
    "tags": []
   },
   "outputs": [],
   "source": [
    "def breakpointpos(x):\n",
    "    if x['isBreakOutIni'] in (2,3):\n",
    "        return x['Low']+3e-3\n",
    "    elif x['isBreakOutIni']==1:\n",
    "        return x['High']-3e-3\n",
    "    else:\n",
    "        return np.nan"
   ]
  },
  {
   "cell_type": "markdown",
   "id": "700fa197-5cd8-4b73-ac64-fce109fe4328",
   "metadata": {
    "papermill": {
     "duration": 0.004585,
     "end_time": "2025-07-03T22:19:56.029929",
     "exception": false,
     "start_time": "2025-07-03T22:19:56.025344",
     "status": "completed"
    },
    "tags": []
   },
   "source": [
    "##### Hallando casos de Ruptura del Canal Bajista"
   ]
  },
  {
   "cell_type": "code",
   "execution_count": 15,
   "id": "61baae73",
   "metadata": {
    "execution": {
     "iopub.execute_input": "2025-07-03T22:19:56.039575Z",
     "iopub.status.busy": "2025-07-03T22:19:56.039406Z",
     "iopub.status.idle": "2025-07-03T22:19:56.326627Z",
     "shell.execute_reply": "2025-07-03T22:19:56.325998Z"
    },
    "papermill": {
     "duration": 0.29317,
     "end_time": "2025-07-03T22:19:56.327569",
     "exception": false,
     "start_time": "2025-07-03T22:19:56.034399",
     "status": "completed"
    },
    "tags": []
   },
   "outputs": [
    {
     "name": "stdout",
     "output_type": "stream",
     "text": [
      "Archivo cargado correctamente.\n"
     ]
    }
   ],
   "source": [
    "#Archivo anterior\n",
    "ruta_archivo='data/cb_h.txt'\n",
    "if os.path.exists(ruta_archivo):\n",
    "    # Cargar el archivo\n",
    "    df_casos2 = pd.read_csv(ruta_archivo, sep='\\t')\n",
    "    print(\"Archivo cargado correctamente.\")\n",
    "else:\n",
    "    # Crear un DataFrame vacío\n",
    "    df_casos2 = pd.DataFrame()\n",
    "    print(\"Archivo no existe. Se creó un DataFrame vacío.\")"
   ]
  },
  {
   "cell_type": "code",
   "execution_count": 16,
   "id": "a2b4f94a",
   "metadata": {
    "execution": {
     "iopub.execute_input": "2025-07-03T22:19:56.338206Z",
     "iopub.status.busy": "2025-07-03T22:19:56.337804Z",
     "iopub.status.idle": "2025-07-03T22:19:56.455529Z",
     "shell.execute_reply": "2025-07-03T22:19:56.454864Z"
    },
    "papermill": {
     "duration": 0.124108,
     "end_time": "2025-07-03T22:19:56.456659",
     "exception": false,
     "start_time": "2025-07-03T22:19:56.332551",
     "status": "completed"
    },
    "tags": []
   },
   "outputs": [],
   "source": [
    "df_casos2[\"datetime\"] = pd.to_datetime(df_casos2['datetime'])\n",
    "df_casos2[\"datetime2\"] = df_casos2['datetime'].dt.tz_localize(None)"
   ]
  },
  {
   "cell_type": "code",
   "execution_count": 17,
   "id": "dca3bac0-0d76-46bd-898b-cd8166652b10",
   "metadata": {
    "execution": {
     "iopub.execute_input": "2025-07-03T22:19:56.467957Z",
     "iopub.status.busy": "2025-07-03T22:19:56.467485Z",
     "iopub.status.idle": "2025-07-03T22:20:04.737449Z",
     "shell.execute_reply": "2025-07-03T22:20:04.736812Z"
    },
    "papermill": {
     "duration": 8.276699,
     "end_time": "2025-07-03T22:20:04.738387",
     "exception": false,
     "start_time": "2025-07-03T22:19:56.461688",
     "status": "completed"
    },
    "tags": []
   },
   "outputs": [
    {
     "name": "stdout",
     "output_type": "stream",
     "text": [
      "3426 SPY\n"
     ]
    },
    {
     "name": "stdout",
     "output_type": "stream",
     "text": [
      "13998 AMZN\n",
      "14010 AMZN\n"
     ]
    },
    {
     "name": "stdout",
     "output_type": "stream",
     "text": [
      "21031 MRNA\n"
     ]
    },
    {
     "name": "stdout",
     "output_type": "stream",
     "text": [
      "24644 TSLA\n"
     ]
    },
    {
     "name": "stdout",
     "output_type": "stream",
     "text": [
      "28113 TNA\n"
     ]
    },
    {
     "name": "stdout",
     "output_type": "stream",
     "text": [
      "31655 GLD\n",
      "31680 GLD\n"
     ]
    },
    {
     "name": "stdout",
     "output_type": "stream",
     "text": [
      "31692 GLD\n"
     ]
    },
    {
     "name": "stdout",
     "output_type": "stream",
     "text": [
      "35193 SLV\n"
     ]
    },
    {
     "name": "stdout",
     "output_type": "stream",
     "text": [
      "38750 USO\n",
      "38762 USO\n"
     ]
    },
    {
     "name": "stdout",
     "output_type": "stream",
     "text": [
      "45806 CVX\n",
      "45833 CVX\n"
     ]
    },
    {
     "name": "stdout",
     "output_type": "stream",
     "text": [
      "49323 XOM\n"
     ]
    },
    {
     "name": "stdout",
     "output_type": "stream",
     "text": [
      "66946 BA\n"
     ]
    },
    {
     "name": "stdout",
     "output_type": "stream",
     "text": [
      "70477 DIS\n"
     ]
    },
    {
     "name": "stdout",
     "output_type": "stream",
     "text": [
      "84666 PLTR\n"
     ]
    },
    {
     "name": "stdout",
     "output_type": "stream",
     "text": [
      "91658 AVGO\n"
     ]
    },
    {
     "name": "stdout",
     "output_type": "stream",
     "text": [
      "99238 MSTR\n"
     ]
    },
    {
     "name": "stdout",
     "output_type": "stream",
     "text": [
      "102787 UNH\n"
     ]
    },
    {
     "name": "stdout",
     "output_type": "stream",
     "text": [
      "106306 GOOG\n"
     ]
    },
    {
     "name": "stdout",
     "output_type": "stream",
     "text": [
      "109832 APP\n"
     ]
    },
    {
     "name": "stdout",
     "output_type": "stream",
     "text": [
      "113358 UBER\n",
      "113371 UBER\n"
     ]
    }
   ],
   "source": [
    "df_casos = pd.DataFrame()\n",
    "caso = 0\n",
    "ticker2 = \"\"\n",
    "window=5\n",
    "backeval=75\n",
    "backevalTrend=0\n",
    "dfpl = pd.DataFrame\n",
    "trendH = []\n",
    "trendL = []\n",
    "cant = 0\n",
    "for i, row in df.iterrows():\n",
    "    if(df['rcb01_01'][i]==1): #posibles casos \n",
    "        #print(\"posible caso:\",i, df['companyName'][i])\n",
    "        cant = 0\n",
    "        candle = i\n",
    "        cnt = 0\n",
    "        valiniHigh = df.loc[candle,\"High\"]\n",
    "        #valiniLow = df.loc[candle,\"Low\"]\n",
    "        ticker = df['companyName'][i]\n",
    "        #Reinicio de casos por company\n",
    "        if ticker2 != ticker:\n",
    "            ticker2 = ticker\n",
    "            filtro = df_casos2[(df_casos2['datetime2'] <  fecha_menos_15) & (df_casos2['companyName']==ticker) & (df_casos2[\"ind_posicion\"]==0)].copy()\n",
    "            if filtro.shape[0]>0:\n",
    "                caso = filtro[\"caso\"].max()\n",
    "            else:\n",
    "                caso = 0\n",
    "        dfpl = df[(df.companyName==ticker)].loc[i-backeval:i+backeval]                           \n",
    "        h=1\n",
    "        l=1\n",
    "        cant = cant +1\n",
    "        cantHorasTrend=0\n",
    "        trendH, backevalTrend = backcandle(candle)        \n",
    "        if (candle-backevalTrend>75):\n",
    "            backevalTrend = candle-75\n",
    "            \n",
    "        dfpl['datetime'] = pd.to_datetime(dfpl['datetime'])\n",
    "        cantHorasTrend = (dfpl.loc[candle,\"datetime\"] - dfpl.loc[backevalTrend,\"datetime\"]).total_seconds() / 3600\n",
    "\n",
    "        if (cantHorasTrend>48): #Verificacion de caida por lo menos 2 dias\n",
    "            backevalTrend2 = candle - backevalTrend\n",
    "            #revision de trend negativo indica que esta cayendo, solo me quedo con estos casos\n",
    "            sl_highs, interc_highs, r_sq_h = collect_channel(candle, backevalTrend2, trendH)\n",
    "            dfpl.loc[trendH, \"trendH\"] = 1\n",
    "        \n",
    "            if (sl_highs<=0): #solo tendencias a la baja and ind_vela>0 sl_lows<0 and r_sq_h>=0.7  and sl_highs<=-0.1 and ind_vela>0\n",
    "                #crear linea de tendencia high y low\n",
    "                dfpl['trendcurrhigh']  = trendChannel(dfpl,candle,backevalTrend2,window,sl_highs,interc_highs)\n",
    "                \n",
    "                promVol = dfpl.loc[i-backeval:i][\"Volume\"].mean()\n",
    "\n",
    "                dfpl[\"bearishSlope\"] = np.nan #pendiente bajista en vacio\n",
    "                dfpl.loc[i, \"bearishSlope\"] = 1 #pendiente bajista solo al punto evaluado            \n",
    "                dfpl[\"ind_posicion\"] = 0\n",
    "                dfpl.loc[(dfpl.index < i), 'ind_posicion'] = -1\n",
    "                dfpl.loc[(dfpl.index > i), 'ind_posicion'] = 1\n",
    "                dfpl[\"promVol\"] = promVol\n",
    "                dfpl[\"sl_highs\"] = sl_highs\n",
    "                dfpl[\"r_sq_h\"] = r_sq_h\n",
    "        \n",
    "                start = dfpl.index[0]\n",
    "                dfpl[\"isBreakOut\"] = [isBreakOut(candleEval, backevalTrend2, window, start, candle) for candleEval in dfpl.index]\n",
    "                # Solo me quedo con el primer BREAK OUT\n",
    "                cnt = dfpl.query(\"isBreakOut in (2,3) and Close>Open\").shape[0] \n",
    "                id=0\n",
    "                id2=0\n",
    "                if cnt>0:\n",
    "                    id = dfpl.query(\"isBreakOut in (2,3) and Close>Open\").index[0]                        \n",
    "                    #dfpl['isBreakOutIni'] = np.where(id!=dfpl.index, np.nan, dfpl['isBreakOut'])                        \n",
    "                    dfpl.loc[id,'isBreakOutIni'] = 1\n",
    "                    dfpl['breakpointpos'] = dfpl.apply(lambda row: breakpointpos(row), axis=1)\n",
    "                    cnt2 = dfpl.query(\"index>@id and isPivot==1\").shape[0]\n",
    "                    \n",
    "                    if cnt2>0:\n",
    "                        id2 = dfpl.query(\"index>@id and isPivot==1\").index[0]\n",
    "                        dfpl.loc[id2,'isBreakOutFinal'] = 1\n",
    "                    else:\n",
    "                        dfpl['isBreakOutFinal'] = np.nan                      \n",
    "                    \n",
    "                else:\n",
    "                    dfpl['isBreakOutIni'] = np.nan                        \n",
    "                    dfpl['breakpointpos'] = np.nan\n",
    "        \n",
    "                if cnt>0:\n",
    "                    #INSERT CASO\n",
    "                    caso=caso+1                            \n",
    "                    dfpl[\"caso\"] = caso\n",
    "                    print(i, df['companyName'][i])\n",
    "                    if len(df_casos)<1:\n",
    "                        df_casos = dfpl\n",
    "                    else:\n",
    "                        df_casos = pd.concat([df_casos, dfpl],ignore_index=False)\n"
   ]
  },
  {
   "cell_type": "code",
   "execution_count": 18,
   "id": "a706d98f",
   "metadata": {
    "execution": {
     "iopub.execute_input": "2025-07-03T22:20:04.750334Z",
     "iopub.status.busy": "2025-07-03T22:20:04.750142Z",
     "iopub.status.idle": "2025-07-03T22:20:05.514515Z",
     "shell.execute_reply": "2025-07-03T22:20:05.513917Z"
    },
    "papermill": {
     "duration": 0.771277,
     "end_time": "2025-07-03T22:20:05.515431",
     "exception": false,
     "start_time": "2025-07-03T22:20:04.744154",
     "status": "completed"
    },
    "tags": []
   },
   "outputs": [
    {
     "name": "stdout",
     "output_type": "stream",
     "text": [
      "22\n",
      "3322\n",
      "35\n",
      "5285\n",
      "34\n"
     ]
    },
    {
     "name": "stdout",
     "output_type": "stream",
     "text": [
      "5131\n",
      "33\n",
      "4983\n",
      "34\n",
      "5134\n",
      "34\n",
      "5134\n",
      "35\n",
      "5285\n",
      "32\n",
      "4827\n",
      "24\n",
      "3624\n",
      "32\n",
      "4832\n"
     ]
    },
    {
     "name": "stdout",
     "output_type": "stream",
     "text": [
      "34\n",
      "5134\n",
      "26\n",
      "3923\n"
     ]
    },
    {
     "name": "stdout",
     "output_type": "stream",
     "text": [
      "30\n",
      "4506\n",
      "32\n",
      "4795\n",
      "33\n",
      "4983\n",
      "31\n",
      "4681\n",
      "36\n",
      "5436\n",
      "25\n",
      "3775\n",
      "37\n",
      "5579\n"
     ]
    },
    {
     "name": "stdout",
     "output_type": "stream",
     "text": [
      "40\n",
      "6018\n",
      "29\n",
      "4379\n"
     ]
    },
    {
     "name": "stdout",
     "output_type": "stream",
     "text": [
      "31\n",
      "4681\n",
      "35\n",
      "5282\n",
      "36\n",
      "5436\n",
      "39\n",
      "5889\n",
      "43\n",
      "6493\n",
      "27\n",
      "4077\n",
      "2\n",
      "295\n"
     ]
    },
    {
     "name": "stdout",
     "output_type": "stream",
     "text": [
      "38\n",
      "5735\n",
      "30\n"
     ]
    },
    {
     "name": "stdout",
     "output_type": "stream",
     "text": [
      "4530\n",
      "29\n",
      "4379\n",
      "24\n",
      "3624\n",
      "42\n",
      "6342\n"
     ]
    }
   ],
   "source": [
    "df_newCasos2 = pd.DataFrame()\n",
    "for ticker in tickers:\n",
    "    #Informacion anterior por ticker\n",
    "   \n",
    "    filtro = df_casos2[(df_casos2['datetime2'] <  fecha_menos_15) & (df_casos2['companyName']==ticker) & (df_casos2[\"ind_posicion\"]==0)].copy()\n",
    "    caso_max = filtro[\"caso\"].max()\n",
    "    print(caso_max)\n",
    "\n",
    "    df_ticker = df_casos2[(df_casos2['caso'] <=  caso_max) & (df_casos2['companyName']==ticker)].copy()\n",
    "    df_ticker = df_ticker.reset_index(drop=True)\n",
    "\n",
    "    df_ticker = df_ticker.drop('datetime2', axis=1)\n",
    "\n",
    "    print(df_ticker.shape[0])\n",
    "    #df_ticker['datetime'] = pd.to_datetime(df_ticker['datetime'])\n",
    "\n",
    "    #Informacion actual por ticker\n",
    "    df_ticker2 = pd.DataFrame()\n",
    "    if df_casos.shape[0]>0:\n",
    "        df_ticker2 = df_casos[(df_casos['companyName']==ticker)]    \n",
    "        df_ticker2 = df_ticker2.sort_values(by=['datetime'], ascending=[True])\n",
    "\n",
    "     \n",
    "    df_newCasos2 = pd.concat([df_newCasos2, df_ticker],ignore_index=True)\n",
    "    df_newCasos2 = pd.concat([df_newCasos2, df_ticker2],ignore_index=True)\n"
   ]
  },
  {
   "cell_type": "code",
   "execution_count": 19,
   "id": "16a2a200",
   "metadata": {
    "execution": {
     "iopub.execute_input": "2025-07-03T22:20:05.527839Z",
     "iopub.status.busy": "2025-07-03T22:20:05.527594Z",
     "iopub.status.idle": "2025-07-03T22:20:08.461324Z",
     "shell.execute_reply": "2025-07-03T22:20:08.460731Z"
    },
    "papermill": {
     "duration": 2.941066,
     "end_time": "2025-07-03T22:20:08.462401",
     "exception": false,
     "start_time": "2025-07-03T22:20:05.521335",
     "status": "completed"
    },
    "tags": []
   },
   "outputs": [],
   "source": [
    "#path=r'D:\\PROYECTO_CARLOS\\Notebooks\\notebooks\\data\\cb_h.txt'\n",
    "path='data/cb_h.txt'\n",
    "if os.path.exists(path):\n",
    "    os.remove(path)\n",
    "else:\n",
    "    print(\"File does not exists. File needs to be created.\")\n",
    "with open(path, 'a') as f:\n",
    "    df_newCasos2.to_csv(path, header=True, index=None, sep='\\t', mode='w')"
   ]
  },
  {
   "cell_type": "markdown",
   "id": "f6a56c53-3325-4e5d-bcb8-64e300eae0c0",
   "metadata": {
    "papermill": {
     "duration": 0.005757,
     "end_time": "2025-07-03T22:20:08.474224",
     "exception": false,
     "start_time": "2025-07-03T22:20:08.468467",
     "status": "completed"
    },
    "tags": []
   },
   "source": [
    "##### BACKTESTING\n",
    "###### Usando paquete backtesting.py"
   ]
  },
  {
   "cell_type": "code",
   "execution_count": 20,
   "id": "5895a1da",
   "metadata": {
    "execution": {
     "iopub.execute_input": "2025-07-03T22:20:08.486562Z",
     "iopub.status.busy": "2025-07-03T22:20:08.486149Z",
     "iopub.status.idle": "2025-07-03T22:20:08.495708Z",
     "shell.execute_reply": "2025-07-03T22:20:08.495239Z"
    },
    "papermill": {
     "duration": 0.016742,
     "end_time": "2025-07-03T22:20:08.496580",
     "exception": false,
     "start_time": "2025-07-03T22:20:08.479838",
     "status": "completed"
    },
    "tags": []
   },
   "outputs": [],
   "source": [
    "df_casos2 = df_newCasos2.query(\"isBreakOutIni==1 or isBreakOutFinal==1\").copy()"
   ]
  },
  {
   "cell_type": "code",
   "execution_count": 21,
   "id": "2fb81c2d-0a66-4e4d-b4b4-a70b0a11e367",
   "metadata": {
    "execution": {
     "iopub.execute_input": "2025-07-03T22:20:08.508876Z",
     "iopub.status.busy": "2025-07-03T22:20:08.508507Z",
     "iopub.status.idle": "2025-07-03T22:20:08.539950Z",
     "shell.execute_reply": "2025-07-03T22:20:08.539345Z"
    },
    "papermill": {
     "duration": 0.038833,
     "end_time": "2025-07-03T22:20:08.541138",
     "exception": false,
     "start_time": "2025-07-03T22:20:08.502305",
     "status": "completed"
    },
    "tags": []
   },
   "outputs": [],
   "source": [
    "# =============== BACKTESTING ================= #\n",
    "# obteniendo dataframe backtesting\n",
    "df['datetime']=pd.to_datetime(df['datetime'])\n",
    "df_backTesting = pd.merge(df, df_casos2[['datetime','companyName', 'isBreakOutIni','isBreakOutFinal','caso']], on = ['companyName','datetime'], how='left')\n",
    "# datos de trade se asigna una vela anterior debido a que backtesting.py toma entra como la siguiente vela\n",
    "df_backTesting['isBreakOutIni'] = df_backTesting['isBreakOutIni'].shift(-1)\n",
    "df_backTesting['isBreakOutFinal'] = df_backTesting['isBreakOutFinal'].shift(-1)\n",
    "#modificamos indice con el compo datetime\n",
    "df_backTesting.set_index('datetime', inplace=True)"
   ]
  },
  {
   "cell_type": "code",
   "execution_count": 22,
   "id": "9ac01ae8-c1ee-48e1-82c9-042b4e82aa5e",
   "metadata": {
    "execution": {
     "iopub.execute_input": "2025-07-03T22:20:08.553777Z",
     "iopub.status.busy": "2025-07-03T22:20:08.553575Z",
     "iopub.status.idle": "2025-07-03T22:20:08.557532Z",
     "shell.execute_reply": "2025-07-03T22:20:08.557027Z"
    },
    "papermill": {
     "duration": 0.011058,
     "end_time": "2025-07-03T22:20:08.558329",
     "exception": false,
     "start_time": "2025-07-03T22:20:08.547271",
     "status": "completed"
    },
    "tags": []
   },
   "outputs": [],
   "source": [
    "#Estrategia\n",
    "class strategyRupturaCanal(Strategy):    \n",
    "    def init(self):\n",
    "        self.breakout_entry = self.I(lambda x: x, self.data.isBreakOutIni) #Indica la señal entrada al backtesting\n",
    "        self.breakout_exit = self.I(lambda x: x, self.data.isBreakOutFinal) #Indica la señal salida al backtesting\n",
    "\n",
    "    def next(self):       \n",
    "        #print(self.data)        \n",
    "        if self.breakout_entry[-1] == 1:\n",
    "            self.buy()  #COMPRA\n",
    "        elif self.breakout_exit[-1] == 1 and self.position:\n",
    "            self.position.close() #CIERRE\n",
    "        "
   ]
  },
  {
   "cell_type": "code",
   "execution_count": 23,
   "id": "98801fec-d694-44cf-9de9-2295b923f29b",
   "metadata": {
    "execution": {
     "iopub.execute_input": "2025-07-03T22:20:08.570935Z",
     "iopub.status.busy": "2025-07-03T22:20:08.570506Z",
     "iopub.status.idle": "2025-07-03T22:20:10.720353Z",
     "shell.execute_reply": "2025-07-03T22:20:10.719725Z"
    },
    "papermill": {
     "duration": 2.157039,
     "end_time": "2025-07-03T22:20:10.721224",
     "exception": false,
     "start_time": "2025-07-03T22:20:08.564185",
     "status": "completed"
    },
    "tags": []
   },
   "outputs": [
    {
     "name": "stderr",
     "output_type": "stream",
     "text": [
      "\r",
      "Backtest.run:   0%|          | 0/3153 [00:00<?, ?bar/s]"
     ]
    },
    {
     "name": "stderr",
     "output_type": "stream",
     "text": [
      "/usr/share/miniconda/envs/test/lib/python3.10/site-packages/backtesting/backtesting.py:954: UserWarning: time=2064: Broker canceled the relative-sized order due to insufficient margin.\n",
      "  warnings.warn(\n",
      "/usr/share/miniconda/envs/test/lib/python3.10/site-packages/backtesting/backtesting.py:954: UserWarning: time=2082: Broker canceled the relative-sized order due to insufficient margin.\n",
      "  warnings.warn(\n",
      "/usr/share/miniconda/envs/test/lib/python3.10/site-packages/backtesting/backtesting.py:954: UserWarning: time=3081: Broker canceled the relative-sized order due to insufficient margin.\n",
      "  warnings.warn(\n",
      "\r",
      "                                                       "
     ]
    },
    {
     "name": "stderr",
     "output_type": "stream",
     "text": [
      "\r"
     ]
    },
    {
     "name": "stderr",
     "output_type": "stream",
     "text": [
      "\r",
      "Backtest.run:   0%|          | 0/3405 [00:00<?, ?bar/s]"
     ]
    },
    {
     "name": "stderr",
     "output_type": "stream",
     "text": [
      "/usr/share/miniconda/envs/test/lib/python3.10/site-packages/backtesting/backtesting.py:954: UserWarning: time=413: Broker canceled the relative-sized order due to insufficient margin.\n",
      "  warnings.warn(\n",
      "/usr/share/miniconda/envs/test/lib/python3.10/site-packages/backtesting/backtesting.py:954: UserWarning: time=2363: Broker canceled the relative-sized order due to insufficient margin.\n",
      "  warnings.warn(\n",
      "/usr/share/miniconda/envs/test/lib/python3.10/site-packages/backtesting/backtesting.py:954: UserWarning: time=3084: Broker canceled the relative-sized order due to insufficient margin.\n",
      "  warnings.warn(\n",
      "\r",
      "                                                       "
     ]
    },
    {
     "name": "stderr",
     "output_type": "stream",
     "text": [
      "\r"
     ]
    },
    {
     "name": "stderr",
     "output_type": "stream",
     "text": [
      "\r",
      "Backtest.run:   0%|          | 0/3349 [00:00<?, ?bar/s]"
     ]
    },
    {
     "name": "stderr",
     "output_type": "stream",
     "text": [
      "/usr/share/miniconda/envs/test/lib/python3.10/site-packages/backtesting/backtesting.py:954: UserWarning: time=724: Broker canceled the relative-sized order due to insufficient margin.\n",
      "  warnings.warn(\n",
      "/usr/share/miniconda/envs/test/lib/python3.10/site-packages/backtesting/backtesting.py:954: UserWarning: time=1278: Broker canceled the relative-sized order due to insufficient margin.\n",
      "  warnings.warn(\n",
      "/usr/share/miniconda/envs/test/lib/python3.10/site-packages/backtesting/backtesting.py:954: UserWarning: time=1351: Broker canceled the relative-sized order due to insufficient margin.\n",
      "  warnings.warn(\n",
      "/usr/share/miniconda/envs/test/lib/python3.10/site-packages/backtesting/backtesting.py:954: UserWarning: time=1875: Broker canceled the relative-sized order due to insufficient margin.\n",
      "  warnings.warn(\n",
      "\r",
      "                                                       "
     ]
    },
    {
     "name": "stderr",
     "output_type": "stream",
     "text": [
      "\r"
     ]
    },
    {
     "name": "stderr",
     "output_type": "stream",
     "text": [
      "\r",
      "Backtest.run:   0%|          | 0/3411 [00:00<?, ?bar/s]"
     ]
    },
    {
     "name": "stderr",
     "output_type": "stream",
     "text": [
      "/usr/share/miniconda/envs/test/lib/python3.10/site-packages/backtesting/backtesting.py:954: UserWarning: time=2195: Broker canceled the relative-sized order due to insufficient margin.\n",
      "  warnings.warn(\n",
      "/usr/share/miniconda/envs/test/lib/python3.10/site-packages/backtesting/backtesting.py:954: UserWarning: time=2673: Broker canceled the relative-sized order due to insufficient margin.\n",
      "  warnings.warn(\n",
      "/usr/share/miniconda/envs/test/lib/python3.10/site-packages/backtesting/backtesting.py:954: UserWarning: time=3452: Broker canceled the relative-sized order due to insufficient margin.\n",
      "  warnings.warn(\n",
      "\r",
      "                                                       "
     ]
    },
    {
     "name": "stderr",
     "output_type": "stream",
     "text": [
      "\r"
     ]
    },
    {
     "name": "stderr",
     "output_type": "stream",
     "text": [
      "\r",
      "Backtest.run:   0%|          | 0/3396 [00:00<?, ?bar/s]"
     ]
    },
    {
     "name": "stderr",
     "output_type": "stream",
     "text": [
      "/usr/share/miniconda/envs/test/lib/python3.10/site-packages/backtesting/backtesting.py:954: UserWarning: time=1399: Broker canceled the relative-sized order due to insufficient margin.\n",
      "  warnings.warn(\n"
     ]
    },
    {
     "name": "stderr",
     "output_type": "stream",
     "text": [
      "/usr/share/miniconda/envs/test/lib/python3.10/site-packages/backtesting/backtesting.py:954: UserWarning: time=2673: Broker canceled the relative-sized order due to insufficient margin.\n",
      "  warnings.warn(\n",
      "/usr/share/miniconda/envs/test/lib/python3.10/site-packages/backtesting/backtesting.py:954: UserWarning: time=3072: Broker canceled the relative-sized order due to insufficient margin.\n",
      "  warnings.warn(\n",
      "\r",
      "                                                       "
     ]
    },
    {
     "name": "stderr",
     "output_type": "stream",
     "text": [
      "\r"
     ]
    },
    {
     "name": "stderr",
     "output_type": "stream",
     "text": [
      "\r",
      "Backtest.run:   0%|          | 0/3301 [00:00<?, ?bar/s]"
     ]
    },
    {
     "name": "stderr",
     "output_type": "stream",
     "text": [
      "/usr/share/miniconda/envs/test/lib/python3.10/site-packages/backtesting/backtesting.py:954: UserWarning: time=415: Broker canceled the relative-sized order due to insufficient margin.\n",
      "  warnings.warn(\n"
     ]
    },
    {
     "name": "stderr",
     "output_type": "stream",
     "text": [
      "/usr/share/miniconda/envs/test/lib/python3.10/site-packages/backtesting/backtesting.py:954: UserWarning: time=2812: Broker canceled the relative-sized order due to insufficient margin.\n",
      "  warnings.warn(\n",
      "/usr/share/miniconda/envs/test/lib/python3.10/site-packages/backtesting/backtesting.py:954: UserWarning: time=3062: Broker canceled the relative-sized order due to insufficient margin.\n",
      "  warnings.warn(\n",
      "/usr/share/miniconda/envs/test/lib/python3.10/site-packages/backtesting/backtesting.py:954: UserWarning: time=3235: Broker canceled the relative-sized order due to insufficient margin.\n",
      "  warnings.warn(\n",
      "\r",
      "                                                       "
     ]
    },
    {
     "name": "stderr",
     "output_type": "stream",
     "text": [
      "\r"
     ]
    },
    {
     "name": "stderr",
     "output_type": "stream",
     "text": [
      "\r",
      "Backtest.run:   0%|          | 0/3386 [00:00<?, ?bar/s]"
     ]
    },
    {
     "name": "stderr",
     "output_type": "stream",
     "text": [
      "/usr/share/miniconda/envs/test/lib/python3.10/site-packages/backtesting/backtesting.py:954: UserWarning: time=1917: Broker canceled the relative-sized order due to insufficient margin.\n",
      "  warnings.warn(\n"
     ]
    },
    {
     "name": "stderr",
     "output_type": "stream",
     "text": [
      "/usr/share/miniconda/envs/test/lib/python3.10/site-packages/backtesting/backtesting.py:954: UserWarning: time=2931: Broker canceled the relative-sized order due to insufficient margin.\n",
      "  warnings.warn(\n",
      "\r",
      "                                                       "
     ]
    },
    {
     "name": "stderr",
     "output_type": "stream",
     "text": [
      "\r"
     ]
    },
    {
     "name": "stderr",
     "output_type": "stream",
     "text": [
      "\r",
      "Backtest.run:   0%|          | 0/3302 [00:00<?, ?bar/s]"
     ]
    },
    {
     "name": "stderr",
     "output_type": "stream",
     "text": [
      "/usr/share/miniconda/envs/test/lib/python3.10/site-packages/backtesting/backtesting.py:954: UserWarning: time=343: Broker canceled the relative-sized order due to insufficient margin.\n",
      "  warnings.warn(\n",
      "/usr/share/miniconda/envs/test/lib/python3.10/site-packages/backtesting/backtesting.py:954: UserWarning: time=1238: Broker canceled the relative-sized order due to insufficient margin.\n",
      "  warnings.warn(\n",
      "/usr/share/miniconda/envs/test/lib/python3.10/site-packages/backtesting/backtesting.py:954: UserWarning: time=2083: Broker canceled the relative-sized order due to insufficient margin.\n",
      "  warnings.warn(\n",
      "/usr/share/miniconda/envs/test/lib/python3.10/site-packages/backtesting/backtesting.py:954: UserWarning: time=2312: Broker canceled the relative-sized order due to insufficient margin.\n",
      "  warnings.warn(\n"
     ]
    },
    {
     "name": "stderr",
     "output_type": "stream",
     "text": [
      "/usr/share/miniconda/envs/test/lib/python3.10/site-packages/backtesting/backtesting.py:954: UserWarning: time=3436: Broker canceled the relative-sized order due to insufficient margin.\n",
      "  warnings.warn(\n",
      "\r",
      "                                                       "
     ]
    },
    {
     "name": "stderr",
     "output_type": "stream",
     "text": [
      "\r"
     ]
    },
    {
     "name": "stderr",
     "output_type": "stream",
     "text": [
      "\r",
      "Backtest.run:   0%|          | 0/3435 [00:00<?, ?bar/s]"
     ]
    },
    {
     "name": "stderr",
     "output_type": "stream",
     "text": [
      "/usr/share/miniconda/envs/test/lib/python3.10/site-packages/backtesting/backtesting.py:954: UserWarning: time=916: Broker canceled the relative-sized order due to insufficient margin.\n",
      "  warnings.warn(\n"
     ]
    },
    {
     "name": "stderr",
     "output_type": "stream",
     "text": [
      "/usr/share/miniconda/envs/test/lib/python3.10/site-packages/backtesting/backtesting.py:954: UserWarning: time=3477: Broker canceled the relative-sized order due to insufficient margin.\n",
      "  warnings.warn(\n",
      "\r",
      "                                                       "
     ]
    },
    {
     "name": "stderr",
     "output_type": "stream",
     "text": [
      "\r"
     ]
    },
    {
     "name": "stderr",
     "output_type": "stream",
     "text": [
      "\r",
      "Backtest.run:   0%|          | 0/3405 [00:00<?, ?bar/s]"
     ]
    },
    {
     "name": "stderr",
     "output_type": "stream",
     "text": [
      "/usr/share/miniconda/envs/test/lib/python3.10/site-packages/backtesting/backtesting.py:954: UserWarning: time=1046: Broker canceled the relative-sized order due to insufficient margin.\n",
      "  warnings.warn(\n"
     ]
    },
    {
     "name": "stderr",
     "output_type": "stream",
     "text": [
      "/usr/share/miniconda/envs/test/lib/python3.10/site-packages/backtesting/backtesting.py:954: UserWarning: time=2470: Broker canceled the relative-sized order due to insufficient margin.\n",
      "  warnings.warn(\n",
      "\r",
      "                                                       "
     ]
    },
    {
     "name": "stderr",
     "output_type": "stream",
     "text": [
      "\r"
     ]
    },
    {
     "name": "stderr",
     "output_type": "stream",
     "text": [
      "\r",
      "Backtest.run:   0%|          | 0/3315 [00:00<?, ?bar/s]"
     ]
    },
    {
     "name": "stderr",
     "output_type": "stream",
     "text": [
      "/usr/share/miniconda/envs/test/lib/python3.10/site-packages/backtesting/backtesting.py:954: UserWarning: time=1209: Broker canceled the relative-sized order due to insufficient margin.\n",
      "  warnings.warn(\n"
     ]
    },
    {
     "name": "stderr",
     "output_type": "stream",
     "text": [
      "/usr/share/miniconda/envs/test/lib/python3.10/site-packages/backtesting/backtesting.py:954: UserWarning: time=3202: Broker canceled the relative-sized order due to insufficient margin.\n",
      "  warnings.warn(\n",
      "\r",
      "                                                       "
     ]
    },
    {
     "name": "stderr",
     "output_type": "stream",
     "text": [
      "\r"
     ]
    },
    {
     "name": "stderr",
     "output_type": "stream",
     "text": [
      "\r",
      "Backtest.run:   0%|          | 0/3375 [00:00<?, ?bar/s]"
     ]
    },
    {
     "name": "stderr",
     "output_type": "stream",
     "text": [
      "/usr/share/miniconda/envs/test/lib/python3.10/site-packages/backtesting/backtesting.py:954: UserWarning: time=1050: Broker canceled the relative-sized order due to insufficient margin.\n",
      "  warnings.warn(\n"
     ]
    },
    {
     "name": "stderr",
     "output_type": "stream",
     "text": [
      "/usr/share/miniconda/envs/test/lib/python3.10/site-packages/backtesting/backtesting.py:954: UserWarning: time=1899: Broker canceled the relative-sized order due to insufficient margin.\n",
      "  warnings.warn(\n",
      "/usr/share/miniconda/envs/test/lib/python3.10/site-packages/backtesting/backtesting.py:954: UserWarning: time=3061: Broker canceled the relative-sized order due to insufficient margin.\n",
      "  warnings.warn(\n",
      "\r",
      "                                                       "
     ]
    },
    {
     "name": "stderr",
     "output_type": "stream",
     "text": [
      "\r"
     ]
    },
    {
     "name": "stderr",
     "output_type": "stream",
     "text": [
      "\r",
      "Backtest.run:   0%|          | 0/3466 [00:00<?, ?bar/s]"
     ]
    },
    {
     "name": "stderr",
     "output_type": "stream",
     "text": [
      "/usr/share/miniconda/envs/test/lib/python3.10/site-packages/backtesting/backtesting.py:954: UserWarning: time=254: Broker canceled the relative-sized order due to insufficient margin.\n",
      "  warnings.warn(\n",
      "/usr/share/miniconda/envs/test/lib/python3.10/site-packages/backtesting/backtesting.py:954: UserWarning: time=1685: Broker canceled the relative-sized order due to insufficient margin.\n",
      "  warnings.warn(\n"
     ]
    },
    {
     "name": "stderr",
     "output_type": "stream",
     "text": [
      "/usr/share/miniconda/envs/test/lib/python3.10/site-packages/backtesting/backtesting.py:954: UserWarning: time=1773: Broker canceled the relative-sized order due to insufficient margin.\n",
      "  warnings.warn(\n",
      "/usr/share/miniconda/envs/test/lib/python3.10/site-packages/backtesting/backtesting.py:954: UserWarning: time=2763: Broker canceled the relative-sized order due to insufficient margin.\n",
      "  warnings.warn(\n",
      "\r",
      "                                                       "
     ]
    },
    {
     "name": "stderr",
     "output_type": "stream",
     "text": [
      "\r"
     ]
    },
    {
     "name": "stderr",
     "output_type": "stream",
     "text": [
      "\r",
      "Backtest.run:   0%|          | 0/3452 [00:00<?, ?bar/s]"
     ]
    },
    {
     "name": "stderr",
     "output_type": "stream",
     "text": [
      "/usr/share/miniconda/envs/test/lib/python3.10/site-packages/backtesting/backtesting.py:954: UserWarning: time=958: Broker canceled the relative-sized order due to insufficient margin.\n",
      "  warnings.warn(\n"
     ]
    },
    {
     "name": "stderr",
     "output_type": "stream",
     "text": [
      "/usr/share/miniconda/envs/test/lib/python3.10/site-packages/backtesting/backtesting.py:954: UserWarning: time=1912: Broker canceled the relative-sized order due to insufficient margin.\n",
      "  warnings.warn(\n",
      "\r",
      "                                                       "
     ]
    },
    {
     "name": "stderr",
     "output_type": "stream",
     "text": [
      "\r"
     ]
    },
    {
     "name": "stderr",
     "output_type": "stream",
     "text": [
      "\r",
      "Backtest.run:   0%|          | 0/3422 [00:00<?, ?bar/s]"
     ]
    },
    {
     "name": "stderr",
     "output_type": "stream",
     "text": [
      "/usr/share/miniconda/envs/test/lib/python3.10/site-packages/backtesting/backtesting.py:954: UserWarning: time=411: Broker canceled the relative-sized order due to insufficient margin.\n",
      "  warnings.warn(\n",
      "/usr/share/miniconda/envs/test/lib/python3.10/site-packages/backtesting/backtesting.py:954: UserWarning: time=753: Broker canceled the relative-sized order due to insufficient margin.\n",
      "  warnings.warn(\n"
     ]
    },
    {
     "name": "stderr",
     "output_type": "stream",
     "text": [
      "/usr/share/miniconda/envs/test/lib/python3.10/site-packages/backtesting/backtesting.py:954: UserWarning: time=1918: Broker canceled the relative-sized order due to insufficient margin.\n",
      "  warnings.warn(\n",
      "/usr/share/miniconda/envs/test/lib/python3.10/site-packages/backtesting/backtesting.py:954: UserWarning: time=2673: Broker canceled the relative-sized order due to insufficient margin.\n",
      "  warnings.warn(\n",
      "/usr/share/miniconda/envs/test/lib/python3.10/site-packages/backtesting/backtesting.py:954: UserWarning: time=3080: Broker canceled the relative-sized order due to insufficient margin.\n",
      "  warnings.warn(\n"
     ]
    },
    {
     "name": "stderr",
     "output_type": "stream",
     "text": [
      "\r",
      "                                                       "
     ]
    },
    {
     "name": "stderr",
     "output_type": "stream",
     "text": [
      "\r"
     ]
    },
    {
     "name": "stderr",
     "output_type": "stream",
     "text": [
      "\r",
      "Backtest.run:   0%|          | 0/3422 [00:00<?, ?bar/s]"
     ]
    },
    {
     "name": "stderr",
     "output_type": "stream",
     "text": [
      "/usr/share/miniconda/envs/test/lib/python3.10/site-packages/backtesting/backtesting.py:954: UserWarning: time=2672: Broker canceled the relative-sized order due to insufficient margin.\n",
      "  warnings.warn(\n",
      "/usr/share/miniconda/envs/test/lib/python3.10/site-packages/backtesting/backtesting.py:954: UserWarning: time=2767: Broker canceled the relative-sized order due to insufficient margin.\n",
      "  warnings.warn(\n",
      "/usr/share/miniconda/envs/test/lib/python3.10/site-packages/backtesting/backtesting.py:954: UserWarning: time=2903: Broker canceled the relative-sized order due to insufficient margin.\n",
      "  warnings.warn(\n",
      "\r",
      "                                                       "
     ]
    },
    {
     "name": "stderr",
     "output_type": "stream",
     "text": [
      "\r"
     ]
    },
    {
     "name": "stderr",
     "output_type": "stream",
     "text": [
      "\r",
      "Backtest.run:   0%|          | 0/3339 [00:00<?, ?bar/s]"
     ]
    },
    {
     "name": "stderr",
     "output_type": "stream",
     "text": [
      "/usr/share/miniconda/envs/test/lib/python3.10/site-packages/backtesting/backtesting.py:954: UserWarning: time=1319: Broker canceled the relative-sized order due to insufficient margin.\n",
      "  warnings.warn(\n",
      "/usr/share/miniconda/envs/test/lib/python3.10/site-packages/backtesting/backtesting.py:954: UserWarning: time=1338: Broker canceled the relative-sized order due to insufficient margin.\n",
      "  warnings.warn(\n"
     ]
    },
    {
     "name": "stderr",
     "output_type": "stream",
     "text": [
      "/usr/share/miniconda/envs/test/lib/python3.10/site-packages/backtesting/backtesting.py:954: UserWarning: time=2674: Broker canceled the relative-sized order due to insufficient margin.\n",
      "  warnings.warn(\n",
      "/usr/share/miniconda/envs/test/lib/python3.10/site-packages/backtesting/backtesting.py:954: UserWarning: time=2688: Broker canceled the relative-sized order due to insufficient margin.\n",
      "  warnings.warn(\n",
      "\r",
      "                                                       "
     ]
    },
    {
     "name": "stderr",
     "output_type": "stream",
     "text": [
      "\r"
     ]
    },
    {
     "name": "stderr",
     "output_type": "stream",
     "text": [
      "\r",
      "Backtest.run:   0%|          | 0/3380 [00:00<?, ?bar/s]"
     ]
    },
    {
     "name": "stderr",
     "output_type": "stream",
     "text": [
      "/usr/share/miniconda/envs/test/lib/python3.10/site-packages/backtesting/backtesting.py:954: UserWarning: time=3028: Broker canceled the relative-sized order due to insufficient margin.\n",
      "  warnings.warn(\n",
      "/usr/share/miniconda/envs/test/lib/python3.10/site-packages/backtesting/backtesting.py:954: UserWarning: time=3255: Broker canceled the relative-sized order due to insufficient margin.\n",
      "  warnings.warn(\n",
      "\r",
      "                                                       "
     ]
    },
    {
     "name": "stderr",
     "output_type": "stream",
     "text": [
      "\r"
     ]
    },
    {
     "name": "stderr",
     "output_type": "stream",
     "text": [
      "\r",
      "Backtest.run:   0%|          | 0/3455 [00:00<?, ?bar/s]"
     ]
    },
    {
     "name": "stderr",
     "output_type": "stream",
     "text": [
      "/usr/share/miniconda/envs/test/lib/python3.10/site-packages/backtesting/backtesting.py:954: UserWarning: time=368: Broker canceled the relative-sized order due to insufficient margin.\n",
      "  warnings.warn(\n",
      "/usr/share/miniconda/envs/test/lib/python3.10/site-packages/backtesting/backtesting.py:954: UserWarning: time=394: Broker canceled the relative-sized order due to insufficient margin.\n",
      "  warnings.warn(\n",
      "/usr/share/miniconda/envs/test/lib/python3.10/site-packages/backtesting/backtesting.py:954: UserWarning: time=880: Broker canceled the relative-sized order due to insufficient margin.\n",
      "  warnings.warn(\n",
      "/usr/share/miniconda/envs/test/lib/python3.10/site-packages/backtesting/backtesting.py:954: UserWarning: time=1920: Broker canceled the relative-sized order due to insufficient margin.\n",
      "  warnings.warn(\n"
     ]
    },
    {
     "name": "stderr",
     "output_type": "stream",
     "text": [
      "/usr/share/miniconda/envs/test/lib/python3.10/site-packages/backtesting/backtesting.py:954: UserWarning: time=2673: Broker canceled the relative-sized order due to insufficient margin.\n",
      "  warnings.warn(\n",
      "/usr/share/miniconda/envs/test/lib/python3.10/site-packages/backtesting/backtesting.py:954: UserWarning: time=2685: Broker canceled the relative-sized order due to insufficient margin.\n",
      "  warnings.warn(\n",
      "\r",
      "                                                       "
     ]
    },
    {
     "name": "stderr",
     "output_type": "stream",
     "text": [
      "\r"
     ]
    },
    {
     "name": "stderr",
     "output_type": "stream",
     "text": [
      "\r",
      "Backtest.run:   0%|          | 0/3459 [00:00<?, ?bar/s]"
     ]
    },
    {
     "name": "stderr",
     "output_type": "stream",
     "text": [
      "/usr/share/miniconda/envs/test/lib/python3.10/site-packages/backtesting/backtesting.py:954: UserWarning: time=1776: Broker canceled the relative-sized order due to insufficient margin.\n",
      "  warnings.warn(\n",
      "/usr/share/miniconda/envs/test/lib/python3.10/site-packages/backtesting/backtesting.py:954: UserWarning: time=2236: Broker canceled the relative-sized order due to insufficient margin.\n",
      "  warnings.warn(\n"
     ]
    },
    {
     "name": "stderr",
     "output_type": "stream",
     "text": [
      "\r",
      "                                                       "
     ]
    },
    {
     "name": "stderr",
     "output_type": "stream",
     "text": [
      "\r"
     ]
    },
    {
     "name": "stderr",
     "output_type": "stream",
     "text": [
      "\r",
      "Backtest.run:   0%|          | 0/3404 [00:00<?, ?bar/s]"
     ]
    },
    {
     "name": "stderr",
     "output_type": "stream",
     "text": [
      "/usr/share/miniconda/envs/test/lib/python3.10/site-packages/backtesting/backtesting.py:954: UserWarning: time=1918: Broker canceled the relative-sized order due to insufficient margin.\n",
      "  warnings.warn(\n",
      "/usr/share/miniconda/envs/test/lib/python3.10/site-packages/backtesting/backtesting.py:954: UserWarning: time=3083: Broker canceled the relative-sized order due to insufficient margin.\n",
      "  warnings.warn(\n",
      "\r",
      "                                                       "
     ]
    },
    {
     "name": "stderr",
     "output_type": "stream",
     "text": [
      "\r"
     ]
    },
    {
     "name": "stderr",
     "output_type": "stream",
     "text": [
      "\r",
      "Backtest.run:   0%|          | 0/3191 [00:00<?, ?bar/s]"
     ]
    },
    {
     "name": "stderr",
     "output_type": "stream",
     "text": [
      "/usr/share/miniconda/envs/test/lib/python3.10/site-packages/backtesting/backtesting.py:954: UserWarning: time=443: Broker canceled the relative-sized order due to insufficient margin.\n",
      "  warnings.warn(\n",
      "/usr/share/miniconda/envs/test/lib/python3.10/site-packages/backtesting/backtesting.py:954: UserWarning: time=2566: Broker canceled the relative-sized order due to insufficient margin.\n",
      "  warnings.warn(\n",
      "/usr/share/miniconda/envs/test/lib/python3.10/site-packages/backtesting/backtesting.py:954: UserWarning: time=2622: Broker canceled the relative-sized order due to insufficient margin.\n",
      "  warnings.warn(\n",
      "/usr/share/miniconda/envs/test/lib/python3.10/site-packages/backtesting/backtesting.py:954: UserWarning: time=2921: Broker canceled the relative-sized order due to insufficient margin.\n",
      "  warnings.warn(\n",
      "\r",
      "                                                       "
     ]
    },
    {
     "name": "stderr",
     "output_type": "stream",
     "text": [
      "\r"
     ]
    },
    {
     "name": "stderr",
     "output_type": "stream",
     "text": [
      "\r",
      "Backtest.run:   0%|          | 0/3420 [00:00<?, ?bar/s]"
     ]
    },
    {
     "name": "stderr",
     "output_type": "stream",
     "text": [
      "/usr/share/miniconda/envs/test/lib/python3.10/site-packages/backtesting/backtesting.py:954: UserWarning: time=1055: Broker canceled the relative-sized order due to insufficient margin.\n",
      "  warnings.warn(\n",
      "/usr/share/miniconda/envs/test/lib/python3.10/site-packages/backtesting/backtesting.py:954: UserWarning: time=1564: Broker canceled the relative-sized order due to insufficient margin.\n",
      "  warnings.warn(\n",
      "/usr/share/miniconda/envs/test/lib/python3.10/site-packages/backtesting/backtesting.py:954: UserWarning: time=1581: Broker canceled the relative-sized order due to insufficient margin.\n",
      "  warnings.warn(\n",
      "/usr/share/miniconda/envs/test/lib/python3.10/site-packages/backtesting/backtesting.py:954: UserWarning: time=2886: Broker canceled the relative-sized order due to insufficient margin.\n",
      "  warnings.warn(\n",
      "/usr/share/miniconda/envs/test/lib/python3.10/site-packages/backtesting/backtesting.py:954: UserWarning: time=2956: Broker canceled the relative-sized order due to insufficient margin.\n",
      "  warnings.warn(\n",
      "\r",
      "                                                       "
     ]
    },
    {
     "name": "stderr",
     "output_type": "stream",
     "text": [
      "\r"
     ]
    },
    {
     "name": "stderr",
     "output_type": "stream",
     "text": [
      "\r",
      "Backtest.run:   0%|          | 0/3406 [00:00<?, ?bar/s]"
     ]
    },
    {
     "name": "stderr",
     "output_type": "stream",
     "text": [
      "/usr/share/miniconda/envs/test/lib/python3.10/site-packages/backtesting/backtesting.py:954: UserWarning: time=406: Broker canceled the relative-sized order due to insufficient margin.\n",
      "  warnings.warn(\n"
     ]
    },
    {
     "name": "stderr",
     "output_type": "stream",
     "text": [
      "/usr/share/miniconda/envs/test/lib/python3.10/site-packages/backtesting/backtesting.py:954: UserWarning: time=2953: Broker canceled the relative-sized order due to insufficient margin.\n",
      "  warnings.warn(\n",
      "/usr/share/miniconda/envs/test/lib/python3.10/site-packages/backtesting/backtesting.py:954: UserWarning: time=3044: Broker canceled the relative-sized order due to insufficient margin.\n",
      "  warnings.warn(\n",
      "\r",
      "                                                       "
     ]
    },
    {
     "name": "stderr",
     "output_type": "stream",
     "text": [
      "\r"
     ]
    },
    {
     "name": "stderr",
     "output_type": "stream",
     "text": [
      "\r",
      "Backtest.run:   0%|          | 0/3423 [00:00<?, ?bar/s]"
     ]
    },
    {
     "name": "stderr",
     "output_type": "stream",
     "text": [
      "/usr/share/miniconda/envs/test/lib/python3.10/site-packages/backtesting/backtesting.py:954: UserWarning: time=406: Broker canceled the relative-sized order due to insufficient margin.\n",
      "  warnings.warn(\n",
      "/usr/share/miniconda/envs/test/lib/python3.10/site-packages/backtesting/backtesting.py:954: UserWarning: time=753: Broker canceled the relative-sized order due to insufficient margin.\n",
      "  warnings.warn(\n",
      "/usr/share/miniconda/envs/test/lib/python3.10/site-packages/backtesting/backtesting.py:954: UserWarning: time=1402: Broker canceled the relative-sized order due to insufficient margin.\n",
      "  warnings.warn(\n"
     ]
    },
    {
     "name": "stderr",
     "output_type": "stream",
     "text": [
      "/usr/share/miniconda/envs/test/lib/python3.10/site-packages/backtesting/backtesting.py:954: UserWarning: time=2067: Broker canceled the relative-sized order due to insufficient margin.\n",
      "  warnings.warn(\n",
      "\r",
      "                                                       "
     ]
    },
    {
     "name": "stderr",
     "output_type": "stream",
     "text": [
      "\r"
     ]
    },
    {
     "name": "stderr",
     "output_type": "stream",
     "text": [
      "\r",
      "Backtest.run:   0%|          | 0/3405 [00:00<?, ?bar/s]"
     ]
    },
    {
     "name": "stderr",
     "output_type": "stream",
     "text": [
      "/usr/share/miniconda/envs/test/lib/python3.10/site-packages/backtesting/backtesting.py:954: UserWarning: time=708: Broker canceled the relative-sized order due to insufficient margin.\n",
      "  warnings.warn(\n",
      "/usr/share/miniconda/envs/test/lib/python3.10/site-packages/backtesting/backtesting.py:954: UserWarning: time=723: Broker canceled the relative-sized order due to insufficient margin.\n",
      "  warnings.warn(\n",
      "/usr/share/miniconda/envs/test/lib/python3.10/site-packages/backtesting/backtesting.py:954: UserWarning: time=752: Broker canceled the relative-sized order due to insufficient margin.\n",
      "  warnings.warn(\n",
      "/usr/share/miniconda/envs/test/lib/python3.10/site-packages/backtesting/backtesting.py:954: UserWarning: time=1724: Broker canceled the relative-sized order due to insufficient margin.\n",
      "  warnings.warn(\n",
      "/usr/share/miniconda/envs/test/lib/python3.10/site-packages/backtesting/backtesting.py:954: UserWarning: time=2068: Broker canceled the relative-sized order due to insufficient margin.\n",
      "  warnings.warn(\n"
     ]
    },
    {
     "name": "stderr",
     "output_type": "stream",
     "text": [
      "/usr/share/miniconda/envs/test/lib/python3.10/site-packages/backtesting/backtesting.py:954: UserWarning: time=2436: Broker canceled the relative-sized order due to insufficient margin.\n",
      "  warnings.warn(\n",
      "/usr/share/miniconda/envs/test/lib/python3.10/site-packages/backtesting/backtesting.py:954: UserWarning: time=2675: Broker canceled the relative-sized order due to insufficient margin.\n",
      "  warnings.warn(\n",
      "\r",
      "                                                       "
     ]
    },
    {
     "name": "stderr",
     "output_type": "stream",
     "text": [
      "\r"
     ]
    },
    {
     "name": "stderr",
     "output_type": "stream",
     "text": [
      "\r",
      "Backtest.run:   0%|          | 0/3415 [00:00<?, ?bar/s]"
     ]
    },
    {
     "name": "stderr",
     "output_type": "stream",
     "text": [
      "/usr/share/miniconda/envs/test/lib/python3.10/site-packages/backtesting/backtesting.py:954: UserWarning: time=3081: Broker canceled the relative-sized order due to insufficient margin.\n",
      "  warnings.warn(\n",
      "\r",
      "                                                       "
     ]
    },
    {
     "name": "stderr",
     "output_type": "stream",
     "text": [
      "\r"
     ]
    },
    {
     "name": "stderr",
     "output_type": "stream",
     "text": [
      "\r",
      "Backtest.run:   0%|          | 0/434 [00:00<?, ?bar/s]"
     ]
    },
    {
     "name": "stderr",
     "output_type": "stream",
     "text": [
      "\r",
      "                                                      "
     ]
    },
    {
     "name": "stderr",
     "output_type": "stream",
     "text": [
      "\r"
     ]
    },
    {
     "name": "stderr",
     "output_type": "stream",
     "text": [
      "\r",
      "Backtest.run:   0%|          | 0/3435 [00:00<?, ?bar/s]"
     ]
    },
    {
     "name": "stderr",
     "output_type": "stream",
     "text": [
      "/usr/share/miniconda/envs/test/lib/python3.10/site-packages/backtesting/backtesting.py:954: UserWarning: time=2080: Broker canceled the relative-sized order due to insufficient margin.\n",
      "  warnings.warn(\n",
      "/usr/share/miniconda/envs/test/lib/python3.10/site-packages/backtesting/backtesting.py:954: UserWarning: time=2617: Broker canceled the relative-sized order due to insufficient margin.\n",
      "  warnings.warn(\n",
      "/usr/share/miniconda/envs/test/lib/python3.10/site-packages/backtesting/backtesting.py:954: UserWarning: time=2744: Broker canceled the relative-sized order due to insufficient margin.\n",
      "  warnings.warn(\n",
      "/usr/share/miniconda/envs/test/lib/python3.10/site-packages/backtesting/backtesting.py:954: UserWarning: time=3437: Broker canceled the relative-sized order due to insufficient margin.\n",
      "  warnings.warn(\n",
      "\r",
      "                                                       "
     ]
    },
    {
     "name": "stderr",
     "output_type": "stream",
     "text": [
      "\r"
     ]
    },
    {
     "name": "stderr",
     "output_type": "stream",
     "text": [
      "\r",
      "Backtest.run:   0%|          | 0/3227 [00:00<?, ?bar/s]"
     ]
    },
    {
     "name": "stderr",
     "output_type": "stream",
     "text": [
      "/usr/share/miniconda/envs/test/lib/python3.10/site-packages/backtesting/backtesting.py:954: UserWarning: time=822: Broker canceled the relative-sized order due to insufficient margin.\n",
      "  warnings.warn(\n",
      "/usr/share/miniconda/envs/test/lib/python3.10/site-packages/backtesting/backtesting.py:954: UserWarning: time=956: Broker canceled the relative-sized order due to insufficient margin.\n",
      "  warnings.warn(\n",
      "/usr/share/miniconda/envs/test/lib/python3.10/site-packages/backtesting/backtesting.py:954: UserWarning: time=1178: Broker canceled the relative-sized order due to insufficient margin.\n",
      "  warnings.warn(\n",
      "/usr/share/miniconda/envs/test/lib/python3.10/site-packages/backtesting/backtesting.py:954: UserWarning: time=2869: Broker canceled the relative-sized order due to insufficient margin.\n",
      "  warnings.warn(\n",
      "\r",
      "                                                       "
     ]
    },
    {
     "name": "stderr",
     "output_type": "stream",
     "text": [
      "\r"
     ]
    },
    {
     "name": "stderr",
     "output_type": "stream",
     "text": [
      "\r",
      "Backtest.run:   0%|          | 0/3375 [00:00<?, ?bar/s]"
     ]
    },
    {
     "name": "stderr",
     "output_type": "stream",
     "text": [
      "/usr/share/miniconda/envs/test/lib/python3.10/site-packages/backtesting/backtesting.py:954: UserWarning: time=2672: Broker canceled the relative-sized order due to insufficient margin.\n",
      "  warnings.warn(\n",
      "/usr/share/miniconda/envs/test/lib/python3.10/site-packages/backtesting/backtesting.py:954: UserWarning: time=2811: Broker canceled the relative-sized order due to insufficient margin.\n",
      "  warnings.warn(\n",
      "\r",
      "                                                       "
     ]
    },
    {
     "name": "stderr",
     "output_type": "stream",
     "text": [
      "\r"
     ]
    },
    {
     "name": "stderr",
     "output_type": "stream",
     "text": [
      "\r",
      "Backtest.run:   0%|          | 0/3344 [00:00<?, ?bar/s]"
     ]
    },
    {
     "name": "stderr",
     "output_type": "stream",
     "text": [
      "/usr/share/miniconda/envs/test/lib/python3.10/site-packages/backtesting/backtesting.py:954: UserWarning: time=1917: Broker canceled the relative-sized order due to insufficient margin.\n",
      "  warnings.warn(\n"
     ]
    },
    {
     "name": "stderr",
     "output_type": "stream",
     "text": [
      "/usr/share/miniconda/envs/test/lib/python3.10/site-packages/backtesting/backtesting.py:954: UserWarning: time=2930: Broker canceled the relative-sized order due to insufficient margin.\n",
      "  warnings.warn(\n",
      "/usr/share/miniconda/envs/test/lib/python3.10/site-packages/backtesting/backtesting.py:954: UserWarning: time=3429: Broker canceled the relative-sized order due to insufficient margin.\n",
      "  warnings.warn(\n",
      "\r",
      "                                                       "
     ]
    },
    {
     "name": "stderr",
     "output_type": "stream",
     "text": [
      "\r"
     ]
    },
    {
     "name": "stderr",
     "output_type": "stream",
     "text": [
      "\r",
      "Backtest.run:   0%|          | 0/3346 [00:00<?, ?bar/s]"
     ]
    },
    {
     "name": "stderr",
     "output_type": "stream",
     "text": [
      "/usr/share/miniconda/envs/test/lib/python3.10/site-packages/backtesting/backtesting.py:954: UserWarning: time=406: Broker canceled the relative-sized order due to insufficient margin.\n",
      "  warnings.warn(\n",
      "/usr/share/miniconda/envs/test/lib/python3.10/site-packages/backtesting/backtesting.py:954: UserWarning: time=839: Broker canceled the relative-sized order due to insufficient margin.\n",
      "  warnings.warn(\n"
     ]
    },
    {
     "name": "stderr",
     "output_type": "stream",
     "text": [
      "/usr/share/miniconda/envs/test/lib/python3.10/site-packages/backtesting/backtesting.py:954: UserWarning: time=1578: Broker canceled the relative-sized order due to insufficient margin.\n",
      "  warnings.warn(\n",
      "/usr/share/miniconda/envs/test/lib/python3.10/site-packages/backtesting/backtesting.py:954: UserWarning: time=2531: Broker canceled the relative-sized order due to insufficient margin.\n",
      "  warnings.warn(\n",
      "/usr/share/miniconda/envs/test/lib/python3.10/site-packages/backtesting/backtesting.py:954: UserWarning: time=2547: Broker canceled the relative-sized order due to insufficient margin.\n",
      "  warnings.warn(\n"
     ]
    },
    {
     "name": "stderr",
     "output_type": "stream",
     "text": [
      "/usr/share/miniconda/envs/test/lib/python3.10/site-packages/backtesting/backtesting.py:954: UserWarning: time=3438: Broker canceled the relative-sized order due to insufficient margin.\n",
      "  warnings.warn(\n",
      "\r",
      "                                                       "
     ]
    },
    {
     "name": "stderr",
     "output_type": "stream",
     "text": [
      "\r"
     ]
    }
   ],
   "source": [
    "# Por cada TIcket\n",
    "my_stats = {}\n",
    "estadisticas = pd.DataFrame()          # lista para ticker\n",
    "tradesprev = pd.DataFrame()     # lista para cada caso por ticker\n",
    "for ticker in df_backTesting['companyName'].unique():\n",
    "    ticker_data = df_backTesting[df_backTesting['companyName'] == ticker].copy() #Filtro por cada ticker\n",
    "    bt = Backtest(ticker_data, strategyRupturaCanal, cash=10_000)\n",
    "    my_stats = bt.run()\n",
    "    listTrades = my_stats['_trades']\n",
    "    tradesdf = pd.DataFrame(listTrades) #trades\n",
    "    tradesdf['Ticker'] = ticker\n",
    "    stats_filter={\n",
    "        'Ticker':ticker,\n",
    "        'EntryTime':my_stats['Start'],\n",
    "        'ExitTime':my_stats['End'],\n",
    "        'Return [%]': my_stats['Return [%]'],\n",
    "        'CAGR [%]': my_stats['Return (Ann.) [%]'],\n",
    "        'Sharpe Ratio': my_stats['Sharpe Ratio'],\n",
    "        'Max. Drawdown [%]': my_stats['Max. Drawdown [%]'],\n",
    "        'Win Rate [%]': my_stats['Win Rate [%]'],\n",
    "        '# Trades': my_stats['# Trades'],\n",
    "        'Expectancy [%]': my_stats['Expectancy [%]'],\n",
    "        'Profit Factor': my_stats['Profit Factor'],\n",
    "        'Duration': my_stats['Duration'],\n",
    "        'Avg. Trade [%]':my_stats['Avg. Trade [%]'],\n",
    "        'Max. Trade Duration':my_stats['Max. Trade Duration'],\n",
    "        'Avg. Trade Duration':my_stats['Avg. Trade Duration']\n",
    "    }\n",
    "    stat=pd.DataFrame([stats_filter])\n",
    "    if tradesprev.shape[0]==0:\n",
    "        tradesprev = tradesdf.copy()\n",
    "        estadisticas=stat.copy()\n",
    "    else:\n",
    "        tradesprev = pd.concat([tradesprev, tradesdf],ignore_index=True)\n",
    "        estadisticas=pd.concat([estadisticas, stat],ignore_index=True)\n",
    "    # Mostramos\n",
    "    #bt.plot(resample=False, filename=f\"plot_BreakOUT_{ticker}\")"
   ]
  },
  {
   "cell_type": "code",
   "execution_count": 24,
   "id": "c374d670",
   "metadata": {
    "execution": {
     "iopub.execute_input": "2025-07-03T22:20:10.742497Z",
     "iopub.status.busy": "2025-07-03T22:20:10.742144Z",
     "iopub.status.idle": "2025-07-03T22:20:10.748391Z",
     "shell.execute_reply": "2025-07-03T22:20:10.747799Z"
    },
    "papermill": {
     "duration": 0.017543,
     "end_time": "2025-07-03T22:20:10.749200",
     "exception": false,
     "start_time": "2025-07-03T22:20:10.731657",
     "status": "completed"
    },
    "tags": []
   },
   "outputs": [],
   "source": [
    "ini = df_casos2[(df_casos2['isBreakOutIni']==1)].copy()\n",
    "df_casos3_ini=ini.rename(columns={'Open': 'EntryPrice', 'datetime': 'EntryTime', 'companyName': 'Ticker'})[['EntryPrice','Ticker','caso','EntryTime']]\n",
    "final = df_casos2[(df_casos2['isBreakOutFinal']==1)].copy()\n",
    "df_casos3_final=final.rename(columns={'Open': 'ExitPrice', 'datetime': 'ExitTime', 'companyName': 'Ticker'})[['ExitPrice','Ticker','caso','ExitTime']]"
   ]
  },
  {
   "cell_type": "code",
   "execution_count": 25,
   "id": "4a813a8c",
   "metadata": {
    "execution": {
     "iopub.execute_input": "2025-07-03T22:20:10.769998Z",
     "iopub.status.busy": "2025-07-03T22:20:10.769477Z",
     "iopub.status.idle": "2025-07-03T22:20:10.774653Z",
     "shell.execute_reply": "2025-07-03T22:20:10.774096Z"
    },
    "papermill": {
     "duration": 0.016334,
     "end_time": "2025-07-03T22:20:10.775522",
     "exception": false,
     "start_time": "2025-07-03T22:20:10.759188",
     "status": "completed"
    },
    "tags": []
   },
   "outputs": [],
   "source": [
    "df_casos3=df_casos3_ini.merge(df_casos3_final,on=['Ticker','caso'],how='outer')"
   ]
  },
  {
   "cell_type": "code",
   "execution_count": 26,
   "id": "5b271a24",
   "metadata": {
    "execution": {
     "iopub.execute_input": "2025-07-03T22:20:10.796340Z",
     "iopub.status.busy": "2025-07-03T22:20:10.795978Z",
     "iopub.status.idle": "2025-07-03T22:20:10.802039Z",
     "shell.execute_reply": "2025-07-03T22:20:10.801567Z"
    },
    "papermill": {
     "duration": 0.017334,
     "end_time": "2025-07-03T22:20:10.802889",
     "exception": false,
     "start_time": "2025-07-03T22:20:10.785555",
     "status": "completed"
    },
    "tags": []
   },
   "outputs": [],
   "source": [
    "trades = pd.merge(df_casos3, tradesprev, on = ['EntryTime','Ticker'], how='left')"
   ]
  },
  {
   "cell_type": "code",
   "execution_count": 27,
   "id": "9f43e99c",
   "metadata": {
    "execution": {
     "iopub.execute_input": "2025-07-03T22:20:10.824092Z",
     "iopub.status.busy": "2025-07-03T22:20:10.823441Z",
     "iopub.status.idle": "2025-07-03T22:20:10.837580Z",
     "shell.execute_reply": "2025-07-03T22:20:10.837158Z"
    },
    "papermill": {
     "duration": 0.02538,
     "end_time": "2025-07-03T22:20:10.838396",
     "exception": false,
     "start_time": "2025-07-03T22:20:10.813016",
     "status": "completed"
    },
    "tags": []
   },
   "outputs": [],
   "source": [
    "def exitPrice(x):\n",
    "    if pd.isna(x['ExitPrice_x']):\n",
    "        return x['ExitPrice_y']\n",
    "    else:\n",
    "        return x['ExitPrice_x']\n",
    "trades['ExitPrice'] = trades.apply(lambda row: exitPrice(row), axis=1)"
   ]
  },
  {
   "cell_type": "code",
   "execution_count": 28,
   "id": "97e6d3aa",
   "metadata": {
    "execution": {
     "iopub.execute_input": "2025-07-03T22:20:10.859455Z",
     "iopub.status.busy": "2025-07-03T22:20:10.859244Z",
     "iopub.status.idle": "2025-07-03T22:20:10.863672Z",
     "shell.execute_reply": "2025-07-03T22:20:10.863127Z"
    },
    "papermill": {
     "duration": 0.015917,
     "end_time": "2025-07-03T22:20:10.864587",
     "exception": false,
     "start_time": "2025-07-03T22:20:10.848670",
     "status": "completed"
    },
    "tags": []
   },
   "outputs": [],
   "source": [
    "trades = trades.rename(columns={'EntryPrice_x': 'EntryPrice'})\n",
    "trades = trades.drop(['EntryPrice_y','ExitPrice_x', 'ExitPrice_y'], axis=1)"
   ]
  },
  {
   "cell_type": "code",
   "execution_count": 29,
   "id": "461022de",
   "metadata": {
    "execution": {
     "iopub.execute_input": "2025-07-03T22:20:10.885523Z",
     "iopub.status.busy": "2025-07-03T22:20:10.885348Z",
     "iopub.status.idle": "2025-07-03T22:20:10.898303Z",
     "shell.execute_reply": "2025-07-03T22:20:10.897818Z"
    },
    "papermill": {
     "duration": 0.024286,
     "end_time": "2025-07-03T22:20:10.899100",
     "exception": false,
     "start_time": "2025-07-03T22:20:10.874814",
     "status": "completed"
    },
    "tags": []
   },
   "outputs": [],
   "source": [
    "def exitTime(x):\n",
    "    if pd.isna(x['ExitTime_x']):\n",
    "        return x['ExitTime_y']\n",
    "    else:\n",
    "        return x['ExitTime_x']\n",
    "trades['ExitTime'] = trades.apply(lambda row: exitTime(row), axis=1)"
   ]
  },
  {
   "cell_type": "code",
   "execution_count": 30,
   "id": "aba3043b",
   "metadata": {
    "execution": {
     "iopub.execute_input": "2025-07-03T22:20:10.920036Z",
     "iopub.status.busy": "2025-07-03T22:20:10.919822Z",
     "iopub.status.idle": "2025-07-03T22:20:10.935418Z",
     "shell.execute_reply": "2025-07-03T22:20:10.934945Z"
    },
    "papermill": {
     "duration": 0.026942,
     "end_time": "2025-07-03T22:20:10.936205",
     "exception": false,
     "start_time": "2025-07-03T22:20:10.909263",
     "status": "completed"
    },
    "tags": []
   },
   "outputs": [],
   "source": [
    "def duration(x):\n",
    "    if pd.isna(x['Duration']):\n",
    "        if pd.isna(x['ExitTime']):\n",
    "            return pd.NaT\n",
    "        else:\n",
    "            return x['ExitTime']-x['EntryTime']\n",
    "    else:\n",
    "        return x['Duration']\n",
    "trades['Duration'] = trades.apply(lambda row: duration(row), axis=1)"
   ]
  },
  {
   "cell_type": "code",
   "execution_count": 31,
   "id": "60ce27c6",
   "metadata": {
    "execution": {
     "iopub.execute_input": "2025-07-03T22:20:10.957003Z",
     "iopub.status.busy": "2025-07-03T22:20:10.956828Z",
     "iopub.status.idle": "2025-07-03T22:20:10.960150Z",
     "shell.execute_reply": "2025-07-03T22:20:10.959669Z"
    },
    "papermill": {
     "duration": 0.014547,
     "end_time": "2025-07-03T22:20:10.960893",
     "exception": false,
     "start_time": "2025-07-03T22:20:10.946346",
     "status": "completed"
    },
    "tags": []
   },
   "outputs": [],
   "source": [
    "trades = trades.drop(['ExitTime_x', 'ExitTime_y'], axis=1)"
   ]
  },
  {
   "cell_type": "code",
   "execution_count": 32,
   "id": "beb643c9",
   "metadata": {
    "execution": {
     "iopub.execute_input": "2025-07-03T22:20:10.998646Z",
     "iopub.status.busy": "2025-07-03T22:20:10.998224Z",
     "iopub.status.idle": "2025-07-03T22:20:11.001825Z",
     "shell.execute_reply": "2025-07-03T22:20:11.001375Z"
    },
    "papermill": {
     "duration": 0.015221,
     "end_time": "2025-07-03T22:20:11.002630",
     "exception": false,
     "start_time": "2025-07-03T22:20:10.987409",
     "status": "completed"
    },
    "tags": []
   },
   "outputs": [],
   "source": [
    "trades=trades[['Ticker','EntryTime','ExitTime','EntryPrice','ExitPrice','Duration','Size','EntryBar','ExitBar','ReturnPct','PnL','caso']]"
   ]
  },
  {
   "cell_type": "code",
   "execution_count": 33,
   "id": "c18ba116",
   "metadata": {
    "execution": {
     "iopub.execute_input": "2025-07-03T22:20:11.023602Z",
     "iopub.status.busy": "2025-07-03T22:20:11.023420Z",
     "iopub.status.idle": "2025-07-03T22:20:11.051853Z",
     "shell.execute_reply": "2025-07-03T22:20:11.051425Z"
    },
    "papermill": {
     "duration": 0.039791,
     "end_time": "2025-07-03T22:20:11.052690",
     "exception": false,
     "start_time": "2025-07-03T22:20:11.012899",
     "status": "completed"
    },
    "tags": []
   },
   "outputs": [],
   "source": [
    "for item in estadisticas['Ticker'].unique():\n",
    "    count = trades[trades[\"Ticker\"] == item].shape[0]\n",
    "    estadisticas.loc[estadisticas['Ticker'] == item, '# Trades'] = count"
   ]
  },
  {
   "cell_type": "code",
   "execution_count": 34,
   "id": "c4e1b3ee-116c-43f4-8127-8c0aba361ae0",
   "metadata": {
    "execution": {
     "iopub.execute_input": "2025-07-03T22:20:11.073885Z",
     "iopub.status.busy": "2025-07-03T22:20:11.073671Z",
     "iopub.status.idle": "2025-07-03T22:20:11.101484Z",
     "shell.execute_reply": "2025-07-03T22:20:11.101040Z"
    },
    "papermill": {
     "duration": 0.039181,
     "end_time": "2025-07-03T22:20:11.102266",
     "exception": false,
     "start_time": "2025-07-03T22:20:11.063085",
     "status": "completed"
    },
    "tags": []
   },
   "outputs": [],
   "source": [
    "#EXPORTACION DE DATAFRAME\n",
    "path = 'data/backtesting'\n",
    "\n",
    "# Asegurarse de que el directorio existe\n",
    "os.makedirs(path, exist_ok=True)\n",
    "\n",
    "path_trades = os.path.join(path, 'trades_cb.txt')\n",
    "path_estadisticas = os.path.join(path, 'estadisticas_cb.txt')\n",
    "\n",
    "for file_path in [path_trades, path_estadisticas]:\n",
    "    if os.path.exists(file_path):\n",
    "        os.remove(file_path)\n",
    "    else:\n",
    "        print(f\"File does not exist: {file_path}. It will be created.\")\n",
    "\n",
    "trades.to_csv(path_trades, header=True, index=False, sep='\\t', mode='w')\n",
    "estadisticas.to_csv(path_estadisticas, header=True, index=False, sep='\\t', mode='w')\n"
   ]
  }
 ],
 "metadata": {
  "kernelspec": {
   "display_name": "base",
   "language": "python",
   "name": "python3"
  },
  "language_info": {
   "codemirror_mode": {
    "name": "ipython",
    "version": 3
   },
   "file_extension": ".py",
   "mimetype": "text/x-python",
   "name": "python",
   "nbconvert_exporter": "python",
   "pygments_lexer": "ipython3",
   "version": "3.10.18"
  },
  "papermill": {
   "default_parameters": {},
   "duration": 19.660934,
   "end_time": "2025-07-03T22:20:11.529455",
   "environment_variables": {},
   "exception": null,
   "input_path": "BreakOut_IndicatorRT.ipynb",
   "output_path": "BreakOut_IndicatorRT_out.ipynb",
   "parameters": {},
   "start_time": "2025-07-03T22:19:51.868521",
   "version": "2.6.0"
  }
 },
 "nbformat": 4,
 "nbformat_minor": 5
}