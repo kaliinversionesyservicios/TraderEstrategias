{
 "cells": [
  {
   "cell_type": "markdown",
   "id": "4c1e400e-66ea-4231-b554-33216632364e",
   "metadata": {
    "papermill": {
     "duration": 0.002627,
     "end_time": "2025-06-26T11:46:11.294078",
     "exception": false,
     "start_time": "2025-06-26T11:46:11.291451",
     "status": "completed"
    },
    "tags": []
   },
   "source": [
    "### Descarga Realtime Alpha Vantage\n",
    "###### Descarga cada 10 minutos"
   ]
  },
  {
   "cell_type": "code",
   "execution_count": 1,
   "id": "a59056cd-968d-485d-84e7-d0777e5435ec",
   "metadata": {
    "execution": {
     "iopub.execute_input": "2025-06-26T11:46:11.298980Z",
     "iopub.status.busy": "2025-06-26T11:46:11.298705Z",
     "iopub.status.idle": "2025-06-26T11:46:11.531026Z",
     "shell.execute_reply": "2025-06-26T11:46:11.530390Z"
    },
    "papermill": {
     "duration": 0.236218,
     "end_time": "2025-06-26T11:46:11.532283",
     "exception": false,
     "start_time": "2025-06-26T11:46:11.296065",
     "status": "completed"
    },
    "tags": []
   },
   "outputs": [],
   "source": [
    "import pandas as pd\n",
    "import numpy as np\n",
    "import time\n",
    "#import matplotlib.pyplot as plt\n",
    "import os\n",
    "from datetime import date, datetime,timedelta\n",
    "#from dateutil.relativedelta import relativedelta"
   ]
  },
  {
   "cell_type": "code",
   "execution_count": 2,
   "id": "b213c3ad",
   "metadata": {
    "execution": {
     "iopub.execute_input": "2025-06-26T11:46:11.537193Z",
     "iopub.status.busy": "2025-06-26T11:46:11.536941Z",
     "iopub.status.idle": "2025-06-26T11:46:11.563492Z",
     "shell.execute_reply": "2025-06-26T11:46:11.562897Z"
    },
    "papermill": {
     "duration": 0.029891,
     "end_time": "2025-06-26T11:46:11.564408",
     "exception": false,
     "start_time": "2025-06-26T11:46:11.534517",
     "status": "completed"
    },
    "tags": []
   },
   "outputs": [
    {
     "name": "stdout",
     "output_type": "stream",
     "text": [
      "Archivo cargado correctamente.\n"
     ]
    }
   ],
   "source": [
    "# Verificar si el archivo existe\n",
    "ruta_archivo='data/dataxd.txt'\n",
    "if os.path.exists(ruta_archivo):\n",
    "    # Cargar el archivo\n",
    "    df1 = pd.read_csv(ruta_archivo, sep='\\t')\n",
    "    print(\"Archivo cargado correctamente.\")\n",
    "else:\n",
    "    # Crear un DataFrame vacío\n",
    "    df1 = pd.DataFrame()\n",
    "    print(\"Archivo no existe. Se creó un DataFrame vacío.\")"
   ]
  },
  {
   "cell_type": "code",
   "execution_count": 3,
   "id": "4377b8ac-a9ef-4fa4-88fc-48d9332e4a08",
   "metadata": {
    "execution": {
     "iopub.execute_input": "2025-06-26T11:46:11.568983Z",
     "iopub.status.busy": "2025-06-26T11:46:11.568802Z",
     "iopub.status.idle": "2025-06-26T11:46:11.654690Z",
     "shell.execute_reply": "2025-06-26T11:46:11.654091Z"
    },
    "papermill": {
     "duration": 0.089161,
     "end_time": "2025-06-26T11:46:11.655644",
     "exception": false,
     "start_time": "2025-06-26T11:46:11.566483",
     "status": "completed"
    },
    "tags": []
   },
   "outputs": [
    {
     "name": "stdout",
     "output_type": "stream",
     "text": [
      "Archivo cargado correctamente.\n"
     ]
    }
   ],
   "source": [
    "ruta_archivo='data/dataxh.txt'\n",
    "if os.path.exists(ruta_archivo):\n",
    "    # Cargar el archivo\n",
    "    df2 = pd.read_csv(ruta_archivo, sep='\\t')\n",
    "    print(\"Archivo cargado correctamente.\")\n",
    "else:\n",
    "    # Crear un DataFrame vacío\n",
    "    df2 = pd.DataFrame()\n",
    "    print(\"Archivo no existe. Se creó un DataFrame vacío.\")"
   ]
  },
  {
   "cell_type": "code",
   "execution_count": 4,
   "id": "5d91bdb7",
   "metadata": {
    "execution": {
     "iopub.execute_input": "2025-06-26T11:46:11.660709Z",
     "iopub.status.busy": "2025-06-26T11:46:11.660520Z",
     "iopub.status.idle": "2025-06-26T11:46:11.749216Z",
     "shell.execute_reply": "2025-06-26T11:46:11.748535Z"
    },
    "papermill": {
     "duration": 0.092102,
     "end_time": "2025-06-26T11:46:11.750157",
     "exception": false,
     "start_time": "2025-06-26T11:46:11.658055",
     "status": "completed"
    },
    "tags": []
   },
   "outputs": [],
   "source": [
    "df1['datetime'] = pd.to_datetime(df1['datetime'])\n",
    "df2['datetime'] = pd.to_datetime(df2['datetime'])"
   ]
  },
  {
   "cell_type": "code",
   "execution_count": 5,
   "id": "20f9d0f6",
   "metadata": {
    "execution": {
     "iopub.execute_input": "2025-06-26T11:46:11.755148Z",
     "iopub.status.busy": "2025-06-26T11:46:11.754921Z",
     "iopub.status.idle": "2025-06-26T11:46:11.758701Z",
     "shell.execute_reply": "2025-06-26T11:46:11.758244Z"
    },
    "papermill": {
     "duration": 0.007206,
     "end_time": "2025-06-26T11:46:11.759543",
     "exception": false,
     "start_time": "2025-06-26T11:46:11.752337",
     "status": "completed"
    },
    "tags": []
   },
   "outputs": [],
   "source": [
    "max_day1 = (df1['datetime'].max()).date()\n",
    "max_day2 = (df2['datetime'].max()).date()"
   ]
  },
  {
   "cell_type": "code",
   "execution_count": 6,
   "id": "5c70c3d5",
   "metadata": {
    "execution": {
     "iopub.execute_input": "2025-06-26T11:46:11.764389Z",
     "iopub.status.busy": "2025-06-26T11:46:11.764096Z",
     "iopub.status.idle": "2025-06-26T11:46:11.766979Z",
     "shell.execute_reply": "2025-06-26T11:46:11.766394Z"
    },
    "papermill": {
     "duration": 0.006243,
     "end_time": "2025-06-26T11:46:11.767893",
     "exception": false,
     "start_time": "2025-06-26T11:46:11.761650",
     "status": "completed"
    },
    "tags": []
   },
   "outputs": [],
   "source": [
    "max_day2 = max_day2 - timedelta(days=5) #para Realtime restar 5 dias"
   ]
  },
  {
   "cell_type": "code",
   "execution_count": 7,
   "id": "6c159857",
   "metadata": {
    "execution": {
     "iopub.execute_input": "2025-06-26T11:46:11.772552Z",
     "iopub.status.busy": "2025-06-26T11:46:11.772375Z",
     "iopub.status.idle": "2025-06-26T11:46:11.775986Z",
     "shell.execute_reply": "2025-06-26T11:46:11.775421Z"
    },
    "papermill": {
     "duration": 0.007014,
     "end_time": "2025-06-26T11:46:11.776856",
     "exception": false,
     "start_time": "2025-06-26T11:46:11.769842",
     "status": "completed"
    },
    "tags": []
   },
   "outputs": [],
   "source": [
    "#today = date.today()\n",
    "max_day_str2 = str(max_day2)\n",
    "max_day_str1 = str(max_day1)\n",
    "tickers = [\n",
    "    'SPY',\n",
    "    'META',\n",
    "    'AAPL',\n",
    "    'AMZN',\n",
    "    'NFLX',\n",
    "    'MRNA',\n",
    "    'TSLA',\n",
    "    'TNA',\n",
    "    'GLD',\n",
    "    'SLV',\n",
    "    'USO',\n",
    "    'BAC',\n",
    "    'CVX',\n",
    "    'XOM',\n",
    "    'QQQ',\n",
    "    'MSFT',\n",
    "    'NVDA',\n",
    "    'WMT',\n",
    "    'BA',\n",
    "    'DIS',\n",
    "    'CAT',\n",
    "    'IBM',\n",
    "    'WFC',\n",
    "    'PLTR',\n",
    "    'AMD',\n",
    "    'AVGO',\n",
    "    'HOOD',\n",
    "    'CRWV',\n",
    "    'MSTR',\n",
    "    'UNH',\n",
    "    'GOOG',\n",
    "    'APP',\n",
    "    'UBER'\n",
    "]"
   ]
  },
  {
   "cell_type": "code",
   "execution_count": 8,
   "id": "1193ed69",
   "metadata": {
    "execution": {
     "iopub.execute_input": "2025-06-26T11:46:11.781822Z",
     "iopub.status.busy": "2025-06-26T11:46:11.781444Z",
     "iopub.status.idle": "2025-06-26T11:46:23.944020Z",
     "shell.execute_reply": "2025-06-26T11:46:23.943453Z"
    },
    "papermill": {
     "duration": 12.166181,
     "end_time": "2025-06-26T11:46:23.945116",
     "exception": false,
     "start_time": "2025-06-26T11:46:11.778935",
     "status": "completed"
    },
    "tags": []
   },
   "outputs": [],
   "source": [
    "#INFORMACION DIAS\n",
    "df_new1 = pd.DataFrame()\n",
    "df_new1 = df1.copy()\n",
    "for ticker in tickers:\n",
    "    url1='https://www.alphavantage.co/query?function=TIME_SERIES_DAILY_ADJUSTED&symbol='+str(ticker)+'&entitlement=delayed&apikey=HR9C4MJVM7O4UUCM&datatype=csv'\n",
    "    company = pd.read_csv(url1, sep=',')\n",
    "    company=company.rename(columns={'timestamp':'datetime','open': 'Open', 'high': 'High', 'low': 'Low', 'close': 'Close', 'volume': 'Volume'})\n",
    "    company = company.drop(['adjusted_close','dividend_amount','split_coefficient'], axis=1)\n",
    "    company['companyName']=ticker\n",
    "    company = company[['Close', 'High', 'Low', 'Open', 'Volume', 'datetime', 'companyName']] #ordenar columnas\n",
    "    company['datetime'] = pd.to_datetime(company['datetime'])\n",
    "    company_lastday = company[company['datetime']>max_day_str1]\n",
    "    df_new1 = pd.concat([df_new1, company_lastday],ignore_index=True)"
   ]
  },
  {
   "cell_type": "code",
   "execution_count": 9,
   "id": "aca35012-6da3-4775-8beb-b59a5cc61ce4",
   "metadata": {
    "execution": {
     "iopub.execute_input": "2025-06-26T11:46:23.950543Z",
     "iopub.status.busy": "2025-06-26T11:46:23.950119Z",
     "iopub.status.idle": "2025-06-26T11:46:23.956580Z",
     "shell.execute_reply": "2025-06-26T11:46:23.956122Z"
    },
    "papermill": {
     "duration": 0.009891,
     "end_time": "2025-06-26T11:46:23.957367",
     "exception": false,
     "start_time": "2025-06-26T11:46:23.947476",
     "status": "completed"
    },
    "tags": []
   },
   "outputs": [],
   "source": [
    "#Funcion limpiar OUTLIERS\n",
    "def df_limpiar(df_eval):\n",
    "    #dataframe para obtener medias sin incluir fecha actual\n",
    "    df_eval2 = df_eval[df_eval['datetime']<max_day_str2].tail(100)\n",
    "    \n",
    "    meandif1 = df_eval2['dif1'].mean()\n",
    "    stddif1 = df_eval2['dif1'].std()\n",
    "    topdif1 = meandif1 + stddif1 * 1.96\n",
    "\n",
    "    meandif2 = df_eval2['dif2'].mean()\n",
    "    stddif2 = df_eval2['dif2'].std()\n",
    "    topdif2 = meandif2 + stddif2 * 1.96\n",
    "    \n",
    "    #botdif = meandif - stddif * 3\n",
    "    copydf = df_eval.copy()\n",
    "    \n",
    "    #df_h.apply(lambda row: row['High'] - row['Close'] if row['Close'] > row['Open'] else row['High'] - row['Open'], axis=1)\n",
    "    copydf['ind1'] = copydf.apply(lambda row: 1 if row['dif1'] > topdif1 else 0, axis=1)\n",
    "    copydf['ind2'] = copydf.apply(lambda row: 1 if row['dif2'] > topdif2 else 0, axis=1)\n",
    "\n",
    "    #hoy = datetime.now()    \n",
    "    #mes_actual = hoy.replace(day=1)\n",
    "    #mes_fin = mes_actual - relativedelta(months=3)\n",
    "    #hace_12_meses = mes_actual - relativedelta(months=12)\n",
    "    #cuartil 3\n",
    "    q3_dif1 = copydf[copydf['ind1']!=1]['dif1'].quantile(0.75)\n",
    "    q3_dif2 = copydf[copydf['ind2']!=1]['dif2'].quantile(0.75)\n",
    "    \n",
    "    #meanfin1 = copydf[(copydf['ind1']==1) & (copydf['datetime'] >= hace_12_meses) & (copydf['datetime'] < mes_fin)]['dif1'].mean()\n",
    "    #meanfin2 = copydf[(copydf['ind2']==1) & (copydf['datetime'] >= hace_12_meses) & (copydf['datetime'] < mes_fin)]['dif2'].mean()\n",
    "\n",
    "    print(\"q3_dif1:\",q3_dif1)\n",
    "    print(\"q3_dif2:\",q3_dif2)\n",
    "\n",
    "    copydf['High2']=copydf.apply(\n",
    "        lambda row: row['Close'] + q3_dif1 if (row['Close'] > row['Open']) & (row['ind1']==1) & (row['eval']==0)  else \n",
    "        row['Open'] + q3_dif1 if (row['Close'] <= row['Open']) & (row['ind1']==1) & (row['eval']==0) else\n",
    "        row['High'], axis=1)\n",
    "    copydf['Low2']=copydf.apply(\n",
    "        lambda row: row['Open'] - q3_dif2 if (row['Close'] > row['Open']) & (row['ind2']==1) & (row['eval']==0) else \n",
    "        row['Close'] - q3_dif2 if (row['Close'] <= row['Open']) & (row['ind2']==1) & (row['eval']==0) else\n",
    "        row['Low'], axis=1)\n",
    "   \n",
    "    #copydf = copydf.drop(copydf[copydf['dif1'] > topdif1].index)\n",
    "    #copydf = copydf.drop(copydf[copydf['dif2'] > topdif2].index)\n",
    "    return copydf"
   ]
  },
  {
   "cell_type": "code",
   "execution_count": 10,
   "id": "45de6ea8",
   "metadata": {
    "execution": {
     "iopub.execute_input": "2025-06-26T11:46:23.962148Z",
     "iopub.status.busy": "2025-06-26T11:46:23.961962Z",
     "iopub.status.idle": "2025-06-26T11:46:40.693891Z",
     "shell.execute_reply": "2025-06-26T11:46:40.693288Z"
    },
    "papermill": {
     "duration": 16.735514,
     "end_time": "2025-06-26T11:46:40.694875",
     "exception": false,
     "start_time": "2025-06-26T11:46:23.959361",
     "status": "completed"
    },
    "tags": []
   },
   "outputs": [
    {
     "name": "stdout",
     "output_type": "stream",
     "text": [
      "q3_dif1: 0.5\n",
      "q3_dif2: 0.625\n"
     ]
    },
    {
     "name": "stdout",
     "output_type": "stream",
     "text": [
      "q3_dif1: 1.29998779296875\n",
      "q3_dif2: 1.3699987792968784\n"
     ]
    },
    {
     "name": "stdout",
     "output_type": "stream",
     "text": [
      "q3_dif1: 0.404998779296875\n",
      "q3_dif2: 0.3899993896484375\n"
     ]
    },
    {
     "name": "stdout",
     "output_type": "stream",
     "text": [
      "q3_dif1: 0.415008544921875\n",
      "q3_dif2: 0.44000244140616473\n"
     ]
    },
    {
     "name": "stdout",
     "output_type": "stream",
     "text": [
      "q3_dif1: 1.7400360107421875\n",
      "q3_dif2: 1.7100143432617188\n"
     ]
    },
    {
     "name": "stdout",
     "output_type": "stream",
     "text": [
      "q3_dif1: 0.23999786376951704\n",
      "q3_dif2: 0.19000244140625\n"
     ]
    },
    {
     "name": "stdout",
     "output_type": "stream",
     "text": [
      "q3_dif1: 1.1357879638671875\n",
      "q3_dif2: 1.2000122070312358\n"
     ]
    },
    {
     "name": "stdout",
     "output_type": "stream",
     "text": [
      "q3_dif1: 0.14500045776367188\n",
      "q3_dif2: 0.1699981689453054\n"
     ]
    },
    {
     "name": "stdout",
     "output_type": "stream",
     "text": [
      "q3_dif1: 0.2050018310546875\n",
      "q3_dif2: 0.2255020141602131\n"
     ]
    },
    {
     "name": "stdout",
     "output_type": "stream",
     "text": [
      "q3_dif1: 0.039199829101560724\n",
      "q3_dif2: 0.04999923706054332\n"
     ]
    },
    {
     "name": "stdout",
     "output_type": "stream",
     "text": [
      "q3_dif1: 0.15999603271484375\n",
      "q3_dif2: 0.16500091552734375\n"
     ]
    },
    {
     "name": "stdout",
     "output_type": "stream",
     "text": [
      "q3_dif1: 0.07000350952148438\n",
      "q3_dif2: 0.06999969482421875\n"
     ]
    },
    {
     "name": "stdout",
     "output_type": "stream",
     "text": [
      "q3_dif1: 0.2646942138671875\n",
      "q3_dif2: 0.279998779296875\n"
     ]
    },
    {
     "name": "stdout",
     "output_type": "stream",
     "text": [
      "q3_dif1: 0.20000457763670454\n",
      "q3_dif2: 0.214372634887674\n"
     ]
    },
    {
     "name": "stdout",
     "output_type": "stream",
     "text": [
      "q3_dif1: 0.590019226074233\n",
      "q3_dif2: 0.7300109863280966\n"
     ]
    },
    {
     "name": "stdout",
     "output_type": "stream",
     "text": [
      "q3_dif1: 0.7086791992187216\n",
      "q3_dif2: 0.764984130859375\n"
     ]
    },
    {
     "name": "stdout",
     "output_type": "stream",
     "text": [
      "q3_dif1: 0.3025016784668004\n",
      "q3_dif2: 0.38605117797852273\n"
     ]
    },
    {
     "name": "stdout",
     "output_type": "stream",
     "text": [
      "q3_dif1: 0.1166687011718679\n",
      "q3_dif2: 0.11999893188476562\n"
     ]
    },
    {
     "name": "stdout",
     "output_type": "stream",
     "text": [
      "q3_dif1: 0.5235786437988139\n",
      "q3_dif2: 0.4799041748046875\n"
     ]
    },
    {
     "name": "stdout",
     "output_type": "stream",
     "text": [
      "q3_dif1: 0.18000030517578125\n",
      "q3_dif2: 0.1750030517578125\n"
     ]
    },
    {
     "name": "stdout",
     "output_type": "stream",
     "text": [
      "q3_dif1: 0.614990234375\n",
      "q3_dif2: 0.67999267578125\n"
     ]
    },
    {
     "name": "stdout",
     "output_type": "stream",
     "text": [
      "q3_dif1: 0.339996337890625\n",
      "q3_dif2: 0.3634033203125\n"
     ]
    },
    {
     "name": "stdout",
     "output_type": "stream",
     "text": [
      "q3_dif1: 0.125\n",
      "q3_dif2: 0.12999862670898565\n"
     ]
    },
    {
     "name": "stdout",
     "output_type": "stream",
     "text": [
      "q3_dif1: 0.20000076293945312\n",
      "q3_dif2: 0.21000480651854758\n"
     ]
    },
    {
     "name": "stdout",
     "output_type": "stream",
     "text": [
      "q3_dif1: 0.410003662109375\n",
      "q3_dif2: 0.4411468505859375\n"
     ]
    },
    {
     "name": "stdout",
     "output_type": "stream",
     "text": [
      "q3_dif1: 0.5250053405761719\n",
      "q3_dif2: 0.5420341491699219\n"
     ]
    },
    {
     "name": "stdout",
     "output_type": "stream",
     "text": [
      "q3_dif1: 0.13979721069335227\n",
      "q3_dif2: 0.1406254768371582\n"
     ]
    },
    {
     "name": "stdout",
     "output_type": "stream",
     "text": [
      "q3_dif1: 1.0756258964538574\n",
      "q3_dif2: 1.0549507141113281\n"
     ]
    },
    {
     "name": "stdout",
     "output_type": "stream",
     "text": [
      "q3_dif1: 1.1957435607910156\n",
      "q3_dif2: 1.2054061889648438\n"
     ]
    },
    {
     "name": "stdout",
     "output_type": "stream",
     "text": [
      "q3_dif1: 0.9517974853515199\n",
      "q3_dif2: 0.8946380615234091\n"
     ]
    },
    {
     "name": "stdout",
     "output_type": "stream",
     "text": [
      "q3_dif1: 0.3300018310546875\n",
      "q3_dif2: 0.36006927490235796\n"
     ]
    },
    {
     "name": "stdout",
     "output_type": "stream",
     "text": [
      "q3_dif1: 0.6898956298828125\n",
      "q3_dif2: 0.7299957275390625\n"
     ]
    },
    {
     "name": "stdout",
     "output_type": "stream",
     "text": [
      "q3_dif1: 0.20499420166015625\n",
      "q3_dif2: 0.20000457763671875\n"
     ]
    }
   ],
   "source": [
    "df_new2 = pd.DataFrame()\n",
    "for ticker in tickers:\n",
    "    #Informacion anterior por ticker\n",
    "    df_ticker = df2[(df2['datetime'] <  max_day_str2) & (df2['companyName']==ticker)]\n",
    "    df_ticker = df_ticker.reset_index(drop=True)\n",
    "    df_ticker['datetime'] = pd.to_datetime(df_ticker['datetime'])\n",
    "    #crear columnas de diferencia\n",
    "    df_ticker['dif1'] = df_ticker.apply(lambda row: row['High'] - row['Close'] if row['Close'] > row['Open'] else row['High'] - row['Open'], axis=1)\n",
    "    df_ticker['dif2'] = df_ticker.apply(lambda row: row['Open'] - row['Low'] if row['Close'] > row['Open'] else row['Close'] - row['Low'], axis=1)\n",
    "    df_ticker['eval'] = 1 #no se limpiara\n",
    "    #Aplha vantage descarga intraday\n",
    "    url='https://www.alphavantage.co/query?function=TIME_SERIES_INTRADAY&symbol=' + str(ticker)+ '&interval=60min&entitlement=delayed&apikey=HR9C4MJVM7O4UUCM&datatype=csv'\n",
    "    company = pd.read_csv(url, sep=',')         \n",
    "    company = company[['close','high','low','open','volume','timestamp']]\n",
    "    company=company.rename(columns={\"open\": \"Open\",\"high\": \"High\",\"low\": \"Low\",\"close\": \"Close\",\"volume\": \"Volume\",\"timestamp\": \"datetime\"})        \n",
    "    company['companyName']=ticker\n",
    "    company['datetime'] = pd.to_datetime(company['datetime'])\n",
    "    company['datetime'] = company['datetime'].dt.tz_localize('UTC')\n",
    "    #company['datetime'] = company['datetime'].dt.tz_localize('US/Eastern')\n",
    "    company_lastday = company[company['datetime']>=max_day_str2]\n",
    "    company_lastday = company_lastday.sort_values(by=['datetime'], ascending=[True])\n",
    "    \n",
    "    #crear columnas diferencia de las colas (se evaluara el ultimo dia)\n",
    "    company_lastday['dif1'] = company_lastday.apply(lambda row: row['High'] - row['Close'] if row['Close'] > row['Open'] else row['High'] - row['Open'], axis=1)\n",
    "    company_lastday['dif2'] = company_lastday.apply(lambda row: row['Open'] - row['Low'] if row['Close'] > row['Open'] else row['Close'] - row['Low'], axis=1)\n",
    "    company_lastday['eval'] = 0 # se limpiara    \n",
    "    df_ticker = pd.concat([df_ticker, company_lastday],ignore_index=True)    \n",
    "    company_final = df_limpiar(df_ticker)    \n",
    "    df_new2 = pd.concat([df_new2, company_final],ignore_index=True)"
   ]
  },
  {
   "cell_type": "code",
   "execution_count": 11,
   "id": "58ab14cb",
   "metadata": {
    "execution": {
     "iopub.execute_input": "2025-06-26T11:46:40.702591Z",
     "iopub.status.busy": "2025-06-26T11:46:40.702415Z",
     "iopub.status.idle": "2025-06-26T11:46:40.706871Z",
     "shell.execute_reply": "2025-06-26T11:46:40.706438Z"
    },
    "papermill": {
     "duration": 0.0092,
     "end_time": "2025-06-26T11:46:40.707733",
     "exception": false,
     "start_time": "2025-06-26T11:46:40.698533",
     "status": "completed"
    },
    "tags": []
   },
   "outputs": [],
   "source": [
    "df_new2['High'] = np.where(df_new2['eval'] == 0, df_new2['High2'], df_new2['High'])\n",
    "df_new2['Low'] = np.where(df_new2['eval'] == 0, df_new2['Low2'], df_new2['Low'])"
   ]
  },
  {
   "cell_type": "code",
   "execution_count": 12,
   "id": "c615c99e",
   "metadata": {
    "execution": {
     "iopub.execute_input": "2025-06-26T11:46:40.714711Z",
     "iopub.status.busy": "2025-06-26T11:46:40.714553Z",
     "iopub.status.idle": "2025-06-26T11:46:40.719742Z",
     "shell.execute_reply": "2025-06-26T11:46:40.719200Z"
    },
    "papermill": {
     "duration": 0.00968,
     "end_time": "2025-06-26T11:46:40.720652",
     "exception": false,
     "start_time": "2025-06-26T11:46:40.710972",
     "status": "completed"
    },
    "tags": []
   },
   "outputs": [],
   "source": [
    "df_new2 = df_new2.drop(columns=['dif1', 'dif2', 'eval', 'ind1', 'ind2', 'High2','Low2' ])"
   ]
  },
  {
   "cell_type": "code",
   "execution_count": 13,
   "id": "a26f0e91-cf20-463d-905e-7d63bfcbf0b0",
   "metadata": {
    "execution": {
     "iopub.execute_input": "2025-06-26T11:46:40.727722Z",
     "iopub.status.busy": "2025-06-26T11:46:40.727561Z",
     "iopub.status.idle": "2025-06-26T11:46:40.863247Z",
     "shell.execute_reply": "2025-06-26T11:46:40.862686Z"
    },
    "papermill": {
     "duration": 0.140461,
     "end_time": "2025-06-26T11:46:40.864377",
     "exception": false,
     "start_time": "2025-06-26T11:46:40.723916",
     "status": "completed"
    },
    "tags": []
   },
   "outputs": [],
   "source": [
    "#descarga de informacion, estrategia: RUPTURA DEL CANAL BAJISTA\n",
    "path='data/dataxd.txt'\n",
    "folder=os.path.dirname(path)\n",
    "\n",
    "if not os.path.exists(folder):\n",
    "    os.makedirs(folder)\n",
    "\n",
    "if os.path.exists(path):\n",
    "    # delete the file\n",
    "    os.remove(path)\n",
    "else:\n",
    "    # if the file does not exist.\n",
    "    print(\"File does not exists. File needs to be created.\")\n",
    "\n",
    "#export DataFrame to text file\n",
    "with open(path, 'a') as f:\n",
    "    #df_string = appl_hor3.to_string(header=True, index=False, sep ='\\t')\n",
    "    df_new1.to_csv(path, header=True, index=None, sep='\\t', mode='w')\n",
    "    #f.write(df_string)"
   ]
  },
  {
   "cell_type": "code",
   "execution_count": 14,
   "id": "9adc5089",
   "metadata": {
    "execution": {
     "iopub.execute_input": "2025-06-26T11:46:40.872035Z",
     "iopub.status.busy": "2025-06-26T11:46:40.871821Z",
     "iopub.status.idle": "2025-06-26T11:46:41.785930Z",
     "shell.execute_reply": "2025-06-26T11:46:41.785348Z"
    },
    "papermill": {
     "duration": 0.919065,
     "end_time": "2025-06-26T11:46:41.787065",
     "exception": false,
     "start_time": "2025-06-26T11:46:40.868000",
     "status": "completed"
    },
    "tags": []
   },
   "outputs": [],
   "source": [
    "#descarga de informacion\n",
    "path='data/dataxh.txt'\n",
    "# check whether the file exists\n",
    "if os.path.exists(path):\n",
    "    # delete the file\n",
    "    os.remove(path)\n",
    "else:\n",
    "    # if the file does not exist.\n",
    "    print(\"File does not exists. File needs to be created.\")\n",
    "\n",
    "#export DataFrame to text file\n",
    "with open(path, 'a') as f:\n",
    "    #df_string = appl_hor3.to_string(header=True, index=False, sep ='\\t')\n",
    "    df_new2.to_csv(path, header=True, index=None, sep='\\t', mode='w')\n",
    "    #f.write(df_string)"
   ]
  }
 ],
 "metadata": {
  "kernelspec": {
   "display_name": "Python [conda env:base] *",
   "language": "python",
   "name": "conda-base-py"
  },
  "language_info": {
   "codemirror_mode": {
    "name": "ipython",
    "version": 3
   },
   "file_extension": ".py",
   "mimetype": "text/x-python",
   "name": "python",
   "nbconvert_exporter": "python",
   "pygments_lexer": "ipython3",
   "version": "3.10.18"
  },
  "papermill": {
   "default_parameters": {},
   "duration": 31.65303,
   "end_time": "2025-06-26T11:46:42.005547",
   "environment_variables": {},
   "exception": null,
   "input_path": "downLoadDataRealtimeAlpha.ipynb",
   "output_path": "downLoadDataRealtimeAlpha.ipynb_out.ipynb",
   "parameters": {},
   "start_time": "2025-06-26T11:46:10.352517",
   "version": "2.6.0"
  }
 },
 "nbformat": 4,
 "nbformat_minor": 5
}