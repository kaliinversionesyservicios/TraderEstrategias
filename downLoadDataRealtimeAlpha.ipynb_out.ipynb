{
 "cells": [
  {
   "cell_type": "markdown",
   "id": "4c1e400e-66ea-4231-b554-33216632364e",
   "metadata": {
    "papermill": {
     "duration": 0.0023,
     "end_time": "2025-07-03T15:46:02.991073",
     "exception": false,
     "start_time": "2025-07-03T15:46:02.988773",
     "status": "completed"
    },
    "tags": []
   },
   "source": [
    "### Descarga Realtime Alpha Vantage\n",
    "###### Descarga cada 10 minutos"
   ]
  },
  {
   "cell_type": "code",
   "execution_count": 1,
   "id": "a59056cd-968d-485d-84e7-d0777e5435ec",
   "metadata": {
    "execution": {
     "iopub.execute_input": "2025-07-03T15:46:02.996250Z",
     "iopub.status.busy": "2025-07-03T15:46:02.995676Z",
     "iopub.status.idle": "2025-07-03T15:46:03.230705Z",
     "shell.execute_reply": "2025-07-03T15:46:03.230184Z"
    },
    "papermill": {
     "duration": 0.238818,
     "end_time": "2025-07-03T15:46:03.231875",
     "exception": false,
     "start_time": "2025-07-03T15:46:02.993057",
     "status": "completed"
    },
    "tags": []
   },
   "outputs": [],
   "source": [
    "import pandas as pd\n",
    "import numpy as np\n",
    "import time\n",
    "#import matplotlib.pyplot as plt\n",
    "import os\n",
    "from datetime import date, datetime,timedelta\n",
    "#from dateutil.relativedelta import relativedelta"
   ]
  },
  {
   "cell_type": "code",
   "execution_count": 2,
   "id": "b213c3ad",
   "metadata": {
    "execution": {
     "iopub.execute_input": "2025-07-03T15:46:03.236823Z",
     "iopub.status.busy": "2025-07-03T15:46:03.236567Z",
     "iopub.status.idle": "2025-07-03T15:46:03.261994Z",
     "shell.execute_reply": "2025-07-03T15:46:03.261410Z"
    },
    "papermill": {
     "duration": 0.028983,
     "end_time": "2025-07-03T15:46:03.262980",
     "exception": false,
     "start_time": "2025-07-03T15:46:03.233997",
     "status": "completed"
    },
    "tags": []
   },
   "outputs": [
    {
     "name": "stdout",
     "output_type": "stream",
     "text": [
      "Archivo cargado correctamente.\n"
     ]
    }
   ],
   "source": [
    "# Verificar si el archivo existe\n",
    "ruta_archivo='data/dataxd.txt'\n",
    "if os.path.exists(ruta_archivo):\n",
    "    # Cargar el archivo\n",
    "    df1 = pd.read_csv(ruta_archivo, sep='\\t')\n",
    "    print(\"Archivo cargado correctamente.\")\n",
    "else:\n",
    "    # Crear un DataFrame vacío\n",
    "    df1 = pd.DataFrame()\n",
    "    print(\"Archivo no existe. Se creó un DataFrame vacío.\")"
   ]
  },
  {
   "cell_type": "code",
   "execution_count": 3,
   "id": "4377b8ac-a9ef-4fa4-88fc-48d9332e4a08",
   "metadata": {
    "execution": {
     "iopub.execute_input": "2025-07-03T15:46:03.267730Z",
     "iopub.status.busy": "2025-07-03T15:46:03.267531Z",
     "iopub.status.idle": "2025-07-03T15:46:03.352012Z",
     "shell.execute_reply": "2025-07-03T15:46:03.351443Z"
    },
    "papermill": {
     "duration": 0.0878,
     "end_time": "2025-07-03T15:46:03.352884",
     "exception": false,
     "start_time": "2025-07-03T15:46:03.265084",
     "status": "completed"
    },
    "tags": []
   },
   "outputs": [
    {
     "name": "stdout",
     "output_type": "stream",
     "text": [
      "Archivo cargado correctamente.\n"
     ]
    }
   ],
   "source": [
    "ruta_archivo='data/dataxh.txt'\n",
    "if os.path.exists(ruta_archivo):\n",
    "    # Cargar el archivo\n",
    "    df2 = pd.read_csv(ruta_archivo, sep='\\t')\n",
    "    print(\"Archivo cargado correctamente.\")\n",
    "else:\n",
    "    # Crear un DataFrame vacío\n",
    "    df2 = pd.DataFrame()\n",
    "    print(\"Archivo no existe. Se creó un DataFrame vacío.\")"
   ]
  },
  {
   "cell_type": "code",
   "execution_count": 4,
   "id": "5d91bdb7",
   "metadata": {
    "execution": {
     "iopub.execute_input": "2025-07-03T15:46:03.358239Z",
     "iopub.status.busy": "2025-07-03T15:46:03.357697Z",
     "iopub.status.idle": "2025-07-03T15:46:03.447407Z",
     "shell.execute_reply": "2025-07-03T15:46:03.446721Z"
    },
    "papermill": {
     "duration": 0.093444,
     "end_time": "2025-07-03T15:46:03.448621",
     "exception": false,
     "start_time": "2025-07-03T15:46:03.355177",
     "status": "completed"
    },
    "tags": []
   },
   "outputs": [],
   "source": [
    "df1['datetime'] = pd.to_datetime(df1['datetime'])\n",
    "df2['datetime'] = pd.to_datetime(df2['datetime'])"
   ]
  },
  {
   "cell_type": "code",
   "execution_count": 5,
   "id": "20f9d0f6",
   "metadata": {
    "execution": {
     "iopub.execute_input": "2025-07-03T15:46:03.453798Z",
     "iopub.status.busy": "2025-07-03T15:46:03.453323Z",
     "iopub.status.idle": "2025-07-03T15:46:03.456962Z",
     "shell.execute_reply": "2025-07-03T15:46:03.456511Z"
    },
    "papermill": {
     "duration": 0.006999,
     "end_time": "2025-07-03T15:46:03.457771",
     "exception": false,
     "start_time": "2025-07-03T15:46:03.450772",
     "status": "completed"
    },
    "tags": []
   },
   "outputs": [],
   "source": [
    "max_day1 = (df1['datetime'].max()).date()\n",
    "max_day2 = (df2['datetime'].max()).date()"
   ]
  },
  {
   "cell_type": "code",
   "execution_count": 6,
   "id": "5c70c3d5",
   "metadata": {
    "execution": {
     "iopub.execute_input": "2025-07-03T15:46:03.462618Z",
     "iopub.status.busy": "2025-07-03T15:46:03.462439Z",
     "iopub.status.idle": "2025-07-03T15:46:03.465265Z",
     "shell.execute_reply": "2025-07-03T15:46:03.464782Z"
    },
    "papermill": {
     "duration": 0.006139,
     "end_time": "2025-07-03T15:46:03.466094",
     "exception": false,
     "start_time": "2025-07-03T15:46:03.459955",
     "status": "completed"
    },
    "tags": []
   },
   "outputs": [],
   "source": [
    "max_day2 = max_day2 - timedelta(days=5) #para Realtime restar 5 dias"
   ]
  },
  {
   "cell_type": "code",
   "execution_count": 7,
   "id": "6c159857",
   "metadata": {
    "execution": {
     "iopub.execute_input": "2025-07-03T15:46:03.470683Z",
     "iopub.status.busy": "2025-07-03T15:46:03.470507Z",
     "iopub.status.idle": "2025-07-03T15:46:03.474249Z",
     "shell.execute_reply": "2025-07-03T15:46:03.473648Z"
    },
    "papermill": {
     "duration": 0.007089,
     "end_time": "2025-07-03T15:46:03.475165",
     "exception": false,
     "start_time": "2025-07-03T15:46:03.468076",
     "status": "completed"
    },
    "tags": []
   },
   "outputs": [],
   "source": [
    "#today = date.today()\n",
    "max_day_str2 = str(max_day2)\n",
    "max_day_str1 = str(max_day1)\n",
    "tickers = [\n",
    "    'SPY',\n",
    "    'META',\n",
    "    'AAPL',\n",
    "    'AMZN',\n",
    "    'NFLX',\n",
    "    'MRNA',\n",
    "    'TSLA',\n",
    "    'TNA',\n",
    "    'GLD',\n",
    "    'SLV',\n",
    "    'USO',\n",
    "    'BAC',\n",
    "    'CVX',\n",
    "    'XOM',\n",
    "    'QQQ',\n",
    "    'MSFT',\n",
    "    'NVDA',\n",
    "    'WMT',\n",
    "    'BA',\n",
    "    'DIS',\n",
    "    'CAT',\n",
    "    'IBM',\n",
    "    'WFC',\n",
    "    'PLTR',\n",
    "    'AMD',\n",
    "    'AVGO',\n",
    "    'HOOD',\n",
    "    'CRWV',\n",
    "    'MSTR',\n",
    "    'UNH',\n",
    "    'GOOG',\n",
    "    'APP',\n",
    "    'UBER'\n",
    "]"
   ]
  },
  {
   "cell_type": "code",
   "execution_count": 8,
   "id": "1193ed69",
   "metadata": {
    "execution": {
     "iopub.execute_input": "2025-07-03T15:46:03.479977Z",
     "iopub.status.busy": "2025-07-03T15:46:03.479777Z",
     "iopub.status.idle": "2025-07-03T15:46:15.127509Z",
     "shell.execute_reply": "2025-07-03T15:46:15.126918Z"
    },
    "papermill": {
     "duration": 11.651458,
     "end_time": "2025-07-03T15:46:15.128716",
     "exception": false,
     "start_time": "2025-07-03T15:46:03.477258",
     "status": "completed"
    },
    "tags": []
   },
   "outputs": [],
   "source": [
    "#INFORMACION DIAS\n",
    "df_new1 = pd.DataFrame()\n",
    "df_new1 = df1.copy()\n",
    "for ticker in tickers:\n",
    "    url1='https://www.alphavantage.co/query?function=TIME_SERIES_DAILY_ADJUSTED&symbol='+str(ticker)+'&entitlement=delayed&apikey=HR9C4MJVM7O4UUCM&datatype=csv'\n",
    "    company = pd.read_csv(url1, sep=',')\n",
    "    company=company.rename(columns={'timestamp':'datetime','open': 'Open', 'high': 'High', 'low': 'Low', 'close': 'Close', 'volume': 'Volume'})\n",
    "    company = company.drop(['adjusted_close','dividend_amount','split_coefficient'], axis=1)\n",
    "    company['companyName']=ticker\n",
    "    company = company[['Close', 'High', 'Low', 'Open', 'Volume', 'datetime', 'companyName']] #ordenar columnas\n",
    "    company['datetime'] = pd.to_datetime(company['datetime'])\n",
    "    company_lastday = company[company['datetime']>max_day_str1]\n",
    "    df_new1 = pd.concat([df_new1, company_lastday],ignore_index=True)"
   ]
  },
  {
   "cell_type": "code",
   "execution_count": 9,
   "id": "aca35012-6da3-4775-8beb-b59a5cc61ce4",
   "metadata": {
    "execution": {
     "iopub.execute_input": "2025-07-03T15:46:15.134612Z",
     "iopub.status.busy": "2025-07-03T15:46:15.134121Z",
     "iopub.status.idle": "2025-07-03T15:46:15.140875Z",
     "shell.execute_reply": "2025-07-03T15:46:15.140305Z"
    },
    "papermill": {
     "duration": 0.010699,
     "end_time": "2025-07-03T15:46:15.141777",
     "exception": false,
     "start_time": "2025-07-03T15:46:15.131078",
     "status": "completed"
    },
    "tags": []
   },
   "outputs": [],
   "source": [
    "#Funcion limpiar OUTLIERS\n",
    "def df_limpiar(df_eval):\n",
    "    #dataframe para obtener medias sin incluir fecha actual\n",
    "    df_eval2 = df_eval[df_eval['datetime']<max_day_str2].tail(100)\n",
    "    \n",
    "    meandif1 = df_eval2['dif1'].mean()\n",
    "    stddif1 = df_eval2['dif1'].std()\n",
    "    topdif1 = meandif1 + stddif1 * 1.96\n",
    "\n",
    "    meandif2 = df_eval2['dif2'].mean()\n",
    "    stddif2 = df_eval2['dif2'].std()\n",
    "    topdif2 = meandif2 + stddif2 * 1.96\n",
    "    \n",
    "    #botdif = meandif - stddif * 3\n",
    "    copydf = df_eval.copy()\n",
    "    \n",
    "    #df_h.apply(lambda row: row['High'] - row['Close'] if row['Close'] > row['Open'] else row['High'] - row['Open'], axis=1)\n",
    "    copydf['ind1'] = copydf.apply(lambda row: 1 if row['dif1'] > topdif1 else 0, axis=1)\n",
    "    copydf['ind2'] = copydf.apply(lambda row: 1 if row['dif2'] > topdif2 else 0, axis=1)\n",
    "\n",
    "    #hoy = datetime.now()    \n",
    "    #mes_actual = hoy.replace(day=1)\n",
    "    #mes_fin = mes_actual - relativedelta(months=3)\n",
    "    #hace_12_meses = mes_actual - relativedelta(months=12)\n",
    "    #cuartil 3\n",
    "    q3_dif1 = copydf[copydf['ind1']!=1]['dif1'].quantile(0.75)\n",
    "    q3_dif2 = copydf[copydf['ind2']!=1]['dif2'].quantile(0.75)\n",
    "    \n",
    "    #meanfin1 = copydf[(copydf['ind1']==1) & (copydf['datetime'] >= hace_12_meses) & (copydf['datetime'] < mes_fin)]['dif1'].mean()\n",
    "    #meanfin2 = copydf[(copydf['ind2']==1) & (copydf['datetime'] >= hace_12_meses) & (copydf['datetime'] < mes_fin)]['dif2'].mean()\n",
    "\n",
    "    print(\"q3_dif1:\",q3_dif1)\n",
    "    print(\"q3_dif2:\",q3_dif2)\n",
    "\n",
    "    copydf['High2']=copydf.apply(\n",
    "        lambda row: row['Close'] + q3_dif1 if (row['Close'] > row['Open']) & (row['ind1']==1) & (row['eval']==0)  else \n",
    "        row['Open'] + q3_dif1 if (row['Close'] <= row['Open']) & (row['ind1']==1) & (row['eval']==0) else\n",
    "        row['High'], axis=1)\n",
    "    copydf['Low2']=copydf.apply(\n",
    "        lambda row: row['Open'] - q3_dif2 if (row['Close'] > row['Open']) & (row['ind2']==1) & (row['eval']==0) else \n",
    "        row['Close'] - q3_dif2 if (row['Close'] <= row['Open']) & (row['ind2']==1) & (row['eval']==0) else\n",
    "        row['Low'], axis=1)\n",
    "   \n",
    "    #copydf = copydf.drop(copydf[copydf['dif1'] > topdif1].index)\n",
    "    #copydf = copydf.drop(copydf[copydf['dif2'] > topdif2].index)\n",
    "    return copydf"
   ]
  },
  {
   "cell_type": "code",
   "execution_count": 10,
   "id": "45de6ea8",
   "metadata": {
    "execution": {
     "iopub.execute_input": "2025-07-03T15:46:15.146882Z",
     "iopub.status.busy": "2025-07-03T15:46:15.146569Z",
     "iopub.status.idle": "2025-07-03T15:46:36.153036Z",
     "shell.execute_reply": "2025-07-03T15:46:36.152433Z"
    },
    "papermill": {
     "duration": 21.010007,
     "end_time": "2025-07-03T15:46:36.153951",
     "exception": false,
     "start_time": "2025-07-03T15:46:15.143944",
     "status": "completed"
    },
    "tags": []
   },
   "outputs": [
    {
     "name": "stdout",
     "output_type": "stream",
     "text": [
      "q3_dif1: 0.5\n",
      "q3_dif2: 0.600067138671875\n"
     ]
    },
    {
     "name": "stdout",
     "output_type": "stream",
     "text": [
      "q3_dif1: 1.31243896484375\n",
      "q3_dif2: 1.35498046875\n"
     ]
    },
    {
     "name": "stdout",
     "output_type": "stream",
     "text": [
      "q3_dif1: 0.3999938964843466\n",
      "q3_dif2: 0.3800048828124716\n"
     ]
    },
    {
     "name": "stdout",
     "output_type": "stream",
     "text": [
      "q3_dif1: 0.4155578613281108\n",
      "q3_dif2: 0.4153900146484091\n"
     ]
    },
    {
     "name": "stdout",
     "output_type": "stream",
     "text": [
      "q3_dif1: 1.7900390625\n",
      "q3_dif2: 1.83001708984375\n"
     ]
    },
    {
     "name": "stdout",
     "output_type": "stream",
     "text": [
      "q3_dif1: 0.19990110397339134\n",
      "q3_dif2: 0.1699981689453125\n"
     ]
    },
    {
     "name": "stdout",
     "output_type": "stream",
     "text": [
      "q3_dif1: 1.1390075683594318\n",
      "q3_dif2: 1.1538543701171449\n"
     ]
    },
    {
     "name": "stdout",
     "output_type": "stream",
     "text": [
      "q3_dif1: 0.1399993896484375\n",
      "q3_dif2: 0.15999984741210582\n"
     ]
    },
    {
     "name": "stdout",
     "output_type": "stream",
     "text": [
      "q3_dif1: 0.19999694824221592\n",
      "q3_dif2: 0.22344589233398438\n"
     ]
    },
    {
     "name": "stdout",
     "output_type": "stream",
     "text": [
      "q3_dif1: 0.03499984741210582\n",
      "q3_dif2: 0.04509925842285156\n"
     ]
    },
    {
     "name": "stdout",
     "output_type": "stream",
     "text": [
      "q3_dif1: 0.15999603271484375\n",
      "q3_dif2: 0.16500091552734375\n"
     ]
    },
    {
     "name": "stdout",
     "output_type": "stream",
     "text": [
      "q3_dif1: 0.06999969482421875\n",
      "q3_dif2: 0.06669998168945312\n"
     ]
    },
    {
     "name": "stdout",
     "output_type": "stream",
     "text": [
      "q3_dif1: 0.2700042724609375\n",
      "q3_dif2: 0.279998779296875\n"
     ]
    },
    {
     "name": "stdout",
     "output_type": "stream",
     "text": [
      "q3_dif1: 0.20999908447265625\n",
      "q3_dif2: 0.21010208129882812\n"
     ]
    },
    {
     "name": "stdout",
     "output_type": "stream",
     "text": [
      "q3_dif1: 0.5800170898437784\n",
      "q3_dif2: 0.7067642211914205\n"
     ]
    },
    {
     "name": "stdout",
     "output_type": "stream",
     "text": [
      "q3_dif1: 0.709991455078125\n",
      "q3_dif2: 0.759979248046875\n"
     ]
    },
    {
     "name": "stdout",
     "output_type": "stream",
     "text": [
      "q3_dif1: 0.30000152587890483\n",
      "q3_dif2: 0.37999725341796875\n"
     ]
    },
    {
     "name": "stdout",
     "output_type": "stream",
     "text": [
      "q3_dif1: 0.1165008544921875\n",
      "q3_dif2: 0.11759757995605469\n"
     ]
    },
    {
     "name": "stdout",
     "output_type": "stream",
     "text": [
      "q3_dif1: 0.5100097656250284\n",
      "q3_dif2: 0.4799957275390625\n"
     ]
    },
    {
     "name": "stdout",
     "output_type": "stream",
     "text": [
      "q3_dif1: 0.18600082397460227\n",
      "q3_dif2: 0.18000030517578125\n"
     ]
    },
    {
     "name": "stdout",
     "output_type": "stream",
     "text": [
      "q3_dif1: 0.62860107421875\n",
      "q3_dif2: 0.6900024414061932\n"
     ]
    },
    {
     "name": "stdout",
     "output_type": "stream",
     "text": [
      "q3_dif1: 0.339996337890625\n",
      "q3_dif2: 0.3662548065185547\n"
     ]
    },
    {
     "name": "stdout",
     "output_type": "stream",
     "text": [
      "q3_dif1: 0.11499786376953125\n",
      "q3_dif2: 0.12999725341796875\n"
     ]
    },
    {
     "name": "stdout",
     "output_type": "stream",
     "text": [
      "q3_dif1: 0.2050018310546875\n",
      "q3_dif2: 0.21990203857421875\n"
     ]
    },
    {
     "name": "stdout",
     "output_type": "stream",
     "text": [
      "q3_dif1: 0.4638977050781321\n",
      "q3_dif2: 0.4578514099121094\n"
     ]
    },
    {
     "name": "stdout",
     "output_type": "stream",
     "text": [
      "q3_dif1: 0.5250091552734375\n",
      "q3_dif2: 0.5391769409179688\n"
     ]
    },
    {
     "name": "stdout",
     "output_type": "stream",
     "text": [
      "q3_dif1: 0.1399993896484375\n",
      "q3_dif2: 0.14500045776367188\n"
     ]
    },
    {
     "name": "stdout",
     "output_type": "stream",
     "text": [
      "q3_dif1: 1.080001831054684\n",
      "q3_dif2: 1.0400009155273438\n"
     ]
    },
    {
     "name": "stdout",
     "output_type": "stream",
     "text": [
      "q3_dif1: 1.2705497741699219\n",
      "q3_dif2: 1.1819667816162287\n"
     ]
    },
    {
     "name": "stdout",
     "output_type": "stream",
     "text": [
      "q3_dif1: 0.8699951171875\n",
      "q3_dif2: 0.8949890136719034\n"
     ]
    },
    {
     "name": "stdout",
     "output_type": "stream",
     "text": [
      "q3_dif1: 0.3249969482421875\n",
      "q3_dif2: 0.3699951171875\n"
     ]
    },
    {
     "name": "stdout",
     "output_type": "stream",
     "text": [
      "q3_dif1: 0.6837558746337891\n",
      "q3_dif2: 0.7299404144287109\n"
     ]
    },
    {
     "name": "stdout",
     "output_type": "stream",
     "text": [
      "q3_dif1: 0.1999969482421875\n",
      "q3_dif2: 0.20000076293945312\n"
     ]
    }
   ],
   "source": [
    "df_new2 = pd.DataFrame()\n",
    "for ticker in tickers:\n",
    "    #Informacion anterior por ticker\n",
    "    df_ticker = df2[(df2['datetime'] <  max_day_str2) & (df2['companyName']==ticker)]\n",
    "    df_ticker = df_ticker.reset_index(drop=True)\n",
    "    df_ticker['datetime'] = pd.to_datetime(df_ticker['datetime'])\n",
    "    #crear columnas de diferencia\n",
    "    df_ticker['dif1'] = df_ticker.apply(lambda row: row['High'] - row['Close'] if row['Close'] > row['Open'] else row['High'] - row['Open'], axis=1)\n",
    "    df_ticker['dif2'] = df_ticker.apply(lambda row: row['Open'] - row['Low'] if row['Close'] > row['Open'] else row['Close'] - row['Low'], axis=1)\n",
    "    df_ticker['eval'] = 1 #no se limpiara\n",
    "    #Aplha vantage descarga intraday\n",
    "    url='https://www.alphavantage.co/query?function=TIME_SERIES_INTRADAY&symbol=' + str(ticker)+ '&interval=60min&entitlement=delayed&apikey=HR9C4MJVM7O4UUCM&datatype=csv'\n",
    "    company = pd.read_csv(url, sep=',')         \n",
    "    company = company[['close','high','low','open','volume','timestamp']]\n",
    "    company=company.rename(columns={\"open\": \"Open\",\"high\": \"High\",\"low\": \"Low\",\"close\": \"Close\",\"volume\": \"Volume\",\"timestamp\": \"datetime\"})        \n",
    "    company['companyName']=ticker\n",
    "    company['datetime'] = pd.to_datetime(company['datetime'])\n",
    "    company['datetime'] = company['datetime'].dt.tz_localize('UTC')\n",
    "    #company['datetime'] = company['datetime'].dt.tz_localize('US/Eastern')\n",
    "    company_lastday = company[company['datetime']>=max_day_str2]\n",
    "    company_lastday = company_lastday.sort_values(by=['datetime'], ascending=[True])\n",
    "    \n",
    "    #crear columnas diferencia de las colas (se evaluara el ultimo dia)\n",
    "    company_lastday['dif1'] = company_lastday.apply(lambda row: row['High'] - row['Close'] if row['Close'] > row['Open'] else row['High'] - row['Open'], axis=1)\n",
    "    company_lastday['dif2'] = company_lastday.apply(lambda row: row['Open'] - row['Low'] if row['Close'] > row['Open'] else row['Close'] - row['Low'], axis=1)\n",
    "    company_lastday['eval'] = 0 # se limpiara    \n",
    "    df_ticker = pd.concat([df_ticker, company_lastday],ignore_index=True)    \n",
    "    company_final = df_limpiar(df_ticker)    \n",
    "    df_new2 = pd.concat([df_new2, company_final],ignore_index=True)"
   ]
  },
  {
   "cell_type": "code",
   "execution_count": 11,
   "id": "58ab14cb",
   "metadata": {
    "execution": {
     "iopub.execute_input": "2025-07-03T15:46:36.161755Z",
     "iopub.status.busy": "2025-07-03T15:46:36.161353Z",
     "iopub.status.idle": "2025-07-03T15:46:36.166149Z",
     "shell.execute_reply": "2025-07-03T15:46:36.165661Z"
    },
    "papermill": {
     "duration": 0.009532,
     "end_time": "2025-07-03T15:46:36.167015",
     "exception": false,
     "start_time": "2025-07-03T15:46:36.157483",
     "status": "completed"
    },
    "tags": []
   },
   "outputs": [],
   "source": [
    "df_new2['High'] = np.where(df_new2['eval'] == 0, df_new2['High2'], df_new2['High'])\n",
    "df_new2['Low'] = np.where(df_new2['eval'] == 0, df_new2['Low2'], df_new2['Low'])"
   ]
  },
  {
   "cell_type": "code",
   "execution_count": 12,
   "id": "c615c99e",
   "metadata": {
    "execution": {
     "iopub.execute_input": "2025-07-03T15:46:36.174593Z",
     "iopub.status.busy": "2025-07-03T15:46:36.174172Z",
     "iopub.status.idle": "2025-07-03T15:46:36.180812Z",
     "shell.execute_reply": "2025-07-03T15:46:36.180357Z"
    },
    "papermill": {
     "duration": 0.011336,
     "end_time": "2025-07-03T15:46:36.181696",
     "exception": false,
     "start_time": "2025-07-03T15:46:36.170360",
     "status": "completed"
    },
    "tags": []
   },
   "outputs": [],
   "source": [
    "df_new2 = df_new2.drop(columns=['dif1', 'dif2', 'eval', 'ind1', 'ind2', 'High2','Low2' ])"
   ]
  },
  {
   "cell_type": "code",
   "execution_count": 13,
   "id": "a26f0e91-cf20-463d-905e-7d63bfcbf0b0",
   "metadata": {
    "execution": {
     "iopub.execute_input": "2025-07-03T15:46:36.189087Z",
     "iopub.status.busy": "2025-07-03T15:46:36.188879Z",
     "iopub.status.idle": "2025-07-03T15:46:36.329655Z",
     "shell.execute_reply": "2025-07-03T15:46:36.329091Z"
    },
    "papermill": {
     "duration": 0.145746,
     "end_time": "2025-07-03T15:46:36.330819",
     "exception": false,
     "start_time": "2025-07-03T15:46:36.185073",
     "status": "completed"
    },
    "tags": []
   },
   "outputs": [],
   "source": [
    "#descarga de informacion, estrategia: RUPTURA DEL CANAL BAJISTA\n",
    "path='data/dataxd.txt'\n",
    "folder=os.path.dirname(path)\n",
    "\n",
    "if not os.path.exists(folder):\n",
    "    os.makedirs(folder)\n",
    "\n",
    "if os.path.exists(path):\n",
    "    # delete the file\n",
    "    os.remove(path)\n",
    "else:\n",
    "    # if the file does not exist.\n",
    "    print(\"File does not exists. File needs to be created.\")\n",
    "\n",
    "#export DataFrame to text file\n",
    "with open(path, 'a') as f:\n",
    "    #df_string = appl_hor3.to_string(header=True, index=False, sep ='\\t')\n",
    "    df_new1.to_csv(path, header=True, index=None, sep='\\t', mode='w')\n",
    "    #f.write(df_string)"
   ]
  },
  {
   "cell_type": "code",
   "execution_count": 14,
   "id": "9adc5089",
   "metadata": {
    "execution": {
     "iopub.execute_input": "2025-07-03T15:46:36.338974Z",
     "iopub.status.busy": "2025-07-03T15:46:36.338507Z",
     "iopub.status.idle": "2025-07-03T15:46:37.273085Z",
     "shell.execute_reply": "2025-07-03T15:46:37.272398Z"
    },
    "papermill": {
     "duration": 0.939741,
     "end_time": "2025-07-03T15:46:37.274262",
     "exception": false,
     "start_time": "2025-07-03T15:46:36.334521",
     "status": "completed"
    },
    "tags": []
   },
   "outputs": [],
   "source": [
    "#descarga de informacion\n",
    "path='data/dataxh.txt'\n",
    "# check whether the file exists\n",
    "if os.path.exists(path):\n",
    "    # delete the file\n",
    "    os.remove(path)\n",
    "else:\n",
    "    # if the file does not exist.\n",
    "    print(\"File does not exists. File needs to be created.\")\n",
    "\n",
    "#export DataFrame to text file\n",
    "with open(path, 'a') as f:\n",
    "    #df_string = appl_hor3.to_string(header=True, index=False, sep ='\\t')\n",
    "    df_new2.to_csv(path, header=True, index=None, sep='\\t', mode='w')\n",
    "    #f.write(df_string)"
   ]
  }
 ],
 "metadata": {
  "kernelspec": {
   "display_name": "Python [conda env:base] *",
   "language": "python",
   "name": "conda-base-py"
  },
  "language_info": {
   "codemirror_mode": {
    "name": "ipython",
    "version": 3
   },
   "file_extension": ".py",
   "mimetype": "text/x-python",
   "name": "python",
   "nbconvert_exporter": "python",
   "pygments_lexer": "ipython3",
   "version": "3.10.18"
  },
  "papermill": {
   "default_parameters": {},
   "duration": 35.441313,
   "end_time": "2025-07-03T15:46:37.493009",
   "environment_variables": {},
   "exception": null,
   "input_path": "downLoadDataRealtimeAlpha.ipynb",
   "output_path": "downLoadDataRealtimeAlpha.ipynb_out.ipynb",
   "parameters": {},
   "start_time": "2025-07-03T15:46:02.051696",
   "version": "2.6.0"
  }
 },
 "nbformat": 4,
 "nbformat_minor": 5
}