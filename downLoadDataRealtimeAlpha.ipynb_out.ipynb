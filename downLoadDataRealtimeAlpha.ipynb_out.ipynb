{
 "cells": [
  {
   "cell_type": "markdown",
   "id": "4c1e400e-66ea-4231-b554-33216632364e",
   "metadata": {
    "papermill": {
     "duration": 0.002251,
     "end_time": "2025-06-28T18:37:15.854875",
     "exception": false,
     "start_time": "2025-06-28T18:37:15.852624",
     "status": "completed"
    },
    "tags": []
   },
   "source": [
    "### Descarga Realtime Alpha Vantage\n",
    "###### Descarga cada 10 minutos"
   ]
  },
  {
   "cell_type": "code",
   "execution_count": 1,
   "id": "a59056cd-968d-485d-84e7-d0777e5435ec",
   "metadata": {
    "execution": {
     "iopub.execute_input": "2025-06-28T18:37:15.859626Z",
     "iopub.status.busy": "2025-06-28T18:37:15.859198Z",
     "iopub.status.idle": "2025-06-28T18:37:16.083742Z",
     "shell.execute_reply": "2025-06-28T18:37:16.083200Z"
    },
    "papermill": {
     "duration": 0.228149,
     "end_time": "2025-06-28T18:37:16.085000",
     "exception": false,
     "start_time": "2025-06-28T18:37:15.856851",
     "status": "completed"
    },
    "tags": []
   },
   "outputs": [],
   "source": [
    "import pandas as pd\n",
    "import numpy as np\n",
    "import time\n",
    "#import matplotlib.pyplot as plt\n",
    "import os\n",
    "from datetime import date, datetime,timedelta\n",
    "#from dateutil.relativedelta import relativedelta"
   ]
  },
  {
   "cell_type": "code",
   "execution_count": 2,
   "id": "b213c3ad",
   "metadata": {
    "execution": {
     "iopub.execute_input": "2025-06-28T18:37:16.090197Z",
     "iopub.status.busy": "2025-06-28T18:37:16.089551Z",
     "iopub.status.idle": "2025-06-28T18:37:16.113621Z",
     "shell.execute_reply": "2025-06-28T18:37:16.113160Z"
    },
    "papermill": {
     "duration": 0.027372,
     "end_time": "2025-06-28T18:37:16.114518",
     "exception": false,
     "start_time": "2025-06-28T18:37:16.087146",
     "status": "completed"
    },
    "tags": []
   },
   "outputs": [
    {
     "name": "stdout",
     "output_type": "stream",
     "text": [
      "Archivo cargado correctamente.\n"
     ]
    }
   ],
   "source": [
    "# Verificar si el archivo existe\n",
    "ruta_archivo='data/dataxd.txt'\n",
    "if os.path.exists(ruta_archivo):\n",
    "    # Cargar el archivo\n",
    "    df1 = pd.read_csv(ruta_archivo, sep='\\t')\n",
    "    print(\"Archivo cargado correctamente.\")\n",
    "else:\n",
    "    # Crear un DataFrame vacío\n",
    "    df1 = pd.DataFrame()\n",
    "    print(\"Archivo no existe. Se creó un DataFrame vacío.\")"
   ]
  },
  {
   "cell_type": "code",
   "execution_count": 3,
   "id": "4377b8ac-a9ef-4fa4-88fc-48d9332e4a08",
   "metadata": {
    "execution": {
     "iopub.execute_input": "2025-06-28T18:37:16.119088Z",
     "iopub.status.busy": "2025-06-28T18:37:16.118889Z",
     "iopub.status.idle": "2025-06-28T18:37:16.204304Z",
     "shell.execute_reply": "2025-06-28T18:37:16.203760Z"
    },
    "papermill": {
     "duration": 0.088763,
     "end_time": "2025-06-28T18:37:16.205223",
     "exception": false,
     "start_time": "2025-06-28T18:37:16.116460",
     "status": "completed"
    },
    "tags": []
   },
   "outputs": [
    {
     "name": "stdout",
     "output_type": "stream",
     "text": [
      "Archivo cargado correctamente.\n"
     ]
    }
   ],
   "source": [
    "ruta_archivo='data/dataxh.txt'\n",
    "if os.path.exists(ruta_archivo):\n",
    "    # Cargar el archivo\n",
    "    df2 = pd.read_csv(ruta_archivo, sep='\\t')\n",
    "    print(\"Archivo cargado correctamente.\")\n",
    "else:\n",
    "    # Crear un DataFrame vacío\n",
    "    df2 = pd.DataFrame()\n",
    "    print(\"Archivo no existe. Se creó un DataFrame vacío.\")"
   ]
  },
  {
   "cell_type": "code",
   "execution_count": 4,
   "id": "5d91bdb7",
   "metadata": {
    "execution": {
     "iopub.execute_input": "2025-06-28T18:37:16.210198Z",
     "iopub.status.busy": "2025-06-28T18:37:16.210012Z",
     "iopub.status.idle": "2025-06-28T18:37:16.298991Z",
     "shell.execute_reply": "2025-06-28T18:37:16.298353Z"
    },
    "papermill": {
     "duration": 0.092341,
     "end_time": "2025-06-28T18:37:16.299814",
     "exception": false,
     "start_time": "2025-06-28T18:37:16.207473",
     "status": "completed"
    },
    "tags": []
   },
   "outputs": [],
   "source": [
    "df1['datetime'] = pd.to_datetime(df1['datetime'])\n",
    "df2['datetime'] = pd.to_datetime(df2['datetime'])"
   ]
  },
  {
   "cell_type": "code",
   "execution_count": 5,
   "id": "20f9d0f6",
   "metadata": {
    "execution": {
     "iopub.execute_input": "2025-06-28T18:37:16.304774Z",
     "iopub.status.busy": "2025-06-28T18:37:16.304453Z",
     "iopub.status.idle": "2025-06-28T18:37:16.308122Z",
     "shell.execute_reply": "2025-06-28T18:37:16.307637Z"
    },
    "papermill": {
     "duration": 0.00696,
     "end_time": "2025-06-28T18:37:16.308942",
     "exception": false,
     "start_time": "2025-06-28T18:37:16.301982",
     "status": "completed"
    },
    "tags": []
   },
   "outputs": [],
   "source": [
    "max_day1 = (df1['datetime'].max()).date()\n",
    "max_day2 = (df2['datetime'].max()).date()"
   ]
  },
  {
   "cell_type": "code",
   "execution_count": 6,
   "id": "5c70c3d5",
   "metadata": {
    "execution": {
     "iopub.execute_input": "2025-06-28T18:37:16.313790Z",
     "iopub.status.busy": "2025-06-28T18:37:16.313609Z",
     "iopub.status.idle": "2025-06-28T18:37:16.316134Z",
     "shell.execute_reply": "2025-06-28T18:37:16.315667Z"
    },
    "papermill": {
     "duration": 0.005876,
     "end_time": "2025-06-28T18:37:16.316966",
     "exception": false,
     "start_time": "2025-06-28T18:37:16.311090",
     "status": "completed"
    },
    "tags": []
   },
   "outputs": [],
   "source": [
    "max_day2 = max_day2 - timedelta(days=5) #para Realtime restar 5 dias"
   ]
  },
  {
   "cell_type": "code",
   "execution_count": 7,
   "id": "6c159857",
   "metadata": {
    "execution": {
     "iopub.execute_input": "2025-06-28T18:37:16.321435Z",
     "iopub.status.busy": "2025-06-28T18:37:16.321260Z",
     "iopub.status.idle": "2025-06-28T18:37:16.324714Z",
     "shell.execute_reply": "2025-06-28T18:37:16.324251Z"
    },
    "papermill": {
     "duration": 0.006646,
     "end_time": "2025-06-28T18:37:16.325555",
     "exception": false,
     "start_time": "2025-06-28T18:37:16.318909",
     "status": "completed"
    },
    "tags": []
   },
   "outputs": [],
   "source": [
    "#today = date.today()\n",
    "max_day_str2 = str(max_day2)\n",
    "max_day_str1 = str(max_day1)\n",
    "tickers = [\n",
    "    'SPY',\n",
    "    'META',\n",
    "    'AAPL',\n",
    "    'AMZN',\n",
    "    'NFLX',\n",
    "    'MRNA',\n",
    "    'TSLA',\n",
    "    'TNA',\n",
    "    'GLD',\n",
    "    'SLV',\n",
    "    'USO',\n",
    "    'BAC',\n",
    "    'CVX',\n",
    "    'XOM',\n",
    "    'QQQ',\n",
    "    'MSFT',\n",
    "    'NVDA',\n",
    "    'WMT',\n",
    "    'BA',\n",
    "    'DIS',\n",
    "    'CAT',\n",
    "    'IBM',\n",
    "    'WFC',\n",
    "    'PLTR',\n",
    "    'AMD',\n",
    "    'AVGO',\n",
    "    'HOOD',\n",
    "    'CRWV',\n",
    "    'MSTR',\n",
    "    'UNH',\n",
    "    'GOOG',\n",
    "    'APP',\n",
    "    'UBER'\n",
    "]"
   ]
  },
  {
   "cell_type": "code",
   "execution_count": 8,
   "id": "1193ed69",
   "metadata": {
    "execution": {
     "iopub.execute_input": "2025-06-28T18:37:16.330288Z",
     "iopub.status.busy": "2025-06-28T18:37:16.330125Z",
     "iopub.status.idle": "2025-06-28T18:37:36.726102Z",
     "shell.execute_reply": "2025-06-28T18:37:36.725527Z"
    },
    "papermill": {
     "duration": 20.399707,
     "end_time": "2025-06-28T18:37:36.727256",
     "exception": false,
     "start_time": "2025-06-28T18:37:16.327549",
     "status": "completed"
    },
    "tags": []
   },
   "outputs": [],
   "source": [
    "#INFORMACION DIAS\n",
    "df_new1 = pd.DataFrame()\n",
    "df_new1 = df1.copy()\n",
    "for ticker in tickers:\n",
    "    url1='https://www.alphavantage.co/query?function=TIME_SERIES_DAILY_ADJUSTED&symbol='+str(ticker)+'&entitlement=delayed&apikey=HR9C4MJVM7O4UUCM&datatype=csv'\n",
    "    company = pd.read_csv(url1, sep=',')\n",
    "    company=company.rename(columns={'timestamp':'datetime','open': 'Open', 'high': 'High', 'low': 'Low', 'close': 'Close', 'volume': 'Volume'})\n",
    "    company = company.drop(['adjusted_close','dividend_amount','split_coefficient'], axis=1)\n",
    "    company['companyName']=ticker\n",
    "    company = company[['Close', 'High', 'Low', 'Open', 'Volume', 'datetime', 'companyName']] #ordenar columnas\n",
    "    company['datetime'] = pd.to_datetime(company['datetime'])\n",
    "    company_lastday = company[company['datetime']>max_day_str1]\n",
    "    df_new1 = pd.concat([df_new1, company_lastday],ignore_index=True)"
   ]
  },
  {
   "cell_type": "code",
   "execution_count": 9,
   "id": "aca35012-6da3-4775-8beb-b59a5cc61ce4",
   "metadata": {
    "execution": {
     "iopub.execute_input": "2025-06-28T18:37:36.732828Z",
     "iopub.status.busy": "2025-06-28T18:37:36.732333Z",
     "iopub.status.idle": "2025-06-28T18:37:36.738955Z",
     "shell.execute_reply": "2025-06-28T18:37:36.738390Z"
    },
    "papermill": {
     "duration": 0.010157,
     "end_time": "2025-06-28T18:37:36.739783",
     "exception": false,
     "start_time": "2025-06-28T18:37:36.729626",
     "status": "completed"
    },
    "tags": []
   },
   "outputs": [],
   "source": [
    "#Funcion limpiar OUTLIERS\n",
    "def df_limpiar(df_eval):\n",
    "    #dataframe para obtener medias sin incluir fecha actual\n",
    "    df_eval2 = df_eval[df_eval['datetime']<max_day_str2].tail(100)\n",
    "    \n",
    "    meandif1 = df_eval2['dif1'].mean()\n",
    "    stddif1 = df_eval2['dif1'].std()\n",
    "    topdif1 = meandif1 + stddif1 * 1.96\n",
    "\n",
    "    meandif2 = df_eval2['dif2'].mean()\n",
    "    stddif2 = df_eval2['dif2'].std()\n",
    "    topdif2 = meandif2 + stddif2 * 1.96\n",
    "    \n",
    "    #botdif = meandif - stddif * 3\n",
    "    copydf = df_eval.copy()\n",
    "    \n",
    "    #df_h.apply(lambda row: row['High'] - row['Close'] if row['Close'] > row['Open'] else row['High'] - row['Open'], axis=1)\n",
    "    copydf['ind1'] = copydf.apply(lambda row: 1 if row['dif1'] > topdif1 else 0, axis=1)\n",
    "    copydf['ind2'] = copydf.apply(lambda row: 1 if row['dif2'] > topdif2 else 0, axis=1)\n",
    "\n",
    "    #hoy = datetime.now()    \n",
    "    #mes_actual = hoy.replace(day=1)\n",
    "    #mes_fin = mes_actual - relativedelta(months=3)\n",
    "    #hace_12_meses = mes_actual - relativedelta(months=12)\n",
    "    #cuartil 3\n",
    "    q3_dif1 = copydf[copydf['ind1']!=1]['dif1'].quantile(0.75)\n",
    "    q3_dif2 = copydf[copydf['ind2']!=1]['dif2'].quantile(0.75)\n",
    "    \n",
    "    #meanfin1 = copydf[(copydf['ind1']==1) & (copydf['datetime'] >= hace_12_meses) & (copydf['datetime'] < mes_fin)]['dif1'].mean()\n",
    "    #meanfin2 = copydf[(copydf['ind2']==1) & (copydf['datetime'] >= hace_12_meses) & (copydf['datetime'] < mes_fin)]['dif2'].mean()\n",
    "\n",
    "    print(\"q3_dif1:\",q3_dif1)\n",
    "    print(\"q3_dif2:\",q3_dif2)\n",
    "\n",
    "    copydf['High2']=copydf.apply(\n",
    "        lambda row: row['Close'] + q3_dif1 if (row['Close'] > row['Open']) & (row['ind1']==1) & (row['eval']==0)  else \n",
    "        row['Open'] + q3_dif1 if (row['Close'] <= row['Open']) & (row['ind1']==1) & (row['eval']==0) else\n",
    "        row['High'], axis=1)\n",
    "    copydf['Low2']=copydf.apply(\n",
    "        lambda row: row['Open'] - q3_dif2 if (row['Close'] > row['Open']) & (row['ind2']==1) & (row['eval']==0) else \n",
    "        row['Close'] - q3_dif2 if (row['Close'] <= row['Open']) & (row['ind2']==1) & (row['eval']==0) else\n",
    "        row['Low'], axis=1)\n",
    "   \n",
    "    #copydf = copydf.drop(copydf[copydf['dif1'] > topdif1].index)\n",
    "    #copydf = copydf.drop(copydf[copydf['dif2'] > topdif2].index)\n",
    "    return copydf"
   ]
  },
  {
   "cell_type": "code",
   "execution_count": 10,
   "id": "45de6ea8",
   "metadata": {
    "execution": {
     "iopub.execute_input": "2025-06-28T18:37:36.744631Z",
     "iopub.status.busy": "2025-06-28T18:37:36.744308Z",
     "iopub.status.idle": "2025-06-28T18:37:50.035060Z",
     "shell.execute_reply": "2025-06-28T18:37:50.034426Z"
    },
    "papermill": {
     "duration": 13.294168,
     "end_time": "2025-06-28T18:37:50.035986",
     "exception": false,
     "start_time": "2025-06-28T18:37:36.741818",
     "status": "completed"
    },
    "tags": []
   },
   "outputs": [
    {
     "name": "stdout",
     "output_type": "stream",
     "text": [
      "q3_dif1: 0.510009765625\n",
      "q3_dif2: 0.6300048828125\n"
     ]
    },
    {
     "name": "stdout",
     "output_type": "stream",
     "text": [
      "q3_dif1: 1.32000732421875\n",
      "q3_dif2: 1.369964599609375\n"
     ]
    },
    {
     "name": "stdout",
     "output_type": "stream",
     "text": [
      "q3_dif1: 0.4138183593750142\n",
      "q3_dif2: 0.3834495544433665\n"
     ]
    },
    {
     "name": "stdout",
     "output_type": "stream",
     "text": [
      "q3_dif1: 0.4199981689453125\n",
      "q3_dif2: 0.44000244140625\n"
     ]
    },
    {
     "name": "stdout",
     "output_type": "stream",
     "text": [
      "q3_dif1: 1.793975830078125\n",
      "q3_dif2: 1.74005126953125\n"
     ]
    },
    {
     "name": "stdout",
     "output_type": "stream",
     "text": [
      "q3_dif1: 0.23999786376954546\n",
      "q3_dif2: 0.19499969482421875\n"
     ]
    },
    {
     "name": "stdout",
     "output_type": "stream",
     "text": [
      "q3_dif1: 1.1400146484375\n",
      "q3_dif2: 1.1939201354980469\n"
     ]
    },
    {
     "name": "stdout",
     "output_type": "stream",
     "text": [
      "q3_dif1: 0.14500045776367188\n",
      "q3_dif2: 0.17852497100829545\n"
     ]
    },
    {
     "name": "stdout",
     "output_type": "stream",
     "text": [
      "q3_dif1: 0.20645523071287641\n",
      "q3_dif2: 0.2299957275390625\n"
     ]
    },
    {
     "name": "stdout",
     "output_type": "stream",
     "text": [
      "q3_dif1: 0.03989982604980469\n",
      "q3_dif2: 0.049999237060546875\n"
     ]
    },
    {
     "name": "stdout",
     "output_type": "stream",
     "text": [
      "q3_dif1: 0.15999603271484375\n",
      "q3_dif2: 0.160003662109375\n"
     ]
    },
    {
     "name": "stdout",
     "output_type": "stream",
     "text": [
      "q3_dif1: 0.07000160217285245\n",
      "q3_dif2: 0.07010173797607422\n"
     ]
    },
    {
     "name": "stdout",
     "output_type": "stream",
     "text": [
      "q3_dif1: 0.2594451904296875\n",
      "q3_dif2: 0.2849884033203125\n"
     ]
    },
    {
     "name": "stdout",
     "output_type": "stream",
     "text": [
      "q3_dif1: 0.20000457763671875\n",
      "q3_dif2: 0.214996337890625\n"
     ]
    },
    {
     "name": "stdout",
     "output_type": "stream",
     "text": [
      "q3_dif1: 0.5943908691406534\n",
      "q3_dif2: 0.7300109863281108\n"
     ]
    },
    {
     "name": "stdout",
     "output_type": "stream",
     "text": [
      "q3_dif1: 0.709991455078125\n",
      "q3_dif2: 0.740020751953125\n"
     ]
    },
    {
     "name": "stdout",
     "output_type": "stream",
     "text": [
      "q3_dif1: 0.3191986083984375\n",
      "q3_dif2: 0.3885250091552699\n"
     ]
    },
    {
     "name": "stdout",
     "output_type": "stream",
     "text": [
      "q3_dif1: 0.11999511718747868\n",
      "q3_dif2: 0.11999511718747868\n"
     ]
    },
    {
     "name": "stdout",
     "output_type": "stream",
     "text": [
      "q3_dif1: 0.5198707580566406\n",
      "q3_dif2: 0.475006103515625\n"
     ]
    },
    {
     "name": "stdout",
     "output_type": "stream",
     "text": [
      "q3_dif1: 0.18982887268066406\n",
      "q3_dif2: 0.1750030517578125\n"
     ]
    },
    {
     "name": "stdout",
     "output_type": "stream",
     "text": [
      "q3_dif1: 0.6100387573242614\n",
      "q3_dif2: 0.70001220703125\n"
     ]
    },
    {
     "name": "stdout",
     "output_type": "stream",
     "text": [
      "q3_dif1: 0.33989334106449576\n",
      "q3_dif2: 0.367095947265625\n"
     ]
    },
    {
     "name": "stdout",
     "output_type": "stream",
     "text": [
      "q3_dif1: 0.125\n",
      "q3_dif2: 0.13000106811523438\n"
     ]
    },
    {
     "name": "stdout",
     "output_type": "stream",
     "text": [
      "q3_dif1: 0.200103759765625\n",
      "q3_dif2: 0.21500015258789418\n"
     ]
    },
    {
     "name": "stdout",
     "output_type": "stream",
     "text": [
      "q3_dif1: 0.44000244140625\n",
      "q3_dif2: 0.45000457763671875\n"
     ]
    },
    {
     "name": "stdout",
     "output_type": "stream",
     "text": [
      "q3_dif1: 0.5269050598144531\n",
      "q3_dif2: 0.5517883300781463\n"
     ]
    },
    {
     "name": "stdout",
     "output_type": "stream",
     "text": [
      "q3_dif1: 0.1399993896484375\n",
      "q3_dif2: 0.14500045776367188\n"
     ]
    },
    {
     "name": "stdout",
     "output_type": "stream",
     "text": [
      "q3_dif1: 1.1112480163574219\n",
      "q3_dif2: 1.0599241256713885\n"
     ]
    },
    {
     "name": "stdout",
     "output_type": "stream",
     "text": [
      "q3_dif1: 1.22762680053712\n",
      "q3_dif2: 1.2261276245117116\n"
     ]
    },
    {
     "name": "stdout",
     "output_type": "stream",
     "text": [
      "q3_dif1: 0.9566497802734375\n",
      "q3_dif2: 0.9000244140625\n"
     ]
    },
    {
     "name": "stdout",
     "output_type": "stream",
     "text": [
      "q3_dif1: 0.334991455078125\n",
      "q3_dif2: 0.3650016784667969\n"
     ]
    },
    {
     "name": "stdout",
     "output_type": "stream",
     "text": [
      "q3_dif1: 0.7099914550780966\n",
      "q3_dif2: 0.7400894165039489\n"
     ]
    },
    {
     "name": "stdout",
     "output_type": "stream",
     "text": [
      "q3_dif1: 0.20499801635742188\n",
      "q3_dif2: 0.20499420166015625\n"
     ]
    }
   ],
   "source": [
    "df_new2 = pd.DataFrame()\n",
    "for ticker in tickers:\n",
    "    #Informacion anterior por ticker\n",
    "    df_ticker = df2[(df2['datetime'] <  max_day_str2) & (df2['companyName']==ticker)]\n",
    "    df_ticker = df_ticker.reset_index(drop=True)\n",
    "    df_ticker['datetime'] = pd.to_datetime(df_ticker['datetime'])\n",
    "    #crear columnas de diferencia\n",
    "    df_ticker['dif1'] = df_ticker.apply(lambda row: row['High'] - row['Close'] if row['Close'] > row['Open'] else row['High'] - row['Open'], axis=1)\n",
    "    df_ticker['dif2'] = df_ticker.apply(lambda row: row['Open'] - row['Low'] if row['Close'] > row['Open'] else row['Close'] - row['Low'], axis=1)\n",
    "    df_ticker['eval'] = 1 #no se limpiara\n",
    "    #Aplha vantage descarga intraday\n",
    "    url='https://www.alphavantage.co/query?function=TIME_SERIES_INTRADAY&symbol=' + str(ticker)+ '&interval=60min&entitlement=delayed&apikey=HR9C4MJVM7O4UUCM&datatype=csv'\n",
    "    company = pd.read_csv(url, sep=',')         \n",
    "    company = company[['close','high','low','open','volume','timestamp']]\n",
    "    company=company.rename(columns={\"open\": \"Open\",\"high\": \"High\",\"low\": \"Low\",\"close\": \"Close\",\"volume\": \"Volume\",\"timestamp\": \"datetime\"})        \n",
    "    company['companyName']=ticker\n",
    "    company['datetime'] = pd.to_datetime(company['datetime'])\n",
    "    company['datetime'] = company['datetime'].dt.tz_localize('UTC')\n",
    "    #company['datetime'] = company['datetime'].dt.tz_localize('US/Eastern')\n",
    "    company_lastday = company[company['datetime']>=max_day_str2]\n",
    "    company_lastday = company_lastday.sort_values(by=['datetime'], ascending=[True])\n",
    "    \n",
    "    #crear columnas diferencia de las colas (se evaluara el ultimo dia)\n",
    "    company_lastday['dif1'] = company_lastday.apply(lambda row: row['High'] - row['Close'] if row['Close'] > row['Open'] else row['High'] - row['Open'], axis=1)\n",
    "    company_lastday['dif2'] = company_lastday.apply(lambda row: row['Open'] - row['Low'] if row['Close'] > row['Open'] else row['Close'] - row['Low'], axis=1)\n",
    "    company_lastday['eval'] = 0 # se limpiara    \n",
    "    df_ticker = pd.concat([df_ticker, company_lastday],ignore_index=True)    \n",
    "    company_final = df_limpiar(df_ticker)    \n",
    "    df_new2 = pd.concat([df_new2, company_final],ignore_index=True)"
   ]
  },
  {
   "cell_type": "code",
   "execution_count": 11,
   "id": "58ab14cb",
   "metadata": {
    "execution": {
     "iopub.execute_input": "2025-06-28T18:37:50.043762Z",
     "iopub.status.busy": "2025-06-28T18:37:50.043422Z",
     "iopub.status.idle": "2025-06-28T18:37:50.047861Z",
     "shell.execute_reply": "2025-06-28T18:37:50.047313Z"
    },
    "papermill": {
     "duration": 0.009222,
     "end_time": "2025-06-28T18:37:50.048771",
     "exception": false,
     "start_time": "2025-06-28T18:37:50.039549",
     "status": "completed"
    },
    "tags": []
   },
   "outputs": [],
   "source": [
    "df_new2['High'] = np.where(df_new2['eval'] == 0, df_new2['High2'], df_new2['High'])\n",
    "df_new2['Low'] = np.where(df_new2['eval'] == 0, df_new2['Low2'], df_new2['Low'])"
   ]
  },
  {
   "cell_type": "code",
   "execution_count": 12,
   "id": "c615c99e",
   "metadata": {
    "execution": {
     "iopub.execute_input": "2025-06-28T18:37:50.055932Z",
     "iopub.status.busy": "2025-06-28T18:37:50.055597Z",
     "iopub.status.idle": "2025-06-28T18:37:50.060738Z",
     "shell.execute_reply": "2025-06-28T18:37:50.060200Z"
    },
    "papermill": {
     "duration": 0.009575,
     "end_time": "2025-06-28T18:37:50.061543",
     "exception": false,
     "start_time": "2025-06-28T18:37:50.051968",
     "status": "completed"
    },
    "tags": []
   },
   "outputs": [],
   "source": [
    "df_new2 = df_new2.drop(columns=['dif1', 'dif2', 'eval', 'ind1', 'ind2', 'High2','Low2' ])"
   ]
  },
  {
   "cell_type": "code",
   "execution_count": 13,
   "id": "a26f0e91-cf20-463d-905e-7d63bfcbf0b0",
   "metadata": {
    "execution": {
     "iopub.execute_input": "2025-06-28T18:37:50.068788Z",
     "iopub.status.busy": "2025-06-28T18:37:50.068471Z",
     "iopub.status.idle": "2025-06-28T18:37:50.203830Z",
     "shell.execute_reply": "2025-06-28T18:37:50.203070Z"
    },
    "papermill": {
     "duration": 0.140232,
     "end_time": "2025-06-28T18:37:50.204979",
     "exception": false,
     "start_time": "2025-06-28T18:37:50.064747",
     "status": "completed"
    },
    "tags": []
   },
   "outputs": [],
   "source": [
    "#descarga de informacion, estrategia: RUPTURA DEL CANAL BAJISTA\n",
    "path='data/dataxd.txt'\n",
    "folder=os.path.dirname(path)\n",
    "\n",
    "if not os.path.exists(folder):\n",
    "    os.makedirs(folder)\n",
    "\n",
    "if os.path.exists(path):\n",
    "    # delete the file\n",
    "    os.remove(path)\n",
    "else:\n",
    "    # if the file does not exist.\n",
    "    print(\"File does not exists. File needs to be created.\")\n",
    "\n",
    "#export DataFrame to text file\n",
    "with open(path, 'a') as f:\n",
    "    #df_string = appl_hor3.to_string(header=True, index=False, sep ='\\t')\n",
    "    df_new1.to_csv(path, header=True, index=None, sep='\\t', mode='w')\n",
    "    #f.write(df_string)"
   ]
  },
  {
   "cell_type": "code",
   "execution_count": 14,
   "id": "9adc5089",
   "metadata": {
    "execution": {
     "iopub.execute_input": "2025-06-28T18:37:50.212756Z",
     "iopub.status.busy": "2025-06-28T18:37:50.212564Z",
     "iopub.status.idle": "2025-06-28T18:37:51.113663Z",
     "shell.execute_reply": "2025-06-28T18:37:51.113053Z"
    },
    "papermill": {
     "duration": 0.906199,
     "end_time": "2025-06-28T18:37:51.114834",
     "exception": false,
     "start_time": "2025-06-28T18:37:50.208635",
     "status": "completed"
    },
    "tags": []
   },
   "outputs": [],
   "source": [
    "#descarga de informacion\n",
    "path='data/dataxh.txt'\n",
    "# check whether the file exists\n",
    "if os.path.exists(path):\n",
    "    # delete the file\n",
    "    os.remove(path)\n",
    "else:\n",
    "    # if the file does not exist.\n",
    "    print(\"File does not exists. File needs to be created.\")\n",
    "\n",
    "#export DataFrame to text file\n",
    "with open(path, 'a') as f:\n",
    "    #df_string = appl_hor3.to_string(header=True, index=False, sep ='\\t')\n",
    "    df_new2.to_csv(path, header=True, index=None, sep='\\t', mode='w')\n",
    "    #f.write(df_string)"
   ]
  }
 ],
 "metadata": {
  "kernelspec": {
   "display_name": "Python [conda env:base] *",
   "language": "python",
   "name": "conda-base-py"
  },
  "language_info": {
   "codemirror_mode": {
    "name": "ipython",
    "version": 3
   },
   "file_extension": ".py",
   "mimetype": "text/x-python",
   "name": "python",
   "nbconvert_exporter": "python",
   "pygments_lexer": "ipython3",
   "version": "3.10.18"
  },
  "papermill": {
   "default_parameters": {},
   "duration": 36.19738,
   "end_time": "2025-06-28T18:37:51.333387",
   "environment_variables": {},
   "exception": null,
   "input_path": "downLoadDataRealtimeAlpha.ipynb",
   "output_path": "downLoadDataRealtimeAlpha.ipynb_out.ipynb",
   "parameters": {},
   "start_time": "2025-06-28T18:37:15.136007",
   "version": "2.6.0"
  }
 },
 "nbformat": 4,
 "nbformat_minor": 5
}