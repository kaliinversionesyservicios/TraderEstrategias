{
 "cells": [
  {
   "cell_type": "markdown",
   "id": "42b70f4b-a8b2-4a6a-958a-5dcd1cd8e77c",
   "metadata": {
    "papermill": {
     "duration": 0.004769,
     "end_time": "2025-07-08T22:50:30.597867",
     "exception": false,
     "start_time": "2025-07-08T22:50:30.593098",
     "status": "completed"
    },
    "tags": []
   },
   "source": [
    "### PISO FUERTE"
   ]
  },
  {
   "cell_type": "code",
   "execution_count": 1,
   "id": "c69d35c1-2cc9-4aa8-80c7-eb3b83120eab",
   "metadata": {
    "execution": {
     "iopub.execute_input": "2025-07-08T22:50:30.607732Z",
     "iopub.status.busy": "2025-07-08T22:50:30.607027Z",
     "iopub.status.idle": "2025-07-08T22:50:31.613561Z",
     "shell.execute_reply": "2025-07-08T22:50:31.613083Z"
    },
    "papermill": {
     "duration": 1.012268,
     "end_time": "2025-07-08T22:50:31.614460",
     "exception": false,
     "start_time": "2025-07-08T22:50:30.602192",
     "status": "completed"
    },
    "tags": []
   },
   "outputs": [
    {
     "name": "stderr",
     "output_type": "stream",
     "text": [
      "/usr/share/miniconda/envs/test/lib/python3.10/site-packages/tqdm/auto.py:21: TqdmWarning: IProgress not found. Please update jupyter and ipywidgets. See https://ipywidgets.readthedocs.io/en/stable/user_install.html\n",
      "  from .autonotebook import tqdm as notebook_tqdm\n",
      "/usr/share/miniconda/envs/test/lib/python3.10/site-packages/backtesting/_plotting.py:55: UserWarning: Jupyter Notebook detected. Setting Bokeh output to notebook. This may not work in Jupyter clients without JavaScript support, such as old IDEs. Reset with `backtesting.set_bokeh_output(notebook=False)`.\n",
      "  warnings.warn('Jupyter Notebook detected. '\n"
     ]
    },
    {
     "data": {
      "text/html": [
       "    <style>\n",
       "        .bk-notebook-logo {\n",
       "            display: block;\n",
       "            width: 20px;\n",
       "            height: 20px;\n",
       "            background-image: url(data:image/png;base64,iVBORw0KGgoAAAANSUhEUgAAABQAAAAUCAYAAACNiR0NAAAABHNCSVQICAgIfAhkiAAAAAlwSFlzAAALEgAACxIB0t1+/AAAABx0RVh0U29mdHdhcmUAQWRvYmUgRmlyZXdvcmtzIENTNui8sowAAAOkSURBVDiNjZRtaJVlGMd/1/08zzln5zjP1LWcU9N0NkN8m2CYjpgQYQXqSs0I84OLIC0hkEKoPtiH3gmKoiJDU7QpLgoLjLIQCpEsNJ1vqUOdO7ppbuec5+V+rj4ctwzd8IIbbi6u+8f1539dt3A78eXC7QizUF7gyV1fD1Yqg4JWz84yffhm0qkFqBogB9rM8tZdtwVsPUhWhGcFJngGeWrPzHm5oaMmkfEg1usvLFyc8jLRqDOMru7AyC8saQr7GG7f5fvDeH7Ej8CM66nIF+8yngt6HWaKh7k49Soy9nXurCi1o3qUbS3zWfrYeQDTB/Qj6kX6Ybhw4B+bOYoLKCC9H3Nu/leUTZ1JdRWkkn2ldcCamzrcf47KKXdAJllSlxAOkRgyHsGC/zRday5Qld9DyoM4/q/rUoy/CXh3jzOu3bHUVZeU+DEn8FInkPBFlu3+nW3Nw0mk6vCDiWg8CeJaxEwuHS3+z5RgY+YBR6V1Z1nxSOfoaPa4LASWxxdNp+VWTk7+4vzaou8v8PN+xo+KY2xsw6une2frhw05CTYOmQvsEhjhWjn0bmXPjpE1+kplmmkP3suftwTubK9Vq22qKmrBhpY4jvd5afdRA3wGjFAgcnTK2s4hY0/GPNIb0nErGMCRxWOOX64Z8RAC4oCXdklmEvcL8o0BfkNK4lUg9HTl+oPlQxdNo3Mg4Nv175e/1LDGzZen30MEjRUtmXSfiTVu1kK8W4txyV6BMKlbgk3lMwYCiusNy9fVfvvwMxv8Ynl6vxoByANLTWplvuj/nF9m2+PDtt1eiHPBr1oIfhCChQMBw6Aw0UulqTKZdfVvfG7VcfIqLG9bcldL/+pdWTLxLUy8Qq38heUIjh4XlzZxzQm19lLFlr8vdQ97rjZVOLf8nclzckbcD4wxXMidpX30sFd37Fv/GtwwhzhxGVAprjbg0gCAEeIgwCZyTV2Z1REEW8O4py0wsjeloKoMr6iCY6dP92H6Vw/oTyICIthibxjm/DfN9lVz8IqtqKYLUXfoKVMVQVVJOElGjrnnUt9T9wbgp8AyYKaGlqingHZU/uG2NTZSVqwHQTWkx9hxjkpWDaCg6Ckj5qebgBVbT3V3NNXMSiWSDdGV3hrtzla7J+duwPOToIg42ChPQOQjspnSlp1V+Gjdged7+8UN5CRAV7a5EdFNwCjEaBR27b3W890TE7g24NAP/mMDXRWrGoFPQI9ls/MWO2dWFAar/xcOIImbbpA3zgAAAABJRU5ErkJggg==);\n",
       "        }\n",
       "    </style>\n",
       "    <div>\n",
       "        <a href=\"https://bokeh.org\" target=\"_blank\" class=\"bk-notebook-logo\"></a>\n",
       "        <span id=\"aa45bfe2-1acd-46fa-8440-f332bce3491f\">Loading BokehJS ...</span>\n",
       "    </div>\n"
      ]
     },
     "metadata": {},
     "output_type": "display_data"
    },
    {
     "data": {
      "application/javascript": [
       "'use strict';\n",
       "(function(root) {\n",
       "  function now() {\n",
       "    return new Date();\n",
       "  }\n",
       "\n",
       "  const force = true;\n",
       "\n",
       "  if (typeof root._bokeh_onload_callbacks === \"undefined\" || force === true) {\n",
       "    root._bokeh_onload_callbacks = [];\n",
       "    root._bokeh_is_loading = undefined;\n",
       "  }\n",
       "\n",
       "const JS_MIME_TYPE = 'application/javascript';\n",
       "  const HTML_MIME_TYPE = 'text/html';\n",
       "  const EXEC_MIME_TYPE = 'application/vnd.bokehjs_exec.v0+json';\n",
       "  const CLASS_NAME = 'output_bokeh rendered_html';\n",
       "\n",
       "  /**\n",
       "   * Render data to the DOM node\n",
       "   */\n",
       "  function render(props, node) {\n",
       "    const script = document.createElement(\"script\");\n",
       "    node.appendChild(script);\n",
       "  }\n",
       "\n",
       "  /**\n",
       "   * Handle when an output is cleared or removed\n",
       "   */\n",
       "  function handleClearOutput(event, handle) {\n",
       "    function drop(id) {\n",
       "      const view = Bokeh.index.get_by_id(id)\n",
       "      if (view != null) {\n",
       "        view.model.document.clear()\n",
       "        Bokeh.index.delete(view)\n",
       "      }\n",
       "    }\n",
       "\n",
       "    const cell = handle.cell;\n",
       "\n",
       "    const id = cell.output_area._bokeh_element_id;\n",
       "    const server_id = cell.output_area._bokeh_server_id;\n",
       "\n",
       "    // Clean up Bokeh references\n",
       "    if (id != null) {\n",
       "      drop(id)\n",
       "    }\n",
       "\n",
       "    if (server_id !== undefined) {\n",
       "      // Clean up Bokeh references\n",
       "      const cmd_clean = \"from bokeh.io.state import curstate; print(curstate().uuid_to_server['\" + server_id + \"'].get_sessions()[0].document.roots[0]._id)\";\n",
       "      cell.notebook.kernel.execute(cmd_clean, {\n",
       "        iopub: {\n",
       "          output: function(msg) {\n",
       "            const id = msg.content.text.trim()\n",
       "            drop(id)\n",
       "          }\n",
       "        }\n",
       "      });\n",
       "      // Destroy server and session\n",
       "      const cmd_destroy = \"import bokeh.io.notebook as ion; ion.destroy_server('\" + server_id + \"')\";\n",
       "      cell.notebook.kernel.execute(cmd_destroy);\n",
       "    }\n",
       "  }\n",
       "\n",
       "  /**\n",
       "   * Handle when a new output is added\n",
       "   */\n",
       "  function handleAddOutput(event, handle) {\n",
       "    const output_area = handle.output_area;\n",
       "    const output = handle.output;\n",
       "\n",
       "    // limit handleAddOutput to display_data with EXEC_MIME_TYPE content only\n",
       "    if ((output.output_type != \"display_data\") || (!Object.prototype.hasOwnProperty.call(output.data, EXEC_MIME_TYPE))) {\n",
       "      return\n",
       "    }\n",
       "\n",
       "    const toinsert = output_area.element.find(\".\" + CLASS_NAME.split(' ')[0]);\n",
       "\n",
       "    if (output.metadata[EXEC_MIME_TYPE][\"id\"] !== undefined) {\n",
       "      toinsert[toinsert.length - 1].firstChild.textContent = output.data[JS_MIME_TYPE];\n",
       "      // store reference to embed id on output_area\n",
       "      output_area._bokeh_element_id = output.metadata[EXEC_MIME_TYPE][\"id\"];\n",
       "    }\n",
       "    if (output.metadata[EXEC_MIME_TYPE][\"server_id\"] !== undefined) {\n",
       "      const bk_div = document.createElement(\"div\");\n",
       "      bk_div.innerHTML = output.data[HTML_MIME_TYPE];\n",
       "      const script_attrs = bk_div.children[0].attributes;\n",
       "      for (let i = 0; i < script_attrs.length; i++) {\n",
       "        toinsert[toinsert.length - 1].firstChild.setAttribute(script_attrs[i].name, script_attrs[i].value);\n",
       "        toinsert[toinsert.length - 1].firstChild.textContent = bk_div.children[0].textContent\n",
       "      }\n",
       "      // store reference to server id on output_area\n",
       "      output_area._bokeh_server_id = output.metadata[EXEC_MIME_TYPE][\"server_id\"];\n",
       "    }\n",
       "  }\n",
       "\n",
       "  function register_renderer(events, OutputArea) {\n",
       "\n",
       "    function append_mime(data, metadata, element) {\n",
       "      // create a DOM node to render to\n",
       "      const toinsert = this.create_output_subarea(\n",
       "        metadata,\n",
       "        CLASS_NAME,\n",
       "        EXEC_MIME_TYPE\n",
       "      );\n",
       "      this.keyboard_manager.register_events(toinsert);\n",
       "      // Render to node\n",
       "      const props = {data: data, metadata: metadata[EXEC_MIME_TYPE]};\n",
       "      render(props, toinsert[toinsert.length - 1]);\n",
       "      element.append(toinsert);\n",
       "      return toinsert\n",
       "    }\n",
       "\n",
       "    /* Handle when an output is cleared or removed */\n",
       "    events.on('clear_output.CodeCell', handleClearOutput);\n",
       "    events.on('delete.Cell', handleClearOutput);\n",
       "\n",
       "    /* Handle when a new output is added */\n",
       "    events.on('output_added.OutputArea', handleAddOutput);\n",
       "\n",
       "    /**\n",
       "     * Register the mime type and append_mime function with output_area\n",
       "     */\n",
       "    OutputArea.prototype.register_mime_type(EXEC_MIME_TYPE, append_mime, {\n",
       "      /* Is output safe? */\n",
       "      safe: true,\n",
       "      /* Index of renderer in `output_area.display_order` */\n",
       "      index: 0\n",
       "    });\n",
       "  }\n",
       "\n",
       "  // register the mime type if in Jupyter Notebook environment and previously unregistered\n",
       "  if (root.Jupyter !== undefined) {\n",
       "    const events = require('base/js/events');\n",
       "    const OutputArea = require('notebook/js/outputarea').OutputArea;\n",
       "\n",
       "    if (OutputArea.prototype.mime_types().indexOf(EXEC_MIME_TYPE) == -1) {\n",
       "      register_renderer(events, OutputArea);\n",
       "    }\n",
       "  }\n",
       "  if (typeof (root._bokeh_timeout) === \"undefined\" || force === true) {\n",
       "    root._bokeh_timeout = Date.now() + 5000;\n",
       "    root._bokeh_failed_load = false;\n",
       "  }\n",
       "\n",
       "  const NB_LOAD_WARNING = {'data': {'text/html':\n",
       "     \"<div style='background-color: #fdd'>\\n\"+\n",
       "     \"<p>\\n\"+\n",
       "     \"BokehJS does not appear to have successfully loaded. If loading BokehJS from CDN, this \\n\"+\n",
       "     \"may be due to a slow or bad network connection. Possible fixes:\\n\"+\n",
       "     \"</p>\\n\"+\n",
       "     \"<ul>\\n\"+\n",
       "     \"<li>re-rerun `output_notebook()` to attempt to load from CDN again, or</li>\\n\"+\n",
       "     \"<li>use INLINE resources instead, as so:</li>\\n\"+\n",
       "     \"</ul>\\n\"+\n",
       "     \"<code>\\n\"+\n",
       "     \"from bokeh.resources import INLINE\\n\"+\n",
       "     \"output_notebook(resources=INLINE)\\n\"+\n",
       "     \"</code>\\n\"+\n",
       "     \"</div>\"}};\n",
       "\n",
       "  function display_loaded(error = null) {\n",
       "    const el = document.getElementById(\"aa45bfe2-1acd-46fa-8440-f332bce3491f\");\n",
       "    if (el != null) {\n",
       "      const html = (() => {\n",
       "        if (typeof root.Bokeh === \"undefined\") {\n",
       "          if (error == null) {\n",
       "            return \"BokehJS is loading ...\";\n",
       "          } else {\n",
       "            return \"BokehJS failed to load.\";\n",
       "          }\n",
       "        } else {\n",
       "          const prefix = `BokehJS ${root.Bokeh.version}`;\n",
       "          if (error == null) {\n",
       "            return `${prefix} successfully loaded.`;\n",
       "          } else {\n",
       "            return `${prefix} <b>encountered errors</b> while loading and may not function as expected.`;\n",
       "          }\n",
       "        }\n",
       "      })();\n",
       "      el.innerHTML = html;\n",
       "\n",
       "      if (error != null) {\n",
       "        const wrapper = document.createElement(\"div\");\n",
       "        wrapper.style.overflow = \"auto\";\n",
       "        wrapper.style.height = \"5em\";\n",
       "        wrapper.style.resize = \"vertical\";\n",
       "        const content = document.createElement(\"div\");\n",
       "        content.style.fontFamily = \"monospace\";\n",
       "        content.style.whiteSpace = \"pre-wrap\";\n",
       "        content.style.backgroundColor = \"rgb(255, 221, 221)\";\n",
       "        content.textContent = error.stack ?? error.toString();\n",
       "        wrapper.append(content);\n",
       "        el.append(wrapper);\n",
       "      }\n",
       "    } else if (Date.now() < root._bokeh_timeout) {\n",
       "      setTimeout(() => display_loaded(error), 100);\n",
       "    }\n",
       "  }\n",
       "\n",
       "  function run_callbacks() {\n",
       "    try {\n",
       "      root._bokeh_onload_callbacks.forEach(function(callback) {\n",
       "        if (callback != null)\n",
       "          callback();\n",
       "      });\n",
       "    } finally {\n",
       "      delete root._bokeh_onload_callbacks\n",
       "    }\n",
       "    console.debug(\"Bokeh: all callbacks have finished\");\n",
       "  }\n",
       "\n",
       "  function load_libs(css_urls, js_urls, callback) {\n",
       "    if (css_urls == null) css_urls = [];\n",
       "    if (js_urls == null) js_urls = [];\n",
       "\n",
       "    root._bokeh_onload_callbacks.push(callback);\n",
       "    if (root._bokeh_is_loading > 0) {\n",
       "      console.debug(\"Bokeh: BokehJS is being loaded, scheduling callback at\", now());\n",
       "      return null;\n",
       "    }\n",
       "    if (js_urls == null || js_urls.length === 0) {\n",
       "      run_callbacks();\n",
       "      return null;\n",
       "    }\n",
       "    console.debug(\"Bokeh: BokehJS not loaded, scheduling load and callback at\", now());\n",
       "    root._bokeh_is_loading = css_urls.length + js_urls.length;\n",
       "\n",
       "    function on_load() {\n",
       "      root._bokeh_is_loading--;\n",
       "      if (root._bokeh_is_loading === 0) {\n",
       "        console.debug(\"Bokeh: all BokehJS libraries/stylesheets loaded\");\n",
       "        run_callbacks()\n",
       "      }\n",
       "    }\n",
       "\n",
       "    function on_error(url) {\n",
       "      console.error(\"failed to load \" + url);\n",
       "    }\n",
       "\n",
       "    for (let i = 0; i < css_urls.length; i++) {\n",
       "      const url = css_urls[i];\n",
       "      const element = document.createElement(\"link\");\n",
       "      element.onload = on_load;\n",
       "      element.onerror = on_error.bind(null, url);\n",
       "      element.rel = \"stylesheet\";\n",
       "      element.type = \"text/css\";\n",
       "      element.href = url;\n",
       "      console.debug(\"Bokeh: injecting link tag for BokehJS stylesheet: \", url);\n",
       "      document.body.appendChild(element);\n",
       "    }\n",
       "\n",
       "    for (let i = 0; i < js_urls.length; i++) {\n",
       "      const url = js_urls[i];\n",
       "      const element = document.createElement('script');\n",
       "      element.onload = on_load;\n",
       "      element.onerror = on_error.bind(null, url);\n",
       "      element.async = false;\n",
       "      element.src = url;\n",
       "      console.debug(\"Bokeh: injecting script tag for BokehJS library: \", url);\n",
       "      document.head.appendChild(element);\n",
       "    }\n",
       "  };\n",
       "\n",
       "  function inject_raw_css(css) {\n",
       "    const element = document.createElement(\"style\");\n",
       "    element.appendChild(document.createTextNode(css));\n",
       "    document.body.appendChild(element);\n",
       "  }\n",
       "\n",
       "  const js_urls = [\"https://cdn.bokeh.org/bokeh/release/bokeh-3.7.3.min.js\", \"https://cdn.bokeh.org/bokeh/release/bokeh-gl-3.7.3.min.js\", \"https://cdn.bokeh.org/bokeh/release/bokeh-widgets-3.7.3.min.js\", \"https://cdn.bokeh.org/bokeh/release/bokeh-tables-3.7.3.min.js\", \"https://cdn.bokeh.org/bokeh/release/bokeh-mathjax-3.7.3.min.js\"];\n",
       "  const css_urls = [];\n",
       "\n",
       "  const inline_js = [    function(Bokeh) {\n",
       "      Bokeh.set_log_level(\"info\");\n",
       "    },\n",
       "function(Bokeh) {\n",
       "    }\n",
       "  ];\n",
       "\n",
       "  function run_inline_js() {\n",
       "    if (root.Bokeh !== undefined || force === true) {\n",
       "      try {\n",
       "            for (let i = 0; i < inline_js.length; i++) {\n",
       "      inline_js[i].call(root, root.Bokeh);\n",
       "    }\n",
       "\n",
       "      } catch (error) {display_loaded(error);throw error;\n",
       "      }if (force === true) {\n",
       "        display_loaded();\n",
       "      }} else if (Date.now() < root._bokeh_timeout) {\n",
       "      setTimeout(run_inline_js, 100);\n",
       "    } else if (!root._bokeh_failed_load) {\n",
       "      console.log(\"Bokeh: BokehJS failed to load within specified timeout.\");\n",
       "      root._bokeh_failed_load = true;\n",
       "    } else if (force !== true) {\n",
       "      const cell = $(document.getElementById(\"aa45bfe2-1acd-46fa-8440-f332bce3491f\")).parents('.cell').data().cell;\n",
       "      cell.output_area.append_execute_result(NB_LOAD_WARNING)\n",
       "    }\n",
       "  }\n",
       "\n",
       "  if (root._bokeh_is_loading === 0) {\n",
       "    console.debug(\"Bokeh: BokehJS loaded, going straight to plotting\");\n",
       "    run_inline_js();\n",
       "  } else {\n",
       "    load_libs(css_urls, js_urls, function() {\n",
       "      console.debug(\"Bokeh: BokehJS plotting callback run at\", now());\n",
       "      run_inline_js();\n",
       "    });\n",
       "  }\n",
       "}(window));"
      ],
      "application/vnd.bokehjs_load.v0+json": "'use strict';\n(function(root) {\n  function now() {\n    return new Date();\n  }\n\n  const force = true;\n\n  if (typeof root._bokeh_onload_callbacks === \"undefined\" || force === true) {\n    root._bokeh_onload_callbacks = [];\n    root._bokeh_is_loading = undefined;\n  }\n\n\n  if (typeof (root._bokeh_timeout) === \"undefined\" || force === true) {\n    root._bokeh_timeout = Date.now() + 5000;\n    root._bokeh_failed_load = false;\n  }\n\n  const NB_LOAD_WARNING = {'data': {'text/html':\n     \"<div style='background-color: #fdd'>\\n\"+\n     \"<p>\\n\"+\n     \"BokehJS does not appear to have successfully loaded. If loading BokehJS from CDN, this \\n\"+\n     \"may be due to a slow or bad network connection. Possible fixes:\\n\"+\n     \"</p>\\n\"+\n     \"<ul>\\n\"+\n     \"<li>re-rerun `output_notebook()` to attempt to load from CDN again, or</li>\\n\"+\n     \"<li>use INLINE resources instead, as so:</li>\\n\"+\n     \"</ul>\\n\"+\n     \"<code>\\n\"+\n     \"from bokeh.resources import INLINE\\n\"+\n     \"output_notebook(resources=INLINE)\\n\"+\n     \"</code>\\n\"+\n     \"</div>\"}};\n\n  function display_loaded(error = null) {\n    const el = document.getElementById(\"aa45bfe2-1acd-46fa-8440-f332bce3491f\");\n    if (el != null) {\n      const html = (() => {\n        if (typeof root.Bokeh === \"undefined\") {\n          if (error == null) {\n            return \"BokehJS is loading ...\";\n          } else {\n            return \"BokehJS failed to load.\";\n          }\n        } else {\n          const prefix = `BokehJS ${root.Bokeh.version}`;\n          if (error == null) {\n            return `${prefix} successfully loaded.`;\n          } else {\n            return `${prefix} <b>encountered errors</b> while loading and may not function as expected.`;\n          }\n        }\n      })();\n      el.innerHTML = html;\n\n      if (error != null) {\n        const wrapper = document.createElement(\"div\");\n        wrapper.style.overflow = \"auto\";\n        wrapper.style.height = \"5em\";\n        wrapper.style.resize = \"vertical\";\n        const content = document.createElement(\"div\");\n        content.style.fontFamily = \"monospace\";\n        content.style.whiteSpace = \"pre-wrap\";\n        content.style.backgroundColor = \"rgb(255, 221, 221)\";\n        content.textContent = error.stack ?? error.toString();\n        wrapper.append(content);\n        el.append(wrapper);\n      }\n    } else if (Date.now() < root._bokeh_timeout) {\n      setTimeout(() => display_loaded(error), 100);\n    }\n  }\n\n  function run_callbacks() {\n    try {\n      root._bokeh_onload_callbacks.forEach(function(callback) {\n        if (callback != null)\n          callback();\n      });\n    } finally {\n      delete root._bokeh_onload_callbacks\n    }\n    console.debug(\"Bokeh: all callbacks have finished\");\n  }\n\n  function load_libs(css_urls, js_urls, callback) {\n    if (css_urls == null) css_urls = [];\n    if (js_urls == null) js_urls = [];\n\n    root._bokeh_onload_callbacks.push(callback);\n    if (root._bokeh_is_loading > 0) {\n      console.debug(\"Bokeh: BokehJS is being loaded, scheduling callback at\", now());\n      return null;\n    }\n    if (js_urls == null || js_urls.length === 0) {\n      run_callbacks();\n      return null;\n    }\n    console.debug(\"Bokeh: BokehJS not loaded, scheduling load and callback at\", now());\n    root._bokeh_is_loading = css_urls.length + js_urls.length;\n\n    function on_load() {\n      root._bokeh_is_loading--;\n      if (root._bokeh_is_loading === 0) {\n        console.debug(\"Bokeh: all BokehJS libraries/stylesheets loaded\");\n        run_callbacks()\n      }\n    }\n\n    function on_error(url) {\n      console.error(\"failed to load \" + url);\n    }\n\n    for (let i = 0; i < css_urls.length; i++) {\n      const url = css_urls[i];\n      const element = document.createElement(\"link\");\n      element.onload = on_load;\n      element.onerror = on_error.bind(null, url);\n      element.rel = \"stylesheet\";\n      element.type = \"text/css\";\n      element.href = url;\n      console.debug(\"Bokeh: injecting link tag for BokehJS stylesheet: \", url);\n      document.body.appendChild(element);\n    }\n\n    for (let i = 0; i < js_urls.length; i++) {\n      const url = js_urls[i];\n      const element = document.createElement('script');\n      element.onload = on_load;\n      element.onerror = on_error.bind(null, url);\n      element.async = false;\n      element.src = url;\n      console.debug(\"Bokeh: injecting script tag for BokehJS library: \", url);\n      document.head.appendChild(element);\n    }\n  };\n\n  function inject_raw_css(css) {\n    const element = document.createElement(\"style\");\n    element.appendChild(document.createTextNode(css));\n    document.body.appendChild(element);\n  }\n\n  const js_urls = [\"https://cdn.bokeh.org/bokeh/release/bokeh-3.7.3.min.js\", \"https://cdn.bokeh.org/bokeh/release/bokeh-gl-3.7.3.min.js\", \"https://cdn.bokeh.org/bokeh/release/bokeh-widgets-3.7.3.min.js\", \"https://cdn.bokeh.org/bokeh/release/bokeh-tables-3.7.3.min.js\", \"https://cdn.bokeh.org/bokeh/release/bokeh-mathjax-3.7.3.min.js\"];\n  const css_urls = [];\n\n  const inline_js = [    function(Bokeh) {\n      Bokeh.set_log_level(\"info\");\n    },\nfunction(Bokeh) {\n    }\n  ];\n\n  function run_inline_js() {\n    if (root.Bokeh !== undefined || force === true) {\n      try {\n            for (let i = 0; i < inline_js.length; i++) {\n      inline_js[i].call(root, root.Bokeh);\n    }\n\n      } catch (error) {display_loaded(error);throw error;\n      }if (force === true) {\n        display_loaded();\n      }} else if (Date.now() < root._bokeh_timeout) {\n      setTimeout(run_inline_js, 100);\n    } else if (!root._bokeh_failed_load) {\n      console.log(\"Bokeh: BokehJS failed to load within specified timeout.\");\n      root._bokeh_failed_load = true;\n    } else if (force !== true) {\n      const cell = $(document.getElementById(\"aa45bfe2-1acd-46fa-8440-f332bce3491f\")).parents('.cell').data().cell;\n      cell.output_area.append_execute_result(NB_LOAD_WARNING)\n    }\n  }\n\n  if (root._bokeh_is_loading === 0) {\n    console.debug(\"Bokeh: BokehJS loaded, going straight to plotting\");\n    run_inline_js();\n  } else {\n    load_libs(css_urls, js_urls, function() {\n      console.debug(\"Bokeh: BokehJS plotting callback run at\", now());\n      run_inline_js();\n    });\n  }\n}(window));"
     },
     "metadata": {},
     "output_type": "display_data"
    }
   ],
   "source": [
    "import pandas as pd\n",
    "import numpy as np\n",
    "#import plotly.graph_objects as go\n",
    "#import yfinance as yf\n",
    "import talib as ta\n",
    "#import matplotlib.pyplot as plt\n",
    "#import math\n",
    "from datetime import date, timedelta\n",
    "from scipy import stats\n",
    "from scipy.signal import argrelextrema\n",
    "from bokeh.plotting import figure, show, column\n",
    "from sklearn.linear_model import LinearRegression\n",
    "import os\n",
    "from backtesting import Backtest, Strategy"
   ]
  },
  {
   "cell_type": "code",
   "execution_count": 2,
   "id": "a046199b-ac4b-417e-945e-dc76d7dfda09",
   "metadata": {
    "execution": {
     "iopub.execute_input": "2025-07-08T22:50:31.625167Z",
     "iopub.status.busy": "2025-07-08T22:50:31.624742Z",
     "iopub.status.idle": "2025-07-08T22:50:31.732093Z",
     "shell.execute_reply": "2025-07-08T22:50:31.731443Z"
    },
    "papermill": {
     "duration": 0.113733,
     "end_time": "2025-07-08T22:50:31.733242",
     "exception": false,
     "start_time": "2025-07-08T22:50:31.619509",
     "status": "completed"
    },
    "tags": []
   },
   "outputs": [],
   "source": [
    "df_d = pd.read_csv('data/dataxd.txt', sep=\"\\t\")\n",
    "df_h=pd.read_csv('data/dataxh.txt',sep='\\t')\n",
    "\n",
    "tickers = [\n",
    "    'SPY',\n",
    "    'META',\n",
    "    'AAPL',\n",
    "    'AMZN',\n",
    "    'NFLX',\n",
    "    'MRNA',\n",
    "    'TSLA',\n",
    "    'TNA',\n",
    "    'GLD',\n",
    "    'SLV',\n",
    "    'USO',\n",
    "    'BAC',\n",
    "    'CVX',\n",
    "    'XOM',\n",
    "    'QQQ',\n",
    "    'MSFT',\n",
    "    'NVDA',\n",
    "    'WMT',\n",
    "    'BA',\n",
    "    'DIS',\n",
    "    'CAT',\n",
    "    'IBM',\n",
    "    'WFC',\n",
    "    'PLTR',\n",
    "    'AMD',\n",
    "    'AVGO',\n",
    "    'HOOD',\n",
    "    'CRWV',\n",
    "    'MSTR',\n",
    "    'UNH',\n",
    "    'GOOG',\n",
    "    'APP',\n",
    "    'UBER'\n",
    "]"
   ]
  },
  {
   "cell_type": "code",
   "execution_count": 3,
   "id": "ed45af73-58d0-42dd-87bc-cc71a71ea72a",
   "metadata": {
    "execution": {
     "iopub.execute_input": "2025-07-08T22:50:31.743914Z",
     "iopub.status.busy": "2025-07-08T22:50:31.743563Z",
     "iopub.status.idle": "2025-07-08T22:50:31.937019Z",
     "shell.execute_reply": "2025-07-08T22:50:31.936357Z"
    },
    "papermill": {
     "duration": 0.199715,
     "end_time": "2025-07-08T22:50:31.938076",
     "exception": false,
     "start_time": "2025-07-08T22:50:31.738361",
     "status": "completed"
    },
    "tags": []
   },
   "outputs": [],
   "source": [
    "df_d=df_d.rename(columns={'datetime': 'fecha'})\n",
    "df_d['fecha'] = pd.to_datetime(df_d['fecha'])\n",
    "df_dia = pd.DataFrame()\n",
    "for ticker in tickers:\n",
    "    company = df_d.query(\"companyName==@ticker\").copy()\n",
    "    company.sort_values(by=['fecha'])\n",
    "    company['SMA20'] = company['Close'].rolling(20).mean()\n",
    "    company.dropna(inplace=False)\n",
    "    company['SMA40'] = company['Close'].rolling(40).mean()\n",
    "    company.dropna(inplace=False)\n",
    "    company['SMA100'] = company['Close'].rolling(100).mean()\n",
    "    company.dropna(inplace=False)\n",
    "    company['SMA200'] = company['Close'].rolling(200).mean()\n",
    "    company.dropna(inplace=False)\n",
    "    df_dia = pd.concat([df_dia, company],ignore_index=True)"
   ]
  },
  {
   "cell_type": "code",
   "execution_count": 4,
   "id": "35daec33-1b08-4593-a4f8-6182e0c84683",
   "metadata": {
    "execution": {
     "iopub.execute_input": "2025-07-08T22:50:31.948712Z",
     "iopub.status.busy": "2025-07-08T22:50:31.948324Z",
     "iopub.status.idle": "2025-07-08T22:50:32.342505Z",
     "shell.execute_reply": "2025-07-08T22:50:32.341848Z"
    },
    "papermill": {
     "duration": 0.400565,
     "end_time": "2025-07-08T22:50:32.343652",
     "exception": false,
     "start_time": "2025-07-08T22:50:31.943087",
     "status": "completed"
    },
    "tags": []
   },
   "outputs": [],
   "source": [
    "df_h['datetime'] = pd.to_datetime(df_h['datetime'])\n",
    "df_h[\"fecha\"] = pd.to_datetime(df_h[\"datetime\"].dt.date)\n",
    "df_hora = pd.DataFrame()\n",
    "for ticker in tickers:\n",
    "    company = df_h.query(\"companyName==@ticker\").copy()\n",
    "    company.sort_values(by=['datetime'])\n",
    "    company['SMA20'] = company['Close'].rolling(20).mean()\n",
    "    company.dropna(inplace=False)\n",
    "    company['SMA40'] = company['Close'].rolling(40).mean()\n",
    "    company.dropna(inplace=False)\n",
    "    company['SMA100'] = company['Close'].rolling(100).mean()\n",
    "    company.dropna(inplace=False)\n",
    "    company['SMA200'] = company['Close'].rolling(200).mean()\n",
    "    company.dropna(inplace=False)\n",
    "    df_hora = pd.concat([df_hora, company],ignore_index=True)"
   ]
  },
  {
   "cell_type": "markdown",
   "id": "209deb1a-7d45-4219-973a-7ffb4799b6fb",
   "metadata": {
    "papermill": {
     "duration": 0.004628,
     "end_time": "2025-07-08T22:50:32.353352",
     "exception": false,
     "start_time": "2025-07-08T22:50:32.348724",
     "status": "completed"
    },
    "tags": []
   },
   "source": [
    "#### Detect Pivots/Fractals"
   ]
  },
  {
   "cell_type": "code",
   "execution_count": 5,
   "id": "9a310f39-0bd7-4343-8d3f-a1dfbd780e53",
   "metadata": {
    "execution": {
     "iopub.execute_input": "2025-07-08T22:50:32.363320Z",
     "iopub.status.busy": "2025-07-08T22:50:32.363119Z",
     "iopub.status.idle": "2025-07-08T22:50:32.411930Z",
     "shell.execute_reply": "2025-07-08T22:50:32.411453Z"
    },
    "papermill": {
     "duration": 0.054951,
     "end_time": "2025-07-08T22:50:32.412876",
     "exception": false,
     "start_time": "2025-07-08T22:50:32.357925",
     "status": "completed"
    },
    "tags": []
   },
   "outputs": [],
   "source": [
    "ord=17\n",
    "max_idx1 = argrelextrema(df_dia['Close'].values, np.greater, order=ord)[0]\n",
    "min_idx1 = argrelextrema(df_dia['Close'].values, np.less, order=ord)[0]\n",
    "# Aplicar el cálculo solo a los índices en la lista\n",
    "df_dia.loc[max_idx1, 'pivotHigh'] = df_dia['High']+1e-3\n",
    "df_dia.loc[min_idx1, 'pivotLow'] = df_dia['Low']-(1e-3)\n",
    "df_dia.loc[max_idx1, 'isPivot'] = 1\n",
    "df_dia.loc[min_idx1, 'isPivot'] = 2\n",
    "\n",
    "#HORA\n",
    "max_idx2 = argrelextrema(df_hora['Close'].values, np.greater, order=ord)[0]\n",
    "min_idx2 = argrelextrema(df_hora['Close'].values, np.less, order=ord)[0]\n",
    "# Aplicar el cálculo solo a los índices en la lista\n",
    "df_hora.loc[max_idx2, 'pivotHigh'] = df_hora['High']+1e-3\n",
    "df_hora.loc[min_idx2, 'pivotLow'] = df_hora['Low']-(1e-3)\n",
    "df_hora.loc[max_idx2, 'isPivot'] = 1\n",
    "df_hora.loc[min_idx2, 'isPivot'] = 2"
   ]
  },
  {
   "cell_type": "code",
   "execution_count": 6,
   "id": "f65fb96a-eb92-4fb7-8adf-a6104b87e42e",
   "metadata": {
    "execution": {
     "iopub.execute_input": "2025-07-08T22:50:32.423140Z",
     "iopub.status.busy": "2025-07-08T22:50:32.422919Z",
     "iopub.status.idle": "2025-07-08T22:50:32.428982Z",
     "shell.execute_reply": "2025-07-08T22:50:32.428489Z"
    },
    "papermill": {
     "duration": 0.012095,
     "end_time": "2025-07-08T22:50:32.429819",
     "exception": false,
     "start_time": "2025-07-08T22:50:32.417724",
     "status": "completed"
    },
    "tags": []
   },
   "outputs": [
    {
     "data": {
      "text/plain": [
       "' dfpl = df_dia.iloc[0:150]\\n\\np = figure(width=2500, height=500,\\n        title=\"DIA\",\\n        background_fill_color=\"#efefef\",\\n        tooltips=[(\"Index\", \"@index\"), (\"Open\", \"@Open\"), (\"High\",\"@High\"), (\"Low\",\"@Low\"), (\"Close\",\"@Close\")]\\n        )\\np.xaxis.major_label_orientation = 0.8 # radians\\np.x_range.range_padding = 0.05\\np.xaxis.axis_line_width = 2\\n\\np.segment(\"index\", \"High\", \"index\",\"Low\",  color=\"black\", line_width=1, source=dfpl)\\n\\ninc = dfpl.query(\"Close>Open\")\\ndec = dfpl.query(\"Open>Close\")\\n\\np.vbar(    \\n    x=\"index\",\\n    width=0.6,\\n    bottom=\"Open\",\\n    top=\"Close\",\\n    fill_color=\"red\",\\n    line_color=\"red\",    \\n    source=dec   \\n)\\n\\np.vbar(    \\n    x=\"index\",\\n    width=0.6,\\n    bottom=\"Open\",\\n    top=\"Close\",\\n    fill_color=\"green\",\\n    line_color=\"green\", \\n    source=inc   \\n)\\n\\np.scatter(x=\"index\", y=\"pivotHigh\", marker=\"circle\", size=10,\\n           line_color=\"navy\", fill_color=\"blue\", alpha=0.5, legend_label=\"Cambio Tendencia Bajista\", source=dfpl[(dfpl.isPivot==1)])\\n\\np.scatter(x=\"index\", y=\"pivotLow\", marker=\"circle\", size=10,\\n           line_color=\"navy\", fill_color=\"green\", alpha=0.5, legend_label=\"Cambio Tendencia Alcista\", source=dfpl[(dfpl.isPivot==2)])\\n\\nshow(p) '"
      ]
     },
     "execution_count": 6,
     "metadata": {},
     "output_type": "execute_result"
    }
   ],
   "source": [
    "#CODIGO DE REVISION DIA\n",
    "\"\"\" dfpl = df_dia.iloc[0:150]\n",
    "\n",
    "p = figure(width=2500, height=500,\n",
    "        title=\"DIA\",\n",
    "        background_fill_color=\"#efefef\",\n",
    "        tooltips=[(\"Index\", \"@index\"), (\"Open\", \"@Open\"), (\"High\",\"@High\"), (\"Low\",\"@Low\"), (\"Close\",\"@Close\")]\n",
    "        )\n",
    "p.xaxis.major_label_orientation = 0.8 # radians\n",
    "p.x_range.range_padding = 0.05\n",
    "p.xaxis.axis_line_width = 2\n",
    "\n",
    "p.segment(\"index\", \"High\", \"index\",\"Low\",  color=\"black\", line_width=1, source=dfpl)\n",
    "\n",
    "inc = dfpl.query(\"Close>Open\")\n",
    "dec = dfpl.query(\"Open>Close\")\n",
    "\n",
    "p.vbar(    \n",
    "    x=\"index\",\n",
    "    width=0.6,\n",
    "    bottom=\"Open\",\n",
    "    top=\"Close\",\n",
    "    fill_color=\"red\",\n",
    "    line_color=\"red\",    \n",
    "    source=dec   \n",
    ")\n",
    "\n",
    "p.vbar(    \n",
    "    x=\"index\",\n",
    "    width=0.6,\n",
    "    bottom=\"Open\",\n",
    "    top=\"Close\",\n",
    "    fill_color=\"green\",\n",
    "    line_color=\"green\", \n",
    "    source=inc   \n",
    ")\n",
    "\n",
    "p.scatter(x=\"index\", y=\"pivotHigh\", marker=\"circle\", size=10,\n",
    "           line_color=\"navy\", fill_color=\"blue\", alpha=0.5, legend_label=\"Cambio Tendencia Bajista\", source=dfpl[(dfpl.isPivot==1)])\n",
    "\n",
    "p.scatter(x=\"index\", y=\"pivotLow\", marker=\"circle\", size=10,\n",
    "           line_color=\"navy\", fill_color=\"green\", alpha=0.5, legend_label=\"Cambio Tendencia Alcista\", source=dfpl[(dfpl.isPivot==2)])\n",
    "\n",
    "show(p) \"\"\""
   ]
  },
  {
   "cell_type": "code",
   "execution_count": 7,
   "id": "c35d4b24-1446-4885-b99b-852e121f7e3e",
   "metadata": {
    "execution": {
     "iopub.execute_input": "2025-07-08T22:50:32.440566Z",
     "iopub.status.busy": "2025-07-08T22:50:32.440221Z",
     "iopub.status.idle": "2025-07-08T22:50:32.444297Z",
     "shell.execute_reply": "2025-07-08T22:50:32.443815Z"
    },
    "papermill": {
     "duration": 0.010226,
     "end_time": "2025-07-08T22:50:32.445140",
     "exception": false,
     "start_time": "2025-07-08T22:50:32.434914",
     "status": "completed"
    },
    "tags": []
   },
   "outputs": [
    {
     "data": {
      "text/plain": [
       "' dfpl = df_hora.iloc[0:150]\\n\\np = figure(width=2500, height=500,\\n        title=\"HORA\",\\n        background_fill_color=\"#efefef\",\\n        tooltips=[(\"Index\", \"@index\"), (\"Open\", \"@Open\"), (\"High\",\"@High\"), (\"Low\",\"@Low\"), (\"Close\",\"@Close\")]\\n        )\\np.xaxis.major_label_orientation = 0.8 # radians\\np.x_range.range_padding = 0.05\\np.xaxis.axis_line_width = 2\\n\\np.segment(\"index\", \"High\", \"index\",\"Low\",  color=\"black\", line_width=1, source=dfpl)\\n\\ninc = dfpl.query(\"Close>Open\")\\ndec = dfpl.query(\"Open>Close\")\\n\\np.vbar(    \\n    x=\"index\",\\n    width=0.6,\\n    bottom=\"Open\",\\n    top=\"Close\",\\n    fill_color=\"red\",\\n    line_color=\"red\",    \\n    source=dec   \\n)\\n\\n\\np.vbar(    \\n    x=\"index\",\\n    width=0.6,\\n    bottom=\"Open\",\\n    top=\"Close\",\\n    fill_color=\"green\",\\n    line_color=\"green\", \\n    source=inc   \\n)\\n\\np.scatter(x=\"index\", y=\"pivotHigh\", marker=\"circle\", size=10,\\n           line_color=\"navy\", fill_color=\"blue\", alpha=0.5, legend_label=\"Cambio Tendencia Bajista\", source=dfpl[(dfpl.isPivot==1)])\\n\\np.scatter(x=\"index\", y=\"pivotLow\", marker=\"circle\", size=10,\\n           line_color=\"navy\", fill_color=\"green\", alpha=0.5, legend_label=\"Cambio Tendencia Alcista\", source=dfpl[(dfpl.isPivot==2)])\\n\\nshow(p) '"
      ]
     },
     "execution_count": 7,
     "metadata": {},
     "output_type": "execute_result"
    }
   ],
   "source": [
    "#CODIGO DE REVISION HORA\n",
    "\"\"\" dfpl = df_hora.iloc[0:150]\n",
    "\n",
    "p = figure(width=2500, height=500,\n",
    "        title=\"HORA\",\n",
    "        background_fill_color=\"#efefef\",\n",
    "        tooltips=[(\"Index\", \"@index\"), (\"Open\", \"@Open\"), (\"High\",\"@High\"), (\"Low\",\"@Low\"), (\"Close\",\"@Close\")]\n",
    "        )\n",
    "p.xaxis.major_label_orientation = 0.8 # radians\n",
    "p.x_range.range_padding = 0.05\n",
    "p.xaxis.axis_line_width = 2\n",
    "\n",
    "p.segment(\"index\", \"High\", \"index\",\"Low\",  color=\"black\", line_width=1, source=dfpl)\n",
    "\n",
    "inc = dfpl.query(\"Close>Open\")\n",
    "dec = dfpl.query(\"Open>Close\")\n",
    "\n",
    "p.vbar(    \n",
    "    x=\"index\",\n",
    "    width=0.6,\n",
    "    bottom=\"Open\",\n",
    "    top=\"Close\",\n",
    "    fill_color=\"red\",\n",
    "    line_color=\"red\",    \n",
    "    source=dec   \n",
    ")\n",
    "\n",
    "\n",
    "p.vbar(    \n",
    "    x=\"index\",\n",
    "    width=0.6,\n",
    "    bottom=\"Open\",\n",
    "    top=\"Close\",\n",
    "    fill_color=\"green\",\n",
    "    line_color=\"green\", \n",
    "    source=inc   \n",
    ")\n",
    "\n",
    "p.scatter(x=\"index\", y=\"pivotHigh\", marker=\"circle\", size=10,\n",
    "           line_color=\"navy\", fill_color=\"blue\", alpha=0.5, legend_label=\"Cambio Tendencia Bajista\", source=dfpl[(dfpl.isPivot==1)])\n",
    "\n",
    "p.scatter(x=\"index\", y=\"pivotLow\", marker=\"circle\", size=10,\n",
    "           line_color=\"navy\", fill_color=\"green\", alpha=0.5, legend_label=\"Cambio Tendencia Alcista\", source=dfpl[(dfpl.isPivot==2)])\n",
    "\n",
    "show(p) \"\"\""
   ]
  },
  {
   "cell_type": "code",
   "execution_count": 8,
   "id": "e0161c5f-b811-4bdf-9a52-dcaedf61980e",
   "metadata": {
    "execution": {
     "iopub.execute_input": "2025-07-08T22:50:32.456086Z",
     "iopub.status.busy": "2025-07-08T22:50:32.455666Z",
     "iopub.status.idle": "2025-07-08T22:50:32.806105Z",
     "shell.execute_reply": "2025-07-08T22:50:32.805500Z"
    },
    "papermill": {
     "duration": 0.356968,
     "end_time": "2025-07-08T22:50:32.807209",
     "exception": false,
     "start_time": "2025-07-08T22:50:32.450241",
     "status": "completed"
    },
    "tags": []
   },
   "outputs": [],
   "source": [
    "## cerca a PM100 o PM200 en diario o el PM20 bajo el PM40\n",
    "def zonabarata(df_dia):\n",
    "    if ((df_dia['isPivot']==2) & ((( df_dia['SMA100']-df_dia['Low']<=2 ) | ( df_dia['SMA200']-df_dia['Low']<=2 )) | (df_dia['SMA20']<df_dia['SMA40']) ) ):    \n",
    "        return 1\n",
    "    else:\n",
    "        return 0\n",
    "df_dia['zbarata'] = df_dia.apply(zonabarata, axis=1)"
   ]
  },
  {
   "cell_type": "code",
   "execution_count": 9,
   "id": "91f41893-8197-48b3-8a91-9780afe8a588",
   "metadata": {
    "execution": {
     "iopub.execute_input": "2025-07-08T22:50:32.818146Z",
     "iopub.status.busy": "2025-07-08T22:50:32.817764Z",
     "iopub.status.idle": "2025-07-08T22:50:32.841360Z",
     "shell.execute_reply": "2025-07-08T22:50:32.840811Z"
    },
    "papermill": {
     "duration": 0.030037,
     "end_time": "2025-07-08T22:50:32.842428",
     "exception": false,
     "start_time": "2025-07-08T22:50:32.812391",
     "status": "completed"
    },
    "tags": []
   },
   "outputs": [],
   "source": [
    "df_hora_final = pd.merge(df_hora, df_dia[['fecha','companyName', 'zbarata']], on = ['companyName','fecha'], how='left')"
   ]
  },
  {
   "cell_type": "code",
   "execution_count": 10,
   "id": "0199ac42",
   "metadata": {
    "execution": {
     "iopub.execute_input": "2025-07-08T22:50:32.853388Z",
     "iopub.status.busy": "2025-07-08T22:50:32.853195Z",
     "iopub.status.idle": "2025-07-08T22:50:32.856340Z",
     "shell.execute_reply": "2025-07-08T22:50:32.855739Z"
    },
    "papermill": {
     "duration": 0.009483,
     "end_time": "2025-07-08T22:50:32.857237",
     "exception": false,
     "start_time": "2025-07-08T22:50:32.847754",
     "status": "completed"
    },
    "tags": []
   },
   "outputs": [],
   "source": [
    "hoy =  np.datetime64('today')\n",
    "fecha_menos_15 = hoy -  np.timedelta64(15, 'D')"
   ]
  },
  {
   "cell_type": "code",
   "execution_count": 11,
   "id": "1a9e8403",
   "metadata": {
    "execution": {
     "iopub.execute_input": "2025-07-08T22:50:32.868101Z",
     "iopub.status.busy": "2025-07-08T22:50:32.867716Z",
     "iopub.status.idle": "2025-07-08T22:50:32.871371Z",
     "shell.execute_reply": "2025-07-08T22:50:32.870908Z"
    },
    "papermill": {
     "duration": 0.009918,
     "end_time": "2025-07-08T22:50:32.872211",
     "exception": false,
     "start_time": "2025-07-08T22:50:32.862293",
     "status": "completed"
    },
    "tags": []
   },
   "outputs": [],
   "source": [
    "df_hora_final[\"datetime2\"] = df_hora_final[\"datetime\"].dt.tz_localize(None)"
   ]
  },
  {
   "cell_type": "code",
   "execution_count": 12,
   "id": "517602b2-5dd0-4fff-9b48-18fa351c0bc8",
   "metadata": {
    "execution": {
     "iopub.execute_input": "2025-07-08T22:50:32.882683Z",
     "iopub.status.busy": "2025-07-08T22:50:32.882514Z",
     "iopub.status.idle": "2025-07-08T22:50:34.667981Z",
     "shell.execute_reply": "2025-07-08T22:50:34.667388Z"
    },
    "papermill": {
     "duration": 1.791938,
     "end_time": "2025-07-08T22:50:34.669089",
     "exception": false,
     "start_time": "2025-07-08T22:50:32.877151",
     "status": "completed"
    },
    "tags": []
   },
   "outputs": [],
   "source": [
    "def pga(df_hora_final):\n",
    "    hoy =  np.datetime64('today')\n",
    "    fecha_menos_15 = hoy -  np.timedelta64(15, 'D')\n",
    "    if ((df_hora_final['zbarata']==1) & (df_hora_final['isPivot']==2) & (df_hora_final[\"datetime2\"]>=fecha_menos_15)):\n",
    "        return 1\n",
    "    else:\n",
    "        return 0\n",
    "df_hora_final['pfuerte'] = df_hora_final.apply(pga, axis=1)"
   ]
  },
  {
   "cell_type": "code",
   "execution_count": 13,
   "id": "91c48d4c-a1a6-4e6e-9624-58cff7dd47cc",
   "metadata": {
    "execution": {
     "iopub.execute_input": "2025-07-08T22:50:34.680235Z",
     "iopub.status.busy": "2025-07-08T22:50:34.680041Z",
     "iopub.status.idle": "2025-07-08T22:50:34.683660Z",
     "shell.execute_reply": "2025-07-08T22:50:34.683091Z"
    },
    "papermill": {
     "duration": 0.010055,
     "end_time": "2025-07-08T22:50:34.684493",
     "exception": false,
     "start_time": "2025-07-08T22:50:34.674438",
     "status": "completed"
    },
    "tags": []
   },
   "outputs": [],
   "source": [
    "#vela verde\n",
    "df_hora_final['Vela_Verde'] = df_hora_final['Close'] > df_hora_final['Open']"
   ]
  },
  {
   "cell_type": "code",
   "execution_count": 14,
   "id": "92d002a2",
   "metadata": {
    "execution": {
     "iopub.execute_input": "2025-07-08T22:50:34.695564Z",
     "iopub.status.busy": "2025-07-08T22:50:34.695182Z",
     "iopub.status.idle": "2025-07-08T22:50:34.701991Z",
     "shell.execute_reply": "2025-07-08T22:50:34.701459Z"
    },
    "papermill": {
     "duration": 0.013214,
     "end_time": "2025-07-08T22:50:34.702857",
     "exception": false,
     "start_time": "2025-07-08T22:50:34.689643",
     "status": "completed"
    },
    "tags": []
   },
   "outputs": [],
   "source": [
    "# Eliminar la columna 'datetime2'\n",
    "df_hora_final = df_hora_final.drop('datetime2', axis=1)"
   ]
  },
  {
   "cell_type": "markdown",
   "id": "82b140a2-360e-48c2-96cc-74db7be4ce7b",
   "metadata": {
    "papermill": {
     "duration": 0.004987,
     "end_time": "2025-07-08T22:50:34.713213",
     "exception": false,
     "start_time": "2025-07-08T22:50:34.708226",
     "status": "completed"
    },
    "tags": []
   },
   "source": [
    "### Detect Price Channel"
   ]
  },
  {
   "cell_type": "code",
   "execution_count": 15,
   "id": "3f795429-366f-462c-b9d1-165ce5438e70",
   "metadata": {
    "execution": {
     "iopub.execute_input": "2025-07-08T22:50:34.724488Z",
     "iopub.status.busy": "2025-07-08T22:50:34.724014Z",
     "iopub.status.idle": "2025-07-08T22:50:34.727794Z",
     "shell.execute_reply": "2025-07-08T22:50:34.727309Z"
    },
    "papermill": {
     "duration": 0.010355,
     "end_time": "2025-07-08T22:50:34.728616",
     "exception": false,
     "start_time": "2025-07-08T22:50:34.718261",
     "status": "completed"
    },
    "tags": []
   },
   "outputs": [],
   "source": [
    "def collect_channel(candle, backevalTrend, trendH):\n",
    "\n",
    "    localdf = dfpl.loc[candle-backevalTrend:candle] #tomar en cuenta el backcandles\n",
    "    highs = localdf.loc[localdf.index.isin(trendH)].High.values\n",
    "    idxhighs = localdf.loc[localdf.index.isin(trendH)].High.index\n",
    "    \n",
    "    if len(highs)>=2:\n",
    "        sl_highs, interc_highs, r_value_h, _, _ = stats.linregress(idxhighs,highs)    \n",
    "        return(sl_highs, interc_highs, r_value_h**2)\n",
    "    else:\n",
    "        return(0,0,0)"
   ]
  },
  {
   "cell_type": "code",
   "execution_count": 16,
   "id": "2ee188de-64f6-4d42-9615-b4255e6612f3",
   "metadata": {
    "execution": {
     "iopub.execute_input": "2025-07-08T22:50:34.739698Z",
     "iopub.status.busy": "2025-07-08T22:50:34.739335Z",
     "iopub.status.idle": "2025-07-08T22:50:34.745751Z",
     "shell.execute_reply": "2025-07-08T22:50:34.745278Z"
    },
    "papermill": {
     "duration": 0.012863,
     "end_time": "2025-07-08T22:50:34.746639",
     "exception": false,
     "start_time": "2025-07-08T22:50:34.733776",
     "status": "completed"
    },
    "tags": []
   },
   "outputs": [],
   "source": [
    "def backcandle(candle):\n",
    "    \n",
    "    trendH = []\n",
    "    backeval = 0\n",
    "    val = 0\n",
    "    \n",
    "    dfpl['PM40_PM20'] = dfpl['SMA40']-dfpl['SMA20']\n",
    "    idinicial = dfpl.index[0]\n",
    "    velas = candle - idinicial\n",
    "    \n",
    "    if(dfpl.loc[candle,\"PM40_PM20\"]>0):        \n",
    "        idx_negativo = dfpl.loc[:candle, 'PM40_PM20'][::-1].lt(0).idxmax()\n",
    "        #print(\"hito1\")\n",
    "        if (idx_negativo==candle):\n",
    "            backeval = candle - velas\n",
    "        else:\n",
    "            backeval = idx_negativo - 4\n",
    "    #print(\"hito2\")\n",
    "  \n",
    "    val = candle - backeval\n",
    "    \n",
    "    #print(\"hito3\")\n",
    "    #print(\"idx_negativo:\",idx_negativo)\n",
    "    \n",
    "    if(val>velas):\n",
    "        backeval=candle-velas\n",
    "    #print(\"hito4\")\n",
    "\n",
    "    #print(\"backeval:\",backeval)\n",
    "        \n",
    "    if((dfpl.loc[backeval,\"PM40_PM20\"]>0) & (val<velas)):\n",
    "        idx_negativo = dfpl.loc[:backeval, 'PM40_PM20'][::-1].lt(0).idxmax()\n",
    "        backeval = idx_negativo - 4    \n",
    "    #print(\"hito5\")\n",
    "\n",
    "    if val>velas:\n",
    "        backeval=candle-velas\n",
    "        \n",
    "    #print(\"hito6\")\n",
    "\n",
    "    #ini = candle - backeval\n",
    "    ini = backeval\n",
    "    trendprev=dfpl.loc[ini:candle]\n",
    "    trend = trendprev.reset_index(drop=False)\n",
    "\n",
    "    idxhighs = trend.index.to_numpy().reshape(-1,1) # Convertir X a una matriz 2D\n",
    "    highs = trend.High.values\n",
    "    modelo1 = LinearRegression()\n",
    "    modelo1.fit(idxhighs, highs)\n",
    "    # Obtener la predicción de la línea de regresión\n",
    "    Y_pred = modelo1.predict(idxhighs)\n",
    "    # Calcular la distancia solo de los puntos que están POR ENCIMA de la línea\n",
    "    trend['Distancia'] = trend[\"High\"] - Y_pred  # Diferencia entre el valor real y la predicción\n",
    "    # Filtrar los puntos que están por encima (donde Y > Y_pred, es decir, Distancia > 0)\n",
    "    df_encima = trend[trend['Distancia'] > 0]\n",
    "    puntos_mas_lejanos = df_encima.nlargest(2, 'Distancia')   #2 puntos mas lejanos    \n",
    "    trendH = puntos_mas_lejanos[\"index\"].tolist()\n",
    "    \n",
    "    puntos_mas_lejanos2 = trend.tail(10).nlargest(2, 'Distancia')\n",
    "    trendH2 = puntos_mas_lejanos2[\"index\"].tolist()\n",
    "    \n",
    "    trendH.extend(trendH2)\n",
    "    trendH.append(candle)  #add ultimo candle\n",
    "    #print(trendH)\n",
    "    return trendH, backeval"
   ]
  },
  {
   "cell_type": "markdown",
   "id": "2fd5556c-2df4-4dec-9391-5bd8757ced2c",
   "metadata": {
    "papermill": {
     "duration": 0.004968,
     "end_time": "2025-07-08T22:50:34.756750",
     "exception": false,
     "start_time": "2025-07-08T22:50:34.751782",
     "status": "completed"
    },
    "tags": []
   },
   "source": [
    "### Detect Break Out"
   ]
  },
  {
   "cell_type": "code",
   "execution_count": 17,
   "id": "9768d05b-6e13-4ce1-a46f-ba7009590045",
   "metadata": {
    "execution": {
     "iopub.execute_input": "2025-07-08T22:50:34.767692Z",
     "iopub.status.busy": "2025-07-08T22:50:34.767335Z",
     "iopub.status.idle": "2025-07-08T22:50:34.770772Z",
     "shell.execute_reply": "2025-07-08T22:50:34.770296Z"
    },
    "papermill": {
     "duration": 0.009819,
     "end_time": "2025-07-08T22:50:34.771622",
     "exception": false,
     "start_time": "2025-07-08T22:50:34.761803",
     "status": "completed"
    },
    "tags": []
   },
   "outputs": [],
   "source": [
    "def trendChannel(row,candle, backeval, window, sl_highs, interc_highs):\n",
    "\n",
    "    if (candle-backeval-window)<0:\n",
    "        return np.nan\n",
    "    ini=candle-backeval\n",
    "    fin=candle+window\n",
    "    trendcurrhigh = np.where(np.logical_or((row.index > fin),  (row.index <  ini)), np.nan, (sl_highs*row.index + interc_highs))\n",
    "    return trendcurrhigh"
   ]
  },
  {
   "cell_type": "code",
   "execution_count": 18,
   "id": "247fab76-8866-4388-890f-37f154b4a4e1",
   "metadata": {
    "execution": {
     "iopub.execute_input": "2025-07-08T22:50:34.783028Z",
     "iopub.status.busy": "2025-07-08T22:50:34.782789Z",
     "iopub.status.idle": "2025-07-08T22:50:34.787801Z",
     "shell.execute_reply": "2025-07-08T22:50:34.787199Z"
    },
    "papermill": {
     "duration": 0.011744,
     "end_time": "2025-07-08T22:50:34.788726",
     "exception": false,
     "start_time": "2025-07-08T22:50:34.776982",
     "status": "completed"
    },
    "tags": []
   },
   "outputs": [],
   "source": [
    "def isBreakOut(candleEval,backcandles, window, start, candle):\n",
    "    if (candleEval-backcandles-window)<0:\n",
    "        return 0\n",
    "\n",
    "    if candleEval==start:\n",
    "        prev_idx = candleEval\n",
    "    else:\n",
    "        prev_idx = candleEval-1\n",
    "        \n",
    "    prev_high = dfpl.loc[prev_idx].High\n",
    "    prev_low = dfpl.loc[prev_idx].Low\n",
    "    prev_close = dfpl.loc[prev_idx].Close\n",
    "    \n",
    "    curr_idx = candleEval\n",
    "    curr_high = dfpl.loc[candleEval].High\n",
    "    curr_low = dfpl.loc[candleEval].Low\n",
    "    curr_close = dfpl.loc[candleEval].Close\n",
    "    curr_open = dfpl.loc[candleEval].Open\n",
    "\n",
    "    trend_prevhigh=dfpl.loc[prev_idx].trendcurrhigh\n",
    "\n",
    "    trend_currhigh=dfpl.loc[candleEval].trendcurrhigh\n",
    "    \n",
    "    if ( prev_low < trend_prevhigh and\n",
    "        prev_close > trend_prevhigh and\n",
    "        curr_open > trend_currhigh and\n",
    "        curr_close > trend_currhigh and\n",
    "        candleEval>candle): #and r_sq_h > 0.9\n",
    "        return 2\n",
    "\n",
    "    elif (curr_open > trend_currhigh and\n",
    "        curr_close > trend_currhigh and candleEval>candle):\n",
    "        return 3\n",
    "    \n",
    "    else:\n",
    "        return np.nan"
   ]
  },
  {
   "cell_type": "code",
   "execution_count": 19,
   "id": "4841bb97-442d-480a-b7db-6452ccb51cd9",
   "metadata": {
    "execution": {
     "iopub.execute_input": "2025-07-08T22:50:34.800148Z",
     "iopub.status.busy": "2025-07-08T22:50:34.799646Z",
     "iopub.status.idle": "2025-07-08T22:50:34.803094Z",
     "shell.execute_reply": "2025-07-08T22:50:34.802512Z"
    },
    "papermill": {
     "duration": 0.009905,
     "end_time": "2025-07-08T22:50:34.803926",
     "exception": false,
     "start_time": "2025-07-08T22:50:34.794021",
     "status": "completed"
    },
    "tags": []
   },
   "outputs": [],
   "source": [
    "def breakpointpos(x):\n",
    "    if x['isBreakOutIni'] in (2,3):\n",
    "        return x['Low']+3e-3\n",
    "    elif x['isBreakOutIni']==1:\n",
    "        return x['High']-3e-3\n",
    "    else:\n",
    "        return np.nan"
   ]
  },
  {
   "cell_type": "markdown",
   "id": "e1ba19c4-6693-47aa-8e8c-4c75ae62d2ea",
   "metadata": {
    "papermill": {
     "duration": 0.005066,
     "end_time": "2025-07-08T22:50:34.814211",
     "exception": false,
     "start_time": "2025-07-08T22:50:34.809145",
     "status": "completed"
    },
    "tags": []
   },
   "source": [
    "##### Hallando casos de Ruptura del Canal Bajista"
   ]
  },
  {
   "cell_type": "code",
   "execution_count": 20,
   "id": "09775609",
   "metadata": {
    "execution": {
     "iopub.execute_input": "2025-07-08T22:50:34.825120Z",
     "iopub.status.busy": "2025-07-08T22:50:34.824905Z",
     "iopub.status.idle": "2025-07-08T22:50:34.877525Z",
     "shell.execute_reply": "2025-07-08T22:50:34.876890Z"
    },
    "papermill": {
     "duration": 0.05919,
     "end_time": "2025-07-08T22:50:34.878527",
     "exception": false,
     "start_time": "2025-07-08T22:50:34.819337",
     "status": "completed"
    },
    "tags": []
   },
   "outputs": [
    {
     "name": "stdout",
     "output_type": "stream",
     "text": [
      "Archivo cargado correctamente.\n"
     ]
    }
   ],
   "source": [
    "#Archivo anterior\n",
    "ruta_archivo='data/pfuerte_h.txt'\n",
    "if os.path.exists(ruta_archivo):\n",
    "    # Cargar el archivo\n",
    "    df_casos2 = pd.read_csv(ruta_archivo, sep='\\t')\n",
    "    print(\"Archivo cargado correctamente.\")\n",
    "else:\n",
    "    # Crear un DataFrame vacío\n",
    "    df_casos2 = pd.DataFrame()\n",
    "    print(\"Archivo no existe. Se creó un DataFrame vacío.\")"
   ]
  },
  {
   "cell_type": "code",
   "execution_count": 21,
   "id": "d22c2719",
   "metadata": {
    "execution": {
     "iopub.execute_input": "2025-07-08T22:50:34.890282Z",
     "iopub.status.busy": "2025-07-08T22:50:34.890040Z",
     "iopub.status.idle": "2025-07-08T22:50:34.911189Z",
     "shell.execute_reply": "2025-07-08T22:50:34.910690Z"
    },
    "papermill": {
     "duration": 0.027892,
     "end_time": "2025-07-08T22:50:34.912100",
     "exception": false,
     "start_time": "2025-07-08T22:50:34.884208",
     "status": "completed"
    },
    "tags": []
   },
   "outputs": [],
   "source": [
    "df_casos2[\"datetime\"] = pd.to_datetime(df_casos2['datetime'])\n",
    "df_casos2[\"datetime2\"] = df_casos2['datetime'].dt.tz_localize(None)"
   ]
  },
  {
   "cell_type": "code",
   "execution_count": 22,
   "id": "356713ec-eef9-4fe4-a974-2c6aeabe26bf",
   "metadata": {
    "execution": {
     "iopub.execute_input": "2025-07-08T22:50:34.923651Z",
     "iopub.status.busy": "2025-07-08T22:50:34.923132Z",
     "iopub.status.idle": "2025-07-08T22:50:39.267936Z",
     "shell.execute_reply": "2025-07-08T22:50:39.267346Z"
    },
    "papermill": {
     "duration": 4.351702,
     "end_time": "2025-07-08T22:50:39.269090",
     "exception": false,
     "start_time": "2025-07-08T22:50:34.917388",
     "status": "completed"
    },
    "tags": []
   },
   "outputs": [],
   "source": [
    "df_casos = pd.DataFrame()\n",
    "caso = 0\n",
    "ticker2 = \"\"\n",
    "window=5\n",
    "backeval=75\n",
    "backevalTrend=0\n",
    "dfpl = pd.DataFrame\n",
    "trendH = []\n",
    "trendL = []\n",
    "cant = 0\n",
    "for i, row in df_hora_final.iterrows():\n",
    "    #if (i==83382):\n",
    "    if(df_hora_final['pfuerte'][i]==1): #posibles casos \n",
    "        print(\"posible caso:\",i, df_hora_final['companyName'][i])\n",
    "        cant = 0\n",
    "        candle = i\n",
    "        cnt = 0\n",
    "        valiniHigh = df_hora_final.loc[candle,\"High\"]\n",
    "        #valiniLow = df.loc[candle,\"Low\"]\n",
    "        ticker = df_hora_final['companyName'][i]\n",
    "        #Reinicio de casos por company\n",
    "        if ticker2 != ticker:\n",
    "            ticker2 = ticker\n",
    "            filtro = df_casos2[(df_casos2['datetime2'] <  fecha_menos_15) & (df_casos2['companyName']==ticker) & (df_casos2[\"ind_posicion\"]==0)].copy()\n",
    "            if filtro.shape[0]>0:\n",
    "                caso = filtro[\"caso\"].max()\n",
    "            else:\n",
    "                caso = 0\n",
    "        dfpl = df_hora_final[(df_hora_final.companyName==ticker)].loc[i-backeval:i+backeval].copy()\n",
    "\n",
    "        #print(\"rowMin:\", dfpl.index[0],\", rowMax:\", dfpl.index[-1])\n",
    "                    \n",
    "        h=1\n",
    "        l=1\n",
    "\n",
    "        cant = cant +1\n",
    "        cantHorasTrend=0\n",
    "        #print(\"opcionH:\",h,\"opcionL:\",l)\n",
    "        trendH, backevalTrend = backcandle(candle)\n",
    "        #print (\"-->trendH:\",trendH)\n",
    "        #print (\"-->backevalTrend:\",backevalTrend)    \n",
    "        \n",
    "        #cantHorasTrend = (dfpl.loc[candle,\"datetime\"] - dfpl.loc[backevalTrend,\"datetime\"]).total_seconds() / 3600\n",
    "\n",
    "        #if (cantHorasTrend>48): #Verificacion de caida por lo menos 2 dias\n",
    "        backevalTrend2 = candle - backevalTrend\n",
    "    \n",
    "                    \n",
    "        #revision de trend negativo indica que esta cayendo, solo me quedo con estos casos\n",
    "        sl_highs, interc_highs, r_sq_h = collect_channel(candle, backevalTrend2, trendH)\n",
    "                \n",
    "\n",
    "        #print(\"======:\", candle)\n",
    "        #print(\"===trendH===\")\n",
    "        #print(trendH)\n",
    "        #print(\"===trendL===\")\n",
    "        #print(trendL)\n",
    "        dfpl.loc[trendH, \"trendH\"] = 1\n",
    "    \n",
    "        \n",
    "        #print(\"sl_highs:\", sl_highs, \", sl_lows:\", sl_lows, \", r_sq_h:\", r_sq_h)\n",
    "        if (sl_highs<=0): #solo tendencias a la baja and ind_vela>0 sl_lows<0 and r_sq_h>=0.7  and sl_highs<=-0.1 and ind_vela>0\n",
    "            #print(\"paso1\")\n",
    "            #crear linea de tendencia high y low\n",
    "            dfpl['trendcurrhigh']  = trendChannel(dfpl,candle,backevalTrend2,window,sl_highs,interc_highs)\n",
    "            \n",
    "           \n",
    "            promVol = dfpl.loc[i-backeval:i][\"Volume\"].mean()\n",
    "\n",
    "            #print(\"ind_vela:\",ind_vela)\n",
    "            \n",
    "            #print(\"paso2\")\n",
    "            dfpl[\"bearishSlope\"] = np.nan #pendiente bajista en vacio\n",
    "            dfpl.loc[i, \"bearishSlope\"] = 1 #pendiente bajista solo al punto evaluado            \n",
    "            dfpl[\"ind_posicion\"] = 0\n",
    "            dfpl.loc[(dfpl.index < i), 'ind_posicion'] = -1\n",
    "            dfpl.loc[(dfpl.index > i), 'ind_posicion'] = 1\n",
    "            dfpl[\"promVol\"] = promVol\n",
    "            #dfpl[\"sl_highs\"] = sl_highs\n",
    "            #dfpl[\"r_sq_h\"] = r_sq_h\n",
    "    \n",
    "            start = dfpl.index[0]\n",
    "            dfpl[\"isBreakOut\"] = [isBreakOut(candleEval, backevalTrend2, window, start, candle) for candleEval in dfpl.index]\n",
    "            # Solo me quedo con el primer BREAK OUT\n",
    "            cnt = dfpl.query(\"isBreakOut in (2,3) and Close>Open\").shape[0] \n",
    "            id=0\n",
    "            id2=0\n",
    "            #print(\"paso3\")\n",
    "            if cnt>0:\n",
    "                #print(\"paso4\")\n",
    "                id = dfpl.query(\"isBreakOut in (2,3) and Close>Open\").index[0]                        \n",
    "                #dfpl['isBreakOutIni'] = np.where(id!=dfpl.index, np.nan, dfpl['isBreakOut'])                        \n",
    "                dfpl.loc[id,'isBreakOutIni'] = 1\n",
    "                #print(\"paso5\")\n",
    "                k=0\n",
    "                while (k<=3):\n",
    "                    dfpl['breakpointpos'] = dfpl.apply(lambda row: breakpointpos(row), axis=1)\n",
    "                    cnt2 = dfpl.query(\"index>@id and isPivot==1\").shape[0]\n",
    "                    #print(\"paso6\")\n",
    "                    if cnt2>0:\n",
    "                        id2 = dfpl.query(\"index>@id and isPivot==1\").index[0]\n",
    "                        dfpl.loc[id2,'isBreakOutFinal'] = 1\n",
    "                        k=4\n",
    "                        #print(\"paso7\")\n",
    "                    else:\n",
    "                        #revisar 25 velas mas\n",
    "                        #print(\"paso8\")\n",
    "                        idfinal = dfpl.index[-1] \n",
    "                        idfinal2 = idfinal+25\n",
    "                        if idfinal2 in df_hora_final[df_hora_final['companyName']==ticker].index:\n",
    "                            dfpl2 = df_hora_final[(df_hora_final.companyName==ticker)].loc[idfinal+1:idfinal2].copy()\n",
    "                            dfpl = pd.concat([dfpl, dfpl2],ignore_index=False)\n",
    "                            #cnt2 = dfpl.query(\"index>@id and isPivot==1\").shape[0]                    \n",
    "                            #if cnt2>0:\n",
    "                            #    id2 = dfpl.query(\"index>@id and isPivot==1\").index[0]\n",
    "                            #    dfpl.loc[id2,'isBreakOutFinal'] = 1\n",
    "                            #else:\n",
    "                            #    dfpl['isBreakOutFinal'] = np.nan\n",
    "                        else:\n",
    "                            dfpl['isBreakOutFinal'] = np.nan  \n",
    "                        k=k+1\n",
    "                \n",
    "            else:\n",
    "                dfpl['isBreakOutIni'] = np.nan                        \n",
    "                dfpl['breakpointpos'] = np.nan\n",
    "    \n",
    "            if cnt>0:\n",
    "                #INSERT CASO\n",
    "                caso=caso+1   \n",
    "                print(\"insert caso:\",i, df_hora_final['companyName'][i])\n",
    "                dfpl[\"caso\"] = caso                        \n",
    "                if len(df_casos)<1:\n",
    "                    df_casos = dfpl\n",
    "                else:\n",
    "                    df_casos = pd.concat([df_casos, dfpl],ignore_index=False)"
   ]
  },
  {
   "cell_type": "code",
   "execution_count": 23,
   "id": "1836fbad",
   "metadata": {
    "execution": {
     "iopub.execute_input": "2025-07-08T22:50:39.281415Z",
     "iopub.status.busy": "2025-07-08T22:50:39.280925Z",
     "iopub.status.idle": "2025-07-08T22:50:39.442594Z",
     "shell.execute_reply": "2025-07-08T22:50:39.441998Z"
    },
    "papermill": {
     "duration": 0.168666,
     "end_time": "2025-07-08T22:50:39.443498",
     "exception": false,
     "start_time": "2025-07-08T22:50:39.274832",
     "status": "completed"
    },
    "tags": []
   },
   "outputs": [
    {
     "name": "stdout",
     "output_type": "stream",
     "text": [
      "4\n",
      "704\n",
      "3\n",
      "478\n",
      "7\n",
      "1232\n",
      "8\n",
      "1233\n",
      "5\n",
      "755\n",
      "3\n",
      "453\n",
      "5\n",
      "755\n",
      "1\n",
      "151\n",
      "5\n",
      "780\n",
      "7\n",
      "1082\n",
      "2\n",
      "377\n",
      "4\n",
      "604\n",
      "5\n",
      "755\n",
      "4\n",
      "604\n",
      "4\n",
      "629\n",
      "4\n",
      "629\n",
      "5\n",
      "780\n",
      "5\n",
      "805\n",
      "4\n",
      "604\n",
      "3\n",
      "453\n",
      "7\n",
      "1107\n",
      "4\n",
      "629\n",
      "3\n",
      "503\n",
      "5\n",
      "755\n",
      "6\n",
      "906\n",
      "8\n",
      "1208\n",
      "5\n",
      "780\n",
      "nan\n",
      "0\n",
      "7\n",
      "1057\n",
      "6\n",
      "851\n",
      "3\n",
      "503\n",
      "3\n",
      "478\n",
      "5\n",
      "880\n"
     ]
    }
   ],
   "source": [
    "df_newCasos2 = pd.DataFrame()\n",
    "for ticker in tickers:\n",
    "    #Informacion anterior por ticker\n",
    "   \n",
    "    filtro = df_casos2[(df_casos2['datetime2'] <  fecha_menos_15) & (df_casos2['companyName']==ticker) & (df_casos2[\"ind_posicion\"]==0)].copy()\n",
    "    caso_max = filtro[\"caso\"].max()\n",
    "    print(caso_max)\n",
    "\n",
    "    df_ticker = df_casos2[(df_casos2['caso'] <=  caso_max) & (df_casos2['companyName']==ticker)].copy()\n",
    "    df_ticker = df_ticker.reset_index(drop=True)\n",
    "\n",
    "    df_ticker = df_ticker.drop('datetime2', axis=1)\n",
    "\n",
    "    print(df_ticker.shape[0])\n",
    "    #df_ticker['datetime'] = pd.to_datetime(df_ticker['datetime'])\n",
    "\n",
    "    #Informacion actual por ticker\n",
    "    df_ticker2 = pd.DataFrame()\n",
    "    if df_casos.shape[0]>0:\n",
    "        df_ticker2 = df_casos[(df_casos['companyName']==ticker)]    \n",
    "        df_ticker2 = df_ticker2.sort_values(by=['datetime'], ascending=[True])\n",
    "\n",
    "    \n",
    "    \n",
    "    df_newCasos2 = pd.concat([df_newCasos2, df_ticker],ignore_index=True)\n",
    "    df_newCasos2 = pd.concat([df_newCasos2, df_ticker2],ignore_index=True)\n"
   ]
  },
  {
   "cell_type": "code",
   "execution_count": 24,
   "id": "eb9b9b8e-724e-4626-b5ca-ad32b1a48f9a",
   "metadata": {
    "execution": {
     "iopub.execute_input": "2025-07-08T22:50:39.455318Z",
     "iopub.status.busy": "2025-07-08T22:50:39.455135Z",
     "iopub.status.idle": "2025-07-08T22:50:39.894140Z",
     "shell.execute_reply": "2025-07-08T22:50:39.893532Z"
    },
    "papermill": {
     "duration": 0.446014,
     "end_time": "2025-07-08T22:50:39.895247",
     "exception": false,
     "start_time": "2025-07-08T22:50:39.449233",
     "status": "completed"
    },
    "tags": []
   },
   "outputs": [],
   "source": [
    "path = 'data/pfuerte_h.txt'\n",
    "\n",
    "# check whether the file exists\n",
    "if os.path.exists(path):\n",
    "    os.remove(path)\n",
    "else:\n",
    "    # if the file does not exist.\n",
    "    print(\"File does not exists. File needs to be created.\")\n",
    "\n",
    "#export DataFrame to text file\n",
    "with open(path, 'a') as f:\n",
    "    df_newCasos2.to_csv(path, header=True, index=None, sep='\\t', mode='w')\n"
   ]
  },
  {
   "cell_type": "markdown",
   "id": "9648944f-0175-4b89-9166-35e564665dc4",
   "metadata": {
    "papermill": {
     "duration": 0.005358,
     "end_time": "2025-07-08T22:50:39.906429",
     "exception": false,
     "start_time": "2025-07-08T22:50:39.901071",
     "status": "completed"
    },
    "tags": []
   },
   "source": [
    "##### BACKTESTING\n",
    "###### Usando paquete backtesting.py"
   ]
  },
  {
   "cell_type": "code",
   "execution_count": 25,
   "id": "1f8ef78b-d223-4cd5-81ca-e55055976336",
   "metadata": {
    "execution": {
     "iopub.execute_input": "2025-07-08T22:50:39.918087Z",
     "iopub.status.busy": "2025-07-08T22:50:39.917813Z",
     "iopub.status.idle": "2025-07-08T22:50:39.926689Z",
     "shell.execute_reply": "2025-07-08T22:50:39.926249Z"
    },
    "papermill": {
     "duration": 0.015506,
     "end_time": "2025-07-08T22:50:39.927501",
     "exception": false,
     "start_time": "2025-07-08T22:50:39.911995",
     "status": "completed"
    },
    "tags": []
   },
   "outputs": [],
   "source": [
    "df_casos2 = df_newCasos2.query(\"isBreakOutIni==1 or isBreakOutFinal==1\").copy()"
   ]
  },
  {
   "cell_type": "code",
   "execution_count": 26,
   "id": "9d491ebc-64db-40f7-9508-da2ef8dd5d70",
   "metadata": {
    "execution": {
     "iopub.execute_input": "2025-07-08T22:50:39.938948Z",
     "iopub.status.busy": "2025-07-08T22:50:39.938584Z",
     "iopub.status.idle": "2025-07-08T22:50:39.960568Z",
     "shell.execute_reply": "2025-07-08T22:50:39.960062Z"
    },
    "papermill": {
     "duration": 0.028786,
     "end_time": "2025-07-08T22:50:39.961643",
     "exception": false,
     "start_time": "2025-07-08T22:50:39.932857",
     "status": "completed"
    },
    "tags": []
   },
   "outputs": [],
   "source": [
    "# =============== BACKTESTING ================= #\n",
    "# obteniendo dataframe backtesting\n",
    "df_backTesting = pd.merge(df_hora_final, df_casos2[['datetime','companyName', 'isBreakOutIni','isBreakOutFinal','caso']], on = ['companyName','datetime'], how='left')\n",
    "# datos de trade se asigna una vela anterior debido a que backtesting.py toma entra como la siguiente vela\n",
    "df_backTesting['isBreakOutIni'] = df_backTesting['isBreakOutIni'].shift(-1)\n",
    "df_backTesting['isBreakOutFinal'] = df_backTesting['isBreakOutFinal'].shift(-1)\n",
    "#modificamos indice con el compo datetime\n",
    "df_backTesting.set_index('datetime', inplace=True)"
   ]
  },
  {
   "cell_type": "code",
   "execution_count": 27,
   "id": "573594ee-623b-4a80-97fb-4259a4f70b1f",
   "metadata": {
    "execution": {
     "iopub.execute_input": "2025-07-08T22:50:39.973542Z",
     "iopub.status.busy": "2025-07-08T22:50:39.973341Z",
     "iopub.status.idle": "2025-07-08T22:50:39.977135Z",
     "shell.execute_reply": "2025-07-08T22:50:39.976660Z"
    },
    "papermill": {
     "duration": 0.010628,
     "end_time": "2025-07-08T22:50:39.978015",
     "exception": false,
     "start_time": "2025-07-08T22:50:39.967387",
     "status": "completed"
    },
    "tags": []
   },
   "outputs": [],
   "source": [
    "#Estrategia\n",
    "class strategyPisoFuerte(Strategy):    \n",
    "    def init(self):        \n",
    "        self.breakout_entry = self.I(lambda x: x, self.data.isBreakOutIni) #Indica la señal entrada al backtesting\n",
    "        self.breakout_exit = self.I(lambda x: x, self.data.isBreakOutFinal) #Indica la señal salida al backtesting\n",
    "\n",
    "    def next(self):       \n",
    "        if self.breakout_entry[-1] == 1:\n",
    "            self.buy()  #COMPRA\n",
    "        elif self.breakout_exit[-1] == 1 and self.position:\n",
    "            self.position.close() #CIERRE"
   ]
  },
  {
   "cell_type": "code",
   "execution_count": 28,
   "id": "e8511b1d-e075-4d93-96e4-989cbde8ce91",
   "metadata": {
    "execution": {
     "iopub.execute_input": "2025-07-08T22:50:39.989765Z",
     "iopub.status.busy": "2025-07-08T22:50:39.989545Z",
     "iopub.status.idle": "2025-07-08T22:50:41.815645Z",
     "shell.execute_reply": "2025-07-08T22:50:41.815132Z"
    },
    "papermill": {
     "duration": 1.8329,
     "end_time": "2025-07-08T22:50:41.816527",
     "exception": false,
     "start_time": "2025-07-08T22:50:39.983627",
     "status": "completed"
    },
    "tags": []
   },
   "outputs": [
    {
     "name": "stderr",
     "output_type": "stream",
     "text": [
      "\r",
      "Backtest.run:   0%|          | 0/2106 [00:00<?, ?bar/s]"
     ]
    },
    {
     "name": "stderr",
     "output_type": "stream",
     "text": [
      "\r",
      "                                                       "
     ]
    },
    {
     "name": "stderr",
     "output_type": "stream",
     "text": [
      "\r"
     ]
    },
    {
     "name": "stderr",
     "output_type": "stream",
     "text": [
      "\r",
      "Backtest.run:   0%|          | 0/2888 [00:00<?, ?bar/s]"
     ]
    },
    {
     "name": "stderr",
     "output_type": "stream",
     "text": [
      "\r",
      "                                                       "
     ]
    },
    {
     "name": "stderr",
     "output_type": "stream",
     "text": [
      "\r"
     ]
    },
    {
     "name": "stderr",
     "output_type": "stream",
     "text": [
      "\r",
      "Backtest.run:   0%|          | 0/2848 [00:00<?, ?bar/s]"
     ]
    },
    {
     "name": "stderr",
     "output_type": "stream",
     "text": [
      "/usr/share/miniconda/envs/test/lib/python3.10/site-packages/backtesting/backtesting.py:954: UserWarning: time=2326: Broker canceled the relative-sized order due to insufficient margin.\n",
      "  warnings.warn(\n",
      "\r",
      "                                                       "
     ]
    },
    {
     "name": "stderr",
     "output_type": "stream",
     "text": [
      "\r"
     ]
    },
    {
     "name": "stderr",
     "output_type": "stream",
     "text": [
      "\r",
      "Backtest.run:   0%|          | 0/2924 [00:00<?, ?bar/s]"
     ]
    },
    {
     "name": "stderr",
     "output_type": "stream",
     "text": [
      "\r",
      "                                                       "
     ]
    },
    {
     "name": "stderr",
     "output_type": "stream",
     "text": [
      "\r"
     ]
    },
    {
     "name": "stderr",
     "output_type": "stream",
     "text": [
      "\r",
      "Backtest.run:   0%|          | 0/2991 [00:00<?, ?bar/s]"
     ]
    },
    {
     "name": "stderr",
     "output_type": "stream",
     "text": [
      "\r",
      "                                                       "
     ]
    },
    {
     "name": "stderr",
     "output_type": "stream",
     "text": [
      "\r"
     ]
    },
    {
     "name": "stderr",
     "output_type": "stream",
     "text": [
      "\r",
      "Backtest.run:   0%|          | 0/2453 [00:00<?, ?bar/s]"
     ]
    },
    {
     "name": "stderr",
     "output_type": "stream",
     "text": [
      "\r",
      "                                                       "
     ]
    },
    {
     "name": "stderr",
     "output_type": "stream",
     "text": [
      "\r"
     ]
    },
    {
     "name": "stderr",
     "output_type": "stream",
     "text": [
      "\r",
      "Backtest.run:   0%|          | 0/2478 [00:00<?, ?bar/s]"
     ]
    },
    {
     "name": "stderr",
     "output_type": "stream",
     "text": [
      "\r",
      "                                                       "
     ]
    },
    {
     "name": "stderr",
     "output_type": "stream",
     "text": [
      "\r"
     ]
    },
    {
     "name": "stderr",
     "output_type": "stream",
     "text": [
      "\r",
      "Backtest.run:   0%|          | 0/2941 [00:00<?, ?bar/s]"
     ]
    },
    {
     "name": "stderr",
     "output_type": "stream",
     "text": [
      "\r",
      "                                                       "
     ]
    },
    {
     "name": "stderr",
     "output_type": "stream",
     "text": [
      "\r",
      "/tmp/ipykernel_2277/1362682110.py:34: FutureWarning: The behavior of DataFrame concatenation with empty or all-NA entries is deprecated. In a future version, this will no longer exclude empty or all-NA columns when determining the result dtypes. To retain the old behavior, exclude the relevant entries before the concat operation.\n",
      "  tradesprev = pd.concat([tradesprev, tradesdf],ignore_index=True)\n",
      "/tmp/ipykernel_2277/1362682110.py:35: FutureWarning: The behavior of DataFrame concatenation with empty or all-NA entries is deprecated. In a future version, this will no longer exclude empty or all-NA columns when determining the result dtypes. To retain the old behavior, exclude the relevant entries before the concat operation.\n",
      "  estadisticas=pd.concat([estadisticas, stat],ignore_index=True)\n"
     ]
    },
    {
     "name": "stderr",
     "output_type": "stream",
     "text": [
      "\r",
      "Backtest.run:   0%|          | 0/3014 [00:00<?, ?bar/s]"
     ]
    },
    {
     "name": "stderr",
     "output_type": "stream",
     "text": [
      "\r",
      "                                                       "
     ]
    },
    {
     "name": "stderr",
     "output_type": "stream",
     "text": [
      "\r"
     ]
    },
    {
     "name": "stderr",
     "output_type": "stream",
     "text": [
      "\r",
      "Backtest.run:   0%|          | 0/3267 [00:00<?, ?bar/s]"
     ]
    },
    {
     "name": "stderr",
     "output_type": "stream",
     "text": [
      "\r",
      "                                                       "
     ]
    },
    {
     "name": "stderr",
     "output_type": "stream",
     "text": [
      "\r"
     ]
    },
    {
     "name": "stderr",
     "output_type": "stream",
     "text": [
      "\r",
      "Backtest.run:   0%|          | 0/3175 [00:00<?, ?bar/s]"
     ]
    },
    {
     "name": "stderr",
     "output_type": "stream",
     "text": [
      "\r",
      "                                                       "
     ]
    },
    {
     "name": "stderr",
     "output_type": "stream",
     "text": [
      "\r"
     ]
    },
    {
     "name": "stderr",
     "output_type": "stream",
     "text": [
      "\r",
      "Backtest.run:   0%|          | 0/2534 [00:00<?, ?bar/s]"
     ]
    },
    {
     "name": "stderr",
     "output_type": "stream",
     "text": [
      "\r",
      "                                                       "
     ]
    },
    {
     "name": "stderr",
     "output_type": "stream",
     "text": [
      "\r"
     ]
    },
    {
     "name": "stderr",
     "output_type": "stream",
     "text": [
      "\r",
      "Backtest.run:   0%|          | 0/3279 [00:00<?, ?bar/s]"
     ]
    },
    {
     "name": "stderr",
     "output_type": "stream",
     "text": [
      "\r",
      "                                                       "
     ]
    },
    {
     "name": "stderr",
     "output_type": "stream",
     "text": [
      "\r"
     ]
    },
    {
     "name": "stderr",
     "output_type": "stream",
     "text": [
      "\r",
      "Backtest.run:   0%|          | 0/2899 [00:00<?, ?bar/s]"
     ]
    },
    {
     "name": "stderr",
     "output_type": "stream",
     "text": [
      "\r",
      "                                                       "
     ]
    },
    {
     "name": "stderr",
     "output_type": "stream",
     "text": [
      "\r"
     ]
    },
    {
     "name": "stderr",
     "output_type": "stream",
     "text": [
      "\r",
      "Backtest.run:   0%|          | 0/2885 [00:00<?, ?bar/s]"
     ]
    },
    {
     "name": "stderr",
     "output_type": "stream",
     "text": [
      "\r",
      "                                                       "
     ]
    },
    {
     "name": "stderr",
     "output_type": "stream",
     "text": [
      "\r"
     ]
    },
    {
     "name": "stderr",
     "output_type": "stream",
     "text": [
      "\r",
      "Backtest.run:   0%|          | 0/2065 [00:00<?, ?bar/s]"
     ]
    },
    {
     "name": "stderr",
     "output_type": "stream",
     "text": [
      "\r",
      "                                                       "
     ]
    },
    {
     "name": "stderr",
     "output_type": "stream",
     "text": [
      "\r"
     ]
    },
    {
     "name": "stderr",
     "output_type": "stream",
     "text": [
      "\r",
      "Backtest.run:   0%|          | 0/3339 [00:00<?, ?bar/s]"
     ]
    },
    {
     "name": "stderr",
     "output_type": "stream",
     "text": [
      "\r",
      "                                                       "
     ]
    },
    {
     "name": "stderr",
     "output_type": "stream",
     "text": [
      "\r"
     ]
    },
    {
     "name": "stderr",
     "output_type": "stream",
     "text": [
      "\r",
      "Backtest.run:   0%|          | 0/3293 [00:00<?, ?bar/s]"
     ]
    },
    {
     "name": "stderr",
     "output_type": "stream",
     "text": [
      "\r",
      "                                                       "
     ]
    },
    {
     "name": "stderr",
     "output_type": "stream",
     "text": [
      "\r"
     ]
    },
    {
     "name": "stderr",
     "output_type": "stream",
     "text": [
      "\r",
      "Backtest.run:   0%|          | 0/2532 [00:00<?, ?bar/s]"
     ]
    },
    {
     "name": "stderr",
     "output_type": "stream",
     "text": [
      "\r",
      "                                                       "
     ]
    },
    {
     "name": "stderr",
     "output_type": "stream",
     "text": [
      "\r"
     ]
    },
    {
     "name": "stderr",
     "output_type": "stream",
     "text": [
      "\r",
      "Backtest.run:   0%|          | 0/3411 [00:00<?, ?bar/s]"
     ]
    },
    {
     "name": "stderr",
     "output_type": "stream",
     "text": [
      "\r",
      "                                                       "
     ]
    },
    {
     "name": "stderr",
     "output_type": "stream",
     "text": [
      "\r"
     ]
    },
    {
     "name": "stderr",
     "output_type": "stream",
     "text": [
      "\r",
      "Backtest.run:   0%|          | 0/3245 [00:00<?, ?bar/s]"
     ]
    },
    {
     "name": "stderr",
     "output_type": "stream",
     "text": [
      "\r",
      "                                                       "
     ]
    },
    {
     "name": "stderr",
     "output_type": "stream",
     "text": [
      "\r"
     ]
    },
    {
     "name": "stderr",
     "output_type": "stream",
     "text": [
      "\r",
      "Backtest.run:   0%|          | 0/2561 [00:00<?, ?bar/s]"
     ]
    },
    {
     "name": "stderr",
     "output_type": "stream",
     "text": [
      "\r",
      "                                                       "
     ]
    },
    {
     "name": "stderr",
     "output_type": "stream",
     "text": [
      "\r"
     ]
    },
    {
     "name": "stderr",
     "output_type": "stream",
     "text": [
      "\r",
      "Backtest.run:   0%|          | 0/2939 [00:00<?, ?bar/s]"
     ]
    },
    {
     "name": "stderr",
     "output_type": "stream",
     "text": [
      "\r",
      "                                                       "
     ]
    },
    {
     "name": "stderr",
     "output_type": "stream",
     "text": [
      "\r"
     ]
    },
    {
     "name": "stderr",
     "output_type": "stream",
     "text": [
      "\r",
      "Backtest.run:   0%|          | 0/3115 [00:00<?, ?bar/s]"
     ]
    },
    {
     "name": "stderr",
     "output_type": "stream",
     "text": [
      "\r",
      "                                                       "
     ]
    },
    {
     "name": "stderr",
     "output_type": "stream",
     "text": [
      "\r"
     ]
    },
    {
     "name": "stderr",
     "output_type": "stream",
     "text": [
      "\r",
      "Backtest.run:   0%|          | 0/3122 [00:00<?, ?bar/s]"
     ]
    },
    {
     "name": "stderr",
     "output_type": "stream",
     "text": [
      "\r",
      "                                                       "
     ]
    },
    {
     "name": "stderr",
     "output_type": "stream",
     "text": [
      "\r"
     ]
    },
    {
     "name": "stderr",
     "output_type": "stream",
     "text": [
      "\r",
      "Backtest.run:   0%|          | 0/3294 [00:00<?, ?bar/s]"
     ]
    },
    {
     "name": "stderr",
     "output_type": "stream",
     "text": [
      "\r",
      "                                                       "
     ]
    },
    {
     "name": "stderr",
     "output_type": "stream",
     "text": [
      "\r"
     ]
    },
    {
     "name": "stderr",
     "output_type": "stream",
     "text": [
      "\r",
      "Backtest.run:   0%|          | 0/3250 [00:00<?, ?bar/s]"
     ]
    },
    {
     "name": "stderr",
     "output_type": "stream",
     "text": [
      "\r",
      "                                                       "
     ]
    },
    {
     "name": "stderr",
     "output_type": "stream",
     "text": [
      "\r"
     ]
    },
    {
     "name": "stderr",
     "output_type": "stream",
     "text": [
      "\r",
      "Backtest.run:   0%|          | 0/511 [00:00<?, ?bar/s]"
     ]
    },
    {
     "name": "stderr",
     "output_type": "stream",
     "text": [
      "\r",
      "                                                      "
     ]
    },
    {
     "name": "stderr",
     "output_type": "stream",
     "text": [
      "\r",
      "/tmp/ipykernel_2277/1362682110.py:34: FutureWarning: The behavior of DataFrame concatenation with empty or all-NA entries is deprecated. In a future version, this will no longer exclude empty or all-NA columns when determining the result dtypes. To retain the old behavior, exclude the relevant entries before the concat operation.\n",
      "  tradesprev = pd.concat([tradesprev, tradesdf],ignore_index=True)\n",
      "/tmp/ipykernel_2277/1362682110.py:35: FutureWarning: The behavior of DataFrame concatenation with empty or all-NA entries is deprecated. In a future version, this will no longer exclude empty or all-NA columns when determining the result dtypes. To retain the old behavior, exclude the relevant entries before the concat operation.\n",
      "  estadisticas=pd.concat([estadisticas, stat],ignore_index=True)\n"
     ]
    },
    {
     "name": "stderr",
     "output_type": "stream",
     "text": [
      "\r",
      "Backtest.run:   0%|          | 0/3295 [00:00<?, ?bar/s]"
     ]
    },
    {
     "name": "stderr",
     "output_type": "stream",
     "text": [
      "\r",
      "                                                       "
     ]
    },
    {
     "name": "stderr",
     "output_type": "stream",
     "text": [
      "\r"
     ]
    },
    {
     "name": "stderr",
     "output_type": "stream",
     "text": [
      "\r",
      "Backtest.run:   0%|          | 0/3475 [00:00<?, ?bar/s]"
     ]
    },
    {
     "name": "stderr",
     "output_type": "stream",
     "text": [
      "\r",
      "                                                       "
     ]
    },
    {
     "name": "stderr",
     "output_type": "stream",
     "text": [
      "\r"
     ]
    },
    {
     "name": "stderr",
     "output_type": "stream",
     "text": [
      "\r",
      "Backtest.run:   0%|          | 0/2873 [00:00<?, ?bar/s]"
     ]
    },
    {
     "name": "stderr",
     "output_type": "stream",
     "text": [
      "\r",
      "                                                       "
     ]
    },
    {
     "name": "stderr",
     "output_type": "stream",
     "text": [
      "\r"
     ]
    },
    {
     "name": "stderr",
     "output_type": "stream",
     "text": [
      "\r",
      "Backtest.run:   0%|          | 0/1550 [00:00<?, ?bar/s]"
     ]
    },
    {
     "name": "stderr",
     "output_type": "stream",
     "text": [
      "\r",
      "                                                       "
     ]
    },
    {
     "name": "stderr",
     "output_type": "stream",
     "text": [
      "\r"
     ]
    },
    {
     "name": "stderr",
     "output_type": "stream",
     "text": [
      "\r",
      "Backtest.run:   0%|          | 0/3325 [00:00<?, ?bar/s]"
     ]
    },
    {
     "name": "stderr",
     "output_type": "stream",
     "text": [
      "/usr/share/miniconda/envs/test/lib/python3.10/site-packages/backtesting/backtesting.py:954: UserWarning: time=871: Broker canceled the relative-sized order due to insufficient margin.\n",
      "  warnings.warn(\n"
     ]
    },
    {
     "name": "stderr",
     "output_type": "stream",
     "text": [
      "\r",
      "                                                       "
     ]
    },
    {
     "name": "stderr",
     "output_type": "stream",
     "text": [
      "\r"
     ]
    }
   ],
   "source": [
    "# Por cada TIcket\n",
    "my_stats = {}\n",
    "estadisticas = pd.DataFrame()          # lista para ticker\n",
    "tradesprev = pd.DataFrame()     # lista para cada caso por ticker\n",
    "for ticker in df_backTesting['companyName'].unique():\n",
    "    ticker_data = df_backTesting[df_backTesting['companyName'] == ticker].copy() #Filtro por cada ticker\n",
    "    bt = Backtest(ticker_data, strategyPisoFuerte, cash=10_000)\n",
    "    my_stats = bt.run()\n",
    "    listTrades = my_stats['_trades']\n",
    "    tradesdf = pd.DataFrame(listTrades) #trades\n",
    "    tradesdf['Ticker'] = ticker\n",
    "    stats_filter={\n",
    "        'Ticker':ticker,\n",
    "        'EntryTime':my_stats['Start'],\n",
    "        'ExitTime':my_stats['End'],\n",
    "        'Return [%]': my_stats['Return [%]'],\n",
    "        'CAGR [%]': my_stats['Return (Ann.) [%]'],\n",
    "        'Sharpe Ratio': my_stats['Sharpe Ratio'],\n",
    "        'Max. Drawdown [%]': my_stats['Max. Drawdown [%]'],\n",
    "        'Win Rate [%]': my_stats['Win Rate [%]'],\n",
    "        '# Trades': my_stats['# Trades'],\n",
    "        'Expectancy [%]': my_stats['Expectancy [%]'],\n",
    "        'Profit Factor': my_stats['Profit Factor'],\n",
    "        'Duration': my_stats['Duration'],\n",
    "        'Avg. Trade [%]':my_stats['Avg. Trade [%]'],\n",
    "        'Max. Trade Duration':my_stats['Max. Trade Duration'],\n",
    "        'Avg. Trade Duration':my_stats['Avg. Trade Duration']\n",
    "    }\n",
    "    stat=pd.DataFrame([stats_filter])\n",
    "    if tradesprev.shape[0]==0:\n",
    "        tradesprev = tradesdf.copy()\n",
    "        estadisticas=stat.copy()\n",
    "    else:\n",
    "        tradesprev = pd.concat([tradesprev, tradesdf],ignore_index=True)\n",
    "        estadisticas=pd.concat([estadisticas, stat],ignore_index=True)\n",
    "    # Mostramos\n",
    "    #bt.plot(resample=False, filename=f\"plot_BreakOUT_{ticker}\")"
   ]
  },
  {
   "cell_type": "code",
   "execution_count": 29,
   "id": "5227501d-6b0d-47c6-9c69-d788c10f2fbf",
   "metadata": {
    "execution": {
     "iopub.execute_input": "2025-07-08T22:50:41.836079Z",
     "iopub.status.busy": "2025-07-08T22:50:41.835654Z",
     "iopub.status.idle": "2025-07-08T22:50:41.841357Z",
     "shell.execute_reply": "2025-07-08T22:50:41.840886Z"
    },
    "papermill": {
     "duration": 0.01616,
     "end_time": "2025-07-08T22:50:41.842221",
     "exception": false,
     "start_time": "2025-07-08T22:50:41.826061",
     "status": "completed"
    },
    "tags": []
   },
   "outputs": [],
   "source": [
    "ini = df_casos2[(df_casos2['isBreakOutIni']==1)].copy()\n",
    "df_casos3_ini=ini.rename(columns={'Open': 'EntryPrice', 'datetime': 'EntryTime', 'companyName': 'Ticker'})[['EntryPrice','Ticker','caso','EntryTime']]\n",
    "final = df_casos2[(df_casos2['isBreakOutFinal']==1)].copy()\n",
    "df_casos3_final=final.rename(columns={'Open': 'ExitPrice', 'datetime': 'ExitTime', 'companyName': 'Ticker'})[['ExitPrice','Ticker','caso','ExitTime']]"
   ]
  },
  {
   "cell_type": "code",
   "execution_count": 30,
   "id": "665ebabb-cb9a-4bc1-86e5-a104dfd1496e",
   "metadata": {
    "execution": {
     "iopub.execute_input": "2025-07-08T22:50:41.860894Z",
     "iopub.status.busy": "2025-07-08T22:50:41.860492Z",
     "iopub.status.idle": "2025-07-08T22:50:41.865659Z",
     "shell.execute_reply": "2025-07-08T22:50:41.865074Z"
    },
    "papermill": {
     "duration": 0.015319,
     "end_time": "2025-07-08T22:50:41.866520",
     "exception": false,
     "start_time": "2025-07-08T22:50:41.851201",
     "status": "completed"
    },
    "tags": []
   },
   "outputs": [],
   "source": [
    "df_casos3=df_casos3_ini.merge(df_casos3_final,on=['Ticker','caso'],how='outer')"
   ]
  },
  {
   "cell_type": "code",
   "execution_count": 31,
   "id": "97d478f6-89ca-4f57-a323-74e71b972187",
   "metadata": {
    "execution": {
     "iopub.execute_input": "2025-07-08T22:50:41.885610Z",
     "iopub.status.busy": "2025-07-08T22:50:41.885197Z",
     "iopub.status.idle": "2025-07-08T22:50:41.891305Z",
     "shell.execute_reply": "2025-07-08T22:50:41.890816Z"
    },
    "papermill": {
     "duration": 0.016592,
     "end_time": "2025-07-08T22:50:41.892196",
     "exception": false,
     "start_time": "2025-07-08T22:50:41.875604",
     "status": "completed"
    },
    "tags": []
   },
   "outputs": [],
   "source": [
    "trades = pd.merge(df_casos3, tradesprev, on = ['EntryTime','Ticker'], how='left')"
   ]
  },
  {
   "cell_type": "code",
   "execution_count": 32,
   "id": "0d09c951-126d-46ed-896c-dc0ad6c35058",
   "metadata": {
    "execution": {
     "iopub.execute_input": "2025-07-08T22:50:41.911124Z",
     "iopub.status.busy": "2025-07-08T22:50:41.910908Z",
     "iopub.status.idle": "2025-07-08T22:50:41.916466Z",
     "shell.execute_reply": "2025-07-08T22:50:41.915875Z"
    },
    "papermill": {
     "duration": 0.015988,
     "end_time": "2025-07-08T22:50:41.917327",
     "exception": false,
     "start_time": "2025-07-08T22:50:41.901339",
     "status": "completed"
    },
    "tags": []
   },
   "outputs": [],
   "source": [
    "def exitPrice(x):\n",
    "    if pd.isna(x['ExitPrice_x']):\n",
    "        return x['ExitPrice_y']\n",
    "    else:\n",
    "        return x['ExitPrice_x']\n",
    "trades['ExitPrice'] = trades.apply(lambda row: exitPrice(row), axis=1)"
   ]
  },
  {
   "cell_type": "code",
   "execution_count": 33,
   "id": "259a2845-bb98-4b60-a8ee-e3b553741564",
   "metadata": {
    "execution": {
     "iopub.execute_input": "2025-07-08T22:50:41.936213Z",
     "iopub.status.busy": "2025-07-08T22:50:41.935788Z",
     "iopub.status.idle": "2025-07-08T22:50:41.939720Z",
     "shell.execute_reply": "2025-07-08T22:50:41.939244Z"
    },
    "papermill": {
     "duration": 0.014126,
     "end_time": "2025-07-08T22:50:41.940485",
     "exception": false,
     "start_time": "2025-07-08T22:50:41.926359",
     "status": "completed"
    },
    "tags": []
   },
   "outputs": [],
   "source": [
    "trades = trades.rename(columns={'EntryPrice_x': 'EntryPrice'})\n",
    "trades = trades.drop(['EntryPrice_y','ExitPrice_x', 'ExitPrice_y'], axis=1)"
   ]
  },
  {
   "cell_type": "code",
   "execution_count": 34,
   "id": "97c42ae5-be6d-4934-8442-8a35530eeab3",
   "metadata": {
    "execution": {
     "iopub.execute_input": "2025-07-08T22:50:41.973883Z",
     "iopub.status.busy": "2025-07-08T22:50:41.973365Z",
     "iopub.status.idle": "2025-07-08T22:50:41.979491Z",
     "shell.execute_reply": "2025-07-08T22:50:41.978897Z"
    },
    "papermill": {
     "duration": 0.030905,
     "end_time": "2025-07-08T22:50:41.980322",
     "exception": false,
     "start_time": "2025-07-08T22:50:41.949417",
     "status": "completed"
    },
    "tags": []
   },
   "outputs": [],
   "source": [
    "def exitTime(x):\n",
    "    if pd.isna(x['ExitTime_x']):\n",
    "        return x['ExitTime_y']\n",
    "    else:\n",
    "        return x['ExitTime_x']\n",
    "trades['ExitTime'] = trades.apply(lambda row: exitTime(row), axis=1)"
   ]
  },
  {
   "cell_type": "code",
   "execution_count": 35,
   "id": "929dd667-1188-4b3e-800c-7299558c0c7e",
   "metadata": {
    "execution": {
     "iopub.execute_input": "2025-07-08T22:50:41.999223Z",
     "iopub.status.busy": "2025-07-08T22:50:41.998823Z",
     "iopub.status.idle": "2025-07-08T22:50:42.005052Z",
     "shell.execute_reply": "2025-07-08T22:50:42.004464Z"
    },
    "papermill": {
     "duration": 0.016568,
     "end_time": "2025-07-08T22:50:42.005920",
     "exception": false,
     "start_time": "2025-07-08T22:50:41.989352",
     "status": "completed"
    },
    "tags": []
   },
   "outputs": [],
   "source": [
    "def duration(x):\n",
    "    if pd.isna(x['Duration']):\n",
    "        if pd.isna(x['ExitTime']):\n",
    "            return pd.NaT\n",
    "        else:\n",
    "            return x['ExitTime']-x['EntryTime']\n",
    "    else:\n",
    "        return x['Duration']\n",
    "trades['Duration'] = trades.apply(lambda row: duration(row), axis=1)"
   ]
  },
  {
   "cell_type": "code",
   "execution_count": 36,
   "id": "ec29de7e-f261-48a2-b6ab-006b7c508ab6",
   "metadata": {
    "execution": {
     "iopub.execute_input": "2025-07-08T22:50:42.024672Z",
     "iopub.status.busy": "2025-07-08T22:50:42.024225Z",
     "iopub.status.idle": "2025-07-08T22:50:42.027688Z",
     "shell.execute_reply": "2025-07-08T22:50:42.027126Z"
    },
    "papermill": {
     "duration": 0.013731,
     "end_time": "2025-07-08T22:50:42.028492",
     "exception": false,
     "start_time": "2025-07-08T22:50:42.014761",
     "status": "completed"
    },
    "tags": []
   },
   "outputs": [],
   "source": [
    "trades = trades.drop(['ExitTime_x', 'ExitTime_y'], axis=1)"
   ]
  },
  {
   "cell_type": "code",
   "execution_count": 37,
   "id": "f0ce0242-c9b1-4dd1-aa39-fe17bd507bfb",
   "metadata": {
    "execution": {
     "iopub.execute_input": "2025-07-08T22:50:42.047464Z",
     "iopub.status.busy": "2025-07-08T22:50:42.047092Z",
     "iopub.status.idle": "2025-07-08T22:50:42.050489Z",
     "shell.execute_reply": "2025-07-08T22:50:42.050031Z"
    },
    "papermill": {
     "duration": 0.013709,
     "end_time": "2025-07-08T22:50:42.051296",
     "exception": false,
     "start_time": "2025-07-08T22:50:42.037587",
     "status": "completed"
    },
    "tags": []
   },
   "outputs": [],
   "source": [
    "trades=trades[['Ticker','EntryTime','ExitTime','EntryPrice','ExitPrice','Duration','Size','EntryBar','ExitBar','ReturnPct','caso']]"
   ]
  },
  {
   "cell_type": "code",
   "execution_count": 38,
   "id": "5e82ec1f",
   "metadata": {
    "execution": {
     "iopub.execute_input": "2025-07-08T22:50:42.070197Z",
     "iopub.status.busy": "2025-07-08T22:50:42.070017Z",
     "iopub.status.idle": "2025-07-08T22:50:42.096022Z",
     "shell.execute_reply": "2025-07-08T22:50:42.095404Z"
    },
    "papermill": {
     "duration": 0.036477,
     "end_time": "2025-07-08T22:50:42.096951",
     "exception": false,
     "start_time": "2025-07-08T22:50:42.060474",
     "status": "completed"
    },
    "tags": []
   },
   "outputs": [],
   "source": [
    "for item in estadisticas['Ticker'].unique():\n",
    "    count = trades[trades[\"Ticker\"] == item].shape[0]\n",
    "    estadisticas.loc[estadisticas['Ticker'] == item, '# Trades'] = count"
   ]
  },
  {
   "cell_type": "code",
   "execution_count": 39,
   "id": "84c95d67-0c03-4025-bb3b-abfa3f8e0535",
   "metadata": {
    "execution": {
     "iopub.execute_input": "2025-07-08T22:50:42.116095Z",
     "iopub.status.busy": "2025-07-08T22:50:42.115881Z",
     "iopub.status.idle": "2025-07-08T22:50:42.125852Z",
     "shell.execute_reply": "2025-07-08T22:50:42.125399Z"
    },
    "papermill": {
     "duration": 0.020393,
     "end_time": "2025-07-08T22:50:42.126624",
     "exception": false,
     "start_time": "2025-07-08T22:50:42.106231",
     "status": "completed"
    },
    "tags": []
   },
   "outputs": [],
   "source": [
    "path = 'data/backtesting'\n",
    "\n",
    "os.makedirs(path, exist_ok=True)\n",
    "\n",
    "path_trades = os.path.join(path, 'trades_pfuerte.txt')\n",
    "path_estadisticas = os.path.join(path, 'estadisticas_pfuerte.txt')\n",
    "\n",
    "for file_path in [path_trades, path_estadisticas]:\n",
    "    if os.path.exists(file_path):\n",
    "        os.remove(file_path)\n",
    "    else:\n",
    "        print(f\"File does not exist: {file_path}. It will be created.\")\n",
    "\n",
    "trades.to_csv(path_trades, header=True, index=False, sep='\\t', mode='w')\n",
    "estadisticas.to_csv(path_estadisticas, header=True, index=False, sep='\\t', mode='w')"
   ]
  }
 ],
 "metadata": {
  "kernelspec": {
   "display_name": "base",
   "language": "python",
   "name": "python3"
  },
  "language_info": {
   "codemirror_mode": {
    "name": "ipython",
    "version": 3
   },
   "file_extension": ".py",
   "mimetype": "text/x-python",
   "name": "python",
   "nbconvert_exporter": "python",
   "pygments_lexer": "ipython3",
   "version": "3.10.18"
  },
  "papermill": {
   "default_parameters": {},
   "duration": 12.682883,
   "end_time": "2025-07-08T22:50:42.551207",
   "environment_variables": {},
   "exception": null,
   "input_path": "pisoFuerteRT.ipynb",
   "output_path": "pisoFuerteRT_out.ipynb",
   "parameters": {},
   "start_time": "2025-07-08T22:50:29.868324",
   "version": "2.6.0"
  }
 },
 "nbformat": 4,
 "nbformat_minor": 5
}