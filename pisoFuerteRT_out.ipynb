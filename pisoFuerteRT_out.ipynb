{
 "cells": [
  {
   "cell_type": "markdown",
   "id": "42b70f4b-a8b2-4a6a-958a-5dcd1cd8e77c",
   "metadata": {
    "papermill": {
     "duration": 0.004881,
     "end_time": "2025-07-06T17:22:53.649551",
     "exception": false,
     "start_time": "2025-07-06T17:22:53.644670",
     "status": "completed"
    },
    "tags": []
   },
   "source": [
    "### PISO FUERTE"
   ]
  },
  {
   "cell_type": "code",
   "execution_count": 1,
   "id": "c69d35c1-2cc9-4aa8-80c7-eb3b83120eab",
   "metadata": {
    "execution": {
     "iopub.execute_input": "2025-07-06T17:22:53.659410Z",
     "iopub.status.busy": "2025-07-06T17:22:53.658913Z",
     "iopub.status.idle": "2025-07-06T17:22:54.711104Z",
     "shell.execute_reply": "2025-07-06T17:22:54.710627Z"
    },
    "papermill": {
     "duration": 1.058089,
     "end_time": "2025-07-06T17:22:54.712032",
     "exception": false,
     "start_time": "2025-07-06T17:22:53.653943",
     "status": "completed"
    },
    "tags": []
   },
   "outputs": [
    {
     "name": "stderr",
     "output_type": "stream",
     "text": [
      "/usr/share/miniconda/envs/test/lib/python3.10/site-packages/tqdm/auto.py:21: TqdmWarning: IProgress not found. Please update jupyter and ipywidgets. See https://ipywidgets.readthedocs.io/en/stable/user_install.html\n",
      "  from .autonotebook import tqdm as notebook_tqdm\n",
      "/usr/share/miniconda/envs/test/lib/python3.10/site-packages/backtesting/_plotting.py:55: UserWarning: Jupyter Notebook detected. Setting Bokeh output to notebook. This may not work in Jupyter clients without JavaScript support, such as old IDEs. Reset with `backtesting.set_bokeh_output(notebook=False)`.\n",
      "  warnings.warn('Jupyter Notebook detected. '\n"
     ]
    },
    {
     "data": {
      "text/html": [
       "    <style>\n",
       "        .bk-notebook-logo {\n",
       "            display: block;\n",
       "            width: 20px;\n",
       "            height: 20px;\n",
       "            background-image: url(data:image/png;base64,iVBORw0KGgoAAAANSUhEUgAAABQAAAAUCAYAAACNiR0NAAAABHNCSVQICAgIfAhkiAAAAAlwSFlzAAALEgAACxIB0t1+/AAAABx0RVh0U29mdHdhcmUAQWRvYmUgRmlyZXdvcmtzIENTNui8sowAAAOkSURBVDiNjZRtaJVlGMd/1/08zzln5zjP1LWcU9N0NkN8m2CYjpgQYQXqSs0I84OLIC0hkEKoPtiH3gmKoiJDU7QpLgoLjLIQCpEsNJ1vqUOdO7ppbuec5+V+rj4ctwzd8IIbbi6u+8f1539dt3A78eXC7QizUF7gyV1fD1Yqg4JWz84yffhm0qkFqBogB9rM8tZdtwVsPUhWhGcFJngGeWrPzHm5oaMmkfEg1usvLFyc8jLRqDOMru7AyC8saQr7GG7f5fvDeH7Ej8CM66nIF+8yngt6HWaKh7k49Soy9nXurCi1o3qUbS3zWfrYeQDTB/Qj6kX6Ybhw4B+bOYoLKCC9H3Nu/leUTZ1JdRWkkn2ldcCamzrcf47KKXdAJllSlxAOkRgyHsGC/zRday5Qld9DyoM4/q/rUoy/CXh3jzOu3bHUVZeU+DEn8FInkPBFlu3+nW3Nw0mk6vCDiWg8CeJaxEwuHS3+z5RgY+YBR6V1Z1nxSOfoaPa4LASWxxdNp+VWTk7+4vzaou8v8PN+xo+KY2xsw6une2frhw05CTYOmQvsEhjhWjn0bmXPjpE1+kplmmkP3suftwTubK9Vq22qKmrBhpY4jvd5afdRA3wGjFAgcnTK2s4hY0/GPNIb0nErGMCRxWOOX64Z8RAC4oCXdklmEvcL8o0BfkNK4lUg9HTl+oPlQxdNo3Mg4Nv175e/1LDGzZen30MEjRUtmXSfiTVu1kK8W4txyV6BMKlbgk3lMwYCiusNy9fVfvvwMxv8Ynl6vxoByANLTWplvuj/nF9m2+PDtt1eiHPBr1oIfhCChQMBw6Aw0UulqTKZdfVvfG7VcfIqLG9bcldL/+pdWTLxLUy8Qq38heUIjh4XlzZxzQm19lLFlr8vdQ97rjZVOLf8nclzckbcD4wxXMidpX30sFd37Fv/GtwwhzhxGVAprjbg0gCAEeIgwCZyTV2Z1REEW8O4py0wsjeloKoMr6iCY6dP92H6Vw/oTyICIthibxjm/DfN9lVz8IqtqKYLUXfoKVMVQVVJOElGjrnnUt9T9wbgp8AyYKaGlqingHZU/uG2NTZSVqwHQTWkx9hxjkpWDaCg6Ckj5qebgBVbT3V3NNXMSiWSDdGV3hrtzla7J+duwPOToIg42ChPQOQjspnSlp1V+Gjdged7+8UN5CRAV7a5EdFNwCjEaBR27b3W890TE7g24NAP/mMDXRWrGoFPQI9ls/MWO2dWFAar/xcOIImbbpA3zgAAAABJRU5ErkJggg==);\n",
       "        }\n",
       "    </style>\n",
       "    <div>\n",
       "        <a href=\"https://bokeh.org\" target=\"_blank\" class=\"bk-notebook-logo\"></a>\n",
       "        <span id=\"dd6255fd-ca00-47e1-83fc-c3e4406aebf4\">Loading BokehJS ...</span>\n",
       "    </div>\n"
      ]
     },
     "metadata": {},
     "output_type": "display_data"
    },
    {
     "data": {
      "application/javascript": [
       "'use strict';\n",
       "(function(root) {\n",
       "  function now() {\n",
       "    return new Date();\n",
       "  }\n",
       "\n",
       "  const force = true;\n",
       "\n",
       "  if (typeof root._bokeh_onload_callbacks === \"undefined\" || force === true) {\n",
       "    root._bokeh_onload_callbacks = [];\n",
       "    root._bokeh_is_loading = undefined;\n",
       "  }\n",
       "\n",
       "const JS_MIME_TYPE = 'application/javascript';\n",
       "  const HTML_MIME_TYPE = 'text/html';\n",
       "  const EXEC_MIME_TYPE = 'application/vnd.bokehjs_exec.v0+json';\n",
       "  const CLASS_NAME = 'output_bokeh rendered_html';\n",
       "\n",
       "  /**\n",
       "   * Render data to the DOM node\n",
       "   */\n",
       "  function render(props, node) {\n",
       "    const script = document.createElement(\"script\");\n",
       "    node.appendChild(script);\n",
       "  }\n",
       "\n",
       "  /**\n",
       "   * Handle when an output is cleared or removed\n",
       "   */\n",
       "  function handleClearOutput(event, handle) {\n",
       "    function drop(id) {\n",
       "      const view = Bokeh.index.get_by_id(id)\n",
       "      if (view != null) {\n",
       "        view.model.document.clear()\n",
       "        Bokeh.index.delete(view)\n",
       "      }\n",
       "    }\n",
       "\n",
       "    const cell = handle.cell;\n",
       "\n",
       "    const id = cell.output_area._bokeh_element_id;\n",
       "    const server_id = cell.output_area._bokeh_server_id;\n",
       "\n",
       "    // Clean up Bokeh references\n",
       "    if (id != null) {\n",
       "      drop(id)\n",
       "    }\n",
       "\n",
       "    if (server_id !== undefined) {\n",
       "      // Clean up Bokeh references\n",
       "      const cmd_clean = \"from bokeh.io.state import curstate; print(curstate().uuid_to_server['\" + server_id + \"'].get_sessions()[0].document.roots[0]._id)\";\n",
       "      cell.notebook.kernel.execute(cmd_clean, {\n",
       "        iopub: {\n",
       "          output: function(msg) {\n",
       "            const id = msg.content.text.trim()\n",
       "            drop(id)\n",
       "          }\n",
       "        }\n",
       "      });\n",
       "      // Destroy server and session\n",
       "      const cmd_destroy = \"import bokeh.io.notebook as ion; ion.destroy_server('\" + server_id + \"')\";\n",
       "      cell.notebook.kernel.execute(cmd_destroy);\n",
       "    }\n",
       "  }\n",
       "\n",
       "  /**\n",
       "   * Handle when a new output is added\n",
       "   */\n",
       "  function handleAddOutput(event, handle) {\n",
       "    const output_area = handle.output_area;\n",
       "    const output = handle.output;\n",
       "\n",
       "    // limit handleAddOutput to display_data with EXEC_MIME_TYPE content only\n",
       "    if ((output.output_type != \"display_data\") || (!Object.prototype.hasOwnProperty.call(output.data, EXEC_MIME_TYPE))) {\n",
       "      return\n",
       "    }\n",
       "\n",
       "    const toinsert = output_area.element.find(\".\" + CLASS_NAME.split(' ')[0]);\n",
       "\n",
       "    if (output.metadata[EXEC_MIME_TYPE][\"id\"] !== undefined) {\n",
       "      toinsert[toinsert.length - 1].firstChild.textContent = output.data[JS_MIME_TYPE];\n",
       "      // store reference to embed id on output_area\n",
       "      output_area._bokeh_element_id = output.metadata[EXEC_MIME_TYPE][\"id\"];\n",
       "    }\n",
       "    if (output.metadata[EXEC_MIME_TYPE][\"server_id\"] !== undefined) {\n",
       "      const bk_div = document.createElement(\"div\");\n",
       "      bk_div.innerHTML = output.data[HTML_MIME_TYPE];\n",
       "      const script_attrs = bk_div.children[0].attributes;\n",
       "      for (let i = 0; i < script_attrs.length; i++) {\n",
       "        toinsert[toinsert.length - 1].firstChild.setAttribute(script_attrs[i].name, script_attrs[i].value);\n",
       "        toinsert[toinsert.length - 1].firstChild.textContent = bk_div.children[0].textContent\n",
       "      }\n",
       "      // store reference to server id on output_area\n",
       "      output_area._bokeh_server_id = output.metadata[EXEC_MIME_TYPE][\"server_id\"];\n",
       "    }\n",
       "  }\n",
       "\n",
       "  function register_renderer(events, OutputArea) {\n",
       "\n",
       "    function append_mime(data, metadata, element) {\n",
       "      // create a DOM node to render to\n",
       "      const toinsert = this.create_output_subarea(\n",
       "        metadata,\n",
       "        CLASS_NAME,\n",
       "        EXEC_MIME_TYPE\n",
       "      );\n",
       "      this.keyboard_manager.register_events(toinsert);\n",
       "      // Render to node\n",
       "      const props = {data: data, metadata: metadata[EXEC_MIME_TYPE]};\n",
       "      render(props, toinsert[toinsert.length - 1]);\n",
       "      element.append(toinsert);\n",
       "      return toinsert\n",
       "    }\n",
       "\n",
       "    /* Handle when an output is cleared or removed */\n",
       "    events.on('clear_output.CodeCell', handleClearOutput);\n",
       "    events.on('delete.Cell', handleClearOutput);\n",
       "\n",
       "    /* Handle when a new output is added */\n",
       "    events.on('output_added.OutputArea', handleAddOutput);\n",
       "\n",
       "    /**\n",
       "     * Register the mime type and append_mime function with output_area\n",
       "     */\n",
       "    OutputArea.prototype.register_mime_type(EXEC_MIME_TYPE, append_mime, {\n",
       "      /* Is output safe? */\n",
       "      safe: true,\n",
       "      /* Index of renderer in `output_area.display_order` */\n",
       "      index: 0\n",
       "    });\n",
       "  }\n",
       "\n",
       "  // register the mime type if in Jupyter Notebook environment and previously unregistered\n",
       "  if (root.Jupyter !== undefined) {\n",
       "    const events = require('base/js/events');\n",
       "    const OutputArea = require('notebook/js/outputarea').OutputArea;\n",
       "\n",
       "    if (OutputArea.prototype.mime_types().indexOf(EXEC_MIME_TYPE) == -1) {\n",
       "      register_renderer(events, OutputArea);\n",
       "    }\n",
       "  }\n",
       "  if (typeof (root._bokeh_timeout) === \"undefined\" || force === true) {\n",
       "    root._bokeh_timeout = Date.now() + 5000;\n",
       "    root._bokeh_failed_load = false;\n",
       "  }\n",
       "\n",
       "  const NB_LOAD_WARNING = {'data': {'text/html':\n",
       "     \"<div style='background-color: #fdd'>\\n\"+\n",
       "     \"<p>\\n\"+\n",
       "     \"BokehJS does not appear to have successfully loaded. If loading BokehJS from CDN, this \\n\"+\n",
       "     \"may be due to a slow or bad network connection. Possible fixes:\\n\"+\n",
       "     \"</p>\\n\"+\n",
       "     \"<ul>\\n\"+\n",
       "     \"<li>re-rerun `output_notebook()` to attempt to load from CDN again, or</li>\\n\"+\n",
       "     \"<li>use INLINE resources instead, as so:</li>\\n\"+\n",
       "     \"</ul>\\n\"+\n",
       "     \"<code>\\n\"+\n",
       "     \"from bokeh.resources import INLINE\\n\"+\n",
       "     \"output_notebook(resources=INLINE)\\n\"+\n",
       "     \"</code>\\n\"+\n",
       "     \"</div>\"}};\n",
       "\n",
       "  function display_loaded(error = null) {\n",
       "    const el = document.getElementById(\"dd6255fd-ca00-47e1-83fc-c3e4406aebf4\");\n",
       "    if (el != null) {\n",
       "      const html = (() => {\n",
       "        if (typeof root.Bokeh === \"undefined\") {\n",
       "          if (error == null) {\n",
       "            return \"BokehJS is loading ...\";\n",
       "          } else {\n",
       "            return \"BokehJS failed to load.\";\n",
       "          }\n",
       "        } else {\n",
       "          const prefix = `BokehJS ${root.Bokeh.version}`;\n",
       "          if (error == null) {\n",
       "            return `${prefix} successfully loaded.`;\n",
       "          } else {\n",
       "            return `${prefix} <b>encountered errors</b> while loading and may not function as expected.`;\n",
       "          }\n",
       "        }\n",
       "      })();\n",
       "      el.innerHTML = html;\n",
       "\n",
       "      if (error != null) {\n",
       "        const wrapper = document.createElement(\"div\");\n",
       "        wrapper.style.overflow = \"auto\";\n",
       "        wrapper.style.height = \"5em\";\n",
       "        wrapper.style.resize = \"vertical\";\n",
       "        const content = document.createElement(\"div\");\n",
       "        content.style.fontFamily = \"monospace\";\n",
       "        content.style.whiteSpace = \"pre-wrap\";\n",
       "        content.style.backgroundColor = \"rgb(255, 221, 221)\";\n",
       "        content.textContent = error.stack ?? error.toString();\n",
       "        wrapper.append(content);\n",
       "        el.append(wrapper);\n",
       "      }\n",
       "    } else if (Date.now() < root._bokeh_timeout) {\n",
       "      setTimeout(() => display_loaded(error), 100);\n",
       "    }\n",
       "  }\n",
       "\n",
       "  function run_callbacks() {\n",
       "    try {\n",
       "      root._bokeh_onload_callbacks.forEach(function(callback) {\n",
       "        if (callback != null)\n",
       "          callback();\n",
       "      });\n",
       "    } finally {\n",
       "      delete root._bokeh_onload_callbacks\n",
       "    }\n",
       "    console.debug(\"Bokeh: all callbacks have finished\");\n",
       "  }\n",
       "\n",
       "  function load_libs(css_urls, js_urls, callback) {\n",
       "    if (css_urls == null) css_urls = [];\n",
       "    if (js_urls == null) js_urls = [];\n",
       "\n",
       "    root._bokeh_onload_callbacks.push(callback);\n",
       "    if (root._bokeh_is_loading > 0) {\n",
       "      console.debug(\"Bokeh: BokehJS is being loaded, scheduling callback at\", now());\n",
       "      return null;\n",
       "    }\n",
       "    if (js_urls == null || js_urls.length === 0) {\n",
       "      run_callbacks();\n",
       "      return null;\n",
       "    }\n",
       "    console.debug(\"Bokeh: BokehJS not loaded, scheduling load and callback at\", now());\n",
       "    root._bokeh_is_loading = css_urls.length + js_urls.length;\n",
       "\n",
       "    function on_load() {\n",
       "      root._bokeh_is_loading--;\n",
       "      if (root._bokeh_is_loading === 0) {\n",
       "        console.debug(\"Bokeh: all BokehJS libraries/stylesheets loaded\");\n",
       "        run_callbacks()\n",
       "      }\n",
       "    }\n",
       "\n",
       "    function on_error(url) {\n",
       "      console.error(\"failed to load \" + url);\n",
       "    }\n",
       "\n",
       "    for (let i = 0; i < css_urls.length; i++) {\n",
       "      const url = css_urls[i];\n",
       "      const element = document.createElement(\"link\");\n",
       "      element.onload = on_load;\n",
       "      element.onerror = on_error.bind(null, url);\n",
       "      element.rel = \"stylesheet\";\n",
       "      element.type = \"text/css\";\n",
       "      element.href = url;\n",
       "      console.debug(\"Bokeh: injecting link tag for BokehJS stylesheet: \", url);\n",
       "      document.body.appendChild(element);\n",
       "    }\n",
       "\n",
       "    for (let i = 0; i < js_urls.length; i++) {\n",
       "      const url = js_urls[i];\n",
       "      const element = document.createElement('script');\n",
       "      element.onload = on_load;\n",
       "      element.onerror = on_error.bind(null, url);\n",
       "      element.async = false;\n",
       "      element.src = url;\n",
       "      console.debug(\"Bokeh: injecting script tag for BokehJS library: \", url);\n",
       "      document.head.appendChild(element);\n",
       "    }\n",
       "  };\n",
       "\n",
       "  function inject_raw_css(css) {\n",
       "    const element = document.createElement(\"style\");\n",
       "    element.appendChild(document.createTextNode(css));\n",
       "    document.body.appendChild(element);\n",
       "  }\n",
       "\n",
       "  const js_urls = [\"https://cdn.bokeh.org/bokeh/release/bokeh-3.7.3.min.js\", \"https://cdn.bokeh.org/bokeh/release/bokeh-gl-3.7.3.min.js\", \"https://cdn.bokeh.org/bokeh/release/bokeh-widgets-3.7.3.min.js\", \"https://cdn.bokeh.org/bokeh/release/bokeh-tables-3.7.3.min.js\", \"https://cdn.bokeh.org/bokeh/release/bokeh-mathjax-3.7.3.min.js\"];\n",
       "  const css_urls = [];\n",
       "\n",
       "  const inline_js = [    function(Bokeh) {\n",
       "      Bokeh.set_log_level(\"info\");\n",
       "    },\n",
       "function(Bokeh) {\n",
       "    }\n",
       "  ];\n",
       "\n",
       "  function run_inline_js() {\n",
       "    if (root.Bokeh !== undefined || force === true) {\n",
       "      try {\n",
       "            for (let i = 0; i < inline_js.length; i++) {\n",
       "      inline_js[i].call(root, root.Bokeh);\n",
       "    }\n",
       "\n",
       "      } catch (error) {display_loaded(error);throw error;\n",
       "      }if (force === true) {\n",
       "        display_loaded();\n",
       "      }} else if (Date.now() < root._bokeh_timeout) {\n",
       "      setTimeout(run_inline_js, 100);\n",
       "    } else if (!root._bokeh_failed_load) {\n",
       "      console.log(\"Bokeh: BokehJS failed to load within specified timeout.\");\n",
       "      root._bokeh_failed_load = true;\n",
       "    } else if (force !== true) {\n",
       "      const cell = $(document.getElementById(\"dd6255fd-ca00-47e1-83fc-c3e4406aebf4\")).parents('.cell').data().cell;\n",
       "      cell.output_area.append_execute_result(NB_LOAD_WARNING)\n",
       "    }\n",
       "  }\n",
       "\n",
       "  if (root._bokeh_is_loading === 0) {\n",
       "    console.debug(\"Bokeh: BokehJS loaded, going straight to plotting\");\n",
       "    run_inline_js();\n",
       "  } else {\n",
       "    load_libs(css_urls, js_urls, function() {\n",
       "      console.debug(\"Bokeh: BokehJS plotting callback run at\", now());\n",
       "      run_inline_js();\n",
       "    });\n",
       "  }\n",
       "}(window));"
      ],
      "application/vnd.bokehjs_load.v0+json": "'use strict';\n(function(root) {\n  function now() {\n    return new Date();\n  }\n\n  const force = true;\n\n  if (typeof root._bokeh_onload_callbacks === \"undefined\" || force === true) {\n    root._bokeh_onload_callbacks = [];\n    root._bokeh_is_loading = undefined;\n  }\n\n\n  if (typeof (root._bokeh_timeout) === \"undefined\" || force === true) {\n    root._bokeh_timeout = Date.now() + 5000;\n    root._bokeh_failed_load = false;\n  }\n\n  const NB_LOAD_WARNING = {'data': {'text/html':\n     \"<div style='background-color: #fdd'>\\n\"+\n     \"<p>\\n\"+\n     \"BokehJS does not appear to have successfully loaded. If loading BokehJS from CDN, this \\n\"+\n     \"may be due to a slow or bad network connection. Possible fixes:\\n\"+\n     \"</p>\\n\"+\n     \"<ul>\\n\"+\n     \"<li>re-rerun `output_notebook()` to attempt to load from CDN again, or</li>\\n\"+\n     \"<li>use INLINE resources instead, as so:</li>\\n\"+\n     \"</ul>\\n\"+\n     \"<code>\\n\"+\n     \"from bokeh.resources import INLINE\\n\"+\n     \"output_notebook(resources=INLINE)\\n\"+\n     \"</code>\\n\"+\n     \"</div>\"}};\n\n  function display_loaded(error = null) {\n    const el = document.getElementById(\"dd6255fd-ca00-47e1-83fc-c3e4406aebf4\");\n    if (el != null) {\n      const html = (() => {\n        if (typeof root.Bokeh === \"undefined\") {\n          if (error == null) {\n            return \"BokehJS is loading ...\";\n          } else {\n            return \"BokehJS failed to load.\";\n          }\n        } else {\n          const prefix = `BokehJS ${root.Bokeh.version}`;\n          if (error == null) {\n            return `${prefix} successfully loaded.`;\n          } else {\n            return `${prefix} <b>encountered errors</b> while loading and may not function as expected.`;\n          }\n        }\n      })();\n      el.innerHTML = html;\n\n      if (error != null) {\n        const wrapper = document.createElement(\"div\");\n        wrapper.style.overflow = \"auto\";\n        wrapper.style.height = \"5em\";\n        wrapper.style.resize = \"vertical\";\n        const content = document.createElement(\"div\");\n        content.style.fontFamily = \"monospace\";\n        content.style.whiteSpace = \"pre-wrap\";\n        content.style.backgroundColor = \"rgb(255, 221, 221)\";\n        content.textContent = error.stack ?? error.toString();\n        wrapper.append(content);\n        el.append(wrapper);\n      }\n    } else if (Date.now() < root._bokeh_timeout) {\n      setTimeout(() => display_loaded(error), 100);\n    }\n  }\n\n  function run_callbacks() {\n    try {\n      root._bokeh_onload_callbacks.forEach(function(callback) {\n        if (callback != null)\n          callback();\n      });\n    } finally {\n      delete root._bokeh_onload_callbacks\n    }\n    console.debug(\"Bokeh: all callbacks have finished\");\n  }\n\n  function load_libs(css_urls, js_urls, callback) {\n    if (css_urls == null) css_urls = [];\n    if (js_urls == null) js_urls = [];\n\n    root._bokeh_onload_callbacks.push(callback);\n    if (root._bokeh_is_loading > 0) {\n      console.debug(\"Bokeh: BokehJS is being loaded, scheduling callback at\", now());\n      return null;\n    }\n    if (js_urls == null || js_urls.length === 0) {\n      run_callbacks();\n      return null;\n    }\n    console.debug(\"Bokeh: BokehJS not loaded, scheduling load and callback at\", now());\n    root._bokeh_is_loading = css_urls.length + js_urls.length;\n\n    function on_load() {\n      root._bokeh_is_loading--;\n      if (root._bokeh_is_loading === 0) {\n        console.debug(\"Bokeh: all BokehJS libraries/stylesheets loaded\");\n        run_callbacks()\n      }\n    }\n\n    function on_error(url) {\n      console.error(\"failed to load \" + url);\n    }\n\n    for (let i = 0; i < css_urls.length; i++) {\n      const url = css_urls[i];\n      const element = document.createElement(\"link\");\n      element.onload = on_load;\n      element.onerror = on_error.bind(null, url);\n      element.rel = \"stylesheet\";\n      element.type = \"text/css\";\n      element.href = url;\n      console.debug(\"Bokeh: injecting link tag for BokehJS stylesheet: \", url);\n      document.body.appendChild(element);\n    }\n\n    for (let i = 0; i < js_urls.length; i++) {\n      const url = js_urls[i];\n      const element = document.createElement('script');\n      element.onload = on_load;\n      element.onerror = on_error.bind(null, url);\n      element.async = false;\n      element.src = url;\n      console.debug(\"Bokeh: injecting script tag for BokehJS library: \", url);\n      document.head.appendChild(element);\n    }\n  };\n\n  function inject_raw_css(css) {\n    const element = document.createElement(\"style\");\n    element.appendChild(document.createTextNode(css));\n    document.body.appendChild(element);\n  }\n\n  const js_urls = [\"https://cdn.bokeh.org/bokeh/release/bokeh-3.7.3.min.js\", \"https://cdn.bokeh.org/bokeh/release/bokeh-gl-3.7.3.min.js\", \"https://cdn.bokeh.org/bokeh/release/bokeh-widgets-3.7.3.min.js\", \"https://cdn.bokeh.org/bokeh/release/bokeh-tables-3.7.3.min.js\", \"https://cdn.bokeh.org/bokeh/release/bokeh-mathjax-3.7.3.min.js\"];\n  const css_urls = [];\n\n  const inline_js = [    function(Bokeh) {\n      Bokeh.set_log_level(\"info\");\n    },\nfunction(Bokeh) {\n    }\n  ];\n\n  function run_inline_js() {\n    if (root.Bokeh !== undefined || force === true) {\n      try {\n            for (let i = 0; i < inline_js.length; i++) {\n      inline_js[i].call(root, root.Bokeh);\n    }\n\n      } catch (error) {display_loaded(error);throw error;\n      }if (force === true) {\n        display_loaded();\n      }} else if (Date.now() < root._bokeh_timeout) {\n      setTimeout(run_inline_js, 100);\n    } else if (!root._bokeh_failed_load) {\n      console.log(\"Bokeh: BokehJS failed to load within specified timeout.\");\n      root._bokeh_failed_load = true;\n    } else if (force !== true) {\n      const cell = $(document.getElementById(\"dd6255fd-ca00-47e1-83fc-c3e4406aebf4\")).parents('.cell').data().cell;\n      cell.output_area.append_execute_result(NB_LOAD_WARNING)\n    }\n  }\n\n  if (root._bokeh_is_loading === 0) {\n    console.debug(\"Bokeh: BokehJS loaded, going straight to plotting\");\n    run_inline_js();\n  } else {\n    load_libs(css_urls, js_urls, function() {\n      console.debug(\"Bokeh: BokehJS plotting callback run at\", now());\n      run_inline_js();\n    });\n  }\n}(window));"
     },
     "metadata": {},
     "output_type": "display_data"
    }
   ],
   "source": [
    "import pandas as pd\n",
    "import numpy as np\n",
    "#import plotly.graph_objects as go\n",
    "#import yfinance as yf\n",
    "import talib as ta\n",
    "#import matplotlib.pyplot as plt\n",
    "#import math\n",
    "from datetime import date, timedelta\n",
    "from scipy import stats\n",
    "from scipy.signal import argrelextrema\n",
    "from bokeh.plotting import figure, show, column\n",
    "from sklearn.linear_model import LinearRegression\n",
    "import os\n",
    "from backtesting import Backtest, Strategy"
   ]
  },
  {
   "cell_type": "code",
   "execution_count": 2,
   "id": "a046199b-ac4b-417e-945e-dc76d7dfda09",
   "metadata": {
    "execution": {
     "iopub.execute_input": "2025-07-06T17:22:54.723266Z",
     "iopub.status.busy": "2025-07-06T17:22:54.722771Z",
     "iopub.status.idle": "2025-07-06T17:22:54.837937Z",
     "shell.execute_reply": "2025-07-06T17:22:54.837347Z"
    },
    "papermill": {
     "duration": 0.121859,
     "end_time": "2025-07-06T17:22:54.839092",
     "exception": false,
     "start_time": "2025-07-06T17:22:54.717233",
     "status": "completed"
    },
    "tags": []
   },
   "outputs": [],
   "source": [
    "df_d = pd.read_csv('data/dataxd.txt', sep=\"\\t\")\n",
    "df_h=pd.read_csv('data/dataxh.txt',sep='\\t')\n",
    "\n",
    "tickers = [\n",
    "    'SPY',\n",
    "    'META',\n",
    "    'AAPL',\n",
    "    'AMZN',\n",
    "    'NFLX',\n",
    "    'MRNA',\n",
    "    'TSLA',\n",
    "    'TNA',\n",
    "    'GLD',\n",
    "    'SLV',\n",
    "    'USO',\n",
    "    'BAC',\n",
    "    'CVX',\n",
    "    'XOM',\n",
    "    'QQQ',\n",
    "    'MSFT',\n",
    "    'NVDA',\n",
    "    'WMT',\n",
    "    'BA',\n",
    "    'DIS',\n",
    "    'CAT',\n",
    "    'IBM',\n",
    "    'WFC',\n",
    "    'PLTR',\n",
    "    'AMD',\n",
    "    'AVGO',\n",
    "    'HOOD',\n",
    "    'CRWV',\n",
    "    'MSTR',\n",
    "    'UNH',\n",
    "    'GOOG',\n",
    "    'APP',\n",
    "    'UBER'\n",
    "]"
   ]
  },
  {
   "cell_type": "code",
   "execution_count": 3,
   "id": "ed45af73-58d0-42dd-87bc-cc71a71ea72a",
   "metadata": {
    "execution": {
     "iopub.execute_input": "2025-07-06T17:22:54.850011Z",
     "iopub.status.busy": "2025-07-06T17:22:54.849601Z",
     "iopub.status.idle": "2025-07-06T17:22:55.052563Z",
     "shell.execute_reply": "2025-07-06T17:22:55.051952Z"
    },
    "papermill": {
     "duration": 0.209417,
     "end_time": "2025-07-06T17:22:55.053640",
     "exception": false,
     "start_time": "2025-07-06T17:22:54.844223",
     "status": "completed"
    },
    "tags": []
   },
   "outputs": [],
   "source": [
    "df_d=df_d.rename(columns={'datetime': 'fecha'})\n",
    "df_d['fecha'] = pd.to_datetime(df_d['fecha'])\n",
    "df_dia = pd.DataFrame()\n",
    "for ticker in tickers:\n",
    "    company = df_d.query(\"companyName==@ticker\").copy()\n",
    "    company.sort_values(by=['fecha'])\n",
    "    company['SMA20'] = company['Close'].rolling(20).mean()\n",
    "    company.dropna(inplace=False)\n",
    "    company['SMA40'] = company['Close'].rolling(40).mean()\n",
    "    company.dropna(inplace=False)\n",
    "    company['SMA100'] = company['Close'].rolling(100).mean()\n",
    "    company.dropna(inplace=False)\n",
    "    company['SMA200'] = company['Close'].rolling(200).mean()\n",
    "    company.dropna(inplace=False)\n",
    "    df_dia = pd.concat([df_dia, company],ignore_index=True)"
   ]
  },
  {
   "cell_type": "code",
   "execution_count": 4,
   "id": "35daec33-1b08-4593-a4f8-6182e0c84683",
   "metadata": {
    "execution": {
     "iopub.execute_input": "2025-07-06T17:22:55.064757Z",
     "iopub.status.busy": "2025-07-06T17:22:55.064178Z",
     "iopub.status.idle": "2025-07-06T17:22:55.487022Z",
     "shell.execute_reply": "2025-07-06T17:22:55.486447Z"
    },
    "papermill": {
     "duration": 0.429448,
     "end_time": "2025-07-06T17:22:55.488137",
     "exception": false,
     "start_time": "2025-07-06T17:22:55.058689",
     "status": "completed"
    },
    "tags": []
   },
   "outputs": [],
   "source": [
    "df_h['datetime'] = pd.to_datetime(df_h['datetime'])\n",
    "df_h[\"fecha\"] = pd.to_datetime(df_h[\"datetime\"].dt.date)\n",
    "df_hora = pd.DataFrame()\n",
    "for ticker in tickers:\n",
    "    company = df_h.query(\"companyName==@ticker\").copy()\n",
    "    company.sort_values(by=['datetime'])\n",
    "    company['SMA20'] = company['Close'].rolling(20).mean()\n",
    "    company.dropna(inplace=False)\n",
    "    company['SMA40'] = company['Close'].rolling(40).mean()\n",
    "    company.dropna(inplace=False)\n",
    "    company['SMA100'] = company['Close'].rolling(100).mean()\n",
    "    company.dropna(inplace=False)\n",
    "    company['SMA200'] = company['Close'].rolling(200).mean()\n",
    "    company.dropna(inplace=False)\n",
    "    df_hora = pd.concat([df_hora, company],ignore_index=True)"
   ]
  },
  {
   "cell_type": "markdown",
   "id": "209deb1a-7d45-4219-973a-7ffb4799b6fb",
   "metadata": {
    "papermill": {
     "duration": 0.004669,
     "end_time": "2025-07-06T17:22:55.497868",
     "exception": false,
     "start_time": "2025-07-06T17:22:55.493199",
     "status": "completed"
    },
    "tags": []
   },
   "source": [
    "#### Detect Pivots/Fractals"
   ]
  },
  {
   "cell_type": "code",
   "execution_count": 5,
   "id": "9a310f39-0bd7-4343-8d3f-a1dfbd780e53",
   "metadata": {
    "execution": {
     "iopub.execute_input": "2025-07-06T17:22:55.508317Z",
     "iopub.status.busy": "2025-07-06T17:22:55.507847Z",
     "iopub.status.idle": "2025-07-06T17:22:55.560000Z",
     "shell.execute_reply": "2025-07-06T17:22:55.559456Z"
    },
    "papermill": {
     "duration": 0.058655,
     "end_time": "2025-07-06T17:22:55.561167",
     "exception": false,
     "start_time": "2025-07-06T17:22:55.502512",
     "status": "completed"
    },
    "tags": []
   },
   "outputs": [],
   "source": [
    "ord=17\n",
    "max_idx1 = argrelextrema(df_dia['Close'].values, np.greater, order=ord)[0]\n",
    "min_idx1 = argrelextrema(df_dia['Close'].values, np.less, order=ord)[0]\n",
    "# Aplicar el cálculo solo a los índices en la lista\n",
    "df_dia.loc[max_idx1, 'pivotHigh'] = df_dia['High']+1e-3\n",
    "df_dia.loc[min_idx1, 'pivotLow'] = df_dia['Low']-(1e-3)\n",
    "df_dia.loc[max_idx1, 'isPivot'] = 1\n",
    "df_dia.loc[min_idx1, 'isPivot'] = 2\n",
    "\n",
    "#HORA\n",
    "max_idx2 = argrelextrema(df_hora['Close'].values, np.greater, order=ord)[0]\n",
    "min_idx2 = argrelextrema(df_hora['Close'].values, np.less, order=ord)[0]\n",
    "# Aplicar el cálculo solo a los índices en la lista\n",
    "df_hora.loc[max_idx2, 'pivotHigh'] = df_hora['High']+1e-3\n",
    "df_hora.loc[min_idx2, 'pivotLow'] = df_hora['Low']-(1e-3)\n",
    "df_hora.loc[max_idx2, 'isPivot'] = 1\n",
    "df_hora.loc[min_idx2, 'isPivot'] = 2"
   ]
  },
  {
   "cell_type": "code",
   "execution_count": 6,
   "id": "f65fb96a-eb92-4fb7-8adf-a6104b87e42e",
   "metadata": {
    "execution": {
     "iopub.execute_input": "2025-07-06T17:22:55.572123Z",
     "iopub.status.busy": "2025-07-06T17:22:55.571662Z",
     "iopub.status.idle": "2025-07-06T17:22:55.578013Z",
     "shell.execute_reply": "2025-07-06T17:22:55.577504Z"
    },
    "papermill": {
     "duration": 0.01275,
     "end_time": "2025-07-06T17:22:55.578946",
     "exception": false,
     "start_time": "2025-07-06T17:22:55.566196",
     "status": "completed"
    },
    "tags": []
   },
   "outputs": [
    {
     "data": {
      "text/plain": [
       "' dfpl = df_dia.iloc[0:150]\\n\\np = figure(width=2500, height=500,\\n        title=\"DIA\",\\n        background_fill_color=\"#efefef\",\\n        tooltips=[(\"Index\", \"@index\"), (\"Open\", \"@Open\"), (\"High\",\"@High\"), (\"Low\",\"@Low\"), (\"Close\",\"@Close\")]\\n        )\\np.xaxis.major_label_orientation = 0.8 # radians\\np.x_range.range_padding = 0.05\\np.xaxis.axis_line_width = 2\\n\\np.segment(\"index\", \"High\", \"index\",\"Low\",  color=\"black\", line_width=1, source=dfpl)\\n\\ninc = dfpl.query(\"Close>Open\")\\ndec = dfpl.query(\"Open>Close\")\\n\\np.vbar(    \\n    x=\"index\",\\n    width=0.6,\\n    bottom=\"Open\",\\n    top=\"Close\",\\n    fill_color=\"red\",\\n    line_color=\"red\",    \\n    source=dec   \\n)\\n\\np.vbar(    \\n    x=\"index\",\\n    width=0.6,\\n    bottom=\"Open\",\\n    top=\"Close\",\\n    fill_color=\"green\",\\n    line_color=\"green\", \\n    source=inc   \\n)\\n\\np.scatter(x=\"index\", y=\"pivotHigh\", marker=\"circle\", size=10,\\n           line_color=\"navy\", fill_color=\"blue\", alpha=0.5, legend_label=\"Cambio Tendencia Bajista\", source=dfpl[(dfpl.isPivot==1)])\\n\\np.scatter(x=\"index\", y=\"pivotLow\", marker=\"circle\", size=10,\\n           line_color=\"navy\", fill_color=\"green\", alpha=0.5, legend_label=\"Cambio Tendencia Alcista\", source=dfpl[(dfpl.isPivot==2)])\\n\\nshow(p) '"
      ]
     },
     "execution_count": 6,
     "metadata": {},
     "output_type": "execute_result"
    }
   ],
   "source": [
    "#CODIGO DE REVISION DIA\n",
    "\"\"\" dfpl = df_dia.iloc[0:150]\n",
    "\n",
    "p = figure(width=2500, height=500,\n",
    "        title=\"DIA\",\n",
    "        background_fill_color=\"#efefef\",\n",
    "        tooltips=[(\"Index\", \"@index\"), (\"Open\", \"@Open\"), (\"High\",\"@High\"), (\"Low\",\"@Low\"), (\"Close\",\"@Close\")]\n",
    "        )\n",
    "p.xaxis.major_label_orientation = 0.8 # radians\n",
    "p.x_range.range_padding = 0.05\n",
    "p.xaxis.axis_line_width = 2\n",
    "\n",
    "p.segment(\"index\", \"High\", \"index\",\"Low\",  color=\"black\", line_width=1, source=dfpl)\n",
    "\n",
    "inc = dfpl.query(\"Close>Open\")\n",
    "dec = dfpl.query(\"Open>Close\")\n",
    "\n",
    "p.vbar(    \n",
    "    x=\"index\",\n",
    "    width=0.6,\n",
    "    bottom=\"Open\",\n",
    "    top=\"Close\",\n",
    "    fill_color=\"red\",\n",
    "    line_color=\"red\",    \n",
    "    source=dec   \n",
    ")\n",
    "\n",
    "p.vbar(    \n",
    "    x=\"index\",\n",
    "    width=0.6,\n",
    "    bottom=\"Open\",\n",
    "    top=\"Close\",\n",
    "    fill_color=\"green\",\n",
    "    line_color=\"green\", \n",
    "    source=inc   \n",
    ")\n",
    "\n",
    "p.scatter(x=\"index\", y=\"pivotHigh\", marker=\"circle\", size=10,\n",
    "           line_color=\"navy\", fill_color=\"blue\", alpha=0.5, legend_label=\"Cambio Tendencia Bajista\", source=dfpl[(dfpl.isPivot==1)])\n",
    "\n",
    "p.scatter(x=\"index\", y=\"pivotLow\", marker=\"circle\", size=10,\n",
    "           line_color=\"navy\", fill_color=\"green\", alpha=0.5, legend_label=\"Cambio Tendencia Alcista\", source=dfpl[(dfpl.isPivot==2)])\n",
    "\n",
    "show(p) \"\"\""
   ]
  },
  {
   "cell_type": "code",
   "execution_count": 7,
   "id": "c35d4b24-1446-4885-b99b-852e121f7e3e",
   "metadata": {
    "execution": {
     "iopub.execute_input": "2025-07-06T17:22:55.590260Z",
     "iopub.status.busy": "2025-07-06T17:22:55.589793Z",
     "iopub.status.idle": "2025-07-06T17:22:55.594085Z",
     "shell.execute_reply": "2025-07-06T17:22:55.593575Z"
    },
    "papermill": {
     "duration": 0.010709,
     "end_time": "2025-07-06T17:22:55.594935",
     "exception": false,
     "start_time": "2025-07-06T17:22:55.584226",
     "status": "completed"
    },
    "tags": []
   },
   "outputs": [
    {
     "data": {
      "text/plain": [
       "' dfpl = df_hora.iloc[0:150]\\n\\np = figure(width=2500, height=500,\\n        title=\"HORA\",\\n        background_fill_color=\"#efefef\",\\n        tooltips=[(\"Index\", \"@index\"), (\"Open\", \"@Open\"), (\"High\",\"@High\"), (\"Low\",\"@Low\"), (\"Close\",\"@Close\")]\\n        )\\np.xaxis.major_label_orientation = 0.8 # radians\\np.x_range.range_padding = 0.05\\np.xaxis.axis_line_width = 2\\n\\np.segment(\"index\", \"High\", \"index\",\"Low\",  color=\"black\", line_width=1, source=dfpl)\\n\\ninc = dfpl.query(\"Close>Open\")\\ndec = dfpl.query(\"Open>Close\")\\n\\np.vbar(    \\n    x=\"index\",\\n    width=0.6,\\n    bottom=\"Open\",\\n    top=\"Close\",\\n    fill_color=\"red\",\\n    line_color=\"red\",    \\n    source=dec   \\n)\\n\\n\\np.vbar(    \\n    x=\"index\",\\n    width=0.6,\\n    bottom=\"Open\",\\n    top=\"Close\",\\n    fill_color=\"green\",\\n    line_color=\"green\", \\n    source=inc   \\n)\\n\\np.scatter(x=\"index\", y=\"pivotHigh\", marker=\"circle\", size=10,\\n           line_color=\"navy\", fill_color=\"blue\", alpha=0.5, legend_label=\"Cambio Tendencia Bajista\", source=dfpl[(dfpl.isPivot==1)])\\n\\np.scatter(x=\"index\", y=\"pivotLow\", marker=\"circle\", size=10,\\n           line_color=\"navy\", fill_color=\"green\", alpha=0.5, legend_label=\"Cambio Tendencia Alcista\", source=dfpl[(dfpl.isPivot==2)])\\n\\nshow(p) '"
      ]
     },
     "execution_count": 7,
     "metadata": {},
     "output_type": "execute_result"
    }
   ],
   "source": [
    "#CODIGO DE REVISION HORA\n",
    "\"\"\" dfpl = df_hora.iloc[0:150]\n",
    "\n",
    "p = figure(width=2500, height=500,\n",
    "        title=\"HORA\",\n",
    "        background_fill_color=\"#efefef\",\n",
    "        tooltips=[(\"Index\", \"@index\"), (\"Open\", \"@Open\"), (\"High\",\"@High\"), (\"Low\",\"@Low\"), (\"Close\",\"@Close\")]\n",
    "        )\n",
    "p.xaxis.major_label_orientation = 0.8 # radians\n",
    "p.x_range.range_padding = 0.05\n",
    "p.xaxis.axis_line_width = 2\n",
    "\n",
    "p.segment(\"index\", \"High\", \"index\",\"Low\",  color=\"black\", line_width=1, source=dfpl)\n",
    "\n",
    "inc = dfpl.query(\"Close>Open\")\n",
    "dec = dfpl.query(\"Open>Close\")\n",
    "\n",
    "p.vbar(    \n",
    "    x=\"index\",\n",
    "    width=0.6,\n",
    "    bottom=\"Open\",\n",
    "    top=\"Close\",\n",
    "    fill_color=\"red\",\n",
    "    line_color=\"red\",    \n",
    "    source=dec   \n",
    ")\n",
    "\n",
    "\n",
    "p.vbar(    \n",
    "    x=\"index\",\n",
    "    width=0.6,\n",
    "    bottom=\"Open\",\n",
    "    top=\"Close\",\n",
    "    fill_color=\"green\",\n",
    "    line_color=\"green\", \n",
    "    source=inc   \n",
    ")\n",
    "\n",
    "p.scatter(x=\"index\", y=\"pivotHigh\", marker=\"circle\", size=10,\n",
    "           line_color=\"navy\", fill_color=\"blue\", alpha=0.5, legend_label=\"Cambio Tendencia Bajista\", source=dfpl[(dfpl.isPivot==1)])\n",
    "\n",
    "p.scatter(x=\"index\", y=\"pivotLow\", marker=\"circle\", size=10,\n",
    "           line_color=\"navy\", fill_color=\"green\", alpha=0.5, legend_label=\"Cambio Tendencia Alcista\", source=dfpl[(dfpl.isPivot==2)])\n",
    "\n",
    "show(p) \"\"\""
   ]
  },
  {
   "cell_type": "code",
   "execution_count": 8,
   "id": "e0161c5f-b811-4bdf-9a52-dcaedf61980e",
   "metadata": {
    "execution": {
     "iopub.execute_input": "2025-07-06T17:22:55.606530Z",
     "iopub.status.busy": "2025-07-06T17:22:55.606012Z",
     "iopub.status.idle": "2025-07-06T17:22:55.946159Z",
     "shell.execute_reply": "2025-07-06T17:22:55.945579Z"
    },
    "papermill": {
     "duration": 0.347088,
     "end_time": "2025-07-06T17:22:55.947280",
     "exception": false,
     "start_time": "2025-07-06T17:22:55.600192",
     "status": "completed"
    },
    "tags": []
   },
   "outputs": [],
   "source": [
    "## cerca a PM100 o PM200 en diario o el PM20 bajo el PM40\n",
    "def zonabarata(df_dia):\n",
    "    if ((df_dia['isPivot']==2) & ((( df_dia['SMA100']-df_dia['Low']<=2 ) | ( df_dia['SMA200']-df_dia['Low']<=2 )) | (df_dia['SMA20']<df_dia['SMA40']) ) ):    \n",
    "        return 1\n",
    "    else:\n",
    "        return 0\n",
    "df_dia['zbarata'] = df_dia.apply(zonabarata, axis=1)"
   ]
  },
  {
   "cell_type": "code",
   "execution_count": 9,
   "id": "91f41893-8197-48b3-8a91-9780afe8a588",
   "metadata": {
    "execution": {
     "iopub.execute_input": "2025-07-06T17:22:55.958792Z",
     "iopub.status.busy": "2025-07-06T17:22:55.958313Z",
     "iopub.status.idle": "2025-07-06T17:22:55.984829Z",
     "shell.execute_reply": "2025-07-06T17:22:55.984178Z"
    },
    "papermill": {
     "duration": 0.03355,
     "end_time": "2025-07-06T17:22:55.986012",
     "exception": false,
     "start_time": "2025-07-06T17:22:55.952462",
     "status": "completed"
    },
    "tags": []
   },
   "outputs": [],
   "source": [
    "df_hora_final = pd.merge(df_hora, df_dia[['fecha','companyName', 'zbarata']], on = ['companyName','fecha'], how='left')"
   ]
  },
  {
   "cell_type": "code",
   "execution_count": 10,
   "id": "0199ac42",
   "metadata": {
    "execution": {
     "iopub.execute_input": "2025-07-06T17:22:55.997568Z",
     "iopub.status.busy": "2025-07-06T17:22:55.997265Z",
     "iopub.status.idle": "2025-07-06T17:22:56.000447Z",
     "shell.execute_reply": "2025-07-06T17:22:55.999850Z"
    },
    "papermill": {
     "duration": 0.009935,
     "end_time": "2025-07-06T17:22:56.001390",
     "exception": false,
     "start_time": "2025-07-06T17:22:55.991455",
     "status": "completed"
    },
    "tags": []
   },
   "outputs": [],
   "source": [
    "hoy =  np.datetime64('today')\n",
    "fecha_menos_15 = hoy -  np.timedelta64(15, 'D')"
   ]
  },
  {
   "cell_type": "code",
   "execution_count": 11,
   "id": "1a9e8403",
   "metadata": {
    "execution": {
     "iopub.execute_input": "2025-07-06T17:22:56.012719Z",
     "iopub.status.busy": "2025-07-06T17:22:56.012212Z",
     "iopub.status.idle": "2025-07-06T17:22:56.016471Z",
     "shell.execute_reply": "2025-07-06T17:22:56.015907Z"
    },
    "papermill": {
     "duration": 0.010755,
     "end_time": "2025-07-06T17:22:56.017368",
     "exception": false,
     "start_time": "2025-07-06T17:22:56.006613",
     "status": "completed"
    },
    "tags": []
   },
   "outputs": [],
   "source": [
    "df_hora_final[\"datetime2\"] = df_hora_final[\"datetime\"].dt.tz_localize(None)"
   ]
  },
  {
   "cell_type": "code",
   "execution_count": 12,
   "id": "517602b2-5dd0-4fff-9b48-18fa351c0bc8",
   "metadata": {
    "execution": {
     "iopub.execute_input": "2025-07-06T17:22:56.028375Z",
     "iopub.status.busy": "2025-07-06T17:22:56.028165Z",
     "iopub.status.idle": "2025-07-06T17:22:57.798123Z",
     "shell.execute_reply": "2025-07-06T17:22:57.797562Z"
    },
    "papermill": {
     "duration": 1.776594,
     "end_time": "2025-07-06T17:22:57.799213",
     "exception": false,
     "start_time": "2025-07-06T17:22:56.022619",
     "status": "completed"
    },
    "tags": []
   },
   "outputs": [],
   "source": [
    "def pga(df_hora_final):\n",
    "    hoy =  np.datetime64('today')\n",
    "    fecha_menos_15 = hoy -  np.timedelta64(15, 'D')\n",
    "    if ((df_hora_final['zbarata']==1) & (df_hora_final['isPivot']==2) & (df_hora_final[\"datetime2\"]>=fecha_menos_15)):\n",
    "        return 1\n",
    "    else:\n",
    "        return 0\n",
    "df_hora_final['pfuerte'] = df_hora_final.apply(pga, axis=1)"
   ]
  },
  {
   "cell_type": "code",
   "execution_count": 13,
   "id": "91c48d4c-a1a6-4e6e-9624-58cff7dd47cc",
   "metadata": {
    "execution": {
     "iopub.execute_input": "2025-07-06T17:22:57.810326Z",
     "iopub.status.busy": "2025-07-06T17:22:57.809953Z",
     "iopub.status.idle": "2025-07-06T17:22:57.813213Z",
     "shell.execute_reply": "2025-07-06T17:22:57.812758Z"
    },
    "papermill": {
     "duration": 0.009452,
     "end_time": "2025-07-06T17:22:57.813985",
     "exception": false,
     "start_time": "2025-07-06T17:22:57.804533",
     "status": "completed"
    },
    "tags": []
   },
   "outputs": [],
   "source": [
    "#vela verde\n",
    "df_hora_final['Vela_Verde'] = df_hora_final['Close'] > df_hora_final['Open']"
   ]
  },
  {
   "cell_type": "code",
   "execution_count": 14,
   "id": "92d002a2",
   "metadata": {
    "execution": {
     "iopub.execute_input": "2025-07-06T17:22:57.824687Z",
     "iopub.status.busy": "2025-07-06T17:22:57.824509Z",
     "iopub.status.idle": "2025-07-06T17:22:57.830765Z",
     "shell.execute_reply": "2025-07-06T17:22:57.830285Z"
    },
    "papermill": {
     "duration": 0.012577,
     "end_time": "2025-07-06T17:22:57.831605",
     "exception": false,
     "start_time": "2025-07-06T17:22:57.819028",
     "status": "completed"
    },
    "tags": []
   },
   "outputs": [],
   "source": [
    "# Eliminar la columna 'datetime2'\n",
    "df_hora_final = df_hora_final.drop('datetime2', axis=1)"
   ]
  },
  {
   "cell_type": "markdown",
   "id": "82b140a2-360e-48c2-96cc-74db7be4ce7b",
   "metadata": {
    "papermill": {
     "duration": 0.004897,
     "end_time": "2025-07-06T17:22:57.841760",
     "exception": false,
     "start_time": "2025-07-06T17:22:57.836863",
     "status": "completed"
    },
    "tags": []
   },
   "source": [
    "### Detect Price Channel"
   ]
  },
  {
   "cell_type": "code",
   "execution_count": 15,
   "id": "3f795429-366f-462c-b9d1-165ce5438e70",
   "metadata": {
    "execution": {
     "iopub.execute_input": "2025-07-06T17:22:57.852624Z",
     "iopub.status.busy": "2025-07-06T17:22:57.852209Z",
     "iopub.status.idle": "2025-07-06T17:22:57.855922Z",
     "shell.execute_reply": "2025-07-06T17:22:57.855476Z"
    },
    "papermill": {
     "duration": 0.010036,
     "end_time": "2025-07-06T17:22:57.856752",
     "exception": false,
     "start_time": "2025-07-06T17:22:57.846716",
     "status": "completed"
    },
    "tags": []
   },
   "outputs": [],
   "source": [
    "def collect_channel(candle, backevalTrend, trendH):\n",
    "\n",
    "    localdf = dfpl.loc[candle-backevalTrend:candle] #tomar en cuenta el backcandles\n",
    "    highs = localdf.loc[localdf.index.isin(trendH)].High.values\n",
    "    idxhighs = localdf.loc[localdf.index.isin(trendH)].High.index\n",
    "    \n",
    "    if len(highs)>=2:\n",
    "        sl_highs, interc_highs, r_value_h, _, _ = stats.linregress(idxhighs,highs)    \n",
    "        return(sl_highs, interc_highs, r_value_h**2)\n",
    "    else:\n",
    "        return(0,0,0)"
   ]
  },
  {
   "cell_type": "code",
   "execution_count": 16,
   "id": "2ee188de-64f6-4d42-9615-b4255e6612f3",
   "metadata": {
    "execution": {
     "iopub.execute_input": "2025-07-06T17:22:57.867619Z",
     "iopub.status.busy": "2025-07-06T17:22:57.867399Z",
     "iopub.status.idle": "2025-07-06T17:22:57.874148Z",
     "shell.execute_reply": "2025-07-06T17:22:57.873562Z"
    },
    "papermill": {
     "duration": 0.013181,
     "end_time": "2025-07-06T17:22:57.875033",
     "exception": false,
     "start_time": "2025-07-06T17:22:57.861852",
     "status": "completed"
    },
    "tags": []
   },
   "outputs": [],
   "source": [
    "def backcandle(candle):\n",
    "    \n",
    "    trendH = []\n",
    "    backeval = 0\n",
    "    val = 0\n",
    "    \n",
    "    dfpl['PM40_PM20'] = dfpl['SMA40']-dfpl['SMA20']\n",
    "    idinicial = dfpl.index[0]\n",
    "    velas = candle - idinicial\n",
    "    \n",
    "    if(dfpl.loc[candle,\"PM40_PM20\"]>0):        \n",
    "        idx_negativo = dfpl.loc[:candle, 'PM40_PM20'][::-1].lt(0).idxmax()\n",
    "        #print(\"hito1\")\n",
    "        if (idx_negativo==candle):\n",
    "            backeval = candle - velas\n",
    "        else:\n",
    "            backeval = idx_negativo - 4\n",
    "    #print(\"hito2\")\n",
    "  \n",
    "    val = candle - backeval\n",
    "    \n",
    "    #print(\"hito3\")\n",
    "    #print(\"idx_negativo:\",idx_negativo)\n",
    "    \n",
    "    if(val>velas):\n",
    "        backeval=candle-velas\n",
    "    #print(\"hito4\")\n",
    "\n",
    "    #print(\"backeval:\",backeval)\n",
    "        \n",
    "    if((dfpl.loc[backeval,\"PM40_PM20\"]>0) & (val<velas)):\n",
    "        idx_negativo = dfpl.loc[:backeval, 'PM40_PM20'][::-1].lt(0).idxmax()\n",
    "        backeval = idx_negativo - 4    \n",
    "    #print(\"hito5\")\n",
    "\n",
    "    if val>velas:\n",
    "        backeval=candle-velas\n",
    "        \n",
    "    #print(\"hito6\")\n",
    "\n",
    "    #ini = candle - backeval\n",
    "    ini = backeval\n",
    "    trendprev=dfpl.loc[ini:candle]\n",
    "    trend = trendprev.reset_index(drop=False)\n",
    "\n",
    "    idxhighs = trend.index.to_numpy().reshape(-1,1) # Convertir X a una matriz 2D\n",
    "    highs = trend.High.values\n",
    "    modelo1 = LinearRegression()\n",
    "    modelo1.fit(idxhighs, highs)\n",
    "    # Obtener la predicción de la línea de regresión\n",
    "    Y_pred = modelo1.predict(idxhighs)\n",
    "    # Calcular la distancia solo de los puntos que están POR ENCIMA de la línea\n",
    "    trend['Distancia'] = trend[\"High\"] - Y_pred  # Diferencia entre el valor real y la predicción\n",
    "    # Filtrar los puntos que están por encima (donde Y > Y_pred, es decir, Distancia > 0)\n",
    "    df_encima = trend[trend['Distancia'] > 0]\n",
    "    puntos_mas_lejanos = df_encima.nlargest(2, 'Distancia')   #2 puntos mas lejanos    \n",
    "    trendH = puntos_mas_lejanos[\"index\"].tolist()\n",
    "    \n",
    "    puntos_mas_lejanos2 = trend.tail(10).nlargest(2, 'Distancia')\n",
    "    trendH2 = puntos_mas_lejanos2[\"index\"].tolist()\n",
    "    \n",
    "    trendH.extend(trendH2)\n",
    "    trendH.append(candle)  #add ultimo candle\n",
    "    #print(trendH)\n",
    "    return trendH, backeval"
   ]
  },
  {
   "cell_type": "markdown",
   "id": "2fd5556c-2df4-4dec-9391-5bd8757ced2c",
   "metadata": {
    "papermill": {
     "duration": 0.00515,
     "end_time": "2025-07-06T17:22:57.885379",
     "exception": false,
     "start_time": "2025-07-06T17:22:57.880229",
     "status": "completed"
    },
    "tags": []
   },
   "source": [
    "### Detect Break Out"
   ]
  },
  {
   "cell_type": "code",
   "execution_count": 17,
   "id": "9768d05b-6e13-4ce1-a46f-ba7009590045",
   "metadata": {
    "execution": {
     "iopub.execute_input": "2025-07-06T17:22:57.896292Z",
     "iopub.status.busy": "2025-07-06T17:22:57.896037Z",
     "iopub.status.idle": "2025-07-06T17:22:57.899652Z",
     "shell.execute_reply": "2025-07-06T17:22:57.899165Z"
    },
    "papermill": {
     "duration": 0.010126,
     "end_time": "2025-07-06T17:22:57.900530",
     "exception": false,
     "start_time": "2025-07-06T17:22:57.890404",
     "status": "completed"
    },
    "tags": []
   },
   "outputs": [],
   "source": [
    "def trendChannel(row,candle, backeval, window, sl_highs, interc_highs):\n",
    "\n",
    "    if (candle-backeval-window)<0:\n",
    "        return np.nan\n",
    "    ini=candle-backeval\n",
    "    fin=candle+window\n",
    "    trendcurrhigh = np.where(np.logical_or((row.index > fin),  (row.index <  ini)), np.nan, (sl_highs*row.index + interc_highs))\n",
    "    return trendcurrhigh"
   ]
  },
  {
   "cell_type": "code",
   "execution_count": 18,
   "id": "247fab76-8866-4388-890f-37f154b4a4e1",
   "metadata": {
    "execution": {
     "iopub.execute_input": "2025-07-06T17:22:57.911670Z",
     "iopub.status.busy": "2025-07-06T17:22:57.911473Z",
     "iopub.status.idle": "2025-07-06T17:22:57.916290Z",
     "shell.execute_reply": "2025-07-06T17:22:57.915688Z"
    },
    "papermill": {
     "duration": 0.011367,
     "end_time": "2025-07-06T17:22:57.917153",
     "exception": false,
     "start_time": "2025-07-06T17:22:57.905786",
     "status": "completed"
    },
    "tags": []
   },
   "outputs": [],
   "source": [
    "def isBreakOut(candleEval,backcandles, window, start, candle):\n",
    "    if (candleEval-backcandles-window)<0:\n",
    "        return 0\n",
    "\n",
    "    if candleEval==start:\n",
    "        prev_idx = candleEval\n",
    "    else:\n",
    "        prev_idx = candleEval-1\n",
    "        \n",
    "    prev_high = dfpl.loc[prev_idx].High\n",
    "    prev_low = dfpl.loc[prev_idx].Low\n",
    "    prev_close = dfpl.loc[prev_idx].Close\n",
    "    \n",
    "    curr_idx = candleEval\n",
    "    curr_high = dfpl.loc[candleEval].High\n",
    "    curr_low = dfpl.loc[candleEval].Low\n",
    "    curr_close = dfpl.loc[candleEval].Close\n",
    "    curr_open = dfpl.loc[candleEval].Open\n",
    "\n",
    "    trend_prevhigh=dfpl.loc[prev_idx].trendcurrhigh\n",
    "\n",
    "    trend_currhigh=dfpl.loc[candleEval].trendcurrhigh\n",
    "    \n",
    "    if ( prev_low < trend_prevhigh and\n",
    "        prev_close > trend_prevhigh and\n",
    "        curr_open > trend_currhigh and\n",
    "        curr_close > trend_currhigh and\n",
    "        candleEval>candle): #and r_sq_h > 0.9\n",
    "        return 2\n",
    "\n",
    "    elif (curr_open > trend_currhigh and\n",
    "        curr_close > trend_currhigh and candleEval>candle):\n",
    "        return 3\n",
    "    \n",
    "    else:\n",
    "        return np.nan"
   ]
  },
  {
   "cell_type": "code",
   "execution_count": 19,
   "id": "4841bb97-442d-480a-b7db-6452ccb51cd9",
   "metadata": {
    "execution": {
     "iopub.execute_input": "2025-07-06T17:22:57.928339Z",
     "iopub.status.busy": "2025-07-06T17:22:57.927895Z",
     "iopub.status.idle": "2025-07-06T17:22:57.931007Z",
     "shell.execute_reply": "2025-07-06T17:22:57.930544Z"
    },
    "papermill": {
     "duration": 0.009554,
     "end_time": "2025-07-06T17:22:57.931861",
     "exception": false,
     "start_time": "2025-07-06T17:22:57.922307",
     "status": "completed"
    },
    "tags": []
   },
   "outputs": [],
   "source": [
    "def breakpointpos(x):\n",
    "    if x['isBreakOutIni'] in (2,3):\n",
    "        return x['Low']+3e-3\n",
    "    elif x['isBreakOutIni']==1:\n",
    "        return x['High']-3e-3\n",
    "    else:\n",
    "        return np.nan"
   ]
  },
  {
   "cell_type": "markdown",
   "id": "e1ba19c4-6693-47aa-8e8c-4c75ae62d2ea",
   "metadata": {
    "papermill": {
     "duration": 0.005037,
     "end_time": "2025-07-06T17:22:57.942128",
     "exception": false,
     "start_time": "2025-07-06T17:22:57.937091",
     "status": "completed"
    },
    "tags": []
   },
   "source": [
    "##### Hallando casos de Ruptura del Canal Bajista"
   ]
  },
  {
   "cell_type": "code",
   "execution_count": 20,
   "id": "09775609",
   "metadata": {
    "execution": {
     "iopub.execute_input": "2025-07-06T17:22:57.953450Z",
     "iopub.status.busy": "2025-07-06T17:22:57.952947Z",
     "iopub.status.idle": "2025-07-06T17:22:58.009642Z",
     "shell.execute_reply": "2025-07-06T17:22:58.009064Z"
    },
    "papermill": {
     "duration": 0.063401,
     "end_time": "2025-07-06T17:22:58.010619",
     "exception": false,
     "start_time": "2025-07-06T17:22:57.947218",
     "status": "completed"
    },
    "tags": []
   },
   "outputs": [
    {
     "name": "stdout",
     "output_type": "stream",
     "text": [
      "Archivo cargado correctamente.\n"
     ]
    }
   ],
   "source": [
    "#Archivo anterior\n",
    "ruta_archivo='data/pfuerte_h.txt'\n",
    "if os.path.exists(ruta_archivo):\n",
    "    # Cargar el archivo\n",
    "    df_casos2 = pd.read_csv(ruta_archivo, sep='\\t')\n",
    "    print(\"Archivo cargado correctamente.\")\n",
    "else:\n",
    "    # Crear un DataFrame vacío\n",
    "    df_casos2 = pd.DataFrame()\n",
    "    print(\"Archivo no existe. Se creó un DataFrame vacío.\")"
   ]
  },
  {
   "cell_type": "code",
   "execution_count": 21,
   "id": "d22c2719",
   "metadata": {
    "execution": {
     "iopub.execute_input": "2025-07-06T17:22:58.022859Z",
     "iopub.status.busy": "2025-07-06T17:22:58.022384Z",
     "iopub.status.idle": "2025-07-06T17:22:58.043836Z",
     "shell.execute_reply": "2025-07-06T17:22:58.043328Z"
    },
    "papermill": {
     "duration": 0.028399,
     "end_time": "2025-07-06T17:22:58.044731",
     "exception": false,
     "start_time": "2025-07-06T17:22:58.016332",
     "status": "completed"
    },
    "tags": []
   },
   "outputs": [],
   "source": [
    "df_casos2[\"datetime\"] = pd.to_datetime(df_casos2['datetime'])\n",
    "df_casos2[\"datetime2\"] = df_casos2['datetime'].dt.tz_localize(None)"
   ]
  },
  {
   "cell_type": "code",
   "execution_count": 22,
   "id": "356713ec-eef9-4fe4-a974-2c6aeabe26bf",
   "metadata": {
    "execution": {
     "iopub.execute_input": "2025-07-06T17:22:58.056667Z",
     "iopub.status.busy": "2025-07-06T17:22:58.056442Z",
     "iopub.status.idle": "2025-07-06T17:23:02.566774Z",
     "shell.execute_reply": "2025-07-06T17:23:02.566153Z"
    },
    "papermill": {
     "duration": 4.517578,
     "end_time": "2025-07-06T17:23:02.567927",
     "exception": false,
     "start_time": "2025-07-06T17:22:58.050349",
     "status": "completed"
    },
    "tags": []
   },
   "outputs": [],
   "source": [
    "df_casos = pd.DataFrame()\n",
    "caso = 0\n",
    "ticker2 = \"\"\n",
    "window=5\n",
    "backeval=75\n",
    "backevalTrend=0\n",
    "dfpl = pd.DataFrame\n",
    "trendH = []\n",
    "trendL = []\n",
    "cant = 0\n",
    "for i, row in df_hora_final.iterrows():\n",
    "    #if (i==83382):\n",
    "    if(df_hora_final['pfuerte'][i]==1): #posibles casos \n",
    "        print(\"posible caso:\",i, df_hora_final['companyName'][i])\n",
    "        cant = 0\n",
    "        candle = i\n",
    "        cnt = 0\n",
    "        valiniHigh = df_hora_final.loc[candle,\"High\"]\n",
    "        #valiniLow = df.loc[candle,\"Low\"]\n",
    "        ticker = df_hora_final['companyName'][i]\n",
    "        #Reinicio de casos por company\n",
    "        if ticker2 != ticker:\n",
    "            ticker2 = ticker\n",
    "            filtro = df_casos2[(df_casos2['datetime2'] <  fecha_menos_15) & (df_casos2['companyName']==ticker) & (df_casos2[\"ind_posicion\"]==0)].copy()\n",
    "            if filtro.shape[0]>0:\n",
    "                caso = filtro[\"caso\"].max()\n",
    "            else:\n",
    "                caso = 0\n",
    "        dfpl = df_hora_final[(df_hora_final.companyName==ticker)].loc[i-backeval:i+backeval].copy()\n",
    "\n",
    "        #print(\"rowMin:\", dfpl.index[0],\", rowMax:\", dfpl.index[-1])\n",
    "                    \n",
    "        h=1\n",
    "        l=1\n",
    "\n",
    "        cant = cant +1\n",
    "        cantHorasTrend=0\n",
    "        #print(\"opcionH:\",h,\"opcionL:\",l)\n",
    "        trendH, backevalTrend = backcandle(candle)\n",
    "        #print (\"-->trendH:\",trendH)\n",
    "        #print (\"-->backevalTrend:\",backevalTrend)    \n",
    "        \n",
    "        #cantHorasTrend = (dfpl.loc[candle,\"datetime\"] - dfpl.loc[backevalTrend,\"datetime\"]).total_seconds() / 3600\n",
    "\n",
    "        #if (cantHorasTrend>48): #Verificacion de caida por lo menos 2 dias\n",
    "        backevalTrend2 = candle - backevalTrend\n",
    "    \n",
    "                    \n",
    "        #revision de trend negativo indica que esta cayendo, solo me quedo con estos casos\n",
    "        sl_highs, interc_highs, r_sq_h = collect_channel(candle, backevalTrend2, trendH)\n",
    "                \n",
    "\n",
    "        #print(\"======:\", candle)\n",
    "        #print(\"===trendH===\")\n",
    "        #print(trendH)\n",
    "        #print(\"===trendL===\")\n",
    "        #print(trendL)\n",
    "        dfpl.loc[trendH, \"trendH\"] = 1\n",
    "    \n",
    "        \n",
    "        #print(\"sl_highs:\", sl_highs, \", sl_lows:\", sl_lows, \", r_sq_h:\", r_sq_h)\n",
    "        if (sl_highs<=0): #solo tendencias a la baja and ind_vela>0 sl_lows<0 and r_sq_h>=0.7  and sl_highs<=-0.1 and ind_vela>0\n",
    "            #print(\"paso1\")\n",
    "            #crear linea de tendencia high y low\n",
    "            dfpl['trendcurrhigh']  = trendChannel(dfpl,candle,backevalTrend2,window,sl_highs,interc_highs)\n",
    "            \n",
    "           \n",
    "            promVol = dfpl.loc[i-backeval:i][\"Volume\"].mean()\n",
    "\n",
    "            #print(\"ind_vela:\",ind_vela)\n",
    "            \n",
    "            #print(\"paso2\")\n",
    "            dfpl[\"bearishSlope\"] = np.nan #pendiente bajista en vacio\n",
    "            dfpl.loc[i, \"bearishSlope\"] = 1 #pendiente bajista solo al punto evaluado            \n",
    "            dfpl[\"ind_posicion\"] = 0\n",
    "            dfpl.loc[(dfpl.index < i), 'ind_posicion'] = -1\n",
    "            dfpl.loc[(dfpl.index > i), 'ind_posicion'] = 1\n",
    "            dfpl[\"promVol\"] = promVol\n",
    "            #dfpl[\"sl_highs\"] = sl_highs\n",
    "            #dfpl[\"r_sq_h\"] = r_sq_h\n",
    "    \n",
    "            start = dfpl.index[0]\n",
    "            dfpl[\"isBreakOut\"] = [isBreakOut(candleEval, backevalTrend2, window, start, candle) for candleEval in dfpl.index]\n",
    "            # Solo me quedo con el primer BREAK OUT\n",
    "            cnt = dfpl.query(\"isBreakOut in (2,3) and Close>Open\").shape[0] \n",
    "            id=0\n",
    "            id2=0\n",
    "            #print(\"paso3\")\n",
    "            if cnt>0:\n",
    "                #print(\"paso4\")\n",
    "                id = dfpl.query(\"isBreakOut in (2,3) and Close>Open\").index[0]                        \n",
    "                #dfpl['isBreakOutIni'] = np.where(id!=dfpl.index, np.nan, dfpl['isBreakOut'])                        \n",
    "                dfpl.loc[id,'isBreakOutIni'] = 1\n",
    "                #print(\"paso5\")\n",
    "                k=0\n",
    "                while (k<=3):\n",
    "                    dfpl['breakpointpos'] = dfpl.apply(lambda row: breakpointpos(row), axis=1)\n",
    "                    cnt2 = dfpl.query(\"index>@id and isPivot==1\").shape[0]\n",
    "                    #print(\"paso6\")\n",
    "                    if cnt2>0:\n",
    "                        id2 = dfpl.query(\"index>@id and isPivot==1\").index[0]\n",
    "                        dfpl.loc[id2,'isBreakOutFinal'] = 1\n",
    "                        k=4\n",
    "                        #print(\"paso7\")\n",
    "                    else:\n",
    "                        #revisar 25 velas mas\n",
    "                        #print(\"paso8\")\n",
    "                        idfinal = dfpl.index[-1] \n",
    "                        idfinal2 = idfinal+25\n",
    "                        if idfinal2 in df_hora_final[df_hora_final['companyName']==ticker].index:\n",
    "                            dfpl2 = df_hora_final[(df_hora_final.companyName==ticker)].loc[idfinal+1:idfinal2].copy()\n",
    "                            dfpl = pd.concat([dfpl, dfpl2],ignore_index=False)\n",
    "                            #cnt2 = dfpl.query(\"index>@id and isPivot==1\").shape[0]                    \n",
    "                            #if cnt2>0:\n",
    "                            #    id2 = dfpl.query(\"index>@id and isPivot==1\").index[0]\n",
    "                            #    dfpl.loc[id2,'isBreakOutFinal'] = 1\n",
    "                            #else:\n",
    "                            #    dfpl['isBreakOutFinal'] = np.nan\n",
    "                        else:\n",
    "                            dfpl['isBreakOutFinal'] = np.nan  \n",
    "                        k=k+1\n",
    "                \n",
    "            else:\n",
    "                dfpl['isBreakOutIni'] = np.nan                        \n",
    "                dfpl['breakpointpos'] = np.nan\n",
    "    \n",
    "            if cnt>0:\n",
    "                #INSERT CASO\n",
    "                caso=caso+1   \n",
    "                print(\"insert caso:\",i, df_hora_final['companyName'][i])\n",
    "                dfpl[\"caso\"] = caso                        \n",
    "                if len(df_casos)<1:\n",
    "                    df_casos = dfpl\n",
    "                else:\n",
    "                    df_casos = pd.concat([df_casos, dfpl],ignore_index=False)"
   ]
  },
  {
   "cell_type": "code",
   "execution_count": 23,
   "id": "1836fbad",
   "metadata": {
    "execution": {
     "iopub.execute_input": "2025-07-06T17:23:02.579702Z",
     "iopub.status.busy": "2025-07-06T17:23:02.579377Z",
     "iopub.status.idle": "2025-07-06T17:23:02.748648Z",
     "shell.execute_reply": "2025-07-06T17:23:02.747988Z"
    },
    "papermill": {
     "duration": 0.17623,
     "end_time": "2025-07-06T17:23:02.749713",
     "exception": false,
     "start_time": "2025-07-06T17:23:02.573483",
     "status": "completed"
    },
    "tags": []
   },
   "outputs": [
    {
     "name": "stdout",
     "output_type": "stream",
     "text": [
      "4\n",
      "704\n",
      "3\n",
      "478\n",
      "7\n",
      "1232\n",
      "8\n",
      "1233\n",
      "5\n",
      "755\n",
      "3\n",
      "453\n",
      "5\n",
      "755\n",
      "1\n",
      "151\n",
      "5\n",
      "780\n",
      "7\n",
      "1082\n",
      "2\n",
      "377\n",
      "4\n",
      "604\n",
      "5\n",
      "755\n",
      "4\n",
      "604\n",
      "4\n",
      "629\n",
      "4\n",
      "629\n",
      "5\n",
      "780\n",
      "5\n",
      "805\n",
      "4\n",
      "604\n",
      "3\n",
      "453\n",
      "7\n",
      "1107\n",
      "4\n",
      "629\n",
      "3\n",
      "503\n",
      "5\n",
      "755\n",
      "6\n",
      "906\n",
      "8\n",
      "1208\n",
      "5\n",
      "780\n",
      "nan\n",
      "0\n",
      "7\n",
      "1057\n",
      "6\n",
      "858\n",
      "4\n",
      "585\n",
      "3\n",
      "478\n",
      "5\n",
      "880\n"
     ]
    }
   ],
   "source": [
    "df_newCasos2 = pd.DataFrame()\n",
    "for ticker in tickers:\n",
    "    #Informacion anterior por ticker\n",
    "   \n",
    "    filtro = df_casos2[(df_casos2['datetime2'] <  fecha_menos_15) & (df_casos2['companyName']==ticker) & (df_casos2[\"ind_posicion\"]==0)].copy()\n",
    "    caso_max = filtro[\"caso\"].max()\n",
    "    print(caso_max)\n",
    "\n",
    "    df_ticker = df_casos2[(df_casos2['caso'] <=  caso_max) & (df_casos2['companyName']==ticker)].copy()\n",
    "    df_ticker = df_ticker.reset_index(drop=True)\n",
    "\n",
    "    df_ticker = df_ticker.drop('datetime2', axis=1)\n",
    "\n",
    "    print(df_ticker.shape[0])\n",
    "    #df_ticker['datetime'] = pd.to_datetime(df_ticker['datetime'])\n",
    "\n",
    "    #Informacion actual por ticker\n",
    "    df_ticker2 = pd.DataFrame()\n",
    "    if df_casos.shape[0]>0:\n",
    "        df_ticker2 = df_casos[(df_casos['companyName']==ticker)]    \n",
    "        df_ticker2 = df_ticker2.sort_values(by=['datetime'], ascending=[True])\n",
    "\n",
    "    \n",
    "    \n",
    "    df_newCasos2 = pd.concat([df_newCasos2, df_ticker],ignore_index=True)\n",
    "    df_newCasos2 = pd.concat([df_newCasos2, df_ticker2],ignore_index=True)\n"
   ]
  },
  {
   "cell_type": "code",
   "execution_count": 24,
   "id": "eb9b9b8e-724e-4626-b5ca-ad32b1a48f9a",
   "metadata": {
    "execution": {
     "iopub.execute_input": "2025-07-06T17:23:02.762034Z",
     "iopub.status.busy": "2025-07-06T17:23:02.761565Z",
     "iopub.status.idle": "2025-07-06T17:23:03.229682Z",
     "shell.execute_reply": "2025-07-06T17:23:03.228978Z"
    },
    "papermill": {
     "duration": 0.475404,
     "end_time": "2025-07-06T17:23:03.230867",
     "exception": false,
     "start_time": "2025-07-06T17:23:02.755463",
     "status": "completed"
    },
    "tags": []
   },
   "outputs": [],
   "source": [
    "path = 'data/pfuerte_h.txt'\n",
    "\n",
    "# check whether the file exists\n",
    "if os.path.exists(path):\n",
    "    os.remove(path)\n",
    "else:\n",
    "    # if the file does not exist.\n",
    "    print(\"File does not exists. File needs to be created.\")\n",
    "\n",
    "#export DataFrame to text file\n",
    "with open(path, 'a') as f:\n",
    "    df_newCasos2.to_csv(path, header=True, index=None, sep='\\t', mode='w')\n"
   ]
  },
  {
   "cell_type": "markdown",
   "id": "9648944f-0175-4b89-9166-35e564665dc4",
   "metadata": {
    "papermill": {
     "duration": 0.005426,
     "end_time": "2025-07-06T17:23:03.242186",
     "exception": false,
     "start_time": "2025-07-06T17:23:03.236760",
     "status": "completed"
    },
    "tags": []
   },
   "source": [
    "##### BACKTESTING\n",
    "###### Usando paquete backtesting.py"
   ]
  },
  {
   "cell_type": "code",
   "execution_count": 25,
   "id": "1f8ef78b-d223-4cd5-81ca-e55055976336",
   "metadata": {
    "execution": {
     "iopub.execute_input": "2025-07-06T17:23:03.254539Z",
     "iopub.status.busy": "2025-07-06T17:23:03.253954Z",
     "iopub.status.idle": "2025-07-06T17:23:03.263147Z",
     "shell.execute_reply": "2025-07-06T17:23:03.262637Z"
    },
    "papermill": {
     "duration": 0.016513,
     "end_time": "2025-07-06T17:23:03.264170",
     "exception": false,
     "start_time": "2025-07-06T17:23:03.247657",
     "status": "completed"
    },
    "tags": []
   },
   "outputs": [],
   "source": [
    "df_casos2 = df_newCasos2.query(\"isBreakOutIni==1 or isBreakOutFinal==1\").copy()"
   ]
  },
  {
   "cell_type": "code",
   "execution_count": 26,
   "id": "9d491ebc-64db-40f7-9508-da2ef8dd5d70",
   "metadata": {
    "execution": {
     "iopub.execute_input": "2025-07-06T17:23:03.276610Z",
     "iopub.status.busy": "2025-07-06T17:23:03.276081Z",
     "iopub.status.idle": "2025-07-06T17:23:03.298045Z",
     "shell.execute_reply": "2025-07-06T17:23:03.297510Z"
    },
    "papermill": {
     "duration": 0.029169,
     "end_time": "2025-07-06T17:23:03.299150",
     "exception": false,
     "start_time": "2025-07-06T17:23:03.269981",
     "status": "completed"
    },
    "tags": []
   },
   "outputs": [],
   "source": [
    "# =============== BACKTESTING ================= #\n",
    "# obteniendo dataframe backtesting\n",
    "df_backTesting = pd.merge(df_hora_final, df_casos2[['datetime','companyName', 'isBreakOutIni','isBreakOutFinal','caso']], on = ['companyName','datetime'], how='left')\n",
    "# datos de trade se asigna una vela anterior debido a que backtesting.py toma entra como la siguiente vela\n",
    "df_backTesting['isBreakOutIni'] = df_backTesting['isBreakOutIni'].shift(-1)\n",
    "df_backTesting['isBreakOutFinal'] = df_backTesting['isBreakOutFinal'].shift(-1)\n",
    "#modificamos indice con el compo datetime\n",
    "df_backTesting.set_index('datetime', inplace=True)"
   ]
  },
  {
   "cell_type": "code",
   "execution_count": 27,
   "id": "573594ee-623b-4a80-97fb-4259a4f70b1f",
   "metadata": {
    "execution": {
     "iopub.execute_input": "2025-07-06T17:23:03.311452Z",
     "iopub.status.busy": "2025-07-06T17:23:03.311138Z",
     "iopub.status.idle": "2025-07-06T17:23:03.315313Z",
     "shell.execute_reply": "2025-07-06T17:23:03.314821Z"
    },
    "papermill": {
     "duration": 0.011185,
     "end_time": "2025-07-06T17:23:03.316144",
     "exception": false,
     "start_time": "2025-07-06T17:23:03.304959",
     "status": "completed"
    },
    "tags": []
   },
   "outputs": [],
   "source": [
    "#Estrategia\n",
    "class strategyPisoFuerte(Strategy):    \n",
    "    def init(self):        \n",
    "        self.breakout_entry = self.I(lambda x: x, self.data.isBreakOutIni) #Indica la señal entrada al backtesting\n",
    "        self.breakout_exit = self.I(lambda x: x, self.data.isBreakOutFinal) #Indica la señal salida al backtesting\n",
    "\n",
    "    def next(self):       \n",
    "        if self.breakout_entry[-1] == 1:\n",
    "            self.buy()  #COMPRA\n",
    "        elif self.breakout_exit[-1] == 1 and self.position:\n",
    "            self.position.close() #CIERRE"
   ]
  },
  {
   "cell_type": "code",
   "execution_count": 28,
   "id": "e8511b1d-e075-4d93-96e4-989cbde8ce91",
   "metadata": {
    "execution": {
     "iopub.execute_input": "2025-07-06T17:23:03.328044Z",
     "iopub.status.busy": "2025-07-06T17:23:03.327816Z",
     "iopub.status.idle": "2025-07-06T17:23:05.251877Z",
     "shell.execute_reply": "2025-07-06T17:23:05.251327Z"
    },
    "papermill": {
     "duration": 1.931232,
     "end_time": "2025-07-06T17:23:05.253036",
     "exception": false,
     "start_time": "2025-07-06T17:23:03.321804",
     "status": "completed"
    },
    "tags": []
   },
   "outputs": [
    {
     "name": "stderr",
     "output_type": "stream",
     "text": [
      "\r",
      "Backtest.run:   0%|          | 0/2094 [00:00<?, ?bar/s]"
     ]
    },
    {
     "name": "stderr",
     "output_type": "stream",
     "text": [
      "\r",
      "                                                       "
     ]
    },
    {
     "name": "stderr",
     "output_type": "stream",
     "text": [
      "\r"
     ]
    },
    {
     "name": "stderr",
     "output_type": "stream",
     "text": [
      "\r",
      "Backtest.run:   0%|          | 0/2875 [00:00<?, ?bar/s]"
     ]
    },
    {
     "name": "stderr",
     "output_type": "stream",
     "text": [
      "\r",
      "                                                       "
     ]
    },
    {
     "name": "stderr",
     "output_type": "stream",
     "text": [
      "\r"
     ]
    },
    {
     "name": "stderr",
     "output_type": "stream",
     "text": [
      "\r",
      "Backtest.run:   0%|          | 0/2835 [00:00<?, ?bar/s]"
     ]
    },
    {
     "name": "stderr",
     "output_type": "stream",
     "text": [
      "/usr/share/miniconda/envs/test/lib/python3.10/site-packages/backtesting/backtesting.py:954: UserWarning: time=2333: Broker canceled the relative-sized order due to insufficient margin.\n",
      "  warnings.warn(\n",
      "\r",
      "                                                       "
     ]
    },
    {
     "name": "stderr",
     "output_type": "stream",
     "text": [
      "\r"
     ]
    },
    {
     "name": "stderr",
     "output_type": "stream",
     "text": [
      "\r",
      "Backtest.run:   0%|          | 0/2911 [00:00<?, ?bar/s]"
     ]
    },
    {
     "name": "stderr",
     "output_type": "stream",
     "text": [
      "\r",
      "                                                       "
     ]
    },
    {
     "name": "stderr",
     "output_type": "stream",
     "text": [
      "\r"
     ]
    },
    {
     "name": "stderr",
     "output_type": "stream",
     "text": [
      "\r",
      "Backtest.run:   0%|          | 0/2978 [00:00<?, ?bar/s]"
     ]
    },
    {
     "name": "stderr",
     "output_type": "stream",
     "text": [
      "\r",
      "                                                       "
     ]
    },
    {
     "name": "stderr",
     "output_type": "stream",
     "text": [
      "\r"
     ]
    },
    {
     "name": "stderr",
     "output_type": "stream",
     "text": [
      "\r",
      "Backtest.run:   0%|          | 0/2440 [00:00<?, ?bar/s]"
     ]
    },
    {
     "name": "stderr",
     "output_type": "stream",
     "text": [
      "\r",
      "                                                       "
     ]
    },
    {
     "name": "stderr",
     "output_type": "stream",
     "text": [
      "\r"
     ]
    },
    {
     "name": "stderr",
     "output_type": "stream",
     "text": [
      "\r",
      "Backtest.run:   0%|          | 0/2465 [00:00<?, ?bar/s]"
     ]
    },
    {
     "name": "stderr",
     "output_type": "stream",
     "text": [
      "\r",
      "                                                       "
     ]
    },
    {
     "name": "stderr",
     "output_type": "stream",
     "text": [
      "\r"
     ]
    },
    {
     "name": "stderr",
     "output_type": "stream",
     "text": [
      "\r",
      "Backtest.run:   0%|          | 0/2929 [00:00<?, ?bar/s]"
     ]
    },
    {
     "name": "stderr",
     "output_type": "stream",
     "text": [
      "\r",
      "                                                       "
     ]
    },
    {
     "name": "stderr",
     "output_type": "stream",
     "text": [
      "\r"
     ]
    },
    {
     "name": "stderr",
     "output_type": "stream",
     "text": [
      "/tmp/ipykernel_2272/1362682110.py:34: FutureWarning: The behavior of DataFrame concatenation with empty or all-NA entries is deprecated. In a future version, this will no longer exclude empty or all-NA columns when determining the result dtypes. To retain the old behavior, exclude the relevant entries before the concat operation.\n",
      "  tradesprev = pd.concat([tradesprev, tradesdf],ignore_index=True)\n",
      "/tmp/ipykernel_2272/1362682110.py:35: FutureWarning: The behavior of DataFrame concatenation with empty or all-NA entries is deprecated. In a future version, this will no longer exclude empty or all-NA columns when determining the result dtypes. To retain the old behavior, exclude the relevant entries before the concat operation.\n",
      "  estadisticas=pd.concat([estadisticas, stat],ignore_index=True)\n"
     ]
    },
    {
     "name": "stderr",
     "output_type": "stream",
     "text": [
      "\r",
      "Backtest.run:   0%|          | 0/3002 [00:00<?, ?bar/s]"
     ]
    },
    {
     "name": "stderr",
     "output_type": "stream",
     "text": [
      "\r",
      "                                                       "
     ]
    },
    {
     "name": "stderr",
     "output_type": "stream",
     "text": [
      "\r"
     ]
    },
    {
     "name": "stderr",
     "output_type": "stream",
     "text": [
      "\r",
      "Backtest.run:   0%|          | 0/3255 [00:00<?, ?bar/s]"
     ]
    },
    {
     "name": "stderr",
     "output_type": "stream",
     "text": [
      "\r",
      "                                                       "
     ]
    },
    {
     "name": "stderr",
     "output_type": "stream",
     "text": [
      "\r"
     ]
    },
    {
     "name": "stderr",
     "output_type": "stream",
     "text": [
      "\r",
      "Backtest.run:   0%|          | 0/3163 [00:00<?, ?bar/s]"
     ]
    },
    {
     "name": "stderr",
     "output_type": "stream",
     "text": [
      "\r",
      "                                                       "
     ]
    },
    {
     "name": "stderr",
     "output_type": "stream",
     "text": [
      "\r"
     ]
    },
    {
     "name": "stderr",
     "output_type": "stream",
     "text": [
      "\r",
      "Backtest.run:   0%|          | 0/2521 [00:00<?, ?bar/s]"
     ]
    },
    {
     "name": "stderr",
     "output_type": "stream",
     "text": [
      "\r",
      "                                                       "
     ]
    },
    {
     "name": "stderr",
     "output_type": "stream",
     "text": [
      "\r"
     ]
    },
    {
     "name": "stderr",
     "output_type": "stream",
     "text": [
      "\r",
      "Backtest.run:   0%|          | 0/3266 [00:00<?, ?bar/s]"
     ]
    },
    {
     "name": "stderr",
     "output_type": "stream",
     "text": [
      "\r",
      "                                                       "
     ]
    },
    {
     "name": "stderr",
     "output_type": "stream",
     "text": [
      "\r"
     ]
    },
    {
     "name": "stderr",
     "output_type": "stream",
     "text": [
      "\r",
      "Backtest.run:   0%|          | 0/2886 [00:00<?, ?bar/s]"
     ]
    },
    {
     "name": "stderr",
     "output_type": "stream",
     "text": [
      "\r",
      "                                                       "
     ]
    },
    {
     "name": "stderr",
     "output_type": "stream",
     "text": [
      "\r"
     ]
    },
    {
     "name": "stderr",
     "output_type": "stream",
     "text": [
      "\r",
      "Backtest.run:   0%|          | 0/2872 [00:00<?, ?bar/s]"
     ]
    },
    {
     "name": "stderr",
     "output_type": "stream",
     "text": [
      "\r",
      "                                                       "
     ]
    },
    {
     "name": "stderr",
     "output_type": "stream",
     "text": [
      "\r"
     ]
    },
    {
     "name": "stderr",
     "output_type": "stream",
     "text": [
      "\r",
      "Backtest.run:   0%|          | 0/2052 [00:00<?, ?bar/s]"
     ]
    },
    {
     "name": "stderr",
     "output_type": "stream",
     "text": [
      "\r",
      "                                                       "
     ]
    },
    {
     "name": "stderr",
     "output_type": "stream",
     "text": [
      "\r"
     ]
    },
    {
     "name": "stderr",
     "output_type": "stream",
     "text": [
      "\r",
      "Backtest.run:   0%|          | 0/3326 [00:00<?, ?bar/s]"
     ]
    },
    {
     "name": "stderr",
     "output_type": "stream",
     "text": [
      "\r",
      "                                                       "
     ]
    },
    {
     "name": "stderr",
     "output_type": "stream",
     "text": [
      "\r"
     ]
    },
    {
     "name": "stderr",
     "output_type": "stream",
     "text": [
      "\r",
      "Backtest.run:   0%|          | 0/3280 [00:00<?, ?bar/s]"
     ]
    },
    {
     "name": "stderr",
     "output_type": "stream",
     "text": [
      "\r",
      "                                                       "
     ]
    },
    {
     "name": "stderr",
     "output_type": "stream",
     "text": [
      "\r"
     ]
    },
    {
     "name": "stderr",
     "output_type": "stream",
     "text": [
      "\r",
      "Backtest.run:   0%|          | 0/2519 [00:00<?, ?bar/s]"
     ]
    },
    {
     "name": "stderr",
     "output_type": "stream",
     "text": [
      "\r",
      "                                                       "
     ]
    },
    {
     "name": "stderr",
     "output_type": "stream",
     "text": [
      "\r"
     ]
    },
    {
     "name": "stderr",
     "output_type": "stream",
     "text": [
      "\r",
      "Backtest.run:   0%|          | 0/3398 [00:00<?, ?bar/s]"
     ]
    },
    {
     "name": "stderr",
     "output_type": "stream",
     "text": [
      "\r",
      "                                                       "
     ]
    },
    {
     "name": "stderr",
     "output_type": "stream",
     "text": [
      "\r"
     ]
    },
    {
     "name": "stderr",
     "output_type": "stream",
     "text": [
      "\r",
      "Backtest.run:   0%|          | 0/3232 [00:00<?, ?bar/s]"
     ]
    },
    {
     "name": "stderr",
     "output_type": "stream",
     "text": [
      "\r",
      "                                                       "
     ]
    },
    {
     "name": "stderr",
     "output_type": "stream",
     "text": [
      "\r"
     ]
    },
    {
     "name": "stderr",
     "output_type": "stream",
     "text": [
      "\r",
      "Backtest.run:   0%|          | 0/2548 [00:00<?, ?bar/s]"
     ]
    },
    {
     "name": "stderr",
     "output_type": "stream",
     "text": [
      "\r",
      "                                                       "
     ]
    },
    {
     "name": "stderr",
     "output_type": "stream",
     "text": [
      "\r"
     ]
    },
    {
     "name": "stderr",
     "output_type": "stream",
     "text": [
      "\r",
      "Backtest.run:   0%|          | 0/2926 [00:00<?, ?bar/s]"
     ]
    },
    {
     "name": "stderr",
     "output_type": "stream",
     "text": [
      "\r",
      "                                                       "
     ]
    },
    {
     "name": "stderr",
     "output_type": "stream",
     "text": [
      "\r"
     ]
    },
    {
     "name": "stderr",
     "output_type": "stream",
     "text": [
      "\r",
      "Backtest.run:   0%|          | 0/3102 [00:00<?, ?bar/s]"
     ]
    },
    {
     "name": "stderr",
     "output_type": "stream",
     "text": [
      "\r",
      "                                                       "
     ]
    },
    {
     "name": "stderr",
     "output_type": "stream",
     "text": [
      "\r"
     ]
    },
    {
     "name": "stderr",
     "output_type": "stream",
     "text": [
      "\r",
      "Backtest.run:   0%|          | 0/3109 [00:00<?, ?bar/s]"
     ]
    },
    {
     "name": "stderr",
     "output_type": "stream",
     "text": [
      "\r",
      "                                                       "
     ]
    },
    {
     "name": "stderr",
     "output_type": "stream",
     "text": [
      "\r"
     ]
    },
    {
     "name": "stderr",
     "output_type": "stream",
     "text": [
      "\r",
      "Backtest.run:   0%|          | 0/3281 [00:00<?, ?bar/s]"
     ]
    },
    {
     "name": "stderr",
     "output_type": "stream",
     "text": [
      "\r",
      "                                                       "
     ]
    },
    {
     "name": "stderr",
     "output_type": "stream",
     "text": [
      "\r"
     ]
    },
    {
     "name": "stderr",
     "output_type": "stream",
     "text": [
      "\r",
      "Backtest.run:   0%|          | 0/3237 [00:00<?, ?bar/s]"
     ]
    },
    {
     "name": "stderr",
     "output_type": "stream",
     "text": [
      "\r",
      "                                                       "
     ]
    },
    {
     "name": "stderr",
     "output_type": "stream",
     "text": [
      "\r"
     ]
    },
    {
     "name": "stderr",
     "output_type": "stream",
     "text": [
      "\r",
      "Backtest.run:   0%|          | 0/498 [00:00<?, ?bar/s]"
     ]
    },
    {
     "name": "stderr",
     "output_type": "stream",
     "text": [
      "\r",
      "                                                      "
     ]
    },
    {
     "name": "stderr",
     "output_type": "stream",
     "text": [
      "\r"
     ]
    },
    {
     "name": "stderr",
     "output_type": "stream",
     "text": [
      "/tmp/ipykernel_2272/1362682110.py:34: FutureWarning: The behavior of DataFrame concatenation with empty or all-NA entries is deprecated. In a future version, this will no longer exclude empty or all-NA columns when determining the result dtypes. To retain the old behavior, exclude the relevant entries before the concat operation.\n",
      "  tradesprev = pd.concat([tradesprev, tradesdf],ignore_index=True)\n",
      "/tmp/ipykernel_2272/1362682110.py:35: FutureWarning: The behavior of DataFrame concatenation with empty or all-NA entries is deprecated. In a future version, this will no longer exclude empty or all-NA columns when determining the result dtypes. To retain the old behavior, exclude the relevant entries before the concat operation.\n",
      "  estadisticas=pd.concat([estadisticas, stat],ignore_index=True)\n"
     ]
    },
    {
     "name": "stderr",
     "output_type": "stream",
     "text": [
      "\r",
      "Backtest.run:   0%|          | 0/3282 [00:00<?, ?bar/s]"
     ]
    },
    {
     "name": "stderr",
     "output_type": "stream",
     "text": [
      "\r",
      "                                                       "
     ]
    },
    {
     "name": "stderr",
     "output_type": "stream",
     "text": [
      "\r"
     ]
    },
    {
     "name": "stderr",
     "output_type": "stream",
     "text": [
      "\r",
      "Backtest.run:   0%|          | 0/3462 [00:00<?, ?bar/s]"
     ]
    },
    {
     "name": "stderr",
     "output_type": "stream",
     "text": [
      "\r",
      "                                                       "
     ]
    },
    {
     "name": "stderr",
     "output_type": "stream",
     "text": [
      "\r"
     ]
    },
    {
     "name": "stderr",
     "output_type": "stream",
     "text": [
      "\r",
      "Backtest.run:   0%|          | 0/3482 [00:00<?, ?bar/s]"
     ]
    },
    {
     "name": "stderr",
     "output_type": "stream",
     "text": [
      "\r",
      "                                                       "
     ]
    },
    {
     "name": "stderr",
     "output_type": "stream",
     "text": [
      "\r"
     ]
    },
    {
     "name": "stderr",
     "output_type": "stream",
     "text": [
      "\r",
      "Backtest.run:   0%|          | 0/1537 [00:00<?, ?bar/s]"
     ]
    },
    {
     "name": "stderr",
     "output_type": "stream",
     "text": [
      "\r",
      "                                                       "
     ]
    },
    {
     "name": "stderr",
     "output_type": "stream",
     "text": [
      "\r"
     ]
    },
    {
     "name": "stderr",
     "output_type": "stream",
     "text": [
      "\r",
      "Backtest.run:   0%|          | 0/3312 [00:00<?, ?bar/s]"
     ]
    },
    {
     "name": "stderr",
     "output_type": "stream",
     "text": [
      "/usr/share/miniconda/envs/test/lib/python3.10/site-packages/backtesting/backtesting.py:954: UserWarning: time=878: Broker canceled the relative-sized order due to insufficient margin.\n",
      "  warnings.warn(\n",
      "\r",
      "                                                       "
     ]
    },
    {
     "name": "stderr",
     "output_type": "stream",
     "text": [
      "\r"
     ]
    }
   ],
   "source": [
    "# Por cada TIcket\n",
    "my_stats = {}\n",
    "estadisticas = pd.DataFrame()          # lista para ticker\n",
    "tradesprev = pd.DataFrame()     # lista para cada caso por ticker\n",
    "for ticker in df_backTesting['companyName'].unique():\n",
    "    ticker_data = df_backTesting[df_backTesting['companyName'] == ticker].copy() #Filtro por cada ticker\n",
    "    bt = Backtest(ticker_data, strategyPisoFuerte, cash=10_000)\n",
    "    my_stats = bt.run()\n",
    "    listTrades = my_stats['_trades']\n",
    "    tradesdf = pd.DataFrame(listTrades) #trades\n",
    "    tradesdf['Ticker'] = ticker\n",
    "    stats_filter={\n",
    "        'Ticker':ticker,\n",
    "        'EntryTime':my_stats['Start'],\n",
    "        'ExitTime':my_stats['End'],\n",
    "        'Return [%]': my_stats['Return [%]'],\n",
    "        'CAGR [%]': my_stats['Return (Ann.) [%]'],\n",
    "        'Sharpe Ratio': my_stats['Sharpe Ratio'],\n",
    "        'Max. Drawdown [%]': my_stats['Max. Drawdown [%]'],\n",
    "        'Win Rate [%]': my_stats['Win Rate [%]'],\n",
    "        '# Trades': my_stats['# Trades'],\n",
    "        'Expectancy [%]': my_stats['Expectancy [%]'],\n",
    "        'Profit Factor': my_stats['Profit Factor'],\n",
    "        'Duration': my_stats['Duration'],\n",
    "        'Avg. Trade [%]':my_stats['Avg. Trade [%]'],\n",
    "        'Max. Trade Duration':my_stats['Max. Trade Duration'],\n",
    "        'Avg. Trade Duration':my_stats['Avg. Trade Duration']\n",
    "    }\n",
    "    stat=pd.DataFrame([stats_filter])\n",
    "    if tradesprev.shape[0]==0:\n",
    "        tradesprev = tradesdf.copy()\n",
    "        estadisticas=stat.copy()\n",
    "    else:\n",
    "        tradesprev = pd.concat([tradesprev, tradesdf],ignore_index=True)\n",
    "        estadisticas=pd.concat([estadisticas, stat],ignore_index=True)\n",
    "    # Mostramos\n",
    "    #bt.plot(resample=False, filename=f\"plot_BreakOUT_{ticker}\")"
   ]
  },
  {
   "cell_type": "code",
   "execution_count": 29,
   "id": "5227501d-6b0d-47c6-9c69-d788c10f2fbf",
   "metadata": {
    "execution": {
     "iopub.execute_input": "2025-07-06T17:23:05.273198Z",
     "iopub.status.busy": "2025-07-06T17:23:05.272736Z",
     "iopub.status.idle": "2025-07-06T17:23:05.279157Z",
     "shell.execute_reply": "2025-07-06T17:23:05.278651Z"
    },
    "papermill": {
     "duration": 0.017499,
     "end_time": "2025-07-06T17:23:05.280136",
     "exception": false,
     "start_time": "2025-07-06T17:23:05.262637",
     "status": "completed"
    },
    "tags": []
   },
   "outputs": [],
   "source": [
    "ini = df_casos2[(df_casos2['isBreakOutIni']==1)].copy()\n",
    "df_casos3_ini=ini.rename(columns={'Open': 'EntryPrice', 'datetime': 'EntryTime', 'companyName': 'Ticker'})[['EntryPrice','Ticker','caso','EntryTime']]\n",
    "final = df_casos2[(df_casos2['isBreakOutFinal']==1)].copy()\n",
    "df_casos3_final=final.rename(columns={'Open': 'ExitPrice', 'datetime': 'ExitTime', 'companyName': 'Ticker'})[['ExitPrice','Ticker','caso','ExitTime']]"
   ]
  },
  {
   "cell_type": "code",
   "execution_count": 30,
   "id": "665ebabb-cb9a-4bc1-86e5-a104dfd1496e",
   "metadata": {
    "execution": {
     "iopub.execute_input": "2025-07-06T17:23:05.299908Z",
     "iopub.status.busy": "2025-07-06T17:23:05.299447Z",
     "iopub.status.idle": "2025-07-06T17:23:05.305064Z",
     "shell.execute_reply": "2025-07-06T17:23:05.304565Z"
    },
    "papermill": {
     "duration": 0.016449,
     "end_time": "2025-07-06T17:23:05.305962",
     "exception": false,
     "start_time": "2025-07-06T17:23:05.289513",
     "status": "completed"
    },
    "tags": []
   },
   "outputs": [],
   "source": [
    "df_casos3=df_casos3_ini.merge(df_casos3_final,on=['Ticker','caso'],how='outer')"
   ]
  },
  {
   "cell_type": "code",
   "execution_count": 31,
   "id": "97d478f6-89ca-4f57-a323-74e71b972187",
   "metadata": {
    "execution": {
     "iopub.execute_input": "2025-07-06T17:23:05.325807Z",
     "iopub.status.busy": "2025-07-06T17:23:05.325312Z",
     "iopub.status.idle": "2025-07-06T17:23:05.331776Z",
     "shell.execute_reply": "2025-07-06T17:23:05.331257Z"
    },
    "papermill": {
     "duration": 0.017377,
     "end_time": "2025-07-06T17:23:05.332686",
     "exception": false,
     "start_time": "2025-07-06T17:23:05.315309",
     "status": "completed"
    },
    "tags": []
   },
   "outputs": [],
   "source": [
    "trades = pd.merge(df_casos3, tradesprev, on = ['EntryTime','Ticker'], how='left')"
   ]
  },
  {
   "cell_type": "code",
   "execution_count": 32,
   "id": "0d09c951-126d-46ed-896c-dc0ad6c35058",
   "metadata": {
    "execution": {
     "iopub.execute_input": "2025-07-06T17:23:05.352729Z",
     "iopub.status.busy": "2025-07-06T17:23:05.352241Z",
     "iopub.status.idle": "2025-07-06T17:23:05.358515Z",
     "shell.execute_reply": "2025-07-06T17:23:05.357948Z"
    },
    "papermill": {
     "duration": 0.017326,
     "end_time": "2025-07-06T17:23:05.359513",
     "exception": false,
     "start_time": "2025-07-06T17:23:05.342187",
     "status": "completed"
    },
    "tags": []
   },
   "outputs": [],
   "source": [
    "def exitPrice(x):\n",
    "    if pd.isna(x['ExitPrice_x']):\n",
    "        return x['ExitPrice_y']\n",
    "    else:\n",
    "        return x['ExitPrice_x']\n",
    "trades['ExitPrice'] = trades.apply(lambda row: exitPrice(row), axis=1)"
   ]
  },
  {
   "cell_type": "code",
   "execution_count": 33,
   "id": "259a2845-bb98-4b60-a8ee-e3b553741564",
   "metadata": {
    "execution": {
     "iopub.execute_input": "2025-07-06T17:23:05.379997Z",
     "iopub.status.busy": "2025-07-06T17:23:05.379401Z",
     "iopub.status.idle": "2025-07-06T17:23:05.384188Z",
     "shell.execute_reply": "2025-07-06T17:23:05.383587Z"
    },
    "papermill": {
     "duration": 0.015949,
     "end_time": "2025-07-06T17:23:05.385115",
     "exception": false,
     "start_time": "2025-07-06T17:23:05.369166",
     "status": "completed"
    },
    "tags": []
   },
   "outputs": [],
   "source": [
    "trades = trades.rename(columns={'EntryPrice_x': 'EntryPrice'})\n",
    "trades = trades.drop(['EntryPrice_y','ExitPrice_x', 'ExitPrice_y'], axis=1)"
   ]
  },
  {
   "cell_type": "code",
   "execution_count": 34,
   "id": "97c42ae5-be6d-4934-8442-8a35530eeab3",
   "metadata": {
    "execution": {
     "iopub.execute_input": "2025-07-06T17:23:05.426916Z",
     "iopub.status.busy": "2025-07-06T17:23:05.426311Z",
     "iopub.status.idle": "2025-07-06T17:23:05.432546Z",
     "shell.execute_reply": "2025-07-06T17:23:05.432023Z"
    },
    "papermill": {
     "duration": 0.038799,
     "end_time": "2025-07-06T17:23:05.433397",
     "exception": false,
     "start_time": "2025-07-06T17:23:05.394598",
     "status": "completed"
    },
    "tags": []
   },
   "outputs": [],
   "source": [
    "def exitTime(x):\n",
    "    if pd.isna(x['ExitTime_x']):\n",
    "        return x['ExitTime_y']\n",
    "    else:\n",
    "        return x['ExitTime_x']\n",
    "trades['ExitTime'] = trades.apply(lambda row: exitTime(row), axis=1)"
   ]
  },
  {
   "cell_type": "code",
   "execution_count": 35,
   "id": "929dd667-1188-4b3e-800c-7299558c0c7e",
   "metadata": {
    "execution": {
     "iopub.execute_input": "2025-07-06T17:23:05.453039Z",
     "iopub.status.busy": "2025-07-06T17:23:05.452583Z",
     "iopub.status.idle": "2025-07-06T17:23:05.459336Z",
     "shell.execute_reply": "2025-07-06T17:23:05.458717Z"
    },
    "papermill": {
     "duration": 0.017539,
     "end_time": "2025-07-06T17:23:05.460286",
     "exception": false,
     "start_time": "2025-07-06T17:23:05.442747",
     "status": "completed"
    },
    "tags": []
   },
   "outputs": [],
   "source": [
    "def duration(x):\n",
    "    if pd.isna(x['Duration']):\n",
    "        if pd.isna(x['ExitTime']):\n",
    "            return pd.NaT\n",
    "        else:\n",
    "            return x['ExitTime']-x['EntryTime']\n",
    "    else:\n",
    "        return x['Duration']\n",
    "trades['Duration'] = trades.apply(lambda row: duration(row), axis=1)"
   ]
  },
  {
   "cell_type": "code",
   "execution_count": 36,
   "id": "ec29de7e-f261-48a2-b6ab-006b7c508ab6",
   "metadata": {
    "execution": {
     "iopub.execute_input": "2025-07-06T17:23:05.480722Z",
     "iopub.status.busy": "2025-07-06T17:23:05.480168Z",
     "iopub.status.idle": "2025-07-06T17:23:05.484098Z",
     "shell.execute_reply": "2025-07-06T17:23:05.483582Z"
    },
    "papermill": {
     "duration": 0.015031,
     "end_time": "2025-07-06T17:23:05.484989",
     "exception": false,
     "start_time": "2025-07-06T17:23:05.469958",
     "status": "completed"
    },
    "tags": []
   },
   "outputs": [],
   "source": [
    "trades = trades.drop(['ExitTime_x', 'ExitTime_y'], axis=1)"
   ]
  },
  {
   "cell_type": "code",
   "execution_count": 37,
   "id": "f0ce0242-c9b1-4dd1-aa39-fe17bd507bfb",
   "metadata": {
    "execution": {
     "iopub.execute_input": "2025-07-06T17:23:05.504791Z",
     "iopub.status.busy": "2025-07-06T17:23:05.504323Z",
     "iopub.status.idle": "2025-07-06T17:23:05.508382Z",
     "shell.execute_reply": "2025-07-06T17:23:05.507885Z"
    },
    "papermill": {
     "duration": 0.014799,
     "end_time": "2025-07-06T17:23:05.509340",
     "exception": false,
     "start_time": "2025-07-06T17:23:05.494541",
     "status": "completed"
    },
    "tags": []
   },
   "outputs": [],
   "source": [
    "trades=trades[['Ticker','EntryTime','ExitTime','EntryPrice','ExitPrice','Duration','Size','EntryBar','ExitBar','ReturnPct','caso']]"
   ]
  },
  {
   "cell_type": "code",
   "execution_count": 38,
   "id": "5e82ec1f",
   "metadata": {
    "execution": {
     "iopub.execute_input": "2025-07-06T17:23:05.529175Z",
     "iopub.status.busy": "2025-07-06T17:23:05.528901Z",
     "iopub.status.idle": "2025-07-06T17:23:05.556506Z",
     "shell.execute_reply": "2025-07-06T17:23:05.555921Z"
    },
    "papermill": {
     "duration": 0.038568,
     "end_time": "2025-07-06T17:23:05.557386",
     "exception": false,
     "start_time": "2025-07-06T17:23:05.518818",
     "status": "completed"
    },
    "tags": []
   },
   "outputs": [],
   "source": [
    "for item in estadisticas['Ticker'].unique():\n",
    "    count = trades[trades[\"Ticker\"] == item].shape[0]\n",
    "    estadisticas.loc[estadisticas['Ticker'] == item, '# Trades'] = count"
   ]
  },
  {
   "cell_type": "code",
   "execution_count": 39,
   "id": "84c95d67-0c03-4025-bb3b-abfa3f8e0535",
   "metadata": {
    "execution": {
     "iopub.execute_input": "2025-07-06T17:23:05.577037Z",
     "iopub.status.busy": "2025-07-06T17:23:05.576790Z",
     "iopub.status.idle": "2025-07-06T17:23:05.587405Z",
     "shell.execute_reply": "2025-07-06T17:23:05.586811Z"
    },
    "papermill": {
     "duration": 0.02141,
     "end_time": "2025-07-06T17:23:05.588371",
     "exception": false,
     "start_time": "2025-07-06T17:23:05.566961",
     "status": "completed"
    },
    "tags": []
   },
   "outputs": [],
   "source": [
    "path = 'data/backtesting'\n",
    "\n",
    "os.makedirs(path, exist_ok=True)\n",
    "\n",
    "path_trades = os.path.join(path, 'trades_pfuerte.txt')\n",
    "path_estadisticas = os.path.join(path, 'estadisticas_pfuerte.txt')\n",
    "\n",
    "for file_path in [path_trades, path_estadisticas]:\n",
    "    if os.path.exists(file_path):\n",
    "        os.remove(file_path)\n",
    "    else:\n",
    "        print(f\"File does not exist: {file_path}. It will be created.\")\n",
    "\n",
    "trades.to_csv(path_trades, header=True, index=False, sep='\\t', mode='w')\n",
    "estadisticas.to_csv(path_estadisticas, header=True, index=False, sep='\\t', mode='w')"
   ]
  }
 ],
 "metadata": {
  "kernelspec": {
   "display_name": "base",
   "language": "python",
   "name": "python3"
  },
  "language_info": {
   "codemirror_mode": {
    "name": "ipython",
    "version": 3
   },
   "file_extension": ".py",
   "mimetype": "text/x-python",
   "name": "python",
   "nbconvert_exporter": "python",
   "pygments_lexer": "ipython3",
   "version": "3.10.18"
  },
  "papermill": {
   "default_parameters": {},
   "duration": 13.428534,
   "end_time": "2025-07-06T17:23:06.114774",
   "environment_variables": {},
   "exception": null,
   "input_path": "pisoFuerteRT.ipynb",
   "output_path": "pisoFuerteRT_out.ipynb",
   "parameters": {},
   "start_time": "2025-07-06T17:22:52.686240",
   "version": "2.6.0"
  }
 },
 "nbformat": 4,
 "nbformat_minor": 5
}